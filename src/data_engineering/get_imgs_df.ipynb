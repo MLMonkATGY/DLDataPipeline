{
 "cells": [
  {
   "cell_type": "code",
   "execution_count": 6,
   "metadata": {},
   "outputs": [],
   "source": [
    "\n",
    "from catboost import CatBoostClassifier, Pool\n",
    "from catboost.utils import eval_metric\n",
    "from sklearn.datasets import make_multilabel_classification\n",
    "from sklearn.model_selection import train_test_split\n",
    "import pandas as pd\n",
    "import sklearn.metrics as metrics\n",
    "from sklearn.metrics import accuracy_score, classification_report\n",
    "import numpy as np\n",
    "import plotly.express as px\n",
    "import shap\n",
    "import seaborn as sns\n",
    "from IPython import display\n",
    "import matplotlib.pyplot as plt\n",
    "import awswrangler as wr\n",
    "import boto3\n",
    "from tqdm import tqdm\n",
    "import requests\n",
    "from PIL import Image\n",
    "from io import BytesIO\n",
    "import os\n",
    "import random\n",
    "from joblib import Parallel , delayed\n"
   ]
  },
  {
   "cell_type": "code",
   "execution_count": 7,
   "metadata": {},
   "outputs": [],
   "source": [
    "wr.config.s3_endpoint_url = \"http://192.168.1.4:8333\"\n"
   ]
  },
  {
   "cell_type": "code",
   "execution_count": 8,
   "metadata": {},
   "outputs": [],
   "source": [
    "vehicleType = \"Saloon - 4 Dr\"\n"
   ]
  },
  {
   "cell_type": "code",
   "execution_count": 9,
   "metadata": {},
   "outputs": [
    {
     "data": {
      "text/html": [
       "<div>\n",
       "<style scoped>\n",
       "    .dataframe tbody tr th:only-of-type {\n",
       "        vertical-align: middle;\n",
       "    }\n",
       "\n",
       "    .dataframe tbody tr th {\n",
       "        vertical-align: top;\n",
       "    }\n",
       "\n",
       "    .dataframe thead th {\n",
       "        text-align: right;\n",
       "    }\n",
       "</style>\n",
       "<table border=\"1\" class=\"dataframe\">\n",
       "  <thead>\n",
       "    <tr style=\"text-align: right;\">\n",
       "      <th></th>\n",
       "      <th>CaseID</th>\n",
       "      <th>Vehicle_Type</th>\n",
       "    </tr>\n",
       "  </thead>\n",
       "  <tbody>\n",
       "    <tr>\n",
       "      <th>0</th>\n",
       "      <td>10000016</td>\n",
       "      <td>Saloon - 4 Dr</td>\n",
       "    </tr>\n",
       "    <tr>\n",
       "      <th>1</th>\n",
       "      <td>10000030</td>\n",
       "      <td>Saloon - 4 Dr</td>\n",
       "    </tr>\n",
       "    <tr>\n",
       "      <th>2</th>\n",
       "      <td>10000038</td>\n",
       "      <td>Saloon - 4 Dr</td>\n",
       "    </tr>\n",
       "    <tr>\n",
       "      <th>3</th>\n",
       "      <td>10000063</td>\n",
       "      <td>Saloon - 4 Dr</td>\n",
       "    </tr>\n",
       "    <tr>\n",
       "      <th>4</th>\n",
       "      <td>10000072</td>\n",
       "      <td>Saloon - 4 Dr</td>\n",
       "    </tr>\n",
       "    <tr>\n",
       "      <th>...</th>\n",
       "      <td>...</td>\n",
       "      <td>...</td>\n",
       "    </tr>\n",
       "    <tr>\n",
       "      <th>255152</th>\n",
       "      <td>13562973</td>\n",
       "      <td>Saloon - 4 Dr</td>\n",
       "    </tr>\n",
       "    <tr>\n",
       "      <th>255153</th>\n",
       "      <td>13563018</td>\n",
       "      <td>Saloon - 4 Dr</td>\n",
       "    </tr>\n",
       "    <tr>\n",
       "      <th>255154</th>\n",
       "      <td>13563063</td>\n",
       "      <td>Saloon - 4 Dr</td>\n",
       "    </tr>\n",
       "    <tr>\n",
       "      <th>255155</th>\n",
       "      <td>13563071</td>\n",
       "      <td>Saloon - 4 Dr</td>\n",
       "    </tr>\n",
       "    <tr>\n",
       "      <th>255156</th>\n",
       "      <td>13563097</td>\n",
       "      <td>Saloon - 4 Dr</td>\n",
       "    </tr>\n",
       "  </tbody>\n",
       "</table>\n",
       "<p>255157 rows × 2 columns</p>\n",
       "</div>"
      ],
      "text/plain": [
       "          CaseID   Vehicle_Type\n",
       "0       10000016  Saloon - 4 Dr\n",
       "1       10000030  Saloon - 4 Dr\n",
       "2       10000038  Saloon - 4 Dr\n",
       "3       10000063  Saloon - 4 Dr\n",
       "4       10000072  Saloon - 4 Dr\n",
       "...          ...            ...\n",
       "255152  13562973  Saloon - 4 Dr\n",
       "255153  13563018  Saloon - 4 Dr\n",
       "255154  13563063  Saloon - 4 Dr\n",
       "255155  13563071  Saloon - 4 Dr\n",
       "255156  13563097  Saloon - 4 Dr\n",
       "\n",
       "[255157 rows x 2 columns]"
      ]
     },
     "execution_count": 9,
     "metadata": {},
     "output_type": "execute_result"
    }
   ],
   "source": [
    "bucket3 = \"scope_case\"\n",
    "myFilter =  lambda x : x[\"Vehicle_Type\"] == vehicleType\n",
    "targetCols = [\"CaseID\", \"Vehicle_Type\"]\n",
    "caseDf = wr.s3.read_parquet(f\"s3://{bucket3}/\" ,partition_filter=myFilter,dataset=True, columns=targetCols)\n",
    "caseDf"
   ]
  },
  {
   "cell_type": "code",
   "execution_count": null,
   "metadata": {},
   "outputs": [],
   "source": []
  },
  {
   "cell_type": "code",
   "execution_count": 10,
   "metadata": {},
   "outputs": [
    {
     "name": "stderr",
     "output_type": "stream",
     "text": [
      "52it [00:50,  1.03it/s]"
     ]
    },
    {
     "name": "stdout",
     "output_type": "stream",
     "text": [
      "103778\n"
     ]
    },
    {
     "name": "stderr",
     "output_type": "stream",
     "text": [
      "\n"
     ]
    }
   ],
   "source": [
    "bucketName = \"raw_imgs\"\n",
    "cli = boto3.client(\n",
    "    \"s3\",\n",
    "    **{\n",
    "        \"endpoint_url\": \"http://192.168.1.4:8333\",\n",
    "    }\n",
    ")\n",
    "paginator = cli.get_paginator(\"list_objects_v2\")\n",
    "operation_parameters = {\"Bucket\": bucketName}\n",
    "page_iterator = paginator.paginate(**operation_parameters)\n",
    "downloadedImgs = []\n",
    "for page in tqdm(page_iterator):\n",
    "    pageContent = page[\"Contents\"]\n",
    "    downloadedCaseId = set([int(x[\"Key\"].split(\"_\")[0]) for x in pageContent])\n",
    "    downloadedImgs.extend(downloadedCaseId)\n",
    "print(len(downloadedImgs))"
   ]
  },
  {
   "cell_type": "code",
   "execution_count": null,
   "metadata": {},
   "outputs": [],
   "source": []
  },
  {
   "cell_type": "code",
   "execution_count": 11,
   "metadata": {},
   "outputs": [],
   "source": [
    "availableImgsCase = set(downloadedImgs).intersection(caseDf[\"CaseID\"].unique().tolist())\n",
    "downloadedCaseLength = len(availableImgsCase)"
   ]
  },
  {
   "cell_type": "code",
   "execution_count": 12,
   "metadata": {},
   "outputs": [],
   "source": [
    "notDownloadedCaseLength = len(caseDf) - downloadedCaseLength"
   ]
  },
  {
   "cell_type": "code",
   "execution_count": 13,
   "metadata": {},
   "outputs": [
    {
     "data": {
      "text/plain": [
       "0.15936854564052721"
      ]
     },
     "execution_count": 13,
     "metadata": {},
     "output_type": "execute_result"
    }
   ],
   "source": [
    "availableRatio = len(availableImgsCase) / len(caseDf)\n",
    "availableRatio"
   ]
  },
  {
   "cell_type": "code",
   "execution_count": 14,
   "metadata": {},
   "outputs": [],
   "source": [
    "trackDf = pd.json_normalize([{\n",
    "    \"label\" : \"available\",\n",
    "    \"cases\" : downloadedCaseLength\n",
    "},\n",
    "                             {\n",
    "    \"label\" : \"not_available\",\n",
    "    \"cases\" : notDownloadedCaseLength\n",
    "}\n",
    "                             \n",
    "                             \n",
    "                             ])"
   ]
  },
  {
   "cell_type": "code",
   "execution_count": 15,
   "metadata": {},
   "outputs": [
    {
     "data": {
      "application/vnd.plotly.v1+json": {
       "config": {
        "plotlyServerURL": "https://plot.ly"
       },
       "data": [
        {
         "domain": {
          "x": [
           0,
           1
          ],
          "y": [
           0,
           1
          ]
         },
         "hovertemplate": "cases=%{value}<extra></extra>",
         "legendgroup": "",
         "name": "",
         "showlegend": false,
         "type": "pie",
         "values": [
          40664,
          214493
         ]
        }
       ],
       "layout": {
        "legend": {
         "tracegroupgap": 0
        },
        "margin": {
         "t": 60
        },
        "template": {
         "data": {
          "bar": [
           {
            "error_x": {
             "color": "#2a3f5f"
            },
            "error_y": {
             "color": "#2a3f5f"
            },
            "marker": {
             "line": {
              "color": "#E5ECF6",
              "width": 0.5
             },
             "pattern": {
              "fillmode": "overlay",
              "size": 10,
              "solidity": 0.2
             }
            },
            "type": "bar"
           }
          ],
          "barpolar": [
           {
            "marker": {
             "line": {
              "color": "#E5ECF6",
              "width": 0.5
             },
             "pattern": {
              "fillmode": "overlay",
              "size": 10,
              "solidity": 0.2
             }
            },
            "type": "barpolar"
           }
          ],
          "carpet": [
           {
            "aaxis": {
             "endlinecolor": "#2a3f5f",
             "gridcolor": "white",
             "linecolor": "white",
             "minorgridcolor": "white",
             "startlinecolor": "#2a3f5f"
            },
            "baxis": {
             "endlinecolor": "#2a3f5f",
             "gridcolor": "white",
             "linecolor": "white",
             "minorgridcolor": "white",
             "startlinecolor": "#2a3f5f"
            },
            "type": "carpet"
           }
          ],
          "choropleth": [
           {
            "colorbar": {
             "outlinewidth": 0,
             "ticks": ""
            },
            "type": "choropleth"
           }
          ],
          "contour": [
           {
            "colorbar": {
             "outlinewidth": 0,
             "ticks": ""
            },
            "colorscale": [
             [
              0,
              "#0d0887"
             ],
             [
              0.1111111111111111,
              "#46039f"
             ],
             [
              0.2222222222222222,
              "#7201a8"
             ],
             [
              0.3333333333333333,
              "#9c179e"
             ],
             [
              0.4444444444444444,
              "#bd3786"
             ],
             [
              0.5555555555555556,
              "#d8576b"
             ],
             [
              0.6666666666666666,
              "#ed7953"
             ],
             [
              0.7777777777777778,
              "#fb9f3a"
             ],
             [
              0.8888888888888888,
              "#fdca26"
             ],
             [
              1,
              "#f0f921"
             ]
            ],
            "type": "contour"
           }
          ],
          "contourcarpet": [
           {
            "colorbar": {
             "outlinewidth": 0,
             "ticks": ""
            },
            "type": "contourcarpet"
           }
          ],
          "heatmap": [
           {
            "colorbar": {
             "outlinewidth": 0,
             "ticks": ""
            },
            "colorscale": [
             [
              0,
              "#0d0887"
             ],
             [
              0.1111111111111111,
              "#46039f"
             ],
             [
              0.2222222222222222,
              "#7201a8"
             ],
             [
              0.3333333333333333,
              "#9c179e"
             ],
             [
              0.4444444444444444,
              "#bd3786"
             ],
             [
              0.5555555555555556,
              "#d8576b"
             ],
             [
              0.6666666666666666,
              "#ed7953"
             ],
             [
              0.7777777777777778,
              "#fb9f3a"
             ],
             [
              0.8888888888888888,
              "#fdca26"
             ],
             [
              1,
              "#f0f921"
             ]
            ],
            "type": "heatmap"
           }
          ],
          "heatmapgl": [
           {
            "colorbar": {
             "outlinewidth": 0,
             "ticks": ""
            },
            "colorscale": [
             [
              0,
              "#0d0887"
             ],
             [
              0.1111111111111111,
              "#46039f"
             ],
             [
              0.2222222222222222,
              "#7201a8"
             ],
             [
              0.3333333333333333,
              "#9c179e"
             ],
             [
              0.4444444444444444,
              "#bd3786"
             ],
             [
              0.5555555555555556,
              "#d8576b"
             ],
             [
              0.6666666666666666,
              "#ed7953"
             ],
             [
              0.7777777777777778,
              "#fb9f3a"
             ],
             [
              0.8888888888888888,
              "#fdca26"
             ],
             [
              1,
              "#f0f921"
             ]
            ],
            "type": "heatmapgl"
           }
          ],
          "histogram": [
           {
            "marker": {
             "pattern": {
              "fillmode": "overlay",
              "size": 10,
              "solidity": 0.2
             }
            },
            "type": "histogram"
           }
          ],
          "histogram2d": [
           {
            "colorbar": {
             "outlinewidth": 0,
             "ticks": ""
            },
            "colorscale": [
             [
              0,
              "#0d0887"
             ],
             [
              0.1111111111111111,
              "#46039f"
             ],
             [
              0.2222222222222222,
              "#7201a8"
             ],
             [
              0.3333333333333333,
              "#9c179e"
             ],
             [
              0.4444444444444444,
              "#bd3786"
             ],
             [
              0.5555555555555556,
              "#d8576b"
             ],
             [
              0.6666666666666666,
              "#ed7953"
             ],
             [
              0.7777777777777778,
              "#fb9f3a"
             ],
             [
              0.8888888888888888,
              "#fdca26"
             ],
             [
              1,
              "#f0f921"
             ]
            ],
            "type": "histogram2d"
           }
          ],
          "histogram2dcontour": [
           {
            "colorbar": {
             "outlinewidth": 0,
             "ticks": ""
            },
            "colorscale": [
             [
              0,
              "#0d0887"
             ],
             [
              0.1111111111111111,
              "#46039f"
             ],
             [
              0.2222222222222222,
              "#7201a8"
             ],
             [
              0.3333333333333333,
              "#9c179e"
             ],
             [
              0.4444444444444444,
              "#bd3786"
             ],
             [
              0.5555555555555556,
              "#d8576b"
             ],
             [
              0.6666666666666666,
              "#ed7953"
             ],
             [
              0.7777777777777778,
              "#fb9f3a"
             ],
             [
              0.8888888888888888,
              "#fdca26"
             ],
             [
              1,
              "#f0f921"
             ]
            ],
            "type": "histogram2dcontour"
           }
          ],
          "mesh3d": [
           {
            "colorbar": {
             "outlinewidth": 0,
             "ticks": ""
            },
            "type": "mesh3d"
           }
          ],
          "parcoords": [
           {
            "line": {
             "colorbar": {
              "outlinewidth": 0,
              "ticks": ""
             }
            },
            "type": "parcoords"
           }
          ],
          "pie": [
           {
            "automargin": true,
            "type": "pie"
           }
          ],
          "scatter": [
           {
            "fillpattern": {
             "fillmode": "overlay",
             "size": 10,
             "solidity": 0.2
            },
            "type": "scatter"
           }
          ],
          "scatter3d": [
           {
            "line": {
             "colorbar": {
              "outlinewidth": 0,
              "ticks": ""
             }
            },
            "marker": {
             "colorbar": {
              "outlinewidth": 0,
              "ticks": ""
             }
            },
            "type": "scatter3d"
           }
          ],
          "scattercarpet": [
           {
            "marker": {
             "colorbar": {
              "outlinewidth": 0,
              "ticks": ""
             }
            },
            "type": "scattercarpet"
           }
          ],
          "scattergeo": [
           {
            "marker": {
             "colorbar": {
              "outlinewidth": 0,
              "ticks": ""
             }
            },
            "type": "scattergeo"
           }
          ],
          "scattergl": [
           {
            "marker": {
             "colorbar": {
              "outlinewidth": 0,
              "ticks": ""
             }
            },
            "type": "scattergl"
           }
          ],
          "scattermapbox": [
           {
            "marker": {
             "colorbar": {
              "outlinewidth": 0,
              "ticks": ""
             }
            },
            "type": "scattermapbox"
           }
          ],
          "scatterpolar": [
           {
            "marker": {
             "colorbar": {
              "outlinewidth": 0,
              "ticks": ""
             }
            },
            "type": "scatterpolar"
           }
          ],
          "scatterpolargl": [
           {
            "marker": {
             "colorbar": {
              "outlinewidth": 0,
              "ticks": ""
             }
            },
            "type": "scatterpolargl"
           }
          ],
          "scatterternary": [
           {
            "marker": {
             "colorbar": {
              "outlinewidth": 0,
              "ticks": ""
             }
            },
            "type": "scatterternary"
           }
          ],
          "surface": [
           {
            "colorbar": {
             "outlinewidth": 0,
             "ticks": ""
            },
            "colorscale": [
             [
              0,
              "#0d0887"
             ],
             [
              0.1111111111111111,
              "#46039f"
             ],
             [
              0.2222222222222222,
              "#7201a8"
             ],
             [
              0.3333333333333333,
              "#9c179e"
             ],
             [
              0.4444444444444444,
              "#bd3786"
             ],
             [
              0.5555555555555556,
              "#d8576b"
             ],
             [
              0.6666666666666666,
              "#ed7953"
             ],
             [
              0.7777777777777778,
              "#fb9f3a"
             ],
             [
              0.8888888888888888,
              "#fdca26"
             ],
             [
              1,
              "#f0f921"
             ]
            ],
            "type": "surface"
           }
          ],
          "table": [
           {
            "cells": {
             "fill": {
              "color": "#EBF0F8"
             },
             "line": {
              "color": "white"
             }
            },
            "header": {
             "fill": {
              "color": "#C8D4E3"
             },
             "line": {
              "color": "white"
             }
            },
            "type": "table"
           }
          ]
         },
         "layout": {
          "annotationdefaults": {
           "arrowcolor": "#2a3f5f",
           "arrowhead": 0,
           "arrowwidth": 1
          },
          "autotypenumbers": "strict",
          "coloraxis": {
           "colorbar": {
            "outlinewidth": 0,
            "ticks": ""
           }
          },
          "colorscale": {
           "diverging": [
            [
             0,
             "#8e0152"
            ],
            [
             0.1,
             "#c51b7d"
            ],
            [
             0.2,
             "#de77ae"
            ],
            [
             0.3,
             "#f1b6da"
            ],
            [
             0.4,
             "#fde0ef"
            ],
            [
             0.5,
             "#f7f7f7"
            ],
            [
             0.6,
             "#e6f5d0"
            ],
            [
             0.7,
             "#b8e186"
            ],
            [
             0.8,
             "#7fbc41"
            ],
            [
             0.9,
             "#4d9221"
            ],
            [
             1,
             "#276419"
            ]
           ],
           "sequential": [
            [
             0,
             "#0d0887"
            ],
            [
             0.1111111111111111,
             "#46039f"
            ],
            [
             0.2222222222222222,
             "#7201a8"
            ],
            [
             0.3333333333333333,
             "#9c179e"
            ],
            [
             0.4444444444444444,
             "#bd3786"
            ],
            [
             0.5555555555555556,
             "#d8576b"
            ],
            [
             0.6666666666666666,
             "#ed7953"
            ],
            [
             0.7777777777777778,
             "#fb9f3a"
            ],
            [
             0.8888888888888888,
             "#fdca26"
            ],
            [
             1,
             "#f0f921"
            ]
           ],
           "sequentialminus": [
            [
             0,
             "#0d0887"
            ],
            [
             0.1111111111111111,
             "#46039f"
            ],
            [
             0.2222222222222222,
             "#7201a8"
            ],
            [
             0.3333333333333333,
             "#9c179e"
            ],
            [
             0.4444444444444444,
             "#bd3786"
            ],
            [
             0.5555555555555556,
             "#d8576b"
            ],
            [
             0.6666666666666666,
             "#ed7953"
            ],
            [
             0.7777777777777778,
             "#fb9f3a"
            ],
            [
             0.8888888888888888,
             "#fdca26"
            ],
            [
             1,
             "#f0f921"
            ]
           ]
          },
          "colorway": [
           "#636efa",
           "#EF553B",
           "#00cc96",
           "#ab63fa",
           "#FFA15A",
           "#19d3f3",
           "#FF6692",
           "#B6E880",
           "#FF97FF",
           "#FECB52"
          ],
          "font": {
           "color": "#2a3f5f"
          },
          "geo": {
           "bgcolor": "white",
           "lakecolor": "white",
           "landcolor": "#E5ECF6",
           "showlakes": true,
           "showland": true,
           "subunitcolor": "white"
          },
          "hoverlabel": {
           "align": "left"
          },
          "hovermode": "closest",
          "mapbox": {
           "style": "light"
          },
          "paper_bgcolor": "white",
          "plot_bgcolor": "#E5ECF6",
          "polar": {
           "angularaxis": {
            "gridcolor": "white",
            "linecolor": "white",
            "ticks": ""
           },
           "bgcolor": "#E5ECF6",
           "radialaxis": {
            "gridcolor": "white",
            "linecolor": "white",
            "ticks": ""
           }
          },
          "scene": {
           "xaxis": {
            "backgroundcolor": "#E5ECF6",
            "gridcolor": "white",
            "gridwidth": 2,
            "linecolor": "white",
            "showbackground": true,
            "ticks": "",
            "zerolinecolor": "white"
           },
           "yaxis": {
            "backgroundcolor": "#E5ECF6",
            "gridcolor": "white",
            "gridwidth": 2,
            "linecolor": "white",
            "showbackground": true,
            "ticks": "",
            "zerolinecolor": "white"
           },
           "zaxis": {
            "backgroundcolor": "#E5ECF6",
            "gridcolor": "white",
            "gridwidth": 2,
            "linecolor": "white",
            "showbackground": true,
            "ticks": "",
            "zerolinecolor": "white"
           }
          },
          "shapedefaults": {
           "line": {
            "color": "#2a3f5f"
           }
          },
          "ternary": {
           "aaxis": {
            "gridcolor": "white",
            "linecolor": "white",
            "ticks": ""
           },
           "baxis": {
            "gridcolor": "white",
            "linecolor": "white",
            "ticks": ""
           },
           "bgcolor": "#E5ECF6",
           "caxis": {
            "gridcolor": "white",
            "linecolor": "white",
            "ticks": ""
           }
          },
          "title": {
           "x": 0.05
          },
          "xaxis": {
           "automargin": true,
           "gridcolor": "white",
           "linecolor": "white",
           "ticks": "",
           "title": {
            "standoff": 15
           },
           "zerolinecolor": "white",
           "zerolinewidth": 2
          },
          "yaxis": {
           "automargin": true,
           "gridcolor": "white",
           "linecolor": "white",
           "ticks": "",
           "title": {
            "standoff": 15
           },
           "zerolinecolor": "white",
           "zerolinewidth": 2
          }
         }
        }
       }
      }
     },
     "metadata": {},
     "output_type": "display_data"
    }
   ],
   "source": [
    "import plotly.express as px\n",
    "\n",
    "fig = px.pie(data_frame=trackDf, values=\"cases\", labels=\"label\")\n",
    "fig.show()"
   ]
  },
  {
   "cell_type": "code",
   "execution_count": 16,
   "metadata": {},
   "outputs": [
    {
     "data": {
      "text/html": [
       "<div>\n",
       "<style scoped>\n",
       "    .dataframe tbody tr th:only-of-type {\n",
       "        vertical-align: middle;\n",
       "    }\n",
       "\n",
       "    .dataframe tbody tr th {\n",
       "        vertical-align: top;\n",
       "    }\n",
       "\n",
       "    .dataframe thead th {\n",
       "        text-align: right;\n",
       "    }\n",
       "</style>\n",
       "<table border=\"1\" class=\"dataframe\">\n",
       "  <thead>\n",
       "    <tr style=\"text-align: right;\">\n",
       "      <th></th>\n",
       "      <th>CaseID</th>\n",
       "      <th>iDOCID</th>\n",
       "      <th>StdDocDesc</th>\n",
       "    </tr>\n",
       "  </thead>\n",
       "  <tbody>\n",
       "    <tr>\n",
       "      <th>0</th>\n",
       "      <td>10375210</td>\n",
       "      <td>456204471.0</td>\n",
       "      <td>Front View</td>\n",
       "    </tr>\n",
       "    <tr>\n",
       "      <th>1</th>\n",
       "      <td>10839776</td>\n",
       "      <td>479277541.0</td>\n",
       "      <td>Front View</td>\n",
       "    </tr>\n",
       "    <tr>\n",
       "      <th>2</th>\n",
       "      <td>10595863</td>\n",
       "      <td>518945875.0</td>\n",
       "      <td>Front View</td>\n",
       "    </tr>\n",
       "    <tr>\n",
       "      <th>3</th>\n",
       "      <td>10324518</td>\n",
       "      <td>453575575.0</td>\n",
       "      <td>Front View</td>\n",
       "    </tr>\n",
       "    <tr>\n",
       "      <th>4</th>\n",
       "      <td>10810372</td>\n",
       "      <td>477799896.0</td>\n",
       "      <td>Front View</td>\n",
       "    </tr>\n",
       "    <tr>\n",
       "      <th>...</th>\n",
       "      <td>...</td>\n",
       "      <td>...</td>\n",
       "      <td>...</td>\n",
       "    </tr>\n",
       "    <tr>\n",
       "      <th>2879426</th>\n",
       "      <td>12981985</td>\n",
       "      <td>651301700.0</td>\n",
       "      <td>Rear View Right</td>\n",
       "    </tr>\n",
       "    <tr>\n",
       "      <th>2879427</th>\n",
       "      <td>13548901</td>\n",
       "      <td>651304978.0</td>\n",
       "      <td>Rear View Right</td>\n",
       "    </tr>\n",
       "    <tr>\n",
       "      <th>2879428</th>\n",
       "      <td>13313567</td>\n",
       "      <td>652815210.0</td>\n",
       "      <td>Rear View Right</td>\n",
       "    </tr>\n",
       "    <tr>\n",
       "      <th>2879429</th>\n",
       "      <td>13551639</td>\n",
       "      <td>654542221.0</td>\n",
       "      <td>Rear View Right</td>\n",
       "    </tr>\n",
       "    <tr>\n",
       "      <th>2879430</th>\n",
       "      <td>13401137</td>\n",
       "      <td>655504422.0</td>\n",
       "      <td>Rear View Right</td>\n",
       "    </tr>\n",
       "  </tbody>\n",
       "</table>\n",
       "<p>2879431 rows × 3 columns</p>\n",
       "</div>"
      ],
      "text/plain": [
       "           CaseID       iDOCID       StdDocDesc\n",
       "0        10375210  456204471.0       Front View\n",
       "1        10839776  479277541.0       Front View\n",
       "2        10595863  518945875.0       Front View\n",
       "3        10324518  453575575.0       Front View\n",
       "4        10810372  477799896.0       Front View\n",
       "...           ...          ...              ...\n",
       "2879426  12981985  651301700.0  Rear View Right\n",
       "2879427  13548901  651304978.0  Rear View Right\n",
       "2879428  13313567  652815210.0  Rear View Right\n",
       "2879429  13551639  654542221.0  Rear View Right\n",
       "2879430  13401137  655504422.0  Rear View Right\n",
       "\n",
       "[2879431 rows x 3 columns]"
      ]
     },
     "execution_count": 16,
     "metadata": {},
     "output_type": "execute_result"
    }
   ],
   "source": [
    "bucket3 = \"scope_file\"\n",
    "targetCols = [\"CaseID\", \"iDOCID\"]\n",
    "filesDf = wr.s3.read_parquet(f\"s3://{bucket3}/\" ,dataset=True, columns=targetCols)\n",
    "filesDf"
   ]
  },
  {
   "cell_type": "code",
   "execution_count": 17,
   "metadata": {},
   "outputs": [
    {
     "data": {
      "text/html": [
       "<div>\n",
       "<style scoped>\n",
       "    .dataframe tbody tr th:only-of-type {\n",
       "        vertical-align: middle;\n",
       "    }\n",
       "\n",
       "    .dataframe tbody tr th {\n",
       "        vertical-align: top;\n",
       "    }\n",
       "\n",
       "    .dataframe thead th {\n",
       "        text-align: right;\n",
       "    }\n",
       "</style>\n",
       "<table border=\"1\" class=\"dataframe\">\n",
       "  <thead>\n",
       "    <tr style=\"text-align: right;\">\n",
       "      <th></th>\n",
       "      <th>CaseID</th>\n",
       "      <th>iDOCID</th>\n",
       "      <th>StdDocDesc</th>\n",
       "    </tr>\n",
       "  </thead>\n",
       "  <tbody>\n",
       "    <tr>\n",
       "      <th>9</th>\n",
       "      <td>10000123</td>\n",
       "      <td>437299477.0</td>\n",
       "      <td>Front View</td>\n",
       "    </tr>\n",
       "    <tr>\n",
       "      <th>10</th>\n",
       "      <td>10000358</td>\n",
       "      <td>437300189.0</td>\n",
       "      <td>Front View</td>\n",
       "    </tr>\n",
       "    <tr>\n",
       "      <th>11</th>\n",
       "      <td>10000449</td>\n",
       "      <td>437304372.0</td>\n",
       "      <td>Front View</td>\n",
       "    </tr>\n",
       "    <tr>\n",
       "      <th>14</th>\n",
       "      <td>10000450</td>\n",
       "      <td>437321843.0</td>\n",
       "      <td>Front View</td>\n",
       "    </tr>\n",
       "    <tr>\n",
       "      <th>16</th>\n",
       "      <td>10000515</td>\n",
       "      <td>437326556.0</td>\n",
       "      <td>Front View</td>\n",
       "    </tr>\n",
       "    <tr>\n",
       "      <th>...</th>\n",
       "      <td>...</td>\n",
       "      <td>...</td>\n",
       "      <td>...</td>\n",
       "    </tr>\n",
       "    <tr>\n",
       "      <th>2795329</th>\n",
       "      <td>13074116</td>\n",
       "      <td>595377127.0</td>\n",
       "      <td>Rear View Right</td>\n",
       "    </tr>\n",
       "    <tr>\n",
       "      <th>2795657</th>\n",
       "      <td>13067177</td>\n",
       "      <td>595451910.0</td>\n",
       "      <td>Rear View Right</td>\n",
       "    </tr>\n",
       "    <tr>\n",
       "      <th>2796900</th>\n",
       "      <td>13079952</td>\n",
       "      <td>595854084.0</td>\n",
       "      <td>Rear View Right</td>\n",
       "    </tr>\n",
       "    <tr>\n",
       "      <th>2799008</th>\n",
       "      <td>13068882</td>\n",
       "      <td>596511595.0</td>\n",
       "      <td>Rear View Right</td>\n",
       "    </tr>\n",
       "    <tr>\n",
       "      <th>2817679</th>\n",
       "      <td>12913298</td>\n",
       "      <td>602508321.0</td>\n",
       "      <td>Rear View Right</td>\n",
       "    </tr>\n",
       "  </tbody>\n",
       "</table>\n",
       "<p>199412 rows × 3 columns</p>\n",
       "</div>"
      ],
      "text/plain": [
       "           CaseID       iDOCID       StdDocDesc\n",
       "9        10000123  437299477.0       Front View\n",
       "10       10000358  437300189.0       Front View\n",
       "11       10000449  437304372.0       Front View\n",
       "14       10000450  437321843.0       Front View\n",
       "16       10000515  437326556.0       Front View\n",
       "...           ...          ...              ...\n",
       "2795329  13074116  595377127.0  Rear View Right\n",
       "2795657  13067177  595451910.0  Rear View Right\n",
       "2796900  13079952  595854084.0  Rear View Right\n",
       "2799008  13068882  596511595.0  Rear View Right\n",
       "2817679  12913298  602508321.0  Rear View Right\n",
       "\n",
       "[199412 rows x 3 columns]"
      ]
     },
     "execution_count": 17,
     "metadata": {},
     "output_type": "execute_result"
    }
   ],
   "source": [
    "filesDf = filesDf[filesDf[\"CaseID\"].isin(availableImgsCase)]\n",
    "filesDf"
   ]
  },
  {
   "cell_type": "code",
   "execution_count": 18,
   "metadata": {},
   "outputs": [
    {
     "data": {
      "text/html": [
       "<div>\n",
       "<style scoped>\n",
       "    .dataframe tbody tr th:only-of-type {\n",
       "        vertical-align: middle;\n",
       "    }\n",
       "\n",
       "    .dataframe tbody tr th {\n",
       "        vertical-align: top;\n",
       "    }\n",
       "\n",
       "    .dataframe thead th {\n",
       "        text-align: right;\n",
       "    }\n",
       "</style>\n",
       "<table border=\"1\" class=\"dataframe\">\n",
       "  <thead>\n",
       "    <tr style=\"text-align: right;\">\n",
       "      <th></th>\n",
       "      <th>vision_bonnet</th>\n",
       "      <th>vision_bumper_front</th>\n",
       "      <th>vision_grille</th>\n",
       "      <th>vision_headlamp_rh</th>\n",
       "      <th>vision_headlamp_lh</th>\n",
       "      <th>vision_door_front_lh</th>\n",
       "      <th>vision_door_front_rh</th>\n",
       "      <th>vision_engine</th>\n",
       "      <th>vision_bumper_rear</th>\n",
       "      <th>vision_misc</th>\n",
       "      <th>...</th>\n",
       "      <th>windscreen_front</th>\n",
       "      <th>rear_compartment</th>\n",
       "      <th>rear_panel</th>\n",
       "      <th>rear_quarter_rh</th>\n",
       "      <th>door_rear_rh</th>\n",
       "      <th>door_mirror_lh</th>\n",
       "      <th>door_rear_lh</th>\n",
       "      <th>windscreen_rear</th>\n",
       "      <th>CaseID</th>\n",
       "      <th>Circumstances_of_Accident</th>\n",
       "    </tr>\n",
       "  </thead>\n",
       "  <tbody>\n",
       "    <tr>\n",
       "      <th>151</th>\n",
       "      <td>1</td>\n",
       "      <td>1</td>\n",
       "      <td>1</td>\n",
       "      <td>1</td>\n",
       "      <td>1</td>\n",
       "      <td>0</td>\n",
       "      <td>0</td>\n",
       "      <td>1</td>\n",
       "      <td>0</td>\n",
       "      <td>0</td>\n",
       "      <td>...</td>\n",
       "      <td>0</td>\n",
       "      <td>0</td>\n",
       "      <td>0</td>\n",
       "      <td>0</td>\n",
       "      <td>0</td>\n",
       "      <td>0</td>\n",
       "      <td>0</td>\n",
       "      <td>0</td>\n",
       "      <td>12660475</td>\n",
       "      <td></td>\n",
       "    </tr>\n",
       "    <tr>\n",
       "      <th>455</th>\n",
       "      <td>1</td>\n",
       "      <td>1</td>\n",
       "      <td>1</td>\n",
       "      <td>1</td>\n",
       "      <td>1</td>\n",
       "      <td>0</td>\n",
       "      <td>1</td>\n",
       "      <td>1</td>\n",
       "      <td>1</td>\n",
       "      <td>1</td>\n",
       "      <td>...</td>\n",
       "      <td>0</td>\n",
       "      <td>0</td>\n",
       "      <td>0</td>\n",
       "      <td>0</td>\n",
       "      <td>0</td>\n",
       "      <td>0</td>\n",
       "      <td>0</td>\n",
       "      <td>0</td>\n",
       "      <td>12665165</td>\n",
       "      <td>Collided into a tree</td>\n",
       "    </tr>\n",
       "    <tr>\n",
       "      <th>567</th>\n",
       "      <td>1</td>\n",
       "      <td>1</td>\n",
       "      <td>1</td>\n",
       "      <td>1</td>\n",
       "      <td>1</td>\n",
       "      <td>0</td>\n",
       "      <td>0</td>\n",
       "      <td>1</td>\n",
       "      <td>0</td>\n",
       "      <td>1</td>\n",
       "      <td>...</td>\n",
       "      <td>1</td>\n",
       "      <td>0</td>\n",
       "      <td>0</td>\n",
       "      <td>0</td>\n",
       "      <td>0</td>\n",
       "      <td>0</td>\n",
       "      <td>0</td>\n",
       "      <td>1</td>\n",
       "      <td>12666515</td>\n",
       "      <td>Collision- Head on collision</td>\n",
       "    </tr>\n",
       "    <tr>\n",
       "      <th>682</th>\n",
       "      <td>1</td>\n",
       "      <td>1</td>\n",
       "      <td>1</td>\n",
       "      <td>1</td>\n",
       "      <td>1</td>\n",
       "      <td>0</td>\n",
       "      <td>0</td>\n",
       "      <td>1</td>\n",
       "      <td>1</td>\n",
       "      <td>0</td>\n",
       "      <td>...</td>\n",
       "      <td>0</td>\n",
       "      <td>0</td>\n",
       "      <td>0</td>\n",
       "      <td>0</td>\n",
       "      <td>0</td>\n",
       "      <td>0</td>\n",
       "      <td>0</td>\n",
       "      <td>0</td>\n",
       "      <td>12668597</td>\n",
       "      <td>Collision- Head to Rear (Insured Hit TP)</td>\n",
       "    </tr>\n",
       "    <tr>\n",
       "      <th>892</th>\n",
       "      <td>1</td>\n",
       "      <td>1</td>\n",
       "      <td>1</td>\n",
       "      <td>1</td>\n",
       "      <td>1</td>\n",
       "      <td>0</td>\n",
       "      <td>0</td>\n",
       "      <td>1</td>\n",
       "      <td>0</td>\n",
       "      <td>0</td>\n",
       "      <td>...</td>\n",
       "      <td>0</td>\n",
       "      <td>0</td>\n",
       "      <td>0</td>\n",
       "      <td>0</td>\n",
       "      <td>0</td>\n",
       "      <td>0</td>\n",
       "      <td>0</td>\n",
       "      <td>0</td>\n",
       "      <td>12671639</td>\n",
       "      <td>Collided into lamp post</td>\n",
       "    </tr>\n",
       "    <tr>\n",
       "      <th>...</th>\n",
       "      <td>...</td>\n",
       "      <td>...</td>\n",
       "      <td>...</td>\n",
       "      <td>...</td>\n",
       "      <td>...</td>\n",
       "      <td>...</td>\n",
       "      <td>...</td>\n",
       "      <td>...</td>\n",
       "      <td>...</td>\n",
       "      <td>...</td>\n",
       "      <td>...</td>\n",
       "      <td>...</td>\n",
       "      <td>...</td>\n",
       "      <td>...</td>\n",
       "      <td>...</td>\n",
       "      <td>...</td>\n",
       "      <td>...</td>\n",
       "      <td>...</td>\n",
       "      <td>...</td>\n",
       "      <td>...</td>\n",
       "      <td>...</td>\n",
       "    </tr>\n",
       "    <tr>\n",
       "      <th>598119</th>\n",
       "      <td>0</td>\n",
       "      <td>0</td>\n",
       "      <td>0</td>\n",
       "      <td>0</td>\n",
       "      <td>0</td>\n",
       "      <td>0</td>\n",
       "      <td>0</td>\n",
       "      <td>0</td>\n",
       "      <td>0</td>\n",
       "      <td>0</td>\n",
       "      <td>...</td>\n",
       "      <td>0</td>\n",
       "      <td>0</td>\n",
       "      <td>1</td>\n",
       "      <td>0</td>\n",
       "      <td>0</td>\n",
       "      <td>0</td>\n",
       "      <td>0</td>\n",
       "      <td>0</td>\n",
       "      <td>10138474</td>\n",
       "      <td></td>\n",
       "    </tr>\n",
       "    <tr>\n",
       "      <th>598120</th>\n",
       "      <td>0</td>\n",
       "      <td>0</td>\n",
       "      <td>0</td>\n",
       "      <td>0</td>\n",
       "      <td>0</td>\n",
       "      <td>0</td>\n",
       "      <td>0</td>\n",
       "      <td>0</td>\n",
       "      <td>0</td>\n",
       "      <td>0</td>\n",
       "      <td>...</td>\n",
       "      <td>0</td>\n",
       "      <td>0</td>\n",
       "      <td>1</td>\n",
       "      <td>0</td>\n",
       "      <td>0</td>\n",
       "      <td>0</td>\n",
       "      <td>0</td>\n",
       "      <td>0</td>\n",
       "      <td>10143783</td>\n",
       "      <td></td>\n",
       "    </tr>\n",
       "    <tr>\n",
       "      <th>598121</th>\n",
       "      <td>0</td>\n",
       "      <td>0</td>\n",
       "      <td>0</td>\n",
       "      <td>0</td>\n",
       "      <td>0</td>\n",
       "      <td>0</td>\n",
       "      <td>0</td>\n",
       "      <td>0</td>\n",
       "      <td>0</td>\n",
       "      <td>0</td>\n",
       "      <td>...</td>\n",
       "      <td>0</td>\n",
       "      <td>0</td>\n",
       "      <td>1</td>\n",
       "      <td>0</td>\n",
       "      <td>0</td>\n",
       "      <td>0</td>\n",
       "      <td>0</td>\n",
       "      <td>0</td>\n",
       "      <td>10147236</td>\n",
       "      <td></td>\n",
       "    </tr>\n",
       "    <tr>\n",
       "      <th>598123</th>\n",
       "      <td>0</td>\n",
       "      <td>0</td>\n",
       "      <td>0</td>\n",
       "      <td>0</td>\n",
       "      <td>0</td>\n",
       "      <td>0</td>\n",
       "      <td>0</td>\n",
       "      <td>0</td>\n",
       "      <td>0</td>\n",
       "      <td>0</td>\n",
       "      <td>...</td>\n",
       "      <td>0</td>\n",
       "      <td>0</td>\n",
       "      <td>1</td>\n",
       "      <td>0</td>\n",
       "      <td>0</td>\n",
       "      <td>0</td>\n",
       "      <td>0</td>\n",
       "      <td>0</td>\n",
       "      <td>10174259</td>\n",
       "      <td></td>\n",
       "    </tr>\n",
       "    <tr>\n",
       "      <th>598124</th>\n",
       "      <td>0</td>\n",
       "      <td>0</td>\n",
       "      <td>0</td>\n",
       "      <td>0</td>\n",
       "      <td>0</td>\n",
       "      <td>0</td>\n",
       "      <td>0</td>\n",
       "      <td>0</td>\n",
       "      <td>0</td>\n",
       "      <td>0</td>\n",
       "      <td>...</td>\n",
       "      <td>0</td>\n",
       "      <td>0</td>\n",
       "      <td>1</td>\n",
       "      <td>0</td>\n",
       "      <td>0</td>\n",
       "      <td>0</td>\n",
       "      <td>0</td>\n",
       "      <td>0</td>\n",
       "      <td>10174498</td>\n",
       "      <td></td>\n",
       "    </tr>\n",
       "  </tbody>\n",
       "</table>\n",
       "<p>40664 rows × 60 columns</p>\n",
       "</div>"
      ],
      "text/plain": [
       "        vision_bonnet  vision_bumper_front  vision_grille  vision_headlamp_rh  \\\n",
       "151                 1                    1              1                   1   \n",
       "455                 1                    1              1                   1   \n",
       "567                 1                    1              1                   1   \n",
       "682                 1                    1              1                   1   \n",
       "892                 1                    1              1                   1   \n",
       "...               ...                  ...            ...                 ...   \n",
       "598119              0                    0              0                   0   \n",
       "598120              0                    0              0                   0   \n",
       "598121              0                    0              0                   0   \n",
       "598123              0                    0              0                   0   \n",
       "598124              0                    0              0                   0   \n",
       "\n",
       "        vision_headlamp_lh  vision_door_front_lh  vision_door_front_rh  \\\n",
       "151                      1                     0                     0   \n",
       "455                      1                     0                     1   \n",
       "567                      1                     0                     0   \n",
       "682                      1                     0                     0   \n",
       "892                      1                     0                     0   \n",
       "...                    ...                   ...                   ...   \n",
       "598119                   0                     0                     0   \n",
       "598120                   0                     0                     0   \n",
       "598121                   0                     0                     0   \n",
       "598123                   0                     0                     0   \n",
       "598124                   0                     0                     0   \n",
       "\n",
       "        vision_engine  vision_bumper_rear  vision_misc  ...  windscreen_front  \\\n",
       "151                 1                   0            0  ...                 0   \n",
       "455                 1                   1            1  ...                 0   \n",
       "567                 1                   0            1  ...                 1   \n",
       "682                 1                   1            0  ...                 0   \n",
       "892                 1                   0            0  ...                 0   \n",
       "...               ...                 ...          ...  ...               ...   \n",
       "598119              0                   0            0  ...                 0   \n",
       "598120              0                   0            0  ...                 0   \n",
       "598121              0                   0            0  ...                 0   \n",
       "598123              0                   0            0  ...                 0   \n",
       "598124              0                   0            0  ...                 0   \n",
       "\n",
       "        rear_compartment  rear_panel  rear_quarter_rh  door_rear_rh  \\\n",
       "151                    0           0                0             0   \n",
       "455                    0           0                0             0   \n",
       "567                    0           0                0             0   \n",
       "682                    0           0                0             0   \n",
       "892                    0           0                0             0   \n",
       "...                  ...         ...              ...           ...   \n",
       "598119                 0           1                0             0   \n",
       "598120                 0           1                0             0   \n",
       "598121                 0           1                0             0   \n",
       "598123                 0           1                0             0   \n",
       "598124                 0           1                0             0   \n",
       "\n",
       "        door_mirror_lh  door_rear_lh  windscreen_rear    CaseID  \\\n",
       "151                  0             0                0  12660475   \n",
       "455                  0             0                0  12665165   \n",
       "567                  0             0                1  12666515   \n",
       "682                  0             0                0  12668597   \n",
       "892                  0             0                0  12671639   \n",
       "...                ...           ...              ...       ...   \n",
       "598119               0             0                0  10138474   \n",
       "598120               0             0                0  10143783   \n",
       "598121               0             0                0  10147236   \n",
       "598123               0             0                0  10174259   \n",
       "598124               0             0                0  10174498   \n",
       "\n",
       "                       Circumstances_of_Accident  \n",
       "151                                               \n",
       "455                         Collided into a tree  \n",
       "567                 Collision- Head on collision  \n",
       "682     Collision- Head to Rear (Insured Hit TP)  \n",
       "892                      Collided into lamp post  \n",
       "...                                          ...  \n",
       "598119                                            \n",
       "598120                                            \n",
       "598121                                            \n",
       "598123                                            \n",
       "598124                                            \n",
       "\n",
       "[40664 rows x 60 columns]"
      ]
     },
     "execution_count": 18,
     "metadata": {},
     "output_type": "execute_result"
    }
   ],
   "source": [
    "wr.config.s3_endpoint_url = \"http://192.168.1.4:8333\"\n",
    "srcBucketName = \"multilabel_df\"\n",
    "labelDf = wr.s3.read_parquet(\n",
    "    path=f\"s3://{srcBucketName}/\",\n",
    "    dataset=True\n",
    ")\n",
    "balanceLabelDf = labelDf[labelDf[\"CaseID\"].isin(filesDf[\"CaseID\"].unique().tolist())]\n",
    "balanceLabelDf"
   ]
  },
  {
   "cell_type": "code",
   "execution_count": 19,
   "metadata": {},
   "outputs": [
    {
     "data": {
      "text/plain": [
       "['vision_bonnet',\n",
       " 'vision_bumper_front',\n",
       " 'vision_grille',\n",
       " 'vision_headlamp_rh',\n",
       " 'vision_headlamp_lh',\n",
       " 'vision_door_front_lh',\n",
       " 'vision_door_front_rh',\n",
       " 'vision_engine',\n",
       " 'vision_bumper_rear',\n",
       " 'vision_misc',\n",
       " 'vision_front_panel',\n",
       " 'vision_non_external',\n",
       " 'vision_wheel',\n",
       " 'vision_fender_front_lh',\n",
       " 'vision_fender_front_rh',\n",
       " 'vision_rear_quarter_lh',\n",
       " 'vision_tail_lamp_lh',\n",
       " 'vision_tail_lamp_rh',\n",
       " 'vision_windscreen_front',\n",
       " 'vision_rear_compartment',\n",
       " 'vision_rear_panel',\n",
       " 'vision_rear_quarter_rh',\n",
       " 'vision_door_rear_rh',\n",
       " 'vision_door_rear_lh']"
      ]
     },
     "execution_count": 19,
     "metadata": {},
     "output_type": "execute_result"
    }
   ],
   "source": [
    "all_parts = [x for x in balanceLabelDf.columns if \"vision_\" in x]\n",
    "all_parts"
   ]
  },
  {
   "cell_type": "code",
   "execution_count": 20,
   "metadata": {},
   "outputs": [],
   "source": [
    "# partToBalance = [\n",
    "#     \"vision_door_rear_lh\",\n",
    "#     \"vision_door_rear_rh\", \n",
    "#     \"vision_rear_quarter_lh\", \n",
    "#     \"vision_rear_quarter_rh\",\n",
    "#     \"vision_tail_lamp_lh\",\n",
    "#     \"vision_tail_lamp_rh\",\n",
    "#     \"vision_windscreen_front\",\n",
    "#     \"vision_door_front_lh\",\n",
    "#     \"vision_door_front_rh\",\n",
    "\n",
    "#     ]\n",
    "# caseIdForBalance = []\n",
    "# balanceSampleCount = 3000\n",
    "# for part in partToBalance:\n",
    "#     targetCaseId = balanceLabelDf[balanceLabelDf[part] == 1].head(balanceSampleCount)[\"CaseID\"].unique().tolist()\n",
    "#     caseIdForBalance.extend(targetCaseId)\n",
    "# uniqueCaseIdForBalance = set(caseIdForBalance)\n",
    "# print(len(uniqueCaseIdForBalance))"
   ]
  },
  {
   "cell_type": "code",
   "execution_count": 21,
   "metadata": {},
   "outputs": [
    {
     "name": "stderr",
     "output_type": "stream",
     "text": [
      "/tmp/ipykernel_18976/3044125367.py:1: SettingWithCopyWarning:\n",
      "\n",
      "\n",
      "A value is trying to be set on a copy of a slice from a DataFrame.\n",
      "Try using .loc[row_indexer,col_indexer] = value instead\n",
      "\n",
      "See the caveats in the documentation: https://pandas.pydata.org/pandas-docs/stable/user_guide/indexing.html#returning-a-view-versus-a-copy\n",
      "\n"
     ]
    },
    {
     "data": {
      "text/plain": [
       "9          10000123_437299477.JPG\n",
       "10         10000358_437300189.JPG\n",
       "11         10000449_437304372.JPG\n",
       "14         10000450_437321843.JPG\n",
       "16         10000515_437326556.JPG\n",
       "                    ...          \n",
       "2795329    13074116_595377127.JPG\n",
       "2795657    13067177_595451910.JPG\n",
       "2796900    13079952_595854084.JPG\n",
       "2799008    13068882_596511595.JPG\n",
       "2817679    12913298_602508321.JPG\n",
       "Name: filename, Length: 199412, dtype: object"
      ]
     },
     "execution_count": 21,
     "metadata": {},
     "output_type": "execute_result"
    }
   ],
   "source": [
    "filesDf[\"filename\"] = filesDf[['CaseID', \"iDOCID\"]].apply(lambda x : str(int(x[\"CaseID\"])) + \"_\" + str(int(x[\"iDOCID\"])) + \".JPG\", axis=1)\n",
    "filesDf[\"filename\"]"
   ]
  },
  {
   "cell_type": "code",
   "execution_count": 22,
   "metadata": {},
   "outputs": [
    {
     "name": "stderr",
     "output_type": "stream",
     "text": [
      "/tmp/ipykernel_18976/2529705794.py:2: SettingWithCopyWarning:\n",
      "\n",
      "\n",
      "A value is trying to be set on a copy of a slice from a DataFrame.\n",
      "Try using .loc[row_indexer,col_indexer] = value instead\n",
      "\n",
      "See the caveats in the documentation: https://pandas.pydata.org/pandas-docs/stable/user_guide/indexing.html#returning-a-view-versus-a-copy\n",
      "\n"
     ]
    }
   ],
   "source": [
    "endpoint = \"http://192.168.1.4:8888/buckets/raw_imgs/\"\n",
    "filesDf[\"url\"] = endpoint + filesDf[\"filename\"]"
   ]
  },
  {
   "cell_type": "code",
   "execution_count": 23,
   "metadata": {},
   "outputs": [
    {
     "data": {
      "text/plain": [
       "10000"
      ]
     },
     "execution_count": 23,
     "metadata": {},
     "output_type": "execute_result"
    }
   ],
   "source": [
    "totalCase = 10000\n",
    "numCaseToDownload = totalCase\n",
    "\n",
    "numCaseToDownload\n"
   ]
  },
  {
   "cell_type": "code",
   "execution_count": 24,
   "metadata": {},
   "outputs": [
    {
     "data": {
      "text/html": [
       "<div>\n",
       "<style scoped>\n",
       "    .dataframe tbody tr th:only-of-type {\n",
       "        vertical-align: middle;\n",
       "    }\n",
       "\n",
       "    .dataframe tbody tr th {\n",
       "        vertical-align: top;\n",
       "    }\n",
       "\n",
       "    .dataframe thead th {\n",
       "        text-align: right;\n",
       "    }\n",
       "</style>\n",
       "<table border=\"1\" class=\"dataframe\">\n",
       "  <thead>\n",
       "    <tr style=\"text-align: right;\">\n",
       "      <th></th>\n",
       "      <th>CaseID</th>\n",
       "      <th>iDOCID</th>\n",
       "      <th>StdDocDesc</th>\n",
       "      <th>filename</th>\n",
       "      <th>url</th>\n",
       "    </tr>\n",
       "  </thead>\n",
       "  <tbody>\n",
       "    <tr>\n",
       "      <th>9</th>\n",
       "      <td>10000123</td>\n",
       "      <td>437299477.0</td>\n",
       "      <td>Front View</td>\n",
       "      <td>10000123_437299477.JPG</td>\n",
       "      <td>http://192.168.1.4:8888/buckets/raw_imgs/10000...</td>\n",
       "    </tr>\n",
       "    <tr>\n",
       "      <th>10</th>\n",
       "      <td>10000358</td>\n",
       "      <td>437300189.0</td>\n",
       "      <td>Front View</td>\n",
       "      <td>10000358_437300189.JPG</td>\n",
       "      <td>http://192.168.1.4:8888/buckets/raw_imgs/10000...</td>\n",
       "    </tr>\n",
       "    <tr>\n",
       "      <th>11</th>\n",
       "      <td>10000449</td>\n",
       "      <td>437304372.0</td>\n",
       "      <td>Front View</td>\n",
       "      <td>10000449_437304372.JPG</td>\n",
       "      <td>http://192.168.1.4:8888/buckets/raw_imgs/10000...</td>\n",
       "    </tr>\n",
       "    <tr>\n",
       "      <th>14</th>\n",
       "      <td>10000450</td>\n",
       "      <td>437321843.0</td>\n",
       "      <td>Front View</td>\n",
       "      <td>10000450_437321843.JPG</td>\n",
       "      <td>http://192.168.1.4:8888/buckets/raw_imgs/10000...</td>\n",
       "    </tr>\n",
       "    <tr>\n",
       "      <th>16</th>\n",
       "      <td>10000515</td>\n",
       "      <td>437326556.0</td>\n",
       "      <td>Front View</td>\n",
       "      <td>10000515_437326556.JPG</td>\n",
       "      <td>http://192.168.1.4:8888/buckets/raw_imgs/10000...</td>\n",
       "    </tr>\n",
       "    <tr>\n",
       "      <th>...</th>\n",
       "      <td>...</td>\n",
       "      <td>...</td>\n",
       "      <td>...</td>\n",
       "      <td>...</td>\n",
       "      <td>...</td>\n",
       "    </tr>\n",
       "    <tr>\n",
       "      <th>2795329</th>\n",
       "      <td>13074116</td>\n",
       "      <td>595377127.0</td>\n",
       "      <td>Rear View Right</td>\n",
       "      <td>13074116_595377127.JPG</td>\n",
       "      <td>http://192.168.1.4:8888/buckets/raw_imgs/13074...</td>\n",
       "    </tr>\n",
       "    <tr>\n",
       "      <th>2795657</th>\n",
       "      <td>13067177</td>\n",
       "      <td>595451910.0</td>\n",
       "      <td>Rear View Right</td>\n",
       "      <td>13067177_595451910.JPG</td>\n",
       "      <td>http://192.168.1.4:8888/buckets/raw_imgs/13067...</td>\n",
       "    </tr>\n",
       "    <tr>\n",
       "      <th>2796900</th>\n",
       "      <td>13079952</td>\n",
       "      <td>595854084.0</td>\n",
       "      <td>Rear View Right</td>\n",
       "      <td>13079952_595854084.JPG</td>\n",
       "      <td>http://192.168.1.4:8888/buckets/raw_imgs/13079...</td>\n",
       "    </tr>\n",
       "    <tr>\n",
       "      <th>2799008</th>\n",
       "      <td>13068882</td>\n",
       "      <td>596511595.0</td>\n",
       "      <td>Rear View Right</td>\n",
       "      <td>13068882_596511595.JPG</td>\n",
       "      <td>http://192.168.1.4:8888/buckets/raw_imgs/13068...</td>\n",
       "    </tr>\n",
       "    <tr>\n",
       "      <th>2817679</th>\n",
       "      <td>12913298</td>\n",
       "      <td>602508321.0</td>\n",
       "      <td>Rear View Right</td>\n",
       "      <td>12913298_602508321.JPG</td>\n",
       "      <td>http://192.168.1.4:8888/buckets/raw_imgs/12913...</td>\n",
       "    </tr>\n",
       "  </tbody>\n",
       "</table>\n",
       "<p>199412 rows × 5 columns</p>\n",
       "</div>"
      ],
      "text/plain": [
       "           CaseID       iDOCID       StdDocDesc                filename  \\\n",
       "9        10000123  437299477.0       Front View  10000123_437299477.JPG   \n",
       "10       10000358  437300189.0       Front View  10000358_437300189.JPG   \n",
       "11       10000449  437304372.0       Front View  10000449_437304372.JPG   \n",
       "14       10000450  437321843.0       Front View  10000450_437321843.JPG   \n",
       "16       10000515  437326556.0       Front View  10000515_437326556.JPG   \n",
       "...           ...          ...              ...                     ...   \n",
       "2795329  13074116  595377127.0  Rear View Right  13074116_595377127.JPG   \n",
       "2795657  13067177  595451910.0  Rear View Right  13067177_595451910.JPG   \n",
       "2796900  13079952  595854084.0  Rear View Right  13079952_595854084.JPG   \n",
       "2799008  13068882  596511595.0  Rear View Right  13068882_596511595.JPG   \n",
       "2817679  12913298  602508321.0  Rear View Right  12913298_602508321.JPG   \n",
       "\n",
       "                                                       url  \n",
       "9        http://192.168.1.4:8888/buckets/raw_imgs/10000...  \n",
       "10       http://192.168.1.4:8888/buckets/raw_imgs/10000...  \n",
       "11       http://192.168.1.4:8888/buckets/raw_imgs/10000...  \n",
       "14       http://192.168.1.4:8888/buckets/raw_imgs/10000...  \n",
       "16       http://192.168.1.4:8888/buckets/raw_imgs/10000...  \n",
       "...                                                    ...  \n",
       "2795329  http://192.168.1.4:8888/buckets/raw_imgs/13074...  \n",
       "2795657  http://192.168.1.4:8888/buckets/raw_imgs/13067...  \n",
       "2796900  http://192.168.1.4:8888/buckets/raw_imgs/13079...  \n",
       "2799008  http://192.168.1.4:8888/buckets/raw_imgs/13068...  \n",
       "2817679  http://192.168.1.4:8888/buckets/raw_imgs/12913...  \n",
       "\n",
       "[199412 rows x 5 columns]"
      ]
     },
     "execution_count": 24,
     "metadata": {},
     "output_type": "execute_result"
    }
   ],
   "source": [
    "filesDf"
   ]
  },
  {
   "cell_type": "code",
   "execution_count": null,
   "metadata": {},
   "outputs": [],
   "source": []
  },
  {
   "cell_type": "code",
   "execution_count": 25,
   "metadata": {},
   "outputs": [],
   "source": [
    "targetCaseId = filesDf['CaseID'].unique().tolist()\n",
    "random.shuffle(targetCaseId)\n",
    "targetCaseId = targetCaseId[:numCaseToDownload]\n",
    "# targetCaseId.extend(uniqueCaseIdForBalance)\n",
    "targetCaseId = list(set(targetCaseId))\n",
    "if(len(targetCaseId) < totalCase):\n",
    "    remainder = totalCase - len(targetCaseId)\n",
    "    caseToAdd = filesDf[~filesDf['CaseID'].isin(targetCaseId)][\"CaseID\"].tolist()[:remainder]\n",
    "    targetCaseId.extend(caseToAdd)"
   ]
  },
  {
   "cell_type": "code",
   "execution_count": 26,
   "metadata": {},
   "outputs": [],
   "source": [
    "downloadFileDf = filesDf[filesDf[\"CaseID\"].isin(targetCaseId)]"
   ]
  },
  {
   "cell_type": "code",
   "execution_count": 27,
   "metadata": {},
   "outputs": [
    {
     "data": {
      "text/html": [
       "<div>\n",
       "<style scoped>\n",
       "    .dataframe tbody tr th:only-of-type {\n",
       "        vertical-align: middle;\n",
       "    }\n",
       "\n",
       "    .dataframe tbody tr th {\n",
       "        vertical-align: top;\n",
       "    }\n",
       "\n",
       "    .dataframe thead th {\n",
       "        text-align: right;\n",
       "    }\n",
       "</style>\n",
       "<table border=\"1\" class=\"dataframe\">\n",
       "  <thead>\n",
       "    <tr style=\"text-align: right;\">\n",
       "      <th></th>\n",
       "      <th>CaseID</th>\n",
       "      <th>iDOCID</th>\n",
       "      <th>StdDocDesc</th>\n",
       "      <th>filename</th>\n",
       "      <th>url</th>\n",
       "    </tr>\n",
       "  </thead>\n",
       "  <tbody>\n",
       "    <tr>\n",
       "      <th>16</th>\n",
       "      <td>10000515</td>\n",
       "      <td>437326556.0</td>\n",
       "      <td>Front View</td>\n",
       "      <td>10000515_437326556.JPG</td>\n",
       "      <td>http://192.168.1.4:8888/buckets/raw_imgs/10000...</td>\n",
       "    </tr>\n",
       "    <tr>\n",
       "      <th>19</th>\n",
       "      <td>10001070</td>\n",
       "      <td>437336634.0</td>\n",
       "      <td>Front View</td>\n",
       "      <td>10001070_437336634.JPG</td>\n",
       "      <td>http://192.168.1.4:8888/buckets/raw_imgs/10001...</td>\n",
       "    </tr>\n",
       "    <tr>\n",
       "      <th>20</th>\n",
       "      <td>10001217</td>\n",
       "      <td>437355562.0</td>\n",
       "      <td>Front View</td>\n",
       "      <td>10001217_437355562.JPG</td>\n",
       "      <td>http://192.168.1.4:8888/buckets/raw_imgs/10001...</td>\n",
       "    </tr>\n",
       "    <tr>\n",
       "      <th>24</th>\n",
       "      <td>10001500</td>\n",
       "      <td>437374687.0</td>\n",
       "      <td>Front View</td>\n",
       "      <td>10001500_437374687.JPG</td>\n",
       "      <td>http://192.168.1.4:8888/buckets/raw_imgs/10001...</td>\n",
       "    </tr>\n",
       "    <tr>\n",
       "      <th>30</th>\n",
       "      <td>10001364</td>\n",
       "      <td>437380493.0</td>\n",
       "      <td>Front View</td>\n",
       "      <td>10001364_437380493.JPG</td>\n",
       "      <td>http://192.168.1.4:8888/buckets/raw_imgs/10001...</td>\n",
       "    </tr>\n",
       "    <tr>\n",
       "      <th>...</th>\n",
       "      <td>...</td>\n",
       "      <td>...</td>\n",
       "      <td>...</td>\n",
       "      <td>...</td>\n",
       "      <td>...</td>\n",
       "    </tr>\n",
       "    <tr>\n",
       "      <th>2794109</th>\n",
       "      <td>13071067</td>\n",
       "      <td>594976669.0</td>\n",
       "      <td>Rear View Right</td>\n",
       "      <td>13071067_594976669.JPG</td>\n",
       "      <td>http://192.168.1.4:8888/buckets/raw_imgs/13071...</td>\n",
       "    </tr>\n",
       "    <tr>\n",
       "      <th>2794399</th>\n",
       "      <td>13072671</td>\n",
       "      <td>595064894.0</td>\n",
       "      <td>Rear View Right</td>\n",
       "      <td>13072671_595064894.JPG</td>\n",
       "      <td>http://192.168.1.4:8888/buckets/raw_imgs/13072...</td>\n",
       "    </tr>\n",
       "    <tr>\n",
       "      <th>2794423</th>\n",
       "      <td>13076951</td>\n",
       "      <td>595070636.0</td>\n",
       "      <td>Rear View Right</td>\n",
       "      <td>13076951_595070636.JPG</td>\n",
       "      <td>http://192.168.1.4:8888/buckets/raw_imgs/13076...</td>\n",
       "    </tr>\n",
       "    <tr>\n",
       "      <th>2794570</th>\n",
       "      <td>13075282</td>\n",
       "      <td>595114812.0</td>\n",
       "      <td>Rear View Right</td>\n",
       "      <td>13075282_595114812.JPG</td>\n",
       "      <td>http://192.168.1.4:8888/buckets/raw_imgs/13075...</td>\n",
       "    </tr>\n",
       "    <tr>\n",
       "      <th>2795113</th>\n",
       "      <td>13074208</td>\n",
       "      <td>595299193.0</td>\n",
       "      <td>Rear View Right</td>\n",
       "      <td>13074208_595299193.JPG</td>\n",
       "      <td>http://192.168.1.4:8888/buckets/raw_imgs/13074...</td>\n",
       "    </tr>\n",
       "  </tbody>\n",
       "</table>\n",
       "<p>49025 rows × 5 columns</p>\n",
       "</div>"
      ],
      "text/plain": [
       "           CaseID       iDOCID       StdDocDesc                filename  \\\n",
       "16       10000515  437326556.0       Front View  10000515_437326556.JPG   \n",
       "19       10001070  437336634.0       Front View  10001070_437336634.JPG   \n",
       "20       10001217  437355562.0       Front View  10001217_437355562.JPG   \n",
       "24       10001500  437374687.0       Front View  10001500_437374687.JPG   \n",
       "30       10001364  437380493.0       Front View  10001364_437380493.JPG   \n",
       "...           ...          ...              ...                     ...   \n",
       "2794109  13071067  594976669.0  Rear View Right  13071067_594976669.JPG   \n",
       "2794399  13072671  595064894.0  Rear View Right  13072671_595064894.JPG   \n",
       "2794423  13076951  595070636.0  Rear View Right  13076951_595070636.JPG   \n",
       "2794570  13075282  595114812.0  Rear View Right  13075282_595114812.JPG   \n",
       "2795113  13074208  595299193.0  Rear View Right  13074208_595299193.JPG   \n",
       "\n",
       "                                                       url  \n",
       "16       http://192.168.1.4:8888/buckets/raw_imgs/10000...  \n",
       "19       http://192.168.1.4:8888/buckets/raw_imgs/10001...  \n",
       "20       http://192.168.1.4:8888/buckets/raw_imgs/10001...  \n",
       "24       http://192.168.1.4:8888/buckets/raw_imgs/10001...  \n",
       "30       http://192.168.1.4:8888/buckets/raw_imgs/10001...  \n",
       "...                                                    ...  \n",
       "2794109  http://192.168.1.4:8888/buckets/raw_imgs/13071...  \n",
       "2794399  http://192.168.1.4:8888/buckets/raw_imgs/13072...  \n",
       "2794423  http://192.168.1.4:8888/buckets/raw_imgs/13076...  \n",
       "2794570  http://192.168.1.4:8888/buckets/raw_imgs/13075...  \n",
       "2795113  http://192.168.1.4:8888/buckets/raw_imgs/13074...  \n",
       "\n",
       "[49025 rows x 5 columns]"
      ]
     },
     "execution_count": 27,
     "metadata": {},
     "output_type": "execute_result"
    }
   ],
   "source": [
    "downloadFileDf"
   ]
  },
  {
   "cell_type": "code",
   "execution_count": 28,
   "metadata": {},
   "outputs": [
    {
     "name": "stdout",
     "output_type": "stream",
     "text": [
      "10000\n"
     ]
    }
   ],
   "source": [
    "print(len(targetCaseId))"
   ]
  },
  {
   "cell_type": "code",
   "execution_count": 29,
   "metadata": {},
   "outputs": [],
   "source": [
    "sinkDir = \"/home/alextay96/Desktop/new_workspace/DLDataPipeline/data/imgs\"\n",
    "# localFiles = os.listdir(sinkDir)\n",
    "# downloadFileDf = downloadFileDf[~downloadFileDf[\"filename\"].isin(localFiles)]\n"
   ]
  },
  {
   "cell_type": "code",
   "execution_count": 30,
   "metadata": {},
   "outputs": [],
   "source": [
    "def transport_worker(df:pd.DataFrame):\n",
    "    s = requests.Session()\n",
    "    for _, i in tqdm(df.iterrows(), desc=\"files\"):\n",
    "        url = i[\"url\"]\n",
    "        imgBytes = s.get(url)\n",
    "        localPath = os.path.join(sinkDir, i[\"filename\"])\n",
    "        with open(localPath, \"wb\") as f:\n",
    "            f.write(imgBytes.content)"
   ]
  },
  {
   "cell_type": "code",
   "execution_count": 31,
   "metadata": {},
   "outputs": [
    {
     "name": "stderr",
     "output_type": "stream",
     "text": [
      "files: 1000it [03:54,  4.26it/s]0:19<00:00, 64.61it/s]\n",
      "files: 1000it [04:00,  4.16it/s]3:55<06:55, 13.84s/it]\n",
      "files: 1000it [04:02,  4.13it/s]\n",
      "files: 1000it [04:02,  4.12it/s]\n",
      "files: 1000it [04:04,  4.08it/s]\n",
      "files: 1000it [04:04,  4.08it/s]\n",
      "files: 1000it [04:08,  4.03it/s]\n",
      "files: 1000it [04:08,  4.02it/s]\n",
      "files: 1000it [04:15,  3.92it/s]\n",
      "files: 1000it [04:16,  3.89it/s]\n",
      "files: 1000it [03:44,  4.45it/s]\n",
      "files: 1000it [03:50,  4.34it/s]7:50<06:05, 18.25s/it]\n",
      "files: 1000it [03:56,  4.22it/s]\n",
      "files: 1000it [03:51,  4.31it/s]\n",
      "files: 1000it [03:49,  4.36it/s]\n",
      "files: 1000it [03:52,  4.30it/s]\n",
      "files: 1000it [03:54,  4.27it/s]\n",
      "files: 1000it [03:53,  4.28it/s]\n",
      "files: 1000it [03:53,  4.28it/s]\n",
      "files: 1000it [03:53,  4.29it/s]\n",
      "files: 1000it [03:32,  4.70it/s]\n",
      "files: 1000it [03:35,  4.64it/s]1:28<03:16, 19.66s/it]\n",
      "files: 1000it [03:42,  4.49it/s]\n",
      "files: 1000it [03:30,  4.74it/s]\n",
      "files: 1000it [03:39,  4.55it/s]\n",
      "files: 1000it [03:43,  4.48it/s]\n",
      "files: 1000it [03:33,  4.69it/s]\n",
      "files: 1000it [03:44,  4.45it/s]\n",
      "files: 1000it [03:29,  4.76it/s]\n",
      "files: 1000it [03:37,  4.59it/s]\n",
      "files: 1000it [03:41,  4.51it/s]\n",
      "tasks: 100%|██████████| 50/50 [15:21<00:00, 18.42s/it]\n",
      "files: 1000it [03:44,  4.46it/s]\n",
      "files: 1000it [03:53,  4.28it/s]\n",
      "files: 1000it [03:49,  4.36it/s]\n",
      "files: 1000it [03:47,  4.40it/s]\n",
      "files: 1000it [03:48,  4.37it/s]\n",
      "files: 1000it [03:53,  4.28it/s]\n",
      "files: 1000it [03:50,  4.33it/s]\n",
      "files: 1000it [03:52,  4.30it/s]\n",
      "files: 1000it [03:53,  4.29it/s]\n",
      "files: 25it [00:05,  4.66it/s]]\n",
      "files: 1000it [03:21,  4.97it/s]\n",
      "files: 1000it [03:21,  4.95it/s]\n",
      "files: 1000it [03:23,  4.91it/s]\n",
      "files: 1000it [03:24,  4.89it/s]\n",
      "files: 1000it [03:25,  4.87it/s]\n",
      "files: 1000it [03:23,  4.92it/s]\n",
      "files: 1000it [03:19,  5.02it/s]\n",
      "files: 1000it [03:22,  4.93it/s]\n",
      "files: 1000it [03:23,  4.92it/s]\n"
     ]
    },
    {
     "data": {
      "text/plain": [
       "[None,\n",
       " None,\n",
       " None,\n",
       " None,\n",
       " None,\n",
       " None,\n",
       " None,\n",
       " None,\n",
       " None,\n",
       " None,\n",
       " None,\n",
       " None,\n",
       " None,\n",
       " None,\n",
       " None,\n",
       " None,\n",
       " None,\n",
       " None,\n",
       " None,\n",
       " None,\n",
       " None,\n",
       " None,\n",
       " None,\n",
       " None,\n",
       " None,\n",
       " None,\n",
       " None,\n",
       " None,\n",
       " None,\n",
       " None,\n",
       " None,\n",
       " None,\n",
       " None,\n",
       " None,\n",
       " None,\n",
       " None,\n",
       " None,\n",
       " None,\n",
       " None,\n",
       " None,\n",
       " None,\n",
       " None,\n",
       " None,\n",
       " None,\n",
       " None,\n",
       " None,\n",
       " None,\n",
       " None,\n",
       " None,\n",
       " None]"
      ]
     },
     "execution_count": 31,
     "metadata": {},
     "output_type": "execute_result"
    }
   ],
   "source": [
    "\n",
    "os.makedirs(sinkDir, exist_ok=True)\n",
    "s = requests.Session()\n",
    "batchTask = []\n",
    "batchSize = 1000\n",
    "for i in range(0, len(downloadFileDf), batchSize):\n",
    "    batchTask.append(downloadFileDf.iloc[i : i + batchSize])\n",
    "Parallel(n_jobs=10)(delayed(transport_worker)(taskDf) for taskDf in tqdm(batchTask, desc=\"tasks\"))\n",
    "# for _, i in tqdm(downloadFileDf.iterrows()):\n",
    "#     url = i[\"url\"]\n",
    "#     imgBytes = s.get(url)\n",
    "#     localPath = os.path.join(sinkDir, i[\"filename\"])\n",
    "#     with open(localPath, \"wb\") as f:\n",
    "#         f.write(imgBytes.content)\n",
    "    \n"
   ]
  },
  {
   "cell_type": "code",
   "execution_count": 32,
   "metadata": {},
   "outputs": [
    {
     "data": {
      "text/html": [
       "<div>\n",
       "<style scoped>\n",
       "    .dataframe tbody tr th:only-of-type {\n",
       "        vertical-align: middle;\n",
       "    }\n",
       "\n",
       "    .dataframe tbody tr th {\n",
       "        vertical-align: top;\n",
       "    }\n",
       "\n",
       "    .dataframe thead th {\n",
       "        text-align: right;\n",
       "    }\n",
       "</style>\n",
       "<table border=\"1\" class=\"dataframe\">\n",
       "  <thead>\n",
       "    <tr style=\"text-align: right;\">\n",
       "      <th></th>\n",
       "      <th>CaseID</th>\n",
       "      <th>iDOCID</th>\n",
       "      <th>StdDocDesc</th>\n",
       "      <th>filename</th>\n",
       "      <th>url</th>\n",
       "    </tr>\n",
       "  </thead>\n",
       "  <tbody>\n",
       "    <tr>\n",
       "      <th>16</th>\n",
       "      <td>10000515</td>\n",
       "      <td>437326556.0</td>\n",
       "      <td>Front View</td>\n",
       "      <td>10000515_437326556.JPG</td>\n",
       "      <td>http://192.168.1.4:8888/buckets/raw_imgs/10000...</td>\n",
       "    </tr>\n",
       "    <tr>\n",
       "      <th>19</th>\n",
       "      <td>10001070</td>\n",
       "      <td>437336634.0</td>\n",
       "      <td>Front View</td>\n",
       "      <td>10001070_437336634.JPG</td>\n",
       "      <td>http://192.168.1.4:8888/buckets/raw_imgs/10001...</td>\n",
       "    </tr>\n",
       "    <tr>\n",
       "      <th>20</th>\n",
       "      <td>10001217</td>\n",
       "      <td>437355562.0</td>\n",
       "      <td>Front View</td>\n",
       "      <td>10001217_437355562.JPG</td>\n",
       "      <td>http://192.168.1.4:8888/buckets/raw_imgs/10001...</td>\n",
       "    </tr>\n",
       "    <tr>\n",
       "      <th>24</th>\n",
       "      <td>10001500</td>\n",
       "      <td>437374687.0</td>\n",
       "      <td>Front View</td>\n",
       "      <td>10001500_437374687.JPG</td>\n",
       "      <td>http://192.168.1.4:8888/buckets/raw_imgs/10001...</td>\n",
       "    </tr>\n",
       "    <tr>\n",
       "      <th>30</th>\n",
       "      <td>10001364</td>\n",
       "      <td>437380493.0</td>\n",
       "      <td>Front View</td>\n",
       "      <td>10001364_437380493.JPG</td>\n",
       "      <td>http://192.168.1.4:8888/buckets/raw_imgs/10001...</td>\n",
       "    </tr>\n",
       "    <tr>\n",
       "      <th>...</th>\n",
       "      <td>...</td>\n",
       "      <td>...</td>\n",
       "      <td>...</td>\n",
       "      <td>...</td>\n",
       "      <td>...</td>\n",
       "    </tr>\n",
       "    <tr>\n",
       "      <th>2794109</th>\n",
       "      <td>13071067</td>\n",
       "      <td>594976669.0</td>\n",
       "      <td>Rear View Right</td>\n",
       "      <td>13071067_594976669.JPG</td>\n",
       "      <td>http://192.168.1.4:8888/buckets/raw_imgs/13071...</td>\n",
       "    </tr>\n",
       "    <tr>\n",
       "      <th>2794399</th>\n",
       "      <td>13072671</td>\n",
       "      <td>595064894.0</td>\n",
       "      <td>Rear View Right</td>\n",
       "      <td>13072671_595064894.JPG</td>\n",
       "      <td>http://192.168.1.4:8888/buckets/raw_imgs/13072...</td>\n",
       "    </tr>\n",
       "    <tr>\n",
       "      <th>2794423</th>\n",
       "      <td>13076951</td>\n",
       "      <td>595070636.0</td>\n",
       "      <td>Rear View Right</td>\n",
       "      <td>13076951_595070636.JPG</td>\n",
       "      <td>http://192.168.1.4:8888/buckets/raw_imgs/13076...</td>\n",
       "    </tr>\n",
       "    <tr>\n",
       "      <th>2794570</th>\n",
       "      <td>13075282</td>\n",
       "      <td>595114812.0</td>\n",
       "      <td>Rear View Right</td>\n",
       "      <td>13075282_595114812.JPG</td>\n",
       "      <td>http://192.168.1.4:8888/buckets/raw_imgs/13075...</td>\n",
       "    </tr>\n",
       "    <tr>\n",
       "      <th>2795113</th>\n",
       "      <td>13074208</td>\n",
       "      <td>595299193.0</td>\n",
       "      <td>Rear View Right</td>\n",
       "      <td>13074208_595299193.JPG</td>\n",
       "      <td>http://192.168.1.4:8888/buckets/raw_imgs/13074...</td>\n",
       "    </tr>\n",
       "  </tbody>\n",
       "</table>\n",
       "<p>49025 rows × 5 columns</p>\n",
       "</div>"
      ],
      "text/plain": [
       "           CaseID       iDOCID       StdDocDesc                filename  \\\n",
       "16       10000515  437326556.0       Front View  10000515_437326556.JPG   \n",
       "19       10001070  437336634.0       Front View  10001070_437336634.JPG   \n",
       "20       10001217  437355562.0       Front View  10001217_437355562.JPG   \n",
       "24       10001500  437374687.0       Front View  10001500_437374687.JPG   \n",
       "30       10001364  437380493.0       Front View  10001364_437380493.JPG   \n",
       "...           ...          ...              ...                     ...   \n",
       "2794109  13071067  594976669.0  Rear View Right  13071067_594976669.JPG   \n",
       "2794399  13072671  595064894.0  Rear View Right  13072671_595064894.JPG   \n",
       "2794423  13076951  595070636.0  Rear View Right  13076951_595070636.JPG   \n",
       "2794570  13075282  595114812.0  Rear View Right  13075282_595114812.JPG   \n",
       "2795113  13074208  595299193.0  Rear View Right  13074208_595299193.JPG   \n",
       "\n",
       "                                                       url  \n",
       "16       http://192.168.1.4:8888/buckets/raw_imgs/10000...  \n",
       "19       http://192.168.1.4:8888/buckets/raw_imgs/10001...  \n",
       "20       http://192.168.1.4:8888/buckets/raw_imgs/10001...  \n",
       "24       http://192.168.1.4:8888/buckets/raw_imgs/10001...  \n",
       "30       http://192.168.1.4:8888/buckets/raw_imgs/10001...  \n",
       "...                                                    ...  \n",
       "2794109  http://192.168.1.4:8888/buckets/raw_imgs/13071...  \n",
       "2794399  http://192.168.1.4:8888/buckets/raw_imgs/13072...  \n",
       "2794423  http://192.168.1.4:8888/buckets/raw_imgs/13076...  \n",
       "2794570  http://192.168.1.4:8888/buckets/raw_imgs/13075...  \n",
       "2795113  http://192.168.1.4:8888/buckets/raw_imgs/13074...  \n",
       "\n",
       "[49025 rows x 5 columns]"
      ]
     },
     "execution_count": 32,
     "metadata": {},
     "output_type": "execute_result"
    }
   ],
   "source": [
    "downloadFileDf"
   ]
  },
  {
   "cell_type": "code",
   "execution_count": 35,
   "metadata": {},
   "outputs": [],
   "source": [
    "downloadFileDf.to_parquet(f\"../../data/imgs_metadata/{vehicleType}.parquet\")"
   ]
  },
  {
   "cell_type": "code",
   "execution_count": 36,
   "metadata": {},
   "outputs": [
    {
     "data": {
      "text/html": [
       "<div>\n",
       "<style scoped>\n",
       "    .dataframe tbody tr th:only-of-type {\n",
       "        vertical-align: middle;\n",
       "    }\n",
       "\n",
       "    .dataframe tbody tr th {\n",
       "        vertical-align: top;\n",
       "    }\n",
       "\n",
       "    .dataframe thead th {\n",
       "        text-align: right;\n",
       "    }\n",
       "</style>\n",
       "<table border=\"1\" class=\"dataframe\">\n",
       "  <thead>\n",
       "    <tr style=\"text-align: right;\">\n",
       "      <th></th>\n",
       "      <th>CaseID</th>\n",
       "      <th>iDOCID</th>\n",
       "      <th>StdDocDesc</th>\n",
       "      <th>filename</th>\n",
       "      <th>url</th>\n",
       "    </tr>\n",
       "  </thead>\n",
       "  <tbody>\n",
       "    <tr>\n",
       "      <th>16</th>\n",
       "      <td>10000515</td>\n",
       "      <td>437326556.0</td>\n",
       "      <td>Front View</td>\n",
       "      <td>10000515_437326556.JPG</td>\n",
       "      <td>http://192.168.1.4:8888/buckets/raw_imgs/10000...</td>\n",
       "    </tr>\n",
       "    <tr>\n",
       "      <th>19</th>\n",
       "      <td>10001070</td>\n",
       "      <td>437336634.0</td>\n",
       "      <td>Front View</td>\n",
       "      <td>10001070_437336634.JPG</td>\n",
       "      <td>http://192.168.1.4:8888/buckets/raw_imgs/10001...</td>\n",
       "    </tr>\n",
       "    <tr>\n",
       "      <th>20</th>\n",
       "      <td>10001217</td>\n",
       "      <td>437355562.0</td>\n",
       "      <td>Front View</td>\n",
       "      <td>10001217_437355562.JPG</td>\n",
       "      <td>http://192.168.1.4:8888/buckets/raw_imgs/10001...</td>\n",
       "    </tr>\n",
       "    <tr>\n",
       "      <th>24</th>\n",
       "      <td>10001500</td>\n",
       "      <td>437374687.0</td>\n",
       "      <td>Front View</td>\n",
       "      <td>10001500_437374687.JPG</td>\n",
       "      <td>http://192.168.1.4:8888/buckets/raw_imgs/10001...</td>\n",
       "    </tr>\n",
       "    <tr>\n",
       "      <th>30</th>\n",
       "      <td>10001364</td>\n",
       "      <td>437380493.0</td>\n",
       "      <td>Front View</td>\n",
       "      <td>10001364_437380493.JPG</td>\n",
       "      <td>http://192.168.1.4:8888/buckets/raw_imgs/10001...</td>\n",
       "    </tr>\n",
       "    <tr>\n",
       "      <th>...</th>\n",
       "      <td>...</td>\n",
       "      <td>...</td>\n",
       "      <td>...</td>\n",
       "      <td>...</td>\n",
       "      <td>...</td>\n",
       "    </tr>\n",
       "    <tr>\n",
       "      <th>2794109</th>\n",
       "      <td>13071067</td>\n",
       "      <td>594976669.0</td>\n",
       "      <td>Rear View Right</td>\n",
       "      <td>13071067_594976669.JPG</td>\n",
       "      <td>http://192.168.1.4:8888/buckets/raw_imgs/13071...</td>\n",
       "    </tr>\n",
       "    <tr>\n",
       "      <th>2794399</th>\n",
       "      <td>13072671</td>\n",
       "      <td>595064894.0</td>\n",
       "      <td>Rear View Right</td>\n",
       "      <td>13072671_595064894.JPG</td>\n",
       "      <td>http://192.168.1.4:8888/buckets/raw_imgs/13072...</td>\n",
       "    </tr>\n",
       "    <tr>\n",
       "      <th>2794423</th>\n",
       "      <td>13076951</td>\n",
       "      <td>595070636.0</td>\n",
       "      <td>Rear View Right</td>\n",
       "      <td>13076951_595070636.JPG</td>\n",
       "      <td>http://192.168.1.4:8888/buckets/raw_imgs/13076...</td>\n",
       "    </tr>\n",
       "    <tr>\n",
       "      <th>2794570</th>\n",
       "      <td>13075282</td>\n",
       "      <td>595114812.0</td>\n",
       "      <td>Rear View Right</td>\n",
       "      <td>13075282_595114812.JPG</td>\n",
       "      <td>http://192.168.1.4:8888/buckets/raw_imgs/13075...</td>\n",
       "    </tr>\n",
       "    <tr>\n",
       "      <th>2795113</th>\n",
       "      <td>13074208</td>\n",
       "      <td>595299193.0</td>\n",
       "      <td>Rear View Right</td>\n",
       "      <td>13074208_595299193.JPG</td>\n",
       "      <td>http://192.168.1.4:8888/buckets/raw_imgs/13074...</td>\n",
       "    </tr>\n",
       "  </tbody>\n",
       "</table>\n",
       "<p>49025 rows × 5 columns</p>\n",
       "</div>"
      ],
      "text/plain": [
       "           CaseID       iDOCID       StdDocDesc                filename  \\\n",
       "16       10000515  437326556.0       Front View  10000515_437326556.JPG   \n",
       "19       10001070  437336634.0       Front View  10001070_437336634.JPG   \n",
       "20       10001217  437355562.0       Front View  10001217_437355562.JPG   \n",
       "24       10001500  437374687.0       Front View  10001500_437374687.JPG   \n",
       "30       10001364  437380493.0       Front View  10001364_437380493.JPG   \n",
       "...           ...          ...              ...                     ...   \n",
       "2794109  13071067  594976669.0  Rear View Right  13071067_594976669.JPG   \n",
       "2794399  13072671  595064894.0  Rear View Right  13072671_595064894.JPG   \n",
       "2794423  13076951  595070636.0  Rear View Right  13076951_595070636.JPG   \n",
       "2794570  13075282  595114812.0  Rear View Right  13075282_595114812.JPG   \n",
       "2795113  13074208  595299193.0  Rear View Right  13074208_595299193.JPG   \n",
       "\n",
       "                                                       url  \n",
       "16       http://192.168.1.4:8888/buckets/raw_imgs/10000...  \n",
       "19       http://192.168.1.4:8888/buckets/raw_imgs/10001...  \n",
       "20       http://192.168.1.4:8888/buckets/raw_imgs/10001...  \n",
       "24       http://192.168.1.4:8888/buckets/raw_imgs/10001...  \n",
       "30       http://192.168.1.4:8888/buckets/raw_imgs/10001...  \n",
       "...                                                    ...  \n",
       "2794109  http://192.168.1.4:8888/buckets/raw_imgs/13071...  \n",
       "2794399  http://192.168.1.4:8888/buckets/raw_imgs/13072...  \n",
       "2794423  http://192.168.1.4:8888/buckets/raw_imgs/13076...  \n",
       "2794570  http://192.168.1.4:8888/buckets/raw_imgs/13075...  \n",
       "2795113  http://192.168.1.4:8888/buckets/raw_imgs/13074...  \n",
       "\n",
       "[49025 rows x 5 columns]"
      ]
     },
     "execution_count": 36,
     "metadata": {},
     "output_type": "execute_result"
    }
   ],
   "source": [
    "pd.read_parquet(f\"/home/alextay96/Desktop/all_workspace/new_workspace/DLDataPipeline/data/imgs_metadata/{vehicleType}.parquet\")"
   ]
  },
  {
   "cell_type": "markdown",
   "metadata": {},
   "source": []
  }
 ],
 "metadata": {
  "kernelspec": {
   "display_name": "Python 3.10.6 ('work')",
   "language": "python",
   "name": "python3"
  },
  "language_info": {
   "codemirror_mode": {
    "name": "ipython",
    "version": 3
   },
   "file_extension": ".py",
   "mimetype": "text/x-python",
   "name": "python",
   "nbconvert_exporter": "python",
   "pygments_lexer": "ipython3",
   "version": "3.10.8"
  },
  "orig_nbformat": 4,
  "vscode": {
   "interpreter": {
    "hash": "0e8f33c5a67865e6aadcd232beb3e2644a1f224e780847feacdefa5e710f41d5"
   }
  }
 },
 "nbformat": 4,
 "nbformat_minor": 2
}
