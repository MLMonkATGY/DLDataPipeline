{
 "cells": [
  {
   "cell_type": "code",
   "execution_count": 30,
   "metadata": {},
   "outputs": [],
   "source": [
    "\n",
    "from catboost import CatBoostClassifier, Pool\n",
    "from catboost.utils import eval_metric\n",
    "from sklearn.datasets import make_multilabel_classification\n",
    "from sklearn.model_selection import train_test_split\n",
    "import pandas as pd\n",
    "import sklearn.metrics as metrics\n",
    "from sklearn.metrics import accuracy_score, classification_report\n",
    "import numpy as np\n",
    "import plotly.express as px\n",
    "import shap\n",
    "import seaborn as sns\n",
    "from IPython import display\n",
    "import matplotlib.pyplot as plt\n",
    "import awswrangler as wr\n",
    "import boto3\n",
    "from tqdm import tqdm\n",
    "import requests\n",
    "from PIL import Image\n",
    "from io import BytesIO\n",
    "import os\n",
    "import random\n",
    "from joblib import Parallel , delayed\n"
   ]
  },
  {
   "cell_type": "code",
   "execution_count": 31,
   "metadata": {},
   "outputs": [],
   "source": [
    "wr.config.s3_endpoint_url = \"http://192.168.1.4:8333\"\n"
   ]
  },
  {
   "cell_type": "code",
   "execution_count": 32,
   "metadata": {},
   "outputs": [],
   "source": [
    "vehicleType = \"SUV - 5 Dr\"\n"
   ]
  },
  {
   "cell_type": "code",
   "execution_count": 33,
   "metadata": {},
   "outputs": [
    {
     "data": {
      "text/html": [
       "<div>\n",
       "<style scoped>\n",
       "    .dataframe tbody tr th:only-of-type {\n",
       "        vertical-align: middle;\n",
       "    }\n",
       "\n",
       "    .dataframe tbody tr th {\n",
       "        vertical-align: top;\n",
       "    }\n",
       "\n",
       "    .dataframe thead th {\n",
       "        text-align: right;\n",
       "    }\n",
       "</style>\n",
       "<table border=\"1\" class=\"dataframe\">\n",
       "  <thead>\n",
       "    <tr style=\"text-align: right;\">\n",
       "      <th></th>\n",
       "      <th>CaseID</th>\n",
       "      <th>Vehicle_Type</th>\n",
       "    </tr>\n",
       "  </thead>\n",
       "  <tbody>\n",
       "    <tr>\n",
       "      <th>0</th>\n",
       "      <td>10000037</td>\n",
       "      <td>SUV - 5 Dr</td>\n",
       "    </tr>\n",
       "    <tr>\n",
       "      <th>1</th>\n",
       "      <td>10000064</td>\n",
       "      <td>SUV - 5 Dr</td>\n",
       "    </tr>\n",
       "    <tr>\n",
       "      <th>2</th>\n",
       "      <td>10000066</td>\n",
       "      <td>SUV - 5 Dr</td>\n",
       "    </tr>\n",
       "    <tr>\n",
       "      <th>3</th>\n",
       "      <td>10000117</td>\n",
       "      <td>SUV - 5 Dr</td>\n",
       "    </tr>\n",
       "    <tr>\n",
       "      <th>4</th>\n",
       "      <td>10000125</td>\n",
       "      <td>SUV - 5 Dr</td>\n",
       "    </tr>\n",
       "    <tr>\n",
       "      <th>...</th>\n",
       "      <td>...</td>\n",
       "      <td>...</td>\n",
       "    </tr>\n",
       "    <tr>\n",
       "      <th>63737</th>\n",
       "      <td>13562831</td>\n",
       "      <td>SUV - 5 Dr</td>\n",
       "    </tr>\n",
       "    <tr>\n",
       "      <th>63738</th>\n",
       "      <td>13562839</td>\n",
       "      <td>SUV - 5 Dr</td>\n",
       "    </tr>\n",
       "    <tr>\n",
       "      <th>63739</th>\n",
       "      <td>13562932</td>\n",
       "      <td>SUV - 5 Dr</td>\n",
       "    </tr>\n",
       "    <tr>\n",
       "      <th>63740</th>\n",
       "      <td>13562968</td>\n",
       "      <td>SUV - 5 Dr</td>\n",
       "    </tr>\n",
       "    <tr>\n",
       "      <th>63741</th>\n",
       "      <td>13563056</td>\n",
       "      <td>SUV - 5 Dr</td>\n",
       "    </tr>\n",
       "  </tbody>\n",
       "</table>\n",
       "<p>63742 rows × 2 columns</p>\n",
       "</div>"
      ],
      "text/plain": [
       "         CaseID Vehicle_Type\n",
       "0      10000037   SUV - 5 Dr\n",
       "1      10000064   SUV - 5 Dr\n",
       "2      10000066   SUV - 5 Dr\n",
       "3      10000117   SUV - 5 Dr\n",
       "4      10000125   SUV - 5 Dr\n",
       "...         ...          ...\n",
       "63737  13562831   SUV - 5 Dr\n",
       "63738  13562839   SUV - 5 Dr\n",
       "63739  13562932   SUV - 5 Dr\n",
       "63740  13562968   SUV - 5 Dr\n",
       "63741  13563056   SUV - 5 Dr\n",
       "\n",
       "[63742 rows x 2 columns]"
      ]
     },
     "execution_count": 33,
     "metadata": {},
     "output_type": "execute_result"
    }
   ],
   "source": [
    "bucket3 = \"scope_case\"\n",
    "myFilter =  lambda x : x[\"Vehicle_Type\"] == vehicleType\n",
    "targetCols = [\"CaseID\", \"Vehicle_Type\"]\n",
    "caseDf = wr.s3.read_parquet(f\"s3://{bucket3}/\" ,partition_filter=myFilter,dataset=True, columns=targetCols)\n",
    "caseDf"
   ]
  },
  {
   "cell_type": "code",
   "execution_count": null,
   "metadata": {},
   "outputs": [],
   "source": []
  },
  {
   "cell_type": "code",
   "execution_count": 34,
   "metadata": {},
   "outputs": [
    {
     "name": "stderr",
     "output_type": "stream",
     "text": [
      "52it [00:45,  1.15it/s]"
     ]
    },
    {
     "name": "stdout",
     "output_type": "stream",
     "text": [
      "103778\n"
     ]
    },
    {
     "name": "stderr",
     "output_type": "stream",
     "text": [
      "\n"
     ]
    }
   ],
   "source": [
    "bucketName = \"raw_imgs\"\n",
    "cli = boto3.client(\n",
    "    \"s3\",\n",
    "    **{\n",
    "        \"endpoint_url\": \"http://192.168.1.4:8333\",\n",
    "    }\n",
    ")\n",
    "paginator = cli.get_paginator(\"list_objects_v2\")\n",
    "operation_parameters = {\"Bucket\": bucketName}\n",
    "page_iterator = paginator.paginate(**operation_parameters)\n",
    "downloadedImgs = []\n",
    "for page in tqdm(page_iterator):\n",
    "    pageContent = page[\"Contents\"]\n",
    "    downloadedCaseId = set([int(x[\"Key\"].split(\"_\")[0]) for x in pageContent])\n",
    "    downloadedImgs.extend(downloadedCaseId)\n",
    "print(len(downloadedImgs))"
   ]
  },
  {
   "cell_type": "code",
   "execution_count": null,
   "metadata": {},
   "outputs": [],
   "source": []
  },
  {
   "cell_type": "code",
   "execution_count": 35,
   "metadata": {},
   "outputs": [],
   "source": [
    "availableImgsCase = set(downloadedImgs).intersection(caseDf[\"CaseID\"].unique().tolist())\n",
    "downloadedCaseLength = len(availableImgsCase)"
   ]
  },
  {
   "cell_type": "code",
   "execution_count": 36,
   "metadata": {},
   "outputs": [],
   "source": [
    "notDownloadedCaseLength = len(caseDf) - downloadedCaseLength"
   ]
  },
  {
   "cell_type": "code",
   "execution_count": 37,
   "metadata": {},
   "outputs": [
    {
     "data": {
      "text/plain": [
       "0.34625521634087414"
      ]
     },
     "execution_count": 37,
     "metadata": {},
     "output_type": "execute_result"
    }
   ],
   "source": [
    "availableRatio = len(availableImgsCase) / len(caseDf)\n",
    "availableRatio"
   ]
  },
  {
   "cell_type": "code",
   "execution_count": 38,
   "metadata": {},
   "outputs": [],
   "source": [
    "trackDf = pd.json_normalize([{\n",
    "    \"label\" : \"available\",\n",
    "    \"cases\" : downloadedCaseLength\n",
    "},\n",
    "                             {\n",
    "    \"label\" : \"not_available\",\n",
    "    \"cases\" : notDownloadedCaseLength\n",
    "}\n",
    "                             \n",
    "                             \n",
    "                             ])"
   ]
  },
  {
   "cell_type": "code",
   "execution_count": 39,
   "metadata": {},
   "outputs": [
    {
     "data": {
      "application/vnd.plotly.v1+json": {
       "config": {
        "plotlyServerURL": "https://plot.ly"
       },
       "data": [
        {
         "domain": {
          "x": [
           0,
           1
          ],
          "y": [
           0,
           1
          ]
         },
         "hovertemplate": "cases=%{value}<extra></extra>",
         "legendgroup": "",
         "name": "",
         "showlegend": false,
         "type": "pie",
         "values": [
          22071,
          41671
         ]
        }
       ],
       "layout": {
        "legend": {
         "tracegroupgap": 0
        },
        "margin": {
         "t": 60
        },
        "template": {
         "data": {
          "bar": [
           {
            "error_x": {
             "color": "#2a3f5f"
            },
            "error_y": {
             "color": "#2a3f5f"
            },
            "marker": {
             "line": {
              "color": "#E5ECF6",
              "width": 0.5
             },
             "pattern": {
              "fillmode": "overlay",
              "size": 10,
              "solidity": 0.2
             }
            },
            "type": "bar"
           }
          ],
          "barpolar": [
           {
            "marker": {
             "line": {
              "color": "#E5ECF6",
              "width": 0.5
             },
             "pattern": {
              "fillmode": "overlay",
              "size": 10,
              "solidity": 0.2
             }
            },
            "type": "barpolar"
           }
          ],
          "carpet": [
           {
            "aaxis": {
             "endlinecolor": "#2a3f5f",
             "gridcolor": "white",
             "linecolor": "white",
             "minorgridcolor": "white",
             "startlinecolor": "#2a3f5f"
            },
            "baxis": {
             "endlinecolor": "#2a3f5f",
             "gridcolor": "white",
             "linecolor": "white",
             "minorgridcolor": "white",
             "startlinecolor": "#2a3f5f"
            },
            "type": "carpet"
           }
          ],
          "choropleth": [
           {
            "colorbar": {
             "outlinewidth": 0,
             "ticks": ""
            },
            "type": "choropleth"
           }
          ],
          "contour": [
           {
            "colorbar": {
             "outlinewidth": 0,
             "ticks": ""
            },
            "colorscale": [
             [
              0,
              "#0d0887"
             ],
             [
              0.1111111111111111,
              "#46039f"
             ],
             [
              0.2222222222222222,
              "#7201a8"
             ],
             [
              0.3333333333333333,
              "#9c179e"
             ],
             [
              0.4444444444444444,
              "#bd3786"
             ],
             [
              0.5555555555555556,
              "#d8576b"
             ],
             [
              0.6666666666666666,
              "#ed7953"
             ],
             [
              0.7777777777777778,
              "#fb9f3a"
             ],
             [
              0.8888888888888888,
              "#fdca26"
             ],
             [
              1,
              "#f0f921"
             ]
            ],
            "type": "contour"
           }
          ],
          "contourcarpet": [
           {
            "colorbar": {
             "outlinewidth": 0,
             "ticks": ""
            },
            "type": "contourcarpet"
           }
          ],
          "heatmap": [
           {
            "colorbar": {
             "outlinewidth": 0,
             "ticks": ""
            },
            "colorscale": [
             [
              0,
              "#0d0887"
             ],
             [
              0.1111111111111111,
              "#46039f"
             ],
             [
              0.2222222222222222,
              "#7201a8"
             ],
             [
              0.3333333333333333,
              "#9c179e"
             ],
             [
              0.4444444444444444,
              "#bd3786"
             ],
             [
              0.5555555555555556,
              "#d8576b"
             ],
             [
              0.6666666666666666,
              "#ed7953"
             ],
             [
              0.7777777777777778,
              "#fb9f3a"
             ],
             [
              0.8888888888888888,
              "#fdca26"
             ],
             [
              1,
              "#f0f921"
             ]
            ],
            "type": "heatmap"
           }
          ],
          "heatmapgl": [
           {
            "colorbar": {
             "outlinewidth": 0,
             "ticks": ""
            },
            "colorscale": [
             [
              0,
              "#0d0887"
             ],
             [
              0.1111111111111111,
              "#46039f"
             ],
             [
              0.2222222222222222,
              "#7201a8"
             ],
             [
              0.3333333333333333,
              "#9c179e"
             ],
             [
              0.4444444444444444,
              "#bd3786"
             ],
             [
              0.5555555555555556,
              "#d8576b"
             ],
             [
              0.6666666666666666,
              "#ed7953"
             ],
             [
              0.7777777777777778,
              "#fb9f3a"
             ],
             [
              0.8888888888888888,
              "#fdca26"
             ],
             [
              1,
              "#f0f921"
             ]
            ],
            "type": "heatmapgl"
           }
          ],
          "histogram": [
           {
            "marker": {
             "pattern": {
              "fillmode": "overlay",
              "size": 10,
              "solidity": 0.2
             }
            },
            "type": "histogram"
           }
          ],
          "histogram2d": [
           {
            "colorbar": {
             "outlinewidth": 0,
             "ticks": ""
            },
            "colorscale": [
             [
              0,
              "#0d0887"
             ],
             [
              0.1111111111111111,
              "#46039f"
             ],
             [
              0.2222222222222222,
              "#7201a8"
             ],
             [
              0.3333333333333333,
              "#9c179e"
             ],
             [
              0.4444444444444444,
              "#bd3786"
             ],
             [
              0.5555555555555556,
              "#d8576b"
             ],
             [
              0.6666666666666666,
              "#ed7953"
             ],
             [
              0.7777777777777778,
              "#fb9f3a"
             ],
             [
              0.8888888888888888,
              "#fdca26"
             ],
             [
              1,
              "#f0f921"
             ]
            ],
            "type": "histogram2d"
           }
          ],
          "histogram2dcontour": [
           {
            "colorbar": {
             "outlinewidth": 0,
             "ticks": ""
            },
            "colorscale": [
             [
              0,
              "#0d0887"
             ],
             [
              0.1111111111111111,
              "#46039f"
             ],
             [
              0.2222222222222222,
              "#7201a8"
             ],
             [
              0.3333333333333333,
              "#9c179e"
             ],
             [
              0.4444444444444444,
              "#bd3786"
             ],
             [
              0.5555555555555556,
              "#d8576b"
             ],
             [
              0.6666666666666666,
              "#ed7953"
             ],
             [
              0.7777777777777778,
              "#fb9f3a"
             ],
             [
              0.8888888888888888,
              "#fdca26"
             ],
             [
              1,
              "#f0f921"
             ]
            ],
            "type": "histogram2dcontour"
           }
          ],
          "mesh3d": [
           {
            "colorbar": {
             "outlinewidth": 0,
             "ticks": ""
            },
            "type": "mesh3d"
           }
          ],
          "parcoords": [
           {
            "line": {
             "colorbar": {
              "outlinewidth": 0,
              "ticks": ""
             }
            },
            "type": "parcoords"
           }
          ],
          "pie": [
           {
            "automargin": true,
            "type": "pie"
           }
          ],
          "scatter": [
           {
            "fillpattern": {
             "fillmode": "overlay",
             "size": 10,
             "solidity": 0.2
            },
            "type": "scatter"
           }
          ],
          "scatter3d": [
           {
            "line": {
             "colorbar": {
              "outlinewidth": 0,
              "ticks": ""
             }
            },
            "marker": {
             "colorbar": {
              "outlinewidth": 0,
              "ticks": ""
             }
            },
            "type": "scatter3d"
           }
          ],
          "scattercarpet": [
           {
            "marker": {
             "colorbar": {
              "outlinewidth": 0,
              "ticks": ""
             }
            },
            "type": "scattercarpet"
           }
          ],
          "scattergeo": [
           {
            "marker": {
             "colorbar": {
              "outlinewidth": 0,
              "ticks": ""
             }
            },
            "type": "scattergeo"
           }
          ],
          "scattergl": [
           {
            "marker": {
             "colorbar": {
              "outlinewidth": 0,
              "ticks": ""
             }
            },
            "type": "scattergl"
           }
          ],
          "scattermapbox": [
           {
            "marker": {
             "colorbar": {
              "outlinewidth": 0,
              "ticks": ""
             }
            },
            "type": "scattermapbox"
           }
          ],
          "scatterpolar": [
           {
            "marker": {
             "colorbar": {
              "outlinewidth": 0,
              "ticks": ""
             }
            },
            "type": "scatterpolar"
           }
          ],
          "scatterpolargl": [
           {
            "marker": {
             "colorbar": {
              "outlinewidth": 0,
              "ticks": ""
             }
            },
            "type": "scatterpolargl"
           }
          ],
          "scatterternary": [
           {
            "marker": {
             "colorbar": {
              "outlinewidth": 0,
              "ticks": ""
             }
            },
            "type": "scatterternary"
           }
          ],
          "surface": [
           {
            "colorbar": {
             "outlinewidth": 0,
             "ticks": ""
            },
            "colorscale": [
             [
              0,
              "#0d0887"
             ],
             [
              0.1111111111111111,
              "#46039f"
             ],
             [
              0.2222222222222222,
              "#7201a8"
             ],
             [
              0.3333333333333333,
              "#9c179e"
             ],
             [
              0.4444444444444444,
              "#bd3786"
             ],
             [
              0.5555555555555556,
              "#d8576b"
             ],
             [
              0.6666666666666666,
              "#ed7953"
             ],
             [
              0.7777777777777778,
              "#fb9f3a"
             ],
             [
              0.8888888888888888,
              "#fdca26"
             ],
             [
              1,
              "#f0f921"
             ]
            ],
            "type": "surface"
           }
          ],
          "table": [
           {
            "cells": {
             "fill": {
              "color": "#EBF0F8"
             },
             "line": {
              "color": "white"
             }
            },
            "header": {
             "fill": {
              "color": "#C8D4E3"
             },
             "line": {
              "color": "white"
             }
            },
            "type": "table"
           }
          ]
         },
         "layout": {
          "annotationdefaults": {
           "arrowcolor": "#2a3f5f",
           "arrowhead": 0,
           "arrowwidth": 1
          },
          "autotypenumbers": "strict",
          "coloraxis": {
           "colorbar": {
            "outlinewidth": 0,
            "ticks": ""
           }
          },
          "colorscale": {
           "diverging": [
            [
             0,
             "#8e0152"
            ],
            [
             0.1,
             "#c51b7d"
            ],
            [
             0.2,
             "#de77ae"
            ],
            [
             0.3,
             "#f1b6da"
            ],
            [
             0.4,
             "#fde0ef"
            ],
            [
             0.5,
             "#f7f7f7"
            ],
            [
             0.6,
             "#e6f5d0"
            ],
            [
             0.7,
             "#b8e186"
            ],
            [
             0.8,
             "#7fbc41"
            ],
            [
             0.9,
             "#4d9221"
            ],
            [
             1,
             "#276419"
            ]
           ],
           "sequential": [
            [
             0,
             "#0d0887"
            ],
            [
             0.1111111111111111,
             "#46039f"
            ],
            [
             0.2222222222222222,
             "#7201a8"
            ],
            [
             0.3333333333333333,
             "#9c179e"
            ],
            [
             0.4444444444444444,
             "#bd3786"
            ],
            [
             0.5555555555555556,
             "#d8576b"
            ],
            [
             0.6666666666666666,
             "#ed7953"
            ],
            [
             0.7777777777777778,
             "#fb9f3a"
            ],
            [
             0.8888888888888888,
             "#fdca26"
            ],
            [
             1,
             "#f0f921"
            ]
           ],
           "sequentialminus": [
            [
             0,
             "#0d0887"
            ],
            [
             0.1111111111111111,
             "#46039f"
            ],
            [
             0.2222222222222222,
             "#7201a8"
            ],
            [
             0.3333333333333333,
             "#9c179e"
            ],
            [
             0.4444444444444444,
             "#bd3786"
            ],
            [
             0.5555555555555556,
             "#d8576b"
            ],
            [
             0.6666666666666666,
             "#ed7953"
            ],
            [
             0.7777777777777778,
             "#fb9f3a"
            ],
            [
             0.8888888888888888,
             "#fdca26"
            ],
            [
             1,
             "#f0f921"
            ]
           ]
          },
          "colorway": [
           "#636efa",
           "#EF553B",
           "#00cc96",
           "#ab63fa",
           "#FFA15A",
           "#19d3f3",
           "#FF6692",
           "#B6E880",
           "#FF97FF",
           "#FECB52"
          ],
          "font": {
           "color": "#2a3f5f"
          },
          "geo": {
           "bgcolor": "white",
           "lakecolor": "white",
           "landcolor": "#E5ECF6",
           "showlakes": true,
           "showland": true,
           "subunitcolor": "white"
          },
          "hoverlabel": {
           "align": "left"
          },
          "hovermode": "closest",
          "mapbox": {
           "style": "light"
          },
          "paper_bgcolor": "white",
          "plot_bgcolor": "#E5ECF6",
          "polar": {
           "angularaxis": {
            "gridcolor": "white",
            "linecolor": "white",
            "ticks": ""
           },
           "bgcolor": "#E5ECF6",
           "radialaxis": {
            "gridcolor": "white",
            "linecolor": "white",
            "ticks": ""
           }
          },
          "scene": {
           "xaxis": {
            "backgroundcolor": "#E5ECF6",
            "gridcolor": "white",
            "gridwidth": 2,
            "linecolor": "white",
            "showbackground": true,
            "ticks": "",
            "zerolinecolor": "white"
           },
           "yaxis": {
            "backgroundcolor": "#E5ECF6",
            "gridcolor": "white",
            "gridwidth": 2,
            "linecolor": "white",
            "showbackground": true,
            "ticks": "",
            "zerolinecolor": "white"
           },
           "zaxis": {
            "backgroundcolor": "#E5ECF6",
            "gridcolor": "white",
            "gridwidth": 2,
            "linecolor": "white",
            "showbackground": true,
            "ticks": "",
            "zerolinecolor": "white"
           }
          },
          "shapedefaults": {
           "line": {
            "color": "#2a3f5f"
           }
          },
          "ternary": {
           "aaxis": {
            "gridcolor": "white",
            "linecolor": "white",
            "ticks": ""
           },
           "baxis": {
            "gridcolor": "white",
            "linecolor": "white",
            "ticks": ""
           },
           "bgcolor": "#E5ECF6",
           "caxis": {
            "gridcolor": "white",
            "linecolor": "white",
            "ticks": ""
           }
          },
          "title": {
           "x": 0.05
          },
          "xaxis": {
           "automargin": true,
           "gridcolor": "white",
           "linecolor": "white",
           "ticks": "",
           "title": {
            "standoff": 15
           },
           "zerolinecolor": "white",
           "zerolinewidth": 2
          },
          "yaxis": {
           "automargin": true,
           "gridcolor": "white",
           "linecolor": "white",
           "ticks": "",
           "title": {
            "standoff": 15
           },
           "zerolinecolor": "white",
           "zerolinewidth": 2
          }
         }
        }
       }
      }
     },
     "metadata": {},
     "output_type": "display_data"
    }
   ],
   "source": [
    "import plotly.express as px\n",
    "\n",
    "fig = px.pie(data_frame=trackDf, values=\"cases\", labels=\"label\")\n",
    "fig.show()"
   ]
  },
  {
   "cell_type": "code",
   "execution_count": 40,
   "metadata": {},
   "outputs": [
    {
     "data": {
      "text/html": [
       "<div>\n",
       "<style scoped>\n",
       "    .dataframe tbody tr th:only-of-type {\n",
       "        vertical-align: middle;\n",
       "    }\n",
       "\n",
       "    .dataframe tbody tr th {\n",
       "        vertical-align: top;\n",
       "    }\n",
       "\n",
       "    .dataframe thead th {\n",
       "        text-align: right;\n",
       "    }\n",
       "</style>\n",
       "<table border=\"1\" class=\"dataframe\">\n",
       "  <thead>\n",
       "    <tr style=\"text-align: right;\">\n",
       "      <th></th>\n",
       "      <th>CaseID</th>\n",
       "      <th>iDOCID</th>\n",
       "      <th>StdDocDesc</th>\n",
       "    </tr>\n",
       "  </thead>\n",
       "  <tbody>\n",
       "    <tr>\n",
       "      <th>0</th>\n",
       "      <td>10375210</td>\n",
       "      <td>456204471.0</td>\n",
       "      <td>Front View</td>\n",
       "    </tr>\n",
       "    <tr>\n",
       "      <th>1</th>\n",
       "      <td>10839776</td>\n",
       "      <td>479277541.0</td>\n",
       "      <td>Front View</td>\n",
       "    </tr>\n",
       "    <tr>\n",
       "      <th>2</th>\n",
       "      <td>10595863</td>\n",
       "      <td>518945875.0</td>\n",
       "      <td>Front View</td>\n",
       "    </tr>\n",
       "    <tr>\n",
       "      <th>3</th>\n",
       "      <td>10324518</td>\n",
       "      <td>453575575.0</td>\n",
       "      <td>Front View</td>\n",
       "    </tr>\n",
       "    <tr>\n",
       "      <th>4</th>\n",
       "      <td>10810372</td>\n",
       "      <td>477799896.0</td>\n",
       "      <td>Front View</td>\n",
       "    </tr>\n",
       "    <tr>\n",
       "      <th>...</th>\n",
       "      <td>...</td>\n",
       "      <td>...</td>\n",
       "      <td>...</td>\n",
       "    </tr>\n",
       "    <tr>\n",
       "      <th>2879426</th>\n",
       "      <td>12981985</td>\n",
       "      <td>651301700.0</td>\n",
       "      <td>Rear View Right</td>\n",
       "    </tr>\n",
       "    <tr>\n",
       "      <th>2879427</th>\n",
       "      <td>13548901</td>\n",
       "      <td>651304978.0</td>\n",
       "      <td>Rear View Right</td>\n",
       "    </tr>\n",
       "    <tr>\n",
       "      <th>2879428</th>\n",
       "      <td>13313567</td>\n",
       "      <td>652815210.0</td>\n",
       "      <td>Rear View Right</td>\n",
       "    </tr>\n",
       "    <tr>\n",
       "      <th>2879429</th>\n",
       "      <td>13551639</td>\n",
       "      <td>654542221.0</td>\n",
       "      <td>Rear View Right</td>\n",
       "    </tr>\n",
       "    <tr>\n",
       "      <th>2879430</th>\n",
       "      <td>13401137</td>\n",
       "      <td>655504422.0</td>\n",
       "      <td>Rear View Right</td>\n",
       "    </tr>\n",
       "  </tbody>\n",
       "</table>\n",
       "<p>2879431 rows × 3 columns</p>\n",
       "</div>"
      ],
      "text/plain": [
       "           CaseID       iDOCID       StdDocDesc\n",
       "0        10375210  456204471.0       Front View\n",
       "1        10839776  479277541.0       Front View\n",
       "2        10595863  518945875.0       Front View\n",
       "3        10324518  453575575.0       Front View\n",
       "4        10810372  477799896.0       Front View\n",
       "...           ...          ...              ...\n",
       "2879426  12981985  651301700.0  Rear View Right\n",
       "2879427  13548901  651304978.0  Rear View Right\n",
       "2879428  13313567  652815210.0  Rear View Right\n",
       "2879429  13551639  654542221.0  Rear View Right\n",
       "2879430  13401137  655504422.0  Rear View Right\n",
       "\n",
       "[2879431 rows x 3 columns]"
      ]
     },
     "execution_count": 40,
     "metadata": {},
     "output_type": "execute_result"
    }
   ],
   "source": [
    "bucket3 = \"scope_file\"\n",
    "targetCols = [\"CaseID\", \"iDOCID\"]\n",
    "filesDf = wr.s3.read_parquet(f\"s3://{bucket3}/\" ,dataset=True, columns=targetCols)\n",
    "filesDf"
   ]
  },
  {
   "cell_type": "code",
   "execution_count": 41,
   "metadata": {},
   "outputs": [
    {
     "data": {
      "text/html": [
       "<div>\n",
       "<style scoped>\n",
       "    .dataframe tbody tr th:only-of-type {\n",
       "        vertical-align: middle;\n",
       "    }\n",
       "\n",
       "    .dataframe tbody tr th {\n",
       "        vertical-align: top;\n",
       "    }\n",
       "\n",
       "    .dataframe thead th {\n",
       "        text-align: right;\n",
       "    }\n",
       "</style>\n",
       "<table border=\"1\" class=\"dataframe\">\n",
       "  <thead>\n",
       "    <tr style=\"text-align: right;\">\n",
       "      <th></th>\n",
       "      <th>CaseID</th>\n",
       "      <th>iDOCID</th>\n",
       "      <th>StdDocDesc</th>\n",
       "    </tr>\n",
       "  </thead>\n",
       "  <tbody>\n",
       "    <tr>\n",
       "      <th>25</th>\n",
       "      <td>10001668</td>\n",
       "      <td>437375090.0</td>\n",
       "      <td>Front View</td>\n",
       "    </tr>\n",
       "    <tr>\n",
       "      <th>42</th>\n",
       "      <td>10002172</td>\n",
       "      <td>437396585.0</td>\n",
       "      <td>Front View</td>\n",
       "    </tr>\n",
       "    <tr>\n",
       "      <th>86</th>\n",
       "      <td>10002757</td>\n",
       "      <td>437468727.0</td>\n",
       "      <td>Front View</td>\n",
       "    </tr>\n",
       "    <tr>\n",
       "      <th>117</th>\n",
       "      <td>10003903</td>\n",
       "      <td>437500662.0</td>\n",
       "      <td>Front View</td>\n",
       "    </tr>\n",
       "    <tr>\n",
       "      <th>119</th>\n",
       "      <td>10004377</td>\n",
       "      <td>437506049.0</td>\n",
       "      <td>Front View</td>\n",
       "    </tr>\n",
       "    <tr>\n",
       "      <th>...</th>\n",
       "      <td>...</td>\n",
       "      <td>...</td>\n",
       "      <td>...</td>\n",
       "    </tr>\n",
       "    <tr>\n",
       "      <th>2879298</th>\n",
       "      <td>13396834</td>\n",
       "      <td>630249507.0</td>\n",
       "      <td>Rear View Right</td>\n",
       "    </tr>\n",
       "    <tr>\n",
       "      <th>2879308</th>\n",
       "      <td>13465605</td>\n",
       "      <td>630958730.0</td>\n",
       "      <td>Rear View Right</td>\n",
       "    </tr>\n",
       "    <tr>\n",
       "      <th>2879378</th>\n",
       "      <td>13490232</td>\n",
       "      <td>636651487.0</td>\n",
       "      <td>Rear View Right</td>\n",
       "    </tr>\n",
       "    <tr>\n",
       "      <th>2879409</th>\n",
       "      <td>13553114</td>\n",
       "      <td>644215059.0</td>\n",
       "      <td>Rear View Right</td>\n",
       "    </tr>\n",
       "    <tr>\n",
       "      <th>2879412</th>\n",
       "      <td>13367788</td>\n",
       "      <td>645189473.0</td>\n",
       "      <td>Rear View Right</td>\n",
       "    </tr>\n",
       "  </tbody>\n",
       "</table>\n",
       "<p>113629 rows × 3 columns</p>\n",
       "</div>"
      ],
      "text/plain": [
       "           CaseID       iDOCID       StdDocDesc\n",
       "25       10001668  437375090.0       Front View\n",
       "42       10002172  437396585.0       Front View\n",
       "86       10002757  437468727.0       Front View\n",
       "117      10003903  437500662.0       Front View\n",
       "119      10004377  437506049.0       Front View\n",
       "...           ...          ...              ...\n",
       "2879298  13396834  630249507.0  Rear View Right\n",
       "2879308  13465605  630958730.0  Rear View Right\n",
       "2879378  13490232  636651487.0  Rear View Right\n",
       "2879409  13553114  644215059.0  Rear View Right\n",
       "2879412  13367788  645189473.0  Rear View Right\n",
       "\n",
       "[113629 rows x 3 columns]"
      ]
     },
     "execution_count": 41,
     "metadata": {},
     "output_type": "execute_result"
    }
   ],
   "source": [
    "filesDf = filesDf[filesDf[\"CaseID\"].isin(availableImgsCase)]\n",
    "filesDf"
   ]
  },
  {
   "cell_type": "code",
   "execution_count": 42,
   "metadata": {},
   "outputs": [
    {
     "data": {
      "text/html": [
       "<div>\n",
       "<style scoped>\n",
       "    .dataframe tbody tr th:only-of-type {\n",
       "        vertical-align: middle;\n",
       "    }\n",
       "\n",
       "    .dataframe tbody tr th {\n",
       "        vertical-align: top;\n",
       "    }\n",
       "\n",
       "    .dataframe thead th {\n",
       "        text-align: right;\n",
       "    }\n",
       "</style>\n",
       "<table border=\"1\" class=\"dataframe\">\n",
       "  <thead>\n",
       "    <tr style=\"text-align: right;\">\n",
       "      <th></th>\n",
       "      <th>vision_bonnet</th>\n",
       "      <th>vision_bumper_front</th>\n",
       "      <th>vision_grille</th>\n",
       "      <th>vision_headlamp_rh</th>\n",
       "      <th>vision_headlamp_lh</th>\n",
       "      <th>vision_door_front_lh</th>\n",
       "      <th>vision_door_front_rh</th>\n",
       "      <th>vision_engine</th>\n",
       "      <th>vision_bumper_rear</th>\n",
       "      <th>vision_misc</th>\n",
       "      <th>...</th>\n",
       "      <th>Assembly_Type</th>\n",
       "      <th>Vehicle_Still_Driveable</th>\n",
       "      <th>NCB_Stat</th>\n",
       "      <th>Claim_Type</th>\n",
       "      <th>Vehicle_Type</th>\n",
       "      <th>Sum_Insured</th>\n",
       "      <th>Repairer</th>\n",
       "      <th>Repairer_Apprv_Count</th>\n",
       "      <th>Collision_With</th>\n",
       "      <th>Handling_Insurer</th>\n",
       "    </tr>\n",
       "  </thead>\n",
       "  <tbody>\n",
       "    <tr>\n",
       "      <th>15</th>\n",
       "      <td>1</td>\n",
       "      <td>1</td>\n",
       "      <td>1</td>\n",
       "      <td>1</td>\n",
       "      <td>0</td>\n",
       "      <td>0</td>\n",
       "      <td>0</td>\n",
       "      <td>0</td>\n",
       "      <td>0</td>\n",
       "      <td>1</td>\n",
       "      <td>...</td>\n",
       "      <td>3</td>\n",
       "      <td>1</td>\n",
       "      <td>1</td>\n",
       "      <td>OD</td>\n",
       "      <td>SUV - 5 Dr</td>\n",
       "      <td>75000.0</td>\n",
       "      <td>Ngu Chung Beng &amp; Sons Corporation Sdn Bhd. (Ng...</td>\n",
       "      <td>3169</td>\n",
       "      <td>Others</td>\n",
       "      <td>Chubb Insurance Malaysia Berhad</td>\n",
       "    </tr>\n",
       "    <tr>\n",
       "      <th>49</th>\n",
       "      <td>1</td>\n",
       "      <td>1</td>\n",
       "      <td>1</td>\n",
       "      <td>1</td>\n",
       "      <td>1</td>\n",
       "      <td>0</td>\n",
       "      <td>1</td>\n",
       "      <td>1</td>\n",
       "      <td>0</td>\n",
       "      <td>0</td>\n",
       "      <td>...</td>\n",
       "      <td>3</td>\n",
       "      <td>0</td>\n",
       "      <td>1</td>\n",
       "      <td>OD</td>\n",
       "      <td>SUV - 5 Dr</td>\n",
       "      <td>39600.0</td>\n",
       "      <td>Syarikat Kong Wah Auto Sdn Bhd (HQ)</td>\n",
       "      <td>3681</td>\n",
       "      <td>Private Vehicle</td>\n",
       "      <td>The Pacific Insurance Bhd</td>\n",
       "    </tr>\n",
       "    <tr>\n",
       "      <th>55</th>\n",
       "      <td>1</td>\n",
       "      <td>1</td>\n",
       "      <td>1</td>\n",
       "      <td>1</td>\n",
       "      <td>1</td>\n",
       "      <td>0</td>\n",
       "      <td>0</td>\n",
       "      <td>0</td>\n",
       "      <td>0</td>\n",
       "      <td>1</td>\n",
       "      <td>...</td>\n",
       "      <td>3</td>\n",
       "      <td>0</td>\n",
       "      <td>1</td>\n",
       "      <td>OD</td>\n",
       "      <td>SUV - 5 Dr</td>\n",
       "      <td>42000.0</td>\n",
       "      <td>Tan Chong Ekspres Auto Servis Sdn Bhd (KL - JL...</td>\n",
       "      <td>1049</td>\n",
       "      <td>Private Vehicle</td>\n",
       "      <td>Berjaya Sompo Insurance Berhad</td>\n",
       "    </tr>\n",
       "    <tr>\n",
       "      <th>96</th>\n",
       "      <td>1</td>\n",
       "      <td>1</td>\n",
       "      <td>1</td>\n",
       "      <td>1</td>\n",
       "      <td>1</td>\n",
       "      <td>1</td>\n",
       "      <td>1</td>\n",
       "      <td>1</td>\n",
       "      <td>1</td>\n",
       "      <td>1</td>\n",
       "      <td>...</td>\n",
       "      <td>2</td>\n",
       "      <td>0</td>\n",
       "      <td>1</td>\n",
       "      <td>OD</td>\n",
       "      <td>SUV - 5 Dr</td>\n",
       "      <td>90000.0</td>\n",
       "      <td>Target Orion Star Sdn Bhd (Target Orion Star K...</td>\n",
       "      <td>365</td>\n",
       "      <td>Others</td>\n",
       "      <td>Etiqa General Takaful Berhad</td>\n",
       "    </tr>\n",
       "    <tr>\n",
       "      <th>113</th>\n",
       "      <td>1</td>\n",
       "      <td>1</td>\n",
       "      <td>1</td>\n",
       "      <td>0</td>\n",
       "      <td>1</td>\n",
       "      <td>0</td>\n",
       "      <td>0</td>\n",
       "      <td>1</td>\n",
       "      <td>0</td>\n",
       "      <td>0</td>\n",
       "      <td>...</td>\n",
       "      <td>2</td>\n",
       "      <td>0</td>\n",
       "      <td>1</td>\n",
       "      <td>OD</td>\n",
       "      <td>SUV - 5 Dr</td>\n",
       "      <td>94000.0</td>\n",
       "      <td>Warna Bestari Sdn Bhd (Warna Bestari)</td>\n",
       "      <td>2869</td>\n",
       "      <td>Animal</td>\n",
       "      <td>Allianz General Insurance Company (Malaysia) B...</td>\n",
       "    </tr>\n",
       "    <tr>\n",
       "      <th>...</th>\n",
       "      <td>...</td>\n",
       "      <td>...</td>\n",
       "      <td>...</td>\n",
       "      <td>...</td>\n",
       "      <td>...</td>\n",
       "      <td>...</td>\n",
       "      <td>...</td>\n",
       "      <td>...</td>\n",
       "      <td>...</td>\n",
       "      <td>...</td>\n",
       "      <td>...</td>\n",
       "      <td>...</td>\n",
       "      <td>...</td>\n",
       "      <td>...</td>\n",
       "      <td>...</td>\n",
       "      <td>...</td>\n",
       "      <td>...</td>\n",
       "      <td>...</td>\n",
       "      <td>...</td>\n",
       "      <td>...</td>\n",
       "      <td>...</td>\n",
       "    </tr>\n",
       "    <tr>\n",
       "      <th>597896</th>\n",
       "      <td>0</td>\n",
       "      <td>0</td>\n",
       "      <td>0</td>\n",
       "      <td>0</td>\n",
       "      <td>0</td>\n",
       "      <td>0</td>\n",
       "      <td>0</td>\n",
       "      <td>1</td>\n",
       "      <td>0</td>\n",
       "      <td>0</td>\n",
       "      <td>...</td>\n",
       "      <td>3</td>\n",
       "      <td>1</td>\n",
       "      <td>0</td>\n",
       "      <td>OD EXW</td>\n",
       "      <td>SUV - 5 Dr</td>\n",
       "      <td>40000.0</td>\n",
       "      <td>Tan Chong Ekspres Auto Servis Sdn Bhd (KLANG)</td>\n",
       "      <td>0</td>\n",
       "      <td></td>\n",
       "      <td>RHB Insurance Berhad</td>\n",
       "    </tr>\n",
       "    <tr>\n",
       "      <th>597909</th>\n",
       "      <td>0</td>\n",
       "      <td>0</td>\n",
       "      <td>0</td>\n",
       "      <td>0</td>\n",
       "      <td>0</td>\n",
       "      <td>0</td>\n",
       "      <td>0</td>\n",
       "      <td>1</td>\n",
       "      <td>0</td>\n",
       "      <td>0</td>\n",
       "      <td>...</td>\n",
       "      <td>3</td>\n",
       "      <td>1</td>\n",
       "      <td>0</td>\n",
       "      <td>OD EXW</td>\n",
       "      <td>SUV - 5 Dr</td>\n",
       "      <td>40000.0</td>\n",
       "      <td>Tan Chong Ekspres Auto Servis Sdn Bhd (PJ)</td>\n",
       "      <td>0</td>\n",
       "      <td></td>\n",
       "      <td>RHB Insurance Berhad</td>\n",
       "    </tr>\n",
       "    <tr>\n",
       "      <th>598016</th>\n",
       "      <td>0</td>\n",
       "      <td>0</td>\n",
       "      <td>0</td>\n",
       "      <td>0</td>\n",
       "      <td>0</td>\n",
       "      <td>0</td>\n",
       "      <td>0</td>\n",
       "      <td>1</td>\n",
       "      <td>0</td>\n",
       "      <td>0</td>\n",
       "      <td>...</td>\n",
       "      <td>3</td>\n",
       "      <td>1</td>\n",
       "      <td>0</td>\n",
       "      <td>OD EXW</td>\n",
       "      <td>SUV - 5 Dr</td>\n",
       "      <td>40000.0</td>\n",
       "      <td>Tan Chong Ekspres Auto Servis Sdn Bhd (Batu Ca...</td>\n",
       "      <td>0</td>\n",
       "      <td></td>\n",
       "      <td>RHB Insurance Berhad</td>\n",
       "    </tr>\n",
       "    <tr>\n",
       "      <th>598029</th>\n",
       "      <td>0</td>\n",
       "      <td>0</td>\n",
       "      <td>0</td>\n",
       "      <td>0</td>\n",
       "      <td>0</td>\n",
       "      <td>0</td>\n",
       "      <td>0</td>\n",
       "      <td>1</td>\n",
       "      <td>0</td>\n",
       "      <td>0</td>\n",
       "      <td>...</td>\n",
       "      <td>3</td>\n",
       "      <td>1</td>\n",
       "      <td>0</td>\n",
       "      <td>OD EXW</td>\n",
       "      <td>SUV - 5 Dr</td>\n",
       "      <td>40000.0</td>\n",
       "      <td>Tan Chong Ekspres Auto Servis Sdn Bhd (PJ)</td>\n",
       "      <td>0</td>\n",
       "      <td></td>\n",
       "      <td>RHB Insurance Berhad</td>\n",
       "    </tr>\n",
       "    <tr>\n",
       "      <th>598068</th>\n",
       "      <td>0</td>\n",
       "      <td>0</td>\n",
       "      <td>0</td>\n",
       "      <td>0</td>\n",
       "      <td>0</td>\n",
       "      <td>0</td>\n",
       "      <td>0</td>\n",
       "      <td>0</td>\n",
       "      <td>0</td>\n",
       "      <td>0</td>\n",
       "      <td>...</td>\n",
       "      <td>3</td>\n",
       "      <td>1</td>\n",
       "      <td>0</td>\n",
       "      <td>OD EXW</td>\n",
       "      <td>SUV - 5 Dr</td>\n",
       "      <td>40000.0</td>\n",
       "      <td>Tan Chong Ekspres Auto Servis Sdn Bhd (BALAKONG)</td>\n",
       "      <td>0</td>\n",
       "      <td></td>\n",
       "      <td>RHB Insurance Berhad</td>\n",
       "    </tr>\n",
       "  </tbody>\n",
       "</table>\n",
       "<p>22071 rows × 71 columns</p>\n",
       "</div>"
      ],
      "text/plain": [
       "        vision_bonnet  vision_bumper_front  vision_grille  vision_headlamp_rh  \\\n",
       "15                  1                    1              1                   1   \n",
       "49                  1                    1              1                   1   \n",
       "55                  1                    1              1                   1   \n",
       "96                  1                    1              1                   1   \n",
       "113                 1                    1              1                   0   \n",
       "...               ...                  ...            ...                 ...   \n",
       "597896              0                    0              0                   0   \n",
       "597909              0                    0              0                   0   \n",
       "598016              0                    0              0                   0   \n",
       "598029              0                    0              0                   0   \n",
       "598068              0                    0              0                   0   \n",
       "\n",
       "        vision_headlamp_lh  vision_door_front_lh  vision_door_front_rh  \\\n",
       "15                       0                     0                     0   \n",
       "49                       1                     0                     1   \n",
       "55                       1                     0                     0   \n",
       "96                       1                     1                     1   \n",
       "113                      1                     0                     0   \n",
       "...                    ...                   ...                   ...   \n",
       "597896                   0                     0                     0   \n",
       "597909                   0                     0                     0   \n",
       "598016                   0                     0                     0   \n",
       "598029                   0                     0                     0   \n",
       "598068                   0                     0                     0   \n",
       "\n",
       "        vision_engine  vision_bumper_rear  vision_misc  ...  Assembly_Type  \\\n",
       "15                  0                   0            1  ...              3   \n",
       "49                  1                   0            0  ...              3   \n",
       "55                  0                   0            1  ...              3   \n",
       "96                  1                   1            1  ...              2   \n",
       "113                 1                   0            0  ...              2   \n",
       "...               ...                 ...          ...  ...            ...   \n",
       "597896              1                   0            0  ...              3   \n",
       "597909              1                   0            0  ...              3   \n",
       "598016              1                   0            0  ...              3   \n",
       "598029              1                   0            0  ...              3   \n",
       "598068              0                   0            0  ...              3   \n",
       "\n",
       "        Vehicle_Still_Driveable  NCB_Stat  Claim_Type  Vehicle_Type  \\\n",
       "15                            1         1          OD    SUV - 5 Dr   \n",
       "49                            0         1          OD    SUV - 5 Dr   \n",
       "55                            0         1          OD    SUV - 5 Dr   \n",
       "96                            0         1          OD    SUV - 5 Dr   \n",
       "113                           0         1          OD    SUV - 5 Dr   \n",
       "...                         ...       ...         ...           ...   \n",
       "597896                        1         0      OD EXW    SUV - 5 Dr   \n",
       "597909                        1         0      OD EXW    SUV - 5 Dr   \n",
       "598016                        1         0      OD EXW    SUV - 5 Dr   \n",
       "598029                        1         0      OD EXW    SUV - 5 Dr   \n",
       "598068                        1         0      OD EXW    SUV - 5 Dr   \n",
       "\n",
       "        Sum_Insured                                           Repairer  \\\n",
       "15          75000.0  Ngu Chung Beng & Sons Corporation Sdn Bhd. (Ng...   \n",
       "49          39600.0                Syarikat Kong Wah Auto Sdn Bhd (HQ)   \n",
       "55          42000.0  Tan Chong Ekspres Auto Servis Sdn Bhd (KL - JL...   \n",
       "96          90000.0  Target Orion Star Sdn Bhd (Target Orion Star K...   \n",
       "113         94000.0              Warna Bestari Sdn Bhd (Warna Bestari)   \n",
       "...             ...                                                ...   \n",
       "597896      40000.0      Tan Chong Ekspres Auto Servis Sdn Bhd (KLANG)   \n",
       "597909      40000.0         Tan Chong Ekspres Auto Servis Sdn Bhd (PJ)   \n",
       "598016      40000.0  Tan Chong Ekspres Auto Servis Sdn Bhd (Batu Ca...   \n",
       "598029      40000.0         Tan Chong Ekspres Auto Servis Sdn Bhd (PJ)   \n",
       "598068      40000.0   Tan Chong Ekspres Auto Servis Sdn Bhd (BALAKONG)   \n",
       "\n",
       "        Repairer_Apprv_Count   Collision_With  \\\n",
       "15                      3169           Others   \n",
       "49                      3681  Private Vehicle   \n",
       "55                      1049  Private Vehicle   \n",
       "96                       365           Others   \n",
       "113                     2869           Animal   \n",
       "...                      ...              ...   \n",
       "597896                     0                    \n",
       "597909                     0                    \n",
       "598016                     0                    \n",
       "598029                     0                    \n",
       "598068                     0                    \n",
       "\n",
       "                                         Handling_Insurer  \n",
       "15                        Chubb Insurance Malaysia Berhad  \n",
       "49                              The Pacific Insurance Bhd  \n",
       "55                         Berjaya Sompo Insurance Berhad  \n",
       "96                           Etiqa General Takaful Berhad  \n",
       "113     Allianz General Insurance Company (Malaysia) B...  \n",
       "...                                                   ...  \n",
       "597896                               RHB Insurance Berhad  \n",
       "597909                               RHB Insurance Berhad  \n",
       "598016                               RHB Insurance Berhad  \n",
       "598029                               RHB Insurance Berhad  \n",
       "598068                               RHB Insurance Berhad  \n",
       "\n",
       "[22071 rows x 71 columns]"
      ]
     },
     "execution_count": 42,
     "metadata": {},
     "output_type": "execute_result"
    }
   ],
   "source": [
    "wr.config.s3_endpoint_url = \"http://192.168.1.4:8333\"\n",
    "srcBucketName = \"multilabel_df\"\n",
    "labelDf = wr.s3.read_parquet(\n",
    "    path=f\"s3://{srcBucketName}/\",\n",
    "    dataset=True\n",
    ")\n",
    "balanceLabelDf = labelDf[labelDf[\"CaseID\"].isin(filesDf[\"CaseID\"].unique().tolist())]\n",
    "balanceLabelDf"
   ]
  },
  {
   "cell_type": "code",
   "execution_count": 43,
   "metadata": {},
   "outputs": [
    {
     "data": {
      "text/plain": [
       "['vision_bonnet',\n",
       " 'vision_bumper_front',\n",
       " 'vision_grille',\n",
       " 'vision_headlamp_rh',\n",
       " 'vision_headlamp_lh',\n",
       " 'vision_door_front_lh',\n",
       " 'vision_door_front_rh',\n",
       " 'vision_engine',\n",
       " 'vision_bumper_rear',\n",
       " 'vision_misc',\n",
       " 'vision_front_panel',\n",
       " 'vision_non_external',\n",
       " 'vision_wheel',\n",
       " 'vision_fender_front_lh',\n",
       " 'vision_fender_front_rh',\n",
       " 'vision_rear_quarter_lh',\n",
       " 'vision_tail_lamp_lh',\n",
       " 'vision_tail_lamp_rh',\n",
       " 'vision_windscreen_front',\n",
       " 'vision_rear_compartment',\n",
       " 'vision_rear_panel',\n",
       " 'vision_rear_quarter_rh',\n",
       " 'vision_door_rear_rh',\n",
       " 'vision_door_rear_lh']"
      ]
     },
     "execution_count": 43,
     "metadata": {},
     "output_type": "execute_result"
    }
   ],
   "source": [
    "all_parts = [x for x in balanceLabelDf.columns if \"vision_\" in x]\n",
    "all_parts"
   ]
  },
  {
   "cell_type": "code",
   "execution_count": 44,
   "metadata": {},
   "outputs": [],
   "source": [
    "# partToBalance = [\n",
    "#     \"vision_door_rear_lh\",\n",
    "#     \"vision_door_rear_rh\", \n",
    "#     \"vision_rear_quarter_lh\", \n",
    "#     \"vision_rear_quarter_rh\",\n",
    "#     \"vision_tail_lamp_lh\",\n",
    "#     \"vision_tail_lamp_rh\",\n",
    "#     \"vision_windscreen_front\",\n",
    "#     \"vision_door_front_lh\",\n",
    "#     \"vision_door_front_rh\",\n",
    "\n",
    "#     ]\n",
    "# caseIdForBalance = []\n",
    "# balanceSampleCount = 3000\n",
    "# for part in partToBalance:\n",
    "#     targetCaseId = balanceLabelDf[balanceLabelDf[part] == 1].head(balanceSampleCount)[\"CaseID\"].unique().tolist()\n",
    "#     caseIdForBalance.extend(targetCaseId)\n",
    "# uniqueCaseIdForBalance = set(caseIdForBalance)\n",
    "# print(len(uniqueCaseIdForBalance))"
   ]
  },
  {
   "cell_type": "code",
   "execution_count": 45,
   "metadata": {},
   "outputs": [
    {
     "name": "stderr",
     "output_type": "stream",
     "text": [
      "/tmp/ipykernel_7436/3044125367.py:1: SettingWithCopyWarning:\n",
      "\n",
      "\n",
      "A value is trying to be set on a copy of a slice from a DataFrame.\n",
      "Try using .loc[row_indexer,col_indexer] = value instead\n",
      "\n",
      "See the caveats in the documentation: https://pandas.pydata.org/pandas-docs/stable/user_guide/indexing.html#returning-a-view-versus-a-copy\n",
      "\n"
     ]
    },
    {
     "data": {
      "text/plain": [
       "25         10001668_437375090.JPG\n",
       "42         10002172_437396585.JPG\n",
       "86         10002757_437468727.JPG\n",
       "117        10003903_437500662.JPG\n",
       "119        10004377_437506049.JPG\n",
       "                    ...          \n",
       "2879298    13396834_630249507.JPG\n",
       "2879308    13465605_630958730.JPG\n",
       "2879378    13490232_636651487.JPG\n",
       "2879409    13553114_644215059.JPG\n",
       "2879412    13367788_645189473.JPG\n",
       "Name: filename, Length: 113629, dtype: object"
      ]
     },
     "execution_count": 45,
     "metadata": {},
     "output_type": "execute_result"
    }
   ],
   "source": [
    "filesDf[\"filename\"] = filesDf[['CaseID', \"iDOCID\"]].apply(lambda x : str(int(x[\"CaseID\"])) + \"_\" + str(int(x[\"iDOCID\"])) + \".JPG\", axis=1)\n",
    "filesDf[\"filename\"]"
   ]
  },
  {
   "cell_type": "code",
   "execution_count": 46,
   "metadata": {},
   "outputs": [
    {
     "name": "stderr",
     "output_type": "stream",
     "text": [
      "/tmp/ipykernel_7436/2529705794.py:2: SettingWithCopyWarning:\n",
      "\n",
      "\n",
      "A value is trying to be set on a copy of a slice from a DataFrame.\n",
      "Try using .loc[row_indexer,col_indexer] = value instead\n",
      "\n",
      "See the caveats in the documentation: https://pandas.pydata.org/pandas-docs/stable/user_guide/indexing.html#returning-a-view-versus-a-copy\n",
      "\n"
     ]
    }
   ],
   "source": [
    "endpoint = \"http://192.168.1.4:8888/buckets/raw_imgs/\"\n",
    "filesDf[\"url\"] = endpoint + filesDf[\"filename\"]"
   ]
  },
  {
   "cell_type": "code",
   "execution_count": 47,
   "metadata": {},
   "outputs": [
    {
     "data": {
      "text/plain": [
       "10000"
      ]
     },
     "execution_count": 47,
     "metadata": {},
     "output_type": "execute_result"
    }
   ],
   "source": [
    "totalCase = 10000\n",
    "numCaseToDownload = totalCase\n",
    "\n",
    "numCaseToDownload\n"
   ]
  },
  {
   "cell_type": "code",
   "execution_count": 48,
   "metadata": {},
   "outputs": [
    {
     "data": {
      "text/html": [
       "<div>\n",
       "<style scoped>\n",
       "    .dataframe tbody tr th:only-of-type {\n",
       "        vertical-align: middle;\n",
       "    }\n",
       "\n",
       "    .dataframe tbody tr th {\n",
       "        vertical-align: top;\n",
       "    }\n",
       "\n",
       "    .dataframe thead th {\n",
       "        text-align: right;\n",
       "    }\n",
       "</style>\n",
       "<table border=\"1\" class=\"dataframe\">\n",
       "  <thead>\n",
       "    <tr style=\"text-align: right;\">\n",
       "      <th></th>\n",
       "      <th>CaseID</th>\n",
       "      <th>iDOCID</th>\n",
       "      <th>StdDocDesc</th>\n",
       "      <th>filename</th>\n",
       "      <th>url</th>\n",
       "    </tr>\n",
       "  </thead>\n",
       "  <tbody>\n",
       "    <tr>\n",
       "      <th>25</th>\n",
       "      <td>10001668</td>\n",
       "      <td>437375090.0</td>\n",
       "      <td>Front View</td>\n",
       "      <td>10001668_437375090.JPG</td>\n",
       "      <td>http://192.168.1.4:8888/buckets/raw_imgs/10001...</td>\n",
       "    </tr>\n",
       "    <tr>\n",
       "      <th>42</th>\n",
       "      <td>10002172</td>\n",
       "      <td>437396585.0</td>\n",
       "      <td>Front View</td>\n",
       "      <td>10002172_437396585.JPG</td>\n",
       "      <td>http://192.168.1.4:8888/buckets/raw_imgs/10002...</td>\n",
       "    </tr>\n",
       "    <tr>\n",
       "      <th>86</th>\n",
       "      <td>10002757</td>\n",
       "      <td>437468727.0</td>\n",
       "      <td>Front View</td>\n",
       "      <td>10002757_437468727.JPG</td>\n",
       "      <td>http://192.168.1.4:8888/buckets/raw_imgs/10002...</td>\n",
       "    </tr>\n",
       "    <tr>\n",
       "      <th>117</th>\n",
       "      <td>10003903</td>\n",
       "      <td>437500662.0</td>\n",
       "      <td>Front View</td>\n",
       "      <td>10003903_437500662.JPG</td>\n",
       "      <td>http://192.168.1.4:8888/buckets/raw_imgs/10003...</td>\n",
       "    </tr>\n",
       "    <tr>\n",
       "      <th>119</th>\n",
       "      <td>10004377</td>\n",
       "      <td>437506049.0</td>\n",
       "      <td>Front View</td>\n",
       "      <td>10004377_437506049.JPG</td>\n",
       "      <td>http://192.168.1.4:8888/buckets/raw_imgs/10004...</td>\n",
       "    </tr>\n",
       "    <tr>\n",
       "      <th>...</th>\n",
       "      <td>...</td>\n",
       "      <td>...</td>\n",
       "      <td>...</td>\n",
       "      <td>...</td>\n",
       "      <td>...</td>\n",
       "    </tr>\n",
       "    <tr>\n",
       "      <th>2879298</th>\n",
       "      <td>13396834</td>\n",
       "      <td>630249507.0</td>\n",
       "      <td>Rear View Right</td>\n",
       "      <td>13396834_630249507.JPG</td>\n",
       "      <td>http://192.168.1.4:8888/buckets/raw_imgs/13396...</td>\n",
       "    </tr>\n",
       "    <tr>\n",
       "      <th>2879308</th>\n",
       "      <td>13465605</td>\n",
       "      <td>630958730.0</td>\n",
       "      <td>Rear View Right</td>\n",
       "      <td>13465605_630958730.JPG</td>\n",
       "      <td>http://192.168.1.4:8888/buckets/raw_imgs/13465...</td>\n",
       "    </tr>\n",
       "    <tr>\n",
       "      <th>2879378</th>\n",
       "      <td>13490232</td>\n",
       "      <td>636651487.0</td>\n",
       "      <td>Rear View Right</td>\n",
       "      <td>13490232_636651487.JPG</td>\n",
       "      <td>http://192.168.1.4:8888/buckets/raw_imgs/13490...</td>\n",
       "    </tr>\n",
       "    <tr>\n",
       "      <th>2879409</th>\n",
       "      <td>13553114</td>\n",
       "      <td>644215059.0</td>\n",
       "      <td>Rear View Right</td>\n",
       "      <td>13553114_644215059.JPG</td>\n",
       "      <td>http://192.168.1.4:8888/buckets/raw_imgs/13553...</td>\n",
       "    </tr>\n",
       "    <tr>\n",
       "      <th>2879412</th>\n",
       "      <td>13367788</td>\n",
       "      <td>645189473.0</td>\n",
       "      <td>Rear View Right</td>\n",
       "      <td>13367788_645189473.JPG</td>\n",
       "      <td>http://192.168.1.4:8888/buckets/raw_imgs/13367...</td>\n",
       "    </tr>\n",
       "  </tbody>\n",
       "</table>\n",
       "<p>113629 rows × 5 columns</p>\n",
       "</div>"
      ],
      "text/plain": [
       "           CaseID       iDOCID       StdDocDesc                filename  \\\n",
       "25       10001668  437375090.0       Front View  10001668_437375090.JPG   \n",
       "42       10002172  437396585.0       Front View  10002172_437396585.JPG   \n",
       "86       10002757  437468727.0       Front View  10002757_437468727.JPG   \n",
       "117      10003903  437500662.0       Front View  10003903_437500662.JPG   \n",
       "119      10004377  437506049.0       Front View  10004377_437506049.JPG   \n",
       "...           ...          ...              ...                     ...   \n",
       "2879298  13396834  630249507.0  Rear View Right  13396834_630249507.JPG   \n",
       "2879308  13465605  630958730.0  Rear View Right  13465605_630958730.JPG   \n",
       "2879378  13490232  636651487.0  Rear View Right  13490232_636651487.JPG   \n",
       "2879409  13553114  644215059.0  Rear View Right  13553114_644215059.JPG   \n",
       "2879412  13367788  645189473.0  Rear View Right  13367788_645189473.JPG   \n",
       "\n",
       "                                                       url  \n",
       "25       http://192.168.1.4:8888/buckets/raw_imgs/10001...  \n",
       "42       http://192.168.1.4:8888/buckets/raw_imgs/10002...  \n",
       "86       http://192.168.1.4:8888/buckets/raw_imgs/10002...  \n",
       "117      http://192.168.1.4:8888/buckets/raw_imgs/10003...  \n",
       "119      http://192.168.1.4:8888/buckets/raw_imgs/10004...  \n",
       "...                                                    ...  \n",
       "2879298  http://192.168.1.4:8888/buckets/raw_imgs/13396...  \n",
       "2879308  http://192.168.1.4:8888/buckets/raw_imgs/13465...  \n",
       "2879378  http://192.168.1.4:8888/buckets/raw_imgs/13490...  \n",
       "2879409  http://192.168.1.4:8888/buckets/raw_imgs/13553...  \n",
       "2879412  http://192.168.1.4:8888/buckets/raw_imgs/13367...  \n",
       "\n",
       "[113629 rows x 5 columns]"
      ]
     },
     "execution_count": 48,
     "metadata": {},
     "output_type": "execute_result"
    }
   ],
   "source": [
    "filesDf"
   ]
  },
  {
   "cell_type": "code",
   "execution_count": null,
   "metadata": {},
   "outputs": [],
   "source": []
  },
  {
   "cell_type": "code",
   "execution_count": 49,
   "metadata": {},
   "outputs": [],
   "source": [
    "targetCaseId = filesDf['CaseID'].unique().tolist()\n",
    "random.shuffle(targetCaseId)\n",
    "targetCaseId = targetCaseId[:numCaseToDownload]\n",
    "# targetCaseId.extend(uniqueCaseIdForBalance)\n",
    "targetCaseId = list(set(targetCaseId))\n",
    "if(len(targetCaseId) < totalCase):\n",
    "    remainder = totalCase - len(targetCaseId)\n",
    "    caseToAdd = filesDf[~filesDf['CaseID'].isin(targetCaseId)][\"CaseID\"].tolist()[:remainder]\n",
    "    targetCaseId.extend(caseToAdd)"
   ]
  },
  {
   "cell_type": "code",
   "execution_count": 50,
   "metadata": {},
   "outputs": [],
   "source": [
    "downloadFileDf = filesDf[filesDf[\"CaseID\"].isin(targetCaseId)]"
   ]
  },
  {
   "cell_type": "code",
   "execution_count": 51,
   "metadata": {},
   "outputs": [
    {
     "data": {
      "text/html": [
       "<div>\n",
       "<style scoped>\n",
       "    .dataframe tbody tr th:only-of-type {\n",
       "        vertical-align: middle;\n",
       "    }\n",
       "\n",
       "    .dataframe tbody tr th {\n",
       "        vertical-align: top;\n",
       "    }\n",
       "\n",
       "    .dataframe thead th {\n",
       "        text-align: right;\n",
       "    }\n",
       "</style>\n",
       "<table border=\"1\" class=\"dataframe\">\n",
       "  <thead>\n",
       "    <tr style=\"text-align: right;\">\n",
       "      <th></th>\n",
       "      <th>CaseID</th>\n",
       "      <th>iDOCID</th>\n",
       "      <th>StdDocDesc</th>\n",
       "      <th>filename</th>\n",
       "      <th>url</th>\n",
       "    </tr>\n",
       "  </thead>\n",
       "  <tbody>\n",
       "    <tr>\n",
       "      <th>117</th>\n",
       "      <td>10003903</td>\n",
       "      <td>437500662.0</td>\n",
       "      <td>Front View</td>\n",
       "      <td>10003903_437500662.JPG</td>\n",
       "      <td>http://192.168.1.4:8888/buckets/raw_imgs/10003...</td>\n",
       "    </tr>\n",
       "    <tr>\n",
       "      <th>119</th>\n",
       "      <td>10004377</td>\n",
       "      <td>437506049.0</td>\n",
       "      <td>Front View</td>\n",
       "      <td>10004377_437506049.JPG</td>\n",
       "      <td>http://192.168.1.4:8888/buckets/raw_imgs/10004...</td>\n",
       "    </tr>\n",
       "    <tr>\n",
       "      <th>135</th>\n",
       "      <td>10004779</td>\n",
       "      <td>437517431.0</td>\n",
       "      <td>Front View</td>\n",
       "      <td>10004779_437517431.JPG</td>\n",
       "      <td>http://192.168.1.4:8888/buckets/raw_imgs/10004...</td>\n",
       "    </tr>\n",
       "    <tr>\n",
       "      <th>176</th>\n",
       "      <td>10000483</td>\n",
       "      <td>437562613.0</td>\n",
       "      <td>Front View</td>\n",
       "      <td>10000483_437562613.JPG</td>\n",
       "      <td>http://192.168.1.4:8888/buckets/raw_imgs/10000...</td>\n",
       "    </tr>\n",
       "    <tr>\n",
       "      <th>372</th>\n",
       "      <td>10008793</td>\n",
       "      <td>437783094.0</td>\n",
       "      <td>Front View</td>\n",
       "      <td>10008793_437783094.JPG</td>\n",
       "      <td>http://192.168.1.4:8888/buckets/raw_imgs/10008...</td>\n",
       "    </tr>\n",
       "    <tr>\n",
       "      <th>...</th>\n",
       "      <td>...</td>\n",
       "      <td>...</td>\n",
       "      <td>...</td>\n",
       "      <td>...</td>\n",
       "      <td>...</td>\n",
       "    </tr>\n",
       "    <tr>\n",
       "      <th>2879095</th>\n",
       "      <td>13552504</td>\n",
       "      <td>623729774.0</td>\n",
       "      <td>Rear View Right</td>\n",
       "      <td>13552504_623729774.JPG</td>\n",
       "      <td>http://192.168.1.4:8888/buckets/raw_imgs/13552...</td>\n",
       "    </tr>\n",
       "    <tr>\n",
       "      <th>2879290</th>\n",
       "      <td>13165756</td>\n",
       "      <td>629543810.0</td>\n",
       "      <td>Rear View Right</td>\n",
       "      <td>13165756_629543810.JPG</td>\n",
       "      <td>http://192.168.1.4:8888/buckets/raw_imgs/13165...</td>\n",
       "    </tr>\n",
       "    <tr>\n",
       "      <th>2879308</th>\n",
       "      <td>13465605</td>\n",
       "      <td>630958730.0</td>\n",
       "      <td>Rear View Right</td>\n",
       "      <td>13465605_630958730.JPG</td>\n",
       "      <td>http://192.168.1.4:8888/buckets/raw_imgs/13465...</td>\n",
       "    </tr>\n",
       "    <tr>\n",
       "      <th>2879378</th>\n",
       "      <td>13490232</td>\n",
       "      <td>636651487.0</td>\n",
       "      <td>Rear View Right</td>\n",
       "      <td>13490232_636651487.JPG</td>\n",
       "      <td>http://192.168.1.4:8888/buckets/raw_imgs/13490...</td>\n",
       "    </tr>\n",
       "    <tr>\n",
       "      <th>2879409</th>\n",
       "      <td>13553114</td>\n",
       "      <td>644215059.0</td>\n",
       "      <td>Rear View Right</td>\n",
       "      <td>13553114_644215059.JPG</td>\n",
       "      <td>http://192.168.1.4:8888/buckets/raw_imgs/13553...</td>\n",
       "    </tr>\n",
       "  </tbody>\n",
       "</table>\n",
       "<p>51425 rows × 5 columns</p>\n",
       "</div>"
      ],
      "text/plain": [
       "           CaseID       iDOCID       StdDocDesc                filename  \\\n",
       "117      10003903  437500662.0       Front View  10003903_437500662.JPG   \n",
       "119      10004377  437506049.0       Front View  10004377_437506049.JPG   \n",
       "135      10004779  437517431.0       Front View  10004779_437517431.JPG   \n",
       "176      10000483  437562613.0       Front View  10000483_437562613.JPG   \n",
       "372      10008793  437783094.0       Front View  10008793_437783094.JPG   \n",
       "...           ...          ...              ...                     ...   \n",
       "2879095  13552504  623729774.0  Rear View Right  13552504_623729774.JPG   \n",
       "2879290  13165756  629543810.0  Rear View Right  13165756_629543810.JPG   \n",
       "2879308  13465605  630958730.0  Rear View Right  13465605_630958730.JPG   \n",
       "2879378  13490232  636651487.0  Rear View Right  13490232_636651487.JPG   \n",
       "2879409  13553114  644215059.0  Rear View Right  13553114_644215059.JPG   \n",
       "\n",
       "                                                       url  \n",
       "117      http://192.168.1.4:8888/buckets/raw_imgs/10003...  \n",
       "119      http://192.168.1.4:8888/buckets/raw_imgs/10004...  \n",
       "135      http://192.168.1.4:8888/buckets/raw_imgs/10004...  \n",
       "176      http://192.168.1.4:8888/buckets/raw_imgs/10000...  \n",
       "372      http://192.168.1.4:8888/buckets/raw_imgs/10008...  \n",
       "...                                                    ...  \n",
       "2879095  http://192.168.1.4:8888/buckets/raw_imgs/13552...  \n",
       "2879290  http://192.168.1.4:8888/buckets/raw_imgs/13165...  \n",
       "2879308  http://192.168.1.4:8888/buckets/raw_imgs/13465...  \n",
       "2879378  http://192.168.1.4:8888/buckets/raw_imgs/13490...  \n",
       "2879409  http://192.168.1.4:8888/buckets/raw_imgs/13553...  \n",
       "\n",
       "[51425 rows x 5 columns]"
      ]
     },
     "execution_count": 51,
     "metadata": {},
     "output_type": "execute_result"
    }
   ],
   "source": [
    "downloadFileDf"
   ]
  },
  {
   "cell_type": "code",
   "execution_count": 52,
   "metadata": {},
   "outputs": [
    {
     "name": "stdout",
     "output_type": "stream",
     "text": [
      "10000\n"
     ]
    }
   ],
   "source": [
    "print(len(targetCaseId))"
   ]
  },
  {
   "cell_type": "code",
   "execution_count": 53,
   "metadata": {},
   "outputs": [],
   "source": [
    "sinkDir = \"/home/alextay96/Desktop/new_workspace/DLDataPipeline/data/imgs\"\n",
    "# localFiles = os.listdir(sinkDir)\n",
    "# downloadFileDf = downloadFileDf[~downloadFileDf[\"filename\"].isin(localFiles)]\n"
   ]
  },
  {
   "cell_type": "code",
   "execution_count": 54,
   "metadata": {},
   "outputs": [],
   "source": [
    "def transport_worker(df:pd.DataFrame):\n",
    "    s = requests.Session()\n",
    "    for _, i in tqdm(df.iterrows(), desc=\"files\"):\n",
    "        url = i[\"url\"]\n",
    "        imgBytes = s.get(url)\n",
    "        localPath = os.path.join(sinkDir, i[\"filename\"])\n",
    "        with open(localPath, \"wb\") as f:\n",
    "            f.write(imgBytes.content)"
   ]
  },
  {
   "cell_type": "code",
   "execution_count": 55,
   "metadata": {},
   "outputs": [
    {
     "name": "stderr",
     "output_type": "stream",
     "text": [
      "files: 1000it [02:35,  6.44it/s]0:19<00:00, 56.35it/s]\n",
      "files: 1000it [02:35,  6.44it/s]2:35<04:53,  9.16s/it]\n",
      "files: 1000it [02:35,  6.42it/s]\n",
      "files: 1000it [02:36,  6.38it/s]\n",
      "files: 1000it [02:36,  6.39it/s]\n",
      "files: 1000it [02:36,  6.38it/s]\n",
      "files: 1000it [02:36,  6.38it/s]\n",
      "files: 1000it [02:37,  6.36it/s]\n",
      "files: 1000it [02:38,  6.32it/s]\n",
      "files: 1000it [02:41,  6.19it/s]\n",
      "files: 1000it [02:28,  6.75it/s]\n",
      "files: 1000it [02:29,  6.67it/s]5:05<04:19, 11.80s/it]\n",
      "files: 1000it [02:30,  6.66it/s]\n",
      "files: 1000it [02:29,  6.69it/s]\n",
      "files: 1000it [02:30,  6.65it/s]\n",
      "files: 1000it [02:33,  6.51it/s]\n",
      "files: 1000it [02:31,  6.61it/s]\n",
      "files: 1000it [02:32,  6.54it/s]\n",
      "files: 1000it [02:32,  6.56it/s]\n",
      "files: 1000it [02:42,  6.14it/s]\n",
      "files: 1000it [02:30,  6.65it/s]\n",
      "files: 1000it [02:29,  6.68it/s]7:35<02:37, 13.09s/it]\n",
      "files: 1000it [02:30,  6.66it/s]\n",
      "files: 1000it [02:31,  6.62it/s]\n",
      "files: 1000it [02:34,  6.49it/s]\n",
      "files: 1000it [02:30,  6.66it/s]\n",
      "files: 1000it [02:30,  6.66it/s]\n",
      "files: 1000it [02:30,  6.64it/s]\n",
      "files: 1000it [02:28,  6.71it/s]\n",
      "files: 1000it [02:42,  6.17it/s]\n",
      "files: 1000it [02:28,  6.74it/s]\n",
      "tasks: 100%|██████████| 52/52 [10:04<00:00, 11.62s/it]\n",
      "files: 1000it [02:29,  6.69it/s]\n",
      "files: 1000it [02:30,  6.63it/s]\n",
      "files: 1000it [02:30,  6.65it/s]\n",
      "files: 1000it [02:31,  6.60it/s]\n",
      "files: 1000it [02:34,  6.47it/s]\n",
      "files: 1000it [02:32,  6.56it/s]\n",
      "files: 1000it [02:29,  6.69it/s]\n",
      "files: 1000it [02:28,  6.72it/s]\n",
      "files: 1000it [02:29,  6.68it/s]\n",
      "files: 1000it [02:33,  6.52it/s]\n",
      "files: 1000it [02:31,  6.59it/s]\n",
      "files: 1000it [02:29,  6.68it/s]\n",
      "files: 1000it [02:30,  6.64it/s]\n",
      "files: 1000it [02:29,  6.70it/s]\n",
      "files: 1000it [02:34,  6.47it/s]\n",
      "files: 1000it [02:28,  6.73it/s]\n",
      "files: 31it [00:03, 11.40it/s]s]\n",
      "files: 52it [00:04, 14.62it/s]s]\n",
      "files: 1000it [02:24,  6.93it/s]\n",
      "files: 425it [00:18, 22.86it/s]\n",
      "files: 1000it [00:33, 29.84it/s]\n"
     ]
    },
    {
     "data": {
      "text/plain": [
       "[None,\n",
       " None,\n",
       " None,\n",
       " None,\n",
       " None,\n",
       " None,\n",
       " None,\n",
       " None,\n",
       " None,\n",
       " None,\n",
       " None,\n",
       " None,\n",
       " None,\n",
       " None,\n",
       " None,\n",
       " None,\n",
       " None,\n",
       " None,\n",
       " None,\n",
       " None,\n",
       " None,\n",
       " None,\n",
       " None,\n",
       " None,\n",
       " None,\n",
       " None,\n",
       " None,\n",
       " None,\n",
       " None,\n",
       " None,\n",
       " None,\n",
       " None,\n",
       " None,\n",
       " None,\n",
       " None,\n",
       " None,\n",
       " None,\n",
       " None,\n",
       " None,\n",
       " None,\n",
       " None,\n",
       " None,\n",
       " None,\n",
       " None,\n",
       " None,\n",
       " None,\n",
       " None,\n",
       " None,\n",
       " None,\n",
       " None,\n",
       " None,\n",
       " None]"
      ]
     },
     "execution_count": 55,
     "metadata": {},
     "output_type": "execute_result"
    }
   ],
   "source": [
    "\n",
    "os.makedirs(sinkDir, exist_ok=True)\n",
    "s = requests.Session()\n",
    "batchTask = []\n",
    "batchSize = 1000\n",
    "for i in range(0, len(downloadFileDf), batchSize):\n",
    "    batchTask.append(downloadFileDf.iloc[i : i + batchSize])\n",
    "Parallel(n_jobs=10)(delayed(transport_worker)(taskDf) for taskDf in tqdm(batchTask, desc=\"tasks\"))\n",
    "# for _, i in tqdm(downloadFileDf.iterrows()):\n",
    "#     url = i[\"url\"]\n",
    "#     imgBytes = s.get(url)\n",
    "#     localPath = os.path.join(sinkDir, i[\"filename\"])\n",
    "#     with open(localPath, \"wb\") as f:\n",
    "#         f.write(imgBytes.content)\n",
    "    \n"
   ]
  },
  {
   "cell_type": "code",
   "execution_count": 56,
   "metadata": {},
   "outputs": [
    {
     "data": {
      "text/html": [
       "<div>\n",
       "<style scoped>\n",
       "    .dataframe tbody tr th:only-of-type {\n",
       "        vertical-align: middle;\n",
       "    }\n",
       "\n",
       "    .dataframe tbody tr th {\n",
       "        vertical-align: top;\n",
       "    }\n",
       "\n",
       "    .dataframe thead th {\n",
       "        text-align: right;\n",
       "    }\n",
       "</style>\n",
       "<table border=\"1\" class=\"dataframe\">\n",
       "  <thead>\n",
       "    <tr style=\"text-align: right;\">\n",
       "      <th></th>\n",
       "      <th>CaseID</th>\n",
       "      <th>iDOCID</th>\n",
       "      <th>StdDocDesc</th>\n",
       "      <th>filename</th>\n",
       "      <th>url</th>\n",
       "    </tr>\n",
       "  </thead>\n",
       "  <tbody>\n",
       "    <tr>\n",
       "      <th>117</th>\n",
       "      <td>10003903</td>\n",
       "      <td>437500662.0</td>\n",
       "      <td>Front View</td>\n",
       "      <td>10003903_437500662.JPG</td>\n",
       "      <td>http://192.168.1.4:8888/buckets/raw_imgs/10003...</td>\n",
       "    </tr>\n",
       "    <tr>\n",
       "      <th>119</th>\n",
       "      <td>10004377</td>\n",
       "      <td>437506049.0</td>\n",
       "      <td>Front View</td>\n",
       "      <td>10004377_437506049.JPG</td>\n",
       "      <td>http://192.168.1.4:8888/buckets/raw_imgs/10004...</td>\n",
       "    </tr>\n",
       "    <tr>\n",
       "      <th>135</th>\n",
       "      <td>10004779</td>\n",
       "      <td>437517431.0</td>\n",
       "      <td>Front View</td>\n",
       "      <td>10004779_437517431.JPG</td>\n",
       "      <td>http://192.168.1.4:8888/buckets/raw_imgs/10004...</td>\n",
       "    </tr>\n",
       "    <tr>\n",
       "      <th>176</th>\n",
       "      <td>10000483</td>\n",
       "      <td>437562613.0</td>\n",
       "      <td>Front View</td>\n",
       "      <td>10000483_437562613.JPG</td>\n",
       "      <td>http://192.168.1.4:8888/buckets/raw_imgs/10000...</td>\n",
       "    </tr>\n",
       "    <tr>\n",
       "      <th>372</th>\n",
       "      <td>10008793</td>\n",
       "      <td>437783094.0</td>\n",
       "      <td>Front View</td>\n",
       "      <td>10008793_437783094.JPG</td>\n",
       "      <td>http://192.168.1.4:8888/buckets/raw_imgs/10008...</td>\n",
       "    </tr>\n",
       "    <tr>\n",
       "      <th>...</th>\n",
       "      <td>...</td>\n",
       "      <td>...</td>\n",
       "      <td>...</td>\n",
       "      <td>...</td>\n",
       "      <td>...</td>\n",
       "    </tr>\n",
       "    <tr>\n",
       "      <th>2879095</th>\n",
       "      <td>13552504</td>\n",
       "      <td>623729774.0</td>\n",
       "      <td>Rear View Right</td>\n",
       "      <td>13552504_623729774.JPG</td>\n",
       "      <td>http://192.168.1.4:8888/buckets/raw_imgs/13552...</td>\n",
       "    </tr>\n",
       "    <tr>\n",
       "      <th>2879290</th>\n",
       "      <td>13165756</td>\n",
       "      <td>629543810.0</td>\n",
       "      <td>Rear View Right</td>\n",
       "      <td>13165756_629543810.JPG</td>\n",
       "      <td>http://192.168.1.4:8888/buckets/raw_imgs/13165...</td>\n",
       "    </tr>\n",
       "    <tr>\n",
       "      <th>2879308</th>\n",
       "      <td>13465605</td>\n",
       "      <td>630958730.0</td>\n",
       "      <td>Rear View Right</td>\n",
       "      <td>13465605_630958730.JPG</td>\n",
       "      <td>http://192.168.1.4:8888/buckets/raw_imgs/13465...</td>\n",
       "    </tr>\n",
       "    <tr>\n",
       "      <th>2879378</th>\n",
       "      <td>13490232</td>\n",
       "      <td>636651487.0</td>\n",
       "      <td>Rear View Right</td>\n",
       "      <td>13490232_636651487.JPG</td>\n",
       "      <td>http://192.168.1.4:8888/buckets/raw_imgs/13490...</td>\n",
       "    </tr>\n",
       "    <tr>\n",
       "      <th>2879409</th>\n",
       "      <td>13553114</td>\n",
       "      <td>644215059.0</td>\n",
       "      <td>Rear View Right</td>\n",
       "      <td>13553114_644215059.JPG</td>\n",
       "      <td>http://192.168.1.4:8888/buckets/raw_imgs/13553...</td>\n",
       "    </tr>\n",
       "  </tbody>\n",
       "</table>\n",
       "<p>51425 rows × 5 columns</p>\n",
       "</div>"
      ],
      "text/plain": [
       "           CaseID       iDOCID       StdDocDesc                filename  \\\n",
       "117      10003903  437500662.0       Front View  10003903_437500662.JPG   \n",
       "119      10004377  437506049.0       Front View  10004377_437506049.JPG   \n",
       "135      10004779  437517431.0       Front View  10004779_437517431.JPG   \n",
       "176      10000483  437562613.0       Front View  10000483_437562613.JPG   \n",
       "372      10008793  437783094.0       Front View  10008793_437783094.JPG   \n",
       "...           ...          ...              ...                     ...   \n",
       "2879095  13552504  623729774.0  Rear View Right  13552504_623729774.JPG   \n",
       "2879290  13165756  629543810.0  Rear View Right  13165756_629543810.JPG   \n",
       "2879308  13465605  630958730.0  Rear View Right  13465605_630958730.JPG   \n",
       "2879378  13490232  636651487.0  Rear View Right  13490232_636651487.JPG   \n",
       "2879409  13553114  644215059.0  Rear View Right  13553114_644215059.JPG   \n",
       "\n",
       "                                                       url  \n",
       "117      http://192.168.1.4:8888/buckets/raw_imgs/10003...  \n",
       "119      http://192.168.1.4:8888/buckets/raw_imgs/10004...  \n",
       "135      http://192.168.1.4:8888/buckets/raw_imgs/10004...  \n",
       "176      http://192.168.1.4:8888/buckets/raw_imgs/10000...  \n",
       "372      http://192.168.1.4:8888/buckets/raw_imgs/10008...  \n",
       "...                                                    ...  \n",
       "2879095  http://192.168.1.4:8888/buckets/raw_imgs/13552...  \n",
       "2879290  http://192.168.1.4:8888/buckets/raw_imgs/13165...  \n",
       "2879308  http://192.168.1.4:8888/buckets/raw_imgs/13465...  \n",
       "2879378  http://192.168.1.4:8888/buckets/raw_imgs/13490...  \n",
       "2879409  http://192.168.1.4:8888/buckets/raw_imgs/13553...  \n",
       "\n",
       "[51425 rows x 5 columns]"
      ]
     },
     "execution_count": 56,
     "metadata": {},
     "output_type": "execute_result"
    }
   ],
   "source": [
    "downloadFileDf"
   ]
  },
  {
   "cell_type": "code",
   "execution_count": 57,
   "metadata": {},
   "outputs": [],
   "source": [
    "downloadFileDf.to_parquet(f\"../../data/imgs_metadata/{vehicleType}.parquet\")"
   ]
  },
  {
   "cell_type": "code",
   "execution_count": 58,
   "metadata": {},
   "outputs": [
    {
     "data": {
      "text/html": [
       "<div>\n",
       "<style scoped>\n",
       "    .dataframe tbody tr th:only-of-type {\n",
       "        vertical-align: middle;\n",
       "    }\n",
       "\n",
       "    .dataframe tbody tr th {\n",
       "        vertical-align: top;\n",
       "    }\n",
       "\n",
       "    .dataframe thead th {\n",
       "        text-align: right;\n",
       "    }\n",
       "</style>\n",
       "<table border=\"1\" class=\"dataframe\">\n",
       "  <thead>\n",
       "    <tr style=\"text-align: right;\">\n",
       "      <th></th>\n",
       "      <th>CaseID</th>\n",
       "      <th>iDOCID</th>\n",
       "      <th>StdDocDesc</th>\n",
       "      <th>filename</th>\n",
       "      <th>url</th>\n",
       "    </tr>\n",
       "  </thead>\n",
       "  <tbody>\n",
       "    <tr>\n",
       "      <th>117</th>\n",
       "      <td>10003903</td>\n",
       "      <td>437500662.0</td>\n",
       "      <td>Front View</td>\n",
       "      <td>10003903_437500662.JPG</td>\n",
       "      <td>http://192.168.1.4:8888/buckets/raw_imgs/10003...</td>\n",
       "    </tr>\n",
       "    <tr>\n",
       "      <th>119</th>\n",
       "      <td>10004377</td>\n",
       "      <td>437506049.0</td>\n",
       "      <td>Front View</td>\n",
       "      <td>10004377_437506049.JPG</td>\n",
       "      <td>http://192.168.1.4:8888/buckets/raw_imgs/10004...</td>\n",
       "    </tr>\n",
       "    <tr>\n",
       "      <th>135</th>\n",
       "      <td>10004779</td>\n",
       "      <td>437517431.0</td>\n",
       "      <td>Front View</td>\n",
       "      <td>10004779_437517431.JPG</td>\n",
       "      <td>http://192.168.1.4:8888/buckets/raw_imgs/10004...</td>\n",
       "    </tr>\n",
       "    <tr>\n",
       "      <th>176</th>\n",
       "      <td>10000483</td>\n",
       "      <td>437562613.0</td>\n",
       "      <td>Front View</td>\n",
       "      <td>10000483_437562613.JPG</td>\n",
       "      <td>http://192.168.1.4:8888/buckets/raw_imgs/10000...</td>\n",
       "    </tr>\n",
       "    <tr>\n",
       "      <th>372</th>\n",
       "      <td>10008793</td>\n",
       "      <td>437783094.0</td>\n",
       "      <td>Front View</td>\n",
       "      <td>10008793_437783094.JPG</td>\n",
       "      <td>http://192.168.1.4:8888/buckets/raw_imgs/10008...</td>\n",
       "    </tr>\n",
       "    <tr>\n",
       "      <th>...</th>\n",
       "      <td>...</td>\n",
       "      <td>...</td>\n",
       "      <td>...</td>\n",
       "      <td>...</td>\n",
       "      <td>...</td>\n",
       "    </tr>\n",
       "    <tr>\n",
       "      <th>2879095</th>\n",
       "      <td>13552504</td>\n",
       "      <td>623729774.0</td>\n",
       "      <td>Rear View Right</td>\n",
       "      <td>13552504_623729774.JPG</td>\n",
       "      <td>http://192.168.1.4:8888/buckets/raw_imgs/13552...</td>\n",
       "    </tr>\n",
       "    <tr>\n",
       "      <th>2879290</th>\n",
       "      <td>13165756</td>\n",
       "      <td>629543810.0</td>\n",
       "      <td>Rear View Right</td>\n",
       "      <td>13165756_629543810.JPG</td>\n",
       "      <td>http://192.168.1.4:8888/buckets/raw_imgs/13165...</td>\n",
       "    </tr>\n",
       "    <tr>\n",
       "      <th>2879308</th>\n",
       "      <td>13465605</td>\n",
       "      <td>630958730.0</td>\n",
       "      <td>Rear View Right</td>\n",
       "      <td>13465605_630958730.JPG</td>\n",
       "      <td>http://192.168.1.4:8888/buckets/raw_imgs/13465...</td>\n",
       "    </tr>\n",
       "    <tr>\n",
       "      <th>2879378</th>\n",
       "      <td>13490232</td>\n",
       "      <td>636651487.0</td>\n",
       "      <td>Rear View Right</td>\n",
       "      <td>13490232_636651487.JPG</td>\n",
       "      <td>http://192.168.1.4:8888/buckets/raw_imgs/13490...</td>\n",
       "    </tr>\n",
       "    <tr>\n",
       "      <th>2879409</th>\n",
       "      <td>13553114</td>\n",
       "      <td>644215059.0</td>\n",
       "      <td>Rear View Right</td>\n",
       "      <td>13553114_644215059.JPG</td>\n",
       "      <td>http://192.168.1.4:8888/buckets/raw_imgs/13553...</td>\n",
       "    </tr>\n",
       "  </tbody>\n",
       "</table>\n",
       "<p>51425 rows × 5 columns</p>\n",
       "</div>"
      ],
      "text/plain": [
       "           CaseID       iDOCID       StdDocDesc                filename  \\\n",
       "117      10003903  437500662.0       Front View  10003903_437500662.JPG   \n",
       "119      10004377  437506049.0       Front View  10004377_437506049.JPG   \n",
       "135      10004779  437517431.0       Front View  10004779_437517431.JPG   \n",
       "176      10000483  437562613.0       Front View  10000483_437562613.JPG   \n",
       "372      10008793  437783094.0       Front View  10008793_437783094.JPG   \n",
       "...           ...          ...              ...                     ...   \n",
       "2879095  13552504  623729774.0  Rear View Right  13552504_623729774.JPG   \n",
       "2879290  13165756  629543810.0  Rear View Right  13165756_629543810.JPG   \n",
       "2879308  13465605  630958730.0  Rear View Right  13465605_630958730.JPG   \n",
       "2879378  13490232  636651487.0  Rear View Right  13490232_636651487.JPG   \n",
       "2879409  13553114  644215059.0  Rear View Right  13553114_644215059.JPG   \n",
       "\n",
       "                                                       url  \n",
       "117      http://192.168.1.4:8888/buckets/raw_imgs/10003...  \n",
       "119      http://192.168.1.4:8888/buckets/raw_imgs/10004...  \n",
       "135      http://192.168.1.4:8888/buckets/raw_imgs/10004...  \n",
       "176      http://192.168.1.4:8888/buckets/raw_imgs/10000...  \n",
       "372      http://192.168.1.4:8888/buckets/raw_imgs/10008...  \n",
       "...                                                    ...  \n",
       "2879095  http://192.168.1.4:8888/buckets/raw_imgs/13552...  \n",
       "2879290  http://192.168.1.4:8888/buckets/raw_imgs/13165...  \n",
       "2879308  http://192.168.1.4:8888/buckets/raw_imgs/13465...  \n",
       "2879378  http://192.168.1.4:8888/buckets/raw_imgs/13490...  \n",
       "2879409  http://192.168.1.4:8888/buckets/raw_imgs/13553...  \n",
       "\n",
       "[51425 rows x 5 columns]"
      ]
     },
     "execution_count": 58,
     "metadata": {},
     "output_type": "execute_result"
    }
   ],
   "source": [
    "pd.read_parquet(f\"/home/alextay96/Desktop/all_workspace/new_workspace/DLDataPipeline/data/imgs_metadata/{vehicleType}.parquet\")"
   ]
  },
  {
   "cell_type": "markdown",
   "metadata": {},
   "source": []
  }
 ],
 "metadata": {
  "kernelspec": {
   "display_name": "Python 3",
   "language": "python",
   "name": "python3"
  },
  "language_info": {
   "codemirror_mode": {
    "name": "ipython",
    "version": 3
   },
   "file_extension": ".py",
   "mimetype": "text/x-python",
   "name": "python",
   "nbconvert_exporter": "python",
   "pygments_lexer": "ipython3",
   "version": "3.10.1 (tags/v3.10.1:2cd268a, Dec  6 2021, 19:10:37) [MSC v.1929 64 bit (AMD64)]"
  },
  "orig_nbformat": 4,
  "vscode": {
   "interpreter": {
    "hash": "369f2c481f4da34e4445cda3fffd2e751bd1c4d706f27375911949ba6bb62e1c"
   }
  }
 },
 "nbformat": 4,
 "nbformat_minor": 2
}
