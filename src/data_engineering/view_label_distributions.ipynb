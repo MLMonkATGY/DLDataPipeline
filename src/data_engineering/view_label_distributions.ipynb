{
 "cells": [
  {
   "cell_type": "code",
   "execution_count": 28,
   "metadata": {},
   "outputs": [],
   "source": [
    "\n",
    "from sklearn.datasets import make_multilabel_classification\n",
    "from sklearn.model_selection import train_test_split\n",
    "import pandas as pd\n",
    "import sklearn.metrics as metrics\n",
    "from sklearn.metrics import accuracy_score, classification_report\n",
    "import numpy as np\n",
    "from IPython import display\n",
    "import matplotlib.pyplot as plt\n",
    "import awswrangler as wr\n",
    "import boto3\n",
    "from tqdm import tqdm\n",
    "import requests\n",
    "from PIL import Image\n",
    "from io import BytesIO\n",
    "import os\n",
    "import random\n",
    "from joblib import Parallel , delayed"
   ]
  },
  {
   "cell_type": "code",
   "execution_count": 29,
   "metadata": {},
   "outputs": [],
   "source": [
    "wr.config.s3_endpoint_url = \"http://localhost:8333\"\n"
   ]
  },
  {
   "cell_type": "code",
   "execution_count": 30,
   "metadata": {},
   "outputs": [],
   "source": [
    "vehicleType = \"Saloon - 4 Dr\""
   ]
  },
  {
   "cell_type": "code",
   "execution_count": 31,
   "metadata": {},
   "outputs": [],
   "source": [
    "partlistDf = wr.s3.read_parquet(\n",
    "        f\"s3://multilabel_df\", dataset=True\n",
    "    )\n"
   ]
  },
  {
   "cell_type": "code",
   "execution_count": 32,
   "metadata": {},
   "outputs": [],
   "source": [
    "localFilesDf = wr.s3.read_csv(\n",
    "        f\"s3://imgs_labels/{vehicleType}_rear_view_right_img_labels.csv\"\n",
    "    )\n",
    "localCaseId = localFilesDf[\"CaseID\"].unique().tolist()"
   ]
  },
  {
   "cell_type": "code",
   "execution_count": 33,
   "metadata": {},
   "outputs": [
    {
     "data": {
      "text/plain": [
       "Index(['vision_bonnet', 'vision_bumper_front', 'vision_engine',\n",
       "       'vision_grille', 'vision_headlamp_lh', 'vision_headlamp_rh',\n",
       "       'vision_door_front_lh', 'vision_door_front_rh', 'vision_bumper_rear',\n",
       "       'vision_misc', 'vision_front_panel', 'vision_non_external',\n",
       "       'vision_wheel', 'vision_fender_front_lh', 'vision_fender_front_rh',\n",
       "       'vision_rear_quarter_lh', 'vision_tail_lamp_lh', 'vision_tail_lamp_rh',\n",
       "       'vision_windscreen_front', 'vision_rear_compartment',\n",
       "       'vision_rear_panel', 'vision_rear_quarter_rh', 'vision_door_rear_rh',\n",
       "       'vision_door_rear_lh', 'vision_windscreen_rear', 'bonnet',\n",
       "       'bumper_front', 'air_conditioning', 'cooling_fan', 'grille',\n",
       "       'headlamp_lh', 'headlamp_rh', 'door_front_lh', 'door_front_rh',\n",
       "       'radiator', 'bumper_rear', 'misc', 'engine', 'airbag', 'front_panel',\n",
       "       'undercarriage', 'wheel', 'fender_front_lh', 'fender_front_rh',\n",
       "       'door_mirror_rh', 'rear_quarter_lh', 'interior', 'tail_lamp_lh',\n",
       "       'fog_lamp_lh', 'tail_lamp_rh', 'windscreen_front', 'rear_compartment',\n",
       "       'rear_panel', 'fog_lamp_rh', 'rear_quarter_rh', 'door_rear_rh',\n",
       "       'door_mirror_lh', 'door_rear_lh', 'windscreen_rear', 'CaseID',\n",
       "       'Circumstances_of_Accident', 'Model', 'Assembly_Type',\n",
       "       'Vehicle_Still_Driveable', 'NCB_Stat', 'Claim_Type', 'Vehicle_Type',\n",
       "       'Sum_Insured', 'Repairer', 'Repairer_Apprv_Count', 'Collision_With',\n",
       "       'Handling_Insurer'],\n",
       "      dtype='object')"
      ]
     },
     "execution_count": 33,
     "metadata": {},
     "output_type": "execute_result"
    }
   ],
   "source": [
    "vTypeDf = partlistDf[(partlistDf[\"Vehicle_Type\"] == vehicleType) & (partlistDf[\"CaseID\"].isin(localCaseId))]\n",
    "vTypeDf.columns"
   ]
  },
  {
   "cell_type": "code",
   "execution_count": 36,
   "metadata": {},
   "outputs": [],
   "source": [
    "minorityLabels = [\"windscreen_rear\", \"rear_quarter_rh\", \"rear_panel\", \"rear_quarter_lh\", \"tail_lamp_rh\", \"tail_lamp_lh\", \"rear_compartment\", \"windscreen_front\", \"fender_front_lh\", \"fender_front_rh\"]"
   ]
  },
  {
   "cell_type": "code",
   "execution_count": 37,
   "metadata": {},
   "outputs": [
    {
     "name": "stdout",
     "output_type": "stream",
     "text": [
      "   index  windscreen_rear\n",
      "0      0             9633\n",
      "1      1              337\n",
      "   index  rear_quarter_rh\n",
      "0      0             9345\n",
      "1      1              625\n",
      "   index  rear_panel\n",
      "0      0        8217\n",
      "1      1        1753\n",
      "   index  rear_quarter_lh\n",
      "0      0             9446\n",
      "1      1              524\n",
      "   index  tail_lamp_rh\n",
      "0      0          8500\n",
      "1      1          1470\n",
      "   index  tail_lamp_lh\n",
      "0      0          8558\n",
      "1      1          1412\n",
      "   index  rear_compartment\n",
      "0      0              8389\n",
      "1      1              1581\n",
      "   index  windscreen_front\n",
      "0      0              8933\n",
      "1      1              1037\n",
      "   index  fender_front_lh\n",
      "0      0             7810\n",
      "1      1             2160\n",
      "   index  fender_front_rh\n",
      "0      0             7701\n",
      "1      1             2269\n"
     ]
    }
   ],
   "source": [
    "for i in minorityLabels:\n",
    "    minorityDf = vTypeDf[i].value_counts().reset_index()\n",
    "    print(minorityDf)"
   ]
  }
 ],
 "metadata": {
  "kernelspec": {
   "display_name": "Python 3",
   "language": "python",
   "name": "python3"
  },
  "language_info": {
   "codemirror_mode": {
    "name": "ipython",
    "version": 3
   },
   "file_extension": ".py",
   "mimetype": "text/x-python",
   "name": "python",
   "nbconvert_exporter": "python",
   "pygments_lexer": "ipython3",
   "version": "3.10.1"
  },
  "orig_nbformat": 4,
  "vscode": {
   "interpreter": {
    "hash": "369f2c481f4da34e4445cda3fffd2e751bd1c4d706f27375911949ba6bb62e1c"
   }
  }
 },
 "nbformat": 4,
 "nbformat_minor": 2
}
