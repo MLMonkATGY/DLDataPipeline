{
 "cells": [
  {
   "cell_type": "code",
   "execution_count": 1,
   "metadata": {},
   "outputs": [],
   "source": [
    "\n",
    "from catboost import CatBoostClassifier, Pool\n",
    "from catboost.utils import eval_metric\n",
    "from sklearn.datasets import make_multilabel_classification\n",
    "from sklearn.model_selection import train_test_split\n",
    "import pandas as pd\n",
    "import sklearn.metrics as metrics\n",
    "from sklearn.metrics import accuracy_score, classification_report\n",
    "import numpy as np\n",
    "import plotly.express as px\n",
    "import shap\n",
    "import seaborn as sns\n",
    "from IPython import display\n",
    "import matplotlib.pyplot as plt\n",
    "import awswrangler as wr\n",
    "import boto3\n",
    "from tqdm import tqdm\n",
    "import requests\n",
    "from PIL import Image\n",
    "from io import BytesIO\n",
    "import os\n",
    "import random\n"
   ]
  },
  {
   "cell_type": "code",
   "execution_count": 2,
   "metadata": {},
   "outputs": [],
   "source": [
    "wr.config.s3_endpoint_url = \"http://192.168.1.7:8333\"\n"
   ]
  },
  {
   "cell_type": "code",
   "execution_count": 3,
   "metadata": {},
   "outputs": [],
   "source": [
    "vehicleType = \"SUV - 5 Dr\"\n"
   ]
  },
  {
   "cell_type": "code",
   "execution_count": 4,
   "metadata": {},
   "outputs": [
    {
     "data": {
      "text/html": [
       "<div>\n",
       "<style scoped>\n",
       "    .dataframe tbody tr th:only-of-type {\n",
       "        vertical-align: middle;\n",
       "    }\n",
       "\n",
       "    .dataframe tbody tr th {\n",
       "        vertical-align: top;\n",
       "    }\n",
       "\n",
       "    .dataframe thead th {\n",
       "        text-align: right;\n",
       "    }\n",
       "</style>\n",
       "<table border=\"1\" class=\"dataframe\">\n",
       "  <thead>\n",
       "    <tr style=\"text-align: right;\">\n",
       "      <th></th>\n",
       "      <th>CaseID</th>\n",
       "      <th>Vehicle_Type</th>\n",
       "    </tr>\n",
       "  </thead>\n",
       "  <tbody>\n",
       "    <tr>\n",
       "      <th>0</th>\n",
       "      <td>10000004</td>\n",
       "      <td>Hatchback - 5 Dr</td>\n",
       "    </tr>\n",
       "    <tr>\n",
       "      <th>1</th>\n",
       "      <td>10000036</td>\n",
       "      <td>Hatchback - 5 Dr</td>\n",
       "    </tr>\n",
       "    <tr>\n",
       "      <th>2</th>\n",
       "      <td>10000042</td>\n",
       "      <td>Hatchback - 5 Dr</td>\n",
       "    </tr>\n",
       "    <tr>\n",
       "      <th>3</th>\n",
       "      <td>10000050</td>\n",
       "      <td>Hatchback - 5 Dr</td>\n",
       "    </tr>\n",
       "    <tr>\n",
       "      <th>4</th>\n",
       "      <td>10000068</td>\n",
       "      <td>Hatchback - 5 Dr</td>\n",
       "    </tr>\n",
       "    <tr>\n",
       "      <th>...</th>\n",
       "      <td>...</td>\n",
       "      <td>...</td>\n",
       "    </tr>\n",
       "    <tr>\n",
       "      <th>183822</th>\n",
       "      <td>13562877</td>\n",
       "      <td>Hatchback - 5 Dr</td>\n",
       "    </tr>\n",
       "    <tr>\n",
       "      <th>183823</th>\n",
       "      <td>13562891</td>\n",
       "      <td>Hatchback - 5 Dr</td>\n",
       "    </tr>\n",
       "    <tr>\n",
       "      <th>183824</th>\n",
       "      <td>13562893</td>\n",
       "      <td>Hatchback - 5 Dr</td>\n",
       "    </tr>\n",
       "    <tr>\n",
       "      <th>183825</th>\n",
       "      <td>13562976</td>\n",
       "      <td>Hatchback - 5 Dr</td>\n",
       "    </tr>\n",
       "    <tr>\n",
       "      <th>183826</th>\n",
       "      <td>13563048</td>\n",
       "      <td>Hatchback - 5 Dr</td>\n",
       "    </tr>\n",
       "  </tbody>\n",
       "</table>\n",
       "<p>183827 rows × 2 columns</p>\n",
       "</div>"
      ],
      "text/plain": [
       "          CaseID      Vehicle_Type\n",
       "0       10000004  Hatchback - 5 Dr\n",
       "1       10000036  Hatchback - 5 Dr\n",
       "2       10000042  Hatchback - 5 Dr\n",
       "3       10000050  Hatchback - 5 Dr\n",
       "4       10000068  Hatchback - 5 Dr\n",
       "...          ...               ...\n",
       "183822  13562877  Hatchback - 5 Dr\n",
       "183823  13562891  Hatchback - 5 Dr\n",
       "183824  13562893  Hatchback - 5 Dr\n",
       "183825  13562976  Hatchback - 5 Dr\n",
       "183826  13563048  Hatchback - 5 Dr\n",
       "\n",
       "[183827 rows x 2 columns]"
      ]
     },
     "execution_count": 4,
     "metadata": {},
     "output_type": "execute_result"
    }
   ],
   "source": [
    "bucket3 = \"scope_case\"\n",
    "myFilter =  lambda x : x[\"Vehicle_Type\"] == vehicleType\n",
    "targetCols = [\"CaseID\", \"Vehicle_Type\"]\n",
    "caseDf = wr.s3.read_parquet(f\"s3://{bucket3}/\" ,partition_filter=myFilter,dataset=True, columns=targetCols)\n",
    "caseDf"
   ]
  },
  {
   "cell_type": "code",
   "execution_count": 5,
   "metadata": {},
   "outputs": [
    {
     "name": "stderr",
     "output_type": "stream",
     "text": [
      "44it [01:02,  1.43s/it]"
     ]
    },
    {
     "name": "stdout",
     "output_type": "stream",
     "text": [
      "87725\n"
     ]
    },
    {
     "name": "stderr",
     "output_type": "stream",
     "text": [
      "\n"
     ]
    }
   ],
   "source": [
    "bucketName = \"raw_imgs\"\n",
    "cli = boto3.client(\n",
    "    \"s3\",\n",
    "    **{\n",
    "        \"endpoint_url\": \"http://192.168.1.7:8333\",\n",
    "    }\n",
    ")\n",
    "paginator = cli.get_paginator(\"list_objects_v2\")\n",
    "operation_parameters = {\"Bucket\": bucketName}\n",
    "page_iterator = paginator.paginate(**operation_parameters)\n",
    "downloadedImgs = []\n",
    "for page in tqdm(page_iterator):\n",
    "    pageContent = page[\"Contents\"]\n",
    "    downloadedCaseId = set([int(x[\"Key\"].split(\"_\")[0]) for x in pageContent])\n",
    "    downloadedImgs.extend(downloadedCaseId)\n",
    "print(len(downloadedImgs))"
   ]
  },
  {
   "cell_type": "code",
   "execution_count": 6,
   "metadata": {},
   "outputs": [],
   "source": [
    "availableImgsCase = set(downloadedImgs).intersection(caseDf[\"CaseID\"].unique().tolist())\n",
    "downloadedCaseLength = len(availableImgsCase)"
   ]
  },
  {
   "cell_type": "code",
   "execution_count": 7,
   "metadata": {},
   "outputs": [],
   "source": [
    "notDownloadedCaseLength = len(caseDf) - downloadedCaseLength"
   ]
  },
  {
   "cell_type": "code",
   "execution_count": 8,
   "metadata": {},
   "outputs": [
    {
     "data": {
      "text/plain": [
       "0.17365240144266075"
      ]
     },
     "execution_count": 8,
     "metadata": {},
     "output_type": "execute_result"
    }
   ],
   "source": [
    "availableRatio = len(availableImgsCase) / len(caseDf)\n",
    "availableRatio"
   ]
  },
  {
   "cell_type": "code",
   "execution_count": 9,
   "metadata": {},
   "outputs": [],
   "source": [
    "trackDf = pd.json_normalize([{\n",
    "    \"label\" : \"available\",\n",
    "    \"cases\" : downloadedCaseLength\n",
    "},\n",
    "                             {\n",
    "    \"label\" : \"not_available\",\n",
    "    \"cases\" : notDownloadedCaseLength\n",
    "}\n",
    "                             \n",
    "                             \n",
    "                             ])"
   ]
  },
  {
   "cell_type": "code",
   "execution_count": 10,
   "metadata": {},
   "outputs": [
    {
     "data": {
      "application/vnd.plotly.v1+json": {
       "config": {
        "plotlyServerURL": "https://plot.ly"
       },
       "data": [
        {
         "domain": {
          "x": [
           0,
           1
          ],
          "y": [
           0,
           1
          ]
         },
         "hovertemplate": "cases=%{value}<extra></extra>",
         "legendgroup": "",
         "name": "",
         "showlegend": false,
         "type": "pie",
         "values": [
          31922,
          151905
         ]
        }
       ],
       "layout": {
        "legend": {
         "tracegroupgap": 0
        },
        "margin": {
         "t": 60
        },
        "template": {
         "data": {
          "bar": [
           {
            "error_x": {
             "color": "#2a3f5f"
            },
            "error_y": {
             "color": "#2a3f5f"
            },
            "marker": {
             "line": {
              "color": "#E5ECF6",
              "width": 0.5
             },
             "pattern": {
              "fillmode": "overlay",
              "size": 10,
              "solidity": 0.2
             }
            },
            "type": "bar"
           }
          ],
          "barpolar": [
           {
            "marker": {
             "line": {
              "color": "#E5ECF6",
              "width": 0.5
             },
             "pattern": {
              "fillmode": "overlay",
              "size": 10,
              "solidity": 0.2
             }
            },
            "type": "barpolar"
           }
          ],
          "carpet": [
           {
            "aaxis": {
             "endlinecolor": "#2a3f5f",
             "gridcolor": "white",
             "linecolor": "white",
             "minorgridcolor": "white",
             "startlinecolor": "#2a3f5f"
            },
            "baxis": {
             "endlinecolor": "#2a3f5f",
             "gridcolor": "white",
             "linecolor": "white",
             "minorgridcolor": "white",
             "startlinecolor": "#2a3f5f"
            },
            "type": "carpet"
           }
          ],
          "choropleth": [
           {
            "colorbar": {
             "outlinewidth": 0,
             "ticks": ""
            },
            "type": "choropleth"
           }
          ],
          "contour": [
           {
            "colorbar": {
             "outlinewidth": 0,
             "ticks": ""
            },
            "colorscale": [
             [
              0,
              "#0d0887"
             ],
             [
              0.1111111111111111,
              "#46039f"
             ],
             [
              0.2222222222222222,
              "#7201a8"
             ],
             [
              0.3333333333333333,
              "#9c179e"
             ],
             [
              0.4444444444444444,
              "#bd3786"
             ],
             [
              0.5555555555555556,
              "#d8576b"
             ],
             [
              0.6666666666666666,
              "#ed7953"
             ],
             [
              0.7777777777777778,
              "#fb9f3a"
             ],
             [
              0.8888888888888888,
              "#fdca26"
             ],
             [
              1,
              "#f0f921"
             ]
            ],
            "type": "contour"
           }
          ],
          "contourcarpet": [
           {
            "colorbar": {
             "outlinewidth": 0,
             "ticks": ""
            },
            "type": "contourcarpet"
           }
          ],
          "heatmap": [
           {
            "colorbar": {
             "outlinewidth": 0,
             "ticks": ""
            },
            "colorscale": [
             [
              0,
              "#0d0887"
             ],
             [
              0.1111111111111111,
              "#46039f"
             ],
             [
              0.2222222222222222,
              "#7201a8"
             ],
             [
              0.3333333333333333,
              "#9c179e"
             ],
             [
              0.4444444444444444,
              "#bd3786"
             ],
             [
              0.5555555555555556,
              "#d8576b"
             ],
             [
              0.6666666666666666,
              "#ed7953"
             ],
             [
              0.7777777777777778,
              "#fb9f3a"
             ],
             [
              0.8888888888888888,
              "#fdca26"
             ],
             [
              1,
              "#f0f921"
             ]
            ],
            "type": "heatmap"
           }
          ],
          "heatmapgl": [
           {
            "colorbar": {
             "outlinewidth": 0,
             "ticks": ""
            },
            "colorscale": [
             [
              0,
              "#0d0887"
             ],
             [
              0.1111111111111111,
              "#46039f"
             ],
             [
              0.2222222222222222,
              "#7201a8"
             ],
             [
              0.3333333333333333,
              "#9c179e"
             ],
             [
              0.4444444444444444,
              "#bd3786"
             ],
             [
              0.5555555555555556,
              "#d8576b"
             ],
             [
              0.6666666666666666,
              "#ed7953"
             ],
             [
              0.7777777777777778,
              "#fb9f3a"
             ],
             [
              0.8888888888888888,
              "#fdca26"
             ],
             [
              1,
              "#f0f921"
             ]
            ],
            "type": "heatmapgl"
           }
          ],
          "histogram": [
           {
            "marker": {
             "pattern": {
              "fillmode": "overlay",
              "size": 10,
              "solidity": 0.2
             }
            },
            "type": "histogram"
           }
          ],
          "histogram2d": [
           {
            "colorbar": {
             "outlinewidth": 0,
             "ticks": ""
            },
            "colorscale": [
             [
              0,
              "#0d0887"
             ],
             [
              0.1111111111111111,
              "#46039f"
             ],
             [
              0.2222222222222222,
              "#7201a8"
             ],
             [
              0.3333333333333333,
              "#9c179e"
             ],
             [
              0.4444444444444444,
              "#bd3786"
             ],
             [
              0.5555555555555556,
              "#d8576b"
             ],
             [
              0.6666666666666666,
              "#ed7953"
             ],
             [
              0.7777777777777778,
              "#fb9f3a"
             ],
             [
              0.8888888888888888,
              "#fdca26"
             ],
             [
              1,
              "#f0f921"
             ]
            ],
            "type": "histogram2d"
           }
          ],
          "histogram2dcontour": [
           {
            "colorbar": {
             "outlinewidth": 0,
             "ticks": ""
            },
            "colorscale": [
             [
              0,
              "#0d0887"
             ],
             [
              0.1111111111111111,
              "#46039f"
             ],
             [
              0.2222222222222222,
              "#7201a8"
             ],
             [
              0.3333333333333333,
              "#9c179e"
             ],
             [
              0.4444444444444444,
              "#bd3786"
             ],
             [
              0.5555555555555556,
              "#d8576b"
             ],
             [
              0.6666666666666666,
              "#ed7953"
             ],
             [
              0.7777777777777778,
              "#fb9f3a"
             ],
             [
              0.8888888888888888,
              "#fdca26"
             ],
             [
              1,
              "#f0f921"
             ]
            ],
            "type": "histogram2dcontour"
           }
          ],
          "mesh3d": [
           {
            "colorbar": {
             "outlinewidth": 0,
             "ticks": ""
            },
            "type": "mesh3d"
           }
          ],
          "parcoords": [
           {
            "line": {
             "colorbar": {
              "outlinewidth": 0,
              "ticks": ""
             }
            },
            "type": "parcoords"
           }
          ],
          "pie": [
           {
            "automargin": true,
            "type": "pie"
           }
          ],
          "scatter": [
           {
            "fillpattern": {
             "fillmode": "overlay",
             "size": 10,
             "solidity": 0.2
            },
            "type": "scatter"
           }
          ],
          "scatter3d": [
           {
            "line": {
             "colorbar": {
              "outlinewidth": 0,
              "ticks": ""
             }
            },
            "marker": {
             "colorbar": {
              "outlinewidth": 0,
              "ticks": ""
             }
            },
            "type": "scatter3d"
           }
          ],
          "scattercarpet": [
           {
            "marker": {
             "colorbar": {
              "outlinewidth": 0,
              "ticks": ""
             }
            },
            "type": "scattercarpet"
           }
          ],
          "scattergeo": [
           {
            "marker": {
             "colorbar": {
              "outlinewidth": 0,
              "ticks": ""
             }
            },
            "type": "scattergeo"
           }
          ],
          "scattergl": [
           {
            "marker": {
             "colorbar": {
              "outlinewidth": 0,
              "ticks": ""
             }
            },
            "type": "scattergl"
           }
          ],
          "scattermapbox": [
           {
            "marker": {
             "colorbar": {
              "outlinewidth": 0,
              "ticks": ""
             }
            },
            "type": "scattermapbox"
           }
          ],
          "scatterpolar": [
           {
            "marker": {
             "colorbar": {
              "outlinewidth": 0,
              "ticks": ""
             }
            },
            "type": "scatterpolar"
           }
          ],
          "scatterpolargl": [
           {
            "marker": {
             "colorbar": {
              "outlinewidth": 0,
              "ticks": ""
             }
            },
            "type": "scatterpolargl"
           }
          ],
          "scatterternary": [
           {
            "marker": {
             "colorbar": {
              "outlinewidth": 0,
              "ticks": ""
             }
            },
            "type": "scatterternary"
           }
          ],
          "surface": [
           {
            "colorbar": {
             "outlinewidth": 0,
             "ticks": ""
            },
            "colorscale": [
             [
              0,
              "#0d0887"
             ],
             [
              0.1111111111111111,
              "#46039f"
             ],
             [
              0.2222222222222222,
              "#7201a8"
             ],
             [
              0.3333333333333333,
              "#9c179e"
             ],
             [
              0.4444444444444444,
              "#bd3786"
             ],
             [
              0.5555555555555556,
              "#d8576b"
             ],
             [
              0.6666666666666666,
              "#ed7953"
             ],
             [
              0.7777777777777778,
              "#fb9f3a"
             ],
             [
              0.8888888888888888,
              "#fdca26"
             ],
             [
              1,
              "#f0f921"
             ]
            ],
            "type": "surface"
           }
          ],
          "table": [
           {
            "cells": {
             "fill": {
              "color": "#EBF0F8"
             },
             "line": {
              "color": "white"
             }
            },
            "header": {
             "fill": {
              "color": "#C8D4E3"
             },
             "line": {
              "color": "white"
             }
            },
            "type": "table"
           }
          ]
         },
         "layout": {
          "annotationdefaults": {
           "arrowcolor": "#2a3f5f",
           "arrowhead": 0,
           "arrowwidth": 1
          },
          "autotypenumbers": "strict",
          "coloraxis": {
           "colorbar": {
            "outlinewidth": 0,
            "ticks": ""
           }
          },
          "colorscale": {
           "diverging": [
            [
             0,
             "#8e0152"
            ],
            [
             0.1,
             "#c51b7d"
            ],
            [
             0.2,
             "#de77ae"
            ],
            [
             0.3,
             "#f1b6da"
            ],
            [
             0.4,
             "#fde0ef"
            ],
            [
             0.5,
             "#f7f7f7"
            ],
            [
             0.6,
             "#e6f5d0"
            ],
            [
             0.7,
             "#b8e186"
            ],
            [
             0.8,
             "#7fbc41"
            ],
            [
             0.9,
             "#4d9221"
            ],
            [
             1,
             "#276419"
            ]
           ],
           "sequential": [
            [
             0,
             "#0d0887"
            ],
            [
             0.1111111111111111,
             "#46039f"
            ],
            [
             0.2222222222222222,
             "#7201a8"
            ],
            [
             0.3333333333333333,
             "#9c179e"
            ],
            [
             0.4444444444444444,
             "#bd3786"
            ],
            [
             0.5555555555555556,
             "#d8576b"
            ],
            [
             0.6666666666666666,
             "#ed7953"
            ],
            [
             0.7777777777777778,
             "#fb9f3a"
            ],
            [
             0.8888888888888888,
             "#fdca26"
            ],
            [
             1,
             "#f0f921"
            ]
           ],
           "sequentialminus": [
            [
             0,
             "#0d0887"
            ],
            [
             0.1111111111111111,
             "#46039f"
            ],
            [
             0.2222222222222222,
             "#7201a8"
            ],
            [
             0.3333333333333333,
             "#9c179e"
            ],
            [
             0.4444444444444444,
             "#bd3786"
            ],
            [
             0.5555555555555556,
             "#d8576b"
            ],
            [
             0.6666666666666666,
             "#ed7953"
            ],
            [
             0.7777777777777778,
             "#fb9f3a"
            ],
            [
             0.8888888888888888,
             "#fdca26"
            ],
            [
             1,
             "#f0f921"
            ]
           ]
          },
          "colorway": [
           "#636efa",
           "#EF553B",
           "#00cc96",
           "#ab63fa",
           "#FFA15A",
           "#19d3f3",
           "#FF6692",
           "#B6E880",
           "#FF97FF",
           "#FECB52"
          ],
          "font": {
           "color": "#2a3f5f"
          },
          "geo": {
           "bgcolor": "white",
           "lakecolor": "white",
           "landcolor": "#E5ECF6",
           "showlakes": true,
           "showland": true,
           "subunitcolor": "white"
          },
          "hoverlabel": {
           "align": "left"
          },
          "hovermode": "closest",
          "mapbox": {
           "style": "light"
          },
          "paper_bgcolor": "white",
          "plot_bgcolor": "#E5ECF6",
          "polar": {
           "angularaxis": {
            "gridcolor": "white",
            "linecolor": "white",
            "ticks": ""
           },
           "bgcolor": "#E5ECF6",
           "radialaxis": {
            "gridcolor": "white",
            "linecolor": "white",
            "ticks": ""
           }
          },
          "scene": {
           "xaxis": {
            "backgroundcolor": "#E5ECF6",
            "gridcolor": "white",
            "gridwidth": 2,
            "linecolor": "white",
            "showbackground": true,
            "ticks": "",
            "zerolinecolor": "white"
           },
           "yaxis": {
            "backgroundcolor": "#E5ECF6",
            "gridcolor": "white",
            "gridwidth": 2,
            "linecolor": "white",
            "showbackground": true,
            "ticks": "",
            "zerolinecolor": "white"
           },
           "zaxis": {
            "backgroundcolor": "#E5ECF6",
            "gridcolor": "white",
            "gridwidth": 2,
            "linecolor": "white",
            "showbackground": true,
            "ticks": "",
            "zerolinecolor": "white"
           }
          },
          "shapedefaults": {
           "line": {
            "color": "#2a3f5f"
           }
          },
          "ternary": {
           "aaxis": {
            "gridcolor": "white",
            "linecolor": "white",
            "ticks": ""
           },
           "baxis": {
            "gridcolor": "white",
            "linecolor": "white",
            "ticks": ""
           },
           "bgcolor": "#E5ECF6",
           "caxis": {
            "gridcolor": "white",
            "linecolor": "white",
            "ticks": ""
           }
          },
          "title": {
           "x": 0.05
          },
          "xaxis": {
           "automargin": true,
           "gridcolor": "white",
           "linecolor": "white",
           "ticks": "",
           "title": {
            "standoff": 15
           },
           "zerolinecolor": "white",
           "zerolinewidth": 2
          },
          "yaxis": {
           "automargin": true,
           "gridcolor": "white",
           "linecolor": "white",
           "ticks": "",
           "title": {
            "standoff": 15
           },
           "zerolinecolor": "white",
           "zerolinewidth": 2
          }
         }
        }
       }
      }
     },
     "metadata": {},
     "output_type": "display_data"
    }
   ],
   "source": [
    "import plotly.express as px\n",
    "\n",
    "fig = px.pie(data_frame=trackDf, values=\"cases\", labels=\"label\")\n",
    "fig.show()"
   ]
  },
  {
   "cell_type": "code",
   "execution_count": 11,
   "metadata": {},
   "outputs": [
    {
     "data": {
      "text/html": [
       "<div>\n",
       "<style scoped>\n",
       "    .dataframe tbody tr th:only-of-type {\n",
       "        vertical-align: middle;\n",
       "    }\n",
       "\n",
       "    .dataframe tbody tr th {\n",
       "        vertical-align: top;\n",
       "    }\n",
       "\n",
       "    .dataframe thead th {\n",
       "        text-align: right;\n",
       "    }\n",
       "</style>\n",
       "<table border=\"1\" class=\"dataframe\">\n",
       "  <thead>\n",
       "    <tr style=\"text-align: right;\">\n",
       "      <th></th>\n",
       "      <th>CaseID</th>\n",
       "      <th>iDOCID</th>\n",
       "      <th>StdDocDesc</th>\n",
       "    </tr>\n",
       "  </thead>\n",
       "  <tbody>\n",
       "    <tr>\n",
       "      <th>0</th>\n",
       "      <td>10375210</td>\n",
       "      <td>456204471.0</td>\n",
       "      <td>Front View</td>\n",
       "    </tr>\n",
       "    <tr>\n",
       "      <th>1</th>\n",
       "      <td>10839776</td>\n",
       "      <td>479277541.0</td>\n",
       "      <td>Front View</td>\n",
       "    </tr>\n",
       "    <tr>\n",
       "      <th>2</th>\n",
       "      <td>10595863</td>\n",
       "      <td>518945875.0</td>\n",
       "      <td>Front View</td>\n",
       "    </tr>\n",
       "    <tr>\n",
       "      <th>3</th>\n",
       "      <td>10324518</td>\n",
       "      <td>453575575.0</td>\n",
       "      <td>Front View</td>\n",
       "    </tr>\n",
       "    <tr>\n",
       "      <th>4</th>\n",
       "      <td>10810372</td>\n",
       "      <td>477799896.0</td>\n",
       "      <td>Front View</td>\n",
       "    </tr>\n",
       "    <tr>\n",
       "      <th>...</th>\n",
       "      <td>...</td>\n",
       "      <td>...</td>\n",
       "      <td>...</td>\n",
       "    </tr>\n",
       "    <tr>\n",
       "      <th>2997463</th>\n",
       "      <td>12981985</td>\n",
       "      <td>651301700.0</td>\n",
       "      <td>Rear View Right</td>\n",
       "    </tr>\n",
       "    <tr>\n",
       "      <th>2997464</th>\n",
       "      <td>13548901</td>\n",
       "      <td>651304978.0</td>\n",
       "      <td>Rear View Right</td>\n",
       "    </tr>\n",
       "    <tr>\n",
       "      <th>2997465</th>\n",
       "      <td>13313567</td>\n",
       "      <td>652815210.0</td>\n",
       "      <td>Rear View Right</td>\n",
       "    </tr>\n",
       "    <tr>\n",
       "      <th>2997466</th>\n",
       "      <td>13551639</td>\n",
       "      <td>654542221.0</td>\n",
       "      <td>Rear View Right</td>\n",
       "    </tr>\n",
       "    <tr>\n",
       "      <th>2997467</th>\n",
       "      <td>13401137</td>\n",
       "      <td>655504422.0</td>\n",
       "      <td>Rear View Right</td>\n",
       "    </tr>\n",
       "  </tbody>\n",
       "</table>\n",
       "<p>2997468 rows × 3 columns</p>\n",
       "</div>"
      ],
      "text/plain": [
       "           CaseID       iDOCID       StdDocDesc\n",
       "0        10375210  456204471.0       Front View\n",
       "1        10839776  479277541.0       Front View\n",
       "2        10595863  518945875.0       Front View\n",
       "3        10324518  453575575.0       Front View\n",
       "4        10810372  477799896.0       Front View\n",
       "...           ...          ...              ...\n",
       "2997463  12981985  651301700.0  Rear View Right\n",
       "2997464  13548901  651304978.0  Rear View Right\n",
       "2997465  13313567  652815210.0  Rear View Right\n",
       "2997466  13551639  654542221.0  Rear View Right\n",
       "2997467  13401137  655504422.0  Rear View Right\n",
       "\n",
       "[2997468 rows x 3 columns]"
      ]
     },
     "execution_count": 11,
     "metadata": {},
     "output_type": "execute_result"
    }
   ],
   "source": [
    "bucket3 = \"scope_file\"\n",
    "targetCols = [\"CaseID\", \"iDOCID\"]\n",
    "filesDf = wr.s3.read_parquet(f\"s3://{bucket3}/\" ,dataset=True, columns=targetCols)\n",
    "filesDf"
   ]
  },
  {
   "cell_type": "code",
   "execution_count": 12,
   "metadata": {},
   "outputs": [
    {
     "data": {
      "text/html": [
       "<div>\n",
       "<style scoped>\n",
       "    .dataframe tbody tr th:only-of-type {\n",
       "        vertical-align: middle;\n",
       "    }\n",
       "\n",
       "    .dataframe tbody tr th {\n",
       "        vertical-align: top;\n",
       "    }\n",
       "\n",
       "    .dataframe thead th {\n",
       "        text-align: right;\n",
       "    }\n",
       "</style>\n",
       "<table border=\"1\" class=\"dataframe\">\n",
       "  <thead>\n",
       "    <tr style=\"text-align: right;\">\n",
       "      <th></th>\n",
       "      <th>CaseID</th>\n",
       "      <th>iDOCID</th>\n",
       "      <th>StdDocDesc</th>\n",
       "    </tr>\n",
       "  </thead>\n",
       "  <tbody>\n",
       "    <tr>\n",
       "      <th>2</th>\n",
       "      <td>10595863</td>\n",
       "      <td>518945875.0</td>\n",
       "      <td>Front View</td>\n",
       "    </tr>\n",
       "    <tr>\n",
       "      <th>99</th>\n",
       "      <td>10004002</td>\n",
       "      <td>437483424.0</td>\n",
       "      <td>Front View</td>\n",
       "    </tr>\n",
       "    <tr>\n",
       "      <th>137</th>\n",
       "      <td>10003125</td>\n",
       "      <td>437513895.0</td>\n",
       "      <td>Front View</td>\n",
       "    </tr>\n",
       "    <tr>\n",
       "      <th>251</th>\n",
       "      <td>10004204</td>\n",
       "      <td>437628283.0</td>\n",
       "      <td>Front View</td>\n",
       "    </tr>\n",
       "    <tr>\n",
       "      <th>312</th>\n",
       "      <td>10006884</td>\n",
       "      <td>437683694.0</td>\n",
       "      <td>Front View</td>\n",
       "    </tr>\n",
       "    <tr>\n",
       "      <th>...</th>\n",
       "      <td>...</td>\n",
       "      <td>...</td>\n",
       "      <td>...</td>\n",
       "    </tr>\n",
       "    <tr>\n",
       "      <th>2997154</th>\n",
       "      <td>12702538</td>\n",
       "      <td>624386744.0</td>\n",
       "      <td>Rear View Right</td>\n",
       "    </tr>\n",
       "    <tr>\n",
       "      <th>2997184</th>\n",
       "      <td>13554985</td>\n",
       "      <td>624837551.0</td>\n",
       "      <td>Rear View Right</td>\n",
       "    </tr>\n",
       "    <tr>\n",
       "      <th>2997416</th>\n",
       "      <td>13469224</td>\n",
       "      <td>637179003.0</td>\n",
       "      <td>Rear View Right</td>\n",
       "    </tr>\n",
       "    <tr>\n",
       "      <th>2997443</th>\n",
       "      <td>13177588</td>\n",
       "      <td>643593933.0</td>\n",
       "      <td>Rear View Right</td>\n",
       "    </tr>\n",
       "    <tr>\n",
       "      <th>2997447</th>\n",
       "      <td>13444457</td>\n",
       "      <td>644455970.0</td>\n",
       "      <td>Rear View Right</td>\n",
       "    </tr>\n",
       "  </tbody>\n",
       "</table>\n",
       "<p>152138 rows × 3 columns</p>\n",
       "</div>"
      ],
      "text/plain": [
       "           CaseID       iDOCID       StdDocDesc\n",
       "2        10595863  518945875.0       Front View\n",
       "99       10004002  437483424.0       Front View\n",
       "137      10003125  437513895.0       Front View\n",
       "251      10004204  437628283.0       Front View\n",
       "312      10006884  437683694.0       Front View\n",
       "...           ...          ...              ...\n",
       "2997154  12702538  624386744.0  Rear View Right\n",
       "2997184  13554985  624837551.0  Rear View Right\n",
       "2997416  13469224  637179003.0  Rear View Right\n",
       "2997443  13177588  643593933.0  Rear View Right\n",
       "2997447  13444457  644455970.0  Rear View Right\n",
       "\n",
       "[152138 rows x 3 columns]"
      ]
     },
     "execution_count": 12,
     "metadata": {},
     "output_type": "execute_result"
    }
   ],
   "source": [
    "filesDf = filesDf[filesDf[\"CaseID\"].isin(availableImgsCase)]\n",
    "filesDf"
   ]
  },
  {
   "cell_type": "code",
   "execution_count": 13,
   "metadata": {},
   "outputs": [
    {
     "name": "stderr",
     "output_type": "stream",
     "text": [
      "/tmp/ipykernel_1114265/3044125367.py:1: SettingWithCopyWarning:\n",
      "\n",
      "\n",
      "A value is trying to be set on a copy of a slice from a DataFrame.\n",
      "Try using .loc[row_indexer,col_indexer] = value instead\n",
      "\n",
      "See the caveats in the documentation: https://pandas.pydata.org/pandas-docs/stable/user_guide/indexing.html#returning-a-view-versus-a-copy\n",
      "\n"
     ]
    },
    {
     "data": {
      "text/plain": [
       "2          10595863_518945875.JPG\n",
       "99         10004002_437483424.JPG\n",
       "137        10003125_437513895.JPG\n",
       "251        10004204_437628283.JPG\n",
       "312        10006884_437683694.JPG\n",
       "                    ...          \n",
       "2997154    12702538_624386744.JPG\n",
       "2997184    13554985_624837551.JPG\n",
       "2997416    13469224_637179003.JPG\n",
       "2997443    13177588_643593933.JPG\n",
       "2997447    13444457_644455970.JPG\n",
       "Name: filename, Length: 152138, dtype: object"
      ]
     },
     "execution_count": 13,
     "metadata": {},
     "output_type": "execute_result"
    }
   ],
   "source": [
    "filesDf[\"filename\"] = filesDf[['CaseID', \"iDOCID\"]].apply(lambda x : str(int(x[\"CaseID\"])) + \"_\" + str(int(x[\"iDOCID\"])) + \".JPG\", axis=1)\n",
    "filesDf[\"filename\"]"
   ]
  },
  {
   "cell_type": "code",
   "execution_count": 14,
   "metadata": {},
   "outputs": [
    {
     "name": "stderr",
     "output_type": "stream",
     "text": [
      "/tmp/ipykernel_1114265/3678596583.py:2: SettingWithCopyWarning:\n",
      "\n",
      "\n",
      "A value is trying to be set on a copy of a slice from a DataFrame.\n",
      "Try using .loc[row_indexer,col_indexer] = value instead\n",
      "\n",
      "See the caveats in the documentation: https://pandas.pydata.org/pandas-docs/stable/user_guide/indexing.html#returning-a-view-versus-a-copy\n",
      "\n"
     ]
    }
   ],
   "source": [
    "endpoint = \"http://192.168.1.7:8888/buckets/raw_imgs/\"\n",
    "filesDf[\"url\"] = endpoint + filesDf[\"filename\"]"
   ]
  },
  {
   "cell_type": "code",
   "execution_count": 15,
   "metadata": {},
   "outputs": [],
   "source": [
    "numCaseToDownload = 20000\n"
   ]
  },
  {
   "cell_type": "code",
   "execution_count": 16,
   "metadata": {},
   "outputs": [],
   "source": [
    "len(filesDf['CaseID'].unique())\n",
    "targetCaseId = filesDf['CaseID'].unique().tolist()\n",
    "random.shuffle(targetCaseId)\n",
    "targetCaseId = targetCaseId[:numCaseToDownload]\n",
    "downloadFileDf = filesDf[filesDf[\"CaseID\"].isin(targetCaseId)]"
   ]
  },
  {
   "cell_type": "code",
   "execution_count": null,
   "metadata": {},
   "outputs": [],
   "source": [
    "print(len(targetCaseId))"
   ]
  },
  {
   "cell_type": "code",
   "execution_count": 17,
   "metadata": {},
   "outputs": [],
   "source": [
    "sinkDir = \"/home/alextay96/Desktop/new_workspace/DLDataPipeline/data/imgs\"\n",
    "localFiles = os.listdir(sinkDir)\n",
    "downloadFileDf = downloadFileDf[~downloadFileDf[\"filename\"].isin(localFiles)]\n"
   ]
  },
  {
   "cell_type": "code",
   "execution_count": 18,
   "metadata": {},
   "outputs": [
    {
     "name": "stderr",
     "output_type": "stream",
     "text": [
      "95326it [1:15:51, 20.95it/s]\n"
     ]
    }
   ],
   "source": [
    "\n",
    "os.makedirs(sinkDir, exist_ok=True)\n",
    "s = requests.Session()\n",
    "\n",
    "for _, i in tqdm(downloadFileDf.iterrows()):\n",
    "    url = i[\"url\"]\n",
    "    imgBytes = s.get(url)\n",
    "    localPath = os.path.join(sinkDir, i[\"filename\"])\n",
    "    with open(localPath, \"wb\") as f:\n",
    "        f.write(imgBytes.content)\n",
    "    \n"
   ]
  },
  {
   "cell_type": "code",
   "execution_count": 19,
   "metadata": {},
   "outputs": [
    {
     "data": {
      "text/html": [
       "<div>\n",
       "<style scoped>\n",
       "    .dataframe tbody tr th:only-of-type {\n",
       "        vertical-align: middle;\n",
       "    }\n",
       "\n",
       "    .dataframe tbody tr th {\n",
       "        vertical-align: top;\n",
       "    }\n",
       "\n",
       "    .dataframe thead th {\n",
       "        text-align: right;\n",
       "    }\n",
       "</style>\n",
       "<table border=\"1\" class=\"dataframe\">\n",
       "  <thead>\n",
       "    <tr style=\"text-align: right;\">\n",
       "      <th></th>\n",
       "      <th>CaseID</th>\n",
       "      <th>iDOCID</th>\n",
       "      <th>StdDocDesc</th>\n",
       "      <th>filename</th>\n",
       "      <th>url</th>\n",
       "    </tr>\n",
       "  </thead>\n",
       "  <tbody>\n",
       "    <tr>\n",
       "      <th>312</th>\n",
       "      <td>10006884</td>\n",
       "      <td>437683694.0</td>\n",
       "      <td>Front View</td>\n",
       "      <td>10006884_437683694.JPG</td>\n",
       "      <td>http://192.168.1.7:8888/buckets/raw_imgs/10006...</td>\n",
       "    </tr>\n",
       "    <tr>\n",
       "      <th>314</th>\n",
       "      <td>10007786</td>\n",
       "      <td>437684300.0</td>\n",
       "      <td>Front View</td>\n",
       "      <td>10007786_437684300.JPG</td>\n",
       "      <td>http://192.168.1.7:8888/buckets/raw_imgs/10007...</td>\n",
       "    </tr>\n",
       "    <tr>\n",
       "      <th>409</th>\n",
       "      <td>10009599</td>\n",
       "      <td>437787494.0</td>\n",
       "      <td>Front View</td>\n",
       "      <td>10009599_437787494.JPG</td>\n",
       "      <td>http://192.168.1.7:8888/buckets/raw_imgs/10009...</td>\n",
       "    </tr>\n",
       "    <tr>\n",
       "      <th>457</th>\n",
       "      <td>10010742</td>\n",
       "      <td>437831121.0</td>\n",
       "      <td>Front View</td>\n",
       "      <td>10010742_437831121.JPG</td>\n",
       "      <td>http://192.168.1.7:8888/buckets/raw_imgs/10010...</td>\n",
       "    </tr>\n",
       "    <tr>\n",
       "      <th>854</th>\n",
       "      <td>10008478</td>\n",
       "      <td>438159522.0</td>\n",
       "      <td>Front View</td>\n",
       "      <td>10008478_438159522.JPG</td>\n",
       "      <td>http://192.168.1.7:8888/buckets/raw_imgs/10008...</td>\n",
       "    </tr>\n",
       "    <tr>\n",
       "      <th>...</th>\n",
       "      <td>...</td>\n",
       "      <td>...</td>\n",
       "      <td>...</td>\n",
       "      <td>...</td>\n",
       "      <td>...</td>\n",
       "    </tr>\n",
       "    <tr>\n",
       "      <th>2997107</th>\n",
       "      <td>13514130</td>\n",
       "      <td>623705040.0</td>\n",
       "      <td>Rear View Right</td>\n",
       "      <td>13514130_623705040.JPG</td>\n",
       "      <td>http://192.168.1.7:8888/buckets/raw_imgs/13514...</td>\n",
       "    </tr>\n",
       "    <tr>\n",
       "      <th>2997133</th>\n",
       "      <td>13559885</td>\n",
       "      <td>624070256.0</td>\n",
       "      <td>Rear View Right</td>\n",
       "      <td>13559885_624070256.JPG</td>\n",
       "      <td>http://192.168.1.7:8888/buckets/raw_imgs/13559...</td>\n",
       "    </tr>\n",
       "    <tr>\n",
       "      <th>2997154</th>\n",
       "      <td>12702538</td>\n",
       "      <td>624386744.0</td>\n",
       "      <td>Rear View Right</td>\n",
       "      <td>12702538_624386744.JPG</td>\n",
       "      <td>http://192.168.1.7:8888/buckets/raw_imgs/12702...</td>\n",
       "    </tr>\n",
       "    <tr>\n",
       "      <th>2997184</th>\n",
       "      <td>13554985</td>\n",
       "      <td>624837551.0</td>\n",
       "      <td>Rear View Right</td>\n",
       "      <td>13554985_624837551.JPG</td>\n",
       "      <td>http://192.168.1.7:8888/buckets/raw_imgs/13554...</td>\n",
       "    </tr>\n",
       "    <tr>\n",
       "      <th>2997447</th>\n",
       "      <td>13444457</td>\n",
       "      <td>644455970.0</td>\n",
       "      <td>Rear View Right</td>\n",
       "      <td>13444457_644455970.JPG</td>\n",
       "      <td>http://192.168.1.7:8888/buckets/raw_imgs/13444...</td>\n",
       "    </tr>\n",
       "  </tbody>\n",
       "</table>\n",
       "<p>95326 rows × 5 columns</p>\n",
       "</div>"
      ],
      "text/plain": [
       "           CaseID       iDOCID       StdDocDesc                filename  \\\n",
       "312      10006884  437683694.0       Front View  10006884_437683694.JPG   \n",
       "314      10007786  437684300.0       Front View  10007786_437684300.JPG   \n",
       "409      10009599  437787494.0       Front View  10009599_437787494.JPG   \n",
       "457      10010742  437831121.0       Front View  10010742_437831121.JPG   \n",
       "854      10008478  438159522.0       Front View  10008478_438159522.JPG   \n",
       "...           ...          ...              ...                     ...   \n",
       "2997107  13514130  623705040.0  Rear View Right  13514130_623705040.JPG   \n",
       "2997133  13559885  624070256.0  Rear View Right  13559885_624070256.JPG   \n",
       "2997154  12702538  624386744.0  Rear View Right  12702538_624386744.JPG   \n",
       "2997184  13554985  624837551.0  Rear View Right  13554985_624837551.JPG   \n",
       "2997447  13444457  644455970.0  Rear View Right  13444457_644455970.JPG   \n",
       "\n",
       "                                                       url  \n",
       "312      http://192.168.1.7:8888/buckets/raw_imgs/10006...  \n",
       "314      http://192.168.1.7:8888/buckets/raw_imgs/10007...  \n",
       "409      http://192.168.1.7:8888/buckets/raw_imgs/10009...  \n",
       "457      http://192.168.1.7:8888/buckets/raw_imgs/10010...  \n",
       "854      http://192.168.1.7:8888/buckets/raw_imgs/10008...  \n",
       "...                                                    ...  \n",
       "2997107  http://192.168.1.7:8888/buckets/raw_imgs/13514...  \n",
       "2997133  http://192.168.1.7:8888/buckets/raw_imgs/13559...  \n",
       "2997154  http://192.168.1.7:8888/buckets/raw_imgs/12702...  \n",
       "2997184  http://192.168.1.7:8888/buckets/raw_imgs/13554...  \n",
       "2997447  http://192.168.1.7:8888/buckets/raw_imgs/13444...  \n",
       "\n",
       "[95326 rows x 5 columns]"
      ]
     },
     "execution_count": 19,
     "metadata": {},
     "output_type": "execute_result"
    }
   ],
   "source": [
    "downloadFileDf"
   ]
  },
  {
   "cell_type": "code",
   "execution_count": 20,
   "metadata": {},
   "outputs": [],
   "source": [
    "downloadFileDf.to_parquet(f\"../../data/imgs_metadata/{vehicleType}.parquet\")"
   ]
  },
  {
   "cell_type": "code",
   "execution_count": 21,
   "metadata": {},
   "outputs": [
    {
     "data": {
      "text/html": [
       "<div>\n",
       "<style scoped>\n",
       "    .dataframe tbody tr th:only-of-type {\n",
       "        vertical-align: middle;\n",
       "    }\n",
       "\n",
       "    .dataframe tbody tr th {\n",
       "        vertical-align: top;\n",
       "    }\n",
       "\n",
       "    .dataframe thead th {\n",
       "        text-align: right;\n",
       "    }\n",
       "</style>\n",
       "<table border=\"1\" class=\"dataframe\">\n",
       "  <thead>\n",
       "    <tr style=\"text-align: right;\">\n",
       "      <th></th>\n",
       "      <th>CaseID</th>\n",
       "      <th>iDOCID</th>\n",
       "      <th>StdDocDesc</th>\n",
       "      <th>filename</th>\n",
       "      <th>url</th>\n",
       "    </tr>\n",
       "  </thead>\n",
       "  <tbody>\n",
       "    <tr>\n",
       "      <th>312</th>\n",
       "      <td>10006884</td>\n",
       "      <td>437683694.0</td>\n",
       "      <td>Front View</td>\n",
       "      <td>10006884_437683694.JPG</td>\n",
       "      <td>http://192.168.1.7:8888/buckets/raw_imgs/10006...</td>\n",
       "    </tr>\n",
       "    <tr>\n",
       "      <th>314</th>\n",
       "      <td>10007786</td>\n",
       "      <td>437684300.0</td>\n",
       "      <td>Front View</td>\n",
       "      <td>10007786_437684300.JPG</td>\n",
       "      <td>http://192.168.1.7:8888/buckets/raw_imgs/10007...</td>\n",
       "    </tr>\n",
       "    <tr>\n",
       "      <th>409</th>\n",
       "      <td>10009599</td>\n",
       "      <td>437787494.0</td>\n",
       "      <td>Front View</td>\n",
       "      <td>10009599_437787494.JPG</td>\n",
       "      <td>http://192.168.1.7:8888/buckets/raw_imgs/10009...</td>\n",
       "    </tr>\n",
       "    <tr>\n",
       "      <th>457</th>\n",
       "      <td>10010742</td>\n",
       "      <td>437831121.0</td>\n",
       "      <td>Front View</td>\n",
       "      <td>10010742_437831121.JPG</td>\n",
       "      <td>http://192.168.1.7:8888/buckets/raw_imgs/10010...</td>\n",
       "    </tr>\n",
       "    <tr>\n",
       "      <th>854</th>\n",
       "      <td>10008478</td>\n",
       "      <td>438159522.0</td>\n",
       "      <td>Front View</td>\n",
       "      <td>10008478_438159522.JPG</td>\n",
       "      <td>http://192.168.1.7:8888/buckets/raw_imgs/10008...</td>\n",
       "    </tr>\n",
       "    <tr>\n",
       "      <th>...</th>\n",
       "      <td>...</td>\n",
       "      <td>...</td>\n",
       "      <td>...</td>\n",
       "      <td>...</td>\n",
       "      <td>...</td>\n",
       "    </tr>\n",
       "    <tr>\n",
       "      <th>2997107</th>\n",
       "      <td>13514130</td>\n",
       "      <td>623705040.0</td>\n",
       "      <td>Rear View Right</td>\n",
       "      <td>13514130_623705040.JPG</td>\n",
       "      <td>http://192.168.1.7:8888/buckets/raw_imgs/13514...</td>\n",
       "    </tr>\n",
       "    <tr>\n",
       "      <th>2997133</th>\n",
       "      <td>13559885</td>\n",
       "      <td>624070256.0</td>\n",
       "      <td>Rear View Right</td>\n",
       "      <td>13559885_624070256.JPG</td>\n",
       "      <td>http://192.168.1.7:8888/buckets/raw_imgs/13559...</td>\n",
       "    </tr>\n",
       "    <tr>\n",
       "      <th>2997154</th>\n",
       "      <td>12702538</td>\n",
       "      <td>624386744.0</td>\n",
       "      <td>Rear View Right</td>\n",
       "      <td>12702538_624386744.JPG</td>\n",
       "      <td>http://192.168.1.7:8888/buckets/raw_imgs/12702...</td>\n",
       "    </tr>\n",
       "    <tr>\n",
       "      <th>2997184</th>\n",
       "      <td>13554985</td>\n",
       "      <td>624837551.0</td>\n",
       "      <td>Rear View Right</td>\n",
       "      <td>13554985_624837551.JPG</td>\n",
       "      <td>http://192.168.1.7:8888/buckets/raw_imgs/13554...</td>\n",
       "    </tr>\n",
       "    <tr>\n",
       "      <th>2997447</th>\n",
       "      <td>13444457</td>\n",
       "      <td>644455970.0</td>\n",
       "      <td>Rear View Right</td>\n",
       "      <td>13444457_644455970.JPG</td>\n",
       "      <td>http://192.168.1.7:8888/buckets/raw_imgs/13444...</td>\n",
       "    </tr>\n",
       "  </tbody>\n",
       "</table>\n",
       "<p>95326 rows × 5 columns</p>\n",
       "</div>"
      ],
      "text/plain": [
       "           CaseID       iDOCID       StdDocDesc                filename  \\\n",
       "312      10006884  437683694.0       Front View  10006884_437683694.JPG   \n",
       "314      10007786  437684300.0       Front View  10007786_437684300.JPG   \n",
       "409      10009599  437787494.0       Front View  10009599_437787494.JPG   \n",
       "457      10010742  437831121.0       Front View  10010742_437831121.JPG   \n",
       "854      10008478  438159522.0       Front View  10008478_438159522.JPG   \n",
       "...           ...          ...              ...                     ...   \n",
       "2997107  13514130  623705040.0  Rear View Right  13514130_623705040.JPG   \n",
       "2997133  13559885  624070256.0  Rear View Right  13559885_624070256.JPG   \n",
       "2997154  12702538  624386744.0  Rear View Right  12702538_624386744.JPG   \n",
       "2997184  13554985  624837551.0  Rear View Right  13554985_624837551.JPG   \n",
       "2997447  13444457  644455970.0  Rear View Right  13444457_644455970.JPG   \n",
       "\n",
       "                                                       url  \n",
       "312      http://192.168.1.7:8888/buckets/raw_imgs/10006...  \n",
       "314      http://192.168.1.7:8888/buckets/raw_imgs/10007...  \n",
       "409      http://192.168.1.7:8888/buckets/raw_imgs/10009...  \n",
       "457      http://192.168.1.7:8888/buckets/raw_imgs/10010...  \n",
       "854      http://192.168.1.7:8888/buckets/raw_imgs/10008...  \n",
       "...                                                    ...  \n",
       "2997107  http://192.168.1.7:8888/buckets/raw_imgs/13514...  \n",
       "2997133  http://192.168.1.7:8888/buckets/raw_imgs/13559...  \n",
       "2997154  http://192.168.1.7:8888/buckets/raw_imgs/12702...  \n",
       "2997184  http://192.168.1.7:8888/buckets/raw_imgs/13554...  \n",
       "2997447  http://192.168.1.7:8888/buckets/raw_imgs/13444...  \n",
       "\n",
       "[95326 rows x 5 columns]"
      ]
     },
     "execution_count": 21,
     "metadata": {},
     "output_type": "execute_result"
    }
   ],
   "source": [
    "pd.read_parquet(f\"/home/alextay96/Desktop/new_workspace/DLDataPipeline/data/imgs_metadata/{vehicleType}.parquet\")"
   ]
  }
 ],
 "metadata": {
  "kernelspec": {
   "display_name": "Python 3.10.6 ('work')",
   "language": "python",
   "name": "python3"
  },
  "language_info": {
   "codemirror_mode": {
    "name": "ipython",
    "version": 3
   },
   "file_extension": ".py",
   "mimetype": "text/x-python",
   "name": "python",
   "nbconvert_exporter": "python",
   "pygments_lexer": "ipython3",
   "version": "3.10.6"
  },
  "orig_nbformat": 4,
  "vscode": {
   "interpreter": {
    "hash": "0e8f33c5a67865e6aadcd232beb3e2644a1f224e780847feacdefa5e710f41d5"
   }
  }
 },
 "nbformat": 4,
 "nbformat_minor": 2
}
