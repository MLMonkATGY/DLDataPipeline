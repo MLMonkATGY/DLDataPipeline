{
 "cells": [
  {
   "cell_type": "code",
   "execution_count": 22,
   "metadata": {},
   "outputs": [],
   "source": [
    "\n",
    "from catboost import CatBoostClassifier, Pool\n",
    "from catboost.utils import eval_metric\n",
    "from sklearn.datasets import make_multilabel_classification\n",
    "from sklearn.model_selection import train_test_split\n",
    "import pandas as pd\n",
    "import sklearn.metrics as metrics\n",
    "from sklearn.metrics import accuracy_score, classification_report\n",
    "import numpy as np\n",
    "import plotly.express as px\n",
    "import shap\n",
    "import seaborn as sns\n",
    "from IPython import display\n",
    "import matplotlib.pyplot as plt\n",
    "import awswrangler as wr\n",
    "import boto3\n",
    "from tqdm import tqdm\n",
    "import requests\n",
    "from PIL import Image\n",
    "from io import BytesIO\n",
    "import os\n",
    "import random\n"
   ]
  },
  {
   "cell_type": "code",
   "execution_count": 23,
   "metadata": {},
   "outputs": [],
   "source": [
    "wr.config.s3_endpoint_url = \"http://192.168.1.7:8333\"\n"
   ]
  },
  {
   "cell_type": "code",
   "execution_count": 24,
   "metadata": {},
   "outputs": [],
   "source": [
    "vehicleType = \"SUV - 5 Dr\"\n"
   ]
  },
  {
   "cell_type": "code",
   "execution_count": 25,
   "metadata": {},
   "outputs": [
    {
     "data": {
      "text/html": [
       "<div>\n",
       "<style scoped>\n",
       "    .dataframe tbody tr th:only-of-type {\n",
       "        vertical-align: middle;\n",
       "    }\n",
       "\n",
       "    .dataframe tbody tr th {\n",
       "        vertical-align: top;\n",
       "    }\n",
       "\n",
       "    .dataframe thead th {\n",
       "        text-align: right;\n",
       "    }\n",
       "</style>\n",
       "<table border=\"1\" class=\"dataframe\">\n",
       "  <thead>\n",
       "    <tr style=\"text-align: right;\">\n",
       "      <th></th>\n",
       "      <th>CaseID</th>\n",
       "      <th>Vehicle_Type</th>\n",
       "    </tr>\n",
       "  </thead>\n",
       "  <tbody>\n",
       "    <tr>\n",
       "      <th>0</th>\n",
       "      <td>10000037</td>\n",
       "      <td>SUV - 5 Dr</td>\n",
       "    </tr>\n",
       "    <tr>\n",
       "      <th>1</th>\n",
       "      <td>10000064</td>\n",
       "      <td>SUV - 5 Dr</td>\n",
       "    </tr>\n",
       "    <tr>\n",
       "      <th>2</th>\n",
       "      <td>10000066</td>\n",
       "      <td>SUV - 5 Dr</td>\n",
       "    </tr>\n",
       "    <tr>\n",
       "      <th>3</th>\n",
       "      <td>10000117</td>\n",
       "      <td>SUV - 5 Dr</td>\n",
       "    </tr>\n",
       "    <tr>\n",
       "      <th>4</th>\n",
       "      <td>10000125</td>\n",
       "      <td>SUV - 5 Dr</td>\n",
       "    </tr>\n",
       "    <tr>\n",
       "      <th>...</th>\n",
       "      <td>...</td>\n",
       "      <td>...</td>\n",
       "    </tr>\n",
       "    <tr>\n",
       "      <th>67507</th>\n",
       "      <td>13562831</td>\n",
       "      <td>SUV - 5 Dr</td>\n",
       "    </tr>\n",
       "    <tr>\n",
       "      <th>67508</th>\n",
       "      <td>13562839</td>\n",
       "      <td>SUV - 5 Dr</td>\n",
       "    </tr>\n",
       "    <tr>\n",
       "      <th>67509</th>\n",
       "      <td>13562932</td>\n",
       "      <td>SUV - 5 Dr</td>\n",
       "    </tr>\n",
       "    <tr>\n",
       "      <th>67510</th>\n",
       "      <td>13562968</td>\n",
       "      <td>SUV - 5 Dr</td>\n",
       "    </tr>\n",
       "    <tr>\n",
       "      <th>67511</th>\n",
       "      <td>13563056</td>\n",
       "      <td>SUV - 5 Dr</td>\n",
       "    </tr>\n",
       "  </tbody>\n",
       "</table>\n",
       "<p>67512 rows × 2 columns</p>\n",
       "</div>"
      ],
      "text/plain": [
       "         CaseID Vehicle_Type\n",
       "0      10000037   SUV - 5 Dr\n",
       "1      10000064   SUV - 5 Dr\n",
       "2      10000066   SUV - 5 Dr\n",
       "3      10000117   SUV - 5 Dr\n",
       "4      10000125   SUV - 5 Dr\n",
       "...         ...          ...\n",
       "67507  13562831   SUV - 5 Dr\n",
       "67508  13562839   SUV - 5 Dr\n",
       "67509  13562932   SUV - 5 Dr\n",
       "67510  13562968   SUV - 5 Dr\n",
       "67511  13563056   SUV - 5 Dr\n",
       "\n",
       "[67512 rows x 2 columns]"
      ]
     },
     "execution_count": 25,
     "metadata": {},
     "output_type": "execute_result"
    }
   ],
   "source": [
    "bucket3 = \"scope_case\"\n",
    "myFilter =  lambda x : x[\"Vehicle_Type\"] == vehicleType\n",
    "targetCols = [\"CaseID\", \"Vehicle_Type\"]\n",
    "caseDf = wr.s3.read_parquet(f\"s3://{bucket3}/\" ,partition_filter=myFilter,dataset=True, columns=targetCols)\n",
    "caseDf"
   ]
  },
  {
   "cell_type": "code",
   "execution_count": 26,
   "metadata": {},
   "outputs": [
    {
     "name": "stderr",
     "output_type": "stream",
     "text": [
      "48it [00:56,  1.17s/it]"
     ]
    },
    {
     "name": "stdout",
     "output_type": "stream",
     "text": [
      "95293\n"
     ]
    },
    {
     "name": "stderr",
     "output_type": "stream",
     "text": [
      "\n"
     ]
    }
   ],
   "source": [
    "bucketName = \"raw_imgs\"\n",
    "cli = boto3.client(\n",
    "    \"s3\",\n",
    "    **{\n",
    "        \"endpoint_url\": \"http://192.168.1.7:8333\",\n",
    "    }\n",
    ")\n",
    "paginator = cli.get_paginator(\"list_objects_v2\")\n",
    "operation_parameters = {\"Bucket\": bucketName}\n",
    "page_iterator = paginator.paginate(**operation_parameters)\n",
    "downloadedImgs = []\n",
    "for page in tqdm(page_iterator):\n",
    "    pageContent = page[\"Contents\"]\n",
    "    downloadedCaseId = set([int(x[\"Key\"].split(\"_\")[0]) for x in pageContent])\n",
    "    downloadedImgs.extend(downloadedCaseId)\n",
    "print(len(downloadedImgs))"
   ]
  },
  {
   "cell_type": "code",
   "execution_count": 27,
   "metadata": {},
   "outputs": [],
   "source": [
    "availableImgsCase = set(downloadedImgs).intersection(caseDf[\"CaseID\"].unique().tolist())\n",
    "downloadedCaseLength = len(availableImgsCase)"
   ]
  },
  {
   "cell_type": "code",
   "execution_count": 28,
   "metadata": {},
   "outputs": [],
   "source": [
    "notDownloadedCaseLength = len(caseDf) - downloadedCaseLength"
   ]
  },
  {
   "cell_type": "code",
   "execution_count": 29,
   "metadata": {},
   "outputs": [
    {
     "data": {
      "text/plain": [
       "0.2175316980684915"
      ]
     },
     "execution_count": 29,
     "metadata": {},
     "output_type": "execute_result"
    }
   ],
   "source": [
    "availableRatio = len(availableImgsCase) / len(caseDf)\n",
    "availableRatio"
   ]
  },
  {
   "cell_type": "code",
   "execution_count": 30,
   "metadata": {},
   "outputs": [],
   "source": [
    "trackDf = pd.json_normalize([{\n",
    "    \"label\" : \"available\",\n",
    "    \"cases\" : downloadedCaseLength\n",
    "},\n",
    "                             {\n",
    "    \"label\" : \"not_available\",\n",
    "    \"cases\" : notDownloadedCaseLength\n",
    "}\n",
    "                             \n",
    "                             \n",
    "                             ])"
   ]
  },
  {
   "cell_type": "code",
   "execution_count": 31,
   "metadata": {},
   "outputs": [
    {
     "data": {
      "application/vnd.plotly.v1+json": {
       "config": {
        "plotlyServerURL": "https://plot.ly"
       },
       "data": [
        {
         "domain": {
          "x": [
           0,
           1
          ],
          "y": [
           0,
           1
          ]
         },
         "hovertemplate": "cases=%{value}<extra></extra>",
         "legendgroup": "",
         "name": "",
         "showlegend": false,
         "type": "pie",
         "values": [
          14686,
          52826
         ]
        }
       ],
       "layout": {
        "legend": {
         "tracegroupgap": 0
        },
        "margin": {
         "t": 60
        },
        "template": {
         "data": {
          "bar": [
           {
            "error_x": {
             "color": "#2a3f5f"
            },
            "error_y": {
             "color": "#2a3f5f"
            },
            "marker": {
             "line": {
              "color": "#E5ECF6",
              "width": 0.5
             },
             "pattern": {
              "fillmode": "overlay",
              "size": 10,
              "solidity": 0.2
             }
            },
            "type": "bar"
           }
          ],
          "barpolar": [
           {
            "marker": {
             "line": {
              "color": "#E5ECF6",
              "width": 0.5
             },
             "pattern": {
              "fillmode": "overlay",
              "size": 10,
              "solidity": 0.2
             }
            },
            "type": "barpolar"
           }
          ],
          "carpet": [
           {
            "aaxis": {
             "endlinecolor": "#2a3f5f",
             "gridcolor": "white",
             "linecolor": "white",
             "minorgridcolor": "white",
             "startlinecolor": "#2a3f5f"
            },
            "baxis": {
             "endlinecolor": "#2a3f5f",
             "gridcolor": "white",
             "linecolor": "white",
             "minorgridcolor": "white",
             "startlinecolor": "#2a3f5f"
            },
            "type": "carpet"
           }
          ],
          "choropleth": [
           {
            "colorbar": {
             "outlinewidth": 0,
             "ticks": ""
            },
            "type": "choropleth"
           }
          ],
          "contour": [
           {
            "colorbar": {
             "outlinewidth": 0,
             "ticks": ""
            },
            "colorscale": [
             [
              0,
              "#0d0887"
             ],
             [
              0.1111111111111111,
              "#46039f"
             ],
             [
              0.2222222222222222,
              "#7201a8"
             ],
             [
              0.3333333333333333,
              "#9c179e"
             ],
             [
              0.4444444444444444,
              "#bd3786"
             ],
             [
              0.5555555555555556,
              "#d8576b"
             ],
             [
              0.6666666666666666,
              "#ed7953"
             ],
             [
              0.7777777777777778,
              "#fb9f3a"
             ],
             [
              0.8888888888888888,
              "#fdca26"
             ],
             [
              1,
              "#f0f921"
             ]
            ],
            "type": "contour"
           }
          ],
          "contourcarpet": [
           {
            "colorbar": {
             "outlinewidth": 0,
             "ticks": ""
            },
            "type": "contourcarpet"
           }
          ],
          "heatmap": [
           {
            "colorbar": {
             "outlinewidth": 0,
             "ticks": ""
            },
            "colorscale": [
             [
              0,
              "#0d0887"
             ],
             [
              0.1111111111111111,
              "#46039f"
             ],
             [
              0.2222222222222222,
              "#7201a8"
             ],
             [
              0.3333333333333333,
              "#9c179e"
             ],
             [
              0.4444444444444444,
              "#bd3786"
             ],
             [
              0.5555555555555556,
              "#d8576b"
             ],
             [
              0.6666666666666666,
              "#ed7953"
             ],
             [
              0.7777777777777778,
              "#fb9f3a"
             ],
             [
              0.8888888888888888,
              "#fdca26"
             ],
             [
              1,
              "#f0f921"
             ]
            ],
            "type": "heatmap"
           }
          ],
          "heatmapgl": [
           {
            "colorbar": {
             "outlinewidth": 0,
             "ticks": ""
            },
            "colorscale": [
             [
              0,
              "#0d0887"
             ],
             [
              0.1111111111111111,
              "#46039f"
             ],
             [
              0.2222222222222222,
              "#7201a8"
             ],
             [
              0.3333333333333333,
              "#9c179e"
             ],
             [
              0.4444444444444444,
              "#bd3786"
             ],
             [
              0.5555555555555556,
              "#d8576b"
             ],
             [
              0.6666666666666666,
              "#ed7953"
             ],
             [
              0.7777777777777778,
              "#fb9f3a"
             ],
             [
              0.8888888888888888,
              "#fdca26"
             ],
             [
              1,
              "#f0f921"
             ]
            ],
            "type": "heatmapgl"
           }
          ],
          "histogram": [
           {
            "marker": {
             "pattern": {
              "fillmode": "overlay",
              "size": 10,
              "solidity": 0.2
             }
            },
            "type": "histogram"
           }
          ],
          "histogram2d": [
           {
            "colorbar": {
             "outlinewidth": 0,
             "ticks": ""
            },
            "colorscale": [
             [
              0,
              "#0d0887"
             ],
             [
              0.1111111111111111,
              "#46039f"
             ],
             [
              0.2222222222222222,
              "#7201a8"
             ],
             [
              0.3333333333333333,
              "#9c179e"
             ],
             [
              0.4444444444444444,
              "#bd3786"
             ],
             [
              0.5555555555555556,
              "#d8576b"
             ],
             [
              0.6666666666666666,
              "#ed7953"
             ],
             [
              0.7777777777777778,
              "#fb9f3a"
             ],
             [
              0.8888888888888888,
              "#fdca26"
             ],
             [
              1,
              "#f0f921"
             ]
            ],
            "type": "histogram2d"
           }
          ],
          "histogram2dcontour": [
           {
            "colorbar": {
             "outlinewidth": 0,
             "ticks": ""
            },
            "colorscale": [
             [
              0,
              "#0d0887"
             ],
             [
              0.1111111111111111,
              "#46039f"
             ],
             [
              0.2222222222222222,
              "#7201a8"
             ],
             [
              0.3333333333333333,
              "#9c179e"
             ],
             [
              0.4444444444444444,
              "#bd3786"
             ],
             [
              0.5555555555555556,
              "#d8576b"
             ],
             [
              0.6666666666666666,
              "#ed7953"
             ],
             [
              0.7777777777777778,
              "#fb9f3a"
             ],
             [
              0.8888888888888888,
              "#fdca26"
             ],
             [
              1,
              "#f0f921"
             ]
            ],
            "type": "histogram2dcontour"
           }
          ],
          "mesh3d": [
           {
            "colorbar": {
             "outlinewidth": 0,
             "ticks": ""
            },
            "type": "mesh3d"
           }
          ],
          "parcoords": [
           {
            "line": {
             "colorbar": {
              "outlinewidth": 0,
              "ticks": ""
             }
            },
            "type": "parcoords"
           }
          ],
          "pie": [
           {
            "automargin": true,
            "type": "pie"
           }
          ],
          "scatter": [
           {
            "fillpattern": {
             "fillmode": "overlay",
             "size": 10,
             "solidity": 0.2
            },
            "type": "scatter"
           }
          ],
          "scatter3d": [
           {
            "line": {
             "colorbar": {
              "outlinewidth": 0,
              "ticks": ""
             }
            },
            "marker": {
             "colorbar": {
              "outlinewidth": 0,
              "ticks": ""
             }
            },
            "type": "scatter3d"
           }
          ],
          "scattercarpet": [
           {
            "marker": {
             "colorbar": {
              "outlinewidth": 0,
              "ticks": ""
             }
            },
            "type": "scattercarpet"
           }
          ],
          "scattergeo": [
           {
            "marker": {
             "colorbar": {
              "outlinewidth": 0,
              "ticks": ""
             }
            },
            "type": "scattergeo"
           }
          ],
          "scattergl": [
           {
            "marker": {
             "colorbar": {
              "outlinewidth": 0,
              "ticks": ""
             }
            },
            "type": "scattergl"
           }
          ],
          "scattermapbox": [
           {
            "marker": {
             "colorbar": {
              "outlinewidth": 0,
              "ticks": ""
             }
            },
            "type": "scattermapbox"
           }
          ],
          "scatterpolar": [
           {
            "marker": {
             "colorbar": {
              "outlinewidth": 0,
              "ticks": ""
             }
            },
            "type": "scatterpolar"
           }
          ],
          "scatterpolargl": [
           {
            "marker": {
             "colorbar": {
              "outlinewidth": 0,
              "ticks": ""
             }
            },
            "type": "scatterpolargl"
           }
          ],
          "scatterternary": [
           {
            "marker": {
             "colorbar": {
              "outlinewidth": 0,
              "ticks": ""
             }
            },
            "type": "scatterternary"
           }
          ],
          "surface": [
           {
            "colorbar": {
             "outlinewidth": 0,
             "ticks": ""
            },
            "colorscale": [
             [
              0,
              "#0d0887"
             ],
             [
              0.1111111111111111,
              "#46039f"
             ],
             [
              0.2222222222222222,
              "#7201a8"
             ],
             [
              0.3333333333333333,
              "#9c179e"
             ],
             [
              0.4444444444444444,
              "#bd3786"
             ],
             [
              0.5555555555555556,
              "#d8576b"
             ],
             [
              0.6666666666666666,
              "#ed7953"
             ],
             [
              0.7777777777777778,
              "#fb9f3a"
             ],
             [
              0.8888888888888888,
              "#fdca26"
             ],
             [
              1,
              "#f0f921"
             ]
            ],
            "type": "surface"
           }
          ],
          "table": [
           {
            "cells": {
             "fill": {
              "color": "#EBF0F8"
             },
             "line": {
              "color": "white"
             }
            },
            "header": {
             "fill": {
              "color": "#C8D4E3"
             },
             "line": {
              "color": "white"
             }
            },
            "type": "table"
           }
          ]
         },
         "layout": {
          "annotationdefaults": {
           "arrowcolor": "#2a3f5f",
           "arrowhead": 0,
           "arrowwidth": 1
          },
          "autotypenumbers": "strict",
          "coloraxis": {
           "colorbar": {
            "outlinewidth": 0,
            "ticks": ""
           }
          },
          "colorscale": {
           "diverging": [
            [
             0,
             "#8e0152"
            ],
            [
             0.1,
             "#c51b7d"
            ],
            [
             0.2,
             "#de77ae"
            ],
            [
             0.3,
             "#f1b6da"
            ],
            [
             0.4,
             "#fde0ef"
            ],
            [
             0.5,
             "#f7f7f7"
            ],
            [
             0.6,
             "#e6f5d0"
            ],
            [
             0.7,
             "#b8e186"
            ],
            [
             0.8,
             "#7fbc41"
            ],
            [
             0.9,
             "#4d9221"
            ],
            [
             1,
             "#276419"
            ]
           ],
           "sequential": [
            [
             0,
             "#0d0887"
            ],
            [
             0.1111111111111111,
             "#46039f"
            ],
            [
             0.2222222222222222,
             "#7201a8"
            ],
            [
             0.3333333333333333,
             "#9c179e"
            ],
            [
             0.4444444444444444,
             "#bd3786"
            ],
            [
             0.5555555555555556,
             "#d8576b"
            ],
            [
             0.6666666666666666,
             "#ed7953"
            ],
            [
             0.7777777777777778,
             "#fb9f3a"
            ],
            [
             0.8888888888888888,
             "#fdca26"
            ],
            [
             1,
             "#f0f921"
            ]
           ],
           "sequentialminus": [
            [
             0,
             "#0d0887"
            ],
            [
             0.1111111111111111,
             "#46039f"
            ],
            [
             0.2222222222222222,
             "#7201a8"
            ],
            [
             0.3333333333333333,
             "#9c179e"
            ],
            [
             0.4444444444444444,
             "#bd3786"
            ],
            [
             0.5555555555555556,
             "#d8576b"
            ],
            [
             0.6666666666666666,
             "#ed7953"
            ],
            [
             0.7777777777777778,
             "#fb9f3a"
            ],
            [
             0.8888888888888888,
             "#fdca26"
            ],
            [
             1,
             "#f0f921"
            ]
           ]
          },
          "colorway": [
           "#636efa",
           "#EF553B",
           "#00cc96",
           "#ab63fa",
           "#FFA15A",
           "#19d3f3",
           "#FF6692",
           "#B6E880",
           "#FF97FF",
           "#FECB52"
          ],
          "font": {
           "color": "#2a3f5f"
          },
          "geo": {
           "bgcolor": "white",
           "lakecolor": "white",
           "landcolor": "#E5ECF6",
           "showlakes": true,
           "showland": true,
           "subunitcolor": "white"
          },
          "hoverlabel": {
           "align": "left"
          },
          "hovermode": "closest",
          "mapbox": {
           "style": "light"
          },
          "paper_bgcolor": "white",
          "plot_bgcolor": "#E5ECF6",
          "polar": {
           "angularaxis": {
            "gridcolor": "white",
            "linecolor": "white",
            "ticks": ""
           },
           "bgcolor": "#E5ECF6",
           "radialaxis": {
            "gridcolor": "white",
            "linecolor": "white",
            "ticks": ""
           }
          },
          "scene": {
           "xaxis": {
            "backgroundcolor": "#E5ECF6",
            "gridcolor": "white",
            "gridwidth": 2,
            "linecolor": "white",
            "showbackground": true,
            "ticks": "",
            "zerolinecolor": "white"
           },
           "yaxis": {
            "backgroundcolor": "#E5ECF6",
            "gridcolor": "white",
            "gridwidth": 2,
            "linecolor": "white",
            "showbackground": true,
            "ticks": "",
            "zerolinecolor": "white"
           },
           "zaxis": {
            "backgroundcolor": "#E5ECF6",
            "gridcolor": "white",
            "gridwidth": 2,
            "linecolor": "white",
            "showbackground": true,
            "ticks": "",
            "zerolinecolor": "white"
           }
          },
          "shapedefaults": {
           "line": {
            "color": "#2a3f5f"
           }
          },
          "ternary": {
           "aaxis": {
            "gridcolor": "white",
            "linecolor": "white",
            "ticks": ""
           },
           "baxis": {
            "gridcolor": "white",
            "linecolor": "white",
            "ticks": ""
           },
           "bgcolor": "#E5ECF6",
           "caxis": {
            "gridcolor": "white",
            "linecolor": "white",
            "ticks": ""
           }
          },
          "title": {
           "x": 0.05
          },
          "xaxis": {
           "automargin": true,
           "gridcolor": "white",
           "linecolor": "white",
           "ticks": "",
           "title": {
            "standoff": 15
           },
           "zerolinecolor": "white",
           "zerolinewidth": 2
          },
          "yaxis": {
           "automargin": true,
           "gridcolor": "white",
           "linecolor": "white",
           "ticks": "",
           "title": {
            "standoff": 15
           },
           "zerolinecolor": "white",
           "zerolinewidth": 2
          }
         }
        }
       }
      }
     },
     "metadata": {},
     "output_type": "display_data"
    }
   ],
   "source": [
    "import plotly.express as px\n",
    "\n",
    "fig = px.pie(data_frame=trackDf, values=\"cases\", labels=\"label\")\n",
    "fig.show()"
   ]
  },
  {
   "cell_type": "code",
   "execution_count": 32,
   "metadata": {},
   "outputs": [
    {
     "data": {
      "text/html": [
       "<div>\n",
       "<style scoped>\n",
       "    .dataframe tbody tr th:only-of-type {\n",
       "        vertical-align: middle;\n",
       "    }\n",
       "\n",
       "    .dataframe tbody tr th {\n",
       "        vertical-align: top;\n",
       "    }\n",
       "\n",
       "    .dataframe thead th {\n",
       "        text-align: right;\n",
       "    }\n",
       "</style>\n",
       "<table border=\"1\" class=\"dataframe\">\n",
       "  <thead>\n",
       "    <tr style=\"text-align: right;\">\n",
       "      <th></th>\n",
       "      <th>CaseID</th>\n",
       "      <th>iDOCID</th>\n",
       "      <th>StdDocDesc</th>\n",
       "    </tr>\n",
       "  </thead>\n",
       "  <tbody>\n",
       "    <tr>\n",
       "      <th>0</th>\n",
       "      <td>10375210</td>\n",
       "      <td>456204471.0</td>\n",
       "      <td>Front View</td>\n",
       "    </tr>\n",
       "    <tr>\n",
       "      <th>1</th>\n",
       "      <td>10839776</td>\n",
       "      <td>479277541.0</td>\n",
       "      <td>Front View</td>\n",
       "    </tr>\n",
       "    <tr>\n",
       "      <th>2</th>\n",
       "      <td>10595863</td>\n",
       "      <td>518945875.0</td>\n",
       "      <td>Front View</td>\n",
       "    </tr>\n",
       "    <tr>\n",
       "      <th>3</th>\n",
       "      <td>10324518</td>\n",
       "      <td>453575575.0</td>\n",
       "      <td>Front View</td>\n",
       "    </tr>\n",
       "    <tr>\n",
       "      <th>4</th>\n",
       "      <td>10810372</td>\n",
       "      <td>477799896.0</td>\n",
       "      <td>Front View</td>\n",
       "    </tr>\n",
       "    <tr>\n",
       "      <th>...</th>\n",
       "      <td>...</td>\n",
       "      <td>...</td>\n",
       "      <td>...</td>\n",
       "    </tr>\n",
       "    <tr>\n",
       "      <th>2997463</th>\n",
       "      <td>12981985</td>\n",
       "      <td>651301700.0</td>\n",
       "      <td>Rear View Right</td>\n",
       "    </tr>\n",
       "    <tr>\n",
       "      <th>2997464</th>\n",
       "      <td>13548901</td>\n",
       "      <td>651304978.0</td>\n",
       "      <td>Rear View Right</td>\n",
       "    </tr>\n",
       "    <tr>\n",
       "      <th>2997465</th>\n",
       "      <td>13313567</td>\n",
       "      <td>652815210.0</td>\n",
       "      <td>Rear View Right</td>\n",
       "    </tr>\n",
       "    <tr>\n",
       "      <th>2997466</th>\n",
       "      <td>13551639</td>\n",
       "      <td>654542221.0</td>\n",
       "      <td>Rear View Right</td>\n",
       "    </tr>\n",
       "    <tr>\n",
       "      <th>2997467</th>\n",
       "      <td>13401137</td>\n",
       "      <td>655504422.0</td>\n",
       "      <td>Rear View Right</td>\n",
       "    </tr>\n",
       "  </tbody>\n",
       "</table>\n",
       "<p>2997468 rows × 3 columns</p>\n",
       "</div>"
      ],
      "text/plain": [
       "           CaseID       iDOCID       StdDocDesc\n",
       "0        10375210  456204471.0       Front View\n",
       "1        10839776  479277541.0       Front View\n",
       "2        10595863  518945875.0       Front View\n",
       "3        10324518  453575575.0       Front View\n",
       "4        10810372  477799896.0       Front View\n",
       "...           ...          ...              ...\n",
       "2997463  12981985  651301700.0  Rear View Right\n",
       "2997464  13548901  651304978.0  Rear View Right\n",
       "2997465  13313567  652815210.0  Rear View Right\n",
       "2997466  13551639  654542221.0  Rear View Right\n",
       "2997467  13401137  655504422.0  Rear View Right\n",
       "\n",
       "[2997468 rows x 3 columns]"
      ]
     },
     "execution_count": 32,
     "metadata": {},
     "output_type": "execute_result"
    }
   ],
   "source": [
    "bucket3 = \"scope_file\"\n",
    "targetCols = [\"CaseID\", \"iDOCID\"]\n",
    "filesDf = wr.s3.read_parquet(f\"s3://{bucket3}/\" ,dataset=True, columns=targetCols)\n",
    "filesDf"
   ]
  },
  {
   "cell_type": "code",
   "execution_count": 33,
   "metadata": {},
   "outputs": [
    {
     "data": {
      "text/html": [
       "<div>\n",
       "<style scoped>\n",
       "    .dataframe tbody tr th:only-of-type {\n",
       "        vertical-align: middle;\n",
       "    }\n",
       "\n",
       "    .dataframe tbody tr th {\n",
       "        vertical-align: top;\n",
       "    }\n",
       "\n",
       "    .dataframe thead th {\n",
       "        text-align: right;\n",
       "    }\n",
       "</style>\n",
       "<table border=\"1\" class=\"dataframe\">\n",
       "  <thead>\n",
       "    <tr style=\"text-align: right;\">\n",
       "      <th></th>\n",
       "      <th>CaseID</th>\n",
       "      <th>iDOCID</th>\n",
       "      <th>StdDocDesc</th>\n",
       "    </tr>\n",
       "  </thead>\n",
       "  <tbody>\n",
       "    <tr>\n",
       "      <th>26</th>\n",
       "      <td>10001668</td>\n",
       "      <td>437375090.0</td>\n",
       "      <td>Front View</td>\n",
       "    </tr>\n",
       "    <tr>\n",
       "      <th>92</th>\n",
       "      <td>10002757</td>\n",
       "      <td>437468727.0</td>\n",
       "      <td>Front View</td>\n",
       "    </tr>\n",
       "    <tr>\n",
       "      <th>128</th>\n",
       "      <td>10004377</td>\n",
       "      <td>437506049.0</td>\n",
       "      <td>Front View</td>\n",
       "    </tr>\n",
       "    <tr>\n",
       "      <th>131</th>\n",
       "      <td>10004317</td>\n",
       "      <td>437508407.0</td>\n",
       "      <td>Front View</td>\n",
       "    </tr>\n",
       "    <tr>\n",
       "      <th>219</th>\n",
       "      <td>10006100</td>\n",
       "      <td>437605556.0</td>\n",
       "      <td>Front View</td>\n",
       "    </tr>\n",
       "    <tr>\n",
       "      <th>...</th>\n",
       "      <td>...</td>\n",
       "      <td>...</td>\n",
       "      <td>...</td>\n",
       "    </tr>\n",
       "    <tr>\n",
       "      <th>2997261</th>\n",
       "      <td>13532795</td>\n",
       "      <td>627137277.0</td>\n",
       "      <td>Rear View Right</td>\n",
       "    </tr>\n",
       "    <tr>\n",
       "      <th>2997263</th>\n",
       "      <td>13549423</td>\n",
       "      <td>627156658.0</td>\n",
       "      <td>Rear View Right</td>\n",
       "    </tr>\n",
       "    <tr>\n",
       "      <th>2997319</th>\n",
       "      <td>13165756</td>\n",
       "      <td>629543810.0</td>\n",
       "      <td>Rear View Right</td>\n",
       "    </tr>\n",
       "    <tr>\n",
       "      <th>2997327</th>\n",
       "      <td>13396834</td>\n",
       "      <td>630249507.0</td>\n",
       "      <td>Rear View Right</td>\n",
       "    </tr>\n",
       "    <tr>\n",
       "      <th>2997448</th>\n",
       "      <td>13367788</td>\n",
       "      <td>645189473.0</td>\n",
       "      <td>Rear View Right</td>\n",
       "    </tr>\n",
       "  </tbody>\n",
       "</table>\n",
       "<p>76714 rows × 3 columns</p>\n",
       "</div>"
      ],
      "text/plain": [
       "           CaseID       iDOCID       StdDocDesc\n",
       "26       10001668  437375090.0       Front View\n",
       "92       10002757  437468727.0       Front View\n",
       "128      10004377  437506049.0       Front View\n",
       "131      10004317  437508407.0       Front View\n",
       "219      10006100  437605556.0       Front View\n",
       "...           ...          ...              ...\n",
       "2997261  13532795  627137277.0  Rear View Right\n",
       "2997263  13549423  627156658.0  Rear View Right\n",
       "2997319  13165756  629543810.0  Rear View Right\n",
       "2997327  13396834  630249507.0  Rear View Right\n",
       "2997448  13367788  645189473.0  Rear View Right\n",
       "\n",
       "[76714 rows x 3 columns]"
      ]
     },
     "execution_count": 33,
     "metadata": {},
     "output_type": "execute_result"
    }
   ],
   "source": [
    "filesDf = filesDf[filesDf[\"CaseID\"].isin(availableImgsCase)]\n",
    "filesDf"
   ]
  },
  {
   "cell_type": "code",
   "execution_count": 34,
   "metadata": {},
   "outputs": [
    {
     "name": "stderr",
     "output_type": "stream",
     "text": [
      "/tmp/ipykernel_1114265/3044125367.py:1: SettingWithCopyWarning:\n",
      "\n",
      "\n",
      "A value is trying to be set on a copy of a slice from a DataFrame.\n",
      "Try using .loc[row_indexer,col_indexer] = value instead\n",
      "\n",
      "See the caveats in the documentation: https://pandas.pydata.org/pandas-docs/stable/user_guide/indexing.html#returning-a-view-versus-a-copy\n",
      "\n"
     ]
    },
    {
     "data": {
      "text/plain": [
       "26         10001668_437375090.JPG\n",
       "92         10002757_437468727.JPG\n",
       "128        10004377_437506049.JPG\n",
       "131        10004317_437508407.JPG\n",
       "219        10006100_437605556.JPG\n",
       "                    ...          \n",
       "2997261    13532795_627137277.JPG\n",
       "2997263    13549423_627156658.JPG\n",
       "2997319    13165756_629543810.JPG\n",
       "2997327    13396834_630249507.JPG\n",
       "2997448    13367788_645189473.JPG\n",
       "Name: filename, Length: 76714, dtype: object"
      ]
     },
     "execution_count": 34,
     "metadata": {},
     "output_type": "execute_result"
    }
   ],
   "source": [
    "filesDf[\"filename\"] = filesDf[['CaseID', \"iDOCID\"]].apply(lambda x : str(int(x[\"CaseID\"])) + \"_\" + str(int(x[\"iDOCID\"])) + \".JPG\", axis=1)\n",
    "filesDf[\"filename\"]"
   ]
  },
  {
   "cell_type": "code",
   "execution_count": 35,
   "metadata": {},
   "outputs": [
    {
     "name": "stderr",
     "output_type": "stream",
     "text": [
      "/tmp/ipykernel_1114265/3678596583.py:2: SettingWithCopyWarning:\n",
      "\n",
      "\n",
      "A value is trying to be set on a copy of a slice from a DataFrame.\n",
      "Try using .loc[row_indexer,col_indexer] = value instead\n",
      "\n",
      "See the caveats in the documentation: https://pandas.pydata.org/pandas-docs/stable/user_guide/indexing.html#returning-a-view-versus-a-copy\n",
      "\n"
     ]
    }
   ],
   "source": [
    "endpoint = \"http://192.168.1.7:8888/buckets/raw_imgs/\"\n",
    "filesDf[\"url\"] = endpoint + filesDf[\"filename\"]"
   ]
  },
  {
   "cell_type": "code",
   "execution_count": 36,
   "metadata": {},
   "outputs": [],
   "source": [
    "numCaseToDownload = 20000\n"
   ]
  },
  {
   "cell_type": "code",
   "execution_count": 37,
   "metadata": {},
   "outputs": [],
   "source": [
    "len(filesDf['CaseID'].unique())\n",
    "targetCaseId = filesDf['CaseID'].unique().tolist()\n",
    "random.shuffle(targetCaseId)\n",
    "targetCaseId = targetCaseId[:numCaseToDownload]\n",
    "downloadFileDf = filesDf[filesDf[\"CaseID\"].isin(targetCaseId)]"
   ]
  },
  {
   "cell_type": "code",
   "execution_count": 38,
   "metadata": {},
   "outputs": [
    {
     "name": "stdout",
     "output_type": "stream",
     "text": [
      "14686\n"
     ]
    }
   ],
   "source": [
    "print(len(targetCaseId))"
   ]
  },
  {
   "cell_type": "code",
   "execution_count": 39,
   "metadata": {},
   "outputs": [],
   "source": [
    "sinkDir = \"/home/alextay96/Desktop/new_workspace/DLDataPipeline/data/imgs\"\n",
    "localFiles = os.listdir(sinkDir)\n",
    "downloadFileDf = downloadFileDf[~downloadFileDf[\"filename\"].isin(localFiles)]\n"
   ]
  },
  {
   "cell_type": "code",
   "execution_count": 40,
   "metadata": {},
   "outputs": [
    {
     "name": "stderr",
     "output_type": "stream",
     "text": [
      "4295it [02:10, 32.96it/s]\n"
     ]
    },
    {
     "ename": "KeyboardInterrupt",
     "evalue": "",
     "output_type": "error",
     "traceback": [
      "\u001b[0;31m---------------------------------------------------------------------------\u001b[0m",
      "\u001b[0;31mKeyboardInterrupt\u001b[0m                         Traceback (most recent call last)",
      "Cell \u001b[0;32mIn [40], line 6\u001b[0m\n\u001b[1;32m      4\u001b[0m \u001b[39mfor\u001b[39;00m _, i \u001b[39min\u001b[39;00m tqdm(downloadFileDf\u001b[39m.\u001b[39miterrows()):\n\u001b[1;32m      5\u001b[0m     url \u001b[39m=\u001b[39m i[\u001b[39m\"\u001b[39m\u001b[39murl\u001b[39m\u001b[39m\"\u001b[39m]\n\u001b[0;32m----> 6\u001b[0m     imgBytes \u001b[39m=\u001b[39m s\u001b[39m.\u001b[39;49mget(url)\n\u001b[1;32m      7\u001b[0m     localPath \u001b[39m=\u001b[39m os\u001b[39m.\u001b[39mpath\u001b[39m.\u001b[39mjoin(sinkDir, i[\u001b[39m\"\u001b[39m\u001b[39mfilename\u001b[39m\u001b[39m\"\u001b[39m])\n\u001b[1;32m      8\u001b[0m     \u001b[39mwith\u001b[39;00m \u001b[39mopen\u001b[39m(localPath, \u001b[39m\"\u001b[39m\u001b[39mwb\u001b[39m\u001b[39m\"\u001b[39m) \u001b[39mas\u001b[39;00m f:\n",
      "File \u001b[0;32m~/anaconda3/envs/work/lib/python3.10/site-packages/requests/sessions.py:600\u001b[0m, in \u001b[0;36mSession.get\u001b[0;34m(self, url, **kwargs)\u001b[0m\n\u001b[1;32m    592\u001b[0m \u001b[39mr\u001b[39m\u001b[39m\"\"\"Sends a GET request. Returns :class:`Response` object.\u001b[39;00m\n\u001b[1;32m    593\u001b[0m \n\u001b[1;32m    594\u001b[0m \u001b[39m:param url: URL for the new :class:`Request` object.\u001b[39;00m\n\u001b[1;32m    595\u001b[0m \u001b[39m:param \\*\\*kwargs: Optional arguments that ``request`` takes.\u001b[39;00m\n\u001b[1;32m    596\u001b[0m \u001b[39m:rtype: requests.Response\u001b[39;00m\n\u001b[1;32m    597\u001b[0m \u001b[39m\"\"\"\u001b[39;00m\n\u001b[1;32m    599\u001b[0m kwargs\u001b[39m.\u001b[39msetdefault(\u001b[39m\"\u001b[39m\u001b[39mallow_redirects\u001b[39m\u001b[39m\"\u001b[39m, \u001b[39mTrue\u001b[39;00m)\n\u001b[0;32m--> 600\u001b[0m \u001b[39mreturn\u001b[39;00m \u001b[39mself\u001b[39;49m\u001b[39m.\u001b[39;49mrequest(\u001b[39m\"\u001b[39;49m\u001b[39mGET\u001b[39;49m\u001b[39m\"\u001b[39;49m, url, \u001b[39m*\u001b[39;49m\u001b[39m*\u001b[39;49mkwargs)\n",
      "File \u001b[0;32m~/anaconda3/envs/work/lib/python3.10/site-packages/requests/sessions.py:587\u001b[0m, in \u001b[0;36mSession.request\u001b[0;34m(self, method, url, params, data, headers, cookies, files, auth, timeout, allow_redirects, proxies, hooks, stream, verify, cert, json)\u001b[0m\n\u001b[1;32m    582\u001b[0m send_kwargs \u001b[39m=\u001b[39m {\n\u001b[1;32m    583\u001b[0m     \u001b[39m\"\u001b[39m\u001b[39mtimeout\u001b[39m\u001b[39m\"\u001b[39m: timeout,\n\u001b[1;32m    584\u001b[0m     \u001b[39m\"\u001b[39m\u001b[39mallow_redirects\u001b[39m\u001b[39m\"\u001b[39m: allow_redirects,\n\u001b[1;32m    585\u001b[0m }\n\u001b[1;32m    586\u001b[0m send_kwargs\u001b[39m.\u001b[39mupdate(settings)\n\u001b[0;32m--> 587\u001b[0m resp \u001b[39m=\u001b[39m \u001b[39mself\u001b[39;49m\u001b[39m.\u001b[39;49msend(prep, \u001b[39m*\u001b[39;49m\u001b[39m*\u001b[39;49msend_kwargs)\n\u001b[1;32m    589\u001b[0m \u001b[39mreturn\u001b[39;00m resp\n",
      "File \u001b[0;32m~/anaconda3/envs/work/lib/python3.10/site-packages/requests/sessions.py:701\u001b[0m, in \u001b[0;36mSession.send\u001b[0;34m(self, request, **kwargs)\u001b[0m\n\u001b[1;32m    698\u001b[0m start \u001b[39m=\u001b[39m preferred_clock()\n\u001b[1;32m    700\u001b[0m \u001b[39m# Send the request\u001b[39;00m\n\u001b[0;32m--> 701\u001b[0m r \u001b[39m=\u001b[39m adapter\u001b[39m.\u001b[39;49msend(request, \u001b[39m*\u001b[39;49m\u001b[39m*\u001b[39;49mkwargs)\n\u001b[1;32m    703\u001b[0m \u001b[39m# Total elapsed time of the request (approximately)\u001b[39;00m\n\u001b[1;32m    704\u001b[0m elapsed \u001b[39m=\u001b[39m preferred_clock() \u001b[39m-\u001b[39m start\n",
      "File \u001b[0;32m~/anaconda3/envs/work/lib/python3.10/site-packages/requests/adapters.py:489\u001b[0m, in \u001b[0;36mHTTPAdapter.send\u001b[0;34m(self, request, stream, timeout, verify, cert, proxies)\u001b[0m\n\u001b[1;32m    487\u001b[0m \u001b[39mtry\u001b[39;00m:\n\u001b[1;32m    488\u001b[0m     \u001b[39mif\u001b[39;00m \u001b[39mnot\u001b[39;00m chunked:\n\u001b[0;32m--> 489\u001b[0m         resp \u001b[39m=\u001b[39m conn\u001b[39m.\u001b[39;49murlopen(\n\u001b[1;32m    490\u001b[0m             method\u001b[39m=\u001b[39;49mrequest\u001b[39m.\u001b[39;49mmethod,\n\u001b[1;32m    491\u001b[0m             url\u001b[39m=\u001b[39;49murl,\n\u001b[1;32m    492\u001b[0m             body\u001b[39m=\u001b[39;49mrequest\u001b[39m.\u001b[39;49mbody,\n\u001b[1;32m    493\u001b[0m             headers\u001b[39m=\u001b[39;49mrequest\u001b[39m.\u001b[39;49mheaders,\n\u001b[1;32m    494\u001b[0m             redirect\u001b[39m=\u001b[39;49m\u001b[39mFalse\u001b[39;49;00m,\n\u001b[1;32m    495\u001b[0m             assert_same_host\u001b[39m=\u001b[39;49m\u001b[39mFalse\u001b[39;49;00m,\n\u001b[1;32m    496\u001b[0m             preload_content\u001b[39m=\u001b[39;49m\u001b[39mFalse\u001b[39;49;00m,\n\u001b[1;32m    497\u001b[0m             decode_content\u001b[39m=\u001b[39;49m\u001b[39mFalse\u001b[39;49;00m,\n\u001b[1;32m    498\u001b[0m             retries\u001b[39m=\u001b[39;49m\u001b[39mself\u001b[39;49m\u001b[39m.\u001b[39;49mmax_retries,\n\u001b[1;32m    499\u001b[0m             timeout\u001b[39m=\u001b[39;49mtimeout,\n\u001b[1;32m    500\u001b[0m         )\n\u001b[1;32m    502\u001b[0m     \u001b[39m# Send the request.\u001b[39;00m\n\u001b[1;32m    503\u001b[0m     \u001b[39melse\u001b[39;00m:\n\u001b[1;32m    504\u001b[0m         \u001b[39mif\u001b[39;00m \u001b[39mhasattr\u001b[39m(conn, \u001b[39m\"\u001b[39m\u001b[39mproxy_pool\u001b[39m\u001b[39m\"\u001b[39m):\n",
      "File \u001b[0;32m~/anaconda3/envs/work/lib/python3.10/site-packages/urllib3/connectionpool.py:703\u001b[0m, in \u001b[0;36mHTTPConnectionPool.urlopen\u001b[0;34m(self, method, url, body, headers, retries, redirect, assert_same_host, timeout, pool_timeout, release_conn, chunked, body_pos, **response_kw)\u001b[0m\n\u001b[1;32m    700\u001b[0m     \u001b[39mself\u001b[39m\u001b[39m.\u001b[39m_prepare_proxy(conn)\n\u001b[1;32m    702\u001b[0m \u001b[39m# Make the request on the httplib connection object.\u001b[39;00m\n\u001b[0;32m--> 703\u001b[0m httplib_response \u001b[39m=\u001b[39m \u001b[39mself\u001b[39;49m\u001b[39m.\u001b[39;49m_make_request(\n\u001b[1;32m    704\u001b[0m     conn,\n\u001b[1;32m    705\u001b[0m     method,\n\u001b[1;32m    706\u001b[0m     url,\n\u001b[1;32m    707\u001b[0m     timeout\u001b[39m=\u001b[39;49mtimeout_obj,\n\u001b[1;32m    708\u001b[0m     body\u001b[39m=\u001b[39;49mbody,\n\u001b[1;32m    709\u001b[0m     headers\u001b[39m=\u001b[39;49mheaders,\n\u001b[1;32m    710\u001b[0m     chunked\u001b[39m=\u001b[39;49mchunked,\n\u001b[1;32m    711\u001b[0m )\n\u001b[1;32m    713\u001b[0m \u001b[39m# If we're going to release the connection in ``finally:``, then\u001b[39;00m\n\u001b[1;32m    714\u001b[0m \u001b[39m# the response doesn't need to know about the connection. Otherwise\u001b[39;00m\n\u001b[1;32m    715\u001b[0m \u001b[39m# it will also try to release it and we'll have a double-release\u001b[39;00m\n\u001b[1;32m    716\u001b[0m \u001b[39m# mess.\u001b[39;00m\n\u001b[1;32m    717\u001b[0m response_conn \u001b[39m=\u001b[39m conn \u001b[39mif\u001b[39;00m \u001b[39mnot\u001b[39;00m release_conn \u001b[39melse\u001b[39;00m \u001b[39mNone\u001b[39;00m\n",
      "File \u001b[0;32m~/anaconda3/envs/work/lib/python3.10/site-packages/urllib3/connectionpool.py:449\u001b[0m, in \u001b[0;36mHTTPConnectionPool._make_request\u001b[0;34m(self, conn, method, url, timeout, chunked, **httplib_request_kw)\u001b[0m\n\u001b[1;32m    444\u001b[0m             httplib_response \u001b[39m=\u001b[39m conn\u001b[39m.\u001b[39mgetresponse()\n\u001b[1;32m    445\u001b[0m         \u001b[39mexcept\u001b[39;00m \u001b[39mBaseException\u001b[39;00m \u001b[39mas\u001b[39;00m e:\n\u001b[1;32m    446\u001b[0m             \u001b[39m# Remove the TypeError from the exception chain in\u001b[39;00m\n\u001b[1;32m    447\u001b[0m             \u001b[39m# Python 3 (including for exceptions like SystemExit).\u001b[39;00m\n\u001b[1;32m    448\u001b[0m             \u001b[39m# Otherwise it looks like a bug in the code.\u001b[39;00m\n\u001b[0;32m--> 449\u001b[0m             six\u001b[39m.\u001b[39;49mraise_from(e, \u001b[39mNone\u001b[39;49;00m)\n\u001b[1;32m    450\u001b[0m \u001b[39mexcept\u001b[39;00m (SocketTimeout, BaseSSLError, SocketError) \u001b[39mas\u001b[39;00m e:\n\u001b[1;32m    451\u001b[0m     \u001b[39mself\u001b[39m\u001b[39m.\u001b[39m_raise_timeout(err\u001b[39m=\u001b[39me, url\u001b[39m=\u001b[39murl, timeout_value\u001b[39m=\u001b[39mread_timeout)\n",
      "File \u001b[0;32m<string>:3\u001b[0m, in \u001b[0;36mraise_from\u001b[0;34m(value, from_value)\u001b[0m\n",
      "File \u001b[0;32m~/anaconda3/envs/work/lib/python3.10/site-packages/urllib3/connectionpool.py:444\u001b[0m, in \u001b[0;36mHTTPConnectionPool._make_request\u001b[0;34m(self, conn, method, url, timeout, chunked, **httplib_request_kw)\u001b[0m\n\u001b[1;32m    441\u001b[0m \u001b[39mexcept\u001b[39;00m \u001b[39mTypeError\u001b[39;00m:\n\u001b[1;32m    442\u001b[0m     \u001b[39m# Python 3\u001b[39;00m\n\u001b[1;32m    443\u001b[0m     \u001b[39mtry\u001b[39;00m:\n\u001b[0;32m--> 444\u001b[0m         httplib_response \u001b[39m=\u001b[39m conn\u001b[39m.\u001b[39;49mgetresponse()\n\u001b[1;32m    445\u001b[0m     \u001b[39mexcept\u001b[39;00m \u001b[39mBaseException\u001b[39;00m \u001b[39mas\u001b[39;00m e:\n\u001b[1;32m    446\u001b[0m         \u001b[39m# Remove the TypeError from the exception chain in\u001b[39;00m\n\u001b[1;32m    447\u001b[0m         \u001b[39m# Python 3 (including for exceptions like SystemExit).\u001b[39;00m\n\u001b[1;32m    448\u001b[0m         \u001b[39m# Otherwise it looks like a bug in the code.\u001b[39;00m\n\u001b[1;32m    449\u001b[0m         six\u001b[39m.\u001b[39mraise_from(e, \u001b[39mNone\u001b[39;00m)\n",
      "File \u001b[0;32m~/anaconda3/envs/work/lib/python3.10/http/client.py:1374\u001b[0m, in \u001b[0;36mHTTPConnection.getresponse\u001b[0;34m(self)\u001b[0m\n\u001b[1;32m   1372\u001b[0m \u001b[39mtry\u001b[39;00m:\n\u001b[1;32m   1373\u001b[0m     \u001b[39mtry\u001b[39;00m:\n\u001b[0;32m-> 1374\u001b[0m         response\u001b[39m.\u001b[39;49mbegin()\n\u001b[1;32m   1375\u001b[0m     \u001b[39mexcept\u001b[39;00m \u001b[39mConnectionError\u001b[39;00m:\n\u001b[1;32m   1376\u001b[0m         \u001b[39mself\u001b[39m\u001b[39m.\u001b[39mclose()\n",
      "File \u001b[0;32m~/anaconda3/envs/work/lib/python3.10/http/client.py:318\u001b[0m, in \u001b[0;36mHTTPResponse.begin\u001b[0;34m(self)\u001b[0m\n\u001b[1;32m    316\u001b[0m \u001b[39m# read until we get a non-100 response\u001b[39;00m\n\u001b[1;32m    317\u001b[0m \u001b[39mwhile\u001b[39;00m \u001b[39mTrue\u001b[39;00m:\n\u001b[0;32m--> 318\u001b[0m     version, status, reason \u001b[39m=\u001b[39m \u001b[39mself\u001b[39;49m\u001b[39m.\u001b[39;49m_read_status()\n\u001b[1;32m    319\u001b[0m     \u001b[39mif\u001b[39;00m status \u001b[39m!=\u001b[39m CONTINUE:\n\u001b[1;32m    320\u001b[0m         \u001b[39mbreak\u001b[39;00m\n",
      "File \u001b[0;32m~/anaconda3/envs/work/lib/python3.10/http/client.py:279\u001b[0m, in \u001b[0;36mHTTPResponse._read_status\u001b[0;34m(self)\u001b[0m\n\u001b[1;32m    278\u001b[0m \u001b[39mdef\u001b[39;00m \u001b[39m_read_status\u001b[39m(\u001b[39mself\u001b[39m):\n\u001b[0;32m--> 279\u001b[0m     line \u001b[39m=\u001b[39m \u001b[39mstr\u001b[39m(\u001b[39mself\u001b[39;49m\u001b[39m.\u001b[39;49mfp\u001b[39m.\u001b[39;49mreadline(_MAXLINE \u001b[39m+\u001b[39;49m \u001b[39m1\u001b[39;49m), \u001b[39m\"\u001b[39m\u001b[39miso-8859-1\u001b[39m\u001b[39m\"\u001b[39m)\n\u001b[1;32m    280\u001b[0m     \u001b[39mif\u001b[39;00m \u001b[39mlen\u001b[39m(line) \u001b[39m>\u001b[39m _MAXLINE:\n\u001b[1;32m    281\u001b[0m         \u001b[39mraise\u001b[39;00m LineTooLong(\u001b[39m\"\u001b[39m\u001b[39mstatus line\u001b[39m\u001b[39m\"\u001b[39m)\n",
      "File \u001b[0;32m~/anaconda3/envs/work/lib/python3.10/socket.py:705\u001b[0m, in \u001b[0;36mSocketIO.readinto\u001b[0;34m(self, b)\u001b[0m\n\u001b[1;32m    703\u001b[0m \u001b[39mwhile\u001b[39;00m \u001b[39mTrue\u001b[39;00m:\n\u001b[1;32m    704\u001b[0m     \u001b[39mtry\u001b[39;00m:\n\u001b[0;32m--> 705\u001b[0m         \u001b[39mreturn\u001b[39;00m \u001b[39mself\u001b[39;49m\u001b[39m.\u001b[39;49m_sock\u001b[39m.\u001b[39;49mrecv_into(b)\n\u001b[1;32m    706\u001b[0m     \u001b[39mexcept\u001b[39;00m timeout:\n\u001b[1;32m    707\u001b[0m         \u001b[39mself\u001b[39m\u001b[39m.\u001b[39m_timeout_occurred \u001b[39m=\u001b[39m \u001b[39mTrue\u001b[39;00m\n",
      "\u001b[0;31mKeyboardInterrupt\u001b[0m: "
     ]
    }
   ],
   "source": [
    "\n",
    "os.makedirs(sinkDir, exist_ok=True)\n",
    "s = requests.Session()\n",
    "\n",
    "for _, i in tqdm(downloadFileDf.iterrows()):\n",
    "    url = i[\"url\"]\n",
    "    imgBytes = s.get(url)\n",
    "    localPath = os.path.join(sinkDir, i[\"filename\"])\n",
    "    with open(localPath, \"wb\") as f:\n",
    "        f.write(imgBytes.content)\n",
    "    \n"
   ]
  },
  {
   "cell_type": "code",
   "execution_count": null,
   "metadata": {},
   "outputs": [
    {
     "data": {
      "text/html": [
       "<div>\n",
       "<style scoped>\n",
       "    .dataframe tbody tr th:only-of-type {\n",
       "        vertical-align: middle;\n",
       "    }\n",
       "\n",
       "    .dataframe tbody tr th {\n",
       "        vertical-align: top;\n",
       "    }\n",
       "\n",
       "    .dataframe thead th {\n",
       "        text-align: right;\n",
       "    }\n",
       "</style>\n",
       "<table border=\"1\" class=\"dataframe\">\n",
       "  <thead>\n",
       "    <tr style=\"text-align: right;\">\n",
       "      <th></th>\n",
       "      <th>CaseID</th>\n",
       "      <th>iDOCID</th>\n",
       "      <th>StdDocDesc</th>\n",
       "      <th>filename</th>\n",
       "      <th>url</th>\n",
       "    </tr>\n",
       "  </thead>\n",
       "  <tbody>\n",
       "    <tr>\n",
       "      <th>312</th>\n",
       "      <td>10006884</td>\n",
       "      <td>437683694.0</td>\n",
       "      <td>Front View</td>\n",
       "      <td>10006884_437683694.JPG</td>\n",
       "      <td>http://192.168.1.7:8888/buckets/raw_imgs/10006...</td>\n",
       "    </tr>\n",
       "    <tr>\n",
       "      <th>314</th>\n",
       "      <td>10007786</td>\n",
       "      <td>437684300.0</td>\n",
       "      <td>Front View</td>\n",
       "      <td>10007786_437684300.JPG</td>\n",
       "      <td>http://192.168.1.7:8888/buckets/raw_imgs/10007...</td>\n",
       "    </tr>\n",
       "    <tr>\n",
       "      <th>409</th>\n",
       "      <td>10009599</td>\n",
       "      <td>437787494.0</td>\n",
       "      <td>Front View</td>\n",
       "      <td>10009599_437787494.JPG</td>\n",
       "      <td>http://192.168.1.7:8888/buckets/raw_imgs/10009...</td>\n",
       "    </tr>\n",
       "    <tr>\n",
       "      <th>457</th>\n",
       "      <td>10010742</td>\n",
       "      <td>437831121.0</td>\n",
       "      <td>Front View</td>\n",
       "      <td>10010742_437831121.JPG</td>\n",
       "      <td>http://192.168.1.7:8888/buckets/raw_imgs/10010...</td>\n",
       "    </tr>\n",
       "    <tr>\n",
       "      <th>854</th>\n",
       "      <td>10008478</td>\n",
       "      <td>438159522.0</td>\n",
       "      <td>Front View</td>\n",
       "      <td>10008478_438159522.JPG</td>\n",
       "      <td>http://192.168.1.7:8888/buckets/raw_imgs/10008...</td>\n",
       "    </tr>\n",
       "    <tr>\n",
       "      <th>...</th>\n",
       "      <td>...</td>\n",
       "      <td>...</td>\n",
       "      <td>...</td>\n",
       "      <td>...</td>\n",
       "      <td>...</td>\n",
       "    </tr>\n",
       "    <tr>\n",
       "      <th>2997107</th>\n",
       "      <td>13514130</td>\n",
       "      <td>623705040.0</td>\n",
       "      <td>Rear View Right</td>\n",
       "      <td>13514130_623705040.JPG</td>\n",
       "      <td>http://192.168.1.7:8888/buckets/raw_imgs/13514...</td>\n",
       "    </tr>\n",
       "    <tr>\n",
       "      <th>2997133</th>\n",
       "      <td>13559885</td>\n",
       "      <td>624070256.0</td>\n",
       "      <td>Rear View Right</td>\n",
       "      <td>13559885_624070256.JPG</td>\n",
       "      <td>http://192.168.1.7:8888/buckets/raw_imgs/13559...</td>\n",
       "    </tr>\n",
       "    <tr>\n",
       "      <th>2997154</th>\n",
       "      <td>12702538</td>\n",
       "      <td>624386744.0</td>\n",
       "      <td>Rear View Right</td>\n",
       "      <td>12702538_624386744.JPG</td>\n",
       "      <td>http://192.168.1.7:8888/buckets/raw_imgs/12702...</td>\n",
       "    </tr>\n",
       "    <tr>\n",
       "      <th>2997184</th>\n",
       "      <td>13554985</td>\n",
       "      <td>624837551.0</td>\n",
       "      <td>Rear View Right</td>\n",
       "      <td>13554985_624837551.JPG</td>\n",
       "      <td>http://192.168.1.7:8888/buckets/raw_imgs/13554...</td>\n",
       "    </tr>\n",
       "    <tr>\n",
       "      <th>2997447</th>\n",
       "      <td>13444457</td>\n",
       "      <td>644455970.0</td>\n",
       "      <td>Rear View Right</td>\n",
       "      <td>13444457_644455970.JPG</td>\n",
       "      <td>http://192.168.1.7:8888/buckets/raw_imgs/13444...</td>\n",
       "    </tr>\n",
       "  </tbody>\n",
       "</table>\n",
       "<p>95326 rows × 5 columns</p>\n",
       "</div>"
      ],
      "text/plain": [
       "           CaseID       iDOCID       StdDocDesc                filename  \\\n",
       "312      10006884  437683694.0       Front View  10006884_437683694.JPG   \n",
       "314      10007786  437684300.0       Front View  10007786_437684300.JPG   \n",
       "409      10009599  437787494.0       Front View  10009599_437787494.JPG   \n",
       "457      10010742  437831121.0       Front View  10010742_437831121.JPG   \n",
       "854      10008478  438159522.0       Front View  10008478_438159522.JPG   \n",
       "...           ...          ...              ...                     ...   \n",
       "2997107  13514130  623705040.0  Rear View Right  13514130_623705040.JPG   \n",
       "2997133  13559885  624070256.0  Rear View Right  13559885_624070256.JPG   \n",
       "2997154  12702538  624386744.0  Rear View Right  12702538_624386744.JPG   \n",
       "2997184  13554985  624837551.0  Rear View Right  13554985_624837551.JPG   \n",
       "2997447  13444457  644455970.0  Rear View Right  13444457_644455970.JPG   \n",
       "\n",
       "                                                       url  \n",
       "312      http://192.168.1.7:8888/buckets/raw_imgs/10006...  \n",
       "314      http://192.168.1.7:8888/buckets/raw_imgs/10007...  \n",
       "409      http://192.168.1.7:8888/buckets/raw_imgs/10009...  \n",
       "457      http://192.168.1.7:8888/buckets/raw_imgs/10010...  \n",
       "854      http://192.168.1.7:8888/buckets/raw_imgs/10008...  \n",
       "...                                                    ...  \n",
       "2997107  http://192.168.1.7:8888/buckets/raw_imgs/13514...  \n",
       "2997133  http://192.168.1.7:8888/buckets/raw_imgs/13559...  \n",
       "2997154  http://192.168.1.7:8888/buckets/raw_imgs/12702...  \n",
       "2997184  http://192.168.1.7:8888/buckets/raw_imgs/13554...  \n",
       "2997447  http://192.168.1.7:8888/buckets/raw_imgs/13444...  \n",
       "\n",
       "[95326 rows x 5 columns]"
      ]
     },
     "execution_count": 19,
     "metadata": {},
     "output_type": "execute_result"
    }
   ],
   "source": [
    "downloadFileDf"
   ]
  },
  {
   "cell_type": "code",
   "execution_count": null,
   "metadata": {},
   "outputs": [],
   "source": [
    "downloadFileDf.to_parquet(f\"../../data/imgs_metadata/{vehicleType}.parquet\")"
   ]
  },
  {
   "cell_type": "code",
   "execution_count": null,
   "metadata": {},
   "outputs": [
    {
     "data": {
      "text/html": [
       "<div>\n",
       "<style scoped>\n",
       "    .dataframe tbody tr th:only-of-type {\n",
       "        vertical-align: middle;\n",
       "    }\n",
       "\n",
       "    .dataframe tbody tr th {\n",
       "        vertical-align: top;\n",
       "    }\n",
       "\n",
       "    .dataframe thead th {\n",
       "        text-align: right;\n",
       "    }\n",
       "</style>\n",
       "<table border=\"1\" class=\"dataframe\">\n",
       "  <thead>\n",
       "    <tr style=\"text-align: right;\">\n",
       "      <th></th>\n",
       "      <th>CaseID</th>\n",
       "      <th>iDOCID</th>\n",
       "      <th>StdDocDesc</th>\n",
       "      <th>filename</th>\n",
       "      <th>url</th>\n",
       "    </tr>\n",
       "  </thead>\n",
       "  <tbody>\n",
       "    <tr>\n",
       "      <th>312</th>\n",
       "      <td>10006884</td>\n",
       "      <td>437683694.0</td>\n",
       "      <td>Front View</td>\n",
       "      <td>10006884_437683694.JPG</td>\n",
       "      <td>http://192.168.1.7:8888/buckets/raw_imgs/10006...</td>\n",
       "    </tr>\n",
       "    <tr>\n",
       "      <th>314</th>\n",
       "      <td>10007786</td>\n",
       "      <td>437684300.0</td>\n",
       "      <td>Front View</td>\n",
       "      <td>10007786_437684300.JPG</td>\n",
       "      <td>http://192.168.1.7:8888/buckets/raw_imgs/10007...</td>\n",
       "    </tr>\n",
       "    <tr>\n",
       "      <th>409</th>\n",
       "      <td>10009599</td>\n",
       "      <td>437787494.0</td>\n",
       "      <td>Front View</td>\n",
       "      <td>10009599_437787494.JPG</td>\n",
       "      <td>http://192.168.1.7:8888/buckets/raw_imgs/10009...</td>\n",
       "    </tr>\n",
       "    <tr>\n",
       "      <th>457</th>\n",
       "      <td>10010742</td>\n",
       "      <td>437831121.0</td>\n",
       "      <td>Front View</td>\n",
       "      <td>10010742_437831121.JPG</td>\n",
       "      <td>http://192.168.1.7:8888/buckets/raw_imgs/10010...</td>\n",
       "    </tr>\n",
       "    <tr>\n",
       "      <th>854</th>\n",
       "      <td>10008478</td>\n",
       "      <td>438159522.0</td>\n",
       "      <td>Front View</td>\n",
       "      <td>10008478_438159522.JPG</td>\n",
       "      <td>http://192.168.1.7:8888/buckets/raw_imgs/10008...</td>\n",
       "    </tr>\n",
       "    <tr>\n",
       "      <th>...</th>\n",
       "      <td>...</td>\n",
       "      <td>...</td>\n",
       "      <td>...</td>\n",
       "      <td>...</td>\n",
       "      <td>...</td>\n",
       "    </tr>\n",
       "    <tr>\n",
       "      <th>2997107</th>\n",
       "      <td>13514130</td>\n",
       "      <td>623705040.0</td>\n",
       "      <td>Rear View Right</td>\n",
       "      <td>13514130_623705040.JPG</td>\n",
       "      <td>http://192.168.1.7:8888/buckets/raw_imgs/13514...</td>\n",
       "    </tr>\n",
       "    <tr>\n",
       "      <th>2997133</th>\n",
       "      <td>13559885</td>\n",
       "      <td>624070256.0</td>\n",
       "      <td>Rear View Right</td>\n",
       "      <td>13559885_624070256.JPG</td>\n",
       "      <td>http://192.168.1.7:8888/buckets/raw_imgs/13559...</td>\n",
       "    </tr>\n",
       "    <tr>\n",
       "      <th>2997154</th>\n",
       "      <td>12702538</td>\n",
       "      <td>624386744.0</td>\n",
       "      <td>Rear View Right</td>\n",
       "      <td>12702538_624386744.JPG</td>\n",
       "      <td>http://192.168.1.7:8888/buckets/raw_imgs/12702...</td>\n",
       "    </tr>\n",
       "    <tr>\n",
       "      <th>2997184</th>\n",
       "      <td>13554985</td>\n",
       "      <td>624837551.0</td>\n",
       "      <td>Rear View Right</td>\n",
       "      <td>13554985_624837551.JPG</td>\n",
       "      <td>http://192.168.1.7:8888/buckets/raw_imgs/13554...</td>\n",
       "    </tr>\n",
       "    <tr>\n",
       "      <th>2997447</th>\n",
       "      <td>13444457</td>\n",
       "      <td>644455970.0</td>\n",
       "      <td>Rear View Right</td>\n",
       "      <td>13444457_644455970.JPG</td>\n",
       "      <td>http://192.168.1.7:8888/buckets/raw_imgs/13444...</td>\n",
       "    </tr>\n",
       "  </tbody>\n",
       "</table>\n",
       "<p>95326 rows × 5 columns</p>\n",
       "</div>"
      ],
      "text/plain": [
       "           CaseID       iDOCID       StdDocDesc                filename  \\\n",
       "312      10006884  437683694.0       Front View  10006884_437683694.JPG   \n",
       "314      10007786  437684300.0       Front View  10007786_437684300.JPG   \n",
       "409      10009599  437787494.0       Front View  10009599_437787494.JPG   \n",
       "457      10010742  437831121.0       Front View  10010742_437831121.JPG   \n",
       "854      10008478  438159522.0       Front View  10008478_438159522.JPG   \n",
       "...           ...          ...              ...                     ...   \n",
       "2997107  13514130  623705040.0  Rear View Right  13514130_623705040.JPG   \n",
       "2997133  13559885  624070256.0  Rear View Right  13559885_624070256.JPG   \n",
       "2997154  12702538  624386744.0  Rear View Right  12702538_624386744.JPG   \n",
       "2997184  13554985  624837551.0  Rear View Right  13554985_624837551.JPG   \n",
       "2997447  13444457  644455970.0  Rear View Right  13444457_644455970.JPG   \n",
       "\n",
       "                                                       url  \n",
       "312      http://192.168.1.7:8888/buckets/raw_imgs/10006...  \n",
       "314      http://192.168.1.7:8888/buckets/raw_imgs/10007...  \n",
       "409      http://192.168.1.7:8888/buckets/raw_imgs/10009...  \n",
       "457      http://192.168.1.7:8888/buckets/raw_imgs/10010...  \n",
       "854      http://192.168.1.7:8888/buckets/raw_imgs/10008...  \n",
       "...                                                    ...  \n",
       "2997107  http://192.168.1.7:8888/buckets/raw_imgs/13514...  \n",
       "2997133  http://192.168.1.7:8888/buckets/raw_imgs/13559...  \n",
       "2997154  http://192.168.1.7:8888/buckets/raw_imgs/12702...  \n",
       "2997184  http://192.168.1.7:8888/buckets/raw_imgs/13554...  \n",
       "2997447  http://192.168.1.7:8888/buckets/raw_imgs/13444...  \n",
       "\n",
       "[95326 rows x 5 columns]"
      ]
     },
     "execution_count": 21,
     "metadata": {},
     "output_type": "execute_result"
    }
   ],
   "source": [
    "pd.read_parquet(f\"/home/alextay96/Desktop/new_workspace/DLDataPipeline/data/imgs_metadata/{vehicleType}.parquet\")"
   ]
  }
 ],
 "metadata": {
  "kernelspec": {
   "display_name": "Python 3.10.6 ('work')",
   "language": "python",
   "name": "python3"
  },
  "language_info": {
   "codemirror_mode": {
    "name": "ipython",
    "version": 3
   },
   "file_extension": ".py",
   "mimetype": "text/x-python",
   "name": "python",
   "nbconvert_exporter": "python",
   "pygments_lexer": "ipython3",
   "version": "3.10.6"
  },
  "orig_nbformat": 4,
  "vscode": {
   "interpreter": {
    "hash": "0e8f33c5a67865e6aadcd232beb3e2644a1f224e780847feacdefa5e710f41d5"
   }
  }
 },
 "nbformat": 4,
 "nbformat_minor": 2
}
