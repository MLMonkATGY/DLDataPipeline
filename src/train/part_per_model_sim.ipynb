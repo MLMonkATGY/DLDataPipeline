{
 "cells": [
  {
   "cell_type": "code",
   "execution_count": 14,
   "metadata": {},
   "outputs": [],
   "source": [
    "from catboost import CatBoostClassifier, Pool\n",
    "from catboost.utils import eval_metric\n",
    "from sklearn.datasets import make_multilabel_classification\n",
    "from sklearn.model_selection import train_test_split\n",
    "import pandas as pd\n",
    "import sklearn.metrics as metrics\n",
    "from sklearn.metrics import accuracy_score, classification_report\n",
    "import numpy as np\n",
    "import plotly.express as px\n",
    "import seaborn as sns\n",
    "from IPython import display\n",
    "import matplotlib.pyplot as plt\n",
    "import awswrangler as wr\n",
    "from sklearn.metrics import (\n",
    "    accuracy_score,\n",
    "    confusion_matrix,\n",
    "    classification_report,\n",
    "    multilabel_confusion_matrix,\n",
    ")\n",
    "from catboost.utils import select_threshold\n",
    "from skmultilearn.model_selection.iterative_stratification import (\n",
    "    IterativeStratification,\n",
    ")\n",
    "from sklearn.model_selection import StratifiedKFold, KFold\n",
    "from tqdm import tqdm\n",
    "from sklearn.utils import class_weight\n"
   ]
  },
  {
   "cell_type": "code",
   "execution_count": 15,
   "metadata": {},
   "outputs": [],
   "source": [
    "\n",
    "wr.config.s3_endpoint_url = \"http://192.168.1.4:8333\"\n",
    "\n",
    "multilabelDf = wr.s3.read_parquet(\n",
    "    path=f\"s3://multilabel_df_2/\",\n",
    "    dataset=True,\n",
    ")\n",
    "allVisionFeatures = [x for x in multilabelDf.columns if \"vision_\" in x]\n",
    "caseFeatures = [\n",
    "    \"Circumstances_of_Accident\",\n",
    "    \"Model\",\n",
    "    # # \"Vehicle_Still_Driveable\",\n",
    "    # # \"NCB_Stat\",\n",
    "    # # \"Assembly_Type\",\n",
    "    # # \"Claim_Type\",\n",
    "    \"Vehicle_Type\",\n",
    "    # # \"Sum_Insured\",\n",
    "    # \"Repairer\",\n",
    "    # # # \"Repairer_Apprv_Count\",\n",
    "    # \"Collision_With\",\n",
    "    # \"Handling_Insurer\",\n",
    "]\n",
    "allInputFeature = caseFeatures + allVisionFeatures\n",
    "\n",
    "targetCol = [\n",
    "   'bonnet', 'bumper_front', 'grille', 'fog_lamp_rh', 'headlamp_lh', 'headlamp_rh', 'door_front_lh', 'door_front_rh', 'air_conditioning', 'cooling_fan', 'radiator', 'bumper_rear', 'misc', 'engine', 'airbag', 'front_panel', 'undercarriage', 'wheel', 'fender_front_lh', 'fender_front_rh', 'door_mirror_rh', 'rear_quarter_lh', 'interior', 'tail_lamp_lh', 'fog_lamp_lh', 'tail_lamp_rh', 'windscreen_front', 'rear_compartment', 'rear_panel', 'rear_quarter_rh', 'door_rear_rh', 'door_mirror_lh', 'door_rear_lh', 'windscreen_rear'\n",
    "]\n",
    "allPredModel = []\n",
    "allPreds = []\n",
    "allGt = []\n"
   ]
  },
  {
   "cell_type": "code",
   "execution_count": 16,
   "metadata": {},
   "outputs": [
    {
     "name": "stderr",
     "output_type": "stream",
     "text": [
      "  0%|          | 0/34 [00:00<?, ?it/s]"
     ]
    },
    {
     "name": "stdout",
     "output_type": "stream",
     "text": [
      "Learning rate set to 0.085488\n",
      "0:\tlearn: 1.0000000\ttest: 1.0000000\tbest: 1.0000000 (0)\ttotal: 13.5ms\tremaining: 2.69s\n",
      "100:\tlearn: 1.0000000\ttest: 1.0000000\tbest: 1.0000000 (0)\ttotal: 1.69s\tremaining: 1.66s\n",
      "bestTest = 1\n",
      "bestIteration = 0\n",
      "Shrink model to first 1 iterations.\n",
      "Learning rate set to 0.085488\n",
      "0:\tlearn: 1.0000000\ttest: 1.0000000\tbest: 1.0000000 (0)\ttotal: 13.4ms\tremaining: 2.67s\n",
      "100:\tlearn: 1.0000000\ttest: 1.0000000\tbest: 1.0000000 (0)\ttotal: 1.68s\tremaining: 1.65s\n",
      "bestTest = 1\n",
      "bestIteration = 0\n",
      "Shrink model to first 1 iterations.\n"
     ]
    },
    {
     "name": "stderr",
     "output_type": "stream",
     "text": [
      "  3%|▎         | 1/34 [00:07<04:20,  7.91s/it]"
     ]
    },
    {
     "name": "stdout",
     "output_type": "stream",
     "text": [
      "Learning rate set to 0.085488\n",
      "0:\tlearn: 1.0000000\ttest: 1.0000000\tbest: 1.0000000 (0)\ttotal: 13.6ms\tremaining: 2.7s\n",
      "100:\tlearn: 1.0000000\ttest: 1.0000000\tbest: 1.0000000 (0)\ttotal: 1.62s\tremaining: 1.58s\n",
      "bestTest = 1\n",
      "bestIteration = 0\n",
      "Shrink model to first 1 iterations.\n",
      "Learning rate set to 0.085488\n",
      "0:\tlearn: 1.0000000\ttest: 1.0000000\tbest: 1.0000000 (0)\ttotal: 13.1ms\tremaining: 2.6s\n",
      "100:\tlearn: 1.0000000\ttest: 1.0000000\tbest: 1.0000000 (0)\ttotal: 1.58s\tremaining: 1.54s\n",
      "bestTest = 1\n",
      "bestIteration = 0\n",
      "Shrink model to first 1 iterations.\n"
     ]
    },
    {
     "name": "stderr",
     "output_type": "stream",
     "text": [
      "  6%|▌         | 2/34 [00:15<04:06,  7.70s/it]"
     ]
    },
    {
     "name": "stdout",
     "output_type": "stream",
     "text": [
      "Learning rate set to 0.085488\n",
      "0:\tlearn: 1.0000000\ttest: 1.0000000\tbest: 1.0000000 (0)\ttotal: 17.2ms\tremaining: 3.43s\n",
      "100:\tlearn: 1.0000000\ttest: 1.0000000\tbest: 1.0000000 (0)\ttotal: 1.75s\tremaining: 1.71s\n",
      "bestTest = 1\n",
      "bestIteration = 0\n",
      "Shrink model to first 1 iterations.\n",
      "Learning rate set to 0.085488\n",
      "0:\tlearn: 1.0000000\ttest: 1.0000000\tbest: 1.0000000 (0)\ttotal: 17.3ms\tremaining: 3.44s\n",
      "100:\tlearn: 1.0000000\ttest: 1.0000000\tbest: 1.0000000 (0)\ttotal: 1.55s\tremaining: 1.52s\n",
      "bestTest = 1\n",
      "bestIteration = 0\n",
      "Shrink model to first 1 iterations.\n"
     ]
    },
    {
     "name": "stderr",
     "output_type": "stream",
     "text": [
      "  9%|▉         | 3/34 [00:23<03:58,  7.71s/it]"
     ]
    },
    {
     "name": "stdout",
     "output_type": "stream",
     "text": [
      "Learning rate set to 0.085488\n",
      "0:\tlearn: 0.8783062\ttest: 0.8750855\tbest: 0.8750855 (0)\ttotal: 19.6ms\tremaining: 3.9s\n",
      "100:\tlearn: 0.8952782\ttest: 0.8948877\tbest: 0.8948877 (100)\ttotal: 1.96s\tremaining: 1.92s\n",
      "199:\tlearn: 0.8968482\ttest: 0.8956839\tbest: 0.8956839 (199)\ttotal: 3.77s\tremaining: 0us\n",
      "bestTest = 0.8956839497\n",
      "bestIteration = 199\n",
      "Learning rate set to 0.085488\n",
      "0:\tlearn: 0.8742037\ttest: 0.8766697\tbest: 0.8766697 (0)\ttotal: 18.7ms\tremaining: 3.72s\n",
      "100:\tlearn: 0.8969640\ttest: 0.8829382\tbest: 0.8831262 (89)\ttotal: 2.09s\tremaining: 2.04s\n",
      "199:\tlearn: 0.8992180\ttest: 0.8841889\tbest: 0.8842977 (195)\ttotal: 4.1s\tremaining: 0us\n",
      "bestTest = 0.8842977275\n",
      "bestIteration = 195\n",
      "Shrink model to first 196 iterations.\n"
     ]
    },
    {
     "name": "stderr",
     "output_type": "stream",
     "text": [
      " 12%|█▏        | 4/34 [00:35<04:49,  9.66s/it]"
     ]
    },
    {
     "name": "stdout",
     "output_type": "stream",
     "text": [
      "Learning rate set to 0.085488\n",
      "0:\tlearn: 0.9849001\ttest: 0.9852594\tbest: 0.9852594 (0)\ttotal: 15.2ms\tremaining: 3.03s\n",
      "100:\tlearn: 0.9849414\ttest: 0.9852803\tbest: 0.9852803 (93)\ttotal: 2.09s\tremaining: 2.05s\n",
      "199:\tlearn: 0.9849940\ttest: 0.9853192\tbest: 0.9853234 (190)\ttotal: 4.12s\tremaining: 0us\n",
      "bestTest = 0.9853234113\n",
      "bestIteration = 190\n",
      "Shrink model to first 191 iterations.\n",
      "Learning rate set to 0.085488\n",
      "0:\tlearn: 0.9852592\ttest: 0.9849000\tbest: 0.9849000 (0)\ttotal: 14.2ms\tremaining: 2.83s\n",
      "100:\tlearn: 0.9853053\ttest: 0.9849490\tbest: 0.9849550 (98)\ttotal: 2.01s\tremaining: 1.97s\n",
      "199:\tlearn: 0.9853777\ttest: 0.9849807\tbest: 0.9849861 (186)\ttotal: 3.9s\tremaining: 0us\n",
      "bestTest = 0.9849860757\n",
      "bestIteration = 186\n",
      "Shrink model to first 187 iterations.\n"
     ]
    },
    {
     "name": "stderr",
     "output_type": "stream",
     "text": [
      " 15%|█▍        | 5/34 [00:49<05:17, 10.95s/it]"
     ]
    },
    {
     "name": "stdout",
     "output_type": "stream",
     "text": [
      "Learning rate set to 0.085488\n",
      "0:\tlearn: 0.9813627\ttest: 0.9807377\tbest: 0.9807377 (0)\ttotal: 21.6ms\tremaining: 4.31s\n",
      "100:\tlearn: 0.9815306\ttest: 0.9809285\tbest: 0.9809285 (94)\ttotal: 2.1s\tremaining: 2.06s\n",
      "199:\tlearn: 0.9816848\ttest: 0.9809231\tbest: 0.9809381 (105)\ttotal: 4.16s\tremaining: 0us\n",
      "bestTest = 0.9809381152\n",
      "bestIteration = 105\n",
      "Shrink model to first 106 iterations.\n",
      "Learning rate set to 0.085488\n",
      "0:\tlearn: 0.9807375\ttest: 0.9813626\tbest: 0.9813626 (0)\ttotal: 33.9ms\tremaining: 6.74s\n",
      "100:\tlearn: 0.9808675\ttest: 0.9814357\tbest: 0.9814381 (99)\ttotal: 2.1s\tremaining: 2.06s\n",
      "199:\tlearn: 0.9810287\ttest: 0.9815696\tbest: 0.9815724 (197)\ttotal: 4.18s\tremaining: 0us\n",
      "bestTest = 0.9815724099\n",
      "bestIteration = 197\n",
      "Shrink model to first 198 iterations.\n"
     ]
    },
    {
     "name": "stderr",
     "output_type": "stream",
     "text": [
      " 18%|█▊        | 6/34 [01:02<05:31, 11.84s/it]"
     ]
    },
    {
     "name": "stdout",
     "output_type": "stream",
     "text": [
      "Learning rate set to 0.085488\n",
      "0:\tlearn: 1.0000000\ttest: 1.0000000\tbest: 1.0000000 (0)\ttotal: 14.3ms\tremaining: 2.85s\n",
      "100:\tlearn: 1.0000000\ttest: 1.0000000\tbest: 1.0000000 (0)\ttotal: 1.76s\tremaining: 1.73s\n",
      "bestTest = 1\n",
      "bestIteration = 0\n",
      "Shrink model to first 1 iterations.\n",
      "Learning rate set to 0.085488\n",
      "0:\tlearn: 1.0000000\ttest: 1.0000000\tbest: 1.0000000 (0)\ttotal: 13.2ms\tremaining: 2.63s\n",
      "100:\tlearn: 1.0000000\ttest: 1.0000000\tbest: 1.0000000 (0)\ttotal: 1.79s\tremaining: 1.75s\n",
      "bestTest = 1\n",
      "bestIteration = 0\n",
      "Shrink model to first 1 iterations.\n"
     ]
    },
    {
     "name": "stderr",
     "output_type": "stream",
     "text": [
      " 21%|██        | 7/34 [01:11<04:52, 10.84s/it]"
     ]
    },
    {
     "name": "stdout",
     "output_type": "stream",
     "text": [
      "Learning rate set to 0.085488\n",
      "0:\tlearn: 1.0000000\ttest: 1.0000000\tbest: 1.0000000 (0)\ttotal: 14.4ms\tremaining: 2.87s\n",
      "100:\tlearn: 1.0000000\ttest: 1.0000000\tbest: 1.0000000 (0)\ttotal: 1.8s\tremaining: 1.76s\n",
      "bestTest = 1\n",
      "bestIteration = 0\n",
      "Shrink model to first 1 iterations.\n",
      "Learning rate set to 0.085488\n",
      "0:\tlearn: 1.0000000\ttest: 1.0000000\tbest: 1.0000000 (0)\ttotal: 14.5ms\tremaining: 2.88s\n",
      "100:\tlearn: 1.0000000\ttest: 1.0000000\tbest: 1.0000000 (0)\ttotal: 1.75s\tremaining: 1.72s\n",
      "bestTest = 1\n",
      "bestIteration = 0\n",
      "Shrink model to first 1 iterations.\n"
     ]
    },
    {
     "name": "stderr",
     "output_type": "stream",
     "text": [
      " 24%|██▎       | 8/34 [01:20<04:24, 10.17s/it]"
     ]
    },
    {
     "name": "stdout",
     "output_type": "stream",
     "text": [
      "Learning rate set to 0.085488\n",
      "0:\tlearn: 0.8940308\ttest: 0.8920433\tbest: 0.8920433 (0)\ttotal: 19.4ms\tremaining: 3.85s\n",
      "100:\tlearn: 0.9155942\ttest: 0.9129992\tbest: 0.9130444 (99)\ttotal: 1.98s\tremaining: 1.94s\n",
      "199:\tlearn: 0.9179473\ttest: 0.9146329\tbest: 0.9146864 (187)\ttotal: 3.88s\tremaining: 0us\n",
      "bestTest = 0.9146864202\n",
      "bestIteration = 187\n",
      "Shrink model to first 188 iterations.\n",
      "Learning rate set to 0.085488\n",
      "0:\tlearn: 0.8855075\ttest: 0.8835954\tbest: 0.8835954 (0)\ttotal: 18.9ms\tremaining: 3.77s\n",
      "100:\tlearn: 0.9140746\ttest: 0.9120130\tbest: 0.9120296 (97)\ttotal: 1.98s\tremaining: 1.94s\n",
      "199:\tlearn: 0.9163816\ttest: 0.9136144\tbest: 0.9136642 (190)\ttotal: 3.86s\tremaining: 0us\n",
      "bestTest = 0.9136641538\n",
      "bestIteration = 190\n",
      "Shrink model to first 191 iterations.\n"
     ]
    },
    {
     "name": "stderr",
     "output_type": "stream",
     "text": [
      " 26%|██▋       | 9/34 [01:32<04:34, 10.98s/it]"
     ]
    },
    {
     "name": "stdout",
     "output_type": "stream",
     "text": [
      "Learning rate set to 0.085488\n",
      "0:\tlearn: 0.8543650\ttest: 0.8535633\tbest: 0.8535633 (0)\ttotal: 18.3ms\tremaining: 3.63s\n",
      "100:\tlearn: 0.8750039\ttest: 0.8723874\tbest: 0.8724011 (96)\ttotal: 1.93s\tremaining: 1.89s\n",
      "199:\tlearn: 0.8774665\ttest: 0.8733500\tbest: 0.8734142 (192)\ttotal: 3.79s\tremaining: 0us\n",
      "bestTest = 0.8734142132\n",
      "bestIteration = 192\n",
      "Shrink model to first 193 iterations.\n",
      "Learning rate set to 0.085488\n",
      "0:\tlearn: 0.8542310\ttest: 0.8545847\tbest: 0.8545847 (0)\ttotal: 18.7ms\tremaining: 3.71s\n",
      "100:\tlearn: 0.8740641\ttest: 0.8703363\tbest: 0.8703399 (98)\ttotal: 1.98s\tremaining: 1.94s\n",
      "199:\tlearn: 0.8771413\ttest: 0.8717821\tbest: 0.8717821 (199)\ttotal: 5.81s\tremaining: 0us\n",
      "bestTest = 0.871782086\n",
      "bestIteration = 199\n"
     ]
    },
    {
     "name": "stderr",
     "output_type": "stream",
     "text": [
      " 29%|██▉       | 10/34 [01:47<04:49, 12.05s/it]"
     ]
    },
    {
     "name": "stdout",
     "output_type": "stream",
     "text": [
      "Learning rate set to 0.085488\n",
      "0:\tlearn: 0.8803209\ttest: 0.8816087\tbest: 0.8816087 (0)\ttotal: 18.5ms\tremaining: 3.69s\n",
      "100:\tlearn: 0.8992085\ttest: 0.8983878\tbest: 0.8984309 (99)\ttotal: 1.95s\tremaining: 1.91s\n",
      "199:\tlearn: 0.9010976\ttest: 0.8995158\tbest: 0.8995354 (194)\ttotal: 3.77s\tremaining: 0us\n",
      "bestTest = 0.8995353652\n",
      "bestIteration = 194\n",
      "Shrink model to first 195 iterations.\n",
      "Learning rate set to 0.085488\n",
      "0:\tlearn: 0.8816078\ttest: 0.8803200\tbest: 0.8803200 (0)\ttotal: 18.7ms\tremaining: 3.72s\n",
      "100:\tlearn: 0.8992818\ttest: 0.8979781\tbest: 0.8979781 (100)\ttotal: 1.94s\tremaining: 1.9s\n",
      "199:\tlearn: 0.9012388\ttest: 0.8993883\tbest: 0.8993942 (197)\ttotal: 3.77s\tremaining: 0us\n",
      "bestTest = 0.8993941997\n",
      "bestIteration = 197\n",
      "Shrink model to first 198 iterations.\n"
     ]
    },
    {
     "name": "stderr",
     "output_type": "stream",
     "text": [
      " 32%|███▏      | 11/34 [01:59<04:39, 12.15s/it]"
     ]
    },
    {
     "name": "stdout",
     "output_type": "stream",
     "text": [
      "Learning rate set to 0.085488\n",
      "0:\tlearn: 1.0000000\ttest: 1.0000000\tbest: 1.0000000 (0)\ttotal: 19ms\tremaining: 3.77s\n",
      "100:\tlearn: 1.0000000\ttest: 1.0000000\tbest: 1.0000000 (0)\ttotal: 1.72s\tremaining: 1.68s\n",
      "bestTest = 1\n",
      "bestIteration = 0\n",
      "Shrink model to first 1 iterations.\n",
      "Learning rate set to 0.085488\n",
      "0:\tlearn: 1.0000000\ttest: 1.0000000\tbest: 1.0000000 (0)\ttotal: 18.8ms\tremaining: 3.73s\n",
      "100:\tlearn: 1.0000000\ttest: 1.0000000\tbest: 1.0000000 (0)\ttotal: 1.72s\tremaining: 1.68s\n",
      "bestTest = 1\n",
      "bestIteration = 0\n",
      "Shrink model to first 1 iterations.\n"
     ]
    },
    {
     "name": "stderr",
     "output_type": "stream",
     "text": [
      " 35%|███▌      | 12/34 [02:07<03:59, 10.90s/it]"
     ]
    },
    {
     "name": "stdout",
     "output_type": "stream",
     "text": [
      "Learning rate set to 0.085488\n",
      "0:\tlearn: 0.9689614\ttest: 0.9694227\tbest: 0.9694227 (0)\ttotal: 20.3ms\tremaining: 4.04s\n",
      "100:\tlearn: 0.9695110\ttest: 0.9698502\tbest: 0.9698502 (100)\ttotal: 1.91s\tremaining: 1.87s\n",
      "199:\tlearn: 0.9698515\ttest: 0.9699056\tbest: 0.9699056 (199)\ttotal: 3.81s\tremaining: 0us\n",
      "bestTest = 0.9699055635\n",
      "bestIteration = 199\n",
      "Learning rate set to 0.085488\n",
      "0:\tlearn: 0.9694228\ttest: 0.9689591\tbest: 0.9689591 (0)\ttotal: 20.5ms\tremaining: 4.09s\n",
      "100:\tlearn: 0.9696402\ttest: 0.9690476\tbest: 0.9692623 (58)\ttotal: 1.94s\tremaining: 1.9s\n",
      "bestTest = 0.9692622996\n",
      "bestIteration = 58\n",
      "Shrink model to first 59 iterations.\n"
     ]
    },
    {
     "name": "stderr",
     "output_type": "stream",
     "text": [
      " 38%|███▊      | 13/34 [02:19<03:53, 11.10s/it]"
     ]
    },
    {
     "name": "stdout",
     "output_type": "stream",
     "text": [
      "Learning rate set to 0.085488\n",
      "0:\tlearn: 0.8878425\ttest: 0.8899762\tbest: 0.8899762 (0)\ttotal: 19.1ms\tremaining: 3.79s\n",
      "100:\tlearn: 0.9049868\ttest: 0.9066002\tbest: 0.9066002 (100)\ttotal: 2.03s\tremaining: 1.99s\n",
      "199:\tlearn: 0.9065442\ttest: 0.9075388\tbest: 0.9075423 (198)\ttotal: 3.87s\tremaining: 0us\n",
      "bestTest = 0.9075423495\n",
      "bestIteration = 198\n",
      "Shrink model to first 199 iterations.\n",
      "Learning rate set to 0.085488\n",
      "0:\tlearn: 0.8826386\ttest: 0.8787077\tbest: 0.8787077 (0)\ttotal: 19.1ms\tremaining: 3.81s\n",
      "100:\tlearn: 0.9073469\ttest: 0.9038596\tbest: 0.9039180 (98)\ttotal: 2s\tremaining: 1.96s\n",
      "199:\tlearn: 0.9086514\ttest: 0.9041756\tbest: 0.9042619 (196)\ttotal: 3.84s\tremaining: 0us\n",
      "bestTest = 0.904261938\n",
      "bestIteration = 196\n",
      "Shrink model to first 197 iterations.\n"
     ]
    },
    {
     "name": "stderr",
     "output_type": "stream",
     "text": [
      " 41%|████      | 14/34 [02:31<03:50, 11.53s/it]"
     ]
    },
    {
     "name": "stdout",
     "output_type": "stream",
     "text": [
      "Learning rate set to 0.085488\n",
      "0:\tlearn: 0.9160379\ttest: 0.9113113\tbest: 0.9113113 (0)\ttotal: 18.3ms\tremaining: 3.64s\n",
      "100:\tlearn: 0.9335666\ttest: 0.9268046\tbest: 0.9268046 (100)\ttotal: 2.02s\tremaining: 1.98s\n",
      "199:\tlearn: 0.9352840\ttest: 0.9276368\tbest: 0.9276545 (189)\ttotal: 3.95s\tremaining: 0us\n",
      "bestTest = 0.9276544512\n",
      "bestIteration = 189\n",
      "Shrink model to first 190 iterations.\n",
      "Learning rate set to 0.085488\n",
      "0:\tlearn: 0.9125767\ttest: 0.9168679\tbest: 0.9168679 (0)\ttotal: 19.2ms\tremaining: 3.83s\n",
      "100:\tlearn: 0.9290171\ttest: 0.9308399\tbest: 0.9308568 (99)\ttotal: 1.98s\tremaining: 1.94s\n",
      "199:\tlearn: 0.9315482\ttest: 0.9317305\tbest: 0.9317406 (195)\ttotal: 3.88s\tremaining: 0us\n",
      "bestTest = 0.931740644\n",
      "bestIteration = 195\n",
      "Shrink model to first 196 iterations.\n"
     ]
    },
    {
     "name": "stderr",
     "output_type": "stream",
     "text": [
      " 44%|████▍     | 15/34 [02:44<03:45, 11.88s/it]"
     ]
    },
    {
     "name": "stdout",
     "output_type": "stream",
     "text": [
      "Learning rate set to 0.085488\n",
      "0:\tlearn: 1.0000000\ttest: 1.0000000\tbest: 1.0000000 (0)\ttotal: 13.4ms\tremaining: 2.67s\n",
      "100:\tlearn: 1.0000000\ttest: 1.0000000\tbest: 1.0000000 (0)\ttotal: 1.77s\tremaining: 1.74s\n",
      "bestTest = 1\n",
      "bestIteration = 0\n",
      "Shrink model to first 1 iterations.\n",
      "Learning rate set to 0.085488\n",
      "0:\tlearn: 1.0000000\ttest: 1.0000000\tbest: 1.0000000 (0)\ttotal: 12.9ms\tremaining: 2.56s\n",
      "100:\tlearn: 1.0000000\ttest: 1.0000000\tbest: 1.0000000 (0)\ttotal: 1.74s\tremaining: 1.7s\n",
      "bestTest = 1\n",
      "bestIteration = 0\n",
      "Shrink model to first 1 iterations.\n"
     ]
    },
    {
     "name": "stderr",
     "output_type": "stream",
     "text": [
      " 47%|████▋     | 16/34 [02:52<03:12, 10.72s/it]"
     ]
    },
    {
     "name": "stdout",
     "output_type": "stream",
     "text": [
      "Learning rate set to 0.085488\n",
      "0:\tlearn: 0.9660868\ttest: 0.9679497\tbest: 0.9679497 (0)\ttotal: 22.4ms\tremaining: 4.45s\n",
      "100:\tlearn: 0.9674287\ttest: 0.9688758\tbest: 0.9688819 (99)\ttotal: 1.95s\tremaining: 1.91s\n",
      "199:\tlearn: 0.9686086\ttest: 0.9692933\tbest: 0.9693052 (189)\ttotal: 3.81s\tremaining: 0us\n",
      "bestTest = 0.969305153\n",
      "bestIteration = 189\n",
      "Shrink model to first 190 iterations.\n",
      "Learning rate set to 0.085488\n",
      "0:\tlearn: 0.9679492\ttest: 0.9660843\tbest: 0.9660843 (0)\ttotal: 21.7ms\tremaining: 4.31s\n",
      "100:\tlearn: 0.9691291\ttest: 0.9669654\tbest: 0.9670401 (86)\ttotal: 1.93s\tremaining: 1.89s\n",
      "199:\tlearn: 0.9701496\ttest: 0.9676456\tbest: 0.9677182 (180)\ttotal: 3.83s\tremaining: 0us\n",
      "bestTest = 0.96771819\n",
      "bestIteration = 180\n",
      "Shrink model to first 181 iterations.\n"
     ]
    },
    {
     "name": "stderr",
     "output_type": "stream",
     "text": [
      " 50%|█████     | 17/34 [03:05<03:10, 11.24s/it]"
     ]
    },
    {
     "name": "stdout",
     "output_type": "stream",
     "text": [
      "Learning rate set to 0.085488\n",
      "0:\tlearn: 1.0000000\ttest: 1.0000000\tbest: 1.0000000 (0)\ttotal: 13.4ms\tremaining: 2.67s\n",
      "100:\tlearn: 1.0000000\ttest: 1.0000000\tbest: 1.0000000 (0)\ttotal: 1.75s\tremaining: 1.71s\n",
      "bestTest = 1\n",
      "bestIteration = 0\n",
      "Shrink model to first 1 iterations.\n",
      "Learning rate set to 0.085488\n",
      "0:\tlearn: 1.0000000\ttest: 1.0000000\tbest: 1.0000000 (0)\ttotal: 13ms\tremaining: 2.59s\n",
      "100:\tlearn: 1.0000000\ttest: 1.0000000\tbest: 1.0000000 (0)\ttotal: 1.72s\tremaining: 1.69s\n",
      "bestTest = 1\n",
      "bestIteration = 0\n",
      "Shrink model to first 1 iterations.\n"
     ]
    },
    {
     "name": "stderr",
     "output_type": "stream",
     "text": [
      " 53%|█████▎    | 18/34 [03:12<02:44, 10.25s/it]"
     ]
    },
    {
     "name": "stdout",
     "output_type": "stream",
     "text": [
      "Learning rate set to 0.085488\n",
      "0:\tlearn: 1.0000000\ttest: 1.0000000\tbest: 1.0000000 (0)\ttotal: 17ms\tremaining: 3.38s\n",
      "100:\tlearn: 1.0000000\ttest: 1.0000000\tbest: 1.0000000 (0)\ttotal: 1.68s\tremaining: 1.65s\n",
      "bestTest = 1\n",
      "bestIteration = 0\n",
      "Shrink model to first 1 iterations.\n",
      "Learning rate set to 0.085488\n",
      "0:\tlearn: 1.0000000\ttest: 1.0000000\tbest: 1.0000000 (0)\ttotal: 17.2ms\tremaining: 3.43s\n",
      "100:\tlearn: 1.0000000\ttest: 1.0000000\tbest: 1.0000000 (0)\ttotal: 1.67s\tremaining: 1.63s\n",
      "bestTest = 1\n",
      "bestIteration = 0\n",
      "Shrink model to first 1 iterations.\n"
     ]
    },
    {
     "name": "stderr",
     "output_type": "stream",
     "text": [
      " 56%|█████▌    | 19/34 [03:20<02:22,  9.53s/it]"
     ]
    },
    {
     "name": "stdout",
     "output_type": "stream",
     "text": [
      "Learning rate set to 0.085488\n",
      "0:\tlearn: 1.0000000\ttest: 1.0000000\tbest: 1.0000000 (0)\ttotal: 17.4ms\tremaining: 3.46s\n",
      "100:\tlearn: 1.0000000\ttest: 1.0000000\tbest: 1.0000000 (0)\ttotal: 1.65s\tremaining: 1.62s\n",
      "bestTest = 1\n",
      "bestIteration = 0\n",
      "Shrink model to first 1 iterations.\n",
      "Learning rate set to 0.085488\n",
      "0:\tlearn: 1.0000000\ttest: 1.0000000\tbest: 1.0000000 (0)\ttotal: 17.3ms\tremaining: 3.45s\n",
      "100:\tlearn: 1.0000000\ttest: 1.0000000\tbest: 1.0000000 (0)\ttotal: 1.61s\tremaining: 1.58s\n",
      "bestTest = 1\n",
      "bestIteration = 0\n",
      "Shrink model to first 1 iterations.\n"
     ]
    },
    {
     "name": "stderr",
     "output_type": "stream",
     "text": [
      " 59%|█████▉    | 20/34 [03:28<02:05,  8.98s/it]"
     ]
    },
    {
     "name": "stdout",
     "output_type": "stream",
     "text": [
      "Learning rate set to 0.085488\n",
      "0:\tlearn: 0.8770332\ttest: 0.8733241\tbest: 0.8733241 (0)\ttotal: 18.6ms\tremaining: 3.71s\n",
      "100:\tlearn: 0.9057982\ttest: 0.9009336\tbest: 0.9009336 (100)\ttotal: 1.84s\tremaining: 1.8s\n",
      "199:\tlearn: 0.9104083\ttest: 0.9028445\tbest: 0.9028445 (199)\ttotal: 3.65s\tremaining: 0us\n",
      "bestTest = 0.9028444928\n",
      "bestIteration = 199\n",
      "Learning rate set to 0.085488\n",
      "0:\tlearn: 0.8740935\ttest: 0.8783112\tbest: 0.8783112 (0)\ttotal: 22.8ms\tremaining: 4.53s\n",
      "100:\tlearn: 0.9038132\ttest: 0.9027408\tbest: 0.9028440 (98)\ttotal: 1.9s\tremaining: 1.86s\n",
      "199:\tlearn: 0.9087307\ttest: 0.9043096\tbest: 0.9043096 (199)\ttotal: 3.7s\tremaining: 0us\n",
      "bestTest = 0.9043096393\n",
      "bestIteration = 199\n"
     ]
    },
    {
     "name": "stderr",
     "output_type": "stream",
     "text": [
      " 62%|██████▏   | 21/34 [03:40<02:08,  9.90s/it]"
     ]
    },
    {
     "name": "stdout",
     "output_type": "stream",
     "text": [
      "Learning rate set to 0.085488\n",
      "0:\tlearn: 1.0000000\ttest: 1.0000000\tbest: 1.0000000 (0)\ttotal: 13.6ms\tremaining: 2.71s\n",
      "100:\tlearn: 1.0000000\ttest: 1.0000000\tbest: 1.0000000 (0)\ttotal: 1.7s\tremaining: 1.66s\n",
      "bestTest = 1\n",
      "bestIteration = 0\n",
      "Shrink model to first 1 iterations.\n",
      "Learning rate set to 0.085488\n",
      "0:\tlearn: 1.0000000\ttest: 1.0000000\tbest: 1.0000000 (0)\ttotal: 12.9ms\tremaining: 2.56s\n",
      "100:\tlearn: 1.0000000\ttest: 1.0000000\tbest: 1.0000000 (0)\ttotal: 1.74s\tremaining: 1.71s\n",
      "bestTest = 1\n",
      "bestIteration = 0\n",
      "Shrink model to first 1 iterations.\n"
     ]
    },
    {
     "name": "stderr",
     "output_type": "stream",
     "text": [
      " 65%|██████▍   | 22/34 [03:48<01:51,  9.30s/it]"
     ]
    },
    {
     "name": "stdout",
     "output_type": "stream",
     "text": [
      "Learning rate set to 0.085488\n",
      "0:\tlearn: 0.9251354\ttest: 0.9178788\tbest: 0.9178788 (0)\ttotal: 18.3ms\tremaining: 3.65s\n",
      "100:\tlearn: 0.9344170\ttest: 0.9284998\tbest: 0.9286319 (98)\ttotal: 1.95s\tremaining: 1.91s\n",
      "199:\tlearn: 0.9362654\ttest: 0.9298135\tbest: 0.9298135 (199)\ttotal: 3.87s\tremaining: 0us\n",
      "bestTest = 0.929813542\n",
      "bestIteration = 199\n",
      "Learning rate set to 0.085488\n",
      "0:\tlearn: 0.9178790\ttest: 0.9251356\tbest: 0.9251356 (0)\ttotal: 18.5ms\tremaining: 3.69s\n",
      "100:\tlearn: 0.9302940\ttest: 0.9338930\tbest: 0.9339365 (85)\ttotal: 1.93s\tremaining: 1.89s\n",
      "199:\tlearn: 0.9317969\ttest: 0.9345740\tbest: 0.9345740 (199)\ttotal: 3.78s\tremaining: 0us\n",
      "bestTest = 0.9345739514\n",
      "bestIteration = 199\n"
     ]
    },
    {
     "name": "stderr",
     "output_type": "stream",
     "text": [
      " 68%|██████▊   | 23/34 [04:00<01:52, 10.23s/it]"
     ]
    },
    {
     "name": "stdout",
     "output_type": "stream",
     "text": [
      "Learning rate set to 0.085488\n",
      "0:\tlearn: 1.0000000\ttest: 1.0000000\tbest: 1.0000000 (0)\ttotal: 13.6ms\tremaining: 2.71s\n",
      "100:\tlearn: 1.0000000\ttest: 1.0000000\tbest: 1.0000000 (0)\ttotal: 1.71s\tremaining: 1.67s\n",
      "bestTest = 1\n",
      "bestIteration = 0\n",
      "Shrink model to first 1 iterations.\n",
      "Learning rate set to 0.085488\n",
      "0:\tlearn: 1.0000000\ttest: 1.0000000\tbest: 1.0000000 (0)\ttotal: 13.4ms\tremaining: 2.67s\n",
      "100:\tlearn: 1.0000000\ttest: 1.0000000\tbest: 1.0000000 (0)\ttotal: 1.68s\tremaining: 1.65s\n",
      "bestTest = 1\n",
      "bestIteration = 0\n",
      "Shrink model to first 1 iterations.\n"
     ]
    },
    {
     "name": "stderr",
     "output_type": "stream",
     "text": [
      " 71%|███████   | 24/34 [04:08<01:35,  9.52s/it]"
     ]
    },
    {
     "name": "stdout",
     "output_type": "stream",
     "text": [
      "Learning rate set to 0.085488\n",
      "0:\tlearn: 0.8805282\ttest: 0.8767186\tbest: 0.8767186 (0)\ttotal: 18.6ms\tremaining: 3.71s\n",
      "100:\tlearn: 0.8980931\ttest: 0.8955141\tbest: 0.8961637 (54)\ttotal: 2.02s\tremaining: 1.98s\n",
      "bestTest = 0.8961636947\n",
      "bestIteration = 54\n",
      "Shrink model to first 55 iterations.\n",
      "Learning rate set to 0.085488\n",
      "0:\tlearn: 0.8760154\ttest: 0.8798728\tbest: 0.8798728 (0)\ttotal: 18.3ms\tremaining: 3.64s\n",
      "100:\tlearn: 0.8977913\ttest: 0.8871225\tbest: 0.8871225 (100)\ttotal: 1.98s\tremaining: 1.94s\n",
      "199:\tlearn: 0.8993332\ttest: 0.8876940\tbest: 0.8877854 (194)\ttotal: 3.83s\tremaining: 0us\n",
      "bestTest = 0.8877853845\n",
      "bestIteration = 194\n",
      "Shrink model to first 195 iterations.\n"
     ]
    },
    {
     "name": "stderr",
     "output_type": "stream",
     "text": [
      " 74%|███████▎  | 25/34 [04:20<01:31, 10.13s/it]"
     ]
    },
    {
     "name": "stdout",
     "output_type": "stream",
     "text": [
      "Learning rate set to 0.085488\n",
      "0:\tlearn: 1.0000000\ttest: 1.0000000\tbest: 1.0000000 (0)\ttotal: 16.3ms\tremaining: 3.24s\n",
      "100:\tlearn: 1.0000000\ttest: 1.0000000\tbest: 1.0000000 (0)\ttotal: 1.7s\tremaining: 1.66s\n",
      "bestTest = 1\n",
      "bestIteration = 0\n",
      "Shrink model to first 1 iterations.\n",
      "Learning rate set to 0.085488\n",
      "0:\tlearn: 1.0000000\ttest: 1.0000000\tbest: 1.0000000 (0)\ttotal: 15.3ms\tremaining: 3.05s\n",
      "100:\tlearn: 1.0000000\ttest: 1.0000000\tbest: 1.0000000 (0)\ttotal: 1.73s\tremaining: 1.69s\n",
      "bestTest = 1\n",
      "bestIteration = 0\n",
      "Shrink model to first 1 iterations.\n"
     ]
    },
    {
     "name": "stderr",
     "output_type": "stream",
     "text": [
      " 76%|███████▋  | 26/34 [04:28<01:15,  9.47s/it]"
     ]
    },
    {
     "name": "stdout",
     "output_type": "stream",
     "text": [
      "Learning rate set to 0.085488\n",
      "0:\tlearn: 1.0000000\ttest: 1.0000000\tbest: 1.0000000 (0)\ttotal: 17.3ms\tremaining: 3.45s\n",
      "100:\tlearn: 1.0000000\ttest: 1.0000000\tbest: 1.0000000 (0)\ttotal: 1.68s\tremaining: 1.65s\n",
      "bestTest = 1\n",
      "bestIteration = 0\n",
      "Shrink model to first 1 iterations.\n",
      "Learning rate set to 0.085488\n",
      "0:\tlearn: 1.0000000\ttest: 1.0000000\tbest: 1.0000000 (0)\ttotal: 19.7ms\tremaining: 3.91s\n",
      "100:\tlearn: 1.0000000\ttest: 1.0000000\tbest: 1.0000000 (0)\ttotal: 1.68s\tremaining: 1.64s\n",
      "bestTest = 1\n",
      "bestIteration = 0\n",
      "Shrink model to first 1 iterations.\n"
     ]
    },
    {
     "name": "stderr",
     "output_type": "stream",
     "text": [
      " 79%|███████▉  | 27/34 [04:36<01:02,  8.99s/it]"
     ]
    },
    {
     "name": "stdout",
     "output_type": "stream",
     "text": [
      "Learning rate set to 0.085488\n",
      "0:\tlearn: 1.0000000\ttest: 1.0000000\tbest: 1.0000000 (0)\ttotal: 9.06ms\tremaining: 1.8s\n",
      "100:\tlearn: 1.0000000\ttest: 1.0000000\tbest: 1.0000000 (0)\ttotal: 1.73s\tremaining: 1.7s\n",
      "bestTest = 1\n",
      "bestIteration = 0\n",
      "Shrink model to first 1 iterations.\n",
      "Learning rate set to 0.085488\n",
      "0:\tlearn: 1.0000000\ttest: 1.0000000\tbest: 1.0000000 (0)\ttotal: 9.81ms\tremaining: 1.95s\n",
      "100:\tlearn: 1.0000000\ttest: 1.0000000\tbest: 1.0000000 (0)\ttotal: 1.77s\tremaining: 1.74s\n",
      "bestTest = 1\n",
      "bestIteration = 0\n",
      "Shrink model to first 1 iterations.\n"
     ]
    },
    {
     "name": "stderr",
     "output_type": "stream",
     "text": [
      " 82%|████████▏ | 28/34 [04:44<00:52,  8.70s/it]"
     ]
    },
    {
     "name": "stdout",
     "output_type": "stream",
     "text": [
      "Learning rate set to 0.085488\n",
      "0:\tlearn: 1.0000000\ttest: 1.0000000\tbest: 1.0000000 (0)\ttotal: 18.4ms\tremaining: 3.67s\n",
      "100:\tlearn: 1.0000000\ttest: 1.0000000\tbest: 1.0000000 (0)\ttotal: 1.74s\tremaining: 1.7s\n",
      "bestTest = 1\n",
      "bestIteration = 0\n",
      "Shrink model to first 1 iterations.\n",
      "Learning rate set to 0.085488\n",
      "0:\tlearn: 1.0000000\ttest: 1.0000000\tbest: 1.0000000 (0)\ttotal: 18.4ms\tremaining: 3.66s\n",
      "100:\tlearn: 1.0000000\ttest: 1.0000000\tbest: 1.0000000 (0)\ttotal: 1.72s\tremaining: 1.69s\n",
      "bestTest = 1\n",
      "bestIteration = 0\n",
      "Shrink model to first 1 iterations.\n"
     ]
    },
    {
     "name": "stderr",
     "output_type": "stream",
     "text": [
      " 85%|████████▌ | 29/34 [04:52<00:42,  8.47s/it]"
     ]
    },
    {
     "name": "stdout",
     "output_type": "stream",
     "text": [
      "Learning rate set to 0.085488\n",
      "0:\tlearn: 1.0000000\ttest: 1.0000000\tbest: 1.0000000 (0)\ttotal: 21.3ms\tremaining: 4.24s\n",
      "100:\tlearn: 1.0000000\ttest: 1.0000000\tbest: 1.0000000 (0)\ttotal: 1.68s\tremaining: 1.65s\n",
      "bestTest = 1\n",
      "bestIteration = 0\n",
      "Shrink model to first 1 iterations.\n",
      "Learning rate set to 0.085488\n",
      "0:\tlearn: 1.0000000\ttest: 1.0000000\tbest: 1.0000000 (0)\ttotal: 20.7ms\tremaining: 4.11s\n",
      "100:\tlearn: 1.0000000\ttest: 1.0000000\tbest: 1.0000000 (0)\ttotal: 1.76s\tremaining: 1.72s\n",
      "bestTest = 1\n",
      "bestIteration = 0\n",
      "Shrink model to first 1 iterations.\n"
     ]
    },
    {
     "name": "stderr",
     "output_type": "stream",
     "text": [
      " 88%|████████▊ | 30/34 [04:59<00:33,  8.31s/it]"
     ]
    },
    {
     "name": "stdout",
     "output_type": "stream",
     "text": [
      "Learning rate set to 0.085488\n",
      "0:\tlearn: 1.0000000\ttest: 1.0000000\tbest: 1.0000000 (0)\ttotal: 12.8ms\tremaining: 2.55s\n",
      "100:\tlearn: 1.0000000\ttest: 1.0000000\tbest: 1.0000000 (0)\ttotal: 1.66s\tremaining: 1.63s\n",
      "bestTest = 1\n",
      "bestIteration = 0\n",
      "Shrink model to first 1 iterations.\n",
      "Learning rate set to 0.085488\n",
      "0:\tlearn: 1.0000000\ttest: 1.0000000\tbest: 1.0000000 (0)\ttotal: 13ms\tremaining: 2.58s\n",
      "100:\tlearn: 1.0000000\ttest: 1.0000000\tbest: 1.0000000 (0)\ttotal: 1.62s\tremaining: 1.59s\n",
      "bestTest = 1\n",
      "bestIteration = 0\n",
      "Shrink model to first 1 iterations.\n"
     ]
    },
    {
     "name": "stderr",
     "output_type": "stream",
     "text": [
      " 91%|█████████ | 31/34 [05:07<00:24,  8.15s/it]"
     ]
    },
    {
     "name": "stdout",
     "output_type": "stream",
     "text": [
      "Learning rate set to 0.085488\n",
      "0:\tlearn: 0.8858871\ttest: 0.8838011\tbest: 0.8838011 (0)\ttotal: 18.5ms\tremaining: 3.69s\n",
      "100:\tlearn: 0.9144254\ttest: 0.9104141\tbest: 0.9106264 (98)\ttotal: 1.85s\tremaining: 1.82s\n",
      "199:\tlearn: 0.9193896\ttest: 0.9117918\tbest: 0.9123261 (150)\ttotal: 3.65s\tremaining: 0us\n",
      "bestTest = 0.9123261454\n",
      "bestIteration = 150\n",
      "Shrink model to first 151 iterations.\n",
      "Learning rate set to 0.085488\n",
      "0:\tlearn: 0.8847335\ttest: 0.8860816\tbest: 0.8860816 (0)\ttotal: 18.4ms\tremaining: 3.66s\n",
      "100:\tlearn: 0.9132346\ttest: 0.9108462\tbest: 0.9110471 (87)\ttotal: 1.86s\tremaining: 1.82s\n",
      "199:\tlearn: 0.9179412\ttest: 0.9117434\tbest: 0.9120771 (181)\ttotal: 3.64s\tremaining: 0us\n",
      "bestTest = 0.9120771181\n",
      "bestIteration = 181\n",
      "Shrink model to first 182 iterations.\n"
     ]
    },
    {
     "name": "stderr",
     "output_type": "stream",
     "text": [
      " 94%|█████████▍| 32/34 [05:19<00:18,  9.30s/it]"
     ]
    },
    {
     "name": "stdout",
     "output_type": "stream",
     "text": [
      "Learning rate set to 0.085488\n",
      "0:\tlearn: 1.0000000\ttest: 1.0000000\tbest: 1.0000000 (0)\ttotal: 16.2ms\tremaining: 3.23s\n",
      "100:\tlearn: 1.0000000\ttest: 1.0000000\tbest: 1.0000000 (0)\ttotal: 1.71s\tremaining: 1.67s\n",
      "bestTest = 1\n",
      "bestIteration = 0\n",
      "Shrink model to first 1 iterations.\n",
      "Learning rate set to 0.085488\n",
      "0:\tlearn: 1.0000000\ttest: 1.0000000\tbest: 1.0000000 (0)\ttotal: 22.6ms\tremaining: 4.5s\n",
      "100:\tlearn: 1.0000000\ttest: 1.0000000\tbest: 1.0000000 (0)\ttotal: 1.77s\tremaining: 1.73s\n",
      "bestTest = 1\n",
      "bestIteration = 0\n",
      "Shrink model to first 1 iterations.\n"
     ]
    },
    {
     "name": "stderr",
     "output_type": "stream",
     "text": [
      " 97%|█████████▋| 33/34 [05:27<00:08,  8.93s/it]"
     ]
    },
    {
     "name": "stdout",
     "output_type": "stream",
     "text": [
      "Learning rate set to 0.085488\n",
      "0:\tlearn: 1.0000000\ttest: 1.0000000\tbest: 1.0000000 (0)\ttotal: 13.4ms\tremaining: 2.66s\n",
      "100:\tlearn: 1.0000000\ttest: 1.0000000\tbest: 1.0000000 (0)\ttotal: 1.5s\tremaining: 1.47s\n",
      "bestTest = 1\n",
      "bestIteration = 0\n",
      "Shrink model to first 1 iterations.\n",
      "Learning rate set to 0.085488\n",
      "0:\tlearn: 1.0000000\ttest: 1.0000000\tbest: 1.0000000 (0)\ttotal: 13.1ms\tremaining: 2.6s\n",
      "100:\tlearn: 1.0000000\ttest: 1.0000000\tbest: 1.0000000 (0)\ttotal: 1.58s\tremaining: 1.55s\n",
      "bestTest = 1\n",
      "bestIteration = 0\n",
      "Shrink model to first 1 iterations.\n"
     ]
    },
    {
     "name": "stderr",
     "output_type": "stream",
     "text": [
      "100%|██████████| 34/34 [05:35<00:00,  9.86s/it]"
     ]
    },
    {
     "name": "stdout",
     "output_type": "stream",
     "text": [
      "Avg Precision : 0.9552098791212453\n",
      "Avg Recall : 0.9848533601863747\n",
      "Avg F1 : 0.9693023922205946\n",
      "Avg TP : 0.9848533601863747\n",
      "Avg TN : 0.9507873174973731\n",
      "Avg FN : 0.015146639813625322\n",
      "avgAccs : 0.9678203425494876\n"
     ]
    },
    {
     "name": "stderr",
     "output_type": "stream",
     "text": [
      "\n"
     ]
    }
   ],
   "source": [
    "\n",
    "for part in tqdm(targetCol):\n",
    "    X = multilabelDf[allInputFeature + [\"CaseID\"]]\n",
    "    Y = multilabelDf[part].to_frame()\n",
    "    mulitlearnStratify = StratifiedKFold(n_splits=2)\n",
    "    allCaseIdByPart = []\n",
    "    allPredByPart = []\n",
    "    allGtByPart = []\n",
    "\n",
    "    for kfoldId, (train_index, test_index) in enumerate(mulitlearnStratify.split(X, Y)):\n",
    "        X_train, X_test = X.iloc[train_index], X.iloc[test_index]\n",
    "        Y_train, Y_test = Y.iloc[train_index], Y.iloc[test_index]\n",
    "        trainCaseId = X_train[\"CaseID\"]\n",
    "        testCaseId = X_test[\"CaseID\"]\n",
    "        X_train = X_train[allInputFeature]\n",
    "        X_test = X_test[allInputFeature]\n",
    "        clsWeight=class_weight.compute_class_weight(class_weight='balanced',classes=np.unique(Y_train.values),y=Y_train.values.squeeze(1))\n",
    "\n",
    "        testClsWeights = {\n",
    "            0 : clsWeight[0],\n",
    "            1 : clsWeight[1]\n",
    "\n",
    "        }\n",
    "        sampleWeights = class_weight.compute_sample_weight(class_weight=testClsWeights, y=Y_test.values)\n",
    "\n",
    "        train_pool = Pool(\n",
    "            X_train, Y_train, cat_features=caseFeatures + allVisionFeatures\n",
    "        )\n",
    "        test_pool = Pool(X_test, Y_test, cat_features=caseFeatures + allVisionFeatures)\n",
    "        clf = CatBoostClassifier(\n",
    "            loss_function=\"Logloss\",\n",
    "            eval_metric=\"F1\",\n",
    "            iterations=200,\n",
    "            early_stopping_rounds=100,\n",
    "            task_type=\"GPU\",\n",
    "            use_best_model=True,\n",
    "            class_weights= clsWeight,\n",
    "\n",
    "            # class_names=[\"not_dmg\", \"dmg\"],\n",
    "        )\n",
    "        clf.fit(\n",
    "            train_pool, eval_set=test_pool, metric_period=100, plot=False, verbose=1\n",
    "        )\n",
    "        test_predict = clf.predict(X_test)\n",
    "        b = Y_test.values.squeeze(1).astype(np.int64)\n",
    "        acc = accuracy_score(b, test_predict, sample_weight=sampleWeights)\n",
    "        confMat = confusion_matrix(b, test_predict, sample_weight=sampleWeights)\n",
    "        pos_count = len(Y_test[Y_test[part] == 1]) / len(Y_test)\n",
    "        tn = confMat[0][0]\n",
    "        tp = confMat[1][1]\n",
    "        fp = confMat[0][1]\n",
    "        fn = confMat[1][0]\n",
    "        totalSample = fp + fn + tp + tn\n",
    "        acc = (tp + tn) / (fp + fn + tp + tn)\n",
    "        precision = tp / (tp + fp)\n",
    "        recall = tp / (tp + fn)\n",
    "        # assert (tp / (tp + fn)) + (fn / (tp + fn)) == (tn / (tn + fp)) + (\n",
    "        #     fp / (tn + fp)\n",
    "        # ) \n",
    "        allPredByPart.extend(test_predict)\n",
    "        \n",
    "        allCaseIdByPart.extend(testCaseId)\n",
    "        allGtByPart.extend(b)\n",
    "\n",
    "        allPredModel.append(\n",
    "            {   \"kfold\" : kfoldId,\n",
    "                \"part\": part,\n",
    "                \"tp\": tp / (tp + fn),\n",
    "                \"tn\": tn / (tn + fp),\n",
    "                \"fp\": fp / (tn + fp),\n",
    "                \"fn\": fn / (tp + fn),\n",
    "                \"acc\": acc,\n",
    "                \"precision\": precision,\n",
    "                \"recall\": recall,\n",
    "                \"f1\": (2 * precision * recall) / (precision + recall),\n",
    "                \"pos_count\": pos_count,\n",
    "            }\n",
    "        )\n",
    "    allPreds.append({\n",
    "    \"CaseID\": allCaseIdByPart,\n",
    "    part : allPredByPart})\n",
    "    allGt.append({\n",
    "    \"CaseID\": allCaseIdByPart,\n",
    "    part : allGtByPart})\n",
    " \n",
    "\n",
    "evalMetrics = pd.json_normalize(allPredModel)\n",
    "avgPrecision = evalMetrics[\"precision\"].mean()\n",
    "avgRecall = evalMetrics[\"recall\"].mean()\n",
    "avgF1 = evalMetrics[\"f1\"].mean()\n",
    "avgTp = evalMetrics[\"tp\"].mean()\n",
    "avgTn = evalMetrics[\"tn\"].mean()\n",
    "avgAcc = evalMetrics[\"acc\"].mean()\n",
    "avgFn = evalMetrics[\"fn\"].mean()\n",
    "\n",
    "print(f\"Avg Precision : {avgPrecision}\")\n",
    "print(f\"Avg Recall : {avgRecall}\")\n",
    "print(f\"Avg F1 : {avgF1}\")\n",
    "print(f\"Avg TP : {avgTp}\")\n",
    "print(f\"Avg TN : {avgTn}\")\n",
    "print(f\"Avg FN : {avgFn}\")\n",
    "\n",
    "print(f\"avgAccs : {avgAcc}\")"
   ]
  },
  {
   "cell_type": "code",
   "execution_count": 17,
   "metadata": {},
   "outputs": [],
   "source": [
    "evalMetrics = evalMetrics[evalMetrics[\"kfold\"] == 0]"
   ]
  },
  {
   "cell_type": "code",
   "execution_count": 18,
   "metadata": {},
   "outputs": [
    {
     "data": {
      "application/vnd.plotly.v1+json": {
       "config": {
        "plotlyServerURL": "https://plot.ly"
       },
       "data": [
        {
         "alignmentgroup": "True",
         "hovertemplate": "part=%{x}<br>tp=%{y}<extra></extra>",
         "legendgroup": "",
         "marker": {
          "color": "#636efa",
          "pattern": {
           "shape": ""
          }
         },
         "name": "",
         "offsetgroup": "",
         "orientation": "v",
         "showlegend": false,
         "textposition": "auto",
         "type": "bar",
         "x": [
          "bonnet",
          "bumper_front",
          "grille",
          "fog_lamp_rh",
          "headlamp_lh",
          "headlamp_rh",
          "door_front_lh",
          "door_front_rh",
          "air_conditioning",
          "cooling_fan",
          "radiator",
          "bumper_rear",
          "misc",
          "engine",
          "airbag",
          "front_panel",
          "undercarriage",
          "wheel",
          "fender_front_lh",
          "fender_front_rh",
          "door_mirror_rh",
          "rear_quarter_lh",
          "interior",
          "tail_lamp_lh",
          "fog_lamp_lh",
          "tail_lamp_rh",
          "windscreen_front",
          "rear_compartment",
          "rear_panel",
          "rear_quarter_rh",
          "door_rear_rh",
          "door_mirror_lh",
          "door_rear_lh",
          "windscreen_rear"
         ],
         "xaxis": "x",
         "y": [
          1,
          1,
          1,
          0.9722120255487946,
          0.9999029775123434,
          0.999905593085218,
          1,
          1,
          0.9530159463831847,
          0.9176810007160799,
          0.9556604219888553,
          1,
          0.996514799965049,
          0.9522182506307824,
          0.9638669714622903,
          1,
          0.9953064472055635,
          1,
          1,
          1,
          0.9213588686531171,
          1,
          0.9746605748355622,
          1,
          0.978576662787193,
          1,
          1,
          1,
          1,
          1,
          1,
          0.9316157149266094,
          1,
          1
         ],
         "yaxis": "y"
        }
       ],
       "layout": {
        "barmode": "relative",
        "legend": {
         "tracegroupgap": 0
        },
        "margin": {
         "t": 60
        },
        "shapes": [
         {
          "line": {
           "color": "red",
           "width": 2
          },
          "type": "line",
          "x0": 0,
          "x1": 1,
          "xref": "x domain",
          "y0": 0.9848533601863747,
          "y1": 0.9848533601863747,
          "yref": "y"
         }
        ],
        "template": {
         "data": {
          "bar": [
           {
            "error_x": {
             "color": "#2a3f5f"
            },
            "error_y": {
             "color": "#2a3f5f"
            },
            "marker": {
             "line": {
              "color": "#E5ECF6",
              "width": 0.5
             },
             "pattern": {
              "fillmode": "overlay",
              "size": 10,
              "solidity": 0.2
             }
            },
            "type": "bar"
           }
          ],
          "barpolar": [
           {
            "marker": {
             "line": {
              "color": "#E5ECF6",
              "width": 0.5
             },
             "pattern": {
              "fillmode": "overlay",
              "size": 10,
              "solidity": 0.2
             }
            },
            "type": "barpolar"
           }
          ],
          "carpet": [
           {
            "aaxis": {
             "endlinecolor": "#2a3f5f",
             "gridcolor": "white",
             "linecolor": "white",
             "minorgridcolor": "white",
             "startlinecolor": "#2a3f5f"
            },
            "baxis": {
             "endlinecolor": "#2a3f5f",
             "gridcolor": "white",
             "linecolor": "white",
             "minorgridcolor": "white",
             "startlinecolor": "#2a3f5f"
            },
            "type": "carpet"
           }
          ],
          "choropleth": [
           {
            "colorbar": {
             "outlinewidth": 0,
             "ticks": ""
            },
            "type": "choropleth"
           }
          ],
          "contour": [
           {
            "colorbar": {
             "outlinewidth": 0,
             "ticks": ""
            },
            "colorscale": [
             [
              0,
              "#0d0887"
             ],
             [
              0.1111111111111111,
              "#46039f"
             ],
             [
              0.2222222222222222,
              "#7201a8"
             ],
             [
              0.3333333333333333,
              "#9c179e"
             ],
             [
              0.4444444444444444,
              "#bd3786"
             ],
             [
              0.5555555555555556,
              "#d8576b"
             ],
             [
              0.6666666666666666,
              "#ed7953"
             ],
             [
              0.7777777777777778,
              "#fb9f3a"
             ],
             [
              0.8888888888888888,
              "#fdca26"
             ],
             [
              1,
              "#f0f921"
             ]
            ],
            "type": "contour"
           }
          ],
          "contourcarpet": [
           {
            "colorbar": {
             "outlinewidth": 0,
             "ticks": ""
            },
            "type": "contourcarpet"
           }
          ],
          "heatmap": [
           {
            "colorbar": {
             "outlinewidth": 0,
             "ticks": ""
            },
            "colorscale": [
             [
              0,
              "#0d0887"
             ],
             [
              0.1111111111111111,
              "#46039f"
             ],
             [
              0.2222222222222222,
              "#7201a8"
             ],
             [
              0.3333333333333333,
              "#9c179e"
             ],
             [
              0.4444444444444444,
              "#bd3786"
             ],
             [
              0.5555555555555556,
              "#d8576b"
             ],
             [
              0.6666666666666666,
              "#ed7953"
             ],
             [
              0.7777777777777778,
              "#fb9f3a"
             ],
             [
              0.8888888888888888,
              "#fdca26"
             ],
             [
              1,
              "#f0f921"
             ]
            ],
            "type": "heatmap"
           }
          ],
          "heatmapgl": [
           {
            "colorbar": {
             "outlinewidth": 0,
             "ticks": ""
            },
            "colorscale": [
             [
              0,
              "#0d0887"
             ],
             [
              0.1111111111111111,
              "#46039f"
             ],
             [
              0.2222222222222222,
              "#7201a8"
             ],
             [
              0.3333333333333333,
              "#9c179e"
             ],
             [
              0.4444444444444444,
              "#bd3786"
             ],
             [
              0.5555555555555556,
              "#d8576b"
             ],
             [
              0.6666666666666666,
              "#ed7953"
             ],
             [
              0.7777777777777778,
              "#fb9f3a"
             ],
             [
              0.8888888888888888,
              "#fdca26"
             ],
             [
              1,
              "#f0f921"
             ]
            ],
            "type": "heatmapgl"
           }
          ],
          "histogram": [
           {
            "marker": {
             "pattern": {
              "fillmode": "overlay",
              "size": 10,
              "solidity": 0.2
             }
            },
            "type": "histogram"
           }
          ],
          "histogram2d": [
           {
            "colorbar": {
             "outlinewidth": 0,
             "ticks": ""
            },
            "colorscale": [
             [
              0,
              "#0d0887"
             ],
             [
              0.1111111111111111,
              "#46039f"
             ],
             [
              0.2222222222222222,
              "#7201a8"
             ],
             [
              0.3333333333333333,
              "#9c179e"
             ],
             [
              0.4444444444444444,
              "#bd3786"
             ],
             [
              0.5555555555555556,
              "#d8576b"
             ],
             [
              0.6666666666666666,
              "#ed7953"
             ],
             [
              0.7777777777777778,
              "#fb9f3a"
             ],
             [
              0.8888888888888888,
              "#fdca26"
             ],
             [
              1,
              "#f0f921"
             ]
            ],
            "type": "histogram2d"
           }
          ],
          "histogram2dcontour": [
           {
            "colorbar": {
             "outlinewidth": 0,
             "ticks": ""
            },
            "colorscale": [
             [
              0,
              "#0d0887"
             ],
             [
              0.1111111111111111,
              "#46039f"
             ],
             [
              0.2222222222222222,
              "#7201a8"
             ],
             [
              0.3333333333333333,
              "#9c179e"
             ],
             [
              0.4444444444444444,
              "#bd3786"
             ],
             [
              0.5555555555555556,
              "#d8576b"
             ],
             [
              0.6666666666666666,
              "#ed7953"
             ],
             [
              0.7777777777777778,
              "#fb9f3a"
             ],
             [
              0.8888888888888888,
              "#fdca26"
             ],
             [
              1,
              "#f0f921"
             ]
            ],
            "type": "histogram2dcontour"
           }
          ],
          "mesh3d": [
           {
            "colorbar": {
             "outlinewidth": 0,
             "ticks": ""
            },
            "type": "mesh3d"
           }
          ],
          "parcoords": [
           {
            "line": {
             "colorbar": {
              "outlinewidth": 0,
              "ticks": ""
             }
            },
            "type": "parcoords"
           }
          ],
          "pie": [
           {
            "automargin": true,
            "type": "pie"
           }
          ],
          "scatter": [
           {
            "fillpattern": {
             "fillmode": "overlay",
             "size": 10,
             "solidity": 0.2
            },
            "type": "scatter"
           }
          ],
          "scatter3d": [
           {
            "line": {
             "colorbar": {
              "outlinewidth": 0,
              "ticks": ""
             }
            },
            "marker": {
             "colorbar": {
              "outlinewidth": 0,
              "ticks": ""
             }
            },
            "type": "scatter3d"
           }
          ],
          "scattercarpet": [
           {
            "marker": {
             "colorbar": {
              "outlinewidth": 0,
              "ticks": ""
             }
            },
            "type": "scattercarpet"
           }
          ],
          "scattergeo": [
           {
            "marker": {
             "colorbar": {
              "outlinewidth": 0,
              "ticks": ""
             }
            },
            "type": "scattergeo"
           }
          ],
          "scattergl": [
           {
            "marker": {
             "colorbar": {
              "outlinewidth": 0,
              "ticks": ""
             }
            },
            "type": "scattergl"
           }
          ],
          "scattermapbox": [
           {
            "marker": {
             "colorbar": {
              "outlinewidth": 0,
              "ticks": ""
             }
            },
            "type": "scattermapbox"
           }
          ],
          "scatterpolar": [
           {
            "marker": {
             "colorbar": {
              "outlinewidth": 0,
              "ticks": ""
             }
            },
            "type": "scatterpolar"
           }
          ],
          "scatterpolargl": [
           {
            "marker": {
             "colorbar": {
              "outlinewidth": 0,
              "ticks": ""
             }
            },
            "type": "scatterpolargl"
           }
          ],
          "scatterternary": [
           {
            "marker": {
             "colorbar": {
              "outlinewidth": 0,
              "ticks": ""
             }
            },
            "type": "scatterternary"
           }
          ],
          "surface": [
           {
            "colorbar": {
             "outlinewidth": 0,
             "ticks": ""
            },
            "colorscale": [
             [
              0,
              "#0d0887"
             ],
             [
              0.1111111111111111,
              "#46039f"
             ],
             [
              0.2222222222222222,
              "#7201a8"
             ],
             [
              0.3333333333333333,
              "#9c179e"
             ],
             [
              0.4444444444444444,
              "#bd3786"
             ],
             [
              0.5555555555555556,
              "#d8576b"
             ],
             [
              0.6666666666666666,
              "#ed7953"
             ],
             [
              0.7777777777777778,
              "#fb9f3a"
             ],
             [
              0.8888888888888888,
              "#fdca26"
             ],
             [
              1,
              "#f0f921"
             ]
            ],
            "type": "surface"
           }
          ],
          "table": [
           {
            "cells": {
             "fill": {
              "color": "#EBF0F8"
             },
             "line": {
              "color": "white"
             }
            },
            "header": {
             "fill": {
              "color": "#C8D4E3"
             },
             "line": {
              "color": "white"
             }
            },
            "type": "table"
           }
          ]
         },
         "layout": {
          "annotationdefaults": {
           "arrowcolor": "#2a3f5f",
           "arrowhead": 0,
           "arrowwidth": 1
          },
          "autotypenumbers": "strict",
          "coloraxis": {
           "colorbar": {
            "outlinewidth": 0,
            "ticks": ""
           }
          },
          "colorscale": {
           "diverging": [
            [
             0,
             "#8e0152"
            ],
            [
             0.1,
             "#c51b7d"
            ],
            [
             0.2,
             "#de77ae"
            ],
            [
             0.3,
             "#f1b6da"
            ],
            [
             0.4,
             "#fde0ef"
            ],
            [
             0.5,
             "#f7f7f7"
            ],
            [
             0.6,
             "#e6f5d0"
            ],
            [
             0.7,
             "#b8e186"
            ],
            [
             0.8,
             "#7fbc41"
            ],
            [
             0.9,
             "#4d9221"
            ],
            [
             1,
             "#276419"
            ]
           ],
           "sequential": [
            [
             0,
             "#0d0887"
            ],
            [
             0.1111111111111111,
             "#46039f"
            ],
            [
             0.2222222222222222,
             "#7201a8"
            ],
            [
             0.3333333333333333,
             "#9c179e"
            ],
            [
             0.4444444444444444,
             "#bd3786"
            ],
            [
             0.5555555555555556,
             "#d8576b"
            ],
            [
             0.6666666666666666,
             "#ed7953"
            ],
            [
             0.7777777777777778,
             "#fb9f3a"
            ],
            [
             0.8888888888888888,
             "#fdca26"
            ],
            [
             1,
             "#f0f921"
            ]
           ],
           "sequentialminus": [
            [
             0,
             "#0d0887"
            ],
            [
             0.1111111111111111,
             "#46039f"
            ],
            [
             0.2222222222222222,
             "#7201a8"
            ],
            [
             0.3333333333333333,
             "#9c179e"
            ],
            [
             0.4444444444444444,
             "#bd3786"
            ],
            [
             0.5555555555555556,
             "#d8576b"
            ],
            [
             0.6666666666666666,
             "#ed7953"
            ],
            [
             0.7777777777777778,
             "#fb9f3a"
            ],
            [
             0.8888888888888888,
             "#fdca26"
            ],
            [
             1,
             "#f0f921"
            ]
           ]
          },
          "colorway": [
           "#636efa",
           "#EF553B",
           "#00cc96",
           "#ab63fa",
           "#FFA15A",
           "#19d3f3",
           "#FF6692",
           "#B6E880",
           "#FF97FF",
           "#FECB52"
          ],
          "font": {
           "color": "#2a3f5f"
          },
          "geo": {
           "bgcolor": "white",
           "lakecolor": "white",
           "landcolor": "#E5ECF6",
           "showlakes": true,
           "showland": true,
           "subunitcolor": "white"
          },
          "hoverlabel": {
           "align": "left"
          },
          "hovermode": "closest",
          "mapbox": {
           "style": "light"
          },
          "paper_bgcolor": "white",
          "plot_bgcolor": "#E5ECF6",
          "polar": {
           "angularaxis": {
            "gridcolor": "white",
            "linecolor": "white",
            "ticks": ""
           },
           "bgcolor": "#E5ECF6",
           "radialaxis": {
            "gridcolor": "white",
            "linecolor": "white",
            "ticks": ""
           }
          },
          "scene": {
           "xaxis": {
            "backgroundcolor": "#E5ECF6",
            "gridcolor": "white",
            "gridwidth": 2,
            "linecolor": "white",
            "showbackground": true,
            "ticks": "",
            "zerolinecolor": "white"
           },
           "yaxis": {
            "backgroundcolor": "#E5ECF6",
            "gridcolor": "white",
            "gridwidth": 2,
            "linecolor": "white",
            "showbackground": true,
            "ticks": "",
            "zerolinecolor": "white"
           },
           "zaxis": {
            "backgroundcolor": "#E5ECF6",
            "gridcolor": "white",
            "gridwidth": 2,
            "linecolor": "white",
            "showbackground": true,
            "ticks": "",
            "zerolinecolor": "white"
           }
          },
          "shapedefaults": {
           "line": {
            "color": "#2a3f5f"
           }
          },
          "ternary": {
           "aaxis": {
            "gridcolor": "white",
            "linecolor": "white",
            "ticks": ""
           },
           "baxis": {
            "gridcolor": "white",
            "linecolor": "white",
            "ticks": ""
           },
           "bgcolor": "#E5ECF6",
           "caxis": {
            "gridcolor": "white",
            "linecolor": "white",
            "ticks": ""
           }
          },
          "title": {
           "x": 0.05
          },
          "xaxis": {
           "automargin": true,
           "gridcolor": "white",
           "linecolor": "white",
           "ticks": "",
           "title": {
            "standoff": 15
           },
           "zerolinecolor": "white",
           "zerolinewidth": 2
          },
          "yaxis": {
           "automargin": true,
           "gridcolor": "white",
           "linecolor": "white",
           "ticks": "",
           "title": {
            "standoff": 15
           },
           "zerolinecolor": "white",
           "zerolinewidth": 2
          }
         }
        },
        "xaxis": {
         "anchor": "y",
         "domain": [
          0,
          1
         ],
         "title": {
          "text": "part"
         }
        },
        "yaxis": {
         "anchor": "x",
         "domain": [
          0,
          1
         ],
         "tickmode": "array",
         "tickvals": [
          "0.98",
          0.2,
          0.5,
          0.7
         ],
         "title": {
          "text": "tp"
         }
        }
       }
      }
     },
     "metadata": {},
     "output_type": "display_data"
    }
   ],
   "source": [
    "fig = px.bar(evalMetrics, x = 'part', y = 'tp')\n",
    "\n",
    "fig.add_hline(y=avgTp, line_width=2, line_color=\"red\")\n",
    "\n",
    "fig.update_layout(\n",
    "    yaxis = dict(\n",
    "        tickmode = 'array',\n",
    "        tickvals = [np.format_float_positional(avgTp, 2), 0.2, 0.5, 0.7],\n",
    "    )\n",
    ")\n",
    "fig"
   ]
  },
  {
   "cell_type": "code",
   "execution_count": 19,
   "metadata": {},
   "outputs": [
    {
     "data": {
      "application/vnd.plotly.v1+json": {
       "config": {
        "plotlyServerURL": "https://plot.ly"
       },
       "data": [
        {
         "alignmentgroup": "True",
         "hovertemplate": "part=%{x}<br>tn=%{y}<extra></extra>",
         "legendgroup": "",
         "marker": {
          "color": "#636efa",
          "pattern": {
           "shape": ""
          }
         },
         "name": "",
         "offsetgroup": "",
         "orientation": "v",
         "showlegend": false,
         "textposition": "auto",
         "type": "bar",
         "x": [
          "bonnet",
          "bumper_front",
          "grille",
          "fog_lamp_rh",
          "headlamp_lh",
          "headlamp_rh",
          "door_front_lh",
          "door_front_rh",
          "air_conditioning",
          "cooling_fan",
          "radiator",
          "bumper_rear",
          "misc",
          "engine",
          "airbag",
          "front_panel",
          "undercarriage",
          "wheel",
          "fender_front_lh",
          "fender_front_rh",
          "door_mirror_rh",
          "rear_quarter_lh",
          "interior",
          "tail_lamp_lh",
          "fog_lamp_lh",
          "tail_lamp_rh",
          "windscreen_front",
          "rear_compartment",
          "rear_panel",
          "rear_quarter_rh",
          "door_rear_rh",
          "door_mirror_lh",
          "door_rear_lh",
          "windscreen_rear"
         ],
         "xaxis": "x",
         "y": [
          1,
          1,
          1,
          0.8013228489729853,
          0.9703091929013633,
          0.9612330663256501,
          1,
          1,
          0.8692074615510349,
          0.8163168189065506,
          0.8308716494627207,
          1,
          0.9416453617675874,
          0.8537620238500739,
          0.8857894599537228,
          1,
          0.9416561623751205,
          1,
          1,
          1,
          0.8803458709752185,
          1,
          0.8781964548918495,
          1,
          0.7946534828023418,
          1,
          1,
          1,
          1,
          1,
          1,
          0.8893220605473293,
          1,
          1
         ],
         "yaxis": "y"
        }
       ],
       "layout": {
        "barmode": "relative",
        "legend": {
         "tracegroupgap": 0
        },
        "margin": {
         "t": 60
        },
        "shapes": [
         {
          "line": {
           "color": "red",
           "width": 2
          },
          "type": "line",
          "x0": 0,
          "x1": 1,
          "xref": "x domain",
          "y0": 0.9507873174973731,
          "y1": 0.9507873174973731,
          "yref": "y"
         }
        ],
        "template": {
         "data": {
          "bar": [
           {
            "error_x": {
             "color": "#2a3f5f"
            },
            "error_y": {
             "color": "#2a3f5f"
            },
            "marker": {
             "line": {
              "color": "#E5ECF6",
              "width": 0.5
             },
             "pattern": {
              "fillmode": "overlay",
              "size": 10,
              "solidity": 0.2
             }
            },
            "type": "bar"
           }
          ],
          "barpolar": [
           {
            "marker": {
             "line": {
              "color": "#E5ECF6",
              "width": 0.5
             },
             "pattern": {
              "fillmode": "overlay",
              "size": 10,
              "solidity": 0.2
             }
            },
            "type": "barpolar"
           }
          ],
          "carpet": [
           {
            "aaxis": {
             "endlinecolor": "#2a3f5f",
             "gridcolor": "white",
             "linecolor": "white",
             "minorgridcolor": "white",
             "startlinecolor": "#2a3f5f"
            },
            "baxis": {
             "endlinecolor": "#2a3f5f",
             "gridcolor": "white",
             "linecolor": "white",
             "minorgridcolor": "white",
             "startlinecolor": "#2a3f5f"
            },
            "type": "carpet"
           }
          ],
          "choropleth": [
           {
            "colorbar": {
             "outlinewidth": 0,
             "ticks": ""
            },
            "type": "choropleth"
           }
          ],
          "contour": [
           {
            "colorbar": {
             "outlinewidth": 0,
             "ticks": ""
            },
            "colorscale": [
             [
              0,
              "#0d0887"
             ],
             [
              0.1111111111111111,
              "#46039f"
             ],
             [
              0.2222222222222222,
              "#7201a8"
             ],
             [
              0.3333333333333333,
              "#9c179e"
             ],
             [
              0.4444444444444444,
              "#bd3786"
             ],
             [
              0.5555555555555556,
              "#d8576b"
             ],
             [
              0.6666666666666666,
              "#ed7953"
             ],
             [
              0.7777777777777778,
              "#fb9f3a"
             ],
             [
              0.8888888888888888,
              "#fdca26"
             ],
             [
              1,
              "#f0f921"
             ]
            ],
            "type": "contour"
           }
          ],
          "contourcarpet": [
           {
            "colorbar": {
             "outlinewidth": 0,
             "ticks": ""
            },
            "type": "contourcarpet"
           }
          ],
          "heatmap": [
           {
            "colorbar": {
             "outlinewidth": 0,
             "ticks": ""
            },
            "colorscale": [
             [
              0,
              "#0d0887"
             ],
             [
              0.1111111111111111,
              "#46039f"
             ],
             [
              0.2222222222222222,
              "#7201a8"
             ],
             [
              0.3333333333333333,
              "#9c179e"
             ],
             [
              0.4444444444444444,
              "#bd3786"
             ],
             [
              0.5555555555555556,
              "#d8576b"
             ],
             [
              0.6666666666666666,
              "#ed7953"
             ],
             [
              0.7777777777777778,
              "#fb9f3a"
             ],
             [
              0.8888888888888888,
              "#fdca26"
             ],
             [
              1,
              "#f0f921"
             ]
            ],
            "type": "heatmap"
           }
          ],
          "heatmapgl": [
           {
            "colorbar": {
             "outlinewidth": 0,
             "ticks": ""
            },
            "colorscale": [
             [
              0,
              "#0d0887"
             ],
             [
              0.1111111111111111,
              "#46039f"
             ],
             [
              0.2222222222222222,
              "#7201a8"
             ],
             [
              0.3333333333333333,
              "#9c179e"
             ],
             [
              0.4444444444444444,
              "#bd3786"
             ],
             [
              0.5555555555555556,
              "#d8576b"
             ],
             [
              0.6666666666666666,
              "#ed7953"
             ],
             [
              0.7777777777777778,
              "#fb9f3a"
             ],
             [
              0.8888888888888888,
              "#fdca26"
             ],
             [
              1,
              "#f0f921"
             ]
            ],
            "type": "heatmapgl"
           }
          ],
          "histogram": [
           {
            "marker": {
             "pattern": {
              "fillmode": "overlay",
              "size": 10,
              "solidity": 0.2
             }
            },
            "type": "histogram"
           }
          ],
          "histogram2d": [
           {
            "colorbar": {
             "outlinewidth": 0,
             "ticks": ""
            },
            "colorscale": [
             [
              0,
              "#0d0887"
             ],
             [
              0.1111111111111111,
              "#46039f"
             ],
             [
              0.2222222222222222,
              "#7201a8"
             ],
             [
              0.3333333333333333,
              "#9c179e"
             ],
             [
              0.4444444444444444,
              "#bd3786"
             ],
             [
              0.5555555555555556,
              "#d8576b"
             ],
             [
              0.6666666666666666,
              "#ed7953"
             ],
             [
              0.7777777777777778,
              "#fb9f3a"
             ],
             [
              0.8888888888888888,
              "#fdca26"
             ],
             [
              1,
              "#f0f921"
             ]
            ],
            "type": "histogram2d"
           }
          ],
          "histogram2dcontour": [
           {
            "colorbar": {
             "outlinewidth": 0,
             "ticks": ""
            },
            "colorscale": [
             [
              0,
              "#0d0887"
             ],
             [
              0.1111111111111111,
              "#46039f"
             ],
             [
              0.2222222222222222,
              "#7201a8"
             ],
             [
              0.3333333333333333,
              "#9c179e"
             ],
             [
              0.4444444444444444,
              "#bd3786"
             ],
             [
              0.5555555555555556,
              "#d8576b"
             ],
             [
              0.6666666666666666,
              "#ed7953"
             ],
             [
              0.7777777777777778,
              "#fb9f3a"
             ],
             [
              0.8888888888888888,
              "#fdca26"
             ],
             [
              1,
              "#f0f921"
             ]
            ],
            "type": "histogram2dcontour"
           }
          ],
          "mesh3d": [
           {
            "colorbar": {
             "outlinewidth": 0,
             "ticks": ""
            },
            "type": "mesh3d"
           }
          ],
          "parcoords": [
           {
            "line": {
             "colorbar": {
              "outlinewidth": 0,
              "ticks": ""
             }
            },
            "type": "parcoords"
           }
          ],
          "pie": [
           {
            "automargin": true,
            "type": "pie"
           }
          ],
          "scatter": [
           {
            "fillpattern": {
             "fillmode": "overlay",
             "size": 10,
             "solidity": 0.2
            },
            "type": "scatter"
           }
          ],
          "scatter3d": [
           {
            "line": {
             "colorbar": {
              "outlinewidth": 0,
              "ticks": ""
             }
            },
            "marker": {
             "colorbar": {
              "outlinewidth": 0,
              "ticks": ""
             }
            },
            "type": "scatter3d"
           }
          ],
          "scattercarpet": [
           {
            "marker": {
             "colorbar": {
              "outlinewidth": 0,
              "ticks": ""
             }
            },
            "type": "scattercarpet"
           }
          ],
          "scattergeo": [
           {
            "marker": {
             "colorbar": {
              "outlinewidth": 0,
              "ticks": ""
             }
            },
            "type": "scattergeo"
           }
          ],
          "scattergl": [
           {
            "marker": {
             "colorbar": {
              "outlinewidth": 0,
              "ticks": ""
             }
            },
            "type": "scattergl"
           }
          ],
          "scattermapbox": [
           {
            "marker": {
             "colorbar": {
              "outlinewidth": 0,
              "ticks": ""
             }
            },
            "type": "scattermapbox"
           }
          ],
          "scatterpolar": [
           {
            "marker": {
             "colorbar": {
              "outlinewidth": 0,
              "ticks": ""
             }
            },
            "type": "scatterpolar"
           }
          ],
          "scatterpolargl": [
           {
            "marker": {
             "colorbar": {
              "outlinewidth": 0,
              "ticks": ""
             }
            },
            "type": "scatterpolargl"
           }
          ],
          "scatterternary": [
           {
            "marker": {
             "colorbar": {
              "outlinewidth": 0,
              "ticks": ""
             }
            },
            "type": "scatterternary"
           }
          ],
          "surface": [
           {
            "colorbar": {
             "outlinewidth": 0,
             "ticks": ""
            },
            "colorscale": [
             [
              0,
              "#0d0887"
             ],
             [
              0.1111111111111111,
              "#46039f"
             ],
             [
              0.2222222222222222,
              "#7201a8"
             ],
             [
              0.3333333333333333,
              "#9c179e"
             ],
             [
              0.4444444444444444,
              "#bd3786"
             ],
             [
              0.5555555555555556,
              "#d8576b"
             ],
             [
              0.6666666666666666,
              "#ed7953"
             ],
             [
              0.7777777777777778,
              "#fb9f3a"
             ],
             [
              0.8888888888888888,
              "#fdca26"
             ],
             [
              1,
              "#f0f921"
             ]
            ],
            "type": "surface"
           }
          ],
          "table": [
           {
            "cells": {
             "fill": {
              "color": "#EBF0F8"
             },
             "line": {
              "color": "white"
             }
            },
            "header": {
             "fill": {
              "color": "#C8D4E3"
             },
             "line": {
              "color": "white"
             }
            },
            "type": "table"
           }
          ]
         },
         "layout": {
          "annotationdefaults": {
           "arrowcolor": "#2a3f5f",
           "arrowhead": 0,
           "arrowwidth": 1
          },
          "autotypenumbers": "strict",
          "coloraxis": {
           "colorbar": {
            "outlinewidth": 0,
            "ticks": ""
           }
          },
          "colorscale": {
           "diverging": [
            [
             0,
             "#8e0152"
            ],
            [
             0.1,
             "#c51b7d"
            ],
            [
             0.2,
             "#de77ae"
            ],
            [
             0.3,
             "#f1b6da"
            ],
            [
             0.4,
             "#fde0ef"
            ],
            [
             0.5,
             "#f7f7f7"
            ],
            [
             0.6,
             "#e6f5d0"
            ],
            [
             0.7,
             "#b8e186"
            ],
            [
             0.8,
             "#7fbc41"
            ],
            [
             0.9,
             "#4d9221"
            ],
            [
             1,
             "#276419"
            ]
           ],
           "sequential": [
            [
             0,
             "#0d0887"
            ],
            [
             0.1111111111111111,
             "#46039f"
            ],
            [
             0.2222222222222222,
             "#7201a8"
            ],
            [
             0.3333333333333333,
             "#9c179e"
            ],
            [
             0.4444444444444444,
             "#bd3786"
            ],
            [
             0.5555555555555556,
             "#d8576b"
            ],
            [
             0.6666666666666666,
             "#ed7953"
            ],
            [
             0.7777777777777778,
             "#fb9f3a"
            ],
            [
             0.8888888888888888,
             "#fdca26"
            ],
            [
             1,
             "#f0f921"
            ]
           ],
           "sequentialminus": [
            [
             0,
             "#0d0887"
            ],
            [
             0.1111111111111111,
             "#46039f"
            ],
            [
             0.2222222222222222,
             "#7201a8"
            ],
            [
             0.3333333333333333,
             "#9c179e"
            ],
            [
             0.4444444444444444,
             "#bd3786"
            ],
            [
             0.5555555555555556,
             "#d8576b"
            ],
            [
             0.6666666666666666,
             "#ed7953"
            ],
            [
             0.7777777777777778,
             "#fb9f3a"
            ],
            [
             0.8888888888888888,
             "#fdca26"
            ],
            [
             1,
             "#f0f921"
            ]
           ]
          },
          "colorway": [
           "#636efa",
           "#EF553B",
           "#00cc96",
           "#ab63fa",
           "#FFA15A",
           "#19d3f3",
           "#FF6692",
           "#B6E880",
           "#FF97FF",
           "#FECB52"
          ],
          "font": {
           "color": "#2a3f5f"
          },
          "geo": {
           "bgcolor": "white",
           "lakecolor": "white",
           "landcolor": "#E5ECF6",
           "showlakes": true,
           "showland": true,
           "subunitcolor": "white"
          },
          "hoverlabel": {
           "align": "left"
          },
          "hovermode": "closest",
          "mapbox": {
           "style": "light"
          },
          "paper_bgcolor": "white",
          "plot_bgcolor": "#E5ECF6",
          "polar": {
           "angularaxis": {
            "gridcolor": "white",
            "linecolor": "white",
            "ticks": ""
           },
           "bgcolor": "#E5ECF6",
           "radialaxis": {
            "gridcolor": "white",
            "linecolor": "white",
            "ticks": ""
           }
          },
          "scene": {
           "xaxis": {
            "backgroundcolor": "#E5ECF6",
            "gridcolor": "white",
            "gridwidth": 2,
            "linecolor": "white",
            "showbackground": true,
            "ticks": "",
            "zerolinecolor": "white"
           },
           "yaxis": {
            "backgroundcolor": "#E5ECF6",
            "gridcolor": "white",
            "gridwidth": 2,
            "linecolor": "white",
            "showbackground": true,
            "ticks": "",
            "zerolinecolor": "white"
           },
           "zaxis": {
            "backgroundcolor": "#E5ECF6",
            "gridcolor": "white",
            "gridwidth": 2,
            "linecolor": "white",
            "showbackground": true,
            "ticks": "",
            "zerolinecolor": "white"
           }
          },
          "shapedefaults": {
           "line": {
            "color": "#2a3f5f"
           }
          },
          "ternary": {
           "aaxis": {
            "gridcolor": "white",
            "linecolor": "white",
            "ticks": ""
           },
           "baxis": {
            "gridcolor": "white",
            "linecolor": "white",
            "ticks": ""
           },
           "bgcolor": "#E5ECF6",
           "caxis": {
            "gridcolor": "white",
            "linecolor": "white",
            "ticks": ""
           }
          },
          "title": {
           "x": 0.05
          },
          "xaxis": {
           "automargin": true,
           "gridcolor": "white",
           "linecolor": "white",
           "ticks": "",
           "title": {
            "standoff": 15
           },
           "zerolinecolor": "white",
           "zerolinewidth": 2
          },
          "yaxis": {
           "automargin": true,
           "gridcolor": "white",
           "linecolor": "white",
           "ticks": "",
           "title": {
            "standoff": 15
           },
           "zerolinecolor": "white",
           "zerolinewidth": 2
          }
         }
        },
        "xaxis": {
         "anchor": "y",
         "domain": [
          0,
          1
         ],
         "title": {
          "text": "part"
         }
        },
        "yaxis": {
         "anchor": "x",
         "domain": [
          0,
          1
         ],
         "tickmode": "array",
         "tickvals": [
          "0.95",
          0.2,
          0.5,
          0.7
         ],
         "title": {
          "text": "tn"
         }
        }
       }
      }
     },
     "metadata": {},
     "output_type": "display_data"
    }
   ],
   "source": [
    "fig = px.bar(evalMetrics, x = 'part', y = 'tn')\n",
    "\n",
    "fig.add_hline(y=avgTn, line_width=2, line_color=\"red\")\n",
    "\n",
    "fig.update_layout(\n",
    "    yaxis = dict(\n",
    "        tickmode = 'array',\n",
    "        tickvals = [np.format_float_positional(avgTn, 2), 0.2, 0.5, 0.7],\n",
    "    )\n",
    ")\n",
    "fig"
   ]
  },
  {
   "cell_type": "code",
   "execution_count": 20,
   "metadata": {},
   "outputs": [
    {
     "data": {
      "application/vnd.plotly.v1+json": {
       "config": {
        "plotlyServerURL": "https://plot.ly"
       },
       "data": [
        {
         "alignmentgroup": "True",
         "hovertemplate": "part=%{x}<br>acc=%{y}<extra></extra>",
         "legendgroup": "",
         "marker": {
          "color": "#636efa",
          "pattern": {
           "shape": ""
          }
         },
         "name": "",
         "offsetgroup": "",
         "orientation": "v",
         "showlegend": false,
         "textposition": "auto",
         "type": "bar",
         "x": [
          "bonnet",
          "bumper_front",
          "grille",
          "fog_lamp_rh",
          "headlamp_lh",
          "headlamp_rh",
          "door_front_lh",
          "door_front_rh",
          "air_conditioning",
          "cooling_fan",
          "radiator",
          "bumper_rear",
          "misc",
          "engine",
          "airbag",
          "front_panel",
          "undercarriage",
          "wheel",
          "fender_front_lh",
          "fender_front_rh",
          "door_mirror_rh",
          "rear_quarter_lh",
          "interior",
          "tail_lamp_lh",
          "fog_lamp_lh",
          "tail_lamp_rh",
          "windscreen_front",
          "rear_compartment",
          "rear_panel",
          "rear_quarter_rh",
          "door_rear_rh",
          "door_mirror_lh",
          "door_rear_lh",
          "windscreen_rear"
         ],
         "xaxis": "x",
         "y": [
          1,
          1,
          1,
          0.8867690055405921,
          0.9851061649645916,
          0.9805694311213151,
          1,
          1,
          0.9111116036747255,
          0.8669988076149948,
          0.8932664046984278,
          1,
          0.9690800095863752,
          0.9029903960103272,
          0.92482893540934,
          1,
          0.9684815203831458,
          1,
          1,
          1,
          0.9008523327033647,
          1,
          0.9264284237187485,
          1,
          0.8866149039040208,
          1,
          1,
          1,
          1,
          1,
          1,
          0.9104695654112694,
          1,
          1
         ],
         "yaxis": "y"
        }
       ],
       "layout": {
        "barmode": "relative",
        "legend": {
         "tracegroupgap": 0
        },
        "margin": {
         "t": 60
        },
        "shapes": [
         {
          "line": {
           "color": "red",
           "width": 2
          },
          "type": "line",
          "x0": 0,
          "x1": 1,
          "xref": "x domain",
          "y0": 0.9507873174973731,
          "y1": 0.9507873174973731,
          "yref": "y"
         }
        ],
        "template": {
         "data": {
          "bar": [
           {
            "error_x": {
             "color": "#2a3f5f"
            },
            "error_y": {
             "color": "#2a3f5f"
            },
            "marker": {
             "line": {
              "color": "#E5ECF6",
              "width": 0.5
             },
             "pattern": {
              "fillmode": "overlay",
              "size": 10,
              "solidity": 0.2
             }
            },
            "type": "bar"
           }
          ],
          "barpolar": [
           {
            "marker": {
             "line": {
              "color": "#E5ECF6",
              "width": 0.5
             },
             "pattern": {
              "fillmode": "overlay",
              "size": 10,
              "solidity": 0.2
             }
            },
            "type": "barpolar"
           }
          ],
          "carpet": [
           {
            "aaxis": {
             "endlinecolor": "#2a3f5f",
             "gridcolor": "white",
             "linecolor": "white",
             "minorgridcolor": "white",
             "startlinecolor": "#2a3f5f"
            },
            "baxis": {
             "endlinecolor": "#2a3f5f",
             "gridcolor": "white",
             "linecolor": "white",
             "minorgridcolor": "white",
             "startlinecolor": "#2a3f5f"
            },
            "type": "carpet"
           }
          ],
          "choropleth": [
           {
            "colorbar": {
             "outlinewidth": 0,
             "ticks": ""
            },
            "type": "choropleth"
           }
          ],
          "contour": [
           {
            "colorbar": {
             "outlinewidth": 0,
             "ticks": ""
            },
            "colorscale": [
             [
              0,
              "#0d0887"
             ],
             [
              0.1111111111111111,
              "#46039f"
             ],
             [
              0.2222222222222222,
              "#7201a8"
             ],
             [
              0.3333333333333333,
              "#9c179e"
             ],
             [
              0.4444444444444444,
              "#bd3786"
             ],
             [
              0.5555555555555556,
              "#d8576b"
             ],
             [
              0.6666666666666666,
              "#ed7953"
             ],
             [
              0.7777777777777778,
              "#fb9f3a"
             ],
             [
              0.8888888888888888,
              "#fdca26"
             ],
             [
              1,
              "#f0f921"
             ]
            ],
            "type": "contour"
           }
          ],
          "contourcarpet": [
           {
            "colorbar": {
             "outlinewidth": 0,
             "ticks": ""
            },
            "type": "contourcarpet"
           }
          ],
          "heatmap": [
           {
            "colorbar": {
             "outlinewidth": 0,
             "ticks": ""
            },
            "colorscale": [
             [
              0,
              "#0d0887"
             ],
             [
              0.1111111111111111,
              "#46039f"
             ],
             [
              0.2222222222222222,
              "#7201a8"
             ],
             [
              0.3333333333333333,
              "#9c179e"
             ],
             [
              0.4444444444444444,
              "#bd3786"
             ],
             [
              0.5555555555555556,
              "#d8576b"
             ],
             [
              0.6666666666666666,
              "#ed7953"
             ],
             [
              0.7777777777777778,
              "#fb9f3a"
             ],
             [
              0.8888888888888888,
              "#fdca26"
             ],
             [
              1,
              "#f0f921"
             ]
            ],
            "type": "heatmap"
           }
          ],
          "heatmapgl": [
           {
            "colorbar": {
             "outlinewidth": 0,
             "ticks": ""
            },
            "colorscale": [
             [
              0,
              "#0d0887"
             ],
             [
              0.1111111111111111,
              "#46039f"
             ],
             [
              0.2222222222222222,
              "#7201a8"
             ],
             [
              0.3333333333333333,
              "#9c179e"
             ],
             [
              0.4444444444444444,
              "#bd3786"
             ],
             [
              0.5555555555555556,
              "#d8576b"
             ],
             [
              0.6666666666666666,
              "#ed7953"
             ],
             [
              0.7777777777777778,
              "#fb9f3a"
             ],
             [
              0.8888888888888888,
              "#fdca26"
             ],
             [
              1,
              "#f0f921"
             ]
            ],
            "type": "heatmapgl"
           }
          ],
          "histogram": [
           {
            "marker": {
             "pattern": {
              "fillmode": "overlay",
              "size": 10,
              "solidity": 0.2
             }
            },
            "type": "histogram"
           }
          ],
          "histogram2d": [
           {
            "colorbar": {
             "outlinewidth": 0,
             "ticks": ""
            },
            "colorscale": [
             [
              0,
              "#0d0887"
             ],
             [
              0.1111111111111111,
              "#46039f"
             ],
             [
              0.2222222222222222,
              "#7201a8"
             ],
             [
              0.3333333333333333,
              "#9c179e"
             ],
             [
              0.4444444444444444,
              "#bd3786"
             ],
             [
              0.5555555555555556,
              "#d8576b"
             ],
             [
              0.6666666666666666,
              "#ed7953"
             ],
             [
              0.7777777777777778,
              "#fb9f3a"
             ],
             [
              0.8888888888888888,
              "#fdca26"
             ],
             [
              1,
              "#f0f921"
             ]
            ],
            "type": "histogram2d"
           }
          ],
          "histogram2dcontour": [
           {
            "colorbar": {
             "outlinewidth": 0,
             "ticks": ""
            },
            "colorscale": [
             [
              0,
              "#0d0887"
             ],
             [
              0.1111111111111111,
              "#46039f"
             ],
             [
              0.2222222222222222,
              "#7201a8"
             ],
             [
              0.3333333333333333,
              "#9c179e"
             ],
             [
              0.4444444444444444,
              "#bd3786"
             ],
             [
              0.5555555555555556,
              "#d8576b"
             ],
             [
              0.6666666666666666,
              "#ed7953"
             ],
             [
              0.7777777777777778,
              "#fb9f3a"
             ],
             [
              0.8888888888888888,
              "#fdca26"
             ],
             [
              1,
              "#f0f921"
             ]
            ],
            "type": "histogram2dcontour"
           }
          ],
          "mesh3d": [
           {
            "colorbar": {
             "outlinewidth": 0,
             "ticks": ""
            },
            "type": "mesh3d"
           }
          ],
          "parcoords": [
           {
            "line": {
             "colorbar": {
              "outlinewidth": 0,
              "ticks": ""
             }
            },
            "type": "parcoords"
           }
          ],
          "pie": [
           {
            "automargin": true,
            "type": "pie"
           }
          ],
          "scatter": [
           {
            "fillpattern": {
             "fillmode": "overlay",
             "size": 10,
             "solidity": 0.2
            },
            "type": "scatter"
           }
          ],
          "scatter3d": [
           {
            "line": {
             "colorbar": {
              "outlinewidth": 0,
              "ticks": ""
             }
            },
            "marker": {
             "colorbar": {
              "outlinewidth": 0,
              "ticks": ""
             }
            },
            "type": "scatter3d"
           }
          ],
          "scattercarpet": [
           {
            "marker": {
             "colorbar": {
              "outlinewidth": 0,
              "ticks": ""
             }
            },
            "type": "scattercarpet"
           }
          ],
          "scattergeo": [
           {
            "marker": {
             "colorbar": {
              "outlinewidth": 0,
              "ticks": ""
             }
            },
            "type": "scattergeo"
           }
          ],
          "scattergl": [
           {
            "marker": {
             "colorbar": {
              "outlinewidth": 0,
              "ticks": ""
             }
            },
            "type": "scattergl"
           }
          ],
          "scattermapbox": [
           {
            "marker": {
             "colorbar": {
              "outlinewidth": 0,
              "ticks": ""
             }
            },
            "type": "scattermapbox"
           }
          ],
          "scatterpolar": [
           {
            "marker": {
             "colorbar": {
              "outlinewidth": 0,
              "ticks": ""
             }
            },
            "type": "scatterpolar"
           }
          ],
          "scatterpolargl": [
           {
            "marker": {
             "colorbar": {
              "outlinewidth": 0,
              "ticks": ""
             }
            },
            "type": "scatterpolargl"
           }
          ],
          "scatterternary": [
           {
            "marker": {
             "colorbar": {
              "outlinewidth": 0,
              "ticks": ""
             }
            },
            "type": "scatterternary"
           }
          ],
          "surface": [
           {
            "colorbar": {
             "outlinewidth": 0,
             "ticks": ""
            },
            "colorscale": [
             [
              0,
              "#0d0887"
             ],
             [
              0.1111111111111111,
              "#46039f"
             ],
             [
              0.2222222222222222,
              "#7201a8"
             ],
             [
              0.3333333333333333,
              "#9c179e"
             ],
             [
              0.4444444444444444,
              "#bd3786"
             ],
             [
              0.5555555555555556,
              "#d8576b"
             ],
             [
              0.6666666666666666,
              "#ed7953"
             ],
             [
              0.7777777777777778,
              "#fb9f3a"
             ],
             [
              0.8888888888888888,
              "#fdca26"
             ],
             [
              1,
              "#f0f921"
             ]
            ],
            "type": "surface"
           }
          ],
          "table": [
           {
            "cells": {
             "fill": {
              "color": "#EBF0F8"
             },
             "line": {
              "color": "white"
             }
            },
            "header": {
             "fill": {
              "color": "#C8D4E3"
             },
             "line": {
              "color": "white"
             }
            },
            "type": "table"
           }
          ]
         },
         "layout": {
          "annotationdefaults": {
           "arrowcolor": "#2a3f5f",
           "arrowhead": 0,
           "arrowwidth": 1
          },
          "autotypenumbers": "strict",
          "coloraxis": {
           "colorbar": {
            "outlinewidth": 0,
            "ticks": ""
           }
          },
          "colorscale": {
           "diverging": [
            [
             0,
             "#8e0152"
            ],
            [
             0.1,
             "#c51b7d"
            ],
            [
             0.2,
             "#de77ae"
            ],
            [
             0.3,
             "#f1b6da"
            ],
            [
             0.4,
             "#fde0ef"
            ],
            [
             0.5,
             "#f7f7f7"
            ],
            [
             0.6,
             "#e6f5d0"
            ],
            [
             0.7,
             "#b8e186"
            ],
            [
             0.8,
             "#7fbc41"
            ],
            [
             0.9,
             "#4d9221"
            ],
            [
             1,
             "#276419"
            ]
           ],
           "sequential": [
            [
             0,
             "#0d0887"
            ],
            [
             0.1111111111111111,
             "#46039f"
            ],
            [
             0.2222222222222222,
             "#7201a8"
            ],
            [
             0.3333333333333333,
             "#9c179e"
            ],
            [
             0.4444444444444444,
             "#bd3786"
            ],
            [
             0.5555555555555556,
             "#d8576b"
            ],
            [
             0.6666666666666666,
             "#ed7953"
            ],
            [
             0.7777777777777778,
             "#fb9f3a"
            ],
            [
             0.8888888888888888,
             "#fdca26"
            ],
            [
             1,
             "#f0f921"
            ]
           ],
           "sequentialminus": [
            [
             0,
             "#0d0887"
            ],
            [
             0.1111111111111111,
             "#46039f"
            ],
            [
             0.2222222222222222,
             "#7201a8"
            ],
            [
             0.3333333333333333,
             "#9c179e"
            ],
            [
             0.4444444444444444,
             "#bd3786"
            ],
            [
             0.5555555555555556,
             "#d8576b"
            ],
            [
             0.6666666666666666,
             "#ed7953"
            ],
            [
             0.7777777777777778,
             "#fb9f3a"
            ],
            [
             0.8888888888888888,
             "#fdca26"
            ],
            [
             1,
             "#f0f921"
            ]
           ]
          },
          "colorway": [
           "#636efa",
           "#EF553B",
           "#00cc96",
           "#ab63fa",
           "#FFA15A",
           "#19d3f3",
           "#FF6692",
           "#B6E880",
           "#FF97FF",
           "#FECB52"
          ],
          "font": {
           "color": "#2a3f5f"
          },
          "geo": {
           "bgcolor": "white",
           "lakecolor": "white",
           "landcolor": "#E5ECF6",
           "showlakes": true,
           "showland": true,
           "subunitcolor": "white"
          },
          "hoverlabel": {
           "align": "left"
          },
          "hovermode": "closest",
          "mapbox": {
           "style": "light"
          },
          "paper_bgcolor": "white",
          "plot_bgcolor": "#E5ECF6",
          "polar": {
           "angularaxis": {
            "gridcolor": "white",
            "linecolor": "white",
            "ticks": ""
           },
           "bgcolor": "#E5ECF6",
           "radialaxis": {
            "gridcolor": "white",
            "linecolor": "white",
            "ticks": ""
           }
          },
          "scene": {
           "xaxis": {
            "backgroundcolor": "#E5ECF6",
            "gridcolor": "white",
            "gridwidth": 2,
            "linecolor": "white",
            "showbackground": true,
            "ticks": "",
            "zerolinecolor": "white"
           },
           "yaxis": {
            "backgroundcolor": "#E5ECF6",
            "gridcolor": "white",
            "gridwidth": 2,
            "linecolor": "white",
            "showbackground": true,
            "ticks": "",
            "zerolinecolor": "white"
           },
           "zaxis": {
            "backgroundcolor": "#E5ECF6",
            "gridcolor": "white",
            "gridwidth": 2,
            "linecolor": "white",
            "showbackground": true,
            "ticks": "",
            "zerolinecolor": "white"
           }
          },
          "shapedefaults": {
           "line": {
            "color": "#2a3f5f"
           }
          },
          "ternary": {
           "aaxis": {
            "gridcolor": "white",
            "linecolor": "white",
            "ticks": ""
           },
           "baxis": {
            "gridcolor": "white",
            "linecolor": "white",
            "ticks": ""
           },
           "bgcolor": "#E5ECF6",
           "caxis": {
            "gridcolor": "white",
            "linecolor": "white",
            "ticks": ""
           }
          },
          "title": {
           "x": 0.05
          },
          "xaxis": {
           "automargin": true,
           "gridcolor": "white",
           "linecolor": "white",
           "ticks": "",
           "title": {
            "standoff": 15
           },
           "zerolinecolor": "white",
           "zerolinewidth": 2
          },
          "yaxis": {
           "automargin": true,
           "gridcolor": "white",
           "linecolor": "white",
           "ticks": "",
           "title": {
            "standoff": 15
           },
           "zerolinecolor": "white",
           "zerolinewidth": 2
          }
         }
        },
        "xaxis": {
         "anchor": "y",
         "domain": [
          0,
          1
         ],
         "title": {
          "text": "part"
         }
        },
        "yaxis": {
         "anchor": "x",
         "domain": [
          0,
          1
         ],
         "tickmode": "array",
         "tickvals": [
          "0.97",
          0.2,
          0.5,
          0.7
         ],
         "title": {
          "text": "acc"
         }
        }
       }
      }
     },
     "metadata": {},
     "output_type": "display_data"
    }
   ],
   "source": [
    "fig = px.bar(evalMetrics, x = 'part', y = 'acc')\n",
    "\n",
    "fig.add_hline(y=avgTn, line_width=2, line_color=\"red\")\n",
    "\n",
    "fig.update_layout(\n",
    "    yaxis = dict(\n",
    "        tickmode = 'array',\n",
    "        tickvals = [np.format_float_positional(avgAcc, 2), 0.2, 0.5, 0.7],\n",
    "    )\n",
    ")"
   ]
  },
  {
   "cell_type": "code",
   "execution_count": 21,
   "metadata": {},
   "outputs": [
    {
     "data": {
      "application/vnd.plotly.v1+json": {
       "config": {
        "plotlyServerURL": "https://plot.ly"
       },
       "data": [
        {
         "alignmentgroup": "True",
         "hovertemplate": "part=%{x}<br>f1=%{y}<extra></extra>",
         "legendgroup": "",
         "marker": {
          "color": "#636efa",
          "pattern": {
           "shape": ""
          }
         },
         "name": "",
         "offsetgroup": "",
         "orientation": "v",
         "showlegend": false,
         "textposition": "auto",
         "type": "bar",
         "x": [
          "bonnet",
          "bumper_front",
          "grille",
          "fog_lamp_rh",
          "headlamp_lh",
          "headlamp_rh",
          "door_front_lh",
          "door_front_rh",
          "air_conditioning",
          "cooling_fan",
          "radiator",
          "bumper_rear",
          "misc",
          "engine",
          "airbag",
          "front_panel",
          "undercarriage",
          "wheel",
          "fender_front_lh",
          "fender_front_rh",
          "door_mirror_rh",
          "rear_quarter_lh",
          "interior",
          "tail_lamp_lh",
          "fog_lamp_lh",
          "tail_lamp_rh",
          "windscreen_front",
          "rear_compartment",
          "rear_panel",
          "rear_quarter_rh",
          "door_rear_rh",
          "door_mirror_lh",
          "door_rear_lh",
          "windscreen_rear"
         ],
         "xaxis": "x",
         "y": [
          1,
          1,
          1,
          0.8956839457038195,
          0.9853234108053539,
          0.9809381147884717,
          1,
          1,
          0.9146864186325452,
          0.8734142184036829,
          0.8995353646541452,
          1,
          0.9699055661527267,
          0.9075423505230106,
          0.927654449169943,
          1,
          0.9693051529448514,
          1,
          1,
          1,
          0.9028444935919447,
          1,
          0.9298135384660711,
          1,
          0.8961636872470381,
          1,
          1,
          1,
          1,
          1,
          1,
          0.912326147285292,
          1,
          1
         ],
         "yaxis": "y"
        }
       ],
       "layout": {
        "barmode": "relative",
        "legend": {
         "tracegroupgap": 0
        },
        "margin": {
         "t": 60
        },
        "shapes": [
         {
          "line": {
           "color": "red",
           "width": 2
          },
          "type": "line",
          "x0": 0,
          "x1": 1,
          "xref": "x domain",
          "y0": 0.9693023922205946,
          "y1": 0.9693023922205946,
          "yref": "y"
         }
        ],
        "template": {
         "data": {
          "bar": [
           {
            "error_x": {
             "color": "#2a3f5f"
            },
            "error_y": {
             "color": "#2a3f5f"
            },
            "marker": {
             "line": {
              "color": "#E5ECF6",
              "width": 0.5
             },
             "pattern": {
              "fillmode": "overlay",
              "size": 10,
              "solidity": 0.2
             }
            },
            "type": "bar"
           }
          ],
          "barpolar": [
           {
            "marker": {
             "line": {
              "color": "#E5ECF6",
              "width": 0.5
             },
             "pattern": {
              "fillmode": "overlay",
              "size": 10,
              "solidity": 0.2
             }
            },
            "type": "barpolar"
           }
          ],
          "carpet": [
           {
            "aaxis": {
             "endlinecolor": "#2a3f5f",
             "gridcolor": "white",
             "linecolor": "white",
             "minorgridcolor": "white",
             "startlinecolor": "#2a3f5f"
            },
            "baxis": {
             "endlinecolor": "#2a3f5f",
             "gridcolor": "white",
             "linecolor": "white",
             "minorgridcolor": "white",
             "startlinecolor": "#2a3f5f"
            },
            "type": "carpet"
           }
          ],
          "choropleth": [
           {
            "colorbar": {
             "outlinewidth": 0,
             "ticks": ""
            },
            "type": "choropleth"
           }
          ],
          "contour": [
           {
            "colorbar": {
             "outlinewidth": 0,
             "ticks": ""
            },
            "colorscale": [
             [
              0,
              "#0d0887"
             ],
             [
              0.1111111111111111,
              "#46039f"
             ],
             [
              0.2222222222222222,
              "#7201a8"
             ],
             [
              0.3333333333333333,
              "#9c179e"
             ],
             [
              0.4444444444444444,
              "#bd3786"
             ],
             [
              0.5555555555555556,
              "#d8576b"
             ],
             [
              0.6666666666666666,
              "#ed7953"
             ],
             [
              0.7777777777777778,
              "#fb9f3a"
             ],
             [
              0.8888888888888888,
              "#fdca26"
             ],
             [
              1,
              "#f0f921"
             ]
            ],
            "type": "contour"
           }
          ],
          "contourcarpet": [
           {
            "colorbar": {
             "outlinewidth": 0,
             "ticks": ""
            },
            "type": "contourcarpet"
           }
          ],
          "heatmap": [
           {
            "colorbar": {
             "outlinewidth": 0,
             "ticks": ""
            },
            "colorscale": [
             [
              0,
              "#0d0887"
             ],
             [
              0.1111111111111111,
              "#46039f"
             ],
             [
              0.2222222222222222,
              "#7201a8"
             ],
             [
              0.3333333333333333,
              "#9c179e"
             ],
             [
              0.4444444444444444,
              "#bd3786"
             ],
             [
              0.5555555555555556,
              "#d8576b"
             ],
             [
              0.6666666666666666,
              "#ed7953"
             ],
             [
              0.7777777777777778,
              "#fb9f3a"
             ],
             [
              0.8888888888888888,
              "#fdca26"
             ],
             [
              1,
              "#f0f921"
             ]
            ],
            "type": "heatmap"
           }
          ],
          "heatmapgl": [
           {
            "colorbar": {
             "outlinewidth": 0,
             "ticks": ""
            },
            "colorscale": [
             [
              0,
              "#0d0887"
             ],
             [
              0.1111111111111111,
              "#46039f"
             ],
             [
              0.2222222222222222,
              "#7201a8"
             ],
             [
              0.3333333333333333,
              "#9c179e"
             ],
             [
              0.4444444444444444,
              "#bd3786"
             ],
             [
              0.5555555555555556,
              "#d8576b"
             ],
             [
              0.6666666666666666,
              "#ed7953"
             ],
             [
              0.7777777777777778,
              "#fb9f3a"
             ],
             [
              0.8888888888888888,
              "#fdca26"
             ],
             [
              1,
              "#f0f921"
             ]
            ],
            "type": "heatmapgl"
           }
          ],
          "histogram": [
           {
            "marker": {
             "pattern": {
              "fillmode": "overlay",
              "size": 10,
              "solidity": 0.2
             }
            },
            "type": "histogram"
           }
          ],
          "histogram2d": [
           {
            "colorbar": {
             "outlinewidth": 0,
             "ticks": ""
            },
            "colorscale": [
             [
              0,
              "#0d0887"
             ],
             [
              0.1111111111111111,
              "#46039f"
             ],
             [
              0.2222222222222222,
              "#7201a8"
             ],
             [
              0.3333333333333333,
              "#9c179e"
             ],
             [
              0.4444444444444444,
              "#bd3786"
             ],
             [
              0.5555555555555556,
              "#d8576b"
             ],
             [
              0.6666666666666666,
              "#ed7953"
             ],
             [
              0.7777777777777778,
              "#fb9f3a"
             ],
             [
              0.8888888888888888,
              "#fdca26"
             ],
             [
              1,
              "#f0f921"
             ]
            ],
            "type": "histogram2d"
           }
          ],
          "histogram2dcontour": [
           {
            "colorbar": {
             "outlinewidth": 0,
             "ticks": ""
            },
            "colorscale": [
             [
              0,
              "#0d0887"
             ],
             [
              0.1111111111111111,
              "#46039f"
             ],
             [
              0.2222222222222222,
              "#7201a8"
             ],
             [
              0.3333333333333333,
              "#9c179e"
             ],
             [
              0.4444444444444444,
              "#bd3786"
             ],
             [
              0.5555555555555556,
              "#d8576b"
             ],
             [
              0.6666666666666666,
              "#ed7953"
             ],
             [
              0.7777777777777778,
              "#fb9f3a"
             ],
             [
              0.8888888888888888,
              "#fdca26"
             ],
             [
              1,
              "#f0f921"
             ]
            ],
            "type": "histogram2dcontour"
           }
          ],
          "mesh3d": [
           {
            "colorbar": {
             "outlinewidth": 0,
             "ticks": ""
            },
            "type": "mesh3d"
           }
          ],
          "parcoords": [
           {
            "line": {
             "colorbar": {
              "outlinewidth": 0,
              "ticks": ""
             }
            },
            "type": "parcoords"
           }
          ],
          "pie": [
           {
            "automargin": true,
            "type": "pie"
           }
          ],
          "scatter": [
           {
            "fillpattern": {
             "fillmode": "overlay",
             "size": 10,
             "solidity": 0.2
            },
            "type": "scatter"
           }
          ],
          "scatter3d": [
           {
            "line": {
             "colorbar": {
              "outlinewidth": 0,
              "ticks": ""
             }
            },
            "marker": {
             "colorbar": {
              "outlinewidth": 0,
              "ticks": ""
             }
            },
            "type": "scatter3d"
           }
          ],
          "scattercarpet": [
           {
            "marker": {
             "colorbar": {
              "outlinewidth": 0,
              "ticks": ""
             }
            },
            "type": "scattercarpet"
           }
          ],
          "scattergeo": [
           {
            "marker": {
             "colorbar": {
              "outlinewidth": 0,
              "ticks": ""
             }
            },
            "type": "scattergeo"
           }
          ],
          "scattergl": [
           {
            "marker": {
             "colorbar": {
              "outlinewidth": 0,
              "ticks": ""
             }
            },
            "type": "scattergl"
           }
          ],
          "scattermapbox": [
           {
            "marker": {
             "colorbar": {
              "outlinewidth": 0,
              "ticks": ""
             }
            },
            "type": "scattermapbox"
           }
          ],
          "scatterpolar": [
           {
            "marker": {
             "colorbar": {
              "outlinewidth": 0,
              "ticks": ""
             }
            },
            "type": "scatterpolar"
           }
          ],
          "scatterpolargl": [
           {
            "marker": {
             "colorbar": {
              "outlinewidth": 0,
              "ticks": ""
             }
            },
            "type": "scatterpolargl"
           }
          ],
          "scatterternary": [
           {
            "marker": {
             "colorbar": {
              "outlinewidth": 0,
              "ticks": ""
             }
            },
            "type": "scatterternary"
           }
          ],
          "surface": [
           {
            "colorbar": {
             "outlinewidth": 0,
             "ticks": ""
            },
            "colorscale": [
             [
              0,
              "#0d0887"
             ],
             [
              0.1111111111111111,
              "#46039f"
             ],
             [
              0.2222222222222222,
              "#7201a8"
             ],
             [
              0.3333333333333333,
              "#9c179e"
             ],
             [
              0.4444444444444444,
              "#bd3786"
             ],
             [
              0.5555555555555556,
              "#d8576b"
             ],
             [
              0.6666666666666666,
              "#ed7953"
             ],
             [
              0.7777777777777778,
              "#fb9f3a"
             ],
             [
              0.8888888888888888,
              "#fdca26"
             ],
             [
              1,
              "#f0f921"
             ]
            ],
            "type": "surface"
           }
          ],
          "table": [
           {
            "cells": {
             "fill": {
              "color": "#EBF0F8"
             },
             "line": {
              "color": "white"
             }
            },
            "header": {
             "fill": {
              "color": "#C8D4E3"
             },
             "line": {
              "color": "white"
             }
            },
            "type": "table"
           }
          ]
         },
         "layout": {
          "annotationdefaults": {
           "arrowcolor": "#2a3f5f",
           "arrowhead": 0,
           "arrowwidth": 1
          },
          "autotypenumbers": "strict",
          "coloraxis": {
           "colorbar": {
            "outlinewidth": 0,
            "ticks": ""
           }
          },
          "colorscale": {
           "diverging": [
            [
             0,
             "#8e0152"
            ],
            [
             0.1,
             "#c51b7d"
            ],
            [
             0.2,
             "#de77ae"
            ],
            [
             0.3,
             "#f1b6da"
            ],
            [
             0.4,
             "#fde0ef"
            ],
            [
             0.5,
             "#f7f7f7"
            ],
            [
             0.6,
             "#e6f5d0"
            ],
            [
             0.7,
             "#b8e186"
            ],
            [
             0.8,
             "#7fbc41"
            ],
            [
             0.9,
             "#4d9221"
            ],
            [
             1,
             "#276419"
            ]
           ],
           "sequential": [
            [
             0,
             "#0d0887"
            ],
            [
             0.1111111111111111,
             "#46039f"
            ],
            [
             0.2222222222222222,
             "#7201a8"
            ],
            [
             0.3333333333333333,
             "#9c179e"
            ],
            [
             0.4444444444444444,
             "#bd3786"
            ],
            [
             0.5555555555555556,
             "#d8576b"
            ],
            [
             0.6666666666666666,
             "#ed7953"
            ],
            [
             0.7777777777777778,
             "#fb9f3a"
            ],
            [
             0.8888888888888888,
             "#fdca26"
            ],
            [
             1,
             "#f0f921"
            ]
           ],
           "sequentialminus": [
            [
             0,
             "#0d0887"
            ],
            [
             0.1111111111111111,
             "#46039f"
            ],
            [
             0.2222222222222222,
             "#7201a8"
            ],
            [
             0.3333333333333333,
             "#9c179e"
            ],
            [
             0.4444444444444444,
             "#bd3786"
            ],
            [
             0.5555555555555556,
             "#d8576b"
            ],
            [
             0.6666666666666666,
             "#ed7953"
            ],
            [
             0.7777777777777778,
             "#fb9f3a"
            ],
            [
             0.8888888888888888,
             "#fdca26"
            ],
            [
             1,
             "#f0f921"
            ]
           ]
          },
          "colorway": [
           "#636efa",
           "#EF553B",
           "#00cc96",
           "#ab63fa",
           "#FFA15A",
           "#19d3f3",
           "#FF6692",
           "#B6E880",
           "#FF97FF",
           "#FECB52"
          ],
          "font": {
           "color": "#2a3f5f"
          },
          "geo": {
           "bgcolor": "white",
           "lakecolor": "white",
           "landcolor": "#E5ECF6",
           "showlakes": true,
           "showland": true,
           "subunitcolor": "white"
          },
          "hoverlabel": {
           "align": "left"
          },
          "hovermode": "closest",
          "mapbox": {
           "style": "light"
          },
          "paper_bgcolor": "white",
          "plot_bgcolor": "#E5ECF6",
          "polar": {
           "angularaxis": {
            "gridcolor": "white",
            "linecolor": "white",
            "ticks": ""
           },
           "bgcolor": "#E5ECF6",
           "radialaxis": {
            "gridcolor": "white",
            "linecolor": "white",
            "ticks": ""
           }
          },
          "scene": {
           "xaxis": {
            "backgroundcolor": "#E5ECF6",
            "gridcolor": "white",
            "gridwidth": 2,
            "linecolor": "white",
            "showbackground": true,
            "ticks": "",
            "zerolinecolor": "white"
           },
           "yaxis": {
            "backgroundcolor": "#E5ECF6",
            "gridcolor": "white",
            "gridwidth": 2,
            "linecolor": "white",
            "showbackground": true,
            "ticks": "",
            "zerolinecolor": "white"
           },
           "zaxis": {
            "backgroundcolor": "#E5ECF6",
            "gridcolor": "white",
            "gridwidth": 2,
            "linecolor": "white",
            "showbackground": true,
            "ticks": "",
            "zerolinecolor": "white"
           }
          },
          "shapedefaults": {
           "line": {
            "color": "#2a3f5f"
           }
          },
          "ternary": {
           "aaxis": {
            "gridcolor": "white",
            "linecolor": "white",
            "ticks": ""
           },
           "baxis": {
            "gridcolor": "white",
            "linecolor": "white",
            "ticks": ""
           },
           "bgcolor": "#E5ECF6",
           "caxis": {
            "gridcolor": "white",
            "linecolor": "white",
            "ticks": ""
           }
          },
          "title": {
           "x": 0.05
          },
          "xaxis": {
           "automargin": true,
           "gridcolor": "white",
           "linecolor": "white",
           "ticks": "",
           "title": {
            "standoff": 15
           },
           "zerolinecolor": "white",
           "zerolinewidth": 2
          },
          "yaxis": {
           "automargin": true,
           "gridcolor": "white",
           "linecolor": "white",
           "ticks": "",
           "title": {
            "standoff": 15
           },
           "zerolinecolor": "white",
           "zerolinewidth": 2
          }
         }
        },
        "xaxis": {
         "anchor": "y",
         "domain": [
          0,
          1
         ],
         "title": {
          "text": "part"
         }
        },
        "yaxis": {
         "anchor": "x",
         "domain": [
          0,
          1
         ],
         "tickmode": "array",
         "tickvals": [
          "0.97",
          0.2,
          0.5,
          0.7
         ],
         "title": {
          "text": "f1"
         }
        }
       }
      }
     },
     "metadata": {},
     "output_type": "display_data"
    }
   ],
   "source": [
    "fig = px.bar(evalMetrics, x = 'part', y = 'f1')\n",
    "\n",
    "fig.add_hline(y=avgF1, line_width=2, line_color=\"red\")\n",
    "\n",
    "fig.update_layout(\n",
    "    yaxis = dict(\n",
    "        tickmode = 'array',\n",
    "        tickvals = [np.format_float_positional(avgAcc, 2), 0.2, 0.5, 0.7],\n",
    "    )\n",
    ")"
   ]
  },
  {
   "cell_type": "code",
   "execution_count": 22,
   "metadata": {},
   "outputs": [
    {
     "name": "stderr",
     "output_type": "stream",
     "text": [
      "100%|██████████| 33/33 [00:58<00:00,  1.78s/it]\n"
     ]
    },
    {
     "data": {
      "text/html": [
       "<div>\n",
       "<style scoped>\n",
       "    .dataframe tbody tr th:only-of-type {\n",
       "        vertical-align: middle;\n",
       "    }\n",
       "\n",
       "    .dataframe tbody tr th {\n",
       "        vertical-align: top;\n",
       "    }\n",
       "\n",
       "    .dataframe thead th {\n",
       "        text-align: right;\n",
       "    }\n",
       "</style>\n",
       "<table border=\"1\" class=\"dataframe\">\n",
       "  <thead>\n",
       "    <tr style=\"text-align: right;\">\n",
       "      <th></th>\n",
       "      <th>CaseID</th>\n",
       "      <th>bonnet</th>\n",
       "      <th>bumper_front</th>\n",
       "      <th>grille</th>\n",
       "      <th>fog_lamp_rh</th>\n",
       "      <th>headlamp_lh</th>\n",
       "      <th>headlamp_rh</th>\n",
       "      <th>door_front_lh</th>\n",
       "      <th>door_front_rh</th>\n",
       "      <th>air_conditioning</th>\n",
       "      <th>...</th>\n",
       "      <th>fog_lamp_lh</th>\n",
       "      <th>tail_lamp_rh</th>\n",
       "      <th>windscreen_front</th>\n",
       "      <th>rear_compartment</th>\n",
       "      <th>rear_panel</th>\n",
       "      <th>rear_quarter_rh</th>\n",
       "      <th>door_rear_rh</th>\n",
       "      <th>door_mirror_lh</th>\n",
       "      <th>door_rear_lh</th>\n",
       "      <th>windscreen_rear</th>\n",
       "    </tr>\n",
       "  </thead>\n",
       "  <tbody>\n",
       "    <tr>\n",
       "      <th>0</th>\n",
       "      <td>10000004</td>\n",
       "      <td>0</td>\n",
       "      <td>1</td>\n",
       "      <td>0</td>\n",
       "      <td>0</td>\n",
       "      <td>0</td>\n",
       "      <td>0</td>\n",
       "      <td>0</td>\n",
       "      <td>0</td>\n",
       "      <td>0</td>\n",
       "      <td>...</td>\n",
       "      <td>0</td>\n",
       "      <td>0</td>\n",
       "      <td>0</td>\n",
       "      <td>0</td>\n",
       "      <td>0</td>\n",
       "      <td>0</td>\n",
       "      <td>0</td>\n",
       "      <td>0</td>\n",
       "      <td>0</td>\n",
       "      <td>0</td>\n",
       "    </tr>\n",
       "    <tr>\n",
       "      <th>1</th>\n",
       "      <td>10000012</td>\n",
       "      <td>0</td>\n",
       "      <td>0</td>\n",
       "      <td>0</td>\n",
       "      <td>0</td>\n",
       "      <td>0</td>\n",
       "      <td>0</td>\n",
       "      <td>0</td>\n",
       "      <td>0</td>\n",
       "      <td>0</td>\n",
       "      <td>...</td>\n",
       "      <td>0</td>\n",
       "      <td>0</td>\n",
       "      <td>0</td>\n",
       "      <td>0</td>\n",
       "      <td>0</td>\n",
       "      <td>0</td>\n",
       "      <td>0</td>\n",
       "      <td>0</td>\n",
       "      <td>0</td>\n",
       "      <td>0</td>\n",
       "    </tr>\n",
       "    <tr>\n",
       "      <th>2</th>\n",
       "      <td>10000016</td>\n",
       "      <td>1</td>\n",
       "      <td>1</td>\n",
       "      <td>1</td>\n",
       "      <td>1</td>\n",
       "      <td>1</td>\n",
       "      <td>1</td>\n",
       "      <td>0</td>\n",
       "      <td>0</td>\n",
       "      <td>1</td>\n",
       "      <td>...</td>\n",
       "      <td>1</td>\n",
       "      <td>0</td>\n",
       "      <td>1</td>\n",
       "      <td>0</td>\n",
       "      <td>0</td>\n",
       "      <td>0</td>\n",
       "      <td>0</td>\n",
       "      <td>0</td>\n",
       "      <td>0</td>\n",
       "      <td>0</td>\n",
       "    </tr>\n",
       "    <tr>\n",
       "      <th>3</th>\n",
       "      <td>10000021</td>\n",
       "      <td>0</td>\n",
       "      <td>1</td>\n",
       "      <td>0</td>\n",
       "      <td>0</td>\n",
       "      <td>1</td>\n",
       "      <td>0</td>\n",
       "      <td>0</td>\n",
       "      <td>0</td>\n",
       "      <td>0</td>\n",
       "      <td>...</td>\n",
       "      <td>1</td>\n",
       "      <td>0</td>\n",
       "      <td>0</td>\n",
       "      <td>0</td>\n",
       "      <td>0</td>\n",
       "      <td>0</td>\n",
       "      <td>0</td>\n",
       "      <td>1</td>\n",
       "      <td>1</td>\n",
       "      <td>0</td>\n",
       "    </tr>\n",
       "    <tr>\n",
       "      <th>4</th>\n",
       "      <td>10000030</td>\n",
       "      <td>0</td>\n",
       "      <td>0</td>\n",
       "      <td>0</td>\n",
       "      <td>0</td>\n",
       "      <td>0</td>\n",
       "      <td>0</td>\n",
       "      <td>0</td>\n",
       "      <td>0</td>\n",
       "      <td>0</td>\n",
       "      <td>...</td>\n",
       "      <td>0</td>\n",
       "      <td>0</td>\n",
       "      <td>0</td>\n",
       "      <td>0</td>\n",
       "      <td>0</td>\n",
       "      <td>0</td>\n",
       "      <td>0</td>\n",
       "      <td>0</td>\n",
       "      <td>0</td>\n",
       "      <td>0</td>\n",
       "    </tr>\n",
       "    <tr>\n",
       "      <th>...</th>\n",
       "      <td>...</td>\n",
       "      <td>...</td>\n",
       "      <td>...</td>\n",
       "      <td>...</td>\n",
       "      <td>...</td>\n",
       "      <td>...</td>\n",
       "      <td>...</td>\n",
       "      <td>...</td>\n",
       "      <td>...</td>\n",
       "      <td>...</td>\n",
       "      <td>...</td>\n",
       "      <td>...</td>\n",
       "      <td>...</td>\n",
       "      <td>...</td>\n",
       "      <td>...</td>\n",
       "      <td>...</td>\n",
       "      <td>...</td>\n",
       "      <td>...</td>\n",
       "      <td>...</td>\n",
       "      <td>...</td>\n",
       "      <td>...</td>\n",
       "    </tr>\n",
       "    <tr>\n",
       "      <th>590896</th>\n",
       "      <td>13563056</td>\n",
       "      <td>0</td>\n",
       "      <td>1</td>\n",
       "      <td>1</td>\n",
       "      <td>0</td>\n",
       "      <td>0</td>\n",
       "      <td>0</td>\n",
       "      <td>0</td>\n",
       "      <td>0</td>\n",
       "      <td>1</td>\n",
       "      <td>...</td>\n",
       "      <td>0</td>\n",
       "      <td>0</td>\n",
       "      <td>0</td>\n",
       "      <td>0</td>\n",
       "      <td>0</td>\n",
       "      <td>0</td>\n",
       "      <td>0</td>\n",
       "      <td>0</td>\n",
       "      <td>0</td>\n",
       "      <td>0</td>\n",
       "    </tr>\n",
       "    <tr>\n",
       "      <th>590897</th>\n",
       "      <td>13563063</td>\n",
       "      <td>0</td>\n",
       "      <td>0</td>\n",
       "      <td>0</td>\n",
       "      <td>0</td>\n",
       "      <td>0</td>\n",
       "      <td>0</td>\n",
       "      <td>0</td>\n",
       "      <td>0</td>\n",
       "      <td>0</td>\n",
       "      <td>...</td>\n",
       "      <td>0</td>\n",
       "      <td>0</td>\n",
       "      <td>0</td>\n",
       "      <td>0</td>\n",
       "      <td>0</td>\n",
       "      <td>0</td>\n",
       "      <td>0</td>\n",
       "      <td>0</td>\n",
       "      <td>0</td>\n",
       "      <td>0</td>\n",
       "    </tr>\n",
       "    <tr>\n",
       "      <th>590898</th>\n",
       "      <td>13563071</td>\n",
       "      <td>0</td>\n",
       "      <td>1</td>\n",
       "      <td>0</td>\n",
       "      <td>0</td>\n",
       "      <td>0</td>\n",
       "      <td>0</td>\n",
       "      <td>0</td>\n",
       "      <td>0</td>\n",
       "      <td>0</td>\n",
       "      <td>...</td>\n",
       "      <td>0</td>\n",
       "      <td>0</td>\n",
       "      <td>0</td>\n",
       "      <td>0</td>\n",
       "      <td>0</td>\n",
       "      <td>0</td>\n",
       "      <td>0</td>\n",
       "      <td>0</td>\n",
       "      <td>0</td>\n",
       "      <td>0</td>\n",
       "    </tr>\n",
       "    <tr>\n",
       "      <th>590899</th>\n",
       "      <td>13563089</td>\n",
       "      <td>0</td>\n",
       "      <td>0</td>\n",
       "      <td>0</td>\n",
       "      <td>0</td>\n",
       "      <td>0</td>\n",
       "      <td>0</td>\n",
       "      <td>0</td>\n",
       "      <td>0</td>\n",
       "      <td>0</td>\n",
       "      <td>...</td>\n",
       "      <td>0</td>\n",
       "      <td>1</td>\n",
       "      <td>0</td>\n",
       "      <td>1</td>\n",
       "      <td>0</td>\n",
       "      <td>0</td>\n",
       "      <td>0</td>\n",
       "      <td>0</td>\n",
       "      <td>0</td>\n",
       "      <td>1</td>\n",
       "    </tr>\n",
       "    <tr>\n",
       "      <th>590900</th>\n",
       "      <td>13563097</td>\n",
       "      <td>0</td>\n",
       "      <td>1</td>\n",
       "      <td>0</td>\n",
       "      <td>0</td>\n",
       "      <td>0</td>\n",
       "      <td>0</td>\n",
       "      <td>0</td>\n",
       "      <td>0</td>\n",
       "      <td>0</td>\n",
       "      <td>...</td>\n",
       "      <td>0</td>\n",
       "      <td>0</td>\n",
       "      <td>0</td>\n",
       "      <td>0</td>\n",
       "      <td>0</td>\n",
       "      <td>0</td>\n",
       "      <td>0</td>\n",
       "      <td>0</td>\n",
       "      <td>0</td>\n",
       "      <td>0</td>\n",
       "    </tr>\n",
       "  </tbody>\n",
       "</table>\n",
       "<p>590901 rows × 35 columns</p>\n",
       "</div>"
      ],
      "text/plain": [
       "          CaseID  bonnet  bumper_front  grille  fog_lamp_rh  headlamp_lh  \\\n",
       "0       10000004       0             1       0            0            0   \n",
       "1       10000012       0             0       0            0            0   \n",
       "2       10000016       1             1       1            1            1   \n",
       "3       10000021       0             1       0            0            1   \n",
       "4       10000030       0             0       0            0            0   \n",
       "...          ...     ...           ...     ...          ...          ...   \n",
       "590896  13563056       0             1       1            0            0   \n",
       "590897  13563063       0             0       0            0            0   \n",
       "590898  13563071       0             1       0            0            0   \n",
       "590899  13563089       0             0       0            0            0   \n",
       "590900  13563097       0             1       0            0            0   \n",
       "\n",
       "        headlamp_rh  door_front_lh  door_front_rh  air_conditioning  ...  \\\n",
       "0                 0              0              0                 0  ...   \n",
       "1                 0              0              0                 0  ...   \n",
       "2                 1              0              0                 1  ...   \n",
       "3                 0              0              0                 0  ...   \n",
       "4                 0              0              0                 0  ...   \n",
       "...             ...            ...            ...               ...  ...   \n",
       "590896            0              0              0                 1  ...   \n",
       "590897            0              0              0                 0  ...   \n",
       "590898            0              0              0                 0  ...   \n",
       "590899            0              0              0                 0  ...   \n",
       "590900            0              0              0                 0  ...   \n",
       "\n",
       "        fog_lamp_lh  tail_lamp_rh  windscreen_front  rear_compartment  \\\n",
       "0                 0             0                 0                 0   \n",
       "1                 0             0                 0                 0   \n",
       "2                 1             0                 1                 0   \n",
       "3                 1             0                 0                 0   \n",
       "4                 0             0                 0                 0   \n",
       "...             ...           ...               ...               ...   \n",
       "590896            0             0                 0                 0   \n",
       "590897            0             0                 0                 0   \n",
       "590898            0             0                 0                 0   \n",
       "590899            0             1                 0                 1   \n",
       "590900            0             0                 0                 0   \n",
       "\n",
       "        rear_panel  rear_quarter_rh  door_rear_rh  door_mirror_lh  \\\n",
       "0                0                0             0               0   \n",
       "1                0                0             0               0   \n",
       "2                0                0             0               0   \n",
       "3                0                0             0               1   \n",
       "4                0                0             0               0   \n",
       "...            ...              ...           ...             ...   \n",
       "590896           0                0             0               0   \n",
       "590897           0                0             0               0   \n",
       "590898           0                0             0               0   \n",
       "590899           0                0             0               0   \n",
       "590900           0                0             0               0   \n",
       "\n",
       "        door_rear_lh  windscreen_rear  \n",
       "0                  0                0  \n",
       "1                  0                0  \n",
       "2                  0                0  \n",
       "3                  1                0  \n",
       "4                  0                0  \n",
       "...              ...              ...  \n",
       "590896             0                0  \n",
       "590897             0                0  \n",
       "590898             0                0  \n",
       "590899             0                1  \n",
       "590900             0                0  \n",
       "\n",
       "[590901 rows x 35 columns]"
      ]
     },
     "execution_count": 22,
     "metadata": {},
     "output_type": "execute_result"
    }
   ],
   "source": [
    "multilabelPred = pd.DataFrame(pd.DataFrame(allPreds[0]))\n",
    "for p in tqdm(allPreds[1:]):\n",
    "    dfPart = pd.DataFrame(p)\n",
    "    multilabelPred = multilabelPred.merge(dfPart, on=\"CaseID\")\n",
    "multilabelPred.sort_values(by=\"CaseID\", inplace=True)\n",
    "multilabelPred"
   ]
  },
  {
   "cell_type": "code",
   "execution_count": 23,
   "metadata": {},
   "outputs": [
    {
     "name": "stderr",
     "output_type": "stream",
     "text": [
      "100%|██████████| 33/33 [01:04<00:00,  1.94s/it]\n"
     ]
    }
   ],
   "source": [
    "multilabelGt = pd.DataFrame(pd.DataFrame(allGt[0]))\n",
    "for p in tqdm(allGt[1:]):\n",
    "    dfPart = pd.DataFrame(p)\n",
    "    multilabelGt = multilabelGt.merge(dfPart, on=\"CaseID\")\n",
    "multilabelGt.sort_values(by=\"CaseID\", inplace=True)\n"
   ]
  },
  {
   "cell_type": "code",
   "execution_count": 24,
   "metadata": {},
   "outputs": [
    {
     "data": {
      "text/html": [
       "<div>\n",
       "<style scoped>\n",
       "    .dataframe tbody tr th:only-of-type {\n",
       "        vertical-align: middle;\n",
       "    }\n",
       "\n",
       "    .dataframe tbody tr th {\n",
       "        vertical-align: top;\n",
       "    }\n",
       "\n",
       "    .dataframe thead th {\n",
       "        text-align: right;\n",
       "    }\n",
       "</style>\n",
       "<table border=\"1\" class=\"dataframe\">\n",
       "  <thead>\n",
       "    <tr style=\"text-align: right;\">\n",
       "      <th></th>\n",
       "      <th>CaseID</th>\n",
       "      <th>bonnet</th>\n",
       "      <th>bumper_front</th>\n",
       "      <th>grille</th>\n",
       "      <th>fog_lamp_rh</th>\n",
       "      <th>headlamp_lh</th>\n",
       "      <th>headlamp_rh</th>\n",
       "      <th>door_front_lh</th>\n",
       "      <th>door_front_rh</th>\n",
       "      <th>air_conditioning</th>\n",
       "      <th>...</th>\n",
       "      <th>fog_lamp_lh</th>\n",
       "      <th>tail_lamp_rh</th>\n",
       "      <th>windscreen_front</th>\n",
       "      <th>rear_compartment</th>\n",
       "      <th>rear_panel</th>\n",
       "      <th>rear_quarter_rh</th>\n",
       "      <th>door_rear_rh</th>\n",
       "      <th>door_mirror_lh</th>\n",
       "      <th>door_rear_lh</th>\n",
       "      <th>windscreen_rear</th>\n",
       "    </tr>\n",
       "  </thead>\n",
       "  <tbody>\n",
       "    <tr>\n",
       "      <th>0</th>\n",
       "      <td>10000004</td>\n",
       "      <td>0</td>\n",
       "      <td>1</td>\n",
       "      <td>0</td>\n",
       "      <td>0</td>\n",
       "      <td>0</td>\n",
       "      <td>0</td>\n",
       "      <td>0</td>\n",
       "      <td>0</td>\n",
       "      <td>0</td>\n",
       "      <td>...</td>\n",
       "      <td>0</td>\n",
       "      <td>0</td>\n",
       "      <td>0</td>\n",
       "      <td>0</td>\n",
       "      <td>0</td>\n",
       "      <td>0</td>\n",
       "      <td>0</td>\n",
       "      <td>0</td>\n",
       "      <td>0</td>\n",
       "      <td>0</td>\n",
       "    </tr>\n",
       "    <tr>\n",
       "      <th>1</th>\n",
       "      <td>10000012</td>\n",
       "      <td>0</td>\n",
       "      <td>0</td>\n",
       "      <td>0</td>\n",
       "      <td>0</td>\n",
       "      <td>0</td>\n",
       "      <td>0</td>\n",
       "      <td>0</td>\n",
       "      <td>0</td>\n",
       "      <td>0</td>\n",
       "      <td>...</td>\n",
       "      <td>0</td>\n",
       "      <td>0</td>\n",
       "      <td>0</td>\n",
       "      <td>0</td>\n",
       "      <td>0</td>\n",
       "      <td>0</td>\n",
       "      <td>0</td>\n",
       "      <td>0</td>\n",
       "      <td>0</td>\n",
       "      <td>0</td>\n",
       "    </tr>\n",
       "    <tr>\n",
       "      <th>2</th>\n",
       "      <td>10000016</td>\n",
       "      <td>1</td>\n",
       "      <td>1</td>\n",
       "      <td>1</td>\n",
       "      <td>1</td>\n",
       "      <td>1</td>\n",
       "      <td>1</td>\n",
       "      <td>0</td>\n",
       "      <td>0</td>\n",
       "      <td>1</td>\n",
       "      <td>...</td>\n",
       "      <td>0</td>\n",
       "      <td>0</td>\n",
       "      <td>1</td>\n",
       "      <td>0</td>\n",
       "      <td>0</td>\n",
       "      <td>0</td>\n",
       "      <td>0</td>\n",
       "      <td>0</td>\n",
       "      <td>0</td>\n",
       "      <td>0</td>\n",
       "    </tr>\n",
       "    <tr>\n",
       "      <th>3</th>\n",
       "      <td>10000021</td>\n",
       "      <td>0</td>\n",
       "      <td>1</td>\n",
       "      <td>0</td>\n",
       "      <td>0</td>\n",
       "      <td>1</td>\n",
       "      <td>0</td>\n",
       "      <td>0</td>\n",
       "      <td>0</td>\n",
       "      <td>0</td>\n",
       "      <td>...</td>\n",
       "      <td>1</td>\n",
       "      <td>0</td>\n",
       "      <td>0</td>\n",
       "      <td>0</td>\n",
       "      <td>0</td>\n",
       "      <td>0</td>\n",
       "      <td>0</td>\n",
       "      <td>0</td>\n",
       "      <td>1</td>\n",
       "      <td>0</td>\n",
       "    </tr>\n",
       "    <tr>\n",
       "      <th>4</th>\n",
       "      <td>10000030</td>\n",
       "      <td>0</td>\n",
       "      <td>0</td>\n",
       "      <td>0</td>\n",
       "      <td>0</td>\n",
       "      <td>0</td>\n",
       "      <td>0</td>\n",
       "      <td>0</td>\n",
       "      <td>0</td>\n",
       "      <td>0</td>\n",
       "      <td>...</td>\n",
       "      <td>0</td>\n",
       "      <td>0</td>\n",
       "      <td>0</td>\n",
       "      <td>0</td>\n",
       "      <td>0</td>\n",
       "      <td>0</td>\n",
       "      <td>0</td>\n",
       "      <td>0</td>\n",
       "      <td>0</td>\n",
       "      <td>0</td>\n",
       "    </tr>\n",
       "    <tr>\n",
       "      <th>...</th>\n",
       "      <td>...</td>\n",
       "      <td>...</td>\n",
       "      <td>...</td>\n",
       "      <td>...</td>\n",
       "      <td>...</td>\n",
       "      <td>...</td>\n",
       "      <td>...</td>\n",
       "      <td>...</td>\n",
       "      <td>...</td>\n",
       "      <td>...</td>\n",
       "      <td>...</td>\n",
       "      <td>...</td>\n",
       "      <td>...</td>\n",
       "      <td>...</td>\n",
       "      <td>...</td>\n",
       "      <td>...</td>\n",
       "      <td>...</td>\n",
       "      <td>...</td>\n",
       "      <td>...</td>\n",
       "      <td>...</td>\n",
       "      <td>...</td>\n",
       "    </tr>\n",
       "    <tr>\n",
       "      <th>590896</th>\n",
       "      <td>13563056</td>\n",
       "      <td>0</td>\n",
       "      <td>1</td>\n",
       "      <td>1</td>\n",
       "      <td>0</td>\n",
       "      <td>0</td>\n",
       "      <td>0</td>\n",
       "      <td>0</td>\n",
       "      <td>0</td>\n",
       "      <td>0</td>\n",
       "      <td>...</td>\n",
       "      <td>0</td>\n",
       "      <td>0</td>\n",
       "      <td>0</td>\n",
       "      <td>0</td>\n",
       "      <td>0</td>\n",
       "      <td>0</td>\n",
       "      <td>0</td>\n",
       "      <td>0</td>\n",
       "      <td>0</td>\n",
       "      <td>0</td>\n",
       "    </tr>\n",
       "    <tr>\n",
       "      <th>590897</th>\n",
       "      <td>13563063</td>\n",
       "      <td>0</td>\n",
       "      <td>0</td>\n",
       "      <td>0</td>\n",
       "      <td>0</td>\n",
       "      <td>0</td>\n",
       "      <td>0</td>\n",
       "      <td>0</td>\n",
       "      <td>0</td>\n",
       "      <td>0</td>\n",
       "      <td>...</td>\n",
       "      <td>0</td>\n",
       "      <td>0</td>\n",
       "      <td>0</td>\n",
       "      <td>0</td>\n",
       "      <td>0</td>\n",
       "      <td>0</td>\n",
       "      <td>0</td>\n",
       "      <td>0</td>\n",
       "      <td>0</td>\n",
       "      <td>0</td>\n",
       "    </tr>\n",
       "    <tr>\n",
       "      <th>590898</th>\n",
       "      <td>13563071</td>\n",
       "      <td>0</td>\n",
       "      <td>1</td>\n",
       "      <td>0</td>\n",
       "      <td>0</td>\n",
       "      <td>0</td>\n",
       "      <td>0</td>\n",
       "      <td>0</td>\n",
       "      <td>0</td>\n",
       "      <td>0</td>\n",
       "      <td>...</td>\n",
       "      <td>0</td>\n",
       "      <td>0</td>\n",
       "      <td>0</td>\n",
       "      <td>0</td>\n",
       "      <td>0</td>\n",
       "      <td>0</td>\n",
       "      <td>0</td>\n",
       "      <td>0</td>\n",
       "      <td>0</td>\n",
       "      <td>0</td>\n",
       "    </tr>\n",
       "    <tr>\n",
       "      <th>590899</th>\n",
       "      <td>13563089</td>\n",
       "      <td>0</td>\n",
       "      <td>0</td>\n",
       "      <td>0</td>\n",
       "      <td>0</td>\n",
       "      <td>0</td>\n",
       "      <td>0</td>\n",
       "      <td>0</td>\n",
       "      <td>0</td>\n",
       "      <td>0</td>\n",
       "      <td>...</td>\n",
       "      <td>0</td>\n",
       "      <td>1</td>\n",
       "      <td>0</td>\n",
       "      <td>1</td>\n",
       "      <td>0</td>\n",
       "      <td>0</td>\n",
       "      <td>0</td>\n",
       "      <td>0</td>\n",
       "      <td>0</td>\n",
       "      <td>1</td>\n",
       "    </tr>\n",
       "    <tr>\n",
       "      <th>590900</th>\n",
       "      <td>13563097</td>\n",
       "      <td>0</td>\n",
       "      <td>1</td>\n",
       "      <td>0</td>\n",
       "      <td>0</td>\n",
       "      <td>0</td>\n",
       "      <td>0</td>\n",
       "      <td>0</td>\n",
       "      <td>0</td>\n",
       "      <td>0</td>\n",
       "      <td>...</td>\n",
       "      <td>0</td>\n",
       "      <td>0</td>\n",
       "      <td>0</td>\n",
       "      <td>0</td>\n",
       "      <td>0</td>\n",
       "      <td>0</td>\n",
       "      <td>0</td>\n",
       "      <td>0</td>\n",
       "      <td>0</td>\n",
       "      <td>0</td>\n",
       "    </tr>\n",
       "  </tbody>\n",
       "</table>\n",
       "<p>590901 rows × 35 columns</p>\n",
       "</div>"
      ],
      "text/plain": [
       "          CaseID  bonnet  bumper_front  grille  fog_lamp_rh  headlamp_lh  \\\n",
       "0       10000004       0             1       0            0            0   \n",
       "1       10000012       0             0       0            0            0   \n",
       "2       10000016       1             1       1            1            1   \n",
       "3       10000021       0             1       0            0            1   \n",
       "4       10000030       0             0       0            0            0   \n",
       "...          ...     ...           ...     ...          ...          ...   \n",
       "590896  13563056       0             1       1            0            0   \n",
       "590897  13563063       0             0       0            0            0   \n",
       "590898  13563071       0             1       0            0            0   \n",
       "590899  13563089       0             0       0            0            0   \n",
       "590900  13563097       0             1       0            0            0   \n",
       "\n",
       "        headlamp_rh  door_front_lh  door_front_rh  air_conditioning  ...  \\\n",
       "0                 0              0              0                 0  ...   \n",
       "1                 0              0              0                 0  ...   \n",
       "2                 1              0              0                 1  ...   \n",
       "3                 0              0              0                 0  ...   \n",
       "4                 0              0              0                 0  ...   \n",
       "...             ...            ...            ...               ...  ...   \n",
       "590896            0              0              0                 0  ...   \n",
       "590897            0              0              0                 0  ...   \n",
       "590898            0              0              0                 0  ...   \n",
       "590899            0              0              0                 0  ...   \n",
       "590900            0              0              0                 0  ...   \n",
       "\n",
       "        fog_lamp_lh  tail_lamp_rh  windscreen_front  rear_compartment  \\\n",
       "0                 0             0                 0                 0   \n",
       "1                 0             0                 0                 0   \n",
       "2                 0             0                 1                 0   \n",
       "3                 1             0                 0                 0   \n",
       "4                 0             0                 0                 0   \n",
       "...             ...           ...               ...               ...   \n",
       "590896            0             0                 0                 0   \n",
       "590897            0             0                 0                 0   \n",
       "590898            0             0                 0                 0   \n",
       "590899            0             1                 0                 1   \n",
       "590900            0             0                 0                 0   \n",
       "\n",
       "        rear_panel  rear_quarter_rh  door_rear_rh  door_mirror_lh  \\\n",
       "0                0                0             0               0   \n",
       "1                0                0             0               0   \n",
       "2                0                0             0               0   \n",
       "3                0                0             0               0   \n",
       "4                0                0             0               0   \n",
       "...            ...              ...           ...             ...   \n",
       "590896           0                0             0               0   \n",
       "590897           0                0             0               0   \n",
       "590898           0                0             0               0   \n",
       "590899           0                0             0               0   \n",
       "590900           0                0             0               0   \n",
       "\n",
       "        door_rear_lh  windscreen_rear  \n",
       "0                  0                0  \n",
       "1                  0                0  \n",
       "2                  0                0  \n",
       "3                  1                0  \n",
       "4                  0                0  \n",
       "...              ...              ...  \n",
       "590896             0                0  \n",
       "590897             0                0  \n",
       "590898             0                0  \n",
       "590899             0                1  \n",
       "590900             0                0  \n",
       "\n",
       "[590901 rows x 35 columns]"
      ]
     },
     "execution_count": 24,
     "metadata": {},
     "output_type": "execute_result"
    }
   ],
   "source": [
    "multilabelGt = multilabelGt[multilabelPred.columns]\n",
    "multilabelGt"
   ]
  },
  {
   "cell_type": "code",
   "execution_count": 25,
   "metadata": {},
   "outputs": [],
   "source": [
    "def hamming_score(y_true, y_pred):\n",
    "    acc_list = []\n",
    "    for i in range(y_true.shape[0]):\n",
    "        set_true = set( np.where(y_true[i])[0] )\n",
    "        set_pred = set( np.where(y_pred[i])[0] )\n",
    "        #print('\\nset_true: {0}'.format(set_true))\n",
    "        #print('set_pred: {0}'.format(set_pred))\n",
    "        tmp_a = None\n",
    "        if len(set_true) == 0 and len(set_pred) == 0:\n",
    "            tmp_a = 1\n",
    "        else:\n",
    "            tmp_a = len(set_true.intersection(set_pred))/\\\n",
    "                    float( len(set_true) )\n",
    "        #print('tmp_a: {0}'.format(tmp_a))\n",
    "        acc_list.append(tmp_a)\n",
    "    return np.mean(acc_list), acc_list"
   ]
  },
  {
   "cell_type": "code",
   "execution_count": 26,
   "metadata": {},
   "outputs": [
    {
     "data": {
      "text/plain": [
       "0.9871103031437276"
      ]
     },
     "execution_count": 26,
     "metadata": {},
     "output_type": "execute_result"
    },
    {
     "ename": "",
     "evalue": "",
     "output_type": "error",
     "traceback": [
      "\u001b[1;31mThe Kernel crashed while executing code in the the current cell or a previous cell. Please review the code in the cell(s) to identify a possible cause of the failure. Click <a href='https://aka.ms/vscodeJupyterKernelCrash'>here</a> for more info. View Jupyter <a href='command:jupyter.viewOutput'>log</a> for further details."
     ]
    }
   ],
   "source": [
    "subsetAcc2, acc_list = hamming_score(multilabelGt[targetCol].values, multilabelPred[targetCol].values)\n",
    "subsetAcc2"
   ]
  }
 ],
 "metadata": {
  "kernelspec": {
   "display_name": "work",
   "language": "python",
   "name": "python3"
  },
  "language_info": {
   "codemirror_mode": {
    "name": "ipython",
    "version": 3
   },
   "file_extension": ".py",
   "mimetype": "text/x-python",
   "name": "python",
   "nbconvert_exporter": "python",
   "pygments_lexer": "ipython3",
   "version": "3.10.8"
  },
  "orig_nbformat": 4,
  "vscode": {
   "interpreter": {
    "hash": "0e8f33c5a67865e6aadcd232beb3e2644a1f224e780847feacdefa5e710f41d5"
   }
  }
 },
 "nbformat": 4,
 "nbformat_minor": 2
}
