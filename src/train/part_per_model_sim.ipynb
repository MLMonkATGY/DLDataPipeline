{
 "cells": [
  {
   "cell_type": "code",
   "execution_count": 21,
   "metadata": {},
   "outputs": [],
   "source": [
    "from catboost import CatBoostClassifier, Pool\n",
    "from catboost.utils import eval_metric\n",
    "from sklearn.datasets import make_multilabel_classification\n",
    "from sklearn.model_selection import train_test_split\n",
    "import pandas as pd\n",
    "import sklearn.metrics as metrics\n",
    "from sklearn.metrics import accuracy_score, classification_report\n",
    "import numpy as np\n",
    "import plotly.express as px\n",
    "import seaborn as sns\n",
    "from IPython import display\n",
    "import matplotlib.pyplot as plt\n",
    "import awswrangler as wr\n",
    "from sklearn.metrics import (\n",
    "    accuracy_score,\n",
    "    confusion_matrix,\n",
    "    classification_report,\n",
    "    multilabel_confusion_matrix,\n",
    ")\n",
    "from catboost.utils import select_threshold\n",
    "from skmultilearn.model_selection.iterative_stratification import (\n",
    "    IterativeStratification,\n",
    ")\n",
    "from sklearn.model_selection import StratifiedKFold, KFold\n",
    "from tqdm import tqdm\n",
    "from sklearn.utils import class_weight\n"
   ]
  },
  {
   "cell_type": "code",
   "execution_count": 22,
   "metadata": {},
   "outputs": [],
   "source": [
    "\n",
    "wr.config.s3_endpoint_url = \"http://192.168.1.4:8333\"\n",
    "\n",
    "multilabelDf = wr.s3.read_parquet(\n",
    "    path=f\"s3://multilabel_df/\",\n",
    "    dataset=True,\n",
    ")\n",
    "allVisionFeatures = [x for x in multilabelDf.columns if \"vision_\" in x]\n",
    "caseFeatures = [\n",
    "    \"Circumstances_of_Accident\",\n",
    "    \"Model\",\n",
    "    # # \"Vehicle_Still_Driveable\",\n",
    "    # # \"NCB_Stat\",\n",
    "    # # \"Assembly_Type\",\n",
    "    # # \"Claim_Type\",\n",
    "    \"Vehicle_Type\",\n",
    "    # # \"Sum_Insured\",\n",
    "    # \"Repairer\",\n",
    "    # # # \"Repairer_Apprv_Count\",\n",
    "    # \"Collision_With\",\n",
    "    # \"Handling_Insurer\",\n",
    "]\n",
    "allInputFeature = caseFeatures + allVisionFeatures\n",
    "\n",
    "targetCol = [\n",
    "   'bonnet', 'bumper_front', 'grille', 'fog_lamp_rh', 'headlamp_lh', 'headlamp_rh', 'door_front_lh', 'door_front_rh', 'air_conditioning', 'cooling_fan', 'radiator', 'bumper_rear', 'misc', 'engine', 'airbag', 'front_panel', 'undercarriage', 'wheel', 'fender_front_lh', 'fender_front_rh', 'door_mirror_rh', 'rear_quarter_lh', 'interior', 'tail_lamp_lh', 'fog_lamp_lh', 'tail_lamp_rh', 'windscreen_front', 'rear_compartment', 'rear_panel', 'rear_quarter_rh', 'door_rear_rh', 'door_mirror_lh', 'door_rear_lh', 'windscreen_rear'\n",
    "]\n",
    "allPredModel = []\n",
    "allPreds = []\n",
    "allGt = []\n"
   ]
  },
  {
   "cell_type": "code",
   "execution_count": 23,
   "metadata": {},
   "outputs": [
    {
     "name": "stderr",
     "output_type": "stream",
     "text": [
      "  0%|          | 0/34 [00:00<?, ?it/s]"
     ]
    },
    {
     "name": "stdout",
     "output_type": "stream",
     "text": [
      "Learning rate set to 0.08543\n",
      "0:\tlearn: 1.0000000\ttest: 1.0000000\tbest: 1.0000000 (0)\ttotal: 14.8ms\tremaining: 2.95s\n",
      "100:\tlearn: 1.0000000\ttest: 1.0000000\tbest: 1.0000000 (0)\ttotal: 1.9s\tremaining: 1.86s\n",
      "bestTest = 1\n",
      "bestIteration = 0\n",
      "Shrink model to first 1 iterations.\n",
      "Learning rate set to 0.08543\n",
      "0:\tlearn: 1.0000000\ttest: 1.0000000\tbest: 1.0000000 (0)\ttotal: 14.1ms\tremaining: 2.8s\n",
      "100:\tlearn: 1.0000000\ttest: 1.0000000\tbest: 1.0000000 (0)\ttotal: 1.94s\tremaining: 1.91s\n",
      "bestTest = 1\n",
      "bestIteration = 0\n",
      "Shrink model to first 1 iterations.\n"
     ]
    },
    {
     "name": "stderr",
     "output_type": "stream",
     "text": [
      "  3%|▎         | 1/34 [00:09<05:23,  9.80s/it]"
     ]
    },
    {
     "name": "stdout",
     "output_type": "stream",
     "text": [
      "Learning rate set to 0.08543\n",
      "0:\tlearn: 1.0000000\ttest: 1.0000000\tbest: 1.0000000 (0)\ttotal: 43.2ms\tremaining: 8.6s\n",
      "100:\tlearn: 1.0000000\ttest: 1.0000000\tbest: 1.0000000 (0)\ttotal: 1.9s\tremaining: 1.86s\n",
      "bestTest = 1\n",
      "bestIteration = 0\n",
      "Shrink model to first 1 iterations.\n",
      "Learning rate set to 0.08543\n",
      "0:\tlearn: 1.0000000\ttest: 1.0000000\tbest: 1.0000000 (0)\ttotal: 12.9ms\tremaining: 2.56s\n",
      "100:\tlearn: 1.0000000\ttest: 1.0000000\tbest: 1.0000000 (0)\ttotal: 1.56s\tremaining: 1.53s\n",
      "bestTest = 1\n",
      "bestIteration = 0\n",
      "Shrink model to first 1 iterations.\n"
     ]
    },
    {
     "name": "stderr",
     "output_type": "stream",
     "text": [
      "  6%|▌         | 2/34 [00:18<04:50,  9.07s/it]"
     ]
    },
    {
     "name": "stdout",
     "output_type": "stream",
     "text": [
      "Learning rate set to 0.08543\n",
      "0:\tlearn: 1.0000000\ttest: 1.0000000\tbest: 1.0000000 (0)\ttotal: 16.6ms\tremaining: 3.3s\n",
      "100:\tlearn: 1.0000000\ttest: 1.0000000\tbest: 1.0000000 (0)\ttotal: 1.71s\tremaining: 1.68s\n",
      "bestTest = 1\n",
      "bestIteration = 0\n",
      "Shrink model to first 1 iterations.\n",
      "Learning rate set to 0.08543\n",
      "0:\tlearn: 1.0000000\ttest: 1.0000000\tbest: 1.0000000 (0)\ttotal: 16.7ms\tremaining: 3.32s\n",
      "100:\tlearn: 1.0000000\ttest: 1.0000000\tbest: 1.0000000 (0)\ttotal: 1.62s\tremaining: 1.59s\n",
      "bestTest = 1\n",
      "bestIteration = 0\n",
      "Shrink model to first 1 iterations.\n"
     ]
    },
    {
     "name": "stderr",
     "output_type": "stream",
     "text": [
      "  9%|▉         | 3/34 [00:26<04:32,  8.78s/it]"
     ]
    },
    {
     "name": "stdout",
     "output_type": "stream",
     "text": [
      "Learning rate set to 0.08543\n",
      "0:\tlearn: 0.9538741\ttest: 0.8103575\tbest: 0.8103575 (0)\ttotal: 17.7ms\tremaining: 3.53s\n",
      "100:\tlearn: 0.9637427\ttest: 0.8186241\tbest: 0.8188485 (29)\ttotal: 1.99s\tremaining: 1.96s\n",
      "199:\tlearn: 0.9647150\ttest: 0.8192456\tbest: 0.8197110 (162)\ttotal: 4.04s\tremaining: 0us\n",
      "bestTest = 0.8197109615\n",
      "bestIteration = 162\n",
      "Shrink model to first 163 iterations.\n",
      "Learning rate set to 0.08543\n",
      "0:\tlearn: 0.8599455\ttest: 0.2838132\tbest: 0.2838132 (0)\ttotal: 19.1ms\tremaining: 3.79s\n",
      "100:\tlearn: 0.8740483\ttest: 0.2803217\tbest: 0.2882055 (2)\ttotal: 2.03s\tremaining: 1.99s\n",
      "bestTest = 0.2882055042\n",
      "bestIteration = 2\n",
      "Shrink model to first 3 iterations.\n"
     ]
    },
    {
     "name": "stderr",
     "output_type": "stream",
     "text": [
      " 12%|█▏        | 4/34 [00:38<04:56,  9.87s/it]"
     ]
    },
    {
     "name": "stdout",
     "output_type": "stream",
     "text": [
      "Learning rate set to 0.08543\n",
      "0:\tlearn: 0.9968150\ttest: 0.9735826\tbest: 0.9735826 (0)\ttotal: 16.9ms\tremaining: 3.36s\n",
      "100:\tlearn: 0.9968802\ttest: 0.9735896\tbest: 0.9735896 (52)\ttotal: 1.97s\tremaining: 1.93s\n",
      "199:\tlearn: 0.9969449\ttest: 0.9736081\tbest: 0.9736081 (197)\ttotal: 3.87s\tremaining: 0us\n",
      "bestTest = 0.9736081133\n",
      "bestIteration = 197\n",
      "Shrink model to first 198 iterations.\n",
      "Learning rate set to 0.08543\n",
      "0:\tlearn: 0.9887900\ttest: 0.4741892\tbest: 0.4741892 (0)\ttotal: 16.4ms\tremaining: 3.26s\n",
      "100:\tlearn: 0.9887900\ttest: 0.4741892\tbest: 0.4741892 (0)\ttotal: 1.92s\tremaining: 1.88s\n",
      "bestTest = 0.4741892277\n",
      "bestIteration = 0\n",
      "Shrink model to first 1 iterations.\n"
     ]
    },
    {
     "name": "stderr",
     "output_type": "stream",
     "text": [
      " 15%|█▍        | 5/34 [00:49<04:59, 10.34s/it]"
     ]
    },
    {
     "name": "stdout",
     "output_type": "stream",
     "text": [
      "Learning rate set to 0.08543\n",
      "0:\tlearn: 0.9997251\ttest: 0.9629471\tbest: 0.9629471 (0)\ttotal: 20.9ms\tremaining: 4.16s\n",
      "100:\tlearn: 0.9997496\ttest: 0.9629471\tbest: 0.9629471 (0)\ttotal: 1.88s\tremaining: 1.85s\n",
      "bestTest = 0.9629470578\n",
      "bestIteration = 0\n",
      "Shrink model to first 1 iterations.\n",
      "Learning rate set to 0.08543\n",
      "0:\tlearn: 0.9852813\ttest: 0.4698056\tbest: 0.4698056 (0)\ttotal: 21ms\tremaining: 4.18s\n",
      "100:\tlearn: 0.9852837\ttest: 0.4698056\tbest: 0.4698056 (0)\ttotal: 1.89s\tremaining: 1.85s\n",
      "bestTest = 0.4698056463\n",
      "bestIteration = 0\n",
      "Shrink model to first 1 iterations.\n"
     ]
    },
    {
     "name": "stderr",
     "output_type": "stream",
     "text": [
      " 18%|█▊        | 6/34 [00:58<04:36,  9.88s/it]"
     ]
    },
    {
     "name": "stdout",
     "output_type": "stream",
     "text": [
      "Learning rate set to 0.08543\n",
      "0:\tlearn: 1.0000000\ttest: 1.0000000\tbest: 1.0000000 (0)\ttotal: 12.9ms\tremaining: 2.57s\n",
      "100:\tlearn: 1.0000000\ttest: 1.0000000\tbest: 1.0000000 (0)\ttotal: 1.85s\tremaining: 1.82s\n",
      "bestTest = 1\n",
      "bestIteration = 0\n",
      "Shrink model to first 1 iterations.\n",
      "Learning rate set to 0.08543\n",
      "0:\tlearn: 1.0000000\ttest: 1.0000000\tbest: 1.0000000 (0)\ttotal: 12.3ms\tremaining: 2.45s\n",
      "100:\tlearn: 1.0000000\ttest: 1.0000000\tbest: 1.0000000 (0)\ttotal: 1.71s\tremaining: 1.67s\n",
      "bestTest = 1\n",
      "bestIteration = 0\n",
      "Shrink model to first 1 iterations.\n"
     ]
    },
    {
     "name": "stderr",
     "output_type": "stream",
     "text": [
      " 21%|██        | 7/34 [01:07<04:17,  9.53s/it]"
     ]
    },
    {
     "name": "stdout",
     "output_type": "stream",
     "text": [
      "Learning rate set to 0.08543\n",
      "0:\tlearn: 1.0000000\ttest: 1.0000000\tbest: 1.0000000 (0)\ttotal: 16.9ms\tremaining: 3.37s\n",
      "100:\tlearn: 1.0000000\ttest: 1.0000000\tbest: 1.0000000 (0)\ttotal: 1.83s\tremaining: 1.8s\n",
      "bestTest = 1\n",
      "bestIteration = 0\n",
      "Shrink model to first 1 iterations.\n",
      "Learning rate set to 0.08543\n",
      "0:\tlearn: 1.0000000\ttest: 1.0000000\tbest: 1.0000000 (0)\ttotal: 15.1ms\tremaining: 3s\n",
      "100:\tlearn: 1.0000000\ttest: 1.0000000\tbest: 1.0000000 (0)\ttotal: 2.1s\tremaining: 2.06s\n",
      "bestTest = 1\n",
      "bestIteration = 0\n",
      "Shrink model to first 1 iterations.\n"
     ]
    },
    {
     "name": "stderr",
     "output_type": "stream",
     "text": [
      " 24%|██▎       | 8/34 [01:16<04:05,  9.42s/it]"
     ]
    },
    {
     "name": "stdout",
     "output_type": "stream",
     "text": [
      "Learning rate set to 0.08543\n",
      "0:\tlearn: 0.9691453\ttest: 0.8180761\tbest: 0.8180761 (0)\ttotal: 23.9ms\tremaining: 4.75s\n",
      "100:\tlearn: 0.9794445\ttest: 0.8209715\tbest: 0.8209779 (99)\ttotal: 2.29s\tremaining: 2.25s\n",
      "199:\tlearn: 0.9806914\ttest: 0.8221203\tbest: 0.8221203 (199)\ttotal: 4.47s\tremaining: 0us\n",
      "bestTest = 0.8221203019\n",
      "bestIteration = 199\n",
      "Learning rate set to 0.08543\n",
      "0:\tlearn: 0.9138147\ttest: 0.7216261\tbest: 0.7216261 (0)\ttotal: 24.5ms\tremaining: 4.88s\n",
      "100:\tlearn: 0.9245421\ttest: 0.7179128\tbest: 0.7267926 (6)\ttotal: 2.31s\tremaining: 2.27s\n",
      "bestTest = 0.7267925977\n",
      "bestIteration = 6\n",
      "Shrink model to first 7 iterations.\n"
     ]
    },
    {
     "name": "stderr",
     "output_type": "stream",
     "text": [
      " 26%|██▋       | 9/34 [01:28<04:18, 10.32s/it]"
     ]
    },
    {
     "name": "stdout",
     "output_type": "stream",
     "text": [
      "Learning rate set to 0.08543\n",
      "0:\tlearn: 0.9328958\ttest: 0.7855657\tbest: 0.7855657 (0)\ttotal: 21.2ms\tremaining: 4.23s\n",
      "100:\tlearn: 0.9542173\ttest: 0.7763751\tbest: 0.7855657 (0)\ttotal: 2.26s\tremaining: 2.21s\n",
      "bestTest = 0.7855656923\n",
      "bestIteration = 0\n",
      "Shrink model to first 1 iterations.\n",
      "Learning rate set to 0.08543\n",
      "0:\tlearn: 0.8331599\ttest: 0.7739716\tbest: 0.7739716 (0)\ttotal: 20.8ms\tremaining: 4.14s\n",
      "100:\tlearn: 0.8614142\ttest: 0.7751432\tbest: 0.7990893 (1)\ttotal: 2.29s\tremaining: 2.24s\n",
      "bestTest = 0.7990893274\n",
      "bestIteration = 1\n",
      "Shrink model to first 2 iterations.\n"
     ]
    },
    {
     "name": "stderr",
     "output_type": "stream",
     "text": [
      " 29%|██▉       | 10/34 [01:38<04:05, 10.24s/it]"
     ]
    },
    {
     "name": "stdout",
     "output_type": "stream",
     "text": [
      "Learning rate set to 0.08543\n",
      "0:\tlearn: 0.9643193\ttest: 0.8110427\tbest: 0.8110427 (0)\ttotal: 24.1ms\tremaining: 4.8s\n",
      "100:\tlearn: 0.9773478\ttest: 0.8130015\tbest: 0.8130099 (99)\ttotal: 2.27s\tremaining: 2.23s\n",
      "199:\tlearn: 0.9782314\ttest: 0.8136998\tbest: 0.8136998 (199)\ttotal: 4.46s\tremaining: 0us\n",
      "bestTest = 0.8136998039\n",
      "bestIteration = 199\n",
      "Learning rate set to 0.08543\n",
      "0:\tlearn: 0.8940916\ttest: 0.6420835\tbest: 0.6420835 (0)\ttotal: 22.5ms\tremaining: 4.48s\n",
      "100:\tlearn: 0.8978588\ttest: 0.6384319\tbest: 0.6444625 (14)\ttotal: 2.23s\tremaining: 2.19s\n",
      "bestTest = 0.644462456\n",
      "bestIteration = 14\n",
      "Shrink model to first 15 iterations.\n"
     ]
    },
    {
     "name": "stderr",
     "output_type": "stream",
     "text": [
      " 32%|███▏      | 11/34 [01:51<04:12, 10.97s/it]"
     ]
    },
    {
     "name": "stdout",
     "output_type": "stream",
     "text": [
      "Learning rate set to 0.08543\n",
      "0:\tlearn: 1.0000000\ttest: 1.0000000\tbest: 1.0000000 (0)\ttotal: 23ms\tremaining: 4.58s\n",
      "100:\tlearn: 1.0000000\ttest: 1.0000000\tbest: 1.0000000 (0)\ttotal: 1.96s\tremaining: 1.92s\n",
      "bestTest = 1\n",
      "bestIteration = 0\n",
      "Shrink model to first 1 iterations.\n",
      "Learning rate set to 0.08543\n",
      "0:\tlearn: 1.0000000\ttest: 1.0000000\tbest: 1.0000000 (0)\ttotal: 20.9ms\tremaining: 4.16s\n",
      "100:\tlearn: 1.0000000\ttest: 1.0000000\tbest: 1.0000000 (0)\ttotal: 2.04s\tremaining: 2s\n",
      "bestTest = 1\n",
      "bestIteration = 0\n",
      "Shrink model to first 1 iterations.\n"
     ]
    },
    {
     "name": "stderr",
     "output_type": "stream",
     "text": [
      " 35%|███▌      | 12/34 [02:01<03:52, 10.55s/it]"
     ]
    },
    {
     "name": "stdout",
     "output_type": "stream",
     "text": [
      "Learning rate set to 0.08543\n",
      "0:\tlearn: 0.9662452\ttest: 0.9718675\tbest: 0.9718675 (0)\ttotal: 24.5ms\tremaining: 4.88s\n",
      "100:\tlearn: 0.9667315\ttest: 0.9721789\tbest: 0.9722124 (92)\ttotal: 2.25s\tremaining: 2.2s\n",
      "199:\tlearn: 0.9672856\ttest: 0.9722772\tbest: 0.9722893 (198)\ttotal: 4.43s\tremaining: 0us\n",
      "bestTest = 0.9722892697\n",
      "bestIteration = 198\n",
      "Shrink model to first 199 iterations.\n",
      "Learning rate set to 0.08543\n",
      "0:\tlearn: 0.9718700\ttest: 0.9662453\tbest: 0.9662453 (0)\ttotal: 26.4ms\tremaining: 5.26s\n",
      "100:\tlearn: 0.9724962\ttest: 0.9590217\tbest: 0.9662657 (25)\ttotal: 2.23s\tremaining: 2.19s\n",
      "bestTest = 0.9662657219\n",
      "bestIteration = 25\n",
      "Shrink model to first 26 iterations.\n"
     ]
    },
    {
     "name": "stderr",
     "output_type": "stream",
     "text": [
      " 38%|███▊      | 13/34 [02:14<03:57, 11.33s/it]"
     ]
    },
    {
     "name": "stdout",
     "output_type": "stream",
     "text": [
      "Learning rate set to 0.08543\n",
      "0:\tlearn: 0.9826453\ttest: 0.8112711\tbest: 0.8112711 (0)\ttotal: 19.8ms\tremaining: 3.94s\n",
      "100:\tlearn: 0.9831903\ttest: 0.8113999\tbest: 0.8113999 (100)\ttotal: 2.33s\tremaining: 2.29s\n",
      "199:\tlearn: 0.9835790\ttest: 0.8115582\tbest: 0.8115582 (193)\ttotal: 4.58s\tremaining: 0us\n",
      "bestTest = 0.8115581828\n",
      "bestIteration = 193\n",
      "Shrink model to first 194 iterations.\n",
      "Learning rate set to 0.08543\n",
      "0:\tlearn: 0.8590568\ttest: 0.2372028\tbest: 0.2372028 (0)\ttotal: 20.6ms\tremaining: 4.1s\n",
      "100:\tlearn: 0.8830334\ttest: 0.2308371\tbest: 0.2509441 (4)\ttotal: 2.26s\tremaining: 2.21s\n",
      "bestTest = 0.2509441042\n",
      "bestIteration = 4\n",
      "Shrink model to first 5 iterations.\n"
     ]
    },
    {
     "name": "stderr",
     "output_type": "stream",
     "text": [
      " 41%|████      | 14/34 [02:27<03:56, 11.80s/it]"
     ]
    },
    {
     "name": "stdout",
     "output_type": "stream",
     "text": [
      "Learning rate set to 0.08543\n",
      "0:\tlearn: 0.9380310\ttest: 0.8915104\tbest: 0.8915104 (0)\ttotal: 21.1ms\tremaining: 4.2s\n",
      "100:\tlearn: 0.9524367\ttest: 0.8952880\tbest: 0.8972073 (10)\ttotal: 2.28s\tremaining: 2.23s\n",
      "bestTest = 0.8972072523\n",
      "bestIteration = 10\n",
      "Shrink model to first 11 iterations.\n",
      "Learning rate set to 0.08543\n",
      "0:\tlearn: 0.9377432\ttest: 0.6109009\tbest: 0.6109009 (0)\ttotal: 20.8ms\tremaining: 4.13s\n",
      "100:\tlearn: 0.9453611\ttest: 0.6109035\tbest: 0.6128808 (27)\ttotal: 2.42s\tremaining: 2.37s\n",
      "bestTest = 0.6128807717\n",
      "bestIteration = 27\n",
      "Shrink model to first 28 iterations.\n"
     ]
    },
    {
     "name": "stderr",
     "output_type": "stream",
     "text": [
      " 44%|████▍     | 15/34 [02:38<03:43, 11.79s/it]"
     ]
    },
    {
     "name": "stdout",
     "output_type": "stream",
     "text": [
      "Learning rate set to 0.08543\n",
      "0:\tlearn: 1.0000000\ttest: 1.0000000\tbest: 1.0000000 (0)\ttotal: 16.2ms\tremaining: 3.21s\n",
      "100:\tlearn: 1.0000000\ttest: 1.0000000\tbest: 1.0000000 (0)\ttotal: 1.94s\tremaining: 1.9s\n",
      "bestTest = 1\n",
      "bestIteration = 0\n",
      "Shrink model to first 1 iterations.\n",
      "Learning rate set to 0.08543\n",
      "0:\tlearn: 1.0000000\ttest: 1.0000000\tbest: 1.0000000 (0)\ttotal: 15.9ms\tremaining: 3.15s\n",
      "100:\tlearn: 1.0000000\ttest: 1.0000000\tbest: 1.0000000 (0)\ttotal: 2s\tremaining: 1.97s\n",
      "bestTest = 1\n",
      "bestIteration = 0\n",
      "Shrink model to first 1 iterations.\n"
     ]
    },
    {
     "name": "stderr",
     "output_type": "stream",
     "text": [
      " 47%|████▋     | 16/34 [02:48<03:21, 11.20s/it]"
     ]
    },
    {
     "name": "stdout",
     "output_type": "stream",
     "text": [
      "Learning rate set to 0.08543\n",
      "0:\tlearn: 0.9834212\ttest: 0.9509219\tbest: 0.9509219 (0)\ttotal: 22.1ms\tremaining: 4.39s\n",
      "100:\tlearn: 0.9850283\ttest: 0.9507317\tbest: 0.9509276 (33)\ttotal: 2.27s\tremaining: 2.22s\n",
      "bestTest = 0.9509276427\n",
      "bestIteration = 33\n",
      "Shrink model to first 34 iterations.\n",
      "Learning rate set to 0.08543\n",
      "0:\tlearn: 0.9509211\ttest: 0.9834189\tbest: 0.9834189 (0)\ttotal: 27.5ms\tremaining: 5.47s\n",
      "100:\tlearn: 0.9539858\ttest: 0.9821206\tbest: 0.9834210 (11)\ttotal: 2.29s\tremaining: 2.24s\n",
      "bestTest = 0.9834209657\n",
      "bestIteration = 11\n",
      "Shrink model to first 12 iterations.\n"
     ]
    },
    {
     "name": "stderr",
     "output_type": "stream",
     "text": [
      " 50%|█████     | 17/34 [03:00<03:11, 11.28s/it]"
     ]
    },
    {
     "name": "stdout",
     "output_type": "stream",
     "text": [
      "Learning rate set to 0.08543\n",
      "0:\tlearn: 1.0000000\ttest: 1.0000000\tbest: 1.0000000 (0)\ttotal: 16.2ms\tremaining: 3.23s\n",
      "100:\tlearn: 1.0000000\ttest: 1.0000000\tbest: 1.0000000 (0)\ttotal: 1.98s\tremaining: 1.95s\n",
      "bestTest = 1\n",
      "bestIteration = 0\n",
      "Shrink model to first 1 iterations.\n",
      "Learning rate set to 0.08543\n",
      "0:\tlearn: 1.0000000\ttest: 1.0000000\tbest: 1.0000000 (0)\ttotal: 16ms\tremaining: 3.19s\n",
      "100:\tlearn: 1.0000000\ttest: 1.0000000\tbest: 1.0000000 (0)\ttotal: 1.96s\tremaining: 1.92s\n",
      "bestTest = 1\n",
      "bestIteration = 0\n",
      "Shrink model to first 1 iterations.\n"
     ]
    },
    {
     "name": "stderr",
     "output_type": "stream",
     "text": [
      " 53%|█████▎    | 18/34 [03:09<02:53, 10.84s/it]"
     ]
    },
    {
     "name": "stdout",
     "output_type": "stream",
     "text": [
      "Learning rate set to 0.08543\n",
      "0:\tlearn: 1.0000000\ttest: 1.0000000\tbest: 1.0000000 (0)\ttotal: 22.1ms\tremaining: 4.41s\n",
      "100:\tlearn: 1.0000000\ttest: 1.0000000\tbest: 1.0000000 (0)\ttotal: 2.02s\tremaining: 1.98s\n",
      "bestTest = 1\n",
      "bestIteration = 0\n",
      "Shrink model to first 1 iterations.\n",
      "Learning rate set to 0.08543\n",
      "0:\tlearn: 1.0000000\ttest: 1.0000000\tbest: 1.0000000 (0)\ttotal: 23ms\tremaining: 4.58s\n",
      "100:\tlearn: 1.0000000\ttest: 1.0000000\tbest: 1.0000000 (0)\ttotal: 2.01s\tremaining: 1.97s\n",
      "bestTest = 1\n",
      "bestIteration = 0\n",
      "Shrink model to first 1 iterations.\n"
     ]
    },
    {
     "name": "stderr",
     "output_type": "stream",
     "text": [
      " 56%|█████▌    | 19/34 [03:19<02:38, 10.57s/it]"
     ]
    },
    {
     "name": "stdout",
     "output_type": "stream",
     "text": [
      "Learning rate set to 0.08543\n",
      "0:\tlearn: 1.0000000\ttest: 1.0000000\tbest: 1.0000000 (0)\ttotal: 23.5ms\tremaining: 4.69s\n",
      "100:\tlearn: 1.0000000\ttest: 1.0000000\tbest: 1.0000000 (0)\ttotal: 1.93s\tremaining: 1.89s\n",
      "bestTest = 1\n",
      "bestIteration = 0\n",
      "Shrink model to first 1 iterations.\n",
      "Learning rate set to 0.08543\n",
      "0:\tlearn: 1.0000000\ttest: 1.0000000\tbest: 1.0000000 (0)\ttotal: 20.1ms\tremaining: 3.99s\n",
      "100:\tlearn: 1.0000000\ttest: 1.0000000\tbest: 1.0000000 (0)\ttotal: 2s\tremaining: 1.96s\n",
      "bestTest = 1\n",
      "bestIteration = 0\n",
      "Shrink model to first 1 iterations.\n"
     ]
    },
    {
     "name": "stderr",
     "output_type": "stream",
     "text": [
      " 59%|█████▉    | 20/34 [03:29<02:24, 10.32s/it]"
     ]
    },
    {
     "name": "stdout",
     "output_type": "stream",
     "text": [
      "Learning rate set to 0.08543\n",
      "0:\tlearn: 0.8774887\ttest: 0.8646200\tbest: 0.8646200 (0)\ttotal: 22ms\tremaining: 4.38s\n",
      "100:\tlearn: 0.9084028\ttest: 0.8946031\tbest: 0.8946031 (100)\ttotal: 2.17s\tremaining: 2.13s\n",
      "199:\tlearn: 0.9141493\ttest: 0.8958222\tbest: 0.8961340 (170)\ttotal: 4.45s\tremaining: 0us\n",
      "bestTest = 0.8961340492\n",
      "bestIteration = 170\n",
      "Shrink model to first 171 iterations.\n",
      "Learning rate set to 0.08543\n",
      "0:\tlearn: 0.8853761\ttest: 0.8305088\tbest: 0.8305088 (0)\ttotal: 25.1ms\tremaining: 5s\n",
      "100:\tlearn: 0.9068223\ttest: 0.8583123\tbest: 0.8584578 (95)\ttotal: 2.27s\tremaining: 2.23s\n",
      "199:\tlearn: 0.9107026\ttest: 0.8610839\tbest: 0.8614184 (197)\ttotal: 4.52s\tremaining: 0us\n",
      "bestTest = 0.8614184309\n",
      "bestIteration = 197\n",
      "Shrink model to first 198 iterations.\n"
     ]
    },
    {
     "name": "stderr",
     "output_type": "stream",
     "text": [
      " 62%|██████▏   | 21/34 [03:44<02:33, 11.79s/it]"
     ]
    },
    {
     "name": "stdout",
     "output_type": "stream",
     "text": [
      "Learning rate set to 0.08543\n",
      "0:\tlearn: 1.0000000\ttest: 1.0000000\tbest: 1.0000000 (0)\ttotal: 14.7ms\tremaining: 2.92s\n",
      "100:\tlearn: 1.0000000\ttest: 1.0000000\tbest: 1.0000000 (0)\ttotal: 2.06s\tremaining: 2.02s\n",
      "bestTest = 1\n",
      "bestIteration = 0\n",
      "Shrink model to first 1 iterations.\n",
      "Learning rate set to 0.08543\n",
      "0:\tlearn: 1.0000000\ttest: 1.0000000\tbest: 1.0000000 (0)\ttotal: 16.2ms\tremaining: 3.23s\n",
      "100:\tlearn: 1.0000000\ttest: 1.0000000\tbest: 1.0000000 (0)\ttotal: 2.08s\tremaining: 2.04s\n",
      "bestTest = 1\n",
      "bestIteration = 0\n",
      "Shrink model to first 1 iterations.\n"
     ]
    },
    {
     "name": "stderr",
     "output_type": "stream",
     "text": [
      " 65%|██████▍   | 22/34 [03:54<02:15, 11.28s/it]"
     ]
    },
    {
     "name": "stdout",
     "output_type": "stream",
     "text": [
      "Learning rate set to 0.08543\n",
      "0:\tlearn: 0.9408637\ttest: 0.8990641\tbest: 0.8990641 (0)\ttotal: 21.2ms\tremaining: 4.23s\n",
      "100:\tlearn: 0.9503885\ttest: 0.9038798\tbest: 0.9038798 (100)\ttotal: 2.35s\tremaining: 2.31s\n",
      "199:\tlearn: 0.9522312\ttest: 0.9059696\tbest: 0.9059696 (199)\ttotal: 4.6s\tremaining: 0us\n",
      "bestTest = 0.9059695501\n",
      "bestIteration = 199\n",
      "Learning rate set to 0.08543\n",
      "0:\tlearn: 0.9451638\ttest: 0.5542726\tbest: 0.5542726 (0)\ttotal: 21ms\tremaining: 4.18s\n",
      "100:\tlearn: 0.9494699\ttest: 0.5488834\tbest: 0.5542726 (0)\ttotal: 2.44s\tremaining: 2.39s\n",
      "bestTest = 0.5542726361\n",
      "bestIteration = 0\n",
      "Shrink model to first 1 iterations.\n"
     ]
    },
    {
     "name": "stderr",
     "output_type": "stream",
     "text": [
      " 68%|██████▊   | 23/34 [04:08<02:10, 11.85s/it]"
     ]
    },
    {
     "name": "stdout",
     "output_type": "stream",
     "text": [
      "Learning rate set to 0.08543\n",
      "0:\tlearn: 1.0000000\ttest: 1.0000000\tbest: 1.0000000 (0)\ttotal: 17.1ms\tremaining: 3.4s\n",
      "100:\tlearn: 1.0000000\ttest: 1.0000000\tbest: 1.0000000 (0)\ttotal: 2.18s\tremaining: 2.14s\n",
      "bestTest = 1\n",
      "bestIteration = 0\n",
      "Shrink model to first 1 iterations.\n",
      "Learning rate set to 0.08543\n",
      "0:\tlearn: 1.0000000\ttest: 1.0000000\tbest: 1.0000000 (0)\ttotal: 25.2ms\tremaining: 5.02s\n",
      "100:\tlearn: 1.0000000\ttest: 1.0000000\tbest: 1.0000000 (0)\ttotal: 2.14s\tremaining: 2.09s\n",
      "bestTest = 1\n",
      "bestIteration = 0\n",
      "Shrink model to first 1 iterations.\n"
     ]
    },
    {
     "name": "stderr",
     "output_type": "stream",
     "text": [
      " 71%|███████   | 24/34 [04:18<01:53, 11.37s/it]"
     ]
    },
    {
     "name": "stdout",
     "output_type": "stream",
     "text": [
      "Learning rate set to 0.08543\n",
      "0:\tlearn: 0.9538688\ttest: 0.8132997\tbest: 0.8132997 (0)\ttotal: 20.2ms\tremaining: 4.01s\n",
      "100:\tlearn: 0.9599454\ttest: 0.8300985\tbest: 0.8310826 (34)\ttotal: 2.4s\tremaining: 2.35s\n",
      "bestTest = 0.8310825919\n",
      "bestIteration = 34\n",
      "Shrink model to first 35 iterations.\n",
      "Learning rate set to 0.08543\n",
      "0:\tlearn: 0.8628579\ttest: 0.2840698\tbest: 0.2840698 (0)\ttotal: 24.4ms\tremaining: 4.85s\n",
      "100:\tlearn: 0.8775243\ttest: 0.2836383\tbest: 0.2891867 (2)\ttotal: 2.33s\tremaining: 2.28s\n",
      "bestTest = 0.289186682\n",
      "bestIteration = 2\n",
      "Shrink model to first 3 iterations.\n"
     ]
    },
    {
     "name": "stderr",
     "output_type": "stream",
     "text": [
      " 74%|███████▎  | 25/34 [04:30<01:43, 11.52s/it]"
     ]
    },
    {
     "name": "stdout",
     "output_type": "stream",
     "text": [
      "Learning rate set to 0.08543\n",
      "0:\tlearn: 1.0000000\ttest: 1.0000000\tbest: 1.0000000 (0)\ttotal: 19.8ms\tremaining: 3.94s\n",
      "100:\tlearn: 1.0000000\ttest: 1.0000000\tbest: 1.0000000 (0)\ttotal: 2.08s\tremaining: 2.04s\n",
      "bestTest = 1\n",
      "bestIteration = 0\n",
      "Shrink model to first 1 iterations.\n",
      "Learning rate set to 0.08543\n",
      "0:\tlearn: 1.0000000\ttest: 1.0000000\tbest: 1.0000000 (0)\ttotal: 18.1ms\tremaining: 3.61s\n",
      "100:\tlearn: 1.0000000\ttest: 1.0000000\tbest: 1.0000000 (0)\ttotal: 1.93s\tremaining: 1.89s\n",
      "bestTest = 1\n",
      "bestIteration = 0\n",
      "Shrink model to first 1 iterations.\n"
     ]
    },
    {
     "name": "stderr",
     "output_type": "stream",
     "text": [
      " 76%|███████▋  | 26/34 [04:40<01:28, 11.11s/it]"
     ]
    },
    {
     "name": "stdout",
     "output_type": "stream",
     "text": [
      "Learning rate set to 0.08543\n",
      "0:\tlearn: 1.0000000\ttest: 1.0000000\tbest: 1.0000000 (0)\ttotal: 20.2ms\tremaining: 4.02s\n",
      "100:\tlearn: 1.0000000\ttest: 1.0000000\tbest: 1.0000000 (0)\ttotal: 1.9s\tremaining: 1.86s\n",
      "bestTest = 1\n",
      "bestIteration = 0\n",
      "Shrink model to first 1 iterations.\n",
      "Learning rate set to 0.08543\n",
      "0:\tlearn: 1.0000000\ttest: 1.0000000\tbest: 1.0000000 (0)\ttotal: 23.8ms\tremaining: 4.74s\n",
      "100:\tlearn: 1.0000000\ttest: 1.0000000\tbest: 1.0000000 (0)\ttotal: 2.12s\tremaining: 2.08s\n",
      "bestTest = 1\n",
      "bestIteration = 0\n",
      "Shrink model to first 1 iterations.\n"
     ]
    },
    {
     "name": "stderr",
     "output_type": "stream",
     "text": [
      " 79%|███████▉  | 27/34 [04:50<01:16, 10.88s/it]"
     ]
    },
    {
     "name": "stdout",
     "output_type": "stream",
     "text": [
      "Learning rate set to 0.08543\n",
      "0:\tlearn: 1.0000000\ttest: 1.0000000\tbest: 1.0000000 (0)\ttotal: 12.9ms\tremaining: 2.57s\n",
      "100:\tlearn: 1.0000000\ttest: 1.0000000\tbest: 1.0000000 (0)\ttotal: 1.99s\tremaining: 1.95s\n",
      "bestTest = 1\n",
      "bestIteration = 0\n",
      "Shrink model to first 1 iterations.\n",
      "Learning rate set to 0.08543\n",
      "0:\tlearn: 1.0000000\ttest: 1.0000000\tbest: 1.0000000 (0)\ttotal: 13.6ms\tremaining: 2.7s\n",
      "100:\tlearn: 1.0000000\ttest: 1.0000000\tbest: 1.0000000 (0)\ttotal: 1.93s\tremaining: 1.89s\n",
      "bestTest = 1\n",
      "bestIteration = 0\n",
      "Shrink model to first 1 iterations.\n"
     ]
    },
    {
     "name": "stderr",
     "output_type": "stream",
     "text": [
      " 82%|████████▏ | 28/34 [05:00<01:03, 10.60s/it]"
     ]
    },
    {
     "name": "stdout",
     "output_type": "stream",
     "text": [
      "Learning rate set to 0.08543\n",
      "0:\tlearn: 1.0000000\ttest: 1.0000000\tbest: 1.0000000 (0)\ttotal: 23.9ms\tremaining: 4.75s\n",
      "100:\tlearn: 1.0000000\ttest: 1.0000000\tbest: 1.0000000 (0)\ttotal: 1.98s\tremaining: 1.94s\n",
      "bestTest = 1\n",
      "bestIteration = 0\n",
      "Shrink model to first 1 iterations.\n",
      "Learning rate set to 0.08543\n",
      "0:\tlearn: 1.0000000\ttest: 1.0000000\tbest: 1.0000000 (0)\ttotal: 23.3ms\tremaining: 4.64s\n",
      "100:\tlearn: 1.0000000\ttest: 1.0000000\tbest: 1.0000000 (0)\ttotal: 1.97s\tremaining: 1.93s\n",
      "bestTest = 1\n",
      "bestIteration = 0\n",
      "Shrink model to first 1 iterations.\n"
     ]
    },
    {
     "name": "stderr",
     "output_type": "stream",
     "text": [
      " 85%|████████▌ | 29/34 [05:10<00:52, 10.47s/it]"
     ]
    },
    {
     "name": "stdout",
     "output_type": "stream",
     "text": [
      "Learning rate set to 0.08543\n",
      "0:\tlearn: 1.0000000\ttest: 1.0000000\tbest: 1.0000000 (0)\ttotal: 24.8ms\tremaining: 4.94s\n",
      "100:\tlearn: 1.0000000\ttest: 1.0000000\tbest: 1.0000000 (0)\ttotal: 1.89s\tremaining: 1.86s\n",
      "bestTest = 1\n",
      "bestIteration = 0\n",
      "Shrink model to first 1 iterations.\n",
      "Learning rate set to 0.08543\n",
      "0:\tlearn: 1.0000000\ttest: 1.0000000\tbest: 1.0000000 (0)\ttotal: 28.2ms\tremaining: 5.61s\n",
      "100:\tlearn: 1.0000000\ttest: 1.0000000\tbest: 1.0000000 (0)\ttotal: 2.09s\tremaining: 2.05s\n",
      "bestTest = 1\n",
      "bestIteration = 0\n",
      "Shrink model to first 1 iterations.\n"
     ]
    },
    {
     "name": "stderr",
     "output_type": "stream",
     "text": [
      " 88%|████████▊ | 30/34 [05:21<00:41, 10.40s/it]"
     ]
    },
    {
     "name": "stdout",
     "output_type": "stream",
     "text": [
      "Learning rate set to 0.08543\n",
      "0:\tlearn: 1.0000000\ttest: 1.0000000\tbest: 1.0000000 (0)\ttotal: 16.4ms\tremaining: 3.27s\n",
      "100:\tlearn: 1.0000000\ttest: 1.0000000\tbest: 1.0000000 (0)\ttotal: 2.14s\tremaining: 2.1s\n",
      "bestTest = 1\n",
      "bestIteration = 0\n",
      "Shrink model to first 1 iterations.\n",
      "Learning rate set to 0.08543\n",
      "0:\tlearn: 1.0000000\ttest: 1.0000000\tbest: 1.0000000 (0)\ttotal: 14.4ms\tremaining: 2.86s\n",
      "100:\tlearn: 1.0000000\ttest: 1.0000000\tbest: 1.0000000 (0)\ttotal: 1.99s\tremaining: 1.95s\n",
      "bestTest = 1\n",
      "bestIteration = 0\n",
      "Shrink model to first 1 iterations.\n"
     ]
    },
    {
     "name": "stderr",
     "output_type": "stream",
     "text": [
      " 91%|█████████ | 31/34 [05:31<00:30, 10.28s/it]"
     ]
    },
    {
     "name": "stdout",
     "output_type": "stream",
     "text": [
      "Learning rate set to 0.08543\n",
      "0:\tlearn: 0.8784206\ttest: 0.8916691\tbest: 0.8916691 (0)\ttotal: 21.4ms\tremaining: 4.26s\n",
      "100:\tlearn: 0.9237184\ttest: 0.8993784\tbest: 0.8995504 (99)\ttotal: 2.24s\tremaining: 2.2s\n",
      "199:\tlearn: 0.9287909\ttest: 0.8997143\tbest: 0.8998408 (193)\ttotal: 4.46s\tremaining: 0us\n",
      "bestTest = 0.8998408318\n",
      "bestIteration = 193\n",
      "Shrink model to first 194 iterations.\n",
      "Learning rate set to 0.08543\n",
      "0:\tlearn: 0.8920284\ttest: 0.8634686\tbest: 0.8634686 (0)\ttotal: 21ms\tremaining: 4.18s\n",
      "100:\tlearn: 0.9118636\ttest: 0.8735419\tbest: 0.8735568 (99)\ttotal: 2.25s\tremaining: 2.21s\n",
      "199:\tlearn: 0.9158186\ttest: 0.8766492\tbest: 0.8767136 (197)\ttotal: 4.51s\tremaining: 0us\n",
      "bestTest = 0.8767135675\n",
      "bestIteration = 197\n",
      "Shrink model to first 198 iterations.\n"
     ]
    },
    {
     "name": "stderr",
     "output_type": "stream",
     "text": [
      " 94%|█████████▍| 32/34 [05:46<00:23, 11.82s/it]"
     ]
    },
    {
     "name": "stdout",
     "output_type": "stream",
     "text": [
      "Learning rate set to 0.08543\n",
      "0:\tlearn: 1.0000000\ttest: 1.0000000\tbest: 1.0000000 (0)\ttotal: 20.1ms\tremaining: 4.01s\n",
      "100:\tlearn: 1.0000000\ttest: 1.0000000\tbest: 1.0000000 (0)\ttotal: 2.09s\tremaining: 2.05s\n",
      "bestTest = 1\n",
      "bestIteration = 0\n",
      "Shrink model to first 1 iterations.\n",
      "Learning rate set to 0.08543\n",
      "0:\tlearn: 1.0000000\ttest: 1.0000000\tbest: 1.0000000 (0)\ttotal: 19.8ms\tremaining: 3.94s\n",
      "100:\tlearn: 1.0000000\ttest: 1.0000000\tbest: 1.0000000 (0)\ttotal: 2.21s\tremaining: 2.16s\n",
      "bestTest = 1\n",
      "bestIteration = 0\n",
      "Shrink model to first 1 iterations.\n"
     ]
    },
    {
     "name": "stderr",
     "output_type": "stream",
     "text": [
      " 97%|█████████▋| 33/34 [05:57<00:11, 11.47s/it]"
     ]
    },
    {
     "name": "stdout",
     "output_type": "stream",
     "text": [
      "Learning rate set to 0.08543\n",
      "0:\tlearn: 1.0000000\ttest: 1.0000000\tbest: 1.0000000 (0)\ttotal: 18.7ms\tremaining: 3.72s\n",
      "100:\tlearn: 1.0000000\ttest: 1.0000000\tbest: 1.0000000 (0)\ttotal: 2.06s\tremaining: 2.02s\n",
      "bestTest = 1\n",
      "bestIteration = 0\n",
      "Shrink model to first 1 iterations.\n",
      "Learning rate set to 0.08543\n",
      "0:\tlearn: 1.0000000\ttest: 1.0000000\tbest: 1.0000000 (0)\ttotal: 16.8ms\tremaining: 3.35s\n",
      "100:\tlearn: 1.0000000\ttest: 1.0000000\tbest: 1.0000000 (0)\ttotal: 1.87s\tremaining: 1.83s\n",
      "bestTest = 1\n",
      "bestIteration = 0\n",
      "Shrink model to first 1 iterations.\n"
     ]
    },
    {
     "name": "stderr",
     "output_type": "stream",
     "text": [
      "100%|██████████| 34/34 [06:07<00:00, 10.80s/it]"
     ]
    },
    {
     "name": "stdout",
     "output_type": "stream",
     "text": [
      "Avg Precision : 0.9534222905793529\n",
      "Avg Recall : 0.8999453517273395\n",
      "Avg F1 : 0.8991221906095671\n",
      "Avg TP : 0.8999453517273395\n",
      "Avg TN : 0.9399091530779394\n",
      "Avg FN : 0.1000546482726605\n",
      "avgAccs : 0.9199274082932373\n"
     ]
    },
    {
     "name": "stderr",
     "output_type": "stream",
     "text": [
      "\n"
     ]
    }
   ],
   "source": [
    "\n",
    "for part in tqdm(targetCol):\n",
    "    X = multilabelDf[allInputFeature + [\"CaseID\"]]\n",
    "    Y = multilabelDf[part].to_frame()\n",
    "    mulitlearnStratify = StratifiedKFold(n_splits=2)\n",
    "    allCaseIdByPart = []\n",
    "    allPredByPart = []\n",
    "    allGtByPart = []\n",
    "\n",
    "    for kfoldId, (train_index, test_index) in enumerate(mulitlearnStratify.split(X, Y)):\n",
    "        X_train, X_test = X.iloc[train_index], X.iloc[test_index]\n",
    "        Y_train, Y_test = Y.iloc[train_index], Y.iloc[test_index]\n",
    "        trainCaseId = X_train[\"CaseID\"]\n",
    "        testCaseId = X_test[\"CaseID\"]\n",
    "        X_train = X_train[allInputFeature]\n",
    "        X_test = X_test[allInputFeature]\n",
    "        clsWeight=class_weight.compute_class_weight(class_weight='balanced',classes=np.unique(Y_train.values),y=Y_train.values.squeeze(1))\n",
    "\n",
    "        testClsWeights = {\n",
    "            0 : clsWeight[0],\n",
    "            1 : clsWeight[1]\n",
    "\n",
    "        }\n",
    "        sampleWeights = class_weight.compute_sample_weight(class_weight=testClsWeights, y=Y_test.values)\n",
    "\n",
    "        train_pool = Pool(\n",
    "            X_train, Y_train, cat_features=caseFeatures + allVisionFeatures\n",
    "        )\n",
    "        test_pool = Pool(X_test, Y_test, cat_features=caseFeatures + allVisionFeatures)\n",
    "        clf = CatBoostClassifier(\n",
    "            loss_function=\"Logloss\",\n",
    "            eval_metric=\"F1\",\n",
    "            iterations=200,\n",
    "            early_stopping_rounds=100,\n",
    "            task_type=\"GPU\",\n",
    "            use_best_model=True,\n",
    "            class_weights= clsWeight,\n",
    "\n",
    "            # class_names=[\"not_dmg\", \"dmg\"],\n",
    "        )\n",
    "        clf.fit(\n",
    "            train_pool, eval_set=test_pool, metric_period=100, plot=False, verbose=1\n",
    "        )\n",
    "        test_predict = clf.predict(X_test)\n",
    "        b = Y_test.values.squeeze(1).astype(np.int64)\n",
    "        acc = accuracy_score(b, test_predict, sample_weight=sampleWeights)\n",
    "        confMat = confusion_matrix(b, test_predict, sample_weight=sampleWeights)\n",
    "        pos_count = len(Y_test[Y_test[part] == 1]) / len(Y_test)\n",
    "        tn = confMat[0][0]\n",
    "        tp = confMat[1][1]\n",
    "        fp = confMat[0][1]\n",
    "        fn = confMat[1][0]\n",
    "        totalSample = fp + fn + tp + tn\n",
    "        acc = (tp + tn) / (fp + fn + tp + tn)\n",
    "        precision = tp / (tp + fp)\n",
    "        recall = tp / (tp + fn)\n",
    "        # assert (tp / (tp + fn)) + (fn / (tp + fn)) == (tn / (tn + fp)) + (\n",
    "        #     fp / (tn + fp)\n",
    "        # ) \n",
    "        allPredByPart.extend(test_predict)\n",
    "        \n",
    "        allCaseIdByPart.extend(testCaseId)\n",
    "        allGtByPart.extend(b)\n",
    "\n",
    "        allPredModel.append(\n",
    "            {   \"kfold\" : kfoldId,\n",
    "                \"part\": part,\n",
    "                \"tp\": tp / (tp + fn),\n",
    "                \"tn\": tn / (tn + fp),\n",
    "                \"fp\": fp / (tn + fp),\n",
    "                \"fn\": fn / (tp + fn),\n",
    "                \"acc\": acc,\n",
    "                \"precision\": precision,\n",
    "                \"recall\": recall,\n",
    "                \"f1\": (2 * precision * recall) / (precision + recall),\n",
    "                \"pos_count\": pos_count,\n",
    "            }\n",
    "        )\n",
    "    allPreds.append({\n",
    "    \"CaseID\": allCaseIdByPart,\n",
    "    part : allPredByPart})\n",
    "    allGt.append({\n",
    "    \"CaseID\": allCaseIdByPart,\n",
    "    part : allGtByPart})\n",
    " \n",
    "\n",
    "evalMetrics = pd.json_normalize(allPredModel)\n",
    "avgPrecision = evalMetrics[\"precision\"].mean()\n",
    "avgRecall = evalMetrics[\"recall\"].mean()\n",
    "avgF1 = evalMetrics[\"f1\"].mean()\n",
    "avgTp = evalMetrics[\"tp\"].mean()\n",
    "avgTn = evalMetrics[\"tn\"].mean()\n",
    "avgAcc = evalMetrics[\"acc\"].mean()\n",
    "avgFn = evalMetrics[\"fn\"].mean()\n",
    "\n",
    "print(f\"Avg Precision : {avgPrecision}\")\n",
    "print(f\"Avg Recall : {avgRecall}\")\n",
    "print(f\"Avg F1 : {avgF1}\")\n",
    "print(f\"Avg TP : {avgTp}\")\n",
    "print(f\"Avg TN : {avgTn}\")\n",
    "print(f\"Avg FN : {avgFn}\")\n",
    "\n",
    "print(f\"avgAccs : {avgAcc}\")"
   ]
  },
  {
   "cell_type": "code",
   "execution_count": 24,
   "metadata": {},
   "outputs": [],
   "source": [
    "evalMetrics = evalMetrics[evalMetrics[\"kfold\"] == 0]"
   ]
  },
  {
   "cell_type": "code",
   "execution_count": 25,
   "metadata": {},
   "outputs": [
    {
     "data": {
      "application/vnd.plotly.v1+json": {
       "config": {
        "plotlyServerURL": "https://plot.ly"
       },
       "data": [
        {
         "alignmentgroup": "True",
         "hovertemplate": "part=%{x}<br>tp=%{y}<extra></extra>",
         "legendgroup": "",
         "marker": {
          "color": "#636efa",
          "pattern": {
           "shape": ""
          }
         },
         "name": "",
         "offsetgroup": "",
         "orientation": "v",
         "showlegend": false,
         "textposition": "auto",
         "type": "bar",
         "x": [
          "bonnet",
          "bumper_front",
          "grille",
          "fog_lamp_rh",
          "headlamp_lh",
          "headlamp_rh",
          "door_front_lh",
          "door_front_rh",
          "air_conditioning",
          "cooling_fan",
          "radiator",
          "bumper_rear",
          "misc",
          "engine",
          "airbag",
          "front_panel",
          "undercarriage",
          "wheel",
          "fender_front_lh",
          "fender_front_rh",
          "door_mirror_rh",
          "rear_quarter_lh",
          "interior",
          "tail_lamp_lh",
          "fog_lamp_lh",
          "tail_lamp_rh",
          "windscreen_front",
          "rear_compartment",
          "rear_panel",
          "rear_quarter_rh",
          "door_rear_rh",
          "door_mirror_lh",
          "door_rear_lh",
          "windscreen_rear"
         ],
         "xaxis": "x",
         "y": [
          1,
          1,
          1,
          0.9982186352564801,
          1,
          1,
          1,
          1,
          0.9998506365182224,
          1,
          0.9998002843011717,
          1,
          0.9986658860340346,
          1,
          0.9945953841659338,
          1,
          1,
          1,
          1,
          1,
          0.9676038173845828,
          1,
          1,
          1,
          0.9989745342676464,
          1,
          1,
          1,
          1,
          1,
          1,
          0.9621720947915496,
          1,
          1
         ],
         "yaxis": "y"
        }
       ],
       "layout": {
        "barmode": "relative",
        "legend": {
         "tracegroupgap": 0
        },
        "margin": {
         "t": 60
        },
        "shapes": [
         {
          "line": {
           "color": "red",
           "width": 2
          },
          "type": "line",
          "x0": 0,
          "x1": 1,
          "xref": "x domain",
          "y0": 0.8999453517273395,
          "y1": 0.8999453517273395,
          "yref": "y"
         }
        ],
        "template": {
         "data": {
          "bar": [
           {
            "error_x": {
             "color": "#2a3f5f"
            },
            "error_y": {
             "color": "#2a3f5f"
            },
            "marker": {
             "line": {
              "color": "#E5ECF6",
              "width": 0.5
             },
             "pattern": {
              "fillmode": "overlay",
              "size": 10,
              "solidity": 0.2
             }
            },
            "type": "bar"
           }
          ],
          "barpolar": [
           {
            "marker": {
             "line": {
              "color": "#E5ECF6",
              "width": 0.5
             },
             "pattern": {
              "fillmode": "overlay",
              "size": 10,
              "solidity": 0.2
             }
            },
            "type": "barpolar"
           }
          ],
          "carpet": [
           {
            "aaxis": {
             "endlinecolor": "#2a3f5f",
             "gridcolor": "white",
             "linecolor": "white",
             "minorgridcolor": "white",
             "startlinecolor": "#2a3f5f"
            },
            "baxis": {
             "endlinecolor": "#2a3f5f",
             "gridcolor": "white",
             "linecolor": "white",
             "minorgridcolor": "white",
             "startlinecolor": "#2a3f5f"
            },
            "type": "carpet"
           }
          ],
          "choropleth": [
           {
            "colorbar": {
             "outlinewidth": 0,
             "ticks": ""
            },
            "type": "choropleth"
           }
          ],
          "contour": [
           {
            "colorbar": {
             "outlinewidth": 0,
             "ticks": ""
            },
            "colorscale": [
             [
              0,
              "#0d0887"
             ],
             [
              0.1111111111111111,
              "#46039f"
             ],
             [
              0.2222222222222222,
              "#7201a8"
             ],
             [
              0.3333333333333333,
              "#9c179e"
             ],
             [
              0.4444444444444444,
              "#bd3786"
             ],
             [
              0.5555555555555556,
              "#d8576b"
             ],
             [
              0.6666666666666666,
              "#ed7953"
             ],
             [
              0.7777777777777778,
              "#fb9f3a"
             ],
             [
              0.8888888888888888,
              "#fdca26"
             ],
             [
              1,
              "#f0f921"
             ]
            ],
            "type": "contour"
           }
          ],
          "contourcarpet": [
           {
            "colorbar": {
             "outlinewidth": 0,
             "ticks": ""
            },
            "type": "contourcarpet"
           }
          ],
          "heatmap": [
           {
            "colorbar": {
             "outlinewidth": 0,
             "ticks": ""
            },
            "colorscale": [
             [
              0,
              "#0d0887"
             ],
             [
              0.1111111111111111,
              "#46039f"
             ],
             [
              0.2222222222222222,
              "#7201a8"
             ],
             [
              0.3333333333333333,
              "#9c179e"
             ],
             [
              0.4444444444444444,
              "#bd3786"
             ],
             [
              0.5555555555555556,
              "#d8576b"
             ],
             [
              0.6666666666666666,
              "#ed7953"
             ],
             [
              0.7777777777777778,
              "#fb9f3a"
             ],
             [
              0.8888888888888888,
              "#fdca26"
             ],
             [
              1,
              "#f0f921"
             ]
            ],
            "type": "heatmap"
           }
          ],
          "heatmapgl": [
           {
            "colorbar": {
             "outlinewidth": 0,
             "ticks": ""
            },
            "colorscale": [
             [
              0,
              "#0d0887"
             ],
             [
              0.1111111111111111,
              "#46039f"
             ],
             [
              0.2222222222222222,
              "#7201a8"
             ],
             [
              0.3333333333333333,
              "#9c179e"
             ],
             [
              0.4444444444444444,
              "#bd3786"
             ],
             [
              0.5555555555555556,
              "#d8576b"
             ],
             [
              0.6666666666666666,
              "#ed7953"
             ],
             [
              0.7777777777777778,
              "#fb9f3a"
             ],
             [
              0.8888888888888888,
              "#fdca26"
             ],
             [
              1,
              "#f0f921"
             ]
            ],
            "type": "heatmapgl"
           }
          ],
          "histogram": [
           {
            "marker": {
             "pattern": {
              "fillmode": "overlay",
              "size": 10,
              "solidity": 0.2
             }
            },
            "type": "histogram"
           }
          ],
          "histogram2d": [
           {
            "colorbar": {
             "outlinewidth": 0,
             "ticks": ""
            },
            "colorscale": [
             [
              0,
              "#0d0887"
             ],
             [
              0.1111111111111111,
              "#46039f"
             ],
             [
              0.2222222222222222,
              "#7201a8"
             ],
             [
              0.3333333333333333,
              "#9c179e"
             ],
             [
              0.4444444444444444,
              "#bd3786"
             ],
             [
              0.5555555555555556,
              "#d8576b"
             ],
             [
              0.6666666666666666,
              "#ed7953"
             ],
             [
              0.7777777777777778,
              "#fb9f3a"
             ],
             [
              0.8888888888888888,
              "#fdca26"
             ],
             [
              1,
              "#f0f921"
             ]
            ],
            "type": "histogram2d"
           }
          ],
          "histogram2dcontour": [
           {
            "colorbar": {
             "outlinewidth": 0,
             "ticks": ""
            },
            "colorscale": [
             [
              0,
              "#0d0887"
             ],
             [
              0.1111111111111111,
              "#46039f"
             ],
             [
              0.2222222222222222,
              "#7201a8"
             ],
             [
              0.3333333333333333,
              "#9c179e"
             ],
             [
              0.4444444444444444,
              "#bd3786"
             ],
             [
              0.5555555555555556,
              "#d8576b"
             ],
             [
              0.6666666666666666,
              "#ed7953"
             ],
             [
              0.7777777777777778,
              "#fb9f3a"
             ],
             [
              0.8888888888888888,
              "#fdca26"
             ],
             [
              1,
              "#f0f921"
             ]
            ],
            "type": "histogram2dcontour"
           }
          ],
          "mesh3d": [
           {
            "colorbar": {
             "outlinewidth": 0,
             "ticks": ""
            },
            "type": "mesh3d"
           }
          ],
          "parcoords": [
           {
            "line": {
             "colorbar": {
              "outlinewidth": 0,
              "ticks": ""
             }
            },
            "type": "parcoords"
           }
          ],
          "pie": [
           {
            "automargin": true,
            "type": "pie"
           }
          ],
          "scatter": [
           {
            "fillpattern": {
             "fillmode": "overlay",
             "size": 10,
             "solidity": 0.2
            },
            "type": "scatter"
           }
          ],
          "scatter3d": [
           {
            "line": {
             "colorbar": {
              "outlinewidth": 0,
              "ticks": ""
             }
            },
            "marker": {
             "colorbar": {
              "outlinewidth": 0,
              "ticks": ""
             }
            },
            "type": "scatter3d"
           }
          ],
          "scattercarpet": [
           {
            "marker": {
             "colorbar": {
              "outlinewidth": 0,
              "ticks": ""
             }
            },
            "type": "scattercarpet"
           }
          ],
          "scattergeo": [
           {
            "marker": {
             "colorbar": {
              "outlinewidth": 0,
              "ticks": ""
             }
            },
            "type": "scattergeo"
           }
          ],
          "scattergl": [
           {
            "marker": {
             "colorbar": {
              "outlinewidth": 0,
              "ticks": ""
             }
            },
            "type": "scattergl"
           }
          ],
          "scattermapbox": [
           {
            "marker": {
             "colorbar": {
              "outlinewidth": 0,
              "ticks": ""
             }
            },
            "type": "scattermapbox"
           }
          ],
          "scatterpolar": [
           {
            "marker": {
             "colorbar": {
              "outlinewidth": 0,
              "ticks": ""
             }
            },
            "type": "scatterpolar"
           }
          ],
          "scatterpolargl": [
           {
            "marker": {
             "colorbar": {
              "outlinewidth": 0,
              "ticks": ""
             }
            },
            "type": "scatterpolargl"
           }
          ],
          "scatterternary": [
           {
            "marker": {
             "colorbar": {
              "outlinewidth": 0,
              "ticks": ""
             }
            },
            "type": "scatterternary"
           }
          ],
          "surface": [
           {
            "colorbar": {
             "outlinewidth": 0,
             "ticks": ""
            },
            "colorscale": [
             [
              0,
              "#0d0887"
             ],
             [
              0.1111111111111111,
              "#46039f"
             ],
             [
              0.2222222222222222,
              "#7201a8"
             ],
             [
              0.3333333333333333,
              "#9c179e"
             ],
             [
              0.4444444444444444,
              "#bd3786"
             ],
             [
              0.5555555555555556,
              "#d8576b"
             ],
             [
              0.6666666666666666,
              "#ed7953"
             ],
             [
              0.7777777777777778,
              "#fb9f3a"
             ],
             [
              0.8888888888888888,
              "#fdca26"
             ],
             [
              1,
              "#f0f921"
             ]
            ],
            "type": "surface"
           }
          ],
          "table": [
           {
            "cells": {
             "fill": {
              "color": "#EBF0F8"
             },
             "line": {
              "color": "white"
             }
            },
            "header": {
             "fill": {
              "color": "#C8D4E3"
             },
             "line": {
              "color": "white"
             }
            },
            "type": "table"
           }
          ]
         },
         "layout": {
          "annotationdefaults": {
           "arrowcolor": "#2a3f5f",
           "arrowhead": 0,
           "arrowwidth": 1
          },
          "autotypenumbers": "strict",
          "coloraxis": {
           "colorbar": {
            "outlinewidth": 0,
            "ticks": ""
           }
          },
          "colorscale": {
           "diverging": [
            [
             0,
             "#8e0152"
            ],
            [
             0.1,
             "#c51b7d"
            ],
            [
             0.2,
             "#de77ae"
            ],
            [
             0.3,
             "#f1b6da"
            ],
            [
             0.4,
             "#fde0ef"
            ],
            [
             0.5,
             "#f7f7f7"
            ],
            [
             0.6,
             "#e6f5d0"
            ],
            [
             0.7,
             "#b8e186"
            ],
            [
             0.8,
             "#7fbc41"
            ],
            [
             0.9,
             "#4d9221"
            ],
            [
             1,
             "#276419"
            ]
           ],
           "sequential": [
            [
             0,
             "#0d0887"
            ],
            [
             0.1111111111111111,
             "#46039f"
            ],
            [
             0.2222222222222222,
             "#7201a8"
            ],
            [
             0.3333333333333333,
             "#9c179e"
            ],
            [
             0.4444444444444444,
             "#bd3786"
            ],
            [
             0.5555555555555556,
             "#d8576b"
            ],
            [
             0.6666666666666666,
             "#ed7953"
            ],
            [
             0.7777777777777778,
             "#fb9f3a"
            ],
            [
             0.8888888888888888,
             "#fdca26"
            ],
            [
             1,
             "#f0f921"
            ]
           ],
           "sequentialminus": [
            [
             0,
             "#0d0887"
            ],
            [
             0.1111111111111111,
             "#46039f"
            ],
            [
             0.2222222222222222,
             "#7201a8"
            ],
            [
             0.3333333333333333,
             "#9c179e"
            ],
            [
             0.4444444444444444,
             "#bd3786"
            ],
            [
             0.5555555555555556,
             "#d8576b"
            ],
            [
             0.6666666666666666,
             "#ed7953"
            ],
            [
             0.7777777777777778,
             "#fb9f3a"
            ],
            [
             0.8888888888888888,
             "#fdca26"
            ],
            [
             1,
             "#f0f921"
            ]
           ]
          },
          "colorway": [
           "#636efa",
           "#EF553B",
           "#00cc96",
           "#ab63fa",
           "#FFA15A",
           "#19d3f3",
           "#FF6692",
           "#B6E880",
           "#FF97FF",
           "#FECB52"
          ],
          "font": {
           "color": "#2a3f5f"
          },
          "geo": {
           "bgcolor": "white",
           "lakecolor": "white",
           "landcolor": "#E5ECF6",
           "showlakes": true,
           "showland": true,
           "subunitcolor": "white"
          },
          "hoverlabel": {
           "align": "left"
          },
          "hovermode": "closest",
          "mapbox": {
           "style": "light"
          },
          "paper_bgcolor": "white",
          "plot_bgcolor": "#E5ECF6",
          "polar": {
           "angularaxis": {
            "gridcolor": "white",
            "linecolor": "white",
            "ticks": ""
           },
           "bgcolor": "#E5ECF6",
           "radialaxis": {
            "gridcolor": "white",
            "linecolor": "white",
            "ticks": ""
           }
          },
          "scene": {
           "xaxis": {
            "backgroundcolor": "#E5ECF6",
            "gridcolor": "white",
            "gridwidth": 2,
            "linecolor": "white",
            "showbackground": true,
            "ticks": "",
            "zerolinecolor": "white"
           },
           "yaxis": {
            "backgroundcolor": "#E5ECF6",
            "gridcolor": "white",
            "gridwidth": 2,
            "linecolor": "white",
            "showbackground": true,
            "ticks": "",
            "zerolinecolor": "white"
           },
           "zaxis": {
            "backgroundcolor": "#E5ECF6",
            "gridcolor": "white",
            "gridwidth": 2,
            "linecolor": "white",
            "showbackground": true,
            "ticks": "",
            "zerolinecolor": "white"
           }
          },
          "shapedefaults": {
           "line": {
            "color": "#2a3f5f"
           }
          },
          "ternary": {
           "aaxis": {
            "gridcolor": "white",
            "linecolor": "white",
            "ticks": ""
           },
           "baxis": {
            "gridcolor": "white",
            "linecolor": "white",
            "ticks": ""
           },
           "bgcolor": "#E5ECF6",
           "caxis": {
            "gridcolor": "white",
            "linecolor": "white",
            "ticks": ""
           }
          },
          "title": {
           "x": 0.05
          },
          "xaxis": {
           "automargin": true,
           "gridcolor": "white",
           "linecolor": "white",
           "ticks": "",
           "title": {
            "standoff": 15
           },
           "zerolinecolor": "white",
           "zerolinewidth": 2
          },
          "yaxis": {
           "automargin": true,
           "gridcolor": "white",
           "linecolor": "white",
           "ticks": "",
           "title": {
            "standoff": 15
           },
           "zerolinecolor": "white",
           "zerolinewidth": 2
          }
         }
        },
        "xaxis": {
         "anchor": "y",
         "domain": [
          0,
          1
         ],
         "title": {
          "text": "part"
         }
        },
        "yaxis": {
         "anchor": "x",
         "domain": [
          0,
          1
         ],
         "tickmode": "array",
         "tickvals": [
          "0.9",
          0.2,
          0.5,
          0.7
         ],
         "title": {
          "text": "tp"
         }
        }
       }
      }
     },
     "metadata": {},
     "output_type": "display_data"
    }
   ],
   "source": [
    "fig = px.bar(evalMetrics, x = 'part', y = 'tp')\n",
    "\n",
    "fig.add_hline(y=avgTp, line_width=2, line_color=\"red\")\n",
    "\n",
    "fig.update_layout(\n",
    "    yaxis = dict(\n",
    "        tickmode = 'array',\n",
    "        tickvals = [np.format_float_positional(avgTp, 2), 0.2, 0.5, 0.7],\n",
    "    )\n",
    ")\n",
    "fig"
   ]
  },
  {
   "cell_type": "code",
   "execution_count": 26,
   "metadata": {},
   "outputs": [
    {
     "data": {
      "application/vnd.plotly.v1+json": {
       "config": {
        "plotlyServerURL": "https://plot.ly"
       },
       "data": [
        {
         "alignmentgroup": "True",
         "hovertemplate": "part=%{x}<br>tn=%{y}<extra></extra>",
         "legendgroup": "",
         "marker": {
          "color": "#636efa",
          "pattern": {
           "shape": ""
          }
         },
         "name": "",
         "offsetgroup": "",
         "orientation": "v",
         "showlegend": false,
         "textposition": "auto",
         "type": "bar",
         "x": [
          "bonnet",
          "bumper_front",
          "grille",
          "fog_lamp_rh",
          "headlamp_lh",
          "headlamp_rh",
          "door_front_lh",
          "door_front_rh",
          "air_conditioning",
          "cooling_fan",
          "radiator",
          "bumper_rear",
          "misc",
          "engine",
          "airbag",
          "front_panel",
          "undercarriage",
          "wheel",
          "fender_front_lh",
          "fender_front_rh",
          "door_mirror_rh",
          "rear_quarter_lh",
          "interior",
          "tail_lamp_lh",
          "fog_lamp_lh",
          "tail_lamp_rh",
          "windscreen_front",
          "rear_compartment",
          "rear_panel",
          "rear_quarter_rh",
          "door_rear_rh",
          "door_mirror_lh",
          "door_rear_lh",
          "windscreen_rear"
         ],
         "xaxis": "x",
         "y": [
          1,
          1,
          1,
          0.5626821726078572,
          0.9457856674528765,
          0.9230430021749441,
          1,
          1,
          0.5674820580687986,
          0.4540525627651371,
          0.542376865005124,
          1,
          0.9444094471925677,
          0.5356072279722206,
          0.7774955540512108,
          1,
          0.896788922442589,
          1,
          1,
          1,
          0.8080870470789273,
          1,
          0.792421060526167,
          1,
          0.5949440883792897,
          1,
          1,
          1,
          1,
          1,
          1,
          0.8236343074303104,
          1,
          1
         ],
         "yaxis": "y"
        }
       ],
       "layout": {
        "barmode": "relative",
        "legend": {
         "tracegroupgap": 0
        },
        "margin": {
         "t": 60
        },
        "shapes": [
         {
          "line": {
           "color": "red",
           "width": 2
          },
          "type": "line",
          "x0": 0,
          "x1": 1,
          "xref": "x domain",
          "y0": 0.9399091530779394,
          "y1": 0.9399091530779394,
          "yref": "y"
         }
        ],
        "template": {
         "data": {
          "bar": [
           {
            "error_x": {
             "color": "#2a3f5f"
            },
            "error_y": {
             "color": "#2a3f5f"
            },
            "marker": {
             "line": {
              "color": "#E5ECF6",
              "width": 0.5
             },
             "pattern": {
              "fillmode": "overlay",
              "size": 10,
              "solidity": 0.2
             }
            },
            "type": "bar"
           }
          ],
          "barpolar": [
           {
            "marker": {
             "line": {
              "color": "#E5ECF6",
              "width": 0.5
             },
             "pattern": {
              "fillmode": "overlay",
              "size": 10,
              "solidity": 0.2
             }
            },
            "type": "barpolar"
           }
          ],
          "carpet": [
           {
            "aaxis": {
             "endlinecolor": "#2a3f5f",
             "gridcolor": "white",
             "linecolor": "white",
             "minorgridcolor": "white",
             "startlinecolor": "#2a3f5f"
            },
            "baxis": {
             "endlinecolor": "#2a3f5f",
             "gridcolor": "white",
             "linecolor": "white",
             "minorgridcolor": "white",
             "startlinecolor": "#2a3f5f"
            },
            "type": "carpet"
           }
          ],
          "choropleth": [
           {
            "colorbar": {
             "outlinewidth": 0,
             "ticks": ""
            },
            "type": "choropleth"
           }
          ],
          "contour": [
           {
            "colorbar": {
             "outlinewidth": 0,
             "ticks": ""
            },
            "colorscale": [
             [
              0,
              "#0d0887"
             ],
             [
              0.1111111111111111,
              "#46039f"
             ],
             [
              0.2222222222222222,
              "#7201a8"
             ],
             [
              0.3333333333333333,
              "#9c179e"
             ],
             [
              0.4444444444444444,
              "#bd3786"
             ],
             [
              0.5555555555555556,
              "#d8576b"
             ],
             [
              0.6666666666666666,
              "#ed7953"
             ],
             [
              0.7777777777777778,
              "#fb9f3a"
             ],
             [
              0.8888888888888888,
              "#fdca26"
             ],
             [
              1,
              "#f0f921"
             ]
            ],
            "type": "contour"
           }
          ],
          "contourcarpet": [
           {
            "colorbar": {
             "outlinewidth": 0,
             "ticks": ""
            },
            "type": "contourcarpet"
           }
          ],
          "heatmap": [
           {
            "colorbar": {
             "outlinewidth": 0,
             "ticks": ""
            },
            "colorscale": [
             [
              0,
              "#0d0887"
             ],
             [
              0.1111111111111111,
              "#46039f"
             ],
             [
              0.2222222222222222,
              "#7201a8"
             ],
             [
              0.3333333333333333,
              "#9c179e"
             ],
             [
              0.4444444444444444,
              "#bd3786"
             ],
             [
              0.5555555555555556,
              "#d8576b"
             ],
             [
              0.6666666666666666,
              "#ed7953"
             ],
             [
              0.7777777777777778,
              "#fb9f3a"
             ],
             [
              0.8888888888888888,
              "#fdca26"
             ],
             [
              1,
              "#f0f921"
             ]
            ],
            "type": "heatmap"
           }
          ],
          "heatmapgl": [
           {
            "colorbar": {
             "outlinewidth": 0,
             "ticks": ""
            },
            "colorscale": [
             [
              0,
              "#0d0887"
             ],
             [
              0.1111111111111111,
              "#46039f"
             ],
             [
              0.2222222222222222,
              "#7201a8"
             ],
             [
              0.3333333333333333,
              "#9c179e"
             ],
             [
              0.4444444444444444,
              "#bd3786"
             ],
             [
              0.5555555555555556,
              "#d8576b"
             ],
             [
              0.6666666666666666,
              "#ed7953"
             ],
             [
              0.7777777777777778,
              "#fb9f3a"
             ],
             [
              0.8888888888888888,
              "#fdca26"
             ],
             [
              1,
              "#f0f921"
             ]
            ],
            "type": "heatmapgl"
           }
          ],
          "histogram": [
           {
            "marker": {
             "pattern": {
              "fillmode": "overlay",
              "size": 10,
              "solidity": 0.2
             }
            },
            "type": "histogram"
           }
          ],
          "histogram2d": [
           {
            "colorbar": {
             "outlinewidth": 0,
             "ticks": ""
            },
            "colorscale": [
             [
              0,
              "#0d0887"
             ],
             [
              0.1111111111111111,
              "#46039f"
             ],
             [
              0.2222222222222222,
              "#7201a8"
             ],
             [
              0.3333333333333333,
              "#9c179e"
             ],
             [
              0.4444444444444444,
              "#bd3786"
             ],
             [
              0.5555555555555556,
              "#d8576b"
             ],
             [
              0.6666666666666666,
              "#ed7953"
             ],
             [
              0.7777777777777778,
              "#fb9f3a"
             ],
             [
              0.8888888888888888,
              "#fdca26"
             ],
             [
              1,
              "#f0f921"
             ]
            ],
            "type": "histogram2d"
           }
          ],
          "histogram2dcontour": [
           {
            "colorbar": {
             "outlinewidth": 0,
             "ticks": ""
            },
            "colorscale": [
             [
              0,
              "#0d0887"
             ],
             [
              0.1111111111111111,
              "#46039f"
             ],
             [
              0.2222222222222222,
              "#7201a8"
             ],
             [
              0.3333333333333333,
              "#9c179e"
             ],
             [
              0.4444444444444444,
              "#bd3786"
             ],
             [
              0.5555555555555556,
              "#d8576b"
             ],
             [
              0.6666666666666666,
              "#ed7953"
             ],
             [
              0.7777777777777778,
              "#fb9f3a"
             ],
             [
              0.8888888888888888,
              "#fdca26"
             ],
             [
              1,
              "#f0f921"
             ]
            ],
            "type": "histogram2dcontour"
           }
          ],
          "mesh3d": [
           {
            "colorbar": {
             "outlinewidth": 0,
             "ticks": ""
            },
            "type": "mesh3d"
           }
          ],
          "parcoords": [
           {
            "line": {
             "colorbar": {
              "outlinewidth": 0,
              "ticks": ""
             }
            },
            "type": "parcoords"
           }
          ],
          "pie": [
           {
            "automargin": true,
            "type": "pie"
           }
          ],
          "scatter": [
           {
            "fillpattern": {
             "fillmode": "overlay",
             "size": 10,
             "solidity": 0.2
            },
            "type": "scatter"
           }
          ],
          "scatter3d": [
           {
            "line": {
             "colorbar": {
              "outlinewidth": 0,
              "ticks": ""
             }
            },
            "marker": {
             "colorbar": {
              "outlinewidth": 0,
              "ticks": ""
             }
            },
            "type": "scatter3d"
           }
          ],
          "scattercarpet": [
           {
            "marker": {
             "colorbar": {
              "outlinewidth": 0,
              "ticks": ""
             }
            },
            "type": "scattercarpet"
           }
          ],
          "scattergeo": [
           {
            "marker": {
             "colorbar": {
              "outlinewidth": 0,
              "ticks": ""
             }
            },
            "type": "scattergeo"
           }
          ],
          "scattergl": [
           {
            "marker": {
             "colorbar": {
              "outlinewidth": 0,
              "ticks": ""
             }
            },
            "type": "scattergl"
           }
          ],
          "scattermapbox": [
           {
            "marker": {
             "colorbar": {
              "outlinewidth": 0,
              "ticks": ""
             }
            },
            "type": "scattermapbox"
           }
          ],
          "scatterpolar": [
           {
            "marker": {
             "colorbar": {
              "outlinewidth": 0,
              "ticks": ""
             }
            },
            "type": "scatterpolar"
           }
          ],
          "scatterpolargl": [
           {
            "marker": {
             "colorbar": {
              "outlinewidth": 0,
              "ticks": ""
             }
            },
            "type": "scatterpolargl"
           }
          ],
          "scatterternary": [
           {
            "marker": {
             "colorbar": {
              "outlinewidth": 0,
              "ticks": ""
             }
            },
            "type": "scatterternary"
           }
          ],
          "surface": [
           {
            "colorbar": {
             "outlinewidth": 0,
             "ticks": ""
            },
            "colorscale": [
             [
              0,
              "#0d0887"
             ],
             [
              0.1111111111111111,
              "#46039f"
             ],
             [
              0.2222222222222222,
              "#7201a8"
             ],
             [
              0.3333333333333333,
              "#9c179e"
             ],
             [
              0.4444444444444444,
              "#bd3786"
             ],
             [
              0.5555555555555556,
              "#d8576b"
             ],
             [
              0.6666666666666666,
              "#ed7953"
             ],
             [
              0.7777777777777778,
              "#fb9f3a"
             ],
             [
              0.8888888888888888,
              "#fdca26"
             ],
             [
              1,
              "#f0f921"
             ]
            ],
            "type": "surface"
           }
          ],
          "table": [
           {
            "cells": {
             "fill": {
              "color": "#EBF0F8"
             },
             "line": {
              "color": "white"
             }
            },
            "header": {
             "fill": {
              "color": "#C8D4E3"
             },
             "line": {
              "color": "white"
             }
            },
            "type": "table"
           }
          ]
         },
         "layout": {
          "annotationdefaults": {
           "arrowcolor": "#2a3f5f",
           "arrowhead": 0,
           "arrowwidth": 1
          },
          "autotypenumbers": "strict",
          "coloraxis": {
           "colorbar": {
            "outlinewidth": 0,
            "ticks": ""
           }
          },
          "colorscale": {
           "diverging": [
            [
             0,
             "#8e0152"
            ],
            [
             0.1,
             "#c51b7d"
            ],
            [
             0.2,
             "#de77ae"
            ],
            [
             0.3,
             "#f1b6da"
            ],
            [
             0.4,
             "#fde0ef"
            ],
            [
             0.5,
             "#f7f7f7"
            ],
            [
             0.6,
             "#e6f5d0"
            ],
            [
             0.7,
             "#b8e186"
            ],
            [
             0.8,
             "#7fbc41"
            ],
            [
             0.9,
             "#4d9221"
            ],
            [
             1,
             "#276419"
            ]
           ],
           "sequential": [
            [
             0,
             "#0d0887"
            ],
            [
             0.1111111111111111,
             "#46039f"
            ],
            [
             0.2222222222222222,
             "#7201a8"
            ],
            [
             0.3333333333333333,
             "#9c179e"
            ],
            [
             0.4444444444444444,
             "#bd3786"
            ],
            [
             0.5555555555555556,
             "#d8576b"
            ],
            [
             0.6666666666666666,
             "#ed7953"
            ],
            [
             0.7777777777777778,
             "#fb9f3a"
            ],
            [
             0.8888888888888888,
             "#fdca26"
            ],
            [
             1,
             "#f0f921"
            ]
           ],
           "sequentialminus": [
            [
             0,
             "#0d0887"
            ],
            [
             0.1111111111111111,
             "#46039f"
            ],
            [
             0.2222222222222222,
             "#7201a8"
            ],
            [
             0.3333333333333333,
             "#9c179e"
            ],
            [
             0.4444444444444444,
             "#bd3786"
            ],
            [
             0.5555555555555556,
             "#d8576b"
            ],
            [
             0.6666666666666666,
             "#ed7953"
            ],
            [
             0.7777777777777778,
             "#fb9f3a"
            ],
            [
             0.8888888888888888,
             "#fdca26"
            ],
            [
             1,
             "#f0f921"
            ]
           ]
          },
          "colorway": [
           "#636efa",
           "#EF553B",
           "#00cc96",
           "#ab63fa",
           "#FFA15A",
           "#19d3f3",
           "#FF6692",
           "#B6E880",
           "#FF97FF",
           "#FECB52"
          ],
          "font": {
           "color": "#2a3f5f"
          },
          "geo": {
           "bgcolor": "white",
           "lakecolor": "white",
           "landcolor": "#E5ECF6",
           "showlakes": true,
           "showland": true,
           "subunitcolor": "white"
          },
          "hoverlabel": {
           "align": "left"
          },
          "hovermode": "closest",
          "mapbox": {
           "style": "light"
          },
          "paper_bgcolor": "white",
          "plot_bgcolor": "#E5ECF6",
          "polar": {
           "angularaxis": {
            "gridcolor": "white",
            "linecolor": "white",
            "ticks": ""
           },
           "bgcolor": "#E5ECF6",
           "radialaxis": {
            "gridcolor": "white",
            "linecolor": "white",
            "ticks": ""
           }
          },
          "scene": {
           "xaxis": {
            "backgroundcolor": "#E5ECF6",
            "gridcolor": "white",
            "gridwidth": 2,
            "linecolor": "white",
            "showbackground": true,
            "ticks": "",
            "zerolinecolor": "white"
           },
           "yaxis": {
            "backgroundcolor": "#E5ECF6",
            "gridcolor": "white",
            "gridwidth": 2,
            "linecolor": "white",
            "showbackground": true,
            "ticks": "",
            "zerolinecolor": "white"
           },
           "zaxis": {
            "backgroundcolor": "#E5ECF6",
            "gridcolor": "white",
            "gridwidth": 2,
            "linecolor": "white",
            "showbackground": true,
            "ticks": "",
            "zerolinecolor": "white"
           }
          },
          "shapedefaults": {
           "line": {
            "color": "#2a3f5f"
           }
          },
          "ternary": {
           "aaxis": {
            "gridcolor": "white",
            "linecolor": "white",
            "ticks": ""
           },
           "baxis": {
            "gridcolor": "white",
            "linecolor": "white",
            "ticks": ""
           },
           "bgcolor": "#E5ECF6",
           "caxis": {
            "gridcolor": "white",
            "linecolor": "white",
            "ticks": ""
           }
          },
          "title": {
           "x": 0.05
          },
          "xaxis": {
           "automargin": true,
           "gridcolor": "white",
           "linecolor": "white",
           "ticks": "",
           "title": {
            "standoff": 15
           },
           "zerolinecolor": "white",
           "zerolinewidth": 2
          },
          "yaxis": {
           "automargin": true,
           "gridcolor": "white",
           "linecolor": "white",
           "ticks": "",
           "title": {
            "standoff": 15
           },
           "zerolinecolor": "white",
           "zerolinewidth": 2
          }
         }
        },
        "xaxis": {
         "anchor": "y",
         "domain": [
          0,
          1
         ],
         "title": {
          "text": "part"
         }
        },
        "yaxis": {
         "anchor": "x",
         "domain": [
          0,
          1
         ],
         "tickmode": "array",
         "tickvals": [
          "0.94",
          0.2,
          0.5,
          0.7
         ],
         "title": {
          "text": "tn"
         }
        }
       }
      }
     },
     "metadata": {},
     "output_type": "display_data"
    }
   ],
   "source": [
    "fig = px.bar(evalMetrics, x = 'part', y = 'tn')\n",
    "\n",
    "fig.add_hline(y=avgTn, line_width=2, line_color=\"red\")\n",
    "\n",
    "fig.update_layout(\n",
    "    yaxis = dict(\n",
    "        tickmode = 'array',\n",
    "        tickvals = [np.format_float_positional(avgTn, 2), 0.2, 0.5, 0.7],\n",
    "    )\n",
    ")\n",
    "fig"
   ]
  },
  {
   "cell_type": "code",
   "execution_count": 27,
   "metadata": {},
   "outputs": [
    {
     "data": {
      "application/vnd.plotly.v1+json": {
       "config": {
        "plotlyServerURL": "https://plot.ly"
       },
       "data": [
        {
         "alignmentgroup": "True",
         "hovertemplate": "part=%{x}<br>acc=%{y}<extra></extra>",
         "legendgroup": "",
         "marker": {
          "color": "#636efa",
          "pattern": {
           "shape": ""
          }
         },
         "name": "",
         "offsetgroup": "",
         "orientation": "v",
         "showlegend": false,
         "textposition": "auto",
         "type": "bar",
         "x": [
          "bonnet",
          "bumper_front",
          "grille",
          "fog_lamp_rh",
          "headlamp_lh",
          "headlamp_rh",
          "door_front_lh",
          "door_front_rh",
          "air_conditioning",
          "cooling_fan",
          "radiator",
          "bumper_rear",
          "misc",
          "engine",
          "airbag",
          "front_panel",
          "undercarriage",
          "wheel",
          "fender_front_lh",
          "fender_front_rh",
          "door_mirror_rh",
          "rear_quarter_lh",
          "interior",
          "tail_lamp_lh",
          "fog_lamp_lh",
          "tail_lamp_rh",
          "windscreen_front",
          "rear_compartment",
          "rear_panel",
          "rear_quarter_rh",
          "door_rear_rh",
          "door_mirror_lh",
          "door_rear_lh",
          "windscreen_rear"
         ],
         "xaxis": "x",
         "y": [
          1,
          1,
          1,
          0.7804500011759584,
          0.9728927674087058,
          0.961521405761842,
          1,
          1,
          0.7836658345673562,
          0.727029139536881,
          0.7710899181117801,
          1,
          0.9715375965744586,
          0.7678030387485931,
          0.8860474511401358,
          1,
          0.9483948703117927,
          1,
          1,
          1,
          0.8878474895038596,
          1,
          0.8962103356527107,
          1,
          0.7969589432876868,
          1,
          1,
          1,
          1,
          1,
          1,
          0.8929030783254548,
          1,
          1
         ],
         "yaxis": "y"
        }
       ],
       "layout": {
        "barmode": "relative",
        "legend": {
         "tracegroupgap": 0
        },
        "margin": {
         "t": 60
        },
        "shapes": [
         {
          "line": {
           "color": "red",
           "width": 2
          },
          "type": "line",
          "x0": 0,
          "x1": 1,
          "xref": "x domain",
          "y0": 0.9399091530779394,
          "y1": 0.9399091530779394,
          "yref": "y"
         }
        ],
        "template": {
         "data": {
          "bar": [
           {
            "error_x": {
             "color": "#2a3f5f"
            },
            "error_y": {
             "color": "#2a3f5f"
            },
            "marker": {
             "line": {
              "color": "#E5ECF6",
              "width": 0.5
             },
             "pattern": {
              "fillmode": "overlay",
              "size": 10,
              "solidity": 0.2
             }
            },
            "type": "bar"
           }
          ],
          "barpolar": [
           {
            "marker": {
             "line": {
              "color": "#E5ECF6",
              "width": 0.5
             },
             "pattern": {
              "fillmode": "overlay",
              "size": 10,
              "solidity": 0.2
             }
            },
            "type": "barpolar"
           }
          ],
          "carpet": [
           {
            "aaxis": {
             "endlinecolor": "#2a3f5f",
             "gridcolor": "white",
             "linecolor": "white",
             "minorgridcolor": "white",
             "startlinecolor": "#2a3f5f"
            },
            "baxis": {
             "endlinecolor": "#2a3f5f",
             "gridcolor": "white",
             "linecolor": "white",
             "minorgridcolor": "white",
             "startlinecolor": "#2a3f5f"
            },
            "type": "carpet"
           }
          ],
          "choropleth": [
           {
            "colorbar": {
             "outlinewidth": 0,
             "ticks": ""
            },
            "type": "choropleth"
           }
          ],
          "contour": [
           {
            "colorbar": {
             "outlinewidth": 0,
             "ticks": ""
            },
            "colorscale": [
             [
              0,
              "#0d0887"
             ],
             [
              0.1111111111111111,
              "#46039f"
             ],
             [
              0.2222222222222222,
              "#7201a8"
             ],
             [
              0.3333333333333333,
              "#9c179e"
             ],
             [
              0.4444444444444444,
              "#bd3786"
             ],
             [
              0.5555555555555556,
              "#d8576b"
             ],
             [
              0.6666666666666666,
              "#ed7953"
             ],
             [
              0.7777777777777778,
              "#fb9f3a"
             ],
             [
              0.8888888888888888,
              "#fdca26"
             ],
             [
              1,
              "#f0f921"
             ]
            ],
            "type": "contour"
           }
          ],
          "contourcarpet": [
           {
            "colorbar": {
             "outlinewidth": 0,
             "ticks": ""
            },
            "type": "contourcarpet"
           }
          ],
          "heatmap": [
           {
            "colorbar": {
             "outlinewidth": 0,
             "ticks": ""
            },
            "colorscale": [
             [
              0,
              "#0d0887"
             ],
             [
              0.1111111111111111,
              "#46039f"
             ],
             [
              0.2222222222222222,
              "#7201a8"
             ],
             [
              0.3333333333333333,
              "#9c179e"
             ],
             [
              0.4444444444444444,
              "#bd3786"
             ],
             [
              0.5555555555555556,
              "#d8576b"
             ],
             [
              0.6666666666666666,
              "#ed7953"
             ],
             [
              0.7777777777777778,
              "#fb9f3a"
             ],
             [
              0.8888888888888888,
              "#fdca26"
             ],
             [
              1,
              "#f0f921"
             ]
            ],
            "type": "heatmap"
           }
          ],
          "heatmapgl": [
           {
            "colorbar": {
             "outlinewidth": 0,
             "ticks": ""
            },
            "colorscale": [
             [
              0,
              "#0d0887"
             ],
             [
              0.1111111111111111,
              "#46039f"
             ],
             [
              0.2222222222222222,
              "#7201a8"
             ],
             [
              0.3333333333333333,
              "#9c179e"
             ],
             [
              0.4444444444444444,
              "#bd3786"
             ],
             [
              0.5555555555555556,
              "#d8576b"
             ],
             [
              0.6666666666666666,
              "#ed7953"
             ],
             [
              0.7777777777777778,
              "#fb9f3a"
             ],
             [
              0.8888888888888888,
              "#fdca26"
             ],
             [
              1,
              "#f0f921"
             ]
            ],
            "type": "heatmapgl"
           }
          ],
          "histogram": [
           {
            "marker": {
             "pattern": {
              "fillmode": "overlay",
              "size": 10,
              "solidity": 0.2
             }
            },
            "type": "histogram"
           }
          ],
          "histogram2d": [
           {
            "colorbar": {
             "outlinewidth": 0,
             "ticks": ""
            },
            "colorscale": [
             [
              0,
              "#0d0887"
             ],
             [
              0.1111111111111111,
              "#46039f"
             ],
             [
              0.2222222222222222,
              "#7201a8"
             ],
             [
              0.3333333333333333,
              "#9c179e"
             ],
             [
              0.4444444444444444,
              "#bd3786"
             ],
             [
              0.5555555555555556,
              "#d8576b"
             ],
             [
              0.6666666666666666,
              "#ed7953"
             ],
             [
              0.7777777777777778,
              "#fb9f3a"
             ],
             [
              0.8888888888888888,
              "#fdca26"
             ],
             [
              1,
              "#f0f921"
             ]
            ],
            "type": "histogram2d"
           }
          ],
          "histogram2dcontour": [
           {
            "colorbar": {
             "outlinewidth": 0,
             "ticks": ""
            },
            "colorscale": [
             [
              0,
              "#0d0887"
             ],
             [
              0.1111111111111111,
              "#46039f"
             ],
             [
              0.2222222222222222,
              "#7201a8"
             ],
             [
              0.3333333333333333,
              "#9c179e"
             ],
             [
              0.4444444444444444,
              "#bd3786"
             ],
             [
              0.5555555555555556,
              "#d8576b"
             ],
             [
              0.6666666666666666,
              "#ed7953"
             ],
             [
              0.7777777777777778,
              "#fb9f3a"
             ],
             [
              0.8888888888888888,
              "#fdca26"
             ],
             [
              1,
              "#f0f921"
             ]
            ],
            "type": "histogram2dcontour"
           }
          ],
          "mesh3d": [
           {
            "colorbar": {
             "outlinewidth": 0,
             "ticks": ""
            },
            "type": "mesh3d"
           }
          ],
          "parcoords": [
           {
            "line": {
             "colorbar": {
              "outlinewidth": 0,
              "ticks": ""
             }
            },
            "type": "parcoords"
           }
          ],
          "pie": [
           {
            "automargin": true,
            "type": "pie"
           }
          ],
          "scatter": [
           {
            "fillpattern": {
             "fillmode": "overlay",
             "size": 10,
             "solidity": 0.2
            },
            "type": "scatter"
           }
          ],
          "scatter3d": [
           {
            "line": {
             "colorbar": {
              "outlinewidth": 0,
              "ticks": ""
             }
            },
            "marker": {
             "colorbar": {
              "outlinewidth": 0,
              "ticks": ""
             }
            },
            "type": "scatter3d"
           }
          ],
          "scattercarpet": [
           {
            "marker": {
             "colorbar": {
              "outlinewidth": 0,
              "ticks": ""
             }
            },
            "type": "scattercarpet"
           }
          ],
          "scattergeo": [
           {
            "marker": {
             "colorbar": {
              "outlinewidth": 0,
              "ticks": ""
             }
            },
            "type": "scattergeo"
           }
          ],
          "scattergl": [
           {
            "marker": {
             "colorbar": {
              "outlinewidth": 0,
              "ticks": ""
             }
            },
            "type": "scattergl"
           }
          ],
          "scattermapbox": [
           {
            "marker": {
             "colorbar": {
              "outlinewidth": 0,
              "ticks": ""
             }
            },
            "type": "scattermapbox"
           }
          ],
          "scatterpolar": [
           {
            "marker": {
             "colorbar": {
              "outlinewidth": 0,
              "ticks": ""
             }
            },
            "type": "scatterpolar"
           }
          ],
          "scatterpolargl": [
           {
            "marker": {
             "colorbar": {
              "outlinewidth": 0,
              "ticks": ""
             }
            },
            "type": "scatterpolargl"
           }
          ],
          "scatterternary": [
           {
            "marker": {
             "colorbar": {
              "outlinewidth": 0,
              "ticks": ""
             }
            },
            "type": "scatterternary"
           }
          ],
          "surface": [
           {
            "colorbar": {
             "outlinewidth": 0,
             "ticks": ""
            },
            "colorscale": [
             [
              0,
              "#0d0887"
             ],
             [
              0.1111111111111111,
              "#46039f"
             ],
             [
              0.2222222222222222,
              "#7201a8"
             ],
             [
              0.3333333333333333,
              "#9c179e"
             ],
             [
              0.4444444444444444,
              "#bd3786"
             ],
             [
              0.5555555555555556,
              "#d8576b"
             ],
             [
              0.6666666666666666,
              "#ed7953"
             ],
             [
              0.7777777777777778,
              "#fb9f3a"
             ],
             [
              0.8888888888888888,
              "#fdca26"
             ],
             [
              1,
              "#f0f921"
             ]
            ],
            "type": "surface"
           }
          ],
          "table": [
           {
            "cells": {
             "fill": {
              "color": "#EBF0F8"
             },
             "line": {
              "color": "white"
             }
            },
            "header": {
             "fill": {
              "color": "#C8D4E3"
             },
             "line": {
              "color": "white"
             }
            },
            "type": "table"
           }
          ]
         },
         "layout": {
          "annotationdefaults": {
           "arrowcolor": "#2a3f5f",
           "arrowhead": 0,
           "arrowwidth": 1
          },
          "autotypenumbers": "strict",
          "coloraxis": {
           "colorbar": {
            "outlinewidth": 0,
            "ticks": ""
           }
          },
          "colorscale": {
           "diverging": [
            [
             0,
             "#8e0152"
            ],
            [
             0.1,
             "#c51b7d"
            ],
            [
             0.2,
             "#de77ae"
            ],
            [
             0.3,
             "#f1b6da"
            ],
            [
             0.4,
             "#fde0ef"
            ],
            [
             0.5,
             "#f7f7f7"
            ],
            [
             0.6,
             "#e6f5d0"
            ],
            [
             0.7,
             "#b8e186"
            ],
            [
             0.8,
             "#7fbc41"
            ],
            [
             0.9,
             "#4d9221"
            ],
            [
             1,
             "#276419"
            ]
           ],
           "sequential": [
            [
             0,
             "#0d0887"
            ],
            [
             0.1111111111111111,
             "#46039f"
            ],
            [
             0.2222222222222222,
             "#7201a8"
            ],
            [
             0.3333333333333333,
             "#9c179e"
            ],
            [
             0.4444444444444444,
             "#bd3786"
            ],
            [
             0.5555555555555556,
             "#d8576b"
            ],
            [
             0.6666666666666666,
             "#ed7953"
            ],
            [
             0.7777777777777778,
             "#fb9f3a"
            ],
            [
             0.8888888888888888,
             "#fdca26"
            ],
            [
             1,
             "#f0f921"
            ]
           ],
           "sequentialminus": [
            [
             0,
             "#0d0887"
            ],
            [
             0.1111111111111111,
             "#46039f"
            ],
            [
             0.2222222222222222,
             "#7201a8"
            ],
            [
             0.3333333333333333,
             "#9c179e"
            ],
            [
             0.4444444444444444,
             "#bd3786"
            ],
            [
             0.5555555555555556,
             "#d8576b"
            ],
            [
             0.6666666666666666,
             "#ed7953"
            ],
            [
             0.7777777777777778,
             "#fb9f3a"
            ],
            [
             0.8888888888888888,
             "#fdca26"
            ],
            [
             1,
             "#f0f921"
            ]
           ]
          },
          "colorway": [
           "#636efa",
           "#EF553B",
           "#00cc96",
           "#ab63fa",
           "#FFA15A",
           "#19d3f3",
           "#FF6692",
           "#B6E880",
           "#FF97FF",
           "#FECB52"
          ],
          "font": {
           "color": "#2a3f5f"
          },
          "geo": {
           "bgcolor": "white",
           "lakecolor": "white",
           "landcolor": "#E5ECF6",
           "showlakes": true,
           "showland": true,
           "subunitcolor": "white"
          },
          "hoverlabel": {
           "align": "left"
          },
          "hovermode": "closest",
          "mapbox": {
           "style": "light"
          },
          "paper_bgcolor": "white",
          "plot_bgcolor": "#E5ECF6",
          "polar": {
           "angularaxis": {
            "gridcolor": "white",
            "linecolor": "white",
            "ticks": ""
           },
           "bgcolor": "#E5ECF6",
           "radialaxis": {
            "gridcolor": "white",
            "linecolor": "white",
            "ticks": ""
           }
          },
          "scene": {
           "xaxis": {
            "backgroundcolor": "#E5ECF6",
            "gridcolor": "white",
            "gridwidth": 2,
            "linecolor": "white",
            "showbackground": true,
            "ticks": "",
            "zerolinecolor": "white"
           },
           "yaxis": {
            "backgroundcolor": "#E5ECF6",
            "gridcolor": "white",
            "gridwidth": 2,
            "linecolor": "white",
            "showbackground": true,
            "ticks": "",
            "zerolinecolor": "white"
           },
           "zaxis": {
            "backgroundcolor": "#E5ECF6",
            "gridcolor": "white",
            "gridwidth": 2,
            "linecolor": "white",
            "showbackground": true,
            "ticks": "",
            "zerolinecolor": "white"
           }
          },
          "shapedefaults": {
           "line": {
            "color": "#2a3f5f"
           }
          },
          "ternary": {
           "aaxis": {
            "gridcolor": "white",
            "linecolor": "white",
            "ticks": ""
           },
           "baxis": {
            "gridcolor": "white",
            "linecolor": "white",
            "ticks": ""
           },
           "bgcolor": "#E5ECF6",
           "caxis": {
            "gridcolor": "white",
            "linecolor": "white",
            "ticks": ""
           }
          },
          "title": {
           "x": 0.05
          },
          "xaxis": {
           "automargin": true,
           "gridcolor": "white",
           "linecolor": "white",
           "ticks": "",
           "title": {
            "standoff": 15
           },
           "zerolinecolor": "white",
           "zerolinewidth": 2
          },
          "yaxis": {
           "automargin": true,
           "gridcolor": "white",
           "linecolor": "white",
           "ticks": "",
           "title": {
            "standoff": 15
           },
           "zerolinecolor": "white",
           "zerolinewidth": 2
          }
         }
        },
        "xaxis": {
         "anchor": "y",
         "domain": [
          0,
          1
         ],
         "title": {
          "text": "part"
         }
        },
        "yaxis": {
         "anchor": "x",
         "domain": [
          0,
          1
         ],
         "tickmode": "array",
         "tickvals": [
          "0.92",
          0.2,
          0.5,
          0.7
         ],
         "title": {
          "text": "acc"
         }
        }
       }
      }
     },
     "metadata": {},
     "output_type": "display_data"
    }
   ],
   "source": [
    "fig = px.bar(evalMetrics, x = 'part', y = 'acc')\n",
    "\n",
    "fig.add_hline(y=avgTn, line_width=2, line_color=\"red\")\n",
    "\n",
    "fig.update_layout(\n",
    "    yaxis = dict(\n",
    "        tickmode = 'array',\n",
    "        tickvals = [np.format_float_positional(avgAcc, 2), 0.2, 0.5, 0.7],\n",
    "    )\n",
    ")"
   ]
  },
  {
   "cell_type": "code",
   "execution_count": 33,
   "metadata": {},
   "outputs": [
    {
     "data": {
      "application/vnd.plotly.v1+json": {
       "config": {
        "plotlyServerURL": "https://plot.ly"
       },
       "data": [
        {
         "alignmentgroup": "True",
         "hovertemplate": "part=%{x}<br>f1=%{y}<extra></extra>",
         "legendgroup": "",
         "marker": {
          "color": "#636efa",
          "pattern": {
           "shape": ""
          }
         },
         "name": "",
         "offsetgroup": "",
         "orientation": "v",
         "showlegend": false,
         "textposition": "auto",
         "type": "bar",
         "x": [
          "bonnet",
          "bumper_front",
          "grille",
          "fog_lamp_rh",
          "headlamp_lh",
          "headlamp_rh",
          "door_front_lh",
          "door_front_rh",
          "air_conditioning",
          "cooling_fan",
          "radiator",
          "bumper_rear",
          "misc",
          "engine",
          "airbag",
          "front_panel",
          "undercarriage",
          "wheel",
          "fender_front_lh",
          "fender_front_rh",
          "door_mirror_rh",
          "rear_quarter_lh",
          "interior",
          "tail_lamp_lh",
          "fog_lamp_lh",
          "tail_lamp_rh",
          "windscreen_front",
          "rear_compartment",
          "rear_panel",
          "rear_quarter_rh",
          "door_rear_rh",
          "door_mirror_lh",
          "door_rear_lh",
          "windscreen_rear"
         ],
         "xaxis": "x",
         "y": [
          1,
          1,
          1,
          0.819710965182374,
          0.9736081138376336,
          0.962947059048072,
          1,
          1,
          0.822120300384088,
          0.7855657001112858,
          0.8136997993397048,
          1,
          0.9722892698361736,
          0.8115581880216458,
          0.8972072576217286,
          1,
          0.9509276445863178,
          1,
          1,
          1,
          0.8961340486784826,
          1,
          0.9059695483555766,
          1,
          0.831082586900001,
          1,
          1,
          1,
          1,
          1,
          1,
          0.89984083439189,
          1,
          1
         ],
         "yaxis": "y"
        }
       ],
       "layout": {
        "barmode": "relative",
        "legend": {
         "tracegroupgap": 0
        },
        "margin": {
         "t": 60
        },
        "shapes": [
         {
          "line": {
           "color": "red",
           "width": 2
          },
          "type": "line",
          "x0": 0,
          "x1": 1,
          "xref": "x domain",
          "y0": 0.8991221906095671,
          "y1": 0.8991221906095671,
          "yref": "y"
         }
        ],
        "template": {
         "data": {
          "bar": [
           {
            "error_x": {
             "color": "#2a3f5f"
            },
            "error_y": {
             "color": "#2a3f5f"
            },
            "marker": {
             "line": {
              "color": "#E5ECF6",
              "width": 0.5
             },
             "pattern": {
              "fillmode": "overlay",
              "size": 10,
              "solidity": 0.2
             }
            },
            "type": "bar"
           }
          ],
          "barpolar": [
           {
            "marker": {
             "line": {
              "color": "#E5ECF6",
              "width": 0.5
             },
             "pattern": {
              "fillmode": "overlay",
              "size": 10,
              "solidity": 0.2
             }
            },
            "type": "barpolar"
           }
          ],
          "carpet": [
           {
            "aaxis": {
             "endlinecolor": "#2a3f5f",
             "gridcolor": "white",
             "linecolor": "white",
             "minorgridcolor": "white",
             "startlinecolor": "#2a3f5f"
            },
            "baxis": {
             "endlinecolor": "#2a3f5f",
             "gridcolor": "white",
             "linecolor": "white",
             "minorgridcolor": "white",
             "startlinecolor": "#2a3f5f"
            },
            "type": "carpet"
           }
          ],
          "choropleth": [
           {
            "colorbar": {
             "outlinewidth": 0,
             "ticks": ""
            },
            "type": "choropleth"
           }
          ],
          "contour": [
           {
            "colorbar": {
             "outlinewidth": 0,
             "ticks": ""
            },
            "colorscale": [
             [
              0,
              "#0d0887"
             ],
             [
              0.1111111111111111,
              "#46039f"
             ],
             [
              0.2222222222222222,
              "#7201a8"
             ],
             [
              0.3333333333333333,
              "#9c179e"
             ],
             [
              0.4444444444444444,
              "#bd3786"
             ],
             [
              0.5555555555555556,
              "#d8576b"
             ],
             [
              0.6666666666666666,
              "#ed7953"
             ],
             [
              0.7777777777777778,
              "#fb9f3a"
             ],
             [
              0.8888888888888888,
              "#fdca26"
             ],
             [
              1,
              "#f0f921"
             ]
            ],
            "type": "contour"
           }
          ],
          "contourcarpet": [
           {
            "colorbar": {
             "outlinewidth": 0,
             "ticks": ""
            },
            "type": "contourcarpet"
           }
          ],
          "heatmap": [
           {
            "colorbar": {
             "outlinewidth": 0,
             "ticks": ""
            },
            "colorscale": [
             [
              0,
              "#0d0887"
             ],
             [
              0.1111111111111111,
              "#46039f"
             ],
             [
              0.2222222222222222,
              "#7201a8"
             ],
             [
              0.3333333333333333,
              "#9c179e"
             ],
             [
              0.4444444444444444,
              "#bd3786"
             ],
             [
              0.5555555555555556,
              "#d8576b"
             ],
             [
              0.6666666666666666,
              "#ed7953"
             ],
             [
              0.7777777777777778,
              "#fb9f3a"
             ],
             [
              0.8888888888888888,
              "#fdca26"
             ],
             [
              1,
              "#f0f921"
             ]
            ],
            "type": "heatmap"
           }
          ],
          "heatmapgl": [
           {
            "colorbar": {
             "outlinewidth": 0,
             "ticks": ""
            },
            "colorscale": [
             [
              0,
              "#0d0887"
             ],
             [
              0.1111111111111111,
              "#46039f"
             ],
             [
              0.2222222222222222,
              "#7201a8"
             ],
             [
              0.3333333333333333,
              "#9c179e"
             ],
             [
              0.4444444444444444,
              "#bd3786"
             ],
             [
              0.5555555555555556,
              "#d8576b"
             ],
             [
              0.6666666666666666,
              "#ed7953"
             ],
             [
              0.7777777777777778,
              "#fb9f3a"
             ],
             [
              0.8888888888888888,
              "#fdca26"
             ],
             [
              1,
              "#f0f921"
             ]
            ],
            "type": "heatmapgl"
           }
          ],
          "histogram": [
           {
            "marker": {
             "pattern": {
              "fillmode": "overlay",
              "size": 10,
              "solidity": 0.2
             }
            },
            "type": "histogram"
           }
          ],
          "histogram2d": [
           {
            "colorbar": {
             "outlinewidth": 0,
             "ticks": ""
            },
            "colorscale": [
             [
              0,
              "#0d0887"
             ],
             [
              0.1111111111111111,
              "#46039f"
             ],
             [
              0.2222222222222222,
              "#7201a8"
             ],
             [
              0.3333333333333333,
              "#9c179e"
             ],
             [
              0.4444444444444444,
              "#bd3786"
             ],
             [
              0.5555555555555556,
              "#d8576b"
             ],
             [
              0.6666666666666666,
              "#ed7953"
             ],
             [
              0.7777777777777778,
              "#fb9f3a"
             ],
             [
              0.8888888888888888,
              "#fdca26"
             ],
             [
              1,
              "#f0f921"
             ]
            ],
            "type": "histogram2d"
           }
          ],
          "histogram2dcontour": [
           {
            "colorbar": {
             "outlinewidth": 0,
             "ticks": ""
            },
            "colorscale": [
             [
              0,
              "#0d0887"
             ],
             [
              0.1111111111111111,
              "#46039f"
             ],
             [
              0.2222222222222222,
              "#7201a8"
             ],
             [
              0.3333333333333333,
              "#9c179e"
             ],
             [
              0.4444444444444444,
              "#bd3786"
             ],
             [
              0.5555555555555556,
              "#d8576b"
             ],
             [
              0.6666666666666666,
              "#ed7953"
             ],
             [
              0.7777777777777778,
              "#fb9f3a"
             ],
             [
              0.8888888888888888,
              "#fdca26"
             ],
             [
              1,
              "#f0f921"
             ]
            ],
            "type": "histogram2dcontour"
           }
          ],
          "mesh3d": [
           {
            "colorbar": {
             "outlinewidth": 0,
             "ticks": ""
            },
            "type": "mesh3d"
           }
          ],
          "parcoords": [
           {
            "line": {
             "colorbar": {
              "outlinewidth": 0,
              "ticks": ""
             }
            },
            "type": "parcoords"
           }
          ],
          "pie": [
           {
            "automargin": true,
            "type": "pie"
           }
          ],
          "scatter": [
           {
            "fillpattern": {
             "fillmode": "overlay",
             "size": 10,
             "solidity": 0.2
            },
            "type": "scatter"
           }
          ],
          "scatter3d": [
           {
            "line": {
             "colorbar": {
              "outlinewidth": 0,
              "ticks": ""
             }
            },
            "marker": {
             "colorbar": {
              "outlinewidth": 0,
              "ticks": ""
             }
            },
            "type": "scatter3d"
           }
          ],
          "scattercarpet": [
           {
            "marker": {
             "colorbar": {
              "outlinewidth": 0,
              "ticks": ""
             }
            },
            "type": "scattercarpet"
           }
          ],
          "scattergeo": [
           {
            "marker": {
             "colorbar": {
              "outlinewidth": 0,
              "ticks": ""
             }
            },
            "type": "scattergeo"
           }
          ],
          "scattergl": [
           {
            "marker": {
             "colorbar": {
              "outlinewidth": 0,
              "ticks": ""
             }
            },
            "type": "scattergl"
           }
          ],
          "scattermapbox": [
           {
            "marker": {
             "colorbar": {
              "outlinewidth": 0,
              "ticks": ""
             }
            },
            "type": "scattermapbox"
           }
          ],
          "scatterpolar": [
           {
            "marker": {
             "colorbar": {
              "outlinewidth": 0,
              "ticks": ""
             }
            },
            "type": "scatterpolar"
           }
          ],
          "scatterpolargl": [
           {
            "marker": {
             "colorbar": {
              "outlinewidth": 0,
              "ticks": ""
             }
            },
            "type": "scatterpolargl"
           }
          ],
          "scatterternary": [
           {
            "marker": {
             "colorbar": {
              "outlinewidth": 0,
              "ticks": ""
             }
            },
            "type": "scatterternary"
           }
          ],
          "surface": [
           {
            "colorbar": {
             "outlinewidth": 0,
             "ticks": ""
            },
            "colorscale": [
             [
              0,
              "#0d0887"
             ],
             [
              0.1111111111111111,
              "#46039f"
             ],
             [
              0.2222222222222222,
              "#7201a8"
             ],
             [
              0.3333333333333333,
              "#9c179e"
             ],
             [
              0.4444444444444444,
              "#bd3786"
             ],
             [
              0.5555555555555556,
              "#d8576b"
             ],
             [
              0.6666666666666666,
              "#ed7953"
             ],
             [
              0.7777777777777778,
              "#fb9f3a"
             ],
             [
              0.8888888888888888,
              "#fdca26"
             ],
             [
              1,
              "#f0f921"
             ]
            ],
            "type": "surface"
           }
          ],
          "table": [
           {
            "cells": {
             "fill": {
              "color": "#EBF0F8"
             },
             "line": {
              "color": "white"
             }
            },
            "header": {
             "fill": {
              "color": "#C8D4E3"
             },
             "line": {
              "color": "white"
             }
            },
            "type": "table"
           }
          ]
         },
         "layout": {
          "annotationdefaults": {
           "arrowcolor": "#2a3f5f",
           "arrowhead": 0,
           "arrowwidth": 1
          },
          "autotypenumbers": "strict",
          "coloraxis": {
           "colorbar": {
            "outlinewidth": 0,
            "ticks": ""
           }
          },
          "colorscale": {
           "diverging": [
            [
             0,
             "#8e0152"
            ],
            [
             0.1,
             "#c51b7d"
            ],
            [
             0.2,
             "#de77ae"
            ],
            [
             0.3,
             "#f1b6da"
            ],
            [
             0.4,
             "#fde0ef"
            ],
            [
             0.5,
             "#f7f7f7"
            ],
            [
             0.6,
             "#e6f5d0"
            ],
            [
             0.7,
             "#b8e186"
            ],
            [
             0.8,
             "#7fbc41"
            ],
            [
             0.9,
             "#4d9221"
            ],
            [
             1,
             "#276419"
            ]
           ],
           "sequential": [
            [
             0,
             "#0d0887"
            ],
            [
             0.1111111111111111,
             "#46039f"
            ],
            [
             0.2222222222222222,
             "#7201a8"
            ],
            [
             0.3333333333333333,
             "#9c179e"
            ],
            [
             0.4444444444444444,
             "#bd3786"
            ],
            [
             0.5555555555555556,
             "#d8576b"
            ],
            [
             0.6666666666666666,
             "#ed7953"
            ],
            [
             0.7777777777777778,
             "#fb9f3a"
            ],
            [
             0.8888888888888888,
             "#fdca26"
            ],
            [
             1,
             "#f0f921"
            ]
           ],
           "sequentialminus": [
            [
             0,
             "#0d0887"
            ],
            [
             0.1111111111111111,
             "#46039f"
            ],
            [
             0.2222222222222222,
             "#7201a8"
            ],
            [
             0.3333333333333333,
             "#9c179e"
            ],
            [
             0.4444444444444444,
             "#bd3786"
            ],
            [
             0.5555555555555556,
             "#d8576b"
            ],
            [
             0.6666666666666666,
             "#ed7953"
            ],
            [
             0.7777777777777778,
             "#fb9f3a"
            ],
            [
             0.8888888888888888,
             "#fdca26"
            ],
            [
             1,
             "#f0f921"
            ]
           ]
          },
          "colorway": [
           "#636efa",
           "#EF553B",
           "#00cc96",
           "#ab63fa",
           "#FFA15A",
           "#19d3f3",
           "#FF6692",
           "#B6E880",
           "#FF97FF",
           "#FECB52"
          ],
          "font": {
           "color": "#2a3f5f"
          },
          "geo": {
           "bgcolor": "white",
           "lakecolor": "white",
           "landcolor": "#E5ECF6",
           "showlakes": true,
           "showland": true,
           "subunitcolor": "white"
          },
          "hoverlabel": {
           "align": "left"
          },
          "hovermode": "closest",
          "mapbox": {
           "style": "light"
          },
          "paper_bgcolor": "white",
          "plot_bgcolor": "#E5ECF6",
          "polar": {
           "angularaxis": {
            "gridcolor": "white",
            "linecolor": "white",
            "ticks": ""
           },
           "bgcolor": "#E5ECF6",
           "radialaxis": {
            "gridcolor": "white",
            "linecolor": "white",
            "ticks": ""
           }
          },
          "scene": {
           "xaxis": {
            "backgroundcolor": "#E5ECF6",
            "gridcolor": "white",
            "gridwidth": 2,
            "linecolor": "white",
            "showbackground": true,
            "ticks": "",
            "zerolinecolor": "white"
           },
           "yaxis": {
            "backgroundcolor": "#E5ECF6",
            "gridcolor": "white",
            "gridwidth": 2,
            "linecolor": "white",
            "showbackground": true,
            "ticks": "",
            "zerolinecolor": "white"
           },
           "zaxis": {
            "backgroundcolor": "#E5ECF6",
            "gridcolor": "white",
            "gridwidth": 2,
            "linecolor": "white",
            "showbackground": true,
            "ticks": "",
            "zerolinecolor": "white"
           }
          },
          "shapedefaults": {
           "line": {
            "color": "#2a3f5f"
           }
          },
          "ternary": {
           "aaxis": {
            "gridcolor": "white",
            "linecolor": "white",
            "ticks": ""
           },
           "baxis": {
            "gridcolor": "white",
            "linecolor": "white",
            "ticks": ""
           },
           "bgcolor": "#E5ECF6",
           "caxis": {
            "gridcolor": "white",
            "linecolor": "white",
            "ticks": ""
           }
          },
          "title": {
           "x": 0.05
          },
          "xaxis": {
           "automargin": true,
           "gridcolor": "white",
           "linecolor": "white",
           "ticks": "",
           "title": {
            "standoff": 15
           },
           "zerolinecolor": "white",
           "zerolinewidth": 2
          },
          "yaxis": {
           "automargin": true,
           "gridcolor": "white",
           "linecolor": "white",
           "ticks": "",
           "title": {
            "standoff": 15
           },
           "zerolinecolor": "white",
           "zerolinewidth": 2
          }
         }
        },
        "xaxis": {
         "anchor": "y",
         "domain": [
          0,
          1
         ],
         "title": {
          "text": "part"
         }
        },
        "yaxis": {
         "anchor": "x",
         "domain": [
          0,
          1
         ],
         "tickmode": "array",
         "tickvals": [
          "0.92",
          0.2,
          0.5,
          0.7
         ],
         "title": {
          "text": "f1"
         }
        }
       }
      }
     },
     "metadata": {},
     "output_type": "display_data"
    }
   ],
   "source": [
    "fig = px.bar(evalMetrics, x = 'part', y = 'f1')\n",
    "\n",
    "fig.add_hline(y=avgF1, line_width=2, line_color=\"red\")\n",
    "\n",
    "fig.update_layout(\n",
    "    yaxis = dict(\n",
    "        tickmode = 'array',\n",
    "        tickvals = [np.format_float_positional(avgAcc, 2), 0.2, 0.5, 0.7],\n",
    "    )\n",
    ")"
   ]
  },
  {
   "cell_type": "code",
   "execution_count": 34,
   "metadata": {},
   "outputs": [
    {
     "name": "stderr",
     "output_type": "stream",
     "text": [
      "100%|██████████| 33/33 [00:59<00:00,  1.82s/it]\n"
     ]
    },
    {
     "data": {
      "text/html": [
       "<div>\n",
       "<style scoped>\n",
       "    .dataframe tbody tr th:only-of-type {\n",
       "        vertical-align: middle;\n",
       "    }\n",
       "\n",
       "    .dataframe tbody tr th {\n",
       "        vertical-align: top;\n",
       "    }\n",
       "\n",
       "    .dataframe thead th {\n",
       "        text-align: right;\n",
       "    }\n",
       "</style>\n",
       "<table border=\"1\" class=\"dataframe\">\n",
       "  <thead>\n",
       "    <tr style=\"text-align: right;\">\n",
       "      <th></th>\n",
       "      <th>CaseID</th>\n",
       "      <th>bonnet</th>\n",
       "      <th>bumper_front</th>\n",
       "      <th>grille</th>\n",
       "      <th>fog_lamp_rh</th>\n",
       "      <th>headlamp_lh</th>\n",
       "      <th>headlamp_rh</th>\n",
       "      <th>door_front_lh</th>\n",
       "      <th>door_front_rh</th>\n",
       "      <th>air_conditioning</th>\n",
       "      <th>...</th>\n",
       "      <th>fog_lamp_lh</th>\n",
       "      <th>tail_lamp_rh</th>\n",
       "      <th>windscreen_front</th>\n",
       "      <th>rear_compartment</th>\n",
       "      <th>rear_panel</th>\n",
       "      <th>rear_quarter_rh</th>\n",
       "      <th>door_rear_rh</th>\n",
       "      <th>door_mirror_lh</th>\n",
       "      <th>door_rear_lh</th>\n",
       "      <th>windscreen_rear</th>\n",
       "    </tr>\n",
       "  </thead>\n",
       "  <tbody>\n",
       "    <tr>\n",
       "      <th>143200</th>\n",
       "      <td>10000004</td>\n",
       "      <td>0</td>\n",
       "      <td>1</td>\n",
       "      <td>0</td>\n",
       "      <td>0</td>\n",
       "      <td>0</td>\n",
       "      <td>0</td>\n",
       "      <td>0</td>\n",
       "      <td>0</td>\n",
       "      <td>1</td>\n",
       "      <td>...</td>\n",
       "      <td>0</td>\n",
       "      <td>0</td>\n",
       "      <td>0</td>\n",
       "      <td>0</td>\n",
       "      <td>0</td>\n",
       "      <td>0</td>\n",
       "      <td>0</td>\n",
       "      <td>0</td>\n",
       "      <td>0</td>\n",
       "      <td>0</td>\n",
       "    </tr>\n",
       "    <tr>\n",
       "      <th>465095</th>\n",
       "      <td>10000012</td>\n",
       "      <td>0</td>\n",
       "      <td>0</td>\n",
       "      <td>0</td>\n",
       "      <td>0</td>\n",
       "      <td>0</td>\n",
       "      <td>0</td>\n",
       "      <td>0</td>\n",
       "      <td>0</td>\n",
       "      <td>0</td>\n",
       "      <td>...</td>\n",
       "      <td>0</td>\n",
       "      <td>0</td>\n",
       "      <td>0</td>\n",
       "      <td>0</td>\n",
       "      <td>0</td>\n",
       "      <td>0</td>\n",
       "      <td>0</td>\n",
       "      <td>0</td>\n",
       "      <td>0</td>\n",
       "      <td>0</td>\n",
       "    </tr>\n",
       "    <tr>\n",
       "      <th>52001</th>\n",
       "      <td>10000016</td>\n",
       "      <td>1</td>\n",
       "      <td>1</td>\n",
       "      <td>1</td>\n",
       "      <td>1</td>\n",
       "      <td>1</td>\n",
       "      <td>1</td>\n",
       "      <td>0</td>\n",
       "      <td>0</td>\n",
       "      <td>1</td>\n",
       "      <td>...</td>\n",
       "      <td>1</td>\n",
       "      <td>0</td>\n",
       "      <td>1</td>\n",
       "      <td>0</td>\n",
       "      <td>0</td>\n",
       "      <td>0</td>\n",
       "      <td>0</td>\n",
       "      <td>0</td>\n",
       "      <td>0</td>\n",
       "      <td>0</td>\n",
       "    </tr>\n",
       "    <tr>\n",
       "      <th>143201</th>\n",
       "      <td>10000021</td>\n",
       "      <td>0</td>\n",
       "      <td>1</td>\n",
       "      <td>0</td>\n",
       "      <td>0</td>\n",
       "      <td>0</td>\n",
       "      <td>0</td>\n",
       "      <td>0</td>\n",
       "      <td>0</td>\n",
       "      <td>1</td>\n",
       "      <td>...</td>\n",
       "      <td>0</td>\n",
       "      <td>0</td>\n",
       "      <td>0</td>\n",
       "      <td>0</td>\n",
       "      <td>0</td>\n",
       "      <td>0</td>\n",
       "      <td>0</td>\n",
       "      <td>1</td>\n",
       "      <td>1</td>\n",
       "      <td>0</td>\n",
       "    </tr>\n",
       "    <tr>\n",
       "      <th>536990</th>\n",
       "      <td>10000030</td>\n",
       "      <td>0</td>\n",
       "      <td>0</td>\n",
       "      <td>0</td>\n",
       "      <td>0</td>\n",
       "      <td>0</td>\n",
       "      <td>0</td>\n",
       "      <td>0</td>\n",
       "      <td>0</td>\n",
       "      <td>0</td>\n",
       "      <td>...</td>\n",
       "      <td>0</td>\n",
       "      <td>0</td>\n",
       "      <td>0</td>\n",
       "      <td>0</td>\n",
       "      <td>0</td>\n",
       "      <td>0</td>\n",
       "      <td>0</td>\n",
       "      <td>0</td>\n",
       "      <td>0</td>\n",
       "      <td>0</td>\n",
       "    </tr>\n",
       "    <tr>\n",
       "      <th>...</th>\n",
       "      <td>...</td>\n",
       "      <td>...</td>\n",
       "      <td>...</td>\n",
       "      <td>...</td>\n",
       "      <td>...</td>\n",
       "      <td>...</td>\n",
       "      <td>...</td>\n",
       "      <td>...</td>\n",
       "      <td>...</td>\n",
       "      <td>...</td>\n",
       "      <td>...</td>\n",
       "      <td>...</td>\n",
       "      <td>...</td>\n",
       "      <td>...</td>\n",
       "      <td>...</td>\n",
       "      <td>...</td>\n",
       "      <td>...</td>\n",
       "      <td>...</td>\n",
       "      <td>...</td>\n",
       "      <td>...</td>\n",
       "      <td>...</td>\n",
       "    </tr>\n",
       "    <tr>\n",
       "      <th>208650</th>\n",
       "      <td>13563056</td>\n",
       "      <td>0</td>\n",
       "      <td>1</td>\n",
       "      <td>1</td>\n",
       "      <td>0</td>\n",
       "      <td>0</td>\n",
       "      <td>0</td>\n",
       "      <td>0</td>\n",
       "      <td>0</td>\n",
       "      <td>1</td>\n",
       "      <td>...</td>\n",
       "      <td>0</td>\n",
       "      <td>0</td>\n",
       "      <td>0</td>\n",
       "      <td>0</td>\n",
       "      <td>0</td>\n",
       "      <td>0</td>\n",
       "      <td>0</td>\n",
       "      <td>0</td>\n",
       "      <td>0</td>\n",
       "      <td>0</td>\n",
       "    </tr>\n",
       "    <tr>\n",
       "      <th>503810</th>\n",
       "      <td>13563063</td>\n",
       "      <td>0</td>\n",
       "      <td>0</td>\n",
       "      <td>0</td>\n",
       "      <td>0</td>\n",
       "      <td>0</td>\n",
       "      <td>0</td>\n",
       "      <td>0</td>\n",
       "      <td>0</td>\n",
       "      <td>0</td>\n",
       "      <td>...</td>\n",
       "      <td>0</td>\n",
       "      <td>0</td>\n",
       "      <td>0</td>\n",
       "      <td>0</td>\n",
       "      <td>0</td>\n",
       "      <td>0</td>\n",
       "      <td>0</td>\n",
       "      <td>0</td>\n",
       "      <td>0</td>\n",
       "      <td>0</td>\n",
       "    </tr>\n",
       "    <tr>\n",
       "      <th>208651</th>\n",
       "      <td>13563071</td>\n",
       "      <td>0</td>\n",
       "      <td>1</td>\n",
       "      <td>0</td>\n",
       "      <td>0</td>\n",
       "      <td>0</td>\n",
       "      <td>0</td>\n",
       "      <td>0</td>\n",
       "      <td>0</td>\n",
       "      <td>0</td>\n",
       "      <td>...</td>\n",
       "      <td>0</td>\n",
       "      <td>0</td>\n",
       "      <td>0</td>\n",
       "      <td>0</td>\n",
       "      <td>0</td>\n",
       "      <td>0</td>\n",
       "      <td>0</td>\n",
       "      <td>0</td>\n",
       "      <td>0</td>\n",
       "      <td>0</td>\n",
       "    </tr>\n",
       "    <tr>\n",
       "      <th>503811</th>\n",
       "      <td>13563089</td>\n",
       "      <td>0</td>\n",
       "      <td>0</td>\n",
       "      <td>0</td>\n",
       "      <td>0</td>\n",
       "      <td>0</td>\n",
       "      <td>0</td>\n",
       "      <td>0</td>\n",
       "      <td>0</td>\n",
       "      <td>0</td>\n",
       "      <td>...</td>\n",
       "      <td>0</td>\n",
       "      <td>1</td>\n",
       "      <td>0</td>\n",
       "      <td>1</td>\n",
       "      <td>0</td>\n",
       "      <td>0</td>\n",
       "      <td>0</td>\n",
       "      <td>0</td>\n",
       "      <td>0</td>\n",
       "      <td>1</td>\n",
       "    </tr>\n",
       "    <tr>\n",
       "      <th>261150</th>\n",
       "      <td>13563097</td>\n",
       "      <td>0</td>\n",
       "      <td>1</td>\n",
       "      <td>0</td>\n",
       "      <td>0</td>\n",
       "      <td>0</td>\n",
       "      <td>0</td>\n",
       "      <td>0</td>\n",
       "      <td>0</td>\n",
       "      <td>0</td>\n",
       "      <td>...</td>\n",
       "      <td>0</td>\n",
       "      <td>0</td>\n",
       "      <td>0</td>\n",
       "      <td>0</td>\n",
       "      <td>0</td>\n",
       "      <td>0</td>\n",
       "      <td>0</td>\n",
       "      <td>0</td>\n",
       "      <td>0</td>\n",
       "      <td>0</td>\n",
       "    </tr>\n",
       "  </tbody>\n",
       "</table>\n",
       "<p>595709 rows × 35 columns</p>\n",
       "</div>"
      ],
      "text/plain": [
       "          CaseID  bonnet  bumper_front  grille  fog_lamp_rh  headlamp_lh  \\\n",
       "143200  10000004       0             1       0            0            0   \n",
       "465095  10000012       0             0       0            0            0   \n",
       "52001   10000016       1             1       1            1            1   \n",
       "143201  10000021       0             1       0            0            0   \n",
       "536990  10000030       0             0       0            0            0   \n",
       "...          ...     ...           ...     ...          ...          ...   \n",
       "208650  13563056       0             1       1            0            0   \n",
       "503810  13563063       0             0       0            0            0   \n",
       "208651  13563071       0             1       0            0            0   \n",
       "503811  13563089       0             0       0            0            0   \n",
       "261150  13563097       0             1       0            0            0   \n",
       "\n",
       "        headlamp_rh  door_front_lh  door_front_rh  air_conditioning  ...  \\\n",
       "143200            0              0              0                 1  ...   \n",
       "465095            0              0              0                 0  ...   \n",
       "52001             1              0              0                 1  ...   \n",
       "143201            0              0              0                 1  ...   \n",
       "536990            0              0              0                 0  ...   \n",
       "...             ...            ...            ...               ...  ...   \n",
       "208650            0              0              0                 1  ...   \n",
       "503810            0              0              0                 0  ...   \n",
       "208651            0              0              0                 0  ...   \n",
       "503811            0              0              0                 0  ...   \n",
       "261150            0              0              0                 0  ...   \n",
       "\n",
       "        fog_lamp_lh  tail_lamp_rh  windscreen_front  rear_compartment  \\\n",
       "143200            0             0                 0                 0   \n",
       "465095            0             0                 0                 0   \n",
       "52001             1             0                 1                 0   \n",
       "143201            0             0                 0                 0   \n",
       "536990            0             0                 0                 0   \n",
       "...             ...           ...               ...               ...   \n",
       "208650            0             0                 0                 0   \n",
       "503810            0             0                 0                 0   \n",
       "208651            0             0                 0                 0   \n",
       "503811            0             1                 0                 1   \n",
       "261150            0             0                 0                 0   \n",
       "\n",
       "        rear_panel  rear_quarter_rh  door_rear_rh  door_mirror_lh  \\\n",
       "143200           0                0             0               0   \n",
       "465095           0                0             0               0   \n",
       "52001            0                0             0               0   \n",
       "143201           0                0             0               1   \n",
       "536990           0                0             0               0   \n",
       "...            ...              ...           ...             ...   \n",
       "208650           0                0             0               0   \n",
       "503810           0                0             0               0   \n",
       "208651           0                0             0               0   \n",
       "503811           0                0             0               0   \n",
       "261150           0                0             0               0   \n",
       "\n",
       "        door_rear_lh  windscreen_rear  \n",
       "143200             0                0  \n",
       "465095             0                0  \n",
       "52001              0                0  \n",
       "143201             1                0  \n",
       "536990             0                0  \n",
       "...              ...              ...  \n",
       "208650             0                0  \n",
       "503810             0                0  \n",
       "208651             0                0  \n",
       "503811             0                1  \n",
       "261150             0                0  \n",
       "\n",
       "[595709 rows x 35 columns]"
      ]
     },
     "execution_count": 34,
     "metadata": {},
     "output_type": "execute_result"
    }
   ],
   "source": [
    "multilabelPred = pd.DataFrame(pd.DataFrame(allPreds[0]))\n",
    "for p in tqdm(allPreds[1:]):\n",
    "    dfPart = pd.DataFrame(p)\n",
    "    multilabelPred = multilabelPred.merge(dfPart, on=\"CaseID\")\n",
    "multilabelPred.sort_values(by=\"CaseID\", inplace=True)\n",
    "multilabelPred"
   ]
  },
  {
   "cell_type": "code",
   "execution_count": 35,
   "metadata": {},
   "outputs": [
    {
     "name": "stderr",
     "output_type": "stream",
     "text": [
      "100%|██████████| 33/33 [00:59<00:00,  1.82s/it]\n"
     ]
    }
   ],
   "source": [
    "multilabelGt = pd.DataFrame(pd.DataFrame(allGt[0]))\n",
    "for p in tqdm(allGt[1:]):\n",
    "    dfPart = pd.DataFrame(p)\n",
    "    multilabelGt = multilabelGt.merge(dfPart, on=\"CaseID\")\n",
    "multilabelGt.sort_values(by=\"CaseID\", inplace=True)\n"
   ]
  },
  {
   "cell_type": "code",
   "execution_count": 36,
   "metadata": {},
   "outputs": [
    {
     "data": {
      "text/html": [
       "<div>\n",
       "<style scoped>\n",
       "    .dataframe tbody tr th:only-of-type {\n",
       "        vertical-align: middle;\n",
       "    }\n",
       "\n",
       "    .dataframe tbody tr th {\n",
       "        vertical-align: top;\n",
       "    }\n",
       "\n",
       "    .dataframe thead th {\n",
       "        text-align: right;\n",
       "    }\n",
       "</style>\n",
       "<table border=\"1\" class=\"dataframe\">\n",
       "  <thead>\n",
       "    <tr style=\"text-align: right;\">\n",
       "      <th></th>\n",
       "      <th>CaseID</th>\n",
       "      <th>bonnet</th>\n",
       "      <th>bumper_front</th>\n",
       "      <th>grille</th>\n",
       "      <th>fog_lamp_rh</th>\n",
       "      <th>headlamp_lh</th>\n",
       "      <th>headlamp_rh</th>\n",
       "      <th>door_front_lh</th>\n",
       "      <th>door_front_rh</th>\n",
       "      <th>air_conditioning</th>\n",
       "      <th>...</th>\n",
       "      <th>fog_lamp_lh</th>\n",
       "      <th>tail_lamp_rh</th>\n",
       "      <th>windscreen_front</th>\n",
       "      <th>rear_compartment</th>\n",
       "      <th>rear_panel</th>\n",
       "      <th>rear_quarter_rh</th>\n",
       "      <th>door_rear_rh</th>\n",
       "      <th>door_mirror_lh</th>\n",
       "      <th>door_rear_lh</th>\n",
       "      <th>windscreen_rear</th>\n",
       "    </tr>\n",
       "  </thead>\n",
       "  <tbody>\n",
       "    <tr>\n",
       "      <th>143200</th>\n",
       "      <td>10000004</td>\n",
       "      <td>0</td>\n",
       "      <td>1</td>\n",
       "      <td>0</td>\n",
       "      <td>0</td>\n",
       "      <td>0</td>\n",
       "      <td>0</td>\n",
       "      <td>0</td>\n",
       "      <td>0</td>\n",
       "      <td>0</td>\n",
       "      <td>...</td>\n",
       "      <td>0</td>\n",
       "      <td>0</td>\n",
       "      <td>0</td>\n",
       "      <td>0</td>\n",
       "      <td>0</td>\n",
       "      <td>0</td>\n",
       "      <td>0</td>\n",
       "      <td>0</td>\n",
       "      <td>0</td>\n",
       "      <td>0</td>\n",
       "    </tr>\n",
       "    <tr>\n",
       "      <th>465095</th>\n",
       "      <td>10000012</td>\n",
       "      <td>0</td>\n",
       "      <td>0</td>\n",
       "      <td>0</td>\n",
       "      <td>0</td>\n",
       "      <td>0</td>\n",
       "      <td>0</td>\n",
       "      <td>0</td>\n",
       "      <td>0</td>\n",
       "      <td>0</td>\n",
       "      <td>...</td>\n",
       "      <td>0</td>\n",
       "      <td>0</td>\n",
       "      <td>0</td>\n",
       "      <td>0</td>\n",
       "      <td>0</td>\n",
       "      <td>0</td>\n",
       "      <td>0</td>\n",
       "      <td>0</td>\n",
       "      <td>0</td>\n",
       "      <td>0</td>\n",
       "    </tr>\n",
       "    <tr>\n",
       "      <th>52001</th>\n",
       "      <td>10000016</td>\n",
       "      <td>1</td>\n",
       "      <td>1</td>\n",
       "      <td>1</td>\n",
       "      <td>1</td>\n",
       "      <td>1</td>\n",
       "      <td>1</td>\n",
       "      <td>0</td>\n",
       "      <td>0</td>\n",
       "      <td>1</td>\n",
       "      <td>...</td>\n",
       "      <td>0</td>\n",
       "      <td>0</td>\n",
       "      <td>1</td>\n",
       "      <td>0</td>\n",
       "      <td>0</td>\n",
       "      <td>0</td>\n",
       "      <td>0</td>\n",
       "      <td>0</td>\n",
       "      <td>0</td>\n",
       "      <td>0</td>\n",
       "    </tr>\n",
       "    <tr>\n",
       "      <th>143201</th>\n",
       "      <td>10000021</td>\n",
       "      <td>0</td>\n",
       "      <td>1</td>\n",
       "      <td>0</td>\n",
       "      <td>0</td>\n",
       "      <td>1</td>\n",
       "      <td>0</td>\n",
       "      <td>0</td>\n",
       "      <td>0</td>\n",
       "      <td>0</td>\n",
       "      <td>...</td>\n",
       "      <td>1</td>\n",
       "      <td>0</td>\n",
       "      <td>0</td>\n",
       "      <td>0</td>\n",
       "      <td>0</td>\n",
       "      <td>0</td>\n",
       "      <td>0</td>\n",
       "      <td>0</td>\n",
       "      <td>1</td>\n",
       "      <td>0</td>\n",
       "    </tr>\n",
       "    <tr>\n",
       "      <th>536990</th>\n",
       "      <td>10000030</td>\n",
       "      <td>0</td>\n",
       "      <td>0</td>\n",
       "      <td>0</td>\n",
       "      <td>0</td>\n",
       "      <td>0</td>\n",
       "      <td>0</td>\n",
       "      <td>0</td>\n",
       "      <td>0</td>\n",
       "      <td>0</td>\n",
       "      <td>...</td>\n",
       "      <td>0</td>\n",
       "      <td>0</td>\n",
       "      <td>0</td>\n",
       "      <td>0</td>\n",
       "      <td>0</td>\n",
       "      <td>0</td>\n",
       "      <td>0</td>\n",
       "      <td>0</td>\n",
       "      <td>0</td>\n",
       "      <td>0</td>\n",
       "    </tr>\n",
       "    <tr>\n",
       "      <th>...</th>\n",
       "      <td>...</td>\n",
       "      <td>...</td>\n",
       "      <td>...</td>\n",
       "      <td>...</td>\n",
       "      <td>...</td>\n",
       "      <td>...</td>\n",
       "      <td>...</td>\n",
       "      <td>...</td>\n",
       "      <td>...</td>\n",
       "      <td>...</td>\n",
       "      <td>...</td>\n",
       "      <td>...</td>\n",
       "      <td>...</td>\n",
       "      <td>...</td>\n",
       "      <td>...</td>\n",
       "      <td>...</td>\n",
       "      <td>...</td>\n",
       "      <td>...</td>\n",
       "      <td>...</td>\n",
       "      <td>...</td>\n",
       "      <td>...</td>\n",
       "    </tr>\n",
       "    <tr>\n",
       "      <th>208650</th>\n",
       "      <td>13563056</td>\n",
       "      <td>0</td>\n",
       "      <td>1</td>\n",
       "      <td>1</td>\n",
       "      <td>0</td>\n",
       "      <td>0</td>\n",
       "      <td>0</td>\n",
       "      <td>0</td>\n",
       "      <td>0</td>\n",
       "      <td>0</td>\n",
       "      <td>...</td>\n",
       "      <td>0</td>\n",
       "      <td>0</td>\n",
       "      <td>0</td>\n",
       "      <td>0</td>\n",
       "      <td>0</td>\n",
       "      <td>0</td>\n",
       "      <td>0</td>\n",
       "      <td>0</td>\n",
       "      <td>0</td>\n",
       "      <td>0</td>\n",
       "    </tr>\n",
       "    <tr>\n",
       "      <th>503810</th>\n",
       "      <td>13563063</td>\n",
       "      <td>0</td>\n",
       "      <td>0</td>\n",
       "      <td>0</td>\n",
       "      <td>0</td>\n",
       "      <td>0</td>\n",
       "      <td>0</td>\n",
       "      <td>0</td>\n",
       "      <td>0</td>\n",
       "      <td>0</td>\n",
       "      <td>...</td>\n",
       "      <td>0</td>\n",
       "      <td>0</td>\n",
       "      <td>0</td>\n",
       "      <td>0</td>\n",
       "      <td>0</td>\n",
       "      <td>0</td>\n",
       "      <td>0</td>\n",
       "      <td>0</td>\n",
       "      <td>0</td>\n",
       "      <td>0</td>\n",
       "    </tr>\n",
       "    <tr>\n",
       "      <th>208651</th>\n",
       "      <td>13563071</td>\n",
       "      <td>0</td>\n",
       "      <td>1</td>\n",
       "      <td>0</td>\n",
       "      <td>0</td>\n",
       "      <td>0</td>\n",
       "      <td>0</td>\n",
       "      <td>0</td>\n",
       "      <td>0</td>\n",
       "      <td>0</td>\n",
       "      <td>...</td>\n",
       "      <td>0</td>\n",
       "      <td>0</td>\n",
       "      <td>0</td>\n",
       "      <td>0</td>\n",
       "      <td>0</td>\n",
       "      <td>0</td>\n",
       "      <td>0</td>\n",
       "      <td>0</td>\n",
       "      <td>0</td>\n",
       "      <td>0</td>\n",
       "    </tr>\n",
       "    <tr>\n",
       "      <th>503811</th>\n",
       "      <td>13563089</td>\n",
       "      <td>0</td>\n",
       "      <td>0</td>\n",
       "      <td>0</td>\n",
       "      <td>0</td>\n",
       "      <td>0</td>\n",
       "      <td>0</td>\n",
       "      <td>0</td>\n",
       "      <td>0</td>\n",
       "      <td>0</td>\n",
       "      <td>...</td>\n",
       "      <td>0</td>\n",
       "      <td>1</td>\n",
       "      <td>0</td>\n",
       "      <td>1</td>\n",
       "      <td>0</td>\n",
       "      <td>0</td>\n",
       "      <td>0</td>\n",
       "      <td>0</td>\n",
       "      <td>0</td>\n",
       "      <td>1</td>\n",
       "    </tr>\n",
       "    <tr>\n",
       "      <th>261150</th>\n",
       "      <td>13563097</td>\n",
       "      <td>0</td>\n",
       "      <td>1</td>\n",
       "      <td>0</td>\n",
       "      <td>0</td>\n",
       "      <td>0</td>\n",
       "      <td>0</td>\n",
       "      <td>0</td>\n",
       "      <td>0</td>\n",
       "      <td>0</td>\n",
       "      <td>...</td>\n",
       "      <td>0</td>\n",
       "      <td>0</td>\n",
       "      <td>0</td>\n",
       "      <td>0</td>\n",
       "      <td>0</td>\n",
       "      <td>0</td>\n",
       "      <td>0</td>\n",
       "      <td>0</td>\n",
       "      <td>0</td>\n",
       "      <td>0</td>\n",
       "    </tr>\n",
       "  </tbody>\n",
       "</table>\n",
       "<p>595709 rows × 35 columns</p>\n",
       "</div>"
      ],
      "text/plain": [
       "          CaseID  bonnet  bumper_front  grille  fog_lamp_rh  headlamp_lh  \\\n",
       "143200  10000004       0             1       0            0            0   \n",
       "465095  10000012       0             0       0            0            0   \n",
       "52001   10000016       1             1       1            1            1   \n",
       "143201  10000021       0             1       0            0            1   \n",
       "536990  10000030       0             0       0            0            0   \n",
       "...          ...     ...           ...     ...          ...          ...   \n",
       "208650  13563056       0             1       1            0            0   \n",
       "503810  13563063       0             0       0            0            0   \n",
       "208651  13563071       0             1       0            0            0   \n",
       "503811  13563089       0             0       0            0            0   \n",
       "261150  13563097       0             1       0            0            0   \n",
       "\n",
       "        headlamp_rh  door_front_lh  door_front_rh  air_conditioning  ...  \\\n",
       "143200            0              0              0                 0  ...   \n",
       "465095            0              0              0                 0  ...   \n",
       "52001             1              0              0                 1  ...   \n",
       "143201            0              0              0                 0  ...   \n",
       "536990            0              0              0                 0  ...   \n",
       "...             ...            ...            ...               ...  ...   \n",
       "208650            0              0              0                 0  ...   \n",
       "503810            0              0              0                 0  ...   \n",
       "208651            0              0              0                 0  ...   \n",
       "503811            0              0              0                 0  ...   \n",
       "261150            0              0              0                 0  ...   \n",
       "\n",
       "        fog_lamp_lh  tail_lamp_rh  windscreen_front  rear_compartment  \\\n",
       "143200            0             0                 0                 0   \n",
       "465095            0             0                 0                 0   \n",
       "52001             0             0                 1                 0   \n",
       "143201            1             0                 0                 0   \n",
       "536990            0             0                 0                 0   \n",
       "...             ...           ...               ...               ...   \n",
       "208650            0             0                 0                 0   \n",
       "503810            0             0                 0                 0   \n",
       "208651            0             0                 0                 0   \n",
       "503811            0             1                 0                 1   \n",
       "261150            0             0                 0                 0   \n",
       "\n",
       "        rear_panel  rear_quarter_rh  door_rear_rh  door_mirror_lh  \\\n",
       "143200           0                0             0               0   \n",
       "465095           0                0             0               0   \n",
       "52001            0                0             0               0   \n",
       "143201           0                0             0               0   \n",
       "536990           0                0             0               0   \n",
       "...            ...              ...           ...             ...   \n",
       "208650           0                0             0               0   \n",
       "503810           0                0             0               0   \n",
       "208651           0                0             0               0   \n",
       "503811           0                0             0               0   \n",
       "261150           0                0             0               0   \n",
       "\n",
       "        door_rear_lh  windscreen_rear  \n",
       "143200             0                0  \n",
       "465095             0                0  \n",
       "52001              0                0  \n",
       "143201             1                0  \n",
       "536990             0                0  \n",
       "...              ...              ...  \n",
       "208650             0                0  \n",
       "503810             0                0  \n",
       "208651             0                0  \n",
       "503811             0                1  \n",
       "261150             0                0  \n",
       "\n",
       "[595709 rows x 35 columns]"
      ]
     },
     "execution_count": 36,
     "metadata": {},
     "output_type": "execute_result"
    }
   ],
   "source": [
    "multilabelGt = multilabelGt[multilabelPred.columns]\n",
    "multilabelGt"
   ]
  },
  {
   "cell_type": "code",
   "execution_count": 37,
   "metadata": {},
   "outputs": [],
   "source": [
    "def hamming_score(y_true, y_pred):\n",
    "    acc_list = []\n",
    "    for i in range(y_true.shape[0]):\n",
    "        set_true = set( np.where(y_true[i])[0] )\n",
    "        set_pred = set( np.where(y_pred[i])[0] )\n",
    "        #print('\\nset_true: {0}'.format(set_true))\n",
    "        #print('set_pred: {0}'.format(set_pred))\n",
    "        tmp_a = None\n",
    "        if len(set_true) == 0 and len(set_pred) == 0:\n",
    "            tmp_a = 1\n",
    "        else:\n",
    "            tmp_a = len(set_true.intersection(set_pred))/\\\n",
    "                    float( len(set_true) )\n",
    "        #print('tmp_a: {0}'.format(tmp_a))\n",
    "        acc_list.append(tmp_a)\n",
    "    return np.mean(acc_list), acc_list"
   ]
  },
  {
   "cell_type": "code",
   "execution_count": 38,
   "metadata": {},
   "outputs": [
    {
     "data": {
      "text/plain": [
       "0.8821735761393544"
      ]
     },
     "execution_count": 38,
     "metadata": {},
     "output_type": "execute_result"
    }
   ],
   "source": [
    "subsetAcc2, acc_list = hamming_score(multilabelGt[targetCol].values, multilabelPred[targetCol].values)\n",
    "subsetAcc2"
   ]
  }
 ],
 "metadata": {
  "kernelspec": {
   "display_name": "work",
   "language": "python",
   "name": "python3"
  },
  "language_info": {
   "codemirror_mode": {
    "name": "ipython",
    "version": 3
   },
   "file_extension": ".py",
   "mimetype": "text/x-python",
   "name": "python",
   "nbconvert_exporter": "python",
   "pygments_lexer": "ipython3",
   "version": "3.10.8"
  },
  "orig_nbformat": 4,
  "vscode": {
   "interpreter": {
    "hash": "0e8f33c5a67865e6aadcd232beb3e2644a1f224e780847feacdefa5e710f41d5"
   }
  }
 },
 "nbformat": 4,
 "nbformat_minor": 2
}
