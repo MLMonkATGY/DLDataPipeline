{
 "cells": [
  {
   "cell_type": "code",
   "execution_count": 30,
   "metadata": {},
   "outputs": [],
   "source": [
    "import pandas as pd\n",
    "pd.set_option('display.max_rows', 300)\n",
    "import rapidfuzz\n",
    "from joblib import Parallel, delayed\n",
    "from tqdm import tqdm\n",
    "import re\n",
    "import awswrangler as wr\n",
    "import boto3"
   ]
  },
  {
   "cell_type": "code",
   "execution_count": 31,
   "metadata": {},
   "outputs": [],
   "source": [
    "def pre_match_to_similar_text(text,\n",
    "                              list_of_target_text,\n",
    "                              similarity_threshold) -> str:\n",
    "    \n",
    "    result = rapidfuzz.process.extract(text,\n",
    "                                       list_of_target_text,\n",
    "                                       scorer=rapidfuzz.fuzz.token_set_ratio,\n",
    "                                       limit=1,\n",
    "                                       score_cutoff=similarity_threshold)\n",
    "\n",
    "    return result[0][0] if (len(result) > 0) else 'none'\n",
    "\n",
    "\n",
    "def pre_grouping_text(df,\n",
    "                      column_string,\n",
    "                      percent_threshold,\n",
    "                      similarity_threshold,\n",
    "                      new_column_name):\n",
    " \n",
    "\n",
    "    if new_column_name is None:\n",
    "        new_column_name = column_string\n",
    "\n",
    "    threshold_to_be_major = percent_threshold / 100 * len(df[column_string].unique())\n",
    "\n",
    "\n",
    "    t = df[column_string].value_counts().to_frame()\n",
    "    major_group_list = df[df[column_string].isin(t[t[column_string] > threshold_to_be_major].index)][column_string].unique()\n",
    "    minor_group_list = df[~df[column_string].isin(major_group_list)][column_string].tolist()\n",
    "\n",
    "    grouping_dictionary = {major_group_list[i]: major_group_list[i] for i in range(len(major_group_list))}\n",
    "\n",
    "    result = Parallel(n_jobs=10)(delayed(pre_match_to_similar_text)(\n",
    "        minor_group, major_group_list, similarity_threshold) for minor_group in tqdm(minor_group_list))\n",
    "    temp = dict(zip(minor_group_list, result))\n",
    "\n",
    "    grouping_dictionary.update(temp)\n",
    "    df[new_column_name] = df[column_string].map(grouping_dictionary)\n",
    "\n",
    "    return df\n",
    "\n",
    "\n",
    "def pre_remove_position(text: str) -> str:\n",
    "  \n",
    "    for direction in ['lh', 'rh', 'right', 'left', 'upper']:\n",
    "        text = text.lower()\n",
    "        text = re.sub(direction, '', text)\n",
    "\n",
    "    return text.strip()"
   ]
  },
  {
   "cell_type": "code",
   "execution_count": 32,
   "metadata": {},
   "outputs": [
    {
     "name": "stderr",
     "output_type": "stream",
     "text": [
      "  8%|▊         | 217817/2831751 [00:20<00:31, 82419.70it/s]"
     ]
    },
    {
     "data": {
      "text/html": [
       "<div>\n",
       "<style scoped>\n",
       "    .dataframe tbody tr th:only-of-type {\n",
       "        vertical-align: middle;\n",
       "    }\n",
       "\n",
       "    .dataframe tbody tr th {\n",
       "        vertical-align: top;\n",
       "    }\n",
       "\n",
       "    .dataframe thead th {\n",
       "        text-align: right;\n",
       "    }\n",
       "</style>\n",
       "<table border=\"1\" class=\"dataframe\">\n",
       "  <thead>\n",
       "    <tr style=\"text-align: right;\">\n",
       "      <th></th>\n",
       "      <th>CaseID</th>\n",
       "      <th>Description</th>\n",
       "      <th>fVAL</th>\n",
       "      <th>DamageCond</th>\n",
       "      <th>CoType</th>\n",
       "    </tr>\n",
       "  </thead>\n",
       "  <tbody>\n",
       "    <tr>\n",
       "      <th>0</th>\n",
       "      <td>12657878</td>\n",
       "      <td>bonnet</td>\n",
       "      <td>550.0</td>\n",
       "      <td>bent/dented</td>\n",
       "      <td>I</td>\n",
       "    </tr>\n",
       "    <tr>\n",
       "      <th>1</th>\n",
       "      <td>12657878</td>\n",
       "      <td>bumper front cover</td>\n",
       "      <td>350.0</td>\n",
       "      <td>creased/torn</td>\n",
       "      <td>I</td>\n",
       "    </tr>\n",
       "    <tr>\n",
       "      <th>2</th>\n",
       "      <td>12657878</td>\n",
       "      <td>bumper front lower grille</td>\n",
       "      <td>110.0</td>\n",
       "      <td>bracket torn</td>\n",
       "      <td>I</td>\n",
       "    </tr>\n",
       "    <tr>\n",
       "      <th>3</th>\n",
       "      <td>12657878</td>\n",
       "      <td>bumper reinforcement front</td>\n",
       "      <td>250.0</td>\n",
       "      <td>bent/dented</td>\n",
       "      <td>I</td>\n",
       "    </tr>\n",
       "    <tr>\n",
       "      <th>4</th>\n",
       "      <td>12657878</td>\n",
       "      <td>fog lamp front rh</td>\n",
       "      <td>150.0</td>\n",
       "      <td>bracket snapped</td>\n",
       "      <td>I</td>\n",
       "    </tr>\n",
       "    <tr>\n",
       "      <th>...</th>\n",
       "      <td>...</td>\n",
       "      <td>...</td>\n",
       "      <td>...</td>\n",
       "      <td>...</td>\n",
       "      <td>...</td>\n",
       "    </tr>\n",
       "    <tr>\n",
       "      <th>12453795</th>\n",
       "      <td>12908158</td>\n",
       "      <td>fuse / relay box</td>\n",
       "      <td>300.0</td>\n",
       "      <td>broken</td>\n",
       "      <td>I</td>\n",
       "    </tr>\n",
       "    <tr>\n",
       "      <th>12453796</th>\n",
       "      <td>12908158</td>\n",
       "      <td>airbag rotary coupling</td>\n",
       "      <td>500.0</td>\n",
       "      <td>activated</td>\n",
       "      <td>I</td>\n",
       "    </tr>\n",
       "    <tr>\n",
       "      <th>12453797</th>\n",
       "      <td>12908162</td>\n",
       "      <td>windscreen glass - front</td>\n",
       "      <td>309.2</td>\n",
       "      <td></td>\n",
       "      <td>I</td>\n",
       "    </tr>\n",
       "    <tr>\n",
       "      <th>12453798</th>\n",
       "      <td>12908163</td>\n",
       "      <td>tint film</td>\n",
       "      <td>280.0</td>\n",
       "      <td></td>\n",
       "      <td>I</td>\n",
       "    </tr>\n",
       "    <tr>\n",
       "      <th>12453799</th>\n",
       "      <td>12908163</td>\n",
       "      <td>windscreen glass - front</td>\n",
       "      <td>730.0</td>\n",
       "      <td></td>\n",
       "      <td>I</td>\n",
       "    </tr>\n",
       "  </tbody>\n",
       "</table>\n",
       "<p>12453800 rows × 5 columns</p>\n",
       "</div>"
      ],
      "text/plain": [
       "            CaseID                 Description   fVAL       DamageCond CoType\n",
       "0         12657878                      bonnet  550.0      bent/dented      I\n",
       "1         12657878          bumper front cover  350.0     creased/torn      I\n",
       "2         12657878   bumper front lower grille  110.0     bracket torn      I\n",
       "3         12657878  bumper reinforcement front  250.0      bent/dented      I\n",
       "4         12657878           fog lamp front rh  150.0  bracket snapped      I\n",
       "...            ...                         ...    ...              ...    ...\n",
       "12453795  12908158            fuse / relay box  300.0           broken      I\n",
       "12453796  12908158      airbag rotary coupling  500.0        activated      I\n",
       "12453797  12908162    windscreen glass - front  309.2                       I\n",
       "12453798  12908163                   tint film  280.0                       I\n",
       "12453799  12908163    windscreen glass - front  730.0                       I\n",
       "\n",
       "[12453800 rows x 5 columns]"
      ]
     },
     "execution_count": 32,
     "metadata": {},
     "output_type": "execute_result"
    }
   ],
   "source": [
    "wr.config.s3_endpoint_url = \"http://192.168.1.4:8333\"\n",
    "bucket = \"scope_part\"\n",
    "\n",
    "partDf = wr.s3.read_parquet(f\"s3://{bucket}/\")\n",
    "partDf"
   ]
  },
  {
   "cell_type": "code",
   "execution_count": 33,
   "metadata": {},
   "outputs": [],
   "source": [
    "wr.config.s3_endpoint_url = \"http://192.168.1.7:8333\"\n",
    "bucket2 = \"scope_case\"\n",
    "\n",
    "caseDf = wr.s3.read_parquet(f\"s3://{bucket2}/\", columns=[\"CaseID\"])"
   ]
  },
  {
   "cell_type": "code",
   "execution_count": 34,
   "metadata": {},
   "outputs": [],
   "source": [
    "partDf = partDf.merge(caseDf, on=\"CaseID\")"
   ]
  },
  {
   "cell_type": "code",
   "execution_count": 35,
   "metadata": {},
   "outputs": [],
   "source": [
    "# partDf[\"Description\"].value_counts().head(100).reset_index()"
   ]
  },
  {
   "cell_type": "code",
   "execution_count": 36,
   "metadata": {},
   "outputs": [
    {
     "name": "stderr",
     "output_type": "stream",
     "text": []
    }
   ],
   "source": [
    "fuzzyMatchDf = pre_grouping_text(partDf,\n",
    "                         column_string='Description',\n",
    "                         percent_threshold=3,\n",
    "                         similarity_threshold=60,\n",
    "                         new_column_name='FuzzyMatchDesc')"
   ]
  },
  {
   "cell_type": "code",
   "execution_count": null,
   "metadata": {},
   "outputs": [
    {
     "data": {
      "text/plain": [
       "7235548"
      ]
     },
     "execution_count": 8,
     "metadata": {},
     "output_type": "execute_result"
    }
   ],
   "source": [
    "fuzzyMatchDf[\"FuzzyMatchDesc\"].value_counts().to_frame()[\"FuzzyMatchDesc\"].sum()"
   ]
  },
  {
   "cell_type": "code",
   "execution_count": null,
   "metadata": {},
   "outputs": [
    {
     "data": {
      "text/plain": [
       "5584984"
      ]
     },
     "execution_count": 9,
     "metadata": {},
     "output_type": "execute_result"
    }
   ],
   "source": [
    "fuzzyMatchDf[\"FuzzyMatchDesc\"].value_counts().to_frame().head(50)[\"FuzzyMatchDesc\"].sum()"
   ]
  },
  {
   "cell_type": "code",
   "execution_count": null,
   "metadata": {},
   "outputs": [],
   "source": [
    "mappingDf = fuzzyMatchDf[\"FuzzyMatchDesc\"].value_counts().reset_index().rename(columns={\"index\" : \"part\", \"FuzzyMatchDesc\" : \"count\"})"
   ]
  },
  {
   "cell_type": "code",
   "execution_count": null,
   "metadata": {},
   "outputs": [
    {
     "data": {
      "text/html": [
       "<div>\n",
       "<style scoped>\n",
       "    .dataframe tbody tr th:only-of-type {\n",
       "        vertical-align: middle;\n",
       "    }\n",
       "\n",
       "    .dataframe tbody tr th {\n",
       "        vertical-align: top;\n",
       "    }\n",
       "\n",
       "    .dataframe thead th {\n",
       "        text-align: right;\n",
       "    }\n",
       "</style>\n",
       "<table border=\"1\" class=\"dataframe\">\n",
       "  <thead>\n",
       "    <tr style=\"text-align: right;\">\n",
       "      <th></th>\n",
       "      <th>index</th>\n",
       "      <th>Description</th>\n",
       "    </tr>\n",
       "  </thead>\n",
       "  <tbody>\n",
       "    <tr>\n",
       "      <th>0</th>\n",
       "      <td>tint film</td>\n",
       "      <td>8702</td>\n",
       "    </tr>\n",
       "    <tr>\n",
       "      <th>1</th>\n",
       "      <td>oil cooler gearbox</td>\n",
       "      <td>7576</td>\n",
       "    </tr>\n",
       "    <tr>\n",
       "      <th>2</th>\n",
       "      <td>bodyside rh</td>\n",
       "      <td>5909</td>\n",
       "    </tr>\n",
       "    <tr>\n",
       "      <th>3</th>\n",
       "      <td>sealant</td>\n",
       "      <td>5497</td>\n",
       "    </tr>\n",
       "    <tr>\n",
       "      <th>4</th>\n",
       "      <td>pas oil cooler</td>\n",
       "      <td>5175</td>\n",
       "    </tr>\n",
       "    <tr>\n",
       "      <th>5</th>\n",
       "      <td>bodyside lh</td>\n",
       "      <td>5006</td>\n",
       "    </tr>\n",
       "    <tr>\n",
       "      <th>6</th>\n",
       "      <td>pas pump</td>\n",
       "      <td>4505</td>\n",
       "    </tr>\n",
       "    <tr>\n",
       "      <th>7</th>\n",
       "      <td>horn</td>\n",
       "      <td>4337</td>\n",
       "    </tr>\n",
       "    <tr>\n",
       "      <th>8</th>\n",
       "      <td>side step lh</td>\n",
       "      <td>4255</td>\n",
       "    </tr>\n",
       "    <tr>\n",
       "      <th>9</th>\n",
       "      <td>fuse box</td>\n",
       "      <td>4183</td>\n",
       "    </tr>\n",
       "    <tr>\n",
       "      <th>10</th>\n",
       "      <td>steering tie rod end rh</td>\n",
       "      <td>4141</td>\n",
       "    </tr>\n",
       "    <tr>\n",
       "      <th>11</th>\n",
       "      <td>steering tie rod end lh</td>\n",
       "      <td>3867</td>\n",
       "    </tr>\n",
       "    <tr>\n",
       "      <th>12</th>\n",
       "      <td>side step rh</td>\n",
       "      <td>3846</td>\n",
       "    </tr>\n",
       "    <tr>\n",
       "      <th>13</th>\n",
       "      <td>lamp daytime running lh</td>\n",
       "      <td>3507</td>\n",
       "    </tr>\n",
       "    <tr>\n",
       "      <th>14</th>\n",
       "      <td>lamp daytime running rh</td>\n",
       "      <td>3193</td>\n",
       "    </tr>\n",
       "    <tr>\n",
       "      <th>15</th>\n",
       "      <td>lid comp., trunk</td>\n",
       "      <td>3142</td>\n",
       "    </tr>\n",
       "    <tr>\n",
       "      <th>16</th>\n",
       "      <td>pas container</td>\n",
       "      <td>3106</td>\n",
       "    </tr>\n",
       "    <tr>\n",
       "      <th>17</th>\n",
       "      <td>sticker</td>\n",
       "      <td>2988</td>\n",
       "    </tr>\n",
       "    <tr>\n",
       "      <th>18</th>\n",
       "      <td>auxiliary drive belt</td>\n",
       "      <td>2847</td>\n",
       "    </tr>\n",
       "    <tr>\n",
       "      <th>19</th>\n",
       "      <td>brake abs modulator</td>\n",
       "      <td>2838</td>\n",
       "    </tr>\n",
       "  </tbody>\n",
       "</table>\n",
       "</div>"
      ],
      "text/plain": [
       "                      index  Description\n",
       "0                 tint film         8702\n",
       "1        oil cooler gearbox         7576\n",
       "2               bodyside rh         5909\n",
       "3                   sealant         5497\n",
       "4            pas oil cooler         5175\n",
       "5               bodyside lh         5006\n",
       "6                  pas pump         4505\n",
       "7                      horn         4337\n",
       "8              side step lh         4255\n",
       "9                  fuse box         4183\n",
       "10  steering tie rod end rh         4141\n",
       "11  steering tie rod end lh         3867\n",
       "12             side step rh         3846\n",
       "13  lamp daytime running lh         3507\n",
       "14  lamp daytime running rh         3193\n",
       "15         lid comp., trunk         3142\n",
       "16            pas container         3106\n",
       "17                  sticker         2988\n",
       "18     auxiliary drive belt         2847\n",
       "19      brake abs modulator         2838"
      ]
     },
     "execution_count": 11,
     "metadata": {},
     "output_type": "execute_result"
    }
   ],
   "source": [
    "fuzzyMatchDf[fuzzyMatchDf[\"FuzzyMatchDesc\"] == \"none\"][\"Description\"].value_counts().reset_index().head(20)"
   ]
  },
  {
   "cell_type": "code",
   "execution_count": null,
   "metadata": {},
   "outputs": [],
   "source": [
    "mappingDf.to_csv(\"../../data/tmp/mapping.csv\")"
   ]
  },
  {
   "cell_type": "code",
   "execution_count": null,
   "metadata": {},
   "outputs": [],
   "source": [
    "semanticGroupDf = pd.read_csv(\"/home/alextay96/Desktop/new_workspace/DLDataPipeline/data/tmp/complete_view_mapping.csv\")"
   ]
  },
  {
   "cell_type": "code",
   "execution_count": null,
   "metadata": {},
   "outputs": [
    {
     "data": {
      "text/html": [
       "<div>\n",
       "<style scoped>\n",
       "    .dataframe tbody tr th:only-of-type {\n",
       "        vertical-align: middle;\n",
       "    }\n",
       "\n",
       "    .dataframe tbody tr th {\n",
       "        vertical-align: top;\n",
       "    }\n",
       "\n",
       "    .dataframe thead th {\n",
       "        text-align: right;\n",
       "    }\n",
       "</style>\n",
       "<table border=\"1\" class=\"dataframe\">\n",
       "  <thead>\n",
       "    <tr style=\"text-align: right;\">\n",
       "      <th></th>\n",
       "      <th>Unnamed: 0</th>\n",
       "      <th>lvl_1_desc</th>\n",
       "      <th>count</th>\n",
       "      <th>lvl_2_desc</th>\n",
       "      <th>lvl_3_desc</th>\n",
       "      <th>front_view</th>\n",
       "      <th>front_view_left</th>\n",
       "    </tr>\n",
       "  </thead>\n",
       "  <tbody>\n",
       "    <tr>\n",
       "      <th>0</th>\n",
       "      <td>0</td>\n",
       "      <td>none</td>\n",
       "      <td>496523</td>\n",
       "      <td>misc</td>\n",
       "      <td>misc</td>\n",
       "      <td>1</td>\n",
       "      <td>1.0</td>\n",
       "    </tr>\n",
       "    <tr>\n",
       "      <th>1</th>\n",
       "      <td>1</td>\n",
       "      <td>bumper front cover</td>\n",
       "      <td>353946</td>\n",
       "      <td>bumper front</td>\n",
       "      <td>bumper front</td>\n",
       "      <td>1</td>\n",
       "      <td>1.0</td>\n",
       "    </tr>\n",
       "    <tr>\n",
       "      <th>2</th>\n",
       "      <td>2</td>\n",
       "      <td>headlamp assy rh</td>\n",
       "      <td>281629</td>\n",
       "      <td>headlamp rh</td>\n",
       "      <td>headlamp rh</td>\n",
       "      <td>1</td>\n",
       "      <td>0.0</td>\n",
       "    </tr>\n",
       "    <tr>\n",
       "      <th>3</th>\n",
       "      <td>3</td>\n",
       "      <td>headlamp assy lh</td>\n",
       "      <td>279970</td>\n",
       "      <td>headlamp lh</td>\n",
       "      <td>headlamp lh</td>\n",
       "      <td>1</td>\n",
       "      <td>1.0</td>\n",
       "    </tr>\n",
       "    <tr>\n",
       "      <th>4</th>\n",
       "      <td>4</td>\n",
       "      <td>radiator</td>\n",
       "      <td>245848</td>\n",
       "      <td>radiator</td>\n",
       "      <td>engine</td>\n",
       "      <td>1</td>\n",
       "      <td>1.0</td>\n",
       "    </tr>\n",
       "    <tr>\n",
       "      <th>5</th>\n",
       "      <td>5</td>\n",
       "      <td>bonnet</td>\n",
       "      <td>233463</td>\n",
       "      <td>bonnet</td>\n",
       "      <td>bonnet</td>\n",
       "      <td>1</td>\n",
       "      <td>1.0</td>\n",
       "    </tr>\n",
       "    <tr>\n",
       "      <th>6</th>\n",
       "      <td>6</td>\n",
       "      <td>bumper rear cover</td>\n",
       "      <td>187056</td>\n",
       "      <td>bumper rear</td>\n",
       "      <td>bumper rear</td>\n",
       "      <td>0</td>\n",
       "      <td>0.0</td>\n",
       "    </tr>\n",
       "    <tr>\n",
       "      <th>7</th>\n",
       "      <td>7</td>\n",
       "      <td>air conditioning condenser</td>\n",
       "      <td>174417</td>\n",
       "      <td>air conditioning</td>\n",
       "      <td>engine</td>\n",
       "      <td>1</td>\n",
       "      <td>1.0</td>\n",
       "    </tr>\n",
       "    <tr>\n",
       "      <th>8</th>\n",
       "      <td>8</td>\n",
       "      <td>front bumper</td>\n",
       "      <td>149934</td>\n",
       "      <td>bumper front</td>\n",
       "      <td>bumper front</td>\n",
       "      <td>1</td>\n",
       "      <td>1.0</td>\n",
       "    </tr>\n",
       "    <tr>\n",
       "      <th>9</th>\n",
       "      <td>9</td>\n",
       "      <td>fender front rh</td>\n",
       "      <td>148560</td>\n",
       "      <td>fender front rh</td>\n",
       "      <td>fender front rh</td>\n",
       "      <td>0</td>\n",
       "      <td>0.0</td>\n",
       "    </tr>\n",
       "    <tr>\n",
       "      <th>10</th>\n",
       "      <td>10</td>\n",
       "      <td>grille front</td>\n",
       "      <td>143484</td>\n",
       "      <td>grille</td>\n",
       "      <td>grille</td>\n",
       "      <td>1</td>\n",
       "      <td>0.0</td>\n",
       "    </tr>\n",
       "    <tr>\n",
       "      <th>11</th>\n",
       "      <td>11</td>\n",
       "      <td>fender front lh</td>\n",
       "      <td>140437</td>\n",
       "      <td>fender front lh</td>\n",
       "      <td>fender front lh</td>\n",
       "      <td>0</td>\n",
       "      <td>1.0</td>\n",
       "    </tr>\n",
       "    <tr>\n",
       "      <th>12</th>\n",
       "      <td>12</td>\n",
       "      <td>door front rh</td>\n",
       "      <td>133701</td>\n",
       "      <td>door front rh</td>\n",
       "      <td>door front rh</td>\n",
       "      <td>0</td>\n",
       "      <td>0.0</td>\n",
       "    </tr>\n",
       "    <tr>\n",
       "      <th>13</th>\n",
       "      <td>13</td>\n",
       "      <td>door front lh</td>\n",
       "      <td>128132</td>\n",
       "      <td>door front lh</td>\n",
       "      <td>door front lh</td>\n",
       "      <td>0</td>\n",
       "      <td>1.0</td>\n",
       "    </tr>\n",
       "    <tr>\n",
       "      <th>14</th>\n",
       "      <td>14</td>\n",
       "      <td>rear bumper</td>\n",
       "      <td>124925</td>\n",
       "      <td>bumper rear</td>\n",
       "      <td>bumper rear</td>\n",
       "      <td>0</td>\n",
       "      <td>0.0</td>\n",
       "    </tr>\n",
       "    <tr>\n",
       "      <th>15</th>\n",
       "      <td>15</td>\n",
       "      <td>bumper reinforcement front</td>\n",
       "      <td>116884</td>\n",
       "      <td>bumper front</td>\n",
       "      <td>bumper front</td>\n",
       "      <td>1</td>\n",
       "      <td>1.0</td>\n",
       "    </tr>\n",
       "    <tr>\n",
       "      <th>16</th>\n",
       "      <td>16</td>\n",
       "      <td>grille front moulding</td>\n",
       "      <td>102827</td>\n",
       "      <td>grille</td>\n",
       "      <td>grille</td>\n",
       "      <td>1</td>\n",
       "      <td>0.0</td>\n",
       "    </tr>\n",
       "    <tr>\n",
       "      <th>17</th>\n",
       "      <td>17</td>\n",
       "      <td>windscreen front</td>\n",
       "      <td>98804</td>\n",
       "      <td>windscreen front</td>\n",
       "      <td>windscreen front</td>\n",
       "      <td>1</td>\n",
       "      <td>1.0</td>\n",
       "    </tr>\n",
       "    <tr>\n",
       "      <th>18</th>\n",
       "      <td>18</td>\n",
       "      <td>wheel rim alloy</td>\n",
       "      <td>97854</td>\n",
       "      <td>wheel</td>\n",
       "      <td>wheel</td>\n",
       "      <td>0</td>\n",
       "      <td>1.0</td>\n",
       "    </tr>\n",
       "    <tr>\n",
       "      <th>19</th>\n",
       "      <td>19</td>\n",
       "      <td>lamp assembly rear rh (tts)</td>\n",
       "      <td>95808</td>\n",
       "      <td>tail lamp rh</td>\n",
       "      <td>tail lamp rh</td>\n",
       "      <td>0</td>\n",
       "      <td>0.0</td>\n",
       "    </tr>\n",
       "    <tr>\n",
       "      <th>20</th>\n",
       "      <td>20</td>\n",
       "      <td>tailgate</td>\n",
       "      <td>91740</td>\n",
       "      <td>rear compartment</td>\n",
       "      <td>rear compartment</td>\n",
       "      <td>0</td>\n",
       "      <td>0.0</td>\n",
       "    </tr>\n",
       "    <tr>\n",
       "      <th>21</th>\n",
       "      <td>21</td>\n",
       "      <td>door rear rh</td>\n",
       "      <td>90514</td>\n",
       "      <td>door rear rh</td>\n",
       "      <td>door rear rh</td>\n",
       "      <td>0</td>\n",
       "      <td>0.0</td>\n",
       "    </tr>\n",
       "    <tr>\n",
       "      <th>22</th>\n",
       "      <td>22</td>\n",
       "      <td>boot lid</td>\n",
       "      <td>89110</td>\n",
       "      <td>rear compartment</td>\n",
       "      <td>rear compartment</td>\n",
       "      <td>0</td>\n",
       "      <td>0.0</td>\n",
       "    </tr>\n",
       "    <tr>\n",
       "      <th>23</th>\n",
       "      <td>23</td>\n",
       "      <td>door rear lh</td>\n",
       "      <td>88811</td>\n",
       "      <td>door rear lh</td>\n",
       "      <td>door rear lh</td>\n",
       "      <td>0</td>\n",
       "      <td>0.0</td>\n",
       "    </tr>\n",
       "    <tr>\n",
       "      <th>24</th>\n",
       "      <td>24</td>\n",
       "      <td>lamp assembly rear lh (tts)</td>\n",
       "      <td>87804</td>\n",
       "      <td>tail lamp lh</td>\n",
       "      <td>tail lamp lh</td>\n",
       "      <td>0</td>\n",
       "      <td>0.0</td>\n",
       "    </tr>\n",
       "    <tr>\n",
       "      <th>25</th>\n",
       "      <td>25</td>\n",
       "      <td>fog lamp front rh</td>\n",
       "      <td>76319</td>\n",
       "      <td>fog lamp rh</td>\n",
       "      <td>headlamp rh</td>\n",
       "      <td>1</td>\n",
       "      <td>0.0</td>\n",
       "    </tr>\n",
       "    <tr>\n",
       "      <th>26</th>\n",
       "      <td>26</td>\n",
       "      <td>airbag ecu</td>\n",
       "      <td>68976</td>\n",
       "      <td>airbag</td>\n",
       "      <td>interior</td>\n",
       "      <td>0</td>\n",
       "      <td>1.0</td>\n",
       "    </tr>\n",
       "    <tr>\n",
       "      <th>27</th>\n",
       "      <td>27</td>\n",
       "      <td>bumper front lower grille</td>\n",
       "      <td>68346</td>\n",
       "      <td>grille</td>\n",
       "      <td>grille</td>\n",
       "      <td>1</td>\n",
       "      <td>0.0</td>\n",
       "    </tr>\n",
       "    <tr>\n",
       "      <th>28</th>\n",
       "      <td>28</td>\n",
       "      <td>front panel</td>\n",
       "      <td>67301</td>\n",
       "      <td>front panel</td>\n",
       "      <td>front panel</td>\n",
       "      <td>1</td>\n",
       "      <td>1.0</td>\n",
       "    </tr>\n",
       "    <tr>\n",
       "      <th>29</th>\n",
       "      <td>29</td>\n",
       "      <td>front panel assembly</td>\n",
       "      <td>67226</td>\n",
       "      <td>front panel</td>\n",
       "      <td>front panel</td>\n",
       "      <td>1</td>\n",
       "      <td>1.0</td>\n",
       "    </tr>\n",
       "    <tr>\n",
       "      <th>30</th>\n",
       "      <td>30</td>\n",
       "      <td>cooling fan cover</td>\n",
       "      <td>67060</td>\n",
       "      <td>cooling fan</td>\n",
       "      <td>engine</td>\n",
       "      <td>1</td>\n",
       "      <td>1.0</td>\n",
       "    </tr>\n",
       "    <tr>\n",
       "      <th>31</th>\n",
       "      <td>31</td>\n",
       "      <td>air filter assy</td>\n",
       "      <td>65874</td>\n",
       "      <td>engine</td>\n",
       "      <td>engine</td>\n",
       "      <td>1</td>\n",
       "      <td>1.0</td>\n",
       "    </tr>\n",
       "    <tr>\n",
       "      <th>32</th>\n",
       "      <td>32</td>\n",
       "      <td>bumper spoiler front</td>\n",
       "      <td>64004</td>\n",
       "      <td>bumper front</td>\n",
       "      <td>bumper front</td>\n",
       "      <td>1</td>\n",
       "      <td>1.0</td>\n",
       "    </tr>\n",
       "    <tr>\n",
       "      <th>33</th>\n",
       "      <td>33</td>\n",
       "      <td>face, fr. bumper</td>\n",
       "      <td>62882</td>\n",
       "      <td>bumper front</td>\n",
       "      <td>bumper front</td>\n",
       "      <td>1</td>\n",
       "      <td>1.0</td>\n",
       "    </tr>\n",
       "    <tr>\n",
       "      <th>34</th>\n",
       "      <td>34</td>\n",
       "      <td>fog lamp front lh</td>\n",
       "      <td>61756</td>\n",
       "      <td>fog lamp lh</td>\n",
       "      <td>headlamp lh</td>\n",
       "      <td>1</td>\n",
       "      <td>NaN</td>\n",
       "    </tr>\n",
       "    <tr>\n",
       "      <th>35</th>\n",
       "      <td>35</td>\n",
       "      <td>rear panel</td>\n",
       "      <td>59536</td>\n",
       "      <td>rear panel</td>\n",
       "      <td>rear panel</td>\n",
       "      <td>0</td>\n",
       "      <td>NaN</td>\n",
       "    </tr>\n",
       "    <tr>\n",
       "      <th>36</th>\n",
       "      <td>36</td>\n",
       "      <td>engine mounting rh</td>\n",
       "      <td>57512</td>\n",
       "      <td>engine</td>\n",
       "      <td>engine</td>\n",
       "      <td>1</td>\n",
       "      <td>NaN</td>\n",
       "    </tr>\n",
       "    <tr>\n",
       "      <th>37</th>\n",
       "      <td>37</td>\n",
       "      <td>roof panel</td>\n",
       "      <td>54699</td>\n",
       "      <td>roof</td>\n",
       "      <td>roof</td>\n",
       "      <td>0</td>\n",
       "      <td>NaN</td>\n",
       "    </tr>\n",
       "    <tr>\n",
       "      <th>38</th>\n",
       "      <td>38</td>\n",
       "      <td>lambda sensor</td>\n",
       "      <td>51000</td>\n",
       "      <td>bumper rear</td>\n",
       "      <td>bumper rear</td>\n",
       "      <td>0</td>\n",
       "      <td>NaN</td>\n",
       "    </tr>\n",
       "    <tr>\n",
       "      <th>39</th>\n",
       "      <td>39</td>\n",
       "      <td>airbag drivers side</td>\n",
       "      <td>50506</td>\n",
       "      <td>airbag</td>\n",
       "      <td>engine</td>\n",
       "      <td>1</td>\n",
       "      <td>NaN</td>\n",
       "    </tr>\n",
       "    <tr>\n",
       "      <th>40</th>\n",
       "      <td>40</td>\n",
       "      <td>suspension arm front lh</td>\n",
       "      <td>49757</td>\n",
       "      <td>undercarriage front</td>\n",
       "      <td>undercarriage front</td>\n",
       "      <td>1</td>\n",
       "      <td>NaN</td>\n",
       "    </tr>\n",
       "    <tr>\n",
       "      <th>41</th>\n",
       "      <td>41</td>\n",
       "      <td>air conditioning hose</td>\n",
       "      <td>48501</td>\n",
       "      <td>air conditioning</td>\n",
       "      <td>engine</td>\n",
       "      <td>1</td>\n",
       "      <td>NaN</td>\n",
       "    </tr>\n",
       "    <tr>\n",
       "      <th>42</th>\n",
       "      <td>42</td>\n",
       "      <td>washer tank screen</td>\n",
       "      <td>47426</td>\n",
       "      <td>engine</td>\n",
       "      <td>engine</td>\n",
       "      <td>1</td>\n",
       "      <td>NaN</td>\n",
       "    </tr>\n",
       "    <tr>\n",
       "      <th>43</th>\n",
       "      <td>43</td>\n",
       "      <td>engine oil sump</td>\n",
       "      <td>46533</td>\n",
       "      <td>engine</td>\n",
       "      <td>engine</td>\n",
       "      <td>1</td>\n",
       "      <td>NaN</td>\n",
       "    </tr>\n",
       "    <tr>\n",
       "      <th>44</th>\n",
       "      <td>44</td>\n",
       "      <td>door mirror rh</td>\n",
       "      <td>46138</td>\n",
       "      <td>door mirror rh</td>\n",
       "      <td>misc</td>\n",
       "      <td>1</td>\n",
       "      <td>NaN</td>\n",
       "    </tr>\n",
       "    <tr>\n",
       "      <th>45</th>\n",
       "      <td>45</td>\n",
       "      <td>airbag passenger side</td>\n",
       "      <td>45951</td>\n",
       "      <td>airbag</td>\n",
       "      <td>interior</td>\n",
       "      <td>0</td>\n",
       "      <td>NaN</td>\n",
       "    </tr>\n",
       "    <tr>\n",
       "      <th>46</th>\n",
       "      <td>46</td>\n",
       "      <td>suspension arm front rh</td>\n",
       "      <td>45761</td>\n",
       "      <td>undercarriage front</td>\n",
       "      <td>undercarriage front</td>\n",
       "      <td>1</td>\n",
       "      <td>NaN</td>\n",
       "    </tr>\n",
       "    <tr>\n",
       "      <th>47</th>\n",
       "      <td>47</td>\n",
       "      <td>fender front liner rh</td>\n",
       "      <td>44160</td>\n",
       "      <td>fender front rh</td>\n",
       "      <td>fender front rh</td>\n",
       "      <td>0</td>\n",
       "      <td>NaN</td>\n",
       "    </tr>\n",
       "    <tr>\n",
       "      <th>48</th>\n",
       "      <td>48</td>\n",
       "      <td>fender front liner lh</td>\n",
       "      <td>42790</td>\n",
       "      <td>fender front lh</td>\n",
       "      <td>fender front lh</td>\n",
       "      <td>0</td>\n",
       "      <td>NaN</td>\n",
       "    </tr>\n",
       "    <tr>\n",
       "      <th>49</th>\n",
       "      <td>49</td>\n",
       "      <td>dashboard panel</td>\n",
       "      <td>42789</td>\n",
       "      <td>interior</td>\n",
       "      <td>interior</td>\n",
       "      <td>0</td>\n",
       "      <td>NaN</td>\n",
       "    </tr>\n",
       "    <tr>\n",
       "      <th>50</th>\n",
       "      <td>50</td>\n",
       "      <td>airbag rotary coupling</td>\n",
       "      <td>39405</td>\n",
       "      <td>airbag</td>\n",
       "      <td>interior</td>\n",
       "      <td>0</td>\n",
       "      <td>NaN</td>\n",
       "    </tr>\n",
       "    <tr>\n",
       "      <th>51</th>\n",
       "      <td>51</td>\n",
       "      <td>door mirror lh</td>\n",
       "      <td>37432</td>\n",
       "      <td>door mirror lh</td>\n",
       "      <td>misc</td>\n",
       "      <td>1</td>\n",
       "      <td>NaN</td>\n",
       "    </tr>\n",
       "    <tr>\n",
       "      <th>52</th>\n",
       "      <td>52</td>\n",
       "      <td>cowl panel grille (tts)</td>\n",
       "      <td>36958</td>\n",
       "      <td>grille</td>\n",
       "      <td>grille</td>\n",
       "      <td>1</td>\n",
       "      <td>NaN</td>\n",
       "    </tr>\n",
       "    <tr>\n",
       "      <th>53</th>\n",
       "      <td>53</td>\n",
       "      <td>wheel bearing front</td>\n",
       "      <td>36728</td>\n",
       "      <td>wheel</td>\n",
       "      <td>wheel</td>\n",
       "      <td>0</td>\n",
       "      <td>NaN</td>\n",
       "    </tr>\n",
       "    <tr>\n",
       "      <th>54</th>\n",
       "      <td>54</td>\n",
       "      <td>seat belt reel front rh</td>\n",
       "      <td>34319</td>\n",
       "      <td>interior</td>\n",
       "      <td>interior</td>\n",
       "      <td>0</td>\n",
       "      <td>NaN</td>\n",
       "    </tr>\n",
       "    <tr>\n",
       "      <th>55</th>\n",
       "      <td>55</td>\n",
       "      <td>steering rack/box pas</td>\n",
       "      <td>33161</td>\n",
       "      <td>engine</td>\n",
       "      <td>engine</td>\n",
       "      <td>1</td>\n",
       "      <td>NaN</td>\n",
       "    </tr>\n",
       "    <tr>\n",
       "      <th>56</th>\n",
       "      <td>56</td>\n",
       "      <td>front panel upper</td>\n",
       "      <td>32977</td>\n",
       "      <td>front panel</td>\n",
       "      <td>front panel</td>\n",
       "      <td>1</td>\n",
       "      <td>NaN</td>\n",
       "    </tr>\n",
       "    <tr>\n",
       "      <th>57</th>\n",
       "      <td>57</td>\n",
       "      <td>engine mounting lh</td>\n",
       "      <td>32589</td>\n",
       "      <td>engine</td>\n",
       "      <td>engine</td>\n",
       "      <td>1</td>\n",
       "      <td>NaN</td>\n",
       "    </tr>\n",
       "    <tr>\n",
       "      <th>58</th>\n",
       "      <td>58</td>\n",
       "      <td>seat belt reel front lh</td>\n",
       "      <td>30998</td>\n",
       "      <td>interior</td>\n",
       "      <td>interior</td>\n",
       "      <td>0</td>\n",
       "      <td>NaN</td>\n",
       "    </tr>\n",
       "    <tr>\n",
       "      <th>59</th>\n",
       "      <td>59</td>\n",
       "      <td>grille badge</td>\n",
       "      <td>30709</td>\n",
       "      <td>grille</td>\n",
       "      <td>grille</td>\n",
       "      <td>1</td>\n",
       "      <td>NaN</td>\n",
       "    </tr>\n",
       "    <tr>\n",
       "      <th>60</th>\n",
       "      <td>60</td>\n",
       "      <td>exhaust manifold cover</td>\n",
       "      <td>29819</td>\n",
       "      <td>engine</td>\n",
       "      <td>engine</td>\n",
       "      <td>1</td>\n",
       "      <td>NaN</td>\n",
       "    </tr>\n",
       "    <tr>\n",
       "      <th>61</th>\n",
       "      <td>61</td>\n",
       "      <td>rear panel assembly</td>\n",
       "      <td>29780</td>\n",
       "      <td>rear panel</td>\n",
       "      <td>rear panel</td>\n",
       "      <td>0</td>\n",
       "      <td>NaN</td>\n",
       "    </tr>\n",
       "    <tr>\n",
       "      <th>62</th>\n",
       "      <td>62</td>\n",
       "      <td>windscreen rear</td>\n",
       "      <td>29715</td>\n",
       "      <td>windscreen rear</td>\n",
       "      <td>windscreen rear</td>\n",
       "      <td>0</td>\n",
       "      <td>NaN</td>\n",
       "    </tr>\n",
       "    <tr>\n",
       "      <th>63</th>\n",
       "      <td>63</td>\n",
       "      <td>shock absorber front rh</td>\n",
       "      <td>28966</td>\n",
       "      <td>undercarriage front</td>\n",
       "      <td>undercarriage front</td>\n",
       "      <td>1</td>\n",
       "      <td>NaN</td>\n",
       "    </tr>\n",
       "    <tr>\n",
       "      <th>64</th>\n",
       "      <td>64</td>\n",
       "      <td>quarter panel rh</td>\n",
       "      <td>28857</td>\n",
       "      <td>rear quarter rh</td>\n",
       "      <td>rear quarter rh</td>\n",
       "      <td>0</td>\n",
       "      <td>NaN</td>\n",
       "    </tr>\n",
       "    <tr>\n",
       "      <th>65</th>\n",
       "      <td>65</td>\n",
       "      <td>shock absorber front lh</td>\n",
       "      <td>28724</td>\n",
       "      <td>undercarriage front</td>\n",
       "      <td>undercarriage front</td>\n",
       "      <td>1</td>\n",
       "      <td>NaN</td>\n",
       "    </tr>\n",
       "    <tr>\n",
       "      <th>66</th>\n",
       "      <td>66</td>\n",
       "      <td>suspension crossmember rear</td>\n",
       "      <td>27556</td>\n",
       "      <td>undercarriage rear</td>\n",
       "      <td>undercarriage rear</td>\n",
       "      <td>0</td>\n",
       "      <td>NaN</td>\n",
       "    </tr>\n",
       "    <tr>\n",
       "      <th>67</th>\n",
       "      <td>67</td>\n",
       "      <td>bumper rear sensor</td>\n",
       "      <td>27450</td>\n",
       "      <td>bumper rear</td>\n",
       "      <td>bumper rear</td>\n",
       "      <td>0</td>\n",
       "      <td>NaN</td>\n",
       "    </tr>\n",
       "    <tr>\n",
       "      <th>68</th>\n",
       "      <td>68</td>\n",
       "      <td>suspension crossmember front</td>\n",
       "      <td>26224</td>\n",
       "      <td>undercarriage front</td>\n",
       "      <td>undercarriage front</td>\n",
       "      <td>1</td>\n",
       "      <td>NaN</td>\n",
       "    </tr>\n",
       "    <tr>\n",
       "      <th>69</th>\n",
       "      <td>69</td>\n",
       "      <td>spoiler bumper rear</td>\n",
       "      <td>25907</td>\n",
       "      <td>bumper rear</td>\n",
       "      <td>bumper rear</td>\n",
       "      <td>0</td>\n",
       "      <td>NaN</td>\n",
       "    </tr>\n",
       "    <tr>\n",
       "      <th>70</th>\n",
       "      <td>70</td>\n",
       "      <td>quarter panel lh</td>\n",
       "      <td>25705</td>\n",
       "      <td>rear quarter lh</td>\n",
       "      <td>rear quarter lh</td>\n",
       "      <td>0</td>\n",
       "      <td>NaN</td>\n",
       "    </tr>\n",
       "    <tr>\n",
       "      <th>71</th>\n",
       "      <td>71</td>\n",
       "      <td>front panel lower</td>\n",
       "      <td>25167</td>\n",
       "      <td>front panel</td>\n",
       "      <td>front panel</td>\n",
       "      <td>1</td>\n",
       "      <td>NaN</td>\n",
       "    </tr>\n",
       "    <tr>\n",
       "      <th>72</th>\n",
       "      <td>72</td>\n",
       "      <td>bumper front fog lamp finisher rh</td>\n",
       "      <td>25119</td>\n",
       "      <td>fog lamp rh</td>\n",
       "      <td>headlamp rh</td>\n",
       "      <td>1</td>\n",
       "      <td>NaN</td>\n",
       "    </tr>\n",
       "    <tr>\n",
       "      <th>73</th>\n",
       "      <td>73</td>\n",
       "      <td>transmission assy</td>\n",
       "      <td>24838</td>\n",
       "      <td>engine</td>\n",
       "      <td>engine</td>\n",
       "      <td>1</td>\n",
       "      <td>NaN</td>\n",
       "    </tr>\n",
       "    <tr>\n",
       "      <th>74</th>\n",
       "      <td>74</td>\n",
       "      <td>spoiler runningboard extension lh</td>\n",
       "      <td>24626</td>\n",
       "      <td>misc</td>\n",
       "      <td>misc</td>\n",
       "      <td>1</td>\n",
       "      <td>NaN</td>\n",
       "    </tr>\n",
       "    <tr>\n",
       "      <th>75</th>\n",
       "      <td>75</td>\n",
       "      <td>spoiler runningboard extension rh</td>\n",
       "      <td>24551</td>\n",
       "      <td>misc</td>\n",
       "      <td>misc</td>\n",
       "      <td>1</td>\n",
       "      <td>NaN</td>\n",
       "    </tr>\n",
       "    <tr>\n",
       "      <th>76</th>\n",
       "      <td>76</td>\n",
       "      <td>windscreen glass - front</td>\n",
       "      <td>24454</td>\n",
       "      <td>windscreen front</td>\n",
       "      <td>windscreen front</td>\n",
       "      <td>1</td>\n",
       "      <td>NaN</td>\n",
       "    </tr>\n",
       "    <tr>\n",
       "      <th>77</th>\n",
       "      <td>77</td>\n",
       "      <td>bonnet moulding</td>\n",
       "      <td>24143</td>\n",
       "      <td>bonnet</td>\n",
       "      <td>bonnet</td>\n",
       "      <td>1</td>\n",
       "      <td>NaN</td>\n",
       "    </tr>\n",
       "    <tr>\n",
       "      <th>78</th>\n",
       "      <td>78</td>\n",
       "      <td>rear panel inner</td>\n",
       "      <td>24081</td>\n",
       "      <td>rear panel</td>\n",
       "      <td>rear panel</td>\n",
       "      <td>0</td>\n",
       "      <td>NaN</td>\n",
       "    </tr>\n",
       "    <tr>\n",
       "      <th>79</th>\n",
       "      <td>79</td>\n",
       "      <td>bumper rear reinforcement</td>\n",
       "      <td>24066</td>\n",
       "      <td>bumper rear</td>\n",
       "      <td>bumper rear</td>\n",
       "      <td>0</td>\n",
       "      <td>NaN</td>\n",
       "    </tr>\n",
       "    <tr>\n",
       "      <th>80</th>\n",
       "      <td>80</td>\n",
       "      <td>crossmember front</td>\n",
       "      <td>23993</td>\n",
       "      <td>undercarriage front</td>\n",
       "      <td>undercarriage front</td>\n",
       "      <td>1</td>\n",
       "      <td>NaN</td>\n",
       "    </tr>\n",
       "    <tr>\n",
       "      <th>81</th>\n",
       "      <td>81</td>\n",
       "      <td>windscreen front moulding</td>\n",
       "      <td>22647</td>\n",
       "      <td>windscreen front</td>\n",
       "      <td>windscreen front</td>\n",
       "      <td>1</td>\n",
       "      <td>NaN</td>\n",
       "    </tr>\n",
       "    <tr>\n",
       "      <th>82</th>\n",
       "      <td>82</td>\n",
       "      <td>shock absorber rear</td>\n",
       "      <td>22642</td>\n",
       "      <td>undercarriage rear</td>\n",
       "      <td>undercarriage rear</td>\n",
       "      <td>0</td>\n",
       "      <td>NaN</td>\n",
       "    </tr>\n",
       "    <tr>\n",
       "      <th>83</th>\n",
       "      <td>83</td>\n",
       "      <td>shock absorber front</td>\n",
       "      <td>22107</td>\n",
       "      <td>undercarriage front</td>\n",
       "      <td>undercarriage front</td>\n",
       "      <td>1</td>\n",
       "      <td>NaN</td>\n",
       "    </tr>\n",
       "    <tr>\n",
       "      <th>84</th>\n",
       "      <td>84</td>\n",
       "      <td>washer tank windcreen front</td>\n",
       "      <td>21862</td>\n",
       "      <td>engine</td>\n",
       "      <td>engine</td>\n",
       "      <td>1</td>\n",
       "      <td>NaN</td>\n",
       "    </tr>\n",
       "    <tr>\n",
       "      <th>85</th>\n",
       "      <td>85</td>\n",
       "      <td>radiator air deflector lh</td>\n",
       "      <td>21836</td>\n",
       "      <td>radiator</td>\n",
       "      <td>engine</td>\n",
       "      <td>1</td>\n",
       "      <td>NaN</td>\n",
       "    </tr>\n",
       "    <tr>\n",
       "      <th>86</th>\n",
       "      <td>86</td>\n",
       "      <td>spare wheel cover board</td>\n",
       "      <td>21197</td>\n",
       "      <td>rear compartment</td>\n",
       "      <td>rear compartment</td>\n",
       "      <td>0</td>\n",
       "      <td>NaN</td>\n",
       "    </tr>\n",
       "    <tr>\n",
       "      <th>87</th>\n",
       "      <td>87</td>\n",
       "      <td>driveshaft front rh</td>\n",
       "      <td>21111</td>\n",
       "      <td>engine</td>\n",
       "      <td>engine</td>\n",
       "      <td>1</td>\n",
       "      <td>NaN</td>\n",
       "    </tr>\n",
       "    <tr>\n",
       "      <th>88</th>\n",
       "      <td>88</td>\n",
       "      <td>air filter case</td>\n",
       "      <td>20966</td>\n",
       "      <td>engine</td>\n",
       "      <td>engine</td>\n",
       "      <td>1</td>\n",
       "      <td>NaN</td>\n",
       "    </tr>\n",
       "    <tr>\n",
       "      <th>89</th>\n",
       "      <td>89</td>\n",
       "      <td>driveshaft front lh</td>\n",
       "      <td>20745</td>\n",
       "      <td>engine</td>\n",
       "      <td>engine</td>\n",
       "      <td>1</td>\n",
       "      <td>NaN</td>\n",
       "    </tr>\n",
       "    <tr>\n",
       "      <th>90</th>\n",
       "      <td>90</td>\n",
       "      <td>bumper front lower cover</td>\n",
       "      <td>20623</td>\n",
       "      <td>bumper front</td>\n",
       "      <td>bumper front</td>\n",
       "      <td>1</td>\n",
       "      <td>NaN</td>\n",
       "    </tr>\n",
       "    <tr>\n",
       "      <th>91</th>\n",
       "      <td>91</td>\n",
       "      <td>radiator air deflector rh</td>\n",
       "      <td>20355</td>\n",
       "      <td>radiator</td>\n",
       "      <td>engine</td>\n",
       "      <td>1</td>\n",
       "      <td>NaN</td>\n",
       "    </tr>\n",
       "    <tr>\n",
       "      <th>92</th>\n",
       "      <td>92</td>\n",
       "      <td>battery</td>\n",
       "      <td>20327</td>\n",
       "      <td>misc</td>\n",
       "      <td>misc</td>\n",
       "      <td>1</td>\n",
       "      <td>NaN</td>\n",
       "    </tr>\n",
       "    <tr>\n",
       "      <th>93</th>\n",
       "      <td>93</td>\n",
       "      <td>quarter panel outer rh</td>\n",
       "      <td>19672</td>\n",
       "      <td>rear quarter rh</td>\n",
       "      <td>rear quarter rh</td>\n",
       "      <td>0</td>\n",
       "      <td>NaN</td>\n",
       "    </tr>\n",
       "    <tr>\n",
       "      <th>94</th>\n",
       "      <td>94</td>\n",
       "      <td>headlamp panel rh</td>\n",
       "      <td>19646</td>\n",
       "      <td>headlamp rh</td>\n",
       "      <td>headlamp rh</td>\n",
       "      <td>1</td>\n",
       "      <td>NaN</td>\n",
       "    </tr>\n",
       "    <tr>\n",
       "      <th>95</th>\n",
       "      <td>95</td>\n",
       "      <td>headlamp panel lh</td>\n",
       "      <td>19579</td>\n",
       "      <td>headlamp lh</td>\n",
       "      <td>headlamp lh</td>\n",
       "      <td>1</td>\n",
       "      <td>NaN</td>\n",
       "    </tr>\n",
       "    <tr>\n",
       "      <th>96</th>\n",
       "      <td>96</td>\n",
       "      <td>knuckle arm front rh</td>\n",
       "      <td>18982</td>\n",
       "      <td>engine</td>\n",
       "      <td>engine</td>\n",
       "      <td>1</td>\n",
       "      <td>NaN</td>\n",
       "    </tr>\n",
       "    <tr>\n",
       "      <th>97</th>\n",
       "      <td>97</td>\n",
       "      <td>cooling fan assembly</td>\n",
       "      <td>18951</td>\n",
       "      <td>cooling fan</td>\n",
       "      <td>engine</td>\n",
       "      <td>1</td>\n",
       "      <td>NaN</td>\n",
       "    </tr>\n",
       "    <tr>\n",
       "      <th>98</th>\n",
       "      <td>98</td>\n",
       "      <td>subframe front</td>\n",
       "      <td>18757</td>\n",
       "      <td>engine</td>\n",
       "      <td>engine</td>\n",
       "      <td>1</td>\n",
       "      <td>NaN</td>\n",
       "    </tr>\n",
       "    <tr>\n",
       "      <th>99</th>\n",
       "      <td>99</td>\n",
       "      <td>knuckle arm front lh</td>\n",
       "      <td>18719</td>\n",
       "      <td>engine</td>\n",
       "      <td>engine</td>\n",
       "      <td>1</td>\n",
       "      <td>NaN</td>\n",
       "    </tr>\n",
       "    <tr>\n",
       "      <th>100</th>\n",
       "      <td>100</td>\n",
       "      <td>quarter panel outer lh</td>\n",
       "      <td>18716</td>\n",
       "      <td>rear quarter lh</td>\n",
       "      <td>rear quarter lh</td>\n",
       "      <td>0</td>\n",
       "      <td>NaN</td>\n",
       "    </tr>\n",
       "    <tr>\n",
       "      <th>101</th>\n",
       "      <td>101</td>\n",
       "      <td>bonnet hinge rh</td>\n",
       "      <td>18246</td>\n",
       "      <td>bonnet</td>\n",
       "      <td>bonnet</td>\n",
       "      <td>1</td>\n",
       "      <td>NaN</td>\n",
       "    </tr>\n",
       "    <tr>\n",
       "      <th>102</th>\n",
       "      <td>102</td>\n",
       "      <td>cooling fan &amp; cowl assembly</td>\n",
       "      <td>18189</td>\n",
       "      <td>cooling fan</td>\n",
       "      <td>engine</td>\n",
       "      <td>1</td>\n",
       "      <td>NaN</td>\n",
       "    </tr>\n",
       "    <tr>\n",
       "      <th>103</th>\n",
       "      <td>103</td>\n",
       "      <td>rooflining</td>\n",
       "      <td>17965</td>\n",
       "      <td>roof</td>\n",
       "      <td>roof</td>\n",
       "      <td>1</td>\n",
       "      <td>NaN</td>\n",
       "    </tr>\n",
       "    <tr>\n",
       "      <th>104</th>\n",
       "      <td>104</td>\n",
       "      <td>grille front moulding lower</td>\n",
       "      <td>17532</td>\n",
       "      <td>grille</td>\n",
       "      <td>grille</td>\n",
       "      <td>1</td>\n",
       "      <td>NaN</td>\n",
       "    </tr>\n",
       "    <tr>\n",
       "      <th>105</th>\n",
       "      <td>105</td>\n",
       "      <td>bonnet insulation</td>\n",
       "      <td>17505</td>\n",
       "      <td>bonnet</td>\n",
       "      <td>bonnet</td>\n",
       "      <td>1</td>\n",
       "      <td>NaN</td>\n",
       "    </tr>\n",
       "    <tr>\n",
       "      <th>106</th>\n",
       "      <td>106</td>\n",
       "      <td>air conditioning compressor</td>\n",
       "      <td>17397</td>\n",
       "      <td>air conditioning</td>\n",
       "      <td>engine</td>\n",
       "      <td>1</td>\n",
       "      <td>NaN</td>\n",
       "    </tr>\n",
       "    <tr>\n",
       "      <th>107</th>\n",
       "      <td>107</td>\n",
       "      <td>turbo intercooler</td>\n",
       "      <td>17344</td>\n",
       "      <td>radiator</td>\n",
       "      <td>engine</td>\n",
       "      <td>1</td>\n",
       "      <td>NaN</td>\n",
       "    </tr>\n",
       "    <tr>\n",
       "      <th>108</th>\n",
       "      <td>108</td>\n",
       "      <td>bonnet hinge lh</td>\n",
       "      <td>17339</td>\n",
       "      <td>bonnet</td>\n",
       "      <td>bonnet</td>\n",
       "      <td>1</td>\n",
       "      <td>NaN</td>\n",
       "    </tr>\n",
       "    <tr>\n",
       "      <th>109</th>\n",
       "      <td>109</td>\n",
       "      <td>bumper front shock absorber</td>\n",
       "      <td>17317</td>\n",
       "      <td>bumper front</td>\n",
       "      <td>bumper front</td>\n",
       "      <td>1</td>\n",
       "      <td>NaN</td>\n",
       "    </tr>\n",
       "    <tr>\n",
       "      <th>110</th>\n",
       "      <td>110</td>\n",
       "      <td>seat belt assy front lh</td>\n",
       "      <td>16805</td>\n",
       "      <td>interior</td>\n",
       "      <td>interior</td>\n",
       "      <td>0</td>\n",
       "      <td>NaN</td>\n",
       "    </tr>\n",
       "    <tr>\n",
       "      <th>111</th>\n",
       "      <td>111</td>\n",
       "      <td>seat belt assy front rh</td>\n",
       "      <td>15209</td>\n",
       "      <td>interior</td>\n",
       "      <td>interior</td>\n",
       "      <td>0</td>\n",
       "      <td>NaN</td>\n",
       "    </tr>\n",
       "    <tr>\n",
       "      <th>112</th>\n",
       "      <td>112</td>\n",
       "      <td>cooling fan motor</td>\n",
       "      <td>14485</td>\n",
       "      <td>cooling fan</td>\n",
       "      <td>engine</td>\n",
       "      <td>1</td>\n",
       "      <td>NaN</td>\n",
       "    </tr>\n",
       "    <tr>\n",
       "      <th>113</th>\n",
       "      <td>113</td>\n",
       "      <td>bonnet lock</td>\n",
       "      <td>14106</td>\n",
       "      <td>bonnet</td>\n",
       "      <td>bonnet</td>\n",
       "      <td>1</td>\n",
       "      <td>NaN</td>\n",
       "    </tr>\n",
       "    <tr>\n",
       "      <th>114</th>\n",
       "      <td>114</td>\n",
       "      <td>grille front backing</td>\n",
       "      <td>13264</td>\n",
       "      <td>grille</td>\n",
       "      <td>grille</td>\n",
       "      <td>1</td>\n",
       "      <td>NaN</td>\n",
       "    </tr>\n",
       "    <tr>\n",
       "      <th>115</th>\n",
       "      <td>115</td>\n",
       "      <td>fan blade</td>\n",
       "      <td>13093</td>\n",
       "      <td>cooling fan</td>\n",
       "      <td>engine</td>\n",
       "      <td>1</td>\n",
       "      <td>NaN</td>\n",
       "    </tr>\n",
       "    <tr>\n",
       "      <th>116</th>\n",
       "      <td>116</td>\n",
       "      <td>bumper front fog lamp finisher lh</td>\n",
       "      <td>12983</td>\n",
       "      <td>fog lamp lh</td>\n",
       "      <td>headlamp lh</td>\n",
       "      <td>1</td>\n",
       "      <td>NaN</td>\n",
       "    </tr>\n",
       "    <tr>\n",
       "      <th>117</th>\n",
       "      <td>117</td>\n",
       "      <td>rear panel inner trim</td>\n",
       "      <td>12963</td>\n",
       "      <td>rear panel</td>\n",
       "      <td>rear panel</td>\n",
       "      <td>0</td>\n",
       "      <td>NaN</td>\n",
       "    </tr>\n",
       "    <tr>\n",
       "      <th>118</th>\n",
       "      <td>118</td>\n",
       "      <td>bumper front impact pad</td>\n",
       "      <td>12837</td>\n",
       "      <td>bumper front</td>\n",
       "      <td>bumper front</td>\n",
       "      <td>1</td>\n",
       "      <td>NaN</td>\n",
       "    </tr>\n",
       "    <tr>\n",
       "      <th>119</th>\n",
       "      <td>119</td>\n",
       "      <td>bumper front reinforcement panel</td>\n",
       "      <td>12271</td>\n",
       "      <td>bumper front</td>\n",
       "      <td>bumper front</td>\n",
       "      <td>1</td>\n",
       "      <td>NaN</td>\n",
       "    </tr>\n",
       "    <tr>\n",
       "      <th>120</th>\n",
       "      <td>120</td>\n",
       "      <td>headlamp body lh</td>\n",
       "      <td>12186</td>\n",
       "      <td>headlamp lh</td>\n",
       "      <td>headlamp lh</td>\n",
       "      <td>1</td>\n",
       "      <td>NaN</td>\n",
       "    </tr>\n",
       "    <tr>\n",
       "      <th>121</th>\n",
       "      <td>121</td>\n",
       "      <td>alternator</td>\n",
       "      <td>11533</td>\n",
       "      <td>engine</td>\n",
       "      <td>engine</td>\n",
       "      <td>1</td>\n",
       "      <td>NaN</td>\n",
       "    </tr>\n",
       "    <tr>\n",
       "      <th>122</th>\n",
       "      <td>122</td>\n",
       "      <td>headlamp body rh</td>\n",
       "      <td>10959</td>\n",
       "      <td>headlamp rh</td>\n",
       "      <td>headlamp rh</td>\n",
       "      <td>1</td>\n",
       "      <td>NaN</td>\n",
       "    </tr>\n",
       "    <tr>\n",
       "      <th>123</th>\n",
       "      <td>123</td>\n",
       "      <td>radiator expansion tank</td>\n",
       "      <td>10579</td>\n",
       "      <td>radiator</td>\n",
       "      <td>engine</td>\n",
       "      <td>1</td>\n",
       "      <td>NaN</td>\n",
       "    </tr>\n",
       "  </tbody>\n",
       "</table>\n",
       "</div>"
      ],
      "text/plain": [
       "     Unnamed: 0                         lvl_1_desc   count  \\\n",
       "0             0                               none  496523   \n",
       "1             1                 bumper front cover  353946   \n",
       "2             2                   headlamp assy rh  281629   \n",
       "3             3                   headlamp assy lh  279970   \n",
       "4             4                           radiator  245848   \n",
       "5             5                             bonnet  233463   \n",
       "6             6                  bumper rear cover  187056   \n",
       "7             7         air conditioning condenser  174417   \n",
       "8             8                       front bumper  149934   \n",
       "9             9                    fender front rh  148560   \n",
       "10           10                       grille front  143484   \n",
       "11           11                    fender front lh  140437   \n",
       "12           12                      door front rh  133701   \n",
       "13           13                      door front lh  128132   \n",
       "14           14                        rear bumper  124925   \n",
       "15           15         bumper reinforcement front  116884   \n",
       "16           16              grille front moulding  102827   \n",
       "17           17                   windscreen front   98804   \n",
       "18           18                    wheel rim alloy   97854   \n",
       "19           19        lamp assembly rear rh (tts)   95808   \n",
       "20           20                           tailgate   91740   \n",
       "21           21                       door rear rh   90514   \n",
       "22           22                           boot lid   89110   \n",
       "23           23                       door rear lh   88811   \n",
       "24           24        lamp assembly rear lh (tts)   87804   \n",
       "25           25                  fog lamp front rh   76319   \n",
       "26           26                         airbag ecu   68976   \n",
       "27           27          bumper front lower grille   68346   \n",
       "28           28                        front panel   67301   \n",
       "29           29               front panel assembly   67226   \n",
       "30           30                  cooling fan cover   67060   \n",
       "31           31                    air filter assy   65874   \n",
       "32           32               bumper spoiler front   64004   \n",
       "33           33                   face, fr. bumper   62882   \n",
       "34           34                  fog lamp front lh   61756   \n",
       "35           35                         rear panel   59536   \n",
       "36           36                 engine mounting rh   57512   \n",
       "37           37                         roof panel   54699   \n",
       "38           38                      lambda sensor   51000   \n",
       "39           39                airbag drivers side   50506   \n",
       "40           40            suspension arm front lh   49757   \n",
       "41           41              air conditioning hose   48501   \n",
       "42           42                 washer tank screen   47426   \n",
       "43           43                    engine oil sump   46533   \n",
       "44           44                     door mirror rh   46138   \n",
       "45           45              airbag passenger side   45951   \n",
       "46           46            suspension arm front rh   45761   \n",
       "47           47              fender front liner rh   44160   \n",
       "48           48              fender front liner lh   42790   \n",
       "49           49                    dashboard panel   42789   \n",
       "50           50             airbag rotary coupling   39405   \n",
       "51           51                     door mirror lh   37432   \n",
       "52           52            cowl panel grille (tts)   36958   \n",
       "53           53                wheel bearing front   36728   \n",
       "54           54            seat belt reel front rh   34319   \n",
       "55           55              steering rack/box pas   33161   \n",
       "56           56                  front panel upper   32977   \n",
       "57           57                 engine mounting lh   32589   \n",
       "58           58            seat belt reel front lh   30998   \n",
       "59           59                       grille badge   30709   \n",
       "60           60             exhaust manifold cover   29819   \n",
       "61           61                rear panel assembly   29780   \n",
       "62           62                    windscreen rear   29715   \n",
       "63           63            shock absorber front rh   28966   \n",
       "64           64                   quarter panel rh   28857   \n",
       "65           65            shock absorber front lh   28724   \n",
       "66           66        suspension crossmember rear   27556   \n",
       "67           67                 bumper rear sensor   27450   \n",
       "68           68       suspension crossmember front   26224   \n",
       "69           69                spoiler bumper rear   25907   \n",
       "70           70                   quarter panel lh   25705   \n",
       "71           71                  front panel lower   25167   \n",
       "72           72  bumper front fog lamp finisher rh   25119   \n",
       "73           73                  transmission assy   24838   \n",
       "74           74  spoiler runningboard extension lh   24626   \n",
       "75           75  spoiler runningboard extension rh   24551   \n",
       "76           76           windscreen glass - front   24454   \n",
       "77           77                    bonnet moulding   24143   \n",
       "78           78                   rear panel inner   24081   \n",
       "79           79          bumper rear reinforcement   24066   \n",
       "80           80                  crossmember front   23993   \n",
       "81           81          windscreen front moulding   22647   \n",
       "82           82                shock absorber rear   22642   \n",
       "83           83               shock absorber front   22107   \n",
       "84           84        washer tank windcreen front   21862   \n",
       "85           85          radiator air deflector lh   21836   \n",
       "86           86            spare wheel cover board   21197   \n",
       "87           87                driveshaft front rh   21111   \n",
       "88           88                    air filter case   20966   \n",
       "89           89                driveshaft front lh   20745   \n",
       "90           90           bumper front lower cover   20623   \n",
       "91           91          radiator air deflector rh   20355   \n",
       "92           92                            battery   20327   \n",
       "93           93             quarter panel outer rh   19672   \n",
       "94           94                  headlamp panel rh   19646   \n",
       "95           95                  headlamp panel lh   19579   \n",
       "96           96               knuckle arm front rh   18982   \n",
       "97           97               cooling fan assembly   18951   \n",
       "98           98                     subframe front   18757   \n",
       "99           99               knuckle arm front lh   18719   \n",
       "100         100             quarter panel outer lh   18716   \n",
       "101         101                    bonnet hinge rh   18246   \n",
       "102         102        cooling fan & cowl assembly   18189   \n",
       "103         103                         rooflining   17965   \n",
       "104         104        grille front moulding lower   17532   \n",
       "105         105                  bonnet insulation   17505   \n",
       "106         106        air conditioning compressor   17397   \n",
       "107         107                  turbo intercooler   17344   \n",
       "108         108                    bonnet hinge lh   17339   \n",
       "109         109        bumper front shock absorber   17317   \n",
       "110         110            seat belt assy front lh   16805   \n",
       "111         111            seat belt assy front rh   15209   \n",
       "112         112                  cooling fan motor   14485   \n",
       "113         113                        bonnet lock   14106   \n",
       "114         114               grille front backing   13264   \n",
       "115         115                          fan blade   13093   \n",
       "116         116  bumper front fog lamp finisher lh   12983   \n",
       "117         117              rear panel inner trim   12963   \n",
       "118         118            bumper front impact pad   12837   \n",
       "119         119   bumper front reinforcement panel   12271   \n",
       "120         120                   headlamp body lh   12186   \n",
       "121         121                         alternator   11533   \n",
       "122         122                   headlamp body rh   10959   \n",
       "123         123            radiator expansion tank   10579   \n",
       "\n",
       "              lvl_2_desc           lvl_3_desc  front_view  front_view_left  \n",
       "0                   misc                 misc           1              1.0  \n",
       "1           bumper front         bumper front           1              1.0  \n",
       "2            headlamp rh          headlamp rh           1              0.0  \n",
       "3            headlamp lh          headlamp lh           1              1.0  \n",
       "4               radiator               engine           1              1.0  \n",
       "5                 bonnet               bonnet           1              1.0  \n",
       "6            bumper rear          bumper rear           0              0.0  \n",
       "7       air conditioning               engine           1              1.0  \n",
       "8           bumper front         bumper front           1              1.0  \n",
       "9        fender front rh      fender front rh           0              0.0  \n",
       "10                grille               grille           1              0.0  \n",
       "11       fender front lh      fender front lh           0              1.0  \n",
       "12         door front rh        door front rh           0              0.0  \n",
       "13         door front lh        door front lh           0              1.0  \n",
       "14           bumper rear          bumper rear           0              0.0  \n",
       "15          bumper front         bumper front           1              1.0  \n",
       "16                grille               grille           1              0.0  \n",
       "17      windscreen front     windscreen front           1              1.0  \n",
       "18                 wheel                wheel           0              1.0  \n",
       "19          tail lamp rh         tail lamp rh           0              0.0  \n",
       "20      rear compartment     rear compartment           0              0.0  \n",
       "21          door rear rh         door rear rh           0              0.0  \n",
       "22      rear compartment     rear compartment           0              0.0  \n",
       "23          door rear lh         door rear lh           0              0.0  \n",
       "24          tail lamp lh         tail lamp lh           0              0.0  \n",
       "25           fog lamp rh          headlamp rh           1              0.0  \n",
       "26                airbag             interior           0              1.0  \n",
       "27                grille               grille           1              0.0  \n",
       "28           front panel          front panel           1              1.0  \n",
       "29           front panel          front panel           1              1.0  \n",
       "30           cooling fan               engine           1              1.0  \n",
       "31                engine               engine           1              1.0  \n",
       "32          bumper front         bumper front           1              1.0  \n",
       "33          bumper front         bumper front           1              1.0  \n",
       "34           fog lamp lh          headlamp lh           1              NaN  \n",
       "35            rear panel           rear panel           0              NaN  \n",
       "36                engine               engine           1              NaN  \n",
       "37                  roof                 roof           0              NaN  \n",
       "38           bumper rear          bumper rear           0              NaN  \n",
       "39                airbag               engine           1              NaN  \n",
       "40   undercarriage front  undercarriage front           1              NaN  \n",
       "41      air conditioning               engine           1              NaN  \n",
       "42                engine               engine           1              NaN  \n",
       "43                engine               engine           1              NaN  \n",
       "44        door mirror rh                 misc           1              NaN  \n",
       "45                airbag             interior           0              NaN  \n",
       "46   undercarriage front  undercarriage front           1              NaN  \n",
       "47       fender front rh      fender front rh           0              NaN  \n",
       "48       fender front lh      fender front lh           0              NaN  \n",
       "49              interior             interior           0              NaN  \n",
       "50                airbag             interior           0              NaN  \n",
       "51        door mirror lh                 misc           1              NaN  \n",
       "52                grille               grille           1              NaN  \n",
       "53                 wheel                wheel           0              NaN  \n",
       "54              interior             interior           0              NaN  \n",
       "55                engine               engine           1              NaN  \n",
       "56           front panel          front panel           1              NaN  \n",
       "57                engine               engine           1              NaN  \n",
       "58              interior             interior           0              NaN  \n",
       "59                grille               grille           1              NaN  \n",
       "60                engine               engine           1              NaN  \n",
       "61            rear panel           rear panel           0              NaN  \n",
       "62       windscreen rear      windscreen rear           0              NaN  \n",
       "63   undercarriage front  undercarriage front           1              NaN  \n",
       "64       rear quarter rh      rear quarter rh           0              NaN  \n",
       "65   undercarriage front  undercarriage front           1              NaN  \n",
       "66    undercarriage rear   undercarriage rear           0              NaN  \n",
       "67           bumper rear          bumper rear           0              NaN  \n",
       "68   undercarriage front  undercarriage front           1              NaN  \n",
       "69           bumper rear          bumper rear           0              NaN  \n",
       "70       rear quarter lh      rear quarter lh           0              NaN  \n",
       "71           front panel          front panel           1              NaN  \n",
       "72           fog lamp rh          headlamp rh           1              NaN  \n",
       "73                engine               engine           1              NaN  \n",
       "74                  misc                 misc           1              NaN  \n",
       "75                  misc                 misc           1              NaN  \n",
       "76      windscreen front     windscreen front           1              NaN  \n",
       "77                bonnet               bonnet           1              NaN  \n",
       "78            rear panel           rear panel           0              NaN  \n",
       "79           bumper rear          bumper rear           0              NaN  \n",
       "80   undercarriage front  undercarriage front           1              NaN  \n",
       "81      windscreen front     windscreen front           1              NaN  \n",
       "82    undercarriage rear   undercarriage rear           0              NaN  \n",
       "83   undercarriage front  undercarriage front           1              NaN  \n",
       "84                engine               engine           1              NaN  \n",
       "85              radiator               engine           1              NaN  \n",
       "86      rear compartment     rear compartment           0              NaN  \n",
       "87                engine               engine           1              NaN  \n",
       "88                engine               engine           1              NaN  \n",
       "89                engine               engine           1              NaN  \n",
       "90         bumper front         bumper front            1              NaN  \n",
       "91              radiator               engine           1              NaN  \n",
       "92                  misc                 misc           1              NaN  \n",
       "93       rear quarter rh      rear quarter rh           0              NaN  \n",
       "94           headlamp rh          headlamp rh           1              NaN  \n",
       "95           headlamp lh          headlamp lh           1              NaN  \n",
       "96                engine               engine           1              NaN  \n",
       "97           cooling fan               engine           1              NaN  \n",
       "98                engine               engine           1              NaN  \n",
       "99                engine               engine           1              NaN  \n",
       "100      rear quarter lh      rear quarter lh           0              NaN  \n",
       "101               bonnet               bonnet           1              NaN  \n",
       "102          cooling fan               engine           1              NaN  \n",
       "103                 roof                 roof           1              NaN  \n",
       "104               grille               grille           1              NaN  \n",
       "105               bonnet               bonnet           1              NaN  \n",
       "106     air conditioning               engine           1              NaN  \n",
       "107             radiator               engine           1              NaN  \n",
       "108               bonnet               bonnet           1              NaN  \n",
       "109         bumper front         bumper front           1              NaN  \n",
       "110             interior             interior           0              NaN  \n",
       "111             interior             interior           0              NaN  \n",
       "112          cooling fan               engine           1              NaN  \n",
       "113               bonnet               bonnet           1              NaN  \n",
       "114               grille               grille           1              NaN  \n",
       "115          cooling fan               engine           1              NaN  \n",
       "116          fog lamp lh          headlamp lh           1              NaN  \n",
       "117           rear panel           rear panel           0              NaN  \n",
       "118         bumper front         bumper front           1              NaN  \n",
       "119         bumper front         bumper front           1              NaN  \n",
       "120          headlamp lh          headlamp lh           1              NaN  \n",
       "121               engine               engine           1              NaN  \n",
       "122          headlamp rh          headlamp rh           1              NaN  \n",
       "123             radiator               engine           1              NaN  "
      ]
     },
     "execution_count": 14,
     "metadata": {},
     "output_type": "execute_result"
    }
   ],
   "source": [
    "semanticGroupDf"
   ]
  },
  {
   "cell_type": "code",
   "execution_count": null,
   "metadata": {},
   "outputs": [],
   "source": [
    "semanticGroupDf[\"lvl_2_desc\"] = semanticGroupDf[\"lvl_2_desc\"].str.strip()\n",
    "semanticGroupDf[\"lvl_3_desc\"] = semanticGroupDf[\"lvl_3_desc\"].str.strip()\n",
    "\n",
    "lvl2LabelDistribDf = semanticGroupDf.groupby('lvl_2_desc')[\"count\"].sum().reset_index()\n",
    "lvl3LabelDistribDf = semanticGroupDf.groupby('lvl_3_desc')[\"count\"].sum().reset_index()\n"
   ]
  },
  {
   "cell_type": "code",
   "execution_count": null,
   "metadata": {},
   "outputs": [
    {
     "data": {
      "text/plain": [
       "36"
      ]
     },
     "execution_count": 16,
     "metadata": {},
     "output_type": "execute_result"
    }
   ],
   "source": [
    "len(lvl2LabelDistribDf)"
   ]
  },
  {
   "cell_type": "code",
   "execution_count": null,
   "metadata": {},
   "outputs": [
    {
     "data": {
      "text/plain": [
       "28"
      ]
     },
     "execution_count": 17,
     "metadata": {},
     "output_type": "execute_result"
    }
   ],
   "source": [
    "len(lvl3LabelDistribDf)"
   ]
  },
  {
   "cell_type": "code",
   "execution_count": null,
   "metadata": {},
   "outputs": [
    {
     "data": {
      "application/vnd.plotly.v1+json": {
       "config": {
        "plotlyServerURL": "https://plot.ly"
       },
       "data": [
        {
         "alignmentgroup": "True",
         "hovertemplate": "lvl_2_desc=%{x}<br>count=%{y}<extra></extra>",
         "legendgroup": "",
         "marker": {
          "color": "#636efa",
          "pattern": {
           "shape": ""
          }
         },
         "name": "",
         "offsetgroup": "",
         "orientation": "v",
         "showlegend": false,
         "textposition": "auto",
         "type": "bar",
         "x": [
          "air conditioning",
          "airbag",
          "bonnet",
          "bumper front",
          "bumper rear",
          "cooling fan",
          "door front lh",
          "door front rh",
          "door mirror lh",
          "door mirror rh",
          "door rear lh",
          "door rear rh",
          "engine",
          "fender front lh",
          "fender front rh",
          "fog lamp lh",
          "fog lamp rh",
          "front panel",
          "grille",
          "headlamp lh",
          "headlamp rh",
          "interior",
          "misc",
          "radiator",
          "rear compartment",
          "rear panel",
          "rear quarter lh",
          "rear quarter rh",
          "roof",
          "tail lamp lh",
          "tail lamp rh",
          "undercarriage front",
          "undercarriage rear",
          "wheel",
          "windscreen front",
          "windscreen rear"
         ],
         "xaxis": "x",
         "y": [
          240315,
          204838,
          324802,
          810698,
          440404,
          131778,
          128132,
          133701,
          37432,
          46138,
          88811,
          90514,
          490427,
          183227,
          192720,
          74739,
          101438,
          192671,
          413120,
          311735,
          312234,
          140120,
          566027,
          315962,
          202047,
          126360,
          44421,
          48529,
          72664,
          87804,
          95808,
          225532,
          50198,
          134582,
          145905,
          29715
         ],
         "yaxis": "y"
        }
       ],
       "layout": {
        "barmode": "relative",
        "legend": {
         "tracegroupgap": 0
        },
        "margin": {
         "t": 60
        },
        "template": {
         "data": {
          "bar": [
           {
            "error_x": {
             "color": "#2a3f5f"
            },
            "error_y": {
             "color": "#2a3f5f"
            },
            "marker": {
             "line": {
              "color": "#E5ECF6",
              "width": 0.5
             },
             "pattern": {
              "fillmode": "overlay",
              "size": 10,
              "solidity": 0.2
             }
            },
            "type": "bar"
           }
          ],
          "barpolar": [
           {
            "marker": {
             "line": {
              "color": "#E5ECF6",
              "width": 0.5
             },
             "pattern": {
              "fillmode": "overlay",
              "size": 10,
              "solidity": 0.2
             }
            },
            "type": "barpolar"
           }
          ],
          "carpet": [
           {
            "aaxis": {
             "endlinecolor": "#2a3f5f",
             "gridcolor": "white",
             "linecolor": "white",
             "minorgridcolor": "white",
             "startlinecolor": "#2a3f5f"
            },
            "baxis": {
             "endlinecolor": "#2a3f5f",
             "gridcolor": "white",
             "linecolor": "white",
             "minorgridcolor": "white",
             "startlinecolor": "#2a3f5f"
            },
            "type": "carpet"
           }
          ],
          "choropleth": [
           {
            "colorbar": {
             "outlinewidth": 0,
             "ticks": ""
            },
            "type": "choropleth"
           }
          ],
          "contour": [
           {
            "colorbar": {
             "outlinewidth": 0,
             "ticks": ""
            },
            "colorscale": [
             [
              0,
              "#0d0887"
             ],
             [
              0.1111111111111111,
              "#46039f"
             ],
             [
              0.2222222222222222,
              "#7201a8"
             ],
             [
              0.3333333333333333,
              "#9c179e"
             ],
             [
              0.4444444444444444,
              "#bd3786"
             ],
             [
              0.5555555555555556,
              "#d8576b"
             ],
             [
              0.6666666666666666,
              "#ed7953"
             ],
             [
              0.7777777777777778,
              "#fb9f3a"
             ],
             [
              0.8888888888888888,
              "#fdca26"
             ],
             [
              1,
              "#f0f921"
             ]
            ],
            "type": "contour"
           }
          ],
          "contourcarpet": [
           {
            "colorbar": {
             "outlinewidth": 0,
             "ticks": ""
            },
            "type": "contourcarpet"
           }
          ],
          "heatmap": [
           {
            "colorbar": {
             "outlinewidth": 0,
             "ticks": ""
            },
            "colorscale": [
             [
              0,
              "#0d0887"
             ],
             [
              0.1111111111111111,
              "#46039f"
             ],
             [
              0.2222222222222222,
              "#7201a8"
             ],
             [
              0.3333333333333333,
              "#9c179e"
             ],
             [
              0.4444444444444444,
              "#bd3786"
             ],
             [
              0.5555555555555556,
              "#d8576b"
             ],
             [
              0.6666666666666666,
              "#ed7953"
             ],
             [
              0.7777777777777778,
              "#fb9f3a"
             ],
             [
              0.8888888888888888,
              "#fdca26"
             ],
             [
              1,
              "#f0f921"
             ]
            ],
            "type": "heatmap"
           }
          ],
          "heatmapgl": [
           {
            "colorbar": {
             "outlinewidth": 0,
             "ticks": ""
            },
            "colorscale": [
             [
              0,
              "#0d0887"
             ],
             [
              0.1111111111111111,
              "#46039f"
             ],
             [
              0.2222222222222222,
              "#7201a8"
             ],
             [
              0.3333333333333333,
              "#9c179e"
             ],
             [
              0.4444444444444444,
              "#bd3786"
             ],
             [
              0.5555555555555556,
              "#d8576b"
             ],
             [
              0.6666666666666666,
              "#ed7953"
             ],
             [
              0.7777777777777778,
              "#fb9f3a"
             ],
             [
              0.8888888888888888,
              "#fdca26"
             ],
             [
              1,
              "#f0f921"
             ]
            ],
            "type": "heatmapgl"
           }
          ],
          "histogram": [
           {
            "marker": {
             "pattern": {
              "fillmode": "overlay",
              "size": 10,
              "solidity": 0.2
             }
            },
            "type": "histogram"
           }
          ],
          "histogram2d": [
           {
            "colorbar": {
             "outlinewidth": 0,
             "ticks": ""
            },
            "colorscale": [
             [
              0,
              "#0d0887"
             ],
             [
              0.1111111111111111,
              "#46039f"
             ],
             [
              0.2222222222222222,
              "#7201a8"
             ],
             [
              0.3333333333333333,
              "#9c179e"
             ],
             [
              0.4444444444444444,
              "#bd3786"
             ],
             [
              0.5555555555555556,
              "#d8576b"
             ],
             [
              0.6666666666666666,
              "#ed7953"
             ],
             [
              0.7777777777777778,
              "#fb9f3a"
             ],
             [
              0.8888888888888888,
              "#fdca26"
             ],
             [
              1,
              "#f0f921"
             ]
            ],
            "type": "histogram2d"
           }
          ],
          "histogram2dcontour": [
           {
            "colorbar": {
             "outlinewidth": 0,
             "ticks": ""
            },
            "colorscale": [
             [
              0,
              "#0d0887"
             ],
             [
              0.1111111111111111,
              "#46039f"
             ],
             [
              0.2222222222222222,
              "#7201a8"
             ],
             [
              0.3333333333333333,
              "#9c179e"
             ],
             [
              0.4444444444444444,
              "#bd3786"
             ],
             [
              0.5555555555555556,
              "#d8576b"
             ],
             [
              0.6666666666666666,
              "#ed7953"
             ],
             [
              0.7777777777777778,
              "#fb9f3a"
             ],
             [
              0.8888888888888888,
              "#fdca26"
             ],
             [
              1,
              "#f0f921"
             ]
            ],
            "type": "histogram2dcontour"
           }
          ],
          "mesh3d": [
           {
            "colorbar": {
             "outlinewidth": 0,
             "ticks": ""
            },
            "type": "mesh3d"
           }
          ],
          "parcoords": [
           {
            "line": {
             "colorbar": {
              "outlinewidth": 0,
              "ticks": ""
             }
            },
            "type": "parcoords"
           }
          ],
          "pie": [
           {
            "automargin": true,
            "type": "pie"
           }
          ],
          "scatter": [
           {
            "fillpattern": {
             "fillmode": "overlay",
             "size": 10,
             "solidity": 0.2
            },
            "type": "scatter"
           }
          ],
          "scatter3d": [
           {
            "line": {
             "colorbar": {
              "outlinewidth": 0,
              "ticks": ""
             }
            },
            "marker": {
             "colorbar": {
              "outlinewidth": 0,
              "ticks": ""
             }
            },
            "type": "scatter3d"
           }
          ],
          "scattercarpet": [
           {
            "marker": {
             "colorbar": {
              "outlinewidth": 0,
              "ticks": ""
             }
            },
            "type": "scattercarpet"
           }
          ],
          "scattergeo": [
           {
            "marker": {
             "colorbar": {
              "outlinewidth": 0,
              "ticks": ""
             }
            },
            "type": "scattergeo"
           }
          ],
          "scattergl": [
           {
            "marker": {
             "colorbar": {
              "outlinewidth": 0,
              "ticks": ""
             }
            },
            "type": "scattergl"
           }
          ],
          "scattermapbox": [
           {
            "marker": {
             "colorbar": {
              "outlinewidth": 0,
              "ticks": ""
             }
            },
            "type": "scattermapbox"
           }
          ],
          "scatterpolar": [
           {
            "marker": {
             "colorbar": {
              "outlinewidth": 0,
              "ticks": ""
             }
            },
            "type": "scatterpolar"
           }
          ],
          "scatterpolargl": [
           {
            "marker": {
             "colorbar": {
              "outlinewidth": 0,
              "ticks": ""
             }
            },
            "type": "scatterpolargl"
           }
          ],
          "scatterternary": [
           {
            "marker": {
             "colorbar": {
              "outlinewidth": 0,
              "ticks": ""
             }
            },
            "type": "scatterternary"
           }
          ],
          "surface": [
           {
            "colorbar": {
             "outlinewidth": 0,
             "ticks": ""
            },
            "colorscale": [
             [
              0,
              "#0d0887"
             ],
             [
              0.1111111111111111,
              "#46039f"
             ],
             [
              0.2222222222222222,
              "#7201a8"
             ],
             [
              0.3333333333333333,
              "#9c179e"
             ],
             [
              0.4444444444444444,
              "#bd3786"
             ],
             [
              0.5555555555555556,
              "#d8576b"
             ],
             [
              0.6666666666666666,
              "#ed7953"
             ],
             [
              0.7777777777777778,
              "#fb9f3a"
             ],
             [
              0.8888888888888888,
              "#fdca26"
             ],
             [
              1,
              "#f0f921"
             ]
            ],
            "type": "surface"
           }
          ],
          "table": [
           {
            "cells": {
             "fill": {
              "color": "#EBF0F8"
             },
             "line": {
              "color": "white"
             }
            },
            "header": {
             "fill": {
              "color": "#C8D4E3"
             },
             "line": {
              "color": "white"
             }
            },
            "type": "table"
           }
          ]
         },
         "layout": {
          "annotationdefaults": {
           "arrowcolor": "#2a3f5f",
           "arrowhead": 0,
           "arrowwidth": 1
          },
          "autotypenumbers": "strict",
          "coloraxis": {
           "colorbar": {
            "outlinewidth": 0,
            "ticks": ""
           }
          },
          "colorscale": {
           "diverging": [
            [
             0,
             "#8e0152"
            ],
            [
             0.1,
             "#c51b7d"
            ],
            [
             0.2,
             "#de77ae"
            ],
            [
             0.3,
             "#f1b6da"
            ],
            [
             0.4,
             "#fde0ef"
            ],
            [
             0.5,
             "#f7f7f7"
            ],
            [
             0.6,
             "#e6f5d0"
            ],
            [
             0.7,
             "#b8e186"
            ],
            [
             0.8,
             "#7fbc41"
            ],
            [
             0.9,
             "#4d9221"
            ],
            [
             1,
             "#276419"
            ]
           ],
           "sequential": [
            [
             0,
             "#0d0887"
            ],
            [
             0.1111111111111111,
             "#46039f"
            ],
            [
             0.2222222222222222,
             "#7201a8"
            ],
            [
             0.3333333333333333,
             "#9c179e"
            ],
            [
             0.4444444444444444,
             "#bd3786"
            ],
            [
             0.5555555555555556,
             "#d8576b"
            ],
            [
             0.6666666666666666,
             "#ed7953"
            ],
            [
             0.7777777777777778,
             "#fb9f3a"
            ],
            [
             0.8888888888888888,
             "#fdca26"
            ],
            [
             1,
             "#f0f921"
            ]
           ],
           "sequentialminus": [
            [
             0,
             "#0d0887"
            ],
            [
             0.1111111111111111,
             "#46039f"
            ],
            [
             0.2222222222222222,
             "#7201a8"
            ],
            [
             0.3333333333333333,
             "#9c179e"
            ],
            [
             0.4444444444444444,
             "#bd3786"
            ],
            [
             0.5555555555555556,
             "#d8576b"
            ],
            [
             0.6666666666666666,
             "#ed7953"
            ],
            [
             0.7777777777777778,
             "#fb9f3a"
            ],
            [
             0.8888888888888888,
             "#fdca26"
            ],
            [
             1,
             "#f0f921"
            ]
           ]
          },
          "colorway": [
           "#636efa",
           "#EF553B",
           "#00cc96",
           "#ab63fa",
           "#FFA15A",
           "#19d3f3",
           "#FF6692",
           "#B6E880",
           "#FF97FF",
           "#FECB52"
          ],
          "font": {
           "color": "#2a3f5f"
          },
          "geo": {
           "bgcolor": "white",
           "lakecolor": "white",
           "landcolor": "#E5ECF6",
           "showlakes": true,
           "showland": true,
           "subunitcolor": "white"
          },
          "hoverlabel": {
           "align": "left"
          },
          "hovermode": "closest",
          "mapbox": {
           "style": "light"
          },
          "paper_bgcolor": "white",
          "plot_bgcolor": "#E5ECF6",
          "polar": {
           "angularaxis": {
            "gridcolor": "white",
            "linecolor": "white",
            "ticks": ""
           },
           "bgcolor": "#E5ECF6",
           "radialaxis": {
            "gridcolor": "white",
            "linecolor": "white",
            "ticks": ""
           }
          },
          "scene": {
           "xaxis": {
            "backgroundcolor": "#E5ECF6",
            "gridcolor": "white",
            "gridwidth": 2,
            "linecolor": "white",
            "showbackground": true,
            "ticks": "",
            "zerolinecolor": "white"
           },
           "yaxis": {
            "backgroundcolor": "#E5ECF6",
            "gridcolor": "white",
            "gridwidth": 2,
            "linecolor": "white",
            "showbackground": true,
            "ticks": "",
            "zerolinecolor": "white"
           },
           "zaxis": {
            "backgroundcolor": "#E5ECF6",
            "gridcolor": "white",
            "gridwidth": 2,
            "linecolor": "white",
            "showbackground": true,
            "ticks": "",
            "zerolinecolor": "white"
           }
          },
          "shapedefaults": {
           "line": {
            "color": "#2a3f5f"
           }
          },
          "ternary": {
           "aaxis": {
            "gridcolor": "white",
            "linecolor": "white",
            "ticks": ""
           },
           "baxis": {
            "gridcolor": "white",
            "linecolor": "white",
            "ticks": ""
           },
           "bgcolor": "#E5ECF6",
           "caxis": {
            "gridcolor": "white",
            "linecolor": "white",
            "ticks": ""
           }
          },
          "title": {
           "x": 0.05
          },
          "xaxis": {
           "automargin": true,
           "gridcolor": "white",
           "linecolor": "white",
           "ticks": "",
           "title": {
            "standoff": 15
           },
           "zerolinecolor": "white",
           "zerolinewidth": 2
          },
          "yaxis": {
           "automargin": true,
           "gridcolor": "white",
           "linecolor": "white",
           "ticks": "",
           "title": {
            "standoff": 15
           },
           "zerolinecolor": "white",
           "zerolinewidth": 2
          }
         }
        },
        "xaxis": {
         "anchor": "y",
         "domain": [
          0,
          1
         ],
         "title": {
          "text": "lvl_2_desc"
         }
        },
        "yaxis": {
         "anchor": "x",
         "domain": [
          0,
          1
         ],
         "title": {
          "text": "count"
         }
        }
       }
      }
     },
     "metadata": {},
     "output_type": "display_data"
    }
   ],
   "source": [
    "import plotly.express as px\n",
    "px.bar(lvl2LabelDistribDf, x=\"lvl_2_desc\", y=\"count\")"
   ]
  },
  {
   "cell_type": "code",
   "execution_count": null,
   "metadata": {},
   "outputs": [
    {
     "data": {
      "application/vnd.plotly.v1+json": {
       "config": {
        "plotlyServerURL": "https://plot.ly"
       },
       "data": [
        {
         "alignmentgroup": "True",
         "hovertemplate": "lvl_3_desc=%{x}<br>count=%{y}<extra></extra>",
         "legendgroup": "",
         "marker": {
          "color": "#636efa",
          "pattern": {
           "shape": ""
          }
         },
         "name": "",
         "offsetgroup": "",
         "orientation": "v",
         "showlegend": false,
         "textposition": "auto",
         "type": "bar",
         "x": [
          "bonnet",
          "bumper front",
          "bumper rear",
          "door front lh",
          "door front rh",
          "door rear lh",
          "door rear rh",
          "engine",
          "fender front lh",
          "fender front rh",
          "front panel",
          "grille",
          "headlamp lh",
          "headlamp rh",
          "interior",
          "misc",
          "rear compartment",
          "rear panel",
          "rear quarter lh",
          "rear quarter rh",
          "roof",
          "tail lamp lh",
          "tail lamp rh",
          "undercarriage front",
          "undercarriage rear",
          "wheel",
          "windscreen front",
          "windscreen rear"
         ],
         "xaxis": "x",
         "y": [
          324802,
          810698,
          440404,
          128132,
          133701,
          88811,
          90514,
          1228988,
          183227,
          192720,
          192671,
          413120,
          386474,
          413672,
          294452,
          649597,
          202047,
          126360,
          44421,
          48529,
          72664,
          87804,
          95808,
          225532,
          50198,
          134582,
          145905,
          29715
         ],
         "yaxis": "y"
        }
       ],
       "layout": {
        "barmode": "relative",
        "legend": {
         "tracegroupgap": 0
        },
        "margin": {
         "t": 60
        },
        "template": {
         "data": {
          "bar": [
           {
            "error_x": {
             "color": "#2a3f5f"
            },
            "error_y": {
             "color": "#2a3f5f"
            },
            "marker": {
             "line": {
              "color": "#E5ECF6",
              "width": 0.5
             },
             "pattern": {
              "fillmode": "overlay",
              "size": 10,
              "solidity": 0.2
             }
            },
            "type": "bar"
           }
          ],
          "barpolar": [
           {
            "marker": {
             "line": {
              "color": "#E5ECF6",
              "width": 0.5
             },
             "pattern": {
              "fillmode": "overlay",
              "size": 10,
              "solidity": 0.2
             }
            },
            "type": "barpolar"
           }
          ],
          "carpet": [
           {
            "aaxis": {
             "endlinecolor": "#2a3f5f",
             "gridcolor": "white",
             "linecolor": "white",
             "minorgridcolor": "white",
             "startlinecolor": "#2a3f5f"
            },
            "baxis": {
             "endlinecolor": "#2a3f5f",
             "gridcolor": "white",
             "linecolor": "white",
             "minorgridcolor": "white",
             "startlinecolor": "#2a3f5f"
            },
            "type": "carpet"
           }
          ],
          "choropleth": [
           {
            "colorbar": {
             "outlinewidth": 0,
             "ticks": ""
            },
            "type": "choropleth"
           }
          ],
          "contour": [
           {
            "colorbar": {
             "outlinewidth": 0,
             "ticks": ""
            },
            "colorscale": [
             [
              0,
              "#0d0887"
             ],
             [
              0.1111111111111111,
              "#46039f"
             ],
             [
              0.2222222222222222,
              "#7201a8"
             ],
             [
              0.3333333333333333,
              "#9c179e"
             ],
             [
              0.4444444444444444,
              "#bd3786"
             ],
             [
              0.5555555555555556,
              "#d8576b"
             ],
             [
              0.6666666666666666,
              "#ed7953"
             ],
             [
              0.7777777777777778,
              "#fb9f3a"
             ],
             [
              0.8888888888888888,
              "#fdca26"
             ],
             [
              1,
              "#f0f921"
             ]
            ],
            "type": "contour"
           }
          ],
          "contourcarpet": [
           {
            "colorbar": {
             "outlinewidth": 0,
             "ticks": ""
            },
            "type": "contourcarpet"
           }
          ],
          "heatmap": [
           {
            "colorbar": {
             "outlinewidth": 0,
             "ticks": ""
            },
            "colorscale": [
             [
              0,
              "#0d0887"
             ],
             [
              0.1111111111111111,
              "#46039f"
             ],
             [
              0.2222222222222222,
              "#7201a8"
             ],
             [
              0.3333333333333333,
              "#9c179e"
             ],
             [
              0.4444444444444444,
              "#bd3786"
             ],
             [
              0.5555555555555556,
              "#d8576b"
             ],
             [
              0.6666666666666666,
              "#ed7953"
             ],
             [
              0.7777777777777778,
              "#fb9f3a"
             ],
             [
              0.8888888888888888,
              "#fdca26"
             ],
             [
              1,
              "#f0f921"
             ]
            ],
            "type": "heatmap"
           }
          ],
          "heatmapgl": [
           {
            "colorbar": {
             "outlinewidth": 0,
             "ticks": ""
            },
            "colorscale": [
             [
              0,
              "#0d0887"
             ],
             [
              0.1111111111111111,
              "#46039f"
             ],
             [
              0.2222222222222222,
              "#7201a8"
             ],
             [
              0.3333333333333333,
              "#9c179e"
             ],
             [
              0.4444444444444444,
              "#bd3786"
             ],
             [
              0.5555555555555556,
              "#d8576b"
             ],
             [
              0.6666666666666666,
              "#ed7953"
             ],
             [
              0.7777777777777778,
              "#fb9f3a"
             ],
             [
              0.8888888888888888,
              "#fdca26"
             ],
             [
              1,
              "#f0f921"
             ]
            ],
            "type": "heatmapgl"
           }
          ],
          "histogram": [
           {
            "marker": {
             "pattern": {
              "fillmode": "overlay",
              "size": 10,
              "solidity": 0.2
             }
            },
            "type": "histogram"
           }
          ],
          "histogram2d": [
           {
            "colorbar": {
             "outlinewidth": 0,
             "ticks": ""
            },
            "colorscale": [
             [
              0,
              "#0d0887"
             ],
             [
              0.1111111111111111,
              "#46039f"
             ],
             [
              0.2222222222222222,
              "#7201a8"
             ],
             [
              0.3333333333333333,
              "#9c179e"
             ],
             [
              0.4444444444444444,
              "#bd3786"
             ],
             [
              0.5555555555555556,
              "#d8576b"
             ],
             [
              0.6666666666666666,
              "#ed7953"
             ],
             [
              0.7777777777777778,
              "#fb9f3a"
             ],
             [
              0.8888888888888888,
              "#fdca26"
             ],
             [
              1,
              "#f0f921"
             ]
            ],
            "type": "histogram2d"
           }
          ],
          "histogram2dcontour": [
           {
            "colorbar": {
             "outlinewidth": 0,
             "ticks": ""
            },
            "colorscale": [
             [
              0,
              "#0d0887"
             ],
             [
              0.1111111111111111,
              "#46039f"
             ],
             [
              0.2222222222222222,
              "#7201a8"
             ],
             [
              0.3333333333333333,
              "#9c179e"
             ],
             [
              0.4444444444444444,
              "#bd3786"
             ],
             [
              0.5555555555555556,
              "#d8576b"
             ],
             [
              0.6666666666666666,
              "#ed7953"
             ],
             [
              0.7777777777777778,
              "#fb9f3a"
             ],
             [
              0.8888888888888888,
              "#fdca26"
             ],
             [
              1,
              "#f0f921"
             ]
            ],
            "type": "histogram2dcontour"
           }
          ],
          "mesh3d": [
           {
            "colorbar": {
             "outlinewidth": 0,
             "ticks": ""
            },
            "type": "mesh3d"
           }
          ],
          "parcoords": [
           {
            "line": {
             "colorbar": {
              "outlinewidth": 0,
              "ticks": ""
             }
            },
            "type": "parcoords"
           }
          ],
          "pie": [
           {
            "automargin": true,
            "type": "pie"
           }
          ],
          "scatter": [
           {
            "fillpattern": {
             "fillmode": "overlay",
             "size": 10,
             "solidity": 0.2
            },
            "type": "scatter"
           }
          ],
          "scatter3d": [
           {
            "line": {
             "colorbar": {
              "outlinewidth": 0,
              "ticks": ""
             }
            },
            "marker": {
             "colorbar": {
              "outlinewidth": 0,
              "ticks": ""
             }
            },
            "type": "scatter3d"
           }
          ],
          "scattercarpet": [
           {
            "marker": {
             "colorbar": {
              "outlinewidth": 0,
              "ticks": ""
             }
            },
            "type": "scattercarpet"
           }
          ],
          "scattergeo": [
           {
            "marker": {
             "colorbar": {
              "outlinewidth": 0,
              "ticks": ""
             }
            },
            "type": "scattergeo"
           }
          ],
          "scattergl": [
           {
            "marker": {
             "colorbar": {
              "outlinewidth": 0,
              "ticks": ""
             }
            },
            "type": "scattergl"
           }
          ],
          "scattermapbox": [
           {
            "marker": {
             "colorbar": {
              "outlinewidth": 0,
              "ticks": ""
             }
            },
            "type": "scattermapbox"
           }
          ],
          "scatterpolar": [
           {
            "marker": {
             "colorbar": {
              "outlinewidth": 0,
              "ticks": ""
             }
            },
            "type": "scatterpolar"
           }
          ],
          "scatterpolargl": [
           {
            "marker": {
             "colorbar": {
              "outlinewidth": 0,
              "ticks": ""
             }
            },
            "type": "scatterpolargl"
           }
          ],
          "scatterternary": [
           {
            "marker": {
             "colorbar": {
              "outlinewidth": 0,
              "ticks": ""
             }
            },
            "type": "scatterternary"
           }
          ],
          "surface": [
           {
            "colorbar": {
             "outlinewidth": 0,
             "ticks": ""
            },
            "colorscale": [
             [
              0,
              "#0d0887"
             ],
             [
              0.1111111111111111,
              "#46039f"
             ],
             [
              0.2222222222222222,
              "#7201a8"
             ],
             [
              0.3333333333333333,
              "#9c179e"
             ],
             [
              0.4444444444444444,
              "#bd3786"
             ],
             [
              0.5555555555555556,
              "#d8576b"
             ],
             [
              0.6666666666666666,
              "#ed7953"
             ],
             [
              0.7777777777777778,
              "#fb9f3a"
             ],
             [
              0.8888888888888888,
              "#fdca26"
             ],
             [
              1,
              "#f0f921"
             ]
            ],
            "type": "surface"
           }
          ],
          "table": [
           {
            "cells": {
             "fill": {
              "color": "#EBF0F8"
             },
             "line": {
              "color": "white"
             }
            },
            "header": {
             "fill": {
              "color": "#C8D4E3"
             },
             "line": {
              "color": "white"
             }
            },
            "type": "table"
           }
          ]
         },
         "layout": {
          "annotationdefaults": {
           "arrowcolor": "#2a3f5f",
           "arrowhead": 0,
           "arrowwidth": 1
          },
          "autotypenumbers": "strict",
          "coloraxis": {
           "colorbar": {
            "outlinewidth": 0,
            "ticks": ""
           }
          },
          "colorscale": {
           "diverging": [
            [
             0,
             "#8e0152"
            ],
            [
             0.1,
             "#c51b7d"
            ],
            [
             0.2,
             "#de77ae"
            ],
            [
             0.3,
             "#f1b6da"
            ],
            [
             0.4,
             "#fde0ef"
            ],
            [
             0.5,
             "#f7f7f7"
            ],
            [
             0.6,
             "#e6f5d0"
            ],
            [
             0.7,
             "#b8e186"
            ],
            [
             0.8,
             "#7fbc41"
            ],
            [
             0.9,
             "#4d9221"
            ],
            [
             1,
             "#276419"
            ]
           ],
           "sequential": [
            [
             0,
             "#0d0887"
            ],
            [
             0.1111111111111111,
             "#46039f"
            ],
            [
             0.2222222222222222,
             "#7201a8"
            ],
            [
             0.3333333333333333,
             "#9c179e"
            ],
            [
             0.4444444444444444,
             "#bd3786"
            ],
            [
             0.5555555555555556,
             "#d8576b"
            ],
            [
             0.6666666666666666,
             "#ed7953"
            ],
            [
             0.7777777777777778,
             "#fb9f3a"
            ],
            [
             0.8888888888888888,
             "#fdca26"
            ],
            [
             1,
             "#f0f921"
            ]
           ],
           "sequentialminus": [
            [
             0,
             "#0d0887"
            ],
            [
             0.1111111111111111,
             "#46039f"
            ],
            [
             0.2222222222222222,
             "#7201a8"
            ],
            [
             0.3333333333333333,
             "#9c179e"
            ],
            [
             0.4444444444444444,
             "#bd3786"
            ],
            [
             0.5555555555555556,
             "#d8576b"
            ],
            [
             0.6666666666666666,
             "#ed7953"
            ],
            [
             0.7777777777777778,
             "#fb9f3a"
            ],
            [
             0.8888888888888888,
             "#fdca26"
            ],
            [
             1,
             "#f0f921"
            ]
           ]
          },
          "colorway": [
           "#636efa",
           "#EF553B",
           "#00cc96",
           "#ab63fa",
           "#FFA15A",
           "#19d3f3",
           "#FF6692",
           "#B6E880",
           "#FF97FF",
           "#FECB52"
          ],
          "font": {
           "color": "#2a3f5f"
          },
          "geo": {
           "bgcolor": "white",
           "lakecolor": "white",
           "landcolor": "#E5ECF6",
           "showlakes": true,
           "showland": true,
           "subunitcolor": "white"
          },
          "hoverlabel": {
           "align": "left"
          },
          "hovermode": "closest",
          "mapbox": {
           "style": "light"
          },
          "paper_bgcolor": "white",
          "plot_bgcolor": "#E5ECF6",
          "polar": {
           "angularaxis": {
            "gridcolor": "white",
            "linecolor": "white",
            "ticks": ""
           },
           "bgcolor": "#E5ECF6",
           "radialaxis": {
            "gridcolor": "white",
            "linecolor": "white",
            "ticks": ""
           }
          },
          "scene": {
           "xaxis": {
            "backgroundcolor": "#E5ECF6",
            "gridcolor": "white",
            "gridwidth": 2,
            "linecolor": "white",
            "showbackground": true,
            "ticks": "",
            "zerolinecolor": "white"
           },
           "yaxis": {
            "backgroundcolor": "#E5ECF6",
            "gridcolor": "white",
            "gridwidth": 2,
            "linecolor": "white",
            "showbackground": true,
            "ticks": "",
            "zerolinecolor": "white"
           },
           "zaxis": {
            "backgroundcolor": "#E5ECF6",
            "gridcolor": "white",
            "gridwidth": 2,
            "linecolor": "white",
            "showbackground": true,
            "ticks": "",
            "zerolinecolor": "white"
           }
          },
          "shapedefaults": {
           "line": {
            "color": "#2a3f5f"
           }
          },
          "ternary": {
           "aaxis": {
            "gridcolor": "white",
            "linecolor": "white",
            "ticks": ""
           },
           "baxis": {
            "gridcolor": "white",
            "linecolor": "white",
            "ticks": ""
           },
           "bgcolor": "#E5ECF6",
           "caxis": {
            "gridcolor": "white",
            "linecolor": "white",
            "ticks": ""
           }
          },
          "title": {
           "x": 0.05
          },
          "xaxis": {
           "automargin": true,
           "gridcolor": "white",
           "linecolor": "white",
           "ticks": "",
           "title": {
            "standoff": 15
           },
           "zerolinecolor": "white",
           "zerolinewidth": 2
          },
          "yaxis": {
           "automargin": true,
           "gridcolor": "white",
           "linecolor": "white",
           "ticks": "",
           "title": {
            "standoff": 15
           },
           "zerolinecolor": "white",
           "zerolinewidth": 2
          }
         }
        },
        "xaxis": {
         "anchor": "y",
         "domain": [
          0,
          1
         ],
         "title": {
          "text": "lvl_3_desc"
         }
        },
        "yaxis": {
         "anchor": "x",
         "domain": [
          0,
          1
         ],
         "title": {
          "text": "count"
         }
        }
       }
      }
     },
     "metadata": {},
     "output_type": "display_data"
    }
   ],
   "source": [
    "px.bar(lvl3LabelDistribDf, x=\"lvl_3_desc\", y=\"count\")"
   ]
  },
  {
   "cell_type": "code",
   "execution_count": null,
   "metadata": {},
   "outputs": [
    {
     "data": {
      "text/html": [
       "<div>\n",
       "<style scoped>\n",
       "    .dataframe tbody tr th:only-of-type {\n",
       "        vertical-align: middle;\n",
       "    }\n",
       "\n",
       "    .dataframe tbody tr th {\n",
       "        vertical-align: top;\n",
       "    }\n",
       "\n",
       "    .dataframe thead th {\n",
       "        text-align: right;\n",
       "    }\n",
       "</style>\n",
       "<table border=\"1\" class=\"dataframe\">\n",
       "  <thead>\n",
       "    <tr style=\"text-align: right;\">\n",
       "      <th></th>\n",
       "      <th>CaseID</th>\n",
       "      <th>Description</th>\n",
       "      <th>fVAL</th>\n",
       "      <th>DamageCond</th>\n",
       "      <th>CoType</th>\n",
       "      <th>FuzzyMatchDesc</th>\n",
       "      <th>Unnamed: 0</th>\n",
       "      <th>lvl_1_desc</th>\n",
       "      <th>count</th>\n",
       "      <th>lvl_2_desc</th>\n",
       "      <th>lvl_3_desc</th>\n",
       "      <th>front_view</th>\n",
       "      <th>front_view_left</th>\n",
       "    </tr>\n",
       "  </thead>\n",
       "  <tbody>\n",
       "    <tr>\n",
       "      <th>0</th>\n",
       "      <td>12657878</td>\n",
       "      <td>bonnet</td>\n",
       "      <td>550.00</td>\n",
       "      <td>bent/dented</td>\n",
       "      <td>I</td>\n",
       "      <td>bonnet</td>\n",
       "      <td>5</td>\n",
       "      <td>bonnet</td>\n",
       "      <td>233463</td>\n",
       "      <td>bonnet</td>\n",
       "      <td>bonnet</td>\n",
       "      <td>1</td>\n",
       "      <td>1.0</td>\n",
       "    </tr>\n",
       "    <tr>\n",
       "      <th>1</th>\n",
       "      <td>12657888</td>\n",
       "      <td>bonnet</td>\n",
       "      <td>510.44</td>\n",
       "      <td>bent</td>\n",
       "      <td>I</td>\n",
       "      <td>bonnet</td>\n",
       "      <td>5</td>\n",
       "      <td>bonnet</td>\n",
       "      <td>233463</td>\n",
       "      <td>bonnet</td>\n",
       "      <td>bonnet</td>\n",
       "      <td>1</td>\n",
       "      <td>1.0</td>\n",
       "    </tr>\n",
       "    <tr>\n",
       "      <th>2</th>\n",
       "      <td>12657890</td>\n",
       "      <td>bonnet</td>\n",
       "      <td>504.94</td>\n",
       "      <td>dented</td>\n",
       "      <td>I</td>\n",
       "      <td>bonnet</td>\n",
       "      <td>5</td>\n",
       "      <td>bonnet</td>\n",
       "      <td>233463</td>\n",
       "      <td>bonnet</td>\n",
       "      <td>bonnet</td>\n",
       "      <td>1</td>\n",
       "      <td>1.0</td>\n",
       "    </tr>\n",
       "    <tr>\n",
       "      <th>3</th>\n",
       "      <td>12657900</td>\n",
       "      <td>bonnet</td>\n",
       "      <td>450.00</td>\n",
       "      <td>crumpled</td>\n",
       "      <td>I</td>\n",
       "      <td>bonnet</td>\n",
       "      <td>5</td>\n",
       "      <td>bonnet</td>\n",
       "      <td>233463</td>\n",
       "      <td>bonnet</td>\n",
       "      <td>bonnet</td>\n",
       "      <td>1</td>\n",
       "      <td>1.0</td>\n",
       "    </tr>\n",
       "    <tr>\n",
       "      <th>4</th>\n",
       "      <td>12657903</td>\n",
       "      <td>bonnet</td>\n",
       "      <td>280.00</td>\n",
       "      <td>bent</td>\n",
       "      <td>I</td>\n",
       "      <td>bonnet</td>\n",
       "      <td>5</td>\n",
       "      <td>bonnet</td>\n",
       "      <td>233463</td>\n",
       "      <td>bonnet</td>\n",
       "      <td>bonnet</td>\n",
       "      <td>1</td>\n",
       "      <td>1.0</td>\n",
       "    </tr>\n",
       "    <tr>\n",
       "      <th>...</th>\n",
       "      <td>...</td>\n",
       "      <td>...</td>\n",
       "      <td>...</td>\n",
       "      <td>...</td>\n",
       "      <td>...</td>\n",
       "      <td>...</td>\n",
       "      <td>...</td>\n",
       "      <td>...</td>\n",
       "      <td>...</td>\n",
       "      <td>...</td>\n",
       "      <td>...</td>\n",
       "      <td>...</td>\n",
       "      <td>...</td>\n",
       "    </tr>\n",
       "    <tr>\n",
       "      <th>7235543</th>\n",
       "      <td>12606480</td>\n",
       "      <td>rear panel inner trim</td>\n",
       "      <td>250.00</td>\n",
       "      <td>broken</td>\n",
       "      <td>I</td>\n",
       "      <td>rear panel inner trim</td>\n",
       "      <td>117</td>\n",
       "      <td>rear panel inner trim</td>\n",
       "      <td>12963</td>\n",
       "      <td>rear panel</td>\n",
       "      <td>rear panel</td>\n",
       "      <td>0</td>\n",
       "      <td>NaN</td>\n",
       "    </tr>\n",
       "    <tr>\n",
       "      <th>7235544</th>\n",
       "      <td>12606779</td>\n",
       "      <td>firewall rear trim</td>\n",
       "      <td>225.00</td>\n",
       "      <td></td>\n",
       "      <td>I</td>\n",
       "      <td>rear panel inner trim</td>\n",
       "      <td>117</td>\n",
       "      <td>rear panel inner trim</td>\n",
       "      <td>12963</td>\n",
       "      <td>rear panel</td>\n",
       "      <td>rear panel</td>\n",
       "      <td>0</td>\n",
       "      <td>NaN</td>\n",
       "    </tr>\n",
       "    <tr>\n",
       "      <th>7235545</th>\n",
       "      <td>12607452</td>\n",
       "      <td>inner carrier rh</td>\n",
       "      <td>384.00</td>\n",
       "      <td>holder torn</td>\n",
       "      <td>I</td>\n",
       "      <td>rear panel inner trim</td>\n",
       "      <td>117</td>\n",
       "      <td>rear panel inner trim</td>\n",
       "      <td>12963</td>\n",
       "      <td>rear panel</td>\n",
       "      <td>rear panel</td>\n",
       "      <td>0</td>\n",
       "      <td>NaN</td>\n",
       "    </tr>\n",
       "    <tr>\n",
       "      <th>7235546</th>\n",
       "      <td>12607489</td>\n",
       "      <td>taillamp inner lh n rh</td>\n",
       "      <td>691.00</td>\n",
       "      <td>broken</td>\n",
       "      <td>I</td>\n",
       "      <td>rear panel inner trim</td>\n",
       "      <td>117</td>\n",
       "      <td>rear panel inner trim</td>\n",
       "      <td>12963</td>\n",
       "      <td>rear panel</td>\n",
       "      <td>rear panel</td>\n",
       "      <td>0</td>\n",
       "      <td>NaN</td>\n",
       "    </tr>\n",
       "    <tr>\n",
       "      <th>7235547</th>\n",
       "      <td>12607774</td>\n",
       "      <td>rear panel inner trim</td>\n",
       "      <td>373.80</td>\n",
       "      <td>holder torn</td>\n",
       "      <td>I</td>\n",
       "      <td>rear panel inner trim</td>\n",
       "      <td>117</td>\n",
       "      <td>rear panel inner trim</td>\n",
       "      <td>12963</td>\n",
       "      <td>rear panel</td>\n",
       "      <td>rear panel</td>\n",
       "      <td>0</td>\n",
       "      <td>NaN</td>\n",
       "    </tr>\n",
       "  </tbody>\n",
       "</table>\n",
       "<p>7235548 rows × 13 columns</p>\n",
       "</div>"
      ],
      "text/plain": [
       "           CaseID             Description    fVAL   DamageCond CoType  \\\n",
       "0        12657878                  bonnet  550.00  bent/dented      I   \n",
       "1        12657888                  bonnet  510.44         bent      I   \n",
       "2        12657890                  bonnet  504.94       dented      I   \n",
       "3        12657900                  bonnet  450.00     crumpled      I   \n",
       "4        12657903                  bonnet  280.00         bent      I   \n",
       "...           ...                     ...     ...          ...    ...   \n",
       "7235543  12606480   rear panel inner trim  250.00       broken      I   \n",
       "7235544  12606779      firewall rear trim  225.00                   I   \n",
       "7235545  12607452        inner carrier rh  384.00  holder torn      I   \n",
       "7235546  12607489  taillamp inner lh n rh  691.00       broken      I   \n",
       "7235547  12607774   rear panel inner trim  373.80  holder torn      I   \n",
       "\n",
       "                FuzzyMatchDesc  Unnamed: 0             lvl_1_desc   count  \\\n",
       "0                       bonnet           5                 bonnet  233463   \n",
       "1                       bonnet           5                 bonnet  233463   \n",
       "2                       bonnet           5                 bonnet  233463   \n",
       "3                       bonnet           5                 bonnet  233463   \n",
       "4                       bonnet           5                 bonnet  233463   \n",
       "...                        ...         ...                    ...     ...   \n",
       "7235543  rear panel inner trim         117  rear panel inner trim   12963   \n",
       "7235544  rear panel inner trim         117  rear panel inner trim   12963   \n",
       "7235545  rear panel inner trim         117  rear panel inner trim   12963   \n",
       "7235546  rear panel inner trim         117  rear panel inner trim   12963   \n",
       "7235547  rear panel inner trim         117  rear panel inner trim   12963   \n",
       "\n",
       "         lvl_2_desc  lvl_3_desc  front_view  front_view_left  \n",
       "0            bonnet      bonnet           1              1.0  \n",
       "1            bonnet      bonnet           1              1.0  \n",
       "2            bonnet      bonnet           1              1.0  \n",
       "3            bonnet      bonnet           1              1.0  \n",
       "4            bonnet      bonnet           1              1.0  \n",
       "...             ...         ...         ...              ...  \n",
       "7235543  rear panel  rear panel           0              NaN  \n",
       "7235544  rear panel  rear panel           0              NaN  \n",
       "7235545  rear panel  rear panel           0              NaN  \n",
       "7235546  rear panel  rear panel           0              NaN  \n",
       "7235547  rear panel  rear panel           0              NaN  \n",
       "\n",
       "[7235548 rows x 13 columns]"
      ]
     },
     "execution_count": 20,
     "metadata": {},
     "output_type": "execute_result"
    }
   ],
   "source": [
    "partlistLabelDf = pd.merge(left=fuzzyMatchDf,  left_on=\"FuzzyMatchDesc\",right=semanticGroupDf,right_on=\"lvl_1_desc\")\n",
    "partlistLabelDf"
   ]
  },
  {
   "cell_type": "code",
   "execution_count": null,
   "metadata": {},
   "outputs": [
    {
     "data": {
      "text/plain": [
       "{'paths': ['s3://partlist_label/faf7115c09794db8ac1520c440af1f36.snappy.parquet'],\n",
       " 'partitions_values': {}}"
      ]
     },
     "execution_count": 21,
     "metadata": {},
     "output_type": "execute_result"
    }
   ],
   "source": [
    "\n",
    "cli = boto3.client(\"s3\", **{\n",
    "    \"endpoint_url\": \"http://192.168.1.7:8333\",\n",
    "    \"aws_access_key_id\": \"\",\n",
    "    \"aws_secret_access_key\": \"\",\n",
    "    # \"Username\": \"aaa\",\n",
    "})\n",
    "outputBucketName = \"partlist_label\"\n",
    "# cli.create_bucket(Bucket=outputBucketName)\n",
    "wr.s3.to_parquet(\n",
    "                    df=partlistLabelDf,\n",
    "                    path=f\"s3://{outputBucketName}/\",\n",
    "                    dataset=True,\n",
    "                    mode=\"overwrite\",\n",
    "                )\n"
   ]
  },
  {
   "cell_type": "code",
   "execution_count": null,
   "metadata": {},
   "outputs": [
    {
     "data": {
      "text/html": [
       "<div>\n",
       "<style scoped>\n",
       "    .dataframe tbody tr th:only-of-type {\n",
       "        vertical-align: middle;\n",
       "    }\n",
       "\n",
       "    .dataframe tbody tr th {\n",
       "        vertical-align: top;\n",
       "    }\n",
       "\n",
       "    .dataframe thead th {\n",
       "        text-align: right;\n",
       "    }\n",
       "</style>\n",
       "<table border=\"1\" class=\"dataframe\">\n",
       "  <thead>\n",
       "    <tr style=\"text-align: right;\">\n",
       "      <th></th>\n",
       "      <th>CaseID</th>\n",
       "      <th>Description</th>\n",
       "      <th>fVAL</th>\n",
       "      <th>DamageCond</th>\n",
       "      <th>CoType</th>\n",
       "      <th>FuzzyMatchDesc</th>\n",
       "      <th>Unnamed:_0</th>\n",
       "      <th>lvl_1_desc</th>\n",
       "      <th>count</th>\n",
       "      <th>lvl_2_desc</th>\n",
       "      <th>lvl_3_desc</th>\n",
       "      <th>front_view</th>\n",
       "      <th>front_view_left</th>\n",
       "    </tr>\n",
       "  </thead>\n",
       "  <tbody>\n",
       "    <tr>\n",
       "      <th>0</th>\n",
       "      <td>12657878</td>\n",
       "      <td>bonnet</td>\n",
       "      <td>550.00</td>\n",
       "      <td>bent/dented</td>\n",
       "      <td>I</td>\n",
       "      <td>bonnet</td>\n",
       "      <td>5</td>\n",
       "      <td>bonnet</td>\n",
       "      <td>233463</td>\n",
       "      <td>bonnet</td>\n",
       "      <td>bonnet</td>\n",
       "      <td>1</td>\n",
       "      <td>1.0</td>\n",
       "    </tr>\n",
       "    <tr>\n",
       "      <th>1</th>\n",
       "      <td>12657888</td>\n",
       "      <td>bonnet</td>\n",
       "      <td>510.44</td>\n",
       "      <td>bent</td>\n",
       "      <td>I</td>\n",
       "      <td>bonnet</td>\n",
       "      <td>5</td>\n",
       "      <td>bonnet</td>\n",
       "      <td>233463</td>\n",
       "      <td>bonnet</td>\n",
       "      <td>bonnet</td>\n",
       "      <td>1</td>\n",
       "      <td>1.0</td>\n",
       "    </tr>\n",
       "    <tr>\n",
       "      <th>2</th>\n",
       "      <td>12657890</td>\n",
       "      <td>bonnet</td>\n",
       "      <td>504.94</td>\n",
       "      <td>dented</td>\n",
       "      <td>I</td>\n",
       "      <td>bonnet</td>\n",
       "      <td>5</td>\n",
       "      <td>bonnet</td>\n",
       "      <td>233463</td>\n",
       "      <td>bonnet</td>\n",
       "      <td>bonnet</td>\n",
       "      <td>1</td>\n",
       "      <td>1.0</td>\n",
       "    </tr>\n",
       "    <tr>\n",
       "      <th>3</th>\n",
       "      <td>12657900</td>\n",
       "      <td>bonnet</td>\n",
       "      <td>450.00</td>\n",
       "      <td>crumpled</td>\n",
       "      <td>I</td>\n",
       "      <td>bonnet</td>\n",
       "      <td>5</td>\n",
       "      <td>bonnet</td>\n",
       "      <td>233463</td>\n",
       "      <td>bonnet</td>\n",
       "      <td>bonnet</td>\n",
       "      <td>1</td>\n",
       "      <td>1.0</td>\n",
       "    </tr>\n",
       "    <tr>\n",
       "      <th>4</th>\n",
       "      <td>12657903</td>\n",
       "      <td>bonnet</td>\n",
       "      <td>280.00</td>\n",
       "      <td>bent</td>\n",
       "      <td>I</td>\n",
       "      <td>bonnet</td>\n",
       "      <td>5</td>\n",
       "      <td>bonnet</td>\n",
       "      <td>233463</td>\n",
       "      <td>bonnet</td>\n",
       "      <td>bonnet</td>\n",
       "      <td>1</td>\n",
       "      <td>1.0</td>\n",
       "    </tr>\n",
       "    <tr>\n",
       "      <th>...</th>\n",
       "      <td>...</td>\n",
       "      <td>...</td>\n",
       "      <td>...</td>\n",
       "      <td>...</td>\n",
       "      <td>...</td>\n",
       "      <td>...</td>\n",
       "      <td>...</td>\n",
       "      <td>...</td>\n",
       "      <td>...</td>\n",
       "      <td>...</td>\n",
       "      <td>...</td>\n",
       "      <td>...</td>\n",
       "      <td>...</td>\n",
       "    </tr>\n",
       "    <tr>\n",
       "      <th>7235543</th>\n",
       "      <td>12606480</td>\n",
       "      <td>rear panel inner trim</td>\n",
       "      <td>250.00</td>\n",
       "      <td>broken</td>\n",
       "      <td>I</td>\n",
       "      <td>rear panel inner trim</td>\n",
       "      <td>117</td>\n",
       "      <td>rear panel inner trim</td>\n",
       "      <td>12963</td>\n",
       "      <td>rear panel</td>\n",
       "      <td>rear panel</td>\n",
       "      <td>0</td>\n",
       "      <td>NaN</td>\n",
       "    </tr>\n",
       "    <tr>\n",
       "      <th>7235544</th>\n",
       "      <td>12606779</td>\n",
       "      <td>firewall rear trim</td>\n",
       "      <td>225.00</td>\n",
       "      <td></td>\n",
       "      <td>I</td>\n",
       "      <td>rear panel inner trim</td>\n",
       "      <td>117</td>\n",
       "      <td>rear panel inner trim</td>\n",
       "      <td>12963</td>\n",
       "      <td>rear panel</td>\n",
       "      <td>rear panel</td>\n",
       "      <td>0</td>\n",
       "      <td>NaN</td>\n",
       "    </tr>\n",
       "    <tr>\n",
       "      <th>7235545</th>\n",
       "      <td>12607452</td>\n",
       "      <td>inner carrier rh</td>\n",
       "      <td>384.00</td>\n",
       "      <td>holder torn</td>\n",
       "      <td>I</td>\n",
       "      <td>rear panel inner trim</td>\n",
       "      <td>117</td>\n",
       "      <td>rear panel inner trim</td>\n",
       "      <td>12963</td>\n",
       "      <td>rear panel</td>\n",
       "      <td>rear panel</td>\n",
       "      <td>0</td>\n",
       "      <td>NaN</td>\n",
       "    </tr>\n",
       "    <tr>\n",
       "      <th>7235546</th>\n",
       "      <td>12607489</td>\n",
       "      <td>taillamp inner lh n rh</td>\n",
       "      <td>691.00</td>\n",
       "      <td>broken</td>\n",
       "      <td>I</td>\n",
       "      <td>rear panel inner trim</td>\n",
       "      <td>117</td>\n",
       "      <td>rear panel inner trim</td>\n",
       "      <td>12963</td>\n",
       "      <td>rear panel</td>\n",
       "      <td>rear panel</td>\n",
       "      <td>0</td>\n",
       "      <td>NaN</td>\n",
       "    </tr>\n",
       "    <tr>\n",
       "      <th>7235547</th>\n",
       "      <td>12607774</td>\n",
       "      <td>rear panel inner trim</td>\n",
       "      <td>373.80</td>\n",
       "      <td>holder torn</td>\n",
       "      <td>I</td>\n",
       "      <td>rear panel inner trim</td>\n",
       "      <td>117</td>\n",
       "      <td>rear panel inner trim</td>\n",
       "      <td>12963</td>\n",
       "      <td>rear panel</td>\n",
       "      <td>rear panel</td>\n",
       "      <td>0</td>\n",
       "      <td>NaN</td>\n",
       "    </tr>\n",
       "  </tbody>\n",
       "</table>\n",
       "<p>7235548 rows × 13 columns</p>\n",
       "</div>"
      ],
      "text/plain": [
       "           CaseID             Description    fVAL   DamageCond CoType  \\\n",
       "0        12657878                  bonnet  550.00  bent/dented      I   \n",
       "1        12657888                  bonnet  510.44         bent      I   \n",
       "2        12657890                  bonnet  504.94       dented      I   \n",
       "3        12657900                  bonnet  450.00     crumpled      I   \n",
       "4        12657903                  bonnet  280.00         bent      I   \n",
       "...           ...                     ...     ...          ...    ...   \n",
       "7235543  12606480   rear panel inner trim  250.00       broken      I   \n",
       "7235544  12606779      firewall rear trim  225.00                   I   \n",
       "7235545  12607452        inner carrier rh  384.00  holder torn      I   \n",
       "7235546  12607489  taillamp inner lh n rh  691.00       broken      I   \n",
       "7235547  12607774   rear panel inner trim  373.80  holder torn      I   \n",
       "\n",
       "                FuzzyMatchDesc  Unnamed:_0             lvl_1_desc   count  \\\n",
       "0                       bonnet           5                 bonnet  233463   \n",
       "1                       bonnet           5                 bonnet  233463   \n",
       "2                       bonnet           5                 bonnet  233463   \n",
       "3                       bonnet           5                 bonnet  233463   \n",
       "4                       bonnet           5                 bonnet  233463   \n",
       "...                        ...         ...                    ...     ...   \n",
       "7235543  rear panel inner trim         117  rear panel inner trim   12963   \n",
       "7235544  rear panel inner trim         117  rear panel inner trim   12963   \n",
       "7235545  rear panel inner trim         117  rear panel inner trim   12963   \n",
       "7235546  rear panel inner trim         117  rear panel inner trim   12963   \n",
       "7235547  rear panel inner trim         117  rear panel inner trim   12963   \n",
       "\n",
       "         lvl_2_desc  lvl_3_desc  front_view  front_view_left  \n",
       "0            bonnet      bonnet           1              1.0  \n",
       "1            bonnet      bonnet           1              1.0  \n",
       "2            bonnet      bonnet           1              1.0  \n",
       "3            bonnet      bonnet           1              1.0  \n",
       "4            bonnet      bonnet           1              1.0  \n",
       "...             ...         ...         ...              ...  \n",
       "7235543  rear panel  rear panel           0              NaN  \n",
       "7235544  rear panel  rear panel           0              NaN  \n",
       "7235545  rear panel  rear panel           0              NaN  \n",
       "7235546  rear panel  rear panel           0              NaN  \n",
       "7235547  rear panel  rear panel           0              NaN  \n",
       "\n",
       "[7235548 rows x 13 columns]"
      ]
     },
     "execution_count": 22,
     "metadata": {},
     "output_type": "execute_result"
    }
   ],
   "source": [
    "\n",
    "wr.s3.read_parquet(\n",
    "    path=f\"s3://{outputBucketName}/\"\n",
    ")"
   ]
  },
  {
   "cell_type": "markdown",
   "metadata": {},
   "source": []
  }
 ],
 "metadata": {
  "kernelspec": {
   "display_name": "Python 3.10.6 ('work')",
   "language": "python",
   "name": "python3"
  },
  "language_info": {
   "codemirror_mode": {
    "name": "ipython",
    "version": 3
   },
   "file_extension": ".py",
   "mimetype": "text/x-python",
   "name": "python",
   "nbconvert_exporter": "python",
   "pygments_lexer": "ipython3",
   "version": "3.10.8 (main, Nov 24 2022, 14:13:03) [GCC 11.2.0]"
  },
  "orig_nbformat": 4,
  "vscode": {
   "interpreter": {
    "hash": "0e8f33c5a67865e6aadcd232beb3e2644a1f224e780847feacdefa5e710f41d5"
   }
  }
 },
 "nbformat": 4,
 "nbformat_minor": 2
}
