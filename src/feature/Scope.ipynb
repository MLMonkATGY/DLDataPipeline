{
 "cells": [
  {
   "cell_type": "code",
   "execution_count": 1,
   "metadata": {},
   "outputs": [],
   "source": [
    "import awswrangler as wr\n",
    "import pandas as pd\n",
    "pd.set_option('display.max_rows', 300)\n",
    "import pyarrow as pa\n",
    "import functools\n",
    "import boto3\n",
    "import plotly.express as ex\n",
    "import plotly.graph_objects as go\n"
   ]
  },
  {
   "cell_type": "code",
   "execution_count": 2,
   "metadata": {},
   "outputs": [],
   "source": [
    "my_filter = lambda x: x[\"CoType\"] == \"I\"\n",
    "\n",
    "wr.config.s3_endpoint_url = \"http://192.168.1.4:8333\"\n",
    "bucket = \"tmp_part\"\n"
   ]
  },
  {
   "cell_type": "code",
   "execution_count": 3,
   "metadata": {},
   "outputs": [],
   "source": [
    "# wr.s3.read_parquet_metadata(f\"s3://{bucket}/\", dtype={\n",
    "#     \"siNETTDB\" : pa.int32()\n",
    "# })\n"
   ]
  },
  {
   "cell_type": "code",
   "execution_count": 4,
   "metadata": {},
   "outputs": [
    {
     "data": {
      "text/html": [
       "<div>\n",
       "<style scoped>\n",
       "    .dataframe tbody tr th:only-of-type {\n",
       "        vertical-align: middle;\n",
       "    }\n",
       "\n",
       "    .dataframe tbody tr th {\n",
       "        vertical-align: top;\n",
       "    }\n",
       "\n",
       "    .dataframe thead th {\n",
       "        text-align: right;\n",
       "    }\n",
       "</style>\n",
       "<table border=\"1\" class=\"dataframe\">\n",
       "  <thead>\n",
       "    <tr style=\"text-align: right;\">\n",
       "      <th></th>\n",
       "      <th>CaseID</th>\n",
       "      <th>Description</th>\n",
       "      <th>fVAL</th>\n",
       "      <th>DamageCond</th>\n",
       "      <th>CoType</th>\n",
       "    </tr>\n",
       "  </thead>\n",
       "  <tbody>\n",
       "    <tr>\n",
       "      <th>0</th>\n",
       "      <td>12657878</td>\n",
       "      <td>Bonnet</td>\n",
       "      <td>550.00</td>\n",
       "      <td>Bent/dented</td>\n",
       "      <td>I</td>\n",
       "    </tr>\n",
       "    <tr>\n",
       "      <th>1</th>\n",
       "      <td>12657878</td>\n",
       "      <td>Grille Badge</td>\n",
       "      <td>48.90</td>\n",
       "      <td>Cut/chipped</td>\n",
       "      <td>I</td>\n",
       "    </tr>\n",
       "    <tr>\n",
       "      <th>2</th>\n",
       "      <td>12657878</td>\n",
       "      <td>Grille Front Moulding</td>\n",
       "      <td>NaN</td>\n",
       "      <td>Broken</td>\n",
       "      <td>I</td>\n",
       "    </tr>\n",
       "    <tr>\n",
       "      <th>3</th>\n",
       "      <td>12657878</td>\n",
       "      <td>Grille Mounting Bracket</td>\n",
       "      <td>34.72</td>\n",
       "      <td>Broken</td>\n",
       "      <td>I</td>\n",
       "    </tr>\n",
       "    <tr>\n",
       "      <th>4</th>\n",
       "      <td>12657878</td>\n",
       "      <td>Bumper Front Cover</td>\n",
       "      <td>350.00</td>\n",
       "      <td>Creased/torn</td>\n",
       "      <td>I</td>\n",
       "    </tr>\n",
       "    <tr>\n",
       "      <th>...</th>\n",
       "      <td>...</td>\n",
       "      <td>...</td>\n",
       "      <td>...</td>\n",
       "      <td>...</td>\n",
       "      <td>...</td>\n",
       "    </tr>\n",
       "    <tr>\n",
       "      <th>26637941</th>\n",
       "      <td>12908162</td>\n",
       "      <td>Sealant</td>\n",
       "      <td>80.00</td>\n",
       "      <td></td>\n",
       "      <td>I</td>\n",
       "    </tr>\n",
       "    <tr>\n",
       "      <th>26637942</th>\n",
       "      <td>12908162</td>\n",
       "      <td>Windscreen Glass - Front</td>\n",
       "      <td>309.20</td>\n",
       "      <td></td>\n",
       "      <td>I</td>\n",
       "    </tr>\n",
       "    <tr>\n",
       "      <th>26637943</th>\n",
       "      <td>12908163</td>\n",
       "      <td>Sealant</td>\n",
       "      <td>70.00</td>\n",
       "      <td></td>\n",
       "      <td>I</td>\n",
       "    </tr>\n",
       "    <tr>\n",
       "      <th>26637944</th>\n",
       "      <td>12908163</td>\n",
       "      <td>Tint Film</td>\n",
       "      <td>280.00</td>\n",
       "      <td></td>\n",
       "      <td>I</td>\n",
       "    </tr>\n",
       "    <tr>\n",
       "      <th>26637945</th>\n",
       "      <td>12908163</td>\n",
       "      <td>Windscreen Glass - Front</td>\n",
       "      <td>730.00</td>\n",
       "      <td></td>\n",
       "      <td>I</td>\n",
       "    </tr>\n",
       "  </tbody>\n",
       "</table>\n",
       "<p>26637946 rows × 5 columns</p>\n",
       "</div>"
      ],
      "text/plain": [
       "            CaseID               Description    fVAL    DamageCond CoType\n",
       "0         12657878                    Bonnet  550.00   Bent/dented      I\n",
       "1         12657878              Grille Badge   48.90   Cut/chipped      I\n",
       "2         12657878     Grille Front Moulding     NaN        Broken      I\n",
       "3         12657878   Grille Mounting Bracket   34.72        Broken      I\n",
       "4         12657878        Bumper Front Cover  350.00  Creased/torn      I\n",
       "...            ...                       ...     ...           ...    ...\n",
       "26637941  12908162                   Sealant   80.00                    I\n",
       "26637942  12908162  Windscreen Glass - Front  309.20                    I\n",
       "26637943  12908163                   Sealant   70.00                    I\n",
       "26637944  12908163                 Tint Film  280.00                    I\n",
       "26637945  12908163  Windscreen Glass - Front  730.00                    I\n",
       "\n",
       "[26637946 rows x 5 columns]"
      ]
     },
     "execution_count": 4,
     "metadata": {},
     "output_type": "execute_result"
    }
   ],
   "source": [
    "my_filter = lambda x: x[\"CoType\"] == \"I\"\n",
    "\n",
    "wr.config.s3_endpoint_url = \"http://192.168.1.4:8333\"\n",
    "bucket = \"tmp_part\"\n",
    "\n",
    "partDf = wr.s3.read_parquet(f\"s3://{bucket}/\",  dataset=True, partition_filter=my_filter, columns=[\"CaseID\", \"Description\", \"fVAL\", \"DamageCond\"])\n",
    "partDf"
   ]
  },
  {
   "cell_type": "code",
   "execution_count": 5,
   "metadata": {},
   "outputs": [
    {
     "data": {
      "text/html": [
       "<div>\n",
       "<style scoped>\n",
       "    .dataframe tbody tr th:only-of-type {\n",
       "        vertical-align: middle;\n",
       "    }\n",
       "\n",
       "    .dataframe tbody tr th {\n",
       "        vertical-align: top;\n",
       "    }\n",
       "\n",
       "    .dataframe thead th {\n",
       "        text-align: right;\n",
       "    }\n",
       "</style>\n",
       "<table border=\"1\" class=\"dataframe\">\n",
       "  <thead>\n",
       "    <tr style=\"text-align: right;\">\n",
       "      <th></th>\n",
       "      <th>CaseID</th>\n",
       "      <th>Description</th>\n",
       "      <th>fVAL</th>\n",
       "      <th>DamageCond</th>\n",
       "      <th>CoType</th>\n",
       "    </tr>\n",
       "  </thead>\n",
       "  <tbody>\n",
       "    <tr>\n",
       "      <th>0</th>\n",
       "      <td>12657878</td>\n",
       "      <td>bonnet</td>\n",
       "      <td>550.00</td>\n",
       "      <td>bent/dented</td>\n",
       "      <td>I</td>\n",
       "    </tr>\n",
       "    <tr>\n",
       "      <th>1</th>\n",
       "      <td>12657878</td>\n",
       "      <td>grille badge</td>\n",
       "      <td>48.90</td>\n",
       "      <td>cut/chipped</td>\n",
       "      <td>I</td>\n",
       "    </tr>\n",
       "    <tr>\n",
       "      <th>2</th>\n",
       "      <td>12657878</td>\n",
       "      <td>grille front moulding</td>\n",
       "      <td>NaN</td>\n",
       "      <td>broken</td>\n",
       "      <td>I</td>\n",
       "    </tr>\n",
       "    <tr>\n",
       "      <th>3</th>\n",
       "      <td>12657878</td>\n",
       "      <td>grille mounting bracket</td>\n",
       "      <td>34.72</td>\n",
       "      <td>broken</td>\n",
       "      <td>I</td>\n",
       "    </tr>\n",
       "    <tr>\n",
       "      <th>4</th>\n",
       "      <td>12657878</td>\n",
       "      <td>bumper front cover</td>\n",
       "      <td>350.00</td>\n",
       "      <td>creased/torn</td>\n",
       "      <td>I</td>\n",
       "    </tr>\n",
       "    <tr>\n",
       "      <th>...</th>\n",
       "      <td>...</td>\n",
       "      <td>...</td>\n",
       "      <td>...</td>\n",
       "      <td>...</td>\n",
       "      <td>...</td>\n",
       "    </tr>\n",
       "    <tr>\n",
       "      <th>26637941</th>\n",
       "      <td>12908162</td>\n",
       "      <td>sealant</td>\n",
       "      <td>80.00</td>\n",
       "      <td></td>\n",
       "      <td>I</td>\n",
       "    </tr>\n",
       "    <tr>\n",
       "      <th>26637942</th>\n",
       "      <td>12908162</td>\n",
       "      <td>windscreen glass - front</td>\n",
       "      <td>309.20</td>\n",
       "      <td></td>\n",
       "      <td>I</td>\n",
       "    </tr>\n",
       "    <tr>\n",
       "      <th>26637943</th>\n",
       "      <td>12908163</td>\n",
       "      <td>sealant</td>\n",
       "      <td>70.00</td>\n",
       "      <td></td>\n",
       "      <td>I</td>\n",
       "    </tr>\n",
       "    <tr>\n",
       "      <th>26637944</th>\n",
       "      <td>12908163</td>\n",
       "      <td>tint film</td>\n",
       "      <td>280.00</td>\n",
       "      <td></td>\n",
       "      <td>I</td>\n",
       "    </tr>\n",
       "    <tr>\n",
       "      <th>26637945</th>\n",
       "      <td>12908163</td>\n",
       "      <td>windscreen glass - front</td>\n",
       "      <td>730.00</td>\n",
       "      <td></td>\n",
       "      <td>I</td>\n",
       "    </tr>\n",
       "  </tbody>\n",
       "</table>\n",
       "<p>26637946 rows × 5 columns</p>\n",
       "</div>"
      ],
      "text/plain": [
       "            CaseID               Description    fVAL    DamageCond CoType\n",
       "0         12657878                    bonnet  550.00   bent/dented      I\n",
       "1         12657878              grille badge   48.90   cut/chipped      I\n",
       "2         12657878     grille front moulding     NaN        broken      I\n",
       "3         12657878   grille mounting bracket   34.72        broken      I\n",
       "4         12657878        bumper front cover  350.00  creased/torn      I\n",
       "...            ...                       ...     ...           ...    ...\n",
       "26637941  12908162                   sealant   80.00                    I\n",
       "26637942  12908162  windscreen glass - front  309.20                    I\n",
       "26637943  12908163                   sealant   70.00                    I\n",
       "26637944  12908163                 tint film  280.00                    I\n",
       "26637945  12908163  windscreen glass - front  730.00                    I\n",
       "\n",
       "[26637946 rows x 5 columns]"
      ]
     },
     "execution_count": 5,
     "metadata": {},
     "output_type": "execute_result"
    }
   ],
   "source": [
    "partDf[\"DamageCond\"] = partDf[\"DamageCond\"].str.lower()\n",
    "partDf[\"Description\"] = partDf[\"Description\"].str.lower()\n",
    "partDf"
   ]
  },
  {
   "cell_type": "code",
   "execution_count": 6,
   "metadata": {},
   "outputs": [],
   "source": [
    "rawPartsTotal = len(partDf)"
   ]
  },
  {
   "cell_type": "code",
   "execution_count": 7,
   "metadata": {},
   "outputs": [],
   "source": [
    "costThreshold = 100"
   ]
  },
  {
   "cell_type": "code",
   "execution_count": 8,
   "metadata": {},
   "outputs": [],
   "source": [
    "removedByLowCost = len(partDf[(partDf[\"fVAL\"] < costThreshold)])\n"
   ]
  },
  {
   "cell_type": "code",
   "execution_count": 9,
   "metadata": {},
   "outputs": [
    {
     "data": {
      "text/plain": [
       "0.20404673843846668"
      ]
     },
     "execution_count": 9,
     "metadata": {},
     "output_type": "execute_result"
    }
   ],
   "source": [
    "nullCostParts = len(partDf[partDf[\"fVAL\"].isnull()]) / len(partDf)\n",
    "nullCostParts\n"
   ]
  },
  {
   "cell_type": "code",
   "execution_count": 10,
   "metadata": {},
   "outputs": [],
   "source": [
    "DmgCondFilter = [\n",
    "    \"no visible damage\", \n",
    "    \"to check\", \n",
    "    \"useable\",\n",
    "    \"not necessary\",\n",
    "    \"not damaged\",\n",
    "    \"slightly bent\",\n",
    "    \"slightly cut\",\n",
    "    \"slightly scratched\",\n",
    "    \"slightly dented\",\n",
    "    \"visually intact\"\n",
    "]"
   ]
  },
  {
   "cell_type": "code",
   "execution_count": 11,
   "metadata": {},
   "outputs": [
    {
     "data": {
      "text/plain": [
       "1906222"
      ]
     },
     "execution_count": 11,
     "metadata": {},
     "output_type": "execute_result"
    }
   ],
   "source": [
    "removedByCond = len(partDf[partDf[\"DamageCond\"].isin(DmgCondFilter)])\n",
    "removedByCond"
   ]
  },
  {
   "cell_type": "code",
   "execution_count": 12,
   "metadata": {},
   "outputs": [],
   "source": [
    "removedByDash  = len(partDf[partDf[\"Description\"] == \"-\"])\n"
   ]
  },
  {
   "cell_type": "code",
   "execution_count": 13,
   "metadata": {},
   "outputs": [],
   "source": [
    "removedByNoCost  = len(partDf[partDf[\"fVAL\"].isna()])\n"
   ]
  },
  {
   "cell_type": "markdown",
   "metadata": {},
   "source": []
  },
  {
   "cell_type": "code",
   "execution_count": 14,
   "metadata": {},
   "outputs": [],
   "source": [
    "filterPartDf = partDf[(partDf[\"fVAL\"] > costThreshold)]\n",
    "filterPartDf = filterPartDf[~filterPartDf[\"DamageCond\"].isin(DmgCondFilter)]\n",
    "filterPartDf = filterPartDf[filterPartDf[\"Description\"] != \"-\"]\n"
   ]
  },
  {
   "cell_type": "code",
   "execution_count": 15,
   "metadata": {},
   "outputs": [],
   "source": [
    "totalRemovedPart = len(partDf) - len(filterPartDf)"
   ]
  },
  {
   "cell_type": "code",
   "execution_count": 16,
   "metadata": {},
   "outputs": [
    {
     "data": {
      "application/vnd.plotly.v1+json": {
       "config": {
        "plotlyServerURL": "https://plot.ly"
       },
       "data": [
        {
         "labels": [
          "Part Data Used",
          "Filtered Parts"
         ],
         "type": "pie",
         "values": [
          12453800,
          14184146
         ]
        }
       ],
       "layout": {
        "template": {
         "data": {
          "bar": [
           {
            "error_x": {
             "color": "#2a3f5f"
            },
            "error_y": {
             "color": "#2a3f5f"
            },
            "marker": {
             "line": {
              "color": "#E5ECF6",
              "width": 0.5
             },
             "pattern": {
              "fillmode": "overlay",
              "size": 10,
              "solidity": 0.2
             }
            },
            "type": "bar"
           }
          ],
          "barpolar": [
           {
            "marker": {
             "line": {
              "color": "#E5ECF6",
              "width": 0.5
             },
             "pattern": {
              "fillmode": "overlay",
              "size": 10,
              "solidity": 0.2
             }
            },
            "type": "barpolar"
           }
          ],
          "carpet": [
           {
            "aaxis": {
             "endlinecolor": "#2a3f5f",
             "gridcolor": "white",
             "linecolor": "white",
             "minorgridcolor": "white",
             "startlinecolor": "#2a3f5f"
            },
            "baxis": {
             "endlinecolor": "#2a3f5f",
             "gridcolor": "white",
             "linecolor": "white",
             "minorgridcolor": "white",
             "startlinecolor": "#2a3f5f"
            },
            "type": "carpet"
           }
          ],
          "choropleth": [
           {
            "colorbar": {
             "outlinewidth": 0,
             "ticks": ""
            },
            "type": "choropleth"
           }
          ],
          "contour": [
           {
            "colorbar": {
             "outlinewidth": 0,
             "ticks": ""
            },
            "colorscale": [
             [
              0,
              "#0d0887"
             ],
             [
              0.1111111111111111,
              "#46039f"
             ],
             [
              0.2222222222222222,
              "#7201a8"
             ],
             [
              0.3333333333333333,
              "#9c179e"
             ],
             [
              0.4444444444444444,
              "#bd3786"
             ],
             [
              0.5555555555555556,
              "#d8576b"
             ],
             [
              0.6666666666666666,
              "#ed7953"
             ],
             [
              0.7777777777777778,
              "#fb9f3a"
             ],
             [
              0.8888888888888888,
              "#fdca26"
             ],
             [
              1,
              "#f0f921"
             ]
            ],
            "type": "contour"
           }
          ],
          "contourcarpet": [
           {
            "colorbar": {
             "outlinewidth": 0,
             "ticks": ""
            },
            "type": "contourcarpet"
           }
          ],
          "heatmap": [
           {
            "colorbar": {
             "outlinewidth": 0,
             "ticks": ""
            },
            "colorscale": [
             [
              0,
              "#0d0887"
             ],
             [
              0.1111111111111111,
              "#46039f"
             ],
             [
              0.2222222222222222,
              "#7201a8"
             ],
             [
              0.3333333333333333,
              "#9c179e"
             ],
             [
              0.4444444444444444,
              "#bd3786"
             ],
             [
              0.5555555555555556,
              "#d8576b"
             ],
             [
              0.6666666666666666,
              "#ed7953"
             ],
             [
              0.7777777777777778,
              "#fb9f3a"
             ],
             [
              0.8888888888888888,
              "#fdca26"
             ],
             [
              1,
              "#f0f921"
             ]
            ],
            "type": "heatmap"
           }
          ],
          "heatmapgl": [
           {
            "colorbar": {
             "outlinewidth": 0,
             "ticks": ""
            },
            "colorscale": [
             [
              0,
              "#0d0887"
             ],
             [
              0.1111111111111111,
              "#46039f"
             ],
             [
              0.2222222222222222,
              "#7201a8"
             ],
             [
              0.3333333333333333,
              "#9c179e"
             ],
             [
              0.4444444444444444,
              "#bd3786"
             ],
             [
              0.5555555555555556,
              "#d8576b"
             ],
             [
              0.6666666666666666,
              "#ed7953"
             ],
             [
              0.7777777777777778,
              "#fb9f3a"
             ],
             [
              0.8888888888888888,
              "#fdca26"
             ],
             [
              1,
              "#f0f921"
             ]
            ],
            "type": "heatmapgl"
           }
          ],
          "histogram": [
           {
            "marker": {
             "pattern": {
              "fillmode": "overlay",
              "size": 10,
              "solidity": 0.2
             }
            },
            "type": "histogram"
           }
          ],
          "histogram2d": [
           {
            "colorbar": {
             "outlinewidth": 0,
             "ticks": ""
            },
            "colorscale": [
             [
              0,
              "#0d0887"
             ],
             [
              0.1111111111111111,
              "#46039f"
             ],
             [
              0.2222222222222222,
              "#7201a8"
             ],
             [
              0.3333333333333333,
              "#9c179e"
             ],
             [
              0.4444444444444444,
              "#bd3786"
             ],
             [
              0.5555555555555556,
              "#d8576b"
             ],
             [
              0.6666666666666666,
              "#ed7953"
             ],
             [
              0.7777777777777778,
              "#fb9f3a"
             ],
             [
              0.8888888888888888,
              "#fdca26"
             ],
             [
              1,
              "#f0f921"
             ]
            ],
            "type": "histogram2d"
           }
          ],
          "histogram2dcontour": [
           {
            "colorbar": {
             "outlinewidth": 0,
             "ticks": ""
            },
            "colorscale": [
             [
              0,
              "#0d0887"
             ],
             [
              0.1111111111111111,
              "#46039f"
             ],
             [
              0.2222222222222222,
              "#7201a8"
             ],
             [
              0.3333333333333333,
              "#9c179e"
             ],
             [
              0.4444444444444444,
              "#bd3786"
             ],
             [
              0.5555555555555556,
              "#d8576b"
             ],
             [
              0.6666666666666666,
              "#ed7953"
             ],
             [
              0.7777777777777778,
              "#fb9f3a"
             ],
             [
              0.8888888888888888,
              "#fdca26"
             ],
             [
              1,
              "#f0f921"
             ]
            ],
            "type": "histogram2dcontour"
           }
          ],
          "mesh3d": [
           {
            "colorbar": {
             "outlinewidth": 0,
             "ticks": ""
            },
            "type": "mesh3d"
           }
          ],
          "parcoords": [
           {
            "line": {
             "colorbar": {
              "outlinewidth": 0,
              "ticks": ""
             }
            },
            "type": "parcoords"
           }
          ],
          "pie": [
           {
            "automargin": true,
            "type": "pie"
           }
          ],
          "scatter": [
           {
            "fillpattern": {
             "fillmode": "overlay",
             "size": 10,
             "solidity": 0.2
            },
            "type": "scatter"
           }
          ],
          "scatter3d": [
           {
            "line": {
             "colorbar": {
              "outlinewidth": 0,
              "ticks": ""
             }
            },
            "marker": {
             "colorbar": {
              "outlinewidth": 0,
              "ticks": ""
             }
            },
            "type": "scatter3d"
           }
          ],
          "scattercarpet": [
           {
            "marker": {
             "colorbar": {
              "outlinewidth": 0,
              "ticks": ""
             }
            },
            "type": "scattercarpet"
           }
          ],
          "scattergeo": [
           {
            "marker": {
             "colorbar": {
              "outlinewidth": 0,
              "ticks": ""
             }
            },
            "type": "scattergeo"
           }
          ],
          "scattergl": [
           {
            "marker": {
             "colorbar": {
              "outlinewidth": 0,
              "ticks": ""
             }
            },
            "type": "scattergl"
           }
          ],
          "scattermapbox": [
           {
            "marker": {
             "colorbar": {
              "outlinewidth": 0,
              "ticks": ""
             }
            },
            "type": "scattermapbox"
           }
          ],
          "scatterpolar": [
           {
            "marker": {
             "colorbar": {
              "outlinewidth": 0,
              "ticks": ""
             }
            },
            "type": "scatterpolar"
           }
          ],
          "scatterpolargl": [
           {
            "marker": {
             "colorbar": {
              "outlinewidth": 0,
              "ticks": ""
             }
            },
            "type": "scatterpolargl"
           }
          ],
          "scatterternary": [
           {
            "marker": {
             "colorbar": {
              "outlinewidth": 0,
              "ticks": ""
             }
            },
            "type": "scatterternary"
           }
          ],
          "surface": [
           {
            "colorbar": {
             "outlinewidth": 0,
             "ticks": ""
            },
            "colorscale": [
             [
              0,
              "#0d0887"
             ],
             [
              0.1111111111111111,
              "#46039f"
             ],
             [
              0.2222222222222222,
              "#7201a8"
             ],
             [
              0.3333333333333333,
              "#9c179e"
             ],
             [
              0.4444444444444444,
              "#bd3786"
             ],
             [
              0.5555555555555556,
              "#d8576b"
             ],
             [
              0.6666666666666666,
              "#ed7953"
             ],
             [
              0.7777777777777778,
              "#fb9f3a"
             ],
             [
              0.8888888888888888,
              "#fdca26"
             ],
             [
              1,
              "#f0f921"
             ]
            ],
            "type": "surface"
           }
          ],
          "table": [
           {
            "cells": {
             "fill": {
              "color": "#EBF0F8"
             },
             "line": {
              "color": "white"
             }
            },
            "header": {
             "fill": {
              "color": "#C8D4E3"
             },
             "line": {
              "color": "white"
             }
            },
            "type": "table"
           }
          ]
         },
         "layout": {
          "annotationdefaults": {
           "arrowcolor": "#2a3f5f",
           "arrowhead": 0,
           "arrowwidth": 1
          },
          "autotypenumbers": "strict",
          "coloraxis": {
           "colorbar": {
            "outlinewidth": 0,
            "ticks": ""
           }
          },
          "colorscale": {
           "diverging": [
            [
             0,
             "#8e0152"
            ],
            [
             0.1,
             "#c51b7d"
            ],
            [
             0.2,
             "#de77ae"
            ],
            [
             0.3,
             "#f1b6da"
            ],
            [
             0.4,
             "#fde0ef"
            ],
            [
             0.5,
             "#f7f7f7"
            ],
            [
             0.6,
             "#e6f5d0"
            ],
            [
             0.7,
             "#b8e186"
            ],
            [
             0.8,
             "#7fbc41"
            ],
            [
             0.9,
             "#4d9221"
            ],
            [
             1,
             "#276419"
            ]
           ],
           "sequential": [
            [
             0,
             "#0d0887"
            ],
            [
             0.1111111111111111,
             "#46039f"
            ],
            [
             0.2222222222222222,
             "#7201a8"
            ],
            [
             0.3333333333333333,
             "#9c179e"
            ],
            [
             0.4444444444444444,
             "#bd3786"
            ],
            [
             0.5555555555555556,
             "#d8576b"
            ],
            [
             0.6666666666666666,
             "#ed7953"
            ],
            [
             0.7777777777777778,
             "#fb9f3a"
            ],
            [
             0.8888888888888888,
             "#fdca26"
            ],
            [
             1,
             "#f0f921"
            ]
           ],
           "sequentialminus": [
            [
             0,
             "#0d0887"
            ],
            [
             0.1111111111111111,
             "#46039f"
            ],
            [
             0.2222222222222222,
             "#7201a8"
            ],
            [
             0.3333333333333333,
             "#9c179e"
            ],
            [
             0.4444444444444444,
             "#bd3786"
            ],
            [
             0.5555555555555556,
             "#d8576b"
            ],
            [
             0.6666666666666666,
             "#ed7953"
            ],
            [
             0.7777777777777778,
             "#fb9f3a"
            ],
            [
             0.8888888888888888,
             "#fdca26"
            ],
            [
             1,
             "#f0f921"
            ]
           ]
          },
          "colorway": [
           "#636efa",
           "#EF553B",
           "#00cc96",
           "#ab63fa",
           "#FFA15A",
           "#19d3f3",
           "#FF6692",
           "#B6E880",
           "#FF97FF",
           "#FECB52"
          ],
          "font": {
           "color": "#2a3f5f"
          },
          "geo": {
           "bgcolor": "white",
           "lakecolor": "white",
           "landcolor": "#E5ECF6",
           "showlakes": true,
           "showland": true,
           "subunitcolor": "white"
          },
          "hoverlabel": {
           "align": "left"
          },
          "hovermode": "closest",
          "mapbox": {
           "style": "light"
          },
          "paper_bgcolor": "white",
          "plot_bgcolor": "#E5ECF6",
          "polar": {
           "angularaxis": {
            "gridcolor": "white",
            "linecolor": "white",
            "ticks": ""
           },
           "bgcolor": "#E5ECF6",
           "radialaxis": {
            "gridcolor": "white",
            "linecolor": "white",
            "ticks": ""
           }
          },
          "scene": {
           "xaxis": {
            "backgroundcolor": "#E5ECF6",
            "gridcolor": "white",
            "gridwidth": 2,
            "linecolor": "white",
            "showbackground": true,
            "ticks": "",
            "zerolinecolor": "white"
           },
           "yaxis": {
            "backgroundcolor": "#E5ECF6",
            "gridcolor": "white",
            "gridwidth": 2,
            "linecolor": "white",
            "showbackground": true,
            "ticks": "",
            "zerolinecolor": "white"
           },
           "zaxis": {
            "backgroundcolor": "#E5ECF6",
            "gridcolor": "white",
            "gridwidth": 2,
            "linecolor": "white",
            "showbackground": true,
            "ticks": "",
            "zerolinecolor": "white"
           }
          },
          "shapedefaults": {
           "line": {
            "color": "#2a3f5f"
           }
          },
          "ternary": {
           "aaxis": {
            "gridcolor": "white",
            "linecolor": "white",
            "ticks": ""
           },
           "baxis": {
            "gridcolor": "white",
            "linecolor": "white",
            "ticks": ""
           },
           "bgcolor": "#E5ECF6",
           "caxis": {
            "gridcolor": "white",
            "linecolor": "white",
            "ticks": ""
           }
          },
          "title": {
           "x": 0.05
          },
          "xaxis": {
           "automargin": true,
           "gridcolor": "white",
           "linecolor": "white",
           "ticks": "",
           "title": {
            "standoff": 15
           },
           "zerolinecolor": "white",
           "zerolinewidth": 2
          },
          "yaxis": {
           "automargin": true,
           "gridcolor": "white",
           "linecolor": "white",
           "ticks": "",
           "title": {
            "standoff": 15
           },
           "zerolinecolor": "white",
           "zerolinewidth": 2
          }
         }
        },
        "title": {
         "text": "Partlist Filtering"
        }
       }
      }
     },
     "metadata": {},
     "output_type": "display_data"
    }
   ],
   "source": [
    "import plotly.express as ex\n",
    "import plotly.graph_objects as go\n",
    "\n",
    "\n",
    "fig = go.Figure(data=[go.Pie(labels=[\"Part Data Used\", \n",
    "                                     \"Filtered Parts\", \\\n",
    "                                     \n",
    "                                     ], \\\n",
    "                             values=[len(filterPartDf), totalRemovedPart])])\n",
    "fig.update_layout(title=\"Partlist Filtering\")\n",
    "\n",
    "fig.show()\n"
   ]
  },
  {
   "cell_type": "code",
   "execution_count": 17,
   "metadata": {},
   "outputs": [],
   "source": [
    "# filteredPartDf[\"DamageCond\"].value_counts().head(n=100).reset_index()\n",
    "# filterPartDf[\"Description\"].value_counts().reset_index().head(300)"
   ]
  },
  {
   "cell_type": "code",
   "execution_count": 18,
   "metadata": {},
   "outputs": [
    {
     "data": {
      "text/plain": [
       "9173289332.17999"
      ]
     },
     "execution_count": 18,
     "metadata": {},
     "output_type": "execute_result"
    }
   ],
   "source": [
    "filterPartDf[\"fVAL\"].sum()"
   ]
  },
  {
   "cell_type": "code",
   "execution_count": 19,
   "metadata": {},
   "outputs": [
    {
     "data": {
      "text/plain": [
       "0.9623767590279574"
      ]
     },
     "execution_count": 19,
     "metadata": {},
     "output_type": "execute_result"
    }
   ],
   "source": [
    "filterPartDf[\"fVAL\"].sum() / partDf[\"fVAL\"].sum()"
   ]
  },
  {
   "cell_type": "code",
   "execution_count": 20,
   "metadata": {},
   "outputs": [],
   "source": [
    "\n",
    "wr.config.s3_endpoint_url = \"http://192.168.1.4:8333\"\n",
    "bucket2 = \"tmp_file\""
   ]
  },
  {
   "cell_type": "code",
   "execution_count": 21,
   "metadata": {},
   "outputs": [],
   "source": [
    "frontViewLeftDf = wr.s3.read_parquet(f\"s3://{bucket2}/\",  dataset=True, partition_filter= lambda x: x[\"StdDocDesc\"] == \"Front View Left\", columns=[\"CaseID\", \"iDOCID\", \"FinalDate\", \"StdDocDesc\"])\n",
    "frontViewRightDf = wr.s3.read_parquet(f\"s3://{bucket2}/\",  dataset=True, partition_filter= lambda x: x[\"StdDocDesc\"] == \"Front View Right\", columns=[\"CaseID\", \"iDOCID\", \"FinalDate\", \"StdDocDesc\"])\n",
    "rearViewRightDf = wr.s3.read_parquet(f\"s3://{bucket2}/\",  dataset=True, partition_filter= lambda x: x[\"StdDocDesc\"] == \"Rear View Right\", columns=[\"CaseID\", \"iDOCID\", \"FinalDate\", \"StdDocDesc\"])\n",
    "rearViewLeftDf = wr.s3.read_parquet(f\"s3://{bucket2}/\",  dataset=True, partition_filter= lambda x: x[\"StdDocDesc\"] == \"Rear View Left\", columns=[\"CaseID\", \"iDOCID\", \"FinalDate\", \"StdDocDesc\"])\n",
    "allViewFilesDf = [frontViewLeftDf, frontViewRightDf,  rearViewRightDf, rearViewLeftDf]"
   ]
  },
  {
   "cell_type": "code",
   "execution_count": 22,
   "metadata": {},
   "outputs": [],
   "source": [
    "dfWithUniqueView = []\n",
    "for dfId in range(len(allViewFilesDf)):\n",
    "    df = allViewFilesDf[dfId]\n",
    "    df[\"FinalDate\"] = pd.to_datetime(df[\"FinalDate\"])\n",
    "    df.sort_values(by=\"FinalDate\", inplace=True)\n",
    "    df = df.groupby(\"CaseID\").head(1)\n",
    "    dfWithUniqueView.append(df)\n",
    "fileDf = pd.concat(dfWithUniqueView)"
   ]
  },
  {
   "cell_type": "code",
   "execution_count": 23,
   "metadata": {},
   "outputs": [
    {
     "data": {
      "text/html": [
       "<div>\n",
       "<style scoped>\n",
       "    .dataframe tbody tr th:only-of-type {\n",
       "        vertical-align: middle;\n",
       "    }\n",
       "\n",
       "    .dataframe tbody tr th {\n",
       "        vertical-align: top;\n",
       "    }\n",
       "\n",
       "    .dataframe thead th {\n",
       "        text-align: right;\n",
       "    }\n",
       "</style>\n",
       "<table border=\"1\" class=\"dataframe\">\n",
       "  <thead>\n",
       "    <tr style=\"text-align: right;\">\n",
       "      <th></th>\n",
       "      <th>CaseID</th>\n",
       "      <th>StdDocDesc</th>\n",
       "      <th>complete</th>\n",
       "    </tr>\n",
       "  </thead>\n",
       "  <tbody>\n",
       "    <tr>\n",
       "      <th>0</th>\n",
       "      <td>10000004</td>\n",
       "      <td>[Front View Left, Front View Right, Rear View ...</td>\n",
       "      <td>True</td>\n",
       "    </tr>\n",
       "    <tr>\n",
       "      <th>1</th>\n",
       "      <td>10000008</td>\n",
       "      <td>[Front View Left, Front View Right, Rear View ...</td>\n",
       "      <td>True</td>\n",
       "    </tr>\n",
       "    <tr>\n",
       "      <th>2</th>\n",
       "      <td>10000012</td>\n",
       "      <td>[Front View Left, Front View Right, Rear View ...</td>\n",
       "      <td>True</td>\n",
       "    </tr>\n",
       "    <tr>\n",
       "      <th>3</th>\n",
       "      <td>10000016</td>\n",
       "      <td>[Front View Left, Front View Right, Rear View ...</td>\n",
       "      <td>True</td>\n",
       "    </tr>\n",
       "    <tr>\n",
       "      <th>4</th>\n",
       "      <td>10000021</td>\n",
       "      <td>[Front View Left, Front View Right, Rear View ...</td>\n",
       "      <td>True</td>\n",
       "    </tr>\n",
       "    <tr>\n",
       "      <th>...</th>\n",
       "      <td>...</td>\n",
       "      <td>...</td>\n",
       "      <td>...</td>\n",
       "    </tr>\n",
       "    <tr>\n",
       "      <th>1000117</th>\n",
       "      <td>13564503</td>\n",
       "      <td>[Front View Left, Front View Right, Rear View ...</td>\n",
       "      <td>True</td>\n",
       "    </tr>\n",
       "    <tr>\n",
       "      <th>1000118</th>\n",
       "      <td>13564507</td>\n",
       "      <td>[Front View Left, Front View Right, Rear View ...</td>\n",
       "      <td>True</td>\n",
       "    </tr>\n",
       "    <tr>\n",
       "      <th>1000119</th>\n",
       "      <td>13564510</td>\n",
       "      <td>[Front View Left, Front View Right, Rear View ...</td>\n",
       "      <td>True</td>\n",
       "    </tr>\n",
       "    <tr>\n",
       "      <th>1000120</th>\n",
       "      <td>13564513</td>\n",
       "      <td>[Front View Left, Front View Right, Rear View ...</td>\n",
       "      <td>True</td>\n",
       "    </tr>\n",
       "    <tr>\n",
       "      <th>1000121</th>\n",
       "      <td>13564516</td>\n",
       "      <td>[Front View Left, Front View Right, Rear View ...</td>\n",
       "      <td>True</td>\n",
       "    </tr>\n",
       "  </tbody>\n",
       "</table>\n",
       "<p>911713 rows × 3 columns</p>\n",
       "</div>"
      ],
      "text/plain": [
       "           CaseID                                         StdDocDesc  complete\n",
       "0        10000004  [Front View Left, Front View Right, Rear View ...      True\n",
       "1        10000008  [Front View Left, Front View Right, Rear View ...      True\n",
       "2        10000012  [Front View Left, Front View Right, Rear View ...      True\n",
       "3        10000016  [Front View Left, Front View Right, Rear View ...      True\n",
       "4        10000021  [Front View Left, Front View Right, Rear View ...      True\n",
       "...           ...                                                ...       ...\n",
       "1000117  13564503  [Front View Left, Front View Right, Rear View ...      True\n",
       "1000118  13564507  [Front View Left, Front View Right, Rear View ...      True\n",
       "1000119  13564510  [Front View Left, Front View Right, Rear View ...      True\n",
       "1000120  13564513  [Front View Left, Front View Right, Rear View ...      True\n",
       "1000121  13564516  [Front View Left, Front View Right, Rear View ...      True\n",
       "\n",
       "[911713 rows x 3 columns]"
      ]
     },
     "execution_count": 23,
     "metadata": {},
     "output_type": "execute_result"
    }
   ],
   "source": [
    "validFileDf = fileDf.groupby(\"CaseID\")[\"StdDocDesc\"].apply(list).reset_index()\n",
    "validFileDf[\"complete\"] = validFileDf[\"StdDocDesc\"].apply(lambda x : len(set(x)) == 4)\n",
    "validFileDf = validFileDf[validFileDf[\"complete\"] == True]\n",
    "validFileDf"
   ]
  },
  {
   "cell_type": "code",
   "execution_count": null,
   "metadata": {},
   "outputs": [],
   "source": []
  },
  {
   "cell_type": "code",
   "execution_count": 24,
   "metadata": {},
   "outputs": [],
   "source": [
    "wr.config.s3_endpoint_url = \"http://192.168.1.4:8333\"\n",
    "bucket3 = \"tmp_case\""
   ]
  },
  {
   "cell_type": "code",
   "execution_count": 25,
   "metadata": {},
   "outputs": [],
   "source": [
    "# wr.s3.describe_objects(f\"s3://{bucket3}/\")"
   ]
  },
  {
   "cell_type": "code",
   "execution_count": 26,
   "metadata": {},
   "outputs": [
    {
     "name": "stdout",
     "output_type": "stream",
     "text": [
      "['1st_Attended_By', 'Accident_Scene_Photos_Count', 'Adjuster', 'Adjuster_Co_ID', 'Adjuster_HQ_ID', 'Adjuster_Narratives', 'Adjuster_Phone_Number', 'Adjuster_Rpt_Doc_Exist', 'Adjuster_Rpt_Submit_Datetime', 'Agency_Name', 'Agent_Address', 'Agent_PIAM_Code', 'Amount_Exclude_GST', 'Assembly_Type', 'Authorization_Datetime', 'Brake_System_Footbrake', 'CDriver_Drv_License_No', 'CDriver_Email', 'CDriver_ID1', 'CDriver_ID2', 'CDriver_Name', 'CDriver_Nationality', 'Cancel_Remarks', 'Car_Age', 'CaseID', 'Case_Remarks', 'Chassis_No', 'Circumstances_of_Accident', 'Circumstances_of_Accident_Code', 'Claim_Number', 'Claim_Reg_Datetime', 'Claim_Type', 'Claim_Type_Mask', 'Cmt_Address_1', 'Cmt_Address_2', 'Cmt_Birth_Date', 'Cmt_City', 'Cmt_Country', 'Cmt_Drv_License_No', 'Cmt_Email', 'Cmt_Gender', 'Cmt_ID1', 'Cmt_ID2', 'Cmt_Mobile_Phone_No', 'Cmt_Name', 'Cmt_Nationality', 'Cmt_Office_Phone_No', 'Cmt_Other_Phone_No', 'Cmt_Postcode', 'Cmt_State', 'Collision_With', 'Colour_of_Vehicle', 'Condition_of_Damage', 'Contact_Name', 'Contact_Phone_No', 'DamageLoss_Type', 'DamageLoss_Type_Code', 'Description_of_Accident', 'Engine_Cubic_Capacity', 'Engine_Modification', 'Engine_No', 'FL_Tyre_Treads', 'FL_Tyre_Type', 'FR_Tyre_Treads', 'FR_Tyre_Type', 'Flag_Value', 'Front_Axle_Suspension', 'Front_Tyre_Size', 'General_Condition', 'Gross_Offer_Adjuster', 'Gross_Offer_Insurer', 'Gross_Offer_Repairer', 'HP_Co', 'HP_Redemption_Date', 'Handbrake', 'Handling_Insurer', 'Handling_Insurer_Branch', 'IDriver_Address_1', 'IDriver_Address_2', 'IDriver_Birth_Date', 'IDriver_City', 'IDriver_Country', 'IDriver_Drv_Comm_License_Classes', 'IDriver_Drv_Comm_License_No', 'IDriver_Drv_Comm_License_Period_Cover_End', 'IDriver_Drv_Comm_License_Period_Cover_Start', 'IDriver_Drv_Experience', 'IDriver_Drv_License_Classes', 'IDriver_Drv_License_No', 'IDriver_Drv_License_Period_Cover_End', 'IDriver_Drv_License_Period_Cover_Start', 'IDriver_Drv_Provisional_Driving_License', 'IDriver_Email', 'IDriver_Fax_No', 'IDriver_Gender', 'IDriver_ID1', 'IDriver_ID1_Type', 'IDriver_ID2', 'IDriver_Marital_Status', 'IDriver_Mobile_Phone_No', 'IDriver_Name', 'IDriver_Nationality', 'IDriver_Occupation', 'IDriver_Office_Phone_No', 'IDriver_Other_Phone_No', 'IDriver_Postcode', 'IDriver_Relationship_to_Insured', 'IDriver_State', 'Initial_Estimation', 'Ins_Claim_Status', 'Insured_Address_1', 'Insured_Address_2', 'Insured_Birth_Date', 'Insured_City', 'Insured_Country', 'Insured_Drv_License_Classes', 'Insured_Drv_License_No', 'Insured_Drv_License_Period_Cover_End', 'Insured_Drv_License_Period_Cover_Start', 'Insured_Email', 'Insured_Fax_No', 'Insured_Gender', 'Insured_ID1', 'Insured_ID1_Type', 'Insured_ID2', 'Insured_Mobile_Phone_No', 'Insured_Name', 'Insured_Nationality', 'Insured_Occupation', 'Insured_Office_Phone_No', 'Insured_Other_Phone_No', 'Insured_Postcode', 'Insured_State', 'Insurer_Co_ID', 'Insurer_HQ_ID', 'Intimation_From', 'JPJ_Log_Book_No', 'JPJ_Reg_Date', 'KFK_Case_ID', 'KFK_Recovery', 'Loss_City', 'Loss_Datetime', 'Loss_GPS_Coordinates', 'Loss_Location_Type', 'Loss_Location_Type_Code', 'Loss_Place', 'Loss_Postcode', 'Loss_State', 'Make', 'Market_Value', 'Model', 'NCB_Affected', 'NCB_Stat', 'Nett_Offer_Insurer', 'No_of_Injured', 'Notification_Datetime', 'Odometer_Reading', 'Odometer_Type', 'Offer_Type', 'Other', 'Paintwork', 'Party_At_Fault', 'Payment_Date', 'Payment_Mode', 'Police_Report_DateTime', 'Police_Report_No', 'Police_Station_Name', 'Policy_End', 'Policy_No', 'Policy_Start', 'Pre_accident_Damage', 'RL_Tyre_Treads', 'RL_Tyre_Type', 'RR_Tyre_Treads', 'RR_Tyre_Type', 'Rear_Axle_Suspension', 'Rear_Tyre_Size', 'Reason_Flag', 'Recovery_Flag', 'Rep_Claim_Status', 'Repairer', 'Repairer_Address', 'Repairer_Apprv_Count', 'Repairer_Co_ID', 'Repairer_Flag', 'Repairer_HQ_ID', 'Repairer_Phone_Number', 'Repudiate_Reason', 'Repudiate_Type_ID', 'Salvage', 'Seating_Capacity', 'Sp_Tyre_Tread', 'Steering', 'Subrogation', 'Sum_Insured', 'TPSolicitor', 'TPSolicitor_Co_ID', 'TP_Injury_Involved', 'Third_Party_Involved', 'Total_Loss_Type', 'Variant', 'Vehicle_Class', 'Vehicle_Model', 'Vehicle_Reg_No_Insured', 'Vehicle_Reg_No_Other', 'Vehicle_Still_Driveable', 'Vehicle_Type', 'Vehicle_Type_ID', 'Year_of_Manufacture']\n"
     ]
    }
   ],
   "source": [
    "tempDf = wr.s3.read_parquet(f\"s3://{bucket3}/\" ,dataset=True, chunked=100)\n",
    "for i in tempDf :\n",
    "    print(sorted(i.columns.tolist()))\n",
    "    break\n"
   ]
  },
  {
   "cell_type": "code",
   "execution_count": null,
   "metadata": {},
   "outputs": [],
   "source": []
  },
  {
   "cell_type": "code",
   "execution_count": 27,
   "metadata": {},
   "outputs": [],
   "source": [
    "# tempdf = pd.read_parquet(\"/home/alextay96/Desktop/new_workspace/partlist_prediction/data/raw/complete_encoded_no_limit.parquet\")\n",
    "# tempdf[\"Vehicle_Type\"].value_counts().reset_index().head(10)\n"
   ]
  },
  {
   "cell_type": "code",
   "execution_count": 28,
   "metadata": {},
   "outputs": [
    {
     "data": {
      "text/html": [
       "<div>\n",
       "<style scoped>\n",
       "    .dataframe tbody tr th:only-of-type {\n",
       "        vertical-align: middle;\n",
       "    }\n",
       "\n",
       "    .dataframe tbody tr th {\n",
       "        vertical-align: top;\n",
       "    }\n",
       "\n",
       "    .dataframe thead th {\n",
       "        text-align: right;\n",
       "    }\n",
       "</style>\n",
       "<table border=\"1\" class=\"dataframe\">\n",
       "  <thead>\n",
       "    <tr style=\"text-align: right;\">\n",
       "      <th></th>\n",
       "      <th>CaseID</th>\n",
       "      <th>Vehicle_Class</th>\n",
       "      <th>Gross_Offer_Insurer</th>\n",
       "      <th>Circumstances_of_Accident</th>\n",
       "      <th>Claim_Type</th>\n",
       "      <th>Model</th>\n",
       "      <th>Assembly_Type</th>\n",
       "      <th>Vehicle_Still_Driveable</th>\n",
       "      <th>NCB_Stat</th>\n",
       "      <th>Sum_Insured</th>\n",
       "      <th>Repairer</th>\n",
       "      <th>Repairer_Apprv_Count</th>\n",
       "      <th>Collision_With</th>\n",
       "      <th>Handling_Insurer</th>\n",
       "      <th>Vehicle_Type</th>\n",
       "    </tr>\n",
       "  </thead>\n",
       "  <tbody>\n",
       "    <tr>\n",
       "      <th>0</th>\n",
       "      <td>10407851</td>\n",
       "      <td>2</td>\n",
       "      <td>600.00</td>\n",
       "      <td>Breakage of Windscreen</td>\n",
       "      <td>WS</td>\n",
       "      <td>Myvi 2011 On</td>\n",
       "      <td>3</td>\n",
       "      <td>&lt;NA&gt;</td>\n",
       "      <td>0</td>\n",
       "      <td>600.0</td>\n",
       "      <td>Loke Yew Auto Windscreen Specialist (HQ)</td>\n",
       "      <td>0</td>\n",
       "      <td></td>\n",
       "      <td>Takaful Ikhlas General Berhad</td>\n",
       "      <td>Hatchback - 5 Dr</td>\n",
       "    </tr>\n",
       "    <tr>\n",
       "      <th>1</th>\n",
       "      <td>10407853</td>\n",
       "      <td>2</td>\n",
       "      <td>468.20</td>\n",
       "      <td></td>\n",
       "      <td>WS</td>\n",
       "      <td>Kelisa 2001 On</td>\n",
       "      <td>3</td>\n",
       "      <td>&lt;NA&gt;</td>\n",
       "      <td>0</td>\n",
       "      <td>500.0</td>\n",
       "      <td>DR Cermin Sdn Bhd (HQ)</td>\n",
       "      <td>0</td>\n",
       "      <td></td>\n",
       "      <td>Etiqa General Takaful Berhad</td>\n",
       "      <td>Hatchback - 5 Dr</td>\n",
       "    </tr>\n",
       "    <tr>\n",
       "      <th>2</th>\n",
       "      <td>10407855</td>\n",
       "      <td>2</td>\n",
       "      <td>400.00</td>\n",
       "      <td>Breakage of Windscreen</td>\n",
       "      <td>WS</td>\n",
       "      <td>Myvi 2005 On</td>\n",
       "      <td>3</td>\n",
       "      <td>&lt;NA&gt;</td>\n",
       "      <td>0</td>\n",
       "      <td>400.0</td>\n",
       "      <td>Koon Lee Auto Glass Sdn Bhd (Bukit Tinggi,Klang)</td>\n",
       "      <td>0</td>\n",
       "      <td></td>\n",
       "      <td>Takaful Ikhlas General Berhad</td>\n",
       "      <td>Hatchback - 5 Dr</td>\n",
       "    </tr>\n",
       "    <tr>\n",
       "      <th>3</th>\n",
       "      <td>10407856</td>\n",
       "      <td>&lt;NA&gt;</td>\n",
       "      <td>0.00</td>\n",
       "      <td></td>\n",
       "      <td>TP</td>\n",
       "      <td></td>\n",
       "      <td>&lt;NA&gt;</td>\n",
       "      <td>&lt;NA&gt;</td>\n",
       "      <td>1</td>\n",
       "      <td>NaN</td>\n",
       "      <td>Maju Mesra Spraying Services (HQ)</td>\n",
       "      <td>81</td>\n",
       "      <td>Private Vehicle</td>\n",
       "      <td>AmGeneral Insurance Berhad</td>\n",
       "      <td>Hatchback - 5 Dr</td>\n",
       "    </tr>\n",
       "    <tr>\n",
       "      <th>4</th>\n",
       "      <td>10407858</td>\n",
       "      <td>2</td>\n",
       "      <td>1516.82</td>\n",
       "      <td>Collided into motorcyclist</td>\n",
       "      <td>OD</td>\n",
       "      <td>Myvi 2011 On</td>\n",
       "      <td>3</td>\n",
       "      <td>0</td>\n",
       "      <td>1</td>\n",
       "      <td>28000.0</td>\n",
       "      <td>GI Hoe Motor Works Sdn Bhd (HQ)</td>\n",
       "      <td>2633</td>\n",
       "      <td>Private Vehicle</td>\n",
       "      <td>Zurich General Insurance Malaysia Berhad</td>\n",
       "      <td>Hatchback - 5 Dr</td>\n",
       "    </tr>\n",
       "    <tr>\n",
       "      <th>...</th>\n",
       "      <td>...</td>\n",
       "      <td>...</td>\n",
       "      <td>...</td>\n",
       "      <td>...</td>\n",
       "      <td>...</td>\n",
       "      <td>...</td>\n",
       "      <td>...</td>\n",
       "      <td>...</td>\n",
       "      <td>...</td>\n",
       "      <td>...</td>\n",
       "      <td>...</td>\n",
       "      <td>...</td>\n",
       "      <td>...</td>\n",
       "      <td>...</td>\n",
       "      <td>...</td>\n",
       "    </tr>\n",
       "    <tr>\n",
       "      <th>2450277</th>\n",
       "      <td>10150978</td>\n",
       "      <td>2</td>\n",
       "      <td>17800.00</td>\n",
       "      <td></td>\n",
       "      <td>OD KFK</td>\n",
       "      <td>Sentra 1995 On</td>\n",
       "      <td>3</td>\n",
       "      <td>0</td>\n",
       "      <td>0</td>\n",
       "      <td>21000.0</td>\n",
       "      <td>Pooh Hui Paint Spraying Workshop Sdn Bhd (HQ)</td>\n",
       "      <td>2838</td>\n",
       "      <td>Private Vehicle</td>\n",
       "      <td>Syarikat Takaful Malaysia Am Berhad</td>\n",
       "      <td>Saloon - 4 Dr</td>\n",
       "    </tr>\n",
       "    <tr>\n",
       "      <th>2450278</th>\n",
       "      <td>10150980</td>\n",
       "      <td>2</td>\n",
       "      <td>559.00</td>\n",
       "      <td>Breakage of Windscreen</td>\n",
       "      <td>WS</td>\n",
       "      <td>Saga 2008 On</td>\n",
       "      <td>3</td>\n",
       "      <td>&lt;NA&gt;</td>\n",
       "      <td>0</td>\n",
       "      <td>600.0</td>\n",
       "      <td>Nanmar Motor Service Sdn Bhd (HQ)</td>\n",
       "      <td>0</td>\n",
       "      <td></td>\n",
       "      <td>TUNE PROTECT MALAYSIA</td>\n",
       "      <td>Saloon - 4 Dr</td>\n",
       "    </tr>\n",
       "    <tr>\n",
       "      <th>2450279</th>\n",
       "      <td>10150981</td>\n",
       "      <td>2</td>\n",
       "      <td>9061.74</td>\n",
       "      <td>Collided into motorcyclist</td>\n",
       "      <td>OD</td>\n",
       "      <td>City 2014 On</td>\n",
       "      <td>3</td>\n",
       "      <td>1</td>\n",
       "      <td>1</td>\n",
       "      <td>46000.0</td>\n",
       "      <td>Actmar Sdn Bhd (HQ)</td>\n",
       "      <td>1929</td>\n",
       "      <td>Private Vehicle</td>\n",
       "      <td>AIG Malaysia Insurance Berhad</td>\n",
       "      <td>Saloon - 4 Dr</td>\n",
       "    </tr>\n",
       "    <tr>\n",
       "      <th>2450280</th>\n",
       "      <td>10150996</td>\n",
       "      <td>2</td>\n",
       "      <td>4701.85</td>\n",
       "      <td>Collision- Head to Rear (Insured Hit TP)</td>\n",
       "      <td>OD</td>\n",
       "      <td>Persona 2016 On</td>\n",
       "      <td>3</td>\n",
       "      <td>0</td>\n",
       "      <td>1</td>\n",
       "      <td>50000.0</td>\n",
       "      <td>Lon G Auto Services Sdn Bhd (Lon G)</td>\n",
       "      <td>5794</td>\n",
       "      <td>Private Vehicle</td>\n",
       "      <td>Zurich General Takaful Malaysia Berhad</td>\n",
       "      <td>Saloon - 4 Dr</td>\n",
       "    </tr>\n",
       "    <tr>\n",
       "      <th>2450281</th>\n",
       "      <td>10150997</td>\n",
       "      <td>2</td>\n",
       "      <td>3429.00</td>\n",
       "      <td>Collision- Head to Rear (TP Hit Insured)</td>\n",
       "      <td>TP</td>\n",
       "      <td>Saga 2016 On</td>\n",
       "      <td>3</td>\n",
       "      <td>&lt;NA&gt;</td>\n",
       "      <td>0</td>\n",
       "      <td>NaN</td>\n",
       "      <td>Dhaizz Ideas Resources (HQ)</td>\n",
       "      <td>491</td>\n",
       "      <td>Private Vehicle</td>\n",
       "      <td>Liberty Insurance Berhad</td>\n",
       "      <td>Saloon - 4 Dr</td>\n",
       "    </tr>\n",
       "  </tbody>\n",
       "</table>\n",
       "<p>2450282 rows × 15 columns</p>\n",
       "</div>"
      ],
      "text/plain": [
       "           CaseID  Vehicle_Class  Gross_Offer_Insurer  \\\n",
       "0        10407851              2               600.00   \n",
       "1        10407853              2               468.20   \n",
       "2        10407855              2               400.00   \n",
       "3        10407856           <NA>                 0.00   \n",
       "4        10407858              2              1516.82   \n",
       "...           ...            ...                  ...   \n",
       "2450277  10150978              2             17800.00   \n",
       "2450278  10150980              2               559.00   \n",
       "2450279  10150981              2              9061.74   \n",
       "2450280  10150996              2              4701.85   \n",
       "2450281  10150997              2              3429.00   \n",
       "\n",
       "                        Circumstances_of_Accident Claim_Type            Model  \\\n",
       "0                          Breakage of Windscreen         WS     Myvi 2011 On   \n",
       "1                                                         WS   Kelisa 2001 On   \n",
       "2                          Breakage of Windscreen         WS     Myvi 2005 On   \n",
       "3                                                         TP                    \n",
       "4                      Collided into motorcyclist         OD     Myvi 2011 On   \n",
       "...                                           ...        ...              ...   \n",
       "2450277                                               OD KFK   Sentra 1995 On   \n",
       "2450278                    Breakage of Windscreen         WS     Saga 2008 On   \n",
       "2450279                Collided into motorcyclist         OD     City 2014 On   \n",
       "2450280  Collision- Head to Rear (Insured Hit TP)         OD  Persona 2016 On   \n",
       "2450281  Collision- Head to Rear (TP Hit Insured)         TP     Saga 2016 On   \n",
       "\n",
       "         Assembly_Type  Vehicle_Still_Driveable  NCB_Stat  Sum_Insured  \\\n",
       "0                    3                     <NA>         0        600.0   \n",
       "1                    3                     <NA>         0        500.0   \n",
       "2                    3                     <NA>         0        400.0   \n",
       "3                 <NA>                     <NA>         1          NaN   \n",
       "4                    3                        0         1      28000.0   \n",
       "...                ...                      ...       ...          ...   \n",
       "2450277              3                        0         0      21000.0   \n",
       "2450278              3                     <NA>         0        600.0   \n",
       "2450279              3                        1         1      46000.0   \n",
       "2450280              3                        0         1      50000.0   \n",
       "2450281              3                     <NA>         0          NaN   \n",
       "\n",
       "                                                 Repairer  \\\n",
       "0                Loke Yew Auto Windscreen Specialist (HQ)   \n",
       "1                                  DR Cermin Sdn Bhd (HQ)   \n",
       "2        Koon Lee Auto Glass Sdn Bhd (Bukit Tinggi,Klang)   \n",
       "3                       Maju Mesra Spraying Services (HQ)   \n",
       "4                         GI Hoe Motor Works Sdn Bhd (HQ)   \n",
       "...                                                   ...   \n",
       "2450277     Pooh Hui Paint Spraying Workshop Sdn Bhd (HQ)   \n",
       "2450278                 Nanmar Motor Service Sdn Bhd (HQ)   \n",
       "2450279                               Actmar Sdn Bhd (HQ)   \n",
       "2450280               Lon G Auto Services Sdn Bhd (Lon G)   \n",
       "2450281                       Dhaizz Ideas Resources (HQ)   \n",
       "\n",
       "         Repairer_Apprv_Count   Collision_With  \\\n",
       "0                           0                    \n",
       "1                           0                    \n",
       "2                           0                    \n",
       "3                          81  Private Vehicle   \n",
       "4                        2633  Private Vehicle   \n",
       "...                       ...              ...   \n",
       "2450277                  2838  Private Vehicle   \n",
       "2450278                     0                    \n",
       "2450279                  1929  Private Vehicle   \n",
       "2450280                  5794  Private Vehicle   \n",
       "2450281                   491  Private Vehicle   \n",
       "\n",
       "                                 Handling_Insurer      Vehicle_Type  \n",
       "0                   Takaful Ikhlas General Berhad  Hatchback - 5 Dr  \n",
       "1                    Etiqa General Takaful Berhad  Hatchback - 5 Dr  \n",
       "2                   Takaful Ikhlas General Berhad  Hatchback - 5 Dr  \n",
       "3                      AmGeneral Insurance Berhad  Hatchback - 5 Dr  \n",
       "4        Zurich General Insurance Malaysia Berhad  Hatchback - 5 Dr  \n",
       "...                                           ...               ...  \n",
       "2450277       Syarikat Takaful Malaysia Am Berhad     Saloon - 4 Dr  \n",
       "2450278                     TUNE PROTECT MALAYSIA     Saloon - 4 Dr  \n",
       "2450279             AIG Malaysia Insurance Berhad     Saloon - 4 Dr  \n",
       "2450280    Zurich General Takaful Malaysia Berhad     Saloon - 4 Dr  \n",
       "2450281                  Liberty Insurance Berhad     Saloon - 4 Dr  \n",
       "\n",
       "[2450282 rows x 15 columns]"
      ]
     },
     "execution_count": 28,
     "metadata": {},
     "output_type": "execute_result"
    }
   ],
   "source": [
    "myFilter = lambda x : x[\"Vehicle_Type\"] == \"Hatchback - 5 Dr\" or x[\"Vehicle_Type\"] == \"Saloon - 4 Dr\" or x[\"Vehicle_Type\"] == \"MPV\" \\\n",
    "or x[\"Vehicle_Type\"] == \"SUV - 5 Dr\" or x[\"Vehicle_Type\"] == \"Pickup - 4 Dr Dbl.Cab\" \n",
    "targetCols = [\"CaseID\", \n",
    "\"Vehicle_Class\", \n",
    "\"Vehicle_Type\", \n",
    "\"Gross_Offer_Insurer\", \n",
    "\"Circumstances_of_Accident\", \n",
    "\"Claim_Type\", \"Model\",\n",
    "        \"Assembly_Type\",\n",
    "        \"Vehicle_Still_Driveable\",\n",
    "        \"NCB_Stat\",\n",
    "        \"Assembly_Type\",\n",
    "        \"Sum_Insured\",\n",
    "        \"Repairer\",\n",
    "        \"Repairer_Apprv_Count\",\n",
    "        \"Collision_With\",\n",
    "        \"Handling_Insurer\", ]\n",
    "\n",
    "# targetCols = list()\n",
    "caseDf = wr.s3.read_parquet(f\"s3://{bucket3}/\" ,partition_filter=myFilter,dataset=True, columns=targetCols)\n",
    "caseDf"
   ]
  },
  {
   "cell_type": "code",
   "execution_count": 29,
   "metadata": {},
   "outputs": [
    {
     "data": {
      "text/html": [
       "<div>\n",
       "<style scoped>\n",
       "    .dataframe tbody tr th:only-of-type {\n",
       "        vertical-align: middle;\n",
       "    }\n",
       "\n",
       "    .dataframe tbody tr th {\n",
       "        vertical-align: top;\n",
       "    }\n",
       "\n",
       "    .dataframe thead th {\n",
       "        text-align: right;\n",
       "    }\n",
       "</style>\n",
       "<table border=\"1\" class=\"dataframe\">\n",
       "  <thead>\n",
       "    <tr style=\"text-align: right;\">\n",
       "      <th></th>\n",
       "      <th>CaseID</th>\n",
       "      <th>Vehicle_Class</th>\n",
       "      <th>Gross_Offer_Insurer</th>\n",
       "      <th>Circumstances_of_Accident</th>\n",
       "      <th>Claim_Type</th>\n",
       "      <th>Model</th>\n",
       "      <th>Assembly_Type</th>\n",
       "      <th>Vehicle_Still_Driveable</th>\n",
       "      <th>NCB_Stat</th>\n",
       "      <th>Sum_Insured</th>\n",
       "      <th>Repairer</th>\n",
       "      <th>Repairer_Apprv_Count</th>\n",
       "      <th>Collision_With</th>\n",
       "      <th>Handling_Insurer</th>\n",
       "      <th>Vehicle_Type</th>\n",
       "    </tr>\n",
       "  </thead>\n",
       "  <tbody>\n",
       "    <tr>\n",
       "      <th>0</th>\n",
       "      <td>10407851</td>\n",
       "      <td>2</td>\n",
       "      <td>600.00</td>\n",
       "      <td>Breakage of Windscreen</td>\n",
       "      <td>WS</td>\n",
       "      <td>Myvi 2011 On</td>\n",
       "      <td>3</td>\n",
       "      <td>&lt;NA&gt;</td>\n",
       "      <td>0</td>\n",
       "      <td>600.0</td>\n",
       "      <td>Loke Yew Auto Windscreen Specialist (HQ)</td>\n",
       "      <td>0</td>\n",
       "      <td></td>\n",
       "      <td>Takaful Ikhlas General Berhad</td>\n",
       "      <td>Hatchback - 5 Dr</td>\n",
       "    </tr>\n",
       "    <tr>\n",
       "      <th>1</th>\n",
       "      <td>10407853</td>\n",
       "      <td>2</td>\n",
       "      <td>468.20</td>\n",
       "      <td></td>\n",
       "      <td>WS</td>\n",
       "      <td>Kelisa 2001 On</td>\n",
       "      <td>3</td>\n",
       "      <td>&lt;NA&gt;</td>\n",
       "      <td>0</td>\n",
       "      <td>500.0</td>\n",
       "      <td>DR Cermin Sdn Bhd (HQ)</td>\n",
       "      <td>0</td>\n",
       "      <td></td>\n",
       "      <td>Etiqa General Takaful Berhad</td>\n",
       "      <td>Hatchback - 5 Dr</td>\n",
       "    </tr>\n",
       "    <tr>\n",
       "      <th>2</th>\n",
       "      <td>10407855</td>\n",
       "      <td>2</td>\n",
       "      <td>400.00</td>\n",
       "      <td>Breakage of Windscreen</td>\n",
       "      <td>WS</td>\n",
       "      <td>Myvi 2005 On</td>\n",
       "      <td>3</td>\n",
       "      <td>&lt;NA&gt;</td>\n",
       "      <td>0</td>\n",
       "      <td>400.0</td>\n",
       "      <td>Koon Lee Auto Glass Sdn Bhd (Bukit Tinggi,Klang)</td>\n",
       "      <td>0</td>\n",
       "      <td></td>\n",
       "      <td>Takaful Ikhlas General Berhad</td>\n",
       "      <td>Hatchback - 5 Dr</td>\n",
       "    </tr>\n",
       "    <tr>\n",
       "      <th>3</th>\n",
       "      <td>10407856</td>\n",
       "      <td>&lt;NA&gt;</td>\n",
       "      <td>0.00</td>\n",
       "      <td></td>\n",
       "      <td>TP</td>\n",
       "      <td></td>\n",
       "      <td>&lt;NA&gt;</td>\n",
       "      <td>&lt;NA&gt;</td>\n",
       "      <td>1</td>\n",
       "      <td>NaN</td>\n",
       "      <td>Maju Mesra Spraying Services (HQ)</td>\n",
       "      <td>81</td>\n",
       "      <td>Private Vehicle</td>\n",
       "      <td>AmGeneral Insurance Berhad</td>\n",
       "      <td>Hatchback - 5 Dr</td>\n",
       "    </tr>\n",
       "    <tr>\n",
       "      <th>4</th>\n",
       "      <td>10407858</td>\n",
       "      <td>2</td>\n",
       "      <td>1516.82</td>\n",
       "      <td>Collided into motorcyclist</td>\n",
       "      <td>OD</td>\n",
       "      <td>Myvi 2011 On</td>\n",
       "      <td>3</td>\n",
       "      <td>0</td>\n",
       "      <td>1</td>\n",
       "      <td>28000.0</td>\n",
       "      <td>GI Hoe Motor Works Sdn Bhd (HQ)</td>\n",
       "      <td>2633</td>\n",
       "      <td>Private Vehicle</td>\n",
       "      <td>Zurich General Insurance Malaysia Berhad</td>\n",
       "      <td>Hatchback - 5 Dr</td>\n",
       "    </tr>\n",
       "    <tr>\n",
       "      <th>...</th>\n",
       "      <td>...</td>\n",
       "      <td>...</td>\n",
       "      <td>...</td>\n",
       "      <td>...</td>\n",
       "      <td>...</td>\n",
       "      <td>...</td>\n",
       "      <td>...</td>\n",
       "      <td>...</td>\n",
       "      <td>...</td>\n",
       "      <td>...</td>\n",
       "      <td>...</td>\n",
       "      <td>...</td>\n",
       "      <td>...</td>\n",
       "      <td>...</td>\n",
       "      <td>...</td>\n",
       "    </tr>\n",
       "    <tr>\n",
       "      <th>2450277</th>\n",
       "      <td>10150978</td>\n",
       "      <td>2</td>\n",
       "      <td>17800.00</td>\n",
       "      <td></td>\n",
       "      <td>OD KFK</td>\n",
       "      <td>Sentra 1995 On</td>\n",
       "      <td>3</td>\n",
       "      <td>0</td>\n",
       "      <td>0</td>\n",
       "      <td>21000.0</td>\n",
       "      <td>Pooh Hui Paint Spraying Workshop Sdn Bhd (HQ)</td>\n",
       "      <td>2838</td>\n",
       "      <td>Private Vehicle</td>\n",
       "      <td>Syarikat Takaful Malaysia Am Berhad</td>\n",
       "      <td>Saloon - 4 Dr</td>\n",
       "    </tr>\n",
       "    <tr>\n",
       "      <th>2450278</th>\n",
       "      <td>10150980</td>\n",
       "      <td>2</td>\n",
       "      <td>559.00</td>\n",
       "      <td>Breakage of Windscreen</td>\n",
       "      <td>WS</td>\n",
       "      <td>Saga 2008 On</td>\n",
       "      <td>3</td>\n",
       "      <td>&lt;NA&gt;</td>\n",
       "      <td>0</td>\n",
       "      <td>600.0</td>\n",
       "      <td>Nanmar Motor Service Sdn Bhd (HQ)</td>\n",
       "      <td>0</td>\n",
       "      <td></td>\n",
       "      <td>TUNE PROTECT MALAYSIA</td>\n",
       "      <td>Saloon - 4 Dr</td>\n",
       "    </tr>\n",
       "    <tr>\n",
       "      <th>2450279</th>\n",
       "      <td>10150981</td>\n",
       "      <td>2</td>\n",
       "      <td>9061.74</td>\n",
       "      <td>Collided into motorcyclist</td>\n",
       "      <td>OD</td>\n",
       "      <td>City 2014 On</td>\n",
       "      <td>3</td>\n",
       "      <td>1</td>\n",
       "      <td>1</td>\n",
       "      <td>46000.0</td>\n",
       "      <td>Actmar Sdn Bhd (HQ)</td>\n",
       "      <td>1929</td>\n",
       "      <td>Private Vehicle</td>\n",
       "      <td>AIG Malaysia Insurance Berhad</td>\n",
       "      <td>Saloon - 4 Dr</td>\n",
       "    </tr>\n",
       "    <tr>\n",
       "      <th>2450280</th>\n",
       "      <td>10150996</td>\n",
       "      <td>2</td>\n",
       "      <td>4701.85</td>\n",
       "      <td>Collision- Head to Rear (Insured Hit TP)</td>\n",
       "      <td>OD</td>\n",
       "      <td>Persona 2016 On</td>\n",
       "      <td>3</td>\n",
       "      <td>0</td>\n",
       "      <td>1</td>\n",
       "      <td>50000.0</td>\n",
       "      <td>Lon G Auto Services Sdn Bhd (Lon G)</td>\n",
       "      <td>5794</td>\n",
       "      <td>Private Vehicle</td>\n",
       "      <td>Zurich General Takaful Malaysia Berhad</td>\n",
       "      <td>Saloon - 4 Dr</td>\n",
       "    </tr>\n",
       "    <tr>\n",
       "      <th>2450281</th>\n",
       "      <td>10150997</td>\n",
       "      <td>2</td>\n",
       "      <td>3429.00</td>\n",
       "      <td>Collision- Head to Rear (TP Hit Insured)</td>\n",
       "      <td>TP</td>\n",
       "      <td>Saga 2016 On</td>\n",
       "      <td>3</td>\n",
       "      <td>&lt;NA&gt;</td>\n",
       "      <td>0</td>\n",
       "      <td>NaN</td>\n",
       "      <td>Dhaizz Ideas Resources (HQ)</td>\n",
       "      <td>491</td>\n",
       "      <td>Private Vehicle</td>\n",
       "      <td>Liberty Insurance Berhad</td>\n",
       "      <td>Saloon - 4 Dr</td>\n",
       "    </tr>\n",
       "  </tbody>\n",
       "</table>\n",
       "<p>2450282 rows × 15 columns</p>\n",
       "</div>"
      ],
      "text/plain": [
       "           CaseID  Vehicle_Class  Gross_Offer_Insurer  \\\n",
       "0        10407851              2               600.00   \n",
       "1        10407853              2               468.20   \n",
       "2        10407855              2               400.00   \n",
       "3        10407856           <NA>                 0.00   \n",
       "4        10407858              2              1516.82   \n",
       "...           ...            ...                  ...   \n",
       "2450277  10150978              2             17800.00   \n",
       "2450278  10150980              2               559.00   \n",
       "2450279  10150981              2              9061.74   \n",
       "2450280  10150996              2              4701.85   \n",
       "2450281  10150997              2              3429.00   \n",
       "\n",
       "                        Circumstances_of_Accident Claim_Type            Model  \\\n",
       "0                          Breakage of Windscreen         WS     Myvi 2011 On   \n",
       "1                                                         WS   Kelisa 2001 On   \n",
       "2                          Breakage of Windscreen         WS     Myvi 2005 On   \n",
       "3                                                         TP                    \n",
       "4                      Collided into motorcyclist         OD     Myvi 2011 On   \n",
       "...                                           ...        ...              ...   \n",
       "2450277                                               OD KFK   Sentra 1995 On   \n",
       "2450278                    Breakage of Windscreen         WS     Saga 2008 On   \n",
       "2450279                Collided into motorcyclist         OD     City 2014 On   \n",
       "2450280  Collision- Head to Rear (Insured Hit TP)         OD  Persona 2016 On   \n",
       "2450281  Collision- Head to Rear (TP Hit Insured)         TP     Saga 2016 On   \n",
       "\n",
       "         Assembly_Type  Vehicle_Still_Driveable  NCB_Stat  Sum_Insured  \\\n",
       "0                    3                     <NA>         0        600.0   \n",
       "1                    3                     <NA>         0        500.0   \n",
       "2                    3                     <NA>         0        400.0   \n",
       "3                 <NA>                     <NA>         1          NaN   \n",
       "4                    3                        0         1      28000.0   \n",
       "...                ...                      ...       ...          ...   \n",
       "2450277              3                        0         0      21000.0   \n",
       "2450278              3                     <NA>         0        600.0   \n",
       "2450279              3                        1         1      46000.0   \n",
       "2450280              3                        0         1      50000.0   \n",
       "2450281              3                     <NA>         0          NaN   \n",
       "\n",
       "                                                 Repairer  \\\n",
       "0                Loke Yew Auto Windscreen Specialist (HQ)   \n",
       "1                                  DR Cermin Sdn Bhd (HQ)   \n",
       "2        Koon Lee Auto Glass Sdn Bhd (Bukit Tinggi,Klang)   \n",
       "3                       Maju Mesra Spraying Services (HQ)   \n",
       "4                         GI Hoe Motor Works Sdn Bhd (HQ)   \n",
       "...                                                   ...   \n",
       "2450277     Pooh Hui Paint Spraying Workshop Sdn Bhd (HQ)   \n",
       "2450278                 Nanmar Motor Service Sdn Bhd (HQ)   \n",
       "2450279                               Actmar Sdn Bhd (HQ)   \n",
       "2450280               Lon G Auto Services Sdn Bhd (Lon G)   \n",
       "2450281                       Dhaizz Ideas Resources (HQ)   \n",
       "\n",
       "         Repairer_Apprv_Count   Collision_With  \\\n",
       "0                           0                    \n",
       "1                           0                    \n",
       "2                           0                    \n",
       "3                          81  Private Vehicle   \n",
       "4                        2633  Private Vehicle   \n",
       "...                       ...              ...   \n",
       "2450277                  2838  Private Vehicle   \n",
       "2450278                     0                    \n",
       "2450279                  1929  Private Vehicle   \n",
       "2450280                  5794  Private Vehicle   \n",
       "2450281                   491  Private Vehicle   \n",
       "\n",
       "                                 Handling_Insurer      Vehicle_Type  \n",
       "0                   Takaful Ikhlas General Berhad  Hatchback - 5 Dr  \n",
       "1                    Etiqa General Takaful Berhad  Hatchback - 5 Dr  \n",
       "2                   Takaful Ikhlas General Berhad  Hatchback - 5 Dr  \n",
       "3                      AmGeneral Insurance Berhad  Hatchback - 5 Dr  \n",
       "4        Zurich General Insurance Malaysia Berhad  Hatchback - 5 Dr  \n",
       "...                                           ...               ...  \n",
       "2450277       Syarikat Takaful Malaysia Am Berhad     Saloon - 4 Dr  \n",
       "2450278                     TUNE PROTECT MALAYSIA     Saloon - 4 Dr  \n",
       "2450279             AIG Malaysia Insurance Berhad     Saloon - 4 Dr  \n",
       "2450280    Zurich General Takaful Malaysia Berhad     Saloon - 4 Dr  \n",
       "2450281                  Liberty Insurance Berhad     Saloon - 4 Dr  \n",
       "\n",
       "[2450282 rows x 15 columns]"
      ]
     },
     "execution_count": 29,
     "metadata": {},
     "output_type": "execute_result"
    }
   ],
   "source": [
    "caseDf"
   ]
  },
  {
   "cell_type": "code",
   "execution_count": 30,
   "metadata": {},
   "outputs": [
    {
     "data": {
      "text/html": [
       "<div>\n",
       "<style scoped>\n",
       "    .dataframe tbody tr th:only-of-type {\n",
       "        vertical-align: middle;\n",
       "    }\n",
       "\n",
       "    .dataframe tbody tr th {\n",
       "        vertical-align: top;\n",
       "    }\n",
       "\n",
       "    .dataframe thead th {\n",
       "        text-align: right;\n",
       "    }\n",
       "</style>\n",
       "<table border=\"1\" class=\"dataframe\">\n",
       "  <thead>\n",
       "    <tr style=\"text-align: right;\">\n",
       "      <th></th>\n",
       "      <th>index</th>\n",
       "      <th>Vehicle_Type</th>\n",
       "    </tr>\n",
       "  </thead>\n",
       "  <tbody>\n",
       "    <tr>\n",
       "      <th>0</th>\n",
       "      <td>Saloon - 4 Dr</td>\n",
       "      <td>1043417</td>\n",
       "    </tr>\n",
       "    <tr>\n",
       "      <th>1</th>\n",
       "      <td>Hatchback - 5 Dr</td>\n",
       "      <td>685372</td>\n",
       "    </tr>\n",
       "    <tr>\n",
       "      <th>2</th>\n",
       "      <td>MPV</td>\n",
       "      <td>328378</td>\n",
       "    </tr>\n",
       "    <tr>\n",
       "      <th>3</th>\n",
       "      <td>SUV - 5 Dr</td>\n",
       "      <td>255113</td>\n",
       "    </tr>\n",
       "    <tr>\n",
       "      <th>4</th>\n",
       "      <td>Pickup - 4 Dr Dbl.Cab</td>\n",
       "      <td>138002</td>\n",
       "    </tr>\n",
       "  </tbody>\n",
       "</table>\n",
       "</div>"
      ],
      "text/plain": [
       "                   index  Vehicle_Type\n",
       "0          Saloon - 4 Dr       1043417\n",
       "1       Hatchback - 5 Dr        685372\n",
       "2                    MPV        328378\n",
       "3             SUV - 5 Dr        255113\n",
       "4  Pickup - 4 Dr Dbl.Cab        138002"
      ]
     },
     "execution_count": 30,
     "metadata": {},
     "output_type": "execute_result"
    }
   ],
   "source": [
    "caseDf[\"Vehicle_Type\"].value_counts().reset_index().head(10)\n"
   ]
  },
  {
   "cell_type": "code",
   "execution_count": 31,
   "metadata": {},
   "outputs": [
    {
     "data": {
      "text/plain": [
       "WS        883446\n",
       "OD        592622\n",
       "TP        365581\n",
       "OD KFK    241748\n",
       "TP UL     168541\n",
       "TP KFK    144586\n",
       "OD EXW     15308\n",
       "LU         13484\n",
       "TP BI      11062\n",
       "TF          5766\n",
       "SC          2870\n",
       "OD MNT      1888\n",
       "OD TFR      1353\n",
       "TP PD        926\n",
       "OD TAC       814\n",
       "TP SB        224\n",
       "OD GRG        63\n",
       "Name: Claim_Type, dtype: Int64"
      ]
     },
     "execution_count": 31,
     "metadata": {},
     "output_type": "execute_result"
    }
   ],
   "source": [
    "caseDf[\"Claim_Type\"].value_counts().head(100)"
   ]
  },
  {
   "cell_type": "code",
   "execution_count": 32,
   "metadata": {},
   "outputs": [],
   "source": [
    "circumstancesToRemove = [\n",
    "    \"Breakage of Windscreen\",\n",
    "    \"Stolen Whilst Parked\",\n",
    "    \"Fire, explosion or lightning\",\n",
    "    \"Malicious damage\",\n",
    "    \"Flood\",\n",
    "    \"Fell into a Ravine\",\n",
    "    \"Stolen due to Violence\",\n",
    "    'Self Ignition- Unknown Cause',\n",
    "    \"Boarding or Alighting\",\n",
    "    \"Damage due to Flood and Typhoon\",\n",
    "    \"Theft of parts and/or accessories\",\n",
    "    \"Stolen and recovered\"\n",
    "]"
   ]
  },
  {
   "cell_type": "code",
   "execution_count": 33,
   "metadata": {},
   "outputs": [],
   "source": [
    "claimType = [\n",
    "    \"OD\",\n",
    "    \"TP\"\n",
    "]"
   ]
  },
  {
   "cell_type": "code",
   "execution_count": 34,
   "metadata": {},
   "outputs": [
    {
     "data": {
      "text/plain": [
       "905566"
      ]
     },
     "execution_count": 34,
     "metadata": {},
     "output_type": "execute_result"
    }
   ],
   "source": [
    "removeByClaimType = len(caseDf[~caseDf[\"Claim_Type\"].str.contains(\"OD|TP\")])\n",
    "removeByClaimType"
   ]
  },
  {
   "cell_type": "code",
   "execution_count": 35,
   "metadata": {},
   "outputs": [
    {
     "data": {
      "text/plain": [
       "15906"
      ]
     },
     "execution_count": 35,
     "metadata": {},
     "output_type": "execute_result"
    }
   ],
   "source": [
    "removedByVehicleClass = len(caseDf[caseDf[\"Vehicle_Class\"] != 2])\n",
    "removedByVehicleClass"
   ]
  },
  {
   "cell_type": "code",
   "execution_count": 36,
   "metadata": {},
   "outputs": [
    {
     "data": {
      "text/plain": [
       "517433"
      ]
     },
     "execution_count": 36,
     "metadata": {},
     "output_type": "execute_result"
    }
   ],
   "source": [
    "removedByCircumstances = len(caseDf[caseDf[\"Circumstances_of_Accident\"].isin(circumstancesToRemove)])\n",
    "removedByCircumstances"
   ]
  },
  {
   "cell_type": "code",
   "execution_count": 37,
   "metadata": {},
   "outputs": [
    {
     "data": {
      "text/plain": [
       "372439"
      ]
     },
     "execution_count": 37,
     "metadata": {},
     "output_type": "execute_result"
    }
   ],
   "source": [
    "removedByGrossOfferInsurer = len(caseDf[caseDf[\"Gross_Offer_Insurer\"] <= 0])\n",
    "removedByGrossOfferInsurer"
   ]
  },
  {
   "cell_type": "code",
   "execution_count": 38,
   "metadata": {},
   "outputs": [
    {
     "data": {
      "text/plain": [
       "1615472"
      ]
     },
     "execution_count": 38,
     "metadata": {},
     "output_type": "execute_result"
    }
   ],
   "source": [
    "removedByFiles = len(caseDf[~caseDf[\"CaseID\"].isin(validFileDf[\"CaseID\"].unique().tolist())])\n",
    "removedByFiles"
   ]
  },
  {
   "cell_type": "code",
   "execution_count": 39,
   "metadata": {},
   "outputs": [
    {
     "data": {
      "text/plain": [
       "710680"
      ]
     },
     "execution_count": 39,
     "metadata": {},
     "output_type": "execute_result"
    }
   ],
   "source": [
    "removedByParts = len(caseDf[~caseDf[\"CaseID\"].isin(filterPartDf[\"CaseID\"].unique().tolist())])\n",
    "removedByParts"
   ]
  },
  {
   "cell_type": "code",
   "execution_count": 40,
   "metadata": {},
   "outputs": [],
   "source": [
    "# totalScope = len(caseDf) - removeByClaimType\n"
   ]
  },
  {
   "cell_type": "code",
   "execution_count": 41,
   "metadata": {},
   "outputs": [],
   "source": [
    "targetCaseDf = caseDf[caseDf[\"CaseID\"].isin(validFileDf[\"CaseID\"].unique().tolist())]\n",
    "totalScopeFilterByFiles = len(targetCaseDf)\n",
    "\n",
    "targetCaseDf = targetCaseDf[targetCaseDf[\"CaseID\"].isin(filterPartDf[\"CaseID\"].unique().tolist())]\n",
    "totalScopeFilterByFilesAndPart = len(targetCaseDf)\n",
    "targetCaseDf.drop_duplicates(subset=[\"CaseID\"], inplace=True)\n",
    "targetCaseDf.sort_values(by=\"CaseID\", inplace=True)\n"
   ]
  },
  {
   "cell_type": "code",
   "execution_count": 42,
   "metadata": {},
   "outputs": [],
   "source": [
    "targetCaseDf = targetCaseDf[targetCaseDf[\"Vehicle_Class\"] == 2]\n",
    "targetCaseDf = targetCaseDf[~targetCaseDf[\"Circumstances_of_Accident\"].isin(circumstancesToRemove)]\n",
    "targetCaseDf = targetCaseDf[targetCaseDf[\"Gross_Offer_Insurer\"] > 0]\n",
    "targetCaseDf = targetCaseDf[targetCaseDf[\"Claim_Type\"].str.contains(\"OD|TP\")]\n",
    "\n"
   ]
  },
  {
   "cell_type": "code",
   "execution_count": null,
   "metadata": {},
   "outputs": [],
   "source": []
  },
  {
   "cell_type": "code",
   "execution_count": 43,
   "metadata": {},
   "outputs": [],
   "source": [
    "filterCaseDf = pd.json_normalize([\n",
    "    {\n",
    "    \"filter\" : \"remove_by_claim_type\",\n",
    "    \"val\" : removeByClaimType,\n",
    "    },\n",
    "    {\n",
    "    \"filter\" : \"remove_by_vehicle_class\",\n",
    "    \"val\" : removedByVehicleClass,\n",
    "    },\n",
    "    {\n",
    "    \"filter\" : \"remove_by_circumstances\",\n",
    "    \"val\" : removedByCircumstances,\n",
    "    },\n",
    "    {\n",
    "    \"filter\" : \"remove_by_gross_offer_insurer\",\n",
    "    \"val\" : removedByGrossOfferInsurer,\n",
    "    },\n",
    "    {\n",
    "    \"filter\" : \"remove_by_incomplete_images\",\n",
    "    \"val\" : removedByFiles,\n",
    "    },\n",
    "       {\n",
    "    \"filter\" : \"remove_by_empty_partlist\",\n",
    "    \"val\" : removedByParts,\n",
    "    },\n",
    "\n",
    "])\n"
   ]
  },
  {
   "cell_type": "code",
   "execution_count": 44,
   "metadata": {},
   "outputs": [],
   "source": [
    "import plotly.express as ex\n"
   ]
  },
  {
   "cell_type": "code",
   "execution_count": 45,
   "metadata": {},
   "outputs": [
    {
     "data": {
      "application/vnd.plotly.v1+json": {
       "config": {
        "plotlyServerURL": "https://plot.ly"
       },
       "data": [
        {
         "alignmentgroup": "True",
         "hovertemplate": "filter=%{x}<br>val=%{y}<extra></extra>",
         "legendgroup": "",
         "marker": {
          "color": "#636efa",
          "pattern": {
           "shape": ""
          }
         },
         "name": "",
         "offsetgroup": "",
         "orientation": "v",
         "showlegend": false,
         "textposition": "auto",
         "texttemplate": "%{y}",
         "type": "bar",
         "x": [
          "remove_by_claim_type",
          "remove_by_vehicle_class",
          "remove_by_circumstances",
          "remove_by_gross_offer_insurer",
          "remove_by_incomplete_images",
          "remove_by_empty_partlist"
         ],
         "xaxis": "x",
         "y": [
          905566,
          15906,
          517433,
          372439,
          1615472,
          710680
         ],
         "yaxis": "y"
        }
       ],
       "layout": {
        "barmode": "relative",
        "legend": {
         "tracegroupgap": 0
        },
        "margin": {
         "t": 60
        },
        "template": {
         "data": {
          "bar": [
           {
            "error_x": {
             "color": "#2a3f5f"
            },
            "error_y": {
             "color": "#2a3f5f"
            },
            "marker": {
             "line": {
              "color": "#E5ECF6",
              "width": 0.5
             },
             "pattern": {
              "fillmode": "overlay",
              "size": 10,
              "solidity": 0.2
             }
            },
            "type": "bar"
           }
          ],
          "barpolar": [
           {
            "marker": {
             "line": {
              "color": "#E5ECF6",
              "width": 0.5
             },
             "pattern": {
              "fillmode": "overlay",
              "size": 10,
              "solidity": 0.2
             }
            },
            "type": "barpolar"
           }
          ],
          "carpet": [
           {
            "aaxis": {
             "endlinecolor": "#2a3f5f",
             "gridcolor": "white",
             "linecolor": "white",
             "minorgridcolor": "white",
             "startlinecolor": "#2a3f5f"
            },
            "baxis": {
             "endlinecolor": "#2a3f5f",
             "gridcolor": "white",
             "linecolor": "white",
             "minorgridcolor": "white",
             "startlinecolor": "#2a3f5f"
            },
            "type": "carpet"
           }
          ],
          "choropleth": [
           {
            "colorbar": {
             "outlinewidth": 0,
             "ticks": ""
            },
            "type": "choropleth"
           }
          ],
          "contour": [
           {
            "colorbar": {
             "outlinewidth": 0,
             "ticks": ""
            },
            "colorscale": [
             [
              0,
              "#0d0887"
             ],
             [
              0.1111111111111111,
              "#46039f"
             ],
             [
              0.2222222222222222,
              "#7201a8"
             ],
             [
              0.3333333333333333,
              "#9c179e"
             ],
             [
              0.4444444444444444,
              "#bd3786"
             ],
             [
              0.5555555555555556,
              "#d8576b"
             ],
             [
              0.6666666666666666,
              "#ed7953"
             ],
             [
              0.7777777777777778,
              "#fb9f3a"
             ],
             [
              0.8888888888888888,
              "#fdca26"
             ],
             [
              1,
              "#f0f921"
             ]
            ],
            "type": "contour"
           }
          ],
          "contourcarpet": [
           {
            "colorbar": {
             "outlinewidth": 0,
             "ticks": ""
            },
            "type": "contourcarpet"
           }
          ],
          "heatmap": [
           {
            "colorbar": {
             "outlinewidth": 0,
             "ticks": ""
            },
            "colorscale": [
             [
              0,
              "#0d0887"
             ],
             [
              0.1111111111111111,
              "#46039f"
             ],
             [
              0.2222222222222222,
              "#7201a8"
             ],
             [
              0.3333333333333333,
              "#9c179e"
             ],
             [
              0.4444444444444444,
              "#bd3786"
             ],
             [
              0.5555555555555556,
              "#d8576b"
             ],
             [
              0.6666666666666666,
              "#ed7953"
             ],
             [
              0.7777777777777778,
              "#fb9f3a"
             ],
             [
              0.8888888888888888,
              "#fdca26"
             ],
             [
              1,
              "#f0f921"
             ]
            ],
            "type": "heatmap"
           }
          ],
          "heatmapgl": [
           {
            "colorbar": {
             "outlinewidth": 0,
             "ticks": ""
            },
            "colorscale": [
             [
              0,
              "#0d0887"
             ],
             [
              0.1111111111111111,
              "#46039f"
             ],
             [
              0.2222222222222222,
              "#7201a8"
             ],
             [
              0.3333333333333333,
              "#9c179e"
             ],
             [
              0.4444444444444444,
              "#bd3786"
             ],
             [
              0.5555555555555556,
              "#d8576b"
             ],
             [
              0.6666666666666666,
              "#ed7953"
             ],
             [
              0.7777777777777778,
              "#fb9f3a"
             ],
             [
              0.8888888888888888,
              "#fdca26"
             ],
             [
              1,
              "#f0f921"
             ]
            ],
            "type": "heatmapgl"
           }
          ],
          "histogram": [
           {
            "marker": {
             "pattern": {
              "fillmode": "overlay",
              "size": 10,
              "solidity": 0.2
             }
            },
            "type": "histogram"
           }
          ],
          "histogram2d": [
           {
            "colorbar": {
             "outlinewidth": 0,
             "ticks": ""
            },
            "colorscale": [
             [
              0,
              "#0d0887"
             ],
             [
              0.1111111111111111,
              "#46039f"
             ],
             [
              0.2222222222222222,
              "#7201a8"
             ],
             [
              0.3333333333333333,
              "#9c179e"
             ],
             [
              0.4444444444444444,
              "#bd3786"
             ],
             [
              0.5555555555555556,
              "#d8576b"
             ],
             [
              0.6666666666666666,
              "#ed7953"
             ],
             [
              0.7777777777777778,
              "#fb9f3a"
             ],
             [
              0.8888888888888888,
              "#fdca26"
             ],
             [
              1,
              "#f0f921"
             ]
            ],
            "type": "histogram2d"
           }
          ],
          "histogram2dcontour": [
           {
            "colorbar": {
             "outlinewidth": 0,
             "ticks": ""
            },
            "colorscale": [
             [
              0,
              "#0d0887"
             ],
             [
              0.1111111111111111,
              "#46039f"
             ],
             [
              0.2222222222222222,
              "#7201a8"
             ],
             [
              0.3333333333333333,
              "#9c179e"
             ],
             [
              0.4444444444444444,
              "#bd3786"
             ],
             [
              0.5555555555555556,
              "#d8576b"
             ],
             [
              0.6666666666666666,
              "#ed7953"
             ],
             [
              0.7777777777777778,
              "#fb9f3a"
             ],
             [
              0.8888888888888888,
              "#fdca26"
             ],
             [
              1,
              "#f0f921"
             ]
            ],
            "type": "histogram2dcontour"
           }
          ],
          "mesh3d": [
           {
            "colorbar": {
             "outlinewidth": 0,
             "ticks": ""
            },
            "type": "mesh3d"
           }
          ],
          "parcoords": [
           {
            "line": {
             "colorbar": {
              "outlinewidth": 0,
              "ticks": ""
             }
            },
            "type": "parcoords"
           }
          ],
          "pie": [
           {
            "automargin": true,
            "type": "pie"
           }
          ],
          "scatter": [
           {
            "fillpattern": {
             "fillmode": "overlay",
             "size": 10,
             "solidity": 0.2
            },
            "type": "scatter"
           }
          ],
          "scatter3d": [
           {
            "line": {
             "colorbar": {
              "outlinewidth": 0,
              "ticks": ""
             }
            },
            "marker": {
             "colorbar": {
              "outlinewidth": 0,
              "ticks": ""
             }
            },
            "type": "scatter3d"
           }
          ],
          "scattercarpet": [
           {
            "marker": {
             "colorbar": {
              "outlinewidth": 0,
              "ticks": ""
             }
            },
            "type": "scattercarpet"
           }
          ],
          "scattergeo": [
           {
            "marker": {
             "colorbar": {
              "outlinewidth": 0,
              "ticks": ""
             }
            },
            "type": "scattergeo"
           }
          ],
          "scattergl": [
           {
            "marker": {
             "colorbar": {
              "outlinewidth": 0,
              "ticks": ""
             }
            },
            "type": "scattergl"
           }
          ],
          "scattermapbox": [
           {
            "marker": {
             "colorbar": {
              "outlinewidth": 0,
              "ticks": ""
             }
            },
            "type": "scattermapbox"
           }
          ],
          "scatterpolar": [
           {
            "marker": {
             "colorbar": {
              "outlinewidth": 0,
              "ticks": ""
             }
            },
            "type": "scatterpolar"
           }
          ],
          "scatterpolargl": [
           {
            "marker": {
             "colorbar": {
              "outlinewidth": 0,
              "ticks": ""
             }
            },
            "type": "scatterpolargl"
           }
          ],
          "scatterternary": [
           {
            "marker": {
             "colorbar": {
              "outlinewidth": 0,
              "ticks": ""
             }
            },
            "type": "scatterternary"
           }
          ],
          "surface": [
           {
            "colorbar": {
             "outlinewidth": 0,
             "ticks": ""
            },
            "colorscale": [
             [
              0,
              "#0d0887"
             ],
             [
              0.1111111111111111,
              "#46039f"
             ],
             [
              0.2222222222222222,
              "#7201a8"
             ],
             [
              0.3333333333333333,
              "#9c179e"
             ],
             [
              0.4444444444444444,
              "#bd3786"
             ],
             [
              0.5555555555555556,
              "#d8576b"
             ],
             [
              0.6666666666666666,
              "#ed7953"
             ],
             [
              0.7777777777777778,
              "#fb9f3a"
             ],
             [
              0.8888888888888888,
              "#fdca26"
             ],
             [
              1,
              "#f0f921"
             ]
            ],
            "type": "surface"
           }
          ],
          "table": [
           {
            "cells": {
             "fill": {
              "color": "#EBF0F8"
             },
             "line": {
              "color": "white"
             }
            },
            "header": {
             "fill": {
              "color": "#C8D4E3"
             },
             "line": {
              "color": "white"
             }
            },
            "type": "table"
           }
          ]
         },
         "layout": {
          "annotationdefaults": {
           "arrowcolor": "#2a3f5f",
           "arrowhead": 0,
           "arrowwidth": 1
          },
          "autotypenumbers": "strict",
          "coloraxis": {
           "colorbar": {
            "outlinewidth": 0,
            "ticks": ""
           }
          },
          "colorscale": {
           "diverging": [
            [
             0,
             "#8e0152"
            ],
            [
             0.1,
             "#c51b7d"
            ],
            [
             0.2,
             "#de77ae"
            ],
            [
             0.3,
             "#f1b6da"
            ],
            [
             0.4,
             "#fde0ef"
            ],
            [
             0.5,
             "#f7f7f7"
            ],
            [
             0.6,
             "#e6f5d0"
            ],
            [
             0.7,
             "#b8e186"
            ],
            [
             0.8,
             "#7fbc41"
            ],
            [
             0.9,
             "#4d9221"
            ],
            [
             1,
             "#276419"
            ]
           ],
           "sequential": [
            [
             0,
             "#0d0887"
            ],
            [
             0.1111111111111111,
             "#46039f"
            ],
            [
             0.2222222222222222,
             "#7201a8"
            ],
            [
             0.3333333333333333,
             "#9c179e"
            ],
            [
             0.4444444444444444,
             "#bd3786"
            ],
            [
             0.5555555555555556,
             "#d8576b"
            ],
            [
             0.6666666666666666,
             "#ed7953"
            ],
            [
             0.7777777777777778,
             "#fb9f3a"
            ],
            [
             0.8888888888888888,
             "#fdca26"
            ],
            [
             1,
             "#f0f921"
            ]
           ],
           "sequentialminus": [
            [
             0,
             "#0d0887"
            ],
            [
             0.1111111111111111,
             "#46039f"
            ],
            [
             0.2222222222222222,
             "#7201a8"
            ],
            [
             0.3333333333333333,
             "#9c179e"
            ],
            [
             0.4444444444444444,
             "#bd3786"
            ],
            [
             0.5555555555555556,
             "#d8576b"
            ],
            [
             0.6666666666666666,
             "#ed7953"
            ],
            [
             0.7777777777777778,
             "#fb9f3a"
            ],
            [
             0.8888888888888888,
             "#fdca26"
            ],
            [
             1,
             "#f0f921"
            ]
           ]
          },
          "colorway": [
           "#636efa",
           "#EF553B",
           "#00cc96",
           "#ab63fa",
           "#FFA15A",
           "#19d3f3",
           "#FF6692",
           "#B6E880",
           "#FF97FF",
           "#FECB52"
          ],
          "font": {
           "color": "#2a3f5f"
          },
          "geo": {
           "bgcolor": "white",
           "lakecolor": "white",
           "landcolor": "#E5ECF6",
           "showlakes": true,
           "showland": true,
           "subunitcolor": "white"
          },
          "hoverlabel": {
           "align": "left"
          },
          "hovermode": "closest",
          "mapbox": {
           "style": "light"
          },
          "paper_bgcolor": "white",
          "plot_bgcolor": "#E5ECF6",
          "polar": {
           "angularaxis": {
            "gridcolor": "white",
            "linecolor": "white",
            "ticks": ""
           },
           "bgcolor": "#E5ECF6",
           "radialaxis": {
            "gridcolor": "white",
            "linecolor": "white",
            "ticks": ""
           }
          },
          "scene": {
           "xaxis": {
            "backgroundcolor": "#E5ECF6",
            "gridcolor": "white",
            "gridwidth": 2,
            "linecolor": "white",
            "showbackground": true,
            "ticks": "",
            "zerolinecolor": "white"
           },
           "yaxis": {
            "backgroundcolor": "#E5ECF6",
            "gridcolor": "white",
            "gridwidth": 2,
            "linecolor": "white",
            "showbackground": true,
            "ticks": "",
            "zerolinecolor": "white"
           },
           "zaxis": {
            "backgroundcolor": "#E5ECF6",
            "gridcolor": "white",
            "gridwidth": 2,
            "linecolor": "white",
            "showbackground": true,
            "ticks": "",
            "zerolinecolor": "white"
           }
          },
          "shapedefaults": {
           "line": {
            "color": "#2a3f5f"
           }
          },
          "ternary": {
           "aaxis": {
            "gridcolor": "white",
            "linecolor": "white",
            "ticks": ""
           },
           "baxis": {
            "gridcolor": "white",
            "linecolor": "white",
            "ticks": ""
           },
           "bgcolor": "#E5ECF6",
           "caxis": {
            "gridcolor": "white",
            "linecolor": "white",
            "ticks": ""
           }
          },
          "title": {
           "x": 0.05
          },
          "xaxis": {
           "automargin": true,
           "gridcolor": "white",
           "linecolor": "white",
           "ticks": "",
           "title": {
            "standoff": 15
           },
           "zerolinecolor": "white",
           "zerolinewidth": 2
          },
          "yaxis": {
           "automargin": true,
           "gridcolor": "white",
           "linecolor": "white",
           "ticks": "",
           "title": {
            "standoff": 15
           },
           "zerolinecolor": "white",
           "zerolinewidth": 2
          }
         }
        },
        "xaxis": {
         "anchor": "y",
         "domain": [
          0,
          1
         ],
         "title": {
          "text": "filter"
         }
        },
        "yaxis": {
         "anchor": "x",
         "domain": [
          0,
          1
         ],
         "title": {
          "text": "val"
         }
        }
       }
      }
     },
     "metadata": {},
     "output_type": "display_data"
    }
   ],
   "source": [
    "ex.bar(filterCaseDf, x=\"filter\", y=\"val\", text_auto=True)"
   ]
  },
  {
   "cell_type": "code",
   "execution_count": 46,
   "metadata": {},
   "outputs": [
    {
     "data": {
      "text/plain": [
       "82840"
      ]
     },
     "execution_count": 46,
     "metadata": {},
     "output_type": "execute_result"
    }
   ],
   "source": [
    "totalRemoved = totalScopeFilterByFilesAndPart - len(targetCaseDf) \n",
    "totalRemoved"
   ]
  },
  {
   "cell_type": "code",
   "execution_count": 47,
   "metadata": {},
   "outputs": [
    {
     "data": {
      "application/vnd.plotly.v1+json": {
       "config": {
        "plotlyServerURL": "https://plot.ly"
       },
       "data": [
        {
         "labels": [
          "Case Data Used",
          "Case Data Removed"
         ],
         "type": "pie",
         "values": [
          598126,
          82840
         ]
        }
       ],
       "layout": {
        "template": {
         "data": {
          "bar": [
           {
            "error_x": {
             "color": "#2a3f5f"
            },
            "error_y": {
             "color": "#2a3f5f"
            },
            "marker": {
             "line": {
              "color": "#E5ECF6",
              "width": 0.5
             },
             "pattern": {
              "fillmode": "overlay",
              "size": 10,
              "solidity": 0.2
             }
            },
            "type": "bar"
           }
          ],
          "barpolar": [
           {
            "marker": {
             "line": {
              "color": "#E5ECF6",
              "width": 0.5
             },
             "pattern": {
              "fillmode": "overlay",
              "size": 10,
              "solidity": 0.2
             }
            },
            "type": "barpolar"
           }
          ],
          "carpet": [
           {
            "aaxis": {
             "endlinecolor": "#2a3f5f",
             "gridcolor": "white",
             "linecolor": "white",
             "minorgridcolor": "white",
             "startlinecolor": "#2a3f5f"
            },
            "baxis": {
             "endlinecolor": "#2a3f5f",
             "gridcolor": "white",
             "linecolor": "white",
             "minorgridcolor": "white",
             "startlinecolor": "#2a3f5f"
            },
            "type": "carpet"
           }
          ],
          "choropleth": [
           {
            "colorbar": {
             "outlinewidth": 0,
             "ticks": ""
            },
            "type": "choropleth"
           }
          ],
          "contour": [
           {
            "colorbar": {
             "outlinewidth": 0,
             "ticks": ""
            },
            "colorscale": [
             [
              0,
              "#0d0887"
             ],
             [
              0.1111111111111111,
              "#46039f"
             ],
             [
              0.2222222222222222,
              "#7201a8"
             ],
             [
              0.3333333333333333,
              "#9c179e"
             ],
             [
              0.4444444444444444,
              "#bd3786"
             ],
             [
              0.5555555555555556,
              "#d8576b"
             ],
             [
              0.6666666666666666,
              "#ed7953"
             ],
             [
              0.7777777777777778,
              "#fb9f3a"
             ],
             [
              0.8888888888888888,
              "#fdca26"
             ],
             [
              1,
              "#f0f921"
             ]
            ],
            "type": "contour"
           }
          ],
          "contourcarpet": [
           {
            "colorbar": {
             "outlinewidth": 0,
             "ticks": ""
            },
            "type": "contourcarpet"
           }
          ],
          "heatmap": [
           {
            "colorbar": {
             "outlinewidth": 0,
             "ticks": ""
            },
            "colorscale": [
             [
              0,
              "#0d0887"
             ],
             [
              0.1111111111111111,
              "#46039f"
             ],
             [
              0.2222222222222222,
              "#7201a8"
             ],
             [
              0.3333333333333333,
              "#9c179e"
             ],
             [
              0.4444444444444444,
              "#bd3786"
             ],
             [
              0.5555555555555556,
              "#d8576b"
             ],
             [
              0.6666666666666666,
              "#ed7953"
             ],
             [
              0.7777777777777778,
              "#fb9f3a"
             ],
             [
              0.8888888888888888,
              "#fdca26"
             ],
             [
              1,
              "#f0f921"
             ]
            ],
            "type": "heatmap"
           }
          ],
          "heatmapgl": [
           {
            "colorbar": {
             "outlinewidth": 0,
             "ticks": ""
            },
            "colorscale": [
             [
              0,
              "#0d0887"
             ],
             [
              0.1111111111111111,
              "#46039f"
             ],
             [
              0.2222222222222222,
              "#7201a8"
             ],
             [
              0.3333333333333333,
              "#9c179e"
             ],
             [
              0.4444444444444444,
              "#bd3786"
             ],
             [
              0.5555555555555556,
              "#d8576b"
             ],
             [
              0.6666666666666666,
              "#ed7953"
             ],
             [
              0.7777777777777778,
              "#fb9f3a"
             ],
             [
              0.8888888888888888,
              "#fdca26"
             ],
             [
              1,
              "#f0f921"
             ]
            ],
            "type": "heatmapgl"
           }
          ],
          "histogram": [
           {
            "marker": {
             "pattern": {
              "fillmode": "overlay",
              "size": 10,
              "solidity": 0.2
             }
            },
            "type": "histogram"
           }
          ],
          "histogram2d": [
           {
            "colorbar": {
             "outlinewidth": 0,
             "ticks": ""
            },
            "colorscale": [
             [
              0,
              "#0d0887"
             ],
             [
              0.1111111111111111,
              "#46039f"
             ],
             [
              0.2222222222222222,
              "#7201a8"
             ],
             [
              0.3333333333333333,
              "#9c179e"
             ],
             [
              0.4444444444444444,
              "#bd3786"
             ],
             [
              0.5555555555555556,
              "#d8576b"
             ],
             [
              0.6666666666666666,
              "#ed7953"
             ],
             [
              0.7777777777777778,
              "#fb9f3a"
             ],
             [
              0.8888888888888888,
              "#fdca26"
             ],
             [
              1,
              "#f0f921"
             ]
            ],
            "type": "histogram2d"
           }
          ],
          "histogram2dcontour": [
           {
            "colorbar": {
             "outlinewidth": 0,
             "ticks": ""
            },
            "colorscale": [
             [
              0,
              "#0d0887"
             ],
             [
              0.1111111111111111,
              "#46039f"
             ],
             [
              0.2222222222222222,
              "#7201a8"
             ],
             [
              0.3333333333333333,
              "#9c179e"
             ],
             [
              0.4444444444444444,
              "#bd3786"
             ],
             [
              0.5555555555555556,
              "#d8576b"
             ],
             [
              0.6666666666666666,
              "#ed7953"
             ],
             [
              0.7777777777777778,
              "#fb9f3a"
             ],
             [
              0.8888888888888888,
              "#fdca26"
             ],
             [
              1,
              "#f0f921"
             ]
            ],
            "type": "histogram2dcontour"
           }
          ],
          "mesh3d": [
           {
            "colorbar": {
             "outlinewidth": 0,
             "ticks": ""
            },
            "type": "mesh3d"
           }
          ],
          "parcoords": [
           {
            "line": {
             "colorbar": {
              "outlinewidth": 0,
              "ticks": ""
             }
            },
            "type": "parcoords"
           }
          ],
          "pie": [
           {
            "automargin": true,
            "type": "pie"
           }
          ],
          "scatter": [
           {
            "fillpattern": {
             "fillmode": "overlay",
             "size": 10,
             "solidity": 0.2
            },
            "type": "scatter"
           }
          ],
          "scatter3d": [
           {
            "line": {
             "colorbar": {
              "outlinewidth": 0,
              "ticks": ""
             }
            },
            "marker": {
             "colorbar": {
              "outlinewidth": 0,
              "ticks": ""
             }
            },
            "type": "scatter3d"
           }
          ],
          "scattercarpet": [
           {
            "marker": {
             "colorbar": {
              "outlinewidth": 0,
              "ticks": ""
             }
            },
            "type": "scattercarpet"
           }
          ],
          "scattergeo": [
           {
            "marker": {
             "colorbar": {
              "outlinewidth": 0,
              "ticks": ""
             }
            },
            "type": "scattergeo"
           }
          ],
          "scattergl": [
           {
            "marker": {
             "colorbar": {
              "outlinewidth": 0,
              "ticks": ""
             }
            },
            "type": "scattergl"
           }
          ],
          "scattermapbox": [
           {
            "marker": {
             "colorbar": {
              "outlinewidth": 0,
              "ticks": ""
             }
            },
            "type": "scattermapbox"
           }
          ],
          "scatterpolar": [
           {
            "marker": {
             "colorbar": {
              "outlinewidth": 0,
              "ticks": ""
             }
            },
            "type": "scatterpolar"
           }
          ],
          "scatterpolargl": [
           {
            "marker": {
             "colorbar": {
              "outlinewidth": 0,
              "ticks": ""
             }
            },
            "type": "scatterpolargl"
           }
          ],
          "scatterternary": [
           {
            "marker": {
             "colorbar": {
              "outlinewidth": 0,
              "ticks": ""
             }
            },
            "type": "scatterternary"
           }
          ],
          "surface": [
           {
            "colorbar": {
             "outlinewidth": 0,
             "ticks": ""
            },
            "colorscale": [
             [
              0,
              "#0d0887"
             ],
             [
              0.1111111111111111,
              "#46039f"
             ],
             [
              0.2222222222222222,
              "#7201a8"
             ],
             [
              0.3333333333333333,
              "#9c179e"
             ],
             [
              0.4444444444444444,
              "#bd3786"
             ],
             [
              0.5555555555555556,
              "#d8576b"
             ],
             [
              0.6666666666666666,
              "#ed7953"
             ],
             [
              0.7777777777777778,
              "#fb9f3a"
             ],
             [
              0.8888888888888888,
              "#fdca26"
             ],
             [
              1,
              "#f0f921"
             ]
            ],
            "type": "surface"
           }
          ],
          "table": [
           {
            "cells": {
             "fill": {
              "color": "#EBF0F8"
             },
             "line": {
              "color": "white"
             }
            },
            "header": {
             "fill": {
              "color": "#C8D4E3"
             },
             "line": {
              "color": "white"
             }
            },
            "type": "table"
           }
          ]
         },
         "layout": {
          "annotationdefaults": {
           "arrowcolor": "#2a3f5f",
           "arrowhead": 0,
           "arrowwidth": 1
          },
          "autotypenumbers": "strict",
          "coloraxis": {
           "colorbar": {
            "outlinewidth": 0,
            "ticks": ""
           }
          },
          "colorscale": {
           "diverging": [
            [
             0,
             "#8e0152"
            ],
            [
             0.1,
             "#c51b7d"
            ],
            [
             0.2,
             "#de77ae"
            ],
            [
             0.3,
             "#f1b6da"
            ],
            [
             0.4,
             "#fde0ef"
            ],
            [
             0.5,
             "#f7f7f7"
            ],
            [
             0.6,
             "#e6f5d0"
            ],
            [
             0.7,
             "#b8e186"
            ],
            [
             0.8,
             "#7fbc41"
            ],
            [
             0.9,
             "#4d9221"
            ],
            [
             1,
             "#276419"
            ]
           ],
           "sequential": [
            [
             0,
             "#0d0887"
            ],
            [
             0.1111111111111111,
             "#46039f"
            ],
            [
             0.2222222222222222,
             "#7201a8"
            ],
            [
             0.3333333333333333,
             "#9c179e"
            ],
            [
             0.4444444444444444,
             "#bd3786"
            ],
            [
             0.5555555555555556,
             "#d8576b"
            ],
            [
             0.6666666666666666,
             "#ed7953"
            ],
            [
             0.7777777777777778,
             "#fb9f3a"
            ],
            [
             0.8888888888888888,
             "#fdca26"
            ],
            [
             1,
             "#f0f921"
            ]
           ],
           "sequentialminus": [
            [
             0,
             "#0d0887"
            ],
            [
             0.1111111111111111,
             "#46039f"
            ],
            [
             0.2222222222222222,
             "#7201a8"
            ],
            [
             0.3333333333333333,
             "#9c179e"
            ],
            [
             0.4444444444444444,
             "#bd3786"
            ],
            [
             0.5555555555555556,
             "#d8576b"
            ],
            [
             0.6666666666666666,
             "#ed7953"
            ],
            [
             0.7777777777777778,
             "#fb9f3a"
            ],
            [
             0.8888888888888888,
             "#fdca26"
            ],
            [
             1,
             "#f0f921"
            ]
           ]
          },
          "colorway": [
           "#636efa",
           "#EF553B",
           "#00cc96",
           "#ab63fa",
           "#FFA15A",
           "#19d3f3",
           "#FF6692",
           "#B6E880",
           "#FF97FF",
           "#FECB52"
          ],
          "font": {
           "color": "#2a3f5f"
          },
          "geo": {
           "bgcolor": "white",
           "lakecolor": "white",
           "landcolor": "#E5ECF6",
           "showlakes": true,
           "showland": true,
           "subunitcolor": "white"
          },
          "hoverlabel": {
           "align": "left"
          },
          "hovermode": "closest",
          "mapbox": {
           "style": "light"
          },
          "paper_bgcolor": "white",
          "plot_bgcolor": "#E5ECF6",
          "polar": {
           "angularaxis": {
            "gridcolor": "white",
            "linecolor": "white",
            "ticks": ""
           },
           "bgcolor": "#E5ECF6",
           "radialaxis": {
            "gridcolor": "white",
            "linecolor": "white",
            "ticks": ""
           }
          },
          "scene": {
           "xaxis": {
            "backgroundcolor": "#E5ECF6",
            "gridcolor": "white",
            "gridwidth": 2,
            "linecolor": "white",
            "showbackground": true,
            "ticks": "",
            "zerolinecolor": "white"
           },
           "yaxis": {
            "backgroundcolor": "#E5ECF6",
            "gridcolor": "white",
            "gridwidth": 2,
            "linecolor": "white",
            "showbackground": true,
            "ticks": "",
            "zerolinecolor": "white"
           },
           "zaxis": {
            "backgroundcolor": "#E5ECF6",
            "gridcolor": "white",
            "gridwidth": 2,
            "linecolor": "white",
            "showbackground": true,
            "ticks": "",
            "zerolinecolor": "white"
           }
          },
          "shapedefaults": {
           "line": {
            "color": "#2a3f5f"
           }
          },
          "ternary": {
           "aaxis": {
            "gridcolor": "white",
            "linecolor": "white",
            "ticks": ""
           },
           "baxis": {
            "gridcolor": "white",
            "linecolor": "white",
            "ticks": ""
           },
           "bgcolor": "#E5ECF6",
           "caxis": {
            "gridcolor": "white",
            "linecolor": "white",
            "ticks": ""
           }
          },
          "title": {
           "x": 0.05
          },
          "xaxis": {
           "automargin": true,
           "gridcolor": "white",
           "linecolor": "white",
           "ticks": "",
           "title": {
            "standoff": 15
           },
           "zerolinecolor": "white",
           "zerolinewidth": 2
          },
          "yaxis": {
           "automargin": true,
           "gridcolor": "white",
           "linecolor": "white",
           "ticks": "",
           "title": {
            "standoff": 15
           },
           "zerolinecolor": "white",
           "zerolinewidth": 2
          }
         }
        },
        "title": {
         "text": "Total case after remove by image files and partlist"
        }
       }
      }
     },
     "metadata": {},
     "output_type": "display_data"
    }
   ],
   "source": [
    "totalRemoved = totalScopeFilterByFilesAndPart - len(targetCaseDf) \n",
    "totalRemoved\n",
    "\n",
    "\n",
    "fig = go.Figure(data=[go.Pie(labels=[\"Case Data Used\", \n",
    "                                     \"Case Data Removed\",\n",
    "                                     ], \\\n",
    "                             values=[len(targetCaseDf), totalRemoved])])\n",
    "fig.update_layout(title=\"Total case after remove by image files and partlist\")\n",
    "\n",
    "fig.show()"
   ]
  },
  {
   "cell_type": "code",
   "execution_count": 48,
   "metadata": {},
   "outputs": [
    {
     "data": {
      "application/vnd.plotly.v1+json": {
       "config": {
        "plotlyServerURL": "https://plot.ly"
       },
       "data": [
        {
         "labels": [
          "Case Data Used",
          "Case Data Removed"
         ],
         "type": "pie",
         "values": [
          598126,
          236684
         ]
        }
       ],
       "layout": {
        "template": {
         "data": {
          "bar": [
           {
            "error_x": {
             "color": "#2a3f5f"
            },
            "error_y": {
             "color": "#2a3f5f"
            },
            "marker": {
             "line": {
              "color": "#E5ECF6",
              "width": 0.5
             },
             "pattern": {
              "fillmode": "overlay",
              "size": 10,
              "solidity": 0.2
             }
            },
            "type": "bar"
           }
          ],
          "barpolar": [
           {
            "marker": {
             "line": {
              "color": "#E5ECF6",
              "width": 0.5
             },
             "pattern": {
              "fillmode": "overlay",
              "size": 10,
              "solidity": 0.2
             }
            },
            "type": "barpolar"
           }
          ],
          "carpet": [
           {
            "aaxis": {
             "endlinecolor": "#2a3f5f",
             "gridcolor": "white",
             "linecolor": "white",
             "minorgridcolor": "white",
             "startlinecolor": "#2a3f5f"
            },
            "baxis": {
             "endlinecolor": "#2a3f5f",
             "gridcolor": "white",
             "linecolor": "white",
             "minorgridcolor": "white",
             "startlinecolor": "#2a3f5f"
            },
            "type": "carpet"
           }
          ],
          "choropleth": [
           {
            "colorbar": {
             "outlinewidth": 0,
             "ticks": ""
            },
            "type": "choropleth"
           }
          ],
          "contour": [
           {
            "colorbar": {
             "outlinewidth": 0,
             "ticks": ""
            },
            "colorscale": [
             [
              0,
              "#0d0887"
             ],
             [
              0.1111111111111111,
              "#46039f"
             ],
             [
              0.2222222222222222,
              "#7201a8"
             ],
             [
              0.3333333333333333,
              "#9c179e"
             ],
             [
              0.4444444444444444,
              "#bd3786"
             ],
             [
              0.5555555555555556,
              "#d8576b"
             ],
             [
              0.6666666666666666,
              "#ed7953"
             ],
             [
              0.7777777777777778,
              "#fb9f3a"
             ],
             [
              0.8888888888888888,
              "#fdca26"
             ],
             [
              1,
              "#f0f921"
             ]
            ],
            "type": "contour"
           }
          ],
          "contourcarpet": [
           {
            "colorbar": {
             "outlinewidth": 0,
             "ticks": ""
            },
            "type": "contourcarpet"
           }
          ],
          "heatmap": [
           {
            "colorbar": {
             "outlinewidth": 0,
             "ticks": ""
            },
            "colorscale": [
             [
              0,
              "#0d0887"
             ],
             [
              0.1111111111111111,
              "#46039f"
             ],
             [
              0.2222222222222222,
              "#7201a8"
             ],
             [
              0.3333333333333333,
              "#9c179e"
             ],
             [
              0.4444444444444444,
              "#bd3786"
             ],
             [
              0.5555555555555556,
              "#d8576b"
             ],
             [
              0.6666666666666666,
              "#ed7953"
             ],
             [
              0.7777777777777778,
              "#fb9f3a"
             ],
             [
              0.8888888888888888,
              "#fdca26"
             ],
             [
              1,
              "#f0f921"
             ]
            ],
            "type": "heatmap"
           }
          ],
          "heatmapgl": [
           {
            "colorbar": {
             "outlinewidth": 0,
             "ticks": ""
            },
            "colorscale": [
             [
              0,
              "#0d0887"
             ],
             [
              0.1111111111111111,
              "#46039f"
             ],
             [
              0.2222222222222222,
              "#7201a8"
             ],
             [
              0.3333333333333333,
              "#9c179e"
             ],
             [
              0.4444444444444444,
              "#bd3786"
             ],
             [
              0.5555555555555556,
              "#d8576b"
             ],
             [
              0.6666666666666666,
              "#ed7953"
             ],
             [
              0.7777777777777778,
              "#fb9f3a"
             ],
             [
              0.8888888888888888,
              "#fdca26"
             ],
             [
              1,
              "#f0f921"
             ]
            ],
            "type": "heatmapgl"
           }
          ],
          "histogram": [
           {
            "marker": {
             "pattern": {
              "fillmode": "overlay",
              "size": 10,
              "solidity": 0.2
             }
            },
            "type": "histogram"
           }
          ],
          "histogram2d": [
           {
            "colorbar": {
             "outlinewidth": 0,
             "ticks": ""
            },
            "colorscale": [
             [
              0,
              "#0d0887"
             ],
             [
              0.1111111111111111,
              "#46039f"
             ],
             [
              0.2222222222222222,
              "#7201a8"
             ],
             [
              0.3333333333333333,
              "#9c179e"
             ],
             [
              0.4444444444444444,
              "#bd3786"
             ],
             [
              0.5555555555555556,
              "#d8576b"
             ],
             [
              0.6666666666666666,
              "#ed7953"
             ],
             [
              0.7777777777777778,
              "#fb9f3a"
             ],
             [
              0.8888888888888888,
              "#fdca26"
             ],
             [
              1,
              "#f0f921"
             ]
            ],
            "type": "histogram2d"
           }
          ],
          "histogram2dcontour": [
           {
            "colorbar": {
             "outlinewidth": 0,
             "ticks": ""
            },
            "colorscale": [
             [
              0,
              "#0d0887"
             ],
             [
              0.1111111111111111,
              "#46039f"
             ],
             [
              0.2222222222222222,
              "#7201a8"
             ],
             [
              0.3333333333333333,
              "#9c179e"
             ],
             [
              0.4444444444444444,
              "#bd3786"
             ],
             [
              0.5555555555555556,
              "#d8576b"
             ],
             [
              0.6666666666666666,
              "#ed7953"
             ],
             [
              0.7777777777777778,
              "#fb9f3a"
             ],
             [
              0.8888888888888888,
              "#fdca26"
             ],
             [
              1,
              "#f0f921"
             ]
            ],
            "type": "histogram2dcontour"
           }
          ],
          "mesh3d": [
           {
            "colorbar": {
             "outlinewidth": 0,
             "ticks": ""
            },
            "type": "mesh3d"
           }
          ],
          "parcoords": [
           {
            "line": {
             "colorbar": {
              "outlinewidth": 0,
              "ticks": ""
             }
            },
            "type": "parcoords"
           }
          ],
          "pie": [
           {
            "automargin": true,
            "type": "pie"
           }
          ],
          "scatter": [
           {
            "fillpattern": {
             "fillmode": "overlay",
             "size": 10,
             "solidity": 0.2
            },
            "type": "scatter"
           }
          ],
          "scatter3d": [
           {
            "line": {
             "colorbar": {
              "outlinewidth": 0,
              "ticks": ""
             }
            },
            "marker": {
             "colorbar": {
              "outlinewidth": 0,
              "ticks": ""
             }
            },
            "type": "scatter3d"
           }
          ],
          "scattercarpet": [
           {
            "marker": {
             "colorbar": {
              "outlinewidth": 0,
              "ticks": ""
             }
            },
            "type": "scattercarpet"
           }
          ],
          "scattergeo": [
           {
            "marker": {
             "colorbar": {
              "outlinewidth": 0,
              "ticks": ""
             }
            },
            "type": "scattergeo"
           }
          ],
          "scattergl": [
           {
            "marker": {
             "colorbar": {
              "outlinewidth": 0,
              "ticks": ""
             }
            },
            "type": "scattergl"
           }
          ],
          "scattermapbox": [
           {
            "marker": {
             "colorbar": {
              "outlinewidth": 0,
              "ticks": ""
             }
            },
            "type": "scattermapbox"
           }
          ],
          "scatterpolar": [
           {
            "marker": {
             "colorbar": {
              "outlinewidth": 0,
              "ticks": ""
             }
            },
            "type": "scatterpolar"
           }
          ],
          "scatterpolargl": [
           {
            "marker": {
             "colorbar": {
              "outlinewidth": 0,
              "ticks": ""
             }
            },
            "type": "scatterpolargl"
           }
          ],
          "scatterternary": [
           {
            "marker": {
             "colorbar": {
              "outlinewidth": 0,
              "ticks": ""
             }
            },
            "type": "scatterternary"
           }
          ],
          "surface": [
           {
            "colorbar": {
             "outlinewidth": 0,
             "ticks": ""
            },
            "colorscale": [
             [
              0,
              "#0d0887"
             ],
             [
              0.1111111111111111,
              "#46039f"
             ],
             [
              0.2222222222222222,
              "#7201a8"
             ],
             [
              0.3333333333333333,
              "#9c179e"
             ],
             [
              0.4444444444444444,
              "#bd3786"
             ],
             [
              0.5555555555555556,
              "#d8576b"
             ],
             [
              0.6666666666666666,
              "#ed7953"
             ],
             [
              0.7777777777777778,
              "#fb9f3a"
             ],
             [
              0.8888888888888888,
              "#fdca26"
             ],
             [
              1,
              "#f0f921"
             ]
            ],
            "type": "surface"
           }
          ],
          "table": [
           {
            "cells": {
             "fill": {
              "color": "#EBF0F8"
             },
             "line": {
              "color": "white"
             }
            },
            "header": {
             "fill": {
              "color": "#C8D4E3"
             },
             "line": {
              "color": "white"
             }
            },
            "type": "table"
           }
          ]
         },
         "layout": {
          "annotationdefaults": {
           "arrowcolor": "#2a3f5f",
           "arrowhead": 0,
           "arrowwidth": 1
          },
          "autotypenumbers": "strict",
          "coloraxis": {
           "colorbar": {
            "outlinewidth": 0,
            "ticks": ""
           }
          },
          "colorscale": {
           "diverging": [
            [
             0,
             "#8e0152"
            ],
            [
             0.1,
             "#c51b7d"
            ],
            [
             0.2,
             "#de77ae"
            ],
            [
             0.3,
             "#f1b6da"
            ],
            [
             0.4,
             "#fde0ef"
            ],
            [
             0.5,
             "#f7f7f7"
            ],
            [
             0.6,
             "#e6f5d0"
            ],
            [
             0.7,
             "#b8e186"
            ],
            [
             0.8,
             "#7fbc41"
            ],
            [
             0.9,
             "#4d9221"
            ],
            [
             1,
             "#276419"
            ]
           ],
           "sequential": [
            [
             0,
             "#0d0887"
            ],
            [
             0.1111111111111111,
             "#46039f"
            ],
            [
             0.2222222222222222,
             "#7201a8"
            ],
            [
             0.3333333333333333,
             "#9c179e"
            ],
            [
             0.4444444444444444,
             "#bd3786"
            ],
            [
             0.5555555555555556,
             "#d8576b"
            ],
            [
             0.6666666666666666,
             "#ed7953"
            ],
            [
             0.7777777777777778,
             "#fb9f3a"
            ],
            [
             0.8888888888888888,
             "#fdca26"
            ],
            [
             1,
             "#f0f921"
            ]
           ],
           "sequentialminus": [
            [
             0,
             "#0d0887"
            ],
            [
             0.1111111111111111,
             "#46039f"
            ],
            [
             0.2222222222222222,
             "#7201a8"
            ],
            [
             0.3333333333333333,
             "#9c179e"
            ],
            [
             0.4444444444444444,
             "#bd3786"
            ],
            [
             0.5555555555555556,
             "#d8576b"
            ],
            [
             0.6666666666666666,
             "#ed7953"
            ],
            [
             0.7777777777777778,
             "#fb9f3a"
            ],
            [
             0.8888888888888888,
             "#fdca26"
            ],
            [
             1,
             "#f0f921"
            ]
           ]
          },
          "colorway": [
           "#636efa",
           "#EF553B",
           "#00cc96",
           "#ab63fa",
           "#FFA15A",
           "#19d3f3",
           "#FF6692",
           "#B6E880",
           "#FF97FF",
           "#FECB52"
          ],
          "font": {
           "color": "#2a3f5f"
          },
          "geo": {
           "bgcolor": "white",
           "lakecolor": "white",
           "landcolor": "#E5ECF6",
           "showlakes": true,
           "showland": true,
           "subunitcolor": "white"
          },
          "hoverlabel": {
           "align": "left"
          },
          "hovermode": "closest",
          "mapbox": {
           "style": "light"
          },
          "paper_bgcolor": "white",
          "plot_bgcolor": "#E5ECF6",
          "polar": {
           "angularaxis": {
            "gridcolor": "white",
            "linecolor": "white",
            "ticks": ""
           },
           "bgcolor": "#E5ECF6",
           "radialaxis": {
            "gridcolor": "white",
            "linecolor": "white",
            "ticks": ""
           }
          },
          "scene": {
           "xaxis": {
            "backgroundcolor": "#E5ECF6",
            "gridcolor": "white",
            "gridwidth": 2,
            "linecolor": "white",
            "showbackground": true,
            "ticks": "",
            "zerolinecolor": "white"
           },
           "yaxis": {
            "backgroundcolor": "#E5ECF6",
            "gridcolor": "white",
            "gridwidth": 2,
            "linecolor": "white",
            "showbackground": true,
            "ticks": "",
            "zerolinecolor": "white"
           },
           "zaxis": {
            "backgroundcolor": "#E5ECF6",
            "gridcolor": "white",
            "gridwidth": 2,
            "linecolor": "white",
            "showbackground": true,
            "ticks": "",
            "zerolinecolor": "white"
           }
          },
          "shapedefaults": {
           "line": {
            "color": "#2a3f5f"
           }
          },
          "ternary": {
           "aaxis": {
            "gridcolor": "white",
            "linecolor": "white",
            "ticks": ""
           },
           "baxis": {
            "gridcolor": "white",
            "linecolor": "white",
            "ticks": ""
           },
           "bgcolor": "#E5ECF6",
           "caxis": {
            "gridcolor": "white",
            "linecolor": "white",
            "ticks": ""
           }
          },
          "title": {
           "x": 0.05
          },
          "xaxis": {
           "automargin": true,
           "gridcolor": "white",
           "linecolor": "white",
           "ticks": "",
           "title": {
            "standoff": 15
           },
           "zerolinecolor": "white",
           "zerolinewidth": 2
          },
          "yaxis": {
           "automargin": true,
           "gridcolor": "white",
           "linecolor": "white",
           "ticks": "",
           "title": {
            "standoff": 15
           },
           "zerolinecolor": "white",
           "zerolinewidth": 2
          }
         }
        },
        "title": {
         "text": "Total case after remove by image files only"
        }
       }
      }
     },
     "metadata": {},
     "output_type": "display_data"
    }
   ],
   "source": [
    "totalRemoved = totalScopeFilterByFiles - len(targetCaseDf) \n",
    "totalRemoved\n",
    "\n",
    "\n",
    "fig = go.Figure(data=[go.Pie(labels=[\"Case Data Used\", \n",
    "                                     \"Case Data Removed\",\n",
    "                                     ], \\\n",
    "                             values=[len(targetCaseDf), totalRemoved])])\n",
    "fig.update_layout(title=\"Total case after remove by image files only\")\n",
    "\n",
    "fig.show()"
   ]
  },
  {
   "cell_type": "code",
   "execution_count": 49,
   "metadata": {},
   "outputs": [
    {
     "data": {
      "application/vnd.plotly.v1+json": {
       "config": {
        "plotlyServerURL": "https://plot.ly"
       },
       "data": [
        {
         "labels": [
          "Case Data Used",
          "Case Data Removed"
         ],
         "type": "pie",
         "values": [
          598126,
          946590
         ]
        }
       ],
       "layout": {
        "template": {
         "data": {
          "bar": [
           {
            "error_x": {
             "color": "#2a3f5f"
            },
            "error_y": {
             "color": "#2a3f5f"
            },
            "marker": {
             "line": {
              "color": "#E5ECF6",
              "width": 0.5
             },
             "pattern": {
              "fillmode": "overlay",
              "size": 10,
              "solidity": 0.2
             }
            },
            "type": "bar"
           }
          ],
          "barpolar": [
           {
            "marker": {
             "line": {
              "color": "#E5ECF6",
              "width": 0.5
             },
             "pattern": {
              "fillmode": "overlay",
              "size": 10,
              "solidity": 0.2
             }
            },
            "type": "barpolar"
           }
          ],
          "carpet": [
           {
            "aaxis": {
             "endlinecolor": "#2a3f5f",
             "gridcolor": "white",
             "linecolor": "white",
             "minorgridcolor": "white",
             "startlinecolor": "#2a3f5f"
            },
            "baxis": {
             "endlinecolor": "#2a3f5f",
             "gridcolor": "white",
             "linecolor": "white",
             "minorgridcolor": "white",
             "startlinecolor": "#2a3f5f"
            },
            "type": "carpet"
           }
          ],
          "choropleth": [
           {
            "colorbar": {
             "outlinewidth": 0,
             "ticks": ""
            },
            "type": "choropleth"
           }
          ],
          "contour": [
           {
            "colorbar": {
             "outlinewidth": 0,
             "ticks": ""
            },
            "colorscale": [
             [
              0,
              "#0d0887"
             ],
             [
              0.1111111111111111,
              "#46039f"
             ],
             [
              0.2222222222222222,
              "#7201a8"
             ],
             [
              0.3333333333333333,
              "#9c179e"
             ],
             [
              0.4444444444444444,
              "#bd3786"
             ],
             [
              0.5555555555555556,
              "#d8576b"
             ],
             [
              0.6666666666666666,
              "#ed7953"
             ],
             [
              0.7777777777777778,
              "#fb9f3a"
             ],
             [
              0.8888888888888888,
              "#fdca26"
             ],
             [
              1,
              "#f0f921"
             ]
            ],
            "type": "contour"
           }
          ],
          "contourcarpet": [
           {
            "colorbar": {
             "outlinewidth": 0,
             "ticks": ""
            },
            "type": "contourcarpet"
           }
          ],
          "heatmap": [
           {
            "colorbar": {
             "outlinewidth": 0,
             "ticks": ""
            },
            "colorscale": [
             [
              0,
              "#0d0887"
             ],
             [
              0.1111111111111111,
              "#46039f"
             ],
             [
              0.2222222222222222,
              "#7201a8"
             ],
             [
              0.3333333333333333,
              "#9c179e"
             ],
             [
              0.4444444444444444,
              "#bd3786"
             ],
             [
              0.5555555555555556,
              "#d8576b"
             ],
             [
              0.6666666666666666,
              "#ed7953"
             ],
             [
              0.7777777777777778,
              "#fb9f3a"
             ],
             [
              0.8888888888888888,
              "#fdca26"
             ],
             [
              1,
              "#f0f921"
             ]
            ],
            "type": "heatmap"
           }
          ],
          "heatmapgl": [
           {
            "colorbar": {
             "outlinewidth": 0,
             "ticks": ""
            },
            "colorscale": [
             [
              0,
              "#0d0887"
             ],
             [
              0.1111111111111111,
              "#46039f"
             ],
             [
              0.2222222222222222,
              "#7201a8"
             ],
             [
              0.3333333333333333,
              "#9c179e"
             ],
             [
              0.4444444444444444,
              "#bd3786"
             ],
             [
              0.5555555555555556,
              "#d8576b"
             ],
             [
              0.6666666666666666,
              "#ed7953"
             ],
             [
              0.7777777777777778,
              "#fb9f3a"
             ],
             [
              0.8888888888888888,
              "#fdca26"
             ],
             [
              1,
              "#f0f921"
             ]
            ],
            "type": "heatmapgl"
           }
          ],
          "histogram": [
           {
            "marker": {
             "pattern": {
              "fillmode": "overlay",
              "size": 10,
              "solidity": 0.2
             }
            },
            "type": "histogram"
           }
          ],
          "histogram2d": [
           {
            "colorbar": {
             "outlinewidth": 0,
             "ticks": ""
            },
            "colorscale": [
             [
              0,
              "#0d0887"
             ],
             [
              0.1111111111111111,
              "#46039f"
             ],
             [
              0.2222222222222222,
              "#7201a8"
             ],
             [
              0.3333333333333333,
              "#9c179e"
             ],
             [
              0.4444444444444444,
              "#bd3786"
             ],
             [
              0.5555555555555556,
              "#d8576b"
             ],
             [
              0.6666666666666666,
              "#ed7953"
             ],
             [
              0.7777777777777778,
              "#fb9f3a"
             ],
             [
              0.8888888888888888,
              "#fdca26"
             ],
             [
              1,
              "#f0f921"
             ]
            ],
            "type": "histogram2d"
           }
          ],
          "histogram2dcontour": [
           {
            "colorbar": {
             "outlinewidth": 0,
             "ticks": ""
            },
            "colorscale": [
             [
              0,
              "#0d0887"
             ],
             [
              0.1111111111111111,
              "#46039f"
             ],
             [
              0.2222222222222222,
              "#7201a8"
             ],
             [
              0.3333333333333333,
              "#9c179e"
             ],
             [
              0.4444444444444444,
              "#bd3786"
             ],
             [
              0.5555555555555556,
              "#d8576b"
             ],
             [
              0.6666666666666666,
              "#ed7953"
             ],
             [
              0.7777777777777778,
              "#fb9f3a"
             ],
             [
              0.8888888888888888,
              "#fdca26"
             ],
             [
              1,
              "#f0f921"
             ]
            ],
            "type": "histogram2dcontour"
           }
          ],
          "mesh3d": [
           {
            "colorbar": {
             "outlinewidth": 0,
             "ticks": ""
            },
            "type": "mesh3d"
           }
          ],
          "parcoords": [
           {
            "line": {
             "colorbar": {
              "outlinewidth": 0,
              "ticks": ""
             }
            },
            "type": "parcoords"
           }
          ],
          "pie": [
           {
            "automargin": true,
            "type": "pie"
           }
          ],
          "scatter": [
           {
            "fillpattern": {
             "fillmode": "overlay",
             "size": 10,
             "solidity": 0.2
            },
            "type": "scatter"
           }
          ],
          "scatter3d": [
           {
            "line": {
             "colorbar": {
              "outlinewidth": 0,
              "ticks": ""
             }
            },
            "marker": {
             "colorbar": {
              "outlinewidth": 0,
              "ticks": ""
             }
            },
            "type": "scatter3d"
           }
          ],
          "scattercarpet": [
           {
            "marker": {
             "colorbar": {
              "outlinewidth": 0,
              "ticks": ""
             }
            },
            "type": "scattercarpet"
           }
          ],
          "scattergeo": [
           {
            "marker": {
             "colorbar": {
              "outlinewidth": 0,
              "ticks": ""
             }
            },
            "type": "scattergeo"
           }
          ],
          "scattergl": [
           {
            "marker": {
             "colorbar": {
              "outlinewidth": 0,
              "ticks": ""
             }
            },
            "type": "scattergl"
           }
          ],
          "scattermapbox": [
           {
            "marker": {
             "colorbar": {
              "outlinewidth": 0,
              "ticks": ""
             }
            },
            "type": "scattermapbox"
           }
          ],
          "scatterpolar": [
           {
            "marker": {
             "colorbar": {
              "outlinewidth": 0,
              "ticks": ""
             }
            },
            "type": "scatterpolar"
           }
          ],
          "scatterpolargl": [
           {
            "marker": {
             "colorbar": {
              "outlinewidth": 0,
              "ticks": ""
             }
            },
            "type": "scatterpolargl"
           }
          ],
          "scatterternary": [
           {
            "marker": {
             "colorbar": {
              "outlinewidth": 0,
              "ticks": ""
             }
            },
            "type": "scatterternary"
           }
          ],
          "surface": [
           {
            "colorbar": {
             "outlinewidth": 0,
             "ticks": ""
            },
            "colorscale": [
             [
              0,
              "#0d0887"
             ],
             [
              0.1111111111111111,
              "#46039f"
             ],
             [
              0.2222222222222222,
              "#7201a8"
             ],
             [
              0.3333333333333333,
              "#9c179e"
             ],
             [
              0.4444444444444444,
              "#bd3786"
             ],
             [
              0.5555555555555556,
              "#d8576b"
             ],
             [
              0.6666666666666666,
              "#ed7953"
             ],
             [
              0.7777777777777778,
              "#fb9f3a"
             ],
             [
              0.8888888888888888,
              "#fdca26"
             ],
             [
              1,
              "#f0f921"
             ]
            ],
            "type": "surface"
           }
          ],
          "table": [
           {
            "cells": {
             "fill": {
              "color": "#EBF0F8"
             },
             "line": {
              "color": "white"
             }
            },
            "header": {
             "fill": {
              "color": "#C8D4E3"
             },
             "line": {
              "color": "white"
             }
            },
            "type": "table"
           }
          ]
         },
         "layout": {
          "annotationdefaults": {
           "arrowcolor": "#2a3f5f",
           "arrowhead": 0,
           "arrowwidth": 1
          },
          "autotypenumbers": "strict",
          "coloraxis": {
           "colorbar": {
            "outlinewidth": 0,
            "ticks": ""
           }
          },
          "colorscale": {
           "diverging": [
            [
             0,
             "#8e0152"
            ],
            [
             0.1,
             "#c51b7d"
            ],
            [
             0.2,
             "#de77ae"
            ],
            [
             0.3,
             "#f1b6da"
            ],
            [
             0.4,
             "#fde0ef"
            ],
            [
             0.5,
             "#f7f7f7"
            ],
            [
             0.6,
             "#e6f5d0"
            ],
            [
             0.7,
             "#b8e186"
            ],
            [
             0.8,
             "#7fbc41"
            ],
            [
             0.9,
             "#4d9221"
            ],
            [
             1,
             "#276419"
            ]
           ],
           "sequential": [
            [
             0,
             "#0d0887"
            ],
            [
             0.1111111111111111,
             "#46039f"
            ],
            [
             0.2222222222222222,
             "#7201a8"
            ],
            [
             0.3333333333333333,
             "#9c179e"
            ],
            [
             0.4444444444444444,
             "#bd3786"
            ],
            [
             0.5555555555555556,
             "#d8576b"
            ],
            [
             0.6666666666666666,
             "#ed7953"
            ],
            [
             0.7777777777777778,
             "#fb9f3a"
            ],
            [
             0.8888888888888888,
             "#fdca26"
            ],
            [
             1,
             "#f0f921"
            ]
           ],
           "sequentialminus": [
            [
             0,
             "#0d0887"
            ],
            [
             0.1111111111111111,
             "#46039f"
            ],
            [
             0.2222222222222222,
             "#7201a8"
            ],
            [
             0.3333333333333333,
             "#9c179e"
            ],
            [
             0.4444444444444444,
             "#bd3786"
            ],
            [
             0.5555555555555556,
             "#d8576b"
            ],
            [
             0.6666666666666666,
             "#ed7953"
            ],
            [
             0.7777777777777778,
             "#fb9f3a"
            ],
            [
             0.8888888888888888,
             "#fdca26"
            ],
            [
             1,
             "#f0f921"
            ]
           ]
          },
          "colorway": [
           "#636efa",
           "#EF553B",
           "#00cc96",
           "#ab63fa",
           "#FFA15A",
           "#19d3f3",
           "#FF6692",
           "#B6E880",
           "#FF97FF",
           "#FECB52"
          ],
          "font": {
           "color": "#2a3f5f"
          },
          "geo": {
           "bgcolor": "white",
           "lakecolor": "white",
           "landcolor": "#E5ECF6",
           "showlakes": true,
           "showland": true,
           "subunitcolor": "white"
          },
          "hoverlabel": {
           "align": "left"
          },
          "hovermode": "closest",
          "mapbox": {
           "style": "light"
          },
          "paper_bgcolor": "white",
          "plot_bgcolor": "#E5ECF6",
          "polar": {
           "angularaxis": {
            "gridcolor": "white",
            "linecolor": "white",
            "ticks": ""
           },
           "bgcolor": "#E5ECF6",
           "radialaxis": {
            "gridcolor": "white",
            "linecolor": "white",
            "ticks": ""
           }
          },
          "scene": {
           "xaxis": {
            "backgroundcolor": "#E5ECF6",
            "gridcolor": "white",
            "gridwidth": 2,
            "linecolor": "white",
            "showbackground": true,
            "ticks": "",
            "zerolinecolor": "white"
           },
           "yaxis": {
            "backgroundcolor": "#E5ECF6",
            "gridcolor": "white",
            "gridwidth": 2,
            "linecolor": "white",
            "showbackground": true,
            "ticks": "",
            "zerolinecolor": "white"
           },
           "zaxis": {
            "backgroundcolor": "#E5ECF6",
            "gridcolor": "white",
            "gridwidth": 2,
            "linecolor": "white",
            "showbackground": true,
            "ticks": "",
            "zerolinecolor": "white"
           }
          },
          "shapedefaults": {
           "line": {
            "color": "#2a3f5f"
           }
          },
          "ternary": {
           "aaxis": {
            "gridcolor": "white",
            "linecolor": "white",
            "ticks": ""
           },
           "baxis": {
            "gridcolor": "white",
            "linecolor": "white",
            "ticks": ""
           },
           "bgcolor": "#E5ECF6",
           "caxis": {
            "gridcolor": "white",
            "linecolor": "white",
            "ticks": ""
           }
          },
          "title": {
           "x": 0.05
          },
          "xaxis": {
           "automargin": true,
           "gridcolor": "white",
           "linecolor": "white",
           "ticks": "",
           "title": {
            "standoff": 15
           },
           "zerolinecolor": "white",
           "zerolinewidth": 2
          },
          "yaxis": {
           "automargin": true,
           "gridcolor": "white",
           "linecolor": "white",
           "ticks": "",
           "title": {
            "standoff": 15
           },
           "zerolinecolor": "white",
           "zerolinewidth": 2
          }
         }
        },
        "title": {
         "text": "Total case after remove by claim type OD and TP"
        }
       }
      }
     },
     "metadata": {},
     "output_type": "display_data"
    }
   ],
   "source": [
    "totalScope = len(caseDf) - removeByClaimType\n",
    "totalRemoved = totalScope - len(targetCaseDf) \n",
    "\n",
    "fig = go.Figure(data=[go.Pie(labels=[\"Case Data Used\", \n",
    "                                     \"Case Data Removed\",\n",
    "                                     ], \\\n",
    "                             values=[len(targetCaseDf), totalRemoved])])\n",
    "fig.update_layout(title=\"Total case after remove by claim type OD and TP\")\n",
    "\n",
    "fig.show()"
   ]
  },
  {
   "cell_type": "code",
   "execution_count": 50,
   "metadata": {},
   "outputs": [
    {
     "data": {
      "application/vnd.plotly.v1+json": {
       "config": {
        "plotlyServerURL": "https://plot.ly"
       },
       "data": [
        {
         "labels": [
          "Case Data Used",
          "Case Data Removed"
         ],
         "type": "pie",
         "values": [
          598126,
          1852156
         ]
        }
       ],
       "layout": {
        "template": {
         "data": {
          "bar": [
           {
            "error_x": {
             "color": "#2a3f5f"
            },
            "error_y": {
             "color": "#2a3f5f"
            },
            "marker": {
             "line": {
              "color": "#E5ECF6",
              "width": 0.5
             },
             "pattern": {
              "fillmode": "overlay",
              "size": 10,
              "solidity": 0.2
             }
            },
            "type": "bar"
           }
          ],
          "barpolar": [
           {
            "marker": {
             "line": {
              "color": "#E5ECF6",
              "width": 0.5
             },
             "pattern": {
              "fillmode": "overlay",
              "size": 10,
              "solidity": 0.2
             }
            },
            "type": "barpolar"
           }
          ],
          "carpet": [
           {
            "aaxis": {
             "endlinecolor": "#2a3f5f",
             "gridcolor": "white",
             "linecolor": "white",
             "minorgridcolor": "white",
             "startlinecolor": "#2a3f5f"
            },
            "baxis": {
             "endlinecolor": "#2a3f5f",
             "gridcolor": "white",
             "linecolor": "white",
             "minorgridcolor": "white",
             "startlinecolor": "#2a3f5f"
            },
            "type": "carpet"
           }
          ],
          "choropleth": [
           {
            "colorbar": {
             "outlinewidth": 0,
             "ticks": ""
            },
            "type": "choropleth"
           }
          ],
          "contour": [
           {
            "colorbar": {
             "outlinewidth": 0,
             "ticks": ""
            },
            "colorscale": [
             [
              0,
              "#0d0887"
             ],
             [
              0.1111111111111111,
              "#46039f"
             ],
             [
              0.2222222222222222,
              "#7201a8"
             ],
             [
              0.3333333333333333,
              "#9c179e"
             ],
             [
              0.4444444444444444,
              "#bd3786"
             ],
             [
              0.5555555555555556,
              "#d8576b"
             ],
             [
              0.6666666666666666,
              "#ed7953"
             ],
             [
              0.7777777777777778,
              "#fb9f3a"
             ],
             [
              0.8888888888888888,
              "#fdca26"
             ],
             [
              1,
              "#f0f921"
             ]
            ],
            "type": "contour"
           }
          ],
          "contourcarpet": [
           {
            "colorbar": {
             "outlinewidth": 0,
             "ticks": ""
            },
            "type": "contourcarpet"
           }
          ],
          "heatmap": [
           {
            "colorbar": {
             "outlinewidth": 0,
             "ticks": ""
            },
            "colorscale": [
             [
              0,
              "#0d0887"
             ],
             [
              0.1111111111111111,
              "#46039f"
             ],
             [
              0.2222222222222222,
              "#7201a8"
             ],
             [
              0.3333333333333333,
              "#9c179e"
             ],
             [
              0.4444444444444444,
              "#bd3786"
             ],
             [
              0.5555555555555556,
              "#d8576b"
             ],
             [
              0.6666666666666666,
              "#ed7953"
             ],
             [
              0.7777777777777778,
              "#fb9f3a"
             ],
             [
              0.8888888888888888,
              "#fdca26"
             ],
             [
              1,
              "#f0f921"
             ]
            ],
            "type": "heatmap"
           }
          ],
          "heatmapgl": [
           {
            "colorbar": {
             "outlinewidth": 0,
             "ticks": ""
            },
            "colorscale": [
             [
              0,
              "#0d0887"
             ],
             [
              0.1111111111111111,
              "#46039f"
             ],
             [
              0.2222222222222222,
              "#7201a8"
             ],
             [
              0.3333333333333333,
              "#9c179e"
             ],
             [
              0.4444444444444444,
              "#bd3786"
             ],
             [
              0.5555555555555556,
              "#d8576b"
             ],
             [
              0.6666666666666666,
              "#ed7953"
             ],
             [
              0.7777777777777778,
              "#fb9f3a"
             ],
             [
              0.8888888888888888,
              "#fdca26"
             ],
             [
              1,
              "#f0f921"
             ]
            ],
            "type": "heatmapgl"
           }
          ],
          "histogram": [
           {
            "marker": {
             "pattern": {
              "fillmode": "overlay",
              "size": 10,
              "solidity": 0.2
             }
            },
            "type": "histogram"
           }
          ],
          "histogram2d": [
           {
            "colorbar": {
             "outlinewidth": 0,
             "ticks": ""
            },
            "colorscale": [
             [
              0,
              "#0d0887"
             ],
             [
              0.1111111111111111,
              "#46039f"
             ],
             [
              0.2222222222222222,
              "#7201a8"
             ],
             [
              0.3333333333333333,
              "#9c179e"
             ],
             [
              0.4444444444444444,
              "#bd3786"
             ],
             [
              0.5555555555555556,
              "#d8576b"
             ],
             [
              0.6666666666666666,
              "#ed7953"
             ],
             [
              0.7777777777777778,
              "#fb9f3a"
             ],
             [
              0.8888888888888888,
              "#fdca26"
             ],
             [
              1,
              "#f0f921"
             ]
            ],
            "type": "histogram2d"
           }
          ],
          "histogram2dcontour": [
           {
            "colorbar": {
             "outlinewidth": 0,
             "ticks": ""
            },
            "colorscale": [
             [
              0,
              "#0d0887"
             ],
             [
              0.1111111111111111,
              "#46039f"
             ],
             [
              0.2222222222222222,
              "#7201a8"
             ],
             [
              0.3333333333333333,
              "#9c179e"
             ],
             [
              0.4444444444444444,
              "#bd3786"
             ],
             [
              0.5555555555555556,
              "#d8576b"
             ],
             [
              0.6666666666666666,
              "#ed7953"
             ],
             [
              0.7777777777777778,
              "#fb9f3a"
             ],
             [
              0.8888888888888888,
              "#fdca26"
             ],
             [
              1,
              "#f0f921"
             ]
            ],
            "type": "histogram2dcontour"
           }
          ],
          "mesh3d": [
           {
            "colorbar": {
             "outlinewidth": 0,
             "ticks": ""
            },
            "type": "mesh3d"
           }
          ],
          "parcoords": [
           {
            "line": {
             "colorbar": {
              "outlinewidth": 0,
              "ticks": ""
             }
            },
            "type": "parcoords"
           }
          ],
          "pie": [
           {
            "automargin": true,
            "type": "pie"
           }
          ],
          "scatter": [
           {
            "fillpattern": {
             "fillmode": "overlay",
             "size": 10,
             "solidity": 0.2
            },
            "type": "scatter"
           }
          ],
          "scatter3d": [
           {
            "line": {
             "colorbar": {
              "outlinewidth": 0,
              "ticks": ""
             }
            },
            "marker": {
             "colorbar": {
              "outlinewidth": 0,
              "ticks": ""
             }
            },
            "type": "scatter3d"
           }
          ],
          "scattercarpet": [
           {
            "marker": {
             "colorbar": {
              "outlinewidth": 0,
              "ticks": ""
             }
            },
            "type": "scattercarpet"
           }
          ],
          "scattergeo": [
           {
            "marker": {
             "colorbar": {
              "outlinewidth": 0,
              "ticks": ""
             }
            },
            "type": "scattergeo"
           }
          ],
          "scattergl": [
           {
            "marker": {
             "colorbar": {
              "outlinewidth": 0,
              "ticks": ""
             }
            },
            "type": "scattergl"
           }
          ],
          "scattermapbox": [
           {
            "marker": {
             "colorbar": {
              "outlinewidth": 0,
              "ticks": ""
             }
            },
            "type": "scattermapbox"
           }
          ],
          "scatterpolar": [
           {
            "marker": {
             "colorbar": {
              "outlinewidth": 0,
              "ticks": ""
             }
            },
            "type": "scatterpolar"
           }
          ],
          "scatterpolargl": [
           {
            "marker": {
             "colorbar": {
              "outlinewidth": 0,
              "ticks": ""
             }
            },
            "type": "scatterpolargl"
           }
          ],
          "scatterternary": [
           {
            "marker": {
             "colorbar": {
              "outlinewidth": 0,
              "ticks": ""
             }
            },
            "type": "scatterternary"
           }
          ],
          "surface": [
           {
            "colorbar": {
             "outlinewidth": 0,
             "ticks": ""
            },
            "colorscale": [
             [
              0,
              "#0d0887"
             ],
             [
              0.1111111111111111,
              "#46039f"
             ],
             [
              0.2222222222222222,
              "#7201a8"
             ],
             [
              0.3333333333333333,
              "#9c179e"
             ],
             [
              0.4444444444444444,
              "#bd3786"
             ],
             [
              0.5555555555555556,
              "#d8576b"
             ],
             [
              0.6666666666666666,
              "#ed7953"
             ],
             [
              0.7777777777777778,
              "#fb9f3a"
             ],
             [
              0.8888888888888888,
              "#fdca26"
             ],
             [
              1,
              "#f0f921"
             ]
            ],
            "type": "surface"
           }
          ],
          "table": [
           {
            "cells": {
             "fill": {
              "color": "#EBF0F8"
             },
             "line": {
              "color": "white"
             }
            },
            "header": {
             "fill": {
              "color": "#C8D4E3"
             },
             "line": {
              "color": "white"
             }
            },
            "type": "table"
           }
          ]
         },
         "layout": {
          "annotationdefaults": {
           "arrowcolor": "#2a3f5f",
           "arrowhead": 0,
           "arrowwidth": 1
          },
          "autotypenumbers": "strict",
          "coloraxis": {
           "colorbar": {
            "outlinewidth": 0,
            "ticks": ""
           }
          },
          "colorscale": {
           "diverging": [
            [
             0,
             "#8e0152"
            ],
            [
             0.1,
             "#c51b7d"
            ],
            [
             0.2,
             "#de77ae"
            ],
            [
             0.3,
             "#f1b6da"
            ],
            [
             0.4,
             "#fde0ef"
            ],
            [
             0.5,
             "#f7f7f7"
            ],
            [
             0.6,
             "#e6f5d0"
            ],
            [
             0.7,
             "#b8e186"
            ],
            [
             0.8,
             "#7fbc41"
            ],
            [
             0.9,
             "#4d9221"
            ],
            [
             1,
             "#276419"
            ]
           ],
           "sequential": [
            [
             0,
             "#0d0887"
            ],
            [
             0.1111111111111111,
             "#46039f"
            ],
            [
             0.2222222222222222,
             "#7201a8"
            ],
            [
             0.3333333333333333,
             "#9c179e"
            ],
            [
             0.4444444444444444,
             "#bd3786"
            ],
            [
             0.5555555555555556,
             "#d8576b"
            ],
            [
             0.6666666666666666,
             "#ed7953"
            ],
            [
             0.7777777777777778,
             "#fb9f3a"
            ],
            [
             0.8888888888888888,
             "#fdca26"
            ],
            [
             1,
             "#f0f921"
            ]
           ],
           "sequentialminus": [
            [
             0,
             "#0d0887"
            ],
            [
             0.1111111111111111,
             "#46039f"
            ],
            [
             0.2222222222222222,
             "#7201a8"
            ],
            [
             0.3333333333333333,
             "#9c179e"
            ],
            [
             0.4444444444444444,
             "#bd3786"
            ],
            [
             0.5555555555555556,
             "#d8576b"
            ],
            [
             0.6666666666666666,
             "#ed7953"
            ],
            [
             0.7777777777777778,
             "#fb9f3a"
            ],
            [
             0.8888888888888888,
             "#fdca26"
            ],
            [
             1,
             "#f0f921"
            ]
           ]
          },
          "colorway": [
           "#636efa",
           "#EF553B",
           "#00cc96",
           "#ab63fa",
           "#FFA15A",
           "#19d3f3",
           "#FF6692",
           "#B6E880",
           "#FF97FF",
           "#FECB52"
          ],
          "font": {
           "color": "#2a3f5f"
          },
          "geo": {
           "bgcolor": "white",
           "lakecolor": "white",
           "landcolor": "#E5ECF6",
           "showlakes": true,
           "showland": true,
           "subunitcolor": "white"
          },
          "hoverlabel": {
           "align": "left"
          },
          "hovermode": "closest",
          "mapbox": {
           "style": "light"
          },
          "paper_bgcolor": "white",
          "plot_bgcolor": "#E5ECF6",
          "polar": {
           "angularaxis": {
            "gridcolor": "white",
            "linecolor": "white",
            "ticks": ""
           },
           "bgcolor": "#E5ECF6",
           "radialaxis": {
            "gridcolor": "white",
            "linecolor": "white",
            "ticks": ""
           }
          },
          "scene": {
           "xaxis": {
            "backgroundcolor": "#E5ECF6",
            "gridcolor": "white",
            "gridwidth": 2,
            "linecolor": "white",
            "showbackground": true,
            "ticks": "",
            "zerolinecolor": "white"
           },
           "yaxis": {
            "backgroundcolor": "#E5ECF6",
            "gridcolor": "white",
            "gridwidth": 2,
            "linecolor": "white",
            "showbackground": true,
            "ticks": "",
            "zerolinecolor": "white"
           },
           "zaxis": {
            "backgroundcolor": "#E5ECF6",
            "gridcolor": "white",
            "gridwidth": 2,
            "linecolor": "white",
            "showbackground": true,
            "ticks": "",
            "zerolinecolor": "white"
           }
          },
          "shapedefaults": {
           "line": {
            "color": "#2a3f5f"
           }
          },
          "ternary": {
           "aaxis": {
            "gridcolor": "white",
            "linecolor": "white",
            "ticks": ""
           },
           "baxis": {
            "gridcolor": "white",
            "linecolor": "white",
            "ticks": ""
           },
           "bgcolor": "#E5ECF6",
           "caxis": {
            "gridcolor": "white",
            "linecolor": "white",
            "ticks": ""
           }
          },
          "title": {
           "x": 0.05
          },
          "xaxis": {
           "automargin": true,
           "gridcolor": "white",
           "linecolor": "white",
           "ticks": "",
           "title": {
            "standoff": 15
           },
           "zerolinecolor": "white",
           "zerolinewidth": 2
          },
          "yaxis": {
           "automargin": true,
           "gridcolor": "white",
           "linecolor": "white",
           "ticks": "",
           "title": {
            "standoff": 15
           },
           "zerolinecolor": "white",
           "zerolinewidth": 2
          }
         }
        },
        "title": {
         "text": "Total case with no filter"
        }
       }
      }
     },
     "metadata": {},
     "output_type": "display_data"
    }
   ],
   "source": [
    "totalScope = len(caseDf)\n",
    "totalRemoved = totalScope - len(targetCaseDf) \n",
    "\n",
    "fig = go.Figure(data=[go.Pie(labels=[\"Case Data Used\", \n",
    "                                     \"Case Data Removed\",\n",
    "                                     ], \\\n",
    "                             values=[len(targetCaseDf), totalRemoved])])\n",
    "fig.update_layout(title=\"Total case with no filter\")\n"
   ]
  },
  {
   "cell_type": "code",
   "execution_count": 51,
   "metadata": {},
   "outputs": [],
   "source": [
    "targetFileDesc = [\"Front View Left\", \"Front View Right\", \"Rear View Left\", \"Rear View Right\", \"Front View\", \"Rear View\"]"
   ]
  },
  {
   "cell_type": "code",
   "execution_count": 52,
   "metadata": {},
   "outputs": [
    {
     "data": {
      "text/html": [
       "<div>\n",
       "<style scoped>\n",
       "    .dataframe tbody tr th:only-of-type {\n",
       "        vertical-align: middle;\n",
       "    }\n",
       "\n",
       "    .dataframe tbody tr th {\n",
       "        vertical-align: top;\n",
       "    }\n",
       "\n",
       "    .dataframe thead th {\n",
       "        text-align: right;\n",
       "    }\n",
       "</style>\n",
       "<table border=\"1\" class=\"dataframe\">\n",
       "  <thead>\n",
       "    <tr style=\"text-align: right;\">\n",
       "      <th></th>\n",
       "      <th>CaseID</th>\n",
       "      <th>iDOCID</th>\n",
       "      <th>FinalDate</th>\n",
       "      <th>StdDocDesc</th>\n",
       "    </tr>\n",
       "  </thead>\n",
       "  <tbody>\n",
       "    <tr>\n",
       "      <th>211094</th>\n",
       "      <td>10533333</td>\n",
       "      <td>464102036.0</td>\n",
       "      <td>2015-06-09 16:41:12.990000+00:00</td>\n",
       "      <td>Front View Left</td>\n",
       "    </tr>\n",
       "    <tr>\n",
       "      <th>742295</th>\n",
       "      <td>12458719</td>\n",
       "      <td>563578135.0</td>\n",
       "      <td>2017-01-03 08:03:17.917000+00:00</td>\n",
       "      <td>Front View Left</td>\n",
       "    </tr>\n",
       "    <tr>\n",
       "      <th>1285736</th>\n",
       "      <td>11050033</td>\n",
       "      <td>490004916.0</td>\n",
       "      <td>2017-03-14 14:47:14.893000+00:00</td>\n",
       "      <td>Front View Left</td>\n",
       "    </tr>\n",
       "    <tr>\n",
       "      <th>1002609</th>\n",
       "      <td>10923162</td>\n",
       "      <td>483540176.0</td>\n",
       "      <td>2017-05-19 10:43:27.907000+00:00</td>\n",
       "      <td>Front View Left</td>\n",
       "    </tr>\n",
       "    <tr>\n",
       "      <th>716887</th>\n",
       "      <td>10844645</td>\n",
       "      <td>479515095.0</td>\n",
       "      <td>2017-07-17 15:59:54.010000+00:00</td>\n",
       "      <td>Front View Left</td>\n",
       "    </tr>\n",
       "    <tr>\n",
       "      <th>...</th>\n",
       "      <td>...</td>\n",
       "      <td>...</td>\n",
       "      <td>...</td>\n",
       "      <td>...</td>\n",
       "    </tr>\n",
       "    <tr>\n",
       "      <th>84731</th>\n",
       "      <td>13447277</td>\n",
       "      <td>649096361.0</td>\n",
       "      <td>2022-11-05 16:19:43.353000+00:00</td>\n",
       "      <td>Rear View Left</td>\n",
       "    </tr>\n",
       "    <tr>\n",
       "      <th>138931</th>\n",
       "      <td>13555816</td>\n",
       "      <td>649181771.0</td>\n",
       "      <td>2022-11-06 19:49:31.097000+00:00</td>\n",
       "      <td>Rear View Left</td>\n",
       "    </tr>\n",
       "    <tr>\n",
       "      <th>136363</th>\n",
       "      <td>13548901</td>\n",
       "      <td>651304975.0</td>\n",
       "      <td>2022-11-15 10:50:56.400000+00:00</td>\n",
       "      <td>Rear View Left</td>\n",
       "    </tr>\n",
       "    <tr>\n",
       "      <th>605954</th>\n",
       "      <td>13313567</td>\n",
       "      <td>652815211.0</td>\n",
       "      <td>2022-11-22 15:01:45.557000+00:00</td>\n",
       "      <td>Rear View Left</td>\n",
       "    </tr>\n",
       "    <tr>\n",
       "      <th>137407</th>\n",
       "      <td>13551639</td>\n",
       "      <td>654542220.0</td>\n",
       "      <td>2022-11-30 12:09:48.703000+00:00</td>\n",
       "      <td>Rear View Left</td>\n",
       "    </tr>\n",
       "  </tbody>\n",
       "</table>\n",
       "<p>2392504 rows × 4 columns</p>\n",
       "</div>"
      ],
      "text/plain": [
       "           CaseID       iDOCID                        FinalDate  \\\n",
       "211094   10533333  464102036.0 2015-06-09 16:41:12.990000+00:00   \n",
       "742295   12458719  563578135.0 2017-01-03 08:03:17.917000+00:00   \n",
       "1285736  11050033  490004916.0 2017-03-14 14:47:14.893000+00:00   \n",
       "1002609  10923162  483540176.0 2017-05-19 10:43:27.907000+00:00   \n",
       "716887   10844645  479515095.0 2017-07-17 15:59:54.010000+00:00   \n",
       "...           ...          ...                              ...   \n",
       "84731    13447277  649096361.0 2022-11-05 16:19:43.353000+00:00   \n",
       "138931   13555816  649181771.0 2022-11-06 19:49:31.097000+00:00   \n",
       "136363   13548901  651304975.0 2022-11-15 10:50:56.400000+00:00   \n",
       "605954   13313567  652815211.0 2022-11-22 15:01:45.557000+00:00   \n",
       "137407   13551639  654542220.0 2022-11-30 12:09:48.703000+00:00   \n",
       "\n",
       "              StdDocDesc  \n",
       "211094   Front View Left  \n",
       "742295   Front View Left  \n",
       "1285736  Front View Left  \n",
       "1002609  Front View Left  \n",
       "716887   Front View Left  \n",
       "...                  ...  \n",
       "84731     Rear View Left  \n",
       "138931    Rear View Left  \n",
       "136363    Rear View Left  \n",
       "605954    Rear View Left  \n",
       "137407    Rear View Left  \n",
       "\n",
       "[2392504 rows x 4 columns]"
      ]
     },
     "execution_count": 52,
     "metadata": {},
     "output_type": "execute_result"
    }
   ],
   "source": [
    "downloadFileDf = fileDf[(fileDf[\"StdDocDesc\"].isin(targetFileDesc)) & (fileDf[\"CaseID\"].isin(targetCaseDf[\"CaseID\"].unique().tolist()))]\n",
    "downloadFileDf"
   ]
  },
  {
   "cell_type": "code",
   "execution_count": 53,
   "metadata": {},
   "outputs": [
    {
     "data": {
      "text/html": [
       "<div>\n",
       "<style scoped>\n",
       "    .dataframe tbody tr th:only-of-type {\n",
       "        vertical-align: middle;\n",
       "    }\n",
       "\n",
       "    .dataframe tbody tr th {\n",
       "        vertical-align: top;\n",
       "    }\n",
       "\n",
       "    .dataframe thead th {\n",
       "        text-align: right;\n",
       "    }\n",
       "</style>\n",
       "<table border=\"1\" class=\"dataframe\">\n",
       "  <thead>\n",
       "    <tr style=\"text-align: right;\">\n",
       "      <th></th>\n",
       "      <th>CaseID</th>\n",
       "      <th>Description</th>\n",
       "      <th>fVAL</th>\n",
       "      <th>DamageCond</th>\n",
       "      <th>CoType</th>\n",
       "    </tr>\n",
       "  </thead>\n",
       "  <tbody>\n",
       "    <tr>\n",
       "      <th>0</th>\n",
       "      <td>12657878</td>\n",
       "      <td>bonnet</td>\n",
       "      <td>550.0</td>\n",
       "      <td>bent/dented</td>\n",
       "      <td>I</td>\n",
       "    </tr>\n",
       "    <tr>\n",
       "      <th>4</th>\n",
       "      <td>12657878</td>\n",
       "      <td>bumper front cover</td>\n",
       "      <td>350.0</td>\n",
       "      <td>creased/torn</td>\n",
       "      <td>I</td>\n",
       "    </tr>\n",
       "    <tr>\n",
       "      <th>6</th>\n",
       "      <td>12657878</td>\n",
       "      <td>bumper front lower grille</td>\n",
       "      <td>110.0</td>\n",
       "      <td>bracket torn</td>\n",
       "      <td>I</td>\n",
       "    </tr>\n",
       "    <tr>\n",
       "      <th>7</th>\n",
       "      <td>12657878</td>\n",
       "      <td>bumper reinforcement front</td>\n",
       "      <td>250.0</td>\n",
       "      <td>bent/dented</td>\n",
       "      <td>I</td>\n",
       "    </tr>\n",
       "    <tr>\n",
       "      <th>8</th>\n",
       "      <td>12657878</td>\n",
       "      <td>fog lamp front rh</td>\n",
       "      <td>150.0</td>\n",
       "      <td>bracket snapped</td>\n",
       "      <td>I</td>\n",
       "    </tr>\n",
       "    <tr>\n",
       "      <th>...</th>\n",
       "      <td>...</td>\n",
       "      <td>...</td>\n",
       "      <td>...</td>\n",
       "      <td>...</td>\n",
       "      <td>...</td>\n",
       "    </tr>\n",
       "    <tr>\n",
       "      <th>26637936</th>\n",
       "      <td>12908158</td>\n",
       "      <td>fuse / relay box</td>\n",
       "      <td>300.0</td>\n",
       "      <td>broken</td>\n",
       "      <td>I</td>\n",
       "    </tr>\n",
       "    <tr>\n",
       "      <th>26637939</th>\n",
       "      <td>12908158</td>\n",
       "      <td>airbag rotary coupling</td>\n",
       "      <td>500.0</td>\n",
       "      <td>activated</td>\n",
       "      <td>I</td>\n",
       "    </tr>\n",
       "    <tr>\n",
       "      <th>26637942</th>\n",
       "      <td>12908162</td>\n",
       "      <td>windscreen glass - front</td>\n",
       "      <td>309.2</td>\n",
       "      <td></td>\n",
       "      <td>I</td>\n",
       "    </tr>\n",
       "    <tr>\n",
       "      <th>26637944</th>\n",
       "      <td>12908163</td>\n",
       "      <td>tint film</td>\n",
       "      <td>280.0</td>\n",
       "      <td></td>\n",
       "      <td>I</td>\n",
       "    </tr>\n",
       "    <tr>\n",
       "      <th>26637945</th>\n",
       "      <td>12908163</td>\n",
       "      <td>windscreen glass - front</td>\n",
       "      <td>730.0</td>\n",
       "      <td></td>\n",
       "      <td>I</td>\n",
       "    </tr>\n",
       "  </tbody>\n",
       "</table>\n",
       "<p>12453800 rows × 5 columns</p>\n",
       "</div>"
      ],
      "text/plain": [
       "            CaseID                 Description   fVAL       DamageCond CoType\n",
       "0         12657878                      bonnet  550.0      bent/dented      I\n",
       "4         12657878          bumper front cover  350.0     creased/torn      I\n",
       "6         12657878   bumper front lower grille  110.0     bracket torn      I\n",
       "7         12657878  bumper reinforcement front  250.0      bent/dented      I\n",
       "8         12657878           fog lamp front rh  150.0  bracket snapped      I\n",
       "...            ...                         ...    ...              ...    ...\n",
       "26637936  12908158            fuse / relay box  300.0           broken      I\n",
       "26637939  12908158      airbag rotary coupling  500.0        activated      I\n",
       "26637942  12908162    windscreen glass - front  309.2                       I\n",
       "26637944  12908163                   tint film  280.0                       I\n",
       "26637945  12908163    windscreen glass - front  730.0                       I\n",
       "\n",
       "[12453800 rows x 5 columns]"
      ]
     },
     "execution_count": 53,
     "metadata": {},
     "output_type": "execute_result"
    }
   ],
   "source": [
    "targetCaseDf.drop_duplicates(subset=\"CaseID\", inplace=True)\n",
    "downloadFileDf = downloadFileDf.groupby(['CaseID', 'iDOCID']).first()\n",
    "filterPartDf"
   ]
  },
  {
   "cell_type": "code",
   "execution_count": 54,
   "metadata": {},
   "outputs": [],
   "source": [
    "frontViewLeftDf = wr.s3.read_parquet(f\"s3://{bucket2}/\",  dataset=True, partition_filter= lambda x: x[\"StdDocDesc\"] == \"Front View Left\", columns=[\"CaseID\", \"iDOCID\", \"FinalDate\", \"StdDocDesc\"])\n",
    "frontViewRightDf = wr.s3.read_parquet(f\"s3://{bucket2}/\",  dataset=True, partition_filter= lambda x: x[\"StdDocDesc\"] == \"Front View Right\", columns=[\"CaseID\", \"iDOCID\", \"FinalDate\", \"StdDocDesc\"])\n",
    "rearViewRightDf = wr.s3.read_parquet(f\"s3://{bucket2}/\",  dataset=True, partition_filter= lambda x: x[\"StdDocDesc\"] == \"Rear View Right\", columns=[\"CaseID\", \"iDOCID\", \"FinalDate\", \"StdDocDesc\"])\n",
    "rearViewLeftDf = wr.s3.read_parquet(f\"s3://{bucket2}/\",  dataset=True, partition_filter= lambda x: x[\"StdDocDesc\"] == \"Rear View Left\", columns=[\"CaseID\", \"iDOCID\", \"FinalDate\", \"StdDocDesc\"])\n",
    "rearViewDf = wr.s3.read_parquet(f\"s3://{bucket2}/\",  dataset=True, partition_filter= lambda x: x[\"StdDocDesc\"] == \"Rear View\", columns=[\"CaseID\", \"iDOCID\", \"FinalDate\", \"StdDocDesc\"])\n",
    "frontViewDf = wr.s3.read_parquet(f\"s3://{bucket2}/\",  dataset=True, partition_filter= lambda x: x[\"StdDocDesc\"] == \"Front View\", columns=[\"CaseID\", \"iDOCID\", \"FinalDate\", \"StdDocDesc\"])\n",
    "\n",
    "allViewFilesDf = [frontViewLeftDf, frontViewRightDf,  rearViewRightDf, rearViewLeftDf, frontViewDf, rearViewDf]"
   ]
  },
  {
   "cell_type": "code",
   "execution_count": 55,
   "metadata": {},
   "outputs": [],
   "source": [
    "dfWithUniqueView = []\n",
    "for dfId in range(len(allViewFilesDf)):\n",
    "    df = allViewFilesDf[dfId]\n",
    "    df[\"FinalDate\"] = pd.to_datetime(df[\"FinalDate\"])\n",
    "    df.sort_values(by=\"FinalDate\", inplace=True)\n",
    "    df = df.groupby(\"CaseID\").head(1)\n",
    "    dfWithUniqueView.append(df)\n",
    "completeFileDf = pd.concat(dfWithUniqueView)"
   ]
  },
  {
   "cell_type": "code",
   "execution_count": 56,
   "metadata": {},
   "outputs": [],
   "source": [
    "completeFileDf = completeFileDf[completeFileDf[\"CaseID\"].isin(targetCaseDf[\"CaseID\"].unique().tolist())]"
   ]
  },
  {
   "cell_type": "code",
   "execution_count": 57,
   "metadata": {},
   "outputs": [
    {
     "name": "stderr",
     "output_type": "stream",
     "text": [
      "/home/alextay96/.local/lib/python3.10/site-packages/awswrangler/s3/_write_dataset.py:92: FutureWarning:\n",
      "\n",
      "In a future version of pandas, a length 1 tuple will be returned when iterating over a groupby with a grouper equal to a list of length 1. Don't supply a list with a single grouper to avoid this warning.\n",
      "\n",
      "/home/alextay96/.local/lib/python3.10/site-packages/awswrangler/s3/_write_dataset.py:92: FutureWarning:\n",
      "\n",
      "In a future version of pandas, a length 1 tuple will be returned when iterating over a groupby with a grouper equal to a list of length 1. Don't supply a list with a single grouper to avoid this warning.\n",
      "\n"
     ]
    },
    {
     "data": {
      "text/plain": [
       "{'paths': ['s3://scope_part/b53e7a7f81214e5fb966723353582bf1.snappy.parquet'],\n",
       " 'partitions_values': {}}"
      ]
     },
     "execution_count": 57,
     "metadata": {},
     "output_type": "execute_result"
    }
   ],
   "source": [
    "kwrgs = {\n",
    "    \"endpoint_url\": \"http://192.168.1.4:8333\",\n",
    "    \"aws_access_key_id\": \"\",\n",
    "    \"aws_secret_access_key\": \"\",\n",
    "    # \"Username\": \"aaa\",\n",
    "}\n",
    "scopeCaseBucket = \"scope_case\"\n",
    "scopeFileBucket = \"scope_file\"\n",
    "scopePartBucket = \"scope_part\"\n",
    "\n",
    "cli = boto3.client(\"s3\", **kwrgs)\n",
    "# cli.create_bucket(Bucket=scopeCaseBucket)\n",
    "# cli.create_bucket(Bucket=scopeFileBucket)\n",
    "# cli.create_bucket(Bucket=scopePartBucket)\n",
    "\n",
    "wr.s3.to_parquet(\n",
    "                    df=targetCaseDf,\n",
    "                    path=f\"s3://{scopeCaseBucket}/\",\n",
    "                    dataset=True,\n",
    "                    mode=\"overwrite\",\n",
    "                    partition_cols=[\"Vehicle_Type\"],\n",
    "                )\n",
    "wr.s3.to_parquet(\n",
    "                    df=completeFileDf,\n",
    "                    path=f\"s3://{scopeFileBucket}/\",\n",
    "                    dataset=True,\n",
    "                    mode=\"overwrite\",\n",
    "                    partition_cols=[\"StdDocDesc\"],\n",
    "                )\n",
    "wr.s3.to_parquet(\n",
    "                    df=filterPartDf,\n",
    "                    path=f\"s3://{scopePartBucket}/\",\n",
    "                    dataset=True,\n",
    "                    mode=\"overwrite\",\n",
    "                )"
   ]
  },
  {
   "cell_type": "code",
   "execution_count": null,
   "metadata": {},
   "outputs": [],
   "source": []
  },
  {
   "cell_type": "code",
   "execution_count": null,
   "metadata": {},
   "outputs": [],
   "source": []
  }
 ],
 "metadata": {
  "kernelspec": {
   "display_name": "work",
   "language": "python",
   "name": "python3"
  },
  "language_info": {
   "codemirror_mode": {
    "name": "ipython",
    "version": 3
   },
   "file_extension": ".py",
   "mimetype": "text/x-python",
   "name": "python",
   "nbconvert_exporter": "python",
   "pygments_lexer": "ipython3",
   "version": "3.10.8"
  },
  "orig_nbformat": 4,
  "vscode": {
   "interpreter": {
    "hash": "0e8f33c5a67865e6aadcd232beb3e2644a1f224e780847feacdefa5e710f41d5"
   }
  }
 },
 "nbformat": 4,
 "nbformat_minor": 2
}
