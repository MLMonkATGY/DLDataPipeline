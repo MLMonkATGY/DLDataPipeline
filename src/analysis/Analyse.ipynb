{
 "cells": [
  {
   "cell_type": "code",
   "execution_count": 33,
   "metadata": {},
   "outputs": [],
   "source": [
    "import pandas as pd\n",
    "import numpy as np\n",
    "import plotly.graph_objects as go\n",
    "import plotly.express as px\n",
    "\n"
   ]
  },
  {
   "cell_type": "code",
   "execution_count": 34,
   "metadata": {},
   "outputs": [],
   "source": [
    "srcExpDir = \"/home/alextay96/Desktop/all_workspace/new_workspace/DLDataPipeline/data/results/saloon_10k_bce\"\n",
    "# srcExpDir = \"/home/alextay96/Desktop/all_workspace/new_workspace/DLDataPipeline/data/results/saloon_10k_bce\""
   ]
  },
  {
   "cell_type": "code",
   "execution_count": 35,
   "metadata": {},
   "outputs": [],
   "source": [
    "partCsv= f\"{srcExpDir}/part_perf.csv\"\n",
    "partPerfDf = pd.read_csv(partCsv)\n",
    "caseAccCsv= f\"{srcExpDir}/acc_perf.csv\"\n",
    "caseAccDf = pd.read_csv(caseAccCsv)\n"
   ]
  },
  {
   "cell_type": "code",
   "execution_count": 36,
   "metadata": {},
   "outputs": [
    {
     "data": {
      "text/plain": [
       "['vision_bonnet',\n",
       " 'vision_bumper_front',\n",
       " 'vision_door_front_rh',\n",
       " 'vision_door_rear_rh',\n",
       " 'vision_engine',\n",
       " 'vision_fender_front_rh',\n",
       " 'vision_front_panel',\n",
       " 'vision_headlamp_rh',\n",
       " 'vision_non_external',\n",
       " 'vision_misc',\n",
       " 'vision_wheel',\n",
       " 'vision_windscreen_front',\n",
       " 'vision_bumper_rear',\n",
       " 'vision_rear_compartment',\n",
       " 'vision_rear_panel',\n",
       " 'vision_rear_quarter_rh',\n",
       " 'vision_tail_lamp_rh',\n",
       " 'vision_door_front_lh',\n",
       " 'vision_door_rear_lh',\n",
       " 'vision_rear_quarter_lh',\n",
       " 'vision_tail_lamp_lh',\n",
       " 'vision_fender_front_lh',\n",
       " 'vision_headlamp_lh',\n",
       " 'vision_grille']"
      ]
     },
     "execution_count": 36,
     "metadata": {},
     "output_type": "execute_result"
    }
   ],
   "source": [
    "allParts = [x.replace(\"gt_\", \"\") for x in partPerfDf.columns if \"Unname\" not in x and \"gt_\" in x]\n",
    "allParts"
   ]
  },
  {
   "cell_type": "code",
   "execution_count": 37,
   "metadata": {},
   "outputs": [],
   "source": [
    "partMetrics = []\n",
    "for part in allParts:\n",
    "    gtCol = partPerfDf[f\"gt_{part}\"].values\n",
    "    predCol = partPerfDf[f\"pred_{part}\"].values\n",
    "    # posGt = gtCol[gtCol == 1]\n",
    "    posGtCount = np.count_nonzero(gtCol == 1)\n",
    "    negGtCount = np.count_nonzero(gtCol == 0)\n",
    "    posPredCount =  np.count_nonzero(predCol == 1)\n",
    "    negPredCount =  np.count_nonzero(predCol == 0)\n",
    "\n",
    "    tp =  np.count_nonzero(predCol[gtCol == 1] == 1) / posGtCount\n",
    "    tn = np.count_nonzero(predCol[gtCol == 0] == 0 ) / negGtCount\n",
    "    fp =  np.count_nonzero(predCol[gtCol == 0] == 1) / negGtCount\n",
    "    fn =  np.count_nonzero(predCol[gtCol == 1] == 0) / posGtCount\n",
    "    assert 0.99 < tp + fn < 1.01\n",
    "    assert 0.99 < tn + fp < 1.01\n",
    "    precision = tp / (tp + fp)\n",
    "    recall = tp / (tp + fn)\n",
    "    acc = (tp + tn) / (tp + tn + fp + fn)\n",
    "    f1 = 2 * (precision * recall) / (precision + recall)\n",
    "    partMetrics.append(\n",
    "        {\n",
    "            \"part\" : part,\n",
    "            \"tp\": tp,\n",
    "            \"tn\": tn,\n",
    "            \"fn\": fn,\n",
    "            \"fp\": fp,\n",
    "            \"precision\": precision,\n",
    "            \"recall\": recall,\n",
    "            \"f1\" : f1,\n",
    "            \"acc\" : acc,\n",
    "            \"gt_pos_count\" : posGtCount,\n",
    "            \"gt_neg_count\" : negGtCount,\n",
    "            \"gt_pos_ratio\" : posGtCount / (posGtCount + negGtCount),\n",
    "            \"pred_pos_ratio\" : posPredCount / (posPredCount + negPredCount),\n",
    "\n",
    "\n",
    "        }\n",
    "    )\n",
    "\n",
    "partEvalMetrics = pd.json_normalize(partMetrics)\n",
    "partEvalMetrics.to_csv(f\"{srcExpDir}/part_metrics.csv\")\n",
    "    "
   ]
  },
  {
   "cell_type": "code",
   "execution_count": 38,
   "metadata": {},
   "outputs": [],
   "source": [
    "def genVisMulitlabel(multilabelPartDf, metricName):\n",
    "    fig = go.Figure()\n",
    "    fig.add_trace(go.Bar(\n",
    "        x=multilabelPartDf[\"part\"], y=multilabelPartDf[metricName],\n",
    "        text = multilabelPartDf[metricName]\n",
    "        ))\n",
    "    avgVal = multilabelPartDf[metricName].mean()\n",
    "    fig.add_hline(y=avgVal, line_width=2, line_color=\"red\")\n",
    "    fig.update_layout(\n",
    "        yaxis = dict(\n",
    "            tickmode = 'array',\n",
    "            tickvals = [np.format_float_positional(avgVal, 2), 0.3, 0.8],\n",
    "        )\n",
    "    )\n",
    "    fig.update_layout(\n",
    "            title=go.layout.Title(\n",
    "                text=f\"{metricName}\",\n",
    "                x=0.5\n",
    "            ))\n",
    "    \n",
    "    fig.show()\n",
    "   "
   ]
  },
  {
   "cell_type": "code",
   "execution_count": 39,
   "metadata": {},
   "outputs": [
    {
     "data": {
      "application/vnd.plotly.v1+json": {
       "config": {
        "plotlyServerURL": "https://plot.ly"
       },
       "data": [
        {
         "text": [
          0.7931340633323468,
          0.9418515684774292,
          0.5860889395667047,
          0.5514705882352942,
          0.8282195783761219,
          0.7591555364067213,
          0.7738865626189569,
          0.8515151515151516,
          0.7507116714111427,
          0.9634263715110684,
          0.6002824858757062,
          0.5826558265582655,
          0.7964454976303318,
          0.6592991913746631,
          0.7626832018038332,
          0.5934579439252337,
          0.6588996763754046,
          0.42417061611374407,
          0.36728395061728397,
          0.43045112781954886,
          0.6716417910447762,
          0.6496383363471971,
          0.8299745193421357,
          0.5268421052631579
         ],
         "type": "bar",
         "x": [
          "vision_bonnet",
          "vision_bumper_front",
          "vision_door_front_rh",
          "vision_door_rear_rh",
          "vision_engine",
          "vision_fender_front_rh",
          "vision_front_panel",
          "vision_headlamp_rh",
          "vision_non_external",
          "vision_misc",
          "vision_wheel",
          "vision_windscreen_front",
          "vision_bumper_rear",
          "vision_rear_compartment",
          "vision_rear_panel",
          "vision_rear_quarter_rh",
          "vision_tail_lamp_rh",
          "vision_door_front_lh",
          "vision_door_rear_lh",
          "vision_rear_quarter_lh",
          "vision_tail_lamp_lh",
          "vision_fender_front_lh",
          "vision_headlamp_lh",
          "vision_grille"
         ],
         "y": [
          0.7931340633323468,
          0.9418515684774292,
          0.5860889395667047,
          0.5514705882352942,
          0.8282195783761219,
          0.7591555364067213,
          0.7738865626189569,
          0.8515151515151516,
          0.7507116714111427,
          0.9634263715110684,
          0.6002824858757062,
          0.5826558265582655,
          0.7964454976303318,
          0.6592991913746631,
          0.7626832018038332,
          0.5934579439252337,
          0.6588996763754046,
          0.42417061611374407,
          0.36728395061728397,
          0.43045112781954886,
          0.6716417910447762,
          0.6496383363471971,
          0.8299745193421357,
          0.5268421052631579
         ]
        }
       ],
       "layout": {
        "shapes": [
         {
          "line": {
           "color": "red",
           "width": 2
          },
          "type": "line",
          "x0": 0,
          "x1": 1,
          "xref": "x domain",
          "y0": 0.6813827625642591,
          "y1": 0.6813827625642591,
          "yref": "y"
         }
        ],
        "template": {
         "data": {
          "bar": [
           {
            "error_x": {
             "color": "#2a3f5f"
            },
            "error_y": {
             "color": "#2a3f5f"
            },
            "marker": {
             "line": {
              "color": "#E5ECF6",
              "width": 0.5
             },
             "pattern": {
              "fillmode": "overlay",
              "size": 10,
              "solidity": 0.2
             }
            },
            "type": "bar"
           }
          ],
          "barpolar": [
           {
            "marker": {
             "line": {
              "color": "#E5ECF6",
              "width": 0.5
             },
             "pattern": {
              "fillmode": "overlay",
              "size": 10,
              "solidity": 0.2
             }
            },
            "type": "barpolar"
           }
          ],
          "carpet": [
           {
            "aaxis": {
             "endlinecolor": "#2a3f5f",
             "gridcolor": "white",
             "linecolor": "white",
             "minorgridcolor": "white",
             "startlinecolor": "#2a3f5f"
            },
            "baxis": {
             "endlinecolor": "#2a3f5f",
             "gridcolor": "white",
             "linecolor": "white",
             "minorgridcolor": "white",
             "startlinecolor": "#2a3f5f"
            },
            "type": "carpet"
           }
          ],
          "choropleth": [
           {
            "colorbar": {
             "outlinewidth": 0,
             "ticks": ""
            },
            "type": "choropleth"
           }
          ],
          "contour": [
           {
            "colorbar": {
             "outlinewidth": 0,
             "ticks": ""
            },
            "colorscale": [
             [
              0,
              "#0d0887"
             ],
             [
              0.1111111111111111,
              "#46039f"
             ],
             [
              0.2222222222222222,
              "#7201a8"
             ],
             [
              0.3333333333333333,
              "#9c179e"
             ],
             [
              0.4444444444444444,
              "#bd3786"
             ],
             [
              0.5555555555555556,
              "#d8576b"
             ],
             [
              0.6666666666666666,
              "#ed7953"
             ],
             [
              0.7777777777777778,
              "#fb9f3a"
             ],
             [
              0.8888888888888888,
              "#fdca26"
             ],
             [
              1,
              "#f0f921"
             ]
            ],
            "type": "contour"
           }
          ],
          "contourcarpet": [
           {
            "colorbar": {
             "outlinewidth": 0,
             "ticks": ""
            },
            "type": "contourcarpet"
           }
          ],
          "heatmap": [
           {
            "colorbar": {
             "outlinewidth": 0,
             "ticks": ""
            },
            "colorscale": [
             [
              0,
              "#0d0887"
             ],
             [
              0.1111111111111111,
              "#46039f"
             ],
             [
              0.2222222222222222,
              "#7201a8"
             ],
             [
              0.3333333333333333,
              "#9c179e"
             ],
             [
              0.4444444444444444,
              "#bd3786"
             ],
             [
              0.5555555555555556,
              "#d8576b"
             ],
             [
              0.6666666666666666,
              "#ed7953"
             ],
             [
              0.7777777777777778,
              "#fb9f3a"
             ],
             [
              0.8888888888888888,
              "#fdca26"
             ],
             [
              1,
              "#f0f921"
             ]
            ],
            "type": "heatmap"
           }
          ],
          "heatmapgl": [
           {
            "colorbar": {
             "outlinewidth": 0,
             "ticks": ""
            },
            "colorscale": [
             [
              0,
              "#0d0887"
             ],
             [
              0.1111111111111111,
              "#46039f"
             ],
             [
              0.2222222222222222,
              "#7201a8"
             ],
             [
              0.3333333333333333,
              "#9c179e"
             ],
             [
              0.4444444444444444,
              "#bd3786"
             ],
             [
              0.5555555555555556,
              "#d8576b"
             ],
             [
              0.6666666666666666,
              "#ed7953"
             ],
             [
              0.7777777777777778,
              "#fb9f3a"
             ],
             [
              0.8888888888888888,
              "#fdca26"
             ],
             [
              1,
              "#f0f921"
             ]
            ],
            "type": "heatmapgl"
           }
          ],
          "histogram": [
           {
            "marker": {
             "pattern": {
              "fillmode": "overlay",
              "size": 10,
              "solidity": 0.2
             }
            },
            "type": "histogram"
           }
          ],
          "histogram2d": [
           {
            "colorbar": {
             "outlinewidth": 0,
             "ticks": ""
            },
            "colorscale": [
             [
              0,
              "#0d0887"
             ],
             [
              0.1111111111111111,
              "#46039f"
             ],
             [
              0.2222222222222222,
              "#7201a8"
             ],
             [
              0.3333333333333333,
              "#9c179e"
             ],
             [
              0.4444444444444444,
              "#bd3786"
             ],
             [
              0.5555555555555556,
              "#d8576b"
             ],
             [
              0.6666666666666666,
              "#ed7953"
             ],
             [
              0.7777777777777778,
              "#fb9f3a"
             ],
             [
              0.8888888888888888,
              "#fdca26"
             ],
             [
              1,
              "#f0f921"
             ]
            ],
            "type": "histogram2d"
           }
          ],
          "histogram2dcontour": [
           {
            "colorbar": {
             "outlinewidth": 0,
             "ticks": ""
            },
            "colorscale": [
             [
              0,
              "#0d0887"
             ],
             [
              0.1111111111111111,
              "#46039f"
             ],
             [
              0.2222222222222222,
              "#7201a8"
             ],
             [
              0.3333333333333333,
              "#9c179e"
             ],
             [
              0.4444444444444444,
              "#bd3786"
             ],
             [
              0.5555555555555556,
              "#d8576b"
             ],
             [
              0.6666666666666666,
              "#ed7953"
             ],
             [
              0.7777777777777778,
              "#fb9f3a"
             ],
             [
              0.8888888888888888,
              "#fdca26"
             ],
             [
              1,
              "#f0f921"
             ]
            ],
            "type": "histogram2dcontour"
           }
          ],
          "mesh3d": [
           {
            "colorbar": {
             "outlinewidth": 0,
             "ticks": ""
            },
            "type": "mesh3d"
           }
          ],
          "parcoords": [
           {
            "line": {
             "colorbar": {
              "outlinewidth": 0,
              "ticks": ""
             }
            },
            "type": "parcoords"
           }
          ],
          "pie": [
           {
            "automargin": true,
            "type": "pie"
           }
          ],
          "scatter": [
           {
            "fillpattern": {
             "fillmode": "overlay",
             "size": 10,
             "solidity": 0.2
            },
            "type": "scatter"
           }
          ],
          "scatter3d": [
           {
            "line": {
             "colorbar": {
              "outlinewidth": 0,
              "ticks": ""
             }
            },
            "marker": {
             "colorbar": {
              "outlinewidth": 0,
              "ticks": ""
             }
            },
            "type": "scatter3d"
           }
          ],
          "scattercarpet": [
           {
            "marker": {
             "colorbar": {
              "outlinewidth": 0,
              "ticks": ""
             }
            },
            "type": "scattercarpet"
           }
          ],
          "scattergeo": [
           {
            "marker": {
             "colorbar": {
              "outlinewidth": 0,
              "ticks": ""
             }
            },
            "type": "scattergeo"
           }
          ],
          "scattergl": [
           {
            "marker": {
             "colorbar": {
              "outlinewidth": 0,
              "ticks": ""
             }
            },
            "type": "scattergl"
           }
          ],
          "scattermapbox": [
           {
            "marker": {
             "colorbar": {
              "outlinewidth": 0,
              "ticks": ""
             }
            },
            "type": "scattermapbox"
           }
          ],
          "scatterpolar": [
           {
            "marker": {
             "colorbar": {
              "outlinewidth": 0,
              "ticks": ""
             }
            },
            "type": "scatterpolar"
           }
          ],
          "scatterpolargl": [
           {
            "marker": {
             "colorbar": {
              "outlinewidth": 0,
              "ticks": ""
             }
            },
            "type": "scatterpolargl"
           }
          ],
          "scatterternary": [
           {
            "marker": {
             "colorbar": {
              "outlinewidth": 0,
              "ticks": ""
             }
            },
            "type": "scatterternary"
           }
          ],
          "surface": [
           {
            "colorbar": {
             "outlinewidth": 0,
             "ticks": ""
            },
            "colorscale": [
             [
              0,
              "#0d0887"
             ],
             [
              0.1111111111111111,
              "#46039f"
             ],
             [
              0.2222222222222222,
              "#7201a8"
             ],
             [
              0.3333333333333333,
              "#9c179e"
             ],
             [
              0.4444444444444444,
              "#bd3786"
             ],
             [
              0.5555555555555556,
              "#d8576b"
             ],
             [
              0.6666666666666666,
              "#ed7953"
             ],
             [
              0.7777777777777778,
              "#fb9f3a"
             ],
             [
              0.8888888888888888,
              "#fdca26"
             ],
             [
              1,
              "#f0f921"
             ]
            ],
            "type": "surface"
           }
          ],
          "table": [
           {
            "cells": {
             "fill": {
              "color": "#EBF0F8"
             },
             "line": {
              "color": "white"
             }
            },
            "header": {
             "fill": {
              "color": "#C8D4E3"
             },
             "line": {
              "color": "white"
             }
            },
            "type": "table"
           }
          ]
         },
         "layout": {
          "annotationdefaults": {
           "arrowcolor": "#2a3f5f",
           "arrowhead": 0,
           "arrowwidth": 1
          },
          "autotypenumbers": "strict",
          "coloraxis": {
           "colorbar": {
            "outlinewidth": 0,
            "ticks": ""
           }
          },
          "colorscale": {
           "diverging": [
            [
             0,
             "#8e0152"
            ],
            [
             0.1,
             "#c51b7d"
            ],
            [
             0.2,
             "#de77ae"
            ],
            [
             0.3,
             "#f1b6da"
            ],
            [
             0.4,
             "#fde0ef"
            ],
            [
             0.5,
             "#f7f7f7"
            ],
            [
             0.6,
             "#e6f5d0"
            ],
            [
             0.7,
             "#b8e186"
            ],
            [
             0.8,
             "#7fbc41"
            ],
            [
             0.9,
             "#4d9221"
            ],
            [
             1,
             "#276419"
            ]
           ],
           "sequential": [
            [
             0,
             "#0d0887"
            ],
            [
             0.1111111111111111,
             "#46039f"
            ],
            [
             0.2222222222222222,
             "#7201a8"
            ],
            [
             0.3333333333333333,
             "#9c179e"
            ],
            [
             0.4444444444444444,
             "#bd3786"
            ],
            [
             0.5555555555555556,
             "#d8576b"
            ],
            [
             0.6666666666666666,
             "#ed7953"
            ],
            [
             0.7777777777777778,
             "#fb9f3a"
            ],
            [
             0.8888888888888888,
             "#fdca26"
            ],
            [
             1,
             "#f0f921"
            ]
           ],
           "sequentialminus": [
            [
             0,
             "#0d0887"
            ],
            [
             0.1111111111111111,
             "#46039f"
            ],
            [
             0.2222222222222222,
             "#7201a8"
            ],
            [
             0.3333333333333333,
             "#9c179e"
            ],
            [
             0.4444444444444444,
             "#bd3786"
            ],
            [
             0.5555555555555556,
             "#d8576b"
            ],
            [
             0.6666666666666666,
             "#ed7953"
            ],
            [
             0.7777777777777778,
             "#fb9f3a"
            ],
            [
             0.8888888888888888,
             "#fdca26"
            ],
            [
             1,
             "#f0f921"
            ]
           ]
          },
          "colorway": [
           "#636efa",
           "#EF553B",
           "#00cc96",
           "#ab63fa",
           "#FFA15A",
           "#19d3f3",
           "#FF6692",
           "#B6E880",
           "#FF97FF",
           "#FECB52"
          ],
          "font": {
           "color": "#2a3f5f"
          },
          "geo": {
           "bgcolor": "white",
           "lakecolor": "white",
           "landcolor": "#E5ECF6",
           "showlakes": true,
           "showland": true,
           "subunitcolor": "white"
          },
          "hoverlabel": {
           "align": "left"
          },
          "hovermode": "closest",
          "mapbox": {
           "style": "light"
          },
          "paper_bgcolor": "white",
          "plot_bgcolor": "#E5ECF6",
          "polar": {
           "angularaxis": {
            "gridcolor": "white",
            "linecolor": "white",
            "ticks": ""
           },
           "bgcolor": "#E5ECF6",
           "radialaxis": {
            "gridcolor": "white",
            "linecolor": "white",
            "ticks": ""
           }
          },
          "scene": {
           "xaxis": {
            "backgroundcolor": "#E5ECF6",
            "gridcolor": "white",
            "gridwidth": 2,
            "linecolor": "white",
            "showbackground": true,
            "ticks": "",
            "zerolinecolor": "white"
           },
           "yaxis": {
            "backgroundcolor": "#E5ECF6",
            "gridcolor": "white",
            "gridwidth": 2,
            "linecolor": "white",
            "showbackground": true,
            "ticks": "",
            "zerolinecolor": "white"
           },
           "zaxis": {
            "backgroundcolor": "#E5ECF6",
            "gridcolor": "white",
            "gridwidth": 2,
            "linecolor": "white",
            "showbackground": true,
            "ticks": "",
            "zerolinecolor": "white"
           }
          },
          "shapedefaults": {
           "line": {
            "color": "#2a3f5f"
           }
          },
          "ternary": {
           "aaxis": {
            "gridcolor": "white",
            "linecolor": "white",
            "ticks": ""
           },
           "baxis": {
            "gridcolor": "white",
            "linecolor": "white",
            "ticks": ""
           },
           "bgcolor": "#E5ECF6",
           "caxis": {
            "gridcolor": "white",
            "linecolor": "white",
            "ticks": ""
           }
          },
          "title": {
           "x": 0.05
          },
          "xaxis": {
           "automargin": true,
           "gridcolor": "white",
           "linecolor": "white",
           "ticks": "",
           "title": {
            "standoff": 15
           },
           "zerolinecolor": "white",
           "zerolinewidth": 2
          },
          "yaxis": {
           "automargin": true,
           "gridcolor": "white",
           "linecolor": "white",
           "ticks": "",
           "title": {
            "standoff": 15
           },
           "zerolinecolor": "white",
           "zerolinewidth": 2
          }
         }
        },
        "title": {
         "text": "tp",
         "x": 0.5
        },
        "yaxis": {
         "tickmode": "array",
         "tickvals": [
          "0.68",
          0.3,
          0.8
         ]
        }
       }
      }
     },
     "metadata": {},
     "output_type": "display_data"
    }
   ],
   "source": [
    "genVisMulitlabel(partEvalMetrics, \"tp\")"
   ]
  },
  {
   "cell_type": "code",
   "execution_count": 40,
   "metadata": {},
   "outputs": [
    {
     "data": {
      "application/vnd.plotly.v1+json": {
       "config": {
        "plotlyServerURL": "https://plot.ly"
       },
       "data": [
        {
         "text": [
          0.8624074913155112,
          0.354978354978355,
          0.8935657130329935,
          0.8780042918454936,
          0.6684584373200231,
          0.8253678864435473,
          0.7980469279804693,
          0.6302973977695168,
          0.6288290677628962,
          0.16358658453114305,
          0.7567567567567568,
          0.9098167097717306,
          0.5737024221453287,
          0.9247391037446286,
          0.8948456114758084,
          0.9474246633896132,
          0.9099940863394441,
          0.9122979467016165,
          0.9168092386655261,
          0.9850021123785382,
          0.9119164907342248,
          0.8748073959938367,
          0.7327115959880345,
          0.7758064516129032
         ],
         "type": "bar",
         "x": [
          "vision_bonnet",
          "vision_bumper_front",
          "vision_door_front_rh",
          "vision_door_rear_rh",
          "vision_engine",
          "vision_fender_front_rh",
          "vision_front_panel",
          "vision_headlamp_rh",
          "vision_non_external",
          "vision_misc",
          "vision_wheel",
          "vision_windscreen_front",
          "vision_bumper_rear",
          "vision_rear_compartment",
          "vision_rear_panel",
          "vision_rear_quarter_rh",
          "vision_tail_lamp_rh",
          "vision_door_front_lh",
          "vision_door_rear_lh",
          "vision_rear_quarter_lh",
          "vision_tail_lamp_lh",
          "vision_fender_front_lh",
          "vision_headlamp_lh",
          "vision_grille"
         ],
         "y": [
          0.8624074913155112,
          0.354978354978355,
          0.8935657130329935,
          0.8780042918454936,
          0.6684584373200231,
          0.8253678864435473,
          0.7980469279804693,
          0.6302973977695168,
          0.6288290677628962,
          0.16358658453114305,
          0.7567567567567568,
          0.9098167097717306,
          0.5737024221453287,
          0.9247391037446286,
          0.8948456114758084,
          0.9474246633896132,
          0.9099940863394441,
          0.9122979467016165,
          0.9168092386655261,
          0.9850021123785382,
          0.9119164907342248,
          0.8748073959938367,
          0.7327115959880345,
          0.7758064516129032
         ]
        }
       ],
       "layout": {
        "shapes": [
         {
          "line": {
           "color": "red",
           "width": 2
          },
          "type": "line",
          "x0": 0,
          "x1": 1,
          "xref": "x domain",
          "y0": 0.7804238641115808,
          "y1": 0.7804238641115808,
          "yref": "y"
         }
        ],
        "template": {
         "data": {
          "bar": [
           {
            "error_x": {
             "color": "#2a3f5f"
            },
            "error_y": {
             "color": "#2a3f5f"
            },
            "marker": {
             "line": {
              "color": "#E5ECF6",
              "width": 0.5
             },
             "pattern": {
              "fillmode": "overlay",
              "size": 10,
              "solidity": 0.2
             }
            },
            "type": "bar"
           }
          ],
          "barpolar": [
           {
            "marker": {
             "line": {
              "color": "#E5ECF6",
              "width": 0.5
             },
             "pattern": {
              "fillmode": "overlay",
              "size": 10,
              "solidity": 0.2
             }
            },
            "type": "barpolar"
           }
          ],
          "carpet": [
           {
            "aaxis": {
             "endlinecolor": "#2a3f5f",
             "gridcolor": "white",
             "linecolor": "white",
             "minorgridcolor": "white",
             "startlinecolor": "#2a3f5f"
            },
            "baxis": {
             "endlinecolor": "#2a3f5f",
             "gridcolor": "white",
             "linecolor": "white",
             "minorgridcolor": "white",
             "startlinecolor": "#2a3f5f"
            },
            "type": "carpet"
           }
          ],
          "choropleth": [
           {
            "colorbar": {
             "outlinewidth": 0,
             "ticks": ""
            },
            "type": "choropleth"
           }
          ],
          "contour": [
           {
            "colorbar": {
             "outlinewidth": 0,
             "ticks": ""
            },
            "colorscale": [
             [
              0,
              "#0d0887"
             ],
             [
              0.1111111111111111,
              "#46039f"
             ],
             [
              0.2222222222222222,
              "#7201a8"
             ],
             [
              0.3333333333333333,
              "#9c179e"
             ],
             [
              0.4444444444444444,
              "#bd3786"
             ],
             [
              0.5555555555555556,
              "#d8576b"
             ],
             [
              0.6666666666666666,
              "#ed7953"
             ],
             [
              0.7777777777777778,
              "#fb9f3a"
             ],
             [
              0.8888888888888888,
              "#fdca26"
             ],
             [
              1,
              "#f0f921"
             ]
            ],
            "type": "contour"
           }
          ],
          "contourcarpet": [
           {
            "colorbar": {
             "outlinewidth": 0,
             "ticks": ""
            },
            "type": "contourcarpet"
           }
          ],
          "heatmap": [
           {
            "colorbar": {
             "outlinewidth": 0,
             "ticks": ""
            },
            "colorscale": [
             [
              0,
              "#0d0887"
             ],
             [
              0.1111111111111111,
              "#46039f"
             ],
             [
              0.2222222222222222,
              "#7201a8"
             ],
             [
              0.3333333333333333,
              "#9c179e"
             ],
             [
              0.4444444444444444,
              "#bd3786"
             ],
             [
              0.5555555555555556,
              "#d8576b"
             ],
             [
              0.6666666666666666,
              "#ed7953"
             ],
             [
              0.7777777777777778,
              "#fb9f3a"
             ],
             [
              0.8888888888888888,
              "#fdca26"
             ],
             [
              1,
              "#f0f921"
             ]
            ],
            "type": "heatmap"
           }
          ],
          "heatmapgl": [
           {
            "colorbar": {
             "outlinewidth": 0,
             "ticks": ""
            },
            "colorscale": [
             [
              0,
              "#0d0887"
             ],
             [
              0.1111111111111111,
              "#46039f"
             ],
             [
              0.2222222222222222,
              "#7201a8"
             ],
             [
              0.3333333333333333,
              "#9c179e"
             ],
             [
              0.4444444444444444,
              "#bd3786"
             ],
             [
              0.5555555555555556,
              "#d8576b"
             ],
             [
              0.6666666666666666,
              "#ed7953"
             ],
             [
              0.7777777777777778,
              "#fb9f3a"
             ],
             [
              0.8888888888888888,
              "#fdca26"
             ],
             [
              1,
              "#f0f921"
             ]
            ],
            "type": "heatmapgl"
           }
          ],
          "histogram": [
           {
            "marker": {
             "pattern": {
              "fillmode": "overlay",
              "size": 10,
              "solidity": 0.2
             }
            },
            "type": "histogram"
           }
          ],
          "histogram2d": [
           {
            "colorbar": {
             "outlinewidth": 0,
             "ticks": ""
            },
            "colorscale": [
             [
              0,
              "#0d0887"
             ],
             [
              0.1111111111111111,
              "#46039f"
             ],
             [
              0.2222222222222222,
              "#7201a8"
             ],
             [
              0.3333333333333333,
              "#9c179e"
             ],
             [
              0.4444444444444444,
              "#bd3786"
             ],
             [
              0.5555555555555556,
              "#d8576b"
             ],
             [
              0.6666666666666666,
              "#ed7953"
             ],
             [
              0.7777777777777778,
              "#fb9f3a"
             ],
             [
              0.8888888888888888,
              "#fdca26"
             ],
             [
              1,
              "#f0f921"
             ]
            ],
            "type": "histogram2d"
           }
          ],
          "histogram2dcontour": [
           {
            "colorbar": {
             "outlinewidth": 0,
             "ticks": ""
            },
            "colorscale": [
             [
              0,
              "#0d0887"
             ],
             [
              0.1111111111111111,
              "#46039f"
             ],
             [
              0.2222222222222222,
              "#7201a8"
             ],
             [
              0.3333333333333333,
              "#9c179e"
             ],
             [
              0.4444444444444444,
              "#bd3786"
             ],
             [
              0.5555555555555556,
              "#d8576b"
             ],
             [
              0.6666666666666666,
              "#ed7953"
             ],
             [
              0.7777777777777778,
              "#fb9f3a"
             ],
             [
              0.8888888888888888,
              "#fdca26"
             ],
             [
              1,
              "#f0f921"
             ]
            ],
            "type": "histogram2dcontour"
           }
          ],
          "mesh3d": [
           {
            "colorbar": {
             "outlinewidth": 0,
             "ticks": ""
            },
            "type": "mesh3d"
           }
          ],
          "parcoords": [
           {
            "line": {
             "colorbar": {
              "outlinewidth": 0,
              "ticks": ""
             }
            },
            "type": "parcoords"
           }
          ],
          "pie": [
           {
            "automargin": true,
            "type": "pie"
           }
          ],
          "scatter": [
           {
            "fillpattern": {
             "fillmode": "overlay",
             "size": 10,
             "solidity": 0.2
            },
            "type": "scatter"
           }
          ],
          "scatter3d": [
           {
            "line": {
             "colorbar": {
              "outlinewidth": 0,
              "ticks": ""
             }
            },
            "marker": {
             "colorbar": {
              "outlinewidth": 0,
              "ticks": ""
             }
            },
            "type": "scatter3d"
           }
          ],
          "scattercarpet": [
           {
            "marker": {
             "colorbar": {
              "outlinewidth": 0,
              "ticks": ""
             }
            },
            "type": "scattercarpet"
           }
          ],
          "scattergeo": [
           {
            "marker": {
             "colorbar": {
              "outlinewidth": 0,
              "ticks": ""
             }
            },
            "type": "scattergeo"
           }
          ],
          "scattergl": [
           {
            "marker": {
             "colorbar": {
              "outlinewidth": 0,
              "ticks": ""
             }
            },
            "type": "scattergl"
           }
          ],
          "scattermapbox": [
           {
            "marker": {
             "colorbar": {
              "outlinewidth": 0,
              "ticks": ""
             }
            },
            "type": "scattermapbox"
           }
          ],
          "scatterpolar": [
           {
            "marker": {
             "colorbar": {
              "outlinewidth": 0,
              "ticks": ""
             }
            },
            "type": "scatterpolar"
           }
          ],
          "scatterpolargl": [
           {
            "marker": {
             "colorbar": {
              "outlinewidth": 0,
              "ticks": ""
             }
            },
            "type": "scatterpolargl"
           }
          ],
          "scatterternary": [
           {
            "marker": {
             "colorbar": {
              "outlinewidth": 0,
              "ticks": ""
             }
            },
            "type": "scatterternary"
           }
          ],
          "surface": [
           {
            "colorbar": {
             "outlinewidth": 0,
             "ticks": ""
            },
            "colorscale": [
             [
              0,
              "#0d0887"
             ],
             [
              0.1111111111111111,
              "#46039f"
             ],
             [
              0.2222222222222222,
              "#7201a8"
             ],
             [
              0.3333333333333333,
              "#9c179e"
             ],
             [
              0.4444444444444444,
              "#bd3786"
             ],
             [
              0.5555555555555556,
              "#d8576b"
             ],
             [
              0.6666666666666666,
              "#ed7953"
             ],
             [
              0.7777777777777778,
              "#fb9f3a"
             ],
             [
              0.8888888888888888,
              "#fdca26"
             ],
             [
              1,
              "#f0f921"
             ]
            ],
            "type": "surface"
           }
          ],
          "table": [
           {
            "cells": {
             "fill": {
              "color": "#EBF0F8"
             },
             "line": {
              "color": "white"
             }
            },
            "header": {
             "fill": {
              "color": "#C8D4E3"
             },
             "line": {
              "color": "white"
             }
            },
            "type": "table"
           }
          ]
         },
         "layout": {
          "annotationdefaults": {
           "arrowcolor": "#2a3f5f",
           "arrowhead": 0,
           "arrowwidth": 1
          },
          "autotypenumbers": "strict",
          "coloraxis": {
           "colorbar": {
            "outlinewidth": 0,
            "ticks": ""
           }
          },
          "colorscale": {
           "diverging": [
            [
             0,
             "#8e0152"
            ],
            [
             0.1,
             "#c51b7d"
            ],
            [
             0.2,
             "#de77ae"
            ],
            [
             0.3,
             "#f1b6da"
            ],
            [
             0.4,
             "#fde0ef"
            ],
            [
             0.5,
             "#f7f7f7"
            ],
            [
             0.6,
             "#e6f5d0"
            ],
            [
             0.7,
             "#b8e186"
            ],
            [
             0.8,
             "#7fbc41"
            ],
            [
             0.9,
             "#4d9221"
            ],
            [
             1,
             "#276419"
            ]
           ],
           "sequential": [
            [
             0,
             "#0d0887"
            ],
            [
             0.1111111111111111,
             "#46039f"
            ],
            [
             0.2222222222222222,
             "#7201a8"
            ],
            [
             0.3333333333333333,
             "#9c179e"
            ],
            [
             0.4444444444444444,
             "#bd3786"
            ],
            [
             0.5555555555555556,
             "#d8576b"
            ],
            [
             0.6666666666666666,
             "#ed7953"
            ],
            [
             0.7777777777777778,
             "#fb9f3a"
            ],
            [
             0.8888888888888888,
             "#fdca26"
            ],
            [
             1,
             "#f0f921"
            ]
           ],
           "sequentialminus": [
            [
             0,
             "#0d0887"
            ],
            [
             0.1111111111111111,
             "#46039f"
            ],
            [
             0.2222222222222222,
             "#7201a8"
            ],
            [
             0.3333333333333333,
             "#9c179e"
            ],
            [
             0.4444444444444444,
             "#bd3786"
            ],
            [
             0.5555555555555556,
             "#d8576b"
            ],
            [
             0.6666666666666666,
             "#ed7953"
            ],
            [
             0.7777777777777778,
             "#fb9f3a"
            ],
            [
             0.8888888888888888,
             "#fdca26"
            ],
            [
             1,
             "#f0f921"
            ]
           ]
          },
          "colorway": [
           "#636efa",
           "#EF553B",
           "#00cc96",
           "#ab63fa",
           "#FFA15A",
           "#19d3f3",
           "#FF6692",
           "#B6E880",
           "#FF97FF",
           "#FECB52"
          ],
          "font": {
           "color": "#2a3f5f"
          },
          "geo": {
           "bgcolor": "white",
           "lakecolor": "white",
           "landcolor": "#E5ECF6",
           "showlakes": true,
           "showland": true,
           "subunitcolor": "white"
          },
          "hoverlabel": {
           "align": "left"
          },
          "hovermode": "closest",
          "mapbox": {
           "style": "light"
          },
          "paper_bgcolor": "white",
          "plot_bgcolor": "#E5ECF6",
          "polar": {
           "angularaxis": {
            "gridcolor": "white",
            "linecolor": "white",
            "ticks": ""
           },
           "bgcolor": "#E5ECF6",
           "radialaxis": {
            "gridcolor": "white",
            "linecolor": "white",
            "ticks": ""
           }
          },
          "scene": {
           "xaxis": {
            "backgroundcolor": "#E5ECF6",
            "gridcolor": "white",
            "gridwidth": 2,
            "linecolor": "white",
            "showbackground": true,
            "ticks": "",
            "zerolinecolor": "white"
           },
           "yaxis": {
            "backgroundcolor": "#E5ECF6",
            "gridcolor": "white",
            "gridwidth": 2,
            "linecolor": "white",
            "showbackground": true,
            "ticks": "",
            "zerolinecolor": "white"
           },
           "zaxis": {
            "backgroundcolor": "#E5ECF6",
            "gridcolor": "white",
            "gridwidth": 2,
            "linecolor": "white",
            "showbackground": true,
            "ticks": "",
            "zerolinecolor": "white"
           }
          },
          "shapedefaults": {
           "line": {
            "color": "#2a3f5f"
           }
          },
          "ternary": {
           "aaxis": {
            "gridcolor": "white",
            "linecolor": "white",
            "ticks": ""
           },
           "baxis": {
            "gridcolor": "white",
            "linecolor": "white",
            "ticks": ""
           },
           "bgcolor": "#E5ECF6",
           "caxis": {
            "gridcolor": "white",
            "linecolor": "white",
            "ticks": ""
           }
          },
          "title": {
           "x": 0.05
          },
          "xaxis": {
           "automargin": true,
           "gridcolor": "white",
           "linecolor": "white",
           "ticks": "",
           "title": {
            "standoff": 15
           },
           "zerolinecolor": "white",
           "zerolinewidth": 2
          },
          "yaxis": {
           "automargin": true,
           "gridcolor": "white",
           "linecolor": "white",
           "ticks": "",
           "title": {
            "standoff": 15
           },
           "zerolinecolor": "white",
           "zerolinewidth": 2
          }
         }
        },
        "title": {
         "text": "tn",
         "x": 0.5
        },
        "yaxis": {
         "tickmode": "array",
         "tickvals": [
          "0.78",
          0.3,
          0.8
         ]
        }
       }
      }
     },
     "metadata": {},
     "output_type": "display_data"
    }
   ],
   "source": [
    "genVisMulitlabel(partEvalMetrics, \"tn\")"
   ]
  },
  {
   "cell_type": "code",
   "execution_count": 41,
   "metadata": {},
   "outputs": [
    {
     "data": {
      "application/vnd.plotly.v1+json": {
       "config": {
        "plotlyServerURL": "https://plot.ly"
       },
       "data": [
        {
         "text": [
          0.8277707773239291,
          0.6484149617278921,
          0.7398273262998492,
          0.7147374400403939,
          0.7483390078480725,
          0.7922617114251344,
          0.7859667452997132,
          0.7409062746423342,
          0.6897703695870195,
          0.5635064780211057,
          0.6785196213162314,
          0.7462362681649981,
          0.6850739598878303,
          0.7920191475596459,
          0.8287644066398208,
          0.7704413036574234,
          0.7844468813574244,
          0.6682342814076803,
          0.642046594641405,
          0.7077266200990435,
          0.7917791408895005,
          0.7622228661705169,
          0.7813430576650852,
          0.6513242784380305
         ],
         "type": "bar",
         "x": [
          "vision_bonnet",
          "vision_bumper_front",
          "vision_door_front_rh",
          "vision_door_rear_rh",
          "vision_engine",
          "vision_fender_front_rh",
          "vision_front_panel",
          "vision_headlamp_rh",
          "vision_non_external",
          "vision_misc",
          "vision_wheel",
          "vision_windscreen_front",
          "vision_bumper_rear",
          "vision_rear_compartment",
          "vision_rear_panel",
          "vision_rear_quarter_rh",
          "vision_tail_lamp_rh",
          "vision_door_front_lh",
          "vision_door_rear_lh",
          "vision_rear_quarter_lh",
          "vision_tail_lamp_lh",
          "vision_fender_front_lh",
          "vision_headlamp_lh",
          "vision_grille"
         ],
         "y": [
          0.8277707773239291,
          0.6484149617278921,
          0.7398273262998492,
          0.7147374400403939,
          0.7483390078480725,
          0.7922617114251344,
          0.7859667452997132,
          0.7409062746423342,
          0.6897703695870195,
          0.5635064780211057,
          0.6785196213162314,
          0.7462362681649981,
          0.6850739598878303,
          0.7920191475596459,
          0.8287644066398208,
          0.7704413036574234,
          0.7844468813574244,
          0.6682342814076803,
          0.642046594641405,
          0.7077266200990435,
          0.7917791408895005,
          0.7622228661705169,
          0.7813430576650852,
          0.6513242784380305
         ]
        }
       ],
       "layout": {
        "shapes": [
         {
          "line": {
           "color": "red",
           "width": 2
          },
          "type": "line",
          "x0": 0,
          "x1": 1,
          "xref": "x domain",
          "y0": 0.73090331333792,
          "y1": 0.73090331333792,
          "yref": "y"
         }
        ],
        "template": {
         "data": {
          "bar": [
           {
            "error_x": {
             "color": "#2a3f5f"
            },
            "error_y": {
             "color": "#2a3f5f"
            },
            "marker": {
             "line": {
              "color": "#E5ECF6",
              "width": 0.5
             },
             "pattern": {
              "fillmode": "overlay",
              "size": 10,
              "solidity": 0.2
             }
            },
            "type": "bar"
           }
          ],
          "barpolar": [
           {
            "marker": {
             "line": {
              "color": "#E5ECF6",
              "width": 0.5
             },
             "pattern": {
              "fillmode": "overlay",
              "size": 10,
              "solidity": 0.2
             }
            },
            "type": "barpolar"
           }
          ],
          "carpet": [
           {
            "aaxis": {
             "endlinecolor": "#2a3f5f",
             "gridcolor": "white",
             "linecolor": "white",
             "minorgridcolor": "white",
             "startlinecolor": "#2a3f5f"
            },
            "baxis": {
             "endlinecolor": "#2a3f5f",
             "gridcolor": "white",
             "linecolor": "white",
             "minorgridcolor": "white",
             "startlinecolor": "#2a3f5f"
            },
            "type": "carpet"
           }
          ],
          "choropleth": [
           {
            "colorbar": {
             "outlinewidth": 0,
             "ticks": ""
            },
            "type": "choropleth"
           }
          ],
          "contour": [
           {
            "colorbar": {
             "outlinewidth": 0,
             "ticks": ""
            },
            "colorscale": [
             [
              0,
              "#0d0887"
             ],
             [
              0.1111111111111111,
              "#46039f"
             ],
             [
              0.2222222222222222,
              "#7201a8"
             ],
             [
              0.3333333333333333,
              "#9c179e"
             ],
             [
              0.4444444444444444,
              "#bd3786"
             ],
             [
              0.5555555555555556,
              "#d8576b"
             ],
             [
              0.6666666666666666,
              "#ed7953"
             ],
             [
              0.7777777777777778,
              "#fb9f3a"
             ],
             [
              0.8888888888888888,
              "#fdca26"
             ],
             [
              1,
              "#f0f921"
             ]
            ],
            "type": "contour"
           }
          ],
          "contourcarpet": [
           {
            "colorbar": {
             "outlinewidth": 0,
             "ticks": ""
            },
            "type": "contourcarpet"
           }
          ],
          "heatmap": [
           {
            "colorbar": {
             "outlinewidth": 0,
             "ticks": ""
            },
            "colorscale": [
             [
              0,
              "#0d0887"
             ],
             [
              0.1111111111111111,
              "#46039f"
             ],
             [
              0.2222222222222222,
              "#7201a8"
             ],
             [
              0.3333333333333333,
              "#9c179e"
             ],
             [
              0.4444444444444444,
              "#bd3786"
             ],
             [
              0.5555555555555556,
              "#d8576b"
             ],
             [
              0.6666666666666666,
              "#ed7953"
             ],
             [
              0.7777777777777778,
              "#fb9f3a"
             ],
             [
              0.8888888888888888,
              "#fdca26"
             ],
             [
              1,
              "#f0f921"
             ]
            ],
            "type": "heatmap"
           }
          ],
          "heatmapgl": [
           {
            "colorbar": {
             "outlinewidth": 0,
             "ticks": ""
            },
            "colorscale": [
             [
              0,
              "#0d0887"
             ],
             [
              0.1111111111111111,
              "#46039f"
             ],
             [
              0.2222222222222222,
              "#7201a8"
             ],
             [
              0.3333333333333333,
              "#9c179e"
             ],
             [
              0.4444444444444444,
              "#bd3786"
             ],
             [
              0.5555555555555556,
              "#d8576b"
             ],
             [
              0.6666666666666666,
              "#ed7953"
             ],
             [
              0.7777777777777778,
              "#fb9f3a"
             ],
             [
              0.8888888888888888,
              "#fdca26"
             ],
             [
              1,
              "#f0f921"
             ]
            ],
            "type": "heatmapgl"
           }
          ],
          "histogram": [
           {
            "marker": {
             "pattern": {
              "fillmode": "overlay",
              "size": 10,
              "solidity": 0.2
             }
            },
            "type": "histogram"
           }
          ],
          "histogram2d": [
           {
            "colorbar": {
             "outlinewidth": 0,
             "ticks": ""
            },
            "colorscale": [
             [
              0,
              "#0d0887"
             ],
             [
              0.1111111111111111,
              "#46039f"
             ],
             [
              0.2222222222222222,
              "#7201a8"
             ],
             [
              0.3333333333333333,
              "#9c179e"
             ],
             [
              0.4444444444444444,
              "#bd3786"
             ],
             [
              0.5555555555555556,
              "#d8576b"
             ],
             [
              0.6666666666666666,
              "#ed7953"
             ],
             [
              0.7777777777777778,
              "#fb9f3a"
             ],
             [
              0.8888888888888888,
              "#fdca26"
             ],
             [
              1,
              "#f0f921"
             ]
            ],
            "type": "histogram2d"
           }
          ],
          "histogram2dcontour": [
           {
            "colorbar": {
             "outlinewidth": 0,
             "ticks": ""
            },
            "colorscale": [
             [
              0,
              "#0d0887"
             ],
             [
              0.1111111111111111,
              "#46039f"
             ],
             [
              0.2222222222222222,
              "#7201a8"
             ],
             [
              0.3333333333333333,
              "#9c179e"
             ],
             [
              0.4444444444444444,
              "#bd3786"
             ],
             [
              0.5555555555555556,
              "#d8576b"
             ],
             [
              0.6666666666666666,
              "#ed7953"
             ],
             [
              0.7777777777777778,
              "#fb9f3a"
             ],
             [
              0.8888888888888888,
              "#fdca26"
             ],
             [
              1,
              "#f0f921"
             ]
            ],
            "type": "histogram2dcontour"
           }
          ],
          "mesh3d": [
           {
            "colorbar": {
             "outlinewidth": 0,
             "ticks": ""
            },
            "type": "mesh3d"
           }
          ],
          "parcoords": [
           {
            "line": {
             "colorbar": {
              "outlinewidth": 0,
              "ticks": ""
             }
            },
            "type": "parcoords"
           }
          ],
          "pie": [
           {
            "automargin": true,
            "type": "pie"
           }
          ],
          "scatter": [
           {
            "fillpattern": {
             "fillmode": "overlay",
             "size": 10,
             "solidity": 0.2
            },
            "type": "scatter"
           }
          ],
          "scatter3d": [
           {
            "line": {
             "colorbar": {
              "outlinewidth": 0,
              "ticks": ""
             }
            },
            "marker": {
             "colorbar": {
              "outlinewidth": 0,
              "ticks": ""
             }
            },
            "type": "scatter3d"
           }
          ],
          "scattercarpet": [
           {
            "marker": {
             "colorbar": {
              "outlinewidth": 0,
              "ticks": ""
             }
            },
            "type": "scattercarpet"
           }
          ],
          "scattergeo": [
           {
            "marker": {
             "colorbar": {
              "outlinewidth": 0,
              "ticks": ""
             }
            },
            "type": "scattergeo"
           }
          ],
          "scattergl": [
           {
            "marker": {
             "colorbar": {
              "outlinewidth": 0,
              "ticks": ""
             }
            },
            "type": "scattergl"
           }
          ],
          "scattermapbox": [
           {
            "marker": {
             "colorbar": {
              "outlinewidth": 0,
              "ticks": ""
             }
            },
            "type": "scattermapbox"
           }
          ],
          "scatterpolar": [
           {
            "marker": {
             "colorbar": {
              "outlinewidth": 0,
              "ticks": ""
             }
            },
            "type": "scatterpolar"
           }
          ],
          "scatterpolargl": [
           {
            "marker": {
             "colorbar": {
              "outlinewidth": 0,
              "ticks": ""
             }
            },
            "type": "scatterpolargl"
           }
          ],
          "scatterternary": [
           {
            "marker": {
             "colorbar": {
              "outlinewidth": 0,
              "ticks": ""
             }
            },
            "type": "scatterternary"
           }
          ],
          "surface": [
           {
            "colorbar": {
             "outlinewidth": 0,
             "ticks": ""
            },
            "colorscale": [
             [
              0,
              "#0d0887"
             ],
             [
              0.1111111111111111,
              "#46039f"
             ],
             [
              0.2222222222222222,
              "#7201a8"
             ],
             [
              0.3333333333333333,
              "#9c179e"
             ],
             [
              0.4444444444444444,
              "#bd3786"
             ],
             [
              0.5555555555555556,
              "#d8576b"
             ],
             [
              0.6666666666666666,
              "#ed7953"
             ],
             [
              0.7777777777777778,
              "#fb9f3a"
             ],
             [
              0.8888888888888888,
              "#fdca26"
             ],
             [
              1,
              "#f0f921"
             ]
            ],
            "type": "surface"
           }
          ],
          "table": [
           {
            "cells": {
             "fill": {
              "color": "#EBF0F8"
             },
             "line": {
              "color": "white"
             }
            },
            "header": {
             "fill": {
              "color": "#C8D4E3"
             },
             "line": {
              "color": "white"
             }
            },
            "type": "table"
           }
          ]
         },
         "layout": {
          "annotationdefaults": {
           "arrowcolor": "#2a3f5f",
           "arrowhead": 0,
           "arrowwidth": 1
          },
          "autotypenumbers": "strict",
          "coloraxis": {
           "colorbar": {
            "outlinewidth": 0,
            "ticks": ""
           }
          },
          "colorscale": {
           "diverging": [
            [
             0,
             "#8e0152"
            ],
            [
             0.1,
             "#c51b7d"
            ],
            [
             0.2,
             "#de77ae"
            ],
            [
             0.3,
             "#f1b6da"
            ],
            [
             0.4,
             "#fde0ef"
            ],
            [
             0.5,
             "#f7f7f7"
            ],
            [
             0.6,
             "#e6f5d0"
            ],
            [
             0.7,
             "#b8e186"
            ],
            [
             0.8,
             "#7fbc41"
            ],
            [
             0.9,
             "#4d9221"
            ],
            [
             1,
             "#276419"
            ]
           ],
           "sequential": [
            [
             0,
             "#0d0887"
            ],
            [
             0.1111111111111111,
             "#46039f"
            ],
            [
             0.2222222222222222,
             "#7201a8"
            ],
            [
             0.3333333333333333,
             "#9c179e"
            ],
            [
             0.4444444444444444,
             "#bd3786"
            ],
            [
             0.5555555555555556,
             "#d8576b"
            ],
            [
             0.6666666666666666,
             "#ed7953"
            ],
            [
             0.7777777777777778,
             "#fb9f3a"
            ],
            [
             0.8888888888888888,
             "#fdca26"
            ],
            [
             1,
             "#f0f921"
            ]
           ],
           "sequentialminus": [
            [
             0,
             "#0d0887"
            ],
            [
             0.1111111111111111,
             "#46039f"
            ],
            [
             0.2222222222222222,
             "#7201a8"
            ],
            [
             0.3333333333333333,
             "#9c179e"
            ],
            [
             0.4444444444444444,
             "#bd3786"
            ],
            [
             0.5555555555555556,
             "#d8576b"
            ],
            [
             0.6666666666666666,
             "#ed7953"
            ],
            [
             0.7777777777777778,
             "#fb9f3a"
            ],
            [
             0.8888888888888888,
             "#fdca26"
            ],
            [
             1,
             "#f0f921"
            ]
           ]
          },
          "colorway": [
           "#636efa",
           "#EF553B",
           "#00cc96",
           "#ab63fa",
           "#FFA15A",
           "#19d3f3",
           "#FF6692",
           "#B6E880",
           "#FF97FF",
           "#FECB52"
          ],
          "font": {
           "color": "#2a3f5f"
          },
          "geo": {
           "bgcolor": "white",
           "lakecolor": "white",
           "landcolor": "#E5ECF6",
           "showlakes": true,
           "showland": true,
           "subunitcolor": "white"
          },
          "hoverlabel": {
           "align": "left"
          },
          "hovermode": "closest",
          "mapbox": {
           "style": "light"
          },
          "paper_bgcolor": "white",
          "plot_bgcolor": "#E5ECF6",
          "polar": {
           "angularaxis": {
            "gridcolor": "white",
            "linecolor": "white",
            "ticks": ""
           },
           "bgcolor": "#E5ECF6",
           "radialaxis": {
            "gridcolor": "white",
            "linecolor": "white",
            "ticks": ""
           }
          },
          "scene": {
           "xaxis": {
            "backgroundcolor": "#E5ECF6",
            "gridcolor": "white",
            "gridwidth": 2,
            "linecolor": "white",
            "showbackground": true,
            "ticks": "",
            "zerolinecolor": "white"
           },
           "yaxis": {
            "backgroundcolor": "#E5ECF6",
            "gridcolor": "white",
            "gridwidth": 2,
            "linecolor": "white",
            "showbackground": true,
            "ticks": "",
            "zerolinecolor": "white"
           },
           "zaxis": {
            "backgroundcolor": "#E5ECF6",
            "gridcolor": "white",
            "gridwidth": 2,
            "linecolor": "white",
            "showbackground": true,
            "ticks": "",
            "zerolinecolor": "white"
           }
          },
          "shapedefaults": {
           "line": {
            "color": "#2a3f5f"
           }
          },
          "ternary": {
           "aaxis": {
            "gridcolor": "white",
            "linecolor": "white",
            "ticks": ""
           },
           "baxis": {
            "gridcolor": "white",
            "linecolor": "white",
            "ticks": ""
           },
           "bgcolor": "#E5ECF6",
           "caxis": {
            "gridcolor": "white",
            "linecolor": "white",
            "ticks": ""
           }
          },
          "title": {
           "x": 0.05
          },
          "xaxis": {
           "automargin": true,
           "gridcolor": "white",
           "linecolor": "white",
           "ticks": "",
           "title": {
            "standoff": 15
           },
           "zerolinecolor": "white",
           "zerolinewidth": 2
          },
          "yaxis": {
           "automargin": true,
           "gridcolor": "white",
           "linecolor": "white",
           "ticks": "",
           "title": {
            "standoff": 15
           },
           "zerolinecolor": "white",
           "zerolinewidth": 2
          }
         }
        },
        "title": {
         "text": "acc",
         "x": 0.5
        },
        "yaxis": {
         "tickmode": "array",
         "tickvals": [
          "0.73",
          0.3,
          0.8
         ]
        }
       }
      }
     },
     "metadata": {},
     "output_type": "display_data"
    }
   ],
   "source": [
    "genVisMulitlabel(partEvalMetrics, \"acc\")"
   ]
  },
  {
   "cell_type": "code",
   "execution_count": 42,
   "metadata": {},
   "outputs": [
    {
     "data": {
      "application/vnd.plotly.v1+json": {
       "config": {
        "plotlyServerURL": "https://plot.ly"
       },
       "data": [
        {
         "text": [
          0.85216656231665,
          0.5935266664440288,
          0.8463094335481824,
          0.8188540260908682,
          0.7141294436041637,
          0.8129851968342698,
          0.7930468646169031,
          0.6972672554943155,
          0.6691535005266199,
          0.535284517255654,
          0.7116350635832918,
          0.8659660415420214,
          0.6513596466816386,
          0.8975429001347035,
          0.8788317195565989,
          0.9186182226296499,
          0.8798167421126687,
          0.8286643172429834,
          0.8153264564529363,
          0.966330854707102,
          0.8840587390866547,
          0.8384259101100565,
          0.7564044147277652,
          0.7014874762636766
         ],
         "type": "bar",
         "x": [
          "vision_bonnet",
          "vision_bumper_front",
          "vision_door_front_rh",
          "vision_door_rear_rh",
          "vision_engine",
          "vision_fender_front_rh",
          "vision_front_panel",
          "vision_headlamp_rh",
          "vision_non_external",
          "vision_misc",
          "vision_wheel",
          "vision_windscreen_front",
          "vision_bumper_rear",
          "vision_rear_compartment",
          "vision_rear_panel",
          "vision_rear_quarter_rh",
          "vision_tail_lamp_rh",
          "vision_door_front_lh",
          "vision_door_rear_lh",
          "vision_rear_quarter_lh",
          "vision_tail_lamp_lh",
          "vision_fender_front_lh",
          "vision_headlamp_lh",
          "vision_grille"
         ],
         "y": [
          0.85216656231665,
          0.5935266664440288,
          0.8463094335481824,
          0.8188540260908682,
          0.7141294436041637,
          0.8129851968342698,
          0.7930468646169031,
          0.6972672554943155,
          0.6691535005266199,
          0.535284517255654,
          0.7116350635832918,
          0.8659660415420214,
          0.6513596466816386,
          0.8975429001347035,
          0.8788317195565989,
          0.9186182226296499,
          0.8798167421126687,
          0.8286643172429834,
          0.8153264564529363,
          0.966330854707102,
          0.8840587390866547,
          0.8384259101100565,
          0.7564044147277652,
          0.7014874762636766
         ]
        }
       ],
       "layout": {
        "shapes": [
         {
          "line": {
           "color": "red",
           "width": 2
          },
          "type": "line",
          "x0": 0,
          "x1": 1,
          "xref": "x domain",
          "y0": 0.7886329988151418,
          "y1": 0.7886329988151418,
          "yref": "y"
         }
        ],
        "template": {
         "data": {
          "bar": [
           {
            "error_x": {
             "color": "#2a3f5f"
            },
            "error_y": {
             "color": "#2a3f5f"
            },
            "marker": {
             "line": {
              "color": "#E5ECF6",
              "width": 0.5
             },
             "pattern": {
              "fillmode": "overlay",
              "size": 10,
              "solidity": 0.2
             }
            },
            "type": "bar"
           }
          ],
          "barpolar": [
           {
            "marker": {
             "line": {
              "color": "#E5ECF6",
              "width": 0.5
             },
             "pattern": {
              "fillmode": "overlay",
              "size": 10,
              "solidity": 0.2
             }
            },
            "type": "barpolar"
           }
          ],
          "carpet": [
           {
            "aaxis": {
             "endlinecolor": "#2a3f5f",
             "gridcolor": "white",
             "linecolor": "white",
             "minorgridcolor": "white",
             "startlinecolor": "#2a3f5f"
            },
            "baxis": {
             "endlinecolor": "#2a3f5f",
             "gridcolor": "white",
             "linecolor": "white",
             "minorgridcolor": "white",
             "startlinecolor": "#2a3f5f"
            },
            "type": "carpet"
           }
          ],
          "choropleth": [
           {
            "colorbar": {
             "outlinewidth": 0,
             "ticks": ""
            },
            "type": "choropleth"
           }
          ],
          "contour": [
           {
            "colorbar": {
             "outlinewidth": 0,
             "ticks": ""
            },
            "colorscale": [
             [
              0,
              "#0d0887"
             ],
             [
              0.1111111111111111,
              "#46039f"
             ],
             [
              0.2222222222222222,
              "#7201a8"
             ],
             [
              0.3333333333333333,
              "#9c179e"
             ],
             [
              0.4444444444444444,
              "#bd3786"
             ],
             [
              0.5555555555555556,
              "#d8576b"
             ],
             [
              0.6666666666666666,
              "#ed7953"
             ],
             [
              0.7777777777777778,
              "#fb9f3a"
             ],
             [
              0.8888888888888888,
              "#fdca26"
             ],
             [
              1,
              "#f0f921"
             ]
            ],
            "type": "contour"
           }
          ],
          "contourcarpet": [
           {
            "colorbar": {
             "outlinewidth": 0,
             "ticks": ""
            },
            "type": "contourcarpet"
           }
          ],
          "heatmap": [
           {
            "colorbar": {
             "outlinewidth": 0,
             "ticks": ""
            },
            "colorscale": [
             [
              0,
              "#0d0887"
             ],
             [
              0.1111111111111111,
              "#46039f"
             ],
             [
              0.2222222222222222,
              "#7201a8"
             ],
             [
              0.3333333333333333,
              "#9c179e"
             ],
             [
              0.4444444444444444,
              "#bd3786"
             ],
             [
              0.5555555555555556,
              "#d8576b"
             ],
             [
              0.6666666666666666,
              "#ed7953"
             ],
             [
              0.7777777777777778,
              "#fb9f3a"
             ],
             [
              0.8888888888888888,
              "#fdca26"
             ],
             [
              1,
              "#f0f921"
             ]
            ],
            "type": "heatmap"
           }
          ],
          "heatmapgl": [
           {
            "colorbar": {
             "outlinewidth": 0,
             "ticks": ""
            },
            "colorscale": [
             [
              0,
              "#0d0887"
             ],
             [
              0.1111111111111111,
              "#46039f"
             ],
             [
              0.2222222222222222,
              "#7201a8"
             ],
             [
              0.3333333333333333,
              "#9c179e"
             ],
             [
              0.4444444444444444,
              "#bd3786"
             ],
             [
              0.5555555555555556,
              "#d8576b"
             ],
             [
              0.6666666666666666,
              "#ed7953"
             ],
             [
              0.7777777777777778,
              "#fb9f3a"
             ],
             [
              0.8888888888888888,
              "#fdca26"
             ],
             [
              1,
              "#f0f921"
             ]
            ],
            "type": "heatmapgl"
           }
          ],
          "histogram": [
           {
            "marker": {
             "pattern": {
              "fillmode": "overlay",
              "size": 10,
              "solidity": 0.2
             }
            },
            "type": "histogram"
           }
          ],
          "histogram2d": [
           {
            "colorbar": {
             "outlinewidth": 0,
             "ticks": ""
            },
            "colorscale": [
             [
              0,
              "#0d0887"
             ],
             [
              0.1111111111111111,
              "#46039f"
             ],
             [
              0.2222222222222222,
              "#7201a8"
             ],
             [
              0.3333333333333333,
              "#9c179e"
             ],
             [
              0.4444444444444444,
              "#bd3786"
             ],
             [
              0.5555555555555556,
              "#d8576b"
             ],
             [
              0.6666666666666666,
              "#ed7953"
             ],
             [
              0.7777777777777778,
              "#fb9f3a"
             ],
             [
              0.8888888888888888,
              "#fdca26"
             ],
             [
              1,
              "#f0f921"
             ]
            ],
            "type": "histogram2d"
           }
          ],
          "histogram2dcontour": [
           {
            "colorbar": {
             "outlinewidth": 0,
             "ticks": ""
            },
            "colorscale": [
             [
              0,
              "#0d0887"
             ],
             [
              0.1111111111111111,
              "#46039f"
             ],
             [
              0.2222222222222222,
              "#7201a8"
             ],
             [
              0.3333333333333333,
              "#9c179e"
             ],
             [
              0.4444444444444444,
              "#bd3786"
             ],
             [
              0.5555555555555556,
              "#d8576b"
             ],
             [
              0.6666666666666666,
              "#ed7953"
             ],
             [
              0.7777777777777778,
              "#fb9f3a"
             ],
             [
              0.8888888888888888,
              "#fdca26"
             ],
             [
              1,
              "#f0f921"
             ]
            ],
            "type": "histogram2dcontour"
           }
          ],
          "mesh3d": [
           {
            "colorbar": {
             "outlinewidth": 0,
             "ticks": ""
            },
            "type": "mesh3d"
           }
          ],
          "parcoords": [
           {
            "line": {
             "colorbar": {
              "outlinewidth": 0,
              "ticks": ""
             }
            },
            "type": "parcoords"
           }
          ],
          "pie": [
           {
            "automargin": true,
            "type": "pie"
           }
          ],
          "scatter": [
           {
            "fillpattern": {
             "fillmode": "overlay",
             "size": 10,
             "solidity": 0.2
            },
            "type": "scatter"
           }
          ],
          "scatter3d": [
           {
            "line": {
             "colorbar": {
              "outlinewidth": 0,
              "ticks": ""
             }
            },
            "marker": {
             "colorbar": {
              "outlinewidth": 0,
              "ticks": ""
             }
            },
            "type": "scatter3d"
           }
          ],
          "scattercarpet": [
           {
            "marker": {
             "colorbar": {
              "outlinewidth": 0,
              "ticks": ""
             }
            },
            "type": "scattercarpet"
           }
          ],
          "scattergeo": [
           {
            "marker": {
             "colorbar": {
              "outlinewidth": 0,
              "ticks": ""
             }
            },
            "type": "scattergeo"
           }
          ],
          "scattergl": [
           {
            "marker": {
             "colorbar": {
              "outlinewidth": 0,
              "ticks": ""
             }
            },
            "type": "scattergl"
           }
          ],
          "scattermapbox": [
           {
            "marker": {
             "colorbar": {
              "outlinewidth": 0,
              "ticks": ""
             }
            },
            "type": "scattermapbox"
           }
          ],
          "scatterpolar": [
           {
            "marker": {
             "colorbar": {
              "outlinewidth": 0,
              "ticks": ""
             }
            },
            "type": "scatterpolar"
           }
          ],
          "scatterpolargl": [
           {
            "marker": {
             "colorbar": {
              "outlinewidth": 0,
              "ticks": ""
             }
            },
            "type": "scatterpolargl"
           }
          ],
          "scatterternary": [
           {
            "marker": {
             "colorbar": {
              "outlinewidth": 0,
              "ticks": ""
             }
            },
            "type": "scatterternary"
           }
          ],
          "surface": [
           {
            "colorbar": {
             "outlinewidth": 0,
             "ticks": ""
            },
            "colorscale": [
             [
              0,
              "#0d0887"
             ],
             [
              0.1111111111111111,
              "#46039f"
             ],
             [
              0.2222222222222222,
              "#7201a8"
             ],
             [
              0.3333333333333333,
              "#9c179e"
             ],
             [
              0.4444444444444444,
              "#bd3786"
             ],
             [
              0.5555555555555556,
              "#d8576b"
             ],
             [
              0.6666666666666666,
              "#ed7953"
             ],
             [
              0.7777777777777778,
              "#fb9f3a"
             ],
             [
              0.8888888888888888,
              "#fdca26"
             ],
             [
              1,
              "#f0f921"
             ]
            ],
            "type": "surface"
           }
          ],
          "table": [
           {
            "cells": {
             "fill": {
              "color": "#EBF0F8"
             },
             "line": {
              "color": "white"
             }
            },
            "header": {
             "fill": {
              "color": "#C8D4E3"
             },
             "line": {
              "color": "white"
             }
            },
            "type": "table"
           }
          ]
         },
         "layout": {
          "annotationdefaults": {
           "arrowcolor": "#2a3f5f",
           "arrowhead": 0,
           "arrowwidth": 1
          },
          "autotypenumbers": "strict",
          "coloraxis": {
           "colorbar": {
            "outlinewidth": 0,
            "ticks": ""
           }
          },
          "colorscale": {
           "diverging": [
            [
             0,
             "#8e0152"
            ],
            [
             0.1,
             "#c51b7d"
            ],
            [
             0.2,
             "#de77ae"
            ],
            [
             0.3,
             "#f1b6da"
            ],
            [
             0.4,
             "#fde0ef"
            ],
            [
             0.5,
             "#f7f7f7"
            ],
            [
             0.6,
             "#e6f5d0"
            ],
            [
             0.7,
             "#b8e186"
            ],
            [
             0.8,
             "#7fbc41"
            ],
            [
             0.9,
             "#4d9221"
            ],
            [
             1,
             "#276419"
            ]
           ],
           "sequential": [
            [
             0,
             "#0d0887"
            ],
            [
             0.1111111111111111,
             "#46039f"
            ],
            [
             0.2222222222222222,
             "#7201a8"
            ],
            [
             0.3333333333333333,
             "#9c179e"
            ],
            [
             0.4444444444444444,
             "#bd3786"
            ],
            [
             0.5555555555555556,
             "#d8576b"
            ],
            [
             0.6666666666666666,
             "#ed7953"
            ],
            [
             0.7777777777777778,
             "#fb9f3a"
            ],
            [
             0.8888888888888888,
             "#fdca26"
            ],
            [
             1,
             "#f0f921"
            ]
           ],
           "sequentialminus": [
            [
             0,
             "#0d0887"
            ],
            [
             0.1111111111111111,
             "#46039f"
            ],
            [
             0.2222222222222222,
             "#7201a8"
            ],
            [
             0.3333333333333333,
             "#9c179e"
            ],
            [
             0.4444444444444444,
             "#bd3786"
            ],
            [
             0.5555555555555556,
             "#d8576b"
            ],
            [
             0.6666666666666666,
             "#ed7953"
            ],
            [
             0.7777777777777778,
             "#fb9f3a"
            ],
            [
             0.8888888888888888,
             "#fdca26"
            ],
            [
             1,
             "#f0f921"
            ]
           ]
          },
          "colorway": [
           "#636efa",
           "#EF553B",
           "#00cc96",
           "#ab63fa",
           "#FFA15A",
           "#19d3f3",
           "#FF6692",
           "#B6E880",
           "#FF97FF",
           "#FECB52"
          ],
          "font": {
           "color": "#2a3f5f"
          },
          "geo": {
           "bgcolor": "white",
           "lakecolor": "white",
           "landcolor": "#E5ECF6",
           "showlakes": true,
           "showland": true,
           "subunitcolor": "white"
          },
          "hoverlabel": {
           "align": "left"
          },
          "hovermode": "closest",
          "mapbox": {
           "style": "light"
          },
          "paper_bgcolor": "white",
          "plot_bgcolor": "#E5ECF6",
          "polar": {
           "angularaxis": {
            "gridcolor": "white",
            "linecolor": "white",
            "ticks": ""
           },
           "bgcolor": "#E5ECF6",
           "radialaxis": {
            "gridcolor": "white",
            "linecolor": "white",
            "ticks": ""
           }
          },
          "scene": {
           "xaxis": {
            "backgroundcolor": "#E5ECF6",
            "gridcolor": "white",
            "gridwidth": 2,
            "linecolor": "white",
            "showbackground": true,
            "ticks": "",
            "zerolinecolor": "white"
           },
           "yaxis": {
            "backgroundcolor": "#E5ECF6",
            "gridcolor": "white",
            "gridwidth": 2,
            "linecolor": "white",
            "showbackground": true,
            "ticks": "",
            "zerolinecolor": "white"
           },
           "zaxis": {
            "backgroundcolor": "#E5ECF6",
            "gridcolor": "white",
            "gridwidth": 2,
            "linecolor": "white",
            "showbackground": true,
            "ticks": "",
            "zerolinecolor": "white"
           }
          },
          "shapedefaults": {
           "line": {
            "color": "#2a3f5f"
           }
          },
          "ternary": {
           "aaxis": {
            "gridcolor": "white",
            "linecolor": "white",
            "ticks": ""
           },
           "baxis": {
            "gridcolor": "white",
            "linecolor": "white",
            "ticks": ""
           },
           "bgcolor": "#E5ECF6",
           "caxis": {
            "gridcolor": "white",
            "linecolor": "white",
            "ticks": ""
           }
          },
          "title": {
           "x": 0.05
          },
          "xaxis": {
           "automargin": true,
           "gridcolor": "white",
           "linecolor": "white",
           "ticks": "",
           "title": {
            "standoff": 15
           },
           "zerolinecolor": "white",
           "zerolinewidth": 2
          },
          "yaxis": {
           "automargin": true,
           "gridcolor": "white",
           "linecolor": "white",
           "ticks": "",
           "title": {
            "standoff": 15
           },
           "zerolinecolor": "white",
           "zerolinewidth": 2
          }
         }
        },
        "title": {
         "text": "precision",
         "x": 0.5
        },
        "yaxis": {
         "tickmode": "array",
         "tickvals": [
          "0.79",
          0.3,
          0.8
         ]
        }
       }
      }
     },
     "metadata": {},
     "output_type": "display_data"
    }
   ],
   "source": [
    "genVisMulitlabel(partEvalMetrics, \"precision\")"
   ]
  },
  {
   "cell_type": "code",
   "execution_count": 43,
   "metadata": {},
   "outputs": [
    {
     "data": {
      "application/vnd.plotly.v1+json": {
       "config": {
        "plotlyServerURL": "https://plot.ly"
       },
       "data": [
        {
         "text": [
          0.7931340633323468,
          0.9418515684774292,
          0.5860889395667047,
          0.5514705882352942,
          0.8282195783761219,
          0.7591555364067213,
          0.7738865626189569,
          0.8515151515151516,
          0.7507116714111427,
          0.9634263715110684,
          0.6002824858757062,
          0.5826558265582655,
          0.7964454976303318,
          0.6592991913746631,
          0.7626832018038332,
          0.5934579439252337,
          0.6588996763754046,
          0.42417061611374407,
          0.36728395061728397,
          0.43045112781954886,
          0.6716417910447762,
          0.6496383363471971,
          0.8299745193421357,
          0.5268421052631579
         ],
         "type": "bar",
         "x": [
          "vision_bonnet",
          "vision_bumper_front",
          "vision_door_front_rh",
          "vision_door_rear_rh",
          "vision_engine",
          "vision_fender_front_rh",
          "vision_front_panel",
          "vision_headlamp_rh",
          "vision_non_external",
          "vision_misc",
          "vision_wheel",
          "vision_windscreen_front",
          "vision_bumper_rear",
          "vision_rear_compartment",
          "vision_rear_panel",
          "vision_rear_quarter_rh",
          "vision_tail_lamp_rh",
          "vision_door_front_lh",
          "vision_door_rear_lh",
          "vision_rear_quarter_lh",
          "vision_tail_lamp_lh",
          "vision_fender_front_lh",
          "vision_headlamp_lh",
          "vision_grille"
         ],
         "y": [
          0.7931340633323468,
          0.9418515684774292,
          0.5860889395667047,
          0.5514705882352942,
          0.8282195783761219,
          0.7591555364067213,
          0.7738865626189569,
          0.8515151515151516,
          0.7507116714111427,
          0.9634263715110684,
          0.6002824858757062,
          0.5826558265582655,
          0.7964454976303318,
          0.6592991913746631,
          0.7626832018038332,
          0.5934579439252337,
          0.6588996763754046,
          0.42417061611374407,
          0.36728395061728397,
          0.43045112781954886,
          0.6716417910447762,
          0.6496383363471971,
          0.8299745193421357,
          0.5268421052631579
         ]
        }
       ],
       "layout": {
        "shapes": [
         {
          "line": {
           "color": "red",
           "width": 2
          },
          "type": "line",
          "x0": 0,
          "x1": 1,
          "xref": "x domain",
          "y0": 0.6813827625642591,
          "y1": 0.6813827625642591,
          "yref": "y"
         }
        ],
        "template": {
         "data": {
          "bar": [
           {
            "error_x": {
             "color": "#2a3f5f"
            },
            "error_y": {
             "color": "#2a3f5f"
            },
            "marker": {
             "line": {
              "color": "#E5ECF6",
              "width": 0.5
             },
             "pattern": {
              "fillmode": "overlay",
              "size": 10,
              "solidity": 0.2
             }
            },
            "type": "bar"
           }
          ],
          "barpolar": [
           {
            "marker": {
             "line": {
              "color": "#E5ECF6",
              "width": 0.5
             },
             "pattern": {
              "fillmode": "overlay",
              "size": 10,
              "solidity": 0.2
             }
            },
            "type": "barpolar"
           }
          ],
          "carpet": [
           {
            "aaxis": {
             "endlinecolor": "#2a3f5f",
             "gridcolor": "white",
             "linecolor": "white",
             "minorgridcolor": "white",
             "startlinecolor": "#2a3f5f"
            },
            "baxis": {
             "endlinecolor": "#2a3f5f",
             "gridcolor": "white",
             "linecolor": "white",
             "minorgridcolor": "white",
             "startlinecolor": "#2a3f5f"
            },
            "type": "carpet"
           }
          ],
          "choropleth": [
           {
            "colorbar": {
             "outlinewidth": 0,
             "ticks": ""
            },
            "type": "choropleth"
           }
          ],
          "contour": [
           {
            "colorbar": {
             "outlinewidth": 0,
             "ticks": ""
            },
            "colorscale": [
             [
              0,
              "#0d0887"
             ],
             [
              0.1111111111111111,
              "#46039f"
             ],
             [
              0.2222222222222222,
              "#7201a8"
             ],
             [
              0.3333333333333333,
              "#9c179e"
             ],
             [
              0.4444444444444444,
              "#bd3786"
             ],
             [
              0.5555555555555556,
              "#d8576b"
             ],
             [
              0.6666666666666666,
              "#ed7953"
             ],
             [
              0.7777777777777778,
              "#fb9f3a"
             ],
             [
              0.8888888888888888,
              "#fdca26"
             ],
             [
              1,
              "#f0f921"
             ]
            ],
            "type": "contour"
           }
          ],
          "contourcarpet": [
           {
            "colorbar": {
             "outlinewidth": 0,
             "ticks": ""
            },
            "type": "contourcarpet"
           }
          ],
          "heatmap": [
           {
            "colorbar": {
             "outlinewidth": 0,
             "ticks": ""
            },
            "colorscale": [
             [
              0,
              "#0d0887"
             ],
             [
              0.1111111111111111,
              "#46039f"
             ],
             [
              0.2222222222222222,
              "#7201a8"
             ],
             [
              0.3333333333333333,
              "#9c179e"
             ],
             [
              0.4444444444444444,
              "#bd3786"
             ],
             [
              0.5555555555555556,
              "#d8576b"
             ],
             [
              0.6666666666666666,
              "#ed7953"
             ],
             [
              0.7777777777777778,
              "#fb9f3a"
             ],
             [
              0.8888888888888888,
              "#fdca26"
             ],
             [
              1,
              "#f0f921"
             ]
            ],
            "type": "heatmap"
           }
          ],
          "heatmapgl": [
           {
            "colorbar": {
             "outlinewidth": 0,
             "ticks": ""
            },
            "colorscale": [
             [
              0,
              "#0d0887"
             ],
             [
              0.1111111111111111,
              "#46039f"
             ],
             [
              0.2222222222222222,
              "#7201a8"
             ],
             [
              0.3333333333333333,
              "#9c179e"
             ],
             [
              0.4444444444444444,
              "#bd3786"
             ],
             [
              0.5555555555555556,
              "#d8576b"
             ],
             [
              0.6666666666666666,
              "#ed7953"
             ],
             [
              0.7777777777777778,
              "#fb9f3a"
             ],
             [
              0.8888888888888888,
              "#fdca26"
             ],
             [
              1,
              "#f0f921"
             ]
            ],
            "type": "heatmapgl"
           }
          ],
          "histogram": [
           {
            "marker": {
             "pattern": {
              "fillmode": "overlay",
              "size": 10,
              "solidity": 0.2
             }
            },
            "type": "histogram"
           }
          ],
          "histogram2d": [
           {
            "colorbar": {
             "outlinewidth": 0,
             "ticks": ""
            },
            "colorscale": [
             [
              0,
              "#0d0887"
             ],
             [
              0.1111111111111111,
              "#46039f"
             ],
             [
              0.2222222222222222,
              "#7201a8"
             ],
             [
              0.3333333333333333,
              "#9c179e"
             ],
             [
              0.4444444444444444,
              "#bd3786"
             ],
             [
              0.5555555555555556,
              "#d8576b"
             ],
             [
              0.6666666666666666,
              "#ed7953"
             ],
             [
              0.7777777777777778,
              "#fb9f3a"
             ],
             [
              0.8888888888888888,
              "#fdca26"
             ],
             [
              1,
              "#f0f921"
             ]
            ],
            "type": "histogram2d"
           }
          ],
          "histogram2dcontour": [
           {
            "colorbar": {
             "outlinewidth": 0,
             "ticks": ""
            },
            "colorscale": [
             [
              0,
              "#0d0887"
             ],
             [
              0.1111111111111111,
              "#46039f"
             ],
             [
              0.2222222222222222,
              "#7201a8"
             ],
             [
              0.3333333333333333,
              "#9c179e"
             ],
             [
              0.4444444444444444,
              "#bd3786"
             ],
             [
              0.5555555555555556,
              "#d8576b"
             ],
             [
              0.6666666666666666,
              "#ed7953"
             ],
             [
              0.7777777777777778,
              "#fb9f3a"
             ],
             [
              0.8888888888888888,
              "#fdca26"
             ],
             [
              1,
              "#f0f921"
             ]
            ],
            "type": "histogram2dcontour"
           }
          ],
          "mesh3d": [
           {
            "colorbar": {
             "outlinewidth": 0,
             "ticks": ""
            },
            "type": "mesh3d"
           }
          ],
          "parcoords": [
           {
            "line": {
             "colorbar": {
              "outlinewidth": 0,
              "ticks": ""
             }
            },
            "type": "parcoords"
           }
          ],
          "pie": [
           {
            "automargin": true,
            "type": "pie"
           }
          ],
          "scatter": [
           {
            "fillpattern": {
             "fillmode": "overlay",
             "size": 10,
             "solidity": 0.2
            },
            "type": "scatter"
           }
          ],
          "scatter3d": [
           {
            "line": {
             "colorbar": {
              "outlinewidth": 0,
              "ticks": ""
             }
            },
            "marker": {
             "colorbar": {
              "outlinewidth": 0,
              "ticks": ""
             }
            },
            "type": "scatter3d"
           }
          ],
          "scattercarpet": [
           {
            "marker": {
             "colorbar": {
              "outlinewidth": 0,
              "ticks": ""
             }
            },
            "type": "scattercarpet"
           }
          ],
          "scattergeo": [
           {
            "marker": {
             "colorbar": {
              "outlinewidth": 0,
              "ticks": ""
             }
            },
            "type": "scattergeo"
           }
          ],
          "scattergl": [
           {
            "marker": {
             "colorbar": {
              "outlinewidth": 0,
              "ticks": ""
             }
            },
            "type": "scattergl"
           }
          ],
          "scattermapbox": [
           {
            "marker": {
             "colorbar": {
              "outlinewidth": 0,
              "ticks": ""
             }
            },
            "type": "scattermapbox"
           }
          ],
          "scatterpolar": [
           {
            "marker": {
             "colorbar": {
              "outlinewidth": 0,
              "ticks": ""
             }
            },
            "type": "scatterpolar"
           }
          ],
          "scatterpolargl": [
           {
            "marker": {
             "colorbar": {
              "outlinewidth": 0,
              "ticks": ""
             }
            },
            "type": "scatterpolargl"
           }
          ],
          "scatterternary": [
           {
            "marker": {
             "colorbar": {
              "outlinewidth": 0,
              "ticks": ""
             }
            },
            "type": "scatterternary"
           }
          ],
          "surface": [
           {
            "colorbar": {
             "outlinewidth": 0,
             "ticks": ""
            },
            "colorscale": [
             [
              0,
              "#0d0887"
             ],
             [
              0.1111111111111111,
              "#46039f"
             ],
             [
              0.2222222222222222,
              "#7201a8"
             ],
             [
              0.3333333333333333,
              "#9c179e"
             ],
             [
              0.4444444444444444,
              "#bd3786"
             ],
             [
              0.5555555555555556,
              "#d8576b"
             ],
             [
              0.6666666666666666,
              "#ed7953"
             ],
             [
              0.7777777777777778,
              "#fb9f3a"
             ],
             [
              0.8888888888888888,
              "#fdca26"
             ],
             [
              1,
              "#f0f921"
             ]
            ],
            "type": "surface"
           }
          ],
          "table": [
           {
            "cells": {
             "fill": {
              "color": "#EBF0F8"
             },
             "line": {
              "color": "white"
             }
            },
            "header": {
             "fill": {
              "color": "#C8D4E3"
             },
             "line": {
              "color": "white"
             }
            },
            "type": "table"
           }
          ]
         },
         "layout": {
          "annotationdefaults": {
           "arrowcolor": "#2a3f5f",
           "arrowhead": 0,
           "arrowwidth": 1
          },
          "autotypenumbers": "strict",
          "coloraxis": {
           "colorbar": {
            "outlinewidth": 0,
            "ticks": ""
           }
          },
          "colorscale": {
           "diverging": [
            [
             0,
             "#8e0152"
            ],
            [
             0.1,
             "#c51b7d"
            ],
            [
             0.2,
             "#de77ae"
            ],
            [
             0.3,
             "#f1b6da"
            ],
            [
             0.4,
             "#fde0ef"
            ],
            [
             0.5,
             "#f7f7f7"
            ],
            [
             0.6,
             "#e6f5d0"
            ],
            [
             0.7,
             "#b8e186"
            ],
            [
             0.8,
             "#7fbc41"
            ],
            [
             0.9,
             "#4d9221"
            ],
            [
             1,
             "#276419"
            ]
           ],
           "sequential": [
            [
             0,
             "#0d0887"
            ],
            [
             0.1111111111111111,
             "#46039f"
            ],
            [
             0.2222222222222222,
             "#7201a8"
            ],
            [
             0.3333333333333333,
             "#9c179e"
            ],
            [
             0.4444444444444444,
             "#bd3786"
            ],
            [
             0.5555555555555556,
             "#d8576b"
            ],
            [
             0.6666666666666666,
             "#ed7953"
            ],
            [
             0.7777777777777778,
             "#fb9f3a"
            ],
            [
             0.8888888888888888,
             "#fdca26"
            ],
            [
             1,
             "#f0f921"
            ]
           ],
           "sequentialminus": [
            [
             0,
             "#0d0887"
            ],
            [
             0.1111111111111111,
             "#46039f"
            ],
            [
             0.2222222222222222,
             "#7201a8"
            ],
            [
             0.3333333333333333,
             "#9c179e"
            ],
            [
             0.4444444444444444,
             "#bd3786"
            ],
            [
             0.5555555555555556,
             "#d8576b"
            ],
            [
             0.6666666666666666,
             "#ed7953"
            ],
            [
             0.7777777777777778,
             "#fb9f3a"
            ],
            [
             0.8888888888888888,
             "#fdca26"
            ],
            [
             1,
             "#f0f921"
            ]
           ]
          },
          "colorway": [
           "#636efa",
           "#EF553B",
           "#00cc96",
           "#ab63fa",
           "#FFA15A",
           "#19d3f3",
           "#FF6692",
           "#B6E880",
           "#FF97FF",
           "#FECB52"
          ],
          "font": {
           "color": "#2a3f5f"
          },
          "geo": {
           "bgcolor": "white",
           "lakecolor": "white",
           "landcolor": "#E5ECF6",
           "showlakes": true,
           "showland": true,
           "subunitcolor": "white"
          },
          "hoverlabel": {
           "align": "left"
          },
          "hovermode": "closest",
          "mapbox": {
           "style": "light"
          },
          "paper_bgcolor": "white",
          "plot_bgcolor": "#E5ECF6",
          "polar": {
           "angularaxis": {
            "gridcolor": "white",
            "linecolor": "white",
            "ticks": ""
           },
           "bgcolor": "#E5ECF6",
           "radialaxis": {
            "gridcolor": "white",
            "linecolor": "white",
            "ticks": ""
           }
          },
          "scene": {
           "xaxis": {
            "backgroundcolor": "#E5ECF6",
            "gridcolor": "white",
            "gridwidth": 2,
            "linecolor": "white",
            "showbackground": true,
            "ticks": "",
            "zerolinecolor": "white"
           },
           "yaxis": {
            "backgroundcolor": "#E5ECF6",
            "gridcolor": "white",
            "gridwidth": 2,
            "linecolor": "white",
            "showbackground": true,
            "ticks": "",
            "zerolinecolor": "white"
           },
           "zaxis": {
            "backgroundcolor": "#E5ECF6",
            "gridcolor": "white",
            "gridwidth": 2,
            "linecolor": "white",
            "showbackground": true,
            "ticks": "",
            "zerolinecolor": "white"
           }
          },
          "shapedefaults": {
           "line": {
            "color": "#2a3f5f"
           }
          },
          "ternary": {
           "aaxis": {
            "gridcolor": "white",
            "linecolor": "white",
            "ticks": ""
           },
           "baxis": {
            "gridcolor": "white",
            "linecolor": "white",
            "ticks": ""
           },
           "bgcolor": "#E5ECF6",
           "caxis": {
            "gridcolor": "white",
            "linecolor": "white",
            "ticks": ""
           }
          },
          "title": {
           "x": 0.05
          },
          "xaxis": {
           "automargin": true,
           "gridcolor": "white",
           "linecolor": "white",
           "ticks": "",
           "title": {
            "standoff": 15
           },
           "zerolinecolor": "white",
           "zerolinewidth": 2
          },
          "yaxis": {
           "automargin": true,
           "gridcolor": "white",
           "linecolor": "white",
           "ticks": "",
           "title": {
            "standoff": 15
           },
           "zerolinecolor": "white",
           "zerolinewidth": 2
          }
         }
        },
        "title": {
         "text": "recall",
         "x": 0.5
        },
        "yaxis": {
         "tickmode": "array",
         "tickvals": [
          "0.68",
          0.3,
          0.8
         ]
        }
       }
      }
     },
     "metadata": {},
     "output_type": "display_data"
    }
   ],
   "source": [
    "genVisMulitlabel(partEvalMetrics, \"recall\")"
   ]
  },
  {
   "cell_type": "code",
   "execution_count": 44,
   "metadata": {},
   "outputs": [
    {
     "data": {
      "application/vnd.plotly.v1+json": {
       "config": {
        "plotlyServerURL": "https://plot.ly"
       },
       "data": [
        {
         "text": [
          0.8215912857135845,
          0.7281776034191143,
          0.6925623594153155,
          0.659075822949039,
          0.7669547920203175,
          0.7851488103372449,
          0.7833495685094425,
          0.7667101976645407,
          0.7075902032661099,
          0.6882010720693968,
          0.6512330979645082,
          0.696607128218674,
          0.7166329805855292,
          0.760191815868976,
          0.8166483057768346,
          0.7210764824051697,
          0.7534994228726279,
          0.5611194972903074,
          0.5064327527958993,
          0.5955950340984071,
          0.7633484509499826,
          0.7320565824910142,
          0.7914835189235863,
          0.6017491467576791
         ],
         "type": "bar",
         "x": [
          "vision_bonnet",
          "vision_bumper_front",
          "vision_door_front_rh",
          "vision_door_rear_rh",
          "vision_engine",
          "vision_fender_front_rh",
          "vision_front_panel",
          "vision_headlamp_rh",
          "vision_non_external",
          "vision_misc",
          "vision_wheel",
          "vision_windscreen_front",
          "vision_bumper_rear",
          "vision_rear_compartment",
          "vision_rear_panel",
          "vision_rear_quarter_rh",
          "vision_tail_lamp_rh",
          "vision_door_front_lh",
          "vision_door_rear_lh",
          "vision_rear_quarter_lh",
          "vision_tail_lamp_lh",
          "vision_fender_front_lh",
          "vision_headlamp_lh",
          "vision_grille"
         ],
         "y": [
          0.8215912857135845,
          0.7281776034191143,
          0.6925623594153155,
          0.659075822949039,
          0.7669547920203175,
          0.7851488103372449,
          0.7833495685094425,
          0.7667101976645407,
          0.7075902032661099,
          0.6882010720693968,
          0.6512330979645082,
          0.696607128218674,
          0.7166329805855292,
          0.760191815868976,
          0.8166483057768346,
          0.7210764824051697,
          0.7534994228726279,
          0.5611194972903074,
          0.5064327527958993,
          0.5955950340984071,
          0.7633484509499826,
          0.7320565824910142,
          0.7914835189235863,
          0.6017491467576791
         ]
        }
       ],
       "layout": {
        "shapes": [
         {
          "line": {
           "color": "red",
           "width": 2
          },
          "type": "line",
          "x0": 0,
          "x1": 1,
          "xref": "x domain",
          "y0": 0.7111264971818043,
          "y1": 0.7111264971818043,
          "yref": "y"
         }
        ],
        "template": {
         "data": {
          "bar": [
           {
            "error_x": {
             "color": "#2a3f5f"
            },
            "error_y": {
             "color": "#2a3f5f"
            },
            "marker": {
             "line": {
              "color": "#E5ECF6",
              "width": 0.5
             },
             "pattern": {
              "fillmode": "overlay",
              "size": 10,
              "solidity": 0.2
             }
            },
            "type": "bar"
           }
          ],
          "barpolar": [
           {
            "marker": {
             "line": {
              "color": "#E5ECF6",
              "width": 0.5
             },
             "pattern": {
              "fillmode": "overlay",
              "size": 10,
              "solidity": 0.2
             }
            },
            "type": "barpolar"
           }
          ],
          "carpet": [
           {
            "aaxis": {
             "endlinecolor": "#2a3f5f",
             "gridcolor": "white",
             "linecolor": "white",
             "minorgridcolor": "white",
             "startlinecolor": "#2a3f5f"
            },
            "baxis": {
             "endlinecolor": "#2a3f5f",
             "gridcolor": "white",
             "linecolor": "white",
             "minorgridcolor": "white",
             "startlinecolor": "#2a3f5f"
            },
            "type": "carpet"
           }
          ],
          "choropleth": [
           {
            "colorbar": {
             "outlinewidth": 0,
             "ticks": ""
            },
            "type": "choropleth"
           }
          ],
          "contour": [
           {
            "colorbar": {
             "outlinewidth": 0,
             "ticks": ""
            },
            "colorscale": [
             [
              0,
              "#0d0887"
             ],
             [
              0.1111111111111111,
              "#46039f"
             ],
             [
              0.2222222222222222,
              "#7201a8"
             ],
             [
              0.3333333333333333,
              "#9c179e"
             ],
             [
              0.4444444444444444,
              "#bd3786"
             ],
             [
              0.5555555555555556,
              "#d8576b"
             ],
             [
              0.6666666666666666,
              "#ed7953"
             ],
             [
              0.7777777777777778,
              "#fb9f3a"
             ],
             [
              0.8888888888888888,
              "#fdca26"
             ],
             [
              1,
              "#f0f921"
             ]
            ],
            "type": "contour"
           }
          ],
          "contourcarpet": [
           {
            "colorbar": {
             "outlinewidth": 0,
             "ticks": ""
            },
            "type": "contourcarpet"
           }
          ],
          "heatmap": [
           {
            "colorbar": {
             "outlinewidth": 0,
             "ticks": ""
            },
            "colorscale": [
             [
              0,
              "#0d0887"
             ],
             [
              0.1111111111111111,
              "#46039f"
             ],
             [
              0.2222222222222222,
              "#7201a8"
             ],
             [
              0.3333333333333333,
              "#9c179e"
             ],
             [
              0.4444444444444444,
              "#bd3786"
             ],
             [
              0.5555555555555556,
              "#d8576b"
             ],
             [
              0.6666666666666666,
              "#ed7953"
             ],
             [
              0.7777777777777778,
              "#fb9f3a"
             ],
             [
              0.8888888888888888,
              "#fdca26"
             ],
             [
              1,
              "#f0f921"
             ]
            ],
            "type": "heatmap"
           }
          ],
          "heatmapgl": [
           {
            "colorbar": {
             "outlinewidth": 0,
             "ticks": ""
            },
            "colorscale": [
             [
              0,
              "#0d0887"
             ],
             [
              0.1111111111111111,
              "#46039f"
             ],
             [
              0.2222222222222222,
              "#7201a8"
             ],
             [
              0.3333333333333333,
              "#9c179e"
             ],
             [
              0.4444444444444444,
              "#bd3786"
             ],
             [
              0.5555555555555556,
              "#d8576b"
             ],
             [
              0.6666666666666666,
              "#ed7953"
             ],
             [
              0.7777777777777778,
              "#fb9f3a"
             ],
             [
              0.8888888888888888,
              "#fdca26"
             ],
             [
              1,
              "#f0f921"
             ]
            ],
            "type": "heatmapgl"
           }
          ],
          "histogram": [
           {
            "marker": {
             "pattern": {
              "fillmode": "overlay",
              "size": 10,
              "solidity": 0.2
             }
            },
            "type": "histogram"
           }
          ],
          "histogram2d": [
           {
            "colorbar": {
             "outlinewidth": 0,
             "ticks": ""
            },
            "colorscale": [
             [
              0,
              "#0d0887"
             ],
             [
              0.1111111111111111,
              "#46039f"
             ],
             [
              0.2222222222222222,
              "#7201a8"
             ],
             [
              0.3333333333333333,
              "#9c179e"
             ],
             [
              0.4444444444444444,
              "#bd3786"
             ],
             [
              0.5555555555555556,
              "#d8576b"
             ],
             [
              0.6666666666666666,
              "#ed7953"
             ],
             [
              0.7777777777777778,
              "#fb9f3a"
             ],
             [
              0.8888888888888888,
              "#fdca26"
             ],
             [
              1,
              "#f0f921"
             ]
            ],
            "type": "histogram2d"
           }
          ],
          "histogram2dcontour": [
           {
            "colorbar": {
             "outlinewidth": 0,
             "ticks": ""
            },
            "colorscale": [
             [
              0,
              "#0d0887"
             ],
             [
              0.1111111111111111,
              "#46039f"
             ],
             [
              0.2222222222222222,
              "#7201a8"
             ],
             [
              0.3333333333333333,
              "#9c179e"
             ],
             [
              0.4444444444444444,
              "#bd3786"
             ],
             [
              0.5555555555555556,
              "#d8576b"
             ],
             [
              0.6666666666666666,
              "#ed7953"
             ],
             [
              0.7777777777777778,
              "#fb9f3a"
             ],
             [
              0.8888888888888888,
              "#fdca26"
             ],
             [
              1,
              "#f0f921"
             ]
            ],
            "type": "histogram2dcontour"
           }
          ],
          "mesh3d": [
           {
            "colorbar": {
             "outlinewidth": 0,
             "ticks": ""
            },
            "type": "mesh3d"
           }
          ],
          "parcoords": [
           {
            "line": {
             "colorbar": {
              "outlinewidth": 0,
              "ticks": ""
             }
            },
            "type": "parcoords"
           }
          ],
          "pie": [
           {
            "automargin": true,
            "type": "pie"
           }
          ],
          "scatter": [
           {
            "fillpattern": {
             "fillmode": "overlay",
             "size": 10,
             "solidity": 0.2
            },
            "type": "scatter"
           }
          ],
          "scatter3d": [
           {
            "line": {
             "colorbar": {
              "outlinewidth": 0,
              "ticks": ""
             }
            },
            "marker": {
             "colorbar": {
              "outlinewidth": 0,
              "ticks": ""
             }
            },
            "type": "scatter3d"
           }
          ],
          "scattercarpet": [
           {
            "marker": {
             "colorbar": {
              "outlinewidth": 0,
              "ticks": ""
             }
            },
            "type": "scattercarpet"
           }
          ],
          "scattergeo": [
           {
            "marker": {
             "colorbar": {
              "outlinewidth": 0,
              "ticks": ""
             }
            },
            "type": "scattergeo"
           }
          ],
          "scattergl": [
           {
            "marker": {
             "colorbar": {
              "outlinewidth": 0,
              "ticks": ""
             }
            },
            "type": "scattergl"
           }
          ],
          "scattermapbox": [
           {
            "marker": {
             "colorbar": {
              "outlinewidth": 0,
              "ticks": ""
             }
            },
            "type": "scattermapbox"
           }
          ],
          "scatterpolar": [
           {
            "marker": {
             "colorbar": {
              "outlinewidth": 0,
              "ticks": ""
             }
            },
            "type": "scatterpolar"
           }
          ],
          "scatterpolargl": [
           {
            "marker": {
             "colorbar": {
              "outlinewidth": 0,
              "ticks": ""
             }
            },
            "type": "scatterpolargl"
           }
          ],
          "scatterternary": [
           {
            "marker": {
             "colorbar": {
              "outlinewidth": 0,
              "ticks": ""
             }
            },
            "type": "scatterternary"
           }
          ],
          "surface": [
           {
            "colorbar": {
             "outlinewidth": 0,
             "ticks": ""
            },
            "colorscale": [
             [
              0,
              "#0d0887"
             ],
             [
              0.1111111111111111,
              "#46039f"
             ],
             [
              0.2222222222222222,
              "#7201a8"
             ],
             [
              0.3333333333333333,
              "#9c179e"
             ],
             [
              0.4444444444444444,
              "#bd3786"
             ],
             [
              0.5555555555555556,
              "#d8576b"
             ],
             [
              0.6666666666666666,
              "#ed7953"
             ],
             [
              0.7777777777777778,
              "#fb9f3a"
             ],
             [
              0.8888888888888888,
              "#fdca26"
             ],
             [
              1,
              "#f0f921"
             ]
            ],
            "type": "surface"
           }
          ],
          "table": [
           {
            "cells": {
             "fill": {
              "color": "#EBF0F8"
             },
             "line": {
              "color": "white"
             }
            },
            "header": {
             "fill": {
              "color": "#C8D4E3"
             },
             "line": {
              "color": "white"
             }
            },
            "type": "table"
           }
          ]
         },
         "layout": {
          "annotationdefaults": {
           "arrowcolor": "#2a3f5f",
           "arrowhead": 0,
           "arrowwidth": 1
          },
          "autotypenumbers": "strict",
          "coloraxis": {
           "colorbar": {
            "outlinewidth": 0,
            "ticks": ""
           }
          },
          "colorscale": {
           "diverging": [
            [
             0,
             "#8e0152"
            ],
            [
             0.1,
             "#c51b7d"
            ],
            [
             0.2,
             "#de77ae"
            ],
            [
             0.3,
             "#f1b6da"
            ],
            [
             0.4,
             "#fde0ef"
            ],
            [
             0.5,
             "#f7f7f7"
            ],
            [
             0.6,
             "#e6f5d0"
            ],
            [
             0.7,
             "#b8e186"
            ],
            [
             0.8,
             "#7fbc41"
            ],
            [
             0.9,
             "#4d9221"
            ],
            [
             1,
             "#276419"
            ]
           ],
           "sequential": [
            [
             0,
             "#0d0887"
            ],
            [
             0.1111111111111111,
             "#46039f"
            ],
            [
             0.2222222222222222,
             "#7201a8"
            ],
            [
             0.3333333333333333,
             "#9c179e"
            ],
            [
             0.4444444444444444,
             "#bd3786"
            ],
            [
             0.5555555555555556,
             "#d8576b"
            ],
            [
             0.6666666666666666,
             "#ed7953"
            ],
            [
             0.7777777777777778,
             "#fb9f3a"
            ],
            [
             0.8888888888888888,
             "#fdca26"
            ],
            [
             1,
             "#f0f921"
            ]
           ],
           "sequentialminus": [
            [
             0,
             "#0d0887"
            ],
            [
             0.1111111111111111,
             "#46039f"
            ],
            [
             0.2222222222222222,
             "#7201a8"
            ],
            [
             0.3333333333333333,
             "#9c179e"
            ],
            [
             0.4444444444444444,
             "#bd3786"
            ],
            [
             0.5555555555555556,
             "#d8576b"
            ],
            [
             0.6666666666666666,
             "#ed7953"
            ],
            [
             0.7777777777777778,
             "#fb9f3a"
            ],
            [
             0.8888888888888888,
             "#fdca26"
            ],
            [
             1,
             "#f0f921"
            ]
           ]
          },
          "colorway": [
           "#636efa",
           "#EF553B",
           "#00cc96",
           "#ab63fa",
           "#FFA15A",
           "#19d3f3",
           "#FF6692",
           "#B6E880",
           "#FF97FF",
           "#FECB52"
          ],
          "font": {
           "color": "#2a3f5f"
          },
          "geo": {
           "bgcolor": "white",
           "lakecolor": "white",
           "landcolor": "#E5ECF6",
           "showlakes": true,
           "showland": true,
           "subunitcolor": "white"
          },
          "hoverlabel": {
           "align": "left"
          },
          "hovermode": "closest",
          "mapbox": {
           "style": "light"
          },
          "paper_bgcolor": "white",
          "plot_bgcolor": "#E5ECF6",
          "polar": {
           "angularaxis": {
            "gridcolor": "white",
            "linecolor": "white",
            "ticks": ""
           },
           "bgcolor": "#E5ECF6",
           "radialaxis": {
            "gridcolor": "white",
            "linecolor": "white",
            "ticks": ""
           }
          },
          "scene": {
           "xaxis": {
            "backgroundcolor": "#E5ECF6",
            "gridcolor": "white",
            "gridwidth": 2,
            "linecolor": "white",
            "showbackground": true,
            "ticks": "",
            "zerolinecolor": "white"
           },
           "yaxis": {
            "backgroundcolor": "#E5ECF6",
            "gridcolor": "white",
            "gridwidth": 2,
            "linecolor": "white",
            "showbackground": true,
            "ticks": "",
            "zerolinecolor": "white"
           },
           "zaxis": {
            "backgroundcolor": "#E5ECF6",
            "gridcolor": "white",
            "gridwidth": 2,
            "linecolor": "white",
            "showbackground": true,
            "ticks": "",
            "zerolinecolor": "white"
           }
          },
          "shapedefaults": {
           "line": {
            "color": "#2a3f5f"
           }
          },
          "ternary": {
           "aaxis": {
            "gridcolor": "white",
            "linecolor": "white",
            "ticks": ""
           },
           "baxis": {
            "gridcolor": "white",
            "linecolor": "white",
            "ticks": ""
           },
           "bgcolor": "#E5ECF6",
           "caxis": {
            "gridcolor": "white",
            "linecolor": "white",
            "ticks": ""
           }
          },
          "title": {
           "x": 0.05
          },
          "xaxis": {
           "automargin": true,
           "gridcolor": "white",
           "linecolor": "white",
           "ticks": "",
           "title": {
            "standoff": 15
           },
           "zerolinecolor": "white",
           "zerolinewidth": 2
          },
          "yaxis": {
           "automargin": true,
           "gridcolor": "white",
           "linecolor": "white",
           "ticks": "",
           "title": {
            "standoff": 15
           },
           "zerolinecolor": "white",
           "zerolinewidth": 2
          }
         }
        },
        "title": {
         "text": "f1",
         "x": 0.5
        },
        "yaxis": {
         "tickmode": "array",
         "tickvals": [
          "0.71",
          0.3,
          0.8
         ]
        }
       }
      }
     },
     "metadata": {},
     "output_type": "display_data"
    }
   ],
   "source": [
    "genVisMulitlabel(partEvalMetrics, \"f1\")"
   ]
  },
  {
   "cell_type": "code",
   "execution_count": 45,
   "metadata": {},
   "outputs": [
    {
     "data": {
      "application/vnd.plotly.v1+json": {
       "config": {
        "plotlyServerURL": "https://plot.ly"
       },
       "data": [
        {
         "text": [
          0.3379,
          0.6535,
          0.0877,
          0.068,
          0.4791,
          0.2321,
          0.2627,
          0.462,
          0.2459,
          0.4156,
          0.1416,
          0.1107,
          0.422,
          0.1855,
          0.1774,
          0.0642,
          0.1545,
          0.0844,
          0.0648,
          0.0532,
          0.1474,
          0.2212,
          0.4317,
          0.38
         ],
         "type": "bar",
         "x": [
          "vision_bonnet",
          "vision_bumper_front",
          "vision_door_front_rh",
          "vision_door_rear_rh",
          "vision_engine",
          "vision_fender_front_rh",
          "vision_front_panel",
          "vision_headlamp_rh",
          "vision_non_external",
          "vision_misc",
          "vision_wheel",
          "vision_windscreen_front",
          "vision_bumper_rear",
          "vision_rear_compartment",
          "vision_rear_panel",
          "vision_rear_quarter_rh",
          "vision_tail_lamp_rh",
          "vision_door_front_lh",
          "vision_door_rear_lh",
          "vision_rear_quarter_lh",
          "vision_tail_lamp_lh",
          "vision_fender_front_lh",
          "vision_headlamp_lh",
          "vision_grille"
         ],
         "y": [
          0.3379,
          0.6535,
          0.0877,
          0.068,
          0.4791,
          0.2321,
          0.2627,
          0.462,
          0.2459,
          0.4156,
          0.1416,
          0.1107,
          0.422,
          0.1855,
          0.1774,
          0.0642,
          0.1545,
          0.0844,
          0.0648,
          0.0532,
          0.1474,
          0.2212,
          0.4317,
          0.38
         ]
        }
       ],
       "layout": {
        "shapes": [
         {
          "line": {
           "color": "red",
           "width": 2
          },
          "type": "line",
          "x0": 0,
          "x1": 1,
          "xref": "x domain",
          "y0": 0.24512916666666665,
          "y1": 0.24512916666666665,
          "yref": "y"
         }
        ],
        "template": {
         "data": {
          "bar": [
           {
            "error_x": {
             "color": "#2a3f5f"
            },
            "error_y": {
             "color": "#2a3f5f"
            },
            "marker": {
             "line": {
              "color": "#E5ECF6",
              "width": 0.5
             },
             "pattern": {
              "fillmode": "overlay",
              "size": 10,
              "solidity": 0.2
             }
            },
            "type": "bar"
           }
          ],
          "barpolar": [
           {
            "marker": {
             "line": {
              "color": "#E5ECF6",
              "width": 0.5
             },
             "pattern": {
              "fillmode": "overlay",
              "size": 10,
              "solidity": 0.2
             }
            },
            "type": "barpolar"
           }
          ],
          "carpet": [
           {
            "aaxis": {
             "endlinecolor": "#2a3f5f",
             "gridcolor": "white",
             "linecolor": "white",
             "minorgridcolor": "white",
             "startlinecolor": "#2a3f5f"
            },
            "baxis": {
             "endlinecolor": "#2a3f5f",
             "gridcolor": "white",
             "linecolor": "white",
             "minorgridcolor": "white",
             "startlinecolor": "#2a3f5f"
            },
            "type": "carpet"
           }
          ],
          "choropleth": [
           {
            "colorbar": {
             "outlinewidth": 0,
             "ticks": ""
            },
            "type": "choropleth"
           }
          ],
          "contour": [
           {
            "colorbar": {
             "outlinewidth": 0,
             "ticks": ""
            },
            "colorscale": [
             [
              0,
              "#0d0887"
             ],
             [
              0.1111111111111111,
              "#46039f"
             ],
             [
              0.2222222222222222,
              "#7201a8"
             ],
             [
              0.3333333333333333,
              "#9c179e"
             ],
             [
              0.4444444444444444,
              "#bd3786"
             ],
             [
              0.5555555555555556,
              "#d8576b"
             ],
             [
              0.6666666666666666,
              "#ed7953"
             ],
             [
              0.7777777777777778,
              "#fb9f3a"
             ],
             [
              0.8888888888888888,
              "#fdca26"
             ],
             [
              1,
              "#f0f921"
             ]
            ],
            "type": "contour"
           }
          ],
          "contourcarpet": [
           {
            "colorbar": {
             "outlinewidth": 0,
             "ticks": ""
            },
            "type": "contourcarpet"
           }
          ],
          "heatmap": [
           {
            "colorbar": {
             "outlinewidth": 0,
             "ticks": ""
            },
            "colorscale": [
             [
              0,
              "#0d0887"
             ],
             [
              0.1111111111111111,
              "#46039f"
             ],
             [
              0.2222222222222222,
              "#7201a8"
             ],
             [
              0.3333333333333333,
              "#9c179e"
             ],
             [
              0.4444444444444444,
              "#bd3786"
             ],
             [
              0.5555555555555556,
              "#d8576b"
             ],
             [
              0.6666666666666666,
              "#ed7953"
             ],
             [
              0.7777777777777778,
              "#fb9f3a"
             ],
             [
              0.8888888888888888,
              "#fdca26"
             ],
             [
              1,
              "#f0f921"
             ]
            ],
            "type": "heatmap"
           }
          ],
          "heatmapgl": [
           {
            "colorbar": {
             "outlinewidth": 0,
             "ticks": ""
            },
            "colorscale": [
             [
              0,
              "#0d0887"
             ],
             [
              0.1111111111111111,
              "#46039f"
             ],
             [
              0.2222222222222222,
              "#7201a8"
             ],
             [
              0.3333333333333333,
              "#9c179e"
             ],
             [
              0.4444444444444444,
              "#bd3786"
             ],
             [
              0.5555555555555556,
              "#d8576b"
             ],
             [
              0.6666666666666666,
              "#ed7953"
             ],
             [
              0.7777777777777778,
              "#fb9f3a"
             ],
             [
              0.8888888888888888,
              "#fdca26"
             ],
             [
              1,
              "#f0f921"
             ]
            ],
            "type": "heatmapgl"
           }
          ],
          "histogram": [
           {
            "marker": {
             "pattern": {
              "fillmode": "overlay",
              "size": 10,
              "solidity": 0.2
             }
            },
            "type": "histogram"
           }
          ],
          "histogram2d": [
           {
            "colorbar": {
             "outlinewidth": 0,
             "ticks": ""
            },
            "colorscale": [
             [
              0,
              "#0d0887"
             ],
             [
              0.1111111111111111,
              "#46039f"
             ],
             [
              0.2222222222222222,
              "#7201a8"
             ],
             [
              0.3333333333333333,
              "#9c179e"
             ],
             [
              0.4444444444444444,
              "#bd3786"
             ],
             [
              0.5555555555555556,
              "#d8576b"
             ],
             [
              0.6666666666666666,
              "#ed7953"
             ],
             [
              0.7777777777777778,
              "#fb9f3a"
             ],
             [
              0.8888888888888888,
              "#fdca26"
             ],
             [
              1,
              "#f0f921"
             ]
            ],
            "type": "histogram2d"
           }
          ],
          "histogram2dcontour": [
           {
            "colorbar": {
             "outlinewidth": 0,
             "ticks": ""
            },
            "colorscale": [
             [
              0,
              "#0d0887"
             ],
             [
              0.1111111111111111,
              "#46039f"
             ],
             [
              0.2222222222222222,
              "#7201a8"
             ],
             [
              0.3333333333333333,
              "#9c179e"
             ],
             [
              0.4444444444444444,
              "#bd3786"
             ],
             [
              0.5555555555555556,
              "#d8576b"
             ],
             [
              0.6666666666666666,
              "#ed7953"
             ],
             [
              0.7777777777777778,
              "#fb9f3a"
             ],
             [
              0.8888888888888888,
              "#fdca26"
             ],
             [
              1,
              "#f0f921"
             ]
            ],
            "type": "histogram2dcontour"
           }
          ],
          "mesh3d": [
           {
            "colorbar": {
             "outlinewidth": 0,
             "ticks": ""
            },
            "type": "mesh3d"
           }
          ],
          "parcoords": [
           {
            "line": {
             "colorbar": {
              "outlinewidth": 0,
              "ticks": ""
             }
            },
            "type": "parcoords"
           }
          ],
          "pie": [
           {
            "automargin": true,
            "type": "pie"
           }
          ],
          "scatter": [
           {
            "fillpattern": {
             "fillmode": "overlay",
             "size": 10,
             "solidity": 0.2
            },
            "type": "scatter"
           }
          ],
          "scatter3d": [
           {
            "line": {
             "colorbar": {
              "outlinewidth": 0,
              "ticks": ""
             }
            },
            "marker": {
             "colorbar": {
              "outlinewidth": 0,
              "ticks": ""
             }
            },
            "type": "scatter3d"
           }
          ],
          "scattercarpet": [
           {
            "marker": {
             "colorbar": {
              "outlinewidth": 0,
              "ticks": ""
             }
            },
            "type": "scattercarpet"
           }
          ],
          "scattergeo": [
           {
            "marker": {
             "colorbar": {
              "outlinewidth": 0,
              "ticks": ""
             }
            },
            "type": "scattergeo"
           }
          ],
          "scattergl": [
           {
            "marker": {
             "colorbar": {
              "outlinewidth": 0,
              "ticks": ""
             }
            },
            "type": "scattergl"
           }
          ],
          "scattermapbox": [
           {
            "marker": {
             "colorbar": {
              "outlinewidth": 0,
              "ticks": ""
             }
            },
            "type": "scattermapbox"
           }
          ],
          "scatterpolar": [
           {
            "marker": {
             "colorbar": {
              "outlinewidth": 0,
              "ticks": ""
             }
            },
            "type": "scatterpolar"
           }
          ],
          "scatterpolargl": [
           {
            "marker": {
             "colorbar": {
              "outlinewidth": 0,
              "ticks": ""
             }
            },
            "type": "scatterpolargl"
           }
          ],
          "scatterternary": [
           {
            "marker": {
             "colorbar": {
              "outlinewidth": 0,
              "ticks": ""
             }
            },
            "type": "scatterternary"
           }
          ],
          "surface": [
           {
            "colorbar": {
             "outlinewidth": 0,
             "ticks": ""
            },
            "colorscale": [
             [
              0,
              "#0d0887"
             ],
             [
              0.1111111111111111,
              "#46039f"
             ],
             [
              0.2222222222222222,
              "#7201a8"
             ],
             [
              0.3333333333333333,
              "#9c179e"
             ],
             [
              0.4444444444444444,
              "#bd3786"
             ],
             [
              0.5555555555555556,
              "#d8576b"
             ],
             [
              0.6666666666666666,
              "#ed7953"
             ],
             [
              0.7777777777777778,
              "#fb9f3a"
             ],
             [
              0.8888888888888888,
              "#fdca26"
             ],
             [
              1,
              "#f0f921"
             ]
            ],
            "type": "surface"
           }
          ],
          "table": [
           {
            "cells": {
             "fill": {
              "color": "#EBF0F8"
             },
             "line": {
              "color": "white"
             }
            },
            "header": {
             "fill": {
              "color": "#C8D4E3"
             },
             "line": {
              "color": "white"
             }
            },
            "type": "table"
           }
          ]
         },
         "layout": {
          "annotationdefaults": {
           "arrowcolor": "#2a3f5f",
           "arrowhead": 0,
           "arrowwidth": 1
          },
          "autotypenumbers": "strict",
          "coloraxis": {
           "colorbar": {
            "outlinewidth": 0,
            "ticks": ""
           }
          },
          "colorscale": {
           "diverging": [
            [
             0,
             "#8e0152"
            ],
            [
             0.1,
             "#c51b7d"
            ],
            [
             0.2,
             "#de77ae"
            ],
            [
             0.3,
             "#f1b6da"
            ],
            [
             0.4,
             "#fde0ef"
            ],
            [
             0.5,
             "#f7f7f7"
            ],
            [
             0.6,
             "#e6f5d0"
            ],
            [
             0.7,
             "#b8e186"
            ],
            [
             0.8,
             "#7fbc41"
            ],
            [
             0.9,
             "#4d9221"
            ],
            [
             1,
             "#276419"
            ]
           ],
           "sequential": [
            [
             0,
             "#0d0887"
            ],
            [
             0.1111111111111111,
             "#46039f"
            ],
            [
             0.2222222222222222,
             "#7201a8"
            ],
            [
             0.3333333333333333,
             "#9c179e"
            ],
            [
             0.4444444444444444,
             "#bd3786"
            ],
            [
             0.5555555555555556,
             "#d8576b"
            ],
            [
             0.6666666666666666,
             "#ed7953"
            ],
            [
             0.7777777777777778,
             "#fb9f3a"
            ],
            [
             0.8888888888888888,
             "#fdca26"
            ],
            [
             1,
             "#f0f921"
            ]
           ],
           "sequentialminus": [
            [
             0,
             "#0d0887"
            ],
            [
             0.1111111111111111,
             "#46039f"
            ],
            [
             0.2222222222222222,
             "#7201a8"
            ],
            [
             0.3333333333333333,
             "#9c179e"
            ],
            [
             0.4444444444444444,
             "#bd3786"
            ],
            [
             0.5555555555555556,
             "#d8576b"
            ],
            [
             0.6666666666666666,
             "#ed7953"
            ],
            [
             0.7777777777777778,
             "#fb9f3a"
            ],
            [
             0.8888888888888888,
             "#fdca26"
            ],
            [
             1,
             "#f0f921"
            ]
           ]
          },
          "colorway": [
           "#636efa",
           "#EF553B",
           "#00cc96",
           "#ab63fa",
           "#FFA15A",
           "#19d3f3",
           "#FF6692",
           "#B6E880",
           "#FF97FF",
           "#FECB52"
          ],
          "font": {
           "color": "#2a3f5f"
          },
          "geo": {
           "bgcolor": "white",
           "lakecolor": "white",
           "landcolor": "#E5ECF6",
           "showlakes": true,
           "showland": true,
           "subunitcolor": "white"
          },
          "hoverlabel": {
           "align": "left"
          },
          "hovermode": "closest",
          "mapbox": {
           "style": "light"
          },
          "paper_bgcolor": "white",
          "plot_bgcolor": "#E5ECF6",
          "polar": {
           "angularaxis": {
            "gridcolor": "white",
            "linecolor": "white",
            "ticks": ""
           },
           "bgcolor": "#E5ECF6",
           "radialaxis": {
            "gridcolor": "white",
            "linecolor": "white",
            "ticks": ""
           }
          },
          "scene": {
           "xaxis": {
            "backgroundcolor": "#E5ECF6",
            "gridcolor": "white",
            "gridwidth": 2,
            "linecolor": "white",
            "showbackground": true,
            "ticks": "",
            "zerolinecolor": "white"
           },
           "yaxis": {
            "backgroundcolor": "#E5ECF6",
            "gridcolor": "white",
            "gridwidth": 2,
            "linecolor": "white",
            "showbackground": true,
            "ticks": "",
            "zerolinecolor": "white"
           },
           "zaxis": {
            "backgroundcolor": "#E5ECF6",
            "gridcolor": "white",
            "gridwidth": 2,
            "linecolor": "white",
            "showbackground": true,
            "ticks": "",
            "zerolinecolor": "white"
           }
          },
          "shapedefaults": {
           "line": {
            "color": "#2a3f5f"
           }
          },
          "ternary": {
           "aaxis": {
            "gridcolor": "white",
            "linecolor": "white",
            "ticks": ""
           },
           "baxis": {
            "gridcolor": "white",
            "linecolor": "white",
            "ticks": ""
           },
           "bgcolor": "#E5ECF6",
           "caxis": {
            "gridcolor": "white",
            "linecolor": "white",
            "ticks": ""
           }
          },
          "title": {
           "x": 0.05
          },
          "xaxis": {
           "automargin": true,
           "gridcolor": "white",
           "linecolor": "white",
           "ticks": "",
           "title": {
            "standoff": 15
           },
           "zerolinecolor": "white",
           "zerolinewidth": 2
          },
          "yaxis": {
           "automargin": true,
           "gridcolor": "white",
           "linecolor": "white",
           "ticks": "",
           "title": {
            "standoff": 15
           },
           "zerolinecolor": "white",
           "zerolinewidth": 2
          }
         }
        },
        "title": {
         "text": "gt_pos_ratio",
         "x": 0.5
        },
        "yaxis": {
         "tickmode": "array",
         "tickvals": [
          "0.25",
          0.3,
          0.8
         ]
        }
       }
      }
     },
     "metadata": {},
     "output_type": "display_data"
    }
   ],
   "source": [
    "genVisMulitlabel(partEvalMetrics, \"gt_pos_ratio\")"
   ]
  },
  {
   "cell_type": "code",
   "execution_count": 46,
   "metadata": {},
   "outputs": [
    {
     "data": {
      "application/vnd.plotly.v1+json": {
       "config": {
        "plotlyServerURL": "https://plot.ly"
       },
       "data": [
        {
         "text": [
          0.3591,
          0.839,
          0.1485,
          0.1512,
          0.5695,
          0.3103,
          0.3522,
          0.5923,
          0.4645,
          0.8892,
          0.2938,
          0.1447,
          0.5825,
          0.1836,
          0.2218,
          0.0873,
          0.1779,
          0.1161,
          0.1016,
          0.0371,
          0.1741,
          0.2412,
          0.5102,
          0.3392
         ],
         "type": "bar",
         "x": [
          "vision_bonnet",
          "vision_bumper_front",
          "vision_door_front_rh",
          "vision_door_rear_rh",
          "vision_engine",
          "vision_fender_front_rh",
          "vision_front_panel",
          "vision_headlamp_rh",
          "vision_non_external",
          "vision_misc",
          "vision_wheel",
          "vision_windscreen_front",
          "vision_bumper_rear",
          "vision_rear_compartment",
          "vision_rear_panel",
          "vision_rear_quarter_rh",
          "vision_tail_lamp_rh",
          "vision_door_front_lh",
          "vision_door_rear_lh",
          "vision_rear_quarter_lh",
          "vision_tail_lamp_lh",
          "vision_fender_front_lh",
          "vision_headlamp_lh",
          "vision_grille"
         ],
         "y": [
          0.3591,
          0.839,
          0.1485,
          0.1512,
          0.5695,
          0.3103,
          0.3522,
          0.5923,
          0.4645,
          0.8892,
          0.2938,
          0.1447,
          0.5825,
          0.1836,
          0.2218,
          0.0873,
          0.1779,
          0.1161,
          0.1016,
          0.0371,
          0.1741,
          0.2412,
          0.5102,
          0.3392
         ]
        }
       ],
       "layout": {
        "shapes": [
         {
          "line": {
           "color": "red",
           "width": 2
          },
          "type": "line",
          "x0": 0,
          "x1": 1,
          "xref": "x domain",
          "y0": 0.32862083333333336,
          "y1": 0.32862083333333336,
          "yref": "y"
         }
        ],
        "template": {
         "data": {
          "bar": [
           {
            "error_x": {
             "color": "#2a3f5f"
            },
            "error_y": {
             "color": "#2a3f5f"
            },
            "marker": {
             "line": {
              "color": "#E5ECF6",
              "width": 0.5
             },
             "pattern": {
              "fillmode": "overlay",
              "size": 10,
              "solidity": 0.2
             }
            },
            "type": "bar"
           }
          ],
          "barpolar": [
           {
            "marker": {
             "line": {
              "color": "#E5ECF6",
              "width": 0.5
             },
             "pattern": {
              "fillmode": "overlay",
              "size": 10,
              "solidity": 0.2
             }
            },
            "type": "barpolar"
           }
          ],
          "carpet": [
           {
            "aaxis": {
             "endlinecolor": "#2a3f5f",
             "gridcolor": "white",
             "linecolor": "white",
             "minorgridcolor": "white",
             "startlinecolor": "#2a3f5f"
            },
            "baxis": {
             "endlinecolor": "#2a3f5f",
             "gridcolor": "white",
             "linecolor": "white",
             "minorgridcolor": "white",
             "startlinecolor": "#2a3f5f"
            },
            "type": "carpet"
           }
          ],
          "choropleth": [
           {
            "colorbar": {
             "outlinewidth": 0,
             "ticks": ""
            },
            "type": "choropleth"
           }
          ],
          "contour": [
           {
            "colorbar": {
             "outlinewidth": 0,
             "ticks": ""
            },
            "colorscale": [
             [
              0,
              "#0d0887"
             ],
             [
              0.1111111111111111,
              "#46039f"
             ],
             [
              0.2222222222222222,
              "#7201a8"
             ],
             [
              0.3333333333333333,
              "#9c179e"
             ],
             [
              0.4444444444444444,
              "#bd3786"
             ],
             [
              0.5555555555555556,
              "#d8576b"
             ],
             [
              0.6666666666666666,
              "#ed7953"
             ],
             [
              0.7777777777777778,
              "#fb9f3a"
             ],
             [
              0.8888888888888888,
              "#fdca26"
             ],
             [
              1,
              "#f0f921"
             ]
            ],
            "type": "contour"
           }
          ],
          "contourcarpet": [
           {
            "colorbar": {
             "outlinewidth": 0,
             "ticks": ""
            },
            "type": "contourcarpet"
           }
          ],
          "heatmap": [
           {
            "colorbar": {
             "outlinewidth": 0,
             "ticks": ""
            },
            "colorscale": [
             [
              0,
              "#0d0887"
             ],
             [
              0.1111111111111111,
              "#46039f"
             ],
             [
              0.2222222222222222,
              "#7201a8"
             ],
             [
              0.3333333333333333,
              "#9c179e"
             ],
             [
              0.4444444444444444,
              "#bd3786"
             ],
             [
              0.5555555555555556,
              "#d8576b"
             ],
             [
              0.6666666666666666,
              "#ed7953"
             ],
             [
              0.7777777777777778,
              "#fb9f3a"
             ],
             [
              0.8888888888888888,
              "#fdca26"
             ],
             [
              1,
              "#f0f921"
             ]
            ],
            "type": "heatmap"
           }
          ],
          "heatmapgl": [
           {
            "colorbar": {
             "outlinewidth": 0,
             "ticks": ""
            },
            "colorscale": [
             [
              0,
              "#0d0887"
             ],
             [
              0.1111111111111111,
              "#46039f"
             ],
             [
              0.2222222222222222,
              "#7201a8"
             ],
             [
              0.3333333333333333,
              "#9c179e"
             ],
             [
              0.4444444444444444,
              "#bd3786"
             ],
             [
              0.5555555555555556,
              "#d8576b"
             ],
             [
              0.6666666666666666,
              "#ed7953"
             ],
             [
              0.7777777777777778,
              "#fb9f3a"
             ],
             [
              0.8888888888888888,
              "#fdca26"
             ],
             [
              1,
              "#f0f921"
             ]
            ],
            "type": "heatmapgl"
           }
          ],
          "histogram": [
           {
            "marker": {
             "pattern": {
              "fillmode": "overlay",
              "size": 10,
              "solidity": 0.2
             }
            },
            "type": "histogram"
           }
          ],
          "histogram2d": [
           {
            "colorbar": {
             "outlinewidth": 0,
             "ticks": ""
            },
            "colorscale": [
             [
              0,
              "#0d0887"
             ],
             [
              0.1111111111111111,
              "#46039f"
             ],
             [
              0.2222222222222222,
              "#7201a8"
             ],
             [
              0.3333333333333333,
              "#9c179e"
             ],
             [
              0.4444444444444444,
              "#bd3786"
             ],
             [
              0.5555555555555556,
              "#d8576b"
             ],
             [
              0.6666666666666666,
              "#ed7953"
             ],
             [
              0.7777777777777778,
              "#fb9f3a"
             ],
             [
              0.8888888888888888,
              "#fdca26"
             ],
             [
              1,
              "#f0f921"
             ]
            ],
            "type": "histogram2d"
           }
          ],
          "histogram2dcontour": [
           {
            "colorbar": {
             "outlinewidth": 0,
             "ticks": ""
            },
            "colorscale": [
             [
              0,
              "#0d0887"
             ],
             [
              0.1111111111111111,
              "#46039f"
             ],
             [
              0.2222222222222222,
              "#7201a8"
             ],
             [
              0.3333333333333333,
              "#9c179e"
             ],
             [
              0.4444444444444444,
              "#bd3786"
             ],
             [
              0.5555555555555556,
              "#d8576b"
             ],
             [
              0.6666666666666666,
              "#ed7953"
             ],
             [
              0.7777777777777778,
              "#fb9f3a"
             ],
             [
              0.8888888888888888,
              "#fdca26"
             ],
             [
              1,
              "#f0f921"
             ]
            ],
            "type": "histogram2dcontour"
           }
          ],
          "mesh3d": [
           {
            "colorbar": {
             "outlinewidth": 0,
             "ticks": ""
            },
            "type": "mesh3d"
           }
          ],
          "parcoords": [
           {
            "line": {
             "colorbar": {
              "outlinewidth": 0,
              "ticks": ""
             }
            },
            "type": "parcoords"
           }
          ],
          "pie": [
           {
            "automargin": true,
            "type": "pie"
           }
          ],
          "scatter": [
           {
            "fillpattern": {
             "fillmode": "overlay",
             "size": 10,
             "solidity": 0.2
            },
            "type": "scatter"
           }
          ],
          "scatter3d": [
           {
            "line": {
             "colorbar": {
              "outlinewidth": 0,
              "ticks": ""
             }
            },
            "marker": {
             "colorbar": {
              "outlinewidth": 0,
              "ticks": ""
             }
            },
            "type": "scatter3d"
           }
          ],
          "scattercarpet": [
           {
            "marker": {
             "colorbar": {
              "outlinewidth": 0,
              "ticks": ""
             }
            },
            "type": "scattercarpet"
           }
          ],
          "scattergeo": [
           {
            "marker": {
             "colorbar": {
              "outlinewidth": 0,
              "ticks": ""
             }
            },
            "type": "scattergeo"
           }
          ],
          "scattergl": [
           {
            "marker": {
             "colorbar": {
              "outlinewidth": 0,
              "ticks": ""
             }
            },
            "type": "scattergl"
           }
          ],
          "scattermapbox": [
           {
            "marker": {
             "colorbar": {
              "outlinewidth": 0,
              "ticks": ""
             }
            },
            "type": "scattermapbox"
           }
          ],
          "scatterpolar": [
           {
            "marker": {
             "colorbar": {
              "outlinewidth": 0,
              "ticks": ""
             }
            },
            "type": "scatterpolar"
           }
          ],
          "scatterpolargl": [
           {
            "marker": {
             "colorbar": {
              "outlinewidth": 0,
              "ticks": ""
             }
            },
            "type": "scatterpolargl"
           }
          ],
          "scatterternary": [
           {
            "marker": {
             "colorbar": {
              "outlinewidth": 0,
              "ticks": ""
             }
            },
            "type": "scatterternary"
           }
          ],
          "surface": [
           {
            "colorbar": {
             "outlinewidth": 0,
             "ticks": ""
            },
            "colorscale": [
             [
              0,
              "#0d0887"
             ],
             [
              0.1111111111111111,
              "#46039f"
             ],
             [
              0.2222222222222222,
              "#7201a8"
             ],
             [
              0.3333333333333333,
              "#9c179e"
             ],
             [
              0.4444444444444444,
              "#bd3786"
             ],
             [
              0.5555555555555556,
              "#d8576b"
             ],
             [
              0.6666666666666666,
              "#ed7953"
             ],
             [
              0.7777777777777778,
              "#fb9f3a"
             ],
             [
              0.8888888888888888,
              "#fdca26"
             ],
             [
              1,
              "#f0f921"
             ]
            ],
            "type": "surface"
           }
          ],
          "table": [
           {
            "cells": {
             "fill": {
              "color": "#EBF0F8"
             },
             "line": {
              "color": "white"
             }
            },
            "header": {
             "fill": {
              "color": "#C8D4E3"
             },
             "line": {
              "color": "white"
             }
            },
            "type": "table"
           }
          ]
         },
         "layout": {
          "annotationdefaults": {
           "arrowcolor": "#2a3f5f",
           "arrowhead": 0,
           "arrowwidth": 1
          },
          "autotypenumbers": "strict",
          "coloraxis": {
           "colorbar": {
            "outlinewidth": 0,
            "ticks": ""
           }
          },
          "colorscale": {
           "diverging": [
            [
             0,
             "#8e0152"
            ],
            [
             0.1,
             "#c51b7d"
            ],
            [
             0.2,
             "#de77ae"
            ],
            [
             0.3,
             "#f1b6da"
            ],
            [
             0.4,
             "#fde0ef"
            ],
            [
             0.5,
             "#f7f7f7"
            ],
            [
             0.6,
             "#e6f5d0"
            ],
            [
             0.7,
             "#b8e186"
            ],
            [
             0.8,
             "#7fbc41"
            ],
            [
             0.9,
             "#4d9221"
            ],
            [
             1,
             "#276419"
            ]
           ],
           "sequential": [
            [
             0,
             "#0d0887"
            ],
            [
             0.1111111111111111,
             "#46039f"
            ],
            [
             0.2222222222222222,
             "#7201a8"
            ],
            [
             0.3333333333333333,
             "#9c179e"
            ],
            [
             0.4444444444444444,
             "#bd3786"
            ],
            [
             0.5555555555555556,
             "#d8576b"
            ],
            [
             0.6666666666666666,
             "#ed7953"
            ],
            [
             0.7777777777777778,
             "#fb9f3a"
            ],
            [
             0.8888888888888888,
             "#fdca26"
            ],
            [
             1,
             "#f0f921"
            ]
           ],
           "sequentialminus": [
            [
             0,
             "#0d0887"
            ],
            [
             0.1111111111111111,
             "#46039f"
            ],
            [
             0.2222222222222222,
             "#7201a8"
            ],
            [
             0.3333333333333333,
             "#9c179e"
            ],
            [
             0.4444444444444444,
             "#bd3786"
            ],
            [
             0.5555555555555556,
             "#d8576b"
            ],
            [
             0.6666666666666666,
             "#ed7953"
            ],
            [
             0.7777777777777778,
             "#fb9f3a"
            ],
            [
             0.8888888888888888,
             "#fdca26"
            ],
            [
             1,
             "#f0f921"
            ]
           ]
          },
          "colorway": [
           "#636efa",
           "#EF553B",
           "#00cc96",
           "#ab63fa",
           "#FFA15A",
           "#19d3f3",
           "#FF6692",
           "#B6E880",
           "#FF97FF",
           "#FECB52"
          ],
          "font": {
           "color": "#2a3f5f"
          },
          "geo": {
           "bgcolor": "white",
           "lakecolor": "white",
           "landcolor": "#E5ECF6",
           "showlakes": true,
           "showland": true,
           "subunitcolor": "white"
          },
          "hoverlabel": {
           "align": "left"
          },
          "hovermode": "closest",
          "mapbox": {
           "style": "light"
          },
          "paper_bgcolor": "white",
          "plot_bgcolor": "#E5ECF6",
          "polar": {
           "angularaxis": {
            "gridcolor": "white",
            "linecolor": "white",
            "ticks": ""
           },
           "bgcolor": "#E5ECF6",
           "radialaxis": {
            "gridcolor": "white",
            "linecolor": "white",
            "ticks": ""
           }
          },
          "scene": {
           "xaxis": {
            "backgroundcolor": "#E5ECF6",
            "gridcolor": "white",
            "gridwidth": 2,
            "linecolor": "white",
            "showbackground": true,
            "ticks": "",
            "zerolinecolor": "white"
           },
           "yaxis": {
            "backgroundcolor": "#E5ECF6",
            "gridcolor": "white",
            "gridwidth": 2,
            "linecolor": "white",
            "showbackground": true,
            "ticks": "",
            "zerolinecolor": "white"
           },
           "zaxis": {
            "backgroundcolor": "#E5ECF6",
            "gridcolor": "white",
            "gridwidth": 2,
            "linecolor": "white",
            "showbackground": true,
            "ticks": "",
            "zerolinecolor": "white"
           }
          },
          "shapedefaults": {
           "line": {
            "color": "#2a3f5f"
           }
          },
          "ternary": {
           "aaxis": {
            "gridcolor": "white",
            "linecolor": "white",
            "ticks": ""
           },
           "baxis": {
            "gridcolor": "white",
            "linecolor": "white",
            "ticks": ""
           },
           "bgcolor": "#E5ECF6",
           "caxis": {
            "gridcolor": "white",
            "linecolor": "white",
            "ticks": ""
           }
          },
          "title": {
           "x": 0.05
          },
          "xaxis": {
           "automargin": true,
           "gridcolor": "white",
           "linecolor": "white",
           "ticks": "",
           "title": {
            "standoff": 15
           },
           "zerolinecolor": "white",
           "zerolinewidth": 2
          },
          "yaxis": {
           "automargin": true,
           "gridcolor": "white",
           "linecolor": "white",
           "ticks": "",
           "title": {
            "standoff": 15
           },
           "zerolinecolor": "white",
           "zerolinewidth": 2
          }
         }
        },
        "title": {
         "text": "pred_pos_ratio",
         "x": 0.5
        },
        "yaxis": {
         "tickmode": "array",
         "tickvals": [
          "0.33",
          0.3,
          0.8
         ]
        }
       }
      }
     },
     "metadata": {},
     "output_type": "display_data"
    }
   ],
   "source": [
    "genVisMulitlabel(partEvalMetrics, \"pred_pos_ratio\")"
   ]
  },
  {
   "cell_type": "code",
   "execution_count": 47,
   "metadata": {},
   "outputs": [
    {
     "data": {
      "application/vnd.plotly.v1+json": {
       "config": {
        "plotlyServerURL": "https://plot.ly"
       },
       "data": [
        {
         "alignmentgroup": "True",
         "bingroup": "x",
         "hovertemplate": "subset_acc=%{x}<br>count=%{y}<extra></extra>",
         "legendgroup": "",
         "marker": {
          "color": "#636efa",
          "pattern": {
           "shape": ""
          }
         },
         "name": "",
         "offsetgroup": "",
         "orientation": "v",
         "showlegend": false,
         "type": "histogram",
         "x": [
          0.9166666666666666,
          0.8333333333333334,
          0.75,
          0.75,
          0.75,
          0.8333333333333334,
          0.875,
          0.7916666666666666,
          0.7083333333333334,
          0.9166666666666666,
          1,
          0.875,
          0.8333333333333334,
          0.75,
          0.7083333333333334,
          0.8333333333333334,
          0.75,
          0.875,
          0.7916666666666666,
          0.8333333333333334,
          0.75,
          0.8333333333333334,
          0.75,
          0.75,
          0.9166666666666666,
          0.875,
          0.7916666666666666,
          0.9166666666666666,
          0.8333333333333334,
          0.9166666666666666,
          0.875,
          0.7916666666666666,
          0.9166666666666666,
          0.9166666666666666,
          0.8333333333333334,
          0.9583333333333334,
          0.6666666666666666,
          0.8333333333333334,
          0.7083333333333334,
          0.5833333333333334,
          0.75,
          0.625,
          0.7916666666666666,
          0.7083333333333334,
          0.7083333333333334,
          0.8333333333333334,
          0.7916666666666666,
          0.75,
          0.8333333333333334,
          0.6666666666666666,
          0.875,
          0.9166666666666666,
          0.9166666666666666,
          0.8333333333333334,
          0.9166666666666666,
          0.875,
          0.7916666666666666,
          0.75,
          0.7916666666666666,
          0.75,
          0.9166666666666666,
          0.9166666666666666,
          0.875,
          0.9583333333333334,
          0.8333333333333334,
          0.7916666666666666,
          0.75,
          0.5416666666666666,
          0.875,
          0.875,
          0.75,
          0.7916666666666666,
          0.6666666666666666,
          0.875,
          0.875,
          0.625,
          0.875,
          0.7916666666666666,
          0.75,
          0.9166666666666666,
          0.9166666666666666,
          0.875,
          0.7083333333333334,
          0.875,
          0.7916666666666666,
          0.7916666666666666,
          0.875,
          0.9583333333333334,
          0.6666666666666666,
          0.625,
          0.625,
          0.9166666666666666,
          0.7083333333333334,
          0.7916666666666666,
          0.9166666666666666,
          0.875,
          0.7083333333333334,
          0.875,
          0.7083333333333334,
          0.8333333333333334,
          1,
          0.625,
          0.8333333333333334,
          0.8333333333333334,
          0.6666666666666666,
          0.7916666666666666,
          0.875,
          0.7083333333333334,
          0.625,
          0.9166666666666666,
          0.7083333333333334,
          0.9166666666666666,
          0.8333333333333334,
          0.7916666666666666,
          0.8333333333333334,
          0.875,
          0.625,
          0.7916666666666666,
          0.9166666666666666,
          0.8333333333333334,
          0.75,
          0.7916666666666666,
          0.8333333333333334,
          0.875,
          0.7916666666666666,
          0.7916666666666666,
          0.875,
          0.7916666666666666,
          0.625,
          0.75,
          0.875,
          0.7916666666666666,
          0.7916666666666666,
          0.8333333333333334,
          0.875,
          0.75,
          0.875,
          0.7083333333333334,
          0.9166666666666666,
          0.7083333333333334,
          0.875,
          0.75,
          0.7916666666666666,
          0.6666666666666666,
          0.9166666666666666,
          0.8333333333333334,
          0.5833333333333334,
          0.7083333333333334,
          0.9166666666666666,
          0.8333333333333334,
          0.6666666666666666,
          0.9166666666666666,
          0.8333333333333334,
          0.8333333333333334,
          0.8333333333333334,
          0.9166666666666666,
          0.6666666666666666,
          0.7916666666666666,
          0.7916666666666666,
          0.8333333333333334,
          0.75,
          0.75,
          0.8333333333333334,
          0.9583333333333334,
          0.8333333333333334,
          0.7916666666666666,
          0.9166666666666666,
          0.75,
          0.9166666666666666,
          0.875,
          0.875,
          0.7916666666666666,
          0.6666666666666666,
          0.875,
          0.7916666666666666,
          0.875,
          0.8333333333333334,
          0.6666666666666666,
          0.75,
          0.7916666666666666,
          0.75,
          0.75,
          0.9166666666666666,
          0.8333333333333334,
          0.7916666666666666,
          0.8333333333333334,
          0.9166666666666666,
          0.8333333333333334,
          0.9166666666666666,
          0.8333333333333334,
          0.75,
          0.8333333333333334,
          0.8333333333333334,
          0.7916666666666666,
          1,
          0.875,
          0.875,
          0.5416666666666666,
          0.875,
          0.8333333333333334,
          0.75,
          0.875,
          0.7916666666666666,
          0.875,
          1,
          0.75,
          0.7916666666666666,
          0.5833333333333334,
          0.7916666666666666,
          0.7083333333333334,
          0.75,
          0.8333333333333334,
          0.9583333333333334,
          0.8333333333333334,
          0.7083333333333334,
          0.875,
          0.5416666666666666,
          0.875,
          0.9166666666666666,
          0.7916666666666666,
          0.625,
          0.7083333333333334,
          0.625,
          0.875,
          0.875,
          0.9166666666666666,
          0.8333333333333334,
          0.9166666666666666,
          0.7083333333333334,
          0.75,
          0.75,
          0.8333333333333334,
          0.875,
          0.7083333333333334,
          0.7916666666666666,
          0.9166666666666666,
          0.875,
          0.875,
          0.6666666666666666,
          0.75,
          0.8333333333333334,
          0.7083333333333334,
          0.7916666666666666,
          0.7916666666666666,
          0.8333333333333334,
          0.7916666666666666,
          0.75,
          0.7916666666666666,
          0.8333333333333334,
          0.875,
          0.8333333333333334,
          0.7916666666666666,
          0.9583333333333334,
          0.9166666666666666,
          0.875,
          0.7916666666666666,
          0.7916666666666666,
          0.9166666666666666,
          0.7916666666666666,
          0.9166666666666666,
          0.7916666666666666,
          0.875,
          0.7083333333333334,
          0.875,
          0.875,
          0.875,
          0.7916666666666666,
          0.9166666666666666,
          0.8333333333333334,
          0.8333333333333334,
          0.9583333333333334,
          0.9166666666666666,
          0.8333333333333334,
          0.9583333333333334,
          0.7916666666666666,
          0.75,
          0.7916666666666666,
          0.9583333333333334,
          0.6666666666666666,
          0.875,
          0.7916666666666666,
          0.8333333333333334,
          0.875,
          0.875,
          0.7916666666666666,
          0.7916666666666666,
          0.9166666666666666,
          0.7916666666666666,
          0.7916666666666666,
          0.7083333333333334,
          1,
          0.7916666666666666,
          0.875,
          0.875,
          0.6666666666666666,
          0.8333333333333334,
          0.875,
          0.7916666666666666,
          0.9166666666666666,
          0.7916666666666666,
          0.6666666666666666,
          0.875,
          0.75,
          0.7916666666666666,
          0.875,
          0.75,
          0.9166666666666666,
          0.6666666666666666,
          0.7083333333333334,
          0.875,
          0.625,
          0.8333333333333334,
          0.8333333333333334,
          0.75,
          0.7916666666666666,
          0.8333333333333334,
          0.625,
          0.5416666666666666,
          0.875,
          0.875,
          0.8333333333333334,
          0.8333333333333334,
          0.7916666666666666,
          0.7916666666666666,
          0.6666666666666666,
          0.9166666666666666,
          0.875,
          0.8333333333333334,
          0.7916666666666666,
          0.8333333333333334,
          0.9166666666666666,
          0.7916666666666666,
          0.875,
          0.7916666666666666,
          0.7083333333333334,
          0.875,
          0.875,
          0.8333333333333334,
          0.75,
          0.7916666666666666,
          0.7083333333333334,
          0.9166666666666666,
          0.875,
          0.7916666666666666,
          0.75,
          0.75,
          0.9166666666666666,
          0.9166666666666666,
          0.8333333333333334,
          0.875,
          0.7916666666666666,
          0.9166666666666666,
          0.7916666666666666,
          0.7083333333333334,
          0.7083333333333334,
          0.8333333333333334,
          0.8333333333333334,
          0.8333333333333334,
          0.8333333333333334,
          0.8333333333333334,
          0.75,
          0.8333333333333334,
          0.8333333333333334,
          0.8333333333333334,
          0.75,
          0.6666666666666666,
          0.9166666666666666,
          0.9166666666666666,
          0.7083333333333334,
          0.5833333333333334,
          0.8333333333333334,
          0.7083333333333334,
          0.75,
          0.8333333333333334,
          0.875,
          0.7916666666666666,
          0.7916666666666666,
          0.75,
          0.9166666666666666,
          0.9166666666666666,
          0.9166666666666666,
          0.7916666666666666,
          0.9583333333333334,
          0.7083333333333334,
          0.7916666666666666,
          0.875,
          0.6666666666666666,
          0.7916666666666666,
          0.7916666666666666,
          0.7916666666666666,
          0.7916666666666666,
          0.625,
          0.8333333333333334,
          0.6666666666666666,
          0.75,
          0.875,
          0.9166666666666666,
          0.9166666666666666,
          0.8333333333333334,
          0.7916666666666666,
          0.8333333333333334,
          0.75,
          0.875,
          0.8333333333333334,
          0.75,
          0.7083333333333334,
          0.9583333333333334,
          0.875,
          0.875,
          0.9166666666666666,
          0.8333333333333334,
          0.7083333333333334,
          0.75,
          0.9166666666666666,
          0.7916666666666666,
          0.875,
          0.75,
          0.9166666666666666,
          0.9583333333333334,
          0.9583333333333334,
          0.7083333333333334,
          0.9166666666666666,
          0.8333333333333334,
          0.6666666666666666,
          0.75,
          0.8333333333333334,
          0.8333333333333334,
          0.7916666666666666,
          0.8333333333333334,
          1,
          0.7916666666666666,
          0.7916666666666666,
          0.9583333333333334,
          0.8333333333333334,
          0.8333333333333334,
          0.875,
          0.8333333333333334,
          0.7083333333333334,
          0.9166666666666666,
          0.8333333333333334,
          0.8333333333333334,
          0.9166666666666666,
          0.7916666666666666,
          0.75,
          0.75,
          0.6666666666666666,
          0.7916666666666666,
          0.9166666666666666,
          0.8333333333333334,
          0.7916666666666666,
          0.75,
          0.875,
          0.9166666666666666,
          0.9583333333333334,
          0.8333333333333334,
          0.875,
          0.7916666666666666,
          0.9166666666666666,
          0.8333333333333334,
          0.7916666666666666,
          0.5833333333333334,
          0.75,
          0.7916666666666666,
          0.7916666666666666,
          0.7916666666666666,
          0.7916666666666666,
          0.8333333333333334,
          0.8333333333333334,
          0.7916666666666666,
          0.8333333333333334,
          0.8333333333333334,
          0.9583333333333334,
          0.7083333333333334,
          0.75,
          0.875,
          0.75,
          0.8333333333333334,
          0.8333333333333334,
          0.8333333333333334,
          0.75,
          0.9583333333333334,
          0.7083333333333334,
          0.875,
          1,
          0.9166666666666666,
          0.875,
          0.8333333333333334,
          0.8333333333333334,
          0.8333333333333334,
          0.7916666666666666,
          0.75,
          0.8333333333333334,
          0.75,
          0.9583333333333334,
          0.8333333333333334,
          0.875,
          0.7083333333333334,
          0.875,
          0.6666666666666666,
          0.9583333333333334,
          0.75,
          0.9583333333333334,
          0.75,
          0.7083333333333334,
          0.75,
          0.8333333333333334,
          0.75,
          0.7916666666666666,
          0.7916666666666666,
          0.625,
          0.9166666666666666,
          0.7083333333333334,
          0.7083333333333334,
          0.8333333333333334,
          0.75,
          0.7083333333333334,
          0.7916666666666666,
          0.875,
          0.8333333333333334,
          0.5,
          0.75,
          0.75,
          0.875,
          0.7083333333333334,
          0.8333333333333334,
          0.7083333333333334,
          0.8333333333333334,
          0.875,
          0.875,
          0.8333333333333334,
          0.6666666666666666,
          0.8333333333333334,
          0.8333333333333334,
          0.5833333333333334,
          0.75,
          0.75,
          0.75,
          0.5833333333333334,
          0.625,
          0.625,
          0.6666666666666666,
          0.9166666666666666,
          0.7916666666666666,
          0.75,
          0.75,
          0.7916666666666666,
          0.5833333333333334,
          0.875,
          0.7083333333333334,
          0.9166666666666666,
          0.75,
          0.9166666666666666,
          0.8333333333333334,
          0.8333333333333334,
          0.875,
          0.8333333333333334,
          0.875,
          0.8333333333333334,
          0.875,
          0.6666666666666666,
          0.7916666666666666,
          0.875,
          0.875,
          0.7916666666666666,
          0.875,
          0.5833333333333334,
          0.7916666666666666,
          0.8333333333333334,
          0.6666666666666666,
          0.75,
          0.8333333333333334,
          0.8333333333333334,
          0.75,
          0.9583333333333334,
          0.8333333333333334,
          0.7916666666666666,
          0.7916666666666666,
          0.9583333333333334,
          0.8333333333333334,
          0.8333333333333334,
          0.9166666666666666,
          0.75,
          0.8333333333333334,
          0.8333333333333334,
          0.9166666666666666,
          0.8333333333333334,
          0.875,
          0.9166666666666666,
          0.6666666666666666,
          0.9583333333333334,
          0.7916666666666666,
          0.9166666666666666,
          0.7083333333333334,
          0.8333333333333334,
          0.875,
          0.7916666666666666,
          0.875,
          0.8333333333333334,
          0.6666666666666666,
          0.75,
          0.875,
          0.6666666666666666,
          1,
          0.8333333333333334,
          0.9166666666666666,
          0.875,
          0.8333333333333334,
          0.875,
          0.9583333333333334,
          0.7083333333333334,
          0.8333333333333334,
          0.7083333333333334,
          0.8333333333333334,
          0.875,
          0.9583333333333334,
          0.7916666666666666,
          0.7083333333333334,
          0.75,
          0.8333333333333334,
          0.7083333333333334,
          0.875,
          1,
          0.75,
          0.7916666666666666,
          0.9166666666666666,
          0.875,
          0.875,
          0.875,
          0.875,
          0.7916666666666666,
          0.75,
          0.9166666666666666,
          0.75,
          0.9583333333333334,
          0.7916666666666666,
          0.875,
          0.75,
          0.9583333333333334,
          0.875,
          0.8333333333333334,
          0.9166666666666666,
          0.6666666666666666,
          0.7083333333333334,
          0.9166666666666666,
          0.8333333333333334,
          0.9166666666666666,
          0.8333333333333334,
          0.8333333333333334,
          0.75,
          0.7083333333333334,
          0.9583333333333334,
          0.875,
          0.7916666666666666,
          0.6666666666666666,
          0.75,
          0.7083333333333334,
          0.8333333333333334,
          0.7083333333333334,
          0.8333333333333334,
          0.7083333333333334,
          0.875,
          0.5416666666666666,
          0.9583333333333334,
          0.6666666666666666,
          0.8333333333333334,
          0.7916666666666666,
          0.7083333333333334,
          0.9166666666666666,
          0.7916666666666666,
          0.75,
          0.8333333333333334,
          0.75,
          0.9166666666666666,
          0.8333333333333334,
          0.75,
          0.8333333333333334,
          0.5833333333333334,
          0.75,
          0.8333333333333334,
          0.7083333333333334,
          0.8333333333333334,
          0.7916666666666666,
          0.7916666666666666,
          0.875,
          0.7916666666666666,
          0.75,
          0.7916666666666666,
          0.875,
          0.8333333333333334,
          0.8333333333333334,
          0.75,
          0.9583333333333334,
          0.7916666666666666,
          0.8333333333333334,
          0.875,
          0.75,
          0.8333333333333334,
          0.7916666666666666,
          0.75,
          0.8333333333333334,
          0.8333333333333334,
          0.9166666666666666,
          0.7916666666666666,
          0.7083333333333334,
          0.8333333333333334,
          0.8333333333333334,
          0.875,
          0.7083333333333334,
          0.875,
          0.9166666666666666,
          0.9583333333333334,
          0.75,
          0.9583333333333334,
          0.9166666666666666,
          0.9583333333333334,
          0.8333333333333334,
          0.9166666666666666,
          0.875,
          0.75,
          0.6666666666666666,
          0.75,
          0.9166666666666666,
          0.875,
          0.8333333333333334,
          0.75,
          0.7916666666666666,
          0.875,
          0.8333333333333334,
          0.875,
          0.8333333333333334,
          0.875,
          0.875,
          0.8333333333333334,
          0.75,
          0.7083333333333334,
          0.9166666666666666,
          0.625,
          0.7916666666666666,
          0.75,
          0.8333333333333334,
          0.9166666666666666,
          0.75,
          0.5833333333333334,
          0.9166666666666666,
          0.8333333333333334,
          0.7916666666666666,
          0.9166666666666666,
          0.9583333333333334,
          0.8333333333333334,
          0.9583333333333334,
          0.75,
          0.7916666666666666,
          0.6666666666666666,
          0.875,
          0.75,
          0.8333333333333334,
          0.75,
          0.875,
          0.875,
          0.875,
          0.6666666666666666,
          0.75,
          0.7916666666666666,
          0.9166666666666666,
          0.75,
          0.875,
          0.875,
          0.7916666666666666,
          0.9166666666666666,
          0.7083333333333334,
          0.9166666666666666,
          0.8333333333333334,
          0.875,
          0.75,
          0.7916666666666666,
          0.7916666666666666,
          0.7083333333333334,
          0.7916666666666666,
          0.6666666666666666,
          0.875,
          0.8333333333333334,
          0.9583333333333334,
          0.75,
          0.7916666666666666,
          0.8333333333333334,
          0.9583333333333334,
          0.75,
          0.6666666666666666,
          0.9583333333333334,
          0.875,
          0.7916666666666666,
          0.8333333333333334,
          0.75,
          0.7916666666666666,
          0.8333333333333334,
          0.7916666666666666,
          0.875,
          0.7916666666666666,
          0.8333333333333334,
          0.875,
          0.8333333333333334,
          0.875,
          0.8333333333333334,
          0.7083333333333334,
          0.875,
          0.625,
          0.9166666666666666,
          0.8333333333333334,
          0.7916666666666666,
          0.875,
          0.7916666666666666,
          0.7916666666666666,
          0.9583333333333334,
          0.75,
          0.7916666666666666,
          0.75,
          0.7916666666666666,
          0.8333333333333334,
          0.8333333333333334,
          0.75,
          0.8333333333333334,
          0.7916666666666666,
          0.875,
          1,
          0.75,
          0.9583333333333334,
          0.8333333333333334,
          0.8333333333333334,
          0.8333333333333334,
          0.7083333333333334,
          1,
          0.875,
          0.7083333333333334,
          0.7916666666666666,
          0.75,
          0.7083333333333334,
          0.8333333333333334,
          0.875,
          0.7916666666666666,
          0.75,
          0.5833333333333334,
          0.75,
          0.9583333333333334,
          0.9166666666666666,
          0.6666666666666666,
          0.8333333333333334,
          0.7916666666666666,
          0.9583333333333334,
          0.5,
          0.75,
          0.75,
          0.875,
          0.7916666666666666,
          0.875,
          0.9166666666666666,
          0.75,
          0.9166666666666666,
          0.875,
          0.8333333333333334,
          0.7083333333333334,
          0.7916666666666666,
          0.8333333333333334,
          0.5,
          0.9166666666666666,
          0.625,
          0.875,
          0.7916666666666666,
          0.75,
          0.7916666666666666,
          0.8333333333333334,
          0.9166666666666666,
          0.8333333333333334,
          0.9166666666666666,
          0.8333333333333334,
          0.7916666666666666,
          0.75,
          0.75,
          0.7083333333333334,
          0.875,
          0.7083333333333334,
          0.6666666666666666,
          0.7083333333333334,
          0.875,
          0.9583333333333334,
          0.5833333333333334,
          0.8333333333333334,
          0.9166666666666666,
          0.6666666666666666,
          0.875,
          0.9166666666666666,
          0.875,
          0.75,
          0.8333333333333334,
          0.9166666666666666,
          0.7916666666666666,
          0.8333333333333334,
          0.75,
          0.8333333333333334,
          0.8333333333333334,
          0.7083333333333334,
          0.8333333333333334,
          0.7916666666666666,
          0.875,
          0.7916666666666666,
          0.5,
          0.8333333333333334,
          0.9166666666666666,
          0.875,
          0.7916666666666666,
          0.8333333333333334,
          0.9166666666666666,
          0.7916666666666666,
          0.8333333333333334,
          0.7916666666666666,
          0.9166666666666666,
          0.6666666666666666,
          0.9166666666666666,
          0.75,
          0.6666666666666666,
          0.875,
          0.7916666666666666,
          0.7916666666666666,
          0.7083333333333334,
          0.7916666666666666,
          0.875,
          0.9583333333333334,
          0.9166666666666666,
          0.875,
          0.8333333333333334,
          0.8333333333333334,
          0.7916666666666666,
          0.9583333333333334,
          0.6666666666666666,
          0.7916666666666666,
          0.8333333333333334,
          0.7916666666666666,
          0.875,
          0.8333333333333334,
          0.9166666666666666,
          0.8333333333333334,
          0.875,
          0.875,
          0.75,
          0.8333333333333334,
          0.7083333333333334,
          0.9583333333333334,
          0.8333333333333334,
          0.7916666666666666,
          0.8333333333333334,
          0.875,
          0.5416666666666666,
          0.9166666666666666,
          0.75,
          0.9583333333333334,
          0.7916666666666666,
          0.8333333333333334,
          0.875,
          0.8333333333333334,
          0.9166666666666666,
          0.875,
          0.875,
          0.875,
          0.7916666666666666,
          0.75,
          0.875,
          0.8333333333333334,
          0.9583333333333334,
          0.8333333333333334,
          0.7916666666666666,
          0.7916666666666666,
          0.8333333333333334,
          0.8333333333333334,
          0.8333333333333334,
          0.875,
          0.9166666666666666,
          0.875,
          0.8333333333333334,
          0.9166666666666666,
          0.75,
          0.9166666666666666,
          0.7916666666666666,
          0.7916666666666666,
          0.8333333333333334,
          0.7083333333333334,
          0.4166666666666667,
          0.7916666666666666,
          0.7916666666666666,
          0.9583333333333334,
          0.7083333333333334,
          0.8333333333333334,
          0.875,
          0.7916666666666666,
          0.8333333333333334,
          0.6666666666666666,
          0.875,
          0.8333333333333334,
          0.75,
          0.5833333333333334,
          0.875,
          0.8333333333333334,
          0.75,
          0.8333333333333334,
          0.7083333333333334,
          0.875,
          0.9166666666666666,
          0.7916666666666666,
          0.8333333333333334,
          1,
          0.75,
          0.875,
          0.7916666666666666,
          0.9166666666666666,
          0.8333333333333334,
          0.9166666666666666,
          0.875,
          0.875,
          0.7916666666666666,
          0.7083333333333334,
          0.9583333333333334,
          0.8333333333333334,
          0.8333333333333334,
          0.75,
          0.75,
          0.7916666666666666,
          0.7916666666666666,
          0.7083333333333334,
          0.625,
          0.8333333333333334,
          0.875,
          0.9166666666666666,
          0.7916666666666666,
          0.7083333333333334,
          0.9166666666666666,
          0.75,
          0.75,
          0.7083333333333334,
          0.9166666666666666,
          0.8333333333333334,
          0.9166666666666666,
          0.875,
          0.9166666666666666,
          0.7083333333333334,
          0.8333333333333334,
          0.8333333333333334,
          0.875,
          0.9583333333333334,
          0.75,
          0.9166666666666666,
          0.7916666666666666,
          0.625,
          0.875,
          0.9583333333333334,
          0.625,
          0.6666666666666666,
          0.875,
          0.875,
          1,
          0.75,
          0.7916666666666666,
          0.7916666666666666,
          0.875,
          0.8333333333333334,
          0.8333333333333334,
          0.9166666666666666,
          0.8333333333333334,
          0.75,
          0.8333333333333334,
          0.875,
          0.6666666666666666,
          0.75,
          0.7916666666666666,
          0.75,
          0.9583333333333334,
          0.7916666666666666,
          0.5,
          0.875,
          0.625,
          0.8333333333333334,
          0.875,
          0.7916666666666666,
          0.8333333333333334,
          0.5833333333333334,
          0.5833333333333334,
          0.7916666666666666,
          0.7083333333333334,
          0.7916666666666666,
          0.6666666666666666,
          0.875,
          0.9583333333333334,
          0.875,
          0.9166666666666666,
          0.8333333333333334,
          0.8333333333333334,
          0.6666666666666666,
          0.875,
          0.7916666666666666,
          0.875,
          0.9583333333333334,
          0.9583333333333334,
          0.7916666666666666,
          0.8333333333333334,
          0.9166666666666666,
          0.7916666666666666,
          0.9166666666666666,
          0.7916666666666666,
          0.875,
          0.9583333333333334,
          0.7916666666666666,
          0.875,
          0.9583333333333334,
          0.875,
          0.7916666666666666,
          0.9166666666666666,
          0.875,
          0.7916666666666666,
          0.8333333333333334,
          0.7916666666666666,
          0.875,
          0.7916666666666666,
          0.7916666666666666,
          0.8333333333333334,
          0.875,
          0.7916666666666666,
          0.875,
          0.9166666666666666,
          0.9583333333333334,
          0.8333333333333334,
          0.75,
          0.875,
          0.75,
          0.875,
          0.8333333333333334,
          0.9166666666666666,
          0.7083333333333334,
          0.7083333333333334,
          0.9166666666666666,
          0.875,
          0.8333333333333334,
          0.875,
          0.9583333333333334,
          0.8333333333333334,
          0.7916666666666666,
          0.75,
          0.9583333333333334,
          0.9166666666666666,
          0.7916666666666666,
          0.8333333333333334,
          0.7916666666666666,
          0.875,
          0.9166666666666666,
          0.9166666666666666,
          0.875,
          0.7916666666666666,
          0.7916666666666666,
          0.8333333333333334,
          0.8333333333333334,
          0.7916666666666666,
          0.875,
          0.75,
          0.7916666666666666,
          0.8333333333333334,
          0.875,
          0.9166666666666666,
          0.9166666666666666,
          0.7916666666666666,
          0.8333333333333334,
          0.8333333333333334,
          0.9166666666666666,
          0.875,
          0.875,
          0.8333333333333334,
          0.75,
          0.8333333333333334,
          0.75,
          0.8333333333333334,
          0.7916666666666666,
          0.7916666666666666,
          0.7916666666666666,
          0.875,
          0.625,
          0.8333333333333334,
          0.8333333333333334,
          0.9166666666666666,
          0.875,
          0.6666666666666666,
          0.6666666666666666,
          0.7083333333333334,
          0.9166666666666666,
          0.75,
          0.875,
          0.8333333333333334,
          0.9166666666666666,
          0.9166666666666666,
          0.8333333333333334,
          0.6666666666666666,
          0.7916666666666666,
          0.7916666666666666,
          0.75,
          0.875,
          0.875,
          0.7916666666666666,
          0.75,
          0.7083333333333334,
          0.7083333333333334,
          0.875,
          0.9583333333333334,
          0.75,
          0.875,
          0.7083333333333334,
          0.75,
          0.8333333333333334,
          0.9166666666666666,
          0.8333333333333334,
          0.75,
          0.9166666666666666,
          0.7916666666666666,
          0.8333333333333334,
          0.9166666666666666,
          0.75,
          0.7916666666666666,
          0.75,
          0.8333333333333334,
          0.7083333333333334,
          0.625,
          0.9166666666666666,
          0.9583333333333334,
          0.75,
          0.8333333333333334,
          0.9166666666666666,
          0.625,
          0.8333333333333334,
          0.7083333333333334,
          0.8333333333333334,
          0.875,
          0.8333333333333334,
          0.875,
          0.875,
          0.875,
          0.8333333333333334,
          0.9166666666666666,
          0.75,
          0.8333333333333334,
          0.7916666666666666,
          0.75,
          1,
          0.7916666666666666,
          0.7083333333333334,
          0.7916666666666666,
          0.75,
          0.9583333333333334,
          0.8333333333333334,
          0.8333333333333334,
          0.7916666666666666,
          0.4166666666666667,
          0.9166666666666666,
          0.9166666666666666,
          0.7916666666666666,
          0.7916666666666666,
          0.8333333333333334,
          0.8333333333333334,
          0.8333333333333334,
          0.8333333333333334,
          0.875,
          0.7083333333333334,
          0.7083333333333334,
          0.9583333333333334,
          0.7916666666666666,
          0.9166666666666666,
          0.875,
          0.875,
          0.7916666666666666,
          0.875,
          0.9583333333333334,
          0.625,
          0.875,
          0.7083333333333334,
          0.875,
          0.75,
          0.8333333333333334,
          0.9583333333333334,
          0.7083333333333334,
          0.875,
          0.875,
          0.875,
          0.75,
          0.9166666666666666,
          0.75,
          0.7083333333333334,
          0.8333333333333334,
          0.7916666666666666,
          0.875,
          0.75,
          0.625,
          0.75,
          0.7083333333333334,
          0.9583333333333334,
          0.75,
          0.875,
          0.8333333333333334,
          0.75,
          0.8333333333333334,
          0.875,
          0.8333333333333334,
          0.625,
          0.9166666666666666,
          0.9583333333333334,
          0.7083333333333334,
          0.7916666666666666,
          0.7916666666666666,
          0.7083333333333334,
          0.875,
          0.75,
          0.5833333333333334,
          0.9166666666666666,
          0.7916666666666666,
          0.875,
          0.8333333333333334,
          1,
          0.875,
          0.9166666666666666,
          0.875,
          0.7083333333333334,
          0.9166666666666666,
          0.7916666666666666,
          0.75,
          0.6666666666666666,
          0.875,
          0.75,
          0.7916666666666666,
          0.875,
          0.875,
          0.7916666666666666,
          0.8333333333333334,
          0.9166666666666666,
          0.7916666666666666,
          0.875,
          0.875,
          0.75,
          0.8333333333333334,
          0.8333333333333334,
          0.75,
          0.8333333333333334,
          0.8333333333333334,
          0.7916666666666666,
          0.9166666666666666,
          0.7916666666666666,
          0.875,
          0.8333333333333334,
          0.9166666666666666,
          0.75,
          0.7916666666666666,
          0.75,
          0.8333333333333334,
          0.75,
          0.8333333333333334,
          0.9583333333333334,
          0.7083333333333334,
          0.9166666666666666,
          0.875,
          0.6666666666666666,
          0.8333333333333334,
          0.6666666666666666,
          0.875,
          0.6666666666666666,
          0.8333333333333334,
          0.7916666666666666,
          0.6666666666666666,
          0.9166666666666666,
          0.9583333333333334,
          0.5833333333333334,
          0.8333333333333334,
          0.9583333333333334,
          0.8333333333333334,
          0.75,
          0.9166666666666666,
          0.8333333333333334,
          0.8333333333333334,
          0.6666666666666666,
          0.8333333333333334,
          0.7916666666666666,
          0.8333333333333334,
          0.8333333333333334,
          0.7916666666666666,
          0.7916666666666666,
          0.8333333333333334,
          1,
          0.7083333333333334,
          0.8333333333333334,
          0.875,
          0.875,
          0.7916666666666666,
          0.6666666666666666,
          0.9166666666666666,
          0.8333333333333334,
          0.625,
          0.7916666666666666,
          0.7916666666666666,
          0.7916666666666666,
          0.7083333333333334,
          0.75,
          0.7916666666666666,
          0.875,
          0.875,
          0.8333333333333334,
          0.75,
          0.8333333333333334,
          0.7916666666666666,
          0.7916666666666666,
          0.75,
          0.7916666666666666,
          0.9583333333333334,
          0.875,
          0.7083333333333334,
          0.8333333333333334,
          0.75,
          0.7916666666666666,
          0.7916666666666666,
          0.7916666666666666,
          0.7916666666666666,
          0.7083333333333334,
          0.8333333333333334,
          0.7083333333333334,
          0.875,
          0.7916666666666666,
          0.75,
          0.5833333333333334,
          0.9166666666666666,
          0.8333333333333334,
          0.9166666666666666,
          0.7916666666666666,
          0.7916666666666666,
          0.7916666666666666,
          0.9166666666666666,
          0.8333333333333334,
          0.8333333333333334,
          0.9166666666666666,
          0.7916666666666666,
          0.7916666666666666,
          0.7916666666666666,
          0.75,
          0.8333333333333334,
          0.8333333333333334,
          0.7083333333333334,
          0.9583333333333334,
          0.8333333333333334,
          0.8333333333333334,
          0.875,
          0.7916666666666666,
          0.7916666666666666,
          0.875,
          0.75,
          0.6666666666666666,
          0.7916666666666666,
          0.9166666666666666,
          0.8333333333333334,
          0.9166666666666666,
          0.7083333333333334,
          0.9166666666666666,
          0.8333333333333334,
          0.9166666666666666,
          0.75,
          0.875,
          0.7916666666666666,
          0.7083333333333334,
          0.8333333333333334,
          0.625,
          0.7916666666666666,
          0.8333333333333334,
          0.875,
          0.9166666666666666,
          0.9166666666666666,
          0.8333333333333334,
          0.875,
          0.7916666666666666,
          0.875,
          0.875,
          0.75,
          0.7083333333333334,
          0.6666666666666666,
          0.5416666666666666,
          0.8333333333333334,
          0.5833333333333334,
          0.75,
          0.875,
          0.8333333333333334,
          0.75,
          0.9166666666666666,
          0.875,
          0.8333333333333334,
          0.8333333333333334,
          0.9583333333333334,
          0.7916666666666666,
          0.75,
          0.6666666666666666,
          0.7916666666666666,
          0.75,
          0.8333333333333334,
          0.75,
          0.8333333333333334,
          0.875,
          0.6666666666666666,
          0.7916666666666666,
          0.9166666666666666,
          0.75,
          0.875,
          0.7083333333333334,
          0.7083333333333334,
          0.7916666666666666,
          0.75,
          0.8333333333333334,
          0.875,
          0.6666666666666666,
          0.9583333333333334,
          0.7083333333333334,
          0.8333333333333334,
          0.8333333333333334,
          0.7916666666666666,
          0.7083333333333334,
          0.875,
          0.9166666666666666,
          0.875,
          0.8333333333333334,
          0.875,
          0.9583333333333334,
          0.875,
          0.9166666666666666,
          0.9166666666666666,
          0.7916666666666666,
          0.875,
          0.9583333333333334,
          0.7916666666666666,
          0.7083333333333334,
          0.875,
          0.75,
          0.75,
          0.875,
          0.875,
          0.7916666666666666,
          0.7083333333333334,
          0.875,
          0.875,
          0.8333333333333334,
          0.6666666666666666,
          0.75,
          0.8333333333333334,
          0.6666666666666666,
          0.7916666666666666,
          0.8333333333333334,
          0.75,
          0.8333333333333334,
          0.8333333333333334,
          0.8333333333333334,
          0.7083333333333334,
          0.875,
          0.7916666666666666,
          0.7916666666666666,
          0.6666666666666666,
          0.9583333333333334,
          0.8333333333333334,
          0.7916666666666666,
          0.8333333333333334,
          0.6666666666666666,
          0.8333333333333334,
          0.7916666666666666,
          0.7916666666666666,
          0.875,
          0.7916666666666666,
          0.75,
          0.875,
          0.7083333333333334,
          0.7083333333333334,
          0.875,
          0.7083333333333334,
          0.75,
          0.9166666666666666,
          0.7916666666666666,
          0.9166666666666666,
          0.8333333333333334,
          0.9166666666666666,
          0.9166666666666666,
          0.9166666666666666,
          0.8333333333333334,
          0.75,
          0.6666666666666666,
          0.7916666666666666,
          0.75,
          0.75,
          0.6666666666666666,
          0.7916666666666666,
          0.9583333333333334,
          0.8333333333333334,
          0.8333333333333334,
          0.75,
          0.6666666666666666,
          0.8333333333333334,
          0.8333333333333334,
          0.9583333333333334,
          0.9166666666666666,
          0.7083333333333334,
          0.7083333333333334,
          0.9166666666666666,
          0.7083333333333334,
          0.7916666666666666,
          0.7916666666666666,
          0.8333333333333334,
          0.625,
          0.75,
          0.875,
          0.7916666666666666,
          0.8333333333333334,
          0.8333333333333334,
          0.7083333333333334,
          0.875,
          0.8333333333333334,
          0.7916666666666666,
          0.7916666666666666,
          0.875,
          0.8333333333333334,
          0.5833333333333334,
          0.8333333333333334,
          0.875,
          0.7083333333333334,
          0.6666666666666666,
          0.7916666666666666,
          0.9166666666666666,
          0.75,
          0.7916666666666666,
          0.875,
          0.625,
          0.875,
          0.8333333333333334,
          0.9166666666666666,
          0.4166666666666667,
          0.8333333333333334,
          0.9583333333333334,
          0.7916666666666666,
          0.7916666666666666,
          0.875,
          0.7916666666666666,
          0.6666666666666666,
          0.875,
          0.6666666666666666,
          0.7916666666666666,
          0.75,
          0.7916666666666666,
          0.75,
          0.75,
          0.875,
          0.7083333333333334,
          0.875,
          0.75,
          0.7083333333333334,
          0.7916666666666666,
          0.7916666666666666,
          0.7083333333333334,
          0.7916666666666666,
          0.8333333333333334,
          0.7083333333333334,
          0.9166666666666666,
          0.625,
          0.6666666666666666,
          0.8333333333333334,
          0.7916666666666666,
          0.8333333333333334,
          0.8333333333333334,
          0.8333333333333334,
          0.9166666666666666,
          0.7083333333333334,
          0.9166666666666666,
          0.75,
          0.8333333333333334,
          0.7083333333333334,
          0.875,
          0.875,
          0.6666666666666666,
          0.7083333333333334,
          0.8333333333333334,
          0.9166666666666666,
          0.75,
          0.8333333333333334,
          0.7916666666666666,
          0.6666666666666666,
          0.7916666666666666,
          0.7916666666666666,
          0.75,
          0.7916666666666666,
          0.7916666666666666,
          0.7916666666666666,
          0.8333333333333334,
          0.875,
          0.75,
          0.7916666666666666,
          0.875,
          0.7083333333333334,
          0.6666666666666666,
          0.8333333333333334,
          0.75,
          0.8333333333333334,
          0.875,
          0.9166666666666666,
          0.7083333333333334,
          0.8333333333333334,
          0.8333333333333334,
          0.75,
          0.8333333333333334,
          0.6666666666666666,
          0.875,
          0.7916666666666666,
          0.7916666666666666,
          0.875,
          0.75,
          0.875,
          0.8333333333333334,
          0.875,
          0.6666666666666666,
          0.7916666666666666,
          0.7916666666666666,
          0.5416666666666666,
          0.8333333333333334,
          0.7083333333333334,
          0.7916666666666666,
          0.8333333333333334,
          0.8333333333333334,
          0.875,
          0.75,
          0.75,
          0.7916666666666666,
          0.7916666666666666,
          0.8333333333333334,
          0.75,
          0.8333333333333334,
          0.75,
          0.7916666666666666,
          0.75,
          0.75,
          0.9166666666666666,
          0.875,
          0.875,
          0.8333333333333334,
          0.9166666666666666,
          0.7916666666666666,
          0.8333333333333334,
          0.7916666666666666,
          1,
          0.9166666666666666,
          0.7916666666666666,
          0.7083333333333334,
          0.625,
          0.9166666666666666,
          0.75,
          0.75,
          0.7916666666666666,
          0.5416666666666666,
          0.875,
          0.7916666666666666,
          0.5833333333333334,
          1,
          0.7916666666666666,
          0.875,
          0.7916666666666666,
          0.75,
          0.7916666666666666,
          0.875,
          0.75,
          0.8333333333333334,
          0.6666666666666666,
          0.7916666666666666,
          0.8333333333333334,
          0.75,
          0.9166666666666666,
          0.875,
          0.625,
          0.9583333333333334,
          0.9166666666666666,
          0.875,
          0.8333333333333334,
          0.7083333333333334,
          0.6666666666666666,
          0.875,
          0.5833333333333334,
          0.875,
          0.7916666666666666,
          0.75,
          0.75,
          0.7916666666666666,
          0.75,
          0.75,
          0.7916666666666666,
          0.7916666666666666,
          0.5416666666666666,
          0.9166666666666666,
          0.7916666666666666,
          0.875,
          0.8333333333333334,
          0.8333333333333334,
          0.875,
          0.875,
          0.625,
          0.8333333333333334,
          0.75,
          0.75,
          0.8333333333333334,
          0.625,
          0.5833333333333334,
          0.9166666666666666,
          0.875,
          0.8333333333333334,
          1,
          0.75,
          0.8333333333333334,
          0.8333333333333334,
          0.9166666666666666,
          0.7916666666666666,
          0.9166666666666666,
          0.8333333333333334,
          0.8333333333333334,
          0.7916666666666666,
          0.8333333333333334,
          0.625,
          0.9583333333333334,
          0.875,
          0.7916666666666666,
          0.9166666666666666,
          0.8333333333333334,
          0.7083333333333334,
          0.75,
          0.7916666666666666,
          0.8333333333333334,
          0.75,
          0.7083333333333334,
          0.875,
          0.75,
          0.7916666666666666,
          0.75,
          0.75,
          0.625,
          0.8333333333333334,
          0.9583333333333334,
          0.8333333333333334,
          0.8333333333333334,
          0.4583333333333333,
          0.75,
          0.7083333333333334,
          0.9583333333333334,
          0.9166666666666666,
          0.8333333333333334,
          0.7916666666666666,
          0.9166666666666666,
          0.7916666666666666,
          0.7916666666666666,
          0.75,
          0.875,
          0.7083333333333334,
          0.5833333333333334,
          0.875,
          0.7916666666666666,
          0.75,
          0.875,
          0.8333333333333334,
          0.75,
          0.8333333333333334,
          0.7916666666666666,
          0.6666666666666666,
          0.7916666666666666,
          0.8333333333333334,
          0.75,
          0.8333333333333334,
          0.75,
          0.875,
          0.7916666666666666,
          0.75,
          0.7916666666666666,
          0.8333333333333334,
          0.9583333333333334,
          0.75,
          0.875,
          0.9583333333333334,
          0.8333333333333334,
          0.8333333333333334,
          0.875,
          0.75,
          0.7916666666666666,
          0.7916666666666666,
          0.7916666666666666,
          0.7083333333333334,
          0.9166666666666666,
          0.8333333333333334,
          0.875,
          0.875,
          0.9583333333333334,
          0.8333333333333334,
          0.7083333333333334,
          0.6666666666666666,
          0.8333333333333334,
          0.75,
          0.875,
          0.75,
          0.625,
          0.7083333333333334,
          0.7083333333333334,
          0.7916666666666666,
          0.4166666666666667,
          0.6666666666666666,
          0.8333333333333334,
          0.9166666666666666,
          0.8333333333333334,
          0.625,
          0.8333333333333334,
          0.8333333333333334,
          0.75,
          0.7083333333333334,
          0.7083333333333334,
          0.7083333333333334,
          0.8333333333333334,
          0.7916666666666666,
          0.8333333333333334,
          0.6666666666666666,
          0.7083333333333334,
          0.8333333333333334,
          0.75,
          0.8333333333333334,
          0.6666666666666666,
          0.8333333333333334,
          0.875,
          0.875,
          0.8333333333333334,
          0.8333333333333334,
          0.75,
          0.9583333333333334,
          0.7916666666666666,
          0.875,
          0.7083333333333334,
          0.875,
          0.875,
          0.625,
          0.9166666666666666,
          0.8333333333333334,
          0.75,
          0.625,
          0.5833333333333334,
          0.875,
          0.8333333333333334,
          0.875,
          0.875,
          0.7916666666666666,
          0.75,
          0.625,
          0.7916666666666666,
          0.7083333333333334,
          0.7916666666666666,
          0.8333333333333334,
          0.7916666666666666,
          0.8333333333333334,
          0.75,
          0.6666666666666666,
          0.7083333333333334,
          0.875,
          0.7083333333333334,
          0.7916666666666666,
          0.7916666666666666,
          0.6666666666666666,
          0.8333333333333334,
          0.625,
          0.7916666666666666,
          0.75,
          1,
          0.8333333333333334,
          0.75,
          0.9583333333333334,
          0.75,
          0.875,
          0.9166666666666666,
          0.8333333333333334,
          0.7083333333333334,
          0.7916666666666666,
          0.7916666666666666,
          0.75,
          0.875,
          0.625,
          0.875,
          0.5416666666666666,
          0.5833333333333334,
          0.75,
          0.8333333333333334,
          0.75,
          0.7083333333333334,
          0.8333333333333334,
          0.7083333333333334,
          0.75,
          0.6666666666666666,
          0.8333333333333334,
          0.9166666666666666,
          0.5416666666666666,
          0.7916666666666666,
          0.7916666666666666,
          0.75,
          0.75,
          0.9166666666666666,
          0.6666666666666666,
          0.8333333333333334,
          0.9583333333333334,
          0.7916666666666666,
          0.875,
          0.75,
          0.875,
          0.6666666666666666,
          0.75,
          0.7916666666666666,
          0.7083333333333334,
          0.7916666666666666,
          0.75,
          0.7916666666666666,
          0.875,
          0.8333333333333334,
          0.7916666666666666,
          0.875,
          0.7916666666666666,
          0.75,
          0.9166666666666666,
          0.8333333333333334,
          0.8333333333333334,
          0.7916666666666666,
          0.8333333333333334,
          0.8333333333333334,
          0.7083333333333334,
          0.75,
          0.5833333333333334,
          0.8333333333333334,
          0.875,
          0.9166666666666666,
          0.6666666666666666,
          0.7916666666666666,
          0.7916666666666666,
          0.9166666666666666,
          0.7916666666666666,
          0.875,
          0.75,
          0.875,
          0.9583333333333334,
          0.875,
          0.875,
          0.8333333333333334,
          0.625,
          0.75,
          0.875,
          0.7916666666666666,
          0.8333333333333334,
          0.6666666666666666,
          0.8333333333333334,
          0.75,
          0.875,
          0.875,
          0.75,
          0.4583333333333333,
          0.6666666666666666,
          0.7083333333333334,
          0.9583333333333334,
          0.625,
          0.7083333333333334,
          0.7083333333333334,
          0.9166666666666666,
          0.75,
          0.9166666666666666,
          0.9583333333333334,
          0.8333333333333334,
          0.875,
          0.7083333333333334,
          0.7916666666666666,
          0.7916666666666666,
          0.8333333333333334,
          0.875,
          0.75,
          0.9166666666666666,
          0.875,
          0.7083333333333334,
          0.7083333333333334,
          0.8333333333333334,
          0.8333333333333334,
          0.7916666666666666,
          0.7083333333333334,
          0.7083333333333334,
          0.7916666666666666,
          0.75,
          0.7916666666666666,
          0.8333333333333334,
          0.75,
          0.75,
          0.6666666666666666,
          0.7916666666666666,
          0.8333333333333334,
          0.7083333333333334,
          0.5833333333333334,
          0.875,
          0.8333333333333334,
          0.7083333333333334,
          0.5833333333333334,
          0.625,
          0.8333333333333334,
          0.5833333333333334,
          0.9166666666666666,
          0.8333333333333334,
          0.7916666666666666,
          0.7083333333333334,
          0.75,
          0.625,
          0.8333333333333334,
          0.8333333333333334,
          0.75,
          0.8333333333333334,
          0.7916666666666666,
          0.7916666666666666,
          0.8333333333333334,
          0.75,
          0.9583333333333334,
          0.9583333333333334,
          0.8333333333333334,
          0.8333333333333334,
          0.875,
          0.7083333333333334,
          0.75,
          0.7916666666666666,
          0.7916666666666666,
          0.875,
          0.7916666666666666,
          0.625,
          0.7916666666666666,
          0.8333333333333334,
          0.8333333333333334,
          0.7916666666666666,
          0.7916666666666666,
          0.8333333333333334,
          0.9166666666666666,
          0.75,
          0.8333333333333334,
          0.7916666666666666,
          0.8333333333333334,
          0.7916666666666666,
          0.8333333333333334,
          0.7083333333333334,
          0.7083333333333334,
          0.625,
          0.7083333333333334,
          0.625,
          0.7916666666666666,
          0.625,
          0.75,
          0.875,
          0.7916666666666666,
          0.8333333333333334,
          0.7916666666666666,
          0.75,
          0.875,
          0.7083333333333334,
          0.7916666666666666,
          0.7916666666666666,
          0.9166666666666666,
          0.9166666666666666,
          0.7916666666666666,
          0.75,
          0.9166666666666666,
          0.75,
          0.8333333333333334,
          0.7083333333333334,
          0.8333333333333334,
          0.6666666666666666,
          0.875,
          0.8333333333333334,
          0.8333333333333334,
          0.5833333333333334,
          0.7083333333333334,
          0.875,
          0.875,
          0.7916666666666666,
          0.75,
          0.7916666666666666,
          0.625,
          0.875,
          0.5416666666666666,
          0.75,
          0.625,
          0.7083333333333334,
          0.75,
          0.6666666666666666,
          0.7916666666666666,
          0.8333333333333334,
          0.75,
          0.8333333333333334,
          0.75,
          0.8333333333333334,
          0.9166666666666666,
          0.7916666666666666,
          0.6666666666666666,
          0.8333333333333334,
          0.75,
          0.7916666666666666,
          0.6666666666666666,
          0.75,
          0.8333333333333334,
          0.8333333333333334,
          0.9166666666666666,
          0.8333333333333334,
          0.7916666666666666,
          0.8333333333333334,
          0.7083333333333334,
          0.6666666666666666,
          0.6666666666666666,
          0.7916666666666666,
          0.75,
          0.7916666666666666,
          0.75,
          0.6666666666666666,
          0.7083333333333334,
          0.6666666666666666,
          0.5416666666666666,
          0.75,
          0.6666666666666666,
          0.75,
          0.7916666666666666,
          0.875,
          0.9583333333333334,
          0.9166666666666666,
          0.8333333333333334,
          0.625,
          0.8333333333333334,
          0.75,
          0.75,
          0.875,
          0.75,
          0.7916666666666666,
          0.625,
          0.75,
          0.875,
          0.7916666666666666,
          0.9583333333333334,
          0.875,
          0.8333333333333334,
          0.7916666666666666,
          0.7083333333333334,
          0.7083333333333334,
          0.8333333333333334,
          0.8333333333333334,
          0.875,
          0.8333333333333334,
          0.6666666666666666,
          0.9166666666666666,
          0.7916666666666666,
          0.8333333333333334,
          0.75,
          0.7916666666666666,
          0.7916666666666666,
          0.7916666666666666,
          0.7916666666666666,
          0.9166666666666666,
          0.8333333333333334,
          0.7916666666666666,
          0.75,
          0.875,
          0.7083333333333334,
          0.9166666666666666,
          0.9166666666666666,
          0.75,
          0.7916666666666666,
          0.6666666666666666,
          0.9583333333333334,
          0.8333333333333334,
          0.625,
          0.9583333333333334,
          0.6666666666666666,
          0.8333333333333334,
          0.75,
          0.875,
          0.875,
          0.7083333333333334,
          0.7083333333333334,
          0.7083333333333334,
          0.7916666666666666,
          0.875,
          0.75,
          0.8333333333333334,
          0.75,
          0.8333333333333334,
          0.75,
          0.875,
          0.875,
          0.7916666666666666,
          0.8333333333333334,
          0.7083333333333334,
          0.7916666666666666,
          0.8333333333333334,
          0.625,
          0.625,
          0.875,
          0.875,
          0.9583333333333334,
          0.6666666666666666,
          0.9166666666666666,
          0.7916666666666666,
          0.7083333333333334,
          0.6666666666666666,
          0.7083333333333334,
          0.7083333333333334,
          0.8333333333333334,
          0.875,
          0.6666666666666666,
          0.7916666666666666,
          0.9166666666666666,
          0.9583333333333334,
          0.7916666666666666,
          0.7083333333333334,
          0.6666666666666666,
          0.625,
          0.9583333333333334,
          0.9166666666666666,
          0.7916666666666666,
          0.7916666666666666,
          0.6666666666666666,
          0.8333333333333334,
          0.7916666666666666,
          0.7083333333333334,
          0.7916666666666666,
          0.7916666666666666,
          0.9583333333333334,
          0.875,
          0.7916666666666666,
          0.875,
          0.875,
          0.8333333333333334,
          0.75,
          0.75,
          0.7083333333333334,
          0.7916666666666666,
          0.6666666666666666,
          0.625,
          0.75,
          0.7083333333333334,
          0.7916666666666666,
          0.7916666666666666,
          0.875,
          0.5833333333333334,
          0.75,
          0.6666666666666666,
          0.9166666666666666,
          0.875,
          0.6666666666666666,
          0.7083333333333334,
          0.7083333333333334,
          0.7083333333333334,
          0.7916666666666666,
          0.875,
          0.8333333333333334,
          0.8333333333333334,
          0.6666666666666666,
          0.8333333333333334,
          0.7916666666666666,
          0.9166666666666666,
          0.7916666666666666,
          0.5416666666666666,
          0.625,
          0.875,
          0.7916666666666666,
          0.7916666666666666,
          0.7916666666666666,
          0.7916666666666666,
          0.875,
          0.6666666666666666,
          0.75,
          0.875,
          0.7916666666666666,
          0.8333333333333334,
          0.7916666666666666,
          0.7916666666666666,
          0.75,
          0.8333333333333334,
          0.875,
          0.75,
          0.75,
          0.5833333333333334,
          0.8333333333333334,
          0.8333333333333334,
          0.75,
          0.75,
          0.8333333333333334,
          0.7916666666666666,
          0.75,
          0.75,
          0.7083333333333334,
          0.8333333333333334,
          0.9166666666666666,
          0.8333333333333334,
          0.75,
          0.75,
          0.7083333333333334,
          0.8333333333333334,
          0.7916666666666666,
          0.75,
          0.7083333333333334,
          0.875,
          0.5833333333333334,
          0.75,
          0.8333333333333334,
          0.7916666666666666,
          0.7916666666666666,
          0.8333333333333334,
          0.8333333333333334,
          0.7916666666666666,
          0.75,
          0.5833333333333334,
          0.75,
          0.875,
          0.5416666666666666,
          0.875,
          0.75,
          0.5833333333333334,
          0.7083333333333334,
          0.7083333333333334,
          0.7916666666666666,
          0.75,
          0.875,
          0.7083333333333334,
          0.6666666666666666,
          0.8333333333333334,
          0.875,
          0.7916666666666666,
          0.8333333333333334,
          0.7916666666666666,
          0.7083333333333334,
          0.75,
          0.875,
          0.9166666666666666,
          0.75,
          0.625,
          0.6666666666666666,
          0.8333333333333334,
          0.8333333333333334,
          0.9166666666666666,
          0.6666666666666666,
          0.9166666666666666,
          0.8333333333333334,
          0.9166666666666666,
          0.9166666666666666,
          0.9166666666666666,
          0.75,
          0.7083333333333334,
          0.6666666666666666,
          0.7916666666666666,
          0.6666666666666666,
          0.7916666666666666,
          0.8333333333333334,
          0.6666666666666666,
          0.8333333333333334,
          0.8333333333333334,
          0.625,
          0.7916666666666666,
          0.7083333333333334,
          0.75,
          0.8333333333333334,
          0.9166666666666666,
          0.8333333333333334,
          0.875,
          0.8333333333333334,
          0.6666666666666666,
          0.7916666666666666,
          0.75,
          0.75,
          0.9166666666666666,
          0.7916666666666666,
          0.8333333333333334,
          0.7083333333333334,
          0.75,
          0.875,
          0.9166666666666666,
          0.7916666666666666,
          0.7083333333333334,
          0.875,
          0.75,
          0.7083333333333334,
          0.8333333333333334,
          0.8333333333333334,
          0.75,
          0.75,
          0.9166666666666666,
          0.6666666666666666,
          0.9583333333333334,
          0.7916666666666666,
          0.75,
          0.6666666666666666,
          0.7916666666666666,
          0.9166666666666666,
          0.8333333333333334,
          0.7083333333333334,
          0.7083333333333334,
          0.5833333333333334,
          0.9583333333333334,
          0.75,
          0.75,
          0.8333333333333334,
          0.875,
          0.75,
          0.6666666666666666,
          0.9583333333333334,
          0.75,
          0.8333333333333334,
          0.7916666666666666,
          0.75,
          0.7083333333333334,
          0.8333333333333334,
          0.9166666666666666,
          0.8333333333333334,
          0.8333333333333334,
          0.8333333333333334,
          0.75,
          0.7916666666666666,
          0.75,
          0.8333333333333334,
          0.6666666666666666,
          0.7916666666666666,
          0.875,
          0.9583333333333334,
          0.8333333333333334,
          0.8333333333333334,
          0.9166666666666666,
          0.7916666666666666,
          0.8333333333333334,
          0.7083333333333334,
          0.75,
          0.625,
          0.7916666666666666,
          0.7916666666666666,
          0.875,
          0.9166666666666666,
          0.9166666666666666,
          0.875,
          0.8333333333333334,
          0.75,
          0.9166666666666666,
          0.75,
          0.75,
          0.875,
          0.75,
          0.9583333333333334,
          0.875,
          0.5416666666666666,
          0.7083333333333334,
          0.75,
          0.8333333333333334,
          0.75,
          0.9166666666666666,
          0.875,
          0.75,
          0.875,
          0.875,
          0.8333333333333334,
          0.7083333333333334,
          0.8333333333333334,
          0.7916666666666666,
          0.8333333333333334,
          0.875,
          0.7083333333333334,
          0.8333333333333334,
          0.75,
          0.875,
          0.7916666666666666,
          0.7916666666666666,
          0.7083333333333334,
          0.875,
          0.75,
          0.7916666666666666,
          0.7083333333333334,
          0.7083333333333334,
          0.9166666666666666,
          0.7083333333333334,
          0.875,
          0.875,
          0.8333333333333334,
          0.7916666666666666,
          0.7916666666666666,
          0.7083333333333334,
          0.7083333333333334,
          0.6666666666666666,
          0.9166666666666666,
          0.9166666666666666,
          0.7083333333333334,
          0.7916666666666666,
          0.625,
          0.7916666666666666,
          0.7916666666666666,
          0.75,
          0.7916666666666666,
          0.625,
          0.75,
          0.7916666666666666,
          0.7916666666666666,
          0.8333333333333334,
          0.6666666666666666,
          0.7916666666666666,
          0.7916666666666666,
          0.7916666666666666,
          0.8333333333333334,
          0.875,
          0.6666666666666666,
          0.7916666666666666,
          0.8333333333333334,
          0.75,
          0.875,
          0.7083333333333334,
          0.7916666666666666,
          0.7916666666666666,
          0.9166666666666666,
          0.8333333333333334,
          0.7916666666666666,
          0.7916666666666666,
          0.8333333333333334,
          0.8333333333333334,
          0.75,
          0.9166666666666666,
          0.875,
          0.6666666666666666,
          0.875,
          0.7916666666666666,
          0.7083333333333334,
          0.75,
          0.9583333333333334,
          0.75,
          0.7916666666666666,
          0.7916666666666666,
          0.875,
          0.7916666666666666,
          0.875,
          0.8333333333333334,
          0.8333333333333334,
          0.7916666666666666,
          0.8333333333333334,
          0.6666666666666666,
          0.7916666666666666,
          0.8333333333333334,
          0.8333333333333334,
          0.7916666666666666,
          0.9166666666666666,
          0.7083333333333334,
          0.875,
          0.875,
          0.8333333333333334,
          0.875,
          0.8333333333333334,
          0.9583333333333334,
          0.7916666666666666,
          0.7916666666666666,
          0.7916666666666666,
          0.8333333333333334,
          0.5833333333333334,
          0.7083333333333334,
          0.7083333333333334,
          0.6666666666666666,
          0.9166666666666666,
          0.7083333333333334,
          0.75,
          0.8333333333333334,
          0.9583333333333334,
          0.8333333333333334,
          0.7083333333333334,
          0.8333333333333334,
          0.75,
          0.9166666666666666,
          0.875,
          0.8333333333333334,
          0.9166666666666666,
          0.75,
          0.875,
          0.7916666666666666,
          0.8333333333333334,
          0.6666666666666666,
          0.8333333333333334,
          0.8333333333333334,
          0.8333333333333334,
          0.75,
          0.75,
          0.6666666666666666,
          0.75,
          0.7916666666666666,
          0.9166666666666666,
          0.9166666666666666,
          0.7916666666666666,
          0.7916666666666666,
          0.7916666666666666,
          0.8333333333333334,
          0.7916666666666666,
          0.875,
          0.75,
          0.8333333333333334,
          0.75,
          0.7916666666666666,
          0.8333333333333334,
          0.7916666666666666,
          0.7083333333333334,
          0.7916666666666666,
          0.8333333333333334,
          0.75,
          0.8333333333333334,
          0.5416666666666666,
          0.7916666666666666,
          0.7083333333333334,
          0.7083333333333334,
          0.7083333333333334,
          0.8333333333333334,
          0.8333333333333334,
          0.75,
          0.7916666666666666,
          0.7083333333333334,
          0.625,
          0.75,
          0.8333333333333334,
          0.7916666666666666,
          0.7916666666666666,
          0.8333333333333334,
          0.9166666666666666,
          0.75,
          0.75,
          0.875,
          0.75,
          0.9166666666666666,
          0.7916666666666666,
          0.625,
          0.75,
          0.9166666666666666,
          0.75,
          0.8333333333333334,
          0.875,
          0.7916666666666666,
          0.7083333333333334,
          0.7916666666666666,
          0.6666666666666666,
          0.75,
          0.7916666666666666,
          0.7083333333333334,
          0.7083333333333334,
          0.75,
          0.875,
          0.9166666666666666,
          0.7083333333333334,
          0.7083333333333334,
          0.75,
          0.75,
          0.8333333333333334,
          0.75,
          0.8333333333333334,
          0.9583333333333334,
          0.7083333333333334,
          0.7916666666666666,
          0.9166666666666666,
          0.8333333333333334,
          0.8333333333333334,
          0.75,
          0.875,
          0.8333333333333334,
          0.875,
          0.9166666666666666,
          0.75,
          0.875,
          0.5833333333333334,
          0.75,
          0.9166666666666666,
          0.8333333333333334,
          0.7916666666666666,
          0.7916666666666666,
          0.6666666666666666,
          0.7916666666666666,
          0.8333333333333334,
          0.7916666666666666,
          0.7083333333333334,
          0.5,
          0.75,
          0.8333333333333334,
          0.7083333333333334,
          0.7916666666666666,
          0.6666666666666666,
          0.875,
          0.875,
          0.875,
          0.5,
          0.9166666666666666,
          0.7916666666666666,
          0.7916666666666666,
          0.8333333333333334,
          0.7916666666666666,
          0.875,
          0.7916666666666666,
          0.875,
          0.7083333333333334,
          0.8333333333333334,
          0.75,
          0.7916666666666666,
          0.7916666666666666,
          0.875,
          0.75,
          0.75,
          0.75,
          0.7916666666666666,
          0.7083333333333334,
          0.6666666666666666,
          0.7916666666666666,
          0.7916666666666666,
          0.875,
          0.9166666666666666,
          0.7083333333333334,
          0.7916666666666666,
          0.8333333333333334,
          0.7916666666666666,
          0.75,
          0.75,
          0.875,
          0.8333333333333334,
          0.75,
          0.7916666666666666,
          0.6666666666666666,
          0.8333333333333334,
          0.8333333333333334,
          0.7916666666666666,
          0.9166666666666666,
          0.875,
          0.6666666666666666,
          0.9166666666666666,
          0.625,
          0.7916666666666666,
          0.7083333333333334,
          0.8333333333333334,
          0.75,
          0.7916666666666666,
          0.8333333333333334,
          0.9166666666666666,
          0.9583333333333334,
          0.7916666666666666,
          0.9166666666666666,
          0.7916666666666666,
          0.875,
          0.7083333333333334,
          0.875,
          0.6666666666666666,
          0.9166666666666666,
          0.9166666666666666,
          0.9583333333333334,
          0.8333333333333334,
          0.875,
          0.75,
          0.8333333333333334,
          0.6666666666666666,
          0.9166666666666666,
          0.7916666666666666,
          0.8333333333333334,
          0.75,
          0.75,
          0.875,
          0.8333333333333334,
          0.8333333333333334,
          1,
          0.9166666666666666,
          0.8333333333333334,
          0.6666666666666666,
          0.875,
          0.9166666666666666,
          0.875,
          0.875,
          0.7083333333333334,
          0.9166666666666666,
          0.875,
          1,
          0.8333333333333334,
          0.9166666666666666,
          0.8333333333333334,
          0.875,
          0.75,
          0.7916666666666666,
          0.875,
          0.8333333333333334,
          0.8333333333333334,
          0.75,
          0.875,
          0.8333333333333334,
          0.875,
          0.875,
          0.7916666666666666,
          0.8333333333333334,
          0.6666666666666666,
          0.9166666666666666,
          0.8333333333333334,
          0.7916666666666666,
          1,
          0.7083333333333334,
          0.875,
          0.75,
          0.7916666666666666,
          0.9583333333333334,
          0.6666666666666666,
          0.75,
          0.8333333333333334,
          0.7083333333333334,
          0.7083333333333334,
          0.9166666666666666,
          0.7916666666666666,
          0.7083333333333334,
          0.75,
          0.6666666666666666,
          0.875,
          0.9166666666666666,
          0.9166666666666666,
          0.875,
          0.7083333333333334,
          0.7916666666666666,
          0.7916666666666666,
          0.875,
          0.6666666666666666,
          0.7916666666666666,
          0.8333333333333334,
          0.875,
          0.9166666666666666,
          0.9166666666666666,
          0.7916666666666666,
          0.4583333333333333,
          0.75,
          0.9166666666666666,
          0.625,
          0.5833333333333334,
          0.5833333333333334,
          0.9166666666666666,
          0.7916666666666666,
          0.7916666666666666,
          0.75,
          0.8333333333333334,
          0.7083333333333334,
          0.75,
          0.875,
          0.875,
          0.7083333333333334,
          0.7916666666666666,
          0.7083333333333334,
          0.875,
          0.6666666666666666,
          0.6666666666666666,
          0.8333333333333334,
          0.9166666666666666,
          0.7083333333333334,
          0.75,
          0.7916666666666666,
          0.625,
          0.7083333333333334,
          0.7916666666666666,
          0.8333333333333334,
          0.6666666666666666,
          0.7916666666666666,
          0.9166666666666666,
          0.875,
          0.875,
          0.8333333333333334,
          0.75,
          0.75,
          0.875,
          0.875,
          0.7916666666666666,
          0.75,
          0.75,
          0.75,
          0.8333333333333334,
          0.8333333333333334,
          0.7083333333333334,
          0.75,
          0.875,
          0.7916666666666666,
          0.875,
          0.7083333333333334,
          0.875,
          0.7916666666666666,
          0.625,
          0.875,
          0.625,
          0.5833333333333334,
          0.75,
          0.7083333333333334,
          0.8333333333333334,
          0.7083333333333334,
          0.625,
          0.8333333333333334,
          0.6666666666666666,
          0.7916666666666666,
          0.75,
          0.875,
          0.75,
          0.8333333333333334,
          0.7083333333333334,
          0.875,
          0.9583333333333334,
          0.7916666666666666,
          0.8333333333333334,
          0.8333333333333334,
          0.7083333333333334,
          0.875,
          0.8333333333333334,
          0.75,
          0.8333333333333334,
          0.75,
          0.8333333333333334,
          0.9166666666666666,
          0.75,
          0.75,
          0.75,
          0.9166666666666666,
          0.875,
          0.875,
          0.8333333333333334,
          0.6666666666666666,
          0.7083333333333334,
          0.9583333333333334,
          0.75,
          0.75,
          0.5833333333333334,
          0.875,
          0.5833333333333334,
          0.75,
          0.9166666666666666,
          0.75,
          0.7083333333333334,
          0.7083333333333334,
          0.7916666666666666,
          0.9166666666666666,
          0.6666666666666666,
          0.6666666666666666,
          0.75,
          0.75,
          0.75,
          0.9166666666666666,
          0.8333333333333334,
          0.625,
          0.8333333333333334,
          0.8333333333333334,
          0.8333333333333334,
          0.625,
          0.7083333333333334,
          0.7916666666666666,
          0.9583333333333334,
          0.9166666666666666,
          0.8333333333333334,
          0.9166666666666666,
          0.7916666666666666,
          0.5833333333333334,
          0.7083333333333334,
          0.875,
          0.7916666666666666,
          0.6666666666666666,
          0.8333333333333334,
          0.8333333333333334,
          0.8333333333333334,
          0.7083333333333334,
          0.7083333333333334,
          0.7916666666666666,
          0.875,
          0.875,
          0.75,
          0.8333333333333334,
          0.8333333333333334,
          0.7916666666666666,
          0.8333333333333334,
          0.875,
          0.6666666666666666,
          0.5833333333333334,
          0.8333333333333334,
          0.875,
          0.75,
          0.8333333333333334,
          0.9583333333333334,
          0.875,
          0.8333333333333334,
          0.7916666666666666,
          0.7083333333333334,
          0.875,
          0.6666666666666666,
          0.7083333333333334,
          0.875,
          0.875,
          0.8333333333333334,
          0.8333333333333334,
          0.875,
          0.7083333333333334,
          0.875,
          0.7916666666666666,
          0.75,
          0.9166666666666666,
          0.7916666666666666,
          0.7916666666666666,
          0.8333333333333334,
          0.8333333333333334,
          0.875,
          0.875,
          0.6666666666666666,
          0.75,
          0.8333333333333334,
          0.8333333333333334,
          0.6666666666666666,
          0.7083333333333334,
          0.7083333333333334,
          0.8333333333333334,
          0.7083333333333334,
          0.5833333333333334,
          0.9583333333333334,
          0.5416666666666666,
          0.875,
          0.9166666666666666,
          0.75,
          0.75,
          0.7083333333333334,
          0.7916666666666666,
          0.75,
          0.75,
          0.5833333333333334,
          0.9583333333333334,
          0.7916666666666666,
          0.75,
          0.7083333333333334,
          0.8333333333333334,
          0.9583333333333334,
          0.75,
          0.8333333333333334,
          0.75,
          0.7083333333333334,
          0.7083333333333334,
          0.8333333333333334,
          0.75,
          0.8333333333333334,
          0.9166666666666666,
          0.7083333333333334,
          0.6666666666666666,
          0.7083333333333334,
          0.875,
          0.8333333333333334,
          0.875,
          0.7916666666666666,
          0.625,
          0.6666666666666666,
          0.6666666666666666,
          0.6666666666666666,
          0.9166666666666666,
          0.875,
          0.8333333333333334,
          0.8333333333333334,
          0.8333333333333334,
          0.75,
          0.875,
          0.7083333333333334,
          0.9583333333333334,
          0.9166666666666666,
          0.9166666666666666,
          0.7916666666666666,
          1,
          0.875,
          0.75,
          0.875,
          0.6666666666666666,
          0.875,
          0.9166666666666666,
          0.8333333333333334,
          0.6666666666666666,
          0.7916666666666666,
          0.7916666666666666,
          0.9166666666666666,
          0.6666666666666666,
          0.9583333333333334,
          0.7916666666666666,
          0.8333333333333334,
          0.8333333333333334,
          0.6666666666666666,
          0.875,
          0.5833333333333334,
          0.625,
          0.9166666666666666,
          0.75,
          0.7916666666666666,
          0.9166666666666666,
          0.625,
          0.7916666666666666,
          0.8333333333333334,
          0.625,
          0.9166666666666666,
          0.7083333333333334,
          0.625,
          0.75,
          0.7083333333333334,
          0.6666666666666666,
          0.75,
          0.6666666666666666,
          0.75,
          0.7916666666666666,
          0.75,
          0.7916666666666666,
          0.9166666666666666,
          0.8333333333333334,
          1,
          0.75,
          0.7083333333333334,
          0.7083333333333334,
          0.9166666666666666,
          0.6666666666666666,
          0.8333333333333334,
          0.8333333333333334,
          0.7916666666666666,
          0.875,
          0.6666666666666666,
          0.625,
          0.75,
          0.9583333333333334,
          0.7916666666666666,
          0.5833333333333334,
          0.625,
          0.7916666666666666,
          0.75,
          0.75,
          0.7916666666666666,
          0.7083333333333334,
          0.7083333333333334,
          0.875,
          0.75,
          0.75,
          0.6666666666666666,
          0.75,
          0.7083333333333334,
          0.6666666666666666,
          0.7083333333333334,
          0.6666666666666666,
          0.625,
          0.75,
          0.75,
          0.7083333333333334,
          0.875,
          0.75,
          0.875,
          0.6666666666666666,
          0.7916666666666666,
          0.75,
          0.7083333333333334,
          0.875,
          0.75,
          0.8333333333333334,
          0.5833333333333334,
          0.8333333333333334,
          0.6666666666666666,
          0.7083333333333334,
          0.875,
          0.7083333333333334,
          0.875,
          0.6666666666666666,
          0.7916666666666666,
          0.875,
          0.5416666666666666,
          0.625,
          0.6666666666666666,
          0.875,
          0.8333333333333334,
          0.9583333333333334,
          0.7916666666666666,
          0.75,
          0.75,
          0.8333333333333334,
          0.8333333333333334,
          0.75,
          0.875,
          0.75,
          0.6666666666666666,
          0.8333333333333334,
          0.7916666666666666,
          0.9166666666666666,
          0.6666666666666666,
          0.6666666666666666,
          0.875,
          0.7916666666666666,
          0.8333333333333334,
          0.875,
          0.9583333333333334,
          0.7916666666666666,
          0.7916666666666666,
          0.875,
          0.375,
          0.6666666666666666,
          0.7083333333333334,
          0.9166666666666666,
          0.6666666666666666,
          0.7916666666666666,
          0.5416666666666666,
          0.625,
          0.8333333333333334,
          0.6666666666666666,
          0.8333333333333334,
          0.75,
          0.7916666666666666,
          0.7916666666666666,
          0.7083333333333334,
          0.75,
          0.875,
          0.6666666666666666,
          0.875,
          0.5833333333333334,
          0.7916666666666666,
          0.5833333333333334,
          0.75,
          0.7916666666666666,
          0.7916666666666666,
          0.75,
          0.7083333333333334,
          0.75,
          0.625,
          0.7083333333333334,
          0.7083333333333334,
          0.75,
          0.75,
          0.5416666666666666,
          0.75,
          0.6666666666666666,
          0.7916666666666666,
          0.8333333333333334,
          0.9166666666666666,
          0.5833333333333334,
          0.7083333333333334,
          0.6666666666666666,
          0.5,
          0.8333333333333334,
          0.7083333333333334,
          0.5,
          0.5,
          0.5833333333333334,
          0.7083333333333334,
          0.75,
          0.625,
          0.7083333333333334,
          0.7083333333333334,
          0.7083333333333334,
          0.75,
          0.875,
          0.875,
          0.875,
          0.7083333333333334,
          0.8333333333333334,
          0.6666666666666666,
          0.7916666666666666,
          0.8333333333333334,
          0.75,
          0.6666666666666666,
          0.875,
          0.625,
          0.875,
          0.7083333333333334,
          0.8333333333333334,
          0.875,
          0.8333333333333334,
          0.5,
          0.75,
          0.9166666666666666,
          0.9583333333333334,
          0.75,
          0.6666666666666666,
          0.8333333333333334,
          0.75,
          0.7083333333333334,
          0.6666666666666666,
          0.8333333333333334,
          0.9583333333333334,
          0.7083333333333334,
          0.7083333333333334,
          0.875,
          0.7083333333333334,
          0.875,
          0.875,
          0.7916666666666666,
          0.8333333333333334,
          0.6666666666666666,
          0.875,
          0.75,
          0.7083333333333334,
          0.8333333333333334,
          0.75,
          0.75,
          0.625,
          0.7916666666666666,
          0.7083333333333334,
          0.6666666666666666,
          0.5833333333333334,
          0.7916666666666666,
          0.75,
          0.875,
          0.8333333333333334,
          0.9166666666666666,
          0.8333333333333334,
          0.5833333333333334,
          0.8333333333333334,
          0.75,
          0.9166666666666666,
          0.75,
          0.6666666666666666,
          0.7916666666666666,
          0.6666666666666666,
          0.7916666666666666,
          0.875,
          0.9583333333333334,
          0.875,
          0.8333333333333334,
          0.75,
          0.7916666666666666,
          0.5,
          0.75,
          0.75,
          0.7083333333333334,
          0.7083333333333334,
          0.6666666666666666,
          0.875,
          0.75,
          0.75,
          0.7083333333333334,
          0.8333333333333334,
          0.9583333333333334,
          0.9166666666666666,
          0.75,
          0.7916666666666666,
          0.7083333333333334,
          0.75,
          0.7083333333333334,
          0.9166666666666666,
          0.7083333333333334,
          0.875,
          0.8333333333333334,
          0.625,
          0.875,
          0.6666666666666666,
          0.8333333333333334,
          0.8333333333333334,
          0.75,
          0.75,
          0.6666666666666666,
          0.7083333333333334,
          0.8333333333333334,
          0.875,
          0.875,
          0.7083333333333334,
          0.8333333333333334,
          0.6666666666666666,
          0.7916666666666666,
          0.7083333333333334,
          0.875,
          0.7916666666666666,
          0.7083333333333334,
          0.7916666666666666,
          0.875,
          0.75,
          0.7916666666666666,
          0.875,
          0.75,
          0.625,
          0.75,
          0.7916666666666666,
          0.7916666666666666,
          0.75,
          0.875,
          0.4583333333333333,
          0.8333333333333334,
          0.7916666666666666,
          0.8333333333333334,
          0.75,
          0.8333333333333334,
          0.8333333333333334,
          0.7083333333333334,
          0.9166666666666666,
          0.7916666666666666,
          0.625,
          0.9583333333333334,
          0.875,
          0.8333333333333334,
          0.625,
          0.875,
          0.7083333333333334,
          0.875,
          0.7916666666666666,
          0.75,
          0.5833333333333334,
          0.4583333333333333,
          0.7916666666666666,
          0.7916666666666666,
          0.7083333333333334,
          0.7916666666666666,
          0.8333333333333334,
          0.875,
          0.7916666666666666,
          0.875,
          0.8333333333333334,
          0.6666666666666666,
          0.875,
          0.6666666666666666,
          0.8333333333333334,
          0.875,
          0.9166666666666666,
          0.7916666666666666,
          0.7916666666666666,
          0.875,
          0.7916666666666666,
          0.8333333333333334,
          0.6666666666666666,
          0.7916666666666666,
          0.875,
          0.875,
          0.9166666666666666,
          0.75,
          0.7083333333333334,
          0.7916666666666666,
          0.75,
          0.6666666666666666,
          0.7916666666666666,
          0.875,
          0.875,
          0.625,
          0.7916666666666666,
          0.875,
          0.875,
          0.875,
          0.9583333333333334,
          0.9583333333333334,
          0.7916666666666666,
          0.6666666666666666,
          0.9166666666666666,
          0.8333333333333334,
          0.8333333333333334,
          0.9583333333333334,
          0.8333333333333334,
          0.7916666666666666,
          0.7916666666666666,
          0.625,
          0.7916666666666666,
          0.5833333333333334,
          0.7916666666666666,
          0.9166666666666666,
          0.7916666666666666,
          0.8333333333333334,
          0.7916666666666666,
          0.9166666666666666,
          0.9166666666666666,
          0.9166666666666666,
          0.9166666666666666,
          0.9166666666666666,
          0.625,
          0.9166666666666666,
          0.875,
          0.8333333333333334,
          0.75,
          0.8333333333333334,
          0.7083333333333334,
          0.9166666666666666,
          0.7916666666666666,
          0.75,
          0.75,
          0.6666666666666666,
          0.8333333333333334,
          0.875,
          0.7916666666666666,
          0.6666666666666666,
          0.7083333333333334,
          0.7916666666666666,
          0.875,
          0.7916666666666666,
          0.875,
          0.75,
          0.9583333333333334,
          0.875,
          0.7916666666666666,
          0.875,
          0.8333333333333334,
          0.9583333333333334,
          0.9166666666666666,
          0.7916666666666666,
          0.9166666666666666,
          0.6666666666666666,
          1,
          0.8333333333333334,
          0.7916666666666666,
          0.75,
          0.9583333333333334,
          0.7083333333333334,
          0.7916666666666666,
          0.75,
          0.8333333333333334,
          0.9166666666666666,
          0.8333333333333334,
          0.625,
          0.9166666666666666,
          0.7916666666666666,
          0.9166666666666666,
          0.6666666666666666,
          0.7083333333333334,
          0.7916666666666666,
          0.8333333333333334,
          0.8333333333333334,
          0.8333333333333334,
          0.9583333333333334,
          0.9166666666666666,
          0.75,
          0.5416666666666666,
          0.8333333333333334,
          0.875,
          0.75,
          0.875,
          0.8333333333333334,
          1,
          0.875,
          0.6666666666666666,
          0.8333333333333334,
          0.7083333333333334,
          0.875,
          0.7083333333333334,
          0.9166666666666666,
          0.6666666666666666,
          0.8333333333333334,
          0.8333333333333334,
          0.7916666666666666,
          0.7916666666666666,
          0.9583333333333334,
          0.875,
          0.875,
          0.7083333333333334,
          0.7083333333333334,
          0.75,
          0.9583333333333334,
          0.8333333333333334,
          0.7916666666666666,
          0.7083333333333334,
          0.9166666666666666,
          0.75,
          0.9166666666666666,
          0.9166666666666666,
          0.75,
          0.8333333333333334,
          0.7916666666666666,
          0.875,
          0.7916666666666666,
          0.75,
          0.8333333333333334,
          0.625,
          0.7916666666666666,
          0.7083333333333334,
          0.75,
          0.7916666666666666,
          0.9583333333333334,
          0.8333333333333334,
          0.7083333333333334,
          0.875,
          0.8333333333333334,
          0.6666666666666666,
          0.7916666666666666,
          0.875,
          0.6666666666666666,
          0.7083333333333334,
          0.9166666666666666,
          0.9166666666666666,
          0.875,
          0.7083333333333334,
          0.75,
          0.75,
          0.8333333333333334,
          0.8333333333333334,
          0.9166666666666666,
          0.9166666666666666,
          0.9583333333333334,
          0.875,
          0.9583333333333334,
          0.9166666666666666,
          0.9583333333333334,
          0.7916666666666666,
          0.7083333333333334,
          0.9166666666666666,
          0.7916666666666666,
          0.9166666666666666,
          0.9166666666666666,
          0.875,
          0.9583333333333334,
          0.7083333333333334,
          0.8333333333333334,
          0.625,
          0.7083333333333334,
          0.7083333333333334,
          0.8333333333333334,
          0.8333333333333334,
          0.7916666666666666,
          0.875,
          0.7916666666666666,
          0.6666666666666666,
          0.625,
          0.7083333333333334,
          0.875,
          0.8333333333333334,
          0.7916666666666666,
          0.625,
          0.8333333333333334,
          0.8333333333333334,
          0.75,
          0.7083333333333334,
          0.9166666666666666,
          0.875,
          0.7916666666666666,
          0.875,
          0.6666666666666666,
          0.7916666666666666,
          0.75,
          0.9166666666666666,
          0.8333333333333334,
          0.8333333333333334,
          0.75,
          0.875,
          0.9166666666666666,
          0.7916666666666666,
          0.9166666666666666,
          0.75,
          0.7916666666666666,
          0.7916666666666666,
          0.9166666666666666,
          0.7916666666666666,
          0.875,
          0.75,
          0.9166666666666666,
          0.9583333333333334,
          0.6666666666666666,
          0.75,
          0.625,
          0.7083333333333334,
          0.875,
          0.8333333333333334,
          0.75,
          0.625,
          0.9166666666666666,
          0.9583333333333334,
          0.8333333333333334,
          0.8333333333333334,
          0.9166666666666666,
          0.7083333333333334,
          0.7083333333333334,
          0.75,
          0.875,
          0.75,
          0.875,
          0.9166666666666666,
          0.7916666666666666,
          0.8333333333333334,
          0.9583333333333334,
          0.75,
          0.625,
          0.7916666666666666,
          0.875,
          0.7916666666666666,
          0.875,
          0.875,
          0.75,
          0.7916666666666666,
          0.7916666666666666,
          0.75,
          0.6666666666666666,
          0.8333333333333334,
          0.9166666666666666,
          0.5,
          0.8333333333333334,
          0.8333333333333334,
          0.75,
          0.8333333333333334,
          0.75,
          0.7916666666666666,
          0.7083333333333334,
          0.75,
          0.9166666666666666,
          0.75,
          0.75,
          0.6666666666666666,
          0.875,
          0.8333333333333334,
          0.7916666666666666,
          0.625,
          0.7916666666666666,
          0.9166666666666666,
          0.7916666666666666,
          0.875,
          0.8333333333333334,
          0.875,
          0.8333333333333334,
          0.875,
          0.7916666666666666,
          0.7083333333333334,
          0.75,
          0.875,
          0.7916666666666666,
          0.875,
          0.7916666666666666,
          0.75,
          0.9583333333333334,
          0.9166666666666666,
          0.75,
          0.75,
          0.875,
          0.8333333333333334,
          0.6666666666666666,
          0.7083333333333334,
          0.9166666666666666,
          0.9583333333333334,
          0.625,
          0.75,
          0.375,
          0.7916666666666666,
          0.75,
          0.7083333333333334,
          0.8333333333333334,
          0.8333333333333334,
          0.7083333333333334,
          0.7083333333333334,
          0.8333333333333334,
          0.875,
          0.9166666666666666,
          0.625,
          0.9583333333333334,
          0.75,
          0.6666666666666666,
          0.8333333333333334,
          0.7916666666666666,
          0.875,
          0.875,
          0.7916666666666666,
          0.75,
          0.7083333333333334,
          0.7916666666666666,
          0.75,
          0.875,
          0.7916666666666666,
          0.875,
          0.8333333333333334,
          0.7916666666666666,
          0.8333333333333334,
          0.8333333333333334,
          0.9166666666666666,
          0.7083333333333334,
          0.875,
          0.7916666666666666,
          0.625,
          0.8333333333333334,
          0.7916666666666666,
          0.75,
          0.7083333333333334,
          0.7916666666666666,
          0.6666666666666666,
          0.8333333333333334,
          1,
          0.875,
          0.9583333333333334,
          0.875,
          0.9166666666666666,
          0.8333333333333334,
          0.9166666666666666,
          0.7916666666666666,
          0.75,
          0.9583333333333334,
          0.875,
          0.8333333333333334,
          0.8333333333333334,
          0.875,
          0.75,
          0.9166666666666666,
          0.9166666666666666,
          0.7083333333333334,
          0.8333333333333334,
          0.7916666666666666,
          0.875,
          0.8333333333333334,
          0.9583333333333334,
          0.9583333333333334,
          0.875,
          0.6666666666666666,
          0.875,
          0.8333333333333334,
          0.7916666666666666,
          0.625,
          0.875,
          0.9583333333333334,
          0.875,
          0.5833333333333334,
          0.6666666666666666,
          0.9583333333333334,
          0.7916666666666666,
          0.9166666666666666,
          0.6666666666666666,
          0.9583333333333334,
          0.7916666666666666,
          0.875,
          0.6666666666666666,
          0.8333333333333334,
          0.7083333333333334,
          0.9583333333333334,
          0.5416666666666666,
          0.875,
          0.9166666666666666,
          0.7916666666666666,
          0.375,
          0.9166666666666666,
          0.7083333333333334,
          0.7083333333333334,
          0.5,
          0.7916666666666666,
          1,
          0.8333333333333334,
          0.875,
          0.7083333333333334,
          0.875,
          0.6666666666666666,
          0.7083333333333334,
          0.8333333333333334,
          0.8333333333333334,
          0.7083333333333334,
          0.75,
          0.8333333333333334,
          0.8333333333333334,
          0.8333333333333334,
          0.7916666666666666,
          0.7916666666666666,
          0.7916666666666666,
          0.75,
          0.7916666666666666,
          0.75,
          0.9166666666666666,
          0.8333333333333334,
          0.7916666666666666,
          0.875,
          0.875,
          0.8333333333333334,
          0.9166666666666666,
          0.75,
          0.9166666666666666,
          0.8333333333333334,
          0.7083333333333334,
          0.875,
          0.75,
          0.75,
          0.7916666666666666,
          0.7916666666666666,
          0.9583333333333334,
          0.875,
          0.875,
          0.875,
          0.7916666666666666,
          0.875,
          0.875,
          0.7916666666666666,
          0.7083333333333334,
          0.6666666666666666,
          0.9166666666666666,
          0.7916666666666666,
          0.7083333333333334,
          0.7916666666666666,
          0.7916666666666666,
          0.7916666666666666,
          0.875,
          0.875,
          0.75,
          0.8333333333333334,
          0.75,
          0.7083333333333334,
          0.9166666666666666,
          0.9166666666666666,
          0.7083333333333334,
          0.7083333333333334,
          0.375,
          0.8333333333333334,
          0.7916666666666666,
          1,
          0.7916666666666666,
          0.8333333333333334,
          0.7083333333333334,
          0.875,
          0.7916666666666666,
          0.7916666666666666,
          0.9166666666666666,
          0.875,
          0.625,
          0.9583333333333334,
          0.8333333333333334,
          0.875,
          0.7083333333333334,
          0.875,
          0.7916666666666666,
          0.6666666666666666,
          0.8333333333333334,
          0.75,
          0.75,
          0.75,
          0.8333333333333334,
          0.875,
          0.6666666666666666,
          0.875,
          0.9166666666666666,
          0.875,
          0.875,
          0.75,
          0.9583333333333334,
          0.625,
          0.875,
          0.9166666666666666,
          0.7916666666666666,
          0.7916666666666666,
          0.7083333333333334,
          0.8333333333333334,
          0.9166666666666666,
          0.7916666666666666,
          0.75,
          0.8333333333333334,
          0.8333333333333334,
          0.875,
          0.7083333333333334,
          0.8333333333333334,
          0.75,
          0.75,
          0.75,
          0.875,
          0.8333333333333334,
          0.8333333333333334,
          0.7916666666666666,
          0.875,
          0.8333333333333334,
          0.875,
          0.7083333333333334,
          0.8333333333333334,
          0.8333333333333334,
          0.8333333333333334,
          0.75,
          0.7916666666666666,
          0.75,
          0.9583333333333334,
          0.875,
          0.6666666666666666,
          0.7916666666666666,
          0.9583333333333334,
          0.7916666666666666,
          0.75,
          0.875,
          0.875,
          0.9166666666666666,
          0.5833333333333334,
          0.8333333333333334,
          0.875,
          0.7916666666666666,
          0.6666666666666666,
          0.8333333333333334,
          0.9166666666666666,
          0.625,
          0.8333333333333334,
          0.875,
          0.625,
          0.6666666666666666,
          0.875,
          0.8333333333333334,
          0.75,
          0.75,
          0.7916666666666666,
          0.875,
          0.875,
          0.875,
          0.875,
          0.9166666666666666,
          0.875,
          0.8333333333333334,
          0.875,
          0.7916666666666666,
          0.8333333333333334,
          0.75,
          0.7083333333333334,
          0.75,
          0.625,
          0.7083333333333334,
          0.7916666666666666,
          0.9166666666666666,
          0.7916666666666666,
          0.9583333333333334,
          0.7083333333333334,
          0.7916666666666666,
          0.9583333333333334,
          0.75,
          0.8333333333333334,
          0.9166666666666666,
          0.9166666666666666,
          0.8333333333333334,
          0.75,
          0.8333333333333334,
          0.7083333333333334,
          0.875,
          0.9583333333333334,
          0.8333333333333334,
          0.8333333333333334,
          0.9583333333333334,
          0.9166666666666666,
          0.9166666666666666,
          0.7916666666666666,
          0.7916666666666666,
          0.7083333333333334,
          0.75,
          0.875,
          0.7916666666666666,
          0.8333333333333334,
          0.9166666666666666,
          0.6666666666666666,
          0.75,
          0.8333333333333334,
          0.875,
          0.8333333333333334,
          0.6666666666666666,
          0.7083333333333334,
          0.7916666666666666,
          0.8333333333333334,
          0.9166666666666666,
          0.625,
          0.8333333333333334,
          0.7916666666666666,
          0.75,
          0.8333333333333334,
          0.6666666666666666,
          0.875,
          0.8333333333333334,
          0.8333333333333334,
          0.8333333333333334,
          0.6666666666666666,
          0.8333333333333334,
          0.75,
          0.8333333333333334,
          0.7916666666666666,
          0.5833333333333334,
          0.75,
          0.9166666666666666,
          0.875,
          0.7916666666666666,
          0.7916666666666666,
          0.875,
          1,
          0.6666666666666666,
          0.7916666666666666,
          0.875,
          0.6666666666666666,
          0.6666666666666666,
          0.875,
          0.875,
          0.8333333333333334,
          0.9166666666666666,
          0.7916666666666666,
          0.7083333333333334,
          0.875,
          0.5416666666666666,
          0.8333333333333334,
          0.8333333333333334,
          0.7083333333333334,
          0.9166666666666666,
          0.8333333333333334,
          0.7916666666666666,
          0.7083333333333334,
          0.875,
          0.6666666666666666,
          0.9166666666666666,
          0.9166666666666666,
          0.5833333333333334,
          0.9583333333333334,
          0.8333333333333334,
          0.7916666666666666,
          0.8333333333333334,
          0.625,
          0.7916666666666666,
          0.875,
          0.875,
          0.625,
          0.875,
          0.875,
          0.7083333333333334,
          0.7916666666666666,
          0.875,
          0.7083333333333334,
          0.6666666666666666,
          0.9166666666666666,
          0.9166666666666666,
          0.6666666666666666,
          0.75,
          0.8333333333333334,
          0.8333333333333334,
          0.75,
          0.8333333333333334,
          0.9166666666666666,
          0.875,
          0.75,
          0.875,
          0.8333333333333334,
          0.7916666666666666,
          0.9583333333333334,
          0.8333333333333334,
          0.7916666666666666,
          0.75,
          0.875,
          0.7916666666666666,
          0.8333333333333334,
          0.7916666666666666,
          0.9166666666666666,
          0.7916666666666666,
          0.9166666666666666,
          0.875,
          0.9166666666666666,
          0.7916666666666666,
          0.7916666666666666,
          0.7916666666666666,
          0.75,
          0.7916666666666666,
          0.8333333333333334,
          0.875,
          0.7916666666666666,
          0.75,
          0.75,
          0.7083333333333334,
          0.7916666666666666,
          0.8333333333333334,
          0.7916666666666666,
          0.9166666666666666,
          0.9166666666666666,
          0.8333333333333334,
          0.7916666666666666,
          0.75,
          0.7916666666666666,
          0.9583333333333334,
          0.8333333333333334,
          0.7083333333333334,
          0.625,
          0.8333333333333334,
          0.875,
          0.7916666666666666,
          0.8333333333333334,
          0.75,
          0.8333333333333334,
          0.875,
          0.7083333333333334,
          0.7083333333333334,
          0.75,
          0.875,
          0.9583333333333334,
          0.875,
          0.6666666666666666,
          0.75,
          0.9583333333333334,
          0.75,
          0.9166666666666666,
          0.875,
          0.9166666666666666,
          0.875,
          0.7916666666666666,
          0.7916666666666666,
          0.6666666666666666,
          0.7916666666666666,
          0.875,
          0.6666666666666666,
          0.7083333333333334,
          0.75,
          0.875,
          0.625,
          0.75,
          0.875,
          0.8333333333333334,
          0.9166666666666666,
          0.75,
          0.8333333333333334,
          0.75,
          0.875,
          0.875,
          0.8333333333333334,
          0.9166666666666666,
          0.8333333333333334,
          0.875,
          0.7916666666666666,
          0.7083333333333334,
          0.75,
          0.875,
          0.9166666666666666,
          0.9583333333333334,
          0.8333333333333334,
          0.875,
          0.8333333333333334,
          0.625,
          0.75,
          0.8333333333333334,
          0.875,
          0.875,
          0.5833333333333334,
          0.8333333333333334,
          0.875,
          0.9166666666666666,
          0.7916666666666666,
          0.9166666666666666,
          0.6666666666666666,
          0.75,
          0.7083333333333334,
          0.8333333333333334,
          0.8333333333333334,
          0.9166666666666666,
          0.75,
          0.8333333333333334,
          0.9583333333333334,
          0.625,
          0.75,
          0.6666666666666666,
          0.7916666666666666,
          0.9166666666666666,
          0.7916666666666666,
          0.8333333333333334,
          0.75,
          0.875,
          0.7083333333333334,
          0.75,
          0.75,
          0.875,
          0.9166666666666666,
          0.7083333333333334,
          0.875,
          0.875,
          0.875,
          0.9166666666666666,
          0.7916666666666666,
          0.7083333333333334,
          0.9583333333333334,
          0.75,
          0.7083333333333334,
          0.875,
          0.7916666666666666,
          0.7916666666666666,
          0.8333333333333334,
          0.7916666666666666,
          0.9583333333333334,
          0.8333333333333334,
          0.8333333333333334,
          0.875,
          0.75,
          0.625,
          0.625,
          0.7916666666666666,
          0.75,
          0.8333333333333334,
          0.7083333333333334,
          0.7083333333333334,
          0.8333333333333334,
          0.7916666666666666,
          0.8333333333333334,
          0.875,
          0.75,
          0.875,
          0.75,
          0.875,
          0.7083333333333334,
          0.875,
          0.7083333333333334,
          0.8333333333333334,
          0.7916666666666666,
          0.9166666666666666,
          0.875,
          0.8333333333333334,
          0.8333333333333334,
          0.7916666666666666,
          0.875,
          0.875,
          0.6666666666666666,
          0.7916666666666666,
          0.9166666666666666,
          0.8333333333333334,
          0.75,
          0.8333333333333334,
          0.9166666666666666,
          0.8333333333333334,
          0.75,
          0.9166666666666666,
          0.875,
          0.875,
          0.7916666666666666,
          0.7916666666666666,
          0.7916666666666666,
          0.8333333333333334,
          0.875,
          0.8333333333333334,
          0.8333333333333334,
          0.8333333333333334,
          0.8333333333333334,
          0.9166666666666666,
          0.9583333333333334,
          0.7083333333333334,
          0.9583333333333334,
          0.875,
          0.8333333333333334,
          0.7916666666666666,
          0.9166666666666666,
          0.7916666666666666,
          0.7083333333333334,
          0.875,
          0.875,
          0.7916666666666666,
          0.8333333333333334,
          0.875,
          0.8333333333333334,
          0.8333333333333334,
          0.8333333333333334,
          0.75,
          0.875,
          0.9583333333333334,
          0.875,
          0.9583333333333334,
          0.875,
          0.875,
          0.9166666666666666,
          0.75,
          0.625,
          0.8333333333333334,
          0.8333333333333334,
          0.6666666666666666,
          0.6666666666666666,
          0.7916666666666666,
          0.75,
          0.75,
          0.7083333333333334,
          0.7083333333333334,
          0.75,
          0.7083333333333334,
          0.9166666666666666,
          0.625,
          0.75,
          0.625,
          0.7916666666666666,
          0.875,
          0.7916666666666666,
          0.8333333333333334,
          0.7916666666666666,
          1,
          0.9166666666666666,
          0.6666666666666666,
          0.8333333333333334,
          0.7916666666666666,
          0.8333333333333334,
          0.8333333333333334,
          0.8333333333333334,
          0.8333333333333334,
          0.6666666666666666,
          0.8333333333333334,
          0.6666666666666666,
          0.8333333333333334,
          0.625,
          0.875,
          0.5833333333333334,
          0.9166666666666666,
          0.8333333333333334,
          0.6666666666666666,
          0.8333333333333334,
          0.5416666666666666,
          0.75,
          0.7083333333333334,
          0.9583333333333334,
          0.6666666666666666,
          0.7916666666666666,
          0.7916666666666666,
          0.5,
          0.875,
          0.75,
          0.7916666666666666,
          0.5833333333333334,
          0.75,
          0.9583333333333334,
          0.9583333333333334,
          0.7083333333333334,
          0.625,
          0.6666666666666666,
          0.9166666666666666,
          0.3333333333333333,
          0.7916666666666666,
          0.7916666666666666,
          0.9166666666666666,
          0.875,
          0.875,
          0.8333333333333334,
          0.8333333333333334,
          0.7083333333333334,
          0.7916666666666666,
          0.7916666666666666,
          0.8333333333333334,
          0.7083333333333334,
          0.8333333333333334,
          0.8333333333333334,
          0.875,
          0.625,
          0.8333333333333334,
          0.8333333333333334,
          0.75,
          0.9166666666666666,
          0.7083333333333334,
          0.7916666666666666,
          0.75,
          0.7083333333333334,
          0.5416666666666666,
          0.75,
          0.875,
          0.8333333333333334,
          0.6666666666666666,
          0.9166666666666666,
          0.8333333333333334,
          0.8333333333333334,
          0.625,
          0.7083333333333334,
          0.75,
          0.9583333333333334,
          0.75,
          0.8333333333333334,
          1,
          0.75,
          0.8333333333333334,
          0.7916666666666666,
          0.7916666666666666,
          0.9166666666666666,
          0.7916666666666666,
          0.875,
          0.8333333333333334,
          0.75,
          0.7916666666666666,
          0.875,
          0.8333333333333334,
          0.6666666666666666,
          0.7916666666666666,
          1,
          0.75,
          0.7916666666666666,
          0.7083333333333334,
          0.875,
          0.8333333333333334,
          0.7916666666666666,
          0.7916666666666666,
          0.875,
          0.8333333333333334,
          0.9166666666666666,
          0.7916666666666666,
          0.75,
          0.875,
          0.9166666666666666,
          0.9583333333333334,
          0.8333333333333334,
          0.875,
          0.875,
          0.8333333333333334,
          0.7916666666666666,
          0.8333333333333334,
          0.7083333333333334,
          1,
          0.5833333333333334,
          0.9166666666666666,
          0.875,
          0.875,
          0.8333333333333334,
          0.75,
          0.9583333333333334,
          1,
          0.7916666666666666,
          0.9166666666666666,
          0.6666666666666666,
          0.8333333333333334,
          0.875,
          0.75,
          0.625,
          0.875,
          0.8333333333333334,
          0.7083333333333334,
          0.9166666666666666,
          0.9583333333333334,
          0.9166666666666666,
          0.875,
          0.875,
          0.7083333333333334,
          0.875,
          0.9166666666666666,
          0.8333333333333334,
          0.875,
          0.75,
          0.75,
          0.8333333333333334,
          0.9166666666666666,
          0.7083333333333334,
          0.75,
          0.8333333333333334,
          0.9166666666666666,
          0.625,
          0.875,
          0.8333333333333334,
          0.9166666666666666,
          0.875,
          0.875,
          0.7916666666666666,
          0.7916666666666666,
          0.9166666666666666,
          0.875,
          0.9166666666666666,
          0.7916666666666666,
          0.875,
          0.9166666666666666,
          0.9166666666666666,
          0.75,
          0.75,
          0.6666666666666666,
          1,
          0.8333333333333334,
          0.9583333333333334,
          0.7916666666666666,
          1,
          0.9166666666666666,
          1,
          0.875,
          0.875,
          0.9166666666666666,
          0.9583333333333334,
          0.75,
          0.875,
          0.7083333333333334,
          0.9166666666666666,
          0.8333333333333334,
          0.9166666666666666,
          0.875,
          0.8333333333333334,
          0.75,
          0.9583333333333334,
          1,
          0.7916666666666666,
          0.9583333333333334,
          0.9166666666666666,
          0.7916666666666666,
          0.7916666666666666,
          0.9166666666666666,
          0.875,
          0.8333333333333334,
          0.875,
          0.875,
          0.7083333333333334,
          0.75,
          0.75,
          0.875,
          0.8333333333333334,
          0.8333333333333334,
          0.8333333333333334,
          0.8333333333333334,
          0.9166666666666666,
          0.9583333333333334,
          0.7916666666666666,
          0.9583333333333334,
          0.75,
          0.9166666666666666,
          0.9166666666666666,
          0.9583333333333334,
          0.5833333333333334,
          0.6666666666666666,
          0.8333333333333334,
          0.75,
          0.8333333333333334,
          0.8333333333333334,
          0.9166666666666666,
          0.9166666666666666,
          0.7083333333333334,
          0.9166666666666666,
          0.7083333333333334,
          0.6666666666666666,
          1,
          0.9583333333333334,
          0.7083333333333334,
          0.875,
          0.75,
          0.75,
          0.8333333333333334,
          0.7083333333333334,
          0.9583333333333334,
          0.5833333333333334,
          0.875,
          0.875,
          0.8333333333333334,
          0.7083333333333334,
          0.7916666666666666,
          0.875,
          0.7083333333333334,
          0.8333333333333334,
          0.8333333333333334,
          0.9166666666666666,
          0.7916666666666666,
          0.875,
          0.8333333333333334,
          0.75,
          0.875,
          0.375,
          0.7083333333333334,
          0.9166666666666666,
          0.9166666666666666,
          0.875,
          0.8333333333333334,
          0.9583333333333334,
          0.4583333333333333,
          0.9583333333333334,
          0.6666666666666666,
          0.6666666666666666,
          0.75,
          0.9166666666666666,
          0.8333333333333334,
          1,
          0.7916666666666666,
          0.625,
          0.9166666666666666,
          0.6666666666666666,
          0.7916666666666666,
          0.8333333333333334,
          0.9166666666666666,
          0.7916666666666666,
          0.6666666666666666,
          0.8333333333333334,
          0.7916666666666666,
          0.875,
          0.7916666666666666,
          0.9166666666666666,
          0.75,
          0.7083333333333334,
          0.4583333333333333,
          0.8333333333333334,
          0.75,
          0.8333333333333334,
          0.8333333333333334,
          0.875,
          0.75,
          0.875,
          0.75,
          0.7916666666666666,
          0.6666666666666666,
          0.7083333333333334,
          0.7916666666666666,
          0.625,
          0.7916666666666666,
          0.6666666666666666,
          0.6666666666666666,
          0.875,
          0.75,
          0.8333333333333334,
          0.625,
          0.8333333333333334,
          0.875,
          0.8333333333333334,
          0.8333333333333334,
          0.8333333333333334,
          0.8333333333333334,
          0.8333333333333334,
          0.7083333333333334,
          0.8333333333333334,
          0.7083333333333334,
          0.8333333333333334,
          0.875,
          0.75,
          0.7916666666666666,
          0.7083333333333334,
          0.6666666666666666,
          0.8333333333333334,
          0.75,
          0.6666666666666666,
          0.6666666666666666,
          0.7916666666666666,
          0.7916666666666666,
          0.8333333333333334,
          0.75,
          0.75,
          0.75,
          0.75,
          0.8333333333333334,
          0.9166666666666666,
          0.7916666666666666,
          0.8333333333333334,
          0.8333333333333334,
          0.75,
          0.7083333333333334,
          0.875,
          0.75,
          0.75,
          0.8333333333333334,
          0.7916666666666666,
          0.5833333333333334,
          0.875,
          0.7083333333333334,
          0.9583333333333334,
          0.625,
          0.7916666666666666,
          0.9166666666666666,
          0.8333333333333334,
          0.75,
          0.7083333333333334,
          0.625,
          0.7083333333333334,
          0.75,
          0.8333333333333334,
          0.8333333333333334,
          0.7083333333333334,
          0.5416666666666666,
          0.7916666666666666,
          0.8333333333333334,
          0.7916666666666666,
          0.75,
          0.8333333333333334,
          0.8333333333333334,
          0.7916666666666666,
          0.6666666666666666,
          0.7083333333333334,
          0.7916666666666666,
          0.7083333333333334,
          0.7083333333333334,
          0.7083333333333334,
          0.6666666666666666,
          0.75,
          0.875,
          0.8333333333333334,
          0.7083333333333334,
          0.75,
          0.875,
          0.8333333333333334,
          0.6666666666666666,
          0.8333333333333334,
          0.8333333333333334,
          0.75,
          0.875,
          0.8333333333333334,
          0.7916666666666666,
          0.8333333333333334,
          0.7916666666666666,
          0.7916666666666666,
          0.7916666666666666,
          0.875,
          0.6666666666666666,
          0.625,
          0.6666666666666666,
          0.9166666666666666,
          0.8333333333333334,
          0.75,
          0.75,
          0.75,
          0.7916666666666666,
          0.9166666666666666,
          0.9166666666666666,
          0.9166666666666666,
          0.8333333333333334,
          0.5833333333333334,
          0.8333333333333334,
          0.7916666666666666,
          0.5833333333333334,
          0.875,
          0.9166666666666666,
          0.875,
          0.9583333333333334,
          0.8333333333333334,
          0.7916666666666666,
          0.875,
          0.9166666666666666,
          0.9583333333333334,
          0.9583333333333334,
          0.75,
          0.8333333333333334,
          0.9583333333333334,
          0.875,
          0.7083333333333334,
          0.9583333333333334,
          0.9583333333333334,
          0.875,
          0.875,
          0.7083333333333334,
          0.6666666666666666,
          0.8333333333333334,
          0.8333333333333334,
          0.8333333333333334,
          0.9166666666666666,
          0.75,
          0.9583333333333334,
          0.9166666666666666,
          0.875,
          0.8333333333333334,
          0.8333333333333334,
          0.7916666666666666,
          0.8333333333333334,
          0.875,
          0.7083333333333334,
          0.875,
          0.7083333333333334,
          0.75,
          0.6666666666666666,
          0.7916666666666666,
          0.8333333333333334,
          0.7916666666666666,
          0.7916666666666666,
          0.875,
          0.875,
          0.9166666666666666,
          0.7916666666666666,
          0.7083333333333334,
          0.75,
          0.6666666666666666,
          0.8333333333333334,
          0.875,
          0.9166666666666666,
          0.8333333333333334,
          0.9583333333333334,
          0.7916666666666666,
          0.75,
          0.8333333333333334,
          0.7916666666666666,
          0.7083333333333334,
          0.8333333333333334,
          0.75,
          0.7916666666666666,
          0.875,
          0.75,
          0.7916666666666666,
          0.875,
          0.7916666666666666,
          0.875,
          0.75,
          0.9583333333333334,
          0.7916666666666666,
          0.6666666666666666,
          0.875,
          0.6666666666666666,
          0.9583333333333334,
          0.7916666666666666,
          0.75,
          0.8333333333333334,
          0.9166666666666666,
          0.9583333333333334,
          0.9166666666666666,
          0.6666666666666666,
          0.875,
          0.8333333333333334,
          0.7916666666666666,
          0.8333333333333334,
          0.875,
          0.9166666666666666,
          0.9166666666666666,
          0.7083333333333334,
          0.9583333333333334,
          0.75,
          0.875,
          0.7916666666666666,
          0.9166666666666666,
          0.625,
          0.9583333333333334,
          0.7083333333333334,
          0.625,
          0.875,
          0.625,
          0.7083333333333334,
          0.9166666666666666,
          0.8333333333333334,
          0.7916666666666666,
          0.75,
          0.9166666666666666,
          0.875,
          0.7916666666666666,
          0.9166666666666666,
          0.875,
          0.875,
          0.875,
          0.6666666666666666,
          0.875,
          0.9166666666666666,
          0.9166666666666666,
          0.9583333333333334,
          0.8333333333333334,
          0.7916666666666666,
          0.6666666666666666,
          0.9166666666666666,
          0.9166666666666666,
          0.875,
          0.75,
          0.9166666666666666,
          0.875,
          0.8333333333333334,
          0.8333333333333334,
          0.9166666666666666,
          0.75,
          0.75,
          0.7916666666666666,
          0.75,
          0.75,
          0.75,
          0.75,
          0.75,
          0.7083333333333334,
          0.9166666666666666,
          0.875,
          0.7916666666666666,
          0.9166666666666666,
          0.8333333333333334,
          0.9166666666666666,
          0.9166666666666666,
          0.8333333333333334,
          0.875,
          0.9166666666666666,
          0.875,
          0.8333333333333334,
          0.875,
          0.9166666666666666,
          0.6666666666666666,
          0.9583333333333334,
          0.875,
          0.6666666666666666,
          0.7083333333333334,
          0.8333333333333334,
          0.7916666666666666,
          0.7083333333333334,
          0.9166666666666666,
          0.875,
          0.6666666666666666,
          0.9166666666666666,
          0.75,
          0.7916666666666666,
          0.875,
          0.875,
          0.8333333333333334,
          0.875,
          0.7916666666666666,
          0.75,
          0.75,
          0.8333333333333334,
          0.75,
          0.9583333333333334,
          0.875,
          0.7916666666666666,
          0.875,
          0.75,
          0.9166666666666666,
          0.8333333333333334,
          0.75,
          0.75,
          0.875,
          0.8333333333333334,
          0.9166666666666666,
          0.9166666666666666,
          0.875,
          0.7916666666666666,
          0.5833333333333334,
          0.875,
          0.75,
          0.9583333333333334,
          0.8333333333333334,
          0.9166666666666666,
          0.7916666666666666,
          0.7916666666666666,
          0.75,
          0.9166666666666666,
          0.875,
          0.7916666666666666,
          0.7916666666666666,
          0.7916666666666666,
          0.7916666666666666,
          0.9166666666666666,
          0.75,
          0.7916666666666666,
          0.75,
          0.7916666666666666,
          0.75,
          0.8333333333333334,
          0.7083333333333334,
          0.75,
          0.75,
          0.875,
          0.875,
          0.7083333333333334,
          0.8333333333333334,
          0.7083333333333334,
          0.875,
          0.6666666666666666,
          0.9583333333333334,
          0.75,
          0.8333333333333334,
          0.75,
          0.75,
          0.875,
          0.8333333333333334,
          0.875,
          0.9583333333333334,
          0.7916666666666666,
          0.75,
          0.9166666666666666,
          0.9583333333333334,
          0.75,
          0.9166666666666666,
          0.9166666666666666,
          0.7916666666666666,
          0.7083333333333334,
          0.9166666666666666,
          0.9166666666666666,
          0.7916666666666666,
          1,
          0.6666666666666666,
          0.7916666666666666,
          0.875,
          0.8333333333333334,
          0.875,
          0.7916666666666666,
          1,
          0.875,
          0.875,
          0.7916666666666666,
          0.8333333333333334,
          0.9166666666666666,
          0.8333333333333334,
          0.9583333333333334,
          0.75,
          0.8333333333333334,
          0.75,
          0.8333333333333334,
          0.5833333333333334,
          0.875,
          0.875,
          0.875,
          0.9166666666666666,
          0.8333333333333334,
          0.9166666666666666,
          0.7916666666666666,
          0.9583333333333334,
          0.8333333333333334,
          0.7083333333333334,
          0.9166666666666666,
          1,
          0.75,
          0.8333333333333334,
          0.8333333333333334,
          0.8333333333333334,
          0.9583333333333334,
          0.7916666666666666,
          0.9166666666666666,
          0.8333333333333334,
          0.75,
          0.7916666666666666,
          0.9166666666666666,
          0.875,
          0.7916666666666666,
          0.875,
          0.7083333333333334,
          0.875,
          0.9166666666666666,
          0.7916666666666666,
          0.875,
          0.9166666666666666,
          0.7083333333333334,
          0.875,
          0.75,
          0.8333333333333334,
          0.8333333333333334,
          0.7916666666666666,
          0.75,
          0.5833333333333334,
          0.8333333333333334,
          0.9166666666666666,
          0.8333333333333334,
          0.7916666666666666,
          0.9583333333333334,
          0.875,
          0.75,
          0.7916666666666666,
          0.875,
          0.7916666666666666,
          0.875,
          0.7083333333333334,
          0.9583333333333334,
          0.6666666666666666,
          0.875,
          0.7916666666666666,
          0.7916666666666666,
          0.7916666666666666,
          0.8333333333333334,
          0.6666666666666666,
          0.9166666666666666,
          0.75,
          0.75,
          0.6666666666666666,
          0.7916666666666666,
          0.875,
          0.7916666666666666,
          0.75,
          0.875,
          0.75,
          0.875,
          0.7916666666666666,
          0.875,
          0.875,
          0.8333333333333334,
          0.875,
          0.7083333333333334,
          0.875,
          0.8333333333333334,
          0.8333333333333334,
          0.8333333333333334,
          0.9166666666666666,
          0.7083333333333334,
          0.875,
          0.8333333333333334,
          0.8333333333333334,
          0.8333333333333334,
          0.8333333333333334,
          0.875,
          0.8333333333333334,
          0.8333333333333334,
          0.875,
          0.875,
          0.8333333333333334,
          1,
          0.7083333333333334,
          0.625,
          0.5833333333333334,
          0.9583333333333334,
          0.75,
          0.9166666666666666,
          0.8333333333333334,
          0.9166666666666666,
          0.6666666666666666,
          0.75,
          0.875,
          0.5416666666666666,
          0.625,
          0.7916666666666666,
          0.875,
          0.875,
          0.7916666666666666,
          0.625,
          0.6666666666666666,
          0.8333333333333334,
          0.875,
          0.9583333333333334,
          0.6666666666666666,
          0.8333333333333334,
          0.9166666666666666,
          0.7916666666666666,
          0.875,
          0.875,
          0.8333333333333334,
          0.625,
          0.8333333333333334,
          0.7916666666666666,
          0.625,
          0.875,
          0.7916666666666666,
          0.875,
          0.8333333333333334,
          0.7916666666666666,
          0.7083333333333334,
          0.875,
          0.625,
          0.6666666666666666,
          0.7083333333333334,
          0.6666666666666666,
          0.9166666666666666,
          0.75,
          0.7083333333333334,
          0.7916666666666666,
          0.9166666666666666,
          0.875,
          0.7916666666666666,
          0.875,
          0.875,
          0.75,
          0.8333333333333334,
          0.875,
          0.75,
          0.7083333333333334,
          0.7916666666666666,
          0.75,
          0.875,
          0.9583333333333334,
          0.75,
          0.9166666666666666,
          0.7916666666666666,
          0.875,
          0.8333333333333334,
          0.75,
          0.7916666666666666,
          0.7916666666666666,
          0.9583333333333334,
          0.75,
          0.5,
          0.7916666666666666,
          0.8333333333333334,
          0.6666666666666666,
          0.75,
          0.875,
          0.7083333333333334,
          0.9583333333333334,
          0.9583333333333334,
          0.75,
          0.7916666666666666,
          0.875,
          0.75,
          0.875,
          0.9166666666666666,
          0.7083333333333334,
          0.8333333333333334,
          0.7916666666666666,
          0.7916666666666666,
          0.8333333333333334,
          0.9583333333333334,
          0.875,
          0.8333333333333334,
          0.8333333333333334,
          0.75,
          0.7916666666666666,
          0.8333333333333334,
          0.875,
          0.875,
          0.7916666666666666,
          0.875,
          0.8333333333333334,
          0.8333333333333334,
          0.9166666666666666,
          0.8333333333333334,
          0.75,
          0.7916666666666666,
          0.75,
          0.75,
          0.75,
          1,
          0.9166666666666666,
          0.875,
          0.875,
          0.875,
          0.8333333333333334,
          0.75,
          0.8333333333333334,
          0.7916666666666666,
          0.9166666666666666,
          0.7916666666666666,
          0.625,
          0.8333333333333334,
          0.9583333333333334,
          0.8333333333333334,
          0.9166666666666666,
          0.875,
          0.7083333333333334,
          0.7916666666666666,
          0.5833333333333334,
          0.7916666666666666,
          0.75,
          0.875,
          0.7916666666666666,
          0.7083333333333334,
          0.9166666666666666,
          0.8333333333333334,
          0.875,
          0.9166666666666666,
          0.7916666666666666,
          0.8333333333333334,
          0.5833333333333334,
          0.875,
          0.9583333333333334,
          0.9166666666666666,
          0.75,
          0.7916666666666666,
          0.9583333333333334,
          0.875,
          0.8333333333333334,
          0.7916666666666666,
          0.875,
          0.7083333333333334,
          0.75,
          0.7916666666666666,
          0.7083333333333334,
          0.7083333333333334,
          0.9166666666666666,
          0.75,
          0.875,
          0.9166666666666666,
          0.9583333333333334,
          0.9583333333333334,
          0.75,
          0.75,
          0.9166666666666666,
          0.7083333333333334,
          0.7916666666666666,
          0.875,
          0.875,
          0.875,
          0.9583333333333334,
          0.75,
          0.8333333333333334,
          0.7916666666666666,
          0.8333333333333334,
          0.9166666666666666,
          0.8333333333333334,
          0.9166666666666666,
          0.9583333333333334,
          0.875,
          0.9166666666666666,
          0.9583333333333334,
          0.7083333333333334,
          0.8333333333333334,
          0.7916666666666666,
          0.9166666666666666,
          0.75,
          0.9166666666666666,
          0.6666666666666666,
          0.7916666666666666,
          0.875,
          0.7916666666666666,
          0.875,
          0.75,
          0.7083333333333334,
          0.7083333333333334,
          0.75,
          0.7083333333333334,
          0.9166666666666666,
          0.8333333333333334,
          0.9166666666666666,
          0.875,
          0.9166666666666666,
          0.9583333333333334,
          0.7916666666666666,
          0.7083333333333334,
          0.8333333333333334,
          0.9166666666666666,
          0.8333333333333334,
          0.8333333333333334,
          0.9166666666666666,
          0.875,
          0.875,
          0.8333333333333334,
          0.625,
          0.5833333333333334,
          0.8333333333333334,
          0.9166666666666666,
          0.9166666666666666,
          0.9166666666666666,
          0.875,
          0.7916666666666666,
          0.875,
          0.8333333333333334,
          0.9166666666666666,
          0.9166666666666666,
          0.875,
          0.75,
          0.8333333333333334,
          0.9166666666666666,
          0.7083333333333334,
          0.8333333333333334,
          0.75,
          0.7916666666666666,
          0.8333333333333334,
          0.875,
          0.7916666666666666,
          0.7916666666666666,
          0.875,
          0.7083333333333334,
          0.875,
          0.8333333333333334,
          0.8333333333333334,
          0.7083333333333334,
          0.75,
          0.8333333333333334,
          0.875,
          0.7916666666666666,
          0.8333333333333334,
          0.875,
          0.6666666666666666,
          0.875,
          0.8333333333333334,
          0.8333333333333334,
          0.9166666666666666,
          0.8333333333333334,
          0.9166666666666666,
          0.5416666666666666,
          0.8333333333333334,
          0.5833333333333334,
          0.8333333333333334,
          0.9583333333333334,
          0.875,
          0.8333333333333334,
          0.9166666666666666,
          0.8333333333333334,
          0.5833333333333334,
          0.9583333333333334,
          0.75,
          0.75,
          0.75,
          0.6666666666666666,
          0.875,
          0.875,
          0.875,
          0.7083333333333334,
          0.6666666666666666,
          0.75,
          0.625,
          0.9166666666666666,
          0.8333333333333334,
          0.6666666666666666,
          0.8333333333333334,
          0.7916666666666666,
          0.7083333333333334,
          0.75,
          0.875,
          0.875,
          0.7916666666666666,
          0.7083333333333334,
          0.875,
          0.7916666666666666,
          0.8333333333333334,
          0.8333333333333334,
          0.875,
          0.8333333333333334,
          0.9166666666666666,
          0.875,
          0.875,
          0.7916666666666666,
          0.9583333333333334,
          0.5416666666666666,
          0.7916666666666666,
          0.8333333333333334,
          0.9166666666666666,
          1,
          0.9166666666666666,
          0.875,
          0.875,
          0.7916666666666666,
          0.7916666666666666,
          0.8333333333333334,
          0.7916666666666666,
          0.8333333333333334,
          0.875,
          0.75,
          0.7916666666666666,
          0.875,
          0.7083333333333334,
          0.75,
          0.9166666666666666,
          0.75,
          0.7916666666666666,
          0.8333333333333334,
          0.75,
          1,
          0.625,
          0.8333333333333334,
          0.8333333333333334,
          0.8333333333333334,
          0.875,
          0.75,
          0.75,
          0.9166666666666666,
          0.7083333333333334,
          0.625,
          0.625,
          0.7916666666666666,
          0.7916666666666666,
          0.75,
          0.7083333333333334,
          0.875,
          0.9166666666666666,
          0.75,
          0.9166666666666666,
          0.9166666666666666,
          0.7916666666666666,
          1,
          0.625,
          0.75,
          0.6666666666666666,
          0.7916666666666666,
          0.75,
          0.75,
          0.75,
          0.625,
          0.875,
          0.875,
          0.7916666666666666,
          0.7916666666666666,
          0.75,
          0.9166666666666666,
          0.7916666666666666,
          0.875,
          0.7916666666666666,
          0.875,
          0.9166666666666666,
          0.8333333333333334,
          0.875,
          0.9166666666666666,
          0.7916666666666666,
          0.875,
          0.8333333333333334,
          0.8333333333333334,
          0.9166666666666666,
          0.75,
          0.7916666666666666,
          0.875,
          0.875,
          0.9166666666666666,
          0.9166666666666666,
          0.8333333333333334,
          0.7083333333333334,
          0.7916666666666666,
          0.8333333333333334,
          0.875,
          0.75,
          0.8333333333333334,
          0.75,
          0.7083333333333334,
          0.875,
          0.8333333333333334,
          0.75,
          0.5416666666666666,
          0.8333333333333334,
          0.75,
          0.7083333333333334,
          0.9166666666666666,
          0.625,
          0.6666666666666666,
          0.375,
          0.625,
          0.875,
          0.875,
          0.6666666666666666,
          0.8333333333333334,
          0.8333333333333334,
          0.6666666666666666,
          0.8333333333333334,
          0.8333333333333334,
          0.9166666666666666,
          0.7083333333333334,
          0.8333333333333334,
          0.75,
          0.875,
          0.8333333333333334,
          0.6666666666666666,
          0.9166666666666666,
          0.6666666666666666,
          0.9166666666666666,
          0.75,
          0.875,
          0.9583333333333334,
          0.7083333333333334,
          0.7916666666666666,
          0.8333333333333334,
          0.9166666666666666,
          0.7916666666666666,
          0.8333333333333334,
          0.7916666666666666,
          0.7083333333333334,
          0.9166666666666666,
          0.9583333333333334,
          0.875,
          0.875,
          0.7916666666666666,
          0.7916666666666666,
          0.7083333333333334,
          0.7916666666666666,
          0.9583333333333334,
          0.875,
          0.9583333333333334,
          0.75,
          0.5833333333333334,
          0.8333333333333334,
          0.75,
          0.75,
          0.7083333333333334,
          0.625,
          0.8333333333333334,
          0.875,
          0.8333333333333334,
          0.875,
          0.875,
          0.7083333333333334,
          0.75,
          0.875,
          0.8333333333333334,
          0.75,
          0.8333333333333334,
          0.7916666666666666,
          0.7916666666666666,
          0.7916666666666666,
          0.7916666666666666,
          0.7916666666666666,
          0.8333333333333334,
          0.7916666666666666,
          0.8333333333333334,
          0.75,
          0.7916666666666666,
          0.875,
          0.7916666666666666,
          0.875,
          0.8333333333333334,
          0.8333333333333334,
          0.875,
          0.6666666666666666,
          0.8333333333333334,
          0.875,
          0.8333333333333334,
          0.7916666666666666,
          0.875,
          0.8333333333333334,
          0.8333333333333334,
          0.8333333333333334,
          0.875,
          0.875,
          0.9166666666666666,
          0.7916666666666666,
          0.9166666666666666,
          0.875,
          0.625,
          0.8333333333333334,
          0.875,
          0.7916666666666666,
          0.625,
          0.7083333333333334,
          0.875,
          0.8333333333333334,
          0.7083333333333334,
          0.7916666666666666,
          0.8333333333333334,
          0.875,
          0.9583333333333334,
          0.75,
          0.75,
          0.8333333333333334,
          0.7916666666666666,
          0.9166666666666666,
          0.8333333333333334,
          0.625,
          0.8333333333333334,
          0.9166666666666666,
          0.625,
          0.6666666666666666,
          0.5,
          0.7916666666666666,
          0.8333333333333334,
          0.625,
          0.7916666666666666,
          0.9166666666666666,
          0.9166666666666666,
          0.9583333333333334,
          0.875,
          0.7083333333333334,
          0.6666666666666666,
          0.875,
          0.75,
          0.7916666666666666,
          1,
          0.8333333333333334,
          0.8333333333333334,
          0.7916666666666666,
          0.9166666666666666,
          0.625,
          0.9583333333333334,
          0.875,
          0.625,
          0.875,
          0.7916666666666666,
          0.9166666666666666,
          0.7916666666666666,
          0.875,
          0.7916666666666666,
          0.8333333333333334,
          0.6666666666666666,
          0.875,
          0.6666666666666666,
          0.7083333333333334,
          0.875,
          0.7083333333333334,
          0.75,
          0.75,
          0.8333333333333334,
          0.7916666666666666,
          0.7916666666666666,
          0.7916666666666666,
          0.8333333333333334,
          0.625,
          0.875,
          0.9166666666666666,
          0.75,
          0.6666666666666666,
          0.7916666666666666,
          0.5833333333333334,
          0.8333333333333334,
          0.75,
          0.875,
          0.75,
          0.75,
          0.9166666666666666,
          0.625,
          0.7083333333333334,
          0.7916666666666666,
          0.9583333333333334,
          0.75,
          0.7916666666666666,
          0.9166666666666666,
          0.75,
          0.7916666666666666,
          0.7916666666666666,
          0.7083333333333334,
          0.7916666666666666,
          0.875,
          0.8333333333333334,
          0.9166666666666666,
          0.9583333333333334,
          0.7916666666666666,
          0.8333333333333334,
          0.8333333333333334,
          0.875,
          0.75,
          0.9583333333333334,
          0.7916666666666666,
          0.75,
          0.8333333333333334,
          0.8333333333333334,
          0.7916666666666666,
          0.875,
          0.9166666666666666,
          0.7083333333333334,
          0.7916666666666666,
          0.875,
          0.8333333333333334,
          0.7083333333333334,
          0.7083333333333334,
          0.75,
          0.9166666666666666,
          0.7083333333333334,
          0.5416666666666666,
          0.7916666666666666,
          0.875,
          0.75,
          0.9583333333333334,
          0.875,
          0.875,
          0.75,
          0.7083333333333334,
          0.6666666666666666,
          0.875,
          0.75,
          0.75,
          0.7083333333333334,
          0.7916666666666666,
          0.7083333333333334,
          0.7083333333333334,
          0.9166666666666666,
          0.6666666666666666,
          0.7916666666666666,
          0.875,
          0.875,
          0.875,
          0.9166666666666666,
          0.6666666666666666,
          0.8333333333333334,
          0.8333333333333334,
          0.8333333333333334,
          0.7916666666666666,
          0.9583333333333334,
          0.7916666666666666,
          0.75,
          0.75,
          0.9583333333333334,
          0.6666666666666666,
          0.75,
          0.875,
          0.6666666666666666,
          0.8333333333333334,
          0.875,
          0.875,
          0.875,
          0.7916666666666666,
          0.8333333333333334,
          0.875,
          0.8333333333333334,
          0.7916666666666666,
          0.625,
          0.8333333333333334,
          0.9166666666666666,
          0.8333333333333334,
          0.75,
          0.75,
          0.5833333333333334,
          0.7916666666666666,
          0.8333333333333334,
          0.875,
          0.7916666666666666,
          0.8333333333333334,
          0.7083333333333334,
          0.75,
          0.8333333333333334,
          0.9166666666666666,
          0.875,
          0.875,
          0.8333333333333334,
          0.875,
          0.25,
          0.7916666666666666,
          0.8333333333333334,
          0.9166666666666666,
          0.875,
          0.7916666666666666,
          0.8333333333333334,
          0.9583333333333334,
          0.8333333333333334,
          0.6666666666666666,
          0.9583333333333334,
          0.7916666666666666,
          0.7916666666666666,
          0.75,
          0.75,
          0.8333333333333334,
          0.875,
          0.75,
          0.9583333333333334,
          0.875,
          0.9583333333333334,
          0.875,
          0.875,
          0.8333333333333334,
          0.8333333333333334,
          0.7916666666666666,
          0.875,
          0.75,
          0.75,
          0.7916666666666666,
          0.75,
          0.625,
          0.7083333333333334,
          0.8333333333333334,
          0.9166666666666666,
          0.8333333333333334,
          0.875,
          0.75,
          0.75,
          0.75,
          0.75,
          0.8333333333333334,
          0.6666666666666666,
          0.75,
          0.625,
          0.75,
          0.875,
          0.8333333333333334,
          0.8333333333333334,
          0.5833333333333334,
          0.625,
          0.7083333333333334,
          0.9166666666666666,
          0.8333333333333334,
          0.875,
          0.875,
          0.7916666666666666,
          0.8333333333333334,
          0.875,
          0.875,
          0.875,
          0.7916666666666666,
          0.6666666666666666,
          0.875,
          0.9583333333333334,
          0.7083333333333334,
          0.8333333333333334,
          0.8333333333333334,
          0.9166666666666666,
          0.8333333333333334,
          0.8333333333333334,
          0.7083333333333334,
          0.6666666666666666,
          0.875,
          0.8333333333333334,
          0.7916666666666666,
          0.8333333333333334,
          0.875,
          0.625,
          0.75,
          0.8333333333333334,
          0.7916666666666666,
          0.7916666666666666,
          0.7083333333333334,
          0.8333333333333334,
          0.7916666666666666,
          0.7916666666666666,
          0.875,
          0.875,
          0.9583333333333334,
          0.7916666666666666,
          0.875,
          0.875,
          0.75,
          0.7916666666666666,
          0.625,
          0.875,
          0.875,
          0.8333333333333334,
          0.9583333333333334,
          0.9583333333333334,
          0.8333333333333334,
          0.75,
          0.8333333333333334,
          0.9166666666666666,
          1,
          0.5833333333333334,
          0.7916666666666666,
          0.7916666666666666,
          0.8333333333333334,
          0.8333333333333334,
          0.9166666666666666,
          0.8333333333333334,
          0.8333333333333334,
          0.8333333333333334,
          0.7083333333333334,
          0.7916666666666666,
          0.8333333333333334,
          0.7916666666666666,
          0.7916666666666666,
          0.75,
          0.875,
          0.8333333333333334,
          0.8333333333333334,
          0.8333333333333334,
          0.625,
          0.7916666666666666,
          0.75,
          0.9583333333333334,
          0.6666666666666666,
          0.75,
          0.9583333333333334,
          0.875,
          0.75,
          0.875,
          0.7083333333333334,
          0.7916666666666666,
          0.7916666666666666,
          0.7916666666666666,
          0.7916666666666666,
          0.75,
          0.875,
          0.7083333333333334,
          0.9166666666666666,
          0.625,
          0.875,
          0.75,
          0.6666666666666666,
          0.875,
          0.9166666666666666,
          0.8333333333333334,
          0.8333333333333334,
          0.8333333333333334,
          0.875,
          0.9166666666666666,
          0.75,
          0.875,
          0.9166666666666666,
          0.625,
          0.9166666666666666,
          0.7083333333333334,
          0.8333333333333334,
          0.9166666666666666,
          0.9583333333333334,
          0.6666666666666666,
          0.875,
          0.7916666666666666,
          0.7083333333333334,
          0.5833333333333334,
          0.75,
          0.9166666666666666,
          0.75,
          0.8333333333333334,
          0.8333333333333334,
          0.75,
          0.6666666666666666,
          0.8333333333333334,
          0.8333333333333334,
          0.7083333333333334,
          0.875,
          0.9166666666666666,
          0.9166666666666666,
          0.9583333333333334,
          0.875,
          0.7916666666666666,
          0.7083333333333334,
          0.875,
          0.7083333333333334,
          0.7083333333333334,
          0.7083333333333334,
          0.7916666666666666,
          0.875,
          0.7916666666666666,
          0.7083333333333334,
          0.7083333333333334,
          0.7083333333333334,
          0.75,
          0.8333333333333334,
          0.75,
          0.8333333333333334,
          0.9166666666666666,
          0.7916666666666666,
          0.7916666666666666,
          0.75,
          0.9166666666666666,
          0.75,
          0.6666666666666666,
          0.75,
          0.7083333333333334,
          0.9166666666666666,
          0.7083333333333334,
          0.875,
          0.8333333333333334,
          0.7916666666666666,
          0.8333333333333334,
          0.8333333333333334,
          0.9166666666666666,
          0.875,
          0.75,
          0.75,
          0.75,
          0.8333333333333334,
          0.9166666666666666,
          0.9166666666666666,
          0.5833333333333334,
          0.875,
          0.9583333333333334,
          0.7916666666666666,
          0.6666666666666666,
          0.9583333333333334,
          0.7083333333333334,
          0.7083333333333334,
          0.9166666666666666,
          0.875,
          0.8333333333333334,
          0.8333333333333334,
          0.9166666666666666,
          0.9583333333333334,
          0.875,
          0.875,
          0.9166666666666666,
          0.625,
          0.875,
          0.875,
          0.7083333333333334,
          0.875,
          0.8333333333333334,
          0.9166666666666666,
          0.6666666666666666,
          0.7083333333333334,
          0.75,
          0.8333333333333334,
          0.8333333333333334,
          0.875,
          0.7916666666666666,
          0.75,
          0.7916666666666666,
          0.75,
          0.875,
          0.75,
          0.875,
          0.8333333333333334,
          0.7916666666666666,
          0.9166666666666666,
          0.7916666666666666,
          0.5833333333333334,
          0.7083333333333334,
          0.7916666666666666,
          0.8333333333333334,
          0.75,
          0.8333333333333334,
          0.8333333333333334,
          0.75,
          0.9583333333333334,
          0.9166666666666666,
          0.9583333333333334,
          0.7083333333333334,
          0.7083333333333334,
          0.875,
          0.8333333333333334,
          0.75,
          0.8333333333333334,
          0.7083333333333334,
          0.625,
          0.7083333333333334,
          0.875,
          1,
          0.75,
          0.7916666666666666,
          0.8333333333333334,
          0.5416666666666666,
          0.875,
          0.875,
          0.8333333333333334,
          0.7916666666666666,
          0.875,
          0.75,
          0.6666666666666666,
          0.7916666666666666,
          0.75,
          0.75,
          0.8333333333333334,
          0.75,
          0.7083333333333334,
          0.7916666666666666,
          0.7083333333333334,
          0.875,
          0.75,
          0.7083333333333334,
          0.9166666666666666,
          0.8333333333333334,
          0.9166666666666666,
          0.8333333333333334,
          0.7916666666666666,
          0.6666666666666666,
          0.75,
          0.75,
          0.9166666666666666,
          0.8333333333333334,
          0.6666666666666666,
          0.7916666666666666,
          0.9166666666666666,
          0.875,
          0.6666666666666666,
          0.8333333333333334,
          0.7083333333333334,
          0.9166666666666666,
          0.7916666666666666,
          0.875,
          0.7916666666666666,
          0.875,
          1,
          0.7916666666666666,
          0.7916666666666666,
          0.7916666666666666,
          0.875,
          0.9166666666666666,
          0.8333333333333334,
          0.9166666666666666,
          0.7083333333333334,
          0.9166666666666666,
          0.75,
          0.9166666666666666,
          0.875,
          0.75,
          0.625,
          0.9583333333333334,
          0.7083333333333334,
          0.9583333333333334,
          0.875,
          0.7916666666666666,
          0.8333333333333334,
          0.6666666666666666,
          0.6666666666666666,
          0.6666666666666666,
          0.875,
          0.75,
          0.7916666666666666,
          0.9166666666666666,
          0.7083333333333334,
          0.75,
          0.875,
          0.875,
          0.8333333333333334,
          0.8333333333333334,
          0.7083333333333334,
          0.7916666666666666,
          0.875,
          0.8333333333333334,
          0.875,
          0.875,
          0.7916666666666666,
          0.75,
          0.7083333333333334,
          0.5416666666666666,
          0.75,
          0.75,
          0.7916666666666666,
          0.8333333333333334,
          0.8333333333333334,
          0.9166666666666666,
          0.875,
          0.875,
          0.9166666666666666,
          0.7083333333333334,
          0.75,
          0.6666666666666666,
          0.6666666666666666,
          0.8333333333333334,
          0.875,
          0.8333333333333334,
          0.8333333333333334,
          0.875,
          0.7083333333333334,
          0.875,
          0.7916666666666666,
          0.75,
          0.8333333333333334,
          0.8333333333333334,
          0.5833333333333334,
          0.8333333333333334,
          0.75,
          0.75,
          0.6666666666666666,
          0.8333333333333334,
          0.7916666666666666,
          0.7916666666666666,
          0.875,
          0.7083333333333334,
          0.7083333333333334,
          0.8333333333333334,
          0.8333333333333334,
          0.7916666666666666,
          0.8333333333333334,
          0.9583333333333334,
          0.7916666666666666,
          0.8333333333333334,
          0.9166666666666666,
          0.75,
          0.7916666666666666,
          0.75,
          0.8333333333333334,
          0.7916666666666666,
          0.75,
          0.875,
          0.7916666666666666,
          0.8333333333333334,
          0.7083333333333334,
          0.75,
          0.7916666666666666,
          0.9166666666666666,
          0.5,
          0.875,
          0.9166666666666666,
          0.75,
          0.9166666666666666,
          0.8333333333333334,
          0.875,
          0.875,
          0.7916666666666666,
          0.7916666666666666,
          0.8333333333333334,
          0.7916666666666666,
          0.75,
          0.7083333333333334,
          0.8333333333333334,
          0.9583333333333334,
          0.7083333333333334,
          0.7083333333333334,
          0.75,
          0.8333333333333334,
          0.7916666666666666,
          0.75,
          0.625,
          0.5416666666666666,
          0.8333333333333334,
          0.9166666666666666,
          0.8333333333333334,
          0.9583333333333334,
          0.4583333333333333,
          0.7916666666666666,
          0.875,
          0.5,
          0.7916666666666666,
          0.9583333333333334,
          0.9583333333333334,
          0.875,
          0.8333333333333334,
          0.9583333333333334,
          0.7916666666666666,
          0.875,
          0.7916666666666666,
          0.7083333333333334,
          0.9166666666666666,
          0.75,
          0.7083333333333334,
          0.7916666666666666,
          0.7083333333333334,
          0.625,
          0.7916666666666666,
          0.875,
          0.8333333333333334,
          0.7916666666666666,
          0.7083333333333334,
          0.625,
          0.7916666666666666,
          0.75,
          0.5833333333333334,
          0.8333333333333334,
          0.7083333333333334,
          0.9583333333333334,
          0.8333333333333334,
          0.7916666666666666,
          0.8333333333333334,
          0.875,
          0.7916666666666666,
          0.8333333333333334,
          0.7916666666666666,
          0.9166666666666666,
          0.75,
          0.75,
          0.7916666666666666,
          0.875,
          0.9583333333333334,
          0.6666666666666666,
          0.9166666666666666,
          0.7916666666666666,
          0.625,
          0.7916666666666666,
          0.9166666666666666,
          0.8333333333333334,
          0.75,
          0.9166666666666666,
          0.8333333333333334,
          0.7916666666666666,
          0.75,
          0.8333333333333334,
          0.8333333333333334,
          0.9166666666666666,
          0.9166666666666666,
          0.875,
          0.7916666666666666,
          0.75,
          0.9583333333333334,
          0.875,
          0.7916666666666666,
          0.9583333333333334,
          0.75,
          0.75,
          0.75,
          0.7916666666666666,
          0.875,
          0.8333333333333334,
          0.875,
          0.75,
          0.6666666666666666,
          0.9583333333333334,
          0.9583333333333334,
          0.75,
          0.875,
          0.9583333333333334,
          0.8333333333333334,
          0.5,
          0.8333333333333334,
          0.875,
          0.75,
          0.7083333333333334,
          0.7083333333333334,
          0.7916666666666666,
          0.8333333333333334,
          0.9583333333333334,
          0.875,
          0.8333333333333334,
          0.8333333333333334,
          0.7916666666666666,
          0.8333333333333334,
          0.7916666666666666,
          0.5833333333333334,
          0.8333333333333334,
          0.75,
          0.875,
          0.75,
          0.8333333333333334,
          0.875,
          0.9166666666666666,
          0.9583333333333334,
          0.75,
          0.9166666666666666,
          0.8333333333333334,
          0.7916666666666666,
          0.8333333333333334,
          0.8333333333333334,
          0.9583333333333334,
          0.8333333333333334,
          0.8333333333333334,
          0.8333333333333334,
          0.9166666666666666,
          0.7916666666666666,
          0.8333333333333334,
          0.75,
          0.8333333333333334,
          0.7916666666666666,
          0.625,
          0.875,
          0.7916666666666666,
          0.875,
          0.8333333333333334,
          0.8333333333333334,
          0.9166666666666666,
          0.9583333333333334,
          0.9583333333333334,
          0.9166666666666666,
          0.8333333333333334,
          0.6666666666666666,
          0.7916666666666666,
          0.7916666666666666,
          0.75,
          0.9166666666666666,
          0.9166666666666666,
          0.7083333333333334,
          0.7083333333333334,
          0.75,
          0.8333333333333334,
          0.6666666666666666,
          0.7083333333333334,
          0.75,
          0.8333333333333334,
          0.875,
          0.9166666666666666,
          0.9166666666666666,
          0.875,
          0.875,
          0.875,
          0.8333333333333334,
          0.875,
          0.8333333333333334,
          0.8333333333333334,
          0.9583333333333334,
          0.7916666666666666,
          0.7916666666666666,
          0.7916666666666666,
          0.8333333333333334,
          0.8333333333333334,
          0.8333333333333334,
          0.875,
          0.9166666666666666,
          0.75,
          0.9166666666666666,
          0.875,
          0.6666666666666666,
          0.875,
          0.9166666666666666,
          0.7916666666666666,
          0.8333333333333334,
          0.7916666666666666,
          0.8333333333333334,
          0.7916666666666666,
          0.875,
          0.7916666666666666,
          0.9166666666666666,
          0.75,
          0.7916666666666666,
          0.7916666666666666,
          0.875,
          0.7083333333333334,
          0.7083333333333334,
          0.8333333333333334,
          0.7916666666666666,
          0.875,
          0.625,
          0.7083333333333334,
          0.8333333333333334,
          0.875,
          0.875,
          0.9583333333333334,
          0.75,
          0.9166666666666666,
          0.7916666666666666,
          0.7916666666666666,
          0.7916666666666666,
          0.8333333333333334,
          0.7083333333333334,
          0.7916666666666666,
          0.7916666666666666,
          0.75,
          0.875,
          0.75,
          0.8333333333333334,
          0.7083333333333334,
          0.8333333333333334,
          0.75,
          0.8333333333333334,
          0.875,
          0.7916666666666666,
          0.875,
          0.75,
          0.7083333333333334,
          0.9583333333333334,
          0.75,
          0.8333333333333334,
          0.75,
          0.7916666666666666,
          0.8333333333333334,
          0.8333333333333334,
          0.7916666666666666,
          0.875,
          0.875,
          0.8333333333333334,
          0.7916666666666666,
          0.7083333333333334,
          0.75,
          0.9583333333333334,
          0.75,
          0.875,
          0.875,
          0.6666666666666666,
          0.75,
          0.9166666666666666,
          0.6666666666666666,
          0.8333333333333334,
          0.875,
          0.7916666666666666,
          0.8333333333333334,
          0.7083333333333334,
          0.75,
          0.75,
          0.7916666666666666,
          0.6666666666666666,
          0.8333333333333334,
          0.5,
          0.7083333333333334,
          0.7083333333333334,
          0.7083333333333334,
          0.7083333333333334,
          0.875,
          0.875,
          0.6666666666666666,
          0.6666666666666666,
          0.75,
          0.5416666666666666,
          0.7916666666666666,
          0.8333333333333334,
          0.6666666666666666,
          0.75,
          0.75,
          0.9166666666666666,
          0.8333333333333334,
          0.7916666666666666,
          0.8333333333333334,
          0.875,
          0.75,
          0.7083333333333334,
          0.625,
          0.7083333333333334,
          0.7916666666666666,
          0.7916666666666666,
          0.7916666666666666,
          0.9166666666666666,
          0.6666666666666666,
          0.7916666666666666,
          0.7916666666666666,
          0.4583333333333333,
          0.625,
          0.5833333333333334,
          0.8333333333333334,
          0.875,
          0.75,
          0.7083333333333334,
          0.4583333333333333,
          0.875,
          0.7916666666666666,
          0.625,
          0.8333333333333334,
          0.8333333333333334,
          0.75,
          0.7916666666666666,
          0.7083333333333334,
          0.875,
          0.6666666666666666,
          0.8333333333333334,
          0.7916666666666666,
          0.7916666666666666,
          0.7916666666666666,
          0.75,
          0.7916666666666666,
          0.6666666666666666,
          0.9166666666666666,
          0.7916666666666666,
          0.7916666666666666,
          0.6666666666666666,
          0.75,
          0.8333333333333334,
          0.7083333333333334,
          0.7083333333333334,
          0.875,
          0.8333333333333334,
          0.5833333333333334,
          0.7083333333333334,
          0.7083333333333334,
          0.6666666666666666,
          0.8333333333333334,
          0.7083333333333334,
          0.75,
          0.8333333333333334,
          0.7916666666666666,
          0.75,
          0.875,
          0.875,
          0.9583333333333334,
          0.75,
          0.75,
          0.7916666666666666,
          0.7916666666666666,
          0.7916666666666666,
          0.9166666666666666,
          0.6666666666666666,
          0.75,
          0.7916666666666666,
          0.75,
          0.9583333333333334,
          0.75,
          0.75,
          0.875,
          0.5833333333333334,
          0.9166666666666666,
          0.7916666666666666,
          0.7916666666666666,
          0.9166666666666666,
          0.875,
          0.75,
          0.875,
          0.9166666666666666,
          0.9166666666666666,
          0.8333333333333334,
          0.9166666666666666,
          0.7083333333333334,
          0.7916666666666666,
          0.75,
          0.6666666666666666,
          0.5416666666666666,
          0.75,
          0.7083333333333334,
          0.75,
          0.7916666666666666,
          0.75,
          0.9166666666666666,
          0.8333333333333334,
          0.8333333333333334,
          0.7916666666666666,
          0.7916666666666666,
          0.875,
          0.7916666666666666,
          0.7916666666666666,
          0.7916666666666666,
          0.75,
          0.9166666666666666,
          0.875,
          0.8333333333333334,
          0.7083333333333334,
          0.75,
          0.7083333333333334,
          0.8333333333333334,
          0.5833333333333334,
          0.75,
          0.7916666666666666,
          0.75,
          0.75,
          0.7916666666666666,
          0.8333333333333334,
          0.75,
          0.7916666666666666,
          0.75,
          0.875,
          0.7916666666666666,
          0.75,
          0.625,
          0.8333333333333334,
          0.625,
          0.6666666666666666,
          0.75,
          0.625,
          0.75,
          0.6666666666666666,
          0.8333333333333334,
          0.875,
          0.9166666666666666,
          0.9166666666666666,
          0.7916666666666666,
          0.7916666666666666,
          0.8333333333333334,
          0.7916666666666666,
          0.9166666666666666,
          0.7916666666666666,
          0.9583333333333334,
          0.8333333333333334,
          0.4583333333333333,
          0.7916666666666666,
          0.7916666666666666,
          0.5833333333333334,
          0.8333333333333334,
          0.75,
          0.8333333333333334,
          0.7083333333333334,
          0.9583333333333334,
          0.625,
          0.875,
          0.875,
          0.875,
          0.7916666666666666,
          0.875,
          0.6666666666666666,
          0.875,
          0.7083333333333334,
          0.625,
          0.7916666666666666,
          0.8333333333333334,
          0.6666666666666666,
          0.8333333333333334,
          0.7916666666666666,
          0.9166666666666666,
          0.625,
          0.7083333333333334,
          0.75,
          0.7083333333333334,
          0.7916666666666666,
          0.875,
          0.7916666666666666,
          0.7916666666666666,
          0.7916666666666666,
          0.7916666666666666,
          0.7916666666666666,
          0.7916666666666666,
          0.75,
          0.7083333333333334,
          0.625,
          0.875,
          0.625,
          0.75,
          0.9166666666666666,
          0.625,
          0.8333333333333334,
          0.7916666666666666,
          0.7916666666666666,
          0.75,
          0.8333333333333334,
          0.6666666666666666,
          0.75,
          0.7916666666666666,
          0.8333333333333334,
          0.7916666666666666,
          0.7916666666666666,
          0.75,
          0.875,
          0.875,
          0.75,
          0.875,
          0.7083333333333334,
          0.875,
          0.5416666666666666,
          0.6666666666666666,
          0.7083333333333334,
          0.8333333333333334,
          0.75,
          0.9166666666666666,
          0.8333333333333334,
          0.8333333333333334,
          0.7083333333333334,
          0.875,
          0.7916666666666666,
          0.75,
          0.8333333333333334,
          0.7916666666666666,
          0.6666666666666666,
          0.9166666666666666,
          0.9166666666666666,
          0.75,
          0.8333333333333334,
          0.6666666666666666,
          0.75,
          0.75,
          0.7916666666666666,
          0.75,
          0.625,
          0.9166666666666666,
          0.7083333333333334,
          0.875,
          0.75,
          0.75,
          0.8333333333333334,
          0.7083333333333334,
          0.9166666666666666,
          0.75,
          0.7916666666666666,
          0.7083333333333334,
          0.5833333333333334,
          0.7083333333333334,
          0.7916666666666666,
          0.7916666666666666,
          0.7916666666666666,
          0.875,
          0.625,
          0.75,
          0.875,
          0.7916666666666666,
          0.5833333333333334,
          0.8333333333333334,
          0.8333333333333334,
          0.75,
          0.5833333333333334,
          0.5833333333333334,
          0.6666666666666666,
          0.8333333333333334,
          0.8333333333333334,
          0.75,
          0.7083333333333334,
          0.7083333333333334,
          0.7083333333333334,
          0.7083333333333334,
          0.9166666666666666,
          0.7916666666666666,
          0.9166666666666666,
          0.75,
          0.5833333333333334,
          0.8333333333333334,
          0.75,
          0.75,
          0.5416666666666666,
          0.5833333333333334,
          0.7916666666666666,
          0.7916666666666666,
          0.7083333333333334,
          0.7083333333333334,
          0.75,
          0.8333333333333334,
          0.9166666666666666,
          0.7916666666666666,
          0.8333333333333334,
          0.9166666666666666,
          0.8333333333333334,
          0.7916666666666666,
          0.9166666666666666,
          0.7916666666666666,
          0.7916666666666666,
          0.8333333333333334,
          0.7916666666666666,
          0.875,
          0.7083333333333334,
          0.75,
          0.875,
          0.7916666666666666,
          0.9583333333333334,
          0.7916666666666666,
          0.75,
          0.75,
          0.75,
          0.7916666666666666,
          0.5416666666666666,
          0.75,
          0.9583333333333334,
          0.625,
          0.9166666666666666,
          0.6666666666666666,
          0.875,
          0.5,
          0.7083333333333334,
          0.875,
          0.875,
          0.875,
          0.9166666666666666,
          0.75,
          0.7916666666666666,
          0.75,
          0.7916666666666666,
          0.8333333333333334,
          0.75,
          0.8333333333333334,
          0.9583333333333334,
          0.75,
          0.7916666666666666,
          0.8333333333333334,
          0.7916666666666666,
          0.75,
          0.75,
          0.7916666666666666,
          0.8333333333333334,
          0.8333333333333334,
          0.6666666666666666,
          0.8333333333333334,
          0.875,
          0.875,
          0.625,
          1,
          0.7916666666666666,
          0.625,
          0.8333333333333334,
          0.9166666666666666,
          0.75,
          0.9166666666666666,
          0.9166666666666666,
          0.9166666666666666,
          0.7083333333333334,
          0.7916666666666666,
          0.875,
          0.7916666666666666,
          0.625,
          0.7916666666666666,
          0.7916666666666666,
          0.7083333333333334,
          0.8333333333333334,
          0.6666666666666666,
          0.7916666666666666,
          0.8333333333333334,
          0.7916666666666666,
          0.7916666666666666,
          0.9166666666666666,
          0.75,
          0.75,
          0.7083333333333334,
          0.7916666666666666,
          0.7916666666666666,
          0.875,
          0.7083333333333334,
          0.8333333333333334,
          0.8333333333333334,
          0.75,
          0.75,
          0.6666666666666666,
          0.9166666666666666,
          0.75,
          0.875,
          0.875,
          0.875,
          0.9166666666666666,
          0.7916666666666666,
          0.75,
          0.875,
          0.75,
          0.875,
          0.7083333333333334,
          0.6666666666666666,
          0.875,
          0.8333333333333334,
          0.8333333333333334,
          0.75,
          0.75,
          0.6666666666666666,
          0.75,
          0.875,
          0.875,
          0.6666666666666666,
          0.7083333333333334,
          0.7916666666666666,
          0.8333333333333334,
          0.8333333333333334,
          0.7916666666666666,
          0.7916666666666666,
          0.7916666666666666,
          0.875,
          0.6666666666666666,
          0.7916666666666666,
          0.75,
          0.7916666666666666,
          0.75,
          0.875,
          0.75,
          0.75,
          0.7083333333333334,
          0.7916666666666666,
          0.75,
          0.6666666666666666,
          0.8333333333333334,
          0.75,
          0.7916666666666666,
          0.8333333333333334,
          0.7916666666666666,
          0.875,
          0.7083333333333334,
          0.6666666666666666,
          0.7916666666666666,
          0.875,
          0.8333333333333334,
          0.875,
          0.75,
          0.6666666666666666,
          0.8333333333333334,
          0.75,
          0.9583333333333334,
          0.75,
          0.875,
          0.9166666666666666,
          0.8333333333333334,
          0.875,
          0.7916666666666666,
          0.75,
          0.7916666666666666,
          0.6666666666666666,
          0.6666666666666666,
          0.75,
          0.7083333333333334,
          0.7083333333333334,
          0.8333333333333334,
          0.7916666666666666,
          0.7916666666666666,
          0.6666666666666666,
          0.6666666666666666,
          0.875,
          0.875,
          0.75,
          0.8333333333333334,
          0.7083333333333334,
          0.875,
          0.75,
          0.75,
          0.75,
          0.7916666666666666,
          0.7916666666666666,
          0.7083333333333334,
          0.7916666666666666,
          0.6666666666666666,
          0.875,
          0.9166666666666666,
          0.9166666666666666,
          0.8333333333333334,
          0.875,
          0.7916666666666666,
          0.7916666666666666,
          0.9583333333333334,
          0.5416666666666666,
          0.75,
          0.875,
          0.625,
          0.875,
          0.7916666666666666,
          0.9583333333333334,
          0.8333333333333334,
          0.9166666666666666,
          0.9166666666666666,
          0.7916666666666666,
          0.5416666666666666,
          0.875,
          0.7916666666666666,
          0.75,
          0.75,
          0.7916666666666666,
          0.7916666666666666,
          0.75,
          0.7916666666666666,
          0.9166666666666666,
          0.7916666666666666,
          0.9166666666666666,
          0.8333333333333334,
          0.9166666666666666,
          0.625,
          0.75,
          0.7916666666666666,
          0.8333333333333334,
          0.75,
          0.8333333333333334,
          0.6666666666666666,
          0.6666666666666666,
          0.7916666666666666,
          0.6666666666666666,
          0.6666666666666666,
          0.8333333333333334,
          0.875,
          0.9166666666666666,
          0.8333333333333334,
          0.6666666666666666,
          0.8333333333333334,
          0.7083333333333334,
          0.7083333333333334,
          0.75,
          0.6666666666666666,
          0.625,
          0.9166666666666666,
          0.625,
          0.8333333333333334,
          0.625,
          0.9166666666666666,
          0.875,
          0.8333333333333334,
          0.8333333333333334,
          0.7083333333333334,
          0.9166666666666666,
          0.9166666666666666,
          0.9166666666666666,
          0.8333333333333334,
          0.7916666666666666,
          0.75,
          0.8333333333333334,
          0.75,
          0.6666666666666666,
          0.9166666666666666,
          0.7916666666666666,
          0.7083333333333334,
          0.8333333333333334,
          0.8333333333333334,
          0.9583333333333334,
          0.8333333333333334,
          0.9166666666666666,
          0.7916666666666666,
          0.5833333333333334,
          0.8333333333333334,
          0.875,
          0.7083333333333334,
          0.7916666666666666,
          0.875,
          0.7083333333333334,
          0.7083333333333334,
          0.7916666666666666,
          0.7083333333333334,
          0.7916666666666666,
          0.75,
          0.4166666666666667,
          0.7916666666666666,
          0.875,
          0.7916666666666666,
          0.7916666666666666,
          0.8333333333333334,
          0.8333333333333334,
          0.8333333333333334,
          0.7083333333333334,
          0.7916666666666666,
          0.8333333333333334,
          0.875,
          0.75,
          0.7916666666666666,
          0.625,
          0.75,
          0.75,
          0.8333333333333334,
          0.7916666666666666,
          0.8333333333333334,
          0.6666666666666666,
          0.8333333333333334,
          0.8333333333333334,
          0.875,
          0.7916666666666666,
          0.9166666666666666,
          0.75,
          0.7916666666666666,
          0.75,
          0.6666666666666666,
          0.7916666666666666,
          0.6666666666666666,
          0.75,
          0.7916666666666666,
          0.7083333333333334,
          0.8333333333333334,
          0.6666666666666666,
          0.875,
          0.8333333333333334,
          0.7916666666666666,
          0.75,
          0.875,
          0.5833333333333334,
          0.8333333333333334,
          0.8333333333333334,
          0.8333333333333334,
          0.7916666666666666,
          0.6666666666666666,
          0.75,
          0.7083333333333334,
          0.75,
          0.75,
          0.9166666666666666,
          0.7083333333333334,
          0.7083333333333334,
          0.875,
          0.9166666666666666,
          0.7916666666666666,
          0.875,
          0.8333333333333334,
          0.7916666666666666,
          0.875,
          0.7083333333333334,
          0.75,
          0.9166666666666666,
          0.8333333333333334,
          0.5833333333333334,
          0.6666666666666666,
          0.7916666666666666,
          0.7916666666666666,
          0.75,
          0.8333333333333334,
          0.75,
          0.8333333333333334,
          0.8333333333333334,
          0.6666666666666666,
          0.75,
          0.75,
          0.7916666666666666,
          0.7083333333333334,
          0.8333333333333334,
          0.7083333333333334,
          0.75,
          0.7916666666666666,
          0.625,
          0.9583333333333334,
          0.7916666666666666,
          0.6666666666666666,
          0.875,
          0.7083333333333334,
          0.75,
          0.8333333333333334,
          0.9583333333333334,
          0.8333333333333334,
          0.7916666666666666,
          0.7916666666666666,
          0.7083333333333334,
          0.75,
          0.8333333333333334,
          0.875,
          0.7916666666666666,
          0.875,
          0.8333333333333334,
          0.7916666666666666,
          0.8333333333333334,
          0.875,
          0.75,
          0.7916666666666666,
          0.875,
          0.75,
          0.7083333333333334,
          0.625,
          0.875,
          0.8333333333333334,
          0.875,
          0.875,
          0.6666666666666666,
          0.7916666666666666,
          0.7916666666666666,
          0.7916666666666666,
          0.7083333333333334,
          0.625,
          0.8333333333333334,
          0.7916666666666666,
          0.7916666666666666,
          0.875,
          0.875,
          0.9583333333333334,
          0.9166666666666666,
          0.7083333333333334,
          0.7916666666666666,
          0.875,
          0.75,
          0.6666666666666666,
          0.5416666666666666,
          0.625,
          0.7083333333333334,
          0.75,
          0.75,
          0.7916666666666666,
          0.7916666666666666,
          0.7916666666666666,
          0.75,
          0.7083333333333334,
          0.8333333333333334,
          0.7083333333333334,
          0.7916666666666666,
          0.7916666666666666,
          0.8333333333333334,
          0.7916666666666666,
          0.7916666666666666,
          0.8333333333333334,
          0.8333333333333334,
          0.8333333333333334,
          0.875,
          0.6666666666666666,
          0.625,
          0.75,
          0.625,
          0.875,
          0.7083333333333334,
          0.875,
          0.875,
          0.7083333333333334,
          0.75,
          0.625,
          0.7916666666666666,
          0.9166666666666666,
          0.8333333333333334,
          0.625,
          0.7083333333333334,
          0.7916666666666666,
          0.8333333333333334,
          0.7083333333333334,
          0.9166666666666666,
          0.75,
          0.9166666666666666,
          0.875,
          0.6666666666666666,
          0.8333333333333334,
          0.75,
          0.5833333333333334,
          0.875,
          1,
          0.6666666666666666,
          0.5,
          0.8333333333333334,
          0.75,
          0.8333333333333334,
          0.75,
          0.7083333333333334,
          0.8333333333333334,
          0.75,
          0.6666666666666666,
          0.9166666666666666,
          0.5416666666666666,
          0.8333333333333334,
          0.7916666666666666,
          0.8333333333333334,
          0.6666666666666666,
          0.8333333333333334,
          0.7916666666666666,
          0.7083333333333334,
          0.8333333333333334,
          0.6666666666666666,
          0.5833333333333334,
          0.7916666666666666,
          0.75,
          0.75,
          0.8333333333333334,
          0.7916666666666666,
          0.7083333333333334,
          0.7916666666666666,
          0.9166666666666666,
          0.875,
          0.875,
          0.875,
          0.5416666666666666,
          0.75,
          0.75,
          0.8333333333333334,
          0.7083333333333334,
          0.6666666666666666,
          0.7916666666666666,
          0.7916666666666666,
          0.8333333333333334,
          0.8333333333333334,
          0.875,
          0.75,
          0.8333333333333334,
          0.9166666666666666,
          0.7083333333333334,
          0.75,
          0.8333333333333334,
          0.875,
          0.8333333333333334,
          0.8333333333333334,
          0.625,
          0.7083333333333334,
          0.7916666666666666,
          0.8333333333333334,
          0.7916666666666666,
          0.875,
          0.9166666666666666,
          0.8333333333333334,
          0.7083333333333334,
          0.875,
          0.7916666666666666,
          0.8333333333333334,
          0.75,
          0.875,
          0.75,
          0.75,
          0.8333333333333334,
          0.8333333333333334,
          0.8333333333333334,
          0.7916666666666666,
          0.7083333333333334,
          0.875,
          0.75,
          0.7916666666666666,
          0.75,
          0.9583333333333334,
          0.9166666666666666,
          0.8333333333333334,
          0.75,
          0.8333333333333334,
          0.875,
          0.8333333333333334,
          0.875,
          0.7083333333333334,
          0.625,
          0.6666666666666666,
          0.7083333333333334,
          0.8333333333333334,
          0.9166666666666666,
          0.9166666666666666,
          0.7916666666666666,
          0.75,
          0.9583333333333334,
          0.8333333333333334,
          0.9166666666666666,
          0.7916666666666666,
          0.8333333333333334,
          0.7916666666666666,
          0.7916666666666666,
          0.7916666666666666,
          0.8333333333333334,
          0.75,
          0.6666666666666666,
          0.9166666666666666,
          0.8333333333333334,
          0.7083333333333334,
          0.75,
          0.75,
          0.8333333333333334,
          0.8333333333333334,
          0.7916666666666666,
          0.6666666666666666,
          0.7916666666666666,
          0.6666666666666666,
          0.8333333333333334,
          0.7916666666666666,
          0.75,
          0.6666666666666666,
          0.8333333333333334,
          0.7916666666666666,
          0.6666666666666666,
          0.7083333333333334,
          0.7916666666666666,
          0.8333333333333334,
          0.7916666666666666,
          0.7916666666666666,
          0.75,
          0.7916666666666666,
          0.7083333333333334,
          0.9166666666666666,
          0.75,
          0.5833333333333334,
          0.7916666666666666,
          0.9583333333333334,
          0.7083333333333334,
          0.8333333333333334,
          0.5833333333333334,
          0.7916666666666666,
          0.8333333333333334,
          0.7916666666666666,
          0.7916666666666666,
          0.7916666666666666,
          0.7083333333333334,
          0.7916666666666666,
          0.7916666666666666,
          0.75,
          0.875,
          0.75,
          0.7916666666666666,
          0.8333333333333334,
          0.7916666666666666,
          0.7916666666666666,
          0.75,
          0.8333333333333334,
          0.875,
          0.8333333333333334,
          0.7916666666666666,
          0.7083333333333334,
          0.7083333333333334,
          0.625,
          0.7916666666666666,
          0.8333333333333334,
          0.7083333333333334,
          0.75,
          0.7916666666666666,
          0.7083333333333334,
          0.875,
          0.8333333333333334,
          0.7916666666666666,
          0.6666666666666666,
          0.7916666666666666,
          0.875,
          0.6666666666666666,
          0.7916666666666666,
          0.875,
          0.6666666666666666,
          0.875,
          0.7083333333333334,
          0.875,
          0.625,
          0.75,
          0.7083333333333334,
          0.8333333333333334,
          0.875,
          0.75,
          0.75,
          0.8333333333333334,
          0.75,
          0.5833333333333334,
          0.7916666666666666,
          0.7916666666666666,
          0.6666666666666666,
          0.7916666666666666,
          0.75,
          0.75,
          0.7083333333333334,
          0.8333333333333334,
          0.9166666666666666,
          0.7916666666666666,
          0.7916666666666666,
          0.875,
          0.875,
          1,
          0.7916666666666666,
          0.8333333333333334,
          0.75,
          0.8333333333333334,
          0.75,
          0.7916666666666666,
          0.7916666666666666,
          0.875,
          0.75,
          0.75,
          0.75,
          0.875,
          0.7916666666666666,
          0.5833333333333334,
          0.9166666666666666,
          0.625,
          0.875,
          0.7916666666666666,
          0.7916666666666666,
          0.9166666666666666,
          0.875,
          0.7083333333333334,
          0.8333333333333334,
          0.7083333333333334,
          0.75,
          0.7083333333333334,
          0.7916666666666666,
          0.9166666666666666,
          0.875,
          0.7083333333333334,
          0.7083333333333334,
          0.7916666666666666,
          0.7916666666666666,
          0.75,
          0.9583333333333334,
          0.875,
          0.75,
          0.8333333333333334,
          0.875,
          0.75,
          0.8333333333333334,
          0.7083333333333334,
          0.875,
          0.7916666666666666,
          0.5833333333333334,
          0.7916666666666666,
          0.75,
          0.8333333333333334,
          0.875,
          0.7083333333333334,
          0.6666666666666666,
          0.7916666666666666,
          0.8333333333333334,
          0.7916666666666666,
          0.75,
          0.9166666666666666,
          0.8333333333333334,
          0.5416666666666666,
          0.7083333333333334,
          0.8333333333333334,
          0.7916666666666666,
          0.6666666666666666,
          0.6666666666666666,
          0.6666666666666666,
          0.7083333333333334,
          0.8333333333333334,
          0.625,
          0.8333333333333334,
          0.6666666666666666,
          0.6666666666666666,
          0.8333333333333334,
          0.7916666666666666,
          0.7916666666666666,
          0.9166666666666666,
          0.6666666666666666,
          0.7083333333333334,
          0.7083333333333334,
          0.8333333333333334,
          0.8333333333333334,
          0.8333333333333334,
          0.875,
          0.75,
          0.8333333333333334,
          0.75,
          0.8333333333333334,
          0.8333333333333334,
          0.7916666666666666,
          0.875,
          0.7083333333333334,
          0.8333333333333334,
          0.875,
          0.9166666666666666,
          0.6666666666666666,
          0.75,
          0.625,
          0.75,
          0.7916666666666666,
          0.875,
          0.8333333333333334,
          0.6666666666666666,
          0.7916666666666666,
          0.7083333333333334,
          0.75,
          0.7916666666666666,
          0.6666666666666666,
          0.8333333333333334,
          0.75,
          0.7083333333333334,
          0.7916666666666666,
          0.5416666666666666,
          0.7916666666666666,
          0.8333333333333334,
          0.75,
          0.875,
          0.75,
          0.7916666666666666,
          0.7083333333333334,
          0.7916666666666666,
          0.875,
          0.625,
          0.7916666666666666,
          0.6666666666666666,
          0.8333333333333334,
          0.5416666666666666,
          0.75,
          0.625,
          0.9166666666666666,
          0.875,
          0.75,
          0.75,
          0.625,
          0.7083333333333334,
          0.8333333333333334,
          0.875,
          0.7916666666666666,
          0.7083333333333334,
          0.875,
          0.5416666666666666,
          0.7916666666666666,
          0.7083333333333334,
          0.7083333333333334,
          0.8333333333333334,
          0.875,
          0.7916666666666666,
          0.8333333333333334,
          0.875,
          0.75,
          0.6666666666666666,
          0.8333333333333334,
          0.875,
          0.7083333333333334,
          0.7916666666666666,
          0.8333333333333334,
          0.75,
          0.6666666666666666,
          0.9583333333333334,
          0.625,
          0.875,
          0.75,
          0.7916666666666666,
          0.7083333333333334,
          0.7083333333333334,
          0.7083333333333334,
          0.8333333333333334,
          0.75,
          0.875,
          0.7916666666666666,
          0.7916666666666666,
          0.875,
          0.7083333333333334,
          0.9166666666666666,
          0.7083333333333334,
          0.6666666666666666,
          0.875,
          0.6666666666666666,
          0.625,
          0.5833333333333334,
          0.8333333333333334,
          0.75,
          0.75,
          0.7916666666666666,
          0.7916666666666666,
          0.875,
          0.75,
          0.625,
          0.875,
          0.75,
          0.7916666666666666,
          0.875,
          0.6666666666666666,
          0.625,
          0.9166666666666666,
          0.9583333333333334,
          0.8333333333333334,
          0.875,
          0.7083333333333334,
          0.875,
          0.7916666666666666,
          0.875,
          0.8333333333333334,
          0.9583333333333334,
          0.75,
          0.875,
          0.75,
          0.75,
          0.75,
          0.875,
          0.8333333333333334,
          0.7916666666666666,
          0.9166666666666666,
          0.75,
          0.8333333333333334,
          0.8333333333333334,
          0.7083333333333334,
          0.75,
          0.8333333333333334,
          0.75,
          0.7083333333333334,
          0.8333333333333334,
          0.875,
          0.7916666666666666,
          0.6666666666666666,
          0.75,
          0.4166666666666667,
          0.625,
          0.7083333333333334,
          0.9166666666666666,
          0.5833333333333334,
          0.7083333333333334,
          0.8333333333333334,
          0.875,
          0.7916666666666666,
          0.75,
          0.7916666666666666,
          0.7083333333333334,
          0.375,
          0.9583333333333334,
          0.75,
          0.75,
          0.7916666666666666,
          0.8333333333333334,
          0.9166666666666666,
          0.7916666666666666,
          0.875,
          0.75,
          0.7916666666666666,
          0.9166666666666666,
          0.7083333333333334,
          0.9166666666666666,
          0.8333333333333334,
          0.875,
          0.9583333333333334,
          0.75,
          0.75,
          0.7083333333333334,
          0.9166666666666666,
          0.7916666666666666,
          0.9166666666666666,
          0.6666666666666666,
          0.7916666666666666,
          0.875,
          0.875,
          0.7916666666666666,
          1,
          0.7916666666666666,
          0.6666666666666666,
          0.9166666666666666,
          0.9583333333333334,
          0.7083333333333334,
          0.875,
          0.7916666666666666,
          0.7916666666666666,
          0.875,
          0.5833333333333334,
          0.7916666666666666,
          0.875,
          0.9166666666666666,
          0.7916666666666666,
          0.7916666666666666,
          0.6666666666666666,
          0.9166666666666666,
          0.8333333333333334,
          0.7916666666666666,
          0.8333333333333334,
          0.8333333333333334,
          0.875,
          0.7916666666666666,
          0.8333333333333334,
          0.7916666666666666,
          0.9583333333333334,
          0.6666666666666666,
          0.7083333333333334,
          0.5416666666666666,
          0.8333333333333334,
          0.5,
          0.7083333333333334,
          0.7916666666666666,
          0.7083333333333334,
          0.625,
          0.7083333333333334,
          0.8333333333333334,
          0.7916666666666666,
          0.875,
          0.875,
          0.75,
          0.875,
          0.8333333333333334,
          0.875,
          0.7083333333333334,
          0.9583333333333334,
          0.75,
          0.8333333333333334,
          0.8333333333333334,
          0.6666666666666666,
          0.875,
          0.9166666666666666,
          0.7083333333333334,
          0.8333333333333334,
          0.7083333333333334,
          0.8333333333333334,
          0.7916666666666666,
          0.75,
          0.5,
          0.875,
          0.9583333333333334,
          0.6666666666666666,
          0.625,
          0.7916666666666666,
          0.8333333333333334,
          0.4583333333333333,
          0.75,
          0.875,
          0.8333333333333334,
          0.875,
          0.875,
          0.7916666666666666,
          0.875,
          0.875,
          0.7083333333333334,
          0.7083333333333334,
          0.7916666666666666,
          0.9583333333333334,
          0.7916666666666666,
          0.6666666666666666,
          0.875,
          0.8333333333333334,
          0.9166666666666666,
          0.75,
          0.7083333333333334,
          0.75,
          0.7916666666666666,
          0.875,
          0.6666666666666666,
          0.875,
          0.8333333333333334,
          0.875,
          0.625,
          0.6666666666666666,
          0.9166666666666666,
          0.7083333333333334,
          0.7916666666666666,
          0.875,
          0.7916666666666666,
          0.875,
          0.75,
          0.7916666666666666,
          0.75,
          0.8333333333333334,
          0.75,
          0.7916666666666666,
          0.625,
          0.7083333333333334,
          0.9166666666666666,
          0.4583333333333333,
          0.875,
          0.9166666666666666,
          0.875,
          0.75,
          0.8333333333333334,
          0.8333333333333334,
          0.625,
          0.7083333333333334,
          0.7916666666666666,
          0.7083333333333334,
          0.75,
          0.75,
          0.75,
          0.6666666666666666,
          0.9583333333333334,
          0.7916666666666666,
          0.75,
          0.8333333333333334,
          0.7916666666666666,
          0.8333333333333334,
          0.9583333333333334,
          0.6666666666666666,
          0.7083333333333334,
          0.7083333333333334,
          0.875,
          0.75,
          0.7083333333333334,
          0.7083333333333334,
          0.7916666666666666,
          0.6666666666666666,
          0.7083333333333334,
          0.8333333333333334,
          0.75,
          0.75,
          0.875,
          0.6666666666666666,
          0.7916666666666666,
          0.875,
          0.875,
          0.6666666666666666,
          0.6666666666666666,
          0.75,
          0.8333333333333334,
          0.75,
          0.7083333333333334,
          0.8333333333333334,
          0.8333333333333334,
          0.7083333333333334,
          0.8333333333333334,
          0.75,
          0.7083333333333334,
          0.8333333333333334,
          0.7916666666666666,
          0.875,
          0.7916666666666666,
          0.875,
          0.5,
          0.8333333333333334,
          0.75,
          0.8333333333333334,
          0.8333333333333334,
          0.5833333333333334,
          0.875,
          0.75,
          0.875,
          0.7083333333333334,
          0.8333333333333334,
          0.6666666666666666,
          0.7916666666666666,
          0.7916666666666666,
          0.5416666666666666,
          0.8333333333333334,
          0.8333333333333334,
          0.875,
          0.7916666666666666,
          0.875,
          0.8333333333333334,
          0.75,
          0.7083333333333334,
          0.7083333333333334,
          0.5,
          0.875,
          0.6666666666666666,
          0.8333333333333334,
          0.875,
          0.75,
          0.75,
          0.9166666666666666,
          0.875,
          0.75,
          0.8333333333333334,
          0.9166666666666666,
          0.9583333333333334,
          0.875,
          0.7083333333333334,
          0.9583333333333334,
          0.7916666666666666,
          0.75,
          0.5833333333333334,
          0.875,
          0.6666666666666666,
          0.9166666666666666,
          0.7083333333333334,
          0.75,
          0.7916666666666666,
          0.9583333333333334,
          0.625,
          0.9166666666666666,
          0.6666666666666666,
          0.7916666666666666,
          0.8333333333333334,
          0.875,
          0.7916666666666666,
          0.75,
          0.7916666666666666,
          0.625,
          0.7083333333333334,
          0.625,
          0.8333333333333334,
          0.875,
          0.7916666666666666,
          0.7916666666666666,
          0.9166666666666666,
          0.6666666666666666,
          0.875,
          0.9166666666666666,
          0.9583333333333334,
          0.75,
          0.8333333333333334,
          0.8333333333333334,
          0.7916666666666666,
          0.7916666666666666,
          0.75,
          0.7916666666666666,
          0.8333333333333334,
          0.6666666666666666,
          0.75,
          0.875,
          0.8333333333333334,
          0.625,
          0.5416666666666666,
          0.7083333333333334,
          0.875,
          0.7916666666666666,
          0.625,
          0.875,
          0.8333333333333334,
          0.75,
          0.8333333333333334,
          0.9166666666666666,
          0.7083333333333334,
          0.9166666666666666,
          0.75,
          0.625,
          0.875,
          0.875,
          0.6666666666666666,
          0.5416666666666666,
          0.75,
          0.75,
          0.8333333333333334,
          0.875,
          0.625,
          0.8333333333333334,
          0.6666666666666666,
          0.7916666666666666,
          0.7916666666666666,
          0.7916666666666666,
          0.875,
          0.8333333333333334,
          0.75,
          0.7083333333333334,
          0.9166666666666666,
          0.75,
          0.75,
          0.75,
          0.625,
          0.7916666666666666,
          0.8333333333333334,
          0.8333333333333334,
          0.75,
          0.9166666666666666,
          0.8333333333333334,
          0.9166666666666666,
          0.7083333333333334,
          0.8333333333333334,
          0.75,
          0.7916666666666666,
          0.7083333333333334,
          0.7083333333333334,
          0.7916666666666666,
          0.4583333333333333,
          0.75,
          0.8333333333333334,
          0.7083333333333334,
          0.9583333333333334,
          0.8333333333333334,
          0.7916666666666666,
          0.875,
          0.75,
          0.8333333333333334,
          0.875,
          0.875,
          0.6666666666666666,
          0.875,
          0.8333333333333334,
          0.6666666666666666,
          0.7916666666666666,
          0.4166666666666667,
          0.9166666666666666,
          0.75,
          0.625,
          0.9166666666666666,
          0.7916666666666666,
          0.7083333333333334,
          0.7083333333333334,
          0.875,
          0.7916666666666666,
          0.8333333333333334,
          0.7916666666666666,
          0.75,
          0.8333333333333334,
          0.6666666666666666,
          0.75,
          0.7916666666666666,
          0.75,
          0.9583333333333334,
          0.875,
          0.7083333333333334,
          0.7916666666666666,
          0.6666666666666666,
          0.8333333333333334,
          0.8333333333333334,
          0.8333333333333334,
          0.5416666666666666,
          0.7083333333333334,
          0.8333333333333334,
          0.75,
          0.8333333333333334,
          0.75,
          0.75,
          0.7916666666666666,
          0.7083333333333334,
          0.8333333333333334,
          0.8333333333333334,
          0.875,
          0.8333333333333334,
          0.6666666666666666,
          0.625,
          0.8333333333333334,
          0.9166666666666666,
          0.7083333333333334,
          0.75,
          0.75,
          0.9166666666666666,
          0.7083333333333334,
          0.8333333333333334,
          0.75,
          0.875,
          0.875,
          0.7916666666666666,
          0.9166666666666666,
          0.9583333333333334,
          0.875,
          0.8333333333333334,
          0.7083333333333334,
          0.7916666666666666,
          0.8333333333333334,
          0.7916666666666666,
          0.75,
          0.9166666666666666,
          0.7916666666666666,
          0.9166666666666666,
          0.75,
          0.625,
          0.6666666666666666,
          0.75,
          0.7083333333333334,
          0.75,
          0.75,
          0.875,
          0.75,
          0.75,
          0.9583333333333334,
          0.7916666666666666,
          0.75,
          0.7916666666666666,
          0.5416666666666666,
          0.75,
          0.7083333333333334,
          0.75,
          0.8333333333333334,
          0.8333333333333334,
          0.625,
          0.6666666666666666,
          0.7916666666666666,
          0.8333333333333334,
          0.7083333333333334,
          0.5833333333333334,
          0.75,
          0.875,
          0.6666666666666666,
          0.875,
          0.6666666666666666,
          0.7916666666666666,
          0.8333333333333334,
          0.5833333333333334,
          0.7916666666666666,
          0.75,
          0.875,
          0.8333333333333334,
          0.625,
          0.8333333333333334,
          0.6666666666666666,
          0.8333333333333334,
          0.7916666666666666,
          0.5833333333333334,
          0.5416666666666666,
          0.75,
          0.875,
          0.9166666666666666,
          0.375,
          0.7916666666666666,
          0.7916666666666666,
          0.875,
          0.875,
          0.5833333333333334,
          0.7916666666666666,
          0.7083333333333334,
          0.7916666666666666,
          0.625,
          0.75,
          0.6666666666666666,
          0.7916666666666666,
          0.9166666666666666,
          0.625,
          0.8333333333333334,
          0.7916666666666666,
          0.5833333333333334,
          0.8333333333333334,
          0.875,
          0.7916666666666666,
          0.6666666666666666,
          0.75,
          0.7083333333333334,
          0.875,
          0.6666666666666666,
          0.7916666666666666,
          0.75,
          0.9166666666666666,
          0.7083333333333334,
          0.8333333333333334,
          0.9583333333333334,
          0.625,
          0.5,
          0.7916666666666666,
          0.75,
          0.75,
          0.7916666666666666,
          0.7916666666666666,
          0.875,
          0.6666666666666666,
          0.9166666666666666,
          0.8333333333333334,
          0.8333333333333334,
          0.5833333333333334,
          0.5833333333333334,
          0.9166666666666666,
          0.6666666666666666,
          0.75,
          0.8333333333333334,
          0.7916666666666666,
          0.75,
          0.8333333333333334,
          0.75,
          0.875,
          0.75,
          0.7916666666666666,
          0.875,
          0.5833333333333334,
          0.625,
          0.625,
          0.9166666666666666,
          0.875,
          0.7916666666666666,
          0.5833333333333334,
          0.7916666666666666,
          0.9166666666666666,
          0.5833333333333334,
          0.6666666666666666,
          0.875,
          0.8333333333333334,
          0.6666666666666666,
          0.9166666666666666,
          0.9166666666666666,
          0.6666666666666666,
          0.75,
          0.9166666666666666,
          0.7083333333333334,
          0.875,
          0.9166666666666666,
          0.875,
          0.7916666666666666,
          0.5833333333333334,
          0.9166666666666666,
          0.75,
          0.7916666666666666,
          0.875,
          0.625,
          0.7083333333333334,
          0.75,
          0.9166666666666666,
          0.75,
          0.9166666666666666,
          0.875,
          0.625,
          0.6666666666666666,
          0.8333333333333334,
          0.625,
          0.6666666666666666,
          0.4583333333333333,
          0.7916666666666666,
          0.875,
          0.7916666666666666,
          0.5416666666666666,
          0.8333333333333334,
          0.7916666666666666,
          0.75,
          0.7916666666666666,
          0.7916666666666666,
          0.7916666666666666,
          0.75,
          0.875,
          0.9166666666666666,
          0.875,
          0.7083333333333334,
          0.625,
          0.875,
          0.75,
          0.625,
          0.8333333333333334,
          0.9166666666666666,
          0.875,
          0.8333333333333334,
          0.7916666666666666,
          0.7083333333333334,
          0.7083333333333334,
          0.6666666666666666,
          0.8333333333333334,
          0.6666666666666666,
          0.7083333333333334,
          0.7083333333333334,
          0.7916666666666666,
          0.8333333333333334,
          0.6666666666666666,
          0.8333333333333334,
          0.625,
          0.8333333333333334,
          0.7083333333333334,
          0.75,
          0.875,
          0.6666666666666666,
          0.8333333333333334,
          0.7916666666666666,
          0.875,
          0.625,
          0.6666666666666666,
          0.8333333333333334,
          0.7916666666666666,
          0.625,
          0.875,
          0.875,
          0.9166666666666666,
          0.8333333333333334,
          0.9583333333333334,
          0.8333333333333334,
          0.8333333333333334,
          0.8333333333333334,
          0.8333333333333334,
          0.8333333333333334,
          0.4166666666666667,
          0.7916666666666666,
          0.7083333333333334,
          0.7083333333333334,
          0.7916666666666666,
          0.625,
          0.7083333333333334,
          0.6666666666666666,
          0.75,
          0.9583333333333334,
          0.875,
          0.75,
          0.5833333333333334,
          0.8333333333333334,
          0.8333333333333334,
          0.7916666666666666,
          0.875,
          0.7916666666666666,
          0.9166666666666666,
          0.8333333333333334,
          0.9166666666666666,
          0.5833333333333334,
          0.7916666666666666,
          0.7916666666666666,
          0.8333333333333334,
          0.875,
          0.5,
          0.6666666666666666,
          0.8333333333333334,
          0.7083333333333334,
          0.7083333333333334,
          0.9166666666666666,
          0.7916666666666666,
          0.6666666666666666,
          0.8333333333333334,
          0.6666666666666666,
          0.75,
          0.75,
          0.6666666666666666,
          0.6666666666666666,
          0.875,
          0.7916666666666666,
          0.8333333333333334,
          0.7916666666666666,
          0.9166666666666666,
          0.75,
          0.9166666666666666,
          0.7916666666666666,
          0.625,
          0.875,
          0.75,
          0.6666666666666666,
          0.8333333333333334,
          0.9166666666666666,
          0.6666666666666666,
          0.875,
          0.7083333333333334,
          0.7916666666666666,
          0.875,
          0.875,
          0.625,
          0.875,
          0.8333333333333334,
          1,
          0.875,
          0.875,
          0.9166666666666666,
          0.875,
          0.6666666666666666,
          0.9583333333333334,
          0.8333333333333334,
          0.7916666666666666,
          0.75,
          0.875,
          0.9583333333333334,
          0.6666666666666666,
          0.7916666666666666,
          0.5833333333333334,
          0.9166666666666666,
          0.7916666666666666,
          0.75,
          0.875,
          0.9166666666666666,
          0.7916666666666666,
          0.8333333333333334,
          0.8333333333333334,
          0.6666666666666666,
          0.75,
          0.7916666666666666,
          0.5416666666666666,
          0.8333333333333334,
          0.9166666666666666,
          0.8333333333333334,
          0.8333333333333334,
          0.9166666666666666,
          0.8333333333333334,
          0.8333333333333334,
          0.8333333333333334,
          0.9583333333333334,
          0.875,
          0.875,
          0.7083333333333334,
          0.7083333333333334,
          0.75,
          0.9583333333333334,
          0.9583333333333334,
          0.9166666666666666,
          0.8333333333333334,
          0.875,
          0.625,
          0.75,
          0.875,
          0.75,
          0.875,
          0.6666666666666666,
          0.6666666666666666,
          0.875,
          0.625,
          0.9166666666666666,
          0.625,
          0.875,
          0.875,
          1,
          0.8333333333333334,
          0.8333333333333334,
          0.875,
          0.7916666666666666,
          0.7916666666666666,
          0.875,
          0.8333333333333334,
          0.5416666666666666,
          0.75,
          0.8333333333333334,
          0.7916666666666666,
          0.7083333333333334,
          0.875,
          0.8333333333333334,
          0.75,
          0.9583333333333334,
          0.875,
          0.625,
          0.625,
          0.875,
          0.75,
          0.7083333333333334,
          0.875,
          0.7916666666666666,
          0.75,
          0.625,
          0.9166666666666666,
          0.7916666666666666,
          0.75,
          0.875,
          0.7083333333333334,
          0.7916666666666666,
          0.8333333333333334,
          0.875,
          0.7916666666666666,
          0.7083333333333334,
          0.9583333333333334,
          0.8333333333333334,
          0.8333333333333334,
          0.875,
          0.8333333333333334,
          0.8333333333333334,
          0.875,
          0.7916666666666666,
          0.8333333333333334,
          0.875,
          0.875,
          0.6666666666666666,
          0.6666666666666666,
          0.7916666666666666,
          0.75,
          0.9166666666666666,
          0.8333333333333334,
          0.8333333333333334,
          0.875,
          0.875,
          0.9166666666666666,
          0.7083333333333334,
          0.8333333333333334,
          0.7916666666666666,
          0.8333333333333334,
          0.8333333333333334,
          0.7083333333333334,
          0.7083333333333334,
          0.8333333333333334,
          0.9166666666666666,
          0.8333333333333334,
          0.9166666666666666,
          0.8333333333333334,
          0.9583333333333334,
          0.9166666666666666,
          0.625,
          0.7083333333333334,
          0.8333333333333334,
          0.9166666666666666,
          0.9166666666666666,
          0.9166666666666666,
          0.875,
          0.9583333333333334,
          0.6666666666666666,
          0.7083333333333334,
          0.625,
          0.9583333333333334,
          0.9166666666666666,
          0.875,
          0.7916666666666666,
          0.75,
          0.7083333333333334,
          0.7916666666666666,
          0.8333333333333334,
          0.6666666666666666,
          0.8333333333333334,
          0.9166666666666666,
          0.75,
          0.5833333333333334,
          0.8333333333333334,
          0.875,
          0.625,
          0.875,
          0.7916666666666666,
          0.75,
          0.75,
          0.9583333333333334,
          0.8333333333333334,
          0.875,
          0.7083333333333334,
          0.8333333333333334,
          0.8333333333333334,
          0.5833333333333334,
          0.7916666666666666,
          0.875,
          0.625,
          0.7916666666666666,
          0.7916666666666666,
          0.7916666666666666,
          0.875,
          0.9583333333333334,
          0.875,
          0.7916666666666666,
          0.8333333333333334,
          0.7083333333333334,
          0.875,
          0.875,
          0.875,
          0.8333333333333334,
          0.75,
          0.8333333333333334,
          0.8333333333333334,
          0.7916666666666666,
          0.8333333333333334,
          0.7916666666666666,
          0.8333333333333334,
          0.7083333333333334,
          0.875,
          0.7083333333333334,
          0.875,
          0.875,
          0.6666666666666666,
          0.9583333333333334,
          0.8333333333333334,
          0.7083333333333334,
          0.7916666666666666,
          0.7916666666666666,
          0.9166666666666666,
          0.75,
          0.9583333333333334,
          0.7083333333333334,
          0.625,
          0.7083333333333334,
          0.7916666666666666,
          0.7916666666666666,
          0.7083333333333334,
          0.9583333333333334,
          0.5833333333333334,
          0.7916666666666666,
          0.875,
          0.75,
          0.9166666666666666,
          0.75,
          0.8333333333333334,
          0.875,
          0.7083333333333334,
          0.6666666666666666,
          0.8333333333333334,
          0.875,
          0.9166666666666666,
          0.75,
          0.75,
          0.8333333333333334,
          0.8333333333333334,
          0.9166666666666666,
          0.6666666666666666,
          0.6666666666666666,
          0.7916666666666666,
          0.75,
          0.8333333333333334,
          0.875,
          0.875,
          0.9166666666666666,
          0.7083333333333334,
          0.875,
          0.8333333333333334,
          0.875,
          0.75,
          0.8333333333333334,
          0.7916666666666666,
          0.8333333333333334,
          0.625,
          0.5833333333333334,
          0.7083333333333334,
          0.9166666666666666,
          0.7916666666666666,
          0.625,
          0.6666666666666666,
          0.6666666666666666,
          0.7916666666666666,
          0.7916666666666666,
          0.7916666666666666,
          0.8333333333333334,
          0.875,
          0.6666666666666666,
          0.7916666666666666,
          0.7916666666666666,
          0.75,
          0.9166666666666666,
          0.9166666666666666,
          0.875,
          0.6666666666666666,
          0.7916666666666666,
          0.875,
          0.7083333333333334,
          0.9166666666666666,
          0.8333333333333334,
          0.875,
          0.7916666666666666,
          0.7916666666666666,
          0.9166666666666666,
          0.7083333333333334,
          0.8333333333333334,
          0.9583333333333334,
          0.875,
          0.5416666666666666,
          0.75,
          0.9166666666666666,
          0.8333333333333334,
          0.7916666666666666,
          0.9166666666666666,
          0.875,
          0.9583333333333334,
          0.7916666666666666,
          0.875,
          0.8333333333333334,
          0.5833333333333334,
          0.9166666666666666,
          0.7083333333333334,
          0.7916666666666666,
          0.7083333333333334,
          0.75,
          0.7916666666666666,
          0.8333333333333334,
          0.75,
          0.75,
          0.75,
          0.7083333333333334,
          0.7916666666666666,
          0.7916666666666666,
          0.7916666666666666,
          0.875,
          0.7083333333333334,
          0.875,
          0.7083333333333334,
          0.8333333333333334,
          0.6666666666666666,
          0.625,
          0.6666666666666666,
          0.9583333333333334,
          0.9166666666666666,
          0.8333333333333334,
          0.7083333333333334,
          0.9166666666666666,
          0.9583333333333334,
          0.8333333333333334,
          0.875,
          0.875,
          0.7916666666666666,
          0.7916666666666666,
          0.7916666666666666,
          0.9166666666666666,
          0.8333333333333334,
          1,
          1,
          0.6666666666666666,
          0.9583333333333334,
          0.8333333333333334,
          0.5416666666666666,
          0.9166666666666666,
          0.5833333333333334,
          0.6666666666666666,
          0.6666666666666666,
          0.75,
          0.7916666666666666,
          0.75,
          0.875,
          0.9166666666666666,
          0.875,
          0.7916666666666666,
          0.8333333333333334,
          0.9166666666666666,
          0.7916666666666666,
          0.75,
          0.7916666666666666,
          0.75,
          0.8333333333333334,
          0.7916666666666666,
          0.8333333333333334,
          1,
          0.7916666666666666,
          0.75,
          0.75,
          0.9166666666666666,
          0.625,
          0.875,
          0.7083333333333334,
          0.625,
          0.7916666666666666,
          0.9166666666666666,
          0.875,
          0.7916666666666666,
          0.875,
          0.75,
          0.875,
          0.75,
          0.9583333333333334,
          0.875,
          0.625,
          0.6666666666666666,
          0.9166666666666666,
          0.875,
          0.6666666666666666,
          0.75,
          0.875,
          0.8333333333333334,
          0.7916666666666666,
          0.9166666666666666,
          0.7916666666666666,
          0.8333333333333334,
          0.75,
          0.7916666666666666,
          0.9583333333333334,
          0.875,
          0.8333333333333334,
          0.7916666666666666,
          0.875,
          0.875,
          0.8333333333333334,
          0.7083333333333334,
          0.7083333333333334,
          0.875,
          0.75,
          0.9583333333333334,
          0.875,
          0.7083333333333334,
          0.7916666666666666,
          0.8333333333333334,
          0.7916666666666666,
          0.7916666666666666,
          0.7083333333333334,
          1,
          0.8333333333333334,
          0.8333333333333334,
          0.875,
          0.7916666666666666,
          0.7916666666666666,
          0.8333333333333334,
          1,
          0.8333333333333334,
          0.75,
          0.7916666666666666,
          0.875,
          0.7916666666666666,
          0.75,
          0.8333333333333334,
          0.9166666666666666,
          0.7916666666666666,
          0.5833333333333334,
          0.7916666666666666,
          0.875,
          0.875,
          0.875,
          0.875,
          0.875,
          0.75,
          0.7916666666666666,
          0.9583333333333334,
          0.875,
          0.7916666666666666,
          0.875,
          0.875,
          0.7916666666666666,
          0.8333333333333334,
          0.7083333333333334,
          0.875,
          0.9166666666666666,
          0.7916666666666666,
          0.875,
          0.7083333333333334,
          0.875,
          0.75,
          0.6666666666666666,
          0.9166666666666666,
          0.875,
          0.8333333333333334,
          0.875,
          0.7083333333333334,
          0.75,
          0.6666666666666666,
          0.6666666666666666,
          0.9166666666666666,
          0.9166666666666666,
          0.75,
          0.9166666666666666,
          0.7916666666666666,
          0.8333333333333334,
          0.875,
          0.875,
          0.7916666666666666,
          0.5833333333333334,
          0.8333333333333334,
          0.9166666666666666,
          0.9583333333333334,
          0.75,
          0.8333333333333334,
          0.625,
          0.9166666666666666,
          0.8333333333333334,
          0.7916666666666666,
          0.75,
          0.8333333333333334,
          0.7916666666666666,
          0.875,
          0.8333333333333334,
          0.8333333333333334,
          0.7916666666666666,
          0.875,
          0.8333333333333334,
          0.875,
          1,
          0.7083333333333334,
          0.7916666666666666,
          0.8333333333333334,
          0.8333333333333334,
          0.875,
          0.9166666666666666,
          0.875,
          0.9166666666666666,
          0.7916666666666666,
          0.7916666666666666,
          0.8333333333333334,
          0.875,
          0.8333333333333334,
          0.7916666666666666,
          0.625,
          0.7916666666666666,
          0.75,
          0.5833333333333334,
          0.9583333333333334,
          0.7083333333333334,
          0.7083333333333334,
          0.7916666666666666,
          0.7916666666666666,
          0.875,
          0.7083333333333334,
          0.75,
          0.7083333333333334,
          0.9583333333333334,
          0.9583333333333334,
          0.875,
          0.875,
          0.8333333333333334,
          0.75,
          0.7916666666666666,
          0.7083333333333334,
          0.7083333333333334,
          0.7083333333333334,
          0.9166666666666666,
          0.7916666666666666,
          0.875,
          0.75,
          0.9583333333333334,
          0.8333333333333334,
          0.7083333333333334,
          0.875,
          0.8333333333333334,
          0.625,
          0.75,
          0.75,
          0.6666666666666666,
          0.7916666666666666,
          0.9166666666666666,
          0.9166666666666666,
          0.9583333333333334,
          0.7916666666666666,
          0.8333333333333334,
          0.875,
          0.9166666666666666,
          0.9166666666666666,
          0.7916666666666666,
          0.6666666666666666,
          0.875,
          0.625,
          0.8333333333333334,
          0.6666666666666666,
          0.6666666666666666,
          0.875,
          0.8333333333333334,
          0.8333333333333334,
          0.625,
          0.75,
          0.7916666666666666,
          0.875,
          0.75,
          0.875,
          0.7083333333333334,
          0.7083333333333334,
          0.9166666666666666,
          0.7916666666666666,
          0.8333333333333334,
          0.9166666666666666,
          0.7916666666666666,
          0.8333333333333334,
          0.75,
          0.9583333333333334,
          0.9583333333333334,
          0.9583333333333334,
          0.7083333333333334,
          0.75,
          0.9166666666666666,
          0.7916666666666666,
          0.7916666666666666,
          0.9583333333333334,
          0.9166666666666666,
          0.875,
          0.7083333333333334,
          0.7916666666666666,
          0.75,
          0.75,
          0.7083333333333334,
          0.8333333333333334,
          0.875,
          0.875,
          0.7083333333333334,
          0.9166666666666666,
          0.875,
          0.75,
          0.9583333333333334,
          0.7083333333333334,
          0.8333333333333334,
          0.8333333333333334,
          0.8333333333333334,
          0.625,
          0.8333333333333334,
          0.8333333333333334,
          0.9583333333333334,
          0.75,
          0.9583333333333334,
          1,
          0.9583333333333334,
          0.8333333333333334,
          0.7916666666666666,
          0.875,
          0.7916666666666666,
          0.7083333333333334,
          0.7083333333333334,
          0.875,
          0.875,
          0.75,
          0.9166666666666666,
          0.875,
          0.8333333333333334,
          0.9166666666666666,
          0.8333333333333334,
          0.9583333333333334,
          0.75,
          0.75,
          0.75,
          0.7916666666666666,
          0.875,
          0.8333333333333334,
          0.7083333333333334,
          0.8333333333333334,
          0.9166666666666666,
          0.7083333333333334,
          0.75,
          0.75,
          0.9583333333333334,
          0.9166666666666666,
          0.9583333333333334,
          0.8333333333333334,
          0.9166666666666666,
          0.7083333333333334,
          0.75,
          0.875,
          0.8333333333333334,
          0.7083333333333334,
          0.7916666666666666,
          0.8333333333333334,
          0.8333333333333334,
          0.875,
          0.875,
          0.7916666666666666,
          0.8333333333333334,
          0.75,
          0.8333333333333334,
          0.7083333333333334,
          0.9166666666666666,
          0.9166666666666666,
          0.7083333333333334,
          0.9166666666666666,
          0.9166666666666666,
          0.875,
          0.9166666666666666,
          0.9583333333333334,
          0.7916666666666666,
          0.875,
          0.9166666666666666,
          0.75,
          0.8333333333333334,
          0.875,
          0.875,
          0.5833333333333334,
          0.9583333333333334,
          0.75,
          0.8333333333333334,
          1,
          0.9166666666666666,
          0.7916666666666666,
          0.75,
          0.7916666666666666,
          0.7083333333333334,
          0.8333333333333334,
          0.875,
          0.9583333333333334,
          0.875,
          0.8333333333333334,
          0.6666666666666666,
          0.9583333333333334,
          0.8333333333333334,
          0.7083333333333334,
          0.8333333333333334,
          0.875,
          0.9166666666666666,
          0.875,
          0.75,
          0.9166666666666666,
          0.9166666666666666,
          0.75,
          0.7083333333333334,
          0.7916666666666666,
          0.875,
          0.9166666666666666,
          0.75,
          0.9166666666666666,
          0.8333333333333334,
          0.8333333333333334,
          0.625,
          0.6666666666666666,
          0.7083333333333334,
          0.8333333333333334,
          0.75,
          0.7916666666666666,
          0.8333333333333334,
          0.9166666666666666,
          0.9166666666666666,
          0.9583333333333334,
          0.7916666666666666,
          0.875,
          0.8333333333333334,
          0.7916666666666666,
          0.7916666666666666,
          0.8333333333333334,
          0.9166666666666666,
          0.7083333333333334,
          0.625,
          0.75,
          0.6666666666666666,
          0.7083333333333334,
          0.8333333333333334,
          0.9166666666666666,
          0.875,
          0.8333333333333334,
          0.7916666666666666,
          0.7916666666666666,
          0.7916666666666666,
          0.875,
          0.9166666666666666,
          0.625,
          0.8333333333333334,
          0.875,
          0.9583333333333334,
          0.7083333333333334,
          0.8333333333333334,
          0.875,
          0.625,
          0.75,
          0.9583333333333334,
          0.75,
          0.7083333333333334,
          0.7916666666666666,
          0.875,
          0.9166666666666666,
          0.875,
          0.9583333333333334,
          0.7916666666666666,
          0.8333333333333334,
          0.7083333333333334,
          0.75,
          0.75,
          0.7083333333333334,
          0.7916666666666666,
          0.75,
          1,
          0.7916666666666666,
          0.8333333333333334,
          0.7916666666666666,
          0.7916666666666666,
          0.9166666666666666,
          0.875,
          0.875,
          0.6666666666666666,
          0.8333333333333334,
          0.7083333333333334,
          0.8333333333333334,
          0.8333333333333334,
          0.9166666666666666,
          0.7916666666666666,
          0.8333333333333334,
          0.875,
          0.9166666666666666,
          0.9583333333333334,
          0.6666666666666666,
          0.9583333333333334,
          0.9166666666666666,
          0.7083333333333334,
          0.9166666666666666,
          0.75,
          0.7916666666666666,
          0.9166666666666666,
          0.75,
          0.875,
          0.6666666666666666,
          0.9583333333333334,
          0.5833333333333334,
          0.6666666666666666,
          0.9583333333333334,
          0.7916666666666666,
          0.875,
          0.8333333333333334,
          0.9166666666666666,
          0.875,
          0.8333333333333334,
          0.625,
          0.7916666666666666,
          0.7916666666666666,
          0.8333333333333334,
          0.9583333333333334,
          0.75,
          0.8333333333333334,
          0.9583333333333334,
          0.875,
          0.9583333333333334,
          0.6666666666666666,
          0.9166666666666666,
          1,
          0.9583333333333334,
          0.5416666666666666,
          0.875,
          0.875,
          0.875,
          0.9583333333333334,
          0.7916666666666666,
          0.9166666666666666,
          0.6666666666666666,
          0.5833333333333334,
          0.9166666666666666,
          0.8333333333333334,
          0.7916666666666666,
          0.8333333333333334,
          0.8333333333333334,
          0.9583333333333334,
          0.7916666666666666,
          0.875,
          0.8333333333333334,
          0.75,
          0.8333333333333334,
          0.9166666666666666,
          0.7083333333333334,
          0.9166666666666666,
          0.875,
          0.875,
          0.875,
          0.7083333333333334,
          0.875,
          0.9166666666666666,
          0.8333333333333334,
          0.875,
          0.875,
          0.875,
          0.875,
          0.8333333333333334,
          0.6666666666666666,
          0.9166666666666666,
          0.8333333333333334,
          0.9166666666666666,
          0.875,
          0.7916666666666666,
          0.8333333333333334,
          0.7916666666666666,
          0.75,
          0.7083333333333334,
          0.875,
          0.75,
          0.8333333333333334,
          0.9583333333333334,
          0.9583333333333334,
          0.6666666666666666,
          0.7916666666666666,
          0.7916666666666666,
          0.5833333333333334,
          0.9166666666666666,
          0.8333333333333334,
          0.8333333333333334,
          0.9166666666666666,
          0.7083333333333334,
          0.875,
          0.875,
          0.875,
          0.7916666666666666,
          0.7916666666666666,
          0.875,
          1,
          0.875,
          0.75,
          0.75,
          0.75,
          0.7916666666666666,
          0.875,
          0.625,
          0.7916666666666666,
          0.6666666666666666,
          0.75,
          0.8333333333333334,
          0.9166666666666666,
          0.875,
          0.75,
          0.9166666666666666,
          0.7916666666666666,
          0.75,
          0.8333333333333334,
          0.7916666666666666,
          0.875,
          0.8333333333333334,
          0.7916666666666666,
          0.7916666666666666,
          0.7083333333333334,
          0.75,
          0.8333333333333334,
          0.9583333333333334,
          0.9583333333333334,
          0.75,
          0.6666666666666666,
          0.7916666666666666,
          0.875,
          0.8333333333333334,
          0.75,
          0.6666666666666666,
          0.7916666666666666,
          0.625,
          0.9583333333333334,
          0.7083333333333334,
          0.8333333333333334,
          0.7083333333333334,
          0.875,
          0.7916666666666666,
          0.875,
          0.7916666666666666,
          0.7916666666666666,
          0.8333333333333334,
          0.8333333333333334,
          0.9166666666666666,
          0.7083333333333334,
          0.9166666666666666,
          0.9166666666666666,
          0.7916666666666666,
          0.6666666666666666,
          0.9166666666666666,
          0.8333333333333334,
          0.875,
          0.7916666666666666,
          0.9583333333333334,
          0.8333333333333334,
          0.9583333333333334,
          0.875,
          0.7083333333333334,
          0.7916666666666666,
          0.875,
          0.7916666666666666,
          0.875,
          0.7916666666666666,
          0.7083333333333334,
          0.7083333333333334,
          0.875,
          0.9583333333333334,
          0.9166666666666666,
          0.75,
          0.7916666666666666,
          0.7083333333333334,
          0.875,
          0.625,
          0.8333333333333334,
          0.7916666666666666,
          0.875,
          0.875,
          0.5833333333333334,
          0.75,
          0.75,
          0.6666666666666666,
          0.75,
          0.7916666666666666,
          0.875,
          0.7083333333333334,
          0.8333333333333334,
          0.7083333333333334,
          0.875,
          0.9166666666666666,
          0.7916666666666666,
          0.8333333333333334,
          0.875,
          0.875,
          0.9166666666666666,
          0.7916666666666666,
          0.7083333333333334,
          0.7916666666666666,
          0.75,
          0.875,
          0.875,
          0.8333333333333334,
          0.875,
          0.75,
          0.8333333333333334,
          0.9166666666666666,
          0.7916666666666666,
          0.9166666666666666,
          0.7916666666666666,
          0.7916666666666666,
          0.8333333333333334,
          0.75,
          0.7083333333333334,
          0.8333333333333334,
          0.9166666666666666,
          0.5833333333333334,
          0.75,
          1,
          0.7916666666666666,
          0.7916666666666666,
          0.7916666666666666,
          0.5833333333333334,
          0.75,
          0.625,
          0.7916666666666666,
          0.6666666666666666,
          0.8333333333333334,
          0.75,
          0.8333333333333334,
          0.6666666666666666,
          0.7916666666666666,
          0.625,
          0.8333333333333334,
          0.7916666666666666,
          0.8333333333333334,
          0.8333333333333334,
          0.6666666666666666,
          0.8333333333333334,
          0.5833333333333334,
          0.8333333333333334,
          0.6666666666666666,
          0.875,
          0.8333333333333334,
          0.75,
          0.6666666666666666,
          0.7916666666666666,
          0.7083333333333334,
          0.7916666666666666,
          0.8333333333333334,
          0.9583333333333334,
          0.9166666666666666,
          1,
          0.7083333333333334,
          0.9583333333333334,
          1,
          0.7916666666666666,
          0.875,
          0.6666666666666666,
          0.5833333333333334,
          0.9166666666666666,
          0.875,
          0.7916666666666666,
          0.8333333333333334,
          0.75,
          0.9166666666666666,
          0.9166666666666666,
          0.5833333333333334,
          0.875,
          0.75,
          0.875,
          0.75,
          0.9166666666666666,
          0.7916666666666666,
          0.875,
          0.875,
          0.9583333333333334,
          0.7916666666666666,
          0.75,
          0.8333333333333334,
          0.75,
          0.75,
          0.9166666666666666,
          0.875,
          0.7916666666666666,
          0.9166666666666666,
          0.9583333333333334,
          0.875,
          0.9166666666666666,
          0.75,
          0.875,
          0.9583333333333334,
          0.875,
          0.7083333333333334,
          0.9583333333333334,
          0.75,
          0.75,
          0.9583333333333334,
          0.7916666666666666,
          0.75,
          0.875,
          0.6666666666666666,
          0.7083333333333334,
          0.8333333333333334,
          0.7916666666666666,
          0.625,
          1,
          0.8333333333333334,
          0.8333333333333334,
          0.7083333333333334,
          0.9583333333333334,
          1,
          0.8333333333333334,
          0.8333333333333334,
          0.7916666666666666,
          0.6666666666666666,
          0.9583333333333334,
          0.875,
          0.8333333333333334,
          0.8333333333333334,
          0.7916666666666666,
          0.875,
          0.8333333333333334,
          0.6666666666666666,
          0.7916666666666666,
          0.875,
          0.875,
          0.8333333333333334,
          0.7916666666666666,
          0.7916666666666666,
          0.8333333333333334,
          0.7916666666666666,
          0.875,
          0.875,
          0.7083333333333334,
          0.8333333333333334,
          0.8333333333333334,
          0.7083333333333334,
          0.75,
          0.7916666666666666,
          0.875,
          0.7916666666666666,
          0.8333333333333334,
          1,
          0.7916666666666666,
          0.7083333333333334,
          0.8333333333333334,
          0.8333333333333334,
          0.8333333333333334,
          0.9166666666666666,
          0.9583333333333334,
          0.75,
          0.4583333333333333,
          0.8333333333333334,
          0.9166666666666666,
          0.6666666666666666,
          0.875,
          0.75,
          0.875,
          0.9166666666666666,
          0.875,
          0.875,
          0.7916666666666666,
          0.7916666666666666,
          0.9166666666666666,
          0.7083333333333334,
          0.9166666666666666,
          0.875,
          0.75,
          0.875,
          0.875,
          0.9166666666666666,
          0.875,
          0.8333333333333334,
          0.7916666666666666,
          0.875,
          0.875,
          0.875,
          0.9166666666666666,
          0.75,
          0.875,
          0.5833333333333334,
          0.8333333333333334,
          0.875,
          0.9583333333333334,
          0.9166666666666666,
          0.6666666666666666,
          0.8333333333333334,
          0.7916666666666666,
          0.9583333333333334,
          0.7916666666666666,
          0.7083333333333334,
          0.9583333333333334,
          0.7083333333333334,
          0.9166666666666666,
          0.7916666666666666,
          0.8333333333333334,
          0.9166666666666666,
          0.7916666666666666,
          0.9583333333333334,
          0.8333333333333334,
          0.75,
          0.875,
          0.875,
          0.9166666666666666,
          0.7083333333333334,
          0.875,
          0.9166666666666666,
          0.9583333333333334,
          0.8333333333333334,
          0.7083333333333334,
          0.9583333333333334,
          0.9583333333333334,
          0.8333333333333334,
          0.8333333333333334,
          0.7916666666666666,
          0.4166666666666667,
          0.6666666666666666,
          0.9583333333333334,
          0.8333333333333334,
          0.8333333333333334,
          0.625,
          0.875,
          0.7916666666666666,
          0.7916666666666666,
          0.8333333333333334,
          0.7916666666666666,
          0.7083333333333334,
          0.875,
          0.875,
          0.2083333333333333,
          0.875,
          0.875,
          0.875,
          0.625,
          0.6666666666666666,
          0.9583333333333334,
          0.6666666666666666,
          0.7916666666666666,
          0.7083333333333334,
          0.5833333333333334,
          0.625,
          0.75,
          0.5,
          0.75,
          0.9583333333333334,
          0.9166666666666666,
          0.8333333333333334,
          1,
          0.9166666666666666,
          0.9166666666666666,
          0.7083333333333334,
          0.9583333333333334,
          0.75,
          0.9166666666666666,
          0.875,
          0.9166666666666666,
          0.9166666666666666,
          0.625,
          0.7916666666666666,
          0.75,
          0.8333333333333334,
          0.8333333333333334,
          0.875,
          0.625,
          0.8333333333333334,
          0.875,
          0.7916666666666666,
          0.75,
          0.8333333333333334,
          0.8333333333333334,
          0.875,
          0.875,
          0.7083333333333334,
          0.875,
          0.9166666666666666,
          0.8333333333333334,
          0.6666666666666666,
          0.8333333333333334,
          0.7916666666666666,
          0.5833333333333334,
          0.7083333333333334,
          0.8333333333333334,
          0.7916666666666666,
          0.5416666666666666,
          0.8333333333333334,
          0.7916666666666666,
          0.625,
          0.7083333333333334,
          0.7916666666666666,
          0.5833333333333334,
          0.8333333333333334,
          0.9166666666666666,
          0.7083333333333334,
          0.6666666666666666,
          0.75,
          0.6666666666666666,
          0.5833333333333334,
          0.6666666666666666,
          0.8333333333333334,
          0.875,
          0.7083333333333334,
          0.8333333333333334,
          0.75,
          0.75,
          0.7083333333333334,
          0.875,
          0.7083333333333334,
          0.625,
          0.7083333333333334,
          0.625,
          0.875,
          0.8333333333333334,
          0.8333333333333334,
          0.9166666666666666,
          0.8333333333333334,
          0.875,
          0.7916666666666666,
          0.75,
          0.875,
          0.875,
          0.9166666666666666,
          0.7916666666666666,
          0.7916666666666666,
          0.9166666666666666,
          0.625,
          0.8333333333333334,
          0.75,
          0.8333333333333334,
          0.75,
          0.8333333333333334,
          0.8333333333333334,
          0.875,
          0.7083333333333334,
          0.8333333333333334,
          0.75,
          0.875,
          0.875,
          0.875,
          0.9583333333333334,
          0.5416666666666666,
          0.7916666666666666,
          0.625,
          0.75,
          0.8333333333333334,
          1,
          0.7916666666666666,
          0.875,
          0.6666666666666666,
          0.75,
          0.7916666666666666,
          0.8333333333333334,
          0.75,
          0.75,
          0.7916666666666666,
          0.8333333333333334,
          0.7083333333333334,
          0.8333333333333334,
          0.8333333333333334,
          0.7916666666666666,
          0.8333333333333334,
          0.875,
          0.9166666666666666,
          0.75,
          0.9166666666666666,
          0.8333333333333334,
          0.6666666666666666,
          0.9166666666666666,
          0.75,
          0.7916666666666666,
          0.7916666666666666,
          0.8333333333333334,
          0.9166666666666666,
          0.5,
          0.7916666666666666,
          0.6666666666666666,
          0.875,
          0.875,
          0.7916666666666666,
          0.875,
          0.9166666666666666,
          0.75,
          0.8333333333333334,
          0.9583333333333334,
          0.7083333333333334,
          0.9166666666666666,
          0.5833333333333334,
          0.875,
          0.9583333333333334,
          0.9166666666666666,
          0.9583333333333334,
          0.9583333333333334,
          0.9583333333333334,
          0.875,
          0.9166666666666666,
          0.9583333333333334,
          0.9166666666666666,
          0.75,
          0.7916666666666666,
          0.875,
          0.8333333333333334,
          0.9583333333333334,
          0.7916666666666666,
          0.6666666666666666,
          0.875,
          0.75,
          0.875,
          0.7916666666666666,
          0.875,
          0.875,
          0.9166666666666666,
          0.875,
          0.75,
          0.8333333333333334,
          0.8333333333333334,
          0.7916666666666666,
          0.875,
          0.7916666666666666,
          0.6666666666666666,
          0.625,
          0.8333333333333334,
          0.7916666666666666,
          0.8333333333333334,
          0.75,
          0.8333333333333334,
          0.8333333333333334,
          0.9166666666666666,
          0.625,
          0.75,
          0.875,
          0.7916666666666666,
          0.8333333333333334,
          0.9166666666666666,
          0.9166666666666666,
          0.8333333333333334,
          0.8333333333333334,
          0.7083333333333334,
          0.6666666666666666,
          0.7083333333333334,
          0.7916666666666666,
          0.9166666666666666,
          0.9166666666666666,
          0.9583333333333334,
          0.8333333333333334,
          0.8333333333333334,
          0.875,
          0.7916666666666666,
          0.9583333333333334,
          0.7916666666666666,
          0.875,
          0.875,
          0.875,
          0.875,
          0.8333333333333334,
          0.875,
          0.8333333333333334,
          0.4166666666666667,
          0.625,
          0.8333333333333334,
          0.7916666666666666,
          0.875,
          0.75,
          0.875,
          0.75,
          0.9166666666666666,
          0.9583333333333334,
          0.5416666666666666,
          0.9166666666666666,
          0.875,
          0.875,
          0.875,
          0.875,
          0.7916666666666666,
          0.9166666666666666,
          0.9583333333333334,
          0.9166666666666666,
          0.875,
          0.9166666666666666,
          0.75,
          0.875,
          0.8333333333333334,
          0.7916666666666666,
          0.75,
          0.7916666666666666,
          0.8333333333333334,
          0.875,
          0.875,
          0.8333333333333334,
          0.6666666666666666,
          0.875,
          0.6666666666666666,
          0.8333333333333334,
          0.75,
          0.7916666666666666,
          0.8333333333333334,
          0.8333333333333334,
          0.7916666666666666,
          0.7916666666666666,
          0.75,
          0.7916666666666666,
          0.7916666666666666,
          0.6666666666666666,
          0.6666666666666666,
          0.9583333333333334,
          0.9166666666666666,
          0.9166666666666666,
          0.8333333333333334,
          0.8333333333333334,
          0.8333333333333334,
          0.8333333333333334,
          0.875,
          0.8333333333333334,
          0.875,
          0.875,
          0.875,
          0.75,
          0.875,
          0.7916666666666666,
          0.8333333333333334,
          0.9166666666666666,
          0.9166666666666666,
          0.9583333333333334,
          0.7916666666666666,
          0.9583333333333334,
          0.9583333333333334,
          0.8333333333333334,
          0.8333333333333334,
          0.8333333333333334,
          0.8333333333333334,
          0.7916666666666666,
          0.8333333333333334,
          0.9166666666666666,
          0.7916666666666666,
          0.625,
          0.7916666666666666,
          0.7916666666666666,
          0.9166666666666666,
          0.7916666666666666
         ],
         "xaxis": "x",
         "yaxis": "y"
        }
       ],
       "layout": {
        "barmode": "relative",
        "legend": {
         "tracegroupgap": 0
        },
        "margin": {
         "t": 60
        },
        "shapes": [
         {
          "line": {
           "color": "red",
           "width": 2
          },
          "type": "line",
          "x0": 0.8007416666666666,
          "x1": 0.8007416666666666,
          "xref": "x",
          "y0": 0,
          "y1": 1,
          "yref": "y domain"
         },
         {
          "line": {
           "color": "orange",
           "width": 2
          },
          "type": "line",
          "x0": 0.75,
          "x1": 0.75,
          "xref": "x",
          "y0": 0,
          "y1": 1,
          "yref": "y domain"
         },
         {
          "line": {
           "color": "green",
           "width": 2
          },
          "type": "line",
          "x0": 0.875,
          "x1": 0.875,
          "xref": "x",
          "y0": 0,
          "y1": 1,
          "yref": "y domain"
         }
        ],
        "template": {
         "data": {
          "bar": [
           {
            "error_x": {
             "color": "#2a3f5f"
            },
            "error_y": {
             "color": "#2a3f5f"
            },
            "marker": {
             "line": {
              "color": "#E5ECF6",
              "width": 0.5
             },
             "pattern": {
              "fillmode": "overlay",
              "size": 10,
              "solidity": 0.2
             }
            },
            "type": "bar"
           }
          ],
          "barpolar": [
           {
            "marker": {
             "line": {
              "color": "#E5ECF6",
              "width": 0.5
             },
             "pattern": {
              "fillmode": "overlay",
              "size": 10,
              "solidity": 0.2
             }
            },
            "type": "barpolar"
           }
          ],
          "carpet": [
           {
            "aaxis": {
             "endlinecolor": "#2a3f5f",
             "gridcolor": "white",
             "linecolor": "white",
             "minorgridcolor": "white",
             "startlinecolor": "#2a3f5f"
            },
            "baxis": {
             "endlinecolor": "#2a3f5f",
             "gridcolor": "white",
             "linecolor": "white",
             "minorgridcolor": "white",
             "startlinecolor": "#2a3f5f"
            },
            "type": "carpet"
           }
          ],
          "choropleth": [
           {
            "colorbar": {
             "outlinewidth": 0,
             "ticks": ""
            },
            "type": "choropleth"
           }
          ],
          "contour": [
           {
            "colorbar": {
             "outlinewidth": 0,
             "ticks": ""
            },
            "colorscale": [
             [
              0,
              "#0d0887"
             ],
             [
              0.1111111111111111,
              "#46039f"
             ],
             [
              0.2222222222222222,
              "#7201a8"
             ],
             [
              0.3333333333333333,
              "#9c179e"
             ],
             [
              0.4444444444444444,
              "#bd3786"
             ],
             [
              0.5555555555555556,
              "#d8576b"
             ],
             [
              0.6666666666666666,
              "#ed7953"
             ],
             [
              0.7777777777777778,
              "#fb9f3a"
             ],
             [
              0.8888888888888888,
              "#fdca26"
             ],
             [
              1,
              "#f0f921"
             ]
            ],
            "type": "contour"
           }
          ],
          "contourcarpet": [
           {
            "colorbar": {
             "outlinewidth": 0,
             "ticks": ""
            },
            "type": "contourcarpet"
           }
          ],
          "heatmap": [
           {
            "colorbar": {
             "outlinewidth": 0,
             "ticks": ""
            },
            "colorscale": [
             [
              0,
              "#0d0887"
             ],
             [
              0.1111111111111111,
              "#46039f"
             ],
             [
              0.2222222222222222,
              "#7201a8"
             ],
             [
              0.3333333333333333,
              "#9c179e"
             ],
             [
              0.4444444444444444,
              "#bd3786"
             ],
             [
              0.5555555555555556,
              "#d8576b"
             ],
             [
              0.6666666666666666,
              "#ed7953"
             ],
             [
              0.7777777777777778,
              "#fb9f3a"
             ],
             [
              0.8888888888888888,
              "#fdca26"
             ],
             [
              1,
              "#f0f921"
             ]
            ],
            "type": "heatmap"
           }
          ],
          "heatmapgl": [
           {
            "colorbar": {
             "outlinewidth": 0,
             "ticks": ""
            },
            "colorscale": [
             [
              0,
              "#0d0887"
             ],
             [
              0.1111111111111111,
              "#46039f"
             ],
             [
              0.2222222222222222,
              "#7201a8"
             ],
             [
              0.3333333333333333,
              "#9c179e"
             ],
             [
              0.4444444444444444,
              "#bd3786"
             ],
             [
              0.5555555555555556,
              "#d8576b"
             ],
             [
              0.6666666666666666,
              "#ed7953"
             ],
             [
              0.7777777777777778,
              "#fb9f3a"
             ],
             [
              0.8888888888888888,
              "#fdca26"
             ],
             [
              1,
              "#f0f921"
             ]
            ],
            "type": "heatmapgl"
           }
          ],
          "histogram": [
           {
            "marker": {
             "pattern": {
              "fillmode": "overlay",
              "size": 10,
              "solidity": 0.2
             }
            },
            "type": "histogram"
           }
          ],
          "histogram2d": [
           {
            "colorbar": {
             "outlinewidth": 0,
             "ticks": ""
            },
            "colorscale": [
             [
              0,
              "#0d0887"
             ],
             [
              0.1111111111111111,
              "#46039f"
             ],
             [
              0.2222222222222222,
              "#7201a8"
             ],
             [
              0.3333333333333333,
              "#9c179e"
             ],
             [
              0.4444444444444444,
              "#bd3786"
             ],
             [
              0.5555555555555556,
              "#d8576b"
             ],
             [
              0.6666666666666666,
              "#ed7953"
             ],
             [
              0.7777777777777778,
              "#fb9f3a"
             ],
             [
              0.8888888888888888,
              "#fdca26"
             ],
             [
              1,
              "#f0f921"
             ]
            ],
            "type": "histogram2d"
           }
          ],
          "histogram2dcontour": [
           {
            "colorbar": {
             "outlinewidth": 0,
             "ticks": ""
            },
            "colorscale": [
             [
              0,
              "#0d0887"
             ],
             [
              0.1111111111111111,
              "#46039f"
             ],
             [
              0.2222222222222222,
              "#7201a8"
             ],
             [
              0.3333333333333333,
              "#9c179e"
             ],
             [
              0.4444444444444444,
              "#bd3786"
             ],
             [
              0.5555555555555556,
              "#d8576b"
             ],
             [
              0.6666666666666666,
              "#ed7953"
             ],
             [
              0.7777777777777778,
              "#fb9f3a"
             ],
             [
              0.8888888888888888,
              "#fdca26"
             ],
             [
              1,
              "#f0f921"
             ]
            ],
            "type": "histogram2dcontour"
           }
          ],
          "mesh3d": [
           {
            "colorbar": {
             "outlinewidth": 0,
             "ticks": ""
            },
            "type": "mesh3d"
           }
          ],
          "parcoords": [
           {
            "line": {
             "colorbar": {
              "outlinewidth": 0,
              "ticks": ""
             }
            },
            "type": "parcoords"
           }
          ],
          "pie": [
           {
            "automargin": true,
            "type": "pie"
           }
          ],
          "scatter": [
           {
            "fillpattern": {
             "fillmode": "overlay",
             "size": 10,
             "solidity": 0.2
            },
            "type": "scatter"
           }
          ],
          "scatter3d": [
           {
            "line": {
             "colorbar": {
              "outlinewidth": 0,
              "ticks": ""
             }
            },
            "marker": {
             "colorbar": {
              "outlinewidth": 0,
              "ticks": ""
             }
            },
            "type": "scatter3d"
           }
          ],
          "scattercarpet": [
           {
            "marker": {
             "colorbar": {
              "outlinewidth": 0,
              "ticks": ""
             }
            },
            "type": "scattercarpet"
           }
          ],
          "scattergeo": [
           {
            "marker": {
             "colorbar": {
              "outlinewidth": 0,
              "ticks": ""
             }
            },
            "type": "scattergeo"
           }
          ],
          "scattergl": [
           {
            "marker": {
             "colorbar": {
              "outlinewidth": 0,
              "ticks": ""
             }
            },
            "type": "scattergl"
           }
          ],
          "scattermapbox": [
           {
            "marker": {
             "colorbar": {
              "outlinewidth": 0,
              "ticks": ""
             }
            },
            "type": "scattermapbox"
           }
          ],
          "scatterpolar": [
           {
            "marker": {
             "colorbar": {
              "outlinewidth": 0,
              "ticks": ""
             }
            },
            "type": "scatterpolar"
           }
          ],
          "scatterpolargl": [
           {
            "marker": {
             "colorbar": {
              "outlinewidth": 0,
              "ticks": ""
             }
            },
            "type": "scatterpolargl"
           }
          ],
          "scatterternary": [
           {
            "marker": {
             "colorbar": {
              "outlinewidth": 0,
              "ticks": ""
             }
            },
            "type": "scatterternary"
           }
          ],
          "surface": [
           {
            "colorbar": {
             "outlinewidth": 0,
             "ticks": ""
            },
            "colorscale": [
             [
              0,
              "#0d0887"
             ],
             [
              0.1111111111111111,
              "#46039f"
             ],
             [
              0.2222222222222222,
              "#7201a8"
             ],
             [
              0.3333333333333333,
              "#9c179e"
             ],
             [
              0.4444444444444444,
              "#bd3786"
             ],
             [
              0.5555555555555556,
              "#d8576b"
             ],
             [
              0.6666666666666666,
              "#ed7953"
             ],
             [
              0.7777777777777778,
              "#fb9f3a"
             ],
             [
              0.8888888888888888,
              "#fdca26"
             ],
             [
              1,
              "#f0f921"
             ]
            ],
            "type": "surface"
           }
          ],
          "table": [
           {
            "cells": {
             "fill": {
              "color": "#EBF0F8"
             },
             "line": {
              "color": "white"
             }
            },
            "header": {
             "fill": {
              "color": "#C8D4E3"
             },
             "line": {
              "color": "white"
             }
            },
            "type": "table"
           }
          ]
         },
         "layout": {
          "annotationdefaults": {
           "arrowcolor": "#2a3f5f",
           "arrowhead": 0,
           "arrowwidth": 1
          },
          "autotypenumbers": "strict",
          "coloraxis": {
           "colorbar": {
            "outlinewidth": 0,
            "ticks": ""
           }
          },
          "colorscale": {
           "diverging": [
            [
             0,
             "#8e0152"
            ],
            [
             0.1,
             "#c51b7d"
            ],
            [
             0.2,
             "#de77ae"
            ],
            [
             0.3,
             "#f1b6da"
            ],
            [
             0.4,
             "#fde0ef"
            ],
            [
             0.5,
             "#f7f7f7"
            ],
            [
             0.6,
             "#e6f5d0"
            ],
            [
             0.7,
             "#b8e186"
            ],
            [
             0.8,
             "#7fbc41"
            ],
            [
             0.9,
             "#4d9221"
            ],
            [
             1,
             "#276419"
            ]
           ],
           "sequential": [
            [
             0,
             "#0d0887"
            ],
            [
             0.1111111111111111,
             "#46039f"
            ],
            [
             0.2222222222222222,
             "#7201a8"
            ],
            [
             0.3333333333333333,
             "#9c179e"
            ],
            [
             0.4444444444444444,
             "#bd3786"
            ],
            [
             0.5555555555555556,
             "#d8576b"
            ],
            [
             0.6666666666666666,
             "#ed7953"
            ],
            [
             0.7777777777777778,
             "#fb9f3a"
            ],
            [
             0.8888888888888888,
             "#fdca26"
            ],
            [
             1,
             "#f0f921"
            ]
           ],
           "sequentialminus": [
            [
             0,
             "#0d0887"
            ],
            [
             0.1111111111111111,
             "#46039f"
            ],
            [
             0.2222222222222222,
             "#7201a8"
            ],
            [
             0.3333333333333333,
             "#9c179e"
            ],
            [
             0.4444444444444444,
             "#bd3786"
            ],
            [
             0.5555555555555556,
             "#d8576b"
            ],
            [
             0.6666666666666666,
             "#ed7953"
            ],
            [
             0.7777777777777778,
             "#fb9f3a"
            ],
            [
             0.8888888888888888,
             "#fdca26"
            ],
            [
             1,
             "#f0f921"
            ]
           ]
          },
          "colorway": [
           "#636efa",
           "#EF553B",
           "#00cc96",
           "#ab63fa",
           "#FFA15A",
           "#19d3f3",
           "#FF6692",
           "#B6E880",
           "#FF97FF",
           "#FECB52"
          ],
          "font": {
           "color": "#2a3f5f"
          },
          "geo": {
           "bgcolor": "white",
           "lakecolor": "white",
           "landcolor": "#E5ECF6",
           "showlakes": true,
           "showland": true,
           "subunitcolor": "white"
          },
          "hoverlabel": {
           "align": "left"
          },
          "hovermode": "closest",
          "mapbox": {
           "style": "light"
          },
          "paper_bgcolor": "white",
          "plot_bgcolor": "#E5ECF6",
          "polar": {
           "angularaxis": {
            "gridcolor": "white",
            "linecolor": "white",
            "ticks": ""
           },
           "bgcolor": "#E5ECF6",
           "radialaxis": {
            "gridcolor": "white",
            "linecolor": "white",
            "ticks": ""
           }
          },
          "scene": {
           "xaxis": {
            "backgroundcolor": "#E5ECF6",
            "gridcolor": "white",
            "gridwidth": 2,
            "linecolor": "white",
            "showbackground": true,
            "ticks": "",
            "zerolinecolor": "white"
           },
           "yaxis": {
            "backgroundcolor": "#E5ECF6",
            "gridcolor": "white",
            "gridwidth": 2,
            "linecolor": "white",
            "showbackground": true,
            "ticks": "",
            "zerolinecolor": "white"
           },
           "zaxis": {
            "backgroundcolor": "#E5ECF6",
            "gridcolor": "white",
            "gridwidth": 2,
            "linecolor": "white",
            "showbackground": true,
            "ticks": "",
            "zerolinecolor": "white"
           }
          },
          "shapedefaults": {
           "line": {
            "color": "#2a3f5f"
           }
          },
          "ternary": {
           "aaxis": {
            "gridcolor": "white",
            "linecolor": "white",
            "ticks": ""
           },
           "baxis": {
            "gridcolor": "white",
            "linecolor": "white",
            "ticks": ""
           },
           "bgcolor": "#E5ECF6",
           "caxis": {
            "gridcolor": "white",
            "linecolor": "white",
            "ticks": ""
           }
          },
          "title": {
           "x": 0.05
          },
          "xaxis": {
           "automargin": true,
           "gridcolor": "white",
           "linecolor": "white",
           "ticks": "",
           "title": {
            "standoff": 15
           },
           "zerolinecolor": "white",
           "zerolinewidth": 2
          },
          "yaxis": {
           "automargin": true,
           "gridcolor": "white",
           "linecolor": "white",
           "ticks": "",
           "title": {
            "standoff": 15
           },
           "zerolinecolor": "white",
           "zerolinewidth": 2
          }
         }
        },
        "xaxis": {
         "anchor": "y",
         "domain": [
          0,
          1
         ],
         "tickmode": "array",
         "tickvals": [
          0.8007416666666666,
          0.75,
          0.875
         ],
         "title": {
          "text": "subset_acc"
         }
        },
        "yaxis": {
         "anchor": "x",
         "domain": [
          0,
          1
         ],
         "title": {
          "text": "count"
         }
        }
       }
      }
     },
     "metadata": {},
     "output_type": "display_data"
    }
   ],
   "source": [
    "meanVal = caseAccDf[\"subset_acc\"].mean()\n",
    "# medianVal = multilabelCaseDf[\"subset_acc\"].median()\n",
    "firstQuarter = np.quantile(caseAccDf[\"subset_acc\"].values, 0.25)\n",
    "thirdQuarter = np.quantile(caseAccDf[\"subset_acc\"].values, 0.75)\n",
    "\n",
    "fig = px.histogram(caseAccDf, x=\"subset_acc\")\n",
    "fig.add_vline(x=meanVal, line_width=2, line_color=\"red\")\n",
    "# fig.add_vline(x=medianVal, line_width=2, line_color=\"blue\")\n",
    "fig.add_vline(x=firstQuarter, line_width=2, line_color=\"orange\")\n",
    "fig.add_vline(x=thirdQuarter, line_width=2, line_color=\"green\")\n",
    "\n",
    "fig.update_layout(\n",
    "    xaxis = dict(\n",
    "        tickmode = 'array',\n",
    "        tickvals = [meanVal, firstQuarter, thirdQuarter],\n",
    "    )\n",
    ")"
   ]
  },
  {
   "cell_type": "code",
   "execution_count": 48,
   "metadata": {},
   "outputs": [
    {
     "data": {
      "text/plain": [
       "0.8056877884847411"
      ]
     },
     "execution_count": 48,
     "metadata": {},
     "output_type": "execute_result"
    }
   ],
   "source": [
    "corr = partEvalMetrics[\"tp\"].corr(partEvalMetrics[\"gt_pos_ratio\"])\n",
    "corr"
   ]
  },
  {
   "cell_type": "code",
   "execution_count": 49,
   "metadata": {},
   "outputs": [
    {
     "data": {
      "text/plain": [
       "-0.7785283501976598"
      ]
     },
     "execution_count": 49,
     "metadata": {},
     "output_type": "execute_result"
    }
   ],
   "source": [
    "corr = partEvalMetrics[\"tn\"].corr(partEvalMetrics[\"gt_pos_ratio\"])\n",
    "corr"
   ]
  },
  {
   "cell_type": "code",
   "execution_count": 50,
   "metadata": {},
   "outputs": [
    {
     "data": {
      "text/plain": [
       "-0.1965797419368889"
      ]
     },
     "execution_count": 50,
     "metadata": {},
     "output_type": "execute_result"
    }
   ],
   "source": [
    "corr = partEvalMetrics[\"acc\"].corr(partEvalMetrics[\"gt_pos_ratio\"])\n",
    "corr"
   ]
  },
  {
   "cell_type": "code",
   "execution_count": null,
   "metadata": {},
   "outputs": [],
   "source": []
  }
 ],
 "metadata": {
  "kernelspec": {
   "display_name": "work",
   "language": "python",
   "name": "python3"
  },
  "language_info": {
   "codemirror_mode": {
    "name": "ipython",
    "version": 3
   },
   "file_extension": ".py",
   "mimetype": "text/x-python",
   "name": "python",
   "nbconvert_exporter": "python",
   "pygments_lexer": "ipython3",
   "version": "3.10.8"
  },
  "orig_nbformat": 4,
  "vscode": {
   "interpreter": {
    "hash": "0e8f33c5a67865e6aadcd232beb3e2644a1f224e780847feacdefa5e710f41d5"
   }
  }
 },
 "nbformat": 4,
 "nbformat_minor": 2
}
