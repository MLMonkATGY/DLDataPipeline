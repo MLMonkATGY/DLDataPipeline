{
 "cells": [
  {
   "cell_type": "code",
   "execution_count": 19,
   "metadata": {},
   "outputs": [],
   "source": [
    "import pandas as pd\n",
    "import numpy as np\n",
    "import plotly.graph_objects as go\n",
    "import plotly.express as px\n",
    "\n"
   ]
  },
  {
   "cell_type": "code",
   "execution_count": 20,
   "metadata": {},
   "outputs": [],
   "source": [
    "srcExpDir = \"/home/alextay96/Desktop/all_workspace/new_workspace/DLDataPipeline/data/results/116/SUV - 5 Dr\"\n",
    "# srcExpDir = \"/home/alextay96/Desktop/all_workspace/new_workspace/DLDataPipeline/data/results/saloon_10k_bce\""
   ]
  },
  {
   "cell_type": "code",
   "execution_count": 21,
   "metadata": {},
   "outputs": [],
   "source": [
    "partCsv= f\"{srcExpDir}/part_perf.csv\"\n",
    "partPerfDf = pd.read_csv(partCsv)\n",
    "caseAccCsv= f\"{srcExpDir}/acc_perf.csv\"\n",
    "caseAccDf = pd.read_csv(caseAccCsv)\n"
   ]
  },
  {
   "cell_type": "code",
   "execution_count": 22,
   "metadata": {},
   "outputs": [
    {
     "data": {
      "text/plain": [
       "['vision_bumper_rear',\n",
       " 'vision_misc',\n",
       " 'vision_rear_compartment',\n",
       " 'vision_rear_panel',\n",
       " 'vision_tail_lamp_lh',\n",
       " 'vision_tail_lamp_rh',\n",
       " 'vision_non_external',\n",
       " 'vision_windscreen_rear',\n",
       " 'vision_bonnet',\n",
       " 'vision_bumper_front',\n",
       " 'vision_engine',\n",
       " 'vision_front_panel',\n",
       " 'vision_grille',\n",
       " 'vision_headlamp_lh',\n",
       " 'vision_headlamp_rh',\n",
       " 'vision_windscreen_front',\n",
       " 'vision_door_front_lh',\n",
       " 'vision_door_rear_lh',\n",
       " 'vision_rear_quarter_lh',\n",
       " 'vision_wheel',\n",
       " 'vision_fender_front_lh',\n",
       " 'vision_door_front_rh',\n",
       " 'vision_door_rear_rh',\n",
       " 'vision_rear_quarter_rh',\n",
       " 'vision_fender_front_rh']"
      ]
     },
     "execution_count": 22,
     "metadata": {},
     "output_type": "execute_result"
    }
   ],
   "source": [
    "allParts = [x.replace(\"gt_\", \"\") for x in partPerfDf.columns if \"Unname\" not in x and \"gt_\" in x]\n",
    "allParts"
   ]
  },
  {
   "cell_type": "code",
   "execution_count": 23,
   "metadata": {},
   "outputs": [],
   "source": [
    "partMetrics = []\n",
    "for part in allParts:\n",
    "    gtCol = partPerfDf[f\"gt_{part}\"].values\n",
    "    predCol = partPerfDf[f\"pred_{part}\"].values\n",
    "    # posGt = gtCol[gtCol == 1]\n",
    "    posGtCount = np.count_nonzero(gtCol == 1)\n",
    "    negGtCount = np.count_nonzero(gtCol == 0)\n",
    "    posPredCount =  np.count_nonzero(predCol == 1)\n",
    "    negPredCount =  np.count_nonzero(predCol == 0)\n",
    "\n",
    "    tp =  np.count_nonzero(predCol[gtCol == 1] == 1) / posGtCount\n",
    "    tn = np.count_nonzero(predCol[gtCol == 0] == 0 ) / negGtCount\n",
    "    fp =  np.count_nonzero(predCol[gtCol == 0] == 1) / negGtCount\n",
    "    fn =  np.count_nonzero(predCol[gtCol == 1] == 0) / posGtCount\n",
    "    assert 0.99 < tp + fn < 1.01\n",
    "    assert 0.99 < tn + fp < 1.01\n",
    "    precision = tp / (tp + fp)\n",
    "    recall = tp / (tp + fn)\n",
    "    acc = (tp + tn) / (tp + tn + fp + fn)\n",
    "    f1 = 2 * (precision * recall) / (precision + recall)\n",
    "    partMetrics.append(\n",
    "        {\n",
    "            \"part\" : part,\n",
    "            \"tp\": tp,\n",
    "            \"tn\": tn,\n",
    "            \"fn\": fn,\n",
    "            \"fp\": fp,\n",
    "            \"precision\": precision,\n",
    "            \"recall\": recall,\n",
    "            \"f1\" : f1,\n",
    "            \"acc\" : acc,\n",
    "            \"gt_pos_count\" : posGtCount,\n",
    "            \"gt_neg_count\" : negGtCount,\n",
    "            \"gt_pos_ratio\" : posGtCount / (posGtCount + negGtCount),\n",
    "            \"pred_pos_ratio\" : posPredCount / (posPredCount + negPredCount),\n",
    "\n",
    "\n",
    "        }\n",
    "    )\n",
    "\n",
    "partEvalMetrics = pd.json_normalize(partMetrics)\n",
    "partEvalMetrics.to_csv(f\"{srcExpDir}/part_metrics.csv\")\n",
    "    "
   ]
  },
  {
   "cell_type": "code",
   "execution_count": 24,
   "metadata": {},
   "outputs": [],
   "source": [
    "def genVisMulitlabel(multilabelPartDf, metricName):\n",
    "    fig = go.Figure()\n",
    "    fig.add_trace(go.Bar(\n",
    "        x=multilabelPartDf[\"part\"], y=multilabelPartDf[metricName],\n",
    "        text = multilabelPartDf[metricName]\n",
    "        ))\n",
    "    avgVal = multilabelPartDf[metricName].mean()\n",
    "    fig.add_hline(y=avgVal, line_width=2, line_color=\"red\")\n",
    "    fig.update_layout(\n",
    "        yaxis = dict(\n",
    "            tickmode = 'array',\n",
    "            tickvals = [np.format_float_positional(avgVal, 2), 0.3, 0.8],\n",
    "        )\n",
    "    )\n",
    "    fig.update_layout(\n",
    "            title=go.layout.Title(\n",
    "                text=f\"{metricName}\",\n",
    "                x=0.5\n",
    "            ))\n",
    "    \n",
    "    fig.show()\n",
    "   "
   ]
  },
  {
   "cell_type": "code",
   "execution_count": 25,
   "metadata": {},
   "outputs": [
    {
     "data": {
      "application/vnd.plotly.v1+json": {
       "config": {
        "plotlyServerURL": "https://plot.ly"
       },
       "data": [
        {
         "text": [
          0.7421602787456446,
          0.9810969116080938,
          0.7863835103060587,
          0.569390402075227,
          0.4178743961352657,
          0.49230769230769234,
          0.5772058823529411,
          0.5135135135135135,
          0.7265258215962441,
          0.8541076487252125,
          0.7835820895522388,
          0.695054945054945,
          0.8005790807093739,
          0.7482124616956077,
          0.7820703318474492,
          0.47379454926624737,
          0.6572769953051644,
          0.44201680672268906,
          0.4449152542372881,
          0.6407185628742516,
          0.7254213483146067,
          0.565587734241908,
          0.5645569620253165,
          0.3598130841121495,
          0.6081424936386769
         ],
         "type": "bar",
         "x": [
          "vision_bumper_rear",
          "vision_misc",
          "vision_rear_compartment",
          "vision_rear_panel",
          "vision_tail_lamp_lh",
          "vision_tail_lamp_rh",
          "vision_non_external",
          "vision_windscreen_rear",
          "vision_bonnet",
          "vision_bumper_front",
          "vision_engine",
          "vision_front_panel",
          "vision_grille",
          "vision_headlamp_lh",
          "vision_headlamp_rh",
          "vision_windscreen_front",
          "vision_door_front_lh",
          "vision_door_rear_lh",
          "vision_rear_quarter_lh",
          "vision_wheel",
          "vision_fender_front_lh",
          "vision_door_front_rh",
          "vision_door_rear_rh",
          "vision_rear_quarter_rh",
          "vision_fender_front_rh"
         ],
         "y": [
          0.7421602787456446,
          0.9810969116080938,
          0.7863835103060587,
          0.569390402075227,
          0.4178743961352657,
          0.49230769230769234,
          0.5772058823529411,
          0.5135135135135135,
          0.7265258215962441,
          0.8541076487252125,
          0.7835820895522388,
          0.695054945054945,
          0.8005790807093739,
          0.7482124616956077,
          0.7820703318474492,
          0.47379454926624737,
          0.6572769953051644,
          0.44201680672268906,
          0.4449152542372881,
          0.6407185628742516,
          0.7254213483146067,
          0.565587734241908,
          0.5645569620253165,
          0.3598130841121495,
          0.6081424936386769
         ]
        }
       ],
       "layout": {
        "shapes": [
         {
          "line": {
           "color": "red",
           "width": 2
          },
          "type": "line",
          "x0": 0,
          "x1": 1,
          "xref": "x domain",
          "y0": 0.6380923502785523,
          "y1": 0.6380923502785523,
          "yref": "y"
         }
        ],
        "template": {
         "data": {
          "bar": [
           {
            "error_x": {
             "color": "#2a3f5f"
            },
            "error_y": {
             "color": "#2a3f5f"
            },
            "marker": {
             "line": {
              "color": "#E5ECF6",
              "width": 0.5
             },
             "pattern": {
              "fillmode": "overlay",
              "size": 10,
              "solidity": 0.2
             }
            },
            "type": "bar"
           }
          ],
          "barpolar": [
           {
            "marker": {
             "line": {
              "color": "#E5ECF6",
              "width": 0.5
             },
             "pattern": {
              "fillmode": "overlay",
              "size": 10,
              "solidity": 0.2
             }
            },
            "type": "barpolar"
           }
          ],
          "carpet": [
           {
            "aaxis": {
             "endlinecolor": "#2a3f5f",
             "gridcolor": "white",
             "linecolor": "white",
             "minorgridcolor": "white",
             "startlinecolor": "#2a3f5f"
            },
            "baxis": {
             "endlinecolor": "#2a3f5f",
             "gridcolor": "white",
             "linecolor": "white",
             "minorgridcolor": "white",
             "startlinecolor": "#2a3f5f"
            },
            "type": "carpet"
           }
          ],
          "choropleth": [
           {
            "colorbar": {
             "outlinewidth": 0,
             "ticks": ""
            },
            "type": "choropleth"
           }
          ],
          "contour": [
           {
            "colorbar": {
             "outlinewidth": 0,
             "ticks": ""
            },
            "colorscale": [
             [
              0,
              "#0d0887"
             ],
             [
              0.1111111111111111,
              "#46039f"
             ],
             [
              0.2222222222222222,
              "#7201a8"
             ],
             [
              0.3333333333333333,
              "#9c179e"
             ],
             [
              0.4444444444444444,
              "#bd3786"
             ],
             [
              0.5555555555555556,
              "#d8576b"
             ],
             [
              0.6666666666666666,
              "#ed7953"
             ],
             [
              0.7777777777777778,
              "#fb9f3a"
             ],
             [
              0.8888888888888888,
              "#fdca26"
             ],
             [
              1,
              "#f0f921"
             ]
            ],
            "type": "contour"
           }
          ],
          "contourcarpet": [
           {
            "colorbar": {
             "outlinewidth": 0,
             "ticks": ""
            },
            "type": "contourcarpet"
           }
          ],
          "heatmap": [
           {
            "colorbar": {
             "outlinewidth": 0,
             "ticks": ""
            },
            "colorscale": [
             [
              0,
              "#0d0887"
             ],
             [
              0.1111111111111111,
              "#46039f"
             ],
             [
              0.2222222222222222,
              "#7201a8"
             ],
             [
              0.3333333333333333,
              "#9c179e"
             ],
             [
              0.4444444444444444,
              "#bd3786"
             ],
             [
              0.5555555555555556,
              "#d8576b"
             ],
             [
              0.6666666666666666,
              "#ed7953"
             ],
             [
              0.7777777777777778,
              "#fb9f3a"
             ],
             [
              0.8888888888888888,
              "#fdca26"
             ],
             [
              1,
              "#f0f921"
             ]
            ],
            "type": "heatmap"
           }
          ],
          "heatmapgl": [
           {
            "colorbar": {
             "outlinewidth": 0,
             "ticks": ""
            },
            "colorscale": [
             [
              0,
              "#0d0887"
             ],
             [
              0.1111111111111111,
              "#46039f"
             ],
             [
              0.2222222222222222,
              "#7201a8"
             ],
             [
              0.3333333333333333,
              "#9c179e"
             ],
             [
              0.4444444444444444,
              "#bd3786"
             ],
             [
              0.5555555555555556,
              "#d8576b"
             ],
             [
              0.6666666666666666,
              "#ed7953"
             ],
             [
              0.7777777777777778,
              "#fb9f3a"
             ],
             [
              0.8888888888888888,
              "#fdca26"
             ],
             [
              1,
              "#f0f921"
             ]
            ],
            "type": "heatmapgl"
           }
          ],
          "histogram": [
           {
            "marker": {
             "pattern": {
              "fillmode": "overlay",
              "size": 10,
              "solidity": 0.2
             }
            },
            "type": "histogram"
           }
          ],
          "histogram2d": [
           {
            "colorbar": {
             "outlinewidth": 0,
             "ticks": ""
            },
            "colorscale": [
             [
              0,
              "#0d0887"
             ],
             [
              0.1111111111111111,
              "#46039f"
             ],
             [
              0.2222222222222222,
              "#7201a8"
             ],
             [
              0.3333333333333333,
              "#9c179e"
             ],
             [
              0.4444444444444444,
              "#bd3786"
             ],
             [
              0.5555555555555556,
              "#d8576b"
             ],
             [
              0.6666666666666666,
              "#ed7953"
             ],
             [
              0.7777777777777778,
              "#fb9f3a"
             ],
             [
              0.8888888888888888,
              "#fdca26"
             ],
             [
              1,
              "#f0f921"
             ]
            ],
            "type": "histogram2d"
           }
          ],
          "histogram2dcontour": [
           {
            "colorbar": {
             "outlinewidth": 0,
             "ticks": ""
            },
            "colorscale": [
             [
              0,
              "#0d0887"
             ],
             [
              0.1111111111111111,
              "#46039f"
             ],
             [
              0.2222222222222222,
              "#7201a8"
             ],
             [
              0.3333333333333333,
              "#9c179e"
             ],
             [
              0.4444444444444444,
              "#bd3786"
             ],
             [
              0.5555555555555556,
              "#d8576b"
             ],
             [
              0.6666666666666666,
              "#ed7953"
             ],
             [
              0.7777777777777778,
              "#fb9f3a"
             ],
             [
              0.8888888888888888,
              "#fdca26"
             ],
             [
              1,
              "#f0f921"
             ]
            ],
            "type": "histogram2dcontour"
           }
          ],
          "mesh3d": [
           {
            "colorbar": {
             "outlinewidth": 0,
             "ticks": ""
            },
            "type": "mesh3d"
           }
          ],
          "parcoords": [
           {
            "line": {
             "colorbar": {
              "outlinewidth": 0,
              "ticks": ""
             }
            },
            "type": "parcoords"
           }
          ],
          "pie": [
           {
            "automargin": true,
            "type": "pie"
           }
          ],
          "scatter": [
           {
            "fillpattern": {
             "fillmode": "overlay",
             "size": 10,
             "solidity": 0.2
            },
            "type": "scatter"
           }
          ],
          "scatter3d": [
           {
            "line": {
             "colorbar": {
              "outlinewidth": 0,
              "ticks": ""
             }
            },
            "marker": {
             "colorbar": {
              "outlinewidth": 0,
              "ticks": ""
             }
            },
            "type": "scatter3d"
           }
          ],
          "scattercarpet": [
           {
            "marker": {
             "colorbar": {
              "outlinewidth": 0,
              "ticks": ""
             }
            },
            "type": "scattercarpet"
           }
          ],
          "scattergeo": [
           {
            "marker": {
             "colorbar": {
              "outlinewidth": 0,
              "ticks": ""
             }
            },
            "type": "scattergeo"
           }
          ],
          "scattergl": [
           {
            "marker": {
             "colorbar": {
              "outlinewidth": 0,
              "ticks": ""
             }
            },
            "type": "scattergl"
           }
          ],
          "scattermapbox": [
           {
            "marker": {
             "colorbar": {
              "outlinewidth": 0,
              "ticks": ""
             }
            },
            "type": "scattermapbox"
           }
          ],
          "scatterpolar": [
           {
            "marker": {
             "colorbar": {
              "outlinewidth": 0,
              "ticks": ""
             }
            },
            "type": "scatterpolar"
           }
          ],
          "scatterpolargl": [
           {
            "marker": {
             "colorbar": {
              "outlinewidth": 0,
              "ticks": ""
             }
            },
            "type": "scatterpolargl"
           }
          ],
          "scatterternary": [
           {
            "marker": {
             "colorbar": {
              "outlinewidth": 0,
              "ticks": ""
             }
            },
            "type": "scatterternary"
           }
          ],
          "surface": [
           {
            "colorbar": {
             "outlinewidth": 0,
             "ticks": ""
            },
            "colorscale": [
             [
              0,
              "#0d0887"
             ],
             [
              0.1111111111111111,
              "#46039f"
             ],
             [
              0.2222222222222222,
              "#7201a8"
             ],
             [
              0.3333333333333333,
              "#9c179e"
             ],
             [
              0.4444444444444444,
              "#bd3786"
             ],
             [
              0.5555555555555556,
              "#d8576b"
             ],
             [
              0.6666666666666666,
              "#ed7953"
             ],
             [
              0.7777777777777778,
              "#fb9f3a"
             ],
             [
              0.8888888888888888,
              "#fdca26"
             ],
             [
              1,
              "#f0f921"
             ]
            ],
            "type": "surface"
           }
          ],
          "table": [
           {
            "cells": {
             "fill": {
              "color": "#EBF0F8"
             },
             "line": {
              "color": "white"
             }
            },
            "header": {
             "fill": {
              "color": "#C8D4E3"
             },
             "line": {
              "color": "white"
             }
            },
            "type": "table"
           }
          ]
         },
         "layout": {
          "annotationdefaults": {
           "arrowcolor": "#2a3f5f",
           "arrowhead": 0,
           "arrowwidth": 1
          },
          "autotypenumbers": "strict",
          "coloraxis": {
           "colorbar": {
            "outlinewidth": 0,
            "ticks": ""
           }
          },
          "colorscale": {
           "diverging": [
            [
             0,
             "#8e0152"
            ],
            [
             0.1,
             "#c51b7d"
            ],
            [
             0.2,
             "#de77ae"
            ],
            [
             0.3,
             "#f1b6da"
            ],
            [
             0.4,
             "#fde0ef"
            ],
            [
             0.5,
             "#f7f7f7"
            ],
            [
             0.6,
             "#e6f5d0"
            ],
            [
             0.7,
             "#b8e186"
            ],
            [
             0.8,
             "#7fbc41"
            ],
            [
             0.9,
             "#4d9221"
            ],
            [
             1,
             "#276419"
            ]
           ],
           "sequential": [
            [
             0,
             "#0d0887"
            ],
            [
             0.1111111111111111,
             "#46039f"
            ],
            [
             0.2222222222222222,
             "#7201a8"
            ],
            [
             0.3333333333333333,
             "#9c179e"
            ],
            [
             0.4444444444444444,
             "#bd3786"
            ],
            [
             0.5555555555555556,
             "#d8576b"
            ],
            [
             0.6666666666666666,
             "#ed7953"
            ],
            [
             0.7777777777777778,
             "#fb9f3a"
            ],
            [
             0.8888888888888888,
             "#fdca26"
            ],
            [
             1,
             "#f0f921"
            ]
           ],
           "sequentialminus": [
            [
             0,
             "#0d0887"
            ],
            [
             0.1111111111111111,
             "#46039f"
            ],
            [
             0.2222222222222222,
             "#7201a8"
            ],
            [
             0.3333333333333333,
             "#9c179e"
            ],
            [
             0.4444444444444444,
             "#bd3786"
            ],
            [
             0.5555555555555556,
             "#d8576b"
            ],
            [
             0.6666666666666666,
             "#ed7953"
            ],
            [
             0.7777777777777778,
             "#fb9f3a"
            ],
            [
             0.8888888888888888,
             "#fdca26"
            ],
            [
             1,
             "#f0f921"
            ]
           ]
          },
          "colorway": [
           "#636efa",
           "#EF553B",
           "#00cc96",
           "#ab63fa",
           "#FFA15A",
           "#19d3f3",
           "#FF6692",
           "#B6E880",
           "#FF97FF",
           "#FECB52"
          ],
          "font": {
           "color": "#2a3f5f"
          },
          "geo": {
           "bgcolor": "white",
           "lakecolor": "white",
           "landcolor": "#E5ECF6",
           "showlakes": true,
           "showland": true,
           "subunitcolor": "white"
          },
          "hoverlabel": {
           "align": "left"
          },
          "hovermode": "closest",
          "mapbox": {
           "style": "light"
          },
          "paper_bgcolor": "white",
          "plot_bgcolor": "#E5ECF6",
          "polar": {
           "angularaxis": {
            "gridcolor": "white",
            "linecolor": "white",
            "ticks": ""
           },
           "bgcolor": "#E5ECF6",
           "radialaxis": {
            "gridcolor": "white",
            "linecolor": "white",
            "ticks": ""
           }
          },
          "scene": {
           "xaxis": {
            "backgroundcolor": "#E5ECF6",
            "gridcolor": "white",
            "gridwidth": 2,
            "linecolor": "white",
            "showbackground": true,
            "ticks": "",
            "zerolinecolor": "white"
           },
           "yaxis": {
            "backgroundcolor": "#E5ECF6",
            "gridcolor": "white",
            "gridwidth": 2,
            "linecolor": "white",
            "showbackground": true,
            "ticks": "",
            "zerolinecolor": "white"
           },
           "zaxis": {
            "backgroundcolor": "#E5ECF6",
            "gridcolor": "white",
            "gridwidth": 2,
            "linecolor": "white",
            "showbackground": true,
            "ticks": "",
            "zerolinecolor": "white"
           }
          },
          "shapedefaults": {
           "line": {
            "color": "#2a3f5f"
           }
          },
          "ternary": {
           "aaxis": {
            "gridcolor": "white",
            "linecolor": "white",
            "ticks": ""
           },
           "baxis": {
            "gridcolor": "white",
            "linecolor": "white",
            "ticks": ""
           },
           "bgcolor": "#E5ECF6",
           "caxis": {
            "gridcolor": "white",
            "linecolor": "white",
            "ticks": ""
           }
          },
          "title": {
           "x": 0.05
          },
          "xaxis": {
           "automargin": true,
           "gridcolor": "white",
           "linecolor": "white",
           "ticks": "",
           "title": {
            "standoff": 15
           },
           "zerolinecolor": "white",
           "zerolinewidth": 2
          },
          "yaxis": {
           "automargin": true,
           "gridcolor": "white",
           "linecolor": "white",
           "ticks": "",
           "title": {
            "standoff": 15
           },
           "zerolinecolor": "white",
           "zerolinewidth": 2
          }
         }
        },
        "title": {
         "text": "tp",
         "x": 0.5
        },
        "yaxis": {
         "tickmode": "array",
         "tickvals": [
          "0.64",
          0.3,
          0.8
         ]
        }
       }
      }
     },
     "metadata": {},
     "output_type": "display_data"
    }
   ],
   "source": [
    "genVisMulitlabel(partEvalMetrics, \"tp\")"
   ]
  },
  {
   "cell_type": "code",
   "execution_count": 26,
   "metadata": {},
   "outputs": [
    {
     "data": {
      "application/vnd.plotly.v1+json": {
       "config": {
        "plotlyServerURL": "https://plot.ly"
       },
       "data": [
        {
         "text": [
          0.6278601501006773,
          0.09351103342800961,
          0.8885918003565062,
          0.9476329013488495,
          0.968304078797828,
          0.9415837844643082,
          0.8806826330130504,
          0.9680680557267908,
          0.8984763916126113,
          0.6063108227661457,
          0.7350009771350401,
          0.8838156172749746,
          0.7536804308797127,
          0.8166274509803921,
          0.772568894520114,
          0.9733961303462322,
          0.8953730179360541,
          0.9498578444042388,
          0.9788810670618747,
          0.8069514237855946,
          0.8807352728325373,
          0.9256390395042603,
          0.9057697152935248,
          0.9874368764626186,
          0.9398018044667948
         ],
         "type": "bar",
         "x": [
          "vision_bumper_rear",
          "vision_misc",
          "vision_rear_compartment",
          "vision_rear_panel",
          "vision_tail_lamp_lh",
          "vision_tail_lamp_rh",
          "vision_non_external",
          "vision_windscreen_rear",
          "vision_bonnet",
          "vision_bumper_front",
          "vision_engine",
          "vision_front_panel",
          "vision_grille",
          "vision_headlamp_lh",
          "vision_headlamp_rh",
          "vision_windscreen_front",
          "vision_door_front_lh",
          "vision_door_rear_lh",
          "vision_rear_quarter_lh",
          "vision_wheel",
          "vision_fender_front_lh",
          "vision_door_front_rh",
          "vision_door_rear_rh",
          "vision_rear_quarter_rh",
          "vision_fender_front_rh"
         ],
         "y": [
          0.6278601501006773,
          0.09351103342800961,
          0.8885918003565062,
          0.9476329013488495,
          0.968304078797828,
          0.9415837844643082,
          0.8806826330130504,
          0.9680680557267908,
          0.8984763916126113,
          0.6063108227661457,
          0.7350009771350401,
          0.8838156172749746,
          0.7536804308797127,
          0.8166274509803921,
          0.772568894520114,
          0.9733961303462322,
          0.8953730179360541,
          0.9498578444042388,
          0.9788810670618747,
          0.8069514237855946,
          0.8807352728325373,
          0.9256390395042603,
          0.9057697152935248,
          0.9874368764626186,
          0.9398018044667948
         ]
        }
       ],
       "layout": {
        "shapes": [
         {
          "line": {
           "color": "red",
           "width": 2
          },
          "type": "line",
          "x0": 0,
          "x1": 1,
          "xref": "x domain",
          "y0": 0.8410622885799497,
          "y1": 0.8410622885799497,
          "yref": "y"
         }
        ],
        "template": {
         "data": {
          "bar": [
           {
            "error_x": {
             "color": "#2a3f5f"
            },
            "error_y": {
             "color": "#2a3f5f"
            },
            "marker": {
             "line": {
              "color": "#E5ECF6",
              "width": 0.5
             },
             "pattern": {
              "fillmode": "overlay",
              "size": 10,
              "solidity": 0.2
             }
            },
            "type": "bar"
           }
          ],
          "barpolar": [
           {
            "marker": {
             "line": {
              "color": "#E5ECF6",
              "width": 0.5
             },
             "pattern": {
              "fillmode": "overlay",
              "size": 10,
              "solidity": 0.2
             }
            },
            "type": "barpolar"
           }
          ],
          "carpet": [
           {
            "aaxis": {
             "endlinecolor": "#2a3f5f",
             "gridcolor": "white",
             "linecolor": "white",
             "minorgridcolor": "white",
             "startlinecolor": "#2a3f5f"
            },
            "baxis": {
             "endlinecolor": "#2a3f5f",
             "gridcolor": "white",
             "linecolor": "white",
             "minorgridcolor": "white",
             "startlinecolor": "#2a3f5f"
            },
            "type": "carpet"
           }
          ],
          "choropleth": [
           {
            "colorbar": {
             "outlinewidth": 0,
             "ticks": ""
            },
            "type": "choropleth"
           }
          ],
          "contour": [
           {
            "colorbar": {
             "outlinewidth": 0,
             "ticks": ""
            },
            "colorscale": [
             [
              0,
              "#0d0887"
             ],
             [
              0.1111111111111111,
              "#46039f"
             ],
             [
              0.2222222222222222,
              "#7201a8"
             ],
             [
              0.3333333333333333,
              "#9c179e"
             ],
             [
              0.4444444444444444,
              "#bd3786"
             ],
             [
              0.5555555555555556,
              "#d8576b"
             ],
             [
              0.6666666666666666,
              "#ed7953"
             ],
             [
              0.7777777777777778,
              "#fb9f3a"
             ],
             [
              0.8888888888888888,
              "#fdca26"
             ],
             [
              1,
              "#f0f921"
             ]
            ],
            "type": "contour"
           }
          ],
          "contourcarpet": [
           {
            "colorbar": {
             "outlinewidth": 0,
             "ticks": ""
            },
            "type": "contourcarpet"
           }
          ],
          "heatmap": [
           {
            "colorbar": {
             "outlinewidth": 0,
             "ticks": ""
            },
            "colorscale": [
             [
              0,
              "#0d0887"
             ],
             [
              0.1111111111111111,
              "#46039f"
             ],
             [
              0.2222222222222222,
              "#7201a8"
             ],
             [
              0.3333333333333333,
              "#9c179e"
             ],
             [
              0.4444444444444444,
              "#bd3786"
             ],
             [
              0.5555555555555556,
              "#d8576b"
             ],
             [
              0.6666666666666666,
              "#ed7953"
             ],
             [
              0.7777777777777778,
              "#fb9f3a"
             ],
             [
              0.8888888888888888,
              "#fdca26"
             ],
             [
              1,
              "#f0f921"
             ]
            ],
            "type": "heatmap"
           }
          ],
          "heatmapgl": [
           {
            "colorbar": {
             "outlinewidth": 0,
             "ticks": ""
            },
            "colorscale": [
             [
              0,
              "#0d0887"
             ],
             [
              0.1111111111111111,
              "#46039f"
             ],
             [
              0.2222222222222222,
              "#7201a8"
             ],
             [
              0.3333333333333333,
              "#9c179e"
             ],
             [
              0.4444444444444444,
              "#bd3786"
             ],
             [
              0.5555555555555556,
              "#d8576b"
             ],
             [
              0.6666666666666666,
              "#ed7953"
             ],
             [
              0.7777777777777778,
              "#fb9f3a"
             ],
             [
              0.8888888888888888,
              "#fdca26"
             ],
             [
              1,
              "#f0f921"
             ]
            ],
            "type": "heatmapgl"
           }
          ],
          "histogram": [
           {
            "marker": {
             "pattern": {
              "fillmode": "overlay",
              "size": 10,
              "solidity": 0.2
             }
            },
            "type": "histogram"
           }
          ],
          "histogram2d": [
           {
            "colorbar": {
             "outlinewidth": 0,
             "ticks": ""
            },
            "colorscale": [
             [
              0,
              "#0d0887"
             ],
             [
              0.1111111111111111,
              "#46039f"
             ],
             [
              0.2222222222222222,
              "#7201a8"
             ],
             [
              0.3333333333333333,
              "#9c179e"
             ],
             [
              0.4444444444444444,
              "#bd3786"
             ],
             [
              0.5555555555555556,
              "#d8576b"
             ],
             [
              0.6666666666666666,
              "#ed7953"
             ],
             [
              0.7777777777777778,
              "#fb9f3a"
             ],
             [
              0.8888888888888888,
              "#fdca26"
             ],
             [
              1,
              "#f0f921"
             ]
            ],
            "type": "histogram2d"
           }
          ],
          "histogram2dcontour": [
           {
            "colorbar": {
             "outlinewidth": 0,
             "ticks": ""
            },
            "colorscale": [
             [
              0,
              "#0d0887"
             ],
             [
              0.1111111111111111,
              "#46039f"
             ],
             [
              0.2222222222222222,
              "#7201a8"
             ],
             [
              0.3333333333333333,
              "#9c179e"
             ],
             [
              0.4444444444444444,
              "#bd3786"
             ],
             [
              0.5555555555555556,
              "#d8576b"
             ],
             [
              0.6666666666666666,
              "#ed7953"
             ],
             [
              0.7777777777777778,
              "#fb9f3a"
             ],
             [
              0.8888888888888888,
              "#fdca26"
             ],
             [
              1,
              "#f0f921"
             ]
            ],
            "type": "histogram2dcontour"
           }
          ],
          "mesh3d": [
           {
            "colorbar": {
             "outlinewidth": 0,
             "ticks": ""
            },
            "type": "mesh3d"
           }
          ],
          "parcoords": [
           {
            "line": {
             "colorbar": {
              "outlinewidth": 0,
              "ticks": ""
             }
            },
            "type": "parcoords"
           }
          ],
          "pie": [
           {
            "automargin": true,
            "type": "pie"
           }
          ],
          "scatter": [
           {
            "fillpattern": {
             "fillmode": "overlay",
             "size": 10,
             "solidity": 0.2
            },
            "type": "scatter"
           }
          ],
          "scatter3d": [
           {
            "line": {
             "colorbar": {
              "outlinewidth": 0,
              "ticks": ""
             }
            },
            "marker": {
             "colorbar": {
              "outlinewidth": 0,
              "ticks": ""
             }
            },
            "type": "scatter3d"
           }
          ],
          "scattercarpet": [
           {
            "marker": {
             "colorbar": {
              "outlinewidth": 0,
              "ticks": ""
             }
            },
            "type": "scattercarpet"
           }
          ],
          "scattergeo": [
           {
            "marker": {
             "colorbar": {
              "outlinewidth": 0,
              "ticks": ""
             }
            },
            "type": "scattergeo"
           }
          ],
          "scattergl": [
           {
            "marker": {
             "colorbar": {
              "outlinewidth": 0,
              "ticks": ""
             }
            },
            "type": "scattergl"
           }
          ],
          "scattermapbox": [
           {
            "marker": {
             "colorbar": {
              "outlinewidth": 0,
              "ticks": ""
             }
            },
            "type": "scattermapbox"
           }
          ],
          "scatterpolar": [
           {
            "marker": {
             "colorbar": {
              "outlinewidth": 0,
              "ticks": ""
             }
            },
            "type": "scatterpolar"
           }
          ],
          "scatterpolargl": [
           {
            "marker": {
             "colorbar": {
              "outlinewidth": 0,
              "ticks": ""
             }
            },
            "type": "scatterpolargl"
           }
          ],
          "scatterternary": [
           {
            "marker": {
             "colorbar": {
              "outlinewidth": 0,
              "ticks": ""
             }
            },
            "type": "scatterternary"
           }
          ],
          "surface": [
           {
            "colorbar": {
             "outlinewidth": 0,
             "ticks": ""
            },
            "colorscale": [
             [
              0,
              "#0d0887"
             ],
             [
              0.1111111111111111,
              "#46039f"
             ],
             [
              0.2222222222222222,
              "#7201a8"
             ],
             [
              0.3333333333333333,
              "#9c179e"
             ],
             [
              0.4444444444444444,
              "#bd3786"
             ],
             [
              0.5555555555555556,
              "#d8576b"
             ],
             [
              0.6666666666666666,
              "#ed7953"
             ],
             [
              0.7777777777777778,
              "#fb9f3a"
             ],
             [
              0.8888888888888888,
              "#fdca26"
             ],
             [
              1,
              "#f0f921"
             ]
            ],
            "type": "surface"
           }
          ],
          "table": [
           {
            "cells": {
             "fill": {
              "color": "#EBF0F8"
             },
             "line": {
              "color": "white"
             }
            },
            "header": {
             "fill": {
              "color": "#C8D4E3"
             },
             "line": {
              "color": "white"
             }
            },
            "type": "table"
           }
          ]
         },
         "layout": {
          "annotationdefaults": {
           "arrowcolor": "#2a3f5f",
           "arrowhead": 0,
           "arrowwidth": 1
          },
          "autotypenumbers": "strict",
          "coloraxis": {
           "colorbar": {
            "outlinewidth": 0,
            "ticks": ""
           }
          },
          "colorscale": {
           "diverging": [
            [
             0,
             "#8e0152"
            ],
            [
             0.1,
             "#c51b7d"
            ],
            [
             0.2,
             "#de77ae"
            ],
            [
             0.3,
             "#f1b6da"
            ],
            [
             0.4,
             "#fde0ef"
            ],
            [
             0.5,
             "#f7f7f7"
            ],
            [
             0.6,
             "#e6f5d0"
            ],
            [
             0.7,
             "#b8e186"
            ],
            [
             0.8,
             "#7fbc41"
            ],
            [
             0.9,
             "#4d9221"
            ],
            [
             1,
             "#276419"
            ]
           ],
           "sequential": [
            [
             0,
             "#0d0887"
            ],
            [
             0.1111111111111111,
             "#46039f"
            ],
            [
             0.2222222222222222,
             "#7201a8"
            ],
            [
             0.3333333333333333,
             "#9c179e"
            ],
            [
             0.4444444444444444,
             "#bd3786"
            ],
            [
             0.5555555555555556,
             "#d8576b"
            ],
            [
             0.6666666666666666,
             "#ed7953"
            ],
            [
             0.7777777777777778,
             "#fb9f3a"
            ],
            [
             0.8888888888888888,
             "#fdca26"
            ],
            [
             1,
             "#f0f921"
            ]
           ],
           "sequentialminus": [
            [
             0,
             "#0d0887"
            ],
            [
             0.1111111111111111,
             "#46039f"
            ],
            [
             0.2222222222222222,
             "#7201a8"
            ],
            [
             0.3333333333333333,
             "#9c179e"
            ],
            [
             0.4444444444444444,
             "#bd3786"
            ],
            [
             0.5555555555555556,
             "#d8576b"
            ],
            [
             0.6666666666666666,
             "#ed7953"
            ],
            [
             0.7777777777777778,
             "#fb9f3a"
            ],
            [
             0.8888888888888888,
             "#fdca26"
            ],
            [
             1,
             "#f0f921"
            ]
           ]
          },
          "colorway": [
           "#636efa",
           "#EF553B",
           "#00cc96",
           "#ab63fa",
           "#FFA15A",
           "#19d3f3",
           "#FF6692",
           "#B6E880",
           "#FF97FF",
           "#FECB52"
          ],
          "font": {
           "color": "#2a3f5f"
          },
          "geo": {
           "bgcolor": "white",
           "lakecolor": "white",
           "landcolor": "#E5ECF6",
           "showlakes": true,
           "showland": true,
           "subunitcolor": "white"
          },
          "hoverlabel": {
           "align": "left"
          },
          "hovermode": "closest",
          "mapbox": {
           "style": "light"
          },
          "paper_bgcolor": "white",
          "plot_bgcolor": "#E5ECF6",
          "polar": {
           "angularaxis": {
            "gridcolor": "white",
            "linecolor": "white",
            "ticks": ""
           },
           "bgcolor": "#E5ECF6",
           "radialaxis": {
            "gridcolor": "white",
            "linecolor": "white",
            "ticks": ""
           }
          },
          "scene": {
           "xaxis": {
            "backgroundcolor": "#E5ECF6",
            "gridcolor": "white",
            "gridwidth": 2,
            "linecolor": "white",
            "showbackground": true,
            "ticks": "",
            "zerolinecolor": "white"
           },
           "yaxis": {
            "backgroundcolor": "#E5ECF6",
            "gridcolor": "white",
            "gridwidth": 2,
            "linecolor": "white",
            "showbackground": true,
            "ticks": "",
            "zerolinecolor": "white"
           },
           "zaxis": {
            "backgroundcolor": "#E5ECF6",
            "gridcolor": "white",
            "gridwidth": 2,
            "linecolor": "white",
            "showbackground": true,
            "ticks": "",
            "zerolinecolor": "white"
           }
          },
          "shapedefaults": {
           "line": {
            "color": "#2a3f5f"
           }
          },
          "ternary": {
           "aaxis": {
            "gridcolor": "white",
            "linecolor": "white",
            "ticks": ""
           },
           "baxis": {
            "gridcolor": "white",
            "linecolor": "white",
            "ticks": ""
           },
           "bgcolor": "#E5ECF6",
           "caxis": {
            "gridcolor": "white",
            "linecolor": "white",
            "ticks": ""
           }
          },
          "title": {
           "x": 0.05
          },
          "xaxis": {
           "automargin": true,
           "gridcolor": "white",
           "linecolor": "white",
           "ticks": "",
           "title": {
            "standoff": 15
           },
           "zerolinecolor": "white",
           "zerolinewidth": 2
          },
          "yaxis": {
           "automargin": true,
           "gridcolor": "white",
           "linecolor": "white",
           "ticks": "",
           "title": {
            "standoff": 15
           },
           "zerolinecolor": "white",
           "zerolinewidth": 2
          }
         }
        },
        "title": {
         "text": "tn",
         "x": 0.5
        },
        "yaxis": {
         "tickmode": "array",
         "tickvals": [
          "0.84",
          0.3,
          0.8
         ]
        }
       }
      }
     },
     "metadata": {},
     "output_type": "display_data"
    }
   ],
   "source": [
    "genVisMulitlabel(partEvalMetrics, \"tn\")"
   ]
  },
  {
   "cell_type": "code",
   "execution_count": 27,
   "metadata": {},
   "outputs": [
    {
     "data": {
      "application/vnd.plotly.v1+json": {
       "config": {
        "plotlyServerURL": "https://plot.ly"
       },
       "data": [
        {
         "text": [
          0.6850102144231609,
          0.5373039725180517,
          0.8374876553312826,
          0.7585116517120383,
          0.6930892374665468,
          0.7169457383860003,
          0.7289442576829958,
          0.7407907846201521,
          0.8125011066044276,
          0.7302092357456791,
          0.7592915333436394,
          0.7894352811649599,
          0.7771297557945434,
          0.782419956338,
          0.7773196131837816,
          0.7235953398062398,
          0.7763250066206092,
          0.695937325563464,
          0.7118981606495814,
          0.7238349933299231,
          0.803078310573572,
          0.7456133868730841,
          0.7351633386594206,
          0.673624980287384,
          0.7739721490527358
         ],
         "type": "bar",
         "x": [
          "vision_bumper_rear",
          "vision_misc",
          "vision_rear_compartment",
          "vision_rear_panel",
          "vision_tail_lamp_lh",
          "vision_tail_lamp_rh",
          "vision_non_external",
          "vision_windscreen_rear",
          "vision_bonnet",
          "vision_bumper_front",
          "vision_engine",
          "vision_front_panel",
          "vision_grille",
          "vision_headlamp_lh",
          "vision_headlamp_rh",
          "vision_windscreen_front",
          "vision_door_front_lh",
          "vision_door_rear_lh",
          "vision_rear_quarter_lh",
          "vision_wheel",
          "vision_fender_front_lh",
          "vision_door_front_rh",
          "vision_door_rear_rh",
          "vision_rear_quarter_rh",
          "vision_fender_front_rh"
         ],
         "y": [
          0.6850102144231609,
          0.5373039725180517,
          0.8374876553312826,
          0.7585116517120383,
          0.6930892374665468,
          0.7169457383860003,
          0.7289442576829958,
          0.7407907846201521,
          0.8125011066044276,
          0.7302092357456791,
          0.7592915333436394,
          0.7894352811649599,
          0.7771297557945434,
          0.782419956338,
          0.7773196131837816,
          0.7235953398062398,
          0.7763250066206092,
          0.695937325563464,
          0.7118981606495814,
          0.7238349933299231,
          0.803078310573572,
          0.7456133868730841,
          0.7351633386594206,
          0.673624980287384,
          0.7739721490527358
         ]
        }
       ],
       "layout": {
        "shapes": [
         {
          "line": {
           "color": "red",
           "width": 2
          },
          "type": "line",
          "x0": 0,
          "x1": 1,
          "xref": "x domain",
          "y0": 0.739577319429251,
          "y1": 0.739577319429251,
          "yref": "y"
         }
        ],
        "template": {
         "data": {
          "bar": [
           {
            "error_x": {
             "color": "#2a3f5f"
            },
            "error_y": {
             "color": "#2a3f5f"
            },
            "marker": {
             "line": {
              "color": "#E5ECF6",
              "width": 0.5
             },
             "pattern": {
              "fillmode": "overlay",
              "size": 10,
              "solidity": 0.2
             }
            },
            "type": "bar"
           }
          ],
          "barpolar": [
           {
            "marker": {
             "line": {
              "color": "#E5ECF6",
              "width": 0.5
             },
             "pattern": {
              "fillmode": "overlay",
              "size": 10,
              "solidity": 0.2
             }
            },
            "type": "barpolar"
           }
          ],
          "carpet": [
           {
            "aaxis": {
             "endlinecolor": "#2a3f5f",
             "gridcolor": "white",
             "linecolor": "white",
             "minorgridcolor": "white",
             "startlinecolor": "#2a3f5f"
            },
            "baxis": {
             "endlinecolor": "#2a3f5f",
             "gridcolor": "white",
             "linecolor": "white",
             "minorgridcolor": "white",
             "startlinecolor": "#2a3f5f"
            },
            "type": "carpet"
           }
          ],
          "choropleth": [
           {
            "colorbar": {
             "outlinewidth": 0,
             "ticks": ""
            },
            "type": "choropleth"
           }
          ],
          "contour": [
           {
            "colorbar": {
             "outlinewidth": 0,
             "ticks": ""
            },
            "colorscale": [
             [
              0,
              "#0d0887"
             ],
             [
              0.1111111111111111,
              "#46039f"
             ],
             [
              0.2222222222222222,
              "#7201a8"
             ],
             [
              0.3333333333333333,
              "#9c179e"
             ],
             [
              0.4444444444444444,
              "#bd3786"
             ],
             [
              0.5555555555555556,
              "#d8576b"
             ],
             [
              0.6666666666666666,
              "#ed7953"
             ],
             [
              0.7777777777777778,
              "#fb9f3a"
             ],
             [
              0.8888888888888888,
              "#fdca26"
             ],
             [
              1,
              "#f0f921"
             ]
            ],
            "type": "contour"
           }
          ],
          "contourcarpet": [
           {
            "colorbar": {
             "outlinewidth": 0,
             "ticks": ""
            },
            "type": "contourcarpet"
           }
          ],
          "heatmap": [
           {
            "colorbar": {
             "outlinewidth": 0,
             "ticks": ""
            },
            "colorscale": [
             [
              0,
              "#0d0887"
             ],
             [
              0.1111111111111111,
              "#46039f"
             ],
             [
              0.2222222222222222,
              "#7201a8"
             ],
             [
              0.3333333333333333,
              "#9c179e"
             ],
             [
              0.4444444444444444,
              "#bd3786"
             ],
             [
              0.5555555555555556,
              "#d8576b"
             ],
             [
              0.6666666666666666,
              "#ed7953"
             ],
             [
              0.7777777777777778,
              "#fb9f3a"
             ],
             [
              0.8888888888888888,
              "#fdca26"
             ],
             [
              1,
              "#f0f921"
             ]
            ],
            "type": "heatmap"
           }
          ],
          "heatmapgl": [
           {
            "colorbar": {
             "outlinewidth": 0,
             "ticks": ""
            },
            "colorscale": [
             [
              0,
              "#0d0887"
             ],
             [
              0.1111111111111111,
              "#46039f"
             ],
             [
              0.2222222222222222,
              "#7201a8"
             ],
             [
              0.3333333333333333,
              "#9c179e"
             ],
             [
              0.4444444444444444,
              "#bd3786"
             ],
             [
              0.5555555555555556,
              "#d8576b"
             ],
             [
              0.6666666666666666,
              "#ed7953"
             ],
             [
              0.7777777777777778,
              "#fb9f3a"
             ],
             [
              0.8888888888888888,
              "#fdca26"
             ],
             [
              1,
              "#f0f921"
             ]
            ],
            "type": "heatmapgl"
           }
          ],
          "histogram": [
           {
            "marker": {
             "pattern": {
              "fillmode": "overlay",
              "size": 10,
              "solidity": 0.2
             }
            },
            "type": "histogram"
           }
          ],
          "histogram2d": [
           {
            "colorbar": {
             "outlinewidth": 0,
             "ticks": ""
            },
            "colorscale": [
             [
              0,
              "#0d0887"
             ],
             [
              0.1111111111111111,
              "#46039f"
             ],
             [
              0.2222222222222222,
              "#7201a8"
             ],
             [
              0.3333333333333333,
              "#9c179e"
             ],
             [
              0.4444444444444444,
              "#bd3786"
             ],
             [
              0.5555555555555556,
              "#d8576b"
             ],
             [
              0.6666666666666666,
              "#ed7953"
             ],
             [
              0.7777777777777778,
              "#fb9f3a"
             ],
             [
              0.8888888888888888,
              "#fdca26"
             ],
             [
              1,
              "#f0f921"
             ]
            ],
            "type": "histogram2d"
           }
          ],
          "histogram2dcontour": [
           {
            "colorbar": {
             "outlinewidth": 0,
             "ticks": ""
            },
            "colorscale": [
             [
              0,
              "#0d0887"
             ],
             [
              0.1111111111111111,
              "#46039f"
             ],
             [
              0.2222222222222222,
              "#7201a8"
             ],
             [
              0.3333333333333333,
              "#9c179e"
             ],
             [
              0.4444444444444444,
              "#bd3786"
             ],
             [
              0.5555555555555556,
              "#d8576b"
             ],
             [
              0.6666666666666666,
              "#ed7953"
             ],
             [
              0.7777777777777778,
              "#fb9f3a"
             ],
             [
              0.8888888888888888,
              "#fdca26"
             ],
             [
              1,
              "#f0f921"
             ]
            ],
            "type": "histogram2dcontour"
           }
          ],
          "mesh3d": [
           {
            "colorbar": {
             "outlinewidth": 0,
             "ticks": ""
            },
            "type": "mesh3d"
           }
          ],
          "parcoords": [
           {
            "line": {
             "colorbar": {
              "outlinewidth": 0,
              "ticks": ""
             }
            },
            "type": "parcoords"
           }
          ],
          "pie": [
           {
            "automargin": true,
            "type": "pie"
           }
          ],
          "scatter": [
           {
            "fillpattern": {
             "fillmode": "overlay",
             "size": 10,
             "solidity": 0.2
            },
            "type": "scatter"
           }
          ],
          "scatter3d": [
           {
            "line": {
             "colorbar": {
              "outlinewidth": 0,
              "ticks": ""
             }
            },
            "marker": {
             "colorbar": {
              "outlinewidth": 0,
              "ticks": ""
             }
            },
            "type": "scatter3d"
           }
          ],
          "scattercarpet": [
           {
            "marker": {
             "colorbar": {
              "outlinewidth": 0,
              "ticks": ""
             }
            },
            "type": "scattercarpet"
           }
          ],
          "scattergeo": [
           {
            "marker": {
             "colorbar": {
              "outlinewidth": 0,
              "ticks": ""
             }
            },
            "type": "scattergeo"
           }
          ],
          "scattergl": [
           {
            "marker": {
             "colorbar": {
              "outlinewidth": 0,
              "ticks": ""
             }
            },
            "type": "scattergl"
           }
          ],
          "scattermapbox": [
           {
            "marker": {
             "colorbar": {
              "outlinewidth": 0,
              "ticks": ""
             }
            },
            "type": "scattermapbox"
           }
          ],
          "scatterpolar": [
           {
            "marker": {
             "colorbar": {
              "outlinewidth": 0,
              "ticks": ""
             }
            },
            "type": "scatterpolar"
           }
          ],
          "scatterpolargl": [
           {
            "marker": {
             "colorbar": {
              "outlinewidth": 0,
              "ticks": ""
             }
            },
            "type": "scatterpolargl"
           }
          ],
          "scatterternary": [
           {
            "marker": {
             "colorbar": {
              "outlinewidth": 0,
              "ticks": ""
             }
            },
            "type": "scatterternary"
           }
          ],
          "surface": [
           {
            "colorbar": {
             "outlinewidth": 0,
             "ticks": ""
            },
            "colorscale": [
             [
              0,
              "#0d0887"
             ],
             [
              0.1111111111111111,
              "#46039f"
             ],
             [
              0.2222222222222222,
              "#7201a8"
             ],
             [
              0.3333333333333333,
              "#9c179e"
             ],
             [
              0.4444444444444444,
              "#bd3786"
             ],
             [
              0.5555555555555556,
              "#d8576b"
             ],
             [
              0.6666666666666666,
              "#ed7953"
             ],
             [
              0.7777777777777778,
              "#fb9f3a"
             ],
             [
              0.8888888888888888,
              "#fdca26"
             ],
             [
              1,
              "#f0f921"
             ]
            ],
            "type": "surface"
           }
          ],
          "table": [
           {
            "cells": {
             "fill": {
              "color": "#EBF0F8"
             },
             "line": {
              "color": "white"
             }
            },
            "header": {
             "fill": {
              "color": "#C8D4E3"
             },
             "line": {
              "color": "white"
             }
            },
            "type": "table"
           }
          ]
         },
         "layout": {
          "annotationdefaults": {
           "arrowcolor": "#2a3f5f",
           "arrowhead": 0,
           "arrowwidth": 1
          },
          "autotypenumbers": "strict",
          "coloraxis": {
           "colorbar": {
            "outlinewidth": 0,
            "ticks": ""
           }
          },
          "colorscale": {
           "diverging": [
            [
             0,
             "#8e0152"
            ],
            [
             0.1,
             "#c51b7d"
            ],
            [
             0.2,
             "#de77ae"
            ],
            [
             0.3,
             "#f1b6da"
            ],
            [
             0.4,
             "#fde0ef"
            ],
            [
             0.5,
             "#f7f7f7"
            ],
            [
             0.6,
             "#e6f5d0"
            ],
            [
             0.7,
             "#b8e186"
            ],
            [
             0.8,
             "#7fbc41"
            ],
            [
             0.9,
             "#4d9221"
            ],
            [
             1,
             "#276419"
            ]
           ],
           "sequential": [
            [
             0,
             "#0d0887"
            ],
            [
             0.1111111111111111,
             "#46039f"
            ],
            [
             0.2222222222222222,
             "#7201a8"
            ],
            [
             0.3333333333333333,
             "#9c179e"
            ],
            [
             0.4444444444444444,
             "#bd3786"
            ],
            [
             0.5555555555555556,
             "#d8576b"
            ],
            [
             0.6666666666666666,
             "#ed7953"
            ],
            [
             0.7777777777777778,
             "#fb9f3a"
            ],
            [
             0.8888888888888888,
             "#fdca26"
            ],
            [
             1,
             "#f0f921"
            ]
           ],
           "sequentialminus": [
            [
             0,
             "#0d0887"
            ],
            [
             0.1111111111111111,
             "#46039f"
            ],
            [
             0.2222222222222222,
             "#7201a8"
            ],
            [
             0.3333333333333333,
             "#9c179e"
            ],
            [
             0.4444444444444444,
             "#bd3786"
            ],
            [
             0.5555555555555556,
             "#d8576b"
            ],
            [
             0.6666666666666666,
             "#ed7953"
            ],
            [
             0.7777777777777778,
             "#fb9f3a"
            ],
            [
             0.8888888888888888,
             "#fdca26"
            ],
            [
             1,
             "#f0f921"
            ]
           ]
          },
          "colorway": [
           "#636efa",
           "#EF553B",
           "#00cc96",
           "#ab63fa",
           "#FFA15A",
           "#19d3f3",
           "#FF6692",
           "#B6E880",
           "#FF97FF",
           "#FECB52"
          ],
          "font": {
           "color": "#2a3f5f"
          },
          "geo": {
           "bgcolor": "white",
           "lakecolor": "white",
           "landcolor": "#E5ECF6",
           "showlakes": true,
           "showland": true,
           "subunitcolor": "white"
          },
          "hoverlabel": {
           "align": "left"
          },
          "hovermode": "closest",
          "mapbox": {
           "style": "light"
          },
          "paper_bgcolor": "white",
          "plot_bgcolor": "#E5ECF6",
          "polar": {
           "angularaxis": {
            "gridcolor": "white",
            "linecolor": "white",
            "ticks": ""
           },
           "bgcolor": "#E5ECF6",
           "radialaxis": {
            "gridcolor": "white",
            "linecolor": "white",
            "ticks": ""
           }
          },
          "scene": {
           "xaxis": {
            "backgroundcolor": "#E5ECF6",
            "gridcolor": "white",
            "gridwidth": 2,
            "linecolor": "white",
            "showbackground": true,
            "ticks": "",
            "zerolinecolor": "white"
           },
           "yaxis": {
            "backgroundcolor": "#E5ECF6",
            "gridcolor": "white",
            "gridwidth": 2,
            "linecolor": "white",
            "showbackground": true,
            "ticks": "",
            "zerolinecolor": "white"
           },
           "zaxis": {
            "backgroundcolor": "#E5ECF6",
            "gridcolor": "white",
            "gridwidth": 2,
            "linecolor": "white",
            "showbackground": true,
            "ticks": "",
            "zerolinecolor": "white"
           }
          },
          "shapedefaults": {
           "line": {
            "color": "#2a3f5f"
           }
          },
          "ternary": {
           "aaxis": {
            "gridcolor": "white",
            "linecolor": "white",
            "ticks": ""
           },
           "baxis": {
            "gridcolor": "white",
            "linecolor": "white",
            "ticks": ""
           },
           "bgcolor": "#E5ECF6",
           "caxis": {
            "gridcolor": "white",
            "linecolor": "white",
            "ticks": ""
           }
          },
          "title": {
           "x": 0.05
          },
          "xaxis": {
           "automargin": true,
           "gridcolor": "white",
           "linecolor": "white",
           "ticks": "",
           "title": {
            "standoff": 15
           },
           "zerolinecolor": "white",
           "zerolinewidth": 2
          },
          "yaxis": {
           "automargin": true,
           "gridcolor": "white",
           "linecolor": "white",
           "ticks": "",
           "title": {
            "standoff": 15
           },
           "zerolinecolor": "white",
           "zerolinewidth": 2
          }
         }
        },
        "title": {
         "text": "acc",
         "x": 0.5
        },
        "yaxis": {
         "tickmode": "array",
         "tickvals": [
          "0.74",
          0.3,
          0.8
         ]
        }
       }
      }
     },
     "metadata": {},
     "output_type": "display_data"
    }
   ],
   "source": [
    "genVisMulitlabel(partEvalMetrics, \"acc\")"
   ]
  },
  {
   "cell_type": "code",
   "execution_count": 28,
   "metadata": {},
   "outputs": [
    {
     "data": {
      "application/vnd.plotly.v1+json": {
       "config": {
        "plotlyServerURL": "https://plot.ly"
       },
       "data": [
        {
         "text": [
          0.6660326600232387,
          0.5197627948742752,
          0.8759086340307666,
          0.9157756865176988,
          0.9294973000221861,
          0.8939283101682517,
          0.8286957871111565,
          0.9414571267991105,
          0.8773942657150365,
          0.6844925639787057,
          0.7472784701852185,
          0.8567816194969561,
          0.7647149806140591,
          0.8031606918204649,
          0.7747094782925599,
          0.9468346248751431,
          0.862676944639103,
          0.898117967090241,
          0.9546837259598379,
          0.7684622394384412,
          0.8588058562473669,
          0.8838016842487277,
          0.8569640120176178,
          0.9662622818555436,
          0.9099288783273174
         ],
         "type": "bar",
         "x": [
          "vision_bumper_rear",
          "vision_misc",
          "vision_rear_compartment",
          "vision_rear_panel",
          "vision_tail_lamp_lh",
          "vision_tail_lamp_rh",
          "vision_non_external",
          "vision_windscreen_rear",
          "vision_bonnet",
          "vision_bumper_front",
          "vision_engine",
          "vision_front_panel",
          "vision_grille",
          "vision_headlamp_lh",
          "vision_headlamp_rh",
          "vision_windscreen_front",
          "vision_door_front_lh",
          "vision_door_rear_lh",
          "vision_rear_quarter_lh",
          "vision_wheel",
          "vision_fender_front_lh",
          "vision_door_front_rh",
          "vision_door_rear_rh",
          "vision_rear_quarter_rh",
          "vision_fender_front_rh"
         ],
         "y": [
          0.6660326600232387,
          0.5197627948742752,
          0.8759086340307666,
          0.9157756865176988,
          0.9294973000221861,
          0.8939283101682517,
          0.8286957871111565,
          0.9414571267991105,
          0.8773942657150365,
          0.6844925639787057,
          0.7472784701852185,
          0.8567816194969561,
          0.7647149806140591,
          0.8031606918204649,
          0.7747094782925599,
          0.9468346248751431,
          0.862676944639103,
          0.898117967090241,
          0.9546837259598379,
          0.7684622394384412,
          0.8588058562473669,
          0.8838016842487277,
          0.8569640120176178,
          0.9662622818555436,
          0.9099288783273174
         ]
        }
       ],
       "layout": {
        "shapes": [
         {
          "line": {
           "color": "red",
           "width": 2
          },
          "type": "line",
          "x0": 0,
          "x1": 1,
          "xref": "x domain",
          "y0": 0.8394451433739608,
          "y1": 0.8394451433739608,
          "yref": "y"
         }
        ],
        "template": {
         "data": {
          "bar": [
           {
            "error_x": {
             "color": "#2a3f5f"
            },
            "error_y": {
             "color": "#2a3f5f"
            },
            "marker": {
             "line": {
              "color": "#E5ECF6",
              "width": 0.5
             },
             "pattern": {
              "fillmode": "overlay",
              "size": 10,
              "solidity": 0.2
             }
            },
            "type": "bar"
           }
          ],
          "barpolar": [
           {
            "marker": {
             "line": {
              "color": "#E5ECF6",
              "width": 0.5
             },
             "pattern": {
              "fillmode": "overlay",
              "size": 10,
              "solidity": 0.2
             }
            },
            "type": "barpolar"
           }
          ],
          "carpet": [
           {
            "aaxis": {
             "endlinecolor": "#2a3f5f",
             "gridcolor": "white",
             "linecolor": "white",
             "minorgridcolor": "white",
             "startlinecolor": "#2a3f5f"
            },
            "baxis": {
             "endlinecolor": "#2a3f5f",
             "gridcolor": "white",
             "linecolor": "white",
             "minorgridcolor": "white",
             "startlinecolor": "#2a3f5f"
            },
            "type": "carpet"
           }
          ],
          "choropleth": [
           {
            "colorbar": {
             "outlinewidth": 0,
             "ticks": ""
            },
            "type": "choropleth"
           }
          ],
          "contour": [
           {
            "colorbar": {
             "outlinewidth": 0,
             "ticks": ""
            },
            "colorscale": [
             [
              0,
              "#0d0887"
             ],
             [
              0.1111111111111111,
              "#46039f"
             ],
             [
              0.2222222222222222,
              "#7201a8"
             ],
             [
              0.3333333333333333,
              "#9c179e"
             ],
             [
              0.4444444444444444,
              "#bd3786"
             ],
             [
              0.5555555555555556,
              "#d8576b"
             ],
             [
              0.6666666666666666,
              "#ed7953"
             ],
             [
              0.7777777777777778,
              "#fb9f3a"
             ],
             [
              0.8888888888888888,
              "#fdca26"
             ],
             [
              1,
              "#f0f921"
             ]
            ],
            "type": "contour"
           }
          ],
          "contourcarpet": [
           {
            "colorbar": {
             "outlinewidth": 0,
             "ticks": ""
            },
            "type": "contourcarpet"
           }
          ],
          "heatmap": [
           {
            "colorbar": {
             "outlinewidth": 0,
             "ticks": ""
            },
            "colorscale": [
             [
              0,
              "#0d0887"
             ],
             [
              0.1111111111111111,
              "#46039f"
             ],
             [
              0.2222222222222222,
              "#7201a8"
             ],
             [
              0.3333333333333333,
              "#9c179e"
             ],
             [
              0.4444444444444444,
              "#bd3786"
             ],
             [
              0.5555555555555556,
              "#d8576b"
             ],
             [
              0.6666666666666666,
              "#ed7953"
             ],
             [
              0.7777777777777778,
              "#fb9f3a"
             ],
             [
              0.8888888888888888,
              "#fdca26"
             ],
             [
              1,
              "#f0f921"
             ]
            ],
            "type": "heatmap"
           }
          ],
          "heatmapgl": [
           {
            "colorbar": {
             "outlinewidth": 0,
             "ticks": ""
            },
            "colorscale": [
             [
              0,
              "#0d0887"
             ],
             [
              0.1111111111111111,
              "#46039f"
             ],
             [
              0.2222222222222222,
              "#7201a8"
             ],
             [
              0.3333333333333333,
              "#9c179e"
             ],
             [
              0.4444444444444444,
              "#bd3786"
             ],
             [
              0.5555555555555556,
              "#d8576b"
             ],
             [
              0.6666666666666666,
              "#ed7953"
             ],
             [
              0.7777777777777778,
              "#fb9f3a"
             ],
             [
              0.8888888888888888,
              "#fdca26"
             ],
             [
              1,
              "#f0f921"
             ]
            ],
            "type": "heatmapgl"
           }
          ],
          "histogram": [
           {
            "marker": {
             "pattern": {
              "fillmode": "overlay",
              "size": 10,
              "solidity": 0.2
             }
            },
            "type": "histogram"
           }
          ],
          "histogram2d": [
           {
            "colorbar": {
             "outlinewidth": 0,
             "ticks": ""
            },
            "colorscale": [
             [
              0,
              "#0d0887"
             ],
             [
              0.1111111111111111,
              "#46039f"
             ],
             [
              0.2222222222222222,
              "#7201a8"
             ],
             [
              0.3333333333333333,
              "#9c179e"
             ],
             [
              0.4444444444444444,
              "#bd3786"
             ],
             [
              0.5555555555555556,
              "#d8576b"
             ],
             [
              0.6666666666666666,
              "#ed7953"
             ],
             [
              0.7777777777777778,
              "#fb9f3a"
             ],
             [
              0.8888888888888888,
              "#fdca26"
             ],
             [
              1,
              "#f0f921"
             ]
            ],
            "type": "histogram2d"
           }
          ],
          "histogram2dcontour": [
           {
            "colorbar": {
             "outlinewidth": 0,
             "ticks": ""
            },
            "colorscale": [
             [
              0,
              "#0d0887"
             ],
             [
              0.1111111111111111,
              "#46039f"
             ],
             [
              0.2222222222222222,
              "#7201a8"
             ],
             [
              0.3333333333333333,
              "#9c179e"
             ],
             [
              0.4444444444444444,
              "#bd3786"
             ],
             [
              0.5555555555555556,
              "#d8576b"
             ],
             [
              0.6666666666666666,
              "#ed7953"
             ],
             [
              0.7777777777777778,
              "#fb9f3a"
             ],
             [
              0.8888888888888888,
              "#fdca26"
             ],
             [
              1,
              "#f0f921"
             ]
            ],
            "type": "histogram2dcontour"
           }
          ],
          "mesh3d": [
           {
            "colorbar": {
             "outlinewidth": 0,
             "ticks": ""
            },
            "type": "mesh3d"
           }
          ],
          "parcoords": [
           {
            "line": {
             "colorbar": {
              "outlinewidth": 0,
              "ticks": ""
             }
            },
            "type": "parcoords"
           }
          ],
          "pie": [
           {
            "automargin": true,
            "type": "pie"
           }
          ],
          "scatter": [
           {
            "fillpattern": {
             "fillmode": "overlay",
             "size": 10,
             "solidity": 0.2
            },
            "type": "scatter"
           }
          ],
          "scatter3d": [
           {
            "line": {
             "colorbar": {
              "outlinewidth": 0,
              "ticks": ""
             }
            },
            "marker": {
             "colorbar": {
              "outlinewidth": 0,
              "ticks": ""
             }
            },
            "type": "scatter3d"
           }
          ],
          "scattercarpet": [
           {
            "marker": {
             "colorbar": {
              "outlinewidth": 0,
              "ticks": ""
             }
            },
            "type": "scattercarpet"
           }
          ],
          "scattergeo": [
           {
            "marker": {
             "colorbar": {
              "outlinewidth": 0,
              "ticks": ""
             }
            },
            "type": "scattergeo"
           }
          ],
          "scattergl": [
           {
            "marker": {
             "colorbar": {
              "outlinewidth": 0,
              "ticks": ""
             }
            },
            "type": "scattergl"
           }
          ],
          "scattermapbox": [
           {
            "marker": {
             "colorbar": {
              "outlinewidth": 0,
              "ticks": ""
             }
            },
            "type": "scattermapbox"
           }
          ],
          "scatterpolar": [
           {
            "marker": {
             "colorbar": {
              "outlinewidth": 0,
              "ticks": ""
             }
            },
            "type": "scatterpolar"
           }
          ],
          "scatterpolargl": [
           {
            "marker": {
             "colorbar": {
              "outlinewidth": 0,
              "ticks": ""
             }
            },
            "type": "scatterpolargl"
           }
          ],
          "scatterternary": [
           {
            "marker": {
             "colorbar": {
              "outlinewidth": 0,
              "ticks": ""
             }
            },
            "type": "scatterternary"
           }
          ],
          "surface": [
           {
            "colorbar": {
             "outlinewidth": 0,
             "ticks": ""
            },
            "colorscale": [
             [
              0,
              "#0d0887"
             ],
             [
              0.1111111111111111,
              "#46039f"
             ],
             [
              0.2222222222222222,
              "#7201a8"
             ],
             [
              0.3333333333333333,
              "#9c179e"
             ],
             [
              0.4444444444444444,
              "#bd3786"
             ],
             [
              0.5555555555555556,
              "#d8576b"
             ],
             [
              0.6666666666666666,
              "#ed7953"
             ],
             [
              0.7777777777777778,
              "#fb9f3a"
             ],
             [
              0.8888888888888888,
              "#fdca26"
             ],
             [
              1,
              "#f0f921"
             ]
            ],
            "type": "surface"
           }
          ],
          "table": [
           {
            "cells": {
             "fill": {
              "color": "#EBF0F8"
             },
             "line": {
              "color": "white"
             }
            },
            "header": {
             "fill": {
              "color": "#C8D4E3"
             },
             "line": {
              "color": "white"
             }
            },
            "type": "table"
           }
          ]
         },
         "layout": {
          "annotationdefaults": {
           "arrowcolor": "#2a3f5f",
           "arrowhead": 0,
           "arrowwidth": 1
          },
          "autotypenumbers": "strict",
          "coloraxis": {
           "colorbar": {
            "outlinewidth": 0,
            "ticks": ""
           }
          },
          "colorscale": {
           "diverging": [
            [
             0,
             "#8e0152"
            ],
            [
             0.1,
             "#c51b7d"
            ],
            [
             0.2,
             "#de77ae"
            ],
            [
             0.3,
             "#f1b6da"
            ],
            [
             0.4,
             "#fde0ef"
            ],
            [
             0.5,
             "#f7f7f7"
            ],
            [
             0.6,
             "#e6f5d0"
            ],
            [
             0.7,
             "#b8e186"
            ],
            [
             0.8,
             "#7fbc41"
            ],
            [
             0.9,
             "#4d9221"
            ],
            [
             1,
             "#276419"
            ]
           ],
           "sequential": [
            [
             0,
             "#0d0887"
            ],
            [
             0.1111111111111111,
             "#46039f"
            ],
            [
             0.2222222222222222,
             "#7201a8"
            ],
            [
             0.3333333333333333,
             "#9c179e"
            ],
            [
             0.4444444444444444,
             "#bd3786"
            ],
            [
             0.5555555555555556,
             "#d8576b"
            ],
            [
             0.6666666666666666,
             "#ed7953"
            ],
            [
             0.7777777777777778,
             "#fb9f3a"
            ],
            [
             0.8888888888888888,
             "#fdca26"
            ],
            [
             1,
             "#f0f921"
            ]
           ],
           "sequentialminus": [
            [
             0,
             "#0d0887"
            ],
            [
             0.1111111111111111,
             "#46039f"
            ],
            [
             0.2222222222222222,
             "#7201a8"
            ],
            [
             0.3333333333333333,
             "#9c179e"
            ],
            [
             0.4444444444444444,
             "#bd3786"
            ],
            [
             0.5555555555555556,
             "#d8576b"
            ],
            [
             0.6666666666666666,
             "#ed7953"
            ],
            [
             0.7777777777777778,
             "#fb9f3a"
            ],
            [
             0.8888888888888888,
             "#fdca26"
            ],
            [
             1,
             "#f0f921"
            ]
           ]
          },
          "colorway": [
           "#636efa",
           "#EF553B",
           "#00cc96",
           "#ab63fa",
           "#FFA15A",
           "#19d3f3",
           "#FF6692",
           "#B6E880",
           "#FF97FF",
           "#FECB52"
          ],
          "font": {
           "color": "#2a3f5f"
          },
          "geo": {
           "bgcolor": "white",
           "lakecolor": "white",
           "landcolor": "#E5ECF6",
           "showlakes": true,
           "showland": true,
           "subunitcolor": "white"
          },
          "hoverlabel": {
           "align": "left"
          },
          "hovermode": "closest",
          "mapbox": {
           "style": "light"
          },
          "paper_bgcolor": "white",
          "plot_bgcolor": "#E5ECF6",
          "polar": {
           "angularaxis": {
            "gridcolor": "white",
            "linecolor": "white",
            "ticks": ""
           },
           "bgcolor": "#E5ECF6",
           "radialaxis": {
            "gridcolor": "white",
            "linecolor": "white",
            "ticks": ""
           }
          },
          "scene": {
           "xaxis": {
            "backgroundcolor": "#E5ECF6",
            "gridcolor": "white",
            "gridwidth": 2,
            "linecolor": "white",
            "showbackground": true,
            "ticks": "",
            "zerolinecolor": "white"
           },
           "yaxis": {
            "backgroundcolor": "#E5ECF6",
            "gridcolor": "white",
            "gridwidth": 2,
            "linecolor": "white",
            "showbackground": true,
            "ticks": "",
            "zerolinecolor": "white"
           },
           "zaxis": {
            "backgroundcolor": "#E5ECF6",
            "gridcolor": "white",
            "gridwidth": 2,
            "linecolor": "white",
            "showbackground": true,
            "ticks": "",
            "zerolinecolor": "white"
           }
          },
          "shapedefaults": {
           "line": {
            "color": "#2a3f5f"
           }
          },
          "ternary": {
           "aaxis": {
            "gridcolor": "white",
            "linecolor": "white",
            "ticks": ""
           },
           "baxis": {
            "gridcolor": "white",
            "linecolor": "white",
            "ticks": ""
           },
           "bgcolor": "#E5ECF6",
           "caxis": {
            "gridcolor": "white",
            "linecolor": "white",
            "ticks": ""
           }
          },
          "title": {
           "x": 0.05
          },
          "xaxis": {
           "automargin": true,
           "gridcolor": "white",
           "linecolor": "white",
           "ticks": "",
           "title": {
            "standoff": 15
           },
           "zerolinecolor": "white",
           "zerolinewidth": 2
          },
          "yaxis": {
           "automargin": true,
           "gridcolor": "white",
           "linecolor": "white",
           "ticks": "",
           "title": {
            "standoff": 15
           },
           "zerolinecolor": "white",
           "zerolinewidth": 2
          }
         }
        },
        "title": {
         "text": "precision",
         "x": 0.5
        },
        "yaxis": {
         "tickmode": "array",
         "tickvals": [
          "0.84",
          0.3,
          0.8
         ]
        }
       }
      }
     },
     "metadata": {},
     "output_type": "display_data"
    }
   ],
   "source": [
    "genVisMulitlabel(partEvalMetrics, \"precision\")"
   ]
  },
  {
   "cell_type": "code",
   "execution_count": 29,
   "metadata": {},
   "outputs": [
    {
     "data": {
      "application/vnd.plotly.v1+json": {
       "config": {
        "plotlyServerURL": "https://plot.ly"
       },
       "data": [
        {
         "text": [
          0.7421602787456446,
          0.9810969116080938,
          0.7863835103060587,
          0.569390402075227,
          0.4178743961352657,
          0.49230769230769234,
          0.5772058823529411,
          0.5135135135135135,
          0.7265258215962441,
          0.8541076487252125,
          0.7835820895522388,
          0.695054945054945,
          0.8005790807093739,
          0.7482124616956077,
          0.7820703318474492,
          0.47379454926624737,
          0.6572769953051644,
          0.44201680672268906,
          0.4449152542372881,
          0.6407185628742516,
          0.7254213483146067,
          0.565587734241908,
          0.5645569620253165,
          0.3598130841121495,
          0.6081424936386769
         ],
         "type": "bar",
         "x": [
          "vision_bumper_rear",
          "vision_misc",
          "vision_rear_compartment",
          "vision_rear_panel",
          "vision_tail_lamp_lh",
          "vision_tail_lamp_rh",
          "vision_non_external",
          "vision_windscreen_rear",
          "vision_bonnet",
          "vision_bumper_front",
          "vision_engine",
          "vision_front_panel",
          "vision_grille",
          "vision_headlamp_lh",
          "vision_headlamp_rh",
          "vision_windscreen_front",
          "vision_door_front_lh",
          "vision_door_rear_lh",
          "vision_rear_quarter_lh",
          "vision_wheel",
          "vision_fender_front_lh",
          "vision_door_front_rh",
          "vision_door_rear_rh",
          "vision_rear_quarter_rh",
          "vision_fender_front_rh"
         ],
         "y": [
          0.7421602787456446,
          0.9810969116080938,
          0.7863835103060587,
          0.569390402075227,
          0.4178743961352657,
          0.49230769230769234,
          0.5772058823529411,
          0.5135135135135135,
          0.7265258215962441,
          0.8541076487252125,
          0.7835820895522388,
          0.695054945054945,
          0.8005790807093739,
          0.7482124616956077,
          0.7820703318474492,
          0.47379454926624737,
          0.6572769953051644,
          0.44201680672268906,
          0.4449152542372881,
          0.6407185628742516,
          0.7254213483146067,
          0.565587734241908,
          0.5645569620253165,
          0.3598130841121495,
          0.6081424936386769
         ]
        }
       ],
       "layout": {
        "shapes": [
         {
          "line": {
           "color": "red",
           "width": 2
          },
          "type": "line",
          "x0": 0,
          "x1": 1,
          "xref": "x domain",
          "y0": 0.6380923502785523,
          "y1": 0.6380923502785523,
          "yref": "y"
         }
        ],
        "template": {
         "data": {
          "bar": [
           {
            "error_x": {
             "color": "#2a3f5f"
            },
            "error_y": {
             "color": "#2a3f5f"
            },
            "marker": {
             "line": {
              "color": "#E5ECF6",
              "width": 0.5
             },
             "pattern": {
              "fillmode": "overlay",
              "size": 10,
              "solidity": 0.2
             }
            },
            "type": "bar"
           }
          ],
          "barpolar": [
           {
            "marker": {
             "line": {
              "color": "#E5ECF6",
              "width": 0.5
             },
             "pattern": {
              "fillmode": "overlay",
              "size": 10,
              "solidity": 0.2
             }
            },
            "type": "barpolar"
           }
          ],
          "carpet": [
           {
            "aaxis": {
             "endlinecolor": "#2a3f5f",
             "gridcolor": "white",
             "linecolor": "white",
             "minorgridcolor": "white",
             "startlinecolor": "#2a3f5f"
            },
            "baxis": {
             "endlinecolor": "#2a3f5f",
             "gridcolor": "white",
             "linecolor": "white",
             "minorgridcolor": "white",
             "startlinecolor": "#2a3f5f"
            },
            "type": "carpet"
           }
          ],
          "choropleth": [
           {
            "colorbar": {
             "outlinewidth": 0,
             "ticks": ""
            },
            "type": "choropleth"
           }
          ],
          "contour": [
           {
            "colorbar": {
             "outlinewidth": 0,
             "ticks": ""
            },
            "colorscale": [
             [
              0,
              "#0d0887"
             ],
             [
              0.1111111111111111,
              "#46039f"
             ],
             [
              0.2222222222222222,
              "#7201a8"
             ],
             [
              0.3333333333333333,
              "#9c179e"
             ],
             [
              0.4444444444444444,
              "#bd3786"
             ],
             [
              0.5555555555555556,
              "#d8576b"
             ],
             [
              0.6666666666666666,
              "#ed7953"
             ],
             [
              0.7777777777777778,
              "#fb9f3a"
             ],
             [
              0.8888888888888888,
              "#fdca26"
             ],
             [
              1,
              "#f0f921"
             ]
            ],
            "type": "contour"
           }
          ],
          "contourcarpet": [
           {
            "colorbar": {
             "outlinewidth": 0,
             "ticks": ""
            },
            "type": "contourcarpet"
           }
          ],
          "heatmap": [
           {
            "colorbar": {
             "outlinewidth": 0,
             "ticks": ""
            },
            "colorscale": [
             [
              0,
              "#0d0887"
             ],
             [
              0.1111111111111111,
              "#46039f"
             ],
             [
              0.2222222222222222,
              "#7201a8"
             ],
             [
              0.3333333333333333,
              "#9c179e"
             ],
             [
              0.4444444444444444,
              "#bd3786"
             ],
             [
              0.5555555555555556,
              "#d8576b"
             ],
             [
              0.6666666666666666,
              "#ed7953"
             ],
             [
              0.7777777777777778,
              "#fb9f3a"
             ],
             [
              0.8888888888888888,
              "#fdca26"
             ],
             [
              1,
              "#f0f921"
             ]
            ],
            "type": "heatmap"
           }
          ],
          "heatmapgl": [
           {
            "colorbar": {
             "outlinewidth": 0,
             "ticks": ""
            },
            "colorscale": [
             [
              0,
              "#0d0887"
             ],
             [
              0.1111111111111111,
              "#46039f"
             ],
             [
              0.2222222222222222,
              "#7201a8"
             ],
             [
              0.3333333333333333,
              "#9c179e"
             ],
             [
              0.4444444444444444,
              "#bd3786"
             ],
             [
              0.5555555555555556,
              "#d8576b"
             ],
             [
              0.6666666666666666,
              "#ed7953"
             ],
             [
              0.7777777777777778,
              "#fb9f3a"
             ],
             [
              0.8888888888888888,
              "#fdca26"
             ],
             [
              1,
              "#f0f921"
             ]
            ],
            "type": "heatmapgl"
           }
          ],
          "histogram": [
           {
            "marker": {
             "pattern": {
              "fillmode": "overlay",
              "size": 10,
              "solidity": 0.2
             }
            },
            "type": "histogram"
           }
          ],
          "histogram2d": [
           {
            "colorbar": {
             "outlinewidth": 0,
             "ticks": ""
            },
            "colorscale": [
             [
              0,
              "#0d0887"
             ],
             [
              0.1111111111111111,
              "#46039f"
             ],
             [
              0.2222222222222222,
              "#7201a8"
             ],
             [
              0.3333333333333333,
              "#9c179e"
             ],
             [
              0.4444444444444444,
              "#bd3786"
             ],
             [
              0.5555555555555556,
              "#d8576b"
             ],
             [
              0.6666666666666666,
              "#ed7953"
             ],
             [
              0.7777777777777778,
              "#fb9f3a"
             ],
             [
              0.8888888888888888,
              "#fdca26"
             ],
             [
              1,
              "#f0f921"
             ]
            ],
            "type": "histogram2d"
           }
          ],
          "histogram2dcontour": [
           {
            "colorbar": {
             "outlinewidth": 0,
             "ticks": ""
            },
            "colorscale": [
             [
              0,
              "#0d0887"
             ],
             [
              0.1111111111111111,
              "#46039f"
             ],
             [
              0.2222222222222222,
              "#7201a8"
             ],
             [
              0.3333333333333333,
              "#9c179e"
             ],
             [
              0.4444444444444444,
              "#bd3786"
             ],
             [
              0.5555555555555556,
              "#d8576b"
             ],
             [
              0.6666666666666666,
              "#ed7953"
             ],
             [
              0.7777777777777778,
              "#fb9f3a"
             ],
             [
              0.8888888888888888,
              "#fdca26"
             ],
             [
              1,
              "#f0f921"
             ]
            ],
            "type": "histogram2dcontour"
           }
          ],
          "mesh3d": [
           {
            "colorbar": {
             "outlinewidth": 0,
             "ticks": ""
            },
            "type": "mesh3d"
           }
          ],
          "parcoords": [
           {
            "line": {
             "colorbar": {
              "outlinewidth": 0,
              "ticks": ""
             }
            },
            "type": "parcoords"
           }
          ],
          "pie": [
           {
            "automargin": true,
            "type": "pie"
           }
          ],
          "scatter": [
           {
            "fillpattern": {
             "fillmode": "overlay",
             "size": 10,
             "solidity": 0.2
            },
            "type": "scatter"
           }
          ],
          "scatter3d": [
           {
            "line": {
             "colorbar": {
              "outlinewidth": 0,
              "ticks": ""
             }
            },
            "marker": {
             "colorbar": {
              "outlinewidth": 0,
              "ticks": ""
             }
            },
            "type": "scatter3d"
           }
          ],
          "scattercarpet": [
           {
            "marker": {
             "colorbar": {
              "outlinewidth": 0,
              "ticks": ""
             }
            },
            "type": "scattercarpet"
           }
          ],
          "scattergeo": [
           {
            "marker": {
             "colorbar": {
              "outlinewidth": 0,
              "ticks": ""
             }
            },
            "type": "scattergeo"
           }
          ],
          "scattergl": [
           {
            "marker": {
             "colorbar": {
              "outlinewidth": 0,
              "ticks": ""
             }
            },
            "type": "scattergl"
           }
          ],
          "scattermapbox": [
           {
            "marker": {
             "colorbar": {
              "outlinewidth": 0,
              "ticks": ""
             }
            },
            "type": "scattermapbox"
           }
          ],
          "scatterpolar": [
           {
            "marker": {
             "colorbar": {
              "outlinewidth": 0,
              "ticks": ""
             }
            },
            "type": "scatterpolar"
           }
          ],
          "scatterpolargl": [
           {
            "marker": {
             "colorbar": {
              "outlinewidth": 0,
              "ticks": ""
             }
            },
            "type": "scatterpolargl"
           }
          ],
          "scatterternary": [
           {
            "marker": {
             "colorbar": {
              "outlinewidth": 0,
              "ticks": ""
             }
            },
            "type": "scatterternary"
           }
          ],
          "surface": [
           {
            "colorbar": {
             "outlinewidth": 0,
             "ticks": ""
            },
            "colorscale": [
             [
              0,
              "#0d0887"
             ],
             [
              0.1111111111111111,
              "#46039f"
             ],
             [
              0.2222222222222222,
              "#7201a8"
             ],
             [
              0.3333333333333333,
              "#9c179e"
             ],
             [
              0.4444444444444444,
              "#bd3786"
             ],
             [
              0.5555555555555556,
              "#d8576b"
             ],
             [
              0.6666666666666666,
              "#ed7953"
             ],
             [
              0.7777777777777778,
              "#fb9f3a"
             ],
             [
              0.8888888888888888,
              "#fdca26"
             ],
             [
              1,
              "#f0f921"
             ]
            ],
            "type": "surface"
           }
          ],
          "table": [
           {
            "cells": {
             "fill": {
              "color": "#EBF0F8"
             },
             "line": {
              "color": "white"
             }
            },
            "header": {
             "fill": {
              "color": "#C8D4E3"
             },
             "line": {
              "color": "white"
             }
            },
            "type": "table"
           }
          ]
         },
         "layout": {
          "annotationdefaults": {
           "arrowcolor": "#2a3f5f",
           "arrowhead": 0,
           "arrowwidth": 1
          },
          "autotypenumbers": "strict",
          "coloraxis": {
           "colorbar": {
            "outlinewidth": 0,
            "ticks": ""
           }
          },
          "colorscale": {
           "diverging": [
            [
             0,
             "#8e0152"
            ],
            [
             0.1,
             "#c51b7d"
            ],
            [
             0.2,
             "#de77ae"
            ],
            [
             0.3,
             "#f1b6da"
            ],
            [
             0.4,
             "#fde0ef"
            ],
            [
             0.5,
             "#f7f7f7"
            ],
            [
             0.6,
             "#e6f5d0"
            ],
            [
             0.7,
             "#b8e186"
            ],
            [
             0.8,
             "#7fbc41"
            ],
            [
             0.9,
             "#4d9221"
            ],
            [
             1,
             "#276419"
            ]
           ],
           "sequential": [
            [
             0,
             "#0d0887"
            ],
            [
             0.1111111111111111,
             "#46039f"
            ],
            [
             0.2222222222222222,
             "#7201a8"
            ],
            [
             0.3333333333333333,
             "#9c179e"
            ],
            [
             0.4444444444444444,
             "#bd3786"
            ],
            [
             0.5555555555555556,
             "#d8576b"
            ],
            [
             0.6666666666666666,
             "#ed7953"
            ],
            [
             0.7777777777777778,
             "#fb9f3a"
            ],
            [
             0.8888888888888888,
             "#fdca26"
            ],
            [
             1,
             "#f0f921"
            ]
           ],
           "sequentialminus": [
            [
             0,
             "#0d0887"
            ],
            [
             0.1111111111111111,
             "#46039f"
            ],
            [
             0.2222222222222222,
             "#7201a8"
            ],
            [
             0.3333333333333333,
             "#9c179e"
            ],
            [
             0.4444444444444444,
             "#bd3786"
            ],
            [
             0.5555555555555556,
             "#d8576b"
            ],
            [
             0.6666666666666666,
             "#ed7953"
            ],
            [
             0.7777777777777778,
             "#fb9f3a"
            ],
            [
             0.8888888888888888,
             "#fdca26"
            ],
            [
             1,
             "#f0f921"
            ]
           ]
          },
          "colorway": [
           "#636efa",
           "#EF553B",
           "#00cc96",
           "#ab63fa",
           "#FFA15A",
           "#19d3f3",
           "#FF6692",
           "#B6E880",
           "#FF97FF",
           "#FECB52"
          ],
          "font": {
           "color": "#2a3f5f"
          },
          "geo": {
           "bgcolor": "white",
           "lakecolor": "white",
           "landcolor": "#E5ECF6",
           "showlakes": true,
           "showland": true,
           "subunitcolor": "white"
          },
          "hoverlabel": {
           "align": "left"
          },
          "hovermode": "closest",
          "mapbox": {
           "style": "light"
          },
          "paper_bgcolor": "white",
          "plot_bgcolor": "#E5ECF6",
          "polar": {
           "angularaxis": {
            "gridcolor": "white",
            "linecolor": "white",
            "ticks": ""
           },
           "bgcolor": "#E5ECF6",
           "radialaxis": {
            "gridcolor": "white",
            "linecolor": "white",
            "ticks": ""
           }
          },
          "scene": {
           "xaxis": {
            "backgroundcolor": "#E5ECF6",
            "gridcolor": "white",
            "gridwidth": 2,
            "linecolor": "white",
            "showbackground": true,
            "ticks": "",
            "zerolinecolor": "white"
           },
           "yaxis": {
            "backgroundcolor": "#E5ECF6",
            "gridcolor": "white",
            "gridwidth": 2,
            "linecolor": "white",
            "showbackground": true,
            "ticks": "",
            "zerolinecolor": "white"
           },
           "zaxis": {
            "backgroundcolor": "#E5ECF6",
            "gridcolor": "white",
            "gridwidth": 2,
            "linecolor": "white",
            "showbackground": true,
            "ticks": "",
            "zerolinecolor": "white"
           }
          },
          "shapedefaults": {
           "line": {
            "color": "#2a3f5f"
           }
          },
          "ternary": {
           "aaxis": {
            "gridcolor": "white",
            "linecolor": "white",
            "ticks": ""
           },
           "baxis": {
            "gridcolor": "white",
            "linecolor": "white",
            "ticks": ""
           },
           "bgcolor": "#E5ECF6",
           "caxis": {
            "gridcolor": "white",
            "linecolor": "white",
            "ticks": ""
           }
          },
          "title": {
           "x": 0.05
          },
          "xaxis": {
           "automargin": true,
           "gridcolor": "white",
           "linecolor": "white",
           "ticks": "",
           "title": {
            "standoff": 15
           },
           "zerolinecolor": "white",
           "zerolinewidth": 2
          },
          "yaxis": {
           "automargin": true,
           "gridcolor": "white",
           "linecolor": "white",
           "ticks": "",
           "title": {
            "standoff": 15
           },
           "zerolinecolor": "white",
           "zerolinewidth": 2
          }
         }
        },
        "title": {
         "text": "recall",
         "x": 0.5
        },
        "yaxis": {
         "tickmode": "array",
         "tickvals": [
          "0.64",
          0.3,
          0.8
         ]
        }
       }
      }
     },
     "metadata": {},
     "output_type": "display_data"
    }
   ],
   "source": [
    "genVisMulitlabel(partEvalMetrics, \"recall\")"
   ]
  },
  {
   "cell_type": "code",
   "execution_count": 30,
   "metadata": {},
   "outputs": [
    {
     "data": {
      "application/vnd.plotly.v1+json": {
       "config": {
        "plotlyServerURL": "https://plot.ly"
       },
       "data": [
        {
         "text": [
          0.7020387207007242,
          0.6795274343330944,
          0.8287353203023134,
          0.7021893246310865,
          0.5765493279454218,
          0.6349391917125368,
          0.6804573796174374,
          0.6645508075696583,
          0.794864525739601,
          0.7599509340536511,
          0.7649998184623118,
          0.7674910039711554,
          0.782236170585189,
          0.7747134685193733,
          0.7783725030698299,
          0.6315583158335825,
          0.746098543107458,
          0.592452704952967,
          0.606964364309266,
          0.6988003538908162,
          0.7864984269749348,
          0.6897627176469547,
          0.6806864028375296,
          0.5243650860552318,
          0.7290387360156538
         ],
         "type": "bar",
         "x": [
          "vision_bumper_rear",
          "vision_misc",
          "vision_rear_compartment",
          "vision_rear_panel",
          "vision_tail_lamp_lh",
          "vision_tail_lamp_rh",
          "vision_non_external",
          "vision_windscreen_rear",
          "vision_bonnet",
          "vision_bumper_front",
          "vision_engine",
          "vision_front_panel",
          "vision_grille",
          "vision_headlamp_lh",
          "vision_headlamp_rh",
          "vision_windscreen_front",
          "vision_door_front_lh",
          "vision_door_rear_lh",
          "vision_rear_quarter_lh",
          "vision_wheel",
          "vision_fender_front_lh",
          "vision_door_front_rh",
          "vision_door_rear_rh",
          "vision_rear_quarter_rh",
          "vision_fender_front_rh"
         ],
         "y": [
          0.7020387207007242,
          0.6795274343330944,
          0.8287353203023134,
          0.7021893246310865,
          0.5765493279454218,
          0.6349391917125368,
          0.6804573796174374,
          0.6645508075696583,
          0.794864525739601,
          0.7599509340536511,
          0.7649998184623118,
          0.7674910039711554,
          0.782236170585189,
          0.7747134685193733,
          0.7783725030698299,
          0.6315583158335825,
          0.746098543107458,
          0.592452704952967,
          0.606964364309266,
          0.6988003538908162,
          0.7864984269749348,
          0.6897627176469547,
          0.6806864028375296,
          0.5243650860552318,
          0.7290387360156538
         ]
        }
       ],
       "layout": {
        "shapes": [
         {
          "line": {
           "color": "red",
           "width": 2
          },
          "type": "line",
          "x0": 0,
          "x1": 1,
          "xref": "x domain",
          "y0": 0.7031136633135111,
          "y1": 0.7031136633135111,
          "yref": "y"
         }
        ],
        "template": {
         "data": {
          "bar": [
           {
            "error_x": {
             "color": "#2a3f5f"
            },
            "error_y": {
             "color": "#2a3f5f"
            },
            "marker": {
             "line": {
              "color": "#E5ECF6",
              "width": 0.5
             },
             "pattern": {
              "fillmode": "overlay",
              "size": 10,
              "solidity": 0.2
             }
            },
            "type": "bar"
           }
          ],
          "barpolar": [
           {
            "marker": {
             "line": {
              "color": "#E5ECF6",
              "width": 0.5
             },
             "pattern": {
              "fillmode": "overlay",
              "size": 10,
              "solidity": 0.2
             }
            },
            "type": "barpolar"
           }
          ],
          "carpet": [
           {
            "aaxis": {
             "endlinecolor": "#2a3f5f",
             "gridcolor": "white",
             "linecolor": "white",
             "minorgridcolor": "white",
             "startlinecolor": "#2a3f5f"
            },
            "baxis": {
             "endlinecolor": "#2a3f5f",
             "gridcolor": "white",
             "linecolor": "white",
             "minorgridcolor": "white",
             "startlinecolor": "#2a3f5f"
            },
            "type": "carpet"
           }
          ],
          "choropleth": [
           {
            "colorbar": {
             "outlinewidth": 0,
             "ticks": ""
            },
            "type": "choropleth"
           }
          ],
          "contour": [
           {
            "colorbar": {
             "outlinewidth": 0,
             "ticks": ""
            },
            "colorscale": [
             [
              0,
              "#0d0887"
             ],
             [
              0.1111111111111111,
              "#46039f"
             ],
             [
              0.2222222222222222,
              "#7201a8"
             ],
             [
              0.3333333333333333,
              "#9c179e"
             ],
             [
              0.4444444444444444,
              "#bd3786"
             ],
             [
              0.5555555555555556,
              "#d8576b"
             ],
             [
              0.6666666666666666,
              "#ed7953"
             ],
             [
              0.7777777777777778,
              "#fb9f3a"
             ],
             [
              0.8888888888888888,
              "#fdca26"
             ],
             [
              1,
              "#f0f921"
             ]
            ],
            "type": "contour"
           }
          ],
          "contourcarpet": [
           {
            "colorbar": {
             "outlinewidth": 0,
             "ticks": ""
            },
            "type": "contourcarpet"
           }
          ],
          "heatmap": [
           {
            "colorbar": {
             "outlinewidth": 0,
             "ticks": ""
            },
            "colorscale": [
             [
              0,
              "#0d0887"
             ],
             [
              0.1111111111111111,
              "#46039f"
             ],
             [
              0.2222222222222222,
              "#7201a8"
             ],
             [
              0.3333333333333333,
              "#9c179e"
             ],
             [
              0.4444444444444444,
              "#bd3786"
             ],
             [
              0.5555555555555556,
              "#d8576b"
             ],
             [
              0.6666666666666666,
              "#ed7953"
             ],
             [
              0.7777777777777778,
              "#fb9f3a"
             ],
             [
              0.8888888888888888,
              "#fdca26"
             ],
             [
              1,
              "#f0f921"
             ]
            ],
            "type": "heatmap"
           }
          ],
          "heatmapgl": [
           {
            "colorbar": {
             "outlinewidth": 0,
             "ticks": ""
            },
            "colorscale": [
             [
              0,
              "#0d0887"
             ],
             [
              0.1111111111111111,
              "#46039f"
             ],
             [
              0.2222222222222222,
              "#7201a8"
             ],
             [
              0.3333333333333333,
              "#9c179e"
             ],
             [
              0.4444444444444444,
              "#bd3786"
             ],
             [
              0.5555555555555556,
              "#d8576b"
             ],
             [
              0.6666666666666666,
              "#ed7953"
             ],
             [
              0.7777777777777778,
              "#fb9f3a"
             ],
             [
              0.8888888888888888,
              "#fdca26"
             ],
             [
              1,
              "#f0f921"
             ]
            ],
            "type": "heatmapgl"
           }
          ],
          "histogram": [
           {
            "marker": {
             "pattern": {
              "fillmode": "overlay",
              "size": 10,
              "solidity": 0.2
             }
            },
            "type": "histogram"
           }
          ],
          "histogram2d": [
           {
            "colorbar": {
             "outlinewidth": 0,
             "ticks": ""
            },
            "colorscale": [
             [
              0,
              "#0d0887"
             ],
             [
              0.1111111111111111,
              "#46039f"
             ],
             [
              0.2222222222222222,
              "#7201a8"
             ],
             [
              0.3333333333333333,
              "#9c179e"
             ],
             [
              0.4444444444444444,
              "#bd3786"
             ],
             [
              0.5555555555555556,
              "#d8576b"
             ],
             [
              0.6666666666666666,
              "#ed7953"
             ],
             [
              0.7777777777777778,
              "#fb9f3a"
             ],
             [
              0.8888888888888888,
              "#fdca26"
             ],
             [
              1,
              "#f0f921"
             ]
            ],
            "type": "histogram2d"
           }
          ],
          "histogram2dcontour": [
           {
            "colorbar": {
             "outlinewidth": 0,
             "ticks": ""
            },
            "colorscale": [
             [
              0,
              "#0d0887"
             ],
             [
              0.1111111111111111,
              "#46039f"
             ],
             [
              0.2222222222222222,
              "#7201a8"
             ],
             [
              0.3333333333333333,
              "#9c179e"
             ],
             [
              0.4444444444444444,
              "#bd3786"
             ],
             [
              0.5555555555555556,
              "#d8576b"
             ],
             [
              0.6666666666666666,
              "#ed7953"
             ],
             [
              0.7777777777777778,
              "#fb9f3a"
             ],
             [
              0.8888888888888888,
              "#fdca26"
             ],
             [
              1,
              "#f0f921"
             ]
            ],
            "type": "histogram2dcontour"
           }
          ],
          "mesh3d": [
           {
            "colorbar": {
             "outlinewidth": 0,
             "ticks": ""
            },
            "type": "mesh3d"
           }
          ],
          "parcoords": [
           {
            "line": {
             "colorbar": {
              "outlinewidth": 0,
              "ticks": ""
             }
            },
            "type": "parcoords"
           }
          ],
          "pie": [
           {
            "automargin": true,
            "type": "pie"
           }
          ],
          "scatter": [
           {
            "fillpattern": {
             "fillmode": "overlay",
             "size": 10,
             "solidity": 0.2
            },
            "type": "scatter"
           }
          ],
          "scatter3d": [
           {
            "line": {
             "colorbar": {
              "outlinewidth": 0,
              "ticks": ""
             }
            },
            "marker": {
             "colorbar": {
              "outlinewidth": 0,
              "ticks": ""
             }
            },
            "type": "scatter3d"
           }
          ],
          "scattercarpet": [
           {
            "marker": {
             "colorbar": {
              "outlinewidth": 0,
              "ticks": ""
             }
            },
            "type": "scattercarpet"
           }
          ],
          "scattergeo": [
           {
            "marker": {
             "colorbar": {
              "outlinewidth": 0,
              "ticks": ""
             }
            },
            "type": "scattergeo"
           }
          ],
          "scattergl": [
           {
            "marker": {
             "colorbar": {
              "outlinewidth": 0,
              "ticks": ""
             }
            },
            "type": "scattergl"
           }
          ],
          "scattermapbox": [
           {
            "marker": {
             "colorbar": {
              "outlinewidth": 0,
              "ticks": ""
             }
            },
            "type": "scattermapbox"
           }
          ],
          "scatterpolar": [
           {
            "marker": {
             "colorbar": {
              "outlinewidth": 0,
              "ticks": ""
             }
            },
            "type": "scatterpolar"
           }
          ],
          "scatterpolargl": [
           {
            "marker": {
             "colorbar": {
              "outlinewidth": 0,
              "ticks": ""
             }
            },
            "type": "scatterpolargl"
           }
          ],
          "scatterternary": [
           {
            "marker": {
             "colorbar": {
              "outlinewidth": 0,
              "ticks": ""
             }
            },
            "type": "scatterternary"
           }
          ],
          "surface": [
           {
            "colorbar": {
             "outlinewidth": 0,
             "ticks": ""
            },
            "colorscale": [
             [
              0,
              "#0d0887"
             ],
             [
              0.1111111111111111,
              "#46039f"
             ],
             [
              0.2222222222222222,
              "#7201a8"
             ],
             [
              0.3333333333333333,
              "#9c179e"
             ],
             [
              0.4444444444444444,
              "#bd3786"
             ],
             [
              0.5555555555555556,
              "#d8576b"
             ],
             [
              0.6666666666666666,
              "#ed7953"
             ],
             [
              0.7777777777777778,
              "#fb9f3a"
             ],
             [
              0.8888888888888888,
              "#fdca26"
             ],
             [
              1,
              "#f0f921"
             ]
            ],
            "type": "surface"
           }
          ],
          "table": [
           {
            "cells": {
             "fill": {
              "color": "#EBF0F8"
             },
             "line": {
              "color": "white"
             }
            },
            "header": {
             "fill": {
              "color": "#C8D4E3"
             },
             "line": {
              "color": "white"
             }
            },
            "type": "table"
           }
          ]
         },
         "layout": {
          "annotationdefaults": {
           "arrowcolor": "#2a3f5f",
           "arrowhead": 0,
           "arrowwidth": 1
          },
          "autotypenumbers": "strict",
          "coloraxis": {
           "colorbar": {
            "outlinewidth": 0,
            "ticks": ""
           }
          },
          "colorscale": {
           "diverging": [
            [
             0,
             "#8e0152"
            ],
            [
             0.1,
             "#c51b7d"
            ],
            [
             0.2,
             "#de77ae"
            ],
            [
             0.3,
             "#f1b6da"
            ],
            [
             0.4,
             "#fde0ef"
            ],
            [
             0.5,
             "#f7f7f7"
            ],
            [
             0.6,
             "#e6f5d0"
            ],
            [
             0.7,
             "#b8e186"
            ],
            [
             0.8,
             "#7fbc41"
            ],
            [
             0.9,
             "#4d9221"
            ],
            [
             1,
             "#276419"
            ]
           ],
           "sequential": [
            [
             0,
             "#0d0887"
            ],
            [
             0.1111111111111111,
             "#46039f"
            ],
            [
             0.2222222222222222,
             "#7201a8"
            ],
            [
             0.3333333333333333,
             "#9c179e"
            ],
            [
             0.4444444444444444,
             "#bd3786"
            ],
            [
             0.5555555555555556,
             "#d8576b"
            ],
            [
             0.6666666666666666,
             "#ed7953"
            ],
            [
             0.7777777777777778,
             "#fb9f3a"
            ],
            [
             0.8888888888888888,
             "#fdca26"
            ],
            [
             1,
             "#f0f921"
            ]
           ],
           "sequentialminus": [
            [
             0,
             "#0d0887"
            ],
            [
             0.1111111111111111,
             "#46039f"
            ],
            [
             0.2222222222222222,
             "#7201a8"
            ],
            [
             0.3333333333333333,
             "#9c179e"
            ],
            [
             0.4444444444444444,
             "#bd3786"
            ],
            [
             0.5555555555555556,
             "#d8576b"
            ],
            [
             0.6666666666666666,
             "#ed7953"
            ],
            [
             0.7777777777777778,
             "#fb9f3a"
            ],
            [
             0.8888888888888888,
             "#fdca26"
            ],
            [
             1,
             "#f0f921"
            ]
           ]
          },
          "colorway": [
           "#636efa",
           "#EF553B",
           "#00cc96",
           "#ab63fa",
           "#FFA15A",
           "#19d3f3",
           "#FF6692",
           "#B6E880",
           "#FF97FF",
           "#FECB52"
          ],
          "font": {
           "color": "#2a3f5f"
          },
          "geo": {
           "bgcolor": "white",
           "lakecolor": "white",
           "landcolor": "#E5ECF6",
           "showlakes": true,
           "showland": true,
           "subunitcolor": "white"
          },
          "hoverlabel": {
           "align": "left"
          },
          "hovermode": "closest",
          "mapbox": {
           "style": "light"
          },
          "paper_bgcolor": "white",
          "plot_bgcolor": "#E5ECF6",
          "polar": {
           "angularaxis": {
            "gridcolor": "white",
            "linecolor": "white",
            "ticks": ""
           },
           "bgcolor": "#E5ECF6",
           "radialaxis": {
            "gridcolor": "white",
            "linecolor": "white",
            "ticks": ""
           }
          },
          "scene": {
           "xaxis": {
            "backgroundcolor": "#E5ECF6",
            "gridcolor": "white",
            "gridwidth": 2,
            "linecolor": "white",
            "showbackground": true,
            "ticks": "",
            "zerolinecolor": "white"
           },
           "yaxis": {
            "backgroundcolor": "#E5ECF6",
            "gridcolor": "white",
            "gridwidth": 2,
            "linecolor": "white",
            "showbackground": true,
            "ticks": "",
            "zerolinecolor": "white"
           },
           "zaxis": {
            "backgroundcolor": "#E5ECF6",
            "gridcolor": "white",
            "gridwidth": 2,
            "linecolor": "white",
            "showbackground": true,
            "ticks": "",
            "zerolinecolor": "white"
           }
          },
          "shapedefaults": {
           "line": {
            "color": "#2a3f5f"
           }
          },
          "ternary": {
           "aaxis": {
            "gridcolor": "white",
            "linecolor": "white",
            "ticks": ""
           },
           "baxis": {
            "gridcolor": "white",
            "linecolor": "white",
            "ticks": ""
           },
           "bgcolor": "#E5ECF6",
           "caxis": {
            "gridcolor": "white",
            "linecolor": "white",
            "ticks": ""
           }
          },
          "title": {
           "x": 0.05
          },
          "xaxis": {
           "automargin": true,
           "gridcolor": "white",
           "linecolor": "white",
           "ticks": "",
           "title": {
            "standoff": 15
           },
           "zerolinecolor": "white",
           "zerolinewidth": 2
          },
          "yaxis": {
           "automargin": true,
           "gridcolor": "white",
           "linecolor": "white",
           "ticks": "",
           "title": {
            "standoff": 15
           },
           "zerolinecolor": "white",
           "zerolinewidth": 2
          }
         }
        },
        "title": {
         "text": "f1",
         "x": 0.5
        },
        "yaxis": {
         "tickmode": "array",
         "tickvals": [
          "0.70",
          0.3,
          0.8
         ]
        }
       }
      }
     },
     "metadata": {},
     "output_type": "display_data"
    }
   ],
   "source": [
    "genVisMulitlabel(partEvalMetrics, \"f1\")"
   ]
  },
  {
   "cell_type": "code",
   "execution_count": 31,
   "metadata": {},
   "outputs": [
    {
     "data": {
      "application/vnd.plotly.v1+json": {
       "config": {
        "plotlyServerURL": "https://plot.ly"
       },
       "data": [
        {
         "text": [
          0.34441377655106203,
          0.45073802952118086,
          0.1921276851074043,
          0.09252370094803793,
          0.04968198727949118,
          0.046801872074883,
          0.16320652826113044,
          0.026641065642625705,
          0.2044881795271811,
          0.5930637225489019,
          0.3859354374174967,
          0.1747269890795632,
          0.3315732629305172,
          0.23496939877595105,
          0.2422896915876635,
          0.057242289691587664,
          0.07668306732269291,
          0.07140285611424457,
          0.02832113284531381,
          0.14028561142445697,
          0.17088683547341893,
          0.07044281771270851,
          0.04740189607584303,
          0.025681027241089643,
          0.18864754590183608
         ],
         "type": "bar",
         "x": [
          "vision_bumper_rear",
          "vision_misc",
          "vision_rear_compartment",
          "vision_rear_panel",
          "vision_tail_lamp_lh",
          "vision_tail_lamp_rh",
          "vision_non_external",
          "vision_windscreen_rear",
          "vision_bonnet",
          "vision_bumper_front",
          "vision_engine",
          "vision_front_panel",
          "vision_grille",
          "vision_headlamp_lh",
          "vision_headlamp_rh",
          "vision_windscreen_front",
          "vision_door_front_lh",
          "vision_door_rear_lh",
          "vision_rear_quarter_lh",
          "vision_wheel",
          "vision_fender_front_lh",
          "vision_door_front_rh",
          "vision_door_rear_rh",
          "vision_rear_quarter_rh",
          "vision_fender_front_rh"
         ],
         "y": [
          0.34441377655106203,
          0.45073802952118086,
          0.1921276851074043,
          0.09252370094803793,
          0.04968198727949118,
          0.046801872074883,
          0.16320652826113044,
          0.026641065642625705,
          0.2044881795271811,
          0.5930637225489019,
          0.3859354374174967,
          0.1747269890795632,
          0.3315732629305172,
          0.23496939877595105,
          0.2422896915876635,
          0.057242289691587664,
          0.07668306732269291,
          0.07140285611424457,
          0.02832113284531381,
          0.14028561142445697,
          0.17088683547341893,
          0.07044281771270851,
          0.04740189607584303,
          0.025681027241089643,
          0.18864754590183608
         ]
        }
       ],
       "layout": {
        "shapes": [
         {
          "line": {
           "color": "red",
           "width": 2
          },
          "type": "line",
          "x0": 0,
          "x1": 1,
          "xref": "x domain",
          "y0": 0.1764070562822513,
          "y1": 0.1764070562822513,
          "yref": "y"
         }
        ],
        "template": {
         "data": {
          "bar": [
           {
            "error_x": {
             "color": "#2a3f5f"
            },
            "error_y": {
             "color": "#2a3f5f"
            },
            "marker": {
             "line": {
              "color": "#E5ECF6",
              "width": 0.5
             },
             "pattern": {
              "fillmode": "overlay",
              "size": 10,
              "solidity": 0.2
             }
            },
            "type": "bar"
           }
          ],
          "barpolar": [
           {
            "marker": {
             "line": {
              "color": "#E5ECF6",
              "width": 0.5
             },
             "pattern": {
              "fillmode": "overlay",
              "size": 10,
              "solidity": 0.2
             }
            },
            "type": "barpolar"
           }
          ],
          "carpet": [
           {
            "aaxis": {
             "endlinecolor": "#2a3f5f",
             "gridcolor": "white",
             "linecolor": "white",
             "minorgridcolor": "white",
             "startlinecolor": "#2a3f5f"
            },
            "baxis": {
             "endlinecolor": "#2a3f5f",
             "gridcolor": "white",
             "linecolor": "white",
             "minorgridcolor": "white",
             "startlinecolor": "#2a3f5f"
            },
            "type": "carpet"
           }
          ],
          "choropleth": [
           {
            "colorbar": {
             "outlinewidth": 0,
             "ticks": ""
            },
            "type": "choropleth"
           }
          ],
          "contour": [
           {
            "colorbar": {
             "outlinewidth": 0,
             "ticks": ""
            },
            "colorscale": [
             [
              0,
              "#0d0887"
             ],
             [
              0.1111111111111111,
              "#46039f"
             ],
             [
              0.2222222222222222,
              "#7201a8"
             ],
             [
              0.3333333333333333,
              "#9c179e"
             ],
             [
              0.4444444444444444,
              "#bd3786"
             ],
             [
              0.5555555555555556,
              "#d8576b"
             ],
             [
              0.6666666666666666,
              "#ed7953"
             ],
             [
              0.7777777777777778,
              "#fb9f3a"
             ],
             [
              0.8888888888888888,
              "#fdca26"
             ],
             [
              1,
              "#f0f921"
             ]
            ],
            "type": "contour"
           }
          ],
          "contourcarpet": [
           {
            "colorbar": {
             "outlinewidth": 0,
             "ticks": ""
            },
            "type": "contourcarpet"
           }
          ],
          "heatmap": [
           {
            "colorbar": {
             "outlinewidth": 0,
             "ticks": ""
            },
            "colorscale": [
             [
              0,
              "#0d0887"
             ],
             [
              0.1111111111111111,
              "#46039f"
             ],
             [
              0.2222222222222222,
              "#7201a8"
             ],
             [
              0.3333333333333333,
              "#9c179e"
             ],
             [
              0.4444444444444444,
              "#bd3786"
             ],
             [
              0.5555555555555556,
              "#d8576b"
             ],
             [
              0.6666666666666666,
              "#ed7953"
             ],
             [
              0.7777777777777778,
              "#fb9f3a"
             ],
             [
              0.8888888888888888,
              "#fdca26"
             ],
             [
              1,
              "#f0f921"
             ]
            ],
            "type": "heatmap"
           }
          ],
          "heatmapgl": [
           {
            "colorbar": {
             "outlinewidth": 0,
             "ticks": ""
            },
            "colorscale": [
             [
              0,
              "#0d0887"
             ],
             [
              0.1111111111111111,
              "#46039f"
             ],
             [
              0.2222222222222222,
              "#7201a8"
             ],
             [
              0.3333333333333333,
              "#9c179e"
             ],
             [
              0.4444444444444444,
              "#bd3786"
             ],
             [
              0.5555555555555556,
              "#d8576b"
             ],
             [
              0.6666666666666666,
              "#ed7953"
             ],
             [
              0.7777777777777778,
              "#fb9f3a"
             ],
             [
              0.8888888888888888,
              "#fdca26"
             ],
             [
              1,
              "#f0f921"
             ]
            ],
            "type": "heatmapgl"
           }
          ],
          "histogram": [
           {
            "marker": {
             "pattern": {
              "fillmode": "overlay",
              "size": 10,
              "solidity": 0.2
             }
            },
            "type": "histogram"
           }
          ],
          "histogram2d": [
           {
            "colorbar": {
             "outlinewidth": 0,
             "ticks": ""
            },
            "colorscale": [
             [
              0,
              "#0d0887"
             ],
             [
              0.1111111111111111,
              "#46039f"
             ],
             [
              0.2222222222222222,
              "#7201a8"
             ],
             [
              0.3333333333333333,
              "#9c179e"
             ],
             [
              0.4444444444444444,
              "#bd3786"
             ],
             [
              0.5555555555555556,
              "#d8576b"
             ],
             [
              0.6666666666666666,
              "#ed7953"
             ],
             [
              0.7777777777777778,
              "#fb9f3a"
             ],
             [
              0.8888888888888888,
              "#fdca26"
             ],
             [
              1,
              "#f0f921"
             ]
            ],
            "type": "histogram2d"
           }
          ],
          "histogram2dcontour": [
           {
            "colorbar": {
             "outlinewidth": 0,
             "ticks": ""
            },
            "colorscale": [
             [
              0,
              "#0d0887"
             ],
             [
              0.1111111111111111,
              "#46039f"
             ],
             [
              0.2222222222222222,
              "#7201a8"
             ],
             [
              0.3333333333333333,
              "#9c179e"
             ],
             [
              0.4444444444444444,
              "#bd3786"
             ],
             [
              0.5555555555555556,
              "#d8576b"
             ],
             [
              0.6666666666666666,
              "#ed7953"
             ],
             [
              0.7777777777777778,
              "#fb9f3a"
             ],
             [
              0.8888888888888888,
              "#fdca26"
             ],
             [
              1,
              "#f0f921"
             ]
            ],
            "type": "histogram2dcontour"
           }
          ],
          "mesh3d": [
           {
            "colorbar": {
             "outlinewidth": 0,
             "ticks": ""
            },
            "type": "mesh3d"
           }
          ],
          "parcoords": [
           {
            "line": {
             "colorbar": {
              "outlinewidth": 0,
              "ticks": ""
             }
            },
            "type": "parcoords"
           }
          ],
          "pie": [
           {
            "automargin": true,
            "type": "pie"
           }
          ],
          "scatter": [
           {
            "fillpattern": {
             "fillmode": "overlay",
             "size": 10,
             "solidity": 0.2
            },
            "type": "scatter"
           }
          ],
          "scatter3d": [
           {
            "line": {
             "colorbar": {
              "outlinewidth": 0,
              "ticks": ""
             }
            },
            "marker": {
             "colorbar": {
              "outlinewidth": 0,
              "ticks": ""
             }
            },
            "type": "scatter3d"
           }
          ],
          "scattercarpet": [
           {
            "marker": {
             "colorbar": {
              "outlinewidth": 0,
              "ticks": ""
             }
            },
            "type": "scattercarpet"
           }
          ],
          "scattergeo": [
           {
            "marker": {
             "colorbar": {
              "outlinewidth": 0,
              "ticks": ""
             }
            },
            "type": "scattergeo"
           }
          ],
          "scattergl": [
           {
            "marker": {
             "colorbar": {
              "outlinewidth": 0,
              "ticks": ""
             }
            },
            "type": "scattergl"
           }
          ],
          "scattermapbox": [
           {
            "marker": {
             "colorbar": {
              "outlinewidth": 0,
              "ticks": ""
             }
            },
            "type": "scattermapbox"
           }
          ],
          "scatterpolar": [
           {
            "marker": {
             "colorbar": {
              "outlinewidth": 0,
              "ticks": ""
             }
            },
            "type": "scatterpolar"
           }
          ],
          "scatterpolargl": [
           {
            "marker": {
             "colorbar": {
              "outlinewidth": 0,
              "ticks": ""
             }
            },
            "type": "scatterpolargl"
           }
          ],
          "scatterternary": [
           {
            "marker": {
             "colorbar": {
              "outlinewidth": 0,
              "ticks": ""
             }
            },
            "type": "scatterternary"
           }
          ],
          "surface": [
           {
            "colorbar": {
             "outlinewidth": 0,
             "ticks": ""
            },
            "colorscale": [
             [
              0,
              "#0d0887"
             ],
             [
              0.1111111111111111,
              "#46039f"
             ],
             [
              0.2222222222222222,
              "#7201a8"
             ],
             [
              0.3333333333333333,
              "#9c179e"
             ],
             [
              0.4444444444444444,
              "#bd3786"
             ],
             [
              0.5555555555555556,
              "#d8576b"
             ],
             [
              0.6666666666666666,
              "#ed7953"
             ],
             [
              0.7777777777777778,
              "#fb9f3a"
             ],
             [
              0.8888888888888888,
              "#fdca26"
             ],
             [
              1,
              "#f0f921"
             ]
            ],
            "type": "surface"
           }
          ],
          "table": [
           {
            "cells": {
             "fill": {
              "color": "#EBF0F8"
             },
             "line": {
              "color": "white"
             }
            },
            "header": {
             "fill": {
              "color": "#C8D4E3"
             },
             "line": {
              "color": "white"
             }
            },
            "type": "table"
           }
          ]
         },
         "layout": {
          "annotationdefaults": {
           "arrowcolor": "#2a3f5f",
           "arrowhead": 0,
           "arrowwidth": 1
          },
          "autotypenumbers": "strict",
          "coloraxis": {
           "colorbar": {
            "outlinewidth": 0,
            "ticks": ""
           }
          },
          "colorscale": {
           "diverging": [
            [
             0,
             "#8e0152"
            ],
            [
             0.1,
             "#c51b7d"
            ],
            [
             0.2,
             "#de77ae"
            ],
            [
             0.3,
             "#f1b6da"
            ],
            [
             0.4,
             "#fde0ef"
            ],
            [
             0.5,
             "#f7f7f7"
            ],
            [
             0.6,
             "#e6f5d0"
            ],
            [
             0.7,
             "#b8e186"
            ],
            [
             0.8,
             "#7fbc41"
            ],
            [
             0.9,
             "#4d9221"
            ],
            [
             1,
             "#276419"
            ]
           ],
           "sequential": [
            [
             0,
             "#0d0887"
            ],
            [
             0.1111111111111111,
             "#46039f"
            ],
            [
             0.2222222222222222,
             "#7201a8"
            ],
            [
             0.3333333333333333,
             "#9c179e"
            ],
            [
             0.4444444444444444,
             "#bd3786"
            ],
            [
             0.5555555555555556,
             "#d8576b"
            ],
            [
             0.6666666666666666,
             "#ed7953"
            ],
            [
             0.7777777777777778,
             "#fb9f3a"
            ],
            [
             0.8888888888888888,
             "#fdca26"
            ],
            [
             1,
             "#f0f921"
            ]
           ],
           "sequentialminus": [
            [
             0,
             "#0d0887"
            ],
            [
             0.1111111111111111,
             "#46039f"
            ],
            [
             0.2222222222222222,
             "#7201a8"
            ],
            [
             0.3333333333333333,
             "#9c179e"
            ],
            [
             0.4444444444444444,
             "#bd3786"
            ],
            [
             0.5555555555555556,
             "#d8576b"
            ],
            [
             0.6666666666666666,
             "#ed7953"
            ],
            [
             0.7777777777777778,
             "#fb9f3a"
            ],
            [
             0.8888888888888888,
             "#fdca26"
            ],
            [
             1,
             "#f0f921"
            ]
           ]
          },
          "colorway": [
           "#636efa",
           "#EF553B",
           "#00cc96",
           "#ab63fa",
           "#FFA15A",
           "#19d3f3",
           "#FF6692",
           "#B6E880",
           "#FF97FF",
           "#FECB52"
          ],
          "font": {
           "color": "#2a3f5f"
          },
          "geo": {
           "bgcolor": "white",
           "lakecolor": "white",
           "landcolor": "#E5ECF6",
           "showlakes": true,
           "showland": true,
           "subunitcolor": "white"
          },
          "hoverlabel": {
           "align": "left"
          },
          "hovermode": "closest",
          "mapbox": {
           "style": "light"
          },
          "paper_bgcolor": "white",
          "plot_bgcolor": "#E5ECF6",
          "polar": {
           "angularaxis": {
            "gridcolor": "white",
            "linecolor": "white",
            "ticks": ""
           },
           "bgcolor": "#E5ECF6",
           "radialaxis": {
            "gridcolor": "white",
            "linecolor": "white",
            "ticks": ""
           }
          },
          "scene": {
           "xaxis": {
            "backgroundcolor": "#E5ECF6",
            "gridcolor": "white",
            "gridwidth": 2,
            "linecolor": "white",
            "showbackground": true,
            "ticks": "",
            "zerolinecolor": "white"
           },
           "yaxis": {
            "backgroundcolor": "#E5ECF6",
            "gridcolor": "white",
            "gridwidth": 2,
            "linecolor": "white",
            "showbackground": true,
            "ticks": "",
            "zerolinecolor": "white"
           },
           "zaxis": {
            "backgroundcolor": "#E5ECF6",
            "gridcolor": "white",
            "gridwidth": 2,
            "linecolor": "white",
            "showbackground": true,
            "ticks": "",
            "zerolinecolor": "white"
           }
          },
          "shapedefaults": {
           "line": {
            "color": "#2a3f5f"
           }
          },
          "ternary": {
           "aaxis": {
            "gridcolor": "white",
            "linecolor": "white",
            "ticks": ""
           },
           "baxis": {
            "gridcolor": "white",
            "linecolor": "white",
            "ticks": ""
           },
           "bgcolor": "#E5ECF6",
           "caxis": {
            "gridcolor": "white",
            "linecolor": "white",
            "ticks": ""
           }
          },
          "title": {
           "x": 0.05
          },
          "xaxis": {
           "automargin": true,
           "gridcolor": "white",
           "linecolor": "white",
           "ticks": "",
           "title": {
            "standoff": 15
           },
           "zerolinecolor": "white",
           "zerolinewidth": 2
          },
          "yaxis": {
           "automargin": true,
           "gridcolor": "white",
           "linecolor": "white",
           "ticks": "",
           "title": {
            "standoff": 15
           },
           "zerolinecolor": "white",
           "zerolinewidth": 2
          }
         }
        },
        "title": {
         "text": "gt_pos_ratio",
         "x": 0.5
        },
        "yaxis": {
         "tickmode": "array",
         "tickvals": [
          "0.18",
          0.3,
          0.8
         ]
        }
       }
      }
     },
     "metadata": {},
     "output_type": "display_data"
    }
   ],
   "source": [
    "genVisMulitlabel(partEvalMetrics, \"gt_pos_ratio\")"
   ]
  },
  {
   "cell_type": "code",
   "execution_count": 32,
   "metadata": {},
   "outputs": [
    {
     "data": {
      "application/vnd.plotly.v1+json": {
       "config": {
        "plotlyServerURL": "https://plot.ly"
       },
       "data": [
        {
         "text": [
          0.49957998319932795,
          0.9401176047041881,
          0.24108964358574342,
          0.10020400816032642,
          0.050882035281411254,
          0.07872314892595704,
          0.19404776191047643,
          0.044761790471618865,
          0.22932917316692666,
          0.6667466698667947,
          0.46513860554422176,
          0.2173286931477259,
          0.43009720388815553,
          0.31609264370574824,
          0.36181447257890315,
          0.05220208808352334,
          0.1470058802352094,
          0.078123124924997,
          0.03312132485299412,
          0.25585023400936036,
          0.22284891395655826,
          0.10896435857434297,
          0.11652466098643946,
          0.021480859234369376,
          0.16356654266170648
         ],
         "type": "bar",
         "x": [
          "vision_bumper_rear",
          "vision_misc",
          "vision_rear_compartment",
          "vision_rear_panel",
          "vision_tail_lamp_lh",
          "vision_tail_lamp_rh",
          "vision_non_external",
          "vision_windscreen_rear",
          "vision_bonnet",
          "vision_bumper_front",
          "vision_engine",
          "vision_front_panel",
          "vision_grille",
          "vision_headlamp_lh",
          "vision_headlamp_rh",
          "vision_windscreen_front",
          "vision_door_front_lh",
          "vision_door_rear_lh",
          "vision_rear_quarter_lh",
          "vision_wheel",
          "vision_fender_front_lh",
          "vision_door_front_rh",
          "vision_door_rear_rh",
          "vision_rear_quarter_rh",
          "vision_fender_front_rh"
         ],
         "y": [
          0.49957998319932795,
          0.9401176047041881,
          0.24108964358574342,
          0.10020400816032642,
          0.050882035281411254,
          0.07872314892595704,
          0.19404776191047643,
          0.044761790471618865,
          0.22932917316692666,
          0.6667466698667947,
          0.46513860554422176,
          0.2173286931477259,
          0.43009720388815553,
          0.31609264370574824,
          0.36181447257890315,
          0.05220208808352334,
          0.1470058802352094,
          0.078123124924997,
          0.03312132485299412,
          0.25585023400936036,
          0.22284891395655826,
          0.10896435857434297,
          0.11652466098643946,
          0.021480859234369376,
          0.16356654266170648
         ]
        }
       ],
       "layout": {
        "shapes": [
         {
          "line": {
           "color": "red",
           "width": 2
          },
          "type": "line",
          "x0": 0,
          "x1": 1,
          "xref": "x domain",
          "y0": 0.24142565702628105,
          "y1": 0.24142565702628105,
          "yref": "y"
         }
        ],
        "template": {
         "data": {
          "bar": [
           {
            "error_x": {
             "color": "#2a3f5f"
            },
            "error_y": {
             "color": "#2a3f5f"
            },
            "marker": {
             "line": {
              "color": "#E5ECF6",
              "width": 0.5
             },
             "pattern": {
              "fillmode": "overlay",
              "size": 10,
              "solidity": 0.2
             }
            },
            "type": "bar"
           }
          ],
          "barpolar": [
           {
            "marker": {
             "line": {
              "color": "#E5ECF6",
              "width": 0.5
             },
             "pattern": {
              "fillmode": "overlay",
              "size": 10,
              "solidity": 0.2
             }
            },
            "type": "barpolar"
           }
          ],
          "carpet": [
           {
            "aaxis": {
             "endlinecolor": "#2a3f5f",
             "gridcolor": "white",
             "linecolor": "white",
             "minorgridcolor": "white",
             "startlinecolor": "#2a3f5f"
            },
            "baxis": {
             "endlinecolor": "#2a3f5f",
             "gridcolor": "white",
             "linecolor": "white",
             "minorgridcolor": "white",
             "startlinecolor": "#2a3f5f"
            },
            "type": "carpet"
           }
          ],
          "choropleth": [
           {
            "colorbar": {
             "outlinewidth": 0,
             "ticks": ""
            },
            "type": "choropleth"
           }
          ],
          "contour": [
           {
            "colorbar": {
             "outlinewidth": 0,
             "ticks": ""
            },
            "colorscale": [
             [
              0,
              "#0d0887"
             ],
             [
              0.1111111111111111,
              "#46039f"
             ],
             [
              0.2222222222222222,
              "#7201a8"
             ],
             [
              0.3333333333333333,
              "#9c179e"
             ],
             [
              0.4444444444444444,
              "#bd3786"
             ],
             [
              0.5555555555555556,
              "#d8576b"
             ],
             [
              0.6666666666666666,
              "#ed7953"
             ],
             [
              0.7777777777777778,
              "#fb9f3a"
             ],
             [
              0.8888888888888888,
              "#fdca26"
             ],
             [
              1,
              "#f0f921"
             ]
            ],
            "type": "contour"
           }
          ],
          "contourcarpet": [
           {
            "colorbar": {
             "outlinewidth": 0,
             "ticks": ""
            },
            "type": "contourcarpet"
           }
          ],
          "heatmap": [
           {
            "colorbar": {
             "outlinewidth": 0,
             "ticks": ""
            },
            "colorscale": [
             [
              0,
              "#0d0887"
             ],
             [
              0.1111111111111111,
              "#46039f"
             ],
             [
              0.2222222222222222,
              "#7201a8"
             ],
             [
              0.3333333333333333,
              "#9c179e"
             ],
             [
              0.4444444444444444,
              "#bd3786"
             ],
             [
              0.5555555555555556,
              "#d8576b"
             ],
             [
              0.6666666666666666,
              "#ed7953"
             ],
             [
              0.7777777777777778,
              "#fb9f3a"
             ],
             [
              0.8888888888888888,
              "#fdca26"
             ],
             [
              1,
              "#f0f921"
             ]
            ],
            "type": "heatmap"
           }
          ],
          "heatmapgl": [
           {
            "colorbar": {
             "outlinewidth": 0,
             "ticks": ""
            },
            "colorscale": [
             [
              0,
              "#0d0887"
             ],
             [
              0.1111111111111111,
              "#46039f"
             ],
             [
              0.2222222222222222,
              "#7201a8"
             ],
             [
              0.3333333333333333,
              "#9c179e"
             ],
             [
              0.4444444444444444,
              "#bd3786"
             ],
             [
              0.5555555555555556,
              "#d8576b"
             ],
             [
              0.6666666666666666,
              "#ed7953"
             ],
             [
              0.7777777777777778,
              "#fb9f3a"
             ],
             [
              0.8888888888888888,
              "#fdca26"
             ],
             [
              1,
              "#f0f921"
             ]
            ],
            "type": "heatmapgl"
           }
          ],
          "histogram": [
           {
            "marker": {
             "pattern": {
              "fillmode": "overlay",
              "size": 10,
              "solidity": 0.2
             }
            },
            "type": "histogram"
           }
          ],
          "histogram2d": [
           {
            "colorbar": {
             "outlinewidth": 0,
             "ticks": ""
            },
            "colorscale": [
             [
              0,
              "#0d0887"
             ],
             [
              0.1111111111111111,
              "#46039f"
             ],
             [
              0.2222222222222222,
              "#7201a8"
             ],
             [
              0.3333333333333333,
              "#9c179e"
             ],
             [
              0.4444444444444444,
              "#bd3786"
             ],
             [
              0.5555555555555556,
              "#d8576b"
             ],
             [
              0.6666666666666666,
              "#ed7953"
             ],
             [
              0.7777777777777778,
              "#fb9f3a"
             ],
             [
              0.8888888888888888,
              "#fdca26"
             ],
             [
              1,
              "#f0f921"
             ]
            ],
            "type": "histogram2d"
           }
          ],
          "histogram2dcontour": [
           {
            "colorbar": {
             "outlinewidth": 0,
             "ticks": ""
            },
            "colorscale": [
             [
              0,
              "#0d0887"
             ],
             [
              0.1111111111111111,
              "#46039f"
             ],
             [
              0.2222222222222222,
              "#7201a8"
             ],
             [
              0.3333333333333333,
              "#9c179e"
             ],
             [
              0.4444444444444444,
              "#bd3786"
             ],
             [
              0.5555555555555556,
              "#d8576b"
             ],
             [
              0.6666666666666666,
              "#ed7953"
             ],
             [
              0.7777777777777778,
              "#fb9f3a"
             ],
             [
              0.8888888888888888,
              "#fdca26"
             ],
             [
              1,
              "#f0f921"
             ]
            ],
            "type": "histogram2dcontour"
           }
          ],
          "mesh3d": [
           {
            "colorbar": {
             "outlinewidth": 0,
             "ticks": ""
            },
            "type": "mesh3d"
           }
          ],
          "parcoords": [
           {
            "line": {
             "colorbar": {
              "outlinewidth": 0,
              "ticks": ""
             }
            },
            "type": "parcoords"
           }
          ],
          "pie": [
           {
            "automargin": true,
            "type": "pie"
           }
          ],
          "scatter": [
           {
            "fillpattern": {
             "fillmode": "overlay",
             "size": 10,
             "solidity": 0.2
            },
            "type": "scatter"
           }
          ],
          "scatter3d": [
           {
            "line": {
             "colorbar": {
              "outlinewidth": 0,
              "ticks": ""
             }
            },
            "marker": {
             "colorbar": {
              "outlinewidth": 0,
              "ticks": ""
             }
            },
            "type": "scatter3d"
           }
          ],
          "scattercarpet": [
           {
            "marker": {
             "colorbar": {
              "outlinewidth": 0,
              "ticks": ""
             }
            },
            "type": "scattercarpet"
           }
          ],
          "scattergeo": [
           {
            "marker": {
             "colorbar": {
              "outlinewidth": 0,
              "ticks": ""
             }
            },
            "type": "scattergeo"
           }
          ],
          "scattergl": [
           {
            "marker": {
             "colorbar": {
              "outlinewidth": 0,
              "ticks": ""
             }
            },
            "type": "scattergl"
           }
          ],
          "scattermapbox": [
           {
            "marker": {
             "colorbar": {
              "outlinewidth": 0,
              "ticks": ""
             }
            },
            "type": "scattermapbox"
           }
          ],
          "scatterpolar": [
           {
            "marker": {
             "colorbar": {
              "outlinewidth": 0,
              "ticks": ""
             }
            },
            "type": "scatterpolar"
           }
          ],
          "scatterpolargl": [
           {
            "marker": {
             "colorbar": {
              "outlinewidth": 0,
              "ticks": ""
             }
            },
            "type": "scatterpolargl"
           }
          ],
          "scatterternary": [
           {
            "marker": {
             "colorbar": {
              "outlinewidth": 0,
              "ticks": ""
             }
            },
            "type": "scatterternary"
           }
          ],
          "surface": [
           {
            "colorbar": {
             "outlinewidth": 0,
             "ticks": ""
            },
            "colorscale": [
             [
              0,
              "#0d0887"
             ],
             [
              0.1111111111111111,
              "#46039f"
             ],
             [
              0.2222222222222222,
              "#7201a8"
             ],
             [
              0.3333333333333333,
              "#9c179e"
             ],
             [
              0.4444444444444444,
              "#bd3786"
             ],
             [
              0.5555555555555556,
              "#d8576b"
             ],
             [
              0.6666666666666666,
              "#ed7953"
             ],
             [
              0.7777777777777778,
              "#fb9f3a"
             ],
             [
              0.8888888888888888,
              "#fdca26"
             ],
             [
              1,
              "#f0f921"
             ]
            ],
            "type": "surface"
           }
          ],
          "table": [
           {
            "cells": {
             "fill": {
              "color": "#EBF0F8"
             },
             "line": {
              "color": "white"
             }
            },
            "header": {
             "fill": {
              "color": "#C8D4E3"
             },
             "line": {
              "color": "white"
             }
            },
            "type": "table"
           }
          ]
         },
         "layout": {
          "annotationdefaults": {
           "arrowcolor": "#2a3f5f",
           "arrowhead": 0,
           "arrowwidth": 1
          },
          "autotypenumbers": "strict",
          "coloraxis": {
           "colorbar": {
            "outlinewidth": 0,
            "ticks": ""
           }
          },
          "colorscale": {
           "diverging": [
            [
             0,
             "#8e0152"
            ],
            [
             0.1,
             "#c51b7d"
            ],
            [
             0.2,
             "#de77ae"
            ],
            [
             0.3,
             "#f1b6da"
            ],
            [
             0.4,
             "#fde0ef"
            ],
            [
             0.5,
             "#f7f7f7"
            ],
            [
             0.6,
             "#e6f5d0"
            ],
            [
             0.7,
             "#b8e186"
            ],
            [
             0.8,
             "#7fbc41"
            ],
            [
             0.9,
             "#4d9221"
            ],
            [
             1,
             "#276419"
            ]
           ],
           "sequential": [
            [
             0,
             "#0d0887"
            ],
            [
             0.1111111111111111,
             "#46039f"
            ],
            [
             0.2222222222222222,
             "#7201a8"
            ],
            [
             0.3333333333333333,
             "#9c179e"
            ],
            [
             0.4444444444444444,
             "#bd3786"
            ],
            [
             0.5555555555555556,
             "#d8576b"
            ],
            [
             0.6666666666666666,
             "#ed7953"
            ],
            [
             0.7777777777777778,
             "#fb9f3a"
            ],
            [
             0.8888888888888888,
             "#fdca26"
            ],
            [
             1,
             "#f0f921"
            ]
           ],
           "sequentialminus": [
            [
             0,
             "#0d0887"
            ],
            [
             0.1111111111111111,
             "#46039f"
            ],
            [
             0.2222222222222222,
             "#7201a8"
            ],
            [
             0.3333333333333333,
             "#9c179e"
            ],
            [
             0.4444444444444444,
             "#bd3786"
            ],
            [
             0.5555555555555556,
             "#d8576b"
            ],
            [
             0.6666666666666666,
             "#ed7953"
            ],
            [
             0.7777777777777778,
             "#fb9f3a"
            ],
            [
             0.8888888888888888,
             "#fdca26"
            ],
            [
             1,
             "#f0f921"
            ]
           ]
          },
          "colorway": [
           "#636efa",
           "#EF553B",
           "#00cc96",
           "#ab63fa",
           "#FFA15A",
           "#19d3f3",
           "#FF6692",
           "#B6E880",
           "#FF97FF",
           "#FECB52"
          ],
          "font": {
           "color": "#2a3f5f"
          },
          "geo": {
           "bgcolor": "white",
           "lakecolor": "white",
           "landcolor": "#E5ECF6",
           "showlakes": true,
           "showland": true,
           "subunitcolor": "white"
          },
          "hoverlabel": {
           "align": "left"
          },
          "hovermode": "closest",
          "mapbox": {
           "style": "light"
          },
          "paper_bgcolor": "white",
          "plot_bgcolor": "#E5ECF6",
          "polar": {
           "angularaxis": {
            "gridcolor": "white",
            "linecolor": "white",
            "ticks": ""
           },
           "bgcolor": "#E5ECF6",
           "radialaxis": {
            "gridcolor": "white",
            "linecolor": "white",
            "ticks": ""
           }
          },
          "scene": {
           "xaxis": {
            "backgroundcolor": "#E5ECF6",
            "gridcolor": "white",
            "gridwidth": 2,
            "linecolor": "white",
            "showbackground": true,
            "ticks": "",
            "zerolinecolor": "white"
           },
           "yaxis": {
            "backgroundcolor": "#E5ECF6",
            "gridcolor": "white",
            "gridwidth": 2,
            "linecolor": "white",
            "showbackground": true,
            "ticks": "",
            "zerolinecolor": "white"
           },
           "zaxis": {
            "backgroundcolor": "#E5ECF6",
            "gridcolor": "white",
            "gridwidth": 2,
            "linecolor": "white",
            "showbackground": true,
            "ticks": "",
            "zerolinecolor": "white"
           }
          },
          "shapedefaults": {
           "line": {
            "color": "#2a3f5f"
           }
          },
          "ternary": {
           "aaxis": {
            "gridcolor": "white",
            "linecolor": "white",
            "ticks": ""
           },
           "baxis": {
            "gridcolor": "white",
            "linecolor": "white",
            "ticks": ""
           },
           "bgcolor": "#E5ECF6",
           "caxis": {
            "gridcolor": "white",
            "linecolor": "white",
            "ticks": ""
           }
          },
          "title": {
           "x": 0.05
          },
          "xaxis": {
           "automargin": true,
           "gridcolor": "white",
           "linecolor": "white",
           "ticks": "",
           "title": {
            "standoff": 15
           },
           "zerolinecolor": "white",
           "zerolinewidth": 2
          },
          "yaxis": {
           "automargin": true,
           "gridcolor": "white",
           "linecolor": "white",
           "ticks": "",
           "title": {
            "standoff": 15
           },
           "zerolinecolor": "white",
           "zerolinewidth": 2
          }
         }
        },
        "title": {
         "text": "pred_pos_ratio",
         "x": 0.5
        },
        "yaxis": {
         "tickmode": "array",
         "tickvals": [
          "0.24",
          0.3,
          0.8
         ]
        }
       }
      }
     },
     "metadata": {},
     "output_type": "display_data"
    }
   ],
   "source": [
    "genVisMulitlabel(partEvalMetrics, \"pred_pos_ratio\")"
   ]
  },
  {
   "cell_type": "code",
   "execution_count": 33,
   "metadata": {},
   "outputs": [
    {
     "data": {
      "application/vnd.plotly.v1+json": {
       "config": {
        "plotlyServerURL": "https://plot.ly"
       },
       "data": [
        {
         "alignmentgroup": "True",
         "bingroup": "x",
         "hovertemplate": "subset_acc=%{x}<br>count=%{y}<extra></extra>",
         "legendgroup": "",
         "marker": {
          "color": "#636efa",
          "pattern": {
           "shape": ""
          }
         },
         "name": "",
         "offsetgroup": "",
         "orientation": "v",
         "showlegend": false,
         "type": "histogram",
         "x": [
          0.8,
          0.88,
          0.84,
          0.88,
          0.8,
          0.8,
          0.92,
          0.88,
          0.68,
          0.84,
          0.76,
          0.84,
          0.76,
          0.8,
          0.8,
          0.72,
          0.88,
          0.96,
          0.8,
          0.8,
          0.84,
          0.84,
          0.72,
          0.76,
          0.8,
          0.72,
          0.84,
          0.84,
          0.92,
          0.68,
          0.88,
          0.88,
          0.8,
          0.76,
          0.68,
          0.84,
          0.76,
          0.88,
          0.76,
          0.84,
          0.84,
          0.72,
          0.68,
          0.84,
          0.8,
          0.84,
          0.8,
          0.84,
          0.8,
          0.72,
          0.76,
          0.88,
          0.68,
          0.68,
          0.84,
          0.88,
          0.84,
          0.8,
          0.88,
          0.8,
          0.88,
          0.68,
          0.76,
          1,
          0.92,
          0.76,
          0.92,
          0.76,
          0.76,
          0.92,
          0.8,
          0.88,
          0.92,
          0.88,
          0.76,
          0.8,
          0.8,
          0.72,
          0.76,
          0.8,
          0.8,
          0.92,
          0.92,
          0.92,
          0.8,
          0.8,
          0.88,
          0.8,
          0.92,
          0.8,
          0.88,
          0.92,
          0.92,
          0.84,
          0.96,
          0.8,
          0.88,
          0.84,
          0.88,
          0.64,
          0.88,
          0.84,
          0.84,
          0.84,
          0.84,
          0.68,
          0.88,
          0.8,
          0.72,
          0.76,
          0.68,
          0.84,
          0.8,
          0.76,
          0.84,
          0.88,
          0.76,
          0.8,
          0.84,
          0.88,
          0.84,
          0.72,
          0.84,
          0.88,
          0.92,
          0.8,
          0.76,
          0.8,
          0.88,
          0.84,
          0.84,
          0.92,
          0.96,
          0.76,
          0.92,
          0.88,
          0.88,
          0.8,
          0.88,
          0.92,
          0.88,
          0.6,
          0.84,
          0.76,
          0.92,
          0.88,
          0.84,
          0.92,
          0.8,
          0.92,
          0.76,
          0.84,
          0.72,
          0.72,
          0.72,
          0.92,
          0.92,
          0.72,
          0.84,
          0.72,
          0.92,
          0.8,
          0.84,
          0.72,
          0.88,
          0.88,
          0.88,
          0.92,
          0.8,
          0.76,
          0.84,
          0.84,
          0.76,
          0.8,
          0.76,
          0.88,
          0.92,
          0.84,
          0.76,
          0.84,
          0.92,
          0.68,
          0.88,
          0.96,
          0.68,
          0.68,
          0.76,
          0.84,
          0.84,
          0.76,
          0.84,
          0.68,
          0.76,
          0.8,
          0.72,
          0.56,
          0.88,
          0.76,
          0.92,
          0.76,
          0.84,
          0.88,
          0.76,
          0.88,
          0.84,
          0.92,
          0.84,
          0.8,
          0.76,
          0.68,
          0.76,
          0.76,
          0.8,
          0.84,
          0.76,
          0.76,
          0.8,
          0.68,
          1,
          0.84,
          0.88,
          0.96,
          0.88,
          0.68,
          0.96,
          0.8,
          0.84,
          0.88,
          0.84,
          0.88,
          0.92,
          0.76,
          0.84,
          0.84,
          0.8,
          0.8,
          0.76,
          0.76,
          0.8,
          0.88,
          0.8,
          0.8,
          0.84,
          0.72,
          0.88,
          0.84,
          0.84,
          0.76,
          0.84,
          0.96,
          0.72,
          0.76,
          0.72,
          0.84,
          0.88,
          0.84,
          0.84,
          0.8,
          0.84,
          0.84,
          0.88,
          0.68,
          0.8,
          0.72,
          0.92,
          0.8,
          0.84,
          0.84,
          0.84,
          0.72,
          0.84,
          0.88,
          0.8,
          0.8,
          0.92,
          0.92,
          0.88,
          0.84,
          0.72,
          0.96,
          0.68,
          0.8,
          0.76,
          0.88,
          0.92,
          0.84,
          0.76,
          0.76,
          0.76,
          0.76,
          0.72,
          0.96,
          0.68,
          0.88,
          0.92,
          0.68,
          0.84,
          0.84,
          0.88,
          0.88,
          0.8,
          0.92,
          0.76,
          0.84,
          0.92,
          0.8,
          0.76,
          0.84,
          0.84,
          0.92,
          0.84,
          0.84,
          0.64,
          0.76,
          0.92,
          0.84,
          0.88,
          0.68,
          0.96,
          0.88,
          0.8,
          0.84,
          0.76,
          0.88,
          0.84,
          0.72,
          0.8,
          0.88,
          0.72,
          1,
          0.72,
          0.88,
          0.96,
          0.84,
          0.84,
          0.88,
          0.92,
          0.72,
          0.92,
          0.76,
          0.76,
          0.88,
          0.76,
          0.72,
          0.84,
          0.92,
          0.84,
          0.72,
          0.92,
          0.84,
          0.76,
          0.68,
          0.88,
          0.96,
          0.72,
          0.84,
          0.8,
          0.88,
          0.6,
          0.88,
          0.8,
          0.72,
          0.8,
          0.76,
          0.68,
          0.8,
          0.6,
          0.88,
          0.8,
          0.88,
          0.96,
          0.72,
          0.88,
          0.84,
          0.6,
          0.88,
          0.64,
          0.76,
          0.8,
          0.88,
          0.8,
          0.84,
          0.76,
          0.76,
          0.88,
          0.84,
          0.88,
          1,
          0.72,
          0.72,
          0.84,
          0.72,
          0.88,
          0.68,
          0.88,
          0.88,
          0.8,
          0.8,
          0.84,
          0.84,
          0.72,
          0.88,
          0.8,
          0.96,
          0.96,
          0.88,
          0.84,
          0.8,
          1,
          0.92,
          0.8,
          0.88,
          0.8,
          0.88,
          0.76,
          0.88,
          0.84,
          0.8,
          0.88,
          0.84,
          0.8,
          0.92,
          0.84,
          0.8,
          0.72,
          0.8,
          0.8,
          0.8,
          0.8,
          0.84,
          0.84,
          0.76,
          0.84,
          0.88,
          0.84,
          0.88,
          0.8,
          0.68,
          0.8,
          0.76,
          0.84,
          0.72,
          0.84,
          0.8,
          0.92,
          0.84,
          0.88,
          0.96,
          0.8,
          0.84,
          0.96,
          0.88,
          0.8,
          0.8,
          0.84,
          0.8,
          0.76,
          0.92,
          0.64,
          0.76,
          0.68,
          0.88,
          0.64,
          0.68,
          0.92,
          0.76,
          0.88,
          0.84,
          0.64,
          0.92,
          0.8,
          0.72,
          0.8,
          0.72,
          0.88,
          0.88,
          0.84,
          0.72,
          0.84,
          0.84,
          0.92,
          0.76,
          0.8,
          0.8,
          0.96,
          0.6,
          0.92,
          1,
          0.6,
          0.84,
          0.68,
          0.92,
          0.68,
          0.88,
          0.88,
          0.8,
          0.68,
          1,
          0.8,
          0.6,
          0.88,
          0.76,
          0.68,
          0.84,
          0.96,
          0.88,
          0.8,
          0.76,
          0.8,
          0.88,
          0.72,
          0.88,
          0.8,
          0.8,
          0.68,
          0.88,
          0.76,
          0.88,
          0.84,
          0.96,
          0.72,
          0.88,
          0.92,
          0.72,
          0.76,
          0.88,
          0.92,
          0.84,
          0.76,
          0.84,
          0.88,
          0.68,
          0.88,
          0.88,
          0.88,
          0.96,
          0.72,
          0.92,
          0.68,
          0.88,
          0.72,
          0.76,
          0.8,
          0.8,
          0.92,
          0.76,
          0.76,
          0.8,
          0.84,
          0.84,
          0.84,
          0.84,
          0.8,
          0.76,
          0.96,
          0.84,
          0.8,
          0.88,
          0.72,
          0.84,
          0.8,
          0.84,
          0.76,
          0.68,
          0.72,
          0.84,
          0.8,
          0.76,
          0.88,
          0.84,
          0.76,
          0.72,
          0.76,
          0.84,
          0.88,
          0.8,
          0.76,
          0.84,
          0.84,
          0.84,
          0.72,
          0.8,
          0.84,
          0.92,
          0.88,
          0.76,
          0.84,
          0.88,
          0.84,
          0.76,
          0.88,
          0.68,
          0.64,
          0.88,
          0.72,
          0.84,
          1,
          0.88,
          0.68,
          0.84,
          0.8,
          0.68,
          0.68,
          0.72,
          0.88,
          0.8,
          0.8,
          0.76,
          0.76,
          0.76,
          0.76,
          0.8,
          0.8,
          0.76,
          0.8,
          0.84,
          0.8,
          0.8,
          0.88,
          0.76,
          0.8,
          0.88,
          0.88,
          0.76,
          0.64,
          0.76,
          0.6,
          0.8,
          0.72,
          0.76,
          0.8,
          0.8,
          0.92,
          0.8,
          0.76,
          0.76,
          0.76,
          0.84,
          0.92,
          0.84,
          0.88,
          0.8,
          0.76,
          0.76,
          0.84,
          0.76,
          0.92,
          0.84,
          0.8,
          0.72,
          0.88,
          0.72,
          0.84,
          0.8,
          0.96,
          0.96,
          0.8,
          0.8,
          0.8,
          0.84,
          0.76,
          0.8,
          0.8,
          0.76,
          0.84,
          0.92,
          0.64,
          0.76,
          0.84,
          0.84,
          0.92,
          0.84,
          0.76,
          0.76,
          0.68,
          0.76,
          0.8,
          0.76,
          0.8,
          0.88,
          0.84,
          0.88,
          0.88,
          0.84,
          0.76,
          0.8,
          0.84,
          0.84,
          0.92,
          0.84,
          0.92,
          0.88,
          0.84,
          0.76,
          0.96,
          0.84,
          0.76,
          0.64,
          0.68,
          0.84,
          0.88,
          0.88,
          0.92,
          0.76,
          0.84,
          0.8,
          0.76,
          0.96,
          0.72,
          0.88,
          0.88,
          0.76,
          0.8,
          0.8,
          0.76,
          0.84,
          0.72,
          0.8,
          0.84,
          0.6,
          0.88,
          0.8,
          0.92,
          0.76,
          0.96,
          0.84,
          0.8,
          0.92,
          0.84,
          0.88,
          0.92,
          0.84,
          0.88,
          0.76,
          0.8,
          0.84,
          0.84,
          0.88,
          0.72,
          0.76,
          0.88,
          0.8,
          0.84,
          0.76,
          0.68,
          0.8,
          0.96,
          0.88,
          0.84,
          0.88,
          0.84,
          0.72,
          0.8,
          0.84,
          0.84,
          0.72,
          0.88,
          0.88,
          0.84,
          0.96,
          0.84,
          0.92,
          0.88,
          0.76,
          0.8,
          0.72,
          0.8,
          0.88,
          0.68,
          0.8,
          0.8,
          0.8,
          0.8,
          0.88,
          0.76,
          0.8,
          0.84,
          0.84,
          0.72,
          0.72,
          0.8,
          0.8,
          0.76,
          0.92,
          0.84,
          0.72,
          0.52,
          0.88,
          0.92,
          0.72,
          0.88,
          0.84,
          0.92,
          0.88,
          0.96,
          0.92,
          0.84,
          0.68,
          0.6,
          0.88,
          0.96,
          0.84,
          0.92,
          0.92,
          0.88,
          0.68,
          0.84,
          0.92,
          0.88,
          0.72,
          0.84,
          0.84,
          0.84,
          0.88,
          1,
          0.72,
          0.8,
          0.88,
          0.64,
          0.92,
          0.92,
          0.88,
          0.76,
          0.96,
          0.76,
          0.8,
          0.88,
          0.8,
          0.72,
          0.88,
          0.88,
          0.8,
          0.8,
          0.8,
          0.72,
          0.96,
          0.88,
          0.76,
          0.88,
          0.88,
          0.84,
          0.8,
          0.76,
          0.76,
          0.68,
          0.84,
          0.8,
          0.84,
          0.84,
          0.84,
          0.84,
          0.88,
          0.96,
          0.92,
          0.92,
          0.88,
          0.76,
          0.92,
          0.88,
          0.72,
          0.8,
          0.68,
          0.68,
          0.8,
          0.88,
          0.84,
          0.8,
          0.84,
          0.92,
          0.92,
          0.88,
          0.84,
          0.88,
          0.92,
          0.64,
          0.96,
          0.96,
          0.84,
          0.8,
          0.72,
          0.88,
          0.8,
          0.68,
          0.76,
          0.72,
          0.76,
          0.84,
          0.84,
          0.72,
          0.84,
          0.68,
          0.88,
          0.72,
          0.8,
          0.72,
          0.92,
          0.88,
          0.76,
          0.76,
          0.84,
          0.88,
          0.84,
          0.92,
          0.72,
          0.88,
          0.8,
          0.92,
          0.88,
          0.92,
          0.64,
          0.8,
          0.8,
          0.8,
          0.76,
          0.6,
          0.68,
          0.72,
          0.76,
          0.76,
          0.92,
          0.84,
          0.84,
          0.84,
          0.76,
          0.8,
          0.72,
          0.8,
          0.72,
          0.96,
          0.72,
          0.88,
          0.88,
          0.76,
          0.88,
          0.76,
          0.84,
          0.84,
          0.64,
          0.84,
          0.88,
          0.96,
          0.92,
          0.96,
          0.92,
          0.88,
          0.68,
          0.92,
          0.84,
          0.84,
          0.68,
          0.88,
          0.8,
          0.84,
          0.84,
          0.92,
          0.88,
          0.84,
          0.8,
          0.88,
          0.92,
          0.8,
          0.8,
          1,
          0.8,
          0.88,
          0.96,
          0.72,
          0.92,
          0.8,
          0.84,
          0.8,
          0.92,
          0.92,
          0.96,
          0.92,
          0.88,
          0.76,
          0.76,
          0.88,
          0.8,
          0.8,
          0.8,
          0.8,
          0.68,
          0.88,
          0.76,
          0.72,
          0.68,
          0.88,
          0.88,
          0.84,
          0.8,
          0.72,
          0.84,
          0.6,
          0.76,
          0.8,
          0.8,
          0.92,
          0.96,
          0.88,
          0.84,
          0.72,
          0.88,
          0.88,
          0.68,
          0.88,
          0.92,
          0.84,
          0.8,
          0.84,
          0.92,
          0.84,
          0.88,
          0.88,
          0.68,
          0.96,
          0.72,
          0.84,
          0.76,
          0.92,
          0.8,
          0.64,
          0.88,
          0.96,
          0.92,
          0.76,
          0.68,
          0.84,
          0.84,
          0.84,
          0.96,
          0.76,
          0.8,
          0.84,
          0.72,
          0.88,
          0.92,
          0.84,
          0.84,
          0.84,
          0.76,
          0.88,
          0.88,
          0.8,
          0.8,
          0.92,
          0.84,
          0.72,
          0.84,
          0.8,
          0.8,
          0.76,
          0.88,
          0.76,
          0.88,
          0.76,
          0.8,
          0.6,
          0.72,
          0.84,
          0.84,
          0.88,
          0.84,
          0.72,
          0.76,
          0.72,
          0.84,
          0.84,
          0.84,
          0.68,
          0.92,
          0.84,
          0.72,
          0.84,
          0.92,
          0.68,
          0.8,
          0.8,
          0.92,
          0.88,
          0.92,
          0.92,
          0.72,
          0.88,
          0.96,
          0.8,
          0.84,
          0.8,
          0.8,
          0.76,
          0.68,
          0.84,
          0.84,
          0.84,
          0.84,
          0.8,
          0.84,
          0.88,
          0.68,
          0.76,
          0.68,
          0.76,
          0.76,
          0.8,
          0.88,
          0.6,
          0.96,
          0.72,
          0.8,
          0.8,
          0.64,
          0.84,
          0.84,
          0.8,
          0.76,
          0.68,
          0.96,
          0.88,
          0.68,
          0.76,
          0.8,
          0.8,
          0.72,
          0.84,
          0.92,
          0.76,
          0.84,
          0.88,
          0.76,
          0.84,
          0.76,
          0.88,
          0.88,
          0.88,
          0.88,
          0.92,
          0.96,
          0.84,
          0.72,
          0.48,
          0.76,
          0.84,
          0.88,
          0.8,
          0.96,
          0.72,
          0.8,
          0.76,
          0.72,
          0.88,
          0.76,
          0.84,
          0.84,
          0.88,
          0.76,
          0.92,
          0.8,
          0.92,
          0.8,
          0.8,
          0.84,
          0.84,
          0.88,
          0.72,
          0.84,
          0.8,
          0.88,
          0.84,
          0.88,
          0.68,
          0.72,
          0.84,
          0.92,
          0.56,
          0.76,
          0.84,
          0.84,
          0.84,
          0.92,
          0.8,
          0.8,
          0.88,
          0.8,
          0.84,
          0.68,
          0.8,
          0.92,
          0.88,
          0.76,
          0.84,
          0.84,
          0.8,
          0.76,
          0.88,
          0.76,
          0.76,
          0.8,
          0.8,
          0.84,
          0.8,
          0.72,
          0.84,
          0.88,
          0.76,
          0.88,
          0.84,
          0.84,
          0.8,
          0.8,
          0.72,
          0.92,
          0.88,
          0.84,
          0.88,
          0.84,
          0.96,
          0.76,
          0.8,
          0.84,
          0.84,
          0.8,
          0.84,
          0.84,
          0.84,
          0.76,
          0.84,
          0.72,
          0.88,
          0.8,
          0.8,
          0.84,
          0.88,
          0.84,
          0.92,
          0.68,
          0.8,
          0.76,
          0.8,
          0.92,
          0.8,
          0.88,
          0.84,
          0.84,
          0.76,
          0.88,
          0.72,
          0.8,
          0.84,
          0.76,
          0.72,
          0.88,
          0.96,
          0.92,
          0.92,
          0.76,
          0.64,
          0.96,
          0.76,
          0.68,
          0.88,
          0.88,
          0.8,
          0.84,
          0.88,
          0.88,
          0.52,
          0.88,
          0.84,
          0.84,
          0.88,
          0.96,
          0.72,
          0.84,
          0.64,
          0.72,
          0.84,
          0.88,
          0.72,
          0.88,
          0.68,
          0.76,
          0.84,
          0.8,
          0.84,
          0.96,
          0.88,
          0.64,
          0.8,
          0.76,
          0.84,
          0.76,
          0.52,
          0.84,
          0.92,
          0.76,
          0.84,
          0.88,
          0.72,
          0.84,
          0.92,
          0.72,
          0.88,
          0.92,
          0.84,
          0.8,
          0.88,
          0.76,
          0.88,
          0.92,
          0.88,
          0.84,
          0.8,
          0.84,
          0.92,
          0.8,
          0.84,
          0.84,
          0.72,
          0.88,
          0.8,
          0.76,
          0.6,
          0.72,
          0.88,
          0.84,
          0.76,
          0.72,
          0.88,
          0.8,
          0.8,
          0.84,
          0.72,
          0.92,
          0.76,
          0.8,
          0.8,
          0.8,
          0.68,
          0.88,
          0.8,
          0.8,
          0.8,
          0.84,
          0.48,
          0.56,
          0.84,
          0.96,
          0.72,
          0.8,
          0.76,
          0.92,
          0.84,
          0.76,
          0.88,
          0.84,
          0.84,
          0.92,
          0.8,
          0.92,
          0.76,
          0.84,
          0.68,
          0.76,
          0.76,
          0.8,
          0.84,
          0.76,
          0.76,
          0.72,
          0.84,
          0.64,
          0.92,
          0.92,
          0.84,
          0.92,
          0.84,
          0.92,
          0.84,
          0.76,
          0.84,
          0.64,
          0.8,
          0.8,
          0.68,
          0.72,
          0.8,
          0.8,
          0.8,
          0.8,
          0.76,
          0.8,
          0.64,
          0.84,
          0.68,
          0.92,
          0.8,
          0.8,
          0.84,
          0.92,
          0.64,
          0.96,
          0.84,
          0.96,
          0.64,
          0.72,
          0.76,
          0.88,
          0.72,
          0.72,
          0.8,
          0.6,
          0.8,
          0.92,
          0.72,
          0.76,
          0.8,
          0.96,
          0.72,
          0.72,
          0.92,
          0.84,
          0.72,
          0.88,
          0.84,
          0.88,
          0.8,
          0.92,
          0.8,
          0.88,
          0.8,
          0.76,
          0.84,
          0.84,
          0.96,
          0.84,
          0.52,
          0.84,
          0.96,
          0.96,
          0.72,
          0.92,
          0.88,
          0.92,
          0.8,
          0.64,
          0.76,
          0.76,
          0.8,
          0.72,
          0.84,
          0.92,
          0.84,
          0.88,
          0.92,
          0.84,
          0.92,
          0.84,
          0.84,
          0.92,
          0.72,
          0.84,
          0.84,
          0.72,
          0.8,
          0.8,
          0.88,
          0.88,
          0.88,
          0.72,
          0.76,
          0.84,
          0.8,
          0.96,
          0.88,
          0.88,
          0.76,
          0.92,
          0.8,
          0.84,
          0.84,
          0.8,
          0.8,
          0.76,
          0.68,
          0.8,
          0.76,
          0.8,
          0.72,
          0.8,
          0.88,
          0.8,
          0.88,
          0.92,
          0.96,
          0.72,
          0.76,
          0.84,
          0.92,
          0.8,
          0.88,
          0.92,
          0.8,
          0.88,
          0.72,
          0.6,
          0.6,
          0.72,
          0.76,
          0.92,
          0.84,
          0.76,
          0.72,
          0.68,
          0.76,
          0.88,
          0.64,
          0.84,
          0.8,
          0.8,
          0.88,
          0.76,
          0.76,
          0.8,
          0.84,
          0.72,
          0.92,
          0.64,
          0.8,
          0.84,
          0.76,
          0.8,
          0.84,
          0.84,
          0.68,
          0.68,
          0.76,
          0.84,
          0.84,
          0.84,
          0.84,
          0.88,
          0.68,
          0.84,
          0.84,
          0.76,
          0.88,
          0.8,
          0.8,
          0.84,
          0.8,
          0.96,
          0.84,
          0.8,
          0.92,
          0.92,
          0.8,
          0.88,
          0.88,
          0.84,
          0.56,
          0.88,
          0.8,
          0.76,
          0.92,
          0.84,
          0.84,
          0.84,
          0.8,
          0.8,
          0.84,
          1,
          0.76,
          0.68,
          0.92,
          0.84,
          0.84,
          0.76,
          0.76,
          0.88,
          0.84,
          0.8,
          0.88,
          0.84,
          0.96,
          0.84,
          0.76,
          0.84,
          0.76,
          0.88,
          0.92,
          0.68,
          0.8,
          0.84,
          0.84,
          0.76,
          0.68,
          0.8,
          0.76,
          0.84,
          0.72,
          0.72,
          0.68,
          0.8,
          0.84,
          0.96,
          0.84,
          0.88,
          0.72,
          0.88,
          0.8,
          0.76,
          0.8,
          0.8,
          0.88,
          0.72,
          0.96,
          0.64,
          0.48,
          0.88,
          0.72,
          0.76,
          0.88,
          0.92,
          0.84,
          0.84,
          0.76,
          0.88,
          0.84,
          0.92,
          0.88,
          0.8,
          0.84,
          0.72,
          0.84,
          0.8,
          0.76,
          0.8,
          0.76,
          0.92,
          0.92,
          0.84,
          0.84,
          0.68,
          0.8,
          0.68,
          0.76,
          0.84,
          0.76,
          0.88,
          0.88,
          0.8,
          0.84,
          0.84,
          0.92,
          0.88,
          0.76,
          0.88,
          0.76,
          0.88,
          0.84,
          0.92,
          0.72,
          0.76,
          0.84,
          0.84,
          0.76,
          0.76,
          0.88,
          0.8,
          0.96,
          0.96,
          0.8,
          0.84,
          0.84,
          0.96,
          0.84,
          0.88,
          0.88,
          0.8,
          0.8,
          0.76,
          0.84,
          0.88,
          0.96,
          0.92,
          0.92,
          0.92,
          0.76,
          0.8,
          0.8,
          0.8,
          0.76,
          0.84,
          0.84,
          0.92,
          0.88,
          0.84,
          0.72,
          0.8,
          0.88,
          0.8,
          0.88,
          0.8,
          0.8,
          0.84,
          0.84,
          0.8,
          0.76,
          0.84,
          0.8,
          0.92,
          0.72,
          0.84,
          0.76,
          0.8,
          0.92,
          0.84,
          0.68,
          0.84,
          0.72,
          0.88,
          0.88,
          0.8,
          0.76,
          0.88,
          0.76,
          0.8,
          0.84,
          0.92,
          0.68,
          0.68,
          0.72,
          0.88,
          0.96,
          0.76,
          0.8,
          0.68,
          0.84,
          0.76,
          0.8,
          0.84,
          0.72,
          0.88,
          0.68,
          0.88,
          0.76,
          0.96,
          0.68,
          0.84,
          0.8,
          0.76,
          0.8,
          0.72,
          0.88,
          0.76,
          0.72,
          0.72,
          0.84,
          0.76,
          0.92,
          0.8,
          0.88,
          0.92,
          0.76,
          0.72,
          0.8,
          0.88,
          0.8,
          0.8,
          0.8,
          0.92,
          0.8,
          0.96,
          1,
          0.8,
          0.88,
          0.8,
          0.88,
          0.76,
          0.84,
          0.92,
          0.84,
          0.92,
          0.76,
          0.92,
          0.72,
          0.84,
          0.88,
          0.76,
          0.92,
          1,
          0.76,
          0.76,
          0.92,
          0.8,
          0.84,
          0.72,
          0.92,
          0.68,
          0.84,
          0.76,
          0.8,
          0.76,
          0.84,
          0.76,
          0.8,
          0.84,
          0.76,
          0.96,
          0.88,
          0.76,
          0.72,
          0.88,
          0.72,
          0.88,
          0.96,
          0.56,
          0.88,
          0.88,
          0.68,
          0.6,
          0.76,
          0.88,
          0.8,
          0.84,
          0.8,
          0.8,
          0.72,
          0.76,
          0.88,
          0.88,
          0.84,
          0.84,
          0.92,
          0.84,
          0.88,
          0.76,
          0.8,
          0.84,
          0.92,
          0.8,
          0.76,
          0.88,
          0.92,
          0.72,
          0.88,
          0.88,
          0.76,
          0.76,
          0.72,
          0.68,
          0.76,
          0.92,
          0.88,
          0.92,
          0.76,
          0.76,
          0.92,
          0.76,
          0.76,
          0.88,
          0.72,
          0.88,
          0.72,
          0.8,
          0.72,
          0.8,
          0.92,
          0.76,
          0.76,
          0.8,
          0.84,
          0.8,
          0.84,
          0.76,
          0.68,
          0.88,
          0.88,
          0.84,
          0.92,
          0.8,
          0.92,
          0.84,
          0.84,
          0.68,
          0.84,
          0.8,
          0.84,
          0.6,
          0.8,
          0.72,
          0.92,
          0.88,
          0.92,
          0.68,
          0.84,
          0.76,
          0.76,
          0.88,
          0.8,
          0.8,
          0.84,
          0.76,
          0.76,
          0.8,
          0.8,
          0.76,
          0.88,
          0.88,
          0.92,
          0.84,
          0.8,
          0.92,
          0.76,
          0.76,
          0.88,
          0.8,
          0.96,
          0.8,
          0.6,
          0.72,
          0.92,
          0.84,
          0.8,
          0.8,
          0.92,
          0.84,
          0.84,
          0.92,
          0.84,
          0.92,
          0.92,
          0.88,
          0.8,
          0.84,
          0.92,
          0.8,
          0.88,
          0.84,
          0.84,
          0.72,
          1,
          0.92,
          0.92,
          0.8,
          0.92,
          0.92,
          0.68,
          0.88,
          0.96,
          0.84,
          0.8,
          0.84,
          0.68,
          0.84,
          0.84,
          0.76,
          0.8,
          0.88,
          0.92,
          0.84,
          0.68,
          0.88,
          0.68,
          0.72,
          0.68,
          0.96,
          0.76,
          0.8,
          0.76,
          0.72,
          0.72,
          0.96,
          0.84,
          0.72,
          0.84,
          0.88,
          0.8,
          0.64,
          0.8,
          0.76,
          0.68,
          0.8,
          0.84,
          0.76,
          0.92,
          0.88,
          0.88,
          0.88,
          0.88,
          0.8,
          0.8,
          0.92,
          0.88,
          0.84,
          0.76,
          0.72,
          0.76,
          0.92,
          0.8,
          0.84,
          0.88,
          0.88,
          0.88,
          0.84,
          0.92,
          0.84,
          0.92,
          0.88,
          0.84,
          0.88,
          0.84,
          0.8,
          0.84,
          0.8,
          0.76,
          0.72,
          0.8,
          0.84,
          0.84,
          0.84,
          0.84,
          0.76,
          0.96,
          0.8,
          0.72,
          0.6,
          0.76,
          0.92,
          0.72,
          0.88,
          0.6,
          0.72,
          0.92,
          0.84,
          0.64,
          0.68,
          0.88,
          0.8,
          0.8,
          0.92,
          0.88,
          0.88,
          0.84,
          0.72,
          0.84,
          0.84,
          0.72,
          0.8,
          0.88,
          0.68,
          0.76,
          1,
          0.8,
          0.8,
          0.88,
          0.88,
          0.72,
          0.8,
          0.6,
          0.68,
          0.88,
          0.84,
          0.68,
          0.68,
          0.92,
          0.76,
          0.8,
          0.84,
          0.76,
          0.84,
          0.8,
          0.8,
          0.68,
          0.88,
          0.72,
          0.88,
          0.84,
          0.96,
          0.92,
          0.76,
          0.92,
          0.8,
          0.72,
          0.88,
          0.72,
          0.8,
          0.8,
          0.8,
          0.84,
          0.68,
          0.64,
          0.72,
          0.84,
          0.88,
          0.84,
          0.84,
          0.56,
          0.84,
          0.8,
          0.92,
          0.8,
          0.84,
          0.84,
          0.92,
          0.68,
          0.84,
          0.84,
          0.8,
          0.92,
          0.52,
          0.76,
          0.8,
          0.8,
          0.88,
          0.88,
          0.8,
          0.72,
          0.92,
          0.8,
          0.88,
          0.72,
          0.84,
          0.8,
          0.84,
          0.88,
          0.8,
          0.84,
          0.6,
          0.72,
          0.68,
          0.8,
          0.84,
          0.84,
          0.92,
          0.96,
          0.88,
          0.8,
          0.84,
          0.8,
          0.76,
          0.8,
          0.88,
          0.8,
          0.8,
          0.96,
          0.72,
          0.8,
          0.88,
          0.84,
          0.92,
          0.84,
          0.92,
          0.88,
          0.92,
          0.84,
          0.84,
          0.92,
          0.8,
          0.84,
          0.88,
          0.88,
          0.92,
          0.44,
          0.84,
          0.88,
          0.76,
          0.92,
          0.64,
          0.68,
          0.92,
          0.76,
          0.76,
          0.92,
          0.88,
          0.8,
          0.8,
          0.8,
          0.92,
          0.76,
          0.88,
          0.92,
          0.96,
          0.68,
          0.84,
          0.72,
          0.88,
          0.8,
          0.68,
          0.84,
          0.76,
          0.72,
          0.76,
          0.88,
          0.92,
          0.8,
          0.92,
          0.84,
          0.76,
          0.84,
          0.84,
          0.72,
          0.88,
          0.8,
          0.64,
          0.88,
          0.8,
          0.88,
          0.64,
          0.84,
          0.8,
          0.84,
          0.88,
          0.8,
          0.8,
          0.56,
          0.88,
          0.8,
          0.8,
          0.72,
          0.8,
          0.88,
          0.64,
          0.8,
          0.84,
          0.88,
          0.84,
          0.68,
          0.8,
          0.8,
          0.76,
          0.84,
          0.8,
          0.84,
          0.84,
          0.96,
          0.88,
          0.84,
          0.84,
          0.92,
          0.96,
          0.88,
          0.76,
          0.88,
          0.64,
          0.8,
          0.88,
          0.76,
          0.84,
          0.92,
          0.76,
          0.88,
          0.76,
          0.68,
          0.72,
          0.64,
          0.68,
          0.68,
          0.8,
          0.88,
          0.76,
          0.64,
          0.88,
          0.8,
          0.8,
          0.76,
          0.76,
          0.92,
          0.92,
          0.88,
          0.8,
          0.76,
          0.64,
          0.64,
          0.88,
          0.72,
          0.76,
          0.8,
          0.84,
          0.88,
          0.88,
          0.84,
          0.8,
          0.6,
          0.64,
          0.76,
          0.92,
          0.6,
          0.68,
          0.76,
          0.68,
          0.88,
          0.8,
          0.88,
          0.76,
          0.64,
          0.76,
          0.88,
          0.8,
          0.76,
          0.76,
          0.84,
          0.76,
          0.72,
          0.84,
          0.84,
          0.8,
          0.72,
          0.88,
          0.84,
          0.8,
          0.92,
          0.8,
          0.76,
          0.84,
          0.8,
          0.84,
          0.72,
          0.88,
          0.84,
          0.84,
          0.88,
          0.8,
          0.72,
          0.76,
          0.72,
          0.72,
          0.76,
          0.72,
          0.84,
          0.84,
          0.92,
          0.76,
          0.88,
          0.56,
          0.8,
          0.68,
          0.88,
          0.92,
          0.84,
          0.88,
          0.84,
          0.68,
          0.84,
          0.8,
          0.72,
          0.76,
          0.92,
          0.72,
          0.88,
          0.84,
          0.8,
          0.76,
          0.88,
          0.92,
          0.72,
          0.96,
          0.68,
          0.8,
          0.84,
          0.88,
          0.76,
          0.76,
          0.6,
          0.76,
          0.88,
          0.8,
          0.88,
          0.72,
          0.72,
          0.76,
          0.8,
          0.84,
          0.92,
          0.96,
          0.72,
          0.92,
          0.68,
          0.84,
          0.84,
          0.88,
          0.84,
          0.88,
          0.92,
          0.92,
          0.92,
          0.8,
          0.76,
          0.64,
          0.6,
          0.68,
          0.72,
          0.76,
          0.92,
          0.72,
          0.96,
          0.76,
          0.72,
          0.76,
          0.76,
          0.72,
          0.92,
          0.8,
          0.84,
          0.76,
          0.84,
          0.88,
          0.88,
          0.6,
          0.88,
          0.68,
          0.76,
          0.72,
          0.96,
          0.84,
          0.92,
          0.72,
          0.68,
          0.6,
          0.6,
          0.84,
          0.56,
          0.72,
          0.88,
          0.76,
          0.68,
          0.92,
          0.8,
          0.88,
          0.8,
          0.76,
          0.76,
          0.92,
          0.84,
          0.92,
          0.64,
          0.92,
          0.84,
          0.76,
          0.92,
          0.76,
          0.6,
          0.64,
          0.88,
          0.92,
          0.84,
          0.84,
          0.96,
          0.8,
          0.88,
          0.8,
          0.88,
          0.84,
          0.88,
          0.8,
          0.88,
          0.88,
          0.88,
          0.76,
          0.84,
          0.88,
          0.84,
          0.84,
          0.92,
          0.8,
          0.8,
          0.92,
          0.8,
          0.92,
          0.88,
          0.8,
          0.76,
          0.8,
          0.88,
          0.84,
          0.92,
          0.84,
          0.8,
          0.84,
          0.72,
          0.8,
          0.68,
          0.64,
          0.64,
          0.72,
          0.8,
          0.8,
          0.88,
          0.88,
          0.84,
          0.76,
          0.92,
          0.92,
          1,
          0.88,
          0.76,
          0.96,
          0.76,
          0.84,
          0.76,
          0.84,
          0.8,
          0.8,
          0.72,
          0.92,
          0.84,
          0.88,
          0.96,
          0.76,
          0.8,
          0.76,
          0.56,
          0.64,
          0.76,
          0.8,
          0.88,
          0.84,
          0.76,
          0.8,
          0.68,
          0.76,
          0.84,
          0.88,
          0.76,
          0.8,
          0.8,
          0.88,
          0.8,
          0.88,
          0.84,
          0.76,
          0.84,
          0.64,
          0.76,
          0.8,
          0.8,
          0.8,
          0.64,
          0.8,
          0.68,
          0.84,
          0.92,
          0.92,
          0.8,
          0.84,
          0.88,
          0.88,
          0.88,
          0.8,
          0.8,
          0.92,
          0.76,
          0.96,
          0.88,
          0.92,
          0.8,
          0.84,
          0.64,
          0.96,
          0.92,
          0.8,
          0.88,
          0.68,
          0.76,
          0.92,
          0.84,
          0.84,
          0.84,
          0.76,
          0.8,
          0.84,
          0.8,
          0.88,
          0.76,
          0.68,
          0.88,
          0.92,
          0.88,
          0.8,
          0.76,
          0.84,
          0.88,
          0.8,
          0.84,
          0.88,
          0.76,
          0.8,
          0.88,
          0.96,
          0.72,
          0.76,
          0.76,
          0.92,
          0.76,
          0.84,
          0.84,
          0.84,
          0.76,
          0.72,
          0.6,
          0.88,
          0.88,
          0.92,
          0.84,
          0.88,
          0.88,
          0.92,
          0.8,
          0.84,
          0.84,
          0.8,
          1,
          0.84,
          0.72,
          0.68,
          0.68,
          0.88,
          0.88,
          0.8,
          0.8,
          0.64,
          0.72,
          0.8,
          0.92,
          0.88,
          0.88,
          0.8,
          0.96,
          0.76,
          0.8,
          0.88,
          0.88,
          0.84,
          0.84,
          0.88,
          0.88,
          0.88,
          1,
          0.76,
          0.92,
          0.68,
          0.8,
          0.8,
          0.76,
          0.8,
          0.88,
          0.72,
          0.84,
          0.84,
          0.68,
          0.8,
          0.88,
          0.84,
          0.76,
          0.84,
          0.84,
          0.88,
          0.92,
          0.8,
          0.88,
          0.88,
          0.88,
          0.76,
          0.72,
          0.76,
          0.68,
          0.76,
          0.68,
          0.88,
          0.76,
          0.68,
          0.88,
          0.92,
          0.84,
          0.88,
          0.72,
          0.84,
          0.84,
          0.8,
          0.88,
          0.84,
          0.92,
          0.76,
          0.92,
          0.84,
          0.88,
          0.84,
          0.76,
          0.84,
          0.84,
          0.84,
          0.8,
          0.8,
          0.84,
          0.84,
          0.92,
          0.68,
          0.88,
          0.88,
          0.88,
          0.6,
          0.96,
          0.92,
          0.92,
          0.88,
          0.8,
          0.84,
          0.72,
          0.8,
          0.8,
          0.84,
          0.84,
          0.88,
          0.84,
          0.88,
          0.84,
          0.76,
          0.76,
          0.8,
          0.76,
          0.76,
          0.88,
          0.88,
          0.88,
          0.8,
          0.88,
          0.8,
          0.84,
          0.48,
          0.92,
          0.92,
          0.88,
          0.76,
          0.84,
          0.8,
          0.88,
          0.84,
          0.84,
          0.84,
          0.8,
          0.96,
          0.72,
          0.96,
          0.92,
          0.88,
          0.76,
          0.64,
          0.84,
          0.88,
          0.92,
          0.6,
          0.88,
          0.76,
          0.8,
          0.88,
          0.8,
          0.88,
          0.84,
          0.88,
          0.8,
          0.92,
          0.8,
          0.88,
          0.72,
          0.64,
          0.88,
          0.76,
          0.72,
          0.64,
          0.8,
          0.64,
          0.76,
          0.92,
          0.84,
          0.84,
          0.8,
          0.76,
          0.8,
          0.8,
          0.92,
          0.8,
          0.76,
          0.8,
          0.84,
          0.72,
          0.68,
          0.8,
          0.68,
          0.92,
          0.72,
          0.8,
          0.76,
          0.88,
          0.88,
          0.72,
          0.88,
          0.72,
          0.84,
          0.84,
          0.64,
          0.88,
          0.88,
          0.88,
          1,
          0.88,
          0.84,
          0.92,
          0.64,
          0.72,
          0.84,
          0.88,
          0.6,
          0.76,
          0.92,
          0.68,
          0.64,
          0.88,
          0.72,
          0.96,
          0.76,
          0.6,
          0.88,
          0.8,
          0.72,
          0.64,
          0.76,
          0.84,
          0.76,
          0.8,
          0.8,
          0.72,
          0.8,
          0.76,
          0.88,
          0.6,
          0.8,
          0.96,
          0.76,
          0.8,
          0.76,
          0.64,
          0.92,
          0.8,
          0.92,
          0.68,
          0.84,
          0.76,
          0.68,
          0.84,
          0.64,
          0.8,
          0.8,
          0.8,
          0.88,
          0.72,
          0.88,
          0.84,
          0.8,
          0.92,
          0.8,
          0.84,
          0.72,
          0.76,
          0.96,
          0.76,
          0.76,
          0.8,
          0.84,
          0.8,
          0.92,
          0.84,
          0.8,
          1,
          0.8,
          0.8,
          0.72,
          0.88,
          0.8,
          0.84,
          0.92,
          0.8,
          0.68,
          0.8,
          0.76,
          0.76,
          1,
          0.8,
          0.84,
          0.92,
          0.8,
          0.84,
          0.8,
          0.96,
          0.72,
          0.76,
          0.88,
          0.8,
          0.88,
          0.8,
          0.8,
          0.76,
          0.84,
          0.84,
          0.8,
          0.84,
          0.88,
          0.92,
          0.84,
          0.84,
          0.76,
          0.84,
          0.88,
          0.76,
          0.84,
          0.96,
          0.8,
          0.72,
          0.76,
          0.84,
          0.8,
          0.8,
          0.84,
          0.84,
          0.8,
          0.72,
          0.76,
          0.88,
          0.84,
          0.92,
          0.92,
          0.84,
          0.92,
          0.8,
          0.76,
          0.76,
          0.8,
          0.72,
          0.8,
          0.88,
          0.68,
          0.8,
          0.76,
          0.84,
          0.56,
          0.72,
          0.84,
          0.72,
          0.72,
          0.88,
          0.72,
          0.8,
          0.76,
          0.84,
          0.84,
          0.84,
          0.92,
          0.76,
          0.84,
          0.72,
          0.84,
          0.84,
          0.76,
          0.96,
          0.76,
          0.8,
          0.72,
          0.84,
          0.72,
          0.68,
          0.92,
          0.88,
          0.8,
          0.68,
          0.72,
          0.72,
          0.68,
          0.84,
          0.88,
          0.88,
          0.8,
          0.72,
          0.68,
          0.76,
          0.84,
          0.84,
          0.76,
          0.84,
          0.92,
          0.76,
          0.84,
          0.68,
          0.76,
          0.88,
          0.84,
          0.88,
          0.92,
          0.76,
          0.68,
          0.88,
          0.8,
          0.88,
          0.84,
          0.92,
          0.68,
          0.8,
          0.72,
          0.8,
          0.92,
          0.84,
          0.8,
          0.84,
          0.8,
          0.8,
          0.8,
          0.8,
          0.72,
          0.88,
          0.88,
          0.92,
          0.76,
          0.92,
          0.8,
          0.72,
          0.76,
          0.8,
          0.84,
          0.92,
          0.88,
          0.92,
          0.64,
          0.72,
          0.84,
          0.84,
          0.96,
          0.88,
          0.92,
          0.92,
          0.88,
          0.92,
          0.8,
          0.68,
          0.88,
          0.8,
          0.84,
          0.76,
          0.84,
          0.8,
          0.76,
          0.72,
          0.76,
          0.84,
          0.68,
          0.92,
          0.84,
          0.76,
          0.76,
          0.92,
          0.72,
          0.84,
          0.76,
          0.68,
          0.68,
          0.88,
          0.92,
          0.68,
          0.92,
          0.84,
          0.52,
          0.92,
          0.76,
          0.88,
          0.68,
          0.76,
          0.88,
          0.72,
          0.76,
          0.8,
          0.8,
          1,
          0.8,
          0.68,
          0.8,
          0.8,
          0.8,
          0.76,
          0.84,
          0.92,
          0.92,
          0.84,
          0.88,
          0.88,
          0.76,
          0.68,
          0.84,
          0.76,
          0.8,
          0.72,
          0.72,
          0.8,
          0.88,
          0.84,
          0.92,
          0.8,
          0.84,
          0.8,
          0.84,
          0.8,
          0.72,
          0.8,
          0.8,
          0.76,
          0.8,
          0.72,
          0.72,
          0.96,
          0.8,
          0.84,
          0.72,
          0.76,
          1,
          0.64,
          0.88,
          0.76,
          0.72,
          0.76,
          0.88,
          0.92,
          0.76,
          0.96,
          0.72,
          0.88,
          0.84,
          0.92,
          0.84,
          0.84,
          0.92,
          0.88,
          0.84,
          0.76,
          0.76,
          0.88,
          0.88,
          0.76,
          0.76,
          0.96,
          0.8,
          0.68,
          0.8,
          0.88,
          0.84,
          0.84,
          0.76,
          0.76,
          0.8,
          0.92,
          0.92,
          0.72,
          0.8,
          0.92,
          0.88,
          0.8,
          0.84,
          0.84,
          0.8,
          0.92,
          0.68,
          0.84,
          0.84,
          0.96,
          0.64,
          0.68,
          0.96,
          0.8,
          0.76,
          0.8,
          0.68,
          0.84,
          0.84,
          0.84,
          0.76,
          0.76,
          0.76,
          0.76,
          0.68,
          0.96,
          0.84,
          0.76,
          0.92,
          0.88,
          0.92,
          0.68,
          0.8,
          0.8,
          0.84,
          0.84,
          0.76,
          0.8,
          0.76,
          0.72,
          0.8,
          0.92,
          0.92,
          0.72,
          0.8,
          0.8,
          0.88,
          0.84,
          0.8,
          0.88,
          0.8,
          0.68,
          0.76,
          0.76,
          0.84,
          0.96,
          0.76,
          0.84,
          0.88,
          0.88,
          0.76,
          0.8,
          0.8,
          0.84,
          0.92,
          0.84,
          0.76,
          0.88,
          0.76,
          0.72,
          0.76,
          0.88,
          0.88,
          0.76,
          0.92,
          0.84,
          0.88,
          0.68,
          0.88,
          0.84,
          0.84,
          0.76,
          0.84,
          0.76,
          0.84,
          0.76,
          0.72,
          0.68,
          0.88,
          0.76,
          0.92,
          0.8,
          0.76,
          0.92,
          0.88,
          0.72,
          0.92,
          1,
          0.88,
          0.88,
          0.96,
          0.88,
          0.92,
          0.88,
          0.84,
          0.92,
          0.84,
          0.92,
          0.84,
          0.96,
          0.84,
          0.76,
          0.92,
          0.88,
          0.92,
          0.88,
          0.72,
          0.72,
          0.8,
          0.88,
          0.84,
          0.84,
          0.88,
          0.92,
          0.92,
          0.96,
          0.84,
          0.76,
          0.96,
          0.8,
          0.8,
          0.96,
          0.8,
          0.72,
          0.84,
          0.76,
          0.96,
          0.88,
          0.72,
          0.68,
          0.88,
          0.92,
          0.8,
          0.84,
          0.68,
          0.88,
          0.64,
          0.76,
          0.84,
          0.92,
          0.92,
          0.8,
          0.84,
          0.92,
          0.84,
          0.84,
          0.64,
          0.72,
          0.8,
          0.96,
          0.92,
          0.92,
          0.84,
          1,
          0.84,
          0.92,
          0.88,
          0.56,
          0.96,
          0.88,
          0.88,
          0.96,
          0.8,
          0.76,
          0.72,
          0.92,
          0.84,
          0.88,
          0.76,
          0.68,
          0.8,
          0.92,
          0.84,
          0.96,
          0.88,
          0.6,
          0.84,
          0.84,
          0.68,
          0.88,
          0.8,
          0.84,
          0.88,
          0.88,
          0.96,
          0.96,
          0.88,
          0.92,
          0.92,
          0.88,
          0.92,
          0.84,
          0.72,
          0.88,
          0.8,
          0.88,
          0.84,
          0.88,
          0.88,
          0.96,
          0.92,
          0.84,
          0.52,
          0.92,
          0.96,
          0.8,
          0.92,
          0.88,
          0.88,
          0.8,
          0.92,
          0.96,
          0.76,
          0.88,
          0.88,
          0.72,
          0.8,
          0.88,
          0.6,
          0.92,
          0.96,
          0.92,
          0.8,
          0.76,
          0.92,
          0.88,
          0.76,
          0.84,
          0.8,
          0.96,
          0.68,
          0.84,
          0.88,
          0.8,
          0.64,
          0.76,
          0.8,
          0.8,
          0.8,
          0.88,
          0.96,
          0.92,
          0.64,
          0.76,
          0.8,
          0.92,
          0.92,
          0.92,
          0.8,
          0.96,
          0.96,
          0.88,
          0.88,
          0.88,
          0.92,
          0.72,
          0.96,
          0.84,
          0.76,
          0.68,
          0.88,
          0.92,
          0.72,
          0.88,
          0.92,
          0.88,
          0.72,
          0.92,
          0.84,
          0.8,
          0.88,
          1,
          0.72,
          0.88,
          1,
          0.8,
          0.84,
          0.88,
          0.88,
          0.8,
          0.76,
          0.92,
          0.96,
          0.88,
          0.96,
          0.68,
          0.88,
          0.8,
          0.84,
          0.92,
          0.84,
          0.8,
          0.88,
          0.96,
          0.96,
          0.68,
          0.96,
          0.72,
          0.88,
          0.88,
          0.72,
          0.72,
          0.8,
          0.8,
          0.88,
          0.68,
          0.84,
          0.92,
          0.92,
          0.88,
          0.84,
          0.84,
          0.96,
          0.84,
          0.8,
          0.92,
          0.92,
          0.84,
          0.76,
          0.8,
          0.92,
          0.72,
          0.76,
          0.76,
          0.8,
          0.84,
          0.8,
          0.84,
          0.8,
          0.88,
          0.8,
          0.72,
          0.88,
          0.8,
          0.88,
          0.8,
          0.96,
          0.92,
          0.8,
          0.96,
          0.96,
          0.84,
          0.92,
          0.88,
          0.92,
          0.92,
          0.84,
          0.92,
          0.96,
          0.64,
          0.8,
          0.88,
          0.8,
          0.88,
          0.84,
          0.8,
          0.92,
          0.72,
          0.92,
          0.84,
          0.96,
          0.84,
          0.88,
          0.88,
          0.92,
          0.8,
          0.96,
          0.96,
          0.96,
          0.88,
          0.84,
          0.84,
          0.76,
          0.8,
          1,
          0.84,
          0.92,
          0.84,
          0.8,
          0.8,
          0.96,
          0.84,
          0.8,
          0.88,
          0.76,
          0.88,
          0.8,
          0.84,
          0.92,
          0.76,
          0.8,
          0.96,
          0.88,
          0.84,
          0.88,
          0.84,
          0.92,
          0.84,
          0.92,
          0.8,
          0.92,
          0.76,
          0.96,
          0.84,
          0.8,
          0.68,
          0.8,
          0.96,
          0.8,
          0.76,
          0.72,
          0.92,
          0.76,
          0.96,
          0.8,
          0.88,
          0.92,
          0.68,
          0.84,
          0.6,
          0.84,
          0.88,
          0.64,
          0.84,
          0.92,
          0.84,
          0.8,
          0.96,
          0.88,
          0.84,
          0.84,
          0.84,
          0.68,
          0.72,
          0.96,
          0.92,
          0.96,
          0.88,
          0.88,
          0.84,
          0.84,
          0.84,
          0.76,
          0.72,
          0.84,
          0.8,
          0.8,
          0.84,
          0.6,
          0.8,
          0.96,
          0.8,
          0.88,
          0.84,
          0.72,
          0.84,
          0.8,
          0.88,
          0.84,
          0.6,
          0.84,
          0.72,
          0.96,
          0.96,
          0.8,
          0.72,
          0.88,
          0.92,
          0.92,
          0.84,
          0.88,
          0.8,
          0.84,
          0.84,
          0.92,
          0.84,
          0.92,
          0.96,
          0.8,
          0.76,
          0.96,
          0.76,
          0.8,
          0.92,
          0.84,
          0.8,
          0.64,
          0.84,
          0.52,
          0.8,
          0.68,
          0.68,
          0.68,
          0.88,
          0.88,
          0.76,
          0.84,
          0.76,
          0.76,
          0.88,
          0.76,
          0.92,
          0.84,
          0.64,
          0.8,
          0.8,
          0.64,
          0.8,
          0.84,
          0.76,
          0.68,
          0.88,
          0.84,
          0.84,
          0.8,
          0.8,
          0.52,
          0.76,
          0.92,
          0.96,
          0.88,
          0.84,
          0.72,
          0.64,
          0.88,
          0.88,
          0.88,
          0.92,
          0.76,
          0.88,
          0.8,
          0.96,
          0.8,
          0.56,
          0.88,
          0.8,
          0.92,
          0.84,
          0.76,
          0.8,
          0.88,
          0.76,
          0.96,
          0.8,
          0.96,
          0.88,
          0.84,
          0.84,
          0.92,
          0.92,
          0.88,
          0.96,
          0.8,
          0.8,
          0.72,
          0.88,
          0.64,
          0.96,
          0.92,
          0.84,
          0.84,
          0.84,
          0.84,
          0.88,
          0.96,
          0.88,
          0.92,
          0.88,
          0.68,
          0.6,
          0.92,
          0.68,
          0.84,
          0.84,
          0.92,
          0.48,
          0.92,
          0.76,
          0.88,
          0.8,
          0.84,
          0.92,
          0.8,
          0.64,
          0.64,
          0.88,
          0.96,
          0.88,
          0.8,
          0.64,
          0.88,
          0.96,
          0.92,
          0.88,
          0.76,
          0.8,
          0.88,
          0.84,
          0.84,
          0.76,
          0.84,
          0.84,
          0.88,
          0.84,
          0.84,
          0.84,
          0.8,
          0.96,
          0.88,
          0.92,
          1,
          0.76,
          0.92,
          0.8,
          0.8,
          0.68,
          0.88,
          0.92,
          0.72,
          0.72,
          0.88,
          0.88,
          0.84,
          0.76,
          0.72,
          0.88,
          0.96,
          0.8,
          0.88,
          0.88,
          0.96,
          0.84,
          0.8,
          0.88,
          0.84,
          0.96,
          0.8,
          0.8,
          0.92,
          0.76,
          1,
          0.84,
          0.72,
          0.96,
          1,
          0.84,
          0.84,
          0.84,
          0.88,
          0.76,
          0.92,
          0.52,
          0.92,
          0.64,
          0.92,
          0.8,
          0.92,
          0.92,
          0.92,
          0.92,
          0.76,
          0.88,
          0.92,
          0.76,
          0.8,
          0.64,
          0.96,
          0.92,
          0.88,
          0.92,
          0.84,
          0.92,
          0.88,
          0.72,
          0.96,
          0.96,
          0.84,
          0.8,
          0.8,
          0.8,
          0.88,
          0.96,
          0.88,
          0.72,
          0.92,
          0.84,
          0.92,
          1,
          0.88,
          0.88,
          0.96,
          0.76,
          0.92,
          0.96,
          0.84,
          0.88,
          0.72,
          0.84,
          0.88,
          0.88,
          0.76,
          0.96,
          0.64,
          0.68,
          0.88,
          0.68,
          0.84,
          0.96,
          0.84,
          0.84,
          0.88,
          0.8,
          0.72,
          0.84,
          0.84,
          0.8,
          0.92,
          0.88,
          0.84,
          0.88,
          0.72,
          0.92,
          0.96,
          0.84,
          0.84,
          0.92,
          0.84,
          0.84,
          0.92,
          0.96,
          0.92,
          0.8,
          0.92,
          0.92,
          0.76,
          0.88,
          0.8,
          0.8,
          0.92,
          0.64,
          0.96,
          0.88,
          0.84,
          0.64,
          0.84,
          0.72,
          0.76,
          0.88,
          0.72,
          0.84,
          0.68,
          0.88,
          0.92,
          0.92,
          0.88,
          0.68,
          0.84,
          0.8,
          0.92,
          0.8,
          0.76,
          0.88,
          0.68,
          0.88,
          0.8,
          0.92,
          0.84,
          0.8,
          0.76,
          0.92,
          0.84,
          0.88,
          0.84,
          0.72,
          0.84,
          0.92,
          0.92,
          0.84,
          0.88,
          0.92,
          0.76,
          0.88,
          0.92,
          0.8,
          0.76,
          0.76,
          0.64,
          0.84,
          0.76,
          0.72,
          0.88,
          0.84,
          0.88,
          0.92,
          0.96,
          0.96,
          0.96,
          0.96,
          0.64,
          0.64,
          0.92,
          0.88,
          0.84,
          0.88,
          0.84,
          0.8,
          0.88,
          0.76,
          0.88,
          0.84,
          0.84,
          0.8,
          0.88,
          0.88,
          0.96,
          0.88,
          0.68,
          0.88,
          0.92,
          0.92,
          0.92,
          0.76,
          1,
          0.68,
          0.84,
          0.96,
          0.84,
          1,
          0.84,
          0.88,
          0.96,
          0.88,
          0.68,
          0.88,
          0.8,
          0.88,
          0.84,
          0.92,
          0.88,
          0.92,
          0.96,
          0.96,
          0.84,
          0.64,
          0.88,
          0.92,
          0.76,
          0.84,
          0.92,
          0.8,
          0.8,
          0.84,
          0.88,
          0.88,
          0.88,
          0.92,
          0.76,
          0.84,
          0.92,
          0.92,
          0.92,
          0.76,
          0.84,
          0.84,
          0.96,
          0.88,
          0.8,
          0.88,
          0.84,
          0.84,
          0.84,
          0.76,
          0.84,
          0.88,
          0.72,
          1,
          0.8,
          0.88,
          0.72,
          0.8,
          0.84,
          0.84,
          0.88,
          0.84,
          0.88,
          0.92,
          0.8,
          0.76,
          0.88,
          0.96,
          0.84,
          0.96,
          0.88,
          0.92,
          0.92,
          0.72,
          0.96,
          0.96,
          0.76,
          0.84,
          0.92,
          0.8,
          0.92,
          0.84,
          0.88,
          0.84,
          0.92,
          0.88,
          0.92,
          0.96,
          0.88,
          0.76,
          0.88,
          0.88,
          0.84,
          0.96,
          0.96,
          0.96,
          0.88,
          0.8,
          0.76,
          0.84,
          0.88,
          0.84,
          0.92,
          0.96,
          0.88,
          0.76,
          0.8,
          0.88,
          0.68,
          0.88,
          0.92,
          0.84,
          0.92,
          0.84,
          0.84,
          0.92,
          0.8,
          0.84,
          0.92,
          0.8,
          0.88,
          0.72,
          0.8,
          0.84,
          0.8,
          0.92,
          0.96,
          0.92,
          0.76,
          0.92,
          0.8,
          0.84,
          0.88,
          0.92,
          0.84,
          0.88,
          0.88,
          0.96,
          0.8,
          0.88,
          0.84,
          0.92,
          0.64,
          0.88,
          0.96,
          0.76,
          0.88,
          0.92,
          0.84,
          1,
          0.88,
          0.8,
          0.76,
          0.8,
          0.96,
          0.76,
          0.88,
          0.88,
          0.92,
          0.88,
          0.88,
          0.84,
          0.96,
          0.88,
          0.88,
          0.8,
          0.88,
          0.88,
          0.88,
          0.88,
          0.96,
          0.92,
          0.84,
          1,
          0.84,
          0.44,
          0.88,
          0.92,
          0.8,
          0.92,
          0.88,
          0.92,
          0.92,
          0.88,
          0.76,
          0.52,
          0.92,
          0.96,
          0.88,
          0.76,
          0.92,
          0.84,
          0.84,
          0.84,
          0.76,
          0.96,
          0.88,
          1,
          0.84,
          0.88,
          0.88,
          0.8,
          0.76,
          0.76,
          0.8,
          0.8,
          0.92,
          0.84,
          0.76,
          0.72,
          0.8,
          0.8,
          0.88,
          0.88,
          0.92,
          0.88,
          0.84,
          0.76,
          0.92,
          0.56,
          0.88,
          0.88,
          0.72,
          0.68,
          0.88,
          0.96,
          0.96,
          0.92,
          0.88,
          0.64,
          0.92,
          0.76,
          0.92,
          0.92,
          0.92,
          0.88,
          0.8,
          0.92,
          0.76,
          0.84,
          0.84,
          0.84,
          0.84,
          0.84,
          0.88,
          0.76,
          1,
          0.84,
          0.84,
          0.84,
          0.84,
          0.92,
          0.6,
          0.96,
          0.88,
          0.76,
          0.8,
          0.76,
          0.84,
          0.92,
          0.92,
          0.84,
          0.88,
          0.76,
          0.84,
          0.96,
          0.92,
          0.48,
          0.76,
          0.84,
          0.84,
          0.72,
          0.8,
          0.96,
          0.88,
          0.92,
          0.8,
          0.88,
          0.88,
          0.6,
          0.84,
          0.88,
          0.76,
          0.92,
          0.8,
          0.8,
          0.92,
          0.84,
          0.68,
          0.76,
          0.8,
          0.84,
          0.88,
          0.84,
          0.92,
          0.88,
          0.6,
          0.68,
          0.72,
          0.84,
          0.8,
          0.88,
          0.88,
          0.96,
          0.92,
          0.84,
          0.84,
          0.68,
          0.84,
          0.92,
          0.72,
          0.76,
          0.92,
          0.92,
          0.8,
          0.88,
          0.88,
          0.92,
          0.92,
          0.88,
          0.8,
          0.88,
          0.8,
          0.88,
          0.64,
          0.72,
          0.88,
          0.64,
          0.84,
          0.88,
          0.8,
          0.68,
          0.84,
          0.6,
          0.96,
          0.84,
          0.68,
          0.72,
          0.84,
          0.84,
          0.8,
          0.88,
          0.8,
          0.84,
          0.8,
          0.84,
          0.84,
          0.88,
          0.84,
          0.88,
          0.84,
          0.64,
          0.76,
          0.76,
          0.8,
          0.84,
          0.84,
          0.76,
          0.68,
          0.72,
          0.96,
          0.88,
          0.84,
          0.88,
          0.88,
          0.84,
          0.96,
          0.8,
          0.84,
          0.92,
          0.72,
          0.84,
          0.92,
          0.92,
          0.92,
          0.68,
          0.8,
          0.88,
          0.88,
          0.72,
          0.76,
          0.88,
          0.8,
          0.92,
          0.64,
          0.8,
          0.92,
          0.8,
          0.8,
          0.76,
          0.76,
          0.84,
          0.72,
          0.96,
          0.84,
          0.8,
          0.92,
          0.84,
          0.92,
          0.92,
          0.8,
          0.8,
          0.84,
          0.8,
          0.84,
          0.92,
          0.92,
          0.88,
          0.72,
          0.72,
          0.92,
          0.92,
          0.84,
          0.88,
          0.88,
          0.92,
          0.92,
          0.72,
          0.84,
          0.92,
          0.68,
          0.8,
          0.76,
          0.88,
          0.88,
          0.64,
          0.92,
          0.8,
          0.64,
          0.88,
          0.88,
          0.88,
          0.88,
          0.76,
          0.92,
          0.88,
          0.8,
          0.92,
          0.72,
          0.88,
          0.72,
          0.72,
          0.96,
          0.76,
          0.68,
          0.88,
          0.84,
          0.8,
          0.84,
          0.88,
          0.92,
          0.88,
          0.8,
          0.92,
          0.64,
          0.72,
          0.8,
          0.8,
          0.8,
          0.8,
          0.92,
          0.84,
          0.72,
          0.88,
          0.84,
          0.8,
          0.72,
          0.84,
          0.84,
          0.8,
          0.96,
          0.92,
          0.84,
          0.92,
          0.72,
          0.84,
          0.92,
          0.92,
          0.8,
          0.88,
          0.8,
          0.84,
          0.84,
          0.8,
          0.88,
          0.96,
          0.76,
          0.8,
          0.8,
          0.84,
          0.84,
          0.84,
          0.88,
          0.76,
          0.76,
          0.92,
          0.76,
          0.76,
          0.72,
          0.88,
          0.92,
          0.76,
          0.84,
          0.76,
          0.76,
          0.72,
          0.96,
          0.88,
          0.88,
          0.92,
          1,
          0.92,
          0.88,
          0.92,
          0.76,
          0.68,
          0.92,
          0.96,
          0.96,
          0.88,
          0.76,
          0.88,
          0.88,
          0.92,
          0.8,
          0.84,
          0.88,
          0.72,
          0.8,
          0.84,
          0.8,
          0.72,
          0.88,
          0.96,
          0.92,
          0.72,
          0.84,
          0.72,
          0.84,
          0.92,
          0.96,
          0.96,
          0.84,
          0.8,
          0.88,
          0.84,
          0.92,
          0.8,
          0.84,
          0.92,
          0.72,
          0.88,
          0.76,
          0.96,
          0.68,
          0.96,
          0.84,
          0.76,
          0.76,
          0.88,
          0.88,
          0.84,
          0.76,
          0.76,
          0.84,
          0.8,
          0.76,
          0.72,
          0.92,
          0.68,
          0.84,
          0.88,
          0.88,
          0.88,
          0.56,
          0.92,
          0.92,
          0.8,
          0.8,
          0.84,
          0.72,
          0.88,
          0.8,
          0.92,
          0.88,
          0.88,
          0.92,
          0.88,
          0.88,
          0.8,
          0.76,
          0.92,
          0.84,
          0.84,
          0.8,
          0.96,
          0.96,
          0.92,
          0.76,
          0.72,
          0.52,
          0.8,
          0.56,
          0.84,
          0.76,
          0.92,
          0.8,
          0.76,
          0.8,
          0.68,
          0.96,
          0.72,
          0.92,
          0.84,
          0.88,
          0.96,
          1,
          0.92,
          0.88,
          0.88,
          0.84,
          0.84,
          0.88,
          0.8,
          0.84,
          0.8,
          0.8,
          0.88,
          0.92,
          0.92,
          0.88,
          0.76,
          0.8,
          0.8,
          0.8,
          0.76,
          0.84,
          0.88,
          0.84,
          0.76,
          0.8,
          0.92,
          0.68,
          0.88,
          0.92,
          0.92,
          0.92,
          0.96,
          0.76,
          0.92,
          0.52,
          0.76,
          0.92,
          0.88,
          0.96,
          0.84,
          0.84,
          0.96,
          0.84,
          0.84,
          0.92,
          0.92,
          0.76,
          0.88,
          0.88,
          0.8,
          0.88,
          0.88,
          0.96,
          0.96,
          0.88,
          0.84,
          0.68,
          0.96,
          0.84,
          0.76,
          0.8,
          0.92,
          0.84,
          0.8,
          0.96,
          0.92,
          0.88,
          1,
          0.8,
          0.96,
          0.84,
          0.96,
          1,
          0.84,
          0.84,
          0.56,
          0.96,
          0.88,
          0.92,
          0.88,
          0.76,
          0.92,
          0.92,
          0.84,
          0.88,
          0.96,
          0.88,
          0.84,
          0.88,
          0.88,
          0.92,
          0.84,
          0.92,
          0.88,
          0.88,
          0.76,
          0.96,
          1,
          0.8,
          0.92,
          0.8,
          0.88,
          0.76,
          0.92,
          0.96,
          0.96,
          0.88,
          0.84,
          0.56,
          0.76,
          0.84,
          0.92,
          0.8,
          0.96,
          0.72,
          0.96,
          0.92,
          0.84,
          0.96,
          0.88,
          0.76,
          0.96,
          0.88,
          0.8,
          0.92,
          0.72,
          0.96,
          0.96,
          0.76,
          0.92,
          0.84,
          0.8,
          0.96,
          0.88,
          0.84,
          0.92,
          0.92,
          0.96,
          0.88,
          0.72,
          0.84,
          0.88,
          0.88,
          0.96,
          0.76,
          0.64,
          0.88,
          0.72,
          0.88,
          0.68,
          0.88,
          0.8,
          0.92,
          0.88,
          0.88,
          0.92,
          1,
          0.84,
          0.92,
          0.68,
          0.8,
          0.88,
          0.92,
          0.96,
          1,
          0.72,
          0.88,
          0.88,
          0.92,
          0.96,
          0.8,
          0.92,
          0.8,
          0.88,
          0.8,
          0.96,
          0.84,
          0.92,
          0.92,
          0.76,
          0.8,
          0.96,
          0.88,
          0.88,
          0.84,
          0.8,
          0.92,
          0.92,
          0.84,
          0.84,
          0.88,
          0.88,
          0.96,
          0.68,
          0.76,
          0.8,
          0.72,
          0.76,
          0.88,
          0.88,
          0.8,
          0.76,
          0.8,
          0.84,
          0.84,
          0.92,
          0.88,
          0.88,
          0.8,
          0.88,
          0.92,
          0.84,
          0.8,
          0.88,
          0.88,
          0.84,
          0.92,
          0.88,
          0.76,
          0.8,
          0.8,
          0.88,
          0.76,
          0.6,
          0.92,
          0.84,
          0.88,
          0.72,
          0.92,
          0.92,
          0.68,
          0.76,
          0.84,
          0.88,
          0.76,
          0.8,
          0.76,
          0.8,
          0.72,
          0.84,
          0.88,
          0.8,
          0.84,
          0.8,
          0.68,
          0.92,
          0.6,
          0.84,
          0.92,
          0.72,
          0.84,
          0.88,
          0.88,
          0.84,
          0.76,
          0.8,
          0.96,
          0.84,
          0.72,
          0.84,
          0.76,
          0.84,
          0.8,
          0.8,
          0.84,
          0.8,
          0.92,
          0.84,
          0.8,
          0.84,
          0.8,
          0.96,
          1,
          0.8,
          0.6,
          0.8,
          1,
          0.76,
          0.96,
          1,
          0.84,
          0.76,
          0.8,
          0.84,
          0.92,
          0.96,
          0.96,
          0.88,
          0.92,
          0.84,
          0.92,
          0.76,
          0.8,
          0.76,
          0.92,
          0.92,
          0.8,
          0.88,
          0.96,
          0.96,
          0.84,
          1,
          0.76,
          0.88,
          0.84,
          0.88,
          0.84,
          0.8,
          0.8,
          0.88,
          0.92,
          0.88,
          0.92,
          0.88,
          0.88,
          0.8,
          0.92,
          0.96,
          0.84,
          0.84,
          0.6,
          0.96,
          0.88,
          0.76,
          0.84,
          0.88,
          0.92,
          0.72,
          0.88,
          0.76,
          0.84,
          0.84,
          0.76,
          0.72,
          0.96,
          0.76,
          0.96,
          0.96,
          0.84,
          0.84,
          0.84,
          0.88,
          0.92,
          0.88,
          0.88,
          0.84,
          0.92,
          0.88,
          0.92,
          0.8,
          0.92,
          0.8,
          0.8,
          0.92,
          0.96,
          0.96,
          0.84,
          0.76,
          0.92,
          0.84,
          0.92,
          0.8,
          0.8,
          1,
          0.76,
          0.88,
          0.72,
          0.88,
          0.92,
          0.92,
          0.84,
          0.96,
          0.64,
          0.96,
          0.84,
          0.88,
          0.8,
          0.88,
          0.8,
          0.76,
          0.8,
          0.76,
          0.92,
          0.92,
          0.72,
          0.88,
          0.88,
          0.96,
          0.52,
          0.84,
          0.84,
          0.88,
          0.8,
          0.88,
          0.64,
          0.84,
          0.88,
          0.84,
          0.88,
          0.96,
          0.88,
          0.72,
          0.92,
          0.76,
          0.8,
          0.8,
          0.92,
          0.88,
          0.88,
          0.8,
          0.88,
          0.88,
          0.84,
          0.88,
          0.64,
          0.92,
          0.8,
          0.8,
          0.76,
          0.96,
          1,
          0.8,
          1,
          0.88,
          0.96,
          0.92,
          0.88,
          0.92,
          0.92,
          0.84,
          0.84,
          0.8,
          0.84,
          0.76,
          0.76,
          1,
          0.88,
          0.92,
          0.8,
          0.84,
          0.76,
          0.96,
          0.96,
          0.88,
          0.96,
          1,
          0.8,
          0.84,
          0.8,
          0.92,
          0.48,
          0.96,
          0.68,
          0.92,
          0.76,
          1,
          0.88,
          0.88,
          0.88,
          0.84,
          0.92,
          0.72,
          0.72,
          0.76,
          1,
          0.92,
          0.88,
          1,
          0.92,
          0.76,
          0.56,
          0.88,
          0.84,
          0.8,
          0.84,
          0.96,
          0.76,
          0.88,
          0.88,
          0.88,
          0.88,
          0.8,
          0.92,
          0.88,
          0.92,
          0.96,
          0.8,
          0.88,
          0.8,
          0.84,
          0.88,
          0.8,
          0.88,
          0.92,
          0.96,
          0.92,
          0.76,
          0.88,
          0.92,
          0.92,
          0.92,
          1,
          0.8,
          0.84,
          0.72,
          0.84,
          0.88,
          0.76,
          0.92,
          0.88,
          0.92,
          0.88,
          0.96,
          0.72,
          1,
          0.96,
          0.84,
          0.76,
          0.8,
          0.72,
          0.92,
          0.84,
          0.92,
          0.88,
          0.8,
          0.76,
          0.92,
          0.88,
          0.96,
          0.88,
          0.8,
          0.84,
          0.84,
          0.84,
          0.88,
          0.92,
          1,
          0.68,
          0.88,
          0.84,
          0.84,
          0.88,
          0.88,
          0.92,
          0.6,
          0.92,
          0.8,
          0.92,
          0.88,
          1,
          0.92,
          0.92,
          0.92,
          0.88,
          1,
          0.92,
          0.96,
          0.72,
          0.88,
          0.88,
          0.84,
          0.76,
          0.92,
          0.72,
          0.88,
          0.8,
          0.8,
          0.92,
          0.92,
          0.92,
          0.88,
          0.96,
          0.88,
          0.84,
          0.92,
          0.8,
          0.92,
          0.92,
          0.84,
          1,
          0.88,
          0.92,
          0.88,
          0.88,
          0.88,
          0.84,
          0.88,
          0.96,
          0.84,
          0.96,
          0.8,
          0.68,
          0.84,
          0.96,
          1,
          0.8,
          0.92,
          0.92,
          0.88,
          0.88,
          0.84,
          0.92,
          0.84,
          0.88,
          0.92,
          0.76,
          0.88,
          0.88,
          0.76,
          0.84,
          0.68,
          0.88,
          0.88,
          0.88,
          0.84,
          0.8,
          0.96,
          0.8,
          0.8,
          0.84,
          0.96,
          0.84,
          0.68,
          0.96,
          0.96,
          0.92,
          0.88,
          0.96,
          0.8,
          0.88,
          0.88,
          0.88,
          0.76,
          0.92,
          0.88,
          0.88,
          0.96,
          0.88,
          0.92,
          1,
          0.92,
          0.84,
          0.92,
          0.92,
          0.88,
          0.84,
          0.8,
          0.84,
          0.88,
          0.84,
          0.92,
          0.88,
          0.92,
          0.8,
          0.84,
          0.8,
          0.88,
          0.8,
          0.88,
          0.96,
          0.76,
          0.8,
          0.88,
          0.8,
          0.72,
          0.84,
          0.92,
          0.92,
          0.96,
          0.92,
          0.84,
          0.8,
          0.88,
          0.88,
          0.92,
          0.92,
          0.8,
          0.88,
          0.88,
          0.88,
          0.92,
          0.92,
          0.96,
          1,
          0.8,
          0.92,
          0.84,
          0.84,
          0.92,
          1,
          0.92,
          0.76,
          0.92,
          0.92,
          0.96,
          0.68,
          0.84,
          0.8,
          0.96,
          0.92,
          0.88,
          0.8,
          0.84,
          0.8,
          0.92,
          0.8,
          0.72,
          0.92,
          0.92,
          0.92,
          1,
          0.84,
          0.96,
          0.84,
          0.84,
          0.96,
          0.92,
          0.72,
          0.8,
          0.92,
          0.84,
          0.92,
          0.92,
          0.88,
          0.88,
          0.8,
          0.96,
          0.84,
          0.92,
          0.92,
          0.68,
          0.92,
          0.96,
          0.88,
          0.96,
          0.92,
          0.8,
          0.84,
          0.92,
          0.96,
          0.96,
          0.96,
          0.88,
          0.88,
          0.8,
          0.96,
          0.68,
          0.92,
          0.92,
          0.88,
          0.96,
          0.84,
          0.88,
          0.96,
          0.8,
          0.84,
          0.76,
          0.84,
          0.8,
          0.92,
          0.8,
          0.92,
          1,
          0.88,
          0.92,
          0.92,
          0.88,
          0.88,
          0.96,
          0.92,
          0.8,
          1,
          0.88,
          0.96,
          0.84,
          1,
          0.88,
          0.88,
          0.92,
          0.92,
          0.92,
          0.84,
          0.92,
          0.68,
          0.84,
          0.84,
          0.92,
          0.8,
          0.92,
          0.76,
          0.96,
          0.88,
          1,
          0.96,
          0.84,
          0.88,
          0.8,
          0.84,
          0.92,
          0.92,
          0.88,
          0.96,
          0.88,
          0.76,
          0.88,
          0.92,
          0.84,
          0.96,
          0.76,
          0.84,
          0.8,
          0.92,
          0.84,
          0.92,
          0.8,
          0.96,
          0.88,
          0.92,
          0.92,
          0.92,
          0.84,
          0.88,
          0.96,
          0.76,
          0.76,
          0.72,
          0.92,
          0.8,
          0.84,
          0.92,
          0.92,
          0.92,
          0.88,
          0.92,
          0.72,
          0.88,
          0.68,
          0.96,
          0.72,
          0.96,
          0.84,
          0.72,
          1,
          0.96,
          1,
          0.84,
          1,
          0.84,
          0.88,
          0.88,
          0.84,
          0.96,
          0.96,
          0.92,
          0.92,
          0.88,
          0.88,
          0.72,
          0.84,
          0.84,
          0.92,
          0.88,
          0.84,
          0.88,
          0.92,
          0.88,
          0.88,
          0.92,
          0.88,
          0.76,
          0.8,
          0.88,
          0.88,
          0.76,
          0.88,
          0.96,
          0.88,
          0.88,
          0.92,
          0.84,
          0.92,
          0.92,
          0.8,
          0.96,
          0.92,
          0.88,
          0.84,
          0.92,
          0.92,
          0.8,
          1,
          0.88,
          0.92,
          1,
          1,
          0.92,
          0.92,
          0.96,
          0.72,
          0.88,
          0.84,
          0.92,
          0.88,
          0.92,
          0.88,
          0.92,
          0.92,
          0.68,
          0.16,
          0.88,
          0.84,
          0.84,
          0.96,
          0.8,
          0.96,
          0.88,
          0.84,
          0.84,
          0.92,
          0.96,
          0.88,
          0.88,
          0.68,
          0.8,
          0.92,
          0.84,
          0.88,
          0.76,
          0.68,
          0.84,
          0.96,
          0.92,
          1,
          0.88,
          0.84,
          0.88,
          0.92,
          0.96,
          0.88,
          0.84,
          0.92,
          0.84,
          0.8,
          0.92,
          0.88,
          0.92,
          0.84,
          1,
          0.84,
          0.8,
          0.88,
          0.8,
          0.88,
          0.6,
          0.96,
          0.72,
          0.84,
          0.88,
          0.84,
          0.88,
          0.84,
          0.92,
          0.92,
          0.72,
          0.92,
          0.96,
          0.88,
          0.84,
          0.84,
          0.76,
          0.84,
          0.8,
          0.92,
          0.84,
          0.96,
          0.92,
          0.92,
          0.96,
          0.8,
          0.8,
          0.96,
          0.92,
          0.8,
          0.88,
          0.88,
          0.96,
          0.88,
          0.88,
          0.84,
          0.84,
          0.96,
          0.8,
          0.72,
          0.8,
          0.64,
          0.96,
          0.92,
          0.96,
          0.84,
          0.76,
          0.72,
          0.84,
          0.92,
          0.92,
          0.88,
          0.88,
          1,
          0.88,
          1,
          0.88,
          0.92,
          0.76,
          0.92,
          0.92,
          0.84,
          0.92,
          0.88,
          0.88,
          0.88,
          0.96,
          0.76,
          0.92,
          0.92,
          0.96,
          0.92,
          1,
          0.96,
          0.92,
          0.84,
          0.84,
          0.84,
          0.96,
          0.96,
          0.96,
          1,
          0.96,
          0.84,
          0.96,
          0.96,
          0.8,
          0.96,
          0.88,
          0.76,
          0.96,
          0.76,
          0.96,
          0.92,
          0.76,
          0.88,
          0.88,
          0.88,
          0.8,
          0.92,
          0.92,
          0.84,
          0.84,
          1,
          0.76,
          0.88,
          0.84,
          0.88,
          0.92,
          1,
          0.88,
          0.88,
          0.88,
          0.88,
          0.88,
          0.76,
          0.96,
          0.88,
          0.72,
          0.76,
          0.96,
          0.88,
          0.92,
          0.84,
          0.96,
          0.88,
          0.8,
          0.96,
          0.64,
          0.88,
          0.92,
          0.72,
          0.76,
          0.88,
          0.92,
          0.88,
          0.84,
          0.88,
          0.76,
          0.96,
          0.96,
          0.96,
          0.92,
          0.88,
          0.96,
          0.92,
          0.88,
          0.92,
          0.8,
          0.64,
          0.84,
          0.92,
          0.96,
          0.84,
          0.88,
          0.96,
          0.84,
          0.44,
          0.84,
          0.76,
          0.88,
          0.84,
          0.92,
          0.88,
          0.8,
          0.84,
          0.92,
          0.64,
          0.8,
          0.96,
          0.92,
          0.88,
          0.76,
          1,
          0.96,
          0.84,
          0.96,
          0.88,
          0.8,
          0.8,
          0.72,
          0.84,
          0.96,
          0.96,
          0.96,
          0.92,
          0.96,
          0.84,
          0.96,
          0.88,
          0.72,
          0.84,
          0.84,
          0.84,
          1,
          0.96,
          0.76,
          0.92,
          0.8,
          0.88,
          0.92,
          0.88,
          0.84,
          0.84,
          0.92,
          0.84,
          0.92,
          0.76,
          0.8,
          1,
          0.92,
          0.88,
          0.8,
          0.84,
          0.76,
          0.92,
          0.88,
          0.84,
          0.84,
          0.88,
          0.76,
          0.72,
          0.92,
          0.8,
          0.88,
          0.84,
          1,
          0.88,
          0.96,
          0.88,
          0.72,
          0.76,
          1,
          0.92,
          0.76,
          0.92,
          0.88,
          0.84,
          0.84,
          0.92,
          0.8,
          0.92,
          0.96,
          0.84,
          0.8,
          0.88,
          0.96,
          0.88,
          0.72,
          0.76,
          0.8,
          0.88,
          0.88,
          0.96,
          0.72,
          0.88,
          0.84,
          0.76,
          0.96,
          1,
          0.92,
          0.96,
          0.92,
          0.96,
          0.92,
          0.96,
          0.96,
          0.96,
          0.96,
          0.84,
          0.88,
          0.96,
          0.88,
          0.84,
          0.96,
          0.88,
          0.72,
          0.92,
          0.96,
          0.92,
          0.84,
          0.88,
          0.92,
          0.88,
          0.76,
          0.8,
          0.76,
          0.88,
          0.88,
          0.88,
          0.8,
          0.92,
          0.88,
          0.64,
          0.92,
          0.88,
          0.84,
          0.88,
          0.92,
          0.92,
          0.8,
          0.8,
          0.92,
          0.88,
          0.92,
          0.84,
          0.88,
          0.84,
          0.8,
          0.96,
          0.84,
          0.72,
          0.96,
          0.76,
          1,
          1,
          0.92,
          0.84,
          0.72,
          0.88,
          0.8,
          0.92,
          0.92,
          0.92,
          0.92,
          0.96,
          0.88,
          0.96,
          0.96,
          0.8,
          0.92,
          0.92,
          0.96,
          0.92,
          0.96,
          0.8,
          0.88,
          1,
          0.84,
          0.88,
          0.84,
          0.96,
          0.8,
          0.88,
          0.88,
          0.96,
          0.92,
          0.84,
          0.92,
          0.76,
          0.84,
          0.92,
          0.96,
          0.92,
          1,
          0.96,
          0.6,
          0.88,
          0.88,
          0.8,
          0.8,
          0.56,
          0.96,
          0.84,
          0.92,
          0.96,
          1,
          0.92,
          0.88,
          0.8,
          0.92,
          0.84,
          0.92,
          0.76,
          0.84,
          0.84,
          0.8,
          0.96,
          0.96,
          0.8,
          0.84,
          0.88,
          0.84,
          1,
          0.88,
          0.76,
          0.88,
          0.88,
          0.8,
          0.32,
          0.92,
          0.92,
          0.84,
          0.68,
          1,
          0.84,
          0.92,
          0.88,
          0.88,
          0.6,
          0.88,
          0.88,
          0.96,
          0.92,
          0.88,
          0.96,
          0.84,
          0.92,
          0.88,
          0.84,
          0.8,
          0.84,
          0.88,
          0.96,
          0.96,
          0.68,
          0.88,
          0.92,
          0.92,
          0.88,
          0.96,
          0.92,
          0.92,
          0.88,
          0.92,
          0.88,
          0.92,
          0.92,
          0.8,
          0.8,
          0.96,
          0.92,
          0.8,
          0.96,
          0.8,
          0.92,
          0.92,
          0.96,
          0.84,
          0.96,
          0.84,
          0.92,
          0.92,
          0.88,
          0.84,
          0.84,
          0.76,
          0.92,
          0.92,
          0.76,
          0.68,
          0.88,
          0.92,
          0.8,
          0.92,
          0.8,
          0.96,
          0.84,
          1,
          0.96,
          0.88,
          0.84,
          0.92,
          0.92,
          0.88,
          0.84,
          0.88,
          0.84,
          0.8,
          0.96,
          0.92,
          0.76,
          0.76,
          0.8,
          0.84,
          0.96,
          0.84,
          0.84,
          0.96,
          0.84,
          0.88,
          1,
          0.92,
          0.92,
          0.96,
          0.88,
          0.84,
          0.92,
          0.76,
          0.76,
          0.92,
          0.92,
          0.84,
          0.84,
          0.84,
          0.96,
          0.92,
          0.88,
          0.88,
          0.72,
          0.92,
          0.84,
          0.92,
          0.76,
          0.68,
          0.8,
          0.8,
          0.84,
          0.84,
          0.92,
          0.84,
          0.76,
          1,
          0.92,
          0.92,
          0.8,
          0.92,
          0.84,
          0.96,
          0.72,
          0.72,
          0.88,
          0.84,
          0.48,
          0.6,
          0.88,
          0.96,
          0.92,
          0.92,
          0.72,
          0.72,
          0.96,
          0.88,
          0.72,
          0.84,
          0.92,
          0.8,
          0.96,
          0.88,
          0.84,
          1,
          0.88,
          0.76,
          0.84,
          0.96,
          0.92,
          0.72,
          1,
          0.88,
          0.84,
          0.68,
          0.84,
          0.64,
          0.88,
          0.96,
          0.92,
          0.84,
          0.92,
          0.96,
          0.96,
          0.88,
          0.84,
          0.8,
          1,
          0.64,
          0.84,
          0.96,
          0.88,
          0.64,
          0.88,
          0.84,
          0.92,
          0.84,
          0.68,
          0.92,
          0.96,
          0.96,
          0.92,
          0.96,
          1,
          0.88,
          0.92,
          0.84,
          0.84,
          0.88,
          0.88,
          0.96,
          0.84,
          0.88,
          0.6,
          0.92,
          0.88,
          0.92,
          0.8,
          1,
          0.84,
          0.8,
          0.8,
          0.72,
          0.8,
          0.88,
          0.84,
          0.92,
          1,
          1,
          0.76,
          0.88,
          0.88,
          0.84,
          0.72,
          0.72,
          0.92,
          0.92,
          0.84,
          0.88,
          0.76,
          0.88,
          0.96,
          0.6,
          0.84,
          0.92,
          0.92,
          0.96,
          0.96,
          0.88,
          1,
          0.92,
          0.84,
          0.8,
          0.84,
          0.96,
          0.84,
          0.84,
          0.96,
          0.84,
          0.96,
          0.68,
          0.88,
          0.92,
          0.8,
          0.92,
          0.92,
          0.72,
          0.92,
          0.84,
          0.88,
          0.88,
          0.8,
          0.96,
          1,
          0.52,
          0.88,
          0.96,
          0.84,
          1,
          0.84,
          0.96,
          0.8,
          0.88,
          0.76,
          0.88,
          0.8,
          0.84,
          0.84,
          0.92,
          0.64,
          0.92,
          0.72,
          0.88,
          0.88,
          0.68,
          0.96,
          0.96,
          0.96,
          0.92,
          0.92,
          0.88,
          0.96,
          0.92,
          0.88,
          0.92,
          0.96,
          0.92,
          0.68,
          0.84,
          0.92,
          0.92,
          0.84,
          0.96,
          0.96,
          0.84,
          0.8,
          0.8,
          0.8,
          0.88,
          0.84,
          0.92,
          0.92,
          0.8,
          0.88,
          0.92,
          0.92,
          0.96,
          0.92,
          0.84,
          0.92,
          0.88,
          0.84,
          0.92,
          0.96,
          0.8,
          0.8,
          0.84,
          0.68,
          0.96,
          0.8,
          0.88,
          0.92,
          0.84,
          1,
          0.88,
          0.88,
          1,
          1,
          1,
          0.88,
          0.8,
          0.84,
          1,
          0.96,
          0.92,
          0.92,
          0.84,
          0.8,
          0.92,
          0.8,
          0.88,
          0.8,
          0.72,
          0.88,
          0.88,
          0.88,
          0.84,
          0.64,
          0.88,
          0.84,
          0.92,
          0.88,
          0.88,
          0.96,
          0.92,
          0.8,
          0.84,
          1,
          0.84,
          0.8,
          0.88,
          0.92,
          0.8,
          0.84,
          0.88,
          0.84,
          0.92,
          0.96,
          0.84,
          0.84,
          0.8,
          0.88,
          0.84,
          0.96,
          0.84,
          0.92,
          0.92,
          0.88,
          0.96,
          0.8,
          1,
          0.76,
          0.88,
          0.84,
          0.88,
          0.92,
          0.92,
          0.96,
          0.72,
          0.92,
          0.92,
          0.92,
          0.96,
          0.92,
          0.88,
          0.92,
          0.92,
          0.96,
          0.84,
          0.96,
          0.92,
          0.96,
          0.76,
          0.96,
          0.88,
          0.96,
          0.88,
          0.92,
          0.76,
          0.84,
          0.88,
          0.92,
          0.88,
          0.84,
          0.96,
          0.88,
          0.96,
          0.8,
          0.84,
          0.52,
          0.92,
          0.92,
          0.96,
          0.92,
          0.96,
          0.72,
          0.96,
          0.8,
          0.88,
          0.92,
          0.92,
          0.76,
          0.92,
          0.8,
          0.88,
          0.84,
          0.84,
          0.92,
          0.88,
          0.96,
          1,
          0.88,
          0.88,
          0.84,
          0.88,
          0.84,
          0.72,
          0.96,
          0.92,
          0.96,
          0.92,
          0.8,
          0.96,
          0.88,
          0.76,
          0.88,
          0.96,
          0.92,
          0.8,
          1,
          0.92,
          0.92,
          0.8,
          0.84,
          0.96,
          0.96,
          0.76,
          0.92,
          0.88,
          0.96,
          1,
          0.88,
          0.96,
          0.96,
          0.84,
          0.92,
          1,
          0.76,
          0.84,
          0.72,
          0.84,
          0.88,
          0.92,
          0.92,
          0.92,
          0.88,
          0.92,
          0.92,
          0.92,
          0.88,
          0.92,
          0.84,
          1,
          0.76,
          0.72,
          1,
          0.8,
          0.84,
          0.72,
          0.8,
          0.88,
          0.92,
          0.76,
          0.96,
          0.88,
          0.96,
          1,
          0.96,
          0.84,
          1,
          0.92,
          0.92,
          0.8,
          0.84,
          0.84,
          0.68,
          0.96,
          0.8,
          0.8,
          0.96,
          0.96,
          0.92,
          0.84,
          0.8,
          0.96,
          0.84,
          0.96,
          1,
          0.84,
          0.84,
          0.84,
          0.92,
          0.88,
          0.84,
          0.92,
          0.96,
          0.92,
          0.88,
          0.96,
          0.92,
          0.88,
          0.88,
          0.88,
          0.88,
          0.8,
          0.96,
          0.96,
          0.92,
          0.88,
          0.92,
          0.84,
          0.92,
          0.88,
          0.88,
          0.8,
          0.92,
          0.8,
          1,
          0.84,
          0.92,
          0.84,
          0.84,
          0.84,
          0.84,
          0.88,
          0.76,
          0.92,
          0.8,
          0.92,
          0.8,
          1,
          0.88,
          0.96,
          0.88,
          0.96,
          0.72,
          0.88,
          0.96,
          0.88,
          0.96,
          0.76,
          0.84,
          1,
          0.96,
          0.92,
          1,
          0.88,
          0.84,
          0.8,
          0.92,
          0.76,
          0.88,
          0.8,
          0.8,
          0.88,
          0.88,
          0.96,
          0.96,
          0.84,
          0.88,
          0.88,
          0.96,
          1,
          0.88,
          0.96,
          0.92,
          0.84,
          0.92,
          0.96,
          0.92,
          0.88,
          0.96,
          0.88,
          0.88,
          0.72,
          1,
          0.88,
          0.92,
          0.92,
          0.88,
          0.88,
          0.88,
          0.96,
          0.84,
          0.88,
          0.88,
          1,
          0.92,
          0.96,
          0.88,
          0.8,
          0.84,
          0.92,
          0.96,
          0.84,
          0.76,
          0.92,
          0.84,
          0.96,
          0.88,
          0.92,
          0.88,
          1,
          0.96,
          1,
          0.84,
          1,
          0.96,
          0.96,
          0.92,
          0.8,
          0.76,
          0.96,
          1,
          1,
          0.88,
          0.88,
          0.88,
          0.92,
          0.72,
          0.92,
          0.92,
          1,
          0.88,
          0.96,
          1,
          1,
          1,
          0.84,
          0.88,
          0.92,
          0.96,
          0.96,
          0.96,
          0.84,
          0.64,
          0.76,
          0.64,
          0.8,
          0.84,
          0.96,
          0.88,
          0.96,
          0.88,
          0.92,
          0.92,
          0.88,
          0.96,
          0.92,
          0.84,
          0.92,
          1,
          0.84,
          0.88,
          0.96,
          0.92,
          0.92,
          0.96,
          0.8,
          0.84,
          0.92,
          1,
          0.76,
          0.84,
          0.8,
          0.76,
          0.96,
          0.92,
          0.88,
          0.96,
          0.84,
          0.92,
          0.88,
          0.88,
          0.92,
          0.96,
          0.8,
          0.88,
          0.92,
          0.84,
          0.96,
          0.96,
          0.88,
          0.92,
          0.96,
          0.8,
          0.88,
          0.96,
          0.92,
          0.84,
          0.96,
          0.96,
          0.84,
          0.88,
          0.84,
          0.8,
          0.56,
          0.96,
          0.84,
          0.92,
          0.96,
          0.92,
          0.88,
          0.92,
          0.96,
          0.6,
          0.96,
          0.88,
          1,
          0.88,
          0.96,
          0.72,
          0.92,
          0.92,
          0.84,
          0.8,
          0.92,
          0.92,
          0.84,
          0.92,
          0.84,
          0.92,
          0.8,
          0.92,
          0.84,
          0.88,
          0.92,
          0.92,
          0.88,
          0.88,
          1,
          0.92,
          0.76,
          0.84,
          0.96,
          1,
          0.88,
          0.96,
          0.92,
          0.88,
          0.8,
          0.96,
          0.88,
          0.96,
          0.96,
          0.88,
          1,
          1,
          0.96,
          1,
          1,
          0.88,
          0.92,
          0.96,
          0.92,
          0.84,
          0.92,
          0.92,
          0.92,
          0.8,
          0.8,
          0.96,
          0.92,
          0.76,
          0.72,
          0.92,
          0.92,
          1,
          0.92,
          0.96,
          0.96,
          0.68,
          0.96,
          0.92,
          0.88,
          0.84,
          0.88,
          0.88,
          0.92,
          0.88,
          0.76,
          0.84,
          0.92,
          0.88,
          0.88,
          0.88,
          0.92,
          0.88,
          0.92,
          0.92,
          0.76,
          0.96,
          1,
          0.96,
          0.92,
          0.88,
          0.88,
          0.92,
          0.84,
          0.72,
          0.92,
          0.76,
          0.92,
          0.92,
          0.84,
          0.96,
          0.72,
          0.84,
          1,
          0.88,
          0.96,
          0.92,
          0.8,
          1,
          0.88,
          0.92,
          0.96,
          0.96,
          0.84,
          0.96,
          0.8,
          0.92,
          0.84,
          0.96,
          1,
          0.8,
          0.72,
          0.8,
          0.88,
          0.92,
          0.92,
          0.96,
          0.96,
          0.92,
          0.84,
          0.92,
          0.68,
          0.88,
          0.68,
          0.92,
          0.96,
          0.96,
          0.96,
          0.84,
          0.88,
          0.96,
          0.84,
          1,
          0.68,
          1,
          0.96,
          0.96,
          1,
          0.96,
          0.88,
          0.88,
          1,
          0.68,
          0.84,
          0.84,
          0.92,
          0.92,
          0.92,
          0.84,
          0.96,
          0.96,
          0.92,
          0.96,
          0.92,
          0.92,
          0.96,
          0.88,
          0.96,
          0.96,
          0.96,
          1,
          0.92,
          0.96,
          0.88,
          0.76,
          0.92,
          0.8,
          0.88,
          0.88,
          0.92,
          0.84,
          1,
          0.76,
          0.96,
          1,
          0.72,
          1,
          0.88,
          0.92,
          1,
          0.88,
          0.92,
          0.72,
          0.88,
          0.76,
          0.76,
          0.8,
          0.96,
          0.96,
          0.96,
          0.84,
          0.76,
          0.96,
          1,
          1,
          0.92,
          0.76,
          0.92,
          0.84,
          0.96,
          0.88,
          0.92,
          0.88,
          0.88,
          1,
          0.84,
          0.88,
          0.84,
          0.76,
          0.84,
          0.96,
          0.96,
          0.8,
          0.88,
          0.84,
          1,
          0.92,
          0.92,
          0.92,
          0.88,
          0.92,
          0.92,
          0.76,
          1,
          0.88,
          0.96,
          0.84,
          0.96,
          0.92,
          0.76,
          0.88,
          0.84,
          0.72,
          0.96,
          0.92,
          0.92,
          0.96,
          0.96,
          0.92,
          0.92,
          0.8,
          0.88,
          0.72,
          0.96,
          0.96,
          0.92,
          0.68,
          0.92,
          0.84,
          0.84,
          0.84,
          0.92,
          0.88,
          0.84,
          1,
          0.8,
          0.84,
          0.72,
          0.96,
          0.8,
          0.96,
          0.92,
          0.92,
          0.84,
          0.88,
          0.96,
          0.92,
          0.92,
          0.8,
          0.76,
          0.96,
          1,
          0.96,
          0.8,
          0.88,
          0.96,
          0.8,
          1,
          0.88,
          0.88,
          0.92,
          0.96,
          1,
          0.96,
          0.92,
          0.84,
          1,
          0.88,
          0.88,
          1,
          1,
          0.68,
          0.88,
          0.92,
          0.96,
          0.8,
          0.92,
          0.92,
          0.92,
          0.6,
          0.96,
          0.92,
          0.96,
          0.8,
          0.96,
          0.76,
          1,
          0.84,
          0.88,
          0.88,
          0.92,
          0.88,
          0.96,
          0.92,
          0.84,
          0.96,
          1,
          0.84,
          0.96,
          0.92,
          1,
          0.96,
          0.96,
          0.84,
          0.92,
          0.88,
          0.96,
          1,
          0.92,
          0.8,
          0.92,
          0.96,
          0.8,
          0.92,
          0.92,
          0.96,
          0.92,
          0.96,
          0.84,
          1,
          0.92,
          0.92,
          0.96,
          0.88,
          1,
          0.96,
          0.92,
          0.92,
          0.92,
          0.84,
          0.92,
          0.76,
          1,
          0.84,
          0.96,
          0.96,
          0.88,
          0.84,
          1,
          0.92,
          0.84,
          0.76,
          0.96,
          0.92,
          0.92,
          0.72,
          0.76,
          0.92,
          1,
          0.88,
          0.92,
          0.92,
          0.84,
          0.96,
          1,
          1,
          1,
          0.96,
          0.88,
          0.96,
          0.72,
          1,
          0.88,
          1,
          0.8,
          0.92,
          0.8,
          0.72,
          0.96,
          0.88,
          0.88,
          0.84,
          0.84,
          0.92,
          0.84,
          0.8,
          0.96,
          0.92,
          0.76,
          0.72,
          0.88,
          0.92,
          0.92,
          0.96,
          0.96,
          0.96,
          0.96,
          0.92,
          0.72,
          0.72,
          0.76,
          0.88,
          0.68,
          0.96,
          0.84,
          0.88,
          0.92,
          1,
          0.96,
          0.92,
          0.88,
          0.8,
          0.8,
          0.88,
          0.72,
          0.72,
          0.92,
          0.6,
          0.8,
          0.88,
          1,
          0.8,
          1,
          0.76,
          0.92,
          0.92,
          0.84,
          0.84,
          0.92,
          0.88,
          0.84,
          0.92,
          1,
          0.84,
          0.84,
          0.88,
          1,
          0.92,
          0.92,
          0.84,
          0.92,
          1,
          0.8,
          1,
          0.76,
          0.8,
          1,
          0.88,
          0.8,
          0.84,
          0.96,
          0.88,
          1,
          0.92,
          0.88,
          0.96,
          0.96,
          0.96,
          0.92,
          0.92,
          0.96,
          0.88,
          1,
          0.92,
          0.88,
          0.92,
          0.88,
          0.92,
          0.96,
          0.72,
          0.92,
          0.88,
          0.92,
          0.92,
          0.88,
          1,
          1,
          0.96,
          0.92,
          0.72,
          0.8,
          0.84,
          0.88,
          0.84,
          0.96,
          1,
          1,
          0.92,
          0.88,
          0.84,
          0.96,
          0.92,
          0.6,
          0.92,
          0.84,
          0.84,
          0.84,
          0.8,
          0.88,
          0.88,
          0.96,
          0.92,
          1,
          0.84,
          0.88,
          0.96,
          0.88,
          0.72,
          0.92,
          0.92,
          0.96,
          0.96,
          0.88,
          0.88,
          1,
          0.88,
          0.88,
          0.84,
          0.96,
          1,
          0.64,
          0.92,
          0.96,
          0.92,
          0.72,
          0.96,
          0.96,
          0.96,
          0.8,
          0.96,
          0.72,
          0.8,
          0.96,
          0.68,
          0.88,
          0.84,
          0.88,
          0.88,
          0.84,
          0.92,
          0.96,
          0.96,
          0.88,
          0.96,
          0.92,
          0.96,
          0.96,
          0.84,
          0.96,
          0.84,
          1,
          0.92,
          0.8,
          0.92,
          0.96,
          0.92,
          0.76,
          0.88,
          0.96,
          0.84,
          0.88,
          0.96,
          0.84,
          0.92,
          0.96,
          1,
          1,
          1,
          0.8,
          0.84,
          1,
          0.84,
          0.96,
          0.96,
          1,
          0.88,
          0.88,
          0.76,
          0.88,
          0.92,
          0.96,
          0.96,
          0.96,
          0.96,
          0.92,
          0.92,
          0.84,
          1,
          1,
          1,
          0.88,
          0.68,
          0.76,
          0.96,
          0.76,
          0.92,
          0.88,
          0.84,
          0.84,
          0.96,
          0.92,
          0.76,
          0.72,
          0.92,
          1,
          0.8,
          0.96,
          0.96,
          0.8,
          0.92,
          1,
          0.92,
          0.76,
          0.96,
          0.96,
          0.92,
          0.84,
          0.84,
          0.8,
          0.96,
          0.84,
          1,
          0.76,
          1,
          0.96,
          1,
          0.88,
          1,
          0.88,
          0.88,
          0.92,
          0.84,
          0.92,
          0.84,
          0.96,
          0.96,
          0.88,
          0.8,
          0.8,
          0.92,
          0.92,
          0.84,
          0.84,
          0.88,
          0.76,
          0.88,
          0.84,
          0.92,
          0.88,
          0.92,
          0.88,
          0.88,
          0.88,
          0.88,
          0.84,
          0.92,
          0.88,
          0.92,
          0.72,
          0.88,
          0.92,
          0.72,
          0.8,
          0.84,
          0.88,
          0.88,
          0.92,
          0.92,
          0.84,
          0.92,
          0.88,
          0.96,
          0.92,
          0.72,
          0.96,
          0.84,
          0.8,
          0.88,
          0.8,
          0.76,
          0.8,
          0.88,
          0.92,
          0.84,
          0.92,
          0.76,
          0.88,
          0.76,
          0.88,
          0.64,
          0.72,
          0.68,
          0.88,
          0.88,
          0.84,
          0.76,
          0.88,
          0.88,
          0.84,
          0.92,
          0.96,
          0.76,
          0.88,
          0.72,
          0.8,
          0.76,
          0.84,
          0.88,
          0.64,
          0.88,
          0.96,
          0.6,
          0.8,
          0.72,
          0.92,
          0.84,
          0.88,
          0.84,
          0.72,
          0.84,
          0.84,
          0.8,
          0.76,
          0.84,
          0.76,
          0.8,
          0.76,
          0.88,
          0.68,
          0.88,
          0.84,
          0.6,
          0.8,
          0.92,
          0.88,
          0.84,
          0.72,
          0.88,
          0.76,
          0.92,
          0.84,
          0.84,
          0.8,
          0.88,
          0.88,
          0.84,
          0.88,
          0.92,
          0.84,
          0.88,
          0.88,
          0.88,
          0.72,
          0.84,
          0.68,
          0.88,
          0.92,
          0.76,
          0.6,
          0.88,
          0.88,
          0.92,
          0.84,
          0.84,
          0.8,
          0.84,
          0.64,
          0.84,
          0.96,
          0.92,
          0.76,
          0.8,
          0.88,
          0.6,
          0.88,
          0.92,
          0.76,
          0.92,
          0.92,
          0.88,
          0.84,
          0.8,
          0.88,
          0.76,
          0.84,
          0.92,
          0.84,
          0.84,
          0.88,
          0.84,
          0.84,
          0.88,
          0.72,
          0.84,
          1,
          0.96,
          0.96,
          0.88,
          0.84,
          0.92,
          0.84,
          0.92,
          0.96,
          1,
          0.96,
          0.88,
          0.76,
          1,
          0.92,
          0.92,
          0.84,
          0.88,
          0.72,
          0.84,
          0.92,
          0.8,
          0.84,
          0.52,
          0.76,
          0.84,
          0.92,
          0.92,
          0.76,
          0.84,
          0.88,
          0.84,
          0.64,
          0.84,
          0.88,
          0.76,
          0.8,
          0.8,
          0.84,
          0.88,
          0.6,
          0.72,
          0.68,
          0.68,
          0.84,
          0.88,
          0.88,
          0.68,
          0.88,
          0.84,
          0.92,
          0.92,
          0.84,
          0.88,
          0.88,
          0.96,
          0.84,
          0.92,
          0.84,
          0.84,
          0.92,
          0.6,
          0.88,
          0.88,
          0.28,
          0.84,
          0.64,
          0.88,
          0.8,
          0.88,
          0.8,
          0.8,
          0.84,
          0.84,
          0.88,
          0.88,
          0.84,
          0.84,
          0.88,
          0.88,
          0.84,
          0.8,
          0.72,
          0.8,
          0.88,
          0.88,
          0.84,
          0.8,
          0.96,
          0.92,
          0.92,
          0.84,
          0.88,
          0.88,
          0.88,
          0.72,
          0.68,
          0.76,
          0.8,
          0.84,
          0.76,
          0.84,
          0.88,
          0.8,
          0.76,
          0.56,
          0.84,
          0.68,
          0.92,
          0.88,
          0.84,
          0.84,
          0.88,
          0.76,
          0.92,
          0.72,
          0.76,
          0.8,
          0.96,
          0.76,
          0.92,
          0.88,
          0.92,
          0.88,
          0.96,
          0.84,
          0.92,
          0.84,
          0.96,
          0.84,
          0.92,
          0.96,
          0.92,
          0.96,
          0.96,
          0.96,
          1,
          0.84,
          0.92,
          0.92,
          0.92,
          0.96,
          0.92,
          0.96,
          0.88,
          0.68,
          0.92,
          0.92,
          0.96,
          0.84,
          0.92,
          0.92,
          0.72,
          0.92,
          0.88,
          0.68,
          0.88,
          0.8,
          0.88,
          0.88,
          0.84,
          0.88,
          0.88,
          0.8,
          0.76,
          0.84,
          0.84,
          0.84,
          0.92,
          0.84,
          0.92,
          0.92,
          0.88,
          0.92,
          0.92,
          0.88,
          0.88,
          0.76,
          0.92,
          0.92,
          0.92,
          0.96,
          0.8,
          0.96,
          0.92,
          0.88,
          0.96,
          0.88,
          0.88,
          0.8,
          0.88,
          0.84,
          0.8,
          0.84,
          0.76,
          0.96,
          0.92,
          0.88,
          0.88,
          0.76,
          0.88,
          0.84,
          0.88,
          0.72,
          0.84,
          0.84,
          0.84,
          0.88,
          0.8,
          0.88,
          0.88,
          0.88,
          0.88,
          0.88,
          0.88,
          0.88,
          0.8,
          0.88,
          0.88,
          0.84,
          0.92,
          0.92,
          0.84,
          0.88,
          0.76,
          0.84,
          0.92,
          0.8,
          0.84,
          0.88,
          0.8,
          0.8,
          0.88,
          0.88,
          0.92,
          0.8,
          0.88,
          0.68,
          0.88,
          0.92,
          0.8,
          0.88,
          0.72,
          0.88,
          0.88,
          0.72,
          0.92,
          0.88,
          0.76,
          0.72,
          0.88,
          0.92,
          0.8,
          0.88,
          0.8,
          0.92,
          0.92,
          0.92,
          0.84,
          0.8,
          0.88,
          0.88,
          0.68,
          0.92,
          0.88,
          0.84,
          0.72,
          0.84,
          0.84,
          0.8,
          0.92,
          0.88,
          0.88,
          0.92,
          0.76,
          0.92,
          0.88,
          0.96,
          0.84,
          0.92,
          0.92,
          0.88,
          0.84,
          0.92,
          0.84,
          0.96,
          0.88,
          0.92,
          0.88,
          0.84,
          0.92,
          0.84,
          0.92,
          0.92,
          0.92,
          0.96,
          0.92,
          0.76,
          0.88,
          0.92,
          0.88,
          0.84,
          0.84,
          0.92,
          0.96,
          0.84,
          0.72,
          0.92,
          0.96,
          0.84,
          0.92,
          0.88,
          0.84,
          0.92,
          0.92,
          0.84,
          0.88,
          0.88,
          0.8,
          0.96,
          0.88,
          0.88,
          0.96,
          0.88,
          0.96,
          0.96,
          0.88,
          0.96,
          0.92,
          0.96,
          0.84,
          0.88,
          0.92,
          0.92,
          0.8,
          0.84,
          0.96,
          0.84,
          0.92,
          0.8,
          0.88,
          0.88,
          0.96,
          0.92,
          0.96,
          0.8,
          0.88,
          0.88,
          0.84,
          0.92,
          0.92,
          0.96,
          0.88,
          0.92,
          0.84,
          0.96,
          0.84,
          0.84,
          0.88,
          0.96,
          0.84,
          0.88,
          0.88,
          0.92,
          0.88,
          0.96,
          0.88,
          0.92,
          0.68,
          0.92,
          0.84,
          0.92,
          0.84,
          0.8,
          0.92,
          0.88,
          0.88,
          0.92,
          0.84,
          0.92,
          0.8,
          0.84,
          0.88,
          0.92,
          0.88,
          0.92,
          0.92,
          0.8,
          0.8,
          0.88,
          0.92,
          0.92,
          0.84,
          0.84,
          0.76,
          0.92,
          0.92,
          0.92,
          0.88,
          0.92,
          0.88,
          0.84,
          0.88,
          0.92,
          0.92,
          0.92,
          0.92,
          0.92,
          0.92,
          0.96,
          0.92,
          0.76,
          0.88,
          0.88,
          0.92,
          0.88,
          0.96,
          0.88,
          0.84,
          0.84,
          0.92,
          0.8,
          0.88,
          0.96,
          0.84,
          0.92,
          0.88,
          0.92,
          0.8,
          0.88,
          0.84,
          0.96,
          0.92,
          0.88,
          0.92,
          0.92,
          0.88,
          0.84,
          0.8,
          0.92,
          0.88,
          0.92,
          0.84,
          0.88,
          0.92,
          0.8,
          0.96,
          0.92,
          0.84,
          0.92,
          0.88,
          0.96,
          0.92,
          0.96,
          0.96,
          0.92,
          0.88,
          0.96,
          0.84,
          0.84,
          0.88,
          0.96,
          0.92,
          0.92,
          0.92,
          0.88,
          0.92,
          0.88,
          0.88,
          0.96,
          0.88,
          0.88,
          0.88,
          0.92,
          0.96,
          0.96,
          0.88,
          0.96,
          0.88,
          0.76,
          0.92,
          0.96,
          0.88,
          0.96,
          0.92,
          0.88,
          0.72,
          0.92,
          0.84,
          0.84,
          0.92,
          0.92,
          0.88,
          0.88,
          0.88,
          0.92,
          0.92,
          0.84,
          0.88,
          0.92,
          0.92,
          0.92,
          0.96,
          0.88,
          0.84,
          0.96,
          0.8,
          0.88,
          0.8,
          0.92,
          0.88,
          0.92,
          0.8,
          0.8,
          0.68,
          0.8,
          0.76,
          0.88,
          0.96,
          0.92,
          0.88,
          0.96,
          0.88,
          0.88,
          0.88,
          0.84,
          0.76,
          0.88,
          0.96,
          0.84,
          0.92,
          0.84,
          0.92,
          0.88,
          0.76,
          0.76,
          0.84,
          0.84,
          0.92,
          0.84,
          0.96,
          0.96,
          0.96,
          0.84,
          0.88,
          0.96,
          0.96,
          1,
          0.84,
          0.88,
          0.96,
          0.84,
          0.96,
          0.96,
          0.8,
          0.8,
          0.92,
          0.92,
          0.8,
          0.84,
          0.8,
          0.84,
          0.96,
          0.96,
          0.92,
          0.96,
          0.92,
          0.92,
          0.92,
          0.8,
          0.96,
          0.92,
          0.84,
          0.96,
          0.96,
          0.96,
          0.84,
          0.88,
          0.92,
          0.96,
          0.88,
          0.92,
          0.92,
          0.96,
          0.92,
          0.96,
          0.96,
          0.92,
          0.96,
          0.92,
          0.96,
          0.88,
          0.76,
          0.92,
          0.88,
          0.76,
          0.96,
          0.84,
          0.96,
          0.72,
          0.96,
          0.88,
          0.88,
          0.88,
          0.8,
          0.88,
          0.8,
          0.92,
          0.84,
          0.92,
          0.8,
          0.96,
          0.88,
          0.96,
          0.96,
          0.96,
          0.92,
          0.96,
          0.88,
          0.88,
          0.92,
          0.88,
          0.84,
          0.88,
          0.88,
          0.96,
          0.96,
          0.96,
          0.96,
          1,
          0.92,
          0.92,
          0.92,
          0.92,
          1,
          0.88,
          0.92,
          0.88,
          0.92,
          0.92,
          0.92,
          0.92,
          0.8,
          0.72,
          0.92,
          0.96,
          0.92,
          0.92,
          0.96,
          0.68,
          0.88,
          0.84,
          0.88,
          0.76,
          0.8,
          0.88,
          0.92,
          0.92,
          0.92,
          0.96,
          0.92,
          0.92,
          0.92,
          0.84,
          0.84,
          0.88,
          0.8,
          0.92,
          0.88,
          0.96,
          0.8,
          0.92,
          0.96,
          0.92,
          0.92,
          0.88,
          0.92,
          0.84,
          0.76,
          0.96,
          0.84,
          0.92,
          0.96,
          0.88,
          0.92,
          0.92,
          0.92,
          0.92,
          0.92,
          0.92,
          0.96,
          0.96,
          0.92,
          0.88,
          0.88,
          0.92,
          0.96,
          0.76,
          0.92,
          0.92,
          0.96,
          0.92,
          0.84,
          0.84,
          0.92,
          0.92,
          0.56,
          0.88,
          0.72,
          0.88,
          0.92,
          0.76,
          0.84,
          0.92,
          0.76,
          0.92,
          0.96,
          0.92,
          0.84,
          0.92,
          0.84,
          0.92,
          0.96,
          0.76,
          0.88,
          0.88,
          0.72,
          0.92,
          0.84,
          0.92,
          0.84,
          0.92,
          0.8,
          0.8,
          0.92,
          0.96,
          0.84,
          0.92,
          0.92,
          0.92,
          0.88,
          0.84,
          0.92,
          0.92,
          0.92,
          0.96,
          0.88,
          0.96,
          0.96,
          0.88,
          0.92,
          0.96,
          0.96,
          0.96,
          0.96,
          0.92,
          0.96,
          0.72,
          0.96,
          0.72,
          0.84,
          0.96,
          0.92,
          0.88,
          0.96,
          0.88,
          0.92,
          0.88,
          0.8,
          0.96,
          0.92,
          0.96,
          0.92,
          0.96,
          0.92,
          0.92,
          0.96,
          0.8,
          0.96,
          0.96,
          0.96,
          0.96,
          0.84,
          0.84,
          0.76,
          0.8,
          0.96,
          0.92,
          0.96,
          0.96,
          0.96,
          0.92,
          0.96,
          0.96,
          0.8,
          0.92,
          0.8,
          0.84,
          0.88,
          0.92,
          0.92,
          0.92,
          0.92,
          0.92,
          0.92,
          0.92,
          0.8,
          0.92,
          0.88,
          0.92,
          0.92,
          0.88,
          0.92,
          0.92,
          0.56,
          0.92,
          0.84
         ],
         "xaxis": "x",
         "yaxis": "y"
        }
       ],
       "layout": {
        "barmode": "relative",
        "legend": {
         "tracegroupgap": 0
        },
        "margin": {
         "t": 60
        },
        "shapes": [
         {
          "line": {
           "color": "red",
           "width": 2
          },
          "type": "line",
          "x0": 0.8452946117844715,
          "x1": 0.8452946117844715,
          "xref": "x",
          "y0": 0,
          "y1": 1,
          "yref": "y domain"
         },
         {
          "line": {
           "color": "orange",
           "width": 2
          },
          "type": "line",
          "x0": 0.8,
          "x1": 0.8,
          "xref": "x",
          "y0": 0,
          "y1": 1,
          "yref": "y domain"
         },
         {
          "line": {
           "color": "green",
           "width": 2
          },
          "type": "line",
          "x0": 0.92,
          "x1": 0.92,
          "xref": "x",
          "y0": 0,
          "y1": 1,
          "yref": "y domain"
         }
        ],
        "template": {
         "data": {
          "bar": [
           {
            "error_x": {
             "color": "#2a3f5f"
            },
            "error_y": {
             "color": "#2a3f5f"
            },
            "marker": {
             "line": {
              "color": "#E5ECF6",
              "width": 0.5
             },
             "pattern": {
              "fillmode": "overlay",
              "size": 10,
              "solidity": 0.2
             }
            },
            "type": "bar"
           }
          ],
          "barpolar": [
           {
            "marker": {
             "line": {
              "color": "#E5ECF6",
              "width": 0.5
             },
             "pattern": {
              "fillmode": "overlay",
              "size": 10,
              "solidity": 0.2
             }
            },
            "type": "barpolar"
           }
          ],
          "carpet": [
           {
            "aaxis": {
             "endlinecolor": "#2a3f5f",
             "gridcolor": "white",
             "linecolor": "white",
             "minorgridcolor": "white",
             "startlinecolor": "#2a3f5f"
            },
            "baxis": {
             "endlinecolor": "#2a3f5f",
             "gridcolor": "white",
             "linecolor": "white",
             "minorgridcolor": "white",
             "startlinecolor": "#2a3f5f"
            },
            "type": "carpet"
           }
          ],
          "choropleth": [
           {
            "colorbar": {
             "outlinewidth": 0,
             "ticks": ""
            },
            "type": "choropleth"
           }
          ],
          "contour": [
           {
            "colorbar": {
             "outlinewidth": 0,
             "ticks": ""
            },
            "colorscale": [
             [
              0,
              "#0d0887"
             ],
             [
              0.1111111111111111,
              "#46039f"
             ],
             [
              0.2222222222222222,
              "#7201a8"
             ],
             [
              0.3333333333333333,
              "#9c179e"
             ],
             [
              0.4444444444444444,
              "#bd3786"
             ],
             [
              0.5555555555555556,
              "#d8576b"
             ],
             [
              0.6666666666666666,
              "#ed7953"
             ],
             [
              0.7777777777777778,
              "#fb9f3a"
             ],
             [
              0.8888888888888888,
              "#fdca26"
             ],
             [
              1,
              "#f0f921"
             ]
            ],
            "type": "contour"
           }
          ],
          "contourcarpet": [
           {
            "colorbar": {
             "outlinewidth": 0,
             "ticks": ""
            },
            "type": "contourcarpet"
           }
          ],
          "heatmap": [
           {
            "colorbar": {
             "outlinewidth": 0,
             "ticks": ""
            },
            "colorscale": [
             [
              0,
              "#0d0887"
             ],
             [
              0.1111111111111111,
              "#46039f"
             ],
             [
              0.2222222222222222,
              "#7201a8"
             ],
             [
              0.3333333333333333,
              "#9c179e"
             ],
             [
              0.4444444444444444,
              "#bd3786"
             ],
             [
              0.5555555555555556,
              "#d8576b"
             ],
             [
              0.6666666666666666,
              "#ed7953"
             ],
             [
              0.7777777777777778,
              "#fb9f3a"
             ],
             [
              0.8888888888888888,
              "#fdca26"
             ],
             [
              1,
              "#f0f921"
             ]
            ],
            "type": "heatmap"
           }
          ],
          "heatmapgl": [
           {
            "colorbar": {
             "outlinewidth": 0,
             "ticks": ""
            },
            "colorscale": [
             [
              0,
              "#0d0887"
             ],
             [
              0.1111111111111111,
              "#46039f"
             ],
             [
              0.2222222222222222,
              "#7201a8"
             ],
             [
              0.3333333333333333,
              "#9c179e"
             ],
             [
              0.4444444444444444,
              "#bd3786"
             ],
             [
              0.5555555555555556,
              "#d8576b"
             ],
             [
              0.6666666666666666,
              "#ed7953"
             ],
             [
              0.7777777777777778,
              "#fb9f3a"
             ],
             [
              0.8888888888888888,
              "#fdca26"
             ],
             [
              1,
              "#f0f921"
             ]
            ],
            "type": "heatmapgl"
           }
          ],
          "histogram": [
           {
            "marker": {
             "pattern": {
              "fillmode": "overlay",
              "size": 10,
              "solidity": 0.2
             }
            },
            "type": "histogram"
           }
          ],
          "histogram2d": [
           {
            "colorbar": {
             "outlinewidth": 0,
             "ticks": ""
            },
            "colorscale": [
             [
              0,
              "#0d0887"
             ],
             [
              0.1111111111111111,
              "#46039f"
             ],
             [
              0.2222222222222222,
              "#7201a8"
             ],
             [
              0.3333333333333333,
              "#9c179e"
             ],
             [
              0.4444444444444444,
              "#bd3786"
             ],
             [
              0.5555555555555556,
              "#d8576b"
             ],
             [
              0.6666666666666666,
              "#ed7953"
             ],
             [
              0.7777777777777778,
              "#fb9f3a"
             ],
             [
              0.8888888888888888,
              "#fdca26"
             ],
             [
              1,
              "#f0f921"
             ]
            ],
            "type": "histogram2d"
           }
          ],
          "histogram2dcontour": [
           {
            "colorbar": {
             "outlinewidth": 0,
             "ticks": ""
            },
            "colorscale": [
             [
              0,
              "#0d0887"
             ],
             [
              0.1111111111111111,
              "#46039f"
             ],
             [
              0.2222222222222222,
              "#7201a8"
             ],
             [
              0.3333333333333333,
              "#9c179e"
             ],
             [
              0.4444444444444444,
              "#bd3786"
             ],
             [
              0.5555555555555556,
              "#d8576b"
             ],
             [
              0.6666666666666666,
              "#ed7953"
             ],
             [
              0.7777777777777778,
              "#fb9f3a"
             ],
             [
              0.8888888888888888,
              "#fdca26"
             ],
             [
              1,
              "#f0f921"
             ]
            ],
            "type": "histogram2dcontour"
           }
          ],
          "mesh3d": [
           {
            "colorbar": {
             "outlinewidth": 0,
             "ticks": ""
            },
            "type": "mesh3d"
           }
          ],
          "parcoords": [
           {
            "line": {
             "colorbar": {
              "outlinewidth": 0,
              "ticks": ""
             }
            },
            "type": "parcoords"
           }
          ],
          "pie": [
           {
            "automargin": true,
            "type": "pie"
           }
          ],
          "scatter": [
           {
            "fillpattern": {
             "fillmode": "overlay",
             "size": 10,
             "solidity": 0.2
            },
            "type": "scatter"
           }
          ],
          "scatter3d": [
           {
            "line": {
             "colorbar": {
              "outlinewidth": 0,
              "ticks": ""
             }
            },
            "marker": {
             "colorbar": {
              "outlinewidth": 0,
              "ticks": ""
             }
            },
            "type": "scatter3d"
           }
          ],
          "scattercarpet": [
           {
            "marker": {
             "colorbar": {
              "outlinewidth": 0,
              "ticks": ""
             }
            },
            "type": "scattercarpet"
           }
          ],
          "scattergeo": [
           {
            "marker": {
             "colorbar": {
              "outlinewidth": 0,
              "ticks": ""
             }
            },
            "type": "scattergeo"
           }
          ],
          "scattergl": [
           {
            "marker": {
             "colorbar": {
              "outlinewidth": 0,
              "ticks": ""
             }
            },
            "type": "scattergl"
           }
          ],
          "scattermapbox": [
           {
            "marker": {
             "colorbar": {
              "outlinewidth": 0,
              "ticks": ""
             }
            },
            "type": "scattermapbox"
           }
          ],
          "scatterpolar": [
           {
            "marker": {
             "colorbar": {
              "outlinewidth": 0,
              "ticks": ""
             }
            },
            "type": "scatterpolar"
           }
          ],
          "scatterpolargl": [
           {
            "marker": {
             "colorbar": {
              "outlinewidth": 0,
              "ticks": ""
             }
            },
            "type": "scatterpolargl"
           }
          ],
          "scatterternary": [
           {
            "marker": {
             "colorbar": {
              "outlinewidth": 0,
              "ticks": ""
             }
            },
            "type": "scatterternary"
           }
          ],
          "surface": [
           {
            "colorbar": {
             "outlinewidth": 0,
             "ticks": ""
            },
            "colorscale": [
             [
              0,
              "#0d0887"
             ],
             [
              0.1111111111111111,
              "#46039f"
             ],
             [
              0.2222222222222222,
              "#7201a8"
             ],
             [
              0.3333333333333333,
              "#9c179e"
             ],
             [
              0.4444444444444444,
              "#bd3786"
             ],
             [
              0.5555555555555556,
              "#d8576b"
             ],
             [
              0.6666666666666666,
              "#ed7953"
             ],
             [
              0.7777777777777778,
              "#fb9f3a"
             ],
             [
              0.8888888888888888,
              "#fdca26"
             ],
             [
              1,
              "#f0f921"
             ]
            ],
            "type": "surface"
           }
          ],
          "table": [
           {
            "cells": {
             "fill": {
              "color": "#EBF0F8"
             },
             "line": {
              "color": "white"
             }
            },
            "header": {
             "fill": {
              "color": "#C8D4E3"
             },
             "line": {
              "color": "white"
             }
            },
            "type": "table"
           }
          ]
         },
         "layout": {
          "annotationdefaults": {
           "arrowcolor": "#2a3f5f",
           "arrowhead": 0,
           "arrowwidth": 1
          },
          "autotypenumbers": "strict",
          "coloraxis": {
           "colorbar": {
            "outlinewidth": 0,
            "ticks": ""
           }
          },
          "colorscale": {
           "diverging": [
            [
             0,
             "#8e0152"
            ],
            [
             0.1,
             "#c51b7d"
            ],
            [
             0.2,
             "#de77ae"
            ],
            [
             0.3,
             "#f1b6da"
            ],
            [
             0.4,
             "#fde0ef"
            ],
            [
             0.5,
             "#f7f7f7"
            ],
            [
             0.6,
             "#e6f5d0"
            ],
            [
             0.7,
             "#b8e186"
            ],
            [
             0.8,
             "#7fbc41"
            ],
            [
             0.9,
             "#4d9221"
            ],
            [
             1,
             "#276419"
            ]
           ],
           "sequential": [
            [
             0,
             "#0d0887"
            ],
            [
             0.1111111111111111,
             "#46039f"
            ],
            [
             0.2222222222222222,
             "#7201a8"
            ],
            [
             0.3333333333333333,
             "#9c179e"
            ],
            [
             0.4444444444444444,
             "#bd3786"
            ],
            [
             0.5555555555555556,
             "#d8576b"
            ],
            [
             0.6666666666666666,
             "#ed7953"
            ],
            [
             0.7777777777777778,
             "#fb9f3a"
            ],
            [
             0.8888888888888888,
             "#fdca26"
            ],
            [
             1,
             "#f0f921"
            ]
           ],
           "sequentialminus": [
            [
             0,
             "#0d0887"
            ],
            [
             0.1111111111111111,
             "#46039f"
            ],
            [
             0.2222222222222222,
             "#7201a8"
            ],
            [
             0.3333333333333333,
             "#9c179e"
            ],
            [
             0.4444444444444444,
             "#bd3786"
            ],
            [
             0.5555555555555556,
             "#d8576b"
            ],
            [
             0.6666666666666666,
             "#ed7953"
            ],
            [
             0.7777777777777778,
             "#fb9f3a"
            ],
            [
             0.8888888888888888,
             "#fdca26"
            ],
            [
             1,
             "#f0f921"
            ]
           ]
          },
          "colorway": [
           "#636efa",
           "#EF553B",
           "#00cc96",
           "#ab63fa",
           "#FFA15A",
           "#19d3f3",
           "#FF6692",
           "#B6E880",
           "#FF97FF",
           "#FECB52"
          ],
          "font": {
           "color": "#2a3f5f"
          },
          "geo": {
           "bgcolor": "white",
           "lakecolor": "white",
           "landcolor": "#E5ECF6",
           "showlakes": true,
           "showland": true,
           "subunitcolor": "white"
          },
          "hoverlabel": {
           "align": "left"
          },
          "hovermode": "closest",
          "mapbox": {
           "style": "light"
          },
          "paper_bgcolor": "white",
          "plot_bgcolor": "#E5ECF6",
          "polar": {
           "angularaxis": {
            "gridcolor": "white",
            "linecolor": "white",
            "ticks": ""
           },
           "bgcolor": "#E5ECF6",
           "radialaxis": {
            "gridcolor": "white",
            "linecolor": "white",
            "ticks": ""
           }
          },
          "scene": {
           "xaxis": {
            "backgroundcolor": "#E5ECF6",
            "gridcolor": "white",
            "gridwidth": 2,
            "linecolor": "white",
            "showbackground": true,
            "ticks": "",
            "zerolinecolor": "white"
           },
           "yaxis": {
            "backgroundcolor": "#E5ECF6",
            "gridcolor": "white",
            "gridwidth": 2,
            "linecolor": "white",
            "showbackground": true,
            "ticks": "",
            "zerolinecolor": "white"
           },
           "zaxis": {
            "backgroundcolor": "#E5ECF6",
            "gridcolor": "white",
            "gridwidth": 2,
            "linecolor": "white",
            "showbackground": true,
            "ticks": "",
            "zerolinecolor": "white"
           }
          },
          "shapedefaults": {
           "line": {
            "color": "#2a3f5f"
           }
          },
          "ternary": {
           "aaxis": {
            "gridcolor": "white",
            "linecolor": "white",
            "ticks": ""
           },
           "baxis": {
            "gridcolor": "white",
            "linecolor": "white",
            "ticks": ""
           },
           "bgcolor": "#E5ECF6",
           "caxis": {
            "gridcolor": "white",
            "linecolor": "white",
            "ticks": ""
           }
          },
          "title": {
           "x": 0.05
          },
          "xaxis": {
           "automargin": true,
           "gridcolor": "white",
           "linecolor": "white",
           "ticks": "",
           "title": {
            "standoff": 15
           },
           "zerolinecolor": "white",
           "zerolinewidth": 2
          },
          "yaxis": {
           "automargin": true,
           "gridcolor": "white",
           "linecolor": "white",
           "ticks": "",
           "title": {
            "standoff": 15
           },
           "zerolinecolor": "white",
           "zerolinewidth": 2
          }
         }
        },
        "xaxis": {
         "anchor": "y",
         "domain": [
          0,
          1
         ],
         "tickmode": "array",
         "tickvals": [
          0.8452946117844715,
          0.8,
          0.92
         ],
         "title": {
          "text": "subset_acc"
         }
        },
        "yaxis": {
         "anchor": "x",
         "domain": [
          0,
          1
         ],
         "title": {
          "text": "count"
         }
        }
       }
      }
     },
     "metadata": {},
     "output_type": "display_data"
    }
   ],
   "source": [
    "meanVal = caseAccDf[\"subset_acc\"].mean()\n",
    "# medianVal = multilabelCaseDf[\"subset_acc\"].median()\n",
    "firstQuarter = np.quantile(caseAccDf[\"subset_acc\"].values, 0.25)\n",
    "thirdQuarter = np.quantile(caseAccDf[\"subset_acc\"].values, 0.75)\n",
    "\n",
    "fig = px.histogram(caseAccDf, x=\"subset_acc\")\n",
    "fig.add_vline(x=meanVal, line_width=2, line_color=\"red\")\n",
    "# fig.add_vline(x=medianVal, line_width=2, line_color=\"blue\")\n",
    "fig.add_vline(x=firstQuarter, line_width=2, line_color=\"orange\")\n",
    "fig.add_vline(x=thirdQuarter, line_width=2, line_color=\"green\")\n",
    "\n",
    "fig.update_layout(\n",
    "    xaxis = dict(\n",
    "        tickmode = 'array',\n",
    "        tickvals = [meanVal, firstQuarter, thirdQuarter],\n",
    "    )\n",
    ")"
   ]
  },
  {
   "cell_type": "code",
   "execution_count": 34,
   "metadata": {},
   "outputs": [
    {
     "data": {
      "text/plain": [
       "0.8587945478140314"
      ]
     },
     "execution_count": 34,
     "metadata": {},
     "output_type": "execute_result"
    }
   ],
   "source": [
    "corr = partEvalMetrics[\"tp\"].corr(partEvalMetrics[\"gt_pos_ratio\"])\n",
    "corr"
   ]
  },
  {
   "cell_type": "code",
   "execution_count": 35,
   "metadata": {},
   "outputs": [
    {
     "data": {
      "text/plain": [
       "-0.7902484683101524"
      ]
     },
     "execution_count": 35,
     "metadata": {},
     "output_type": "execute_result"
    }
   ],
   "source": [
    "corr = partEvalMetrics[\"tn\"].corr(partEvalMetrics[\"gt_pos_ratio\"])\n",
    "corr"
   ]
  },
  {
   "cell_type": "code",
   "execution_count": 36,
   "metadata": {},
   "outputs": [
    {
     "data": {
      "text/plain": [
       "-0.12146753892080157"
      ]
     },
     "execution_count": 36,
     "metadata": {},
     "output_type": "execute_result"
    }
   ],
   "source": [
    "corr = partEvalMetrics[\"acc\"].corr(partEvalMetrics[\"gt_pos_ratio\"])\n",
    "corr"
   ]
  },
  {
   "cell_type": "code",
   "execution_count": null,
   "metadata": {},
   "outputs": [],
   "source": []
  }
 ],
 "metadata": {
  "kernelspec": {
   "display_name": "work",
   "language": "python",
   "name": "python3"
  },
  "language_info": {
   "codemirror_mode": {
    "name": "ipython",
    "version": 3
   },
   "file_extension": ".py",
   "mimetype": "text/x-python",
   "name": "python",
   "nbconvert_exporter": "python",
   "pygments_lexer": "ipython3",
   "version": "3.10.8 (main, Nov 24 2022, 14:13:03) [GCC 11.2.0]"
  },
  "orig_nbformat": 4,
  "vscode": {
   "interpreter": {
    "hash": "0e8f33c5a67865e6aadcd232beb3e2644a1f224e780847feacdefa5e710f41d5"
   }
  }
 },
 "nbformat": 4,
 "nbformat_minor": 2
}
