{
 "cells": [
  {
   "cell_type": "code",
   "execution_count": 141,
   "metadata": {},
   "outputs": [],
   "source": [
    "import pandas as pd\n",
    "import numpy as np\n",
    "import plotly.graph_objects as go\n",
    "import plotly.express as px\n",
    "\n"
   ]
  },
  {
   "cell_type": "code",
   "execution_count": 142,
   "metadata": {},
   "outputs": [],
   "source": [
    "srcExpDir = \"/home/alextay96/Desktop/all_workspace/new_workspace/DLDataPipeline/data/results/saloon_focal_480_aug_2\"\n",
    "# srcExpDir = \"/home/alextay96/Desktop/all_workspace/new_workspace/DLDataPipeline/data/results/saloon_10k_bce\""
   ]
  },
  {
   "cell_type": "code",
   "execution_count": 143,
   "metadata": {},
   "outputs": [],
   "source": [
    "partCsv= f\"{srcExpDir}/part_perf.csv\"\n",
    "partPerfDf = pd.read_csv(partCsv)\n",
    "caseAccCsv= f\"{srcExpDir}/acc_perf.csv\"\n",
    "caseAccDf = pd.read_csv(caseAccCsv)\n"
   ]
  },
  {
   "cell_type": "code",
   "execution_count": 144,
   "metadata": {},
   "outputs": [
    {
     "data": {
      "text/plain": [
       "['vision_bonnet',\n",
       " 'vision_bumper_front',\n",
       " 'vision_door_front_rh',\n",
       " 'vision_door_rear_rh',\n",
       " 'vision_engine',\n",
       " 'vision_fender_front_rh',\n",
       " 'vision_front_panel',\n",
       " 'vision_headlamp_rh',\n",
       " 'vision_non_external',\n",
       " 'vision_misc',\n",
       " 'vision_wheel',\n",
       " 'vision_windscreen_front',\n",
       " 'vision_bumper_rear',\n",
       " 'vision_rear_compartment',\n",
       " 'vision_rear_panel',\n",
       " 'vision_rear_quarter_rh',\n",
       " 'vision_tail_lamp_rh',\n",
       " 'vision_door_front_lh',\n",
       " 'vision_door_rear_lh',\n",
       " 'vision_rear_quarter_lh',\n",
       " 'vision_tail_lamp_lh',\n",
       " 'vision_fender_front_lh',\n",
       " 'vision_headlamp_lh',\n",
       " 'vision_grille']"
      ]
     },
     "execution_count": 144,
     "metadata": {},
     "output_type": "execute_result"
    }
   ],
   "source": [
    "allParts = [x.replace(\"gt_\", \"\") for x in partPerfDf.columns if \"Unname\" not in x and \"gt_\" in x]\n",
    "allParts"
   ]
  },
  {
   "cell_type": "code",
   "execution_count": 145,
   "metadata": {},
   "outputs": [],
   "source": [
    "partMetrics = []\n",
    "for part in allParts:\n",
    "    gtCol = partPerfDf[f\"gt_{part}\"].values\n",
    "    predCol = partPerfDf[f\"pred_{part}\"].values\n",
    "    # posGt = gtCol[gtCol == 1]\n",
    "    posGtCount = np.count_nonzero(gtCol == 1)\n",
    "    negGtCount = np.count_nonzero(gtCol == 0)\n",
    "    posPredCount =  np.count_nonzero(predCol == 1)\n",
    "    negPredCount =  np.count_nonzero(predCol == 0)\n",
    "\n",
    "    tp =  np.count_nonzero(predCol[gtCol == 1] == 1) / posGtCount\n",
    "    tn = np.count_nonzero(predCol[gtCol == 0] == 0 ) / negGtCount\n",
    "    fp =  np.count_nonzero(predCol[gtCol == 0] == 1) / negGtCount\n",
    "    fn =  np.count_nonzero(predCol[gtCol == 1] == 0) / posGtCount\n",
    "    assert 0.99 < tp + fn < 1.01\n",
    "    assert 0.99 < tn + fp < 1.01\n",
    "    precision = tp / (tp + fp)\n",
    "    recall = tp / (tp + fn)\n",
    "    acc = (tp + tn) / (tp + tn + fp + fn)\n",
    "    f1 = 2 * (precision * recall) / (precision + recall)\n",
    "    partMetrics.append(\n",
    "        {\n",
    "            \"part\" : part,\n",
    "            \"tp\": tp,\n",
    "            \"tn\": tn,\n",
    "            \"fn\": fn,\n",
    "            \"fp\": fp,\n",
    "            \"precision\": precision,\n",
    "            \"recall\": recall,\n",
    "            \"f1\" : f1,\n",
    "            \"acc\" : acc,\n",
    "            \"gt_pos_count\" : posGtCount,\n",
    "            \"gt_neg_count\" : negGtCount,\n",
    "            \"gt_pos_ratio\" : posGtCount / (posGtCount + negGtCount),\n",
    "            \"pred_pos_ratio\" : posPredCount / (posPredCount + negPredCount),\n",
    "\n",
    "\n",
    "        }\n",
    "    )\n",
    "\n",
    "partEvalMetrics = pd.json_normalize(partMetrics)\n",
    "partEvalMetrics.to_csv(f\"{srcExpDir}/part_metrics.csv\")\n",
    "    "
   ]
  },
  {
   "cell_type": "code",
   "execution_count": 146,
   "metadata": {},
   "outputs": [],
   "source": [
    "def genVisMulitlabel(multilabelPartDf, metricName):\n",
    "    fig = go.Figure()\n",
    "    fig.add_trace(go.Bar(\n",
    "        x=multilabelPartDf[\"part\"], y=multilabelPartDf[metricName],\n",
    "        text = multilabelPartDf[metricName]\n",
    "        ))\n",
    "    avgVal = multilabelPartDf[metricName].mean()\n",
    "    fig.add_hline(y=avgVal, line_width=2, line_color=\"red\")\n",
    "    fig.update_layout(\n",
    "        yaxis = dict(\n",
    "            tickmode = 'array',\n",
    "            tickvals = [np.format_float_positional(avgVal, 2), 0.3, 0.8],\n",
    "        )\n",
    "    )\n",
    "    fig.update_layout(\n",
    "            title=go.layout.Title(\n",
    "                text=f\"{metricName}\",\n",
    "                x=0.5\n",
    "            ))\n",
    "    \n",
    "    fig.show()\n",
    "   "
   ]
  },
  {
   "cell_type": "code",
   "execution_count": 147,
   "metadata": {},
   "outputs": [
    {
     "data": {
      "application/vnd.plotly.v1+json": {
       "config": {
        "plotlyServerURL": "https://plot.ly"
       },
       "data": [
        {
         "text": [
          0.8452204794317846,
          0.8962509563886764,
          0.6636259977194983,
          0.538235294117647,
          0.8659987476518473,
          0.7208099956915123,
          0.7183098591549296,
          0.8058441558441558,
          0.6933712891419276,
          0.8857074109720885,
          0.5550847457627118,
          0.6630532971996387,
          0.8703791469194313,
          0.6700808625336927,
          0.7395715896279594,
          0.5809968847352025,
          0.7307443365695793,
          0.5438388625592417,
          0.5802469135802469,
          0.5451127819548872,
          0.7252374491180461,
          0.6699819168173599,
          0.8359972202918694,
          0.48657894736842106
         ],
         "type": "bar",
         "x": [
          "vision_bonnet",
          "vision_bumper_front",
          "vision_door_front_rh",
          "vision_door_rear_rh",
          "vision_engine",
          "vision_fender_front_rh",
          "vision_front_panel",
          "vision_headlamp_rh",
          "vision_non_external",
          "vision_misc",
          "vision_wheel",
          "vision_windscreen_front",
          "vision_bumper_rear",
          "vision_rear_compartment",
          "vision_rear_panel",
          "vision_rear_quarter_rh",
          "vision_tail_lamp_rh",
          "vision_door_front_lh",
          "vision_door_rear_lh",
          "vision_rear_quarter_lh",
          "vision_tail_lamp_lh",
          "vision_fender_front_lh",
          "vision_headlamp_lh",
          "vision_grille"
         ],
         "y": [
          0.8452204794317846,
          0.8962509563886764,
          0.6636259977194983,
          0.538235294117647,
          0.8659987476518473,
          0.7208099956915123,
          0.7183098591549296,
          0.8058441558441558,
          0.6933712891419276,
          0.8857074109720885,
          0.5550847457627118,
          0.6630532971996387,
          0.8703791469194313,
          0.6700808625336927,
          0.7395715896279594,
          0.5809968847352025,
          0.7307443365695793,
          0.5438388625592417,
          0.5802469135802469,
          0.5451127819548872,
          0.7252374491180461,
          0.6699819168173599,
          0.8359972202918694,
          0.48657894736842106
         ]
        }
       ],
       "layout": {
        "shapes": [
         {
          "line": {
           "color": "red",
           "width": 2
          },
          "type": "line",
          "x0": 0,
          "x1": 1,
          "xref": "x domain",
          "y0": 0.7012616308813482,
          "y1": 0.7012616308813482,
          "yref": "y"
         }
        ],
        "template": {
         "data": {
          "bar": [
           {
            "error_x": {
             "color": "#2a3f5f"
            },
            "error_y": {
             "color": "#2a3f5f"
            },
            "marker": {
             "line": {
              "color": "#E5ECF6",
              "width": 0.5
             },
             "pattern": {
              "fillmode": "overlay",
              "size": 10,
              "solidity": 0.2
             }
            },
            "type": "bar"
           }
          ],
          "barpolar": [
           {
            "marker": {
             "line": {
              "color": "#E5ECF6",
              "width": 0.5
             },
             "pattern": {
              "fillmode": "overlay",
              "size": 10,
              "solidity": 0.2
             }
            },
            "type": "barpolar"
           }
          ],
          "carpet": [
           {
            "aaxis": {
             "endlinecolor": "#2a3f5f",
             "gridcolor": "white",
             "linecolor": "white",
             "minorgridcolor": "white",
             "startlinecolor": "#2a3f5f"
            },
            "baxis": {
             "endlinecolor": "#2a3f5f",
             "gridcolor": "white",
             "linecolor": "white",
             "minorgridcolor": "white",
             "startlinecolor": "#2a3f5f"
            },
            "type": "carpet"
           }
          ],
          "choropleth": [
           {
            "colorbar": {
             "outlinewidth": 0,
             "ticks": ""
            },
            "type": "choropleth"
           }
          ],
          "contour": [
           {
            "colorbar": {
             "outlinewidth": 0,
             "ticks": ""
            },
            "colorscale": [
             [
              0,
              "#0d0887"
             ],
             [
              0.1111111111111111,
              "#46039f"
             ],
             [
              0.2222222222222222,
              "#7201a8"
             ],
             [
              0.3333333333333333,
              "#9c179e"
             ],
             [
              0.4444444444444444,
              "#bd3786"
             ],
             [
              0.5555555555555556,
              "#d8576b"
             ],
             [
              0.6666666666666666,
              "#ed7953"
             ],
             [
              0.7777777777777778,
              "#fb9f3a"
             ],
             [
              0.8888888888888888,
              "#fdca26"
             ],
             [
              1,
              "#f0f921"
             ]
            ],
            "type": "contour"
           }
          ],
          "contourcarpet": [
           {
            "colorbar": {
             "outlinewidth": 0,
             "ticks": ""
            },
            "type": "contourcarpet"
           }
          ],
          "heatmap": [
           {
            "colorbar": {
             "outlinewidth": 0,
             "ticks": ""
            },
            "colorscale": [
             [
              0,
              "#0d0887"
             ],
             [
              0.1111111111111111,
              "#46039f"
             ],
             [
              0.2222222222222222,
              "#7201a8"
             ],
             [
              0.3333333333333333,
              "#9c179e"
             ],
             [
              0.4444444444444444,
              "#bd3786"
             ],
             [
              0.5555555555555556,
              "#d8576b"
             ],
             [
              0.6666666666666666,
              "#ed7953"
             ],
             [
              0.7777777777777778,
              "#fb9f3a"
             ],
             [
              0.8888888888888888,
              "#fdca26"
             ],
             [
              1,
              "#f0f921"
             ]
            ],
            "type": "heatmap"
           }
          ],
          "heatmapgl": [
           {
            "colorbar": {
             "outlinewidth": 0,
             "ticks": ""
            },
            "colorscale": [
             [
              0,
              "#0d0887"
             ],
             [
              0.1111111111111111,
              "#46039f"
             ],
             [
              0.2222222222222222,
              "#7201a8"
             ],
             [
              0.3333333333333333,
              "#9c179e"
             ],
             [
              0.4444444444444444,
              "#bd3786"
             ],
             [
              0.5555555555555556,
              "#d8576b"
             ],
             [
              0.6666666666666666,
              "#ed7953"
             ],
             [
              0.7777777777777778,
              "#fb9f3a"
             ],
             [
              0.8888888888888888,
              "#fdca26"
             ],
             [
              1,
              "#f0f921"
             ]
            ],
            "type": "heatmapgl"
           }
          ],
          "histogram": [
           {
            "marker": {
             "pattern": {
              "fillmode": "overlay",
              "size": 10,
              "solidity": 0.2
             }
            },
            "type": "histogram"
           }
          ],
          "histogram2d": [
           {
            "colorbar": {
             "outlinewidth": 0,
             "ticks": ""
            },
            "colorscale": [
             [
              0,
              "#0d0887"
             ],
             [
              0.1111111111111111,
              "#46039f"
             ],
             [
              0.2222222222222222,
              "#7201a8"
             ],
             [
              0.3333333333333333,
              "#9c179e"
             ],
             [
              0.4444444444444444,
              "#bd3786"
             ],
             [
              0.5555555555555556,
              "#d8576b"
             ],
             [
              0.6666666666666666,
              "#ed7953"
             ],
             [
              0.7777777777777778,
              "#fb9f3a"
             ],
             [
              0.8888888888888888,
              "#fdca26"
             ],
             [
              1,
              "#f0f921"
             ]
            ],
            "type": "histogram2d"
           }
          ],
          "histogram2dcontour": [
           {
            "colorbar": {
             "outlinewidth": 0,
             "ticks": ""
            },
            "colorscale": [
             [
              0,
              "#0d0887"
             ],
             [
              0.1111111111111111,
              "#46039f"
             ],
             [
              0.2222222222222222,
              "#7201a8"
             ],
             [
              0.3333333333333333,
              "#9c179e"
             ],
             [
              0.4444444444444444,
              "#bd3786"
             ],
             [
              0.5555555555555556,
              "#d8576b"
             ],
             [
              0.6666666666666666,
              "#ed7953"
             ],
             [
              0.7777777777777778,
              "#fb9f3a"
             ],
             [
              0.8888888888888888,
              "#fdca26"
             ],
             [
              1,
              "#f0f921"
             ]
            ],
            "type": "histogram2dcontour"
           }
          ],
          "mesh3d": [
           {
            "colorbar": {
             "outlinewidth": 0,
             "ticks": ""
            },
            "type": "mesh3d"
           }
          ],
          "parcoords": [
           {
            "line": {
             "colorbar": {
              "outlinewidth": 0,
              "ticks": ""
             }
            },
            "type": "parcoords"
           }
          ],
          "pie": [
           {
            "automargin": true,
            "type": "pie"
           }
          ],
          "scatter": [
           {
            "fillpattern": {
             "fillmode": "overlay",
             "size": 10,
             "solidity": 0.2
            },
            "type": "scatter"
           }
          ],
          "scatter3d": [
           {
            "line": {
             "colorbar": {
              "outlinewidth": 0,
              "ticks": ""
             }
            },
            "marker": {
             "colorbar": {
              "outlinewidth": 0,
              "ticks": ""
             }
            },
            "type": "scatter3d"
           }
          ],
          "scattercarpet": [
           {
            "marker": {
             "colorbar": {
              "outlinewidth": 0,
              "ticks": ""
             }
            },
            "type": "scattercarpet"
           }
          ],
          "scattergeo": [
           {
            "marker": {
             "colorbar": {
              "outlinewidth": 0,
              "ticks": ""
             }
            },
            "type": "scattergeo"
           }
          ],
          "scattergl": [
           {
            "marker": {
             "colorbar": {
              "outlinewidth": 0,
              "ticks": ""
             }
            },
            "type": "scattergl"
           }
          ],
          "scattermapbox": [
           {
            "marker": {
             "colorbar": {
              "outlinewidth": 0,
              "ticks": ""
             }
            },
            "type": "scattermapbox"
           }
          ],
          "scatterpolar": [
           {
            "marker": {
             "colorbar": {
              "outlinewidth": 0,
              "ticks": ""
             }
            },
            "type": "scatterpolar"
           }
          ],
          "scatterpolargl": [
           {
            "marker": {
             "colorbar": {
              "outlinewidth": 0,
              "ticks": ""
             }
            },
            "type": "scatterpolargl"
           }
          ],
          "scatterternary": [
           {
            "marker": {
             "colorbar": {
              "outlinewidth": 0,
              "ticks": ""
             }
            },
            "type": "scatterternary"
           }
          ],
          "surface": [
           {
            "colorbar": {
             "outlinewidth": 0,
             "ticks": ""
            },
            "colorscale": [
             [
              0,
              "#0d0887"
             ],
             [
              0.1111111111111111,
              "#46039f"
             ],
             [
              0.2222222222222222,
              "#7201a8"
             ],
             [
              0.3333333333333333,
              "#9c179e"
             ],
             [
              0.4444444444444444,
              "#bd3786"
             ],
             [
              0.5555555555555556,
              "#d8576b"
             ],
             [
              0.6666666666666666,
              "#ed7953"
             ],
             [
              0.7777777777777778,
              "#fb9f3a"
             ],
             [
              0.8888888888888888,
              "#fdca26"
             ],
             [
              1,
              "#f0f921"
             ]
            ],
            "type": "surface"
           }
          ],
          "table": [
           {
            "cells": {
             "fill": {
              "color": "#EBF0F8"
             },
             "line": {
              "color": "white"
             }
            },
            "header": {
             "fill": {
              "color": "#C8D4E3"
             },
             "line": {
              "color": "white"
             }
            },
            "type": "table"
           }
          ]
         },
         "layout": {
          "annotationdefaults": {
           "arrowcolor": "#2a3f5f",
           "arrowhead": 0,
           "arrowwidth": 1
          },
          "autotypenumbers": "strict",
          "coloraxis": {
           "colorbar": {
            "outlinewidth": 0,
            "ticks": ""
           }
          },
          "colorscale": {
           "diverging": [
            [
             0,
             "#8e0152"
            ],
            [
             0.1,
             "#c51b7d"
            ],
            [
             0.2,
             "#de77ae"
            ],
            [
             0.3,
             "#f1b6da"
            ],
            [
             0.4,
             "#fde0ef"
            ],
            [
             0.5,
             "#f7f7f7"
            ],
            [
             0.6,
             "#e6f5d0"
            ],
            [
             0.7,
             "#b8e186"
            ],
            [
             0.8,
             "#7fbc41"
            ],
            [
             0.9,
             "#4d9221"
            ],
            [
             1,
             "#276419"
            ]
           ],
           "sequential": [
            [
             0,
             "#0d0887"
            ],
            [
             0.1111111111111111,
             "#46039f"
            ],
            [
             0.2222222222222222,
             "#7201a8"
            ],
            [
             0.3333333333333333,
             "#9c179e"
            ],
            [
             0.4444444444444444,
             "#bd3786"
            ],
            [
             0.5555555555555556,
             "#d8576b"
            ],
            [
             0.6666666666666666,
             "#ed7953"
            ],
            [
             0.7777777777777778,
             "#fb9f3a"
            ],
            [
             0.8888888888888888,
             "#fdca26"
            ],
            [
             1,
             "#f0f921"
            ]
           ],
           "sequentialminus": [
            [
             0,
             "#0d0887"
            ],
            [
             0.1111111111111111,
             "#46039f"
            ],
            [
             0.2222222222222222,
             "#7201a8"
            ],
            [
             0.3333333333333333,
             "#9c179e"
            ],
            [
             0.4444444444444444,
             "#bd3786"
            ],
            [
             0.5555555555555556,
             "#d8576b"
            ],
            [
             0.6666666666666666,
             "#ed7953"
            ],
            [
             0.7777777777777778,
             "#fb9f3a"
            ],
            [
             0.8888888888888888,
             "#fdca26"
            ],
            [
             1,
             "#f0f921"
            ]
           ]
          },
          "colorway": [
           "#636efa",
           "#EF553B",
           "#00cc96",
           "#ab63fa",
           "#FFA15A",
           "#19d3f3",
           "#FF6692",
           "#B6E880",
           "#FF97FF",
           "#FECB52"
          ],
          "font": {
           "color": "#2a3f5f"
          },
          "geo": {
           "bgcolor": "white",
           "lakecolor": "white",
           "landcolor": "#E5ECF6",
           "showlakes": true,
           "showland": true,
           "subunitcolor": "white"
          },
          "hoverlabel": {
           "align": "left"
          },
          "hovermode": "closest",
          "mapbox": {
           "style": "light"
          },
          "paper_bgcolor": "white",
          "plot_bgcolor": "#E5ECF6",
          "polar": {
           "angularaxis": {
            "gridcolor": "white",
            "linecolor": "white",
            "ticks": ""
           },
           "bgcolor": "#E5ECF6",
           "radialaxis": {
            "gridcolor": "white",
            "linecolor": "white",
            "ticks": ""
           }
          },
          "scene": {
           "xaxis": {
            "backgroundcolor": "#E5ECF6",
            "gridcolor": "white",
            "gridwidth": 2,
            "linecolor": "white",
            "showbackground": true,
            "ticks": "",
            "zerolinecolor": "white"
           },
           "yaxis": {
            "backgroundcolor": "#E5ECF6",
            "gridcolor": "white",
            "gridwidth": 2,
            "linecolor": "white",
            "showbackground": true,
            "ticks": "",
            "zerolinecolor": "white"
           },
           "zaxis": {
            "backgroundcolor": "#E5ECF6",
            "gridcolor": "white",
            "gridwidth": 2,
            "linecolor": "white",
            "showbackground": true,
            "ticks": "",
            "zerolinecolor": "white"
           }
          },
          "shapedefaults": {
           "line": {
            "color": "#2a3f5f"
           }
          },
          "ternary": {
           "aaxis": {
            "gridcolor": "white",
            "linecolor": "white",
            "ticks": ""
           },
           "baxis": {
            "gridcolor": "white",
            "linecolor": "white",
            "ticks": ""
           },
           "bgcolor": "#E5ECF6",
           "caxis": {
            "gridcolor": "white",
            "linecolor": "white",
            "ticks": ""
           }
          },
          "title": {
           "x": 0.05
          },
          "xaxis": {
           "automargin": true,
           "gridcolor": "white",
           "linecolor": "white",
           "ticks": "",
           "title": {
            "standoff": 15
           },
           "zerolinecolor": "white",
           "zerolinewidth": 2
          },
          "yaxis": {
           "automargin": true,
           "gridcolor": "white",
           "linecolor": "white",
           "ticks": "",
           "title": {
            "standoff": 15
           },
           "zerolinecolor": "white",
           "zerolinewidth": 2
          }
         }
        },
        "title": {
         "text": "tp",
         "x": 0.5
        },
        "yaxis": {
         "tickmode": "array",
         "tickvals": [
          "0.70",
          0.3,
          0.8
         ]
        }
       }
      }
     },
     "metadata": {},
     "output_type": "display_data"
    }
   ],
   "source": [
    "genVisMulitlabel(partEvalMetrics, \"tp\")"
   ]
  },
  {
   "cell_type": "code",
   "execution_count": 148,
   "metadata": {},
   "outputs": [
    {
     "data": {
      "application/vnd.plotly.v1+json": {
       "config": {
        "plotlyServerURL": "https://plot.ly"
       },
       "data": [
        {
         "text": [
          0.823138498716206,
          0.5561327561327561,
          0.8724103913186452,
          0.9295064377682404,
          0.6523325014398157,
          0.8835785909623649,
          0.8592160585921605,
          0.7986988847583643,
          0.7562657472483756,
          0.37833675564681724,
          0.8610205032618826,
          0.8677611604632858,
          0.43633217993079587,
          0.9413136893799877,
          0.9462679309506443,
          0.9717888437700364,
          0.9114133648728563,
          0.9166666666666666,
          0.8920017108639863,
          0.9773975496408956,
          0.9302134646962233,
          0.9072932717000514,
          0.7932430054548654,
          0.8437096774193549
         ],
         "type": "bar",
         "x": [
          "vision_bonnet",
          "vision_bumper_front",
          "vision_door_front_rh",
          "vision_door_rear_rh",
          "vision_engine",
          "vision_fender_front_rh",
          "vision_front_panel",
          "vision_headlamp_rh",
          "vision_non_external",
          "vision_misc",
          "vision_wheel",
          "vision_windscreen_front",
          "vision_bumper_rear",
          "vision_rear_compartment",
          "vision_rear_panel",
          "vision_rear_quarter_rh",
          "vision_tail_lamp_rh",
          "vision_door_front_lh",
          "vision_door_rear_lh",
          "vision_rear_quarter_lh",
          "vision_tail_lamp_lh",
          "vision_fender_front_lh",
          "vision_headlamp_lh",
          "vision_grille"
         ],
         "y": [
          0.823138498716206,
          0.5561327561327561,
          0.8724103913186452,
          0.9295064377682404,
          0.6523325014398157,
          0.8835785909623649,
          0.8592160585921605,
          0.7986988847583643,
          0.7562657472483756,
          0.37833675564681724,
          0.8610205032618826,
          0.8677611604632858,
          0.43633217993079587,
          0.9413136893799877,
          0.9462679309506443,
          0.9717888437700364,
          0.9114133648728563,
          0.9166666666666666,
          0.8920017108639863,
          0.9773975496408956,
          0.9302134646962233,
          0.9072932717000514,
          0.7932430054548654,
          0.8437096774193549
         ]
        }
       ],
       "layout": {
        "shapes": [
         {
          "line": {
           "color": "red",
           "width": 2
          },
          "type": "line",
          "x0": 0,
          "x1": 1,
          "xref": "x domain",
          "y0": 0.8210849850689699,
          "y1": 0.8210849850689699,
          "yref": "y"
         }
        ],
        "template": {
         "data": {
          "bar": [
           {
            "error_x": {
             "color": "#2a3f5f"
            },
            "error_y": {
             "color": "#2a3f5f"
            },
            "marker": {
             "line": {
              "color": "#E5ECF6",
              "width": 0.5
             },
             "pattern": {
              "fillmode": "overlay",
              "size": 10,
              "solidity": 0.2
             }
            },
            "type": "bar"
           }
          ],
          "barpolar": [
           {
            "marker": {
             "line": {
              "color": "#E5ECF6",
              "width": 0.5
             },
             "pattern": {
              "fillmode": "overlay",
              "size": 10,
              "solidity": 0.2
             }
            },
            "type": "barpolar"
           }
          ],
          "carpet": [
           {
            "aaxis": {
             "endlinecolor": "#2a3f5f",
             "gridcolor": "white",
             "linecolor": "white",
             "minorgridcolor": "white",
             "startlinecolor": "#2a3f5f"
            },
            "baxis": {
             "endlinecolor": "#2a3f5f",
             "gridcolor": "white",
             "linecolor": "white",
             "minorgridcolor": "white",
             "startlinecolor": "#2a3f5f"
            },
            "type": "carpet"
           }
          ],
          "choropleth": [
           {
            "colorbar": {
             "outlinewidth": 0,
             "ticks": ""
            },
            "type": "choropleth"
           }
          ],
          "contour": [
           {
            "colorbar": {
             "outlinewidth": 0,
             "ticks": ""
            },
            "colorscale": [
             [
              0,
              "#0d0887"
             ],
             [
              0.1111111111111111,
              "#46039f"
             ],
             [
              0.2222222222222222,
              "#7201a8"
             ],
             [
              0.3333333333333333,
              "#9c179e"
             ],
             [
              0.4444444444444444,
              "#bd3786"
             ],
             [
              0.5555555555555556,
              "#d8576b"
             ],
             [
              0.6666666666666666,
              "#ed7953"
             ],
             [
              0.7777777777777778,
              "#fb9f3a"
             ],
             [
              0.8888888888888888,
              "#fdca26"
             ],
             [
              1,
              "#f0f921"
             ]
            ],
            "type": "contour"
           }
          ],
          "contourcarpet": [
           {
            "colorbar": {
             "outlinewidth": 0,
             "ticks": ""
            },
            "type": "contourcarpet"
           }
          ],
          "heatmap": [
           {
            "colorbar": {
             "outlinewidth": 0,
             "ticks": ""
            },
            "colorscale": [
             [
              0,
              "#0d0887"
             ],
             [
              0.1111111111111111,
              "#46039f"
             ],
             [
              0.2222222222222222,
              "#7201a8"
             ],
             [
              0.3333333333333333,
              "#9c179e"
             ],
             [
              0.4444444444444444,
              "#bd3786"
             ],
             [
              0.5555555555555556,
              "#d8576b"
             ],
             [
              0.6666666666666666,
              "#ed7953"
             ],
             [
              0.7777777777777778,
              "#fb9f3a"
             ],
             [
              0.8888888888888888,
              "#fdca26"
             ],
             [
              1,
              "#f0f921"
             ]
            ],
            "type": "heatmap"
           }
          ],
          "heatmapgl": [
           {
            "colorbar": {
             "outlinewidth": 0,
             "ticks": ""
            },
            "colorscale": [
             [
              0,
              "#0d0887"
             ],
             [
              0.1111111111111111,
              "#46039f"
             ],
             [
              0.2222222222222222,
              "#7201a8"
             ],
             [
              0.3333333333333333,
              "#9c179e"
             ],
             [
              0.4444444444444444,
              "#bd3786"
             ],
             [
              0.5555555555555556,
              "#d8576b"
             ],
             [
              0.6666666666666666,
              "#ed7953"
             ],
             [
              0.7777777777777778,
              "#fb9f3a"
             ],
             [
              0.8888888888888888,
              "#fdca26"
             ],
             [
              1,
              "#f0f921"
             ]
            ],
            "type": "heatmapgl"
           }
          ],
          "histogram": [
           {
            "marker": {
             "pattern": {
              "fillmode": "overlay",
              "size": 10,
              "solidity": 0.2
             }
            },
            "type": "histogram"
           }
          ],
          "histogram2d": [
           {
            "colorbar": {
             "outlinewidth": 0,
             "ticks": ""
            },
            "colorscale": [
             [
              0,
              "#0d0887"
             ],
             [
              0.1111111111111111,
              "#46039f"
             ],
             [
              0.2222222222222222,
              "#7201a8"
             ],
             [
              0.3333333333333333,
              "#9c179e"
             ],
             [
              0.4444444444444444,
              "#bd3786"
             ],
             [
              0.5555555555555556,
              "#d8576b"
             ],
             [
              0.6666666666666666,
              "#ed7953"
             ],
             [
              0.7777777777777778,
              "#fb9f3a"
             ],
             [
              0.8888888888888888,
              "#fdca26"
             ],
             [
              1,
              "#f0f921"
             ]
            ],
            "type": "histogram2d"
           }
          ],
          "histogram2dcontour": [
           {
            "colorbar": {
             "outlinewidth": 0,
             "ticks": ""
            },
            "colorscale": [
             [
              0,
              "#0d0887"
             ],
             [
              0.1111111111111111,
              "#46039f"
             ],
             [
              0.2222222222222222,
              "#7201a8"
             ],
             [
              0.3333333333333333,
              "#9c179e"
             ],
             [
              0.4444444444444444,
              "#bd3786"
             ],
             [
              0.5555555555555556,
              "#d8576b"
             ],
             [
              0.6666666666666666,
              "#ed7953"
             ],
             [
              0.7777777777777778,
              "#fb9f3a"
             ],
             [
              0.8888888888888888,
              "#fdca26"
             ],
             [
              1,
              "#f0f921"
             ]
            ],
            "type": "histogram2dcontour"
           }
          ],
          "mesh3d": [
           {
            "colorbar": {
             "outlinewidth": 0,
             "ticks": ""
            },
            "type": "mesh3d"
           }
          ],
          "parcoords": [
           {
            "line": {
             "colorbar": {
              "outlinewidth": 0,
              "ticks": ""
             }
            },
            "type": "parcoords"
           }
          ],
          "pie": [
           {
            "automargin": true,
            "type": "pie"
           }
          ],
          "scatter": [
           {
            "fillpattern": {
             "fillmode": "overlay",
             "size": 10,
             "solidity": 0.2
            },
            "type": "scatter"
           }
          ],
          "scatter3d": [
           {
            "line": {
             "colorbar": {
              "outlinewidth": 0,
              "ticks": ""
             }
            },
            "marker": {
             "colorbar": {
              "outlinewidth": 0,
              "ticks": ""
             }
            },
            "type": "scatter3d"
           }
          ],
          "scattercarpet": [
           {
            "marker": {
             "colorbar": {
              "outlinewidth": 0,
              "ticks": ""
             }
            },
            "type": "scattercarpet"
           }
          ],
          "scattergeo": [
           {
            "marker": {
             "colorbar": {
              "outlinewidth": 0,
              "ticks": ""
             }
            },
            "type": "scattergeo"
           }
          ],
          "scattergl": [
           {
            "marker": {
             "colorbar": {
              "outlinewidth": 0,
              "ticks": ""
             }
            },
            "type": "scattergl"
           }
          ],
          "scattermapbox": [
           {
            "marker": {
             "colorbar": {
              "outlinewidth": 0,
              "ticks": ""
             }
            },
            "type": "scattermapbox"
           }
          ],
          "scatterpolar": [
           {
            "marker": {
             "colorbar": {
              "outlinewidth": 0,
              "ticks": ""
             }
            },
            "type": "scatterpolar"
           }
          ],
          "scatterpolargl": [
           {
            "marker": {
             "colorbar": {
              "outlinewidth": 0,
              "ticks": ""
             }
            },
            "type": "scatterpolargl"
           }
          ],
          "scatterternary": [
           {
            "marker": {
             "colorbar": {
              "outlinewidth": 0,
              "ticks": ""
             }
            },
            "type": "scatterternary"
           }
          ],
          "surface": [
           {
            "colorbar": {
             "outlinewidth": 0,
             "ticks": ""
            },
            "colorscale": [
             [
              0,
              "#0d0887"
             ],
             [
              0.1111111111111111,
              "#46039f"
             ],
             [
              0.2222222222222222,
              "#7201a8"
             ],
             [
              0.3333333333333333,
              "#9c179e"
             ],
             [
              0.4444444444444444,
              "#bd3786"
             ],
             [
              0.5555555555555556,
              "#d8576b"
             ],
             [
              0.6666666666666666,
              "#ed7953"
             ],
             [
              0.7777777777777778,
              "#fb9f3a"
             ],
             [
              0.8888888888888888,
              "#fdca26"
             ],
             [
              1,
              "#f0f921"
             ]
            ],
            "type": "surface"
           }
          ],
          "table": [
           {
            "cells": {
             "fill": {
              "color": "#EBF0F8"
             },
             "line": {
              "color": "white"
             }
            },
            "header": {
             "fill": {
              "color": "#C8D4E3"
             },
             "line": {
              "color": "white"
             }
            },
            "type": "table"
           }
          ]
         },
         "layout": {
          "annotationdefaults": {
           "arrowcolor": "#2a3f5f",
           "arrowhead": 0,
           "arrowwidth": 1
          },
          "autotypenumbers": "strict",
          "coloraxis": {
           "colorbar": {
            "outlinewidth": 0,
            "ticks": ""
           }
          },
          "colorscale": {
           "diverging": [
            [
             0,
             "#8e0152"
            ],
            [
             0.1,
             "#c51b7d"
            ],
            [
             0.2,
             "#de77ae"
            ],
            [
             0.3,
             "#f1b6da"
            ],
            [
             0.4,
             "#fde0ef"
            ],
            [
             0.5,
             "#f7f7f7"
            ],
            [
             0.6,
             "#e6f5d0"
            ],
            [
             0.7,
             "#b8e186"
            ],
            [
             0.8,
             "#7fbc41"
            ],
            [
             0.9,
             "#4d9221"
            ],
            [
             1,
             "#276419"
            ]
           ],
           "sequential": [
            [
             0,
             "#0d0887"
            ],
            [
             0.1111111111111111,
             "#46039f"
            ],
            [
             0.2222222222222222,
             "#7201a8"
            ],
            [
             0.3333333333333333,
             "#9c179e"
            ],
            [
             0.4444444444444444,
             "#bd3786"
            ],
            [
             0.5555555555555556,
             "#d8576b"
            ],
            [
             0.6666666666666666,
             "#ed7953"
            ],
            [
             0.7777777777777778,
             "#fb9f3a"
            ],
            [
             0.8888888888888888,
             "#fdca26"
            ],
            [
             1,
             "#f0f921"
            ]
           ],
           "sequentialminus": [
            [
             0,
             "#0d0887"
            ],
            [
             0.1111111111111111,
             "#46039f"
            ],
            [
             0.2222222222222222,
             "#7201a8"
            ],
            [
             0.3333333333333333,
             "#9c179e"
            ],
            [
             0.4444444444444444,
             "#bd3786"
            ],
            [
             0.5555555555555556,
             "#d8576b"
            ],
            [
             0.6666666666666666,
             "#ed7953"
            ],
            [
             0.7777777777777778,
             "#fb9f3a"
            ],
            [
             0.8888888888888888,
             "#fdca26"
            ],
            [
             1,
             "#f0f921"
            ]
           ]
          },
          "colorway": [
           "#636efa",
           "#EF553B",
           "#00cc96",
           "#ab63fa",
           "#FFA15A",
           "#19d3f3",
           "#FF6692",
           "#B6E880",
           "#FF97FF",
           "#FECB52"
          ],
          "font": {
           "color": "#2a3f5f"
          },
          "geo": {
           "bgcolor": "white",
           "lakecolor": "white",
           "landcolor": "#E5ECF6",
           "showlakes": true,
           "showland": true,
           "subunitcolor": "white"
          },
          "hoverlabel": {
           "align": "left"
          },
          "hovermode": "closest",
          "mapbox": {
           "style": "light"
          },
          "paper_bgcolor": "white",
          "plot_bgcolor": "#E5ECF6",
          "polar": {
           "angularaxis": {
            "gridcolor": "white",
            "linecolor": "white",
            "ticks": ""
           },
           "bgcolor": "#E5ECF6",
           "radialaxis": {
            "gridcolor": "white",
            "linecolor": "white",
            "ticks": ""
           }
          },
          "scene": {
           "xaxis": {
            "backgroundcolor": "#E5ECF6",
            "gridcolor": "white",
            "gridwidth": 2,
            "linecolor": "white",
            "showbackground": true,
            "ticks": "",
            "zerolinecolor": "white"
           },
           "yaxis": {
            "backgroundcolor": "#E5ECF6",
            "gridcolor": "white",
            "gridwidth": 2,
            "linecolor": "white",
            "showbackground": true,
            "ticks": "",
            "zerolinecolor": "white"
           },
           "zaxis": {
            "backgroundcolor": "#E5ECF6",
            "gridcolor": "white",
            "gridwidth": 2,
            "linecolor": "white",
            "showbackground": true,
            "ticks": "",
            "zerolinecolor": "white"
           }
          },
          "shapedefaults": {
           "line": {
            "color": "#2a3f5f"
           }
          },
          "ternary": {
           "aaxis": {
            "gridcolor": "white",
            "linecolor": "white",
            "ticks": ""
           },
           "baxis": {
            "gridcolor": "white",
            "linecolor": "white",
            "ticks": ""
           },
           "bgcolor": "#E5ECF6",
           "caxis": {
            "gridcolor": "white",
            "linecolor": "white",
            "ticks": ""
           }
          },
          "title": {
           "x": 0.05
          },
          "xaxis": {
           "automargin": true,
           "gridcolor": "white",
           "linecolor": "white",
           "ticks": "",
           "title": {
            "standoff": 15
           },
           "zerolinecolor": "white",
           "zerolinewidth": 2
          },
          "yaxis": {
           "automargin": true,
           "gridcolor": "white",
           "linecolor": "white",
           "ticks": "",
           "title": {
            "standoff": 15
           },
           "zerolinecolor": "white",
           "zerolinewidth": 2
          }
         }
        },
        "title": {
         "text": "tn",
         "x": 0.5
        },
        "yaxis": {
         "tickmode": "array",
         "tickvals": [
          "0.82",
          0.3,
          0.8
         ]
        }
       }
      }
     },
     "metadata": {},
     "output_type": "display_data"
    }
   ],
   "source": [
    "genVisMulitlabel(partEvalMetrics, \"tn\")"
   ]
  },
  {
   "cell_type": "code",
   "execution_count": 149,
   "metadata": {},
   "outputs": [
    {
     "data": {
      "application/vnd.plotly.v1+json": {
       "config": {
        "plotlyServerURL": "https://plot.ly"
       },
       "data": [
        {
         "text": [
          0.8341794890739953,
          0.7261918562607163,
          0.7680181945190717,
          0.7338708659429437,
          0.7591656245458315,
          0.8021942933269386,
          0.7887629588735451,
          0.80227152030126,
          0.7248185181951516,
          0.632022083309453,
          0.7080526245122972,
          0.7654072288314622,
          0.6533556634251135,
          0.8056972759568403,
          0.8429197602893019,
          0.7763928642526194,
          0.8210788507212178,
          0.7302527646129542,
          0.7361243122221166,
          0.7612551657978914,
          0.8277254569071347,
          0.7886375942587056,
          0.8146201128733674,
          0.6651443123938879
         ],
         "type": "bar",
         "x": [
          "vision_bonnet",
          "vision_bumper_front",
          "vision_door_front_rh",
          "vision_door_rear_rh",
          "vision_engine",
          "vision_fender_front_rh",
          "vision_front_panel",
          "vision_headlamp_rh",
          "vision_non_external",
          "vision_misc",
          "vision_wheel",
          "vision_windscreen_front",
          "vision_bumper_rear",
          "vision_rear_compartment",
          "vision_rear_panel",
          "vision_rear_quarter_rh",
          "vision_tail_lamp_rh",
          "vision_door_front_lh",
          "vision_door_rear_lh",
          "vision_rear_quarter_lh",
          "vision_tail_lamp_lh",
          "vision_fender_front_lh",
          "vision_headlamp_lh",
          "vision_grille"
         ],
         "y": [
          0.8341794890739953,
          0.7261918562607163,
          0.7680181945190717,
          0.7338708659429437,
          0.7591656245458315,
          0.8021942933269386,
          0.7887629588735451,
          0.80227152030126,
          0.7248185181951516,
          0.632022083309453,
          0.7080526245122972,
          0.7654072288314622,
          0.6533556634251135,
          0.8056972759568403,
          0.8429197602893019,
          0.7763928642526194,
          0.8210788507212178,
          0.7302527646129542,
          0.7361243122221166,
          0.7612551657978914,
          0.8277254569071347,
          0.7886375942587056,
          0.8146201128733674,
          0.6651443123938879
         ]
        }
       ],
       "layout": {
        "shapes": [
         {
          "line": {
           "color": "red",
           "width": 2
          },
          "type": "line",
          "x0": 0,
          "x1": 1,
          "xref": "x domain",
          "y0": 0.7611733079751591,
          "y1": 0.7611733079751591,
          "yref": "y"
         }
        ],
        "template": {
         "data": {
          "bar": [
           {
            "error_x": {
             "color": "#2a3f5f"
            },
            "error_y": {
             "color": "#2a3f5f"
            },
            "marker": {
             "line": {
              "color": "#E5ECF6",
              "width": 0.5
             },
             "pattern": {
              "fillmode": "overlay",
              "size": 10,
              "solidity": 0.2
             }
            },
            "type": "bar"
           }
          ],
          "barpolar": [
           {
            "marker": {
             "line": {
              "color": "#E5ECF6",
              "width": 0.5
             },
             "pattern": {
              "fillmode": "overlay",
              "size": 10,
              "solidity": 0.2
             }
            },
            "type": "barpolar"
           }
          ],
          "carpet": [
           {
            "aaxis": {
             "endlinecolor": "#2a3f5f",
             "gridcolor": "white",
             "linecolor": "white",
             "minorgridcolor": "white",
             "startlinecolor": "#2a3f5f"
            },
            "baxis": {
             "endlinecolor": "#2a3f5f",
             "gridcolor": "white",
             "linecolor": "white",
             "minorgridcolor": "white",
             "startlinecolor": "#2a3f5f"
            },
            "type": "carpet"
           }
          ],
          "choropleth": [
           {
            "colorbar": {
             "outlinewidth": 0,
             "ticks": ""
            },
            "type": "choropleth"
           }
          ],
          "contour": [
           {
            "colorbar": {
             "outlinewidth": 0,
             "ticks": ""
            },
            "colorscale": [
             [
              0,
              "#0d0887"
             ],
             [
              0.1111111111111111,
              "#46039f"
             ],
             [
              0.2222222222222222,
              "#7201a8"
             ],
             [
              0.3333333333333333,
              "#9c179e"
             ],
             [
              0.4444444444444444,
              "#bd3786"
             ],
             [
              0.5555555555555556,
              "#d8576b"
             ],
             [
              0.6666666666666666,
              "#ed7953"
             ],
             [
              0.7777777777777778,
              "#fb9f3a"
             ],
             [
              0.8888888888888888,
              "#fdca26"
             ],
             [
              1,
              "#f0f921"
             ]
            ],
            "type": "contour"
           }
          ],
          "contourcarpet": [
           {
            "colorbar": {
             "outlinewidth": 0,
             "ticks": ""
            },
            "type": "contourcarpet"
           }
          ],
          "heatmap": [
           {
            "colorbar": {
             "outlinewidth": 0,
             "ticks": ""
            },
            "colorscale": [
             [
              0,
              "#0d0887"
             ],
             [
              0.1111111111111111,
              "#46039f"
             ],
             [
              0.2222222222222222,
              "#7201a8"
             ],
             [
              0.3333333333333333,
              "#9c179e"
             ],
             [
              0.4444444444444444,
              "#bd3786"
             ],
             [
              0.5555555555555556,
              "#d8576b"
             ],
             [
              0.6666666666666666,
              "#ed7953"
             ],
             [
              0.7777777777777778,
              "#fb9f3a"
             ],
             [
              0.8888888888888888,
              "#fdca26"
             ],
             [
              1,
              "#f0f921"
             ]
            ],
            "type": "heatmap"
           }
          ],
          "heatmapgl": [
           {
            "colorbar": {
             "outlinewidth": 0,
             "ticks": ""
            },
            "colorscale": [
             [
              0,
              "#0d0887"
             ],
             [
              0.1111111111111111,
              "#46039f"
             ],
             [
              0.2222222222222222,
              "#7201a8"
             ],
             [
              0.3333333333333333,
              "#9c179e"
             ],
             [
              0.4444444444444444,
              "#bd3786"
             ],
             [
              0.5555555555555556,
              "#d8576b"
             ],
             [
              0.6666666666666666,
              "#ed7953"
             ],
             [
              0.7777777777777778,
              "#fb9f3a"
             ],
             [
              0.8888888888888888,
              "#fdca26"
             ],
             [
              1,
              "#f0f921"
             ]
            ],
            "type": "heatmapgl"
           }
          ],
          "histogram": [
           {
            "marker": {
             "pattern": {
              "fillmode": "overlay",
              "size": 10,
              "solidity": 0.2
             }
            },
            "type": "histogram"
           }
          ],
          "histogram2d": [
           {
            "colorbar": {
             "outlinewidth": 0,
             "ticks": ""
            },
            "colorscale": [
             [
              0,
              "#0d0887"
             ],
             [
              0.1111111111111111,
              "#46039f"
             ],
             [
              0.2222222222222222,
              "#7201a8"
             ],
             [
              0.3333333333333333,
              "#9c179e"
             ],
             [
              0.4444444444444444,
              "#bd3786"
             ],
             [
              0.5555555555555556,
              "#d8576b"
             ],
             [
              0.6666666666666666,
              "#ed7953"
             ],
             [
              0.7777777777777778,
              "#fb9f3a"
             ],
             [
              0.8888888888888888,
              "#fdca26"
             ],
             [
              1,
              "#f0f921"
             ]
            ],
            "type": "histogram2d"
           }
          ],
          "histogram2dcontour": [
           {
            "colorbar": {
             "outlinewidth": 0,
             "ticks": ""
            },
            "colorscale": [
             [
              0,
              "#0d0887"
             ],
             [
              0.1111111111111111,
              "#46039f"
             ],
             [
              0.2222222222222222,
              "#7201a8"
             ],
             [
              0.3333333333333333,
              "#9c179e"
             ],
             [
              0.4444444444444444,
              "#bd3786"
             ],
             [
              0.5555555555555556,
              "#d8576b"
             ],
             [
              0.6666666666666666,
              "#ed7953"
             ],
             [
              0.7777777777777778,
              "#fb9f3a"
             ],
             [
              0.8888888888888888,
              "#fdca26"
             ],
             [
              1,
              "#f0f921"
             ]
            ],
            "type": "histogram2dcontour"
           }
          ],
          "mesh3d": [
           {
            "colorbar": {
             "outlinewidth": 0,
             "ticks": ""
            },
            "type": "mesh3d"
           }
          ],
          "parcoords": [
           {
            "line": {
             "colorbar": {
              "outlinewidth": 0,
              "ticks": ""
             }
            },
            "type": "parcoords"
           }
          ],
          "pie": [
           {
            "automargin": true,
            "type": "pie"
           }
          ],
          "scatter": [
           {
            "fillpattern": {
             "fillmode": "overlay",
             "size": 10,
             "solidity": 0.2
            },
            "type": "scatter"
           }
          ],
          "scatter3d": [
           {
            "line": {
             "colorbar": {
              "outlinewidth": 0,
              "ticks": ""
             }
            },
            "marker": {
             "colorbar": {
              "outlinewidth": 0,
              "ticks": ""
             }
            },
            "type": "scatter3d"
           }
          ],
          "scattercarpet": [
           {
            "marker": {
             "colorbar": {
              "outlinewidth": 0,
              "ticks": ""
             }
            },
            "type": "scattercarpet"
           }
          ],
          "scattergeo": [
           {
            "marker": {
             "colorbar": {
              "outlinewidth": 0,
              "ticks": ""
             }
            },
            "type": "scattergeo"
           }
          ],
          "scattergl": [
           {
            "marker": {
             "colorbar": {
              "outlinewidth": 0,
              "ticks": ""
             }
            },
            "type": "scattergl"
           }
          ],
          "scattermapbox": [
           {
            "marker": {
             "colorbar": {
              "outlinewidth": 0,
              "ticks": ""
             }
            },
            "type": "scattermapbox"
           }
          ],
          "scatterpolar": [
           {
            "marker": {
             "colorbar": {
              "outlinewidth": 0,
              "ticks": ""
             }
            },
            "type": "scatterpolar"
           }
          ],
          "scatterpolargl": [
           {
            "marker": {
             "colorbar": {
              "outlinewidth": 0,
              "ticks": ""
             }
            },
            "type": "scatterpolargl"
           }
          ],
          "scatterternary": [
           {
            "marker": {
             "colorbar": {
              "outlinewidth": 0,
              "ticks": ""
             }
            },
            "type": "scatterternary"
           }
          ],
          "surface": [
           {
            "colorbar": {
             "outlinewidth": 0,
             "ticks": ""
            },
            "colorscale": [
             [
              0,
              "#0d0887"
             ],
             [
              0.1111111111111111,
              "#46039f"
             ],
             [
              0.2222222222222222,
              "#7201a8"
             ],
             [
              0.3333333333333333,
              "#9c179e"
             ],
             [
              0.4444444444444444,
              "#bd3786"
             ],
             [
              0.5555555555555556,
              "#d8576b"
             ],
             [
              0.6666666666666666,
              "#ed7953"
             ],
             [
              0.7777777777777778,
              "#fb9f3a"
             ],
             [
              0.8888888888888888,
              "#fdca26"
             ],
             [
              1,
              "#f0f921"
             ]
            ],
            "type": "surface"
           }
          ],
          "table": [
           {
            "cells": {
             "fill": {
              "color": "#EBF0F8"
             },
             "line": {
              "color": "white"
             }
            },
            "header": {
             "fill": {
              "color": "#C8D4E3"
             },
             "line": {
              "color": "white"
             }
            },
            "type": "table"
           }
          ]
         },
         "layout": {
          "annotationdefaults": {
           "arrowcolor": "#2a3f5f",
           "arrowhead": 0,
           "arrowwidth": 1
          },
          "autotypenumbers": "strict",
          "coloraxis": {
           "colorbar": {
            "outlinewidth": 0,
            "ticks": ""
           }
          },
          "colorscale": {
           "diverging": [
            [
             0,
             "#8e0152"
            ],
            [
             0.1,
             "#c51b7d"
            ],
            [
             0.2,
             "#de77ae"
            ],
            [
             0.3,
             "#f1b6da"
            ],
            [
             0.4,
             "#fde0ef"
            ],
            [
             0.5,
             "#f7f7f7"
            ],
            [
             0.6,
             "#e6f5d0"
            ],
            [
             0.7,
             "#b8e186"
            ],
            [
             0.8,
             "#7fbc41"
            ],
            [
             0.9,
             "#4d9221"
            ],
            [
             1,
             "#276419"
            ]
           ],
           "sequential": [
            [
             0,
             "#0d0887"
            ],
            [
             0.1111111111111111,
             "#46039f"
            ],
            [
             0.2222222222222222,
             "#7201a8"
            ],
            [
             0.3333333333333333,
             "#9c179e"
            ],
            [
             0.4444444444444444,
             "#bd3786"
            ],
            [
             0.5555555555555556,
             "#d8576b"
            ],
            [
             0.6666666666666666,
             "#ed7953"
            ],
            [
             0.7777777777777778,
             "#fb9f3a"
            ],
            [
             0.8888888888888888,
             "#fdca26"
            ],
            [
             1,
             "#f0f921"
            ]
           ],
           "sequentialminus": [
            [
             0,
             "#0d0887"
            ],
            [
             0.1111111111111111,
             "#46039f"
            ],
            [
             0.2222222222222222,
             "#7201a8"
            ],
            [
             0.3333333333333333,
             "#9c179e"
            ],
            [
             0.4444444444444444,
             "#bd3786"
            ],
            [
             0.5555555555555556,
             "#d8576b"
            ],
            [
             0.6666666666666666,
             "#ed7953"
            ],
            [
             0.7777777777777778,
             "#fb9f3a"
            ],
            [
             0.8888888888888888,
             "#fdca26"
            ],
            [
             1,
             "#f0f921"
            ]
           ]
          },
          "colorway": [
           "#636efa",
           "#EF553B",
           "#00cc96",
           "#ab63fa",
           "#FFA15A",
           "#19d3f3",
           "#FF6692",
           "#B6E880",
           "#FF97FF",
           "#FECB52"
          ],
          "font": {
           "color": "#2a3f5f"
          },
          "geo": {
           "bgcolor": "white",
           "lakecolor": "white",
           "landcolor": "#E5ECF6",
           "showlakes": true,
           "showland": true,
           "subunitcolor": "white"
          },
          "hoverlabel": {
           "align": "left"
          },
          "hovermode": "closest",
          "mapbox": {
           "style": "light"
          },
          "paper_bgcolor": "white",
          "plot_bgcolor": "#E5ECF6",
          "polar": {
           "angularaxis": {
            "gridcolor": "white",
            "linecolor": "white",
            "ticks": ""
           },
           "bgcolor": "#E5ECF6",
           "radialaxis": {
            "gridcolor": "white",
            "linecolor": "white",
            "ticks": ""
           }
          },
          "scene": {
           "xaxis": {
            "backgroundcolor": "#E5ECF6",
            "gridcolor": "white",
            "gridwidth": 2,
            "linecolor": "white",
            "showbackground": true,
            "ticks": "",
            "zerolinecolor": "white"
           },
           "yaxis": {
            "backgroundcolor": "#E5ECF6",
            "gridcolor": "white",
            "gridwidth": 2,
            "linecolor": "white",
            "showbackground": true,
            "ticks": "",
            "zerolinecolor": "white"
           },
           "zaxis": {
            "backgroundcolor": "#E5ECF6",
            "gridcolor": "white",
            "gridwidth": 2,
            "linecolor": "white",
            "showbackground": true,
            "ticks": "",
            "zerolinecolor": "white"
           }
          },
          "shapedefaults": {
           "line": {
            "color": "#2a3f5f"
           }
          },
          "ternary": {
           "aaxis": {
            "gridcolor": "white",
            "linecolor": "white",
            "ticks": ""
           },
           "baxis": {
            "gridcolor": "white",
            "linecolor": "white",
            "ticks": ""
           },
           "bgcolor": "#E5ECF6",
           "caxis": {
            "gridcolor": "white",
            "linecolor": "white",
            "ticks": ""
           }
          },
          "title": {
           "x": 0.05
          },
          "xaxis": {
           "automargin": true,
           "gridcolor": "white",
           "linecolor": "white",
           "ticks": "",
           "title": {
            "standoff": 15
           },
           "zerolinecolor": "white",
           "zerolinewidth": 2
          },
          "yaxis": {
           "automargin": true,
           "gridcolor": "white",
           "linecolor": "white",
           "ticks": "",
           "title": {
            "standoff": 15
           },
           "zerolinecolor": "white",
           "zerolinewidth": 2
          }
         }
        },
        "title": {
         "text": "acc",
         "x": 0.5
        },
        "yaxis": {
         "tickmode": "array",
         "tickvals": [
          "0.76",
          0.3,
          0.8
         ]
        }
       }
      }
     },
     "metadata": {},
     "output_type": "display_data"
    }
   ],
   "source": [
    "genVisMulitlabel(partEvalMetrics, \"acc\")"
   ]
  },
  {
   "cell_type": "code",
   "execution_count": 150,
   "metadata": {},
   "outputs": [
    {
     "data": {
      "application/vnd.plotly.v1+json": {
       "config": {
        "plotlyServerURL": "https://plot.ly"
       },
       "data": [
        {
         "text": [
          0.8269595740647243,
          0.6687850043507512,
          0.8387423002666177,
          0.8841954648667144,
          0.7135394515211345,
          0.8609447658317373,
          0.8361250642064747,
          0.8001270313024303,
          0.7399073617053576,
          0.5875843528219435,
          0.7997598950821165,
          0.8337229384922829,
          0.6069390800687277,
          0.9194717973285623,
          0.9322679676796854,
          0.9536920816322962,
          0.8918793037401078,
          0.8671284634760705,
          0.8430816681180158,
          0.9601869932801038,
          0.9122208428032161,
          0.8784474780194355,
          0.8017202984142785,
          0.7568863066156081
         ],
         "type": "bar",
         "x": [
          "vision_bonnet",
          "vision_bumper_front",
          "vision_door_front_rh",
          "vision_door_rear_rh",
          "vision_engine",
          "vision_fender_front_rh",
          "vision_front_panel",
          "vision_headlamp_rh",
          "vision_non_external",
          "vision_misc",
          "vision_wheel",
          "vision_windscreen_front",
          "vision_bumper_rear",
          "vision_rear_compartment",
          "vision_rear_panel",
          "vision_rear_quarter_rh",
          "vision_tail_lamp_rh",
          "vision_door_front_lh",
          "vision_door_rear_lh",
          "vision_rear_quarter_lh",
          "vision_tail_lamp_lh",
          "vision_fender_front_lh",
          "vision_headlamp_lh",
          "vision_grille"
         ],
         "y": [
          0.8269595740647243,
          0.6687850043507512,
          0.8387423002666177,
          0.8841954648667144,
          0.7135394515211345,
          0.8609447658317373,
          0.8361250642064747,
          0.8001270313024303,
          0.7399073617053576,
          0.5875843528219435,
          0.7997598950821165,
          0.8337229384922829,
          0.6069390800687277,
          0.9194717973285623,
          0.9322679676796854,
          0.9536920816322962,
          0.8918793037401078,
          0.8671284634760705,
          0.8430816681180158,
          0.9601869932801038,
          0.9122208428032161,
          0.8784474780194355,
          0.8017202984142785,
          0.7568863066156081
         ]
        }
       ],
       "layout": {
        "shapes": [
         {
          "line": {
           "color": "red",
           "width": 2
          },
          "type": "line",
          "x0": 0,
          "x1": 1,
          "xref": "x domain",
          "y0": 0.821429811903683,
          "y1": 0.821429811903683,
          "yref": "y"
         }
        ],
        "template": {
         "data": {
          "bar": [
           {
            "error_x": {
             "color": "#2a3f5f"
            },
            "error_y": {
             "color": "#2a3f5f"
            },
            "marker": {
             "line": {
              "color": "#E5ECF6",
              "width": 0.5
             },
             "pattern": {
              "fillmode": "overlay",
              "size": 10,
              "solidity": 0.2
             }
            },
            "type": "bar"
           }
          ],
          "barpolar": [
           {
            "marker": {
             "line": {
              "color": "#E5ECF6",
              "width": 0.5
             },
             "pattern": {
              "fillmode": "overlay",
              "size": 10,
              "solidity": 0.2
             }
            },
            "type": "barpolar"
           }
          ],
          "carpet": [
           {
            "aaxis": {
             "endlinecolor": "#2a3f5f",
             "gridcolor": "white",
             "linecolor": "white",
             "minorgridcolor": "white",
             "startlinecolor": "#2a3f5f"
            },
            "baxis": {
             "endlinecolor": "#2a3f5f",
             "gridcolor": "white",
             "linecolor": "white",
             "minorgridcolor": "white",
             "startlinecolor": "#2a3f5f"
            },
            "type": "carpet"
           }
          ],
          "choropleth": [
           {
            "colorbar": {
             "outlinewidth": 0,
             "ticks": ""
            },
            "type": "choropleth"
           }
          ],
          "contour": [
           {
            "colorbar": {
             "outlinewidth": 0,
             "ticks": ""
            },
            "colorscale": [
             [
              0,
              "#0d0887"
             ],
             [
              0.1111111111111111,
              "#46039f"
             ],
             [
              0.2222222222222222,
              "#7201a8"
             ],
             [
              0.3333333333333333,
              "#9c179e"
             ],
             [
              0.4444444444444444,
              "#bd3786"
             ],
             [
              0.5555555555555556,
              "#d8576b"
             ],
             [
              0.6666666666666666,
              "#ed7953"
             ],
             [
              0.7777777777777778,
              "#fb9f3a"
             ],
             [
              0.8888888888888888,
              "#fdca26"
             ],
             [
              1,
              "#f0f921"
             ]
            ],
            "type": "contour"
           }
          ],
          "contourcarpet": [
           {
            "colorbar": {
             "outlinewidth": 0,
             "ticks": ""
            },
            "type": "contourcarpet"
           }
          ],
          "heatmap": [
           {
            "colorbar": {
             "outlinewidth": 0,
             "ticks": ""
            },
            "colorscale": [
             [
              0,
              "#0d0887"
             ],
             [
              0.1111111111111111,
              "#46039f"
             ],
             [
              0.2222222222222222,
              "#7201a8"
             ],
             [
              0.3333333333333333,
              "#9c179e"
             ],
             [
              0.4444444444444444,
              "#bd3786"
             ],
             [
              0.5555555555555556,
              "#d8576b"
             ],
             [
              0.6666666666666666,
              "#ed7953"
             ],
             [
              0.7777777777777778,
              "#fb9f3a"
             ],
             [
              0.8888888888888888,
              "#fdca26"
             ],
             [
              1,
              "#f0f921"
             ]
            ],
            "type": "heatmap"
           }
          ],
          "heatmapgl": [
           {
            "colorbar": {
             "outlinewidth": 0,
             "ticks": ""
            },
            "colorscale": [
             [
              0,
              "#0d0887"
             ],
             [
              0.1111111111111111,
              "#46039f"
             ],
             [
              0.2222222222222222,
              "#7201a8"
             ],
             [
              0.3333333333333333,
              "#9c179e"
             ],
             [
              0.4444444444444444,
              "#bd3786"
             ],
             [
              0.5555555555555556,
              "#d8576b"
             ],
             [
              0.6666666666666666,
              "#ed7953"
             ],
             [
              0.7777777777777778,
              "#fb9f3a"
             ],
             [
              0.8888888888888888,
              "#fdca26"
             ],
             [
              1,
              "#f0f921"
             ]
            ],
            "type": "heatmapgl"
           }
          ],
          "histogram": [
           {
            "marker": {
             "pattern": {
              "fillmode": "overlay",
              "size": 10,
              "solidity": 0.2
             }
            },
            "type": "histogram"
           }
          ],
          "histogram2d": [
           {
            "colorbar": {
             "outlinewidth": 0,
             "ticks": ""
            },
            "colorscale": [
             [
              0,
              "#0d0887"
             ],
             [
              0.1111111111111111,
              "#46039f"
             ],
             [
              0.2222222222222222,
              "#7201a8"
             ],
             [
              0.3333333333333333,
              "#9c179e"
             ],
             [
              0.4444444444444444,
              "#bd3786"
             ],
             [
              0.5555555555555556,
              "#d8576b"
             ],
             [
              0.6666666666666666,
              "#ed7953"
             ],
             [
              0.7777777777777778,
              "#fb9f3a"
             ],
             [
              0.8888888888888888,
              "#fdca26"
             ],
             [
              1,
              "#f0f921"
             ]
            ],
            "type": "histogram2d"
           }
          ],
          "histogram2dcontour": [
           {
            "colorbar": {
             "outlinewidth": 0,
             "ticks": ""
            },
            "colorscale": [
             [
              0,
              "#0d0887"
             ],
             [
              0.1111111111111111,
              "#46039f"
             ],
             [
              0.2222222222222222,
              "#7201a8"
             ],
             [
              0.3333333333333333,
              "#9c179e"
             ],
             [
              0.4444444444444444,
              "#bd3786"
             ],
             [
              0.5555555555555556,
              "#d8576b"
             ],
             [
              0.6666666666666666,
              "#ed7953"
             ],
             [
              0.7777777777777778,
              "#fb9f3a"
             ],
             [
              0.8888888888888888,
              "#fdca26"
             ],
             [
              1,
              "#f0f921"
             ]
            ],
            "type": "histogram2dcontour"
           }
          ],
          "mesh3d": [
           {
            "colorbar": {
             "outlinewidth": 0,
             "ticks": ""
            },
            "type": "mesh3d"
           }
          ],
          "parcoords": [
           {
            "line": {
             "colorbar": {
              "outlinewidth": 0,
              "ticks": ""
             }
            },
            "type": "parcoords"
           }
          ],
          "pie": [
           {
            "automargin": true,
            "type": "pie"
           }
          ],
          "scatter": [
           {
            "fillpattern": {
             "fillmode": "overlay",
             "size": 10,
             "solidity": 0.2
            },
            "type": "scatter"
           }
          ],
          "scatter3d": [
           {
            "line": {
             "colorbar": {
              "outlinewidth": 0,
              "ticks": ""
             }
            },
            "marker": {
             "colorbar": {
              "outlinewidth": 0,
              "ticks": ""
             }
            },
            "type": "scatter3d"
           }
          ],
          "scattercarpet": [
           {
            "marker": {
             "colorbar": {
              "outlinewidth": 0,
              "ticks": ""
             }
            },
            "type": "scattercarpet"
           }
          ],
          "scattergeo": [
           {
            "marker": {
             "colorbar": {
              "outlinewidth": 0,
              "ticks": ""
             }
            },
            "type": "scattergeo"
           }
          ],
          "scattergl": [
           {
            "marker": {
             "colorbar": {
              "outlinewidth": 0,
              "ticks": ""
             }
            },
            "type": "scattergl"
           }
          ],
          "scattermapbox": [
           {
            "marker": {
             "colorbar": {
              "outlinewidth": 0,
              "ticks": ""
             }
            },
            "type": "scattermapbox"
           }
          ],
          "scatterpolar": [
           {
            "marker": {
             "colorbar": {
              "outlinewidth": 0,
              "ticks": ""
             }
            },
            "type": "scatterpolar"
           }
          ],
          "scatterpolargl": [
           {
            "marker": {
             "colorbar": {
              "outlinewidth": 0,
              "ticks": ""
             }
            },
            "type": "scatterpolargl"
           }
          ],
          "scatterternary": [
           {
            "marker": {
             "colorbar": {
              "outlinewidth": 0,
              "ticks": ""
             }
            },
            "type": "scatterternary"
           }
          ],
          "surface": [
           {
            "colorbar": {
             "outlinewidth": 0,
             "ticks": ""
            },
            "colorscale": [
             [
              0,
              "#0d0887"
             ],
             [
              0.1111111111111111,
              "#46039f"
             ],
             [
              0.2222222222222222,
              "#7201a8"
             ],
             [
              0.3333333333333333,
              "#9c179e"
             ],
             [
              0.4444444444444444,
              "#bd3786"
             ],
             [
              0.5555555555555556,
              "#d8576b"
             ],
             [
              0.6666666666666666,
              "#ed7953"
             ],
             [
              0.7777777777777778,
              "#fb9f3a"
             ],
             [
              0.8888888888888888,
              "#fdca26"
             ],
             [
              1,
              "#f0f921"
             ]
            ],
            "type": "surface"
           }
          ],
          "table": [
           {
            "cells": {
             "fill": {
              "color": "#EBF0F8"
             },
             "line": {
              "color": "white"
             }
            },
            "header": {
             "fill": {
              "color": "#C8D4E3"
             },
             "line": {
              "color": "white"
             }
            },
            "type": "table"
           }
          ]
         },
         "layout": {
          "annotationdefaults": {
           "arrowcolor": "#2a3f5f",
           "arrowhead": 0,
           "arrowwidth": 1
          },
          "autotypenumbers": "strict",
          "coloraxis": {
           "colorbar": {
            "outlinewidth": 0,
            "ticks": ""
           }
          },
          "colorscale": {
           "diverging": [
            [
             0,
             "#8e0152"
            ],
            [
             0.1,
             "#c51b7d"
            ],
            [
             0.2,
             "#de77ae"
            ],
            [
             0.3,
             "#f1b6da"
            ],
            [
             0.4,
             "#fde0ef"
            ],
            [
             0.5,
             "#f7f7f7"
            ],
            [
             0.6,
             "#e6f5d0"
            ],
            [
             0.7,
             "#b8e186"
            ],
            [
             0.8,
             "#7fbc41"
            ],
            [
             0.9,
             "#4d9221"
            ],
            [
             1,
             "#276419"
            ]
           ],
           "sequential": [
            [
             0,
             "#0d0887"
            ],
            [
             0.1111111111111111,
             "#46039f"
            ],
            [
             0.2222222222222222,
             "#7201a8"
            ],
            [
             0.3333333333333333,
             "#9c179e"
            ],
            [
             0.4444444444444444,
             "#bd3786"
            ],
            [
             0.5555555555555556,
             "#d8576b"
            ],
            [
             0.6666666666666666,
             "#ed7953"
            ],
            [
             0.7777777777777778,
             "#fb9f3a"
            ],
            [
             0.8888888888888888,
             "#fdca26"
            ],
            [
             1,
             "#f0f921"
            ]
           ],
           "sequentialminus": [
            [
             0,
             "#0d0887"
            ],
            [
             0.1111111111111111,
             "#46039f"
            ],
            [
             0.2222222222222222,
             "#7201a8"
            ],
            [
             0.3333333333333333,
             "#9c179e"
            ],
            [
             0.4444444444444444,
             "#bd3786"
            ],
            [
             0.5555555555555556,
             "#d8576b"
            ],
            [
             0.6666666666666666,
             "#ed7953"
            ],
            [
             0.7777777777777778,
             "#fb9f3a"
            ],
            [
             0.8888888888888888,
             "#fdca26"
            ],
            [
             1,
             "#f0f921"
            ]
           ]
          },
          "colorway": [
           "#636efa",
           "#EF553B",
           "#00cc96",
           "#ab63fa",
           "#FFA15A",
           "#19d3f3",
           "#FF6692",
           "#B6E880",
           "#FF97FF",
           "#FECB52"
          ],
          "font": {
           "color": "#2a3f5f"
          },
          "geo": {
           "bgcolor": "white",
           "lakecolor": "white",
           "landcolor": "#E5ECF6",
           "showlakes": true,
           "showland": true,
           "subunitcolor": "white"
          },
          "hoverlabel": {
           "align": "left"
          },
          "hovermode": "closest",
          "mapbox": {
           "style": "light"
          },
          "paper_bgcolor": "white",
          "plot_bgcolor": "#E5ECF6",
          "polar": {
           "angularaxis": {
            "gridcolor": "white",
            "linecolor": "white",
            "ticks": ""
           },
           "bgcolor": "#E5ECF6",
           "radialaxis": {
            "gridcolor": "white",
            "linecolor": "white",
            "ticks": ""
           }
          },
          "scene": {
           "xaxis": {
            "backgroundcolor": "#E5ECF6",
            "gridcolor": "white",
            "gridwidth": 2,
            "linecolor": "white",
            "showbackground": true,
            "ticks": "",
            "zerolinecolor": "white"
           },
           "yaxis": {
            "backgroundcolor": "#E5ECF6",
            "gridcolor": "white",
            "gridwidth": 2,
            "linecolor": "white",
            "showbackground": true,
            "ticks": "",
            "zerolinecolor": "white"
           },
           "zaxis": {
            "backgroundcolor": "#E5ECF6",
            "gridcolor": "white",
            "gridwidth": 2,
            "linecolor": "white",
            "showbackground": true,
            "ticks": "",
            "zerolinecolor": "white"
           }
          },
          "shapedefaults": {
           "line": {
            "color": "#2a3f5f"
           }
          },
          "ternary": {
           "aaxis": {
            "gridcolor": "white",
            "linecolor": "white",
            "ticks": ""
           },
           "baxis": {
            "gridcolor": "white",
            "linecolor": "white",
            "ticks": ""
           },
           "bgcolor": "#E5ECF6",
           "caxis": {
            "gridcolor": "white",
            "linecolor": "white",
            "ticks": ""
           }
          },
          "title": {
           "x": 0.05
          },
          "xaxis": {
           "automargin": true,
           "gridcolor": "white",
           "linecolor": "white",
           "ticks": "",
           "title": {
            "standoff": 15
           },
           "zerolinecolor": "white",
           "zerolinewidth": 2
          },
          "yaxis": {
           "automargin": true,
           "gridcolor": "white",
           "linecolor": "white",
           "ticks": "",
           "title": {
            "standoff": 15
           },
           "zerolinecolor": "white",
           "zerolinewidth": 2
          }
         }
        },
        "title": {
         "text": "precision",
         "x": 0.5
        },
        "yaxis": {
         "tickmode": "array",
         "tickvals": [
          "0.82",
          0.3,
          0.8
         ]
        }
       }
      }
     },
     "metadata": {},
     "output_type": "display_data"
    }
   ],
   "source": [
    "genVisMulitlabel(partEvalMetrics, \"precision\")"
   ]
  },
  {
   "cell_type": "code",
   "execution_count": 151,
   "metadata": {},
   "outputs": [
    {
     "data": {
      "application/vnd.plotly.v1+json": {
       "config": {
        "plotlyServerURL": "https://plot.ly"
       },
       "data": [
        {
         "text": [
          0.8452204794317846,
          0.8962509563886764,
          0.6636259977194983,
          0.538235294117647,
          0.8659987476518473,
          0.7208099956915123,
          0.7183098591549296,
          0.8058441558441558,
          0.6933712891419276,
          0.8857074109720885,
          0.5550847457627118,
          0.6630532971996387,
          0.8703791469194313,
          0.6700808625336927,
          0.7395715896279594,
          0.5809968847352025,
          0.7307443365695793,
          0.5438388625592417,
          0.5802469135802469,
          0.5451127819548872,
          0.7252374491180461,
          0.6699819168173599,
          0.8359972202918694,
          0.48657894736842106
         ],
         "type": "bar",
         "x": [
          "vision_bonnet",
          "vision_bumper_front",
          "vision_door_front_rh",
          "vision_door_rear_rh",
          "vision_engine",
          "vision_fender_front_rh",
          "vision_front_panel",
          "vision_headlamp_rh",
          "vision_non_external",
          "vision_misc",
          "vision_wheel",
          "vision_windscreen_front",
          "vision_bumper_rear",
          "vision_rear_compartment",
          "vision_rear_panel",
          "vision_rear_quarter_rh",
          "vision_tail_lamp_rh",
          "vision_door_front_lh",
          "vision_door_rear_lh",
          "vision_rear_quarter_lh",
          "vision_tail_lamp_lh",
          "vision_fender_front_lh",
          "vision_headlamp_lh",
          "vision_grille"
         ],
         "y": [
          0.8452204794317846,
          0.8962509563886764,
          0.6636259977194983,
          0.538235294117647,
          0.8659987476518473,
          0.7208099956915123,
          0.7183098591549296,
          0.8058441558441558,
          0.6933712891419276,
          0.8857074109720885,
          0.5550847457627118,
          0.6630532971996387,
          0.8703791469194313,
          0.6700808625336927,
          0.7395715896279594,
          0.5809968847352025,
          0.7307443365695793,
          0.5438388625592417,
          0.5802469135802469,
          0.5451127819548872,
          0.7252374491180461,
          0.6699819168173599,
          0.8359972202918694,
          0.48657894736842106
         ]
        }
       ],
       "layout": {
        "shapes": [
         {
          "line": {
           "color": "red",
           "width": 2
          },
          "type": "line",
          "x0": 0,
          "x1": 1,
          "xref": "x domain",
          "y0": 0.7012616308813482,
          "y1": 0.7012616308813482,
          "yref": "y"
         }
        ],
        "template": {
         "data": {
          "bar": [
           {
            "error_x": {
             "color": "#2a3f5f"
            },
            "error_y": {
             "color": "#2a3f5f"
            },
            "marker": {
             "line": {
              "color": "#E5ECF6",
              "width": 0.5
             },
             "pattern": {
              "fillmode": "overlay",
              "size": 10,
              "solidity": 0.2
             }
            },
            "type": "bar"
           }
          ],
          "barpolar": [
           {
            "marker": {
             "line": {
              "color": "#E5ECF6",
              "width": 0.5
             },
             "pattern": {
              "fillmode": "overlay",
              "size": 10,
              "solidity": 0.2
             }
            },
            "type": "barpolar"
           }
          ],
          "carpet": [
           {
            "aaxis": {
             "endlinecolor": "#2a3f5f",
             "gridcolor": "white",
             "linecolor": "white",
             "minorgridcolor": "white",
             "startlinecolor": "#2a3f5f"
            },
            "baxis": {
             "endlinecolor": "#2a3f5f",
             "gridcolor": "white",
             "linecolor": "white",
             "minorgridcolor": "white",
             "startlinecolor": "#2a3f5f"
            },
            "type": "carpet"
           }
          ],
          "choropleth": [
           {
            "colorbar": {
             "outlinewidth": 0,
             "ticks": ""
            },
            "type": "choropleth"
           }
          ],
          "contour": [
           {
            "colorbar": {
             "outlinewidth": 0,
             "ticks": ""
            },
            "colorscale": [
             [
              0,
              "#0d0887"
             ],
             [
              0.1111111111111111,
              "#46039f"
             ],
             [
              0.2222222222222222,
              "#7201a8"
             ],
             [
              0.3333333333333333,
              "#9c179e"
             ],
             [
              0.4444444444444444,
              "#bd3786"
             ],
             [
              0.5555555555555556,
              "#d8576b"
             ],
             [
              0.6666666666666666,
              "#ed7953"
             ],
             [
              0.7777777777777778,
              "#fb9f3a"
             ],
             [
              0.8888888888888888,
              "#fdca26"
             ],
             [
              1,
              "#f0f921"
             ]
            ],
            "type": "contour"
           }
          ],
          "contourcarpet": [
           {
            "colorbar": {
             "outlinewidth": 0,
             "ticks": ""
            },
            "type": "contourcarpet"
           }
          ],
          "heatmap": [
           {
            "colorbar": {
             "outlinewidth": 0,
             "ticks": ""
            },
            "colorscale": [
             [
              0,
              "#0d0887"
             ],
             [
              0.1111111111111111,
              "#46039f"
             ],
             [
              0.2222222222222222,
              "#7201a8"
             ],
             [
              0.3333333333333333,
              "#9c179e"
             ],
             [
              0.4444444444444444,
              "#bd3786"
             ],
             [
              0.5555555555555556,
              "#d8576b"
             ],
             [
              0.6666666666666666,
              "#ed7953"
             ],
             [
              0.7777777777777778,
              "#fb9f3a"
             ],
             [
              0.8888888888888888,
              "#fdca26"
             ],
             [
              1,
              "#f0f921"
             ]
            ],
            "type": "heatmap"
           }
          ],
          "heatmapgl": [
           {
            "colorbar": {
             "outlinewidth": 0,
             "ticks": ""
            },
            "colorscale": [
             [
              0,
              "#0d0887"
             ],
             [
              0.1111111111111111,
              "#46039f"
             ],
             [
              0.2222222222222222,
              "#7201a8"
             ],
             [
              0.3333333333333333,
              "#9c179e"
             ],
             [
              0.4444444444444444,
              "#bd3786"
             ],
             [
              0.5555555555555556,
              "#d8576b"
             ],
             [
              0.6666666666666666,
              "#ed7953"
             ],
             [
              0.7777777777777778,
              "#fb9f3a"
             ],
             [
              0.8888888888888888,
              "#fdca26"
             ],
             [
              1,
              "#f0f921"
             ]
            ],
            "type": "heatmapgl"
           }
          ],
          "histogram": [
           {
            "marker": {
             "pattern": {
              "fillmode": "overlay",
              "size": 10,
              "solidity": 0.2
             }
            },
            "type": "histogram"
           }
          ],
          "histogram2d": [
           {
            "colorbar": {
             "outlinewidth": 0,
             "ticks": ""
            },
            "colorscale": [
             [
              0,
              "#0d0887"
             ],
             [
              0.1111111111111111,
              "#46039f"
             ],
             [
              0.2222222222222222,
              "#7201a8"
             ],
             [
              0.3333333333333333,
              "#9c179e"
             ],
             [
              0.4444444444444444,
              "#bd3786"
             ],
             [
              0.5555555555555556,
              "#d8576b"
             ],
             [
              0.6666666666666666,
              "#ed7953"
             ],
             [
              0.7777777777777778,
              "#fb9f3a"
             ],
             [
              0.8888888888888888,
              "#fdca26"
             ],
             [
              1,
              "#f0f921"
             ]
            ],
            "type": "histogram2d"
           }
          ],
          "histogram2dcontour": [
           {
            "colorbar": {
             "outlinewidth": 0,
             "ticks": ""
            },
            "colorscale": [
             [
              0,
              "#0d0887"
             ],
             [
              0.1111111111111111,
              "#46039f"
             ],
             [
              0.2222222222222222,
              "#7201a8"
             ],
             [
              0.3333333333333333,
              "#9c179e"
             ],
             [
              0.4444444444444444,
              "#bd3786"
             ],
             [
              0.5555555555555556,
              "#d8576b"
             ],
             [
              0.6666666666666666,
              "#ed7953"
             ],
             [
              0.7777777777777778,
              "#fb9f3a"
             ],
             [
              0.8888888888888888,
              "#fdca26"
             ],
             [
              1,
              "#f0f921"
             ]
            ],
            "type": "histogram2dcontour"
           }
          ],
          "mesh3d": [
           {
            "colorbar": {
             "outlinewidth": 0,
             "ticks": ""
            },
            "type": "mesh3d"
           }
          ],
          "parcoords": [
           {
            "line": {
             "colorbar": {
              "outlinewidth": 0,
              "ticks": ""
             }
            },
            "type": "parcoords"
           }
          ],
          "pie": [
           {
            "automargin": true,
            "type": "pie"
           }
          ],
          "scatter": [
           {
            "fillpattern": {
             "fillmode": "overlay",
             "size": 10,
             "solidity": 0.2
            },
            "type": "scatter"
           }
          ],
          "scatter3d": [
           {
            "line": {
             "colorbar": {
              "outlinewidth": 0,
              "ticks": ""
             }
            },
            "marker": {
             "colorbar": {
              "outlinewidth": 0,
              "ticks": ""
             }
            },
            "type": "scatter3d"
           }
          ],
          "scattercarpet": [
           {
            "marker": {
             "colorbar": {
              "outlinewidth": 0,
              "ticks": ""
             }
            },
            "type": "scattercarpet"
           }
          ],
          "scattergeo": [
           {
            "marker": {
             "colorbar": {
              "outlinewidth": 0,
              "ticks": ""
             }
            },
            "type": "scattergeo"
           }
          ],
          "scattergl": [
           {
            "marker": {
             "colorbar": {
              "outlinewidth": 0,
              "ticks": ""
             }
            },
            "type": "scattergl"
           }
          ],
          "scattermapbox": [
           {
            "marker": {
             "colorbar": {
              "outlinewidth": 0,
              "ticks": ""
             }
            },
            "type": "scattermapbox"
           }
          ],
          "scatterpolar": [
           {
            "marker": {
             "colorbar": {
              "outlinewidth": 0,
              "ticks": ""
             }
            },
            "type": "scatterpolar"
           }
          ],
          "scatterpolargl": [
           {
            "marker": {
             "colorbar": {
              "outlinewidth": 0,
              "ticks": ""
             }
            },
            "type": "scatterpolargl"
           }
          ],
          "scatterternary": [
           {
            "marker": {
             "colorbar": {
              "outlinewidth": 0,
              "ticks": ""
             }
            },
            "type": "scatterternary"
           }
          ],
          "surface": [
           {
            "colorbar": {
             "outlinewidth": 0,
             "ticks": ""
            },
            "colorscale": [
             [
              0,
              "#0d0887"
             ],
             [
              0.1111111111111111,
              "#46039f"
             ],
             [
              0.2222222222222222,
              "#7201a8"
             ],
             [
              0.3333333333333333,
              "#9c179e"
             ],
             [
              0.4444444444444444,
              "#bd3786"
             ],
             [
              0.5555555555555556,
              "#d8576b"
             ],
             [
              0.6666666666666666,
              "#ed7953"
             ],
             [
              0.7777777777777778,
              "#fb9f3a"
             ],
             [
              0.8888888888888888,
              "#fdca26"
             ],
             [
              1,
              "#f0f921"
             ]
            ],
            "type": "surface"
           }
          ],
          "table": [
           {
            "cells": {
             "fill": {
              "color": "#EBF0F8"
             },
             "line": {
              "color": "white"
             }
            },
            "header": {
             "fill": {
              "color": "#C8D4E3"
             },
             "line": {
              "color": "white"
             }
            },
            "type": "table"
           }
          ]
         },
         "layout": {
          "annotationdefaults": {
           "arrowcolor": "#2a3f5f",
           "arrowhead": 0,
           "arrowwidth": 1
          },
          "autotypenumbers": "strict",
          "coloraxis": {
           "colorbar": {
            "outlinewidth": 0,
            "ticks": ""
           }
          },
          "colorscale": {
           "diverging": [
            [
             0,
             "#8e0152"
            ],
            [
             0.1,
             "#c51b7d"
            ],
            [
             0.2,
             "#de77ae"
            ],
            [
             0.3,
             "#f1b6da"
            ],
            [
             0.4,
             "#fde0ef"
            ],
            [
             0.5,
             "#f7f7f7"
            ],
            [
             0.6,
             "#e6f5d0"
            ],
            [
             0.7,
             "#b8e186"
            ],
            [
             0.8,
             "#7fbc41"
            ],
            [
             0.9,
             "#4d9221"
            ],
            [
             1,
             "#276419"
            ]
           ],
           "sequential": [
            [
             0,
             "#0d0887"
            ],
            [
             0.1111111111111111,
             "#46039f"
            ],
            [
             0.2222222222222222,
             "#7201a8"
            ],
            [
             0.3333333333333333,
             "#9c179e"
            ],
            [
             0.4444444444444444,
             "#bd3786"
            ],
            [
             0.5555555555555556,
             "#d8576b"
            ],
            [
             0.6666666666666666,
             "#ed7953"
            ],
            [
             0.7777777777777778,
             "#fb9f3a"
            ],
            [
             0.8888888888888888,
             "#fdca26"
            ],
            [
             1,
             "#f0f921"
            ]
           ],
           "sequentialminus": [
            [
             0,
             "#0d0887"
            ],
            [
             0.1111111111111111,
             "#46039f"
            ],
            [
             0.2222222222222222,
             "#7201a8"
            ],
            [
             0.3333333333333333,
             "#9c179e"
            ],
            [
             0.4444444444444444,
             "#bd3786"
            ],
            [
             0.5555555555555556,
             "#d8576b"
            ],
            [
             0.6666666666666666,
             "#ed7953"
            ],
            [
             0.7777777777777778,
             "#fb9f3a"
            ],
            [
             0.8888888888888888,
             "#fdca26"
            ],
            [
             1,
             "#f0f921"
            ]
           ]
          },
          "colorway": [
           "#636efa",
           "#EF553B",
           "#00cc96",
           "#ab63fa",
           "#FFA15A",
           "#19d3f3",
           "#FF6692",
           "#B6E880",
           "#FF97FF",
           "#FECB52"
          ],
          "font": {
           "color": "#2a3f5f"
          },
          "geo": {
           "bgcolor": "white",
           "lakecolor": "white",
           "landcolor": "#E5ECF6",
           "showlakes": true,
           "showland": true,
           "subunitcolor": "white"
          },
          "hoverlabel": {
           "align": "left"
          },
          "hovermode": "closest",
          "mapbox": {
           "style": "light"
          },
          "paper_bgcolor": "white",
          "plot_bgcolor": "#E5ECF6",
          "polar": {
           "angularaxis": {
            "gridcolor": "white",
            "linecolor": "white",
            "ticks": ""
           },
           "bgcolor": "#E5ECF6",
           "radialaxis": {
            "gridcolor": "white",
            "linecolor": "white",
            "ticks": ""
           }
          },
          "scene": {
           "xaxis": {
            "backgroundcolor": "#E5ECF6",
            "gridcolor": "white",
            "gridwidth": 2,
            "linecolor": "white",
            "showbackground": true,
            "ticks": "",
            "zerolinecolor": "white"
           },
           "yaxis": {
            "backgroundcolor": "#E5ECF6",
            "gridcolor": "white",
            "gridwidth": 2,
            "linecolor": "white",
            "showbackground": true,
            "ticks": "",
            "zerolinecolor": "white"
           },
           "zaxis": {
            "backgroundcolor": "#E5ECF6",
            "gridcolor": "white",
            "gridwidth": 2,
            "linecolor": "white",
            "showbackground": true,
            "ticks": "",
            "zerolinecolor": "white"
           }
          },
          "shapedefaults": {
           "line": {
            "color": "#2a3f5f"
           }
          },
          "ternary": {
           "aaxis": {
            "gridcolor": "white",
            "linecolor": "white",
            "ticks": ""
           },
           "baxis": {
            "gridcolor": "white",
            "linecolor": "white",
            "ticks": ""
           },
           "bgcolor": "#E5ECF6",
           "caxis": {
            "gridcolor": "white",
            "linecolor": "white",
            "ticks": ""
           }
          },
          "title": {
           "x": 0.05
          },
          "xaxis": {
           "automargin": true,
           "gridcolor": "white",
           "linecolor": "white",
           "ticks": "",
           "title": {
            "standoff": 15
           },
           "zerolinecolor": "white",
           "zerolinewidth": 2
          },
          "yaxis": {
           "automargin": true,
           "gridcolor": "white",
           "linecolor": "white",
           "ticks": "",
           "title": {
            "standoff": 15
           },
           "zerolinecolor": "white",
           "zerolinewidth": 2
          }
         }
        },
        "title": {
         "text": "recall",
         "x": 0.5
        },
        "yaxis": {
         "tickmode": "array",
         "tickvals": [
          "0.70",
          0.3,
          0.8
         ]
        }
       }
      }
     },
     "metadata": {},
     "output_type": "display_data"
    }
   ],
   "source": [
    "genVisMulitlabel(partEvalMetrics, \"recall\")"
   ]
  },
  {
   "cell_type": "code",
   "execution_count": 152,
   "metadata": {},
   "outputs": [
    {
     "data": {
      "application/vnd.plotly.v1+json": {
       "config": {
        "plotlyServerURL": "https://plot.ly"
       },
       "data": [
        {
         "text": [
          0.8359903183872656,
          0.7659877661655385,
          0.7409783560929811,
          0.6691435812732701,
          0.782411304444581,
          0.784669795907149,
          0.7727526808356727,
          0.8029754173281378,
          0.715883852631123,
          0.7064830316100107,
          0.6553290386948714,
          0.7386578302570832,
          0.7151703798026962,
          0.7752123859585988,
          0.824814677703211,
          0.7220904568519728,
          0.8033110499823802,
          0.6684466019417475,
          0.6873964903281502,
          0.6954232129903918,
          0.8080532131180911,
          0.7601818037158479,
          0.818500056658628,
          0.5923526068309822
         ],
         "type": "bar",
         "x": [
          "vision_bonnet",
          "vision_bumper_front",
          "vision_door_front_rh",
          "vision_door_rear_rh",
          "vision_engine",
          "vision_fender_front_rh",
          "vision_front_panel",
          "vision_headlamp_rh",
          "vision_non_external",
          "vision_misc",
          "vision_wheel",
          "vision_windscreen_front",
          "vision_bumper_rear",
          "vision_rear_compartment",
          "vision_rear_panel",
          "vision_rear_quarter_rh",
          "vision_tail_lamp_rh",
          "vision_door_front_lh",
          "vision_door_rear_lh",
          "vision_rear_quarter_lh",
          "vision_tail_lamp_lh",
          "vision_fender_front_lh",
          "vision_headlamp_lh",
          "vision_grille"
         ],
         "y": [
          0.8359903183872656,
          0.7659877661655385,
          0.7409783560929811,
          0.6691435812732701,
          0.782411304444581,
          0.784669795907149,
          0.7727526808356727,
          0.8029754173281378,
          0.715883852631123,
          0.7064830316100107,
          0.6553290386948714,
          0.7386578302570832,
          0.7151703798026962,
          0.7752123859585988,
          0.824814677703211,
          0.7220904568519728,
          0.8033110499823802,
          0.6684466019417475,
          0.6873964903281502,
          0.6954232129903918,
          0.8080532131180911,
          0.7601818037158479,
          0.818500056658628,
          0.5923526068309822
         ]
        }
       ],
       "layout": {
        "shapes": [
         {
          "line": {
           "color": "red",
           "width": 2
          },
          "type": "line",
          "x0": 0,
          "x1": 1,
          "xref": "x domain",
          "y0": 0.7434256628962658,
          "y1": 0.7434256628962658,
          "yref": "y"
         }
        ],
        "template": {
         "data": {
          "bar": [
           {
            "error_x": {
             "color": "#2a3f5f"
            },
            "error_y": {
             "color": "#2a3f5f"
            },
            "marker": {
             "line": {
              "color": "#E5ECF6",
              "width": 0.5
             },
             "pattern": {
              "fillmode": "overlay",
              "size": 10,
              "solidity": 0.2
             }
            },
            "type": "bar"
           }
          ],
          "barpolar": [
           {
            "marker": {
             "line": {
              "color": "#E5ECF6",
              "width": 0.5
             },
             "pattern": {
              "fillmode": "overlay",
              "size": 10,
              "solidity": 0.2
             }
            },
            "type": "barpolar"
           }
          ],
          "carpet": [
           {
            "aaxis": {
             "endlinecolor": "#2a3f5f",
             "gridcolor": "white",
             "linecolor": "white",
             "minorgridcolor": "white",
             "startlinecolor": "#2a3f5f"
            },
            "baxis": {
             "endlinecolor": "#2a3f5f",
             "gridcolor": "white",
             "linecolor": "white",
             "minorgridcolor": "white",
             "startlinecolor": "#2a3f5f"
            },
            "type": "carpet"
           }
          ],
          "choropleth": [
           {
            "colorbar": {
             "outlinewidth": 0,
             "ticks": ""
            },
            "type": "choropleth"
           }
          ],
          "contour": [
           {
            "colorbar": {
             "outlinewidth": 0,
             "ticks": ""
            },
            "colorscale": [
             [
              0,
              "#0d0887"
             ],
             [
              0.1111111111111111,
              "#46039f"
             ],
             [
              0.2222222222222222,
              "#7201a8"
             ],
             [
              0.3333333333333333,
              "#9c179e"
             ],
             [
              0.4444444444444444,
              "#bd3786"
             ],
             [
              0.5555555555555556,
              "#d8576b"
             ],
             [
              0.6666666666666666,
              "#ed7953"
             ],
             [
              0.7777777777777778,
              "#fb9f3a"
             ],
             [
              0.8888888888888888,
              "#fdca26"
             ],
             [
              1,
              "#f0f921"
             ]
            ],
            "type": "contour"
           }
          ],
          "contourcarpet": [
           {
            "colorbar": {
             "outlinewidth": 0,
             "ticks": ""
            },
            "type": "contourcarpet"
           }
          ],
          "heatmap": [
           {
            "colorbar": {
             "outlinewidth": 0,
             "ticks": ""
            },
            "colorscale": [
             [
              0,
              "#0d0887"
             ],
             [
              0.1111111111111111,
              "#46039f"
             ],
             [
              0.2222222222222222,
              "#7201a8"
             ],
             [
              0.3333333333333333,
              "#9c179e"
             ],
             [
              0.4444444444444444,
              "#bd3786"
             ],
             [
              0.5555555555555556,
              "#d8576b"
             ],
             [
              0.6666666666666666,
              "#ed7953"
             ],
             [
              0.7777777777777778,
              "#fb9f3a"
             ],
             [
              0.8888888888888888,
              "#fdca26"
             ],
             [
              1,
              "#f0f921"
             ]
            ],
            "type": "heatmap"
           }
          ],
          "heatmapgl": [
           {
            "colorbar": {
             "outlinewidth": 0,
             "ticks": ""
            },
            "colorscale": [
             [
              0,
              "#0d0887"
             ],
             [
              0.1111111111111111,
              "#46039f"
             ],
             [
              0.2222222222222222,
              "#7201a8"
             ],
             [
              0.3333333333333333,
              "#9c179e"
             ],
             [
              0.4444444444444444,
              "#bd3786"
             ],
             [
              0.5555555555555556,
              "#d8576b"
             ],
             [
              0.6666666666666666,
              "#ed7953"
             ],
             [
              0.7777777777777778,
              "#fb9f3a"
             ],
             [
              0.8888888888888888,
              "#fdca26"
             ],
             [
              1,
              "#f0f921"
             ]
            ],
            "type": "heatmapgl"
           }
          ],
          "histogram": [
           {
            "marker": {
             "pattern": {
              "fillmode": "overlay",
              "size": 10,
              "solidity": 0.2
             }
            },
            "type": "histogram"
           }
          ],
          "histogram2d": [
           {
            "colorbar": {
             "outlinewidth": 0,
             "ticks": ""
            },
            "colorscale": [
             [
              0,
              "#0d0887"
             ],
             [
              0.1111111111111111,
              "#46039f"
             ],
             [
              0.2222222222222222,
              "#7201a8"
             ],
             [
              0.3333333333333333,
              "#9c179e"
             ],
             [
              0.4444444444444444,
              "#bd3786"
             ],
             [
              0.5555555555555556,
              "#d8576b"
             ],
             [
              0.6666666666666666,
              "#ed7953"
             ],
             [
              0.7777777777777778,
              "#fb9f3a"
             ],
             [
              0.8888888888888888,
              "#fdca26"
             ],
             [
              1,
              "#f0f921"
             ]
            ],
            "type": "histogram2d"
           }
          ],
          "histogram2dcontour": [
           {
            "colorbar": {
             "outlinewidth": 0,
             "ticks": ""
            },
            "colorscale": [
             [
              0,
              "#0d0887"
             ],
             [
              0.1111111111111111,
              "#46039f"
             ],
             [
              0.2222222222222222,
              "#7201a8"
             ],
             [
              0.3333333333333333,
              "#9c179e"
             ],
             [
              0.4444444444444444,
              "#bd3786"
             ],
             [
              0.5555555555555556,
              "#d8576b"
             ],
             [
              0.6666666666666666,
              "#ed7953"
             ],
             [
              0.7777777777777778,
              "#fb9f3a"
             ],
             [
              0.8888888888888888,
              "#fdca26"
             ],
             [
              1,
              "#f0f921"
             ]
            ],
            "type": "histogram2dcontour"
           }
          ],
          "mesh3d": [
           {
            "colorbar": {
             "outlinewidth": 0,
             "ticks": ""
            },
            "type": "mesh3d"
           }
          ],
          "parcoords": [
           {
            "line": {
             "colorbar": {
              "outlinewidth": 0,
              "ticks": ""
             }
            },
            "type": "parcoords"
           }
          ],
          "pie": [
           {
            "automargin": true,
            "type": "pie"
           }
          ],
          "scatter": [
           {
            "fillpattern": {
             "fillmode": "overlay",
             "size": 10,
             "solidity": 0.2
            },
            "type": "scatter"
           }
          ],
          "scatter3d": [
           {
            "line": {
             "colorbar": {
              "outlinewidth": 0,
              "ticks": ""
             }
            },
            "marker": {
             "colorbar": {
              "outlinewidth": 0,
              "ticks": ""
             }
            },
            "type": "scatter3d"
           }
          ],
          "scattercarpet": [
           {
            "marker": {
             "colorbar": {
              "outlinewidth": 0,
              "ticks": ""
             }
            },
            "type": "scattercarpet"
           }
          ],
          "scattergeo": [
           {
            "marker": {
             "colorbar": {
              "outlinewidth": 0,
              "ticks": ""
             }
            },
            "type": "scattergeo"
           }
          ],
          "scattergl": [
           {
            "marker": {
             "colorbar": {
              "outlinewidth": 0,
              "ticks": ""
             }
            },
            "type": "scattergl"
           }
          ],
          "scattermapbox": [
           {
            "marker": {
             "colorbar": {
              "outlinewidth": 0,
              "ticks": ""
             }
            },
            "type": "scattermapbox"
           }
          ],
          "scatterpolar": [
           {
            "marker": {
             "colorbar": {
              "outlinewidth": 0,
              "ticks": ""
             }
            },
            "type": "scatterpolar"
           }
          ],
          "scatterpolargl": [
           {
            "marker": {
             "colorbar": {
              "outlinewidth": 0,
              "ticks": ""
             }
            },
            "type": "scatterpolargl"
           }
          ],
          "scatterternary": [
           {
            "marker": {
             "colorbar": {
              "outlinewidth": 0,
              "ticks": ""
             }
            },
            "type": "scatterternary"
           }
          ],
          "surface": [
           {
            "colorbar": {
             "outlinewidth": 0,
             "ticks": ""
            },
            "colorscale": [
             [
              0,
              "#0d0887"
             ],
             [
              0.1111111111111111,
              "#46039f"
             ],
             [
              0.2222222222222222,
              "#7201a8"
             ],
             [
              0.3333333333333333,
              "#9c179e"
             ],
             [
              0.4444444444444444,
              "#bd3786"
             ],
             [
              0.5555555555555556,
              "#d8576b"
             ],
             [
              0.6666666666666666,
              "#ed7953"
             ],
             [
              0.7777777777777778,
              "#fb9f3a"
             ],
             [
              0.8888888888888888,
              "#fdca26"
             ],
             [
              1,
              "#f0f921"
             ]
            ],
            "type": "surface"
           }
          ],
          "table": [
           {
            "cells": {
             "fill": {
              "color": "#EBF0F8"
             },
             "line": {
              "color": "white"
             }
            },
            "header": {
             "fill": {
              "color": "#C8D4E3"
             },
             "line": {
              "color": "white"
             }
            },
            "type": "table"
           }
          ]
         },
         "layout": {
          "annotationdefaults": {
           "arrowcolor": "#2a3f5f",
           "arrowhead": 0,
           "arrowwidth": 1
          },
          "autotypenumbers": "strict",
          "coloraxis": {
           "colorbar": {
            "outlinewidth": 0,
            "ticks": ""
           }
          },
          "colorscale": {
           "diverging": [
            [
             0,
             "#8e0152"
            ],
            [
             0.1,
             "#c51b7d"
            ],
            [
             0.2,
             "#de77ae"
            ],
            [
             0.3,
             "#f1b6da"
            ],
            [
             0.4,
             "#fde0ef"
            ],
            [
             0.5,
             "#f7f7f7"
            ],
            [
             0.6,
             "#e6f5d0"
            ],
            [
             0.7,
             "#b8e186"
            ],
            [
             0.8,
             "#7fbc41"
            ],
            [
             0.9,
             "#4d9221"
            ],
            [
             1,
             "#276419"
            ]
           ],
           "sequential": [
            [
             0,
             "#0d0887"
            ],
            [
             0.1111111111111111,
             "#46039f"
            ],
            [
             0.2222222222222222,
             "#7201a8"
            ],
            [
             0.3333333333333333,
             "#9c179e"
            ],
            [
             0.4444444444444444,
             "#bd3786"
            ],
            [
             0.5555555555555556,
             "#d8576b"
            ],
            [
             0.6666666666666666,
             "#ed7953"
            ],
            [
             0.7777777777777778,
             "#fb9f3a"
            ],
            [
             0.8888888888888888,
             "#fdca26"
            ],
            [
             1,
             "#f0f921"
            ]
           ],
           "sequentialminus": [
            [
             0,
             "#0d0887"
            ],
            [
             0.1111111111111111,
             "#46039f"
            ],
            [
             0.2222222222222222,
             "#7201a8"
            ],
            [
             0.3333333333333333,
             "#9c179e"
            ],
            [
             0.4444444444444444,
             "#bd3786"
            ],
            [
             0.5555555555555556,
             "#d8576b"
            ],
            [
             0.6666666666666666,
             "#ed7953"
            ],
            [
             0.7777777777777778,
             "#fb9f3a"
            ],
            [
             0.8888888888888888,
             "#fdca26"
            ],
            [
             1,
             "#f0f921"
            ]
           ]
          },
          "colorway": [
           "#636efa",
           "#EF553B",
           "#00cc96",
           "#ab63fa",
           "#FFA15A",
           "#19d3f3",
           "#FF6692",
           "#B6E880",
           "#FF97FF",
           "#FECB52"
          ],
          "font": {
           "color": "#2a3f5f"
          },
          "geo": {
           "bgcolor": "white",
           "lakecolor": "white",
           "landcolor": "#E5ECF6",
           "showlakes": true,
           "showland": true,
           "subunitcolor": "white"
          },
          "hoverlabel": {
           "align": "left"
          },
          "hovermode": "closest",
          "mapbox": {
           "style": "light"
          },
          "paper_bgcolor": "white",
          "plot_bgcolor": "#E5ECF6",
          "polar": {
           "angularaxis": {
            "gridcolor": "white",
            "linecolor": "white",
            "ticks": ""
           },
           "bgcolor": "#E5ECF6",
           "radialaxis": {
            "gridcolor": "white",
            "linecolor": "white",
            "ticks": ""
           }
          },
          "scene": {
           "xaxis": {
            "backgroundcolor": "#E5ECF6",
            "gridcolor": "white",
            "gridwidth": 2,
            "linecolor": "white",
            "showbackground": true,
            "ticks": "",
            "zerolinecolor": "white"
           },
           "yaxis": {
            "backgroundcolor": "#E5ECF6",
            "gridcolor": "white",
            "gridwidth": 2,
            "linecolor": "white",
            "showbackground": true,
            "ticks": "",
            "zerolinecolor": "white"
           },
           "zaxis": {
            "backgroundcolor": "#E5ECF6",
            "gridcolor": "white",
            "gridwidth": 2,
            "linecolor": "white",
            "showbackground": true,
            "ticks": "",
            "zerolinecolor": "white"
           }
          },
          "shapedefaults": {
           "line": {
            "color": "#2a3f5f"
           }
          },
          "ternary": {
           "aaxis": {
            "gridcolor": "white",
            "linecolor": "white",
            "ticks": ""
           },
           "baxis": {
            "gridcolor": "white",
            "linecolor": "white",
            "ticks": ""
           },
           "bgcolor": "#E5ECF6",
           "caxis": {
            "gridcolor": "white",
            "linecolor": "white",
            "ticks": ""
           }
          },
          "title": {
           "x": 0.05
          },
          "xaxis": {
           "automargin": true,
           "gridcolor": "white",
           "linecolor": "white",
           "ticks": "",
           "title": {
            "standoff": 15
           },
           "zerolinecolor": "white",
           "zerolinewidth": 2
          },
          "yaxis": {
           "automargin": true,
           "gridcolor": "white",
           "linecolor": "white",
           "ticks": "",
           "title": {
            "standoff": 15
           },
           "zerolinecolor": "white",
           "zerolinewidth": 2
          }
         }
        },
        "title": {
         "text": "f1",
         "x": 0.5
        },
        "yaxis": {
         "tickmode": "array",
         "tickvals": [
          "0.74",
          0.3,
          0.8
         ]
        }
       }
      }
     },
     "metadata": {},
     "output_type": "display_data"
    }
   ],
   "source": [
    "genVisMulitlabel(partEvalMetrics, \"f1\")"
   ]
  },
  {
   "cell_type": "code",
   "execution_count": 153,
   "metadata": {},
   "outputs": [
    {
     "data": {
      "application/vnd.plotly.v1+json": {
       "config": {
        "plotlyServerURL": "https://plot.ly"
       },
       "data": [
        {
         "text": [
          0.3379,
          0.6535,
          0.0877,
          0.068,
          0.4791,
          0.2321,
          0.2627,
          0.462,
          0.2459,
          0.4156,
          0.1416,
          0.1107,
          0.422,
          0.1855,
          0.1774,
          0.0642,
          0.1545,
          0.0844,
          0.0648,
          0.0532,
          0.1474,
          0.2212,
          0.4317,
          0.38
         ],
         "type": "bar",
         "x": [
          "vision_bonnet",
          "vision_bumper_front",
          "vision_door_front_rh",
          "vision_door_rear_rh",
          "vision_engine",
          "vision_fender_front_rh",
          "vision_front_panel",
          "vision_headlamp_rh",
          "vision_non_external",
          "vision_misc",
          "vision_wheel",
          "vision_windscreen_front",
          "vision_bumper_rear",
          "vision_rear_compartment",
          "vision_rear_panel",
          "vision_rear_quarter_rh",
          "vision_tail_lamp_rh",
          "vision_door_front_lh",
          "vision_door_rear_lh",
          "vision_rear_quarter_lh",
          "vision_tail_lamp_lh",
          "vision_fender_front_lh",
          "vision_headlamp_lh",
          "vision_grille"
         ],
         "y": [
          0.3379,
          0.6535,
          0.0877,
          0.068,
          0.4791,
          0.2321,
          0.2627,
          0.462,
          0.2459,
          0.4156,
          0.1416,
          0.1107,
          0.422,
          0.1855,
          0.1774,
          0.0642,
          0.1545,
          0.0844,
          0.0648,
          0.0532,
          0.1474,
          0.2212,
          0.4317,
          0.38
         ]
        }
       ],
       "layout": {
        "shapes": [
         {
          "line": {
           "color": "red",
           "width": 2
          },
          "type": "line",
          "x0": 0,
          "x1": 1,
          "xref": "x domain",
          "y0": 0.24512916666666665,
          "y1": 0.24512916666666665,
          "yref": "y"
         }
        ],
        "template": {
         "data": {
          "bar": [
           {
            "error_x": {
             "color": "#2a3f5f"
            },
            "error_y": {
             "color": "#2a3f5f"
            },
            "marker": {
             "line": {
              "color": "#E5ECF6",
              "width": 0.5
             },
             "pattern": {
              "fillmode": "overlay",
              "size": 10,
              "solidity": 0.2
             }
            },
            "type": "bar"
           }
          ],
          "barpolar": [
           {
            "marker": {
             "line": {
              "color": "#E5ECF6",
              "width": 0.5
             },
             "pattern": {
              "fillmode": "overlay",
              "size": 10,
              "solidity": 0.2
             }
            },
            "type": "barpolar"
           }
          ],
          "carpet": [
           {
            "aaxis": {
             "endlinecolor": "#2a3f5f",
             "gridcolor": "white",
             "linecolor": "white",
             "minorgridcolor": "white",
             "startlinecolor": "#2a3f5f"
            },
            "baxis": {
             "endlinecolor": "#2a3f5f",
             "gridcolor": "white",
             "linecolor": "white",
             "minorgridcolor": "white",
             "startlinecolor": "#2a3f5f"
            },
            "type": "carpet"
           }
          ],
          "choropleth": [
           {
            "colorbar": {
             "outlinewidth": 0,
             "ticks": ""
            },
            "type": "choropleth"
           }
          ],
          "contour": [
           {
            "colorbar": {
             "outlinewidth": 0,
             "ticks": ""
            },
            "colorscale": [
             [
              0,
              "#0d0887"
             ],
             [
              0.1111111111111111,
              "#46039f"
             ],
             [
              0.2222222222222222,
              "#7201a8"
             ],
             [
              0.3333333333333333,
              "#9c179e"
             ],
             [
              0.4444444444444444,
              "#bd3786"
             ],
             [
              0.5555555555555556,
              "#d8576b"
             ],
             [
              0.6666666666666666,
              "#ed7953"
             ],
             [
              0.7777777777777778,
              "#fb9f3a"
             ],
             [
              0.8888888888888888,
              "#fdca26"
             ],
             [
              1,
              "#f0f921"
             ]
            ],
            "type": "contour"
           }
          ],
          "contourcarpet": [
           {
            "colorbar": {
             "outlinewidth": 0,
             "ticks": ""
            },
            "type": "contourcarpet"
           }
          ],
          "heatmap": [
           {
            "colorbar": {
             "outlinewidth": 0,
             "ticks": ""
            },
            "colorscale": [
             [
              0,
              "#0d0887"
             ],
             [
              0.1111111111111111,
              "#46039f"
             ],
             [
              0.2222222222222222,
              "#7201a8"
             ],
             [
              0.3333333333333333,
              "#9c179e"
             ],
             [
              0.4444444444444444,
              "#bd3786"
             ],
             [
              0.5555555555555556,
              "#d8576b"
             ],
             [
              0.6666666666666666,
              "#ed7953"
             ],
             [
              0.7777777777777778,
              "#fb9f3a"
             ],
             [
              0.8888888888888888,
              "#fdca26"
             ],
             [
              1,
              "#f0f921"
             ]
            ],
            "type": "heatmap"
           }
          ],
          "heatmapgl": [
           {
            "colorbar": {
             "outlinewidth": 0,
             "ticks": ""
            },
            "colorscale": [
             [
              0,
              "#0d0887"
             ],
             [
              0.1111111111111111,
              "#46039f"
             ],
             [
              0.2222222222222222,
              "#7201a8"
             ],
             [
              0.3333333333333333,
              "#9c179e"
             ],
             [
              0.4444444444444444,
              "#bd3786"
             ],
             [
              0.5555555555555556,
              "#d8576b"
             ],
             [
              0.6666666666666666,
              "#ed7953"
             ],
             [
              0.7777777777777778,
              "#fb9f3a"
             ],
             [
              0.8888888888888888,
              "#fdca26"
             ],
             [
              1,
              "#f0f921"
             ]
            ],
            "type": "heatmapgl"
           }
          ],
          "histogram": [
           {
            "marker": {
             "pattern": {
              "fillmode": "overlay",
              "size": 10,
              "solidity": 0.2
             }
            },
            "type": "histogram"
           }
          ],
          "histogram2d": [
           {
            "colorbar": {
             "outlinewidth": 0,
             "ticks": ""
            },
            "colorscale": [
             [
              0,
              "#0d0887"
             ],
             [
              0.1111111111111111,
              "#46039f"
             ],
             [
              0.2222222222222222,
              "#7201a8"
             ],
             [
              0.3333333333333333,
              "#9c179e"
             ],
             [
              0.4444444444444444,
              "#bd3786"
             ],
             [
              0.5555555555555556,
              "#d8576b"
             ],
             [
              0.6666666666666666,
              "#ed7953"
             ],
             [
              0.7777777777777778,
              "#fb9f3a"
             ],
             [
              0.8888888888888888,
              "#fdca26"
             ],
             [
              1,
              "#f0f921"
             ]
            ],
            "type": "histogram2d"
           }
          ],
          "histogram2dcontour": [
           {
            "colorbar": {
             "outlinewidth": 0,
             "ticks": ""
            },
            "colorscale": [
             [
              0,
              "#0d0887"
             ],
             [
              0.1111111111111111,
              "#46039f"
             ],
             [
              0.2222222222222222,
              "#7201a8"
             ],
             [
              0.3333333333333333,
              "#9c179e"
             ],
             [
              0.4444444444444444,
              "#bd3786"
             ],
             [
              0.5555555555555556,
              "#d8576b"
             ],
             [
              0.6666666666666666,
              "#ed7953"
             ],
             [
              0.7777777777777778,
              "#fb9f3a"
             ],
             [
              0.8888888888888888,
              "#fdca26"
             ],
             [
              1,
              "#f0f921"
             ]
            ],
            "type": "histogram2dcontour"
           }
          ],
          "mesh3d": [
           {
            "colorbar": {
             "outlinewidth": 0,
             "ticks": ""
            },
            "type": "mesh3d"
           }
          ],
          "parcoords": [
           {
            "line": {
             "colorbar": {
              "outlinewidth": 0,
              "ticks": ""
             }
            },
            "type": "parcoords"
           }
          ],
          "pie": [
           {
            "automargin": true,
            "type": "pie"
           }
          ],
          "scatter": [
           {
            "fillpattern": {
             "fillmode": "overlay",
             "size": 10,
             "solidity": 0.2
            },
            "type": "scatter"
           }
          ],
          "scatter3d": [
           {
            "line": {
             "colorbar": {
              "outlinewidth": 0,
              "ticks": ""
             }
            },
            "marker": {
             "colorbar": {
              "outlinewidth": 0,
              "ticks": ""
             }
            },
            "type": "scatter3d"
           }
          ],
          "scattercarpet": [
           {
            "marker": {
             "colorbar": {
              "outlinewidth": 0,
              "ticks": ""
             }
            },
            "type": "scattercarpet"
           }
          ],
          "scattergeo": [
           {
            "marker": {
             "colorbar": {
              "outlinewidth": 0,
              "ticks": ""
             }
            },
            "type": "scattergeo"
           }
          ],
          "scattergl": [
           {
            "marker": {
             "colorbar": {
              "outlinewidth": 0,
              "ticks": ""
             }
            },
            "type": "scattergl"
           }
          ],
          "scattermapbox": [
           {
            "marker": {
             "colorbar": {
              "outlinewidth": 0,
              "ticks": ""
             }
            },
            "type": "scattermapbox"
           }
          ],
          "scatterpolar": [
           {
            "marker": {
             "colorbar": {
              "outlinewidth": 0,
              "ticks": ""
             }
            },
            "type": "scatterpolar"
           }
          ],
          "scatterpolargl": [
           {
            "marker": {
             "colorbar": {
              "outlinewidth": 0,
              "ticks": ""
             }
            },
            "type": "scatterpolargl"
           }
          ],
          "scatterternary": [
           {
            "marker": {
             "colorbar": {
              "outlinewidth": 0,
              "ticks": ""
             }
            },
            "type": "scatterternary"
           }
          ],
          "surface": [
           {
            "colorbar": {
             "outlinewidth": 0,
             "ticks": ""
            },
            "colorscale": [
             [
              0,
              "#0d0887"
             ],
             [
              0.1111111111111111,
              "#46039f"
             ],
             [
              0.2222222222222222,
              "#7201a8"
             ],
             [
              0.3333333333333333,
              "#9c179e"
             ],
             [
              0.4444444444444444,
              "#bd3786"
             ],
             [
              0.5555555555555556,
              "#d8576b"
             ],
             [
              0.6666666666666666,
              "#ed7953"
             ],
             [
              0.7777777777777778,
              "#fb9f3a"
             ],
             [
              0.8888888888888888,
              "#fdca26"
             ],
             [
              1,
              "#f0f921"
             ]
            ],
            "type": "surface"
           }
          ],
          "table": [
           {
            "cells": {
             "fill": {
              "color": "#EBF0F8"
             },
             "line": {
              "color": "white"
             }
            },
            "header": {
             "fill": {
              "color": "#C8D4E3"
             },
             "line": {
              "color": "white"
             }
            },
            "type": "table"
           }
          ]
         },
         "layout": {
          "annotationdefaults": {
           "arrowcolor": "#2a3f5f",
           "arrowhead": 0,
           "arrowwidth": 1
          },
          "autotypenumbers": "strict",
          "coloraxis": {
           "colorbar": {
            "outlinewidth": 0,
            "ticks": ""
           }
          },
          "colorscale": {
           "diverging": [
            [
             0,
             "#8e0152"
            ],
            [
             0.1,
             "#c51b7d"
            ],
            [
             0.2,
             "#de77ae"
            ],
            [
             0.3,
             "#f1b6da"
            ],
            [
             0.4,
             "#fde0ef"
            ],
            [
             0.5,
             "#f7f7f7"
            ],
            [
             0.6,
             "#e6f5d0"
            ],
            [
             0.7,
             "#b8e186"
            ],
            [
             0.8,
             "#7fbc41"
            ],
            [
             0.9,
             "#4d9221"
            ],
            [
             1,
             "#276419"
            ]
           ],
           "sequential": [
            [
             0,
             "#0d0887"
            ],
            [
             0.1111111111111111,
             "#46039f"
            ],
            [
             0.2222222222222222,
             "#7201a8"
            ],
            [
             0.3333333333333333,
             "#9c179e"
            ],
            [
             0.4444444444444444,
             "#bd3786"
            ],
            [
             0.5555555555555556,
             "#d8576b"
            ],
            [
             0.6666666666666666,
             "#ed7953"
            ],
            [
             0.7777777777777778,
             "#fb9f3a"
            ],
            [
             0.8888888888888888,
             "#fdca26"
            ],
            [
             1,
             "#f0f921"
            ]
           ],
           "sequentialminus": [
            [
             0,
             "#0d0887"
            ],
            [
             0.1111111111111111,
             "#46039f"
            ],
            [
             0.2222222222222222,
             "#7201a8"
            ],
            [
             0.3333333333333333,
             "#9c179e"
            ],
            [
             0.4444444444444444,
             "#bd3786"
            ],
            [
             0.5555555555555556,
             "#d8576b"
            ],
            [
             0.6666666666666666,
             "#ed7953"
            ],
            [
             0.7777777777777778,
             "#fb9f3a"
            ],
            [
             0.8888888888888888,
             "#fdca26"
            ],
            [
             1,
             "#f0f921"
            ]
           ]
          },
          "colorway": [
           "#636efa",
           "#EF553B",
           "#00cc96",
           "#ab63fa",
           "#FFA15A",
           "#19d3f3",
           "#FF6692",
           "#B6E880",
           "#FF97FF",
           "#FECB52"
          ],
          "font": {
           "color": "#2a3f5f"
          },
          "geo": {
           "bgcolor": "white",
           "lakecolor": "white",
           "landcolor": "#E5ECF6",
           "showlakes": true,
           "showland": true,
           "subunitcolor": "white"
          },
          "hoverlabel": {
           "align": "left"
          },
          "hovermode": "closest",
          "mapbox": {
           "style": "light"
          },
          "paper_bgcolor": "white",
          "plot_bgcolor": "#E5ECF6",
          "polar": {
           "angularaxis": {
            "gridcolor": "white",
            "linecolor": "white",
            "ticks": ""
           },
           "bgcolor": "#E5ECF6",
           "radialaxis": {
            "gridcolor": "white",
            "linecolor": "white",
            "ticks": ""
           }
          },
          "scene": {
           "xaxis": {
            "backgroundcolor": "#E5ECF6",
            "gridcolor": "white",
            "gridwidth": 2,
            "linecolor": "white",
            "showbackground": true,
            "ticks": "",
            "zerolinecolor": "white"
           },
           "yaxis": {
            "backgroundcolor": "#E5ECF6",
            "gridcolor": "white",
            "gridwidth": 2,
            "linecolor": "white",
            "showbackground": true,
            "ticks": "",
            "zerolinecolor": "white"
           },
           "zaxis": {
            "backgroundcolor": "#E5ECF6",
            "gridcolor": "white",
            "gridwidth": 2,
            "linecolor": "white",
            "showbackground": true,
            "ticks": "",
            "zerolinecolor": "white"
           }
          },
          "shapedefaults": {
           "line": {
            "color": "#2a3f5f"
           }
          },
          "ternary": {
           "aaxis": {
            "gridcolor": "white",
            "linecolor": "white",
            "ticks": ""
           },
           "baxis": {
            "gridcolor": "white",
            "linecolor": "white",
            "ticks": ""
           },
           "bgcolor": "#E5ECF6",
           "caxis": {
            "gridcolor": "white",
            "linecolor": "white",
            "ticks": ""
           }
          },
          "title": {
           "x": 0.05
          },
          "xaxis": {
           "automargin": true,
           "gridcolor": "white",
           "linecolor": "white",
           "ticks": "",
           "title": {
            "standoff": 15
           },
           "zerolinecolor": "white",
           "zerolinewidth": 2
          },
          "yaxis": {
           "automargin": true,
           "gridcolor": "white",
           "linecolor": "white",
           "ticks": "",
           "title": {
            "standoff": 15
           },
           "zerolinecolor": "white",
           "zerolinewidth": 2
          }
         }
        },
        "title": {
         "text": "gt_pos_ratio",
         "x": 0.5
        },
        "yaxis": {
         "tickmode": "array",
         "tickvals": [
          "0.25",
          0.3,
          0.8
         ]
        }
       }
      }
     },
     "metadata": {},
     "output_type": "display_data"
    }
   ],
   "source": [
    "genVisMulitlabel(partEvalMetrics, \"gt_pos_ratio\")"
   ]
  },
  {
   "cell_type": "code",
   "execution_count": 154,
   "metadata": {},
   "outputs": [
    {
     "data": {
      "application/vnd.plotly.v1+json": {
       "config": {
        "plotlyServerURL": "https://plot.ly"
       },
       "data": [
        {
         "text": [
          0.4027,
          0.7395,
          0.1746,
          0.1023,
          0.596,
          0.2567,
          0.2925,
          0.4806,
          0.3543,
          0.7314,
          0.1979,
          0.191,
          0.6931,
          0.1721,
          0.1754,
          0.0637,
          0.1878,
          0.1222,
          0.1386,
          0.0504,
          0.1664,
          0.2204,
          0.4784,
          0.2818
         ],
         "type": "bar",
         "x": [
          "vision_bonnet",
          "vision_bumper_front",
          "vision_door_front_rh",
          "vision_door_rear_rh",
          "vision_engine",
          "vision_fender_front_rh",
          "vision_front_panel",
          "vision_headlamp_rh",
          "vision_non_external",
          "vision_misc",
          "vision_wheel",
          "vision_windscreen_front",
          "vision_bumper_rear",
          "vision_rear_compartment",
          "vision_rear_panel",
          "vision_rear_quarter_rh",
          "vision_tail_lamp_rh",
          "vision_door_front_lh",
          "vision_door_rear_lh",
          "vision_rear_quarter_lh",
          "vision_tail_lamp_lh",
          "vision_fender_front_lh",
          "vision_headlamp_lh",
          "vision_grille"
         ],
         "y": [
          0.4027,
          0.7395,
          0.1746,
          0.1023,
          0.596,
          0.2567,
          0.2925,
          0.4806,
          0.3543,
          0.7314,
          0.1979,
          0.191,
          0.6931,
          0.1721,
          0.1754,
          0.0637,
          0.1878,
          0.1222,
          0.1386,
          0.0504,
          0.1664,
          0.2204,
          0.4784,
          0.2818
         ]
        }
       ],
       "layout": {
        "shapes": [
         {
          "line": {
           "color": "red",
           "width": 2
          },
          "type": "line",
          "x0": 0,
          "x1": 1,
          "xref": "x domain",
          "y0": 0.30290833333333333,
          "y1": 0.30290833333333333,
          "yref": "y"
         }
        ],
        "template": {
         "data": {
          "bar": [
           {
            "error_x": {
             "color": "#2a3f5f"
            },
            "error_y": {
             "color": "#2a3f5f"
            },
            "marker": {
             "line": {
              "color": "#E5ECF6",
              "width": 0.5
             },
             "pattern": {
              "fillmode": "overlay",
              "size": 10,
              "solidity": 0.2
             }
            },
            "type": "bar"
           }
          ],
          "barpolar": [
           {
            "marker": {
             "line": {
              "color": "#E5ECF6",
              "width": 0.5
             },
             "pattern": {
              "fillmode": "overlay",
              "size": 10,
              "solidity": 0.2
             }
            },
            "type": "barpolar"
           }
          ],
          "carpet": [
           {
            "aaxis": {
             "endlinecolor": "#2a3f5f",
             "gridcolor": "white",
             "linecolor": "white",
             "minorgridcolor": "white",
             "startlinecolor": "#2a3f5f"
            },
            "baxis": {
             "endlinecolor": "#2a3f5f",
             "gridcolor": "white",
             "linecolor": "white",
             "minorgridcolor": "white",
             "startlinecolor": "#2a3f5f"
            },
            "type": "carpet"
           }
          ],
          "choropleth": [
           {
            "colorbar": {
             "outlinewidth": 0,
             "ticks": ""
            },
            "type": "choropleth"
           }
          ],
          "contour": [
           {
            "colorbar": {
             "outlinewidth": 0,
             "ticks": ""
            },
            "colorscale": [
             [
              0,
              "#0d0887"
             ],
             [
              0.1111111111111111,
              "#46039f"
             ],
             [
              0.2222222222222222,
              "#7201a8"
             ],
             [
              0.3333333333333333,
              "#9c179e"
             ],
             [
              0.4444444444444444,
              "#bd3786"
             ],
             [
              0.5555555555555556,
              "#d8576b"
             ],
             [
              0.6666666666666666,
              "#ed7953"
             ],
             [
              0.7777777777777778,
              "#fb9f3a"
             ],
             [
              0.8888888888888888,
              "#fdca26"
             ],
             [
              1,
              "#f0f921"
             ]
            ],
            "type": "contour"
           }
          ],
          "contourcarpet": [
           {
            "colorbar": {
             "outlinewidth": 0,
             "ticks": ""
            },
            "type": "contourcarpet"
           }
          ],
          "heatmap": [
           {
            "colorbar": {
             "outlinewidth": 0,
             "ticks": ""
            },
            "colorscale": [
             [
              0,
              "#0d0887"
             ],
             [
              0.1111111111111111,
              "#46039f"
             ],
             [
              0.2222222222222222,
              "#7201a8"
             ],
             [
              0.3333333333333333,
              "#9c179e"
             ],
             [
              0.4444444444444444,
              "#bd3786"
             ],
             [
              0.5555555555555556,
              "#d8576b"
             ],
             [
              0.6666666666666666,
              "#ed7953"
             ],
             [
              0.7777777777777778,
              "#fb9f3a"
             ],
             [
              0.8888888888888888,
              "#fdca26"
             ],
             [
              1,
              "#f0f921"
             ]
            ],
            "type": "heatmap"
           }
          ],
          "heatmapgl": [
           {
            "colorbar": {
             "outlinewidth": 0,
             "ticks": ""
            },
            "colorscale": [
             [
              0,
              "#0d0887"
             ],
             [
              0.1111111111111111,
              "#46039f"
             ],
             [
              0.2222222222222222,
              "#7201a8"
             ],
             [
              0.3333333333333333,
              "#9c179e"
             ],
             [
              0.4444444444444444,
              "#bd3786"
             ],
             [
              0.5555555555555556,
              "#d8576b"
             ],
             [
              0.6666666666666666,
              "#ed7953"
             ],
             [
              0.7777777777777778,
              "#fb9f3a"
             ],
             [
              0.8888888888888888,
              "#fdca26"
             ],
             [
              1,
              "#f0f921"
             ]
            ],
            "type": "heatmapgl"
           }
          ],
          "histogram": [
           {
            "marker": {
             "pattern": {
              "fillmode": "overlay",
              "size": 10,
              "solidity": 0.2
             }
            },
            "type": "histogram"
           }
          ],
          "histogram2d": [
           {
            "colorbar": {
             "outlinewidth": 0,
             "ticks": ""
            },
            "colorscale": [
             [
              0,
              "#0d0887"
             ],
             [
              0.1111111111111111,
              "#46039f"
             ],
             [
              0.2222222222222222,
              "#7201a8"
             ],
             [
              0.3333333333333333,
              "#9c179e"
             ],
             [
              0.4444444444444444,
              "#bd3786"
             ],
             [
              0.5555555555555556,
              "#d8576b"
             ],
             [
              0.6666666666666666,
              "#ed7953"
             ],
             [
              0.7777777777777778,
              "#fb9f3a"
             ],
             [
              0.8888888888888888,
              "#fdca26"
             ],
             [
              1,
              "#f0f921"
             ]
            ],
            "type": "histogram2d"
           }
          ],
          "histogram2dcontour": [
           {
            "colorbar": {
             "outlinewidth": 0,
             "ticks": ""
            },
            "colorscale": [
             [
              0,
              "#0d0887"
             ],
             [
              0.1111111111111111,
              "#46039f"
             ],
             [
              0.2222222222222222,
              "#7201a8"
             ],
             [
              0.3333333333333333,
              "#9c179e"
             ],
             [
              0.4444444444444444,
              "#bd3786"
             ],
             [
              0.5555555555555556,
              "#d8576b"
             ],
             [
              0.6666666666666666,
              "#ed7953"
             ],
             [
              0.7777777777777778,
              "#fb9f3a"
             ],
             [
              0.8888888888888888,
              "#fdca26"
             ],
             [
              1,
              "#f0f921"
             ]
            ],
            "type": "histogram2dcontour"
           }
          ],
          "mesh3d": [
           {
            "colorbar": {
             "outlinewidth": 0,
             "ticks": ""
            },
            "type": "mesh3d"
           }
          ],
          "parcoords": [
           {
            "line": {
             "colorbar": {
              "outlinewidth": 0,
              "ticks": ""
             }
            },
            "type": "parcoords"
           }
          ],
          "pie": [
           {
            "automargin": true,
            "type": "pie"
           }
          ],
          "scatter": [
           {
            "fillpattern": {
             "fillmode": "overlay",
             "size": 10,
             "solidity": 0.2
            },
            "type": "scatter"
           }
          ],
          "scatter3d": [
           {
            "line": {
             "colorbar": {
              "outlinewidth": 0,
              "ticks": ""
             }
            },
            "marker": {
             "colorbar": {
              "outlinewidth": 0,
              "ticks": ""
             }
            },
            "type": "scatter3d"
           }
          ],
          "scattercarpet": [
           {
            "marker": {
             "colorbar": {
              "outlinewidth": 0,
              "ticks": ""
             }
            },
            "type": "scattercarpet"
           }
          ],
          "scattergeo": [
           {
            "marker": {
             "colorbar": {
              "outlinewidth": 0,
              "ticks": ""
             }
            },
            "type": "scattergeo"
           }
          ],
          "scattergl": [
           {
            "marker": {
             "colorbar": {
              "outlinewidth": 0,
              "ticks": ""
             }
            },
            "type": "scattergl"
           }
          ],
          "scattermapbox": [
           {
            "marker": {
             "colorbar": {
              "outlinewidth": 0,
              "ticks": ""
             }
            },
            "type": "scattermapbox"
           }
          ],
          "scatterpolar": [
           {
            "marker": {
             "colorbar": {
              "outlinewidth": 0,
              "ticks": ""
             }
            },
            "type": "scatterpolar"
           }
          ],
          "scatterpolargl": [
           {
            "marker": {
             "colorbar": {
              "outlinewidth": 0,
              "ticks": ""
             }
            },
            "type": "scatterpolargl"
           }
          ],
          "scatterternary": [
           {
            "marker": {
             "colorbar": {
              "outlinewidth": 0,
              "ticks": ""
             }
            },
            "type": "scatterternary"
           }
          ],
          "surface": [
           {
            "colorbar": {
             "outlinewidth": 0,
             "ticks": ""
            },
            "colorscale": [
             [
              0,
              "#0d0887"
             ],
             [
              0.1111111111111111,
              "#46039f"
             ],
             [
              0.2222222222222222,
              "#7201a8"
             ],
             [
              0.3333333333333333,
              "#9c179e"
             ],
             [
              0.4444444444444444,
              "#bd3786"
             ],
             [
              0.5555555555555556,
              "#d8576b"
             ],
             [
              0.6666666666666666,
              "#ed7953"
             ],
             [
              0.7777777777777778,
              "#fb9f3a"
             ],
             [
              0.8888888888888888,
              "#fdca26"
             ],
             [
              1,
              "#f0f921"
             ]
            ],
            "type": "surface"
           }
          ],
          "table": [
           {
            "cells": {
             "fill": {
              "color": "#EBF0F8"
             },
             "line": {
              "color": "white"
             }
            },
            "header": {
             "fill": {
              "color": "#C8D4E3"
             },
             "line": {
              "color": "white"
             }
            },
            "type": "table"
           }
          ]
         },
         "layout": {
          "annotationdefaults": {
           "arrowcolor": "#2a3f5f",
           "arrowhead": 0,
           "arrowwidth": 1
          },
          "autotypenumbers": "strict",
          "coloraxis": {
           "colorbar": {
            "outlinewidth": 0,
            "ticks": ""
           }
          },
          "colorscale": {
           "diverging": [
            [
             0,
             "#8e0152"
            ],
            [
             0.1,
             "#c51b7d"
            ],
            [
             0.2,
             "#de77ae"
            ],
            [
             0.3,
             "#f1b6da"
            ],
            [
             0.4,
             "#fde0ef"
            ],
            [
             0.5,
             "#f7f7f7"
            ],
            [
             0.6,
             "#e6f5d0"
            ],
            [
             0.7,
             "#b8e186"
            ],
            [
             0.8,
             "#7fbc41"
            ],
            [
             0.9,
             "#4d9221"
            ],
            [
             1,
             "#276419"
            ]
           ],
           "sequential": [
            [
             0,
             "#0d0887"
            ],
            [
             0.1111111111111111,
             "#46039f"
            ],
            [
             0.2222222222222222,
             "#7201a8"
            ],
            [
             0.3333333333333333,
             "#9c179e"
            ],
            [
             0.4444444444444444,
             "#bd3786"
            ],
            [
             0.5555555555555556,
             "#d8576b"
            ],
            [
             0.6666666666666666,
             "#ed7953"
            ],
            [
             0.7777777777777778,
             "#fb9f3a"
            ],
            [
             0.8888888888888888,
             "#fdca26"
            ],
            [
             1,
             "#f0f921"
            ]
           ],
           "sequentialminus": [
            [
             0,
             "#0d0887"
            ],
            [
             0.1111111111111111,
             "#46039f"
            ],
            [
             0.2222222222222222,
             "#7201a8"
            ],
            [
             0.3333333333333333,
             "#9c179e"
            ],
            [
             0.4444444444444444,
             "#bd3786"
            ],
            [
             0.5555555555555556,
             "#d8576b"
            ],
            [
             0.6666666666666666,
             "#ed7953"
            ],
            [
             0.7777777777777778,
             "#fb9f3a"
            ],
            [
             0.8888888888888888,
             "#fdca26"
            ],
            [
             1,
             "#f0f921"
            ]
           ]
          },
          "colorway": [
           "#636efa",
           "#EF553B",
           "#00cc96",
           "#ab63fa",
           "#FFA15A",
           "#19d3f3",
           "#FF6692",
           "#B6E880",
           "#FF97FF",
           "#FECB52"
          ],
          "font": {
           "color": "#2a3f5f"
          },
          "geo": {
           "bgcolor": "white",
           "lakecolor": "white",
           "landcolor": "#E5ECF6",
           "showlakes": true,
           "showland": true,
           "subunitcolor": "white"
          },
          "hoverlabel": {
           "align": "left"
          },
          "hovermode": "closest",
          "mapbox": {
           "style": "light"
          },
          "paper_bgcolor": "white",
          "plot_bgcolor": "#E5ECF6",
          "polar": {
           "angularaxis": {
            "gridcolor": "white",
            "linecolor": "white",
            "ticks": ""
           },
           "bgcolor": "#E5ECF6",
           "radialaxis": {
            "gridcolor": "white",
            "linecolor": "white",
            "ticks": ""
           }
          },
          "scene": {
           "xaxis": {
            "backgroundcolor": "#E5ECF6",
            "gridcolor": "white",
            "gridwidth": 2,
            "linecolor": "white",
            "showbackground": true,
            "ticks": "",
            "zerolinecolor": "white"
           },
           "yaxis": {
            "backgroundcolor": "#E5ECF6",
            "gridcolor": "white",
            "gridwidth": 2,
            "linecolor": "white",
            "showbackground": true,
            "ticks": "",
            "zerolinecolor": "white"
           },
           "zaxis": {
            "backgroundcolor": "#E5ECF6",
            "gridcolor": "white",
            "gridwidth": 2,
            "linecolor": "white",
            "showbackground": true,
            "ticks": "",
            "zerolinecolor": "white"
           }
          },
          "shapedefaults": {
           "line": {
            "color": "#2a3f5f"
           }
          },
          "ternary": {
           "aaxis": {
            "gridcolor": "white",
            "linecolor": "white",
            "ticks": ""
           },
           "baxis": {
            "gridcolor": "white",
            "linecolor": "white",
            "ticks": ""
           },
           "bgcolor": "#E5ECF6",
           "caxis": {
            "gridcolor": "white",
            "linecolor": "white",
            "ticks": ""
           }
          },
          "title": {
           "x": 0.05
          },
          "xaxis": {
           "automargin": true,
           "gridcolor": "white",
           "linecolor": "white",
           "ticks": "",
           "title": {
            "standoff": 15
           },
           "zerolinecolor": "white",
           "zerolinewidth": 2
          },
          "yaxis": {
           "automargin": true,
           "gridcolor": "white",
           "linecolor": "white",
           "ticks": "",
           "title": {
            "standoff": 15
           },
           "zerolinecolor": "white",
           "zerolinewidth": 2
          }
         }
        },
        "title": {
         "text": "pred_pos_ratio",
         "x": 0.5
        },
        "yaxis": {
         "tickmode": "array",
         "tickvals": [
          "0.30",
          0.3,
          0.8
         ]
        }
       }
      }
     },
     "metadata": {},
     "output_type": "display_data"
    }
   ],
   "source": [
    "genVisMulitlabel(partEvalMetrics, \"pred_pos_ratio\")"
   ]
  },
  {
   "cell_type": "code",
   "execution_count": 155,
   "metadata": {},
   "outputs": [
    {
     "data": {
      "application/vnd.plotly.v1+json": {
       "config": {
        "plotlyServerURL": "https://plot.ly"
       },
       "data": [
        {
         "alignmentgroup": "True",
         "bingroup": "x",
         "hovertemplate": "subset_acc=%{x}<br>count=%{y}<extra></extra>",
         "legendgroup": "",
         "marker": {
          "color": "#636efa",
          "pattern": {
           "shape": ""
          }
         },
         "name": "",
         "offsetgroup": "",
         "orientation": "v",
         "showlegend": false,
         "type": "histogram",
         "x": [
          0.9166666666666666,
          0.8333333333333334,
          0.75,
          0.7916666666666666,
          0.75,
          0.7916666666666666,
          0.9166666666666666,
          0.8333333333333334,
          0.7083333333333334,
          0.9166666666666666,
          0.9583333333333334,
          0.9166666666666666,
          0.75,
          0.875,
          0.7916666666666666,
          0.8333333333333334,
          0.8333333333333334,
          0.8333333333333334,
          0.8333333333333334,
          0.7083333333333334,
          0.8333333333333334,
          0.8333333333333334,
          0.7083333333333334,
          0.8333333333333334,
          0.9583333333333334,
          0.7916666666666666,
          0.7083333333333334,
          0.75,
          0.7916666666666666,
          0.9583333333333334,
          0.8333333333333334,
          0.9166666666666666,
          1,
          0.8333333333333334,
          0.875,
          0.9166666666666666,
          0.7916666666666666,
          0.625,
          0.625,
          0.75,
          0.9166666666666666,
          0.6666666666666666,
          0.875,
          0.7916666666666666,
          0.7083333333333334,
          0.9583333333333334,
          0.7916666666666666,
          0.8333333333333334,
          0.8333333333333334,
          0.75,
          0.9166666666666666,
          0.8333333333333334,
          0.9166666666666666,
          0.875,
          0.7916666666666666,
          0.8333333333333334,
          0.7916666666666666,
          0.75,
          0.8333333333333334,
          0.7083333333333334,
          0.9583333333333334,
          0.8333333333333334,
          0.9166666666666666,
          0.7916666666666666,
          0.9166666666666666,
          0.875,
          0.8333333333333334,
          0.7083333333333334,
          0.9583333333333334,
          0.9166666666666666,
          0.7916666666666666,
          0.8333333333333334,
          0.7083333333333334,
          0.8333333333333334,
          0.8333333333333334,
          0.75,
          0.875,
          0.75,
          0.8333333333333334,
          0.875,
          0.875,
          0.875,
          0.8333333333333334,
          0.9166666666666666,
          0.875,
          0.7083333333333334,
          0.75,
          0.9583333333333334,
          0.7083333333333334,
          0.6666666666666666,
          0.6666666666666666,
          0.9583333333333334,
          0.7083333333333334,
          0.7916666666666666,
          0.8333333333333334,
          0.9166666666666666,
          0.8333333333333334,
          0.9166666666666666,
          0.7083333333333334,
          0.875,
          0.9583333333333334,
          0.8333333333333334,
          0.7083333333333334,
          0.8333333333333334,
          0.75,
          0.8333333333333334,
          0.9166666666666666,
          0.7083333333333334,
          0.6666666666666666,
          0.9166666666666666,
          0.7083333333333334,
          0.9583333333333334,
          0.75,
          0.8333333333333334,
          0.7916666666666666,
          0.7916666666666666,
          0.5833333333333334,
          0.9166666666666666,
          0.9583333333333334,
          0.875,
          0.9583333333333334,
          0.8333333333333334,
          0.9166666666666666,
          0.9166666666666666,
          0.7916666666666666,
          0.875,
          0.875,
          0.8333333333333334,
          0.75,
          0.875,
          0.7916666666666666,
          0.9166666666666666,
          0.875,
          0.7916666666666666,
          0.7916666666666666,
          0.8333333333333334,
          0.8333333333333334,
          0.75,
          0.9583333333333334,
          0.7916666666666666,
          0.875,
          0.7916666666666666,
          0.8333333333333334,
          0.75,
          0.875,
          0.75,
          0.6666666666666666,
          0.6666666666666666,
          0.9166666666666666,
          0.75,
          0.875,
          0.9166666666666666,
          0.8333333333333334,
          0.7916666666666666,
          0.9166666666666666,
          0.9166666666666666,
          0.75,
          0.7916666666666666,
          0.875,
          0.8333333333333334,
          0.7083333333333334,
          0.7083333333333334,
          0.7916666666666666,
          0.9166666666666666,
          0.875,
          0.7916666666666666,
          0.8333333333333334,
          0.75,
          0.875,
          0.9166666666666666,
          0.875,
          0.6666666666666666,
          0.75,
          1,
          0.8333333333333334,
          0.9583333333333334,
          0.875,
          0.625,
          0.75,
          0.7916666666666666,
          0.8333333333333334,
          0.7916666666666666,
          0.8333333333333334,
          0.8333333333333334,
          0.6666666666666666,
          0.875,
          0.875,
          0.9166666666666666,
          0.8333333333333334,
          0.875,
          0.7083333333333334,
          0.9583333333333334,
          0.7916666666666666,
          0.875,
          0.9166666666666666,
          0.875,
          1,
          0.9166666666666666,
          0.9583333333333334,
          0.7916666666666666,
          0.875,
          0.9166666666666666,
          0.7083333333333334,
          0.9583333333333334,
          1,
          0.9166666666666666,
          0.8333333333333334,
          0.7083333333333334,
          0.875,
          0.6666666666666666,
          0.75,
          0.875,
          1,
          0.875,
          0.7916666666666666,
          0.875,
          0.6666666666666666,
          0.875,
          0.875,
          0.875,
          0.75,
          0.75,
          0.7083333333333334,
          0.9583333333333334,
          0.7916666666666666,
          0.9166666666666666,
          0.8333333333333334,
          0.9166666666666666,
          0.6666666666666666,
          0.875,
          0.75,
          0.9166666666666666,
          0.7916666666666666,
          0.8333333333333334,
          0.7916666666666666,
          0.75,
          0.8333333333333334,
          0.9166666666666666,
          0.8333333333333334,
          0.7916666666666666,
          0.8333333333333334,
          0.75,
          0.7916666666666666,
          0.8333333333333334,
          0.8333333333333334,
          0.9166666666666666,
          0.875,
          0.7916666666666666,
          0.7916666666666666,
          0.9583333333333334,
          0.875,
          0.7083333333333334,
          0.9583333333333334,
          0.9166666666666666,
          0.875,
          0.75,
          0.7916666666666666,
          0.875,
          0.875,
          0.9166666666666666,
          0.875,
          0.875,
          0.7083333333333334,
          0.75,
          0.9166666666666666,
          0.8333333333333334,
          0.7916666666666666,
          0.9166666666666666,
          0.875,
          0.9166666666666666,
          0.875,
          0.9583333333333334,
          0.7916666666666666,
          0.75,
          0.75,
          0.75,
          0.8333333333333334,
          0.9583333333333334,
          0.7083333333333334,
          0.8333333333333334,
          0.8333333333333334,
          0.8333333333333334,
          0.8333333333333334,
          0.7916666666666666,
          0.7916666666666666,
          0.7916666666666666,
          0.75,
          0.8333333333333334,
          0.9166666666666666,
          0.8333333333333334,
          1,
          0.6666666666666666,
          0.875,
          0.8333333333333334,
          0.75,
          0.8333333333333334,
          0.9166666666666666,
          0.9166666666666666,
          0.9166666666666666,
          0.9166666666666666,
          0.6666666666666666,
          0.8333333333333334,
          0.9166666666666666,
          0.875,
          0.8333333333333334,
          0.7916666666666666,
          0.9583333333333334,
          0.625,
          0.875,
          0.875,
          0.625,
          0.8333333333333334,
          0.7083333333333334,
          0.875,
          0.875,
          0.8333333333333334,
          0.5833333333333334,
          0.7083333333333334,
          0.8333333333333334,
          0.9166666666666666,
          0.875,
          0.875,
          0.75,
          0.7916666666666666,
          0.7083333333333334,
          0.875,
          0.8333333333333334,
          0.875,
          0.875,
          0.9166666666666666,
          0.9583333333333334,
          0.75,
          1,
          0.75,
          0.75,
          0.8333333333333334,
          0.9166666666666666,
          0.9166666666666666,
          0.8333333333333334,
          0.7083333333333334,
          0.7916666666666666,
          0.875,
          0.875,
          0.7916666666666666,
          0.8333333333333334,
          0.625,
          0.9166666666666666,
          0.875,
          0.9166666666666666,
          0.7916666666666666,
          0.875,
          0.8333333333333334,
          0.6666666666666666,
          0.7083333333333334,
          0.6666666666666666,
          0.9166666666666666,
          1,
          0.9166666666666666,
          0.75,
          0.7083333333333334,
          0.8333333333333334,
          0.8333333333333334,
          0.9166666666666666,
          0.9583333333333334,
          0.75,
          0.625,
          0.875,
          0.9583333333333334,
          0.875,
          0.75,
          0.9166666666666666,
          0.75,
          0.7083333333333334,
          0.9583333333333334,
          0.8333333333333334,
          0.875,
          0.9166666666666666,
          0.7083333333333334,
          0.9583333333333334,
          0.9166666666666666,
          0.8333333333333334,
          0.75,
          0.9583333333333334,
          0.5833333333333334,
          0.9166666666666666,
          0.8333333333333334,
          0.8333333333333334,
          0.75,
          0.8333333333333334,
          0.9583333333333334,
          0.8333333333333334,
          0.75,
          0.9166666666666666,
          0.7916666666666666,
          0.875,
          0.9583333333333334,
          0.9166666666666666,
          0.9166666666666666,
          0.875,
          0.8333333333333334,
          0.875,
          0.875,
          0.8333333333333334,
          0.875,
          0.9583333333333334,
          0.7916666666666666,
          1,
          0.7916666666666666,
          0.75,
          0.8333333333333334,
          0.8333333333333334,
          0.8333333333333334,
          0.75,
          0.9166666666666666,
          0.8333333333333334,
          0.875,
          0.7916666666666666,
          0.9583333333333334,
          0.9166666666666666,
          0.875,
          0.75,
          0.9583333333333334,
          0.8333333333333334,
          0.7916666666666666,
          0.8333333333333334,
          0.875,
          0.8333333333333334,
          0.875,
          0.875,
          1,
          0.75,
          0.625,
          0.8333333333333334,
          0.9166666666666666,
          0.875,
          0.8333333333333334,
          0.7916666666666666,
          0.9166666666666666,
          0.9166666666666666,
          0.8333333333333334,
          0.9166666666666666,
          0.875,
          0.8333333333333334,
          0.8333333333333334,
          0.8333333333333334,
          0.7083333333333334,
          0.75,
          0.9583333333333334,
          0.8333333333333334,
          0.875,
          0.75,
          0.875,
          1,
          0.875,
          0.75,
          0.8333333333333334,
          0.8333333333333334,
          0.7083333333333334,
          0.875,
          0.7916666666666666,
          0.6666666666666666,
          0.625,
          0.8333333333333334,
          0.8333333333333334,
          0.8333333333333334,
          0.7916666666666666,
          0.9166666666666666,
          0.9166666666666666,
          0.9166666666666666,
          0.875,
          0.9166666666666666,
          0.8333333333333334,
          0.75,
          0.7083333333333334,
          0.9166666666666666,
          0.8333333333333334,
          0.875,
          0.875,
          0.7916666666666666,
          0.7916666666666666,
          1,
          0.75,
          0.875,
          0.875,
          1,
          0.8333333333333334,
          0.7916666666666666,
          0.7916666666666666,
          0.9166666666666666,
          0.75,
          0.8333333333333334,
          0.75,
          0.7916666666666666,
          0.7916666666666666,
          0.8333333333333334,
          0.8333333333333334,
          0.75,
          0.9166666666666666,
          0.75,
          0.9583333333333334,
          0.7916666666666666,
          0.9166666666666666,
          0.7916666666666666,
          0.75,
          0.875,
          0.8333333333333334,
          0.7083333333333334,
          0.7083333333333334,
          0.8333333333333334,
          0.75,
          0.9166666666666666,
          0.8333333333333334,
          0.875,
          0.8333333333333334,
          0.7916666666666666,
          0.75,
          0.9166666666666666,
          0.875,
          0.7916666666666666,
          0.6666666666666666,
          0.8333333333333334,
          0.75,
          0.8333333333333334,
          0.75,
          0.75,
          0.75,
          0.9166666666666666,
          0.9166666666666666,
          0.8333333333333334,
          0.8333333333333334,
          0.7916666666666666,
          0.7916666666666666,
          0.6666666666666666,
          0.7083333333333334,
          0.8333333333333334,
          0.9166666666666666,
          0.7083333333333334,
          0.75,
          0.6666666666666666,
          0.7916666666666666,
          0.75,
          0.875,
          0.8333333333333334,
          0.625,
          0.8333333333333334,
          0.9166666666666666,
          0.6666666666666666,
          0.8333333333333334,
          0.7916666666666666,
          0.9583333333333334,
          0.8333333333333334,
          0.875,
          0.7916666666666666,
          0.75,
          0.7916666666666666,
          0.7916666666666666,
          0.7916666666666666,
          0.7916666666666666,
          0.8333333333333334,
          0.875,
          0.7916666666666666,
          0.7083333333333334,
          0.7916666666666666,
          0.9583333333333334,
          0.875,
          0.6666666666666666,
          0.7916666666666666,
          0.75,
          0.75,
          0.875,
          0.75,
          0.8333333333333334,
          0.9166666666666666,
          0.9583333333333334,
          0.9583333333333334,
          0.875,
          0.875,
          0.9166666666666666,
          0.8333333333333334,
          0.7916666666666666,
          0.9583333333333334,
          0.7916666666666666,
          0.8333333333333334,
          0.7916666666666666,
          0.8333333333333334,
          0.7916666666666666,
          0.9583333333333334,
          0.9583333333333334,
          0.9583333333333334,
          0.9583333333333334,
          0.7083333333333334,
          0.9166666666666666,
          0.625,
          0.8333333333333334,
          0.875,
          0.9166666666666666,
          0.9166666666666666,
          0.875,
          0.8333333333333334,
          0.8333333333333334,
          0.7916666666666666,
          0.8333333333333334,
          0.9583333333333334,
          0.875,
          1,
          0.9166666666666666,
          0.9166666666666666,
          0.875,
          0.9583333333333334,
          0.7083333333333334,
          0.7916666666666666,
          0.875,
          0.75,
          0.7916666666666666,
          0.9583333333333334,
          0.8333333333333334,
          0.75,
          0.75,
          0.9583333333333334,
          0.8333333333333334,
          0.875,
          0.875,
          0.875,
          0.7916666666666666,
          0.875,
          0.7916666666666666,
          0.7916666666666666,
          0.8333333333333334,
          0.875,
          0.8333333333333334,
          0.7916666666666666,
          0.9583333333333334,
          0.75,
          0.9166666666666666,
          0.7916666666666666,
          0.75,
          0.75,
          0.9166666666666666,
          0.9583333333333334,
          0.875,
          0.875,
          0.5416666666666666,
          0.75,
          0.7916666666666666,
          0.875,
          0.7916666666666666,
          0.9166666666666666,
          0.7083333333333334,
          0.875,
          0.75,
          0.8333333333333334,
          0.8333333333333334,
          0.8333333333333334,
          0.8333333333333334,
          0.875,
          0.5833333333333334,
          0.875,
          0.875,
          0.8333333333333334,
          0.7083333333333334,
          0.7916666666666666,
          0.7083333333333334,
          1,
          0.75,
          0.875,
          0.9583333333333334,
          0.7916666666666666,
          0.875,
          0.7916666666666666,
          0.75,
          0.8333333333333334,
          0.8333333333333334,
          0.9166666666666666,
          0.875,
          0.9166666666666666,
          0.875,
          0.8333333333333334,
          0.7083333333333334,
          0.9166666666666666,
          0.7916666666666666,
          0.7916666666666666,
          0.7916666666666666,
          0.8333333333333334,
          0.7916666666666666,
          0.875,
          0.7916666666666666,
          0.875,
          0.9166666666666666,
          0.7916666666666666,
          0.9166666666666666,
          0.7916666666666666,
          0.7916666666666666,
          0.9166666666666666,
          0.875,
          0.8333333333333334,
          0.75,
          0.9166666666666666,
          0.875,
          0.75,
          0.7083333333333334,
          0.875,
          0.9166666666666666,
          0.875,
          0.75,
          0.875,
          0.875,
          0.7916666666666666,
          0.6666666666666666,
          0.75,
          0.875,
          0.9166666666666666,
          0.8333333333333334,
          0.9166666666666666,
          0.875,
          0.875,
          0.7916666666666666,
          0.8333333333333334,
          0.9583333333333334,
          0.8333333333333334,
          0.875,
          0.75,
          0.9166666666666666,
          0.875,
          0.875,
          0.75,
          0.875,
          0.8333333333333334,
          0.7083333333333334,
          0.875,
          0.9583333333333334,
          0.8333333333333334,
          0.9583333333333334,
          0.9166666666666666,
          0.6666666666666666,
          0.5833333333333334,
          1,
          0.8333333333333334,
          0.7916666666666666,
          0.7083333333333334,
          0.7083333333333334,
          0.875,
          0.7916666666666666,
          0.7083333333333334,
          0.875,
          0.875,
          0.8333333333333334,
          0.7916666666666666,
          0.9166666666666666,
          0.8333333333333334,
          0.875,
          0.7083333333333334,
          0.7083333333333334,
          0.7083333333333334,
          0.8333333333333334,
          0.625,
          0.8333333333333334,
          0.7916666666666666,
          0.7916666666666666,
          0.8333333333333334,
          0.8333333333333334,
          0.7916666666666666,
          0.875,
          0.75,
          0.9166666666666666,
          0.6666666666666666,
          0.875,
          0.7916666666666666,
          0.7916666666666666,
          0.9583333333333334,
          0.875,
          0.8333333333333334,
          0.75,
          0.875,
          0.75,
          0.875,
          0.875,
          0.7916666666666666,
          0.7083333333333334,
          0.6666666666666666,
          1,
          0.7916666666666666,
          0.9583333333333334,
          0.875,
          0.7083333333333334,
          0.8333333333333334,
          0.9583333333333334,
          0.75,
          0.625,
          0.9166666666666666,
          0.875,
          0.7916666666666666,
          0.9166666666666666,
          0.875,
          0.8333333333333334,
          0.7916666666666666,
          0.7916666666666666,
          0.9583333333333334,
          0.75,
          0.7916666666666666,
          0.9583333333333334,
          0.875,
          0.8333333333333334,
          0.8333333333333334,
          0.7083333333333334,
          0.9166666666666666,
          0.5833333333333334,
          0.875,
          0.9166666666666666,
          0.875,
          0.9166666666666666,
          0.8333333333333334,
          0.8333333333333334,
          1,
          0.9166666666666666,
          0.8333333333333334,
          0.8333333333333334,
          0.8333333333333334,
          0.875,
          0.875,
          0.875,
          0.7916666666666666,
          0.7916666666666666,
          0.8333333333333334,
          0.9583333333333334,
          0.7916666666666666,
          0.9583333333333334,
          0.9166666666666666,
          0.9166666666666666,
          0.9583333333333334,
          0.75,
          0.875,
          0.875,
          0.7916666666666666,
          0.8333333333333334,
          0.8333333333333334,
          0.7083333333333334,
          0.75,
          0.9166666666666666,
          0.875,
          0.875,
          0.5833333333333334,
          0.7916666666666666,
          0.9583333333333334,
          0.9166666666666666,
          0.7083333333333334,
          0.875,
          0.8333333333333334,
          0.875,
          0.5833333333333334,
          0.7916666666666666,
          0.75,
          0.9166666666666666,
          0.75,
          0.875,
          0.8333333333333334,
          0.7916666666666666,
          0.9166666666666666,
          0.9583333333333334,
          0.875,
          0.7083333333333334,
          0.9166666666666666,
          0.7916666666666666,
          0.625,
          0.8333333333333334,
          0.625,
          0.9166666666666666,
          0.875,
          0.875,
          0.75,
          0.8333333333333334,
          0.9166666666666666,
          0.9583333333333334,
          0.9166666666666666,
          0.875,
          0.875,
          0.875,
          0.7083333333333334,
          0.75,
          0.875,
          0.8333333333333334,
          0.6666666666666666,
          0.6666666666666666,
          0.875,
          0.9583333333333334,
          0.625,
          0.75,
          0.875,
          0.7916666666666666,
          0.7916666666666666,
          0.9166666666666666,
          0.9583333333333334,
          0.7916666666666666,
          0.6666666666666666,
          0.875,
          0.8333333333333334,
          0.875,
          0.75,
          0.75,
          0.8333333333333334,
          0.6666666666666666,
          0.9166666666666666,
          0.875,
          0.875,
          0.8333333333333334,
          0.5833333333333334,
          0.9166666666666666,
          1,
          0.9166666666666666,
          0.875,
          0.9166666666666666,
          0.9166666666666666,
          0.7916666666666666,
          0.8333333333333334,
          0.625,
          0.8333333333333334,
          0.75,
          0.8333333333333334,
          0.7083333333333334,
          0.6666666666666666,
          0.7916666666666666,
          0.875,
          0.875,
          0.875,
          0.875,
          0.875,
          0.8333333333333334,
          0.9166666666666666,
          0.9166666666666666,
          0.8333333333333334,
          0.8333333333333334,
          0.9583333333333334,
          0.7916666666666666,
          0.7916666666666666,
          0.8333333333333334,
          0.875,
          0.7083333333333334,
          0.9583333333333334,
          0.5416666666666666,
          0.8333333333333334,
          0.75,
          1,
          0.9166666666666666,
          0.7916666666666666,
          0.9583333333333334,
          0.75,
          0.9583333333333334,
          0.7083333333333334,
          0.625,
          0.75,
          0.9583333333333334,
          0.75,
          0.8333333333333334,
          0.875,
          0.9583333333333334,
          0.75,
          0.8333333333333334,
          0.875,
          0.7916666666666666,
          0.9166666666666666,
          0.875,
          0.875,
          0.9166666666666666,
          0.75,
          0.7083333333333334,
          0.8333333333333334,
          0.7916666666666666,
          0.8333333333333334,
          0.9583333333333334,
          0.75,
          0.7916666666666666,
          0.9166666666666666,
          0.75,
          0.9166666666666666,
          0.7916666666666666,
          0.7916666666666666,
          1,
          0.7083333333333334,
          0.7916666666666666,
          0.8333333333333334,
          0.875,
          0.875,
          0.7083333333333334,
          0.7916666666666666,
          0.75,
          0.5,
          0.7916666666666666,
          0.8333333333333334,
          1,
          0.875,
          0.7916666666666666,
          0.8333333333333334,
          0.875,
          0.875,
          0.625,
          0.9166666666666666,
          0.8333333333333334,
          0.625,
          0.6666666666666666,
          0.7916666666666666,
          0.9166666666666666,
          0.7083333333333334,
          0.75,
          0.8333333333333334,
          0.9166666666666666,
          0.9166666666666666,
          0.7083333333333334,
          0.7916666666666666,
          1,
          0.7916666666666666,
          0.9583333333333334,
          0.8333333333333334,
          0.875,
          0.9583333333333334,
          0.7916666666666666,
          0.875,
          0.875,
          0.9166666666666666,
          0.7916666666666666,
          0.9583333333333334,
          0.7916666666666666,
          0.8333333333333334,
          0.5416666666666666,
          0.8333333333333334,
          0.6666666666666666,
          0.9166666666666666,
          0.75,
          0.7083333333333334,
          0.75,
          0.8333333333333334,
          0.9166666666666666,
          0.875,
          0.75,
          1,
          0.7083333333333334,
          0.625,
          0.7916666666666666,
          0.9166666666666666,
          0.875,
          0.8333333333333334,
          0.8333333333333334,
          0.9583333333333334,
          0.75,
          0.75,
          0.8333333333333334,
          0.875,
          0.9583333333333334,
          0.8333333333333334,
          0.9583333333333334,
          0.7916666666666666,
          0.75,
          0.875,
          1,
          0.625,
          0.75,
          0.875,
          0.7916666666666666,
          0.9166666666666666,
          0.7916666666666666,
          0.7916666666666666,
          0.7916666666666666,
          0.9583333333333334,
          0.875,
          0.8333333333333334,
          0.8333333333333334,
          0.8333333333333334,
          0.875,
          0.9166666666666666,
          0.7916666666666666,
          0.8333333333333334,
          0.875,
          0.7916666666666666,
          0.75,
          0.9166666666666666,
          0.7916666666666666,
          0.6666666666666666,
          0.9166666666666666,
          0.625,
          0.7916666666666666,
          0.7916666666666666,
          0.75,
          0.8333333333333334,
          0.625,
          0.5,
          0.875,
          0.7916666666666666,
          0.875,
          0.9166666666666666,
          0.7916666666666666,
          0.9166666666666666,
          0.8333333333333334,
          0.9166666666666666,
          0.7916666666666666,
          0.9166666666666666,
          0.7916666666666666,
          0.7083333333333334,
          0.7916666666666666,
          0.8333333333333334,
          0.9583333333333334,
          0.9166666666666666,
          0.7916666666666666,
          0.75,
          0.9583333333333334,
          0.875,
          0.9166666666666666,
          0.9583333333333334,
          0.7916666666666666,
          0.9583333333333334,
          0.7916666666666666,
          0.9166666666666666,
          0.9583333333333334,
          0.75,
          0.9166666666666666,
          0.875,
          0.7916666666666666,
          0.75,
          0.8333333333333334,
          0.875,
          0.75,
          0.7916666666666666,
          0.8333333333333334,
          0.8333333333333334,
          0.875,
          0.7916666666666666,
          0.8333333333333334,
          0.875,
          1,
          0.875,
          0.75,
          0.8333333333333334,
          0.75,
          0.8333333333333334,
          0.8333333333333334,
          0.7916666666666666,
          0.7916666666666666,
          0.9583333333333334,
          0.9583333333333334,
          0.8333333333333334,
          0.9166666666666666,
          0.9166666666666666,
          0.9583333333333334,
          0.8333333333333334,
          0.7083333333333334,
          0.75,
          0.875,
          0.9583333333333334,
          0.7916666666666666,
          0.8333333333333334,
          0.7916666666666666,
          0.9166666666666666,
          1,
          0.875,
          0.75,
          0.9166666666666666,
          0.7083333333333334,
          0.875,
          0.9583333333333334,
          0.8333333333333334,
          1,
          0.7916666666666666,
          0.7916666666666666,
          0.7916666666666666,
          0.8333333333333334,
          0.9166666666666666,
          0.9583333333333334,
          0.875,
          0.6666666666666666,
          0.875,
          0.9166666666666666,
          0.8333333333333334,
          0.8333333333333334,
          0.9166666666666666,
          0.625,
          0.7916666666666666,
          0.7083333333333334,
          0.8333333333333334,
          0.7916666666666666,
          0.8333333333333334,
          0.9166666666666666,
          0.9166666666666666,
          0.625,
          0.875,
          0.875,
          0.875,
          0.9166666666666666,
          0.8333333333333334,
          0.7916666666666666,
          0.7916666666666666,
          0.9583333333333334,
          0.8333333333333334,
          0.8333333333333334,
          0.875,
          0.9166666666666666,
          0.875,
          0.8333333333333334,
          0.875,
          0.875,
          0.875,
          0.75,
          0.9583333333333334,
          0.8333333333333334,
          0.7916666666666666,
          0.8333333333333334,
          0.6666666666666666,
          0.7916666666666666,
          0.8333333333333334,
          0.875,
          0.75,
          0.75,
          0.8333333333333334,
          0.875,
          0.8333333333333334,
          0.9583333333333334,
          0.75,
          0.9166666666666666,
          0.9166666666666666,
          0.7916666666666666,
          0.7916666666666666,
          0.9583333333333334,
          0.7916666666666666,
          0.875,
          0.7916666666666666,
          0.8333333333333334,
          0.7083333333333334,
          0.7083333333333334,
          0.8333333333333334,
          0.8333333333333334,
          0.7083333333333334,
          0.7916666666666666,
          0.9583333333333334,
          0.875,
          0.7083333333333334,
          0.7083333333333334,
          0.7083333333333334,
          0.9166666666666666,
          0.6666666666666666,
          0.8333333333333334,
          0.875,
          0.8333333333333334,
          0.9166666666666666,
          0.9583333333333334,
          0.7916666666666666,
          0.875,
          0.9166666666666666,
          0.7916666666666666,
          1,
          0.875,
          0.875,
          0.75,
          0.8333333333333334,
          0.9166666666666666,
          0.75,
          0.9166666666666666,
          0.8333333333333334,
          0.4166666666666667,
          0.875,
          0.9583333333333334,
          0.875,
          0.75,
          0.9166666666666666,
          0.9166666666666666,
          0.875,
          0.75,
          0.875,
          0.9166666666666666,
          0.625,
          0.9166666666666666,
          0.75,
          0.9583333333333334,
          0.9583333333333334,
          0.875,
          0.875,
          0.8333333333333334,
          0.9583333333333334,
          0.5833333333333334,
          0.875,
          0.7916666666666666,
          0.9166666666666666,
          0.7916666666666666,
          0.75,
          0.9583333333333334,
          0.625,
          0.875,
          0.7083333333333334,
          0.9166666666666666,
          0.75,
          0.875,
          0.7083333333333334,
          0.9166666666666666,
          0.875,
          0.75,
          0.7916666666666666,
          0.75,
          0.875,
          0.7916666666666666,
          0.7916666666666666,
          1,
          0.75,
          0.875,
          0.875,
          0.875,
          0.8333333333333334,
          0.9583333333333334,
          0.875,
          0.5833333333333334,
          0.9583333333333334,
          1,
          0.7916666666666666,
          0.7083333333333334,
          0.9166666666666666,
          0.75,
          0.8333333333333334,
          0.8333333333333334,
          0.625,
          0.9583333333333334,
          0.7916666666666666,
          0.8333333333333334,
          0.7916666666666666,
          0.9166666666666666,
          0.875,
          0.9583333333333334,
          0.8333333333333334,
          0.6666666666666666,
          0.8333333333333334,
          0.75,
          0.8333333333333334,
          0.6666666666666666,
          0.8333333333333334,
          0.875,
          0.875,
          0.7916666666666666,
          0.8333333333333334,
          0.875,
          0.75,
          0.9166666666666666,
          0.875,
          0.875,
          0.875,
          0.8333333333333334,
          0.7916666666666666,
          0.8333333333333334,
          0.5,
          0.75,
          0.7916666666666666,
          0.8333333333333334,
          0.9166666666666666,
          0.8333333333333334,
          0.9166666666666666,
          0.7916666666666666,
          0.9583333333333334,
          0.75,
          0.6666666666666666,
          0.6666666666666666,
          0.875,
          0.7916666666666666,
          0.875,
          0.9166666666666666,
          0.8333333333333334,
          0.875,
          0.7916666666666666,
          0.5833333333333334,
          0.9166666666666666,
          0.8333333333333334,
          1,
          0.9166666666666666,
          0.7916666666666666,
          0.7916666666666666,
          0.625,
          0.75,
          0.9583333333333334,
          0.5833333333333334,
          0.9166666666666666,
          0.9583333333333334,
          0.9166666666666666,
          0.8333333333333334,
          0.875,
          0.8333333333333334,
          0.875,
          0.6666666666666666,
          0.8333333333333334,
          0.9166666666666666,
          0.8333333333333334,
          0.9583333333333334,
          0.875,
          0.75,
          0.8333333333333334,
          0.9583333333333334,
          0.7083333333333334,
          0.8333333333333334,
          0.9166666666666666,
          0.875,
          0.9166666666666666,
          0.875,
          0.875,
          0.9166666666666666,
          0.625,
          0.875,
          0.9166666666666666,
          0.75,
          0.6666666666666666,
          0.7083333333333334,
          0.875,
          1,
          0.8333333333333334,
          0.875,
          0.7083333333333334,
          0.75,
          0.7916666666666666,
          0.7916666666666666,
          0.75,
          0.75,
          0.875,
          0.875,
          0.7916666666666666,
          0.9166666666666666,
          0.75,
          0.875,
          0.9583333333333334,
          0.6666666666666666,
          0.8333333333333334,
          0.6666666666666666,
          0.8333333333333334,
          0.8333333333333334,
          0.7916666666666666,
          0.875,
          0.7916666666666666,
          0.7083333333333334,
          1,
          0.8333333333333334,
          0.8333333333333334,
          0.875,
          0.7083333333333334,
          0.7083333333333334,
          1,
          0.9583333333333334,
          0.9166666666666666,
          0.9166666666666666,
          0.7083333333333334,
          0.8333333333333334,
          0.8333333333333334,
          0.8333333333333334,
          0.875,
          0.8333333333333334,
          0.8333333333333334,
          0.9166666666666666,
          0.8333333333333334,
          0.7083333333333334,
          0.7916666666666666,
          0.8333333333333334,
          0.875,
          0.7083333333333334,
          0.8333333333333334,
          0.7083333333333334,
          0.8333333333333334,
          0.9583333333333334,
          0.8333333333333334,
          0.9583333333333334,
          0.8333333333333334,
          0.9583333333333334,
          0.75,
          0.7916666666666666,
          0.875,
          0.875,
          0.8333333333333334,
          0.875,
          0.875,
          0.75,
          0.8333333333333334,
          0.9583333333333334,
          0.7916666666666666,
          0.9166666666666666,
          0.8333333333333334,
          1,
          0.9583333333333334,
          0.7083333333333334,
          0.875,
          0.9166666666666666,
          0.7083333333333334,
          0.7916666666666666,
          0.8333333333333334,
          0.6666666666666666,
          0.7916666666666666,
          0.7916666666666666,
          0.75,
          0.8333333333333334,
          0.7916666666666666,
          0.8333333333333334,
          0.875,
          0.9166666666666666,
          0.7916666666666666,
          0.875,
          0.9166666666666666,
          0.8333333333333334,
          0.75,
          0.75,
          0.8333333333333334,
          0.7083333333333334,
          0.8333333333333334,
          0.875,
          0.9166666666666666,
          0.875,
          0.8333333333333334,
          0.7916666666666666,
          0.9583333333333334,
          0.875,
          0.9166666666666666,
          0.7916666666666666,
          0.7916666666666666,
          0.875,
          0.6666666666666666,
          0.7916666666666666,
          0.75,
          0.7083333333333334,
          0.9583333333333334,
          0.75,
          0.8333333333333334,
          0.75,
          0.8333333333333334,
          0.6666666666666666,
          0.8333333333333334,
          0.9166666666666666,
          0.875,
          0.7916666666666666,
          0.8333333333333334,
          0.8333333333333334,
          0.8333333333333334,
          0.875,
          0.9166666666666666,
          0.875,
          1,
          0.9583333333333334,
          0.9166666666666666,
          0.8333333333333334,
          0.8333333333333334,
          0.9166666666666666,
          0.9583333333333334,
          0.75,
          0.7083333333333334,
          0.7916666666666666,
          0.7916666666666666,
          0.8333333333333334,
          0.9583333333333334,
          0.7916666666666666,
          0.7083333333333334,
          0.7083333333333334,
          0.875,
          0.6666666666666666,
          0.8333333333333334,
          0.6666666666666666,
          0.8333333333333334,
          0.875,
          0.625,
          0.8333333333333334,
          0.8333333333333334,
          0.8333333333333334,
          0.7916666666666666,
          0.7916666666666666,
          0.7916666666666666,
          0.9166666666666666,
          0.8333333333333334,
          0.8333333333333334,
          0.8333333333333334,
          0.875,
          0.6666666666666666,
          0.8333333333333334,
          0.7916666666666666,
          0.7916666666666666,
          0.8333333333333334,
          0.7083333333333334,
          0.875,
          0.75,
          0.7083333333333334,
          0.9166666666666666,
          0.75,
          0.875,
          1,
          0.8333333333333334,
          0.9166666666666666,
          0.875,
          0.875,
          0.875,
          0.7916666666666666,
          0.875,
          0.6666666666666666,
          0.7083333333333334,
          0.9166666666666666,
          0.7083333333333334,
          0.8333333333333334,
          0.75,
          0.75,
          0.8333333333333334,
          0.7916666666666666,
          0.7083333333333334,
          0.625,
          0.8333333333333334,
          0.75,
          0.75,
          0.875,
          0.6666666666666666,
          0.625,
          0.875,
          0.875,
          0.7083333333333334,
          0.9166666666666666,
          0.7916666666666666,
          0.7916666666666666,
          0.75,
          0.7916666666666666,
          0.875,
          0.8333333333333334,
          0.8333333333333334,
          0.9166666666666666,
          0.875,
          0.875,
          0.8333333333333334,
          0.7083333333333334,
          0.9583333333333334,
          0.8333333333333334,
          0.9583333333333334,
          0.5,
          0.7916666666666666,
          0.8333333333333334,
          0.8333333333333334,
          0.8333333333333334,
          0.75,
          0.7916666666666666,
          0.7916666666666666,
          0.9166666666666666,
          0.7083333333333334,
          0.8333333333333334,
          0.875,
          0.875,
          0.75,
          0.7083333333333334,
          0.8333333333333334,
          0.9583333333333334,
          0.9166666666666666,
          0.7916666666666666,
          0.7083333333333334,
          0.875,
          0.625,
          0.8333333333333334,
          0.75,
          0.7916666666666666,
          0.7083333333333334,
          0.875,
          0.8333333333333334,
          0.6666666666666666,
          0.875,
          0.8333333333333334,
          0.8333333333333334,
          0.875,
          0.7916666666666666,
          0.75,
          1,
          0.625,
          0.75,
          0.7083333333333334,
          0.75,
          0.875,
          0.7083333333333334,
          0.5833333333333334,
          0.7916666666666666,
          0.7916666666666666,
          0.8333333333333334,
          0.875,
          0.8333333333333334,
          0.875,
          0.6666666666666666,
          0.875,
          0.7083333333333334,
          0.75,
          0.7916666666666666,
          0.7916666666666666,
          0.9166666666666666,
          0.7083333333333334,
          0.8333333333333334,
          0.875,
          0.875,
          0.8333333333333334,
          0.75,
          0.7916666666666666,
          0.8333333333333334,
          0.7083333333333334,
          0.75,
          0.875,
          0.7916666666666666,
          0.875,
          0.7916666666666666,
          0.8333333333333334,
          0.75,
          0.9583333333333334,
          0.9166666666666666,
          0.7916666666666666,
          0.875,
          0.9166666666666666,
          0.9166666666666666,
          0.75,
          0.8333333333333334,
          0.8333333333333334,
          1,
          0.8333333333333334,
          0.8333333333333334,
          0.75,
          0.875,
          0.8333333333333334,
          0.9583333333333334,
          0.8333333333333334,
          0.875,
          0.8333333333333334,
          0.8333333333333334,
          0.75,
          0.9166666666666666,
          0.875,
          0.875,
          0.7083333333333334,
          0.75,
          0.9166666666666666,
          0.5416666666666666,
          0.9166666666666666,
          0.5833333333333334,
          0.75,
          0.9166666666666666,
          0.875,
          0.8333333333333334,
          0.8333333333333334,
          0.75,
          0.75,
          0.7916666666666666,
          0.8333333333333334,
          0.7916666666666666,
          0.7916666666666666,
          0.5833333333333334,
          0.7083333333333334,
          0.875,
          0.875,
          0.7916666666666666,
          0.9166666666666666,
          0.7916666666666666,
          0.7916666666666666,
          0.9166666666666666,
          1,
          0.875,
          0.7916666666666666,
          0.7916666666666666,
          0.9166666666666666,
          0.875,
          0.75,
          0.7916666666666666,
          0.8333333333333334,
          0.75,
          0.7916666666666666,
          0.875,
          0.4583333333333333,
          0.8333333333333334,
          0.8333333333333334,
          0.75,
          1,
          0.9166666666666666,
          0.9166666666666666,
          0.75,
          0.7916666666666666,
          0.7916666666666666,
          0.9583333333333334,
          0.625,
          0.7916666666666666,
          0.7916666666666666,
          0.9166666666666666,
          0.875,
          0.7916666666666666,
          0.875,
          0.8333333333333334,
          0.7916666666666666,
          0.75,
          0.9583333333333334,
          0.875,
          0.875,
          0.4583333333333333,
          0.7916666666666666,
          0.9166666666666666,
          0.6666666666666666,
          0.8333333333333334,
          0.7916666666666666,
          0.75,
          0.8333333333333334,
          0.8333333333333334,
          0.9583333333333334,
          0.875,
          0.7916666666666666,
          0.875,
          0.7083333333333334,
          0.875,
          0.7916666666666666,
          0.7916666666666666,
          0.875,
          0.8333333333333334,
          0.875,
          0.8333333333333334,
          0.7916666666666666,
          0.8333333333333334,
          0.7916666666666666,
          0.7916666666666666,
          0.9166666666666666,
          0.625,
          0.6666666666666666,
          0.8333333333333334,
          0.875,
          0.75,
          0.9166666666666666,
          0.75,
          0.7916666666666666,
          0.75,
          0.875,
          0.75,
          0.7916666666666666,
          0.875,
          0.875,
          0.875,
          0.875,
          0.875,
          0.875,
          0.9166666666666666,
          0.875,
          0.875,
          0.8333333333333334,
          0.75,
          0.75,
          0.9583333333333334,
          0.9166666666666666,
          0.8333333333333334,
          0.875,
          0.9166666666666666,
          0.625,
          0.7916666666666666,
          0.7916666666666666,
          0.875,
          0.7083333333333334,
          0.8333333333333334,
          0.9166666666666666,
          0.9166666666666666,
          0.8333333333333334,
          0.625,
          0.875,
          0.5833333333333334,
          0.875,
          0.9166666666666666,
          0.6666666666666666,
          0.7083333333333334,
          0.8333333333333334,
          0.8333333333333334,
          0.7083333333333334,
          0.7916666666666666,
          0.8333333333333334,
          0.75,
          0.75,
          0.7916666666666666,
          0.875,
          0.875,
          0.7916666666666666,
          0.9166666666666666,
          0.6666666666666666,
          0.9583333333333334,
          0.7083333333333334,
          0.7916666666666666,
          0.75,
          0.9583333333333334,
          0.75,
          0.7916666666666666,
          0.75,
          0.7083333333333334,
          0.7916666666666666,
          0.7083333333333334,
          0.8333333333333334,
          0.7916666666666666,
          0.9166666666666666,
          0.875,
          0.875,
          0.8333333333333334,
          0.75,
          0.9166666666666666,
          0.9166666666666666,
          0.8333333333333334,
          1,
          0.8333333333333334,
          0.75,
          0.8333333333333334,
          0.8333333333333334,
          0.7916666666666666,
          0.75,
          0.7916666666666666,
          0.9166666666666666,
          0.75,
          0.875,
          0.75,
          0.8333333333333334,
          0.75,
          0.9583333333333334,
          0.8333333333333334,
          0.6666666666666666,
          0.75,
          0.875,
          0.875,
          0.4583333333333333,
          0.7083333333333334,
          0.7916666666666666,
          0.8333333333333334,
          0.7916666666666666,
          0.7083333333333334,
          0.7916666666666666,
          0.875,
          0.5416666666666666,
          0.625,
          0.75,
          0.7916666666666666,
          0.7916666666666666,
          0.9166666666666666,
          0.8333333333333334,
          0.625,
          0.6666666666666666,
          0.7916666666666666,
          0.8333333333333334,
          0.9583333333333334,
          0.8333333333333334,
          0.8333333333333334,
          1,
          0.6666666666666666,
          0.8333333333333334,
          0.7916666666666666,
          0.7916666666666666,
          0.9166666666666666,
          0.8333333333333334,
          0.875,
          0.75,
          0.875,
          0.875,
          0.625,
          0.8333333333333334,
          0.8333333333333334,
          0.75,
          0.6666666666666666,
          0.5833333333333334,
          0.8333333333333334,
          0.9166666666666666,
          0.875,
          0.9583333333333334,
          0.75,
          0.8333333333333334,
          0.7916666666666666,
          0.8333333333333334,
          0.75,
          0.7916666666666666,
          0.7916666666666666,
          0.7916666666666666,
          0.9166666666666666,
          0.5416666666666666,
          0.6666666666666666,
          0.7083333333333334,
          0.875,
          0.9166666666666666,
          0.5833333333333334,
          0.75,
          0.8333333333333334,
          0.8333333333333334,
          0.7916666666666666,
          0.625,
          0.8333333333333334,
          0.875,
          0.75,
          0.7083333333333334,
          0.9166666666666666,
          0.5416666666666666,
          0.8333333333333334,
          0.9166666666666666,
          0.75,
          0.6666666666666666,
          0.9166666666666666,
          0.875,
          0.7916666666666666,
          0.7916666666666666,
          0.625,
          0.8333333333333334,
          0.75,
          0.625,
          0.7916666666666666,
          0.8333333333333334,
          0.8333333333333334,
          0.875,
          0.7916666666666666,
          0.7083333333333334,
          0.8333333333333334,
          0.7083333333333334,
          0.625,
          0.7083333333333334,
          0.7083333333333334,
          0.7083333333333334,
          0.875,
          0.75,
          0.7083333333333334,
          0.8333333333333334,
          0.5,
          0.9166666666666666,
          0.7916666666666666,
          0.9166666666666666,
          0.8333333333333334,
          0.9166666666666666,
          0.8333333333333334,
          0.7083333333333334,
          0.7916666666666666,
          0.75,
          0.75,
          0.8333333333333334,
          0.7083333333333334,
          0.8333333333333334,
          0.8333333333333334,
          0.9583333333333334,
          0.9583333333333334,
          0.9166666666666666,
          0.7916666666666666,
          0.8333333333333334,
          0.9166666666666666,
          0.7916666666666666,
          0.875,
          0.8333333333333334,
          0.7916666666666666,
          0.7916666666666666,
          0.8333333333333334,
          0.9166666666666666,
          0.625,
          0.9166666666666666,
          0.8333333333333334,
          0.9166666666666666,
          0.75,
          0.7916666666666666,
          0.7916666666666666,
          0.8333333333333334,
          0.75,
          0.9166666666666666,
          0.7083333333333334,
          0.8333333333333334,
          0.875,
          0.9166666666666666,
          0.7083333333333334,
          0.8333333333333334,
          0.75,
          0.6666666666666666,
          0.8333333333333334,
          0.7083333333333334,
          0.875,
          0.7916666666666666,
          0.875,
          0.8333333333333334,
          0.875,
          0.9166666666666666,
          0.6666666666666666,
          0.7083333333333334,
          0.7916666666666666,
          0.6666666666666666,
          0.9166666666666666,
          0.625,
          0.9166666666666666,
          0.625,
          0.875,
          0.7083333333333334,
          0.8333333333333334,
          0.9583333333333334,
          0.7916666666666666,
          0.875,
          0.7083333333333334,
          0.8333333333333334,
          0.75,
          0.8333333333333334,
          0.7916666666666666,
          0.7916666666666666,
          0.9166666666666666,
          0.8333333333333334,
          0.8333333333333334,
          0.5416666666666666,
          0.875,
          0.875,
          0.75,
          0.9166666666666666,
          0.7916666666666666,
          0.7916666666666666,
          0.7916666666666666,
          0.9166666666666666,
          0.9166666666666666,
          0.75,
          0.625,
          0.625,
          0.625,
          0.8333333333333334,
          0.7083333333333334,
          0.6666666666666666,
          0.875,
          0.7916666666666666,
          0.625,
          0.5833333333333334,
          0.8333333333333334,
          0.75,
          0.6666666666666666,
          0.7083333333333334,
          0.7916666666666666,
          0.8333333333333334,
          0.7083333333333334,
          0.7916666666666666,
          0.7916666666666666,
          0.7916666666666666,
          0.9166666666666666,
          0.75,
          0.7916666666666666,
          0.875,
          0.8333333333333334,
          0.9166666666666666,
          0.9583333333333334,
          0.7916666666666666,
          0.9166666666666666,
          0.9166666666666666,
          0.8333333333333334,
          0.7916666666666666,
          0.75,
          0.9166666666666666,
          0.5833333333333334,
          0.75,
          0.9166666666666666,
          0.875,
          0.6666666666666666,
          0.875,
          0.875,
          0.7916666666666666,
          0.8333333333333334,
          0.7916666666666666,
          0.9166666666666666,
          0.8333333333333334,
          0.875,
          0.8333333333333334,
          0.7083333333333334,
          0.875,
          0.75,
          0.7916666666666666,
          0.7916666666666666,
          0.7916666666666666,
          0.625,
          0.75,
          0.7916666666666666,
          0.8333333333333334,
          0.625,
          0.875,
          0.875,
          0.8333333333333334,
          0.7916666666666666,
          0.75,
          0.7916666666666666,
          0.875,
          0.7916666666666666,
          0.9166666666666666,
          0.7916666666666666,
          0.875,
          0.9166666666666666,
          0.875,
          0.7083333333333334,
          0.9583333333333334,
          0.75,
          0.9166666666666666,
          0.7083333333333334,
          0.75,
          0.7083333333333334,
          0.75,
          0.625,
          0.7916666666666666,
          0.75,
          0.9166666666666666,
          0.8333333333333334,
          0.875,
          0.75,
          0.7916666666666666,
          0.625,
          0.6666666666666666,
          0.875,
          0.625,
          0.9583333333333334,
          0.9166666666666666,
          0.875,
          0.7083333333333334,
          0.625,
          0.8333333333333334,
          0.9166666666666666,
          0.875,
          0.875,
          0.7916666666666666,
          0.9583333333333334,
          0.8333333333333334,
          0.7083333333333334,
          0.9166666666666666,
          0.9166666666666666,
          0.9166666666666666,
          0.7083333333333334,
          0.7916666666666666,
          0.8333333333333334,
          0.9166666666666666,
          0.7916666666666666,
          0.9166666666666666,
          0.9583333333333334,
          0.7083333333333334,
          0.6666666666666666,
          0.75,
          0.7916666666666666,
          0.9166666666666666,
          0.75,
          0.75,
          0.8333333333333334,
          0.75,
          0.8333333333333334,
          0.75,
          0.6666666666666666,
          0.5416666666666666,
          0.875,
          0.6666666666666666,
          0.75,
          0.875,
          0.75,
          0.75,
          0.875,
          0.9166666666666666,
          0.7083333333333334,
          0.9166666666666666,
          0.75,
          0.6666666666666666,
          0.75,
          0.875,
          0.7083333333333334,
          0.6666666666666666,
          0.75,
          0.7916666666666666,
          0.8333333333333334,
          0.8333333333333334,
          0.875,
          0.875,
          0.875,
          0.9166666666666666,
          0.75,
          0.75,
          0.875,
          0.8333333333333334,
          0.7916666666666666,
          0.8333333333333334,
          0.9583333333333334,
          0.875,
          0.875,
          0.7916666666666666,
          0.6666666666666666,
          0.9166666666666666,
          0.75,
          0.7916666666666666,
          0.9166666666666666,
          0.7916666666666666,
          0.9583333333333334,
          0.875,
          0.875,
          0.7916666666666666,
          0.9166666666666666,
          0.75,
          0.9583333333333334,
          0.8333333333333334,
          0.8333333333333334,
          0.9583333333333334,
          0.7916666666666666,
          0.7916666666666666,
          0.9166666666666666,
          0.75,
          0.9166666666666666,
          0.7083333333333334,
          0.9583333333333334,
          0.7916666666666666,
          0.7083333333333334,
          0.7916666666666666,
          0.75,
          0.7083333333333334,
          0.875,
          0.7916666666666666,
          0.7916666666666666,
          0.8333333333333334,
          0.8333333333333334,
          0.6666666666666666,
          0.875,
          0.9166666666666666,
          0.6666666666666666,
          0.8333333333333334,
          0.75,
          0.75,
          0.8333333333333334,
          0.75,
          0.4583333333333333,
          0.7083333333333334,
          0.875,
          0.9166666666666666,
          0.7083333333333334,
          0.9583333333333334,
          0.875,
          0.7916666666666666,
          0.875,
          0.7916666666666666,
          0.7916666666666666,
          0.7916666666666666,
          0.7916666666666666,
          0.625,
          0.7083333333333334,
          0.875,
          0.8333333333333334,
          0.75,
          0.7083333333333334,
          0.75,
          0.5833333333333334,
          0.75,
          0.75,
          0.9166666666666666,
          0.8333333333333334,
          0.75,
          0.875,
          0.7916666666666666,
          0.7916666666666666,
          0.8333333333333334,
          0.875,
          0.8333333333333334,
          0.8333333333333334,
          0.9583333333333334,
          0.875,
          0.875,
          0.8333333333333334,
          0.6666666666666666,
          0.6666666666666666,
          0.6666666666666666,
          0.8333333333333334,
          0.875,
          0.8333333333333334,
          0.7916666666666666,
          0.7083333333333334,
          0.875,
          0.75,
          0.9166666666666666,
          0.5833333333333334,
          0.8333333333333334,
          0.75,
          0.9583333333333334,
          0.875,
          0.6666666666666666,
          0.7083333333333334,
          0.75,
          0.875,
          0.7916666666666666,
          0.8333333333333334,
          0.875,
          0.8333333333333334,
          0.75,
          0.875,
          0.75,
          0.875,
          0.7916666666666666,
          0.7916666666666666,
          0.7083333333333334,
          0.9166666666666666,
          0.9166666666666666,
          0.6666666666666666,
          0.875,
          0.7083333333333334,
          0.7916666666666666,
          0.6666666666666666,
          0.7916666666666666,
          0.875,
          0.6666666666666666,
          0.7083333333333334,
          0.7916666666666666,
          0.9583333333333334,
          0.8333333333333334,
          0.9166666666666666,
          0.8333333333333334,
          0.7083333333333334,
          0.7083333333333334,
          0.6666666666666666,
          0.7916666666666666,
          0.75,
          0.75,
          0.7083333333333334,
          0.7083333333333334,
          0.8333333333333334,
          0.7083333333333334,
          0.75,
          0.7083333333333334,
          0.875,
          0.875,
          0.75,
          0.8333333333333334,
          0.75,
          0.75,
          0.7916666666666666,
          0.875,
          0.75,
          0.75,
          0.75,
          0.75,
          0.75,
          0.9583333333333334,
          0.8333333333333334,
          0.9166666666666666,
          0.7916666666666666,
          0.7916666666666666,
          0.75,
          0.75,
          0.75,
          0.9583333333333334,
          0.7916666666666666,
          0.7916666666666666,
          0.8333333333333334,
          0.7916666666666666,
          0.75,
          0.75,
          0.8333333333333334,
          0.875,
          0.8333333333333334,
          0.8333333333333334,
          0.7083333333333334,
          0.7916666666666666,
          0.75,
          0.8333333333333334,
          0.75,
          0.75,
          0.625,
          0.7916666666666666,
          0.75,
          0.9166666666666666,
          0.9166666666666666,
          0.7916666666666666,
          0.75,
          0.8333333333333334,
          0.7083333333333334,
          0.8333333333333334,
          0.875,
          0.8333333333333334,
          0.7916666666666666,
          0.7916666666666666,
          0.875,
          0.875,
          0.875,
          0.7916666666666666,
          0.9583333333333334,
          0.6666666666666666,
          0.7916666666666666,
          0.75,
          0.9166666666666666,
          0.75,
          0.7916666666666666,
          0.875,
          1,
          0.5833333333333334,
          0.875,
          0.7083333333333334,
          0.7916666666666666,
          0.7916666666666666,
          0.7916666666666666,
          0.75,
          0.8333333333333334,
          0.875,
          0.6666666666666666,
          0.75,
          0.7083333333333334,
          0.75,
          0.875,
          0.8333333333333334,
          1,
          0.6666666666666666,
          0.7916666666666666,
          0.8333333333333334,
          0.875,
          0.7916666666666666,
          0.9166666666666666,
          0.8333333333333334,
          0.8333333333333334,
          0.7083333333333334,
          0.8333333333333334,
          0.9166666666666666,
          0.8333333333333334,
          0.625,
          0.6666666666666666,
          0.75,
          0.875,
          0.7916666666666666,
          0.875,
          0.75,
          0.7916666666666666,
          0.7083333333333334,
          0.7916666666666666,
          0.875,
          0.7916666666666666,
          0.625,
          0.8333333333333334,
          0.6666666666666666,
          1,
          0.9166666666666666,
          0.875,
          0.875,
          0.7083333333333334,
          0.9583333333333334,
          0.75,
          0.9166666666666666,
          0.7916666666666666,
          0.6666666666666666,
          0.625,
          0.9166666666666666,
          0.9166666666666666,
          0.875,
          0.9166666666666666,
          0.8333333333333334,
          1,
          0.8333333333333334,
          0.875,
          0.75,
          0.7916666666666666,
          0.875,
          0.875,
          0.875,
          0.875,
          0.75,
          0.875,
          0.75,
          0.7916666666666666,
          0.75,
          0.7083333333333334,
          0.7916666666666666,
          0.875,
          0.75,
          0.8333333333333334,
          0.9166666666666666,
          0.9166666666666666,
          0.875,
          0.7916666666666666,
          0.7916666666666666,
          0.875,
          0.875,
          0.7916666666666666,
          0.9583333333333334,
          0.75,
          0.875,
          0.9166666666666666,
          0.7083333333333334,
          0.8333333333333334,
          0.75,
          0.75,
          0.8333333333333334,
          0.75,
          0.875,
          0.7916666666666666,
          0.8333333333333334,
          0.75,
          0.875,
          0.75,
          0.7916666666666666,
          0.875,
          0.875,
          0.9166666666666666,
          0.7083333333333334,
          0.9166666666666666,
          0.7916666666666666,
          0.8333333333333334,
          0.8333333333333334,
          0.7916666666666666,
          0.75,
          0.9166666666666666,
          0.75,
          0.8333333333333334,
          0.7083333333333334,
          0.6666666666666666,
          0.875,
          0.7916666666666666,
          0.7916666666666666,
          0.7916666666666666,
          0.7916666666666666,
          0.875,
          0.75,
          0.75,
          0.7916666666666666,
          0.5833333333333334,
          0.8333333333333334,
          0.9166666666666666,
          0.6666666666666666,
          0.875,
          0.625,
          0.7083333333333334,
          0.7083333333333334,
          0.75,
          0.8333333333333334,
          0.7083333333333334,
          0.8333333333333334,
          0.875,
          0.875,
          0.6666666666666666,
          0.7083333333333334,
          0.6666666666666666,
          0.9583333333333334,
          0.75,
          0.8333333333333334,
          0.8333333333333334,
          0.7916666666666666,
          0.7916666666666666,
          0.8333333333333334,
          0.6666666666666666,
          0.875,
          0.75,
          0.7083333333333334,
          0.625,
          0.8333333333333334,
          0.75,
          0.6666666666666666,
          0.7083333333333334,
          0.875,
          0.875,
          0.7916666666666666,
          0.9583333333333334,
          0.875,
          0.75,
          0.875,
          0.8333333333333334,
          0.7916666666666666,
          0.7083333333333334,
          0.8333333333333334,
          0.875,
          0.7083333333333334,
          0.6666666666666666,
          0.7916666666666666,
          0.9166666666666666,
          0.7916666666666666,
          0.7916666666666666,
          0.875,
          0.8333333333333334,
          0.875,
          0.6666666666666666,
          0.9166666666666666,
          0.9583333333333334,
          0.7916666666666666,
          0.75,
          0.9583333333333334,
          0.7916666666666666,
          0.8333333333333334,
          0.75,
          0.875,
          0.7916666666666666,
          0.75,
          0.875,
          0.875,
          0.8333333333333334,
          0.8333333333333334,
          0.8333333333333334,
          0.625,
          0.7083333333333334,
          0.875,
          0.875,
          0.7916666666666666,
          0.7916666666666666,
          0.7916666666666666,
          0.7916666666666666,
          0.9166666666666666,
          0.75,
          0.7916666666666666,
          0.9166666666666666,
          0.7916666666666666,
          0.9166666666666666,
          0.8333333333333334,
          0.9166666666666666,
          0.875,
          0.7916666666666666,
          0.9166666666666666,
          0.7083333333333334,
          0.75,
          0.7083333333333334,
          0.7916666666666666,
          0.9166666666666666,
          0.7916666666666666,
          0.7083333333333334,
          0.6666666666666666,
          0.6666666666666666,
          0.7083333333333334,
          0.6666666666666666,
          0.9166666666666666,
          0.875,
          0.7916666666666666,
          0.875,
          0.7916666666666666,
          0.7916666666666666,
          0.9166666666666666,
          0.7083333333333334,
          0.8333333333333334,
          0.8333333333333334,
          0.7916666666666666,
          0.8333333333333334,
          0.8333333333333334,
          0.75,
          0.8333333333333334,
          0.875,
          0.75,
          0.7083333333333334,
          0.9166666666666666,
          0.7083333333333334,
          0.7916666666666666,
          0.875,
          0.875,
          0.8333333333333334,
          0.8333333333333334,
          0.9166666666666666,
          0.7916666666666666,
          0.6666666666666666,
          0.8333333333333334,
          0.625,
          0.5833333333333334,
          0.7916666666666666,
          0.875,
          0.75,
          0.7916666666666666,
          0.8333333333333334,
          0.8333333333333334,
          0.7083333333333334,
          0.75,
          0.9583333333333334,
          0.9166666666666666,
          0.9166666666666666,
          0.7083333333333334,
          0.75,
          0.8333333333333334,
          0.9166666666666666,
          0.75,
          0.7916666666666666,
          0.875,
          0.7916666666666666,
          0.6666666666666666,
          0.8333333333333334,
          0.7916666666666666,
          0.7916666666666666,
          0.6666666666666666,
          0.8333333333333334,
          0.7916666666666666,
          0.8333333333333334,
          0.8333333333333334,
          0.6666666666666666,
          0.7916666666666666,
          0.7916666666666666,
          0.7083333333333334,
          0.7916666666666666,
          0.8333333333333334,
          0.9166666666666666,
          0.8333333333333334,
          0.75,
          0.8333333333333334,
          0.7083333333333334,
          0.7916666666666666,
          0.875,
          0.7083333333333334,
          0.9166666666666666,
          0.8333333333333334,
          0.9583333333333334,
          0.7916666666666666,
          0.8333333333333334,
          0.875,
          0.6666666666666666,
          0.9166666666666666,
          0.9166666666666666,
          0.9166666666666666,
          0.7916666666666666,
          0.875,
          0.875,
          0.8333333333333334,
          0.7916666666666666,
          0.75,
          0.7916666666666666,
          0.5416666666666666,
          0.7916666666666666,
          0.875,
          0.7916666666666666,
          0.8333333333333334,
          0.8333333333333334,
          0.875,
          0.9583333333333334,
          0.8333333333333334,
          0.7083333333333334,
          0.8333333333333334,
          0.7916666666666666,
          0.7916666666666666,
          0.875,
          0.8333333333333334,
          0.9166666666666666,
          0.8333333333333334,
          0.9166666666666666,
          0.875,
          0.8333333333333334,
          0.7916666666666666,
          0.7916666666666666,
          0.8333333333333334,
          0.875,
          0.9583333333333334,
          0.8333333333333334,
          0.8333333333333334,
          0.8333333333333334,
          0.7916666666666666,
          0.7916666666666666,
          0.75,
          0.7916666666666666,
          0.7916666666666666,
          0.8333333333333334,
          0.6666666666666666,
          0.7916666666666666,
          1,
          0.7083333333333334,
          0.6666666666666666,
          0.75,
          0.9166666666666666,
          0.8333333333333334,
          0.875,
          0.9166666666666666,
          0.75,
          0.875,
          0.875,
          0.7916666666666666,
          0.9583333333333334,
          0.875,
          0.75,
          0.9583333333333334,
          0.9166666666666666,
          0.875,
          0.6666666666666666,
          0.8333333333333334,
          0.7916666666666666,
          0.75,
          0.9166666666666666,
          0.9166666666666666,
          0.9166666666666666,
          0.9166666666666666,
          0.9166666666666666,
          0.7083333333333334,
          0.9166666666666666,
          0.75,
          0.8333333333333334,
          0.7083333333333334,
          0.75,
          0.7916666666666666,
          0.8333333333333334,
          0.875,
          0.9166666666666666,
          0.75,
          1,
          0.75,
          0.875,
          0.8333333333333334,
          0.75,
          0.7083333333333334,
          0.8333333333333334,
          0.6666666666666666,
          0.9166666666666666,
          0.7916666666666666,
          0.875,
          0.875,
          0.8333333333333334,
          0.8333333333333334,
          0.875,
          0.8333333333333334,
          0.875,
          0.8333333333333334,
          0.5833333333333334,
          1,
          0.8333333333333334,
          0.9583333333333334,
          0.8333333333333334,
          0.7916666666666666,
          0.9166666666666666,
          0.875,
          0.875,
          0.875,
          0.9583333333333334,
          0.625,
          0.875,
          0.875,
          0.7916666666666666,
          0.8333333333333334,
          0.9166666666666666,
          0.75,
          0.75,
          0.9166666666666666,
          0.75,
          0.9166666666666666,
          0.8333333333333334,
          0.75,
          0.9166666666666666,
          0.9166666666666666,
          0.875,
          0.7916666666666666,
          0.7916666666666666,
          0.9583333333333334,
          0.5833333333333334,
          0.7083333333333334,
          0.9166666666666666,
          0.7083333333333334,
          0.6666666666666666,
          0.875,
          0.9166666666666666,
          0.8333333333333334,
          0.7916666666666666,
          0.7916666666666666,
          0.7916666666666666,
          0.8333333333333334,
          0.9166666666666666,
          0.7916666666666666,
          0.7083333333333334,
          0.75,
          0.875,
          0.875,
          0.8333333333333334,
          0.7916666666666666,
          0.9166666666666666,
          0.9583333333333334,
          0.7916666666666666,
          0.9166666666666666,
          0.75,
          0.7916666666666666,
          0.7083333333333334,
          0.9166666666666666,
          0.7083333333333334,
          0.7083333333333334,
          0.625,
          0.875,
          0.75,
          0.75,
          0.8333333333333334,
          0.8333333333333334,
          0.5833333333333334,
          0.8333333333333334,
          0.8333333333333334,
          0.9583333333333334,
          0.7916666666666666,
          0.75,
          0.7916666666666666,
          0.8333333333333334,
          0.6666666666666666,
          0.6666666666666666,
          0.75,
          0.875,
          0.7916666666666666,
          0.7083333333333334,
          0.875,
          0.8333333333333334,
          0.75,
          0.875,
          0.875,
          0.9166666666666666,
          0.875,
          0.7916666666666666,
          0.875,
          0.875,
          0.8333333333333334,
          0.875,
          0.7083333333333334,
          0.9166666666666666,
          0.8333333333333334,
          0.8333333333333334,
          0.75,
          0.625,
          0.75,
          0.7916666666666666,
          0.7916666666666666,
          0.8333333333333334,
          0.75,
          0.7916666666666666,
          0.9166666666666666,
          0.9583333333333334,
          0.8333333333333334,
          0.875,
          0.8333333333333334,
          0.625,
          0.8333333333333334,
          0.6666666666666666,
          0.7083333333333334,
          0.8333333333333334,
          0.8333333333333334,
          0.7916666666666666,
          0.7916666666666666,
          0.75,
          0.8333333333333334,
          0.7083333333333334,
          0.8333333333333334,
          0.875,
          0.9166666666666666,
          0.8333333333333334,
          0.8333333333333334,
          0.75,
          0.8333333333333334,
          0.9166666666666666,
          0.8333333333333334,
          0.875,
          0.7916666666666666,
          0.875,
          0.9166666666666666,
          0.7916666666666666,
          0.75,
          0.75,
          0.75,
          0.8333333333333334,
          0.875,
          0.7083333333333334,
          0.8333333333333334,
          0.7916666666666666,
          0.9166666666666666,
          0.9166666666666666,
          0.9166666666666666,
          0.8333333333333334,
          0.8333333333333334,
          0.7916666666666666,
          0.875,
          0.875,
          0.875,
          0.625,
          0.8333333333333334,
          0.7916666666666666,
          0.6666666666666666,
          0.9166666666666666,
          0.875,
          0.7083333333333334,
          0.7916666666666666,
          0.7916666666666666,
          0.8333333333333334,
          0.7916666666666666,
          0.7916666666666666,
          0.875,
          0.7083333333333334,
          0.6666666666666666,
          0.7916666666666666,
          0.875,
          0.8333333333333334,
          0.7916666666666666,
          0.9583333333333334,
          0.8333333333333334,
          0.7916666666666666,
          0.5833333333333334,
          0.625,
          0.9166666666666666,
          1,
          0.7916666666666666,
          0.875,
          0.7083333333333334,
          0.7083333333333334,
          0.75,
          0.8333333333333334,
          0.875,
          0.7083333333333334,
          0.8333333333333334,
          0.9583333333333334,
          0.75,
          0.75,
          0.625,
          0.875,
          0.875,
          0.8333333333333334,
          0.7083333333333334,
          0.875,
          0.7916666666666666,
          0.8333333333333334,
          0.8333333333333334,
          0.8333333333333334,
          0.9166666666666666,
          0.7916666666666666,
          0.875,
          0.875,
          0.75,
          0.875,
          0.9166666666666666,
          0.8333333333333334,
          0.7916666666666666,
          0.875,
          0.625,
          0.875,
          0.5833333333333334,
          0.8333333333333334,
          0.9583333333333334,
          0.7083333333333334,
          0.9166666666666666,
          0.875,
          0.75,
          0.5833333333333334,
          0.9166666666666666,
          0.875,
          0.8333333333333334,
          0.9166666666666666,
          0.7916666666666666,
          0.9166666666666666,
          0.875,
          0.9166666666666666,
          0.7916666666666666,
          0.875,
          0.7916666666666666,
          0.7083333333333334,
          0.7916666666666666,
          0.7083333333333334,
          0.7083333333333334,
          0.8333333333333334,
          0.7916666666666666,
          0.8333333333333334,
          0.7083333333333334,
          0.75,
          0.9166666666666666,
          0.7916666666666666,
          0.9583333333333334,
          0.875,
          0.7916666666666666,
          0.75,
          0.7083333333333334,
          0.8333333333333334,
          0.625,
          0.75,
          0.75,
          0.9583333333333334,
          0.8333333333333334,
          0.75,
          0.6666666666666666,
          0.8333333333333334,
          0.875,
          0.7083333333333334,
          0.7916666666666666,
          0.875,
          0.875,
          0.75,
          0.7916666666666666,
          0.9166666666666666,
          0.9166666666666666,
          0.7916666666666666,
          0.75,
          0.7083333333333334,
          0.8333333333333334,
          0.875,
          0.7916666666666666,
          0.8333333333333334,
          0.6666666666666666,
          0.7916666666666666,
          0.7083333333333334,
          0.625,
          0.6666666666666666,
          0.9166666666666666,
          0.8333333333333334,
          0.8333333333333334,
          0.7916666666666666,
          0.875,
          0.875,
          0.9166666666666666,
          0.8333333333333334,
          0.875,
          0.9166666666666666,
          0.9166666666666666,
          0.7916666666666666,
          0.875,
          0.9166666666666666,
          0.75,
          0.8333333333333334,
          0.7916666666666666,
          0.875,
          0.875,
          0.875,
          0.7916666666666666,
          0.875,
          0.875,
          0.75,
          0.5833333333333334,
          0.8333333333333334,
          0.7083333333333334,
          0.875,
          0.9166666666666666,
          0.75,
          0.875,
          0.7083333333333334,
          0.6666666666666666,
          0.9583333333333334,
          0.8333333333333334,
          0.875,
          0.875,
          0.7083333333333334,
          0.7916666666666666,
          0.75,
          0.875,
          0.8333333333333334,
          0.7916666666666666,
          0.75,
          0.8333333333333334,
          0.8333333333333334,
          0.875,
          0.7916666666666666,
          0.8333333333333334,
          0.625,
          0.7916666666666666,
          0.6666666666666666,
          0.75,
          0.9166666666666666,
          0.875,
          0.9583333333333334,
          0.7916666666666666,
          0.9166666666666666,
          0.8333333333333334,
          0.8333333333333334,
          0.7916666666666666,
          0.875,
          0.7916666666666666,
          0.6666666666666666,
          0.7916666666666666,
          0.7083333333333334,
          0.6666666666666666,
          0.7083333333333334,
          0.875,
          0.9166666666666666,
          0.7083333333333334,
          0.9583333333333334,
          0.7916666666666666,
          0.7916666666666666,
          0.7083333333333334,
          0.7916666666666666,
          0.7916666666666666,
          0.9166666666666666,
          0.875,
          0.7916666666666666,
          0.8333333333333334,
          0.875,
          0.9583333333333334,
          0.8333333333333334,
          0.625,
          0.9166666666666666,
          0.6666666666666666,
          0.7916666666666666,
          0.7916666666666666,
          0.75,
          0.7916666666666666,
          0.9166666666666666,
          0.7916666666666666,
          0.9166666666666666,
          0.75,
          0.9166666666666666,
          0.8333333333333334,
          0.6666666666666666,
          0.7916666666666666,
          0.9166666666666666,
          0.9583333333333334,
          0.5416666666666666,
          0.8333333333333334,
          0.625,
          0.8333333333333334,
          0.8333333333333334,
          0.7916666666666666,
          0.875,
          0.75,
          0.6666666666666666,
          0.875,
          0.6666666666666666,
          0.625,
          0.75,
          0.875,
          0.875,
          0.9166666666666666,
          0.875,
          0.875,
          0.8333333333333334,
          0.7916666666666666,
          0.7916666666666666,
          0.8333333333333334,
          0.9166666666666666,
          0.7916666666666666,
          0.7916666666666666,
          0.75,
          0.875,
          0.9166666666666666,
          0.7916666666666666,
          0.7916666666666666,
          0.875,
          0.875,
          0.875,
          0.9166666666666666,
          0.8333333333333334,
          0.8333333333333334,
          0.7916666666666666,
          0.9583333333333334,
          0.7083333333333334,
          0.7083333333333334,
          0.75,
          0.875,
          0.7916666666666666,
          0.8333333333333334,
          0.625,
          0.8333333333333334,
          0.875,
          0.8333333333333334,
          0.8333333333333334,
          0.8333333333333334,
          0.9166666666666666,
          0.9583333333333334,
          0.7083333333333334,
          0.7916666666666666,
          0.8333333333333334,
          0.7916666666666666,
          0.6666666666666666,
          0.875,
          0.8333333333333334,
          0.7083333333333334,
          0.7083333333333334,
          0.75,
          0.8333333333333334,
          0.8333333333333334,
          0.7916666666666666,
          0.9166666666666666,
          0.75,
          0.9583333333333334,
          0.7916666666666666,
          0.7916666666666666,
          0.8333333333333334,
          0.7083333333333334,
          0.6666666666666666,
          0.75,
          0.8333333333333334,
          0.875,
          0.875,
          0.6666666666666666,
          0.7083333333333334,
          0.7083333333333334,
          0.75,
          0.7916666666666666,
          0.7083333333333334,
          0.6666666666666666,
          0.6666666666666666,
          0.625,
          0.875,
          0.7916666666666666,
          0.75,
          0.75,
          0.9166666666666666,
          0.8333333333333334,
          0.7916666666666666,
          0.875,
          0.7916666666666666,
          0.7916666666666666,
          0.7916666666666666,
          0.7916666666666666,
          0.7916666666666666,
          0.9166666666666666,
          0.7916666666666666,
          0.7083333333333334,
          0.75,
          0.875,
          0.6666666666666666,
          0.875,
          0.625,
          0.7916666666666666,
          0.8333333333333334,
          0.875,
          0.5,
          0.7916666666666666,
          0.9166666666666666,
          0.9583333333333334,
          0.8333333333333334,
          0.7916666666666666,
          0.7916666666666666,
          0.7083333333333334,
          0.8333333333333334,
          0.875,
          0.7916666666666666,
          0.9583333333333334,
          0.8333333333333334,
          0.7916666666666666,
          0.875,
          0.7083333333333334,
          0.875,
          0.9583333333333334,
          0.9166666666666666,
          0.9166666666666666,
          0.8333333333333334,
          1,
          0.7916666666666666,
          0.5416666666666666,
          0.7916666666666666,
          0.6666666666666666,
          0.9166666666666666,
          0.6666666666666666,
          0.7083333333333334,
          0.9583333333333334,
          0.9583333333333334,
          0.5416666666666666,
          0.625,
          0.7916666666666666,
          0.8333333333333334,
          0.9166666666666666,
          0.875,
          0.875,
          0.7916666666666666,
          0.8333333333333334,
          0.875,
          0.9166666666666666,
          0.9166666666666666,
          0.875,
          0.8333333333333334,
          0.6666666666666666,
          0.8333333333333334,
          0.7916666666666666,
          0.9583333333333334,
          0.9166666666666666,
          0.9166666666666666,
          0.9583333333333334,
          0.8333333333333334,
          0.875,
          0.9166666666666666,
          0.8333333333333334,
          0.875,
          0.75,
          0.875,
          0.8333333333333334,
          0.9583333333333334,
          0.875,
          0.7083333333333334,
          0.7083333333333334,
          0.75,
          0.875,
          0.75,
          0.9166666666666666,
          0.875,
          0.9583333333333334,
          0.7083333333333334,
          0.9166666666666666,
          0.75,
          0.8333333333333334,
          0.9583333333333334,
          0.6666666666666666,
          0.9166666666666666,
          0.8333333333333334,
          0.9166666666666666,
          0.8333333333333334,
          0.6666666666666666,
          0.75,
          0.5,
          0.8333333333333334,
          0.875,
          0.9583333333333334,
          0.8333333333333334,
          0.8333333333333334,
          0.9166666666666666,
          0.8333333333333334,
          0.875,
          0.7916666666666666,
          0.875,
          0.9166666666666666,
          0.7916666666666666,
          0.7916666666666666,
          0.9166666666666666,
          0.75,
          0.75,
          0.9166666666666666,
          0.7083333333333334,
          0.625,
          0.875,
          0.875,
          0.8333333333333334,
          0.875,
          0.8333333333333334,
          0.75,
          0.7916666666666666,
          0.875,
          0.7083333333333334,
          0.875,
          0.875,
          0.8333333333333334,
          0.8333333333333334,
          0.8333333333333334,
          0.7916666666666666,
          0.8333333333333334,
          0.875,
          0.8333333333333334,
          0.75,
          0.6666666666666666,
          0.8333333333333334,
          0.7916666666666666,
          0.9166666666666666,
          0.75,
          0.7916666666666666,
          0.875,
          0.4166666666666667,
          0.75,
          0.9583333333333334,
          0.625,
          0.75,
          0.75,
          0.875,
          0.7083333333333334,
          0.875,
          0.9166666666666666,
          0.875,
          0.9166666666666666,
          0.625,
          0.8333333333333334,
          0.875,
          0.9583333333333334,
          0.9583333333333334,
          0.875,
          0.7916666666666666,
          0.8333333333333334,
          0.8333333333333334,
          0.7083333333333334,
          0.9166666666666666,
          0.875,
          0.875,
          0.875,
          1,
          0.8333333333333334,
          0.7916666666666666,
          0.9583333333333334,
          0.9166666666666666,
          0.8333333333333334,
          0.875,
          0.875,
          0.875,
          0.7916666666666666,
          0.7916666666666666,
          1,
          0.9166666666666666,
          0.9583333333333334,
          0.8333333333333334,
          0.875,
          0.7916666666666666,
          0.8333333333333334,
          0.9583333333333334,
          0.875,
          1,
          0.9166666666666666,
          0.9166666666666666,
          0.8333333333333334,
          0.75,
          0.875,
          0.6666666666666666,
          0.875,
          0.875,
          0.6666666666666666,
          0.6666666666666666,
          0.8333333333333334,
          0.9583333333333334,
          0.9166666666666666,
          0.9166666666666666,
          0.875,
          1,
          0.5833333333333334,
          0.9583333333333334,
          0.9583333333333334,
          0.9166666666666666,
          0.9166666666666666,
          0.8333333333333334,
          0.8333333333333334,
          0.9583333333333334,
          0.7916666666666666,
          0.7916666666666666,
          0.8333333333333334,
          0.8333333333333334,
          0.7916666666666666,
          0.875,
          0.9583333333333334,
          0.6666666666666666,
          0.875,
          0.9583333333333334,
          0.875,
          0.8333333333333334,
          0.875,
          0.75,
          1,
          0.9583333333333334,
          0.875,
          0.875,
          0.8333333333333334,
          1,
          0.875,
          0.9166666666666666,
          0.875,
          0.75,
          0.9583333333333334,
          0.9166666666666666,
          0.7916666666666666,
          0.8333333333333334,
          0.8333333333333334,
          0.7083333333333334,
          0.6666666666666666,
          0.9166666666666666,
          0.875,
          0.9166666666666666,
          0.9166666666666666,
          0.7083333333333334,
          0.75,
          0.7916666666666666,
          0.9583333333333334,
          0.875,
          0.9166666666666666,
          0.9583333333333334,
          0.75,
          0.8333333333333334,
          0.875,
          0.9166666666666666,
          0.9166666666666666,
          0.7916666666666666,
          0.6666666666666666,
          0.75,
          0.7916666666666666,
          0.875,
          0.875,
          0.9583333333333334,
          1,
          0.875,
          0.7083333333333334,
          0.9166666666666666,
          0.75,
          0.9583333333333334,
          0.875,
          0.875,
          0.7916666666666666,
          0.875,
          0.8333333333333334,
          0.9583333333333334,
          0.9166666666666666,
          0.9583333333333334,
          0.875,
          1,
          0.6666666666666666,
          0.75,
          0.875,
          0.9583333333333334,
          1,
          0.9583333333333334,
          0.7083333333333334,
          0.9166666666666666,
          0.75,
          0.9166666666666666,
          1,
          0.6666666666666666,
          0.875,
          0.9166666666666666,
          0.9583333333333334,
          0.875,
          0.8333333333333334,
          0.9166666666666666,
          0.6666666666666666,
          0.875,
          0.75,
          0.75,
          0.8333333333333334,
          0.9166666666666666,
          0.8333333333333334,
          0.875,
          0.8333333333333334,
          0.9166666666666666,
          0.7916666666666666,
          0.7916666666666666,
          0.75,
          0.875,
          0.7916666666666666,
          0.8333333333333334,
          0.875,
          0.8333333333333334,
          0.7083333333333334,
          0.875,
          0.7083333333333334,
          0.9583333333333334,
          0.7916666666666666,
          0.9583333333333334,
          1,
          0.9583333333333334,
          0.9583333333333334,
          0.9166666666666666,
          0.9166666666666666,
          0.9583333333333334,
          0.8333333333333334,
          0.8333333333333334,
          1,
          0.9166666666666666,
          0.9583333333333334,
          0.7916666666666666,
          0.75,
          0.9583333333333334,
          0.9166666666666666,
          1,
          0.7083333333333334,
          0.875,
          0.75,
          0.875,
          0.8333333333333334,
          0.875,
          0.9166666666666666,
          0.875,
          0.6666666666666666,
          0.7083333333333334,
          0.8333333333333334,
          0.875,
          0.9583333333333334,
          0.8333333333333334,
          0.75,
          0.875,
          0.9583333333333334,
          0.7916666666666666,
          0.8333333333333334,
          0.9583333333333334,
          0.9166666666666666,
          0.875,
          0.9166666666666666,
          0.625,
          0.8333333333333334,
          0.875,
          0.9166666666666666,
          0.75,
          0.9583333333333334,
          0.875,
          0.9166666666666666,
          0.9166666666666666,
          0.7083333333333334,
          0.875,
          0.75,
          0.7916666666666666,
          0.75,
          0.875,
          0.875,
          0.9583333333333334,
          1,
          0.9166666666666666,
          0.9583333333333334,
          0.8333333333333334,
          0.9166666666666666,
          0.9166666666666666,
          0.7083333333333334,
          0.9583333333333334,
          0.6666666666666666,
          0.875,
          0.8333333333333334,
          0.875,
          0.9583333333333334,
          0.7083333333333334,
          0.875,
          0.875,
          0.7916666666666666,
          0.75,
          0.9166666666666666,
          0.7916666666666666,
          0.7916666666666666,
          0.9583333333333334,
          0.9583333333333334,
          0.875,
          0.7916666666666666,
          1,
          0.7916666666666666,
          0.9166666666666666,
          0.7916666666666666,
          0.875,
          0.8333333333333334,
          0.875,
          0.875,
          0.75,
          0.7916666666666666,
          0.75,
          0.7916666666666666,
          0.7916666666666666,
          0.75,
          0.875,
          0.7083333333333334,
          1,
          0.75,
          0.875,
          0.9166666666666666,
          0.7083333333333334,
          0.8333333333333334,
          0.7083333333333334,
          0.75,
          0.9583333333333334,
          0.7083333333333334,
          0.8333333333333334,
          0.7083333333333334,
          0.9166666666666666,
          1,
          0.8333333333333334,
          0.7916666666666666,
          0.8333333333333334,
          1,
          0.7916666666666666,
          0.8333333333333334,
          0.8333333333333334,
          0.8333333333333334,
          0.8333333333333334,
          0.875,
          0.6666666666666666,
          0.8333333333333334,
          0.875,
          0.9583333333333334,
          0.875,
          0.9583333333333334,
          0.9166666666666666,
          0.8333333333333334,
          0.9583333333333334,
          0.9166666666666666,
          0.875,
          0.875,
          0.8333333333333334,
          0.9166666666666666,
          0.9166666666666666,
          0.875,
          0.9166666666666666,
          0.9166666666666666,
          0.7916666666666666,
          0.9166666666666666,
          0.3333333333333333,
          0.9166666666666666,
          0.7916666666666666,
          0.7916666666666666,
          0.9166666666666666,
          0.9166666666666666,
          0.7916666666666666,
          0.7916666666666666,
          0.7916666666666666,
          0.9166666666666666,
          0.875,
          0.5833333333333334,
          1,
          0.875,
          0.7083333333333334,
          0.9166666666666666,
          0.75,
          0.9583333333333334,
          0.875,
          0.875,
          0.9166666666666666,
          0.7916666666666666,
          0.7916666666666666,
          0.9583333333333334,
          0.875,
          0.875,
          1,
          0.9166666666666666,
          0.6666666666666666,
          0.875,
          0.9166666666666666,
          0.9583333333333334,
          0.9166666666666666,
          0.9583333333333334,
          0.8333333333333334,
          0.7916666666666666,
          0.8333333333333334,
          0.8333333333333334,
          0.8333333333333334,
          0.875,
          0.8333333333333334,
          0.9583333333333334,
          0.7916666666666666,
          1,
          1,
          0.875,
          0.8333333333333334,
          0.75,
          0.75,
          0.9166666666666666,
          0.875,
          0.875,
          0.8333333333333334,
          0.875,
          0.9166666666666666,
          0.9583333333333334,
          0.875,
          0.7916666666666666,
          0.8333333333333334,
          0.9583333333333334,
          0.9583333333333334,
          0.8333333333333334,
          0.875,
          0.9583333333333334,
          0.7916666666666666,
          0.9166666666666666,
          0.9583333333333334,
          0.9583333333333334,
          0.8333333333333334,
          0.9166666666666666,
          0.9166666666666666,
          0.8333333333333334,
          0.7083333333333334,
          0.8333333333333334,
          1,
          0.9166666666666666,
          0.7083333333333334,
          0.875,
          0.7916666666666666,
          0.7916666666666666,
          0.9166666666666666,
          0.625,
          0.9583333333333334,
          0.8333333333333334,
          0.875,
          0.875,
          0.875,
          0.75,
          0.9583333333333334,
          0.75,
          0.9583333333333334,
          0.9583333333333334,
          0.875,
          0.2916666666666667,
          0.9166666666666666,
          0.8333333333333334,
          0.8333333333333334,
          0.5416666666666666,
          0.8333333333333334,
          0.9166666666666666,
          0.9166666666666666,
          0.75,
          0.6666666666666666,
          0.9166666666666666,
          0.75,
          0.7916666666666666,
          0.9166666666666666,
          0.875,
          0.875,
          0.875,
          0.7916666666666666,
          0.7916666666666666,
          0.8333333333333334,
          0.9166666666666666,
          0.9166666666666666,
          0.75,
          0.6666666666666666,
          0.9166666666666666,
          0.7916666666666666,
          0.9166666666666666,
          0.875,
          0.9583333333333334,
          0.9166666666666666,
          0.9583333333333334,
          0.9583333333333334,
          0.9583333333333334,
          0.8333333333333334,
          0.9583333333333334,
          0.875,
          0.7083333333333334,
          0.9166666666666666,
          0.9166666666666666,
          0.875,
          0.7916666666666666,
          0.8333333333333334,
          0.875,
          0.9583333333333334,
          0.875,
          0.9166666666666666,
          0.9583333333333334,
          0.8333333333333334,
          0.7083333333333334,
          0.875,
          0.6666666666666666,
          0.75,
          0.7916666666666666,
          0.9166666666666666,
          0.7916666666666666,
          0.9166666666666666,
          0.7916666666666666,
          0.9583333333333334,
          0.9583333333333334,
          0.8333333333333334,
          0.875,
          1,
          0.8333333333333334,
          0.75,
          0.9166666666666666,
          0.875,
          0.9166666666666666,
          0.875,
          0.2916666666666667,
          0.8333333333333334,
          0.7916666666666666,
          1,
          0.875,
          0.8333333333333334,
          0.8333333333333334,
          0.9583333333333334,
          0.875,
          0.9583333333333334,
          0.875,
          0.9166666666666666,
          0.5833333333333334,
          0.875,
          0.7916666666666666,
          0.8333333333333334,
          0.8333333333333334,
          0.875,
          0.8333333333333334,
          0.7916666666666666,
          0.9583333333333334,
          0.8333333333333334,
          0.7916666666666666,
          0.875,
          0.8333333333333334,
          0.875,
          0.75,
          0.8333333333333334,
          0.9166666666666666,
          0.8333333333333334,
          0.7916666666666666,
          0.9166666666666666,
          0.9583333333333334,
          0.8333333333333334,
          0.8333333333333334,
          0.9583333333333334,
          0.875,
          0.9166666666666666,
          0.75,
          0.9583333333333334,
          0.875,
          0.875,
          0.9166666666666666,
          0.75,
          0.75,
          0.8333333333333334,
          0.6666666666666666,
          0.875,
          0.625,
          0.7916666666666666,
          0.7083333333333334,
          0.875,
          0.875,
          0.8333333333333334,
          0.8333333333333334,
          0.8333333333333334,
          0.9166666666666666,
          0.9583333333333334,
          0.9166666666666666,
          0.875,
          0.8333333333333334,
          0.875,
          0.7916666666666666,
          0.6666666666666666,
          0.8333333333333334,
          0.9166666666666666,
          0.8333333333333334,
          0.8333333333333334,
          0.7916666666666666,
          0.9583333333333334,
          0.8333333333333334,
          0.9166666666666666,
          0.9583333333333334,
          0.9166666666666666,
          1,
          0.875,
          0.8333333333333334,
          0.9166666666666666,
          0.9166666666666666,
          0.8333333333333334,
          0.9583333333333334,
          0.875,
          0.75,
          0.875,
          0.8333333333333334,
          0.9166666666666666,
          0.8333333333333334,
          0.9583333333333334,
          0.9583333333333334,
          0.7083333333333334,
          0.9166666666666666,
          0.9166666666666666,
          0.875,
          0.8333333333333334,
          0.9583333333333334,
          0.7916666666666666,
          0.875,
          0.9166666666666666,
          0.9166666666666666,
          0.9583333333333334,
          1,
          0.8333333333333334,
          0.7916666666666666,
          0.9166666666666666,
          0.8333333333333334,
          0.7083333333333334,
          0.7916666666666666,
          0.7916666666666666,
          0.9166666666666666,
          0.9583333333333334,
          0.875,
          0.875,
          0.9166666666666666,
          0.875,
          0.9166666666666666,
          0.75,
          0.875,
          0.8333333333333334,
          0.875,
          0.875,
          0.75,
          0.875,
          0.8333333333333334,
          0.9583333333333334,
          0.8333333333333334,
          0.75,
          0.9583333333333334,
          0.9583333333333334,
          0.9583333333333334,
          0.8333333333333334,
          0.9166666666666666,
          0.875,
          0.8333333333333334,
          0.9166666666666666,
          0.8333333333333334,
          0.7916666666666666,
          1,
          0.9166666666666666,
          0.7083333333333334,
          0.9583333333333334,
          0.7916666666666666,
          0.7916666666666666,
          0.9166666666666666,
          0.7083333333333334,
          0.75,
          0.9166666666666666,
          0.8333333333333334,
          0.6666666666666666,
          0.9166666666666666,
          0.9166666666666666,
          0.8333333333333334,
          0.9166666666666666,
          0.8333333333333334,
          0.8333333333333334,
          0.9166666666666666,
          0.9166666666666666,
          0.8333333333333334,
          0.7083333333333334,
          0.8333333333333334,
          0.9166666666666666,
          0.8333333333333334,
          0.75,
          0.5833333333333334,
          0.7083333333333334,
          0.8333333333333334,
          0.875,
          0.9166666666666666,
          0.8333333333333334,
          0.9166666666666666,
          0.9583333333333334,
          0.8333333333333334,
          0.9166666666666666,
          0.875,
          0.625,
          0.8333333333333334,
          0.7916666666666666,
          0.9583333333333334,
          0.9166666666666666,
          0.9583333333333334,
          0.875,
          0.6666666666666666,
          0.875,
          0.8333333333333334,
          0.8333333333333334,
          0.9583333333333334,
          0.9166666666666666,
          1,
          0.75,
          0.7916666666666666,
          0.875,
          0.8333333333333334,
          0.7916666666666666,
          0.875,
          0.9166666666666666,
          0.9166666666666666,
          0.875,
          0.75,
          0.8333333333333334,
          0.875,
          0.625,
          0.75,
          1,
          0.875,
          0.75,
          0.9166666666666666,
          0.8333333333333334,
          0.875,
          0.7916666666666666,
          0.8333333333333334,
          0.8333333333333334,
          0.8333333333333334,
          0.9166666666666666,
          0.9583333333333334,
          0.9166666666666666,
          0.75,
          0.9583333333333334,
          0.8333333333333334,
          0.875,
          0.7916666666666666,
          0.875,
          0.8333333333333334,
          0.9166666666666666,
          0.9166666666666666,
          0.875,
          0.9166666666666666,
          1,
          1,
          0.9166666666666666,
          0.8333333333333334,
          0.75,
          0.7916666666666666,
          0.8333333333333334,
          0.9166666666666666,
          0.875,
          0.875,
          0.9583333333333334,
          0.8333333333333334,
          0.875,
          0.875,
          0.8333333333333334,
          0.9166666666666666,
          0.9166666666666666,
          0.7916666666666666,
          0.9166666666666666,
          0.9166666666666666,
          0.9166666666666666,
          0.625,
          0.8333333333333334,
          0.75,
          0.7916666666666666,
          0.9583333333333334,
          0.7083333333333334,
          0.875,
          0.9166666666666666,
          0.875,
          0.875,
          0.9583333333333334,
          0.875,
          1,
          0.9166666666666666,
          0.875,
          0.7916666666666666,
          0.875,
          0.9166666666666666,
          0.75,
          0.7083333333333334,
          0.75,
          0.875,
          0.8333333333333334,
          0.875,
          0.875,
          0.75,
          0.7916666666666666,
          0.7916666666666666,
          0.875,
          0.9583333333333334,
          0.875,
          0.9583333333333334,
          0.7083333333333334,
          0.8333333333333334,
          0.875,
          0.875,
          0.8333333333333334,
          1,
          0.9583333333333334,
          0.8333333333333334,
          0.9166666666666666,
          0.9583333333333334,
          0.8333333333333334,
          0.9166666666666666,
          0.8333333333333334,
          1,
          0.75,
          0.875,
          0.9583333333333334,
          0.875,
          0.9166666666666666,
          0.9583333333333334,
          0.9166666666666666,
          0.8333333333333334,
          0.9166666666666666,
          1,
          0.9583333333333334,
          0.9166666666666666,
          0.7916666666666666,
          0.8333333333333334,
          0.9166666666666666,
          0.75,
          0.7083333333333334,
          0.875,
          0.9166666666666666,
          1,
          0.875,
          0.875,
          0.875,
          0.9166666666666666,
          0.875,
          0.875,
          0.9166666666666666,
          0.9583333333333334,
          0.7083333333333334,
          0.8333333333333334,
          0.875,
          1,
          0.9166666666666666,
          0.7916666666666666,
          0.875,
          0.8333333333333334,
          0.875,
          0.875,
          0.9583333333333334,
          0.875,
          0.875,
          0.7916666666666666,
          0.9166666666666666,
          0.7083333333333334,
          0.7083333333333334,
          0.875,
          0.7083333333333334,
          0.9583333333333334,
          1,
          0.9166666666666666,
          0.9583333333333334,
          0.8333333333333334,
          0.75,
          0.75,
          0.7916666666666666,
          0.875,
          0.9166666666666666,
          0.9166666666666666,
          0.875,
          0.875,
          0.8333333333333334,
          0.9583333333333334,
          0.9583333333333334,
          0.75,
          0.9583333333333334,
          0.7916666666666666,
          0.7083333333333334,
          1,
          0.875,
          0.75,
          0.9583333333333334,
          0.75,
          0.9583333333333334,
          0.8333333333333334,
          0.9583333333333334,
          0.9166666666666666,
          0.8333333333333334,
          0.6666666666666666,
          0.625,
          0.9583333333333334,
          0.8333333333333334,
          0.8333333333333334,
          0.75,
          0.9166666666666666,
          0.875,
          0.875,
          0.875,
          0.875,
          0.625,
          0.9166666666666666,
          0.9166666666666666,
          0.9583333333333334,
          0.7916666666666666,
          0.9166666666666666,
          0.75,
          1,
          0.875,
          0.9583333333333334,
          0.9166666666666666,
          0.6666666666666666,
          1,
          0.8333333333333334,
          0.9583333333333334,
          0.9166666666666666,
          0.75,
          0.7916666666666666,
          0.9583333333333334,
          0.7916666666666666,
          0.9166666666666666,
          0.8333333333333334,
          0.75,
          0.7916666666666666,
          0.8333333333333334,
          0.9583333333333334,
          0.875,
          0.8333333333333334,
          0.8333333333333334,
          0.9166666666666666,
          0.875,
          0.8333333333333334,
          0.875,
          0.8333333333333334,
          0.875,
          0.7916666666666666,
          0.75,
          0.875,
          0.9583333333333334,
          0.8333333333333334,
          0.9166666666666666,
          0.875,
          0.9583333333333334,
          0.8333333333333334,
          0.9166666666666666,
          0.7916666666666666,
          0.7916666666666666,
          0.9583333333333334,
          0.875,
          0.8333333333333334,
          0.9166666666666666,
          0.9583333333333334,
          0.9583333333333334,
          0.9166666666666666,
          0.8333333333333334,
          0.9583333333333334,
          0.9166666666666666,
          0.875,
          0.9583333333333334,
          1,
          0.9583333333333334,
          0.875,
          0.9583333333333334,
          0.875,
          0.7916666666666666,
          0.9583333333333334,
          0.9166666666666666,
          0.6666666666666666,
          0.8333333333333334,
          0.9166666666666666,
          0.7916666666666666,
          0.75,
          0.7916666666666666,
          0.8333333333333334,
          0.75,
          0.6666666666666666,
          0.9166666666666666,
          0.7916666666666666,
          0.6666666666666666,
          0.625,
          0.625,
          0.875,
          0.875,
          0.7916666666666666,
          0.875,
          0.9583333333333334,
          0.8333333333333334,
          0.8333333333333334,
          0.9166666666666666,
          0.7916666666666666,
          0.875,
          0.7916666666666666,
          0.9583333333333334,
          0.8333333333333334,
          0.875,
          0.875,
          0.8333333333333334,
          0.7916666666666666,
          0.625,
          0.9166666666666666,
          0.7916666666666666,
          0.9583333333333334,
          0.9583333333333334,
          0.9166666666666666,
          0.875,
          0.6666666666666666,
          0.7083333333333334,
          0.6666666666666666,
          0.7916666666666666,
          0.875,
          0.9166666666666666,
          0.7916666666666666,
          0.5,
          0.8333333333333334,
          0.875,
          0.7916666666666666,
          0.7916666666666666,
          0.75,
          0.9166666666666666,
          0.7916666666666666,
          0.875,
          0.7083333333333334,
          0.7916666666666666,
          0.875,
          0.4583333333333333,
          0.7916666666666666,
          0.7916666666666666,
          0.8333333333333334,
          0.8333333333333334,
          0.875,
          0.875,
          0.875,
          0.75,
          0.9583333333333334,
          0.8333333333333334,
          0.875,
          0.875,
          0.8333333333333334,
          0.75,
          0.875,
          0.75,
          0.875,
          0.8333333333333334,
          0.9166666666666666,
          0.875,
          0.9166666666666666,
          0.75,
          0.7916666666666666,
          0.75,
          0.625,
          0.875,
          0.875,
          0.9166666666666666,
          0.7916666666666666,
          0.7916666666666666,
          0.9166666666666666,
          0.7916666666666666,
          0.875,
          0.625,
          0.9166666666666666,
          0.9166666666666666,
          0.875,
          0.7916666666666666,
          0.9166666666666666,
          0.9166666666666666,
          0.875,
          0.7916666666666666,
          0.75,
          0.9583333333333334,
          0.75,
          0.9166666666666666,
          0.9166666666666666,
          0.875,
          0.7083333333333334,
          0.7916666666666666,
          0.7916666666666666,
          0.6666666666666666,
          0.7083333333333334,
          0.9583333333333334,
          0.75,
          0.9583333333333334,
          0.6666666666666666,
          0.9166666666666666,
          0.75,
          0.6666666666666666,
          0.875,
          0.8333333333333334,
          0.8333333333333334,
          0.8333333333333334,
          0.75,
          0.7083333333333334,
          0.875,
          1,
          0.7916666666666666,
          0.9166666666666666,
          0.875,
          0.9166666666666666,
          0.875,
          0.9166666666666666,
          0.9166666666666666,
          0.9166666666666666,
          0.9583333333333334,
          0.5416666666666666,
          0.9166666666666666,
          0.7916666666666666,
          0.9583333333333334,
          0.8333333333333334,
          0.875,
          0.875,
          0.9583333333333334,
          0.8333333333333334,
          0.875,
          0.8333333333333334,
          0.9583333333333334,
          0.9583333333333334,
          0.7083333333333334,
          0.7083333333333334,
          0.9166666666666666,
          0.9583333333333334,
          0.9583333333333334,
          1,
          0.875,
          0.8333333333333334,
          0.9166666666666666,
          0.7916666666666666,
          0.625,
          0.9166666666666666,
          0.9583333333333334,
          0.7083333333333334,
          0.8333333333333334,
          0.7916666666666666,
          0.75,
          0.8333333333333334,
          0.875,
          0.7083333333333334,
          0.875,
          0.875,
          0.7916666666666666,
          0.6666666666666666,
          0.875,
          0.875,
          0.9166666666666666,
          0.9166666666666666,
          0.8333333333333334,
          0.8333333333333334,
          0.9166666666666666,
          0.9583333333333334,
          0.7916666666666666,
          0.9166666666666666,
          0.875,
          0.8333333333333334,
          1,
          0.9583333333333334,
          0.7083333333333334,
          0.75,
          0.75,
          0.9166666666666666,
          0.75,
          0.9166666666666666,
          0.75,
          0.9583333333333334,
          0.9166666666666666,
          1,
          0.9166666666666666,
          1,
          0.9166666666666666,
          0.9583333333333334,
          0.7916666666666666,
          0.8333333333333334,
          0.75,
          0.75,
          0.875,
          0.8333333333333334,
          0.75,
          0.7916666666666666,
          0.8333333333333334,
          0.9583333333333334,
          0.9166666666666666,
          0.75,
          0.9583333333333334,
          0.9166666666666666,
          0.9583333333333334,
          0.875,
          0.9583333333333334,
          0.9166666666666666,
          1,
          0.8333333333333334,
          0.7916666666666666,
          0.7916666666666666,
          0.8333333333333334,
          0.8333333333333334,
          0.9166666666666666,
          0.7916666666666666,
          0.7916666666666666,
          0.9166666666666666,
          0.7916666666666666,
          0.9583333333333334,
          0.9166666666666666,
          0.8333333333333334,
          0.9583333333333334,
          0.8333333333333334,
          0.9166666666666666,
          0.9166666666666666,
          0.9166666666666666,
          0.5416666666666666,
          0.8333333333333334,
          0.875,
          0.9583333333333334,
          0.9166666666666666,
          0.7916666666666666,
          0.9166666666666666,
          0.875,
          0.9166666666666666,
          0.875,
          0.7916666666666666,
          0.875,
          0.9583333333333334,
          0.9166666666666666,
          0.9583333333333334,
          0.8333333333333334,
          0.75,
          0.75,
          0.7916666666666666,
          0.875,
          0.9166666666666666,
          0.75,
          1,
          0.9583333333333334,
          0.9166666666666666,
          0.625,
          0.7916666666666666,
          0.875,
          0.75,
          0.9166666666666666,
          0.9166666666666666,
          0.9166666666666666,
          0.8333333333333334,
          1,
          0.875,
          1,
          0.875,
          0.2916666666666667,
          0.875,
          0.9166666666666666,
          0.875,
          0.75,
          0.8333333333333334,
          0.9166666666666666,
          0.625,
          0.7916666666666666,
          0.875,
          0.7916666666666666,
          0.8333333333333334,
          0.9166666666666666,
          0.7916666666666666,
          0.9166666666666666,
          0.875,
          0.7083333333333334,
          0.9166666666666666,
          0.75,
          0.875,
          0.875,
          0.75,
          0.8333333333333334,
          0.75,
          0.7916666666666666,
          0.875,
          0.9583333333333334,
          0.8333333333333334,
          0.9166666666666666,
          0.875,
          0.75,
          0.625,
          0.875,
          0.875,
          0.9166666666666666,
          0.9583333333333334,
          0.9166666666666666,
          0.7916666666666666,
          0.9583333333333334,
          0.7083333333333334,
          0.8333333333333334,
          0.5833333333333334,
          0.875,
          0.8333333333333334,
          0.7083333333333334,
          0.875,
          0.7083333333333334,
          0.7916666666666666,
          0.9583333333333334,
          0.7916666666666666,
          0.875,
          0.8333333333333334,
          0.875,
          0.9166666666666666,
          0.9166666666666666,
          0.875,
          0.75,
          0.875,
          0.7083333333333334,
          0.6666666666666666,
          0.875,
          0.8333333333333334,
          0.875,
          0.75,
          0.875,
          0.7916666666666666,
          0.625,
          0.75,
          0.75,
          0.75,
          0.625,
          0.75,
          0.8333333333333334,
          0.8333333333333334,
          0.7916666666666666,
          0.7916666666666666,
          0.875,
          0.7916666666666666,
          0.875,
          0.7916666666666666,
          0.8333333333333334,
          0.9166666666666666,
          0.9166666666666666,
          0.875,
          0.9166666666666666,
          0.7083333333333334,
          0.8333333333333334,
          0.9166666666666666,
          0.7916666666666666,
          0.75,
          0.875,
          0.6666666666666666,
          0.7916666666666666,
          0.8333333333333334,
          0.7916666666666666,
          0.8333333333333334,
          0.7916666666666666,
          0.9166666666666666,
          0.875,
          0.7916666666666666,
          0.7083333333333334,
          0.625,
          0.875,
          0.6666666666666666,
          0.9166666666666666,
          0.875,
          0.6666666666666666,
          0.7916666666666666,
          0.875,
          0.7083333333333334,
          0.75,
          0.8333333333333334,
          0.8333333333333334,
          0.8333333333333334,
          0.6666666666666666,
          0.7916666666666666,
          0.8333333333333334,
          0.7916666666666666,
          0.875,
          0.8333333333333334,
          0.8333333333333334,
          0.875,
          0.75,
          0.75,
          0.8333333333333334,
          0.9166666666666666,
          0.7916666666666666,
          0.875,
          1,
          0.75,
          0.875,
          0.9166666666666666,
          0.9166666666666666,
          0.875,
          0.8333333333333334,
          0.875,
          0.7083333333333334,
          0.9583333333333334,
          0.7916666666666666,
          0.75,
          0.8333333333333334,
          0.7916666666666666,
          0.9583333333333334,
          0.8333333333333334,
          0.9166666666666666,
          0.875,
          0.7916666666666666,
          0.875,
          0.75,
          0.6666666666666666,
          0.9583333333333334,
          0.8333333333333334,
          0.9166666666666666,
          0.7916666666666666,
          0.7916666666666666,
          0.9583333333333334,
          0.8333333333333334,
          0.625,
          0.9583333333333334,
          0.7916666666666666,
          0.9166666666666666,
          0.9166666666666666,
          0.9583333333333334,
          0.9583333333333334,
          0.875,
          0.9166666666666666,
          1,
          0.9166666666666666,
          0.7916666666666666,
          0.9166666666666666,
          0.9166666666666666,
          0.875,
          0.75,
          0.9166666666666666,
          1,
          0.875,
          0.9583333333333334,
          0.7916666666666666,
          0.8333333333333334,
          0.875,
          0.875,
          0.875,
          0.9583333333333334,
          0.9166666666666666,
          0.9583333333333334,
          0.875,
          0.9166666666666666,
          0.9166666666666666,
          0.8333333333333334,
          0.9166666666666666,
          0.9166666666666666,
          0.875,
          0.9166666666666666,
          0.875,
          0.875,
          0.7916666666666666,
          0.9166666666666666,
          0.875,
          0.875,
          0.875,
          0.9166666666666666,
          0.875,
          0.7916666666666666,
          0.8333333333333334,
          0.7916666666666666,
          0.7916666666666666,
          0.875,
          0.6666666666666666,
          0.8333333333333334,
          0.9166666666666666,
          0.7916666666666666,
          0.9166666666666666,
          0.875,
          0.875,
          0.7916666666666666,
          0.7916666666666666,
          0.6666666666666666,
          0.7083333333333334,
          0.8333333333333334,
          0.8333333333333334,
          0.9166666666666666,
          0.8333333333333334,
          0.875,
          0.875,
          0.9583333333333334,
          0.7916666666666666,
          0.9583333333333334,
          0.8333333333333334,
          0.8333333333333334,
          0.9166666666666666,
          0.875,
          0.9166666666666666,
          0.625,
          0.9583333333333334,
          0.9583333333333334,
          0.875,
          0.8333333333333334,
          0.9166666666666666,
          0.8333333333333334,
          0.9583333333333334,
          0.9166666666666666,
          0.9583333333333334,
          0.9583333333333334,
          0.9583333333333334,
          0.9166666666666666,
          0.9583333333333334,
          0.9583333333333334,
          0.9166666666666666,
          0.9583333333333334,
          0.9583333333333334,
          0.9166666666666666,
          0.9583333333333334,
          0.8333333333333334,
          0.9166666666666666,
          0.8333333333333334,
          1,
          0.8333333333333334,
          0.875,
          0.875,
          0.875,
          0.7916666666666666,
          0.9583333333333334,
          0.9583333333333334,
          0.875,
          0.875,
          0.7916666666666666,
          0.9166666666666666,
          0.9583333333333334,
          0.9583333333333334,
          0.7916666666666666,
          0.9583333333333334,
          0.7916666666666666,
          0.875,
          0.9583333333333334,
          0.9583333333333334,
          0.9166666666666666,
          0.9583333333333334,
          0.9583333333333334,
          0.8333333333333334,
          0.875,
          1,
          0.8333333333333334,
          0.9166666666666666,
          0.9583333333333334,
          0.875,
          0.9166666666666666,
          0.9166666666666666,
          0.8333333333333334,
          0.9166666666666666,
          0.8333333333333334,
          0.875,
          0.875,
          0.9166666666666666,
          0.8333333333333334,
          0.875,
          0.8333333333333334,
          0.8333333333333334,
          0.75,
          0.875,
          0.7916666666666666,
          0.8333333333333334,
          0.9166666666666666,
          0.9166666666666666,
          0.9583333333333334,
          0.9166666666666666,
          0.8333333333333334,
          0.9166666666666666,
          0.8333333333333334,
          0.9166666666666666,
          0.75,
          0.875,
          0.9583333333333334,
          0.8333333333333334,
          0.9166666666666666,
          0.9583333333333334,
          0.5833333333333334,
          0.9166666666666666,
          0.75,
          0.875,
          0.8333333333333334,
          1,
          0.875,
          0.75,
          0.9166666666666666,
          0.7916666666666666,
          0.8333333333333334,
          0.9166666666666666,
          0.875,
          0.6666666666666666,
          0.875,
          0.75,
          0.7916666666666666,
          0.875,
          0.75,
          0.75,
          0.9583333333333334,
          0.875,
          0.8333333333333334,
          0.7916666666666666,
          0.875,
          0.7916666666666666,
          0.9166666666666666,
          0.7083333333333334,
          0.875,
          0.8333333333333334,
          0.7916666666666666,
          0.875,
          0.875,
          0.8333333333333334,
          0.9583333333333334,
          0.6666666666666666,
          0.875,
          0.875,
          0.9166666666666666,
          0.8333333333333334,
          0.8333333333333334,
          0.75,
          0.7916666666666666,
          0.7916666666666666,
          0.875,
          0.9166666666666666,
          0.8333333333333334,
          0.7916666666666666,
          0.875,
          0.7916666666666666,
          0.8333333333333334,
          0.75,
          0.75,
          0.7083333333333334,
          0.8333333333333334,
          0.75,
          0.7916666666666666,
          0.7916666666666666,
          0.75,
          0.7916666666666666,
          0.8333333333333334,
          0.9583333333333334,
          0.75,
          0.875,
          0.7083333333333334,
          0.8333333333333334,
          0.6666666666666666,
          0.9166666666666666,
          0.7916666666666666,
          0.75,
          0.75,
          0.7083333333333334,
          0.8333333333333334,
          0.7916666666666666,
          0.9583333333333334,
          0.8333333333333334,
          0.7916666666666666,
          0.625,
          0.75,
          0.9166666666666666,
          0.7916666666666666,
          0.875,
          0.875,
          0.9166666666666666,
          0.7916666666666666,
          0.875,
          0.7916666666666666,
          0.7083333333333334,
          1,
          0.7916666666666666,
          0.75,
          0.9166666666666666,
          0.875,
          0.875,
          0.8333333333333334,
          0.875,
          0.7916666666666666,
          0.875,
          0.875,
          0.7916666666666666,
          0.875,
          0.9166666666666666,
          0.9166666666666666,
          0.75,
          0.9166666666666666,
          0.75,
          0.7083333333333334,
          0.625,
          0.8333333333333334,
          0.875,
          0.875,
          0.875,
          0.8333333333333334,
          0.9166666666666666,
          0.875,
          1,
          0.7083333333333334,
          0.625,
          0.875,
          0.9166666666666666,
          0.8333333333333334,
          0.7916666666666666,
          0.8333333333333334,
          0.9166666666666666,
          0.9166666666666666,
          0.7916666666666666,
          1,
          0.8333333333333334,
          0.7916666666666666,
          0.8333333333333334,
          0.75,
          0.875,
          0.7916666666666666,
          0.7916666666666666,
          0.7083333333333334,
          0.7916666666666666,
          0.9583333333333334,
          0.7916666666666666,
          0.9583333333333334,
          0.875,
          0.75,
          0.875,
          0.875,
          0.875,
          1,
          0.875,
          0.8333333333333334,
          0.6666666666666666,
          0.9166666666666666,
          0.8333333333333334,
          0.875,
          0.8333333333333334,
          0.875,
          0.9166666666666666,
          0.7916666666666666,
          0.875,
          0.9166666666666666,
          0.75,
          0.9166666666666666,
          0.8333333333333334,
          0.9166666666666666,
          0.7916666666666666,
          0.8333333333333334,
          0.875,
          0.8333333333333334,
          0.75,
          0.8333333333333334,
          0.7916666666666666,
          0.8333333333333334,
          0.75,
          0.875,
          0.75,
          0.7083333333333334,
          0.9583333333333334,
          0.7916666666666666,
          0.875,
          0.9166666666666666,
          0.7916666666666666,
          0.7916666666666666,
          0.875,
          0.7916666666666666,
          0.9166666666666666,
          0.7916666666666666,
          0.8333333333333334,
          0.7083333333333334,
          0.9583333333333334,
          0.75,
          0.9166666666666666,
          0.9166666666666666,
          1,
          0.7083333333333334,
          0.75,
          0.875,
          0.8333333333333334,
          0.8333333333333334,
          0.875,
          0.9166666666666666,
          0.9166666666666666,
          0.9166666666666666,
          0.9166666666666666,
          1,
          0.7916666666666666,
          0.9583333333333334,
          0.75,
          0.625,
          0.5833333333333334,
          0.9583333333333334,
          0.875,
          0.875,
          0.8333333333333334,
          0.9583333333333334,
          0.6666666666666666,
          0.8333333333333334,
          0.9166666666666666,
          0.75,
          0.75,
          0.7916666666666666,
          0.9166666666666666,
          0.875,
          0.7083333333333334,
          0.6666666666666666,
          0.8333333333333334,
          0.7916666666666666,
          0.875,
          1,
          0.875,
          0.8333333333333334,
          0.8333333333333334,
          0.75,
          0.8333333333333334,
          0.875,
          0.75,
          0.8333333333333334,
          0.7916666666666666,
          0.7083333333333334,
          0.6666666666666666,
          0.9583333333333334,
          0.9166666666666666,
          0.875,
          0.875,
          0.9166666666666666,
          0.8333333333333334,
          0.8333333333333334,
          0.875,
          0.7083333333333334,
          0.875,
          0.875,
          1,
          0.7083333333333334,
          0.75,
          0.75,
          0.875,
          0.875,
          0.75,
          0.9583333333333334,
          1,
          0.75,
          0.8333333333333334,
          0.875,
          0.8333333333333334,
          0.7916666666666666,
          0.875,
          0.7916666666666666,
          0.8333333333333334,
          0.9583333333333334,
          0.875,
          0.9166666666666666,
          0.7916666666666666,
          0.8333333333333334,
          0.9583333333333334,
          0.9166666666666666,
          0.7916666666666666,
          0.8333333333333334,
          0.875,
          0.7083333333333334,
          0.7916666666666666,
          0.75,
          0.7916666666666666,
          0.6666666666666666,
          0.9583333333333334,
          0.875,
          0.8333333333333334,
          0.9166666666666666,
          1,
          0.625,
          0.8333333333333334,
          0.875,
          0.7916666666666666,
          0.9166666666666666,
          0.9166666666666666,
          0.8333333333333334,
          0.8333333333333334,
          0.8333333333333334,
          0.7916666666666666,
          0.7916666666666666,
          0.9166666666666666,
          0.9166666666666666,
          0.7916666666666666,
          0.75,
          0.8333333333333334,
          0.7916666666666666,
          0.8333333333333334,
          0.875,
          0.8333333333333334,
          0.7916666666666666,
          0.7916666666666666,
          0.7916666666666666,
          0.875,
          0.8333333333333334,
          0.875,
          0.75,
          0.9583333333333334,
          0.7083333333333334,
          0.875,
          0.7916666666666666,
          0.875,
          0.75,
          0.8333333333333334,
          0.7916666666666666,
          0.875,
          0.9166666666666666,
          0.625,
          0.8333333333333334,
          0.7916666666666666,
          0.8333333333333334,
          0.8333333333333334,
          0.6666666666666666,
          0.8333333333333334,
          0.9583333333333334,
          0.875,
          0.875,
          0.75,
          0.875,
          0.9166666666666666,
          0.4583333333333333,
          0.8333333333333334,
          0.8333333333333334,
          0.9166666666666666,
          0.875,
          0.7083333333333334,
          1,
          0.875,
          0.9166666666666666,
          0.875,
          0.875,
          0.8333333333333334,
          0.7083333333333334,
          0.9166666666666666,
          1,
          0.875,
          0.7916666666666666,
          0.8333333333333334,
          0.875,
          0.7916666666666666,
          0.8333333333333334,
          0.7083333333333334,
          0.7083333333333334,
          0.7916666666666666,
          0.8333333333333334,
          0.625,
          0.75,
          0.75,
          0.8333333333333334,
          0.8333333333333334,
          0.8333333333333334,
          0.9166666666666666,
          0.9583333333333334,
          1,
          0.9166666666666666,
          0.7083333333333334,
          0.9583333333333334,
          0.7916666666666666,
          0.6666666666666666,
          0.8333333333333334,
          0.9166666666666666,
          0.7916666666666666,
          0.9166666666666666,
          0.6666666666666666,
          0.7916666666666666,
          0.9166666666666666,
          0.8333333333333334,
          0.8333333333333334,
          0.7916666666666666,
          0.875,
          0.9583333333333334,
          1,
          0.875,
          0.875,
          0.875,
          0.875,
          0.875,
          0.75,
          0.7916666666666666,
          0.9166666666666666,
          0.7916666666666666,
          0.75,
          0.7916666666666666,
          0.9583333333333334,
          0.9583333333333334,
          0.9166666666666666,
          0.7083333333333334,
          0.8333333333333334,
          0.6666666666666666,
          0.7083333333333334,
          0.875,
          0.8333333333333334,
          0.75,
          0.8333333333333334,
          0.9166666666666666,
          0.9166666666666666,
          0.9166666666666666,
          0.7083333333333334,
          0.9166666666666666,
          0.9166666666666666,
          0.875,
          0.8333333333333334,
          0.9166666666666666,
          1,
          0.875,
          0.8333333333333334,
          0.625,
          0.7083333333333334,
          0.6666666666666666,
          1,
          0.9166666666666666,
          0.8333333333333334,
          0.875,
          0.875,
          0.9583333333333334,
          0.7916666666666666,
          0.875,
          0.9583333333333334,
          0.8333333333333334,
          0.7916666666666666,
          0.9583333333333334,
          0.9583333333333334,
          0.7083333333333334,
          0.7916666666666666,
          0.625,
          0.7916666666666666,
          0.9166666666666666,
          0.8333333333333334,
          0.75,
          0.8333333333333334,
          0.875,
          0.9166666666666666,
          0.9583333333333334,
          0.8333333333333334,
          0.7916666666666666,
          0.8333333333333334,
          0.7083333333333334,
          0.8333333333333334,
          0.875,
          1,
          0.75,
          0.8333333333333334,
          0.875,
          0.7916666666666666,
          0.9583333333333334,
          0.9166666666666666,
          0.9166666666666666,
          0.75,
          0.9583333333333334,
          0.625,
          0.875,
          0.75,
          0.9166666666666666,
          0.8333333333333334,
          0.7916666666666666,
          0.8333333333333334,
          0.875,
          0.7916666666666666,
          0.5416666666666666,
          0.9583333333333334,
          0.7083333333333334,
          0.7916666666666666,
          0.9583333333333334,
          0.9166666666666666,
          0.8333333333333334,
          0.875,
          0.9166666666666666,
          0.7916666666666666,
          0.6666666666666666,
          0.75,
          0.6666666666666666,
          0.875,
          0.7083333333333334,
          0.8333333333333334,
          0.9583333333333334,
          0.7083333333333334,
          0.7916666666666666,
          0.7916666666666666,
          0.8333333333333334,
          0.7916666666666666,
          0.7916666666666666,
          0.75,
          0.7083333333333334,
          0.75,
          0.8333333333333334,
          0.8333333333333334,
          0.9166666666666666,
          0.8333333333333334,
          0.8333333333333334,
          0.9166666666666666,
          0.9166666666666666,
          0.8333333333333334,
          0.875,
          0.625,
          0.9583333333333334,
          0.9166666666666666,
          0.7916666666666666,
          1,
          0.875,
          0.875,
          0.8333333333333334,
          0.7916666666666666,
          0.7083333333333334,
          0.75,
          0.875,
          0.9166666666666666,
          0.875,
          0.8333333333333334,
          0.6666666666666666,
          0.875,
          0.75,
          0.7916666666666666,
          0.9166666666666666,
          0.8333333333333334,
          0.8333333333333334,
          0.875,
          0.7916666666666666,
          0.875,
          0.6666666666666666,
          0.9166666666666666,
          0.7083333333333334,
          0.75,
          0.9166666666666666,
          0.7083333333333334,
          0.8333333333333334,
          0.9583333333333334,
          0.6666666666666666,
          0.7083333333333334,
          0.625,
          0.75,
          0.75,
          0.75,
          0.75,
          0.8333333333333334,
          0.9583333333333334,
          0.75,
          0.8333333333333334,
          0.9166666666666666,
          0.8333333333333334,
          1,
          0.7083333333333334,
          0.7083333333333334,
          0.8333333333333334,
          0.75,
          0.8333333333333334,
          0.7916666666666666,
          0.875,
          0.875,
          0.9166666666666666,
          0.875,
          0.9166666666666666,
          0.875,
          0.7083333333333334,
          0.9166666666666666,
          0.7916666666666666,
          0.7916666666666666,
          0.8333333333333334,
          0.875,
          0.9583333333333334,
          0.8333333333333334,
          0.9583333333333334,
          1,
          0.6666666666666666,
          0.875,
          0.75,
          0.875,
          0.875,
          0.75,
          0.7916666666666666,
          0.875,
          0.9166666666666666,
          0.8333333333333334,
          0.9166666666666666,
          0.875,
          0.75,
          0.875,
          0.875,
          0.9166666666666666,
          0.8333333333333334,
          0.9583333333333334,
          0.75,
          0.8333333333333334,
          0.875,
          0.75,
          0.8333333333333334,
          0.625,
          0.8333333333333334,
          0.7916666666666666,
          0.5833333333333334,
          0.875,
          0.6666666666666666,
          0.8333333333333334,
          0.2916666666666667,
          0.8333333333333334,
          0.75,
          0.7916666666666666,
          0.6666666666666666,
          0.7916666666666666,
          0.875,
          0.9583333333333334,
          0.75,
          0.875,
          0.9166666666666666,
          0.8333333333333334,
          0.7083333333333334,
          0.7916666666666666,
          0.9583333333333334,
          0.875,
          0.6666666666666666,
          0.9166666666666666,
          0.6666666666666666,
          0.875,
          0.8333333333333334,
          0.8333333333333334,
          0.9166666666666666,
          0.7916666666666666,
          0.7916666666666666,
          0.8333333333333334,
          0.8333333333333334,
          0.875,
          0.875,
          0.875,
          0.7916666666666666,
          0.9166666666666666,
          1,
          0.7916666666666666,
          0.9166666666666666,
          0.8333333333333334,
          0.75,
          0.7916666666666666,
          0.875,
          0.8333333333333334,
          0.9583333333333334,
          0.9583333333333334,
          0.875,
          0.625,
          0.875,
          0.7083333333333334,
          0.7083333333333334,
          0.6666666666666666,
          0.7916666666666666,
          0.7916666666666666,
          0.8333333333333334,
          0.875,
          0.875,
          0.875,
          0.75,
          0.9166666666666666,
          0.8333333333333334,
          0.9166666666666666,
          0.75,
          0.875,
          0.7916666666666666,
          0.7916666666666666,
          0.7083333333333334,
          0.875,
          0.875,
          0.7083333333333334,
          0.875,
          0.8333333333333334,
          0.875,
          0.9166666666666666,
          0.8333333333333334,
          0.75,
          0.8333333333333334,
          0.8333333333333334,
          0.8333333333333334,
          0.7916666666666666,
          0.7083333333333334,
          0.9166666666666666,
          0.9583333333333334,
          0.875,
          0.9166666666666666,
          0.8333333333333334,
          0.7916666666666666,
          0.7916666666666666,
          0.75,
          0.875,
          0.875,
          0.7916666666666666,
          0.875,
          0.9166666666666666,
          0.875,
          0.625,
          0.875,
          0.7083333333333334,
          0.9166666666666666,
          0.7916666666666666,
          0.7083333333333334,
          0.9166666666666666,
          0.7916666666666666,
          0.7083333333333334,
          0.7916666666666666,
          0.875,
          0.875,
          0.8333333333333334,
          0.8333333333333334,
          0.75,
          0.9166666666666666,
          0.7083333333333334,
          0.8333333333333334,
          0.9166666666666666,
          0.75,
          0.7916666666666666,
          0.8333333333333334,
          0.75,
          0.7083333333333334,
          0.5833333333333334,
          0.7083333333333334,
          0.9166666666666666,
          0.8333333333333334,
          0.875,
          0.9166666666666666,
          0.7916666666666666,
          0.9583333333333334,
          0.875,
          0.7916666666666666,
          0.6666666666666666,
          0.7916666666666666,
          0.8333333333333334,
          0.8333333333333334,
          0.9583333333333334,
          0.8333333333333334,
          0.7916666666666666,
          0.8333333333333334,
          0.9166666666666666,
          0.7083333333333334,
          0.9166666666666666,
          0.8333333333333334,
          0.7083333333333334,
          0.7083333333333334,
          0.9166666666666666,
          0.875,
          0.75,
          0.9583333333333334,
          0.8333333333333334,
          0.9583333333333334,
          0.7916666666666666,
          0.8333333333333334,
          0.625,
          0.6666666666666666,
          0.9166666666666666,
          0.7083333333333334,
          0.8333333333333334,
          0.7083333333333334,
          0.875,
          0.9166666666666666,
          0.9166666666666666,
          0.8333333333333334,
          0.8333333333333334,
          0.7916666666666666,
          0.875,
          0.8333333333333334,
          0.875,
          0.7916666666666666,
          0.8333333333333334,
          0.5833333333333334,
          0.9166666666666666,
          0.75,
          0.9166666666666666,
          0.7083333333333334,
          0.75,
          0.875,
          0.625,
          0.625,
          0.7083333333333334,
          0.875,
          0.9166666666666666,
          0.75,
          1,
          0.8333333333333334,
          0.8333333333333334,
          0.8333333333333334,
          0.7083333333333334,
          0.7916666666666666,
          0.75,
          0.7916666666666666,
          0.875,
          0.9166666666666666,
          0.7916666666666666,
          0.75,
          0.7916666666666666,
          0.9166666666666666,
          0.75,
          0.9166666666666666,
          0.7916666666666666,
          0.7916666666666666,
          0.875,
          0.7916666666666666,
          0.8333333333333334,
          0.9166666666666666,
          0.7916666666666666,
          0.7083333333333334,
          0.7916666666666666,
          0.9166666666666666,
          0.7916666666666666,
          0.7083333333333334,
          0.75,
          0.8333333333333334,
          0.9583333333333334,
          0.8333333333333334,
          0.625,
          0.875,
          0.7916666666666666,
          0.8333333333333334,
          0.875,
          0.875,
          0.8333333333333334,
          0.75,
          0.7083333333333334,
          0.7083333333333334,
          0.875,
          0.875,
          0.7916666666666666,
          0.8333333333333334,
          0.7916666666666666,
          0.6666666666666666,
          0.875,
          0.875,
          0.75,
          0.7083333333333334,
          0.875,
          0.7916666666666666,
          0.8333333333333334,
          0.7916666666666666,
          0.75,
          0.7916666666666666,
          0.8333333333333334,
          0.9166666666666666,
          0.9583333333333334,
          0.9583333333333334,
          0.7916666666666666,
          0.75,
          0.75,
          1,
          0.7083333333333334,
          0.7916666666666666,
          0.75,
          0.625,
          0.875,
          0.75,
          0.9166666666666666,
          0.875,
          0.8333333333333334,
          0.7083333333333334,
          0.875,
          0.8333333333333334,
          0.7916666666666666,
          0.7916666666666666,
          0.6666666666666666,
          0.9166666666666666,
          0.875,
          0.8333333333333334,
          0.875,
          0.75,
          0.8333333333333334,
          0.8333333333333334,
          0.9166666666666666,
          0.8333333333333334,
          0.7916666666666666,
          0.75,
          0.7916666666666666,
          0.7916666666666666,
          0.875,
          0.75,
          0.75,
          0.7916666666666666,
          0.875,
          0.2083333333333333,
          0.7916666666666666,
          0.75,
          0.9166666666666666,
          0.8333333333333334,
          0.8333333333333334,
          0.7916666666666666,
          1,
          0.875,
          0.8333333333333334,
          0.875,
          0.75,
          0.9583333333333334,
          0.9166666666666666,
          0.75,
          0.9166666666666666,
          0.875,
          0.875,
          0.875,
          0.9166666666666666,
          0.9583333333333334,
          0.75,
          0.8333333333333334,
          0.9166666666666666,
          0.7083333333333334,
          0.7916666666666666,
          0.8333333333333334,
          0.875,
          0.7916666666666666,
          0.875,
          0.875,
          0.7916666666666666,
          0.7083333333333334,
          0.7916666666666666,
          0.9166666666666666,
          0.8333333333333334,
          0.9166666666666666,
          0.75,
          0.875,
          0.9166666666666666,
          0.75,
          0.9166666666666666,
          0.7916666666666666,
          0.7916666666666666,
          0.6666666666666666,
          0.8333333333333334,
          0.875,
          0.9166666666666666,
          0.7916666666666666,
          0.75,
          0.75,
          0.8333333333333334,
          0.9166666666666666,
          0.8333333333333334,
          0.7916666666666666,
          0.875,
          0.9583333333333334,
          0.8333333333333334,
          0.8333333333333334,
          0.8333333333333334,
          0.9166666666666666,
          0.8333333333333334,
          0.7083333333333334,
          0.9583333333333334,
          0.875,
          0.875,
          0.75,
          0.9583333333333334,
          0.875,
          0.875,
          0.875,
          0.8333333333333334,
          0.7083333333333334,
          0.7916666666666666,
          0.7916666666666666,
          0.9583333333333334,
          0.8333333333333334,
          0.8333333333333334,
          0.75,
          0.75,
          0.8333333333333334,
          0.9166666666666666,
          0.75,
          0.8333333333333334,
          0.875,
          0.7916666666666666,
          0.8333333333333334,
          0.8333333333333334,
          0.8333333333333334,
          0.875,
          0.8333333333333334,
          0.875,
          0.875,
          0.6666666666666666,
          0.7916666666666666,
          0.7083333333333334,
          0.8333333333333334,
          0.8333333333333334,
          0.8333333333333334,
          0.9583333333333334,
          1,
          0.9583333333333334,
          0.8333333333333334,
          0.8333333333333334,
          0.875,
          0.9583333333333334,
          0.7083333333333334,
          0.7083333333333334,
          0.8333333333333334,
          0.7916666666666666,
          0.7916666666666666,
          0.9583333333333334,
          0.7916666666666666,
          0.75,
          0.875,
          0.75,
          0.7083333333333334,
          0.8333333333333334,
          0.875,
          0.7916666666666666,
          0.75,
          0.7916666666666666,
          0.75,
          0.7083333333333334,
          0.875,
          0.7083333333333334,
          0.8333333333333334,
          0.7916666666666666,
          0.8333333333333334,
          0.7083333333333334,
          0.8333333333333334,
          0.9166666666666666,
          1,
          0.6666666666666666,
          0.9583333333333334,
          0.75,
          0.875,
          0.7916666666666666,
          0.75,
          0.75,
          0.9166666666666666,
          0.9583333333333334,
          0.75,
          0.7916666666666666,
          0.625,
          0.7083333333333334,
          0.75,
          0.6666666666666666,
          0.7916666666666666,
          0.8333333333333334,
          0.7083333333333334,
          0.75,
          0.8333333333333334,
          0.9583333333333334,
          0.9166666666666666,
          0.7083333333333334,
          0.875,
          0.8333333333333334,
          0.8333333333333334,
          0.9583333333333334,
          0.7916666666666666,
          0.8333333333333334,
          0.9166666666666666,
          0.9166666666666666,
          0.7083333333333334,
          0.9166666666666666,
          0.875,
          0.6666666666666666,
          0.75,
          0.7916666666666666,
          0.9166666666666666,
          0.75,
          0.9166666666666666,
          0.7916666666666666,
          0.7916666666666666,
          0.7083333333333334,
          0.7916666666666666,
          0.8333333333333334,
          0.7916666666666666,
          0.8333333333333334,
          0.9166666666666666,
          0.875,
          0.8333333333333334,
          0.875,
          0.8333333333333334,
          0.75,
          0.875,
          0.8333333333333334,
          0.8333333333333334,
          0.7916666666666666,
          0.7083333333333334,
          0.875,
          0.7916666666666666,
          0.6666666666666666,
          0.8333333333333334,
          0.875,
          0.8333333333333334,
          1,
          0.875,
          0.9166666666666666,
          0.8333333333333334,
          0.8333333333333334,
          0.75,
          0.875,
          0.9166666666666666,
          0.9166666666666666,
          0.75,
          0.7916666666666666,
          0.6666666666666666,
          0.9166666666666666,
          0.75,
          0.8333333333333334,
          0.875,
          0.875,
          0.9166666666666666,
          0.9583333333333334,
          0.9583333333333334,
          0.8333333333333334,
          0.7916666666666666,
          0.875,
          0.7083333333333334,
          0.7083333333333334,
          0.875,
          0.9583333333333334,
          0.75,
          0.7916666666666666,
          0.9583333333333334,
          0.7916666666666666,
          0.7916666666666666,
          0.9166666666666666,
          0.9166666666666666,
          0.75,
          0.8333333333333334,
          0.875,
          0.875,
          0.8333333333333334,
          0.8333333333333334,
          0.7916666666666666,
          0.8333333333333334,
          0.9583333333333334,
          0.9166666666666666,
          0.75,
          0.9166666666666666,
          0.8333333333333334,
          0.75,
          0.9583333333333334,
          0.75,
          0.9583333333333334,
          0.7083333333333334,
          0.7083333333333334,
          0.8333333333333334,
          0.6666666666666666,
          0.7916666666666666,
          0.875,
          0.7083333333333334,
          0.9166666666666666,
          0.875,
          0.625,
          0.7083333333333334,
          0.7083333333333334,
          0.9583333333333334,
          0.8333333333333334,
          0.875,
          0.9166666666666666,
          0.7916666666666666,
          0.75,
          0.8333333333333334,
          0.75,
          0.8333333333333334,
          0.7083333333333334,
          0.7916666666666666,
          0.9166666666666666,
          0.8333333333333334,
          0.875,
          0.8333333333333334,
          0.9166666666666666,
          0.7916666666666666,
          0.75,
          0.8333333333333334,
          0.9166666666666666,
          0.7916666666666666,
          0.8333333333333334,
          0.7083333333333334,
          0.7083333333333334,
          0.7916666666666666,
          0.9166666666666666,
          0.9166666666666666,
          0.7916666666666666,
          0.7916666666666666,
          0.8333333333333334,
          0.75,
          0.9583333333333334,
          0.7916666666666666,
          0.8333333333333334,
          0.7916666666666666,
          0.875,
          0.7083333333333334,
          0.7083333333333334,
          0.7083333333333334,
          0.5416666666666666,
          0.875,
          0.7916666666666666,
          0.875,
          0.875,
          0.7916666666666666,
          0.8333333333333334,
          0.75,
          0.75,
          0.9166666666666666,
          0.9166666666666666,
          0.875,
          0.875,
          0.7916666666666666,
          0.9166666666666666,
          0.7916666666666666,
          0.75,
          0.7916666666666666,
          0.9166666666666666,
          0.8333333333333334,
          0.7083333333333334,
          0.8333333333333334,
          0.875,
          0.9166666666666666,
          0.7916666666666666,
          0.9166666666666666,
          0.8333333333333334,
          0.875,
          0.7916666666666666,
          0.8333333333333334,
          0.7916666666666666,
          0.9583333333333334,
          0.875,
          0.7083333333333334,
          0.7916666666666666,
          0.75,
          0.9166666666666666,
          0.8333333333333334,
          0.8333333333333334,
          0.875,
          0.7083333333333334,
          0.7916666666666666,
          0.7916666666666666,
          0.9583333333333334,
          0.75,
          0.875,
          0.6666666666666666,
          0.8333333333333334,
          0.6666666666666666,
          0.9583333333333334,
          0.9583333333333334,
          0.7916666666666666,
          0.7083333333333334,
          0.7916666666666666,
          0.625,
          0.7083333333333334,
          0.875,
          0.75,
          0.9583333333333334,
          0.875,
          0.7916666666666666,
          0.7083333333333334,
          0.9166666666666666,
          0.75,
          0.9166666666666666,
          0.75,
          0.8333333333333334,
          0.8333333333333334,
          1,
          0.8333333333333334,
          0.8333333333333334,
          0.875,
          0.75,
          0.8333333333333334,
          0.7916666666666666,
          0.7083333333333334,
          0.75,
          0.8333333333333334,
          0.9166666666666666,
          0.875,
          1,
          1,
          0.875,
          1,
          0.9166666666666666,
          0.8333333333333334,
          0.7083333333333334,
          0.6666666666666666,
          0.75,
          0.8333333333333334,
          0.75,
          0.9166666666666666,
          0.8333333333333334,
          0.75,
          0.7083333333333334,
          0.8333333333333334,
          0.875,
          0.7083333333333334,
          0.8333333333333334,
          0.8333333333333334,
          0.75,
          0.9583333333333334,
          0.6666666666666666,
          0.75,
          0.8333333333333334,
          0.8333333333333334,
          0.7916666666666666,
          0.8333333333333334,
          0.7916666666666666,
          0.7083333333333334,
          0.625,
          0.8333333333333334,
          0.875,
          0.7916666666666666,
          0.875,
          0.9583333333333334,
          0.7916666666666666,
          0.8333333333333334,
          0.875,
          0.8333333333333334,
          0.7916666666666666,
          0.8333333333333334,
          0.875,
          0.8333333333333334,
          0.7916666666666666,
          0.875,
          0.875,
          0.875,
          0.875,
          0.7916666666666666,
          0.9166666666666666,
          0.8333333333333334,
          0.5833333333333334,
          0.875,
          0.8333333333333334,
          0.9166666666666666,
          0.9166666666666666,
          0.7916666666666666,
          0.8333333333333334,
          0.75,
          0.875,
          0.8333333333333334,
          0.7916666666666666,
          0.875,
          0.9166666666666666,
          0.9166666666666666,
          0.75,
          0.875,
          0.7916666666666666,
          0.8333333333333334,
          0.7916666666666666,
          0.8333333333333334,
          0.8333333333333334,
          0.7083333333333334,
          0.5833333333333334,
          0.5833333333333334,
          0.9166666666666666,
          0.8333333333333334,
          0.875,
          0.875,
          0.4583333333333333,
          0.8333333333333334,
          0.9583333333333334,
          0.7916666666666666,
          0.7916666666666666,
          0.9583333333333334,
          0.875,
          0.8333333333333334,
          0.7916666666666666,
          0.875,
          0.75,
          0.875,
          0.7916666666666666,
          0.6666666666666666,
          0.875,
          0.7916666666666666,
          0.875,
          0.875,
          0.5833333333333334,
          0.75,
          0.875,
          0.7916666666666666,
          0.7083333333333334,
          0.7916666666666666,
          0.6666666666666666,
          0.875,
          0.8333333333333334,
          0.7083333333333334,
          0.7083333333333334,
          0.875,
          0.7916666666666666,
          0.7916666666666666,
          0.875,
          0.9583333333333334,
          0.875,
          0.8333333333333334,
          0.875,
          0.75,
          0.9166666666666666,
          0.8333333333333334,
          0.6666666666666666,
          0.7916666666666666,
          0.875,
          0.7916666666666666,
          0.9166666666666666,
          0.625,
          0.9166666666666666,
          0.9166666666666666,
          0.7916666666666666,
          0.7916666666666666,
          0.875,
          0.7916666666666666,
          0.625,
          0.9166666666666666,
          0.9166666666666666,
          0.7916666666666666,
          0.7083333333333334,
          0.8333333333333334,
          0.8333333333333334,
          0.9166666666666666,
          0.9166666666666666,
          0.875,
          0.9166666666666666,
          0.75,
          0.7916666666666666,
          0.875,
          0.7916666666666666,
          0.9166666666666666,
          0.7916666666666666,
          0.7083333333333334,
          0.7916666666666666,
          0.8333333333333334,
          0.9166666666666666,
          0.9583333333333334,
          0.9166666666666666,
          0.875,
          0.7083333333333334,
          0.7083333333333334,
          0.9166666666666666,
          0.6666666666666666,
          0.9583333333333334,
          0.875,
          0.7083333333333334,
          0.6666666666666666,
          0.7916666666666666,
          0.75,
          0.6666666666666666,
          0.625,
          0.7916666666666666,
          0.8333333333333334,
          0.7916666666666666,
          0.8333333333333334,
          0.75,
          0.8333333333333334,
          0.75,
          0.8333333333333334,
          0.9583333333333334,
          0.75,
          0.9166666666666666,
          0.8333333333333334,
          0.875,
          0.75,
          0.7916666666666666,
          0.8333333333333334,
          0.9166666666666666,
          0.9166666666666666,
          0.9166666666666666,
          0.7916666666666666,
          0.9166666666666666,
          0.875,
          0.75,
          0.875,
          0.75,
          0.75,
          0.8333333333333334,
          0.875,
          0.875,
          0.8333333333333334,
          0.875,
          0.9166666666666666,
          0.7083333333333334,
          0.8333333333333334,
          0.875,
          0.5833333333333334,
          0.9583333333333334,
          0.7083333333333334,
          0.875,
          0.75,
          0.875,
          0.9166666666666666,
          0.875,
          0.8333333333333334,
          0.8333333333333334,
          0.8333333333333334,
          0.7083333333333334,
          0.6666666666666666,
          0.875,
          0.8333333333333334,
          0.8333333333333334,
          1,
          0.875,
          0.8333333333333334,
          0.8333333333333334,
          0.75,
          0.8333333333333334,
          0.75,
          0.8333333333333334,
          0.75,
          0.7916666666666666,
          1,
          0.875,
          0.875,
          0.7083333333333334,
          0.875,
          0.8333333333333334,
          0.8333333333333334,
          0.7916666666666666,
          0.7083333333333334,
          0.875,
          0.7916666666666666,
          0.7083333333333334,
          0.7916666666666666,
          0.9166666666666666,
          0.7916666666666666,
          0.875,
          0.9583333333333334,
          0.7916666666666666,
          0.875,
          0.875,
          0.9166666666666666,
          0.7083333333333334,
          0.875,
          0.9166666666666666,
          0.7916666666666666,
          0.875,
          0.625,
          0.875,
          0.875,
          0.7916666666666666,
          0.75,
          0.875,
          0.7083333333333334,
          0.75,
          0.875,
          0.7916666666666666,
          0.75,
          0.8333333333333334,
          0.9583333333333334,
          0.8333333333333334,
          0.9166666666666666,
          0.6666666666666666,
          0.75,
          0.8333333333333334,
          1,
          0.8333333333333334,
          0.9583333333333334,
          0.7916666666666666,
          0.9166666666666666,
          0.7916666666666666,
          0.875,
          0.9166666666666666,
          0.875,
          0.7916666666666666,
          0.7083333333333334,
          0.8333333333333334,
          0.875,
          0.9583333333333334,
          0.7916666666666666,
          0.75,
          0.8333333333333334,
          0.875,
          0.625,
          0.875,
          0.9166666666666666,
          0.8333333333333334,
          0.9166666666666666,
          0.7916666666666666,
          0.9166666666666666,
          0.9166666666666666,
          0.8333333333333334,
          0.875,
          0.9166666666666666,
          0.9166666666666666,
          0.9583333333333334,
          0.8333333333333334,
          0.7916666666666666,
          0.8333333333333334,
          0.7916666666666666,
          0.8333333333333334,
          0.8333333333333334,
          0.875,
          0.8333333333333334,
          1,
          0.7083333333333334,
          0.9166666666666666,
          0.75,
          0.7083333333333334,
          0.8333333333333334,
          0.9166666666666666,
          0.75,
          0.5833333333333334,
          0.8333333333333334,
          0.5833333333333334,
          0.8333333333333334,
          0.7083333333333334,
          0.7083333333333334,
          0.75,
          0.75,
          0.75,
          0.7916666666666666,
          0.625,
          0.8333333333333334,
          0.625,
          0.8333333333333334,
          0.75,
          0.875,
          0.9166666666666666,
          0.7916666666666666,
          0.625,
          0.7916666666666666,
          0.7083333333333334,
          0.8333333333333334,
          0.7083333333333334,
          0.6666666666666666,
          0.8333333333333334,
          0.75,
          0.9166666666666666,
          0.8333333333333334,
          0.8333333333333334,
          0.7916666666666666,
          0.875,
          0.875,
          0.6666666666666666,
          0.625,
          0.7916666666666666,
          0.7916666666666666,
          0.875,
          0.8333333333333334,
          0.875,
          0.7916666666666666,
          0.7083333333333334,
          0.8333333333333334,
          0.5,
          0.6666666666666666,
          0.75,
          0.8333333333333334,
          0.9583333333333334,
          0.75,
          0.75,
          0.5833333333333334,
          0.8333333333333334,
          0.7083333333333334,
          0.7083333333333334,
          0.9166666666666666,
          0.75,
          0.8333333333333334,
          0.7083333333333334,
          0.6666666666666666,
          0.8333333333333334,
          0.875,
          0.875,
          0.75,
          0.8333333333333334,
          0.7916666666666666,
          0.8333333333333334,
          0.6666666666666666,
          0.75,
          0.9166666666666666,
          0.7916666666666666,
          0.8333333333333334,
          0.7083333333333334,
          0.875,
          0.8333333333333334,
          0.8333333333333334,
          0.75,
          0.8333333333333334,
          0.75,
          0.6666666666666666,
          0.7083333333333334,
          0.75,
          0.625,
          0.8333333333333334,
          0.7916666666666666,
          0.9583333333333334,
          0.8333333333333334,
          0.7916666666666666,
          0.625,
          0.7916666666666666,
          0.75,
          0.9166666666666666,
          0.7083333333333334,
          0.7083333333333334,
          0.8333333333333334,
          0.875,
          0.75,
          0.875,
          0.7083333333333334,
          0.875,
          0.7916666666666666,
          0.7083333333333334,
          0.9166666666666666,
          0.8333333333333334,
          0.8333333333333334,
          0.875,
          0.6666666666666666,
          0.8333333333333334,
          0.7916666666666666,
          0.7916666666666666,
          0.8333333333333334,
          0.6666666666666666,
          0.875,
          0.7916666666666666,
          0.8333333333333334,
          0.875,
          0.75,
          0.8333333333333334,
          0.7916666666666666,
          0.875,
          0.7083333333333334,
          0.625,
          0.6666666666666666,
          0.8333333333333334,
          0.6666666666666666,
          0.75,
          0.8333333333333334,
          0.75,
          0.75,
          0.7916666666666666,
          0.875,
          0.875,
          0.7916666666666666,
          0.875,
          0.875,
          0.8333333333333334,
          0.7083333333333334,
          0.75,
          0.875,
          0.9166666666666666,
          0.8333333333333334,
          0.625,
          0.875,
          0.8333333333333334,
          0.6666666666666666,
          0.8333333333333334,
          0.7916666666666666,
          0.8333333333333334,
          0.75,
          0.7083333333333334,
          0.7916666666666666,
          0.8333333333333334,
          0.9166666666666666,
          0.8333333333333334,
          0.7916666666666666,
          0.9166666666666666,
          0.8333333333333334,
          0.7083333333333334,
          0.7083333333333334,
          0.75,
          0.6666666666666666,
          0.7083333333333334,
          0.7916666666666666,
          0.7916666666666666,
          0.75,
          0.7916666666666666,
          0.8333333333333334,
          0.8333333333333334,
          0.9166666666666666,
          0.8333333333333334,
          0.7083333333333334,
          0.8333333333333334,
          0.7083333333333334,
          0.9166666666666666,
          0.75,
          0.7916666666666666,
          0.9583333333333334,
          0.7916666666666666,
          0.375,
          0.7916666666666666,
          0.5833333333333334,
          0.7916666666666666,
          0.8333333333333334,
          0.5833333333333334,
          0.8333333333333334,
          0.5833333333333334,
          0.9166666666666666,
          0.75,
          0.9583333333333334,
          0.8333333333333334,
          0.7916666666666666,
          0.7916666666666666,
          0.9166666666666666,
          0.8333333333333334,
          0.7916666666666666,
          0.8333333333333334,
          0.7916666666666666,
          0.875,
          0.7916666666666666,
          0.7916666666666666,
          0.8333333333333334,
          0.7083333333333334,
          0.9583333333333334,
          0.7083333333333334,
          0.8333333333333334,
          0.8333333333333334,
          0.75,
          0.875,
          0.9166666666666666,
          0.75,
          0.75,
          0.875,
          0.7083333333333334,
          0.7916666666666666,
          0.7916666666666666,
          0.6666666666666666,
          0.75,
          0.6666666666666666,
          0.8333333333333334,
          0.625,
          0.9166666666666666,
          0.9166666666666666,
          0.75,
          0.9583333333333334,
          0.8333333333333334,
          0.875,
          0.8333333333333334,
          0.7916666666666666,
          0.5833333333333334,
          0.7083333333333334,
          0.7916666666666666,
          0.7916666666666666,
          0.7916666666666666,
          0.8333333333333334,
          0.875,
          0.9583333333333334,
          0.7916666666666666,
          0.7916666666666666,
          0.7083333333333334,
          0.6666666666666666,
          0.8333333333333334,
          0.625,
          0.8333333333333334,
          0.8333333333333334,
          0.875,
          0.7083333333333334,
          0.9166666666666666,
          0.7916666666666666,
          0.7916666666666666,
          0.8333333333333334,
          0.9166666666666666,
          0.7916666666666666,
          0.7916666666666666,
          0.875,
          0.875,
          0.75,
          0.8333333333333334,
          0.7083333333333334,
          0.7083333333333334,
          0.8333333333333334,
          0.625,
          0.9166666666666666,
          0.7083333333333334,
          0.75,
          0.7916666666666666,
          0.8333333333333334,
          0.875,
          0.6666666666666666,
          0.8333333333333334,
          0.7083333333333334,
          0.7083333333333334,
          0.9166666666666666,
          0.75,
          0.9583333333333334,
          0.7916666666666666,
          0.7916666666666666,
          0.7083333333333334,
          0.6666666666666666,
          0.8333333333333334,
          0.7916666666666666,
          0.75,
          0.7916666666666666,
          0.875,
          0.875,
          0.625,
          0.75,
          0.7916666666666666,
          0.5416666666666666,
          0.75,
          0.875,
          0.7916666666666666,
          0.6666666666666666,
          0.75,
          0.7916666666666666,
          0.7916666666666666,
          0.7083333333333334,
          0.7083333333333334,
          0.7083333333333334,
          0.75,
          0.75,
          0.875,
          0.9583333333333334,
          0.875,
          0.8333333333333334,
          0.75,
          0.7916666666666666,
          0.8333333333333334,
          0.875,
          0.875,
          0.5833333333333334,
          0.7083333333333334,
          0.7083333333333334,
          0.875,
          0.75,
          0.7083333333333334,
          0.9166666666666666,
          0.875,
          0.875,
          0.75,
          0.75,
          0.8333333333333334,
          0.9166666666666666,
          0.75,
          0.9166666666666666,
          0.875,
          0.9166666666666666,
          0.8333333333333334,
          0.8333333333333334,
          0.8333333333333334,
          0.7083333333333334,
          0.7916666666666666,
          0.875,
          0.9166666666666666,
          0.9166666666666666,
          0.7916666666666666,
          0.875,
          0.6666666666666666,
          0.8333333333333334,
          0.9166666666666666,
          0.8333333333333334,
          0.7083333333333334,
          0.7916666666666666,
          0.8333333333333334,
          0.8333333333333334,
          0.5833333333333334,
          0.8333333333333334,
          0.4583333333333333,
          0.5416666666666666,
          0.7916666666666666,
          0.7083333333333334,
          0.875,
          0.8333333333333334,
          0.7083333333333334,
          0.7916666666666666,
          0.8333333333333334,
          0.8333333333333334,
          0.9166666666666666,
          0.625,
          0.875,
          0.9583333333333334,
          0.7083333333333334,
          0.8333333333333334,
          0.7916666666666666,
          0.8333333333333334,
          0.875,
          0.5833333333333334,
          0.8333333333333334,
          0.875,
          0.875,
          0.75,
          0.75,
          0.875,
          0.8333333333333334,
          0.5833333333333334,
          0.8333333333333334,
          0.75,
          0.5833333333333334,
          1,
          0.875,
          0.7916666666666666,
          0.9166666666666666,
          0.8333333333333334,
          0.8333333333333334,
          0.7083333333333334,
          0.9166666666666666,
          0.875,
          0.7083333333333334,
          0.75,
          0.75,
          0.875,
          0.75,
          0.875,
          0.75,
          0.7916666666666666,
          0.7083333333333334,
          0.8333333333333334,
          0.8333333333333334,
          0.9166666666666666,
          0.7916666666666666,
          0.7916666666666666,
          0.5833333333333334,
          0.8333333333333334,
          0.875,
          0.875,
          0.8333333333333334,
          0.8333333333333334,
          0.8333333333333334,
          0.875,
          0.875,
          0.625,
          0.8333333333333334,
          0.8333333333333334,
          0.8333333333333334,
          0.8333333333333334,
          0.9583333333333334,
          0.9583333333333334,
          0.7916666666666666,
          0.875,
          0.7916666666666666,
          0.75,
          0.9166666666666666,
          0.8333333333333334,
          0.7083333333333334,
          0.875,
          0.75,
          0.7916666666666666,
          0.7083333333333334,
          0.7916666666666666,
          0.75,
          0.9166666666666666,
          0.8333333333333334,
          0.8333333333333334,
          0.75,
          0.75,
          0.75,
          0.8333333333333334,
          0.8333333333333334,
          0.8333333333333334,
          0.6666666666666666,
          0.9166666666666666,
          0.75,
          0.7083333333333334,
          0.875,
          0.7083333333333334,
          0.8333333333333334,
          0.7916666666666666,
          0.8333333333333334,
          0.8333333333333334,
          0.875,
          0.7083333333333334,
          0.9583333333333334,
          0.8333333333333334,
          0.5833333333333334,
          0.75,
          0.75,
          0.75,
          0.9166666666666666,
          0.7083333333333334,
          0.7916666666666666,
          0.7916666666666666,
          0.7083333333333334,
          0.9583333333333334,
          1,
          0.9166666666666666,
          0.875,
          0.8333333333333334,
          0.75,
          0.9166666666666666,
          0.875,
          0.8333333333333334,
          0.7916666666666666,
          0.8333333333333334,
          0.9583333333333334,
          0.9583333333333334,
          0.9583333333333334,
          0.75,
          0.75,
          0.875,
          0.625,
          0.8333333333333334,
          0.8333333333333334,
          0.6666666666666666,
          0.7083333333333334,
          0.9166666666666666,
          0.9166666666666666,
          0.75,
          0.7083333333333334,
          0.875,
          0.9583333333333334,
          0.875,
          0.8333333333333334,
          0.875,
          0.9166666666666666,
          0.875,
          0.7916666666666666,
          0.7083333333333334,
          0.8333333333333334,
          0.8333333333333334,
          0.8333333333333334,
          0.6666666666666666,
          0.8333333333333334,
          0.8333333333333334,
          0.7916666666666666,
          0.875,
          0.875,
          0.875,
          0.875,
          0.8333333333333334,
          0.7083333333333334,
          0.875,
          0.5833333333333334,
          0.875,
          0.8333333333333334,
          0.7083333333333334,
          0.8333333333333334,
          0.8333333333333334,
          1,
          0.75,
          0.75,
          0.7916666666666666,
          0.875,
          0.7916666666666666,
          0.8333333333333334,
          0.8333333333333334,
          0.9583333333333334,
          0.7083333333333334,
          0.7083333333333334,
          0.8333333333333334,
          0.7916666666666666,
          0.8333333333333334,
          0.9583333333333334,
          0.7916666666666666,
          0.9166666666666666,
          0.875,
          0.8333333333333334,
          0.625,
          0.875,
          0.75,
          0.8333333333333334,
          0.7916666666666666,
          0.8333333333333334,
          0.875,
          0.5416666666666666,
          0.7083333333333334,
          0.7083333333333334,
          0.8333333333333334,
          0.75,
          0.9166666666666666,
          0.8333333333333334,
          0.7083333333333334,
          0.625,
          0.8333333333333334,
          0.7083333333333334,
          0.75,
          0.875,
          0.625,
          0.8333333333333334,
          0.875,
          0.6666666666666666,
          0.625,
          0.625,
          0.8333333333333334,
          0.75,
          0.8333333333333334,
          0.9166666666666666,
          0.7916666666666666,
          0.9166666666666666,
          1,
          0.9166666666666666,
          0.875,
          0.875,
          0.9166666666666666,
          0.875,
          0.75,
          0.75,
          0.8333333333333334,
          0.7916666666666666,
          0.7916666666666666,
          0.8333333333333334,
          0.875,
          0.9166666666666666,
          0.7916666666666666,
          0.9166666666666666,
          0.7916666666666666,
          0.9166666666666666,
          0.8333333333333334,
          0.9166666666666666,
          0.7916666666666666,
          0.75,
          0.875,
          0.6666666666666666,
          0.6666666666666666,
          0.875,
          0.7083333333333334,
          0.75,
          0.625,
          0.625,
          0.8333333333333334,
          1,
          0.7916666666666666,
          0.875,
          0.8333333333333334,
          0.875,
          0.875,
          0.7916666666666666,
          0.6666666666666666,
          0.8333333333333334,
          0.9166666666666666,
          0.7916666666666666,
          0.875,
          0.7083333333333334,
          0.75,
          0.875,
          0.9166666666666666,
          0.875,
          0.8333333333333334,
          0.8333333333333334,
          0.7916666666666666,
          0.9166666666666666,
          0.8333333333333334,
          0.8333333333333334,
          0.75,
          0.9166666666666666,
          0.7916666666666666,
          0.7916666666666666,
          0.75,
          0.7083333333333334,
          0.875,
          0.8333333333333334,
          0.8333333333333334,
          0.7083333333333334,
          0.8333333333333334,
          0.75,
          0.75,
          0.8333333333333334,
          0.9166666666666666,
          0.75,
          0.8333333333333334,
          0.4583333333333333,
          0.9583333333333334,
          0.7916666666666666,
          0.7916666666666666,
          0.6666666666666666,
          0.5833333333333334,
          0.9166666666666666,
          0.75,
          0.75,
          0.7916666666666666,
          0.9166666666666666,
          0.875,
          0.7916666666666666,
          1,
          0.75,
          0.8333333333333334,
          0.9583333333333334,
          0.9166666666666666,
          0.8333333333333334,
          0.8333333333333334,
          0.75,
          0.75,
          0.7916666666666666,
          0.7916666666666666,
          0.7083333333333334,
          0.75,
          0.8333333333333334,
          0.5833333333333334,
          0.75,
          0.75,
          0.7916666666666666,
          0.7083333333333334,
          0.8333333333333334,
          0.75,
          0.6666666666666666,
          0.6666666666666666,
          0.7916666666666666,
          0.75,
          0.875,
          0.7916666666666666,
          0.7916666666666666,
          0.7916666666666666,
          0.7083333333333334,
          0.875,
          0.7916666666666666,
          0.6666666666666666,
          0.8333333333333334,
          0.875,
          0.875,
          0.7916666666666666,
          0.7916666666666666,
          0.7083333333333334,
          0.5833333333333334,
          0.875,
          0.7916666666666666,
          0.7083333333333334,
          0.75,
          0.875,
          0.8333333333333334,
          0.875,
          0.875,
          0.8333333333333334,
          0.7916666666666666,
          0.8333333333333334,
          0.7083333333333334,
          0.8333333333333334,
          0.9166666666666666,
          0.7916666666666666,
          0.7916666666666666,
          0.5833333333333334,
          0.7916666666666666,
          0.7916666666666666,
          0.9166666666666666,
          0.7916666666666666,
          0.6666666666666666,
          0.6666666666666666,
          0.875,
          0.875,
          0.9166666666666666,
          0.75,
          0.75,
          0.9166666666666666,
          0.875,
          0.8333333333333334,
          0.875,
          0.7916666666666666,
          0.8333333333333334,
          0.7916666666666666,
          0.75,
          0.8333333333333334,
          0.75,
          0.5833333333333334,
          0.6666666666666666,
          0.8333333333333334,
          0.75,
          0.875,
          0.8333333333333334,
          0.75,
          0.8333333333333334,
          0.75,
          0.8333333333333334,
          0.875,
          0.9166666666666666,
          0.7083333333333334,
          0.7916666666666666,
          0.9583333333333334,
          0.7916666666666666,
          0.7083333333333334,
          0.7916666666666666,
          0.7916666666666666,
          0.8333333333333334,
          0.875,
          0.8333333333333334,
          0.7916666666666666,
          0.75,
          0.75,
          0.7916666666666666,
          0.875,
          0.7083333333333334,
          0.75,
          0.75,
          0.7083333333333334,
          0.875,
          0.75,
          0.6666666666666666,
          0.8333333333333334,
          0.8333333333333334,
          0.75,
          0.6666666666666666,
          0.9166666666666666,
          0.8333333333333334,
          0.7083333333333334,
          0.875,
          0.8333333333333334,
          0.7916666666666666,
          0.9166666666666666,
          0.7916666666666666,
          0.75,
          0.75,
          0.75,
          0.9166666666666666,
          0.9583333333333334,
          0.6666666666666666,
          0.625,
          0.7916666666666666,
          0.8333333333333334,
          0.75,
          0.7916666666666666,
          0.6666666666666666,
          0.7916666666666666,
          0.8333333333333334,
          0.5,
          0.8333333333333334,
          0.9166666666666666,
          0.7916666666666666,
          0.9166666666666666,
          0.875,
          0.8333333333333334,
          0.875,
          0.6666666666666666,
          0.75,
          0.8333333333333334,
          0.7916666666666666,
          0.5833333333333334,
          0.7916666666666666,
          0.7916666666666666,
          0.8333333333333334,
          0.875,
          0.875,
          0.875,
          0.7083333333333334,
          0.7916666666666666,
          0.7916666666666666,
          0.8333333333333334,
          0.7916666666666666,
          0.75,
          0.7083333333333334,
          0.7916666666666666,
          0.8333333333333334,
          0.6666666666666666,
          0.875,
          0.75,
          0.7083333333333334,
          0.875,
          0.875,
          0.8333333333333334,
          0.8333333333333334,
          0.8333333333333334,
          0.9166666666666666,
          0.7083333333333334,
          0.8333333333333334,
          0.9166666666666666,
          0.9583333333333334,
          0.8333333333333334,
          0.7916666666666666,
          0.7083333333333334,
          0.5833333333333334,
          0.75,
          0.8333333333333334,
          0.7916666666666666,
          0.875,
          0.9166666666666666,
          0.7916666666666666,
          0.875,
          0.75,
          0.75,
          0.9583333333333334,
          0.875,
          0.7083333333333334,
          0.75,
          0.8333333333333334,
          0.875,
          0.875,
          0.875,
          0.7916666666666666,
          0.875,
          0.7916666666666666,
          0.8333333333333334,
          0.875,
          0.75,
          1,
          1,
          0.8333333333333334,
          0.7083333333333334,
          0.8333333333333334,
          0.75,
          0.7083333333333334,
          0.7916666666666666,
          0.75,
          0.8333333333333334,
          0.6666666666666666,
          0.8333333333333334,
          0.75,
          0.9166666666666666,
          0.7916666666666666,
          0.7916666666666666,
          0.75,
          0.875,
          0.875,
          0.9166666666666666,
          0.875,
          0.75,
          0.7916666666666666,
          0.75,
          0.7916666666666666,
          0.8333333333333334,
          0.75,
          0.75,
          0.875,
          0.7916666666666666,
          0.75,
          0.625,
          0.625,
          0.9166666666666666,
          0.7916666666666666,
          0.875,
          0.7916666666666666,
          0.9583333333333334,
          0.5416666666666666,
          0.7083333333333334,
          0.7083333333333334,
          0.75,
          0.75,
          0.8333333333333334,
          0.7916666666666666,
          0.875,
          0.9166666666666666,
          0.7916666666666666,
          0.7083333333333334,
          0.625,
          0.875,
          0.6666666666666666,
          0.75,
          0.75,
          0.8333333333333334,
          0.8333333333333334,
          0.6666666666666666,
          0.875,
          0.875,
          0.875,
          0.7083333333333334,
          0.8333333333333334,
          0.875,
          0.7916666666666666,
          0.8333333333333334,
          0.9166666666666666,
          0.7083333333333334,
          0.875,
          0.875,
          0.8333333333333334,
          0.7916666666666666,
          0.875,
          0.75,
          0.875,
          0.625,
          0.7916666666666666,
          0.7916666666666666,
          0.7916666666666666,
          0.8333333333333334,
          0.9166666666666666,
          0.875,
          0.8333333333333334,
          0.7916666666666666,
          0.75,
          0.75,
          0.7083333333333334,
          0.8333333333333334,
          0.875,
          0.875,
          0.75,
          0.75,
          0.875,
          0.875,
          0.875,
          0.7916666666666666,
          0.875,
          0.875,
          0.7916666666666666,
          0.75,
          0.8333333333333334,
          0.5833333333333334,
          0.9166666666666666,
          0.75,
          0.8333333333333334,
          0.7083333333333334,
          0.7083333333333334,
          0.7083333333333334,
          0.7916666666666666,
          0.8333333333333334,
          0.75,
          0.75,
          0.9583333333333334,
          0.7916666666666666,
          0.7083333333333334,
          0.9583333333333334,
          0.8333333333333334,
          0.9166666666666666,
          0.8333333333333334,
          0.8333333333333334,
          0.75,
          0.8333333333333334,
          0.8333333333333334,
          0.9166666666666666,
          0.7083333333333334,
          0.9166666666666666,
          0.9583333333333334,
          0.8333333333333334,
          0.8333333333333334,
          0.8333333333333334,
          0.9166666666666666,
          0.8333333333333334,
          0.625,
          0.625,
          0.75,
          0.9166666666666666,
          0.75,
          0.9166666666666666,
          0.875,
          0.875,
          0.9583333333333334,
          0.75,
          0.625,
          0.8333333333333334,
          0.75,
          0.75,
          0.7083333333333334,
          0.6666666666666666,
          0.9166666666666666,
          0.7083333333333334,
          0.7916666666666666,
          0.7916666666666666,
          0.5,
          0.875,
          0.7916666666666666,
          0.7916666666666666,
          0.9583333333333334,
          0.9583333333333334,
          0.7083333333333334,
          0.7916666666666666,
          0.7916666666666666,
          0.75,
          0.75,
          0.7916666666666666,
          0.8333333333333334,
          0.7916666666666666,
          0.9166666666666666,
          0.8333333333333334,
          0.625,
          0.6666666666666666,
          0.7083333333333334,
          0.8333333333333334,
          0.7083333333333334,
          0.7083333333333334,
          0.7916666666666666,
          0.75,
          0.8333333333333334,
          0.875,
          0.75,
          0.625,
          0.8333333333333334,
          0.875,
          0.625,
          0.6666666666666666,
          0.8333333333333334,
          0.8333333333333334,
          0.75,
          0.75,
          0.875,
          0.875,
          0.5416666666666666,
          0.75,
          0.8333333333333334,
          0.625,
          0.8333333333333334,
          0.75,
          0.7916666666666666,
          0.75,
          0.7083333333333334,
          0.9166666666666666,
          0.7083333333333334,
          0.75,
          0.8333333333333334,
          0.7083333333333334,
          0.8333333333333334,
          0.9166666666666666,
          0.75,
          0.9166666666666666,
          0.7083333333333334,
          0.8333333333333334,
          0.7916666666666666,
          0.75,
          0.75,
          0.8333333333333334,
          0.875,
          0.8333333333333334,
          0.625,
          0.7083333333333334,
          0.9166666666666666,
          0.7916666666666666,
          0.875,
          0.9583333333333334,
          0.5833333333333334,
          0.6666666666666666,
          0.7916666666666666,
          0.7916666666666666,
          0.8333333333333334,
          0.875,
          0.5416666666666666,
          0.7916666666666666,
          0.8333333333333334,
          0.75,
          0.875,
          0.875,
          0.875,
          0.7916666666666666,
          0.7083333333333334,
          0.75,
          0.625,
          0.75,
          0.8333333333333334,
          0.8333333333333334,
          0.9166666666666666,
          0.9166666666666666,
          0.875,
          0.75,
          0.7916666666666666,
          0.875,
          0.6666666666666666,
          0.875,
          0.8333333333333334,
          0.75,
          0.7916666666666666,
          0.75,
          0.625,
          0.9583333333333334,
          0.875,
          0.7083333333333334,
          0.7916666666666666,
          0.7916666666666666,
          0.625,
          0.8333333333333334,
          0.875,
          0.7916666666666666,
          0.75,
          0.9166666666666666,
          0.6666666666666666,
          0.9583333333333334,
          0.9166666666666666,
          0.9166666666666666,
          0.9583333333333334,
          0.8333333333333334,
          0.7083333333333334,
          0.8333333333333334,
          0.7916666666666666,
          0.75,
          0.5833333333333334,
          0.75,
          0.875,
          0.8333333333333334,
          0.9166666666666666,
          0.9166666666666666,
          0.75,
          0.5,
          0.9166666666666666,
          0.6666666666666666,
          0.875,
          0.75,
          0.7916666666666666,
          0.75,
          0.7916666666666666,
          0.7083333333333334,
          0.875,
          0.9583333333333334,
          0.9166666666666666,
          0.7916666666666666,
          0.8333333333333334,
          0.875,
          0.6666666666666666,
          0.875,
          0.7083333333333334,
          0.7083333333333334,
          0.75,
          0.625,
          0.6666666666666666,
          0.625,
          0.75,
          0.7083333333333334,
          0.8333333333333334,
          0.7916666666666666,
          0.75,
          0.8333333333333334,
          0.9583333333333334,
          0.875,
          0.7916666666666666,
          0.875,
          0.7916666666666666,
          0.9166666666666666,
          0.7916666666666666,
          0.7083333333333334,
          0.75,
          1,
          0.875,
          0.75,
          0.7083333333333334,
          0.7916666666666666,
          0.875,
          0.7916666666666666,
          0.7083333333333334,
          0.9583333333333334,
          0.7916666666666666,
          0.8333333333333334,
          0.7916666666666666,
          0.75,
          0.625,
          0.7916666666666666,
          0.75,
          0.7083333333333334,
          0.9583333333333334,
          0.75,
          0.7916666666666666,
          0.9583333333333334,
          0.75,
          0.7916666666666666,
          0.7916666666666666,
          0.8333333333333334,
          0.7916666666666666,
          0.7916666666666666,
          0.9166666666666666,
          0.7916666666666666,
          0.75,
          0.7916666666666666,
          0.5416666666666666,
          0.75,
          0.7083333333333334,
          0.9166666666666666,
          0.6666666666666666,
          0.75,
          0.875,
          0.875,
          0.7083333333333334,
          0.875,
          0.6666666666666666,
          0.75,
          0.4583333333333333,
          0.9583333333333334,
          0.8333333333333334,
          0.5833333333333334,
          0.8333333333333334,
          0.9166666666666666,
          1,
          0.7916666666666666,
          0.9166666666666666,
          0.7083333333333334,
          0.7916666666666666,
          0.8333333333333334,
          0.75,
          0.875,
          0.875,
          0.875,
          0.875,
          0.6666666666666666,
          0.7916666666666666,
          0.7083333333333334,
          0.8333333333333334,
          0.8333333333333334,
          0.875,
          0.6666666666666666,
          0.9166666666666666,
          0.8333333333333334,
          0.875,
          0.875,
          0.9166666666666666,
          0.75,
          0.7083333333333334,
          0.9166666666666666,
          0.875,
          0.8333333333333334,
          0.9166666666666666,
          0.7916666666666666,
          0.75,
          0.9166666666666666,
          0.625,
          0.875,
          0.875,
          0.9166666666666666,
          0.7083333333333334,
          0.7916666666666666,
          0.7916666666666666,
          0.9166666666666666,
          0.875,
          0.7916666666666666,
          0.8333333333333334,
          0.7916666666666666,
          0.875,
          0.7916666666666666,
          0.8333333333333334,
          0.9583333333333334,
          0.9166666666666666,
          0.7916666666666666,
          0.9583333333333334,
          0.6666666666666666,
          0.9166666666666666,
          0.7083333333333334,
          0.7916666666666666,
          0.75,
          0.7083333333333334,
          0.7916666666666666,
          0.625,
          0.75,
          0.7083333333333334,
          0.875,
          0.7916666666666666,
          0.6666666666666666,
          0.8333333333333334,
          0.8333333333333334,
          0.9166666666666666,
          0.75,
          0.9166666666666666,
          0.7916666666666666,
          1,
          0.9166666666666666,
          0.8333333333333334,
          0.7916666666666666,
          0.8333333333333334,
          0.75,
          0.8333333333333334,
          0.625,
          0.875,
          0.7916666666666666,
          0.9583333333333334,
          0.75,
          0.875,
          0.9583333333333334,
          0.625,
          0.625,
          0.875,
          0.9166666666666666,
          0.5416666666666666,
          0.75,
          0.875,
          0.8333333333333334,
          0.75,
          0.9583333333333334,
          0.9166666666666666,
          0.9166666666666666,
          0.8333333333333334,
          0.5833333333333334,
          0.8333333333333334,
          0.8333333333333334,
          0.8333333333333334,
          0.75,
          0.8333333333333334,
          0.7916666666666666,
          0.8333333333333334,
          0.9166666666666666,
          0.875,
          0.7083333333333334,
          0.8333333333333334,
          0.75,
          0.875,
          0.6666666666666666,
          0.875,
          0.9166666666666666,
          0.8333333333333334,
          0.875,
          0.75,
          0.875,
          0.5833333333333334,
          0.75,
          0.9583333333333334,
          0.75,
          1,
          0.7083333333333334,
          0.8333333333333334,
          0.75,
          0.875,
          0.75,
          0.8333333333333334,
          0.625,
          0.75,
          0.9583333333333334,
          0.375,
          0.7083333333333334,
          0.8333333333333334,
          0.875,
          0.7916666666666666,
          0.9166666666666666,
          0.875,
          0.7083333333333334,
          0.7083333333333334,
          0.875,
          0.7916666666666666,
          0.9166666666666666,
          0.75,
          0.75,
          0.8333333333333334,
          0.9166666666666666,
          0.875,
          0.75,
          0.8333333333333334,
          0.7916666666666666,
          0.8333333333333334,
          0.875,
          0.8333333333333334,
          0.7916666666666666,
          0.8333333333333334,
          0.7916666666666666,
          0.8333333333333334,
          0.7916666666666666,
          0.7916666666666666,
          0.6666666666666666,
          0.75,
          0.75,
          0.75,
          0.6666666666666666,
          0.9166666666666666,
          0.9583333333333334,
          0.75,
          0.75,
          0.875,
          0.75,
          0.9166666666666666,
          0.8333333333333334,
          0.9166666666666666,
          0.875,
          0.875,
          0.7083333333333334,
          0.875,
          0.7916666666666666,
          0.7916666666666666,
          0.875,
          0.7916666666666666,
          0.7083333333333334,
          0.7083333333333334,
          0.7916666666666666,
          0.7916666666666666,
          0.875,
          0.7916666666666666,
          0.6666666666666666,
          0.7916666666666666,
          0.6666666666666666,
          0.875,
          0.875,
          0.625,
          0.9583333333333334,
          0.8333333333333334,
          0.875,
          0.7083333333333334,
          0.7083333333333334,
          0.75,
          1,
          0.875,
          0.625,
          0.8333333333333334,
          0.8333333333333334,
          0.875,
          0.7916666666666666,
          0.8333333333333334,
          0.875,
          0.8333333333333334,
          0.8333333333333334,
          0.75,
          0.6666666666666666,
          0.9166666666666666,
          0.7916666666666666,
          0.7916666666666666,
          0.9166666666666666,
          0.875,
          0.6666666666666666,
          0.8333333333333334,
          0.7916666666666666,
          0.8333333333333334,
          0.9166666666666666,
          0.9166666666666666,
          0.8333333333333334,
          0.8333333333333334,
          0.8333333333333334,
          0.8333333333333334,
          0.875,
          0.7916666666666666,
          0.7083333333333334,
          0.8333333333333334,
          0.75,
          1,
          0.8333333333333334,
          0.75,
          0.8333333333333334,
          0.9166666666666666,
          0.7083333333333334,
          0.875,
          0.75,
          0.7916666666666666,
          0.8333333333333334,
          0.7916666666666666,
          0.875,
          0.75,
          0.875,
          0.6666666666666666,
          0.7083333333333334,
          0.625,
          0.7916666666666666,
          0.875,
          0.9166666666666666,
          0.875,
          0.75,
          0.8333333333333334,
          0.9583333333333334,
          0.8333333333333334,
          0.7916666666666666,
          0.75,
          0.7916666666666666,
          0.875,
          0.75,
          0.8333333333333334,
          0.875,
          0.7916666666666666,
          0.75,
          0.8333333333333334,
          0.7916666666666666,
          0.8333333333333334,
          0.8333333333333334,
          0.6666666666666666,
          0.7916666666666666,
          0.7083333333333334,
          0.75,
          0.7916666666666666,
          0.6666666666666666,
          0.875,
          0.7916666666666666,
          0.9166666666666666,
          0.875,
          0.9583333333333334,
          0.7916666666666666,
          0.9583333333333334,
          0.7916666666666666,
          0.7083333333333334,
          0.7083333333333334,
          0.9166666666666666,
          0.8333333333333334,
          0.625,
          0.7916666666666666,
          0.625,
          0.8333333333333334,
          0.8333333333333334,
          0.6666666666666666,
          0.7083333333333334,
          0.875,
          0.875,
          0.8333333333333334,
          0.7916666666666666,
          0.7916666666666666,
          0.7916666666666666,
          0.7916666666666666,
          0.7083333333333334,
          0.9583333333333334,
          0.75,
          0.7916666666666666,
          0.5416666666666666,
          0.7083333333333334,
          0.75,
          0.8333333333333334,
          0.8333333333333334,
          0.9166666666666666,
          0.7916666666666666,
          0.8333333333333334,
          0.8333333333333334,
          0.625,
          0.875,
          0.75,
          0.875,
          0.7083333333333334,
          0.7083333333333334,
          0.8333333333333334,
          0.4166666666666667,
          0.7916666666666666,
          0.7083333333333334,
          0.8333333333333334,
          0.9166666666666666,
          0.7916666666666666,
          0.875,
          0.9166666666666666,
          0.8333333333333334,
          0.875,
          0.9166666666666666,
          0.75,
          0.75,
          0.8333333333333334,
          0.875,
          0.9166666666666666,
          0.7916666666666666,
          0.625,
          0.9166666666666666,
          0.75,
          0.6666666666666666,
          0.75,
          0.75,
          0.625,
          0.7083333333333334,
          0.875,
          0.8333333333333334,
          0.8333333333333334,
          0.7083333333333334,
          0.75,
          0.75,
          0.6666666666666666,
          0.7083333333333334,
          0.7083333333333334,
          0.7916666666666666,
          1,
          0.875,
          0.6666666666666666,
          0.75,
          0.7083333333333334,
          0.875,
          0.875,
          0.9166666666666666,
          0.625,
          0.875,
          0.8333333333333334,
          0.75,
          0.875,
          0.8333333333333334,
          0.875,
          0.9166666666666666,
          0.7083333333333334,
          0.8333333333333334,
          0.8333333333333334,
          0.9166666666666666,
          0.9166666666666666,
          0.9166666666666666,
          0.5833333333333334,
          0.875,
          0.875,
          0.7916666666666666,
          0.7916666666666666,
          0.75,
          0.9166666666666666,
          0.6666666666666666,
          0.9583333333333334,
          0.9166666666666666,
          0.9583333333333334,
          0.75,
          0.875,
          0.875,
          0.9166666666666666,
          0.875,
          0.75,
          0.625,
          0.8333333333333334,
          0.7083333333333334,
          0.9166666666666666,
          0.8333333333333334,
          0.7916666666666666,
          0.7916666666666666,
          0.9166666666666666,
          0.875,
          0.7083333333333334,
          0.7916666666666666,
          0.875,
          0.8333333333333334,
          0.75,
          0.8333333333333334,
          0.9166666666666666,
          1,
          0.8333333333333334,
          0.8333333333333334,
          0.8333333333333334,
          0.8333333333333334,
          1,
          0.6666666666666666,
          0.9583333333333334,
          0.75,
          0.8333333333333334,
          0.7916666666666666,
          0.9166666666666666,
          0.7916666666666666,
          0.75,
          0.9166666666666666,
          0.7916666666666666,
          0.8333333333333334,
          0.8333333333333334,
          0.9166666666666666,
          0.5833333333333334,
          0.7083333333333334,
          0.8333333333333334,
          0.7083333333333334,
          0.875,
          0.7916666666666666,
          0.7083333333333334,
          0.8333333333333334,
          0.6666666666666666,
          0.8333333333333334,
          0.875,
          0.7083333333333334,
          0.8333333333333334,
          0.7916666666666666,
          0.9583333333333334,
          0.7916666666666666,
          0.6666666666666666,
          0.75,
          0.7916666666666666,
          0.9166666666666666,
          1,
          0.7083333333333334,
          0.75,
          0.8333333333333334,
          0.875,
          0.8333333333333334,
          0.6666666666666666,
          0.8333333333333334,
          0.875,
          0.7916666666666666,
          0.8333333333333334,
          0.7083333333333334,
          0.625,
          0.8333333333333334,
          0.875,
          0.5833333333333334,
          0.9166666666666666,
          0.7083333333333334,
          0.75,
          0.7916666666666666,
          0.875,
          0.7916666666666666,
          0.7916666666666666,
          0.7916666666666666,
          0.5833333333333334,
          0.8333333333333334,
          0.7083333333333334,
          0.75,
          0.6666666666666666,
          0.8333333333333334,
          0.7916666666666666,
          0.9583333333333334,
          0.7083333333333334,
          0.6666666666666666,
          0.75,
          0.7916666666666666,
          0.7916666666666666,
          0.875,
          0.8333333333333334,
          0.7083333333333334,
          0.7916666666666666,
          0.9166666666666666,
          0.7916666666666666,
          0.75,
          0.7916666666666666,
          0.625,
          0.625,
          0.7916666666666666,
          0.7916666666666666,
          0.7916666666666666,
          0.7083333333333334,
          0.875,
          0.625,
          0.75,
          0.9166666666666666,
          0.9166666666666666,
          0.875,
          0.7083333333333334,
          0.875,
          0.75,
          0.9166666666666666,
          0.875,
          0.875,
          0.7916666666666666,
          0.5833333333333334,
          0.5833333333333334,
          0.7083333333333334,
          0.9166666666666666,
          0.5416666666666666,
          0.6666666666666666,
          0.7916666666666666,
          0.9166666666666666,
          0.7083333333333334,
          0.875,
          0.75,
          0.7916666666666666,
          0.7083333333333334,
          0.9166666666666666,
          0.7916666666666666,
          0.8333333333333334,
          0.875,
          0.875,
          0.9166666666666666,
          0.6666666666666666,
          0.9583333333333334,
          0.8333333333333334,
          0.75,
          0.875,
          0.6666666666666666,
          0.8333333333333334,
          0.8333333333333334,
          0.8333333333333334,
          0.8333333333333334,
          0.8333333333333334,
          0.875,
          0.625,
          0.5833333333333334,
          0.875,
          0.8333333333333334,
          0.5833333333333334,
          0.4166666666666667,
          0.875,
          0.9166666666666666,
          0.7916666666666666,
          0.75,
          0.875,
          0.875,
          0.7916666666666666,
          0.9166666666666666,
          0.9583333333333334,
          0.8333333333333334,
          0.8333333333333334,
          0.8333333333333334,
          0.875,
          0.875,
          0.8333333333333334,
          0.8333333333333334,
          0.9166666666666666,
          0.75,
          0.7083333333333334,
          0.9583333333333334,
          0.75,
          0.875,
          0.875,
          0.875,
          0.7083333333333334,
          0.7916666666666666,
          0.75,
          0.9166666666666666,
          0.7083333333333334,
          0.7083333333333334,
          0.5833333333333334,
          0.7916666666666666,
          0.7916666666666666,
          0.7083333333333334,
          0.75,
          0.7083333333333334,
          0.75,
          0.875,
          0.9166666666666666,
          0.8333333333333334,
          0.75,
          0.875,
          0.9166666666666666,
          0.9166666666666666,
          0.8333333333333334,
          0.7916666666666666,
          0.75,
          0.7916666666666666,
          0.8333333333333334,
          0.8333333333333334,
          0.875,
          0.9166666666666666,
          0.9166666666666666,
          0.7916666666666666,
          0.8333333333333334,
          0.8333333333333334,
          0.875,
          0.875,
          0.875,
          0.625,
          0.8333333333333334,
          0.7916666666666666,
          0.75,
          0.75,
          0.5416666666666666,
          0.6666666666666666,
          0.75,
          0.8333333333333334,
          0.9166666666666666,
          0.8333333333333334,
          0.75,
          0.625,
          0.8333333333333334,
          0.875,
          0.9166666666666666,
          0.875,
          0.75,
          0.875,
          0.8333333333333334,
          0.9583333333333334,
          0.5,
          0.9583333333333334,
          0.875,
          0.8333333333333334,
          0.8333333333333334,
          0.5416666666666666,
          0.7083333333333334,
          0.75,
          0.6666666666666666,
          0.9166666666666666,
          0.9583333333333334,
          0.875,
          0.8333333333333334,
          0.8333333333333334,
          0.875,
          0.75,
          0.7916666666666666,
          0.7083333333333334,
          0.8333333333333334,
          0.8333333333333334,
          0.75,
          0.7916666666666666,
          0.75,
          0.875,
          0.8333333333333334,
          0.9166666666666666,
          0.625,
          0.8333333333333334,
          0.875,
          0.8333333333333334,
          0.7083333333333334,
          0.75,
          0.8333333333333334,
          0.5416666666666666,
          0.9166666666666666,
          0.875,
          0.7916666666666666,
          0.8333333333333334,
          0.875,
          0.9166666666666666,
          0.8333333333333334,
          0.75,
          1,
          0.875,
          0.9583333333333334,
          0.8333333333333334,
          1,
          0.875,
          0.875,
          0.8333333333333334,
          0.9166666666666666,
          0.7916666666666666,
          0.875,
          1,
          0.875,
          0.9166666666666666,
          0.5833333333333334,
          0.9583333333333334,
          0.7083333333333334,
          0.9166666666666666,
          0.9166666666666666,
          0.8333333333333334,
          0.75,
          0.875,
          0.8333333333333334,
          0.9166666666666666,
          0.7083333333333334,
          0.7083333333333334,
          0.7916666666666666,
          0.9166666666666666,
          0.9583333333333334,
          0.5833333333333334,
          0.8333333333333334,
          0.8333333333333334,
          0.7916666666666666,
          0.8333333333333334,
          1,
          1,
          0.9166666666666666,
          0.9166666666666666,
          0.75,
          0.9166666666666666,
          0.625,
          0.9583333333333334,
          1,
          0.9166666666666666,
          0.75,
          0.875,
          0.5416666666666666,
          0.6666666666666666,
          0.9166666666666666,
          0.75,
          0.7916666666666666,
          0.7916666666666666,
          0.8333333333333334,
          0.875,
          0.6666666666666666,
          0.875,
          0.5833333333333334,
          0.9166666666666666,
          0.9166666666666666,
          1,
          0.7083333333333334,
          0.9166666666666666,
          0.7916666666666666,
          0.7916666666666666,
          0.7916666666666666,
          0.9166666666666666,
          0.75,
          0.6666666666666666,
          0.9166666666666666,
          0.7083333333333334,
          0.8333333333333334,
          0.8333333333333334,
          0.9166666666666666,
          0.8333333333333334,
          0.9166666666666666,
          0.9583333333333334,
          0.8333333333333334,
          0.7916666666666666,
          0.6666666666666666,
          0.875,
          0.8333333333333334,
          0.875,
          0.9583333333333334,
          0.9166666666666666,
          0.875,
          0.6666666666666666,
          0.9166666666666666,
          0.7916666666666666,
          0.875,
          0.875,
          0.8333333333333334,
          0.8333333333333334,
          0.8333333333333334,
          0.9166666666666666,
          0.9166666666666666,
          0.7083333333333334,
          0.9583333333333334,
          0.7916666666666666,
          0.875,
          0.875,
          0.8333333333333334,
          0.7916666666666666,
          0.9166666666666666,
          0.7916666666666666,
          0.9583333333333334,
          0.875,
          0.9166666666666666,
          0.5833333333333334,
          0.625,
          0.875,
          0.7916666666666666,
          0.8333333333333334,
          0.875,
          0.875,
          0.875,
          0.875,
          0.9166666666666666,
          0.625,
          0.8333333333333334,
          0.8333333333333334,
          0.9166666666666666,
          0.875,
          0.9166666666666666,
          0.7083333333333334,
          0.875,
          0.8333333333333334,
          0.8333333333333334,
          0.875,
          0.7083333333333334,
          0.875,
          1,
          0.5833333333333334,
          0.625,
          0.8333333333333334,
          0.9166666666666666,
          0.9166666666666666,
          0.75,
          0.7916666666666666,
          0.9583333333333334,
          0.75,
          0.7083333333333334,
          0.9166666666666666,
          0.9166666666666666,
          0.8333333333333334,
          0.875,
          0.9166666666666666,
          0.9583333333333334,
          0.7916666666666666,
          0.875,
          0.875,
          0.75,
          0.875,
          0.8333333333333334,
          0.9166666666666666,
          0.75,
          0.875,
          0.9583333333333334,
          0.7916666666666666,
          0.9583333333333334,
          0.7916666666666666,
          0.9166666666666666,
          0.875,
          0.9583333333333334,
          0.7916666666666666,
          0.7083333333333334,
          0.7083333333333334,
          0.8333333333333334,
          0.75,
          0.625,
          0.9166666666666666,
          0.9583333333333334,
          0.75,
          0.7916666666666666,
          0.8333333333333334,
          0.8333333333333334,
          0.7916666666666666,
          0.9583333333333334,
          0.8333333333333334,
          0.875,
          0.9166666666666666,
          0.7916666666666666,
          0.9166666666666666,
          0.7916666666666666,
          0.875,
          0.8333333333333334,
          0.8333333333333334,
          0.9166666666666666,
          0.9166666666666666,
          0.75,
          0.875,
          0.875,
          0.875,
          0.7083333333333334,
          0.875,
          0.875,
          0.875,
          0.7916666666666666,
          0.875,
          0.9583333333333334,
          0.7916666666666666,
          0.6666666666666666,
          0.8333333333333334,
          0.7083333333333334,
          0.9583333333333334,
          0.8333333333333334,
          1,
          0.7916666666666666,
          0.75,
          0.7916666666666666,
          0.9166666666666666,
          0.7916666666666666,
          0.625,
          0.9583333333333334,
          0.8333333333333334,
          0.8333333333333334,
          0.9166666666666666,
          0.875,
          0.9583333333333334,
          0.6666666666666666,
          0.9583333333333334,
          0.7083333333333334,
          0.75,
          0.8333333333333334,
          1,
          0.7083333333333334,
          0.875,
          0.9166666666666666,
          0.7083333333333334,
          0.9583333333333334,
          0.875,
          1,
          0.9166666666666666,
          0.7916666666666666,
          0.9166666666666666,
          0.7916666666666666,
          0.9583333333333334,
          0.875,
          0.6666666666666666,
          0.9166666666666666,
          0.75,
          0.875,
          0.9583333333333334,
          0.875,
          0.9166666666666666,
          0.875,
          0.8333333333333334,
          0.875,
          0.8333333333333334,
          0.8333333333333334,
          0.7083333333333334,
          0.875,
          0.9583333333333334,
          0.6666666666666666,
          0.7083333333333334,
          0.875,
          0.875,
          0.9583333333333334,
          0.9583333333333334,
          0.9166666666666666,
          0.9583333333333334,
          0.75,
          0.8333333333333334,
          0.8333333333333334,
          0.6666666666666666,
          0.6666666666666666,
          0.9583333333333334,
          0.9166666666666666,
          0.6666666666666666,
          0.75,
          1,
          0.7916666666666666,
          0.9583333333333334,
          1,
          0.875,
          0.9166666666666666,
          0.9166666666666666,
          0.9166666666666666,
          0.875,
          0.7916666666666666,
          0.7083333333333334,
          0.875,
          0.5833333333333334,
          0.7916666666666666,
          0.75,
          0.75,
          0.8333333333333334,
          1,
          0.7083333333333334,
          0.9583333333333334,
          0.8333333333333334,
          0.9583333333333334,
          0.8333333333333334,
          0.7916666666666666,
          0.875,
          0.7083333333333334,
          0.875,
          0.875,
          0.875,
          0.8333333333333334,
          0.9583333333333334,
          0.875,
          0.9583333333333334,
          1,
          0.6666666666666666,
          0.8333333333333334,
          0.8333333333333334,
          0.8333333333333334,
          0.8333333333333334,
          0.8333333333333334,
          1,
          0.75,
          0.8333333333333334,
          0.9166666666666666,
          0.5416666666666666,
          0.625,
          0.875,
          0.9166666666666666,
          0.9166666666666666,
          0.7916666666666666,
          0.7916666666666666,
          0.875,
          0.7916666666666666,
          0.9166666666666666,
          0.8333333333333334,
          0.8333333333333334,
          0.8333333333333334,
          0.875,
          0.875,
          0.9583333333333334,
          1,
          0.875,
          0.7916666666666666,
          0.9583333333333334,
          0.875,
          0.75,
          1,
          0.7083333333333334,
          0.7916666666666666,
          0.6666666666666666,
          0.875,
          0.875,
          0.7916666666666666,
          0.7916666666666666,
          1,
          0.9583333333333334,
          0.9166666666666666,
          0.8333333333333334,
          0.9166666666666666,
          0.9166666666666666,
          0.75,
          0.875,
          0.7916666666666666,
          1,
          0.875,
          0.9166666666666666,
          0.9583333333333334,
          0.7916666666666666,
          0.9166666666666666,
          0.875,
          0.8333333333333334,
          0.7083333333333334,
          0.875,
          0.5,
          0.8333333333333334,
          0.75,
          1,
          0.875,
          0.7916666666666666,
          0.9583333333333334,
          0.75,
          0.9583333333333334,
          0.8333333333333334,
          0.9166666666666666,
          0.7916666666666666,
          0.9166666666666666,
          0.875,
          0.875,
          0.9166666666666666,
          0.75,
          0.8333333333333334,
          0.8333333333333334,
          0.8333333333333334,
          0.7916666666666666,
          0.9583333333333334,
          0.9583333333333334,
          0.7916666666666666,
          0.875,
          0.8333333333333334,
          0.9166666666666666,
          0.875,
          0.9166666666666666,
          0.7916666666666666,
          0.9166666666666666,
          0.7916666666666666,
          0.875,
          0.7916666666666666,
          0.75,
          0.9583333333333334,
          0.9166666666666666,
          0.875,
          0.875,
          0.875,
          0.7916666666666666,
          0.7916666666666666,
          0.9583333333333334,
          0.75,
          0.9166666666666666,
          1,
          0.75,
          0.7083333333333334,
          0.9583333333333334,
          0.7916666666666666,
          0.8333333333333334,
          0.7916666666666666,
          0.9583333333333334,
          0.9166666666666666,
          0.8333333333333334,
          0.9583333333333334,
          0.875,
          0.875,
          0.7083333333333334,
          0.7916666666666666,
          1,
          0.7916666666666666,
          0.9166666666666666,
          0.8333333333333334,
          0.8333333333333334,
          0.9583333333333334,
          0.7916666666666666,
          0.8333333333333334,
          0.9583333333333334,
          0.9166666666666666,
          0.7916666666666666,
          0.9166666666666666,
          0.7916666666666666,
          0.8333333333333334,
          0.9166666666666666,
          0.9583333333333334,
          0.9166666666666666,
          0.7916666666666666,
          0.6666666666666666,
          0.9166666666666666,
          0.7916666666666666,
          0.875,
          0.9583333333333334,
          0.7916666666666666,
          0.875,
          0.875,
          0.8333333333333334,
          0.9166666666666666,
          0.7916666666666666,
          0.875,
          0.9583333333333334,
          0.8333333333333334,
          0.7916666666666666,
          0.9583333333333334,
          0.875,
          0.9583333333333334,
          0.9166666666666666,
          0.875,
          0.9583333333333334,
          0.875,
          0.7916666666666666,
          0.875,
          0.8333333333333334,
          0.75,
          0.5833333333333334,
          0.8333333333333334,
          0.9583333333333334,
          0.8333333333333334,
          0.7916666666666666,
          0.8333333333333334,
          0.8333333333333334,
          0.9166666666666666,
          0.7916666666666666,
          0.9166666666666666,
          0.875,
          0.9166666666666666,
          0.875,
          0.7083333333333334,
          0.9583333333333334,
          0.875,
          1,
          0.7916666666666666,
          0.875,
          0.9583333333333334,
          0.9166666666666666,
          0.6666666666666666,
          0.8333333333333334,
          0.875,
          0.9166666666666666,
          0.75,
          0.9166666666666666,
          0.9166666666666666,
          1,
          0.9166666666666666,
          0.875,
          0.9166666666666666,
          0.7083333333333334,
          0.875,
          0.7916666666666666,
          0.875,
          0.75,
          0.8333333333333334,
          0.9166666666666666,
          0.875,
          0.75,
          0.8333333333333334,
          0.9166666666666666,
          0.8333333333333334,
          0.9166666666666666,
          0.7083333333333334,
          0.75,
          0.8333333333333334,
          0.8333333333333334,
          0.8333333333333334,
          0.9166666666666666,
          0.8333333333333334,
          0.9166666666666666,
          0.8333333333333334,
          0.8333333333333334,
          0.8333333333333334,
          0.875,
          0.7916666666666666,
          0.9583333333333334,
          0.9166666666666666,
          0.9583333333333334,
          0.9583333333333334,
          0.9166666666666666,
          0.9583333333333334,
          0.75,
          0.9166666666666666,
          0.9583333333333334,
          0.875,
          0.75,
          0.875,
          0.75,
          0.8333333333333334,
          0.9166666666666666,
          0.9166666666666666,
          0.9166666666666666,
          0.875,
          0.75,
          0.9583333333333334,
          0.8333333333333334,
          0.8333333333333334,
          0.8333333333333334,
          0.6666666666666666,
          0.9583333333333334,
          0.8333333333333334,
          0.8333333333333334,
          0.7916666666666666,
          0.6666666666666666,
          0.7916666666666666,
          0.875,
          0.7916666666666666,
          0.625,
          0.7916666666666666,
          0.7916666666666666,
          0.8333333333333334,
          0.8333333333333334,
          0.9166666666666666,
          0.5416666666666666,
          0.875,
          0.9166666666666666,
          0.8333333333333334,
          0.7916666666666666,
          0.875,
          0.7916666666666666,
          0.8333333333333334,
          0.75,
          0.8333333333333334,
          0.8333333333333334,
          0.9166666666666666,
          0.7083333333333334,
          0.7916666666666666,
          0.875,
          0.8333333333333334,
          0.9166666666666666,
          1,
          0.8333333333333334,
          0.9166666666666666,
          0.9166666666666666,
          0.75,
          0.6666666666666666,
          0.8333333333333334,
          0.9166666666666666,
          0.9583333333333334,
          0.875,
          0.9583333333333334,
          0.7083333333333334,
          0.9166666666666666,
          0.9166666666666666,
          0.8333333333333334,
          0.9583333333333334,
          0.7916666666666666,
          0.7916666666666666,
          0.9583333333333334,
          0.9166666666666666,
          0.7916666666666666,
          0.8333333333333334,
          0.875,
          0.8333333333333334,
          0.8333333333333334,
          0.9166666666666666,
          0.9583333333333334,
          1,
          0.75,
          0.9166666666666666,
          0.875,
          0.7083333333333334,
          0.8333333333333334,
          0.8333333333333334,
          0.9583333333333334,
          0.9166666666666666,
          0.875,
          0.9583333333333334,
          0.875,
          0.8333333333333334,
          0.9583333333333334,
          0.875,
          0.9583333333333334,
          0.8333333333333334,
          0.9166666666666666,
          0.8333333333333334,
          0.9583333333333334,
          0.9583333333333334,
          0.7916666666666666,
          0.7916666666666666,
          0.8333333333333334,
          1,
          0.9166666666666666,
          0.8333333333333334,
          0.75,
          0.9583333333333334,
          0.9583333333333334,
          0.9166666666666666,
          0.8333333333333334,
          0.875,
          0.875,
          0.6666666666666666,
          0.75,
          0.9166666666666666,
          0.9166666666666666,
          1,
          0.75,
          0.75,
          0.8333333333333334,
          0.875,
          0.875,
          0.9166666666666666,
          0.875,
          0.9166666666666666,
          0.8333333333333334,
          0.9583333333333334,
          0.875,
          0.9166666666666666,
          0.875,
          0.9166666666666666,
          0.875,
          0.75,
          0.9583333333333334,
          0.8333333333333334,
          0.875,
          0.8333333333333334,
          0.8333333333333334,
          0.5833333333333334,
          0.8333333333333334,
          0.9166666666666666,
          0.7916666666666666,
          0.9166666666666666,
          0.7916666666666666,
          0.8333333333333334,
          0.9583333333333334,
          0.875,
          0.8333333333333334,
          0.8333333333333334,
          0.9166666666666666,
          0.875,
          0.7916666666666666,
          0.8333333333333334,
          0.9166666666666666,
          0.875,
          0.875,
          0.875,
          0.9166666666666666,
          0.8333333333333334,
          0.6666666666666666,
          0.9583333333333334,
          0.9583333333333334,
          0.9583333333333334,
          0.9166666666666666,
          0.875,
          0.875,
          0.8333333333333334,
          0.9166666666666666,
          0.75,
          0.7083333333333334,
          0.875,
          0.9166666666666666,
          0.7916666666666666,
          0.9166666666666666,
          0.9166666666666666,
          0.7916666666666666,
          0.5833333333333334,
          0.8333333333333334,
          0.7083333333333334,
          0.875,
          0.75,
          0.875,
          0.875,
          0.875,
          0.9166666666666666,
          0.9583333333333334,
          0.6666666666666666,
          0.75,
          0.875,
          0.875,
          0.875,
          0.9166666666666666,
          0.9583333333333334,
          0.7083333333333334,
          0.8333333333333334,
          0.9583333333333334,
          0.8333333333333334,
          0.7083333333333334,
          0.875,
          0.9583333333333334,
          0.9166666666666666,
          0.875,
          0.8333333333333334,
          0.7916666666666666,
          0.8333333333333334,
          1,
          0.9166666666666666,
          0.75,
          0.9166666666666666,
          0.75,
          0.875,
          0.75,
          0.9583333333333334,
          0.8333333333333334,
          0.7916666666666666,
          0.75,
          1,
          0.75,
          0.875,
          0.8333333333333334,
          0.9583333333333334,
          0.9166666666666666,
          0.6666666666666666,
          0.9166666666666666,
          0.75,
          0.9166666666666666,
          0.9583333333333334,
          0.875,
          0.9583333333333334,
          0.5,
          0.875,
          0.75,
          0.9583333333333334,
          0.75,
          0.875,
          0.9583333333333334,
          0.875,
          0.9166666666666666,
          0.9583333333333334,
          0.875,
          0.8333333333333334,
          0.7916666666666666,
          0.875,
          0.9583333333333334,
          0.9583333333333334,
          0.8333333333333334,
          0.7916666666666666,
          0.9583333333333334,
          0.9166666666666666,
          0.9583333333333334,
          0.8333333333333334,
          0.875,
          0.9583333333333334,
          0.875,
          0.9583333333333334,
          0.8333333333333334,
          0.75,
          0.625,
          0.875,
          0.8333333333333334,
          0.875,
          0.7916666666666666,
          0.9583333333333334,
          0.8333333333333334,
          0.7916666666666666,
          1,
          0.875,
          0.75,
          0.8333333333333334,
          0.9166666666666666,
          0.9166666666666666,
          0.8333333333333334,
          0.6666666666666666,
          0.9166666666666666,
          0.9166666666666666,
          0.9583333333333334,
          0.9166666666666666,
          0.8333333333333334,
          0.8333333333333334,
          0.9583333333333334,
          0.9583333333333334,
          0.875,
          0.6666666666666666,
          1,
          0.9583333333333334,
          0.9166666666666666,
          0.75,
          0.8333333333333334,
          0.7916666666666666,
          0.7916666666666666,
          0.9166666666666666,
          0.875,
          0.875,
          0.7916666666666666,
          0.6666666666666666,
          0.7916666666666666,
          1,
          0.9583333333333334,
          0.9583333333333334,
          0.75,
          0.9583333333333334,
          0.875,
          0.875,
          0.7916666666666666,
          0.9166666666666666,
          0.9166666666666666,
          0.9583333333333334,
          0.7083333333333334,
          0.875,
          0.875,
          0.9583333333333334,
          0.8333333333333334,
          0.7083333333333334,
          0.7916666666666666,
          0.9166666666666666,
          0.9166666666666666,
          0.9166666666666666,
          0.9166666666666666,
          0.8333333333333334,
          0.7916666666666666,
          0.9166666666666666,
          0.875,
          0.9166666666666666,
          0.8333333333333334,
          0.9583333333333334,
          0.7916666666666666,
          0.8333333333333334,
          0.9166666666666666,
          0.9166666666666666,
          0.9583333333333334,
          0.7083333333333334,
          0.8333333333333334,
          0.875,
          0.9166666666666666,
          0.9583333333333334,
          0.875,
          0.7916666666666666,
          0.8333333333333334,
          0.75,
          0.9166666666666666,
          1,
          0.7916666666666666,
          0.7916666666666666,
          0.9166666666666666,
          0.6666666666666666,
          0.8333333333333334,
          1,
          0.9166666666666666,
          1,
          0.75,
          0.875,
          0.9583333333333334,
          0.7916666666666666,
          1,
          0.9583333333333334,
          0.9583333333333334,
          0.7916666666666666,
          0.9583333333333334,
          0.8333333333333334,
          0.8333333333333334,
          0.625,
          0.625,
          0.9166666666666666,
          0.9583333333333334,
          0.9166666666666666,
          0.8333333333333334,
          0.9583333333333334,
          0.875,
          0.875,
          0.7083333333333334,
          0.7083333333333334,
          0.8333333333333334,
          1,
          0.7916666666666666,
          0.875,
          0.8333333333333334,
          0.8333333333333334,
          0.875,
          0.9166666666666666,
          0.9583333333333334,
          0.9583333333333334,
          0.5833333333333334,
          0.875,
          0.9166666666666666,
          1,
          0.7083333333333334,
          0.6666666666666666,
          0.875,
          0.9166666666666666,
          0.9166666666666666,
          0.7916666666666666,
          0.9583333333333334,
          0.8333333333333334,
          0.9166666666666666,
          0.8333333333333334,
          0.875,
          0.9166666666666666,
          0.875,
          0.9166666666666666,
          1,
          0.9583333333333334,
          0.75,
          1,
          0.9583333333333334,
          0.75,
          0.8333333333333334,
          0.9583333333333334,
          0.9166666666666666,
          0.8333333333333334,
          0.5833333333333334,
          1,
          0.8333333333333334,
          1,
          1,
          0.8333333333333334,
          0.7916666666666666,
          0.9583333333333334,
          0.875,
          0.9166666666666666,
          0.875,
          0.75,
          0.6666666666666666,
          0.875,
          0.9166666666666666,
          0.9583333333333334,
          0.7916666666666666,
          0.7916666666666666,
          0.8333333333333334,
          0.9166666666666666,
          0.5833333333333334,
          0.9166666666666666,
          0.75,
          0.9583333333333334,
          0.7916666666666666,
          0.7083333333333334,
          0.9166666666666666,
          0.8333333333333334,
          0.75,
          0.7083333333333334,
          0.8333333333333334,
          0.9583333333333334,
          0.75,
          0.875,
          0.875,
          0.9583333333333334,
          0.9166666666666666,
          0.7916666666666666,
          0.5416666666666666,
          0.875,
          0.8333333333333334,
          0.7916666666666666,
          0.7916666666666666,
          0.9166666666666666,
          0.9583333333333334,
          0.7916666666666666,
          0.9166666666666666,
          0.9166666666666666,
          0.7083333333333334,
          0.875,
          0.7916666666666666,
          0.9166666666666666,
          0.8333333333333334,
          0.7916666666666666,
          0.9166666666666666,
          0.75,
          0.9166666666666666,
          0.7916666666666666,
          0.75,
          0.7083333333333334,
          0.9583333333333334,
          0.7916666666666666,
          0.625,
          0.875,
          0.9166666666666666,
          0.7083333333333334,
          0.6666666666666666,
          0.9166666666666666,
          0.8333333333333334,
          0.75,
          0.5833333333333334,
          0.8333333333333334,
          0.9166666666666666,
          0.875,
          0.7083333333333334,
          0.8333333333333334,
          0.875,
          0.7083333333333334,
          0.75,
          0.875,
          0.8333333333333334,
          0.8333333333333334,
          0.9166666666666666,
          0.7083333333333334,
          0.9166666666666666,
          0.75,
          0.7916666666666666,
          0.7916666666666666,
          0.875,
          0.9166666666666666,
          0.875,
          0.75,
          0.8333333333333334,
          0.9583333333333334,
          0.7916666666666666,
          0.9166666666666666,
          0.9166666666666666,
          0.9166666666666666,
          0.9583333333333334,
          0.75,
          1,
          1,
          1,
          0.9166666666666666,
          0.7083333333333334,
          0.7916666666666666,
          0.8333333333333334,
          0.9583333333333334,
          0.8333333333333334,
          0.9166666666666666,
          0.9166666666666666,
          0.9166666666666666,
          0.7916666666666666,
          0.9166666666666666,
          0.9583333333333334,
          0.8333333333333334,
          0.9583333333333334,
          0.875,
          1,
          0.875,
          0.9166666666666666,
          0.875,
          0.9166666666666666,
          0.75,
          0.8333333333333334,
          0.9583333333333334,
          0.6666666666666666,
          0.6666666666666666,
          0.9583333333333334,
          0.9166666666666666,
          0.7083333333333334,
          0.8333333333333334,
          0.9583333333333334,
          0.7083333333333334,
          0.7916666666666666,
          0.75,
          0.9166666666666666,
          0.875,
          0.9583333333333334,
          0.6666666666666666,
          0.9583333333333334,
          0.7916666666666666,
          0.9166666666666666,
          0.875,
          0.875,
          0.9166666666666666,
          0.875,
          0.7916666666666666,
          0.7916666666666666,
          0.75,
          0.8333333333333334,
          0.75,
          0.9166666666666666,
          0.8333333333333334,
          0.7916666666666666,
          0.7083333333333334,
          1,
          0.9583333333333334,
          0.7916666666666666,
          0.9166666666666666,
          0.9166666666666666,
          0.6666666666666666,
          0.9166666666666666,
          0.875,
          0.9166666666666666,
          0.7916666666666666,
          0.8333333333333334,
          0.9583333333333334,
          0.875,
          0.7083333333333334,
          0.7916666666666666,
          0.9583333333333334,
          0.875,
          0.9166666666666666,
          0.7916666666666666,
          0.75,
          0.875,
          0.7916666666666666,
          0.875,
          0.875,
          0.5833333333333334,
          0.75,
          0.8333333333333334,
          0.875,
          0.7916666666666666,
          0.9583333333333334,
          0.875,
          0.8333333333333334,
          0.875,
          0.9583333333333334,
          0.75,
          0.8333333333333334,
          0.8333333333333334,
          0.8333333333333334,
          0.875,
          0.9166666666666666,
          0.875,
          0.7083333333333334,
          0.5833333333333334,
          0.875,
          0.9583333333333334,
          0.6666666666666666,
          0.8333333333333334,
          0.7916666666666666,
          0.8333333333333334,
          0.8333333333333334,
          0.875,
          0.75,
          0.875,
          1,
          0.875,
          0.5416666666666666,
          0.9166666666666666,
          0.875,
          0.875,
          0.875,
          0.8333333333333334,
          0.9583333333333334,
          0.9166666666666666,
          0.9166666666666666,
          0.9166666666666666,
          1,
          0.7916666666666666,
          0.9166666666666666,
          0.9583333333333334,
          0.7916666666666666,
          0.875,
          0.6666666666666666,
          0.875,
          0.9166666666666666,
          0.9166666666666666,
          1,
          0.7083333333333334,
          0.9583333333333334,
          0.8333333333333334,
          0.875,
          0.9166666666666666,
          0.625,
          0.8333333333333334,
          0.9166666666666666,
          0.9166666666666666,
          0.8333333333333334,
          0.7916666666666666,
          0.9583333333333334,
          0.9583333333333334,
          0.9166666666666666,
          0.8333333333333334,
          0.875,
          0.8333333333333334,
          0.875,
          0.9583333333333334,
          0.7916666666666666,
          0.8333333333333334,
          0.9166666666666666,
          0.9166666666666666,
          0.8333333333333334,
          0.7916666666666666,
          0.9166666666666666,
          0.9583333333333334,
          0.9166666666666666,
          0.8333333333333334,
          0.8333333333333334,
          0.4583333333333333,
          0.7083333333333334,
          1,
          0.9166666666666666,
          0.875,
          0.9166666666666666,
          0.9166666666666666,
          0.8333333333333334,
          0.9166666666666666,
          0.8333333333333334,
          0.7916666666666666,
          0.7083333333333334,
          0.8333333333333334,
          0.875,
          0.0833333333333333,
          0.8333333333333334,
          0.9166666666666666,
          0.875,
          0.7083333333333334,
          0.875,
          0.9583333333333334,
          0.875,
          1,
          0.875,
          0.5833333333333334,
          0.7083333333333334,
          0.9166666666666666,
          0.625,
          0.8333333333333334,
          0.8333333333333334,
          0.9583333333333334,
          0.75,
          1,
          0.875,
          0.875,
          0.7916666666666666,
          1,
          0.7916666666666666,
          0.875,
          0.8333333333333334,
          0.9166666666666666,
          0.8333333333333334,
          0.875,
          0.875,
          0.8333333333333334,
          0.75,
          0.7916666666666666,
          0.9166666666666666,
          0.7916666666666666,
          0.9166666666666666,
          0.9166666666666666,
          0.875,
          0.6666666666666666,
          0.875,
          0.9166666666666666,
          0.9166666666666666,
          0.875,
          0.8333333333333334,
          0.875,
          0.875,
          0.875,
          0.6666666666666666,
          0.6666666666666666,
          0.75,
          0.7083333333333334,
          0.7916666666666666,
          0.9166666666666666,
          0.875,
          0.75,
          0.75,
          0.75,
          0.7083333333333334,
          0.875,
          0.875,
          0.8333333333333334,
          0.875,
          0.75,
          0.625,
          0.5833333333333334,
          0.75,
          0.625,
          0.5833333333333334,
          0.5833333333333334,
          0.7083333333333334,
          0.7083333333333334,
          0.6666666666666666,
          0.9166666666666666,
          0.8333333333333334,
          0.8333333333333334,
          0.75,
          0.8333333333333334,
          0.8333333333333334,
          0.6666666666666666,
          0.875,
          0.75,
          0.8333333333333334,
          0.875,
          0.875,
          0.8333333333333334,
          0.6666666666666666,
          0.9166666666666666,
          0.7916666666666666,
          0.7916666666666666,
          0.7916666666666666,
          0.8333333333333334,
          0.875,
          0.75,
          0.8333333333333334,
          0.7916666666666666,
          0.75,
          0.8333333333333334,
          0.875,
          0.9166666666666666,
          0.7916666666666666,
          0.875,
          0.8333333333333334,
          0.75,
          0.9166666666666666,
          0.875,
          0.8333333333333334,
          0.9583333333333334,
          0.8333333333333334,
          0.8333333333333334,
          0.9166666666666666,
          0.8333333333333334,
          0.875,
          0.8333333333333334,
          0.8333333333333334,
          0.7083333333333334,
          0.875,
          0.9166666666666666,
          0.9166666666666666,
          0.6666666666666666,
          0.875,
          0.9166666666666666,
          0.8333333333333334,
          0.875,
          0.9166666666666666,
          0.8333333333333334,
          0.8333333333333334,
          0.7916666666666666,
          0.9166666666666666,
          1,
          0.875,
          0.9166666666666666,
          0.9166666666666666,
          0.875,
          0.875,
          0.9166666666666666,
          0.8333333333333334,
          0.9166666666666666,
          0.7916666666666666,
          0.9166666666666666,
          0.7916666666666666,
          0.7916666666666666,
          0.8333333333333334,
          0.75,
          0.7083333333333334,
          0.875,
          0.6666666666666666,
          0.8333333333333334,
          0.7916666666666666,
          0.875,
          0.9166666666666666,
          0.9583333333333334,
          0.8333333333333334,
          0.8333333333333334,
          0.9583333333333334,
          0.7916666666666666,
          1,
          0.5416666666666666,
          0.9583333333333334,
          0.9583333333333334,
          1,
          0.9166666666666666,
          0.9166666666666666,
          0.9583333333333334,
          0.9166666666666666,
          0.9583333333333334,
          0.9583333333333334,
          0.9583333333333334,
          0.9166666666666666,
          0.9166666666666666,
          0.9166666666666666,
          0.9583333333333334,
          0.9166666666666666,
          0.8333333333333334,
          0.75,
          0.875,
          0.875,
          0.9166666666666666,
          0.9166666666666666,
          0.875,
          0.8333333333333334,
          0.9166666666666666,
          0.8333333333333334,
          0.8333333333333334,
          0.875,
          0.9166666666666666,
          0.8333333333333334,
          0.875,
          0.9166666666666666,
          0.8333333333333334,
          0.75,
          0.9583333333333334,
          0.7916666666666666,
          0.9166666666666666,
          0.7083333333333334,
          0.875,
          0.875,
          0.875,
          0.7083333333333334,
          0.8333333333333334,
          0.9166666666666666,
          0.875,
          0.875,
          0.9166666666666666,
          0.9583333333333334,
          0.7916666666666666,
          0.875,
          0.7916666666666666,
          0.875,
          0.875,
          0.9166666666666666,
          0.875,
          0.9583333333333334,
          0.9583333333333334,
          0.875,
          0.875,
          1,
          0.7916666666666666,
          0.9166666666666666,
          0.5416666666666666,
          0.9166666666666666,
          0.9166666666666666,
          0.8333333333333334,
          1,
          0.9166666666666666,
          0.9583333333333334,
          0.9166666666666666,
          0.75,
          0.875,
          0.8333333333333334,
          1,
          0.9166666666666666,
          1,
          1,
          0.8333333333333334,
          0.75,
          0.9583333333333334,
          0.6666666666666666,
          0.9583333333333334,
          0.9583333333333334,
          0.875,
          0.9583333333333334,
          0.9583333333333334,
          0.9166666666666666,
          0.9583333333333334,
          1,
          0.8333333333333334,
          0.875,
          0.9166666666666666,
          0.7916666666666666,
          0.9166666666666666,
          0.875,
          0.7083333333333334,
          0.7083333333333334,
          0.875,
          0.7916666666666666,
          0.7916666666666666,
          0.8333333333333334,
          0.9166666666666666,
          0.875,
          0.9583333333333334,
          0.875,
          0.875,
          0.9166666666666666,
          0.8333333333333334,
          0.7916666666666666,
          0.875,
          0.7083333333333334,
          0.875,
          0.75,
          0.8333333333333334,
          0.875,
          0.7916666666666666,
          0.875,
          0.875,
          0.9166666666666666,
          0.9166666666666666,
          0.9166666666666666,
          0.9166666666666666,
          0.8333333333333334,
          0.875,
          0.8333333333333334,
          0.9166666666666666,
          0.875,
          0.875,
          0.875,
          0.75,
          0.875,
          0.7916666666666666,
          0.9166666666666666,
          0.9166666666666666,
          0.875,
          0.7916666666666666,
          0.8333333333333334,
          0.9583333333333334,
          0.9583333333333334,
          0.7916666666666666,
          0.875,
          0.875,
          0.9583333333333334,
          0.75,
          0.875,
          0.875,
          0.8333333333333334,
          0.5416666666666666,
          0.875,
          0.9166666666666666,
          0.9166666666666666,
          0.7916666666666666
         ],
         "xaxis": "x",
         "yaxis": "y"
        }
       ],
       "layout": {
        "barmode": "relative",
        "legend": {
         "tracegroupgap": 0
        },
        "margin": {
         "t": 60
        },
        "shapes": [
         {
          "line": {
           "color": "red",
           "width": 2
          },
          "type": "line",
          "x0": 0.8258208333333334,
          "x1": 0.8258208333333334,
          "xref": "x",
          "y0": 0,
          "y1": 1,
          "yref": "y domain"
         },
         {
          "line": {
           "color": "orange",
           "width": 2
          },
          "type": "line",
          "x0": 0.75,
          "x1": 0.75,
          "xref": "x",
          "y0": 0,
          "y1": 1,
          "yref": "y domain"
         },
         {
          "line": {
           "color": "green",
           "width": 2
          },
          "type": "line",
          "x0": 0.875,
          "x1": 0.875,
          "xref": "x",
          "y0": 0,
          "y1": 1,
          "yref": "y domain"
         }
        ],
        "template": {
         "data": {
          "bar": [
           {
            "error_x": {
             "color": "#2a3f5f"
            },
            "error_y": {
             "color": "#2a3f5f"
            },
            "marker": {
             "line": {
              "color": "#E5ECF6",
              "width": 0.5
             },
             "pattern": {
              "fillmode": "overlay",
              "size": 10,
              "solidity": 0.2
             }
            },
            "type": "bar"
           }
          ],
          "barpolar": [
           {
            "marker": {
             "line": {
              "color": "#E5ECF6",
              "width": 0.5
             },
             "pattern": {
              "fillmode": "overlay",
              "size": 10,
              "solidity": 0.2
             }
            },
            "type": "barpolar"
           }
          ],
          "carpet": [
           {
            "aaxis": {
             "endlinecolor": "#2a3f5f",
             "gridcolor": "white",
             "linecolor": "white",
             "minorgridcolor": "white",
             "startlinecolor": "#2a3f5f"
            },
            "baxis": {
             "endlinecolor": "#2a3f5f",
             "gridcolor": "white",
             "linecolor": "white",
             "minorgridcolor": "white",
             "startlinecolor": "#2a3f5f"
            },
            "type": "carpet"
           }
          ],
          "choropleth": [
           {
            "colorbar": {
             "outlinewidth": 0,
             "ticks": ""
            },
            "type": "choropleth"
           }
          ],
          "contour": [
           {
            "colorbar": {
             "outlinewidth": 0,
             "ticks": ""
            },
            "colorscale": [
             [
              0,
              "#0d0887"
             ],
             [
              0.1111111111111111,
              "#46039f"
             ],
             [
              0.2222222222222222,
              "#7201a8"
             ],
             [
              0.3333333333333333,
              "#9c179e"
             ],
             [
              0.4444444444444444,
              "#bd3786"
             ],
             [
              0.5555555555555556,
              "#d8576b"
             ],
             [
              0.6666666666666666,
              "#ed7953"
             ],
             [
              0.7777777777777778,
              "#fb9f3a"
             ],
             [
              0.8888888888888888,
              "#fdca26"
             ],
             [
              1,
              "#f0f921"
             ]
            ],
            "type": "contour"
           }
          ],
          "contourcarpet": [
           {
            "colorbar": {
             "outlinewidth": 0,
             "ticks": ""
            },
            "type": "contourcarpet"
           }
          ],
          "heatmap": [
           {
            "colorbar": {
             "outlinewidth": 0,
             "ticks": ""
            },
            "colorscale": [
             [
              0,
              "#0d0887"
             ],
             [
              0.1111111111111111,
              "#46039f"
             ],
             [
              0.2222222222222222,
              "#7201a8"
             ],
             [
              0.3333333333333333,
              "#9c179e"
             ],
             [
              0.4444444444444444,
              "#bd3786"
             ],
             [
              0.5555555555555556,
              "#d8576b"
             ],
             [
              0.6666666666666666,
              "#ed7953"
             ],
             [
              0.7777777777777778,
              "#fb9f3a"
             ],
             [
              0.8888888888888888,
              "#fdca26"
             ],
             [
              1,
              "#f0f921"
             ]
            ],
            "type": "heatmap"
           }
          ],
          "heatmapgl": [
           {
            "colorbar": {
             "outlinewidth": 0,
             "ticks": ""
            },
            "colorscale": [
             [
              0,
              "#0d0887"
             ],
             [
              0.1111111111111111,
              "#46039f"
             ],
             [
              0.2222222222222222,
              "#7201a8"
             ],
             [
              0.3333333333333333,
              "#9c179e"
             ],
             [
              0.4444444444444444,
              "#bd3786"
             ],
             [
              0.5555555555555556,
              "#d8576b"
             ],
             [
              0.6666666666666666,
              "#ed7953"
             ],
             [
              0.7777777777777778,
              "#fb9f3a"
             ],
             [
              0.8888888888888888,
              "#fdca26"
             ],
             [
              1,
              "#f0f921"
             ]
            ],
            "type": "heatmapgl"
           }
          ],
          "histogram": [
           {
            "marker": {
             "pattern": {
              "fillmode": "overlay",
              "size": 10,
              "solidity": 0.2
             }
            },
            "type": "histogram"
           }
          ],
          "histogram2d": [
           {
            "colorbar": {
             "outlinewidth": 0,
             "ticks": ""
            },
            "colorscale": [
             [
              0,
              "#0d0887"
             ],
             [
              0.1111111111111111,
              "#46039f"
             ],
             [
              0.2222222222222222,
              "#7201a8"
             ],
             [
              0.3333333333333333,
              "#9c179e"
             ],
             [
              0.4444444444444444,
              "#bd3786"
             ],
             [
              0.5555555555555556,
              "#d8576b"
             ],
             [
              0.6666666666666666,
              "#ed7953"
             ],
             [
              0.7777777777777778,
              "#fb9f3a"
             ],
             [
              0.8888888888888888,
              "#fdca26"
             ],
             [
              1,
              "#f0f921"
             ]
            ],
            "type": "histogram2d"
           }
          ],
          "histogram2dcontour": [
           {
            "colorbar": {
             "outlinewidth": 0,
             "ticks": ""
            },
            "colorscale": [
             [
              0,
              "#0d0887"
             ],
             [
              0.1111111111111111,
              "#46039f"
             ],
             [
              0.2222222222222222,
              "#7201a8"
             ],
             [
              0.3333333333333333,
              "#9c179e"
             ],
             [
              0.4444444444444444,
              "#bd3786"
             ],
             [
              0.5555555555555556,
              "#d8576b"
             ],
             [
              0.6666666666666666,
              "#ed7953"
             ],
             [
              0.7777777777777778,
              "#fb9f3a"
             ],
             [
              0.8888888888888888,
              "#fdca26"
             ],
             [
              1,
              "#f0f921"
             ]
            ],
            "type": "histogram2dcontour"
           }
          ],
          "mesh3d": [
           {
            "colorbar": {
             "outlinewidth": 0,
             "ticks": ""
            },
            "type": "mesh3d"
           }
          ],
          "parcoords": [
           {
            "line": {
             "colorbar": {
              "outlinewidth": 0,
              "ticks": ""
             }
            },
            "type": "parcoords"
           }
          ],
          "pie": [
           {
            "automargin": true,
            "type": "pie"
           }
          ],
          "scatter": [
           {
            "fillpattern": {
             "fillmode": "overlay",
             "size": 10,
             "solidity": 0.2
            },
            "type": "scatter"
           }
          ],
          "scatter3d": [
           {
            "line": {
             "colorbar": {
              "outlinewidth": 0,
              "ticks": ""
             }
            },
            "marker": {
             "colorbar": {
              "outlinewidth": 0,
              "ticks": ""
             }
            },
            "type": "scatter3d"
           }
          ],
          "scattercarpet": [
           {
            "marker": {
             "colorbar": {
              "outlinewidth": 0,
              "ticks": ""
             }
            },
            "type": "scattercarpet"
           }
          ],
          "scattergeo": [
           {
            "marker": {
             "colorbar": {
              "outlinewidth": 0,
              "ticks": ""
             }
            },
            "type": "scattergeo"
           }
          ],
          "scattergl": [
           {
            "marker": {
             "colorbar": {
              "outlinewidth": 0,
              "ticks": ""
             }
            },
            "type": "scattergl"
           }
          ],
          "scattermapbox": [
           {
            "marker": {
             "colorbar": {
              "outlinewidth": 0,
              "ticks": ""
             }
            },
            "type": "scattermapbox"
           }
          ],
          "scatterpolar": [
           {
            "marker": {
             "colorbar": {
              "outlinewidth": 0,
              "ticks": ""
             }
            },
            "type": "scatterpolar"
           }
          ],
          "scatterpolargl": [
           {
            "marker": {
             "colorbar": {
              "outlinewidth": 0,
              "ticks": ""
             }
            },
            "type": "scatterpolargl"
           }
          ],
          "scatterternary": [
           {
            "marker": {
             "colorbar": {
              "outlinewidth": 0,
              "ticks": ""
             }
            },
            "type": "scatterternary"
           }
          ],
          "surface": [
           {
            "colorbar": {
             "outlinewidth": 0,
             "ticks": ""
            },
            "colorscale": [
             [
              0,
              "#0d0887"
             ],
             [
              0.1111111111111111,
              "#46039f"
             ],
             [
              0.2222222222222222,
              "#7201a8"
             ],
             [
              0.3333333333333333,
              "#9c179e"
             ],
             [
              0.4444444444444444,
              "#bd3786"
             ],
             [
              0.5555555555555556,
              "#d8576b"
             ],
             [
              0.6666666666666666,
              "#ed7953"
             ],
             [
              0.7777777777777778,
              "#fb9f3a"
             ],
             [
              0.8888888888888888,
              "#fdca26"
             ],
             [
              1,
              "#f0f921"
             ]
            ],
            "type": "surface"
           }
          ],
          "table": [
           {
            "cells": {
             "fill": {
              "color": "#EBF0F8"
             },
             "line": {
              "color": "white"
             }
            },
            "header": {
             "fill": {
              "color": "#C8D4E3"
             },
             "line": {
              "color": "white"
             }
            },
            "type": "table"
           }
          ]
         },
         "layout": {
          "annotationdefaults": {
           "arrowcolor": "#2a3f5f",
           "arrowhead": 0,
           "arrowwidth": 1
          },
          "autotypenumbers": "strict",
          "coloraxis": {
           "colorbar": {
            "outlinewidth": 0,
            "ticks": ""
           }
          },
          "colorscale": {
           "diverging": [
            [
             0,
             "#8e0152"
            ],
            [
             0.1,
             "#c51b7d"
            ],
            [
             0.2,
             "#de77ae"
            ],
            [
             0.3,
             "#f1b6da"
            ],
            [
             0.4,
             "#fde0ef"
            ],
            [
             0.5,
             "#f7f7f7"
            ],
            [
             0.6,
             "#e6f5d0"
            ],
            [
             0.7,
             "#b8e186"
            ],
            [
             0.8,
             "#7fbc41"
            ],
            [
             0.9,
             "#4d9221"
            ],
            [
             1,
             "#276419"
            ]
           ],
           "sequential": [
            [
             0,
             "#0d0887"
            ],
            [
             0.1111111111111111,
             "#46039f"
            ],
            [
             0.2222222222222222,
             "#7201a8"
            ],
            [
             0.3333333333333333,
             "#9c179e"
            ],
            [
             0.4444444444444444,
             "#bd3786"
            ],
            [
             0.5555555555555556,
             "#d8576b"
            ],
            [
             0.6666666666666666,
             "#ed7953"
            ],
            [
             0.7777777777777778,
             "#fb9f3a"
            ],
            [
             0.8888888888888888,
             "#fdca26"
            ],
            [
             1,
             "#f0f921"
            ]
           ],
           "sequentialminus": [
            [
             0,
             "#0d0887"
            ],
            [
             0.1111111111111111,
             "#46039f"
            ],
            [
             0.2222222222222222,
             "#7201a8"
            ],
            [
             0.3333333333333333,
             "#9c179e"
            ],
            [
             0.4444444444444444,
             "#bd3786"
            ],
            [
             0.5555555555555556,
             "#d8576b"
            ],
            [
             0.6666666666666666,
             "#ed7953"
            ],
            [
             0.7777777777777778,
             "#fb9f3a"
            ],
            [
             0.8888888888888888,
             "#fdca26"
            ],
            [
             1,
             "#f0f921"
            ]
           ]
          },
          "colorway": [
           "#636efa",
           "#EF553B",
           "#00cc96",
           "#ab63fa",
           "#FFA15A",
           "#19d3f3",
           "#FF6692",
           "#B6E880",
           "#FF97FF",
           "#FECB52"
          ],
          "font": {
           "color": "#2a3f5f"
          },
          "geo": {
           "bgcolor": "white",
           "lakecolor": "white",
           "landcolor": "#E5ECF6",
           "showlakes": true,
           "showland": true,
           "subunitcolor": "white"
          },
          "hoverlabel": {
           "align": "left"
          },
          "hovermode": "closest",
          "mapbox": {
           "style": "light"
          },
          "paper_bgcolor": "white",
          "plot_bgcolor": "#E5ECF6",
          "polar": {
           "angularaxis": {
            "gridcolor": "white",
            "linecolor": "white",
            "ticks": ""
           },
           "bgcolor": "#E5ECF6",
           "radialaxis": {
            "gridcolor": "white",
            "linecolor": "white",
            "ticks": ""
           }
          },
          "scene": {
           "xaxis": {
            "backgroundcolor": "#E5ECF6",
            "gridcolor": "white",
            "gridwidth": 2,
            "linecolor": "white",
            "showbackground": true,
            "ticks": "",
            "zerolinecolor": "white"
           },
           "yaxis": {
            "backgroundcolor": "#E5ECF6",
            "gridcolor": "white",
            "gridwidth": 2,
            "linecolor": "white",
            "showbackground": true,
            "ticks": "",
            "zerolinecolor": "white"
           },
           "zaxis": {
            "backgroundcolor": "#E5ECF6",
            "gridcolor": "white",
            "gridwidth": 2,
            "linecolor": "white",
            "showbackground": true,
            "ticks": "",
            "zerolinecolor": "white"
           }
          },
          "shapedefaults": {
           "line": {
            "color": "#2a3f5f"
           }
          },
          "ternary": {
           "aaxis": {
            "gridcolor": "white",
            "linecolor": "white",
            "ticks": ""
           },
           "baxis": {
            "gridcolor": "white",
            "linecolor": "white",
            "ticks": ""
           },
           "bgcolor": "#E5ECF6",
           "caxis": {
            "gridcolor": "white",
            "linecolor": "white",
            "ticks": ""
           }
          },
          "title": {
           "x": 0.05
          },
          "xaxis": {
           "automargin": true,
           "gridcolor": "white",
           "linecolor": "white",
           "ticks": "",
           "title": {
            "standoff": 15
           },
           "zerolinecolor": "white",
           "zerolinewidth": 2
          },
          "yaxis": {
           "automargin": true,
           "gridcolor": "white",
           "linecolor": "white",
           "ticks": "",
           "title": {
            "standoff": 15
           },
           "zerolinecolor": "white",
           "zerolinewidth": 2
          }
         }
        },
        "xaxis": {
         "anchor": "y",
         "domain": [
          0,
          1
         ],
         "tickmode": "array",
         "tickvals": [
          0.8258208333333334,
          0.75,
          0.875
         ],
         "title": {
          "text": "subset_acc"
         }
        },
        "yaxis": {
         "anchor": "x",
         "domain": [
          0,
          1
         ],
         "title": {
          "text": "count"
         }
        }
       }
      }
     },
     "metadata": {},
     "output_type": "display_data"
    }
   ],
   "source": [
    "meanVal = caseAccDf[\"subset_acc\"].mean()\n",
    "# medianVal = multilabelCaseDf[\"subset_acc\"].median()\n",
    "firstQuarter = np.quantile(caseAccDf[\"subset_acc\"].values, 0.25)\n",
    "thirdQuarter = np.quantile(caseAccDf[\"subset_acc\"].values, 0.75)\n",
    "\n",
    "fig = px.histogram(caseAccDf, x=\"subset_acc\")\n",
    "fig.add_vline(x=meanVal, line_width=2, line_color=\"red\")\n",
    "# fig.add_vline(x=medianVal, line_width=2, line_color=\"blue\")\n",
    "fig.add_vline(x=firstQuarter, line_width=2, line_color=\"orange\")\n",
    "fig.add_vline(x=thirdQuarter, line_width=2, line_color=\"green\")\n",
    "\n",
    "fig.update_layout(\n",
    "    xaxis = dict(\n",
    "        tickmode = 'array',\n",
    "        tickvals = [meanVal, firstQuarter, thirdQuarter],\n",
    "    )\n",
    ")"
   ]
  },
  {
   "cell_type": "code",
   "execution_count": 156,
   "metadata": {},
   "outputs": [
    {
     "data": {
      "text/plain": [
       "0.7589350210542058"
      ]
     },
     "execution_count": 156,
     "metadata": {},
     "output_type": "execute_result"
    }
   ],
   "source": [
    "corr = partEvalMetrics[\"tp\"].corr(partEvalMetrics[\"gt_pos_ratio\"])\n",
    "corr"
   ]
  },
  {
   "cell_type": "code",
   "execution_count": 157,
   "metadata": {},
   "outputs": [
    {
     "data": {
      "text/plain": [
       "-0.7500869751696064"
      ]
     },
     "execution_count": 157,
     "metadata": {},
     "output_type": "execute_result"
    }
   ],
   "source": [
    "corr = partEvalMetrics[\"tn\"].corr(partEvalMetrics[\"gt_pos_ratio\"])\n",
    "corr"
   ]
  },
  {
   "cell_type": "code",
   "execution_count": 158,
   "metadata": {},
   "outputs": [
    {
     "data": {
      "text/plain": [
       "-0.22305782969262478"
      ]
     },
     "execution_count": 158,
     "metadata": {},
     "output_type": "execute_result"
    }
   ],
   "source": [
    "corr = partEvalMetrics[\"acc\"].corr(partEvalMetrics[\"gt_pos_ratio\"])\n",
    "corr"
   ]
  },
  {
   "cell_type": "code",
   "execution_count": null,
   "metadata": {},
   "outputs": [],
   "source": []
  }
 ],
 "metadata": {
  "kernelspec": {
   "display_name": "work",
   "language": "python",
   "name": "python3"
  },
  "language_info": {
   "codemirror_mode": {
    "name": "ipython",
    "version": 3
   },
   "file_extension": ".py",
   "mimetype": "text/x-python",
   "name": "python",
   "nbconvert_exporter": "python",
   "pygments_lexer": "ipython3",
   "version": "3.10.8"
  },
  "orig_nbformat": 4,
  "vscode": {
   "interpreter": {
    "hash": "0e8f33c5a67865e6aadcd232beb3e2644a1f224e780847feacdefa5e710f41d5"
   }
  }
 },
 "nbformat": 4,
 "nbformat_minor": 2
}
