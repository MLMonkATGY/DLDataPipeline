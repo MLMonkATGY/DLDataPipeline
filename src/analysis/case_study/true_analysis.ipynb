{
 "cells": [
  {
   "cell_type": "code",
   "execution_count": 1,
   "metadata": {},
   "outputs": [],
   "source": [
    "import pandas as pd"
   ]
  },
  {
   "cell_type": "code",
   "execution_count": 2,
   "metadata": {},
   "outputs": [],
   "source": [
    "csvPath = \"/home/alextay96/Desktop/all_workspace/new_workspace/DLDataPipeline/data/case_study/case_study_13/case_study_result.csv\"\n",
    "df = pd.read_csv(csvPath)"
   ]
  },
  {
   "cell_type": "code",
   "execution_count": 5,
   "metadata": {},
   "outputs": [
    {
     "data": {
      "text/plain": [
       "0.05938697318007663"
      ]
     },
     "execution_count": 5,
     "metadata": {},
     "output_type": "execute_result"
    }
   ],
   "source": [
    "len(df[df[\"fn\"] == 1]) / len(df)"
   ]
  },
  {
   "cell_type": "code",
   "execution_count": 6,
   "metadata": {},
   "outputs": [
    {
     "data": {
      "text/plain": [
       "0.09578544061302682"
      ]
     },
     "execution_count": 6,
     "metadata": {},
     "output_type": "execute_result"
    }
   ],
   "source": [
    "len(df[df[\"fp\"] == 1]) / len(df)"
   ]
  },
  {
   "cell_type": "code",
   "execution_count": 9,
   "metadata": {},
   "outputs": [
    {
     "data": {
      "text/plain": [
       "0.013409961685823755"
      ]
     },
     "execution_count": 9,
     "metadata": {},
     "output_type": "execute_result"
    }
   ],
   "source": [
    "len(df[(df[\"fn\"] == 1) & (df[\"remarks\"] == \"error\")]) / len(df)"
   ]
  },
  {
   "cell_type": "code",
   "execution_count": 10,
   "metadata": {},
   "outputs": [
    {
     "data": {
      "text/plain": [
       "0.03639846743295019"
      ]
     },
     "execution_count": 10,
     "metadata": {},
     "output_type": "execute_result"
    }
   ],
   "source": [
    "len(df[(df[\"fp\"] == 1) & (df[\"remarks\"] == \"error\")]) / len(df)"
   ]
  },
  {
   "cell_type": "code",
   "execution_count": 11,
   "metadata": {},
   "outputs": [
    {
     "data": {
      "text/plain": [
       "bumper_rear         2\n",
       "fender_front_lh     1\n",
       "rear_compartment    1\n",
       "tail_lamp_lh        1\n",
       "bonnet              1\n",
       "bumper_front        1\n",
       "Name: part, dtype: int64"
      ]
     },
     "execution_count": 11,
     "metadata": {},
     "output_type": "execute_result"
    }
   ],
   "source": [
    "df[(df[\"fn\"] == 1) & (df[\"remarks\"] == \"error\")][\"part\"].value_counts()"
   ]
  },
  {
   "cell_type": "code",
   "execution_count": 13,
   "metadata": {},
   "outputs": [
    {
     "data": {
      "text/plain": [
       "engine              4\n",
       "windscreen_front    3\n",
       "grille              2\n",
       "rear_quarter_rh     2\n",
       "headlamp_lh         2\n",
       "front_panel         1\n",
       "rear_panel          1\n",
       "bumper_rear         1\n",
       "fender_front_rh     1\n",
       "windscreen_rear     1\n",
       "tail_lamp_rh        1\n",
       "Name: part, dtype: int64"
      ]
     },
     "execution_count": 13,
     "metadata": {},
     "output_type": "execute_result"
    }
   ],
   "source": [
    "df[(df[\"fp\"] == 1) & (df[\"remarks\"] == \"error\")][\"part\"].value_counts()"
   ]
  },
  {
   "cell_type": "code",
   "execution_count": 12,
   "metadata": {},
   "outputs": [
    {
     "data": {
      "text/plain": [
       "headlamp_rh         5\n",
       "bumper_rear         4\n",
       "engine              4\n",
       "tail_lamp_rh        3\n",
       "bonnet              3\n",
       "bumper_front        3\n",
       "rear_compartment    2\n",
       "fender_front_lh     1\n",
       "headlamp_lh         1\n",
       "grille              1\n",
       "tail_lamp_lh        1\n",
       "front_panel         1\n",
       "rear_panel          1\n",
       "windscreen_rear     1\n",
       "Name: part, dtype: int64"
      ]
     },
     "execution_count": 12,
     "metadata": {},
     "output_type": "execute_result"
    }
   ],
   "source": [
    "df[(df[\"fn\"] == 1)][\"part\"].value_counts()"
   ]
  },
  {
   "cell_type": "code",
   "execution_count": null,
   "metadata": {},
   "outputs": [],
   "source": []
  }
 ],
 "metadata": {
  "kernelspec": {
   "display_name": "work",
   "language": "python",
   "name": "python3"
  },
  "language_info": {
   "codemirror_mode": {
    "name": "ipython",
    "version": 3
   },
   "file_extension": ".py",
   "mimetype": "text/x-python",
   "name": "python",
   "nbconvert_exporter": "python",
   "pygments_lexer": "ipython3",
   "version": "3.10.8 (main, Nov 24 2022, 14:13:03) [GCC 11.2.0]"
  },
  "orig_nbformat": 4,
  "vscode": {
   "interpreter": {
    "hash": "0e8f33c5a67865e6aadcd232beb3e2644a1f224e780847feacdefa5e710f41d5"
   }
  }
 },
 "nbformat": 4,
 "nbformat_minor": 2
}
