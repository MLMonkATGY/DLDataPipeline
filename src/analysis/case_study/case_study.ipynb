{
 "cells": [
  {
   "cell_type": "code",
   "execution_count": 19,
   "metadata": {},
   "outputs": [],
   "source": [
    "import pandas as pd\n",
    "\n",
    "import numpy as np\n"
   ]
  },
  {
   "cell_type": "code",
   "execution_count": 20,
   "metadata": {},
   "outputs": [
    {
     "data": {
      "text/plain": [
       "['Unnamed: 0',\n",
       " 'CaseID',\n",
       " 'bonnet',\n",
       " 'bumper_front',\n",
       " 'door_front_rh',\n",
       " 'door_rear_rh',\n",
       " 'engine',\n",
       " 'fender_front_rh',\n",
       " 'front_panel',\n",
       " 'grille',\n",
       " 'headlamp_rh',\n",
       " 'non_external',\n",
       " 'misc',\n",
       " 'wheel',\n",
       " 'windscreen_front',\n",
       " 'bumper_rear',\n",
       " 'rear_compartment',\n",
       " 'rear_panel',\n",
       " 'rear_quarter_rh',\n",
       " 'tail_lamp_rh',\n",
       " 'windscreen_rear',\n",
       " 'door_front_lh',\n",
       " 'door_rear_lh',\n",
       " 'rear_quarter_lh',\n",
       " 'tail_lamp_lh',\n",
       " 'fender_front_lh',\n",
       " 'headlamp_lh']"
      ]
     },
     "execution_count": 20,
     "metadata": {},
     "output_type": "execute_result"
    }
   ],
   "source": [
    "predDf = pd.read_csv(\n",
    "    \"/home/alextay96/Desktop/all_workspace/new_workspace/DLDataPipeline/data/case_study/case_study_8/case_study_pred.csv\"\n",
    ")\n",
    "gtDf = pd.read_csv(\n",
    "    \"/home/alextay96/Desktop/all_workspace/new_workspace/DLDataPipeline/data/case_study/case_study_8/case_study_gt.csv\"\n",
    ")\n",
    "visionPredDf1 = pd.read_csv(\"/home/alextay96/Desktop/all_workspace/new_workspace/DLDataPipeline/data/results/116/Saloon - 4 Dr/Saloon - 4 Dr_imgs_pred_output.csv\")\n",
    "visionPredDf2 = pd.read_csv(\"/home/alextay96/Desktop/all_workspace/new_workspace/DLDataPipeline/data/results/116/Hatchback - 5 Dr/Hatchback - 5 Dr_imgs_pred_output.csv\")\n",
    "visionPredDf3 = pd.read_csv(\"/home/alextay96/Desktop/all_workspace/new_workspace/DLDataPipeline/data/results/116/SUV - 5 Dr/SUV - 5 Dr_imgs_pred_output.csv\")\n",
    "visionPredDf = pd.concat([visionPredDf1, visionPredDf2,visionPredDf3 ])\n",
    "majorParts = [x.replace(\"vision_\", \"\") for x in  visionPredDf.columns]\n",
    "majorParts"
   ]
  },
  {
   "cell_type": "code",
   "execution_count": 21,
   "metadata": {},
   "outputs": [
    {
     "data": {
      "text/plain": [
       "30"
      ]
     },
     "execution_count": 21,
     "metadata": {},
     "output_type": "execute_result"
    }
   ],
   "source": [
    "len(predDf)"
   ]
  },
  {
   "cell_type": "code",
   "execution_count": 22,
   "metadata": {},
   "outputs": [],
   "source": [
    "targetCols = [x for x in predDf.columns if \"0\" not in x and x != \"CaseID\"]\n",
    "allRows = []\n",
    "for c in targetCols:\n",
    "    for caseId in predDf[\"CaseID\"].unique().tolist():\n",
    "        visionPred = -1\n",
    "        if(c in majorParts):\n",
    "            visionPred = visionPredDf[visionPredDf[\"CaseID\"] == caseId][f\"vision_{c}\"].item()\n",
    "            \n",
    "\n",
    "        pred = predDf[predDf[\"CaseID\"] == caseId][c].item()\n",
    "        gt = gtDf[gtDf[\"CaseID\"] == caseId][c].item()\n",
    "        fp = 1 if gt == 0 and pred == 1 else 0\n",
    "        fn = 1 if gt == 1 and pred == 0 else 0\n",
    "        allRows.append(\n",
    "            {\n",
    "                \"CaseID\" : caseId,\n",
    "                \"part\" : c,\n",
    "                \"v_pred\":visionPred,\n",
    "                \"pred\" : pred,\n",
    "                \"gt\" : gt,\n",
    "                \"fp\" : fp, \n",
    "                \"fn\" : fn,\n",
    "                \"inspect\" : None,\n",
    "                \"remarks\" : None\n",
    "\n",
    "            }\n",
    "        )\n",
    "caseStudyInspectDf = pd.json_normalize(allRows)\n",
    "caseStudyInspectDf.sort_values(by = [\"CaseID\", \"part\"], inplace=True)"
   ]
  },
  {
   "cell_type": "code",
   "execution_count": 23,
   "metadata": {},
   "outputs": [
    {
     "data": {
      "text/html": [
       "<div>\n",
       "<style scoped>\n",
       "    .dataframe tbody tr th:only-of-type {\n",
       "        vertical-align: middle;\n",
       "    }\n",
       "\n",
       "    .dataframe tbody tr th {\n",
       "        vertical-align: top;\n",
       "    }\n",
       "\n",
       "    .dataframe thead th {\n",
       "        text-align: right;\n",
       "    }\n",
       "</style>\n",
       "<table border=\"1\" class=\"dataframe\">\n",
       "  <thead>\n",
       "    <tr style=\"text-align: right;\">\n",
       "      <th></th>\n",
       "      <th>CaseID</th>\n",
       "      <th>part</th>\n",
       "      <th>v_pred</th>\n",
       "      <th>pred</th>\n",
       "      <th>gt</th>\n",
       "      <th>fp</th>\n",
       "      <th>fn</th>\n",
       "      <th>inspect</th>\n",
       "      <th>remarks</th>\n",
       "    </tr>\n",
       "  </thead>\n",
       "  <tbody>\n",
       "    <tr>\n",
       "      <th>240</th>\n",
       "      <td>10053736</td>\n",
       "      <td>air_conditioning</td>\n",
       "      <td>-1</td>\n",
       "      <td>1</td>\n",
       "      <td>0</td>\n",
       "      <td>1</td>\n",
       "      <td>0</td>\n",
       "      <td>None</td>\n",
       "      <td>None</td>\n",
       "    </tr>\n",
       "    <tr>\n",
       "      <th>420</th>\n",
       "      <td>10053736</td>\n",
       "      <td>airbag</td>\n",
       "      <td>-1</td>\n",
       "      <td>0</td>\n",
       "      <td>0</td>\n",
       "      <td>0</td>\n",
       "      <td>0</td>\n",
       "      <td>None</td>\n",
       "      <td>None</td>\n",
       "    </tr>\n",
       "    <tr>\n",
       "      <th>0</th>\n",
       "      <td>10053736</td>\n",
       "      <td>bonnet</td>\n",
       "      <td>0</td>\n",
       "      <td>0</td>\n",
       "      <td>1</td>\n",
       "      <td>0</td>\n",
       "      <td>1</td>\n",
       "      <td>None</td>\n",
       "      <td>None</td>\n",
       "    </tr>\n",
       "    <tr>\n",
       "      <th>30</th>\n",
       "      <td>10053736</td>\n",
       "      <td>bumper_front</td>\n",
       "      <td>1</td>\n",
       "      <td>1</td>\n",
       "      <td>1</td>\n",
       "      <td>0</td>\n",
       "      <td>0</td>\n",
       "      <td>None</td>\n",
       "      <td>None</td>\n",
       "    </tr>\n",
       "    <tr>\n",
       "      <th>330</th>\n",
       "      <td>10053736</td>\n",
       "      <td>bumper_rear</td>\n",
       "      <td>0</td>\n",
       "      <td>0</td>\n",
       "      <td>0</td>\n",
       "      <td>0</td>\n",
       "      <td>0</td>\n",
       "      <td>None</td>\n",
       "      <td>None</td>\n",
       "    </tr>\n",
       "    <tr>\n",
       "      <th>...</th>\n",
       "      <td>...</td>\n",
       "      <td>...</td>\n",
       "      <td>...</td>\n",
       "      <td>...</td>\n",
       "      <td>...</td>\n",
       "      <td>...</td>\n",
       "      <td>...</td>\n",
       "      <td>...</td>\n",
       "      <td>...</td>\n",
       "    </tr>\n",
       "    <tr>\n",
       "      <th>779</th>\n",
       "      <td>13127647</td>\n",
       "      <td>tail_lamp_rh</td>\n",
       "      <td>0</td>\n",
       "      <td>0</td>\n",
       "      <td>0</td>\n",
       "      <td>0</td>\n",
       "      <td>0</td>\n",
       "      <td>None</td>\n",
       "      <td>None</td>\n",
       "    </tr>\n",
       "    <tr>\n",
       "      <th>509</th>\n",
       "      <td>13127647</td>\n",
       "      <td>undercarriage</td>\n",
       "      <td>-1</td>\n",
       "      <td>0</td>\n",
       "      <td>0</td>\n",
       "      <td>0</td>\n",
       "      <td>0</td>\n",
       "      <td>None</td>\n",
       "      <td>None</td>\n",
       "    </tr>\n",
       "    <tr>\n",
       "      <th>539</th>\n",
       "      <td>13127647</td>\n",
       "      <td>wheel</td>\n",
       "      <td>0</td>\n",
       "      <td>0</td>\n",
       "      <td>0</td>\n",
       "      <td>0</td>\n",
       "      <td>0</td>\n",
       "      <td>None</td>\n",
       "      <td>None</td>\n",
       "    </tr>\n",
       "    <tr>\n",
       "      <th>809</th>\n",
       "      <td>13127647</td>\n",
       "      <td>windscreen_front</td>\n",
       "      <td>0</td>\n",
       "      <td>0</td>\n",
       "      <td>0</td>\n",
       "      <td>0</td>\n",
       "      <td>0</td>\n",
       "      <td>None</td>\n",
       "      <td>None</td>\n",
       "    </tr>\n",
       "    <tr>\n",
       "      <th>1019</th>\n",
       "      <td>13127647</td>\n",
       "      <td>windscreen_rear</td>\n",
       "      <td>0</td>\n",
       "      <td>0</td>\n",
       "      <td>0</td>\n",
       "      <td>0</td>\n",
       "      <td>0</td>\n",
       "      <td>None</td>\n",
       "      <td>None</td>\n",
       "    </tr>\n",
       "  </tbody>\n",
       "</table>\n",
       "<p>1020 rows × 9 columns</p>\n",
       "</div>"
      ],
      "text/plain": [
       "        CaseID              part  v_pred  pred  gt  fp  fn inspect remarks\n",
       "240   10053736  air_conditioning      -1     1   0   1   0    None    None\n",
       "420   10053736            airbag      -1     0   0   0   0    None    None\n",
       "0     10053736            bonnet       0     0   1   0   1    None    None\n",
       "30    10053736      bumper_front       1     1   1   0   0    None    None\n",
       "330   10053736       bumper_rear       0     0   0   0   0    None    None\n",
       "...        ...               ...     ...   ...  ..  ..  ..     ...     ...\n",
       "779   13127647      tail_lamp_rh       0     0   0   0   0    None    None\n",
       "509   13127647     undercarriage      -1     0   0   0   0    None    None\n",
       "539   13127647             wheel       0     0   0   0   0    None    None\n",
       "809   13127647  windscreen_front       0     0   0   0   0    None    None\n",
       "1019  13127647   windscreen_rear       0     0   0   0   0    None    None\n",
       "\n",
       "[1020 rows x 9 columns]"
      ]
     },
     "execution_count": 23,
     "metadata": {},
     "output_type": "execute_result"
    }
   ],
   "source": [
    "caseStudyInspectDf"
   ]
  },
  {
   "cell_type": "code",
   "execution_count": 24,
   "metadata": {},
   "outputs": [
    {
     "data": {
      "text/plain": [
       "34"
      ]
     },
     "execution_count": 24,
     "metadata": {},
     "output_type": "execute_result"
    }
   ],
   "source": [
    "len(caseStudyInspectDf[\"part\"].unique())"
   ]
  },
  {
   "cell_type": "code",
   "execution_count": 25,
   "metadata": {},
   "outputs": [
    {
     "data": {
      "text/plain": [
       "750"
      ]
     },
     "execution_count": 25,
     "metadata": {},
     "output_type": "execute_result"
    }
   ],
   "source": [
    "majorParts = 25 * 30\n",
    "majorParts"
   ]
  },
  {
   "cell_type": "code",
   "execution_count": 26,
   "metadata": {},
   "outputs": [
    {
     "data": {
      "text/plain": [
       "0.20533333333333334"
      ]
     },
     "execution_count": 26,
     "metadata": {},
     "output_type": "execute_result"
    }
   ],
   "source": [
    "154 / majorParts"
   ]
  },
  {
   "cell_type": "code",
   "execution_count": 27,
   "metadata": {},
   "outputs": [
    {
     "data": {
      "text/html": [
       "<div>\n",
       "<style scoped>\n",
       "    .dataframe tbody tr th:only-of-type {\n",
       "        vertical-align: middle;\n",
       "    }\n",
       "\n",
       "    .dataframe tbody tr th {\n",
       "        vertical-align: top;\n",
       "    }\n",
       "\n",
       "    .dataframe thead th {\n",
       "        text-align: right;\n",
       "    }\n",
       "</style>\n",
       "<table border=\"1\" class=\"dataframe\">\n",
       "  <thead>\n",
       "    <tr style=\"text-align: right;\">\n",
       "      <th></th>\n",
       "      <th>CaseID</th>\n",
       "      <th>part</th>\n",
       "      <th>v_pred</th>\n",
       "      <th>pred</th>\n",
       "      <th>gt</th>\n",
       "      <th>fp</th>\n",
       "      <th>fn</th>\n",
       "      <th>inspect</th>\n",
       "      <th>remarks</th>\n",
       "    </tr>\n",
       "  </thead>\n",
       "  <tbody>\n",
       "    <tr>\n",
       "      <th>0</th>\n",
       "      <td>10053736</td>\n",
       "      <td>bonnet</td>\n",
       "      <td>0</td>\n",
       "      <td>0</td>\n",
       "      <td>1</td>\n",
       "      <td>0</td>\n",
       "      <td>1</td>\n",
       "      <td>None</td>\n",
       "      <td>None</td>\n",
       "    </tr>\n",
       "    <tr>\n",
       "      <th>390</th>\n",
       "      <td>10053736</td>\n",
       "      <td>engine</td>\n",
       "      <td>1</td>\n",
       "      <td>1</td>\n",
       "      <td>0</td>\n",
       "      <td>1</td>\n",
       "      <td>0</td>\n",
       "      <td>None</td>\n",
       "      <td>None</td>\n",
       "    </tr>\n",
       "    <tr>\n",
       "      <th>540</th>\n",
       "      <td>10053736</td>\n",
       "      <td>fender_front_lh</td>\n",
       "      <td>1</td>\n",
       "      <td>1</td>\n",
       "      <td>0</td>\n",
       "      <td>1</td>\n",
       "      <td>0</td>\n",
       "      <td>None</td>\n",
       "      <td>None</td>\n",
       "    </tr>\n",
       "    <tr>\n",
       "      <th>120</th>\n",
       "      <td>10053736</td>\n",
       "      <td>headlamp_lh</td>\n",
       "      <td>1</td>\n",
       "      <td>1</td>\n",
       "      <td>0</td>\n",
       "      <td>1</td>\n",
       "      <td>0</td>\n",
       "      <td>None</td>\n",
       "      <td>None</td>\n",
       "    </tr>\n",
       "    <tr>\n",
       "      <th>360</th>\n",
       "      <td>10053736</td>\n",
       "      <td>misc</td>\n",
       "      <td>1</td>\n",
       "      <td>1</td>\n",
       "      <td>0</td>\n",
       "      <td>1</td>\n",
       "      <td>0</td>\n",
       "      <td>None</td>\n",
       "      <td>None</td>\n",
       "    </tr>\n",
       "    <tr>\n",
       "      <th>...</th>\n",
       "      <td>...</td>\n",
       "      <td>...</td>\n",
       "      <td>...</td>\n",
       "      <td>...</td>\n",
       "      <td>...</td>\n",
       "      <td>...</td>\n",
       "      <td>...</td>\n",
       "      <td>...</td>\n",
       "      <td>...</td>\n",
       "    </tr>\n",
       "    <tr>\n",
       "      <th>386</th>\n",
       "      <td>12801046</td>\n",
       "      <td>misc</td>\n",
       "      <td>0</td>\n",
       "      <td>0</td>\n",
       "      <td>1</td>\n",
       "      <td>0</td>\n",
       "      <td>1</td>\n",
       "      <td>None</td>\n",
       "      <td>None</td>\n",
       "    </tr>\n",
       "    <tr>\n",
       "      <th>536</th>\n",
       "      <td>12801046</td>\n",
       "      <td>wheel</td>\n",
       "      <td>0</td>\n",
       "      <td>0</td>\n",
       "      <td>1</td>\n",
       "      <td>0</td>\n",
       "      <td>1</td>\n",
       "      <td>None</td>\n",
       "      <td>None</td>\n",
       "    </tr>\n",
       "    <tr>\n",
       "      <th>418</th>\n",
       "      <td>13045105</td>\n",
       "      <td>engine</td>\n",
       "      <td>1</td>\n",
       "      <td>1</td>\n",
       "      <td>0</td>\n",
       "      <td>1</td>\n",
       "      <td>0</td>\n",
       "      <td>None</td>\n",
       "      <td>None</td>\n",
       "    </tr>\n",
       "    <tr>\n",
       "      <th>88</th>\n",
       "      <td>13045105</td>\n",
       "      <td>grille</td>\n",
       "      <td>1</td>\n",
       "      <td>1</td>\n",
       "      <td>0</td>\n",
       "      <td>1</td>\n",
       "      <td>0</td>\n",
       "      <td>None</td>\n",
       "      <td>None</td>\n",
       "    </tr>\n",
       "    <tr>\n",
       "      <th>359</th>\n",
       "      <td>13127647</td>\n",
       "      <td>bumper_rear</td>\n",
       "      <td>1</td>\n",
       "      <td>1</td>\n",
       "      <td>0</td>\n",
       "      <td>1</td>\n",
       "      <td>0</td>\n",
       "      <td>None</td>\n",
       "      <td>None</td>\n",
       "    </tr>\n",
       "  </tbody>\n",
       "</table>\n",
       "<p>92 rows × 9 columns</p>\n",
       "</div>"
      ],
      "text/plain": [
       "       CaseID             part  v_pred  pred  gt  fp  fn inspect remarks\n",
       "0    10053736           bonnet       0     0   1   0   1    None    None\n",
       "390  10053736           engine       1     1   0   1   0    None    None\n",
       "540  10053736  fender_front_lh       1     1   0   1   0    None    None\n",
       "120  10053736      headlamp_lh       1     1   0   1   0    None    None\n",
       "360  10053736             misc       1     1   0   1   0    None    None\n",
       "..        ...              ...     ...   ...  ..  ..  ..     ...     ...\n",
       "386  12801046             misc       0     0   1   0   1    None    None\n",
       "536  12801046            wheel       0     0   1   0   1    None    None\n",
       "418  13045105           engine       1     1   0   1   0    None    None\n",
       "88   13045105           grille       1     1   0   1   0    None    None\n",
       "359  13127647      bumper_rear       1     1   0   1   0    None    None\n",
       "\n",
       "[92 rows x 9 columns]"
      ]
     },
     "execution_count": 27,
     "metadata": {},
     "output_type": "execute_result"
    }
   ],
   "source": [
    "caseStudyWrong = caseStudyInspectDf[(caseStudyInspectDf[\"pred\"] !=caseStudyInspectDf[\"gt\"] )\n",
    "                                    & (caseStudyInspectDf[\"v_pred\"] != -1)\n",
    "                                    \n",
    "                                    ]\n",
    "caseStudyWrong"
   ]
  },
  {
   "cell_type": "code",
   "execution_count": null,
   "metadata": {},
   "outputs": [],
   "source": []
  },
  {
   "cell_type": "code",
   "execution_count": 28,
   "metadata": {},
   "outputs": [
    {
     "data": {
      "text/plain": [
       "0.09019607843137255"
      ]
     },
     "execution_count": 28,
     "metadata": {},
     "output_type": "execute_result"
    }
   ],
   "source": [
    "len(caseStudyWrong) / len(caseStudyInspectDf)"
   ]
  },
  {
   "cell_type": "code",
   "execution_count": 29,
   "metadata": {},
   "outputs": [
    {
     "data": {
      "text/html": [
       "<div>\n",
       "<style scoped>\n",
       "    .dataframe tbody tr th:only-of-type {\n",
       "        vertical-align: middle;\n",
       "    }\n",
       "\n",
       "    .dataframe tbody tr th {\n",
       "        vertical-align: top;\n",
       "    }\n",
       "\n",
       "    .dataframe thead th {\n",
       "        text-align: right;\n",
       "    }\n",
       "</style>\n",
       "<table border=\"1\" class=\"dataframe\">\n",
       "  <thead>\n",
       "    <tr style=\"text-align: right;\">\n",
       "      <th></th>\n",
       "      <th>CaseID</th>\n",
       "      <th>part</th>\n",
       "      <th>v_pred</th>\n",
       "      <th>pred</th>\n",
       "      <th>gt</th>\n",
       "      <th>fp</th>\n",
       "      <th>fn</th>\n",
       "      <th>inspect</th>\n",
       "      <th>remarks</th>\n",
       "    </tr>\n",
       "  </thead>\n",
       "  <tbody>\n",
       "    <tr>\n",
       "      <th>400</th>\n",
       "      <td>10388238</td>\n",
       "      <td>engine</td>\n",
       "      <td>1</td>\n",
       "      <td>0</td>\n",
       "      <td>0</td>\n",
       "      <td>0</td>\n",
       "      <td>0</td>\n",
       "      <td>None</td>\n",
       "      <td>None</td>\n",
       "    </tr>\n",
       "    <tr>\n",
       "      <th>414</th>\n",
       "      <td>12628126</td>\n",
       "      <td>engine</td>\n",
       "      <td>1</td>\n",
       "      <td>0</td>\n",
       "      <td>0</td>\n",
       "      <td>0</td>\n",
       "      <td>0</td>\n",
       "      <td>None</td>\n",
       "      <td>None</td>\n",
       "    </tr>\n",
       "  </tbody>\n",
       "</table>\n",
       "</div>"
      ],
      "text/plain": [
       "       CaseID    part  v_pred  pred  gt  fp  fn inspect remarks\n",
       "400  10388238  engine       1     0   0   0   0    None    None\n",
       "414  12628126  engine       1     0   0   0   0    None    None"
      ]
     },
     "execution_count": 29,
     "metadata": {},
     "output_type": "execute_result"
    }
   ],
   "source": [
    "\n",
    "caseStudyWrongVis = caseStudyInspectDf[(caseStudyInspectDf[\"pred\"] !=caseStudyInspectDf[\"v_pred\"]) & (caseStudyInspectDf[\"v_pred\"] != -1) ]\n",
    "caseStudyWrongVis"
   ]
  },
  {
   "cell_type": "code",
   "execution_count": 30,
   "metadata": {},
   "outputs": [],
   "source": [
    "# majorPartDf = caseStudyInspectDf[caseStudyInspectDf[\"v_pred\"] != - 1]\n",
    "majorPartDf = caseStudyInspectDf"
   ]
  },
  {
   "cell_type": "code",
   "execution_count": 31,
   "metadata": {},
   "outputs": [
    {
     "data": {
      "text/plain": [
       "array(['air_conditioning', 'airbag', 'bonnet', 'bumper_front',\n",
       "       'bumper_rear', 'cooling_fan', 'door_front_lh', 'door_front_rh',\n",
       "       'door_mirror_lh', 'door_mirror_rh', 'door_rear_lh', 'door_rear_rh',\n",
       "       'engine', 'fender_front_lh', 'fender_front_rh', 'fog_lamp_lh',\n",
       "       'fog_lamp_rh', 'front_panel', 'grille', 'headlamp_lh',\n",
       "       'headlamp_rh', 'interior', 'misc', 'radiator', 'rear_compartment',\n",
       "       'rear_panel', 'rear_quarter_lh', 'rear_quarter_rh', 'tail_lamp_lh',\n",
       "       'tail_lamp_rh', 'undercarriage', 'wheel', 'windscreen_front',\n",
       "       'windscreen_rear'], dtype=object)"
      ]
     },
     "execution_count": 31,
     "metadata": {},
     "output_type": "execute_result"
    }
   ],
   "source": [
    "majorPartDf[\"part\"].unique()"
   ]
  },
  {
   "cell_type": "code",
   "execution_count": 32,
   "metadata": {},
   "outputs": [
    {
     "data": {
      "text/plain": [
       "0.08912037037037036"
      ]
     },
     "execution_count": 32,
     "metadata": {},
     "output_type": "execute_result"
    }
   ],
   "source": [
    "fpr = len(majorPartDf[(majorPartDf[\"pred\"]  == 1) & (majorPartDf[\"gt\"]  == 0) ]) / len(majorPartDf[ (majorPartDf[\"gt\"]  == 0)])\n",
    "fpr"
   ]
  },
  {
   "cell_type": "code",
   "execution_count": 33,
   "metadata": {},
   "outputs": [
    {
     "data": {
      "text/plain": [
       "0.3974358974358974"
      ]
     },
     "execution_count": 33,
     "metadata": {},
     "output_type": "execute_result"
    }
   ],
   "source": [
    "fnr = len(majorPartDf[(majorPartDf[\"pred\"]  == 0) & (majorPartDf[\"gt\"]  == 1) ]) / len(majorPartDf[ (majorPartDf[\"gt\"]  == 1)])\n",
    "fnr"
   ]
  },
  {
   "cell_type": "code",
   "execution_count": 34,
   "metadata": {},
   "outputs": [
    {
     "data": {
      "text/plain": [
       "0.8637254901960785"
      ]
     },
     "execution_count": 34,
     "metadata": {},
     "output_type": "execute_result"
    }
   ],
   "source": [
    "acc = len(majorPartDf[(majorPartDf[\"pred\"]  == majorPartDf[\"gt\"])]) / len(majorPartDf)\n",
    "acc"
   ]
  },
  {
   "cell_type": "code",
   "execution_count": 35,
   "metadata": {},
   "outputs": [
    {
     "name": "stdout",
     "output_type": "stream",
     "text": [
      "0.8637254901960784\n"
     ]
    }
   ],
   "source": [
    "allSubsetAcc = []\n",
    "for caseId in majorPartDf[\"CaseID\"].unique().tolist():\n",
    "    rows = majorPartDf[majorPartDf[\"CaseID\"] == caseId]\n",
    "    correct = rows[rows[\"pred\"] == rows[\"gt\"]]\n",
    "    subset_acc = len(correct) / len(rows)\n",
    "    allSubsetAcc.append(subset_acc)\n",
    "    \n",
    "    # print(subset_acc)\n",
    "print(np.mean(allSubsetAcc))"
   ]
  },
  {
   "cell_type": "code",
   "execution_count": 36,
   "metadata": {},
   "outputs": [],
   "source": [
    "caseStudyInspectDf.to_csv(\"./case_study_result.csv\")"
   ]
  }
 ],
 "metadata": {
  "kernelspec": {
   "display_name": "work",
   "language": "python",
   "name": "python3"
  },
  "language_info": {
   "codemirror_mode": {
    "name": "ipython",
    "version": 3
   },
   "file_extension": ".py",
   "mimetype": "text/x-python",
   "name": "python",
   "nbconvert_exporter": "python",
   "pygments_lexer": "ipython3",
   "version": "3.10.8"
  },
  "orig_nbformat": 4,
  "vscode": {
   "interpreter": {
    "hash": "0e8f33c5a67865e6aadcd232beb3e2644a1f224e780847feacdefa5e710f41d5"
   }
  }
 },
 "nbformat": 4,
 "nbformat_minor": 2
}
