{
 "cells": [
  {
   "cell_type": "code",
   "execution_count": 86,
   "metadata": {},
   "outputs": [],
   "source": [
    "import pandas as pd\n",
    "\n",
    "import numpy as np\n"
   ]
  },
  {
   "cell_type": "code",
   "execution_count": 87,
   "metadata": {},
   "outputs": [
    {
     "data": {
      "text/plain": [
       "['Unnamed: 0',\n",
       " 'CaseID',\n",
       " 'bonnet',\n",
       " 'bumper_front',\n",
       " 'door_front_rh',\n",
       " 'door_rear_rh',\n",
       " 'engine',\n",
       " 'fender_front_rh',\n",
       " 'front_panel',\n",
       " 'headlamp_rh',\n",
       " 'non_external',\n",
       " 'misc',\n",
       " 'wheel',\n",
       " 'windscreen_front',\n",
       " 'bumper_rear',\n",
       " 'rear_compartment',\n",
       " 'rear_panel',\n",
       " 'rear_quarter_rh',\n",
       " 'tail_lamp_rh',\n",
       " 'door_front_lh',\n",
       " 'door_rear_lh',\n",
       " 'rear_quarter_lh',\n",
       " 'tail_lamp_lh',\n",
       " 'fender_front_lh',\n",
       " 'headlamp_lh',\n",
       " 'grille']"
      ]
     },
     "execution_count": 87,
     "metadata": {},
     "output_type": "execute_result"
    }
   ],
   "source": [
    "predDf = pd.read_csv(\n",
    "    \"/home/alextay96/Desktop/all_workspace/new_workspace/DLDataPipeline/data/case_study/case_study_2/case_study_pred.csv\"\n",
    ")\n",
    "gtDf = pd.read_csv(\n",
    "    \"/home/alextay96/Desktop/all_workspace/new_workspace/DLDataPipeline/data/case_study/case_study_2/case_study_gt.csv\"\n",
    ")\n",
    "visionPredDf1 = pd.read_csv(\"/home/alextay96/Desktop/all_workspace/new_workspace/DLDataPipeline/data/results/saloon_focal_480_aug_2/Saloon - 4 Dr_imgs_pred_output.csv\")\n",
    "visionPredDf2 = pd.read_csv(\"//home/alextay96/Desktop/all_workspace/new_workspace/DLDataPipeline/data/results/hatchback_focal_480_aug/Hatchback - 5 Dr_imgs_pred_output.csv\")\n",
    "visionPredDf3 = pd.read_csv(\"/home/alextay96/Desktop/all_workspace/new_workspace/DLDataPipeline/data/results/suv_focal_480_aug/SUV - 5 Dr_imgs_pred_output.csv\")\n",
    "visionPredDf = pd.concat([visionPredDf1, visionPredDf2,visionPredDf3 ])\n",
    "majorParts = [x.replace(\"vision_\", \"\") for x in  visionPredDf.columns]\n",
    "majorParts"
   ]
  },
  {
   "cell_type": "code",
   "execution_count": 88,
   "metadata": {},
   "outputs": [
    {
     "data": {
      "text/plain": [
       "30"
      ]
     },
     "execution_count": 88,
     "metadata": {},
     "output_type": "execute_result"
    }
   ],
   "source": [
    "len(predDf)"
   ]
  },
  {
   "cell_type": "code",
   "execution_count": 89,
   "metadata": {},
   "outputs": [],
   "source": [
    "targetCols = [x for x in predDf.columns if \"0\" not in x and x != \"CaseID\"]\n",
    "allRows = []\n",
    "for c in targetCols:\n",
    "    for caseId in predDf[\"CaseID\"].unique().tolist():\n",
    "        visionPred = -1\n",
    "        if(c in majorParts):\n",
    "            visionPred = visionPredDf[visionPredDf[\"CaseID\"] == caseId][f\"vision_{c}\"].item()\n",
    "            \n",
    "\n",
    "        pred = predDf[predDf[\"CaseID\"] == caseId][c].item()\n",
    "        gt = gtDf[gtDf[\"CaseID\"] == caseId][c].item()\n",
    "        fp = 1 if gt == 0 and pred == 1 else 0\n",
    "        fn = 1 if gt == 1 and pred == 0 else 0\n",
    "        allRows.append(\n",
    "            {\n",
    "                \"CaseID\" : caseId,\n",
    "                \"part\" : c,\n",
    "                \"v_pred\":visionPred,\n",
    "                \"pred\" : pred,\n",
    "                \"gt\" : gt,\n",
    "                \"fp\" : fp, \n",
    "                \"fn\" : fn,\n",
    "                \"inspect\" : None,\n",
    "                \"remarks\" : None\n",
    "\n",
    "            }\n",
    "        )\n",
    "caseStudyInspectDf = pd.json_normalize(allRows)\n",
    "caseStudyInspectDf.sort_values(by = [\"CaseID\", \"part\"], inplace=True)"
   ]
  },
  {
   "cell_type": "code",
   "execution_count": 90,
   "metadata": {},
   "outputs": [
    {
     "data": {
      "text/html": [
       "<div>\n",
       "<style scoped>\n",
       "    .dataframe tbody tr th:only-of-type {\n",
       "        vertical-align: middle;\n",
       "    }\n",
       "\n",
       "    .dataframe tbody tr th {\n",
       "        vertical-align: top;\n",
       "    }\n",
       "\n",
       "    .dataframe thead th {\n",
       "        text-align: right;\n",
       "    }\n",
       "</style>\n",
       "<table border=\"1\" class=\"dataframe\">\n",
       "  <thead>\n",
       "    <tr style=\"text-align: right;\">\n",
       "      <th></th>\n",
       "      <th>CaseID</th>\n",
       "      <th>part</th>\n",
       "      <th>v_pred</th>\n",
       "      <th>pred</th>\n",
       "      <th>gt</th>\n",
       "      <th>fp</th>\n",
       "      <th>fn</th>\n",
       "      <th>inspect</th>\n",
       "      <th>remarks</th>\n",
       "    </tr>\n",
       "  </thead>\n",
       "  <tbody>\n",
       "    <tr>\n",
       "      <th>259</th>\n",
       "      <td>10053736</td>\n",
       "      <td>air_conditioning</td>\n",
       "      <td>-1</td>\n",
       "      <td>1</td>\n",
       "      <td>0</td>\n",
       "      <td>1</td>\n",
       "      <td>0</td>\n",
       "      <td>None</td>\n",
       "      <td>None</td>\n",
       "    </tr>\n",
       "    <tr>\n",
       "      <th>439</th>\n",
       "      <td>10053736</td>\n",
       "      <td>airbag</td>\n",
       "      <td>-1</td>\n",
       "      <td>1</td>\n",
       "      <td>0</td>\n",
       "      <td>1</td>\n",
       "      <td>0</td>\n",
       "      <td>None</td>\n",
       "      <td>None</td>\n",
       "    </tr>\n",
       "    <tr>\n",
       "      <th>19</th>\n",
       "      <td>10053736</td>\n",
       "      <td>bonnet</td>\n",
       "      <td>1</td>\n",
       "      <td>1</td>\n",
       "      <td>1</td>\n",
       "      <td>0</td>\n",
       "      <td>0</td>\n",
       "      <td>None</td>\n",
       "      <td>None</td>\n",
       "    </tr>\n",
       "    <tr>\n",
       "      <th>49</th>\n",
       "      <td>10053736</td>\n",
       "      <td>bumper_front</td>\n",
       "      <td>1</td>\n",
       "      <td>1</td>\n",
       "      <td>1</td>\n",
       "      <td>0</td>\n",
       "      <td>0</td>\n",
       "      <td>None</td>\n",
       "      <td>None</td>\n",
       "    </tr>\n",
       "    <tr>\n",
       "      <th>349</th>\n",
       "      <td>10053736</td>\n",
       "      <td>bumper_rear</td>\n",
       "      <td>1</td>\n",
       "      <td>1</td>\n",
       "      <td>0</td>\n",
       "      <td>1</td>\n",
       "      <td>0</td>\n",
       "      <td>None</td>\n",
       "      <td>None</td>\n",
       "    </tr>\n",
       "    <tr>\n",
       "      <th>...</th>\n",
       "      <td>...</td>\n",
       "      <td>...</td>\n",
       "      <td>...</td>\n",
       "      <td>...</td>\n",
       "      <td>...</td>\n",
       "      <td>...</td>\n",
       "      <td>...</td>\n",
       "      <td>...</td>\n",
       "      <td>...</td>\n",
       "    </tr>\n",
       "    <tr>\n",
       "      <th>752</th>\n",
       "      <td>13127647</td>\n",
       "      <td>tail_lamp_rh</td>\n",
       "      <td>0</td>\n",
       "      <td>0</td>\n",
       "      <td>0</td>\n",
       "      <td>0</td>\n",
       "      <td>0</td>\n",
       "      <td>None</td>\n",
       "      <td>None</td>\n",
       "    </tr>\n",
       "    <tr>\n",
       "      <th>482</th>\n",
       "      <td>13127647</td>\n",
       "      <td>undercarriage</td>\n",
       "      <td>-1</td>\n",
       "      <td>0</td>\n",
       "      <td>0</td>\n",
       "      <td>0</td>\n",
       "      <td>0</td>\n",
       "      <td>None</td>\n",
       "      <td>None</td>\n",
       "    </tr>\n",
       "    <tr>\n",
       "      <th>512</th>\n",
       "      <td>13127647</td>\n",
       "      <td>wheel</td>\n",
       "      <td>0</td>\n",
       "      <td>0</td>\n",
       "      <td>0</td>\n",
       "      <td>0</td>\n",
       "      <td>0</td>\n",
       "      <td>None</td>\n",
       "      <td>None</td>\n",
       "    </tr>\n",
       "    <tr>\n",
       "      <th>782</th>\n",
       "      <td>13127647</td>\n",
       "      <td>windscreen_front</td>\n",
       "      <td>0</td>\n",
       "      <td>0</td>\n",
       "      <td>0</td>\n",
       "      <td>0</td>\n",
       "      <td>0</td>\n",
       "      <td>None</td>\n",
       "      <td>None</td>\n",
       "    </tr>\n",
       "    <tr>\n",
       "      <th>992</th>\n",
       "      <td>13127647</td>\n",
       "      <td>windscreen_rear</td>\n",
       "      <td>-1</td>\n",
       "      <td>0</td>\n",
       "      <td>0</td>\n",
       "      <td>0</td>\n",
       "      <td>0</td>\n",
       "      <td>None</td>\n",
       "      <td>None</td>\n",
       "    </tr>\n",
       "  </tbody>\n",
       "</table>\n",
       "<p>1020 rows × 9 columns</p>\n",
       "</div>"
      ],
      "text/plain": [
       "       CaseID              part  v_pred  pred  gt  fp  fn inspect remarks\n",
       "259  10053736  air_conditioning      -1     1   0   1   0    None    None\n",
       "439  10053736            airbag      -1     1   0   1   0    None    None\n",
       "19   10053736            bonnet       1     1   1   0   0    None    None\n",
       "49   10053736      bumper_front       1     1   1   0   0    None    None\n",
       "349  10053736       bumper_rear       1     1   0   1   0    None    None\n",
       "..        ...               ...     ...   ...  ..  ..  ..     ...     ...\n",
       "752  13127647      tail_lamp_rh       0     0   0   0   0    None    None\n",
       "482  13127647     undercarriage      -1     0   0   0   0    None    None\n",
       "512  13127647             wheel       0     0   0   0   0    None    None\n",
       "782  13127647  windscreen_front       0     0   0   0   0    None    None\n",
       "992  13127647   windscreen_rear      -1     0   0   0   0    None    None\n",
       "\n",
       "[1020 rows x 9 columns]"
      ]
     },
     "execution_count": 90,
     "metadata": {},
     "output_type": "execute_result"
    }
   ],
   "source": [
    "caseStudyInspectDf"
   ]
  },
  {
   "cell_type": "code",
   "execution_count": 91,
   "metadata": {},
   "outputs": [
    {
     "data": {
      "text/plain": [
       "34"
      ]
     },
     "execution_count": 91,
     "metadata": {},
     "output_type": "execute_result"
    }
   ],
   "source": [
    "len(caseStudyInspectDf[\"part\"].unique())"
   ]
  },
  {
   "cell_type": "code",
   "execution_count": 92,
   "metadata": {},
   "outputs": [
    {
     "data": {
      "text/plain": [
       "750"
      ]
     },
     "execution_count": 92,
     "metadata": {},
     "output_type": "execute_result"
    }
   ],
   "source": [
    "majorParts = 25 * 30\n",
    "majorParts"
   ]
  },
  {
   "cell_type": "code",
   "execution_count": 93,
   "metadata": {},
   "outputs": [
    {
     "data": {
      "text/plain": [
       "0.20533333333333334"
      ]
     },
     "execution_count": 93,
     "metadata": {},
     "output_type": "execute_result"
    }
   ],
   "source": [
    "154 / majorParts"
   ]
  },
  {
   "cell_type": "code",
   "execution_count": 94,
   "metadata": {},
   "outputs": [
    {
     "data": {
      "text/html": [
       "<div>\n",
       "<style scoped>\n",
       "    .dataframe tbody tr th:only-of-type {\n",
       "        vertical-align: middle;\n",
       "    }\n",
       "\n",
       "    .dataframe tbody tr th {\n",
       "        vertical-align: top;\n",
       "    }\n",
       "\n",
       "    .dataframe thead th {\n",
       "        text-align: right;\n",
       "    }\n",
       "</style>\n",
       "<table border=\"1\" class=\"dataframe\">\n",
       "  <thead>\n",
       "    <tr style=\"text-align: right;\">\n",
       "      <th></th>\n",
       "      <th>CaseID</th>\n",
       "      <th>part</th>\n",
       "      <th>v_pred</th>\n",
       "      <th>pred</th>\n",
       "      <th>gt</th>\n",
       "      <th>fp</th>\n",
       "      <th>fn</th>\n",
       "      <th>inspect</th>\n",
       "      <th>remarks</th>\n",
       "    </tr>\n",
       "  </thead>\n",
       "  <tbody>\n",
       "    <tr>\n",
       "      <th>349</th>\n",
       "      <td>10053736</td>\n",
       "      <td>bumper_rear</td>\n",
       "      <td>1</td>\n",
       "      <td>1</td>\n",
       "      <td>0</td>\n",
       "      <td>1</td>\n",
       "      <td>0</td>\n",
       "      <td>None</td>\n",
       "      <td>None</td>\n",
       "    </tr>\n",
       "    <tr>\n",
       "      <th>409</th>\n",
       "      <td>10053736</td>\n",
       "      <td>engine</td>\n",
       "      <td>1</td>\n",
       "      <td>1</td>\n",
       "      <td>0</td>\n",
       "      <td>1</td>\n",
       "      <td>0</td>\n",
       "      <td>None</td>\n",
       "      <td>None</td>\n",
       "    </tr>\n",
       "    <tr>\n",
       "      <th>559</th>\n",
       "      <td>10053736</td>\n",
       "      <td>fender_front_lh</td>\n",
       "      <td>1</td>\n",
       "      <td>1</td>\n",
       "      <td>0</td>\n",
       "      <td>1</td>\n",
       "      <td>0</td>\n",
       "      <td>None</td>\n",
       "      <td>None</td>\n",
       "    </tr>\n",
       "    <tr>\n",
       "      <th>139</th>\n",
       "      <td>10053736</td>\n",
       "      <td>headlamp_lh</td>\n",
       "      <td>1</td>\n",
       "      <td>1</td>\n",
       "      <td>0</td>\n",
       "      <td>1</td>\n",
       "      <td>0</td>\n",
       "      <td>None</td>\n",
       "      <td>None</td>\n",
       "    </tr>\n",
       "    <tr>\n",
       "      <th>379</th>\n",
       "      <td>10053736</td>\n",
       "      <td>misc</td>\n",
       "      <td>1</td>\n",
       "      <td>1</td>\n",
       "      <td>0</td>\n",
       "      <td>1</td>\n",
       "      <td>0</td>\n",
       "      <td>None</td>\n",
       "      <td>None</td>\n",
       "    </tr>\n",
       "    <tr>\n",
       "      <th>...</th>\n",
       "      <td>...</td>\n",
       "      <td>...</td>\n",
       "      <td>...</td>\n",
       "      <td>...</td>\n",
       "      <td>...</td>\n",
       "      <td>...</td>\n",
       "      <td>...</td>\n",
       "      <td>...</td>\n",
       "      <td>...</td>\n",
       "    </tr>\n",
       "    <tr>\n",
       "      <th>381</th>\n",
       "      <td>13045105</td>\n",
       "      <td>misc</td>\n",
       "      <td>1</td>\n",
       "      <td>1</td>\n",
       "      <td>0</td>\n",
       "      <td>1</td>\n",
       "      <td>0</td>\n",
       "      <td>None</td>\n",
       "      <td>None</td>\n",
       "    </tr>\n",
       "    <tr>\n",
       "      <th>32</th>\n",
       "      <td>13127647</td>\n",
       "      <td>bumper_front</td>\n",
       "      <td>1</td>\n",
       "      <td>1</td>\n",
       "      <td>0</td>\n",
       "      <td>1</td>\n",
       "      <td>0</td>\n",
       "      <td>None</td>\n",
       "      <td>None</td>\n",
       "    </tr>\n",
       "    <tr>\n",
       "      <th>332</th>\n",
       "      <td>13127647</td>\n",
       "      <td>bumper_rear</td>\n",
       "      <td>1</td>\n",
       "      <td>1</td>\n",
       "      <td>0</td>\n",
       "      <td>1</td>\n",
       "      <td>0</td>\n",
       "      <td>None</td>\n",
       "      <td>None</td>\n",
       "    </tr>\n",
       "    <tr>\n",
       "      <th>182</th>\n",
       "      <td>13127647</td>\n",
       "      <td>door_front_lh</td>\n",
       "      <td>1</td>\n",
       "      <td>1</td>\n",
       "      <td>0</td>\n",
       "      <td>1</td>\n",
       "      <td>0</td>\n",
       "      <td>None</td>\n",
       "      <td>None</td>\n",
       "    </tr>\n",
       "    <tr>\n",
       "      <th>392</th>\n",
       "      <td>13127647</td>\n",
       "      <td>engine</td>\n",
       "      <td>1</td>\n",
       "      <td>1</td>\n",
       "      <td>0</td>\n",
       "      <td>1</td>\n",
       "      <td>0</td>\n",
       "      <td>None</td>\n",
       "      <td>None</td>\n",
       "    </tr>\n",
       "  </tbody>\n",
       "</table>\n",
       "<p>117 rows × 9 columns</p>\n",
       "</div>"
      ],
      "text/plain": [
       "       CaseID             part  v_pred  pred  gt  fp  fn inspect remarks\n",
       "349  10053736      bumper_rear       1     1   0   1   0    None    None\n",
       "409  10053736           engine       1     1   0   1   0    None    None\n",
       "559  10053736  fender_front_lh       1     1   0   1   0    None    None\n",
       "139  10053736      headlamp_lh       1     1   0   1   0    None    None\n",
       "379  10053736             misc       1     1   0   1   0    None    None\n",
       "..        ...              ...     ...   ...  ..  ..  ..     ...     ...\n",
       "381  13045105             misc       1     1   0   1   0    None    None\n",
       "32   13127647     bumper_front       1     1   0   1   0    None    None\n",
       "332  13127647      bumper_rear       1     1   0   1   0    None    None\n",
       "182  13127647    door_front_lh       1     1   0   1   0    None    None\n",
       "392  13127647           engine       1     1   0   1   0    None    None\n",
       "\n",
       "[117 rows x 9 columns]"
      ]
     },
     "execution_count": 94,
     "metadata": {},
     "output_type": "execute_result"
    }
   ],
   "source": [
    "caseStudyWrong = caseStudyInspectDf[(caseStudyInspectDf[\"pred\"] !=caseStudyInspectDf[\"gt\"] )\n",
    "                                    & (caseStudyInspectDf[\"v_pred\"] != -1)\n",
    "                                    \n",
    "                                    ]\n",
    "caseStudyWrong"
   ]
  },
  {
   "cell_type": "code",
   "execution_count": null,
   "metadata": {},
   "outputs": [],
   "source": []
  },
  {
   "cell_type": "code",
   "execution_count": 95,
   "metadata": {},
   "outputs": [
    {
     "data": {
      "text/plain": [
       "0.11470588235294117"
      ]
     },
     "execution_count": 95,
     "metadata": {},
     "output_type": "execute_result"
    }
   ],
   "source": [
    "len(caseStudyWrong) / len(caseStudyInspectDf)"
   ]
  },
  {
   "cell_type": "code",
   "execution_count": 96,
   "metadata": {},
   "outputs": [
    {
     "data": {
      "text/html": [
       "<div>\n",
       "<style scoped>\n",
       "    .dataframe tbody tr th:only-of-type {\n",
       "        vertical-align: middle;\n",
       "    }\n",
       "\n",
       "    .dataframe tbody tr th {\n",
       "        vertical-align: top;\n",
       "    }\n",
       "\n",
       "    .dataframe thead th {\n",
       "        text-align: right;\n",
       "    }\n",
       "</style>\n",
       "<table border=\"1\" class=\"dataframe\">\n",
       "  <thead>\n",
       "    <tr style=\"text-align: right;\">\n",
       "      <th></th>\n",
       "      <th>CaseID</th>\n",
       "      <th>part</th>\n",
       "      <th>v_pred</th>\n",
       "      <th>pred</th>\n",
       "      <th>gt</th>\n",
       "      <th>fp</th>\n",
       "      <th>fn</th>\n",
       "      <th>inspect</th>\n",
       "      <th>remarks</th>\n",
       "    </tr>\n",
       "  </thead>\n",
       "  <tbody>\n",
       "    <tr>\n",
       "      <th>159</th>\n",
       "      <td>10231429</td>\n",
       "      <td>headlamp_rh</td>\n",
       "      <td>1</td>\n",
       "      <td>0</td>\n",
       "      <td>0</td>\n",
       "      <td>0</td>\n",
       "      <td>0</td>\n",
       "      <td>None</td>\n",
       "      <td>None</td>\n",
       "    </tr>\n",
       "  </tbody>\n",
       "</table>\n",
       "</div>"
      ],
      "text/plain": [
       "       CaseID         part  v_pred  pred  gt  fp  fn inspect remarks\n",
       "159  10231429  headlamp_rh       1     0   0   0   0    None    None"
      ]
     },
     "execution_count": 96,
     "metadata": {},
     "output_type": "execute_result"
    }
   ],
   "source": [
    "\n",
    "caseStudyWrongVis = caseStudyInspectDf[(caseStudyInspectDf[\"pred\"] !=caseStudyInspectDf[\"v_pred\"]) & (caseStudyInspectDf[\"v_pred\"] != -1) ]\n",
    "caseStudyWrongVis"
   ]
  },
  {
   "cell_type": "code",
   "execution_count": 97,
   "metadata": {},
   "outputs": [],
   "source": [
    "# majorPartDf = caseStudyInspectDf[caseStudyInspectDf[\"v_pred\"] != - 1]\n",
    "majorPartDf = caseStudyInspectDf"
   ]
  },
  {
   "cell_type": "code",
   "execution_count": 98,
   "metadata": {},
   "outputs": [
    {
     "data": {
      "text/plain": [
       "array(['air_conditioning', 'airbag', 'bonnet', 'bumper_front',\n",
       "       'bumper_rear', 'cooling_fan', 'door_front_lh', 'door_front_rh',\n",
       "       'door_mirror_lh', 'door_mirror_rh', 'door_rear_lh', 'door_rear_rh',\n",
       "       'engine', 'fender_front_lh', 'fender_front_rh', 'fog_lamp_lh',\n",
       "       'fog_lamp_rh', 'front_panel', 'grille', 'headlamp_lh',\n",
       "       'headlamp_rh', 'interior', 'misc', 'radiator', 'rear_compartment',\n",
       "       'rear_panel', 'rear_quarter_lh', 'rear_quarter_rh', 'tail_lamp_lh',\n",
       "       'tail_lamp_rh', 'undercarriage', 'wheel', 'windscreen_front',\n",
       "       'windscreen_rear'], dtype=object)"
      ]
     },
     "execution_count": 98,
     "metadata": {},
     "output_type": "execute_result"
    }
   ],
   "source": [
    "majorPartDf[\"part\"].unique()"
   ]
  },
  {
   "cell_type": "code",
   "execution_count": 99,
   "metadata": {},
   "outputs": [
    {
     "data": {
      "text/plain": [
       "0.17490952955367914"
      ]
     },
     "execution_count": 99,
     "metadata": {},
     "output_type": "execute_result"
    }
   ],
   "source": [
    "fpr = len(majorPartDf[(majorPartDf[\"pred\"]  == 1) & (majorPartDf[\"gt\"]  == 0) ]) / len(majorPartDf[ (majorPartDf[\"gt\"]  == 0)])\n",
    "fpr"
   ]
  },
  {
   "cell_type": "code",
   "execution_count": 100,
   "metadata": {},
   "outputs": [
    {
     "data": {
      "text/plain": [
       "0.2356020942408377"
      ]
     },
     "execution_count": 100,
     "metadata": {},
     "output_type": "execute_result"
    }
   ],
   "source": [
    "fnr = len(majorPartDf[(majorPartDf[\"pred\"]  == 0) & (majorPartDf[\"gt\"]  == 1) ]) / len(majorPartDf[ (majorPartDf[\"gt\"]  == 1)])\n",
    "fnr"
   ]
  },
  {
   "cell_type": "code",
   "execution_count": 101,
   "metadata": {},
   "outputs": [
    {
     "data": {
      "text/plain": [
       "0.8137254901960784"
      ]
     },
     "execution_count": 101,
     "metadata": {},
     "output_type": "execute_result"
    }
   ],
   "source": [
    "acc = len(majorPartDf[(majorPartDf[\"pred\"]  == majorPartDf[\"gt\"])]) / len(majorPartDf)\n",
    "acc"
   ]
  },
  {
   "cell_type": "code",
   "execution_count": 102,
   "metadata": {},
   "outputs": [
    {
     "name": "stdout",
     "output_type": "stream",
     "text": [
      "0.8137254901960784\n"
     ]
    }
   ],
   "source": [
    "allSubsetAcc = []\n",
    "for caseId in majorPartDf[\"CaseID\"].unique().tolist():\n",
    "    rows = majorPartDf[majorPartDf[\"CaseID\"] == caseId]\n",
    "    correct = rows[rows[\"pred\"] == rows[\"gt\"]]\n",
    "    subset_acc = len(correct) / len(rows)\n",
    "    allSubsetAcc.append(subset_acc)\n",
    "    \n",
    "    # print(subset_acc)\n",
    "print(np.mean(allSubsetAcc))"
   ]
  },
  {
   "cell_type": "code",
   "execution_count": 103,
   "metadata": {},
   "outputs": [],
   "source": [
    "caseStudyInspectDf.to_csv(\"./case_study_result.csv\")"
   ]
  }
 ],
 "metadata": {
  "kernelspec": {
   "display_name": "work",
   "language": "python",
   "name": "python3"
  },
  "language_info": {
   "codemirror_mode": {
    "name": "ipython",
    "version": 3
   },
   "file_extension": ".py",
   "mimetype": "text/x-python",
   "name": "python",
   "nbconvert_exporter": "python",
   "pygments_lexer": "ipython3",
   "version": "3.10.8"
  },
  "orig_nbformat": 4,
  "vscode": {
   "interpreter": {
    "hash": "0e8f33c5a67865e6aadcd232beb3e2644a1f224e780847feacdefa5e710f41d5"
   }
  }
 },
 "nbformat": 4,
 "nbformat_minor": 2
}
