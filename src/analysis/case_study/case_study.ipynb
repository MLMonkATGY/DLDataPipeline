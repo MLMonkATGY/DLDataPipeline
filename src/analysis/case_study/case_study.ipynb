{
 "cells": [
  {
   "cell_type": "code",
   "execution_count": 178,
   "metadata": {},
   "outputs": [],
   "source": [
    "import pandas as pd\n",
    "\n",
    "import numpy as np\n"
   ]
  },
  {
   "cell_type": "code",
   "execution_count": 179,
   "metadata": {},
   "outputs": [
    {
     "data": {
      "text/plain": [
       "['Unnamed: 0',\n",
       " 'CaseID',\n",
       " 'bonnet',\n",
       " 'bumper_front',\n",
       " 'door_front_lh',\n",
       " 'door_rear_lh',\n",
       " 'engine',\n",
       " 'fender_front_lh',\n",
       " 'front_panel',\n",
       " 'headlamp_lh',\n",
       " 'non_external',\n",
       " 'misc',\n",
       " 'wheel',\n",
       " 'windscreen_front',\n",
       " 'bumper_rear',\n",
       " 'door_front_rh',\n",
       " 'door_rear_rh',\n",
       " 'rear_compartment',\n",
       " 'rear_panel',\n",
       " 'rear_quarter_rh',\n",
       " 'tail_lamp_rh',\n",
       " 'fender_front_rh',\n",
       " 'headlamp_rh',\n",
       " 'rear_quarter_lh',\n",
       " 'tail_lamp_lh',\n",
       " 'grille']"
      ]
     },
     "execution_count": 179,
     "metadata": {},
     "output_type": "execute_result"
    }
   ],
   "source": [
    "predDf = pd.read_csv(\n",
    "    \"/home/alextay96/Desktop/new_workspace/DLDataPipeline/data/case_study/case_study_pred.csv\"\n",
    ")\n",
    "gtDf = pd.read_csv(\n",
    "    \"/home/alextay96/Desktop/new_workspace/DLDataPipeline/data/case_study/case_study_gt.csv\"\n",
    ")\n",
    "visionPredDf1 = pd.read_csv(\"/home/alextay96/Desktop/new_workspace/DLDataPipeline/data/results/saloon_v2/Saloon - 4 Dr_imgs_pred_output.csv\")\n",
    "visionPredDf2 = pd.read_csv(\"/home/alextay96/Desktop/new_workspace/DLDataPipeline/data/results/hatchback_v2/Hatchback - 5 Dr_imgs_pred_output.csv\")\n",
    "visionPredDf3 = pd.read_csv(\"/home/alextay96/Desktop/new_workspace/DLDataPipeline/data/results/suv_v2/SUV - 5 Dr_imgs_pred_output.csv\")\n",
    "visionPredDf = pd.concat([visionPredDf1, visionPredDf2,visionPredDf3 ])\n",
    "majorParts = [x.replace(\"vision_\", \"\") for x in  visionPredDf.columns]\n",
    "majorParts"
   ]
  },
  {
   "cell_type": "code",
   "execution_count": 180,
   "metadata": {},
   "outputs": [
    {
     "data": {
      "text/plain": [
       "26"
      ]
     },
     "execution_count": 180,
     "metadata": {},
     "output_type": "execute_result"
    }
   ],
   "source": [
    "len(predDf)"
   ]
  },
  {
   "cell_type": "code",
   "execution_count": 181,
   "metadata": {},
   "outputs": [],
   "source": [
    "targetCols = [x for x in predDf.columns if \"0\" not in x and x != \"CaseID\"]\n",
    "allRows = []\n",
    "for c in targetCols:\n",
    "    for caseId in predDf[\"CaseID\"].unique().tolist():\n",
    "        visionPred = -1\n",
    "        if(c in majorParts):\n",
    "            visionPred = visionPredDf[visionPredDf[\"CaseID\"] == caseId][f\"vision_{c}\"].item()\n",
    "            \n",
    "\n",
    "        pred = predDf[predDf[\"CaseID\"] == caseId][c].item()\n",
    "        gt = gtDf[gtDf[\"CaseID\"] == caseId][c].item()\n",
    "        allRows.append(\n",
    "            {\n",
    "                \"CaseID\" : caseId,\n",
    "                \"part\" : c,\n",
    "                \"v_pred\":visionPred,\n",
    "                \"pred\" : pred,\n",
    "                \"gt\" : gt,\n",
    "                \n",
    "                \"inspect\" : None,\n",
    "\n",
    "            }\n",
    "        )\n",
    "caseStudyInspectDf = pd.json_normalize(allRows)\n",
    "caseStudyInspectDf.sort_values(by = [\"CaseID\", \"part\"], inplace=True)"
   ]
  },
  {
   "cell_type": "code",
   "execution_count": 182,
   "metadata": {},
   "outputs": [
    {
     "data": {
      "text/html": [
       "<div>\n",
       "<style scoped>\n",
       "    .dataframe tbody tr th:only-of-type {\n",
       "        vertical-align: middle;\n",
       "    }\n",
       "\n",
       "    .dataframe tbody tr th {\n",
       "        vertical-align: top;\n",
       "    }\n",
       "\n",
       "    .dataframe thead th {\n",
       "        text-align: right;\n",
       "    }\n",
       "</style>\n",
       "<table border=\"1\" class=\"dataframe\">\n",
       "  <thead>\n",
       "    <tr style=\"text-align: right;\">\n",
       "      <th></th>\n",
       "      <th>CaseID</th>\n",
       "      <th>part</th>\n",
       "      <th>v_pred</th>\n",
       "      <th>pred</th>\n",
       "      <th>gt</th>\n",
       "      <th>inspect</th>\n",
       "    </tr>\n",
       "  </thead>\n",
       "  <tbody>\n",
       "    <tr>\n",
       "      <th>269</th>\n",
       "      <td>10019013</td>\n",
       "      <td>air_conditioning</td>\n",
       "      <td>-1</td>\n",
       "      <td>1</td>\n",
       "      <td>1</td>\n",
       "      <td>None</td>\n",
       "    </tr>\n",
       "    <tr>\n",
       "      <th>449</th>\n",
       "      <td>10019013</td>\n",
       "      <td>airbag</td>\n",
       "      <td>-1</td>\n",
       "      <td>0</td>\n",
       "      <td>0</td>\n",
       "      <td>None</td>\n",
       "    </tr>\n",
       "    <tr>\n",
       "      <th>29</th>\n",
       "      <td>10019013</td>\n",
       "      <td>bonnet</td>\n",
       "      <td>1</td>\n",
       "      <td>1</td>\n",
       "      <td>1</td>\n",
       "      <td>None</td>\n",
       "    </tr>\n",
       "    <tr>\n",
       "      <th>59</th>\n",
       "      <td>10019013</td>\n",
       "      <td>bumper_front</td>\n",
       "      <td>1</td>\n",
       "      <td>1</td>\n",
       "      <td>1</td>\n",
       "      <td>None</td>\n",
       "    </tr>\n",
       "    <tr>\n",
       "      <th>359</th>\n",
       "      <td>10019013</td>\n",
       "      <td>bumper_rear</td>\n",
       "      <td>1</td>\n",
       "      <td>1</td>\n",
       "      <td>0</td>\n",
       "      <td>None</td>\n",
       "    </tr>\n",
       "    <tr>\n",
       "      <th>...</th>\n",
       "      <td>...</td>\n",
       "      <td>...</td>\n",
       "      <td>...</td>\n",
       "      <td>...</td>\n",
       "      <td>...</td>\n",
       "      <td>...</td>\n",
       "    </tr>\n",
       "    <tr>\n",
       "      <th>774</th>\n",
       "      <td>13278125</td>\n",
       "      <td>tail_lamp_rh</td>\n",
       "      <td>0</td>\n",
       "      <td>0</td>\n",
       "      <td>0</td>\n",
       "      <td>None</td>\n",
       "    </tr>\n",
       "    <tr>\n",
       "      <th>504</th>\n",
       "      <td>13278125</td>\n",
       "      <td>undercarriage</td>\n",
       "      <td>-1</td>\n",
       "      <td>0</td>\n",
       "      <td>0</td>\n",
       "      <td>None</td>\n",
       "    </tr>\n",
       "    <tr>\n",
       "      <th>534</th>\n",
       "      <td>13278125</td>\n",
       "      <td>wheel</td>\n",
       "      <td>0</td>\n",
       "      <td>0</td>\n",
       "      <td>0</td>\n",
       "      <td>None</td>\n",
       "    </tr>\n",
       "    <tr>\n",
       "      <th>804</th>\n",
       "      <td>13278125</td>\n",
       "      <td>windscreen_front</td>\n",
       "      <td>0</td>\n",
       "      <td>0</td>\n",
       "      <td>0</td>\n",
       "      <td>None</td>\n",
       "    </tr>\n",
       "    <tr>\n",
       "      <th>1014</th>\n",
       "      <td>13278125</td>\n",
       "      <td>windscreen_rear</td>\n",
       "      <td>-1</td>\n",
       "      <td>0</td>\n",
       "      <td>0</td>\n",
       "      <td>None</td>\n",
       "    </tr>\n",
       "  </tbody>\n",
       "</table>\n",
       "<p>1020 rows × 6 columns</p>\n",
       "</div>"
      ],
      "text/plain": [
       "        CaseID              part  v_pred  pred  gt inspect\n",
       "269   10019013  air_conditioning      -1     1   1    None\n",
       "449   10019013            airbag      -1     0   0    None\n",
       "29    10019013            bonnet       1     1   1    None\n",
       "59    10019013      bumper_front       1     1   1    None\n",
       "359   10019013       bumper_rear       1     1   0    None\n",
       "...        ...               ...     ...   ...  ..     ...\n",
       "774   13278125      tail_lamp_rh       0     0   0    None\n",
       "504   13278125     undercarriage      -1     0   0    None\n",
       "534   13278125             wheel       0     0   0    None\n",
       "804   13278125  windscreen_front       0     0   0    None\n",
       "1014  13278125   windscreen_rear      -1     0   0    None\n",
       "\n",
       "[1020 rows x 6 columns]"
      ]
     },
     "execution_count": 182,
     "metadata": {},
     "output_type": "execute_result"
    }
   ],
   "source": [
    "caseStudyInspectDf"
   ]
  },
  {
   "cell_type": "code",
   "execution_count": 183,
   "metadata": {},
   "outputs": [
    {
     "data": {
      "text/plain": [
       "34"
      ]
     },
     "execution_count": 183,
     "metadata": {},
     "output_type": "execute_result"
    }
   ],
   "source": [
    "len(caseStudyInspectDf[\"part\"].unique())"
   ]
  },
  {
   "cell_type": "code",
   "execution_count": 184,
   "metadata": {},
   "outputs": [
    {
     "data": {
      "text/plain": [
       "750"
      ]
     },
     "execution_count": 184,
     "metadata": {},
     "output_type": "execute_result"
    }
   ],
   "source": [
    "majorParts = 25 * 30\n",
    "majorParts"
   ]
  },
  {
   "cell_type": "code",
   "execution_count": 185,
   "metadata": {},
   "outputs": [
    {
     "data": {
      "text/plain": [
       "0.20533333333333334"
      ]
     },
     "execution_count": 185,
     "metadata": {},
     "output_type": "execute_result"
    }
   ],
   "source": [
    "154 / majorParts"
   ]
  },
  {
   "cell_type": "code",
   "execution_count": 186,
   "metadata": {},
   "outputs": [
    {
     "data": {
      "text/html": [
       "<div>\n",
       "<style scoped>\n",
       "    .dataframe tbody tr th:only-of-type {\n",
       "        vertical-align: middle;\n",
       "    }\n",
       "\n",
       "    .dataframe tbody tr th {\n",
       "        vertical-align: top;\n",
       "    }\n",
       "\n",
       "    .dataframe thead th {\n",
       "        text-align: right;\n",
       "    }\n",
       "</style>\n",
       "<table border=\"1\" class=\"dataframe\">\n",
       "  <thead>\n",
       "    <tr style=\"text-align: right;\">\n",
       "      <th></th>\n",
       "      <th>CaseID</th>\n",
       "      <th>part</th>\n",
       "      <th>v_pred</th>\n",
       "      <th>pred</th>\n",
       "      <th>gt</th>\n",
       "      <th>inspect</th>\n",
       "    </tr>\n",
       "  </thead>\n",
       "  <tbody>\n",
       "    <tr>\n",
       "      <th>359</th>\n",
       "      <td>10019013</td>\n",
       "      <td>bumper_rear</td>\n",
       "      <td>1</td>\n",
       "      <td>1</td>\n",
       "      <td>0</td>\n",
       "      <td>None</td>\n",
       "    </tr>\n",
       "    <tr>\n",
       "      <th>419</th>\n",
       "      <td>10019013</td>\n",
       "      <td>engine</td>\n",
       "      <td>1</td>\n",
       "      <td>1</td>\n",
       "      <td>0</td>\n",
       "      <td>None</td>\n",
       "    </tr>\n",
       "    <tr>\n",
       "      <th>569</th>\n",
       "      <td>10019013</td>\n",
       "      <td>fender_front_lh</td>\n",
       "      <td>0</td>\n",
       "      <td>0</td>\n",
       "      <td>1</td>\n",
       "      <td>None</td>\n",
       "    </tr>\n",
       "    <tr>\n",
       "      <th>89</th>\n",
       "      <td>10019013</td>\n",
       "      <td>grille</td>\n",
       "      <td>0</td>\n",
       "      <td>0</td>\n",
       "      <td>1</td>\n",
       "      <td>None</td>\n",
       "    </tr>\n",
       "    <tr>\n",
       "      <th>389</th>\n",
       "      <td>10019013</td>\n",
       "      <td>misc</td>\n",
       "      <td>1</td>\n",
       "      <td>1</td>\n",
       "      <td>0</td>\n",
       "      <td>None</td>\n",
       "    </tr>\n",
       "    <tr>\n",
       "      <th>...</th>\n",
       "      <td>...</td>\n",
       "      <td>...</td>\n",
       "      <td>...</td>\n",
       "      <td>...</td>\n",
       "      <td>...</td>\n",
       "      <td>...</td>\n",
       "    </tr>\n",
       "    <tr>\n",
       "      <th>234</th>\n",
       "      <td>13278125</td>\n",
       "      <td>door_front_rh</td>\n",
       "      <td>0</td>\n",
       "      <td>0</td>\n",
       "      <td>1</td>\n",
       "      <td>None</td>\n",
       "    </tr>\n",
       "    <tr>\n",
       "      <th>414</th>\n",
       "      <td>13278125</td>\n",
       "      <td>engine</td>\n",
       "      <td>1</td>\n",
       "      <td>1</td>\n",
       "      <td>0</td>\n",
       "      <td>None</td>\n",
       "    </tr>\n",
       "    <tr>\n",
       "      <th>594</th>\n",
       "      <td>13278125</td>\n",
       "      <td>fender_front_rh</td>\n",
       "      <td>0</td>\n",
       "      <td>0</td>\n",
       "      <td>1</td>\n",
       "      <td>None</td>\n",
       "    </tr>\n",
       "    <tr>\n",
       "      <th>84</th>\n",
       "      <td>13278125</td>\n",
       "      <td>grille</td>\n",
       "      <td>0</td>\n",
       "      <td>0</td>\n",
       "      <td>1</td>\n",
       "      <td>None</td>\n",
       "    </tr>\n",
       "    <tr>\n",
       "      <th>384</th>\n",
       "      <td>13278125</td>\n",
       "      <td>misc</td>\n",
       "      <td>1</td>\n",
       "      <td>1</td>\n",
       "      <td>0</td>\n",
       "      <td>None</td>\n",
       "    </tr>\n",
       "  </tbody>\n",
       "</table>\n",
       "<p>154 rows × 6 columns</p>\n",
       "</div>"
      ],
      "text/plain": [
       "       CaseID             part  v_pred  pred  gt inspect\n",
       "359  10019013      bumper_rear       1     1   0    None\n",
       "419  10019013           engine       1     1   0    None\n",
       "569  10019013  fender_front_lh       0     0   1    None\n",
       "89   10019013           grille       0     0   1    None\n",
       "389  10019013             misc       1     1   0    None\n",
       "..        ...              ...     ...   ...  ..     ...\n",
       "234  13278125    door_front_rh       0     0   1    None\n",
       "414  13278125           engine       1     1   0    None\n",
       "594  13278125  fender_front_rh       0     0   1    None\n",
       "84   13278125           grille       0     0   1    None\n",
       "384  13278125             misc       1     1   0    None\n",
       "\n",
       "[154 rows x 6 columns]"
      ]
     },
     "execution_count": 186,
     "metadata": {},
     "output_type": "execute_result"
    }
   ],
   "source": [
    "caseStudyWrong = caseStudyInspectDf[(caseStudyInspectDf[\"pred\"] !=caseStudyInspectDf[\"gt\"] )\n",
    "                                    & (caseStudyInspectDf[\"v_pred\"] != -1)\n",
    "                                    \n",
    "                                    ]\n",
    "caseStudyWrong"
   ]
  },
  {
   "cell_type": "code",
   "execution_count": null,
   "metadata": {},
   "outputs": [],
   "source": []
  },
  {
   "cell_type": "code",
   "execution_count": 187,
   "metadata": {},
   "outputs": [
    {
     "data": {
      "text/plain": [
       "0.15098039215686274"
      ]
     },
     "execution_count": 187,
     "metadata": {},
     "output_type": "execute_result"
    }
   ],
   "source": [
    "len(caseStudyWrong) / len(caseStudyInspectDf)"
   ]
  },
  {
   "cell_type": "code",
   "execution_count": 188,
   "metadata": {},
   "outputs": [
    {
     "data": {
      "text/html": [
       "<div>\n",
       "<style scoped>\n",
       "    .dataframe tbody tr th:only-of-type {\n",
       "        vertical-align: middle;\n",
       "    }\n",
       "\n",
       "    .dataframe tbody tr th {\n",
       "        vertical-align: top;\n",
       "    }\n",
       "\n",
       "    .dataframe thead th {\n",
       "        text-align: right;\n",
       "    }\n",
       "</style>\n",
       "<table border=\"1\" class=\"dataframe\">\n",
       "  <thead>\n",
       "    <tr style=\"text-align: right;\">\n",
       "      <th></th>\n",
       "      <th>CaseID</th>\n",
       "      <th>part</th>\n",
       "      <th>v_pred</th>\n",
       "      <th>pred</th>\n",
       "      <th>gt</th>\n",
       "      <th>inspect</th>\n",
       "    </tr>\n",
       "  </thead>\n",
       "  <tbody>\n",
       "    <tr>\n",
       "      <th>413</th>\n",
       "      <td>10281260</td>\n",
       "      <td>engine</td>\n",
       "      <td>1</td>\n",
       "      <td>0</td>\n",
       "      <td>0</td>\n",
       "      <td>None</td>\n",
       "    </tr>\n",
       "  </tbody>\n",
       "</table>\n",
       "</div>"
      ],
      "text/plain": [
       "       CaseID    part  v_pred  pred  gt inspect\n",
       "413  10281260  engine       1     0   0    None"
      ]
     },
     "execution_count": 188,
     "metadata": {},
     "output_type": "execute_result"
    }
   ],
   "source": [
    "\n",
    "caseStudyWrongVis = caseStudyInspectDf[(caseStudyInspectDf[\"pred\"] !=caseStudyInspectDf[\"v_pred\"]) & (caseStudyInspectDf[\"v_pred\"] != -1) ]\n",
    "caseStudyWrongVis"
   ]
  },
  {
   "cell_type": "code",
   "execution_count": 203,
   "metadata": {},
   "outputs": [],
   "source": [
    "# majorPartDf = caseStudyInspectDf[caseStudyInspectDf[\"v_pred\"] != - 1]\n",
    "majorPartDf = caseStudyInspectDf"
   ]
  },
  {
   "cell_type": "code",
   "execution_count": 204,
   "metadata": {},
   "outputs": [
    {
     "data": {
      "text/plain": [
       "array(['air_conditioning', 'airbag', 'bonnet', 'bumper_front',\n",
       "       'bumper_rear', 'cooling_fan', 'door_front_lh', 'door_front_rh',\n",
       "       'door_mirror_lh', 'door_mirror_rh', 'door_rear_lh', 'door_rear_rh',\n",
       "       'engine', 'fender_front_lh', 'fender_front_rh', 'fog_lamp_lh',\n",
       "       'fog_lamp_rh', 'front_panel', 'grille', 'headlamp_lh',\n",
       "       'headlamp_rh', 'interior', 'misc', 'radiator', 'rear_compartment',\n",
       "       'rear_panel', 'rear_quarter_lh', 'rear_quarter_rh', 'tail_lamp_lh',\n",
       "       'tail_lamp_rh', 'undercarriage', 'wheel', 'windscreen_front',\n",
       "       'windscreen_rear'], dtype=object)"
      ]
     },
     "execution_count": 204,
     "metadata": {},
     "output_type": "execute_result"
    }
   ],
   "source": [
    "majorPartDf[\"part\"].unique()"
   ]
  },
  {
   "cell_type": "code",
   "execution_count": 205,
   "metadata": {},
   "outputs": [
    {
     "data": {
      "text/plain": [
       "0.30828025477707005"
      ]
     },
     "execution_count": 205,
     "metadata": {},
     "output_type": "execute_result"
    }
   ],
   "source": [
    "fpr = len(majorPartDf[(majorPartDf[\"pred\"]  == 1) & (majorPartDf[\"gt\"]  == 0) ]) / len(majorPartDf[ (majorPartDf[\"gt\"]  == 0)])\n",
    "fpr"
   ]
  },
  {
   "cell_type": "code",
   "execution_count": 206,
   "metadata": {},
   "outputs": [
    {
     "data": {
      "text/plain": [
       "0.14893617021276595"
      ]
     },
     "execution_count": 206,
     "metadata": {},
     "output_type": "execute_result"
    }
   ],
   "source": [
    "fnr = len(majorPartDf[(majorPartDf[\"pred\"]  == 0) & (majorPartDf[\"gt\"]  == 1) ]) / len(majorPartDf[ (majorPartDf[\"gt\"]  == 1)])\n",
    "fnr"
   ]
  },
  {
   "cell_type": "code",
   "execution_count": 207,
   "metadata": {},
   "outputs": [
    {
     "data": {
      "text/plain": [
       "0.7284313725490196"
      ]
     },
     "execution_count": 207,
     "metadata": {},
     "output_type": "execute_result"
    }
   ],
   "source": [
    "acc = len(majorPartDf[(majorPartDf[\"pred\"]  == majorPartDf[\"gt\"])]) / len(majorPartDf)\n",
    "acc"
   ]
  },
  {
   "cell_type": "code",
   "execution_count": 208,
   "metadata": {},
   "outputs": [
    {
     "name": "stdout",
     "output_type": "stream",
     "text": [
      "0.7284313725490196\n"
     ]
    }
   ],
   "source": [
    "allSubsetAcc = []\n",
    "for caseId in majorPartDf[\"CaseID\"].unique().tolist():\n",
    "    rows = majorPartDf[majorPartDf[\"CaseID\"] == caseId]\n",
    "    correct = rows[rows[\"pred\"] == rows[\"gt\"]]\n",
    "    subset_acc = len(correct) / len(rows)\n",
    "    allSubsetAcc.append(subset_acc)\n",
    "    \n",
    "    # print(subset_acc)\n",
    "print(np.mean(allSubsetAcc))"
   ]
  },
  {
   "cell_type": "code",
   "execution_count": null,
   "metadata": {},
   "outputs": [],
   "source": []
  }
 ],
 "metadata": {
  "kernelspec": {
   "display_name": "work",
   "language": "python",
   "name": "python3"
  },
  "language_info": {
   "codemirror_mode": {
    "name": "ipython",
    "version": 3
   },
   "file_extension": ".py",
   "mimetype": "text/x-python",
   "name": "python",
   "nbconvert_exporter": "python",
   "pygments_lexer": "ipython3",
   "version": "3.10.6 | packaged by conda-forge | (main, Aug 22 2022, 20:36:39) [GCC 10.4.0]"
  },
  "orig_nbformat": 4,
  "vscode": {
   "interpreter": {
    "hash": "0e8f33c5a67865e6aadcd232beb3e2644a1f224e780847feacdefa5e710f41d5"
   }
  }
 },
 "nbformat": 4,
 "nbformat_minor": 2
}
