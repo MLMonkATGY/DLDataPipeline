{
 "cells": [
  {
   "cell_type": "code",
   "execution_count": 37,
   "metadata": {},
   "outputs": [],
   "source": [
    "import pandas as pd\n",
    "\n",
    "import numpy as np\n"
   ]
  },
  {
   "cell_type": "code",
   "execution_count": 38,
   "metadata": {},
   "outputs": [
    {
     "data": {
      "text/plain": [
       "['Unnamed: 0',\n",
       " 'CaseID',\n",
       " 'bonnet',\n",
       " 'bumper_front',\n",
       " 'engine',\n",
       " 'fender_front_lh',\n",
       " 'front_panel',\n",
       " 'grille',\n",
       " 'headlamp_lh',\n",
       " 'windscreen_front',\n",
       " 'bumper_rear',\n",
       " 'rear_compartment',\n",
       " 'rear_panel',\n",
       " 'rear_quarter_rh',\n",
       " 'tail_lamp_rh',\n",
       " 'windscreen_rear',\n",
       " 'rear_quarter_lh',\n",
       " 'tail_lamp_lh',\n",
       " 'fender_front_rh',\n",
       " 'headlamp_rh']"
      ]
     },
     "execution_count": 38,
     "metadata": {},
     "output_type": "execute_result"
    }
   ],
   "source": [
    "expid = 134\n",
    "caseStudyIdx = 16\n",
    "predDf = pd.read_csv(\n",
    "    f\"/home/alextay96/Desktop/all_workspace/new_workspace/DLDataPipeline/data/case_study/case_study_{caseStudyIdx}/case_study_pred.csv\"\n",
    ")\n",
    "gtDf = pd.read_csv(\n",
    "    f\"/home/alextay96/Desktop/all_workspace/new_workspace/DLDataPipeline/data/case_study/case_study_{caseStudyIdx}/case_study_gt.csv\"\n",
    ")\n",
    "\n",
    "visionPredDf1 = pd.read_csv(f\"/home/alextay96/Desktop/all_workspace/new_workspace/DLDataPipeline/data/results/{expid}/Saloon - 4 Dr/Saloon - 4 Dr_imgs_pred_output.csv\")\n",
    "visionPredDf2 = pd.read_csv(f\"/home/alextay96/Desktop/all_workspace/new_workspace/DLDataPipeline/data/results/{expid}/Hatchback - 5 Dr/Hatchback - 5 Dr_imgs_pred_output.csv\")\n",
    "visionPredDf3 = pd.read_csv(f\"/home/alextay96/Desktop/all_workspace/new_workspace/DLDataPipeline/data/results/{expid}/SUV - 5 Dr/SUV - 5 Dr_imgs_pred_output.csv\")\n",
    "visionPredDf = pd.concat([visionPredDf1, visionPredDf2,visionPredDf3 ])\n",
    "majorParts = [x.replace(\"vision_\", \"\") for x in  visionPredDf.columns]\n",
    "majorParts"
   ]
  },
  {
   "cell_type": "code",
   "execution_count": 39,
   "metadata": {},
   "outputs": [
    {
     "data": {
      "text/plain": [
       "29"
      ]
     },
     "execution_count": 39,
     "metadata": {},
     "output_type": "execute_result"
    }
   ],
   "source": [
    "len(predDf)"
   ]
  },
  {
   "cell_type": "code",
   "execution_count": 40,
   "metadata": {},
   "outputs": [],
   "source": [
    "targetCols = [x for x in predDf.columns if \"0\" not in x and x != \"CaseID\"]\n",
    "allRows = []\n",
    "for c in targetCols:\n",
    "    for caseId in predDf[\"CaseID\"].unique().tolist():\n",
    "        visionPred = -1\n",
    "        if(c in majorParts):\n",
    "            visionPred = visionPredDf[visionPredDf[\"CaseID\"] == caseId][f\"vision_{c}\"].item()\n",
    "            \n",
    "\n",
    "        pred = predDf[predDf[\"CaseID\"] == caseId][c].item()\n",
    "        gt = gtDf[gtDf[\"CaseID\"] == caseId][c].item()\n",
    "        fp = 1 if gt == 0 and pred == 1 else 0\n",
    "        fn = 1 if gt == 1 and pred == 0 else 0\n",
    "        allRows.append(\n",
    "            {\n",
    "                \"CaseID\" : caseId,\n",
    "                \"part\" : c,\n",
    "                \"v_pred\":visionPred,\n",
    "                \"pred\" : pred,\n",
    "                \"gt\" : gt,\n",
    "                \"fp\" : fp, \n",
    "                \"fn\" : fn,\n",
    "                \"inspect\" : None,\n",
    "                \"remarks\" : None\n",
    "\n",
    "            }\n",
    "        )\n",
    "caseStudyInspectDf = pd.json_normalize(allRows)\n",
    "caseStudyInspectDf.sort_values(by = [\"CaseID\", \"part\"], inplace=True)"
   ]
  },
  {
   "cell_type": "code",
   "execution_count": 41,
   "metadata": {},
   "outputs": [
    {
     "data": {
      "text/html": [
       "<div>\n",
       "<style scoped>\n",
       "    .dataframe tbody tr th:only-of-type {\n",
       "        vertical-align: middle;\n",
       "    }\n",
       "\n",
       "    .dataframe tbody tr th {\n",
       "        vertical-align: top;\n",
       "    }\n",
       "\n",
       "    .dataframe thead th {\n",
       "        text-align: right;\n",
       "    }\n",
       "</style>\n",
       "<table border=\"1\" class=\"dataframe\">\n",
       "  <thead>\n",
       "    <tr style=\"text-align: right;\">\n",
       "      <th></th>\n",
       "      <th>CaseID</th>\n",
       "      <th>part</th>\n",
       "      <th>v_pred</th>\n",
       "      <th>pred</th>\n",
       "      <th>gt</th>\n",
       "      <th>fp</th>\n",
       "      <th>fn</th>\n",
       "      <th>inspect</th>\n",
       "      <th>remarks</th>\n",
       "    </tr>\n",
       "  </thead>\n",
       "  <tbody>\n",
       "    <tr>\n",
       "      <th>0</th>\n",
       "      <td>10071959</td>\n",
       "      <td>bonnet</td>\n",
       "      <td>1</td>\n",
       "      <td>1</td>\n",
       "      <td>1</td>\n",
       "      <td>0</td>\n",
       "      <td>0</td>\n",
       "      <td>None</td>\n",
       "      <td>None</td>\n",
       "    </tr>\n",
       "    <tr>\n",
       "      <th>29</th>\n",
       "      <td>10071959</td>\n",
       "      <td>bumper_front</td>\n",
       "      <td>1</td>\n",
       "      <td>1</td>\n",
       "      <td>1</td>\n",
       "      <td>0</td>\n",
       "      <td>0</td>\n",
       "      <td>None</td>\n",
       "      <td>None</td>\n",
       "    </tr>\n",
       "    <tr>\n",
       "      <th>145</th>\n",
       "      <td>10071959</td>\n",
       "      <td>bumper_rear</td>\n",
       "      <td>0</td>\n",
       "      <td>0</td>\n",
       "      <td>0</td>\n",
       "      <td>0</td>\n",
       "      <td>0</td>\n",
       "      <td>None</td>\n",
       "      <td>None</td>\n",
       "    </tr>\n",
       "    <tr>\n",
       "      <th>174</th>\n",
       "      <td>10071959</td>\n",
       "      <td>engine</td>\n",
       "      <td>1</td>\n",
       "      <td>1</td>\n",
       "      <td>1</td>\n",
       "      <td>0</td>\n",
       "      <td>0</td>\n",
       "      <td>None</td>\n",
       "      <td>None</td>\n",
       "    </tr>\n",
       "    <tr>\n",
       "      <th>232</th>\n",
       "      <td>10071959</td>\n",
       "      <td>fender_front_lh</td>\n",
       "      <td>1</td>\n",
       "      <td>1</td>\n",
       "      <td>0</td>\n",
       "      <td>1</td>\n",
       "      <td>0</td>\n",
       "      <td>None</td>\n",
       "      <td>None</td>\n",
       "    </tr>\n",
       "    <tr>\n",
       "      <th>...</th>\n",
       "      <td>...</td>\n",
       "      <td>...</td>\n",
       "      <td>...</td>\n",
       "      <td>...</td>\n",
       "      <td>...</td>\n",
       "      <td>...</td>\n",
       "      <td>...</td>\n",
       "      <td>...</td>\n",
       "      <td>...</td>\n",
       "    </tr>\n",
       "    <tr>\n",
       "      <th>492</th>\n",
       "      <td>13194275</td>\n",
       "      <td>rear_quarter_rh</td>\n",
       "      <td>0</td>\n",
       "      <td>0</td>\n",
       "      <td>0</td>\n",
       "      <td>0</td>\n",
       "      <td>0</td>\n",
       "      <td>None</td>\n",
       "      <td>None</td>\n",
       "    </tr>\n",
       "    <tr>\n",
       "      <th>347</th>\n",
       "      <td>13194275</td>\n",
       "      <td>tail_lamp_lh</td>\n",
       "      <td>0</td>\n",
       "      <td>0</td>\n",
       "      <td>0</td>\n",
       "      <td>0</td>\n",
       "      <td>0</td>\n",
       "      <td>None</td>\n",
       "      <td>None</td>\n",
       "    </tr>\n",
       "    <tr>\n",
       "      <th>376</th>\n",
       "      <td>13194275</td>\n",
       "      <td>tail_lamp_rh</td>\n",
       "      <td>0</td>\n",
       "      <td>0</td>\n",
       "      <td>0</td>\n",
       "      <td>0</td>\n",
       "      <td>0</td>\n",
       "      <td>None</td>\n",
       "      <td>None</td>\n",
       "    </tr>\n",
       "    <tr>\n",
       "      <th>405</th>\n",
       "      <td>13194275</td>\n",
       "      <td>windscreen_front</td>\n",
       "      <td>0</td>\n",
       "      <td>0</td>\n",
       "      <td>0</td>\n",
       "      <td>0</td>\n",
       "      <td>0</td>\n",
       "      <td>None</td>\n",
       "      <td>None</td>\n",
       "    </tr>\n",
       "    <tr>\n",
       "      <th>521</th>\n",
       "      <td>13194275</td>\n",
       "      <td>windscreen_rear</td>\n",
       "      <td>0</td>\n",
       "      <td>0</td>\n",
       "      <td>0</td>\n",
       "      <td>0</td>\n",
       "      <td>0</td>\n",
       "      <td>None</td>\n",
       "      <td>None</td>\n",
       "    </tr>\n",
       "  </tbody>\n",
       "</table>\n",
       "<p>522 rows × 9 columns</p>\n",
       "</div>"
      ],
      "text/plain": [
       "       CaseID              part  v_pred  pred  gt  fp  fn inspect remarks\n",
       "0    10071959            bonnet       1     1   1   0   0    None    None\n",
       "29   10071959      bumper_front       1     1   1   0   0    None    None\n",
       "145  10071959       bumper_rear       0     0   0   0   0    None    None\n",
       "174  10071959            engine       1     1   1   0   0    None    None\n",
       "232  10071959   fender_front_lh       1     1   0   1   0    None    None\n",
       "..        ...               ...     ...   ...  ..  ..  ..     ...     ...\n",
       "492  13194275   rear_quarter_rh       0     0   0   0   0    None    None\n",
       "347  13194275      tail_lamp_lh       0     0   0   0   0    None    None\n",
       "376  13194275      tail_lamp_rh       0     0   0   0   0    None    None\n",
       "405  13194275  windscreen_front       0     0   0   0   0    None    None\n",
       "521  13194275   windscreen_rear       0     0   0   0   0    None    None\n",
       "\n",
       "[522 rows x 9 columns]"
      ]
     },
     "execution_count": 41,
     "metadata": {},
     "output_type": "execute_result"
    }
   ],
   "source": [
    "caseStudyInspectDf"
   ]
  },
  {
   "cell_type": "code",
   "execution_count": 42,
   "metadata": {},
   "outputs": [
    {
     "data": {
      "text/plain": [
       "18"
      ]
     },
     "execution_count": 42,
     "metadata": {},
     "output_type": "execute_result"
    }
   ],
   "source": [
    "len(caseStudyInspectDf[\"part\"].unique())"
   ]
  },
  {
   "cell_type": "code",
   "execution_count": 43,
   "metadata": {},
   "outputs": [
    {
     "data": {
      "text/plain": [
       "750"
      ]
     },
     "execution_count": 43,
     "metadata": {},
     "output_type": "execute_result"
    }
   ],
   "source": [
    "majorParts = 25 * 30\n",
    "majorParts"
   ]
  },
  {
   "cell_type": "code",
   "execution_count": 44,
   "metadata": {},
   "outputs": [
    {
     "data": {
      "text/plain": [
       "0.20533333333333334"
      ]
     },
     "execution_count": 44,
     "metadata": {},
     "output_type": "execute_result"
    }
   ],
   "source": [
    "154 / majorParts"
   ]
  },
  {
   "cell_type": "code",
   "execution_count": 45,
   "metadata": {},
   "outputs": [
    {
     "data": {
      "text/html": [
       "<div>\n",
       "<style scoped>\n",
       "    .dataframe tbody tr th:only-of-type {\n",
       "        vertical-align: middle;\n",
       "    }\n",
       "\n",
       "    .dataframe tbody tr th {\n",
       "        vertical-align: top;\n",
       "    }\n",
       "\n",
       "    .dataframe thead th {\n",
       "        text-align: right;\n",
       "    }\n",
       "</style>\n",
       "<table border=\"1\" class=\"dataframe\">\n",
       "  <thead>\n",
       "    <tr style=\"text-align: right;\">\n",
       "      <th></th>\n",
       "      <th>CaseID</th>\n",
       "      <th>part</th>\n",
       "      <th>v_pred</th>\n",
       "      <th>pred</th>\n",
       "      <th>gt</th>\n",
       "      <th>fp</th>\n",
       "      <th>fn</th>\n",
       "      <th>inspect</th>\n",
       "      <th>remarks</th>\n",
       "    </tr>\n",
       "  </thead>\n",
       "  <tbody>\n",
       "    <tr>\n",
       "      <th>232</th>\n",
       "      <td>10071959</td>\n",
       "      <td>fender_front_lh</td>\n",
       "      <td>1</td>\n",
       "      <td>1</td>\n",
       "      <td>0</td>\n",
       "      <td>1</td>\n",
       "      <td>0</td>\n",
       "      <td>None</td>\n",
       "      <td>None</td>\n",
       "    </tr>\n",
       "    <tr>\n",
       "      <th>261</th>\n",
       "      <td>10071959</td>\n",
       "      <td>fender_front_rh</td>\n",
       "      <td>1</td>\n",
       "      <td>1</td>\n",
       "      <td>0</td>\n",
       "      <td>1</td>\n",
       "      <td>0</td>\n",
       "      <td>None</td>\n",
       "      <td>None</td>\n",
       "    </tr>\n",
       "    <tr>\n",
       "      <th>116</th>\n",
       "      <td>10071959</td>\n",
       "      <td>headlamp_rh</td>\n",
       "      <td>1</td>\n",
       "      <td>1</td>\n",
       "      <td>0</td>\n",
       "      <td>1</td>\n",
       "      <td>0</td>\n",
       "      <td>None</td>\n",
       "      <td>None</td>\n",
       "    </tr>\n",
       "    <tr>\n",
       "      <th>464</th>\n",
       "      <td>10071959</td>\n",
       "      <td>rear_quarter_rh</td>\n",
       "      <td>1</td>\n",
       "      <td>1</td>\n",
       "      <td>0</td>\n",
       "      <td>1</td>\n",
       "      <td>0</td>\n",
       "      <td>None</td>\n",
       "      <td>None</td>\n",
       "    </tr>\n",
       "    <tr>\n",
       "      <th>1</th>\n",
       "      <td>10245671</td>\n",
       "      <td>bonnet</td>\n",
       "      <td>0</td>\n",
       "      <td>0</td>\n",
       "      <td>1</td>\n",
       "      <td>0</td>\n",
       "      <td>1</td>\n",
       "      <td>None</td>\n",
       "      <td>None</td>\n",
       "    </tr>\n",
       "    <tr>\n",
       "      <th>...</th>\n",
       "      <td>...</td>\n",
       "      <td>...</td>\n",
       "      <td>...</td>\n",
       "      <td>...</td>\n",
       "      <td>...</td>\n",
       "      <td>...</td>\n",
       "      <td>...</td>\n",
       "      <td>...</td>\n",
       "      <td>...</td>\n",
       "    </tr>\n",
       "    <tr>\n",
       "      <th>491</th>\n",
       "      <td>13081007</td>\n",
       "      <td>rear_quarter_rh</td>\n",
       "      <td>1</td>\n",
       "      <td>1</td>\n",
       "      <td>0</td>\n",
       "      <td>1</td>\n",
       "      <td>0</td>\n",
       "      <td>None</td>\n",
       "      <td>None</td>\n",
       "    </tr>\n",
       "    <tr>\n",
       "      <th>404</th>\n",
       "      <td>13081007</td>\n",
       "      <td>windscreen_front</td>\n",
       "      <td>1</td>\n",
       "      <td>1</td>\n",
       "      <td>0</td>\n",
       "      <td>1</td>\n",
       "      <td>0</td>\n",
       "      <td>None</td>\n",
       "      <td>None</td>\n",
       "    </tr>\n",
       "    <tr>\n",
       "      <th>260</th>\n",
       "      <td>13194275</td>\n",
       "      <td>fender_front_lh</td>\n",
       "      <td>1</td>\n",
       "      <td>1</td>\n",
       "      <td>0</td>\n",
       "      <td>1</td>\n",
       "      <td>0</td>\n",
       "      <td>None</td>\n",
       "      <td>None</td>\n",
       "    </tr>\n",
       "    <tr>\n",
       "      <th>289</th>\n",
       "      <td>13194275</td>\n",
       "      <td>fender_front_rh</td>\n",
       "      <td>1</td>\n",
       "      <td>1</td>\n",
       "      <td>0</td>\n",
       "      <td>1</td>\n",
       "      <td>0</td>\n",
       "      <td>None</td>\n",
       "      <td>None</td>\n",
       "    </tr>\n",
       "    <tr>\n",
       "      <th>231</th>\n",
       "      <td>13194275</td>\n",
       "      <td>front_panel</td>\n",
       "      <td>1</td>\n",
       "      <td>1</td>\n",
       "      <td>0</td>\n",
       "      <td>1</td>\n",
       "      <td>0</td>\n",
       "      <td>None</td>\n",
       "      <td>None</td>\n",
       "    </tr>\n",
       "  </tbody>\n",
       "</table>\n",
       "<p>83 rows × 9 columns</p>\n",
       "</div>"
      ],
      "text/plain": [
       "       CaseID              part  v_pred  pred  gt  fp  fn inspect remarks\n",
       "232  10071959   fender_front_lh       1     1   0   1   0    None    None\n",
       "261  10071959   fender_front_rh       1     1   0   1   0    None    None\n",
       "116  10071959       headlamp_rh       1     1   0   1   0    None    None\n",
       "464  10071959   rear_quarter_rh       1     1   0   1   0    None    None\n",
       "1    10245671            bonnet       0     0   1   0   1    None    None\n",
       "..        ...               ...     ...   ...  ..  ..  ..     ...     ...\n",
       "491  13081007   rear_quarter_rh       1     1   0   1   0    None    None\n",
       "404  13081007  windscreen_front       1     1   0   1   0    None    None\n",
       "260  13194275   fender_front_lh       1     1   0   1   0    None    None\n",
       "289  13194275   fender_front_rh       1     1   0   1   0    None    None\n",
       "231  13194275       front_panel       1     1   0   1   0    None    None\n",
       "\n",
       "[83 rows x 9 columns]"
      ]
     },
     "execution_count": 45,
     "metadata": {},
     "output_type": "execute_result"
    }
   ],
   "source": [
    "caseStudyWrong = caseStudyInspectDf[(caseStudyInspectDf[\"pred\"] !=caseStudyInspectDf[\"gt\"] )\n",
    "                                    & (caseStudyInspectDf[\"v_pred\"] != -1)\n",
    "                                    \n",
    "                                    ]\n",
    "caseStudyWrong"
   ]
  },
  {
   "cell_type": "code",
   "execution_count": null,
   "metadata": {},
   "outputs": [],
   "source": []
  },
  {
   "cell_type": "code",
   "execution_count": 46,
   "metadata": {},
   "outputs": [
    {
     "data": {
      "text/plain": [
       "0.15900383141762453"
      ]
     },
     "execution_count": 46,
     "metadata": {},
     "output_type": "execute_result"
    }
   ],
   "source": [
    "len(caseStudyWrong) / len(caseStudyInspectDf)"
   ]
  },
  {
   "cell_type": "code",
   "execution_count": 47,
   "metadata": {},
   "outputs": [
    {
     "data": {
      "text/html": [
       "<div>\n",
       "<style scoped>\n",
       "    .dataframe tbody tr th:only-of-type {\n",
       "        vertical-align: middle;\n",
       "    }\n",
       "\n",
       "    .dataframe tbody tr th {\n",
       "        vertical-align: top;\n",
       "    }\n",
       "\n",
       "    .dataframe thead th {\n",
       "        text-align: right;\n",
       "    }\n",
       "</style>\n",
       "<table border=\"1\" class=\"dataframe\">\n",
       "  <thead>\n",
       "    <tr style=\"text-align: right;\">\n",
       "      <th></th>\n",
       "      <th>CaseID</th>\n",
       "      <th>part</th>\n",
       "      <th>v_pred</th>\n",
       "      <th>pred</th>\n",
       "      <th>gt</th>\n",
       "      <th>fp</th>\n",
       "      <th>fn</th>\n",
       "      <th>inspect</th>\n",
       "      <th>remarks</th>\n",
       "    </tr>\n",
       "  </thead>\n",
       "  <tbody>\n",
       "  </tbody>\n",
       "</table>\n",
       "</div>"
      ],
      "text/plain": [
       "Empty DataFrame\n",
       "Columns: [CaseID, part, v_pred, pred, gt, fp, fn, inspect, remarks]\n",
       "Index: []"
      ]
     },
     "execution_count": 47,
     "metadata": {},
     "output_type": "execute_result"
    }
   ],
   "source": [
    "\n",
    "caseStudyWrongVis = caseStudyInspectDf[(caseStudyInspectDf[\"pred\"] !=caseStudyInspectDf[\"v_pred\"]) & (caseStudyInspectDf[\"v_pred\"] != -1) ]\n",
    "caseStudyWrongVis"
   ]
  },
  {
   "cell_type": "code",
   "execution_count": 48,
   "metadata": {},
   "outputs": [],
   "source": [
    "# majorPartDf = caseStudyInspectDf[caseStudyInspectDf[\"v_pred\"] != - 1]\n",
    "majorPartDf = caseStudyInspectDf"
   ]
  },
  {
   "cell_type": "code",
   "execution_count": 49,
   "metadata": {},
   "outputs": [
    {
     "data": {
      "text/plain": [
       "array(['bonnet', 'bumper_front', 'bumper_rear', 'engine',\n",
       "       'fender_front_lh', 'fender_front_rh', 'front_panel', 'grille',\n",
       "       'headlamp_lh', 'headlamp_rh', 'rear_compartment', 'rear_panel',\n",
       "       'rear_quarter_lh', 'rear_quarter_rh', 'tail_lamp_lh',\n",
       "       'tail_lamp_rh', 'windscreen_front', 'windscreen_rear'],\n",
       "      dtype=object)"
      ]
     },
     "execution_count": 49,
     "metadata": {},
     "output_type": "execute_result"
    }
   ],
   "source": [
    "majorPartDf[\"part\"].unique()"
   ]
  },
  {
   "cell_type": "code",
   "execution_count": 50,
   "metadata": {},
   "outputs": [
    {
     "data": {
      "text/plain": [
       "0.12151898734177215"
      ]
     },
     "execution_count": 50,
     "metadata": {},
     "output_type": "execute_result"
    }
   ],
   "source": [
    "fpr = len(majorPartDf[(majorPartDf[\"pred\"]  == 1) & (majorPartDf[\"gt\"]  == 0) ]) / len(majorPartDf[ (majorPartDf[\"gt\"]  == 0)])\n",
    "fpr"
   ]
  },
  {
   "cell_type": "code",
   "execution_count": 51,
   "metadata": {},
   "outputs": [
    {
     "data": {
      "text/plain": [
       "0.2755905511811024"
      ]
     },
     "execution_count": 51,
     "metadata": {},
     "output_type": "execute_result"
    }
   ],
   "source": [
    "fnr = len(majorPartDf[(majorPartDf[\"pred\"]  == 0) & (majorPartDf[\"gt\"]  == 1) ]) / len(majorPartDf[ (majorPartDf[\"gt\"]  == 1)])\n",
    "fnr"
   ]
  },
  {
   "cell_type": "code",
   "execution_count": 52,
   "metadata": {},
   "outputs": [
    {
     "data": {
      "text/plain": [
       "0.8409961685823755"
      ]
     },
     "execution_count": 52,
     "metadata": {},
     "output_type": "execute_result"
    }
   ],
   "source": [
    "acc = len(majorPartDf[(majorPartDf[\"pred\"]  == majorPartDf[\"gt\"])]) / len(majorPartDf)\n",
    "acc"
   ]
  },
  {
   "cell_type": "code",
   "execution_count": 53,
   "metadata": {},
   "outputs": [
    {
     "name": "stdout",
     "output_type": "stream",
     "text": [
      "0.8409961685823754\n"
     ]
    }
   ],
   "source": [
    "allSubsetAcc = []\n",
    "for caseId in majorPartDf[\"CaseID\"].unique().tolist():\n",
    "    rows = majorPartDf[majorPartDf[\"CaseID\"] == caseId]\n",
    "    correct = rows[rows[\"pred\"] == rows[\"gt\"]]\n",
    "    subset_acc = len(correct) / len(rows)\n",
    "    allSubsetAcc.append(subset_acc)\n",
    "    \n",
    "    # print(subset_acc)\n",
    "print(np.mean(allSubsetAcc))"
   ]
  },
  {
   "cell_type": "code",
   "execution_count": 54,
   "metadata": {},
   "outputs": [],
   "source": [
    "caseStudyInspectDf.to_csv(\"./case_study_result.csv\")"
   ]
  }
 ],
 "metadata": {
  "kernelspec": {
   "display_name": "work",
   "language": "python",
   "name": "python3"
  },
  "language_info": {
   "codemirror_mode": {
    "name": "ipython",
    "version": 3
   },
   "file_extension": ".py",
   "mimetype": "text/x-python",
   "name": "python",
   "nbconvert_exporter": "python",
   "pygments_lexer": "ipython3",
   "version": "3.10.8 (main, Nov 24 2022, 14:13:03) [GCC 11.2.0]"
  },
  "orig_nbformat": 4,
  "vscode": {
   "interpreter": {
    "hash": "0e8f33c5a67865e6aadcd232beb3e2644a1f224e780847feacdefa5e710f41d5"
   }
  }
 },
 "nbformat": 4,
 "nbformat_minor": 2
}
