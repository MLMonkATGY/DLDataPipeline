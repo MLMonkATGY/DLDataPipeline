{
 "cells": [
  {
   "cell_type": "code",
   "execution_count": 23,
   "metadata": {},
   "outputs": [],
   "source": [
    "import pandas as pd\n",
    "\n",
    "import numpy as np\n"
   ]
  },
  {
   "cell_type": "code",
   "execution_count": 24,
   "metadata": {},
   "outputs": [
    {
     "data": {
      "text/plain": [
       "['Unnamed: 0',\n",
       " 'CaseID',\n",
       " 'bonnet',\n",
       " 'bumper_front',\n",
       " 'engine',\n",
       " 'fender_front_rh',\n",
       " 'front_panel',\n",
       " 'grille',\n",
       " 'headlamp_rh',\n",
       " 'non_external',\n",
       " 'windscreen_front',\n",
       " 'bumper_rear',\n",
       " 'rear_compartment',\n",
       " 'rear_panel',\n",
       " 'rear_quarter_rh',\n",
       " 'tail_lamp_rh',\n",
       " 'windscreen_rear',\n",
       " 'rear_quarter_lh',\n",
       " 'tail_lamp_lh',\n",
       " 'fender_front_lh',\n",
       " 'headlamp_lh']"
      ]
     },
     "execution_count": 24,
     "metadata": {},
     "output_type": "execute_result"
    }
   ],
   "source": [
    "expId = 126\n",
    "caseStudyId = 12\n",
    "predDf = pd.read_csv(\n",
    "    f\"/home/alextay96/Desktop/all_workspace/new_workspace/DLDataPipeline/data/case_study/case_study_{caseStudyId}/case_study_pred.csv\"\n",
    ")\n",
    "gtDf = pd.read_csv(\n",
    "    f\"/home/alextay96/Desktop/all_workspace/new_workspace/DLDataPipeline/data/case_study/case_study_{caseStudyId}/case_study_gt.csv\"\n",
    ")\n",
    "visionPredDf1 = pd.read_csv(f\"/home/alextay96/Desktop/all_workspace/new_workspace/DLDataPipeline/data/results/{expId}/Saloon - 4 Dr/Saloon - 4 Dr_imgs_pred_output.csv\")\n",
    "visionPredDf2 = pd.read_csv(f\"/home/alextay96/Desktop/all_workspace/new_workspace/DLDataPipeline/data/results/{expId}/Hatchback - 5 Dr/Hatchback - 5 Dr_imgs_pred_output.csv\")\n",
    "visionPredDf3 = pd.read_csv(f\"/home/alextay96/Desktop/all_workspace/new_workspace/DLDataPipeline/data/results/{expId}/SUV - 5 Dr/SUV - 5 Dr_imgs_pred_output.csv\")\n",
    "visionPredDf = pd.concat([visionPredDf1, visionPredDf2,visionPredDf3 ])\n",
    "majorParts = [x.replace(\"vision_\", \"\") for x in  visionPredDf.columns]\n",
    "majorParts"
   ]
  },
  {
   "cell_type": "code",
   "execution_count": 25,
   "metadata": {},
   "outputs": [
    {
     "data": {
      "text/plain": [
       "30"
      ]
     },
     "execution_count": 25,
     "metadata": {},
     "output_type": "execute_result"
    }
   ],
   "source": [
    "len(predDf)"
   ]
  },
  {
   "cell_type": "code",
   "execution_count": 26,
   "metadata": {},
   "outputs": [],
   "source": [
    "targetCols = [x for x in predDf.columns if \"0\" not in x and x != \"CaseID\"]\n",
    "allRows = []\n",
    "for c in targetCols:\n",
    "    for caseId in predDf[\"CaseID\"].unique().tolist():\n",
    "        visionPred = -1\n",
    "        if(c in majorParts):\n",
    "            visionPred = visionPredDf[visionPredDf[\"CaseID\"] == caseId][f\"vision_{c}\"].item()\n",
    "            \n",
    "\n",
    "        pred = predDf[predDf[\"CaseID\"] == caseId][c].item()\n",
    "        gt = gtDf[gtDf[\"CaseID\"] == caseId][c].item()\n",
    "        fp = 1 if gt == 0 and pred == 1 else 0\n",
    "        fn = 1 if gt == 1 and pred == 0 else 0\n",
    "        allRows.append(\n",
    "            {\n",
    "                \"CaseID\" : caseId,\n",
    "                \"part\" : c,\n",
    "                \"v_pred\":visionPred,\n",
    "                \"pred\" : pred,\n",
    "                \"gt\" : gt,\n",
    "                \"fp\" : fp, \n",
    "                \"fn\" : fn,\n",
    "                \"inspect\" : None,\n",
    "                \"remarks\" : None\n",
    "\n",
    "            }\n",
    "        )\n",
    "caseStudyInspectDf = pd.json_normalize(allRows)\n",
    "caseStudyInspectDf.sort_values(by = [\"CaseID\", \"part\"], inplace=True)"
   ]
  },
  {
   "cell_type": "code",
   "execution_count": 27,
   "metadata": {},
   "outputs": [
    {
     "data": {
      "text/html": [
       "<div>\n",
       "<style scoped>\n",
       "    .dataframe tbody tr th:only-of-type {\n",
       "        vertical-align: middle;\n",
       "    }\n",
       "\n",
       "    .dataframe tbody tr th {\n",
       "        vertical-align: top;\n",
       "    }\n",
       "\n",
       "    .dataframe thead th {\n",
       "        text-align: right;\n",
       "    }\n",
       "</style>\n",
       "<table border=\"1\" class=\"dataframe\">\n",
       "  <thead>\n",
       "    <tr style=\"text-align: right;\">\n",
       "      <th></th>\n",
       "      <th>CaseID</th>\n",
       "      <th>part</th>\n",
       "      <th>v_pred</th>\n",
       "      <th>pred</th>\n",
       "      <th>gt</th>\n",
       "      <th>fp</th>\n",
       "      <th>fn</th>\n",
       "      <th>inspect</th>\n",
       "      <th>remarks</th>\n",
       "    </tr>\n",
       "  </thead>\n",
       "  <tbody>\n",
       "    <tr>\n",
       "      <th>60</th>\n",
       "      <td>10047111</td>\n",
       "      <td>air_conditioning</td>\n",
       "      <td>-1</td>\n",
       "      <td>0</td>\n",
       "      <td>0</td>\n",
       "      <td>0</td>\n",
       "      <td>0</td>\n",
       "      <td>None</td>\n",
       "      <td>None</td>\n",
       "    </tr>\n",
       "    <tr>\n",
       "      <th>120</th>\n",
       "      <td>10047111</td>\n",
       "      <td>airbag</td>\n",
       "      <td>-1</td>\n",
       "      <td>0</td>\n",
       "      <td>0</td>\n",
       "      <td>0</td>\n",
       "      <td>0</td>\n",
       "      <td>None</td>\n",
       "      <td>None</td>\n",
       "    </tr>\n",
       "    <tr>\n",
       "      <th>240</th>\n",
       "      <td>10047111</td>\n",
       "      <td>bonnet</td>\n",
       "      <td>0</td>\n",
       "      <td>0</td>\n",
       "      <td>0</td>\n",
       "      <td>0</td>\n",
       "      <td>0</td>\n",
       "      <td>None</td>\n",
       "      <td>None</td>\n",
       "    </tr>\n",
       "    <tr>\n",
       "      <th>270</th>\n",
       "      <td>10047111</td>\n",
       "      <td>bumper_front</td>\n",
       "      <td>0</td>\n",
       "      <td>0</td>\n",
       "      <td>0</td>\n",
       "      <td>0</td>\n",
       "      <td>0</td>\n",
       "      <td>None</td>\n",
       "      <td>None</td>\n",
       "    </tr>\n",
       "    <tr>\n",
       "      <th>390</th>\n",
       "      <td>10047111</td>\n",
       "      <td>bumper_rear</td>\n",
       "      <td>0</td>\n",
       "      <td>0</td>\n",
       "      <td>0</td>\n",
       "      <td>0</td>\n",
       "      <td>0</td>\n",
       "      <td>None</td>\n",
       "      <td>None</td>\n",
       "    </tr>\n",
       "    <tr>\n",
       "      <th>...</th>\n",
       "      <td>...</td>\n",
       "      <td>...</td>\n",
       "      <td>...</td>\n",
       "      <td>...</td>\n",
       "      <td>...</td>\n",
       "      <td>...</td>\n",
       "      <td>...</td>\n",
       "      <td>...</td>\n",
       "      <td>...</td>\n",
       "    </tr>\n",
       "    <tr>\n",
       "      <th>599</th>\n",
       "      <td>13025161</td>\n",
       "      <td>tail_lamp_lh</td>\n",
       "      <td>0</td>\n",
       "      <td>0</td>\n",
       "      <td>0</td>\n",
       "      <td>0</td>\n",
       "      <td>0</td>\n",
       "      <td>None</td>\n",
       "      <td>None</td>\n",
       "    </tr>\n",
       "    <tr>\n",
       "      <th>629</th>\n",
       "      <td>13025161</td>\n",
       "      <td>tail_lamp_rh</td>\n",
       "      <td>0</td>\n",
       "      <td>0</td>\n",
       "      <td>0</td>\n",
       "      <td>0</td>\n",
       "      <td>0</td>\n",
       "      <td>None</td>\n",
       "      <td>None</td>\n",
       "    </tr>\n",
       "    <tr>\n",
       "      <th>119</th>\n",
       "      <td>13025161</td>\n",
       "      <td>undercarriage</td>\n",
       "      <td>-1</td>\n",
       "      <td>1</td>\n",
       "      <td>1</td>\n",
       "      <td>0</td>\n",
       "      <td>0</td>\n",
       "      <td>None</td>\n",
       "      <td>None</td>\n",
       "    </tr>\n",
       "    <tr>\n",
       "      <th>659</th>\n",
       "      <td>13025161</td>\n",
       "      <td>windscreen_front</td>\n",
       "      <td>0</td>\n",
       "      <td>0</td>\n",
       "      <td>0</td>\n",
       "      <td>0</td>\n",
       "      <td>0</td>\n",
       "      <td>None</td>\n",
       "      <td>None</td>\n",
       "    </tr>\n",
       "    <tr>\n",
       "      <th>779</th>\n",
       "      <td>13025161</td>\n",
       "      <td>windscreen_rear</td>\n",
       "      <td>0</td>\n",
       "      <td>0</td>\n",
       "      <td>0</td>\n",
       "      <td>0</td>\n",
       "      <td>0</td>\n",
       "      <td>None</td>\n",
       "      <td>None</td>\n",
       "    </tr>\n",
       "  </tbody>\n",
       "</table>\n",
       "<p>780 rows × 9 columns</p>\n",
       "</div>"
      ],
      "text/plain": [
       "       CaseID              part  v_pred  pred  gt  fp  fn inspect remarks\n",
       "60   10047111  air_conditioning      -1     0   0   0   0    None    None\n",
       "120  10047111            airbag      -1     0   0   0   0    None    None\n",
       "240  10047111            bonnet       0     0   0   0   0    None    None\n",
       "270  10047111      bumper_front       0     0   0   0   0    None    None\n",
       "390  10047111       bumper_rear       0     0   0   0   0    None    None\n",
       "..        ...               ...     ...   ...  ..  ..  ..     ...     ...\n",
       "599  13025161      tail_lamp_lh       0     0   0   0   0    None    None\n",
       "629  13025161      tail_lamp_rh       0     0   0   0   0    None    None\n",
       "119  13025161     undercarriage      -1     1   1   0   0    None    None\n",
       "659  13025161  windscreen_front       0     0   0   0   0    None    None\n",
       "779  13025161   windscreen_rear       0     0   0   0   0    None    None\n",
       "\n",
       "[780 rows x 9 columns]"
      ]
     },
     "execution_count": 27,
     "metadata": {},
     "output_type": "execute_result"
    }
   ],
   "source": [
    "caseStudyInspectDf"
   ]
  },
  {
   "cell_type": "code",
   "execution_count": 28,
   "metadata": {},
   "outputs": [
    {
     "data": {
      "text/plain": [
       "26"
      ]
     },
     "execution_count": 28,
     "metadata": {},
     "output_type": "execute_result"
    }
   ],
   "source": [
    "len(caseStudyInspectDf[\"part\"].unique())"
   ]
  },
  {
   "cell_type": "code",
   "execution_count": 29,
   "metadata": {},
   "outputs": [
    {
     "data": {
      "text/plain": [
       "750"
      ]
     },
     "execution_count": 29,
     "metadata": {},
     "output_type": "execute_result"
    }
   ],
   "source": [
    "majorParts = 25 * 30\n",
    "majorParts"
   ]
  },
  {
   "cell_type": "code",
   "execution_count": 30,
   "metadata": {},
   "outputs": [
    {
     "data": {
      "text/plain": [
       "0.20533333333333334"
      ]
     },
     "execution_count": 30,
     "metadata": {},
     "output_type": "execute_result"
    }
   ],
   "source": [
    "154 / majorParts"
   ]
  },
  {
   "cell_type": "code",
   "execution_count": 31,
   "metadata": {},
   "outputs": [
    {
     "data": {
      "text/html": [
       "<div>\n",
       "<style scoped>\n",
       "    .dataframe tbody tr th:only-of-type {\n",
       "        vertical-align: middle;\n",
       "    }\n",
       "\n",
       "    .dataframe tbody tr th {\n",
       "        vertical-align: top;\n",
       "    }\n",
       "\n",
       "    .dataframe thead th {\n",
       "        text-align: right;\n",
       "    }\n",
       "</style>\n",
       "<table border=\"1\" class=\"dataframe\">\n",
       "  <thead>\n",
       "    <tr style=\"text-align: right;\">\n",
       "      <th></th>\n",
       "      <th>CaseID</th>\n",
       "      <th>part</th>\n",
       "      <th>v_pred</th>\n",
       "      <th>pred</th>\n",
       "      <th>gt</th>\n",
       "      <th>fp</th>\n",
       "      <th>fn</th>\n",
       "      <th>inspect</th>\n",
       "      <th>remarks</th>\n",
       "    </tr>\n",
       "  </thead>\n",
       "  <tbody>\n",
       "    <tr>\n",
       "      <th>480</th>\n",
       "      <td>10047111</td>\n",
       "      <td>fender_front_lh</td>\n",
       "      <td>1</td>\n",
       "      <td>1</td>\n",
       "      <td>0</td>\n",
       "      <td>1</td>\n",
       "      <td>0</td>\n",
       "      <td>None</td>\n",
       "      <td>None</td>\n",
       "    </tr>\n",
       "    <tr>\n",
       "      <th>421</th>\n",
       "      <td>10049081</td>\n",
       "      <td>engine</td>\n",
       "      <td>0</td>\n",
       "      <td>0</td>\n",
       "      <td>1</td>\n",
       "      <td>0</td>\n",
       "      <td>1</td>\n",
       "      <td>None</td>\n",
       "      <td>None</td>\n",
       "    </tr>\n",
       "    <tr>\n",
       "      <th>451</th>\n",
       "      <td>10049081</td>\n",
       "      <td>front_panel</td>\n",
       "      <td>1</td>\n",
       "      <td>1</td>\n",
       "      <td>0</td>\n",
       "      <td>1</td>\n",
       "      <td>0</td>\n",
       "      <td>None</td>\n",
       "      <td>None</td>\n",
       "    </tr>\n",
       "    <tr>\n",
       "      <th>691</th>\n",
       "      <td>10049081</td>\n",
       "      <td>rear_panel</td>\n",
       "      <td>1</td>\n",
       "      <td>1</td>\n",
       "      <td>0</td>\n",
       "      <td>1</td>\n",
       "      <td>0</td>\n",
       "      <td>None</td>\n",
       "      <td>None</td>\n",
       "    </tr>\n",
       "    <tr>\n",
       "      <th>721</th>\n",
       "      <td>10049081</td>\n",
       "      <td>rear_quarter_rh</td>\n",
       "      <td>1</td>\n",
       "      <td>1</td>\n",
       "      <td>0</td>\n",
       "      <td>1</td>\n",
       "      <td>0</td>\n",
       "      <td>None</td>\n",
       "      <td>None</td>\n",
       "    </tr>\n",
       "    <tr>\n",
       "      <th>...</th>\n",
       "      <td>...</td>\n",
       "      <td>...</td>\n",
       "      <td>...</td>\n",
       "      <td>...</td>\n",
       "      <td>...</td>\n",
       "      <td>...</td>\n",
       "      <td>...</td>\n",
       "      <td>...</td>\n",
       "      <td>...</td>\n",
       "    </tr>\n",
       "    <tr>\n",
       "      <th>419</th>\n",
       "      <td>13025161</td>\n",
       "      <td>bumper_rear</td>\n",
       "      <td>0</td>\n",
       "      <td>0</td>\n",
       "      <td>1</td>\n",
       "      <td>0</td>\n",
       "      <td>1</td>\n",
       "      <td>None</td>\n",
       "      <td>None</td>\n",
       "    </tr>\n",
       "    <tr>\n",
       "      <th>449</th>\n",
       "      <td>13025161</td>\n",
       "      <td>engine</td>\n",
       "      <td>0</td>\n",
       "      <td>0</td>\n",
       "      <td>1</td>\n",
       "      <td>0</td>\n",
       "      <td>1</td>\n",
       "      <td>None</td>\n",
       "      <td>None</td>\n",
       "    </tr>\n",
       "    <tr>\n",
       "      <th>479</th>\n",
       "      <td>13025161</td>\n",
       "      <td>front_panel</td>\n",
       "      <td>1</td>\n",
       "      <td>1</td>\n",
       "      <td>0</td>\n",
       "      <td>1</td>\n",
       "      <td>0</td>\n",
       "      <td>None</td>\n",
       "      <td>None</td>\n",
       "    </tr>\n",
       "    <tr>\n",
       "      <th>329</th>\n",
       "      <td>13025161</td>\n",
       "      <td>grille</td>\n",
       "      <td>0</td>\n",
       "      <td>0</td>\n",
       "      <td>1</td>\n",
       "      <td>0</td>\n",
       "      <td>1</td>\n",
       "      <td>None</td>\n",
       "      <td>None</td>\n",
       "    </tr>\n",
       "    <tr>\n",
       "      <th>389</th>\n",
       "      <td>13025161</td>\n",
       "      <td>headlamp_rh</td>\n",
       "      <td>0</td>\n",
       "      <td>0</td>\n",
       "      <td>1</td>\n",
       "      <td>0</td>\n",
       "      <td>1</td>\n",
       "      <td>None</td>\n",
       "      <td>None</td>\n",
       "    </tr>\n",
       "  </tbody>\n",
       "</table>\n",
       "<p>76 rows × 9 columns</p>\n",
       "</div>"
      ],
      "text/plain": [
       "       CaseID             part  v_pred  pred  gt  fp  fn inspect remarks\n",
       "480  10047111  fender_front_lh       1     1   0   1   0    None    None\n",
       "421  10049081           engine       0     0   1   0   1    None    None\n",
       "451  10049081      front_panel       1     1   0   1   0    None    None\n",
       "691  10049081       rear_panel       1     1   0   1   0    None    None\n",
       "721  10049081  rear_quarter_rh       1     1   0   1   0    None    None\n",
       "..        ...              ...     ...   ...  ..  ..  ..     ...     ...\n",
       "419  13025161      bumper_rear       0     0   1   0   1    None    None\n",
       "449  13025161           engine       0     0   1   0   1    None    None\n",
       "479  13025161      front_panel       1     1   0   1   0    None    None\n",
       "329  13025161           grille       0     0   1   0   1    None    None\n",
       "389  13025161      headlamp_rh       0     0   1   0   1    None    None\n",
       "\n",
       "[76 rows x 9 columns]"
      ]
     },
     "execution_count": 31,
     "metadata": {},
     "output_type": "execute_result"
    }
   ],
   "source": [
    "caseStudyWrong = caseStudyInspectDf[(caseStudyInspectDf[\"pred\"] !=caseStudyInspectDf[\"gt\"] )\n",
    "                                    & (caseStudyInspectDf[\"v_pred\"] != -1)\n",
    "                                    \n",
    "                                    ]\n",
    "caseStudyWrong"
   ]
  },
  {
   "cell_type": "code",
   "execution_count": null,
   "metadata": {},
   "outputs": [],
   "source": []
  },
  {
   "cell_type": "code",
   "execution_count": 32,
   "metadata": {},
   "outputs": [
    {
     "data": {
      "text/plain": [
       "0.09743589743589744"
      ]
     },
     "execution_count": 32,
     "metadata": {},
     "output_type": "execute_result"
    }
   ],
   "source": [
    "len(caseStudyWrong) / len(caseStudyInspectDf)"
   ]
  },
  {
   "cell_type": "code",
   "execution_count": 33,
   "metadata": {},
   "outputs": [
    {
     "data": {
      "text/html": [
       "<div>\n",
       "<style scoped>\n",
       "    .dataframe tbody tr th:only-of-type {\n",
       "        vertical-align: middle;\n",
       "    }\n",
       "\n",
       "    .dataframe tbody tr th {\n",
       "        vertical-align: top;\n",
       "    }\n",
       "\n",
       "    .dataframe thead th {\n",
       "        text-align: right;\n",
       "    }\n",
       "</style>\n",
       "<table border=\"1\" class=\"dataframe\">\n",
       "  <thead>\n",
       "    <tr style=\"text-align: right;\">\n",
       "      <th></th>\n",
       "      <th>CaseID</th>\n",
       "      <th>part</th>\n",
       "      <th>v_pred</th>\n",
       "      <th>pred</th>\n",
       "      <th>gt</th>\n",
       "      <th>fp</th>\n",
       "      <th>fn</th>\n",
       "      <th>inspect</th>\n",
       "      <th>remarks</th>\n",
       "    </tr>\n",
       "  </thead>\n",
       "  <tbody>\n",
       "  </tbody>\n",
       "</table>\n",
       "</div>"
      ],
      "text/plain": [
       "Empty DataFrame\n",
       "Columns: [CaseID, part, v_pred, pred, gt, fp, fn, inspect, remarks]\n",
       "Index: []"
      ]
     },
     "execution_count": 33,
     "metadata": {},
     "output_type": "execute_result"
    }
   ],
   "source": [
    "\n",
    "caseStudyWrongVis = caseStudyInspectDf[(caseStudyInspectDf[\"pred\"] !=caseStudyInspectDf[\"v_pred\"]) & (caseStudyInspectDf[\"v_pred\"] != -1) ]\n",
    "caseStudyWrongVis"
   ]
  },
  {
   "cell_type": "code",
   "execution_count": 34,
   "metadata": {},
   "outputs": [],
   "source": [
    "# majorPartDf = caseStudyInspectDf[caseStudyInspectDf[\"v_pred\"] != - 1]\n",
    "majorPartDf = caseStudyInspectDf"
   ]
  },
  {
   "cell_type": "code",
   "execution_count": 35,
   "metadata": {},
   "outputs": [
    {
     "data": {
      "text/plain": [
       "array(['air_conditioning', 'airbag', 'bonnet', 'bumper_front',\n",
       "       'bumper_rear', 'cooling_fan', 'engine', 'fender_front_lh',\n",
       "       'fender_front_rh', 'fog_lamp_lh', 'fog_lamp_rh', 'front_panel',\n",
       "       'grille', 'headlamp_lh', 'headlamp_rh', 'interior', 'radiator',\n",
       "       'rear_compartment', 'rear_panel', 'rear_quarter_lh',\n",
       "       'rear_quarter_rh', 'tail_lamp_lh', 'tail_lamp_rh', 'undercarriage',\n",
       "       'windscreen_front', 'windscreen_rear'], dtype=object)"
      ]
     },
     "execution_count": 35,
     "metadata": {},
     "output_type": "execute_result"
    }
   ],
   "source": [
    "majorPartDf[\"part\"].unique()"
   ]
  },
  {
   "cell_type": "code",
   "execution_count": 36,
   "metadata": {},
   "outputs": [
    {
     "data": {
      "text/plain": [
       "0.10832025117739404"
      ]
     },
     "execution_count": 36,
     "metadata": {},
     "output_type": "execute_result"
    }
   ],
   "source": [
    "fpr = len(majorPartDf[(majorPartDf[\"pred\"]  == 1) & (majorPartDf[\"gt\"]  == 0) ]) / len(majorPartDf[ (majorPartDf[\"gt\"]  == 0)])\n",
    "fpr"
   ]
  },
  {
   "cell_type": "code",
   "execution_count": 37,
   "metadata": {},
   "outputs": [
    {
     "data": {
      "text/plain": [
       "0.2727272727272727"
      ]
     },
     "execution_count": 37,
     "metadata": {},
     "output_type": "execute_result"
    }
   ],
   "source": [
    "fnr = len(majorPartDf[(majorPartDf[\"pred\"]  == 0) & (majorPartDf[\"gt\"]  == 1) ]) / len(majorPartDf[ (majorPartDf[\"gt\"]  == 1)])\n",
    "fnr"
   ]
  },
  {
   "cell_type": "code",
   "execution_count": 38,
   "metadata": {},
   "outputs": [
    {
     "data": {
      "text/plain": [
       "0.8615384615384616"
      ]
     },
     "execution_count": 38,
     "metadata": {},
     "output_type": "execute_result"
    }
   ],
   "source": [
    "acc = len(majorPartDf[(majorPartDf[\"pred\"]  == majorPartDf[\"gt\"])]) / len(majorPartDf)\n",
    "acc"
   ]
  },
  {
   "cell_type": "code",
   "execution_count": 39,
   "metadata": {},
   "outputs": [
    {
     "name": "stdout",
     "output_type": "stream",
     "text": [
      "0.8615384615384616\n"
     ]
    }
   ],
   "source": [
    "allSubsetAcc = []\n",
    "for caseId in majorPartDf[\"CaseID\"].unique().tolist():\n",
    "    rows = majorPartDf[majorPartDf[\"CaseID\"] == caseId]\n",
    "    correct = rows[rows[\"pred\"] == rows[\"gt\"]]\n",
    "    subset_acc = len(correct) / len(rows)\n",
    "    allSubsetAcc.append(subset_acc)\n",
    "    \n",
    "    # print(subset_acc)\n",
    "print(np.mean(allSubsetAcc))"
   ]
  },
  {
   "cell_type": "code",
   "execution_count": 40,
   "metadata": {},
   "outputs": [],
   "source": [
    "caseStudyInspectDf.to_csv(\"./case_study_result.csv\")"
   ]
  }
 ],
 "metadata": {
  "kernelspec": {
   "display_name": "work",
   "language": "python",
   "name": "python3"
  },
  "language_info": {
   "codemirror_mode": {
    "name": "ipython",
    "version": 3
   },
   "file_extension": ".py",
   "mimetype": "text/x-python",
   "name": "python",
   "nbconvert_exporter": "python",
   "pygments_lexer": "ipython3",
   "version": "3.10.8"
  },
  "orig_nbformat": 4,
  "vscode": {
   "interpreter": {
    "hash": "0e8f33c5a67865e6aadcd232beb3e2644a1f224e780847feacdefa5e710f41d5"
   }
  }
 },
 "nbformat": 4,
 "nbformat_minor": 2
}
