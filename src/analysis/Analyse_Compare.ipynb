{
 "cells": [
  {
   "cell_type": "code",
   "execution_count": 37,
   "metadata": {},
   "outputs": [],
   "source": [
    "import pandas as pd\n",
    "import numpy as np\n",
    "import plotly.graph_objects as go\n",
    "import plotly.express as px\n",
    "\n"
   ]
  },
  {
   "cell_type": "code",
   "execution_count": 38,
   "metadata": {},
   "outputs": [],
   "source": [
    "srcExpDir = \"/home/alextay96/Desktop/all_workspace/new_workspace/DLDataPipeline/data/results/suv_new_labels\"\n",
    "# srcExpDir = \"/home/alextay96/Desktop/all_workspace/new_workspace/DLDataPipeline/data/results/saloon_10k_bce\""
   ]
  },
  {
   "cell_type": "code",
   "execution_count": 39,
   "metadata": {},
   "outputs": [],
   "source": [
    "partCsv= f\"{srcExpDir}/part_perf.csv\"\n",
    "partPerfDf = pd.read_csv(partCsv)\n",
    "caseAccCsv= f\"{srcExpDir}/acc_perf.csv\"\n",
    "caseAccDf = pd.read_csv(caseAccCsv)\n"
   ]
  },
  {
   "cell_type": "code",
   "execution_count": 40,
   "metadata": {},
   "outputs": [
    {
     "data": {
      "text/plain": [
       "['vision_bumper_rear',\n",
       " 'vision_misc',\n",
       " 'vision_rear_compartment',\n",
       " 'vision_rear_panel',\n",
       " 'vision_tail_lamp_lh',\n",
       " 'vision_tail_lamp_rh',\n",
       " 'vision_non_external',\n",
       " 'vision_bonnet',\n",
       " 'vision_bumper_front',\n",
       " 'vision_engine',\n",
       " 'vision_front_panel',\n",
       " 'vision_grille',\n",
       " 'vision_headlamp_lh',\n",
       " 'vision_headlamp_rh',\n",
       " 'vision_windscreen_front',\n",
       " 'vision_door_front_lh',\n",
       " 'vision_door_rear_lh',\n",
       " 'vision_rear_quarter_lh',\n",
       " 'vision_wheel',\n",
       " 'vision_fender_front_lh',\n",
       " 'vision_door_front_rh',\n",
       " 'vision_door_rear_rh',\n",
       " 'vision_rear_quarter_rh',\n",
       " 'vision_fender_front_rh']"
      ]
     },
     "execution_count": 40,
     "metadata": {},
     "output_type": "execute_result"
    }
   ],
   "source": [
    "allParts = [x.replace(\"gt_\", \"\") for x in partPerfDf.columns if \"Unname\" not in x and \"gt_\" in x]\n",
    "allParts"
   ]
  },
  {
   "cell_type": "code",
   "execution_count": 41,
   "metadata": {},
   "outputs": [],
   "source": [
    "partMetrics = []\n",
    "for part in allParts:\n",
    "    gtCol = partPerfDf[f\"gt_{part}\"].values\n",
    "    predCol = partPerfDf[f\"pred_{part}\"].values\n",
    "    # posGt = gtCol[gtCol == 1]\n",
    "    posGtCount = np.count_nonzero(gtCol == 1)\n",
    "    negGtCount = np.count_nonzero(gtCol == 0)\n",
    "    posPredCount =  np.count_nonzero(predCol == 1)\n",
    "    negPredCount =  np.count_nonzero(predCol == 0)\n",
    "\n",
    "    tp =  np.count_nonzero(predCol[gtCol == 1] == 1) / posGtCount\n",
    "    tn = np.count_nonzero(predCol[gtCol == 0] == 0 ) / negGtCount\n",
    "    fp =  np.count_nonzero(predCol[gtCol == 0] == 1) / negGtCount\n",
    "    fn =  np.count_nonzero(predCol[gtCol == 1] == 0) / posGtCount\n",
    "    assert 0.99 < tp + fn < 1.01\n",
    "    assert 0.99 < tn + fp < 1.01\n",
    "    precision = tp / (tp + fp)\n",
    "    recall = tp / (tp + fn)\n",
    "    acc = (tp + tn) / (tp + tn + fp + fn)\n",
    "    f1 = 2 * (precision * recall) / (precision + recall)\n",
    "    partMetrics.append(\n",
    "        {\n",
    "            \"part\" : part,\n",
    "            \"tp\": tp,\n",
    "            \"tn\": tn,\n",
    "            \"fn\": fn,\n",
    "            \"fp\": fp,\n",
    "            \"precision\": precision,\n",
    "            \"recall\": recall,\n",
    "            \"f1\" : f1,\n",
    "            \"acc\" : acc,\n",
    "            \"gt_pos_count\" : posGtCount,\n",
    "            \"gt_neg_count\" : negGtCount,\n",
    "            \"gt_pos_ratio\" : posGtCount / (posGtCount + negGtCount),\n",
    "            \"pred_pos_ratio\" : posPredCount / (posPredCount + negPredCount),\n",
    "\n",
    "\n",
    "        }\n",
    "    )\n",
    "\n",
    "partEvalMetrics = pd.json_normalize(partMetrics)\n",
    "partEvalMetrics.to_csv(f\"{srcExpDir}/part_metrics.csv\")\n",
    "    "
   ]
  },
  {
   "cell_type": "code",
   "execution_count": 42,
   "metadata": {},
   "outputs": [],
   "source": [
    "def genVisMulitlabel(multilabelPartDf, metricName):\n",
    "    fig = go.Figure()\n",
    "    fig.add_trace(go.Bar(\n",
    "        x=multilabelPartDf[\"part\"], y=multilabelPartDf[metricName],\n",
    "        text = multilabelPartDf[metricName]\n",
    "        ))\n",
    "    avgVal = multilabelPartDf[metricName].mean()\n",
    "    fig.add_hline(y=avgVal, line_width=2, line_color=\"red\")\n",
    "    fig.update_layout(\n",
    "        yaxis = dict(\n",
    "            tickmode = 'array',\n",
    "            tickvals = [np.format_float_positional(avgVal, 2), 0.3, 0.8],\n",
    "        )\n",
    "    )\n",
    "    fig.update_layout(\n",
    "            title=go.layout.Title(\n",
    "                text=f\"{metricName}\",\n",
    "                x=0.5\n",
    "            ))\n",
    "    \n",
    "    fig.show()\n",
    "   "
   ]
  },
  {
   "cell_type": "code",
   "execution_count": 43,
   "metadata": {},
   "outputs": [
    {
     "data": {
      "application/vnd.plotly.v1+json": {
       "config": {
        "plotlyServerURL": "https://plot.ly"
       },
       "data": [
        {
         "text": [
          0.593603744149766,
          0.9535585042219542,
          0.6435146443514644,
          0.45119705340699817,
          0.5763779527559055,
          0.4520123839009288,
          0.3697033898305085,
          0.6544293695131684,
          0.7849552572706935,
          0.5937633489961555,
          0.5029880478087649,
          0.3736493551760195,
          0.7174721189591078,
          0.5892494929006086,
          0.4548611111111111,
          0.49059561128526646,
          0.49742268041237114,
          0.39172749391727496,
          0.6127033307513555,
          0.48834853090172237,
          0.5308219178082192,
          0.6840490797546013,
          0.4156769596199525,
          0.3599640933572711
         ],
         "type": "bar",
         "x": [
          "vision_bumper_rear",
          "vision_misc",
          "vision_rear_compartment",
          "vision_rear_panel",
          "vision_tail_lamp_lh",
          "vision_tail_lamp_rh",
          "vision_non_external",
          "vision_bonnet",
          "vision_bumper_front",
          "vision_engine",
          "vision_front_panel",
          "vision_grille",
          "vision_headlamp_lh",
          "vision_headlamp_rh",
          "vision_windscreen_front",
          "vision_door_front_lh",
          "vision_door_rear_lh",
          "vision_rear_quarter_lh",
          "vision_wheel",
          "vision_fender_front_lh",
          "vision_door_front_rh",
          "vision_door_rear_rh",
          "vision_rear_quarter_rh",
          "vision_fender_front_rh"
         ],
         "y": [
          0.593603744149766,
          0.9535585042219542,
          0.6435146443514644,
          0.45119705340699817,
          0.5763779527559055,
          0.4520123839009288,
          0.3697033898305085,
          0.6544293695131684,
          0.7849552572706935,
          0.5937633489961555,
          0.5029880478087649,
          0.3736493551760195,
          0.7174721189591078,
          0.5892494929006086,
          0.4548611111111111,
          0.49059561128526646,
          0.49742268041237114,
          0.39172749391727496,
          0.6127033307513555,
          0.48834853090172237,
          0.5308219178082192,
          0.6840490797546013,
          0.4156769596199525,
          0.3599640933572711
         ]
        }
       ],
       "layout": {
        "shapes": [
         {
          "line": {
           "color": "red",
           "width": 2
          },
          "type": "line",
          "x0": 0,
          "x1": 1,
          "xref": "x domain",
          "y0": 0.5492768946733829,
          "y1": 0.5492768946733829,
          "yref": "y"
         }
        ],
        "template": {
         "data": {
          "bar": [
           {
            "error_x": {
             "color": "#2a3f5f"
            },
            "error_y": {
             "color": "#2a3f5f"
            },
            "marker": {
             "line": {
              "color": "#E5ECF6",
              "width": 0.5
             },
             "pattern": {
              "fillmode": "overlay",
              "size": 10,
              "solidity": 0.2
             }
            },
            "type": "bar"
           }
          ],
          "barpolar": [
           {
            "marker": {
             "line": {
              "color": "#E5ECF6",
              "width": 0.5
             },
             "pattern": {
              "fillmode": "overlay",
              "size": 10,
              "solidity": 0.2
             }
            },
            "type": "barpolar"
           }
          ],
          "carpet": [
           {
            "aaxis": {
             "endlinecolor": "#2a3f5f",
             "gridcolor": "white",
             "linecolor": "white",
             "minorgridcolor": "white",
             "startlinecolor": "#2a3f5f"
            },
            "baxis": {
             "endlinecolor": "#2a3f5f",
             "gridcolor": "white",
             "linecolor": "white",
             "minorgridcolor": "white",
             "startlinecolor": "#2a3f5f"
            },
            "type": "carpet"
           }
          ],
          "choropleth": [
           {
            "colorbar": {
             "outlinewidth": 0,
             "ticks": ""
            },
            "type": "choropleth"
           }
          ],
          "contour": [
           {
            "colorbar": {
             "outlinewidth": 0,
             "ticks": ""
            },
            "colorscale": [
             [
              0,
              "#0d0887"
             ],
             [
              0.1111111111111111,
              "#46039f"
             ],
             [
              0.2222222222222222,
              "#7201a8"
             ],
             [
              0.3333333333333333,
              "#9c179e"
             ],
             [
              0.4444444444444444,
              "#bd3786"
             ],
             [
              0.5555555555555556,
              "#d8576b"
             ],
             [
              0.6666666666666666,
              "#ed7953"
             ],
             [
              0.7777777777777778,
              "#fb9f3a"
             ],
             [
              0.8888888888888888,
              "#fdca26"
             ],
             [
              1,
              "#f0f921"
             ]
            ],
            "type": "contour"
           }
          ],
          "contourcarpet": [
           {
            "colorbar": {
             "outlinewidth": 0,
             "ticks": ""
            },
            "type": "contourcarpet"
           }
          ],
          "heatmap": [
           {
            "colorbar": {
             "outlinewidth": 0,
             "ticks": ""
            },
            "colorscale": [
             [
              0,
              "#0d0887"
             ],
             [
              0.1111111111111111,
              "#46039f"
             ],
             [
              0.2222222222222222,
              "#7201a8"
             ],
             [
              0.3333333333333333,
              "#9c179e"
             ],
             [
              0.4444444444444444,
              "#bd3786"
             ],
             [
              0.5555555555555556,
              "#d8576b"
             ],
             [
              0.6666666666666666,
              "#ed7953"
             ],
             [
              0.7777777777777778,
              "#fb9f3a"
             ],
             [
              0.8888888888888888,
              "#fdca26"
             ],
             [
              1,
              "#f0f921"
             ]
            ],
            "type": "heatmap"
           }
          ],
          "heatmapgl": [
           {
            "colorbar": {
             "outlinewidth": 0,
             "ticks": ""
            },
            "colorscale": [
             [
              0,
              "#0d0887"
             ],
             [
              0.1111111111111111,
              "#46039f"
             ],
             [
              0.2222222222222222,
              "#7201a8"
             ],
             [
              0.3333333333333333,
              "#9c179e"
             ],
             [
              0.4444444444444444,
              "#bd3786"
             ],
             [
              0.5555555555555556,
              "#d8576b"
             ],
             [
              0.6666666666666666,
              "#ed7953"
             ],
             [
              0.7777777777777778,
              "#fb9f3a"
             ],
             [
              0.8888888888888888,
              "#fdca26"
             ],
             [
              1,
              "#f0f921"
             ]
            ],
            "type": "heatmapgl"
           }
          ],
          "histogram": [
           {
            "marker": {
             "pattern": {
              "fillmode": "overlay",
              "size": 10,
              "solidity": 0.2
             }
            },
            "type": "histogram"
           }
          ],
          "histogram2d": [
           {
            "colorbar": {
             "outlinewidth": 0,
             "ticks": ""
            },
            "colorscale": [
             [
              0,
              "#0d0887"
             ],
             [
              0.1111111111111111,
              "#46039f"
             ],
             [
              0.2222222222222222,
              "#7201a8"
             ],
             [
              0.3333333333333333,
              "#9c179e"
             ],
             [
              0.4444444444444444,
              "#bd3786"
             ],
             [
              0.5555555555555556,
              "#d8576b"
             ],
             [
              0.6666666666666666,
              "#ed7953"
             ],
             [
              0.7777777777777778,
              "#fb9f3a"
             ],
             [
              0.8888888888888888,
              "#fdca26"
             ],
             [
              1,
              "#f0f921"
             ]
            ],
            "type": "histogram2d"
           }
          ],
          "histogram2dcontour": [
           {
            "colorbar": {
             "outlinewidth": 0,
             "ticks": ""
            },
            "colorscale": [
             [
              0,
              "#0d0887"
             ],
             [
              0.1111111111111111,
              "#46039f"
             ],
             [
              0.2222222222222222,
              "#7201a8"
             ],
             [
              0.3333333333333333,
              "#9c179e"
             ],
             [
              0.4444444444444444,
              "#bd3786"
             ],
             [
              0.5555555555555556,
              "#d8576b"
             ],
             [
              0.6666666666666666,
              "#ed7953"
             ],
             [
              0.7777777777777778,
              "#fb9f3a"
             ],
             [
              0.8888888888888888,
              "#fdca26"
             ],
             [
              1,
              "#f0f921"
             ]
            ],
            "type": "histogram2dcontour"
           }
          ],
          "mesh3d": [
           {
            "colorbar": {
             "outlinewidth": 0,
             "ticks": ""
            },
            "type": "mesh3d"
           }
          ],
          "parcoords": [
           {
            "line": {
             "colorbar": {
              "outlinewidth": 0,
              "ticks": ""
             }
            },
            "type": "parcoords"
           }
          ],
          "pie": [
           {
            "automargin": true,
            "type": "pie"
           }
          ],
          "scatter": [
           {
            "fillpattern": {
             "fillmode": "overlay",
             "size": 10,
             "solidity": 0.2
            },
            "type": "scatter"
           }
          ],
          "scatter3d": [
           {
            "line": {
             "colorbar": {
              "outlinewidth": 0,
              "ticks": ""
             }
            },
            "marker": {
             "colorbar": {
              "outlinewidth": 0,
              "ticks": ""
             }
            },
            "type": "scatter3d"
           }
          ],
          "scattercarpet": [
           {
            "marker": {
             "colorbar": {
              "outlinewidth": 0,
              "ticks": ""
             }
            },
            "type": "scattercarpet"
           }
          ],
          "scattergeo": [
           {
            "marker": {
             "colorbar": {
              "outlinewidth": 0,
              "ticks": ""
             }
            },
            "type": "scattergeo"
           }
          ],
          "scattergl": [
           {
            "marker": {
             "colorbar": {
              "outlinewidth": 0,
              "ticks": ""
             }
            },
            "type": "scattergl"
           }
          ],
          "scattermapbox": [
           {
            "marker": {
             "colorbar": {
              "outlinewidth": 0,
              "ticks": ""
             }
            },
            "type": "scattermapbox"
           }
          ],
          "scatterpolar": [
           {
            "marker": {
             "colorbar": {
              "outlinewidth": 0,
              "ticks": ""
             }
            },
            "type": "scatterpolar"
           }
          ],
          "scatterpolargl": [
           {
            "marker": {
             "colorbar": {
              "outlinewidth": 0,
              "ticks": ""
             }
            },
            "type": "scatterpolargl"
           }
          ],
          "scatterternary": [
           {
            "marker": {
             "colorbar": {
              "outlinewidth": 0,
              "ticks": ""
             }
            },
            "type": "scatterternary"
           }
          ],
          "surface": [
           {
            "colorbar": {
             "outlinewidth": 0,
             "ticks": ""
            },
            "colorscale": [
             [
              0,
              "#0d0887"
             ],
             [
              0.1111111111111111,
              "#46039f"
             ],
             [
              0.2222222222222222,
              "#7201a8"
             ],
             [
              0.3333333333333333,
              "#9c179e"
             ],
             [
              0.4444444444444444,
              "#bd3786"
             ],
             [
              0.5555555555555556,
              "#d8576b"
             ],
             [
              0.6666666666666666,
              "#ed7953"
             ],
             [
              0.7777777777777778,
              "#fb9f3a"
             ],
             [
              0.8888888888888888,
              "#fdca26"
             ],
             [
              1,
              "#f0f921"
             ]
            ],
            "type": "surface"
           }
          ],
          "table": [
           {
            "cells": {
             "fill": {
              "color": "#EBF0F8"
             },
             "line": {
              "color": "white"
             }
            },
            "header": {
             "fill": {
              "color": "#C8D4E3"
             },
             "line": {
              "color": "white"
             }
            },
            "type": "table"
           }
          ]
         },
         "layout": {
          "annotationdefaults": {
           "arrowcolor": "#2a3f5f",
           "arrowhead": 0,
           "arrowwidth": 1
          },
          "autotypenumbers": "strict",
          "coloraxis": {
           "colorbar": {
            "outlinewidth": 0,
            "ticks": ""
           }
          },
          "colorscale": {
           "diverging": [
            [
             0,
             "#8e0152"
            ],
            [
             0.1,
             "#c51b7d"
            ],
            [
             0.2,
             "#de77ae"
            ],
            [
             0.3,
             "#f1b6da"
            ],
            [
             0.4,
             "#fde0ef"
            ],
            [
             0.5,
             "#f7f7f7"
            ],
            [
             0.6,
             "#e6f5d0"
            ],
            [
             0.7,
             "#b8e186"
            ],
            [
             0.8,
             "#7fbc41"
            ],
            [
             0.9,
             "#4d9221"
            ],
            [
             1,
             "#276419"
            ]
           ],
           "sequential": [
            [
             0,
             "#0d0887"
            ],
            [
             0.1111111111111111,
             "#46039f"
            ],
            [
             0.2222222222222222,
             "#7201a8"
            ],
            [
             0.3333333333333333,
             "#9c179e"
            ],
            [
             0.4444444444444444,
             "#bd3786"
            ],
            [
             0.5555555555555556,
             "#d8576b"
            ],
            [
             0.6666666666666666,
             "#ed7953"
            ],
            [
             0.7777777777777778,
             "#fb9f3a"
            ],
            [
             0.8888888888888888,
             "#fdca26"
            ],
            [
             1,
             "#f0f921"
            ]
           ],
           "sequentialminus": [
            [
             0,
             "#0d0887"
            ],
            [
             0.1111111111111111,
             "#46039f"
            ],
            [
             0.2222222222222222,
             "#7201a8"
            ],
            [
             0.3333333333333333,
             "#9c179e"
            ],
            [
             0.4444444444444444,
             "#bd3786"
            ],
            [
             0.5555555555555556,
             "#d8576b"
            ],
            [
             0.6666666666666666,
             "#ed7953"
            ],
            [
             0.7777777777777778,
             "#fb9f3a"
            ],
            [
             0.8888888888888888,
             "#fdca26"
            ],
            [
             1,
             "#f0f921"
            ]
           ]
          },
          "colorway": [
           "#636efa",
           "#EF553B",
           "#00cc96",
           "#ab63fa",
           "#FFA15A",
           "#19d3f3",
           "#FF6692",
           "#B6E880",
           "#FF97FF",
           "#FECB52"
          ],
          "font": {
           "color": "#2a3f5f"
          },
          "geo": {
           "bgcolor": "white",
           "lakecolor": "white",
           "landcolor": "#E5ECF6",
           "showlakes": true,
           "showland": true,
           "subunitcolor": "white"
          },
          "hoverlabel": {
           "align": "left"
          },
          "hovermode": "closest",
          "mapbox": {
           "style": "light"
          },
          "paper_bgcolor": "white",
          "plot_bgcolor": "#E5ECF6",
          "polar": {
           "angularaxis": {
            "gridcolor": "white",
            "linecolor": "white",
            "ticks": ""
           },
           "bgcolor": "#E5ECF6",
           "radialaxis": {
            "gridcolor": "white",
            "linecolor": "white",
            "ticks": ""
           }
          },
          "scene": {
           "xaxis": {
            "backgroundcolor": "#E5ECF6",
            "gridcolor": "white",
            "gridwidth": 2,
            "linecolor": "white",
            "showbackground": true,
            "ticks": "",
            "zerolinecolor": "white"
           },
           "yaxis": {
            "backgroundcolor": "#E5ECF6",
            "gridcolor": "white",
            "gridwidth": 2,
            "linecolor": "white",
            "showbackground": true,
            "ticks": "",
            "zerolinecolor": "white"
           },
           "zaxis": {
            "backgroundcolor": "#E5ECF6",
            "gridcolor": "white",
            "gridwidth": 2,
            "linecolor": "white",
            "showbackground": true,
            "ticks": "",
            "zerolinecolor": "white"
           }
          },
          "shapedefaults": {
           "line": {
            "color": "#2a3f5f"
           }
          },
          "ternary": {
           "aaxis": {
            "gridcolor": "white",
            "linecolor": "white",
            "ticks": ""
           },
           "baxis": {
            "gridcolor": "white",
            "linecolor": "white",
            "ticks": ""
           },
           "bgcolor": "#E5ECF6",
           "caxis": {
            "gridcolor": "white",
            "linecolor": "white",
            "ticks": ""
           }
          },
          "title": {
           "x": 0.05
          },
          "xaxis": {
           "automargin": true,
           "gridcolor": "white",
           "linecolor": "white",
           "ticks": "",
           "title": {
            "standoff": 15
           },
           "zerolinecolor": "white",
           "zerolinewidth": 2
          },
          "yaxis": {
           "automargin": true,
           "gridcolor": "white",
           "linecolor": "white",
           "ticks": "",
           "title": {
            "standoff": 15
           },
           "zerolinecolor": "white",
           "zerolinewidth": 2
          }
         }
        },
        "title": {
         "text": "tp",
         "x": 0.5
        },
        "yaxis": {
         "tickmode": "array",
         "tickvals": [
          "0.55",
          0.3,
          0.8
         ]
        }
       }
      }
     },
     "metadata": {},
     "output_type": "display_data"
    }
   ],
   "source": [
    "genVisMulitlabel(partEvalMetrics, \"tp\")"
   ]
  },
  {
   "cell_type": "code",
   "execution_count": 44,
   "metadata": {},
   "outputs": [
    {
     "data": {
      "application/vnd.plotly.v1+json": {
       "config": {
        "plotlyServerURL": "https://plot.ly"
       },
       "data": [
        {
         "text": [
          0.7209521247982786,
          0.13016157989228008,
          0.9130039750141965,
          0.9627788939409961,
          0.9028296849973305,
          0.8994013256360915,
          0.9355123674911661,
          0.8803018177660912,
          0.4726027397260274,
          0.7951429690560126,
          0.934415295686972,
          0.8342448464450989,
          0.8190218060859924,
          0.8574987543597409,
          0.9539185639229422,
          0.9098483230079043,
          0.8458578542326844,
          0.9813327771404735,
          0.7602480192903892,
          0.9365361145012759,
          0.8799915038232795,
          0.6865440035468854,
          0.9780770435327278,
          0.9603871258158901
         ],
         "type": "bar",
         "x": [
          "vision_bumper_rear",
          "vision_misc",
          "vision_rear_compartment",
          "vision_rear_panel",
          "vision_tail_lamp_lh",
          "vision_tail_lamp_rh",
          "vision_non_external",
          "vision_bonnet",
          "vision_bumper_front",
          "vision_engine",
          "vision_front_panel",
          "vision_grille",
          "vision_headlamp_lh",
          "vision_headlamp_rh",
          "vision_windscreen_front",
          "vision_door_front_lh",
          "vision_door_rear_lh",
          "vision_rear_quarter_lh",
          "vision_wheel",
          "vision_fender_front_lh",
          "vision_door_front_rh",
          "vision_door_rear_rh",
          "vision_rear_quarter_rh",
          "vision_fender_front_rh"
         ],
         "y": [
          0.7209521247982786,
          0.13016157989228008,
          0.9130039750141965,
          0.9627788939409961,
          0.9028296849973305,
          0.8994013256360915,
          0.9355123674911661,
          0.8803018177660912,
          0.4726027397260274,
          0.7951429690560126,
          0.934415295686972,
          0.8342448464450989,
          0.8190218060859924,
          0.8574987543597409,
          0.9539185639229422,
          0.9098483230079043,
          0.8458578542326844,
          0.9813327771404735,
          0.7602480192903892,
          0.9365361145012759,
          0.8799915038232795,
          0.6865440035468854,
          0.9780770435327278,
          0.9603871258158901
         ]
        }
       ],
       "layout": {
        "shapes": [
         {
          "line": {
           "color": "red",
           "width": 2
          },
          "type": "line",
          "x0": 0,
          "x1": 1,
          "xref": "x domain",
          "y0": 0.831275396237947,
          "y1": 0.831275396237947,
          "yref": "y"
         }
        ],
        "template": {
         "data": {
          "bar": [
           {
            "error_x": {
             "color": "#2a3f5f"
            },
            "error_y": {
             "color": "#2a3f5f"
            },
            "marker": {
             "line": {
              "color": "#E5ECF6",
              "width": 0.5
             },
             "pattern": {
              "fillmode": "overlay",
              "size": 10,
              "solidity": 0.2
             }
            },
            "type": "bar"
           }
          ],
          "barpolar": [
           {
            "marker": {
             "line": {
              "color": "#E5ECF6",
              "width": 0.5
             },
             "pattern": {
              "fillmode": "overlay",
              "size": 10,
              "solidity": 0.2
             }
            },
            "type": "barpolar"
           }
          ],
          "carpet": [
           {
            "aaxis": {
             "endlinecolor": "#2a3f5f",
             "gridcolor": "white",
             "linecolor": "white",
             "minorgridcolor": "white",
             "startlinecolor": "#2a3f5f"
            },
            "baxis": {
             "endlinecolor": "#2a3f5f",
             "gridcolor": "white",
             "linecolor": "white",
             "minorgridcolor": "white",
             "startlinecolor": "#2a3f5f"
            },
            "type": "carpet"
           }
          ],
          "choropleth": [
           {
            "colorbar": {
             "outlinewidth": 0,
             "ticks": ""
            },
            "type": "choropleth"
           }
          ],
          "contour": [
           {
            "colorbar": {
             "outlinewidth": 0,
             "ticks": ""
            },
            "colorscale": [
             [
              0,
              "#0d0887"
             ],
             [
              0.1111111111111111,
              "#46039f"
             ],
             [
              0.2222222222222222,
              "#7201a8"
             ],
             [
              0.3333333333333333,
              "#9c179e"
             ],
             [
              0.4444444444444444,
              "#bd3786"
             ],
             [
              0.5555555555555556,
              "#d8576b"
             ],
             [
              0.6666666666666666,
              "#ed7953"
             ],
             [
              0.7777777777777778,
              "#fb9f3a"
             ],
             [
              0.8888888888888888,
              "#fdca26"
             ],
             [
              1,
              "#f0f921"
             ]
            ],
            "type": "contour"
           }
          ],
          "contourcarpet": [
           {
            "colorbar": {
             "outlinewidth": 0,
             "ticks": ""
            },
            "type": "contourcarpet"
           }
          ],
          "heatmap": [
           {
            "colorbar": {
             "outlinewidth": 0,
             "ticks": ""
            },
            "colorscale": [
             [
              0,
              "#0d0887"
             ],
             [
              0.1111111111111111,
              "#46039f"
             ],
             [
              0.2222222222222222,
              "#7201a8"
             ],
             [
              0.3333333333333333,
              "#9c179e"
             ],
             [
              0.4444444444444444,
              "#bd3786"
             ],
             [
              0.5555555555555556,
              "#d8576b"
             ],
             [
              0.6666666666666666,
              "#ed7953"
             ],
             [
              0.7777777777777778,
              "#fb9f3a"
             ],
             [
              0.8888888888888888,
              "#fdca26"
             ],
             [
              1,
              "#f0f921"
             ]
            ],
            "type": "heatmap"
           }
          ],
          "heatmapgl": [
           {
            "colorbar": {
             "outlinewidth": 0,
             "ticks": ""
            },
            "colorscale": [
             [
              0,
              "#0d0887"
             ],
             [
              0.1111111111111111,
              "#46039f"
             ],
             [
              0.2222222222222222,
              "#7201a8"
             ],
             [
              0.3333333333333333,
              "#9c179e"
             ],
             [
              0.4444444444444444,
              "#bd3786"
             ],
             [
              0.5555555555555556,
              "#d8576b"
             ],
             [
              0.6666666666666666,
              "#ed7953"
             ],
             [
              0.7777777777777778,
              "#fb9f3a"
             ],
             [
              0.8888888888888888,
              "#fdca26"
             ],
             [
              1,
              "#f0f921"
             ]
            ],
            "type": "heatmapgl"
           }
          ],
          "histogram": [
           {
            "marker": {
             "pattern": {
              "fillmode": "overlay",
              "size": 10,
              "solidity": 0.2
             }
            },
            "type": "histogram"
           }
          ],
          "histogram2d": [
           {
            "colorbar": {
             "outlinewidth": 0,
             "ticks": ""
            },
            "colorscale": [
             [
              0,
              "#0d0887"
             ],
             [
              0.1111111111111111,
              "#46039f"
             ],
             [
              0.2222222222222222,
              "#7201a8"
             ],
             [
              0.3333333333333333,
              "#9c179e"
             ],
             [
              0.4444444444444444,
              "#bd3786"
             ],
             [
              0.5555555555555556,
              "#d8576b"
             ],
             [
              0.6666666666666666,
              "#ed7953"
             ],
             [
              0.7777777777777778,
              "#fb9f3a"
             ],
             [
              0.8888888888888888,
              "#fdca26"
             ],
             [
              1,
              "#f0f921"
             ]
            ],
            "type": "histogram2d"
           }
          ],
          "histogram2dcontour": [
           {
            "colorbar": {
             "outlinewidth": 0,
             "ticks": ""
            },
            "colorscale": [
             [
              0,
              "#0d0887"
             ],
             [
              0.1111111111111111,
              "#46039f"
             ],
             [
              0.2222222222222222,
              "#7201a8"
             ],
             [
              0.3333333333333333,
              "#9c179e"
             ],
             [
              0.4444444444444444,
              "#bd3786"
             ],
             [
              0.5555555555555556,
              "#d8576b"
             ],
             [
              0.6666666666666666,
              "#ed7953"
             ],
             [
              0.7777777777777778,
              "#fb9f3a"
             ],
             [
              0.8888888888888888,
              "#fdca26"
             ],
             [
              1,
              "#f0f921"
             ]
            ],
            "type": "histogram2dcontour"
           }
          ],
          "mesh3d": [
           {
            "colorbar": {
             "outlinewidth": 0,
             "ticks": ""
            },
            "type": "mesh3d"
           }
          ],
          "parcoords": [
           {
            "line": {
             "colorbar": {
              "outlinewidth": 0,
              "ticks": ""
             }
            },
            "type": "parcoords"
           }
          ],
          "pie": [
           {
            "automargin": true,
            "type": "pie"
           }
          ],
          "scatter": [
           {
            "fillpattern": {
             "fillmode": "overlay",
             "size": 10,
             "solidity": 0.2
            },
            "type": "scatter"
           }
          ],
          "scatter3d": [
           {
            "line": {
             "colorbar": {
              "outlinewidth": 0,
              "ticks": ""
             }
            },
            "marker": {
             "colorbar": {
              "outlinewidth": 0,
              "ticks": ""
             }
            },
            "type": "scatter3d"
           }
          ],
          "scattercarpet": [
           {
            "marker": {
             "colorbar": {
              "outlinewidth": 0,
              "ticks": ""
             }
            },
            "type": "scattercarpet"
           }
          ],
          "scattergeo": [
           {
            "marker": {
             "colorbar": {
              "outlinewidth": 0,
              "ticks": ""
             }
            },
            "type": "scattergeo"
           }
          ],
          "scattergl": [
           {
            "marker": {
             "colorbar": {
              "outlinewidth": 0,
              "ticks": ""
             }
            },
            "type": "scattergl"
           }
          ],
          "scattermapbox": [
           {
            "marker": {
             "colorbar": {
              "outlinewidth": 0,
              "ticks": ""
             }
            },
            "type": "scattermapbox"
           }
          ],
          "scatterpolar": [
           {
            "marker": {
             "colorbar": {
              "outlinewidth": 0,
              "ticks": ""
             }
            },
            "type": "scatterpolar"
           }
          ],
          "scatterpolargl": [
           {
            "marker": {
             "colorbar": {
              "outlinewidth": 0,
              "ticks": ""
             }
            },
            "type": "scatterpolargl"
           }
          ],
          "scatterternary": [
           {
            "marker": {
             "colorbar": {
              "outlinewidth": 0,
              "ticks": ""
             }
            },
            "type": "scatterternary"
           }
          ],
          "surface": [
           {
            "colorbar": {
             "outlinewidth": 0,
             "ticks": ""
            },
            "colorscale": [
             [
              0,
              "#0d0887"
             ],
             [
              0.1111111111111111,
              "#46039f"
             ],
             [
              0.2222222222222222,
              "#7201a8"
             ],
             [
              0.3333333333333333,
              "#9c179e"
             ],
             [
              0.4444444444444444,
              "#bd3786"
             ],
             [
              0.5555555555555556,
              "#d8576b"
             ],
             [
              0.6666666666666666,
              "#ed7953"
             ],
             [
              0.7777777777777778,
              "#fb9f3a"
             ],
             [
              0.8888888888888888,
              "#fdca26"
             ],
             [
              1,
              "#f0f921"
             ]
            ],
            "type": "surface"
           }
          ],
          "table": [
           {
            "cells": {
             "fill": {
              "color": "#EBF0F8"
             },
             "line": {
              "color": "white"
             }
            },
            "header": {
             "fill": {
              "color": "#C8D4E3"
             },
             "line": {
              "color": "white"
             }
            },
            "type": "table"
           }
          ]
         },
         "layout": {
          "annotationdefaults": {
           "arrowcolor": "#2a3f5f",
           "arrowhead": 0,
           "arrowwidth": 1
          },
          "autotypenumbers": "strict",
          "coloraxis": {
           "colorbar": {
            "outlinewidth": 0,
            "ticks": ""
           }
          },
          "colorscale": {
           "diverging": [
            [
             0,
             "#8e0152"
            ],
            [
             0.1,
             "#c51b7d"
            ],
            [
             0.2,
             "#de77ae"
            ],
            [
             0.3,
             "#f1b6da"
            ],
            [
             0.4,
             "#fde0ef"
            ],
            [
             0.5,
             "#f7f7f7"
            ],
            [
             0.6,
             "#e6f5d0"
            ],
            [
             0.7,
             "#b8e186"
            ],
            [
             0.8,
             "#7fbc41"
            ],
            [
             0.9,
             "#4d9221"
            ],
            [
             1,
             "#276419"
            ]
           ],
           "sequential": [
            [
             0,
             "#0d0887"
            ],
            [
             0.1111111111111111,
             "#46039f"
            ],
            [
             0.2222222222222222,
             "#7201a8"
            ],
            [
             0.3333333333333333,
             "#9c179e"
            ],
            [
             0.4444444444444444,
             "#bd3786"
            ],
            [
             0.5555555555555556,
             "#d8576b"
            ],
            [
             0.6666666666666666,
             "#ed7953"
            ],
            [
             0.7777777777777778,
             "#fb9f3a"
            ],
            [
             0.8888888888888888,
             "#fdca26"
            ],
            [
             1,
             "#f0f921"
            ]
           ],
           "sequentialminus": [
            [
             0,
             "#0d0887"
            ],
            [
             0.1111111111111111,
             "#46039f"
            ],
            [
             0.2222222222222222,
             "#7201a8"
            ],
            [
             0.3333333333333333,
             "#9c179e"
            ],
            [
             0.4444444444444444,
             "#bd3786"
            ],
            [
             0.5555555555555556,
             "#d8576b"
            ],
            [
             0.6666666666666666,
             "#ed7953"
            ],
            [
             0.7777777777777778,
             "#fb9f3a"
            ],
            [
             0.8888888888888888,
             "#fdca26"
            ],
            [
             1,
             "#f0f921"
            ]
           ]
          },
          "colorway": [
           "#636efa",
           "#EF553B",
           "#00cc96",
           "#ab63fa",
           "#FFA15A",
           "#19d3f3",
           "#FF6692",
           "#B6E880",
           "#FF97FF",
           "#FECB52"
          ],
          "font": {
           "color": "#2a3f5f"
          },
          "geo": {
           "bgcolor": "white",
           "lakecolor": "white",
           "landcolor": "#E5ECF6",
           "showlakes": true,
           "showland": true,
           "subunitcolor": "white"
          },
          "hoverlabel": {
           "align": "left"
          },
          "hovermode": "closest",
          "mapbox": {
           "style": "light"
          },
          "paper_bgcolor": "white",
          "plot_bgcolor": "#E5ECF6",
          "polar": {
           "angularaxis": {
            "gridcolor": "white",
            "linecolor": "white",
            "ticks": ""
           },
           "bgcolor": "#E5ECF6",
           "radialaxis": {
            "gridcolor": "white",
            "linecolor": "white",
            "ticks": ""
           }
          },
          "scene": {
           "xaxis": {
            "backgroundcolor": "#E5ECF6",
            "gridcolor": "white",
            "gridwidth": 2,
            "linecolor": "white",
            "showbackground": true,
            "ticks": "",
            "zerolinecolor": "white"
           },
           "yaxis": {
            "backgroundcolor": "#E5ECF6",
            "gridcolor": "white",
            "gridwidth": 2,
            "linecolor": "white",
            "showbackground": true,
            "ticks": "",
            "zerolinecolor": "white"
           },
           "zaxis": {
            "backgroundcolor": "#E5ECF6",
            "gridcolor": "white",
            "gridwidth": 2,
            "linecolor": "white",
            "showbackground": true,
            "ticks": "",
            "zerolinecolor": "white"
           }
          },
          "shapedefaults": {
           "line": {
            "color": "#2a3f5f"
           }
          },
          "ternary": {
           "aaxis": {
            "gridcolor": "white",
            "linecolor": "white",
            "ticks": ""
           },
           "baxis": {
            "gridcolor": "white",
            "linecolor": "white",
            "ticks": ""
           },
           "bgcolor": "#E5ECF6",
           "caxis": {
            "gridcolor": "white",
            "linecolor": "white",
            "ticks": ""
           }
          },
          "title": {
           "x": 0.05
          },
          "xaxis": {
           "automargin": true,
           "gridcolor": "white",
           "linecolor": "white",
           "ticks": "",
           "title": {
            "standoff": 15
           },
           "zerolinecolor": "white",
           "zerolinewidth": 2
          },
          "yaxis": {
           "automargin": true,
           "gridcolor": "white",
           "linecolor": "white",
           "ticks": "",
           "title": {
            "standoff": 15
           },
           "zerolinecolor": "white",
           "zerolinewidth": 2
          }
         }
        },
        "title": {
         "text": "tn",
         "x": 0.5
        },
        "yaxis": {
         "tickmode": "array",
         "tickvals": [
          "0.83",
          0.3,
          0.8
         ]
        }
       }
      }
     },
     "metadata": {},
     "output_type": "display_data"
    }
   ],
   "source": [
    "genVisMulitlabel(partEvalMetrics, \"tn\")"
   ]
  },
  {
   "cell_type": "code",
   "execution_count": 45,
   "metadata": {},
   "outputs": [
    {
     "data": {
      "application/vnd.plotly.v1+json": {
       "config": {
        "plotlyServerURL": "https://plot.ly"
       },
       "data": [
        {
         "text": [
          0.6572779344740223,
          0.5418600420571171,
          0.7782593096828305,
          0.7069879736739971,
          0.7396038188766181,
          0.6757068547685101,
          0.6526078786608372,
          0.7673655936396299,
          0.6287789984983605,
          0.6944531590260841,
          0.7187016717478685,
          0.6039471008105592,
          0.7682469625225501,
          0.7233741236301747,
          0.7043898375170267,
          0.7002219671465854,
          0.6716402673225278,
          0.6865301355288742,
          0.6864756750208724,
          0.7124423227014991,
          0.7054067108157493,
          0.6852965416507434,
          0.6968770015763402,
          0.6601756095865806
         ],
         "type": "bar",
         "x": [
          "vision_bumper_rear",
          "vision_misc",
          "vision_rear_compartment",
          "vision_rear_panel",
          "vision_tail_lamp_lh",
          "vision_tail_lamp_rh",
          "vision_non_external",
          "vision_bonnet",
          "vision_bumper_front",
          "vision_engine",
          "vision_front_panel",
          "vision_grille",
          "vision_headlamp_lh",
          "vision_headlamp_rh",
          "vision_windscreen_front",
          "vision_door_front_lh",
          "vision_door_rear_lh",
          "vision_rear_quarter_lh",
          "vision_wheel",
          "vision_fender_front_lh",
          "vision_door_front_rh",
          "vision_door_rear_rh",
          "vision_rear_quarter_rh",
          "vision_fender_front_rh"
         ],
         "y": [
          0.6572779344740223,
          0.5418600420571171,
          0.7782593096828305,
          0.7069879736739971,
          0.7396038188766181,
          0.6757068547685101,
          0.6526078786608372,
          0.7673655936396299,
          0.6287789984983605,
          0.6944531590260841,
          0.7187016717478685,
          0.6039471008105592,
          0.7682469625225501,
          0.7233741236301747,
          0.7043898375170267,
          0.7002219671465854,
          0.6716402673225278,
          0.6865301355288742,
          0.6864756750208724,
          0.7124423227014991,
          0.7054067108157493,
          0.6852965416507434,
          0.6968770015763402,
          0.6601756095865806
         ]
        }
       ],
       "layout": {
        "shapes": [
         {
          "line": {
           "color": "red",
           "width": 2
          },
          "type": "line",
          "x0": 0,
          "x1": 1,
          "xref": "x domain",
          "y0": 0.6902761454556648,
          "y1": 0.6902761454556648,
          "yref": "y"
         }
        ],
        "template": {
         "data": {
          "bar": [
           {
            "error_x": {
             "color": "#2a3f5f"
            },
            "error_y": {
             "color": "#2a3f5f"
            },
            "marker": {
             "line": {
              "color": "#E5ECF6",
              "width": 0.5
             },
             "pattern": {
              "fillmode": "overlay",
              "size": 10,
              "solidity": 0.2
             }
            },
            "type": "bar"
           }
          ],
          "barpolar": [
           {
            "marker": {
             "line": {
              "color": "#E5ECF6",
              "width": 0.5
             },
             "pattern": {
              "fillmode": "overlay",
              "size": 10,
              "solidity": 0.2
             }
            },
            "type": "barpolar"
           }
          ],
          "carpet": [
           {
            "aaxis": {
             "endlinecolor": "#2a3f5f",
             "gridcolor": "white",
             "linecolor": "white",
             "minorgridcolor": "white",
             "startlinecolor": "#2a3f5f"
            },
            "baxis": {
             "endlinecolor": "#2a3f5f",
             "gridcolor": "white",
             "linecolor": "white",
             "minorgridcolor": "white",
             "startlinecolor": "#2a3f5f"
            },
            "type": "carpet"
           }
          ],
          "choropleth": [
           {
            "colorbar": {
             "outlinewidth": 0,
             "ticks": ""
            },
            "type": "choropleth"
           }
          ],
          "contour": [
           {
            "colorbar": {
             "outlinewidth": 0,
             "ticks": ""
            },
            "colorscale": [
             [
              0,
              "#0d0887"
             ],
             [
              0.1111111111111111,
              "#46039f"
             ],
             [
              0.2222222222222222,
              "#7201a8"
             ],
             [
              0.3333333333333333,
              "#9c179e"
             ],
             [
              0.4444444444444444,
              "#bd3786"
             ],
             [
              0.5555555555555556,
              "#d8576b"
             ],
             [
              0.6666666666666666,
              "#ed7953"
             ],
             [
              0.7777777777777778,
              "#fb9f3a"
             ],
             [
              0.8888888888888888,
              "#fdca26"
             ],
             [
              1,
              "#f0f921"
             ]
            ],
            "type": "contour"
           }
          ],
          "contourcarpet": [
           {
            "colorbar": {
             "outlinewidth": 0,
             "ticks": ""
            },
            "type": "contourcarpet"
           }
          ],
          "heatmap": [
           {
            "colorbar": {
             "outlinewidth": 0,
             "ticks": ""
            },
            "colorscale": [
             [
              0,
              "#0d0887"
             ],
             [
              0.1111111111111111,
              "#46039f"
             ],
             [
              0.2222222222222222,
              "#7201a8"
             ],
             [
              0.3333333333333333,
              "#9c179e"
             ],
             [
              0.4444444444444444,
              "#bd3786"
             ],
             [
              0.5555555555555556,
              "#d8576b"
             ],
             [
              0.6666666666666666,
              "#ed7953"
             ],
             [
              0.7777777777777778,
              "#fb9f3a"
             ],
             [
              0.8888888888888888,
              "#fdca26"
             ],
             [
              1,
              "#f0f921"
             ]
            ],
            "type": "heatmap"
           }
          ],
          "heatmapgl": [
           {
            "colorbar": {
             "outlinewidth": 0,
             "ticks": ""
            },
            "colorscale": [
             [
              0,
              "#0d0887"
             ],
             [
              0.1111111111111111,
              "#46039f"
             ],
             [
              0.2222222222222222,
              "#7201a8"
             ],
             [
              0.3333333333333333,
              "#9c179e"
             ],
             [
              0.4444444444444444,
              "#bd3786"
             ],
             [
              0.5555555555555556,
              "#d8576b"
             ],
             [
              0.6666666666666666,
              "#ed7953"
             ],
             [
              0.7777777777777778,
              "#fb9f3a"
             ],
             [
              0.8888888888888888,
              "#fdca26"
             ],
             [
              1,
              "#f0f921"
             ]
            ],
            "type": "heatmapgl"
           }
          ],
          "histogram": [
           {
            "marker": {
             "pattern": {
              "fillmode": "overlay",
              "size": 10,
              "solidity": 0.2
             }
            },
            "type": "histogram"
           }
          ],
          "histogram2d": [
           {
            "colorbar": {
             "outlinewidth": 0,
             "ticks": ""
            },
            "colorscale": [
             [
              0,
              "#0d0887"
             ],
             [
              0.1111111111111111,
              "#46039f"
             ],
             [
              0.2222222222222222,
              "#7201a8"
             ],
             [
              0.3333333333333333,
              "#9c179e"
             ],
             [
              0.4444444444444444,
              "#bd3786"
             ],
             [
              0.5555555555555556,
              "#d8576b"
             ],
             [
              0.6666666666666666,
              "#ed7953"
             ],
             [
              0.7777777777777778,
              "#fb9f3a"
             ],
             [
              0.8888888888888888,
              "#fdca26"
             ],
             [
              1,
              "#f0f921"
             ]
            ],
            "type": "histogram2d"
           }
          ],
          "histogram2dcontour": [
           {
            "colorbar": {
             "outlinewidth": 0,
             "ticks": ""
            },
            "colorscale": [
             [
              0,
              "#0d0887"
             ],
             [
              0.1111111111111111,
              "#46039f"
             ],
             [
              0.2222222222222222,
              "#7201a8"
             ],
             [
              0.3333333333333333,
              "#9c179e"
             ],
             [
              0.4444444444444444,
              "#bd3786"
             ],
             [
              0.5555555555555556,
              "#d8576b"
             ],
             [
              0.6666666666666666,
              "#ed7953"
             ],
             [
              0.7777777777777778,
              "#fb9f3a"
             ],
             [
              0.8888888888888888,
              "#fdca26"
             ],
             [
              1,
              "#f0f921"
             ]
            ],
            "type": "histogram2dcontour"
           }
          ],
          "mesh3d": [
           {
            "colorbar": {
             "outlinewidth": 0,
             "ticks": ""
            },
            "type": "mesh3d"
           }
          ],
          "parcoords": [
           {
            "line": {
             "colorbar": {
              "outlinewidth": 0,
              "ticks": ""
             }
            },
            "type": "parcoords"
           }
          ],
          "pie": [
           {
            "automargin": true,
            "type": "pie"
           }
          ],
          "scatter": [
           {
            "fillpattern": {
             "fillmode": "overlay",
             "size": 10,
             "solidity": 0.2
            },
            "type": "scatter"
           }
          ],
          "scatter3d": [
           {
            "line": {
             "colorbar": {
              "outlinewidth": 0,
              "ticks": ""
             }
            },
            "marker": {
             "colorbar": {
              "outlinewidth": 0,
              "ticks": ""
             }
            },
            "type": "scatter3d"
           }
          ],
          "scattercarpet": [
           {
            "marker": {
             "colorbar": {
              "outlinewidth": 0,
              "ticks": ""
             }
            },
            "type": "scattercarpet"
           }
          ],
          "scattergeo": [
           {
            "marker": {
             "colorbar": {
              "outlinewidth": 0,
              "ticks": ""
             }
            },
            "type": "scattergeo"
           }
          ],
          "scattergl": [
           {
            "marker": {
             "colorbar": {
              "outlinewidth": 0,
              "ticks": ""
             }
            },
            "type": "scattergl"
           }
          ],
          "scattermapbox": [
           {
            "marker": {
             "colorbar": {
              "outlinewidth": 0,
              "ticks": ""
             }
            },
            "type": "scattermapbox"
           }
          ],
          "scatterpolar": [
           {
            "marker": {
             "colorbar": {
              "outlinewidth": 0,
              "ticks": ""
             }
            },
            "type": "scatterpolar"
           }
          ],
          "scatterpolargl": [
           {
            "marker": {
             "colorbar": {
              "outlinewidth": 0,
              "ticks": ""
             }
            },
            "type": "scatterpolargl"
           }
          ],
          "scatterternary": [
           {
            "marker": {
             "colorbar": {
              "outlinewidth": 0,
              "ticks": ""
             }
            },
            "type": "scatterternary"
           }
          ],
          "surface": [
           {
            "colorbar": {
             "outlinewidth": 0,
             "ticks": ""
            },
            "colorscale": [
             [
              0,
              "#0d0887"
             ],
             [
              0.1111111111111111,
              "#46039f"
             ],
             [
              0.2222222222222222,
              "#7201a8"
             ],
             [
              0.3333333333333333,
              "#9c179e"
             ],
             [
              0.4444444444444444,
              "#bd3786"
             ],
             [
              0.5555555555555556,
              "#d8576b"
             ],
             [
              0.6666666666666666,
              "#ed7953"
             ],
             [
              0.7777777777777778,
              "#fb9f3a"
             ],
             [
              0.8888888888888888,
              "#fdca26"
             ],
             [
              1,
              "#f0f921"
             ]
            ],
            "type": "surface"
           }
          ],
          "table": [
           {
            "cells": {
             "fill": {
              "color": "#EBF0F8"
             },
             "line": {
              "color": "white"
             }
            },
            "header": {
             "fill": {
              "color": "#C8D4E3"
             },
             "line": {
              "color": "white"
             }
            },
            "type": "table"
           }
          ]
         },
         "layout": {
          "annotationdefaults": {
           "arrowcolor": "#2a3f5f",
           "arrowhead": 0,
           "arrowwidth": 1
          },
          "autotypenumbers": "strict",
          "coloraxis": {
           "colorbar": {
            "outlinewidth": 0,
            "ticks": ""
           }
          },
          "colorscale": {
           "diverging": [
            [
             0,
             "#8e0152"
            ],
            [
             0.1,
             "#c51b7d"
            ],
            [
             0.2,
             "#de77ae"
            ],
            [
             0.3,
             "#f1b6da"
            ],
            [
             0.4,
             "#fde0ef"
            ],
            [
             0.5,
             "#f7f7f7"
            ],
            [
             0.6,
             "#e6f5d0"
            ],
            [
             0.7,
             "#b8e186"
            ],
            [
             0.8,
             "#7fbc41"
            ],
            [
             0.9,
             "#4d9221"
            ],
            [
             1,
             "#276419"
            ]
           ],
           "sequential": [
            [
             0,
             "#0d0887"
            ],
            [
             0.1111111111111111,
             "#46039f"
            ],
            [
             0.2222222222222222,
             "#7201a8"
            ],
            [
             0.3333333333333333,
             "#9c179e"
            ],
            [
             0.4444444444444444,
             "#bd3786"
            ],
            [
             0.5555555555555556,
             "#d8576b"
            ],
            [
             0.6666666666666666,
             "#ed7953"
            ],
            [
             0.7777777777777778,
             "#fb9f3a"
            ],
            [
             0.8888888888888888,
             "#fdca26"
            ],
            [
             1,
             "#f0f921"
            ]
           ],
           "sequentialminus": [
            [
             0,
             "#0d0887"
            ],
            [
             0.1111111111111111,
             "#46039f"
            ],
            [
             0.2222222222222222,
             "#7201a8"
            ],
            [
             0.3333333333333333,
             "#9c179e"
            ],
            [
             0.4444444444444444,
             "#bd3786"
            ],
            [
             0.5555555555555556,
             "#d8576b"
            ],
            [
             0.6666666666666666,
             "#ed7953"
            ],
            [
             0.7777777777777778,
             "#fb9f3a"
            ],
            [
             0.8888888888888888,
             "#fdca26"
            ],
            [
             1,
             "#f0f921"
            ]
           ]
          },
          "colorway": [
           "#636efa",
           "#EF553B",
           "#00cc96",
           "#ab63fa",
           "#FFA15A",
           "#19d3f3",
           "#FF6692",
           "#B6E880",
           "#FF97FF",
           "#FECB52"
          ],
          "font": {
           "color": "#2a3f5f"
          },
          "geo": {
           "bgcolor": "white",
           "lakecolor": "white",
           "landcolor": "#E5ECF6",
           "showlakes": true,
           "showland": true,
           "subunitcolor": "white"
          },
          "hoverlabel": {
           "align": "left"
          },
          "hovermode": "closest",
          "mapbox": {
           "style": "light"
          },
          "paper_bgcolor": "white",
          "plot_bgcolor": "#E5ECF6",
          "polar": {
           "angularaxis": {
            "gridcolor": "white",
            "linecolor": "white",
            "ticks": ""
           },
           "bgcolor": "#E5ECF6",
           "radialaxis": {
            "gridcolor": "white",
            "linecolor": "white",
            "ticks": ""
           }
          },
          "scene": {
           "xaxis": {
            "backgroundcolor": "#E5ECF6",
            "gridcolor": "white",
            "gridwidth": 2,
            "linecolor": "white",
            "showbackground": true,
            "ticks": "",
            "zerolinecolor": "white"
           },
           "yaxis": {
            "backgroundcolor": "#E5ECF6",
            "gridcolor": "white",
            "gridwidth": 2,
            "linecolor": "white",
            "showbackground": true,
            "ticks": "",
            "zerolinecolor": "white"
           },
           "zaxis": {
            "backgroundcolor": "#E5ECF6",
            "gridcolor": "white",
            "gridwidth": 2,
            "linecolor": "white",
            "showbackground": true,
            "ticks": "",
            "zerolinecolor": "white"
           }
          },
          "shapedefaults": {
           "line": {
            "color": "#2a3f5f"
           }
          },
          "ternary": {
           "aaxis": {
            "gridcolor": "white",
            "linecolor": "white",
            "ticks": ""
           },
           "baxis": {
            "gridcolor": "white",
            "linecolor": "white",
            "ticks": ""
           },
           "bgcolor": "#E5ECF6",
           "caxis": {
            "gridcolor": "white",
            "linecolor": "white",
            "ticks": ""
           }
          },
          "title": {
           "x": 0.05
          },
          "xaxis": {
           "automargin": true,
           "gridcolor": "white",
           "linecolor": "white",
           "ticks": "",
           "title": {
            "standoff": 15
           },
           "zerolinecolor": "white",
           "zerolinewidth": 2
          },
          "yaxis": {
           "automargin": true,
           "gridcolor": "white",
           "linecolor": "white",
           "ticks": "",
           "title": {
            "standoff": 15
           },
           "zerolinecolor": "white",
           "zerolinewidth": 2
          }
         }
        },
        "title": {
         "text": "acc",
         "x": 0.5
        },
        "yaxis": {
         "tickmode": "array",
         "tickvals": [
          "0.69",
          0.3,
          0.8
         ]
        }
       }
      }
     },
     "metadata": {},
     "output_type": "display_data"
    }
   ],
   "source": [
    "genVisMulitlabel(partEvalMetrics, \"acc\")"
   ]
  },
  {
   "cell_type": "code",
   "execution_count": 46,
   "metadata": {},
   "outputs": [
    {
     "data": {
      "application/vnd.plotly.v1+json": {
       "config": {
        "plotlyServerURL": "https://plot.ly"
       },
       "data": [
        {
         "text": [
          0.6802299233580793,
          0.522957174874311,
          0.8809106716199945,
          0.9237925426448137,
          0.8557337021650556,
          0.8179575438106835,
          0.8514763567395146,
          0.8453766669797893,
          0.5981283586359086,
          0.7434863470935444,
          0.8846502860570089,
          0.6927071411678034,
          0.7985662742603258,
          0.8052598540256881,
          0.9080105366658979,
          0.8447660818882038,
          0.7634277671630993,
          0.9545139786249272,
          0.7187512618125215,
          0.884990109659532,
          0.8156071173104434,
          0.6857599986911325,
          0.9499018266198608,
          0.9008629690849048
         ],
         "type": "bar",
         "x": [
          "vision_bumper_rear",
          "vision_misc",
          "vision_rear_compartment",
          "vision_rear_panel",
          "vision_tail_lamp_lh",
          "vision_tail_lamp_rh",
          "vision_non_external",
          "vision_bonnet",
          "vision_bumper_front",
          "vision_engine",
          "vision_front_panel",
          "vision_grille",
          "vision_headlamp_lh",
          "vision_headlamp_rh",
          "vision_windscreen_front",
          "vision_door_front_lh",
          "vision_door_rear_lh",
          "vision_rear_quarter_lh",
          "vision_wheel",
          "vision_fender_front_lh",
          "vision_door_front_rh",
          "vision_door_rear_rh",
          "vision_rear_quarter_rh",
          "vision_fender_front_rh"
         ],
         "y": [
          0.6802299233580793,
          0.522957174874311,
          0.8809106716199945,
          0.9237925426448137,
          0.8557337021650556,
          0.8179575438106835,
          0.8514763567395146,
          0.8453766669797893,
          0.5981283586359086,
          0.7434863470935444,
          0.8846502860570089,
          0.6927071411678034,
          0.7985662742603258,
          0.8052598540256881,
          0.9080105366658979,
          0.8447660818882038,
          0.7634277671630993,
          0.9545139786249272,
          0.7187512618125215,
          0.884990109659532,
          0.8156071173104434,
          0.6857599986911325,
          0.9499018266198608,
          0.9008629690849048
         ]
        }
       ],
       "layout": {
        "shapes": [
         {
          "line": {
           "color": "red",
           "width": 2
          },
          "type": "line",
          "x0": 0,
          "x1": 1,
          "xref": "x domain",
          "y0": 0.8053260204563769,
          "y1": 0.8053260204563769,
          "yref": "y"
         }
        ],
        "template": {
         "data": {
          "bar": [
           {
            "error_x": {
             "color": "#2a3f5f"
            },
            "error_y": {
             "color": "#2a3f5f"
            },
            "marker": {
             "line": {
              "color": "#E5ECF6",
              "width": 0.5
             },
             "pattern": {
              "fillmode": "overlay",
              "size": 10,
              "solidity": 0.2
             }
            },
            "type": "bar"
           }
          ],
          "barpolar": [
           {
            "marker": {
             "line": {
              "color": "#E5ECF6",
              "width": 0.5
             },
             "pattern": {
              "fillmode": "overlay",
              "size": 10,
              "solidity": 0.2
             }
            },
            "type": "barpolar"
           }
          ],
          "carpet": [
           {
            "aaxis": {
             "endlinecolor": "#2a3f5f",
             "gridcolor": "white",
             "linecolor": "white",
             "minorgridcolor": "white",
             "startlinecolor": "#2a3f5f"
            },
            "baxis": {
             "endlinecolor": "#2a3f5f",
             "gridcolor": "white",
             "linecolor": "white",
             "minorgridcolor": "white",
             "startlinecolor": "#2a3f5f"
            },
            "type": "carpet"
           }
          ],
          "choropleth": [
           {
            "colorbar": {
             "outlinewidth": 0,
             "ticks": ""
            },
            "type": "choropleth"
           }
          ],
          "contour": [
           {
            "colorbar": {
             "outlinewidth": 0,
             "ticks": ""
            },
            "colorscale": [
             [
              0,
              "#0d0887"
             ],
             [
              0.1111111111111111,
              "#46039f"
             ],
             [
              0.2222222222222222,
              "#7201a8"
             ],
             [
              0.3333333333333333,
              "#9c179e"
             ],
             [
              0.4444444444444444,
              "#bd3786"
             ],
             [
              0.5555555555555556,
              "#d8576b"
             ],
             [
              0.6666666666666666,
              "#ed7953"
             ],
             [
              0.7777777777777778,
              "#fb9f3a"
             ],
             [
              0.8888888888888888,
              "#fdca26"
             ],
             [
              1,
              "#f0f921"
             ]
            ],
            "type": "contour"
           }
          ],
          "contourcarpet": [
           {
            "colorbar": {
             "outlinewidth": 0,
             "ticks": ""
            },
            "type": "contourcarpet"
           }
          ],
          "heatmap": [
           {
            "colorbar": {
             "outlinewidth": 0,
             "ticks": ""
            },
            "colorscale": [
             [
              0,
              "#0d0887"
             ],
             [
              0.1111111111111111,
              "#46039f"
             ],
             [
              0.2222222222222222,
              "#7201a8"
             ],
             [
              0.3333333333333333,
              "#9c179e"
             ],
             [
              0.4444444444444444,
              "#bd3786"
             ],
             [
              0.5555555555555556,
              "#d8576b"
             ],
             [
              0.6666666666666666,
              "#ed7953"
             ],
             [
              0.7777777777777778,
              "#fb9f3a"
             ],
             [
              0.8888888888888888,
              "#fdca26"
             ],
             [
              1,
              "#f0f921"
             ]
            ],
            "type": "heatmap"
           }
          ],
          "heatmapgl": [
           {
            "colorbar": {
             "outlinewidth": 0,
             "ticks": ""
            },
            "colorscale": [
             [
              0,
              "#0d0887"
             ],
             [
              0.1111111111111111,
              "#46039f"
             ],
             [
              0.2222222222222222,
              "#7201a8"
             ],
             [
              0.3333333333333333,
              "#9c179e"
             ],
             [
              0.4444444444444444,
              "#bd3786"
             ],
             [
              0.5555555555555556,
              "#d8576b"
             ],
             [
              0.6666666666666666,
              "#ed7953"
             ],
             [
              0.7777777777777778,
              "#fb9f3a"
             ],
             [
              0.8888888888888888,
              "#fdca26"
             ],
             [
              1,
              "#f0f921"
             ]
            ],
            "type": "heatmapgl"
           }
          ],
          "histogram": [
           {
            "marker": {
             "pattern": {
              "fillmode": "overlay",
              "size": 10,
              "solidity": 0.2
             }
            },
            "type": "histogram"
           }
          ],
          "histogram2d": [
           {
            "colorbar": {
             "outlinewidth": 0,
             "ticks": ""
            },
            "colorscale": [
             [
              0,
              "#0d0887"
             ],
             [
              0.1111111111111111,
              "#46039f"
             ],
             [
              0.2222222222222222,
              "#7201a8"
             ],
             [
              0.3333333333333333,
              "#9c179e"
             ],
             [
              0.4444444444444444,
              "#bd3786"
             ],
             [
              0.5555555555555556,
              "#d8576b"
             ],
             [
              0.6666666666666666,
              "#ed7953"
             ],
             [
              0.7777777777777778,
              "#fb9f3a"
             ],
             [
              0.8888888888888888,
              "#fdca26"
             ],
             [
              1,
              "#f0f921"
             ]
            ],
            "type": "histogram2d"
           }
          ],
          "histogram2dcontour": [
           {
            "colorbar": {
             "outlinewidth": 0,
             "ticks": ""
            },
            "colorscale": [
             [
              0,
              "#0d0887"
             ],
             [
              0.1111111111111111,
              "#46039f"
             ],
             [
              0.2222222222222222,
              "#7201a8"
             ],
             [
              0.3333333333333333,
              "#9c179e"
             ],
             [
              0.4444444444444444,
              "#bd3786"
             ],
             [
              0.5555555555555556,
              "#d8576b"
             ],
             [
              0.6666666666666666,
              "#ed7953"
             ],
             [
              0.7777777777777778,
              "#fb9f3a"
             ],
             [
              0.8888888888888888,
              "#fdca26"
             ],
             [
              1,
              "#f0f921"
             ]
            ],
            "type": "histogram2dcontour"
           }
          ],
          "mesh3d": [
           {
            "colorbar": {
             "outlinewidth": 0,
             "ticks": ""
            },
            "type": "mesh3d"
           }
          ],
          "parcoords": [
           {
            "line": {
             "colorbar": {
              "outlinewidth": 0,
              "ticks": ""
             }
            },
            "type": "parcoords"
           }
          ],
          "pie": [
           {
            "automargin": true,
            "type": "pie"
           }
          ],
          "scatter": [
           {
            "fillpattern": {
             "fillmode": "overlay",
             "size": 10,
             "solidity": 0.2
            },
            "type": "scatter"
           }
          ],
          "scatter3d": [
           {
            "line": {
             "colorbar": {
              "outlinewidth": 0,
              "ticks": ""
             }
            },
            "marker": {
             "colorbar": {
              "outlinewidth": 0,
              "ticks": ""
             }
            },
            "type": "scatter3d"
           }
          ],
          "scattercarpet": [
           {
            "marker": {
             "colorbar": {
              "outlinewidth": 0,
              "ticks": ""
             }
            },
            "type": "scattercarpet"
           }
          ],
          "scattergeo": [
           {
            "marker": {
             "colorbar": {
              "outlinewidth": 0,
              "ticks": ""
             }
            },
            "type": "scattergeo"
           }
          ],
          "scattergl": [
           {
            "marker": {
             "colorbar": {
              "outlinewidth": 0,
              "ticks": ""
             }
            },
            "type": "scattergl"
           }
          ],
          "scattermapbox": [
           {
            "marker": {
             "colorbar": {
              "outlinewidth": 0,
              "ticks": ""
             }
            },
            "type": "scattermapbox"
           }
          ],
          "scatterpolar": [
           {
            "marker": {
             "colorbar": {
              "outlinewidth": 0,
              "ticks": ""
             }
            },
            "type": "scatterpolar"
           }
          ],
          "scatterpolargl": [
           {
            "marker": {
             "colorbar": {
              "outlinewidth": 0,
              "ticks": ""
             }
            },
            "type": "scatterpolargl"
           }
          ],
          "scatterternary": [
           {
            "marker": {
             "colorbar": {
              "outlinewidth": 0,
              "ticks": ""
             }
            },
            "type": "scatterternary"
           }
          ],
          "surface": [
           {
            "colorbar": {
             "outlinewidth": 0,
             "ticks": ""
            },
            "colorscale": [
             [
              0,
              "#0d0887"
             ],
             [
              0.1111111111111111,
              "#46039f"
             ],
             [
              0.2222222222222222,
              "#7201a8"
             ],
             [
              0.3333333333333333,
              "#9c179e"
             ],
             [
              0.4444444444444444,
              "#bd3786"
             ],
             [
              0.5555555555555556,
              "#d8576b"
             ],
             [
              0.6666666666666666,
              "#ed7953"
             ],
             [
              0.7777777777777778,
              "#fb9f3a"
             ],
             [
              0.8888888888888888,
              "#fdca26"
             ],
             [
              1,
              "#f0f921"
             ]
            ],
            "type": "surface"
           }
          ],
          "table": [
           {
            "cells": {
             "fill": {
              "color": "#EBF0F8"
             },
             "line": {
              "color": "white"
             }
            },
            "header": {
             "fill": {
              "color": "#C8D4E3"
             },
             "line": {
              "color": "white"
             }
            },
            "type": "table"
           }
          ]
         },
         "layout": {
          "annotationdefaults": {
           "arrowcolor": "#2a3f5f",
           "arrowhead": 0,
           "arrowwidth": 1
          },
          "autotypenumbers": "strict",
          "coloraxis": {
           "colorbar": {
            "outlinewidth": 0,
            "ticks": ""
           }
          },
          "colorscale": {
           "diverging": [
            [
             0,
             "#8e0152"
            ],
            [
             0.1,
             "#c51b7d"
            ],
            [
             0.2,
             "#de77ae"
            ],
            [
             0.3,
             "#f1b6da"
            ],
            [
             0.4,
             "#fde0ef"
            ],
            [
             0.5,
             "#f7f7f7"
            ],
            [
             0.6,
             "#e6f5d0"
            ],
            [
             0.7,
             "#b8e186"
            ],
            [
             0.8,
             "#7fbc41"
            ],
            [
             0.9,
             "#4d9221"
            ],
            [
             1,
             "#276419"
            ]
           ],
           "sequential": [
            [
             0,
             "#0d0887"
            ],
            [
             0.1111111111111111,
             "#46039f"
            ],
            [
             0.2222222222222222,
             "#7201a8"
            ],
            [
             0.3333333333333333,
             "#9c179e"
            ],
            [
             0.4444444444444444,
             "#bd3786"
            ],
            [
             0.5555555555555556,
             "#d8576b"
            ],
            [
             0.6666666666666666,
             "#ed7953"
            ],
            [
             0.7777777777777778,
             "#fb9f3a"
            ],
            [
             0.8888888888888888,
             "#fdca26"
            ],
            [
             1,
             "#f0f921"
            ]
           ],
           "sequentialminus": [
            [
             0,
             "#0d0887"
            ],
            [
             0.1111111111111111,
             "#46039f"
            ],
            [
             0.2222222222222222,
             "#7201a8"
            ],
            [
             0.3333333333333333,
             "#9c179e"
            ],
            [
             0.4444444444444444,
             "#bd3786"
            ],
            [
             0.5555555555555556,
             "#d8576b"
            ],
            [
             0.6666666666666666,
             "#ed7953"
            ],
            [
             0.7777777777777778,
             "#fb9f3a"
            ],
            [
             0.8888888888888888,
             "#fdca26"
            ],
            [
             1,
             "#f0f921"
            ]
           ]
          },
          "colorway": [
           "#636efa",
           "#EF553B",
           "#00cc96",
           "#ab63fa",
           "#FFA15A",
           "#19d3f3",
           "#FF6692",
           "#B6E880",
           "#FF97FF",
           "#FECB52"
          ],
          "font": {
           "color": "#2a3f5f"
          },
          "geo": {
           "bgcolor": "white",
           "lakecolor": "white",
           "landcolor": "#E5ECF6",
           "showlakes": true,
           "showland": true,
           "subunitcolor": "white"
          },
          "hoverlabel": {
           "align": "left"
          },
          "hovermode": "closest",
          "mapbox": {
           "style": "light"
          },
          "paper_bgcolor": "white",
          "plot_bgcolor": "#E5ECF6",
          "polar": {
           "angularaxis": {
            "gridcolor": "white",
            "linecolor": "white",
            "ticks": ""
           },
           "bgcolor": "#E5ECF6",
           "radialaxis": {
            "gridcolor": "white",
            "linecolor": "white",
            "ticks": ""
           }
          },
          "scene": {
           "xaxis": {
            "backgroundcolor": "#E5ECF6",
            "gridcolor": "white",
            "gridwidth": 2,
            "linecolor": "white",
            "showbackground": true,
            "ticks": "",
            "zerolinecolor": "white"
           },
           "yaxis": {
            "backgroundcolor": "#E5ECF6",
            "gridcolor": "white",
            "gridwidth": 2,
            "linecolor": "white",
            "showbackground": true,
            "ticks": "",
            "zerolinecolor": "white"
           },
           "zaxis": {
            "backgroundcolor": "#E5ECF6",
            "gridcolor": "white",
            "gridwidth": 2,
            "linecolor": "white",
            "showbackground": true,
            "ticks": "",
            "zerolinecolor": "white"
           }
          },
          "shapedefaults": {
           "line": {
            "color": "#2a3f5f"
           }
          },
          "ternary": {
           "aaxis": {
            "gridcolor": "white",
            "linecolor": "white",
            "ticks": ""
           },
           "baxis": {
            "gridcolor": "white",
            "linecolor": "white",
            "ticks": ""
           },
           "bgcolor": "#E5ECF6",
           "caxis": {
            "gridcolor": "white",
            "linecolor": "white",
            "ticks": ""
           }
          },
          "title": {
           "x": 0.05
          },
          "xaxis": {
           "automargin": true,
           "gridcolor": "white",
           "linecolor": "white",
           "ticks": "",
           "title": {
            "standoff": 15
           },
           "zerolinecolor": "white",
           "zerolinewidth": 2
          },
          "yaxis": {
           "automargin": true,
           "gridcolor": "white",
           "linecolor": "white",
           "ticks": "",
           "title": {
            "standoff": 15
           },
           "zerolinecolor": "white",
           "zerolinewidth": 2
          }
         }
        },
        "title": {
         "text": "precision",
         "x": 0.5
        },
        "yaxis": {
         "tickmode": "array",
         "tickvals": [
          "0.81",
          0.3,
          0.8
         ]
        }
       }
      }
     },
     "metadata": {},
     "output_type": "display_data"
    }
   ],
   "source": [
    "genVisMulitlabel(partEvalMetrics, \"precision\")"
   ]
  },
  {
   "cell_type": "code",
   "execution_count": 47,
   "metadata": {},
   "outputs": [
    {
     "data": {
      "application/vnd.plotly.v1+json": {
       "config": {
        "plotlyServerURL": "https://plot.ly"
       },
       "data": [
        {
         "text": [
          0.593603744149766,
          0.9535585042219542,
          0.6435146443514644,
          0.45119705340699817,
          0.5763779527559055,
          0.4520123839009288,
          0.3697033898305085,
          0.6544293695131684,
          0.7849552572706935,
          0.5937633489961555,
          0.5029880478087649,
          0.3736493551760195,
          0.7174721189591078,
          0.5892494929006086,
          0.4548611111111111,
          0.49059561128526646,
          0.49742268041237114,
          0.39172749391727496,
          0.6127033307513555,
          0.48834853090172237,
          0.5308219178082192,
          0.6840490797546013,
          0.4156769596199525,
          0.3599640933572711
         ],
         "type": "bar",
         "x": [
          "vision_bumper_rear",
          "vision_misc",
          "vision_rear_compartment",
          "vision_rear_panel",
          "vision_tail_lamp_lh",
          "vision_tail_lamp_rh",
          "vision_non_external",
          "vision_bonnet",
          "vision_bumper_front",
          "vision_engine",
          "vision_front_panel",
          "vision_grille",
          "vision_headlamp_lh",
          "vision_headlamp_rh",
          "vision_windscreen_front",
          "vision_door_front_lh",
          "vision_door_rear_lh",
          "vision_rear_quarter_lh",
          "vision_wheel",
          "vision_fender_front_lh",
          "vision_door_front_rh",
          "vision_door_rear_rh",
          "vision_rear_quarter_rh",
          "vision_fender_front_rh"
         ],
         "y": [
          0.593603744149766,
          0.9535585042219542,
          0.6435146443514644,
          0.45119705340699817,
          0.5763779527559055,
          0.4520123839009288,
          0.3697033898305085,
          0.6544293695131684,
          0.7849552572706935,
          0.5937633489961555,
          0.5029880478087649,
          0.3736493551760195,
          0.7174721189591078,
          0.5892494929006086,
          0.4548611111111111,
          0.49059561128526646,
          0.49742268041237114,
          0.39172749391727496,
          0.6127033307513555,
          0.48834853090172237,
          0.5308219178082192,
          0.6840490797546013,
          0.4156769596199525,
          0.3599640933572711
         ]
        }
       ],
       "layout": {
        "shapes": [
         {
          "line": {
           "color": "red",
           "width": 2
          },
          "type": "line",
          "x0": 0,
          "x1": 1,
          "xref": "x domain",
          "y0": 0.5492768946733829,
          "y1": 0.5492768946733829,
          "yref": "y"
         }
        ],
        "template": {
         "data": {
          "bar": [
           {
            "error_x": {
             "color": "#2a3f5f"
            },
            "error_y": {
             "color": "#2a3f5f"
            },
            "marker": {
             "line": {
              "color": "#E5ECF6",
              "width": 0.5
             },
             "pattern": {
              "fillmode": "overlay",
              "size": 10,
              "solidity": 0.2
             }
            },
            "type": "bar"
           }
          ],
          "barpolar": [
           {
            "marker": {
             "line": {
              "color": "#E5ECF6",
              "width": 0.5
             },
             "pattern": {
              "fillmode": "overlay",
              "size": 10,
              "solidity": 0.2
             }
            },
            "type": "barpolar"
           }
          ],
          "carpet": [
           {
            "aaxis": {
             "endlinecolor": "#2a3f5f",
             "gridcolor": "white",
             "linecolor": "white",
             "minorgridcolor": "white",
             "startlinecolor": "#2a3f5f"
            },
            "baxis": {
             "endlinecolor": "#2a3f5f",
             "gridcolor": "white",
             "linecolor": "white",
             "minorgridcolor": "white",
             "startlinecolor": "#2a3f5f"
            },
            "type": "carpet"
           }
          ],
          "choropleth": [
           {
            "colorbar": {
             "outlinewidth": 0,
             "ticks": ""
            },
            "type": "choropleth"
           }
          ],
          "contour": [
           {
            "colorbar": {
             "outlinewidth": 0,
             "ticks": ""
            },
            "colorscale": [
             [
              0,
              "#0d0887"
             ],
             [
              0.1111111111111111,
              "#46039f"
             ],
             [
              0.2222222222222222,
              "#7201a8"
             ],
             [
              0.3333333333333333,
              "#9c179e"
             ],
             [
              0.4444444444444444,
              "#bd3786"
             ],
             [
              0.5555555555555556,
              "#d8576b"
             ],
             [
              0.6666666666666666,
              "#ed7953"
             ],
             [
              0.7777777777777778,
              "#fb9f3a"
             ],
             [
              0.8888888888888888,
              "#fdca26"
             ],
             [
              1,
              "#f0f921"
             ]
            ],
            "type": "contour"
           }
          ],
          "contourcarpet": [
           {
            "colorbar": {
             "outlinewidth": 0,
             "ticks": ""
            },
            "type": "contourcarpet"
           }
          ],
          "heatmap": [
           {
            "colorbar": {
             "outlinewidth": 0,
             "ticks": ""
            },
            "colorscale": [
             [
              0,
              "#0d0887"
             ],
             [
              0.1111111111111111,
              "#46039f"
             ],
             [
              0.2222222222222222,
              "#7201a8"
             ],
             [
              0.3333333333333333,
              "#9c179e"
             ],
             [
              0.4444444444444444,
              "#bd3786"
             ],
             [
              0.5555555555555556,
              "#d8576b"
             ],
             [
              0.6666666666666666,
              "#ed7953"
             ],
             [
              0.7777777777777778,
              "#fb9f3a"
             ],
             [
              0.8888888888888888,
              "#fdca26"
             ],
             [
              1,
              "#f0f921"
             ]
            ],
            "type": "heatmap"
           }
          ],
          "heatmapgl": [
           {
            "colorbar": {
             "outlinewidth": 0,
             "ticks": ""
            },
            "colorscale": [
             [
              0,
              "#0d0887"
             ],
             [
              0.1111111111111111,
              "#46039f"
             ],
             [
              0.2222222222222222,
              "#7201a8"
             ],
             [
              0.3333333333333333,
              "#9c179e"
             ],
             [
              0.4444444444444444,
              "#bd3786"
             ],
             [
              0.5555555555555556,
              "#d8576b"
             ],
             [
              0.6666666666666666,
              "#ed7953"
             ],
             [
              0.7777777777777778,
              "#fb9f3a"
             ],
             [
              0.8888888888888888,
              "#fdca26"
             ],
             [
              1,
              "#f0f921"
             ]
            ],
            "type": "heatmapgl"
           }
          ],
          "histogram": [
           {
            "marker": {
             "pattern": {
              "fillmode": "overlay",
              "size": 10,
              "solidity": 0.2
             }
            },
            "type": "histogram"
           }
          ],
          "histogram2d": [
           {
            "colorbar": {
             "outlinewidth": 0,
             "ticks": ""
            },
            "colorscale": [
             [
              0,
              "#0d0887"
             ],
             [
              0.1111111111111111,
              "#46039f"
             ],
             [
              0.2222222222222222,
              "#7201a8"
             ],
             [
              0.3333333333333333,
              "#9c179e"
             ],
             [
              0.4444444444444444,
              "#bd3786"
             ],
             [
              0.5555555555555556,
              "#d8576b"
             ],
             [
              0.6666666666666666,
              "#ed7953"
             ],
             [
              0.7777777777777778,
              "#fb9f3a"
             ],
             [
              0.8888888888888888,
              "#fdca26"
             ],
             [
              1,
              "#f0f921"
             ]
            ],
            "type": "histogram2d"
           }
          ],
          "histogram2dcontour": [
           {
            "colorbar": {
             "outlinewidth": 0,
             "ticks": ""
            },
            "colorscale": [
             [
              0,
              "#0d0887"
             ],
             [
              0.1111111111111111,
              "#46039f"
             ],
             [
              0.2222222222222222,
              "#7201a8"
             ],
             [
              0.3333333333333333,
              "#9c179e"
             ],
             [
              0.4444444444444444,
              "#bd3786"
             ],
             [
              0.5555555555555556,
              "#d8576b"
             ],
             [
              0.6666666666666666,
              "#ed7953"
             ],
             [
              0.7777777777777778,
              "#fb9f3a"
             ],
             [
              0.8888888888888888,
              "#fdca26"
             ],
             [
              1,
              "#f0f921"
             ]
            ],
            "type": "histogram2dcontour"
           }
          ],
          "mesh3d": [
           {
            "colorbar": {
             "outlinewidth": 0,
             "ticks": ""
            },
            "type": "mesh3d"
           }
          ],
          "parcoords": [
           {
            "line": {
             "colorbar": {
              "outlinewidth": 0,
              "ticks": ""
             }
            },
            "type": "parcoords"
           }
          ],
          "pie": [
           {
            "automargin": true,
            "type": "pie"
           }
          ],
          "scatter": [
           {
            "fillpattern": {
             "fillmode": "overlay",
             "size": 10,
             "solidity": 0.2
            },
            "type": "scatter"
           }
          ],
          "scatter3d": [
           {
            "line": {
             "colorbar": {
              "outlinewidth": 0,
              "ticks": ""
             }
            },
            "marker": {
             "colorbar": {
              "outlinewidth": 0,
              "ticks": ""
             }
            },
            "type": "scatter3d"
           }
          ],
          "scattercarpet": [
           {
            "marker": {
             "colorbar": {
              "outlinewidth": 0,
              "ticks": ""
             }
            },
            "type": "scattercarpet"
           }
          ],
          "scattergeo": [
           {
            "marker": {
             "colorbar": {
              "outlinewidth": 0,
              "ticks": ""
             }
            },
            "type": "scattergeo"
           }
          ],
          "scattergl": [
           {
            "marker": {
             "colorbar": {
              "outlinewidth": 0,
              "ticks": ""
             }
            },
            "type": "scattergl"
           }
          ],
          "scattermapbox": [
           {
            "marker": {
             "colorbar": {
              "outlinewidth": 0,
              "ticks": ""
             }
            },
            "type": "scattermapbox"
           }
          ],
          "scatterpolar": [
           {
            "marker": {
             "colorbar": {
              "outlinewidth": 0,
              "ticks": ""
             }
            },
            "type": "scatterpolar"
           }
          ],
          "scatterpolargl": [
           {
            "marker": {
             "colorbar": {
              "outlinewidth": 0,
              "ticks": ""
             }
            },
            "type": "scatterpolargl"
           }
          ],
          "scatterternary": [
           {
            "marker": {
             "colorbar": {
              "outlinewidth": 0,
              "ticks": ""
             }
            },
            "type": "scatterternary"
           }
          ],
          "surface": [
           {
            "colorbar": {
             "outlinewidth": 0,
             "ticks": ""
            },
            "colorscale": [
             [
              0,
              "#0d0887"
             ],
             [
              0.1111111111111111,
              "#46039f"
             ],
             [
              0.2222222222222222,
              "#7201a8"
             ],
             [
              0.3333333333333333,
              "#9c179e"
             ],
             [
              0.4444444444444444,
              "#bd3786"
             ],
             [
              0.5555555555555556,
              "#d8576b"
             ],
             [
              0.6666666666666666,
              "#ed7953"
             ],
             [
              0.7777777777777778,
              "#fb9f3a"
             ],
             [
              0.8888888888888888,
              "#fdca26"
             ],
             [
              1,
              "#f0f921"
             ]
            ],
            "type": "surface"
           }
          ],
          "table": [
           {
            "cells": {
             "fill": {
              "color": "#EBF0F8"
             },
             "line": {
              "color": "white"
             }
            },
            "header": {
             "fill": {
              "color": "#C8D4E3"
             },
             "line": {
              "color": "white"
             }
            },
            "type": "table"
           }
          ]
         },
         "layout": {
          "annotationdefaults": {
           "arrowcolor": "#2a3f5f",
           "arrowhead": 0,
           "arrowwidth": 1
          },
          "autotypenumbers": "strict",
          "coloraxis": {
           "colorbar": {
            "outlinewidth": 0,
            "ticks": ""
           }
          },
          "colorscale": {
           "diverging": [
            [
             0,
             "#8e0152"
            ],
            [
             0.1,
             "#c51b7d"
            ],
            [
             0.2,
             "#de77ae"
            ],
            [
             0.3,
             "#f1b6da"
            ],
            [
             0.4,
             "#fde0ef"
            ],
            [
             0.5,
             "#f7f7f7"
            ],
            [
             0.6,
             "#e6f5d0"
            ],
            [
             0.7,
             "#b8e186"
            ],
            [
             0.8,
             "#7fbc41"
            ],
            [
             0.9,
             "#4d9221"
            ],
            [
             1,
             "#276419"
            ]
           ],
           "sequential": [
            [
             0,
             "#0d0887"
            ],
            [
             0.1111111111111111,
             "#46039f"
            ],
            [
             0.2222222222222222,
             "#7201a8"
            ],
            [
             0.3333333333333333,
             "#9c179e"
            ],
            [
             0.4444444444444444,
             "#bd3786"
            ],
            [
             0.5555555555555556,
             "#d8576b"
            ],
            [
             0.6666666666666666,
             "#ed7953"
            ],
            [
             0.7777777777777778,
             "#fb9f3a"
            ],
            [
             0.8888888888888888,
             "#fdca26"
            ],
            [
             1,
             "#f0f921"
            ]
           ],
           "sequentialminus": [
            [
             0,
             "#0d0887"
            ],
            [
             0.1111111111111111,
             "#46039f"
            ],
            [
             0.2222222222222222,
             "#7201a8"
            ],
            [
             0.3333333333333333,
             "#9c179e"
            ],
            [
             0.4444444444444444,
             "#bd3786"
            ],
            [
             0.5555555555555556,
             "#d8576b"
            ],
            [
             0.6666666666666666,
             "#ed7953"
            ],
            [
             0.7777777777777778,
             "#fb9f3a"
            ],
            [
             0.8888888888888888,
             "#fdca26"
            ],
            [
             1,
             "#f0f921"
            ]
           ]
          },
          "colorway": [
           "#636efa",
           "#EF553B",
           "#00cc96",
           "#ab63fa",
           "#FFA15A",
           "#19d3f3",
           "#FF6692",
           "#B6E880",
           "#FF97FF",
           "#FECB52"
          ],
          "font": {
           "color": "#2a3f5f"
          },
          "geo": {
           "bgcolor": "white",
           "lakecolor": "white",
           "landcolor": "#E5ECF6",
           "showlakes": true,
           "showland": true,
           "subunitcolor": "white"
          },
          "hoverlabel": {
           "align": "left"
          },
          "hovermode": "closest",
          "mapbox": {
           "style": "light"
          },
          "paper_bgcolor": "white",
          "plot_bgcolor": "#E5ECF6",
          "polar": {
           "angularaxis": {
            "gridcolor": "white",
            "linecolor": "white",
            "ticks": ""
           },
           "bgcolor": "#E5ECF6",
           "radialaxis": {
            "gridcolor": "white",
            "linecolor": "white",
            "ticks": ""
           }
          },
          "scene": {
           "xaxis": {
            "backgroundcolor": "#E5ECF6",
            "gridcolor": "white",
            "gridwidth": 2,
            "linecolor": "white",
            "showbackground": true,
            "ticks": "",
            "zerolinecolor": "white"
           },
           "yaxis": {
            "backgroundcolor": "#E5ECF6",
            "gridcolor": "white",
            "gridwidth": 2,
            "linecolor": "white",
            "showbackground": true,
            "ticks": "",
            "zerolinecolor": "white"
           },
           "zaxis": {
            "backgroundcolor": "#E5ECF6",
            "gridcolor": "white",
            "gridwidth": 2,
            "linecolor": "white",
            "showbackground": true,
            "ticks": "",
            "zerolinecolor": "white"
           }
          },
          "shapedefaults": {
           "line": {
            "color": "#2a3f5f"
           }
          },
          "ternary": {
           "aaxis": {
            "gridcolor": "white",
            "linecolor": "white",
            "ticks": ""
           },
           "baxis": {
            "gridcolor": "white",
            "linecolor": "white",
            "ticks": ""
           },
           "bgcolor": "#E5ECF6",
           "caxis": {
            "gridcolor": "white",
            "linecolor": "white",
            "ticks": ""
           }
          },
          "title": {
           "x": 0.05
          },
          "xaxis": {
           "automargin": true,
           "gridcolor": "white",
           "linecolor": "white",
           "ticks": "",
           "title": {
            "standoff": 15
           },
           "zerolinecolor": "white",
           "zerolinewidth": 2
          },
          "yaxis": {
           "automargin": true,
           "gridcolor": "white",
           "linecolor": "white",
           "ticks": "",
           "title": {
            "standoff": 15
           },
           "zerolinecolor": "white",
           "zerolinewidth": 2
          }
         }
        },
        "title": {
         "text": "recall",
         "x": 0.5
        },
        "yaxis": {
         "tickmode": "array",
         "tickvals": [
          "0.55",
          0.3,
          0.8
         ]
        }
       }
      }
     },
     "metadata": {},
     "output_type": "display_data"
    }
   ],
   "source": [
    "genVisMulitlabel(partEvalMetrics, \"recall\")"
   ]
  },
  {
   "cell_type": "code",
   "execution_count": 48,
   "metadata": {},
   "outputs": [
    {
     "data": {
      "application/vnd.plotly.v1+json": {
       "config": {
        "plotlyServerURL": "https://plot.ly"
       },
       "data": [
        {
         "text": [
          0.6339713569952059,
          0.6754689686065635,
          0.7437280286724965,
          0.6062772756936445,
          0.6888094760814553,
          0.5822609358535518,
          0.5155566923400157,
          0.7377478230003444,
          0.678923521664582,
          0.6602431014552559,
          0.6413321245423624,
          0.48544661660638455,
          0.7558502996828874,
          0.6805246041322277,
          0.6061006291856239,
          0.6207135257146621,
          0.6023653114034685,
          0.5554863319574769,
          0.6615040340899107,
          0.6293911889614675,
          0.643096847878963,
          0.684903470736881,
          0.5782929658918147,
          0.5143898502268374
         ],
         "type": "bar",
         "x": [
          "vision_bumper_rear",
          "vision_misc",
          "vision_rear_compartment",
          "vision_rear_panel",
          "vision_tail_lamp_lh",
          "vision_tail_lamp_rh",
          "vision_non_external",
          "vision_bonnet",
          "vision_bumper_front",
          "vision_engine",
          "vision_front_panel",
          "vision_grille",
          "vision_headlamp_lh",
          "vision_headlamp_rh",
          "vision_windscreen_front",
          "vision_door_front_lh",
          "vision_door_rear_lh",
          "vision_rear_quarter_lh",
          "vision_wheel",
          "vision_fender_front_lh",
          "vision_door_front_rh",
          "vision_door_rear_rh",
          "vision_rear_quarter_rh",
          "vision_fender_front_rh"
         ],
         "y": [
          0.6339713569952059,
          0.6754689686065635,
          0.7437280286724965,
          0.6062772756936445,
          0.6888094760814553,
          0.5822609358535518,
          0.5155566923400157,
          0.7377478230003444,
          0.678923521664582,
          0.6602431014552559,
          0.6413321245423624,
          0.48544661660638455,
          0.7558502996828874,
          0.6805246041322277,
          0.6061006291856239,
          0.6207135257146621,
          0.6023653114034685,
          0.5554863319574769,
          0.6615040340899107,
          0.6293911889614675,
          0.643096847878963,
          0.684903470736881,
          0.5782929658918147,
          0.5143898502268374
         ]
        }
       ],
       "layout": {
        "shapes": [
         {
          "line": {
           "color": "red",
           "width": 2
          },
          "type": "line",
          "x0": 0,
          "x1": 1,
          "xref": "x domain",
          "y0": 0.6325993742239201,
          "y1": 0.6325993742239201,
          "yref": "y"
         }
        ],
        "template": {
         "data": {
          "bar": [
           {
            "error_x": {
             "color": "#2a3f5f"
            },
            "error_y": {
             "color": "#2a3f5f"
            },
            "marker": {
             "line": {
              "color": "#E5ECF6",
              "width": 0.5
             },
             "pattern": {
              "fillmode": "overlay",
              "size": 10,
              "solidity": 0.2
             }
            },
            "type": "bar"
           }
          ],
          "barpolar": [
           {
            "marker": {
             "line": {
              "color": "#E5ECF6",
              "width": 0.5
             },
             "pattern": {
              "fillmode": "overlay",
              "size": 10,
              "solidity": 0.2
             }
            },
            "type": "barpolar"
           }
          ],
          "carpet": [
           {
            "aaxis": {
             "endlinecolor": "#2a3f5f",
             "gridcolor": "white",
             "linecolor": "white",
             "minorgridcolor": "white",
             "startlinecolor": "#2a3f5f"
            },
            "baxis": {
             "endlinecolor": "#2a3f5f",
             "gridcolor": "white",
             "linecolor": "white",
             "minorgridcolor": "white",
             "startlinecolor": "#2a3f5f"
            },
            "type": "carpet"
           }
          ],
          "choropleth": [
           {
            "colorbar": {
             "outlinewidth": 0,
             "ticks": ""
            },
            "type": "choropleth"
           }
          ],
          "contour": [
           {
            "colorbar": {
             "outlinewidth": 0,
             "ticks": ""
            },
            "colorscale": [
             [
              0,
              "#0d0887"
             ],
             [
              0.1111111111111111,
              "#46039f"
             ],
             [
              0.2222222222222222,
              "#7201a8"
             ],
             [
              0.3333333333333333,
              "#9c179e"
             ],
             [
              0.4444444444444444,
              "#bd3786"
             ],
             [
              0.5555555555555556,
              "#d8576b"
             ],
             [
              0.6666666666666666,
              "#ed7953"
             ],
             [
              0.7777777777777778,
              "#fb9f3a"
             ],
             [
              0.8888888888888888,
              "#fdca26"
             ],
             [
              1,
              "#f0f921"
             ]
            ],
            "type": "contour"
           }
          ],
          "contourcarpet": [
           {
            "colorbar": {
             "outlinewidth": 0,
             "ticks": ""
            },
            "type": "contourcarpet"
           }
          ],
          "heatmap": [
           {
            "colorbar": {
             "outlinewidth": 0,
             "ticks": ""
            },
            "colorscale": [
             [
              0,
              "#0d0887"
             ],
             [
              0.1111111111111111,
              "#46039f"
             ],
             [
              0.2222222222222222,
              "#7201a8"
             ],
             [
              0.3333333333333333,
              "#9c179e"
             ],
             [
              0.4444444444444444,
              "#bd3786"
             ],
             [
              0.5555555555555556,
              "#d8576b"
             ],
             [
              0.6666666666666666,
              "#ed7953"
             ],
             [
              0.7777777777777778,
              "#fb9f3a"
             ],
             [
              0.8888888888888888,
              "#fdca26"
             ],
             [
              1,
              "#f0f921"
             ]
            ],
            "type": "heatmap"
           }
          ],
          "heatmapgl": [
           {
            "colorbar": {
             "outlinewidth": 0,
             "ticks": ""
            },
            "colorscale": [
             [
              0,
              "#0d0887"
             ],
             [
              0.1111111111111111,
              "#46039f"
             ],
             [
              0.2222222222222222,
              "#7201a8"
             ],
             [
              0.3333333333333333,
              "#9c179e"
             ],
             [
              0.4444444444444444,
              "#bd3786"
             ],
             [
              0.5555555555555556,
              "#d8576b"
             ],
             [
              0.6666666666666666,
              "#ed7953"
             ],
             [
              0.7777777777777778,
              "#fb9f3a"
             ],
             [
              0.8888888888888888,
              "#fdca26"
             ],
             [
              1,
              "#f0f921"
             ]
            ],
            "type": "heatmapgl"
           }
          ],
          "histogram": [
           {
            "marker": {
             "pattern": {
              "fillmode": "overlay",
              "size": 10,
              "solidity": 0.2
             }
            },
            "type": "histogram"
           }
          ],
          "histogram2d": [
           {
            "colorbar": {
             "outlinewidth": 0,
             "ticks": ""
            },
            "colorscale": [
             [
              0,
              "#0d0887"
             ],
             [
              0.1111111111111111,
              "#46039f"
             ],
             [
              0.2222222222222222,
              "#7201a8"
             ],
             [
              0.3333333333333333,
              "#9c179e"
             ],
             [
              0.4444444444444444,
              "#bd3786"
             ],
             [
              0.5555555555555556,
              "#d8576b"
             ],
             [
              0.6666666666666666,
              "#ed7953"
             ],
             [
              0.7777777777777778,
              "#fb9f3a"
             ],
             [
              0.8888888888888888,
              "#fdca26"
             ],
             [
              1,
              "#f0f921"
             ]
            ],
            "type": "histogram2d"
           }
          ],
          "histogram2dcontour": [
           {
            "colorbar": {
             "outlinewidth": 0,
             "ticks": ""
            },
            "colorscale": [
             [
              0,
              "#0d0887"
             ],
             [
              0.1111111111111111,
              "#46039f"
             ],
             [
              0.2222222222222222,
              "#7201a8"
             ],
             [
              0.3333333333333333,
              "#9c179e"
             ],
             [
              0.4444444444444444,
              "#bd3786"
             ],
             [
              0.5555555555555556,
              "#d8576b"
             ],
             [
              0.6666666666666666,
              "#ed7953"
             ],
             [
              0.7777777777777778,
              "#fb9f3a"
             ],
             [
              0.8888888888888888,
              "#fdca26"
             ],
             [
              1,
              "#f0f921"
             ]
            ],
            "type": "histogram2dcontour"
           }
          ],
          "mesh3d": [
           {
            "colorbar": {
             "outlinewidth": 0,
             "ticks": ""
            },
            "type": "mesh3d"
           }
          ],
          "parcoords": [
           {
            "line": {
             "colorbar": {
              "outlinewidth": 0,
              "ticks": ""
             }
            },
            "type": "parcoords"
           }
          ],
          "pie": [
           {
            "automargin": true,
            "type": "pie"
           }
          ],
          "scatter": [
           {
            "fillpattern": {
             "fillmode": "overlay",
             "size": 10,
             "solidity": 0.2
            },
            "type": "scatter"
           }
          ],
          "scatter3d": [
           {
            "line": {
             "colorbar": {
              "outlinewidth": 0,
              "ticks": ""
             }
            },
            "marker": {
             "colorbar": {
              "outlinewidth": 0,
              "ticks": ""
             }
            },
            "type": "scatter3d"
           }
          ],
          "scattercarpet": [
           {
            "marker": {
             "colorbar": {
              "outlinewidth": 0,
              "ticks": ""
             }
            },
            "type": "scattercarpet"
           }
          ],
          "scattergeo": [
           {
            "marker": {
             "colorbar": {
              "outlinewidth": 0,
              "ticks": ""
             }
            },
            "type": "scattergeo"
           }
          ],
          "scattergl": [
           {
            "marker": {
             "colorbar": {
              "outlinewidth": 0,
              "ticks": ""
             }
            },
            "type": "scattergl"
           }
          ],
          "scattermapbox": [
           {
            "marker": {
             "colorbar": {
              "outlinewidth": 0,
              "ticks": ""
             }
            },
            "type": "scattermapbox"
           }
          ],
          "scatterpolar": [
           {
            "marker": {
             "colorbar": {
              "outlinewidth": 0,
              "ticks": ""
             }
            },
            "type": "scatterpolar"
           }
          ],
          "scatterpolargl": [
           {
            "marker": {
             "colorbar": {
              "outlinewidth": 0,
              "ticks": ""
             }
            },
            "type": "scatterpolargl"
           }
          ],
          "scatterternary": [
           {
            "marker": {
             "colorbar": {
              "outlinewidth": 0,
              "ticks": ""
             }
            },
            "type": "scatterternary"
           }
          ],
          "surface": [
           {
            "colorbar": {
             "outlinewidth": 0,
             "ticks": ""
            },
            "colorscale": [
             [
              0,
              "#0d0887"
             ],
             [
              0.1111111111111111,
              "#46039f"
             ],
             [
              0.2222222222222222,
              "#7201a8"
             ],
             [
              0.3333333333333333,
              "#9c179e"
             ],
             [
              0.4444444444444444,
              "#bd3786"
             ],
             [
              0.5555555555555556,
              "#d8576b"
             ],
             [
              0.6666666666666666,
              "#ed7953"
             ],
             [
              0.7777777777777778,
              "#fb9f3a"
             ],
             [
              0.8888888888888888,
              "#fdca26"
             ],
             [
              1,
              "#f0f921"
             ]
            ],
            "type": "surface"
           }
          ],
          "table": [
           {
            "cells": {
             "fill": {
              "color": "#EBF0F8"
             },
             "line": {
              "color": "white"
             }
            },
            "header": {
             "fill": {
              "color": "#C8D4E3"
             },
             "line": {
              "color": "white"
             }
            },
            "type": "table"
           }
          ]
         },
         "layout": {
          "annotationdefaults": {
           "arrowcolor": "#2a3f5f",
           "arrowhead": 0,
           "arrowwidth": 1
          },
          "autotypenumbers": "strict",
          "coloraxis": {
           "colorbar": {
            "outlinewidth": 0,
            "ticks": ""
           }
          },
          "colorscale": {
           "diverging": [
            [
             0,
             "#8e0152"
            ],
            [
             0.1,
             "#c51b7d"
            ],
            [
             0.2,
             "#de77ae"
            ],
            [
             0.3,
             "#f1b6da"
            ],
            [
             0.4,
             "#fde0ef"
            ],
            [
             0.5,
             "#f7f7f7"
            ],
            [
             0.6,
             "#e6f5d0"
            ],
            [
             0.7,
             "#b8e186"
            ],
            [
             0.8,
             "#7fbc41"
            ],
            [
             0.9,
             "#4d9221"
            ],
            [
             1,
             "#276419"
            ]
           ],
           "sequential": [
            [
             0,
             "#0d0887"
            ],
            [
             0.1111111111111111,
             "#46039f"
            ],
            [
             0.2222222222222222,
             "#7201a8"
            ],
            [
             0.3333333333333333,
             "#9c179e"
            ],
            [
             0.4444444444444444,
             "#bd3786"
            ],
            [
             0.5555555555555556,
             "#d8576b"
            ],
            [
             0.6666666666666666,
             "#ed7953"
            ],
            [
             0.7777777777777778,
             "#fb9f3a"
            ],
            [
             0.8888888888888888,
             "#fdca26"
            ],
            [
             1,
             "#f0f921"
            ]
           ],
           "sequentialminus": [
            [
             0,
             "#0d0887"
            ],
            [
             0.1111111111111111,
             "#46039f"
            ],
            [
             0.2222222222222222,
             "#7201a8"
            ],
            [
             0.3333333333333333,
             "#9c179e"
            ],
            [
             0.4444444444444444,
             "#bd3786"
            ],
            [
             0.5555555555555556,
             "#d8576b"
            ],
            [
             0.6666666666666666,
             "#ed7953"
            ],
            [
             0.7777777777777778,
             "#fb9f3a"
            ],
            [
             0.8888888888888888,
             "#fdca26"
            ],
            [
             1,
             "#f0f921"
            ]
           ]
          },
          "colorway": [
           "#636efa",
           "#EF553B",
           "#00cc96",
           "#ab63fa",
           "#FFA15A",
           "#19d3f3",
           "#FF6692",
           "#B6E880",
           "#FF97FF",
           "#FECB52"
          ],
          "font": {
           "color": "#2a3f5f"
          },
          "geo": {
           "bgcolor": "white",
           "lakecolor": "white",
           "landcolor": "#E5ECF6",
           "showlakes": true,
           "showland": true,
           "subunitcolor": "white"
          },
          "hoverlabel": {
           "align": "left"
          },
          "hovermode": "closest",
          "mapbox": {
           "style": "light"
          },
          "paper_bgcolor": "white",
          "plot_bgcolor": "#E5ECF6",
          "polar": {
           "angularaxis": {
            "gridcolor": "white",
            "linecolor": "white",
            "ticks": ""
           },
           "bgcolor": "#E5ECF6",
           "radialaxis": {
            "gridcolor": "white",
            "linecolor": "white",
            "ticks": ""
           }
          },
          "scene": {
           "xaxis": {
            "backgroundcolor": "#E5ECF6",
            "gridcolor": "white",
            "gridwidth": 2,
            "linecolor": "white",
            "showbackground": true,
            "ticks": "",
            "zerolinecolor": "white"
           },
           "yaxis": {
            "backgroundcolor": "#E5ECF6",
            "gridcolor": "white",
            "gridwidth": 2,
            "linecolor": "white",
            "showbackground": true,
            "ticks": "",
            "zerolinecolor": "white"
           },
           "zaxis": {
            "backgroundcolor": "#E5ECF6",
            "gridcolor": "white",
            "gridwidth": 2,
            "linecolor": "white",
            "showbackground": true,
            "ticks": "",
            "zerolinecolor": "white"
           }
          },
          "shapedefaults": {
           "line": {
            "color": "#2a3f5f"
           }
          },
          "ternary": {
           "aaxis": {
            "gridcolor": "white",
            "linecolor": "white",
            "ticks": ""
           },
           "baxis": {
            "gridcolor": "white",
            "linecolor": "white",
            "ticks": ""
           },
           "bgcolor": "#E5ECF6",
           "caxis": {
            "gridcolor": "white",
            "linecolor": "white",
            "ticks": ""
           }
          },
          "title": {
           "x": 0.05
          },
          "xaxis": {
           "automargin": true,
           "gridcolor": "white",
           "linecolor": "white",
           "ticks": "",
           "title": {
            "standoff": 15
           },
           "zerolinecolor": "white",
           "zerolinewidth": 2
          },
          "yaxis": {
           "automargin": true,
           "gridcolor": "white",
           "linecolor": "white",
           "ticks": "",
           "title": {
            "standoff": 15
           },
           "zerolinecolor": "white",
           "zerolinewidth": 2
          }
         }
        },
        "title": {
         "text": "f1",
         "x": 0.5
        },
        "yaxis": {
         "tickmode": "array",
         "tickvals": [
          "0.63",
          0.3,
          0.8
         ]
        }
       }
      }
     },
     "metadata": {},
     "output_type": "display_data"
    }
   ],
   "source": [
    "genVisMulitlabel(partEvalMetrics, \"f1\")"
   ]
  },
  {
   "cell_type": "code",
   "execution_count": 49,
   "metadata": {},
   "outputs": [
    {
     "data": {
      "application/vnd.plotly.v1+json": {
       "config": {
        "plotlyServerURL": "https://plot.ly"
       },
       "data": [
        {
         "text": [
          0.2564,
          0.3316,
          0.1195,
          0.0543,
          0.0635,
          0.0646,
          0.0944,
          0.1253,
          0.3576,
          0.2341,
          0.1004,
          0.2869,
          0.1883,
          0.1972,
          0.0864,
          0.0638,
          0.1164,
          0.0411,
          0.1291,
          0.0987,
          0.0584,
          0.0978,
          0.0421,
          0.1114
         ],
         "type": "bar",
         "x": [
          "vision_bumper_rear",
          "vision_misc",
          "vision_rear_compartment",
          "vision_rear_panel",
          "vision_tail_lamp_lh",
          "vision_tail_lamp_rh",
          "vision_non_external",
          "vision_bonnet",
          "vision_bumper_front",
          "vision_engine",
          "vision_front_panel",
          "vision_grille",
          "vision_headlamp_lh",
          "vision_headlamp_rh",
          "vision_windscreen_front",
          "vision_door_front_lh",
          "vision_door_rear_lh",
          "vision_rear_quarter_lh",
          "vision_wheel",
          "vision_fender_front_lh",
          "vision_door_front_rh",
          "vision_door_rear_rh",
          "vision_rear_quarter_rh",
          "vision_fender_front_rh"
         ],
         "y": [
          0.2564,
          0.3316,
          0.1195,
          0.0543,
          0.0635,
          0.0646,
          0.0944,
          0.1253,
          0.3576,
          0.2341,
          0.1004,
          0.2869,
          0.1883,
          0.1972,
          0.0864,
          0.0638,
          0.1164,
          0.0411,
          0.1291,
          0.0987,
          0.0584,
          0.0978,
          0.0421,
          0.1114
         ]
        }
       ],
       "layout": {
        "shapes": [
         {
          "line": {
           "color": "red",
           "width": 2
          },
          "type": "line",
          "x0": 0,
          "x1": 1,
          "xref": "x domain",
          "y0": 0.13830416666666667,
          "y1": 0.13830416666666667,
          "yref": "y"
         }
        ],
        "template": {
         "data": {
          "bar": [
           {
            "error_x": {
             "color": "#2a3f5f"
            },
            "error_y": {
             "color": "#2a3f5f"
            },
            "marker": {
             "line": {
              "color": "#E5ECF6",
              "width": 0.5
             },
             "pattern": {
              "fillmode": "overlay",
              "size": 10,
              "solidity": 0.2
             }
            },
            "type": "bar"
           }
          ],
          "barpolar": [
           {
            "marker": {
             "line": {
              "color": "#E5ECF6",
              "width": 0.5
             },
             "pattern": {
              "fillmode": "overlay",
              "size": 10,
              "solidity": 0.2
             }
            },
            "type": "barpolar"
           }
          ],
          "carpet": [
           {
            "aaxis": {
             "endlinecolor": "#2a3f5f",
             "gridcolor": "white",
             "linecolor": "white",
             "minorgridcolor": "white",
             "startlinecolor": "#2a3f5f"
            },
            "baxis": {
             "endlinecolor": "#2a3f5f",
             "gridcolor": "white",
             "linecolor": "white",
             "minorgridcolor": "white",
             "startlinecolor": "#2a3f5f"
            },
            "type": "carpet"
           }
          ],
          "choropleth": [
           {
            "colorbar": {
             "outlinewidth": 0,
             "ticks": ""
            },
            "type": "choropleth"
           }
          ],
          "contour": [
           {
            "colorbar": {
             "outlinewidth": 0,
             "ticks": ""
            },
            "colorscale": [
             [
              0,
              "#0d0887"
             ],
             [
              0.1111111111111111,
              "#46039f"
             ],
             [
              0.2222222222222222,
              "#7201a8"
             ],
             [
              0.3333333333333333,
              "#9c179e"
             ],
             [
              0.4444444444444444,
              "#bd3786"
             ],
             [
              0.5555555555555556,
              "#d8576b"
             ],
             [
              0.6666666666666666,
              "#ed7953"
             ],
             [
              0.7777777777777778,
              "#fb9f3a"
             ],
             [
              0.8888888888888888,
              "#fdca26"
             ],
             [
              1,
              "#f0f921"
             ]
            ],
            "type": "contour"
           }
          ],
          "contourcarpet": [
           {
            "colorbar": {
             "outlinewidth": 0,
             "ticks": ""
            },
            "type": "contourcarpet"
           }
          ],
          "heatmap": [
           {
            "colorbar": {
             "outlinewidth": 0,
             "ticks": ""
            },
            "colorscale": [
             [
              0,
              "#0d0887"
             ],
             [
              0.1111111111111111,
              "#46039f"
             ],
             [
              0.2222222222222222,
              "#7201a8"
             ],
             [
              0.3333333333333333,
              "#9c179e"
             ],
             [
              0.4444444444444444,
              "#bd3786"
             ],
             [
              0.5555555555555556,
              "#d8576b"
             ],
             [
              0.6666666666666666,
              "#ed7953"
             ],
             [
              0.7777777777777778,
              "#fb9f3a"
             ],
             [
              0.8888888888888888,
              "#fdca26"
             ],
             [
              1,
              "#f0f921"
             ]
            ],
            "type": "heatmap"
           }
          ],
          "heatmapgl": [
           {
            "colorbar": {
             "outlinewidth": 0,
             "ticks": ""
            },
            "colorscale": [
             [
              0,
              "#0d0887"
             ],
             [
              0.1111111111111111,
              "#46039f"
             ],
             [
              0.2222222222222222,
              "#7201a8"
             ],
             [
              0.3333333333333333,
              "#9c179e"
             ],
             [
              0.4444444444444444,
              "#bd3786"
             ],
             [
              0.5555555555555556,
              "#d8576b"
             ],
             [
              0.6666666666666666,
              "#ed7953"
             ],
             [
              0.7777777777777778,
              "#fb9f3a"
             ],
             [
              0.8888888888888888,
              "#fdca26"
             ],
             [
              1,
              "#f0f921"
             ]
            ],
            "type": "heatmapgl"
           }
          ],
          "histogram": [
           {
            "marker": {
             "pattern": {
              "fillmode": "overlay",
              "size": 10,
              "solidity": 0.2
             }
            },
            "type": "histogram"
           }
          ],
          "histogram2d": [
           {
            "colorbar": {
             "outlinewidth": 0,
             "ticks": ""
            },
            "colorscale": [
             [
              0,
              "#0d0887"
             ],
             [
              0.1111111111111111,
              "#46039f"
             ],
             [
              0.2222222222222222,
              "#7201a8"
             ],
             [
              0.3333333333333333,
              "#9c179e"
             ],
             [
              0.4444444444444444,
              "#bd3786"
             ],
             [
              0.5555555555555556,
              "#d8576b"
             ],
             [
              0.6666666666666666,
              "#ed7953"
             ],
             [
              0.7777777777777778,
              "#fb9f3a"
             ],
             [
              0.8888888888888888,
              "#fdca26"
             ],
             [
              1,
              "#f0f921"
             ]
            ],
            "type": "histogram2d"
           }
          ],
          "histogram2dcontour": [
           {
            "colorbar": {
             "outlinewidth": 0,
             "ticks": ""
            },
            "colorscale": [
             [
              0,
              "#0d0887"
             ],
             [
              0.1111111111111111,
              "#46039f"
             ],
             [
              0.2222222222222222,
              "#7201a8"
             ],
             [
              0.3333333333333333,
              "#9c179e"
             ],
             [
              0.4444444444444444,
              "#bd3786"
             ],
             [
              0.5555555555555556,
              "#d8576b"
             ],
             [
              0.6666666666666666,
              "#ed7953"
             ],
             [
              0.7777777777777778,
              "#fb9f3a"
             ],
             [
              0.8888888888888888,
              "#fdca26"
             ],
             [
              1,
              "#f0f921"
             ]
            ],
            "type": "histogram2dcontour"
           }
          ],
          "mesh3d": [
           {
            "colorbar": {
             "outlinewidth": 0,
             "ticks": ""
            },
            "type": "mesh3d"
           }
          ],
          "parcoords": [
           {
            "line": {
             "colorbar": {
              "outlinewidth": 0,
              "ticks": ""
             }
            },
            "type": "parcoords"
           }
          ],
          "pie": [
           {
            "automargin": true,
            "type": "pie"
           }
          ],
          "scatter": [
           {
            "fillpattern": {
             "fillmode": "overlay",
             "size": 10,
             "solidity": 0.2
            },
            "type": "scatter"
           }
          ],
          "scatter3d": [
           {
            "line": {
             "colorbar": {
              "outlinewidth": 0,
              "ticks": ""
             }
            },
            "marker": {
             "colorbar": {
              "outlinewidth": 0,
              "ticks": ""
             }
            },
            "type": "scatter3d"
           }
          ],
          "scattercarpet": [
           {
            "marker": {
             "colorbar": {
              "outlinewidth": 0,
              "ticks": ""
             }
            },
            "type": "scattercarpet"
           }
          ],
          "scattergeo": [
           {
            "marker": {
             "colorbar": {
              "outlinewidth": 0,
              "ticks": ""
             }
            },
            "type": "scattergeo"
           }
          ],
          "scattergl": [
           {
            "marker": {
             "colorbar": {
              "outlinewidth": 0,
              "ticks": ""
             }
            },
            "type": "scattergl"
           }
          ],
          "scattermapbox": [
           {
            "marker": {
             "colorbar": {
              "outlinewidth": 0,
              "ticks": ""
             }
            },
            "type": "scattermapbox"
           }
          ],
          "scatterpolar": [
           {
            "marker": {
             "colorbar": {
              "outlinewidth": 0,
              "ticks": ""
             }
            },
            "type": "scatterpolar"
           }
          ],
          "scatterpolargl": [
           {
            "marker": {
             "colorbar": {
              "outlinewidth": 0,
              "ticks": ""
             }
            },
            "type": "scatterpolargl"
           }
          ],
          "scatterternary": [
           {
            "marker": {
             "colorbar": {
              "outlinewidth": 0,
              "ticks": ""
             }
            },
            "type": "scatterternary"
           }
          ],
          "surface": [
           {
            "colorbar": {
             "outlinewidth": 0,
             "ticks": ""
            },
            "colorscale": [
             [
              0,
              "#0d0887"
             ],
             [
              0.1111111111111111,
              "#46039f"
             ],
             [
              0.2222222222222222,
              "#7201a8"
             ],
             [
              0.3333333333333333,
              "#9c179e"
             ],
             [
              0.4444444444444444,
              "#bd3786"
             ],
             [
              0.5555555555555556,
              "#d8576b"
             ],
             [
              0.6666666666666666,
              "#ed7953"
             ],
             [
              0.7777777777777778,
              "#fb9f3a"
             ],
             [
              0.8888888888888888,
              "#fdca26"
             ],
             [
              1,
              "#f0f921"
             ]
            ],
            "type": "surface"
           }
          ],
          "table": [
           {
            "cells": {
             "fill": {
              "color": "#EBF0F8"
             },
             "line": {
              "color": "white"
             }
            },
            "header": {
             "fill": {
              "color": "#C8D4E3"
             },
             "line": {
              "color": "white"
             }
            },
            "type": "table"
           }
          ]
         },
         "layout": {
          "annotationdefaults": {
           "arrowcolor": "#2a3f5f",
           "arrowhead": 0,
           "arrowwidth": 1
          },
          "autotypenumbers": "strict",
          "coloraxis": {
           "colorbar": {
            "outlinewidth": 0,
            "ticks": ""
           }
          },
          "colorscale": {
           "diverging": [
            [
             0,
             "#8e0152"
            ],
            [
             0.1,
             "#c51b7d"
            ],
            [
             0.2,
             "#de77ae"
            ],
            [
             0.3,
             "#f1b6da"
            ],
            [
             0.4,
             "#fde0ef"
            ],
            [
             0.5,
             "#f7f7f7"
            ],
            [
             0.6,
             "#e6f5d0"
            ],
            [
             0.7,
             "#b8e186"
            ],
            [
             0.8,
             "#7fbc41"
            ],
            [
             0.9,
             "#4d9221"
            ],
            [
             1,
             "#276419"
            ]
           ],
           "sequential": [
            [
             0,
             "#0d0887"
            ],
            [
             0.1111111111111111,
             "#46039f"
            ],
            [
             0.2222222222222222,
             "#7201a8"
            ],
            [
             0.3333333333333333,
             "#9c179e"
            ],
            [
             0.4444444444444444,
             "#bd3786"
            ],
            [
             0.5555555555555556,
             "#d8576b"
            ],
            [
             0.6666666666666666,
             "#ed7953"
            ],
            [
             0.7777777777777778,
             "#fb9f3a"
            ],
            [
             0.8888888888888888,
             "#fdca26"
            ],
            [
             1,
             "#f0f921"
            ]
           ],
           "sequentialminus": [
            [
             0,
             "#0d0887"
            ],
            [
             0.1111111111111111,
             "#46039f"
            ],
            [
             0.2222222222222222,
             "#7201a8"
            ],
            [
             0.3333333333333333,
             "#9c179e"
            ],
            [
             0.4444444444444444,
             "#bd3786"
            ],
            [
             0.5555555555555556,
             "#d8576b"
            ],
            [
             0.6666666666666666,
             "#ed7953"
            ],
            [
             0.7777777777777778,
             "#fb9f3a"
            ],
            [
             0.8888888888888888,
             "#fdca26"
            ],
            [
             1,
             "#f0f921"
            ]
           ]
          },
          "colorway": [
           "#636efa",
           "#EF553B",
           "#00cc96",
           "#ab63fa",
           "#FFA15A",
           "#19d3f3",
           "#FF6692",
           "#B6E880",
           "#FF97FF",
           "#FECB52"
          ],
          "font": {
           "color": "#2a3f5f"
          },
          "geo": {
           "bgcolor": "white",
           "lakecolor": "white",
           "landcolor": "#E5ECF6",
           "showlakes": true,
           "showland": true,
           "subunitcolor": "white"
          },
          "hoverlabel": {
           "align": "left"
          },
          "hovermode": "closest",
          "mapbox": {
           "style": "light"
          },
          "paper_bgcolor": "white",
          "plot_bgcolor": "#E5ECF6",
          "polar": {
           "angularaxis": {
            "gridcolor": "white",
            "linecolor": "white",
            "ticks": ""
           },
           "bgcolor": "#E5ECF6",
           "radialaxis": {
            "gridcolor": "white",
            "linecolor": "white",
            "ticks": ""
           }
          },
          "scene": {
           "xaxis": {
            "backgroundcolor": "#E5ECF6",
            "gridcolor": "white",
            "gridwidth": 2,
            "linecolor": "white",
            "showbackground": true,
            "ticks": "",
            "zerolinecolor": "white"
           },
           "yaxis": {
            "backgroundcolor": "#E5ECF6",
            "gridcolor": "white",
            "gridwidth": 2,
            "linecolor": "white",
            "showbackground": true,
            "ticks": "",
            "zerolinecolor": "white"
           },
           "zaxis": {
            "backgroundcolor": "#E5ECF6",
            "gridcolor": "white",
            "gridwidth": 2,
            "linecolor": "white",
            "showbackground": true,
            "ticks": "",
            "zerolinecolor": "white"
           }
          },
          "shapedefaults": {
           "line": {
            "color": "#2a3f5f"
           }
          },
          "ternary": {
           "aaxis": {
            "gridcolor": "white",
            "linecolor": "white",
            "ticks": ""
           },
           "baxis": {
            "gridcolor": "white",
            "linecolor": "white",
            "ticks": ""
           },
           "bgcolor": "#E5ECF6",
           "caxis": {
            "gridcolor": "white",
            "linecolor": "white",
            "ticks": ""
           }
          },
          "title": {
           "x": 0.05
          },
          "xaxis": {
           "automargin": true,
           "gridcolor": "white",
           "linecolor": "white",
           "ticks": "",
           "title": {
            "standoff": 15
           },
           "zerolinecolor": "white",
           "zerolinewidth": 2
          },
          "yaxis": {
           "automargin": true,
           "gridcolor": "white",
           "linecolor": "white",
           "ticks": "",
           "title": {
            "standoff": 15
           },
           "zerolinecolor": "white",
           "zerolinewidth": 2
          }
         }
        },
        "title": {
         "text": "gt_pos_ratio",
         "x": 0.5
        },
        "yaxis": {
         "tickmode": "array",
         "tickvals": [
          "0.14",
          0.3,
          0.8
         ]
        }
       }
      }
     },
     "metadata": {},
     "output_type": "display_data"
    }
   ],
   "source": [
    "genVisMulitlabel(partEvalMetrics, \"gt_pos_ratio\")"
   ]
  },
  {
   "cell_type": "code",
   "execution_count": 50,
   "metadata": {},
   "outputs": [
    {
     "data": {
      "application/vnd.plotly.v1+json": {
       "config": {
        "plotlyServerURL": "https://plot.ly"
       },
       "data": [
        {
         "text": [
          0.3597,
          0.8976,
          0.1535,
          0.0597,
          0.1276,
          0.1233,
          0.0933,
          0.1867,
          0.6195,
          0.2959,
          0.1095,
          0.2254,
          0.282,
          0.2306,
          0.0814,
          0.1157,
          0.1941,
          0.034,
          0.2879,
          0.1054,
          0.144,
          0.3497,
          0.0385,
          0.0753
         ],
         "type": "bar",
         "x": [
          "vision_bumper_rear",
          "vision_misc",
          "vision_rear_compartment",
          "vision_rear_panel",
          "vision_tail_lamp_lh",
          "vision_tail_lamp_rh",
          "vision_non_external",
          "vision_bonnet",
          "vision_bumper_front",
          "vision_engine",
          "vision_front_panel",
          "vision_grille",
          "vision_headlamp_lh",
          "vision_headlamp_rh",
          "vision_windscreen_front",
          "vision_door_front_lh",
          "vision_door_rear_lh",
          "vision_rear_quarter_lh",
          "vision_wheel",
          "vision_fender_front_lh",
          "vision_door_front_rh",
          "vision_door_rear_rh",
          "vision_rear_quarter_rh",
          "vision_fender_front_rh"
         ],
         "y": [
          0.3597,
          0.8976,
          0.1535,
          0.0597,
          0.1276,
          0.1233,
          0.0933,
          0.1867,
          0.6195,
          0.2959,
          0.1095,
          0.2254,
          0.282,
          0.2306,
          0.0814,
          0.1157,
          0.1941,
          0.034,
          0.2879,
          0.1054,
          0.144,
          0.3497,
          0.0385,
          0.0753
         ]
        }
       ],
       "layout": {
        "shapes": [
         {
          "line": {
           "color": "red",
           "width": 2
          },
          "type": "line",
          "x0": 0,
          "x1": 1,
          "xref": "x domain",
          "y0": 0.21626250000000002,
          "y1": 0.21626250000000002,
          "yref": "y"
         }
        ],
        "template": {
         "data": {
          "bar": [
           {
            "error_x": {
             "color": "#2a3f5f"
            },
            "error_y": {
             "color": "#2a3f5f"
            },
            "marker": {
             "line": {
              "color": "#E5ECF6",
              "width": 0.5
             },
             "pattern": {
              "fillmode": "overlay",
              "size": 10,
              "solidity": 0.2
             }
            },
            "type": "bar"
           }
          ],
          "barpolar": [
           {
            "marker": {
             "line": {
              "color": "#E5ECF6",
              "width": 0.5
             },
             "pattern": {
              "fillmode": "overlay",
              "size": 10,
              "solidity": 0.2
             }
            },
            "type": "barpolar"
           }
          ],
          "carpet": [
           {
            "aaxis": {
             "endlinecolor": "#2a3f5f",
             "gridcolor": "white",
             "linecolor": "white",
             "minorgridcolor": "white",
             "startlinecolor": "#2a3f5f"
            },
            "baxis": {
             "endlinecolor": "#2a3f5f",
             "gridcolor": "white",
             "linecolor": "white",
             "minorgridcolor": "white",
             "startlinecolor": "#2a3f5f"
            },
            "type": "carpet"
           }
          ],
          "choropleth": [
           {
            "colorbar": {
             "outlinewidth": 0,
             "ticks": ""
            },
            "type": "choropleth"
           }
          ],
          "contour": [
           {
            "colorbar": {
             "outlinewidth": 0,
             "ticks": ""
            },
            "colorscale": [
             [
              0,
              "#0d0887"
             ],
             [
              0.1111111111111111,
              "#46039f"
             ],
             [
              0.2222222222222222,
              "#7201a8"
             ],
             [
              0.3333333333333333,
              "#9c179e"
             ],
             [
              0.4444444444444444,
              "#bd3786"
             ],
             [
              0.5555555555555556,
              "#d8576b"
             ],
             [
              0.6666666666666666,
              "#ed7953"
             ],
             [
              0.7777777777777778,
              "#fb9f3a"
             ],
             [
              0.8888888888888888,
              "#fdca26"
             ],
             [
              1,
              "#f0f921"
             ]
            ],
            "type": "contour"
           }
          ],
          "contourcarpet": [
           {
            "colorbar": {
             "outlinewidth": 0,
             "ticks": ""
            },
            "type": "contourcarpet"
           }
          ],
          "heatmap": [
           {
            "colorbar": {
             "outlinewidth": 0,
             "ticks": ""
            },
            "colorscale": [
             [
              0,
              "#0d0887"
             ],
             [
              0.1111111111111111,
              "#46039f"
             ],
             [
              0.2222222222222222,
              "#7201a8"
             ],
             [
              0.3333333333333333,
              "#9c179e"
             ],
             [
              0.4444444444444444,
              "#bd3786"
             ],
             [
              0.5555555555555556,
              "#d8576b"
             ],
             [
              0.6666666666666666,
              "#ed7953"
             ],
             [
              0.7777777777777778,
              "#fb9f3a"
             ],
             [
              0.8888888888888888,
              "#fdca26"
             ],
             [
              1,
              "#f0f921"
             ]
            ],
            "type": "heatmap"
           }
          ],
          "heatmapgl": [
           {
            "colorbar": {
             "outlinewidth": 0,
             "ticks": ""
            },
            "colorscale": [
             [
              0,
              "#0d0887"
             ],
             [
              0.1111111111111111,
              "#46039f"
             ],
             [
              0.2222222222222222,
              "#7201a8"
             ],
             [
              0.3333333333333333,
              "#9c179e"
             ],
             [
              0.4444444444444444,
              "#bd3786"
             ],
             [
              0.5555555555555556,
              "#d8576b"
             ],
             [
              0.6666666666666666,
              "#ed7953"
             ],
             [
              0.7777777777777778,
              "#fb9f3a"
             ],
             [
              0.8888888888888888,
              "#fdca26"
             ],
             [
              1,
              "#f0f921"
             ]
            ],
            "type": "heatmapgl"
           }
          ],
          "histogram": [
           {
            "marker": {
             "pattern": {
              "fillmode": "overlay",
              "size": 10,
              "solidity": 0.2
             }
            },
            "type": "histogram"
           }
          ],
          "histogram2d": [
           {
            "colorbar": {
             "outlinewidth": 0,
             "ticks": ""
            },
            "colorscale": [
             [
              0,
              "#0d0887"
             ],
             [
              0.1111111111111111,
              "#46039f"
             ],
             [
              0.2222222222222222,
              "#7201a8"
             ],
             [
              0.3333333333333333,
              "#9c179e"
             ],
             [
              0.4444444444444444,
              "#bd3786"
             ],
             [
              0.5555555555555556,
              "#d8576b"
             ],
             [
              0.6666666666666666,
              "#ed7953"
             ],
             [
              0.7777777777777778,
              "#fb9f3a"
             ],
             [
              0.8888888888888888,
              "#fdca26"
             ],
             [
              1,
              "#f0f921"
             ]
            ],
            "type": "histogram2d"
           }
          ],
          "histogram2dcontour": [
           {
            "colorbar": {
             "outlinewidth": 0,
             "ticks": ""
            },
            "colorscale": [
             [
              0,
              "#0d0887"
             ],
             [
              0.1111111111111111,
              "#46039f"
             ],
             [
              0.2222222222222222,
              "#7201a8"
             ],
             [
              0.3333333333333333,
              "#9c179e"
             ],
             [
              0.4444444444444444,
              "#bd3786"
             ],
             [
              0.5555555555555556,
              "#d8576b"
             ],
             [
              0.6666666666666666,
              "#ed7953"
             ],
             [
              0.7777777777777778,
              "#fb9f3a"
             ],
             [
              0.8888888888888888,
              "#fdca26"
             ],
             [
              1,
              "#f0f921"
             ]
            ],
            "type": "histogram2dcontour"
           }
          ],
          "mesh3d": [
           {
            "colorbar": {
             "outlinewidth": 0,
             "ticks": ""
            },
            "type": "mesh3d"
           }
          ],
          "parcoords": [
           {
            "line": {
             "colorbar": {
              "outlinewidth": 0,
              "ticks": ""
             }
            },
            "type": "parcoords"
           }
          ],
          "pie": [
           {
            "automargin": true,
            "type": "pie"
           }
          ],
          "scatter": [
           {
            "fillpattern": {
             "fillmode": "overlay",
             "size": 10,
             "solidity": 0.2
            },
            "type": "scatter"
           }
          ],
          "scatter3d": [
           {
            "line": {
             "colorbar": {
              "outlinewidth": 0,
              "ticks": ""
             }
            },
            "marker": {
             "colorbar": {
              "outlinewidth": 0,
              "ticks": ""
             }
            },
            "type": "scatter3d"
           }
          ],
          "scattercarpet": [
           {
            "marker": {
             "colorbar": {
              "outlinewidth": 0,
              "ticks": ""
             }
            },
            "type": "scattercarpet"
           }
          ],
          "scattergeo": [
           {
            "marker": {
             "colorbar": {
              "outlinewidth": 0,
              "ticks": ""
             }
            },
            "type": "scattergeo"
           }
          ],
          "scattergl": [
           {
            "marker": {
             "colorbar": {
              "outlinewidth": 0,
              "ticks": ""
             }
            },
            "type": "scattergl"
           }
          ],
          "scattermapbox": [
           {
            "marker": {
             "colorbar": {
              "outlinewidth": 0,
              "ticks": ""
             }
            },
            "type": "scattermapbox"
           }
          ],
          "scatterpolar": [
           {
            "marker": {
             "colorbar": {
              "outlinewidth": 0,
              "ticks": ""
             }
            },
            "type": "scatterpolar"
           }
          ],
          "scatterpolargl": [
           {
            "marker": {
             "colorbar": {
              "outlinewidth": 0,
              "ticks": ""
             }
            },
            "type": "scatterpolargl"
           }
          ],
          "scatterternary": [
           {
            "marker": {
             "colorbar": {
              "outlinewidth": 0,
              "ticks": ""
             }
            },
            "type": "scatterternary"
           }
          ],
          "surface": [
           {
            "colorbar": {
             "outlinewidth": 0,
             "ticks": ""
            },
            "colorscale": [
             [
              0,
              "#0d0887"
             ],
             [
              0.1111111111111111,
              "#46039f"
             ],
             [
              0.2222222222222222,
              "#7201a8"
             ],
             [
              0.3333333333333333,
              "#9c179e"
             ],
             [
              0.4444444444444444,
              "#bd3786"
             ],
             [
              0.5555555555555556,
              "#d8576b"
             ],
             [
              0.6666666666666666,
              "#ed7953"
             ],
             [
              0.7777777777777778,
              "#fb9f3a"
             ],
             [
              0.8888888888888888,
              "#fdca26"
             ],
             [
              1,
              "#f0f921"
             ]
            ],
            "type": "surface"
           }
          ],
          "table": [
           {
            "cells": {
             "fill": {
              "color": "#EBF0F8"
             },
             "line": {
              "color": "white"
             }
            },
            "header": {
             "fill": {
              "color": "#C8D4E3"
             },
             "line": {
              "color": "white"
             }
            },
            "type": "table"
           }
          ]
         },
         "layout": {
          "annotationdefaults": {
           "arrowcolor": "#2a3f5f",
           "arrowhead": 0,
           "arrowwidth": 1
          },
          "autotypenumbers": "strict",
          "coloraxis": {
           "colorbar": {
            "outlinewidth": 0,
            "ticks": ""
           }
          },
          "colorscale": {
           "diverging": [
            [
             0,
             "#8e0152"
            ],
            [
             0.1,
             "#c51b7d"
            ],
            [
             0.2,
             "#de77ae"
            ],
            [
             0.3,
             "#f1b6da"
            ],
            [
             0.4,
             "#fde0ef"
            ],
            [
             0.5,
             "#f7f7f7"
            ],
            [
             0.6,
             "#e6f5d0"
            ],
            [
             0.7,
             "#b8e186"
            ],
            [
             0.8,
             "#7fbc41"
            ],
            [
             0.9,
             "#4d9221"
            ],
            [
             1,
             "#276419"
            ]
           ],
           "sequential": [
            [
             0,
             "#0d0887"
            ],
            [
             0.1111111111111111,
             "#46039f"
            ],
            [
             0.2222222222222222,
             "#7201a8"
            ],
            [
             0.3333333333333333,
             "#9c179e"
            ],
            [
             0.4444444444444444,
             "#bd3786"
            ],
            [
             0.5555555555555556,
             "#d8576b"
            ],
            [
             0.6666666666666666,
             "#ed7953"
            ],
            [
             0.7777777777777778,
             "#fb9f3a"
            ],
            [
             0.8888888888888888,
             "#fdca26"
            ],
            [
             1,
             "#f0f921"
            ]
           ],
           "sequentialminus": [
            [
             0,
             "#0d0887"
            ],
            [
             0.1111111111111111,
             "#46039f"
            ],
            [
             0.2222222222222222,
             "#7201a8"
            ],
            [
             0.3333333333333333,
             "#9c179e"
            ],
            [
             0.4444444444444444,
             "#bd3786"
            ],
            [
             0.5555555555555556,
             "#d8576b"
            ],
            [
             0.6666666666666666,
             "#ed7953"
            ],
            [
             0.7777777777777778,
             "#fb9f3a"
            ],
            [
             0.8888888888888888,
             "#fdca26"
            ],
            [
             1,
             "#f0f921"
            ]
           ]
          },
          "colorway": [
           "#636efa",
           "#EF553B",
           "#00cc96",
           "#ab63fa",
           "#FFA15A",
           "#19d3f3",
           "#FF6692",
           "#B6E880",
           "#FF97FF",
           "#FECB52"
          ],
          "font": {
           "color": "#2a3f5f"
          },
          "geo": {
           "bgcolor": "white",
           "lakecolor": "white",
           "landcolor": "#E5ECF6",
           "showlakes": true,
           "showland": true,
           "subunitcolor": "white"
          },
          "hoverlabel": {
           "align": "left"
          },
          "hovermode": "closest",
          "mapbox": {
           "style": "light"
          },
          "paper_bgcolor": "white",
          "plot_bgcolor": "#E5ECF6",
          "polar": {
           "angularaxis": {
            "gridcolor": "white",
            "linecolor": "white",
            "ticks": ""
           },
           "bgcolor": "#E5ECF6",
           "radialaxis": {
            "gridcolor": "white",
            "linecolor": "white",
            "ticks": ""
           }
          },
          "scene": {
           "xaxis": {
            "backgroundcolor": "#E5ECF6",
            "gridcolor": "white",
            "gridwidth": 2,
            "linecolor": "white",
            "showbackground": true,
            "ticks": "",
            "zerolinecolor": "white"
           },
           "yaxis": {
            "backgroundcolor": "#E5ECF6",
            "gridcolor": "white",
            "gridwidth": 2,
            "linecolor": "white",
            "showbackground": true,
            "ticks": "",
            "zerolinecolor": "white"
           },
           "zaxis": {
            "backgroundcolor": "#E5ECF6",
            "gridcolor": "white",
            "gridwidth": 2,
            "linecolor": "white",
            "showbackground": true,
            "ticks": "",
            "zerolinecolor": "white"
           }
          },
          "shapedefaults": {
           "line": {
            "color": "#2a3f5f"
           }
          },
          "ternary": {
           "aaxis": {
            "gridcolor": "white",
            "linecolor": "white",
            "ticks": ""
           },
           "baxis": {
            "gridcolor": "white",
            "linecolor": "white",
            "ticks": ""
           },
           "bgcolor": "#E5ECF6",
           "caxis": {
            "gridcolor": "white",
            "linecolor": "white",
            "ticks": ""
           }
          },
          "title": {
           "x": 0.05
          },
          "xaxis": {
           "automargin": true,
           "gridcolor": "white",
           "linecolor": "white",
           "ticks": "",
           "title": {
            "standoff": 15
           },
           "zerolinecolor": "white",
           "zerolinewidth": 2
          },
          "yaxis": {
           "automargin": true,
           "gridcolor": "white",
           "linecolor": "white",
           "ticks": "",
           "title": {
            "standoff": 15
           },
           "zerolinecolor": "white",
           "zerolinewidth": 2
          }
         }
        },
        "title": {
         "text": "pred_pos_ratio",
         "x": 0.5
        },
        "yaxis": {
         "tickmode": "array",
         "tickvals": [
          "0.22",
          0.3,
          0.8
         ]
        }
       }
      }
     },
     "metadata": {},
     "output_type": "display_data"
    }
   ],
   "source": [
    "genVisMulitlabel(partEvalMetrics, \"pred_pos_ratio\")"
   ]
  },
  {
   "cell_type": "code",
   "execution_count": 51,
   "metadata": {},
   "outputs": [
    {
     "data": {
      "application/vnd.plotly.v1+json": {
       "config": {
        "plotlyServerURL": "https://plot.ly"
       },
       "data": [
        {
         "alignmentgroup": "True",
         "bingroup": "x",
         "hovertemplate": "subset_acc=%{x}<br>count=%{y}<extra></extra>",
         "legendgroup": "",
         "marker": {
          "color": "#636efa",
          "pattern": {
           "shape": ""
          }
         },
         "name": "",
         "offsetgroup": "",
         "orientation": "v",
         "showlegend": false,
         "type": "histogram",
         "x": [
          0.7916666666666666,
          0.6666666666666666,
          0.25,
          0.7083333333333334,
          0.875,
          0.6666666666666666,
          0.8333333333333334,
          0.875,
          0.7916666666666666,
          0.8333333333333334,
          0.875,
          0.4583333333333333,
          0.8333333333333334,
          0.5416666666666666,
          0.5,
          0.8333333333333334,
          0.8333333333333334,
          0.7083333333333334,
          0.875,
          0.6666666666666666,
          0.875,
          0.8333333333333334,
          0.7916666666666666,
          0.6666666666666666,
          0.8333333333333334,
          0.9166666666666666,
          0.6666666666666666,
          0.7916666666666666,
          0.5833333333333334,
          0.5416666666666666,
          0.8333333333333334,
          0.8333333333333334,
          0.8333333333333334,
          0.625,
          0.4583333333333333,
          0.875,
          0.8333333333333334,
          0.5,
          0.875,
          0.5833333333333334,
          0.7083333333333334,
          0.875,
          0.7083333333333334,
          0.7083333333333334,
          0.6666666666666666,
          0.625,
          0.75,
          0.75,
          0.5,
          0.75,
          0.75,
          0.6666666666666666,
          0.8333333333333334,
          0.75,
          0.875,
          0.7083333333333334,
          0.625,
          0.7083333333333334,
          0.7916666666666666,
          0.75,
          0.7083333333333334,
          0.7083333333333334,
          0.875,
          0.7916666666666666,
          0.75,
          0.7916666666666666,
          0.5,
          0.7916666666666666,
          0.9166666666666666,
          0.8333333333333334,
          0.7083333333333334,
          0.875,
          0.875,
          0.7916666666666666,
          0.8333333333333334,
          0.9583333333333334,
          0.875,
          0.8333333333333334,
          0.5416666666666666,
          0.5833333333333334,
          0.75,
          0.7916666666666666,
          0.7083333333333334,
          0.75,
          0.6666666666666666,
          0.7083333333333334,
          0.375,
          0.6666666666666666,
          0.7916666666666666,
          0.9166666666666666,
          0.7916666666666666,
          0.875,
          0.8333333333333334,
          0.625,
          0.6666666666666666,
          0.9583333333333334,
          0.875,
          0.875,
          0.5,
          0.75,
          0.8333333333333334,
          0.625,
          0.8333333333333334,
          0.7916666666666666,
          0.5416666666666666,
          0.75,
          0.7916666666666666,
          0.9166666666666666,
          0.7916666666666666,
          0.75,
          0.8333333333333334,
          0.625,
          0.875,
          0.625,
          0.8333333333333334,
          0.375,
          0.75,
          0.75,
          0.5416666666666666,
          0.8333333333333334,
          0.9166666666666666,
          0.625,
          0.9583333333333334,
          0.4583333333333333,
          0.8333333333333334,
          0.7083333333333334,
          0.875,
          0.9583333333333334,
          0.75,
          0.625,
          0.6666666666666666,
          0.7916666666666666,
          0.6666666666666666,
          0.7916666666666666,
          0.9583333333333334,
          0.75,
          0.7916666666666666,
          0.625,
          0.625,
          0.5833333333333334,
          0.7916666666666666,
          0.7083333333333334,
          0.625,
          0.75,
          0.75,
          0.75,
          0.875,
          0.9583333333333334,
          0.5,
          0.7916666666666666,
          0.7916666666666666,
          0.75,
          0.625,
          0.9166666666666666,
          0.6666666666666666,
          0.9166666666666666,
          0.375,
          0.7083333333333334,
          0.8333333333333334,
          0.7916666666666666,
          0.9583333333333334,
          0.3333333333333333,
          0.2916666666666667,
          0.875,
          0.7916666666666666,
          0.6666666666666666,
          0.7083333333333334,
          0.8333333333333334,
          0.8333333333333334,
          0.75,
          0.875,
          0.625,
          0.625,
          0.75,
          0.8333333333333334,
          0.875,
          0.7916666666666666,
          0.7083333333333334,
          0.8333333333333334,
          0.8333333333333334,
          0.7083333333333334,
          1,
          0.5416666666666666,
          0.5,
          0.75,
          0.9583333333333334,
          0.7916666666666666,
          0.875,
          0.7916666666666666,
          0.75,
          0.8333333333333334,
          0.9583333333333334,
          0.6666666666666666,
          0.8333333333333334,
          0.7916666666666666,
          0.9166666666666666,
          0.875,
          0.875,
          0.7916666666666666,
          0.9166666666666666,
          0.7083333333333334,
          0.75,
          0.8333333333333334,
          0.875,
          0.625,
          0.75,
          0.875,
          0.5833333333333334,
          0.5416666666666666,
          0.5833333333333334,
          0.9583333333333334,
          0.7083333333333334,
          0.7083333333333334,
          0.9166666666666666,
          0.75,
          0.8333333333333334,
          0.6666666666666666,
          0.5,
          0.7916666666666666,
          0.75,
          0.375,
          0.8333333333333334,
          0.9166666666666666,
          0.7916666666666666,
          0.75,
          0.7083333333333334,
          0.6666666666666666,
          0.7916666666666666,
          0.7083333333333334,
          0.875,
          0.7916666666666666,
          0.9166666666666666,
          0.8333333333333334,
          0.875,
          0.7916666666666666,
          0.7916666666666666,
          0.5416666666666666,
          0.8333333333333334,
          0.6666666666666666,
          0.8333333333333334,
          0.6666666666666666,
          0.6666666666666666,
          0.875,
          1,
          0.7916666666666666,
          0.9166666666666666,
          0.7916666666666666,
          0.75,
          0.7916666666666666,
          0.8333333333333334,
          0.8333333333333334,
          0.75,
          0.875,
          0.4166666666666667,
          0.8333333333333334,
          0.3333333333333333,
          0.6666666666666666,
          0.75,
          0.8333333333333334,
          0.75,
          0.7916666666666666,
          0.625,
          0.25,
          0.875,
          0.9166666666666666,
          0.7916666666666666,
          0.6666666666666666,
          0.5833333333333334,
          0.75,
          0.7083333333333334,
          0.875,
          0.8333333333333334,
          0.875,
          0.8333333333333334,
          0.7916666666666666,
          0.9583333333333334,
          0.7083333333333334,
          0.8333333333333334,
          0.7916666666666666,
          0.9166666666666666,
          0.75,
          0.6666666666666666,
          0.8333333333333334,
          0.625,
          0.5416666666666666,
          0.9166666666666666,
          0.8333333333333334,
          0.8333333333333334,
          0.5416666666666666,
          0.875,
          0.625,
          0.75,
          0.8333333333333334,
          0.7916666666666666,
          0.7083333333333334,
          0.875,
          0.5416666666666666,
          0.7083333333333334,
          0.5833333333333334,
          0.7916666666666666,
          0.7083333333333334,
          0.7083333333333334,
          0.8333333333333334,
          0.8333333333333334,
          0.9583333333333334,
          0.9166666666666666,
          0.8333333333333334,
          0.7916666666666666,
          0.9166666666666666,
          0.9166666666666666,
          0.9583333333333334,
          0.8333333333333334,
          0.7916666666666666,
          0.6666666666666666,
          0.875,
          0.875,
          0.8333333333333334,
          0.8333333333333334,
          0.875,
          0.875,
          0.9166666666666666,
          0.4583333333333333,
          0.9166666666666666,
          0.5833333333333334,
          0.8333333333333334,
          0.8333333333333334,
          0.5833333333333334,
          0.75,
          0.625,
          0.875,
          0.875,
          0.8333333333333334,
          0.875,
          0.5833333333333334,
          0.7083333333333334,
          0.7083333333333334,
          0.6666666666666666,
          0.9583333333333334,
          0.9166666666666666,
          0.75,
          0.8333333333333334,
          0.7083333333333334,
          0.7083333333333334,
          0.8333333333333334,
          0.75,
          0.75,
          0.7916666666666666,
          0.5416666666666666,
          0.875,
          0.6666666666666666,
          0.75,
          0.625,
          0.7916666666666666,
          0.6666666666666666,
          0.9166666666666666,
          0.5416666666666666,
          1,
          0.9166666666666666,
          0.5416666666666666,
          0.75,
          0.7083333333333334,
          0.5833333333333334,
          0.8333333333333334,
          0.875,
          0.875,
          0.7083333333333334,
          0.5833333333333334,
          0.875,
          0.875,
          0.8333333333333334,
          0.7916666666666666,
          0.4583333333333333,
          0.4583333333333333,
          0.75,
          0.7916666666666666,
          0.7083333333333334,
          0.75,
          0.9583333333333334,
          0.6666666666666666,
          0.7916666666666666,
          0.9583333333333334,
          0.9583333333333334,
          0.6666666666666666,
          0.7916666666666666,
          0.7083333333333334,
          0.5833333333333334,
          0.8333333333333334,
          0.8333333333333334,
          0.9166666666666666,
          0.75,
          0.75,
          0.9166666666666666,
          0.8333333333333334,
          0.8333333333333334,
          0.7083333333333334,
          0.9583333333333334,
          0.7083333333333334,
          0.7083333333333334,
          0.75,
          0.8333333333333334,
          0.9166666666666666,
          0.7916666666666666,
          0.9166666666666666,
          0.75,
          0.75,
          0.8333333333333334,
          0.875,
          0.8333333333333334,
          0.9166666666666666,
          0.75,
          0.7083333333333334,
          0.8333333333333334,
          0.75,
          0.4166666666666667,
          0.7916666666666666,
          0.7916666666666666,
          0.875,
          0.875,
          0.5416666666666666,
          0.75,
          0.875,
          0.5416666666666666,
          0.4583333333333333,
          0.625,
          0.9583333333333334,
          0.9583333333333334,
          0.875,
          0.75,
          0.7916666666666666,
          0.5833333333333334,
          0.8333333333333334,
          0.875,
          0.7083333333333334,
          0.7916666666666666,
          0.7916666666666666,
          0.7916666666666666,
          0.8333333333333334,
          0.75,
          0.7916666666666666,
          0.9166666666666666,
          0.7083333333333334,
          0.875,
          0.9583333333333334,
          0.7916666666666666,
          0.7916666666666666,
          0.6666666666666666,
          0.9166666666666666,
          0.9583333333333334,
          0.625,
          0.9166666666666666,
          1,
          0.5416666666666666,
          0.7916666666666666,
          0.875,
          0.5833333333333334,
          0.5833333333333334,
          0.75,
          0.7083333333333334,
          0.9166666666666666,
          0.875,
          0.8333333333333334,
          0.75,
          0.7916666666666666,
          0.7916666666666666,
          0.7083333333333334,
          0.8333333333333334,
          0.8333333333333334,
          0.7916666666666666,
          0.8333333333333334,
          0.9166666666666666,
          0.8333333333333334,
          0.75,
          0.7916666666666666,
          0.9583333333333334,
          0.8333333333333334,
          0.9583333333333334,
          0.75,
          0.7083333333333334,
          0.8333333333333334,
          0.8333333333333334,
          0.7916666666666666,
          0.875,
          0.9583333333333334,
          0.9166666666666666,
          0.7916666666666666,
          0.7916666666666666,
          0.75,
          0.625,
          0.6666666666666666,
          0.75,
          0.9166666666666666,
          0.7916666666666666,
          0.7083333333333334,
          0.625,
          0.875,
          0.7083333333333334,
          0.625,
          0.8333333333333334,
          0.9166666666666666,
          0.75,
          0.8333333333333334,
          0.875,
          0.8333333333333334,
          0.7916666666666666,
          0.9166666666666666,
          0.875,
          0.8333333333333334,
          0.875,
          0.9166666666666666,
          0.9166666666666666,
          0.9166666666666666,
          0.9583333333333334,
          0.5833333333333334,
          0.5,
          0.7916666666666666,
          0.625,
          0.9166666666666666,
          0.8333333333333334,
          0.9166666666666666,
          0.75,
          0.875,
          0.8333333333333334,
          0.7916666666666666,
          0.9583333333333334,
          0.75,
          0.8333333333333334,
          0.875,
          0.9166666666666666,
          0.5,
          0.75,
          0.75,
          0.7916666666666666,
          0.5833333333333334,
          0.9166666666666666,
          0.9583333333333334,
          0.7083333333333334,
          0.625,
          0.7916666666666666,
          0.75,
          0.875,
          0.8333333333333334,
          0.9166666666666666,
          0.75,
          0.6666666666666666,
          0.9583333333333334,
          0.8333333333333334,
          0.5833333333333334,
          0.625,
          0.625,
          0.7916666666666666,
          0.7916666666666666,
          0.9583333333333334,
          0.7083333333333334,
          0.9166666666666666,
          0.8333333333333334,
          0.9166666666666666,
          0.75,
          0.9583333333333334,
          0.9166666666666666,
          0.9166666666666666,
          0.875,
          0.8333333333333334,
          0.75,
          0.875,
          0.75,
          0.7916666666666666,
          0.9166666666666666,
          0.75,
          0.875,
          0.7916666666666666,
          0.9583333333333334,
          0.875,
          0.8333333333333334,
          0.8333333333333334,
          0.75,
          0.875,
          0.8333333333333334,
          0.9166666666666666,
          0.5833333333333334,
          0.9166666666666666,
          0.75,
          0.8333333333333334,
          0.875,
          0.875,
          0.6666666666666666,
          0.8333333333333334,
          0.7083333333333334,
          0.8333333333333334,
          0.75,
          0.75,
          0.875,
          0.875,
          0.9166666666666666,
          0.7083333333333334,
          0.7916666666666666,
          0.7916666666666666,
          0.4583333333333333,
          0.9166666666666666,
          0.75,
          0.625,
          0.9166666666666666,
          0.875,
          0.7083333333333334,
          0.7916666666666666,
          0.5833333333333334,
          0.7916666666666666,
          0.75,
          0.2083333333333333,
          0.7083333333333334,
          0.7916666666666666,
          0.7083333333333334,
          0.75,
          0.9583333333333334,
          0.7083333333333334,
          0.75,
          0.9166666666666666,
          0.875,
          0.5,
          0.75,
          0.6666666666666666,
          0.875,
          0.9166666666666666,
          0.8333333333333334,
          0.875,
          0.625,
          0.9583333333333334,
          0.75,
          0.875,
          0.5,
          0.9166666666666666,
          0.9166666666666666,
          0.7083333333333334,
          0.75,
          0.8333333333333334,
          0.7083333333333334,
          0.7916666666666666,
          0.9583333333333334,
          0.6666666666666666,
          0.875,
          0.75,
          0.9583333333333334,
          0.8333333333333334,
          0.7916666666666666,
          0.875,
          0.9166666666666666,
          0.8333333333333334,
          0.625,
          0.375,
          0.75,
          0.7916666666666666,
          0.7916666666666666,
          0.625,
          0.75,
          0.6666666666666666,
          0.4166666666666667,
          0.875,
          0.7916666666666666,
          0.875,
          0.9583333333333334,
          0.7916666666666666,
          0.7916666666666666,
          0.625,
          0.75,
          0.9166666666666666,
          0.6666666666666666,
          0.7916666666666666,
          0.8333333333333334,
          0.9583333333333334,
          0.9166666666666666,
          0.75,
          0.75,
          0.625,
          0.875,
          0.7916666666666666,
          0.5833333333333334,
          0.875,
          0.9583333333333334,
          0.8333333333333334,
          0.8333333333333334,
          0.875,
          0.7916666666666666,
          0.625,
          0.9166666666666666,
          0.9583333333333334,
          0.6666666666666666,
          0.9166666666666666,
          0.9166666666666666,
          0.8333333333333334,
          0.8333333333333334,
          0.5416666666666666,
          0.7083333333333334,
          0.9166666666666666,
          0.875,
          0.9166666666666666,
          0.875,
          0.75,
          0.7083333333333334,
          0.7083333333333334,
          0.75,
          0.8333333333333334,
          0.9166666666666666,
          0.7916666666666666,
          0.625,
          0.9166666666666666,
          0.6666666666666666,
          0.8333333333333334,
          0.7916666666666666,
          0.9166666666666666,
          0.7916666666666666,
          0.7916666666666666,
          0.8333333333333334,
          0.875,
          0.7916666666666666,
          0.75,
          0.8333333333333334,
          0.875,
          0.7916666666666666,
          0.7083333333333334,
          0.75,
          0.5416666666666666,
          0.8333333333333334,
          0.9583333333333334,
          0.7916666666666666,
          0.5833333333333334,
          0.8333333333333334,
          0.875,
          0.8333333333333334,
          1,
          0.9166666666666666,
          0.7083333333333334,
          0.9166666666666666,
          0.875,
          0.9583333333333334,
          0.75,
          0.7916666666666666,
          0.8333333333333334,
          0.8333333333333334,
          0.875,
          0.875,
          0.8333333333333334,
          0.7916666666666666,
          0.4583333333333333,
          0.8333333333333334,
          0.7916666666666666,
          0.9166666666666666,
          0.75,
          0.5,
          0.7083333333333334,
          0.7916666666666666,
          0.5416666666666666,
          0.75,
          0.5833333333333334,
          0.6666666666666666,
          0.625,
          0.7916666666666666,
          0.75,
          0.75,
          0.8333333333333334,
          0.875,
          0.7916666666666666,
          0.9166666666666666,
          0.8333333333333334,
          0.75,
          0.875,
          0.8333333333333334,
          0.875,
          0.625,
          0.9166666666666666,
          0.875,
          0.8333333333333334,
          0.8333333333333334,
          0.8333333333333334,
          0.9583333333333334,
          0.7083333333333334,
          0.7083333333333334,
          0.75,
          0.7083333333333334,
          0.75,
          0.75,
          0.7916666666666666,
          0.5416666666666666,
          0.7083333333333334,
          0.9166666666666666,
          0.875,
          0.7083333333333334,
          0.625,
          0.6666666666666666,
          0.8333333333333334,
          0.875,
          0.9166666666666666,
          0.875,
          0.75,
          0.8333333333333334,
          0.9583333333333334,
          0.75,
          0.7083333333333334,
          0.8333333333333334,
          0.8333333333333334,
          0.7083333333333334,
          0.9166666666666666,
          0.75,
          0.875,
          0.875,
          0.7916666666666666,
          0.7916666666666666,
          0.75,
          0.5833333333333334,
          0.9166666666666666,
          0.9166666666666666,
          0.4583333333333333,
          0.7083333333333334,
          0.625,
          0.5833333333333334,
          0.6666666666666666,
          0.8333333333333334,
          0.875,
          0.875,
          0.75,
          0.8333333333333334,
          0.8333333333333334,
          0.875,
          0.75,
          0.875,
          0.7916666666666666,
          0.75,
          0.6666666666666666,
          0.8333333333333334,
          0.7916666666666666,
          0.9583333333333334,
          0.7083333333333334,
          0.9166666666666666,
          0.875,
          0.7916666666666666,
          0.7916666666666666,
          0.625,
          0.8333333333333334,
          0.9166666666666666,
          0.7916666666666666,
          0.9166666666666666,
          0.875,
          1,
          0.75,
          0.9166666666666666,
          0.75,
          0.9166666666666666,
          0.8333333333333334,
          0.75,
          0.875,
          0.75,
          0.9166666666666666,
          0.625,
          0.875,
          0.9583333333333334,
          0.8333333333333334,
          0.875,
          0.75,
          0.875,
          0.875,
          0.8333333333333334,
          0.8333333333333334,
          1,
          0.625,
          0.8333333333333334,
          0.875,
          0.9166666666666666,
          0.7083333333333334,
          0.7916666666666666,
          0.5833333333333334,
          0.4583333333333333,
          0.875,
          0.9166666666666666,
          0.9166666666666666,
          0.9583333333333334,
          0.8333333333333334,
          0.875,
          0.7916666666666666,
          0.7916666666666666,
          0.9583333333333334,
          0.875,
          0.5833333333333334,
          0.9166666666666666,
          0.8333333333333334,
          0.875,
          0.25,
          0.3333333333333333,
          0.9166666666666666,
          0.875,
          0.7083333333333334,
          0.875,
          0.9583333333333334,
          0.9583333333333334,
          0.7916666666666666,
          0.875,
          0.5,
          0.9583333333333334,
          0.9166666666666666,
          0.8333333333333334,
          0.5833333333333334,
          0.9166666666666666,
          0.9166666666666666,
          0.9583333333333334,
          0.875,
          0.7083333333333334,
          0.9583333333333334,
          0.9166666666666666,
          0.9166666666666666,
          0.8333333333333334,
          0.8333333333333334,
          0.9583333333333334,
          0.7916666666666666,
          0.8333333333333334,
          0.75,
          0.9583333333333334,
          0.9166666666666666,
          0.875,
          0.8333333333333334,
          0.7083333333333334,
          0.875,
          0.8333333333333334,
          1,
          0.875,
          0.8333333333333334,
          0.875,
          0.9583333333333334,
          0.875,
          0.9583333333333334,
          0.8333333333333334,
          0.9166666666666666,
          0.9583333333333334,
          0.9166666666666666,
          0.7916666666666666,
          0.8333333333333334,
          0.9583333333333334,
          0.875,
          0.9166666666666666,
          0.9166666666666666,
          0.625,
          0.75,
          0.7916666666666666,
          0.875,
          0.9166666666666666,
          0.9166666666666666,
          0.9583333333333334,
          0.8333333333333334,
          0.7083333333333334,
          0.8333333333333334,
          0.875,
          0.8333333333333334,
          0.875,
          0.8333333333333334,
          0.9583333333333334,
          0.9583333333333334,
          0.9583333333333334,
          0.75,
          0.5833333333333334,
          0.8333333333333334,
          0.7916666666666666,
          0.8333333333333334,
          0.9583333333333334,
          0.625,
          0.8333333333333334,
          0.9166666666666666,
          1,
          0.9166666666666666,
          0.875,
          0.8333333333333334,
          0.9166666666666666,
          0.8333333333333334,
          1,
          0.875,
          0.9166666666666666,
          1,
          0.875,
          0.75,
          0.9166666666666666,
          1,
          0.875,
          0.8333333333333334,
          0.7916666666666666,
          0.75,
          0.625,
          0.7916666666666666,
          0.9166666666666666,
          0.875,
          0.8333333333333334,
          0.875,
          0.6666666666666666,
          0.8333333333333334,
          0.9583333333333334,
          0.7916666666666666,
          0.9166666666666666,
          0.5416666666666666,
          0.875,
          0.5833333333333334,
          0.7916666666666666,
          0.8333333333333334,
          0.75,
          0.8333333333333334,
          0.7083333333333334,
          0.8333333333333334,
          0.7083333333333334,
          0.8333333333333334,
          0.8333333333333334,
          0.7916666666666666,
          0.9166666666666666,
          0.75,
          0.9583333333333334,
          0.7916666666666666,
          0.875,
          0.875,
          0.9166666666666666,
          0.8333333333333334,
          0.9583333333333334,
          0.7916666666666666,
          0.9583333333333334,
          0.7916666666666666,
          0.7916666666666666,
          0.9166666666666666,
          0.6666666666666666,
          0.875,
          0.2083333333333333,
          0.8333333333333334,
          0.9583333333333334,
          0.875,
          0.9166666666666666,
          0.9166666666666666,
          0.7916666666666666,
          0.625,
          0.8333333333333334,
          0.9166666666666666,
          0.875,
          0.9583333333333334,
          0.6666666666666666,
          0.6666666666666666,
          1,
          0.875,
          0.9166666666666666,
          0.8333333333333334,
          0.875,
          0.75,
          0.9166666666666666,
          0.9583333333333334,
          0.7916666666666666,
          0.875,
          0.9583333333333334,
          0.8333333333333334,
          0.9583333333333334,
          0.9583333333333334,
          0.75,
          0.9166666666666666,
          0.8333333333333334,
          0.8333333333333334,
          1,
          0.5,
          0.9166666666666666,
          0.9583333333333334,
          0.9583333333333334,
          0.8333333333333334,
          0.875,
          0.9166666666666666,
          0.8333333333333334,
          0.8333333333333334,
          0.9583333333333334,
          0.5,
          0.9166666666666666,
          0.875,
          0.9583333333333334,
          0.9583333333333334,
          0.9166666666666666,
          1,
          0.5833333333333334,
          0.7916666666666666,
          0.75,
          0.7916666666666666,
          0.9166666666666666,
          0.75,
          0.75,
          0.9166666666666666,
          0.9166666666666666,
          0.9166666666666666,
          0.9166666666666666,
          0.9166666666666666,
          0.875,
          0.9583333333333334,
          0.9583333333333334,
          0.8333333333333334,
          0.7083333333333334,
          0.875,
          0.7083333333333334,
          0.9583333333333334,
          0.7083333333333334,
          0.7916666666666666,
          0.75,
          0.9166666666666666,
          0.9166666666666666,
          0.8333333333333334,
          0.8333333333333334,
          0.9583333333333334,
          1,
          0.7916666666666666,
          1,
          1,
          0.75,
          0.7916666666666666,
          0.9583333333333334,
          0.8333333333333334,
          0.9583333333333334,
          0.875,
          0.9166666666666666,
          0.8333333333333334,
          0.875,
          0.8333333333333334,
          0.6666666666666666,
          0.9583333333333334,
          0.8333333333333334,
          0.7916666666666666,
          0.7916666666666666,
          0.5416666666666666,
          0.9166666666666666,
          0.9583333333333334,
          0.75,
          0.9166666666666666,
          0.75,
          0.9583333333333334,
          0.875,
          0.9166666666666666,
          0.5,
          0.875,
          0.7083333333333334,
          0.9166666666666666,
          1,
          0.8333333333333334,
          0.6666666666666666,
          0.9583333333333334,
          0.7083333333333334,
          0.875,
          0.9166666666666666,
          0.875,
          0.7916666666666666,
          0.7916666666666666,
          0.7916666666666666,
          0.9166666666666666,
          0.9583333333333334,
          0.9166666666666666,
          0.7916666666666666,
          0.7083333333333334,
          0.875,
          0.7916666666666666,
          0.875,
          0.875,
          0.8333333333333334,
          0.8333333333333334,
          0.875,
          0.9583333333333334,
          0.9166666666666666,
          0.8333333333333334,
          0.7916666666666666,
          0.75,
          0.7916666666666666,
          0.875,
          0.625,
          0.9166666666666666,
          0.875,
          0.875,
          0.75,
          0.75,
          0.9583333333333334,
          0.875,
          0.875,
          0.8333333333333334,
          0.9166666666666666,
          0.9166666666666666,
          0.9166666666666666,
          1,
          0.9583333333333334,
          0.8333333333333334,
          0.8333333333333334,
          0.4583333333333333,
          0.875,
          1,
          0.8333333333333334,
          0.7083333333333334,
          0.8333333333333334,
          0.75,
          0.7083333333333334,
          0.9583333333333334,
          0.8333333333333334,
          0.9583333333333334,
          0.75,
          0.8333333333333334,
          0.8333333333333334,
          0.9166666666666666,
          0.875,
          0.9166666666666666,
          0.9166666666666666,
          0.9166666666666666,
          0.8333333333333334,
          0.6666666666666666,
          0.9166666666666666,
          0.7916666666666666,
          0.9166666666666666,
          0.7083333333333334,
          0.8333333333333334,
          0.875,
          0.75,
          0.7916666666666666,
          0.5,
          0.7916666666666666,
          0.5833333333333334,
          0.7916666666666666,
          0.9166666666666666,
          0.875,
          0.7083333333333334,
          0.75,
          0.75,
          0.875,
          0.9583333333333334,
          0.75,
          0.9166666666666666,
          0.75,
          0.875,
          0.875,
          0.9583333333333334,
          0.9166666666666666,
          0.9166666666666666,
          0.9583333333333334,
          0.6666666666666666,
          0.9166666666666666,
          0.8333333333333334,
          0.875,
          0.875,
          0.8333333333333334,
          0.7083333333333334,
          0.7916666666666666,
          0.875,
          0.9583333333333334,
          0.8333333333333334,
          0.75,
          0.8333333333333334,
          0.8333333333333334,
          0.875,
          0.9166666666666666,
          0.8333333333333334,
          0.9166666666666666,
          0.9166666666666666,
          0.7916666666666666,
          0.9583333333333334,
          0.9166666666666666,
          0.75,
          0.7916666666666666,
          0.9583333333333334,
          0.8333333333333334,
          0.8333333333333334,
          0.7916666666666666,
          0.9583333333333334,
          0.8333333333333334,
          0.75,
          0.8333333333333334,
          0.8333333333333334,
          0.9166666666666666,
          0.875,
          0.9166666666666666,
          0.8333333333333334,
          0.7916666666666666,
          0.9166666666666666,
          0.9583333333333334,
          0.875,
          0.875,
          0.7083333333333334,
          0.75,
          0.7916666666666666,
          0.7916666666666666,
          0.875,
          0.8333333333333334,
          0.875,
          0.875,
          0.9583333333333334,
          0.8333333333333334,
          0.75,
          0.8333333333333334,
          0.9583333333333334,
          0.875,
          0.875,
          0.9166666666666666,
          0.9583333333333334,
          0.75,
          0.7083333333333334,
          0.9583333333333334,
          0.875,
          0.875,
          0.875,
          0.8333333333333334,
          0.7916666666666666,
          0.875,
          0.9583333333333334,
          0.9166666666666666,
          0.8333333333333334,
          0.7083333333333334,
          0.9166666666666666,
          0.9166666666666666,
          0.7916666666666666,
          0.5833333333333334,
          0.875,
          0.8333333333333334,
          0.8333333333333334,
          0.75,
          0.75,
          0.8333333333333334,
          0.7916666666666666,
          0.8333333333333334,
          0.9583333333333334,
          0.6666666666666666,
          0.75,
          0.875,
          0.7916666666666666,
          0.875,
          0.875,
          0.9583333333333334,
          0.875,
          0.9166666666666666,
          0.7916666666666666,
          0.875,
          0.9166666666666666,
          0.75,
          0.875,
          0.8333333333333334,
          0.7916666666666666,
          0.75,
          0.9166666666666666,
          0.875,
          0.8333333333333334,
          0.7916666666666666,
          0.7916666666666666,
          0.9166666666666666,
          0.8333333333333334,
          0.75,
          0.7916666666666666,
          0.8333333333333334,
          1,
          0.7916666666666666,
          0.8333333333333334,
          0.8333333333333334,
          0.875,
          0.6666666666666666,
          0.8333333333333334,
          0.875,
          0.8333333333333334,
          1,
          0.9583333333333334,
          0.7916666666666666,
          0.7083333333333334,
          0.8333333333333334,
          0.8333333333333334,
          0.9166666666666666,
          0.875,
          0.75,
          0.8333333333333334,
          0.9166666666666666,
          0.875,
          0.9583333333333334,
          0.7083333333333334,
          0.8333333333333334,
          0.7916666666666666,
          0.8333333333333334,
          0.9166666666666666,
          0.9583333333333334,
          0.875,
          0.9583333333333334,
          0.9166666666666666,
          0.8333333333333334,
          0.7916666666666666,
          0.7083333333333334,
          1,
          0.8333333333333334,
          0.9166666666666666,
          0.875,
          0.7916666666666666,
          0.9166666666666666,
          0.7916666666666666,
          0.7083333333333334,
          0.9166666666666666,
          0.6666666666666666,
          0.8333333333333334,
          0.7083333333333334,
          0.9166666666666666,
          0.7916666666666666,
          0.875,
          0.7083333333333334,
          0.7916666666666666,
          0.7916666666666666,
          0.7916666666666666,
          0.875,
          0.9166666666666666,
          0.8333333333333334,
          0.75,
          0.875,
          0.4166666666666667,
          0.9583333333333334,
          0.9583333333333334,
          0.8333333333333334,
          0.8333333333333334,
          0.875,
          0.8333333333333334,
          0.9583333333333334,
          0.7083333333333334,
          0.7916666666666666,
          0.9166666666666666,
          0.875,
          0.875,
          0.8333333333333334,
          0.75,
          0.9166666666666666,
          0.75,
          0.875,
          0.875,
          0.875,
          0.9166666666666666,
          0.9166666666666666,
          0.875,
          0.7916666666666666,
          0.875,
          0.9166666666666666,
          0.875,
          0.875,
          1,
          0.8333333333333334,
          0.8333333333333334,
          0.9166666666666666,
          0.9166666666666666,
          0.9583333333333334,
          0.7083333333333334,
          0.875,
          0.7916666666666666,
          0.9166666666666666,
          0.7916666666666666,
          0.9166666666666666,
          0.875,
          0.9166666666666666,
          0.9166666666666666,
          0.9166666666666666,
          0.875,
          0.7916666666666666,
          0.75,
          0.6666666666666666,
          0.875,
          0.875,
          0.9166666666666666,
          0.7083333333333334,
          0.9583333333333334,
          0.6666666666666666,
          0.9583333333333334,
          0.8333333333333334,
          0.9166666666666666,
          0.9583333333333334,
          0.9166666666666666,
          0.875,
          0.9583333333333334,
          0.9583333333333334,
          0.9166666666666666,
          0.75,
          0.8333333333333334,
          0.9166666666666666,
          0.9166666666666666,
          0.7916666666666666,
          1,
          0.8333333333333334,
          0.8333333333333334,
          0.7916666666666666,
          0.8333333333333334,
          0.625,
          0.9583333333333334,
          0.7916666666666666,
          0.7083333333333334,
          0.8333333333333334,
          0.5833333333333334,
          0.9166666666666666,
          0.9583333333333334,
          0.9166666666666666,
          0.9166666666666666,
          0.9166666666666666,
          0.8333333333333334,
          0.9583333333333334,
          0.625,
          0.9166666666666666,
          0.7916666666666666,
          0.8333333333333334,
          0.875,
          0.8333333333333334,
          0.9166666666666666,
          0.8333333333333334,
          0.9583333333333334,
          0.875,
          0.875,
          0.9166666666666666,
          0.9166666666666666,
          0.7083333333333334,
          0.8333333333333334,
          0.875,
          0.75,
          0.7916666666666666,
          0.875,
          0.9583333333333334,
          0.8333333333333334,
          0.75,
          0.9166666666666666,
          0.7916666666666666,
          0.9166666666666666,
          0.7916666666666666,
          0.6666666666666666,
          0.875,
          0.875,
          0.9166666666666666,
          0.9583333333333334,
          0.9583333333333334,
          1,
          0.625,
          0.7916666666666666,
          0.9583333333333334,
          0.7916666666666666,
          0.875,
          0.8333333333333334,
          0.875,
          0.7916666666666666,
          0.9166666666666666,
          0.9583333333333334,
          0.9583333333333334,
          0.875,
          0.9583333333333334,
          0.875,
          0.875,
          0.8333333333333334,
          0.875,
          0.6666666666666666,
          0.875,
          0.7916666666666666,
          0.7083333333333334,
          0.875,
          0.9583333333333334,
          0.9166666666666666,
          0.8333333333333334,
          0.875,
          0.8333333333333334,
          0.8333333333333334,
          0.875,
          0.9583333333333334,
          0.8333333333333334,
          0.875,
          0.8333333333333334,
          0.9583333333333334,
          0.9166666666666666,
          0.7916666666666666,
          0.8333333333333334,
          0.9583333333333334,
          0.75,
          0.9583333333333334,
          0.8333333333333334,
          0.75,
          0.9166666666666666,
          0.6666666666666666,
          0.7916666666666666,
          0.7916666666666666,
          0.7916666666666666,
          0.875,
          0.9166666666666666,
          0.7916666666666666,
          0.875,
          0.875,
          0.75,
          0.7916666666666666,
          0.75,
          0.9166666666666666,
          0.8333333333333334,
          0.875,
          0.8333333333333334,
          0.8333333333333334,
          0.875,
          0.7916666666666666,
          0.9166666666666666,
          0.8333333333333334,
          0.7916666666666666,
          0.9583333333333334,
          0.875,
          0.8333333333333334,
          0.9166666666666666,
          0.875,
          0.9166666666666666,
          0.9583333333333334,
          0.875,
          0.7083333333333334,
          0.8333333333333334,
          0.875,
          0.875,
          0.9166666666666666,
          0.7916666666666666,
          0.8333333333333334,
          0.9166666666666666,
          0.875,
          0.875,
          0.9583333333333334,
          0.875,
          0.875,
          0.9166666666666666,
          0.75,
          0.9166666666666666,
          0.875,
          0.875,
          0.9583333333333334,
          0.7083333333333334,
          0.7916666666666666,
          0.9166666666666666,
          0.9166666666666666,
          0.7083333333333334,
          0.7916666666666666,
          0.8333333333333334,
          0.8333333333333334,
          0.75,
          0.7916666666666666,
          0.8333333333333334,
          0.9166666666666666,
          0.875,
          0.875,
          1,
          0.875,
          0.9166666666666666,
          0.9166666666666666,
          0.9166666666666666,
          0.625,
          0.875,
          0.8333333333333334,
          0.9166666666666666,
          0.8333333333333334,
          0.8333333333333334,
          0.875,
          0.875,
          1,
          0.875,
          0.5,
          0.9166666666666666,
          0.7916666666666666,
          0.7083333333333334,
          0.7916666666666666,
          0.9166666666666666,
          0.7916666666666666,
          0.875,
          0.9166666666666666,
          0.8333333333333334,
          0.9166666666666666,
          0.8333333333333334,
          0.75,
          0.8333333333333334,
          0.8333333333333334,
          0.9583333333333334,
          0.8333333333333334,
          0.7083333333333334,
          0.875,
          0.875,
          0.9166666666666666,
          0.875,
          0.8333333333333334,
          1,
          0.875,
          0.8333333333333334,
          0.875,
          0.9583333333333334,
          0.9166666666666666,
          0.7916666666666666,
          0.875,
          0.875,
          0.9166666666666666,
          0.875,
          0.7916666666666666,
          0.7916666666666666,
          0.7083333333333334,
          0.875,
          0.875,
          0.8333333333333334,
          0.9583333333333334,
          0.8333333333333334,
          1,
          0.75,
          0.7916666666666666,
          0.875,
          0.8333333333333334,
          0.7916666666666666,
          0.8333333333333334,
          1,
          0.875,
          0.8333333333333334,
          0.9583333333333334,
          0.9166666666666666,
          0.7916666666666666,
          0.8333333333333334,
          0.8333333333333334,
          0.7916666666666666,
          0.8333333333333334,
          0.7916666666666666,
          0.875,
          0.8333333333333334,
          0.875,
          0.875,
          0.7916666666666666,
          0.8333333333333334,
          0.6666666666666666,
          0.875,
          0.6666666666666666,
          0.875,
          0.9166666666666666,
          0.9583333333333334,
          0.875,
          0.9166666666666666,
          0.875,
          0.9583333333333334,
          0.7916666666666666,
          0.875,
          0.9166666666666666,
          0.9583333333333334,
          0.7916666666666666,
          0.7916666666666666,
          0.8333333333333334,
          0.8333333333333334,
          0.8333333333333334,
          0.8333333333333334,
          0.9583333333333334,
          0.875,
          0.6666666666666666,
          0.9166666666666666,
          0.8333333333333334,
          0.9166666666666666,
          0.9166666666666666,
          0.7916666666666666,
          0.9166666666666666,
          0.7916666666666666,
          0.8333333333333334,
          0.8333333333333334,
          0.7916666666666666,
          0.9166666666666666,
          0.6666666666666666,
          0.9166666666666666,
          0.9166666666666666,
          0.75,
          0.8333333333333334,
          0.875,
          0.7916666666666666,
          0.75,
          0.9166666666666666,
          0.875,
          0.9583333333333334,
          0.9583333333333334,
          0.7916666666666666,
          0.8333333333333334,
          0.9166666666666666,
          0.7083333333333334,
          0.6666666666666666,
          0.7916666666666666,
          0.8333333333333334,
          0.9166666666666666,
          0.7916666666666666,
          0.9166666666666666,
          0.875,
          0.9583333333333334,
          0.875,
          0.9583333333333334,
          0.6666666666666666,
          0.8333333333333334,
          0.6666666666666666,
          0.75,
          0.9166666666666666,
          0.9166666666666666,
          0.9583333333333334,
          0.7916666666666666,
          0.9583333333333334,
          0.9166666666666666,
          0.7083333333333334,
          0.9166666666666666,
          0.875,
          0.5416666666666666,
          0.9166666666666666,
          0.8333333333333334,
          0.8333333333333334,
          0.625,
          0.875,
          0.8333333333333334,
          0.8333333333333334,
          0.7916666666666666,
          0.8333333333333334,
          0.6666666666666666,
          0.9166666666666666,
          1,
          0.9583333333333334,
          0.8333333333333334,
          0.5416666666666666,
          0.75,
          0.8333333333333334,
          0.8333333333333334,
          0.8333333333333334,
          0.8333333333333334,
          0.8333333333333334,
          0.8333333333333334,
          0.9583333333333334,
          0.9166666666666666,
          0.875,
          0.7916666666666666,
          0.875,
          0.875,
          0.9583333333333334,
          0.9166666666666666,
          0.8333333333333334,
          0.875,
          0.875,
          0.875,
          0.875,
          0.875,
          0.8333333333333334,
          0.8333333333333334,
          0.9583333333333334,
          0.9166666666666666,
          1,
          0.9166666666666666,
          0.875,
          0.9583333333333334,
          0.8333333333333334,
          0.875,
          0.875,
          0.875,
          0.75,
          0.7916666666666666,
          0.75,
          0.7083333333333334,
          0.9166666666666666,
          1,
          0.9583333333333334,
          0.875,
          0.75,
          0.8333333333333334,
          0.9166666666666666,
          0.8333333333333334,
          0.7916666666666666,
          0.9166666666666666,
          0.8333333333333334,
          0.9166666666666666,
          0.9166666666666666,
          0.875,
          0.8333333333333334,
          0.7916666666666666,
          0.9583333333333334,
          0.9166666666666666,
          0.625,
          0.7916666666666666,
          0.9583333333333334,
          0.875,
          0.8333333333333334,
          0.9583333333333334,
          0.7916666666666666,
          0.9166666666666666,
          0.7916666666666666,
          0.7916666666666666,
          0.9166666666666666,
          0.875,
          0.7916666666666666,
          0.8333333333333334,
          0.9583333333333334,
          0.9583333333333334,
          0.9166666666666666,
          0.9166666666666666,
          0.8333333333333334,
          0.8333333333333334,
          0.7083333333333334,
          0.875,
          0.875,
          0.8333333333333334,
          0.7916666666666666,
          0.875,
          0.625,
          0.8333333333333334,
          0.9166666666666666,
          0.8333333333333334,
          0.875,
          0.9583333333333334,
          0.875,
          0.9583333333333334,
          0.9583333333333334,
          0.9166666666666666,
          0.8333333333333334,
          0.7083333333333334,
          0.9583333333333334,
          0.7916666666666666,
          0.8333333333333334,
          0.8333333333333334,
          0.6666666666666666,
          0.75,
          0.75,
          0.8333333333333334,
          0.9583333333333334,
          0.875,
          0.875,
          0.9166666666666666,
          0.8333333333333334,
          0.7916666666666666,
          0.75,
          0.9166666666666666,
          0.75,
          0.6666666666666666,
          0.7916666666666666,
          0.875,
          0.6666666666666666,
          0.8333333333333334,
          0.75,
          0.8333333333333334,
          0.7916666666666666,
          0.8333333333333334,
          0.875,
          0.8333333333333334,
          0.9166666666666666,
          0.9583333333333334,
          0.8333333333333334,
          0.9583333333333334,
          0.9166666666666666,
          0.7916666666666666,
          0.8333333333333334,
          0.9583333333333334,
          0.7916666666666666,
          0.7916666666666666,
          0.9166666666666666,
          0.7916666666666666,
          0.9583333333333334,
          0.7916666666666666,
          0.75,
          0.7083333333333334,
          0.8333333333333334,
          0.9583333333333334,
          0.9583333333333334,
          0.9583333333333334,
          0.875,
          0.75,
          0.9583333333333334,
          0.8333333333333334,
          0.875,
          0.9583333333333334,
          0.875,
          0.8333333333333334,
          0.9166666666666666,
          0.75,
          0.875,
          0.6666666666666666,
          0.875,
          0.75,
          0.75,
          0.7916666666666666,
          0.6666666666666666,
          0.7083333333333334,
          0.875,
          0.7916666666666666,
          0.8333333333333334,
          0.8333333333333334,
          0.9166666666666666,
          0.9166666666666666,
          0.9166666666666666,
          0.9166666666666666,
          0.9166666666666666,
          0.8333333333333334,
          0.5833333333333334,
          0.8333333333333334,
          0.875,
          0.8333333333333334,
          0.9166666666666666,
          0.9166666666666666,
          0.9166666666666666,
          0.9166666666666666,
          0.9166666666666666,
          0.875,
          0.875,
          0.8333333333333334,
          0.9166666666666666,
          0.625,
          0.9583333333333334,
          0.9583333333333334,
          0.875,
          0.8333333333333334,
          0.8333333333333334,
          0.5,
          0.8333333333333334,
          0.75,
          0.9166666666666666,
          0.7916666666666666,
          0.875,
          0.7083333333333334,
          0.9166666666666666,
          0.875,
          0.9583333333333334,
          0.75,
          0.8333333333333334,
          0.875,
          0.7916666666666666,
          0.9166666666666666,
          0.8333333333333334,
          0.6666666666666666,
          0.9583333333333334,
          0.875,
          0.875,
          0.7083333333333334,
          0.75,
          0.8333333333333334,
          0.75,
          0.9583333333333334,
          0.9583333333333334,
          1,
          0.9166666666666666,
          0.9166666666666666,
          0.875,
          0.7083333333333334,
          0.9166666666666666,
          0.875,
          0.7083333333333334,
          0.8333333333333334,
          0.875,
          0.875,
          0.9166666666666666,
          0.9583333333333334,
          0.8333333333333334,
          0.875,
          0.8333333333333334,
          0.7916666666666666,
          0.7916666666666666,
          0.875,
          0.9583333333333334,
          0.9166666666666666,
          0.9583333333333334,
          0.9583333333333334,
          0.8333333333333334,
          0.875,
          0.7916666666666666,
          0.8333333333333334,
          0.7916666666666666,
          0.875,
          0.875,
          0.8333333333333334,
          0.6666666666666666,
          0.9166666666666666,
          0.8333333333333334,
          0.6666666666666666,
          0.9166666666666666,
          0.9583333333333334,
          0.9166666666666666,
          0.8333333333333334,
          0.7916666666666666,
          0.875,
          0.9166666666666666,
          0.9583333333333334,
          0.75,
          0.8333333333333334,
          0.9166666666666666,
          0.7083333333333334,
          0.9166666666666666,
          0.9166666666666666,
          0.9166666666666666,
          0.9583333333333334,
          0.8333333333333334,
          1,
          0.9166666666666666,
          0.9166666666666666,
          0.7916666666666666,
          0.8333333333333334,
          0.9166666666666666,
          0.9583333333333334,
          0.8333333333333334,
          0.9583333333333334,
          0.875,
          0.8333333333333334,
          0.875,
          0.7916666666666666,
          0.75,
          0.7916666666666666,
          0.8333333333333334,
          0.875,
          0.875,
          0.9166666666666666,
          0.875,
          0.7916666666666666,
          0.9166666666666666,
          0.8333333333333334,
          0.7916666666666666,
          0.7916666666666666,
          0.875,
          0.9583333333333334,
          0.7916666666666666,
          0.8333333333333334,
          0.875,
          0.9166666666666666,
          0.9583333333333334,
          0.7083333333333334,
          0.75,
          0.9583333333333334,
          0.9166666666666666,
          0.6666666666666666,
          0.9583333333333334,
          0.8333333333333334,
          0.875,
          0.7083333333333334,
          0.8333333333333334,
          0.8333333333333334,
          0.9583333333333334,
          0.875,
          0.7916666666666666,
          0.9583333333333334,
          0.9583333333333334,
          0.8333333333333334,
          0.75,
          0.875,
          1,
          0.7083333333333334,
          0.8333333333333334,
          0.8333333333333334,
          0.9166666666666666,
          0.9583333333333334,
          0.875,
          0.7916666666666666,
          0.7916666666666666,
          0.7916666666666666,
          0.8333333333333334,
          0.9583333333333334,
          0.9583333333333334,
          0.9166666666666666,
          0.9166666666666666,
          0.875,
          0.9166666666666666,
          0.875,
          0.9583333333333334,
          0.8333333333333334,
          1,
          0.9166666666666666,
          0.9166666666666666,
          1,
          0.875,
          0.875,
          0.875,
          0.9166666666666666,
          0.9583333333333334,
          0.875,
          0.8333333333333334,
          0.75,
          0.7083333333333334,
          0.8333333333333334,
          0.9166666666666666,
          0.7916666666666666,
          0.9166666666666666,
          0.9583333333333334,
          0.9583333333333334,
          0.8333333333333334,
          0.8333333333333334,
          0.8333333333333334,
          0.8333333333333334,
          0.0833333333333333,
          0.7916666666666666,
          0.9583333333333334,
          0.7916666666666666,
          0.8333333333333334,
          0.9166666666666666,
          0.6666666666666666,
          0.875,
          0.9583333333333334,
          0.9583333333333334,
          0.9166666666666666,
          0.875,
          0.875,
          0.9166666666666666,
          0.9583333333333334,
          0.875,
          0.9583333333333334,
          0.75,
          0.9583333333333334,
          0.9166666666666666,
          0.9583333333333334,
          0.9166666666666666,
          0.9166666666666666,
          0.875,
          0.9583333333333334,
          1,
          0.9166666666666666,
          0.9166666666666666,
          0.7916666666666666,
          0.875,
          0.8333333333333334,
          0.7916666666666666,
          0.9583333333333334,
          0.8333333333333334,
          0.9166666666666666,
          0.8333333333333334,
          0.9166666666666666,
          0.8333333333333334,
          0.9166666666666666,
          0.9583333333333334,
          0.9583333333333334,
          0.9583333333333334,
          0.875,
          0.875,
          0.875,
          0.9583333333333334,
          0.875,
          0.9583333333333334,
          0.9166666666666666,
          0.7916666666666666,
          0.9583333333333334,
          0.875,
          0.8333333333333334,
          0.9166666666666666,
          0.9166666666666666,
          0.9166666666666666,
          0.8333333333333334,
          0.9583333333333334,
          0.9166666666666666,
          0.875,
          0.875,
          0.7083333333333334,
          1,
          0.9166666666666666,
          0.875,
          1,
          0.75,
          0.9166666666666666,
          0.8333333333333334,
          0.9166666666666666,
          0.8333333333333334,
          0.9166666666666666,
          0.875,
          0.8333333333333334,
          0.7916666666666666,
          0.9583333333333334,
          0.9583333333333334,
          0.875,
          0.9583333333333334,
          0.7083333333333334,
          0.875,
          0.9166666666666666,
          0.8333333333333334,
          0.875,
          0.9166666666666666,
          0.9583333333333334,
          0.9166666666666666,
          0.9166666666666666,
          1,
          1,
          0.7916666666666666,
          0.9583333333333334,
          0.8333333333333334,
          0.875,
          1,
          0.7083333333333334,
          0.9583333333333334,
          0.7083333333333334,
          0.9583333333333334,
          1,
          0.875,
          0.9166666666666666,
          0.9166666666666666,
          0.9166666666666666,
          0.8333333333333334,
          0.875,
          0.9583333333333334,
          0.875,
          0.9583333333333334,
          0.875,
          0.9166666666666666,
          0.875,
          0.875,
          0.875,
          0.8333333333333334,
          0.875,
          0.9166666666666666,
          0.9583333333333334,
          0.75,
          0.8333333333333334,
          1,
          0.9583333333333334,
          0.7916666666666666,
          0.9166666666666666,
          0.7083333333333334,
          0.8333333333333334,
          0.875,
          0.9166666666666666,
          0.9583333333333334,
          0.8333333333333334,
          0.9583333333333334,
          1,
          0.9583333333333334,
          0.8333333333333334,
          0.875,
          0.875,
          0.6666666666666666,
          0.7083333333333334,
          0.875,
          0.9166666666666666,
          0.8333333333333334,
          0.9166666666666666,
          0.75,
          0.75,
          0.9583333333333334,
          0.8333333333333334,
          0.9166666666666666,
          0.875,
          0.9583333333333334,
          0.9166666666666666,
          0.9166666666666666,
          0.75,
          0.9166666666666666,
          0.9166666666666666,
          1,
          0.9583333333333334,
          1,
          0.8333333333333334,
          0.9166666666666666,
          0.9583333333333334,
          1,
          0.9583333333333334,
          0.9166666666666666,
          1,
          0.7916666666666666,
          0.875,
          0.875,
          0.875,
          0.9583333333333334,
          0.9166666666666666,
          0.9583333333333334,
          0.9583333333333334,
          0.9166666666666666,
          0.9166666666666666,
          0.8333333333333334,
          0.6666666666666666,
          0.9166666666666666,
          0.9166666666666666,
          0.875,
          1,
          0.9166666666666666,
          0.875,
          0.9583333333333334,
          0.9583333333333334,
          0.9166666666666666,
          0.875,
          1,
          0.9166666666666666,
          0.7916666666666666,
          0.875,
          0.875,
          1,
          0.875,
          0.9583333333333334,
          0.7916666666666666,
          0.9166666666666666,
          0.6666666666666666,
          1,
          0.7916666666666666,
          0.7916666666666666,
          0.9583333333333334,
          0.875,
          0.7916666666666666,
          1,
          1,
          1,
          0.9166666666666666,
          0.875,
          0.8333333333333334,
          0.9166666666666666,
          1,
          0.9166666666666666,
          0.7916666666666666,
          0.9166666666666666,
          0.875,
          0.875,
          0.9583333333333334,
          0.9166666666666666,
          0.9166666666666666,
          0.875,
          0.8333333333333334,
          0.9583333333333334,
          1,
          0.9583333333333334,
          0.9166666666666666,
          0.9583333333333334,
          0.75,
          0.9166666666666666,
          0.9166666666666666,
          1,
          0.9583333333333334,
          0.875,
          0.9583333333333334,
          0.9583333333333334,
          0.7916666666666666,
          0.9583333333333334,
          0.9583333333333334,
          0.625,
          1,
          0.9583333333333334,
          0.9583333333333334,
          1,
          0.9583333333333334,
          0.9583333333333334,
          0.875,
          1,
          0.9583333333333334,
          0.7916666666666666,
          0.9583333333333334,
          0.9583333333333334,
          0.9166666666666666,
          1,
          0.9166666666666666,
          0.9583333333333334,
          0.75,
          0.8333333333333334,
          0.9166666666666666,
          0.9583333333333334,
          0.8333333333333334,
          0.9166666666666666,
          0.9166666666666666,
          0.9583333333333334,
          0.75,
          0.9166666666666666,
          0.875,
          0.9583333333333334,
          0.9583333333333334,
          0.9166666666666666,
          0.8333333333333334,
          0.625,
          1,
          1,
          1,
          0.75,
          1,
          0.9166666666666666,
          0.7916666666666666,
          0.9166666666666666,
          0.9166666666666666,
          0.8333333333333334,
          0.875,
          0.75,
          0.9166666666666666,
          0.9166666666666666,
          0.875,
          0.8333333333333334,
          0.8333333333333334,
          0.6666666666666666,
          0.9166666666666666,
          0.9166666666666666,
          0.8333333333333334,
          0.75,
          0.9583333333333334,
          0.9166666666666666,
          0.6666666666666666,
          0.8333333333333334,
          0.7083333333333334,
          0.9166666666666666,
          0.8333333333333334,
          0.9166666666666666,
          0.875,
          0.875,
          0.9166666666666666,
          0.9166666666666666,
          0.875,
          0.9166666666666666,
          0.8333333333333334,
          0.75,
          0.875,
          0.9166666666666666,
          0.9166666666666666,
          0.9583333333333334,
          0.9166666666666666,
          0.9583333333333334,
          0.7083333333333334,
          0.8333333333333334,
          0.875,
          0.9583333333333334,
          0.875,
          0.9166666666666666,
          0.875,
          0.875,
          0.875,
          0.875,
          0.9166666666666666,
          0.8333333333333334,
          0.9166666666666666,
          0.9166666666666666,
          0.875,
          0.9166666666666666,
          0.7916666666666666,
          0.7916666666666666,
          0.875,
          0.9166666666666666,
          0.9583333333333334,
          0.8333333333333334,
          0.875,
          0.875,
          0.9583333333333334,
          0.8333333333333334,
          0.9166666666666666,
          0.7083333333333334,
          0.875,
          0.875,
          0.9583333333333334,
          0.7916666666666666,
          0.8333333333333334,
          0.9166666666666666,
          0.7916666666666666,
          0.9166666666666666,
          1,
          0.8333333333333334,
          0.875,
          0.9166666666666666,
          0.875,
          0.9166666666666666,
          0.8333333333333334,
          0.9166666666666666,
          0.875,
          0.8333333333333334,
          0.9583333333333334,
          0.75,
          0.8333333333333334,
          0.9166666666666666,
          0.9166666666666666,
          0.9166666666666666,
          0.9166666666666666,
          0.9166666666666666,
          0.875,
          0.875,
          0.9166666666666666,
          0.8333333333333334,
          0.9166666666666666,
          0.9166666666666666,
          0.9166666666666666,
          0.9166666666666666,
          0.9583333333333334,
          0.9583333333333334,
          0.8333333333333334,
          0.9166666666666666,
          0.9583333333333334,
          0.75,
          0.75,
          0.9166666666666666,
          0.875,
          0.8333333333333334,
          0.875,
          0.9583333333333334,
          0.625,
          0.7916666666666666,
          0.875,
          0.9583333333333334,
          0.875,
          0.8333333333333334,
          0.7083333333333334,
          0.875,
          0.8333333333333334,
          0.75,
          0.875,
          0.9166666666666666,
          0.9166666666666666,
          0.875,
          0.9166666666666666,
          0.9166666666666666,
          0.8333333333333334,
          0.9166666666666666,
          0.9583333333333334,
          0.9166666666666666,
          0.875,
          0.8333333333333334,
          0.9583333333333334,
          0.8333333333333334,
          0.875,
          0.8333333333333334,
          0.9166666666666666,
          0.9583333333333334,
          0.9166666666666666,
          0.875,
          0.8333333333333334,
          0.875,
          0.875,
          0.8333333333333334,
          0.875,
          0.9166666666666666,
          0.75,
          0.9166666666666666,
          0.9583333333333334,
          0.9583333333333334,
          0.875,
          0.9583333333333334,
          0.9166666666666666,
          0.875,
          0.9166666666666666,
          0.9166666666666666,
          0.8333333333333334,
          0.7916666666666666,
          0.875,
          0.8333333333333334,
          0.875,
          0.9166666666666666,
          0.875,
          0.8333333333333334,
          0.9166666666666666,
          0.7916666666666666,
          0.9166666666666666,
          0.9166666666666666,
          0.875,
          0.8333333333333334,
          0.8333333333333334,
          0.9583333333333334,
          0.9166666666666666,
          0.875,
          0.9583333333333334,
          0.875,
          0.9166666666666666,
          0.8333333333333334,
          0.875,
          0.9166666666666666,
          0.875,
          0.9583333333333334,
          0.625,
          0.9166666666666666,
          0.875,
          0.875,
          0.875,
          0.9166666666666666,
          0.9166666666666666,
          0.9583333333333334,
          0.8333333333333334,
          0.9166666666666666,
          0.8333333333333334,
          0.875,
          0.9166666666666666,
          0.9583333333333334,
          0.9166666666666666,
          0.9166666666666666,
          0.9166666666666666,
          0.8333333333333334,
          0.9166666666666666,
          0.9583333333333334,
          0.8333333333333334,
          0.9166666666666666,
          0.9166666666666666,
          0.9166666666666666,
          0.875,
          0.9583333333333334,
          0.875,
          0.9166666666666666,
          0.875,
          0.9583333333333334,
          0.9166666666666666,
          0.9166666666666666,
          0.9166666666666666,
          0.8333333333333334,
          0.9583333333333334,
          0.875,
          0.9166666666666666,
          0.9583333333333334,
          0.9166666666666666,
          0.875,
          0.9583333333333334,
          0.875,
          0.875,
          0.8333333333333334,
          0.9583333333333334,
          0.875,
          0.875,
          0.8333333333333334,
          0.9583333333333334,
          0.8333333333333334,
          0.9166666666666666,
          0.8333333333333334,
          0.875,
          0.8333333333333334,
          0.9166666666666666,
          0.9166666666666666,
          0.9166666666666666,
          0.9166666666666666,
          0.9166666666666666,
          0.8333333333333334,
          0.7083333333333334,
          0.9166666666666666,
          0.875,
          0.875,
          0.9166666666666666,
          0.9166666666666666,
          0.8333333333333334,
          0.875,
          0.8333333333333334,
          0.9583333333333334,
          0.875,
          0.9166666666666666,
          0.875,
          0.9583333333333334,
          0.875,
          0.8333333333333334,
          0.9166666666666666,
          0.8333333333333334,
          0.9166666666666666,
          0.9166666666666666,
          0.9583333333333334,
          0.8333333333333334,
          0.9583333333333334,
          0.9166666666666666,
          0.9583333333333334,
          0.9166666666666666,
          0.9583333333333334,
          0.9166666666666666,
          0.9166666666666666,
          0.9166666666666666,
          0.875,
          0.9166666666666666,
          0.9166666666666666,
          0.7916666666666666,
          0.875,
          0.6666666666666666,
          0.9166666666666666,
          0.875,
          0.9166666666666666,
          0.3333333333333333,
          0.5416666666666666,
          0.8333333333333334,
          0.625,
          0.9583333333333334,
          0.7916666666666666,
          0.5833333333333334,
          0.7083333333333334,
          0.7916666666666666,
          0.875,
          0.75,
          0.875,
          0.9166666666666666,
          0.8333333333333334,
          0.7916666666666666,
          0.875,
          0.75,
          0.875,
          0.9166666666666666,
          0.7083333333333334,
          0.7916666666666666,
          0.9166666666666666,
          0.8333333333333334,
          0.7916666666666666,
          0.7916666666666666,
          0.6666666666666666,
          0.75,
          0.7083333333333334,
          0.75,
          0.6666666666666666,
          0.8333333333333334,
          0.7916666666666666,
          0.6666666666666666,
          0.875,
          0.8333333333333334,
          0.75,
          0.5,
          0.7916666666666666,
          0.7916666666666666,
          0.6666666666666666,
          0.7083333333333334,
          0.7083333333333334,
          0.7083333333333334,
          0.625,
          0.625,
          0.7916666666666666,
          0.8333333333333334,
          0.7916666666666666,
          0.8333333333333334,
          0.9166666666666666,
          0.7083333333333334,
          0.625,
          0.8333333333333334,
          0.9166666666666666,
          0.7916666666666666,
          0.875,
          0.75,
          0.8333333333333334,
          0.75,
          0.75,
          0.875,
          0.875,
          0.875,
          0.7916666666666666,
          0.75,
          0.7916666666666666,
          0.6666666666666666,
          0.8333333333333334,
          0.6666666666666666,
          0.8333333333333334,
          0.9166666666666666,
          0.7916666666666666,
          0.8333333333333334,
          0.9166666666666666,
          0.7083333333333334,
          0.7916666666666666,
          0.9583333333333334,
          0.7916666666666666,
          0.75,
          0.7083333333333334,
          0.8333333333333334,
          0.5,
          0.875,
          0.7916666666666666,
          0.8333333333333334,
          0.5833333333333334,
          0.9166666666666666,
          0.5833333333333334,
          0.7083333333333334,
          0.6666666666666666,
          0.8333333333333334,
          0.75,
          0.5416666666666666,
          0.7083333333333334,
          0.7916666666666666,
          0.875,
          0.8333333333333334,
          0.9166666666666666,
          0.75,
          0.8333333333333334,
          0.9166666666666666,
          0.7916666666666666,
          0.75,
          0.875,
          0.625,
          0.6666666666666666,
          0.7916666666666666,
          0.7083333333333334,
          0.8333333333333334,
          0.7083333333333334,
          0.875,
          0.75,
          0.625,
          0.7916666666666666,
          0.8333333333333334,
          0.75,
          0.75,
          0.875,
          0.625,
          0.9583333333333334,
          0.875,
          0.7916666666666666,
          0.875,
          0.875,
          0.6666666666666666,
          0.75,
          0.5833333333333334,
          0.7083333333333334,
          0.625,
          0.7083333333333334,
          0.875,
          0.7083333333333334,
          0.8333333333333334,
          0.75,
          0.5833333333333334,
          0.875,
          0.7916666666666666,
          0.75,
          0.625,
          0.7083333333333334,
          0.3333333333333333,
          0.7083333333333334,
          0.7083333333333334,
          0.8333333333333334,
          0.75,
          0.875,
          0.5833333333333334,
          0.7083333333333334,
          0.8333333333333334,
          0.8333333333333334,
          0.625,
          0.875,
          0.8333333333333334,
          0.375,
          0.6666666666666666,
          0.875,
          0.7916666666666666,
          0.875,
          0.8333333333333334,
          0.75,
          0.7916666666666666,
          0.3333333333333333,
          0.6666666666666666,
          0.9583333333333334,
          0.6666666666666666,
          0.75,
          0.9583333333333334,
          0.7916666666666666,
          0.7916666666666666,
          0.6666666666666666,
          0.8333333333333334,
          0.7916666666666666,
          0.7083333333333334,
          0.7916666666666666,
          0.9166666666666666,
          0.75,
          0.8333333333333334,
          0.75,
          0.4583333333333333,
          0.6666666666666666,
          0.875,
          0.875,
          0.6666666666666666,
          0.5416666666666666,
          0.7083333333333334,
          0.75,
          0.7083333333333334,
          0.7916666666666666,
          0.7083333333333334,
          0.9166666666666666,
          0.5833333333333334,
          0.7916666666666666,
          0.625,
          0.7916666666666666,
          0.8333333333333334,
          0.9166666666666666,
          0.8333333333333334,
          0.875,
          0.7083333333333334,
          0.7083333333333334,
          0.625,
          0.875,
          0.7083333333333334,
          0.4583333333333333,
          0.7083333333333334,
          0.8333333333333334,
          0.5833333333333334,
          0.75,
          0.5833333333333334,
          0.9166666666666666,
          0.7083333333333334,
          0.9583333333333334,
          0.7916666666666666,
          0.875,
          0.5,
          0.625,
          0.5,
          0.9166666666666666,
          0.5416666666666666,
          0.875,
          0.7916666666666666,
          0.6666666666666666,
          0.7083333333333334,
          0.8333333333333334,
          0.9583333333333334,
          0.6666666666666666,
          0.8333333333333334,
          0.8333333333333334,
          0.75,
          0.9166666666666666,
          0.9166666666666666,
          0.75,
          0.5833333333333334,
          0.9166666666666666,
          0.7083333333333334,
          0.8333333333333334,
          0.625,
          0.8333333333333334,
          0.375,
          0.875,
          0.8333333333333334,
          0.5833333333333334,
          0.75,
          0.8333333333333334,
          1,
          0.9583333333333334,
          0.6666666666666666,
          0.8333333333333334,
          0.7083333333333334,
          0.7916666666666666,
          0.7916666666666666,
          0.875,
          0.7083333333333334,
          0.875,
          0.75,
          0.8333333333333334,
          0.875,
          0.75,
          0.5833333333333334,
          0.7916666666666666,
          0.8333333333333334,
          0.875,
          0.8333333333333334,
          0.8333333333333334,
          0.6666666666666666,
          0.7916666666666666,
          0.4583333333333333,
          0.7083333333333334,
          0.5416666666666666,
          0.75,
          0.9166666666666666,
          0.75,
          0.6666666666666666,
          0.6666666666666666,
          0.75,
          0.875,
          0.6666666666666666,
          0.75,
          0.9166666666666666,
          0.625,
          0.875,
          0.8333333333333334,
          0.625,
          0.7916666666666666,
          0.9166666666666666,
          0.8333333333333334,
          0.9166666666666666,
          0.6666666666666666,
          0.8333333333333334,
          0.875,
          0.6666666666666666,
          0.4166666666666667,
          0.625,
          0.6666666666666666,
          0.5833333333333334,
          0.7916666666666666,
          0.7083333333333334,
          0.875,
          0.8333333333333334,
          0.5833333333333334,
          0.75,
          0.7083333333333334,
          0.7083333333333334,
          0.875,
          0.875,
          0.8333333333333334,
          0.8333333333333334,
          0.9166666666666666,
          0.7083333333333334,
          0.7916666666666666,
          0.7083333333333334,
          0.7083333333333334,
          0.7083333333333334,
          0.7916666666666666,
          0.75,
          0.6666666666666666,
          0.7916666666666666,
          0.6666666666666666,
          0.875,
          0.75,
          0.9583333333333334,
          0.5833333333333334,
          0.6666666666666666,
          0.7916666666666666,
          0.9166666666666666,
          0.75,
          0.8333333333333334,
          0.7916666666666666,
          0.75,
          0.8333333333333334,
          0.8333333333333334,
          0.7916666666666666,
          0.5833333333333334,
          0.9166666666666666,
          0.7083333333333334,
          0.7083333333333334,
          0.9583333333333334,
          0.8333333333333334,
          0.6666666666666666,
          0.5833333333333334,
          0.875,
          0.9166666666666666,
          0.8333333333333334,
          0.5416666666666666,
          0.9166666666666666,
          0.6666666666666666,
          0.875,
          0.5,
          0.7916666666666666,
          0.75,
          0.7083333333333334,
          0.875,
          0.6666666666666666,
          0.7083333333333334,
          0.875,
          0.75,
          0.6666666666666666,
          0.75,
          0.75,
          0.8333333333333334,
          0.9166666666666666,
          0.75,
          0.625,
          0.875,
          0.8333333333333334,
          0.7083333333333334,
          0.75,
          0.8333333333333334,
          0.75,
          0.8333333333333334,
          0.875,
          0.875,
          0.75,
          0.6666666666666666,
          0.4583333333333333,
          0.7916666666666666,
          0.7916666666666666,
          0.9166666666666666,
          0.6666666666666666,
          0.7916666666666666,
          0.875,
          0.9166666666666666,
          0.5416666666666666,
          0.3333333333333333,
          0.9166666666666666,
          0.9583333333333334,
          0.8333333333333334,
          0.7916666666666666,
          0.9166666666666666,
          0.9166666666666666,
          0.6666666666666666,
          0.7916666666666666,
          0.875,
          0.8333333333333334,
          0.8333333333333334,
          0.9166666666666666,
          0.75,
          0.7916666666666666,
          0.7916666666666666,
          0.9166666666666666,
          0.8333333333333334,
          0.7916666666666666,
          0.7916666666666666,
          0.5416666666666666,
          0.875,
          0.9166666666666666,
          0.875,
          0.8333333333333334,
          0.7916666666666666,
          0.75,
          0.625,
          0.875,
          0.625,
          0.75,
          0.7916666666666666,
          0.875,
          0.875,
          0.875,
          0.8333333333333334,
          0.625,
          0.875,
          0.8333333333333334,
          0.7916666666666666,
          0.6666666666666666,
          0.6666666666666666,
          0.4583333333333333,
          0.8333333333333334,
          0.5416666666666666,
          0.6666666666666666,
          0.9583333333333334,
          0.7916666666666666,
          0.9166666666666666,
          0.8333333333333334,
          0.8333333333333334,
          0.75,
          0.7083333333333334,
          0.6666666666666666,
          0.75,
          0.875,
          0.9166666666666666,
          0.7916666666666666,
          0.75,
          0.75,
          0.7916666666666666,
          0.625,
          0.75,
          0.75,
          0.6666666666666666,
          0.75,
          0.7916666666666666,
          0.75,
          0.9583333333333334,
          0.875,
          0.4583333333333333,
          0.7083333333333334,
          0.9166666666666666,
          0.7083333333333334,
          0.875,
          0.8333333333333334,
          0.625,
          0.6666666666666666,
          0.6666666666666666,
          0.7916666666666666,
          0.875,
          0.875,
          0.625,
          0.7916666666666666,
          0.875,
          0.9166666666666666,
          0.875,
          0.7916666666666666,
          0.8333333333333334,
          0.875,
          0.9166666666666666,
          0.4583333333333333,
          0.375,
          0.9166666666666666,
          0.375,
          0.8333333333333334,
          0.9166666666666666,
          0.875,
          0.9166666666666666,
          0.875,
          0.875,
          0.8333333333333334,
          0.9583333333333334,
          0.9166666666666666,
          0.5833333333333334,
          0.9583333333333334,
          0.75,
          0.625,
          0.5833333333333334,
          0.75,
          0.875,
          0.875,
          0.7916666666666666,
          0.625,
          1,
          0.8333333333333334,
          0.8333333333333334,
          0.9166666666666666,
          0.7916666666666666,
          0.625,
          0.9166666666666666,
          0.625,
          0.7083333333333334,
          0.8333333333333334,
          0.7916666666666666,
          0.9166666666666666,
          0.7083333333333334,
          0.875,
          0.7916666666666666,
          0.8333333333333334,
          0.75,
          0.8333333333333334,
          0.9166666666666666,
          0.6666666666666666,
          0.5416666666666666,
          0.875,
          0.7083333333333334,
          0.8333333333333334,
          0.625,
          0.9583333333333334,
          0.875,
          0.75,
          0.9583333333333334,
          0.6666666666666666,
          0.875,
          0.75,
          0.875,
          0.5833333333333334,
          0.9166666666666666,
          0.625,
          0.9583333333333334,
          0.7916666666666666,
          0.75,
          0.8333333333333334,
          0.875,
          0.9166666666666666,
          0.875,
          0.875,
          0.6666666666666666,
          0.875,
          0.7916666666666666,
          0.5416666666666666,
          0.7083333333333334,
          0.4166666666666667,
          0.7083333333333334,
          0.7916666666666666,
          0.5833333333333334,
          0.7916666666666666,
          0.8333333333333334,
          0.875,
          0.75,
          0.9166666666666666,
          0.9583333333333334,
          0.8333333333333334,
          0.4583333333333333,
          0.7916666666666666,
          0.7916666666666666,
          0.8333333333333334,
          0.375,
          0.6666666666666666,
          1,
          0.6666666666666666,
          0.9166666666666666,
          0.875,
          0.9166666666666666,
          0.7916666666666666,
          0.8333333333333334,
          0.7083333333333334,
          0.7916666666666666,
          0.9166666666666666,
          0.75,
          0.4583333333333333,
          0.75,
          0.75,
          0.625,
          0.5833333333333334,
          0.7916666666666666,
          0.9166666666666666,
          0.75,
          0.9583333333333334,
          0.7083333333333334,
          0.8333333333333334,
          0.875,
          0.7083333333333334,
          0.8333333333333334,
          0.6666666666666666,
          0.75,
          0.75,
          0.6666666666666666,
          0.8333333333333334,
          0.7083333333333334,
          0.875,
          0.9583333333333334,
          0.7083333333333334,
          0.8333333333333334,
          0.6666666666666666,
          0.9166666666666666,
          0.7083333333333334,
          0.875,
          0.875,
          0.7083333333333334,
          0.7916666666666666,
          0.5833333333333334,
          0.625,
          0.9166666666666666,
          0.7916666666666666,
          0.8333333333333334,
          0.7916666666666666,
          0.6666666666666666,
          0.5416666666666666,
          0.9583333333333334,
          0.875,
          0.7083333333333334,
          0.6666666666666666,
          0.875,
          0.9166666666666666,
          0.9583333333333334,
          0.7083333333333334,
          0.7083333333333334,
          0.7916666666666666,
          0.8333333333333334,
          0.75,
          0.625,
          0.75,
          0.875,
          0.9583333333333334,
          0.8333333333333334,
          0.9166666666666666,
          0.7916666666666666,
          0.875,
          0.7916666666666666,
          0.9166666666666666,
          0.75,
          0.9166666666666666,
          0.6666666666666666,
          0.7916666666666666,
          0.8333333333333334,
          0.7916666666666666,
          1,
          0.6666666666666666,
          0.625,
          0.8333333333333334,
          0.75,
          0.8333333333333334,
          0.75,
          0.75,
          0.7916666666666666,
          0.9166666666666666,
          0.875,
          0.75,
          0.75,
          0.9583333333333334,
          0.6666666666666666,
          0.75,
          1,
          0.9166666666666666,
          0.9166666666666666,
          0.6666666666666666,
          0.7083333333333334,
          0.8333333333333334,
          0.7916666666666666,
          0.9166666666666666,
          0.5833333333333334,
          0.9583333333333334,
          0.6666666666666666,
          0.875,
          0.8333333333333334,
          0.875,
          0.9166666666666666,
          0.875,
          0.7083333333333334,
          0.5833333333333334,
          0.8333333333333334,
          0.7916666666666666,
          0.875,
          0.8333333333333334,
          0.9166666666666666,
          0.8333333333333334,
          0.9166666666666666,
          0.7916666666666666,
          0.75,
          0.75,
          0.9583333333333334,
          0.6666666666666666,
          0.9166666666666666,
          0.9583333333333334,
          0.8333333333333334,
          0.7083333333333334,
          0.8333333333333334,
          0.7083333333333334,
          0.6666666666666666,
          0.7083333333333334,
          0.7916666666666666,
          0.875,
          0.9166666666666666,
          0.8333333333333334,
          0.875,
          1,
          0.9166666666666666,
          0.6666666666666666,
          0.875,
          0.8333333333333334,
          0.6666666666666666,
          0.8333333333333334,
          0.7916666666666666,
          0.75,
          0.75,
          0.8333333333333334,
          0.625,
          0.5833333333333334,
          0.9583333333333334,
          0.875,
          0.8333333333333334,
          0.9166666666666666,
          0.7916666666666666,
          0.6666666666666666,
          0.6666666666666666,
          0.5416666666666666,
          0.625,
          0.5416666666666666,
          0.7916666666666666,
          0.7916666666666666,
          0.8333333333333334,
          0.625,
          0.625,
          0.6666666666666666,
          0.8333333333333334,
          0.75,
          0.7916666666666666,
          0.5833333333333334,
          0.875,
          0.75,
          0.5416666666666666,
          0.6666666666666666,
          0.875,
          0.9166666666666666,
          0.9166666666666666,
          0.8333333333333334,
          0.6666666666666666,
          0.8333333333333334,
          0.7916666666666666,
          0.8333333333333334,
          0.7083333333333334,
          0.8333333333333334,
          0.8333333333333334,
          0.75,
          0.7916666666666666,
          0.8333333333333334,
          0.7916666666666666,
          0.9166666666666666,
          0.75,
          0.75,
          0.7916666666666666,
          0.8333333333333334,
          0.4583333333333333,
          0.7083333333333334,
          0.4583333333333333,
          0.8333333333333334,
          0.875,
          0.875,
          0.5833333333333334,
          0.625,
          0.9166666666666666,
          0.9166666666666666,
          0.7916666666666666,
          0.7083333333333334,
          0.9166666666666666,
          0.75,
          0.625,
          0.875,
          0.875,
          0.875,
          0.7916666666666666,
          0.5416666666666666,
          0.9583333333333334,
          0.7916666666666666,
          0.625,
          0.75,
          0.8333333333333334,
          0.7916666666666666,
          0.9166666666666666,
          0.9166666666666666,
          0.9583333333333334,
          0.7916666666666666,
          1,
          0.6666666666666666,
          0.7916666666666666,
          0.9166666666666666,
          0.7083333333333334,
          0.9166666666666666,
          0.7916666666666666,
          0.875,
          0.5833333333333334,
          0.5,
          0.9583333333333334,
          0.875,
          0.875,
          0.9583333333333334,
          0.875,
          0.7916666666666666,
          0.9166666666666666,
          0.9166666666666666,
          0.7916666666666666,
          0.875,
          0.8333333333333334,
          0.9166666666666666,
          0.6666666666666666,
          0.8333333333333334,
          0.875,
          0.75,
          0.8333333333333334,
          0.75,
          0.75,
          0.7916666666666666,
          0.875,
          0.75,
          0.625,
          0.8333333333333334,
          0.9583333333333334,
          0.7916666666666666,
          0.8333333333333334,
          0.9166666666666666,
          0.75,
          0.9166666666666666,
          0.7916666666666666,
          0.875,
          0.625,
          0.7916666666666666,
          0.5,
          1,
          0.9166666666666666,
          0.9166666666666666,
          0.75,
          0.7916666666666666,
          0.7916666666666666,
          1,
          0.875,
          0.7916666666666666,
          0.7083333333333334,
          0.7916666666666666,
          0.8333333333333334,
          0.875,
          0.9166666666666666,
          0.5416666666666666,
          0.7916666666666666,
          0.875,
          0.9583333333333334,
          0.9583333333333334,
          0.875,
          0.8333333333333334,
          1,
          0.875,
          0.625,
          0.875,
          0.9166666666666666,
          0.625,
          0.9583333333333334,
          0.875,
          0.875,
          0.9166666666666666,
          0.9583333333333334,
          0.7083333333333334,
          0.875,
          0.9166666666666666,
          0.9166666666666666,
          0.7916666666666666,
          0.7083333333333334,
          0.875,
          0.5833333333333334,
          0.9166666666666666,
          1,
          0.9166666666666666,
          0.7083333333333334,
          0.9166666666666666,
          0.9583333333333334,
          0.75,
          0.875,
          0.75,
          0.7083333333333334,
          0.7083333333333334,
          0.8333333333333334,
          0.7916666666666666,
          0.75,
          0.75,
          0.9166666666666666,
          0.75,
          0.75,
          0.9166666666666666,
          0.9166666666666666,
          0.9583333333333334,
          0.9166666666666666,
          0.875,
          0.875,
          0.8333333333333334,
          0.9166666666666666,
          0.9583333333333334,
          0.875,
          0.625,
          0.875,
          0.8333333333333334,
          0.8333333333333334,
          0.6666666666666666,
          0.9166666666666666,
          0.8333333333333334,
          0.875,
          0.375,
          0.5833333333333334,
          0.5833333333333334,
          0.75,
          0.7916666666666666,
          0.6666666666666666,
          0.6666666666666666,
          0.875,
          0.9583333333333334,
          0.5833333333333334,
          0.875,
          0.6666666666666666,
          1,
          0.6666666666666666,
          0.75,
          0.9166666666666666,
          0.875,
          1,
          0.875,
          0.7083333333333334,
          0.7916666666666666,
          0.875,
          0.9166666666666666,
          0.375,
          0.9166666666666666,
          0.8333333333333334,
          0.75,
          0.875,
          0.875,
          0.8333333333333334,
          0.75,
          0.5833333333333334,
          0.8333333333333334,
          0.75,
          0.7083333333333334,
          0.6666666666666666,
          0.8333333333333334,
          0.6666666666666666,
          0.9583333333333334,
          0.625,
          0.7916666666666666,
          0.9166666666666666,
          0.7916666666666666,
          0.9166666666666666,
          0.7083333333333334,
          0.75,
          0.9166666666666666,
          0.7916666666666666,
          0.75,
          0.875,
          0.8333333333333334,
          0.4583333333333333,
          0.7916666666666666,
          0.9166666666666666,
          0.7916666666666666,
          0.8333333333333334,
          0.7916666666666666,
          0.875,
          0.8333333333333334,
          0.75,
          0.9166666666666666,
          0.5833333333333334,
          0.8333333333333334,
          0.5833333333333334,
          0.9166666666666666,
          0.9166666666666666,
          0.5,
          0.9166666666666666,
          0.9583333333333334,
          0.75,
          0.875,
          0.8333333333333334,
          0.75,
          0.9166666666666666,
          0.8333333333333334,
          0.8333333333333334,
          0.75,
          0.9166666666666666,
          0.75,
          0.9166666666666666,
          0.875,
          0.875,
          0.875,
          0.8333333333333334,
          0.7916666666666666,
          0.8333333333333334,
          0.875,
          0.9583333333333334,
          0.6666666666666666,
          0.875,
          0.9166666666666666,
          0.625,
          0.8333333333333334,
          0.7083333333333334,
          0.6666666666666666,
          0.7083333333333334,
          0.9166666666666666,
          0.625,
          0.75,
          0.9166666666666666,
          0.875,
          0.8333333333333334,
          0.875,
          0.5833333333333334,
          0.7916666666666666,
          0.875,
          0.7916666666666666,
          0.9166666666666666,
          0.7916666666666666,
          0.5833333333333334,
          0.7916666666666666,
          0.5,
          0.875,
          0.8333333333333334,
          0.8333333333333334,
          0.8333333333333334,
          0.9166666666666666,
          0.9583333333333334,
          0.9166666666666666,
          0.8333333333333334,
          0.875,
          0.9166666666666666,
          0.8333333333333334,
          0.8333333333333334,
          0.7083333333333334,
          0.875,
          0.7083333333333334,
          0.9166666666666666,
          0.6666666666666666,
          0.9166666666666666,
          0.875,
          0.9166666666666666,
          0.875,
          0.9166666666666666,
          0.7916666666666666,
          0.8333333333333334,
          1,
          0.75,
          0.9166666666666666,
          0.7916666666666666,
          0.9166666666666666,
          0.9166666666666666,
          0.75,
          0.625,
          0.8333333333333334,
          0.7916666666666666,
          0.9583333333333334,
          0.6666666666666666,
          0.875,
          0.7083333333333334,
          0.9166666666666666,
          1,
          0.8333333333333334,
          0.5833333333333334,
          0.9583333333333334,
          0.9583333333333334,
          0.625,
          0.8333333333333334,
          0.9166666666666666,
          0.7916666666666666,
          1,
          0.9166666666666666,
          0.8333333333333334,
          0.9166666666666666,
          0.7916666666666666,
          0.875,
          0.875,
          0.9583333333333334,
          0.9583333333333334,
          0.7083333333333334,
          0.9583333333333334,
          0.875,
          0.875,
          0.9166666666666666,
          0.875,
          0.9166666666666666,
          0.8333333333333334,
          0.4583333333333333,
          0.9166666666666666,
          0.75,
          0.875,
          0.9583333333333334,
          0.8333333333333334,
          0.875,
          0.8333333333333334,
          0.875,
          0.9166666666666666,
          0.9583333333333334,
          0.7083333333333334,
          0.9583333333333334,
          0.9166666666666666,
          0.8333333333333334,
          0.9583333333333334,
          0.4583333333333333,
          0.9583333333333334,
          0.9166666666666666,
          0.875,
          0.7916666666666666,
          0.9166666666666666,
          0.9583333333333334,
          0.75,
          0.9166666666666666,
          0.5833333333333334,
          0.9166666666666666,
          0.7916666666666666,
          0.9583333333333334,
          0.8333333333333334,
          0.7916666666666666,
          0.9583333333333334,
          0.8333333333333334,
          0.875,
          0.9166666666666666,
          0.7916666666666666,
          1,
          1,
          0.875,
          0.8333333333333334,
          0.7083333333333334,
          1,
          0.75,
          0.8333333333333334,
          0.6666666666666666,
          0.875,
          0.5833333333333334,
          0.5833333333333334,
          0.9583333333333334,
          0.9166666666666666,
          0.875,
          0.875,
          0.8333333333333334,
          0.9583333333333334,
          0.7916666666666666,
          1,
          1,
          0.8333333333333334,
          0.7083333333333334,
          0.9583333333333334,
          0.875,
          0.9166666666666666,
          1,
          0.9166666666666666,
          0.5833333333333334,
          1,
          0.9583333333333334,
          1,
          0.8333333333333334,
          0.6666666666666666,
          1,
          0.7916666666666666,
          0.5,
          0.7083333333333334,
          0.9166666666666666,
          0.5833333333333334,
          0.9166666666666666,
          0.9166666666666666,
          0.875,
          0.6666666666666666,
          0.9583333333333334,
          0.9166666666666666,
          0.75,
          0.9583333333333334,
          0.75,
          0.875,
          0.9166666666666666,
          0.8333333333333334,
          0.875,
          0.9166666666666666,
          0.875,
          0.6666666666666666,
          0.5833333333333334,
          0.875,
          0.7916666666666666,
          0.7083333333333334,
          0.9166666666666666,
          0.8333333333333334,
          0.9583333333333334,
          1,
          0.9166666666666666,
          0.875,
          1,
          0.7916666666666666,
          0.8333333333333334,
          0.875,
          0.9583333333333334,
          0.9583333333333334,
          0.8333333333333334,
          0.875,
          0.875,
          0.8333333333333334,
          0.875,
          0.875,
          1,
          0.9166666666666666,
          0.875,
          0.7916666666666666,
          0.7083333333333334,
          0.9166666666666666,
          0.9583333333333334,
          0.9583333333333334,
          0.8333333333333334,
          0.7916666666666666,
          0.7916666666666666,
          0.75,
          0.7916666666666666,
          0.8333333333333334,
          0.875,
          0.875,
          0.875,
          0.8333333333333334,
          0.75,
          0.7916666666666666,
          0.7083333333333334,
          0.9166666666666666,
          0.9583333333333334,
          0.875,
          0.8333333333333334,
          0.9166666666666666,
          0.9583333333333334,
          0.9583333333333334,
          0.7916666666666666,
          0.7916666666666666,
          0.7083333333333334,
          0.8333333333333334,
          0.9583333333333334,
          0.7916666666666666,
          0.75,
          0.8333333333333334,
          0.9583333333333334,
          0.75,
          0.9166666666666666,
          0.875,
          0.8333333333333334,
          0.9583333333333334,
          0.875,
          0.75,
          0.8333333333333334,
          0.9583333333333334,
          0.875,
          0.7916666666666666,
          0.7916666666666666,
          0.875,
          0.8333333333333334,
          0.9583333333333334,
          0.8333333333333334,
          0.8333333333333334,
          0.9583333333333334,
          0.8333333333333334,
          0.5416666666666666,
          0.7083333333333334,
          0.9166666666666666,
          0.8333333333333334,
          0.9166666666666666,
          0.7916666666666666,
          0.7916666666666666,
          0.875,
          0.8333333333333334,
          0.875,
          0.7083333333333334,
          0.8333333333333334,
          0.875,
          0.875,
          0.75,
          0.9166666666666666,
          0.8333333333333334,
          0.875,
          0.75,
          0.75,
          0.625,
          0.9166666666666666,
          0.9166666666666666,
          0.2083333333333333,
          0.7083333333333334,
          0.6666666666666666,
          0.875,
          0.8333333333333334,
          1,
          0.7083333333333334,
          0.7916666666666666,
          0.9583333333333334,
          0.9166666666666666,
          0.8333333333333334,
          0.9583333333333334,
          0.9166666666666666,
          0.9166666666666666,
          0.875,
          0.8333333333333334,
          0.75,
          0.8333333333333334,
          0.75,
          0.7916666666666666,
          0.5,
          0.6666666666666666,
          0.9583333333333334,
          0.875,
          0.625,
          0.6666666666666666,
          0.9583333333333334,
          0.7083333333333334,
          0.8333333333333334,
          0.875,
          0.8333333333333334,
          0.75,
          0.75,
          0.6666666666666666,
          0.9166666666666666,
          0.875,
          0.7083333333333334,
          0.9583333333333334,
          0.875,
          0.625,
          0.8333333333333334,
          0.8333333333333334,
          0.75,
          0.9166666666666666,
          0.9583333333333334,
          0.7916666666666666,
          0.7083333333333334,
          0.6666666666666666,
          0.9166666666666666,
          0.9583333333333334,
          0.9166666666666666,
          0.7916666666666666,
          0.875,
          0.7916666666666666,
          0.8333333333333334,
          0.875,
          0.8333333333333334,
          1,
          0.625,
          0.75,
          0.7916666666666666,
          0.9166666666666666,
          0.75,
          0.8333333333333334,
          0.875,
          0.8333333333333334,
          0.8333333333333334,
          0.7916666666666666,
          0.875,
          0.875,
          1,
          0.75,
          0.875,
          0.875,
          0.9166666666666666,
          0.8333333333333334,
          0.875,
          0.625,
          0.75,
          0.7916666666666666,
          0.9166666666666666,
          0.9166666666666666,
          0.7916666666666666,
          0.875,
          0.7916666666666666,
          0.8333333333333334,
          0.7916666666666666,
          0.7916666666666666,
          0.6666666666666666,
          0.9166666666666666,
          0.9166666666666666,
          0.8333333333333334,
          0.875,
          0.7916666666666666,
          0.5833333333333334,
          0.7083333333333334,
          0.875,
          0.9583333333333334,
          0.875,
          0.75,
          0.875,
          0.75,
          0.9166666666666666,
          0.9166666666666666,
          0.625,
          0.9166666666666666,
          0.7916666666666666,
          0.8333333333333334,
          0.9166666666666666,
          0.8333333333333334,
          0.75,
          0.7083333333333334,
          0.875,
          0.9166666666666666,
          0.75,
          0.8333333333333334,
          0.7916666666666666,
          0.7916666666666666,
          0.7916666666666666,
          0.7083333333333334,
          0.6666666666666666,
          0.9166666666666666,
          0.875,
          0.875,
          0.8333333333333334,
          0.875,
          0.9166666666666666,
          0.75,
          0.8333333333333334,
          0.7916666666666666,
          0.7916666666666666,
          0.9583333333333334,
          0.875,
          0.6666666666666666,
          0.875,
          0.6666666666666666,
          0.9166666666666666,
          0.9583333333333334,
          0.875,
          1,
          0.75,
          0.7916666666666666,
          0.875,
          0.875,
          0.875,
          0.7916666666666666,
          0.7083333333333334,
          0.9166666666666666,
          0.875,
          0.8333333333333334,
          0.8333333333333334,
          0.75,
          0.7083333333333334,
          0.8333333333333334,
          0.9166666666666666,
          0.7916666666666666,
          0.875,
          0.9166666666666666,
          0.9166666666666666,
          0.9166666666666666,
          0.8333333333333334,
          0.875,
          0.7916666666666666,
          0.7916666666666666,
          0.9166666666666666,
          0.9166666666666666,
          0.8333333333333334,
          0.9166666666666666,
          0.875,
          0.8333333333333334,
          0.7916666666666666,
          0.8333333333333334,
          0.7916666666666666,
          0.9166666666666666,
          0.9166666666666666,
          0.8333333333333334,
          0.8333333333333334,
          0.7916666666666666,
          0.8333333333333334,
          0.8333333333333334,
          0.8333333333333334,
          0.5833333333333334,
          0.8333333333333334,
          0.875,
          0.875,
          0.875,
          0.75,
          0.9583333333333334,
          0.9166666666666666,
          0.8333333333333334,
          0.875,
          0.6666666666666666,
          0.9583333333333334,
          0.9166666666666666,
          0.8333333333333334,
          0.875,
          0.9166666666666666,
          0.875,
          0.7083333333333334,
          0.8333333333333334,
          0.6666666666666666,
          0.9166666666666666,
          0.9166666666666666,
          0.875,
          0.7916666666666666,
          0.875,
          0.9166666666666666,
          0.7083333333333334,
          0.875,
          0.9166666666666666,
          0.8333333333333334,
          0.9166666666666666,
          0.875,
          0.75,
          0.875,
          0.875,
          0.75,
          0.9583333333333334,
          0.625,
          0.75,
          0.7916666666666666,
          0.9166666666666666,
          0.875,
          0.875,
          0.875,
          0.75,
          0.9166666666666666,
          0.7916666666666666,
          0.9166666666666666,
          0.75,
          0.8333333333333334,
          0.625,
          0.7916666666666666,
          0.75,
          0.7083333333333334,
          0.5833333333333334,
          0.7916666666666666,
          0.9166666666666666,
          0.875,
          0.9583333333333334,
          0.7916666666666666,
          0.7916666666666666,
          0.75,
          0.7916666666666666,
          0.8333333333333334,
          0.6666666666666666,
          0.875,
          0.875,
          0.875,
          0.875,
          0.9583333333333334,
          0.8333333333333334,
          1,
          0.875,
          0.8333333333333334,
          0.9583333333333334,
          0.9166666666666666,
          0.75,
          0.875,
          0.875,
          0.6666666666666666,
          0.8333333333333334,
          0.7083333333333334,
          0.7916666666666666,
          0.8333333333333334,
          0.9166666666666666,
          0.8333333333333334,
          0.875,
          0.7916666666666666,
          0.875,
          0.7916666666666666,
          1,
          0.7083333333333334,
          0.8333333333333334,
          0.7916666666666666,
          0.9166666666666666,
          0.9583333333333334,
          0.875,
          0.9583333333333334,
          0.875,
          0.875,
          0.9166666666666666,
          0.875,
          0.875,
          0.75,
          0.625,
          0.6666666666666666,
          0.8333333333333334,
          0.75,
          0.7083333333333334,
          0.8333333333333334,
          0.75,
          0.9166666666666666,
          0.875,
          0.75,
          0.875,
          0.9583333333333334,
          0.7916666666666666,
          0.7083333333333334,
          0.8333333333333334,
          0.9583333333333334,
          0.7916666666666666,
          0.9166666666666666,
          0.7916666666666666,
          0.8333333333333334,
          0.9166666666666666,
          0.8333333333333334,
          0.7083333333333334,
          0.9166666666666666,
          0.9166666666666666,
          0.7916666666666666,
          0.875,
          0.875,
          0.7083333333333334,
          0.875,
          0.8333333333333334,
          0.5833333333333334,
          0.9583333333333334,
          0.75,
          0.9583333333333334,
          0.8333333333333334,
          0.9166666666666666,
          0.75,
          0.7916666666666666,
          0.9166666666666666,
          0.875,
          0.9166666666666666,
          0.7916666666666666,
          0.8333333333333334,
          0.8333333333333334,
          0.875,
          0.875,
          0.9583333333333334,
          0.7916666666666666,
          0.8333333333333334,
          0.875,
          0.9583333333333334,
          0.875,
          0.6666666666666666,
          0.75,
          0.9166666666666666,
          0.8333333333333334,
          0.875,
          0.75,
          0.875,
          0.8333333333333334,
          0.875,
          0.875,
          0.875,
          0.9583333333333334,
          0.7083333333333334,
          0.7916666666666666,
          0.7916666666666666,
          0.875,
          0.75,
          0.9583333333333334,
          0.9166666666666666,
          0.875,
          0.875,
          0.875,
          0.75,
          0.9583333333333334,
          0.8333333333333334,
          0.875,
          0.9583333333333334,
          0.8333333333333334,
          0.75,
          0.9166666666666666,
          0.7916666666666666,
          0.75,
          0.7916666666666666,
          0.7916666666666666,
          0.75,
          0.875,
          0.8333333333333334,
          0.875,
          0.9166666666666666,
          0.75,
          0.5833333333333334,
          0.875,
          0.8333333333333334,
          0.9166666666666666,
          0.875,
          0.875,
          0.875,
          0.9166666666666666,
          1,
          1,
          0.9166666666666666,
          0.9583333333333334,
          0.8333333333333334,
          0.8333333333333334,
          0.75,
          0.9583333333333334,
          0.75,
          0.75,
          0.875,
          0.9583333333333334,
          0.9166666666666666,
          0.9166666666666666,
          0.8333333333333334,
          0.75,
          0.7083333333333334,
          0.9166666666666666,
          0.875,
          0.7916666666666666,
          0.7916666666666666,
          0.7083333333333334,
          0.75,
          0.9166666666666666,
          0.625,
          0.9166666666666666,
          0.9583333333333334,
          0.875,
          0.8333333333333334,
          0.9166666666666666,
          0.9583333333333334,
          0.8333333333333334,
          0.9166666666666666,
          0.75,
          0.9166666666666666,
          0.8333333333333334,
          0.875,
          0.9166666666666666,
          0.9166666666666666,
          0.9166666666666666,
          0.9166666666666666,
          0.8333333333333334,
          0.875,
          0.875,
          0.75,
          0.9166666666666666,
          0.875,
          0.9166666666666666,
          0.8333333333333334,
          0.9166666666666666,
          0.9583333333333334,
          0.75,
          0.8333333333333334,
          0.8333333333333334,
          0.9583333333333334,
          0.875,
          0.7916666666666666,
          0.9166666666666666,
          0.7916666666666666,
          0.875,
          0.9166666666666666,
          0.8333333333333334,
          0.9166666666666666,
          0.8333333333333334,
          0.875,
          0.875,
          0.875,
          0.9583333333333334,
          0.875,
          0.8333333333333334,
          0.9166666666666666,
          0.9583333333333334,
          0.75,
          0.8333333333333334,
          0.875,
          0.875,
          0.875,
          0.8333333333333334,
          0.875,
          0.875,
          0.8333333333333334,
          0.6666666666666666,
          0.7916666666666666,
          0.9583333333333334,
          0.875,
          0.9166666666666666,
          0.8333333333333334,
          0.7916666666666666,
          0.6666666666666666,
          0.8333333333333334,
          0.8333333333333334,
          0.7083333333333334,
          0.5416666666666666,
          1,
          0.9583333333333334,
          0.625,
          0.9166666666666666,
          0.875,
          0.9166666666666666,
          0.9166666666666666,
          0.875,
          0.875,
          0.75,
          0.875,
          0.8333333333333334,
          0.9166666666666666,
          0.7083333333333334,
          0.875,
          0.7916666666666666,
          0.9166666666666666,
          0.8333333333333334,
          0.8333333333333334,
          0.8333333333333334,
          0.875,
          0.9166666666666666,
          0.8333333333333334,
          0.875,
          0.8333333333333334,
          0.8333333333333334,
          0.875,
          0.7916666666666666,
          0.9166666666666666,
          1,
          1,
          0.8333333333333334,
          0.8333333333333334,
          0.8333333333333334,
          0.9166666666666666,
          0.9583333333333334,
          0.7916666666666666,
          0.7083333333333334,
          0.9583333333333334,
          0.9166666666666666,
          0.75,
          0.6666666666666666,
          0.9583333333333334,
          0.9166666666666666,
          0.875,
          0.8333333333333334,
          0.8333333333333334,
          0.7083333333333334,
          0.9166666666666666,
          0.8333333333333334,
          0.9166666666666666,
          0.875,
          0.875,
          0.9583333333333334,
          0.9166666666666666,
          0.875,
          0.8333333333333334,
          0.9166666666666666,
          0.7916666666666666,
          0.9583333333333334,
          0.75,
          0.75,
          0.7083333333333334,
          0.9166666666666666,
          0.8333333333333334,
          0.8333333333333334,
          0.75,
          0.75,
          0.8333333333333334,
          0.8333333333333334,
          0.7083333333333334,
          0.875,
          0.875,
          0.875,
          0.9166666666666666,
          0.875,
          0.875,
          0.9166666666666666,
          0.7916666666666666,
          0.875,
          0.875,
          0.875,
          0.875,
          0.9166666666666666,
          0.875,
          0.8333333333333334,
          0.7916666666666666,
          0.875,
          0.875,
          0.9583333333333334,
          0.75,
          0.8333333333333334,
          0.875,
          0.875,
          0.8333333333333334,
          0.7916666666666666,
          0.875,
          0.7916666666666666,
          0.8333333333333334,
          0.7916666666666666,
          0.8333333333333334,
          0.9583333333333334,
          0.7916666666666666,
          0.75,
          1,
          0.7916666666666666,
          0.9166666666666666,
          0.9166666666666666,
          0.9583333333333334,
          0.875,
          1,
          0.6666666666666666,
          0.875,
          0.875,
          0.8333333333333334,
          0.6666666666666666,
          0.875,
          0.875,
          0.5833333333333334,
          0.9166666666666666,
          0.625,
          0.75,
          0.75,
          0.9583333333333334,
          0.8333333333333334,
          0.9166666666666666,
          0.75,
          0.9166666666666666,
          0.875,
          0.9166666666666666,
          0.7916666666666666,
          0.875,
          0.8333333333333334,
          0.8333333333333334,
          0.8333333333333334,
          0.9166666666666666,
          0.7916666666666666,
          0.8333333333333334,
          0.9166666666666666,
          0.875,
          0.8333333333333334,
          0.875,
          0.75,
          0.875,
          0.9166666666666666,
          0.8333333333333334,
          0.9166666666666666,
          0.8333333333333334,
          0.9583333333333334,
          0.8333333333333334,
          0.75,
          0.9166666666666666,
          0.7916666666666666,
          0.875,
          0.9166666666666666,
          0.9166666666666666,
          0.7916666666666666,
          0.9166666666666666,
          0.9166666666666666,
          0.9583333333333334,
          0.5833333333333334,
          0.8333333333333334,
          0.8333333333333334,
          0.75,
          0.7083333333333334,
          0.8333333333333334,
          0.7916666666666666,
          0.6666666666666666,
          0.7916666666666666,
          0.875,
          0.7916666666666666,
          0.5416666666666666,
          0.9166666666666666,
          0.8333333333333334,
          0.8333333333333334,
          0.9166666666666666,
          0.7916666666666666,
          0.8333333333333334,
          0.9583333333333334,
          0.625,
          0.875,
          0.9166666666666666,
          0.7916666666666666,
          0.9166666666666666,
          0.7916666666666666,
          0.875,
          0.875,
          0.9166666666666666,
          0.875,
          0.8333333333333334,
          0.8333333333333334,
          0.9166666666666666,
          0.9166666666666666,
          0.875,
          0.8333333333333334,
          0.7916666666666666,
          0.9166666666666666,
          0.7083333333333334,
          0.8333333333333334,
          0.875,
          0.875,
          0.9583333333333334,
          0.7083333333333334,
          0.8333333333333334,
          0.8333333333333334,
          0.7916666666666666,
          0.7083333333333334,
          0.875,
          0.9166666666666666,
          0.875,
          0.9583333333333334,
          0.8333333333333334,
          0.6666666666666666,
          1,
          0.7916666666666666,
          0.875,
          0.9166666666666666,
          0.875,
          0.7083333333333334,
          0.75,
          0.8333333333333334,
          0.9166666666666666,
          0.875,
          0.8333333333333334,
          0.8333333333333334,
          0.7083333333333334,
          0.9583333333333334,
          0.7083333333333334,
          0.8333333333333334,
          0.7916666666666666,
          0.75,
          0.8333333333333334,
          1,
          0.8333333333333334,
          0.9166666666666666,
          0.7916666666666666,
          0.75,
          0.9166666666666666,
          0.875,
          0.7916666666666666,
          0.7916666666666666,
          0.75,
          0.75,
          0.75,
          0.9166666666666666,
          0.7916666666666666,
          0.9166666666666666,
          0.7916666666666666,
          0.9583333333333334,
          0.875,
          0.875,
          0.75,
          0.9166666666666666,
          0.8333333333333334,
          0.8333333333333334,
          0.9166666666666666,
          0.8333333333333334,
          0.8333333333333334,
          0.7916666666666666,
          0.875,
          0.875,
          0.7916666666666666,
          0.875,
          0.7083333333333334,
          0.875,
          0.9583333333333334,
          0.7916666666666666,
          0.9166666666666666,
          0.8333333333333334,
          0.75,
          0.7916666666666666,
          0.8333333333333334,
          0.9166666666666666,
          0.7916666666666666,
          0.7083333333333334,
          0.8333333333333334,
          0.8333333333333334,
          0.7916666666666666,
          0.875,
          0.875,
          0.9166666666666666,
          0.7916666666666666,
          0.9166666666666666,
          0.9166666666666666,
          0.6666666666666666,
          0.7916666666666666,
          0.875,
          0.8333333333333334,
          0.8333333333333334,
          0.9166666666666666,
          0.875,
          0.8333333333333334,
          1,
          0.875,
          0.8333333333333334,
          0.8333333333333334,
          1,
          0.875,
          0.8333333333333334,
          0.8333333333333334,
          0.8333333333333334,
          0.7916666666666666,
          0.8333333333333334,
          0.8333333333333334,
          0.8333333333333334,
          0.75,
          0.75,
          0.8333333333333334,
          0.75,
          0.875,
          0.875,
          0.625,
          0.9166666666666666,
          0.8333333333333334,
          0.9166666666666666,
          0.7916666666666666,
          0.875,
          1,
          0.8333333333333334,
          0.8333333333333334,
          1,
          0.875,
          0.8333333333333334,
          0.9166666666666666,
          0.875,
          0.875,
          0.9166666666666666,
          0.75,
          0.8333333333333334,
          0.9583333333333334,
          0.9583333333333334,
          0.9583333333333334,
          0.9583333333333334,
          0.9166666666666666,
          1,
          0.7083333333333334,
          0.875,
          0.875,
          0.8333333333333334,
          0.9166666666666666,
          0.9583333333333334,
          0,
          0.8333333333333334,
          0.875,
          1,
          1,
          0.9166666666666666,
          0.9583333333333334,
          0.9583333333333334,
          0.9166666666666666,
          0.8333333333333334,
          0.9583333333333334,
          0.9166666666666666,
          0.8333333333333334,
          0.9583333333333334,
          0.9166666666666666,
          0.8333333333333334,
          0.875,
          0.9166666666666666,
          0.9583333333333334,
          1,
          0.9166666666666666,
          0.9166666666666666,
          0.875,
          0.875,
          0.9583333333333334,
          0.9166666666666666,
          0.9583333333333334,
          0.875,
          1,
          0.9166666666666666,
          0.9583333333333334,
          0.9583333333333334,
          0.7083333333333334,
          0.9166666666666666,
          0.875,
          0.9166666666666666,
          0.75,
          1,
          1,
          0.9166666666666666,
          0.9166666666666666,
          0.875,
          0.75,
          0.9166666666666666,
          0.875,
          0.75,
          0.875,
          0.875,
          0.875,
          0.9166666666666666,
          0.8333333333333334,
          0.875,
          0.7916666666666666,
          1,
          0.9166666666666666,
          1,
          1,
          0.9166666666666666,
          0.9583333333333334,
          1,
          1,
          0.9166666666666666,
          0.8333333333333334,
          1,
          0.7083333333333334,
          1,
          0.875,
          0.8333333333333334,
          0.9166666666666666,
          0.8333333333333334,
          0.875,
          0.7083333333333334,
          0.9583333333333334,
          0.875,
          0.875,
          0.8333333333333334,
          0.9583333333333334,
          0.9166666666666666,
          0.9583333333333334,
          0.9583333333333334,
          0.8333333333333334,
          0.9166666666666666,
          1,
          0.7083333333333334,
          1,
          0.8333333333333334,
          0.7916666666666666,
          0.7916666666666666,
          0.9166666666666666,
          0.8333333333333334,
          0.1666666666666666,
          0.9583333333333334,
          0.8333333333333334,
          1,
          1,
          0.9166666666666666,
          0.7916666666666666,
          0.75,
          1,
          1,
          0.9166666666666666,
          0.8333333333333334,
          0.9583333333333334,
          0.9166666666666666,
          0.9166666666666666,
          0.875,
          0.9583333333333334,
          0.9166666666666666,
          0.9583333333333334,
          0.9166666666666666,
          0.875,
          0.9166666666666666,
          0.8333333333333334,
          1,
          0.9166666666666666,
          0.7916666666666666,
          0.7916666666666666,
          0.9583333333333334,
          0.875,
          0.875,
          0.9166666666666666,
          0.7916666666666666,
          0.875,
          0.9583333333333334,
          0.9583333333333334,
          0.7916666666666666,
          0.8333333333333334,
          1,
          0.9166666666666666,
          0.9166666666666666,
          0.8333333333333334,
          0.9583333333333334,
          0.8333333333333334,
          0.9583333333333334,
          0.7916666666666666,
          0.7916666666666666,
          0.9583333333333334,
          0.875,
          0.9166666666666666,
          0.9166666666666666,
          0.9166666666666666,
          0.6666666666666666,
          0.75,
          0.8333333333333334,
          0.9583333333333334,
          0.9166666666666666,
          0.7916666666666666,
          0.9166666666666666,
          0.8333333333333334,
          0.875,
          0.8333333333333334,
          0.7916666666666666,
          0.9583333333333334,
          0.8333333333333334,
          0.875,
          0.9166666666666666,
          0.875,
          0.875,
          1,
          0.5416666666666666,
          0.7916666666666666,
          0.9583333333333334,
          0.9166666666666666,
          0.9166666666666666,
          0.875,
          0.625,
          0.9583333333333334,
          0.7916666666666666,
          0.9583333333333334,
          0.7083333333333334,
          0.8333333333333334,
          0.9583333333333334,
          0.9166666666666666,
          0.7916666666666666,
          0.875,
          0.9583333333333334,
          1,
          0.9583333333333334,
          0.9583333333333334,
          0.9583333333333334,
          0.875,
          0.75,
          0.875,
          0.9583333333333334,
          0.9583333333333334,
          0.9166666666666666,
          0.9583333333333334,
          0.7916666666666666,
          0.7916666666666666,
          0.9166666666666666,
          0.7916666666666666,
          0.9583333333333334,
          0.9583333333333334,
          0.875,
          0.6666666666666666,
          0.8333333333333334,
          1,
          1,
          0.9166666666666666,
          0.8333333333333334,
          0.7916666666666666,
          0.9583333333333334,
          0.9166666666666666,
          0.9166666666666666,
          0.9166666666666666,
          0.875,
          0.875,
          0.9166666666666666,
          0.9583333333333334,
          0.9583333333333334,
          0.9583333333333334,
          0.875,
          0.9166666666666666,
          0.875,
          0.875,
          1,
          0.9166666666666666,
          0.9583333333333334,
          0.7916666666666666,
          0.7916666666666666,
          0.9583333333333334,
          0.5416666666666666,
          1,
          0.8333333333333334,
          0.9583333333333334,
          0.8333333333333334,
          0.9166666666666666,
          0.875,
          0.875,
          1,
          0.9166666666666666,
          0.9166666666666666,
          0.8333333333333334,
          0.875,
          1,
          0.7916666666666666,
          0.875,
          0.8333333333333334,
          1,
          0.875,
          0.9583333333333334,
          0.8333333333333334,
          0.9583333333333334,
          0.9166666666666666,
          1,
          0.9166666666666666,
          1,
          0.9583333333333334,
          0.75,
          0.9166666666666666,
          0.9583333333333334,
          0.9583333333333334,
          0.7916666666666666,
          0.875,
          0.9166666666666666,
          0.9166666666666666,
          0.8333333333333334,
          0.7083333333333334,
          0.75,
          0.9166666666666666,
          0.9166666666666666,
          0.75,
          0.9583333333333334,
          0.75,
          1,
          0.9166666666666666,
          0.9166666666666666,
          0.9583333333333334,
          0.9166666666666666,
          0.9166666666666666,
          0.9166666666666666,
          0.9583333333333334,
          1,
          0.7083333333333334,
          0.9583333333333334,
          0.7916666666666666,
          0.9166666666666666,
          0.8333333333333334,
          0.9583333333333334,
          0.7916666666666666,
          0.875,
          0.8333333333333334,
          0.75,
          0.9166666666666666,
          0.9166666666666666,
          0.9583333333333334,
          0.7083333333333334,
          0.9166666666666666,
          0.625,
          1,
          0.9583333333333334,
          0.875,
          0.9583333333333334,
          0.9583333333333334,
          0.875,
          0.875,
          0.75,
          0.9166666666666666,
          0.9583333333333334,
          0.875,
          0.9166666666666666,
          0.9166666666666666,
          0.875,
          0.9166666666666666,
          0.875,
          0.9583333333333334,
          0.9583333333333334,
          0.9166666666666666,
          0.9166666666666666,
          0.9583333333333334,
          0.7916666666666666,
          0.9166666666666666,
          0.9583333333333334,
          0.9583333333333334,
          0.5833333333333334,
          0.8333333333333334,
          0.9166666666666666,
          0.875,
          0.875,
          0.9166666666666666,
          0.75,
          0.9166666666666666,
          0.8333333333333334,
          0.875,
          0.875,
          0.875,
          0.8333333333333334,
          0.7916666666666666,
          0.875,
          0.7916666666666666,
          0.8333333333333334,
          0.8333333333333334,
          0.875,
          0.9166666666666666,
          0.9166666666666666,
          0.875,
          0.9583333333333334,
          0.9166666666666666,
          1,
          0.7083333333333334,
          0.875,
          0.8333333333333334,
          0.9583333333333334,
          0.9166666666666666,
          0.7916666666666666,
          0.875,
          0.9166666666666666,
          0.9166666666666666,
          0.9583333333333334,
          0.9583333333333334,
          0.7916666666666666,
          0.875,
          0.7916666666666666,
          0.9583333333333334,
          0.8333333333333334,
          0.7916666666666666,
          0.8333333333333334,
          0.7083333333333334,
          0.9166666666666666,
          0.8333333333333334,
          0.8333333333333334,
          0.8333333333333334,
          0.875,
          0.875,
          0.9166666666666666,
          0.9583333333333334,
          0.9583333333333334,
          0.7916666666666666,
          0.875,
          0.9166666666666666,
          0.8333333333333334,
          0.875,
          0.9166666666666666,
          0.7916666666666666,
          0.875,
          0.9166666666666666,
          0.7916666666666666,
          0.875,
          0.75,
          0.9166666666666666,
          0.8333333333333334,
          0.8333333333333334,
          0.875,
          0.9166666666666666,
          0.9166666666666666,
          0.8333333333333334,
          0.875,
          0.875,
          0.8333333333333334,
          0.8333333333333334,
          0.9166666666666666,
          0.875,
          0.9166666666666666,
          0.9166666666666666,
          0.9583333333333334,
          0.9583333333333334,
          0.9583333333333334,
          0.875,
          0.9166666666666666,
          0.9166666666666666,
          0.9166666666666666,
          0.8333333333333334,
          0.75,
          0.9166666666666666,
          0.9166666666666666,
          0.9583333333333334,
          0.875,
          0.9166666666666666,
          0.8333333333333334,
          0.9166666666666666,
          0.8333333333333334,
          0.875,
          0.875,
          0.875,
          0.7083333333333334,
          0.875,
          0.9166666666666666,
          0.9166666666666666,
          0.9166666666666666,
          0.75,
          0.7083333333333334,
          0.9166666666666666,
          0.9166666666666666,
          0.9166666666666666,
          0.9166666666666666,
          0.8333333333333334,
          0.8333333333333334,
          0.9583333333333334,
          0.875,
          0.875,
          0.875,
          0.9583333333333334,
          0.875,
          0.875,
          0.9166666666666666,
          0.9583333333333334,
          0.9583333333333334,
          0.875,
          0.9166666666666666,
          0.75,
          0.875,
          0.875,
          0.9166666666666666,
          0.875,
          0.9166666666666666,
          0.8333333333333334,
          0.875,
          0.875,
          0.875,
          0.8333333333333334,
          0.875,
          0.9166666666666666,
          0.9166666666666666,
          0.7916666666666666,
          0.7916666666666666,
          0.875,
          0.9166666666666666,
          0.875,
          0.9583333333333334,
          0.9166666666666666,
          0.8333333333333334,
          0.875,
          0.7916666666666666,
          0.8333333333333334,
          0.9166666666666666,
          0.9166666666666666,
          0.875,
          0.875,
          0.9166666666666666,
          0.9166666666666666,
          0.875,
          0.9166666666666666,
          0.8333333333333334,
          0.875,
          0.7916666666666666,
          0.9583333333333334,
          0.875,
          0.9583333333333334,
          0.9166666666666666,
          0.875,
          0.875,
          0.8333333333333334,
          0.8333333333333334,
          0.9166666666666666,
          0.8333333333333334,
          0.9166666666666666,
          0.9166666666666666,
          0.875,
          0.9166666666666666,
          0.875,
          0.9583333333333334,
          0.8333333333333334,
          0.875,
          0.875,
          0.875,
          0.7916666666666666,
          0.875,
          0.9166666666666666,
          0.9583333333333334,
          0.9583333333333334,
          0.9583333333333334,
          0.8333333333333334,
          0.9583333333333334,
          0.875,
          0.9166666666666666,
          0.9166666666666666,
          0.9166666666666666,
          0.875,
          0.875,
          0.9583333333333334,
          0.9583333333333334,
          0.9166666666666666,
          0.9166666666666666,
          0.9166666666666666,
          0.875,
          0.875,
          0.8333333333333334,
          0.9166666666666666,
          0.9583333333333334,
          0.9166666666666666,
          0.8333333333333334,
          0.8333333333333334,
          0.875,
          0.9166666666666666,
          0.9583333333333334,
          0.9166666666666666,
          0.875,
          0.9583333333333334,
          0.875,
          0.8333333333333334,
          0.8333333333333334,
          0.9583333333333334,
          0.875,
          0.9583333333333334,
          0.9583333333333334,
          0.875,
          0.9583333333333334,
          0.9583333333333334,
          0.9166666666666666,
          0.8333333333333334,
          0.875,
          0.875,
          0.9166666666666666,
          0.9583333333333334,
          0.7916666666666666,
          0.9166666666666666,
          0.875,
          0.7083333333333334,
          0.9166666666666666,
          0.9166666666666666,
          0.875,
          0.8333333333333334,
          0.875,
          0.9166666666666666,
          0.875,
          0.875,
          0.8333333333333334,
          0.8333333333333334,
          0.9166666666666666,
          0.9166666666666666,
          0.9166666666666666,
          0.9166666666666666,
          0.9166666666666666,
          0.7083333333333334,
          0.875,
          0.9166666666666666,
          0.75,
          0.875,
          1,
          0.875,
          0.875,
          0.875,
          0.875,
          0.9166666666666666,
          0.875,
          0.9166666666666666,
          0.8333333333333334,
          0.9583333333333334,
          0.9166666666666666,
          0.9583333333333334,
          0.9583333333333334,
          0.9166666666666666,
          0.9583333333333334,
          0.9166666666666666,
          0.9583333333333334,
          0.9166666666666666,
          0.9166666666666666,
          0.8333333333333334,
          0.9583333333333334,
          0.9583333333333334,
          0.9583333333333334,
          0.9166666666666666,
          0.875,
          0.875,
          0.875,
          0.8333333333333334,
          0.875,
          0.9166666666666666,
          0.8333333333333334,
          0.9166666666666666,
          0.875,
          0.6666666666666666,
          0.75,
          0.8333333333333334,
          0.8333333333333334,
          0.8333333333333334,
          0.5416666666666666,
          0.75,
          0.8333333333333334,
          0.625,
          0.9583333333333334,
          0.75,
          0.7916666666666666,
          0.8333333333333334,
          0.75,
          0.625,
          0.9166666666666666,
          0.7916666666666666,
          0.6666666666666666,
          0.9583333333333334,
          0.5833333333333334,
          0.875,
          0.5,
          0.8333333333333334,
          0.9583333333333334,
          0.5833333333333334,
          0.875,
          0.5416666666666666,
          0.4166666666666667,
          0.7916666666666666,
          0.7916666666666666,
          0.75,
          0.8333333333333334,
          0.625,
          0.875,
          0.875,
          0.6666666666666666,
          0.8333333333333334,
          0.875,
          0.9166666666666666,
          0.625,
          0.9166666666666666,
          0.8333333333333334,
          0.6666666666666666,
          0.9166666666666666,
          0.6666666666666666,
          0.5833333333333334,
          0.7916666666666666,
          0.75,
          0.9166666666666666,
          0.7916666666666666,
          0.7916666666666666,
          0.8333333333333334,
          0.75,
          0.5833333333333334,
          0.8333333333333334,
          0.625,
          0.9166666666666666,
          0.6666666666666666,
          0.5416666666666666,
          0.875,
          0.75,
          0.4583333333333333,
          0.875,
          0.7916666666666666,
          0.9166666666666666,
          0.5,
          0.875,
          0.8333333333333334,
          0.9583333333333334,
          0.3333333333333333,
          0.875,
          0.9166666666666666,
          0.8333333333333334,
          0.75,
          0.75,
          0.7083333333333334,
          0.75,
          0.7916666666666666,
          0.9166666666666666,
          0.875,
          0.5416666666666666,
          0.9583333333333334,
          0.7916666666666666,
          0.75,
          0.7083333333333334,
          0.6666666666666666,
          0.7916666666666666,
          0.7916666666666666,
          0.7916666666666666,
          0.7083333333333334,
          0.625,
          0.7916666666666666,
          0.75,
          0.8333333333333334,
          0.6666666666666666,
          0.625,
          0.75,
          0.875,
          0.8333333333333334,
          0.6666666666666666,
          0.8333333333333334,
          0.625,
          0.7083333333333334,
          0.875,
          0.6666666666666666,
          0.6666666666666666,
          0.75,
          0.9583333333333334,
          0.9166666666666666,
          0.6666666666666666,
          0.7083333333333334,
          0.75,
          0.75,
          0.9166666666666666,
          0.9583333333333334,
          0.8333333333333334,
          0.4583333333333333,
          0.8333333333333334,
          0.9583333333333334,
          0.9166666666666666,
          0.75,
          0.875,
          0.7916666666666666,
          0.875,
          0.8333333333333334,
          0.7916666666666666,
          0.625,
          0.8333333333333334,
          0.5416666666666666,
          0.8333333333333334,
          0.6666666666666666,
          0.7916666666666666,
          0.5833333333333334,
          0.75,
          0.5833333333333334,
          0.9166666666666666,
          0.9166666666666666,
          0.9583333333333334,
          0.9166666666666666,
          0.7916666666666666,
          0.9583333333333334,
          0.75,
          0.7916666666666666,
          0.8333333333333334,
          0.7083333333333334,
          0.3333333333333333,
          0.75,
          0.8333333333333334,
          0.875,
          0.6666666666666666,
          0.5833333333333334,
          0.5,
          0.875,
          0.75,
          0.9166666666666666,
          0.8333333333333334,
          0.7916666666666666,
          0.7083333333333334,
          0.5833333333333334,
          0.8333333333333334,
          0.75,
          0.7083333333333334,
          0.625,
          0.8333333333333334,
          0.9166666666666666,
          0.75,
          0.8333333333333334,
          0.9166666666666666,
          0.9166666666666666,
          0.875,
          0.7916666666666666,
          0.875,
          0.9166666666666666,
          0.5416666666666666,
          0.9166666666666666,
          0.625,
          0.875,
          0.9583333333333334,
          0.625,
          0.8333333333333334,
          1,
          0.8333333333333334,
          0.7083333333333334,
          0.7916666666666666,
          0.625,
          0.7916666666666666,
          0.6666666666666666,
          0.7916666666666666,
          0.8333333333333334,
          0.7916666666666666,
          0.6666666666666666,
          0.4166666666666667,
          0.7916666666666666,
          0.7916666666666666,
          0.7916666666666666,
          0.8333333333333334,
          0.9583333333333334,
          0.9166666666666666,
          0.5833333333333334,
          0.9583333333333334,
          0.875,
          0.5833333333333334,
          0.5416666666666666,
          0.5416666666666666,
          0.875,
          0.8333333333333334,
          0.625,
          0.6666666666666666,
          0.5,
          0.9583333333333334,
          0.7916666666666666,
          0.6666666666666666,
          0.7083333333333334,
          0.7083333333333334,
          0.7083333333333334,
          0.7916666666666666,
          0.8333333333333334,
          0.8333333333333334,
          0.9583333333333334,
          0.8333333333333334,
          0.625,
          0.6666666666666666,
          0.875,
          0.8333333333333334,
          0.8333333333333334,
          0.8333333333333334,
          0.6666666666666666,
          0.75,
          0.8333333333333334,
          0.8333333333333334,
          0.8333333333333334,
          0.9166666666666666,
          0.875,
          0.8333333333333334,
          0.625,
          0.8333333333333334,
          0.9583333333333334,
          0.8333333333333334,
          0.8333333333333334,
          0.875,
          0.7083333333333334,
          0.6666666666666666,
          0.9166666666666666,
          0.5833333333333334,
          0.7916666666666666,
          0.75,
          0.625,
          0.875,
          0.7916666666666666,
          0.7916666666666666,
          0.75,
          0.6666666666666666,
          0.75,
          0.875,
          0.7916666666666666,
          0.7916666666666666,
          0.6666666666666666,
          0.875,
          0.7916666666666666,
          0.7916666666666666,
          0.6666666666666666,
          0.7083333333333334,
          0.7916666666666666,
          0.9166666666666666,
          0.6666666666666666,
          0.875,
          0.7916666666666666,
          0.7916666666666666,
          0.6666666666666666,
          0.75,
          0.7916666666666666,
          0.75,
          0.7916666666666666,
          0.5833333333333334,
          0.7916666666666666,
          0.875,
          0.6666666666666666,
          0.5833333333333334,
          0.8333333333333334,
          0.875,
          0.7916666666666666,
          0.7083333333333334,
          0.7916666666666666,
          0.6666666666666666,
          0.75,
          0.9166666666666666,
          0.8333333333333334,
          0.875,
          0.7916666666666666,
          0.8333333333333334,
          0.6666666666666666,
          0.875,
          0.6666666666666666,
          0.9583333333333334,
          0.7916666666666666,
          0.875,
          0.9166666666666666,
          0.875,
          0.9583333333333334,
          0.75,
          0.7916666666666666,
          0.75,
          0.5,
          0.8333333333333334,
          0.7916666666666666,
          0.7916666666666666,
          0.6666666666666666,
          0.9166666666666666,
          0.7916666666666666,
          0.875,
          0.8333333333333334,
          0.8333333333333334,
          0.5,
          0.75,
          0.8333333333333334,
          0.625,
          0.7916666666666666,
          0.7083333333333334,
          0.7916666666666666,
          0.5833333333333334,
          0.9583333333333334,
          0.7083333333333334,
          0.7916666666666666,
          0.8333333333333334,
          0.625,
          0.875,
          0.875,
          0.5833333333333334,
          0.7916666666666666,
          0.625,
          0.75,
          0.75,
          0.75,
          0.625,
          0.9166666666666666,
          0.9166666666666666,
          0.8333333333333334,
          0.9166666666666666,
          0.7916666666666666,
          0.7916666666666666,
          0.9166666666666666,
          0.7916666666666666,
          0.6666666666666666,
          0.875,
          0.8333333333333334,
          0.9583333333333334,
          0.8333333333333334,
          0.75,
          0.875,
          0.7083333333333334,
          0.8333333333333334,
          0.8333333333333334,
          0.75,
          0.75,
          0.75,
          0.75,
          0.7916666666666666,
          0.6666666666666666,
          0.875,
          0.5833333333333334,
          0.625,
          0.8333333333333334,
          0.7083333333333334,
          0.875,
          0.875,
          0.7916666666666666,
          0.875,
          0.9583333333333334,
          0.875,
          0.7083333333333334,
          0.875,
          0.7083333333333334,
          0.625,
          0.8333333333333334,
          0.875,
          0.8333333333333334,
          0.7916666666666666,
          0.7916666666666666,
          0.8333333333333334,
          0.75,
          0.9583333333333334,
          0.7916666666666666,
          0.6666666666666666,
          0.7083333333333334,
          0.875,
          0.875,
          0.875,
          0.625,
          0.75,
          0.75,
          0.875,
          0.75,
          0.7083333333333334,
          0.8333333333333334,
          0.875,
          0.875,
          0.7916666666666666,
          0.8333333333333334,
          0.75,
          0.5833333333333334,
          0.75,
          0.7916666666666666,
          0.8333333333333334,
          0.75,
          1,
          0.8333333333333334,
          0.75,
          0.5833333333333334,
          0.7916666666666666,
          0.875,
          0.7083333333333334,
          0.9583333333333334,
          0.7083333333333334,
          0.6666666666666666,
          0.625,
          0.75,
          0.7916666666666666,
          0.8333333333333334,
          0.7083333333333334,
          0.875,
          0.5833333333333334,
          0.6666666666666666,
          0.875,
          0.7083333333333334,
          0.75,
          0.7916666666666666,
          0.7083333333333334,
          0.7916666666666666,
          0.875,
          0.8333333333333334,
          0.7916666666666666,
          0.7916666666666666,
          0.7916666666666666,
          0.4166666666666667,
          0.625,
          0.8333333333333334,
          0.8333333333333334,
          0.75,
          0.8333333333333334,
          0.7916666666666666,
          0.875,
          0.7083333333333334,
          0.8333333333333334,
          0.7083333333333334,
          0.7916666666666666,
          0.8333333333333334,
          0.875,
          0.7916666666666666,
          0.9166666666666666,
          0.7083333333333334,
          0.6666666666666666,
          0.9166666666666666,
          0.8333333333333334,
          0.875,
          0.75,
          0.75,
          0.75,
          0.875,
          0.7916666666666666,
          0.875,
          0.9166666666666666,
          0.75,
          0.875,
          0.9583333333333334,
          0.875,
          1,
          0.625,
          0.875,
          0.75,
          0.6666666666666666,
          0.5416666666666666,
          0.875,
          0.7916666666666666,
          0.5833333333333334,
          0.75,
          0.7916666666666666,
          0.7083333333333334,
          0.8333333333333334,
          0.6666666666666666,
          0.875,
          0.7916666666666666,
          0.75,
          0.7083333333333334,
          0.7916666666666666,
          0.7083333333333334,
          0.8333333333333334,
          0.875,
          0.8333333333333334,
          0.875,
          0.7083333333333334,
          0.7916666666666666,
          0.8333333333333334,
          0.75,
          0.8333333333333334,
          0.7916666666666666,
          0.7916666666666666,
          0.875,
          0.6666666666666666,
          0.7083333333333334,
          0.9166666666666666,
          0.7083333333333334,
          0.9166666666666666,
          0.9166666666666666,
          0.7083333333333334,
          0.7916666666666666,
          0.75,
          0.875,
          0.9166666666666666,
          0.6666666666666666,
          0.75,
          0.5,
          0.5416666666666666,
          0.8333333333333334,
          0.7916666666666666,
          0.8333333333333334,
          1,
          0.8333333333333334,
          0.9166666666666666,
          0.875,
          0.875,
          0.7916666666666666,
          0.8333333333333334,
          0.7083333333333334,
          0.5833333333333334,
          0.625,
          0.875,
          0.9583333333333334,
          0.7083333333333334,
          0.7083333333333334,
          0.7916666666666666,
          0.75,
          0.875,
          0.875,
          0.7083333333333334,
          0.75,
          0.875,
          0.5,
          0.7083333333333334,
          0.875,
          0.9166666666666666,
          0.75,
          0.8333333333333334,
          0.7083333333333334,
          0.7916666666666666,
          0.875,
          0.8333333333333334,
          0.875,
          0.9166666666666666,
          0.6666666666666666,
          0.8333333333333334,
          0.5833333333333334,
          0.75,
          0.6666666666666666,
          0.9166666666666666,
          0.7916666666666666,
          0.7083333333333334,
          0.5833333333333334,
          0.8333333333333334,
          0.7916666666666666,
          0.8333333333333334,
          0.875,
          0.5833333333333334,
          0.8333333333333334,
          0.75,
          0.8333333333333334,
          0.9166666666666666,
          0.7916666666666666,
          0.875,
          0.875,
          0.875,
          0.75,
          0.9583333333333334,
          0.875,
          0.7916666666666666,
          0.9583333333333334,
          0.75,
          0.9583333333333334,
          0.9583333333333334,
          0.9583333333333334,
          0.8333333333333334,
          0.7916666666666666,
          1,
          0.5833333333333334,
          0.6666666666666666,
          0.9583333333333334,
          0.8333333333333334,
          1,
          0.8333333333333334,
          0.9166666666666666,
          0.875,
          0.7916666666666666,
          0.8333333333333334,
          0.8333333333333334,
          0.7083333333333334,
          0.7916666666666666,
          0.8333333333333334,
          0.8333333333333334,
          0.8333333333333334,
          0.9583333333333334,
          0.875,
          0.875,
          0.7916666666666666,
          0.8333333333333334,
          0.8333333333333334,
          0.8333333333333334,
          0.8333333333333334,
          0.8333333333333334,
          0.9583333333333334,
          0.8333333333333334,
          0.875,
          0.875,
          0.5416666666666666,
          0.6666666666666666,
          0.75,
          0.9583333333333334,
          0.8333333333333334,
          0.4583333333333333,
          0.7916666666666666,
          0.7083333333333334,
          0.9166666666666666,
          0.75,
          0.875,
          0.8333333333333334,
          0.5416666666666666,
          0.4583333333333333,
          0.75,
          0.9166666666666666,
          0.8333333333333334,
          0.7083333333333334,
          0.9166666666666666,
          0.625,
          0.7083333333333334,
          0.8333333333333334,
          0.625,
          0.7083333333333334,
          0.875,
          0.875,
          0.6666666666666666,
          0.8333333333333334,
          0.6666666666666666,
          0.9166666666666666,
          0.7916666666666666,
          0.5833333333333334,
          0.5833333333333334,
          0.875,
          0.75,
          0.7083333333333334,
          0.9583333333333334,
          0.8333333333333334,
          0.7083333333333334,
          0.5833333333333334,
          0.5416666666666666,
          0.8333333333333334,
          0.75,
          0.7916666666666666,
          0.875,
          0.7083333333333334,
          0.5416666666666666,
          0.6666666666666666,
          0.9583333333333334,
          0.9166666666666666,
          0.7916666666666666,
          0.75,
          0.75,
          0.75,
          0.8333333333333334,
          0.5833333333333334,
          0.7916666666666666,
          0.7916666666666666,
          0.875,
          0.9583333333333334,
          0.75,
          0.6666666666666666,
          0.875,
          0.75,
          0.625,
          0.7916666666666666,
          0.875,
          0.6666666666666666,
          0.7083333333333334,
          0.75,
          0.7916666666666666,
          0.9166666666666666,
          0.8333333333333334,
          0.5833333333333334,
          0.7083333333333334,
          0.9166666666666666,
          0.8333333333333334,
          0.4583333333333333,
          0.875,
          0.7083333333333334,
          0.8333333333333334,
          0.6666666666666666,
          0.875,
          0.8333333333333334,
          0.75,
          0.875,
          0.3333333333333333,
          0.8333333333333334,
          0.9166666666666666,
          0.7916666666666666,
          0.75,
          0.9166666666666666,
          0.625,
          0.8333333333333334,
          0.9166666666666666,
          0.375,
          0.5833333333333334,
          0.75,
          0.9166666666666666,
          0.7916666666666666,
          0.7083333333333334,
          0.8333333333333334,
          0.7916666666666666,
          0.6666666666666666,
          0.875,
          0.7916666666666666,
          0.9166666666666666,
          0.5833333333333334,
          0.7916666666666666,
          0.7916666666666666,
          0.5833333333333334,
          0.875,
          0.7916666666666666,
          0.7916666666666666,
          0.75,
          0.9166666666666666,
          0.5416666666666666,
          0.9166666666666666,
          0.7916666666666666,
          0.75,
          0.875,
          0.875,
          0.7083333333333334,
          0.625,
          0.75,
          0.7916666666666666,
          0.8333333333333334,
          0.7916666666666666,
          0.7083333333333334,
          0.7916666666666666,
          0.8333333333333334,
          0.875,
          0.75,
          0.7083333333333334,
          0.5833333333333334,
          0.7916666666666666,
          0.5,
          0.7083333333333334,
          0.7083333333333334,
          0.625,
          0.7916666666666666,
          0.75,
          0.7083333333333334,
          0.7916666666666666,
          0.75,
          0.8333333333333334,
          0.5416666666666666,
          0.8333333333333334,
          0.5416666666666666,
          0.8333333333333334,
          0.75,
          0.7916666666666666,
          0.625,
          0.875,
          0.5416666666666666,
          0.75,
          0.9166666666666666,
          0.875,
          0.875,
          0.8333333333333334,
          0.8333333333333334,
          0.8333333333333334,
          0.7916666666666666,
          0.7916666666666666,
          0.875,
          0.75,
          0.5833333333333334,
          0.8333333333333334,
          0.5416666666666666,
          0.6666666666666666,
          0.625,
          0.5833333333333334,
          0.625,
          0.875,
          0.625,
          0.9166666666666666,
          0.4583333333333333,
          0.875,
          0.7916666666666666,
          0.8333333333333334,
          0.7916666666666666,
          0.7916666666666666,
          0.625,
          0.8333333333333334,
          0.5,
          0.625,
          0.9583333333333334,
          0.8333333333333334,
          0.7083333333333334,
          0.7916666666666666,
          0.7916666666666666,
          0.7916666666666666,
          0.8333333333333334,
          0.8333333333333334,
          0.625,
          0.7083333333333334,
          0.8333333333333334,
          0.7083333333333334,
          0.8333333333333334,
          0.7916666666666666,
          0.625,
          0.75,
          0.9166666666666666,
          0.7916666666666666,
          0.625,
          0.8333333333333334,
          0.9583333333333334,
          0.625,
          0.9583333333333334,
          0.7083333333333334,
          0.875,
          0.875,
          0.7916666666666666,
          0.875,
          0.9166666666666666,
          0.6666666666666666,
          0.7916666666666666,
          0.7916666666666666,
          0.5833333333333334,
          0.7916666666666666,
          0.7083333333333334,
          0.9166666666666666,
          0.7916666666666666,
          0.7916666666666666,
          0.875,
          0.7916666666666666,
          0.7916666666666666,
          0.8333333333333334,
          0.875,
          0.8333333333333334,
          0.9166666666666666,
          1,
          0.75,
          0.7083333333333334,
          0.8333333333333334,
          0.6666666666666666,
          0.5833333333333334,
          0.9166666666666666,
          0.4166666666666667,
          0.8333333333333334,
          0.9166666666666666,
          0.625,
          0.875,
          0.9583333333333334,
          0.7916666666666666,
          0.6666666666666666,
          0.7083333333333334,
          0.7083333333333334,
          0.7083333333333334,
          0.875,
          0.75,
          0.6666666666666666,
          0.9166666666666666,
          0.7083333333333334,
          0.8333333333333334,
          0.75,
          0.8333333333333334,
          0.8333333333333334,
          0.7916666666666666,
          0.7916666666666666,
          0.75,
          0.9166666666666666,
          0.75,
          0.2083333333333333,
          0.9166666666666666,
          0.7916666666666666,
          0.875,
          0.375,
          0.8333333333333334,
          0.875,
          0.8333333333333334,
          0.7916666666666666,
          0.75,
          0.9166666666666666,
          0.7916666666666666,
          0.75,
          0.7083333333333334,
          0.875,
          0.9166666666666666,
          0.625,
          0.9166666666666666,
          0.6666666666666666,
          0.7083333333333334,
          0.875,
          0.7916666666666666,
          0.9166666666666666,
          0.8333333333333334,
          0.7916666666666666,
          0.9166666666666666,
          0.6666666666666666,
          0.8333333333333334,
          0.8333333333333334,
          0.6666666666666666,
          0.875,
          0.8333333333333334,
          0.875,
          0.7916666666666666,
          0.375,
          0.5833333333333334,
          0.6666666666666666,
          0.875,
          0.7916666666666666,
          0.625,
          0.7916666666666666,
          0.7916666666666666,
          0.7083333333333334,
          0.75,
          0.7916666666666666,
          0.625,
          0.7083333333333334,
          0.7916666666666666,
          0.9583333333333334,
          0.875,
          0.7916666666666666,
          0.7916666666666666,
          0.5833333333333334,
          0.7083333333333334,
          0.9166666666666666,
          0.875,
          0.875,
          0.5416666666666666,
          0.5,
          0.75,
          0.625,
          0.6666666666666666,
          0.6666666666666666,
          0.7916666666666666,
          0.7083333333333334,
          0.6666666666666666,
          0.75,
          0.7083333333333334,
          0.7083333333333334,
          0.7916666666666666,
          0.75,
          0.75,
          0.7916666666666666,
          0.75,
          0.8333333333333334,
          0.8333333333333334,
          0.875,
          0.7916666666666666,
          0.9166666666666666,
          0.875,
          0.75,
          0.875,
          0.7916666666666666,
          0.6666666666666666,
          0.4166666666666667,
          0.75,
          0.75,
          0.7916666666666666,
          0.75,
          0.875,
          0.75,
          0.7916666666666666,
          0.75,
          0.7916666666666666,
          0.75,
          0.75,
          0.8333333333333334,
          0.625,
          0.7083333333333334,
          0.7916666666666666,
          0.875,
          0.7916666666666666,
          0.4583333333333333,
          0.7083333333333334,
          0.6666666666666666,
          0.7916666666666666,
          0.7083333333333334,
          0.75,
          0.7916666666666666,
          0.7083333333333334,
          0.8333333333333334,
          0.8333333333333334,
          0.75,
          0.6666666666666666,
          0.7916666666666666,
          0.7083333333333334,
          0.7916666666666666,
          0.7916666666666666,
          0.7083333333333334,
          0.7916666666666666,
          0.7083333333333334,
          0.625,
          0.8333333333333334,
          0.9583333333333334,
          0.5416666666666666,
          0.7916666666666666,
          0.8333333333333334,
          0.875,
          0.625,
          0.8333333333333334,
          0.7916666666666666,
          0.75,
          0.875,
          0.875,
          0.8333333333333334,
          0.8333333333333334,
          0.5833333333333334,
          0.5416666666666666,
          0.9166666666666666,
          0.875,
          0.7916666666666666,
          0.75,
          0.7083333333333334,
          0.625,
          0.875,
          0.7916666666666666,
          0.9583333333333334,
          0.75,
          0.875,
          0.7083333333333334,
          0.875,
          0.8333333333333334,
          0.7916666666666666,
          0.8333333333333334,
          0.75,
          0.8333333333333334,
          0.75,
          0.7916666666666666,
          0.875,
          0.5833333333333334,
          0.7916666666666666,
          0.875,
          0.9166666666666666,
          0.8333333333333334,
          0.75,
          0.75,
          0.7916666666666666,
          0.4166666666666667,
          0.7916666666666666,
          0.3333333333333333,
          0.4583333333333333,
          0.75,
          0.75,
          0.75,
          0.6666666666666666,
          0.75,
          0.9166666666666666,
          0.625,
          0.8333333333333334,
          0.5,
          0.75,
          0.6666666666666666,
          0.75,
          0.4166666666666667,
          0.8333333333333334,
          0.7916666666666666,
          0.8333333333333334,
          0.6666666666666666,
          0.875,
          0.9166666666666666,
          0.7916666666666666,
          0.75,
          0.7916666666666666,
          0.75,
          0.8333333333333334,
          0.75,
          0.625,
          0.7083333333333334,
          0.625,
          0.7916666666666666,
          0.7083333333333334,
          0.8333333333333334,
          0.7916666666666666,
          0.6666666666666666,
          0.7083333333333334,
          0.75,
          0.9583333333333334,
          0.7916666666666666,
          0.7083333333333334,
          0.7916666666666666,
          0.625,
          0.9166666666666666,
          0.5,
          0.75,
          0.9166666666666666,
          0.625,
          0.6666666666666666,
          0.9166666666666666,
          0.5416666666666666,
          0.6666666666666666,
          0.625,
          0.7916666666666666,
          0.875,
          0.875,
          0.9166666666666666,
          0.8333333333333334,
          0.875,
          0.875,
          0.7083333333333334,
          0.9583333333333334,
          0.7083333333333334,
          0.75,
          0.8333333333333334,
          0.875,
          0.9583333333333334,
          0.5416666666666666,
          0.875,
          0.8333333333333334,
          0.8333333333333334,
          0.875,
          0.875,
          0.5,
          0.7916666666666666,
          0.9166666666666666,
          0.7916666666666666,
          0.7083333333333334,
          0.7916666666666666,
          0.5833333333333334,
          0.75,
          0.875,
          0.75,
          0.7083333333333334,
          0.6666666666666666,
          0.75,
          0.6666666666666666,
          0.7916666666666666,
          0.9583333333333334,
          0.875,
          0.7083333333333334,
          0.875,
          0.8333333333333334,
          0.7083333333333334,
          0.8333333333333334,
          0.6666666666666666,
          0.8333333333333334,
          1,
          0.7916666666666666,
          0.8333333333333334,
          0.7916666666666666,
          0.7916666666666666,
          0.75,
          0.875,
          0.8333333333333334,
          0.7916666666666666,
          0.875,
          0.6666666666666666,
          0.9166666666666666,
          0.9166666666666666,
          0.9583333333333334,
          0.8333333333333334,
          0.9166666666666666,
          0.875,
          0.8333333333333334,
          0.9166666666666666,
          0.6666666666666666,
          0.75,
          0.7083333333333334,
          0.7916666666666666,
          0.5833333333333334,
          0.9166666666666666,
          0.7916666666666666,
          0.7916666666666666,
          0.9166666666666666,
          0.9166666666666666,
          0.7083333333333334,
          0.7916666666666666,
          0.75,
          0.8333333333333334,
          0.9166666666666666,
          0.5833333333333334,
          0.8333333333333334,
          0.875,
          0.75,
          0.875,
          0.8333333333333334,
          0.9166666666666666,
          0.9166666666666666,
          0.7083333333333334,
          0.7916666666666666,
          0.9166666666666666,
          0.75,
          0.75,
          0.9166666666666666,
          0.7083333333333334,
          0.8333333333333334,
          0.7916666666666666,
          0.7916666666666666,
          0.7916666666666666,
          0.9583333333333334,
          0.75,
          0.9583333333333334,
          0.125,
          0.7916666666666666,
          0.9166666666666666,
          0.875,
          0.9583333333333334,
          0.5,
          0.75,
          0.875,
          1,
          0.8333333333333334,
          0.8333333333333334,
          0.9166666666666666,
          0.9166666666666666,
          1,
          0.7083333333333334,
          0.8333333333333334,
          0.9166666666666666,
          0.9583333333333334,
          0.7916666666666666,
          0.8333333333333334,
          0.9583333333333334,
          0.75,
          0.9583333333333334,
          0.9166666666666666,
          0.9166666666666666,
          0.875,
          0.875,
          0.875,
          0.7916666666666666,
          0.9166666666666666,
          0.8333333333333334,
          0.9583333333333334,
          0.9166666666666666,
          0.9166666666666666,
          0.9583333333333334,
          1,
          0.875,
          0.9166666666666666,
          0.6666666666666666,
          0.9583333333333334,
          0.875,
          0.8333333333333334,
          0.75,
          0.75,
          0.7916666666666666,
          0.5416666666666666,
          0.7083333333333334,
          0.7916666666666666,
          0.75,
          0.75,
          0.625,
          0.6666666666666666,
          0.6666666666666666,
          0.625,
          0.8333333333333334,
          0.625,
          0.8333333333333334,
          0.7916666666666666,
          0.7916666666666666,
          0.7916666666666666,
          0.875,
          0.8333333333333334,
          0.875,
          0.5833333333333334,
          0.875,
          0.625,
          0.625,
          0.75,
          0.7916666666666666,
          0.5416666666666666,
          0.75,
          0.7916666666666666,
          0.625,
          0.9166666666666666,
          0.8333333333333334,
          0.75,
          0.8333333333333334,
          0.625,
          0.75,
          0.8333333333333334,
          0.7083333333333334,
          0.5,
          0.75,
          0.7083333333333334,
          0.875,
          0.7916666666666666,
          0.875,
          0.9166666666666666,
          0.8333333333333334,
          0.6666666666666666,
          0.6666666666666666,
          0.8333333333333334,
          0.75,
          0.7916666666666666,
          0.7083333333333334,
          0.8333333333333334,
          0.75,
          0.7083333333333334,
          0.7916666666666666,
          0.75,
          0.75,
          0.625,
          0.7083333333333334,
          0.7916666666666666,
          0.5416666666666666,
          0.9166666666666666,
          0.8333333333333334,
          0.8333333333333334,
          0.7916666666666666,
          0.8333333333333334,
          0.6666666666666666,
          0.6666666666666666,
          0.875,
          0.7916666666666666,
          0.625,
          0.625,
          0.8333333333333334,
          0.8333333333333334,
          0.8333333333333334,
          0.75,
          0.4583333333333333,
          0.3333333333333333,
          0.8333333333333334,
          0.875,
          0.7083333333333334,
          0.6666666666666666,
          0.8333333333333334,
          0.875,
          0.7083333333333334,
          0.7083333333333334,
          0.875,
          0.4583333333333333,
          0.4166666666666667,
          0.5,
          0.9583333333333334,
          0.8333333333333334,
          0.75,
          0.375,
          0.5416666666666666,
          0.8333333333333334,
          0.4583333333333333,
          0.6666666666666666,
          0.7083333333333334,
          0.5416666666666666,
          0.8333333333333334,
          0.7916666666666666,
          0.5833333333333334,
          0.7916666666666666,
          0.5833333333333334,
          0.9583333333333334,
          0.75,
          0.875,
          0.6666666666666666,
          0.9166666666666666,
          0.875,
          0.7916666666666666,
          0.875,
          0.75,
          0.8333333333333334,
          0.7916666666666666,
          0.875,
          0.75,
          0.4166666666666667,
          0.875,
          0.6666666666666666,
          0.7083333333333334,
          0.7916666666666666,
          0.8333333333333334,
          0.5416666666666666,
          0.9166666666666666,
          0.6666666666666666,
          0.875,
          0.75,
          0.7916666666666666,
          0.7083333333333334,
          0.8333333333333334,
          0.75,
          0.5,
          0.8333333333333334,
          0.9583333333333334,
          0.8333333333333334,
          0.9166666666666666,
          0.8333333333333334,
          0.625,
          0.9166666666666666,
          0.4583333333333333,
          0.8333333333333334,
          0.7083333333333334,
          0.7916666666666666,
          0.875,
          0.4166666666666667,
          0.625,
          0.7083333333333334,
          0.75,
          0.75,
          0.5833333333333334,
          0.6666666666666666,
          0.7916666666666666,
          0.625,
          0.7083333333333334,
          0.6666666666666666,
          0.7916666666666666,
          0.375,
          0.7916666666666666,
          0.875,
          0.7083333333333334,
          0.7083333333333334,
          0.625,
          0.8333333333333334,
          0.8333333333333334,
          0.875,
          0.875,
          0.75,
          0.5833333333333334,
          0.875,
          0.875,
          0.875,
          0.7916666666666666,
          0.5833333333333334,
          0.875,
          0.8333333333333334,
          0.875,
          0.8333333333333334,
          0.8333333333333334,
          0.6666666666666666,
          0.625,
          0.75,
          0.8333333333333334,
          0.8333333333333334,
          0.75,
          0.625,
          0.7083333333333334,
          0.75,
          0.625,
          0.7083333333333334,
          0.7083333333333334,
          0.6666666666666666,
          0.7083333333333334,
          0.8333333333333334,
          0.7083333333333334,
          0.75,
          0.7916666666666666,
          0.75,
          0.8333333333333334,
          0.4166666666666667,
          0.75,
          0.6666666666666666,
          0.875,
          0.8333333333333334,
          0.6666666666666666,
          0.5,
          0.75,
          0.7083333333333334,
          0.75,
          0.7083333333333334,
          0.6666666666666666,
          0.75,
          0.5416666666666666,
          0.875,
          0.7083333333333334,
          0.875,
          0.6666666666666666,
          0.5833333333333334,
          0.7083333333333334,
          0.4583333333333333,
          0.625,
          0.5833333333333334,
          0.625,
          0.75,
          0.875,
          0.5416666666666666,
          0.75,
          0.9166666666666666,
          0.75,
          0.8333333333333334,
          0.6666666666666666,
          0.5416666666666666,
          0.875,
          0.7083333333333334,
          0.75,
          0.5416666666666666,
          0.75,
          0.8333333333333334,
          0.5,
          0.75,
          0.5,
          0.7916666666666666,
          0.7916666666666666,
          0.7916666666666666,
          0.7083333333333334,
          0.7083333333333334,
          0.625,
          0.8333333333333334,
          0.6666666666666666,
          0.75,
          0.875,
          0.75,
          0.875,
          0.625,
          0.6666666666666666,
          0.7083333333333334,
          0.6666666666666666,
          0.7083333333333334,
          0.75,
          0.6666666666666666,
          0.8333333333333334,
          0.7916666666666666,
          0.5416666666666666,
          0.7916666666666666,
          0.8333333333333334,
          0.75,
          0.8333333333333334,
          0.9166666666666666,
          0.5833333333333334,
          0.8333333333333334,
          0.75,
          0.6666666666666666,
          0.75,
          0.875,
          0.6666666666666666,
          0.75,
          0.7916666666666666,
          0.8333333333333334,
          0.6666666666666666,
          0.625,
          0.875,
          0.6666666666666666,
          0.7083333333333334,
          0.75,
          0.875,
          0.7916666666666666,
          0.875,
          0.75,
          0.7083333333333334,
          0.6666666666666666,
          0.8333333333333334,
          0.8333333333333334,
          0.7916666666666666,
          0.9166666666666666,
          0.7916666666666666,
          0.7916666666666666,
          0.7916666666666666,
          0.75,
          0.7916666666666666,
          0.8333333333333334,
          0.75,
          0.75,
          0.75,
          0.7916666666666666,
          0.875,
          0.8333333333333334,
          0.9166666666666666,
          0.75,
          0.8333333333333334,
          0.7916666666666666,
          0.6666666666666666,
          0.7916666666666666,
          0.875,
          0.7083333333333334,
          0.9166666666666666,
          0.75,
          0.7083333333333334,
          0.9583333333333334,
          0.7916666666666666,
          0.8333333333333334,
          0.7083333333333334,
          0.7916666666666666,
          0.75,
          0.75,
          0.75,
          0.9583333333333334,
          0.8333333333333334,
          0.8333333333333334,
          0.8333333333333334,
          0.8333333333333334,
          0.8333333333333334,
          0.4166666666666667,
          0.75,
          0.7083333333333334,
          0.7083333333333334,
          0.8333333333333334,
          0.7083333333333334,
          0.5416666666666666,
          0.7916666666666666,
          0.4583333333333333,
          0.8333333333333334,
          0.875,
          0.8333333333333334,
          0.875,
          0.8333333333333334,
          0.75,
          0.75,
          0.7083333333333334,
          0.7916666666666666,
          0.8333333333333334,
          0.6666666666666666,
          0.875,
          0.7083333333333334,
          0.8333333333333334,
          0.8333333333333334,
          0.75,
          0.7916666666666666,
          0.7916666666666666,
          0.625,
          0.7916666666666666,
          0.625,
          0.9166666666666666,
          0.875,
          0.9583333333333334,
          0.8333333333333334,
          0.875,
          0.9166666666666666,
          0.875,
          0.8333333333333334,
          0.7916666666666666,
          0.8333333333333334,
          0.6666666666666666,
          0.625,
          0.7083333333333334,
          0.7083333333333334,
          0.75,
          0.7916666666666666,
          0.7083333333333334,
          0.8333333333333334,
          0.4583333333333333,
          0.875,
          0.75,
          0.7083333333333334,
          0.75,
          0.75,
          0.7916666666666666,
          0.625,
          0.8333333333333334,
          0.8333333333333334,
          0.75,
          0.875,
          0.75,
          0.8333333333333334,
          0.6666666666666666,
          0.75,
          0.7083333333333334,
          0.7916666666666666,
          0.75,
          0.9166666666666666,
          0.9166666666666666,
          0.875,
          0.9166666666666666,
          0.9166666666666666,
          0.8333333333333334,
          0.75,
          0.9166666666666666,
          0.8333333333333334,
          0.9583333333333334,
          0.5416666666666666,
          0.625,
          0.9166666666666666,
          0.7083333333333334,
          0.8333333333333334,
          0.75,
          0.5,
          0.9166666666666666,
          0.8333333333333334,
          0.5,
          0.5416666666666666,
          0.7083333333333334,
          0.6666666666666666,
          0.625,
          0.6666666666666666,
          0.6666666666666666,
          0.7916666666666666,
          0.75,
          0.5,
          0.7916666666666666,
          0.75,
          0.875,
          0.7916666666666666,
          0.8333333333333334,
          0.5833333333333334,
          0.7916666666666666,
          0.8333333333333334,
          0.7916666666666666,
          0.8333333333333334,
          0.9166666666666666,
          0.7916666666666666,
          0.8333333333333334,
          1,
          0.5833333333333334,
          0.4583333333333333,
          0.9166666666666666,
          0.875,
          0.875,
          0.5833333333333334,
          0.6666666666666666,
          0.7916666666666666,
          0.7916666666666666,
          0.9166666666666666,
          0.75,
          0.7916666666666666,
          0.2916666666666667,
          0.75,
          0.8333333333333334,
          0.7916666666666666,
          0.875,
          0.9166666666666666,
          0.7916666666666666,
          0.875,
          0.875,
          0.4166666666666667,
          0.6666666666666666,
          0.5833333333333334,
          0.875,
          0.8333333333333334,
          0.5833333333333334,
          0.9166666666666666,
          0.7083333333333334,
          0.7083333333333334,
          0.75,
          0.6666666666666666,
          0.625,
          0.6666666666666666,
          0.75,
          0.5833333333333334,
          0.7916666666666666,
          0.7916666666666666,
          0.8333333333333334,
          0.875,
          0.7916666666666666,
          0.5416666666666666,
          0.8333333333333334,
          0.8333333333333334,
          0.875,
          0.75,
          0.6666666666666666,
          0.9166666666666666,
          0.5833333333333334,
          0.7916666666666666,
          0.5,
          0.625,
          0.75,
          0.5416666666666666,
          0.7916666666666666,
          0.7916666666666666,
          0.75,
          0.6666666666666666,
          0.875,
          0.8333333333333334,
          0.8333333333333334,
          0.7916666666666666,
          0.75,
          0.6666666666666666,
          0.8333333333333334,
          0.75,
          0.75,
          0.625,
          0.625,
          0.8333333333333334,
          0.6666666666666666,
          0.875,
          0.5416666666666666,
          0.875,
          0.9166666666666666,
          0.7083333333333334,
          0.7083333333333334,
          0.5833333333333334,
          0.7083333333333334,
          0.9583333333333334,
          0.8333333333333334,
          0.9166666666666666,
          0.4166666666666667,
          0.75,
          0.8333333333333334,
          0.6666666666666666,
          0.875,
          0.8333333333333334,
          0.75,
          0.7083333333333334,
          0.9166666666666666,
          0.75,
          0.7916666666666666,
          0.5416666666666666,
          0.5833333333333334,
          0.5833333333333334,
          0.75,
          0.875,
          0.7916666666666666,
          0.625,
          0.7916666666666666,
          0.7083333333333334,
          0.875,
          0.5,
          0.875,
          0.7916666666666666,
          0.7916666666666666,
          0.7916666666666666,
          0.75,
          0.75,
          0.6666666666666666,
          0.8333333333333334,
          0.75,
          0.9166666666666666,
          0.875,
          0.8333333333333334,
          0.8333333333333334,
          0.875,
          0.7916666666666666,
          0.875,
          0.7916666666666666,
          0.4166666666666667,
          0.5833333333333334,
          0.75,
          0.9166666666666666,
          0.7916666666666666,
          0.6666666666666666,
          0.625,
          0.6666666666666666,
          0.75,
          0.875,
          0.9166666666666666,
          0.875,
          0.9166666666666666,
          0.875,
          0.9166666666666666,
          0.6666666666666666,
          0.9166666666666666,
          0.7083333333333334,
          0.7083333333333334,
          0.8333333333333334,
          0.625,
          0.625,
          0.9166666666666666,
          0.875,
          0.7083333333333334,
          0.7083333333333334,
          0.7916666666666666,
          0.75,
          0.8333333333333334,
          0.6666666666666666,
          0.875,
          0.8333333333333334,
          0.8333333333333334,
          0.7083333333333334,
          0.625,
          0.8333333333333334,
          0.75,
          0.7083333333333334,
          0.6666666666666666,
          0.625,
          0.75,
          0.9166666666666666,
          0.7916666666666666,
          0.625,
          0.75,
          0.8333333333333334,
          0.3333333333333333,
          0.7916666666666666,
          0.8333333333333334,
          0.7083333333333334,
          0.625,
          0.7916666666666666,
          0.8333333333333334,
          0.7916666666666666,
          0.75,
          0.6666666666666666,
          0.75,
          0.7916666666666666,
          0.625,
          0.7916666666666666,
          0.7916666666666666,
          0.75,
          0.875,
          0.8333333333333334,
          0.7916666666666666,
          0.6666666666666666,
          0.9166666666666666,
          0.75,
          0.75,
          0.7916666666666666,
          0.8333333333333334,
          0.7916666666666666,
          0.875,
          0.7083333333333334,
          0.5,
          0.7916666666666666,
          0.7083333333333334,
          0.75,
          0.5,
          0.875,
          0.6666666666666666,
          0.75,
          1,
          0.8333333333333334,
          0.625,
          0.75,
          0.6666666666666666,
          0.6666666666666666,
          0.7083333333333334,
          0.75,
          0.7083333333333334,
          0.6666666666666666,
          0.8333333333333334,
          0.875,
          0.875,
          0.75,
          0.7916666666666666,
          0.7916666666666666,
          0.875,
          0.75,
          0.5833333333333334,
          0.75,
          0.875,
          0.875,
          0.5833333333333334,
          0.9166666666666666,
          0.75,
          0.9166666666666666,
          0.9166666666666666,
          0.7083333333333334,
          0.8333333333333334,
          0.75,
          0.9166666666666666,
          0.8333333333333334,
          0.4583333333333333,
          0.7916666666666666,
          0.9166666666666666,
          0.625,
          0.875,
          0.5833333333333334,
          0.875,
          0.9166666666666666,
          0.9166666666666666,
          0.875,
          0.7083333333333334,
          0.7916666666666666,
          0.7916666666666666,
          0.7916666666666666,
          0.8333333333333334,
          0.7916666666666666,
          0.8333333333333334,
          0.7083333333333334,
          0.7916666666666666,
          0.875,
          0.7083333333333334,
          0.9166666666666666,
          0.5,
          0.8333333333333334,
          0.6666666666666666,
          0.875,
          0.7916666666666666,
          0.75,
          0.75,
          0.8333333333333334,
          0.875,
          0.7916666666666666,
          0.7916666666666666,
          0.75,
          0.5833333333333334,
          0.7916666666666666,
          0.7916666666666666,
          0.4583333333333333,
          0.9166666666666666,
          0.75,
          0.75,
          0.9166666666666666,
          0.7083333333333334,
          0.7916666666666666,
          0.7083333333333334,
          0.7916666666666666,
          0.75,
          0.75,
          0.6666666666666666,
          0.875,
          0.6666666666666666,
          0.9166666666666666,
          0.8333333333333334,
          0.5833333333333334,
          0.7083333333333334,
          0.5833333333333334,
          0.9166666666666666,
          0.8333333333333334,
          0.875,
          0.875,
          0.8333333333333334,
          0.8333333333333334,
          0.875,
          0.75,
          0.9166666666666666,
          0.6666666666666666,
          0.875,
          0.8333333333333334,
          0.8333333333333334,
          0.875,
          0.5416666666666666,
          0.8333333333333334,
          0.7083333333333334,
          0.7916666666666666,
          0.7916666666666666,
          0.4166666666666667,
          0.625,
          0.8333333333333334,
          0.9166666666666666,
          0.8333333333333334,
          0.9583333333333334,
          0.625,
          0.875,
          0.9166666666666666,
          0.7916666666666666,
          0.875,
          0.7916666666666666,
          0.8333333333333334,
          0.9166666666666666,
          0.6666666666666666,
          0.8333333333333334,
          0.7916666666666666,
          0.875,
          0.625,
          0.875,
          0.7083333333333334,
          0.875,
          0.9166666666666666,
          0.6666666666666666,
          0.9166666666666666,
          0.875,
          0.8333333333333334,
          0.625,
          0.75,
          0.7916666666666666,
          0.75,
          0.6666666666666666,
          0.75,
          0.9166666666666666,
          0.8333333333333334,
          0.75,
          0.7916666666666666,
          0.75,
          0.625,
          0.75,
          0.7083333333333334,
          0.875,
          0.8333333333333334,
          0.8333333333333334,
          0.7916666666666666,
          0.75,
          0.8333333333333334,
          0.75,
          0.8333333333333334,
          0.6666666666666666,
          0.875,
          0.8333333333333334,
          0.9166666666666666,
          0.7916666666666666,
          0.6666666666666666,
          0.625,
          0.875,
          0.7916666666666666,
          0.875,
          0.875,
          0.9166666666666666,
          0.8333333333333334,
          0.875,
          0.6666666666666666,
          0.75,
          0.7916666666666666,
          0.9583333333333334,
          0.7083333333333334,
          0.9166666666666666,
          0.8333333333333334,
          0.5,
          0.875,
          0.8333333333333334,
          0.75,
          0.9583333333333334,
          0.4583333333333333,
          0.875,
          0.6666666666666666,
          0.75,
          0.875,
          0.875,
          0.7916666666666666,
          0.7916666666666666,
          0.5833333333333334,
          0.8333333333333334,
          0.8333333333333334,
          0.7916666666666666,
          0.7916666666666666,
          0.8333333333333334,
          0.7916666666666666,
          0.875,
          0.9166666666666666,
          0.875,
          0.8333333333333334,
          0.75,
          0.75,
          1,
          0.75,
          0.75,
          0.7083333333333334,
          0.7916666666666666,
          0.8333333333333334,
          0.7916666666666666,
          0.875,
          0.7916666666666666,
          0.8333333333333334,
          0.7916666666666666,
          0.875,
          0.9166666666666666,
          0.7916666666666666,
          0.5833333333333334,
          0.875,
          0.9166666666666666,
          0.875,
          0.75,
          0.75,
          0.8333333333333334,
          0.6666666666666666,
          0.7083333333333334,
          0.7916666666666666,
          0.8333333333333334,
          0.75,
          0.75,
          0.8333333333333334,
          0.875,
          0.75,
          0.75,
          0.875,
          0.9583333333333334,
          0.9583333333333334,
          0.8333333333333334,
          0.875,
          0.8333333333333334,
          0.9166666666666666,
          0.7083333333333334,
          0.875,
          0.8333333333333334,
          0.9166666666666666,
          0.8333333333333334,
          0.8333333333333334,
          0.8333333333333334,
          0.75,
          0.8333333333333334,
          0.9583333333333334,
          0.7916666666666666,
          0.7083333333333334,
          0.9583333333333334,
          0.7916666666666666,
          0.8333333333333334,
          0.7916666666666666,
          0.7916666666666666,
          0.7083333333333334,
          0.7916666666666666,
          0.7083333333333334,
          0.9166666666666666,
          0.7916666666666666,
          0.8333333333333334,
          0.7916666666666666,
          0.75,
          0.875,
          0.8333333333333334,
          0.8333333333333334,
          0.7083333333333334,
          0.6666666666666666,
          0.9583333333333334,
          0.7916666666666666,
          0.875,
          0.9166666666666666,
          0.7916666666666666,
          0.75,
          0.9166666666666666,
          0.875,
          0.7916666666666666,
          0.6666666666666666,
          0.9166666666666666,
          0.8333333333333334,
          0.9166666666666666,
          0.75,
          0.5416666666666666,
          0.9166666666666666,
          0.625,
          0.7916666666666666,
          0.9166666666666666,
          0.7916666666666666,
          0.875,
          0.8333333333333334,
          0.7916666666666666,
          0.7916666666666666,
          0.75,
          0.875,
          0.8333333333333334,
          0.9166666666666666,
          0.8333333333333334,
          0.7916666666666666,
          0.9583333333333334,
          0.875,
          0.875,
          0.9166666666666666,
          0.75,
          0.9166666666666666,
          0.875,
          0.75,
          0.9583333333333334,
          0.7083333333333334,
          0.875,
          0.875,
          0.6666666666666666,
          0.7916666666666666,
          0.7916666666666666,
          0.9166666666666666,
          0.75,
          0.875,
          0.875,
          0.75,
          0.75,
          0.8333333333333334,
          0.9166666666666666,
          0.8333333333333334,
          1,
          0.8333333333333334,
          1,
          0.7916666666666666,
          0.75,
          0.875,
          0.8333333333333334,
          0.875,
          0.9166666666666666,
          0.875,
          0.9583333333333334,
          0.875,
          0.625,
          0.875,
          0.9166666666666666,
          0.9583333333333334,
          0.8333333333333334,
          0.7916666666666666,
          0.9583333333333334,
          0.75,
          0.9166666666666666,
          0.5833333333333334,
          0.7916666666666666,
          0.75,
          0.75,
          0.875,
          0.6666666666666666,
          0.8333333333333334,
          0.7916666666666666,
          0.7916666666666666,
          0.625,
          0.875,
          0.875,
          0.9166666666666666,
          0.875,
          0.625,
          0.5833333333333334,
          0.875,
          0.875,
          0.9166666666666666,
          0.875,
          0.8333333333333334,
          0.9166666666666666,
          0.8333333333333334,
          0.875,
          0.75,
          0.875,
          0.9166666666666666,
          0.7916666666666666,
          0.875,
          0.75,
          0.625,
          0.8333333333333334,
          0.9166666666666666,
          0.9166666666666666,
          0.7916666666666666,
          0.75,
          0.8333333333333334,
          0.7916666666666666,
          0.7916666666666666,
          0.875,
          0.9583333333333334,
          0.7916666666666666,
          0.875,
          0.7916666666666666,
          0.9166666666666666,
          0.7916666666666666,
          0.5833333333333334,
          0.875,
          0.9166666666666666,
          0.7083333333333334,
          0.9166666666666666,
          0.7916666666666666,
          0.875,
          0.6666666666666666,
          0.6666666666666666,
          0.7083333333333334,
          0.75,
          0.7083333333333334,
          0.8333333333333334,
          0.875,
          0.875,
          0.9166666666666666,
          0.8333333333333334,
          0.5416666666666666,
          0.7916666666666666,
          0.8333333333333334,
          0.6666666666666666,
          0.875,
          0.9583333333333334,
          0.8333333333333334,
          0.9166666666666666,
          0.8333333333333334,
          0.7083333333333334,
          0.9166666666666666,
          0.75,
          0.7916666666666666,
          0.8333333333333334,
          0.8333333333333334,
          0.8333333333333334,
          0.8333333333333334,
          0.875,
          0.9166666666666666,
          0.875,
          1,
          0.8333333333333334,
          0.7083333333333334,
          0.7916666666666666,
          0.875,
          0.875,
          1,
          0.875,
          0.875,
          0.9166666666666666,
          0.8333333333333334,
          0.8333333333333334,
          0.8333333333333334,
          0.875,
          0.8333333333333334,
          0.9166666666666666,
          0.8333333333333334,
          0.875,
          0.9166666666666666,
          0.8333333333333334,
          0.7916666666666666,
          0.7916666666666666,
          0.7083333333333334,
          0.75,
          0.7916666666666666,
          0.9166666666666666,
          0.7083333333333334,
          0.75,
          0.7083333333333334,
          0.75,
          0.875,
          0.875,
          0.9583333333333334,
          0.875,
          0.7916666666666666,
          0.875,
          0.875,
          0.9166666666666666,
          0.875,
          0.875,
          0.875,
          0.8333333333333334,
          0.7916666666666666,
          0.75,
          0.9166666666666666,
          0.6666666666666666,
          0.875,
          0.9166666666666666,
          0.7916666666666666,
          0.8333333333333334,
          0.75,
          0.8333333333333334,
          0.7083333333333334,
          0.9166666666666666,
          0.8333333333333334,
          0.75,
          0.8333333333333334,
          0.7916666666666666,
          0.9166666666666666,
          0.875,
          0.9166666666666666,
          0.5833333333333334,
          0.9583333333333334,
          0.8333333333333334,
          0.75,
          1,
          0.8333333333333334,
          0.8333333333333334,
          0.7083333333333334,
          0.7083333333333334,
          0.9166666666666666,
          0.8333333333333334,
          0.875,
          0.7916666666666666,
          0.875,
          0.875,
          0.6666666666666666,
          0.8333333333333334,
          0.875,
          0.625,
          0.9583333333333334,
          0.9583333333333334,
          0.9583333333333334,
          0.9166666666666666,
          0.8333333333333334,
          0.75,
          0.9166666666666666,
          0.8333333333333334,
          0.875,
          0.9166666666666666,
          0.8333333333333334,
          0.75,
          0.7083333333333334,
          0.875,
          0.9166666666666666,
          0.8333333333333334,
          0.8333333333333334,
          0.875,
          0.7916666666666666,
          0.9166666666666666,
          0.875,
          0.7916666666666666,
          0.75,
          0.8333333333333334,
          0.8333333333333334,
          0.7916666666666666,
          0.875,
          0.875,
          0.875,
          0.875,
          0.9166666666666666,
          0.8333333333333334,
          0.9583333333333334,
          0.7916666666666666,
          0.8333333333333334,
          0.9166666666666666,
          0.8333333333333334,
          0.875,
          0.8333333333333334,
          0.9583333333333334,
          0.8333333333333334,
          0.8333333333333334,
          0.75,
          0.9583333333333334,
          0.9166666666666666,
          0.7916666666666666,
          0.9583333333333334,
          0.8333333333333334,
          0.8333333333333334,
          0.625,
          0.9583333333333334,
          0.875,
          0.9166666666666666,
          0.7916666666666666,
          0.875,
          0.8333333333333334,
          0.7916666666666666,
          0.8333333333333334,
          0.9583333333333334,
          0.7916666666666666,
          0.7916666666666666,
          0.875,
          0.7916666666666666,
          0.8333333333333334,
          0.5416666666666666,
          0.875,
          0.9166666666666666,
          0.8333333333333334,
          0.7083333333333334,
          0.9166666666666666,
          0.9583333333333334,
          0.875,
          0.7916666666666666,
          0.9166666666666666,
          0.7083333333333334,
          1,
          0.8333333333333334,
          0.9166666666666666,
          0.875,
          0.7916666666666666,
          0.9583333333333334,
          0.875,
          0.8333333333333334,
          0.75,
          0.7916666666666666,
          0.75,
          0.9166666666666666,
          0.9166666666666666,
          0.875,
          0.7916666666666666,
          0.875,
          0.8333333333333334,
          0.8333333333333334,
          0.875,
          0.875,
          0.8333333333333334,
          0.7916666666666666,
          0.75,
          0.9166666666666666,
          0.7916666666666666,
          0.9583333333333334,
          0.8333333333333334,
          0.8333333333333334,
          0.875,
          0.9583333333333334,
          0.7083333333333334,
          0.875,
          0.8333333333333334,
          0.6666666666666666,
          0.8333333333333334,
          0.75,
          0.9166666666666666,
          0.7916666666666666,
          0.7083333333333334,
          0.9166666666666666,
          0.8333333333333334,
          0.7916666666666666,
          0.8333333333333334,
          0.7916666666666666,
          0.9166666666666666,
          0.875,
          0.875,
          1,
          0.75,
          0.875,
          0.9166666666666666,
          0.9583333333333334,
          0.9166666666666666,
          0.875,
          0.9166666666666666,
          0.75,
          0.875,
          0.5833333333333334,
          0.8333333333333334,
          0.875,
          0.8333333333333334,
          0.875,
          0.875,
          0.9166666666666666,
          0.875,
          0.875,
          1,
          0.7083333333333334,
          0.9166666666666666,
          0.9166666666666666,
          0.8333333333333334,
          0.75,
          0.5,
          0.875,
          0.7916666666666666,
          0.875,
          0.9166666666666666,
          0.875,
          0.9166666666666666,
          0.75,
          0.875,
          0.875,
          0.7916666666666666,
          0.8333333333333334,
          0.5833333333333334,
          0.9583333333333334,
          0.75,
          0.7916666666666666,
          0.8333333333333334,
          0.7916666666666666,
          0.75,
          0.875,
          0.7916666666666666,
          0.7083333333333334,
          0.9166666666666666,
          0.8333333333333334,
          0.6666666666666666,
          0.9166666666666666,
          0.75,
          0.7916666666666666,
          0.75,
          0.75,
          0.8333333333333334,
          0.6666666666666666,
          0.8333333333333334,
          0.9166666666666666,
          0.7916666666666666,
          0.9583333333333334,
          0.875,
          0.75,
          0.875,
          0.6666666666666666,
          0.875,
          0.9583333333333334,
          0.8333333333333334,
          0.7083333333333334,
          0.7916666666666666,
          0.8333333333333334,
          0.625,
          0.8333333333333334,
          0.875,
          0.875,
          0.9583333333333334,
          0.8333333333333334,
          0.6666666666666666,
          1,
          0.9166666666666666,
          0.875,
          0.9583333333333334,
          0.9583333333333334,
          0.875,
          0.9166666666666666,
          0.9583333333333334,
          0.8333333333333334,
          0.875,
          0.7083333333333334,
          0.875,
          0.9166666666666666,
          0.9166666666666666,
          0.7083333333333334,
          0.7083333333333334,
          0.9583333333333334,
          0.7916666666666666,
          0.875,
          0.875,
          0.7083333333333334,
          0.7916666666666666,
          0.7916666666666666,
          0.7916666666666666,
          0.7083333333333334,
          0.9583333333333334,
          0.9166666666666666,
          0.8333333333333334,
          0.75,
          0.7916666666666666,
          0.875,
          0.8333333333333334,
          0.8333333333333334,
          0.75,
          0.875,
          0.875,
          0.7083333333333334,
          0.875,
          0.7083333333333334,
          0.9166666666666666,
          0.8333333333333334,
          0.875,
          0.75,
          0.8333333333333334,
          0.875,
          0.75,
          0.9583333333333334,
          0.9583333333333334,
          0.9166666666666666,
          0.7916666666666666,
          0.9166666666666666,
          0.7916666666666666,
          0.875,
          0.7083333333333334,
          0.6666666666666666,
          0.8333333333333334,
          0.875,
          0.7916666666666666,
          0.7916666666666666,
          0.7083333333333334,
          0.625,
          0.875,
          0.875,
          0.9166666666666666,
          0.7916666666666666,
          0.9583333333333334,
          0.7916666666666666,
          0.8333333333333334,
          0.9166666666666666,
          0.8333333333333334,
          0.875,
          0.9583333333333334,
          0.875,
          0.875,
          0.9166666666666666,
          0.7916666666666666,
          0.7916666666666666,
          0.8333333333333334,
          0.875,
          0.9166666666666666,
          0.75,
          0.8333333333333334,
          0.7916666666666666,
          0.7083333333333334,
          0.875,
          0.625,
          1,
          0.8333333333333334,
          0.7916666666666666,
          0.875,
          0.8333333333333334,
          0.9583333333333334,
          0.875,
          0.9583333333333334,
          0.9583333333333334,
          0.875,
          0.9166666666666666,
          1,
          0.75,
          0.9583333333333334,
          0.9166666666666666,
          1,
          0.7916666666666666,
          1,
          0.7916666666666666,
          1,
          0.2916666666666667,
          0.7916666666666666,
          0.7916666666666666,
          0.9166666666666666,
          0.9583333333333334,
          0.9583333333333334,
          0.8333333333333334,
          0.9166666666666666,
          0.625,
          0.875,
          0.875,
          0.8333333333333334,
          0.75,
          0.7916666666666666,
          0.7916666666666666,
          0.9166666666666666,
          1,
          0.8333333333333334,
          0.9583333333333334,
          0.9166666666666666,
          0.875,
          0.875,
          0.9166666666666666,
          0.875,
          0.9166666666666666,
          0.9166666666666666,
          0.9166666666666666,
          0.7916666666666666,
          0.875,
          0.9583333333333334,
          0.5416666666666666,
          0.8333333333333334,
          0.75,
          0.8333333333333334,
          0.9166666666666666,
          0.7916666666666666,
          0.75,
          0.7916666666666666,
          0.9166666666666666,
          1,
          1,
          0.9166666666666666,
          0.875,
          0.9583333333333334,
          0.875,
          0.875,
          0.9166666666666666,
          0.875,
          1,
          0.8333333333333334,
          0.7916666666666666,
          0.75,
          0.9166666666666666,
          0.8333333333333334,
          0.9583333333333334,
          0.8333333333333334,
          0.7916666666666666,
          0.8333333333333334,
          0.7916666666666666,
          0.875,
          0.875,
          0.9166666666666666,
          0.75,
          0.75,
          0.875,
          0.875,
          0.875,
          0.7083333333333334,
          0.7916666666666666,
          0.9166666666666666,
          0.8333333333333334,
          0.8333333333333334,
          0.7083333333333334,
          0.875,
          0.7916666666666666,
          0.8333333333333334,
          0.8333333333333334,
          0.8333333333333334,
          0.75,
          0.875,
          0.6666666666666666,
          0.7916666666666666,
          0.8333333333333334,
          0.8333333333333334,
          0.9166666666666666,
          0.9583333333333334,
          0.9166666666666666,
          0.7916666666666666,
          0.8333333333333334,
          0.8333333333333334,
          0.7916666666666666,
          0.6666666666666666,
          0.9583333333333334,
          0.9166666666666666,
          0.7916666666666666,
          0.875,
          0.875,
          0.5416666666666666,
          0.875,
          0.75,
          0.8333333333333334,
          0.8333333333333334,
          0.7916666666666666,
          0.75,
          0.7916666666666666,
          0.875,
          0.75,
          0.7916666666666666,
          0.75,
          0.9583333333333334,
          0.8333333333333334,
          0.875,
          0.8333333333333334,
          0.8333333333333334,
          0.75,
          0.75,
          0.875,
          0.8333333333333334,
          0.8333333333333334,
          0.875,
          0.7083333333333334,
          0.875,
          0.9166666666666666,
          0.875,
          0.9583333333333334,
          0.8333333333333334,
          0.875,
          0.875,
          0.875,
          0.8333333333333334,
          0.8333333333333334,
          0.9583333333333334,
          0.9166666666666666,
          0.8333333333333334,
          0.75,
          0.8333333333333334,
          0.875,
          0.9166666666666666,
          0.9166666666666666,
          0.875,
          0.875,
          0.9166666666666666,
          0.9166666666666666,
          0.9166666666666666,
          0.9166666666666666,
          0.8333333333333334,
          0.9166666666666666,
          0.875,
          0.9166666666666666,
          0.7916666666666666,
          0.7916666666666666,
          0.9583333333333334,
          0.8333333333333334,
          0.875,
          0.9166666666666666,
          0.9166666666666666,
          0.875,
          0.875,
          0.875,
          0.9166666666666666,
          0.9166666666666666,
          0.875,
          0.7916666666666666,
          0.9166666666666666,
          0.9583333333333334,
          0.875,
          0.7083333333333334,
          0.9583333333333334,
          0.8333333333333334,
          0.9166666666666666,
          0.9166666666666666,
          0.9166666666666666,
          0.9583333333333334,
          1,
          0.7083333333333334,
          0.8333333333333334,
          0.875,
          0.9166666666666666,
          0.9166666666666666,
          0.9166666666666666,
          0.875,
          0.8333333333333334,
          0.8333333333333334,
          0.875,
          0.9583333333333334,
          0.9166666666666666,
          0.875,
          0.9166666666666666,
          0.7083333333333334,
          0.75,
          0.75,
          0.5,
          0.8333333333333334,
          0.8333333333333334,
          0.5416666666666666,
          0.75,
          0.5833333333333334,
          0.7083333333333334,
          0.625,
          0.9583333333333334,
          0.875,
          0.5833333333333334,
          0.7916666666666666,
          0.9583333333333334,
          0.75,
          0.8333333333333334,
          0.75,
          0.9166666666666666,
          0.8333333333333334,
          0.75,
          0.6666666666666666,
          0.625,
          0.75,
          0.625,
          0.7083333333333334,
          0.5416666666666666,
          0.875,
          0.7083333333333334,
          0.8333333333333334,
          0.9166666666666666,
          0.9166666666666666,
          0.625,
          0.9166666666666666,
          0.7916666666666666,
          0.75,
          0.5833333333333334,
          0.7916666666666666,
          0.7916666666666666,
          0.7083333333333334,
          0.7083333333333334,
          0.7916666666666666,
          0.375,
          0.7916666666666666,
          0.8333333333333334,
          0.7083333333333334,
          0.7083333333333334,
          0.7083333333333334,
          0.6666666666666666,
          0.5833333333333334,
          0.7916666666666666,
          0.7916666666666666,
          0.75,
          0.8333333333333334,
          0.4583333333333333,
          0.625,
          0.5416666666666666,
          0.5416666666666666,
          0.8333333333333334,
          0.625,
          0.5833333333333334,
          0.6666666666666666,
          0.625,
          0.875,
          0.7083333333333334,
          0.5,
          0.75,
          0.7083333333333334,
          0.6666666666666666,
          0.5833333333333334,
          0.5,
          0.8333333333333334,
          0.625,
          0.875,
          0.875,
          0.625,
          0.8333333333333334,
          0.875,
          0.7083333333333334,
          0.5416666666666666,
          0.8333333333333334,
          0.8333333333333334,
          0.9166666666666666,
          0.5416666666666666,
          0.7916666666666666,
          0.8333333333333334,
          0.7083333333333334,
          0.625,
          0.8333333333333334,
          0.9166666666666666,
          0.4166666666666667,
          0.7083333333333334,
          0.625,
          0.7083333333333334,
          0.8333333333333334,
          0.875,
          0.7083333333333334,
          0.6666666666666666,
          0.9166666666666666,
          0.875,
          0.5416666666666666,
          0.875,
          0.7083333333333334,
          0.7916666666666666,
          0.875,
          0.7916666666666666,
          0.625,
          0.625,
          0.7916666666666666,
          0.7083333333333334,
          0.75,
          0.625,
          0.625,
          0.7083333333333334,
          0.6666666666666666,
          0.625,
          0.7083333333333334,
          0.75,
          0.75,
          0.875,
          0.7916666666666666,
          0.9166666666666666,
          0.875,
          0.5416666666666666,
          0.6666666666666666,
          0.875,
          0.7083333333333334,
          0.7083333333333334,
          0.5833333333333334,
          0.6666666666666666,
          0.75,
          0.8333333333333334,
          0.7916666666666666,
          0.7916666666666666,
          0.625,
          0.5833333333333334,
          0.75,
          0.625,
          0.5416666666666666,
          0.7083333333333334,
          0.9166666666666666,
          0.875,
          0.7083333333333334,
          0.75,
          0.8333333333333334,
          0.7083333333333334,
          0.7083333333333334,
          0.7916666666666666,
          0.5,
          0.7916666666666666,
          0.6666666666666666,
          0.5416666666666666,
          0.6666666666666666,
          0.7083333333333334,
          0.625,
          0.5416666666666666,
          0.75,
          0.8333333333333334,
          0.8333333333333334,
          0.7083333333333334,
          0.5833333333333334,
          0.7083333333333334,
          0.8333333333333334,
          0.7083333333333334,
          0.7916666666666666,
          0.7083333333333334,
          0.7916666666666666,
          0.8333333333333334,
          0.4583333333333333,
          0.6666666666666666,
          0.7083333333333334,
          0.7916666666666666,
          0.7083333333333334,
          0.75,
          0.7916666666666666,
          0.8333333333333334,
          0.9166666666666666,
          0.7083333333333334,
          0.75,
          0.8333333333333334,
          0.75,
          0.4583333333333333,
          0.625,
          0.75,
          0.7916666666666666,
          0.875,
          0.6666666666666666,
          0.7916666666666666,
          0.4583333333333333,
          0.8333333333333334,
          0.6666666666666666,
          0.7916666666666666,
          0.7916666666666666,
          0.7083333333333334,
          0.75,
          0.8333333333333334,
          0.75,
          0.7083333333333334,
          0.5833333333333334,
          0.75,
          0.8333333333333334,
          0.75,
          0.7916666666666666,
          0.6666666666666666,
          0.7083333333333334,
          0.6666666666666666,
          0.6666666666666666,
          0.6666666666666666,
          0.7916666666666666,
          0.7916666666666666,
          0.9166666666666666,
          0.6666666666666666,
          0.875,
          0.875,
          0.875,
          0.5833333333333334,
          0.8333333333333334,
          0.9166666666666666,
          0.9166666666666666,
          0.625,
          0.7083333333333334,
          0.625,
          0.6666666666666666,
          0.8333333333333334,
          0.7083333333333334,
          0.8333333333333334,
          0.7916666666666666,
          0.6666666666666666,
          0.625,
          0.75,
          0.7916666666666666,
          0.8333333333333334,
          0.5,
          0.8333333333333334,
          0.7083333333333334,
          0.625,
          0.75,
          0.75,
          0.75,
          0.75,
          0.75,
          0.7083333333333334,
          0.875,
          0.875,
          0.5833333333333334,
          0.7083333333333334,
          0.625,
          0.4583333333333333,
          0.8333333333333334,
          0.8333333333333334,
          0.5,
          0.7083333333333334,
          0.625,
          0.7083333333333334,
          0.5833333333333334,
          0.5833333333333334,
          0.8333333333333334,
          0.875,
          0.875,
          0.7083333333333334,
          0.75,
          0.7916666666666666,
          0.6666666666666666,
          0.6666666666666666,
          0.75,
          0.7916666666666666,
          0.875,
          0.7083333333333334,
          0.5416666666666666,
          0.625,
          0.6666666666666666,
          0.5,
          0.875,
          0.875,
          0.7083333333333334,
          0.5833333333333334,
          0.75,
          0.7916666666666666,
          0.6666666666666666,
          0.6666666666666666,
          0.5,
          0.75,
          0.625,
          0.9166666666666666,
          0.375,
          0.75,
          0.75,
          0.6666666666666666,
          0.5416666666666666,
          0.5416666666666666,
          0.6666666666666666,
          0.7083333333333334,
          0.8333333333333334,
          0.75,
          0.875,
          0.7916666666666666,
          0.75,
          0.75,
          0.7083333333333334,
          0.875,
          0.8333333333333334,
          0.625,
          0.5833333333333334,
          0.875,
          0.7916666666666666,
          0.75,
          0.6666666666666666,
          0.7083333333333334,
          0.8333333333333334,
          0.5833333333333334,
          0.6666666666666666,
          0.8333333333333334,
          0.7083333333333334,
          0.7083333333333334,
          0.9166666666666666,
          0.6666666666666666,
          0.875,
          0.8333333333333334,
          0.75,
          0.875,
          0.7916666666666666,
          0.75,
          0.625,
          0.7916666666666666,
          0.75,
          0.75,
          0.4583333333333333,
          0.5833333333333334,
          0.7916666666666666,
          0.7916666666666666,
          0.75,
          0.875,
          0.9166666666666666,
          0.7916666666666666,
          0.7083333333333334,
          0.875,
          0.7916666666666666,
          0.875,
          0.7083333333333334,
          0.75,
          0.7083333333333334,
          0.75,
          0.7083333333333334,
          0.7083333333333334,
          0.7916666666666666,
          0.7916666666666666,
          0.875,
          0.8333333333333334,
          0.8333333333333334,
          0.7916666666666666,
          0.75,
          0.9166666666666666,
          0.9166666666666666,
          0.6666666666666666,
          0.7083333333333334,
          0.75,
          0.7916666666666666,
          0.875,
          0.8333333333333334,
          0.75,
          0.8333333333333334,
          0.7916666666666666,
          0.9583333333333334,
          0.8333333333333334,
          0.7916666666666666,
          0.9583333333333334,
          0.875,
          0.625,
          0.7916666666666666,
          0.875,
          0.5833333333333334,
          0.5416666666666666,
          0.7916666666666666,
          0.5833333333333334,
          0.7916666666666666,
          0.875,
          0.8333333333333334,
          0.75,
          0.4583333333333333,
          0.75,
          0.625,
          0.6666666666666666,
          0.875,
          0.75,
          0.8333333333333334,
          0.7083333333333334,
          0.7916666666666666,
          0.6666666666666666,
          0.8333333333333334,
          0.75,
          0.8333333333333334,
          0.7916666666666666,
          0.4583333333333333,
          0.7916666666666666,
          0.7916666666666666,
          0.9166666666666666,
          0.8333333333333334,
          0.5,
          0.8333333333333334,
          0.9166666666666666,
          0.7083333333333334,
          0.4166666666666667,
          0.8333333333333334,
          0.7916666666666666,
          0.9166666666666666,
          0.7916666666666666,
          0.8333333333333334,
          0.875,
          0.7916666666666666,
          0.625,
          0.625,
          0.75,
          0.7916666666666666,
          0.8333333333333334,
          0.75,
          0.875,
          0.8333333333333334,
          0.7916666666666666,
          0.6666666666666666,
          0.7916666666666666,
          0.625,
          0.9166666666666666,
          0.8333333333333334,
          0.625,
          0.7083333333333334,
          0.75,
          0.7083333333333334,
          0.7916666666666666,
          0.8333333333333334,
          0.875,
          0.625,
          0.9166666666666666,
          0.75,
          0.8333333333333334,
          0.7916666666666666,
          0.7083333333333334,
          0.8333333333333334,
          0.875,
          0.9166666666666666,
          0.7916666666666666,
          0.625,
          0.7916666666666666,
          0.9166666666666666,
          0.7916666666666666,
          0.875,
          0.75,
          0.6666666666666666,
          0.8333333333333334,
          0.5416666666666666,
          0.875,
          0.8333333333333334,
          0.7916666666666666,
          0.9166666666666666,
          0.5833333333333334,
          0.625,
          0.9583333333333334,
          0.75,
          0.875,
          0.8333333333333334,
          0.75,
          0.8333333333333334,
          0.875,
          0.625,
          0.75,
          0.75,
          0.6666666666666666,
          0.7083333333333334,
          0.7916666666666666,
          0.875,
          0.8333333333333334,
          0.7083333333333334,
          0.875,
          0.7916666666666666,
          0.5833333333333334,
          0.6666666666666666,
          0.7916666666666666,
          0.8333333333333334,
          0.625,
          0.6666666666666666,
          0.9583333333333334,
          0.5416666666666666,
          0.75,
          0.9583333333333334,
          0.9166666666666666,
          0.9583333333333334,
          0.8333333333333334,
          0.875,
          0.9166666666666666,
          0.9166666666666666,
          0.6666666666666666,
          0.875,
          0.8333333333333334,
          0.75,
          0.75,
          0.9166666666666666,
          0.7916666666666666,
          0.7916666666666666,
          0.7916666666666666,
          0.5,
          0.7083333333333334,
          0.7916666666666666,
          0.875,
          0.875,
          0.6666666666666666,
          0.8333333333333334,
          0.75,
          0.5833333333333334,
          0.8333333333333334,
          0.9166666666666666,
          0.7916666666666666,
          0.75,
          0.4583333333333333,
          0.875,
          0.7083333333333334,
          0.625,
          0.8333333333333334,
          0.875,
          0.2916666666666667,
          0.5416666666666666,
          0.625,
          0.7916666666666666,
          0.7916666666666666,
          0.75,
          0.875,
          0.5833333333333334,
          0.7916666666666666,
          0.7916666666666666,
          0.8333333333333334,
          0.9583333333333334,
          0.9166666666666666,
          0.75,
          0.75,
          0.7083333333333334,
          0.8333333333333334,
          0.8333333333333334,
          0.9166666666666666,
          0.875,
          0.8333333333333334,
          0.9166666666666666,
          0.875,
          0.8333333333333334,
          0.8333333333333334,
          0.8333333333333334,
          0.7916666666666666,
          0.75,
          0.7916666666666666,
          0.7916666666666666,
          0.7083333333333334,
          0.75,
          0.8333333333333334,
          0.7916666666666666,
          0.8333333333333334,
          0.7916666666666666,
          0.7916666666666666,
          0.75,
          0.75,
          0.7916666666666666,
          0.9166666666666666,
          0.4583333333333333,
          0.7916666666666666,
          0.9166666666666666,
          0.875,
          0.75,
          0.9583333333333334,
          0.875,
          0.7083333333333334,
          0.4166666666666667,
          0.9583333333333334,
          0.75,
          0.7083333333333334,
          0.7083333333333334,
          0.5833333333333334,
          0.9166666666666666,
          0.8333333333333334,
          0.8333333333333334,
          0.7916666666666666,
          0.8333333333333334,
          1,
          0.7083333333333334,
          0.8333333333333334,
          0.7916666666666666,
          0.6666666666666666,
          0.7083333333333334,
          0.7083333333333334,
          0.7916666666666666,
          0.8333333333333334,
          0.75,
          0.7916666666666666,
          0.875,
          0.5833333333333334,
          0.8333333333333334,
          0.8333333333333334,
          0.8333333333333334,
          0.4583333333333333,
          0.6666666666666666,
          0.9166666666666666,
          0.75,
          0.625,
          0.875,
          0.7916666666666666,
          0.7916666666666666,
          0.875,
          0.7916666666666666,
          0.75,
          0.8333333333333334,
          0.7916666666666666,
          0.8333333333333334,
          0.75,
          0.75,
          0.8333333333333334,
          0.7916666666666666,
          0.8333333333333334,
          0.8333333333333334,
          0.6666666666666666,
          0.9166666666666666,
          0.8333333333333334,
          0.7916666666666666,
          0.5833333333333334,
          0.8333333333333334,
          0.75,
          0.75,
          0.7916666666666666,
          0.7916666666666666,
          0.4583333333333333,
          0.7916666666666666,
          0.7916666666666666,
          0.875,
          0.75,
          0.75,
          0.75,
          0.875,
          0.7083333333333334,
          0.8333333333333334,
          0.4166666666666667,
          0.5833333333333334,
          0.7083333333333334,
          0.875,
          0.75,
          0.6666666666666666,
          0.9583333333333334,
          0.7083333333333334,
          0.8333333333333334,
          0.7916666666666666,
          0.75,
          0.875,
          0.9166666666666666,
          0.6666666666666666,
          0.9166666666666666,
          0.8333333333333334,
          0.7083333333333334,
          0.5,
          0.9166666666666666,
          0.875,
          0.6666666666666666,
          0.7916666666666666,
          0.7083333333333334,
          0.9166666666666666,
          0.8333333333333334,
          0.8333333333333334,
          0.7916666666666666,
          0.7083333333333334,
          0.7916666666666666,
          0.7916666666666666,
          0.6666666666666666,
          0.7083333333333334,
          0.8333333333333334,
          0.7916666666666666,
          0.7916666666666666,
          0.75,
          0.875,
          0.5416666666666666,
          0.5833333333333334,
          0.75,
          0.7083333333333334,
          0.8333333333333334,
          0.6666666666666666,
          0.7083333333333334,
          0.625,
          0.875,
          0.75,
          0.8333333333333334,
          0.7083333333333334,
          0.625,
          0.7916666666666666,
          0.7916666666666666,
          0.5416666666666666,
          0.7083333333333334,
          0.5833333333333334,
          0.7916666666666666,
          0.5,
          0.7083333333333334,
          0.75,
          0.7083333333333334,
          0.625,
          0.875,
          0.8333333333333334,
          0.75,
          0.9166666666666666,
          0.7916666666666666,
          0.75,
          0.7083333333333334,
          0.7083333333333334,
          0.7083333333333334,
          0.7916666666666666,
          0.9166666666666666,
          0.8333333333333334,
          0.7916666666666666,
          0.75,
          0.875,
          0.875,
          0.7916666666666666,
          0.75,
          0.7916666666666666,
          0.9166666666666666,
          0.8333333333333334,
          0.7916666666666666,
          0.7083333333333334,
          0.4583333333333333,
          0.3333333333333333,
          0.5416666666666666,
          0.75,
          0.8333333333333334,
          0.5833333333333334,
          0.5,
          0.7916666666666666,
          0.7916666666666666,
          0.7916666666666666,
          0.7083333333333334,
          0.7083333333333334,
          0.8333333333333334,
          0.7083333333333334,
          0.7083333333333334,
          0.7916666666666666,
          0.75,
          0.6666666666666666,
          0.7083333333333334,
          0.9166666666666666,
          0.5416666666666666,
          0.7083333333333334,
          0.7916666666666666,
          0.7916666666666666,
          0.7916666666666666,
          0.9166666666666666,
          0.75,
          0.7916666666666666,
          0.375,
          0.7916666666666666,
          0.875,
          0.8333333333333334,
          0.8333333333333334,
          0.875,
          0.8333333333333334,
          0.875,
          0.7916666666666666,
          0.5416666666666666,
          0.8333333333333334,
          0.7916666666666666,
          0.7916666666666666,
          0.625,
          0.7083333333333334,
          0.8333333333333334,
          0.9166666666666666,
          0.8333333333333334,
          0.7916666666666666,
          0.8333333333333334,
          0.8333333333333334,
          0.8333333333333334,
          0.375,
          0.5833333333333334,
          0.75,
          0.4583333333333333,
          0.8333333333333334,
          0.75,
          0.375,
          0.8333333333333334,
          0.7083333333333334,
          0.7083333333333334,
          0.875,
          0.75,
          0.6666666666666666,
          0.75,
          0.9166666666666666,
          0.8333333333333334,
          0.75,
          0.7916666666666666,
          0.7916666666666666,
          0.9583333333333334,
          0.875,
          0.9166666666666666,
          0.875,
          0.7083333333333334,
          0.7916666666666666,
          0.875,
          0.75,
          0.875,
          0.7916666666666666,
          0.9166666666666666,
          0.625,
          0.7083333333333334,
          0.9583333333333334,
          0.7916666666666666,
          0.875,
          0.875,
          0.75,
          0.7083333333333334,
          0.7916666666666666,
          0.875,
          0.7916666666666666,
          0.875,
          0.625,
          0.875,
          0.6666666666666666,
          0.8333333333333334,
          0.5416666666666666,
          0.8333333333333334,
          0.75,
          0.7083333333333334,
          0.7083333333333334,
          0.8333333333333334,
          0.75,
          0.75,
          0.875,
          0.875,
          0.9166666666666666,
          0.875,
          0.875,
          0.7083333333333334,
          0.9166666666666666,
          0.9166666666666666,
          0.8333333333333334,
          0.9166666666666666,
          0.7916666666666666,
          0.8333333333333334,
          0.8333333333333334,
          0.7916666666666666,
          0.8333333333333334,
          0.75,
          0.7916666666666666,
          0.8333333333333334,
          0.6666666666666666,
          0.8333333333333334,
          0.875,
          0.7916666666666666,
          0.5833333333333334,
          0.8333333333333334,
          0.9166666666666666,
          0.75,
          0.625,
          0.9166666666666666,
          0.9583333333333334,
          0.9583333333333334,
          0.7916666666666666,
          0.9166666666666666,
          0.9166666666666666,
          0.7083333333333334,
          0.7916666666666666,
          0.9166666666666666,
          0.9583333333333334,
          0.9166666666666666,
          0.7916666666666666,
          0.6666666666666666,
          0.8333333333333334,
          0.7916666666666666,
          0.7916666666666666,
          0.6666666666666666,
          0.8333333333333334,
          0.8333333333333334,
          0.7083333333333334,
          0.5833333333333334,
          0.5833333333333334,
          0.8333333333333334,
          0.7916666666666666,
          0.7916666666666666,
          0.875,
          0.8333333333333334,
          0.7083333333333334,
          0.625,
          0.7916666666666666,
          0.75,
          0.7916666666666666,
          0.9166666666666666,
          0.625,
          0.75,
          0.6666666666666666,
          0.875,
          0.5833333333333334,
          0.8333333333333334,
          0.7083333333333334,
          0.9166666666666666,
          0.7083333333333334,
          0.9166666666666666,
          0.7916666666666666,
          0.875,
          0.7083333333333334,
          0.7916666666666666,
          0.9166666666666666,
          0.75,
          0.7916666666666666,
          0.9166666666666666,
          0.875,
          0.75,
          0.7916666666666666,
          0.7916666666666666,
          0.8333333333333334,
          0.7916666666666666,
          0.875,
          0.75,
          0.8333333333333334,
          0.75,
          0.625,
          0.7916666666666666,
          0.8333333333333334,
          0.7916666666666666,
          0.75,
          0.7916666666666666,
          0.875,
          0.9583333333333334,
          0.7916666666666666,
          0.8333333333333334,
          0.75,
          0.7916666666666666,
          0.9166666666666666,
          0.8333333333333334,
          0.875,
          0.7916666666666666,
          0.7083333333333334,
          0.7916666666666666,
          0.7916666666666666,
          0.875,
          0.875,
          0.75,
          0.9583333333333334,
          0.875,
          0.875,
          0.75,
          0.75,
          0.75,
          0.8333333333333334,
          0.8333333333333334,
          0.7916666666666666,
          0.7916666666666666,
          0.9166666666666666,
          0.8333333333333334,
          0.7916666666666666,
          0.8333333333333334,
          0.9166666666666666,
          0.875,
          0.625,
          0.8333333333333334,
          0.75,
          0.75,
          0.7916666666666666,
          0.9166666666666666,
          0.7916666666666666,
          0.875,
          0.9583333333333334,
          0.875,
          0.9166666666666666,
          0.7916666666666666,
          0.875,
          0.625,
          0.7916666666666666,
          0.7916666666666666,
          0.75,
          0.875,
          0.875,
          0.8333333333333334,
          0.7916666666666666,
          0.9166666666666666,
          0.875,
          0.7916666666666666,
          0.8333333333333334,
          0.8333333333333334,
          0.7916666666666666,
          0.8333333333333334,
          0.8333333333333334,
          0.9166666666666666,
          0.875,
          0.8333333333333334,
          0.875,
          1,
          0.7916666666666666,
          0.9166666666666666,
          0.875,
          0.8333333333333334,
          0.875,
          0.875,
          0.8333333333333334,
          0.75,
          0.875,
          0.8333333333333334,
          0.75,
          0.7916666666666666,
          0.8333333333333334,
          0.875,
          0.7083333333333334,
          0.9166666666666666,
          0.875,
          0.6666666666666666,
          0.7916666666666666,
          0.7916666666666666,
          0.7916666666666666,
          0.8333333333333334,
          0.7916666666666666,
          0.8333333333333334,
          0.875,
          0.7083333333333334,
          0.8333333333333334,
          0.5833333333333334,
          0.7083333333333334,
          0.8333333333333334,
          0.9166666666666666,
          0.7916666666666666,
          0.8333333333333334,
          0.8333333333333334,
          0.75,
          0.8333333333333334,
          0.75,
          0.875,
          0.875,
          0.875,
          0.9583333333333334,
          0.5833333333333334,
          0.875,
          0.9166666666666666,
          0.8333333333333334,
          0.9166666666666666,
          0.75,
          0.75,
          0.8333333333333334,
          0.875,
          0.75,
          0.6666666666666666,
          0.875,
          0.7083333333333334,
          0.8333333333333334,
          0.8333333333333334,
          0.9583333333333334,
          0.8333333333333334,
          0.8333333333333334,
          0.5833333333333334,
          0.8333333333333334,
          0.75,
          0.875,
          0.7083333333333334,
          1,
          0.9583333333333334,
          0.7916666666666666,
          0.75,
          0.875,
          0.9166666666666666,
          0.875,
          0.875,
          0.7083333333333334,
          0.8333333333333334,
          0.8333333333333334,
          0.9166666666666666,
          0.8333333333333334,
          0.8333333333333334,
          0.875,
          0.7916666666666666,
          0.9166666666666666,
          0.875,
          0.875,
          0.8333333333333334,
          0.8333333333333334,
          0.75,
          0.7083333333333334,
          0.75,
          0.7083333333333334,
          0.125,
          0.8333333333333334,
          0.75,
          0.875,
          0.9583333333333334,
          0.9583333333333334,
          0.75,
          0.875,
          0.875,
          0.8333333333333334,
          0.8333333333333334,
          0.9166666666666666,
          0.9583333333333334,
          0.6666666666666666,
          0.9583333333333334,
          0.75,
          0.7916666666666666,
          0.9166666666666666,
          0.7916666666666666,
          0.875,
          0.875,
          1,
          0.8333333333333334,
          0.875,
          0.75,
          0.9166666666666666,
          0.7916666666666666,
          0.7916666666666666,
          0.8333333333333334,
          0.7083333333333334,
          0.8333333333333334,
          0.9166666666666666,
          0.9583333333333334,
          0.7916666666666666,
          0.9583333333333334,
          0.7083333333333334,
          0.875,
          0.9166666666666666,
          0.9166666666666666,
          0.75,
          0.75,
          0.9583333333333334,
          0.8333333333333334,
          0.9166666666666666,
          0.6666666666666666,
          0.8333333333333334,
          0.8333333333333334,
          0.7083333333333334,
          0.8333333333333334,
          0.75,
          0.9583333333333334,
          0.625,
          0.7916666666666666,
          0.875,
          0.8333333333333334,
          0.9166666666666666,
          0.75,
          0.875,
          0.9166666666666666,
          0.9166666666666666,
          0.75,
          0.75,
          0.75,
          0.875,
          0.7916666666666666,
          0.8333333333333334,
          0.8333333333333334,
          0.8333333333333334,
          1,
          0.9583333333333334,
          0.8333333333333334,
          0.875,
          0.75,
          0.75,
          0.875,
          0.8333333333333334,
          0.7083333333333334,
          0.875,
          0.875,
          0.875,
          0.9583333333333334,
          0.875,
          0.9166666666666666,
          0.8333333333333334,
          0.7916666666666666,
          0.875,
          0.875,
          0.6666666666666666,
          0.875,
          0.9166666666666666,
          0.75,
          0.7083333333333334,
          0.875,
          0.875,
          0.9583333333333334,
          0.875,
          0.9166666666666666,
          0.9166666666666666,
          0.875,
          0.7083333333333334,
          0.7916666666666666,
          0.8333333333333334,
          0.625,
          0.8333333333333334,
          1,
          0.8333333333333334,
          0.9166666666666666,
          0.7916666666666666,
          0.7916666666666666,
          0.9166666666666666,
          0.7916666666666666,
          1,
          0.6666666666666666,
          0.875,
          0.8333333333333334,
          0.9166666666666666,
          0.7916666666666666,
          0.9583333333333334,
          0.9166666666666666,
          0.75,
          0.8333333333333334,
          0.7916666666666666,
          0.875,
          0.875,
          0.5,
          0.875,
          0.875,
          0.7916666666666666,
          0.875,
          0.8333333333333334,
          0.9583333333333334,
          0.8333333333333334,
          0.875,
          0.875,
          0.7916666666666666,
          0.8333333333333334,
          0.8333333333333334,
          0.7916666666666666,
          0.75,
          0.7083333333333334,
          0.9166666666666666,
          0.875,
          0.9583333333333334,
          1,
          0.8333333333333334,
          0.875,
          0.9166666666666666,
          0.7916666666666666,
          0.9166666666666666,
          0.7916666666666666,
          0.9583333333333334,
          0.75,
          0.875,
          0.7916666666666666,
          0.6666666666666666,
          0.9166666666666666,
          0.875,
          0.7916666666666666,
          0.9583333333333334,
          0.75,
          0.9166666666666666,
          0.7916666666666666,
          0.9166666666666666,
          0.875,
          0.875,
          0.875,
          0.6666666666666666,
          0.75,
          0.75,
          0.75,
          0.7916666666666666,
          0.9583333333333334,
          0.75,
          0.7083333333333334,
          0.7916666666666666,
          1,
          0.8333333333333334,
          0.7083333333333334,
          0.875,
          0.9583333333333334,
          0.8333333333333334,
          0.875,
          0.75,
          0.7916666666666666,
          0.7916666666666666,
          0.875,
          0.7916666666666666,
          0.9583333333333334,
          0.75,
          1,
          0.9166666666666666,
          0.8333333333333334,
          0.9166666666666666,
          0.7083333333333334,
          0.9166666666666666,
          0.8333333333333334,
          0.9166666666666666,
          0.8333333333333334,
          0.7916666666666666,
          0.9166666666666666,
          0.7916666666666666,
          0.9166666666666666,
          0.8333333333333334,
          0.7083333333333334,
          0.875,
          0.8333333333333334,
          0.8333333333333334,
          0.7916666666666666,
          0.875,
          0.875,
          0.9583333333333334,
          0.875,
          0.8333333333333334,
          0.875,
          0.7916666666666666,
          0.625,
          0.9583333333333334,
          0.6666666666666666,
          0.875,
          0.75,
          0.875,
          0.8333333333333334,
          0.8333333333333334,
          0.9583333333333334,
          0.7916666666666666,
          0.8333333333333334,
          0.8333333333333334,
          0.875,
          0.9166666666666666,
          0.8333333333333334,
          0.75,
          0.625,
          0.8333333333333334,
          0.875,
          0.875,
          0.875,
          0.9583333333333334,
          0.875,
          0.8333333333333334,
          0.875,
          0.9583333333333334,
          0.9166666666666666,
          0.875,
          0.8333333333333334,
          0.7916666666666666,
          0.8333333333333334,
          0.9583333333333334,
          0.9583333333333334,
          0.6666666666666666,
          0.875,
          0.8333333333333334,
          0.9583333333333334,
          0.8333333333333334,
          0.9166666666666666,
          0.7916666666666666,
          0.9166666666666666,
          0.9166666666666666,
          0.875,
          0.8333333333333334,
          0.7083333333333334,
          0.875,
          0.875,
          0.875,
          0.7916666666666666,
          0.9166666666666666,
          0.9583333333333334,
          0.875,
          0.875,
          0.7916666666666666,
          0.9583333333333334,
          0.75,
          0.7916666666666666,
          0.8333333333333334,
          0.875,
          0.9166666666666666,
          0.875,
          0.7916666666666666,
          0.7083333333333334,
          0.6666666666666666,
          0.7916666666666666,
          0.75,
          0.875,
          0.8333333333333334,
          0.7083333333333334,
          0.9583333333333334,
          0.625,
          0.875,
          0.7916666666666666,
          0.8333333333333334,
          0.875,
          1,
          0.75,
          0.7916666666666666,
          0.875,
          0.8333333333333334,
          0.7916666666666666,
          0.7916666666666666,
          0.9166666666666666,
          0.7916666666666666,
          0.7916666666666666,
          0.875,
          0.9166666666666666,
          0.9583333333333334,
          0.9166666666666666,
          0.8333333333333334,
          0.7916666666666666,
          0.9166666666666666,
          0.7916666666666666,
          0.875,
          0.5416666666666666,
          0.7916666666666666,
          0.75,
          0.7916666666666666,
          0.875,
          0.875,
          0.7916666666666666,
          0.875,
          0.7916666666666666,
          0.8333333333333334,
          0.9166666666666666,
          0.875,
          0.8333333333333334,
          0.8333333333333334,
          0.9166666666666666,
          0.9166666666666666,
          0.7916666666666666,
          0.9166666666666666,
          0.9583333333333334,
          0.8333333333333334,
          0.75,
          0.9166666666666666,
          0.7916666666666666,
          0.9166666666666666,
          0.9166666666666666,
          0.5833333333333334,
          0.8333333333333334,
          0.9583333333333334,
          0.7916666666666666,
          0.875,
          0.9166666666666666,
          0.875,
          0.875,
          0.8333333333333334,
          0.9583333333333334,
          0.75,
          0.9166666666666666,
          0.9583333333333334,
          0.8333333333333334,
          0.9166666666666666,
          0.75,
          0.8333333333333334,
          0.9166666666666666,
          1,
          0.875,
          0.875,
          0.875,
          0.75,
          0.8333333333333334,
          0.7916666666666666,
          0.9583333333333334,
          0.75,
          0.9583333333333334,
          0.8333333333333334,
          0.9583333333333334,
          0.9583333333333334,
          0.8333333333333334,
          0.75,
          0.875,
          0.875,
          0.875,
          0.75,
          0.875,
          0.875,
          0.875,
          0.8333333333333334,
          1,
          0.9166666666666666,
          0.7916666666666666,
          0.9583333333333334,
          0.9583333333333334,
          0.875,
          0.9166666666666666,
          0.7916666666666666,
          0.9166666666666666,
          0.9166666666666666,
          0.7916666666666666,
          0.9583333333333334,
          0.8333333333333334,
          0.875,
          0.7916666666666666,
          0.875,
          0.75,
          0.7083333333333334,
          0.7083333333333334,
          0.7083333333333334,
          1,
          0.875,
          0.7916666666666666,
          0.9166666666666666,
          0.9583333333333334,
          0.8333333333333334,
          0.875,
          0.9583333333333334,
          0.7083333333333334,
          0.875,
          0.75,
          0.8333333333333334,
          0.875,
          0.8333333333333334,
          0.875,
          0.8333333333333334,
          0.75,
          0.875,
          0.7083333333333334,
          0.75,
          0.9583333333333334,
          0.875,
          0.8333333333333334,
          0.8333333333333334,
          0.9166666666666666,
          0.9583333333333334,
          0.8333333333333334,
          0.7083333333333334,
          0.8333333333333334,
          0.875,
          0.9166666666666666,
          0.9583333333333334,
          0.75,
          0.5833333333333334,
          0.9583333333333334,
          0.6666666666666666,
          0.7916666666666666,
          0.75,
          0.875,
          0.625,
          0.8333333333333334,
          0.875,
          0.8333333333333334,
          0.75,
          0.9166666666666666,
          0.7916666666666666,
          0.7916666666666666,
          0.7916666666666666,
          0.875,
          0.8333333333333334,
          0.875,
          0.875,
          0.7916666666666666,
          0.8333333333333334,
          0.7916666666666666,
          0.875,
          0.75,
          0.8333333333333334,
          0.875,
          0.8333333333333334,
          0.875,
          0.9583333333333334,
          0.9166666666666666,
          0.9166666666666666,
          1,
          0.7916666666666666,
          0.875,
          0.8333333333333334,
          0.875,
          0.875,
          0.875,
          0.8333333333333334,
          0.7916666666666666,
          0.9166666666666666,
          0.75,
          0.7916666666666666,
          0.8333333333333334,
          0.9166666666666666,
          0.9166666666666666,
          0.8333333333333334,
          0.8333333333333334,
          0.7916666666666666,
          0.875,
          0.7916666666666666,
          0.8333333333333334,
          0.75,
          0.75,
          0.9166666666666666,
          0.7916666666666666,
          0.7083333333333334,
          0.875,
          0.7916666666666666,
          0.75,
          0.875,
          0.75,
          0.7916666666666666,
          0.7916666666666666,
          0.8333333333333334,
          0.875,
          0.875,
          0.75,
          0.9166666666666666,
          0.8333333333333334,
          0.875,
          0.9166666666666666,
          0.7916666666666666,
          0.5416666666666666,
          0.875,
          0.8333333333333334,
          0.8333333333333334,
          0.7916666666666666,
          0.9166666666666666,
          0.9583333333333334,
          0.9583333333333334,
          0.9583333333333334,
          0.9583333333333334,
          0.8333333333333334,
          0.9166666666666666,
          0.7083333333333334,
          0.75,
          0.875,
          0.875,
          0.7916666666666666,
          0.7083333333333334,
          0.7916666666666666,
          0.8333333333333334,
          0.7083333333333334,
          0.8333333333333334,
          0.9166666666666666,
          0.7083333333333334,
          0.875,
          0.6666666666666666,
          0.7916666666666666,
          0.5833333333333334,
          0.7916666666666666,
          0.7083333333333334,
          0.875,
          0.8333333333333334,
          0.9166666666666666,
          0.9166666666666666,
          0.9583333333333334,
          0.875,
          0.875,
          0.9583333333333334,
          0.8333333333333334,
          0.875,
          0.9166666666666666,
          0.8333333333333334,
          0.7916666666666666,
          0.875,
          0.9166666666666666,
          0.875,
          0.9166666666666666,
          0.8333333333333334,
          0.875,
          0.7916666666666666,
          0.8333333333333334,
          0.9166666666666666,
          0.875,
          0.7916666666666666,
          0.9166666666666666,
          0.875,
          0.875,
          0.875,
          0.9583333333333334,
          0.875,
          0.875,
          0.7083333333333334,
          0.9166666666666666,
          0.875,
          0.875,
          0.875,
          0.875,
          0.875,
          0.9166666666666666,
          0.9583333333333334,
          0.8333333333333334,
          0.6666666666666666,
          0.8333333333333334,
          0.875,
          0.8333333333333334,
          0.8333333333333334,
          0.875,
          0.75,
          0.8333333333333334,
          0.7916666666666666,
          0.9166666666666666,
          0.8333333333333334,
          0.875,
          0.9583333333333334,
          0.8333333333333334,
          0.875,
          0.625,
          0.875,
          0.875,
          0.875,
          0.7916666666666666,
          0.9166666666666666,
          0.875,
          0.9166666666666666,
          0.875,
          0.9166666666666666,
          0.875,
          0.875,
          0.9166666666666666,
          0.9166666666666666,
          0.9583333333333334,
          0.875,
          0.875,
          0.875,
          0.9583333333333334,
          0.875,
          0.9166666666666666,
          0.9583333333333334,
          0.9583333333333334,
          0.9166666666666666,
          0.8333333333333334,
          0.9166666666666666,
          0.7916666666666666,
          0.9166666666666666,
          0.9166666666666666,
          0.875,
          0.8333333333333334,
          0.8333333333333334,
          0.875,
          0.875,
          0.875,
          0.7916666666666666,
          0.75,
          0.7916666666666666,
          0.9166666666666666,
          0.9166666666666666,
          0.9166666666666666,
          0.9583333333333334,
          0.8333333333333334,
          0.9166666666666666,
          0.875,
          0.9583333333333334
         ],
         "xaxis": "x",
         "yaxis": "y"
        }
       ],
       "layout": {
        "barmode": "relative",
        "legend": {
         "tracegroupgap": 0
        },
        "margin": {
         "t": 60
        },
        "shapes": [
         {
          "line": {
           "color": "red",
           "width": 2
          },
          "type": "line",
          "x0": 0.8128166666666666,
          "x1": 0.8128166666666666,
          "xref": "x",
          "y0": 0,
          "y1": 1,
          "yref": "y domain"
         },
         {
          "line": {
           "color": "orange",
           "width": 2
          },
          "type": "line",
          "x0": 0.75,
          "x1": 0.75,
          "xref": "x",
          "y0": 0,
          "y1": 1,
          "yref": "y domain"
         },
         {
          "line": {
           "color": "green",
           "width": 2
          },
          "type": "line",
          "x0": 0.875,
          "x1": 0.875,
          "xref": "x",
          "y0": 0,
          "y1": 1,
          "yref": "y domain"
         }
        ],
        "template": {
         "data": {
          "bar": [
           {
            "error_x": {
             "color": "#2a3f5f"
            },
            "error_y": {
             "color": "#2a3f5f"
            },
            "marker": {
             "line": {
              "color": "#E5ECF6",
              "width": 0.5
             },
             "pattern": {
              "fillmode": "overlay",
              "size": 10,
              "solidity": 0.2
             }
            },
            "type": "bar"
           }
          ],
          "barpolar": [
           {
            "marker": {
             "line": {
              "color": "#E5ECF6",
              "width": 0.5
             },
             "pattern": {
              "fillmode": "overlay",
              "size": 10,
              "solidity": 0.2
             }
            },
            "type": "barpolar"
           }
          ],
          "carpet": [
           {
            "aaxis": {
             "endlinecolor": "#2a3f5f",
             "gridcolor": "white",
             "linecolor": "white",
             "minorgridcolor": "white",
             "startlinecolor": "#2a3f5f"
            },
            "baxis": {
             "endlinecolor": "#2a3f5f",
             "gridcolor": "white",
             "linecolor": "white",
             "minorgridcolor": "white",
             "startlinecolor": "#2a3f5f"
            },
            "type": "carpet"
           }
          ],
          "choropleth": [
           {
            "colorbar": {
             "outlinewidth": 0,
             "ticks": ""
            },
            "type": "choropleth"
           }
          ],
          "contour": [
           {
            "colorbar": {
             "outlinewidth": 0,
             "ticks": ""
            },
            "colorscale": [
             [
              0,
              "#0d0887"
             ],
             [
              0.1111111111111111,
              "#46039f"
             ],
             [
              0.2222222222222222,
              "#7201a8"
             ],
             [
              0.3333333333333333,
              "#9c179e"
             ],
             [
              0.4444444444444444,
              "#bd3786"
             ],
             [
              0.5555555555555556,
              "#d8576b"
             ],
             [
              0.6666666666666666,
              "#ed7953"
             ],
             [
              0.7777777777777778,
              "#fb9f3a"
             ],
             [
              0.8888888888888888,
              "#fdca26"
             ],
             [
              1,
              "#f0f921"
             ]
            ],
            "type": "contour"
           }
          ],
          "contourcarpet": [
           {
            "colorbar": {
             "outlinewidth": 0,
             "ticks": ""
            },
            "type": "contourcarpet"
           }
          ],
          "heatmap": [
           {
            "colorbar": {
             "outlinewidth": 0,
             "ticks": ""
            },
            "colorscale": [
             [
              0,
              "#0d0887"
             ],
             [
              0.1111111111111111,
              "#46039f"
             ],
             [
              0.2222222222222222,
              "#7201a8"
             ],
             [
              0.3333333333333333,
              "#9c179e"
             ],
             [
              0.4444444444444444,
              "#bd3786"
             ],
             [
              0.5555555555555556,
              "#d8576b"
             ],
             [
              0.6666666666666666,
              "#ed7953"
             ],
             [
              0.7777777777777778,
              "#fb9f3a"
             ],
             [
              0.8888888888888888,
              "#fdca26"
             ],
             [
              1,
              "#f0f921"
             ]
            ],
            "type": "heatmap"
           }
          ],
          "heatmapgl": [
           {
            "colorbar": {
             "outlinewidth": 0,
             "ticks": ""
            },
            "colorscale": [
             [
              0,
              "#0d0887"
             ],
             [
              0.1111111111111111,
              "#46039f"
             ],
             [
              0.2222222222222222,
              "#7201a8"
             ],
             [
              0.3333333333333333,
              "#9c179e"
             ],
             [
              0.4444444444444444,
              "#bd3786"
             ],
             [
              0.5555555555555556,
              "#d8576b"
             ],
             [
              0.6666666666666666,
              "#ed7953"
             ],
             [
              0.7777777777777778,
              "#fb9f3a"
             ],
             [
              0.8888888888888888,
              "#fdca26"
             ],
             [
              1,
              "#f0f921"
             ]
            ],
            "type": "heatmapgl"
           }
          ],
          "histogram": [
           {
            "marker": {
             "pattern": {
              "fillmode": "overlay",
              "size": 10,
              "solidity": 0.2
             }
            },
            "type": "histogram"
           }
          ],
          "histogram2d": [
           {
            "colorbar": {
             "outlinewidth": 0,
             "ticks": ""
            },
            "colorscale": [
             [
              0,
              "#0d0887"
             ],
             [
              0.1111111111111111,
              "#46039f"
             ],
             [
              0.2222222222222222,
              "#7201a8"
             ],
             [
              0.3333333333333333,
              "#9c179e"
             ],
             [
              0.4444444444444444,
              "#bd3786"
             ],
             [
              0.5555555555555556,
              "#d8576b"
             ],
             [
              0.6666666666666666,
              "#ed7953"
             ],
             [
              0.7777777777777778,
              "#fb9f3a"
             ],
             [
              0.8888888888888888,
              "#fdca26"
             ],
             [
              1,
              "#f0f921"
             ]
            ],
            "type": "histogram2d"
           }
          ],
          "histogram2dcontour": [
           {
            "colorbar": {
             "outlinewidth": 0,
             "ticks": ""
            },
            "colorscale": [
             [
              0,
              "#0d0887"
             ],
             [
              0.1111111111111111,
              "#46039f"
             ],
             [
              0.2222222222222222,
              "#7201a8"
             ],
             [
              0.3333333333333333,
              "#9c179e"
             ],
             [
              0.4444444444444444,
              "#bd3786"
             ],
             [
              0.5555555555555556,
              "#d8576b"
             ],
             [
              0.6666666666666666,
              "#ed7953"
             ],
             [
              0.7777777777777778,
              "#fb9f3a"
             ],
             [
              0.8888888888888888,
              "#fdca26"
             ],
             [
              1,
              "#f0f921"
             ]
            ],
            "type": "histogram2dcontour"
           }
          ],
          "mesh3d": [
           {
            "colorbar": {
             "outlinewidth": 0,
             "ticks": ""
            },
            "type": "mesh3d"
           }
          ],
          "parcoords": [
           {
            "line": {
             "colorbar": {
              "outlinewidth": 0,
              "ticks": ""
             }
            },
            "type": "parcoords"
           }
          ],
          "pie": [
           {
            "automargin": true,
            "type": "pie"
           }
          ],
          "scatter": [
           {
            "fillpattern": {
             "fillmode": "overlay",
             "size": 10,
             "solidity": 0.2
            },
            "type": "scatter"
           }
          ],
          "scatter3d": [
           {
            "line": {
             "colorbar": {
              "outlinewidth": 0,
              "ticks": ""
             }
            },
            "marker": {
             "colorbar": {
              "outlinewidth": 0,
              "ticks": ""
             }
            },
            "type": "scatter3d"
           }
          ],
          "scattercarpet": [
           {
            "marker": {
             "colorbar": {
              "outlinewidth": 0,
              "ticks": ""
             }
            },
            "type": "scattercarpet"
           }
          ],
          "scattergeo": [
           {
            "marker": {
             "colorbar": {
              "outlinewidth": 0,
              "ticks": ""
             }
            },
            "type": "scattergeo"
           }
          ],
          "scattergl": [
           {
            "marker": {
             "colorbar": {
              "outlinewidth": 0,
              "ticks": ""
             }
            },
            "type": "scattergl"
           }
          ],
          "scattermapbox": [
           {
            "marker": {
             "colorbar": {
              "outlinewidth": 0,
              "ticks": ""
             }
            },
            "type": "scattermapbox"
           }
          ],
          "scatterpolar": [
           {
            "marker": {
             "colorbar": {
              "outlinewidth": 0,
              "ticks": ""
             }
            },
            "type": "scatterpolar"
           }
          ],
          "scatterpolargl": [
           {
            "marker": {
             "colorbar": {
              "outlinewidth": 0,
              "ticks": ""
             }
            },
            "type": "scatterpolargl"
           }
          ],
          "scatterternary": [
           {
            "marker": {
             "colorbar": {
              "outlinewidth": 0,
              "ticks": ""
             }
            },
            "type": "scatterternary"
           }
          ],
          "surface": [
           {
            "colorbar": {
             "outlinewidth": 0,
             "ticks": ""
            },
            "colorscale": [
             [
              0,
              "#0d0887"
             ],
             [
              0.1111111111111111,
              "#46039f"
             ],
             [
              0.2222222222222222,
              "#7201a8"
             ],
             [
              0.3333333333333333,
              "#9c179e"
             ],
             [
              0.4444444444444444,
              "#bd3786"
             ],
             [
              0.5555555555555556,
              "#d8576b"
             ],
             [
              0.6666666666666666,
              "#ed7953"
             ],
             [
              0.7777777777777778,
              "#fb9f3a"
             ],
             [
              0.8888888888888888,
              "#fdca26"
             ],
             [
              1,
              "#f0f921"
             ]
            ],
            "type": "surface"
           }
          ],
          "table": [
           {
            "cells": {
             "fill": {
              "color": "#EBF0F8"
             },
             "line": {
              "color": "white"
             }
            },
            "header": {
             "fill": {
              "color": "#C8D4E3"
             },
             "line": {
              "color": "white"
             }
            },
            "type": "table"
           }
          ]
         },
         "layout": {
          "annotationdefaults": {
           "arrowcolor": "#2a3f5f",
           "arrowhead": 0,
           "arrowwidth": 1
          },
          "autotypenumbers": "strict",
          "coloraxis": {
           "colorbar": {
            "outlinewidth": 0,
            "ticks": ""
           }
          },
          "colorscale": {
           "diverging": [
            [
             0,
             "#8e0152"
            ],
            [
             0.1,
             "#c51b7d"
            ],
            [
             0.2,
             "#de77ae"
            ],
            [
             0.3,
             "#f1b6da"
            ],
            [
             0.4,
             "#fde0ef"
            ],
            [
             0.5,
             "#f7f7f7"
            ],
            [
             0.6,
             "#e6f5d0"
            ],
            [
             0.7,
             "#b8e186"
            ],
            [
             0.8,
             "#7fbc41"
            ],
            [
             0.9,
             "#4d9221"
            ],
            [
             1,
             "#276419"
            ]
           ],
           "sequential": [
            [
             0,
             "#0d0887"
            ],
            [
             0.1111111111111111,
             "#46039f"
            ],
            [
             0.2222222222222222,
             "#7201a8"
            ],
            [
             0.3333333333333333,
             "#9c179e"
            ],
            [
             0.4444444444444444,
             "#bd3786"
            ],
            [
             0.5555555555555556,
             "#d8576b"
            ],
            [
             0.6666666666666666,
             "#ed7953"
            ],
            [
             0.7777777777777778,
             "#fb9f3a"
            ],
            [
             0.8888888888888888,
             "#fdca26"
            ],
            [
             1,
             "#f0f921"
            ]
           ],
           "sequentialminus": [
            [
             0,
             "#0d0887"
            ],
            [
             0.1111111111111111,
             "#46039f"
            ],
            [
             0.2222222222222222,
             "#7201a8"
            ],
            [
             0.3333333333333333,
             "#9c179e"
            ],
            [
             0.4444444444444444,
             "#bd3786"
            ],
            [
             0.5555555555555556,
             "#d8576b"
            ],
            [
             0.6666666666666666,
             "#ed7953"
            ],
            [
             0.7777777777777778,
             "#fb9f3a"
            ],
            [
             0.8888888888888888,
             "#fdca26"
            ],
            [
             1,
             "#f0f921"
            ]
           ]
          },
          "colorway": [
           "#636efa",
           "#EF553B",
           "#00cc96",
           "#ab63fa",
           "#FFA15A",
           "#19d3f3",
           "#FF6692",
           "#B6E880",
           "#FF97FF",
           "#FECB52"
          ],
          "font": {
           "color": "#2a3f5f"
          },
          "geo": {
           "bgcolor": "white",
           "lakecolor": "white",
           "landcolor": "#E5ECF6",
           "showlakes": true,
           "showland": true,
           "subunitcolor": "white"
          },
          "hoverlabel": {
           "align": "left"
          },
          "hovermode": "closest",
          "mapbox": {
           "style": "light"
          },
          "paper_bgcolor": "white",
          "plot_bgcolor": "#E5ECF6",
          "polar": {
           "angularaxis": {
            "gridcolor": "white",
            "linecolor": "white",
            "ticks": ""
           },
           "bgcolor": "#E5ECF6",
           "radialaxis": {
            "gridcolor": "white",
            "linecolor": "white",
            "ticks": ""
           }
          },
          "scene": {
           "xaxis": {
            "backgroundcolor": "#E5ECF6",
            "gridcolor": "white",
            "gridwidth": 2,
            "linecolor": "white",
            "showbackground": true,
            "ticks": "",
            "zerolinecolor": "white"
           },
           "yaxis": {
            "backgroundcolor": "#E5ECF6",
            "gridcolor": "white",
            "gridwidth": 2,
            "linecolor": "white",
            "showbackground": true,
            "ticks": "",
            "zerolinecolor": "white"
           },
           "zaxis": {
            "backgroundcolor": "#E5ECF6",
            "gridcolor": "white",
            "gridwidth": 2,
            "linecolor": "white",
            "showbackground": true,
            "ticks": "",
            "zerolinecolor": "white"
           }
          },
          "shapedefaults": {
           "line": {
            "color": "#2a3f5f"
           }
          },
          "ternary": {
           "aaxis": {
            "gridcolor": "white",
            "linecolor": "white",
            "ticks": ""
           },
           "baxis": {
            "gridcolor": "white",
            "linecolor": "white",
            "ticks": ""
           },
           "bgcolor": "#E5ECF6",
           "caxis": {
            "gridcolor": "white",
            "linecolor": "white",
            "ticks": ""
           }
          },
          "title": {
           "x": 0.05
          },
          "xaxis": {
           "automargin": true,
           "gridcolor": "white",
           "linecolor": "white",
           "ticks": "",
           "title": {
            "standoff": 15
           },
           "zerolinecolor": "white",
           "zerolinewidth": 2
          },
          "yaxis": {
           "automargin": true,
           "gridcolor": "white",
           "linecolor": "white",
           "ticks": "",
           "title": {
            "standoff": 15
           },
           "zerolinecolor": "white",
           "zerolinewidth": 2
          }
         }
        },
        "xaxis": {
         "anchor": "y",
         "domain": [
          0,
          1
         ],
         "tickmode": "array",
         "tickvals": [
          0.8128166666666666,
          0.75,
          0.875
         ],
         "title": {
          "text": "subset_acc"
         }
        },
        "yaxis": {
         "anchor": "x",
         "domain": [
          0,
          1
         ],
         "title": {
          "text": "count"
         }
        }
       }
      }
     },
     "metadata": {},
     "output_type": "display_data"
    }
   ],
   "source": [
    "meanVal = caseAccDf[\"subset_acc\"].mean()\n",
    "# medianVal = multilabelCaseDf[\"subset_acc\"].median()\n",
    "firstQuarter = np.quantile(caseAccDf[\"subset_acc\"].values, 0.25)\n",
    "thirdQuarter = np.quantile(caseAccDf[\"subset_acc\"].values, 0.75)\n",
    "\n",
    "fig = px.histogram(caseAccDf, x=\"subset_acc\")\n",
    "fig.add_vline(x=meanVal, line_width=2, line_color=\"red\")\n",
    "# fig.add_vline(x=medianVal, line_width=2, line_color=\"blue\")\n",
    "fig.add_vline(x=firstQuarter, line_width=2, line_color=\"orange\")\n",
    "fig.add_vline(x=thirdQuarter, line_width=2, line_color=\"green\")\n",
    "\n",
    "fig.update_layout(\n",
    "    xaxis = dict(\n",
    "        tickmode = 'array',\n",
    "        tickvals = [meanVal, firstQuarter, thirdQuarter],\n",
    "    )\n",
    ")"
   ]
  },
  {
   "cell_type": "code",
   "execution_count": 52,
   "metadata": {},
   "outputs": [
    {
     "data": {
      "text/plain": [
       "0.6052561176407811"
      ]
     },
     "execution_count": 52,
     "metadata": {},
     "output_type": "execute_result"
    }
   ],
   "source": [
    "corr = partEvalMetrics[\"tp\"].corr(partEvalMetrics[\"gt_pos_ratio\"])\n",
    "corr"
   ]
  },
  {
   "cell_type": "code",
   "execution_count": 53,
   "metadata": {},
   "outputs": [
    {
     "data": {
      "text/plain": [
       "-0.7694674170983035"
      ]
     },
     "execution_count": 53,
     "metadata": {},
     "output_type": "execute_result"
    }
   ],
   "source": [
    "corr = partEvalMetrics[\"tn\"].corr(partEvalMetrics[\"gt_pos_ratio\"])\n",
    "corr"
   ]
  },
  {
   "cell_type": "code",
   "execution_count": 54,
   "metadata": {},
   "outputs": [
    {
     "data": {
      "text/plain": [
       "-0.5506124702528897"
      ]
     },
     "execution_count": 54,
     "metadata": {},
     "output_type": "execute_result"
    }
   ],
   "source": [
    "corr = partEvalMetrics[\"acc\"].corr(partEvalMetrics[\"gt_pos_ratio\"])\n",
    "corr"
   ]
  },
  {
   "cell_type": "code",
   "execution_count": null,
   "metadata": {},
   "outputs": [],
   "source": []
  }
 ],
 "metadata": {
  "kernelspec": {
   "display_name": "work",
   "language": "python",
   "name": "python3"
  },
  "language_info": {
   "codemirror_mode": {
    "name": "ipython",
    "version": 3
   },
   "file_extension": ".py",
   "mimetype": "text/x-python",
   "name": "python",
   "nbconvert_exporter": "python",
   "pygments_lexer": "ipython3",
   "version": "3.10.8 (main, Nov 24 2022, 14:13:03) [GCC 11.2.0]"
  },
  "orig_nbformat": 4,
  "vscode": {
   "interpreter": {
    "hash": "0e8f33c5a67865e6aadcd232beb3e2644a1f224e780847feacdefa5e710f41d5"
   }
  }
 },
 "nbformat": 4,
 "nbformat_minor": 2
}
