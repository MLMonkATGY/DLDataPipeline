{
 "cells": [
  {
   "cell_type": "code",
   "execution_count": 1,
   "metadata": {},
   "outputs": [],
   "source": [
    "import pandas as pd\n",
    "import numpy as np\n",
    "import plotly.graph_objects as go\n",
    "import plotly.express as px\n",
    "\n"
   ]
  },
  {
   "cell_type": "code",
   "execution_count": 2,
   "metadata": {},
   "outputs": [],
   "source": [
    "srcExpDir = \"/home/alextay96/Desktop/all_workspace/new_workspace/DLDataPipeline/data/results/suv_focal_480_aug\"\n",
    "# srcExpDir = \"/home/alextay96/Desktop/all_workspace/new_workspace/DLDataPipeline/data/results/saloon_10k_bce\""
   ]
  },
  {
   "cell_type": "code",
   "execution_count": 3,
   "metadata": {},
   "outputs": [],
   "source": [
    "partCsv= f\"{srcExpDir}/part_perf.csv\"\n",
    "partPerfDf = pd.read_csv(partCsv)\n",
    "caseAccCsv= f\"{srcExpDir}/acc_perf.csv\"\n",
    "caseAccDf = pd.read_csv(caseAccCsv)\n"
   ]
  },
  {
   "cell_type": "code",
   "execution_count": 4,
   "metadata": {},
   "outputs": [
    {
     "data": {
      "text/plain": [
       "['vision_bumper_rear',\n",
       " 'vision_door_front_rh',\n",
       " 'vision_door_rear_rh',\n",
       " 'vision_misc',\n",
       " 'vision_rear_compartment',\n",
       " 'vision_rear_panel',\n",
       " 'vision_rear_quarter_rh',\n",
       " 'vision_tail_lamp_rh',\n",
       " 'vision_non_external',\n",
       " 'vision_wheel',\n",
       " 'vision_door_front_lh',\n",
       " 'vision_door_rear_lh',\n",
       " 'vision_rear_quarter_lh',\n",
       " 'vision_tail_lamp_lh',\n",
       " 'vision_bonnet',\n",
       " 'vision_bumper_front',\n",
       " 'vision_engine',\n",
       " 'vision_fender_front_lh',\n",
       " 'vision_front_panel',\n",
       " 'vision_headlamp_lh',\n",
       " 'vision_windscreen_front',\n",
       " 'vision_grille',\n",
       " 'vision_headlamp_rh',\n",
       " 'vision_fender_front_rh']"
      ]
     },
     "execution_count": 4,
     "metadata": {},
     "output_type": "execute_result"
    }
   ],
   "source": [
    "allParts = [x.replace(\"gt_\", \"\") for x in partPerfDf.columns if \"Unname\" not in x and \"gt_\" in x]\n",
    "allParts"
   ]
  },
  {
   "cell_type": "code",
   "execution_count": 5,
   "metadata": {},
   "outputs": [],
   "source": [
    "partMetrics = []\n",
    "for part in allParts:\n",
    "    gtCol = partPerfDf[f\"gt_{part}\"].values\n",
    "    predCol = partPerfDf[f\"pred_{part}\"].values\n",
    "    # posGt = gtCol[gtCol == 1]\n",
    "    posGtCount = np.count_nonzero(gtCol == 1)\n",
    "    negGtCount = np.count_nonzero(gtCol == 0)\n",
    "    posPredCount =  np.count_nonzero(predCol == 1)\n",
    "    negPredCount =  np.count_nonzero(predCol == 0)\n",
    "\n",
    "    tp =  np.count_nonzero(predCol[gtCol == 1] == 1) / posGtCount\n",
    "    tn = np.count_nonzero(predCol[gtCol == 0] == 0 ) / negGtCount\n",
    "    fp =  np.count_nonzero(predCol[gtCol == 0] == 1) / negGtCount\n",
    "    fn =  np.count_nonzero(predCol[gtCol == 1] == 0) / posGtCount\n",
    "    assert 0.99 < tp + fn < 1.01\n",
    "    assert 0.99 < tn + fp < 1.01\n",
    "    precision = tp / (tp + fp)\n",
    "    recall = tp / (tp + fn)\n",
    "    acc = (tp + tn) / (tp + tn + fp + fn)\n",
    "    f1 = 2 * (precision * recall) / (precision + recall)\n",
    "    partMetrics.append(\n",
    "        {\n",
    "            \"part\" : part,\n",
    "            \"tp\": tp,\n",
    "            \"tn\": tn,\n",
    "            \"fn\": fn,\n",
    "            \"fp\": fp,\n",
    "            \"precision\": precision,\n",
    "            \"recall\": recall,\n",
    "            \"f1\" : f1,\n",
    "            \"acc\" : acc,\n",
    "            \"gt_pos_count\" : posGtCount,\n",
    "            \"gt_neg_count\" : negGtCount,\n",
    "            \"gt_pos_ratio\" : posGtCount / (posGtCount + negGtCount),\n",
    "            \"pred_pos_ratio\" : posPredCount / (posPredCount + negPredCount),\n",
    "\n",
    "\n",
    "        }\n",
    "    )\n",
    "\n",
    "partEvalMetrics = pd.json_normalize(partMetrics)\n",
    "partEvalMetrics.to_csv(f\"{srcExpDir}/part_metrics.csv\")\n",
    "    "
   ]
  },
  {
   "cell_type": "code",
   "execution_count": 6,
   "metadata": {},
   "outputs": [],
   "source": [
    "def genVisMulitlabel(multilabelPartDf, metricName):\n",
    "    fig = go.Figure()\n",
    "    fig.add_trace(go.Bar(\n",
    "        x=multilabelPartDf[\"part\"], y=multilabelPartDf[metricName],\n",
    "        text = multilabelPartDf[metricName]\n",
    "        ))\n",
    "    avgVal = multilabelPartDf[metricName].mean()\n",
    "    fig.add_hline(y=avgVal, line_width=2, line_color=\"red\")\n",
    "    fig.update_layout(\n",
    "        yaxis = dict(\n",
    "            tickmode = 'array',\n",
    "            tickvals = [np.format_float_positional(avgVal, 2), 0.3, 0.8],\n",
    "        )\n",
    "    )\n",
    "    fig.update_layout(\n",
    "            title=go.layout.Title(\n",
    "                text=f\"{metricName}\",\n",
    "                x=0.5\n",
    "            ))\n",
    "    \n",
    "    fig.show()\n",
    "   "
   ]
  },
  {
   "cell_type": "code",
   "execution_count": 7,
   "metadata": {},
   "outputs": [
    {
     "data": {
      "application/vnd.plotly.v1+json": {
       "config": {
        "plotlyServerURL": "https://plot.ly"
       },
       "data": [
        {
         "text": [
          0.7724703222159413,
          0.6022620169651273,
          0.5770862800565771,
          0.8562628336755647,
          0.8116254036598493,
          0.6933638443935927,
          0.4567627494456763,
          0.6213668499607227,
          0.7170611091487107,
          0.5507584597432905,
          0.6531027466937945,
          0.69901547116737,
          0.515695067264574,
          0.6875,
          0.8804171494785632,
          0.9700937360511829,
          0.9214899713467049,
          0.7838078291814946,
          0.6690140845070423,
          0.8889571809055521,
          0.6200931470392548,
          0.42782608695652175,
          0.9366961414790996,
          0.7818791946308725
         ],
         "type": "bar",
         "x": [
          "vision_bumper_rear",
          "vision_door_front_rh",
          "vision_door_rear_rh",
          "vision_misc",
          "vision_rear_compartment",
          "vision_rear_panel",
          "vision_rear_quarter_rh",
          "vision_tail_lamp_rh",
          "vision_non_external",
          "vision_wheel",
          "vision_door_front_lh",
          "vision_door_rear_lh",
          "vision_rear_quarter_lh",
          "vision_tail_lamp_lh",
          "vision_bonnet",
          "vision_bumper_front",
          "vision_engine",
          "vision_fender_front_lh",
          "vision_front_panel",
          "vision_headlamp_lh",
          "vision_windscreen_front",
          "vision_grille",
          "vision_headlamp_rh",
          "vision_fender_front_rh"
         ],
         "y": [
          0.7724703222159413,
          0.6022620169651273,
          0.5770862800565771,
          0.8562628336755647,
          0.8116254036598493,
          0.6933638443935927,
          0.4567627494456763,
          0.6213668499607227,
          0.7170611091487107,
          0.5507584597432905,
          0.6531027466937945,
          0.69901547116737,
          0.515695067264574,
          0.6875,
          0.8804171494785632,
          0.9700937360511829,
          0.9214899713467049,
          0.7838078291814946,
          0.6690140845070423,
          0.8889571809055521,
          0.6200931470392548,
          0.42782608695652175,
          0.9366961414790996,
          0.7818791946308725
         ]
        }
       ],
       "layout": {
        "shapes": [
         {
          "line": {
           "color": "red",
           "width": 2
          },
          "type": "line",
          "x0": 0,
          "x1": 1,
          "xref": "x domain",
          "y0": 0.7122753198319617,
          "y1": 0.7122753198319617,
          "yref": "y"
         }
        ],
        "template": {
         "data": {
          "bar": [
           {
            "error_x": {
             "color": "#2a3f5f"
            },
            "error_y": {
             "color": "#2a3f5f"
            },
            "marker": {
             "line": {
              "color": "#E5ECF6",
              "width": 0.5
             },
             "pattern": {
              "fillmode": "overlay",
              "size": 10,
              "solidity": 0.2
             }
            },
            "type": "bar"
           }
          ],
          "barpolar": [
           {
            "marker": {
             "line": {
              "color": "#E5ECF6",
              "width": 0.5
             },
             "pattern": {
              "fillmode": "overlay",
              "size": 10,
              "solidity": 0.2
             }
            },
            "type": "barpolar"
           }
          ],
          "carpet": [
           {
            "aaxis": {
             "endlinecolor": "#2a3f5f",
             "gridcolor": "white",
             "linecolor": "white",
             "minorgridcolor": "white",
             "startlinecolor": "#2a3f5f"
            },
            "baxis": {
             "endlinecolor": "#2a3f5f",
             "gridcolor": "white",
             "linecolor": "white",
             "minorgridcolor": "white",
             "startlinecolor": "#2a3f5f"
            },
            "type": "carpet"
           }
          ],
          "choropleth": [
           {
            "colorbar": {
             "outlinewidth": 0,
             "ticks": ""
            },
            "type": "choropleth"
           }
          ],
          "contour": [
           {
            "colorbar": {
             "outlinewidth": 0,
             "ticks": ""
            },
            "colorscale": [
             [
              0,
              "#0d0887"
             ],
             [
              0.1111111111111111,
              "#46039f"
             ],
             [
              0.2222222222222222,
              "#7201a8"
             ],
             [
              0.3333333333333333,
              "#9c179e"
             ],
             [
              0.4444444444444444,
              "#bd3786"
             ],
             [
              0.5555555555555556,
              "#d8576b"
             ],
             [
              0.6666666666666666,
              "#ed7953"
             ],
             [
              0.7777777777777778,
              "#fb9f3a"
             ],
             [
              0.8888888888888888,
              "#fdca26"
             ],
             [
              1,
              "#f0f921"
             ]
            ],
            "type": "contour"
           }
          ],
          "contourcarpet": [
           {
            "colorbar": {
             "outlinewidth": 0,
             "ticks": ""
            },
            "type": "contourcarpet"
           }
          ],
          "heatmap": [
           {
            "colorbar": {
             "outlinewidth": 0,
             "ticks": ""
            },
            "colorscale": [
             [
              0,
              "#0d0887"
             ],
             [
              0.1111111111111111,
              "#46039f"
             ],
             [
              0.2222222222222222,
              "#7201a8"
             ],
             [
              0.3333333333333333,
              "#9c179e"
             ],
             [
              0.4444444444444444,
              "#bd3786"
             ],
             [
              0.5555555555555556,
              "#d8576b"
             ],
             [
              0.6666666666666666,
              "#ed7953"
             ],
             [
              0.7777777777777778,
              "#fb9f3a"
             ],
             [
              0.8888888888888888,
              "#fdca26"
             ],
             [
              1,
              "#f0f921"
             ]
            ],
            "type": "heatmap"
           }
          ],
          "heatmapgl": [
           {
            "colorbar": {
             "outlinewidth": 0,
             "ticks": ""
            },
            "colorscale": [
             [
              0,
              "#0d0887"
             ],
             [
              0.1111111111111111,
              "#46039f"
             ],
             [
              0.2222222222222222,
              "#7201a8"
             ],
             [
              0.3333333333333333,
              "#9c179e"
             ],
             [
              0.4444444444444444,
              "#bd3786"
             ],
             [
              0.5555555555555556,
              "#d8576b"
             ],
             [
              0.6666666666666666,
              "#ed7953"
             ],
             [
              0.7777777777777778,
              "#fb9f3a"
             ],
             [
              0.8888888888888888,
              "#fdca26"
             ],
             [
              1,
              "#f0f921"
             ]
            ],
            "type": "heatmapgl"
           }
          ],
          "histogram": [
           {
            "marker": {
             "pattern": {
              "fillmode": "overlay",
              "size": 10,
              "solidity": 0.2
             }
            },
            "type": "histogram"
           }
          ],
          "histogram2d": [
           {
            "colorbar": {
             "outlinewidth": 0,
             "ticks": ""
            },
            "colorscale": [
             [
              0,
              "#0d0887"
             ],
             [
              0.1111111111111111,
              "#46039f"
             ],
             [
              0.2222222222222222,
              "#7201a8"
             ],
             [
              0.3333333333333333,
              "#9c179e"
             ],
             [
              0.4444444444444444,
              "#bd3786"
             ],
             [
              0.5555555555555556,
              "#d8576b"
             ],
             [
              0.6666666666666666,
              "#ed7953"
             ],
             [
              0.7777777777777778,
              "#fb9f3a"
             ],
             [
              0.8888888888888888,
              "#fdca26"
             ],
             [
              1,
              "#f0f921"
             ]
            ],
            "type": "histogram2d"
           }
          ],
          "histogram2dcontour": [
           {
            "colorbar": {
             "outlinewidth": 0,
             "ticks": ""
            },
            "colorscale": [
             [
              0,
              "#0d0887"
             ],
             [
              0.1111111111111111,
              "#46039f"
             ],
             [
              0.2222222222222222,
              "#7201a8"
             ],
             [
              0.3333333333333333,
              "#9c179e"
             ],
             [
              0.4444444444444444,
              "#bd3786"
             ],
             [
              0.5555555555555556,
              "#d8576b"
             ],
             [
              0.6666666666666666,
              "#ed7953"
             ],
             [
              0.7777777777777778,
              "#fb9f3a"
             ],
             [
              0.8888888888888888,
              "#fdca26"
             ],
             [
              1,
              "#f0f921"
             ]
            ],
            "type": "histogram2dcontour"
           }
          ],
          "mesh3d": [
           {
            "colorbar": {
             "outlinewidth": 0,
             "ticks": ""
            },
            "type": "mesh3d"
           }
          ],
          "parcoords": [
           {
            "line": {
             "colorbar": {
              "outlinewidth": 0,
              "ticks": ""
             }
            },
            "type": "parcoords"
           }
          ],
          "pie": [
           {
            "automargin": true,
            "type": "pie"
           }
          ],
          "scatter": [
           {
            "fillpattern": {
             "fillmode": "overlay",
             "size": 10,
             "solidity": 0.2
            },
            "type": "scatter"
           }
          ],
          "scatter3d": [
           {
            "line": {
             "colorbar": {
              "outlinewidth": 0,
              "ticks": ""
             }
            },
            "marker": {
             "colorbar": {
              "outlinewidth": 0,
              "ticks": ""
             }
            },
            "type": "scatter3d"
           }
          ],
          "scattercarpet": [
           {
            "marker": {
             "colorbar": {
              "outlinewidth": 0,
              "ticks": ""
             }
            },
            "type": "scattercarpet"
           }
          ],
          "scattergeo": [
           {
            "marker": {
             "colorbar": {
              "outlinewidth": 0,
              "ticks": ""
             }
            },
            "type": "scattergeo"
           }
          ],
          "scattergl": [
           {
            "marker": {
             "colorbar": {
              "outlinewidth": 0,
              "ticks": ""
             }
            },
            "type": "scattergl"
           }
          ],
          "scattermapbox": [
           {
            "marker": {
             "colorbar": {
              "outlinewidth": 0,
              "ticks": ""
             }
            },
            "type": "scattermapbox"
           }
          ],
          "scatterpolar": [
           {
            "marker": {
             "colorbar": {
              "outlinewidth": 0,
              "ticks": ""
             }
            },
            "type": "scatterpolar"
           }
          ],
          "scatterpolargl": [
           {
            "marker": {
             "colorbar": {
              "outlinewidth": 0,
              "ticks": ""
             }
            },
            "type": "scatterpolargl"
           }
          ],
          "scatterternary": [
           {
            "marker": {
             "colorbar": {
              "outlinewidth": 0,
              "ticks": ""
             }
            },
            "type": "scatterternary"
           }
          ],
          "surface": [
           {
            "colorbar": {
             "outlinewidth": 0,
             "ticks": ""
            },
            "colorscale": [
             [
              0,
              "#0d0887"
             ],
             [
              0.1111111111111111,
              "#46039f"
             ],
             [
              0.2222222222222222,
              "#7201a8"
             ],
             [
              0.3333333333333333,
              "#9c179e"
             ],
             [
              0.4444444444444444,
              "#bd3786"
             ],
             [
              0.5555555555555556,
              "#d8576b"
             ],
             [
              0.6666666666666666,
              "#ed7953"
             ],
             [
              0.7777777777777778,
              "#fb9f3a"
             ],
             [
              0.8888888888888888,
              "#fdca26"
             ],
             [
              1,
              "#f0f921"
             ]
            ],
            "type": "surface"
           }
          ],
          "table": [
           {
            "cells": {
             "fill": {
              "color": "#EBF0F8"
             },
             "line": {
              "color": "white"
             }
            },
            "header": {
             "fill": {
              "color": "#C8D4E3"
             },
             "line": {
              "color": "white"
             }
            },
            "type": "table"
           }
          ]
         },
         "layout": {
          "annotationdefaults": {
           "arrowcolor": "#2a3f5f",
           "arrowhead": 0,
           "arrowwidth": 1
          },
          "autotypenumbers": "strict",
          "coloraxis": {
           "colorbar": {
            "outlinewidth": 0,
            "ticks": ""
           }
          },
          "colorscale": {
           "diverging": [
            [
             0,
             "#8e0152"
            ],
            [
             0.1,
             "#c51b7d"
            ],
            [
             0.2,
             "#de77ae"
            ],
            [
             0.3,
             "#f1b6da"
            ],
            [
             0.4,
             "#fde0ef"
            ],
            [
             0.5,
             "#f7f7f7"
            ],
            [
             0.6,
             "#e6f5d0"
            ],
            [
             0.7,
             "#b8e186"
            ],
            [
             0.8,
             "#7fbc41"
            ],
            [
             0.9,
             "#4d9221"
            ],
            [
             1,
             "#276419"
            ]
           ],
           "sequential": [
            [
             0,
             "#0d0887"
            ],
            [
             0.1111111111111111,
             "#46039f"
            ],
            [
             0.2222222222222222,
             "#7201a8"
            ],
            [
             0.3333333333333333,
             "#9c179e"
            ],
            [
             0.4444444444444444,
             "#bd3786"
            ],
            [
             0.5555555555555556,
             "#d8576b"
            ],
            [
             0.6666666666666666,
             "#ed7953"
            ],
            [
             0.7777777777777778,
             "#fb9f3a"
            ],
            [
             0.8888888888888888,
             "#fdca26"
            ],
            [
             1,
             "#f0f921"
            ]
           ],
           "sequentialminus": [
            [
             0,
             "#0d0887"
            ],
            [
             0.1111111111111111,
             "#46039f"
            ],
            [
             0.2222222222222222,
             "#7201a8"
            ],
            [
             0.3333333333333333,
             "#9c179e"
            ],
            [
             0.4444444444444444,
             "#bd3786"
            ],
            [
             0.5555555555555556,
             "#d8576b"
            ],
            [
             0.6666666666666666,
             "#ed7953"
            ],
            [
             0.7777777777777778,
             "#fb9f3a"
            ],
            [
             0.8888888888888888,
             "#fdca26"
            ],
            [
             1,
             "#f0f921"
            ]
           ]
          },
          "colorway": [
           "#636efa",
           "#EF553B",
           "#00cc96",
           "#ab63fa",
           "#FFA15A",
           "#19d3f3",
           "#FF6692",
           "#B6E880",
           "#FF97FF",
           "#FECB52"
          ],
          "font": {
           "color": "#2a3f5f"
          },
          "geo": {
           "bgcolor": "white",
           "lakecolor": "white",
           "landcolor": "#E5ECF6",
           "showlakes": true,
           "showland": true,
           "subunitcolor": "white"
          },
          "hoverlabel": {
           "align": "left"
          },
          "hovermode": "closest",
          "mapbox": {
           "style": "light"
          },
          "paper_bgcolor": "white",
          "plot_bgcolor": "#E5ECF6",
          "polar": {
           "angularaxis": {
            "gridcolor": "white",
            "linecolor": "white",
            "ticks": ""
           },
           "bgcolor": "#E5ECF6",
           "radialaxis": {
            "gridcolor": "white",
            "linecolor": "white",
            "ticks": ""
           }
          },
          "scene": {
           "xaxis": {
            "backgroundcolor": "#E5ECF6",
            "gridcolor": "white",
            "gridwidth": 2,
            "linecolor": "white",
            "showbackground": true,
            "ticks": "",
            "zerolinecolor": "white"
           },
           "yaxis": {
            "backgroundcolor": "#E5ECF6",
            "gridcolor": "white",
            "gridwidth": 2,
            "linecolor": "white",
            "showbackground": true,
            "ticks": "",
            "zerolinecolor": "white"
           },
           "zaxis": {
            "backgroundcolor": "#E5ECF6",
            "gridcolor": "white",
            "gridwidth": 2,
            "linecolor": "white",
            "showbackground": true,
            "ticks": "",
            "zerolinecolor": "white"
           }
          },
          "shapedefaults": {
           "line": {
            "color": "#2a3f5f"
           }
          },
          "ternary": {
           "aaxis": {
            "gridcolor": "white",
            "linecolor": "white",
            "ticks": ""
           },
           "baxis": {
            "gridcolor": "white",
            "linecolor": "white",
            "ticks": ""
           },
           "bgcolor": "#E5ECF6",
           "caxis": {
            "gridcolor": "white",
            "linecolor": "white",
            "ticks": ""
           }
          },
          "title": {
           "x": 0.05
          },
          "xaxis": {
           "automargin": true,
           "gridcolor": "white",
           "linecolor": "white",
           "ticks": "",
           "title": {
            "standoff": 15
           },
           "zerolinecolor": "white",
           "zerolinewidth": 2
          },
          "yaxis": {
           "automargin": true,
           "gridcolor": "white",
           "linecolor": "white",
           "ticks": "",
           "title": {
            "standoff": 15
           },
           "zerolinecolor": "white",
           "zerolinewidth": 2
          }
         }
        },
        "title": {
         "text": "tp",
         "x": 0.5
        },
        "yaxis": {
         "tickmode": "array",
         "tickvals": [
          "0.71",
          0.3,
          0.8
         ]
        }
       }
      }
     },
     "metadata": {},
     "output_type": "display_data"
    }
   ],
   "source": [
    "genVisMulitlabel(partEvalMetrics, \"tp\")"
   ]
  },
  {
   "cell_type": "code",
   "execution_count": 8,
   "metadata": {},
   "outputs": [
    {
     "data": {
      "application/vnd.plotly.v1+json": {
       "config": {
        "plotlyServerURL": "https://plot.ly"
       },
       "data": [
        {
         "text": [
          0.6205509130300216,
          0.9350039154267815,
          0.9499623372430862,
          0.4751934456076468,
          0.8953574060427414,
          0.9414201864426286,
          0.9758089852340559,
          0.9130285321416294,
          0.7885339656855908,
          0.8595220854453295,
          0.8976377952755905,
          0.8839487565938207,
          0.9705882352941176,
          0.9116532976827094,
          0.8508355321020229,
          0.29643183897529735,
          0.5532004197271774,
          0.8542311661506707,
          0.8412381427858213,
          0.674936511037312,
          0.8952571495822055,
          0.863859649122807,
          0.6033041401273885,
          0.8794642857142857
         ],
         "type": "bar",
         "x": [
          "vision_bumper_rear",
          "vision_door_front_rh",
          "vision_door_rear_rh",
          "vision_misc",
          "vision_rear_compartment",
          "vision_rear_panel",
          "vision_rear_quarter_rh",
          "vision_tail_lamp_rh",
          "vision_non_external",
          "vision_wheel",
          "vision_door_front_lh",
          "vision_door_rear_lh",
          "vision_rear_quarter_lh",
          "vision_tail_lamp_lh",
          "vision_bonnet",
          "vision_bumper_front",
          "vision_engine",
          "vision_fender_front_lh",
          "vision_front_panel",
          "vision_headlamp_lh",
          "vision_windscreen_front",
          "vision_grille",
          "vision_headlamp_rh",
          "vision_fender_front_rh"
         ],
         "y": [
          0.6205509130300216,
          0.9350039154267815,
          0.9499623372430862,
          0.4751934456076468,
          0.8953574060427414,
          0.9414201864426286,
          0.9758089852340559,
          0.9130285321416294,
          0.7885339656855908,
          0.8595220854453295,
          0.8976377952755905,
          0.8839487565938207,
          0.9705882352941176,
          0.9116532976827094,
          0.8508355321020229,
          0.29643183897529735,
          0.5532004197271774,
          0.8542311661506707,
          0.8412381427858213,
          0.674936511037312,
          0.8952571495822055,
          0.863859649122807,
          0.6033041401273885,
          0.8794642857142857
         ]
        }
       ],
       "layout": {
        "shapes": [
         {
          "line": {
           "color": "red",
           "width": 2
          },
          "type": "line",
          "x0": 0,
          "x1": 1,
          "xref": "x domain",
          "y0": 0.8054570288529473,
          "y1": 0.8054570288529473,
          "yref": "y"
         }
        ],
        "template": {
         "data": {
          "bar": [
           {
            "error_x": {
             "color": "#2a3f5f"
            },
            "error_y": {
             "color": "#2a3f5f"
            },
            "marker": {
             "line": {
              "color": "#E5ECF6",
              "width": 0.5
             },
             "pattern": {
              "fillmode": "overlay",
              "size": 10,
              "solidity": 0.2
             }
            },
            "type": "bar"
           }
          ],
          "barpolar": [
           {
            "marker": {
             "line": {
              "color": "#E5ECF6",
              "width": 0.5
             },
             "pattern": {
              "fillmode": "overlay",
              "size": 10,
              "solidity": 0.2
             }
            },
            "type": "barpolar"
           }
          ],
          "carpet": [
           {
            "aaxis": {
             "endlinecolor": "#2a3f5f",
             "gridcolor": "white",
             "linecolor": "white",
             "minorgridcolor": "white",
             "startlinecolor": "#2a3f5f"
            },
            "baxis": {
             "endlinecolor": "#2a3f5f",
             "gridcolor": "white",
             "linecolor": "white",
             "minorgridcolor": "white",
             "startlinecolor": "#2a3f5f"
            },
            "type": "carpet"
           }
          ],
          "choropleth": [
           {
            "colorbar": {
             "outlinewidth": 0,
             "ticks": ""
            },
            "type": "choropleth"
           }
          ],
          "contour": [
           {
            "colorbar": {
             "outlinewidth": 0,
             "ticks": ""
            },
            "colorscale": [
             [
              0,
              "#0d0887"
             ],
             [
              0.1111111111111111,
              "#46039f"
             ],
             [
              0.2222222222222222,
              "#7201a8"
             ],
             [
              0.3333333333333333,
              "#9c179e"
             ],
             [
              0.4444444444444444,
              "#bd3786"
             ],
             [
              0.5555555555555556,
              "#d8576b"
             ],
             [
              0.6666666666666666,
              "#ed7953"
             ],
             [
              0.7777777777777778,
              "#fb9f3a"
             ],
             [
              0.8888888888888888,
              "#fdca26"
             ],
             [
              1,
              "#f0f921"
             ]
            ],
            "type": "contour"
           }
          ],
          "contourcarpet": [
           {
            "colorbar": {
             "outlinewidth": 0,
             "ticks": ""
            },
            "type": "contourcarpet"
           }
          ],
          "heatmap": [
           {
            "colorbar": {
             "outlinewidth": 0,
             "ticks": ""
            },
            "colorscale": [
             [
              0,
              "#0d0887"
             ],
             [
              0.1111111111111111,
              "#46039f"
             ],
             [
              0.2222222222222222,
              "#7201a8"
             ],
             [
              0.3333333333333333,
              "#9c179e"
             ],
             [
              0.4444444444444444,
              "#bd3786"
             ],
             [
              0.5555555555555556,
              "#d8576b"
             ],
             [
              0.6666666666666666,
              "#ed7953"
             ],
             [
              0.7777777777777778,
              "#fb9f3a"
             ],
             [
              0.8888888888888888,
              "#fdca26"
             ],
             [
              1,
              "#f0f921"
             ]
            ],
            "type": "heatmap"
           }
          ],
          "heatmapgl": [
           {
            "colorbar": {
             "outlinewidth": 0,
             "ticks": ""
            },
            "colorscale": [
             [
              0,
              "#0d0887"
             ],
             [
              0.1111111111111111,
              "#46039f"
             ],
             [
              0.2222222222222222,
              "#7201a8"
             ],
             [
              0.3333333333333333,
              "#9c179e"
             ],
             [
              0.4444444444444444,
              "#bd3786"
             ],
             [
              0.5555555555555556,
              "#d8576b"
             ],
             [
              0.6666666666666666,
              "#ed7953"
             ],
             [
              0.7777777777777778,
              "#fb9f3a"
             ],
             [
              0.8888888888888888,
              "#fdca26"
             ],
             [
              1,
              "#f0f921"
             ]
            ],
            "type": "heatmapgl"
           }
          ],
          "histogram": [
           {
            "marker": {
             "pattern": {
              "fillmode": "overlay",
              "size": 10,
              "solidity": 0.2
             }
            },
            "type": "histogram"
           }
          ],
          "histogram2d": [
           {
            "colorbar": {
             "outlinewidth": 0,
             "ticks": ""
            },
            "colorscale": [
             [
              0,
              "#0d0887"
             ],
             [
              0.1111111111111111,
              "#46039f"
             ],
             [
              0.2222222222222222,
              "#7201a8"
             ],
             [
              0.3333333333333333,
              "#9c179e"
             ],
             [
              0.4444444444444444,
              "#bd3786"
             ],
             [
              0.5555555555555556,
              "#d8576b"
             ],
             [
              0.6666666666666666,
              "#ed7953"
             ],
             [
              0.7777777777777778,
              "#fb9f3a"
             ],
             [
              0.8888888888888888,
              "#fdca26"
             ],
             [
              1,
              "#f0f921"
             ]
            ],
            "type": "histogram2d"
           }
          ],
          "histogram2dcontour": [
           {
            "colorbar": {
             "outlinewidth": 0,
             "ticks": ""
            },
            "colorscale": [
             [
              0,
              "#0d0887"
             ],
             [
              0.1111111111111111,
              "#46039f"
             ],
             [
              0.2222222222222222,
              "#7201a8"
             ],
             [
              0.3333333333333333,
              "#9c179e"
             ],
             [
              0.4444444444444444,
              "#bd3786"
             ],
             [
              0.5555555555555556,
              "#d8576b"
             ],
             [
              0.6666666666666666,
              "#ed7953"
             ],
             [
              0.7777777777777778,
              "#fb9f3a"
             ],
             [
              0.8888888888888888,
              "#fdca26"
             ],
             [
              1,
              "#f0f921"
             ]
            ],
            "type": "histogram2dcontour"
           }
          ],
          "mesh3d": [
           {
            "colorbar": {
             "outlinewidth": 0,
             "ticks": ""
            },
            "type": "mesh3d"
           }
          ],
          "parcoords": [
           {
            "line": {
             "colorbar": {
              "outlinewidth": 0,
              "ticks": ""
             }
            },
            "type": "parcoords"
           }
          ],
          "pie": [
           {
            "automargin": true,
            "type": "pie"
           }
          ],
          "scatter": [
           {
            "fillpattern": {
             "fillmode": "overlay",
             "size": 10,
             "solidity": 0.2
            },
            "type": "scatter"
           }
          ],
          "scatter3d": [
           {
            "line": {
             "colorbar": {
              "outlinewidth": 0,
              "ticks": ""
             }
            },
            "marker": {
             "colorbar": {
              "outlinewidth": 0,
              "ticks": ""
             }
            },
            "type": "scatter3d"
           }
          ],
          "scattercarpet": [
           {
            "marker": {
             "colorbar": {
              "outlinewidth": 0,
              "ticks": ""
             }
            },
            "type": "scattercarpet"
           }
          ],
          "scattergeo": [
           {
            "marker": {
             "colorbar": {
              "outlinewidth": 0,
              "ticks": ""
             }
            },
            "type": "scattergeo"
           }
          ],
          "scattergl": [
           {
            "marker": {
             "colorbar": {
              "outlinewidth": 0,
              "ticks": ""
             }
            },
            "type": "scattergl"
           }
          ],
          "scattermapbox": [
           {
            "marker": {
             "colorbar": {
              "outlinewidth": 0,
              "ticks": ""
             }
            },
            "type": "scattermapbox"
           }
          ],
          "scatterpolar": [
           {
            "marker": {
             "colorbar": {
              "outlinewidth": 0,
              "ticks": ""
             }
            },
            "type": "scatterpolar"
           }
          ],
          "scatterpolargl": [
           {
            "marker": {
             "colorbar": {
              "outlinewidth": 0,
              "ticks": ""
             }
            },
            "type": "scatterpolargl"
           }
          ],
          "scatterternary": [
           {
            "marker": {
             "colorbar": {
              "outlinewidth": 0,
              "ticks": ""
             }
            },
            "type": "scatterternary"
           }
          ],
          "surface": [
           {
            "colorbar": {
             "outlinewidth": 0,
             "ticks": ""
            },
            "colorscale": [
             [
              0,
              "#0d0887"
             ],
             [
              0.1111111111111111,
              "#46039f"
             ],
             [
              0.2222222222222222,
              "#7201a8"
             ],
             [
              0.3333333333333333,
              "#9c179e"
             ],
             [
              0.4444444444444444,
              "#bd3786"
             ],
             [
              0.5555555555555556,
              "#d8576b"
             ],
             [
              0.6666666666666666,
              "#ed7953"
             ],
             [
              0.7777777777777778,
              "#fb9f3a"
             ],
             [
              0.8888888888888888,
              "#fdca26"
             ],
             [
              1,
              "#f0f921"
             ]
            ],
            "type": "surface"
           }
          ],
          "table": [
           {
            "cells": {
             "fill": {
              "color": "#EBF0F8"
             },
             "line": {
              "color": "white"
             }
            },
            "header": {
             "fill": {
              "color": "#C8D4E3"
             },
             "line": {
              "color": "white"
             }
            },
            "type": "table"
           }
          ]
         },
         "layout": {
          "annotationdefaults": {
           "arrowcolor": "#2a3f5f",
           "arrowhead": 0,
           "arrowwidth": 1
          },
          "autotypenumbers": "strict",
          "coloraxis": {
           "colorbar": {
            "outlinewidth": 0,
            "ticks": ""
           }
          },
          "colorscale": {
           "diverging": [
            [
             0,
             "#8e0152"
            ],
            [
             0.1,
             "#c51b7d"
            ],
            [
             0.2,
             "#de77ae"
            ],
            [
             0.3,
             "#f1b6da"
            ],
            [
             0.4,
             "#fde0ef"
            ],
            [
             0.5,
             "#f7f7f7"
            ],
            [
             0.6,
             "#e6f5d0"
            ],
            [
             0.7,
             "#b8e186"
            ],
            [
             0.8,
             "#7fbc41"
            ],
            [
             0.9,
             "#4d9221"
            ],
            [
             1,
             "#276419"
            ]
           ],
           "sequential": [
            [
             0,
             "#0d0887"
            ],
            [
             0.1111111111111111,
             "#46039f"
            ],
            [
             0.2222222222222222,
             "#7201a8"
            ],
            [
             0.3333333333333333,
             "#9c179e"
            ],
            [
             0.4444444444444444,
             "#bd3786"
            ],
            [
             0.5555555555555556,
             "#d8576b"
            ],
            [
             0.6666666666666666,
             "#ed7953"
            ],
            [
             0.7777777777777778,
             "#fb9f3a"
            ],
            [
             0.8888888888888888,
             "#fdca26"
            ],
            [
             1,
             "#f0f921"
            ]
           ],
           "sequentialminus": [
            [
             0,
             "#0d0887"
            ],
            [
             0.1111111111111111,
             "#46039f"
            ],
            [
             0.2222222222222222,
             "#7201a8"
            ],
            [
             0.3333333333333333,
             "#9c179e"
            ],
            [
             0.4444444444444444,
             "#bd3786"
            ],
            [
             0.5555555555555556,
             "#d8576b"
            ],
            [
             0.6666666666666666,
             "#ed7953"
            ],
            [
             0.7777777777777778,
             "#fb9f3a"
            ],
            [
             0.8888888888888888,
             "#fdca26"
            ],
            [
             1,
             "#f0f921"
            ]
           ]
          },
          "colorway": [
           "#636efa",
           "#EF553B",
           "#00cc96",
           "#ab63fa",
           "#FFA15A",
           "#19d3f3",
           "#FF6692",
           "#B6E880",
           "#FF97FF",
           "#FECB52"
          ],
          "font": {
           "color": "#2a3f5f"
          },
          "geo": {
           "bgcolor": "white",
           "lakecolor": "white",
           "landcolor": "#E5ECF6",
           "showlakes": true,
           "showland": true,
           "subunitcolor": "white"
          },
          "hoverlabel": {
           "align": "left"
          },
          "hovermode": "closest",
          "mapbox": {
           "style": "light"
          },
          "paper_bgcolor": "white",
          "plot_bgcolor": "#E5ECF6",
          "polar": {
           "angularaxis": {
            "gridcolor": "white",
            "linecolor": "white",
            "ticks": ""
           },
           "bgcolor": "#E5ECF6",
           "radialaxis": {
            "gridcolor": "white",
            "linecolor": "white",
            "ticks": ""
           }
          },
          "scene": {
           "xaxis": {
            "backgroundcolor": "#E5ECF6",
            "gridcolor": "white",
            "gridwidth": 2,
            "linecolor": "white",
            "showbackground": true,
            "ticks": "",
            "zerolinecolor": "white"
           },
           "yaxis": {
            "backgroundcolor": "#E5ECF6",
            "gridcolor": "white",
            "gridwidth": 2,
            "linecolor": "white",
            "showbackground": true,
            "ticks": "",
            "zerolinecolor": "white"
           },
           "zaxis": {
            "backgroundcolor": "#E5ECF6",
            "gridcolor": "white",
            "gridwidth": 2,
            "linecolor": "white",
            "showbackground": true,
            "ticks": "",
            "zerolinecolor": "white"
           }
          },
          "shapedefaults": {
           "line": {
            "color": "#2a3f5f"
           }
          },
          "ternary": {
           "aaxis": {
            "gridcolor": "white",
            "linecolor": "white",
            "ticks": ""
           },
           "baxis": {
            "gridcolor": "white",
            "linecolor": "white",
            "ticks": ""
           },
           "bgcolor": "#E5ECF6",
           "caxis": {
            "gridcolor": "white",
            "linecolor": "white",
            "ticks": ""
           }
          },
          "title": {
           "x": 0.05
          },
          "xaxis": {
           "automargin": true,
           "gridcolor": "white",
           "linecolor": "white",
           "ticks": "",
           "title": {
            "standoff": 15
           },
           "zerolinecolor": "white",
           "zerolinewidth": 2
          },
          "yaxis": {
           "automargin": true,
           "gridcolor": "white",
           "linecolor": "white",
           "ticks": "",
           "title": {
            "standoff": 15
           },
           "zerolinecolor": "white",
           "zerolinewidth": 2
          }
         }
        },
        "title": {
         "text": "tn",
         "x": 0.5
        },
        "yaxis": {
         "tickmode": "array",
         "tickvals": [
          "0.81",
          0.3,
          0.8
         ]
        }
       }
      }
     },
     "metadata": {},
     "output_type": "display_data"
    }
   ],
   "source": [
    "genVisMulitlabel(partEvalMetrics, \"tn\")"
   ]
  },
  {
   "cell_type": "code",
   "execution_count": 9,
   "metadata": {},
   "outputs": [
    {
     "data": {
      "application/vnd.plotly.v1+json": {
       "config": {
        "plotlyServerURL": "https://plot.ly"
       },
       "data": [
        {
         "text": [
          0.6965106176229815,
          0.7686329661959543,
          0.7635243086498317,
          0.6657281396416057,
          0.8534914048512954,
          0.8173920154181107,
          0.7162858673398661,
          0.7671976910511761,
          0.7527975374171507,
          0.70514027259431,
          0.7753702709846926,
          0.7914821138805953,
          0.7431416512793458,
          0.7995766488413547,
          0.8656263407902931,
          0.6332627875132402,
          0.7373451955369411,
          0.8190194976660827,
          0.7551261136464318,
          0.781946845971432,
          0.7576751483107301,
          0.6458428680396644,
          0.7700001408032442,
          0.8306717401725792
         ],
         "type": "bar",
         "x": [
          "vision_bumper_rear",
          "vision_door_front_rh",
          "vision_door_rear_rh",
          "vision_misc",
          "vision_rear_compartment",
          "vision_rear_panel",
          "vision_rear_quarter_rh",
          "vision_tail_lamp_rh",
          "vision_non_external",
          "vision_wheel",
          "vision_door_front_lh",
          "vision_door_rear_lh",
          "vision_rear_quarter_lh",
          "vision_tail_lamp_lh",
          "vision_bonnet",
          "vision_bumper_front",
          "vision_engine",
          "vision_fender_front_lh",
          "vision_front_panel",
          "vision_headlamp_lh",
          "vision_windscreen_front",
          "vision_grille",
          "vision_headlamp_rh",
          "vision_fender_front_rh"
         ],
         "y": [
          0.6965106176229815,
          0.7686329661959543,
          0.7635243086498317,
          0.6657281396416057,
          0.8534914048512954,
          0.8173920154181107,
          0.7162858673398661,
          0.7671976910511761,
          0.7527975374171507,
          0.70514027259431,
          0.7753702709846926,
          0.7914821138805953,
          0.7431416512793458,
          0.7995766488413547,
          0.8656263407902931,
          0.6332627875132402,
          0.7373451955369411,
          0.8190194976660827,
          0.7551261136464318,
          0.781946845971432,
          0.7576751483107301,
          0.6458428680396644,
          0.7700001408032442,
          0.8306717401725792
         ]
        }
       ],
       "layout": {
        "shapes": [
         {
          "line": {
           "color": "red",
           "width": 2
          },
          "type": "line",
          "x0": 0,
          "x1": 1,
          "xref": "x domain",
          "y0": 0.7588661743424545,
          "y1": 0.7588661743424545,
          "yref": "y"
         }
        ],
        "template": {
         "data": {
          "bar": [
           {
            "error_x": {
             "color": "#2a3f5f"
            },
            "error_y": {
             "color": "#2a3f5f"
            },
            "marker": {
             "line": {
              "color": "#E5ECF6",
              "width": 0.5
             },
             "pattern": {
              "fillmode": "overlay",
              "size": 10,
              "solidity": 0.2
             }
            },
            "type": "bar"
           }
          ],
          "barpolar": [
           {
            "marker": {
             "line": {
              "color": "#E5ECF6",
              "width": 0.5
             },
             "pattern": {
              "fillmode": "overlay",
              "size": 10,
              "solidity": 0.2
             }
            },
            "type": "barpolar"
           }
          ],
          "carpet": [
           {
            "aaxis": {
             "endlinecolor": "#2a3f5f",
             "gridcolor": "white",
             "linecolor": "white",
             "minorgridcolor": "white",
             "startlinecolor": "#2a3f5f"
            },
            "baxis": {
             "endlinecolor": "#2a3f5f",
             "gridcolor": "white",
             "linecolor": "white",
             "minorgridcolor": "white",
             "startlinecolor": "#2a3f5f"
            },
            "type": "carpet"
           }
          ],
          "choropleth": [
           {
            "colorbar": {
             "outlinewidth": 0,
             "ticks": ""
            },
            "type": "choropleth"
           }
          ],
          "contour": [
           {
            "colorbar": {
             "outlinewidth": 0,
             "ticks": ""
            },
            "colorscale": [
             [
              0,
              "#0d0887"
             ],
             [
              0.1111111111111111,
              "#46039f"
             ],
             [
              0.2222222222222222,
              "#7201a8"
             ],
             [
              0.3333333333333333,
              "#9c179e"
             ],
             [
              0.4444444444444444,
              "#bd3786"
             ],
             [
              0.5555555555555556,
              "#d8576b"
             ],
             [
              0.6666666666666666,
              "#ed7953"
             ],
             [
              0.7777777777777778,
              "#fb9f3a"
             ],
             [
              0.8888888888888888,
              "#fdca26"
             ],
             [
              1,
              "#f0f921"
             ]
            ],
            "type": "contour"
           }
          ],
          "contourcarpet": [
           {
            "colorbar": {
             "outlinewidth": 0,
             "ticks": ""
            },
            "type": "contourcarpet"
           }
          ],
          "heatmap": [
           {
            "colorbar": {
             "outlinewidth": 0,
             "ticks": ""
            },
            "colorscale": [
             [
              0,
              "#0d0887"
             ],
             [
              0.1111111111111111,
              "#46039f"
             ],
             [
              0.2222222222222222,
              "#7201a8"
             ],
             [
              0.3333333333333333,
              "#9c179e"
             ],
             [
              0.4444444444444444,
              "#bd3786"
             ],
             [
              0.5555555555555556,
              "#d8576b"
             ],
             [
              0.6666666666666666,
              "#ed7953"
             ],
             [
              0.7777777777777778,
              "#fb9f3a"
             ],
             [
              0.8888888888888888,
              "#fdca26"
             ],
             [
              1,
              "#f0f921"
             ]
            ],
            "type": "heatmap"
           }
          ],
          "heatmapgl": [
           {
            "colorbar": {
             "outlinewidth": 0,
             "ticks": ""
            },
            "colorscale": [
             [
              0,
              "#0d0887"
             ],
             [
              0.1111111111111111,
              "#46039f"
             ],
             [
              0.2222222222222222,
              "#7201a8"
             ],
             [
              0.3333333333333333,
              "#9c179e"
             ],
             [
              0.4444444444444444,
              "#bd3786"
             ],
             [
              0.5555555555555556,
              "#d8576b"
             ],
             [
              0.6666666666666666,
              "#ed7953"
             ],
             [
              0.7777777777777778,
              "#fb9f3a"
             ],
             [
              0.8888888888888888,
              "#fdca26"
             ],
             [
              1,
              "#f0f921"
             ]
            ],
            "type": "heatmapgl"
           }
          ],
          "histogram": [
           {
            "marker": {
             "pattern": {
              "fillmode": "overlay",
              "size": 10,
              "solidity": 0.2
             }
            },
            "type": "histogram"
           }
          ],
          "histogram2d": [
           {
            "colorbar": {
             "outlinewidth": 0,
             "ticks": ""
            },
            "colorscale": [
             [
              0,
              "#0d0887"
             ],
             [
              0.1111111111111111,
              "#46039f"
             ],
             [
              0.2222222222222222,
              "#7201a8"
             ],
             [
              0.3333333333333333,
              "#9c179e"
             ],
             [
              0.4444444444444444,
              "#bd3786"
             ],
             [
              0.5555555555555556,
              "#d8576b"
             ],
             [
              0.6666666666666666,
              "#ed7953"
             ],
             [
              0.7777777777777778,
              "#fb9f3a"
             ],
             [
              0.8888888888888888,
              "#fdca26"
             ],
             [
              1,
              "#f0f921"
             ]
            ],
            "type": "histogram2d"
           }
          ],
          "histogram2dcontour": [
           {
            "colorbar": {
             "outlinewidth": 0,
             "ticks": ""
            },
            "colorscale": [
             [
              0,
              "#0d0887"
             ],
             [
              0.1111111111111111,
              "#46039f"
             ],
             [
              0.2222222222222222,
              "#7201a8"
             ],
             [
              0.3333333333333333,
              "#9c179e"
             ],
             [
              0.4444444444444444,
              "#bd3786"
             ],
             [
              0.5555555555555556,
              "#d8576b"
             ],
             [
              0.6666666666666666,
              "#ed7953"
             ],
             [
              0.7777777777777778,
              "#fb9f3a"
             ],
             [
              0.8888888888888888,
              "#fdca26"
             ],
             [
              1,
              "#f0f921"
             ]
            ],
            "type": "histogram2dcontour"
           }
          ],
          "mesh3d": [
           {
            "colorbar": {
             "outlinewidth": 0,
             "ticks": ""
            },
            "type": "mesh3d"
           }
          ],
          "parcoords": [
           {
            "line": {
             "colorbar": {
              "outlinewidth": 0,
              "ticks": ""
             }
            },
            "type": "parcoords"
           }
          ],
          "pie": [
           {
            "automargin": true,
            "type": "pie"
           }
          ],
          "scatter": [
           {
            "fillpattern": {
             "fillmode": "overlay",
             "size": 10,
             "solidity": 0.2
            },
            "type": "scatter"
           }
          ],
          "scatter3d": [
           {
            "line": {
             "colorbar": {
              "outlinewidth": 0,
              "ticks": ""
             }
            },
            "marker": {
             "colorbar": {
              "outlinewidth": 0,
              "ticks": ""
             }
            },
            "type": "scatter3d"
           }
          ],
          "scattercarpet": [
           {
            "marker": {
             "colorbar": {
              "outlinewidth": 0,
              "ticks": ""
             }
            },
            "type": "scattercarpet"
           }
          ],
          "scattergeo": [
           {
            "marker": {
             "colorbar": {
              "outlinewidth": 0,
              "ticks": ""
             }
            },
            "type": "scattergeo"
           }
          ],
          "scattergl": [
           {
            "marker": {
             "colorbar": {
              "outlinewidth": 0,
              "ticks": ""
             }
            },
            "type": "scattergl"
           }
          ],
          "scattermapbox": [
           {
            "marker": {
             "colorbar": {
              "outlinewidth": 0,
              "ticks": ""
             }
            },
            "type": "scattermapbox"
           }
          ],
          "scatterpolar": [
           {
            "marker": {
             "colorbar": {
              "outlinewidth": 0,
              "ticks": ""
             }
            },
            "type": "scatterpolar"
           }
          ],
          "scatterpolargl": [
           {
            "marker": {
             "colorbar": {
              "outlinewidth": 0,
              "ticks": ""
             }
            },
            "type": "scatterpolargl"
           }
          ],
          "scatterternary": [
           {
            "marker": {
             "colorbar": {
              "outlinewidth": 0,
              "ticks": ""
             }
            },
            "type": "scatterternary"
           }
          ],
          "surface": [
           {
            "colorbar": {
             "outlinewidth": 0,
             "ticks": ""
            },
            "colorscale": [
             [
              0,
              "#0d0887"
             ],
             [
              0.1111111111111111,
              "#46039f"
             ],
             [
              0.2222222222222222,
              "#7201a8"
             ],
             [
              0.3333333333333333,
              "#9c179e"
             ],
             [
              0.4444444444444444,
              "#bd3786"
             ],
             [
              0.5555555555555556,
              "#d8576b"
             ],
             [
              0.6666666666666666,
              "#ed7953"
             ],
             [
              0.7777777777777778,
              "#fb9f3a"
             ],
             [
              0.8888888888888888,
              "#fdca26"
             ],
             [
              1,
              "#f0f921"
             ]
            ],
            "type": "surface"
           }
          ],
          "table": [
           {
            "cells": {
             "fill": {
              "color": "#EBF0F8"
             },
             "line": {
              "color": "white"
             }
            },
            "header": {
             "fill": {
              "color": "#C8D4E3"
             },
             "line": {
              "color": "white"
             }
            },
            "type": "table"
           }
          ]
         },
         "layout": {
          "annotationdefaults": {
           "arrowcolor": "#2a3f5f",
           "arrowhead": 0,
           "arrowwidth": 1
          },
          "autotypenumbers": "strict",
          "coloraxis": {
           "colorbar": {
            "outlinewidth": 0,
            "ticks": ""
           }
          },
          "colorscale": {
           "diverging": [
            [
             0,
             "#8e0152"
            ],
            [
             0.1,
             "#c51b7d"
            ],
            [
             0.2,
             "#de77ae"
            ],
            [
             0.3,
             "#f1b6da"
            ],
            [
             0.4,
             "#fde0ef"
            ],
            [
             0.5,
             "#f7f7f7"
            ],
            [
             0.6,
             "#e6f5d0"
            ],
            [
             0.7,
             "#b8e186"
            ],
            [
             0.8,
             "#7fbc41"
            ],
            [
             0.9,
             "#4d9221"
            ],
            [
             1,
             "#276419"
            ]
           ],
           "sequential": [
            [
             0,
             "#0d0887"
            ],
            [
             0.1111111111111111,
             "#46039f"
            ],
            [
             0.2222222222222222,
             "#7201a8"
            ],
            [
             0.3333333333333333,
             "#9c179e"
            ],
            [
             0.4444444444444444,
             "#bd3786"
            ],
            [
             0.5555555555555556,
             "#d8576b"
            ],
            [
             0.6666666666666666,
             "#ed7953"
            ],
            [
             0.7777777777777778,
             "#fb9f3a"
            ],
            [
             0.8888888888888888,
             "#fdca26"
            ],
            [
             1,
             "#f0f921"
            ]
           ],
           "sequentialminus": [
            [
             0,
             "#0d0887"
            ],
            [
             0.1111111111111111,
             "#46039f"
            ],
            [
             0.2222222222222222,
             "#7201a8"
            ],
            [
             0.3333333333333333,
             "#9c179e"
            ],
            [
             0.4444444444444444,
             "#bd3786"
            ],
            [
             0.5555555555555556,
             "#d8576b"
            ],
            [
             0.6666666666666666,
             "#ed7953"
            ],
            [
             0.7777777777777778,
             "#fb9f3a"
            ],
            [
             0.8888888888888888,
             "#fdca26"
            ],
            [
             1,
             "#f0f921"
            ]
           ]
          },
          "colorway": [
           "#636efa",
           "#EF553B",
           "#00cc96",
           "#ab63fa",
           "#FFA15A",
           "#19d3f3",
           "#FF6692",
           "#B6E880",
           "#FF97FF",
           "#FECB52"
          ],
          "font": {
           "color": "#2a3f5f"
          },
          "geo": {
           "bgcolor": "white",
           "lakecolor": "white",
           "landcolor": "#E5ECF6",
           "showlakes": true,
           "showland": true,
           "subunitcolor": "white"
          },
          "hoverlabel": {
           "align": "left"
          },
          "hovermode": "closest",
          "mapbox": {
           "style": "light"
          },
          "paper_bgcolor": "white",
          "plot_bgcolor": "#E5ECF6",
          "polar": {
           "angularaxis": {
            "gridcolor": "white",
            "linecolor": "white",
            "ticks": ""
           },
           "bgcolor": "#E5ECF6",
           "radialaxis": {
            "gridcolor": "white",
            "linecolor": "white",
            "ticks": ""
           }
          },
          "scene": {
           "xaxis": {
            "backgroundcolor": "#E5ECF6",
            "gridcolor": "white",
            "gridwidth": 2,
            "linecolor": "white",
            "showbackground": true,
            "ticks": "",
            "zerolinecolor": "white"
           },
           "yaxis": {
            "backgroundcolor": "#E5ECF6",
            "gridcolor": "white",
            "gridwidth": 2,
            "linecolor": "white",
            "showbackground": true,
            "ticks": "",
            "zerolinecolor": "white"
           },
           "zaxis": {
            "backgroundcolor": "#E5ECF6",
            "gridcolor": "white",
            "gridwidth": 2,
            "linecolor": "white",
            "showbackground": true,
            "ticks": "",
            "zerolinecolor": "white"
           }
          },
          "shapedefaults": {
           "line": {
            "color": "#2a3f5f"
           }
          },
          "ternary": {
           "aaxis": {
            "gridcolor": "white",
            "linecolor": "white",
            "ticks": ""
           },
           "baxis": {
            "gridcolor": "white",
            "linecolor": "white",
            "ticks": ""
           },
           "bgcolor": "#E5ECF6",
           "caxis": {
            "gridcolor": "white",
            "linecolor": "white",
            "ticks": ""
           }
          },
          "title": {
           "x": 0.05
          },
          "xaxis": {
           "automargin": true,
           "gridcolor": "white",
           "linecolor": "white",
           "ticks": "",
           "title": {
            "standoff": 15
           },
           "zerolinecolor": "white",
           "zerolinewidth": 2
          },
          "yaxis": {
           "automargin": true,
           "gridcolor": "white",
           "linecolor": "white",
           "ticks": "",
           "title": {
            "standoff": 15
           },
           "zerolinecolor": "white",
           "zerolinewidth": 2
          }
         }
        },
        "title": {
         "text": "acc",
         "x": 0.5
        },
        "yaxis": {
         "tickmode": "array",
         "tickvals": [
          "0.76",
          0.3,
          0.8
         ]
        }
       }
      }
     },
     "metadata": {},
     "output_type": "display_data"
    }
   ],
   "source": [
    "genVisMulitlabel(partEvalMetrics, \"acc\")"
   ]
  },
  {
   "cell_type": "code",
   "execution_count": 10,
   "metadata": {},
   "outputs": [
    {
     "data": {
      "application/vnd.plotly.v1+json": {
       "config": {
        "plotlyServerURL": "https://plot.ly"
       },
       "data": [
        {
         "text": [
          0.6705940676543152,
          0.9025922886160966,
          0.9202108876079139,
          0.6199998646508669,
          0.8857947737677215,
          0.9220954749229476,
          0.9497019951479161,
          0.8772176152687213,
          0.7722564861962935,
          0.796772971188989,
          0.8645043631312757,
          0.8576174915118471,
          0.9460440358093395,
          0.8861286616886846,
          0.8551212789928586,
          0.5796234817474594,
          0.6734612350551211,
          0.8431879374272807,
          0.8082067269507011,
          0.7322422121544538,
          0.8554944142050546,
          0.7586020341917334,
          0.7024911957845363,
          0.8664298283475547
         ],
         "type": "bar",
         "x": [
          "vision_bumper_rear",
          "vision_door_front_rh",
          "vision_door_rear_rh",
          "vision_misc",
          "vision_rear_compartment",
          "vision_rear_panel",
          "vision_rear_quarter_rh",
          "vision_tail_lamp_rh",
          "vision_non_external",
          "vision_wheel",
          "vision_door_front_lh",
          "vision_door_rear_lh",
          "vision_rear_quarter_lh",
          "vision_tail_lamp_lh",
          "vision_bonnet",
          "vision_bumper_front",
          "vision_engine",
          "vision_fender_front_lh",
          "vision_front_panel",
          "vision_headlamp_lh",
          "vision_windscreen_front",
          "vision_grille",
          "vision_headlamp_rh",
          "vision_fender_front_rh"
         ],
         "y": [
          0.6705940676543152,
          0.9025922886160966,
          0.9202108876079139,
          0.6199998646508669,
          0.8857947737677215,
          0.9220954749229476,
          0.9497019951479161,
          0.8772176152687213,
          0.7722564861962935,
          0.796772971188989,
          0.8645043631312757,
          0.8576174915118471,
          0.9460440358093395,
          0.8861286616886846,
          0.8551212789928586,
          0.5796234817474594,
          0.6734612350551211,
          0.8431879374272807,
          0.8082067269507011,
          0.7322422121544538,
          0.8554944142050546,
          0.7586020341917334,
          0.7024911957845363,
          0.8664298283475547
         ]
        }
       ],
       "layout": {
        "shapes": [
         {
          "line": {
           "color": "red",
           "width": 2
          },
          "type": "line",
          "x0": 0,
          "x1": 1,
          "xref": "x domain",
          "y0": 0.8144329717508202,
          "y1": 0.8144329717508202,
          "yref": "y"
         }
        ],
        "template": {
         "data": {
          "bar": [
           {
            "error_x": {
             "color": "#2a3f5f"
            },
            "error_y": {
             "color": "#2a3f5f"
            },
            "marker": {
             "line": {
              "color": "#E5ECF6",
              "width": 0.5
             },
             "pattern": {
              "fillmode": "overlay",
              "size": 10,
              "solidity": 0.2
             }
            },
            "type": "bar"
           }
          ],
          "barpolar": [
           {
            "marker": {
             "line": {
              "color": "#E5ECF6",
              "width": 0.5
             },
             "pattern": {
              "fillmode": "overlay",
              "size": 10,
              "solidity": 0.2
             }
            },
            "type": "barpolar"
           }
          ],
          "carpet": [
           {
            "aaxis": {
             "endlinecolor": "#2a3f5f",
             "gridcolor": "white",
             "linecolor": "white",
             "minorgridcolor": "white",
             "startlinecolor": "#2a3f5f"
            },
            "baxis": {
             "endlinecolor": "#2a3f5f",
             "gridcolor": "white",
             "linecolor": "white",
             "minorgridcolor": "white",
             "startlinecolor": "#2a3f5f"
            },
            "type": "carpet"
           }
          ],
          "choropleth": [
           {
            "colorbar": {
             "outlinewidth": 0,
             "ticks": ""
            },
            "type": "choropleth"
           }
          ],
          "contour": [
           {
            "colorbar": {
             "outlinewidth": 0,
             "ticks": ""
            },
            "colorscale": [
             [
              0,
              "#0d0887"
             ],
             [
              0.1111111111111111,
              "#46039f"
             ],
             [
              0.2222222222222222,
              "#7201a8"
             ],
             [
              0.3333333333333333,
              "#9c179e"
             ],
             [
              0.4444444444444444,
              "#bd3786"
             ],
             [
              0.5555555555555556,
              "#d8576b"
             ],
             [
              0.6666666666666666,
              "#ed7953"
             ],
             [
              0.7777777777777778,
              "#fb9f3a"
             ],
             [
              0.8888888888888888,
              "#fdca26"
             ],
             [
              1,
              "#f0f921"
             ]
            ],
            "type": "contour"
           }
          ],
          "contourcarpet": [
           {
            "colorbar": {
             "outlinewidth": 0,
             "ticks": ""
            },
            "type": "contourcarpet"
           }
          ],
          "heatmap": [
           {
            "colorbar": {
             "outlinewidth": 0,
             "ticks": ""
            },
            "colorscale": [
             [
              0,
              "#0d0887"
             ],
             [
              0.1111111111111111,
              "#46039f"
             ],
             [
              0.2222222222222222,
              "#7201a8"
             ],
             [
              0.3333333333333333,
              "#9c179e"
             ],
             [
              0.4444444444444444,
              "#bd3786"
             ],
             [
              0.5555555555555556,
              "#d8576b"
             ],
             [
              0.6666666666666666,
              "#ed7953"
             ],
             [
              0.7777777777777778,
              "#fb9f3a"
             ],
             [
              0.8888888888888888,
              "#fdca26"
             ],
             [
              1,
              "#f0f921"
             ]
            ],
            "type": "heatmap"
           }
          ],
          "heatmapgl": [
           {
            "colorbar": {
             "outlinewidth": 0,
             "ticks": ""
            },
            "colorscale": [
             [
              0,
              "#0d0887"
             ],
             [
              0.1111111111111111,
              "#46039f"
             ],
             [
              0.2222222222222222,
              "#7201a8"
             ],
             [
              0.3333333333333333,
              "#9c179e"
             ],
             [
              0.4444444444444444,
              "#bd3786"
             ],
             [
              0.5555555555555556,
              "#d8576b"
             ],
             [
              0.6666666666666666,
              "#ed7953"
             ],
             [
              0.7777777777777778,
              "#fb9f3a"
             ],
             [
              0.8888888888888888,
              "#fdca26"
             ],
             [
              1,
              "#f0f921"
             ]
            ],
            "type": "heatmapgl"
           }
          ],
          "histogram": [
           {
            "marker": {
             "pattern": {
              "fillmode": "overlay",
              "size": 10,
              "solidity": 0.2
             }
            },
            "type": "histogram"
           }
          ],
          "histogram2d": [
           {
            "colorbar": {
             "outlinewidth": 0,
             "ticks": ""
            },
            "colorscale": [
             [
              0,
              "#0d0887"
             ],
             [
              0.1111111111111111,
              "#46039f"
             ],
             [
              0.2222222222222222,
              "#7201a8"
             ],
             [
              0.3333333333333333,
              "#9c179e"
             ],
             [
              0.4444444444444444,
              "#bd3786"
             ],
             [
              0.5555555555555556,
              "#d8576b"
             ],
             [
              0.6666666666666666,
              "#ed7953"
             ],
             [
              0.7777777777777778,
              "#fb9f3a"
             ],
             [
              0.8888888888888888,
              "#fdca26"
             ],
             [
              1,
              "#f0f921"
             ]
            ],
            "type": "histogram2d"
           }
          ],
          "histogram2dcontour": [
           {
            "colorbar": {
             "outlinewidth": 0,
             "ticks": ""
            },
            "colorscale": [
             [
              0,
              "#0d0887"
             ],
             [
              0.1111111111111111,
              "#46039f"
             ],
             [
              0.2222222222222222,
              "#7201a8"
             ],
             [
              0.3333333333333333,
              "#9c179e"
             ],
             [
              0.4444444444444444,
              "#bd3786"
             ],
             [
              0.5555555555555556,
              "#d8576b"
             ],
             [
              0.6666666666666666,
              "#ed7953"
             ],
             [
              0.7777777777777778,
              "#fb9f3a"
             ],
             [
              0.8888888888888888,
              "#fdca26"
             ],
             [
              1,
              "#f0f921"
             ]
            ],
            "type": "histogram2dcontour"
           }
          ],
          "mesh3d": [
           {
            "colorbar": {
             "outlinewidth": 0,
             "ticks": ""
            },
            "type": "mesh3d"
           }
          ],
          "parcoords": [
           {
            "line": {
             "colorbar": {
              "outlinewidth": 0,
              "ticks": ""
             }
            },
            "type": "parcoords"
           }
          ],
          "pie": [
           {
            "automargin": true,
            "type": "pie"
           }
          ],
          "scatter": [
           {
            "fillpattern": {
             "fillmode": "overlay",
             "size": 10,
             "solidity": 0.2
            },
            "type": "scatter"
           }
          ],
          "scatter3d": [
           {
            "line": {
             "colorbar": {
              "outlinewidth": 0,
              "ticks": ""
             }
            },
            "marker": {
             "colorbar": {
              "outlinewidth": 0,
              "ticks": ""
             }
            },
            "type": "scatter3d"
           }
          ],
          "scattercarpet": [
           {
            "marker": {
             "colorbar": {
              "outlinewidth": 0,
              "ticks": ""
             }
            },
            "type": "scattercarpet"
           }
          ],
          "scattergeo": [
           {
            "marker": {
             "colorbar": {
              "outlinewidth": 0,
              "ticks": ""
             }
            },
            "type": "scattergeo"
           }
          ],
          "scattergl": [
           {
            "marker": {
             "colorbar": {
              "outlinewidth": 0,
              "ticks": ""
             }
            },
            "type": "scattergl"
           }
          ],
          "scattermapbox": [
           {
            "marker": {
             "colorbar": {
              "outlinewidth": 0,
              "ticks": ""
             }
            },
            "type": "scattermapbox"
           }
          ],
          "scatterpolar": [
           {
            "marker": {
             "colorbar": {
              "outlinewidth": 0,
              "ticks": ""
             }
            },
            "type": "scatterpolar"
           }
          ],
          "scatterpolargl": [
           {
            "marker": {
             "colorbar": {
              "outlinewidth": 0,
              "ticks": ""
             }
            },
            "type": "scatterpolargl"
           }
          ],
          "scatterternary": [
           {
            "marker": {
             "colorbar": {
              "outlinewidth": 0,
              "ticks": ""
             }
            },
            "type": "scatterternary"
           }
          ],
          "surface": [
           {
            "colorbar": {
             "outlinewidth": 0,
             "ticks": ""
            },
            "colorscale": [
             [
              0,
              "#0d0887"
             ],
             [
              0.1111111111111111,
              "#46039f"
             ],
             [
              0.2222222222222222,
              "#7201a8"
             ],
             [
              0.3333333333333333,
              "#9c179e"
             ],
             [
              0.4444444444444444,
              "#bd3786"
             ],
             [
              0.5555555555555556,
              "#d8576b"
             ],
             [
              0.6666666666666666,
              "#ed7953"
             ],
             [
              0.7777777777777778,
              "#fb9f3a"
             ],
             [
              0.8888888888888888,
              "#fdca26"
             ],
             [
              1,
              "#f0f921"
             ]
            ],
            "type": "surface"
           }
          ],
          "table": [
           {
            "cells": {
             "fill": {
              "color": "#EBF0F8"
             },
             "line": {
              "color": "white"
             }
            },
            "header": {
             "fill": {
              "color": "#C8D4E3"
             },
             "line": {
              "color": "white"
             }
            },
            "type": "table"
           }
          ]
         },
         "layout": {
          "annotationdefaults": {
           "arrowcolor": "#2a3f5f",
           "arrowhead": 0,
           "arrowwidth": 1
          },
          "autotypenumbers": "strict",
          "coloraxis": {
           "colorbar": {
            "outlinewidth": 0,
            "ticks": ""
           }
          },
          "colorscale": {
           "diverging": [
            [
             0,
             "#8e0152"
            ],
            [
             0.1,
             "#c51b7d"
            ],
            [
             0.2,
             "#de77ae"
            ],
            [
             0.3,
             "#f1b6da"
            ],
            [
             0.4,
             "#fde0ef"
            ],
            [
             0.5,
             "#f7f7f7"
            ],
            [
             0.6,
             "#e6f5d0"
            ],
            [
             0.7,
             "#b8e186"
            ],
            [
             0.8,
             "#7fbc41"
            ],
            [
             0.9,
             "#4d9221"
            ],
            [
             1,
             "#276419"
            ]
           ],
           "sequential": [
            [
             0,
             "#0d0887"
            ],
            [
             0.1111111111111111,
             "#46039f"
            ],
            [
             0.2222222222222222,
             "#7201a8"
            ],
            [
             0.3333333333333333,
             "#9c179e"
            ],
            [
             0.4444444444444444,
             "#bd3786"
            ],
            [
             0.5555555555555556,
             "#d8576b"
            ],
            [
             0.6666666666666666,
             "#ed7953"
            ],
            [
             0.7777777777777778,
             "#fb9f3a"
            ],
            [
             0.8888888888888888,
             "#fdca26"
            ],
            [
             1,
             "#f0f921"
            ]
           ],
           "sequentialminus": [
            [
             0,
             "#0d0887"
            ],
            [
             0.1111111111111111,
             "#46039f"
            ],
            [
             0.2222222222222222,
             "#7201a8"
            ],
            [
             0.3333333333333333,
             "#9c179e"
            ],
            [
             0.4444444444444444,
             "#bd3786"
            ],
            [
             0.5555555555555556,
             "#d8576b"
            ],
            [
             0.6666666666666666,
             "#ed7953"
            ],
            [
             0.7777777777777778,
             "#fb9f3a"
            ],
            [
             0.8888888888888888,
             "#fdca26"
            ],
            [
             1,
             "#f0f921"
            ]
           ]
          },
          "colorway": [
           "#636efa",
           "#EF553B",
           "#00cc96",
           "#ab63fa",
           "#FFA15A",
           "#19d3f3",
           "#FF6692",
           "#B6E880",
           "#FF97FF",
           "#FECB52"
          ],
          "font": {
           "color": "#2a3f5f"
          },
          "geo": {
           "bgcolor": "white",
           "lakecolor": "white",
           "landcolor": "#E5ECF6",
           "showlakes": true,
           "showland": true,
           "subunitcolor": "white"
          },
          "hoverlabel": {
           "align": "left"
          },
          "hovermode": "closest",
          "mapbox": {
           "style": "light"
          },
          "paper_bgcolor": "white",
          "plot_bgcolor": "#E5ECF6",
          "polar": {
           "angularaxis": {
            "gridcolor": "white",
            "linecolor": "white",
            "ticks": ""
           },
           "bgcolor": "#E5ECF6",
           "radialaxis": {
            "gridcolor": "white",
            "linecolor": "white",
            "ticks": ""
           }
          },
          "scene": {
           "xaxis": {
            "backgroundcolor": "#E5ECF6",
            "gridcolor": "white",
            "gridwidth": 2,
            "linecolor": "white",
            "showbackground": true,
            "ticks": "",
            "zerolinecolor": "white"
           },
           "yaxis": {
            "backgroundcolor": "#E5ECF6",
            "gridcolor": "white",
            "gridwidth": 2,
            "linecolor": "white",
            "showbackground": true,
            "ticks": "",
            "zerolinecolor": "white"
           },
           "zaxis": {
            "backgroundcolor": "#E5ECF6",
            "gridcolor": "white",
            "gridwidth": 2,
            "linecolor": "white",
            "showbackground": true,
            "ticks": "",
            "zerolinecolor": "white"
           }
          },
          "shapedefaults": {
           "line": {
            "color": "#2a3f5f"
           }
          },
          "ternary": {
           "aaxis": {
            "gridcolor": "white",
            "linecolor": "white",
            "ticks": ""
           },
           "baxis": {
            "gridcolor": "white",
            "linecolor": "white",
            "ticks": ""
           },
           "bgcolor": "#E5ECF6",
           "caxis": {
            "gridcolor": "white",
            "linecolor": "white",
            "ticks": ""
           }
          },
          "title": {
           "x": 0.05
          },
          "xaxis": {
           "automargin": true,
           "gridcolor": "white",
           "linecolor": "white",
           "ticks": "",
           "title": {
            "standoff": 15
           },
           "zerolinecolor": "white",
           "zerolinewidth": 2
          },
          "yaxis": {
           "automargin": true,
           "gridcolor": "white",
           "linecolor": "white",
           "ticks": "",
           "title": {
            "standoff": 15
           },
           "zerolinecolor": "white",
           "zerolinewidth": 2
          }
         }
        },
        "title": {
         "text": "precision",
         "x": 0.5
        },
        "yaxis": {
         "tickmode": "array",
         "tickvals": [
          "0.81",
          0.3,
          0.8
         ]
        }
       }
      }
     },
     "metadata": {},
     "output_type": "display_data"
    }
   ],
   "source": [
    "genVisMulitlabel(partEvalMetrics, \"precision\")"
   ]
  },
  {
   "cell_type": "code",
   "execution_count": 11,
   "metadata": {},
   "outputs": [
    {
     "data": {
      "application/vnd.plotly.v1+json": {
       "config": {
        "plotlyServerURL": "https://plot.ly"
       },
       "data": [
        {
         "text": [
          0.7724703222159413,
          0.6022620169651273,
          0.5770862800565771,
          0.8562628336755647,
          0.8116254036598493,
          0.6933638443935927,
          0.4567627494456763,
          0.6213668499607227,
          0.7170611091487107,
          0.5507584597432905,
          0.6531027466937945,
          0.69901547116737,
          0.515695067264574,
          0.6875,
          0.8804171494785632,
          0.9700937360511829,
          0.9214899713467049,
          0.7838078291814946,
          0.6690140845070423,
          0.8889571809055521,
          0.6200931470392548,
          0.42782608695652175,
          0.9366961414790996,
          0.7818791946308725
         ],
         "type": "bar",
         "x": [
          "vision_bumper_rear",
          "vision_door_front_rh",
          "vision_door_rear_rh",
          "vision_misc",
          "vision_rear_compartment",
          "vision_rear_panel",
          "vision_rear_quarter_rh",
          "vision_tail_lamp_rh",
          "vision_non_external",
          "vision_wheel",
          "vision_door_front_lh",
          "vision_door_rear_lh",
          "vision_rear_quarter_lh",
          "vision_tail_lamp_lh",
          "vision_bonnet",
          "vision_bumper_front",
          "vision_engine",
          "vision_fender_front_lh",
          "vision_front_panel",
          "vision_headlamp_lh",
          "vision_windscreen_front",
          "vision_grille",
          "vision_headlamp_rh",
          "vision_fender_front_rh"
         ],
         "y": [
          0.7724703222159413,
          0.6022620169651273,
          0.5770862800565771,
          0.8562628336755647,
          0.8116254036598493,
          0.6933638443935927,
          0.4567627494456763,
          0.6213668499607227,
          0.7170611091487107,
          0.5507584597432905,
          0.6531027466937945,
          0.69901547116737,
          0.515695067264574,
          0.6875,
          0.8804171494785632,
          0.9700937360511829,
          0.9214899713467049,
          0.7838078291814946,
          0.6690140845070423,
          0.8889571809055521,
          0.6200931470392548,
          0.42782608695652175,
          0.9366961414790996,
          0.7818791946308725
         ]
        }
       ],
       "layout": {
        "shapes": [
         {
          "line": {
           "color": "red",
           "width": 2
          },
          "type": "line",
          "x0": 0,
          "x1": 1,
          "xref": "x domain",
          "y0": 0.7122753198319617,
          "y1": 0.7122753198319617,
          "yref": "y"
         }
        ],
        "template": {
         "data": {
          "bar": [
           {
            "error_x": {
             "color": "#2a3f5f"
            },
            "error_y": {
             "color": "#2a3f5f"
            },
            "marker": {
             "line": {
              "color": "#E5ECF6",
              "width": 0.5
             },
             "pattern": {
              "fillmode": "overlay",
              "size": 10,
              "solidity": 0.2
             }
            },
            "type": "bar"
           }
          ],
          "barpolar": [
           {
            "marker": {
             "line": {
              "color": "#E5ECF6",
              "width": 0.5
             },
             "pattern": {
              "fillmode": "overlay",
              "size": 10,
              "solidity": 0.2
             }
            },
            "type": "barpolar"
           }
          ],
          "carpet": [
           {
            "aaxis": {
             "endlinecolor": "#2a3f5f",
             "gridcolor": "white",
             "linecolor": "white",
             "minorgridcolor": "white",
             "startlinecolor": "#2a3f5f"
            },
            "baxis": {
             "endlinecolor": "#2a3f5f",
             "gridcolor": "white",
             "linecolor": "white",
             "minorgridcolor": "white",
             "startlinecolor": "#2a3f5f"
            },
            "type": "carpet"
           }
          ],
          "choropleth": [
           {
            "colorbar": {
             "outlinewidth": 0,
             "ticks": ""
            },
            "type": "choropleth"
           }
          ],
          "contour": [
           {
            "colorbar": {
             "outlinewidth": 0,
             "ticks": ""
            },
            "colorscale": [
             [
              0,
              "#0d0887"
             ],
             [
              0.1111111111111111,
              "#46039f"
             ],
             [
              0.2222222222222222,
              "#7201a8"
             ],
             [
              0.3333333333333333,
              "#9c179e"
             ],
             [
              0.4444444444444444,
              "#bd3786"
             ],
             [
              0.5555555555555556,
              "#d8576b"
             ],
             [
              0.6666666666666666,
              "#ed7953"
             ],
             [
              0.7777777777777778,
              "#fb9f3a"
             ],
             [
              0.8888888888888888,
              "#fdca26"
             ],
             [
              1,
              "#f0f921"
             ]
            ],
            "type": "contour"
           }
          ],
          "contourcarpet": [
           {
            "colorbar": {
             "outlinewidth": 0,
             "ticks": ""
            },
            "type": "contourcarpet"
           }
          ],
          "heatmap": [
           {
            "colorbar": {
             "outlinewidth": 0,
             "ticks": ""
            },
            "colorscale": [
             [
              0,
              "#0d0887"
             ],
             [
              0.1111111111111111,
              "#46039f"
             ],
             [
              0.2222222222222222,
              "#7201a8"
             ],
             [
              0.3333333333333333,
              "#9c179e"
             ],
             [
              0.4444444444444444,
              "#bd3786"
             ],
             [
              0.5555555555555556,
              "#d8576b"
             ],
             [
              0.6666666666666666,
              "#ed7953"
             ],
             [
              0.7777777777777778,
              "#fb9f3a"
             ],
             [
              0.8888888888888888,
              "#fdca26"
             ],
             [
              1,
              "#f0f921"
             ]
            ],
            "type": "heatmap"
           }
          ],
          "heatmapgl": [
           {
            "colorbar": {
             "outlinewidth": 0,
             "ticks": ""
            },
            "colorscale": [
             [
              0,
              "#0d0887"
             ],
             [
              0.1111111111111111,
              "#46039f"
             ],
             [
              0.2222222222222222,
              "#7201a8"
             ],
             [
              0.3333333333333333,
              "#9c179e"
             ],
             [
              0.4444444444444444,
              "#bd3786"
             ],
             [
              0.5555555555555556,
              "#d8576b"
             ],
             [
              0.6666666666666666,
              "#ed7953"
             ],
             [
              0.7777777777777778,
              "#fb9f3a"
             ],
             [
              0.8888888888888888,
              "#fdca26"
             ],
             [
              1,
              "#f0f921"
             ]
            ],
            "type": "heatmapgl"
           }
          ],
          "histogram": [
           {
            "marker": {
             "pattern": {
              "fillmode": "overlay",
              "size": 10,
              "solidity": 0.2
             }
            },
            "type": "histogram"
           }
          ],
          "histogram2d": [
           {
            "colorbar": {
             "outlinewidth": 0,
             "ticks": ""
            },
            "colorscale": [
             [
              0,
              "#0d0887"
             ],
             [
              0.1111111111111111,
              "#46039f"
             ],
             [
              0.2222222222222222,
              "#7201a8"
             ],
             [
              0.3333333333333333,
              "#9c179e"
             ],
             [
              0.4444444444444444,
              "#bd3786"
             ],
             [
              0.5555555555555556,
              "#d8576b"
             ],
             [
              0.6666666666666666,
              "#ed7953"
             ],
             [
              0.7777777777777778,
              "#fb9f3a"
             ],
             [
              0.8888888888888888,
              "#fdca26"
             ],
             [
              1,
              "#f0f921"
             ]
            ],
            "type": "histogram2d"
           }
          ],
          "histogram2dcontour": [
           {
            "colorbar": {
             "outlinewidth": 0,
             "ticks": ""
            },
            "colorscale": [
             [
              0,
              "#0d0887"
             ],
             [
              0.1111111111111111,
              "#46039f"
             ],
             [
              0.2222222222222222,
              "#7201a8"
             ],
             [
              0.3333333333333333,
              "#9c179e"
             ],
             [
              0.4444444444444444,
              "#bd3786"
             ],
             [
              0.5555555555555556,
              "#d8576b"
             ],
             [
              0.6666666666666666,
              "#ed7953"
             ],
             [
              0.7777777777777778,
              "#fb9f3a"
             ],
             [
              0.8888888888888888,
              "#fdca26"
             ],
             [
              1,
              "#f0f921"
             ]
            ],
            "type": "histogram2dcontour"
           }
          ],
          "mesh3d": [
           {
            "colorbar": {
             "outlinewidth": 0,
             "ticks": ""
            },
            "type": "mesh3d"
           }
          ],
          "parcoords": [
           {
            "line": {
             "colorbar": {
              "outlinewidth": 0,
              "ticks": ""
             }
            },
            "type": "parcoords"
           }
          ],
          "pie": [
           {
            "automargin": true,
            "type": "pie"
           }
          ],
          "scatter": [
           {
            "fillpattern": {
             "fillmode": "overlay",
             "size": 10,
             "solidity": 0.2
            },
            "type": "scatter"
           }
          ],
          "scatter3d": [
           {
            "line": {
             "colorbar": {
              "outlinewidth": 0,
              "ticks": ""
             }
            },
            "marker": {
             "colorbar": {
              "outlinewidth": 0,
              "ticks": ""
             }
            },
            "type": "scatter3d"
           }
          ],
          "scattercarpet": [
           {
            "marker": {
             "colorbar": {
              "outlinewidth": 0,
              "ticks": ""
             }
            },
            "type": "scattercarpet"
           }
          ],
          "scattergeo": [
           {
            "marker": {
             "colorbar": {
              "outlinewidth": 0,
              "ticks": ""
             }
            },
            "type": "scattergeo"
           }
          ],
          "scattergl": [
           {
            "marker": {
             "colorbar": {
              "outlinewidth": 0,
              "ticks": ""
             }
            },
            "type": "scattergl"
           }
          ],
          "scattermapbox": [
           {
            "marker": {
             "colorbar": {
              "outlinewidth": 0,
              "ticks": ""
             }
            },
            "type": "scattermapbox"
           }
          ],
          "scatterpolar": [
           {
            "marker": {
             "colorbar": {
              "outlinewidth": 0,
              "ticks": ""
             }
            },
            "type": "scatterpolar"
           }
          ],
          "scatterpolargl": [
           {
            "marker": {
             "colorbar": {
              "outlinewidth": 0,
              "ticks": ""
             }
            },
            "type": "scatterpolargl"
           }
          ],
          "scatterternary": [
           {
            "marker": {
             "colorbar": {
              "outlinewidth": 0,
              "ticks": ""
             }
            },
            "type": "scatterternary"
           }
          ],
          "surface": [
           {
            "colorbar": {
             "outlinewidth": 0,
             "ticks": ""
            },
            "colorscale": [
             [
              0,
              "#0d0887"
             ],
             [
              0.1111111111111111,
              "#46039f"
             ],
             [
              0.2222222222222222,
              "#7201a8"
             ],
             [
              0.3333333333333333,
              "#9c179e"
             ],
             [
              0.4444444444444444,
              "#bd3786"
             ],
             [
              0.5555555555555556,
              "#d8576b"
             ],
             [
              0.6666666666666666,
              "#ed7953"
             ],
             [
              0.7777777777777778,
              "#fb9f3a"
             ],
             [
              0.8888888888888888,
              "#fdca26"
             ],
             [
              1,
              "#f0f921"
             ]
            ],
            "type": "surface"
           }
          ],
          "table": [
           {
            "cells": {
             "fill": {
              "color": "#EBF0F8"
             },
             "line": {
              "color": "white"
             }
            },
            "header": {
             "fill": {
              "color": "#C8D4E3"
             },
             "line": {
              "color": "white"
             }
            },
            "type": "table"
           }
          ]
         },
         "layout": {
          "annotationdefaults": {
           "arrowcolor": "#2a3f5f",
           "arrowhead": 0,
           "arrowwidth": 1
          },
          "autotypenumbers": "strict",
          "coloraxis": {
           "colorbar": {
            "outlinewidth": 0,
            "ticks": ""
           }
          },
          "colorscale": {
           "diverging": [
            [
             0,
             "#8e0152"
            ],
            [
             0.1,
             "#c51b7d"
            ],
            [
             0.2,
             "#de77ae"
            ],
            [
             0.3,
             "#f1b6da"
            ],
            [
             0.4,
             "#fde0ef"
            ],
            [
             0.5,
             "#f7f7f7"
            ],
            [
             0.6,
             "#e6f5d0"
            ],
            [
             0.7,
             "#b8e186"
            ],
            [
             0.8,
             "#7fbc41"
            ],
            [
             0.9,
             "#4d9221"
            ],
            [
             1,
             "#276419"
            ]
           ],
           "sequential": [
            [
             0,
             "#0d0887"
            ],
            [
             0.1111111111111111,
             "#46039f"
            ],
            [
             0.2222222222222222,
             "#7201a8"
            ],
            [
             0.3333333333333333,
             "#9c179e"
            ],
            [
             0.4444444444444444,
             "#bd3786"
            ],
            [
             0.5555555555555556,
             "#d8576b"
            ],
            [
             0.6666666666666666,
             "#ed7953"
            ],
            [
             0.7777777777777778,
             "#fb9f3a"
            ],
            [
             0.8888888888888888,
             "#fdca26"
            ],
            [
             1,
             "#f0f921"
            ]
           ],
           "sequentialminus": [
            [
             0,
             "#0d0887"
            ],
            [
             0.1111111111111111,
             "#46039f"
            ],
            [
             0.2222222222222222,
             "#7201a8"
            ],
            [
             0.3333333333333333,
             "#9c179e"
            ],
            [
             0.4444444444444444,
             "#bd3786"
            ],
            [
             0.5555555555555556,
             "#d8576b"
            ],
            [
             0.6666666666666666,
             "#ed7953"
            ],
            [
             0.7777777777777778,
             "#fb9f3a"
            ],
            [
             0.8888888888888888,
             "#fdca26"
            ],
            [
             1,
             "#f0f921"
            ]
           ]
          },
          "colorway": [
           "#636efa",
           "#EF553B",
           "#00cc96",
           "#ab63fa",
           "#FFA15A",
           "#19d3f3",
           "#FF6692",
           "#B6E880",
           "#FF97FF",
           "#FECB52"
          ],
          "font": {
           "color": "#2a3f5f"
          },
          "geo": {
           "bgcolor": "white",
           "lakecolor": "white",
           "landcolor": "#E5ECF6",
           "showlakes": true,
           "showland": true,
           "subunitcolor": "white"
          },
          "hoverlabel": {
           "align": "left"
          },
          "hovermode": "closest",
          "mapbox": {
           "style": "light"
          },
          "paper_bgcolor": "white",
          "plot_bgcolor": "#E5ECF6",
          "polar": {
           "angularaxis": {
            "gridcolor": "white",
            "linecolor": "white",
            "ticks": ""
           },
           "bgcolor": "#E5ECF6",
           "radialaxis": {
            "gridcolor": "white",
            "linecolor": "white",
            "ticks": ""
           }
          },
          "scene": {
           "xaxis": {
            "backgroundcolor": "#E5ECF6",
            "gridcolor": "white",
            "gridwidth": 2,
            "linecolor": "white",
            "showbackground": true,
            "ticks": "",
            "zerolinecolor": "white"
           },
           "yaxis": {
            "backgroundcolor": "#E5ECF6",
            "gridcolor": "white",
            "gridwidth": 2,
            "linecolor": "white",
            "showbackground": true,
            "ticks": "",
            "zerolinecolor": "white"
           },
           "zaxis": {
            "backgroundcolor": "#E5ECF6",
            "gridcolor": "white",
            "gridwidth": 2,
            "linecolor": "white",
            "showbackground": true,
            "ticks": "",
            "zerolinecolor": "white"
           }
          },
          "shapedefaults": {
           "line": {
            "color": "#2a3f5f"
           }
          },
          "ternary": {
           "aaxis": {
            "gridcolor": "white",
            "linecolor": "white",
            "ticks": ""
           },
           "baxis": {
            "gridcolor": "white",
            "linecolor": "white",
            "ticks": ""
           },
           "bgcolor": "#E5ECF6",
           "caxis": {
            "gridcolor": "white",
            "linecolor": "white",
            "ticks": ""
           }
          },
          "title": {
           "x": 0.05
          },
          "xaxis": {
           "automargin": true,
           "gridcolor": "white",
           "linecolor": "white",
           "ticks": "",
           "title": {
            "standoff": 15
           },
           "zerolinecolor": "white",
           "zerolinewidth": 2
          },
          "yaxis": {
           "automargin": true,
           "gridcolor": "white",
           "linecolor": "white",
           "ticks": "",
           "title": {
            "standoff": 15
           },
           "zerolinecolor": "white",
           "zerolinewidth": 2
          }
         }
        },
        "title": {
         "text": "recall",
         "x": 0.5
        },
        "yaxis": {
         "tickmode": "array",
         "tickvals": [
          "0.71",
          0.3,
          0.8
         ]
        }
       }
      }
     },
     "metadata": {},
     "output_type": "display_data"
    }
   ],
   "source": [
    "genVisMulitlabel(partEvalMetrics, \"recall\")"
   ]
  },
  {
   "cell_type": "code",
   "execution_count": 12,
   "metadata": {},
   "outputs": [
    {
     "data": {
      "application/vnd.plotly.v1+json": {
       "config": {
        "plotlyServerURL": "https://plot.ly"
       },
       "data": [
        {
         "text": [
          0.7179361075684243,
          0.7224580482283243,
          0.7093329092788423,
          0.7192254354001552,
          0.8470896603910423,
          0.7915366926862663,
          0.6168494391704823,
          0.7274517506040312,
          0.7436360038584268,
          0.6513086734808581,
          0.7440795057356927,
          0.7702366701508313,
          0.667520273154076,
          0.7742785445420326,
          0.8675848676798719,
          0.7256667248107542,
          0.7781902941019645,
          0.8124142919000196,
          0.7320526211511791,
          0.8030251867146799,
          0.7190169360489544,
          0.5471039232134844,
          0.8028622202668739,
          0.8219859831482794
         ],
         "type": "bar",
         "x": [
          "vision_bumper_rear",
          "vision_door_front_rh",
          "vision_door_rear_rh",
          "vision_misc",
          "vision_rear_compartment",
          "vision_rear_panel",
          "vision_rear_quarter_rh",
          "vision_tail_lamp_rh",
          "vision_non_external",
          "vision_wheel",
          "vision_door_front_lh",
          "vision_door_rear_lh",
          "vision_rear_quarter_lh",
          "vision_tail_lamp_lh",
          "vision_bonnet",
          "vision_bumper_front",
          "vision_engine",
          "vision_fender_front_lh",
          "vision_front_panel",
          "vision_headlamp_lh",
          "vision_windscreen_front",
          "vision_grille",
          "vision_headlamp_rh",
          "vision_fender_front_rh"
         ],
         "y": [
          0.7179361075684243,
          0.7224580482283243,
          0.7093329092788423,
          0.7192254354001552,
          0.8470896603910423,
          0.7915366926862663,
          0.6168494391704823,
          0.7274517506040312,
          0.7436360038584268,
          0.6513086734808581,
          0.7440795057356927,
          0.7702366701508313,
          0.667520273154076,
          0.7742785445420326,
          0.8675848676798719,
          0.7256667248107542,
          0.7781902941019645,
          0.8124142919000196,
          0.7320526211511791,
          0.8030251867146799,
          0.7190169360489544,
          0.5471039232134844,
          0.8028622202668739,
          0.8219859831482794
         ]
        }
       ],
       "layout": {
        "shapes": [
         {
          "line": {
           "color": "red",
           "width": 2
          },
          "type": "line",
          "x0": 0,
          "x1": 1,
          "xref": "x domain",
          "y0": 0.7422017818035643,
          "y1": 0.7422017818035643,
          "yref": "y"
         }
        ],
        "template": {
         "data": {
          "bar": [
           {
            "error_x": {
             "color": "#2a3f5f"
            },
            "error_y": {
             "color": "#2a3f5f"
            },
            "marker": {
             "line": {
              "color": "#E5ECF6",
              "width": 0.5
             },
             "pattern": {
              "fillmode": "overlay",
              "size": 10,
              "solidity": 0.2
             }
            },
            "type": "bar"
           }
          ],
          "barpolar": [
           {
            "marker": {
             "line": {
              "color": "#E5ECF6",
              "width": 0.5
             },
             "pattern": {
              "fillmode": "overlay",
              "size": 10,
              "solidity": 0.2
             }
            },
            "type": "barpolar"
           }
          ],
          "carpet": [
           {
            "aaxis": {
             "endlinecolor": "#2a3f5f",
             "gridcolor": "white",
             "linecolor": "white",
             "minorgridcolor": "white",
             "startlinecolor": "#2a3f5f"
            },
            "baxis": {
             "endlinecolor": "#2a3f5f",
             "gridcolor": "white",
             "linecolor": "white",
             "minorgridcolor": "white",
             "startlinecolor": "#2a3f5f"
            },
            "type": "carpet"
           }
          ],
          "choropleth": [
           {
            "colorbar": {
             "outlinewidth": 0,
             "ticks": ""
            },
            "type": "choropleth"
           }
          ],
          "contour": [
           {
            "colorbar": {
             "outlinewidth": 0,
             "ticks": ""
            },
            "colorscale": [
             [
              0,
              "#0d0887"
             ],
             [
              0.1111111111111111,
              "#46039f"
             ],
             [
              0.2222222222222222,
              "#7201a8"
             ],
             [
              0.3333333333333333,
              "#9c179e"
             ],
             [
              0.4444444444444444,
              "#bd3786"
             ],
             [
              0.5555555555555556,
              "#d8576b"
             ],
             [
              0.6666666666666666,
              "#ed7953"
             ],
             [
              0.7777777777777778,
              "#fb9f3a"
             ],
             [
              0.8888888888888888,
              "#fdca26"
             ],
             [
              1,
              "#f0f921"
             ]
            ],
            "type": "contour"
           }
          ],
          "contourcarpet": [
           {
            "colorbar": {
             "outlinewidth": 0,
             "ticks": ""
            },
            "type": "contourcarpet"
           }
          ],
          "heatmap": [
           {
            "colorbar": {
             "outlinewidth": 0,
             "ticks": ""
            },
            "colorscale": [
             [
              0,
              "#0d0887"
             ],
             [
              0.1111111111111111,
              "#46039f"
             ],
             [
              0.2222222222222222,
              "#7201a8"
             ],
             [
              0.3333333333333333,
              "#9c179e"
             ],
             [
              0.4444444444444444,
              "#bd3786"
             ],
             [
              0.5555555555555556,
              "#d8576b"
             ],
             [
              0.6666666666666666,
              "#ed7953"
             ],
             [
              0.7777777777777778,
              "#fb9f3a"
             ],
             [
              0.8888888888888888,
              "#fdca26"
             ],
             [
              1,
              "#f0f921"
             ]
            ],
            "type": "heatmap"
           }
          ],
          "heatmapgl": [
           {
            "colorbar": {
             "outlinewidth": 0,
             "ticks": ""
            },
            "colorscale": [
             [
              0,
              "#0d0887"
             ],
             [
              0.1111111111111111,
              "#46039f"
             ],
             [
              0.2222222222222222,
              "#7201a8"
             ],
             [
              0.3333333333333333,
              "#9c179e"
             ],
             [
              0.4444444444444444,
              "#bd3786"
             ],
             [
              0.5555555555555556,
              "#d8576b"
             ],
             [
              0.6666666666666666,
              "#ed7953"
             ],
             [
              0.7777777777777778,
              "#fb9f3a"
             ],
             [
              0.8888888888888888,
              "#fdca26"
             ],
             [
              1,
              "#f0f921"
             ]
            ],
            "type": "heatmapgl"
           }
          ],
          "histogram": [
           {
            "marker": {
             "pattern": {
              "fillmode": "overlay",
              "size": 10,
              "solidity": 0.2
             }
            },
            "type": "histogram"
           }
          ],
          "histogram2d": [
           {
            "colorbar": {
             "outlinewidth": 0,
             "ticks": ""
            },
            "colorscale": [
             [
              0,
              "#0d0887"
             ],
             [
              0.1111111111111111,
              "#46039f"
             ],
             [
              0.2222222222222222,
              "#7201a8"
             ],
             [
              0.3333333333333333,
              "#9c179e"
             ],
             [
              0.4444444444444444,
              "#bd3786"
             ],
             [
              0.5555555555555556,
              "#d8576b"
             ],
             [
              0.6666666666666666,
              "#ed7953"
             ],
             [
              0.7777777777777778,
              "#fb9f3a"
             ],
             [
              0.8888888888888888,
              "#fdca26"
             ],
             [
              1,
              "#f0f921"
             ]
            ],
            "type": "histogram2d"
           }
          ],
          "histogram2dcontour": [
           {
            "colorbar": {
             "outlinewidth": 0,
             "ticks": ""
            },
            "colorscale": [
             [
              0,
              "#0d0887"
             ],
             [
              0.1111111111111111,
              "#46039f"
             ],
             [
              0.2222222222222222,
              "#7201a8"
             ],
             [
              0.3333333333333333,
              "#9c179e"
             ],
             [
              0.4444444444444444,
              "#bd3786"
             ],
             [
              0.5555555555555556,
              "#d8576b"
             ],
             [
              0.6666666666666666,
              "#ed7953"
             ],
             [
              0.7777777777777778,
              "#fb9f3a"
             ],
             [
              0.8888888888888888,
              "#fdca26"
             ],
             [
              1,
              "#f0f921"
             ]
            ],
            "type": "histogram2dcontour"
           }
          ],
          "mesh3d": [
           {
            "colorbar": {
             "outlinewidth": 0,
             "ticks": ""
            },
            "type": "mesh3d"
           }
          ],
          "parcoords": [
           {
            "line": {
             "colorbar": {
              "outlinewidth": 0,
              "ticks": ""
             }
            },
            "type": "parcoords"
           }
          ],
          "pie": [
           {
            "automargin": true,
            "type": "pie"
           }
          ],
          "scatter": [
           {
            "fillpattern": {
             "fillmode": "overlay",
             "size": 10,
             "solidity": 0.2
            },
            "type": "scatter"
           }
          ],
          "scatter3d": [
           {
            "line": {
             "colorbar": {
              "outlinewidth": 0,
              "ticks": ""
             }
            },
            "marker": {
             "colorbar": {
              "outlinewidth": 0,
              "ticks": ""
             }
            },
            "type": "scatter3d"
           }
          ],
          "scattercarpet": [
           {
            "marker": {
             "colorbar": {
              "outlinewidth": 0,
              "ticks": ""
             }
            },
            "type": "scattercarpet"
           }
          ],
          "scattergeo": [
           {
            "marker": {
             "colorbar": {
              "outlinewidth": 0,
              "ticks": ""
             }
            },
            "type": "scattergeo"
           }
          ],
          "scattergl": [
           {
            "marker": {
             "colorbar": {
              "outlinewidth": 0,
              "ticks": ""
             }
            },
            "type": "scattergl"
           }
          ],
          "scattermapbox": [
           {
            "marker": {
             "colorbar": {
              "outlinewidth": 0,
              "ticks": ""
             }
            },
            "type": "scattermapbox"
           }
          ],
          "scatterpolar": [
           {
            "marker": {
             "colorbar": {
              "outlinewidth": 0,
              "ticks": ""
             }
            },
            "type": "scatterpolar"
           }
          ],
          "scatterpolargl": [
           {
            "marker": {
             "colorbar": {
              "outlinewidth": 0,
              "ticks": ""
             }
            },
            "type": "scatterpolargl"
           }
          ],
          "scatterternary": [
           {
            "marker": {
             "colorbar": {
              "outlinewidth": 0,
              "ticks": ""
             }
            },
            "type": "scatterternary"
           }
          ],
          "surface": [
           {
            "colorbar": {
             "outlinewidth": 0,
             "ticks": ""
            },
            "colorscale": [
             [
              0,
              "#0d0887"
             ],
             [
              0.1111111111111111,
              "#46039f"
             ],
             [
              0.2222222222222222,
              "#7201a8"
             ],
             [
              0.3333333333333333,
              "#9c179e"
             ],
             [
              0.4444444444444444,
              "#bd3786"
             ],
             [
              0.5555555555555556,
              "#d8576b"
             ],
             [
              0.6666666666666666,
              "#ed7953"
             ],
             [
              0.7777777777777778,
              "#fb9f3a"
             ],
             [
              0.8888888888888888,
              "#fdca26"
             ],
             [
              1,
              "#f0f921"
             ]
            ],
            "type": "surface"
           }
          ],
          "table": [
           {
            "cells": {
             "fill": {
              "color": "#EBF0F8"
             },
             "line": {
              "color": "white"
             }
            },
            "header": {
             "fill": {
              "color": "#C8D4E3"
             },
             "line": {
              "color": "white"
             }
            },
            "type": "table"
           }
          ]
         },
         "layout": {
          "annotationdefaults": {
           "arrowcolor": "#2a3f5f",
           "arrowhead": 0,
           "arrowwidth": 1
          },
          "autotypenumbers": "strict",
          "coloraxis": {
           "colorbar": {
            "outlinewidth": 0,
            "ticks": ""
           }
          },
          "colorscale": {
           "diverging": [
            [
             0,
             "#8e0152"
            ],
            [
             0.1,
             "#c51b7d"
            ],
            [
             0.2,
             "#de77ae"
            ],
            [
             0.3,
             "#f1b6da"
            ],
            [
             0.4,
             "#fde0ef"
            ],
            [
             0.5,
             "#f7f7f7"
            ],
            [
             0.6,
             "#e6f5d0"
            ],
            [
             0.7,
             "#b8e186"
            ],
            [
             0.8,
             "#7fbc41"
            ],
            [
             0.9,
             "#4d9221"
            ],
            [
             1,
             "#276419"
            ]
           ],
           "sequential": [
            [
             0,
             "#0d0887"
            ],
            [
             0.1111111111111111,
             "#46039f"
            ],
            [
             0.2222222222222222,
             "#7201a8"
            ],
            [
             0.3333333333333333,
             "#9c179e"
            ],
            [
             0.4444444444444444,
             "#bd3786"
            ],
            [
             0.5555555555555556,
             "#d8576b"
            ],
            [
             0.6666666666666666,
             "#ed7953"
            ],
            [
             0.7777777777777778,
             "#fb9f3a"
            ],
            [
             0.8888888888888888,
             "#fdca26"
            ],
            [
             1,
             "#f0f921"
            ]
           ],
           "sequentialminus": [
            [
             0,
             "#0d0887"
            ],
            [
             0.1111111111111111,
             "#46039f"
            ],
            [
             0.2222222222222222,
             "#7201a8"
            ],
            [
             0.3333333333333333,
             "#9c179e"
            ],
            [
             0.4444444444444444,
             "#bd3786"
            ],
            [
             0.5555555555555556,
             "#d8576b"
            ],
            [
             0.6666666666666666,
             "#ed7953"
            ],
            [
             0.7777777777777778,
             "#fb9f3a"
            ],
            [
             0.8888888888888888,
             "#fdca26"
            ],
            [
             1,
             "#f0f921"
            ]
           ]
          },
          "colorway": [
           "#636efa",
           "#EF553B",
           "#00cc96",
           "#ab63fa",
           "#FFA15A",
           "#19d3f3",
           "#FF6692",
           "#B6E880",
           "#FF97FF",
           "#FECB52"
          ],
          "font": {
           "color": "#2a3f5f"
          },
          "geo": {
           "bgcolor": "white",
           "lakecolor": "white",
           "landcolor": "#E5ECF6",
           "showlakes": true,
           "showland": true,
           "subunitcolor": "white"
          },
          "hoverlabel": {
           "align": "left"
          },
          "hovermode": "closest",
          "mapbox": {
           "style": "light"
          },
          "paper_bgcolor": "white",
          "plot_bgcolor": "#E5ECF6",
          "polar": {
           "angularaxis": {
            "gridcolor": "white",
            "linecolor": "white",
            "ticks": ""
           },
           "bgcolor": "#E5ECF6",
           "radialaxis": {
            "gridcolor": "white",
            "linecolor": "white",
            "ticks": ""
           }
          },
          "scene": {
           "xaxis": {
            "backgroundcolor": "#E5ECF6",
            "gridcolor": "white",
            "gridwidth": 2,
            "linecolor": "white",
            "showbackground": true,
            "ticks": "",
            "zerolinecolor": "white"
           },
           "yaxis": {
            "backgroundcolor": "#E5ECF6",
            "gridcolor": "white",
            "gridwidth": 2,
            "linecolor": "white",
            "showbackground": true,
            "ticks": "",
            "zerolinecolor": "white"
           },
           "zaxis": {
            "backgroundcolor": "#E5ECF6",
            "gridcolor": "white",
            "gridwidth": 2,
            "linecolor": "white",
            "showbackground": true,
            "ticks": "",
            "zerolinecolor": "white"
           }
          },
          "shapedefaults": {
           "line": {
            "color": "#2a3f5f"
           }
          },
          "ternary": {
           "aaxis": {
            "gridcolor": "white",
            "linecolor": "white",
            "ticks": ""
           },
           "baxis": {
            "gridcolor": "white",
            "linecolor": "white",
            "ticks": ""
           },
           "bgcolor": "#E5ECF6",
           "caxis": {
            "gridcolor": "white",
            "linecolor": "white",
            "ticks": ""
           }
          },
          "title": {
           "x": 0.05
          },
          "xaxis": {
           "automargin": true,
           "gridcolor": "white",
           "linecolor": "white",
           "ticks": "",
           "title": {
            "standoff": 15
           },
           "zerolinecolor": "white",
           "zerolinewidth": 2
          },
          "yaxis": {
           "automargin": true,
           "gridcolor": "white",
           "linecolor": "white",
           "ticks": "",
           "title": {
            "standoff": 15
           },
           "zerolinecolor": "white",
           "zerolinewidth": 2
          }
         }
        },
        "title": {
         "text": "f1",
         "x": 0.5
        },
        "yaxis": {
         "tickmode": "array",
         "tickvals": [
          "0.74",
          0.3,
          0.8
         ]
        }
       }
      }
     },
     "metadata": {},
     "output_type": "display_data"
    }
   ],
   "source": [
    "genVisMulitlabel(partEvalMetrics, \"f1\")"
   ]
  },
  {
   "cell_type": "code",
   "execution_count": 13,
   "metadata": {},
   "outputs": [
    {
     "data": {
      "application/vnd.plotly.v1+json": {
       "config": {
        "plotlyServerURL": "https://plot.ly"
       },
       "data": [
        {
         "text": [
          0.3538,
          0.1061,
          0.0707,
          0.3409,
          0.1858,
          0.1311,
          0.0451,
          0.1273,
          0.2831,
          0.1714,
          0.0983,
          0.0711,
          0.0446,
          0.1024,
          0.4315,
          0.6721,
          0.5235,
          0.2248,
          0.1988,
          0.4881,
          0.1503,
          0.2875,
          0.4976,
          0.2384
         ],
         "type": "bar",
         "x": [
          "vision_bumper_rear",
          "vision_door_front_rh",
          "vision_door_rear_rh",
          "vision_misc",
          "vision_rear_compartment",
          "vision_rear_panel",
          "vision_rear_quarter_rh",
          "vision_tail_lamp_rh",
          "vision_non_external",
          "vision_wheel",
          "vision_door_front_lh",
          "vision_door_rear_lh",
          "vision_rear_quarter_lh",
          "vision_tail_lamp_lh",
          "vision_bonnet",
          "vision_bumper_front",
          "vision_engine",
          "vision_fender_front_lh",
          "vision_front_panel",
          "vision_headlamp_lh",
          "vision_windscreen_front",
          "vision_grille",
          "vision_headlamp_rh",
          "vision_fender_front_rh"
         ],
         "y": [
          0.3538,
          0.1061,
          0.0707,
          0.3409,
          0.1858,
          0.1311,
          0.0451,
          0.1273,
          0.2831,
          0.1714,
          0.0983,
          0.0711,
          0.0446,
          0.1024,
          0.4315,
          0.6721,
          0.5235,
          0.2248,
          0.1988,
          0.4881,
          0.1503,
          0.2875,
          0.4976,
          0.2384
         ]
        }
       ],
       "layout": {
        "shapes": [
         {
          "line": {
           "color": "red",
           "width": 2
          },
          "type": "line",
          "x0": 0,
          "x1": 1,
          "xref": "x domain",
          "y0": 0.24351250000000002,
          "y1": 0.24351250000000002,
          "yref": "y"
         }
        ],
        "template": {
         "data": {
          "bar": [
           {
            "error_x": {
             "color": "#2a3f5f"
            },
            "error_y": {
             "color": "#2a3f5f"
            },
            "marker": {
             "line": {
              "color": "#E5ECF6",
              "width": 0.5
             },
             "pattern": {
              "fillmode": "overlay",
              "size": 10,
              "solidity": 0.2
             }
            },
            "type": "bar"
           }
          ],
          "barpolar": [
           {
            "marker": {
             "line": {
              "color": "#E5ECF6",
              "width": 0.5
             },
             "pattern": {
              "fillmode": "overlay",
              "size": 10,
              "solidity": 0.2
             }
            },
            "type": "barpolar"
           }
          ],
          "carpet": [
           {
            "aaxis": {
             "endlinecolor": "#2a3f5f",
             "gridcolor": "white",
             "linecolor": "white",
             "minorgridcolor": "white",
             "startlinecolor": "#2a3f5f"
            },
            "baxis": {
             "endlinecolor": "#2a3f5f",
             "gridcolor": "white",
             "linecolor": "white",
             "minorgridcolor": "white",
             "startlinecolor": "#2a3f5f"
            },
            "type": "carpet"
           }
          ],
          "choropleth": [
           {
            "colorbar": {
             "outlinewidth": 0,
             "ticks": ""
            },
            "type": "choropleth"
           }
          ],
          "contour": [
           {
            "colorbar": {
             "outlinewidth": 0,
             "ticks": ""
            },
            "colorscale": [
             [
              0,
              "#0d0887"
             ],
             [
              0.1111111111111111,
              "#46039f"
             ],
             [
              0.2222222222222222,
              "#7201a8"
             ],
             [
              0.3333333333333333,
              "#9c179e"
             ],
             [
              0.4444444444444444,
              "#bd3786"
             ],
             [
              0.5555555555555556,
              "#d8576b"
             ],
             [
              0.6666666666666666,
              "#ed7953"
             ],
             [
              0.7777777777777778,
              "#fb9f3a"
             ],
             [
              0.8888888888888888,
              "#fdca26"
             ],
             [
              1,
              "#f0f921"
             ]
            ],
            "type": "contour"
           }
          ],
          "contourcarpet": [
           {
            "colorbar": {
             "outlinewidth": 0,
             "ticks": ""
            },
            "type": "contourcarpet"
           }
          ],
          "heatmap": [
           {
            "colorbar": {
             "outlinewidth": 0,
             "ticks": ""
            },
            "colorscale": [
             [
              0,
              "#0d0887"
             ],
             [
              0.1111111111111111,
              "#46039f"
             ],
             [
              0.2222222222222222,
              "#7201a8"
             ],
             [
              0.3333333333333333,
              "#9c179e"
             ],
             [
              0.4444444444444444,
              "#bd3786"
             ],
             [
              0.5555555555555556,
              "#d8576b"
             ],
             [
              0.6666666666666666,
              "#ed7953"
             ],
             [
              0.7777777777777778,
              "#fb9f3a"
             ],
             [
              0.8888888888888888,
              "#fdca26"
             ],
             [
              1,
              "#f0f921"
             ]
            ],
            "type": "heatmap"
           }
          ],
          "heatmapgl": [
           {
            "colorbar": {
             "outlinewidth": 0,
             "ticks": ""
            },
            "colorscale": [
             [
              0,
              "#0d0887"
             ],
             [
              0.1111111111111111,
              "#46039f"
             ],
             [
              0.2222222222222222,
              "#7201a8"
             ],
             [
              0.3333333333333333,
              "#9c179e"
             ],
             [
              0.4444444444444444,
              "#bd3786"
             ],
             [
              0.5555555555555556,
              "#d8576b"
             ],
             [
              0.6666666666666666,
              "#ed7953"
             ],
             [
              0.7777777777777778,
              "#fb9f3a"
             ],
             [
              0.8888888888888888,
              "#fdca26"
             ],
             [
              1,
              "#f0f921"
             ]
            ],
            "type": "heatmapgl"
           }
          ],
          "histogram": [
           {
            "marker": {
             "pattern": {
              "fillmode": "overlay",
              "size": 10,
              "solidity": 0.2
             }
            },
            "type": "histogram"
           }
          ],
          "histogram2d": [
           {
            "colorbar": {
             "outlinewidth": 0,
             "ticks": ""
            },
            "colorscale": [
             [
              0,
              "#0d0887"
             ],
             [
              0.1111111111111111,
              "#46039f"
             ],
             [
              0.2222222222222222,
              "#7201a8"
             ],
             [
              0.3333333333333333,
              "#9c179e"
             ],
             [
              0.4444444444444444,
              "#bd3786"
             ],
             [
              0.5555555555555556,
              "#d8576b"
             ],
             [
              0.6666666666666666,
              "#ed7953"
             ],
             [
              0.7777777777777778,
              "#fb9f3a"
             ],
             [
              0.8888888888888888,
              "#fdca26"
             ],
             [
              1,
              "#f0f921"
             ]
            ],
            "type": "histogram2d"
           }
          ],
          "histogram2dcontour": [
           {
            "colorbar": {
             "outlinewidth": 0,
             "ticks": ""
            },
            "colorscale": [
             [
              0,
              "#0d0887"
             ],
             [
              0.1111111111111111,
              "#46039f"
             ],
             [
              0.2222222222222222,
              "#7201a8"
             ],
             [
              0.3333333333333333,
              "#9c179e"
             ],
             [
              0.4444444444444444,
              "#bd3786"
             ],
             [
              0.5555555555555556,
              "#d8576b"
             ],
             [
              0.6666666666666666,
              "#ed7953"
             ],
             [
              0.7777777777777778,
              "#fb9f3a"
             ],
             [
              0.8888888888888888,
              "#fdca26"
             ],
             [
              1,
              "#f0f921"
             ]
            ],
            "type": "histogram2dcontour"
           }
          ],
          "mesh3d": [
           {
            "colorbar": {
             "outlinewidth": 0,
             "ticks": ""
            },
            "type": "mesh3d"
           }
          ],
          "parcoords": [
           {
            "line": {
             "colorbar": {
              "outlinewidth": 0,
              "ticks": ""
             }
            },
            "type": "parcoords"
           }
          ],
          "pie": [
           {
            "automargin": true,
            "type": "pie"
           }
          ],
          "scatter": [
           {
            "fillpattern": {
             "fillmode": "overlay",
             "size": 10,
             "solidity": 0.2
            },
            "type": "scatter"
           }
          ],
          "scatter3d": [
           {
            "line": {
             "colorbar": {
              "outlinewidth": 0,
              "ticks": ""
             }
            },
            "marker": {
             "colorbar": {
              "outlinewidth": 0,
              "ticks": ""
             }
            },
            "type": "scatter3d"
           }
          ],
          "scattercarpet": [
           {
            "marker": {
             "colorbar": {
              "outlinewidth": 0,
              "ticks": ""
             }
            },
            "type": "scattercarpet"
           }
          ],
          "scattergeo": [
           {
            "marker": {
             "colorbar": {
              "outlinewidth": 0,
              "ticks": ""
             }
            },
            "type": "scattergeo"
           }
          ],
          "scattergl": [
           {
            "marker": {
             "colorbar": {
              "outlinewidth": 0,
              "ticks": ""
             }
            },
            "type": "scattergl"
           }
          ],
          "scattermapbox": [
           {
            "marker": {
             "colorbar": {
              "outlinewidth": 0,
              "ticks": ""
             }
            },
            "type": "scattermapbox"
           }
          ],
          "scatterpolar": [
           {
            "marker": {
             "colorbar": {
              "outlinewidth": 0,
              "ticks": ""
             }
            },
            "type": "scatterpolar"
           }
          ],
          "scatterpolargl": [
           {
            "marker": {
             "colorbar": {
              "outlinewidth": 0,
              "ticks": ""
             }
            },
            "type": "scatterpolargl"
           }
          ],
          "scatterternary": [
           {
            "marker": {
             "colorbar": {
              "outlinewidth": 0,
              "ticks": ""
             }
            },
            "type": "scatterternary"
           }
          ],
          "surface": [
           {
            "colorbar": {
             "outlinewidth": 0,
             "ticks": ""
            },
            "colorscale": [
             [
              0,
              "#0d0887"
             ],
             [
              0.1111111111111111,
              "#46039f"
             ],
             [
              0.2222222222222222,
              "#7201a8"
             ],
             [
              0.3333333333333333,
              "#9c179e"
             ],
             [
              0.4444444444444444,
              "#bd3786"
             ],
             [
              0.5555555555555556,
              "#d8576b"
             ],
             [
              0.6666666666666666,
              "#ed7953"
             ],
             [
              0.7777777777777778,
              "#fb9f3a"
             ],
             [
              0.8888888888888888,
              "#fdca26"
             ],
             [
              1,
              "#f0f921"
             ]
            ],
            "type": "surface"
           }
          ],
          "table": [
           {
            "cells": {
             "fill": {
              "color": "#EBF0F8"
             },
             "line": {
              "color": "white"
             }
            },
            "header": {
             "fill": {
              "color": "#C8D4E3"
             },
             "line": {
              "color": "white"
             }
            },
            "type": "table"
           }
          ]
         },
         "layout": {
          "annotationdefaults": {
           "arrowcolor": "#2a3f5f",
           "arrowhead": 0,
           "arrowwidth": 1
          },
          "autotypenumbers": "strict",
          "coloraxis": {
           "colorbar": {
            "outlinewidth": 0,
            "ticks": ""
           }
          },
          "colorscale": {
           "diverging": [
            [
             0,
             "#8e0152"
            ],
            [
             0.1,
             "#c51b7d"
            ],
            [
             0.2,
             "#de77ae"
            ],
            [
             0.3,
             "#f1b6da"
            ],
            [
             0.4,
             "#fde0ef"
            ],
            [
             0.5,
             "#f7f7f7"
            ],
            [
             0.6,
             "#e6f5d0"
            ],
            [
             0.7,
             "#b8e186"
            ],
            [
             0.8,
             "#7fbc41"
            ],
            [
             0.9,
             "#4d9221"
            ],
            [
             1,
             "#276419"
            ]
           ],
           "sequential": [
            [
             0,
             "#0d0887"
            ],
            [
             0.1111111111111111,
             "#46039f"
            ],
            [
             0.2222222222222222,
             "#7201a8"
            ],
            [
             0.3333333333333333,
             "#9c179e"
            ],
            [
             0.4444444444444444,
             "#bd3786"
            ],
            [
             0.5555555555555556,
             "#d8576b"
            ],
            [
             0.6666666666666666,
             "#ed7953"
            ],
            [
             0.7777777777777778,
             "#fb9f3a"
            ],
            [
             0.8888888888888888,
             "#fdca26"
            ],
            [
             1,
             "#f0f921"
            ]
           ],
           "sequentialminus": [
            [
             0,
             "#0d0887"
            ],
            [
             0.1111111111111111,
             "#46039f"
            ],
            [
             0.2222222222222222,
             "#7201a8"
            ],
            [
             0.3333333333333333,
             "#9c179e"
            ],
            [
             0.4444444444444444,
             "#bd3786"
            ],
            [
             0.5555555555555556,
             "#d8576b"
            ],
            [
             0.6666666666666666,
             "#ed7953"
            ],
            [
             0.7777777777777778,
             "#fb9f3a"
            ],
            [
             0.8888888888888888,
             "#fdca26"
            ],
            [
             1,
             "#f0f921"
            ]
           ]
          },
          "colorway": [
           "#636efa",
           "#EF553B",
           "#00cc96",
           "#ab63fa",
           "#FFA15A",
           "#19d3f3",
           "#FF6692",
           "#B6E880",
           "#FF97FF",
           "#FECB52"
          ],
          "font": {
           "color": "#2a3f5f"
          },
          "geo": {
           "bgcolor": "white",
           "lakecolor": "white",
           "landcolor": "#E5ECF6",
           "showlakes": true,
           "showland": true,
           "subunitcolor": "white"
          },
          "hoverlabel": {
           "align": "left"
          },
          "hovermode": "closest",
          "mapbox": {
           "style": "light"
          },
          "paper_bgcolor": "white",
          "plot_bgcolor": "#E5ECF6",
          "polar": {
           "angularaxis": {
            "gridcolor": "white",
            "linecolor": "white",
            "ticks": ""
           },
           "bgcolor": "#E5ECF6",
           "radialaxis": {
            "gridcolor": "white",
            "linecolor": "white",
            "ticks": ""
           }
          },
          "scene": {
           "xaxis": {
            "backgroundcolor": "#E5ECF6",
            "gridcolor": "white",
            "gridwidth": 2,
            "linecolor": "white",
            "showbackground": true,
            "ticks": "",
            "zerolinecolor": "white"
           },
           "yaxis": {
            "backgroundcolor": "#E5ECF6",
            "gridcolor": "white",
            "gridwidth": 2,
            "linecolor": "white",
            "showbackground": true,
            "ticks": "",
            "zerolinecolor": "white"
           },
           "zaxis": {
            "backgroundcolor": "#E5ECF6",
            "gridcolor": "white",
            "gridwidth": 2,
            "linecolor": "white",
            "showbackground": true,
            "ticks": "",
            "zerolinecolor": "white"
           }
          },
          "shapedefaults": {
           "line": {
            "color": "#2a3f5f"
           }
          },
          "ternary": {
           "aaxis": {
            "gridcolor": "white",
            "linecolor": "white",
            "ticks": ""
           },
           "baxis": {
            "gridcolor": "white",
            "linecolor": "white",
            "ticks": ""
           },
           "bgcolor": "#E5ECF6",
           "caxis": {
            "gridcolor": "white",
            "linecolor": "white",
            "ticks": ""
           }
          },
          "title": {
           "x": 0.05
          },
          "xaxis": {
           "automargin": true,
           "gridcolor": "white",
           "linecolor": "white",
           "ticks": "",
           "title": {
            "standoff": 15
           },
           "zerolinecolor": "white",
           "zerolinewidth": 2
          },
          "yaxis": {
           "automargin": true,
           "gridcolor": "white",
           "linecolor": "white",
           "ticks": "",
           "title": {
            "standoff": 15
           },
           "zerolinecolor": "white",
           "zerolinewidth": 2
          }
         }
        },
        "title": {
         "text": "gt_pos_ratio",
         "x": 0.5
        },
        "yaxis": {
         "tickmode": "array",
         "tickvals": [
          "0.24",
          0.3,
          0.8
         ]
        }
       }
      }
     },
     "metadata": {},
     "output_type": "display_data"
    }
   ],
   "source": [
    "genVisMulitlabel(partEvalMetrics, \"gt_pos_ratio\")"
   ]
  },
  {
   "cell_type": "code",
   "execution_count": 14,
   "metadata": {},
   "outputs": [
    {
     "data": {
      "application/vnd.plotly.v1+json": {
       "config": {
        "plotlyServerURL": "https://plot.ly"
       },
       "data": [
        {
         "text": [
          0.5185,
          0.122,
          0.0873,
          0.6378,
          0.236,
          0.1418,
          0.0437,
          0.155,
          0.3546,
          0.2108,
          0.1565,
          0.1575,
          0.0511,
          0.1497,
          0.4647,
          0.8827,
          0.6953,
          0.2892,
          0.2602,
          0.6003,
          0.1822,
          0.22,
          0.6654,
          0.2782
         ],
         "type": "bar",
         "x": [
          "vision_bumper_rear",
          "vision_door_front_rh",
          "vision_door_rear_rh",
          "vision_misc",
          "vision_rear_compartment",
          "vision_rear_panel",
          "vision_rear_quarter_rh",
          "vision_tail_lamp_rh",
          "vision_non_external",
          "vision_wheel",
          "vision_door_front_lh",
          "vision_door_rear_lh",
          "vision_rear_quarter_lh",
          "vision_tail_lamp_lh",
          "vision_bonnet",
          "vision_bumper_front",
          "vision_engine",
          "vision_fender_front_lh",
          "vision_front_panel",
          "vision_headlamp_lh",
          "vision_windscreen_front",
          "vision_grille",
          "vision_headlamp_rh",
          "vision_fender_front_rh"
         ],
         "y": [
          0.5185,
          0.122,
          0.0873,
          0.6378,
          0.236,
          0.1418,
          0.0437,
          0.155,
          0.3546,
          0.2108,
          0.1565,
          0.1575,
          0.0511,
          0.1497,
          0.4647,
          0.8827,
          0.6953,
          0.2892,
          0.2602,
          0.6003,
          0.1822,
          0.22,
          0.6654,
          0.2782
         ]
        }
       ],
       "layout": {
        "shapes": [
         {
          "line": {
           "color": "red",
           "width": 2
          },
          "type": "line",
          "x0": 0,
          "x1": 1,
          "xref": "x domain",
          "y0": 0.3150208333333333,
          "y1": 0.3150208333333333,
          "yref": "y"
         }
        ],
        "template": {
         "data": {
          "bar": [
           {
            "error_x": {
             "color": "#2a3f5f"
            },
            "error_y": {
             "color": "#2a3f5f"
            },
            "marker": {
             "line": {
              "color": "#E5ECF6",
              "width": 0.5
             },
             "pattern": {
              "fillmode": "overlay",
              "size": 10,
              "solidity": 0.2
             }
            },
            "type": "bar"
           }
          ],
          "barpolar": [
           {
            "marker": {
             "line": {
              "color": "#E5ECF6",
              "width": 0.5
             },
             "pattern": {
              "fillmode": "overlay",
              "size": 10,
              "solidity": 0.2
             }
            },
            "type": "barpolar"
           }
          ],
          "carpet": [
           {
            "aaxis": {
             "endlinecolor": "#2a3f5f",
             "gridcolor": "white",
             "linecolor": "white",
             "minorgridcolor": "white",
             "startlinecolor": "#2a3f5f"
            },
            "baxis": {
             "endlinecolor": "#2a3f5f",
             "gridcolor": "white",
             "linecolor": "white",
             "minorgridcolor": "white",
             "startlinecolor": "#2a3f5f"
            },
            "type": "carpet"
           }
          ],
          "choropleth": [
           {
            "colorbar": {
             "outlinewidth": 0,
             "ticks": ""
            },
            "type": "choropleth"
           }
          ],
          "contour": [
           {
            "colorbar": {
             "outlinewidth": 0,
             "ticks": ""
            },
            "colorscale": [
             [
              0,
              "#0d0887"
             ],
             [
              0.1111111111111111,
              "#46039f"
             ],
             [
              0.2222222222222222,
              "#7201a8"
             ],
             [
              0.3333333333333333,
              "#9c179e"
             ],
             [
              0.4444444444444444,
              "#bd3786"
             ],
             [
              0.5555555555555556,
              "#d8576b"
             ],
             [
              0.6666666666666666,
              "#ed7953"
             ],
             [
              0.7777777777777778,
              "#fb9f3a"
             ],
             [
              0.8888888888888888,
              "#fdca26"
             ],
             [
              1,
              "#f0f921"
             ]
            ],
            "type": "contour"
           }
          ],
          "contourcarpet": [
           {
            "colorbar": {
             "outlinewidth": 0,
             "ticks": ""
            },
            "type": "contourcarpet"
           }
          ],
          "heatmap": [
           {
            "colorbar": {
             "outlinewidth": 0,
             "ticks": ""
            },
            "colorscale": [
             [
              0,
              "#0d0887"
             ],
             [
              0.1111111111111111,
              "#46039f"
             ],
             [
              0.2222222222222222,
              "#7201a8"
             ],
             [
              0.3333333333333333,
              "#9c179e"
             ],
             [
              0.4444444444444444,
              "#bd3786"
             ],
             [
              0.5555555555555556,
              "#d8576b"
             ],
             [
              0.6666666666666666,
              "#ed7953"
             ],
             [
              0.7777777777777778,
              "#fb9f3a"
             ],
             [
              0.8888888888888888,
              "#fdca26"
             ],
             [
              1,
              "#f0f921"
             ]
            ],
            "type": "heatmap"
           }
          ],
          "heatmapgl": [
           {
            "colorbar": {
             "outlinewidth": 0,
             "ticks": ""
            },
            "colorscale": [
             [
              0,
              "#0d0887"
             ],
             [
              0.1111111111111111,
              "#46039f"
             ],
             [
              0.2222222222222222,
              "#7201a8"
             ],
             [
              0.3333333333333333,
              "#9c179e"
             ],
             [
              0.4444444444444444,
              "#bd3786"
             ],
             [
              0.5555555555555556,
              "#d8576b"
             ],
             [
              0.6666666666666666,
              "#ed7953"
             ],
             [
              0.7777777777777778,
              "#fb9f3a"
             ],
             [
              0.8888888888888888,
              "#fdca26"
             ],
             [
              1,
              "#f0f921"
             ]
            ],
            "type": "heatmapgl"
           }
          ],
          "histogram": [
           {
            "marker": {
             "pattern": {
              "fillmode": "overlay",
              "size": 10,
              "solidity": 0.2
             }
            },
            "type": "histogram"
           }
          ],
          "histogram2d": [
           {
            "colorbar": {
             "outlinewidth": 0,
             "ticks": ""
            },
            "colorscale": [
             [
              0,
              "#0d0887"
             ],
             [
              0.1111111111111111,
              "#46039f"
             ],
             [
              0.2222222222222222,
              "#7201a8"
             ],
             [
              0.3333333333333333,
              "#9c179e"
             ],
             [
              0.4444444444444444,
              "#bd3786"
             ],
             [
              0.5555555555555556,
              "#d8576b"
             ],
             [
              0.6666666666666666,
              "#ed7953"
             ],
             [
              0.7777777777777778,
              "#fb9f3a"
             ],
             [
              0.8888888888888888,
              "#fdca26"
             ],
             [
              1,
              "#f0f921"
             ]
            ],
            "type": "histogram2d"
           }
          ],
          "histogram2dcontour": [
           {
            "colorbar": {
             "outlinewidth": 0,
             "ticks": ""
            },
            "colorscale": [
             [
              0,
              "#0d0887"
             ],
             [
              0.1111111111111111,
              "#46039f"
             ],
             [
              0.2222222222222222,
              "#7201a8"
             ],
             [
              0.3333333333333333,
              "#9c179e"
             ],
             [
              0.4444444444444444,
              "#bd3786"
             ],
             [
              0.5555555555555556,
              "#d8576b"
             ],
             [
              0.6666666666666666,
              "#ed7953"
             ],
             [
              0.7777777777777778,
              "#fb9f3a"
             ],
             [
              0.8888888888888888,
              "#fdca26"
             ],
             [
              1,
              "#f0f921"
             ]
            ],
            "type": "histogram2dcontour"
           }
          ],
          "mesh3d": [
           {
            "colorbar": {
             "outlinewidth": 0,
             "ticks": ""
            },
            "type": "mesh3d"
           }
          ],
          "parcoords": [
           {
            "line": {
             "colorbar": {
              "outlinewidth": 0,
              "ticks": ""
             }
            },
            "type": "parcoords"
           }
          ],
          "pie": [
           {
            "automargin": true,
            "type": "pie"
           }
          ],
          "scatter": [
           {
            "fillpattern": {
             "fillmode": "overlay",
             "size": 10,
             "solidity": 0.2
            },
            "type": "scatter"
           }
          ],
          "scatter3d": [
           {
            "line": {
             "colorbar": {
              "outlinewidth": 0,
              "ticks": ""
             }
            },
            "marker": {
             "colorbar": {
              "outlinewidth": 0,
              "ticks": ""
             }
            },
            "type": "scatter3d"
           }
          ],
          "scattercarpet": [
           {
            "marker": {
             "colorbar": {
              "outlinewidth": 0,
              "ticks": ""
             }
            },
            "type": "scattercarpet"
           }
          ],
          "scattergeo": [
           {
            "marker": {
             "colorbar": {
              "outlinewidth": 0,
              "ticks": ""
             }
            },
            "type": "scattergeo"
           }
          ],
          "scattergl": [
           {
            "marker": {
             "colorbar": {
              "outlinewidth": 0,
              "ticks": ""
             }
            },
            "type": "scattergl"
           }
          ],
          "scattermapbox": [
           {
            "marker": {
             "colorbar": {
              "outlinewidth": 0,
              "ticks": ""
             }
            },
            "type": "scattermapbox"
           }
          ],
          "scatterpolar": [
           {
            "marker": {
             "colorbar": {
              "outlinewidth": 0,
              "ticks": ""
             }
            },
            "type": "scatterpolar"
           }
          ],
          "scatterpolargl": [
           {
            "marker": {
             "colorbar": {
              "outlinewidth": 0,
              "ticks": ""
             }
            },
            "type": "scatterpolargl"
           }
          ],
          "scatterternary": [
           {
            "marker": {
             "colorbar": {
              "outlinewidth": 0,
              "ticks": ""
             }
            },
            "type": "scatterternary"
           }
          ],
          "surface": [
           {
            "colorbar": {
             "outlinewidth": 0,
             "ticks": ""
            },
            "colorscale": [
             [
              0,
              "#0d0887"
             ],
             [
              0.1111111111111111,
              "#46039f"
             ],
             [
              0.2222222222222222,
              "#7201a8"
             ],
             [
              0.3333333333333333,
              "#9c179e"
             ],
             [
              0.4444444444444444,
              "#bd3786"
             ],
             [
              0.5555555555555556,
              "#d8576b"
             ],
             [
              0.6666666666666666,
              "#ed7953"
             ],
             [
              0.7777777777777778,
              "#fb9f3a"
             ],
             [
              0.8888888888888888,
              "#fdca26"
             ],
             [
              1,
              "#f0f921"
             ]
            ],
            "type": "surface"
           }
          ],
          "table": [
           {
            "cells": {
             "fill": {
              "color": "#EBF0F8"
             },
             "line": {
              "color": "white"
             }
            },
            "header": {
             "fill": {
              "color": "#C8D4E3"
             },
             "line": {
              "color": "white"
             }
            },
            "type": "table"
           }
          ]
         },
         "layout": {
          "annotationdefaults": {
           "arrowcolor": "#2a3f5f",
           "arrowhead": 0,
           "arrowwidth": 1
          },
          "autotypenumbers": "strict",
          "coloraxis": {
           "colorbar": {
            "outlinewidth": 0,
            "ticks": ""
           }
          },
          "colorscale": {
           "diverging": [
            [
             0,
             "#8e0152"
            ],
            [
             0.1,
             "#c51b7d"
            ],
            [
             0.2,
             "#de77ae"
            ],
            [
             0.3,
             "#f1b6da"
            ],
            [
             0.4,
             "#fde0ef"
            ],
            [
             0.5,
             "#f7f7f7"
            ],
            [
             0.6,
             "#e6f5d0"
            ],
            [
             0.7,
             "#b8e186"
            ],
            [
             0.8,
             "#7fbc41"
            ],
            [
             0.9,
             "#4d9221"
            ],
            [
             1,
             "#276419"
            ]
           ],
           "sequential": [
            [
             0,
             "#0d0887"
            ],
            [
             0.1111111111111111,
             "#46039f"
            ],
            [
             0.2222222222222222,
             "#7201a8"
            ],
            [
             0.3333333333333333,
             "#9c179e"
            ],
            [
             0.4444444444444444,
             "#bd3786"
            ],
            [
             0.5555555555555556,
             "#d8576b"
            ],
            [
             0.6666666666666666,
             "#ed7953"
            ],
            [
             0.7777777777777778,
             "#fb9f3a"
            ],
            [
             0.8888888888888888,
             "#fdca26"
            ],
            [
             1,
             "#f0f921"
            ]
           ],
           "sequentialminus": [
            [
             0,
             "#0d0887"
            ],
            [
             0.1111111111111111,
             "#46039f"
            ],
            [
             0.2222222222222222,
             "#7201a8"
            ],
            [
             0.3333333333333333,
             "#9c179e"
            ],
            [
             0.4444444444444444,
             "#bd3786"
            ],
            [
             0.5555555555555556,
             "#d8576b"
            ],
            [
             0.6666666666666666,
             "#ed7953"
            ],
            [
             0.7777777777777778,
             "#fb9f3a"
            ],
            [
             0.8888888888888888,
             "#fdca26"
            ],
            [
             1,
             "#f0f921"
            ]
           ]
          },
          "colorway": [
           "#636efa",
           "#EF553B",
           "#00cc96",
           "#ab63fa",
           "#FFA15A",
           "#19d3f3",
           "#FF6692",
           "#B6E880",
           "#FF97FF",
           "#FECB52"
          ],
          "font": {
           "color": "#2a3f5f"
          },
          "geo": {
           "bgcolor": "white",
           "lakecolor": "white",
           "landcolor": "#E5ECF6",
           "showlakes": true,
           "showland": true,
           "subunitcolor": "white"
          },
          "hoverlabel": {
           "align": "left"
          },
          "hovermode": "closest",
          "mapbox": {
           "style": "light"
          },
          "paper_bgcolor": "white",
          "plot_bgcolor": "#E5ECF6",
          "polar": {
           "angularaxis": {
            "gridcolor": "white",
            "linecolor": "white",
            "ticks": ""
           },
           "bgcolor": "#E5ECF6",
           "radialaxis": {
            "gridcolor": "white",
            "linecolor": "white",
            "ticks": ""
           }
          },
          "scene": {
           "xaxis": {
            "backgroundcolor": "#E5ECF6",
            "gridcolor": "white",
            "gridwidth": 2,
            "linecolor": "white",
            "showbackground": true,
            "ticks": "",
            "zerolinecolor": "white"
           },
           "yaxis": {
            "backgroundcolor": "#E5ECF6",
            "gridcolor": "white",
            "gridwidth": 2,
            "linecolor": "white",
            "showbackground": true,
            "ticks": "",
            "zerolinecolor": "white"
           },
           "zaxis": {
            "backgroundcolor": "#E5ECF6",
            "gridcolor": "white",
            "gridwidth": 2,
            "linecolor": "white",
            "showbackground": true,
            "ticks": "",
            "zerolinecolor": "white"
           }
          },
          "shapedefaults": {
           "line": {
            "color": "#2a3f5f"
           }
          },
          "ternary": {
           "aaxis": {
            "gridcolor": "white",
            "linecolor": "white",
            "ticks": ""
           },
           "baxis": {
            "gridcolor": "white",
            "linecolor": "white",
            "ticks": ""
           },
           "bgcolor": "#E5ECF6",
           "caxis": {
            "gridcolor": "white",
            "linecolor": "white",
            "ticks": ""
           }
          },
          "title": {
           "x": 0.05
          },
          "xaxis": {
           "automargin": true,
           "gridcolor": "white",
           "linecolor": "white",
           "ticks": "",
           "title": {
            "standoff": 15
           },
           "zerolinecolor": "white",
           "zerolinewidth": 2
          },
          "yaxis": {
           "automargin": true,
           "gridcolor": "white",
           "linecolor": "white",
           "ticks": "",
           "title": {
            "standoff": 15
           },
           "zerolinecolor": "white",
           "zerolinewidth": 2
          }
         }
        },
        "title": {
         "text": "pred_pos_ratio",
         "x": 0.5
        },
        "yaxis": {
         "tickmode": "array",
         "tickvals": [
          "0.32",
          0.3,
          0.8
         ]
        }
       }
      }
     },
     "metadata": {},
     "output_type": "display_data"
    }
   ],
   "source": [
    "genVisMulitlabel(partEvalMetrics, \"pred_pos_ratio\")"
   ]
  },
  {
   "cell_type": "code",
   "execution_count": 15,
   "metadata": {},
   "outputs": [
    {
     "data": {
      "application/vnd.plotly.v1+json": {
       "config": {
        "plotlyServerURL": "https://plot.ly"
       },
       "data": [
        {
         "alignmentgroup": "True",
         "bingroup": "x",
         "hovertemplate": "subset_acc=%{x}<br>count=%{y}<extra></extra>",
         "legendgroup": "",
         "marker": {
          "color": "#636efa",
          "pattern": {
           "shape": ""
          }
         },
         "name": "",
         "offsetgroup": "",
         "orientation": "v",
         "showlegend": false,
         "type": "histogram",
         "x": [
          0.8333333333333334,
          0.875,
          0.6666666666666666,
          0.875,
          0.8333333333333334,
          0.875,
          0.875,
          0.875,
          0.7083333333333334,
          0.7083333333333334,
          0.875,
          0.8333333333333334,
          0.7916666666666666,
          0.9166666666666666,
          0.9583333333333334,
          0.9166666666666666,
          0.75,
          0.75,
          0.8333333333333334,
          0.75,
          0.875,
          0.7916666666666666,
          0.8333333333333334,
          0.875,
          0.9166666666666666,
          0.8333333333333334,
          0.7916666666666666,
          0.7916666666666666,
          0.8333333333333334,
          0.9166666666666666,
          0.75,
          0.7916666666666666,
          0.7916666666666666,
          0.7916666666666666,
          0.7916666666666666,
          0.875,
          0.8333333333333334,
          0.8333333333333334,
          0.9166666666666666,
          0.8333333333333334,
          0.8333333333333334,
          0.7916666666666666,
          0.875,
          0.875,
          0.9583333333333334,
          0.7916666666666666,
          0.7916666666666666,
          0.625,
          0.5833333333333334,
          0.8333333333333334,
          0.75,
          0.625,
          0.875,
          0.6666666666666666,
          0.9583333333333334,
          0.7916666666666666,
          0.9166666666666666,
          0.7916666666666666,
          1,
          0.7916666666666666,
          0.7916666666666666,
          0.9583333333333334,
          0.8333333333333334,
          0.875,
          0.875,
          0.875,
          0.875,
          0.9583333333333334,
          0.9166666666666666,
          0.9583333333333334,
          0.9583333333333334,
          0.9166666666666666,
          0.875,
          0.7916666666666666,
          0.9166666666666666,
          0.8333333333333334,
          0.8333333333333334,
          0.8333333333333334,
          0.7916666666666666,
          0.7916666666666666,
          0.8333333333333334,
          0.8333333333333334,
          0.8333333333333334,
          0.875,
          0.7916666666666666,
          0.7916666666666666,
          0.875,
          0.75,
          0.8333333333333334,
          0.7916666666666666,
          0.9166666666666666,
          0.75,
          0.9583333333333334,
          0.8333333333333334,
          0.7083333333333334,
          0.875,
          0.75,
          0.7916666666666666,
          0.9166666666666666,
          0.75,
          0.8333333333333334,
          0.7916666666666666,
          0.6666666666666666,
          0.9583333333333334,
          0.875,
          0.875,
          0.9166666666666666,
          0.9166666666666666,
          0.5,
          0.9583333333333334,
          0.875,
          0.8333333333333334,
          0.875,
          0.875,
          1,
          0.8333333333333334,
          0.7916666666666666,
          0.875,
          0.8333333333333334,
          0.9583333333333334,
          0.8333333333333334,
          0.8333333333333334,
          0.8333333333333334,
          0.9583333333333334,
          0.9583333333333334,
          0.9166666666666666,
          1,
          0.5416666666666666,
          0.8333333333333334,
          0.7916666666666666,
          0.7916666666666666,
          0.8333333333333334,
          0.9166666666666666,
          0.8333333333333334,
          0.9583333333333334,
          0.875,
          0.875,
          0.7916666666666666,
          0.7083333333333334,
          0.7916666666666666,
          1,
          0.7916666666666666,
          0.75,
          0.8333333333333334,
          0.9166666666666666,
          0.5833333333333334,
          0.75,
          0.8333333333333334,
          0.7916666666666666,
          0.7083333333333334,
          0.8333333333333334,
          0.8333333333333334,
          0.8333333333333334,
          0.8333333333333334,
          0.9583333333333334,
          0.75,
          0.9166666666666666,
          0.8333333333333334,
          0.7916666666666666,
          0.7083333333333334,
          0.7916666666666666,
          0.7916666666666666,
          0.9166666666666666,
          0.875,
          0.9166666666666666,
          0.875,
          0.7083333333333334,
          0.7916666666666666,
          1,
          0.875,
          0.8333333333333334,
          0.75,
          0.875,
          0.875,
          0.875,
          0.625,
          0.875,
          0.9166666666666666,
          0.9166666666666666,
          0.9166666666666666,
          0.9583333333333334,
          0.8333333333333334,
          0.875,
          0.75,
          0.75,
          0.7916666666666666,
          0.9166666666666666,
          0.875,
          0.7916666666666666,
          0.9166666666666666,
          0.9166666666666666,
          0.9166666666666666,
          0.9166666666666666,
          0.9583333333333334,
          0.9166666666666666,
          0.6666666666666666,
          0.9166666666666666,
          0.875,
          0.7083333333333334,
          0.75,
          0.6666666666666666,
          0.9583333333333334,
          0.75,
          0.8333333333333334,
          0.75,
          0.8333333333333334,
          0.8333333333333334,
          0.8333333333333334,
          0.9583333333333334,
          0.75,
          0.8333333333333334,
          0.875,
          0.7916666666666666,
          0.75,
          0.9583333333333334,
          0.9166666666666666,
          0.875,
          0.7916666666666666,
          0.9166666666666666,
          0.7083333333333334,
          0.9166666666666666,
          0.7916666666666666,
          0.875,
          0.7083333333333334,
          0.9166666666666666,
          0.875,
          0.875,
          0.75,
          0.8333333333333334,
          0.8333333333333334,
          0.9583333333333334,
          0.7916666666666666,
          0.9166666666666666,
          0.9166666666666666,
          0.875,
          0.8333333333333334,
          0.875,
          0.75,
          0.875,
          0.7083333333333334,
          0.9583333333333334,
          0.875,
          0.8333333333333334,
          0.7916666666666666,
          0.75,
          0.8333333333333334,
          0.9166666666666666,
          0.875,
          0.8333333333333334,
          0.8333333333333334,
          0.75,
          0.9166666666666666,
          0.7083333333333334,
          0.6666666666666666,
          1,
          0.75,
          0.8333333333333334,
          0.8333333333333334,
          0.9583333333333334,
          0.9166666666666666,
          0.7916666666666666,
          0.7916666666666666,
          0.8333333333333334,
          0.9166666666666666,
          0.9583333333333334,
          0.875,
          0.875,
          0.9583333333333334,
          0.6666666666666666,
          0.8333333333333334,
          0.875,
          0.875,
          0.9166666666666666,
          1,
          0.9583333333333334,
          0.7916666666666666,
          0.75,
          0.875,
          0.7916666666666666,
          0.5833333333333334,
          0.6666666666666666,
          0.875,
          0.8333333333333334,
          1,
          0.9166666666666666,
          0.9166666666666666,
          0.7916666666666666,
          0.875,
          0.875,
          0.7916666666666666,
          0.9166666666666666,
          0.9166666666666666,
          0.8333333333333334,
          0.75,
          0.8333333333333334,
          0.7083333333333334,
          0.8333333333333334,
          0.8333333333333334,
          0.6666666666666666,
          0.9583333333333334,
          0.75,
          0.7916666666666666,
          0.8333333333333334,
          0.875,
          0.6666666666666666,
          0.7083333333333334,
          0.75,
          0.4583333333333333,
          0.9166666666666666,
          0.6666666666666666,
          1,
          0.75,
          0.75,
          0.7916666666666666,
          0.8333333333333334,
          0.7083333333333334,
          0.9166666666666666,
          0.8333333333333334,
          0.8333333333333334,
          0.8333333333333334,
          0.9166666666666666,
          0.8333333333333334,
          0.9166666666666666,
          0.625,
          0.9166666666666666,
          0.9583333333333334,
          0.7916666666666666,
          0.875,
          0.875,
          0.7083333333333334,
          0.7916666666666666,
          0.8333333333333334,
          0.8333333333333334,
          0.9583333333333334,
          0.9583333333333334,
          0.9583333333333334,
          0.75,
          0.8333333333333334,
          0.7083333333333334,
          0.9583333333333334,
          0.8333333333333334,
          0.8333333333333334,
          0.9583333333333334,
          0.875,
          0.8333333333333334,
          0.75,
          0.8333333333333334,
          0.9166666666666666,
          0.875,
          0.875,
          0.8333333333333334,
          0.8333333333333334,
          0.875,
          0.9166666666666666,
          0.75,
          0.7916666666666666,
          0.8333333333333334,
          0.6666666666666666,
          0.875,
          0.9166666666666666,
          0.7916666666666666,
          0.9166666666666666,
          0.9166666666666666,
          0.875,
          0.9583333333333334,
          0.7916666666666666,
          0.7083333333333334,
          0.875,
          0.9166666666666666,
          0.9166666666666666,
          1,
          0.8333333333333334,
          0.9583333333333334,
          0.8333333333333334,
          0.8333333333333334,
          0.8333333333333334,
          0.8333333333333334,
          0.8333333333333334,
          0.9166666666666666,
          0.7083333333333334,
          0.875,
          0.9166666666666666,
          1,
          0.8333333333333334,
          0.8333333333333334,
          0.875,
          0.7916666666666666,
          0.8333333333333334,
          0.875,
          0.9166666666666666,
          0.7083333333333334,
          0.9583333333333334,
          0.9583333333333334,
          0.875,
          0.8333333333333334,
          0.7916666666666666,
          0.8333333333333334,
          1,
          0.7916666666666666,
          0.875,
          0.875,
          0.875,
          0.9166666666666666,
          0.8333333333333334,
          0.75,
          0.75,
          0.875,
          0.9583333333333334,
          0.7916666666666666,
          0.875,
          0.75,
          0.875,
          0.9166666666666666,
          0.875,
          0.875,
          0.875,
          0.9166666666666666,
          0.7916666666666666,
          0.9583333333333334,
          0.9166666666666666,
          1,
          0.9166666666666666,
          0.9583333333333334,
          0.8333333333333334,
          0.9166666666666666,
          0.8333333333333334,
          0.7916666666666666,
          0.8333333333333334,
          0.9166666666666666,
          0.9166666666666666,
          0.9583333333333334,
          0.875,
          0.875,
          0.875,
          0.9166666666666666,
          0.8333333333333334,
          0.7916666666666666,
          0.7916666666666666,
          0.7083333333333334,
          0.75,
          0.75,
          0.9166666666666666,
          0.8333333333333334,
          0.875,
          0.7916666666666666,
          0.9166666666666666,
          0.8333333333333334,
          0.875,
          0.7083333333333334,
          0.875,
          0.75,
          0.9583333333333334,
          0.875,
          0.875,
          0.9583333333333334,
          0.875,
          0.7083333333333334,
          0.9583333333333334,
          0.7916666666666666,
          0.75,
          0.9166666666666666,
          0.75,
          0.8333333333333334,
          0.8333333333333334,
          0.8333333333333334,
          0.8333333333333334,
          0.875,
          0.8333333333333334,
          0.6666666666666666,
          0.875,
          0.9166666666666666,
          0.875,
          0.7916666666666666,
          0.875,
          0.875,
          0.75,
          0.75,
          0.7916666666666666,
          0.875,
          0.7083333333333334,
          0.7916666666666666,
          0.6666666666666666,
          0.9583333333333334,
          0.8333333333333334,
          0.8333333333333334,
          0.7916666666666666,
          0.75,
          0.9583333333333334,
          0.7083333333333334,
          0.7916666666666666,
          0.7916666666666666,
          0.7916666666666666,
          0.8333333333333334,
          0.875,
          0.875,
          0.9166666666666666,
          0.7083333333333334,
          0.875,
          0.875,
          0.875,
          0.7083333333333334,
          0.8333333333333334,
          0.875,
          0.9166666666666666,
          0.7916666666666666,
          0.8333333333333334,
          0.7916666666666666,
          1,
          0.8333333333333334,
          0.7083333333333334,
          0.8333333333333334,
          0.75,
          0.875,
          0.875,
          0.9166666666666666,
          0.9166666666666666,
          0.8333333333333334,
          0.7916666666666666,
          0.75,
          0.75,
          0.9166666666666666,
          0.9166666666666666,
          0.7916666666666666,
          0.9583333333333334,
          0.7083333333333334,
          0.875,
          0.9583333333333334,
          0.9583333333333334,
          0.875,
          0.8333333333333334,
          0.625,
          0.8333333333333334,
          0.9583333333333334,
          0.9166666666666666,
          0.8333333333333334,
          0.9166666666666666,
          0.9166666666666666,
          0.6666666666666666,
          0.9166666666666666,
          0.875,
          0.7916666666666666,
          0.75,
          0.875,
          0.8333333333333334,
          0.8333333333333334,
          0.8333333333333334,
          0.875,
          0.875,
          0.7916666666666666,
          0.9166666666666666,
          0.875,
          0.875,
          0.625,
          0.875,
          0.8333333333333334,
          0.8333333333333334,
          0.7916666666666666,
          0.8333333333333334,
          0.875,
          0.8333333333333334,
          0.8333333333333334,
          0.7916666666666666,
          0.875,
          0.875,
          0.8333333333333334,
          0.7916666666666666,
          0.8333333333333334,
          0.75,
          0.8333333333333334,
          0.9166666666666666,
          0.7916666666666666,
          0.8333333333333334,
          0.8333333333333334,
          0.75,
          0.7083333333333334,
          0.875,
          0.875,
          0.7916666666666666,
          0.875,
          1,
          0.875,
          0.9583333333333334,
          0.875,
          0.75,
          0.875,
          0.8333333333333334,
          0.75,
          0.875,
          0.75,
          0.7916666666666666,
          0.875,
          0.7916666666666666,
          0.8333333333333334,
          0.875,
          0.875,
          0.9583333333333334,
          0.8333333333333334,
          0.9583333333333334,
          0.7916666666666666,
          0.9583333333333334,
          0.7916666666666666,
          0.8333333333333334,
          0.7916666666666666,
          0.75,
          0.8333333333333334,
          0.625,
          0.9166666666666666,
          0.7916666666666666,
          0.8333333333333334,
          0.8333333333333334,
          0.8333333333333334,
          0.875,
          0.8333333333333334,
          0.75,
          0.875,
          0.7916666666666666,
          0.9166666666666666,
          0.9166666666666666,
          0.9583333333333334,
          0.7916666666666666,
          0.9583333333333334,
          0.875,
          0.6666666666666666,
          0.7083333333333334,
          0.7916666666666666,
          0.7083333333333334,
          0.875,
          0.9166666666666666,
          0.8333333333333334,
          0.7083333333333334,
          0.9166666666666666,
          0.7916666666666666,
          0.9583333333333334,
          0.7916666666666666,
          0.7916666666666666,
          0.875,
          1,
          0.8333333333333334,
          0.7083333333333334,
          0.8333333333333334,
          0.875,
          0.8333333333333334,
          0.8333333333333334,
          0.7916666666666666,
          0.7916666666666666,
          0.875,
          0.8333333333333334,
          0.7083333333333334,
          0.875,
          0.875,
          0.875,
          0.875,
          0.8333333333333334,
          0.8333333333333334,
          0.9166666666666666,
          0.75,
          0.875,
          0.875,
          0.9166666666666666,
          0.7083333333333334,
          0.9166666666666666,
          0.8333333333333334,
          0.8333333333333334,
          0.9166666666666666,
          0.7916666666666666,
          0.8333333333333334,
          0.9583333333333334,
          0.9166666666666666,
          1,
          0.5833333333333334,
          0.9166666666666666,
          0.8333333333333334,
          0.9166666666666666,
          0.625,
          0.8333333333333334,
          0.75,
          0.7083333333333334,
          0.8333333333333334,
          1,
          0.8333333333333334,
          0.6666666666666666,
          0.9166666666666666,
          0.875,
          0.9166666666666666,
          0.9166666666666666,
          1,
          0.875,
          0.75,
          0.7916666666666666,
          0.9583333333333334,
          0.875,
          0.875,
          0.875,
          0.7916666666666666,
          0.9166666666666666,
          0.9583333333333334,
          0.875,
          0.875,
          0.75,
          0.9166666666666666,
          0.875,
          0.875,
          0.9583333333333334,
          0.6666666666666666,
          0.7916666666666666,
          0.7916666666666666,
          0.9583333333333334,
          0.7083333333333334,
          0.7916666666666666,
          0.7083333333333334,
          0.75,
          0.875,
          0.875,
          0.75,
          0.5416666666666666,
          1,
          0.75,
          0.8333333333333334,
          0.9166666666666666,
          0.875,
          0.8333333333333334,
          0.875,
          0.9166666666666666,
          0.875,
          0.9583333333333334,
          0.875,
          0.8333333333333334,
          0.9583333333333334,
          0.875,
          0.9166666666666666,
          0.7916666666666666,
          0.8333333333333334,
          0.5833333333333334,
          0.75,
          0.9583333333333334,
          0.75,
          0.875,
          0.75,
          0.9583333333333334,
          0.8333333333333334,
          0.75,
          0.8333333333333334,
          0.875,
          0.9583333333333334,
          0.7083333333333334,
          0.8333333333333334,
          0.75,
          0.6666666666666666,
          0.9166666666666666,
          0.8333333333333334,
          0.8333333333333334,
          0.9166666666666666,
          0.75,
          0.9166666666666666,
          0.875,
          0.9166666666666666,
          0.9166666666666666,
          0.875,
          0.8333333333333334,
          0.7916666666666666,
          0.8333333333333334,
          0.6666666666666666,
          0.8333333333333334,
          0.875,
          0.75,
          0.9166666666666666,
          0.7083333333333334,
          0.9166666666666666,
          0.875,
          0.9166666666666666,
          0.875,
          0.75,
          0.875,
          0.7916666666666666,
          0.7083333333333334,
          0.7916666666666666,
          0.6666666666666666,
          0.9583333333333334,
          0.7083333333333334,
          0.8333333333333334,
          0.875,
          0.875,
          0.75,
          1,
          0.75,
          0.8333333333333334,
          0.875,
          0.7083333333333334,
          0.9166666666666666,
          0.8333333333333334,
          0.7083333333333334,
          0.7083333333333334,
          0.9583333333333334,
          0.8333333333333334,
          0.875,
          0.8333333333333334,
          0.875,
          0.7916666666666666,
          0.9166666666666666,
          0.9166666666666666,
          0.875,
          0.875,
          0.9583333333333334,
          0.9583333333333334,
          0.8333333333333334,
          0.9166666666666666,
          0.7916666666666666,
          0.8333333333333334,
          0.9166666666666666,
          0.7083333333333334,
          0.8333333333333334,
          0.9583333333333334,
          0.875,
          0.75,
          0.8333333333333334,
          0.8333333333333334,
          0.9166666666666666,
          0.9583333333333334,
          0.75,
          0.9583333333333334,
          0.7916666666666666,
          0.8333333333333334,
          0.7916666666666666,
          1,
          0.9166666666666666,
          0.7083333333333334,
          0.6666666666666666,
          0.9583333333333334,
          0.875,
          0.875,
          0.875,
          0.9583333333333334,
          0.875,
          0.8333333333333334,
          0.75,
          0.9166666666666666,
          0.8333333333333334,
          0.9166666666666666,
          0.6666666666666666,
          0.7916666666666666,
          0.9166666666666666,
          0.875,
          0.75,
          0.8333333333333334,
          0.875,
          0.75,
          0.8333333333333334,
          0.875,
          0.9166666666666666,
          0.9583333333333334,
          0.5833333333333334,
          0.75,
          0.8333333333333334,
          0.9583333333333334,
          1,
          0.8333333333333334,
          0.875,
          0.7916666666666666,
          0.8333333333333334,
          0.75,
          0.75,
          0.8333333333333334,
          0.9166666666666666,
          0.875,
          0.7916666666666666,
          0.8333333333333334,
          0.9166666666666666,
          0.8333333333333334,
          0.7916666666666666,
          0.7083333333333334,
          0.9166666666666666,
          0.875,
          0.9166666666666666,
          0.9583333333333334,
          0.8333333333333334,
          0.7916666666666666,
          0.75,
          0.875,
          0.75,
          0.7916666666666666,
          0.9166666666666666,
          0.75,
          0.875,
          0.7916666666666666,
          0.875,
          0.7916666666666666,
          0.75,
          0.875,
          0.7916666666666666,
          0.7916666666666666,
          0.7083333333333334,
          0.9583333333333334,
          0.875,
          0.7083333333333334,
          0.8333333333333334,
          0.875,
          0.75,
          0.5416666666666666,
          0.7083333333333334,
          0.875,
          0.9583333333333334,
          0.9166666666666666,
          0.8333333333333334,
          0.6666666666666666,
          0.9166666666666666,
          0.75,
          0.7916666666666666,
          0.875,
          0.6666666666666666,
          0.9166666666666666,
          0.9166666666666666,
          0.75,
          0.875,
          0.9166666666666666,
          1,
          0.9583333333333334,
          0.8333333333333334,
          0.875,
          0.9166666666666666,
          0.875,
          0.8333333333333334,
          0.9166666666666666,
          0.7916666666666666,
          0.9166666666666666,
          0.875,
          0.9583333333333334,
          0.9583333333333334,
          0.7083333333333334,
          0.9583333333333334,
          0.9583333333333334,
          0.7083333333333334,
          0.9166666666666666,
          0.9166666666666666,
          0.875,
          0.8333333333333334,
          0.7916666666666666,
          0.8333333333333334,
          0.6666666666666666,
          0.8333333333333334,
          0.9166666666666666,
          0.875,
          0.75,
          0.7916666666666666,
          0.9166666666666666,
          0.9166666666666666,
          0.9583333333333334,
          0.8333333333333334,
          0.7916666666666666,
          0.8333333333333334,
          0.625,
          0.9166666666666666,
          0.7083333333333334,
          0.875,
          0.9166666666666666,
          0.9166666666666666,
          1,
          1,
          0.8333333333333334,
          0.875,
          0.9166666666666666,
          0.875,
          0.875,
          0.9166666666666666,
          0.875,
          0.625,
          0.8333333333333334,
          0.9166666666666666,
          0.875,
          0.875,
          0.875,
          0.875,
          0.8333333333333334,
          0.8333333333333334,
          0.75,
          0.875,
          0.9166666666666666,
          0.7916666666666666,
          0.75,
          0.75,
          0.9583333333333334,
          0.7916666666666666,
          0.9166666666666666,
          0.875,
          0.7916666666666666,
          0.6666666666666666,
          0.7916666666666666,
          0.8333333333333334,
          0.9583333333333334,
          0.8333333333333334,
          0.9166666666666666,
          0.875,
          0.8333333333333334,
          0.875,
          0.8333333333333334,
          0.8333333333333334,
          0.7916666666666666,
          0.6666666666666666,
          0.7083333333333334,
          0.7916666666666666,
          0.8333333333333334,
          0.7083333333333334,
          0.9166666666666666,
          0.7916666666666666,
          0.75,
          0.8333333333333334,
          0.75,
          0.8333333333333334,
          0.9583333333333334,
          0.8333333333333334,
          0.7916666666666666,
          0.8333333333333334,
          0.75,
          0.8333333333333334,
          0.8333333333333334,
          0.75,
          0.7916666666666666,
          0.9583333333333334,
          0.9166666666666666,
          0.75,
          0.875,
          0.7916666666666666,
          0.9166666666666666,
          0.875,
          0.875,
          0.75,
          0.8333333333333334,
          0.75,
          0.9166666666666666,
          0.7916666666666666,
          0.9583333333333334,
          0.875,
          0.9583333333333334,
          0.875,
          0.75,
          0.8333333333333334,
          0.9583333333333334,
          0.875,
          0.9583333333333334,
          0.75,
          0.875,
          0.875,
          0.875,
          0.75,
          0.875,
          0.9166666666666666,
          0.9166666666666666,
          0.9583333333333334,
          0.7083333333333334,
          0.8333333333333334,
          0.7083333333333334,
          0.6666666666666666,
          0.9166666666666666,
          0.7916666666666666,
          0.8333333333333334,
          0.7916666666666666,
          0.7916666666666666,
          0.9583333333333334,
          0.8333333333333334,
          0.9166666666666666,
          0.9583333333333334,
          0.8333333333333334,
          0.875,
          0.875,
          0.875,
          0.9166666666666666,
          0.9166666666666666,
          0.6666666666666666,
          0.9583333333333334,
          0.875,
          0.9166666666666666,
          0.8333333333333334,
          0.9583333333333334,
          0.8333333333333334,
          0.875,
          0.75,
          0.5833333333333334,
          0.9583333333333334,
          0.7916666666666666,
          0.875,
          0.7916666666666666,
          0.8333333333333334,
          0.9166666666666666,
          0.9583333333333334,
          0.9166666666666666,
          0.9583333333333334,
          0.875,
          0.8333333333333334,
          0.8333333333333334,
          0.8333333333333334,
          0.75,
          0.7916666666666666,
          0.9166666666666666,
          0.7916666666666666,
          0.7083333333333334,
          0.8333333333333334,
          0.9583333333333334,
          1,
          0.8333333333333334,
          0.9583333333333334,
          0.7916666666666666,
          0.75,
          0.7916666666666666,
          0.9166666666666666,
          0.9583333333333334,
          0.875,
          0.75,
          0.8333333333333334,
          0.7916666666666666,
          0.75,
          0.7083333333333334,
          0.8333333333333334,
          0.7083333333333334,
          0.875,
          0.8333333333333334,
          0.9583333333333334,
          0.875,
          1,
          0.875,
          0.75,
          0.7083333333333334,
          0.8333333333333334,
          0.8333333333333334,
          0.9166666666666666,
          0.7083333333333334,
          0.9166666666666666,
          0.875,
          0.8333333333333334,
          0.875,
          1,
          0.8333333333333334,
          0.875,
          0.875,
          0.875,
          1,
          0.875,
          0.9166666666666666,
          0.9166666666666666,
          0.875,
          0.7083333333333334,
          0.7916666666666666,
          0.875,
          0.875,
          0.9166666666666666,
          0.9166666666666666,
          0.75,
          0.75,
          0.9583333333333334,
          0.8333333333333334,
          0.875,
          0.7916666666666666,
          0.9583333333333334,
          0.875,
          0.875,
          0.9166666666666666,
          0.9166666666666666,
          0.875,
          0.7083333333333334,
          0.875,
          0.875,
          0.8333333333333334,
          0.9583333333333334,
          0.8333333333333334,
          0.7916666666666666,
          0.625,
          0.9583333333333334,
          0.75,
          0.75,
          0.875,
          0.8333333333333334,
          0.8333333333333334,
          0.875,
          1,
          0.8333333333333334,
          0.8333333333333334,
          0.7916666666666666,
          0.9166666666666666,
          0.9166666666666666,
          0.875,
          0.8333333333333334,
          0.8333333333333334,
          0.9166666666666666,
          0.8333333333333334,
          0.9166666666666666,
          0.7083333333333334,
          0.8333333333333334,
          0.875,
          0.9583333333333334,
          0.8333333333333334,
          0.8333333333333334,
          0.8333333333333334,
          0.6666666666666666,
          0.9583333333333334,
          0.875,
          0.7916666666666666,
          0.7916666666666666,
          0.875,
          0.8333333333333334,
          0.8333333333333334,
          0.75,
          0.9166666666666666,
          0.8333333333333334,
          0.8333333333333334,
          0.875,
          0.75,
          0.9166666666666666,
          0.8333333333333334,
          0.7916666666666666,
          0.875,
          0.7916666666666666,
          0.9583333333333334,
          0.9166666666666666,
          0.7916666666666666,
          0.9166666666666666,
          0.8333333333333334,
          0.875,
          0.7916666666666666,
          0.9166666666666666,
          1,
          0.875,
          0.9583333333333334,
          0.9166666666666666,
          0.6666666666666666,
          0.75,
          0.6666666666666666,
          0.7916666666666666,
          0.9583333333333334,
          0.8333333333333334,
          0.75,
          0.8333333333333334,
          0.8333333333333334,
          0.9583333333333334,
          0.7916666666666666,
          0.9166666666666666,
          0.8333333333333334,
          0.875,
          0.9166666666666666,
          0.8333333333333334,
          0.7916666666666666,
          0.625,
          0.6666666666666666,
          0.75,
          0.875,
          0.8333333333333334,
          0.8333333333333334,
          0.7916666666666666,
          0.7916666666666666,
          0.9166666666666666,
          0.9166666666666666,
          0.75,
          0.8333333333333334,
          0.7916666666666666,
          0.875,
          0.9583333333333334,
          0.7083333333333334,
          0.7083333333333334,
          0.9166666666666666,
          0.75,
          0.9166666666666666,
          0.875,
          0.6666666666666666,
          0.8333333333333334,
          0.75,
          0.8333333333333334,
          0.8333333333333334,
          0.7916666666666666,
          0.8333333333333334,
          0.9583333333333334,
          0.7916666666666666,
          0.7916666666666666,
          0.9166666666666666,
          0.875,
          0.9166666666666666,
          0.875,
          0.8333333333333334,
          0.8333333333333334,
          0.875,
          0.8333333333333334,
          0.875,
          0.8333333333333334,
          0.9583333333333334,
          0.7083333333333334,
          0.875,
          0.8333333333333334,
          0.875,
          0.7916666666666666,
          0.9166666666666666,
          0.625,
          0.7083333333333334,
          0.625,
          0.875,
          0.7916666666666666,
          0.9166666666666666,
          0.5416666666666666,
          0.75,
          0.875,
          0.75,
          0.875,
          0.7916666666666666,
          0.875,
          0.6666666666666666,
          0.8333333333333334,
          0.875,
          1,
          0.8333333333333334,
          1,
          0.8333333333333334,
          0.75,
          0.875,
          0.75,
          0.875,
          0.7083333333333334,
          0.9583333333333334,
          0.7083333333333334,
          0.9583333333333334,
          0.9583333333333334,
          0.7916666666666666,
          0.75,
          0.75,
          0.875,
          0.9166666666666666,
          0.7083333333333334,
          0.8333333333333334,
          0.9583333333333334,
          0.75,
          0.7916666666666666,
          0.9166666666666666,
          0.9166666666666666,
          0.9166666666666666,
          0.8333333333333334,
          0.7916666666666666,
          0.9583333333333334,
          0.8333333333333334,
          0.9166666666666666,
          0.8333333333333334,
          0.75,
          0.9166666666666666,
          0.8333333333333334,
          1,
          0.8333333333333334,
          0.875,
          1,
          0.875,
          0.875,
          0.7916666666666666,
          0.9166666666666666,
          0.9166666666666666,
          0.7916666666666666,
          0.8333333333333334,
          0.8333333333333334,
          0.8333333333333334,
          0.7916666666666666,
          0.8333333333333334,
          0.875,
          0.8333333333333334,
          0.8333333333333334,
          1,
          0.7916666666666666,
          0.9166666666666666,
          0.75,
          0.8333333333333334,
          0.875,
          0.8333333333333334,
          0.875,
          0.75,
          0.8333333333333334,
          0.7916666666666666,
          0.875,
          0.9166666666666666,
          0.9166666666666666,
          0.9166666666666666,
          0.7916666666666666,
          0.9166666666666666,
          0.875,
          0.9583333333333334,
          0.875,
          0.9166666666666666,
          0.6666666666666666,
          0.9166666666666666,
          0.7916666666666666,
          0.75,
          0.7916666666666666,
          0.875,
          0.7916666666666666,
          0.7083333333333334,
          0.7916666666666666,
          0.9583333333333334,
          0.8333333333333334,
          0.875,
          0.8333333333333334,
          0.7916666666666666,
          0.7916666666666666,
          0.875,
          0.8333333333333334,
          1,
          0.875,
          0.7916666666666666,
          0.875,
          0.875,
          0.7916666666666666,
          0.875,
          0.9583333333333334,
          0.875,
          0.9583333333333334,
          0.9166666666666666,
          0.75,
          0.875,
          0.875,
          0.7916666666666666,
          0.9583333333333334,
          0.875,
          0.7916666666666666,
          0.9166666666666666,
          0.7916666666666666,
          1,
          0.8333333333333334,
          0.6666666666666666,
          0.875,
          0.875,
          0.9166666666666666,
          0.9583333333333334,
          0.8333333333333334,
          0.8333333333333334,
          0.8333333333333334,
          0.7083333333333334,
          0.8333333333333334,
          0.9583333333333334,
          0.9166666666666666,
          0.7083333333333334,
          0.75,
          0.8333333333333334,
          0.7916666666666666,
          0.875,
          0.875,
          0.7916666666666666,
          0.7083333333333334,
          0.8333333333333334,
          0.9166666666666666,
          0.6666666666666666,
          0.75,
          0.9166666666666666,
          0.75,
          0.875,
          0.6666666666666666,
          0.9166666666666666,
          0.875,
          0.8333333333333334,
          0.8333333333333334,
          0.875,
          0.8333333333333334,
          0.75,
          0.75,
          0.8333333333333334,
          0.7083333333333334,
          0.7916666666666666,
          0.9166666666666666,
          0.9166666666666666,
          0.7916666666666666,
          0.9166666666666666,
          0.8333333333333334,
          0.9583333333333334,
          0.7916666666666666,
          0.875,
          0.5833333333333334,
          0.625,
          0.9583333333333334,
          0.9583333333333334,
          0.9166666666666666,
          0.9166666666666666,
          0.7916666666666666,
          0.8333333333333334,
          0.875,
          0.7916666666666666,
          0.6666666666666666,
          0.7916666666666666,
          0.9583333333333334,
          0.9166666666666666,
          0.9166666666666666,
          0.5416666666666666,
          0.875,
          0.625,
          0.6666666666666666,
          0.875,
          0.9166666666666666,
          0.9583333333333334,
          0.9583333333333334,
          0.875,
          0.8333333333333334,
          0.7083333333333334,
          0.8333333333333334,
          0.7916666666666666,
          0.9166666666666666,
          0.7083333333333334,
          0.7083333333333334,
          0.75,
          0.875,
          0.7083333333333334,
          0.9583333333333334,
          0.8333333333333334,
          0.7916666666666666,
          0.875,
          0.7916666666666666,
          0.8333333333333334,
          0.8333333333333334,
          0.8333333333333334,
          0.8333333333333334,
          0.875,
          0.9583333333333334,
          0.875,
          0.75,
          0.9583333333333334,
          0.8333333333333334,
          1,
          0.7916666666666666,
          0.875,
          0.9166666666666666,
          0.7916666666666666,
          0.9166666666666666,
          0.7916666666666666,
          0.9583333333333334,
          0.875,
          0.9166666666666666,
          0.7916666666666666,
          0.9583333333333334,
          0.75,
          1,
          0.8333333333333334,
          0.9166666666666666,
          0.7083333333333334,
          0.875,
          0.8333333333333334,
          0.7916666666666666,
          0.75,
          0.8333333333333334,
          0.9166666666666666,
          0.7916666666666666,
          0.8333333333333334,
          0.8333333333333334,
          0.75,
          0.8333333333333334,
          0.875,
          0.875,
          0.875,
          0.9166666666666666,
          0.875,
          0.9166666666666666,
          0.75,
          0.9166666666666666,
          0.9583333333333334,
          0.8333333333333334,
          0.875,
          0.8333333333333334,
          0.7083333333333334,
          1,
          0.875,
          0.9583333333333334,
          0.7916666666666666,
          0.9583333333333334,
          0.7916666666666666,
          0.75,
          0.75,
          0.9166666666666666,
          0.9166666666666666,
          0.8333333333333334,
          0.875,
          0.9166666666666666,
          0.8333333333333334,
          0.8333333333333334,
          0.9166666666666666,
          0.6666666666666666,
          0.9583333333333334,
          0.8333333333333334,
          0.875,
          0.875,
          0.9583333333333334,
          0.9583333333333334,
          0.8333333333333334,
          0.75,
          0.7083333333333334,
          0.75,
          0.9583333333333334,
          0.7083333333333334,
          0.9166666666666666,
          0.9166666666666666,
          0.875,
          0.9583333333333334,
          0.75,
          0.625,
          0.7083333333333334,
          0.7083333333333334,
          0.75,
          0.9166666666666666,
          0.5833333333333334,
          0.7916666666666666,
          0.6666666666666666,
          0.8333333333333334,
          0.7916666666666666,
          0.7916666666666666,
          0.875,
          0.8333333333333334,
          0.7916666666666666,
          0.875,
          0.75,
          1,
          0.75,
          0.8333333333333334,
          0.75,
          0.8333333333333334,
          0.75,
          0.875,
          0.875,
          0.8333333333333334,
          0.9166666666666666,
          0.9583333333333334,
          0.7916666666666666,
          0.7083333333333334,
          0.9583333333333334,
          0.625,
          0.5833333333333334,
          0.875,
          0.7083333333333334,
          0.875,
          0.875,
          0.875,
          0.875,
          0.9583333333333334,
          0.8333333333333334,
          0.8333333333333334,
          0.8333333333333334,
          0.75,
          0.875,
          0.875,
          0.875,
          0.9166666666666666,
          0.7083333333333334,
          0.8333333333333334,
          0.8333333333333334,
          0.9583333333333334,
          0.6666666666666666,
          0.875,
          0.5416666666666666,
          1,
          0.75,
          0.75,
          1,
          0.875,
          0.8333333333333334,
          0.625,
          0.75,
          0.875,
          0.8333333333333334,
          0.9583333333333334,
          0.875,
          0.9166666666666666,
          0.7916666666666666,
          0.8333333333333334,
          0.7916666666666666,
          0.9166666666666666,
          0.75,
          0.875,
          0.875,
          1,
          0.875,
          0.75,
          0.9166666666666666,
          0.875,
          0.9166666666666666,
          0.75,
          0.7916666666666666,
          0.875,
          0.7083333333333334,
          0.9166666666666666,
          0.9166666666666666,
          0.6666666666666666,
          1,
          0.9166666666666666,
          0.9166666666666666,
          0.875,
          0.875,
          0.8333333333333334,
          0.6666666666666666,
          0.5416666666666666,
          0.9166666666666666,
          0.7916666666666666,
          0.7083333333333334,
          0.875,
          0.9166666666666666,
          0.9166666666666666,
          0.8333333333333334,
          0.875,
          0.9166666666666666,
          0.7916666666666666,
          0.7916666666666666,
          0.9166666666666666,
          0.875,
          0.875,
          0.875,
          0.875,
          0.7916666666666666,
          0.7083333333333334,
          0.875,
          0.75,
          0.8333333333333334,
          0.9166666666666666,
          0.8333333333333334,
          0.9583333333333334,
          0.6666666666666666,
          0.875,
          0.9583333333333334,
          0.9166666666666666,
          0.9583333333333334,
          0.875,
          0.875,
          0.7916666666666666,
          0.8333333333333334,
          0.9166666666666666,
          0.875,
          0.9166666666666666,
          0.8333333333333334,
          0.9166666666666666,
          0.6666666666666666,
          0.875,
          0.8333333333333334,
          0.8333333333333334,
          0.875,
          0.7916666666666666,
          0.7916666666666666,
          0.9166666666666666,
          0.875,
          0.75,
          1,
          0.75,
          0.9166666666666666,
          0.9583333333333334,
          0.9583333333333334,
          0.9166666666666666,
          0.8333333333333334,
          0.9166666666666666,
          0.9166666666666666,
          0.875,
          0.75,
          0.8333333333333334,
          0.8333333333333334,
          0.875,
          0.75,
          0.75,
          0.875,
          0.9166666666666666,
          0.8333333333333334,
          0.875,
          0.875,
          0.625,
          0.9166666666666666,
          0.75,
          0.875,
          0.875,
          0.9583333333333334,
          0.875,
          0.9583333333333334,
          0.7916666666666666,
          0.875,
          0.75,
          0.6666666666666666,
          0.75,
          0.9166666666666666,
          0.7083333333333334,
          0.7083333333333334,
          0.875,
          0.9583333333333334,
          0.75,
          0.7916666666666666,
          0.9166666666666666,
          0.9166666666666666,
          0.8333333333333334,
          0.7083333333333334,
          0.9166666666666666,
          0.7916666666666666,
          0.625,
          0.875,
          0.75,
          0.7083333333333334,
          0.875,
          0.8333333333333334,
          0.7083333333333334,
          0.7083333333333334,
          0.875,
          0.9166666666666666,
          0.8333333333333334,
          0.7083333333333334,
          0.875,
          0.8333333333333334,
          0.9166666666666666,
          0.875,
          0.9166666666666666,
          0.875,
          0.75,
          0.875,
          0.75,
          0.9166666666666666,
          0.7083333333333334,
          0.625,
          0.7916666666666666,
          0.9583333333333334,
          0.9166666666666666,
          0.8333333333333334,
          0.8333333333333334,
          0.875,
          0.8333333333333334,
          0.8333333333333334,
          0.9166666666666666,
          0.8333333333333334,
          0.7916666666666666,
          0.875,
          0.9166666666666666,
          0.875,
          0.8333333333333334,
          0.7916666666666666,
          0.875,
          0.9166666666666666,
          1,
          0.7916666666666666,
          0.8333333333333334,
          1,
          0.75,
          0.9166666666666666,
          0.7083333333333334,
          0.8333333333333334,
          0.8333333333333334,
          0.875,
          0.875,
          0.875,
          0.875,
          0.875,
          0.8333333333333334,
          0.9166666666666666,
          0.7083333333333334,
          0.8333333333333334,
          0.7083333333333334,
          0.8333333333333334,
          0.7083333333333334,
          0.75,
          0.9166666666666666,
          0.75,
          0.7083333333333334,
          0.5416666666666666,
          0.875,
          0.7083333333333334,
          0.9583333333333334,
          0.9166666666666666,
          0.75,
          0.9166666666666666,
          0.7916666666666666,
          0.8333333333333334,
          0.9166666666666666,
          0.7916666666666666,
          0.75,
          0.9166666666666666,
          0.7916666666666666,
          0.8333333333333334,
          0.5833333333333334,
          0.8333333333333334,
          0.875,
          0.9166666666666666,
          0.7916666666666666,
          0.7916666666666666,
          1,
          0.7083333333333334,
          0.875,
          0.8333333333333334,
          0.9583333333333334,
          0.9166666666666666,
          0.7916666666666666,
          0.875,
          0.75,
          0.9166666666666666,
          0.7916666666666666,
          0.875,
          0.7916666666666666,
          0.9166666666666666,
          0.875,
          0.8333333333333334,
          0.875,
          0.7916666666666666,
          0.75,
          0.9166666666666666,
          0.8333333333333334,
          0.9583333333333334,
          0.7916666666666666,
          0.9166666666666666,
          0.9166666666666666,
          0.9166666666666666,
          0.8333333333333334,
          0.75,
          0.75,
          0.8333333333333334,
          0.875,
          0.7916666666666666,
          0.9166666666666666,
          0.875,
          0.9583333333333334,
          0.875,
          0.8333333333333334,
          0.8333333333333334,
          0.7916666666666666,
          0.8333333333333334,
          0.9166666666666666,
          0.7916666666666666,
          0.9583333333333334,
          0.8333333333333334,
          0.9166666666666666,
          0.8333333333333334,
          0.9583333333333334,
          0.875,
          0.9166666666666666,
          0.7916666666666666,
          0.6666666666666666,
          0.875,
          0.7083333333333334,
          0.6666666666666666,
          0.8333333333333334,
          0.8333333333333334,
          0.875,
          0.8333333333333334,
          0.75,
          0.875,
          0.9166666666666666,
          0.8333333333333334,
          1,
          0.9583333333333334,
          0.8333333333333334,
          0.875,
          0.75,
          0.8333333333333334,
          0.7083333333333334,
          0.7916666666666666,
          0.75,
          0.7916666666666666,
          0.9583333333333334,
          0.9166666666666666,
          0.9166666666666666,
          0.9583333333333334,
          0.7916666666666666,
          0.875,
          0.75,
          0.875,
          0.75,
          0.875,
          0.875,
          0.6666666666666666,
          0.7916666666666666,
          0.75,
          0.8333333333333334,
          0.7916666666666666,
          0.875,
          0.9583333333333334,
          0.875,
          0.8333333333333334,
          1,
          0.75,
          0.7916666666666666,
          0.875,
          0.7916666666666666,
          0.9583333333333334,
          0.875,
          0.7916666666666666,
          0.9166666666666666,
          0.75,
          0.8333333333333334,
          0.9583333333333334,
          0.875,
          0.9166666666666666,
          0.75,
          0.7916666666666666,
          0.8333333333333334,
          0.75,
          0.875,
          0.875,
          0.75,
          0.7916666666666666,
          0.7916666666666666,
          0.75,
          0.8333333333333334,
          0.5833333333333334,
          0.9583333333333334,
          0.9166666666666666,
          0.7916666666666666,
          1,
          0.8333333333333334,
          0.8333333333333334,
          0.875,
          0.8333333333333334,
          0.875,
          0.8333333333333334,
          0.875,
          0.8333333333333334,
          0.9583333333333334,
          0.875,
          0.9166666666666666,
          0.9166666666666666,
          0.9583333333333334,
          0.7916666666666666,
          1,
          0.7916666666666666,
          0.875,
          0.7916666666666666,
          0.875,
          0.8333333333333334,
          0.8333333333333334,
          0.7916666666666666,
          0.9583333333333334,
          0.75,
          0.875,
          0.75,
          0.875,
          0.875,
          0.7916666666666666,
          1,
          0.9583333333333334,
          0.875,
          0.7083333333333334,
          0.9166666666666666,
          0.8333333333333334,
          0.7916666666666666,
          0.875,
          0.7916666666666666,
          0.7916666666666666,
          0.875,
          0.75,
          0.9166666666666666,
          0.5416666666666666,
          0.9583333333333334,
          0.875,
          0.8333333333333334,
          0.75,
          0.8333333333333334,
          0.6666666666666666,
          0.8333333333333334,
          0.6666666666666666,
          0.8333333333333334,
          0.7083333333333334,
          1,
          0.7916666666666666,
          0.7916666666666666,
          0.875,
          0.7916666666666666,
          0.8333333333333334,
          0.8333333333333334,
          0.9166666666666666,
          0.9166666666666666,
          0.7916666666666666,
          0.8333333333333334,
          0.7916666666666666,
          0.8333333333333334,
          0.8333333333333334,
          0.8333333333333334,
          0.875,
          0.7083333333333334,
          0.9166666666666666,
          0.8333333333333334,
          0.9166666666666666,
          0.8333333333333334,
          0.9583333333333334,
          0.7916666666666666,
          0.7916666666666666,
          0.7916666666666666,
          0.8333333333333334,
          0.9166666666666666,
          0.8333333333333334,
          0.9583333333333334,
          0.9583333333333334,
          0.7916666666666666,
          0.7916666666666666,
          0.75,
          0.7916666666666666,
          0.7916666666666666,
          0.875,
          0.9166666666666666,
          0.7916666666666666,
          0.8333333333333334,
          0.9166666666666666,
          0.7083333333333334,
          0.875,
          0.875,
          0.9166666666666666,
          0.6666666666666666,
          0.875,
          0.8333333333333334,
          0.75,
          0.7916666666666666,
          0.75,
          0.7916666666666666,
          0.7083333333333334,
          0.7083333333333334,
          0.7916666666666666,
          0.7916666666666666,
          0.9583333333333334,
          0.9166666666666666,
          0.8333333333333334,
          0.7083333333333334,
          0.7083333333333334,
          0.75,
          0.7916666666666666,
          0.7916666666666666,
          0.875,
          0.9166666666666666,
          0.75,
          0.9583333333333334,
          0.875,
          0.9166666666666666,
          0.875,
          0.7083333333333334,
          0.875,
          0.8333333333333334,
          0.8333333333333334,
          0.9166666666666666,
          0.9166666666666666,
          1,
          0.75,
          0.8333333333333334,
          0.7916666666666666,
          0.75,
          0.6666666666666666,
          0.75,
          0.6666666666666666,
          0.6666666666666666,
          0.7916666666666666,
          0.8333333333333334,
          0.7916666666666666,
          0.7916666666666666,
          0.7916666666666666,
          0.7916666666666666,
          0.8333333333333334,
          0.75,
          0.9166666666666666,
          0.875,
          0.75,
          0.75,
          0.7916666666666666,
          0.875,
          0.6666666666666666,
          0.7916666666666666,
          0.5416666666666666,
          0.7916666666666666,
          0.75,
          0.5833333333333334,
          0.7083333333333334,
          0.6666666666666666,
          0.875,
          0.9166666666666666,
          0.8333333333333334,
          0.8333333333333334,
          0.7916666666666666,
          0.7916666666666666,
          0.9166666666666666,
          0.8333333333333334,
          0.875,
          0.75,
          0.7916666666666666,
          0.875,
          0.9166666666666666,
          0.7916666666666666,
          0.875,
          0.75,
          0.7916666666666666,
          0.8333333333333334,
          0.875,
          0.7916666666666666,
          0.5416666666666666,
          0.875,
          0.875,
          0.7083333333333334,
          0.5833333333333334,
          0.9166666666666666,
          0.75,
          0.8333333333333334,
          0.9583333333333334,
          0.8333333333333334,
          0.7083333333333334,
          0.8333333333333334,
          0.875,
          0.6666666666666666,
          0.9166666666666666,
          0.875,
          0.5833333333333334,
          0.8333333333333334,
          0.8333333333333334,
          0.875,
          0.7916666666666666,
          0.8333333333333334,
          0.8333333333333334,
          0.7916666666666666,
          0.6666666666666666,
          0.75,
          0.875,
          0.875,
          0.6666666666666666,
          0.7083333333333334,
          0.8333333333333334,
          0.875,
          0.7083333333333334,
          0.7916666666666666,
          0.875,
          0.8333333333333334,
          0.875,
          0.7083333333333334,
          0.875,
          0.9166666666666666,
          0.75,
          0.75,
          0.75,
          0.7083333333333334,
          0.9166666666666666,
          0.875,
          0.7083333333333334,
          0.7916666666666666,
          0.8333333333333334,
          0.9166666666666666,
          0.75,
          0.875,
          0.7916666666666666,
          0.9583333333333334,
          0.9166666666666666,
          0.625,
          0.875,
          0.5833333333333334,
          0.7916666666666666,
          0.8333333333333334,
          0.875,
          0.9583333333333334,
          0.75,
          0.7916666666666666,
          0.7083333333333334,
          0.875,
          0.625,
          0.7916666666666666,
          0.875,
          0.7916666666666666,
          0.8333333333333334,
          0.75,
          0.8333333333333334,
          0.7083333333333334,
          0.75,
          0.75,
          0.875,
          0.7083333333333334,
          0.8333333333333334,
          0.9583333333333334,
          0.875,
          0.7083333333333334,
          0.8333333333333334,
          0.9166666666666666,
          0.8333333333333334,
          0.7083333333333334,
          0.875,
          0.875,
          0.9166666666666666,
          0.7916666666666666,
          0.9166666666666666,
          0.8333333333333334,
          0.875,
          0.8333333333333334,
          0.8333333333333334,
          0.875,
          0.7083333333333334,
          0.8333333333333334,
          0.875,
          0.875,
          0.7916666666666666,
          0.9166666666666666,
          0.75,
          0.875,
          0.9166666666666666,
          0.8333333333333334,
          0.7916666666666666,
          0.7916666666666666,
          0.6666666666666666,
          0.7916666666666666,
          0.7083333333333334,
          0.9166666666666666,
          0.875,
          0.875,
          0.8333333333333334,
          0.7916666666666666,
          0.875,
          0.7916666666666666,
          0.8333333333333334,
          0.8333333333333334,
          0.7916666666666666,
          0.9583333333333334,
          0.7916666666666666,
          0.875,
          0.9166666666666666,
          0.9166666666666666,
          0.8333333333333334,
          0.75,
          0.8333333333333334,
          0.875,
          0.8333333333333334,
          0.8333333333333334,
          0.9166666666666666,
          0.875,
          0.875,
          0.8333333333333334,
          0.875,
          0.7916666666666666,
          0.8333333333333334,
          0.8333333333333334,
          0.5833333333333334,
          0.9166666666666666,
          0.9166666666666666,
          0.7916666666666666,
          0.875,
          0.6666666666666666,
          0.8333333333333334,
          0.9166666666666666,
          0.8333333333333334,
          0.7916666666666666,
          0.875,
          0.75,
          0.8333333333333334,
          0.9166666666666666,
          0.75,
          0.7916666666666666,
          1,
          0.875,
          0.9166666666666666,
          0.8333333333333334,
          0.9166666666666666,
          0.7083333333333334,
          0.875,
          0.8333333333333334,
          0.7083333333333334,
          0.8333333333333334,
          0.875,
          0.7916666666666666,
          0.875,
          0.7083333333333334,
          0.7083333333333334,
          0.875,
          0.8333333333333334,
          0.9583333333333334,
          0.875,
          0.7083333333333334,
          0.875,
          0.875,
          0.875,
          0.75,
          0.6666666666666666,
          0.8333333333333334,
          0.7083333333333334,
          0.7083333333333334,
          0.6666666666666666,
          0.8333333333333334,
          0.875,
          0.9583333333333334,
          0.875,
          0.625,
          0.7916666666666666,
          0.9166666666666666,
          0.8333333333333334,
          0.875,
          0.8333333333333334,
          0.7916666666666666,
          0.875,
          0.9166666666666666,
          0.9166666666666666,
          0.875,
          0.5833333333333334,
          0.75,
          0.7083333333333334,
          0.9166666666666666,
          0.875,
          0.75,
          0.8333333333333334,
          0.8333333333333334,
          0.7916666666666666,
          0.75,
          0.875,
          0.9583333333333334,
          0.75,
          0.9166666666666666,
          0.9166666666666666,
          0.7916666666666666,
          0.8333333333333334,
          0.7083333333333334,
          0.875,
          0.7916666666666666,
          0.75,
          0.7083333333333334,
          0.7916666666666666,
          0.1666666666666666,
          0.7916666666666666,
          0.6666666666666666,
          0.7916666666666666,
          0.9583333333333334,
          0.9166666666666666,
          0.9166666666666666,
          0.9583333333333334,
          0.9166666666666666,
          0.75,
          0.8333333333333334,
          0.7916666666666666,
          0.875,
          0.7083333333333334,
          0.75,
          0.8333333333333334,
          0.8333333333333334,
          0.875,
          0.75,
          0.7916666666666666,
          0.875,
          0.7916666666666666,
          0.9166666666666666,
          0.9166666666666666,
          0.875,
          0.875,
          0.875,
          0.875,
          0.75,
          0.7916666666666666,
          0.7916666666666666,
          1,
          0.7916666666666666,
          1,
          0.5416666666666666,
          0.8333333333333334,
          0.8333333333333334,
          0.75,
          0.7916666666666666,
          0.75,
          0.75,
          0.9583333333333334,
          0.7916666666666666,
          0.9166666666666666,
          0.75,
          0.875,
          0.7083333333333334,
          0.7083333333333334,
          0.875,
          0.7916666666666666,
          0.8333333333333334,
          0.6666666666666666,
          0.75,
          0.875,
          0.75,
          0.9166666666666666,
          0.7916666666666666,
          0.6666666666666666,
          0.75,
          0.8333333333333334,
          0.75,
          0.9166666666666666,
          0.7916666666666666,
          0.7916666666666666,
          0.9583333333333334,
          1,
          0.7916666666666666,
          0.7916666666666666,
          0.9166666666666666,
          0.75,
          0.8333333333333334,
          0.75,
          0.9583333333333334,
          0.9166666666666666,
          0.75,
          0.7083333333333334,
          0.875,
          0.9583333333333334,
          0.875,
          0.625,
          0.875,
          0.75,
          0.875,
          0.625,
          0.7916666666666666,
          0.75,
          0.9166666666666666,
          0.8333333333333334,
          0.8333333333333334,
          0.875,
          0.8333333333333334,
          0.875,
          0.625,
          0.7083333333333334,
          0.8333333333333334,
          0.7083333333333334,
          0.9583333333333334,
          0.875,
          0.6666666666666666,
          0.75,
          0.75,
          0.875,
          0.875,
          0.8333333333333334,
          0.7916666666666666,
          0.8333333333333334,
          0.875,
          0.875,
          0.6666666666666666,
          0.9166666666666666,
          0.7083333333333334,
          0.75,
          0.7083333333333334,
          0.75,
          0.875,
          0.75,
          0.875,
          0.875,
          0.8333333333333334,
          0.7916666666666666,
          0.75,
          0.75,
          0.875,
          0.6666666666666666,
          0.8333333333333334,
          0.9166666666666666,
          0.875,
          0.875,
          0.7916666666666666,
          0.7916666666666666,
          0.6666666666666666,
          0.7916666666666666,
          0.9583333333333334,
          0.9166666666666666,
          0.75,
          0.9166666666666666,
          0.7083333333333334,
          0.75,
          0.875,
          0.7916666666666666,
          0.7916666666666666,
          0.875,
          0.6666666666666666,
          0.7083333333333334,
          0.9583333333333334,
          0.7083333333333334,
          0.7083333333333334,
          0.7916666666666666,
          0.8333333333333334,
          0.875,
          0.9166666666666666,
          0.7916666666666666,
          0.9583333333333334,
          0.8333333333333334,
          0.8333333333333334,
          0.9166666666666666,
          0.875,
          0.7916666666666666,
          0.9166666666666666,
          0.7916666666666666,
          1,
          0.9166666666666666,
          0.6666666666666666,
          0.6666666666666666,
          0.75,
          0.7916666666666666,
          0.9583333333333334,
          0.75,
          0.6666666666666666,
          0.875,
          0.6666666666666666,
          0.9583333333333334,
          0.8333333333333334,
          0.875,
          0.8333333333333334,
          0.7916666666666666,
          0.8333333333333334,
          0.8333333333333334,
          0.875,
          0.875,
          0.4166666666666667,
          0.7916666666666666,
          0.8333333333333334,
          0.7083333333333334,
          0.875,
          0.6666666666666666,
          0.875,
          0.7083333333333334,
          0.7916666666666666,
          0.75,
          0.8333333333333334,
          0.7083333333333334,
          0.7916666666666666,
          0.75,
          0.8333333333333334,
          0.75,
          0.9166666666666666,
          0.875,
          0.875,
          0.875,
          0.8333333333333334,
          0.9583333333333334,
          0.7083333333333334,
          0.7083333333333334,
          0.75,
          0.7083333333333334,
          0.75,
          0.7083333333333334,
          0.8333333333333334,
          0.625,
          0.8333333333333334,
          0.7916666666666666,
          0.9166666666666666,
          0.6666666666666666,
          0.75,
          0.8333333333333334,
          0.8333333333333334,
          0.7916666666666666,
          0.5416666666666666,
          0.9166666666666666,
          0.75,
          0.875,
          0.6666666666666666,
          0.8333333333333334,
          0.8333333333333334,
          0.7916666666666666,
          0.7916666666666666,
          0.7916666666666666,
          0.9166666666666666,
          0.8333333333333334,
          0.7916666666666666,
          0.875,
          0.75,
          0.75,
          0.7916666666666666,
          0.8333333333333334,
          0.875,
          0.7916666666666666,
          0.875,
          0.8333333333333334,
          0.8333333333333334,
          0.875,
          0.875,
          0.7083333333333334,
          0.7916666666666666,
          0.9166666666666666,
          0.9166666666666666,
          0.875,
          0.875,
          0.75,
          0.75,
          0.9583333333333334,
          0.8333333333333334,
          0.9166666666666666,
          0.8333333333333334,
          0.8333333333333334,
          0.8333333333333334,
          0.8333333333333334,
          0.75,
          0.75,
          0.7916666666666666,
          0.7916666666666666,
          0.8333333333333334,
          0.8333333333333334,
          0.8333333333333334,
          0.5,
          0.8333333333333334,
          0.875,
          0.8333333333333334,
          0.75,
          0.875,
          0.7916666666666666,
          0.7083333333333334,
          0.7916666666666666,
          0.7916666666666666,
          0.875,
          0.8333333333333334,
          0.9166666666666666,
          0.875,
          0.875,
          0.875,
          0.75,
          0.8333333333333334,
          1,
          0.7916666666666666,
          0.8333333333333334,
          0.875,
          0.875,
          0.75,
          0.8333333333333334,
          0.875,
          0.7916666666666666,
          0.875,
          0.75,
          0.7916666666666666,
          0.75,
          0.9166666666666666,
          0.875,
          0.7083333333333334,
          0.875,
          0.75,
          0.75,
          0.7916666666666666,
          0.75,
          0.75,
          0.8333333333333334,
          0.8333333333333334,
          0.75,
          0.875,
          0.8333333333333334,
          0.6666666666666666,
          0.8333333333333334,
          0.75,
          0.7916666666666666,
          0.875,
          0.8333333333333334,
          0.8333333333333334,
          0.7916666666666666,
          0.7916666666666666,
          0.875,
          0.7916666666666666,
          0.7916666666666666,
          0.75,
          0.8333333333333334,
          0.875,
          0.875,
          0.8333333333333334,
          0.7916666666666666,
          0.875,
          1,
          1,
          0.9166666666666666,
          0.7916666666666666,
          0.9583333333333334,
          0.75,
          0.875,
          0.8333333333333334,
          0.7916666666666666,
          0.9166666666666666,
          0.9583333333333334,
          0.875,
          0.75,
          0.8333333333333334,
          0.7916666666666666,
          0.7916666666666666,
          0.9166666666666666,
          0.875,
          0.7916666666666666,
          0.9583333333333334,
          0.75,
          0.75,
          0.75,
          0.9583333333333334,
          0.8333333333333334,
          0.8333333333333334,
          0.875,
          0.75,
          0.6666666666666666,
          0.8333333333333334,
          0.9583333333333334,
          0.875,
          0.875,
          0.9166666666666666,
          0.9166666666666666,
          0.8333333333333334,
          0.7916666666666666,
          0.7916666666666666,
          0.7916666666666666,
          0.8333333333333334,
          0.7083333333333334,
          0.7916666666666666,
          0.875,
          0.7916666666666666,
          1,
          0.7083333333333334,
          0.8333333333333334,
          0.875,
          0.75,
          0.875,
          0.7916666666666666,
          0.75,
          0.875,
          0.875,
          0.8333333333333334,
          0.9583333333333334,
          0.875,
          0.9166666666666666,
          0.7916666666666666,
          0.8333333333333334,
          0.7916666666666666,
          0.9583333333333334,
          0.7083333333333334,
          0.7916666666666666,
          0.7916666666666666,
          0.75,
          0.7916666666666666,
          0.7916666666666666,
          0.75,
          0.6666666666666666,
          0.75,
          0.7916666666666666,
          0.8333333333333334,
          0.875,
          0.9166666666666666,
          0.875,
          1,
          0.8333333333333334,
          0.6666666666666666,
          0.7916666666666666,
          0.7916666666666666,
          0.9583333333333334,
          0.9583333333333334,
          0.8333333333333334,
          0.9166666666666666,
          0.875,
          0.6666666666666666,
          0.5416666666666666,
          0.75,
          0.8333333333333334,
          0.8333333333333334,
          0.9583333333333334,
          0.875,
          0.9166666666666666,
          0.625,
          0.6666666666666666,
          0.8333333333333334,
          0.75,
          0.75,
          0.8333333333333334,
          0.6666666666666666,
          0.75,
          0.8333333333333334,
          0.7916666666666666,
          0.8333333333333334,
          0.75,
          0.875,
          0.875,
          0.875,
          0.8333333333333334,
          0.7916666666666666,
          0.75,
          0.8333333333333334,
          0.6666666666666666,
          0.875,
          0.7916666666666666,
          0.7916666666666666,
          1,
          0.8333333333333334,
          0.8333333333333334,
          0.9166666666666666,
          0.625,
          0.75,
          0.8333333333333334,
          1,
          0.8333333333333334,
          0.75,
          0.7083333333333334,
          0.8333333333333334,
          0.8333333333333334,
          0.8333333333333334,
          0.9166666666666666,
          0.8333333333333334,
          0.7916666666666666,
          0.9583333333333334,
          0.9166666666666666,
          0.7916666666666666,
          0.9166666666666666,
          0.9583333333333334,
          0.8333333333333334,
          0.8333333333333334,
          0.75,
          0.75,
          0.75,
          0.8333333333333334,
          0.7083333333333334,
          0.75,
          0.875,
          0.9166666666666666,
          0.8333333333333334,
          0.9166666666666666,
          0.8333333333333334,
          0.8333333333333334,
          0.8333333333333334,
          0.9166666666666666,
          0.8333333333333334,
          0.8333333333333334,
          0.7916666666666666,
          0.9166666666666666,
          0.75,
          0.875,
          0.9583333333333334,
          0.9166666666666666,
          0.75,
          0.9166666666666666,
          0.9166666666666666,
          0.8333333333333334,
          0.8333333333333334,
          0.8333333333333334,
          0.75,
          0.7916666666666666,
          0.875,
          0.8333333333333334,
          0.7916666666666666,
          0.9583333333333334,
          0.7916666666666666,
          0.7083333333333334,
          0.6666666666666666,
          0.75,
          0.8333333333333334,
          0.7916666666666666,
          0.9166666666666666,
          0.875,
          0.7916666666666666,
          0.9583333333333334,
          0.8333333333333334,
          0.875,
          0.8333333333333334,
          0.7916666666666666,
          0.875,
          0.9166666666666666,
          0.875,
          0.9166666666666666,
          0.875,
          0.7083333333333334,
          0.7916666666666666,
          0.875,
          0.75,
          0.7916666666666666,
          0.875,
          0.7916666666666666,
          0.875,
          0.9166666666666666,
          0.7916666666666666,
          0.7916666666666666,
          0.875,
          0.625,
          0.875,
          0.875,
          0.9583333333333334,
          0.9583333333333334,
          0.9583333333333334,
          0.75,
          0.7916666666666666,
          0.9583333333333334,
          0.7916666666666666,
          0.6666666666666666,
          0.75,
          0.5833333333333334,
          0.75,
          0.7916666666666666,
          0.9166666666666666,
          0.75,
          0.9166666666666666,
          0.875,
          1,
          0.8333333333333334,
          0.8333333333333334,
          0.8333333333333334,
          0.8333333333333334,
          0.8333333333333334,
          0.9166666666666666,
          0.7083333333333334,
          0.9166666666666666,
          0.7916666666666666,
          0.6666666666666666,
          0.7916666666666666,
          0.75,
          0.9166666666666666,
          0.75,
          0.7916666666666666,
          0.75,
          0.9583333333333334,
          0.8333333333333334,
          0.7083333333333334,
          0.8333333333333334,
          0.7916666666666666,
          0.875,
          0.7916666666666666,
          0.9166666666666666,
          0.8333333333333334,
          0.9583333333333334,
          0.875,
          0.875,
          0.9166666666666666,
          0.8333333333333334,
          0.7083333333333334,
          0.8333333333333334,
          0.9166666666666666,
          0.375,
          0.75,
          0.8333333333333334,
          0.9166666666666666,
          0.7916666666666666,
          0.8333333333333334,
          0.875,
          0.7083333333333334,
          0.875,
          0.875,
          0.7916666666666666,
          0.9166666666666666,
          0.9166666666666666,
          0.875,
          0.75,
          0.7083333333333334,
          0.7916666666666666,
          0.8333333333333334,
          0.75,
          0.8333333333333334,
          0.9583333333333334,
          0.7916666666666666,
          0.8333333333333334,
          0.875,
          0.8333333333333334,
          0.8333333333333334,
          0.75,
          0.8333333333333334,
          0.8333333333333334,
          0.875,
          0.875,
          0.625,
          0.7916666666666666,
          0.7916666666666666,
          0.7916666666666666,
          0.9583333333333334,
          0.9583333333333334,
          0.9583333333333334,
          0.7083333333333334,
          0.75,
          0.8333333333333334,
          0.875,
          0.7916666666666666,
          0.8333333333333334,
          0.9166666666666666,
          0.625,
          0.75,
          0.9583333333333334,
          0.8333333333333334,
          0.7916666666666666,
          0.6666666666666666,
          0.7916666666666666,
          0.9166666666666666,
          0.7916666666666666,
          0.9166666666666666,
          0.7083333333333334,
          0.7916666666666666,
          0.9166666666666666,
          0.9583333333333334,
          0.75,
          0.8333333333333334,
          0.8333333333333334,
          0.6666666666666666,
          0.8333333333333334,
          0.875,
          0.875,
          0.7916666666666666,
          0.8333333333333334,
          0.75,
          0.9583333333333334,
          0.8333333333333334,
          0.875,
          0.8333333333333334,
          0.7916666666666666,
          0.8333333333333334,
          0.75,
          0.75,
          0.9583333333333334,
          0.7916666666666666,
          0.7916666666666666,
          0.7916666666666666,
          0.7083333333333334,
          0.7916666666666666,
          0.8333333333333334,
          0.75,
          0.875,
          0.5833333333333334,
          0.7083333333333334,
          0.7916666666666666,
          0.8333333333333334,
          0.75,
          0.7916666666666666,
          0.875,
          0.75,
          0.9583333333333334,
          0.875,
          0.8333333333333334,
          0.9166666666666666,
          0.8333333333333334,
          0.6666666666666666,
          0.8333333333333334,
          0.8333333333333334,
          0.7916666666666666,
          0.7916666666666666,
          0.75,
          0.8333333333333334,
          0.9166666666666666,
          0.875,
          0.9166666666666666,
          0.9583333333333334,
          0.8333333333333334,
          0.6666666666666666,
          0.6666666666666666,
          0.8333333333333334,
          0.8333333333333334,
          0.9166666666666666,
          0.7916666666666666,
          0.75,
          0.9166666666666666,
          0.6666666666666666,
          0.875,
          0.75,
          0.9166666666666666,
          0.8333333333333334,
          0.875,
          0.7916666666666666,
          0.875,
          0.75,
          0.875,
          0.875,
          0.6666666666666666,
          0.6666666666666666,
          0.8333333333333334,
          0.9166666666666666,
          0.9583333333333334,
          0.8333333333333334,
          0.6666666666666666,
          0.875,
          0.75,
          0.875,
          0.8333333333333334,
          0.8333333333333334,
          0.875,
          0.6666666666666666,
          0.8333333333333334,
          0.7916666666666666,
          0.8333333333333334,
          0.7083333333333334,
          1,
          0.8333333333333334,
          0.875,
          0.7916666666666666,
          0.9583333333333334,
          0.8333333333333334,
          0.6666666666666666,
          0.5833333333333334,
          0.875,
          0.75,
          0.7083333333333334,
          0.875,
          0.7083333333333334,
          0.8333333333333334,
          0.875,
          0.9166666666666666,
          0.8333333333333334,
          0.9583333333333334,
          0.7916666666666666,
          0.75,
          0.7083333333333334,
          0.7916666666666666,
          0.7916666666666666,
          0.7916666666666666,
          0.8333333333333334,
          0.9166666666666666,
          0.7083333333333334,
          0.7916666666666666,
          0.75,
          0.7916666666666666,
          0.625,
          0.9583333333333334,
          0.7916666666666666,
          0.625,
          0.75,
          0.9166666666666666,
          0.7083333333333334,
          0.875,
          0.875,
          0.8333333333333334,
          0.9166666666666666,
          0.8333333333333334,
          0.7916666666666666,
          0.8333333333333334,
          0.8333333333333334,
          0.625,
          0.9166666666666666,
          0.7083333333333334,
          0.9166666666666666,
          0.8333333333333334,
          0.9166666666666666,
          0.75,
          0.9166666666666666,
          0.9166666666666666,
          0.875,
          0.8333333333333334,
          0.6666666666666666,
          0.625,
          0.75,
          0.9166666666666666,
          0.875,
          0.875,
          0.7083333333333334,
          0.875,
          0.625,
          0.9166666666666666,
          0.8333333333333334,
          0.9166666666666666,
          0.9166666666666666,
          0.8333333333333334,
          0.7916666666666666,
          0.8333333333333334,
          0.7916666666666666,
          0.7916666666666666,
          0.7916666666666666,
          0.875,
          0.875,
          0.8333333333333334,
          0.8333333333333334,
          0.6666666666666666,
          0.625,
          0.8333333333333334,
          0.8333333333333334,
          0.75,
          0.8333333333333334,
          0.9166666666666666,
          0.875,
          0.6666666666666666,
          0.9166666666666666,
          0.875,
          0.9166666666666666,
          0.75,
          0.75,
          0.8333333333333334,
          0.6666666666666666,
          0.9166666666666666,
          0.9166666666666666,
          0.7916666666666666,
          0.625,
          0.875,
          0.7916666666666666,
          0.875,
          0.875,
          0.875,
          0.7916666666666666,
          0.7916666666666666,
          0.875,
          0.7916666666666666,
          0.9166666666666666,
          0.9583333333333334,
          0.7916666666666666,
          0.7916666666666666,
          0.9583333333333334,
          0.75,
          0.75,
          0.6666666666666666,
          0.8333333333333334,
          0.7083333333333334,
          0.8333333333333334,
          0.9166666666666666,
          0.7916666666666666,
          0.7916666666666666,
          0.875,
          0.7916666666666666,
          0.8333333333333334,
          0.875,
          0.7916666666666666,
          0.7916666666666666,
          0.7083333333333334,
          0.7916666666666666,
          0.7916666666666666,
          0.875,
          0.7916666666666666,
          0.75,
          0.875,
          0.8333333333333334,
          0.875,
          0.7916666666666666,
          0.9166666666666666,
          0.8333333333333334,
          0.625,
          0.8333333333333334,
          0.7916666666666666,
          0.7916666666666666,
          0.7916666666666666,
          0.7916666666666666,
          0.6666666666666666,
          0.7916666666666666,
          0.8333333333333334,
          0.7083333333333334,
          0.7916666666666666,
          0.6666666666666666,
          0.8333333333333334,
          0.8333333333333334,
          0.7083333333333334,
          0.75,
          0.9166666666666666,
          0.625,
          0.75,
          0.7916666666666666,
          0.8333333333333334,
          0.9166666666666666,
          0.9166666666666666,
          0.6666666666666666,
          0.75,
          0.9166666666666666,
          0.875,
          0.875,
          0.8333333333333334,
          0.75,
          0.8333333333333334,
          0.75,
          0.6666666666666666,
          0.7916666666666666,
          0.875,
          0.9166666666666666,
          0.9166666666666666,
          0.875,
          0.7916666666666666,
          0.7083333333333334,
          0.9166666666666666,
          0.7916666666666666,
          0.9166666666666666,
          0.875,
          0.6666666666666666,
          0.625,
          0.7083333333333334,
          0.75,
          0.75,
          1,
          0.75,
          0.9583333333333334,
          0.875,
          0.75,
          0.8333333333333334,
          0.9166666666666666,
          0.7916666666666666,
          0.9583333333333334,
          0.9166666666666666,
          0.875,
          0.75,
          0.7083333333333334,
          0.9166666666666666,
          0.9166666666666666,
          0.8333333333333334,
          0.9583333333333334,
          0.9166666666666666,
          0.9583333333333334,
          0.8333333333333334,
          0.9583333333333334,
          0.7083333333333334,
          0.8333333333333334,
          0.7916666666666666,
          0.9583333333333334,
          0.75,
          0.875,
          0.8333333333333334,
          0.8333333333333334,
          0.875,
          0.7916666666666666,
          0.8333333333333334,
          0.9583333333333334,
          0.875,
          0.7083333333333334,
          0.9583333333333334,
          0.9583333333333334,
          0.75,
          0.8333333333333334,
          0.875,
          0.7083333333333334,
          0.8333333333333334,
          0.6666666666666666,
          0.75,
          0.875,
          0.6666666666666666,
          0.8333333333333334,
          0.75,
          0.9166666666666666,
          0.9166666666666666,
          0.7916666666666666,
          0.7916666666666666,
          0.8333333333333334,
          0.9166666666666666,
          0.625,
          0.75,
          0.75,
          0.875,
          0.7083333333333334,
          0.75,
          0.875,
          0.625,
          0.875,
          0.875,
          0.75,
          0.8333333333333334,
          0.8333333333333334,
          0.9583333333333334,
          0.875,
          0.8333333333333334,
          0.9166666666666666,
          0.875,
          0.7916666666666666,
          0.7083333333333334,
          0.875,
          0.6666666666666666,
          0.75,
          0.75,
          0.7916666666666666,
          0.9583333333333334,
          0.7083333333333334,
          0.875,
          0.7083333333333334,
          0.7083333333333334,
          0.7916666666666666,
          0.7916666666666666,
          0.5416666666666666,
          0.8333333333333334,
          0.75,
          0.5416666666666666,
          0.5833333333333334,
          0.7916666666666666,
          0.7083333333333334,
          0.7916666666666666,
          0.8333333333333334,
          0.7083333333333334,
          0.7916666666666666,
          0.7916666666666666,
          0.875,
          0.75,
          0.75,
          0.875,
          0.75,
          0.625,
          0.5833333333333334,
          0.625,
          0.8333333333333334,
          0.9166666666666666,
          0.875,
          0.7916666666666666,
          0.9583333333333334,
          0.625,
          0.7916666666666666,
          0.8333333333333334,
          0.875,
          0.8333333333333334,
          0.875,
          0.7916666666666666,
          0.8333333333333334,
          0.875,
          0.75,
          0.875,
          0.875,
          0.7083333333333334,
          0.8333333333333334,
          0.8333333333333334,
          0.7916666666666666,
          0.5833333333333334,
          0.75,
          0.75,
          0.875,
          0.7916666666666666,
          0.8333333333333334,
          0.7083333333333334,
          0.7916666666666666,
          0.8333333333333334,
          0.8333333333333334,
          0.875,
          0.625,
          0.875,
          0.7083333333333334,
          0.9583333333333334,
          0.9166666666666666,
          0.7916666666666666,
          0.6666666666666666,
          0.75,
          0.8333333333333334,
          0.9166666666666666,
          0.7916666666666666,
          0.875,
          0.7916666666666666,
          0.7916666666666666,
          0.9166666666666666,
          0.875,
          0.7916666666666666,
          0.9166666666666666,
          0.8333333333333334,
          0.7083333333333334,
          0.7916666666666666,
          0.875,
          0.6666666666666666,
          0.7916666666666666,
          0.6666666666666666,
          0.7083333333333334,
          0.8333333333333334,
          0.875,
          0.75,
          0.9166666666666666,
          0.8333333333333334,
          0.875,
          0.9583333333333334,
          0.9166666666666666,
          0.8333333333333334,
          0.875,
          0.875,
          0.6666666666666666,
          0.75,
          0.6666666666666666,
          0.9166666666666666,
          0.8333333333333334,
          0.7916666666666666,
          0.875,
          0.875,
          0.875,
          0.7916666666666666,
          0.7083333333333334,
          0.7916666666666666,
          0.75,
          0.7916666666666666,
          0.7916666666666666,
          0.6666666666666666,
          0.7916666666666666,
          0.8333333333333334,
          0.8333333333333334,
          0.75,
          0.8333333333333334,
          0.75,
          0.9166666666666666,
          0.7083333333333334,
          0.8333333333333334,
          0.8333333333333334,
          0.5833333333333334,
          0.6666666666666666,
          0.8333333333333334,
          0.5416666666666666,
          1,
          0.875,
          0.75,
          0.5416666666666666,
          0.8333333333333334,
          0.9583333333333334,
          0.8333333333333334,
          0.7916666666666666,
          0.9166666666666666,
          0.8333333333333334,
          0.8333333333333334,
          0.625,
          0.9166666666666666,
          0.7083333333333334,
          0.7916666666666666,
          1,
          0.7916666666666666,
          0.875,
          0.7916666666666666,
          0.7916666666666666,
          0.875,
          0.75,
          0.75,
          0.7916666666666666,
          0.8333333333333334,
          0.75,
          0.7916666666666666,
          1,
          0.875,
          0.9166666666666666,
          0.7083333333333334,
          0.7083333333333334,
          0.8333333333333334,
          0.75,
          0.875,
          0.8333333333333334,
          0.8333333333333334,
          0.8333333333333334,
          0.75,
          0.7083333333333334,
          0.6666666666666666,
          0.7916666666666666,
          0.5416666666666666,
          0.8333333333333334,
          0.8333333333333334,
          0.7916666666666666,
          0.75,
          0.8333333333333334,
          0.9166666666666666,
          0.9166666666666666,
          0.7083333333333334,
          0.7916666666666666,
          0.7916666666666666,
          0.875,
          0.875,
          0.875,
          0.7083333333333334,
          0.7916666666666666,
          0.9166666666666666,
          0.9166666666666666,
          0.9166666666666666,
          0.875,
          0.7083333333333334,
          0.875,
          0.7083333333333334,
          0.875,
          1,
          0.9166666666666666,
          0.7916666666666666,
          0.9166666666666666,
          0.75,
          0.875,
          0.875,
          0.8333333333333334,
          0.8333333333333334,
          0.875,
          0.7916666666666666,
          0.5416666666666666,
          0.7916666666666666,
          0.875,
          0.9166666666666666,
          0.875,
          0.9166666666666666,
          0.7083333333333334,
          0.875,
          0.7916666666666666,
          0.7916666666666666,
          0.7083333333333334,
          0.875,
          0.75,
          0.875,
          0.9166666666666666,
          0.875,
          0.7916666666666666,
          0.7083333333333334,
          0.7916666666666666,
          0.8333333333333334,
          0.75,
          0.9166666666666666,
          0.9583333333333334,
          0.875,
          0.8333333333333334,
          0.875,
          0.8333333333333334,
          0.7916666666666666,
          0.7916666666666666,
          0.8333333333333334,
          0.7083333333333334,
          0.7916666666666666,
          0.9166666666666666,
          0.75,
          0.8333333333333334,
          0.6666666666666666,
          0.9583333333333334,
          0.6666666666666666,
          0.7916666666666666,
          0.9166666666666666,
          0.6666666666666666,
          0.7916666666666666,
          0.7916666666666666,
          0.8333333333333334,
          0.875,
          0.7916666666666666,
          0.9166666666666666,
          0.7916666666666666,
          0.7083333333333334,
          0.8333333333333334,
          0.7083333333333334,
          0.7916666666666666,
          0.5416666666666666,
          0.6666666666666666,
          0.5833333333333334,
          0.8333333333333334,
          0.875,
          0.8333333333333334,
          0.8333333333333334,
          0.3333333333333333,
          0.875,
          0.9166666666666666,
          0.8333333333333334,
          0.8333333333333334,
          0.75,
          0.875,
          0.9166666666666666,
          0.7083333333333334,
          0.7916666666666666,
          0.8333333333333334,
          0.875,
          0.875,
          0.875,
          0.7916666666666666,
          0.7083333333333334,
          0.6666666666666666,
          0.625,
          0.9166666666666666,
          0.7916666666666666,
          0.7916666666666666,
          0.875,
          0.75,
          0.75,
          0.8333333333333334,
          0.9166666666666666,
          0.7916666666666666,
          0.875,
          0.7916666666666666,
          0.5833333333333334,
          0.7916666666666666,
          0.9166666666666666,
          0.7916666666666666,
          0.7916666666666666,
          0.9166666666666666,
          0.7916666666666666,
          0.875,
          0.875,
          0.7916666666666666,
          0.875,
          0.5833333333333334,
          0.625,
          0.7916666666666666,
          1,
          0.7916666666666666,
          0.6666666666666666,
          0.7083333333333334,
          0.7083333333333334,
          0.7916666666666666,
          0.7916666666666666,
          0.7083333333333334,
          0.75,
          0.9166666666666666,
          0.9166666666666666,
          0.75,
          0.8333333333333334,
          0.7083333333333334,
          0.9166666666666666,
          0.75,
          0.8333333333333334,
          0.7916666666666666,
          0.8333333333333334,
          0.75,
          0.8333333333333334,
          0.625,
          0.9583333333333334,
          0.7916666666666666,
          0.8333333333333334,
          0.7916666666666666,
          0.875,
          0.9166666666666666,
          0.5833333333333334,
          0.8333333333333334,
          0.9166666666666666,
          0.7916666666666666,
          0.7916666666666666,
          0.9166666666666666,
          0.9166666666666666,
          0.875,
          0.625,
          0.7083333333333334,
          0.7916666666666666,
          0.6666666666666666,
          0.875,
          0.625,
          0.9583333333333334,
          0.9166666666666666,
          0.9166666666666666,
          0.8333333333333334,
          0.875,
          0.9166666666666666,
          0.7083333333333334,
          0.875,
          0.625,
          0.875,
          0.9166666666666666,
          0.875,
          0.5833333333333334,
          0.7916666666666666,
          0.75,
          0.7916666666666666,
          0.75,
          0.7916666666666666,
          0.8333333333333334,
          0.625,
          0.8333333333333334,
          0.9166666666666666,
          0.8333333333333334,
          0.75,
          0.7916666666666666,
          0.75,
          0.8333333333333334,
          0.625,
          0.7916666666666666,
          0.8333333333333334,
          0.875,
          0.8333333333333334,
          0.875,
          0.75,
          1,
          0.7083333333333334,
          0.875,
          0.7916666666666666,
          0.7916666666666666,
          0.6666666666666666,
          0.8333333333333334,
          0.7083333333333334,
          0.7916666666666666,
          0.8333333333333334,
          0.7916666666666666,
          0.5,
          0.9166666666666666,
          0.6666666666666666,
          0.7083333333333334,
          0.8333333333333334,
          0.7916666666666666,
          0.7083333333333334,
          0.9166666666666666,
          0.875,
          0.9166666666666666,
          0.625,
          0.7916666666666666,
          0.8333333333333334,
          0.7916666666666666,
          0.7916666666666666,
          0.8333333333333334,
          0.75,
          0.7083333333333334,
          0.5416666666666666,
          0.9166666666666666,
          0.8333333333333334,
          0.875,
          0.7083333333333334,
          0.7083333333333334,
          0.5416666666666666,
          0.6666666666666666,
          0.9583333333333334,
          0.9166666666666666,
          0.875,
          0.7083333333333334,
          0.6666666666666666,
          0.625,
          0.6666666666666666,
          0.875,
          0.7083333333333334,
          0.6666666666666666,
          0.75,
          0.6666666666666666,
          0.8333333333333334,
          0.7916666666666666,
          0.8333333333333334,
          0.75,
          0.7916666666666666,
          0.75,
          0.7083333333333334,
          0.7083333333333334,
          0.75,
          0.6666666666666666,
          0.7916666666666666,
          0.8333333333333334,
          0.75,
          0.9583333333333334,
          0.5,
          0.7916666666666666,
          0.6666666666666666,
          0.9583333333333334,
          0.75,
          0.9583333333333334,
          0.875,
          0.9166666666666666,
          0.5833333333333334,
          0.75,
          0.8333333333333334,
          0.7916666666666666,
          0.9166666666666666,
          0.875,
          0.8333333333333334,
          0.625,
          0.9166666666666666,
          0.8333333333333334,
          0.5416666666666666,
          0.7916666666666666,
          0.7083333333333334,
          0.5833333333333334,
          0.9166666666666666,
          0.7916666666666666,
          0.6666666666666666,
          0.75,
          0.75,
          0.875,
          0.4166666666666667,
          0.75,
          0.7916666666666666,
          0.75,
          0.5416666666666666,
          0.5833333333333334,
          0.875,
          0.7916666666666666,
          0.7916666666666666,
          0.9166666666666666,
          0.875,
          0.75,
          0.875,
          0.75,
          0.75,
          0.625,
          0.75,
          0.9166666666666666,
          0.8333333333333334,
          0.875,
          0.625,
          0.875,
          0.7916666666666666,
          0.8333333333333334,
          0.75,
          0.9166666666666666,
          0.8333333333333334,
          0.875,
          0.9583333333333334,
          0.875,
          0.75,
          0.875,
          0.875,
          0.8333333333333334,
          0.8333333333333334,
          0.9166666666666666,
          0.875,
          0.75,
          0.75,
          0.875,
          0.75,
          0.75,
          0.7916666666666666,
          0.875,
          0.625,
          0.75,
          0.9166666666666666,
          0.75,
          0.75,
          0.8333333333333334,
          0.8333333333333334,
          0.7083333333333334,
          0.7083333333333334,
          0.8333333333333334,
          0.9166666666666666,
          0.8333333333333334,
          0.9166666666666666,
          0.7083333333333334,
          0.9166666666666666,
          0.7916666666666666,
          0.5833333333333334,
          0.9166666666666666,
          0.6666666666666666,
          0.875,
          0.75,
          0.8333333333333334,
          0.9166666666666666,
          0.8333333333333334,
          0.9166666666666666,
          0.7916666666666666,
          0.875,
          0.875,
          0.625,
          0.7916666666666666,
          0.9166666666666666,
          0.9583333333333334,
          0.9166666666666666,
          0.7083333333333334,
          0.7916666666666666,
          0.9583333333333334,
          0.7916666666666666,
          0.875,
          0.9583333333333334,
          0.6666666666666666,
          1,
          0.5833333333333334,
          0.8333333333333334,
          0.875,
          0.9583333333333334,
          0.875,
          0.9166666666666666,
          0.6666666666666666,
          0.8333333333333334,
          0.7916666666666666,
          0.875,
          0.875,
          0.8333333333333334,
          0.75,
          0.6666666666666666,
          0.9166666666666666,
          0.9166666666666666,
          0.8333333333333334,
          0.8333333333333334,
          0.8333333333333334,
          0.8333333333333334,
          0.75,
          0.875,
          0.9166666666666666,
          0.9166666666666666,
          0.9166666666666666,
          0.8333333333333334,
          0.9166666666666666,
          0.7916666666666666,
          0.875,
          0.8333333333333334,
          0.7916666666666666,
          0.8333333333333334,
          0.8333333333333334,
          0.7083333333333334,
          0.875,
          0.75,
          0.7916666666666666,
          0.875,
          0.875,
          0.875,
          0.7083333333333334,
          0.7916666666666666,
          0.8333333333333334,
          0.6666666666666666,
          0.9583333333333334,
          0.875,
          0.9166666666666666,
          0.875,
          0.9166666666666666,
          0.7916666666666666,
          0.875,
          0.9166666666666666,
          0.8333333333333334,
          0.7083333333333334,
          0.875,
          0.9166666666666666,
          0.875,
          0.7916666666666666,
          0.8333333333333334,
          0.6666666666666666,
          0.9583333333333334,
          0.875,
          0.75,
          0.7916666666666666,
          0.875,
          0.6666666666666666,
          0.75,
          0.6666666666666666,
          0.875,
          0.7916666666666666,
          0.9166666666666666,
          0.7916666666666666,
          1,
          0.9583333333333334,
          0.8333333333333334,
          0.6666666666666666,
          0.7916666666666666,
          0.75,
          0.875,
          0.7916666666666666,
          0.875,
          0.9166666666666666,
          0.9166666666666666,
          0.875,
          0.8333333333333334,
          0.8333333333333334,
          0.75,
          0.8333333333333334,
          0.75,
          1,
          0.8333333333333334,
          0.8333333333333334,
          0.7916666666666666,
          0.7916666666666666,
          0.9166666666666666,
          0.8333333333333334,
          0.8333333333333334,
          0.7916666666666666,
          0.875,
          0.9166666666666666,
          0.8333333333333334,
          0.9166666666666666,
          0.8333333333333334,
          0.9166666666666666,
          0.9166666666666666,
          0.75,
          0.875,
          0.7083333333333334,
          0.875,
          0.75,
          0.7916666666666666,
          0.875,
          0.9583333333333334,
          1,
          0.7916666666666666,
          0.8333333333333334,
          0.7916666666666666,
          0.8333333333333334,
          0.7083333333333334,
          0.8333333333333334,
          1,
          0.8333333333333334,
          0.8333333333333334,
          0.7916666666666666,
          0.6666666666666666,
          0.9583333333333334,
          0.9166666666666666,
          0.7916666666666666,
          0.8333333333333334,
          0.7083333333333334,
          0.875,
          0.9166666666666666,
          0.9166666666666666,
          0.75,
          0.7083333333333334,
          0.9166666666666666,
          0.9166666666666666,
          0.7916666666666666,
          0.9166666666666666,
          0.7916666666666666,
          0.8333333333333334,
          1,
          0.625,
          0.7083333333333334,
          0.7916666666666666,
          0.9166666666666666,
          0.75,
          0.8333333333333334,
          0.75,
          0.8333333333333334,
          0.7916666666666666,
          0.9583333333333334,
          0.75,
          0.8333333333333334,
          0.9166666666666666,
          0.9583333333333334,
          0.9166666666666666,
          0.7083333333333334,
          0.9166666666666666,
          0.9583333333333334,
          0.7083333333333334,
          0.875,
          1,
          0.75,
          0.8333333333333334,
          0.8333333333333334,
          0.875,
          0.7916666666666666,
          0.6666666666666666,
          0.9583333333333334,
          0.875,
          0.6666666666666666,
          0.7916666666666666,
          0.9166666666666666,
          0.7083333333333334,
          0.875,
          0.875,
          0.9166666666666666,
          0.7083333333333334,
          0.7916666666666666,
          0.875,
          0.625,
          0.9166666666666666,
          0.6666666666666666,
          0.8333333333333334,
          0.875,
          0.9166666666666666,
          0.6666666666666666,
          0.75,
          0.8333333333333334,
          0.875,
          0.75,
          0.9166666666666666,
          0.9166666666666666,
          0.875,
          0.9583333333333334,
          0.9166666666666666,
          0.875,
          0.75,
          0.7916666666666666,
          0.7916666666666666,
          0.625,
          0.9166666666666666,
          0.8333333333333334,
          1,
          0.8333333333333334,
          0.9583333333333334,
          0.875,
          0.9166666666666666,
          1,
          0.875,
          0.8333333333333334,
          0.8333333333333334,
          0.875,
          0.7083333333333334,
          0.875,
          0.8333333333333334,
          0.5416666666666666,
          1,
          0.8333333333333334,
          0.8333333333333334,
          0.9166666666666666,
          0.75,
          0.875,
          0.7083333333333334,
          0.9166666666666666,
          0.75,
          0.9166666666666666,
          0.875,
          0.875,
          0.875,
          0.9583333333333334,
          0.9583333333333334,
          0.6666666666666666,
          0.7916666666666666,
          0.875,
          0.8333333333333334,
          0.875,
          0.7916666666666666,
          0.9166666666666666,
          0.9166666666666666,
          0.7916666666666666,
          0.8333333333333334,
          0.8333333333333334,
          0.875,
          0.9583333333333334,
          1,
          0.8333333333333334,
          0.8333333333333334,
          0.7916666666666666,
          0.9166666666666666,
          0.9166666666666666,
          0.875,
          0.75,
          0.9166666666666666,
          0.9166666666666666,
          0.8333333333333334,
          0.7916666666666666,
          0.7916666666666666,
          0.7916666666666666,
          0.8333333333333334,
          0.7916666666666666,
          0.875,
          0.875,
          0.875,
          1,
          0.9583333333333334,
          0.8333333333333334,
          0.75,
          0.9166666666666666,
          0.875,
          0.7916666666666666,
          1,
          0.875,
          0.8333333333333334,
          0.9583333333333334,
          0.75,
          0.875,
          0.7916666666666666,
          0.875,
          0.8333333333333334,
          0.7916666666666666,
          0.875,
          0.7083333333333334,
          0.875,
          0.75,
          0.7083333333333334,
          0.875,
          0.9583333333333334,
          0.7916666666666666,
          0.8333333333333334,
          0.8333333333333334,
          0.625,
          0.8333333333333334,
          1,
          0.9583333333333334,
          0.5833333333333334,
          0.9583333333333334,
          0.7083333333333334,
          0.9166666666666666,
          0.7916666666666666,
          0.8333333333333334,
          0.9583333333333334,
          0.9166666666666666,
          0.875,
          1,
          0.9166666666666666,
          0.875,
          0.9583333333333334,
          0.75,
          0.875,
          0.7916666666666666,
          0.875,
          0.875,
          0.875,
          0.875,
          0.75,
          0.9583333333333334,
          0.9583333333333334,
          0.8333333333333334,
          0.8333333333333334,
          0.7916666666666666,
          0.9583333333333334,
          0.7916666666666666,
          1,
          0.75,
          0.9166666666666666,
          0.875,
          1,
          0.9166666666666666,
          0.875,
          0.8333333333333334,
          0.7916666666666666,
          0.875,
          0.7916666666666666,
          0.875,
          0.875,
          0.75,
          0.75,
          0.7916666666666666,
          0.6666666666666666,
          0.875,
          0.9166666666666666,
          0.7083333333333334,
          0.625,
          0.875,
          0.8333333333333334,
          0.7916666666666666,
          0.8333333333333334,
          0.7916666666666666,
          0.8333333333333334,
          0.8333333333333334,
          0.7083333333333334,
          0.9166666666666666,
          0.7083333333333334,
          0.8333333333333334,
          0.75,
          0.875,
          0.7083333333333334,
          0.75,
          0.8333333333333334,
          0.9166666666666666,
          1,
          0.9583333333333334,
          0.875,
          0.9166666666666666,
          0.7916666666666666,
          0.8333333333333334,
          0.875,
          0.8333333333333334,
          0.6666666666666666,
          0.9583333333333334,
          0.9583333333333334,
          0.9166666666666666,
          0.8333333333333334,
          0.9166666666666666,
          0.7083333333333334,
          0.75,
          0.8333333333333334,
          0.9166666666666666,
          0.9166666666666666,
          0.8333333333333334,
          0.7916666666666666,
          0.9583333333333334,
          0.7083333333333334,
          0.7916666666666666,
          0.875,
          0.7083333333333334,
          0.8333333333333334,
          0.7916666666666666,
          0.75,
          0.9166666666666666,
          0.9166666666666666,
          0.7916666666666666,
          0.9166666666666666,
          0.9166666666666666,
          0.875,
          0.9166666666666666,
          0.875,
          0.7916666666666666,
          0.875,
          0.9166666666666666,
          0.875,
          0.8333333333333334,
          0.8333333333333334,
          0.8333333333333334,
          0.9166666666666666,
          0.9166666666666666,
          0.7083333333333334,
          0.9583333333333334,
          0.75,
          0.875,
          0.7916666666666666,
          0.5416666666666666,
          0.8333333333333334,
          0.875,
          0.8333333333333334,
          0.7916666666666666,
          0.875,
          0.875,
          0.8333333333333334,
          0.8333333333333334,
          0.9166666666666666,
          0.75,
          0.8333333333333334,
          0.8333333333333334,
          0.8333333333333334,
          0.9166666666666666,
          0.6666666666666666,
          0.9583333333333334,
          0.7083333333333334,
          0.875,
          0.7916666666666666,
          0.875,
          0.9166666666666666,
          0.7916666666666666,
          0.8333333333333334,
          0.7083333333333334,
          0.9166666666666666,
          0.8333333333333334,
          0.8333333333333334,
          0.8333333333333334,
          0.9166666666666666,
          0.8333333333333334,
          0.8333333333333334,
          0.75,
          0.8333333333333334,
          0.8333333333333334,
          0.9166666666666666,
          0.75,
          0.9166666666666666,
          0.8333333333333334,
          0.875,
          0.9583333333333334,
          0.9166666666666666,
          0.9166666666666666,
          0.8333333333333334,
          0.875,
          0.875,
          0.9166666666666666,
          0.9583333333333334,
          0.75,
          0.7916666666666666,
          0.9583333333333334,
          0.8333333333333334,
          0.8333333333333334,
          0.9166666666666666,
          0.875,
          1,
          0.7916666666666666,
          0.9166666666666666,
          0.9166666666666666,
          0.9583333333333334,
          0.9166666666666666,
          0.5833333333333334,
          0.8333333333333334,
          0.8333333333333334,
          1,
          0.875,
          0.625,
          0.7916666666666666,
          0.6666666666666666,
          0.875,
          0.8333333333333334,
          0.7916666666666666,
          0.9166666666666666,
          0.8333333333333334,
          0.7916666666666666,
          0.875,
          0.875,
          0.9583333333333334,
          0.7083333333333334,
          0.9166666666666666,
          0.9583333333333334,
          0.875,
          0.875,
          0.9166666666666666,
          0.875,
          0.875,
          1,
          0.75,
          0.75,
          0.7083333333333334,
          0.6666666666666666,
          0.9583333333333334,
          0.7083333333333334,
          0.875,
          0.9166666666666666,
          0.7916666666666666,
          0.75,
          0.875,
          0.8333333333333334,
          0.9583333333333334,
          0.9166666666666666,
          0.9166666666666666,
          0.9166666666666666,
          0.9166666666666666,
          0.9583333333333334,
          0.75,
          0.8333333333333334,
          0.9166666666666666,
          0.7083333333333334,
          0.9166666666666666,
          0.9583333333333334,
          0.8333333333333334,
          0.75,
          0.75,
          0.9166666666666666,
          0.5833333333333334,
          0.8333333333333334,
          0.9166666666666666,
          0.7916666666666666,
          0.75,
          0.9166666666666666,
          0.8333333333333334,
          0.875,
          0.5416666666666666,
          0.75,
          0.8333333333333334,
          0.8333333333333334,
          0.7916666666666666,
          0.8333333333333334,
          0.875,
          0.5416666666666666,
          0.9166666666666666,
          0.9583333333333334,
          0.9583333333333334,
          0.9166666666666666,
          0.875,
          0.8333333333333334,
          0.875,
          0.75,
          0.9583333333333334,
          0.875,
          0.9166666666666666,
          0.9166666666666666,
          0.7916666666666666,
          0.9166666666666666,
          0.75,
          0.75,
          0.9166666666666666,
          0.875,
          0.875,
          0.9166666666666666,
          0.875,
          0.7083333333333334,
          0.9583333333333334,
          0.8333333333333334,
          0.9166666666666666,
          0.9166666666666666,
          0.8333333333333334,
          0.6666666666666666,
          0.8333333333333334,
          0.7083333333333334,
          0.9166666666666666,
          0.5833333333333334,
          0.7916666666666666,
          0.9166666666666666,
          0.875,
          1,
          0.9166666666666666,
          0.8333333333333334,
          0.7916666666666666,
          0.8333333333333334,
          0.625,
          0.7916666666666666,
          0.9583333333333334,
          0.4166666666666667,
          0.9166666666666666,
          0.875,
          0.9166666666666666,
          0.875,
          0.7083333333333334,
          0.9166666666666666,
          0.8333333333333334,
          0.8333333333333334,
          0.8333333333333334,
          0.875,
          1,
          0.9583333333333334,
          0.7916666666666666,
          0.9583333333333334,
          1,
          0.8333333333333334,
          0.75,
          0.875,
          0.8333333333333334,
          0.9583333333333334,
          0.8333333333333334,
          0.7916666666666666,
          0.75,
          0.6666666666666666,
          0.7916666666666666,
          0.8333333333333334,
          0.4583333333333333,
          0.7916666666666666,
          0.875,
          0.8333333333333334,
          0.9583333333333334,
          0.7916666666666666,
          0.9583333333333334,
          0.8333333333333334,
          0.8333333333333334,
          0.7083333333333334,
          0.8333333333333334,
          0.7916666666666666,
          0.875,
          0.75,
          0.75,
          0.8333333333333334,
          0.8333333333333334,
          0.875,
          1,
          1,
          0.8333333333333334,
          0.875,
          0.8333333333333334,
          0.7083333333333334,
          0.8333333333333334,
          0.9583333333333334,
          0.9166666666666666,
          0.7083333333333334,
          1,
          0.875,
          0.7083333333333334,
          0.7916666666666666,
          0.8333333333333334,
          0.7916666666666666,
          0.8333333333333334,
          0.8333333333333334,
          0.8333333333333334,
          0.75,
          0.7083333333333334,
          0.9583333333333334,
          0.9583333333333334,
          0.75,
          0.5833333333333334,
          0.8333333333333334,
          0.7916666666666666,
          0.9166666666666666,
          0.9166666666666666,
          0.9166666666666666,
          0.875,
          0.7916666666666666,
          0.9166666666666666,
          0.8333333333333334,
          0.875,
          0.875,
          0.7916666666666666,
          1,
          0.9583333333333334,
          0.8333333333333334,
          0.8333333333333334,
          0.9166666666666666,
          0.7916666666666666,
          0.875,
          0.9166666666666666,
          0.875,
          0.875,
          0.9166666666666666,
          0.8333333333333334,
          0.6666666666666666,
          0.9583333333333334,
          0.7916666666666666,
          0.75,
          0.875,
          0.9166666666666666,
          0.9583333333333334,
          0.9166666666666666,
          0.6666666666666666,
          0.9583333333333334,
          0.8333333333333334,
          0.7083333333333334,
          0.9583333333333334,
          0.8333333333333334,
          0.7916666666666666,
          0.7083333333333334,
          0.875,
          0.7916666666666666,
          0.7916666666666666,
          0.7916666666666666,
          0.8333333333333334,
          0.7916666666666666,
          0.8333333333333334,
          0.75,
          0.9166666666666666,
          0.9166666666666666,
          0.875,
          0.6666666666666666,
          0.875,
          0.7083333333333334,
          0.7916666666666666,
          0.75,
          0.6666666666666666,
          0.8333333333333334,
          0.75,
          1,
          0.7916666666666666,
          0.625,
          0.8333333333333334,
          0.9166666666666666,
          0.9166666666666666,
          0.9583333333333334,
          0.875,
          0.875,
          0.6666666666666666,
          0.8333333333333334,
          0.75,
          0.7916666666666666,
          0.7083333333333334,
          0.75,
          0.7916666666666666,
          0.8333333333333334,
          0.625,
          0.8333333333333334,
          0.6666666666666666,
          0.9166666666666666,
          0.6666666666666666,
          0.9583333333333334,
          0.75,
          0.8333333333333334,
          0.9166666666666666,
          0.9166666666666666,
          0.75,
          0.9583333333333334,
          0.8333333333333334,
          0.8333333333333334,
          0.7083333333333334,
          0.875,
          0.875,
          0.9583333333333334,
          0.875,
          0.7916666666666666,
          0.7083333333333334,
          0.7083333333333334,
          0.75,
          0.9166666666666666,
          0.8333333333333334,
          0.8333333333333334,
          0.875,
          0.875,
          0.8333333333333334,
          0.7916666666666666,
          0.8333333333333334,
          0.9166666666666666,
          0.9166666666666666,
          0.9583333333333334,
          0.8333333333333334,
          0.7916666666666666,
          0.7916666666666666,
          0.875,
          0.9166666666666666,
          0.9166666666666666,
          0.9583333333333334,
          0.875,
          0.75,
          0.6666666666666666,
          0.6666666666666666,
          0.8333333333333334,
          0.9166666666666666,
          0.6666666666666666,
          0.75,
          0.7916666666666666,
          0.625,
          0.875,
          0.8333333333333334,
          0.875,
          0.8333333333333334,
          0.75,
          0.875,
          0.8333333333333334,
          0.9583333333333334,
          0.8333333333333334,
          0.9166666666666666,
          0.75,
          0.875,
          0.9166666666666666,
          0.9166666666666666,
          0.9583333333333334,
          0.75,
          0.875,
          0.9166666666666666,
          0.8333333333333334,
          0.9583333333333334,
          0.4583333333333333,
          0.875,
          0.875,
          0.4166666666666667,
          0.6666666666666666,
          0.3333333333333333,
          0.7916666666666666,
          0.9583333333333334,
          0.8333333333333334,
          0.6666666666666666,
          0.7916666666666666,
          0.75,
          0.8333333333333334,
          0.7083333333333334,
          0.75,
          0.5833333333333334,
          0.9166666666666666,
          0.5416666666666666,
          0.8333333333333334,
          0.875,
          0.875,
          0.6666666666666666,
          0.5833333333333334,
          0.75,
          0.7916666666666666,
          0.8333333333333334,
          0.8333333333333334,
          0.8333333333333334,
          0.75,
          0.875,
          0.8333333333333334,
          0.7916666666666666,
          0.75,
          0.8333333333333334,
          0.6666666666666666,
          0.9166666666666666,
          0.7083333333333334,
          0.8333333333333334,
          0.8333333333333334,
          0.7916666666666666,
          0.75,
          0.8333333333333334,
          0.7083333333333334,
          0.875,
          0.75,
          0.7083333333333334,
          0.9166666666666666,
          0.875,
          0.875,
          0.6666666666666666,
          0.9166666666666666,
          0.8333333333333334,
          0.9166666666666666,
          0.5833333333333334,
          0.875,
          0.8333333333333334,
          0.9583333333333334,
          0.9166666666666666,
          0.7916666666666666,
          0.8333333333333334,
          0.75,
          0.875,
          0.7916666666666666,
          0.625,
          0.875,
          0.625,
          0.625,
          0.9166666666666666,
          0.875,
          0.7916666666666666,
          0.5416666666666666,
          0.7916666666666666,
          0.8333333333333334,
          0.9583333333333334,
          0.7083333333333334,
          0.8333333333333334,
          0.7916666666666666,
          0.9583333333333334,
          0.5416666666666666,
          0.5416666666666666,
          0.75,
          0.6666666666666666,
          0.8333333333333334,
          0.9583333333333334,
          0.6666666666666666,
          0.8333333333333334,
          0.8333333333333334,
          0.9166666666666666,
          0.7083333333333334,
          0.7083333333333334,
          0.9166666666666666,
          0.875,
          0.9166666666666666,
          0.75,
          0.7083333333333334,
          0.8333333333333334,
          0.8333333333333334,
          0.875,
          0.9166666666666666,
          0.7083333333333334,
          0.7916666666666666,
          0.875,
          0.75,
          0.875,
          0.7916666666666666,
          0.7916666666666666,
          0.8333333333333334,
          0.875,
          0.75,
          0.8333333333333334,
          0.8333333333333334,
          0.9583333333333334,
          0.8333333333333334,
          0.7916666666666666,
          0.6666666666666666,
          0.7916666666666666,
          0.7083333333333334,
          0.75,
          0.8333333333333334,
          0.8333333333333334,
          0.875,
          0.7916666666666666,
          0.7916666666666666,
          0.7916666666666666,
          0.8333333333333334,
          0.9583333333333334,
          0.8333333333333334,
          0.875,
          0.9166666666666666,
          0.9166666666666666,
          0.9166666666666666,
          0.8333333333333334,
          0.9166666666666666,
          0.8333333333333334,
          0.7916666666666666,
          0.875,
          0.7916666666666666,
          0.75,
          0.8333333333333334,
          0.75,
          0.75,
          0.9166666666666666,
          0.875,
          0.875,
          0.875,
          0.9166666666666666,
          0.875,
          0.7083333333333334,
          0.875,
          0.8333333333333334,
          0.8333333333333334,
          0.7916666666666666,
          0.875,
          0.7916666666666666,
          0.75,
          0.9583333333333334,
          0.9583333333333334,
          0.7916666666666666,
          0.8333333333333334,
          0.8333333333333334,
          0.875,
          0.8333333333333334,
          0.875,
          0.8333333333333334,
          0.875,
          0.75,
          0.7916666666666666,
          0.9166666666666666,
          0.875,
          0.8333333333333334,
          0.875,
          0.9166666666666666,
          0.7916666666666666,
          0.9166666666666666,
          0.7083333333333334,
          0.8333333333333334,
          0.875,
          0.7916666666666666,
          0.8333333333333334,
          0.875,
          0.8333333333333334,
          0.8333333333333334,
          0.9166666666666666,
          0.7083333333333334,
          0.8333333333333334,
          0.9166666666666666,
          0.8333333333333334,
          0.8333333333333334,
          0.9166666666666666,
          0.8333333333333334,
          0.75,
          0.875,
          0.9166666666666666,
          0.7916666666666666,
          0.875,
          0.8333333333333334,
          0.875,
          0.875,
          0.875,
          0.9166666666666666,
          0.75,
          0.75,
          0.9166666666666666,
          0.7083333333333334,
          0.7916666666666666,
          0.75,
          0.9166666666666666,
          0.8333333333333334,
          0.8333333333333334,
          0.9166666666666666,
          0.8333333333333334,
          0.875,
          0.875,
          0.8333333333333334,
          0.7916666666666666,
          0.8333333333333334,
          0.875,
          0.7916666666666666,
          0.7083333333333334,
          0.9166666666666666,
          0.75,
          0.8333333333333334,
          0.8333333333333334,
          0.75,
          0.9583333333333334,
          0.9166666666666666,
          0.7083333333333334,
          0.7916666666666666,
          0.8333333333333334,
          0.7916666666666666,
          0.5416666666666666,
          0.7916666666666666,
          0.625,
          0.875,
          0.9166666666666666,
          0.9166666666666666,
          0.7916666666666666,
          0.875,
          0.9583333333333334,
          0.75,
          0.9166666666666666,
          0.9166666666666666,
          0.875,
          0.8333333333333334,
          0.8333333333333334,
          0.8333333333333334,
          0.9166666666666666,
          0.8333333333333334,
          1,
          0.7916666666666666,
          0.875,
          0.875,
          0.9166666666666666,
          0.875,
          0.7916666666666666,
          0.9583333333333334,
          0.9583333333333334,
          0.875,
          0.8333333333333334,
          0.6666666666666666,
          0.8333333333333334,
          0.875,
          0.875,
          0.6666666666666666,
          0.8333333333333334,
          0.7916666666666666,
          0.875,
          0.9166666666666666,
          0.9166666666666666,
          0.7083333333333334,
          0.75,
          0.6666666666666666,
          0.8333333333333334,
          0.875,
          0.7916666666666666,
          0.7916666666666666,
          0.7916666666666666,
          0.9166666666666666,
          0.9583333333333334,
          0.9166666666666666,
          0.875,
          0.875,
          0.9166666666666666,
          0.75,
          0.8333333333333334,
          0.9166666666666666,
          0.9166666666666666,
          1,
          0.7916666666666666,
          0.75,
          0.9583333333333334,
          0.875,
          0.9166666666666666,
          0.8333333333333334,
          0.875,
          0.9583333333333334,
          0.8333333333333334,
          0.9166666666666666,
          0.7916666666666666,
          0.875,
          0.875,
          0.75,
          0.8333333333333334,
          0.875,
          0.9166666666666666,
          0.9583333333333334,
          0.875,
          0.9166666666666666,
          0.9166666666666666,
          0.6666666666666666,
          0.8333333333333334,
          0.9583333333333334,
          0.9583333333333334,
          0.875,
          0.875,
          0.6666666666666666,
          0.6666666666666666,
          0.9166666666666666,
          0.875,
          0.7083333333333334,
          0.7916666666666666,
          0.7916666666666666,
          0.9583333333333334,
          0.9166666666666666,
          0.8333333333333334,
          0.8333333333333334,
          0.7916666666666666,
          0.7083333333333334,
          0.875,
          0.875,
          0.6666666666666666,
          0.7083333333333334,
          0.9166666666666666,
          0.8333333333333334,
          0.8333333333333334,
          0.875,
          0.7916666666666666,
          0.7083333333333334,
          0.875,
          0.7083333333333334,
          0.75,
          0.875,
          0.75,
          0.75,
          0.9583333333333334,
          0.7916666666666666,
          0.875,
          0.875,
          0.75,
          0.8333333333333334,
          0.7916666666666666,
          0.9166666666666666,
          0.8333333333333334,
          0.9166666666666666,
          0.875,
          0.9166666666666666,
          1,
          0.9583333333333334,
          0.8333333333333334,
          0.75,
          0.875,
          0.875,
          0.7083333333333334,
          0.8333333333333334,
          0.75,
          0.9166666666666666,
          0.9166666666666666,
          0.9166666666666666,
          0.8333333333333334,
          0.75,
          0.9166666666666666,
          0.9583333333333334,
          0.875,
          0.9166666666666666,
          0.7916666666666666,
          0.75,
          0.8333333333333334,
          0.9583333333333334,
          0.7916666666666666,
          0.7916666666666666,
          0.7916666666666666,
          0.7916666666666666,
          0.9166666666666666,
          0.6666666666666666,
          0.9583333333333334,
          0.875,
          0.9166666666666666,
          0.9166666666666666,
          0.9166666666666666,
          0.9583333333333334,
          0.9166666666666666,
          0.7083333333333334,
          0.8333333333333334,
          0.75,
          0.9166666666666666,
          0.75,
          0.75,
          0.6666666666666666,
          0.8333333333333334,
          0.9166666666666666,
          0.75,
          0.75,
          0.9166666666666666,
          0.875,
          0.75,
          0.9166666666666666,
          0.75,
          0.7916666666666666,
          0.9166666666666666,
          0.9583333333333334,
          0.8333333333333334,
          0.9166666666666666,
          0.8333333333333334,
          0.9166666666666666,
          0.7083333333333334,
          0.7916666666666666,
          0.5833333333333334,
          0.9166666666666666,
          0.7916666666666666,
          0.875,
          0.875,
          0.7916666666666666,
          0.75,
          0.7916666666666666,
          0.8333333333333334,
          0.75,
          0.8333333333333334,
          0.875,
          0.875,
          0.8333333333333334,
          0.875,
          0.9583333333333334,
          0.875,
          0.8333333333333334,
          0.9166666666666666,
          0.9166666666666666,
          0.9166666666666666,
          0.875,
          0.7916666666666666,
          0.9583333333333334,
          0.9583333333333334,
          0.75,
          0.9166666666666666,
          0.9166666666666666,
          0.9166666666666666,
          0.7916666666666666,
          0.9166666666666666,
          0.9166666666666666,
          0.9166666666666666,
          0.9583333333333334,
          0.9166666666666666,
          0.75,
          0.6666666666666666,
          0.875,
          0.75,
          0.7083333333333334,
          0.75,
          0.9166666666666666,
          0.875,
          0.75,
          0.875,
          0.7916666666666666,
          0.875,
          0.9583333333333334,
          0.7916666666666666,
          0.875,
          0.8333333333333334,
          0.9166666666666666,
          0.75,
          0.9166666666666666,
          0.875,
          0.7916666666666666,
          0.75,
          0.9583333333333334,
          0.8333333333333334,
          1,
          0.9166666666666666,
          0.875,
          0.75,
          0.875,
          0.7083333333333334,
          0.75,
          0.9583333333333334,
          0.8333333333333334,
          0.9166666666666666,
          0.7916666666666666,
          1,
          0.6666666666666666,
          0.75,
          0.9166666666666666,
          0.875,
          0.75,
          0.875,
          0.8333333333333334,
          0.9583333333333334,
          0.9166666666666666,
          0.9583333333333334,
          0.875,
          0.875,
          0.7916666666666666,
          0.8333333333333334,
          0.8333333333333334,
          0.6666666666666666,
          0.8333333333333334,
          0.9166666666666666,
          0.7083333333333334,
          0.9166666666666666,
          0.7083333333333334,
          0.875,
          0.875,
          0.875,
          0.875,
          0.8333333333333334,
          0.7083333333333334,
          0.75,
          0.875,
          0.8333333333333334,
          0.7083333333333334,
          0.75,
          0.8333333333333334,
          0.875,
          0.7083333333333334,
          0.9166666666666666,
          0.875,
          0.875,
          0.8333333333333334,
          0.75,
          0.7083333333333334,
          0.75,
          0.8333333333333334,
          0.8333333333333334,
          0.7916666666666666,
          0.9583333333333334,
          0.75,
          0.9166666666666666,
          0.75,
          0.75,
          0.875,
          0.7916666666666666,
          0.7916666666666666,
          0.875,
          0.875,
          0.8333333333333334,
          0.75,
          0.75,
          0.8333333333333334,
          0.9583333333333334,
          0.75,
          0.9583333333333334,
          0.875,
          0.7083333333333334,
          0.8333333333333334,
          0.5416666666666666,
          0.9166666666666666,
          0.875,
          0.9583333333333334,
          0.875,
          0.8333333333333334,
          0.7916666666666666,
          0.75,
          0.7083333333333334,
          0.9166666666666666,
          0.9166666666666666,
          0.7916666666666666,
          0.8333333333333334,
          0.9166666666666666,
          0.8333333333333334,
          0.7916666666666666,
          0.9166666666666666,
          0.8333333333333334,
          0.75,
          0.9166666666666666,
          0.875,
          0.7916666666666666,
          0.9166666666666666,
          0.875,
          1,
          0.875,
          0.875,
          0.9583333333333334,
          0.7083333333333334,
          0.625,
          0.875,
          0.625,
          0.9166666666666666,
          0.875,
          0.75,
          0.9166666666666666,
          0.75,
          0.8333333333333334,
          0.9166666666666666,
          0.9166666666666666,
          0.8333333333333334,
          0.8333333333333334,
          0.875,
          0.8333333333333334,
          0.875,
          0.75,
          0.6666666666666666,
          0.7916666666666666,
          0.75,
          0.6666666666666666,
          0.9583333333333334,
          0.8333333333333334,
          0.8333333333333334,
          0.875,
          0.7916666666666666,
          0.75,
          0.7083333333333334,
          0.9166666666666666,
          0.8333333333333334,
          0.7083333333333334,
          0.7916666666666666,
          0.9166666666666666,
          0.875,
          0.875,
          0.8333333333333334,
          0.75,
          0.8333333333333334,
          0.7916666666666666,
          0.8333333333333334,
          0.875,
          0.9166666666666666,
          0.9166666666666666,
          0.9166666666666666,
          0.875,
          0.8333333333333334,
          0.9583333333333334,
          0.875,
          0.875,
          0.75,
          0.8333333333333334,
          0.8333333333333334,
          0.8333333333333334,
          0.875,
          0.6666666666666666,
          0.7916666666666666,
          0.7916666666666666,
          0.7083333333333334,
          0.75,
          0.875,
          1,
          0.7916666666666666,
          0.5833333333333334,
          0.7916666666666666,
          0.875,
          0.875,
          0.875,
          0.9166666666666666,
          0.9583333333333334,
          0.8333333333333334,
          0.7916666666666666,
          0.7916666666666666,
          0.6666666666666666,
          0.8333333333333334,
          0.875,
          0.875,
          0.9166666666666666,
          0.7916666666666666,
          0.9166666666666666,
          0.625,
          0.8333333333333334,
          0.6666666666666666,
          0.875,
          0.8333333333333334,
          0.8333333333333334,
          0.875,
          0.75,
          0.8333333333333334,
          0.7916666666666666,
          0.75,
          0.9166666666666666,
          0.7916666666666666,
          0.9583333333333334,
          0.75,
          0.9583333333333334,
          0.75,
          0.7916666666666666,
          0.9583333333333334,
          0.9583333333333334,
          0.875,
          0.875,
          0.75,
          0.875,
          0.9583333333333334,
          0.875,
          0.75,
          0.75,
          0.875,
          0.8333333333333334,
          0.875,
          0.875,
          0.8333333333333334,
          0.875,
          0.8333333333333334,
          0.7083333333333334,
          0.875,
          0.7083333333333334,
          0.875,
          0.7916666666666666,
          0.8333333333333334,
          0.7916666666666666,
          0.6666666666666666,
          0.6666666666666666,
          0.7916666666666666,
          0.7083333333333334,
          0.875,
          0.8333333333333334,
          0.7916666666666666,
          0.75,
          0.8333333333333334,
          0.8333333333333334,
          0.75,
          0.7083333333333334,
          0.75,
          0.8333333333333334,
          0.9166666666666666,
          0.9583333333333334,
          0.8333333333333334,
          0.8333333333333334,
          0.7916666666666666,
          0.9583333333333334,
          0.7083333333333334,
          0.7083333333333334,
          0.75,
          0.75,
          0.9583333333333334,
          0.7083333333333334,
          0.7083333333333334,
          0.9583333333333334,
          0.6666666666666666,
          0.8333333333333334,
          0.875,
          0.7083333333333334,
          0.8333333333333334,
          0.875,
          0.8333333333333334,
          0.7916666666666666,
          0.9166666666666666,
          1,
          0.9583333333333334,
          0.7916666666666666,
          0.7916666666666666,
          0.8333333333333334,
          0.7916666666666666,
          0.8333333333333334,
          0.9583333333333334,
          0.875,
          0.8333333333333334,
          0.75,
          0.875,
          0.8333333333333334,
          0.9166666666666666,
          0.9166666666666666,
          0.9166666666666666,
          0.875,
          0.7916666666666666,
          0.875,
          0.7083333333333334,
          0.9166666666666666,
          0.7083333333333334,
          0.9166666666666666,
          0.8333333333333334,
          0.9166666666666666,
          0.9166666666666666,
          0.8333333333333334,
          0.8333333333333334,
          0.7916666666666666,
          0.8333333333333334,
          0.7916666666666666,
          0.7916666666666666,
          0.75,
          0.7916666666666666,
          0.9583333333333334,
          0.9166666666666666,
          0.8333333333333334,
          0.7083333333333334,
          0.9583333333333334,
          0.7916666666666666,
          0.8333333333333334,
          0.8333333333333334,
          0.9166666666666666,
          0.7916666666666666,
          0.6666666666666666,
          0.875,
          0.75,
          0.9583333333333334,
          0.875,
          0.9583333333333334,
          0.8333333333333334,
          0.7083333333333334,
          0.9166666666666666,
          0.8333333333333334,
          0.875,
          0.7916666666666666,
          0.9166666666666666,
          0.9166666666666666,
          0.7916666666666666,
          0.875,
          0.8333333333333334,
          0.625,
          0.5833333333333334,
          0.75,
          0.8333333333333334,
          0.7916666666666666,
          0.6666666666666666,
          0.875,
          0.875,
          0.9166666666666666,
          0.9166666666666666,
          0.9166666666666666,
          0.875,
          0.7083333333333334,
          0.75,
          0.875,
          0.9583333333333334,
          0.75,
          0.875,
          0.6666666666666666,
          1,
          0.9583333333333334,
          0.8333333333333334,
          0.8333333333333334,
          0.9166666666666666,
          0.8333333333333334,
          0.7083333333333334,
          0.9166666666666666,
          0.9166666666666666,
          0.8333333333333334,
          0.7083333333333334,
          0.8333333333333334,
          0.875,
          0.75,
          0.7916666666666666,
          0.4583333333333333,
          0.9583333333333334,
          0.875,
          0.5833333333333334,
          0.8333333333333334,
          0.75,
          0.7916666666666666,
          0.9166666666666666,
          0.875,
          0.7916666666666666,
          0.9583333333333334,
          0.875,
          0.9166666666666666,
          0.7083333333333334,
          0.9166666666666666,
          0.5833333333333334,
          0.9583333333333334,
          0.875,
          0.9166666666666666,
          0.9166666666666666,
          0.9166666666666666,
          0.75,
          1,
          0.7916666666666666,
          0.8333333333333334,
          0.9166666666666666,
          1,
          0.9583333333333334,
          0.7083333333333334,
          0.7083333333333334,
          1,
          0.7916666666666666,
          0.7916666666666666,
          0.9583333333333334,
          0.875,
          0.7916666666666666,
          0.8333333333333334,
          0.7916666666666666,
          0.75,
          0.6666666666666666,
          0.7916666666666666,
          0.7083333333333334,
          0.875,
          0.7916666666666666,
          0.875,
          0.9166666666666666,
          0.9166666666666666,
          0.9166666666666666,
          0.9583333333333334,
          0.8333333333333334,
          0.9166666666666666,
          0.7916666666666666,
          0.5416666666666666,
          0.8333333333333334,
          0.7916666666666666,
          0.8333333333333334,
          0.9166666666666666,
          0.9166666666666666,
          0.9166666666666666,
          0.9583333333333334,
          0.8333333333333334,
          0.875,
          0.8333333333333334,
          0.9583333333333334,
          0.9166666666666666,
          0.9166666666666666,
          0.9166666666666666,
          0.875,
          0.875,
          0.8333333333333334,
          0.5416666666666666,
          0.9166666666666666,
          0.75,
          0.7916666666666666,
          0.8333333333333334,
          0.7916666666666666,
          0.75,
          0.9166666666666666,
          0.9583333333333334,
          0.625,
          0.5416666666666666,
          0.9583333333333334,
          0.9583333333333334,
          0.75,
          0.9166666666666666,
          0.75,
          0.9583333333333334,
          0.625,
          0.7916666666666666,
          0.7916666666666666,
          0.8333333333333334,
          0.9166666666666666,
          0.7916666666666666,
          0.9166666666666666,
          0.9166666666666666,
          0.7916666666666666,
          0.9166666666666666,
          0.7916666666666666,
          0.75,
          0.9166666666666666,
          0.7916666666666666,
          1,
          0.875,
          0.875,
          0.875,
          1,
          0.9166666666666666,
          0.7916666666666666,
          0.875,
          0.75,
          0.8333333333333334,
          0.9166666666666666,
          0.875,
          0.8333333333333334,
          0.875,
          0.875,
          0.7916666666666666,
          0.875,
          0.9166666666666666,
          0.7916666666666666,
          0.9166666666666666,
          0.7916666666666666,
          0.9166666666666666,
          0.75,
          0.9166666666666666,
          0.9166666666666666,
          0.8333333333333334,
          0.9166666666666666,
          0.7916666666666666,
          0.9583333333333334,
          0.8333333333333334,
          1,
          0.9166666666666666,
          0.875,
          0.7916666666666666,
          0.9166666666666666,
          0.8333333333333334,
          0.75,
          0.9166666666666666,
          0.7916666666666666,
          0.9166666666666666,
          0.9583333333333334,
          0.8333333333333334,
          0.75,
          0.7083333333333334,
          0.9583333333333334,
          0.7083333333333334,
          0.8333333333333334,
          0.8333333333333334,
          0.875,
          0.75,
          0.875,
          0.875,
          0.9166666666666666,
          0.9583333333333334,
          0.8333333333333334,
          0.875,
          0.8333333333333334,
          0.875,
          0.875,
          1,
          0.7083333333333334,
          0.875,
          0.875,
          0.8333333333333334,
          0.7083333333333334,
          0.75,
          0.9166666666666666,
          0.75,
          0.8333333333333334,
          0.875,
          0.9166666666666666,
          0.625,
          0.7916666666666666,
          0.7916666666666666,
          0.4583333333333333,
          1,
          0.9583333333333334,
          0.8333333333333334,
          0.9166666666666666,
          0.7916666666666666,
          0.7916666666666666,
          0.8333333333333334,
          0.9166666666666666,
          0.9583333333333334,
          0.9166666666666666,
          0.8333333333333334,
          0.75,
          0.875,
          0.875,
          0.875,
          0.8333333333333334,
          0.9166666666666666,
          0.7083333333333334,
          0.875,
          0.9166666666666666,
          1,
          0.9583333333333334,
          0.9166666666666666,
          0.7916666666666666,
          0.9166666666666666,
          0.875,
          0.7916666666666666,
          0.9166666666666666,
          0.9583333333333334,
          0.875,
          0.75,
          0.75,
          0.8333333333333334,
          0.875,
          0.7916666666666666,
          0.625,
          0.9166666666666666,
          1,
          0.7916666666666666,
          0.875,
          0.7083333333333334,
          0.875,
          0.7916666666666666,
          0.7916666666666666,
          0.9166666666666666,
          0.6666666666666666,
          0.9583333333333334,
          0.8333333333333334,
          0.75,
          0.7916666666666666,
          0.8333333333333334,
          0.75,
          0.7916666666666666,
          0.8333333333333334,
          0.8333333333333334,
          0.8333333333333334,
          0.7083333333333334,
          0.9166666666666666,
          0.7916666666666666,
          0.8333333333333334,
          0.5,
          0.9166666666666666,
          0.7916666666666666,
          0.875,
          0.7083333333333334,
          0.7916666666666666,
          0.9166666666666666,
          0.7083333333333334,
          0.7083333333333334,
          0.8333333333333334,
          0.9583333333333334,
          1,
          0.875,
          1,
          0.7916666666666666,
          0.875,
          0.9166666666666666,
          0.75,
          0.9166666666666666,
          0.9166666666666666,
          0.9166666666666666,
          0.8333333333333334,
          1,
          0.9583333333333334,
          0.8333333333333334,
          0.875,
          0.9166666666666666,
          0.9583333333333334,
          0.7916666666666666,
          0.875,
          0.875,
          0.8333333333333334,
          0.9166666666666666,
          0.875,
          0.9166666666666666,
          0.8333333333333334,
          0.8333333333333334,
          0.8333333333333334,
          0.8333333333333334,
          0.8333333333333334,
          0.8333333333333334,
          0.8333333333333334,
          0.8333333333333334,
          0.875,
          0.9166666666666666,
          0.9583333333333334,
          0.875,
          0.8333333333333334,
          0.9166666666666666,
          0.875,
          0.875,
          0.9166666666666666,
          0.9166666666666666,
          0.8333333333333334,
          0.9166666666666666,
          0.6666666666666666,
          0.9166666666666666,
          0.7916666666666666,
          0.8333333333333334,
          0.875,
          0.7083333333333334,
          0.8333333333333334,
          0.75,
          0.875,
          0.7083333333333334,
          0.9583333333333334,
          0.875,
          0.8333333333333334,
          0.9166666666666666,
          0.9166666666666666,
          0.875,
          0.875,
          0.875,
          0.7916666666666666,
          0.875,
          0.9166666666666666,
          0.75,
          0.9583333333333334,
          0.9583333333333334,
          0.9166666666666666,
          0.75,
          0.8333333333333334,
          0.875,
          0.7083333333333334,
          0.9166666666666666,
          0.75,
          0.7916666666666666,
          0.8333333333333334,
          0.8333333333333334,
          0.7916666666666666,
          0.8333333333333334,
          0.75,
          0.875,
          0.9166666666666666,
          0.9583333333333334,
          0.75,
          0.7083333333333334,
          0.8333333333333334,
          0.7083333333333334,
          0.7916666666666666,
          0.875,
          0.9166666666666666,
          0.875,
          0.7916666666666666,
          0.7916666666666666,
          0.875,
          0.9583333333333334,
          0.7083333333333334,
          0.9166666666666666,
          0.8333333333333334,
          0.9166666666666666,
          0.875,
          0.7916666666666666,
          0.9583333333333334,
          0.9166666666666666,
          0.9166666666666666,
          0.9166666666666666,
          0.8333333333333334,
          0.9583333333333334,
          0.875,
          0.75,
          0.9583333333333334,
          0.7916666666666666,
          0.875,
          0.875,
          0.9166666666666666,
          0.7916666666666666,
          0.75,
          0.7916666666666666,
          0.75,
          0.9166666666666666,
          0.8333333333333334,
          0.7083333333333334,
          0.8333333333333334,
          0.7916666666666666,
          0.75,
          0.875,
          0.875,
          0.75,
          0.7916666666666666,
          0.8333333333333334,
          0.7916666666666666,
          0.7083333333333334,
          0.8333333333333334,
          0.9166666666666666,
          0.875,
          0.875,
          0.9166666666666666,
          0.875,
          0.9166666666666666,
          0.8333333333333334,
          0.875,
          0.7916666666666666,
          0.6666666666666666,
          0.625,
          0.875,
          0.7083333333333334,
          0.875,
          0.7083333333333334,
          0.875,
          0.9166666666666666,
          0.875,
          0.7916666666666666,
          0.875,
          0.9166666666666666,
          0.9166666666666666,
          0.9583333333333334,
          0.7916666666666666,
          1,
          0.8333333333333334,
          0.875,
          0.7916666666666666,
          0.875,
          0.8333333333333334,
          0.875,
          0.8333333333333334,
          0.875,
          1,
          0.7083333333333334,
          1,
          0.875,
          0.875,
          0.8333333333333334,
          0.9583333333333334,
          0.9166666666666666,
          0.8333333333333334,
          0.875,
          0.9166666666666666,
          0.8333333333333334,
          0.8333333333333334,
          0.9583333333333334,
          0.9166666666666666,
          0.8333333333333334,
          0.7083333333333334,
          0.7083333333333334,
          0.875,
          0.9583333333333334,
          0.875,
          0.9583333333333334,
          0.9166666666666666,
          0.9583333333333334,
          0.8333333333333334,
          0.8333333333333334,
          0.8333333333333334,
          0.75,
          0.9583333333333334,
          0.7083333333333334,
          0.625,
          0.9166666666666666,
          0.9166666666666666,
          0.8333333333333334,
          0.6666666666666666,
          0.7083333333333334,
          0.8333333333333334,
          0.7916666666666666,
          0.7083333333333334,
          0.8333333333333334,
          0.9583333333333334,
          0.75,
          0.7916666666666666,
          0.75,
          0.875,
          0.9583333333333334,
          0.8333333333333334,
          0.875,
          0.7916666666666666,
          0.625,
          0.875,
          0.7916666666666666,
          0.9583333333333334,
          0.8333333333333334,
          0.9166666666666666,
          0.7083333333333334,
          0.8333333333333334,
          0.75,
          0.7083333333333334,
          0.875,
          0.8333333333333334,
          0.8333333333333334,
          0.8333333333333334,
          0.9583333333333334,
          0.8333333333333334,
          0.9583333333333334,
          0.875,
          0.8333333333333334,
          0.7916666666666666,
          0.9583333333333334,
          0.9583333333333334,
          0.7916666666666666,
          0.875,
          0.9166666666666666,
          0.875,
          0.9166666666666666,
          0.8333333333333334,
          0.9166666666666666,
          0.875,
          0.9583333333333334,
          0.7916666666666666,
          0.875,
          0.8333333333333334,
          0.7083333333333334,
          0.875,
          0.875,
          0.875,
          0.9583333333333334,
          0.875,
          0.875,
          0.6666666666666666,
          0.875,
          0.9583333333333334,
          0.9583333333333334,
          0.9583333333333334,
          0.9166666666666666,
          0.8333333333333334,
          0.875,
          0.8333333333333334,
          0.8333333333333334,
          0.7916666666666666,
          0.75,
          0.875,
          0.8333333333333334,
          0.875,
          0.75,
          0.7083333333333334,
          0.7916666666666666,
          0.875,
          0.8333333333333334,
          0.75,
          0.9166666666666666,
          0.875,
          0.8333333333333334,
          0.9583333333333334,
          0.9166666666666666,
          0.875,
          0.9166666666666666,
          0.7083333333333334,
          0.7916666666666666,
          0.875,
          0.875,
          0.8333333333333334,
          0.8333333333333334,
          1,
          0.7916666666666666,
          0.7083333333333334,
          0.9166666666666666,
          0.875,
          0.875,
          0.7916666666666666,
          0.75,
          0.875,
          0.8333333333333334,
          0.9166666666666666,
          0.7916666666666666,
          0.7916666666666666,
          0.8333333333333334,
          0.9166666666666666,
          0.6666666666666666,
          0.75,
          0.8333333333333334,
          0.6666666666666666,
          0.7916666666666666,
          0.6666666666666666,
          0.875,
          0.7083333333333334,
          0.875,
          0.9583333333333334,
          0.8333333333333334,
          0.875,
          0.7916666666666666,
          0.7916666666666666,
          0.875,
          0.8333333333333334,
          0.9166666666666666,
          0.875,
          0.7916666666666666,
          0.9583333333333334,
          0.7916666666666666,
          0.8333333333333334,
          0.8333333333333334,
          1,
          0.9166666666666666,
          0.7083333333333334,
          0.875,
          0.7916666666666666,
          0.9583333333333334,
          0.8333333333333334,
          0.75,
          0.9166666666666666,
          0.7916666666666666,
          0.9166666666666666,
          0.8333333333333334,
          0.75,
          0.7083333333333334,
          0.9166666666666666,
          0.9166666666666666,
          0.9166666666666666,
          0.7083333333333334,
          0.875,
          0.8333333333333334,
          0.5833333333333334,
          0.875,
          0.8333333333333334,
          1,
          0.8333333333333334,
          0.7916666666666666,
          0.7083333333333334,
          0.8333333333333334,
          0.7916666666666666,
          0.875,
          0.75,
          1,
          0.9583333333333334,
          0.875,
          0.7916666666666666,
          0.7083333333333334,
          0.875,
          0.875,
          0.9166666666666666,
          0.8333333333333334,
          0.75,
          0.75,
          0.6666666666666666,
          0.8333333333333334,
          0.7916666666666666,
          0.8333333333333334,
          0.9166666666666666,
          0.875,
          0.8333333333333334,
          0.9583333333333334,
          0.9166666666666666,
          0.7083333333333334,
          0.9166666666666666,
          0.875,
          0.7916666666666666,
          0.9166666666666666,
          0.75,
          0.875,
          0.9583333333333334,
          0.75,
          0.875,
          0.75,
          0.9166666666666666,
          0.9583333333333334,
          0.625,
          0.9166666666666666,
          0.7916666666666666,
          0.9166666666666666,
          0.875,
          0.7916666666666666,
          0.7916666666666666,
          0.9166666666666666,
          0.625,
          0.8333333333333334,
          0.75,
          0.7083333333333334,
          0.875,
          0.7083333333333334,
          0.7916666666666666,
          0.625,
          0.9166666666666666,
          0.7083333333333334,
          0.9583333333333334,
          0.9166666666666666,
          0.9166666666666666,
          0.9583333333333334,
          0.9583333333333334,
          0.7083333333333334,
          0.75,
          0.9583333333333334,
          0.7916666666666666,
          0.75,
          0.8333333333333334,
          0.875,
          0.75,
          0.6666666666666666,
          0.875,
          0.75,
          0.875,
          0.7916666666666666,
          1,
          0.875,
          0.6666666666666666,
          0.8333333333333334,
          0.9166666666666666,
          0.9583333333333334,
          0.9166666666666666,
          0.625,
          0.7916666666666666,
          0.7916666666666666,
          0.9583333333333334,
          0.7916666666666666,
          0.75,
          0.9166666666666666,
          0.9583333333333334,
          0.9166666666666666,
          0.5,
          0.875,
          0.875,
          0.7083333333333334,
          0.875,
          0.875,
          0.7916666666666666,
          0.75,
          0.8333333333333334,
          0.9166666666666666,
          0.875,
          0.875,
          0.875,
          0.9583333333333334,
          0.8333333333333334,
          0.7916666666666666,
          0.8333333333333334,
          1,
          0.875,
          0.7916666666666666,
          0.875,
          0.9166666666666666,
          0.7916666666666666,
          0.75,
          0.625,
          0.7916666666666666,
          0.8333333333333334,
          0.9166666666666666,
          0.8333333333333334,
          0.9166666666666666,
          0.7916666666666666,
          0.8333333333333334,
          0.7916666666666666,
          0.9166666666666666,
          0.8333333333333334,
          0.8333333333333334,
          0.9583333333333334,
          0.7083333333333334,
          0.8333333333333334,
          0.7916666666666666,
          0.9166666666666666,
          0.8333333333333334,
          0.75,
          0.8333333333333334,
          0.9166666666666666,
          0.8333333333333334,
          0.9166666666666666,
          0.75,
          0.8333333333333334,
          0.8333333333333334,
          0.75,
          0.875,
          0.875,
          0.8333333333333334,
          0.8333333333333334,
          0.7083333333333334,
          0.8333333333333334,
          0.875,
          0.9583333333333334,
          0.6666666666666666,
          0.75,
          0.8333333333333334,
          0.7916666666666666,
          0.75,
          0.875,
          0.9166666666666666,
          0.75,
          0.7916666666666666,
          1,
          0.8333333333333334,
          0.9166666666666666,
          0.7083333333333334,
          0.6666666666666666,
          0.7916666666666666,
          0.8333333333333334,
          0.7916666666666666,
          0.9583333333333334,
          0.875,
          0.875,
          0.875,
          0.875,
          0.8333333333333334,
          0.875,
          0.8333333333333334,
          0.8333333333333334,
          0.8333333333333334,
          0.7916666666666666,
          0.9166666666666666,
          0.7083333333333334,
          0.75,
          0.75,
          0.875,
          0.8333333333333334,
          0.8333333333333334,
          0.875,
          0.8333333333333334,
          0.7916666666666666,
          0.5416666666666666,
          0.75,
          0.875,
          0.9583333333333334,
          0.9166666666666666,
          0.9583333333333334,
          0.875,
          0.9583333333333334,
          0.75,
          0.8333333333333334,
          0.9583333333333334,
          0.7916666666666666,
          0.6666666666666666,
          0.9166666666666666,
          0.875,
          0.7083333333333334,
          0.7916666666666666,
          0.9166666666666666,
          0.8333333333333334,
          0.6666666666666666,
          0.9166666666666666,
          0.7916666666666666,
          0.8333333333333334,
          0.5833333333333334,
          0.8333333333333334,
          0.9166666666666666,
          0.875,
          0.7916666666666666,
          0.875,
          0.6666666666666666,
          0.75,
          0.9583333333333334,
          0.9583333333333334,
          0.875,
          0.75,
          0.875,
          0.9583333333333334,
          0.875,
          0.8333333333333334,
          0.75,
          0.875,
          0.875,
          0.9166666666666666,
          0.875,
          0.875,
          0.7916666666666666,
          0.7916666666666666,
          0.9166666666666666,
          0.8333333333333334,
          0.7916666666666666,
          0.8333333333333334,
          0.7916666666666666,
          0.8333333333333334,
          0.875,
          0.75,
          0.875,
          0.7916666666666666,
          0.9166666666666666,
          0.9166666666666666,
          0.7916666666666666,
          0.8333333333333334,
          1,
          0.75,
          0.7916666666666666,
          0.7916666666666666,
          0.6666666666666666,
          0.625,
          0.9166666666666666,
          0.875,
          0.75,
          0.875,
          0.9166666666666666,
          0.9166666666666666,
          0.9166666666666666,
          0.9166666666666666,
          0.9166666666666666,
          0.875,
          0.9166666666666666,
          0.7916666666666666,
          0.9166666666666666,
          0.8333333333333334,
          0.7916666666666666,
          0.9583333333333334,
          0.9166666666666666,
          0.875,
          0.9166666666666666,
          0.8333333333333334,
          0.9583333333333334,
          0.875,
          0.8333333333333334,
          0.9583333333333334,
          0.6666666666666666,
          0.75,
          0.9166666666666666,
          0.8333333333333334,
          0.8333333333333334,
          0.875,
          0.8333333333333334,
          0.8333333333333334,
          0.9166666666666666,
          0.8333333333333334,
          0.9583333333333334,
          0.8333333333333334,
          0.8333333333333334,
          0.7916666666666666,
          0.8333333333333334,
          0.8333333333333334,
          0.9166666666666666,
          0.8333333333333334,
          0.8333333333333334,
          0.7083333333333334,
          0.7916666666666666,
          0.9583333333333334,
          0.875,
          0.9166666666666666,
          0.7083333333333334,
          0.8333333333333334,
          0.7916666666666666,
          0.75,
          0.875,
          0.75,
          0.875,
          0.7916666666666666,
          0.7916666666666666,
          0.8333333333333334,
          0.875,
          0.875,
          0.8333333333333334,
          0.9166666666666666,
          0.9583333333333334,
          0.875,
          0.8333333333333334,
          0.75,
          0.9166666666666666,
          0.8333333333333334,
          0.7916666666666666,
          0.875,
          0.8333333333333334,
          1,
          0.75,
          0.9166666666666666,
          0.8333333333333334,
          0.875,
          0.9583333333333334,
          0.875,
          0.875,
          0.6666666666666666,
          0.7916666666666666,
          0.7916666666666666,
          0.9166666666666666,
          0.8333333333333334,
          0.875,
          0.75,
          0.6666666666666666,
          0.6666666666666666,
          0.9583333333333334,
          0.8333333333333334,
          0.75,
          0.7916666666666666,
          1,
          0.7083333333333334,
          0.8333333333333334,
          0.8333333333333334,
          0.9166666666666666,
          0.7916666666666666,
          0.875,
          0.9166666666666666,
          0.8333333333333334,
          0.875,
          0.75,
          0.875,
          0.9166666666666666,
          0.875,
          0.75,
          0.9166666666666666,
          0.875,
          0.7083333333333334,
          0.875,
          0.6666666666666666,
          1,
          0.7916666666666666,
          0.8333333333333334,
          0.8333333333333334,
          0.875,
          0.9583333333333334,
          0.9583333333333334,
          0.875,
          0.8333333333333334,
          0.9166666666666666,
          0.9166666666666666,
          0.7916666666666666,
          0.9583333333333334,
          0.9166666666666666,
          0.9166666666666666,
          0.75,
          0.875,
          0.7083333333333334,
          0.7916666666666666,
          0.7916666666666666,
          0.9166666666666666,
          0.9166666666666666,
          0.9166666666666666,
          0.7916666666666666,
          0.875,
          0.7916666666666666,
          0.8333333333333334,
          0.9166666666666666,
          0.7916666666666666,
          0.9166666666666666,
          0.875,
          0.9583333333333334,
          0.6666666666666666,
          0.7916666666666666,
          0.8333333333333334,
          0.875,
          0.6666666666666666,
          0.875,
          0.75,
          0.875,
          0.9166666666666666,
          0.7916666666666666,
          0.7916666666666666,
          0.875,
          0.875,
          0.75,
          1,
          0.8333333333333334,
          0.75,
          0.9166666666666666,
          0.7083333333333334,
          0.625,
          0.9166666666666666,
          0.9166666666666666,
          0.7083333333333334,
          0.8333333333333334,
          0.8333333333333334,
          0.75,
          1,
          0.7083333333333334,
          0.9166666666666666,
          0.7083333333333334,
          0.9583333333333334,
          0.6666666666666666,
          0.75,
          0.9166666666666666,
          0.8333333333333334,
          0.875,
          0.7916666666666666,
          0.9583333333333334,
          0.7916666666666666,
          0.7083333333333334,
          0.875,
          0.875,
          0.8333333333333334,
          0.9583333333333334,
          0.875,
          0.75,
          0.8333333333333334,
          0.8333333333333334,
          0.9583333333333334,
          0.7916666666666666,
          0.8333333333333334,
          0.875,
          0.875,
          0.7916666666666666,
          0.8333333333333334,
          0.875,
          0.8333333333333334,
          0.875,
          0.7916666666666666,
          0.875,
          0.9583333333333334,
          0.8333333333333334,
          0.9166666666666666,
          0.8333333333333334,
          0.875,
          0.9583333333333334,
          0.625,
          0.7916666666666666,
          0.7916666666666666,
          0.875,
          0.8333333333333334,
          0.9583333333333334,
          0.7916666666666666,
          0.9166666666666666,
          0.875,
          0.8333333333333334,
          0.7916666666666666,
          0.875,
          0.7916666666666666,
          0.875,
          0.7083333333333334,
          0.8333333333333334,
          0.8333333333333334,
          0.875,
          0.8333333333333334,
          0.5833333333333334,
          0.625,
          0.9583333333333334,
          0.7083333333333334,
          0.8333333333333334,
          0.9583333333333334,
          0.9166666666666666,
          0.7916666666666666,
          0.9166666666666666,
          0.8333333333333334,
          0.7916666666666666,
          0.9166666666666666,
          0.9166666666666666,
          0.8333333333333334,
          0.9583333333333334,
          0.8333333333333334,
          0.875,
          0.8333333333333334,
          0.875,
          0.9166666666666666,
          0.875,
          0.9583333333333334,
          0.7916666666666666,
          0.875,
          1,
          0.7083333333333334,
          0.875,
          0.875,
          0.7916666666666666,
          0.8333333333333334,
          0.875,
          0.7916666666666666,
          0.8333333333333334,
          0.75,
          0.7916666666666666,
          0.9166666666666666,
          1,
          0.8333333333333334,
          0.9166666666666666,
          0.8333333333333334,
          0.875,
          0.9166666666666666,
          0.8333333333333334,
          0.75,
          0.7916666666666666,
          0.875,
          0.7916666666666666,
          0.7916666666666666,
          0.875,
          0.6666666666666666,
          0.9166666666666666,
          0.6666666666666666,
          0.6666666666666666,
          0.7916666666666666,
          0.9166666666666666,
          0.75,
          0.7916666666666666,
          0.9583333333333334,
          0.8333333333333334,
          1,
          0.75,
          0.625,
          0.625,
          0.8333333333333334,
          1,
          0.9583333333333334,
          0.9166666666666666,
          0.8333333333333334,
          0.8333333333333334,
          0.8333333333333334,
          0.9166666666666666,
          0.8333333333333334,
          0.9583333333333334,
          0.8333333333333334,
          0.5416666666666666,
          0.9166666666666666,
          0.7916666666666666,
          0.7083333333333334,
          0.7916666666666666,
          0.8333333333333334,
          0.9583333333333334,
          0.7916666666666666,
          0.7916666666666666,
          0.7916666666666666,
          0.875,
          0.8333333333333334,
          0.75,
          0.7916666666666666,
          0.7916666666666666,
          0.8333333333333334,
          0.7916666666666666,
          0.8333333333333334,
          0.875,
          0.8333333333333334,
          0.875,
          0.8333333333333334,
          0.75,
          0.7916666666666666,
          0.7916666666666666,
          0.8333333333333334,
          0.7083333333333334,
          0.875,
          0.8333333333333334,
          0.8333333333333334,
          0.8333333333333334,
          0.7916666666666666,
          0.9166666666666666,
          0.9166666666666666,
          0.7083333333333334,
          0.9166666666666666,
          0.9583333333333334,
          0.9583333333333334,
          0.8333333333333334,
          0.7916666666666666,
          0.8333333333333334,
          0.9583333333333334,
          0.8333333333333334,
          0.875,
          0.7916666666666666,
          0.8333333333333334,
          0.9166666666666666,
          0.875,
          0.75,
          0.6666666666666666,
          0.875,
          0.6666666666666666,
          0.8333333333333334,
          0.8333333333333334,
          0.9166666666666666,
          0.8333333333333334,
          0.8333333333333334,
          0.9166666666666666,
          0.5833333333333334,
          0.7083333333333334,
          0.9166666666666666,
          0.7916666666666666,
          0.875,
          0.8333333333333334,
          0.5833333333333334,
          0.8333333333333334,
          0.8333333333333334,
          0.75,
          0.7916666666666666,
          0.75,
          0.6666666666666666,
          0.9166666666666666,
          0.7916666666666666,
          0.6666666666666666,
          0.9166666666666666,
          0.9583333333333334,
          0.9583333333333334,
          0.875,
          0.875,
          0.875,
          0.875,
          0.8333333333333334,
          0.875,
          0.8333333333333334,
          0.875,
          0.9166666666666666,
          0.875,
          0.75,
          0.7916666666666666,
          0.7916666666666666,
          0.9166666666666666,
          0.9166666666666666,
          1,
          0.8333333333333334,
          0.7916666666666666,
          0.9583333333333334,
          0.9166666666666666,
          0.75,
          0.9166666666666666,
          0.8333333333333334,
          0.875,
          0.875,
          0.7916666666666666,
          0.9583333333333334,
          1,
          0.7083333333333334,
          0.7083333333333334,
          0.875,
          0.75,
          0.9166666666666666,
          0.9583333333333334,
          0.7083333333333334,
          1,
          0.7083333333333334,
          0.75,
          0.75,
          0.75,
          0.875,
          0.875,
          0.7916666666666666,
          0.7916666666666666,
          0.625,
          0.7916666666666666,
          0.75,
          0.625,
          0.875,
          0.875,
          0.875,
          0.875,
          0.9583333333333334,
          0.75,
          0.7916666666666666,
          0.8333333333333334,
          0.7083333333333334,
          0.8333333333333334,
          0.7083333333333334,
          0.8333333333333334,
          0.7916666666666666,
          0.875,
          0.9583333333333334,
          0.875,
          0.8333333333333334,
          0.7083333333333334,
          0.7916666666666666,
          0.6666666666666666,
          0.9166666666666666,
          0.7083333333333334,
          0.9583333333333334,
          0.7916666666666666,
          0.9166666666666666,
          0.9166666666666666,
          0.9583333333333334,
          0.8333333333333334,
          0.875,
          0.9583333333333334,
          0.875,
          0.875,
          0.875,
          0.875,
          0.7083333333333334,
          0.9166666666666666,
          0.875,
          0.7916666666666666,
          0.875,
          0.9166666666666666,
          0.7916666666666666,
          0.875,
          0.9166666666666666,
          0.7916666666666666,
          0.875,
          0.6666666666666666,
          0.7916666666666666,
          0.9583333333333334,
          0.6666666666666666,
          0.75,
          0.875,
          0.9166666666666666,
          0.75,
          0.8333333333333334,
          0.875,
          0.9166666666666666,
          0.9166666666666666,
          0.75,
          0.9583333333333334,
          0.9166666666666666,
          0.875,
          0.9166666666666666,
          0.6666666666666666,
          0.9166666666666666,
          0.875,
          0.9166666666666666,
          0.9166666666666666,
          0.7916666666666666,
          0.875,
          0.8333333333333334,
          0.9583333333333334,
          0.8333333333333334,
          0.9166666666666666,
          0.9166666666666666,
          0.875,
          0.7916666666666666,
          0.875,
          0.7916666666666666,
          0.7916666666666666,
          0.9166666666666666,
          0.7916666666666666,
          0.6666666666666666,
          1,
          0.7916666666666666,
          0.9166666666666666,
          0.9166666666666666,
          0.8333333333333334,
          0.8333333333333334,
          0.9583333333333334,
          0.75,
          1,
          0.8333333333333334,
          0.8333333333333334,
          0.7916666666666666,
          0.875,
          0.75,
          0.75,
          0.9583333333333334,
          0.8333333333333334,
          0.9166666666666666,
          0.75,
          0.9166666666666666,
          0.75,
          0.875,
          0.8333333333333334,
          0.875,
          0.9166666666666666,
          0.875,
          0.8333333333333334,
          0.7916666666666666,
          0.875,
          0.7916666666666666,
          0.8333333333333334,
          0.75,
          0.7916666666666666,
          1,
          0.9166666666666666,
          0.9166666666666666,
          0.9583333333333334,
          0.8333333333333334,
          0.7916666666666666,
          0.9583333333333334,
          0.8333333333333334,
          0.9166666666666666,
          0.875,
          0.7916666666666666,
          0.9166666666666666,
          0.8333333333333334,
          0.625,
          0.9583333333333334,
          1,
          0.7916666666666666,
          0.7916666666666666,
          0.7916666666666666,
          0.9166666666666666,
          0.875,
          0.8333333333333334,
          0.8333333333333334,
          0.75,
          0.9583333333333334,
          0.75,
          0.9166666666666666,
          0.8333333333333334,
          0.875,
          0.8333333333333334,
          0.875,
          0.875,
          0.6666666666666666,
          0.875,
          0.7916666666666666,
          0.8333333333333334,
          0.9166666666666666,
          0.5833333333333334,
          0.75,
          0.6666666666666666,
          0.9583333333333334,
          0.9166666666666666,
          0.8333333333333334,
          0.7083333333333334,
          0.9166666666666666,
          0.875,
          0.9583333333333334,
          0.6666666666666666,
          0.9166666666666666,
          0.875,
          0.5833333333333334,
          0.875,
          0.7916666666666666,
          0.875,
          0.8333333333333334,
          0.7916666666666666,
          0.875,
          0.7916666666666666,
          0.8333333333333334,
          0.6666666666666666,
          0.7083333333333334,
          0.8333333333333334,
          0.9166666666666666,
          0.8333333333333334,
          0.875,
          0.875,
          0.75,
          0.9166666666666666,
          0.7916666666666666,
          0.625,
          0.7916666666666666,
          0.8333333333333334,
          0.8333333333333334,
          0.9583333333333334,
          0.9166666666666666,
          0.8333333333333334,
          0.9583333333333334,
          0.75,
          1,
          0.9166666666666666,
          0.7916666666666666,
          0.6666666666666666,
          0.875,
          0.8333333333333334,
          0.7916666666666666,
          0.875,
          0.8333333333333334,
          0.9166666666666666,
          0.7916666666666666,
          0.9166666666666666,
          0.7916666666666666,
          0.9166666666666666,
          0.6666666666666666,
          0.8333333333333334,
          0.8333333333333334,
          0.6666666666666666,
          0.9583333333333334,
          0.9166666666666666,
          0.9583333333333334,
          0.7916666666666666,
          0.9166666666666666,
          0.7916666666666666,
          0.9166666666666666,
          0.9166666666666666,
          0.9166666666666666,
          0.7916666666666666,
          0.9166666666666666,
          1,
          0.875,
          0.8333333333333334,
          0.625,
          0.625,
          0.9583333333333334,
          0.7916666666666666,
          0.875,
          0.8333333333333334,
          0.75,
          0.875,
          0.9583333333333334,
          0.8333333333333334,
          0.9166666666666666,
          0.8333333333333334,
          0.7916666666666666,
          0.9583333333333334,
          0.8333333333333334,
          0.75,
          0.875,
          0.8333333333333334,
          0.875,
          0.7916666666666666,
          0.875,
          0.9166666666666666,
          0.75,
          0.9583333333333334,
          0.7916666666666666,
          0.75,
          0.75,
          0.7916666666666666,
          0.7916666666666666,
          0.7083333333333334,
          0.7083333333333334,
          0.8333333333333334,
          0.875,
          0.7916666666666666,
          0.9166666666666666,
          0.8333333333333334,
          0.75,
          0.6666666666666666,
          0.7916666666666666,
          0.75,
          0.8333333333333334,
          0.7083333333333334,
          0.9583333333333334,
          0.875,
          0.9166666666666666,
          0.875,
          0.875,
          0.7083333333333334,
          0.7916666666666666,
          0.875,
          0.6666666666666666,
          0.8333333333333334,
          0.7916666666666666,
          0.6666666666666666,
          0.8333333333333334,
          0.7083333333333334,
          0.9583333333333334,
          0.7083333333333334,
          0.9583333333333334,
          0.75,
          0.7916666666666666,
          0.7916666666666666,
          0.7083333333333334,
          0.75,
          0.9166666666666666,
          1,
          0.8333333333333334,
          0.7916666666666666,
          0.875,
          0.875,
          0.8333333333333334,
          0.875,
          0.9583333333333334,
          0.875,
          0.7083333333333334,
          0.8333333333333334,
          0.9583333333333334,
          0.875,
          0.75,
          0.9166666666666666,
          0.7083333333333334,
          0.6666666666666666,
          0.75,
          0.9166666666666666,
          0.8333333333333334,
          0.875,
          0.7916666666666666,
          0.9166666666666666,
          0.9166666666666666,
          0.75,
          0.875,
          0.5833333333333334,
          0.9166666666666666,
          0.875,
          0.8333333333333334,
          0.6666666666666666,
          0.7083333333333334,
          0.9166666666666666,
          0.7916666666666666,
          0.875,
          0.875,
          0.75,
          0.7916666666666666,
          0.625,
          0.9166666666666666,
          0.75,
          0.9166666666666666,
          0.8333333333333334,
          0.875,
          0.9583333333333334,
          1,
          0.7916666666666666,
          0.875,
          0.6666666666666666,
          0.6666666666666666,
          0.875,
          0.625,
          0.9166666666666666,
          0.8333333333333334,
          0.9166666666666666,
          0.75,
          0.7916666666666666,
          0.9166666666666666,
          0.7916666666666666,
          0.75,
          0.8333333333333334,
          0.7916666666666666,
          0.875,
          0.9583333333333334,
          0.875,
          0.8333333333333334,
          0.7916666666666666,
          0.8333333333333334,
          0.75,
          0.75,
          0.9166666666666666,
          0.7916666666666666,
          0.8333333333333334,
          0.9166666666666666,
          0.75,
          0.75,
          0.9583333333333334,
          0.9166666666666666,
          0.7916666666666666,
          0.6666666666666666,
          0.7083333333333334,
          0.7083333333333334,
          0.8333333333333334,
          0.75,
          0.875,
          0.875,
          0.7083333333333334,
          0.75,
          0.9166666666666666,
          0.75,
          0.8333333333333334,
          0.9166666666666666,
          0.8333333333333334,
          0.9166666666666666,
          0.7083333333333334,
          0.7916666666666666,
          0.8333333333333334,
          0.75,
          0.875,
          0.875,
          0.8333333333333334,
          0.875,
          0.875,
          0.75,
          0.9166666666666666,
          0.7083333333333334,
          0.8333333333333334,
          0.75,
          0.7916666666666666,
          0.6666666666666666,
          0.9166666666666666,
          0.9166666666666666,
          0.7916666666666666,
          0.8333333333333334,
          0.7916666666666666,
          0.75,
          0.75,
          0.8333333333333334,
          0.9583333333333334,
          0.9583333333333334,
          0.8333333333333334,
          0.8333333333333334,
          0.875,
          0.875,
          0.9166666666666666,
          1,
          0.75,
          0.7916666666666666,
          0.875,
          0.875,
          0.8333333333333334,
          0.7916666666666666,
          0.9583333333333334,
          0.9166666666666666,
          0.625,
          0.9166666666666666,
          0.5833333333333334,
          0.625,
          0.7083333333333334,
          0.7916666666666666,
          0.9166666666666666,
          0.75,
          0.7083333333333334,
          0.8333333333333334,
          0.7916666666666666,
          0.625,
          0.7083333333333334,
          0.75,
          0.8333333333333334,
          0.875,
          0.75,
          0.9166666666666666,
          1,
          0.8333333333333334,
          0.8333333333333334,
          0.7916666666666666,
          0.75,
          0.875,
          0.9166666666666666,
          0.8333333333333334,
          0.8333333333333334,
          0.75,
          0.6666666666666666,
          1,
          0.7916666666666666,
          0.875,
          0.8333333333333334,
          0.7083333333333334,
          0.875,
          0.8333333333333334,
          0.7916666666666666,
          0.7916666666666666,
          0.875,
          0.8333333333333334,
          0.8333333333333334,
          0.8333333333333334,
          0.8333333333333334,
          0.7916666666666666,
          0.7916666666666666,
          0.9166666666666666,
          0.9166666666666666,
          0.9166666666666666,
          0.75,
          0.7916666666666666,
          0.7916666666666666,
          0.7916666666666666,
          0.625,
          0.8333333333333334,
          0.875,
          0.9166666666666666,
          0.9166666666666666,
          0.75,
          0.7916666666666666,
          0.7916666666666666,
          0.8333333333333334,
          0.7916666666666666,
          0.875,
          0.8333333333333334,
          0.75,
          0.6666666666666666,
          0.8333333333333334,
          0.875,
          0.75,
          0.5833333333333334,
          0.7916666666666666,
          0.9166666666666666,
          0.8333333333333334,
          0.7916666666666666,
          0.9583333333333334,
          0.875,
          0.9166666666666666,
          1,
          0.875,
          0.75,
          0.7083333333333334,
          0.875,
          0.8333333333333334,
          0.9166666666666666,
          0.875,
          0.7916666666666666,
          0.8333333333333334,
          0.7916666666666666,
          0.7916666666666666,
          0.9166666666666666,
          0.8333333333333334,
          1,
          0.9583333333333334,
          0.75,
          0.8333333333333334,
          0.9166666666666666,
          0.875,
          0.7083333333333334,
          0.75,
          0.7083333333333334,
          0.875,
          0.7916666666666666,
          0.8333333333333334,
          0.875,
          0.8333333333333334,
          0.625,
          0.75,
          0.8333333333333334,
          0.75,
          0.8333333333333334,
          0.875,
          0.9166666666666666,
          0.7916666666666666,
          0.8333333333333334,
          0.7916666666666666,
          0.9166666666666666,
          0.7916666666666666,
          0.7916666666666666,
          0.6666666666666666,
          0.7916666666666666,
          0.7916666666666666,
          0.9166666666666666,
          0.8333333333333334,
          0.9166666666666666,
          0.7916666666666666,
          0.875,
          0.75,
          0.625,
          0.875,
          0.7083333333333334,
          0.7083333333333334,
          0.6666666666666666,
          0.7916666666666666,
          0.7916666666666666,
          0.7083333333333334,
          0.9166666666666666,
          0.875,
          0.875,
          0.9166666666666666,
          0.875,
          0.75,
          0.75,
          0.9166666666666666,
          0.8333333333333334,
          0.875,
          0.7916666666666666,
          0.9166666666666666,
          0.7083333333333334,
          0.7083333333333334,
          0.7916666666666666,
          0.9166666666666666,
          0.7916666666666666,
          0.7916666666666666,
          0.8333333333333334,
          0.7916666666666666,
          0.8333333333333334,
          0.875,
          0.75,
          0.8333333333333334,
          0.9166666666666666,
          0.75,
          0.8333333333333334,
          0.7916666666666666,
          0.875,
          0.9166666666666666,
          0.8333333333333334,
          0.7083333333333334,
          0.7916666666666666,
          1,
          0.9166666666666666,
          0.75,
          0.875,
          0.7916666666666666,
          0.625,
          0.8333333333333334,
          0.8333333333333334,
          0.8333333333333334,
          0.9583333333333334,
          1,
          0.75,
          0.7916666666666666,
          0.6666666666666666,
          0.8333333333333334,
          0.7916666666666666,
          0.9583333333333334,
          0.9166666666666666,
          0.5833333333333334,
          0.8333333333333334,
          0.9166666666666666,
          1,
          0.875,
          0.875,
          0.75,
          0.7916666666666666,
          0.8333333333333334,
          0.75,
          0.7916666666666666,
          0.7916666666666666,
          0.875,
          0.7916666666666666,
          0.875,
          0.8333333333333334,
          0.9166666666666666,
          0.875,
          0.75,
          0.9166666666666666,
          0.9166666666666666,
          0.75,
          0.7916666666666666,
          0.875,
          0.9583333333333334,
          0.6666666666666666,
          0.7916666666666666,
          0.75,
          0.7083333333333334,
          0.9166666666666666,
          0.7916666666666666,
          0.8333333333333334,
          0.875,
          0.8333333333333334,
          0.875,
          0.7083333333333334,
          0.75,
          0.7916666666666666,
          0.875,
          0.8333333333333334,
          0.8333333333333334,
          0.75,
          0.8333333333333334,
          0.9166666666666666,
          1,
          0.8333333333333334,
          0.7916666666666666,
          0.7083333333333334,
          0.9166666666666666,
          0.625,
          0.875,
          0.875,
          0.8333333333333334,
          0.75,
          0.7916666666666666,
          0.875,
          1,
          0.7916666666666666,
          0.7916666666666666,
          0.9166666666666666,
          0.9166666666666666,
          0.875,
          0.625,
          0.75,
          0.7083333333333334,
          0.875,
          0.875,
          0.6666666666666666,
          0.8333333333333334,
          0.875,
          0.8333333333333334,
          0.9166666666666666,
          0.7083333333333334,
          0.9583333333333334,
          0.7083333333333334,
          0.8333333333333334,
          0.7916666666666666,
          0.7916666666666666,
          0.7916666666666666,
          0.875,
          0.8333333333333334,
          0.9166666666666666,
          0.7083333333333334,
          0.7916666666666666,
          0.9583333333333334,
          0.7083333333333334,
          0.7083333333333334,
          0.9583333333333334,
          0.9166666666666666,
          0.8333333333333334,
          0.875,
          0.875,
          0.9166666666666666,
          0.8333333333333334,
          0.8333333333333334,
          0.9583333333333334,
          0.75,
          0.9166666666666666,
          0.9583333333333334,
          0.9166666666666666,
          0.8333333333333334,
          0.75,
          0.9583333333333334,
          0.9166666666666666,
          0.7083333333333334,
          0.9583333333333334,
          0.875,
          0.75,
          0.75,
          0.7916666666666666,
          0.8333333333333334,
          0.7916666666666666,
          0.8333333333333334,
          0.8333333333333334,
          0.8333333333333334,
          0.9166666666666666,
          0.75,
          0.875,
          0.8333333333333334,
          1,
          0.875,
          0.7916666666666666,
          0.7916666666666666,
          0.9583333333333334,
          0.75,
          0.75,
          0.8333333333333334,
          0.875,
          0.9583333333333334,
          0.875,
          0.75,
          0.7083333333333334,
          0.8333333333333334,
          0.9583333333333334,
          0.875,
          0.9166666666666666,
          1,
          0.9166666666666666,
          0.6666666666666666,
          0.7083333333333334,
          0.8333333333333334,
          0.7916666666666666,
          0.9166666666666666,
          0.7916666666666666,
          0.9583333333333334,
          0.7916666666666666,
          0.7916666666666666,
          0.875,
          0.7916666666666666,
          0.7916666666666666,
          0.875,
          0.7916666666666666,
          0.875,
          0.7916666666666666,
          0.625,
          0.75,
          0.9166666666666666,
          0.8333333333333334,
          0.625,
          0.6666666666666666,
          0.7083333333333334,
          0.75,
          0.7916666666666666,
          0.8333333333333334,
          0.8333333333333334,
          0.8333333333333334,
          0.625,
          0.875,
          0.75,
          0.7916666666666666,
          0.875,
          0.75,
          0.8333333333333334,
          0.8333333333333334,
          0.7916666666666666,
          0.8333333333333334,
          0.875,
          0.7083333333333334,
          0.7083333333333334,
          0.8333333333333334,
          0.9166666666666666,
          0.7916666666666666,
          0.8333333333333334,
          0.75,
          0.8333333333333334,
          0.875,
          0.7916666666666666,
          0.8333333333333334,
          0.7916666666666666,
          0.875,
          0.7916666666666666,
          0.7083333333333334,
          0.75,
          0.8333333333333334,
          0.8333333333333334,
          0.8333333333333334,
          0.5833333333333334,
          0.6666666666666666,
          0.875,
          0.9166666666666666,
          0.9166666666666666,
          0.6666666666666666,
          0.7083333333333334,
          0.7083333333333334,
          0.7916666666666666,
          0.8333333333333334,
          0.7916666666666666,
          0.9166666666666666,
          0.625,
          0.9583333333333334,
          0.875,
          0.5416666666666666,
          0.7916666666666666,
          0.8333333333333334,
          0.9166666666666666,
          0.8333333333333334,
          0.7916666666666666,
          0.7916666666666666,
          0.9166666666666666,
          0.7916666666666666,
          0.75,
          0.7083333333333334,
          0.75,
          0.875,
          0.8333333333333334,
          0.5833333333333334,
          0.9166666666666666,
          0.8333333333333334,
          0.8333333333333334,
          0.7083333333333334,
          0.8333333333333334,
          0.9166666666666666,
          0.7916666666666666,
          0.8333333333333334,
          0.875,
          0.7083333333333334,
          0.8333333333333334,
          0.7916666666666666,
          0.8333333333333334,
          0.7916666666666666,
          0.75,
          0.7916666666666666,
          0.9166666666666666,
          0.9166666666666666,
          0.7916666666666666,
          0.75,
          0.875,
          0.7916666666666666,
          0.8333333333333334,
          0.75,
          0.9166666666666666,
          0.7916666666666666,
          0.7916666666666666,
          0.75,
          0.7083333333333334,
          0.7916666666666666,
          0.75,
          0.9166666666666666,
          0.8333333333333334,
          0.75,
          1,
          0.9166666666666666,
          0.875,
          0.875,
          0.7916666666666666,
          0.9166666666666666,
          0.625,
          0.7916666666666666,
          0.875,
          0.875,
          0.7916666666666666,
          0.625,
          0.9166666666666666,
          0.6666666666666666,
          0.7916666666666666,
          0.75,
          0.9166666666666666,
          0.875,
          0.8333333333333334,
          0.7083333333333334,
          0.7916666666666666,
          0.7083333333333334,
          0.75,
          0.8333333333333334,
          0.8333333333333334,
          0.9166666666666666,
          0.9166666666666666,
          0.75,
          0.7916666666666666,
          0.75,
          1,
          0.8333333333333334,
          0.75,
          0.75,
          0.7916666666666666,
          0.9166666666666666,
          0.875,
          0.9166666666666666,
          0.9583333333333334,
          0.875,
          0.9583333333333334,
          0.875,
          0.8333333333333334,
          0.7916666666666666,
          0.75,
          0.7916666666666666,
          0.9166666666666666,
          0.8333333333333334,
          0.625,
          0.875,
          0.75,
          0.75,
          0.8333333333333334,
          0.7916666666666666,
          0.9166666666666666,
          0.875,
          0.8333333333333334,
          0.9166666666666666,
          0.875,
          0.875,
          0.875,
          0.8333333333333334,
          0.6666666666666666,
          0.9166666666666666,
          0.625,
          0.9166666666666666,
          0.8333333333333334,
          0.5833333333333334,
          0.8333333333333334,
          0.7916666666666666,
          0.875,
          0.75,
          0.8333333333333334,
          0.8333333333333334,
          0.625,
          0.75,
          0.875,
          0.875,
          0.8333333333333334,
          0.75,
          0.7916666666666666,
          0.875,
          0.875,
          0.9166666666666666,
          0.8333333333333334,
          0.7916666666666666,
          0.8333333333333334,
          0.875,
          0.9583333333333334,
          0.8333333333333334,
          0.8333333333333334,
          0.75,
          0.8333333333333334,
          0.8333333333333334,
          0.75,
          0.6666666666666666,
          0.8333333333333334,
          0.875,
          0.8333333333333334,
          0.6666666666666666,
          0.8333333333333334,
          0.875,
          0.7083333333333334,
          0.8333333333333334,
          0.7916666666666666,
          0.7916666666666666,
          0.8333333333333334,
          0.9166666666666666,
          0.9583333333333334,
          0.8333333333333334,
          0.9583333333333334,
          0.8333333333333334,
          0.8333333333333334,
          0.7916666666666666,
          0.8333333333333334,
          0.7916666666666666,
          0.875,
          0.9583333333333334,
          0.8333333333333334,
          0.7916666666666666,
          0.8333333333333334,
          0.875,
          0.875,
          0.7916666666666666,
          0.875,
          0.7916666666666666,
          0.7083333333333334,
          0.875,
          0.7916666666666666,
          0.9583333333333334,
          0.9583333333333334,
          0.8333333333333334,
          0.8333333333333334,
          0.8333333333333334,
          0.8333333333333334,
          0.875,
          0.875,
          0.9583333333333334,
          0.7916666666666666,
          0.8333333333333334,
          0.7916666666666666,
          0.7916666666666666,
          0.8333333333333334,
          0.7083333333333334,
          0.7083333333333334,
          0.75,
          0.7916666666666666,
          0.875,
          0.7916666666666666,
          0.875,
          0.9166666666666666,
          0.7083333333333334,
          0.9583333333333334,
          0.7916666666666666,
          0.875,
          0.75,
          0.9166666666666666,
          0.8333333333333334,
          0.8333333333333334,
          1,
          0.7916666666666666,
          0.9583333333333334,
          0.75,
          0.9166666666666666,
          0.8333333333333334,
          0.8333333333333334,
          0.9166666666666666,
          0.8333333333333334,
          0.5416666666666666,
          0.875,
          0.875,
          0.75,
          0.7083333333333334,
          0.875,
          0.9166666666666666,
          0.7083333333333334,
          0.8333333333333334,
          0.9166666666666666,
          0.9166666666666666,
          0.9166666666666666,
          0.7083333333333334,
          0.9166666666666666,
          0.9166666666666666,
          0.75,
          0.9166666666666666,
          0.75,
          0.7916666666666666,
          0.8333333333333334,
          0.9583333333333334,
          0.7916666666666666,
          0.9583333333333334,
          0.7916666666666666,
          0.625,
          0.7083333333333334,
          0.8333333333333334,
          0.9166666666666666,
          0.8333333333333334,
          0.875,
          0.7916666666666666,
          1,
          0.75,
          0.875,
          0.875,
          0.7916666666666666,
          0.7083333333333334,
          0.8333333333333334,
          0.6666666666666666,
          0.9583333333333334,
          0.5833333333333334,
          0.75,
          0.75,
          0.875,
          0.875,
          0.9166666666666666,
          0.9583333333333334,
          0.9583333333333334,
          0.875,
          0.875,
          0.6666666666666666,
          0.8333333333333334,
          0.7916666666666666,
          0.7916666666666666,
          0.875,
          0.875,
          0.875,
          0.9583333333333334,
          0.8333333333333334,
          0.7083333333333334,
          0.875,
          0.9583333333333334,
          0.8333333333333334,
          0.875,
          0.9583333333333334,
          0.9166666666666666,
          0.8333333333333334,
          0.9166666666666666,
          0.625,
          0.75,
          0.9166666666666666,
          0.7916666666666666,
          0.8333333333333334,
          0.8333333333333334,
          0.8333333333333334,
          0.7083333333333334,
          0.9166666666666666,
          0.75,
          0.7083333333333334,
          0.7916666666666666,
          0.9583333333333334,
          0.875,
          0.9583333333333334,
          0.7083333333333334,
          0.8333333333333334,
          0.7916666666666666,
          0.75,
          0.8333333333333334,
          0.8333333333333334,
          0.6666666666666666,
          0.75,
          0.7916666666666666,
          0.8333333333333334,
          0.8333333333333334,
          0.875,
          0.875,
          0.7916666666666666,
          0.7916666666666666,
          0.6666666666666666,
          0.7916666666666666,
          0.9166666666666666,
          0.875,
          0.7083333333333334,
          0.875,
          0.875,
          0.75,
          0.7916666666666666,
          0.8333333333333334,
          0.9583333333333334,
          0.875,
          0.8333333333333334,
          0.9583333333333334,
          0.7916666666666666,
          0.875,
          0.75,
          0.6666666666666666,
          0.875,
          0.875,
          0.875,
          0.75,
          0.875,
          0.9583333333333334,
          0.7083333333333334,
          0.8333333333333334,
          0.7916666666666666,
          0.8333333333333334,
          0.75,
          0.7083333333333334,
          0.7083333333333334,
          0.375,
          0.8333333333333334,
          0.9583333333333334,
          0.75,
          0.875,
          0.6666666666666666,
          0.9583333333333334,
          0.6666666666666666,
          0.8333333333333334,
          0.9583333333333334,
          0.8333333333333334,
          0.7916666666666666,
          0.875,
          0.75,
          0.8333333333333334,
          0.8333333333333334,
          0.7916666666666666,
          0.7916666666666666,
          0.8333333333333334,
          0.875,
          0.8333333333333334,
          0.75,
          0.7916666666666666,
          0.875,
          0.875,
          0.75,
          0.8333333333333334,
          0.875,
          0.9166666666666666,
          0.8333333333333334,
          0.875,
          0.7916666666666666,
          0.7916666666666666,
          0.9166666666666666,
          0.7916666666666666,
          0.8333333333333334,
          0.8333333333333334,
          0.8333333333333334,
          0.8333333333333334,
          0.875,
          0.7916666666666666,
          0.8333333333333334,
          0.75,
          0.8333333333333334,
          0.9166666666666666,
          0.6666666666666666,
          0.7916666666666666,
          0.75,
          0.9583333333333334,
          0.9166666666666666,
          0.8333333333333334,
          0.8333333333333334,
          0.9166666666666666,
          0.75,
          0.7916666666666666,
          0.7916666666666666,
          0.875,
          0.8333333333333334,
          0.9583333333333334,
          0.75,
          0.6666666666666666,
          0.8333333333333334,
          0.875,
          0.9166666666666666,
          0.8333333333333334,
          0.7916666666666666,
          0.9166666666666666,
          0.875,
          0.6666666666666666,
          0.75,
          0.875,
          0.7083333333333334,
          0.6666666666666666,
          0.7083333333333334,
          0.6666666666666666,
          0.7083333333333334,
          0.8333333333333334,
          0.8333333333333334,
          0.7916666666666666,
          0.7916666666666666,
          0.875,
          0.75,
          0.75,
          0.7083333333333334,
          0.7916666666666666,
          0.7083333333333334,
          0.8333333333333334,
          0.7916666666666666,
          0.7916666666666666,
          0.625,
          0.8333333333333334,
          0.6666666666666666,
          0.875,
          0.7916666666666666,
          0.8333333333333334,
          0.9166666666666666,
          0.7083333333333334,
          0.9166666666666666,
          0.8333333333333334,
          0.875,
          0.75,
          0.625,
          0.9166666666666666,
          0.875,
          0.875,
          0.7916666666666666,
          0.8333333333333334,
          0.7083333333333334,
          0.9583333333333334,
          0.8333333333333334,
          0.8333333333333334,
          0.875,
          0.6666666666666666,
          0.7916666666666666,
          0.7916666666666666,
          0.875,
          0.9166666666666666,
          0.9583333333333334,
          0.7916666666666666,
          0.9166666666666666,
          0.7083333333333334,
          0.9166666666666666,
          0.9166666666666666,
          0.7083333333333334,
          0.7916666666666666,
          0.875,
          0.6666666666666666,
          0.875,
          0.75,
          0.8333333333333334,
          0.875,
          0.875,
          0.75,
          0.875,
          0.875,
          0.7916666666666666,
          0.8333333333333334,
          0.8333333333333334,
          0.9583333333333334,
          0.625,
          0.875,
          0.8333333333333334,
          0.875,
          1,
          0.75,
          0.875,
          0.75,
          0.7083333333333334,
          0.9583333333333334,
          0.875,
          0.7916666666666666,
          0.875,
          0.9166666666666666,
          0.875,
          0.75,
          0.9166666666666666,
          0.8333333333333334,
          0.9166666666666666,
          0.9166666666666666,
          0.75,
          0.7916666666666666,
          0.7916666666666666,
          0.75,
          0.7916666666666666,
          0.8333333333333334,
          0.9166666666666666,
          0.9583333333333334,
          0.9166666666666666,
          0.875,
          0.7916666666666666,
          0.7916666666666666,
          0.8333333333333334,
          0.7916666666666666,
          0.7916666666666666,
          0.7916666666666666,
          0.8333333333333334,
          0.875,
          0.8333333333333334,
          0.8333333333333334,
          0.8333333333333334,
          0.625,
          0.9583333333333334,
          0.7916666666666666,
          0.875,
          0.875,
          0.75,
          0.75,
          0.7916666666666666,
          1,
          0.6666666666666666,
          0.8333333333333334,
          0.625,
          0.7916666666666666,
          0.8333333333333334,
          0.875,
          0.6666666666666666,
          0.875,
          0.875,
          0.625,
          0.7916666666666666,
          0.875,
          0.875,
          0.7083333333333334,
          0.875,
          0.9583333333333334,
          0.9583333333333334,
          0.6666666666666666,
          0.9166666666666666,
          0.7916666666666666,
          0.875,
          0.7083333333333334,
          0.75,
          0.6666666666666666,
          0.6666666666666666,
          0.6666666666666666,
          0.9166666666666666,
          0.9166666666666666,
          0.875,
          0.8333333333333334,
          0.7916666666666666,
          0.7916666666666666,
          0.7083333333333334,
          0.7916666666666666,
          0.875,
          0.9166666666666666,
          0.875,
          0.7083333333333334,
          0.75,
          0.875,
          0.875,
          0.875,
          0.75,
          0.9583333333333334,
          0.8333333333333334,
          0.7916666666666666,
          0.7916666666666666,
          0.9583333333333334,
          0.6666666666666666,
          0.7916666666666666,
          0.5833333333333334,
          0.8333333333333334,
          0.8333333333333334,
          0.875,
          0.875,
          0.75,
          0.7916666666666666,
          0.8333333333333334,
          0.9166666666666666,
          0.9166666666666666,
          0.875,
          0.875,
          0.8333333333333334,
          0.8333333333333334,
          0.625,
          0.8333333333333334,
          1,
          0.8333333333333334,
          0.75,
          0.6666666666666666,
          0.7916666666666666,
          0.625,
          0.75,
          0.875,
          0.875,
          0.75,
          0.9583333333333334,
          0.9166666666666666,
          0.625,
          0.8333333333333334,
          0.9166666666666666,
          0.8333333333333334,
          0.7083333333333334,
          0.875,
          0.7916666666666666,
          0.7916666666666666,
          0.625,
          0.75,
          0.7916666666666666,
          0.7916666666666666,
          0.625,
          0.8333333333333334,
          0.875,
          0.875,
          0.7083333333333334,
          0.875,
          0.75,
          0.7083333333333334,
          0.7916666666666666,
          0.8333333333333334,
          0.7916666666666666,
          0.7916666666666666,
          0.75,
          0.875,
          0.75,
          0.7916666666666666,
          0.7083333333333334,
          0.8333333333333334,
          0.7083333333333334,
          0.875,
          0.7916666666666666,
          0.75,
          0.7916666666666666,
          0.8333333333333334,
          0.8333333333333334,
          0.7083333333333334,
          0.8333333333333334,
          0.9166666666666666,
          0.75,
          0.75,
          0.875,
          0.7083333333333334,
          1,
          0.875,
          0.8333333333333334,
          0.875,
          0.875,
          0.9583333333333334,
          1,
          0.7916666666666666,
          0.9166666666666666,
          0.9166666666666666,
          0.6666666666666666,
          0.875,
          0.7916666666666666,
          0.875,
          0.8333333333333334,
          0.9583333333333334,
          0.7916666666666666,
          0.8333333333333334,
          0.875,
          0.7916666666666666,
          0.875,
          0.75,
          0.9166666666666666,
          0.9166666666666666,
          0.8333333333333334,
          0.875,
          0.875,
          0.9166666666666666,
          0.875,
          0.75,
          0.875,
          0.875,
          0.75,
          0.875,
          0.8333333333333334,
          0.8333333333333334,
          0.6666666666666666,
          0.9166666666666666,
          0.8333333333333334,
          0.7916666666666666,
          0.75,
          0.875,
          0.75,
          0.7083333333333334,
          0.9166666666666666,
          0.6666666666666666,
          1,
          0.6666666666666666,
          0.7916666666666666,
          0.7083333333333334,
          0.75,
          0.875,
          0.875,
          0.7916666666666666,
          0.7916666666666666,
          0.7916666666666666,
          0.8333333333333334,
          0.625,
          0.75,
          0.7916666666666666,
          0.8333333333333334,
          0.875,
          0.875,
          0.6666666666666666,
          0.9166666666666666,
          0.875,
          0.7916666666666666,
          0.7916666666666666,
          0.875,
          0.6666666666666666,
          0.75,
          0.9166666666666666,
          0.8333333333333334,
          0.75,
          0.8333333333333334,
          0.75,
          0.7916666666666666,
          0.625,
          0.75,
          0.875,
          0.75,
          0.7916666666666666,
          0.9166666666666666,
          0.7916666666666666,
          0.5833333333333334,
          0.8333333333333334,
          0.8333333333333334,
          0.9583333333333334,
          0.8333333333333334,
          0.75,
          0.7916666666666666,
          0.875,
          0.8333333333333334,
          0.7916666666666666,
          0.7916666666666666,
          0.75,
          0.9166666666666666,
          0.5416666666666666,
          0.8333333333333334,
          0.7916666666666666,
          0.75,
          0.75,
          0.7916666666666666,
          0.875,
          0.7916666666666666,
          0.875,
          0.9166666666666666,
          0.9166666666666666,
          0.75,
          0.75,
          0.7916666666666666,
          0.8333333333333334,
          0.8333333333333334,
          0.875,
          0.9166666666666666,
          0.7916666666666666,
          0.7083333333333334,
          0.75,
          0.875,
          0.6666666666666666,
          0.875,
          0.7916666666666666,
          0.875,
          0.8333333333333334,
          0.9166666666666666,
          0.8333333333333334,
          0.6666666666666666,
          0.7083333333333334,
          0.8333333333333334,
          0.875,
          0.9166666666666666,
          0.7916666666666666,
          0.625,
          0.6666666666666666,
          0.8333333333333334,
          0.7083333333333334,
          0.875,
          0.7916666666666666,
          0.9166666666666666,
          0.8333333333333334,
          0.7083333333333334,
          0.875,
          0.7916666666666666,
          0.875,
          0.8333333333333334,
          0.7916666666666666,
          0.9166666666666666,
          0.75,
          0.5416666666666666,
          0.9583333333333334,
          0.625,
          0.8333333333333334,
          0.7916666666666666,
          0.7916666666666666,
          0.8333333333333334,
          0.7916666666666666,
          0.75,
          0.7916666666666666,
          0.6666666666666666,
          0.7083333333333334,
          0.625,
          0.8333333333333334,
          0.7083333333333334,
          0.5833333333333334,
          0.9166666666666666,
          0.6666666666666666,
          0.875,
          0.875,
          0.9166666666666666,
          0.8333333333333334,
          0.7916666666666666,
          0.7916666666666666,
          0.9166666666666666,
          0.9166666666666666,
          0.8333333333333334,
          0.75,
          0.75,
          0.75,
          0.7916666666666666,
          0.7916666666666666,
          0.7916666666666666,
          0.8333333333333334,
          0.7916666666666666,
          0.8333333333333334,
          0.625,
          0.7916666666666666,
          0.6666666666666666,
          0.8333333333333334,
          0.7916666666666666,
          0.7083333333333334,
          0.625,
          0.75,
          0.625,
          1,
          0.7916666666666666,
          0.7083333333333334,
          0.8333333333333334,
          0.875,
          0.8333333333333334,
          0.875,
          0.9583333333333334,
          0.9166666666666666,
          0.7916666666666666,
          0.875,
          0.7083333333333334,
          0.7916666666666666,
          0.8333333333333334,
          0.75,
          0.7083333333333334,
          0.75,
          0.6666666666666666,
          0.875,
          1,
          0.875,
          0.75,
          0.875,
          0.7083333333333334,
          0.8333333333333334,
          0.75,
          0.75,
          0.875,
          0.7083333333333334,
          0.8333333333333334,
          0.875,
          0.9166666666666666,
          0.8333333333333334,
          0.75,
          0.7916666666666666,
          0.75,
          0.7916666666666666,
          0.8333333333333334,
          0.75,
          0.625,
          0.9166666666666666,
          0.7916666666666666,
          0.625,
          0.9583333333333334,
          0.8333333333333334,
          0.8333333333333334,
          1,
          0.625,
          0.875,
          0.6666666666666666,
          0.7083333333333334,
          0.75,
          0.7916666666666666,
          0.7916666666666666,
          0.75,
          0.875,
          0.6666666666666666,
          0.9166666666666666,
          0.7916666666666666,
          0.75,
          0.75,
          0.8333333333333334,
          0.9583333333333334,
          0.7916666666666666,
          0.6666666666666666,
          0.875,
          0.7083333333333334,
          0.875,
          0.9166666666666666,
          0.8333333333333334,
          0.6666666666666666,
          0.75,
          0.75,
          0.75,
          0.7916666666666666,
          0.8333333333333334,
          0.875,
          0.7916666666666666,
          0.5833333333333334,
          0.875,
          0.875,
          0.7083333333333334,
          0.875,
          0.9583333333333334,
          0.7916666666666666,
          0.7083333333333334,
          0.8333333333333334,
          0.875,
          0.9583333333333334,
          0.8333333333333334,
          0.875,
          0.75,
          0.6666666666666666,
          0.9166666666666666,
          0.5,
          0.7916666666666666,
          0.9583333333333334,
          0.875,
          0.6666666666666666,
          0.875,
          0.7916666666666666,
          0.875,
          0.9166666666666666,
          0.75,
          0.7083333333333334,
          0.7083333333333334,
          0.8333333333333334,
          0.75,
          0.75,
          0.75,
          0.7916666666666666,
          0.875,
          0.8333333333333334,
          0.9166666666666666,
          0.7083333333333334,
          0.8333333333333334,
          0.7916666666666666,
          0.875,
          0.75,
          0.7083333333333334,
          0.75,
          1,
          0.7916666666666666,
          0.7916666666666666,
          0.9166666666666666,
          0.875,
          0.9583333333333334,
          0.875,
          0.875,
          0.8333333333333334,
          0.5416666666666666,
          0.6666666666666666,
          0.8333333333333334,
          0.9166666666666666,
          0.875,
          0.75,
          0.9583333333333334,
          0.625,
          0.9166666666666666,
          0.6666666666666666,
          0.6666666666666666,
          0.7916666666666666,
          0.75,
          0.8333333333333334,
          0.8333333333333334,
          0.875,
          0.7916666666666666,
          0.75,
          0.7916666666666666,
          0.7083333333333334,
          0.6666666666666666,
          0.625,
          0.7916666666666666,
          0.8333333333333334,
          0.8333333333333334,
          0.7916666666666666,
          0.8333333333333334,
          0.9166666666666666,
          0.875,
          0.875,
          0.9583333333333334,
          0.75,
          0.75,
          0.875,
          0.9583333333333334,
          0.625,
          0.6666666666666666,
          0.7916666666666666,
          0.8333333333333334,
          0.6666666666666666,
          0.8333333333333334,
          0.5416666666666666,
          0.9166666666666666,
          0.75,
          0.9166666666666666,
          0.9166666666666666,
          0.75,
          0.75,
          1,
          0.625,
          0.7083333333333334,
          0.6666666666666666,
          0.875,
          0.9166666666666666,
          0.7083333333333334,
          0.9166666666666666,
          0.9583333333333334,
          1,
          0.6666666666666666,
          0.875,
          0.8333333333333334,
          0.7916666666666666,
          0.7916666666666666,
          0.8333333333333334,
          0.75,
          0.9166666666666666,
          0.9583333333333334,
          0.7916666666666666,
          0.7083333333333334,
          0.75,
          0.875,
          0.8333333333333334,
          0.875,
          0.7083333333333334,
          0.7916666666666666,
          0.7916666666666666,
          0.9583333333333334,
          0.75,
          0.7916666666666666,
          0.75,
          0.875,
          0.9166666666666666,
          0.5416666666666666,
          1,
          0.875,
          0.8333333333333334,
          0.7916666666666666,
          0.5416666666666666,
          0.7916666666666666,
          0.7916666666666666,
          0.9166666666666666,
          0.625,
          0.9166666666666666,
          0.7916666666666666,
          0.7916666666666666,
          0.7083333333333334,
          0.9166666666666666,
          0.9166666666666666,
          0.4166666666666667,
          0.7083333333333334,
          0.75,
          0.8333333333333334,
          0.8333333333333334,
          0.7916666666666666,
          0.75,
          0.4583333333333333,
          0.7916666666666666,
          0.9166666666666666,
          0.875,
          0.7916666666666666,
          0.6666666666666666,
          0.8333333333333334,
          0.7083333333333334,
          0.7083333333333334,
          0.7916666666666666,
          0.7916666666666666,
          0.8333333333333334,
          0.7083333333333334,
          0.6666666666666666,
          0.875,
          0.8333333333333334,
          0.8333333333333334,
          0.9583333333333334,
          0.8333333333333334,
          0.9166666666666666,
          0.75,
          0.7916666666666666,
          0.8333333333333334,
          0.7916666666666666,
          0.75,
          0.7916666666666666,
          0.6666666666666666,
          0.875,
          0.7083333333333334,
          0.875,
          0.9166666666666666,
          0.8333333333333334,
          0.9166666666666666,
          0.7916666666666666,
          0.7916666666666666,
          0.8333333333333334,
          0.7916666666666666,
          0.8333333333333334,
          0.8333333333333334,
          0.75,
          0.6666666666666666,
          0.6666666666666666,
          0.7083333333333334,
          0.9166666666666666,
          0.75,
          0.7916666666666666,
          0.9583333333333334,
          0.9583333333333334,
          0.875,
          0.7916666666666666,
          0.5416666666666666,
          0.8333333333333334,
          0.7916666666666666,
          0.9583333333333334,
          0.7916666666666666,
          0.75,
          0.875,
          0.75,
          0.875,
          0.75,
          0.75,
          0.75,
          0.8333333333333334,
          0.875,
          0.6666666666666666,
          0.7916666666666666,
          0.7916666666666666,
          0.875,
          0.75,
          0.7083333333333334,
          0.75,
          0.8333333333333334,
          0.7083333333333334,
          0.875,
          0.875,
          0.8333333333333334,
          0.7083333333333334,
          0.7083333333333334,
          0.875,
          0.875,
          0.9166666666666666,
          0.7916666666666666,
          0.875,
          0.75,
          0.9166666666666666,
          0.875,
          0.8333333333333334,
          0.9583333333333334,
          1,
          0.9583333333333334,
          0.75,
          0.7916666666666666,
          0.6666666666666666,
          0.875,
          0.9166666666666666,
          0.8333333333333334,
          0.7916666666666666,
          0.5833333333333334,
          0.7083333333333334,
          0.8333333333333334,
          0.8333333333333334,
          0.9166666666666666,
          0.75,
          0.7916666666666666,
          0.8333333333333334,
          0.875,
          0.7916666666666666,
          0.8333333333333334,
          0.9166666666666666,
          0.8333333333333334,
          0.7083333333333334,
          0.9583333333333334,
          0.875,
          0.75,
          0.9583333333333334,
          0.7916666666666666,
          0.8333333333333334,
          0.9583333333333334,
          0.75,
          0.7916666666666666,
          0.9166666666666666,
          0.7916666666666666,
          0.75,
          0.7083333333333334,
          0.75,
          0.7916666666666666,
          0.8333333333333334,
          0.75,
          0.7083333333333334,
          0.7083333333333334,
          0.875,
          0.875,
          0.9166666666666666,
          0.6666666666666666,
          0.7083333333333334,
          0.5416666666666666,
          0.7916666666666666,
          0.875,
          0.9166666666666666,
          1,
          0.875,
          0.625,
          0.8333333333333334,
          0.75,
          0.625,
          0.8333333333333334,
          0.7083333333333334,
          0.75,
          0.6666666666666666,
          0.9583333333333334,
          0.875,
          0.875,
          0.7083333333333334,
          0.8333333333333334,
          0.75,
          0.7916666666666666,
          0.8333333333333334,
          0.9583333333333334,
          0.875,
          0.875,
          0.8333333333333334,
          0.7916666666666666,
          0.8333333333333334,
          0.8333333333333334,
          0.75,
          0.7916666666666666,
          0.7916666666666666,
          0.7916666666666666,
          0.9166666666666666,
          0.75,
          0.7916666666666666,
          0.7916666666666666,
          0.8333333333333334,
          0.875,
          0.9583333333333334,
          0.7083333333333334,
          0.9166666666666666,
          0.9166666666666666,
          0.8333333333333334,
          0.9583333333333334,
          0.7916666666666666,
          0.9166666666666666,
          0.7916666666666666,
          0.8333333333333334,
          0.875,
          0.7916666666666666,
          0.9583333333333334,
          0.875,
          0.9583333333333334,
          0.7916666666666666,
          0.7916666666666666,
          0.8333333333333334,
          0.9166666666666666,
          0.9166666666666666,
          0.75,
          0.875,
          0.9583333333333334,
          0.5833333333333334,
          0.8333333333333334,
          0.875,
          0.875,
          0.8333333333333334,
          0.8333333333333334,
          0.7916666666666666,
          0.625,
          0.875,
          0.8333333333333334,
          0.875,
          0.8333333333333334,
          0.9166666666666666,
          0.9166666666666666,
          0.9166666666666666,
          0.7916666666666666,
          0.8333333333333334,
          0.7916666666666666,
          0.9166666666666666,
          0.8333333333333334,
          0.75,
          0.9583333333333334,
          0.9583333333333334,
          0.9583333333333334,
          0.8333333333333334,
          0.9583333333333334,
          0.9166666666666666,
          0.9583333333333334,
          0.875,
          1,
          0.9166666666666666,
          0.9583333333333334,
          0.875,
          0.9166666666666666,
          0.7916666666666666,
          0.7916666666666666,
          0.7916666666666666,
          0.9166666666666666,
          0.7916666666666666,
          0.8333333333333334,
          0.75,
          0.8333333333333334,
          0.875,
          0.7083333333333334,
          0.8333333333333334,
          0.875,
          0.8333333333333334,
          0.8333333333333334,
          0.9166666666666666,
          0.5833333333333334,
          0.7916666666666666,
          0.7916666666666666,
          0.8333333333333334,
          0.7916666666666666,
          0.7916666666666666,
          0.8333333333333334,
          0.8333333333333334,
          0.9166666666666666,
          0.8333333333333334,
          0.5833333333333334,
          0.9166666666666666,
          0.7083333333333334,
          0.9583333333333334,
          0.8333333333333334,
          0.9583333333333334,
          0.8333333333333334,
          0.8333333333333334,
          0.75,
          0.7916666666666666,
          0.8333333333333334,
          0.7083333333333334,
          0.9166666666666666,
          0.625,
          0.8333333333333334,
          0.6666666666666666,
          0.9583333333333334,
          0.875,
          0.9583333333333334,
          0.875,
          0.8333333333333334,
          0.875,
          0.7083333333333334,
          0.9166666666666666,
          0.875,
          0.625,
          0.8333333333333334,
          0.875,
          0.9166666666666666,
          0.875,
          0.9166666666666666,
          0.7916666666666666,
          0.875,
          0.875,
          0.9583333333333334,
          0.9583333333333334,
          0.75,
          0.625,
          0.875,
          0.8333333333333334,
          0.7916666666666666,
          0.875,
          0.875,
          0.7916666666666666,
          0.875,
          0.9583333333333334,
          0.8333333333333334,
          0.9166666666666666,
          1,
          0.7916666666666666,
          0.9583333333333334,
          0.875,
          0.5,
          1,
          0.9583333333333334,
          0.7083333333333334,
          0.8333333333333334,
          0.9166666666666666,
          0.9583333333333334,
          0.7083333333333334,
          0.8333333333333334,
          0.9166666666666666,
          0.875,
          0.8333333333333334,
          0.875,
          0.875,
          0.75,
          0.875,
          0.8333333333333334,
          0.9166666666666666,
          0.75,
          0.9166666666666666,
          0.875,
          0.875,
          0.8333333333333334,
          0.7916666666666666,
          0.8333333333333334,
          0.875,
          0.5833333333333334,
          0.7916666666666666,
          0.875,
          0.7916666666666666,
          0.9583333333333334,
          0.875,
          0.9166666666666666,
          0.8333333333333334,
          0.7916666666666666,
          0.75,
          0.5416666666666666,
          0.8333333333333334,
          0.7916666666666666,
          0.7916666666666666,
          0.7083333333333334,
          0.8333333333333334,
          0.875,
          0.875,
          0.9166666666666666,
          0.875,
          0.8333333333333334,
          0.875,
          0.7083333333333334,
          0.8333333333333334,
          0.875,
          0.7916666666666666,
          0.9166666666666666,
          1,
          0.625,
          0.7916666666666666,
          0.9166666666666666,
          0.7083333333333334,
          0.875,
          0.875,
          0.9166666666666666,
          0.75,
          0.75,
          0.7083333333333334,
          0.7916666666666666,
          0.7916666666666666,
          0.8333333333333334,
          0.75,
          0.8333333333333334,
          0.875,
          0.6666666666666666,
          1,
          0.7916666666666666,
          0.875,
          0.875,
          0.8333333333333334,
          0.9166666666666666,
          0.4166666666666667,
          1,
          0.9583333333333334,
          0.9583333333333334,
          0.7916666666666666,
          0.875,
          0.8333333333333334,
          0.7083333333333334,
          0.7916666666666666,
          0.9166666666666666,
          0.8333333333333334,
          0.9166666666666666,
          0.9166666666666666,
          0.7083333333333334,
          0.9583333333333334,
          0.9583333333333334,
          0.9166666666666666,
          0.7916666666666666,
          0.8333333333333334,
          0.9166666666666666,
          0.6666666666666666,
          0.7083333333333334,
          0.7916666666666666,
          0.5416666666666666,
          0.9583333333333334,
          0.75,
          0.75,
          0.875,
          0.9583333333333334,
          0.8333333333333334,
          0.9583333333333334,
          1,
          0.8333333333333334,
          0.8333333333333334,
          1,
          0.7916666666666666,
          0.75,
          0.75,
          0.875,
          1,
          0.875,
          0.9166666666666666,
          0.6666666666666666,
          0.7916666666666666,
          0.8333333333333334,
          0.75,
          0.8333333333333334,
          0.9166666666666666,
          0.9583333333333334,
          0.875,
          0.875,
          0.75,
          0.9583333333333334,
          0.75,
          0.7083333333333334,
          0.875,
          1,
          0.875,
          0.9583333333333334,
          0.625,
          0.75,
          0.9583333333333334,
          0.8333333333333334,
          0.75,
          0.875,
          0.9166666666666666,
          0.7083333333333334,
          0.8333333333333334,
          0.875,
          0.8333333333333334,
          0.75,
          0.7916666666666666,
          0.5833333333333334,
          0.8333333333333334,
          0.625,
          0.75,
          0.9166666666666666,
          0.8333333333333334,
          0.9583333333333334,
          0.9583333333333334,
          0.8333333333333334,
          0.875,
          0.875,
          0.9583333333333334,
          0.625,
          0.875,
          0.8333333333333334,
          0.75,
          1,
          0.8333333333333334,
          0.9583333333333334,
          0.8333333333333334,
          0.9166666666666666,
          0.8333333333333334,
          0.875,
          0.875,
          0.875,
          0.75,
          0.9583333333333334,
          0.9166666666666666,
          0.8333333333333334,
          1,
          0.9583333333333334,
          0.75,
          0.8333333333333334,
          0.7916666666666666,
          0.7916666666666666,
          0.8333333333333334,
          0.8333333333333334,
          0.9583333333333334,
          0.625,
          0.7916666666666666,
          0.8333333333333334,
          0.9583333333333334,
          1,
          0.7916666666666666,
          0.9166666666666666,
          0.7916666666666666,
          0.8333333333333334,
          0.9583333333333334,
          0.8333333333333334,
          0.8333333333333334,
          0.75,
          0.5416666666666666,
          0.8333333333333334,
          0.8333333333333334,
          0.9166666666666666,
          0.625,
          0.9166666666666666,
          0.9583333333333334,
          0.9583333333333334,
          0.9166666666666666,
          0.9166666666666666,
          0.7083333333333334,
          0.625,
          0.9166666666666666,
          0.9166666666666666,
          0.9166666666666666,
          0.875,
          0.875,
          0.875,
          0.875,
          0.9166666666666666,
          0.8333333333333334,
          0.875,
          0.9583333333333334,
          0.7083333333333334,
          0.7916666666666666,
          0.8333333333333334,
          0.9583333333333334,
          0.8333333333333334,
          0.8333333333333334,
          0.5833333333333334,
          0.875,
          0.8333333333333334,
          0.7083333333333334,
          1,
          0.7916666666666666,
          0.9166666666666666,
          0.8333333333333334,
          0.7916666666666666,
          0.6666666666666666,
          0.75,
          0.75,
          0.875,
          0.8333333333333334,
          0.8333333333333334,
          0.9166666666666666,
          1,
          0.8333333333333334,
          0.875,
          0.9583333333333334,
          0.9583333333333334,
          0.9583333333333334,
          0.8333333333333334,
          0.625,
          0.7916666666666666,
          0.7916666666666666,
          0.875,
          0.9583333333333334,
          0.75,
          0.9166666666666666,
          0.75,
          0.875,
          0.875,
          0.875,
          0.9166666666666666,
          0.8333333333333334,
          0.75,
          0.7083333333333334,
          0.8333333333333334,
          0.9166666666666666,
          1,
          0.7916666666666666,
          0.6666666666666666,
          0.875,
          0.7916666666666666,
          0.875,
          0.75,
          0.6666666666666666,
          1,
          0.875,
          0.7916666666666666,
          0.875,
          0.875,
          0.875,
          0.9583333333333334,
          1,
          0.8333333333333334,
          0.7916666666666666,
          0.9166666666666666,
          0.9166666666666666,
          0.9166666666666666,
          0.75,
          0.8333333333333334,
          0.9166666666666666,
          0.9583333333333334,
          0.9166666666666666,
          0.75,
          0.9166666666666666,
          0.7916666666666666,
          0.9583333333333334,
          0.75,
          0.7916666666666666,
          0.8333333333333334,
          0.875,
          0.9583333333333334,
          0.875,
          0.9166666666666666,
          0.7083333333333334,
          0.875,
          0.7916666666666666,
          0.75,
          0.9166666666666666,
          0.7916666666666666,
          0.8333333333333334,
          0.9583333333333334,
          0.9583333333333334,
          0.9166666666666666,
          0.9166666666666666,
          0.875,
          0.875,
          0.8333333333333334,
          0.9583333333333334,
          0.8333333333333334,
          0.9583333333333334,
          0.9166666666666666,
          0.6666666666666666,
          0.875,
          0.9166666666666666,
          0.8333333333333334,
          0.6666666666666666,
          0.9583333333333334,
          0.875,
          0.7916666666666666,
          1,
          0.8333333333333334,
          0.875,
          0.9583333333333334,
          0.7916666666666666,
          0.8333333333333334,
          0.75,
          0.9583333333333334,
          0.7916666666666666,
          0.9166666666666666,
          0.8333333333333334,
          0.875,
          0.7916666666666666,
          0.9166666666666666,
          0.8333333333333334,
          0.8333333333333334,
          0.8333333333333334,
          0.9583333333333334,
          0.625,
          0.8333333333333334,
          0.7916666666666666,
          0.875,
          0.875,
          0.8333333333333334,
          0.875,
          0.8333333333333334,
          0.9166666666666666,
          0.7916666666666666,
          0.875,
          0.9583333333333334,
          0.9166666666666666,
          0.8333333333333334,
          0.8333333333333334,
          0.75,
          0.75,
          0.8333333333333334,
          1,
          0.75,
          0.9583333333333334,
          0.9166666666666666,
          0.7916666666666666,
          0.9166666666666666,
          0.8333333333333334,
          0.7916666666666666,
          0.9583333333333334,
          0.875,
          0.9166666666666666,
          0.7916666666666666,
          0.9166666666666666,
          0.5,
          0.7083333333333334,
          0.8333333333333334,
          0.9166666666666666,
          0.6666666666666666,
          0.7916666666666666,
          0.7083333333333334,
          0.9166666666666666,
          0.9166666666666666,
          0.875,
          0.6666666666666666,
          0.8333333333333334,
          0.75,
          0.7083333333333334,
          0.9583333333333334,
          0.8333333333333334,
          1,
          0.625,
          0.7916666666666666,
          0.7916666666666666,
          0.7916666666666666,
          0.8333333333333334,
          0.7916666666666666,
          0.9166666666666666,
          0.7916666666666666,
          0.8333333333333334,
          0.9583333333333334,
          0.875,
          0.7916666666666666,
          0.6666666666666666,
          0.875,
          0.875,
          0.875,
          0.9166666666666666,
          0.5833333333333334,
          0.9583333333333334,
          0.9583333333333334,
          0.8333333333333334,
          0.8333333333333334,
          0.9166666666666666,
          0.7916666666666666,
          0.9583333333333334,
          0.9166666666666666,
          0.625,
          0.8333333333333334,
          0.7916666666666666,
          0.8333333333333334,
          0.625,
          0.7083333333333334,
          0.75,
          0.8333333333333334,
          0.875,
          0.6666666666666666,
          0.7916666666666666,
          0.9166666666666666,
          0.9166666666666666,
          1,
          0.875,
          0.7083333333333334,
          1,
          0.8333333333333334,
          0.7916666666666666,
          0.9166666666666666,
          0.8333333333333334,
          0.7916666666666666,
          0.9166666666666666,
          0.875,
          0.9166666666666666,
          0.9166666666666666,
          0.6666666666666666,
          0.75,
          0.8333333333333334,
          0.8333333333333334,
          0.6666666666666666,
          0.9166666666666666,
          0.9166666666666666,
          0.6666666666666666,
          0.875,
          0.9583333333333334,
          0.875,
          0.9583333333333334,
          0.875,
          0.8333333333333334,
          0.9583333333333334,
          0.8333333333333334,
          0.9583333333333334,
          0.8333333333333334,
          1,
          0.8333333333333334,
          0.9583333333333334,
          0.875,
          0.7916666666666666,
          0.7916666666666666,
          1,
          0.7916666666666666,
          0.7916666666666666,
          0.875,
          0.875,
          0.7083333333333334,
          0.9166666666666666,
          0.9583333333333334,
          0.9166666666666666,
          0.8333333333333334,
          0.8333333333333334,
          0.7916666666666666,
          0.8333333333333334,
          0.9166666666666666,
          0.875,
          0.875,
          0.9166666666666666,
          0.875,
          0.8333333333333334,
          0.7083333333333334,
          0.9166666666666666,
          0.875,
          0.75,
          0.7916666666666666,
          0.7083333333333334,
          0.875,
          0.75,
          0.9166666666666666,
          0.7916666666666666,
          0.9166666666666666,
          0.9583333333333334,
          0.8333333333333334,
          0.9166666666666666,
          0.875,
          0.9583333333333334,
          0.7916666666666666,
          0.9583333333333334,
          0.7083333333333334,
          0.875,
          0.8333333333333334,
          0.7916666666666666,
          0.875,
          0.9583333333333334,
          0.8333333333333334,
          0.7083333333333334,
          0.9166666666666666,
          0.9166666666666666,
          0.9583333333333334,
          0.875,
          0.875,
          0.7916666666666666,
          0.8333333333333334,
          0.75,
          0.9583333333333334,
          0.8333333333333334,
          0.8333333333333334,
          0.9166666666666666,
          1,
          0.7916666666666666,
          0.75,
          0.6666666666666666,
          0.7916666666666666,
          0.875,
          0.9583333333333334,
          0.9583333333333334,
          0.875,
          0.8333333333333334,
          0.9583333333333334,
          0.8333333333333334,
          0.9166666666666666,
          0.7083333333333334,
          0.875,
          0.9583333333333334,
          0.9166666666666666,
          0.9166666666666666,
          0.875,
          0.75,
          0.7083333333333334,
          0.7083333333333334,
          0.8333333333333334,
          0.625,
          0.8333333333333334,
          1,
          0.8333333333333334,
          0.7916666666666666,
          1,
          0.6666666666666666,
          0.9583333333333334,
          0.7916666666666666,
          0.7916666666666666,
          0.875,
          0.6666666666666666,
          0.875,
          0.9166666666666666,
          0.9166666666666666,
          0.9166666666666666,
          0.8333333333333334,
          0.875,
          0.7083333333333334,
          0.875,
          0.9583333333333334,
          0.875,
          0.875,
          0.9583333333333334,
          0.9166666666666666,
          0.9583333333333334,
          0.625,
          0.7916666666666666,
          0.875,
          0.875,
          0.75,
          0.875,
          0.875,
          0.875,
          0.875,
          0.8333333333333334,
          0.9166666666666666,
          0.5416666666666666,
          0.8333333333333334,
          0.9166666666666666,
          0.9166666666666666,
          0.7916666666666666,
          0.9166666666666666,
          0.625,
          0.75,
          0.8333333333333334,
          0.7083333333333334,
          0.9583333333333334,
          0.7916666666666666,
          0.7083333333333334,
          0.9166666666666666,
          0.9166666666666666,
          0.875,
          0.75,
          0.8333333333333334,
          0.875,
          0.9583333333333334,
          0.9166666666666666,
          0.875,
          0.7083333333333334,
          0.8333333333333334,
          0.7083333333333334,
          0.875,
          0.7916666666666666,
          0.7916666666666666,
          0.875,
          0.9166666666666666,
          0.9583333333333334,
          0.75,
          0.9166666666666666,
          0.7916666666666666,
          0.9166666666666666,
          0.8333333333333334,
          0.75,
          0.875,
          0.8333333333333334,
          0.8333333333333334,
          0.5416666666666666,
          0.8333333333333334,
          0.6666666666666666,
          0.7083333333333334,
          0.9166666666666666,
          0.875,
          0.7083333333333334,
          0.7916666666666666,
          0.8333333333333334,
          0.9166666666666666,
          0.8333333333333334,
          0.7083333333333334,
          0.875,
          0.7916666666666666,
          0.875,
          0.6666666666666666,
          0.75,
          0.9166666666666666,
          0.6666666666666666,
          0.7916666666666666,
          0.8333333333333334,
          0.75,
          0.7916666666666666,
          0.8333333333333334,
          0.9166666666666666,
          0.875,
          0.6666666666666666,
          0.6666666666666666,
          0.5833333333333334,
          0.7916666666666666,
          0.5833333333333334,
          0.8333333333333334,
          0.8333333333333334,
          0.8333333333333334,
          0.7916666666666666,
          0.8333333333333334,
          0.875,
          0.6666666666666666,
          0.7916666666666666,
          0.5416666666666666,
          0.75,
          0.7083333333333334,
          0.8333333333333334,
          0.875,
          0.5833333333333334,
          0.7083333333333334,
          0.7916666666666666,
          0.8333333333333334,
          0.7916666666666666,
          0.8333333333333334,
          0.8333333333333334,
          0.8333333333333334,
          0.7916666666666666,
          0.9166666666666666,
          0.8333333333333334,
          0.5833333333333334,
          0.8333333333333334,
          0.9166666666666666,
          0.8333333333333334,
          0.7916666666666666,
          0.875,
          0.8333333333333334,
          0.7916666666666666,
          0.75,
          0.625,
          0.7083333333333334,
          0.75,
          0.875,
          0.6666666666666666,
          0.9166666666666666,
          0.625,
          0.75,
          0.8333333333333334,
          0.7083333333333334,
          0.7083333333333334,
          0.5833333333333334,
          0.8333333333333334,
          0.6666666666666666,
          0.6666666666666666,
          0.875,
          0.5833333333333334,
          0.8333333333333334,
          0.6666666666666666,
          0.875,
          0.8333333333333334,
          0.875,
          0.8333333333333334,
          0.8333333333333334,
          0.7916666666666666,
          0.7083333333333334,
          0.875,
          0.7083333333333334,
          0.7083333333333334,
          0.9583333333333334,
          0.875,
          0.8333333333333334,
          0.7083333333333334,
          0.9583333333333334,
          0.7083333333333334,
          0.7916666666666666,
          0.7916666666666666,
          0.7916666666666666,
          0.9166666666666666,
          0.875,
          0.7916666666666666,
          0.7916666666666666,
          0.875,
          0.75,
          0.75,
          0.9166666666666666,
          0.9583333333333334,
          0.8333333333333334,
          0.7083333333333334,
          0.9583333333333334,
          0.7916666666666666,
          0.7083333333333334,
          0.9166666666666666,
          0.7083333333333334,
          0.875,
          0.75,
          0.7083333333333334,
          0.8333333333333334,
          0.6666666666666666,
          0.7083333333333334,
          0.9583333333333334,
          0.875,
          0.9583333333333334,
          0.7916666666666666,
          0.7916666666666666,
          0.875,
          0.7083333333333334,
          0.8333333333333334,
          0.6666666666666666,
          0.875,
          0.9583333333333334,
          0.7916666666666666,
          0.7916666666666666,
          0.875,
          0.7083333333333334,
          0.8333333333333334,
          0.9583333333333334,
          0.8333333333333334,
          0.8333333333333334,
          0.7916666666666666,
          0.9583333333333334,
          0.75,
          0.9583333333333334,
          0.8333333333333334,
          0.875,
          0.875,
          0.9166666666666666,
          0.9166666666666666,
          0.6666666666666666,
          0.9166666666666666,
          0.8333333333333334,
          0.7916666666666666,
          0.9166666666666666,
          0.8333333333333334,
          0.5833333333333334,
          0.875,
          0.875,
          0.9166666666666666,
          0.625,
          0.5,
          0.75,
          0.7916666666666666,
          0.8333333333333334,
          0.8333333333333334,
          0.8333333333333334,
          0.7916666666666666,
          0.8333333333333334,
          0.875,
          0.875,
          0.9166666666666666,
          0.9166666666666666,
          0.9166666666666666,
          0.8333333333333334,
          0.6666666666666666,
          0.9166666666666666,
          0.875,
          0.875,
          0.875,
          0.875,
          0.875,
          0.8333333333333334,
          0.8333333333333334,
          0.875,
          0.9166666666666666,
          0.9166666666666666,
          0.7083333333333334,
          0.8333333333333334,
          0.7916666666666666,
          0.9166666666666666,
          0.8333333333333334,
          0.7083333333333334,
          0.875,
          0.9166666666666666,
          0.8333333333333334,
          0.8333333333333334,
          0.875,
          0.7916666666666666,
          0.75,
          0.9166666666666666,
          0.75,
          0.875,
          0.7916666666666666,
          0.8333333333333334,
          0.875,
          0.875,
          0.8333333333333334,
          0.9166666666666666,
          0.7916666666666666,
          0.75,
          0.875,
          0.9583333333333334,
          0.5833333333333334,
          0.875,
          0.7916666666666666,
          0.9583333333333334,
          0.75,
          0.8333333333333334,
          0.7916666666666666,
          0.7916666666666666,
          0.8333333333333334,
          0.7916666666666666,
          0.8333333333333334,
          0.8333333333333334,
          0.875,
          0.8333333333333334,
          0.6666666666666666,
          0.8333333333333334,
          0.875,
          0.7916666666666666,
          0.875,
          0.8333333333333334,
          0.9583333333333334,
          0.7916666666666666,
          0.9166666666666666,
          0.875,
          0.875,
          0.875,
          0.9166666666666666,
          0.875,
          0.9583333333333334,
          0.6666666666666666,
          0.8333333333333334,
          0.625,
          0.875,
          0.8333333333333334,
          0.875,
          0.9583333333333334,
          0.7916666666666666,
          0.75,
          0.875,
          0.8333333333333334,
          0.75,
          0.9583333333333334,
          0.875,
          0.875,
          0.875,
          0.75,
          0.5416666666666666,
          1,
          0.875,
          0.8333333333333334,
          0.9166666666666666,
          0.875,
          0.5,
          0.75,
          0.6666666666666666,
          0.625,
          0.7916666666666666,
          0.9166666666666666,
          0.875,
          0.9166666666666666,
          0.875,
          0.75,
          0.875,
          0.9166666666666666,
          0.9166666666666666,
          0.75,
          0.9166666666666666,
          0.6666666666666666,
          0.7916666666666666
         ],
         "xaxis": "x",
         "yaxis": "y"
        }
       ],
       "layout": {
        "barmode": "relative",
        "legend": {
         "tracegroupgap": 0
        },
        "margin": {
         "t": 60
        },
        "shapes": [
         {
          "line": {
           "color": "red",
           "width": 2
          },
          "type": "line",
          "x0": 0.8283083333333334,
          "x1": 0.8283083333333334,
          "xref": "x",
          "y0": 0,
          "y1": 1,
          "yref": "y domain"
         },
         {
          "line": {
           "color": "orange",
           "width": 2
          },
          "type": "line",
          "x0": 0.7916666666666666,
          "x1": 0.7916666666666666,
          "xref": "x",
          "y0": 0,
          "y1": 1,
          "yref": "y domain"
         },
         {
          "line": {
           "color": "green",
           "width": 2
          },
          "type": "line",
          "x0": 0.875,
          "x1": 0.875,
          "xref": "x",
          "y0": 0,
          "y1": 1,
          "yref": "y domain"
         }
        ],
        "template": {
         "data": {
          "bar": [
           {
            "error_x": {
             "color": "#2a3f5f"
            },
            "error_y": {
             "color": "#2a3f5f"
            },
            "marker": {
             "line": {
              "color": "#E5ECF6",
              "width": 0.5
             },
             "pattern": {
              "fillmode": "overlay",
              "size": 10,
              "solidity": 0.2
             }
            },
            "type": "bar"
           }
          ],
          "barpolar": [
           {
            "marker": {
             "line": {
              "color": "#E5ECF6",
              "width": 0.5
             },
             "pattern": {
              "fillmode": "overlay",
              "size": 10,
              "solidity": 0.2
             }
            },
            "type": "barpolar"
           }
          ],
          "carpet": [
           {
            "aaxis": {
             "endlinecolor": "#2a3f5f",
             "gridcolor": "white",
             "linecolor": "white",
             "minorgridcolor": "white",
             "startlinecolor": "#2a3f5f"
            },
            "baxis": {
             "endlinecolor": "#2a3f5f",
             "gridcolor": "white",
             "linecolor": "white",
             "minorgridcolor": "white",
             "startlinecolor": "#2a3f5f"
            },
            "type": "carpet"
           }
          ],
          "choropleth": [
           {
            "colorbar": {
             "outlinewidth": 0,
             "ticks": ""
            },
            "type": "choropleth"
           }
          ],
          "contour": [
           {
            "colorbar": {
             "outlinewidth": 0,
             "ticks": ""
            },
            "colorscale": [
             [
              0,
              "#0d0887"
             ],
             [
              0.1111111111111111,
              "#46039f"
             ],
             [
              0.2222222222222222,
              "#7201a8"
             ],
             [
              0.3333333333333333,
              "#9c179e"
             ],
             [
              0.4444444444444444,
              "#bd3786"
             ],
             [
              0.5555555555555556,
              "#d8576b"
             ],
             [
              0.6666666666666666,
              "#ed7953"
             ],
             [
              0.7777777777777778,
              "#fb9f3a"
             ],
             [
              0.8888888888888888,
              "#fdca26"
             ],
             [
              1,
              "#f0f921"
             ]
            ],
            "type": "contour"
           }
          ],
          "contourcarpet": [
           {
            "colorbar": {
             "outlinewidth": 0,
             "ticks": ""
            },
            "type": "contourcarpet"
           }
          ],
          "heatmap": [
           {
            "colorbar": {
             "outlinewidth": 0,
             "ticks": ""
            },
            "colorscale": [
             [
              0,
              "#0d0887"
             ],
             [
              0.1111111111111111,
              "#46039f"
             ],
             [
              0.2222222222222222,
              "#7201a8"
             ],
             [
              0.3333333333333333,
              "#9c179e"
             ],
             [
              0.4444444444444444,
              "#bd3786"
             ],
             [
              0.5555555555555556,
              "#d8576b"
             ],
             [
              0.6666666666666666,
              "#ed7953"
             ],
             [
              0.7777777777777778,
              "#fb9f3a"
             ],
             [
              0.8888888888888888,
              "#fdca26"
             ],
             [
              1,
              "#f0f921"
             ]
            ],
            "type": "heatmap"
           }
          ],
          "heatmapgl": [
           {
            "colorbar": {
             "outlinewidth": 0,
             "ticks": ""
            },
            "colorscale": [
             [
              0,
              "#0d0887"
             ],
             [
              0.1111111111111111,
              "#46039f"
             ],
             [
              0.2222222222222222,
              "#7201a8"
             ],
             [
              0.3333333333333333,
              "#9c179e"
             ],
             [
              0.4444444444444444,
              "#bd3786"
             ],
             [
              0.5555555555555556,
              "#d8576b"
             ],
             [
              0.6666666666666666,
              "#ed7953"
             ],
             [
              0.7777777777777778,
              "#fb9f3a"
             ],
             [
              0.8888888888888888,
              "#fdca26"
             ],
             [
              1,
              "#f0f921"
             ]
            ],
            "type": "heatmapgl"
           }
          ],
          "histogram": [
           {
            "marker": {
             "pattern": {
              "fillmode": "overlay",
              "size": 10,
              "solidity": 0.2
             }
            },
            "type": "histogram"
           }
          ],
          "histogram2d": [
           {
            "colorbar": {
             "outlinewidth": 0,
             "ticks": ""
            },
            "colorscale": [
             [
              0,
              "#0d0887"
             ],
             [
              0.1111111111111111,
              "#46039f"
             ],
             [
              0.2222222222222222,
              "#7201a8"
             ],
             [
              0.3333333333333333,
              "#9c179e"
             ],
             [
              0.4444444444444444,
              "#bd3786"
             ],
             [
              0.5555555555555556,
              "#d8576b"
             ],
             [
              0.6666666666666666,
              "#ed7953"
             ],
             [
              0.7777777777777778,
              "#fb9f3a"
             ],
             [
              0.8888888888888888,
              "#fdca26"
             ],
             [
              1,
              "#f0f921"
             ]
            ],
            "type": "histogram2d"
           }
          ],
          "histogram2dcontour": [
           {
            "colorbar": {
             "outlinewidth": 0,
             "ticks": ""
            },
            "colorscale": [
             [
              0,
              "#0d0887"
             ],
             [
              0.1111111111111111,
              "#46039f"
             ],
             [
              0.2222222222222222,
              "#7201a8"
             ],
             [
              0.3333333333333333,
              "#9c179e"
             ],
             [
              0.4444444444444444,
              "#bd3786"
             ],
             [
              0.5555555555555556,
              "#d8576b"
             ],
             [
              0.6666666666666666,
              "#ed7953"
             ],
             [
              0.7777777777777778,
              "#fb9f3a"
             ],
             [
              0.8888888888888888,
              "#fdca26"
             ],
             [
              1,
              "#f0f921"
             ]
            ],
            "type": "histogram2dcontour"
           }
          ],
          "mesh3d": [
           {
            "colorbar": {
             "outlinewidth": 0,
             "ticks": ""
            },
            "type": "mesh3d"
           }
          ],
          "parcoords": [
           {
            "line": {
             "colorbar": {
              "outlinewidth": 0,
              "ticks": ""
             }
            },
            "type": "parcoords"
           }
          ],
          "pie": [
           {
            "automargin": true,
            "type": "pie"
           }
          ],
          "scatter": [
           {
            "fillpattern": {
             "fillmode": "overlay",
             "size": 10,
             "solidity": 0.2
            },
            "type": "scatter"
           }
          ],
          "scatter3d": [
           {
            "line": {
             "colorbar": {
              "outlinewidth": 0,
              "ticks": ""
             }
            },
            "marker": {
             "colorbar": {
              "outlinewidth": 0,
              "ticks": ""
             }
            },
            "type": "scatter3d"
           }
          ],
          "scattercarpet": [
           {
            "marker": {
             "colorbar": {
              "outlinewidth": 0,
              "ticks": ""
             }
            },
            "type": "scattercarpet"
           }
          ],
          "scattergeo": [
           {
            "marker": {
             "colorbar": {
              "outlinewidth": 0,
              "ticks": ""
             }
            },
            "type": "scattergeo"
           }
          ],
          "scattergl": [
           {
            "marker": {
             "colorbar": {
              "outlinewidth": 0,
              "ticks": ""
             }
            },
            "type": "scattergl"
           }
          ],
          "scattermapbox": [
           {
            "marker": {
             "colorbar": {
              "outlinewidth": 0,
              "ticks": ""
             }
            },
            "type": "scattermapbox"
           }
          ],
          "scatterpolar": [
           {
            "marker": {
             "colorbar": {
              "outlinewidth": 0,
              "ticks": ""
             }
            },
            "type": "scatterpolar"
           }
          ],
          "scatterpolargl": [
           {
            "marker": {
             "colorbar": {
              "outlinewidth": 0,
              "ticks": ""
             }
            },
            "type": "scatterpolargl"
           }
          ],
          "scatterternary": [
           {
            "marker": {
             "colorbar": {
              "outlinewidth": 0,
              "ticks": ""
             }
            },
            "type": "scatterternary"
           }
          ],
          "surface": [
           {
            "colorbar": {
             "outlinewidth": 0,
             "ticks": ""
            },
            "colorscale": [
             [
              0,
              "#0d0887"
             ],
             [
              0.1111111111111111,
              "#46039f"
             ],
             [
              0.2222222222222222,
              "#7201a8"
             ],
             [
              0.3333333333333333,
              "#9c179e"
             ],
             [
              0.4444444444444444,
              "#bd3786"
             ],
             [
              0.5555555555555556,
              "#d8576b"
             ],
             [
              0.6666666666666666,
              "#ed7953"
             ],
             [
              0.7777777777777778,
              "#fb9f3a"
             ],
             [
              0.8888888888888888,
              "#fdca26"
             ],
             [
              1,
              "#f0f921"
             ]
            ],
            "type": "surface"
           }
          ],
          "table": [
           {
            "cells": {
             "fill": {
              "color": "#EBF0F8"
             },
             "line": {
              "color": "white"
             }
            },
            "header": {
             "fill": {
              "color": "#C8D4E3"
             },
             "line": {
              "color": "white"
             }
            },
            "type": "table"
           }
          ]
         },
         "layout": {
          "annotationdefaults": {
           "arrowcolor": "#2a3f5f",
           "arrowhead": 0,
           "arrowwidth": 1
          },
          "autotypenumbers": "strict",
          "coloraxis": {
           "colorbar": {
            "outlinewidth": 0,
            "ticks": ""
           }
          },
          "colorscale": {
           "diverging": [
            [
             0,
             "#8e0152"
            ],
            [
             0.1,
             "#c51b7d"
            ],
            [
             0.2,
             "#de77ae"
            ],
            [
             0.3,
             "#f1b6da"
            ],
            [
             0.4,
             "#fde0ef"
            ],
            [
             0.5,
             "#f7f7f7"
            ],
            [
             0.6,
             "#e6f5d0"
            ],
            [
             0.7,
             "#b8e186"
            ],
            [
             0.8,
             "#7fbc41"
            ],
            [
             0.9,
             "#4d9221"
            ],
            [
             1,
             "#276419"
            ]
           ],
           "sequential": [
            [
             0,
             "#0d0887"
            ],
            [
             0.1111111111111111,
             "#46039f"
            ],
            [
             0.2222222222222222,
             "#7201a8"
            ],
            [
             0.3333333333333333,
             "#9c179e"
            ],
            [
             0.4444444444444444,
             "#bd3786"
            ],
            [
             0.5555555555555556,
             "#d8576b"
            ],
            [
             0.6666666666666666,
             "#ed7953"
            ],
            [
             0.7777777777777778,
             "#fb9f3a"
            ],
            [
             0.8888888888888888,
             "#fdca26"
            ],
            [
             1,
             "#f0f921"
            ]
           ],
           "sequentialminus": [
            [
             0,
             "#0d0887"
            ],
            [
             0.1111111111111111,
             "#46039f"
            ],
            [
             0.2222222222222222,
             "#7201a8"
            ],
            [
             0.3333333333333333,
             "#9c179e"
            ],
            [
             0.4444444444444444,
             "#bd3786"
            ],
            [
             0.5555555555555556,
             "#d8576b"
            ],
            [
             0.6666666666666666,
             "#ed7953"
            ],
            [
             0.7777777777777778,
             "#fb9f3a"
            ],
            [
             0.8888888888888888,
             "#fdca26"
            ],
            [
             1,
             "#f0f921"
            ]
           ]
          },
          "colorway": [
           "#636efa",
           "#EF553B",
           "#00cc96",
           "#ab63fa",
           "#FFA15A",
           "#19d3f3",
           "#FF6692",
           "#B6E880",
           "#FF97FF",
           "#FECB52"
          ],
          "font": {
           "color": "#2a3f5f"
          },
          "geo": {
           "bgcolor": "white",
           "lakecolor": "white",
           "landcolor": "#E5ECF6",
           "showlakes": true,
           "showland": true,
           "subunitcolor": "white"
          },
          "hoverlabel": {
           "align": "left"
          },
          "hovermode": "closest",
          "mapbox": {
           "style": "light"
          },
          "paper_bgcolor": "white",
          "plot_bgcolor": "#E5ECF6",
          "polar": {
           "angularaxis": {
            "gridcolor": "white",
            "linecolor": "white",
            "ticks": ""
           },
           "bgcolor": "#E5ECF6",
           "radialaxis": {
            "gridcolor": "white",
            "linecolor": "white",
            "ticks": ""
           }
          },
          "scene": {
           "xaxis": {
            "backgroundcolor": "#E5ECF6",
            "gridcolor": "white",
            "gridwidth": 2,
            "linecolor": "white",
            "showbackground": true,
            "ticks": "",
            "zerolinecolor": "white"
           },
           "yaxis": {
            "backgroundcolor": "#E5ECF6",
            "gridcolor": "white",
            "gridwidth": 2,
            "linecolor": "white",
            "showbackground": true,
            "ticks": "",
            "zerolinecolor": "white"
           },
           "zaxis": {
            "backgroundcolor": "#E5ECF6",
            "gridcolor": "white",
            "gridwidth": 2,
            "linecolor": "white",
            "showbackground": true,
            "ticks": "",
            "zerolinecolor": "white"
           }
          },
          "shapedefaults": {
           "line": {
            "color": "#2a3f5f"
           }
          },
          "ternary": {
           "aaxis": {
            "gridcolor": "white",
            "linecolor": "white",
            "ticks": ""
           },
           "baxis": {
            "gridcolor": "white",
            "linecolor": "white",
            "ticks": ""
           },
           "bgcolor": "#E5ECF6",
           "caxis": {
            "gridcolor": "white",
            "linecolor": "white",
            "ticks": ""
           }
          },
          "title": {
           "x": 0.05
          },
          "xaxis": {
           "automargin": true,
           "gridcolor": "white",
           "linecolor": "white",
           "ticks": "",
           "title": {
            "standoff": 15
           },
           "zerolinecolor": "white",
           "zerolinewidth": 2
          },
          "yaxis": {
           "automargin": true,
           "gridcolor": "white",
           "linecolor": "white",
           "ticks": "",
           "title": {
            "standoff": 15
           },
           "zerolinecolor": "white",
           "zerolinewidth": 2
          }
         }
        },
        "xaxis": {
         "anchor": "y",
         "domain": [
          0,
          1
         ],
         "tickmode": "array",
         "tickvals": [
          0.8283083333333334,
          0.7916666666666666,
          0.875
         ],
         "title": {
          "text": "subset_acc"
         }
        },
        "yaxis": {
         "anchor": "x",
         "domain": [
          0,
          1
         ],
         "title": {
          "text": "count"
         }
        }
       }
      }
     },
     "metadata": {},
     "output_type": "display_data"
    }
   ],
   "source": [
    "meanVal = caseAccDf[\"subset_acc\"].mean()\n",
    "# medianVal = multilabelCaseDf[\"subset_acc\"].median()\n",
    "firstQuarter = np.quantile(caseAccDf[\"subset_acc\"].values, 0.25)\n",
    "thirdQuarter = np.quantile(caseAccDf[\"subset_acc\"].values, 0.75)\n",
    "\n",
    "fig = px.histogram(caseAccDf, x=\"subset_acc\")\n",
    "fig.add_vline(x=meanVal, line_width=2, line_color=\"red\")\n",
    "# fig.add_vline(x=medianVal, line_width=2, line_color=\"blue\")\n",
    "fig.add_vline(x=firstQuarter, line_width=2, line_color=\"orange\")\n",
    "fig.add_vline(x=thirdQuarter, line_width=2, line_color=\"green\")\n",
    "\n",
    "fig.update_layout(\n",
    "    xaxis = dict(\n",
    "        tickmode = 'array',\n",
    "        tickvals = [meanVal, firstQuarter, thirdQuarter],\n",
    "    )\n",
    ")"
   ]
  },
  {
   "cell_type": "code",
   "execution_count": 16,
   "metadata": {},
   "outputs": [
    {
     "data": {
      "text/plain": [
       "0.7928632591616264"
      ]
     },
     "execution_count": 16,
     "metadata": {},
     "output_type": "execute_result"
    }
   ],
   "source": [
    "corr = partEvalMetrics[\"tp\"].corr(partEvalMetrics[\"gt_pos_ratio\"])\n",
    "corr"
   ]
  },
  {
   "cell_type": "code",
   "execution_count": 17,
   "metadata": {},
   "outputs": [
    {
     "data": {
      "text/plain": [
       "-0.8774091607034975"
      ]
     },
     "execution_count": 17,
     "metadata": {},
     "output_type": "execute_result"
    }
   ],
   "source": [
    "corr = partEvalMetrics[\"tn\"].corr(partEvalMetrics[\"gt_pos_ratio\"])\n",
    "corr"
   ]
  },
  {
   "cell_type": "code",
   "execution_count": 18,
   "metadata": {},
   "outputs": [
    {
     "data": {
      "text/plain": [
       "-0.28046572239682965"
      ]
     },
     "execution_count": 18,
     "metadata": {},
     "output_type": "execute_result"
    }
   ],
   "source": [
    "corr = partEvalMetrics[\"acc\"].corr(partEvalMetrics[\"gt_pos_ratio\"])\n",
    "corr"
   ]
  },
  {
   "cell_type": "code",
   "execution_count": null,
   "metadata": {},
   "outputs": [],
   "source": []
  }
 ],
 "metadata": {
  "kernelspec": {
   "display_name": "work",
   "language": "python",
   "name": "python3"
  },
  "language_info": {
   "codemirror_mode": {
    "name": "ipython",
    "version": 3
   },
   "file_extension": ".py",
   "mimetype": "text/x-python",
   "name": "python",
   "nbconvert_exporter": "python",
   "pygments_lexer": "ipython3",
   "version": "3.10.8"
  },
  "orig_nbformat": 4,
  "vscode": {
   "interpreter": {
    "hash": "0e8f33c5a67865e6aadcd232beb3e2644a1f224e780847feacdefa5e710f41d5"
   }
  }
 },
 "nbformat": 4,
 "nbformat_minor": 2
}
