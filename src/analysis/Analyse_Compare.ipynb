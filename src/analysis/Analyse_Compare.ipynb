{
 "cells": [
  {
   "cell_type": "code",
   "execution_count": 163,
   "metadata": {},
   "outputs": [],
   "source": [
    "import pandas as pd\n",
    "import numpy as np\n",
    "import plotly.graph_objects as go\n",
    "import plotly.express as px\n",
    "\n"
   ]
  },
  {
   "cell_type": "code",
   "execution_count": 164,
   "metadata": {},
   "outputs": [],
   "source": [
    "srcExpDir = \"/home/alextay96/Desktop/all_workspace/new_workspace/DLDataPipeline/data/results/saloon_default_conf\"\n",
    "# srcExpDir = \"/home/alextay96/Desktop/all_workspace/new_workspace/DLDataPipeline/data/results/saloon_10k_bce\""
   ]
  },
  {
   "cell_type": "code",
   "execution_count": 165,
   "metadata": {},
   "outputs": [],
   "source": [
    "partCsv= f\"{srcExpDir}/part_perf.csv\"\n",
    "partPerfDf = pd.read_csv(partCsv)\n",
    "caseAccCsv= f\"{srcExpDir}/acc_perf.csv\"\n",
    "caseAccDf = pd.read_csv(caseAccCsv)\n"
   ]
  },
  {
   "cell_type": "code",
   "execution_count": 166,
   "metadata": {},
   "outputs": [
    {
     "data": {
      "text/plain": [
       "['vision_bonnet',\n",
       " 'vision_bumper_front',\n",
       " 'vision_door_front_rh',\n",
       " 'vision_door_rear_rh',\n",
       " 'vision_engine',\n",
       " 'vision_fender_front_rh',\n",
       " 'vision_front_panel',\n",
       " 'vision_headlamp_rh',\n",
       " 'vision_non_external',\n",
       " 'vision_misc',\n",
       " 'vision_wheel',\n",
       " 'vision_windscreen_front',\n",
       " 'vision_bumper_rear',\n",
       " 'vision_rear_compartment',\n",
       " 'vision_rear_panel',\n",
       " 'vision_rear_quarter_rh',\n",
       " 'vision_tail_lamp_rh',\n",
       " 'vision_door_front_lh',\n",
       " 'vision_door_rear_lh',\n",
       " 'vision_rear_quarter_lh',\n",
       " 'vision_tail_lamp_lh',\n",
       " 'vision_fender_front_lh',\n",
       " 'vision_headlamp_lh',\n",
       " 'vision_grille']"
      ]
     },
     "execution_count": 166,
     "metadata": {},
     "output_type": "execute_result"
    }
   ],
   "source": [
    "allParts = [x.replace(\"gt_\", \"\") for x in partPerfDf.columns if \"Unname\" not in x and \"gt_\" in x]\n",
    "allParts"
   ]
  },
  {
   "cell_type": "code",
   "execution_count": 167,
   "metadata": {},
   "outputs": [],
   "source": [
    "partMetrics = []\n",
    "for part in allParts:\n",
    "    gtCol = partPerfDf[f\"gt_{part}\"].values\n",
    "    predCol = partPerfDf[f\"pred_{part}\"].values\n",
    "    # posGt = gtCol[gtCol == 1]\n",
    "    posGtCount = np.count_nonzero(gtCol == 1)\n",
    "    negGtCount = np.count_nonzero(gtCol == 0)\n",
    "    posPredCount =  np.count_nonzero(predCol == 1)\n",
    "    negPredCount =  np.count_nonzero(predCol == 0)\n",
    "\n",
    "    tp =  np.count_nonzero(predCol[gtCol == 1] == 1) / posGtCount\n",
    "    tn = np.count_nonzero(predCol[gtCol == 0] == 0 ) / negGtCount\n",
    "    fp =  np.count_nonzero(predCol[gtCol == 0] == 1) / negGtCount\n",
    "    fn =  np.count_nonzero(predCol[gtCol == 1] == 0) / posGtCount\n",
    "    assert 0.99 < tp + fn < 1.01\n",
    "    assert 0.99 < tn + fp < 1.01\n",
    "    precision = tp / (tp + fp)\n",
    "    recall = tp / (tp + fn)\n",
    "    acc = (tp + tn) / (tp + tn + fp + fn)\n",
    "    f1 = 2 * (precision * recall) / (precision + recall)\n",
    "    partMetrics.append(\n",
    "        {\n",
    "            \"part\" : part,\n",
    "            \"tp\": tp,\n",
    "            \"tn\": tn,\n",
    "            \"fn\": fn,\n",
    "            \"fp\": fp,\n",
    "            \"precision\": precision,\n",
    "            \"recall\": recall,\n",
    "            \"f1\" : f1,\n",
    "            \"acc\" : acc,\n",
    "            \"gt_pos_count\" : posGtCount,\n",
    "            \"gt_neg_count\" : negGtCount,\n",
    "            \"gt_pos_ratio\" : posGtCount / (posGtCount + negGtCount),\n",
    "            \"pred_pos_ratio\" : posPredCount / (posPredCount + negPredCount),\n",
    "\n",
    "\n",
    "        }\n",
    "    )\n",
    "\n",
    "partEvalMetrics = pd.json_normalize(partMetrics)\n",
    "partEvalMetrics.to_csv(f\"{srcExpDir}/part_metrics.csv\")\n",
    "    "
   ]
  },
  {
   "cell_type": "code",
   "execution_count": 168,
   "metadata": {},
   "outputs": [],
   "source": [
    "def genVisMulitlabel(multilabelPartDf, metricName):\n",
    "    fig = go.Figure()\n",
    "    fig.add_trace(go.Bar(\n",
    "        x=multilabelPartDf[\"part\"], y=multilabelPartDf[metricName],\n",
    "        text = multilabelPartDf[metricName]\n",
    "        ))\n",
    "    avgVal = multilabelPartDf[metricName].mean()\n",
    "    fig.add_hline(y=avgVal, line_width=2, line_color=\"red\")\n",
    "    fig.update_layout(\n",
    "        yaxis = dict(\n",
    "            tickmode = 'array',\n",
    "            tickvals = [np.format_float_positional(avgVal, 2), 0.3, 0.8],\n",
    "        )\n",
    "    )\n",
    "    fig.update_layout(\n",
    "            title=go.layout.Title(\n",
    "                text=f\"{metricName}\",\n",
    "                x=0.5\n",
    "            ))\n",
    "    \n",
    "    fig.show()\n",
    "   "
   ]
  },
  {
   "cell_type": "code",
   "execution_count": 169,
   "metadata": {},
   "outputs": [
    {
     "data": {
      "application/vnd.plotly.v1+json": {
       "config": {
        "plotlyServerURL": "https://plot.ly"
       },
       "data": [
        {
         "text": [
          0.8271678011245931,
          0.865646518745218,
          0.56442417331813,
          0.3382352941176471,
          0.841577958672511,
          0.7208099956915123,
          0.6859535591929958,
          0.7636363636363637,
          0.6417242781618544,
          0.861405197305101,
          0.4788135593220339,
          0.6251129177958447,
          0.821563981042654,
          0.6247978436657682,
          0.7034949267192785,
          0.5809968847352025,
          0.683495145631068,
          0.41232227488151657,
          0.4367283950617284,
          0.5451127819548872,
          0.6309362279511533,
          0.6699819168173599,
          0.7998610145934677,
          0.48657894736842106
         ],
         "type": "bar",
         "x": [
          "vision_bonnet",
          "vision_bumper_front",
          "vision_door_front_rh",
          "vision_door_rear_rh",
          "vision_engine",
          "vision_fender_front_rh",
          "vision_front_panel",
          "vision_headlamp_rh",
          "vision_non_external",
          "vision_misc",
          "vision_wheel",
          "vision_windscreen_front",
          "vision_bumper_rear",
          "vision_rear_compartment",
          "vision_rear_panel",
          "vision_rear_quarter_rh",
          "vision_tail_lamp_rh",
          "vision_door_front_lh",
          "vision_door_rear_lh",
          "vision_rear_quarter_lh",
          "vision_tail_lamp_lh",
          "vision_fender_front_lh",
          "vision_headlamp_lh",
          "vision_grille"
         ],
         "y": [
          0.8271678011245931,
          0.865646518745218,
          0.56442417331813,
          0.3382352941176471,
          0.841577958672511,
          0.7208099956915123,
          0.6859535591929958,
          0.7636363636363637,
          0.6417242781618544,
          0.861405197305101,
          0.4788135593220339,
          0.6251129177958447,
          0.821563981042654,
          0.6247978436657682,
          0.7034949267192785,
          0.5809968847352025,
          0.683495145631068,
          0.41232227488151657,
          0.4367283950617284,
          0.5451127819548872,
          0.6309362279511533,
          0.6699819168173599,
          0.7998610145934677,
          0.48657894736842106
         ]
        }
       ],
       "layout": {
        "shapes": [
         {
          "line": {
           "color": "red",
           "width": 2
          },
          "type": "line",
          "x0": 0,
          "x1": 1,
          "xref": "x domain",
          "y0": 0.6504324148960963,
          "y1": 0.6504324148960963,
          "yref": "y"
         }
        ],
        "template": {
         "data": {
          "bar": [
           {
            "error_x": {
             "color": "#2a3f5f"
            },
            "error_y": {
             "color": "#2a3f5f"
            },
            "marker": {
             "line": {
              "color": "#E5ECF6",
              "width": 0.5
             },
             "pattern": {
              "fillmode": "overlay",
              "size": 10,
              "solidity": 0.2
             }
            },
            "type": "bar"
           }
          ],
          "barpolar": [
           {
            "marker": {
             "line": {
              "color": "#E5ECF6",
              "width": 0.5
             },
             "pattern": {
              "fillmode": "overlay",
              "size": 10,
              "solidity": 0.2
             }
            },
            "type": "barpolar"
           }
          ],
          "carpet": [
           {
            "aaxis": {
             "endlinecolor": "#2a3f5f",
             "gridcolor": "white",
             "linecolor": "white",
             "minorgridcolor": "white",
             "startlinecolor": "#2a3f5f"
            },
            "baxis": {
             "endlinecolor": "#2a3f5f",
             "gridcolor": "white",
             "linecolor": "white",
             "minorgridcolor": "white",
             "startlinecolor": "#2a3f5f"
            },
            "type": "carpet"
           }
          ],
          "choropleth": [
           {
            "colorbar": {
             "outlinewidth": 0,
             "ticks": ""
            },
            "type": "choropleth"
           }
          ],
          "contour": [
           {
            "colorbar": {
             "outlinewidth": 0,
             "ticks": ""
            },
            "colorscale": [
             [
              0,
              "#0d0887"
             ],
             [
              0.1111111111111111,
              "#46039f"
             ],
             [
              0.2222222222222222,
              "#7201a8"
             ],
             [
              0.3333333333333333,
              "#9c179e"
             ],
             [
              0.4444444444444444,
              "#bd3786"
             ],
             [
              0.5555555555555556,
              "#d8576b"
             ],
             [
              0.6666666666666666,
              "#ed7953"
             ],
             [
              0.7777777777777778,
              "#fb9f3a"
             ],
             [
              0.8888888888888888,
              "#fdca26"
             ],
             [
              1,
              "#f0f921"
             ]
            ],
            "type": "contour"
           }
          ],
          "contourcarpet": [
           {
            "colorbar": {
             "outlinewidth": 0,
             "ticks": ""
            },
            "type": "contourcarpet"
           }
          ],
          "heatmap": [
           {
            "colorbar": {
             "outlinewidth": 0,
             "ticks": ""
            },
            "colorscale": [
             [
              0,
              "#0d0887"
             ],
             [
              0.1111111111111111,
              "#46039f"
             ],
             [
              0.2222222222222222,
              "#7201a8"
             ],
             [
              0.3333333333333333,
              "#9c179e"
             ],
             [
              0.4444444444444444,
              "#bd3786"
             ],
             [
              0.5555555555555556,
              "#d8576b"
             ],
             [
              0.6666666666666666,
              "#ed7953"
             ],
             [
              0.7777777777777778,
              "#fb9f3a"
             ],
             [
              0.8888888888888888,
              "#fdca26"
             ],
             [
              1,
              "#f0f921"
             ]
            ],
            "type": "heatmap"
           }
          ],
          "heatmapgl": [
           {
            "colorbar": {
             "outlinewidth": 0,
             "ticks": ""
            },
            "colorscale": [
             [
              0,
              "#0d0887"
             ],
             [
              0.1111111111111111,
              "#46039f"
             ],
             [
              0.2222222222222222,
              "#7201a8"
             ],
             [
              0.3333333333333333,
              "#9c179e"
             ],
             [
              0.4444444444444444,
              "#bd3786"
             ],
             [
              0.5555555555555556,
              "#d8576b"
             ],
             [
              0.6666666666666666,
              "#ed7953"
             ],
             [
              0.7777777777777778,
              "#fb9f3a"
             ],
             [
              0.8888888888888888,
              "#fdca26"
             ],
             [
              1,
              "#f0f921"
             ]
            ],
            "type": "heatmapgl"
           }
          ],
          "histogram": [
           {
            "marker": {
             "pattern": {
              "fillmode": "overlay",
              "size": 10,
              "solidity": 0.2
             }
            },
            "type": "histogram"
           }
          ],
          "histogram2d": [
           {
            "colorbar": {
             "outlinewidth": 0,
             "ticks": ""
            },
            "colorscale": [
             [
              0,
              "#0d0887"
             ],
             [
              0.1111111111111111,
              "#46039f"
             ],
             [
              0.2222222222222222,
              "#7201a8"
             ],
             [
              0.3333333333333333,
              "#9c179e"
             ],
             [
              0.4444444444444444,
              "#bd3786"
             ],
             [
              0.5555555555555556,
              "#d8576b"
             ],
             [
              0.6666666666666666,
              "#ed7953"
             ],
             [
              0.7777777777777778,
              "#fb9f3a"
             ],
             [
              0.8888888888888888,
              "#fdca26"
             ],
             [
              1,
              "#f0f921"
             ]
            ],
            "type": "histogram2d"
           }
          ],
          "histogram2dcontour": [
           {
            "colorbar": {
             "outlinewidth": 0,
             "ticks": ""
            },
            "colorscale": [
             [
              0,
              "#0d0887"
             ],
             [
              0.1111111111111111,
              "#46039f"
             ],
             [
              0.2222222222222222,
              "#7201a8"
             ],
             [
              0.3333333333333333,
              "#9c179e"
             ],
             [
              0.4444444444444444,
              "#bd3786"
             ],
             [
              0.5555555555555556,
              "#d8576b"
             ],
             [
              0.6666666666666666,
              "#ed7953"
             ],
             [
              0.7777777777777778,
              "#fb9f3a"
             ],
             [
              0.8888888888888888,
              "#fdca26"
             ],
             [
              1,
              "#f0f921"
             ]
            ],
            "type": "histogram2dcontour"
           }
          ],
          "mesh3d": [
           {
            "colorbar": {
             "outlinewidth": 0,
             "ticks": ""
            },
            "type": "mesh3d"
           }
          ],
          "parcoords": [
           {
            "line": {
             "colorbar": {
              "outlinewidth": 0,
              "ticks": ""
             }
            },
            "type": "parcoords"
           }
          ],
          "pie": [
           {
            "automargin": true,
            "type": "pie"
           }
          ],
          "scatter": [
           {
            "fillpattern": {
             "fillmode": "overlay",
             "size": 10,
             "solidity": 0.2
            },
            "type": "scatter"
           }
          ],
          "scatter3d": [
           {
            "line": {
             "colorbar": {
              "outlinewidth": 0,
              "ticks": ""
             }
            },
            "marker": {
             "colorbar": {
              "outlinewidth": 0,
              "ticks": ""
             }
            },
            "type": "scatter3d"
           }
          ],
          "scattercarpet": [
           {
            "marker": {
             "colorbar": {
              "outlinewidth": 0,
              "ticks": ""
             }
            },
            "type": "scattercarpet"
           }
          ],
          "scattergeo": [
           {
            "marker": {
             "colorbar": {
              "outlinewidth": 0,
              "ticks": ""
             }
            },
            "type": "scattergeo"
           }
          ],
          "scattergl": [
           {
            "marker": {
             "colorbar": {
              "outlinewidth": 0,
              "ticks": ""
             }
            },
            "type": "scattergl"
           }
          ],
          "scattermapbox": [
           {
            "marker": {
             "colorbar": {
              "outlinewidth": 0,
              "ticks": ""
             }
            },
            "type": "scattermapbox"
           }
          ],
          "scatterpolar": [
           {
            "marker": {
             "colorbar": {
              "outlinewidth": 0,
              "ticks": ""
             }
            },
            "type": "scatterpolar"
           }
          ],
          "scatterpolargl": [
           {
            "marker": {
             "colorbar": {
              "outlinewidth": 0,
              "ticks": ""
             }
            },
            "type": "scatterpolargl"
           }
          ],
          "scatterternary": [
           {
            "marker": {
             "colorbar": {
              "outlinewidth": 0,
              "ticks": ""
             }
            },
            "type": "scatterternary"
           }
          ],
          "surface": [
           {
            "colorbar": {
             "outlinewidth": 0,
             "ticks": ""
            },
            "colorscale": [
             [
              0,
              "#0d0887"
             ],
             [
              0.1111111111111111,
              "#46039f"
             ],
             [
              0.2222222222222222,
              "#7201a8"
             ],
             [
              0.3333333333333333,
              "#9c179e"
             ],
             [
              0.4444444444444444,
              "#bd3786"
             ],
             [
              0.5555555555555556,
              "#d8576b"
             ],
             [
              0.6666666666666666,
              "#ed7953"
             ],
             [
              0.7777777777777778,
              "#fb9f3a"
             ],
             [
              0.8888888888888888,
              "#fdca26"
             ],
             [
              1,
              "#f0f921"
             ]
            ],
            "type": "surface"
           }
          ],
          "table": [
           {
            "cells": {
             "fill": {
              "color": "#EBF0F8"
             },
             "line": {
              "color": "white"
             }
            },
            "header": {
             "fill": {
              "color": "#C8D4E3"
             },
             "line": {
              "color": "white"
             }
            },
            "type": "table"
           }
          ]
         },
         "layout": {
          "annotationdefaults": {
           "arrowcolor": "#2a3f5f",
           "arrowhead": 0,
           "arrowwidth": 1
          },
          "autotypenumbers": "strict",
          "coloraxis": {
           "colorbar": {
            "outlinewidth": 0,
            "ticks": ""
           }
          },
          "colorscale": {
           "diverging": [
            [
             0,
             "#8e0152"
            ],
            [
             0.1,
             "#c51b7d"
            ],
            [
             0.2,
             "#de77ae"
            ],
            [
             0.3,
             "#f1b6da"
            ],
            [
             0.4,
             "#fde0ef"
            ],
            [
             0.5,
             "#f7f7f7"
            ],
            [
             0.6,
             "#e6f5d0"
            ],
            [
             0.7,
             "#b8e186"
            ],
            [
             0.8,
             "#7fbc41"
            ],
            [
             0.9,
             "#4d9221"
            ],
            [
             1,
             "#276419"
            ]
           ],
           "sequential": [
            [
             0,
             "#0d0887"
            ],
            [
             0.1111111111111111,
             "#46039f"
            ],
            [
             0.2222222222222222,
             "#7201a8"
            ],
            [
             0.3333333333333333,
             "#9c179e"
            ],
            [
             0.4444444444444444,
             "#bd3786"
            ],
            [
             0.5555555555555556,
             "#d8576b"
            ],
            [
             0.6666666666666666,
             "#ed7953"
            ],
            [
             0.7777777777777778,
             "#fb9f3a"
            ],
            [
             0.8888888888888888,
             "#fdca26"
            ],
            [
             1,
             "#f0f921"
            ]
           ],
           "sequentialminus": [
            [
             0,
             "#0d0887"
            ],
            [
             0.1111111111111111,
             "#46039f"
            ],
            [
             0.2222222222222222,
             "#7201a8"
            ],
            [
             0.3333333333333333,
             "#9c179e"
            ],
            [
             0.4444444444444444,
             "#bd3786"
            ],
            [
             0.5555555555555556,
             "#d8576b"
            ],
            [
             0.6666666666666666,
             "#ed7953"
            ],
            [
             0.7777777777777778,
             "#fb9f3a"
            ],
            [
             0.8888888888888888,
             "#fdca26"
            ],
            [
             1,
             "#f0f921"
            ]
           ]
          },
          "colorway": [
           "#636efa",
           "#EF553B",
           "#00cc96",
           "#ab63fa",
           "#FFA15A",
           "#19d3f3",
           "#FF6692",
           "#B6E880",
           "#FF97FF",
           "#FECB52"
          ],
          "font": {
           "color": "#2a3f5f"
          },
          "geo": {
           "bgcolor": "white",
           "lakecolor": "white",
           "landcolor": "#E5ECF6",
           "showlakes": true,
           "showland": true,
           "subunitcolor": "white"
          },
          "hoverlabel": {
           "align": "left"
          },
          "hovermode": "closest",
          "mapbox": {
           "style": "light"
          },
          "paper_bgcolor": "white",
          "plot_bgcolor": "#E5ECF6",
          "polar": {
           "angularaxis": {
            "gridcolor": "white",
            "linecolor": "white",
            "ticks": ""
           },
           "bgcolor": "#E5ECF6",
           "radialaxis": {
            "gridcolor": "white",
            "linecolor": "white",
            "ticks": ""
           }
          },
          "scene": {
           "xaxis": {
            "backgroundcolor": "#E5ECF6",
            "gridcolor": "white",
            "gridwidth": 2,
            "linecolor": "white",
            "showbackground": true,
            "ticks": "",
            "zerolinecolor": "white"
           },
           "yaxis": {
            "backgroundcolor": "#E5ECF6",
            "gridcolor": "white",
            "gridwidth": 2,
            "linecolor": "white",
            "showbackground": true,
            "ticks": "",
            "zerolinecolor": "white"
           },
           "zaxis": {
            "backgroundcolor": "#E5ECF6",
            "gridcolor": "white",
            "gridwidth": 2,
            "linecolor": "white",
            "showbackground": true,
            "ticks": "",
            "zerolinecolor": "white"
           }
          },
          "shapedefaults": {
           "line": {
            "color": "#2a3f5f"
           }
          },
          "ternary": {
           "aaxis": {
            "gridcolor": "white",
            "linecolor": "white",
            "ticks": ""
           },
           "baxis": {
            "gridcolor": "white",
            "linecolor": "white",
            "ticks": ""
           },
           "bgcolor": "#E5ECF6",
           "caxis": {
            "gridcolor": "white",
            "linecolor": "white",
            "ticks": ""
           }
          },
          "title": {
           "x": 0.05
          },
          "xaxis": {
           "automargin": true,
           "gridcolor": "white",
           "linecolor": "white",
           "ticks": "",
           "title": {
            "standoff": 15
           },
           "zerolinecolor": "white",
           "zerolinewidth": 2
          },
          "yaxis": {
           "automargin": true,
           "gridcolor": "white",
           "linecolor": "white",
           "ticks": "",
           "title": {
            "standoff": 15
           },
           "zerolinecolor": "white",
           "zerolinewidth": 2
          }
         }
        },
        "title": {
         "text": "tp",
         "x": 0.5
        },
        "yaxis": {
         "tickmode": "array",
         "tickvals": [
          "0.65",
          0.3,
          0.8
         ]
        }
       }
      }
     },
     "metadata": {},
     "output_type": "display_data"
    }
   ],
   "source": [
    "genVisMulitlabel(partEvalMetrics, \"tp\")"
   ]
  },
  {
   "cell_type": "code",
   "execution_count": 170,
   "metadata": {},
   "outputs": [
    {
     "data": {
      "application/vnd.plotly.v1+json": {
       "config": {
        "plotlyServerURL": "https://plot.ly"
       },
       "data": [
        {
         "text": [
          0.8696571514876906,
          0.6767676767676768,
          0.9412473966896854,
          0.978862660944206,
          0.7300825494336725,
          0.8835785909623649,
          0.8905465889054659,
          0.8654275092936803,
          0.8253547274897228,
          0.44028062970568105,
          0.9072693383038211,
          0.8919374789160014,
          0.6153979238754326,
          0.9615715162676489,
          0.9619499149039631,
          0.9717888437700364,
          0.9314015375517445,
          0.9672346002621232,
          0.9517750213857998,
          0.9773975496408956,
          0.9494487450152475,
          0.9072932717000514,
          0.8402252331515044,
          0.8437096774193549
         ],
         "type": "bar",
         "x": [
          "vision_bonnet",
          "vision_bumper_front",
          "vision_door_front_rh",
          "vision_door_rear_rh",
          "vision_engine",
          "vision_fender_front_rh",
          "vision_front_panel",
          "vision_headlamp_rh",
          "vision_non_external",
          "vision_misc",
          "vision_wheel",
          "vision_windscreen_front",
          "vision_bumper_rear",
          "vision_rear_compartment",
          "vision_rear_panel",
          "vision_rear_quarter_rh",
          "vision_tail_lamp_rh",
          "vision_door_front_lh",
          "vision_door_rear_lh",
          "vision_rear_quarter_lh",
          "vision_tail_lamp_lh",
          "vision_fender_front_lh",
          "vision_headlamp_lh",
          "vision_grille"
         ],
         "y": [
          0.8696571514876906,
          0.6767676767676768,
          0.9412473966896854,
          0.978862660944206,
          0.7300825494336725,
          0.8835785909623649,
          0.8905465889054659,
          0.8654275092936803,
          0.8253547274897228,
          0.44028062970568105,
          0.9072693383038211,
          0.8919374789160014,
          0.6153979238754326,
          0.9615715162676489,
          0.9619499149039631,
          0.9717888437700364,
          0.9314015375517445,
          0.9672346002621232,
          0.9517750213857998,
          0.9773975496408956,
          0.9494487450152475,
          0.9072932717000514,
          0.8402252331515044,
          0.8437096774193549
         ]
        }
       ],
       "layout": {
        "shapes": [
         {
          "line": {
           "color": "red",
           "width": 2
          },
          "type": "line",
          "x0": 0,
          "x1": 1,
          "xref": "x domain",
          "y0": 0.865841922243478,
          "y1": 0.865841922243478,
          "yref": "y"
         }
        ],
        "template": {
         "data": {
          "bar": [
           {
            "error_x": {
             "color": "#2a3f5f"
            },
            "error_y": {
             "color": "#2a3f5f"
            },
            "marker": {
             "line": {
              "color": "#E5ECF6",
              "width": 0.5
             },
             "pattern": {
              "fillmode": "overlay",
              "size": 10,
              "solidity": 0.2
             }
            },
            "type": "bar"
           }
          ],
          "barpolar": [
           {
            "marker": {
             "line": {
              "color": "#E5ECF6",
              "width": 0.5
             },
             "pattern": {
              "fillmode": "overlay",
              "size": 10,
              "solidity": 0.2
             }
            },
            "type": "barpolar"
           }
          ],
          "carpet": [
           {
            "aaxis": {
             "endlinecolor": "#2a3f5f",
             "gridcolor": "white",
             "linecolor": "white",
             "minorgridcolor": "white",
             "startlinecolor": "#2a3f5f"
            },
            "baxis": {
             "endlinecolor": "#2a3f5f",
             "gridcolor": "white",
             "linecolor": "white",
             "minorgridcolor": "white",
             "startlinecolor": "#2a3f5f"
            },
            "type": "carpet"
           }
          ],
          "choropleth": [
           {
            "colorbar": {
             "outlinewidth": 0,
             "ticks": ""
            },
            "type": "choropleth"
           }
          ],
          "contour": [
           {
            "colorbar": {
             "outlinewidth": 0,
             "ticks": ""
            },
            "colorscale": [
             [
              0,
              "#0d0887"
             ],
             [
              0.1111111111111111,
              "#46039f"
             ],
             [
              0.2222222222222222,
              "#7201a8"
             ],
             [
              0.3333333333333333,
              "#9c179e"
             ],
             [
              0.4444444444444444,
              "#bd3786"
             ],
             [
              0.5555555555555556,
              "#d8576b"
             ],
             [
              0.6666666666666666,
              "#ed7953"
             ],
             [
              0.7777777777777778,
              "#fb9f3a"
             ],
             [
              0.8888888888888888,
              "#fdca26"
             ],
             [
              1,
              "#f0f921"
             ]
            ],
            "type": "contour"
           }
          ],
          "contourcarpet": [
           {
            "colorbar": {
             "outlinewidth": 0,
             "ticks": ""
            },
            "type": "contourcarpet"
           }
          ],
          "heatmap": [
           {
            "colorbar": {
             "outlinewidth": 0,
             "ticks": ""
            },
            "colorscale": [
             [
              0,
              "#0d0887"
             ],
             [
              0.1111111111111111,
              "#46039f"
             ],
             [
              0.2222222222222222,
              "#7201a8"
             ],
             [
              0.3333333333333333,
              "#9c179e"
             ],
             [
              0.4444444444444444,
              "#bd3786"
             ],
             [
              0.5555555555555556,
              "#d8576b"
             ],
             [
              0.6666666666666666,
              "#ed7953"
             ],
             [
              0.7777777777777778,
              "#fb9f3a"
             ],
             [
              0.8888888888888888,
              "#fdca26"
             ],
             [
              1,
              "#f0f921"
             ]
            ],
            "type": "heatmap"
           }
          ],
          "heatmapgl": [
           {
            "colorbar": {
             "outlinewidth": 0,
             "ticks": ""
            },
            "colorscale": [
             [
              0,
              "#0d0887"
             ],
             [
              0.1111111111111111,
              "#46039f"
             ],
             [
              0.2222222222222222,
              "#7201a8"
             ],
             [
              0.3333333333333333,
              "#9c179e"
             ],
             [
              0.4444444444444444,
              "#bd3786"
             ],
             [
              0.5555555555555556,
              "#d8576b"
             ],
             [
              0.6666666666666666,
              "#ed7953"
             ],
             [
              0.7777777777777778,
              "#fb9f3a"
             ],
             [
              0.8888888888888888,
              "#fdca26"
             ],
             [
              1,
              "#f0f921"
             ]
            ],
            "type": "heatmapgl"
           }
          ],
          "histogram": [
           {
            "marker": {
             "pattern": {
              "fillmode": "overlay",
              "size": 10,
              "solidity": 0.2
             }
            },
            "type": "histogram"
           }
          ],
          "histogram2d": [
           {
            "colorbar": {
             "outlinewidth": 0,
             "ticks": ""
            },
            "colorscale": [
             [
              0,
              "#0d0887"
             ],
             [
              0.1111111111111111,
              "#46039f"
             ],
             [
              0.2222222222222222,
              "#7201a8"
             ],
             [
              0.3333333333333333,
              "#9c179e"
             ],
             [
              0.4444444444444444,
              "#bd3786"
             ],
             [
              0.5555555555555556,
              "#d8576b"
             ],
             [
              0.6666666666666666,
              "#ed7953"
             ],
             [
              0.7777777777777778,
              "#fb9f3a"
             ],
             [
              0.8888888888888888,
              "#fdca26"
             ],
             [
              1,
              "#f0f921"
             ]
            ],
            "type": "histogram2d"
           }
          ],
          "histogram2dcontour": [
           {
            "colorbar": {
             "outlinewidth": 0,
             "ticks": ""
            },
            "colorscale": [
             [
              0,
              "#0d0887"
             ],
             [
              0.1111111111111111,
              "#46039f"
             ],
             [
              0.2222222222222222,
              "#7201a8"
             ],
             [
              0.3333333333333333,
              "#9c179e"
             ],
             [
              0.4444444444444444,
              "#bd3786"
             ],
             [
              0.5555555555555556,
              "#d8576b"
             ],
             [
              0.6666666666666666,
              "#ed7953"
             ],
             [
              0.7777777777777778,
              "#fb9f3a"
             ],
             [
              0.8888888888888888,
              "#fdca26"
             ],
             [
              1,
              "#f0f921"
             ]
            ],
            "type": "histogram2dcontour"
           }
          ],
          "mesh3d": [
           {
            "colorbar": {
             "outlinewidth": 0,
             "ticks": ""
            },
            "type": "mesh3d"
           }
          ],
          "parcoords": [
           {
            "line": {
             "colorbar": {
              "outlinewidth": 0,
              "ticks": ""
             }
            },
            "type": "parcoords"
           }
          ],
          "pie": [
           {
            "automargin": true,
            "type": "pie"
           }
          ],
          "scatter": [
           {
            "fillpattern": {
             "fillmode": "overlay",
             "size": 10,
             "solidity": 0.2
            },
            "type": "scatter"
           }
          ],
          "scatter3d": [
           {
            "line": {
             "colorbar": {
              "outlinewidth": 0,
              "ticks": ""
             }
            },
            "marker": {
             "colorbar": {
              "outlinewidth": 0,
              "ticks": ""
             }
            },
            "type": "scatter3d"
           }
          ],
          "scattercarpet": [
           {
            "marker": {
             "colorbar": {
              "outlinewidth": 0,
              "ticks": ""
             }
            },
            "type": "scattercarpet"
           }
          ],
          "scattergeo": [
           {
            "marker": {
             "colorbar": {
              "outlinewidth": 0,
              "ticks": ""
             }
            },
            "type": "scattergeo"
           }
          ],
          "scattergl": [
           {
            "marker": {
             "colorbar": {
              "outlinewidth": 0,
              "ticks": ""
             }
            },
            "type": "scattergl"
           }
          ],
          "scattermapbox": [
           {
            "marker": {
             "colorbar": {
              "outlinewidth": 0,
              "ticks": ""
             }
            },
            "type": "scattermapbox"
           }
          ],
          "scatterpolar": [
           {
            "marker": {
             "colorbar": {
              "outlinewidth": 0,
              "ticks": ""
             }
            },
            "type": "scatterpolar"
           }
          ],
          "scatterpolargl": [
           {
            "marker": {
             "colorbar": {
              "outlinewidth": 0,
              "ticks": ""
             }
            },
            "type": "scatterpolargl"
           }
          ],
          "scatterternary": [
           {
            "marker": {
             "colorbar": {
              "outlinewidth": 0,
              "ticks": ""
             }
            },
            "type": "scatterternary"
           }
          ],
          "surface": [
           {
            "colorbar": {
             "outlinewidth": 0,
             "ticks": ""
            },
            "colorscale": [
             [
              0,
              "#0d0887"
             ],
             [
              0.1111111111111111,
              "#46039f"
             ],
             [
              0.2222222222222222,
              "#7201a8"
             ],
             [
              0.3333333333333333,
              "#9c179e"
             ],
             [
              0.4444444444444444,
              "#bd3786"
             ],
             [
              0.5555555555555556,
              "#d8576b"
             ],
             [
              0.6666666666666666,
              "#ed7953"
             ],
             [
              0.7777777777777778,
              "#fb9f3a"
             ],
             [
              0.8888888888888888,
              "#fdca26"
             ],
             [
              1,
              "#f0f921"
             ]
            ],
            "type": "surface"
           }
          ],
          "table": [
           {
            "cells": {
             "fill": {
              "color": "#EBF0F8"
             },
             "line": {
              "color": "white"
             }
            },
            "header": {
             "fill": {
              "color": "#C8D4E3"
             },
             "line": {
              "color": "white"
             }
            },
            "type": "table"
           }
          ]
         },
         "layout": {
          "annotationdefaults": {
           "arrowcolor": "#2a3f5f",
           "arrowhead": 0,
           "arrowwidth": 1
          },
          "autotypenumbers": "strict",
          "coloraxis": {
           "colorbar": {
            "outlinewidth": 0,
            "ticks": ""
           }
          },
          "colorscale": {
           "diverging": [
            [
             0,
             "#8e0152"
            ],
            [
             0.1,
             "#c51b7d"
            ],
            [
             0.2,
             "#de77ae"
            ],
            [
             0.3,
             "#f1b6da"
            ],
            [
             0.4,
             "#fde0ef"
            ],
            [
             0.5,
             "#f7f7f7"
            ],
            [
             0.6,
             "#e6f5d0"
            ],
            [
             0.7,
             "#b8e186"
            ],
            [
             0.8,
             "#7fbc41"
            ],
            [
             0.9,
             "#4d9221"
            ],
            [
             1,
             "#276419"
            ]
           ],
           "sequential": [
            [
             0,
             "#0d0887"
            ],
            [
             0.1111111111111111,
             "#46039f"
            ],
            [
             0.2222222222222222,
             "#7201a8"
            ],
            [
             0.3333333333333333,
             "#9c179e"
            ],
            [
             0.4444444444444444,
             "#bd3786"
            ],
            [
             0.5555555555555556,
             "#d8576b"
            ],
            [
             0.6666666666666666,
             "#ed7953"
            ],
            [
             0.7777777777777778,
             "#fb9f3a"
            ],
            [
             0.8888888888888888,
             "#fdca26"
            ],
            [
             1,
             "#f0f921"
            ]
           ],
           "sequentialminus": [
            [
             0,
             "#0d0887"
            ],
            [
             0.1111111111111111,
             "#46039f"
            ],
            [
             0.2222222222222222,
             "#7201a8"
            ],
            [
             0.3333333333333333,
             "#9c179e"
            ],
            [
             0.4444444444444444,
             "#bd3786"
            ],
            [
             0.5555555555555556,
             "#d8576b"
            ],
            [
             0.6666666666666666,
             "#ed7953"
            ],
            [
             0.7777777777777778,
             "#fb9f3a"
            ],
            [
             0.8888888888888888,
             "#fdca26"
            ],
            [
             1,
             "#f0f921"
            ]
           ]
          },
          "colorway": [
           "#636efa",
           "#EF553B",
           "#00cc96",
           "#ab63fa",
           "#FFA15A",
           "#19d3f3",
           "#FF6692",
           "#B6E880",
           "#FF97FF",
           "#FECB52"
          ],
          "font": {
           "color": "#2a3f5f"
          },
          "geo": {
           "bgcolor": "white",
           "lakecolor": "white",
           "landcolor": "#E5ECF6",
           "showlakes": true,
           "showland": true,
           "subunitcolor": "white"
          },
          "hoverlabel": {
           "align": "left"
          },
          "hovermode": "closest",
          "mapbox": {
           "style": "light"
          },
          "paper_bgcolor": "white",
          "plot_bgcolor": "#E5ECF6",
          "polar": {
           "angularaxis": {
            "gridcolor": "white",
            "linecolor": "white",
            "ticks": ""
           },
           "bgcolor": "#E5ECF6",
           "radialaxis": {
            "gridcolor": "white",
            "linecolor": "white",
            "ticks": ""
           }
          },
          "scene": {
           "xaxis": {
            "backgroundcolor": "#E5ECF6",
            "gridcolor": "white",
            "gridwidth": 2,
            "linecolor": "white",
            "showbackground": true,
            "ticks": "",
            "zerolinecolor": "white"
           },
           "yaxis": {
            "backgroundcolor": "#E5ECF6",
            "gridcolor": "white",
            "gridwidth": 2,
            "linecolor": "white",
            "showbackground": true,
            "ticks": "",
            "zerolinecolor": "white"
           },
           "zaxis": {
            "backgroundcolor": "#E5ECF6",
            "gridcolor": "white",
            "gridwidth": 2,
            "linecolor": "white",
            "showbackground": true,
            "ticks": "",
            "zerolinecolor": "white"
           }
          },
          "shapedefaults": {
           "line": {
            "color": "#2a3f5f"
           }
          },
          "ternary": {
           "aaxis": {
            "gridcolor": "white",
            "linecolor": "white",
            "ticks": ""
           },
           "baxis": {
            "gridcolor": "white",
            "linecolor": "white",
            "ticks": ""
           },
           "bgcolor": "#E5ECF6",
           "caxis": {
            "gridcolor": "white",
            "linecolor": "white",
            "ticks": ""
           }
          },
          "title": {
           "x": 0.05
          },
          "xaxis": {
           "automargin": true,
           "gridcolor": "white",
           "linecolor": "white",
           "ticks": "",
           "title": {
            "standoff": 15
           },
           "zerolinecolor": "white",
           "zerolinewidth": 2
          },
          "yaxis": {
           "automargin": true,
           "gridcolor": "white",
           "linecolor": "white",
           "ticks": "",
           "title": {
            "standoff": 15
           },
           "zerolinecolor": "white",
           "zerolinewidth": 2
          }
         }
        },
        "title": {
         "text": "tn",
         "x": 0.5
        },
        "yaxis": {
         "tickmode": "array",
         "tickvals": [
          "0.87",
          0.3,
          0.8
         ]
        }
       }
      }
     },
     "metadata": {},
     "output_type": "display_data"
    }
   ],
   "source": [
    "genVisMulitlabel(partEvalMetrics, \"tn\")"
   ]
  },
  {
   "cell_type": "code",
   "execution_count": 171,
   "metadata": {},
   "outputs": [
    {
     "data": {
      "application/vnd.plotly.v1+json": {
       "config": {
        "plotlyServerURL": "https://plot.ly"
       },
       "data": [
        {
         "text": [
          0.8484124763061419,
          0.7712070977564474,
          0.7528357850039077,
          0.6585489775309266,
          0.7858302540530917,
          0.8021942933269386,
          0.7882500740492309,
          0.814531936465022,
          0.7335395028257886,
          0.650842913505391,
          0.6930414488129275,
          0.758525198355923,
          0.7184809524590433,
          0.7931846799667086,
          0.8327224208116208,
          0.7763928642526194,
          0.8074483415914062,
          0.6897784375718199,
          0.6942517082237641,
          0.7612551657978914,
          0.7901924864832004,
          0.7886375942587056,
          0.8200431238724861,
          0.6651443123938879
         ],
         "type": "bar",
         "x": [
          "vision_bonnet",
          "vision_bumper_front",
          "vision_door_front_rh",
          "vision_door_rear_rh",
          "vision_engine",
          "vision_fender_front_rh",
          "vision_front_panel",
          "vision_headlamp_rh",
          "vision_non_external",
          "vision_misc",
          "vision_wheel",
          "vision_windscreen_front",
          "vision_bumper_rear",
          "vision_rear_compartment",
          "vision_rear_panel",
          "vision_rear_quarter_rh",
          "vision_tail_lamp_rh",
          "vision_door_front_lh",
          "vision_door_rear_lh",
          "vision_rear_quarter_lh",
          "vision_tail_lamp_lh",
          "vision_fender_front_lh",
          "vision_headlamp_lh",
          "vision_grille"
         ],
         "y": [
          0.8484124763061419,
          0.7712070977564474,
          0.7528357850039077,
          0.6585489775309266,
          0.7858302540530917,
          0.8021942933269386,
          0.7882500740492309,
          0.814531936465022,
          0.7335395028257886,
          0.650842913505391,
          0.6930414488129275,
          0.758525198355923,
          0.7184809524590433,
          0.7931846799667086,
          0.8327224208116208,
          0.7763928642526194,
          0.8074483415914062,
          0.6897784375718199,
          0.6942517082237641,
          0.7612551657978914,
          0.7901924864832004,
          0.7886375942587056,
          0.8200431238724861,
          0.6651443123938879
         ]
        }
       ],
       "layout": {
        "shapes": [
         {
          "line": {
           "color": "red",
           "width": 2
          },
          "type": "line",
          "x0": 0,
          "x1": 1,
          "xref": "x domain",
          "y0": 0.7581371685697871,
          "y1": 0.7581371685697871,
          "yref": "y"
         }
        ],
        "template": {
         "data": {
          "bar": [
           {
            "error_x": {
             "color": "#2a3f5f"
            },
            "error_y": {
             "color": "#2a3f5f"
            },
            "marker": {
             "line": {
              "color": "#E5ECF6",
              "width": 0.5
             },
             "pattern": {
              "fillmode": "overlay",
              "size": 10,
              "solidity": 0.2
             }
            },
            "type": "bar"
           }
          ],
          "barpolar": [
           {
            "marker": {
             "line": {
              "color": "#E5ECF6",
              "width": 0.5
             },
             "pattern": {
              "fillmode": "overlay",
              "size": 10,
              "solidity": 0.2
             }
            },
            "type": "barpolar"
           }
          ],
          "carpet": [
           {
            "aaxis": {
             "endlinecolor": "#2a3f5f",
             "gridcolor": "white",
             "linecolor": "white",
             "minorgridcolor": "white",
             "startlinecolor": "#2a3f5f"
            },
            "baxis": {
             "endlinecolor": "#2a3f5f",
             "gridcolor": "white",
             "linecolor": "white",
             "minorgridcolor": "white",
             "startlinecolor": "#2a3f5f"
            },
            "type": "carpet"
           }
          ],
          "choropleth": [
           {
            "colorbar": {
             "outlinewidth": 0,
             "ticks": ""
            },
            "type": "choropleth"
           }
          ],
          "contour": [
           {
            "colorbar": {
             "outlinewidth": 0,
             "ticks": ""
            },
            "colorscale": [
             [
              0,
              "#0d0887"
             ],
             [
              0.1111111111111111,
              "#46039f"
             ],
             [
              0.2222222222222222,
              "#7201a8"
             ],
             [
              0.3333333333333333,
              "#9c179e"
             ],
             [
              0.4444444444444444,
              "#bd3786"
             ],
             [
              0.5555555555555556,
              "#d8576b"
             ],
             [
              0.6666666666666666,
              "#ed7953"
             ],
             [
              0.7777777777777778,
              "#fb9f3a"
             ],
             [
              0.8888888888888888,
              "#fdca26"
             ],
             [
              1,
              "#f0f921"
             ]
            ],
            "type": "contour"
           }
          ],
          "contourcarpet": [
           {
            "colorbar": {
             "outlinewidth": 0,
             "ticks": ""
            },
            "type": "contourcarpet"
           }
          ],
          "heatmap": [
           {
            "colorbar": {
             "outlinewidth": 0,
             "ticks": ""
            },
            "colorscale": [
             [
              0,
              "#0d0887"
             ],
             [
              0.1111111111111111,
              "#46039f"
             ],
             [
              0.2222222222222222,
              "#7201a8"
             ],
             [
              0.3333333333333333,
              "#9c179e"
             ],
             [
              0.4444444444444444,
              "#bd3786"
             ],
             [
              0.5555555555555556,
              "#d8576b"
             ],
             [
              0.6666666666666666,
              "#ed7953"
             ],
             [
              0.7777777777777778,
              "#fb9f3a"
             ],
             [
              0.8888888888888888,
              "#fdca26"
             ],
             [
              1,
              "#f0f921"
             ]
            ],
            "type": "heatmap"
           }
          ],
          "heatmapgl": [
           {
            "colorbar": {
             "outlinewidth": 0,
             "ticks": ""
            },
            "colorscale": [
             [
              0,
              "#0d0887"
             ],
             [
              0.1111111111111111,
              "#46039f"
             ],
             [
              0.2222222222222222,
              "#7201a8"
             ],
             [
              0.3333333333333333,
              "#9c179e"
             ],
             [
              0.4444444444444444,
              "#bd3786"
             ],
             [
              0.5555555555555556,
              "#d8576b"
             ],
             [
              0.6666666666666666,
              "#ed7953"
             ],
             [
              0.7777777777777778,
              "#fb9f3a"
             ],
             [
              0.8888888888888888,
              "#fdca26"
             ],
             [
              1,
              "#f0f921"
             ]
            ],
            "type": "heatmapgl"
           }
          ],
          "histogram": [
           {
            "marker": {
             "pattern": {
              "fillmode": "overlay",
              "size": 10,
              "solidity": 0.2
             }
            },
            "type": "histogram"
           }
          ],
          "histogram2d": [
           {
            "colorbar": {
             "outlinewidth": 0,
             "ticks": ""
            },
            "colorscale": [
             [
              0,
              "#0d0887"
             ],
             [
              0.1111111111111111,
              "#46039f"
             ],
             [
              0.2222222222222222,
              "#7201a8"
             ],
             [
              0.3333333333333333,
              "#9c179e"
             ],
             [
              0.4444444444444444,
              "#bd3786"
             ],
             [
              0.5555555555555556,
              "#d8576b"
             ],
             [
              0.6666666666666666,
              "#ed7953"
             ],
             [
              0.7777777777777778,
              "#fb9f3a"
             ],
             [
              0.8888888888888888,
              "#fdca26"
             ],
             [
              1,
              "#f0f921"
             ]
            ],
            "type": "histogram2d"
           }
          ],
          "histogram2dcontour": [
           {
            "colorbar": {
             "outlinewidth": 0,
             "ticks": ""
            },
            "colorscale": [
             [
              0,
              "#0d0887"
             ],
             [
              0.1111111111111111,
              "#46039f"
             ],
             [
              0.2222222222222222,
              "#7201a8"
             ],
             [
              0.3333333333333333,
              "#9c179e"
             ],
             [
              0.4444444444444444,
              "#bd3786"
             ],
             [
              0.5555555555555556,
              "#d8576b"
             ],
             [
              0.6666666666666666,
              "#ed7953"
             ],
             [
              0.7777777777777778,
              "#fb9f3a"
             ],
             [
              0.8888888888888888,
              "#fdca26"
             ],
             [
              1,
              "#f0f921"
             ]
            ],
            "type": "histogram2dcontour"
           }
          ],
          "mesh3d": [
           {
            "colorbar": {
             "outlinewidth": 0,
             "ticks": ""
            },
            "type": "mesh3d"
           }
          ],
          "parcoords": [
           {
            "line": {
             "colorbar": {
              "outlinewidth": 0,
              "ticks": ""
             }
            },
            "type": "parcoords"
           }
          ],
          "pie": [
           {
            "automargin": true,
            "type": "pie"
           }
          ],
          "scatter": [
           {
            "fillpattern": {
             "fillmode": "overlay",
             "size": 10,
             "solidity": 0.2
            },
            "type": "scatter"
           }
          ],
          "scatter3d": [
           {
            "line": {
             "colorbar": {
              "outlinewidth": 0,
              "ticks": ""
             }
            },
            "marker": {
             "colorbar": {
              "outlinewidth": 0,
              "ticks": ""
             }
            },
            "type": "scatter3d"
           }
          ],
          "scattercarpet": [
           {
            "marker": {
             "colorbar": {
              "outlinewidth": 0,
              "ticks": ""
             }
            },
            "type": "scattercarpet"
           }
          ],
          "scattergeo": [
           {
            "marker": {
             "colorbar": {
              "outlinewidth": 0,
              "ticks": ""
             }
            },
            "type": "scattergeo"
           }
          ],
          "scattergl": [
           {
            "marker": {
             "colorbar": {
              "outlinewidth": 0,
              "ticks": ""
             }
            },
            "type": "scattergl"
           }
          ],
          "scattermapbox": [
           {
            "marker": {
             "colorbar": {
              "outlinewidth": 0,
              "ticks": ""
             }
            },
            "type": "scattermapbox"
           }
          ],
          "scatterpolar": [
           {
            "marker": {
             "colorbar": {
              "outlinewidth": 0,
              "ticks": ""
             }
            },
            "type": "scatterpolar"
           }
          ],
          "scatterpolargl": [
           {
            "marker": {
             "colorbar": {
              "outlinewidth": 0,
              "ticks": ""
             }
            },
            "type": "scatterpolargl"
           }
          ],
          "scatterternary": [
           {
            "marker": {
             "colorbar": {
              "outlinewidth": 0,
              "ticks": ""
             }
            },
            "type": "scatterternary"
           }
          ],
          "surface": [
           {
            "colorbar": {
             "outlinewidth": 0,
             "ticks": ""
            },
            "colorscale": [
             [
              0,
              "#0d0887"
             ],
             [
              0.1111111111111111,
              "#46039f"
             ],
             [
              0.2222222222222222,
              "#7201a8"
             ],
             [
              0.3333333333333333,
              "#9c179e"
             ],
             [
              0.4444444444444444,
              "#bd3786"
             ],
             [
              0.5555555555555556,
              "#d8576b"
             ],
             [
              0.6666666666666666,
              "#ed7953"
             ],
             [
              0.7777777777777778,
              "#fb9f3a"
             ],
             [
              0.8888888888888888,
              "#fdca26"
             ],
             [
              1,
              "#f0f921"
             ]
            ],
            "type": "surface"
           }
          ],
          "table": [
           {
            "cells": {
             "fill": {
              "color": "#EBF0F8"
             },
             "line": {
              "color": "white"
             }
            },
            "header": {
             "fill": {
              "color": "#C8D4E3"
             },
             "line": {
              "color": "white"
             }
            },
            "type": "table"
           }
          ]
         },
         "layout": {
          "annotationdefaults": {
           "arrowcolor": "#2a3f5f",
           "arrowhead": 0,
           "arrowwidth": 1
          },
          "autotypenumbers": "strict",
          "coloraxis": {
           "colorbar": {
            "outlinewidth": 0,
            "ticks": ""
           }
          },
          "colorscale": {
           "diverging": [
            [
             0,
             "#8e0152"
            ],
            [
             0.1,
             "#c51b7d"
            ],
            [
             0.2,
             "#de77ae"
            ],
            [
             0.3,
             "#f1b6da"
            ],
            [
             0.4,
             "#fde0ef"
            ],
            [
             0.5,
             "#f7f7f7"
            ],
            [
             0.6,
             "#e6f5d0"
            ],
            [
             0.7,
             "#b8e186"
            ],
            [
             0.8,
             "#7fbc41"
            ],
            [
             0.9,
             "#4d9221"
            ],
            [
             1,
             "#276419"
            ]
           ],
           "sequential": [
            [
             0,
             "#0d0887"
            ],
            [
             0.1111111111111111,
             "#46039f"
            ],
            [
             0.2222222222222222,
             "#7201a8"
            ],
            [
             0.3333333333333333,
             "#9c179e"
            ],
            [
             0.4444444444444444,
             "#bd3786"
            ],
            [
             0.5555555555555556,
             "#d8576b"
            ],
            [
             0.6666666666666666,
             "#ed7953"
            ],
            [
             0.7777777777777778,
             "#fb9f3a"
            ],
            [
             0.8888888888888888,
             "#fdca26"
            ],
            [
             1,
             "#f0f921"
            ]
           ],
           "sequentialminus": [
            [
             0,
             "#0d0887"
            ],
            [
             0.1111111111111111,
             "#46039f"
            ],
            [
             0.2222222222222222,
             "#7201a8"
            ],
            [
             0.3333333333333333,
             "#9c179e"
            ],
            [
             0.4444444444444444,
             "#bd3786"
            ],
            [
             0.5555555555555556,
             "#d8576b"
            ],
            [
             0.6666666666666666,
             "#ed7953"
            ],
            [
             0.7777777777777778,
             "#fb9f3a"
            ],
            [
             0.8888888888888888,
             "#fdca26"
            ],
            [
             1,
             "#f0f921"
            ]
           ]
          },
          "colorway": [
           "#636efa",
           "#EF553B",
           "#00cc96",
           "#ab63fa",
           "#FFA15A",
           "#19d3f3",
           "#FF6692",
           "#B6E880",
           "#FF97FF",
           "#FECB52"
          ],
          "font": {
           "color": "#2a3f5f"
          },
          "geo": {
           "bgcolor": "white",
           "lakecolor": "white",
           "landcolor": "#E5ECF6",
           "showlakes": true,
           "showland": true,
           "subunitcolor": "white"
          },
          "hoverlabel": {
           "align": "left"
          },
          "hovermode": "closest",
          "mapbox": {
           "style": "light"
          },
          "paper_bgcolor": "white",
          "plot_bgcolor": "#E5ECF6",
          "polar": {
           "angularaxis": {
            "gridcolor": "white",
            "linecolor": "white",
            "ticks": ""
           },
           "bgcolor": "#E5ECF6",
           "radialaxis": {
            "gridcolor": "white",
            "linecolor": "white",
            "ticks": ""
           }
          },
          "scene": {
           "xaxis": {
            "backgroundcolor": "#E5ECF6",
            "gridcolor": "white",
            "gridwidth": 2,
            "linecolor": "white",
            "showbackground": true,
            "ticks": "",
            "zerolinecolor": "white"
           },
           "yaxis": {
            "backgroundcolor": "#E5ECF6",
            "gridcolor": "white",
            "gridwidth": 2,
            "linecolor": "white",
            "showbackground": true,
            "ticks": "",
            "zerolinecolor": "white"
           },
           "zaxis": {
            "backgroundcolor": "#E5ECF6",
            "gridcolor": "white",
            "gridwidth": 2,
            "linecolor": "white",
            "showbackground": true,
            "ticks": "",
            "zerolinecolor": "white"
           }
          },
          "shapedefaults": {
           "line": {
            "color": "#2a3f5f"
           }
          },
          "ternary": {
           "aaxis": {
            "gridcolor": "white",
            "linecolor": "white",
            "ticks": ""
           },
           "baxis": {
            "gridcolor": "white",
            "linecolor": "white",
            "ticks": ""
           },
           "bgcolor": "#E5ECF6",
           "caxis": {
            "gridcolor": "white",
            "linecolor": "white",
            "ticks": ""
           }
          },
          "title": {
           "x": 0.05
          },
          "xaxis": {
           "automargin": true,
           "gridcolor": "white",
           "linecolor": "white",
           "ticks": "",
           "title": {
            "standoff": 15
           },
           "zerolinecolor": "white",
           "zerolinewidth": 2
          },
          "yaxis": {
           "automargin": true,
           "gridcolor": "white",
           "linecolor": "white",
           "ticks": "",
           "title": {
            "standoff": 15
           },
           "zerolinecolor": "white",
           "zerolinewidth": 2
          }
         }
        },
        "title": {
         "text": "acc",
         "x": 0.5
        },
        "yaxis": {
         "tickmode": "array",
         "tickvals": [
          "0.76",
          0.3,
          0.8
         ]
        }
       }
      }
     },
     "metadata": {},
     "output_type": "display_data"
    }
   ],
   "source": [
    "genVisMulitlabel(partEvalMetrics, \"acc\")"
   ]
  },
  {
   "cell_type": "code",
   "execution_count": 172,
   "metadata": {},
   "outputs": [
    {
     "data": {
      "application/vnd.plotly.v1+json": {
       "config": {
        "plotlyServerURL": "https://plot.ly"
       },
       "data": [
        {
         "text": [
          0.8638732127295539,
          0.7281200473761738,
          0.9057208074598316,
          0.941182669172272,
          0.7571582857448154,
          0.8609447658317373,
          0.8623931959573248,
          0.8501768379863045,
          0.7860708151516814,
          0.6061433437606364,
          0.8377541784413842,
          0.852610282132339,
          0.6811367109535179,
          0.9420582655650769,
          0.9486880978365836,
          0.9536920816322962,
          0.9087899940760826,
          0.9263843920955678,
          0.9005574943243376,
          0.9601869932801038,
          0.9258221812571327,
          0.8784474780194355,
          0.8335047838582931,
          0.7568863066156081
         ],
         "type": "bar",
         "x": [
          "vision_bonnet",
          "vision_bumper_front",
          "vision_door_front_rh",
          "vision_door_rear_rh",
          "vision_engine",
          "vision_fender_front_rh",
          "vision_front_panel",
          "vision_headlamp_rh",
          "vision_non_external",
          "vision_misc",
          "vision_wheel",
          "vision_windscreen_front",
          "vision_bumper_rear",
          "vision_rear_compartment",
          "vision_rear_panel",
          "vision_rear_quarter_rh",
          "vision_tail_lamp_rh",
          "vision_door_front_lh",
          "vision_door_rear_lh",
          "vision_rear_quarter_lh",
          "vision_tail_lamp_lh",
          "vision_fender_front_lh",
          "vision_headlamp_lh",
          "vision_grille"
         ],
         "y": [
          0.8638732127295539,
          0.7281200473761738,
          0.9057208074598316,
          0.941182669172272,
          0.7571582857448154,
          0.8609447658317373,
          0.8623931959573248,
          0.8501768379863045,
          0.7860708151516814,
          0.6061433437606364,
          0.8377541784413842,
          0.852610282132339,
          0.6811367109535179,
          0.9420582655650769,
          0.9486880978365836,
          0.9536920816322962,
          0.9087899940760826,
          0.9263843920955678,
          0.9005574943243376,
          0.9601869932801038,
          0.9258221812571327,
          0.8784474780194355,
          0.8335047838582931,
          0.7568863066156081
         ]
        }
       ],
       "layout": {
        "shapes": [
         {
          "line": {
           "color": "red",
           "width": 2
          },
          "type": "line",
          "x0": 0,
          "x1": 1,
          "xref": "x domain",
          "y0": 0.8528459675524204,
          "y1": 0.8528459675524204,
          "yref": "y"
         }
        ],
        "template": {
         "data": {
          "bar": [
           {
            "error_x": {
             "color": "#2a3f5f"
            },
            "error_y": {
             "color": "#2a3f5f"
            },
            "marker": {
             "line": {
              "color": "#E5ECF6",
              "width": 0.5
             },
             "pattern": {
              "fillmode": "overlay",
              "size": 10,
              "solidity": 0.2
             }
            },
            "type": "bar"
           }
          ],
          "barpolar": [
           {
            "marker": {
             "line": {
              "color": "#E5ECF6",
              "width": 0.5
             },
             "pattern": {
              "fillmode": "overlay",
              "size": 10,
              "solidity": 0.2
             }
            },
            "type": "barpolar"
           }
          ],
          "carpet": [
           {
            "aaxis": {
             "endlinecolor": "#2a3f5f",
             "gridcolor": "white",
             "linecolor": "white",
             "minorgridcolor": "white",
             "startlinecolor": "#2a3f5f"
            },
            "baxis": {
             "endlinecolor": "#2a3f5f",
             "gridcolor": "white",
             "linecolor": "white",
             "minorgridcolor": "white",
             "startlinecolor": "#2a3f5f"
            },
            "type": "carpet"
           }
          ],
          "choropleth": [
           {
            "colorbar": {
             "outlinewidth": 0,
             "ticks": ""
            },
            "type": "choropleth"
           }
          ],
          "contour": [
           {
            "colorbar": {
             "outlinewidth": 0,
             "ticks": ""
            },
            "colorscale": [
             [
              0,
              "#0d0887"
             ],
             [
              0.1111111111111111,
              "#46039f"
             ],
             [
              0.2222222222222222,
              "#7201a8"
             ],
             [
              0.3333333333333333,
              "#9c179e"
             ],
             [
              0.4444444444444444,
              "#bd3786"
             ],
             [
              0.5555555555555556,
              "#d8576b"
             ],
             [
              0.6666666666666666,
              "#ed7953"
             ],
             [
              0.7777777777777778,
              "#fb9f3a"
             ],
             [
              0.8888888888888888,
              "#fdca26"
             ],
             [
              1,
              "#f0f921"
             ]
            ],
            "type": "contour"
           }
          ],
          "contourcarpet": [
           {
            "colorbar": {
             "outlinewidth": 0,
             "ticks": ""
            },
            "type": "contourcarpet"
           }
          ],
          "heatmap": [
           {
            "colorbar": {
             "outlinewidth": 0,
             "ticks": ""
            },
            "colorscale": [
             [
              0,
              "#0d0887"
             ],
             [
              0.1111111111111111,
              "#46039f"
             ],
             [
              0.2222222222222222,
              "#7201a8"
             ],
             [
              0.3333333333333333,
              "#9c179e"
             ],
             [
              0.4444444444444444,
              "#bd3786"
             ],
             [
              0.5555555555555556,
              "#d8576b"
             ],
             [
              0.6666666666666666,
              "#ed7953"
             ],
             [
              0.7777777777777778,
              "#fb9f3a"
             ],
             [
              0.8888888888888888,
              "#fdca26"
             ],
             [
              1,
              "#f0f921"
             ]
            ],
            "type": "heatmap"
           }
          ],
          "heatmapgl": [
           {
            "colorbar": {
             "outlinewidth": 0,
             "ticks": ""
            },
            "colorscale": [
             [
              0,
              "#0d0887"
             ],
             [
              0.1111111111111111,
              "#46039f"
             ],
             [
              0.2222222222222222,
              "#7201a8"
             ],
             [
              0.3333333333333333,
              "#9c179e"
             ],
             [
              0.4444444444444444,
              "#bd3786"
             ],
             [
              0.5555555555555556,
              "#d8576b"
             ],
             [
              0.6666666666666666,
              "#ed7953"
             ],
             [
              0.7777777777777778,
              "#fb9f3a"
             ],
             [
              0.8888888888888888,
              "#fdca26"
             ],
             [
              1,
              "#f0f921"
             ]
            ],
            "type": "heatmapgl"
           }
          ],
          "histogram": [
           {
            "marker": {
             "pattern": {
              "fillmode": "overlay",
              "size": 10,
              "solidity": 0.2
             }
            },
            "type": "histogram"
           }
          ],
          "histogram2d": [
           {
            "colorbar": {
             "outlinewidth": 0,
             "ticks": ""
            },
            "colorscale": [
             [
              0,
              "#0d0887"
             ],
             [
              0.1111111111111111,
              "#46039f"
             ],
             [
              0.2222222222222222,
              "#7201a8"
             ],
             [
              0.3333333333333333,
              "#9c179e"
             ],
             [
              0.4444444444444444,
              "#bd3786"
             ],
             [
              0.5555555555555556,
              "#d8576b"
             ],
             [
              0.6666666666666666,
              "#ed7953"
             ],
             [
              0.7777777777777778,
              "#fb9f3a"
             ],
             [
              0.8888888888888888,
              "#fdca26"
             ],
             [
              1,
              "#f0f921"
             ]
            ],
            "type": "histogram2d"
           }
          ],
          "histogram2dcontour": [
           {
            "colorbar": {
             "outlinewidth": 0,
             "ticks": ""
            },
            "colorscale": [
             [
              0,
              "#0d0887"
             ],
             [
              0.1111111111111111,
              "#46039f"
             ],
             [
              0.2222222222222222,
              "#7201a8"
             ],
             [
              0.3333333333333333,
              "#9c179e"
             ],
             [
              0.4444444444444444,
              "#bd3786"
             ],
             [
              0.5555555555555556,
              "#d8576b"
             ],
             [
              0.6666666666666666,
              "#ed7953"
             ],
             [
              0.7777777777777778,
              "#fb9f3a"
             ],
             [
              0.8888888888888888,
              "#fdca26"
             ],
             [
              1,
              "#f0f921"
             ]
            ],
            "type": "histogram2dcontour"
           }
          ],
          "mesh3d": [
           {
            "colorbar": {
             "outlinewidth": 0,
             "ticks": ""
            },
            "type": "mesh3d"
           }
          ],
          "parcoords": [
           {
            "line": {
             "colorbar": {
              "outlinewidth": 0,
              "ticks": ""
             }
            },
            "type": "parcoords"
           }
          ],
          "pie": [
           {
            "automargin": true,
            "type": "pie"
           }
          ],
          "scatter": [
           {
            "fillpattern": {
             "fillmode": "overlay",
             "size": 10,
             "solidity": 0.2
            },
            "type": "scatter"
           }
          ],
          "scatter3d": [
           {
            "line": {
             "colorbar": {
              "outlinewidth": 0,
              "ticks": ""
             }
            },
            "marker": {
             "colorbar": {
              "outlinewidth": 0,
              "ticks": ""
             }
            },
            "type": "scatter3d"
           }
          ],
          "scattercarpet": [
           {
            "marker": {
             "colorbar": {
              "outlinewidth": 0,
              "ticks": ""
             }
            },
            "type": "scattercarpet"
           }
          ],
          "scattergeo": [
           {
            "marker": {
             "colorbar": {
              "outlinewidth": 0,
              "ticks": ""
             }
            },
            "type": "scattergeo"
           }
          ],
          "scattergl": [
           {
            "marker": {
             "colorbar": {
              "outlinewidth": 0,
              "ticks": ""
             }
            },
            "type": "scattergl"
           }
          ],
          "scattermapbox": [
           {
            "marker": {
             "colorbar": {
              "outlinewidth": 0,
              "ticks": ""
             }
            },
            "type": "scattermapbox"
           }
          ],
          "scatterpolar": [
           {
            "marker": {
             "colorbar": {
              "outlinewidth": 0,
              "ticks": ""
             }
            },
            "type": "scatterpolar"
           }
          ],
          "scatterpolargl": [
           {
            "marker": {
             "colorbar": {
              "outlinewidth": 0,
              "ticks": ""
             }
            },
            "type": "scatterpolargl"
           }
          ],
          "scatterternary": [
           {
            "marker": {
             "colorbar": {
              "outlinewidth": 0,
              "ticks": ""
             }
            },
            "type": "scatterternary"
           }
          ],
          "surface": [
           {
            "colorbar": {
             "outlinewidth": 0,
             "ticks": ""
            },
            "colorscale": [
             [
              0,
              "#0d0887"
             ],
             [
              0.1111111111111111,
              "#46039f"
             ],
             [
              0.2222222222222222,
              "#7201a8"
             ],
             [
              0.3333333333333333,
              "#9c179e"
             ],
             [
              0.4444444444444444,
              "#bd3786"
             ],
             [
              0.5555555555555556,
              "#d8576b"
             ],
             [
              0.6666666666666666,
              "#ed7953"
             ],
             [
              0.7777777777777778,
              "#fb9f3a"
             ],
             [
              0.8888888888888888,
              "#fdca26"
             ],
             [
              1,
              "#f0f921"
             ]
            ],
            "type": "surface"
           }
          ],
          "table": [
           {
            "cells": {
             "fill": {
              "color": "#EBF0F8"
             },
             "line": {
              "color": "white"
             }
            },
            "header": {
             "fill": {
              "color": "#C8D4E3"
             },
             "line": {
              "color": "white"
             }
            },
            "type": "table"
           }
          ]
         },
         "layout": {
          "annotationdefaults": {
           "arrowcolor": "#2a3f5f",
           "arrowhead": 0,
           "arrowwidth": 1
          },
          "autotypenumbers": "strict",
          "coloraxis": {
           "colorbar": {
            "outlinewidth": 0,
            "ticks": ""
           }
          },
          "colorscale": {
           "diverging": [
            [
             0,
             "#8e0152"
            ],
            [
             0.1,
             "#c51b7d"
            ],
            [
             0.2,
             "#de77ae"
            ],
            [
             0.3,
             "#f1b6da"
            ],
            [
             0.4,
             "#fde0ef"
            ],
            [
             0.5,
             "#f7f7f7"
            ],
            [
             0.6,
             "#e6f5d0"
            ],
            [
             0.7,
             "#b8e186"
            ],
            [
             0.8,
             "#7fbc41"
            ],
            [
             0.9,
             "#4d9221"
            ],
            [
             1,
             "#276419"
            ]
           ],
           "sequential": [
            [
             0,
             "#0d0887"
            ],
            [
             0.1111111111111111,
             "#46039f"
            ],
            [
             0.2222222222222222,
             "#7201a8"
            ],
            [
             0.3333333333333333,
             "#9c179e"
            ],
            [
             0.4444444444444444,
             "#bd3786"
            ],
            [
             0.5555555555555556,
             "#d8576b"
            ],
            [
             0.6666666666666666,
             "#ed7953"
            ],
            [
             0.7777777777777778,
             "#fb9f3a"
            ],
            [
             0.8888888888888888,
             "#fdca26"
            ],
            [
             1,
             "#f0f921"
            ]
           ],
           "sequentialminus": [
            [
             0,
             "#0d0887"
            ],
            [
             0.1111111111111111,
             "#46039f"
            ],
            [
             0.2222222222222222,
             "#7201a8"
            ],
            [
             0.3333333333333333,
             "#9c179e"
            ],
            [
             0.4444444444444444,
             "#bd3786"
            ],
            [
             0.5555555555555556,
             "#d8576b"
            ],
            [
             0.6666666666666666,
             "#ed7953"
            ],
            [
             0.7777777777777778,
             "#fb9f3a"
            ],
            [
             0.8888888888888888,
             "#fdca26"
            ],
            [
             1,
             "#f0f921"
            ]
           ]
          },
          "colorway": [
           "#636efa",
           "#EF553B",
           "#00cc96",
           "#ab63fa",
           "#FFA15A",
           "#19d3f3",
           "#FF6692",
           "#B6E880",
           "#FF97FF",
           "#FECB52"
          ],
          "font": {
           "color": "#2a3f5f"
          },
          "geo": {
           "bgcolor": "white",
           "lakecolor": "white",
           "landcolor": "#E5ECF6",
           "showlakes": true,
           "showland": true,
           "subunitcolor": "white"
          },
          "hoverlabel": {
           "align": "left"
          },
          "hovermode": "closest",
          "mapbox": {
           "style": "light"
          },
          "paper_bgcolor": "white",
          "plot_bgcolor": "#E5ECF6",
          "polar": {
           "angularaxis": {
            "gridcolor": "white",
            "linecolor": "white",
            "ticks": ""
           },
           "bgcolor": "#E5ECF6",
           "radialaxis": {
            "gridcolor": "white",
            "linecolor": "white",
            "ticks": ""
           }
          },
          "scene": {
           "xaxis": {
            "backgroundcolor": "#E5ECF6",
            "gridcolor": "white",
            "gridwidth": 2,
            "linecolor": "white",
            "showbackground": true,
            "ticks": "",
            "zerolinecolor": "white"
           },
           "yaxis": {
            "backgroundcolor": "#E5ECF6",
            "gridcolor": "white",
            "gridwidth": 2,
            "linecolor": "white",
            "showbackground": true,
            "ticks": "",
            "zerolinecolor": "white"
           },
           "zaxis": {
            "backgroundcolor": "#E5ECF6",
            "gridcolor": "white",
            "gridwidth": 2,
            "linecolor": "white",
            "showbackground": true,
            "ticks": "",
            "zerolinecolor": "white"
           }
          },
          "shapedefaults": {
           "line": {
            "color": "#2a3f5f"
           }
          },
          "ternary": {
           "aaxis": {
            "gridcolor": "white",
            "linecolor": "white",
            "ticks": ""
           },
           "baxis": {
            "gridcolor": "white",
            "linecolor": "white",
            "ticks": ""
           },
           "bgcolor": "#E5ECF6",
           "caxis": {
            "gridcolor": "white",
            "linecolor": "white",
            "ticks": ""
           }
          },
          "title": {
           "x": 0.05
          },
          "xaxis": {
           "automargin": true,
           "gridcolor": "white",
           "linecolor": "white",
           "ticks": "",
           "title": {
            "standoff": 15
           },
           "zerolinecolor": "white",
           "zerolinewidth": 2
          },
          "yaxis": {
           "automargin": true,
           "gridcolor": "white",
           "linecolor": "white",
           "ticks": "",
           "title": {
            "standoff": 15
           },
           "zerolinecolor": "white",
           "zerolinewidth": 2
          }
         }
        },
        "title": {
         "text": "precision",
         "x": 0.5
        },
        "yaxis": {
         "tickmode": "array",
         "tickvals": [
          "0.85",
          0.3,
          0.8
         ]
        }
       }
      }
     },
     "metadata": {},
     "output_type": "display_data"
    }
   ],
   "source": [
    "genVisMulitlabel(partEvalMetrics, \"precision\")"
   ]
  },
  {
   "cell_type": "code",
   "execution_count": 173,
   "metadata": {},
   "outputs": [
    {
     "data": {
      "application/vnd.plotly.v1+json": {
       "config": {
        "plotlyServerURL": "https://plot.ly"
       },
       "data": [
        {
         "text": [
          0.8271678011245931,
          0.865646518745218,
          0.56442417331813,
          0.3382352941176471,
          0.841577958672511,
          0.7208099956915123,
          0.6859535591929958,
          0.7636363636363637,
          0.6417242781618544,
          0.861405197305101,
          0.4788135593220339,
          0.6251129177958447,
          0.821563981042654,
          0.6247978436657682,
          0.7034949267192785,
          0.5809968847352025,
          0.683495145631068,
          0.41232227488151657,
          0.4367283950617284,
          0.5451127819548872,
          0.6309362279511533,
          0.6699819168173599,
          0.7998610145934677,
          0.48657894736842106
         ],
         "type": "bar",
         "x": [
          "vision_bonnet",
          "vision_bumper_front",
          "vision_door_front_rh",
          "vision_door_rear_rh",
          "vision_engine",
          "vision_fender_front_rh",
          "vision_front_panel",
          "vision_headlamp_rh",
          "vision_non_external",
          "vision_misc",
          "vision_wheel",
          "vision_windscreen_front",
          "vision_bumper_rear",
          "vision_rear_compartment",
          "vision_rear_panel",
          "vision_rear_quarter_rh",
          "vision_tail_lamp_rh",
          "vision_door_front_lh",
          "vision_door_rear_lh",
          "vision_rear_quarter_lh",
          "vision_tail_lamp_lh",
          "vision_fender_front_lh",
          "vision_headlamp_lh",
          "vision_grille"
         ],
         "y": [
          0.8271678011245931,
          0.865646518745218,
          0.56442417331813,
          0.3382352941176471,
          0.841577958672511,
          0.7208099956915123,
          0.6859535591929958,
          0.7636363636363637,
          0.6417242781618544,
          0.861405197305101,
          0.4788135593220339,
          0.6251129177958447,
          0.821563981042654,
          0.6247978436657682,
          0.7034949267192785,
          0.5809968847352025,
          0.683495145631068,
          0.41232227488151657,
          0.4367283950617284,
          0.5451127819548872,
          0.6309362279511533,
          0.6699819168173599,
          0.7998610145934677,
          0.48657894736842106
         ]
        }
       ],
       "layout": {
        "shapes": [
         {
          "line": {
           "color": "red",
           "width": 2
          },
          "type": "line",
          "x0": 0,
          "x1": 1,
          "xref": "x domain",
          "y0": 0.6504324148960963,
          "y1": 0.6504324148960963,
          "yref": "y"
         }
        ],
        "template": {
         "data": {
          "bar": [
           {
            "error_x": {
             "color": "#2a3f5f"
            },
            "error_y": {
             "color": "#2a3f5f"
            },
            "marker": {
             "line": {
              "color": "#E5ECF6",
              "width": 0.5
             },
             "pattern": {
              "fillmode": "overlay",
              "size": 10,
              "solidity": 0.2
             }
            },
            "type": "bar"
           }
          ],
          "barpolar": [
           {
            "marker": {
             "line": {
              "color": "#E5ECF6",
              "width": 0.5
             },
             "pattern": {
              "fillmode": "overlay",
              "size": 10,
              "solidity": 0.2
             }
            },
            "type": "barpolar"
           }
          ],
          "carpet": [
           {
            "aaxis": {
             "endlinecolor": "#2a3f5f",
             "gridcolor": "white",
             "linecolor": "white",
             "minorgridcolor": "white",
             "startlinecolor": "#2a3f5f"
            },
            "baxis": {
             "endlinecolor": "#2a3f5f",
             "gridcolor": "white",
             "linecolor": "white",
             "minorgridcolor": "white",
             "startlinecolor": "#2a3f5f"
            },
            "type": "carpet"
           }
          ],
          "choropleth": [
           {
            "colorbar": {
             "outlinewidth": 0,
             "ticks": ""
            },
            "type": "choropleth"
           }
          ],
          "contour": [
           {
            "colorbar": {
             "outlinewidth": 0,
             "ticks": ""
            },
            "colorscale": [
             [
              0,
              "#0d0887"
             ],
             [
              0.1111111111111111,
              "#46039f"
             ],
             [
              0.2222222222222222,
              "#7201a8"
             ],
             [
              0.3333333333333333,
              "#9c179e"
             ],
             [
              0.4444444444444444,
              "#bd3786"
             ],
             [
              0.5555555555555556,
              "#d8576b"
             ],
             [
              0.6666666666666666,
              "#ed7953"
             ],
             [
              0.7777777777777778,
              "#fb9f3a"
             ],
             [
              0.8888888888888888,
              "#fdca26"
             ],
             [
              1,
              "#f0f921"
             ]
            ],
            "type": "contour"
           }
          ],
          "contourcarpet": [
           {
            "colorbar": {
             "outlinewidth": 0,
             "ticks": ""
            },
            "type": "contourcarpet"
           }
          ],
          "heatmap": [
           {
            "colorbar": {
             "outlinewidth": 0,
             "ticks": ""
            },
            "colorscale": [
             [
              0,
              "#0d0887"
             ],
             [
              0.1111111111111111,
              "#46039f"
             ],
             [
              0.2222222222222222,
              "#7201a8"
             ],
             [
              0.3333333333333333,
              "#9c179e"
             ],
             [
              0.4444444444444444,
              "#bd3786"
             ],
             [
              0.5555555555555556,
              "#d8576b"
             ],
             [
              0.6666666666666666,
              "#ed7953"
             ],
             [
              0.7777777777777778,
              "#fb9f3a"
             ],
             [
              0.8888888888888888,
              "#fdca26"
             ],
             [
              1,
              "#f0f921"
             ]
            ],
            "type": "heatmap"
           }
          ],
          "heatmapgl": [
           {
            "colorbar": {
             "outlinewidth": 0,
             "ticks": ""
            },
            "colorscale": [
             [
              0,
              "#0d0887"
             ],
             [
              0.1111111111111111,
              "#46039f"
             ],
             [
              0.2222222222222222,
              "#7201a8"
             ],
             [
              0.3333333333333333,
              "#9c179e"
             ],
             [
              0.4444444444444444,
              "#bd3786"
             ],
             [
              0.5555555555555556,
              "#d8576b"
             ],
             [
              0.6666666666666666,
              "#ed7953"
             ],
             [
              0.7777777777777778,
              "#fb9f3a"
             ],
             [
              0.8888888888888888,
              "#fdca26"
             ],
             [
              1,
              "#f0f921"
             ]
            ],
            "type": "heatmapgl"
           }
          ],
          "histogram": [
           {
            "marker": {
             "pattern": {
              "fillmode": "overlay",
              "size": 10,
              "solidity": 0.2
             }
            },
            "type": "histogram"
           }
          ],
          "histogram2d": [
           {
            "colorbar": {
             "outlinewidth": 0,
             "ticks": ""
            },
            "colorscale": [
             [
              0,
              "#0d0887"
             ],
             [
              0.1111111111111111,
              "#46039f"
             ],
             [
              0.2222222222222222,
              "#7201a8"
             ],
             [
              0.3333333333333333,
              "#9c179e"
             ],
             [
              0.4444444444444444,
              "#bd3786"
             ],
             [
              0.5555555555555556,
              "#d8576b"
             ],
             [
              0.6666666666666666,
              "#ed7953"
             ],
             [
              0.7777777777777778,
              "#fb9f3a"
             ],
             [
              0.8888888888888888,
              "#fdca26"
             ],
             [
              1,
              "#f0f921"
             ]
            ],
            "type": "histogram2d"
           }
          ],
          "histogram2dcontour": [
           {
            "colorbar": {
             "outlinewidth": 0,
             "ticks": ""
            },
            "colorscale": [
             [
              0,
              "#0d0887"
             ],
             [
              0.1111111111111111,
              "#46039f"
             ],
             [
              0.2222222222222222,
              "#7201a8"
             ],
             [
              0.3333333333333333,
              "#9c179e"
             ],
             [
              0.4444444444444444,
              "#bd3786"
             ],
             [
              0.5555555555555556,
              "#d8576b"
             ],
             [
              0.6666666666666666,
              "#ed7953"
             ],
             [
              0.7777777777777778,
              "#fb9f3a"
             ],
             [
              0.8888888888888888,
              "#fdca26"
             ],
             [
              1,
              "#f0f921"
             ]
            ],
            "type": "histogram2dcontour"
           }
          ],
          "mesh3d": [
           {
            "colorbar": {
             "outlinewidth": 0,
             "ticks": ""
            },
            "type": "mesh3d"
           }
          ],
          "parcoords": [
           {
            "line": {
             "colorbar": {
              "outlinewidth": 0,
              "ticks": ""
             }
            },
            "type": "parcoords"
           }
          ],
          "pie": [
           {
            "automargin": true,
            "type": "pie"
           }
          ],
          "scatter": [
           {
            "fillpattern": {
             "fillmode": "overlay",
             "size": 10,
             "solidity": 0.2
            },
            "type": "scatter"
           }
          ],
          "scatter3d": [
           {
            "line": {
             "colorbar": {
              "outlinewidth": 0,
              "ticks": ""
             }
            },
            "marker": {
             "colorbar": {
              "outlinewidth": 0,
              "ticks": ""
             }
            },
            "type": "scatter3d"
           }
          ],
          "scattercarpet": [
           {
            "marker": {
             "colorbar": {
              "outlinewidth": 0,
              "ticks": ""
             }
            },
            "type": "scattercarpet"
           }
          ],
          "scattergeo": [
           {
            "marker": {
             "colorbar": {
              "outlinewidth": 0,
              "ticks": ""
             }
            },
            "type": "scattergeo"
           }
          ],
          "scattergl": [
           {
            "marker": {
             "colorbar": {
              "outlinewidth": 0,
              "ticks": ""
             }
            },
            "type": "scattergl"
           }
          ],
          "scattermapbox": [
           {
            "marker": {
             "colorbar": {
              "outlinewidth": 0,
              "ticks": ""
             }
            },
            "type": "scattermapbox"
           }
          ],
          "scatterpolar": [
           {
            "marker": {
             "colorbar": {
              "outlinewidth": 0,
              "ticks": ""
             }
            },
            "type": "scatterpolar"
           }
          ],
          "scatterpolargl": [
           {
            "marker": {
             "colorbar": {
              "outlinewidth": 0,
              "ticks": ""
             }
            },
            "type": "scatterpolargl"
           }
          ],
          "scatterternary": [
           {
            "marker": {
             "colorbar": {
              "outlinewidth": 0,
              "ticks": ""
             }
            },
            "type": "scatterternary"
           }
          ],
          "surface": [
           {
            "colorbar": {
             "outlinewidth": 0,
             "ticks": ""
            },
            "colorscale": [
             [
              0,
              "#0d0887"
             ],
             [
              0.1111111111111111,
              "#46039f"
             ],
             [
              0.2222222222222222,
              "#7201a8"
             ],
             [
              0.3333333333333333,
              "#9c179e"
             ],
             [
              0.4444444444444444,
              "#bd3786"
             ],
             [
              0.5555555555555556,
              "#d8576b"
             ],
             [
              0.6666666666666666,
              "#ed7953"
             ],
             [
              0.7777777777777778,
              "#fb9f3a"
             ],
             [
              0.8888888888888888,
              "#fdca26"
             ],
             [
              1,
              "#f0f921"
             ]
            ],
            "type": "surface"
           }
          ],
          "table": [
           {
            "cells": {
             "fill": {
              "color": "#EBF0F8"
             },
             "line": {
              "color": "white"
             }
            },
            "header": {
             "fill": {
              "color": "#C8D4E3"
             },
             "line": {
              "color": "white"
             }
            },
            "type": "table"
           }
          ]
         },
         "layout": {
          "annotationdefaults": {
           "arrowcolor": "#2a3f5f",
           "arrowhead": 0,
           "arrowwidth": 1
          },
          "autotypenumbers": "strict",
          "coloraxis": {
           "colorbar": {
            "outlinewidth": 0,
            "ticks": ""
           }
          },
          "colorscale": {
           "diverging": [
            [
             0,
             "#8e0152"
            ],
            [
             0.1,
             "#c51b7d"
            ],
            [
             0.2,
             "#de77ae"
            ],
            [
             0.3,
             "#f1b6da"
            ],
            [
             0.4,
             "#fde0ef"
            ],
            [
             0.5,
             "#f7f7f7"
            ],
            [
             0.6,
             "#e6f5d0"
            ],
            [
             0.7,
             "#b8e186"
            ],
            [
             0.8,
             "#7fbc41"
            ],
            [
             0.9,
             "#4d9221"
            ],
            [
             1,
             "#276419"
            ]
           ],
           "sequential": [
            [
             0,
             "#0d0887"
            ],
            [
             0.1111111111111111,
             "#46039f"
            ],
            [
             0.2222222222222222,
             "#7201a8"
            ],
            [
             0.3333333333333333,
             "#9c179e"
            ],
            [
             0.4444444444444444,
             "#bd3786"
            ],
            [
             0.5555555555555556,
             "#d8576b"
            ],
            [
             0.6666666666666666,
             "#ed7953"
            ],
            [
             0.7777777777777778,
             "#fb9f3a"
            ],
            [
             0.8888888888888888,
             "#fdca26"
            ],
            [
             1,
             "#f0f921"
            ]
           ],
           "sequentialminus": [
            [
             0,
             "#0d0887"
            ],
            [
             0.1111111111111111,
             "#46039f"
            ],
            [
             0.2222222222222222,
             "#7201a8"
            ],
            [
             0.3333333333333333,
             "#9c179e"
            ],
            [
             0.4444444444444444,
             "#bd3786"
            ],
            [
             0.5555555555555556,
             "#d8576b"
            ],
            [
             0.6666666666666666,
             "#ed7953"
            ],
            [
             0.7777777777777778,
             "#fb9f3a"
            ],
            [
             0.8888888888888888,
             "#fdca26"
            ],
            [
             1,
             "#f0f921"
            ]
           ]
          },
          "colorway": [
           "#636efa",
           "#EF553B",
           "#00cc96",
           "#ab63fa",
           "#FFA15A",
           "#19d3f3",
           "#FF6692",
           "#B6E880",
           "#FF97FF",
           "#FECB52"
          ],
          "font": {
           "color": "#2a3f5f"
          },
          "geo": {
           "bgcolor": "white",
           "lakecolor": "white",
           "landcolor": "#E5ECF6",
           "showlakes": true,
           "showland": true,
           "subunitcolor": "white"
          },
          "hoverlabel": {
           "align": "left"
          },
          "hovermode": "closest",
          "mapbox": {
           "style": "light"
          },
          "paper_bgcolor": "white",
          "plot_bgcolor": "#E5ECF6",
          "polar": {
           "angularaxis": {
            "gridcolor": "white",
            "linecolor": "white",
            "ticks": ""
           },
           "bgcolor": "#E5ECF6",
           "radialaxis": {
            "gridcolor": "white",
            "linecolor": "white",
            "ticks": ""
           }
          },
          "scene": {
           "xaxis": {
            "backgroundcolor": "#E5ECF6",
            "gridcolor": "white",
            "gridwidth": 2,
            "linecolor": "white",
            "showbackground": true,
            "ticks": "",
            "zerolinecolor": "white"
           },
           "yaxis": {
            "backgroundcolor": "#E5ECF6",
            "gridcolor": "white",
            "gridwidth": 2,
            "linecolor": "white",
            "showbackground": true,
            "ticks": "",
            "zerolinecolor": "white"
           },
           "zaxis": {
            "backgroundcolor": "#E5ECF6",
            "gridcolor": "white",
            "gridwidth": 2,
            "linecolor": "white",
            "showbackground": true,
            "ticks": "",
            "zerolinecolor": "white"
           }
          },
          "shapedefaults": {
           "line": {
            "color": "#2a3f5f"
           }
          },
          "ternary": {
           "aaxis": {
            "gridcolor": "white",
            "linecolor": "white",
            "ticks": ""
           },
           "baxis": {
            "gridcolor": "white",
            "linecolor": "white",
            "ticks": ""
           },
           "bgcolor": "#E5ECF6",
           "caxis": {
            "gridcolor": "white",
            "linecolor": "white",
            "ticks": ""
           }
          },
          "title": {
           "x": 0.05
          },
          "xaxis": {
           "automargin": true,
           "gridcolor": "white",
           "linecolor": "white",
           "ticks": "",
           "title": {
            "standoff": 15
           },
           "zerolinecolor": "white",
           "zerolinewidth": 2
          },
          "yaxis": {
           "automargin": true,
           "gridcolor": "white",
           "linecolor": "white",
           "ticks": "",
           "title": {
            "standoff": 15
           },
           "zerolinecolor": "white",
           "zerolinewidth": 2
          }
         }
        },
        "title": {
         "text": "recall",
         "x": 0.5
        },
        "yaxis": {
         "tickmode": "array",
         "tickvals": [
          "0.65",
          0.3,
          0.8
         ]
        }
       }
      }
     },
     "metadata": {},
     "output_type": "display_data"
    }
   ],
   "source": [
    "genVisMulitlabel(partEvalMetrics, \"recall\")"
   ]
  },
  {
   "cell_type": "code",
   "execution_count": 174,
   "metadata": {},
   "outputs": [
    {
     "data": {
      "application/vnd.plotly.v1+json": {
       "config": {
        "plotlyServerURL": "https://plot.ly"
       },
       "data": [
        {
         "text": [
          0.8451221466182307,
          0.7909496881637818,
          0.695456196078057,
          0.497634402611211,
          0.7971392738910921,
          0.784669795907149,
          0.764120414529907,
          0.8045862412761715,
          0.7066010085055543,
          0.7115744549725476,
          0.6093542299583624,
          0.7213498458065586,
          0.7447888869231948,
          0.7513082655962707,
          0.8078974955530825,
          0.7220904568519728,
          0.7802039143106374,
          0.570653645620656,
          0.5882048592281774,
          0.6954232129903918,
          0.7504501036778792,
          0.7601818037158479,
          0.8163364051302474,
          0.5923526068309822
         ],
         "type": "bar",
         "x": [
          "vision_bonnet",
          "vision_bumper_front",
          "vision_door_front_rh",
          "vision_door_rear_rh",
          "vision_engine",
          "vision_fender_front_rh",
          "vision_front_panel",
          "vision_headlamp_rh",
          "vision_non_external",
          "vision_misc",
          "vision_wheel",
          "vision_windscreen_front",
          "vision_bumper_rear",
          "vision_rear_compartment",
          "vision_rear_panel",
          "vision_rear_quarter_rh",
          "vision_tail_lamp_rh",
          "vision_door_front_lh",
          "vision_door_rear_lh",
          "vision_rear_quarter_lh",
          "vision_tail_lamp_lh",
          "vision_fender_front_lh",
          "vision_headlamp_lh",
          "vision_grille"
         ],
         "y": [
          0.8451221466182307,
          0.7909496881637818,
          0.695456196078057,
          0.497634402611211,
          0.7971392738910921,
          0.784669795907149,
          0.764120414529907,
          0.8045862412761715,
          0.7066010085055543,
          0.7115744549725476,
          0.6093542299583624,
          0.7213498458065586,
          0.7447888869231948,
          0.7513082655962707,
          0.8078974955530825,
          0.7220904568519728,
          0.7802039143106374,
          0.570653645620656,
          0.5882048592281774,
          0.6954232129903918,
          0.7504501036778792,
          0.7601818037158479,
          0.8163364051302474,
          0.5923526068309822
         ]
        }
       ],
       "layout": {
        "shapes": [
         {
          "line": {
           "color": "red",
           "width": 2
          },
          "type": "line",
          "x0": 0,
          "x1": 1,
          "xref": "x domain",
          "y0": 0.7211853897811652,
          "y1": 0.7211853897811652,
          "yref": "y"
         }
        ],
        "template": {
         "data": {
          "bar": [
           {
            "error_x": {
             "color": "#2a3f5f"
            },
            "error_y": {
             "color": "#2a3f5f"
            },
            "marker": {
             "line": {
              "color": "#E5ECF6",
              "width": 0.5
             },
             "pattern": {
              "fillmode": "overlay",
              "size": 10,
              "solidity": 0.2
             }
            },
            "type": "bar"
           }
          ],
          "barpolar": [
           {
            "marker": {
             "line": {
              "color": "#E5ECF6",
              "width": 0.5
             },
             "pattern": {
              "fillmode": "overlay",
              "size": 10,
              "solidity": 0.2
             }
            },
            "type": "barpolar"
           }
          ],
          "carpet": [
           {
            "aaxis": {
             "endlinecolor": "#2a3f5f",
             "gridcolor": "white",
             "linecolor": "white",
             "minorgridcolor": "white",
             "startlinecolor": "#2a3f5f"
            },
            "baxis": {
             "endlinecolor": "#2a3f5f",
             "gridcolor": "white",
             "linecolor": "white",
             "minorgridcolor": "white",
             "startlinecolor": "#2a3f5f"
            },
            "type": "carpet"
           }
          ],
          "choropleth": [
           {
            "colorbar": {
             "outlinewidth": 0,
             "ticks": ""
            },
            "type": "choropleth"
           }
          ],
          "contour": [
           {
            "colorbar": {
             "outlinewidth": 0,
             "ticks": ""
            },
            "colorscale": [
             [
              0,
              "#0d0887"
             ],
             [
              0.1111111111111111,
              "#46039f"
             ],
             [
              0.2222222222222222,
              "#7201a8"
             ],
             [
              0.3333333333333333,
              "#9c179e"
             ],
             [
              0.4444444444444444,
              "#bd3786"
             ],
             [
              0.5555555555555556,
              "#d8576b"
             ],
             [
              0.6666666666666666,
              "#ed7953"
             ],
             [
              0.7777777777777778,
              "#fb9f3a"
             ],
             [
              0.8888888888888888,
              "#fdca26"
             ],
             [
              1,
              "#f0f921"
             ]
            ],
            "type": "contour"
           }
          ],
          "contourcarpet": [
           {
            "colorbar": {
             "outlinewidth": 0,
             "ticks": ""
            },
            "type": "contourcarpet"
           }
          ],
          "heatmap": [
           {
            "colorbar": {
             "outlinewidth": 0,
             "ticks": ""
            },
            "colorscale": [
             [
              0,
              "#0d0887"
             ],
             [
              0.1111111111111111,
              "#46039f"
             ],
             [
              0.2222222222222222,
              "#7201a8"
             ],
             [
              0.3333333333333333,
              "#9c179e"
             ],
             [
              0.4444444444444444,
              "#bd3786"
             ],
             [
              0.5555555555555556,
              "#d8576b"
             ],
             [
              0.6666666666666666,
              "#ed7953"
             ],
             [
              0.7777777777777778,
              "#fb9f3a"
             ],
             [
              0.8888888888888888,
              "#fdca26"
             ],
             [
              1,
              "#f0f921"
             ]
            ],
            "type": "heatmap"
           }
          ],
          "heatmapgl": [
           {
            "colorbar": {
             "outlinewidth": 0,
             "ticks": ""
            },
            "colorscale": [
             [
              0,
              "#0d0887"
             ],
             [
              0.1111111111111111,
              "#46039f"
             ],
             [
              0.2222222222222222,
              "#7201a8"
             ],
             [
              0.3333333333333333,
              "#9c179e"
             ],
             [
              0.4444444444444444,
              "#bd3786"
             ],
             [
              0.5555555555555556,
              "#d8576b"
             ],
             [
              0.6666666666666666,
              "#ed7953"
             ],
             [
              0.7777777777777778,
              "#fb9f3a"
             ],
             [
              0.8888888888888888,
              "#fdca26"
             ],
             [
              1,
              "#f0f921"
             ]
            ],
            "type": "heatmapgl"
           }
          ],
          "histogram": [
           {
            "marker": {
             "pattern": {
              "fillmode": "overlay",
              "size": 10,
              "solidity": 0.2
             }
            },
            "type": "histogram"
           }
          ],
          "histogram2d": [
           {
            "colorbar": {
             "outlinewidth": 0,
             "ticks": ""
            },
            "colorscale": [
             [
              0,
              "#0d0887"
             ],
             [
              0.1111111111111111,
              "#46039f"
             ],
             [
              0.2222222222222222,
              "#7201a8"
             ],
             [
              0.3333333333333333,
              "#9c179e"
             ],
             [
              0.4444444444444444,
              "#bd3786"
             ],
             [
              0.5555555555555556,
              "#d8576b"
             ],
             [
              0.6666666666666666,
              "#ed7953"
             ],
             [
              0.7777777777777778,
              "#fb9f3a"
             ],
             [
              0.8888888888888888,
              "#fdca26"
             ],
             [
              1,
              "#f0f921"
             ]
            ],
            "type": "histogram2d"
           }
          ],
          "histogram2dcontour": [
           {
            "colorbar": {
             "outlinewidth": 0,
             "ticks": ""
            },
            "colorscale": [
             [
              0,
              "#0d0887"
             ],
             [
              0.1111111111111111,
              "#46039f"
             ],
             [
              0.2222222222222222,
              "#7201a8"
             ],
             [
              0.3333333333333333,
              "#9c179e"
             ],
             [
              0.4444444444444444,
              "#bd3786"
             ],
             [
              0.5555555555555556,
              "#d8576b"
             ],
             [
              0.6666666666666666,
              "#ed7953"
             ],
             [
              0.7777777777777778,
              "#fb9f3a"
             ],
             [
              0.8888888888888888,
              "#fdca26"
             ],
             [
              1,
              "#f0f921"
             ]
            ],
            "type": "histogram2dcontour"
           }
          ],
          "mesh3d": [
           {
            "colorbar": {
             "outlinewidth": 0,
             "ticks": ""
            },
            "type": "mesh3d"
           }
          ],
          "parcoords": [
           {
            "line": {
             "colorbar": {
              "outlinewidth": 0,
              "ticks": ""
             }
            },
            "type": "parcoords"
           }
          ],
          "pie": [
           {
            "automargin": true,
            "type": "pie"
           }
          ],
          "scatter": [
           {
            "fillpattern": {
             "fillmode": "overlay",
             "size": 10,
             "solidity": 0.2
            },
            "type": "scatter"
           }
          ],
          "scatter3d": [
           {
            "line": {
             "colorbar": {
              "outlinewidth": 0,
              "ticks": ""
             }
            },
            "marker": {
             "colorbar": {
              "outlinewidth": 0,
              "ticks": ""
             }
            },
            "type": "scatter3d"
           }
          ],
          "scattercarpet": [
           {
            "marker": {
             "colorbar": {
              "outlinewidth": 0,
              "ticks": ""
             }
            },
            "type": "scattercarpet"
           }
          ],
          "scattergeo": [
           {
            "marker": {
             "colorbar": {
              "outlinewidth": 0,
              "ticks": ""
             }
            },
            "type": "scattergeo"
           }
          ],
          "scattergl": [
           {
            "marker": {
             "colorbar": {
              "outlinewidth": 0,
              "ticks": ""
             }
            },
            "type": "scattergl"
           }
          ],
          "scattermapbox": [
           {
            "marker": {
             "colorbar": {
              "outlinewidth": 0,
              "ticks": ""
             }
            },
            "type": "scattermapbox"
           }
          ],
          "scatterpolar": [
           {
            "marker": {
             "colorbar": {
              "outlinewidth": 0,
              "ticks": ""
             }
            },
            "type": "scatterpolar"
           }
          ],
          "scatterpolargl": [
           {
            "marker": {
             "colorbar": {
              "outlinewidth": 0,
              "ticks": ""
             }
            },
            "type": "scatterpolargl"
           }
          ],
          "scatterternary": [
           {
            "marker": {
             "colorbar": {
              "outlinewidth": 0,
              "ticks": ""
             }
            },
            "type": "scatterternary"
           }
          ],
          "surface": [
           {
            "colorbar": {
             "outlinewidth": 0,
             "ticks": ""
            },
            "colorscale": [
             [
              0,
              "#0d0887"
             ],
             [
              0.1111111111111111,
              "#46039f"
             ],
             [
              0.2222222222222222,
              "#7201a8"
             ],
             [
              0.3333333333333333,
              "#9c179e"
             ],
             [
              0.4444444444444444,
              "#bd3786"
             ],
             [
              0.5555555555555556,
              "#d8576b"
             ],
             [
              0.6666666666666666,
              "#ed7953"
             ],
             [
              0.7777777777777778,
              "#fb9f3a"
             ],
             [
              0.8888888888888888,
              "#fdca26"
             ],
             [
              1,
              "#f0f921"
             ]
            ],
            "type": "surface"
           }
          ],
          "table": [
           {
            "cells": {
             "fill": {
              "color": "#EBF0F8"
             },
             "line": {
              "color": "white"
             }
            },
            "header": {
             "fill": {
              "color": "#C8D4E3"
             },
             "line": {
              "color": "white"
             }
            },
            "type": "table"
           }
          ]
         },
         "layout": {
          "annotationdefaults": {
           "arrowcolor": "#2a3f5f",
           "arrowhead": 0,
           "arrowwidth": 1
          },
          "autotypenumbers": "strict",
          "coloraxis": {
           "colorbar": {
            "outlinewidth": 0,
            "ticks": ""
           }
          },
          "colorscale": {
           "diverging": [
            [
             0,
             "#8e0152"
            ],
            [
             0.1,
             "#c51b7d"
            ],
            [
             0.2,
             "#de77ae"
            ],
            [
             0.3,
             "#f1b6da"
            ],
            [
             0.4,
             "#fde0ef"
            ],
            [
             0.5,
             "#f7f7f7"
            ],
            [
             0.6,
             "#e6f5d0"
            ],
            [
             0.7,
             "#b8e186"
            ],
            [
             0.8,
             "#7fbc41"
            ],
            [
             0.9,
             "#4d9221"
            ],
            [
             1,
             "#276419"
            ]
           ],
           "sequential": [
            [
             0,
             "#0d0887"
            ],
            [
             0.1111111111111111,
             "#46039f"
            ],
            [
             0.2222222222222222,
             "#7201a8"
            ],
            [
             0.3333333333333333,
             "#9c179e"
            ],
            [
             0.4444444444444444,
             "#bd3786"
            ],
            [
             0.5555555555555556,
             "#d8576b"
            ],
            [
             0.6666666666666666,
             "#ed7953"
            ],
            [
             0.7777777777777778,
             "#fb9f3a"
            ],
            [
             0.8888888888888888,
             "#fdca26"
            ],
            [
             1,
             "#f0f921"
            ]
           ],
           "sequentialminus": [
            [
             0,
             "#0d0887"
            ],
            [
             0.1111111111111111,
             "#46039f"
            ],
            [
             0.2222222222222222,
             "#7201a8"
            ],
            [
             0.3333333333333333,
             "#9c179e"
            ],
            [
             0.4444444444444444,
             "#bd3786"
            ],
            [
             0.5555555555555556,
             "#d8576b"
            ],
            [
             0.6666666666666666,
             "#ed7953"
            ],
            [
             0.7777777777777778,
             "#fb9f3a"
            ],
            [
             0.8888888888888888,
             "#fdca26"
            ],
            [
             1,
             "#f0f921"
            ]
           ]
          },
          "colorway": [
           "#636efa",
           "#EF553B",
           "#00cc96",
           "#ab63fa",
           "#FFA15A",
           "#19d3f3",
           "#FF6692",
           "#B6E880",
           "#FF97FF",
           "#FECB52"
          ],
          "font": {
           "color": "#2a3f5f"
          },
          "geo": {
           "bgcolor": "white",
           "lakecolor": "white",
           "landcolor": "#E5ECF6",
           "showlakes": true,
           "showland": true,
           "subunitcolor": "white"
          },
          "hoverlabel": {
           "align": "left"
          },
          "hovermode": "closest",
          "mapbox": {
           "style": "light"
          },
          "paper_bgcolor": "white",
          "plot_bgcolor": "#E5ECF6",
          "polar": {
           "angularaxis": {
            "gridcolor": "white",
            "linecolor": "white",
            "ticks": ""
           },
           "bgcolor": "#E5ECF6",
           "radialaxis": {
            "gridcolor": "white",
            "linecolor": "white",
            "ticks": ""
           }
          },
          "scene": {
           "xaxis": {
            "backgroundcolor": "#E5ECF6",
            "gridcolor": "white",
            "gridwidth": 2,
            "linecolor": "white",
            "showbackground": true,
            "ticks": "",
            "zerolinecolor": "white"
           },
           "yaxis": {
            "backgroundcolor": "#E5ECF6",
            "gridcolor": "white",
            "gridwidth": 2,
            "linecolor": "white",
            "showbackground": true,
            "ticks": "",
            "zerolinecolor": "white"
           },
           "zaxis": {
            "backgroundcolor": "#E5ECF6",
            "gridcolor": "white",
            "gridwidth": 2,
            "linecolor": "white",
            "showbackground": true,
            "ticks": "",
            "zerolinecolor": "white"
           }
          },
          "shapedefaults": {
           "line": {
            "color": "#2a3f5f"
           }
          },
          "ternary": {
           "aaxis": {
            "gridcolor": "white",
            "linecolor": "white",
            "ticks": ""
           },
           "baxis": {
            "gridcolor": "white",
            "linecolor": "white",
            "ticks": ""
           },
           "bgcolor": "#E5ECF6",
           "caxis": {
            "gridcolor": "white",
            "linecolor": "white",
            "ticks": ""
           }
          },
          "title": {
           "x": 0.05
          },
          "xaxis": {
           "automargin": true,
           "gridcolor": "white",
           "linecolor": "white",
           "ticks": "",
           "title": {
            "standoff": 15
           },
           "zerolinecolor": "white",
           "zerolinewidth": 2
          },
          "yaxis": {
           "automargin": true,
           "gridcolor": "white",
           "linecolor": "white",
           "ticks": "",
           "title": {
            "standoff": 15
           },
           "zerolinecolor": "white",
           "zerolinewidth": 2
          }
         }
        },
        "title": {
         "text": "f1",
         "x": 0.5
        },
        "yaxis": {
         "tickmode": "array",
         "tickvals": [
          "0.72",
          0.3,
          0.8
         ]
        }
       }
      }
     },
     "metadata": {},
     "output_type": "display_data"
    }
   ],
   "source": [
    "genVisMulitlabel(partEvalMetrics, \"f1\")"
   ]
  },
  {
   "cell_type": "code",
   "execution_count": 175,
   "metadata": {},
   "outputs": [
    {
     "data": {
      "application/vnd.plotly.v1+json": {
       "config": {
        "plotlyServerURL": "https://plot.ly"
       },
       "data": [
        {
         "text": [
          0.3379,
          0.6535,
          0.0877,
          0.068,
          0.4791,
          0.2321,
          0.2627,
          0.462,
          0.2459,
          0.4156,
          0.1416,
          0.1107,
          0.422,
          0.1855,
          0.1774,
          0.0642,
          0.1545,
          0.0844,
          0.0648,
          0.0532,
          0.1474,
          0.2212,
          0.4317,
          0.38
         ],
         "type": "bar",
         "x": [
          "vision_bonnet",
          "vision_bumper_front",
          "vision_door_front_rh",
          "vision_door_rear_rh",
          "vision_engine",
          "vision_fender_front_rh",
          "vision_front_panel",
          "vision_headlamp_rh",
          "vision_non_external",
          "vision_misc",
          "vision_wheel",
          "vision_windscreen_front",
          "vision_bumper_rear",
          "vision_rear_compartment",
          "vision_rear_panel",
          "vision_rear_quarter_rh",
          "vision_tail_lamp_rh",
          "vision_door_front_lh",
          "vision_door_rear_lh",
          "vision_rear_quarter_lh",
          "vision_tail_lamp_lh",
          "vision_fender_front_lh",
          "vision_headlamp_lh",
          "vision_grille"
         ],
         "y": [
          0.3379,
          0.6535,
          0.0877,
          0.068,
          0.4791,
          0.2321,
          0.2627,
          0.462,
          0.2459,
          0.4156,
          0.1416,
          0.1107,
          0.422,
          0.1855,
          0.1774,
          0.0642,
          0.1545,
          0.0844,
          0.0648,
          0.0532,
          0.1474,
          0.2212,
          0.4317,
          0.38
         ]
        }
       ],
       "layout": {
        "shapes": [
         {
          "line": {
           "color": "red",
           "width": 2
          },
          "type": "line",
          "x0": 0,
          "x1": 1,
          "xref": "x domain",
          "y0": 0.24512916666666665,
          "y1": 0.24512916666666665,
          "yref": "y"
         }
        ],
        "template": {
         "data": {
          "bar": [
           {
            "error_x": {
             "color": "#2a3f5f"
            },
            "error_y": {
             "color": "#2a3f5f"
            },
            "marker": {
             "line": {
              "color": "#E5ECF6",
              "width": 0.5
             },
             "pattern": {
              "fillmode": "overlay",
              "size": 10,
              "solidity": 0.2
             }
            },
            "type": "bar"
           }
          ],
          "barpolar": [
           {
            "marker": {
             "line": {
              "color": "#E5ECF6",
              "width": 0.5
             },
             "pattern": {
              "fillmode": "overlay",
              "size": 10,
              "solidity": 0.2
             }
            },
            "type": "barpolar"
           }
          ],
          "carpet": [
           {
            "aaxis": {
             "endlinecolor": "#2a3f5f",
             "gridcolor": "white",
             "linecolor": "white",
             "minorgridcolor": "white",
             "startlinecolor": "#2a3f5f"
            },
            "baxis": {
             "endlinecolor": "#2a3f5f",
             "gridcolor": "white",
             "linecolor": "white",
             "minorgridcolor": "white",
             "startlinecolor": "#2a3f5f"
            },
            "type": "carpet"
           }
          ],
          "choropleth": [
           {
            "colorbar": {
             "outlinewidth": 0,
             "ticks": ""
            },
            "type": "choropleth"
           }
          ],
          "contour": [
           {
            "colorbar": {
             "outlinewidth": 0,
             "ticks": ""
            },
            "colorscale": [
             [
              0,
              "#0d0887"
             ],
             [
              0.1111111111111111,
              "#46039f"
             ],
             [
              0.2222222222222222,
              "#7201a8"
             ],
             [
              0.3333333333333333,
              "#9c179e"
             ],
             [
              0.4444444444444444,
              "#bd3786"
             ],
             [
              0.5555555555555556,
              "#d8576b"
             ],
             [
              0.6666666666666666,
              "#ed7953"
             ],
             [
              0.7777777777777778,
              "#fb9f3a"
             ],
             [
              0.8888888888888888,
              "#fdca26"
             ],
             [
              1,
              "#f0f921"
             ]
            ],
            "type": "contour"
           }
          ],
          "contourcarpet": [
           {
            "colorbar": {
             "outlinewidth": 0,
             "ticks": ""
            },
            "type": "contourcarpet"
           }
          ],
          "heatmap": [
           {
            "colorbar": {
             "outlinewidth": 0,
             "ticks": ""
            },
            "colorscale": [
             [
              0,
              "#0d0887"
             ],
             [
              0.1111111111111111,
              "#46039f"
             ],
             [
              0.2222222222222222,
              "#7201a8"
             ],
             [
              0.3333333333333333,
              "#9c179e"
             ],
             [
              0.4444444444444444,
              "#bd3786"
             ],
             [
              0.5555555555555556,
              "#d8576b"
             ],
             [
              0.6666666666666666,
              "#ed7953"
             ],
             [
              0.7777777777777778,
              "#fb9f3a"
             ],
             [
              0.8888888888888888,
              "#fdca26"
             ],
             [
              1,
              "#f0f921"
             ]
            ],
            "type": "heatmap"
           }
          ],
          "heatmapgl": [
           {
            "colorbar": {
             "outlinewidth": 0,
             "ticks": ""
            },
            "colorscale": [
             [
              0,
              "#0d0887"
             ],
             [
              0.1111111111111111,
              "#46039f"
             ],
             [
              0.2222222222222222,
              "#7201a8"
             ],
             [
              0.3333333333333333,
              "#9c179e"
             ],
             [
              0.4444444444444444,
              "#bd3786"
             ],
             [
              0.5555555555555556,
              "#d8576b"
             ],
             [
              0.6666666666666666,
              "#ed7953"
             ],
             [
              0.7777777777777778,
              "#fb9f3a"
             ],
             [
              0.8888888888888888,
              "#fdca26"
             ],
             [
              1,
              "#f0f921"
             ]
            ],
            "type": "heatmapgl"
           }
          ],
          "histogram": [
           {
            "marker": {
             "pattern": {
              "fillmode": "overlay",
              "size": 10,
              "solidity": 0.2
             }
            },
            "type": "histogram"
           }
          ],
          "histogram2d": [
           {
            "colorbar": {
             "outlinewidth": 0,
             "ticks": ""
            },
            "colorscale": [
             [
              0,
              "#0d0887"
             ],
             [
              0.1111111111111111,
              "#46039f"
             ],
             [
              0.2222222222222222,
              "#7201a8"
             ],
             [
              0.3333333333333333,
              "#9c179e"
             ],
             [
              0.4444444444444444,
              "#bd3786"
             ],
             [
              0.5555555555555556,
              "#d8576b"
             ],
             [
              0.6666666666666666,
              "#ed7953"
             ],
             [
              0.7777777777777778,
              "#fb9f3a"
             ],
             [
              0.8888888888888888,
              "#fdca26"
             ],
             [
              1,
              "#f0f921"
             ]
            ],
            "type": "histogram2d"
           }
          ],
          "histogram2dcontour": [
           {
            "colorbar": {
             "outlinewidth": 0,
             "ticks": ""
            },
            "colorscale": [
             [
              0,
              "#0d0887"
             ],
             [
              0.1111111111111111,
              "#46039f"
             ],
             [
              0.2222222222222222,
              "#7201a8"
             ],
             [
              0.3333333333333333,
              "#9c179e"
             ],
             [
              0.4444444444444444,
              "#bd3786"
             ],
             [
              0.5555555555555556,
              "#d8576b"
             ],
             [
              0.6666666666666666,
              "#ed7953"
             ],
             [
              0.7777777777777778,
              "#fb9f3a"
             ],
             [
              0.8888888888888888,
              "#fdca26"
             ],
             [
              1,
              "#f0f921"
             ]
            ],
            "type": "histogram2dcontour"
           }
          ],
          "mesh3d": [
           {
            "colorbar": {
             "outlinewidth": 0,
             "ticks": ""
            },
            "type": "mesh3d"
           }
          ],
          "parcoords": [
           {
            "line": {
             "colorbar": {
              "outlinewidth": 0,
              "ticks": ""
             }
            },
            "type": "parcoords"
           }
          ],
          "pie": [
           {
            "automargin": true,
            "type": "pie"
           }
          ],
          "scatter": [
           {
            "fillpattern": {
             "fillmode": "overlay",
             "size": 10,
             "solidity": 0.2
            },
            "type": "scatter"
           }
          ],
          "scatter3d": [
           {
            "line": {
             "colorbar": {
              "outlinewidth": 0,
              "ticks": ""
             }
            },
            "marker": {
             "colorbar": {
              "outlinewidth": 0,
              "ticks": ""
             }
            },
            "type": "scatter3d"
           }
          ],
          "scattercarpet": [
           {
            "marker": {
             "colorbar": {
              "outlinewidth": 0,
              "ticks": ""
             }
            },
            "type": "scattercarpet"
           }
          ],
          "scattergeo": [
           {
            "marker": {
             "colorbar": {
              "outlinewidth": 0,
              "ticks": ""
             }
            },
            "type": "scattergeo"
           }
          ],
          "scattergl": [
           {
            "marker": {
             "colorbar": {
              "outlinewidth": 0,
              "ticks": ""
             }
            },
            "type": "scattergl"
           }
          ],
          "scattermapbox": [
           {
            "marker": {
             "colorbar": {
              "outlinewidth": 0,
              "ticks": ""
             }
            },
            "type": "scattermapbox"
           }
          ],
          "scatterpolar": [
           {
            "marker": {
             "colorbar": {
              "outlinewidth": 0,
              "ticks": ""
             }
            },
            "type": "scatterpolar"
           }
          ],
          "scatterpolargl": [
           {
            "marker": {
             "colorbar": {
              "outlinewidth": 0,
              "ticks": ""
             }
            },
            "type": "scatterpolargl"
           }
          ],
          "scatterternary": [
           {
            "marker": {
             "colorbar": {
              "outlinewidth": 0,
              "ticks": ""
             }
            },
            "type": "scatterternary"
           }
          ],
          "surface": [
           {
            "colorbar": {
             "outlinewidth": 0,
             "ticks": ""
            },
            "colorscale": [
             [
              0,
              "#0d0887"
             ],
             [
              0.1111111111111111,
              "#46039f"
             ],
             [
              0.2222222222222222,
              "#7201a8"
             ],
             [
              0.3333333333333333,
              "#9c179e"
             ],
             [
              0.4444444444444444,
              "#bd3786"
             ],
             [
              0.5555555555555556,
              "#d8576b"
             ],
             [
              0.6666666666666666,
              "#ed7953"
             ],
             [
              0.7777777777777778,
              "#fb9f3a"
             ],
             [
              0.8888888888888888,
              "#fdca26"
             ],
             [
              1,
              "#f0f921"
             ]
            ],
            "type": "surface"
           }
          ],
          "table": [
           {
            "cells": {
             "fill": {
              "color": "#EBF0F8"
             },
             "line": {
              "color": "white"
             }
            },
            "header": {
             "fill": {
              "color": "#C8D4E3"
             },
             "line": {
              "color": "white"
             }
            },
            "type": "table"
           }
          ]
         },
         "layout": {
          "annotationdefaults": {
           "arrowcolor": "#2a3f5f",
           "arrowhead": 0,
           "arrowwidth": 1
          },
          "autotypenumbers": "strict",
          "coloraxis": {
           "colorbar": {
            "outlinewidth": 0,
            "ticks": ""
           }
          },
          "colorscale": {
           "diverging": [
            [
             0,
             "#8e0152"
            ],
            [
             0.1,
             "#c51b7d"
            ],
            [
             0.2,
             "#de77ae"
            ],
            [
             0.3,
             "#f1b6da"
            ],
            [
             0.4,
             "#fde0ef"
            ],
            [
             0.5,
             "#f7f7f7"
            ],
            [
             0.6,
             "#e6f5d0"
            ],
            [
             0.7,
             "#b8e186"
            ],
            [
             0.8,
             "#7fbc41"
            ],
            [
             0.9,
             "#4d9221"
            ],
            [
             1,
             "#276419"
            ]
           ],
           "sequential": [
            [
             0,
             "#0d0887"
            ],
            [
             0.1111111111111111,
             "#46039f"
            ],
            [
             0.2222222222222222,
             "#7201a8"
            ],
            [
             0.3333333333333333,
             "#9c179e"
            ],
            [
             0.4444444444444444,
             "#bd3786"
            ],
            [
             0.5555555555555556,
             "#d8576b"
            ],
            [
             0.6666666666666666,
             "#ed7953"
            ],
            [
             0.7777777777777778,
             "#fb9f3a"
            ],
            [
             0.8888888888888888,
             "#fdca26"
            ],
            [
             1,
             "#f0f921"
            ]
           ],
           "sequentialminus": [
            [
             0,
             "#0d0887"
            ],
            [
             0.1111111111111111,
             "#46039f"
            ],
            [
             0.2222222222222222,
             "#7201a8"
            ],
            [
             0.3333333333333333,
             "#9c179e"
            ],
            [
             0.4444444444444444,
             "#bd3786"
            ],
            [
             0.5555555555555556,
             "#d8576b"
            ],
            [
             0.6666666666666666,
             "#ed7953"
            ],
            [
             0.7777777777777778,
             "#fb9f3a"
            ],
            [
             0.8888888888888888,
             "#fdca26"
            ],
            [
             1,
             "#f0f921"
            ]
           ]
          },
          "colorway": [
           "#636efa",
           "#EF553B",
           "#00cc96",
           "#ab63fa",
           "#FFA15A",
           "#19d3f3",
           "#FF6692",
           "#B6E880",
           "#FF97FF",
           "#FECB52"
          ],
          "font": {
           "color": "#2a3f5f"
          },
          "geo": {
           "bgcolor": "white",
           "lakecolor": "white",
           "landcolor": "#E5ECF6",
           "showlakes": true,
           "showland": true,
           "subunitcolor": "white"
          },
          "hoverlabel": {
           "align": "left"
          },
          "hovermode": "closest",
          "mapbox": {
           "style": "light"
          },
          "paper_bgcolor": "white",
          "plot_bgcolor": "#E5ECF6",
          "polar": {
           "angularaxis": {
            "gridcolor": "white",
            "linecolor": "white",
            "ticks": ""
           },
           "bgcolor": "#E5ECF6",
           "radialaxis": {
            "gridcolor": "white",
            "linecolor": "white",
            "ticks": ""
           }
          },
          "scene": {
           "xaxis": {
            "backgroundcolor": "#E5ECF6",
            "gridcolor": "white",
            "gridwidth": 2,
            "linecolor": "white",
            "showbackground": true,
            "ticks": "",
            "zerolinecolor": "white"
           },
           "yaxis": {
            "backgroundcolor": "#E5ECF6",
            "gridcolor": "white",
            "gridwidth": 2,
            "linecolor": "white",
            "showbackground": true,
            "ticks": "",
            "zerolinecolor": "white"
           },
           "zaxis": {
            "backgroundcolor": "#E5ECF6",
            "gridcolor": "white",
            "gridwidth": 2,
            "linecolor": "white",
            "showbackground": true,
            "ticks": "",
            "zerolinecolor": "white"
           }
          },
          "shapedefaults": {
           "line": {
            "color": "#2a3f5f"
           }
          },
          "ternary": {
           "aaxis": {
            "gridcolor": "white",
            "linecolor": "white",
            "ticks": ""
           },
           "baxis": {
            "gridcolor": "white",
            "linecolor": "white",
            "ticks": ""
           },
           "bgcolor": "#E5ECF6",
           "caxis": {
            "gridcolor": "white",
            "linecolor": "white",
            "ticks": ""
           }
          },
          "title": {
           "x": 0.05
          },
          "xaxis": {
           "automargin": true,
           "gridcolor": "white",
           "linecolor": "white",
           "ticks": "",
           "title": {
            "standoff": 15
           },
           "zerolinecolor": "white",
           "zerolinewidth": 2
          },
          "yaxis": {
           "automargin": true,
           "gridcolor": "white",
           "linecolor": "white",
           "ticks": "",
           "title": {
            "standoff": 15
           },
           "zerolinecolor": "white",
           "zerolinewidth": 2
          }
         }
        },
        "title": {
         "text": "gt_pos_ratio",
         "x": 0.5
        },
        "yaxis": {
         "tickmode": "array",
         "tickvals": [
          "0.25",
          0.3,
          0.8
         ]
        }
       }
      }
     },
     "metadata": {},
     "output_type": "display_data"
    }
   ],
   "source": [
    "genVisMulitlabel(partEvalMetrics, \"gt_pos_ratio\")"
   ]
  },
  {
   "cell_type": "code",
   "execution_count": 176,
   "metadata": {},
   "outputs": [
    {
     "data": {
      "application/vnd.plotly.v1+json": {
       "config": {
        "plotlyServerURL": "https://plot.ly"
       },
       "data": [
        {
         "text": [
          0.3658,
          0.6777,
          0.1031,
          0.0427,
          0.5438,
          0.2567,
          0.2609,
          0.4252,
          0.2895,
          0.6851,
          0.1474,
          0.1653,
          0.569,
          0.1472,
          0.1561,
          0.0637,
          0.1636,
          0.0648,
          0.0734,
          0.0504,
          0.1361,
          0.2204,
          0.4361,
          0.2818
         ],
         "type": "bar",
         "x": [
          "vision_bonnet",
          "vision_bumper_front",
          "vision_door_front_rh",
          "vision_door_rear_rh",
          "vision_engine",
          "vision_fender_front_rh",
          "vision_front_panel",
          "vision_headlamp_rh",
          "vision_non_external",
          "vision_misc",
          "vision_wheel",
          "vision_windscreen_front",
          "vision_bumper_rear",
          "vision_rear_compartment",
          "vision_rear_panel",
          "vision_rear_quarter_rh",
          "vision_tail_lamp_rh",
          "vision_door_front_lh",
          "vision_door_rear_lh",
          "vision_rear_quarter_lh",
          "vision_tail_lamp_lh",
          "vision_fender_front_lh",
          "vision_headlamp_lh",
          "vision_grille"
         ],
         "y": [
          0.3658,
          0.6777,
          0.1031,
          0.0427,
          0.5438,
          0.2567,
          0.2609,
          0.4252,
          0.2895,
          0.6851,
          0.1474,
          0.1653,
          0.569,
          0.1472,
          0.1561,
          0.0637,
          0.1636,
          0.0648,
          0.0734,
          0.0504,
          0.1361,
          0.2204,
          0.4361,
          0.2818
         ]
        }
       ],
       "layout": {
        "shapes": [
         {
          "line": {
           "color": "red",
           "width": 2
          },
          "type": "line",
          "x0": 0,
          "x1": 1,
          "xref": "x domain",
          "y0": 0.263575,
          "y1": 0.263575,
          "yref": "y"
         }
        ],
        "template": {
         "data": {
          "bar": [
           {
            "error_x": {
             "color": "#2a3f5f"
            },
            "error_y": {
             "color": "#2a3f5f"
            },
            "marker": {
             "line": {
              "color": "#E5ECF6",
              "width": 0.5
             },
             "pattern": {
              "fillmode": "overlay",
              "size": 10,
              "solidity": 0.2
             }
            },
            "type": "bar"
           }
          ],
          "barpolar": [
           {
            "marker": {
             "line": {
              "color": "#E5ECF6",
              "width": 0.5
             },
             "pattern": {
              "fillmode": "overlay",
              "size": 10,
              "solidity": 0.2
             }
            },
            "type": "barpolar"
           }
          ],
          "carpet": [
           {
            "aaxis": {
             "endlinecolor": "#2a3f5f",
             "gridcolor": "white",
             "linecolor": "white",
             "minorgridcolor": "white",
             "startlinecolor": "#2a3f5f"
            },
            "baxis": {
             "endlinecolor": "#2a3f5f",
             "gridcolor": "white",
             "linecolor": "white",
             "minorgridcolor": "white",
             "startlinecolor": "#2a3f5f"
            },
            "type": "carpet"
           }
          ],
          "choropleth": [
           {
            "colorbar": {
             "outlinewidth": 0,
             "ticks": ""
            },
            "type": "choropleth"
           }
          ],
          "contour": [
           {
            "colorbar": {
             "outlinewidth": 0,
             "ticks": ""
            },
            "colorscale": [
             [
              0,
              "#0d0887"
             ],
             [
              0.1111111111111111,
              "#46039f"
             ],
             [
              0.2222222222222222,
              "#7201a8"
             ],
             [
              0.3333333333333333,
              "#9c179e"
             ],
             [
              0.4444444444444444,
              "#bd3786"
             ],
             [
              0.5555555555555556,
              "#d8576b"
             ],
             [
              0.6666666666666666,
              "#ed7953"
             ],
             [
              0.7777777777777778,
              "#fb9f3a"
             ],
             [
              0.8888888888888888,
              "#fdca26"
             ],
             [
              1,
              "#f0f921"
             ]
            ],
            "type": "contour"
           }
          ],
          "contourcarpet": [
           {
            "colorbar": {
             "outlinewidth": 0,
             "ticks": ""
            },
            "type": "contourcarpet"
           }
          ],
          "heatmap": [
           {
            "colorbar": {
             "outlinewidth": 0,
             "ticks": ""
            },
            "colorscale": [
             [
              0,
              "#0d0887"
             ],
             [
              0.1111111111111111,
              "#46039f"
             ],
             [
              0.2222222222222222,
              "#7201a8"
             ],
             [
              0.3333333333333333,
              "#9c179e"
             ],
             [
              0.4444444444444444,
              "#bd3786"
             ],
             [
              0.5555555555555556,
              "#d8576b"
             ],
             [
              0.6666666666666666,
              "#ed7953"
             ],
             [
              0.7777777777777778,
              "#fb9f3a"
             ],
             [
              0.8888888888888888,
              "#fdca26"
             ],
             [
              1,
              "#f0f921"
             ]
            ],
            "type": "heatmap"
           }
          ],
          "heatmapgl": [
           {
            "colorbar": {
             "outlinewidth": 0,
             "ticks": ""
            },
            "colorscale": [
             [
              0,
              "#0d0887"
             ],
             [
              0.1111111111111111,
              "#46039f"
             ],
             [
              0.2222222222222222,
              "#7201a8"
             ],
             [
              0.3333333333333333,
              "#9c179e"
             ],
             [
              0.4444444444444444,
              "#bd3786"
             ],
             [
              0.5555555555555556,
              "#d8576b"
             ],
             [
              0.6666666666666666,
              "#ed7953"
             ],
             [
              0.7777777777777778,
              "#fb9f3a"
             ],
             [
              0.8888888888888888,
              "#fdca26"
             ],
             [
              1,
              "#f0f921"
             ]
            ],
            "type": "heatmapgl"
           }
          ],
          "histogram": [
           {
            "marker": {
             "pattern": {
              "fillmode": "overlay",
              "size": 10,
              "solidity": 0.2
             }
            },
            "type": "histogram"
           }
          ],
          "histogram2d": [
           {
            "colorbar": {
             "outlinewidth": 0,
             "ticks": ""
            },
            "colorscale": [
             [
              0,
              "#0d0887"
             ],
             [
              0.1111111111111111,
              "#46039f"
             ],
             [
              0.2222222222222222,
              "#7201a8"
             ],
             [
              0.3333333333333333,
              "#9c179e"
             ],
             [
              0.4444444444444444,
              "#bd3786"
             ],
             [
              0.5555555555555556,
              "#d8576b"
             ],
             [
              0.6666666666666666,
              "#ed7953"
             ],
             [
              0.7777777777777778,
              "#fb9f3a"
             ],
             [
              0.8888888888888888,
              "#fdca26"
             ],
             [
              1,
              "#f0f921"
             ]
            ],
            "type": "histogram2d"
           }
          ],
          "histogram2dcontour": [
           {
            "colorbar": {
             "outlinewidth": 0,
             "ticks": ""
            },
            "colorscale": [
             [
              0,
              "#0d0887"
             ],
             [
              0.1111111111111111,
              "#46039f"
             ],
             [
              0.2222222222222222,
              "#7201a8"
             ],
             [
              0.3333333333333333,
              "#9c179e"
             ],
             [
              0.4444444444444444,
              "#bd3786"
             ],
             [
              0.5555555555555556,
              "#d8576b"
             ],
             [
              0.6666666666666666,
              "#ed7953"
             ],
             [
              0.7777777777777778,
              "#fb9f3a"
             ],
             [
              0.8888888888888888,
              "#fdca26"
             ],
             [
              1,
              "#f0f921"
             ]
            ],
            "type": "histogram2dcontour"
           }
          ],
          "mesh3d": [
           {
            "colorbar": {
             "outlinewidth": 0,
             "ticks": ""
            },
            "type": "mesh3d"
           }
          ],
          "parcoords": [
           {
            "line": {
             "colorbar": {
              "outlinewidth": 0,
              "ticks": ""
             }
            },
            "type": "parcoords"
           }
          ],
          "pie": [
           {
            "automargin": true,
            "type": "pie"
           }
          ],
          "scatter": [
           {
            "fillpattern": {
             "fillmode": "overlay",
             "size": 10,
             "solidity": 0.2
            },
            "type": "scatter"
           }
          ],
          "scatter3d": [
           {
            "line": {
             "colorbar": {
              "outlinewidth": 0,
              "ticks": ""
             }
            },
            "marker": {
             "colorbar": {
              "outlinewidth": 0,
              "ticks": ""
             }
            },
            "type": "scatter3d"
           }
          ],
          "scattercarpet": [
           {
            "marker": {
             "colorbar": {
              "outlinewidth": 0,
              "ticks": ""
             }
            },
            "type": "scattercarpet"
           }
          ],
          "scattergeo": [
           {
            "marker": {
             "colorbar": {
              "outlinewidth": 0,
              "ticks": ""
             }
            },
            "type": "scattergeo"
           }
          ],
          "scattergl": [
           {
            "marker": {
             "colorbar": {
              "outlinewidth": 0,
              "ticks": ""
             }
            },
            "type": "scattergl"
           }
          ],
          "scattermapbox": [
           {
            "marker": {
             "colorbar": {
              "outlinewidth": 0,
              "ticks": ""
             }
            },
            "type": "scattermapbox"
           }
          ],
          "scatterpolar": [
           {
            "marker": {
             "colorbar": {
              "outlinewidth": 0,
              "ticks": ""
             }
            },
            "type": "scatterpolar"
           }
          ],
          "scatterpolargl": [
           {
            "marker": {
             "colorbar": {
              "outlinewidth": 0,
              "ticks": ""
             }
            },
            "type": "scatterpolargl"
           }
          ],
          "scatterternary": [
           {
            "marker": {
             "colorbar": {
              "outlinewidth": 0,
              "ticks": ""
             }
            },
            "type": "scatterternary"
           }
          ],
          "surface": [
           {
            "colorbar": {
             "outlinewidth": 0,
             "ticks": ""
            },
            "colorscale": [
             [
              0,
              "#0d0887"
             ],
             [
              0.1111111111111111,
              "#46039f"
             ],
             [
              0.2222222222222222,
              "#7201a8"
             ],
             [
              0.3333333333333333,
              "#9c179e"
             ],
             [
              0.4444444444444444,
              "#bd3786"
             ],
             [
              0.5555555555555556,
              "#d8576b"
             ],
             [
              0.6666666666666666,
              "#ed7953"
             ],
             [
              0.7777777777777778,
              "#fb9f3a"
             ],
             [
              0.8888888888888888,
              "#fdca26"
             ],
             [
              1,
              "#f0f921"
             ]
            ],
            "type": "surface"
           }
          ],
          "table": [
           {
            "cells": {
             "fill": {
              "color": "#EBF0F8"
             },
             "line": {
              "color": "white"
             }
            },
            "header": {
             "fill": {
              "color": "#C8D4E3"
             },
             "line": {
              "color": "white"
             }
            },
            "type": "table"
           }
          ]
         },
         "layout": {
          "annotationdefaults": {
           "arrowcolor": "#2a3f5f",
           "arrowhead": 0,
           "arrowwidth": 1
          },
          "autotypenumbers": "strict",
          "coloraxis": {
           "colorbar": {
            "outlinewidth": 0,
            "ticks": ""
           }
          },
          "colorscale": {
           "diverging": [
            [
             0,
             "#8e0152"
            ],
            [
             0.1,
             "#c51b7d"
            ],
            [
             0.2,
             "#de77ae"
            ],
            [
             0.3,
             "#f1b6da"
            ],
            [
             0.4,
             "#fde0ef"
            ],
            [
             0.5,
             "#f7f7f7"
            ],
            [
             0.6,
             "#e6f5d0"
            ],
            [
             0.7,
             "#b8e186"
            ],
            [
             0.8,
             "#7fbc41"
            ],
            [
             0.9,
             "#4d9221"
            ],
            [
             1,
             "#276419"
            ]
           ],
           "sequential": [
            [
             0,
             "#0d0887"
            ],
            [
             0.1111111111111111,
             "#46039f"
            ],
            [
             0.2222222222222222,
             "#7201a8"
            ],
            [
             0.3333333333333333,
             "#9c179e"
            ],
            [
             0.4444444444444444,
             "#bd3786"
            ],
            [
             0.5555555555555556,
             "#d8576b"
            ],
            [
             0.6666666666666666,
             "#ed7953"
            ],
            [
             0.7777777777777778,
             "#fb9f3a"
            ],
            [
             0.8888888888888888,
             "#fdca26"
            ],
            [
             1,
             "#f0f921"
            ]
           ],
           "sequentialminus": [
            [
             0,
             "#0d0887"
            ],
            [
             0.1111111111111111,
             "#46039f"
            ],
            [
             0.2222222222222222,
             "#7201a8"
            ],
            [
             0.3333333333333333,
             "#9c179e"
            ],
            [
             0.4444444444444444,
             "#bd3786"
            ],
            [
             0.5555555555555556,
             "#d8576b"
            ],
            [
             0.6666666666666666,
             "#ed7953"
            ],
            [
             0.7777777777777778,
             "#fb9f3a"
            ],
            [
             0.8888888888888888,
             "#fdca26"
            ],
            [
             1,
             "#f0f921"
            ]
           ]
          },
          "colorway": [
           "#636efa",
           "#EF553B",
           "#00cc96",
           "#ab63fa",
           "#FFA15A",
           "#19d3f3",
           "#FF6692",
           "#B6E880",
           "#FF97FF",
           "#FECB52"
          ],
          "font": {
           "color": "#2a3f5f"
          },
          "geo": {
           "bgcolor": "white",
           "lakecolor": "white",
           "landcolor": "#E5ECF6",
           "showlakes": true,
           "showland": true,
           "subunitcolor": "white"
          },
          "hoverlabel": {
           "align": "left"
          },
          "hovermode": "closest",
          "mapbox": {
           "style": "light"
          },
          "paper_bgcolor": "white",
          "plot_bgcolor": "#E5ECF6",
          "polar": {
           "angularaxis": {
            "gridcolor": "white",
            "linecolor": "white",
            "ticks": ""
           },
           "bgcolor": "#E5ECF6",
           "radialaxis": {
            "gridcolor": "white",
            "linecolor": "white",
            "ticks": ""
           }
          },
          "scene": {
           "xaxis": {
            "backgroundcolor": "#E5ECF6",
            "gridcolor": "white",
            "gridwidth": 2,
            "linecolor": "white",
            "showbackground": true,
            "ticks": "",
            "zerolinecolor": "white"
           },
           "yaxis": {
            "backgroundcolor": "#E5ECF6",
            "gridcolor": "white",
            "gridwidth": 2,
            "linecolor": "white",
            "showbackground": true,
            "ticks": "",
            "zerolinecolor": "white"
           },
           "zaxis": {
            "backgroundcolor": "#E5ECF6",
            "gridcolor": "white",
            "gridwidth": 2,
            "linecolor": "white",
            "showbackground": true,
            "ticks": "",
            "zerolinecolor": "white"
           }
          },
          "shapedefaults": {
           "line": {
            "color": "#2a3f5f"
           }
          },
          "ternary": {
           "aaxis": {
            "gridcolor": "white",
            "linecolor": "white",
            "ticks": ""
           },
           "baxis": {
            "gridcolor": "white",
            "linecolor": "white",
            "ticks": ""
           },
           "bgcolor": "#E5ECF6",
           "caxis": {
            "gridcolor": "white",
            "linecolor": "white",
            "ticks": ""
           }
          },
          "title": {
           "x": 0.05
          },
          "xaxis": {
           "automargin": true,
           "gridcolor": "white",
           "linecolor": "white",
           "ticks": "",
           "title": {
            "standoff": 15
           },
           "zerolinecolor": "white",
           "zerolinewidth": 2
          },
          "yaxis": {
           "automargin": true,
           "gridcolor": "white",
           "linecolor": "white",
           "ticks": "",
           "title": {
            "standoff": 15
           },
           "zerolinecolor": "white",
           "zerolinewidth": 2
          }
         }
        },
        "title": {
         "text": "pred_pos_ratio",
         "x": 0.5
        },
        "yaxis": {
         "tickmode": "array",
         "tickvals": [
          "0.26",
          0.3,
          0.8
         ]
        }
       }
      }
     },
     "metadata": {},
     "output_type": "display_data"
    }
   ],
   "source": [
    "genVisMulitlabel(partEvalMetrics, \"pred_pos_ratio\")"
   ]
  },
  {
   "cell_type": "code",
   "execution_count": 177,
   "metadata": {},
   "outputs": [
    {
     "data": {
      "application/vnd.plotly.v1+json": {
       "config": {
        "plotlyServerURL": "https://plot.ly"
       },
       "data": [
        {
         "alignmentgroup": "True",
         "bingroup": "x",
         "hovertemplate": "subset_acc=%{x}<br>count=%{y}<extra></extra>",
         "legendgroup": "",
         "marker": {
          "color": "#636efa",
          "pattern": {
           "shape": ""
          }
         },
         "name": "",
         "offsetgroup": "",
         "orientation": "v",
         "showlegend": false,
         "type": "histogram",
         "x": [
          0.9166666666666666,
          0.875,
          0.75,
          0.7916666666666666,
          0.875,
          0.75,
          0.9166666666666666,
          0.8333333333333334,
          0.6666666666666666,
          0.9166666666666666,
          1,
          0.9166666666666666,
          0.7916666666666666,
          0.875,
          0.7916666666666666,
          0.9166666666666666,
          0.8333333333333334,
          0.8333333333333334,
          0.8333333333333334,
          0.75,
          0.875,
          0.8333333333333334,
          0.6666666666666666,
          0.8333333333333334,
          0.9583333333333334,
          0.7916666666666666,
          0.6666666666666666,
          0.7083333333333334,
          0.7916666666666666,
          0.9166666666666666,
          0.8333333333333334,
          0.9166666666666666,
          0.9583333333333334,
          0.875,
          0.875,
          0.9583333333333334,
          0.7916666666666666,
          0.6666666666666666,
          0.6666666666666666,
          0.8333333333333334,
          1,
          0.7083333333333334,
          0.875,
          0.875,
          0.7916666666666666,
          0.9166666666666666,
          0.8333333333333334,
          0.8333333333333334,
          0.8333333333333334,
          0.7083333333333334,
          0.9166666666666666,
          0.875,
          0.9166666666666666,
          0.875,
          0.8333333333333334,
          0.8333333333333334,
          0.8333333333333334,
          0.8333333333333334,
          0.875,
          0.7083333333333334,
          0.9583333333333334,
          0.9166666666666666,
          0.9166666666666666,
          0.7916666666666666,
          0.9166666666666666,
          0.875,
          0.875,
          0.7916666666666666,
          1,
          0.9166666666666666,
          0.7916666666666666,
          0.8333333333333334,
          0.5833333333333334,
          0.875,
          0.8333333333333334,
          0.7916666666666666,
          0.875,
          0.7916666666666666,
          0.9166666666666666,
          0.9166666666666666,
          0.875,
          0.875,
          0.7916666666666666,
          0.9166666666666666,
          0.875,
          0.7916666666666666,
          0.7916666666666666,
          0.9583333333333334,
          0.7916666666666666,
          0.75,
          0.6666666666666666,
          0.9583333333333334,
          0.7083333333333334,
          0.8333333333333334,
          0.8333333333333334,
          0.9583333333333334,
          0.8333333333333334,
          0.9166666666666666,
          0.75,
          0.9583333333333334,
          0.9583333333333334,
          0.8333333333333334,
          0.7083333333333334,
          0.875,
          0.7083333333333334,
          0.875,
          0.9166666666666666,
          0.75,
          0.625,
          0.9166666666666666,
          0.6666666666666666,
          0.9583333333333334,
          0.75,
          0.8333333333333334,
          0.7916666666666666,
          0.7916666666666666,
          0.5833333333333334,
          0.9166666666666666,
          0.9583333333333334,
          0.875,
          0.9583333333333334,
          0.875,
          0.9166666666666666,
          0.9583333333333334,
          0.8333333333333334,
          0.9166666666666666,
          0.875,
          0.875,
          0.75,
          0.875,
          0.7916666666666666,
          0.9166666666666666,
          0.9583333333333334,
          0.7916666666666666,
          0.875,
          0.8333333333333334,
          0.9166666666666666,
          0.75,
          0.9583333333333334,
          0.7916666666666666,
          0.9166666666666666,
          0.7916666666666666,
          0.875,
          0.75,
          0.875,
          0.8333333333333334,
          0.6666666666666666,
          0.6666666666666666,
          0.9166666666666666,
          0.7083333333333334,
          0.875,
          0.9583333333333334,
          0.875,
          0.7916666666666666,
          0.9583333333333334,
          0.9166666666666666,
          0.75,
          0.7916666666666666,
          0.8333333333333334,
          0.9166666666666666,
          0.75,
          0.7083333333333334,
          0.7916666666666666,
          0.9583333333333334,
          0.8333333333333334,
          0.875,
          0.8333333333333334,
          0.75,
          0.875,
          0.9166666666666666,
          0.875,
          0.8333333333333334,
          0.75,
          1,
          0.8333333333333334,
          0.9583333333333334,
          0.875,
          0.6666666666666666,
          0.75,
          0.7916666666666666,
          0.8333333333333334,
          0.9166666666666666,
          0.9166666666666666,
          0.875,
          0.7083333333333334,
          0.8333333333333334,
          0.875,
          0.9583333333333334,
          0.875,
          0.875,
          0.7083333333333334,
          0.9166666666666666,
          0.875,
          0.875,
          0.9166666666666666,
          0.875,
          1,
          0.9166666666666666,
          0.9583333333333334,
          0.875,
          0.9166666666666666,
          0.9166666666666666,
          0.7916666666666666,
          0.9583333333333334,
          1,
          0.9166666666666666,
          0.875,
          0.75,
          0.875,
          0.6666666666666666,
          0.75,
          0.875,
          1,
          0.9166666666666666,
          0.8333333333333334,
          0.9166666666666666,
          0.75,
          0.9583333333333334,
          0.9583333333333334,
          0.875,
          0.75,
          0.8333333333333334,
          0.7083333333333334,
          0.9583333333333334,
          0.8333333333333334,
          0.9583333333333334,
          0.8333333333333334,
          0.9583333333333334,
          0.7083333333333334,
          0.875,
          0.75,
          0.9166666666666666,
          0.875,
          0.8333333333333334,
          0.8333333333333334,
          0.75,
          0.8333333333333334,
          0.875,
          0.8333333333333334,
          0.7916666666666666,
          0.875,
          0.7083333333333334,
          0.8333333333333334,
          0.8333333333333334,
          0.8333333333333334,
          0.9583333333333334,
          0.875,
          0.7916666666666666,
          0.8333333333333334,
          0.875,
          0.9166666666666666,
          0.75,
          0.9583333333333334,
          0.9166666666666666,
          0.9583333333333334,
          0.8333333333333334,
          0.8333333333333334,
          0.9166666666666666,
          0.875,
          0.9166666666666666,
          0.875,
          0.8333333333333334,
          0.75,
          0.8333333333333334,
          0.9166666666666666,
          0.8333333333333334,
          0.8333333333333334,
          0.9583333333333334,
          0.9583333333333334,
          0.9583333333333334,
          0.9166666666666666,
          0.9583333333333334,
          0.8333333333333334,
          0.8333333333333334,
          0.8333333333333334,
          0.7916666666666666,
          0.875,
          1,
          0.7916666666666666,
          0.8333333333333334,
          0.8333333333333334,
          0.8333333333333334,
          0.9166666666666666,
          0.75,
          0.8333333333333334,
          0.8333333333333334,
          0.9166666666666666,
          0.875,
          1,
          0.8333333333333334,
          1,
          0.5833333333333334,
          0.875,
          0.8333333333333334,
          0.7916666666666666,
          0.875,
          0.9166666666666666,
          0.9166666666666666,
          0.9166666666666666,
          0.9166666666666666,
          0.7083333333333334,
          0.7916666666666666,
          0.9166666666666666,
          0.8333333333333334,
          0.8333333333333334,
          0.7916666666666666,
          0.9583333333333334,
          0.7083333333333334,
          0.875,
          0.9166666666666666,
          0.6666666666666666,
          0.8333333333333334,
          0.8333333333333334,
          0.875,
          0.875,
          0.875,
          0.625,
          0.7083333333333334,
          0.9166666666666666,
          0.9583333333333334,
          0.7916666666666666,
          0.9166666666666666,
          0.75,
          0.75,
          0.7083333333333334,
          0.9166666666666666,
          0.875,
          0.9166666666666666,
          0.875,
          0.9166666666666666,
          0.9583333333333334,
          0.75,
          1,
          0.875,
          0.8333333333333334,
          0.9166666666666666,
          0.9166666666666666,
          0.9166666666666666,
          0.875,
          0.7916666666666666,
          0.7916666666666666,
          0.9166666666666666,
          0.875,
          0.7916666666666666,
          0.8333333333333334,
          0.6666666666666666,
          0.9166666666666666,
          0.875,
          0.9166666666666666,
          0.8333333333333334,
          0.875,
          0.8333333333333334,
          0.7083333333333334,
          0.7916666666666666,
          0.7083333333333334,
          0.9166666666666666,
          1,
          0.8333333333333334,
          0.7916666666666666,
          0.75,
          0.7916666666666666,
          0.875,
          0.9166666666666666,
          0.9583333333333334,
          0.7083333333333334,
          0.625,
          0.875,
          0.9583333333333334,
          0.875,
          0.6666666666666666,
          0.9583333333333334,
          0.75,
          0.7083333333333334,
          0.9583333333333334,
          0.875,
          0.875,
          0.9166666666666666,
          0.7916666666666666,
          0.9583333333333334,
          0.9166666666666666,
          0.875,
          0.9166666666666666,
          0.9583333333333334,
          0.5833333333333334,
          0.9166666666666666,
          0.8333333333333334,
          0.9583333333333334,
          0.75,
          0.8333333333333334,
          0.9583333333333334,
          0.875,
          0.6666666666666666,
          0.875,
          0.8333333333333334,
          0.9166666666666666,
          1,
          0.9583333333333334,
          0.9583333333333334,
          0.9166666666666666,
          0.8333333333333334,
          0.875,
          0.875,
          0.8333333333333334,
          0.875,
          0.9583333333333334,
          0.8333333333333334,
          1,
          0.8333333333333334,
          0.8333333333333334,
          0.9583333333333334,
          0.8333333333333334,
          0.8333333333333334,
          0.7916666666666666,
          0.9166666666666666,
          0.8333333333333334,
          0.875,
          0.8333333333333334,
          0.9583333333333334,
          0.9583333333333334,
          0.9583333333333334,
          0.75,
          0.9583333333333334,
          0.9166666666666666,
          0.75,
          0.875,
          0.875,
          0.875,
          0.875,
          0.875,
          1,
          0.875,
          0.6666666666666666,
          0.875,
          0.9166666666666666,
          0.9166666666666666,
          0.875,
          0.7916666666666666,
          0.9166666666666666,
          0.9583333333333334,
          0.7916666666666666,
          0.875,
          0.8333333333333334,
          0.875,
          0.8333333333333334,
          0.875,
          0.7916666666666666,
          0.75,
          0.9583333333333334,
          0.875,
          0.875,
          0.75,
          0.9166666666666666,
          1,
          0.8333333333333334,
          0.75,
          0.875,
          0.8333333333333334,
          0.8333333333333334,
          0.875,
          0.8333333333333334,
          0.5833333333333334,
          0.7083333333333334,
          0.8333333333333334,
          0.9166666666666666,
          0.875,
          0.8333333333333334,
          0.9166666666666666,
          0.9166666666666666,
          0.9166666666666666,
          0.9166666666666666,
          0.9166666666666666,
          0.875,
          0.7083333333333334,
          0.75,
          0.9583333333333334,
          0.875,
          0.875,
          0.8333333333333334,
          0.7916666666666666,
          0.75,
          1,
          0.7916666666666666,
          0.875,
          0.875,
          1,
          0.875,
          0.7916666666666666,
          0.7916666666666666,
          0.9583333333333334,
          0.8333333333333334,
          0.8333333333333334,
          0.8333333333333334,
          0.8333333333333334,
          0.875,
          0.7916666666666666,
          0.9166666666666666,
          0.75,
          0.9166666666666666,
          0.7083333333333334,
          0.9583333333333334,
          0.7916666666666666,
          0.9166666666666666,
          0.8333333333333334,
          0.75,
          0.9166666666666666,
          0.875,
          0.7083333333333334,
          0.75,
          0.8333333333333334,
          0.75,
          0.9166666666666666,
          0.75,
          0.875,
          0.9166666666666666,
          0.75,
          0.75,
          0.9166666666666666,
          0.875,
          0.8333333333333334,
          0.5833333333333334,
          0.8333333333333334,
          0.7916666666666666,
          0.8333333333333334,
          0.7083333333333334,
          0.75,
          0.7916666666666666,
          0.9583333333333334,
          0.9583333333333334,
          0.8333333333333334,
          0.8333333333333334,
          0.8333333333333334,
          0.7916666666666666,
          0.75,
          0.7083333333333334,
          0.8333333333333334,
          0.875,
          0.7083333333333334,
          0.75,
          0.75,
          0.8333333333333334,
          0.7916666666666666,
          0.9166666666666666,
          0.8333333333333334,
          0.625,
          0.8333333333333334,
          0.9166666666666666,
          0.7083333333333334,
          0.75,
          0.7916666666666666,
          0.9583333333333334,
          0.8333333333333334,
          0.9583333333333334,
          0.875,
          0.7916666666666666,
          0.7916666666666666,
          0.8333333333333334,
          0.875,
          0.7916666666666666,
          0.9166666666666666,
          0.875,
          0.875,
          0.75,
          0.875,
          0.9583333333333334,
          0.875,
          0.6666666666666666,
          0.7916666666666666,
          0.75,
          0.75,
          0.9166666666666666,
          0.8333333333333334,
          0.8333333333333334,
          0.875,
          0.9583333333333334,
          0.9583333333333334,
          0.9166666666666666,
          0.875,
          0.9166666666666666,
          0.7916666666666666,
          0.75,
          0.9583333333333334,
          0.7916666666666666,
          0.8333333333333334,
          0.8333333333333334,
          0.875,
          0.7916666666666666,
          0.9583333333333334,
          0.9583333333333334,
          1,
          0.9583333333333334,
          0.7083333333333334,
          0.9166666666666666,
          0.75,
          0.8333333333333334,
          0.875,
          0.9166666666666666,
          0.9583333333333334,
          0.9166666666666666,
          0.8333333333333334,
          0.8333333333333334,
          0.875,
          0.7916666666666666,
          0.9583333333333334,
          0.875,
          1,
          0.9166666666666666,
          0.9166666666666666,
          0.875,
          1,
          0.75,
          0.8333333333333334,
          0.9166666666666666,
          0.7916666666666666,
          0.8333333333333334,
          0.9583333333333334,
          0.8333333333333334,
          0.8333333333333334,
          0.7916666666666666,
          0.9583333333333334,
          0.8333333333333334,
          0.875,
          0.875,
          0.9166666666666666,
          0.8333333333333334,
          0.875,
          0.8333333333333334,
          0.8333333333333334,
          0.875,
          0.9583333333333334,
          0.8333333333333334,
          0.7916666666666666,
          0.9166666666666666,
          0.7916666666666666,
          0.875,
          0.8333333333333334,
          0.7916666666666666,
          0.875,
          0.9166666666666666,
          0.9583333333333334,
          0.875,
          0.9166666666666666,
          0.6666666666666666,
          0.75,
          0.8333333333333334,
          0.9166666666666666,
          0.875,
          0.875,
          0.75,
          0.9166666666666666,
          0.7916666666666666,
          0.875,
          0.9166666666666666,
          0.8333333333333334,
          0.8333333333333334,
          0.875,
          0.5833333333333334,
          0.875,
          0.9166666666666666,
          0.875,
          0.7083333333333334,
          0.875,
          0.6666666666666666,
          1,
          0.75,
          0.875,
          0.9583333333333334,
          0.7916666666666666,
          0.9166666666666666,
          0.7916666666666666,
          0.7916666666666666,
          0.8333333333333334,
          0.8333333333333334,
          0.9166666666666666,
          0.875,
          0.9166666666666666,
          0.875,
          0.875,
          0.75,
          0.875,
          0.8333333333333334,
          0.8333333333333334,
          0.7083333333333334,
          0.875,
          0.8333333333333334,
          0.875,
          0.7916666666666666,
          0.875,
          0.9166666666666666,
          0.8333333333333334,
          0.9166666666666666,
          0.7916666666666666,
          0.9166666666666666,
          0.875,
          0.9166666666666666,
          0.8333333333333334,
          0.7916666666666666,
          0.9166666666666666,
          0.875,
          0.75,
          0.7916666666666666,
          0.875,
          0.9583333333333334,
          0.875,
          0.7916666666666666,
          0.875,
          0.875,
          0.8333333333333334,
          0.625,
          0.8333333333333334,
          0.875,
          0.9583333333333334,
          0.8333333333333334,
          0.9583333333333334,
          0.875,
          0.875,
          0.7916666666666666,
          0.7916666666666666,
          0.9583333333333334,
          0.875,
          0.9583333333333334,
          0.7916666666666666,
          0.9166666666666666,
          0.875,
          0.875,
          0.7083333333333334,
          0.875,
          0.8333333333333334,
          0.75,
          0.875,
          0.9583333333333334,
          0.7916666666666666,
          0.9583333333333334,
          0.9166666666666666,
          0.75,
          0.8333333333333334,
          1,
          0.875,
          0.8333333333333334,
          0.6666666666666666,
          0.7083333333333334,
          0.875,
          0.7083333333333334,
          0.7083333333333334,
          0.9166666666666666,
          0.875,
          0.8333333333333334,
          0.8333333333333334,
          0.9166666666666666,
          0.875,
          0.8333333333333334,
          0.7083333333333334,
          0.75,
          0.7083333333333334,
          0.8333333333333334,
          0.7083333333333334,
          0.875,
          0.7916666666666666,
          0.8333333333333334,
          0.9166666666666666,
          0.9166666666666666,
          0.75,
          0.8333333333333334,
          0.75,
          0.875,
          0.75,
          0.9583333333333334,
          0.8333333333333334,
          0.8333333333333334,
          0.9583333333333334,
          0.875,
          0.9583333333333334,
          0.8333333333333334,
          0.875,
          0.75,
          0.875,
          0.8333333333333334,
          0.875,
          0.8333333333333334,
          0.6666666666666666,
          1,
          0.7916666666666666,
          1,
          0.9166666666666666,
          0.7083333333333334,
          0.8333333333333334,
          0.9583333333333334,
          0.8333333333333334,
          0.625,
          0.9166666666666666,
          0.875,
          0.75,
          0.9583333333333334,
          0.875,
          0.8333333333333334,
          0.875,
          0.8333333333333334,
          0.9166666666666666,
          0.7916666666666666,
          0.8333333333333334,
          0.9166666666666666,
          0.9166666666666666,
          0.8333333333333334,
          0.875,
          0.75,
          0.9166666666666666,
          0.75,
          0.9583333333333334,
          0.9583333333333334,
          0.875,
          0.9166666666666666,
          0.7916666666666666,
          0.875,
          1,
          0.9166666666666666,
          0.8333333333333334,
          0.875,
          0.8333333333333334,
          0.8333333333333334,
          0.875,
          0.875,
          0.7916666666666666,
          0.7916666666666666,
          0.875,
          1,
          0.75,
          0.9583333333333334,
          0.9166666666666666,
          0.9166666666666666,
          0.9583333333333334,
          0.75,
          0.875,
          0.9583333333333334,
          0.8333333333333334,
          0.8333333333333334,
          0.7083333333333334,
          0.7916666666666666,
          0.8333333333333334,
          0.9166666666666666,
          0.875,
          0.9166666666666666,
          0.625,
          0.7916666666666666,
          0.9583333333333334,
          0.9166666666666666,
          0.75,
          0.9166666666666666,
          0.875,
          0.9166666666666666,
          0.7083333333333334,
          0.7916666666666666,
          0.6666666666666666,
          0.9166666666666666,
          0.8333333333333334,
          0.875,
          0.7916666666666666,
          0.7916666666666666,
          0.9583333333333334,
          0.9583333333333334,
          0.875,
          0.75,
          0.9166666666666666,
          0.875,
          0.6666666666666666,
          0.9166666666666666,
          0.6666666666666666,
          0.9166666666666666,
          0.875,
          0.875,
          0.75,
          0.875,
          0.9583333333333334,
          0.9583333333333334,
          0.9166666666666666,
          0.9166666666666666,
          0.875,
          0.875,
          0.75,
          0.75,
          0.875,
          0.875,
          0.5833333333333334,
          0.6666666666666666,
          0.9166666666666666,
          1,
          0.7083333333333334,
          0.8333333333333334,
          0.875,
          0.75,
          0.875,
          0.9166666666666666,
          0.9583333333333334,
          0.7916666666666666,
          0.7083333333333334,
          0.9166666666666666,
          0.7916666666666666,
          0.875,
          0.7916666666666666,
          0.8333333333333334,
          0.875,
          0.7083333333333334,
          0.9583333333333334,
          0.9166666666666666,
          0.875,
          0.8333333333333334,
          0.625,
          0.9166666666666666,
          1,
          0.9166666666666666,
          0.9166666666666666,
          0.875,
          0.9166666666666666,
          0.875,
          0.8333333333333334,
          0.6666666666666666,
          0.9583333333333334,
          0.8333333333333334,
          0.9166666666666666,
          0.7083333333333334,
          0.6666666666666666,
          0.8333333333333334,
          0.875,
          0.9166666666666666,
          0.9166666666666666,
          0.8333333333333334,
          0.875,
          0.7916666666666666,
          0.9583333333333334,
          0.9166666666666666,
          0.875,
          0.875,
          0.9166666666666666,
          0.9166666666666666,
          0.7916666666666666,
          0.9166666666666666,
          0.875,
          0.7083333333333334,
          0.9166666666666666,
          0.6666666666666666,
          0.875,
          0.7916666666666666,
          1,
          0.9166666666666666,
          0.8333333333333334,
          0.9583333333333334,
          0.8333333333333334,
          0.9583333333333334,
          0.7916666666666666,
          0.75,
          0.7916666666666666,
          1,
          0.7916666666666666,
          0.875,
          0.875,
          0.9583333333333334,
          0.7916666666666666,
          0.7916666666666666,
          0.875,
          0.8333333333333334,
          0.9166666666666666,
          0.875,
          0.9166666666666666,
          0.9583333333333334,
          0.75,
          0.7083333333333334,
          0.875,
          0.9166666666666666,
          0.7916666666666666,
          0.9583333333333334,
          0.75,
          0.875,
          0.9166666666666666,
          0.7916666666666666,
          0.9166666666666666,
          0.9166666666666666,
          0.7916666666666666,
          0.9166666666666666,
          0.7083333333333334,
          0.7916666666666666,
          0.8333333333333334,
          0.9166666666666666,
          0.875,
          0.75,
          0.7916666666666666,
          0.7916666666666666,
          0.5833333333333334,
          0.8333333333333334,
          0.8333333333333334,
          1,
          0.875,
          0.7916666666666666,
          0.875,
          0.9583333333333334,
          0.875,
          0.7083333333333334,
          0.9583333333333334,
          0.875,
          0.6666666666666666,
          0.75,
          0.8333333333333334,
          0.9166666666666666,
          0.875,
          0.75,
          0.8333333333333334,
          0.9166666666666666,
          0.9166666666666666,
          0.8333333333333334,
          0.8333333333333334,
          1,
          0.8333333333333334,
          0.9583333333333334,
          0.8333333333333334,
          0.9583333333333334,
          0.9583333333333334,
          0.8333333333333334,
          0.875,
          0.8333333333333334,
          0.9166666666666666,
          0.7916666666666666,
          0.9583333333333334,
          0.875,
          0.7916666666666666,
          0.5833333333333334,
          0.8333333333333334,
          0.625,
          0.9583333333333334,
          0.7083333333333334,
          0.75,
          0.7916666666666666,
          0.875,
          0.9166666666666666,
          0.9166666666666666,
          0.75,
          1,
          0.7916666666666666,
          0.6666666666666666,
          0.7916666666666666,
          0.9166666666666666,
          0.9166666666666666,
          0.9166666666666666,
          0.8333333333333334,
          0.9583333333333334,
          0.75,
          0.7083333333333334,
          0.8333333333333334,
          0.875,
          0.9583333333333334,
          0.8333333333333334,
          0.9583333333333334,
          0.875,
          0.9166666666666666,
          0.875,
          1,
          0.625,
          0.75,
          0.875,
          0.7916666666666666,
          0.9583333333333334,
          0.8333333333333334,
          0.8333333333333334,
          0.8333333333333334,
          0.9166666666666666,
          0.7916666666666666,
          0.8333333333333334,
          0.875,
          0.875,
          0.875,
          0.9583333333333334,
          0.875,
          0.7916666666666666,
          0.7916666666666666,
          0.9166666666666666,
          0.7916666666666666,
          0.9166666666666666,
          0.7916666666666666,
          0.7083333333333334,
          0.9166666666666666,
          0.5416666666666666,
          0.7916666666666666,
          0.8333333333333334,
          0.8333333333333334,
          0.8333333333333334,
          0.625,
          0.5,
          0.875,
          0.875,
          0.875,
          0.9166666666666666,
          0.7916666666666666,
          1,
          0.875,
          0.9583333333333334,
          0.7083333333333334,
          0.9166666666666666,
          0.875,
          0.7083333333333334,
          0.8333333333333334,
          0.875,
          0.9583333333333334,
          0.9583333333333334,
          0.7916666666666666,
          0.8333333333333334,
          0.9583333333333334,
          0.875,
          0.9166666666666666,
          0.9583333333333334,
          0.8333333333333334,
          0.9583333333333334,
          0.7916666666666666,
          0.9166666666666666,
          0.9583333333333334,
          0.75,
          0.875,
          0.875,
          0.875,
          0.7916666666666666,
          0.8333333333333334,
          0.9166666666666666,
          0.75,
          0.8333333333333334,
          0.8333333333333334,
          0.8333333333333334,
          0.9166666666666666,
          0.7916666666666666,
          0.8333333333333334,
          0.875,
          1,
          0.875,
          0.7083333333333334,
          0.875,
          0.7916666666666666,
          0.8333333333333334,
          0.7083333333333334,
          0.7916666666666666,
          0.8333333333333334,
          0.9583333333333334,
          0.9583333333333334,
          0.875,
          0.7916666666666666,
          0.9583333333333334,
          1,
          0.8333333333333334,
          0.7916666666666666,
          0.7916666666666666,
          0.875,
          0.9166666666666666,
          0.7916666666666666,
          0.7916666666666666,
          0.8333333333333334,
          0.9166666666666666,
          1,
          0.9166666666666666,
          0.75,
          0.875,
          0.7083333333333334,
          0.875,
          1,
          0.875,
          0.9583333333333334,
          0.875,
          0.8333333333333334,
          0.75,
          0.875,
          0.9166666666666666,
          0.9583333333333334,
          0.875,
          0.7083333333333334,
          0.9166666666666666,
          0.9166666666666666,
          0.8333333333333334,
          0.8333333333333334,
          0.875,
          0.6666666666666666,
          0.7916666666666666,
          0.7083333333333334,
          0.8333333333333334,
          0.8333333333333334,
          0.8333333333333334,
          0.9166666666666666,
          0.9583333333333334,
          0.6666666666666666,
          0.8333333333333334,
          0.875,
          0.9166666666666666,
          0.9166666666666666,
          0.8333333333333334,
          0.7916666666666666,
          0.875,
          0.9583333333333334,
          0.9166666666666666,
          0.875,
          0.875,
          0.9166666666666666,
          0.9166666666666666,
          0.875,
          0.8333333333333334,
          0.875,
          0.875,
          0.75,
          0.9583333333333334,
          0.8333333333333334,
          0.7916666666666666,
          0.75,
          0.6666666666666666,
          0.7916666666666666,
          0.875,
          0.9166666666666666,
          0.75,
          0.7916666666666666,
          0.9166666666666666,
          0.875,
          0.875,
          0.9583333333333334,
          0.7916666666666666,
          0.9166666666666666,
          0.9166666666666666,
          0.7916666666666666,
          0.7916666666666666,
          0.9583333333333334,
          0.7916666666666666,
          0.875,
          0.8333333333333334,
          0.875,
          0.7916666666666666,
          0.875,
          0.8333333333333334,
          0.875,
          0.8333333333333334,
          0.7916666666666666,
          0.9583333333333334,
          0.8333333333333334,
          0.75,
          0.7916666666666666,
          0.7916666666666666,
          0.9583333333333334,
          0.75,
          0.875,
          0.875,
          0.8333333333333334,
          0.9583333333333334,
          1,
          0.7916666666666666,
          0.9583333333333334,
          0.9166666666666666,
          0.8333333333333334,
          1,
          0.9583333333333334,
          0.9166666666666666,
          0.8333333333333334,
          0.8333333333333334,
          0.9583333333333334,
          0.7916666666666666,
          0.9166666666666666,
          0.8333333333333334,
          0.4166666666666667,
          0.875,
          0.9583333333333334,
          0.8333333333333334,
          0.8333333333333334,
          0.9166666666666666,
          0.9166666666666666,
          0.9166666666666666,
          0.75,
          0.875,
          0.9166666666666666,
          0.6666666666666666,
          0.9166666666666666,
          0.75,
          0.9583333333333334,
          0.9583333333333334,
          0.9166666666666666,
          0.875,
          0.875,
          0.9583333333333334,
          0.6666666666666666,
          0.875,
          0.7916666666666666,
          0.9166666666666666,
          0.7916666666666666,
          0.75,
          0.9583333333333334,
          0.6666666666666666,
          0.8333333333333334,
          0.75,
          0.9166666666666666,
          0.75,
          0.9166666666666666,
          0.7083333333333334,
          0.9583333333333334,
          0.875,
          0.7083333333333334,
          0.875,
          0.75,
          0.875,
          0.875,
          0.7916666666666666,
          1,
          0.8333333333333334,
          0.9166666666666666,
          0.875,
          0.875,
          0.8333333333333334,
          0.9166666666666666,
          0.875,
          0.5833333333333334,
          0.9583333333333334,
          1,
          0.7083333333333334,
          0.75,
          0.8333333333333334,
          0.7916666666666666,
          0.875,
          0.875,
          0.7083333333333334,
          1,
          0.8333333333333334,
          0.8333333333333334,
          0.875,
          0.9166666666666666,
          0.9166666666666666,
          0.9583333333333334,
          0.875,
          0.7083333333333334,
          0.8333333333333334,
          0.8333333333333334,
          0.875,
          0.6666666666666666,
          0.875,
          0.875,
          0.9583333333333334,
          0.8333333333333334,
          0.875,
          0.875,
          0.75,
          0.9166666666666666,
          0.875,
          0.875,
          0.875,
          0.8333333333333334,
          0.875,
          0.875,
          0.5833333333333334,
          0.75,
          0.8333333333333334,
          0.8333333333333334,
          0.9583333333333334,
          0.8333333333333334,
          0.875,
          0.875,
          1,
          0.75,
          0.7083333333333334,
          0.6666666666666666,
          0.8333333333333334,
          0.8333333333333334,
          0.8333333333333334,
          0.9166666666666666,
          0.8333333333333334,
          0.875,
          0.8333333333333334,
          0.5833333333333334,
          0.875,
          0.8333333333333334,
          1,
          0.9583333333333334,
          0.7916666666666666,
          0.8333333333333334,
          0.7083333333333334,
          0.8333333333333334,
          0.9583333333333334,
          0.5833333333333334,
          0.9583333333333334,
          0.9583333333333334,
          0.9583333333333334,
          0.875,
          0.875,
          0.8333333333333334,
          0.9583333333333334,
          0.7083333333333334,
          0.7916666666666666,
          0.9166666666666666,
          0.875,
          0.9166666666666666,
          0.875,
          0.7083333333333334,
          0.875,
          0.9583333333333334,
          0.6666666666666666,
          0.875,
          0.9583333333333334,
          0.875,
          0.9583333333333334,
          0.875,
          0.875,
          0.875,
          0.625,
          0.875,
          0.9166666666666666,
          0.75,
          0.75,
          0.75,
          0.875,
          1,
          0.9166666666666666,
          0.875,
          0.75,
          0.75,
          0.7916666666666666,
          0.7916666666666666,
          0.8333333333333334,
          0.875,
          0.9166666666666666,
          0.875,
          0.8333333333333334,
          0.9166666666666666,
          0.7916666666666666,
          0.875,
          1,
          0.7083333333333334,
          0.875,
          0.6666666666666666,
          0.875,
          0.8333333333333334,
          0.8333333333333334,
          0.9166666666666666,
          0.7916666666666666,
          0.7083333333333334,
          1,
          0.9166666666666666,
          0.9166666666666666,
          0.9166666666666666,
          0.7083333333333334,
          0.7083333333333334,
          1,
          0.9583333333333334,
          0.9166666666666666,
          0.9166666666666666,
          0.7916666666666666,
          0.8333333333333334,
          0.8333333333333334,
          0.8333333333333334,
          0.9166666666666666,
          0.8333333333333334,
          0.875,
          0.9166666666666666,
          0.875,
          0.7916666666666666,
          0.7916666666666666,
          0.7916666666666666,
          0.875,
          0.75,
          0.8333333333333334,
          0.7083333333333334,
          0.8333333333333334,
          0.9166666666666666,
          0.8333333333333334,
          0.9583333333333334,
          0.8333333333333334,
          0.9166666666666666,
          0.7916666666666666,
          0.875,
          0.875,
          0.875,
          0.8333333333333334,
          0.9166666666666666,
          0.9166666666666666,
          0.75,
          0.7916666666666666,
          0.9583333333333334,
          0.75,
          0.9583333333333334,
          0.8333333333333334,
          0.9583333333333334,
          0.9583333333333334,
          0.8333333333333334,
          0.9166666666666666,
          0.9583333333333334,
          0.7916666666666666,
          0.7916666666666666,
          0.8333333333333334,
          0.7083333333333334,
          0.8333333333333334,
          0.7916666666666666,
          0.8333333333333334,
          0.8333333333333334,
          0.75,
          0.8333333333333334,
          0.875,
          0.9166666666666666,
          0.7916666666666666,
          0.9166666666666666,
          0.9583333333333334,
          0.7916666666666666,
          0.8333333333333334,
          0.75,
          0.9166666666666666,
          0.625,
          0.7916666666666666,
          0.8333333333333334,
          0.9583333333333334,
          0.875,
          0.8333333333333334,
          0.8333333333333334,
          0.9583333333333334,
          0.875,
          0.875,
          0.875,
          0.7916666666666666,
          0.9166666666666666,
          0.7083333333333334,
          0.75,
          0.7916666666666666,
          0.7083333333333334,
          0.9583333333333334,
          0.7083333333333334,
          0.875,
          0.8333333333333334,
          0.8333333333333334,
          0.625,
          0.875,
          0.9166666666666666,
          0.875,
          0.8333333333333334,
          0.8333333333333334,
          0.8333333333333334,
          0.9166666666666666,
          0.9166666666666666,
          0.9166666666666666,
          0.875,
          1,
          0.9583333333333334,
          0.875,
          0.875,
          0.875,
          0.9166666666666666,
          0.9583333333333334,
          0.75,
          0.75,
          0.7916666666666666,
          0.7916666666666666,
          0.7916666666666666,
          0.9583333333333334,
          0.8333333333333334,
          0.75,
          0.7083333333333334,
          0.8333333333333334,
          0.7916666666666666,
          0.8333333333333334,
          0.8333333333333334,
          0.875,
          0.875,
          0.7083333333333334,
          0.8333333333333334,
          0.8333333333333334,
          0.875,
          0.75,
          0.8333333333333334,
          0.8333333333333334,
          0.9583333333333334,
          0.8333333333333334,
          0.8333333333333334,
          0.875,
          0.875,
          0.6666666666666666,
          0.8333333333333334,
          0.8333333333333334,
          0.8333333333333334,
          0.8333333333333334,
          0.75,
          0.875,
          0.8333333333333334,
          0.7083333333333334,
          0.9166666666666666,
          0.75,
          0.875,
          0.9583333333333334,
          0.875,
          0.875,
          0.875,
          0.9583333333333334,
          0.875,
          0.875,
          0.875,
          0.6666666666666666,
          0.7083333333333334,
          0.875,
          0.7083333333333334,
          0.9166666666666666,
          0.7916666666666666,
          0.7083333333333334,
          0.7916666666666666,
          0.8333333333333334,
          0.75,
          0.625,
          0.8333333333333334,
          0.7083333333333334,
          0.7916666666666666,
          0.8333333333333334,
          0.7083333333333334,
          0.7083333333333334,
          0.75,
          0.8333333333333334,
          0.7916666666666666,
          0.875,
          0.75,
          0.75,
          0.8333333333333334,
          0.8333333333333334,
          0.8333333333333334,
          0.8333333333333334,
          0.875,
          0.875,
          0.9166666666666666,
          0.9166666666666666,
          0.8333333333333334,
          0.7083333333333334,
          0.9583333333333334,
          0.875,
          0.9583333333333334,
          0.5833333333333334,
          0.75,
          0.8333333333333334,
          0.7916666666666666,
          0.8333333333333334,
          0.7916666666666666,
          0.8333333333333334,
          0.875,
          0.875,
          0.7916666666666666,
          0.8333333333333334,
          0.875,
          0.9583333333333334,
          0.7916666666666666,
          0.7083333333333334,
          0.8333333333333334,
          0.9583333333333334,
          0.9166666666666666,
          0.8333333333333334,
          0.7916666666666666,
          0.875,
          0.6666666666666666,
          0.9166666666666666,
          0.8333333333333334,
          0.875,
          0.7083333333333334,
          0.9166666666666666,
          0.9583333333333334,
          0.6666666666666666,
          0.875,
          0.875,
          0.8333333333333334,
          0.9583333333333334,
          0.7916666666666666,
          0.75,
          1,
          0.7083333333333334,
          0.7916666666666666,
          0.7083333333333334,
          0.75,
          0.8333333333333334,
          0.7916666666666666,
          0.5833333333333334,
          0.8333333333333334,
          0.8333333333333334,
          0.875,
          0.7916666666666666,
          0.8333333333333334,
          0.875,
          0.75,
          0.875,
          0.75,
          0.75,
          0.7916666666666666,
          0.8333333333333334,
          0.8333333333333334,
          0.6666666666666666,
          0.8333333333333334,
          0.8333333333333334,
          0.8333333333333334,
          0.8333333333333334,
          0.75,
          0.8333333333333334,
          0.875,
          0.75,
          0.7916666666666666,
          0.9166666666666666,
          0.8333333333333334,
          0.875,
          0.8333333333333334,
          0.875,
          0.875,
          0.9166666666666666,
          0.9166666666666666,
          0.75,
          0.8333333333333334,
          0.875,
          0.9166666666666666,
          0.8333333333333334,
          0.9166666666666666,
          0.8333333333333334,
          1,
          0.75,
          0.875,
          0.8333333333333334,
          0.9166666666666666,
          0.875,
          0.9583333333333334,
          0.875,
          0.8333333333333334,
          0.8333333333333334,
          0.7916666666666666,
          0.8333333333333334,
          0.8333333333333334,
          0.8333333333333334,
          0.875,
          0.7083333333333334,
          0.7916666666666666,
          0.9166666666666666,
          0.5416666666666666,
          0.9583333333333334,
          0.6666666666666666,
          0.7916666666666666,
          1,
          0.9166666666666666,
          0.8333333333333334,
          0.9583333333333334,
          0.875,
          0.8333333333333334,
          0.8333333333333334,
          0.875,
          0.7916666666666666,
          0.7916666666666666,
          0.625,
          0.75,
          0.875,
          0.875,
          0.8333333333333334,
          0.9166666666666666,
          0.875,
          0.75,
          0.9166666666666666,
          1,
          0.8333333333333334,
          0.8333333333333334,
          0.8333333333333334,
          0.9166666666666666,
          0.875,
          0.7083333333333334,
          0.8333333333333334,
          0.875,
          0.7916666666666666,
          0.9166666666666666,
          0.875,
          0.5,
          0.9166666666666666,
          0.9583333333333334,
          0.75,
          0.9583333333333334,
          0.9166666666666666,
          0.9166666666666666,
          0.75,
          0.8333333333333334,
          0.7083333333333334,
          1,
          0.6666666666666666,
          0.8333333333333334,
          0.8333333333333334,
          0.9166666666666666,
          0.875,
          0.8333333333333334,
          0.9583333333333334,
          0.8333333333333334,
          0.875,
          0.7916666666666666,
          0.9583333333333334,
          0.875,
          0.875,
          0.5833333333333334,
          0.7916666666666666,
          0.875,
          0.7083333333333334,
          0.7916666666666666,
          0.7916666666666666,
          0.8333333333333334,
          0.875,
          0.9166666666666666,
          0.9583333333333334,
          0.9583333333333334,
          0.8333333333333334,
          0.875,
          0.75,
          0.9166666666666666,
          0.8333333333333334,
          0.8333333333333334,
          0.9166666666666666,
          0.875,
          0.9166666666666666,
          0.875,
          0.875,
          0.8333333333333334,
          0.7916666666666666,
          0.8333333333333334,
          0.9166666666666666,
          0.7083333333333334,
          0.6666666666666666,
          0.8333333333333334,
          0.9166666666666666,
          0.75,
          0.9166666666666666,
          0.75,
          0.8333333333333334,
          0.8333333333333334,
          0.9166666666666666,
          0.75,
          0.7916666666666666,
          0.7916666666666666,
          0.875,
          0.875,
          0.875,
          0.8333333333333334,
          0.9166666666666666,
          0.9166666666666666,
          0.875,
          0.875,
          0.8333333333333334,
          0.75,
          0.7083333333333334,
          0.9583333333333334,
          0.9583333333333334,
          0.875,
          0.875,
          0.875,
          0.7083333333333334,
          0.7083333333333334,
          0.7916666666666666,
          0.875,
          0.6666666666666666,
          0.8333333333333334,
          0.9166666666666666,
          0.9166666666666666,
          0.875,
          0.625,
          0.875,
          0.5833333333333334,
          0.9166666666666666,
          0.9166666666666666,
          0.75,
          0.8333333333333334,
          0.8333333333333334,
          0.8333333333333334,
          0.75,
          0.8333333333333334,
          0.875,
          0.875,
          0.8333333333333334,
          0.8333333333333334,
          0.9166666666666666,
          0.875,
          0.875,
          0.875,
          0.6666666666666666,
          1,
          0.7916666666666666,
          0.7916666666666666,
          0.7916666666666666,
          0.875,
          0.75,
          0.75,
          0.8333333333333334,
          0.75,
          0.8333333333333334,
          0.75,
          0.8333333333333334,
          0.8333333333333334,
          0.9166666666666666,
          0.875,
          0.875,
          0.875,
          0.7916666666666666,
          0.9166666666666666,
          0.9583333333333334,
          0.6666666666666666,
          0.9583333333333334,
          0.875,
          0.75,
          0.9583333333333334,
          0.75,
          0.7916666666666666,
          0.7916666666666666,
          0.875,
          0.9583333333333334,
          0.7916666666666666,
          0.875,
          0.8333333333333334,
          0.8333333333333334,
          0.7916666666666666,
          0.9583333333333334,
          0.875,
          0.6666666666666666,
          0.75,
          0.8333333333333334,
          0.9166666666666666,
          0.4166666666666667,
          0.75,
          0.75,
          0.8333333333333334,
          0.7916666666666666,
          0.7083333333333334,
          0.75,
          0.875,
          0.6666666666666666,
          0.625,
          0.75,
          0.8333333333333334,
          0.75,
          0.9166666666666666,
          0.9166666666666666,
          0.625,
          0.6666666666666666,
          0.7916666666666666,
          0.8333333333333334,
          0.9166666666666666,
          0.875,
          0.8333333333333334,
          0.9583333333333334,
          0.75,
          0.9166666666666666,
          0.875,
          0.8333333333333334,
          0.9583333333333334,
          0.875,
          0.8333333333333334,
          0.7916666666666666,
          0.9166666666666666,
          0.8333333333333334,
          0.75,
          0.8333333333333334,
          0.8333333333333334,
          0.7083333333333334,
          0.7083333333333334,
          0.625,
          0.8333333333333334,
          0.9166666666666666,
          0.9166666666666666,
          0.9166666666666666,
          0.7916666666666666,
          0.9166666666666666,
          0.8333333333333334,
          0.8333333333333334,
          0.7916666666666666,
          0.8333333333333334,
          0.75,
          0.8333333333333334,
          0.875,
          0.625,
          0.7083333333333334,
          0.75,
          0.875,
          0.9166666666666666,
          0.7083333333333334,
          0.75,
          0.8333333333333334,
          0.875,
          0.8333333333333334,
          0.7916666666666666,
          0.875,
          0.9583333333333334,
          0.75,
          0.7083333333333334,
          0.9166666666666666,
          0.6666666666666666,
          0.7916666666666666,
          0.9166666666666666,
          0.7916666666666666,
          0.7083333333333334,
          0.875,
          0.875,
          0.8333333333333334,
          0.7916666666666666,
          0.625,
          0.875,
          0.6666666666666666,
          0.5833333333333334,
          0.8333333333333334,
          0.8333333333333334,
          0.7916666666666666,
          0.9166666666666666,
          0.7916666666666666,
          0.7083333333333334,
          0.8333333333333334,
          0.7916666666666666,
          0.7083333333333334,
          0.75,
          0.7083333333333334,
          0.75,
          0.875,
          0.7916666666666666,
          0.75,
          0.8333333333333334,
          0.5833333333333334,
          0.9583333333333334,
          0.7916666666666666,
          0.9166666666666666,
          0.8333333333333334,
          0.875,
          0.8333333333333334,
          0.7916666666666666,
          0.75,
          0.75,
          0.8333333333333334,
          0.875,
          0.7916666666666666,
          0.8333333333333334,
          0.875,
          0.9583333333333334,
          0.9583333333333334,
          0.9166666666666666,
          0.875,
          0.875,
          0.875,
          0.8333333333333334,
          0.9166666666666666,
          0.8333333333333334,
          0.7916666666666666,
          0.9166666666666666,
          0.8333333333333334,
          0.9166666666666666,
          0.625,
          0.9166666666666666,
          0.8333333333333334,
          0.9583333333333334,
          0.8333333333333334,
          0.8333333333333334,
          0.8333333333333334,
          0.8333333333333334,
          0.75,
          0.9166666666666666,
          0.8333333333333334,
          0.8333333333333334,
          0.9166666666666666,
          0.9166666666666666,
          0.7083333333333334,
          0.875,
          0.7916666666666666,
          0.75,
          0.8333333333333334,
          0.875,
          0.875,
          0.8333333333333334,
          0.9583333333333334,
          0.9166666666666666,
          0.9166666666666666,
          0.9166666666666666,
          0.8333333333333334,
          0.75,
          0.875,
          0.75,
          0.875,
          0.5833333333333334,
          0.9166666666666666,
          0.6666666666666666,
          0.875,
          0.8333333333333334,
          0.875,
          0.9583333333333334,
          0.7916666666666666,
          0.9166666666666666,
          0.7083333333333334,
          0.9166666666666666,
          0.75,
          0.8333333333333334,
          0.75,
          0.7916666666666666,
          0.875,
          0.875,
          0.8333333333333334,
          0.5416666666666666,
          0.875,
          0.9583333333333334,
          0.7916666666666666,
          0.9166666666666666,
          0.8333333333333334,
          0.7916666666666666,
          0.7916666666666666,
          0.9166666666666666,
          0.875,
          0.7916666666666666,
          0.6666666666666666,
          0.6666666666666666,
          0.7916666666666666,
          0.7916666666666666,
          0.7083333333333334,
          0.7083333333333334,
          0.8333333333333334,
          0.7916666666666666,
          0.5833333333333334,
          0.625,
          0.875,
          0.7083333333333334,
          0.7083333333333334,
          0.7916666666666666,
          0.8333333333333334,
          0.8333333333333334,
          0.7083333333333334,
          0.7916666666666666,
          0.8333333333333334,
          0.7916666666666666,
          1,
          0.7083333333333334,
          0.8333333333333334,
          0.875,
          0.8333333333333334,
          0.875,
          0.875,
          0.8333333333333334,
          0.9166666666666666,
          0.9583333333333334,
          0.8333333333333334,
          0.7916666666666666,
          0.7916666666666666,
          0.9583333333333334,
          0.7083333333333334,
          0.7916666666666666,
          0.9166666666666666,
          0.875,
          0.7083333333333334,
          0.8333333333333334,
          0.875,
          0.7916666666666666,
          0.8333333333333334,
          0.7916666666666666,
          0.875,
          0.9166666666666666,
          0.875,
          0.8333333333333334,
          0.75,
          0.9166666666666666,
          0.75,
          0.9583333333333334,
          0.7916666666666666,
          0.7916666666666666,
          0.625,
          0.7083333333333334,
          0.75,
          0.9166666666666666,
          0.6666666666666666,
          0.875,
          0.8333333333333334,
          0.875,
          0.7916666666666666,
          0.8333333333333334,
          0.8333333333333334,
          0.875,
          0.8333333333333334,
          0.9583333333333334,
          0.8333333333333334,
          0.875,
          0.9583333333333334,
          0.9583333333333334,
          0.75,
          0.9583333333333334,
          0.7916666666666666,
          0.9166666666666666,
          0.75,
          0.75,
          0.75,
          0.75,
          0.7083333333333334,
          0.8333333333333334,
          0.7916666666666666,
          0.875,
          0.9166666666666666,
          0.875,
          0.75,
          0.875,
          0.6666666666666666,
          0.6666666666666666,
          0.8333333333333334,
          0.625,
          0.9583333333333334,
          0.9583333333333334,
          0.8333333333333334,
          0.7083333333333334,
          0.625,
          0.9166666666666666,
          0.9166666666666666,
          0.7916666666666666,
          0.875,
          0.8333333333333334,
          0.9583333333333334,
          0.875,
          0.7083333333333334,
          0.9583333333333334,
          0.875,
          0.9166666666666666,
          0.7083333333333334,
          0.8333333333333334,
          0.875,
          0.9583333333333334,
          0.8333333333333334,
          0.9166666666666666,
          0.9583333333333334,
          0.75,
          0.7916666666666666,
          0.75,
          0.8333333333333334,
          0.9166666666666666,
          0.75,
          0.75,
          0.9583333333333334,
          0.7916666666666666,
          0.875,
          0.875,
          0.625,
          0.625,
          0.875,
          0.7083333333333334,
          0.75,
          0.9583333333333334,
          0.7916666666666666,
          0.75,
          0.9166666666666666,
          0.9583333333333334,
          0.7083333333333334,
          0.9166666666666666,
          0.75,
          0.75,
          0.9166666666666666,
          0.8333333333333334,
          0.7916666666666666,
          0.7083333333333334,
          0.75,
          0.75,
          0.875,
          0.8333333333333334,
          0.875,
          0.875,
          0.9166666666666666,
          0.8333333333333334,
          0.75,
          0.7916666666666666,
          0.9583333333333334,
          0.875,
          0.7916666666666666,
          0.8333333333333334,
          0.9583333333333334,
          0.875,
          0.875,
          0.875,
          0.75,
          0.875,
          0.75,
          0.8333333333333334,
          0.9166666666666666,
          0.8333333333333334,
          0.9583333333333334,
          0.9166666666666666,
          0.9583333333333334,
          0.7916666666666666,
          0.9166666666666666,
          0.7083333333333334,
          0.9166666666666666,
          0.8333333333333334,
          0.9166666666666666,
          0.9583333333333334,
          0.8333333333333334,
          0.875,
          0.9166666666666666,
          0.75,
          0.9166666666666666,
          0.6666666666666666,
          0.9166666666666666,
          0.75,
          0.7083333333333334,
          0.7916666666666666,
          0.7083333333333334,
          0.75,
          0.9166666666666666,
          0.8333333333333334,
          0.7916666666666666,
          0.9166666666666666,
          0.875,
          0.6666666666666666,
          0.875,
          0.9166666666666666,
          0.75,
          0.9583333333333334,
          0.7083333333333334,
          0.875,
          0.8333333333333334,
          0.7083333333333334,
          0.5416666666666666,
          0.75,
          0.875,
          0.9583333333333334,
          0.7083333333333334,
          0.9583333333333334,
          0.875,
          0.75,
          0.875,
          0.875,
          0.7916666666666666,
          0.8333333333333334,
          0.8333333333333334,
          0.6666666666666666,
          0.7083333333333334,
          0.875,
          0.8333333333333334,
          0.875,
          0.7916666666666666,
          0.8333333333333334,
          0.625,
          0.8333333333333334,
          0.7916666666666666,
          0.9583333333333334,
          0.7916666666666666,
          0.75,
          0.8333333333333334,
          0.8333333333333334,
          0.875,
          0.7916666666666666,
          0.8333333333333334,
          0.8333333333333334,
          0.9166666666666666,
          0.9583333333333334,
          0.875,
          0.875,
          0.875,
          0.7083333333333334,
          0.6666666666666666,
          0.6666666666666666,
          0.8333333333333334,
          0.875,
          0.7916666666666666,
          0.8333333333333334,
          0.75,
          0.875,
          0.75,
          0.9166666666666666,
          0.625,
          0.8333333333333334,
          0.8333333333333334,
          0.9583333333333334,
          0.875,
          0.625,
          0.7083333333333334,
          0.7916666666666666,
          0.8333333333333334,
          0.75,
          0.8333333333333334,
          0.9166666666666666,
          0.8333333333333334,
          0.7916666666666666,
          0.875,
          0.75,
          0.875,
          0.8333333333333334,
          0.75,
          0.7916666666666666,
          0.9166666666666666,
          0.875,
          0.7916666666666666,
          0.875,
          0.7083333333333334,
          0.7916666666666666,
          0.75,
          0.8333333333333334,
          0.875,
          0.7083333333333334,
          0.7083333333333334,
          0.875,
          0.9583333333333334,
          0.8333333333333334,
          0.9583333333333334,
          0.875,
          0.75,
          0.7916666666666666,
          0.75,
          0.8333333333333334,
          0.75,
          0.7916666666666666,
          0.6666666666666666,
          0.7916666666666666,
          0.8333333333333334,
          0.75,
          0.7083333333333334,
          0.7916666666666666,
          0.9166666666666666,
          0.9166666666666666,
          0.75,
          0.8333333333333334,
          0.7083333333333334,
          0.75,
          0.875,
          0.875,
          0.75,
          0.75,
          0.7083333333333334,
          0.75,
          0.75,
          0.9583333333333334,
          0.8333333333333334,
          0.9166666666666666,
          0.7916666666666666,
          0.75,
          0.75,
          0.75,
          0.75,
          0.9166666666666666,
          0.8333333333333334,
          0.7916666666666666,
          0.8333333333333334,
          0.9166666666666666,
          0.7916666666666666,
          0.7083333333333334,
          0.8333333333333334,
          0.7916666666666666,
          0.8333333333333334,
          0.8333333333333334,
          0.6666666666666666,
          0.8333333333333334,
          0.875,
          0.7916666666666666,
          0.7916666666666666,
          0.8333333333333334,
          0.6666666666666666,
          0.9166666666666666,
          0.8333333333333334,
          0.9166666666666666,
          0.9166666666666666,
          0.8333333333333334,
          0.7916666666666666,
          0.8333333333333334,
          0.7916666666666666,
          0.875,
          0.875,
          0.8333333333333334,
          0.8333333333333334,
          0.7916666666666666,
          1,
          0.9166666666666666,
          0.8333333333333334,
          0.7916666666666666,
          0.9583333333333334,
          0.6666666666666666,
          0.75,
          0.75,
          0.9166666666666666,
          0.75,
          0.9166666666666666,
          0.9166666666666666,
          0.9583333333333334,
          0.5833333333333334,
          0.9166666666666666,
          0.8333333333333334,
          0.7916666666666666,
          0.8333333333333334,
          0.9166666666666666,
          0.875,
          0.875,
          0.875,
          0.7083333333333334,
          0.7916666666666666,
          0.75,
          0.7916666666666666,
          0.875,
          0.9166666666666666,
          0.9583333333333334,
          0.7083333333333334,
          0.7916666666666666,
          0.9166666666666666,
          0.875,
          0.75,
          0.9166666666666666,
          0.75,
          0.9166666666666666,
          0.7083333333333334,
          0.7916666666666666,
          0.9166666666666666,
          0.8333333333333334,
          0.625,
          0.75,
          0.75,
          0.9166666666666666,
          0.8333333333333334,
          0.9166666666666666,
          0.75,
          0.8333333333333334,
          0.7083333333333334,
          0.7916666666666666,
          0.7916666666666666,
          0.7916666666666666,
          0.6666666666666666,
          0.8333333333333334,
          0.625,
          1,
          0.9166666666666666,
          0.9166666666666666,
          0.9166666666666666,
          0.75,
          0.9583333333333334,
          0.7916666666666666,
          0.9166666666666666,
          0.7916666666666666,
          0.7083333333333334,
          0.7083333333333334,
          0.9166666666666666,
          0.875,
          0.875,
          0.9166666666666666,
          0.9166666666666666,
          0.9583333333333334,
          0.875,
          0.8333333333333334,
          0.75,
          0.7916666666666666,
          0.9166666666666666,
          0.875,
          0.875,
          0.9166666666666666,
          0.8333333333333334,
          0.8333333333333334,
          0.75,
          0.7916666666666666,
          0.7916666666666666,
          0.75,
          0.8333333333333334,
          0.875,
          0.7916666666666666,
          0.8333333333333334,
          0.875,
          0.9166666666666666,
          0.875,
          0.875,
          0.8333333333333334,
          0.9166666666666666,
          0.875,
          0.875,
          0.9583333333333334,
          0.7083333333333334,
          0.875,
          0.875,
          0.7083333333333334,
          0.8333333333333334,
          0.7916666666666666,
          0.7916666666666666,
          0.9583333333333334,
          0.75,
          0.875,
          0.7916666666666666,
          0.75,
          0.8333333333333334,
          0.875,
          0.7083333333333334,
          0.7916666666666666,
          0.875,
          0.9166666666666666,
          0.875,
          0.75,
          0.9583333333333334,
          0.7916666666666666,
          0.8333333333333334,
          0.8333333333333334,
          0.875,
          0.875,
          0.875,
          0.75,
          0.8333333333333334,
          0.75,
          0.75,
          0.9166666666666666,
          0.7916666666666666,
          0.875,
          0.7916666666666666,
          0.7916666666666666,
          0.8333333333333334,
          0.7916666666666666,
          0.75,
          0.8333333333333334,
          0.625,
          0.8333333333333334,
          0.9166666666666666,
          0.6666666666666666,
          0.7916666666666666,
          0.625,
          0.75,
          0.7916666666666666,
          0.8333333333333334,
          0.8333333333333334,
          0.75,
          0.9166666666666666,
          0.875,
          0.9166666666666666,
          0.6666666666666666,
          0.75,
          0.6666666666666666,
          0.9583333333333334,
          0.75,
          0.8333333333333334,
          0.9166666666666666,
          0.75,
          0.8333333333333334,
          0.875,
          0.625,
          0.875,
          0.7916666666666666,
          0.75,
          0.75,
          0.9166666666666666,
          0.7916666666666666,
          0.75,
          0.7083333333333334,
          0.9166666666666666,
          0.9166666666666666,
          0.7916666666666666,
          0.9583333333333334,
          0.7916666666666666,
          0.7916666666666666,
          0.9166666666666666,
          0.875,
          0.75,
          0.75,
          0.8333333333333334,
          0.875,
          0.8333333333333334,
          0.7083333333333334,
          0.7916666666666666,
          0.9166666666666666,
          0.7916666666666666,
          0.875,
          0.875,
          0.7916666666666666,
          0.875,
          0.625,
          0.9583333333333334,
          0.9583333333333334,
          0.8333333333333334,
          0.75,
          0.9583333333333334,
          0.7916666666666666,
          0.7916666666666666,
          0.8333333333333334,
          0.9166666666666666,
          0.875,
          0.7916666666666666,
          0.8333333333333334,
          0.875,
          0.8333333333333334,
          0.875,
          0.875,
          0.6666666666666666,
          0.7083333333333334,
          0.9166666666666666,
          0.875,
          0.8333333333333334,
          0.7916666666666666,
          0.875,
          0.7916666666666666,
          0.9583333333333334,
          0.7916666666666666,
          0.7916666666666666,
          0.9583333333333334,
          0.7916666666666666,
          0.9166666666666666,
          0.875,
          0.9166666666666666,
          0.9166666666666666,
          0.75,
          0.9166666666666666,
          0.8333333333333334,
          0.7083333333333334,
          0.9166666666666666,
          0.8333333333333334,
          0.9583333333333334,
          0.7916666666666666,
          0.7916666666666666,
          0.625,
          0.7083333333333334,
          0.7083333333333334,
          0.6666666666666666,
          0.875,
          0.9166666666666666,
          0.9166666666666666,
          0.875,
          0.875,
          0.7916666666666666,
          1,
          0.75,
          0.8333333333333334,
          0.8333333333333334,
          0.7916666666666666,
          0.875,
          0.875,
          0.7916666666666666,
          0.875,
          0.9166666666666666,
          0.75,
          0.625,
          0.9583333333333334,
          0.7083333333333334,
          0.8333333333333334,
          0.9166666666666666,
          0.8333333333333334,
          0.8333333333333334,
          0.8333333333333334,
          0.875,
          0.8333333333333334,
          0.7916666666666666,
          0.8333333333333334,
          0.6666666666666666,
          0.5416666666666666,
          0.7916666666666666,
          0.875,
          0.75,
          0.75,
          0.7916666666666666,
          0.8333333333333334,
          0.6666666666666666,
          0.7916666666666666,
          0.9583333333333334,
          0.9166666666666666,
          0.9166666666666666,
          0.75,
          0.75,
          0.875,
          0.9166666666666666,
          0.7916666666666666,
          0.75,
          0.8333333333333334,
          0.75,
          0.7083333333333334,
          0.875,
          0.7916666666666666,
          0.7916666666666666,
          0.6666666666666666,
          0.875,
          0.7916666666666666,
          0.875,
          0.875,
          0.75,
          0.7916666666666666,
          0.75,
          0.7083333333333334,
          0.875,
          0.7916666666666666,
          0.9583333333333334,
          0.875,
          0.7916666666666666,
          0.8333333333333334,
          0.75,
          0.875,
          0.9166666666666666,
          0.75,
          0.875,
          0.9583333333333334,
          0.9583333333333334,
          0.7916666666666666,
          0.875,
          0.9583333333333334,
          0.7083333333333334,
          0.875,
          0.9583333333333334,
          0.9166666666666666,
          0.8333333333333334,
          0.7916666666666666,
          0.875,
          0.8333333333333334,
          0.875,
          0.7916666666666666,
          0.7916666666666666,
          0.5416666666666666,
          0.7916666666666666,
          0.9166666666666666,
          0.7916666666666666,
          0.875,
          0.8333333333333334,
          0.9166666666666666,
          0.9166666666666666,
          0.875,
          0.75,
          0.8333333333333334,
          0.8333333333333334,
          0.7916666666666666,
          0.8333333333333334,
          0.875,
          0.9166666666666666,
          0.875,
          0.9166666666666666,
          0.875,
          0.8333333333333334,
          0.7916666666666666,
          0.875,
          0.8333333333333334,
          0.875,
          0.9583333333333334,
          0.875,
          0.8333333333333334,
          0.8333333333333334,
          0.8333333333333334,
          0.8333333333333334,
          0.7916666666666666,
          0.9166666666666666,
          0.8333333333333334,
          0.8333333333333334,
          0.75,
          0.7916666666666666,
          0.9583333333333334,
          0.75,
          0.6666666666666666,
          0.7916666666666666,
          0.9166666666666666,
          0.9166666666666666,
          0.8333333333333334,
          0.9166666666666666,
          0.75,
          0.8333333333333334,
          0.875,
          0.7916666666666666,
          0.9583333333333334,
          0.875,
          0.7916666666666666,
          0.9583333333333334,
          0.9166666666666666,
          0.875,
          0.6666666666666666,
          0.8333333333333334,
          0.7916666666666666,
          0.75,
          0.875,
          0.9583333333333334,
          0.9166666666666666,
          0.9166666666666666,
          0.9166666666666666,
          0.75,
          0.9166666666666666,
          0.8333333333333334,
          0.8333333333333334,
          0.75,
          0.8333333333333334,
          0.8333333333333334,
          0.8333333333333334,
          0.875,
          0.9166666666666666,
          0.7916666666666666,
          1,
          0.75,
          0.875,
          0.7916666666666666,
          0.7916666666666666,
          0.7083333333333334,
          0.875,
          0.7083333333333334,
          0.875,
          0.8333333333333334,
          0.875,
          0.875,
          0.9166666666666666,
          0.875,
          0.875,
          0.875,
          0.875,
          0.8333333333333334,
          0.625,
          1,
          0.8333333333333334,
          1,
          0.8333333333333334,
          0.7916666666666666,
          0.875,
          0.9166666666666666,
          0.875,
          0.875,
          0.9583333333333334,
          0.625,
          0.875,
          0.875,
          0.7916666666666666,
          0.875,
          0.9166666666666666,
          0.8333333333333334,
          0.8333333333333334,
          0.8333333333333334,
          0.7916666666666666,
          0.9166666666666666,
          0.8333333333333334,
          0.7916666666666666,
          0.9166666666666666,
          0.9166666666666666,
          0.875,
          0.8333333333333334,
          0.8333333333333334,
          0.9166666666666666,
          0.625,
          0.7083333333333334,
          0.9166666666666666,
          0.7083333333333334,
          0.7083333333333334,
          0.875,
          0.9166666666666666,
          0.8333333333333334,
          0.875,
          0.8333333333333334,
          0.75,
          0.8333333333333334,
          0.9583333333333334,
          0.7916666666666666,
          0.7083333333333334,
          0.75,
          0.875,
          0.875,
          0.8333333333333334,
          0.7916666666666666,
          0.9166666666666666,
          0.9166666666666666,
          0.75,
          0.9583333333333334,
          0.75,
          0.75,
          0.7083333333333334,
          0.9166666666666666,
          0.6666666666666666,
          0.6666666666666666,
          0.625,
          0.875,
          0.7916666666666666,
          0.75,
          0.875,
          0.8333333333333334,
          0.7083333333333334,
          0.8333333333333334,
          0.875,
          0.9583333333333334,
          0.8333333333333334,
          0.875,
          0.8333333333333334,
          0.8333333333333334,
          0.7083333333333334,
          0.6666666666666666,
          0.7916666666666666,
          0.9166666666666666,
          0.875,
          0.7083333333333334,
          0.875,
          0.8333333333333334,
          0.7916666666666666,
          0.875,
          0.875,
          0.9166666666666666,
          0.875,
          0.7916666666666666,
          0.875,
          0.875,
          0.8333333333333334,
          0.875,
          0.8333333333333334,
          0.9166666666666666,
          0.875,
          0.7916666666666666,
          0.75,
          0.6666666666666666,
          0.7916666666666666,
          0.8333333333333334,
          0.8333333333333334,
          0.8333333333333334,
          0.7916666666666666,
          0.7916666666666666,
          0.9166666666666666,
          0.9583333333333334,
          0.8333333333333334,
          0.9166666666666666,
          0.8333333333333334,
          0.75,
          0.8333333333333334,
          0.7083333333333334,
          0.7916666666666666,
          0.875,
          0.8333333333333334,
          0.7916666666666666,
          0.7916666666666666,
          0.8333333333333334,
          0.8333333333333334,
          0.8333333333333334,
          0.875,
          0.875,
          0.9166666666666666,
          0.8333333333333334,
          0.875,
          0.8333333333333334,
          0.875,
          0.9166666666666666,
          0.8333333333333334,
          0.9166666666666666,
          0.8333333333333334,
          0.8333333333333334,
          0.9166666666666666,
          0.7916666666666666,
          0.75,
          0.8333333333333334,
          0.7916666666666666,
          0.8333333333333334,
          0.875,
          0.7083333333333334,
          0.8333333333333334,
          0.875,
          0.9583333333333334,
          0.9166666666666666,
          0.9166666666666666,
          0.8333333333333334,
          0.75,
          0.8333333333333334,
          0.7916666666666666,
          0.8333333333333334,
          0.875,
          0.6666666666666666,
          0.8333333333333334,
          0.7916666666666666,
          0.7083333333333334,
          0.9166666666666666,
          0.9166666666666666,
          0.7916666666666666,
          0.8333333333333334,
          0.7916666666666666,
          0.7916666666666666,
          0.7916666666666666,
          0.7916666666666666,
          0.7916666666666666,
          0.7916666666666666,
          0.6666666666666666,
          0.8333333333333334,
          0.9166666666666666,
          0.7916666666666666,
          0.7916666666666666,
          0.9166666666666666,
          0.875,
          0.9166666666666666,
          0.7916666666666666,
          0.625,
          0.9166666666666666,
          0.9583333333333334,
          0.8333333333333334,
          0.875,
          0.75,
          0.7916666666666666,
          0.8333333333333334,
          0.8333333333333334,
          0.875,
          0.75,
          0.7916666666666666,
          0.9583333333333334,
          0.7916666666666666,
          0.75,
          0.75,
          0.875,
          0.875,
          0.8333333333333334,
          0.7916666666666666,
          0.875,
          0.8333333333333334,
          0.9166666666666666,
          0.875,
          0.8333333333333334,
          0.9166666666666666,
          0.7916666666666666,
          0.9166666666666666,
          0.875,
          0.6666666666666666,
          0.875,
          0.9166666666666666,
          0.8333333333333334,
          0.875,
          0.9166666666666666,
          0.6666666666666666,
          0.875,
          0.7083333333333334,
          0.7916666666666666,
          0.9583333333333334,
          0.7083333333333334,
          0.9166666666666666,
          0.875,
          0.7916666666666666,
          0.625,
          0.9166666666666666,
          0.9166666666666666,
          0.8333333333333334,
          0.9583333333333334,
          0.7916666666666666,
          0.9166666666666666,
          0.9166666666666666,
          0.875,
          0.8333333333333334,
          0.875,
          0.8333333333333334,
          0.7916666666666666,
          0.7916666666666666,
          0.7916666666666666,
          0.7916666666666666,
          0.875,
          0.875,
          0.8333333333333334,
          0.7083333333333334,
          0.7916666666666666,
          0.9166666666666666,
          0.8333333333333334,
          0.9166666666666666,
          0.875,
          0.7916666666666666,
          0.7916666666666666,
          0.75,
          0.7916666666666666,
          0.7083333333333334,
          0.7916666666666666,
          0.75,
          0.9583333333333334,
          0.7916666666666666,
          0.7916666666666666,
          0.625,
          0.8333333333333334,
          0.9166666666666666,
          0.7916666666666666,
          0.8333333333333334,
          0.875,
          0.9166666666666666,
          0.7916666666666666,
          0.8333333333333334,
          0.875,
          0.875,
          0.8333333333333334,
          0.7916666666666666,
          0.7083333333333334,
          0.7916666666666666,
          0.875,
          0.7916666666666666,
          0.875,
          0.75,
          0.8333333333333334,
          0.75,
          0.7916666666666666,
          0.6666666666666666,
          0.9166666666666666,
          0.8333333333333334,
          0.8333333333333334,
          0.875,
          0.875,
          0.9583333333333334,
          0.875,
          0.8333333333333334,
          0.9166666666666666,
          0.875,
          0.9166666666666666,
          0.8333333333333334,
          0.875,
          0.9583333333333334,
          0.7916666666666666,
          0.8333333333333334,
          0.7916666666666666,
          0.875,
          0.875,
          0.9166666666666666,
          0.7916666666666666,
          0.875,
          0.8333333333333334,
          0.7916666666666666,
          0.625,
          0.8333333333333334,
          0.75,
          0.875,
          0.9583333333333334,
          0.8333333333333334,
          0.875,
          0.7916666666666666,
          0.625,
          0.9166666666666666,
          0.875,
          0.875,
          0.9166666666666666,
          0.7916666666666666,
          0.8333333333333334,
          0.75,
          0.9583333333333334,
          0.8333333333333334,
          0.7916666666666666,
          0.7916666666666666,
          0.7916666666666666,
          0.8333333333333334,
          0.875,
          0.7916666666666666,
          0.8333333333333334,
          0.6666666666666666,
          0.7916666666666666,
          0.6666666666666666,
          0.7916666666666666,
          0.9166666666666666,
          0.875,
          0.9583333333333334,
          0.7916666666666666,
          0.9583333333333334,
          0.8333333333333334,
          0.7916666666666666,
          0.875,
          0.875,
          0.8333333333333334,
          0.6666666666666666,
          0.8333333333333334,
          0.75,
          0.7916666666666666,
          0.75,
          0.875,
          0.875,
          0.7083333333333334,
          0.9583333333333334,
          0.8333333333333334,
          0.875,
          0.8333333333333334,
          0.7916666666666666,
          0.8333333333333334,
          0.875,
          0.9583333333333334,
          0.9166666666666666,
          0.8333333333333334,
          0.875,
          0.8333333333333334,
          0.8333333333333334,
          0.625,
          0.9166666666666666,
          0.7083333333333334,
          0.75,
          0.8333333333333334,
          0.875,
          0.8333333333333334,
          0.9166666666666666,
          0.7916666666666666,
          0.9166666666666666,
          0.8333333333333334,
          0.9166666666666666,
          0.7916666666666666,
          0.6666666666666666,
          0.7916666666666666,
          0.9166666666666666,
          0.9583333333333334,
          0.5833333333333334,
          0.75,
          0.7916666666666666,
          0.7916666666666666,
          0.8333333333333334,
          0.8333333333333334,
          0.9166666666666666,
          0.875,
          0.7916666666666666,
          0.875,
          0.75,
          0.625,
          0.875,
          0.875,
          0.9166666666666666,
          0.9166666666666666,
          0.9166666666666666,
          0.9583333333333334,
          0.8333333333333334,
          0.9166666666666666,
          0.875,
          0.9583333333333334,
          0.9583333333333334,
          0.7916666666666666,
          0.7916666666666666,
          0.9166666666666666,
          0.9166666666666666,
          1,
          0.7916666666666666,
          0.7916666666666666,
          0.875,
          0.875,
          0.875,
          0.9583333333333334,
          0.8333333333333334,
          0.8333333333333334,
          0.875,
          0.9166666666666666,
          0.7083333333333334,
          0.75,
          0.7916666666666666,
          0.9166666666666666,
          0.875,
          0.7916666666666666,
          0.5,
          0.8333333333333334,
          0.9166666666666666,
          0.7916666666666666,
          0.875,
          0.875,
          0.9166666666666666,
          0.9166666666666666,
          0.75,
          0.8333333333333334,
          0.9166666666666666,
          0.7916666666666666,
          0.8333333333333334,
          0.9166666666666666,
          0.875,
          0.6666666666666666,
          0.75,
          0.8333333333333334,
          0.9166666666666666,
          0.8333333333333334,
          0.7916666666666666,
          0.9166666666666666,
          0.75,
          0.9166666666666666,
          0.8333333333333334,
          0.8333333333333334,
          0.9166666666666666,
          0.7083333333333334,
          0.7083333333333334,
          0.6666666666666666,
          0.8333333333333334,
          0.9166666666666666,
          0.9166666666666666,
          0.7916666666666666,
          0.8333333333333334,
          0.8333333333333334,
          0.75,
          0.7916666666666666,
          0.7083333333333334,
          0.6666666666666666,
          0.75,
          0.6666666666666666,
          0.875,
          0.7916666666666666,
          0.7916666666666666,
          0.7916666666666666,
          0.9166666666666666,
          0.8333333333333334,
          0.7916666666666666,
          0.875,
          0.7916666666666666,
          0.9166666666666666,
          0.875,
          0.7916666666666666,
          0.8333333333333334,
          0.875,
          0.7916666666666666,
          0.7916666666666666,
          0.7916666666666666,
          0.875,
          0.75,
          0.875,
          0.625,
          0.75,
          0.875,
          0.875,
          0.5416666666666666,
          0.8333333333333334,
          0.9166666666666666,
          0.9583333333333334,
          0.875,
          0.8333333333333334,
          0.9166666666666666,
          0.75,
          0.8333333333333334,
          0.875,
          0.75,
          0.9583333333333334,
          0.8333333333333334,
          0.7916666666666666,
          0.875,
          0.7916666666666666,
          0.9166666666666666,
          1,
          0.875,
          0.9166666666666666,
          0.8333333333333334,
          1,
          0.7916666666666666,
          0.7083333333333334,
          0.875,
          0.75,
          0.9166666666666666,
          0.6666666666666666,
          0.75,
          0.9583333333333334,
          0.9583333333333334,
          0.7083333333333334,
          0.7916666666666666,
          0.7916666666666666,
          0.8333333333333334,
          0.9166666666666666,
          0.9166666666666666,
          0.9166666666666666,
          0.875,
          0.9583333333333334,
          0.8333333333333334,
          0.9166666666666666,
          0.9583333333333334,
          0.875,
          0.875,
          0.75,
          0.8333333333333334,
          0.8333333333333334,
          1,
          0.9583333333333334,
          0.9583333333333334,
          0.9583333333333334,
          0.8333333333333334,
          0.875,
          0.9166666666666666,
          0.875,
          0.875,
          0.875,
          0.9166666666666666,
          0.8333333333333334,
          0.8333333333333334,
          0.9166666666666666,
          0.75,
          0.7083333333333334,
          0.8333333333333334,
          0.9583333333333334,
          0.7916666666666666,
          0.9166666666666666,
          0.9166666666666666,
          0.9166666666666666,
          0.875,
          0.875,
          0.8333333333333334,
          0.8333333333333334,
          0.9583333333333334,
          0.625,
          0.9166666666666666,
          0.8333333333333334,
          0.9583333333333334,
          0.9166666666666666,
          0.625,
          0.75,
          0.5833333333333334,
          0.8333333333333334,
          0.875,
          0.9583333333333334,
          0.875,
          0.875,
          0.9583333333333334,
          0.8333333333333334,
          0.875,
          0.875,
          0.9583333333333334,
          0.8333333333333334,
          0.8333333333333334,
          0.7916666666666666,
          0.9583333333333334,
          0.75,
          0.7916666666666666,
          0.9583333333333334,
          0.75,
          0.6666666666666666,
          0.9166666666666666,
          0.875,
          0.875,
          0.875,
          0.875,
          0.7916666666666666,
          0.7916666666666666,
          0.8333333333333334,
          0.7916666666666666,
          0.875,
          0.875,
          0.875,
          0.875,
          0.8333333333333334,
          0.7916666666666666,
          0.8333333333333334,
          0.8333333333333334,
          0.875,
          0.75,
          0.75,
          0.8333333333333334,
          0.8333333333333334,
          0.9166666666666666,
          0.75,
          0.875,
          0.875,
          0.3333333333333333,
          0.7916666666666666,
          0.875,
          0.6666666666666666,
          0.7916666666666666,
          0.7916666666666666,
          0.9166666666666666,
          0.75,
          0.9166666666666666,
          0.9166666666666666,
          0.8333333333333334,
          0.9166666666666666,
          0.75,
          0.875,
          0.9583333333333334,
          0.9583333333333334,
          0.9166666666666666,
          0.8333333333333334,
          0.8333333333333334,
          0.875,
          0.875,
          0.75,
          0.9166666666666666,
          0.875,
          0.875,
          0.875,
          1,
          0.7916666666666666,
          0.8333333333333334,
          0.9583333333333334,
          0.9583333333333334,
          0.8333333333333334,
          0.875,
          0.9583333333333334,
          0.9166666666666666,
          0.8333333333333334,
          0.8333333333333334,
          1,
          0.9166666666666666,
          0.9583333333333334,
          0.875,
          0.9166666666666666,
          0.7916666666666666,
          0.875,
          0.9166666666666666,
          0.875,
          1,
          0.9583333333333334,
          0.9166666666666666,
          0.875,
          0.7916666666666666,
          0.875,
          0.8333333333333334,
          0.875,
          0.9583333333333334,
          0.7916666666666666,
          0.6666666666666666,
          0.875,
          0.9166666666666666,
          0.9583333333333334,
          0.9166666666666666,
          0.9166666666666666,
          0.9583333333333334,
          0.7083333333333334,
          0.9583333333333334,
          0.9166666666666666,
          1,
          0.875,
          0.8333333333333334,
          0.7916666666666666,
          0.9583333333333334,
          0.875,
          0.8333333333333334,
          0.8333333333333334,
          0.8333333333333334,
          0.7916666666666666,
          0.9166666666666666,
          0.9166666666666666,
          0.7916666666666666,
          0.875,
          0.9583333333333334,
          0.875,
          0.8333333333333334,
          0.875,
          0.75,
          1,
          1,
          1,
          0.875,
          0.875,
          1,
          1,
          0.875,
          0.9166666666666666,
          0.7916666666666666,
          0.9583333333333334,
          0.8333333333333334,
          0.7083333333333334,
          0.875,
          0.875,
          0.8333333333333334,
          0.7083333333333334,
          0.9583333333333334,
          0.875,
          0.9583333333333334,
          0.9166666666666666,
          0.7083333333333334,
          0.875,
          0.875,
          0.9583333333333334,
          0.875,
          0.875,
          0.9583333333333334,
          0.875,
          0.8333333333333334,
          1,
          0.9583333333333334,
          0.9166666666666666,
          0.8333333333333334,
          0.75,
          0.7916666666666666,
          0.8333333333333334,
          0.9166666666666666,
          0.9166666666666666,
          0.9166666666666666,
          1,
          0.875,
          0.75,
          0.875,
          0.7916666666666666,
          0.9583333333333334,
          0.875,
          0.9166666666666666,
          0.875,
          0.875,
          0.8333333333333334,
          1,
          0.9166666666666666,
          0.9583333333333334,
          0.9166666666666666,
          1,
          0.75,
          0.7083333333333334,
          0.875,
          0.9583333333333334,
          1,
          0.9583333333333334,
          0.75,
          0.9583333333333334,
          0.7083333333333334,
          0.9166666666666666,
          1,
          0.75,
          0.9166666666666666,
          0.9583333333333334,
          1,
          0.8333333333333334,
          0.8333333333333334,
          0.9166666666666666,
          0.6666666666666666,
          0.875,
          0.875,
          0.75,
          0.8333333333333334,
          0.9166666666666666,
          0.875,
          0.9166666666666666,
          0.875,
          0.9166666666666666,
          0.7083333333333334,
          0.8333333333333334,
          0.8333333333333334,
          0.9166666666666666,
          0.875,
          0.875,
          0.9166666666666666,
          0.8333333333333334,
          0.8333333333333334,
          0.9166666666666666,
          0.7916666666666666,
          1,
          0.7916666666666666,
          1,
          1,
          0.9583333333333334,
          0.9583333333333334,
          0.9583333333333334,
          0.9583333333333334,
          0.9583333333333334,
          0.875,
          0.875,
          1,
          0.9583333333333334,
          0.9583333333333334,
          0.9583333333333334,
          0.75,
          0.9583333333333334,
          0.9166666666666666,
          0.9583333333333334,
          0.7083333333333334,
          0.9166666666666666,
          0.8333333333333334,
          0.9166666666666666,
          0.9166666666666666,
          0.875,
          0.9166666666666666,
          0.9166666666666666,
          0.75,
          0.7083333333333334,
          0.8333333333333334,
          0.9583333333333334,
          0.875,
          0.8333333333333334,
          0.875,
          0.875,
          0.9166666666666666,
          0.8333333333333334,
          0.875,
          0.9583333333333334,
          0.9583333333333334,
          0.9166666666666666,
          0.9583333333333334,
          0.6666666666666666,
          0.9166666666666666,
          0.9166666666666666,
          0.9583333333333334,
          0.8333333333333334,
          0.9583333333333334,
          0.7916666666666666,
          0.9166666666666666,
          0.9583333333333334,
          0.875,
          0.9166666666666666,
          0.8333333333333334,
          0.7916666666666666,
          0.7083333333333334,
          0.8333333333333334,
          0.9583333333333334,
          0.875,
          1,
          0.9166666666666666,
          0.9583333333333334,
          0.875,
          0.9583333333333334,
          0.875,
          0.75,
          0.9166666666666666,
          0.7916666666666666,
          0.8333333333333334,
          0.875,
          0.9583333333333334,
          0.9583333333333334,
          0.75,
          0.9583333333333334,
          1,
          0.875,
          0.7916666666666666,
          0.9166666666666666,
          0.8333333333333334,
          0.75,
          0.9583333333333334,
          0.9583333333333334,
          0.9166666666666666,
          0.7916666666666666,
          1,
          0.7916666666666666,
          0.9166666666666666,
          0.75,
          0.875,
          0.7916666666666666,
          0.9166666666666666,
          0.875,
          0.7916666666666666,
          0.8333333333333334,
          0.7916666666666666,
          0.8333333333333334,
          0.875,
          0.7083333333333334,
          0.9583333333333334,
          0.7083333333333334,
          0.9583333333333334,
          0.7916666666666666,
          0.8333333333333334,
          0.875,
          0.75,
          0.8333333333333334,
          0.75,
          0.7916666666666666,
          0.9583333333333334,
          0.75,
          0.8333333333333334,
          0.875,
          0.9166666666666666,
          1,
          0.8333333333333334,
          0.8333333333333334,
          0.875,
          1,
          0.875,
          0.8333333333333334,
          0.8333333333333334,
          0.9166666666666666,
          0.875,
          0.875,
          0.75,
          0.9166666666666666,
          0.875,
          0.9583333333333334,
          0.875,
          1,
          0.9166666666666666,
          0.875,
          1,
          0.9166666666666666,
          0.9166666666666666,
          0.8333333333333334,
          0.875,
          0.9166666666666666,
          0.9583333333333334,
          0.875,
          0.9166666666666666,
          0.9583333333333334,
          0.875,
          0.9583333333333334,
          0.3333333333333333,
          0.9166666666666666,
          0.8333333333333334,
          0.8333333333333334,
          0.9166666666666666,
          0.9583333333333334,
          0.875,
          0.9166666666666666,
          0.8333333333333334,
          0.9166666666666666,
          0.9583333333333334,
          0.625,
          1,
          0.9583333333333334,
          0.75,
          0.9583333333333334,
          0.75,
          0.9166666666666666,
          0.875,
          0.875,
          0.9166666666666666,
          0.9166666666666666,
          0.7916666666666666,
          0.9166666666666666,
          0.875,
          0.9166666666666666,
          0.9583333333333334,
          0.9166666666666666,
          0.75,
          0.875,
          0.9166666666666666,
          1,
          0.9166666666666666,
          0.9583333333333334,
          0.9166666666666666,
          0.8333333333333334,
          0.8333333333333334,
          0.875,
          0.875,
          0.875,
          0.8333333333333334,
          1,
          0.9166666666666666,
          1,
          0.9583333333333334,
          0.875,
          0.8333333333333334,
          0.8333333333333334,
          0.75,
          0.9166666666666666,
          0.9583333333333334,
          0.9166666666666666,
          0.875,
          0.875,
          0.9166666666666666,
          0.9166666666666666,
          0.875,
          0.8333333333333334,
          0.9166666666666666,
          0.9583333333333334,
          0.9583333333333334,
          0.875,
          0.9583333333333334,
          1,
          0.9166666666666666,
          0.9166666666666666,
          0.9583333333333334,
          0.9166666666666666,
          0.9166666666666666,
          1,
          0.8333333333333334,
          0.9166666666666666,
          0.7916666666666666,
          0.875,
          1,
          0.9166666666666666,
          0.7083333333333334,
          0.8333333333333334,
          0.9583333333333334,
          0.7916666666666666,
          0.9166666666666666,
          0.75,
          1,
          0.9166666666666666,
          0.875,
          0.875,
          0.9166666666666666,
          0.9166666666666666,
          1,
          0.7916666666666666,
          1,
          0.9166666666666666,
          0.875,
          0.375,
          0.9166666666666666,
          0.8333333333333334,
          0.9166666666666666,
          0.5416666666666666,
          0.8333333333333334,
          0.9166666666666666,
          0.9166666666666666,
          0.875,
          0.7083333333333334,
          0.9583333333333334,
          0.7916666666666666,
          0.7916666666666666,
          0.9166666666666666,
          0.8333333333333334,
          0.875,
          0.875,
          0.7916666666666666,
          0.875,
          0.8333333333333334,
          0.9166666666666666,
          0.8333333333333334,
          0.8333333333333334,
          0.625,
          0.875,
          0.7916666666666666,
          0.875,
          0.9583333333333334,
          0.9583333333333334,
          0.875,
          0.9583333333333334,
          1,
          0.9583333333333334,
          0.9166666666666666,
          0.9583333333333334,
          0.875,
          0.75,
          0.9166666666666666,
          0.9583333333333334,
          0.875,
          0.8333333333333334,
          0.8333333333333334,
          0.875,
          0.9166666666666666,
          0.875,
          0.9166666666666666,
          1,
          0.875,
          0.7916666666666666,
          0.9166666666666666,
          0.75,
          0.8333333333333334,
          0.875,
          0.9166666666666666,
          0.8333333333333334,
          0.9166666666666666,
          0.8333333333333334,
          0.9583333333333334,
          0.9583333333333334,
          0.875,
          0.8333333333333334,
          0.9583333333333334,
          0.8333333333333334,
          0.75,
          0.9583333333333334,
          0.9583333333333334,
          0.9166666666666666,
          0.8333333333333334,
          0.375,
          0.9166666666666666,
          0.8333333333333334,
          1,
          0.7916666666666666,
          0.9166666666666666,
          0.875,
          1,
          0.9166666666666666,
          1,
          0.9583333333333334,
          0.9166666666666666,
          0.6666666666666666,
          0.9166666666666666,
          0.8333333333333334,
          0.8333333333333334,
          0.7916666666666666,
          0.9166666666666666,
          0.875,
          0.875,
          0.9583333333333334,
          0.875,
          0.75,
          0.9583333333333334,
          0.875,
          0.8333333333333334,
          0.8333333333333334,
          0.875,
          0.9583333333333334,
          0.8333333333333334,
          0.75,
          0.9166666666666666,
          1,
          0.9583333333333334,
          0.875,
          0.9583333333333334,
          0.9166666666666666,
          0.9583333333333334,
          0.75,
          0.9583333333333334,
          0.9166666666666666,
          0.875,
          0.9166666666666666,
          0.75,
          0.75,
          0.875,
          0.75,
          0.9166666666666666,
          0.7083333333333334,
          0.7916666666666666,
          0.7916666666666666,
          0.875,
          0.8333333333333334,
          0.875,
          0.9166666666666666,
          0.8333333333333334,
          0.9166666666666666,
          0.9583333333333334,
          0.9166666666666666,
          0.875,
          0.875,
          0.875,
          0.7916666666666666,
          0.8333333333333334,
          0.875,
          0.9583333333333334,
          0.8333333333333334,
          0.8333333333333334,
          0.8333333333333334,
          0.9583333333333334,
          0.8333333333333334,
          0.9166666666666666,
          0.9583333333333334,
          0.9166666666666666,
          1,
          0.9166666666666666,
          0.875,
          0.9583333333333334,
          0.9583333333333334,
          0.875,
          0.9583333333333334,
          0.9166666666666666,
          0.7916666666666666,
          0.9166666666666666,
          0.875,
          0.9583333333333334,
          0.9166666666666666,
          0.9583333333333334,
          0.9583333333333334,
          0.75,
          0.9166666666666666,
          0.9166666666666666,
          0.9583333333333334,
          0.875,
          0.9583333333333334,
          0.8333333333333334,
          0.9166666666666666,
          0.9166666666666666,
          0.9583333333333334,
          0.9583333333333334,
          1,
          0.8333333333333334,
          0.7916666666666666,
          0.9166666666666666,
          0.875,
          0.75,
          0.7916666666666666,
          0.8333333333333334,
          0.9166666666666666,
          0.9166666666666666,
          0.9166666666666666,
          0.8333333333333334,
          0.9166666666666666,
          0.875,
          0.9166666666666666,
          0.7916666666666666,
          0.875,
          0.875,
          0.9166666666666666,
          0.9583333333333334,
          0.75,
          0.875,
          0.875,
          0.9583333333333334,
          0.9166666666666666,
          0.8333333333333334,
          0.9583333333333334,
          0.9166666666666666,
          0.9583333333333334,
          0.9166666666666666,
          1,
          0.9166666666666666,
          0.75,
          0.9166666666666666,
          0.875,
          0.9166666666666666,
          0.9583333333333334,
          0.9166666666666666,
          0.7916666666666666,
          0.9583333333333334,
          0.875,
          0.7916666666666666,
          1,
          0.7083333333333334,
          0.7916666666666666,
          0.9166666666666666,
          0.875,
          0.7916666666666666,
          0.9583333333333334,
          0.875,
          0.8333333333333334,
          0.9166666666666666,
          0.8333333333333334,
          0.8333333333333334,
          0.9166666666666666,
          0.9166666666666666,
          0.9166666666666666,
          0.75,
          0.8333333333333334,
          0.875,
          0.875,
          0.7916666666666666,
          0.625,
          0.7083333333333334,
          0.875,
          0.9166666666666666,
          0.9583333333333334,
          0.875,
          0.9166666666666666,
          1,
          0.9166666666666666,
          0.9166666666666666,
          0.875,
          0.7083333333333334,
          0.875,
          0.875,
          0.9583333333333334,
          0.9583333333333334,
          0.9583333333333334,
          0.9166666666666666,
          0.7083333333333334,
          0.9583333333333334,
          0.8333333333333334,
          0.875,
          0.9166666666666666,
          0.9166666666666666,
          1,
          0.8333333333333334,
          0.875,
          0.875,
          0.8333333333333334,
          0.8333333333333334,
          0.9166666666666666,
          0.9583333333333334,
          0.9583333333333334,
          0.9166666666666666,
          0.7916666666666666,
          0.8333333333333334,
          0.875,
          0.7083333333333334,
          0.7916666666666666,
          1,
          0.9583333333333334,
          0.75,
          0.9166666666666666,
          0.875,
          0.875,
          0.8333333333333334,
          0.875,
          0.9166666666666666,
          0.7916666666666666,
          0.9583333333333334,
          0.9166666666666666,
          0.9583333333333334,
          0.8333333333333334,
          0.9583333333333334,
          0.9166666666666666,
          0.8333333333333334,
          0.875,
          0.875,
          0.9166666666666666,
          0.875,
          0.9583333333333334,
          0.9166666666666666,
          0.9166666666666666,
          1,
          1,
          0.9166666666666666,
          0.9166666666666666,
          0.8333333333333334,
          0.8333333333333334,
          0.8333333333333334,
          0.9166666666666666,
          0.9583333333333334,
          0.875,
          0.9583333333333334,
          0.9166666666666666,
          0.9166666666666666,
          0.875,
          0.8333333333333334,
          0.9166666666666666,
          0.8333333333333334,
          0.9583333333333334,
          0.9166666666666666,
          0.9583333333333334,
          0.9166666666666666,
          0.7083333333333334,
          0.7916666666666666,
          0.875,
          0.8333333333333334,
          0.9583333333333334,
          0.75,
          0.9166666666666666,
          0.9583333333333334,
          0.9166666666666666,
          0.875,
          0.9583333333333334,
          0.875,
          1,
          0.9166666666666666,
          0.8333333333333334,
          0.7916666666666666,
          0.875,
          0.9166666666666666,
          0.8333333333333334,
          0.7083333333333334,
          0.75,
          0.9166666666666666,
          0.875,
          0.875,
          0.9166666666666666,
          0.7916666666666666,
          0.8333333333333334,
          0.8333333333333334,
          0.9166666666666666,
          0.875,
          0.9166666666666666,
          1,
          0.875,
          0.7916666666666666,
          0.875,
          0.9583333333333334,
          0.875,
          1,
          0.9583333333333334,
          0.8333333333333334,
          0.9166666666666666,
          0.9583333333333334,
          0.9166666666666666,
          0.875,
          0.9583333333333334,
          1,
          0.8333333333333334,
          0.875,
          0.9583333333333334,
          0.875,
          0.9583333333333334,
          0.9583333333333334,
          0.9166666666666666,
          0.7916666666666666,
          0.9166666666666666,
          1,
          0.9583333333333334,
          0.9583333333333334,
          0.75,
          1,
          0.9583333333333334,
          0.7083333333333334,
          0.7083333333333334,
          0.8333333333333334,
          0.9166666666666666,
          1,
          0.875,
          0.875,
          0.875,
          0.9166666666666666,
          0.875,
          0.875,
          0.9583333333333334,
          0.9583333333333334,
          0.7083333333333334,
          0.9166666666666666,
          0.9166666666666666,
          1,
          0.9166666666666666,
          0.8333333333333334,
          0.9166666666666666,
          0.8333333333333334,
          0.9166666666666666,
          0.9583333333333334,
          0.9583333333333334,
          0.9166666666666666,
          0.875,
          0.875,
          0.9583333333333334,
          0.7083333333333334,
          0.75,
          0.9166666666666666,
          0.75,
          0.9583333333333334,
          1,
          0.9583333333333334,
          0.9583333333333334,
          0.8333333333333334,
          0.7916666666666666,
          0.7916666666666666,
          0.7916666666666666,
          0.9166666666666666,
          0.9166666666666666,
          0.9166666666666666,
          0.875,
          0.8333333333333334,
          0.8333333333333334,
          1,
          0.9583333333333334,
          0.8333333333333334,
          1,
          0.9166666666666666,
          0.7083333333333334,
          0.9583333333333334,
          0.875,
          0.7916666666666666,
          0.9583333333333334,
          0.7916666666666666,
          0.9583333333333334,
          0.9166666666666666,
          0.9583333333333334,
          0.9166666666666666,
          0.875,
          0.6666666666666666,
          0.75,
          0.9583333333333334,
          0.875,
          0.8333333333333334,
          0.75,
          0.9166666666666666,
          0.875,
          0.8333333333333334,
          0.875,
          0.9166666666666666,
          0.6666666666666666,
          0.9166666666666666,
          0.9166666666666666,
          0.9166666666666666,
          0.7916666666666666,
          0.875,
          0.75,
          1,
          0.9166666666666666,
          0.9583333333333334,
          0.875,
          0.7916666666666666,
          0.9583333333333334,
          0.8333333333333334,
          1,
          0.9166666666666666,
          0.7916666666666666,
          0.8333333333333334,
          0.9583333333333334,
          0.9583333333333334,
          0.9583333333333334,
          0.7916666666666666,
          0.7916666666666666,
          0.8333333333333334,
          0.875,
          0.9583333333333334,
          0.8333333333333334,
          0.8333333333333334,
          0.8333333333333334,
          0.9166666666666666,
          0.8333333333333334,
          0.875,
          0.875,
          0.875,
          0.9166666666666666,
          0.8333333333333334,
          0.7083333333333334,
          0.9166666666666666,
          1,
          0.8333333333333334,
          0.9583333333333334,
          0.9166666666666666,
          0.9583333333333334,
          0.875,
          0.9166666666666666,
          0.8333333333333334,
          0.9166666666666666,
          0.9583333333333334,
          0.875,
          0.9166666666666666,
          1,
          0.9583333333333334,
          0.9166666666666666,
          0.9166666666666666,
          0.8333333333333334,
          0.9583333333333334,
          0.9166666666666666,
          0.875,
          0.9583333333333334,
          0.9583333333333334,
          1,
          0.9166666666666666,
          0.9166666666666666,
          0.875,
          0.7916666666666666,
          0.9583333333333334,
          0.9166666666666666,
          0.6666666666666666,
          0.9166666666666666,
          0.9166666666666666,
          0.75,
          0.875,
          0.8333333333333334,
          0.875,
          0.8333333333333334,
          0.875,
          0.9166666666666666,
          0.8333333333333334,
          0.7916666666666666,
          0.6666666666666666,
          0.7916666666666666,
          0.875,
          0.9166666666666666,
          0.875,
          0.875,
          1,
          0.875,
          0.875,
          0.9166666666666666,
          0.8333333333333334,
          0.875,
          0.8333333333333334,
          0.9166666666666666,
          0.875,
          0.9166666666666666,
          0.9166666666666666,
          0.875,
          0.875,
          0.5833333333333334,
          0.9166666666666666,
          0.7916666666666666,
          0.9583333333333334,
          0.9583333333333334,
          0.9166666666666666,
          0.875,
          0.75,
          0.75,
          0.7916666666666666,
          0.875,
          0.8333333333333334,
          0.9166666666666666,
          0.7916666666666666,
          0.5,
          0.9166666666666666,
          0.9583333333333334,
          0.7916666666666666,
          0.8333333333333334,
          0.7916666666666666,
          0.9166666666666666,
          0.8333333333333334,
          0.875,
          0.875,
          0.875,
          0.9583333333333334,
          0.5,
          0.8333333333333334,
          0.7916666666666666,
          0.875,
          0.875,
          0.875,
          0.9166666666666666,
          0.9166666666666666,
          0.8333333333333334,
          0.875,
          0.9166666666666666,
          0.875,
          0.9166666666666666,
          0.875,
          0.875,
          0.875,
          0.8333333333333334,
          0.9166666666666666,
          0.8333333333333334,
          0.875,
          0.9166666666666666,
          0.9166666666666666,
          0.7916666666666666,
          0.8333333333333334,
          0.7916666666666666,
          0.7083333333333334,
          0.875,
          0.875,
          0.9166666666666666,
          0.7916666666666666,
          0.7916666666666666,
          0.9583333333333334,
          0.7916666666666666,
          0.875,
          0.7083333333333334,
          0.9166666666666666,
          0.875,
          0.9583333333333334,
          0.875,
          0.9583333333333334,
          0.9166666666666666,
          0.875,
          0.7916666666666666,
          0.9583333333333334,
          0.9583333333333334,
          0.8333333333333334,
          0.8333333333333334,
          0.9166666666666666,
          0.875,
          0.7916666666666666,
          0.8333333333333334,
          0.8333333333333334,
          0.7083333333333334,
          0.75,
          0.9583333333333334,
          0.75,
          0.9583333333333334,
          0.7083333333333334,
          0.9166666666666666,
          0.7916666666666666,
          0.7083333333333334,
          0.9166666666666666,
          0.875,
          0.8333333333333334,
          0.875,
          0.75,
          0.7083333333333334,
          0.9166666666666666,
          0.9583333333333334,
          0.875,
          0.9166666666666666,
          0.8333333333333334,
          0.9166666666666666,
          0.875,
          0.9166666666666666,
          1,
          0.9166666666666666,
          0.9583333333333334,
          0.5416666666666666,
          0.9166666666666666,
          0.875,
          0.9583333333333334,
          0.875,
          0.875,
          0.9166666666666666,
          0.9583333333333334,
          0.9166666666666666,
          0.875,
          0.9166666666666666,
          0.9583333333333334,
          0.9583333333333334,
          0.75,
          0.6666666666666666,
          0.9166666666666666,
          0.9583333333333334,
          0.9166666666666666,
          1,
          0.875,
          0.8333333333333334,
          0.9166666666666666,
          0.8333333333333334,
          0.7083333333333334,
          0.9166666666666666,
          0.9583333333333334,
          0.8333333333333334,
          0.8333333333333334,
          0.8333333333333334,
          0.7916666666666666,
          0.9166666666666666,
          0.9583333333333334,
          0.7083333333333334,
          0.9166666666666666,
          0.9166666666666666,
          0.8333333333333334,
          0.6666666666666666,
          0.875,
          0.9166666666666666,
          0.9166666666666666,
          0.9166666666666666,
          0.875,
          0.9166666666666666,
          0.9166666666666666,
          1,
          0.8333333333333334,
          0.9166666666666666,
          0.9166666666666666,
          0.875,
          1,
          0.9583333333333334,
          0.75,
          0.75,
          0.7916666666666666,
          0.9166666666666666,
          0.875,
          0.9166666666666666,
          0.75,
          0.9583333333333334,
          0.9166666666666666,
          1,
          0.9166666666666666,
          1,
          0.9166666666666666,
          1,
          0.7916666666666666,
          0.8333333333333334,
          0.7916666666666666,
          0.7916666666666666,
          0.9583333333333334,
          0.875,
          0.7916666666666666,
          0.7916666666666666,
          0.875,
          0.9583333333333334,
          0.9583333333333334,
          0.7916666666666666,
          0.9583333333333334,
          0.9166666666666666,
          0.9583333333333334,
          0.875,
          0.9583333333333334,
          0.9166666666666666,
          1,
          0.8333333333333334,
          0.8333333333333334,
          0.75,
          0.8333333333333334,
          0.8333333333333334,
          0.9166666666666666,
          0.7916666666666666,
          0.8333333333333334,
          0.9166666666666666,
          0.8333333333333334,
          0.9166666666666666,
          0.9166666666666666,
          0.875,
          1,
          0.8333333333333334,
          0.9583333333333334,
          0.9166666666666666,
          0.9166666666666666,
          0.5416666666666666,
          0.875,
          0.8333333333333334,
          0.9583333333333334,
          0.9166666666666666,
          0.8333333333333334,
          1,
          0.875,
          1,
          0.9166666666666666,
          0.875,
          0.8333333333333334,
          0.9166666666666666,
          0.9166666666666666,
          0.9583333333333334,
          0.875,
          0.75,
          0.8333333333333334,
          0.8333333333333334,
          1,
          0.9166666666666666,
          0.75,
          1,
          0.9583333333333334,
          0.9166666666666666,
          0.625,
          0.7916666666666666,
          0.9583333333333334,
          0.7916666666666666,
          0.9166666666666666,
          0.9166666666666666,
          0.9583333333333334,
          0.875,
          1,
          0.9166666666666666,
          1,
          0.9166666666666666,
          0.3333333333333333,
          0.875,
          0.9166666666666666,
          0.9166666666666666,
          0.8333333333333334,
          0.875,
          0.9166666666666666,
          0.625,
          0.8333333333333334,
          0.9166666666666666,
          0.7916666666666666,
          0.7916666666666666,
          0.9166666666666666,
          0.7916666666666666,
          0.9166666666666666,
          0.9166666666666666,
          0.8333333333333334,
          0.9166666666666666,
          0.75,
          0.875,
          0.9166666666666666,
          0.7916666666666666,
          0.875,
          0.75,
          0.8333333333333334,
          0.7916666666666666,
          0.9583333333333334,
          0.9583333333333334,
          0.9166666666666666,
          0.9166666666666666,
          0.75,
          0.75,
          0.875,
          0.875,
          0.9166666666666666,
          0.9583333333333334,
          0.9166666666666666,
          0.7916666666666666,
          0.9583333333333334,
          0.7083333333333334,
          0.875,
          0.6666666666666666,
          0.9166666666666666,
          0.875,
          0.7083333333333334,
          0.875,
          0.8333333333333334,
          0.8333333333333334,
          0.9583333333333334,
          0.7916666666666666,
          0.9583333333333334,
          0.875,
          0.875,
          0.9166666666666666,
          0.9166666666666666,
          0.9583333333333334,
          0.8333333333333334,
          0.875,
          0.8333333333333334,
          0.6666666666666666,
          0.875,
          0.8333333333333334,
          0.875,
          0.9166666666666666,
          0.875,
          0.8333333333333334,
          0.7083333333333334,
          0.8333333333333334,
          0.75,
          0.7083333333333334,
          0.6666666666666666,
          0.8333333333333334,
          0.875,
          0.9166666666666666,
          0.8333333333333334,
          0.8333333333333334,
          0.9166666666666666,
          0.8333333333333334,
          0.875,
          0.7916666666666666,
          0.9166666666666666,
          0.9166666666666666,
          0.9583333333333334,
          0.875,
          0.9166666666666666,
          0.75,
          0.8333333333333334,
          0.9166666666666666,
          0.7916666666666666,
          0.8333333333333334,
          0.875,
          0.6666666666666666,
          0.8333333333333334,
          0.875,
          0.8333333333333334,
          0.875,
          0.9166666666666666,
          0.9166666666666666,
          0.9166666666666666,
          0.75,
          0.7916666666666666,
          0.6666666666666666,
          0.875,
          0.8333333333333334,
          0.9583333333333334,
          0.875,
          0.625,
          0.7916666666666666,
          0.8333333333333334,
          0.8333333333333334,
          0.7916666666666666,
          0.875,
          0.875,
          0.9166666666666666,
          0.75,
          0.8333333333333334,
          0.8333333333333334,
          0.875,
          0.9166666666666666,
          0.875,
          0.9166666666666666,
          0.8333333333333334,
          0.8333333333333334,
          0.9166666666666666,
          0.875,
          1,
          0.8333333333333334,
          0.875,
          1,
          0.7916666666666666,
          0.9166666666666666,
          0.9166666666666666,
          0.875,
          0.875,
          0.8333333333333334,
          0.9583333333333334,
          0.7083333333333334,
          0.9583333333333334,
          0.8333333333333334,
          0.7916666666666666,
          0.875,
          0.875,
          0.9166666666666666,
          0.875,
          0.9166666666666666,
          0.9166666666666666,
          0.8333333333333334,
          0.9583333333333334,
          0.8333333333333334,
          0.7083333333333334,
          0.9583333333333334,
          0.9166666666666666,
          0.9166666666666666,
          0.7916666666666666,
          0.8333333333333334,
          0.9583333333333334,
          0.8333333333333334,
          0.7083333333333334,
          1,
          0.875,
          0.9166666666666666,
          0.9166666666666666,
          0.9583333333333334,
          0.9583333333333334,
          0.9583333333333334,
          0.9166666666666666,
          0.9583333333333334,
          0.9166666666666666,
          0.875,
          0.9583333333333334,
          0.9166666666666666,
          0.9583333333333334,
          0.8333333333333334,
          0.9166666666666666,
          1,
          0.9166666666666666,
          0.9583333333333334,
          0.7916666666666666,
          0.8333333333333334,
          0.9166666666666666,
          0.875,
          0.875,
          0.9583333333333334,
          0.9166666666666666,
          0.9583333333333334,
          0.8333333333333334,
          0.9583333333333334,
          0.9166666666666666,
          0.8333333333333334,
          0.9166666666666666,
          0.9166666666666666,
          0.875,
          0.9166666666666666,
          0.8333333333333334,
          0.875,
          0.8333333333333334,
          0.9583333333333334,
          0.875,
          0.875,
          0.875,
          0.9166666666666666,
          0.875,
          0.8333333333333334,
          0.875,
          0.8333333333333334,
          0.8333333333333334,
          0.875,
          0.7083333333333334,
          0.875,
          0.9166666666666666,
          0.7916666666666666,
          0.9166666666666666,
          0.9583333333333334,
          0.875,
          0.8333333333333334,
          0.8333333333333334,
          0.7916666666666666,
          0.8333333333333334,
          0.8333333333333334,
          0.8333333333333334,
          0.9166666666666666,
          0.875,
          0.9166666666666666,
          0.9583333333333334,
          0.9583333333333334,
          0.8333333333333334,
          0.9583333333333334,
          0.8333333333333334,
          0.9166666666666666,
          0.9583333333333334,
          0.9166666666666666,
          0.9166666666666666,
          0.75,
          0.9583333333333334,
          0.9583333333333334,
          0.9166666666666666,
          0.9583333333333334,
          0.9583333333333334,
          0.9166666666666666,
          0.9583333333333334,
          0.9583333333333334,
          1,
          0.9583333333333334,
          0.9583333333333334,
          1,
          0.9583333333333334,
          0.9583333333333334,
          0.9583333333333334,
          0.9583333333333334,
          0.9583333333333334,
          0.9166666666666666,
          0.9583333333333334,
          0.875,
          0.9166666666666666,
          0.8333333333333334,
          1,
          0.9166666666666666,
          0.9166666666666666,
          0.9583333333333334,
          0.9166666666666666,
          0.7916666666666666,
          0.9583333333333334,
          0.9583333333333334,
          0.9583333333333334,
          0.9166666666666666,
          0.9166666666666666,
          0.9583333333333334,
          0.9583333333333334,
          0.9583333333333334,
          0.8333333333333334,
          0.9583333333333334,
          0.9166666666666666,
          0.9166666666666666,
          0.9583333333333334,
          0.9583333333333334,
          0.9583333333333334,
          0.9583333333333334,
          0.9583333333333334,
          0.875,
          0.875,
          0.9583333333333334,
          0.875,
          0.9583333333333334,
          0.9583333333333334,
          0.9166666666666666,
          0.9166666666666666,
          0.9166666666666666,
          0.875,
          0.9166666666666666,
          0.8333333333333334,
          0.9583333333333334,
          0.9583333333333334,
          0.9583333333333334,
          0.8333333333333334,
          0.875,
          0.8333333333333334,
          0.8333333333333334,
          0.7916666666666666,
          0.875,
          0.8333333333333334,
          0.875,
          0.9166666666666666,
          0.9166666666666666,
          0.9583333333333334,
          0.9166666666666666,
          0.9166666666666666,
          0.9166666666666666,
          0.875,
          0.9166666666666666,
          0.7916666666666666,
          0.9166666666666666,
          0.9583333333333334,
          0.8333333333333334,
          0.9166666666666666,
          0.9166666666666666,
          0.6666666666666666,
          0.9166666666666666,
          0.7916666666666666,
          0.875,
          0.8333333333333334,
          0.9583333333333334,
          0.875,
          0.7916666666666666,
          0.8333333333333334,
          0.8333333333333334,
          0.8333333333333334,
          0.9583333333333334,
          0.875,
          0.7083333333333334,
          0.9166666666666666,
          0.75,
          0.7916666666666666,
          0.875,
          0.75,
          0.7916666666666666,
          0.9583333333333334,
          0.9166666666666666,
          0.7083333333333334,
          0.875,
          0.9166666666666666,
          0.875,
          0.875,
          0.75,
          0.9583333333333334,
          0.875,
          0.8333333333333334,
          0.9166666666666666,
          0.875,
          0.8333333333333334,
          0.9583333333333334,
          0.6666666666666666,
          0.9583333333333334,
          0.875,
          0.875,
          0.8333333333333334,
          0.8333333333333334,
          0.875,
          0.8333333333333334,
          0.7916666666666666,
          0.875,
          0.9166666666666666,
          0.8333333333333334,
          0.9166666666666666,
          0.9166666666666666,
          0.7916666666666666,
          0.875,
          0.75,
          0.7083333333333334,
          0.75,
          0.875,
          0.7916666666666666,
          0.8333333333333334,
          0.7916666666666666,
          0.75,
          0.7916666666666666,
          0.8333333333333334,
          0.9583333333333334,
          0.7916666666666666,
          0.9166666666666666,
          0.75,
          0.875,
          0.7083333333333334,
          0.9166666666666666,
          0.8333333333333334,
          0.7916666666666666,
          0.7916666666666666,
          0.7083333333333334,
          0.8333333333333334,
          0.7916666666666666,
          0.9583333333333334,
          0.8333333333333334,
          0.875,
          0.625,
          0.8333333333333334,
          0.9583333333333334,
          0.7916666666666666,
          0.875,
          0.8333333333333334,
          0.9166666666666666,
          0.8333333333333334,
          0.875,
          0.7916666666666666,
          0.7916666666666666,
          1,
          0.8333333333333334,
          0.75,
          0.9583333333333334,
          0.875,
          0.8333333333333334,
          0.9166666666666666,
          0.9166666666666666,
          0.8333333333333334,
          0.875,
          0.9166666666666666,
          0.8333333333333334,
          0.875,
          0.875,
          0.9166666666666666,
          0.75,
          1,
          0.7916666666666666,
          0.7083333333333334,
          0.5833333333333334,
          0.8333333333333334,
          0.8333333333333334,
          0.875,
          0.875,
          0.8333333333333334,
          0.9166666666666666,
          0.875,
          1,
          0.7916666666666666,
          0.75,
          0.875,
          0.9166666666666666,
          0.875,
          0.7916666666666666,
          0.8333333333333334,
          0.9166666666666666,
          0.9583333333333334,
          0.8333333333333334,
          1,
          0.75,
          0.7916666666666666,
          0.7916666666666666,
          0.7916666666666666,
          0.9166666666666666,
          0.875,
          0.7916666666666666,
          0.6666666666666666,
          0.7916666666666666,
          1,
          0.7916666666666666,
          0.9166666666666666,
          0.875,
          0.7916666666666666,
          0.875,
          0.8333333333333334,
          0.9166666666666666,
          1,
          0.875,
          0.875,
          0.75,
          0.875,
          0.9166666666666666,
          0.875,
          0.8333333333333334,
          0.875,
          0.9166666666666666,
          0.75,
          0.875,
          0.9166666666666666,
          0.7916666666666666,
          0.9166666666666666,
          0.8333333333333334,
          0.9583333333333334,
          0.7916666666666666,
          0.875,
          0.9583333333333334,
          0.8333333333333334,
          0.8333333333333334,
          0.8333333333333334,
          0.7916666666666666,
          0.875,
          0.75,
          0.9166666666666666,
          0.7083333333333334,
          0.7083333333333334,
          0.9583333333333334,
          0.8333333333333334,
          0.875,
          0.9166666666666666,
          0.7916666666666666,
          0.75,
          0.9166666666666666,
          0.8333333333333334,
          0.9166666666666666,
          0.7916666666666666,
          0.875,
          0.75,
          0.9583333333333334,
          0.75,
          0.9166666666666666,
          0.9583333333333334,
          0.9583333333333334,
          0.7083333333333334,
          0.75,
          0.8333333333333334,
          0.8333333333333334,
          0.875,
          0.875,
          0.9166666666666666,
          0.9166666666666666,
          0.9166666666666666,
          0.9166666666666666,
          1,
          0.7916666666666666,
          0.9583333333333334,
          0.75,
          0.625,
          0.625,
          0.9583333333333334,
          0.9166666666666666,
          0.9166666666666666,
          0.8333333333333334,
          1,
          0.7083333333333334,
          0.875,
          0.9166666666666666,
          0.75,
          0.75,
          0.8333333333333334,
          0.9166666666666666,
          0.875,
          0.7083333333333334,
          0.7083333333333334,
          0.875,
          0.7916666666666666,
          0.9166666666666666,
          1,
          0.875,
          0.8333333333333334,
          0.9166666666666666,
          0.75,
          0.875,
          0.875,
          0.7916666666666666,
          0.8333333333333334,
          0.7916666666666666,
          0.7916666666666666,
          0.75,
          0.9583333333333334,
          0.9583333333333334,
          0.9166666666666666,
          0.875,
          0.9583333333333334,
          0.8333333333333334,
          0.875,
          0.875,
          0.7083333333333334,
          0.9166666666666666,
          0.875,
          1,
          0.7083333333333334,
          0.75,
          0.875,
          0.875,
          0.8333333333333334,
          0.75,
          0.9583333333333334,
          1,
          0.75,
          0.875,
          0.9166666666666666,
          0.8333333333333334,
          0.7916666666666666,
          0.875,
          0.8333333333333334,
          0.875,
          0.9583333333333334,
          0.875,
          0.9583333333333334,
          0.7916666666666666,
          0.8333333333333334,
          0.9583333333333334,
          0.875,
          0.8333333333333334,
          0.8333333333333334,
          0.9166666666666666,
          0.7083333333333334,
          0.7916666666666666,
          0.875,
          0.7916666666666666,
          0.6666666666666666,
          0.9583333333333334,
          0.9166666666666666,
          0.8333333333333334,
          0.9583333333333334,
          1,
          0.625,
          0.8333333333333334,
          0.875,
          0.7916666666666666,
          0.9583333333333334,
          0.9166666666666666,
          0.875,
          0.8333333333333334,
          0.8333333333333334,
          0.8333333333333334,
          0.8333333333333334,
          0.9166666666666666,
          0.9166666666666666,
          0.8333333333333334,
          0.7916666666666666,
          0.7916666666666666,
          0.7916666666666666,
          0.8333333333333334,
          0.875,
          0.7916666666666666,
          0.8333333333333334,
          0.7916666666666666,
          0.75,
          0.8333333333333334,
          0.875,
          0.875,
          0.875,
          0.9583333333333334,
          0.8333333333333334,
          0.9166666666666666,
          0.7916666666666666,
          0.9166666666666666,
          0.7916666666666666,
          0.8333333333333334,
          0.8333333333333334,
          0.875,
          0.9166666666666666,
          0.6666666666666666,
          0.875,
          0.8333333333333334,
          0.875,
          0.8333333333333334,
          0.6666666666666666,
          0.8333333333333334,
          0.9583333333333334,
          0.875,
          0.9166666666666666,
          0.7916666666666666,
          0.875,
          0.9166666666666666,
          0.4583333333333333,
          0.9166666666666666,
          0.8333333333333334,
          0.9166666666666666,
          0.9583333333333334,
          0.75,
          1,
          0.875,
          0.875,
          0.875,
          0.875,
          0.8333333333333334,
          0.75,
          0.9166666666666666,
          1,
          0.875,
          0.7083333333333334,
          0.875,
          0.875,
          0.8333333333333334,
          0.8333333333333334,
          0.7083333333333334,
          0.75,
          0.7916666666666666,
          0.8333333333333334,
          0.625,
          0.75,
          0.7916666666666666,
          0.875,
          0.8333333333333334,
          0.7916666666666666,
          0.9166666666666666,
          0.9583333333333334,
          1,
          0.9166666666666666,
          0.7083333333333334,
          0.9583333333333334,
          0.8333333333333334,
          0.7083333333333334,
          0.875,
          0.9583333333333334,
          0.875,
          0.9166666666666666,
          0.625,
          0.8333333333333334,
          0.875,
          0.9166666666666666,
          0.875,
          0.7916666666666666,
          0.875,
          0.9583333333333334,
          1,
          0.8333333333333334,
          0.875,
          0.875,
          0.9166666666666666,
          0.8333333333333334,
          0.7916666666666666,
          0.7916666666666666,
          0.9583333333333334,
          0.8333333333333334,
          0.75,
          0.7916666666666666,
          0.9583333333333334,
          0.9166666666666666,
          0.9166666666666666,
          0.7083333333333334,
          0.7916666666666666,
          0.6666666666666666,
          0.75,
          0.875,
          0.9166666666666666,
          0.8333333333333334,
          0.9166666666666666,
          0.9166666666666666,
          0.9583333333333334,
          0.9166666666666666,
          0.7083333333333334,
          0.9166666666666666,
          0.9166666666666666,
          0.875,
          0.8333333333333334,
          0.9583333333333334,
          1,
          0.9166666666666666,
          0.875,
          0.625,
          0.7916666666666666,
          0.75,
          1,
          0.9166666666666666,
          0.8333333333333334,
          0.875,
          0.9166666666666666,
          0.9583333333333334,
          0.8333333333333334,
          0.875,
          0.9583333333333334,
          0.875,
          0.75,
          1,
          0.9583333333333334,
          0.7083333333333334,
          0.7916666666666666,
          0.6666666666666666,
          0.7916666666666666,
          0.9166666666666666,
          0.8333333333333334,
          0.7916666666666666,
          0.9166666666666666,
          0.875,
          0.9583333333333334,
          0.9583333333333334,
          0.8333333333333334,
          0.875,
          0.8333333333333334,
          0.7083333333333334,
          0.875,
          0.9166666666666666,
          1,
          0.8333333333333334,
          0.8333333333333334,
          0.7916666666666666,
          0.8333333333333334,
          0.9166666666666666,
          0.9166666666666666,
          0.9583333333333334,
          0.8333333333333334,
          0.9583333333333334,
          0.7083333333333334,
          0.8333333333333334,
          1,
          0.9583333333333334,
          0.875,
          0.875,
          0.875,
          0.875,
          0.875,
          0.5833333333333334,
          0.9166666666666666,
          0.7916666666666666,
          0.7916666666666666,
          0.9583333333333334,
          0.9166666666666666,
          0.8333333333333334,
          0.875,
          0.9166666666666666,
          0.8333333333333334,
          0.7083333333333334,
          0.7916666666666666,
          0.7083333333333334,
          0.875,
          0.7083333333333334,
          0.8333333333333334,
          0.9166666666666666,
          0.7083333333333334,
          0.7916666666666666,
          0.7916666666666666,
          0.9583333333333334,
          0.8333333333333334,
          0.7916666666666666,
          0.7916666666666666,
          0.75,
          0.75,
          0.8333333333333334,
          0.8333333333333334,
          0.9166666666666666,
          0.8333333333333334,
          0.8333333333333334,
          0.9166666666666666,
          0.9583333333333334,
          0.8333333333333334,
          0.875,
          0.6666666666666666,
          0.9166666666666666,
          0.9166666666666666,
          0.7916666666666666,
          1,
          0.875,
          0.7916666666666666,
          0.9166666666666666,
          0.7916666666666666,
          0.75,
          0.8333333333333334,
          0.875,
          0.9166666666666666,
          0.9166666666666666,
          0.8333333333333334,
          0.7916666666666666,
          0.875,
          0.7916666666666666,
          0.8333333333333334,
          0.875,
          0.8333333333333334,
          0.8333333333333334,
          0.9583333333333334,
          0.7916666666666666,
          0.8333333333333334,
          0.7083333333333334,
          0.875,
          0.75,
          0.7916666666666666,
          0.9583333333333334,
          0.7083333333333334,
          0.75,
          0.9166666666666666,
          0.7083333333333334,
          0.7083333333333334,
          0.6666666666666666,
          0.75,
          0.7916666666666666,
          0.7916666666666666,
          0.875,
          0.8333333333333334,
          0.9583333333333334,
          0.7083333333333334,
          0.875,
          0.9583333333333334,
          0.8333333333333334,
          0.9583333333333334,
          0.8333333333333334,
          0.7083333333333334,
          0.8333333333333334,
          0.9166666666666666,
          0.8333333333333334,
          0.9166666666666666,
          0.875,
          0.9166666666666666,
          0.9166666666666666,
          0.875,
          0.9583333333333334,
          0.875,
          0.7916666666666666,
          0.875,
          0.8333333333333334,
          0.8333333333333334,
          0.8333333333333334,
          0.9166666666666666,
          0.9583333333333334,
          0.8333333333333334,
          0.9583333333333334,
          1,
          0.7916666666666666,
          0.9166666666666666,
          0.7916666666666666,
          0.9583333333333334,
          0.875,
          0.75,
          0.7916666666666666,
          0.875,
          0.9166666666666666,
          0.8333333333333334,
          0.9583333333333334,
          0.9166666666666666,
          0.75,
          0.9166666666666666,
          0.875,
          0.9166666666666666,
          0.9166666666666666,
          0.9583333333333334,
          0.7916666666666666,
          0.7916666666666666,
          0.8333333333333334,
          0.8333333333333334,
          0.875,
          0.625,
          0.875,
          0.8333333333333334,
          0.5416666666666666,
          0.875,
          0.7083333333333334,
          0.7916666666666666,
          0.375,
          0.875,
          0.7083333333333334,
          0.875,
          0.7083333333333334,
          0.7916666666666666,
          0.875,
          0.9583333333333334,
          0.7916666666666666,
          0.9166666666666666,
          0.9166666666666666,
          0.875,
          0.625,
          0.7916666666666666,
          0.9166666666666666,
          0.875,
          0.7083333333333334,
          0.9166666666666666,
          0.625,
          0.9166666666666666,
          0.7916666666666666,
          0.8333333333333334,
          0.9583333333333334,
          0.8333333333333334,
          0.8333333333333334,
          0.875,
          0.8333333333333334,
          0.875,
          0.875,
          0.875,
          0.7916666666666666,
          0.9583333333333334,
          1,
          0.7916666666666666,
          0.9583333333333334,
          0.8333333333333334,
          0.7916666666666666,
          0.7083333333333334,
          0.9166666666666666,
          0.7916666666666666,
          0.9583333333333334,
          0.9583333333333334,
          0.875,
          0.6666666666666666,
          0.875,
          0.7083333333333334,
          0.75,
          0.7916666666666666,
          0.8333333333333334,
          0.8333333333333334,
          0.9166666666666666,
          0.875,
          0.875,
          0.9583333333333334,
          0.75,
          0.875,
          0.8333333333333334,
          0.9166666666666666,
          0.7916666666666666,
          0.875,
          0.8333333333333334,
          0.7916666666666666,
          0.6666666666666666,
          0.875,
          0.75,
          0.75,
          0.875,
          0.8333333333333334,
          0.8333333333333334,
          0.9166666666666666,
          0.9166666666666666,
          0.75,
          0.9166666666666666,
          0.875,
          0.8333333333333334,
          0.8333333333333334,
          0.7083333333333334,
          0.9583333333333334,
          0.9583333333333334,
          0.875,
          0.9166666666666666,
          0.875,
          0.8333333333333334,
          0.7916666666666666,
          0.75,
          0.875,
          0.9166666666666666,
          0.7916666666666666,
          0.8333333333333334,
          0.9583333333333334,
          0.875,
          0.625,
          0.875,
          0.7916666666666666,
          0.9583333333333334,
          0.7916666666666666,
          0.8333333333333334,
          0.9166666666666666,
          0.8333333333333334,
          0.7083333333333334,
          0.8333333333333334,
          0.8333333333333334,
          0.9166666666666666,
          0.9166666666666666,
          0.8333333333333334,
          0.8333333333333334,
          0.875,
          0.75,
          0.875,
          0.9166666666666666,
          0.875,
          0.8333333333333334,
          0.875,
          0.8333333333333334,
          0.7916666666666666,
          0.625,
          0.7916666666666666,
          0.9166666666666666,
          0.875,
          0.875,
          0.9166666666666666,
          0.8333333333333334,
          0.9583333333333334,
          0.875,
          0.8333333333333334,
          0.75,
          0.7916666666666666,
          0.8333333333333334,
          0.8333333333333334,
          0.9166666666666666,
          0.875,
          0.7916666666666666,
          0.8333333333333334,
          0.9583333333333334,
          0.6666666666666666,
          0.9166666666666666,
          0.875,
          0.75,
          0.75,
          0.9166666666666666,
          0.9166666666666666,
          0.75,
          0.9583333333333334,
          0.8333333333333334,
          0.9583333333333334,
          0.7916666666666666,
          0.875,
          0.625,
          0.7083333333333334,
          1,
          0.7083333333333334,
          0.8333333333333334,
          0.75,
          0.9166666666666666,
          0.9166666666666666,
          0.9166666666666666,
          0.875,
          0.8333333333333334,
          0.8333333333333334,
          0.875,
          0.8333333333333334,
          0.875,
          0.7916666666666666,
          0.8333333333333334,
          0.5416666666666666,
          0.9166666666666666,
          0.7916666666666666,
          0.9166666666666666,
          0.75,
          0.75,
          0.875,
          0.625,
          0.6666666666666666,
          0.7083333333333334,
          0.9166666666666666,
          0.9166666666666666,
          0.75,
          0.9583333333333334,
          0.875,
          0.8333333333333334,
          0.7916666666666666,
          0.7916666666666666,
          0.8333333333333334,
          0.7916666666666666,
          0.8333333333333334,
          0.875,
          0.9166666666666666,
          0.9166666666666666,
          0.8333333333333334,
          0.8333333333333334,
          0.9166666666666666,
          0.75,
          0.9166666666666666,
          0.7916666666666666,
          0.8333333333333334,
          0.9166666666666666,
          0.7916666666666666,
          0.8333333333333334,
          0.9583333333333334,
          0.7916666666666666,
          0.6666666666666666,
          0.9583333333333334,
          0.9166666666666666,
          0.7916666666666666,
          0.6666666666666666,
          0.8333333333333334,
          0.8333333333333334,
          0.9583333333333334,
          0.8333333333333334,
          0.6666666666666666,
          0.9166666666666666,
          0.8333333333333334,
          0.8333333333333334,
          0.8333333333333334,
          0.875,
          0.875,
          0.7916666666666666,
          0.75,
          0.7083333333333334,
          0.875,
          0.9166666666666666,
          0.8333333333333334,
          0.8333333333333334,
          0.8333333333333334,
          0.75,
          0.875,
          0.8333333333333334,
          0.7916666666666666,
          0.7916666666666666,
          0.875,
          0.8333333333333334,
          0.875,
          0.875,
          0.7916666666666666,
          0.7916666666666666,
          0.875,
          0.9166666666666666,
          1,
          0.9583333333333334,
          0.7916666666666666,
          0.7916666666666666,
          0.7083333333333334,
          1,
          0.7083333333333334,
          0.75,
          0.75,
          0.6666666666666666,
          0.875,
          0.7916666666666666,
          0.9583333333333334,
          0.875,
          0.8333333333333334,
          0.75,
          0.9166666666666666,
          0.7916666666666666,
          0.8333333333333334,
          0.8333333333333334,
          0.75,
          0.875,
          0.875,
          0.8333333333333334,
          0.875,
          0.7916666666666666,
          0.7916666666666666,
          0.875,
          0.9166666666666666,
          0.875,
          0.7916666666666666,
          0.7916666666666666,
          0.7916666666666666,
          0.75,
          0.875,
          0.7916666666666666,
          0.75,
          0.8333333333333334,
          0.875,
          0.2083333333333333,
          0.8333333333333334,
          0.75,
          0.9583333333333334,
          0.8333333333333334,
          0.875,
          0.9166666666666666,
          1,
          0.875,
          0.875,
          0.9583333333333334,
          0.75,
          0.9583333333333334,
          0.9166666666666666,
          0.8333333333333334,
          0.9166666666666666,
          0.8333333333333334,
          0.875,
          0.9583333333333334,
          0.9166666666666666,
          0.9583333333333334,
          0.7916666666666666,
          0.9166666666666666,
          0.9166666666666666,
          0.7916666666666666,
          0.8333333333333334,
          0.875,
          0.875,
          0.7916666666666666,
          0.875,
          0.875,
          0.8333333333333334,
          0.75,
          0.8333333333333334,
          0.9166666666666666,
          0.8333333333333334,
          0.875,
          0.75,
          0.875,
          0.9166666666666666,
          0.75,
          0.9166666666666666,
          0.7916666666666666,
          0.8333333333333334,
          0.6666666666666666,
          0.875,
          0.875,
          0.9166666666666666,
          0.8333333333333334,
          0.75,
          0.7916666666666666,
          0.8333333333333334,
          0.9166666666666666,
          0.8333333333333334,
          0.8333333333333334,
          0.875,
          0.9583333333333334,
          0.875,
          0.8333333333333334,
          0.8333333333333334,
          0.9583333333333334,
          0.875,
          0.7083333333333334,
          0.9583333333333334,
          0.9166666666666666,
          0.875,
          0.75,
          0.9583333333333334,
          0.875,
          0.9166666666666666,
          0.8333333333333334,
          0.875,
          0.7083333333333334,
          0.8333333333333334,
          0.75,
          0.9583333333333334,
          0.8333333333333334,
          0.875,
          0.75,
          0.75,
          0.875,
          0.9166666666666666,
          0.8333333333333334,
          0.875,
          0.875,
          0.7916666666666666,
          0.8333333333333334,
          0.875,
          0.875,
          0.875,
          0.875,
          0.8333333333333334,
          0.9166666666666666,
          0.75,
          0.8333333333333334,
          0.7083333333333334,
          0.875,
          0.8333333333333334,
          0.8333333333333334,
          0.9583333333333334,
          0.9583333333333334,
          0.9583333333333334,
          0.875,
          0.75,
          0.9166666666666666,
          1,
          0.9166666666666666,
          0.75,
          0.8333333333333334,
          0.75,
          0.7916666666666666,
          0.9583333333333334,
          0.875,
          0.8333333333333334,
          0.8333333333333334,
          0.7916666666666666,
          0.7916666666666666,
          0.8333333333333334,
          0.875,
          0.7083333333333334,
          0.75,
          0.7916666666666666,
          0.7916666666666666,
          0.75,
          0.875,
          0.6666666666666666,
          0.8333333333333334,
          0.8333333333333334,
          0.875,
          0.75,
          0.7916666666666666,
          0.9166666666666666,
          1,
          0.7083333333333334,
          1,
          0.7083333333333334,
          0.9583333333333334,
          0.7916666666666666,
          0.8333333333333334,
          0.7083333333333334,
          0.9166666666666666,
          0.9583333333333334,
          0.75,
          0.8333333333333334,
          0.6666666666666666,
          0.75,
          0.75,
          0.7083333333333334,
          0.7916666666666666,
          0.7916666666666666,
          0.6666666666666666,
          0.8333333333333334,
          0.875,
          0.9166666666666666,
          0.9166666666666666,
          0.7916666666666666,
          0.875,
          0.9166666666666666,
          0.875,
          0.9583333333333334,
          0.75,
          0.8333333333333334,
          0.9166666666666666,
          0.9583333333333334,
          0.7083333333333334,
          0.9166666666666666,
          0.9166666666666666,
          0.7083333333333334,
          0.75,
          0.7916666666666666,
          0.9166666666666666,
          0.75,
          1,
          0.75,
          0.7916666666666666,
          0.75,
          0.7916666666666666,
          0.875,
          0.7916666666666666,
          0.8333333333333334,
          1,
          0.875,
          0.875,
          0.875,
          0.8333333333333334,
          0.8333333333333334,
          0.875,
          0.875,
          0.875,
          0.8333333333333334,
          0.7083333333333334,
          0.8333333333333334,
          0.7916666666666666,
          0.7083333333333334,
          0.8333333333333334,
          0.9166666666666666,
          0.875,
          1,
          0.9166666666666666,
          0.9166666666666666,
          0.8333333333333334,
          0.875,
          0.75,
          0.875,
          0.875,
          0.9166666666666666,
          0.7916666666666666,
          0.7916666666666666,
          0.7916666666666666,
          0.9166666666666666,
          0.7916666666666666,
          0.9166666666666666,
          0.875,
          0.875,
          0.9583333333333334,
          0.9583333333333334,
          1,
          0.875,
          0.8333333333333334,
          0.9166666666666666,
          0.75,
          0.7083333333333334,
          0.875,
          0.9583333333333334,
          0.75,
          0.7916666666666666,
          0.9583333333333334,
          0.8333333333333334,
          0.8333333333333334,
          0.9166666666666666,
          0.875,
          0.7916666666666666,
          0.9583333333333334,
          0.875,
          0.9166666666666666,
          0.9166666666666666,
          0.8333333333333334,
          0.8333333333333334,
          0.9166666666666666,
          0.875,
          0.9166666666666666,
          0.75,
          0.9166666666666666,
          0.8333333333333334,
          0.75,
          0.9583333333333334,
          0.7916666666666666,
          0.9583333333333334,
          0.7083333333333334,
          0.75,
          0.875,
          0.8333333333333334,
          0.8333333333333334,
          0.9166666666666666,
          0.75,
          0.9166666666666666,
          0.9166666666666666,
          0.7083333333333334,
          0.7916666666666666,
          0.75,
          0.9583333333333334,
          0.875,
          0.9583333333333334,
          0.9166666666666666,
          0.875,
          0.7916666666666666,
          0.8333333333333334,
          0.7916666666666666,
          0.8333333333333334,
          0.7916666666666666,
          0.7916666666666666,
          0.9166666666666666,
          0.8333333333333334,
          0.875,
          0.8333333333333334,
          0.9166666666666666,
          0.875,
          0.75,
          0.7916666666666666,
          0.9166666666666666,
          0.8333333333333334,
          0.8333333333333334,
          0.7083333333333334,
          0.7083333333333334,
          0.8333333333333334,
          0.9166666666666666,
          0.9166666666666666,
          0.7916666666666666,
          0.8333333333333334,
          0.875,
          0.75,
          0.9583333333333334,
          0.7916666666666666,
          0.8333333333333334,
          0.7916666666666666,
          0.875,
          0.7083333333333334,
          0.7083333333333334,
          0.75,
          0.625,
          0.875,
          0.7916666666666666,
          0.7916666666666666,
          0.875,
          0.7916666666666666,
          0.875,
          0.7916666666666666,
          0.7916666666666666,
          0.9166666666666666,
          0.9583333333333334,
          0.9166666666666666,
          0.9166666666666666,
          0.8333333333333334,
          0.9583333333333334,
          0.7916666666666666,
          0.75,
          0.7916666666666666,
          0.9166666666666666,
          0.875,
          0.75,
          0.875,
          0.875,
          0.9166666666666666,
          0.875,
          0.9583333333333334,
          0.8333333333333334,
          0.875,
          0.75,
          0.875,
          0.75,
          0.9583333333333334,
          0.9583333333333334,
          0.6666666666666666,
          0.7916666666666666,
          0.7083333333333334,
          0.9166666666666666,
          0.875,
          0.8333333333333334,
          0.9166666666666666,
          0.75,
          0.7916666666666666,
          0.7916666666666666,
          0.9583333333333334,
          0.7916666666666666,
          0.875,
          0.75,
          0.875,
          0.7083333333333334,
          0.9583333333333334,
          0.9166666666666666,
          0.7916666666666666,
          0.6666666666666666,
          0.8333333333333334,
          0.5833333333333334,
          0.7916666666666666,
          0.875,
          0.7916666666666666,
          0.9583333333333334,
          0.8333333333333334,
          0.8333333333333334,
          0.75,
          0.9166666666666666,
          0.75,
          0.9583333333333334,
          0.75,
          0.875,
          0.875,
          1,
          0.8333333333333334,
          0.875,
          0.875,
          0.7916666666666666,
          0.8333333333333334,
          0.7916666666666666,
          0.7083333333333334,
          0.7916666666666666,
          0.7916666666666666,
          0.9166666666666666,
          0.9166666666666666,
          1,
          1,
          0.875,
          1,
          0.9166666666666666,
          0.8333333333333334,
          0.7083333333333334,
          0.6666666666666666,
          0.75,
          0.8333333333333334,
          0.75,
          0.9583333333333334,
          0.8333333333333334,
          0.7083333333333334,
          0.7083333333333334,
          0.875,
          0.875,
          0.75,
          0.8333333333333334,
          0.9166666666666666,
          0.625,
          0.9583333333333334,
          0.75,
          0.875,
          0.875,
          0.875,
          0.875,
          0.9583333333333334,
          0.7916666666666666,
          0.7083333333333334,
          0.7083333333333334,
          0.8333333333333334,
          0.875,
          0.7916666666666666,
          0.875,
          1,
          0.8333333333333334,
          0.8333333333333334,
          0.8333333333333334,
          0.8333333333333334,
          0.7916666666666666,
          0.8333333333333334,
          0.875,
          0.875,
          0.8333333333333334,
          0.875,
          0.875,
          0.8333333333333334,
          0.9166666666666666,
          0.8333333333333334,
          0.9583333333333334,
          0.875,
          0.6666666666666666,
          0.875,
          0.875,
          0.9166666666666666,
          0.9166666666666666,
          0.9166666666666666,
          0.8333333333333334,
          0.7916666666666666,
          0.875,
          0.8333333333333334,
          0.7916666666666666,
          0.8333333333333334,
          0.9166666666666666,
          0.9166666666666666,
          0.8333333333333334,
          0.875,
          0.8333333333333334,
          0.7916666666666666,
          0.7916666666666666,
          0.9166666666666666,
          0.875,
          0.75,
          0.6666666666666666,
          0.5416666666666666,
          0.9166666666666666,
          0.8333333333333334,
          0.875,
          0.9583333333333334,
          0.5416666666666666,
          0.875,
          0.9583333333333334,
          0.8333333333333334,
          0.8333333333333334,
          0.9583333333333334,
          0.875,
          0.875,
          0.7916666666666666,
          0.9166666666666666,
          0.8333333333333334,
          0.875,
          0.8333333333333334,
          0.7083333333333334,
          0.875,
          0.7916666666666666,
          0.875,
          0.9166666666666666,
          0.625,
          0.8333333333333334,
          0.9166666666666666,
          0.75,
          0.7916666666666666,
          0.7916666666666666,
          0.7083333333333334,
          0.8333333333333334,
          0.875,
          0.7083333333333334,
          0.75,
          0.9166666666666666,
          0.8333333333333334,
          0.7916666666666666,
          0.875,
          0.9583333333333334,
          0.875,
          0.8333333333333334,
          0.9166666666666666,
          0.75,
          0.9166666666666666,
          0.8333333333333334,
          0.75,
          0.8333333333333334,
          0.875,
          0.7916666666666666,
          0.9166666666666666,
          0.75,
          0.9166666666666666,
          0.875,
          0.8333333333333334,
          0.8333333333333334,
          0.9166666666666666,
          0.9166666666666666,
          0.75,
          0.9166666666666666,
          0.9166666666666666,
          0.7916666666666666,
          0.7083333333333334,
          0.8333333333333334,
          0.8333333333333334,
          0.9583333333333334,
          0.9166666666666666,
          0.9166666666666666,
          0.9166666666666666,
          0.75,
          0.7916666666666666,
          0.9583333333333334,
          0.875,
          0.9583333333333334,
          0.875,
          0.6666666666666666,
          0.8333333333333334,
          0.7916666666666666,
          1,
          0.9583333333333334,
          0.9166666666666666,
          0.875,
          0.7083333333333334,
          0.8333333333333334,
          0.9166666666666666,
          0.7083333333333334,
          0.9583333333333334,
          0.9166666666666666,
          0.75,
          0.75,
          0.7916666666666666,
          0.7916666666666666,
          0.6666666666666666,
          0.6666666666666666,
          0.7916666666666666,
          0.9583333333333334,
          0.8333333333333334,
          0.8333333333333334,
          0.8333333333333334,
          0.8333333333333334,
          0.75,
          0.8333333333333334,
          0.9583333333333334,
          0.75,
          0.9166666666666666,
          0.875,
          0.9166666666666666,
          0.875,
          0.7916666666666666,
          0.8333333333333334,
          0.9583333333333334,
          0.9166666666666666,
          0.9166666666666666,
          0.7916666666666666,
          0.9166666666666666,
          0.875,
          0.75,
          0.875,
          0.6666666666666666,
          0.7916666666666666,
          0.8333333333333334,
          0.875,
          0.9583333333333334,
          0.8333333333333334,
          0.875,
          0.9583333333333334,
          0.7916666666666666,
          0.875,
          0.875,
          0.625,
          0.9583333333333334,
          0.7083333333333334,
          0.875,
          0.75,
          0.875,
          0.9583333333333334,
          0.875,
          0.8333333333333334,
          0.8333333333333334,
          0.875,
          0.75,
          0.6666666666666666,
          0.875,
          0.8333333333333334,
          0.875,
          1,
          0.875,
          0.8333333333333334,
          0.7916666666666666,
          0.8333333333333334,
          0.875,
          0.75,
          0.875,
          0.7916666666666666,
          0.7916666666666666,
          1,
          0.9166666666666666,
          0.8333333333333334,
          0.75,
          0.875,
          0.9166666666666666,
          0.8333333333333334,
          0.7916666666666666,
          0.75,
          0.875,
          0.7916666666666666,
          0.7916666666666666,
          0.8333333333333334,
          0.9166666666666666,
          0.8333333333333334,
          0.9166666666666666,
          0.9583333333333334,
          0.7916666666666666,
          0.8333333333333334,
          0.875,
          0.9583333333333334,
          0.75,
          0.875,
          0.9166666666666666,
          0.7916666666666666,
          0.875,
          0.5833333333333334,
          0.9166666666666666,
          0.875,
          0.8333333333333334,
          0.75,
          0.9166666666666666,
          0.7916666666666666,
          0.7916666666666666,
          0.9166666666666666,
          0.9166666666666666,
          0.75,
          0.9166666666666666,
          1,
          0.7916666666666666,
          0.9166666666666666,
          0.75,
          0.7083333333333334,
          0.875,
          1,
          0.875,
          0.9583333333333334,
          0.7916666666666666,
          0.9166666666666666,
          0.875,
          0.875,
          0.9166666666666666,
          0.875,
          0.8333333333333334,
          0.75,
          0.7916666666666666,
          0.875,
          0.9583333333333334,
          0.7916666666666666,
          0.7916666666666666,
          0.7916666666666666,
          0.875,
          0.7916666666666666,
          0.875,
          0.9166666666666666,
          0.7916666666666666,
          0.9583333333333334,
          0.7916666666666666,
          0.9166666666666666,
          0.9166666666666666,
          0.9166666666666666,
          0.875,
          0.9166666666666666,
          0.9166666666666666,
          0.9583333333333334,
          0.8333333333333334,
          0.7916666666666666,
          0.7916666666666666,
          0.8333333333333334,
          0.8333333333333334,
          0.8333333333333334,
          0.875,
          0.7916666666666666,
          1,
          0.75,
          0.9166666666666666,
          0.8333333333333334,
          0.75,
          0.8333333333333334,
          0.9166666666666666,
          0.8333333333333334,
          0.75,
          0.875,
          0.8333333333333334,
          0.875,
          0.7083333333333334,
          0.7916666666666666,
          0.7916666666666666,
          0.7916666666666666,
          0.8333333333333334,
          0.75,
          0.7083333333333334,
          0.8333333333333334,
          0.7083333333333334,
          0.8333333333333334,
          0.875,
          0.875,
          0.9583333333333334,
          0.7916666666666666,
          0.6666666666666666,
          0.7916666666666666,
          0.7083333333333334,
          0.9166666666666666,
          0.75,
          0.7083333333333334,
          0.8333333333333334,
          0.7916666666666666,
          0.875,
          0.875,
          0.8333333333333334,
          0.8333333333333334,
          0.875,
          0.875,
          0.7083333333333334,
          0.7083333333333334,
          0.75,
          0.75,
          0.875,
          0.875,
          0.875,
          0.7916666666666666,
          0.75,
          0.7916666666666666,
          0.5416666666666666,
          0.75,
          0.7916666666666666,
          0.875,
          0.9583333333333334,
          0.75,
          0.8333333333333334,
          0.6666666666666666,
          0.7916666666666666,
          0.7083333333333334,
          0.7083333333333334,
          0.9166666666666666,
          0.75,
          0.8333333333333334,
          0.7916666666666666,
          0.7083333333333334,
          0.7916666666666666,
          0.8333333333333334,
          0.875,
          0.7916666666666666,
          0.8333333333333334,
          0.75,
          0.875,
          0.7916666666666666,
          0.75,
          0.9166666666666666,
          0.75,
          0.7916666666666666,
          0.75,
          0.9166666666666666,
          0.9166666666666666,
          0.8333333333333334,
          0.7083333333333334,
          0.7916666666666666,
          0.8333333333333334,
          0.7916666666666666,
          0.6666666666666666,
          0.7916666666666666,
          0.75,
          0.875,
          0.8333333333333334,
          0.9166666666666666,
          0.7916666666666666,
          0.875,
          0.7083333333333334,
          0.875,
          0.8333333333333334,
          0.9166666666666666,
          0.7083333333333334,
          0.7083333333333334,
          0.875,
          0.875,
          0.875,
          0.875,
          0.75,
          0.875,
          0.7916666666666666,
          0.8333333333333334,
          0.9583333333333334,
          0.875,
          0.8333333333333334,
          0.9166666666666666,
          0.7083333333333334,
          0.8333333333333334,
          0.875,
          0.875,
          0.8333333333333334,
          0.7083333333333334,
          0.875,
          0.8333333333333334,
          0.8333333333333334,
          0.9166666666666666,
          0.7916666666666666,
          0.9166666666666666,
          0.8333333333333334,
          0.875,
          0.7083333333333334,
          0.7083333333333334,
          0.6666666666666666,
          0.875,
          0.7083333333333334,
          0.7916666666666666,
          0.8333333333333334,
          0.7916666666666666,
          0.8333333333333334,
          0.7916666666666666,
          0.875,
          0.9166666666666666,
          0.875,
          0.8333333333333334,
          0.9166666666666666,
          0.8333333333333334,
          0.7916666666666666,
          0.7916666666666666,
          0.875,
          0.9166666666666666,
          0.7916666666666666,
          0.6666666666666666,
          0.9166666666666666,
          0.875,
          0.875,
          0.8333333333333334,
          0.7916666666666666,
          0.875,
          0.7916666666666666,
          0.75,
          0.75,
          0.8333333333333334,
          0.9166666666666666,
          0.7916666666666666,
          0.875,
          0.9166666666666666,
          0.875,
          0.75,
          0.7916666666666666,
          0.7916666666666666,
          0.75,
          0.7916666666666666,
          0.875,
          0.75,
          0.875,
          0.8333333333333334,
          0.875,
          0.8333333333333334,
          0.9583333333333334,
          0.7916666666666666,
          0.8333333333333334,
          0.875,
          0.7916666666666666,
          0.9583333333333334,
          0.7916666666666666,
          0.8333333333333334,
          1,
          0.7916666666666666,
          0.4166666666666667,
          0.8333333333333334,
          0.625,
          0.8333333333333334,
          0.875,
          0.625,
          0.8333333333333334,
          0.7083333333333334,
          0.9166666666666666,
          0.6666666666666666,
          0.9583333333333334,
          0.875,
          0.8333333333333334,
          0.8333333333333334,
          0.9166666666666666,
          0.7916666666666666,
          0.8333333333333334,
          0.8333333333333334,
          0.875,
          0.875,
          0.8333333333333334,
          0.75,
          0.7916666666666666,
          0.7083333333333334,
          1,
          0.75,
          0.7916666666666666,
          0.8333333333333334,
          0.75,
          0.9166666666666666,
          0.9166666666666666,
          0.75,
          0.7916666666666666,
          0.875,
          0.75,
          0.8333333333333334,
          0.875,
          0.75,
          0.7083333333333334,
          0.6666666666666666,
          0.7916666666666666,
          0.625,
          0.875,
          0.9166666666666666,
          0.75,
          0.9583333333333334,
          0.7916666666666666,
          0.875,
          0.875,
          0.8333333333333334,
          0.625,
          0.75,
          0.7916666666666666,
          0.7916666666666666,
          0.8333333333333334,
          0.875,
          0.9166666666666666,
          0.9583333333333334,
          0.8333333333333334,
          0.7916666666666666,
          0.875,
          0.7083333333333334,
          0.875,
          0.625,
          0.8333333333333334,
          0.7916666666666666,
          0.8333333333333334,
          0.7083333333333334,
          0.9166666666666666,
          0.8333333333333334,
          0.875,
          0.8333333333333334,
          0.875,
          0.7916666666666666,
          0.8333333333333334,
          0.875,
          0.875,
          0.8333333333333334,
          0.875,
          0.7916666666666666,
          0.7083333333333334,
          0.875,
          0.6666666666666666,
          0.9166666666666666,
          0.7083333333333334,
          0.7916666666666666,
          0.7916666666666666,
          0.8333333333333334,
          0.9166666666666666,
          0.6666666666666666,
          0.875,
          0.7916666666666666,
          0.7916666666666666,
          0.9166666666666666,
          0.7916666666666666,
          0.9583333333333334,
          0.7916666666666666,
          0.8333333333333334,
          0.7083333333333334,
          0.75,
          0.7916666666666666,
          0.875,
          0.7083333333333334,
          0.7916666666666666,
          0.7916666666666666,
          0.875,
          0.5416666666666666,
          0.75,
          0.75,
          0.7083333333333334,
          0.7916666666666666,
          0.875,
          0.8333333333333334,
          0.6666666666666666,
          0.75,
          0.7916666666666666,
          0.75,
          0.75,
          0.7083333333333334,
          0.7083333333333334,
          0.7916666666666666,
          0.75,
          0.875,
          0.9583333333333334,
          0.875,
          0.8333333333333334,
          0.75,
          0.7916666666666666,
          0.8333333333333334,
          0.875,
          0.875,
          0.625,
          0.75,
          0.6666666666666666,
          0.875,
          0.7083333333333334,
          0.75,
          0.9166666666666666,
          0.9166666666666666,
          0.875,
          0.7916666666666666,
          0.75,
          0.8333333333333334,
          0.9166666666666666,
          0.7916666666666666,
          0.875,
          0.9583333333333334,
          0.9166666666666666,
          0.875,
          0.875,
          0.8333333333333334,
          0.7083333333333334,
          0.8333333333333334,
          0.9166666666666666,
          0.9166666666666666,
          0.9166666666666666,
          0.8333333333333334,
          0.8333333333333334,
          0.6666666666666666,
          0.8333333333333334,
          0.9583333333333334,
          0.875,
          0.75,
          0.7916666666666666,
          0.8333333333333334,
          0.875,
          0.625,
          0.8333333333333334,
          0.5416666666666666,
          0.5833333333333334,
          0.7916666666666666,
          0.75,
          0.8333333333333334,
          0.7916666666666666,
          0.7916666666666666,
          0.75,
          0.875,
          0.9166666666666666,
          0.9166666666666666,
          0.7916666666666666,
          0.9166666666666666,
          0.9583333333333334,
          0.75,
          0.875,
          0.8333333333333334,
          0.7916666666666666,
          0.875,
          0.7083333333333334,
          0.8333333333333334,
          0.9166666666666666,
          0.875,
          0.75,
          0.7916666666666666,
          0.9166666666666666,
          0.7916666666666666,
          0.5833333333333334,
          0.875,
          0.7916666666666666,
          0.5833333333333334,
          1,
          0.875,
          0.8333333333333334,
          0.9166666666666666,
          0.7916666666666666,
          0.8333333333333334,
          0.7083333333333334,
          0.875,
          0.9166666666666666,
          0.7083333333333334,
          0.75,
          0.75,
          0.875,
          0.75,
          0.8333333333333334,
          0.8333333333333334,
          0.875,
          0.75,
          0.9166666666666666,
          0.875,
          0.9166666666666666,
          0.75,
          0.875,
          0.7083333333333334,
          0.75,
          0.875,
          0.8333333333333334,
          0.8333333333333334,
          0.875,
          0.7916666666666666,
          0.875,
          0.9166666666666666,
          0.7083333333333334,
          0.8333333333333334,
          0.875,
          0.8333333333333334,
          0.9166666666666666,
          0.9166666666666666,
          0.9583333333333334,
          0.7916666666666666,
          0.8333333333333334,
          0.7083333333333334,
          0.7916666666666666,
          0.875,
          0.8333333333333334,
          0.6666666666666666,
          0.9166666666666666,
          0.7916666666666666,
          0.7916666666666666,
          0.7916666666666666,
          0.875,
          0.75,
          0.9583333333333334,
          0.9166666666666666,
          0.8333333333333334,
          0.75,
          0.75,
          0.8333333333333334,
          0.8333333333333334,
          0.8333333333333334,
          0.9166666666666666,
          0.7916666666666666,
          0.9166666666666666,
          0.8333333333333334,
          0.7083333333333334,
          0.875,
          0.7916666666666666,
          0.875,
          0.7916666666666666,
          0.9166666666666666,
          0.8333333333333334,
          0.875,
          0.7083333333333334,
          1,
          0.7916666666666666,
          0.5833333333333334,
          0.7916666666666666,
          0.75,
          0.75,
          0.9166666666666666,
          0.75,
          0.8333333333333334,
          0.7916666666666666,
          0.7083333333333334,
          0.9583333333333334,
          1,
          0.9166666666666666,
          0.875,
          0.8333333333333334,
          0.75,
          0.9166666666666666,
          0.8333333333333334,
          0.875,
          0.8333333333333334,
          0.8333333333333334,
          1,
          0.9166666666666666,
          0.9583333333333334,
          0.7916666666666666,
          0.7083333333333334,
          0.9166666666666666,
          0.7083333333333334,
          0.875,
          0.875,
          0.7083333333333334,
          0.7083333333333334,
          0.9166666666666666,
          0.875,
          0.75,
          0.7083333333333334,
          0.875,
          0.875,
          0.8333333333333334,
          0.8333333333333334,
          0.7916666666666666,
          0.9166666666666666,
          0.875,
          0.75,
          0.7916666666666666,
          0.7916666666666666,
          0.875,
          0.7916666666666666,
          0.7083333333333334,
          0.75,
          0.875,
          0.875,
          0.9166666666666666,
          0.875,
          0.875,
          0.9166666666666666,
          0.8333333333333334,
          0.7916666666666666,
          0.8333333333333334,
          0.625,
          0.9166666666666666,
          0.7916666666666666,
          0.75,
          0.8333333333333334,
          0.8333333333333334,
          1,
          0.7916666666666666,
          0.8333333333333334,
          0.875,
          0.875,
          0.8333333333333334,
          0.9166666666666666,
          0.8333333333333334,
          0.9583333333333334,
          0.75,
          0.7083333333333334,
          0.8333333333333334,
          0.7916666666666666,
          0.8333333333333334,
          1,
          0.8333333333333334,
          0.9583333333333334,
          0.875,
          0.875,
          0.625,
          0.8333333333333334,
          0.7916666666666666,
          0.8333333333333334,
          0.8333333333333334,
          0.7916666666666666,
          0.875,
          0.5833333333333334,
          0.75,
          0.6666666666666666,
          0.8333333333333334,
          0.75,
          0.9583333333333334,
          0.8333333333333334,
          0.7083333333333334,
          0.7083333333333334,
          0.9583333333333334,
          0.7083333333333334,
          0.75,
          0.875,
          0.6666666666666666,
          0.8333333333333334,
          0.9166666666666666,
          0.6666666666666666,
          0.75,
          0.7083333333333334,
          0.875,
          0.875,
          0.875,
          0.9166666666666666,
          0.7916666666666666,
          0.9166666666666666,
          1,
          0.9583333333333334,
          0.875,
          0.8333333333333334,
          0.7916666666666666,
          0.9166666666666666,
          0.75,
          0.75,
          0.8333333333333334,
          0.8333333333333334,
          0.75,
          0.8333333333333334,
          0.875,
          0.9166666666666666,
          0.7916666666666666,
          0.9166666666666666,
          0.7916666666666666,
          0.9166666666666666,
          0.7916666666666666,
          0.9583333333333334,
          0.875,
          0.7916666666666666,
          0.875,
          0.7083333333333334,
          0.7083333333333334,
          0.9166666666666666,
          0.6666666666666666,
          0.7916666666666666,
          0.75,
          0.75,
          0.8333333333333334,
          1,
          0.875,
          0.875,
          0.8333333333333334,
          0.9166666666666666,
          0.9166666666666666,
          0.7916666666666666,
          0.6666666666666666,
          0.8333333333333334,
          0.9166666666666666,
          0.8333333333333334,
          0.8333333333333334,
          0.6666666666666666,
          0.875,
          0.9166666666666666,
          0.9583333333333334,
          0.875,
          0.7916666666666666,
          0.8333333333333334,
          0.9166666666666666,
          0.9166666666666666,
          0.8333333333333334,
          0.8333333333333334,
          0.75,
          0.9166666666666666,
          0.875,
          0.75,
          0.7083333333333334,
          0.8333333333333334,
          0.875,
          0.8333333333333334,
          0.8333333333333334,
          0.7083333333333334,
          0.8333333333333334,
          0.7916666666666666,
          0.8333333333333334,
          0.875,
          0.9166666666666666,
          0.8333333333333334,
          0.8333333333333334,
          0.5,
          0.9583333333333334,
          0.875,
          0.7916666666666666,
          0.6666666666666666,
          0.625,
          0.9166666666666666,
          0.7916666666666666,
          0.75,
          0.8333333333333334,
          0.9583333333333334,
          0.875,
          0.8333333333333334,
          0.9583333333333334,
          0.7916666666666666,
          0.8333333333333334,
          1,
          0.9166666666666666,
          0.875,
          0.8333333333333334,
          0.75,
          0.75,
          0.7916666666666666,
          0.75,
          0.7916666666666666,
          0.75,
          0.8333333333333334,
          0.625,
          0.8333333333333334,
          0.7916666666666666,
          0.75,
          0.6666666666666666,
          0.8333333333333334,
          0.7916666666666666,
          0.7083333333333334,
          0.7083333333333334,
          0.7916666666666666,
          0.75,
          0.875,
          0.875,
          0.875,
          0.8333333333333334,
          0.7083333333333334,
          0.9166666666666666,
          0.8333333333333334,
          0.5833333333333334,
          0.8333333333333334,
          0.9166666666666666,
          0.8333333333333334,
          0.875,
          0.875,
          0.75,
          0.625,
          0.8333333333333334,
          0.875,
          0.75,
          0.8333333333333334,
          0.875,
          0.8333333333333334,
          0.9583333333333334,
          0.875,
          0.9166666666666666,
          0.7916666666666666,
          0.7916666666666666,
          0.7083333333333334,
          0.8333333333333334,
          0.9166666666666666,
          0.75,
          0.875,
          0.6666666666666666,
          0.7916666666666666,
          0.7916666666666666,
          0.9166666666666666,
          0.8333333333333334,
          0.75,
          0.7916666666666666,
          0.875,
          0.9166666666666666,
          0.9166666666666666,
          0.8333333333333334,
          0.75,
          0.9583333333333334,
          0.875,
          0.875,
          0.875,
          0.875,
          0.875,
          0.7916666666666666,
          0.75,
          0.8333333333333334,
          0.7916666666666666,
          0.5833333333333334,
          0.75,
          0.7083333333333334,
          0.7916666666666666,
          0.875,
          0.875,
          0.75,
          0.8333333333333334,
          0.75,
          0.875,
          0.875,
          0.9166666666666666,
          0.7083333333333334,
          0.8333333333333334,
          0.9583333333333334,
          0.8333333333333334,
          0.75,
          0.875,
          0.8333333333333334,
          0.8333333333333334,
          0.875,
          0.9166666666666666,
          0.8333333333333334,
          0.7083333333333334,
          0.7916666666666666,
          0.7916666666666666,
          0.875,
          0.75,
          0.75,
          0.8333333333333334,
          0.75,
          0.8333333333333334,
          0.7083333333333334,
          0.6666666666666666,
          0.8333333333333334,
          0.875,
          0.7916666666666666,
          0.6666666666666666,
          0.875,
          0.875,
          0.75,
          0.875,
          0.9166666666666666,
          0.8333333333333334,
          0.9166666666666666,
          0.875,
          0.75,
          0.75,
          0.9166666666666666,
          0.875,
          0.9166666666666666,
          0.6666666666666666,
          0.625,
          0.75,
          0.8333333333333334,
          0.7916666666666666,
          0.75,
          0.625,
          0.9166666666666666,
          0.8333333333333334,
          0.5833333333333334,
          0.8333333333333334,
          0.9166666666666666,
          0.7916666666666666,
          0.9166666666666666,
          0.875,
          0.8333333333333334,
          0.875,
          0.75,
          0.75,
          0.9166666666666666,
          0.8333333333333334,
          0.625,
          0.875,
          0.7916666666666666,
          0.8333333333333334,
          0.9583333333333334,
          0.875,
          0.875,
          0.75,
          0.9166666666666666,
          0.7916666666666666,
          0.8333333333333334,
          0.8333333333333334,
          0.6666666666666666,
          0.7083333333333334,
          0.7916666666666666,
          0.8333333333333334,
          0.75,
          0.9166666666666666,
          0.8333333333333334,
          0.7083333333333334,
          0.8333333333333334,
          0.9166666666666666,
          0.875,
          0.8333333333333334,
          0.7916666666666666,
          0.9166666666666666,
          0.7083333333333334,
          0.8333333333333334,
          1,
          0.9166666666666666,
          0.8333333333333334,
          0.875,
          0.7916666666666666,
          0.6666666666666666,
          0.8333333333333334,
          0.8333333333333334,
          0.8333333333333334,
          0.875,
          0.9166666666666666,
          0.75,
          0.875,
          0.75,
          0.7916666666666666,
          1,
          0.9166666666666666,
          0.7083333333333334,
          0.75,
          0.875,
          0.9166666666666666,
          0.8333333333333334,
          0.875,
          0.8333333333333334,
          0.875,
          0.7916666666666666,
          0.875,
          0.9166666666666666,
          0.75,
          1,
          0.9166666666666666,
          0.7916666666666666,
          0.75,
          0.8333333333333334,
          0.7083333333333334,
          0.75,
          0.7916666666666666,
          0.8333333333333334,
          0.8333333333333334,
          0.7916666666666666,
          0.8333333333333334,
          0.8333333333333334,
          0.875,
          0.8333333333333334,
          0.8333333333333334,
          0.75,
          0.875,
          0.875,
          1,
          0.875,
          0.75,
          0.8333333333333334,
          0.8333333333333334,
          0.7916666666666666,
          0.875,
          0.7916666666666666,
          0.75,
          0.875,
          0.8333333333333334,
          0.75,
          0.6666666666666666,
          0.6666666666666666,
          0.9166666666666666,
          0.875,
          0.875,
          0.7916666666666666,
          0.9583333333333334,
          0.625,
          0.75,
          0.7916666666666666,
          0.7916666666666666,
          0.8333333333333334,
          0.8333333333333334,
          0.8333333333333334,
          0.9166666666666666,
          0.9166666666666666,
          0.8333333333333334,
          0.75,
          0.6666666666666666,
          0.8333333333333334,
          0.7083333333333334,
          0.75,
          0.7916666666666666,
          0.7916666666666666,
          0.9166666666666666,
          0.7083333333333334,
          0.8333333333333334,
          0.8333333333333334,
          0.9166666666666666,
          0.7916666666666666,
          0.8333333333333334,
          0.9166666666666666,
          0.8333333333333334,
          0.8333333333333334,
          0.9166666666666666,
          0.875,
          0.875,
          0.875,
          0.8333333333333334,
          0.7916666666666666,
          0.875,
          0.75,
          0.875,
          0.6666666666666666,
          0.8333333333333334,
          0.7916666666666666,
          0.8333333333333334,
          0.8333333333333334,
          0.9583333333333334,
          0.875,
          0.875,
          0.7916666666666666,
          0.7916666666666666,
          0.75,
          0.7916666666666666,
          0.8333333333333334,
          0.875,
          0.9166666666666666,
          0.75,
          0.8333333333333334,
          0.7916666666666666,
          0.9166666666666666,
          0.9166666666666666,
          0.8333333333333334,
          0.875,
          0.9166666666666666,
          0.7916666666666666,
          0.7916666666666666,
          0.8333333333333334,
          0.625,
          0.9583333333333334,
          0.7916666666666666,
          0.8333333333333334,
          0.7083333333333334,
          0.75,
          0.75,
          0.7916666666666666,
          0.7916666666666666,
          0.75,
          0.8333333333333334,
          1,
          0.7916666666666666,
          0.625,
          0.9583333333333334,
          0.875,
          0.9166666666666666,
          0.9583333333333334,
          0.875,
          0.8333333333333334,
          0.8333333333333334,
          0.7916666666666666,
          0.9166666666666666,
          0.7916666666666666,
          0.9166666666666666,
          0.9583333333333334,
          0.7916666666666666,
          0.875,
          0.8333333333333334,
          0.9583333333333334,
          0.8333333333333334,
          0.7916666666666666,
          0.6666666666666666,
          0.7916666666666666,
          0.9166666666666666,
          0.75,
          0.9166666666666666,
          0.9166666666666666,
          0.9166666666666666,
          0.9583333333333334,
          0.7916666666666666,
          0.625,
          0.9166666666666666,
          0.75,
          0.8333333333333334,
          0.8333333333333334,
          0.6666666666666666,
          0.875,
          0.7916666666666666,
          0.75,
          0.7916666666666666,
          0.5833333333333334,
          0.875,
          0.7916666666666666,
          0.875,
          1,
          0.9166666666666666,
          0.7083333333333334,
          0.8333333333333334,
          0.7916666666666666,
          0.75,
          0.7916666666666666,
          0.75,
          0.8333333333333334,
          0.75,
          0.875,
          0.8333333333333334,
          0.75,
          0.6666666666666666,
          0.7916666666666666,
          0.875,
          0.7083333333333334,
          0.7916666666666666,
          0.7916666666666666,
          0.7916666666666666,
          0.8333333333333334,
          0.9166666666666666,
          0.7083333333333334,
          0.6666666666666666,
          0.8333333333333334,
          0.8333333333333334,
          0.75,
          0.7083333333333334,
          0.875,
          0.8333333333333334,
          0.7916666666666666,
          0.7916666666666666,
          0.875,
          0.875,
          0.625,
          0.7916666666666666,
          0.8333333333333334,
          0.6666666666666666,
          0.8333333333333334,
          0.75,
          0.875,
          0.75,
          0.7916666666666666,
          0.9166666666666666,
          0.7083333333333334,
          0.8333333333333334,
          0.9583333333333334,
          0.6666666666666666,
          0.875,
          0.875,
          0.7916666666666666,
          0.9166666666666666,
          0.75,
          0.8333333333333334,
          0.7916666666666666,
          0.7916666666666666,
          0.75,
          0.875,
          0.9166666666666666,
          0.875,
          0.7083333333333334,
          0.7083333333333334,
          0.9166666666666666,
          0.875,
          0.875,
          0.9583333333333334,
          0.7083333333333334,
          0.6666666666666666,
          0.875,
          0.7916666666666666,
          0.875,
          0.875,
          0.5833333333333334,
          0.8333333333333334,
          0.875,
          0.7083333333333334,
          0.875,
          0.9166666666666666,
          0.875,
          0.7916666666666666,
          0.7083333333333334,
          0.75,
          0.6666666666666666,
          0.7916666666666666,
          0.875,
          0.8333333333333334,
          0.9583333333333334,
          0.9583333333333334,
          0.9166666666666666,
          0.75,
          0.875,
          0.875,
          0.75,
          0.9166666666666666,
          0.875,
          0.7916666666666666,
          0.7916666666666666,
          0.7916666666666666,
          0.7083333333333334,
          0.9583333333333334,
          0.875,
          0.7083333333333334,
          0.75,
          0.7916666666666666,
          0.75,
          0.875,
          0.875,
          0.7916666666666666,
          0.8333333333333334,
          1,
          0.6666666666666666,
          0.9583333333333334,
          0.9166666666666666,
          0.9166666666666666,
          0.9166666666666666,
          0.875,
          0.7083333333333334,
          0.875,
          0.8333333333333334,
          0.7916666666666666,
          0.7083333333333334,
          0.8333333333333334,
          0.875,
          0.8333333333333334,
          0.9166666666666666,
          0.9583333333333334,
          0.8333333333333334,
          0.625,
          0.9166666666666666,
          0.6666666666666666,
          0.875,
          0.75,
          0.75,
          0.7083333333333334,
          0.7916666666666666,
          0.75,
          0.8333333333333334,
          0.9166666666666666,
          0.9583333333333334,
          0.8333333333333334,
          0.8333333333333334,
          0.875,
          0.7083333333333334,
          0.9166666666666666,
          0.7083333333333334,
          0.7083333333333334,
          0.75,
          0.6666666666666666,
          0.7083333333333334,
          0.7083333333333334,
          0.75,
          0.7083333333333334,
          0.875,
          0.7916666666666666,
          0.8333333333333334,
          0.875,
          1,
          0.7916666666666666,
          0.7916666666666666,
          0.875,
          0.7916666666666666,
          0.9583333333333334,
          0.875,
          0.7083333333333334,
          0.7916666666666666,
          1,
          0.9166666666666666,
          0.7916666666666666,
          0.7083333333333334,
          0.8333333333333334,
          0.9166666666666666,
          0.8333333333333334,
          0.7916666666666666,
          0.9583333333333334,
          0.7916666666666666,
          0.8333333333333334,
          0.7916666666666666,
          0.7916666666666666,
          0.5833333333333334,
          0.7916666666666666,
          0.875,
          0.7916666666666666,
          0.9583333333333334,
          0.7916666666666666,
          0.9166666666666666,
          0.9583333333333334,
          0.75,
          0.75,
          0.8333333333333334,
          0.8333333333333334,
          0.7916666666666666,
          0.8333333333333334,
          0.9166666666666666,
          0.75,
          0.75,
          0.9166666666666666,
          0.625,
          0.7083333333333334,
          0.75,
          0.9166666666666666,
          0.625,
          0.75,
          0.875,
          0.875,
          0.7083333333333334,
          0.875,
          0.7083333333333334,
          0.7916666666666666,
          0.5416666666666666,
          0.9583333333333334,
          0.8333333333333334,
          0.6666666666666666,
          0.8333333333333334,
          0.9166666666666666,
          0.9583333333333334,
          0.7916666666666666,
          0.9166666666666666,
          0.7083333333333334,
          0.8333333333333334,
          0.875,
          0.875,
          0.875,
          0.875,
          0.9583333333333334,
          0.875,
          0.625,
          0.75,
          0.7916666666666666,
          0.9166666666666666,
          0.875,
          0.875,
          0.6666666666666666,
          0.9583333333333334,
          0.8333333333333334,
          0.8333333333333334,
          0.875,
          0.9166666666666666,
          0.75,
          0.7083333333333334,
          0.9166666666666666,
          0.875,
          0.8333333333333334,
          0.9583333333333334,
          0.7916666666666666,
          0.75,
          0.9166666666666666,
          0.75,
          0.875,
          0.875,
          0.9166666666666666,
          0.7083333333333334,
          0.9166666666666666,
          0.7916666666666666,
          0.9166666666666666,
          0.875,
          0.8333333333333334,
          0.8333333333333334,
          0.8333333333333334,
          0.875,
          0.7916666666666666,
          0.875,
          0.9583333333333334,
          0.9166666666666666,
          0.8333333333333334,
          0.9583333333333334,
          0.7916666666666666,
          0.875,
          0.7916666666666666,
          0.8333333333333334,
          0.75,
          0.7916666666666666,
          0.75,
          0.6666666666666666,
          0.75,
          0.7083333333333334,
          0.875,
          0.7916666666666666,
          0.7083333333333334,
          0.875,
          0.875,
          0.9166666666666666,
          0.7916666666666666,
          0.9166666666666666,
          0.7916666666666666,
          1,
          0.9166666666666666,
          0.8333333333333334,
          0.875,
          0.8333333333333334,
          0.75,
          0.875,
          0.625,
          0.9166666666666666,
          0.75,
          0.9583333333333334,
          0.75,
          0.9166666666666666,
          0.9583333333333334,
          0.6666666666666666,
          0.5833333333333334,
          0.875,
          0.9166666666666666,
          0.625,
          0.75,
          0.875,
          0.875,
          0.8333333333333334,
          0.9583333333333334,
          0.9166666666666666,
          0.9166666666666666,
          0.875,
          0.5833333333333334,
          0.875,
          0.8333333333333334,
          0.7916666666666666,
          0.75,
          0.8333333333333334,
          0.7916666666666666,
          0.7916666666666666,
          1,
          0.7916666666666666,
          0.7083333333333334,
          0.875,
          0.8333333333333334,
          0.8333333333333334,
          0.7083333333333334,
          0.875,
          0.9166666666666666,
          0.875,
          0.8333333333333334,
          0.7916666666666666,
          0.875,
          0.5833333333333334,
          0.7916666666666666,
          1,
          0.7916666666666666,
          1,
          0.75,
          0.8333333333333334,
          0.7916666666666666,
          0.9166666666666666,
          0.75,
          0.8333333333333334,
          0.7083333333333334,
          0.75,
          0.9583333333333334,
          0.5,
          0.8333333333333334,
          0.8333333333333334,
          0.8333333333333334,
          0.7916666666666666,
          0.9166666666666666,
          0.875,
          0.6666666666666666,
          0.75,
          0.875,
          0.8333333333333334,
          0.9166666666666666,
          0.9166666666666666,
          0.7916666666666666,
          0.9166666666666666,
          0.9166666666666666,
          0.875,
          0.7916666666666666,
          0.875,
          0.8333333333333334,
          0.7916666666666666,
          0.9166666666666666,
          0.8333333333333334,
          0.8333333333333334,
          0.8333333333333334,
          0.8333333333333334,
          0.875,
          0.875,
          0.8333333333333334,
          0.6666666666666666,
          0.7916666666666666,
          0.75,
          0.7916666666666666,
          0.7083333333333334,
          0.8333333333333334,
          0.9583333333333334,
          0.75,
          0.7916666666666666,
          0.875,
          0.7916666666666666,
          0.875,
          0.875,
          0.9583333333333334,
          0.875,
          0.8333333333333334,
          0.7083333333333334,
          0.875,
          0.7916666666666666,
          0.75,
          0.9166666666666666,
          0.8333333333333334,
          0.75,
          0.8333333333333334,
          0.7916666666666666,
          0.8333333333333334,
          0.875,
          0.9166666666666666,
          0.7083333333333334,
          0.875,
          0.7083333333333334,
          0.875,
          0.8333333333333334,
          0.7083333333333334,
          0.9166666666666666,
          0.8333333333333334,
          0.875,
          0.7083333333333334,
          0.75,
          0.75,
          0.9583333333333334,
          0.875,
          0.7083333333333334,
          0.8333333333333334,
          0.8333333333333334,
          0.875,
          0.8333333333333334,
          0.8333333333333334,
          0.875,
          0.875,
          0.7916666666666666,
          0.7916666666666666,
          0.75,
          0.9166666666666666,
          0.8333333333333334,
          0.8333333333333334,
          0.875,
          0.875,
          0.6666666666666666,
          0.7916666666666666,
          0.875,
          0.8333333333333334,
          0.875,
          0.9166666666666666,
          0.8333333333333334,
          0.8333333333333334,
          0.7916666666666666,
          0.875,
          0.875,
          0.8333333333333334,
          0.7083333333333334,
          0.8333333333333334,
          0.7916666666666666,
          1,
          0.7916666666666666,
          0.6666666666666666,
          0.8333333333333334,
          0.9166666666666666,
          0.75,
          0.875,
          0.7916666666666666,
          0.7916666666666666,
          0.875,
          0.9166666666666666,
          0.875,
          0.875,
          0.9166666666666666,
          0.7083333333333334,
          0.6666666666666666,
          0.7083333333333334,
          0.7916666666666666,
          0.875,
          0.875,
          0.875,
          0.8333333333333334,
          0.7916666666666666,
          0.9166666666666666,
          0.8333333333333334,
          0.8333333333333334,
          0.8333333333333334,
          0.7916666666666666,
          0.875,
          0.75,
          0.9166666666666666,
          0.8333333333333334,
          0.7916666666666666,
          0.7916666666666666,
          0.8333333333333334,
          0.875,
          0.875,
          0.7916666666666666,
          0.7083333333333334,
          0.8333333333333334,
          0.6666666666666666,
          0.7083333333333334,
          0.875,
          0.6666666666666666,
          0.875,
          0.8333333333333334,
          0.9166666666666666,
          0.875,
          0.9166666666666666,
          0.875,
          0.9583333333333334,
          0.8333333333333334,
          0.75,
          0.7916666666666666,
          0.9166666666666666,
          0.8333333333333334,
          0.5,
          0.7916666666666666,
          0.6666666666666666,
          0.9583333333333334,
          0.875,
          0.7083333333333334,
          0.7916666666666666,
          0.7916666666666666,
          0.875,
          0.8333333333333334,
          0.7916666666666666,
          0.8333333333333334,
          0.7916666666666666,
          0.8333333333333334,
          0.7916666666666666,
          0.9583333333333334,
          0.75,
          0.7916666666666666,
          0.6666666666666666,
          0.7083333333333334,
          0.7916666666666666,
          0.875,
          0.875,
          0.9166666666666666,
          0.7916666666666666,
          0.875,
          0.7916666666666666,
          0.7083333333333334,
          0.9166666666666666,
          0.75,
          0.875,
          0.7916666666666666,
          0.75,
          0.8333333333333334,
          0.4166666666666667,
          0.75,
          0.7083333333333334,
          0.875,
          0.875,
          0.875,
          0.875,
          0.9166666666666666,
          0.7916666666666666,
          0.9166666666666666,
          0.9166666666666666,
          0.7916666666666666,
          0.7916666666666666,
          0.8333333333333334,
          0.875,
          0.9583333333333334,
          0.8333333333333334,
          0.7083333333333334,
          0.9166666666666666,
          0.875,
          0.6666666666666666,
          0.7916666666666666,
          0.7916666666666666,
          0.6666666666666666,
          0.7083333333333334,
          0.875,
          0.8333333333333334,
          0.8333333333333334,
          0.7083333333333334,
          0.7083333333333334,
          0.7916666666666666,
          0.6666666666666666,
          0.75,
          0.75,
          0.75,
          0.9583333333333334,
          0.875,
          0.75,
          0.75,
          0.7083333333333334,
          0.875,
          0.9166666666666666,
          0.9166666666666666,
          0.75,
          0.875,
          0.8333333333333334,
          0.8333333333333334,
          0.875,
          0.8333333333333334,
          0.875,
          0.9583333333333334,
          0.7916666666666666,
          0.8333333333333334,
          0.8333333333333334,
          0.9166666666666666,
          0.875,
          0.9583333333333334,
          0.5833333333333334,
          0.875,
          0.875,
          0.75,
          0.7916666666666666,
          0.7916666666666666,
          0.9583333333333334,
          0.6666666666666666,
          0.875,
          0.9166666666666666,
          0.9583333333333334,
          0.7916666666666666,
          0.875,
          0.875,
          0.875,
          1,
          0.75,
          0.7083333333333334,
          0.9166666666666666,
          0.7916666666666666,
          0.9166666666666666,
          0.875,
          0.875,
          0.7916666666666666,
          0.875,
          0.875,
          0.75,
          0.875,
          0.8333333333333334,
          0.8333333333333334,
          0.75,
          0.8333333333333334,
          0.9166666666666666,
          1,
          0.875,
          0.9583333333333334,
          0.875,
          0.8333333333333334,
          1,
          0.6666666666666666,
          0.9166666666666666,
          0.75,
          0.9166666666666666,
          0.75,
          0.9166666666666666,
          0.7916666666666666,
          0.75,
          0.9583333333333334,
          0.8333333333333334,
          0.8333333333333334,
          0.9583333333333334,
          0.875,
          0.7083333333333334,
          0.7916666666666666,
          0.875,
          0.7083333333333334,
          0.8333333333333334,
          0.7916666666666666,
          0.75,
          0.8333333333333334,
          0.6666666666666666,
          0.9583333333333334,
          0.875,
          0.6666666666666666,
          0.7916666666666666,
          0.7916666666666666,
          0.9166666666666666,
          0.8333333333333334,
          0.7083333333333334,
          0.75,
          0.7916666666666666,
          0.9166666666666666,
          0.9583333333333334,
          0.75,
          0.75,
          0.875,
          0.9166666666666666,
          0.8333333333333334,
          0.75,
          0.7916666666666666,
          0.875,
          0.8333333333333334,
          0.875,
          0.75,
          0.6666666666666666,
          0.875,
          0.875,
          0.625,
          0.9166666666666666,
          0.75,
          0.75,
          0.8333333333333334,
          0.875,
          0.7916666666666666,
          0.75,
          0.7916666666666666,
          0.625,
          0.8333333333333334,
          0.75,
          0.875,
          0.625,
          0.875,
          0.8333333333333334,
          0.875,
          0.75,
          0.625,
          0.75,
          0.7916666666666666,
          0.7916666666666666,
          0.9166666666666666,
          0.875,
          0.7083333333333334,
          0.7916666666666666,
          0.9166666666666666,
          0.8333333333333334,
          0.75,
          0.8333333333333334,
          0.625,
          0.625,
          0.7916666666666666,
          0.7916666666666666,
          0.8333333333333334,
          0.75,
          0.875,
          0.625,
          0.7083333333333334,
          0.9583333333333334,
          0.9583333333333334,
          0.875,
          0.6666666666666666,
          0.9166666666666666,
          0.75,
          0.9583333333333334,
          0.9166666666666666,
          0.875,
          0.8333333333333334,
          0.6666666666666666,
          0.6666666666666666,
          0.7083333333333334,
          0.9583333333333334,
          0.5833333333333334,
          0.75,
          0.875,
          1,
          0.7916666666666666,
          0.8333333333333334,
          0.7916666666666666,
          0.8333333333333334,
          0.7916666666666666,
          0.9166666666666666,
          0.7916666666666666,
          0.875,
          0.875,
          0.9583333333333334,
          1,
          0.75,
          0.9166666666666666,
          0.8333333333333334,
          0.7916666666666666,
          0.875,
          0.7083333333333334,
          0.7916666666666666,
          0.875,
          0.8333333333333334,
          0.7916666666666666,
          0.8333333333333334,
          0.9166666666666666,
          0.5416666666666666,
          0.5833333333333334,
          0.9166666666666666,
          0.7916666666666666,
          0.625,
          0.375,
          0.9166666666666666,
          0.875,
          0.7916666666666666,
          0.8333333333333334,
          0.875,
          0.9166666666666666,
          0.8333333333333334,
          0.9583333333333334,
          0.9166666666666666,
          0.875,
          0.875,
          0.875,
          0.875,
          0.875,
          0.8333333333333334,
          0.9166666666666666,
          0.875,
          0.7916666666666666,
          0.7916666666666666,
          0.9166666666666666,
          0.7916666666666666,
          0.9583333333333334,
          0.9583333333333334,
          0.875,
          0.75,
          0.875,
          0.8333333333333334,
          0.9166666666666666,
          0.8333333333333334,
          0.6666666666666666,
          0.625,
          0.8333333333333334,
          0.9166666666666666,
          0.7083333333333334,
          0.75,
          0.7916666666666666,
          0.8333333333333334,
          0.875,
          0.875,
          0.8333333333333334,
          0.8333333333333334,
          0.8333333333333334,
          0.9583333333333334,
          0.9166666666666666,
          0.7916666666666666,
          0.875,
          0.8333333333333334,
          0.75,
          0.875,
          0.875,
          0.9166666666666666,
          0.9583333333333334,
          0.9583333333333334,
          0.875,
          0.875,
          0.875,
          0.875,
          0.7916666666666666,
          0.9166666666666666,
          0.6666666666666666,
          0.875,
          0.7916666666666666,
          0.75,
          0.75,
          0.5833333333333334,
          0.7083333333333334,
          0.75,
          0.8333333333333334,
          0.9583333333333334,
          0.9166666666666666,
          0.75,
          0.7083333333333334,
          0.8333333333333334,
          0.8333333333333334,
          0.7916666666666666,
          0.9166666666666666,
          0.75,
          0.9166666666666666,
          0.8333333333333334,
          0.9583333333333334,
          0.5416666666666666,
          0.9583333333333334,
          0.875,
          0.8333333333333334,
          0.8333333333333334,
          0.5416666666666666,
          0.7083333333333334,
          0.7916666666666666,
          0.7916666666666666,
          0.9166666666666666,
          0.9583333333333334,
          0.8333333333333334,
          0.8333333333333334,
          0.875,
          0.875,
          0.75,
          0.875,
          0.7083333333333334,
          0.7916666666666666,
          0.875,
          0.7916666666666666,
          0.7916666666666666,
          0.75,
          0.9166666666666666,
          0.8333333333333334,
          0.9166666666666666,
          0.8333333333333334,
          0.875,
          0.875,
          0.7916666666666666,
          0.8333333333333334,
          0.7916666666666666,
          0.875,
          0.625,
          0.9583333333333334,
          0.9166666666666666,
          0.7916666666666666,
          0.875,
          0.875,
          0.9166666666666666,
          0.875,
          0.7083333333333334,
          1,
          0.875,
          0.9583333333333334,
          0.875,
          1,
          0.8333333333333334,
          0.9583333333333334,
          0.7916666666666666,
          0.9166666666666666,
          0.75,
          0.875,
          1,
          0.875,
          0.875,
          0.625,
          0.9583333333333334,
          0.8333333333333334,
          0.9166666666666666,
          0.9583333333333334,
          0.9166666666666666,
          0.7916666666666666,
          0.9583333333333334,
          0.8333333333333334,
          0.9166666666666666,
          0.6666666666666666,
          0.75,
          0.8333333333333334,
          0.9166666666666666,
          0.9583333333333334,
          0.7083333333333334,
          0.8333333333333334,
          0.8333333333333334,
          0.8333333333333334,
          0.9166666666666666,
          1,
          1,
          0.875,
          0.9166666666666666,
          0.7083333333333334,
          0.9583333333333334,
          0.75,
          0.9583333333333334,
          1,
          0.875,
          0.75,
          0.9166666666666666,
          0.6666666666666666,
          0.8333333333333334,
          0.9166666666666666,
          0.8333333333333334,
          0.75,
          0.875,
          0.8333333333333334,
          0.875,
          0.7083333333333334,
          0.8333333333333334,
          0.625,
          0.9166666666666666,
          0.9166666666666666,
          1,
          0.7916666666666666,
          0.9583333333333334,
          0.875,
          0.8333333333333334,
          0.7916666666666666,
          0.9166666666666666,
          0.7916666666666666,
          0.75,
          0.875,
          0.6666666666666666,
          0.8333333333333334,
          0.875,
          0.875,
          0.8333333333333334,
          0.9166666666666666,
          0.9583333333333334,
          0.875,
          0.8333333333333334,
          0.625,
          0.875,
          0.8333333333333334,
          0.875,
          1,
          0.8333333333333334,
          0.875,
          0.7916666666666666,
          1,
          0.7916666666666666,
          0.9166666666666666,
          0.9166666666666666,
          0.875,
          0.8333333333333334,
          0.875,
          0.9166666666666666,
          1,
          0.7916666666666666,
          0.9583333333333334,
          0.8333333333333334,
          0.9166666666666666,
          0.875,
          0.9166666666666666,
          0.7916666666666666,
          0.9583333333333334,
          0.7916666666666666,
          0.9583333333333334,
          0.875,
          0.9166666666666666,
          0.6666666666666666,
          0.7083333333333334,
          0.9166666666666666,
          0.8333333333333334,
          0.9166666666666666,
          0.9583333333333334,
          0.875,
          0.875,
          0.9166666666666666,
          0.875,
          0.7083333333333334,
          0.8333333333333334,
          0.8333333333333334,
          0.9166666666666666,
          0.875,
          0.875,
          0.75,
          0.8333333333333334,
          0.875,
          0.875,
          0.8333333333333334,
          0.7916666666666666,
          0.875,
          0.9583333333333334,
          0.625,
          0.6666666666666666,
          0.9166666666666666,
          0.9166666666666666,
          0.875,
          0.8333333333333334,
          0.75,
          0.9583333333333334,
          0.7083333333333334,
          0.75,
          1,
          0.9166666666666666,
          0.875,
          0.875,
          0.9166666666666666,
          1,
          0.875,
          0.875,
          0.9166666666666666,
          0.7916666666666666,
          0.875,
          0.8333333333333334,
          0.875,
          0.8333333333333334,
          0.875,
          0.9583333333333334,
          0.7916666666666666,
          0.9583333333333334,
          0.8333333333333334,
          0.9166666666666666,
          0.875,
          0.9166666666666666,
          0.8333333333333334,
          0.8333333333333334,
          0.7916666666666666,
          0.875,
          0.875,
          0.75,
          0.9166666666666666,
          0.9583333333333334,
          0.7916666666666666,
          0.875,
          0.875,
          0.875,
          0.8333333333333334,
          0.9583333333333334,
          0.8333333333333334,
          0.9166666666666666,
          0.9166666666666666,
          0.75,
          0.9166666666666666,
          0.8333333333333334,
          0.9583333333333334,
          0.8333333333333334,
          0.875,
          0.9166666666666666,
          0.9166666666666666,
          0.7083333333333334,
          1,
          0.875,
          0.9166666666666666,
          0.75,
          0.9166666666666666,
          0.9166666666666666,
          0.875,
          0.8333333333333334,
          1,
          0.9583333333333334,
          0.9166666666666666,
          0.7083333333333334,
          0.875,
          0.7916666666666666,
          0.9583333333333334,
          0.875,
          1,
          0.7916666666666666,
          0.7916666666666666,
          0.7916666666666666,
          0.9583333333333334,
          0.8333333333333334,
          0.7916666666666666,
          0.9166666666666666,
          0.7916666666666666,
          0.875,
          0.9166666666666666,
          0.875,
          0.9583333333333334,
          0.75,
          0.9583333333333334,
          0.7916666666666666,
          0.7916666666666666,
          0.7916666666666666,
          1,
          0.7916666666666666,
          0.9583333333333334,
          0.9583333333333334,
          0.7916666666666666,
          0.9166666666666666,
          0.875,
          1,
          0.9583333333333334,
          0.7916666666666666,
          0.9166666666666666,
          0.8333333333333334,
          0.9583333333333334,
          0.9166666666666666,
          0.7083333333333334,
          0.9166666666666666,
          0.8333333333333334,
          0.875,
          0.9583333333333334,
          0.875,
          0.9166666666666666,
          0.875,
          0.875,
          0.875,
          0.8333333333333334,
          0.8333333333333334,
          0.75,
          0.9166666666666666,
          0.9583333333333334,
          0.7083333333333334,
          0.875,
          0.875,
          0.875,
          0.9583333333333334,
          1,
          0.9166666666666666,
          0.9583333333333334,
          0.8333333333333334,
          0.875,
          0.8333333333333334,
          0.7083333333333334,
          0.7083333333333334,
          0.9583333333333334,
          0.9166666666666666,
          0.6666666666666666,
          0.7916666666666666,
          1,
          0.8333333333333334,
          1,
          1,
          0.9583333333333334,
          0.9166666666666666,
          0.9166666666666666,
          0.9583333333333334,
          0.9166666666666666,
          0.7916666666666666,
          0.7916666666666666,
          0.875,
          0.5416666666666666,
          0.75,
          0.7916666666666666,
          0.7916666666666666,
          1,
          1,
          0.7083333333333334,
          0.9583333333333334,
          0.9166666666666666,
          0.9583333333333334,
          0.8333333333333334,
          0.7916666666666666,
          0.875,
          0.7916666666666666,
          0.8333333333333334,
          0.9166666666666666,
          0.875,
          0.8333333333333334,
          1,
          0.9166666666666666,
          0.9583333333333334,
          0.9583333333333334,
          0.8333333333333334,
          0.8333333333333334,
          0.8333333333333334,
          0.7916666666666666,
          0.875,
          0.875,
          1,
          0.75,
          0.8333333333333334,
          0.9166666666666666,
          0.6666666666666666,
          0.75,
          0.9166666666666666,
          0.9166666666666666,
          0.9166666666666666,
          0.8333333333333334,
          0.875,
          0.9583333333333334,
          0.7916666666666666,
          0.9166666666666666,
          0.875,
          0.7916666666666666,
          0.875,
          0.875,
          0.9166666666666666,
          0.9583333333333334,
          1,
          0.9583333333333334,
          0.8333333333333334,
          0.9583333333333334,
          0.9166666666666666,
          0.875,
          1,
          0.7083333333333334,
          0.875,
          0.7083333333333334,
          0.875,
          0.9166666666666666,
          0.8333333333333334,
          0.8333333333333334,
          1,
          0.9166666666666666,
          0.9166666666666666,
          0.8333333333333334,
          0.875,
          0.9166666666666666,
          0.8333333333333334,
          0.875,
          0.7916666666666666,
          0.9583333333333334,
          0.875,
          1,
          0.9166666666666666,
          0.8333333333333334,
          0.9166666666666666,
          0.8333333333333334,
          0.8333333333333334,
          0.7916666666666666,
          0.9166666666666666,
          0.5833333333333334,
          0.875,
          0.75,
          1,
          0.9166666666666666,
          0.875,
          1,
          0.8333333333333334,
          0.9583333333333334,
          0.8333333333333334,
          0.9166666666666666,
          0.8333333333333334,
          0.875,
          0.875,
          0.875,
          0.9166666666666666,
          0.75,
          0.875,
          0.8333333333333334,
          0.8333333333333334,
          0.8333333333333334,
          0.9583333333333334,
          0.9583333333333334,
          0.7916666666666666,
          0.875,
          0.7916666666666666,
          0.9583333333333334,
          0.9166666666666666,
          1,
          0.7916666666666666,
          0.875,
          0.7916666666666666,
          0.9166666666666666,
          0.875,
          0.8333333333333334,
          0.9583333333333334,
          0.875,
          0.9583333333333334,
          0.9166666666666666,
          0.9166666666666666,
          0.7916666666666666,
          0.875,
          0.9583333333333334,
          0.75,
          0.9166666666666666,
          0.9583333333333334,
          0.8333333333333334,
          0.75,
          0.9583333333333334,
          0.875,
          0.8333333333333334,
          0.7916666666666666,
          0.9583333333333334,
          0.9166666666666666,
          0.8333333333333334,
          1,
          0.875,
          0.9166666666666666,
          0.7916666666666666,
          0.9166666666666666,
          1,
          0.875,
          0.9166666666666666,
          0.875,
          0.875,
          0.9583333333333334,
          0.875,
          0.875,
          0.9583333333333334,
          0.9166666666666666,
          0.8333333333333334,
          0.9166666666666666,
          0.8333333333333334,
          0.9166666666666666,
          0.9583333333333334,
          0.9166666666666666,
          0.9166666666666666,
          0.7916666666666666,
          0.6666666666666666,
          0.9166666666666666,
          0.7083333333333334,
          0.9166666666666666,
          0.9583333333333334,
          0.7916666666666666,
          0.9583333333333334,
          0.9583333333333334,
          0.875,
          0.9166666666666666,
          0.8333333333333334,
          0.875,
          0.9583333333333334,
          0.8333333333333334,
          0.8333333333333334,
          0.9583333333333334,
          0.875,
          0.9583333333333334,
          0.9166666666666666,
          0.9166666666666666,
          0.9166666666666666,
          0.875,
          0.8333333333333334,
          0.9166666666666666,
          0.875,
          0.7916666666666666,
          0.625,
          0.9166666666666666,
          0.9583333333333334,
          0.875,
          0.7916666666666666,
          0.875,
          0.875,
          0.9166666666666666,
          0.9166666666666666,
          0.9583333333333334,
          0.875,
          0.9166666666666666,
          0.875,
          0.8333333333333334,
          0.9583333333333334,
          0.9166666666666666,
          1,
          0.7916666666666666,
          0.9166666666666666,
          0.9583333333333334,
          0.9583333333333334,
          0.7083333333333334,
          0.8333333333333334,
          0.9166666666666666,
          0.9166666666666666,
          0.7916666666666666,
          0.9166666666666666,
          0.875,
          1,
          0.9166666666666666,
          0.8333333333333334,
          0.9583333333333334,
          0.7916666666666666,
          0.875,
          0.875,
          0.875,
          0.7916666666666666,
          0.8333333333333334,
          0.9166666666666666,
          1,
          0.8333333333333334,
          0.8333333333333334,
          1,
          0.875,
          1,
          0.7083333333333334,
          0.7916666666666666,
          0.875,
          0.9583333333333334,
          0.875,
          0.875,
          0.875,
          0.9166666666666666,
          0.8333333333333334,
          0.875,
          0.875,
          0.9166666666666666,
          0.7916666666666666,
          0.9583333333333334,
          0.9583333333333334,
          0.9583333333333334,
          0.9583333333333334,
          0.875,
          1,
          0.7916666666666666,
          0.9166666666666666,
          1,
          0.9166666666666666,
          0.75,
          0.8333333333333334,
          0.7916666666666666,
          0.875,
          0.9166666666666666,
          0.9166666666666666,
          0.9583333333333334,
          1,
          0.8333333333333334,
          0.9583333333333334,
          0.8333333333333334,
          0.8333333333333334,
          0.9166666666666666,
          0.7916666666666666,
          0.9583333333333334,
          0.9166666666666666,
          0.8333333333333334,
          0.7916666666666666,
          0.6666666666666666,
          0.9166666666666666,
          0.875,
          0.7916666666666666,
          0.6666666666666666,
          0.7916666666666666,
          0.7916666666666666,
          0.875,
          0.9166666666666666,
          0.9583333333333334,
          0.7083333333333334,
          0.8333333333333334,
          0.9583333333333334,
          0.8333333333333334,
          0.7916666666666666,
          0.9166666666666666,
          0.7916666666666666,
          0.875,
          0.75,
          0.875,
          0.9583333333333334,
          0.9583333333333334,
          0.7083333333333334,
          0.8333333333333334,
          0.9166666666666666,
          0.7916666666666666,
          0.9166666666666666,
          1,
          0.875,
          0.9166666666666666,
          0.875,
          0.9166666666666666,
          0.6666666666666666,
          0.9166666666666666,
          0.9166666666666666,
          1,
          0.9166666666666666,
          1,
          0.6666666666666666,
          0.9166666666666666,
          0.9583333333333334,
          0.8333333333333334,
          0.9166666666666666,
          0.7916666666666666,
          0.875,
          0.875,
          0.875,
          0.875,
          0.875,
          0.9166666666666666,
          0.875,
          0.8333333333333334,
          0.9583333333333334,
          0.9583333333333334,
          1,
          0.75,
          0.9166666666666666,
          0.9166666666666666,
          0.75,
          0.7916666666666666,
          0.9166666666666666,
          1,
          0.9166666666666666,
          0.875,
          0.9583333333333334,
          0.875,
          0.8333333333333334,
          0.9583333333333334,
          0.875,
          0.9583333333333334,
          0.8333333333333334,
          0.9166666666666666,
          0.8333333333333334,
          0.9583333333333334,
          1,
          0.875,
          0.8333333333333334,
          0.875,
          1,
          0.9166666666666666,
          0.8333333333333334,
          0.8333333333333334,
          0.9166666666666666,
          1,
          0.875,
          0.8333333333333334,
          0.9166666666666666,
          0.875,
          0.75,
          0.7916666666666666,
          0.9166666666666666,
          0.9166666666666666,
          0.9583333333333334,
          0.7916666666666666,
          0.7916666666666666,
          0.875,
          0.9166666666666666,
          0.875,
          0.9166666666666666,
          0.8333333333333334,
          0.9583333333333334,
          0.8333333333333334,
          1,
          1,
          1,
          1,
          0.9166666666666666,
          0.875,
          0.7916666666666666,
          0.9583333333333334,
          0.8333333333333334,
          0.875,
          0.875,
          0.875,
          0.6666666666666666,
          0.9166666666666666,
          0.9166666666666666,
          0.7916666666666666,
          0.875,
          0.875,
          0.9583333333333334,
          0.9583333333333334,
          0.875,
          0.7916666666666666,
          0.9583333333333334,
          0.9583333333333334,
          0.9166666666666666,
          0.875,
          0.875,
          0.9583333333333334,
          0.9166666666666666,
          0.9583333333333334,
          0.875,
          0.9166666666666666,
          0.8333333333333334,
          0.6666666666666666,
          0.9583333333333334,
          0.9583333333333334,
          0.9583333333333334,
          1,
          0.9583333333333334,
          0.8333333333333334,
          0.8333333333333334,
          0.9166666666666666,
          0.75,
          0.8333333333333334,
          0.875,
          0.9583333333333334,
          0.7916666666666666,
          0.9583333333333334,
          0.9166666666666666,
          0.7916666666666666,
          0.5416666666666666,
          0.9166666666666666,
          0.7916666666666666,
          0.875,
          0.7916666666666666,
          0.9166666666666666,
          0.9166666666666666,
          0.8333333333333334,
          0.9166666666666666,
          0.9583333333333334,
          0.75,
          0.7916666666666666,
          0.9166666666666666,
          0.875,
          0.875,
          0.9583333333333334,
          0.9583333333333334,
          0.7916666666666666,
          0.8333333333333334,
          0.9583333333333334,
          0.875,
          0.7916666666666666,
          0.9166666666666666,
          0.9583333333333334,
          0.9166666666666666,
          0.9583333333333334,
          0.8333333333333334,
          0.875,
          0.8333333333333334,
          1,
          0.9166666666666666,
          0.875,
          0.9583333333333334,
          0.8333333333333334,
          0.9166666666666666,
          0.7916666666666666,
          0.9583333333333334,
          0.8333333333333334,
          0.8333333333333334,
          0.7916666666666666,
          1,
          0.75,
          0.9166666666666666,
          0.875,
          0.9583333333333334,
          0.9583333333333334,
          0.8333333333333334,
          0.9583333333333334,
          0.875,
          0.9166666666666666,
          0.9583333333333334,
          0.9166666666666666,
          0.9583333333333334,
          0.625,
          0.875,
          0.8333333333333334,
          0.9583333333333334,
          0.8333333333333334,
          0.9166666666666666,
          0.9166666666666666,
          0.875,
          0.9166666666666666,
          1,
          0.9166666666666666,
          0.8333333333333334,
          0.875,
          0.875,
          1,
          0.9583333333333334,
          0.7916666666666666,
          0.8333333333333334,
          0.9583333333333334,
          0.9166666666666666,
          0.9583333333333334,
          0.875,
          0.8333333333333334,
          0.9583333333333334,
          0.9166666666666666,
          0.9583333333333334,
          1,
          0.7916666666666666,
          0.6666666666666666,
          0.875,
          0.875,
          0.9166666666666666,
          0.7916666666666666,
          0.9583333333333334,
          0.8333333333333334,
          0.7916666666666666,
          1,
          0.9166666666666666,
          0.8333333333333334,
          0.875,
          0.9166666666666666,
          0.9166666666666666,
          0.9583333333333334,
          0.6666666666666666,
          0.9166666666666666,
          0.9583333333333334,
          0.9583333333333334,
          0.9583333333333334,
          0.8333333333333334,
          0.9166666666666666,
          1,
          0.9583333333333334,
          0.875,
          0.75,
          1,
          0.9583333333333334,
          0.9583333333333334,
          0.7916666666666666,
          0.9166666666666666,
          0.7916666666666666,
          0.7916666666666666,
          0.9583333333333334,
          0.9166666666666666,
          0.9583333333333334,
          0.8333333333333334,
          0.7083333333333334,
          0.8333333333333334,
          0.9583333333333334,
          0.9583333333333334,
          0.9583333333333334,
          0.8333333333333334,
          0.9583333333333334,
          0.8333333333333334,
          0.875,
          0.7916666666666666,
          0.9583333333333334,
          0.9166666666666666,
          1,
          0.75,
          0.9166666666666666,
          0.875,
          1,
          0.8333333333333334,
          0.7916666666666666,
          0.75,
          0.9166666666666666,
          0.9583333333333334,
          0.9166666666666666,
          0.9583333333333334,
          0.8333333333333334,
          0.8333333333333334,
          0.9166666666666666,
          0.9166666666666666,
          1,
          0.7916666666666666,
          0.9583333333333334,
          0.875,
          0.7916666666666666,
          0.9166666666666666,
          0.9166666666666666,
          0.9166666666666666,
          0.7916666666666666,
          0.8333333333333334,
          0.875,
          0.875,
          0.9583333333333334,
          0.9166666666666666,
          0.7916666666666666,
          0.8333333333333334,
          0.7916666666666666,
          0.9166666666666666,
          1,
          0.8333333333333334,
          0.875,
          0.9583333333333334,
          0.7083333333333334,
          0.875,
          1,
          0.9166666666666666,
          1,
          0.7916666666666666,
          0.9583333333333334,
          0.9166666666666666,
          0.875,
          1,
          0.9583333333333334,
          0.9166666666666666,
          0.7916666666666666,
          1,
          0.8333333333333334,
          0.8333333333333334,
          0.7083333333333334,
          0.7083333333333334,
          0.875,
          0.9166666666666666,
          0.9166666666666666,
          0.875,
          1,
          0.875,
          0.9166666666666666,
          0.7916666666666666,
          0.8333333333333334,
          0.875,
          1,
          0.7916666666666666,
          0.9583333333333334,
          0.9583333333333334,
          0.8333333333333334,
          0.9583333333333334,
          0.9166666666666666,
          0.9166666666666666,
          1,
          0.6666666666666666,
          0.9166666666666666,
          0.9166666666666666,
          0.9583333333333334,
          0.875,
          0.75,
          0.9166666666666666,
          0.9166666666666666,
          0.9166666666666666,
          0.8333333333333334,
          0.9583333333333334,
          0.8333333333333334,
          0.9166666666666666,
          0.7916666666666666,
          0.875,
          0.9166666666666666,
          0.9166666666666666,
          0.9166666666666666,
          0.9583333333333334,
          1,
          0.7083333333333334,
          1,
          0.9583333333333334,
          0.875,
          0.875,
          0.9166666666666666,
          0.875,
          0.9166666666666666,
          0.6666666666666666,
          0.9583333333333334,
          0.9166666666666666,
          0.9583333333333334,
          0.9166666666666666,
          0.875,
          0.7916666666666666,
          0.9583333333333334,
          0.875,
          0.9166666666666666,
          0.8333333333333334,
          0.7916666666666666,
          0.75,
          0.875,
          0.9166666666666666,
          0.9583333333333334,
          0.8333333333333334,
          0.875,
          0.875,
          0.9166666666666666,
          0.6666666666666666,
          0.9166666666666666,
          0.7916666666666666,
          0.9583333333333334,
          0.7916666666666666,
          0.75,
          0.9583333333333334,
          0.9583333333333334,
          0.7916666666666666,
          0.7083333333333334,
          0.9166666666666666,
          0.9583333333333334,
          0.75,
          0.875,
          0.875,
          0.9583333333333334,
          0.9583333333333334,
          0.7916666666666666,
          0.75,
          0.9166666666666666,
          0.875,
          0.875,
          0.8333333333333334,
          0.9166666666666666,
          0.9583333333333334,
          0.9166666666666666,
          0.9166666666666666,
          0.9166666666666666,
          0.7083333333333334,
          0.875,
          0.875,
          0.9166666666666666,
          0.8333333333333334,
          0.75,
          0.9583333333333334,
          0.75,
          0.9166666666666666,
          0.875,
          0.9166666666666666,
          0.75,
          0.9583333333333334,
          0.7916666666666666,
          0.625,
          0.875,
          0.9166666666666666,
          0.6666666666666666,
          0.7083333333333334,
          0.9166666666666666,
          0.8333333333333334,
          0.75,
          0.5833333333333334,
          0.875,
          0.9166666666666666,
          0.875,
          0.8333333333333334,
          0.8333333333333334,
          0.875,
          0.7916666666666666,
          0.7916666666666666,
          0.875,
          0.875,
          0.8333333333333334,
          0.9166666666666666,
          0.75,
          0.9166666666666666,
          0.8333333333333334,
          0.7916666666666666,
          0.75,
          0.8333333333333334,
          0.9166666666666666,
          0.9166666666666666,
          0.7916666666666666,
          0.8333333333333334,
          0.9583333333333334,
          0.8333333333333334,
          0.9583333333333334,
          0.9583333333333334,
          0.9166666666666666,
          0.9583333333333334,
          0.8333333333333334,
          1,
          1,
          1,
          0.9166666666666666,
          0.7916666666666666,
          0.9166666666666666,
          0.875,
          0.9583333333333334,
          0.9583333333333334,
          0.9166666666666666,
          0.9166666666666666,
          0.9166666666666666,
          0.7916666666666666,
          0.9166666666666666,
          0.9583333333333334,
          0.875,
          0.9583333333333334,
          0.9583333333333334,
          1,
          0.875,
          0.9166666666666666,
          0.875,
          0.9583333333333334,
          0.7916666666666666,
          0.8333333333333334,
          0.9583333333333334,
          0.7916666666666666,
          0.7083333333333334,
          0.9583333333333334,
          0.9166666666666666,
          0.7083333333333334,
          0.8333333333333334,
          0.9583333333333334,
          0.75,
          0.875,
          0.8333333333333334,
          0.9583333333333334,
          0.875,
          1,
          0.6666666666666666,
          0.9583333333333334,
          0.8333333333333334,
          0.9583333333333334,
          0.9583333333333334,
          0.875,
          0.9166666666666666,
          0.875,
          0.75,
          0.7916666666666666,
          0.7916666666666666,
          0.8333333333333334,
          0.75,
          0.9583333333333334,
          0.8333333333333334,
          0.8333333333333334,
          0.7916666666666666,
          1,
          0.9583333333333334,
          0.7916666666666666,
          0.9166666666666666,
          0.875,
          0.75,
          0.875,
          0.8333333333333334,
          0.9166666666666666,
          0.875,
          0.8333333333333334,
          0.9583333333333334,
          0.875,
          0.75,
          0.7916666666666666,
          0.9583333333333334,
          0.875,
          0.9166666666666666,
          0.8333333333333334,
          0.75,
          0.875,
          0.7916666666666666,
          0.875,
          0.9166666666666666,
          0.5833333333333334,
          0.875,
          0.9166666666666666,
          0.875,
          0.8333333333333334,
          0.9583333333333334,
          0.9583333333333334,
          0.875,
          0.9166666666666666,
          0.9583333333333334,
          0.75,
          0.9166666666666666,
          0.875,
          0.8333333333333334,
          0.875,
          0.9166666666666666,
          0.9166666666666666,
          0.75,
          0.5833333333333334,
          0.875,
          0.9583333333333334,
          0.75,
          0.9583333333333334,
          0.8333333333333334,
          0.8333333333333334,
          0.875,
          0.9166666666666666,
          0.7916666666666666,
          0.875,
          1,
          0.9583333333333334,
          0.5833333333333334,
          0.9166666666666666,
          0.875,
          0.875,
          0.875,
          0.875,
          0.9583333333333334,
          0.9583333333333334,
          0.9583333333333334,
          0.9166666666666666,
          1,
          0.7916666666666666,
          0.9166666666666666,
          0.9583333333333334,
          0.8333333333333334,
          0.9583333333333334,
          0.6666666666666666,
          0.875,
          0.9166666666666666,
          0.9583333333333334,
          1,
          0.75,
          0.9583333333333334,
          0.875,
          0.875,
          0.9166666666666666,
          0.7083333333333334,
          0.8333333333333334,
          0.875,
          0.9583333333333334,
          0.8333333333333334,
          0.7916666666666666,
          0.9583333333333334,
          0.9166666666666666,
          0.9166666666666666,
          0.8333333333333334,
          0.9166666666666666,
          0.9166666666666666,
          0.9166666666666666,
          1,
          0.8333333333333334,
          0.9166666666666666,
          0.9166666666666666,
          0.9166666666666666,
          0.8333333333333334,
          0.7916666666666666,
          0.9583333333333334,
          0.9166666666666666,
          0.9166666666666666,
          0.875,
          0.8333333333333334,
          0.4583333333333333,
          0.75,
          1,
          0.9166666666666666,
          0.9166666666666666,
          0.9166666666666666,
          0.9166666666666666,
          0.875,
          0.9166666666666666,
          0.875,
          0.7916666666666666,
          0.75,
          0.9583333333333334,
          0.8333333333333334,
          0.125,
          0.7916666666666666,
          0.9166666666666666,
          0.875,
          0.7083333333333334,
          0.9166666666666666,
          0.9583333333333334,
          0.9166666666666666,
          1,
          0.9166666666666666,
          0.625,
          0.7083333333333334,
          0.9166666666666666,
          0.6666666666666666,
          0.875,
          0.8333333333333334,
          0.9583333333333334,
          0.7916666666666666,
          1,
          0.8333333333333334,
          0.875,
          0.8333333333333334,
          1,
          0.7916666666666666,
          0.9166666666666666,
          0.8333333333333334,
          0.9583333333333334,
          0.9166666666666666,
          0.9583333333333334,
          0.9583333333333334,
          0.9166666666666666,
          0.8333333333333334,
          0.7916666666666666,
          0.9166666666666666,
          0.8333333333333334,
          0.9583333333333334,
          0.9166666666666666,
          0.9583333333333334,
          0.7083333333333334,
          0.875,
          0.9583333333333334,
          0.9166666666666666,
          0.9166666666666666,
          0.8333333333333334,
          0.875,
          0.875,
          0.875,
          0.7916666666666666,
          0.6666666666666666,
          0.8333333333333334,
          0.75,
          0.7916666666666666,
          0.9166666666666666,
          0.875,
          0.7916666666666666,
          0.75,
          0.7916666666666666,
          0.7083333333333334,
          0.875,
          0.875,
          0.875,
          0.875,
          0.8333333333333334,
          0.6666666666666666,
          0.7083333333333334,
          0.7916666666666666,
          0.625,
          0.625,
          0.625,
          0.7916666666666666,
          0.875,
          0.6666666666666666,
          0.9166666666666666,
          0.9583333333333334,
          0.8333333333333334,
          0.8333333333333334,
          0.8333333333333334,
          0.8333333333333334,
          0.6666666666666666,
          0.875,
          0.75,
          0.9166666666666666,
          0.875,
          0.875,
          0.875,
          0.7083333333333334,
          0.9583333333333334,
          0.7916666666666666,
          0.7916666666666666,
          0.8333333333333334,
          0.875,
          0.9166666666666666,
          0.8333333333333334,
          0.8333333333333334,
          0.7916666666666666,
          0.75,
          0.9166666666666666,
          0.875,
          0.9166666666666666,
          0.8333333333333334,
          0.875,
          0.8333333333333334,
          0.7916666666666666,
          0.9583333333333334,
          0.875,
          0.8333333333333334,
          1,
          0.8333333333333334,
          0.8333333333333334,
          0.9166666666666666,
          0.8333333333333334,
          0.9166666666666666,
          0.8333333333333334,
          0.9166666666666666,
          0.75,
          0.875,
          0.9166666666666666,
          0.9166666666666666,
          0.6666666666666666,
          0.9166666666666666,
          0.9583333333333334,
          0.8333333333333334,
          0.9166666666666666,
          0.875,
          0.875,
          0.875,
          0.875,
          0.875,
          1,
          0.9166666666666666,
          0.9166666666666666,
          0.9583333333333334,
          0.875,
          0.875,
          0.9166666666666666,
          0.875,
          0.9166666666666666,
          0.8333333333333334,
          0.875,
          0.875,
          0.7916666666666666,
          0.8333333333333334,
          0.7916666666666666,
          0.75,
          0.875,
          0.7083333333333334,
          0.875,
          0.875,
          0.9166666666666666,
          0.875,
          0.9583333333333334,
          0.875,
          0.8333333333333334,
          0.9583333333333334,
          0.875,
          1,
          0.6666666666666666,
          0.9583333333333334,
          0.9583333333333334,
          1,
          0.9166666666666666,
          0.9583333333333334,
          0.9583333333333334,
          0.9166666666666666,
          0.9583333333333334,
          1,
          0.9166666666666666,
          0.9583333333333334,
          0.9166666666666666,
          0.9166666666666666,
          0.9583333333333334,
          0.9166666666666666,
          0.875,
          0.7916666666666666,
          0.9166666666666666,
          0.875,
          0.9166666666666666,
          0.9166666666666666,
          0.875,
          0.9166666666666666,
          0.9166666666666666,
          0.875,
          0.875,
          0.9166666666666666,
          0.9166666666666666,
          0.875,
          0.875,
          0.9166666666666666,
          0.8333333333333334,
          0.8333333333333334,
          0.9583333333333334,
          0.9166666666666666,
          0.9166666666666666,
          0.75,
          0.9166666666666666,
          0.9166666666666666,
          0.875,
          0.8333333333333334,
          0.8333333333333334,
          0.9166666666666666,
          0.875,
          0.9583333333333334,
          0.9166666666666666,
          0.9583333333333334,
          0.7916666666666666,
          0.875,
          0.8333333333333334,
          0.9166666666666666,
          0.9166666666666666,
          0.9583333333333334,
          0.9583333333333334,
          1,
          0.9583333333333334,
          0.9166666666666666,
          0.875,
          1,
          0.7916666666666666,
          0.9166666666666666,
          0.625,
          0.9583333333333334,
          0.9166666666666666,
          0.8333333333333334,
          0.9583333333333334,
          0.9166666666666666,
          0.9583333333333334,
          0.9166666666666666,
          0.75,
          0.875,
          0.875,
          1,
          0.9166666666666666,
          1,
          1,
          0.875,
          0.7916666666666666,
          0.9583333333333334,
          0.75,
          0.9583333333333334,
          1,
          0.9583333333333334,
          0.9583333333333334,
          0.9583333333333334,
          0.9166666666666666,
          0.9583333333333334,
          1,
          0.875,
          0.875,
          0.9166666666666666,
          0.7916666666666666,
          0.9166666666666666,
          0.875,
          0.7916666666666666,
          0.6666666666666666,
          0.875,
          0.7916666666666666,
          0.8333333333333334,
          0.875,
          0.9166666666666666,
          0.875,
          0.9583333333333334,
          0.875,
          0.9166666666666666,
          0.9583333333333334,
          0.8333333333333334,
          0.7916666666666666,
          0.9166666666666666,
          0.7916666666666666,
          0.9166666666666666,
          0.8333333333333334,
          0.875,
          0.875,
          0.8333333333333334,
          0.875,
          0.9166666666666666,
          0.9166666666666666,
          0.9166666666666666,
          0.9166666666666666,
          0.9166666666666666,
          0.8333333333333334,
          0.875,
          0.8333333333333334,
          0.9166666666666666,
          0.875,
          0.9166666666666666,
          0.875,
          0.75,
          0.875,
          0.8333333333333334,
          0.9166666666666666,
          0.9166666666666666,
          0.9166666666666666,
          0.8333333333333334,
          0.875,
          0.9583333333333334,
          0.9583333333333334,
          0.7916666666666666,
          0.9166666666666666,
          0.9583333333333334,
          0.9583333333333334,
          0.7916666666666666,
          0.875,
          0.875,
          0.875,
          0.7083333333333334,
          0.9166666666666666,
          0.9166666666666666,
          0.9166666666666666,
          0.8333333333333334
         ],
         "xaxis": "x",
         "yaxis": "y"
        }
       ],
       "layout": {
        "barmode": "relative",
        "legend": {
         "tracegroupgap": 0
        },
        "margin": {
         "t": 60
        },
        "shapes": [
         {
          "line": {
           "color": "red",
           "width": 2
          },
          "type": "line",
          "x0": 0.8469458333333334,
          "x1": 0.8469458333333334,
          "xref": "x",
          "y0": 0,
          "y1": 1,
          "yref": "y domain"
         },
         {
          "line": {
           "color": "orange",
           "width": 2
          },
          "type": "line",
          "x0": 0.7916666666666666,
          "x1": 0.7916666666666666,
          "xref": "x",
          "y0": 0,
          "y1": 1,
          "yref": "y domain"
         },
         {
          "line": {
           "color": "green",
           "width": 2
          },
          "type": "line",
          "x0": 0.9166666666666666,
          "x1": 0.9166666666666666,
          "xref": "x",
          "y0": 0,
          "y1": 1,
          "yref": "y domain"
         }
        ],
        "template": {
         "data": {
          "bar": [
           {
            "error_x": {
             "color": "#2a3f5f"
            },
            "error_y": {
             "color": "#2a3f5f"
            },
            "marker": {
             "line": {
              "color": "#E5ECF6",
              "width": 0.5
             },
             "pattern": {
              "fillmode": "overlay",
              "size": 10,
              "solidity": 0.2
             }
            },
            "type": "bar"
           }
          ],
          "barpolar": [
           {
            "marker": {
             "line": {
              "color": "#E5ECF6",
              "width": 0.5
             },
             "pattern": {
              "fillmode": "overlay",
              "size": 10,
              "solidity": 0.2
             }
            },
            "type": "barpolar"
           }
          ],
          "carpet": [
           {
            "aaxis": {
             "endlinecolor": "#2a3f5f",
             "gridcolor": "white",
             "linecolor": "white",
             "minorgridcolor": "white",
             "startlinecolor": "#2a3f5f"
            },
            "baxis": {
             "endlinecolor": "#2a3f5f",
             "gridcolor": "white",
             "linecolor": "white",
             "minorgridcolor": "white",
             "startlinecolor": "#2a3f5f"
            },
            "type": "carpet"
           }
          ],
          "choropleth": [
           {
            "colorbar": {
             "outlinewidth": 0,
             "ticks": ""
            },
            "type": "choropleth"
           }
          ],
          "contour": [
           {
            "colorbar": {
             "outlinewidth": 0,
             "ticks": ""
            },
            "colorscale": [
             [
              0,
              "#0d0887"
             ],
             [
              0.1111111111111111,
              "#46039f"
             ],
             [
              0.2222222222222222,
              "#7201a8"
             ],
             [
              0.3333333333333333,
              "#9c179e"
             ],
             [
              0.4444444444444444,
              "#bd3786"
             ],
             [
              0.5555555555555556,
              "#d8576b"
             ],
             [
              0.6666666666666666,
              "#ed7953"
             ],
             [
              0.7777777777777778,
              "#fb9f3a"
             ],
             [
              0.8888888888888888,
              "#fdca26"
             ],
             [
              1,
              "#f0f921"
             ]
            ],
            "type": "contour"
           }
          ],
          "contourcarpet": [
           {
            "colorbar": {
             "outlinewidth": 0,
             "ticks": ""
            },
            "type": "contourcarpet"
           }
          ],
          "heatmap": [
           {
            "colorbar": {
             "outlinewidth": 0,
             "ticks": ""
            },
            "colorscale": [
             [
              0,
              "#0d0887"
             ],
             [
              0.1111111111111111,
              "#46039f"
             ],
             [
              0.2222222222222222,
              "#7201a8"
             ],
             [
              0.3333333333333333,
              "#9c179e"
             ],
             [
              0.4444444444444444,
              "#bd3786"
             ],
             [
              0.5555555555555556,
              "#d8576b"
             ],
             [
              0.6666666666666666,
              "#ed7953"
             ],
             [
              0.7777777777777778,
              "#fb9f3a"
             ],
             [
              0.8888888888888888,
              "#fdca26"
             ],
             [
              1,
              "#f0f921"
             ]
            ],
            "type": "heatmap"
           }
          ],
          "heatmapgl": [
           {
            "colorbar": {
             "outlinewidth": 0,
             "ticks": ""
            },
            "colorscale": [
             [
              0,
              "#0d0887"
             ],
             [
              0.1111111111111111,
              "#46039f"
             ],
             [
              0.2222222222222222,
              "#7201a8"
             ],
             [
              0.3333333333333333,
              "#9c179e"
             ],
             [
              0.4444444444444444,
              "#bd3786"
             ],
             [
              0.5555555555555556,
              "#d8576b"
             ],
             [
              0.6666666666666666,
              "#ed7953"
             ],
             [
              0.7777777777777778,
              "#fb9f3a"
             ],
             [
              0.8888888888888888,
              "#fdca26"
             ],
             [
              1,
              "#f0f921"
             ]
            ],
            "type": "heatmapgl"
           }
          ],
          "histogram": [
           {
            "marker": {
             "pattern": {
              "fillmode": "overlay",
              "size": 10,
              "solidity": 0.2
             }
            },
            "type": "histogram"
           }
          ],
          "histogram2d": [
           {
            "colorbar": {
             "outlinewidth": 0,
             "ticks": ""
            },
            "colorscale": [
             [
              0,
              "#0d0887"
             ],
             [
              0.1111111111111111,
              "#46039f"
             ],
             [
              0.2222222222222222,
              "#7201a8"
             ],
             [
              0.3333333333333333,
              "#9c179e"
             ],
             [
              0.4444444444444444,
              "#bd3786"
             ],
             [
              0.5555555555555556,
              "#d8576b"
             ],
             [
              0.6666666666666666,
              "#ed7953"
             ],
             [
              0.7777777777777778,
              "#fb9f3a"
             ],
             [
              0.8888888888888888,
              "#fdca26"
             ],
             [
              1,
              "#f0f921"
             ]
            ],
            "type": "histogram2d"
           }
          ],
          "histogram2dcontour": [
           {
            "colorbar": {
             "outlinewidth": 0,
             "ticks": ""
            },
            "colorscale": [
             [
              0,
              "#0d0887"
             ],
             [
              0.1111111111111111,
              "#46039f"
             ],
             [
              0.2222222222222222,
              "#7201a8"
             ],
             [
              0.3333333333333333,
              "#9c179e"
             ],
             [
              0.4444444444444444,
              "#bd3786"
             ],
             [
              0.5555555555555556,
              "#d8576b"
             ],
             [
              0.6666666666666666,
              "#ed7953"
             ],
             [
              0.7777777777777778,
              "#fb9f3a"
             ],
             [
              0.8888888888888888,
              "#fdca26"
             ],
             [
              1,
              "#f0f921"
             ]
            ],
            "type": "histogram2dcontour"
           }
          ],
          "mesh3d": [
           {
            "colorbar": {
             "outlinewidth": 0,
             "ticks": ""
            },
            "type": "mesh3d"
           }
          ],
          "parcoords": [
           {
            "line": {
             "colorbar": {
              "outlinewidth": 0,
              "ticks": ""
             }
            },
            "type": "parcoords"
           }
          ],
          "pie": [
           {
            "automargin": true,
            "type": "pie"
           }
          ],
          "scatter": [
           {
            "fillpattern": {
             "fillmode": "overlay",
             "size": 10,
             "solidity": 0.2
            },
            "type": "scatter"
           }
          ],
          "scatter3d": [
           {
            "line": {
             "colorbar": {
              "outlinewidth": 0,
              "ticks": ""
             }
            },
            "marker": {
             "colorbar": {
              "outlinewidth": 0,
              "ticks": ""
             }
            },
            "type": "scatter3d"
           }
          ],
          "scattercarpet": [
           {
            "marker": {
             "colorbar": {
              "outlinewidth": 0,
              "ticks": ""
             }
            },
            "type": "scattercarpet"
           }
          ],
          "scattergeo": [
           {
            "marker": {
             "colorbar": {
              "outlinewidth": 0,
              "ticks": ""
             }
            },
            "type": "scattergeo"
           }
          ],
          "scattergl": [
           {
            "marker": {
             "colorbar": {
              "outlinewidth": 0,
              "ticks": ""
             }
            },
            "type": "scattergl"
           }
          ],
          "scattermapbox": [
           {
            "marker": {
             "colorbar": {
              "outlinewidth": 0,
              "ticks": ""
             }
            },
            "type": "scattermapbox"
           }
          ],
          "scatterpolar": [
           {
            "marker": {
             "colorbar": {
              "outlinewidth": 0,
              "ticks": ""
             }
            },
            "type": "scatterpolar"
           }
          ],
          "scatterpolargl": [
           {
            "marker": {
             "colorbar": {
              "outlinewidth": 0,
              "ticks": ""
             }
            },
            "type": "scatterpolargl"
           }
          ],
          "scatterternary": [
           {
            "marker": {
             "colorbar": {
              "outlinewidth": 0,
              "ticks": ""
             }
            },
            "type": "scatterternary"
           }
          ],
          "surface": [
           {
            "colorbar": {
             "outlinewidth": 0,
             "ticks": ""
            },
            "colorscale": [
             [
              0,
              "#0d0887"
             ],
             [
              0.1111111111111111,
              "#46039f"
             ],
             [
              0.2222222222222222,
              "#7201a8"
             ],
             [
              0.3333333333333333,
              "#9c179e"
             ],
             [
              0.4444444444444444,
              "#bd3786"
             ],
             [
              0.5555555555555556,
              "#d8576b"
             ],
             [
              0.6666666666666666,
              "#ed7953"
             ],
             [
              0.7777777777777778,
              "#fb9f3a"
             ],
             [
              0.8888888888888888,
              "#fdca26"
             ],
             [
              1,
              "#f0f921"
             ]
            ],
            "type": "surface"
           }
          ],
          "table": [
           {
            "cells": {
             "fill": {
              "color": "#EBF0F8"
             },
             "line": {
              "color": "white"
             }
            },
            "header": {
             "fill": {
              "color": "#C8D4E3"
             },
             "line": {
              "color": "white"
             }
            },
            "type": "table"
           }
          ]
         },
         "layout": {
          "annotationdefaults": {
           "arrowcolor": "#2a3f5f",
           "arrowhead": 0,
           "arrowwidth": 1
          },
          "autotypenumbers": "strict",
          "coloraxis": {
           "colorbar": {
            "outlinewidth": 0,
            "ticks": ""
           }
          },
          "colorscale": {
           "diverging": [
            [
             0,
             "#8e0152"
            ],
            [
             0.1,
             "#c51b7d"
            ],
            [
             0.2,
             "#de77ae"
            ],
            [
             0.3,
             "#f1b6da"
            ],
            [
             0.4,
             "#fde0ef"
            ],
            [
             0.5,
             "#f7f7f7"
            ],
            [
             0.6,
             "#e6f5d0"
            ],
            [
             0.7,
             "#b8e186"
            ],
            [
             0.8,
             "#7fbc41"
            ],
            [
             0.9,
             "#4d9221"
            ],
            [
             1,
             "#276419"
            ]
           ],
           "sequential": [
            [
             0,
             "#0d0887"
            ],
            [
             0.1111111111111111,
             "#46039f"
            ],
            [
             0.2222222222222222,
             "#7201a8"
            ],
            [
             0.3333333333333333,
             "#9c179e"
            ],
            [
             0.4444444444444444,
             "#bd3786"
            ],
            [
             0.5555555555555556,
             "#d8576b"
            ],
            [
             0.6666666666666666,
             "#ed7953"
            ],
            [
             0.7777777777777778,
             "#fb9f3a"
            ],
            [
             0.8888888888888888,
             "#fdca26"
            ],
            [
             1,
             "#f0f921"
            ]
           ],
           "sequentialminus": [
            [
             0,
             "#0d0887"
            ],
            [
             0.1111111111111111,
             "#46039f"
            ],
            [
             0.2222222222222222,
             "#7201a8"
            ],
            [
             0.3333333333333333,
             "#9c179e"
            ],
            [
             0.4444444444444444,
             "#bd3786"
            ],
            [
             0.5555555555555556,
             "#d8576b"
            ],
            [
             0.6666666666666666,
             "#ed7953"
            ],
            [
             0.7777777777777778,
             "#fb9f3a"
            ],
            [
             0.8888888888888888,
             "#fdca26"
            ],
            [
             1,
             "#f0f921"
            ]
           ]
          },
          "colorway": [
           "#636efa",
           "#EF553B",
           "#00cc96",
           "#ab63fa",
           "#FFA15A",
           "#19d3f3",
           "#FF6692",
           "#B6E880",
           "#FF97FF",
           "#FECB52"
          ],
          "font": {
           "color": "#2a3f5f"
          },
          "geo": {
           "bgcolor": "white",
           "lakecolor": "white",
           "landcolor": "#E5ECF6",
           "showlakes": true,
           "showland": true,
           "subunitcolor": "white"
          },
          "hoverlabel": {
           "align": "left"
          },
          "hovermode": "closest",
          "mapbox": {
           "style": "light"
          },
          "paper_bgcolor": "white",
          "plot_bgcolor": "#E5ECF6",
          "polar": {
           "angularaxis": {
            "gridcolor": "white",
            "linecolor": "white",
            "ticks": ""
           },
           "bgcolor": "#E5ECF6",
           "radialaxis": {
            "gridcolor": "white",
            "linecolor": "white",
            "ticks": ""
           }
          },
          "scene": {
           "xaxis": {
            "backgroundcolor": "#E5ECF6",
            "gridcolor": "white",
            "gridwidth": 2,
            "linecolor": "white",
            "showbackground": true,
            "ticks": "",
            "zerolinecolor": "white"
           },
           "yaxis": {
            "backgroundcolor": "#E5ECF6",
            "gridcolor": "white",
            "gridwidth": 2,
            "linecolor": "white",
            "showbackground": true,
            "ticks": "",
            "zerolinecolor": "white"
           },
           "zaxis": {
            "backgroundcolor": "#E5ECF6",
            "gridcolor": "white",
            "gridwidth": 2,
            "linecolor": "white",
            "showbackground": true,
            "ticks": "",
            "zerolinecolor": "white"
           }
          },
          "shapedefaults": {
           "line": {
            "color": "#2a3f5f"
           }
          },
          "ternary": {
           "aaxis": {
            "gridcolor": "white",
            "linecolor": "white",
            "ticks": ""
           },
           "baxis": {
            "gridcolor": "white",
            "linecolor": "white",
            "ticks": ""
           },
           "bgcolor": "#E5ECF6",
           "caxis": {
            "gridcolor": "white",
            "linecolor": "white",
            "ticks": ""
           }
          },
          "title": {
           "x": 0.05
          },
          "xaxis": {
           "automargin": true,
           "gridcolor": "white",
           "linecolor": "white",
           "ticks": "",
           "title": {
            "standoff": 15
           },
           "zerolinecolor": "white",
           "zerolinewidth": 2
          },
          "yaxis": {
           "automargin": true,
           "gridcolor": "white",
           "linecolor": "white",
           "ticks": "",
           "title": {
            "standoff": 15
           },
           "zerolinecolor": "white",
           "zerolinewidth": 2
          }
         }
        },
        "xaxis": {
         "anchor": "y",
         "domain": [
          0,
          1
         ],
         "tickmode": "array",
         "tickvals": [
          0.8469458333333334,
          0.7916666666666666,
          0.9166666666666666
         ],
         "title": {
          "text": "subset_acc"
         }
        },
        "yaxis": {
         "anchor": "x",
         "domain": [
          0,
          1
         ],
         "title": {
          "text": "count"
         }
        }
       }
      }
     },
     "metadata": {},
     "output_type": "display_data"
    }
   ],
   "source": [
    "meanVal = caseAccDf[\"subset_acc\"].mean()\n",
    "# medianVal = multilabelCaseDf[\"subset_acc\"].median()\n",
    "firstQuarter = np.quantile(caseAccDf[\"subset_acc\"].values, 0.25)\n",
    "thirdQuarter = np.quantile(caseAccDf[\"subset_acc\"].values, 0.75)\n",
    "\n",
    "fig = px.histogram(caseAccDf, x=\"subset_acc\")\n",
    "fig.add_vline(x=meanVal, line_width=2, line_color=\"red\")\n",
    "# fig.add_vline(x=medianVal, line_width=2, line_color=\"blue\")\n",
    "fig.add_vline(x=firstQuarter, line_width=2, line_color=\"orange\")\n",
    "fig.add_vline(x=thirdQuarter, line_width=2, line_color=\"green\")\n",
    "\n",
    "fig.update_layout(\n",
    "    xaxis = dict(\n",
    "        tickmode = 'array',\n",
    "        tickvals = [meanVal, firstQuarter, thirdQuarter],\n",
    "    )\n",
    ")"
   ]
  },
  {
   "cell_type": "code",
   "execution_count": 178,
   "metadata": {},
   "outputs": [
    {
     "data": {
      "text/plain": [
       "0.7746458768461781"
      ]
     },
     "execution_count": 178,
     "metadata": {},
     "output_type": "execute_result"
    }
   ],
   "source": [
    "corr = partEvalMetrics[\"tp\"].corr(partEvalMetrics[\"gt_pos_ratio\"])\n",
    "corr"
   ]
  },
  {
   "cell_type": "code",
   "execution_count": 179,
   "metadata": {},
   "outputs": [
    {
     "data": {
      "text/plain": [
       "-0.7462756866431839"
      ]
     },
     "execution_count": 179,
     "metadata": {},
     "output_type": "execute_result"
    }
   ],
   "source": [
    "corr = partEvalMetrics[\"tn\"].corr(partEvalMetrics[\"gt_pos_ratio\"])\n",
    "corr"
   ]
  },
  {
   "cell_type": "code",
   "execution_count": 180,
   "metadata": {},
   "outputs": [
    {
     "data": {
      "text/plain": [
       "0.15723263385921435"
      ]
     },
     "execution_count": 180,
     "metadata": {},
     "output_type": "execute_result"
    }
   ],
   "source": [
    "corr = partEvalMetrics[\"acc\"].corr(partEvalMetrics[\"gt_pos_ratio\"])\n",
    "corr"
   ]
  },
  {
   "cell_type": "code",
   "execution_count": null,
   "metadata": {},
   "outputs": [],
   "source": []
  }
 ],
 "metadata": {
  "kernelspec": {
   "display_name": "work",
   "language": "python",
   "name": "python3"
  },
  "language_info": {
   "codemirror_mode": {
    "name": "ipython",
    "version": 3
   },
   "file_extension": ".py",
   "mimetype": "text/x-python",
   "name": "python",
   "nbconvert_exporter": "python",
   "pygments_lexer": "ipython3",
   "version": "3.10.8 (main, Nov 24 2022, 14:13:03) [GCC 11.2.0]"
  },
  "orig_nbformat": 4,
  "vscode": {
   "interpreter": {
    "hash": "0e8f33c5a67865e6aadcd232beb3e2644a1f224e780847feacdefa5e710f41d5"
   }
  }
 },
 "nbformat": 4,
 "nbformat_minor": 2
}
