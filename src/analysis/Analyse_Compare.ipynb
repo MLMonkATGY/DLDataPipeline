{
 "cells": [
  {
   "cell_type": "code",
   "execution_count": 19,
   "metadata": {},
   "outputs": [],
   "source": [
    "import pandas as pd\n",
    "import numpy as np\n",
    "import plotly.graph_objects as go\n",
    "import plotly.express as px\n",
    "\n"
   ]
  },
  {
   "cell_type": "code",
   "execution_count": 20,
   "metadata": {},
   "outputs": [],
   "source": [
    "srcExpDir = \"/home/alextay96/Desktop/all_workspace/new_workspace/DLDataPipeline/data/results/suv_focal_480_aug\"\n",
    "# srcExpDir = \"/home/alextay96/Desktop/all_workspace/new_workspace/DLDataPipeline/data/results/saloon_10k_bce\""
   ]
  },
  {
   "cell_type": "code",
   "execution_count": 21,
   "metadata": {},
   "outputs": [],
   "source": [
    "partCsv= f\"{srcExpDir}/part_perf.csv\"\n",
    "partPerfDf = pd.read_csv(partCsv)\n",
    "caseAccCsv= f\"{srcExpDir}/acc_perf.csv\"\n",
    "caseAccDf = pd.read_csv(caseAccCsv)\n"
   ]
  },
  {
   "cell_type": "code",
   "execution_count": 22,
   "metadata": {},
   "outputs": [
    {
     "data": {
      "text/plain": [
       "['vision_bumper_rear',\n",
       " 'vision_misc',\n",
       " 'vision_rear_compartment',\n",
       " 'vision_rear_panel',\n",
       " 'vision_tail_lamp_lh',\n",
       " 'vision_tail_lamp_rh',\n",
       " 'vision_non_external',\n",
       " 'vision_bonnet',\n",
       " 'vision_bumper_front',\n",
       " 'vision_engine',\n",
       " 'vision_front_panel',\n",
       " 'vision_grille',\n",
       " 'vision_headlamp_lh',\n",
       " 'vision_headlamp_rh',\n",
       " 'vision_windscreen_front',\n",
       " 'vision_door_front_lh',\n",
       " 'vision_door_rear_lh',\n",
       " 'vision_rear_quarter_lh',\n",
       " 'vision_wheel',\n",
       " 'vision_fender_front_lh',\n",
       " 'vision_door_front_rh',\n",
       " 'vision_door_rear_rh',\n",
       " 'vision_rear_quarter_rh',\n",
       " 'vision_fender_front_rh']"
      ]
     },
     "execution_count": 22,
     "metadata": {},
     "output_type": "execute_result"
    }
   ],
   "source": [
    "allParts = [x.replace(\"gt_\", \"\") for x in partPerfDf.columns if \"Unname\" not in x and \"gt_\" in x]\n",
    "allParts"
   ]
  },
  {
   "cell_type": "code",
   "execution_count": 23,
   "metadata": {},
   "outputs": [],
   "source": [
    "partMetrics = []\n",
    "for part in allParts:\n",
    "    gtCol = partPerfDf[f\"gt_{part}\"].values\n",
    "    predCol = partPerfDf[f\"pred_{part}\"].values\n",
    "    # posGt = gtCol[gtCol == 1]\n",
    "    posGtCount = np.count_nonzero(gtCol == 1)\n",
    "    negGtCount = np.count_nonzero(gtCol == 0)\n",
    "    posPredCount =  np.count_nonzero(predCol == 1)\n",
    "    negPredCount =  np.count_nonzero(predCol == 0)\n",
    "\n",
    "    tp =  np.count_nonzero(predCol[gtCol == 1] == 1) / posGtCount\n",
    "    tn = np.count_nonzero(predCol[gtCol == 0] == 0 ) / negGtCount\n",
    "    fp =  np.count_nonzero(predCol[gtCol == 0] == 1) / negGtCount\n",
    "    fn =  np.count_nonzero(predCol[gtCol == 1] == 0) / posGtCount\n",
    "    assert 0.99 < tp + fn < 1.01\n",
    "    assert 0.99 < tn + fp < 1.01\n",
    "    precision = tp / (tp + fp)\n",
    "    recall = tp / (tp + fn)\n",
    "    acc = (tp + tn) / (tp + tn + fp + fn)\n",
    "    f1 = 2 * (precision * recall) / (precision + recall)\n",
    "    partMetrics.append(\n",
    "        {\n",
    "            \"part\" : part,\n",
    "            \"tp\": tp,\n",
    "            \"tn\": tn,\n",
    "            \"fn\": fn,\n",
    "            \"fp\": fp,\n",
    "            \"precision\": precision,\n",
    "            \"recall\": recall,\n",
    "            \"f1\" : f1,\n",
    "            \"acc\" : acc,\n",
    "            \"gt_pos_count\" : posGtCount,\n",
    "            \"gt_neg_count\" : negGtCount,\n",
    "            \"gt_pos_ratio\" : posGtCount / (posGtCount + negGtCount),\n",
    "            \"pred_pos_ratio\" : posPredCount / (posPredCount + negPredCount),\n",
    "\n",
    "\n",
    "        }\n",
    "    )\n",
    "\n",
    "partEvalMetrics = pd.json_normalize(partMetrics)\n",
    "partEvalMetrics.to_csv(f\"{srcExpDir}/part_metrics.csv\")\n",
    "    "
   ]
  },
  {
   "cell_type": "code",
   "execution_count": 24,
   "metadata": {},
   "outputs": [],
   "source": [
    "def genVisMulitlabel(multilabelPartDf, metricName):\n",
    "    fig = go.Figure()\n",
    "    fig.add_trace(go.Bar(\n",
    "        x=multilabelPartDf[\"part\"], y=multilabelPartDf[metricName],\n",
    "        text = multilabelPartDf[metricName]\n",
    "        ))\n",
    "    avgVal = multilabelPartDf[metricName].mean()\n",
    "    fig.add_hline(y=avgVal, line_width=2, line_color=\"red\")\n",
    "    fig.update_layout(\n",
    "        yaxis = dict(\n",
    "            tickmode = 'array',\n",
    "            tickvals = [np.format_float_positional(avgVal, 2), 0.3, 0.8],\n",
    "        )\n",
    "    )\n",
    "    fig.update_layout(\n",
    "            title=go.layout.Title(\n",
    "                text=f\"{metricName}\",\n",
    "                x=0.5\n",
    "            ))\n",
    "    \n",
    "    fig.show()\n",
    "   "
   ]
  },
  {
   "cell_type": "code",
   "execution_count": 25,
   "metadata": {},
   "outputs": [
    {
     "data": {
      "application/vnd.plotly.v1+json": {
       "config": {
        "plotlyServerURL": "https://plot.ly"
       },
       "data": [
        {
         "text": [
          0.918320784850559,
          0.974910394265233,
          0.6397896581945661,
          0.5234842015371477,
          0.3968503937007874,
          0.5061919504643962,
          0.604251012145749,
          0.6420531292210716,
          0.9511754068716094,
          0.8146718146718147,
          0.6841015018125324,
          0.5301383399209486,
          0.7548903378778897,
          0.7654249126891735,
          0.4212962962962963,
          0.7906647807637907,
          0.506872852233677,
          0.36009732360097324,
          0.5979860573199071,
          0.4803562074384494,
          0.5995457986373959,
          0.6175869120654397,
          0.49406175771971494,
          0.6135173726796763
         ],
         "type": "bar",
         "x": [
          "vision_bumper_rear",
          "vision_misc",
          "vision_rear_compartment",
          "vision_rear_panel",
          "vision_tail_lamp_lh",
          "vision_tail_lamp_rh",
          "vision_non_external",
          "vision_bonnet",
          "vision_bumper_front",
          "vision_engine",
          "vision_front_panel",
          "vision_grille",
          "vision_headlamp_lh",
          "vision_headlamp_rh",
          "vision_windscreen_front",
          "vision_door_front_lh",
          "vision_door_rear_lh",
          "vision_rear_quarter_lh",
          "vision_wheel",
          "vision_fender_front_lh",
          "vision_door_front_rh",
          "vision_door_rear_rh",
          "vision_rear_quarter_rh",
          "vision_fender_front_rh"
         ],
         "y": [
          0.918320784850559,
          0.974910394265233,
          0.6397896581945661,
          0.5234842015371477,
          0.3968503937007874,
          0.5061919504643962,
          0.604251012145749,
          0.6420531292210716,
          0.9511754068716094,
          0.8146718146718147,
          0.6841015018125324,
          0.5301383399209486,
          0.7548903378778897,
          0.7654249126891735,
          0.4212962962962963,
          0.7906647807637907,
          0.506872852233677,
          0.36009732360097324,
          0.5979860573199071,
          0.4803562074384494,
          0.5995457986373959,
          0.6175869120654397,
          0.49406175771971494,
          0.6135173726796763
         ]
        }
       ],
       "layout": {
        "shapes": [
         {
          "line": {
           "color": "red",
           "width": 2
          },
          "type": "line",
          "x0": 0,
          "x1": 1,
          "xref": "x domain",
          "y0": 0.6328432998741166,
          "y1": 0.6328432998741166,
          "yref": "y"
         }
        ],
        "template": {
         "data": {
          "bar": [
           {
            "error_x": {
             "color": "#2a3f5f"
            },
            "error_y": {
             "color": "#2a3f5f"
            },
            "marker": {
             "line": {
              "color": "#E5ECF6",
              "width": 0.5
             },
             "pattern": {
              "fillmode": "overlay",
              "size": 10,
              "solidity": 0.2
             }
            },
            "type": "bar"
           }
          ],
          "barpolar": [
           {
            "marker": {
             "line": {
              "color": "#E5ECF6",
              "width": 0.5
             },
             "pattern": {
              "fillmode": "overlay",
              "size": 10,
              "solidity": 0.2
             }
            },
            "type": "barpolar"
           }
          ],
          "carpet": [
           {
            "aaxis": {
             "endlinecolor": "#2a3f5f",
             "gridcolor": "white",
             "linecolor": "white",
             "minorgridcolor": "white",
             "startlinecolor": "#2a3f5f"
            },
            "baxis": {
             "endlinecolor": "#2a3f5f",
             "gridcolor": "white",
             "linecolor": "white",
             "minorgridcolor": "white",
             "startlinecolor": "#2a3f5f"
            },
            "type": "carpet"
           }
          ],
          "choropleth": [
           {
            "colorbar": {
             "outlinewidth": 0,
             "ticks": ""
            },
            "type": "choropleth"
           }
          ],
          "contour": [
           {
            "colorbar": {
             "outlinewidth": 0,
             "ticks": ""
            },
            "colorscale": [
             [
              0,
              "#0d0887"
             ],
             [
              0.1111111111111111,
              "#46039f"
             ],
             [
              0.2222222222222222,
              "#7201a8"
             ],
             [
              0.3333333333333333,
              "#9c179e"
             ],
             [
              0.4444444444444444,
              "#bd3786"
             ],
             [
              0.5555555555555556,
              "#d8576b"
             ],
             [
              0.6666666666666666,
              "#ed7953"
             ],
             [
              0.7777777777777778,
              "#fb9f3a"
             ],
             [
              0.8888888888888888,
              "#fdca26"
             ],
             [
              1,
              "#f0f921"
             ]
            ],
            "type": "contour"
           }
          ],
          "contourcarpet": [
           {
            "colorbar": {
             "outlinewidth": 0,
             "ticks": ""
            },
            "type": "contourcarpet"
           }
          ],
          "heatmap": [
           {
            "colorbar": {
             "outlinewidth": 0,
             "ticks": ""
            },
            "colorscale": [
             [
              0,
              "#0d0887"
             ],
             [
              0.1111111111111111,
              "#46039f"
             ],
             [
              0.2222222222222222,
              "#7201a8"
             ],
             [
              0.3333333333333333,
              "#9c179e"
             ],
             [
              0.4444444444444444,
              "#bd3786"
             ],
             [
              0.5555555555555556,
              "#d8576b"
             ],
             [
              0.6666666666666666,
              "#ed7953"
             ],
             [
              0.7777777777777778,
              "#fb9f3a"
             ],
             [
              0.8888888888888888,
              "#fdca26"
             ],
             [
              1,
              "#f0f921"
             ]
            ],
            "type": "heatmap"
           }
          ],
          "heatmapgl": [
           {
            "colorbar": {
             "outlinewidth": 0,
             "ticks": ""
            },
            "colorscale": [
             [
              0,
              "#0d0887"
             ],
             [
              0.1111111111111111,
              "#46039f"
             ],
             [
              0.2222222222222222,
              "#7201a8"
             ],
             [
              0.3333333333333333,
              "#9c179e"
             ],
             [
              0.4444444444444444,
              "#bd3786"
             ],
             [
              0.5555555555555556,
              "#d8576b"
             ],
             [
              0.6666666666666666,
              "#ed7953"
             ],
             [
              0.7777777777777778,
              "#fb9f3a"
             ],
             [
              0.8888888888888888,
              "#fdca26"
             ],
             [
              1,
              "#f0f921"
             ]
            ],
            "type": "heatmapgl"
           }
          ],
          "histogram": [
           {
            "marker": {
             "pattern": {
              "fillmode": "overlay",
              "size": 10,
              "solidity": 0.2
             }
            },
            "type": "histogram"
           }
          ],
          "histogram2d": [
           {
            "colorbar": {
             "outlinewidth": 0,
             "ticks": ""
            },
            "colorscale": [
             [
              0,
              "#0d0887"
             ],
             [
              0.1111111111111111,
              "#46039f"
             ],
             [
              0.2222222222222222,
              "#7201a8"
             ],
             [
              0.3333333333333333,
              "#9c179e"
             ],
             [
              0.4444444444444444,
              "#bd3786"
             ],
             [
              0.5555555555555556,
              "#d8576b"
             ],
             [
              0.6666666666666666,
              "#ed7953"
             ],
             [
              0.7777777777777778,
              "#fb9f3a"
             ],
             [
              0.8888888888888888,
              "#fdca26"
             ],
             [
              1,
              "#f0f921"
             ]
            ],
            "type": "histogram2d"
           }
          ],
          "histogram2dcontour": [
           {
            "colorbar": {
             "outlinewidth": 0,
             "ticks": ""
            },
            "colorscale": [
             [
              0,
              "#0d0887"
             ],
             [
              0.1111111111111111,
              "#46039f"
             ],
             [
              0.2222222222222222,
              "#7201a8"
             ],
             [
              0.3333333333333333,
              "#9c179e"
             ],
             [
              0.4444444444444444,
              "#bd3786"
             ],
             [
              0.5555555555555556,
              "#d8576b"
             ],
             [
              0.6666666666666666,
              "#ed7953"
             ],
             [
              0.7777777777777778,
              "#fb9f3a"
             ],
             [
              0.8888888888888888,
              "#fdca26"
             ],
             [
              1,
              "#f0f921"
             ]
            ],
            "type": "histogram2dcontour"
           }
          ],
          "mesh3d": [
           {
            "colorbar": {
             "outlinewidth": 0,
             "ticks": ""
            },
            "type": "mesh3d"
           }
          ],
          "parcoords": [
           {
            "line": {
             "colorbar": {
              "outlinewidth": 0,
              "ticks": ""
             }
            },
            "type": "parcoords"
           }
          ],
          "pie": [
           {
            "automargin": true,
            "type": "pie"
           }
          ],
          "scatter": [
           {
            "fillpattern": {
             "fillmode": "overlay",
             "size": 10,
             "solidity": 0.2
            },
            "type": "scatter"
           }
          ],
          "scatter3d": [
           {
            "line": {
             "colorbar": {
              "outlinewidth": 0,
              "ticks": ""
             }
            },
            "marker": {
             "colorbar": {
              "outlinewidth": 0,
              "ticks": ""
             }
            },
            "type": "scatter3d"
           }
          ],
          "scattercarpet": [
           {
            "marker": {
             "colorbar": {
              "outlinewidth": 0,
              "ticks": ""
             }
            },
            "type": "scattercarpet"
           }
          ],
          "scattergeo": [
           {
            "marker": {
             "colorbar": {
              "outlinewidth": 0,
              "ticks": ""
             }
            },
            "type": "scattergeo"
           }
          ],
          "scattergl": [
           {
            "marker": {
             "colorbar": {
              "outlinewidth": 0,
              "ticks": ""
             }
            },
            "type": "scattergl"
           }
          ],
          "scattermapbox": [
           {
            "marker": {
             "colorbar": {
              "outlinewidth": 0,
              "ticks": ""
             }
            },
            "type": "scattermapbox"
           }
          ],
          "scatterpolar": [
           {
            "marker": {
             "colorbar": {
              "outlinewidth": 0,
              "ticks": ""
             }
            },
            "type": "scatterpolar"
           }
          ],
          "scatterpolargl": [
           {
            "marker": {
             "colorbar": {
              "outlinewidth": 0,
              "ticks": ""
             }
            },
            "type": "scatterpolargl"
           }
          ],
          "scatterternary": [
           {
            "marker": {
             "colorbar": {
              "outlinewidth": 0,
              "ticks": ""
             }
            },
            "type": "scatterternary"
           }
          ],
          "surface": [
           {
            "colorbar": {
             "outlinewidth": 0,
             "ticks": ""
            },
            "colorscale": [
             [
              0,
              "#0d0887"
             ],
             [
              0.1111111111111111,
              "#46039f"
             ],
             [
              0.2222222222222222,
              "#7201a8"
             ],
             [
              0.3333333333333333,
              "#9c179e"
             ],
             [
              0.4444444444444444,
              "#bd3786"
             ],
             [
              0.5555555555555556,
              "#d8576b"
             ],
             [
              0.6666666666666666,
              "#ed7953"
             ],
             [
              0.7777777777777778,
              "#fb9f3a"
             ],
             [
              0.8888888888888888,
              "#fdca26"
             ],
             [
              1,
              "#f0f921"
             ]
            ],
            "type": "surface"
           }
          ],
          "table": [
           {
            "cells": {
             "fill": {
              "color": "#EBF0F8"
             },
             "line": {
              "color": "white"
             }
            },
            "header": {
             "fill": {
              "color": "#C8D4E3"
             },
             "line": {
              "color": "white"
             }
            },
            "type": "table"
           }
          ]
         },
         "layout": {
          "annotationdefaults": {
           "arrowcolor": "#2a3f5f",
           "arrowhead": 0,
           "arrowwidth": 1
          },
          "autotypenumbers": "strict",
          "coloraxis": {
           "colorbar": {
            "outlinewidth": 0,
            "ticks": ""
           }
          },
          "colorscale": {
           "diverging": [
            [
             0,
             "#8e0152"
            ],
            [
             0.1,
             "#c51b7d"
            ],
            [
             0.2,
             "#de77ae"
            ],
            [
             0.3,
             "#f1b6da"
            ],
            [
             0.4,
             "#fde0ef"
            ],
            [
             0.5,
             "#f7f7f7"
            ],
            [
             0.6,
             "#e6f5d0"
            ],
            [
             0.7,
             "#b8e186"
            ],
            [
             0.8,
             "#7fbc41"
            ],
            [
             0.9,
             "#4d9221"
            ],
            [
             1,
             "#276419"
            ]
           ],
           "sequential": [
            [
             0,
             "#0d0887"
            ],
            [
             0.1111111111111111,
             "#46039f"
            ],
            [
             0.2222222222222222,
             "#7201a8"
            ],
            [
             0.3333333333333333,
             "#9c179e"
            ],
            [
             0.4444444444444444,
             "#bd3786"
            ],
            [
             0.5555555555555556,
             "#d8576b"
            ],
            [
             0.6666666666666666,
             "#ed7953"
            ],
            [
             0.7777777777777778,
             "#fb9f3a"
            ],
            [
             0.8888888888888888,
             "#fdca26"
            ],
            [
             1,
             "#f0f921"
            ]
           ],
           "sequentialminus": [
            [
             0,
             "#0d0887"
            ],
            [
             0.1111111111111111,
             "#46039f"
            ],
            [
             0.2222222222222222,
             "#7201a8"
            ],
            [
             0.3333333333333333,
             "#9c179e"
            ],
            [
             0.4444444444444444,
             "#bd3786"
            ],
            [
             0.5555555555555556,
             "#d8576b"
            ],
            [
             0.6666666666666666,
             "#ed7953"
            ],
            [
             0.7777777777777778,
             "#fb9f3a"
            ],
            [
             0.8888888888888888,
             "#fdca26"
            ],
            [
             1,
             "#f0f921"
            ]
           ]
          },
          "colorway": [
           "#636efa",
           "#EF553B",
           "#00cc96",
           "#ab63fa",
           "#FFA15A",
           "#19d3f3",
           "#FF6692",
           "#B6E880",
           "#FF97FF",
           "#FECB52"
          ],
          "font": {
           "color": "#2a3f5f"
          },
          "geo": {
           "bgcolor": "white",
           "lakecolor": "white",
           "landcolor": "#E5ECF6",
           "showlakes": true,
           "showland": true,
           "subunitcolor": "white"
          },
          "hoverlabel": {
           "align": "left"
          },
          "hovermode": "closest",
          "mapbox": {
           "style": "light"
          },
          "paper_bgcolor": "white",
          "plot_bgcolor": "#E5ECF6",
          "polar": {
           "angularaxis": {
            "gridcolor": "white",
            "linecolor": "white",
            "ticks": ""
           },
           "bgcolor": "#E5ECF6",
           "radialaxis": {
            "gridcolor": "white",
            "linecolor": "white",
            "ticks": ""
           }
          },
          "scene": {
           "xaxis": {
            "backgroundcolor": "#E5ECF6",
            "gridcolor": "white",
            "gridwidth": 2,
            "linecolor": "white",
            "showbackground": true,
            "ticks": "",
            "zerolinecolor": "white"
           },
           "yaxis": {
            "backgroundcolor": "#E5ECF6",
            "gridcolor": "white",
            "gridwidth": 2,
            "linecolor": "white",
            "showbackground": true,
            "ticks": "",
            "zerolinecolor": "white"
           },
           "zaxis": {
            "backgroundcolor": "#E5ECF6",
            "gridcolor": "white",
            "gridwidth": 2,
            "linecolor": "white",
            "showbackground": true,
            "ticks": "",
            "zerolinecolor": "white"
           }
          },
          "shapedefaults": {
           "line": {
            "color": "#2a3f5f"
           }
          },
          "ternary": {
           "aaxis": {
            "gridcolor": "white",
            "linecolor": "white",
            "ticks": ""
           },
           "baxis": {
            "gridcolor": "white",
            "linecolor": "white",
            "ticks": ""
           },
           "bgcolor": "#E5ECF6",
           "caxis": {
            "gridcolor": "white",
            "linecolor": "white",
            "ticks": ""
           }
          },
          "title": {
           "x": 0.05
          },
          "xaxis": {
           "automargin": true,
           "gridcolor": "white",
           "linecolor": "white",
           "ticks": "",
           "title": {
            "standoff": 15
           },
           "zerolinecolor": "white",
           "zerolinewidth": 2
          },
          "yaxis": {
           "automargin": true,
           "gridcolor": "white",
           "linecolor": "white",
           "ticks": "",
           "title": {
            "standoff": 15
           },
           "zerolinecolor": "white",
           "zerolinewidth": 2
          }
         }
        },
        "title": {
         "text": "tp",
         "x": 0.5
        },
        "yaxis": {
         "tickmode": "array",
         "tickvals": [
          "0.63",
          0.3,
          0.8
         ]
        }
       }
      }
     },
     "metadata": {},
     "output_type": "display_data"
    }
   ],
   "source": [
    "genVisMulitlabel(partEvalMetrics, \"tp\")"
   ]
  },
  {
   "cell_type": "code",
   "execution_count": 26,
   "metadata": {},
   "outputs": [
    {
     "data": {
      "application/vnd.plotly.v1+json": {
       "config": {
        "plotlyServerURL": "https://plot.ly"
       },
       "data": [
        {
         "text": [
          0.25796688623820546,
          0.07854560064282845,
          0.9185022026431718,
          0.9226412957299808,
          0.9505605979711692,
          0.9206756467821253,
          0.8205383848454636,
          0.9039722329348245,
          0.3112075568036763,
          0.5814549180327869,
          0.8393853017722146,
          0.8165322580645161,
          0.844099003923936,
          0.8118525289457648,
          0.9512915936952715,
          0.6136734218495224,
          0.8810547759167043,
          0.9866513713630202,
          0.7588701343437823,
          0.9431467062167841,
          0.8497522756077889,
          0.8178896031921968,
          0.9683683056686502,
          0.9227750348145335
         ],
         "type": "bar",
         "x": [
          "vision_bumper_rear",
          "vision_misc",
          "vision_rear_compartment",
          "vision_rear_panel",
          "vision_tail_lamp_lh",
          "vision_tail_lamp_rh",
          "vision_non_external",
          "vision_bonnet",
          "vision_bumper_front",
          "vision_engine",
          "vision_front_panel",
          "vision_grille",
          "vision_headlamp_lh",
          "vision_headlamp_rh",
          "vision_windscreen_front",
          "vision_door_front_lh",
          "vision_door_rear_lh",
          "vision_rear_quarter_lh",
          "vision_wheel",
          "vision_fender_front_lh",
          "vision_door_front_rh",
          "vision_door_rear_rh",
          "vision_rear_quarter_rh",
          "vision_fender_front_rh"
         ],
         "y": [
          0.25796688623820546,
          0.07854560064282845,
          0.9185022026431718,
          0.9226412957299808,
          0.9505605979711692,
          0.9206756467821253,
          0.8205383848454636,
          0.9039722329348245,
          0.3112075568036763,
          0.5814549180327869,
          0.8393853017722146,
          0.8165322580645161,
          0.844099003923936,
          0.8118525289457648,
          0.9512915936952715,
          0.6136734218495224,
          0.8810547759167043,
          0.9866513713630202,
          0.7588701343437823,
          0.9431467062167841,
          0.8497522756077889,
          0.8178896031921968,
          0.9683683056686502,
          0.9227750348145335
         ]
        }
       ],
       "layout": {
        "shapes": [
         {
          "line": {
           "color": "red",
           "width": 2
          },
          "type": "line",
          "x0": 0,
          "x1": 1,
          "xref": "x domain",
          "y0": 0.7779753182499549,
          "y1": 0.7779753182499549,
          "yref": "y"
         }
        ],
        "template": {
         "data": {
          "bar": [
           {
            "error_x": {
             "color": "#2a3f5f"
            },
            "error_y": {
             "color": "#2a3f5f"
            },
            "marker": {
             "line": {
              "color": "#E5ECF6",
              "width": 0.5
             },
             "pattern": {
              "fillmode": "overlay",
              "size": 10,
              "solidity": 0.2
             }
            },
            "type": "bar"
           }
          ],
          "barpolar": [
           {
            "marker": {
             "line": {
              "color": "#E5ECF6",
              "width": 0.5
             },
             "pattern": {
              "fillmode": "overlay",
              "size": 10,
              "solidity": 0.2
             }
            },
            "type": "barpolar"
           }
          ],
          "carpet": [
           {
            "aaxis": {
             "endlinecolor": "#2a3f5f",
             "gridcolor": "white",
             "linecolor": "white",
             "minorgridcolor": "white",
             "startlinecolor": "#2a3f5f"
            },
            "baxis": {
             "endlinecolor": "#2a3f5f",
             "gridcolor": "white",
             "linecolor": "white",
             "minorgridcolor": "white",
             "startlinecolor": "#2a3f5f"
            },
            "type": "carpet"
           }
          ],
          "choropleth": [
           {
            "colorbar": {
             "outlinewidth": 0,
             "ticks": ""
            },
            "type": "choropleth"
           }
          ],
          "contour": [
           {
            "colorbar": {
             "outlinewidth": 0,
             "ticks": ""
            },
            "colorscale": [
             [
              0,
              "#0d0887"
             ],
             [
              0.1111111111111111,
              "#46039f"
             ],
             [
              0.2222222222222222,
              "#7201a8"
             ],
             [
              0.3333333333333333,
              "#9c179e"
             ],
             [
              0.4444444444444444,
              "#bd3786"
             ],
             [
              0.5555555555555556,
              "#d8576b"
             ],
             [
              0.6666666666666666,
              "#ed7953"
             ],
             [
              0.7777777777777778,
              "#fb9f3a"
             ],
             [
              0.8888888888888888,
              "#fdca26"
             ],
             [
              1,
              "#f0f921"
             ]
            ],
            "type": "contour"
           }
          ],
          "contourcarpet": [
           {
            "colorbar": {
             "outlinewidth": 0,
             "ticks": ""
            },
            "type": "contourcarpet"
           }
          ],
          "heatmap": [
           {
            "colorbar": {
             "outlinewidth": 0,
             "ticks": ""
            },
            "colorscale": [
             [
              0,
              "#0d0887"
             ],
             [
              0.1111111111111111,
              "#46039f"
             ],
             [
              0.2222222222222222,
              "#7201a8"
             ],
             [
              0.3333333333333333,
              "#9c179e"
             ],
             [
              0.4444444444444444,
              "#bd3786"
             ],
             [
              0.5555555555555556,
              "#d8576b"
             ],
             [
              0.6666666666666666,
              "#ed7953"
             ],
             [
              0.7777777777777778,
              "#fb9f3a"
             ],
             [
              0.8888888888888888,
              "#fdca26"
             ],
             [
              1,
              "#f0f921"
             ]
            ],
            "type": "heatmap"
           }
          ],
          "heatmapgl": [
           {
            "colorbar": {
             "outlinewidth": 0,
             "ticks": ""
            },
            "colorscale": [
             [
              0,
              "#0d0887"
             ],
             [
              0.1111111111111111,
              "#46039f"
             ],
             [
              0.2222222222222222,
              "#7201a8"
             ],
             [
              0.3333333333333333,
              "#9c179e"
             ],
             [
              0.4444444444444444,
              "#bd3786"
             ],
             [
              0.5555555555555556,
              "#d8576b"
             ],
             [
              0.6666666666666666,
              "#ed7953"
             ],
             [
              0.7777777777777778,
              "#fb9f3a"
             ],
             [
              0.8888888888888888,
              "#fdca26"
             ],
             [
              1,
              "#f0f921"
             ]
            ],
            "type": "heatmapgl"
           }
          ],
          "histogram": [
           {
            "marker": {
             "pattern": {
              "fillmode": "overlay",
              "size": 10,
              "solidity": 0.2
             }
            },
            "type": "histogram"
           }
          ],
          "histogram2d": [
           {
            "colorbar": {
             "outlinewidth": 0,
             "ticks": ""
            },
            "colorscale": [
             [
              0,
              "#0d0887"
             ],
             [
              0.1111111111111111,
              "#46039f"
             ],
             [
              0.2222222222222222,
              "#7201a8"
             ],
             [
              0.3333333333333333,
              "#9c179e"
             ],
             [
              0.4444444444444444,
              "#bd3786"
             ],
             [
              0.5555555555555556,
              "#d8576b"
             ],
             [
              0.6666666666666666,
              "#ed7953"
             ],
             [
              0.7777777777777778,
              "#fb9f3a"
             ],
             [
              0.8888888888888888,
              "#fdca26"
             ],
             [
              1,
              "#f0f921"
             ]
            ],
            "type": "histogram2d"
           }
          ],
          "histogram2dcontour": [
           {
            "colorbar": {
             "outlinewidth": 0,
             "ticks": ""
            },
            "colorscale": [
             [
              0,
              "#0d0887"
             ],
             [
              0.1111111111111111,
              "#46039f"
             ],
             [
              0.2222222222222222,
              "#7201a8"
             ],
             [
              0.3333333333333333,
              "#9c179e"
             ],
             [
              0.4444444444444444,
              "#bd3786"
             ],
             [
              0.5555555555555556,
              "#d8576b"
             ],
             [
              0.6666666666666666,
              "#ed7953"
             ],
             [
              0.7777777777777778,
              "#fb9f3a"
             ],
             [
              0.8888888888888888,
              "#fdca26"
             ],
             [
              1,
              "#f0f921"
             ]
            ],
            "type": "histogram2dcontour"
           }
          ],
          "mesh3d": [
           {
            "colorbar": {
             "outlinewidth": 0,
             "ticks": ""
            },
            "type": "mesh3d"
           }
          ],
          "parcoords": [
           {
            "line": {
             "colorbar": {
              "outlinewidth": 0,
              "ticks": ""
             }
            },
            "type": "parcoords"
           }
          ],
          "pie": [
           {
            "automargin": true,
            "type": "pie"
           }
          ],
          "scatter": [
           {
            "fillpattern": {
             "fillmode": "overlay",
             "size": 10,
             "solidity": 0.2
            },
            "type": "scatter"
           }
          ],
          "scatter3d": [
           {
            "line": {
             "colorbar": {
              "outlinewidth": 0,
              "ticks": ""
             }
            },
            "marker": {
             "colorbar": {
              "outlinewidth": 0,
              "ticks": ""
             }
            },
            "type": "scatter3d"
           }
          ],
          "scattercarpet": [
           {
            "marker": {
             "colorbar": {
              "outlinewidth": 0,
              "ticks": ""
             }
            },
            "type": "scattercarpet"
           }
          ],
          "scattergeo": [
           {
            "marker": {
             "colorbar": {
              "outlinewidth": 0,
              "ticks": ""
             }
            },
            "type": "scattergeo"
           }
          ],
          "scattergl": [
           {
            "marker": {
             "colorbar": {
              "outlinewidth": 0,
              "ticks": ""
             }
            },
            "type": "scattergl"
           }
          ],
          "scattermapbox": [
           {
            "marker": {
             "colorbar": {
              "outlinewidth": 0,
              "ticks": ""
             }
            },
            "type": "scattermapbox"
           }
          ],
          "scatterpolar": [
           {
            "marker": {
             "colorbar": {
              "outlinewidth": 0,
              "ticks": ""
             }
            },
            "type": "scatterpolar"
           }
          ],
          "scatterpolargl": [
           {
            "marker": {
             "colorbar": {
              "outlinewidth": 0,
              "ticks": ""
             }
            },
            "type": "scatterpolargl"
           }
          ],
          "scatterternary": [
           {
            "marker": {
             "colorbar": {
              "outlinewidth": 0,
              "ticks": ""
             }
            },
            "type": "scatterternary"
           }
          ],
          "surface": [
           {
            "colorbar": {
             "outlinewidth": 0,
             "ticks": ""
            },
            "colorscale": [
             [
              0,
              "#0d0887"
             ],
             [
              0.1111111111111111,
              "#46039f"
             ],
             [
              0.2222222222222222,
              "#7201a8"
             ],
             [
              0.3333333333333333,
              "#9c179e"
             ],
             [
              0.4444444444444444,
              "#bd3786"
             ],
             [
              0.5555555555555556,
              "#d8576b"
             ],
             [
              0.6666666666666666,
              "#ed7953"
             ],
             [
              0.7777777777777778,
              "#fb9f3a"
             ],
             [
              0.8888888888888888,
              "#fdca26"
             ],
             [
              1,
              "#f0f921"
             ]
            ],
            "type": "surface"
           }
          ],
          "table": [
           {
            "cells": {
             "fill": {
              "color": "#EBF0F8"
             },
             "line": {
              "color": "white"
             }
            },
            "header": {
             "fill": {
              "color": "#C8D4E3"
             },
             "line": {
              "color": "white"
             }
            },
            "type": "table"
           }
          ]
         },
         "layout": {
          "annotationdefaults": {
           "arrowcolor": "#2a3f5f",
           "arrowhead": 0,
           "arrowwidth": 1
          },
          "autotypenumbers": "strict",
          "coloraxis": {
           "colorbar": {
            "outlinewidth": 0,
            "ticks": ""
           }
          },
          "colorscale": {
           "diverging": [
            [
             0,
             "#8e0152"
            ],
            [
             0.1,
             "#c51b7d"
            ],
            [
             0.2,
             "#de77ae"
            ],
            [
             0.3,
             "#f1b6da"
            ],
            [
             0.4,
             "#fde0ef"
            ],
            [
             0.5,
             "#f7f7f7"
            ],
            [
             0.6,
             "#e6f5d0"
            ],
            [
             0.7,
             "#b8e186"
            ],
            [
             0.8,
             "#7fbc41"
            ],
            [
             0.9,
             "#4d9221"
            ],
            [
             1,
             "#276419"
            ]
           ],
           "sequential": [
            [
             0,
             "#0d0887"
            ],
            [
             0.1111111111111111,
             "#46039f"
            ],
            [
             0.2222222222222222,
             "#7201a8"
            ],
            [
             0.3333333333333333,
             "#9c179e"
            ],
            [
             0.4444444444444444,
             "#bd3786"
            ],
            [
             0.5555555555555556,
             "#d8576b"
            ],
            [
             0.6666666666666666,
             "#ed7953"
            ],
            [
             0.7777777777777778,
             "#fb9f3a"
            ],
            [
             0.8888888888888888,
             "#fdca26"
            ],
            [
             1,
             "#f0f921"
            ]
           ],
           "sequentialminus": [
            [
             0,
             "#0d0887"
            ],
            [
             0.1111111111111111,
             "#46039f"
            ],
            [
             0.2222222222222222,
             "#7201a8"
            ],
            [
             0.3333333333333333,
             "#9c179e"
            ],
            [
             0.4444444444444444,
             "#bd3786"
            ],
            [
             0.5555555555555556,
             "#d8576b"
            ],
            [
             0.6666666666666666,
             "#ed7953"
            ],
            [
             0.7777777777777778,
             "#fb9f3a"
            ],
            [
             0.8888888888888888,
             "#fdca26"
            ],
            [
             1,
             "#f0f921"
            ]
           ]
          },
          "colorway": [
           "#636efa",
           "#EF553B",
           "#00cc96",
           "#ab63fa",
           "#FFA15A",
           "#19d3f3",
           "#FF6692",
           "#B6E880",
           "#FF97FF",
           "#FECB52"
          ],
          "font": {
           "color": "#2a3f5f"
          },
          "geo": {
           "bgcolor": "white",
           "lakecolor": "white",
           "landcolor": "#E5ECF6",
           "showlakes": true,
           "showland": true,
           "subunitcolor": "white"
          },
          "hoverlabel": {
           "align": "left"
          },
          "hovermode": "closest",
          "mapbox": {
           "style": "light"
          },
          "paper_bgcolor": "white",
          "plot_bgcolor": "#E5ECF6",
          "polar": {
           "angularaxis": {
            "gridcolor": "white",
            "linecolor": "white",
            "ticks": ""
           },
           "bgcolor": "#E5ECF6",
           "radialaxis": {
            "gridcolor": "white",
            "linecolor": "white",
            "ticks": ""
           }
          },
          "scene": {
           "xaxis": {
            "backgroundcolor": "#E5ECF6",
            "gridcolor": "white",
            "gridwidth": 2,
            "linecolor": "white",
            "showbackground": true,
            "ticks": "",
            "zerolinecolor": "white"
           },
           "yaxis": {
            "backgroundcolor": "#E5ECF6",
            "gridcolor": "white",
            "gridwidth": 2,
            "linecolor": "white",
            "showbackground": true,
            "ticks": "",
            "zerolinecolor": "white"
           },
           "zaxis": {
            "backgroundcolor": "#E5ECF6",
            "gridcolor": "white",
            "gridwidth": 2,
            "linecolor": "white",
            "showbackground": true,
            "ticks": "",
            "zerolinecolor": "white"
           }
          },
          "shapedefaults": {
           "line": {
            "color": "#2a3f5f"
           }
          },
          "ternary": {
           "aaxis": {
            "gridcolor": "white",
            "linecolor": "white",
            "ticks": ""
           },
           "baxis": {
            "gridcolor": "white",
            "linecolor": "white",
            "ticks": ""
           },
           "bgcolor": "#E5ECF6",
           "caxis": {
            "gridcolor": "white",
            "linecolor": "white",
            "ticks": ""
           }
          },
          "title": {
           "x": 0.05
          },
          "xaxis": {
           "automargin": true,
           "gridcolor": "white",
           "linecolor": "white",
           "ticks": "",
           "title": {
            "standoff": 15
           },
           "zerolinecolor": "white",
           "zerolinewidth": 2
          },
          "yaxis": {
           "automargin": true,
           "gridcolor": "white",
           "linecolor": "white",
           "ticks": "",
           "title": {
            "standoff": 15
           },
           "zerolinecolor": "white",
           "zerolinewidth": 2
          }
         }
        },
        "title": {
         "text": "tn",
         "x": 0.5
        },
        "yaxis": {
         "tickmode": "array",
         "tickvals": [
          "0.78",
          0.3,
          0.8
         ]
        }
       }
      }
     },
     "metadata": {},
     "output_type": "display_data"
    }
   ],
   "source": [
    "genVisMulitlabel(partEvalMetrics, \"tn\")"
   ]
  },
  {
   "cell_type": "code",
   "execution_count": 27,
   "metadata": {},
   "outputs": [
    {
     "data": {
      "application/vnd.plotly.v1+json": {
       "config": {
        "plotlyServerURL": "https://plot.ly"
       },
       "data": [
        {
         "text": [
          0.5881438355443822,
          0.5267279974540308,
          0.779145930418869,
          0.7230627486335642,
          0.6737054958359784,
          0.7134337986232608,
          0.7123946984956062,
          0.7730126810779481,
          0.6311914818376428,
          0.6980633663523008,
          0.7617434017923734,
          0.6733352989927324,
          0.7994946709009129,
          0.7886387208174691,
          0.6862939449957839,
          0.7021691013066566,
          0.6939638140751907,
          0.6733743474819966,
          0.6784280958318447,
          0.7117514568276168,
          0.7246490371225924,
          0.7177382576288183,
          0.7312150316941826,
          0.768146203747105
         ],
         "type": "bar",
         "x": [
          "vision_bumper_rear",
          "vision_misc",
          "vision_rear_compartment",
          "vision_rear_panel",
          "vision_tail_lamp_lh",
          "vision_tail_lamp_rh",
          "vision_non_external",
          "vision_bonnet",
          "vision_bumper_front",
          "vision_engine",
          "vision_front_panel",
          "vision_grille",
          "vision_headlamp_lh",
          "vision_headlamp_rh",
          "vision_windscreen_front",
          "vision_door_front_lh",
          "vision_door_rear_lh",
          "vision_rear_quarter_lh",
          "vision_wheel",
          "vision_fender_front_lh",
          "vision_door_front_rh",
          "vision_door_rear_rh",
          "vision_rear_quarter_rh",
          "vision_fender_front_rh"
         ],
         "y": [
          0.5881438355443822,
          0.5267279974540308,
          0.779145930418869,
          0.7230627486335642,
          0.6737054958359784,
          0.7134337986232608,
          0.7123946984956062,
          0.7730126810779481,
          0.6311914818376428,
          0.6980633663523008,
          0.7617434017923734,
          0.6733352989927324,
          0.7994946709009129,
          0.7886387208174691,
          0.6862939449957839,
          0.7021691013066566,
          0.6939638140751907,
          0.6733743474819966,
          0.6784280958318447,
          0.7117514568276168,
          0.7246490371225924,
          0.7177382576288183,
          0.7312150316941826,
          0.768146203747105
         ]
        }
       ],
       "layout": {
        "shapes": [
         {
          "line": {
           "color": "red",
           "width": 2
          },
          "type": "line",
          "x0": 0,
          "x1": 1,
          "xref": "x domain",
          "y0": 0.7054093090620359,
          "y1": 0.7054093090620359,
          "yref": "y"
         }
        ],
        "template": {
         "data": {
          "bar": [
           {
            "error_x": {
             "color": "#2a3f5f"
            },
            "error_y": {
             "color": "#2a3f5f"
            },
            "marker": {
             "line": {
              "color": "#E5ECF6",
              "width": 0.5
             },
             "pattern": {
              "fillmode": "overlay",
              "size": 10,
              "solidity": 0.2
             }
            },
            "type": "bar"
           }
          ],
          "barpolar": [
           {
            "marker": {
             "line": {
              "color": "#E5ECF6",
              "width": 0.5
             },
             "pattern": {
              "fillmode": "overlay",
              "size": 10,
              "solidity": 0.2
             }
            },
            "type": "barpolar"
           }
          ],
          "carpet": [
           {
            "aaxis": {
             "endlinecolor": "#2a3f5f",
             "gridcolor": "white",
             "linecolor": "white",
             "minorgridcolor": "white",
             "startlinecolor": "#2a3f5f"
            },
            "baxis": {
             "endlinecolor": "#2a3f5f",
             "gridcolor": "white",
             "linecolor": "white",
             "minorgridcolor": "white",
             "startlinecolor": "#2a3f5f"
            },
            "type": "carpet"
           }
          ],
          "choropleth": [
           {
            "colorbar": {
             "outlinewidth": 0,
             "ticks": ""
            },
            "type": "choropleth"
           }
          ],
          "contour": [
           {
            "colorbar": {
             "outlinewidth": 0,
             "ticks": ""
            },
            "colorscale": [
             [
              0,
              "#0d0887"
             ],
             [
              0.1111111111111111,
              "#46039f"
             ],
             [
              0.2222222222222222,
              "#7201a8"
             ],
             [
              0.3333333333333333,
              "#9c179e"
             ],
             [
              0.4444444444444444,
              "#bd3786"
             ],
             [
              0.5555555555555556,
              "#d8576b"
             ],
             [
              0.6666666666666666,
              "#ed7953"
             ],
             [
              0.7777777777777778,
              "#fb9f3a"
             ],
             [
              0.8888888888888888,
              "#fdca26"
             ],
             [
              1,
              "#f0f921"
             ]
            ],
            "type": "contour"
           }
          ],
          "contourcarpet": [
           {
            "colorbar": {
             "outlinewidth": 0,
             "ticks": ""
            },
            "type": "contourcarpet"
           }
          ],
          "heatmap": [
           {
            "colorbar": {
             "outlinewidth": 0,
             "ticks": ""
            },
            "colorscale": [
             [
              0,
              "#0d0887"
             ],
             [
              0.1111111111111111,
              "#46039f"
             ],
             [
              0.2222222222222222,
              "#7201a8"
             ],
             [
              0.3333333333333333,
              "#9c179e"
             ],
             [
              0.4444444444444444,
              "#bd3786"
             ],
             [
              0.5555555555555556,
              "#d8576b"
             ],
             [
              0.6666666666666666,
              "#ed7953"
             ],
             [
              0.7777777777777778,
              "#fb9f3a"
             ],
             [
              0.8888888888888888,
              "#fdca26"
             ],
             [
              1,
              "#f0f921"
             ]
            ],
            "type": "heatmap"
           }
          ],
          "heatmapgl": [
           {
            "colorbar": {
             "outlinewidth": 0,
             "ticks": ""
            },
            "colorscale": [
             [
              0,
              "#0d0887"
             ],
             [
              0.1111111111111111,
              "#46039f"
             ],
             [
              0.2222222222222222,
              "#7201a8"
             ],
             [
              0.3333333333333333,
              "#9c179e"
             ],
             [
              0.4444444444444444,
              "#bd3786"
             ],
             [
              0.5555555555555556,
              "#d8576b"
             ],
             [
              0.6666666666666666,
              "#ed7953"
             ],
             [
              0.7777777777777778,
              "#fb9f3a"
             ],
             [
              0.8888888888888888,
              "#fdca26"
             ],
             [
              1,
              "#f0f921"
             ]
            ],
            "type": "heatmapgl"
           }
          ],
          "histogram": [
           {
            "marker": {
             "pattern": {
              "fillmode": "overlay",
              "size": 10,
              "solidity": 0.2
             }
            },
            "type": "histogram"
           }
          ],
          "histogram2d": [
           {
            "colorbar": {
             "outlinewidth": 0,
             "ticks": ""
            },
            "colorscale": [
             [
              0,
              "#0d0887"
             ],
             [
              0.1111111111111111,
              "#46039f"
             ],
             [
              0.2222222222222222,
              "#7201a8"
             ],
             [
              0.3333333333333333,
              "#9c179e"
             ],
             [
              0.4444444444444444,
              "#bd3786"
             ],
             [
              0.5555555555555556,
              "#d8576b"
             ],
             [
              0.6666666666666666,
              "#ed7953"
             ],
             [
              0.7777777777777778,
              "#fb9f3a"
             ],
             [
              0.8888888888888888,
              "#fdca26"
             ],
             [
              1,
              "#f0f921"
             ]
            ],
            "type": "histogram2d"
           }
          ],
          "histogram2dcontour": [
           {
            "colorbar": {
             "outlinewidth": 0,
             "ticks": ""
            },
            "colorscale": [
             [
              0,
              "#0d0887"
             ],
             [
              0.1111111111111111,
              "#46039f"
             ],
             [
              0.2222222222222222,
              "#7201a8"
             ],
             [
              0.3333333333333333,
              "#9c179e"
             ],
             [
              0.4444444444444444,
              "#bd3786"
             ],
             [
              0.5555555555555556,
              "#d8576b"
             ],
             [
              0.6666666666666666,
              "#ed7953"
             ],
             [
              0.7777777777777778,
              "#fb9f3a"
             ],
             [
              0.8888888888888888,
              "#fdca26"
             ],
             [
              1,
              "#f0f921"
             ]
            ],
            "type": "histogram2dcontour"
           }
          ],
          "mesh3d": [
           {
            "colorbar": {
             "outlinewidth": 0,
             "ticks": ""
            },
            "type": "mesh3d"
           }
          ],
          "parcoords": [
           {
            "line": {
             "colorbar": {
              "outlinewidth": 0,
              "ticks": ""
             }
            },
            "type": "parcoords"
           }
          ],
          "pie": [
           {
            "automargin": true,
            "type": "pie"
           }
          ],
          "scatter": [
           {
            "fillpattern": {
             "fillmode": "overlay",
             "size": 10,
             "solidity": 0.2
            },
            "type": "scatter"
           }
          ],
          "scatter3d": [
           {
            "line": {
             "colorbar": {
              "outlinewidth": 0,
              "ticks": ""
             }
            },
            "marker": {
             "colorbar": {
              "outlinewidth": 0,
              "ticks": ""
             }
            },
            "type": "scatter3d"
           }
          ],
          "scattercarpet": [
           {
            "marker": {
             "colorbar": {
              "outlinewidth": 0,
              "ticks": ""
             }
            },
            "type": "scattercarpet"
           }
          ],
          "scattergeo": [
           {
            "marker": {
             "colorbar": {
              "outlinewidth": 0,
              "ticks": ""
             }
            },
            "type": "scattergeo"
           }
          ],
          "scattergl": [
           {
            "marker": {
             "colorbar": {
              "outlinewidth": 0,
              "ticks": ""
             }
            },
            "type": "scattergl"
           }
          ],
          "scattermapbox": [
           {
            "marker": {
             "colorbar": {
              "outlinewidth": 0,
              "ticks": ""
             }
            },
            "type": "scattermapbox"
           }
          ],
          "scatterpolar": [
           {
            "marker": {
             "colorbar": {
              "outlinewidth": 0,
              "ticks": ""
             }
            },
            "type": "scatterpolar"
           }
          ],
          "scatterpolargl": [
           {
            "marker": {
             "colorbar": {
              "outlinewidth": 0,
              "ticks": ""
             }
            },
            "type": "scatterpolargl"
           }
          ],
          "scatterternary": [
           {
            "marker": {
             "colorbar": {
              "outlinewidth": 0,
              "ticks": ""
             }
            },
            "type": "scatterternary"
           }
          ],
          "surface": [
           {
            "colorbar": {
             "outlinewidth": 0,
             "ticks": ""
            },
            "colorscale": [
             [
              0,
              "#0d0887"
             ],
             [
              0.1111111111111111,
              "#46039f"
             ],
             [
              0.2222222222222222,
              "#7201a8"
             ],
             [
              0.3333333333333333,
              "#9c179e"
             ],
             [
              0.4444444444444444,
              "#bd3786"
             ],
             [
              0.5555555555555556,
              "#d8576b"
             ],
             [
              0.6666666666666666,
              "#ed7953"
             ],
             [
              0.7777777777777778,
              "#fb9f3a"
             ],
             [
              0.8888888888888888,
              "#fdca26"
             ],
             [
              1,
              "#f0f921"
             ]
            ],
            "type": "surface"
           }
          ],
          "table": [
           {
            "cells": {
             "fill": {
              "color": "#EBF0F8"
             },
             "line": {
              "color": "white"
             }
            },
            "header": {
             "fill": {
              "color": "#C8D4E3"
             },
             "line": {
              "color": "white"
             }
            },
            "type": "table"
           }
          ]
         },
         "layout": {
          "annotationdefaults": {
           "arrowcolor": "#2a3f5f",
           "arrowhead": 0,
           "arrowwidth": 1
          },
          "autotypenumbers": "strict",
          "coloraxis": {
           "colorbar": {
            "outlinewidth": 0,
            "ticks": ""
           }
          },
          "colorscale": {
           "diverging": [
            [
             0,
             "#8e0152"
            ],
            [
             0.1,
             "#c51b7d"
            ],
            [
             0.2,
             "#de77ae"
            ],
            [
             0.3,
             "#f1b6da"
            ],
            [
             0.4,
             "#fde0ef"
            ],
            [
             0.5,
             "#f7f7f7"
            ],
            [
             0.6,
             "#e6f5d0"
            ],
            [
             0.7,
             "#b8e186"
            ],
            [
             0.8,
             "#7fbc41"
            ],
            [
             0.9,
             "#4d9221"
            ],
            [
             1,
             "#276419"
            ]
           ],
           "sequential": [
            [
             0,
             "#0d0887"
            ],
            [
             0.1111111111111111,
             "#46039f"
            ],
            [
             0.2222222222222222,
             "#7201a8"
            ],
            [
             0.3333333333333333,
             "#9c179e"
            ],
            [
             0.4444444444444444,
             "#bd3786"
            ],
            [
             0.5555555555555556,
             "#d8576b"
            ],
            [
             0.6666666666666666,
             "#ed7953"
            ],
            [
             0.7777777777777778,
             "#fb9f3a"
            ],
            [
             0.8888888888888888,
             "#fdca26"
            ],
            [
             1,
             "#f0f921"
            ]
           ],
           "sequentialminus": [
            [
             0,
             "#0d0887"
            ],
            [
             0.1111111111111111,
             "#46039f"
            ],
            [
             0.2222222222222222,
             "#7201a8"
            ],
            [
             0.3333333333333333,
             "#9c179e"
            ],
            [
             0.4444444444444444,
             "#bd3786"
            ],
            [
             0.5555555555555556,
             "#d8576b"
            ],
            [
             0.6666666666666666,
             "#ed7953"
            ],
            [
             0.7777777777777778,
             "#fb9f3a"
            ],
            [
             0.8888888888888888,
             "#fdca26"
            ],
            [
             1,
             "#f0f921"
            ]
           ]
          },
          "colorway": [
           "#636efa",
           "#EF553B",
           "#00cc96",
           "#ab63fa",
           "#FFA15A",
           "#19d3f3",
           "#FF6692",
           "#B6E880",
           "#FF97FF",
           "#FECB52"
          ],
          "font": {
           "color": "#2a3f5f"
          },
          "geo": {
           "bgcolor": "white",
           "lakecolor": "white",
           "landcolor": "#E5ECF6",
           "showlakes": true,
           "showland": true,
           "subunitcolor": "white"
          },
          "hoverlabel": {
           "align": "left"
          },
          "hovermode": "closest",
          "mapbox": {
           "style": "light"
          },
          "paper_bgcolor": "white",
          "plot_bgcolor": "#E5ECF6",
          "polar": {
           "angularaxis": {
            "gridcolor": "white",
            "linecolor": "white",
            "ticks": ""
           },
           "bgcolor": "#E5ECF6",
           "radialaxis": {
            "gridcolor": "white",
            "linecolor": "white",
            "ticks": ""
           }
          },
          "scene": {
           "xaxis": {
            "backgroundcolor": "#E5ECF6",
            "gridcolor": "white",
            "gridwidth": 2,
            "linecolor": "white",
            "showbackground": true,
            "ticks": "",
            "zerolinecolor": "white"
           },
           "yaxis": {
            "backgroundcolor": "#E5ECF6",
            "gridcolor": "white",
            "gridwidth": 2,
            "linecolor": "white",
            "showbackground": true,
            "ticks": "",
            "zerolinecolor": "white"
           },
           "zaxis": {
            "backgroundcolor": "#E5ECF6",
            "gridcolor": "white",
            "gridwidth": 2,
            "linecolor": "white",
            "showbackground": true,
            "ticks": "",
            "zerolinecolor": "white"
           }
          },
          "shapedefaults": {
           "line": {
            "color": "#2a3f5f"
           }
          },
          "ternary": {
           "aaxis": {
            "gridcolor": "white",
            "linecolor": "white",
            "ticks": ""
           },
           "baxis": {
            "gridcolor": "white",
            "linecolor": "white",
            "ticks": ""
           },
           "bgcolor": "#E5ECF6",
           "caxis": {
            "gridcolor": "white",
            "linecolor": "white",
            "ticks": ""
           }
          },
          "title": {
           "x": 0.05
          },
          "xaxis": {
           "automargin": true,
           "gridcolor": "white",
           "linecolor": "white",
           "ticks": "",
           "title": {
            "standoff": 15
           },
           "zerolinecolor": "white",
           "zerolinewidth": 2
          },
          "yaxis": {
           "automargin": true,
           "gridcolor": "white",
           "linecolor": "white",
           "ticks": "",
           "title": {
            "standoff": 15
           },
           "zerolinecolor": "white",
           "zerolinewidth": 2
          }
         }
        },
        "title": {
         "text": "acc",
         "x": 0.5
        },
        "yaxis": {
         "tickmode": "array",
         "tickvals": [
          "0.71",
          0.3,
          0.8
         ]
        }
       }
      }
     },
     "metadata": {},
     "output_type": "display_data"
    }
   ],
   "source": [
    "genVisMulitlabel(partEvalMetrics, \"acc\")"
   ]
  },
  {
   "cell_type": "code",
   "execution_count": 28,
   "metadata": {},
   "outputs": [
    {
     "data": {
      "application/vnd.plotly.v1+json": {
       "config": {
        "plotlyServerURL": "https://plot.ly"
       },
       "data": [
        {
         "text": [
          0.5530873783101595,
          0.5140943332970105,
          0.8870106547263789,
          0.8712497001756286,
          0.8892213030593618,
          0.8645223835459245,
          0.7710109434210068,
          0.8698953359335649,
          0.5799963742168533,
          0.6606070812783191,
          0.8098595738780442,
          0.7429005349026789,
          0.828829073944674,
          0.8026919882939241,
          0.8963661298808836,
          0.6717677022651638,
          0.8099364198885003,
          0.9642555273206593,
          0.7126381956845805,
          0.8941692325732771,
          0.79961453416519,
          0.7722758413875458,
          0.9398286316713012,
          0.8882000408080625
         ],
         "type": "bar",
         "x": [
          "vision_bumper_rear",
          "vision_misc",
          "vision_rear_compartment",
          "vision_rear_panel",
          "vision_tail_lamp_lh",
          "vision_tail_lamp_rh",
          "vision_non_external",
          "vision_bonnet",
          "vision_bumper_front",
          "vision_engine",
          "vision_front_panel",
          "vision_grille",
          "vision_headlamp_lh",
          "vision_headlamp_rh",
          "vision_windscreen_front",
          "vision_door_front_lh",
          "vision_door_rear_lh",
          "vision_rear_quarter_lh",
          "vision_wheel",
          "vision_fender_front_lh",
          "vision_door_front_rh",
          "vision_door_rear_rh",
          "vision_rear_quarter_rh",
          "vision_fender_front_rh"
         ],
         "y": [
          0.5530873783101595,
          0.5140943332970105,
          0.8870106547263789,
          0.8712497001756286,
          0.8892213030593618,
          0.8645223835459245,
          0.7710109434210068,
          0.8698953359335649,
          0.5799963742168533,
          0.6606070812783191,
          0.8098595738780442,
          0.7429005349026789,
          0.828829073944674,
          0.8026919882939241,
          0.8963661298808836,
          0.6717677022651638,
          0.8099364198885003,
          0.9642555273206593,
          0.7126381956845805,
          0.8941692325732771,
          0.79961453416519,
          0.7722758413875458,
          0.9398286316713012,
          0.8882000408080625
         ]
        }
       ],
       "layout": {
        "shapes": [
         {
          "line": {
           "color": "red",
           "width": 2
          },
          "type": "line",
          "x0": 0,
          "x1": 1,
          "xref": "x domain",
          "y0": 0.7914178714428622,
          "y1": 0.7914178714428622,
          "yref": "y"
         }
        ],
        "template": {
         "data": {
          "bar": [
           {
            "error_x": {
             "color": "#2a3f5f"
            },
            "error_y": {
             "color": "#2a3f5f"
            },
            "marker": {
             "line": {
              "color": "#E5ECF6",
              "width": 0.5
             },
             "pattern": {
              "fillmode": "overlay",
              "size": 10,
              "solidity": 0.2
             }
            },
            "type": "bar"
           }
          ],
          "barpolar": [
           {
            "marker": {
             "line": {
              "color": "#E5ECF6",
              "width": 0.5
             },
             "pattern": {
              "fillmode": "overlay",
              "size": 10,
              "solidity": 0.2
             }
            },
            "type": "barpolar"
           }
          ],
          "carpet": [
           {
            "aaxis": {
             "endlinecolor": "#2a3f5f",
             "gridcolor": "white",
             "linecolor": "white",
             "minorgridcolor": "white",
             "startlinecolor": "#2a3f5f"
            },
            "baxis": {
             "endlinecolor": "#2a3f5f",
             "gridcolor": "white",
             "linecolor": "white",
             "minorgridcolor": "white",
             "startlinecolor": "#2a3f5f"
            },
            "type": "carpet"
           }
          ],
          "choropleth": [
           {
            "colorbar": {
             "outlinewidth": 0,
             "ticks": ""
            },
            "type": "choropleth"
           }
          ],
          "contour": [
           {
            "colorbar": {
             "outlinewidth": 0,
             "ticks": ""
            },
            "colorscale": [
             [
              0,
              "#0d0887"
             ],
             [
              0.1111111111111111,
              "#46039f"
             ],
             [
              0.2222222222222222,
              "#7201a8"
             ],
             [
              0.3333333333333333,
              "#9c179e"
             ],
             [
              0.4444444444444444,
              "#bd3786"
             ],
             [
              0.5555555555555556,
              "#d8576b"
             ],
             [
              0.6666666666666666,
              "#ed7953"
             ],
             [
              0.7777777777777778,
              "#fb9f3a"
             ],
             [
              0.8888888888888888,
              "#fdca26"
             ],
             [
              1,
              "#f0f921"
             ]
            ],
            "type": "contour"
           }
          ],
          "contourcarpet": [
           {
            "colorbar": {
             "outlinewidth": 0,
             "ticks": ""
            },
            "type": "contourcarpet"
           }
          ],
          "heatmap": [
           {
            "colorbar": {
             "outlinewidth": 0,
             "ticks": ""
            },
            "colorscale": [
             [
              0,
              "#0d0887"
             ],
             [
              0.1111111111111111,
              "#46039f"
             ],
             [
              0.2222222222222222,
              "#7201a8"
             ],
             [
              0.3333333333333333,
              "#9c179e"
             ],
             [
              0.4444444444444444,
              "#bd3786"
             ],
             [
              0.5555555555555556,
              "#d8576b"
             ],
             [
              0.6666666666666666,
              "#ed7953"
             ],
             [
              0.7777777777777778,
              "#fb9f3a"
             ],
             [
              0.8888888888888888,
              "#fdca26"
             ],
             [
              1,
              "#f0f921"
             ]
            ],
            "type": "heatmap"
           }
          ],
          "heatmapgl": [
           {
            "colorbar": {
             "outlinewidth": 0,
             "ticks": ""
            },
            "colorscale": [
             [
              0,
              "#0d0887"
             ],
             [
              0.1111111111111111,
              "#46039f"
             ],
             [
              0.2222222222222222,
              "#7201a8"
             ],
             [
              0.3333333333333333,
              "#9c179e"
             ],
             [
              0.4444444444444444,
              "#bd3786"
             ],
             [
              0.5555555555555556,
              "#d8576b"
             ],
             [
              0.6666666666666666,
              "#ed7953"
             ],
             [
              0.7777777777777778,
              "#fb9f3a"
             ],
             [
              0.8888888888888888,
              "#fdca26"
             ],
             [
              1,
              "#f0f921"
             ]
            ],
            "type": "heatmapgl"
           }
          ],
          "histogram": [
           {
            "marker": {
             "pattern": {
              "fillmode": "overlay",
              "size": 10,
              "solidity": 0.2
             }
            },
            "type": "histogram"
           }
          ],
          "histogram2d": [
           {
            "colorbar": {
             "outlinewidth": 0,
             "ticks": ""
            },
            "colorscale": [
             [
              0,
              "#0d0887"
             ],
             [
              0.1111111111111111,
              "#46039f"
             ],
             [
              0.2222222222222222,
              "#7201a8"
             ],
             [
              0.3333333333333333,
              "#9c179e"
             ],
             [
              0.4444444444444444,
              "#bd3786"
             ],
             [
              0.5555555555555556,
              "#d8576b"
             ],
             [
              0.6666666666666666,
              "#ed7953"
             ],
             [
              0.7777777777777778,
              "#fb9f3a"
             ],
             [
              0.8888888888888888,
              "#fdca26"
             ],
             [
              1,
              "#f0f921"
             ]
            ],
            "type": "histogram2d"
           }
          ],
          "histogram2dcontour": [
           {
            "colorbar": {
             "outlinewidth": 0,
             "ticks": ""
            },
            "colorscale": [
             [
              0,
              "#0d0887"
             ],
             [
              0.1111111111111111,
              "#46039f"
             ],
             [
              0.2222222222222222,
              "#7201a8"
             ],
             [
              0.3333333333333333,
              "#9c179e"
             ],
             [
              0.4444444444444444,
              "#bd3786"
             ],
             [
              0.5555555555555556,
              "#d8576b"
             ],
             [
              0.6666666666666666,
              "#ed7953"
             ],
             [
              0.7777777777777778,
              "#fb9f3a"
             ],
             [
              0.8888888888888888,
              "#fdca26"
             ],
             [
              1,
              "#f0f921"
             ]
            ],
            "type": "histogram2dcontour"
           }
          ],
          "mesh3d": [
           {
            "colorbar": {
             "outlinewidth": 0,
             "ticks": ""
            },
            "type": "mesh3d"
           }
          ],
          "parcoords": [
           {
            "line": {
             "colorbar": {
              "outlinewidth": 0,
              "ticks": ""
             }
            },
            "type": "parcoords"
           }
          ],
          "pie": [
           {
            "automargin": true,
            "type": "pie"
           }
          ],
          "scatter": [
           {
            "fillpattern": {
             "fillmode": "overlay",
             "size": 10,
             "solidity": 0.2
            },
            "type": "scatter"
           }
          ],
          "scatter3d": [
           {
            "line": {
             "colorbar": {
              "outlinewidth": 0,
              "ticks": ""
             }
            },
            "marker": {
             "colorbar": {
              "outlinewidth": 0,
              "ticks": ""
             }
            },
            "type": "scatter3d"
           }
          ],
          "scattercarpet": [
           {
            "marker": {
             "colorbar": {
              "outlinewidth": 0,
              "ticks": ""
             }
            },
            "type": "scattercarpet"
           }
          ],
          "scattergeo": [
           {
            "marker": {
             "colorbar": {
              "outlinewidth": 0,
              "ticks": ""
             }
            },
            "type": "scattergeo"
           }
          ],
          "scattergl": [
           {
            "marker": {
             "colorbar": {
              "outlinewidth": 0,
              "ticks": ""
             }
            },
            "type": "scattergl"
           }
          ],
          "scattermapbox": [
           {
            "marker": {
             "colorbar": {
              "outlinewidth": 0,
              "ticks": ""
             }
            },
            "type": "scattermapbox"
           }
          ],
          "scatterpolar": [
           {
            "marker": {
             "colorbar": {
              "outlinewidth": 0,
              "ticks": ""
             }
            },
            "type": "scatterpolar"
           }
          ],
          "scatterpolargl": [
           {
            "marker": {
             "colorbar": {
              "outlinewidth": 0,
              "ticks": ""
             }
            },
            "type": "scatterpolargl"
           }
          ],
          "scatterternary": [
           {
            "marker": {
             "colorbar": {
              "outlinewidth": 0,
              "ticks": ""
             }
            },
            "type": "scatterternary"
           }
          ],
          "surface": [
           {
            "colorbar": {
             "outlinewidth": 0,
             "ticks": ""
            },
            "colorscale": [
             [
              0,
              "#0d0887"
             ],
             [
              0.1111111111111111,
              "#46039f"
             ],
             [
              0.2222222222222222,
              "#7201a8"
             ],
             [
              0.3333333333333333,
              "#9c179e"
             ],
             [
              0.4444444444444444,
              "#bd3786"
             ],
             [
              0.5555555555555556,
              "#d8576b"
             ],
             [
              0.6666666666666666,
              "#ed7953"
             ],
             [
              0.7777777777777778,
              "#fb9f3a"
             ],
             [
              0.8888888888888888,
              "#fdca26"
             ],
             [
              1,
              "#f0f921"
             ]
            ],
            "type": "surface"
           }
          ],
          "table": [
           {
            "cells": {
             "fill": {
              "color": "#EBF0F8"
             },
             "line": {
              "color": "white"
             }
            },
            "header": {
             "fill": {
              "color": "#C8D4E3"
             },
             "line": {
              "color": "white"
             }
            },
            "type": "table"
           }
          ]
         },
         "layout": {
          "annotationdefaults": {
           "arrowcolor": "#2a3f5f",
           "arrowhead": 0,
           "arrowwidth": 1
          },
          "autotypenumbers": "strict",
          "coloraxis": {
           "colorbar": {
            "outlinewidth": 0,
            "ticks": ""
           }
          },
          "colorscale": {
           "diverging": [
            [
             0,
             "#8e0152"
            ],
            [
             0.1,
             "#c51b7d"
            ],
            [
             0.2,
             "#de77ae"
            ],
            [
             0.3,
             "#f1b6da"
            ],
            [
             0.4,
             "#fde0ef"
            ],
            [
             0.5,
             "#f7f7f7"
            ],
            [
             0.6,
             "#e6f5d0"
            ],
            [
             0.7,
             "#b8e186"
            ],
            [
             0.8,
             "#7fbc41"
            ],
            [
             0.9,
             "#4d9221"
            ],
            [
             1,
             "#276419"
            ]
           ],
           "sequential": [
            [
             0,
             "#0d0887"
            ],
            [
             0.1111111111111111,
             "#46039f"
            ],
            [
             0.2222222222222222,
             "#7201a8"
            ],
            [
             0.3333333333333333,
             "#9c179e"
            ],
            [
             0.4444444444444444,
             "#bd3786"
            ],
            [
             0.5555555555555556,
             "#d8576b"
            ],
            [
             0.6666666666666666,
             "#ed7953"
            ],
            [
             0.7777777777777778,
             "#fb9f3a"
            ],
            [
             0.8888888888888888,
             "#fdca26"
            ],
            [
             1,
             "#f0f921"
            ]
           ],
           "sequentialminus": [
            [
             0,
             "#0d0887"
            ],
            [
             0.1111111111111111,
             "#46039f"
            ],
            [
             0.2222222222222222,
             "#7201a8"
            ],
            [
             0.3333333333333333,
             "#9c179e"
            ],
            [
             0.4444444444444444,
             "#bd3786"
            ],
            [
             0.5555555555555556,
             "#d8576b"
            ],
            [
             0.6666666666666666,
             "#ed7953"
            ],
            [
             0.7777777777777778,
             "#fb9f3a"
            ],
            [
             0.8888888888888888,
             "#fdca26"
            ],
            [
             1,
             "#f0f921"
            ]
           ]
          },
          "colorway": [
           "#636efa",
           "#EF553B",
           "#00cc96",
           "#ab63fa",
           "#FFA15A",
           "#19d3f3",
           "#FF6692",
           "#B6E880",
           "#FF97FF",
           "#FECB52"
          ],
          "font": {
           "color": "#2a3f5f"
          },
          "geo": {
           "bgcolor": "white",
           "lakecolor": "white",
           "landcolor": "#E5ECF6",
           "showlakes": true,
           "showland": true,
           "subunitcolor": "white"
          },
          "hoverlabel": {
           "align": "left"
          },
          "hovermode": "closest",
          "mapbox": {
           "style": "light"
          },
          "paper_bgcolor": "white",
          "plot_bgcolor": "#E5ECF6",
          "polar": {
           "angularaxis": {
            "gridcolor": "white",
            "linecolor": "white",
            "ticks": ""
           },
           "bgcolor": "#E5ECF6",
           "radialaxis": {
            "gridcolor": "white",
            "linecolor": "white",
            "ticks": ""
           }
          },
          "scene": {
           "xaxis": {
            "backgroundcolor": "#E5ECF6",
            "gridcolor": "white",
            "gridwidth": 2,
            "linecolor": "white",
            "showbackground": true,
            "ticks": "",
            "zerolinecolor": "white"
           },
           "yaxis": {
            "backgroundcolor": "#E5ECF6",
            "gridcolor": "white",
            "gridwidth": 2,
            "linecolor": "white",
            "showbackground": true,
            "ticks": "",
            "zerolinecolor": "white"
           },
           "zaxis": {
            "backgroundcolor": "#E5ECF6",
            "gridcolor": "white",
            "gridwidth": 2,
            "linecolor": "white",
            "showbackground": true,
            "ticks": "",
            "zerolinecolor": "white"
           }
          },
          "shapedefaults": {
           "line": {
            "color": "#2a3f5f"
           }
          },
          "ternary": {
           "aaxis": {
            "gridcolor": "white",
            "linecolor": "white",
            "ticks": ""
           },
           "baxis": {
            "gridcolor": "white",
            "linecolor": "white",
            "ticks": ""
           },
           "bgcolor": "#E5ECF6",
           "caxis": {
            "gridcolor": "white",
            "linecolor": "white",
            "ticks": ""
           }
          },
          "title": {
           "x": 0.05
          },
          "xaxis": {
           "automargin": true,
           "gridcolor": "white",
           "linecolor": "white",
           "ticks": "",
           "title": {
            "standoff": 15
           },
           "zerolinecolor": "white",
           "zerolinewidth": 2
          },
          "yaxis": {
           "automargin": true,
           "gridcolor": "white",
           "linecolor": "white",
           "ticks": "",
           "title": {
            "standoff": 15
           },
           "zerolinecolor": "white",
           "zerolinewidth": 2
          }
         }
        },
        "title": {
         "text": "precision",
         "x": 0.5
        },
        "yaxis": {
         "tickmode": "array",
         "tickvals": [
          "0.79",
          0.3,
          0.8
         ]
        }
       }
      }
     },
     "metadata": {},
     "output_type": "display_data"
    }
   ],
   "source": [
    "genVisMulitlabel(partEvalMetrics, \"precision\")"
   ]
  },
  {
   "cell_type": "code",
   "execution_count": 29,
   "metadata": {},
   "outputs": [
    {
     "data": {
      "application/vnd.plotly.v1+json": {
       "config": {
        "plotlyServerURL": "https://plot.ly"
       },
       "data": [
        {
         "text": [
          0.918320784850559,
          0.974910394265233,
          0.6397896581945661,
          0.5234842015371477,
          0.3968503937007874,
          0.5061919504643962,
          0.604251012145749,
          0.6420531292210716,
          0.9511754068716094,
          0.8146718146718147,
          0.6841015018125324,
          0.5301383399209486,
          0.7548903378778897,
          0.7654249126891735,
          0.4212962962962963,
          0.7906647807637907,
          0.506872852233677,
          0.36009732360097324,
          0.5979860573199071,
          0.4803562074384494,
          0.5995457986373959,
          0.6175869120654397,
          0.49406175771971494,
          0.6135173726796763
         ],
         "type": "bar",
         "x": [
          "vision_bumper_rear",
          "vision_misc",
          "vision_rear_compartment",
          "vision_rear_panel",
          "vision_tail_lamp_lh",
          "vision_tail_lamp_rh",
          "vision_non_external",
          "vision_bonnet",
          "vision_bumper_front",
          "vision_engine",
          "vision_front_panel",
          "vision_grille",
          "vision_headlamp_lh",
          "vision_headlamp_rh",
          "vision_windscreen_front",
          "vision_door_front_lh",
          "vision_door_rear_lh",
          "vision_rear_quarter_lh",
          "vision_wheel",
          "vision_fender_front_lh",
          "vision_door_front_rh",
          "vision_door_rear_rh",
          "vision_rear_quarter_rh",
          "vision_fender_front_rh"
         ],
         "y": [
          0.918320784850559,
          0.974910394265233,
          0.6397896581945661,
          0.5234842015371477,
          0.3968503937007874,
          0.5061919504643962,
          0.604251012145749,
          0.6420531292210716,
          0.9511754068716094,
          0.8146718146718147,
          0.6841015018125324,
          0.5301383399209486,
          0.7548903378778897,
          0.7654249126891735,
          0.4212962962962963,
          0.7906647807637907,
          0.506872852233677,
          0.36009732360097324,
          0.5979860573199071,
          0.4803562074384494,
          0.5995457986373959,
          0.6175869120654397,
          0.49406175771971494,
          0.6135173726796763
         ]
        }
       ],
       "layout": {
        "shapes": [
         {
          "line": {
           "color": "red",
           "width": 2
          },
          "type": "line",
          "x0": 0,
          "x1": 1,
          "xref": "x domain",
          "y0": 0.6328432998741166,
          "y1": 0.6328432998741166,
          "yref": "y"
         }
        ],
        "template": {
         "data": {
          "bar": [
           {
            "error_x": {
             "color": "#2a3f5f"
            },
            "error_y": {
             "color": "#2a3f5f"
            },
            "marker": {
             "line": {
              "color": "#E5ECF6",
              "width": 0.5
             },
             "pattern": {
              "fillmode": "overlay",
              "size": 10,
              "solidity": 0.2
             }
            },
            "type": "bar"
           }
          ],
          "barpolar": [
           {
            "marker": {
             "line": {
              "color": "#E5ECF6",
              "width": 0.5
             },
             "pattern": {
              "fillmode": "overlay",
              "size": 10,
              "solidity": 0.2
             }
            },
            "type": "barpolar"
           }
          ],
          "carpet": [
           {
            "aaxis": {
             "endlinecolor": "#2a3f5f",
             "gridcolor": "white",
             "linecolor": "white",
             "minorgridcolor": "white",
             "startlinecolor": "#2a3f5f"
            },
            "baxis": {
             "endlinecolor": "#2a3f5f",
             "gridcolor": "white",
             "linecolor": "white",
             "minorgridcolor": "white",
             "startlinecolor": "#2a3f5f"
            },
            "type": "carpet"
           }
          ],
          "choropleth": [
           {
            "colorbar": {
             "outlinewidth": 0,
             "ticks": ""
            },
            "type": "choropleth"
           }
          ],
          "contour": [
           {
            "colorbar": {
             "outlinewidth": 0,
             "ticks": ""
            },
            "colorscale": [
             [
              0,
              "#0d0887"
             ],
             [
              0.1111111111111111,
              "#46039f"
             ],
             [
              0.2222222222222222,
              "#7201a8"
             ],
             [
              0.3333333333333333,
              "#9c179e"
             ],
             [
              0.4444444444444444,
              "#bd3786"
             ],
             [
              0.5555555555555556,
              "#d8576b"
             ],
             [
              0.6666666666666666,
              "#ed7953"
             ],
             [
              0.7777777777777778,
              "#fb9f3a"
             ],
             [
              0.8888888888888888,
              "#fdca26"
             ],
             [
              1,
              "#f0f921"
             ]
            ],
            "type": "contour"
           }
          ],
          "contourcarpet": [
           {
            "colorbar": {
             "outlinewidth": 0,
             "ticks": ""
            },
            "type": "contourcarpet"
           }
          ],
          "heatmap": [
           {
            "colorbar": {
             "outlinewidth": 0,
             "ticks": ""
            },
            "colorscale": [
             [
              0,
              "#0d0887"
             ],
             [
              0.1111111111111111,
              "#46039f"
             ],
             [
              0.2222222222222222,
              "#7201a8"
             ],
             [
              0.3333333333333333,
              "#9c179e"
             ],
             [
              0.4444444444444444,
              "#bd3786"
             ],
             [
              0.5555555555555556,
              "#d8576b"
             ],
             [
              0.6666666666666666,
              "#ed7953"
             ],
             [
              0.7777777777777778,
              "#fb9f3a"
             ],
             [
              0.8888888888888888,
              "#fdca26"
             ],
             [
              1,
              "#f0f921"
             ]
            ],
            "type": "heatmap"
           }
          ],
          "heatmapgl": [
           {
            "colorbar": {
             "outlinewidth": 0,
             "ticks": ""
            },
            "colorscale": [
             [
              0,
              "#0d0887"
             ],
             [
              0.1111111111111111,
              "#46039f"
             ],
             [
              0.2222222222222222,
              "#7201a8"
             ],
             [
              0.3333333333333333,
              "#9c179e"
             ],
             [
              0.4444444444444444,
              "#bd3786"
             ],
             [
              0.5555555555555556,
              "#d8576b"
             ],
             [
              0.6666666666666666,
              "#ed7953"
             ],
             [
              0.7777777777777778,
              "#fb9f3a"
             ],
             [
              0.8888888888888888,
              "#fdca26"
             ],
             [
              1,
              "#f0f921"
             ]
            ],
            "type": "heatmapgl"
           }
          ],
          "histogram": [
           {
            "marker": {
             "pattern": {
              "fillmode": "overlay",
              "size": 10,
              "solidity": 0.2
             }
            },
            "type": "histogram"
           }
          ],
          "histogram2d": [
           {
            "colorbar": {
             "outlinewidth": 0,
             "ticks": ""
            },
            "colorscale": [
             [
              0,
              "#0d0887"
             ],
             [
              0.1111111111111111,
              "#46039f"
             ],
             [
              0.2222222222222222,
              "#7201a8"
             ],
             [
              0.3333333333333333,
              "#9c179e"
             ],
             [
              0.4444444444444444,
              "#bd3786"
             ],
             [
              0.5555555555555556,
              "#d8576b"
             ],
             [
              0.6666666666666666,
              "#ed7953"
             ],
             [
              0.7777777777777778,
              "#fb9f3a"
             ],
             [
              0.8888888888888888,
              "#fdca26"
             ],
             [
              1,
              "#f0f921"
             ]
            ],
            "type": "histogram2d"
           }
          ],
          "histogram2dcontour": [
           {
            "colorbar": {
             "outlinewidth": 0,
             "ticks": ""
            },
            "colorscale": [
             [
              0,
              "#0d0887"
             ],
             [
              0.1111111111111111,
              "#46039f"
             ],
             [
              0.2222222222222222,
              "#7201a8"
             ],
             [
              0.3333333333333333,
              "#9c179e"
             ],
             [
              0.4444444444444444,
              "#bd3786"
             ],
             [
              0.5555555555555556,
              "#d8576b"
             ],
             [
              0.6666666666666666,
              "#ed7953"
             ],
             [
              0.7777777777777778,
              "#fb9f3a"
             ],
             [
              0.8888888888888888,
              "#fdca26"
             ],
             [
              1,
              "#f0f921"
             ]
            ],
            "type": "histogram2dcontour"
           }
          ],
          "mesh3d": [
           {
            "colorbar": {
             "outlinewidth": 0,
             "ticks": ""
            },
            "type": "mesh3d"
           }
          ],
          "parcoords": [
           {
            "line": {
             "colorbar": {
              "outlinewidth": 0,
              "ticks": ""
             }
            },
            "type": "parcoords"
           }
          ],
          "pie": [
           {
            "automargin": true,
            "type": "pie"
           }
          ],
          "scatter": [
           {
            "fillpattern": {
             "fillmode": "overlay",
             "size": 10,
             "solidity": 0.2
            },
            "type": "scatter"
           }
          ],
          "scatter3d": [
           {
            "line": {
             "colorbar": {
              "outlinewidth": 0,
              "ticks": ""
             }
            },
            "marker": {
             "colorbar": {
              "outlinewidth": 0,
              "ticks": ""
             }
            },
            "type": "scatter3d"
           }
          ],
          "scattercarpet": [
           {
            "marker": {
             "colorbar": {
              "outlinewidth": 0,
              "ticks": ""
             }
            },
            "type": "scattercarpet"
           }
          ],
          "scattergeo": [
           {
            "marker": {
             "colorbar": {
              "outlinewidth": 0,
              "ticks": ""
             }
            },
            "type": "scattergeo"
           }
          ],
          "scattergl": [
           {
            "marker": {
             "colorbar": {
              "outlinewidth": 0,
              "ticks": ""
             }
            },
            "type": "scattergl"
           }
          ],
          "scattermapbox": [
           {
            "marker": {
             "colorbar": {
              "outlinewidth": 0,
              "ticks": ""
             }
            },
            "type": "scattermapbox"
           }
          ],
          "scatterpolar": [
           {
            "marker": {
             "colorbar": {
              "outlinewidth": 0,
              "ticks": ""
             }
            },
            "type": "scatterpolar"
           }
          ],
          "scatterpolargl": [
           {
            "marker": {
             "colorbar": {
              "outlinewidth": 0,
              "ticks": ""
             }
            },
            "type": "scatterpolargl"
           }
          ],
          "scatterternary": [
           {
            "marker": {
             "colorbar": {
              "outlinewidth": 0,
              "ticks": ""
             }
            },
            "type": "scatterternary"
           }
          ],
          "surface": [
           {
            "colorbar": {
             "outlinewidth": 0,
             "ticks": ""
            },
            "colorscale": [
             [
              0,
              "#0d0887"
             ],
             [
              0.1111111111111111,
              "#46039f"
             ],
             [
              0.2222222222222222,
              "#7201a8"
             ],
             [
              0.3333333333333333,
              "#9c179e"
             ],
             [
              0.4444444444444444,
              "#bd3786"
             ],
             [
              0.5555555555555556,
              "#d8576b"
             ],
             [
              0.6666666666666666,
              "#ed7953"
             ],
             [
              0.7777777777777778,
              "#fb9f3a"
             ],
             [
              0.8888888888888888,
              "#fdca26"
             ],
             [
              1,
              "#f0f921"
             ]
            ],
            "type": "surface"
           }
          ],
          "table": [
           {
            "cells": {
             "fill": {
              "color": "#EBF0F8"
             },
             "line": {
              "color": "white"
             }
            },
            "header": {
             "fill": {
              "color": "#C8D4E3"
             },
             "line": {
              "color": "white"
             }
            },
            "type": "table"
           }
          ]
         },
         "layout": {
          "annotationdefaults": {
           "arrowcolor": "#2a3f5f",
           "arrowhead": 0,
           "arrowwidth": 1
          },
          "autotypenumbers": "strict",
          "coloraxis": {
           "colorbar": {
            "outlinewidth": 0,
            "ticks": ""
           }
          },
          "colorscale": {
           "diverging": [
            [
             0,
             "#8e0152"
            ],
            [
             0.1,
             "#c51b7d"
            ],
            [
             0.2,
             "#de77ae"
            ],
            [
             0.3,
             "#f1b6da"
            ],
            [
             0.4,
             "#fde0ef"
            ],
            [
             0.5,
             "#f7f7f7"
            ],
            [
             0.6,
             "#e6f5d0"
            ],
            [
             0.7,
             "#b8e186"
            ],
            [
             0.8,
             "#7fbc41"
            ],
            [
             0.9,
             "#4d9221"
            ],
            [
             1,
             "#276419"
            ]
           ],
           "sequential": [
            [
             0,
             "#0d0887"
            ],
            [
             0.1111111111111111,
             "#46039f"
            ],
            [
             0.2222222222222222,
             "#7201a8"
            ],
            [
             0.3333333333333333,
             "#9c179e"
            ],
            [
             0.4444444444444444,
             "#bd3786"
            ],
            [
             0.5555555555555556,
             "#d8576b"
            ],
            [
             0.6666666666666666,
             "#ed7953"
            ],
            [
             0.7777777777777778,
             "#fb9f3a"
            ],
            [
             0.8888888888888888,
             "#fdca26"
            ],
            [
             1,
             "#f0f921"
            ]
           ],
           "sequentialminus": [
            [
             0,
             "#0d0887"
            ],
            [
             0.1111111111111111,
             "#46039f"
            ],
            [
             0.2222222222222222,
             "#7201a8"
            ],
            [
             0.3333333333333333,
             "#9c179e"
            ],
            [
             0.4444444444444444,
             "#bd3786"
            ],
            [
             0.5555555555555556,
             "#d8576b"
            ],
            [
             0.6666666666666666,
             "#ed7953"
            ],
            [
             0.7777777777777778,
             "#fb9f3a"
            ],
            [
             0.8888888888888888,
             "#fdca26"
            ],
            [
             1,
             "#f0f921"
            ]
           ]
          },
          "colorway": [
           "#636efa",
           "#EF553B",
           "#00cc96",
           "#ab63fa",
           "#FFA15A",
           "#19d3f3",
           "#FF6692",
           "#B6E880",
           "#FF97FF",
           "#FECB52"
          ],
          "font": {
           "color": "#2a3f5f"
          },
          "geo": {
           "bgcolor": "white",
           "lakecolor": "white",
           "landcolor": "#E5ECF6",
           "showlakes": true,
           "showland": true,
           "subunitcolor": "white"
          },
          "hoverlabel": {
           "align": "left"
          },
          "hovermode": "closest",
          "mapbox": {
           "style": "light"
          },
          "paper_bgcolor": "white",
          "plot_bgcolor": "#E5ECF6",
          "polar": {
           "angularaxis": {
            "gridcolor": "white",
            "linecolor": "white",
            "ticks": ""
           },
           "bgcolor": "#E5ECF6",
           "radialaxis": {
            "gridcolor": "white",
            "linecolor": "white",
            "ticks": ""
           }
          },
          "scene": {
           "xaxis": {
            "backgroundcolor": "#E5ECF6",
            "gridcolor": "white",
            "gridwidth": 2,
            "linecolor": "white",
            "showbackground": true,
            "ticks": "",
            "zerolinecolor": "white"
           },
           "yaxis": {
            "backgroundcolor": "#E5ECF6",
            "gridcolor": "white",
            "gridwidth": 2,
            "linecolor": "white",
            "showbackground": true,
            "ticks": "",
            "zerolinecolor": "white"
           },
           "zaxis": {
            "backgroundcolor": "#E5ECF6",
            "gridcolor": "white",
            "gridwidth": 2,
            "linecolor": "white",
            "showbackground": true,
            "ticks": "",
            "zerolinecolor": "white"
           }
          },
          "shapedefaults": {
           "line": {
            "color": "#2a3f5f"
           }
          },
          "ternary": {
           "aaxis": {
            "gridcolor": "white",
            "linecolor": "white",
            "ticks": ""
           },
           "baxis": {
            "gridcolor": "white",
            "linecolor": "white",
            "ticks": ""
           },
           "bgcolor": "#E5ECF6",
           "caxis": {
            "gridcolor": "white",
            "linecolor": "white",
            "ticks": ""
           }
          },
          "title": {
           "x": 0.05
          },
          "xaxis": {
           "automargin": true,
           "gridcolor": "white",
           "linecolor": "white",
           "ticks": "",
           "title": {
            "standoff": 15
           },
           "zerolinecolor": "white",
           "zerolinewidth": 2
          },
          "yaxis": {
           "automargin": true,
           "gridcolor": "white",
           "linecolor": "white",
           "ticks": "",
           "title": {
            "standoff": 15
           },
           "zerolinecolor": "white",
           "zerolinewidth": 2
          }
         }
        },
        "title": {
         "text": "recall",
         "x": 0.5
        },
        "yaxis": {
         "tickmode": "array",
         "tickvals": [
          "0.63",
          0.3,
          0.8
         ]
        }
       }
      }
     },
     "metadata": {},
     "output_type": "display_data"
    }
   ],
   "source": [
    "genVisMulitlabel(partEvalMetrics, \"recall\")"
   ]
  },
  {
   "cell_type": "code",
   "execution_count": 30,
   "metadata": {},
   "outputs": [
    {
     "data": {
      "application/vnd.plotly.v1+json": {
       "config": {
        "plotlyServerURL": "https://plot.ly"
       },
       "data": [
        {
         "text": [
          0.6903749048798035,
          0.6731958601429755,
          0.7433850239611687,
          0.654010708531328,
          0.5487840609434516,
          0.63852001936378,
          0.6775205858808154,
          0.7388069572514662,
          0.7205962048720655,
          0.729594886997218,
          0.7416875309032152,
          0.6187400307853997,
          0.7901337257122825,
          0.7836156152273986,
          0.5731904061951028,
          0.7263830217113212,
          0.6235296059469523,
          0.5243705775450646,
          0.6502972975757004,
          0.62497168675668,
          0.685276051998795,
          0.6863230933562927,
          0.6476553426319335,
          0.725737279938644
         ],
         "type": "bar",
         "x": [
          "vision_bumper_rear",
          "vision_misc",
          "vision_rear_compartment",
          "vision_rear_panel",
          "vision_tail_lamp_lh",
          "vision_tail_lamp_rh",
          "vision_non_external",
          "vision_bonnet",
          "vision_bumper_front",
          "vision_engine",
          "vision_front_panel",
          "vision_grille",
          "vision_headlamp_lh",
          "vision_headlamp_rh",
          "vision_windscreen_front",
          "vision_door_front_lh",
          "vision_door_rear_lh",
          "vision_rear_quarter_lh",
          "vision_wheel",
          "vision_fender_front_lh",
          "vision_door_front_rh",
          "vision_door_rear_rh",
          "vision_rear_quarter_rh",
          "vision_fender_front_rh"
         ],
         "y": [
          0.6903749048798035,
          0.6731958601429755,
          0.7433850239611687,
          0.654010708531328,
          0.5487840609434516,
          0.63852001936378,
          0.6775205858808154,
          0.7388069572514662,
          0.7205962048720655,
          0.729594886997218,
          0.7416875309032152,
          0.6187400307853997,
          0.7901337257122825,
          0.7836156152273986,
          0.5731904061951028,
          0.7263830217113212,
          0.6235296059469523,
          0.5243705775450646,
          0.6502972975757004,
          0.62497168675668,
          0.685276051998795,
          0.6863230933562927,
          0.6476553426319335,
          0.725737279938644
         ]
        }
       ],
       "layout": {
        "shapes": [
         {
          "line": {
           "color": "red",
           "width": 2
          },
          "type": "line",
          "x0": 0,
          "x1": 1,
          "xref": "x domain",
          "y0": 0.6756958532962023,
          "y1": 0.6756958532962023,
          "yref": "y"
         }
        ],
        "template": {
         "data": {
          "bar": [
           {
            "error_x": {
             "color": "#2a3f5f"
            },
            "error_y": {
             "color": "#2a3f5f"
            },
            "marker": {
             "line": {
              "color": "#E5ECF6",
              "width": 0.5
             },
             "pattern": {
              "fillmode": "overlay",
              "size": 10,
              "solidity": 0.2
             }
            },
            "type": "bar"
           }
          ],
          "barpolar": [
           {
            "marker": {
             "line": {
              "color": "#E5ECF6",
              "width": 0.5
             },
             "pattern": {
              "fillmode": "overlay",
              "size": 10,
              "solidity": 0.2
             }
            },
            "type": "barpolar"
           }
          ],
          "carpet": [
           {
            "aaxis": {
             "endlinecolor": "#2a3f5f",
             "gridcolor": "white",
             "linecolor": "white",
             "minorgridcolor": "white",
             "startlinecolor": "#2a3f5f"
            },
            "baxis": {
             "endlinecolor": "#2a3f5f",
             "gridcolor": "white",
             "linecolor": "white",
             "minorgridcolor": "white",
             "startlinecolor": "#2a3f5f"
            },
            "type": "carpet"
           }
          ],
          "choropleth": [
           {
            "colorbar": {
             "outlinewidth": 0,
             "ticks": ""
            },
            "type": "choropleth"
           }
          ],
          "contour": [
           {
            "colorbar": {
             "outlinewidth": 0,
             "ticks": ""
            },
            "colorscale": [
             [
              0,
              "#0d0887"
             ],
             [
              0.1111111111111111,
              "#46039f"
             ],
             [
              0.2222222222222222,
              "#7201a8"
             ],
             [
              0.3333333333333333,
              "#9c179e"
             ],
             [
              0.4444444444444444,
              "#bd3786"
             ],
             [
              0.5555555555555556,
              "#d8576b"
             ],
             [
              0.6666666666666666,
              "#ed7953"
             ],
             [
              0.7777777777777778,
              "#fb9f3a"
             ],
             [
              0.8888888888888888,
              "#fdca26"
             ],
             [
              1,
              "#f0f921"
             ]
            ],
            "type": "contour"
           }
          ],
          "contourcarpet": [
           {
            "colorbar": {
             "outlinewidth": 0,
             "ticks": ""
            },
            "type": "contourcarpet"
           }
          ],
          "heatmap": [
           {
            "colorbar": {
             "outlinewidth": 0,
             "ticks": ""
            },
            "colorscale": [
             [
              0,
              "#0d0887"
             ],
             [
              0.1111111111111111,
              "#46039f"
             ],
             [
              0.2222222222222222,
              "#7201a8"
             ],
             [
              0.3333333333333333,
              "#9c179e"
             ],
             [
              0.4444444444444444,
              "#bd3786"
             ],
             [
              0.5555555555555556,
              "#d8576b"
             ],
             [
              0.6666666666666666,
              "#ed7953"
             ],
             [
              0.7777777777777778,
              "#fb9f3a"
             ],
             [
              0.8888888888888888,
              "#fdca26"
             ],
             [
              1,
              "#f0f921"
             ]
            ],
            "type": "heatmap"
           }
          ],
          "heatmapgl": [
           {
            "colorbar": {
             "outlinewidth": 0,
             "ticks": ""
            },
            "colorscale": [
             [
              0,
              "#0d0887"
             ],
             [
              0.1111111111111111,
              "#46039f"
             ],
             [
              0.2222222222222222,
              "#7201a8"
             ],
             [
              0.3333333333333333,
              "#9c179e"
             ],
             [
              0.4444444444444444,
              "#bd3786"
             ],
             [
              0.5555555555555556,
              "#d8576b"
             ],
             [
              0.6666666666666666,
              "#ed7953"
             ],
             [
              0.7777777777777778,
              "#fb9f3a"
             ],
             [
              0.8888888888888888,
              "#fdca26"
             ],
             [
              1,
              "#f0f921"
             ]
            ],
            "type": "heatmapgl"
           }
          ],
          "histogram": [
           {
            "marker": {
             "pattern": {
              "fillmode": "overlay",
              "size": 10,
              "solidity": 0.2
             }
            },
            "type": "histogram"
           }
          ],
          "histogram2d": [
           {
            "colorbar": {
             "outlinewidth": 0,
             "ticks": ""
            },
            "colorscale": [
             [
              0,
              "#0d0887"
             ],
             [
              0.1111111111111111,
              "#46039f"
             ],
             [
              0.2222222222222222,
              "#7201a8"
             ],
             [
              0.3333333333333333,
              "#9c179e"
             ],
             [
              0.4444444444444444,
              "#bd3786"
             ],
             [
              0.5555555555555556,
              "#d8576b"
             ],
             [
              0.6666666666666666,
              "#ed7953"
             ],
             [
              0.7777777777777778,
              "#fb9f3a"
             ],
             [
              0.8888888888888888,
              "#fdca26"
             ],
             [
              1,
              "#f0f921"
             ]
            ],
            "type": "histogram2d"
           }
          ],
          "histogram2dcontour": [
           {
            "colorbar": {
             "outlinewidth": 0,
             "ticks": ""
            },
            "colorscale": [
             [
              0,
              "#0d0887"
             ],
             [
              0.1111111111111111,
              "#46039f"
             ],
             [
              0.2222222222222222,
              "#7201a8"
             ],
             [
              0.3333333333333333,
              "#9c179e"
             ],
             [
              0.4444444444444444,
              "#bd3786"
             ],
             [
              0.5555555555555556,
              "#d8576b"
             ],
             [
              0.6666666666666666,
              "#ed7953"
             ],
             [
              0.7777777777777778,
              "#fb9f3a"
             ],
             [
              0.8888888888888888,
              "#fdca26"
             ],
             [
              1,
              "#f0f921"
             ]
            ],
            "type": "histogram2dcontour"
           }
          ],
          "mesh3d": [
           {
            "colorbar": {
             "outlinewidth": 0,
             "ticks": ""
            },
            "type": "mesh3d"
           }
          ],
          "parcoords": [
           {
            "line": {
             "colorbar": {
              "outlinewidth": 0,
              "ticks": ""
             }
            },
            "type": "parcoords"
           }
          ],
          "pie": [
           {
            "automargin": true,
            "type": "pie"
           }
          ],
          "scatter": [
           {
            "fillpattern": {
             "fillmode": "overlay",
             "size": 10,
             "solidity": 0.2
            },
            "type": "scatter"
           }
          ],
          "scatter3d": [
           {
            "line": {
             "colorbar": {
              "outlinewidth": 0,
              "ticks": ""
             }
            },
            "marker": {
             "colorbar": {
              "outlinewidth": 0,
              "ticks": ""
             }
            },
            "type": "scatter3d"
           }
          ],
          "scattercarpet": [
           {
            "marker": {
             "colorbar": {
              "outlinewidth": 0,
              "ticks": ""
             }
            },
            "type": "scattercarpet"
           }
          ],
          "scattergeo": [
           {
            "marker": {
             "colorbar": {
              "outlinewidth": 0,
              "ticks": ""
             }
            },
            "type": "scattergeo"
           }
          ],
          "scattergl": [
           {
            "marker": {
             "colorbar": {
              "outlinewidth": 0,
              "ticks": ""
             }
            },
            "type": "scattergl"
           }
          ],
          "scattermapbox": [
           {
            "marker": {
             "colorbar": {
              "outlinewidth": 0,
              "ticks": ""
             }
            },
            "type": "scattermapbox"
           }
          ],
          "scatterpolar": [
           {
            "marker": {
             "colorbar": {
              "outlinewidth": 0,
              "ticks": ""
             }
            },
            "type": "scatterpolar"
           }
          ],
          "scatterpolargl": [
           {
            "marker": {
             "colorbar": {
              "outlinewidth": 0,
              "ticks": ""
             }
            },
            "type": "scatterpolargl"
           }
          ],
          "scatterternary": [
           {
            "marker": {
             "colorbar": {
              "outlinewidth": 0,
              "ticks": ""
             }
            },
            "type": "scatterternary"
           }
          ],
          "surface": [
           {
            "colorbar": {
             "outlinewidth": 0,
             "ticks": ""
            },
            "colorscale": [
             [
              0,
              "#0d0887"
             ],
             [
              0.1111111111111111,
              "#46039f"
             ],
             [
              0.2222222222222222,
              "#7201a8"
             ],
             [
              0.3333333333333333,
              "#9c179e"
             ],
             [
              0.4444444444444444,
              "#bd3786"
             ],
             [
              0.5555555555555556,
              "#d8576b"
             ],
             [
              0.6666666666666666,
              "#ed7953"
             ],
             [
              0.7777777777777778,
              "#fb9f3a"
             ],
             [
              0.8888888888888888,
              "#fdca26"
             ],
             [
              1,
              "#f0f921"
             ]
            ],
            "type": "surface"
           }
          ],
          "table": [
           {
            "cells": {
             "fill": {
              "color": "#EBF0F8"
             },
             "line": {
              "color": "white"
             }
            },
            "header": {
             "fill": {
              "color": "#C8D4E3"
             },
             "line": {
              "color": "white"
             }
            },
            "type": "table"
           }
          ]
         },
         "layout": {
          "annotationdefaults": {
           "arrowcolor": "#2a3f5f",
           "arrowhead": 0,
           "arrowwidth": 1
          },
          "autotypenumbers": "strict",
          "coloraxis": {
           "colorbar": {
            "outlinewidth": 0,
            "ticks": ""
           }
          },
          "colorscale": {
           "diverging": [
            [
             0,
             "#8e0152"
            ],
            [
             0.1,
             "#c51b7d"
            ],
            [
             0.2,
             "#de77ae"
            ],
            [
             0.3,
             "#f1b6da"
            ],
            [
             0.4,
             "#fde0ef"
            ],
            [
             0.5,
             "#f7f7f7"
            ],
            [
             0.6,
             "#e6f5d0"
            ],
            [
             0.7,
             "#b8e186"
            ],
            [
             0.8,
             "#7fbc41"
            ],
            [
             0.9,
             "#4d9221"
            ],
            [
             1,
             "#276419"
            ]
           ],
           "sequential": [
            [
             0,
             "#0d0887"
            ],
            [
             0.1111111111111111,
             "#46039f"
            ],
            [
             0.2222222222222222,
             "#7201a8"
            ],
            [
             0.3333333333333333,
             "#9c179e"
            ],
            [
             0.4444444444444444,
             "#bd3786"
            ],
            [
             0.5555555555555556,
             "#d8576b"
            ],
            [
             0.6666666666666666,
             "#ed7953"
            ],
            [
             0.7777777777777778,
             "#fb9f3a"
            ],
            [
             0.8888888888888888,
             "#fdca26"
            ],
            [
             1,
             "#f0f921"
            ]
           ],
           "sequentialminus": [
            [
             0,
             "#0d0887"
            ],
            [
             0.1111111111111111,
             "#46039f"
            ],
            [
             0.2222222222222222,
             "#7201a8"
            ],
            [
             0.3333333333333333,
             "#9c179e"
            ],
            [
             0.4444444444444444,
             "#bd3786"
            ],
            [
             0.5555555555555556,
             "#d8576b"
            ],
            [
             0.6666666666666666,
             "#ed7953"
            ],
            [
             0.7777777777777778,
             "#fb9f3a"
            ],
            [
             0.8888888888888888,
             "#fdca26"
            ],
            [
             1,
             "#f0f921"
            ]
           ]
          },
          "colorway": [
           "#636efa",
           "#EF553B",
           "#00cc96",
           "#ab63fa",
           "#FFA15A",
           "#19d3f3",
           "#FF6692",
           "#B6E880",
           "#FF97FF",
           "#FECB52"
          ],
          "font": {
           "color": "#2a3f5f"
          },
          "geo": {
           "bgcolor": "white",
           "lakecolor": "white",
           "landcolor": "#E5ECF6",
           "showlakes": true,
           "showland": true,
           "subunitcolor": "white"
          },
          "hoverlabel": {
           "align": "left"
          },
          "hovermode": "closest",
          "mapbox": {
           "style": "light"
          },
          "paper_bgcolor": "white",
          "plot_bgcolor": "#E5ECF6",
          "polar": {
           "angularaxis": {
            "gridcolor": "white",
            "linecolor": "white",
            "ticks": ""
           },
           "bgcolor": "#E5ECF6",
           "radialaxis": {
            "gridcolor": "white",
            "linecolor": "white",
            "ticks": ""
           }
          },
          "scene": {
           "xaxis": {
            "backgroundcolor": "#E5ECF6",
            "gridcolor": "white",
            "gridwidth": 2,
            "linecolor": "white",
            "showbackground": true,
            "ticks": "",
            "zerolinecolor": "white"
           },
           "yaxis": {
            "backgroundcolor": "#E5ECF6",
            "gridcolor": "white",
            "gridwidth": 2,
            "linecolor": "white",
            "showbackground": true,
            "ticks": "",
            "zerolinecolor": "white"
           },
           "zaxis": {
            "backgroundcolor": "#E5ECF6",
            "gridcolor": "white",
            "gridwidth": 2,
            "linecolor": "white",
            "showbackground": true,
            "ticks": "",
            "zerolinecolor": "white"
           }
          },
          "shapedefaults": {
           "line": {
            "color": "#2a3f5f"
           }
          },
          "ternary": {
           "aaxis": {
            "gridcolor": "white",
            "linecolor": "white",
            "ticks": ""
           },
           "baxis": {
            "gridcolor": "white",
            "linecolor": "white",
            "ticks": ""
           },
           "bgcolor": "#E5ECF6",
           "caxis": {
            "gridcolor": "white",
            "linecolor": "white",
            "ticks": ""
           }
          },
          "title": {
           "x": 0.05
          },
          "xaxis": {
           "automargin": true,
           "gridcolor": "white",
           "linecolor": "white",
           "ticks": "",
           "title": {
            "standoff": 15
           },
           "zerolinecolor": "white",
           "zerolinewidth": 2
          },
          "yaxis": {
           "automargin": true,
           "gridcolor": "white",
           "linecolor": "white",
           "ticks": "",
           "title": {
            "standoff": 15
           },
           "zerolinecolor": "white",
           "zerolinewidth": 2
          }
         }
        },
        "title": {
         "text": "f1",
         "x": 0.5
        },
        "yaxis": {
         "tickmode": "array",
         "tickvals": [
          "0.68",
          0.3,
          0.8
         ]
        }
       }
      }
     },
     "metadata": {},
     "output_type": "display_data"
    }
   ],
   "source": [
    "genVisMulitlabel(partEvalMetrics, \"f1\")"
   ]
  },
  {
   "cell_type": "code",
   "execution_count": 31,
   "metadata": {},
   "outputs": [
    {
     "data": {
      "application/vnd.plotly.v1+json": {
       "config": {
        "plotlyServerURL": "https://plot.ly"
       },
       "data": [
        {
         "text": [
          0.4383,
          0.5022,
          0.2282,
          0.1171,
          0.0635,
          0.0646,
          0.1976,
          0.2221,
          0.6083,
          0.4144,
          0.1931,
          0.4048,
          0.3374,
          0.3436,
          0.0864,
          0.1414,
          0.1164,
          0.0411,
          0.1291,
          0.1909,
          0.1321,
          0.0978,
          0.0421,
          0.2101
         ],
         "type": "bar",
         "x": [
          "vision_bumper_rear",
          "vision_misc",
          "vision_rear_compartment",
          "vision_rear_panel",
          "vision_tail_lamp_lh",
          "vision_tail_lamp_rh",
          "vision_non_external",
          "vision_bonnet",
          "vision_bumper_front",
          "vision_engine",
          "vision_front_panel",
          "vision_grille",
          "vision_headlamp_lh",
          "vision_headlamp_rh",
          "vision_windscreen_front",
          "vision_door_front_lh",
          "vision_door_rear_lh",
          "vision_rear_quarter_lh",
          "vision_wheel",
          "vision_fender_front_lh",
          "vision_door_front_rh",
          "vision_door_rear_rh",
          "vision_rear_quarter_rh",
          "vision_fender_front_rh"
         ],
         "y": [
          0.4383,
          0.5022,
          0.2282,
          0.1171,
          0.0635,
          0.0646,
          0.1976,
          0.2221,
          0.6083,
          0.4144,
          0.1931,
          0.4048,
          0.3374,
          0.3436,
          0.0864,
          0.1414,
          0.1164,
          0.0411,
          0.1291,
          0.1909,
          0.1321,
          0.0978,
          0.0421,
          0.2101
         ]
        }
       ],
       "layout": {
        "shapes": [
         {
          "line": {
           "color": "red",
           "width": 2
          },
          "type": "line",
          "x0": 0,
          "x1": 1,
          "xref": "x domain",
          "y0": 0.22177499999999997,
          "y1": 0.22177499999999997,
          "yref": "y"
         }
        ],
        "template": {
         "data": {
          "bar": [
           {
            "error_x": {
             "color": "#2a3f5f"
            },
            "error_y": {
             "color": "#2a3f5f"
            },
            "marker": {
             "line": {
              "color": "#E5ECF6",
              "width": 0.5
             },
             "pattern": {
              "fillmode": "overlay",
              "size": 10,
              "solidity": 0.2
             }
            },
            "type": "bar"
           }
          ],
          "barpolar": [
           {
            "marker": {
             "line": {
              "color": "#E5ECF6",
              "width": 0.5
             },
             "pattern": {
              "fillmode": "overlay",
              "size": 10,
              "solidity": 0.2
             }
            },
            "type": "barpolar"
           }
          ],
          "carpet": [
           {
            "aaxis": {
             "endlinecolor": "#2a3f5f",
             "gridcolor": "white",
             "linecolor": "white",
             "minorgridcolor": "white",
             "startlinecolor": "#2a3f5f"
            },
            "baxis": {
             "endlinecolor": "#2a3f5f",
             "gridcolor": "white",
             "linecolor": "white",
             "minorgridcolor": "white",
             "startlinecolor": "#2a3f5f"
            },
            "type": "carpet"
           }
          ],
          "choropleth": [
           {
            "colorbar": {
             "outlinewidth": 0,
             "ticks": ""
            },
            "type": "choropleth"
           }
          ],
          "contour": [
           {
            "colorbar": {
             "outlinewidth": 0,
             "ticks": ""
            },
            "colorscale": [
             [
              0,
              "#0d0887"
             ],
             [
              0.1111111111111111,
              "#46039f"
             ],
             [
              0.2222222222222222,
              "#7201a8"
             ],
             [
              0.3333333333333333,
              "#9c179e"
             ],
             [
              0.4444444444444444,
              "#bd3786"
             ],
             [
              0.5555555555555556,
              "#d8576b"
             ],
             [
              0.6666666666666666,
              "#ed7953"
             ],
             [
              0.7777777777777778,
              "#fb9f3a"
             ],
             [
              0.8888888888888888,
              "#fdca26"
             ],
             [
              1,
              "#f0f921"
             ]
            ],
            "type": "contour"
           }
          ],
          "contourcarpet": [
           {
            "colorbar": {
             "outlinewidth": 0,
             "ticks": ""
            },
            "type": "contourcarpet"
           }
          ],
          "heatmap": [
           {
            "colorbar": {
             "outlinewidth": 0,
             "ticks": ""
            },
            "colorscale": [
             [
              0,
              "#0d0887"
             ],
             [
              0.1111111111111111,
              "#46039f"
             ],
             [
              0.2222222222222222,
              "#7201a8"
             ],
             [
              0.3333333333333333,
              "#9c179e"
             ],
             [
              0.4444444444444444,
              "#bd3786"
             ],
             [
              0.5555555555555556,
              "#d8576b"
             ],
             [
              0.6666666666666666,
              "#ed7953"
             ],
             [
              0.7777777777777778,
              "#fb9f3a"
             ],
             [
              0.8888888888888888,
              "#fdca26"
             ],
             [
              1,
              "#f0f921"
             ]
            ],
            "type": "heatmap"
           }
          ],
          "heatmapgl": [
           {
            "colorbar": {
             "outlinewidth": 0,
             "ticks": ""
            },
            "colorscale": [
             [
              0,
              "#0d0887"
             ],
             [
              0.1111111111111111,
              "#46039f"
             ],
             [
              0.2222222222222222,
              "#7201a8"
             ],
             [
              0.3333333333333333,
              "#9c179e"
             ],
             [
              0.4444444444444444,
              "#bd3786"
             ],
             [
              0.5555555555555556,
              "#d8576b"
             ],
             [
              0.6666666666666666,
              "#ed7953"
             ],
             [
              0.7777777777777778,
              "#fb9f3a"
             ],
             [
              0.8888888888888888,
              "#fdca26"
             ],
             [
              1,
              "#f0f921"
             ]
            ],
            "type": "heatmapgl"
           }
          ],
          "histogram": [
           {
            "marker": {
             "pattern": {
              "fillmode": "overlay",
              "size": 10,
              "solidity": 0.2
             }
            },
            "type": "histogram"
           }
          ],
          "histogram2d": [
           {
            "colorbar": {
             "outlinewidth": 0,
             "ticks": ""
            },
            "colorscale": [
             [
              0,
              "#0d0887"
             ],
             [
              0.1111111111111111,
              "#46039f"
             ],
             [
              0.2222222222222222,
              "#7201a8"
             ],
             [
              0.3333333333333333,
              "#9c179e"
             ],
             [
              0.4444444444444444,
              "#bd3786"
             ],
             [
              0.5555555555555556,
              "#d8576b"
             ],
             [
              0.6666666666666666,
              "#ed7953"
             ],
             [
              0.7777777777777778,
              "#fb9f3a"
             ],
             [
              0.8888888888888888,
              "#fdca26"
             ],
             [
              1,
              "#f0f921"
             ]
            ],
            "type": "histogram2d"
           }
          ],
          "histogram2dcontour": [
           {
            "colorbar": {
             "outlinewidth": 0,
             "ticks": ""
            },
            "colorscale": [
             [
              0,
              "#0d0887"
             ],
             [
              0.1111111111111111,
              "#46039f"
             ],
             [
              0.2222222222222222,
              "#7201a8"
             ],
             [
              0.3333333333333333,
              "#9c179e"
             ],
             [
              0.4444444444444444,
              "#bd3786"
             ],
             [
              0.5555555555555556,
              "#d8576b"
             ],
             [
              0.6666666666666666,
              "#ed7953"
             ],
             [
              0.7777777777777778,
              "#fb9f3a"
             ],
             [
              0.8888888888888888,
              "#fdca26"
             ],
             [
              1,
              "#f0f921"
             ]
            ],
            "type": "histogram2dcontour"
           }
          ],
          "mesh3d": [
           {
            "colorbar": {
             "outlinewidth": 0,
             "ticks": ""
            },
            "type": "mesh3d"
           }
          ],
          "parcoords": [
           {
            "line": {
             "colorbar": {
              "outlinewidth": 0,
              "ticks": ""
             }
            },
            "type": "parcoords"
           }
          ],
          "pie": [
           {
            "automargin": true,
            "type": "pie"
           }
          ],
          "scatter": [
           {
            "fillpattern": {
             "fillmode": "overlay",
             "size": 10,
             "solidity": 0.2
            },
            "type": "scatter"
           }
          ],
          "scatter3d": [
           {
            "line": {
             "colorbar": {
              "outlinewidth": 0,
              "ticks": ""
             }
            },
            "marker": {
             "colorbar": {
              "outlinewidth": 0,
              "ticks": ""
             }
            },
            "type": "scatter3d"
           }
          ],
          "scattercarpet": [
           {
            "marker": {
             "colorbar": {
              "outlinewidth": 0,
              "ticks": ""
             }
            },
            "type": "scattercarpet"
           }
          ],
          "scattergeo": [
           {
            "marker": {
             "colorbar": {
              "outlinewidth": 0,
              "ticks": ""
             }
            },
            "type": "scattergeo"
           }
          ],
          "scattergl": [
           {
            "marker": {
             "colorbar": {
              "outlinewidth": 0,
              "ticks": ""
             }
            },
            "type": "scattergl"
           }
          ],
          "scattermapbox": [
           {
            "marker": {
             "colorbar": {
              "outlinewidth": 0,
              "ticks": ""
             }
            },
            "type": "scattermapbox"
           }
          ],
          "scatterpolar": [
           {
            "marker": {
             "colorbar": {
              "outlinewidth": 0,
              "ticks": ""
             }
            },
            "type": "scatterpolar"
           }
          ],
          "scatterpolargl": [
           {
            "marker": {
             "colorbar": {
              "outlinewidth": 0,
              "ticks": ""
             }
            },
            "type": "scatterpolargl"
           }
          ],
          "scatterternary": [
           {
            "marker": {
             "colorbar": {
              "outlinewidth": 0,
              "ticks": ""
             }
            },
            "type": "scatterternary"
           }
          ],
          "surface": [
           {
            "colorbar": {
             "outlinewidth": 0,
             "ticks": ""
            },
            "colorscale": [
             [
              0,
              "#0d0887"
             ],
             [
              0.1111111111111111,
              "#46039f"
             ],
             [
              0.2222222222222222,
              "#7201a8"
             ],
             [
              0.3333333333333333,
              "#9c179e"
             ],
             [
              0.4444444444444444,
              "#bd3786"
             ],
             [
              0.5555555555555556,
              "#d8576b"
             ],
             [
              0.6666666666666666,
              "#ed7953"
             ],
             [
              0.7777777777777778,
              "#fb9f3a"
             ],
             [
              0.8888888888888888,
              "#fdca26"
             ],
             [
              1,
              "#f0f921"
             ]
            ],
            "type": "surface"
           }
          ],
          "table": [
           {
            "cells": {
             "fill": {
              "color": "#EBF0F8"
             },
             "line": {
              "color": "white"
             }
            },
            "header": {
             "fill": {
              "color": "#C8D4E3"
             },
             "line": {
              "color": "white"
             }
            },
            "type": "table"
           }
          ]
         },
         "layout": {
          "annotationdefaults": {
           "arrowcolor": "#2a3f5f",
           "arrowhead": 0,
           "arrowwidth": 1
          },
          "autotypenumbers": "strict",
          "coloraxis": {
           "colorbar": {
            "outlinewidth": 0,
            "ticks": ""
           }
          },
          "colorscale": {
           "diverging": [
            [
             0,
             "#8e0152"
            ],
            [
             0.1,
             "#c51b7d"
            ],
            [
             0.2,
             "#de77ae"
            ],
            [
             0.3,
             "#f1b6da"
            ],
            [
             0.4,
             "#fde0ef"
            ],
            [
             0.5,
             "#f7f7f7"
            ],
            [
             0.6,
             "#e6f5d0"
            ],
            [
             0.7,
             "#b8e186"
            ],
            [
             0.8,
             "#7fbc41"
            ],
            [
             0.9,
             "#4d9221"
            ],
            [
             1,
             "#276419"
            ]
           ],
           "sequential": [
            [
             0,
             "#0d0887"
            ],
            [
             0.1111111111111111,
             "#46039f"
            ],
            [
             0.2222222222222222,
             "#7201a8"
            ],
            [
             0.3333333333333333,
             "#9c179e"
            ],
            [
             0.4444444444444444,
             "#bd3786"
            ],
            [
             0.5555555555555556,
             "#d8576b"
            ],
            [
             0.6666666666666666,
             "#ed7953"
            ],
            [
             0.7777777777777778,
             "#fb9f3a"
            ],
            [
             0.8888888888888888,
             "#fdca26"
            ],
            [
             1,
             "#f0f921"
            ]
           ],
           "sequentialminus": [
            [
             0,
             "#0d0887"
            ],
            [
             0.1111111111111111,
             "#46039f"
            ],
            [
             0.2222222222222222,
             "#7201a8"
            ],
            [
             0.3333333333333333,
             "#9c179e"
            ],
            [
             0.4444444444444444,
             "#bd3786"
            ],
            [
             0.5555555555555556,
             "#d8576b"
            ],
            [
             0.6666666666666666,
             "#ed7953"
            ],
            [
             0.7777777777777778,
             "#fb9f3a"
            ],
            [
             0.8888888888888888,
             "#fdca26"
            ],
            [
             1,
             "#f0f921"
            ]
           ]
          },
          "colorway": [
           "#636efa",
           "#EF553B",
           "#00cc96",
           "#ab63fa",
           "#FFA15A",
           "#19d3f3",
           "#FF6692",
           "#B6E880",
           "#FF97FF",
           "#FECB52"
          ],
          "font": {
           "color": "#2a3f5f"
          },
          "geo": {
           "bgcolor": "white",
           "lakecolor": "white",
           "landcolor": "#E5ECF6",
           "showlakes": true,
           "showland": true,
           "subunitcolor": "white"
          },
          "hoverlabel": {
           "align": "left"
          },
          "hovermode": "closest",
          "mapbox": {
           "style": "light"
          },
          "paper_bgcolor": "white",
          "plot_bgcolor": "#E5ECF6",
          "polar": {
           "angularaxis": {
            "gridcolor": "white",
            "linecolor": "white",
            "ticks": ""
           },
           "bgcolor": "#E5ECF6",
           "radialaxis": {
            "gridcolor": "white",
            "linecolor": "white",
            "ticks": ""
           }
          },
          "scene": {
           "xaxis": {
            "backgroundcolor": "#E5ECF6",
            "gridcolor": "white",
            "gridwidth": 2,
            "linecolor": "white",
            "showbackground": true,
            "ticks": "",
            "zerolinecolor": "white"
           },
           "yaxis": {
            "backgroundcolor": "#E5ECF6",
            "gridcolor": "white",
            "gridwidth": 2,
            "linecolor": "white",
            "showbackground": true,
            "ticks": "",
            "zerolinecolor": "white"
           },
           "zaxis": {
            "backgroundcolor": "#E5ECF6",
            "gridcolor": "white",
            "gridwidth": 2,
            "linecolor": "white",
            "showbackground": true,
            "ticks": "",
            "zerolinecolor": "white"
           }
          },
          "shapedefaults": {
           "line": {
            "color": "#2a3f5f"
           }
          },
          "ternary": {
           "aaxis": {
            "gridcolor": "white",
            "linecolor": "white",
            "ticks": ""
           },
           "baxis": {
            "gridcolor": "white",
            "linecolor": "white",
            "ticks": ""
           },
           "bgcolor": "#E5ECF6",
           "caxis": {
            "gridcolor": "white",
            "linecolor": "white",
            "ticks": ""
           }
          },
          "title": {
           "x": 0.05
          },
          "xaxis": {
           "automargin": true,
           "gridcolor": "white",
           "linecolor": "white",
           "ticks": "",
           "title": {
            "standoff": 15
           },
           "zerolinecolor": "white",
           "zerolinewidth": 2
          },
          "yaxis": {
           "automargin": true,
           "gridcolor": "white",
           "linecolor": "white",
           "ticks": "",
           "title": {
            "standoff": 15
           },
           "zerolinecolor": "white",
           "zerolinewidth": 2
          }
         }
        },
        "title": {
         "text": "gt_pos_ratio",
         "x": 0.5
        },
        "yaxis": {
         "tickmode": "array",
         "tickvals": [
          "0.22",
          0.3,
          0.8
         ]
        }
       }
      }
     },
     "metadata": {},
     "output_type": "display_data"
    }
   ],
   "source": [
    "genVisMulitlabel(partEvalMetrics, \"gt_pos_ratio\")"
   ]
  },
  {
   "cell_type": "code",
   "execution_count": 32,
   "metadata": {},
   "outputs": [
    {
     "data": {
      "application/vnd.plotly.v1+json": {
       "config": {
        "plotlyServerURL": "https://plot.ly"
       },
       "data": [
        {
         "text": [
          0.8193,
          0.9483,
          0.2089,
          0.1296,
          0.0715,
          0.1069,
          0.2634,
          0.2173,
          0.8484,
          0.5827,
          0.2617,
          0.3238,
          0.358,
          0.3865,
          0.0809,
          0.4435,
          0.1641,
          0.0276,
          0.2872,
          0.1377,
          0.2096,
          0.2247,
          0.0511,
          0.1899
         ],
         "type": "bar",
         "x": [
          "vision_bumper_rear",
          "vision_misc",
          "vision_rear_compartment",
          "vision_rear_panel",
          "vision_tail_lamp_lh",
          "vision_tail_lamp_rh",
          "vision_non_external",
          "vision_bonnet",
          "vision_bumper_front",
          "vision_engine",
          "vision_front_panel",
          "vision_grille",
          "vision_headlamp_lh",
          "vision_headlamp_rh",
          "vision_windscreen_front",
          "vision_door_front_lh",
          "vision_door_rear_lh",
          "vision_rear_quarter_lh",
          "vision_wheel",
          "vision_fender_front_lh",
          "vision_door_front_rh",
          "vision_door_rear_rh",
          "vision_rear_quarter_rh",
          "vision_fender_front_rh"
         ],
         "y": [
          0.8193,
          0.9483,
          0.2089,
          0.1296,
          0.0715,
          0.1069,
          0.2634,
          0.2173,
          0.8484,
          0.5827,
          0.2617,
          0.3238,
          0.358,
          0.3865,
          0.0809,
          0.4435,
          0.1641,
          0.0276,
          0.2872,
          0.1377,
          0.2096,
          0.2247,
          0.0511,
          0.1899
         ]
        }
       ],
       "layout": {
        "shapes": [
         {
          "line": {
           "color": "red",
           "width": 2
          },
          "type": "line",
          "x0": 0,
          "x1": 1,
          "xref": "x domain",
          "y0": 0.30594166666666667,
          "y1": 0.30594166666666667,
          "yref": "y"
         }
        ],
        "template": {
         "data": {
          "bar": [
           {
            "error_x": {
             "color": "#2a3f5f"
            },
            "error_y": {
             "color": "#2a3f5f"
            },
            "marker": {
             "line": {
              "color": "#E5ECF6",
              "width": 0.5
             },
             "pattern": {
              "fillmode": "overlay",
              "size": 10,
              "solidity": 0.2
             }
            },
            "type": "bar"
           }
          ],
          "barpolar": [
           {
            "marker": {
             "line": {
              "color": "#E5ECF6",
              "width": 0.5
             },
             "pattern": {
              "fillmode": "overlay",
              "size": 10,
              "solidity": 0.2
             }
            },
            "type": "barpolar"
           }
          ],
          "carpet": [
           {
            "aaxis": {
             "endlinecolor": "#2a3f5f",
             "gridcolor": "white",
             "linecolor": "white",
             "minorgridcolor": "white",
             "startlinecolor": "#2a3f5f"
            },
            "baxis": {
             "endlinecolor": "#2a3f5f",
             "gridcolor": "white",
             "linecolor": "white",
             "minorgridcolor": "white",
             "startlinecolor": "#2a3f5f"
            },
            "type": "carpet"
           }
          ],
          "choropleth": [
           {
            "colorbar": {
             "outlinewidth": 0,
             "ticks": ""
            },
            "type": "choropleth"
           }
          ],
          "contour": [
           {
            "colorbar": {
             "outlinewidth": 0,
             "ticks": ""
            },
            "colorscale": [
             [
              0,
              "#0d0887"
             ],
             [
              0.1111111111111111,
              "#46039f"
             ],
             [
              0.2222222222222222,
              "#7201a8"
             ],
             [
              0.3333333333333333,
              "#9c179e"
             ],
             [
              0.4444444444444444,
              "#bd3786"
             ],
             [
              0.5555555555555556,
              "#d8576b"
             ],
             [
              0.6666666666666666,
              "#ed7953"
             ],
             [
              0.7777777777777778,
              "#fb9f3a"
             ],
             [
              0.8888888888888888,
              "#fdca26"
             ],
             [
              1,
              "#f0f921"
             ]
            ],
            "type": "contour"
           }
          ],
          "contourcarpet": [
           {
            "colorbar": {
             "outlinewidth": 0,
             "ticks": ""
            },
            "type": "contourcarpet"
           }
          ],
          "heatmap": [
           {
            "colorbar": {
             "outlinewidth": 0,
             "ticks": ""
            },
            "colorscale": [
             [
              0,
              "#0d0887"
             ],
             [
              0.1111111111111111,
              "#46039f"
             ],
             [
              0.2222222222222222,
              "#7201a8"
             ],
             [
              0.3333333333333333,
              "#9c179e"
             ],
             [
              0.4444444444444444,
              "#bd3786"
             ],
             [
              0.5555555555555556,
              "#d8576b"
             ],
             [
              0.6666666666666666,
              "#ed7953"
             ],
             [
              0.7777777777777778,
              "#fb9f3a"
             ],
             [
              0.8888888888888888,
              "#fdca26"
             ],
             [
              1,
              "#f0f921"
             ]
            ],
            "type": "heatmap"
           }
          ],
          "heatmapgl": [
           {
            "colorbar": {
             "outlinewidth": 0,
             "ticks": ""
            },
            "colorscale": [
             [
              0,
              "#0d0887"
             ],
             [
              0.1111111111111111,
              "#46039f"
             ],
             [
              0.2222222222222222,
              "#7201a8"
             ],
             [
              0.3333333333333333,
              "#9c179e"
             ],
             [
              0.4444444444444444,
              "#bd3786"
             ],
             [
              0.5555555555555556,
              "#d8576b"
             ],
             [
              0.6666666666666666,
              "#ed7953"
             ],
             [
              0.7777777777777778,
              "#fb9f3a"
             ],
             [
              0.8888888888888888,
              "#fdca26"
             ],
             [
              1,
              "#f0f921"
             ]
            ],
            "type": "heatmapgl"
           }
          ],
          "histogram": [
           {
            "marker": {
             "pattern": {
              "fillmode": "overlay",
              "size": 10,
              "solidity": 0.2
             }
            },
            "type": "histogram"
           }
          ],
          "histogram2d": [
           {
            "colorbar": {
             "outlinewidth": 0,
             "ticks": ""
            },
            "colorscale": [
             [
              0,
              "#0d0887"
             ],
             [
              0.1111111111111111,
              "#46039f"
             ],
             [
              0.2222222222222222,
              "#7201a8"
             ],
             [
              0.3333333333333333,
              "#9c179e"
             ],
             [
              0.4444444444444444,
              "#bd3786"
             ],
             [
              0.5555555555555556,
              "#d8576b"
             ],
             [
              0.6666666666666666,
              "#ed7953"
             ],
             [
              0.7777777777777778,
              "#fb9f3a"
             ],
             [
              0.8888888888888888,
              "#fdca26"
             ],
             [
              1,
              "#f0f921"
             ]
            ],
            "type": "histogram2d"
           }
          ],
          "histogram2dcontour": [
           {
            "colorbar": {
             "outlinewidth": 0,
             "ticks": ""
            },
            "colorscale": [
             [
              0,
              "#0d0887"
             ],
             [
              0.1111111111111111,
              "#46039f"
             ],
             [
              0.2222222222222222,
              "#7201a8"
             ],
             [
              0.3333333333333333,
              "#9c179e"
             ],
             [
              0.4444444444444444,
              "#bd3786"
             ],
             [
              0.5555555555555556,
              "#d8576b"
             ],
             [
              0.6666666666666666,
              "#ed7953"
             ],
             [
              0.7777777777777778,
              "#fb9f3a"
             ],
             [
              0.8888888888888888,
              "#fdca26"
             ],
             [
              1,
              "#f0f921"
             ]
            ],
            "type": "histogram2dcontour"
           }
          ],
          "mesh3d": [
           {
            "colorbar": {
             "outlinewidth": 0,
             "ticks": ""
            },
            "type": "mesh3d"
           }
          ],
          "parcoords": [
           {
            "line": {
             "colorbar": {
              "outlinewidth": 0,
              "ticks": ""
             }
            },
            "type": "parcoords"
           }
          ],
          "pie": [
           {
            "automargin": true,
            "type": "pie"
           }
          ],
          "scatter": [
           {
            "fillpattern": {
             "fillmode": "overlay",
             "size": 10,
             "solidity": 0.2
            },
            "type": "scatter"
           }
          ],
          "scatter3d": [
           {
            "line": {
             "colorbar": {
              "outlinewidth": 0,
              "ticks": ""
             }
            },
            "marker": {
             "colorbar": {
              "outlinewidth": 0,
              "ticks": ""
             }
            },
            "type": "scatter3d"
           }
          ],
          "scattercarpet": [
           {
            "marker": {
             "colorbar": {
              "outlinewidth": 0,
              "ticks": ""
             }
            },
            "type": "scattercarpet"
           }
          ],
          "scattergeo": [
           {
            "marker": {
             "colorbar": {
              "outlinewidth": 0,
              "ticks": ""
             }
            },
            "type": "scattergeo"
           }
          ],
          "scattergl": [
           {
            "marker": {
             "colorbar": {
              "outlinewidth": 0,
              "ticks": ""
             }
            },
            "type": "scattergl"
           }
          ],
          "scattermapbox": [
           {
            "marker": {
             "colorbar": {
              "outlinewidth": 0,
              "ticks": ""
             }
            },
            "type": "scattermapbox"
           }
          ],
          "scatterpolar": [
           {
            "marker": {
             "colorbar": {
              "outlinewidth": 0,
              "ticks": ""
             }
            },
            "type": "scatterpolar"
           }
          ],
          "scatterpolargl": [
           {
            "marker": {
             "colorbar": {
              "outlinewidth": 0,
              "ticks": ""
             }
            },
            "type": "scatterpolargl"
           }
          ],
          "scatterternary": [
           {
            "marker": {
             "colorbar": {
              "outlinewidth": 0,
              "ticks": ""
             }
            },
            "type": "scatterternary"
           }
          ],
          "surface": [
           {
            "colorbar": {
             "outlinewidth": 0,
             "ticks": ""
            },
            "colorscale": [
             [
              0,
              "#0d0887"
             ],
             [
              0.1111111111111111,
              "#46039f"
             ],
             [
              0.2222222222222222,
              "#7201a8"
             ],
             [
              0.3333333333333333,
              "#9c179e"
             ],
             [
              0.4444444444444444,
              "#bd3786"
             ],
             [
              0.5555555555555556,
              "#d8576b"
             ],
             [
              0.6666666666666666,
              "#ed7953"
             ],
             [
              0.7777777777777778,
              "#fb9f3a"
             ],
             [
              0.8888888888888888,
              "#fdca26"
             ],
             [
              1,
              "#f0f921"
             ]
            ],
            "type": "surface"
           }
          ],
          "table": [
           {
            "cells": {
             "fill": {
              "color": "#EBF0F8"
             },
             "line": {
              "color": "white"
             }
            },
            "header": {
             "fill": {
              "color": "#C8D4E3"
             },
             "line": {
              "color": "white"
             }
            },
            "type": "table"
           }
          ]
         },
         "layout": {
          "annotationdefaults": {
           "arrowcolor": "#2a3f5f",
           "arrowhead": 0,
           "arrowwidth": 1
          },
          "autotypenumbers": "strict",
          "coloraxis": {
           "colorbar": {
            "outlinewidth": 0,
            "ticks": ""
           }
          },
          "colorscale": {
           "diverging": [
            [
             0,
             "#8e0152"
            ],
            [
             0.1,
             "#c51b7d"
            ],
            [
             0.2,
             "#de77ae"
            ],
            [
             0.3,
             "#f1b6da"
            ],
            [
             0.4,
             "#fde0ef"
            ],
            [
             0.5,
             "#f7f7f7"
            ],
            [
             0.6,
             "#e6f5d0"
            ],
            [
             0.7,
             "#b8e186"
            ],
            [
             0.8,
             "#7fbc41"
            ],
            [
             0.9,
             "#4d9221"
            ],
            [
             1,
             "#276419"
            ]
           ],
           "sequential": [
            [
             0,
             "#0d0887"
            ],
            [
             0.1111111111111111,
             "#46039f"
            ],
            [
             0.2222222222222222,
             "#7201a8"
            ],
            [
             0.3333333333333333,
             "#9c179e"
            ],
            [
             0.4444444444444444,
             "#bd3786"
            ],
            [
             0.5555555555555556,
             "#d8576b"
            ],
            [
             0.6666666666666666,
             "#ed7953"
            ],
            [
             0.7777777777777778,
             "#fb9f3a"
            ],
            [
             0.8888888888888888,
             "#fdca26"
            ],
            [
             1,
             "#f0f921"
            ]
           ],
           "sequentialminus": [
            [
             0,
             "#0d0887"
            ],
            [
             0.1111111111111111,
             "#46039f"
            ],
            [
             0.2222222222222222,
             "#7201a8"
            ],
            [
             0.3333333333333333,
             "#9c179e"
            ],
            [
             0.4444444444444444,
             "#bd3786"
            ],
            [
             0.5555555555555556,
             "#d8576b"
            ],
            [
             0.6666666666666666,
             "#ed7953"
            ],
            [
             0.7777777777777778,
             "#fb9f3a"
            ],
            [
             0.8888888888888888,
             "#fdca26"
            ],
            [
             1,
             "#f0f921"
            ]
           ]
          },
          "colorway": [
           "#636efa",
           "#EF553B",
           "#00cc96",
           "#ab63fa",
           "#FFA15A",
           "#19d3f3",
           "#FF6692",
           "#B6E880",
           "#FF97FF",
           "#FECB52"
          ],
          "font": {
           "color": "#2a3f5f"
          },
          "geo": {
           "bgcolor": "white",
           "lakecolor": "white",
           "landcolor": "#E5ECF6",
           "showlakes": true,
           "showland": true,
           "subunitcolor": "white"
          },
          "hoverlabel": {
           "align": "left"
          },
          "hovermode": "closest",
          "mapbox": {
           "style": "light"
          },
          "paper_bgcolor": "white",
          "plot_bgcolor": "#E5ECF6",
          "polar": {
           "angularaxis": {
            "gridcolor": "white",
            "linecolor": "white",
            "ticks": ""
           },
           "bgcolor": "#E5ECF6",
           "radialaxis": {
            "gridcolor": "white",
            "linecolor": "white",
            "ticks": ""
           }
          },
          "scene": {
           "xaxis": {
            "backgroundcolor": "#E5ECF6",
            "gridcolor": "white",
            "gridwidth": 2,
            "linecolor": "white",
            "showbackground": true,
            "ticks": "",
            "zerolinecolor": "white"
           },
           "yaxis": {
            "backgroundcolor": "#E5ECF6",
            "gridcolor": "white",
            "gridwidth": 2,
            "linecolor": "white",
            "showbackground": true,
            "ticks": "",
            "zerolinecolor": "white"
           },
           "zaxis": {
            "backgroundcolor": "#E5ECF6",
            "gridcolor": "white",
            "gridwidth": 2,
            "linecolor": "white",
            "showbackground": true,
            "ticks": "",
            "zerolinecolor": "white"
           }
          },
          "shapedefaults": {
           "line": {
            "color": "#2a3f5f"
           }
          },
          "ternary": {
           "aaxis": {
            "gridcolor": "white",
            "linecolor": "white",
            "ticks": ""
           },
           "baxis": {
            "gridcolor": "white",
            "linecolor": "white",
            "ticks": ""
           },
           "bgcolor": "#E5ECF6",
           "caxis": {
            "gridcolor": "white",
            "linecolor": "white",
            "ticks": ""
           }
          },
          "title": {
           "x": 0.05
          },
          "xaxis": {
           "automargin": true,
           "gridcolor": "white",
           "linecolor": "white",
           "ticks": "",
           "title": {
            "standoff": 15
           },
           "zerolinecolor": "white",
           "zerolinewidth": 2
          },
          "yaxis": {
           "automargin": true,
           "gridcolor": "white",
           "linecolor": "white",
           "ticks": "",
           "title": {
            "standoff": 15
           },
           "zerolinecolor": "white",
           "zerolinewidth": 2
          }
         }
        },
        "title": {
         "text": "pred_pos_ratio",
         "x": 0.5
        },
        "yaxis": {
         "tickmode": "array",
         "tickvals": [
          "0.31",
          0.3,
          0.8
         ]
        }
       }
      }
     },
     "metadata": {},
     "output_type": "display_data"
    }
   ],
   "source": [
    "genVisMulitlabel(partEvalMetrics, \"pred_pos_ratio\")"
   ]
  },
  {
   "cell_type": "code",
   "execution_count": 33,
   "metadata": {},
   "outputs": [
    {
     "data": {
      "application/vnd.plotly.v1+json": {
       "config": {
        "plotlyServerURL": "https://plot.ly"
       },
       "data": [
        {
         "alignmentgroup": "True",
         "bingroup": "x",
         "hovertemplate": "subset_acc=%{x}<br>count=%{y}<extra></extra>",
         "legendgroup": "",
         "marker": {
          "color": "#636efa",
          "pattern": {
           "shape": ""
          }
         },
         "name": "",
         "offsetgroup": "",
         "orientation": "v",
         "showlegend": false,
         "type": "histogram",
         "x": [
          0.75,
          0.875,
          0.875,
          0.7083333333333334,
          0.6666666666666666,
          0.7083333333333334,
          0.75,
          0.625,
          0.6666666666666666,
          0.75,
          0.7916666666666666,
          0.7916666666666666,
          0.7916666666666666,
          0.7916666666666666,
          0.7916666666666666,
          0.9166666666666666,
          0.75,
          0.8333333333333334,
          0.9166666666666666,
          0.7083333333333334,
          0.875,
          0.6666666666666666,
          0.75,
          0.7083333333333334,
          0.8333333333333334,
          0.7916666666666666,
          0.7083333333333334,
          0.75,
          0.875,
          0.9166666666666666,
          0.5833333333333334,
          0.75,
          0.9166666666666666,
          0.7083333333333334,
          0.9166666666666666,
          0.8333333333333334,
          0.7083333333333334,
          0.6666666666666666,
          0.875,
          0.6666666666666666,
          0.625,
          0.8333333333333334,
          0.8333333333333334,
          0.75,
          0.8333333333333334,
          0.5416666666666666,
          0.9583333333333334,
          0.875,
          0.7916666666666666,
          0.7916666666666666,
          0.75,
          0.875,
          0.8333333333333334,
          0.7083333333333334,
          0.75,
          0.8333333333333334,
          0.8333333333333334,
          0.875,
          0.7916666666666666,
          0.8333333333333334,
          0.625,
          0.875,
          0.8333333333333334,
          0.6666666666666666,
          0.875,
          0.7083333333333334,
          0.8333333333333334,
          0.6666666666666666,
          0.75,
          0.8333333333333334,
          0.875,
          0.75,
          0.7916666666666666,
          0.625,
          0.875,
          0.6666666666666666,
          0.6666666666666666,
          0.8333333333333334,
          0.7083333333333334,
          0.875,
          0.7916666666666666,
          0.75,
          0.75,
          0.7916666666666666,
          0.75,
          0.7083333333333334,
          0.9166666666666666,
          0.8333333333333334,
          0.75,
          0.6666666666666666,
          0.8333333333333334,
          0.625,
          0.8333333333333334,
          0.7083333333333334,
          0.8333333333333334,
          0.875,
          0.6666666666666666,
          0.7916666666666666,
          0.9166666666666666,
          0.7916666666666666,
          0.875,
          0.7916666666666666,
          0.7916666666666666,
          0.8333333333333334,
          0.5833333333333334,
          0.9166666666666666,
          0.875,
          0.875,
          0.6666666666666666,
          0.9166666666666666,
          0.7083333333333334,
          0.7916666666666666,
          0.75,
          0.7916666666666666,
          0.9583333333333334,
          0.875,
          0.7916666666666666,
          0.625,
          0.625,
          0.75,
          0.75,
          0.625,
          0.8333333333333334,
          0.9166666666666666,
          0.75,
          0.7916666666666666,
          0.7916666666666666,
          0.9166666666666666,
          0.8333333333333334,
          0.9166666666666666,
          0.625,
          0.75,
          0.875,
          0.7916666666666666,
          0.7083333333333334,
          0.625,
          0.9166666666666666,
          0.875,
          0.875,
          0.75,
          0.9166666666666666,
          0.8333333333333334,
          0.6666666666666666,
          0.6666666666666666,
          0.8333333333333334,
          0.7083333333333334,
          0.7083333333333334,
          0.75,
          0.7916666666666666,
          0.7916666666666666,
          0.625,
          0.9583333333333334,
          0.7083333333333334,
          0.8333333333333334,
          0.75,
          0.7916666666666666,
          0.8333333333333334,
          1,
          0.8333333333333334,
          0.7916666666666666,
          0.7083333333333334,
          0.625,
          0.875,
          0.625,
          0.875,
          0.9583333333333334,
          0.875,
          0.7916666666666666,
          0.875,
          0.8333333333333334,
          0.6666666666666666,
          0.875,
          0.7083333333333334,
          0.7083333333333334,
          0.75,
          0.875,
          0.875,
          0.8333333333333334,
          0.7916666666666666,
          0.7083333333333334,
          0.8333333333333334,
          0.875,
          0.7916666666666666,
          0.7916666666666666,
          0.7916666666666666,
          0.8333333333333334,
          0.8333333333333334,
          0.75,
          0.8333333333333334,
          0.7916666666666666,
          0.9583333333333334,
          0.7916666666666666,
          0.8333333333333334,
          0.875,
          0.75,
          0.9166666666666666,
          0.625,
          0.7916666666666666,
          0.8333333333333334,
          0.5833333333333334,
          0.9166666666666666,
          0.875,
          0.7083333333333334,
          0.8333333333333334,
          0.8333333333333334,
          0.7083333333333334,
          0.7916666666666666,
          0.7083333333333334,
          0.8333333333333334,
          0.8333333333333334,
          0.7083333333333334,
          0.75,
          1,
          0.7916666666666666,
          0.875,
          0.625,
          0.9166666666666666,
          0.75,
          0.7916666666666666,
          0.9166666666666666,
          0.75,
          0.8333333333333334,
          0.7916666666666666,
          0.875,
          0.8333333333333334,
          0.8333333333333334,
          0.7083333333333334,
          1,
          0.7916666666666666,
          0.75,
          0.8333333333333334,
          0.9166666666666666,
          0.875,
          0.875,
          0.8333333333333334,
          0.6666666666666666,
          0.9583333333333334,
          0.9166666666666666,
          0.7916666666666666,
          0.8333333333333334,
          0.9166666666666666,
          0.875,
          0.8333333333333334,
          0.75,
          0.7916666666666666,
          0.8333333333333334,
          0.8333333333333334,
          0.5,
          0.75,
          0.8333333333333334,
          0.75,
          0.7916666666666666,
          0.75,
          0.875,
          0.75,
          0.75,
          0.875,
          0.7083333333333334,
          0.8333333333333334,
          0.875,
          0.7083333333333334,
          0.75,
          0.5833333333333334,
          0.75,
          0.6666666666666666,
          0.875,
          0.8333333333333334,
          0.75,
          0.625,
          0.875,
          0.8333333333333334,
          0.875,
          0.75,
          0.7916666666666666,
          0.6666666666666666,
          0.6666666666666666,
          0.75,
          0.6666666666666666,
          0.7916666666666666,
          0.75,
          0.6666666666666666,
          0.9166666666666666,
          0.7083333333333334,
          0.9166666666666666,
          0.9166666666666666,
          0.7083333333333334,
          0.8333333333333334,
          0.875,
          0.9166666666666666,
          0.875,
          0.75,
          0.75,
          0.4583333333333333,
          0.875,
          0.75,
          0.6666666666666666,
          0.8333333333333334,
          0.9166666666666666,
          0.7916666666666666,
          0.625,
          0.75,
          0.875,
          0.9166666666666666,
          0.875,
          0.75,
          0.7916666666666666,
          0.7083333333333334,
          0.8333333333333334,
          0.8333333333333334,
          0.75,
          0.75,
          0.8333333333333334,
          0.75,
          0.875,
          0.9166666666666666,
          0.7916666666666666,
          0.9166666666666666,
          0.875,
          0.7916666666666666,
          0.75,
          0.75,
          0.75,
          0.9583333333333334,
          0.75,
          0.7916666666666666,
          0.7916666666666666,
          0.7916666666666666,
          0.7916666666666666,
          0.7083333333333334,
          0.7916666666666666,
          0.9166666666666666,
          0.75,
          0.75,
          0.7916666666666666,
          0.875,
          0.7916666666666666,
          0.7916666666666666,
          0.75,
          0.8333333333333334,
          0.75,
          0.875,
          0.4583333333333333,
          0.7083333333333334,
          0.75,
          0.75,
          0.8333333333333334,
          0.875,
          0.7916666666666666,
          0.7916666666666666,
          0.75,
          0.6666666666666666,
          0.7916666666666666,
          0.8333333333333334,
          0.8333333333333334,
          0.75,
          0.75,
          0.7083333333333334,
          0.8333333333333334,
          0.7916666666666666,
          0.7083333333333334,
          0.8333333333333334,
          0.6666666666666666,
          0.7916666666666666,
          0.7083333333333334,
          0.8333333333333334,
          0.8333333333333334,
          0.7083333333333334,
          0.8333333333333334,
          0.9166666666666666,
          0.7083333333333334,
          0.9166666666666666,
          0.7083333333333334,
          0.6666666666666666,
          0.6666666666666666,
          0.7083333333333334,
          0.9166666666666666,
          0.7916666666666666,
          0.6666666666666666,
          0.875,
          0.7083333333333334,
          0.875,
          0.8333333333333334,
          0.7083333333333334,
          0.9166666666666666,
          0.7083333333333334,
          0.7083333333333334,
          0.625,
          0.9166666666666666,
          0.9583333333333334,
          0.875,
          0.875,
          0.875,
          0.7916666666666666,
          0.75,
          0.75,
          0.8333333333333334,
          0.7916666666666666,
          0.75,
          0.8333333333333334,
          0.7083333333333334,
          0.8333333333333334,
          0.7916666666666666,
          0.6666666666666666,
          0.75,
          0.7083333333333334,
          0.875,
          0.9166666666666666,
          0.9583333333333334,
          0.8333333333333334,
          0.875,
          0.8333333333333334,
          0.7083333333333334,
          0.75,
          0.875,
          0.875,
          0.7083333333333334,
          0.75,
          0.7916666666666666,
          0.625,
          0.7083333333333334,
          0.6666666666666666,
          0.8333333333333334,
          0.7916666666666666,
          0.6666666666666666,
          0.75,
          0.6666666666666666,
          0.7083333333333334,
          0.875,
          0.7083333333333334,
          0.9583333333333334,
          0.75,
          0.875,
          0.7916666666666666,
          0.9166666666666666,
          0.8333333333333334,
          0.8333333333333334,
          0.875,
          0.7916666666666666,
          0.875,
          0.8333333333333334,
          0.7083333333333334,
          0.875,
          0.7916666666666666,
          0.7916666666666666,
          0.7916666666666666,
          0.625,
          0.7916666666666666,
          0.7916666666666666,
          0.6666666666666666,
          0.875,
          0.75,
          0.7083333333333334,
          0.7916666666666666,
          0.875,
          0.8333333333333334,
          0.75,
          0.5833333333333334,
          0.75,
          0.75,
          0.7916666666666666,
          0.625,
          0.875,
          0.625,
          0.625,
          0.7916666666666666,
          0.5833333333333334,
          0.9166666666666666,
          0.75,
          0.9166666666666666,
          0.6666666666666666,
          0.7083333333333334,
          0.875,
          0.9166666666666666,
          0.6666666666666666,
          0.75,
          0.8333333333333334,
          0.875,
          0.7083333333333334,
          0.6666666666666666,
          0.875,
          0.75,
          0.75,
          0.75,
          0.8333333333333334,
          0.7916666666666666,
          0.9583333333333334,
          0.7916666666666666,
          0.7916666666666666,
          0.75,
          0.6666666666666666,
          0.7916666666666666,
          0.8333333333333334,
          0.875,
          0.75,
          0.7083333333333334,
          0.5416666666666666,
          0.7916666666666666,
          0.8333333333333334,
          0.8333333333333334,
          0.6666666666666666,
          0.6666666666666666,
          0.6666666666666666,
          0.75,
          0.6666666666666666,
          0.875,
          0.875,
          0.9583333333333334,
          0.7916666666666666,
          0.75,
          0.8333333333333334,
          0.8333333333333334,
          0.625,
          0.875,
          0.7083333333333334,
          0.7083333333333334,
          0.8333333333333334,
          0.9166666666666666,
          0.7916666666666666,
          0.9166666666666666,
          0.625,
          0.6666666666666666,
          0.75,
          0.7916666666666666,
          0.75,
          0.7083333333333334,
          0.7916666666666666,
          0.8333333333333334,
          0.7916666666666666,
          0.8333333333333334,
          0.7916666666666666,
          0.875,
          0.75,
          0.6666666666666666,
          0.7083333333333334,
          0.8333333333333334,
          0.75,
          0.75,
          0.5833333333333334,
          0.875,
          0.7083333333333334,
          0.875,
          0.75,
          0.8333333333333334,
          0.9166666666666666,
          0.7083333333333334,
          0.8333333333333334,
          0.8333333333333334,
          0.7916666666666666,
          0.8333333333333334,
          0.9166666666666666,
          0.4583333333333333,
          0.9166666666666666,
          0.625,
          0.7083333333333334,
          0.9166666666666666,
          0.8333333333333334,
          0.75,
          0.7083333333333334,
          0.875,
          0.875,
          0.875,
          0.8333333333333334,
          0.7916666666666666,
          0.5833333333333334,
          0.8333333333333334,
          0.8333333333333334,
          0.875,
          0.7916666666666666,
          0.75,
          0.875,
          0.7916666666666666,
          0.7916666666666666,
          0.9166666666666666,
          0.625,
          0.75,
          0.9166666666666666,
          0.8333333333333334,
          0.8333333333333334,
          0.7083333333333334,
          0.625,
          0.7916666666666666,
          0.8333333333333334,
          0.7083333333333334,
          0.6666666666666666,
          0.8333333333333334,
          0.75,
          0.7083333333333334,
          0.5416666666666666,
          0.6666666666666666,
          0.875,
          0.875,
          0.7916666666666666,
          0.9166666666666666,
          0.75,
          0.75,
          0.7083333333333334,
          0.875,
          0.875,
          0.7916666666666666,
          0.6666666666666666,
          0.7916666666666666,
          0.8333333333333334,
          0.8333333333333334,
          0.7916666666666666,
          0.8333333333333334,
          0.8333333333333334,
          0.8333333333333334,
          0.6666666666666666,
          0.6666666666666666,
          0.75,
          0.9166666666666666,
          0.8333333333333334,
          0.7083333333333334,
          0.8333333333333334,
          0.8333333333333334,
          0.625,
          0.875,
          0.6666666666666666,
          0.8333333333333334,
          0.875,
          0.7083333333333334,
          0.5833333333333334,
          0.8333333333333334,
          0.875,
          0.7916666666666666,
          0.7916666666666666,
          0.9166666666666666,
          0.75,
          0.7083333333333334,
          0.7916666666666666,
          0.7916666666666666,
          0.7083333333333334,
          0.9166666666666666,
          0.7083333333333334,
          0.8333333333333334,
          0.8333333333333334,
          0.6666666666666666,
          0.75,
          0.875,
          0.7083333333333334,
          0.7916666666666666,
          0.8333333333333334,
          0.9166666666666666,
          0.75,
          0.7916666666666666,
          0.6666666666666666,
          0.8333333333333334,
          0.75,
          0.8333333333333334,
          0.75,
          0.9166666666666666,
          0.875,
          0.7916666666666666,
          0.6666666666666666,
          0.875,
          0.8333333333333334,
          0.7083333333333334,
          0.9583333333333334,
          0.75,
          0.8333333333333334,
          0.7083333333333334,
          0.8333333333333334,
          0.625,
          0.8333333333333334,
          0.7083333333333334,
          0.875,
          0.75,
          0.7916666666666666,
          0.7916666666666666,
          0.7916666666666666,
          0.6666666666666666,
          0.7083333333333334,
          0.7916666666666666,
          0.875,
          0.7916666666666666,
          0.7916666666666666,
          0.8333333333333334,
          0.9166666666666666,
          0.7916666666666666,
          0.8333333333333334,
          0.7083333333333334,
          0.8333333333333334,
          0.7916666666666666,
          0.75,
          0.75,
          0.5,
          0.75,
          0.625,
          0.6666666666666666,
          0.6666666666666666,
          0.7916666666666666,
          0.75,
          0.8333333333333334,
          0.875,
          0.8333333333333334,
          0.875,
          0.875,
          0.7916666666666666,
          0.9166666666666666,
          0.7916666666666666,
          0.7916666666666666,
          0.7916666666666666,
          0.7916666666666666,
          0.9166666666666666,
          0.8333333333333334,
          0.9583333333333334,
          0.625,
          0.9583333333333334,
          0.75,
          0.5833333333333334,
          0.7083333333333334,
          0.7083333333333334,
          0.625,
          0.7083333333333334,
          0.7083333333333334,
          0.9166666666666666,
          0.7083333333333334,
          0.75,
          0.875,
          0.7916666666666666,
          0.7916666666666666,
          0.75,
          0.5,
          0.7083333333333334,
          0.6666666666666666,
          0.8333333333333334,
          0.6666666666666666,
          0.7916666666666666,
          0.7916666666666666,
          0.8333333333333334,
          0.7916666666666666,
          0.7083333333333334,
          0.5833333333333334,
          0.7916666666666666,
          0.7916666666666666,
          0.9583333333333334,
          0.875,
          0.75,
          0.75,
          0.875,
          0.875,
          0.75,
          0.8333333333333334,
          0.875,
          0.75,
          0.75,
          0.8333333333333334,
          0.7916666666666666,
          0.8333333333333334,
          0.7916666666666666,
          0.625,
          0.8333333333333334,
          0.9583333333333334,
          0.9166666666666666,
          0.5416666666666666,
          0.7916666666666666,
          0.75,
          0.7916666666666666,
          0.7083333333333334,
          0.875,
          0.875,
          0.625,
          0.75,
          0.9583333333333334,
          0.75,
          0.8333333333333334,
          0.75,
          0.7916666666666666,
          0.8333333333333334,
          0.8333333333333334,
          0.7083333333333334,
          0.75,
          0.8333333333333334,
          0.7916666666666666,
          0.875,
          0.7916666666666666,
          0.7083333333333334,
          0.75,
          0.8333333333333334,
          0.7083333333333334,
          0.8333333333333334,
          0.9583333333333334,
          0.8333333333333334,
          0.5833333333333334,
          0.8333333333333334,
          0.625,
          0.875,
          0.75,
          0.625,
          0.75,
          0.6666666666666666,
          0.5833333333333334,
          0.8333333333333334,
          0.875,
          0.875,
          0.8333333333333334,
          0.7083333333333334,
          0.7916666666666666,
          0.7083333333333334,
          0.625,
          0.8333333333333334,
          0.6666666666666666,
          0.6666666666666666,
          0.75,
          0.5833333333333334,
          0.875,
          0.75,
          0.75,
          0.75,
          0.9166666666666666,
          0.7916666666666666,
          0.625,
          0.8333333333333334,
          0.7083333333333334,
          0.7916666666666666,
          0.625,
          0.9166666666666666,
          0.7083333333333334,
          0.8333333333333334,
          0.875,
          0.7916666666666666,
          0.75,
          0.5833333333333334,
          0.875,
          0.875,
          0.6666666666666666,
          0.875,
          0.8333333333333334,
          0.8333333333333334,
          0.8333333333333334,
          0.9166666666666666,
          0.7916666666666666,
          0.75,
          0.75,
          0.75,
          0.875,
          0.625,
          0.5416666666666666,
          0.875,
          0.9166666666666666,
          0.8333333333333334,
          1,
          0.875,
          0.875,
          0.9583333333333334,
          0.9583333333333334,
          0.75,
          0.8333333333333334,
          0.875,
          0.875,
          0.9583333333333334,
          0.75,
          0.875,
          0.8333333333333334,
          0.8333333333333334,
          0.875,
          0.9166666666666666,
          0.5416666666666666,
          0.9166666666666666,
          0.5833333333333334,
          0.7916666666666666,
          0.9583333333333334,
          0.7916666666666666,
          0.7916666666666666,
          0.625,
          0.9166666666666666,
          0.6666666666666666,
          0.875,
          0.8333333333333334,
          0.9166666666666666,
          0.7083333333333334,
          0.9166666666666666,
          0.8333333333333334,
          0.875,
          0.9583333333333334,
          0.875,
          0.7916666666666666,
          0.6666666666666666,
          0.7916666666666666,
          0.8333333333333334,
          0.625,
          0.875,
          0.8333333333333334,
          0.875,
          0.9166666666666666,
          0.8333333333333334,
          0.9166666666666666,
          0.9583333333333334,
          0.7916666666666666,
          0.8333333333333334,
          0.9166666666666666,
          0.9166666666666666,
          0.5,
          0.8333333333333334,
          0.875,
          0.875,
          0.7916666666666666,
          0.8333333333333334,
          0.9166666666666666,
          0.7083333333333334,
          0.8333333333333334,
          0.875,
          0.875,
          0.5833333333333334,
          0.625,
          1,
          0.625,
          0.9583333333333334,
          0.6666666666666666,
          0.7916666666666666,
          0.875,
          0.9583333333333334,
          0.9583333333333334,
          0.875,
          0.9583333333333334,
          0.75,
          0.9583333333333334,
          0.8333333333333334,
          0.7916666666666666,
          0.875,
          0.7083333333333334,
          0.7916666666666666,
          1,
          0.875,
          0.7083333333333334,
          0.7916666666666666,
          0.7916666666666666,
          0.9166666666666666,
          0.7916666666666666,
          1,
          0.875,
          0.75,
          0.875,
          0.75,
          0.9583333333333334,
          0.7916666666666666,
          0.7916666666666666,
          0.7916666666666666,
          0.9583333333333334,
          0.8333333333333334,
          0.9583333333333334,
          0.7083333333333334,
          1,
          0.9166666666666666,
          0.8333333333333334,
          0.9166666666666666,
          0.75,
          0.9583333333333334,
          0.875,
          0.9583333333333334,
          0.875,
          0.8333333333333334,
          0.6666666666666666,
          0.7916666666666666,
          0.6666666666666666,
          0.9166666666666666,
          0.9166666666666666,
          0.7916666666666666,
          0.8333333333333334,
          0.9583333333333334,
          0.6666666666666666,
          0.7083333333333334,
          0.75,
          0.9583333333333334,
          0.8333333333333334,
          0.875,
          0.7916666666666666,
          0.8333333333333334,
          0.7083333333333334,
          0.875,
          0.8333333333333334,
          0.9166666666666666,
          0.875,
          0.8333333333333334,
          0.9166666666666666,
          0.9583333333333334,
          0.9166666666666666,
          0.9166666666666666,
          0.8333333333333334,
          0.9583333333333334,
          0.8333333333333334,
          0.7083333333333334,
          0.7916666666666666,
          0.625,
          0.8333333333333334,
          0.9166666666666666,
          0.875,
          0.8333333333333334,
          0.875,
          0.8333333333333334,
          0.7916666666666666,
          0.625,
          0.7916666666666666,
          0.7916666666666666,
          0.9583333333333334,
          0.7083333333333334,
          0.7916666666666666,
          0.9166666666666666,
          0.875,
          0.7916666666666666,
          0.7916666666666666,
          0.875,
          0.75,
          0.7916666666666666,
          0.7916666666666666,
          0.7083333333333334,
          0.7083333333333334,
          0.7916666666666666,
          0.5833333333333334,
          0.6666666666666666,
          0.75,
          0.875,
          0.8333333333333334,
          0.8333333333333334,
          0.75,
          0.7916666666666666,
          0.75,
          0.875,
          0.7083333333333334,
          0.9166666666666666,
          0.9583333333333334,
          0.75,
          0.8333333333333334,
          0.9166666666666666,
          0.75,
          0.75,
          0.7916666666666666,
          0.7083333333333334,
          0.7083333333333334,
          0.875,
          0.9166666666666666,
          0.875,
          0.6666666666666666,
          0.875,
          0.5833333333333334,
          0.7916666666666666,
          0.8333333333333334,
          0.8333333333333334,
          0.7916666666666666,
          0.875,
          0.8333333333333334,
          0.6666666666666666,
          0.625,
          0.7083333333333334,
          0.8333333333333334,
          0.7916666666666666,
          0.8333333333333334,
          0.9583333333333334,
          0.8333333333333334,
          0.75,
          0.875,
          0.7916666666666666,
          0.875,
          0.875,
          0.75,
          0.8333333333333334,
          0.9583333333333334,
          0.7916666666666666,
          0.8333333333333334,
          1,
          0.75,
          0.875,
          0.7916666666666666,
          0.7916666666666666,
          0.8333333333333334,
          0.875,
          0.4583333333333333,
          0.9166666666666666,
          0.9166666666666666,
          0.7916666666666666,
          0.3333333333333333,
          0.9166666666666666,
          0.4166666666666667,
          0.9166666666666666,
          0.4166666666666667,
          0.8333333333333334,
          0.8333333333333334,
          0.9166666666666666,
          0.9583333333333334,
          1,
          0.9166666666666666,
          0.9166666666666666,
          0.9166666666666666,
          0.5833333333333334,
          0.875,
          0.7916666666666666,
          0.9583333333333334,
          0.875,
          0.7916666666666666,
          0.875,
          0.75,
          0.7916666666666666,
          0.8333333333333334,
          0.7916666666666666,
          0.9583333333333334,
          0.875,
          0.9583333333333334,
          0.9166666666666666,
          0.7083333333333334,
          0.7916666666666666,
          0.5416666666666666,
          0.6666666666666666,
          0.8333333333333334,
          0.75,
          0.875,
          0.7083333333333334,
          0.875,
          1,
          0.9583333333333334,
          0.7916666666666666,
          0.5416666666666666,
          0.9166666666666666,
          0.7916666666666666,
          0.9166666666666666,
          0.875,
          0.875,
          0.9166666666666666,
          0.875,
          0.7083333333333334,
          0.8333333333333334,
          0.875,
          0.875,
          0.7916666666666666,
          1,
          0.8333333333333334,
          0.75,
          0.8333333333333334,
          0.8333333333333334,
          0.75,
          0.9166666666666666,
          0.875,
          0.875,
          0.875,
          0.9166666666666666,
          0.8333333333333334,
          0.9583333333333334,
          0.8333333333333334,
          0.9166666666666666,
          1,
          0.9166666666666666,
          0.7916666666666666,
          0.875,
          0.8333333333333334,
          0.75,
          0.7916666666666666,
          1,
          0.7916666666666666,
          0.875,
          0.8333333333333334,
          0.8333333333333334,
          0.875,
          0.875,
          0.75,
          0.8333333333333334,
          0.7083333333333334,
          0.9166666666666666,
          0.625,
          0.9166666666666666,
          0.8333333333333334,
          0.875,
          0.6666666666666666,
          0.875,
          0.9166666666666666,
          0.875,
          0.875,
          0.5833333333333334,
          0.75,
          0.7916666666666666,
          0.9166666666666666,
          0.9166666666666666,
          0.7916666666666666,
          0.875,
          0.875,
          0.625,
          0.875,
          0.875,
          0.9166666666666666,
          0.8333333333333334,
          0.75,
          0.7916666666666666,
          0.875,
          0.75,
          0.75,
          0.75,
          0.875,
          0.6666666666666666,
          0.7916666666666666,
          0.875,
          0.875,
          0.75,
          0.9166666666666666,
          0.875,
          0.75,
          0.875,
          0.5833333333333334,
          0.9583333333333334,
          0.75,
          0.8333333333333334,
          0.8333333333333334,
          0.7083333333333334,
          0.8333333333333334,
          0.9166666666666666,
          0.8333333333333334,
          1,
          0.9166666666666666,
          0.7083333333333334,
          0.7083333333333334,
          1,
          0.7916666666666666,
          0.875,
          0.8333333333333334,
          0.6666666666666666,
          0.7916666666666666,
          0.7083333333333334,
          0.75,
          0.9166666666666666,
          0.75,
          0.9166666666666666,
          0.875,
          0.75,
          0.75,
          0.875,
          0.9166666666666666,
          0.9583333333333334,
          0.7083333333333334,
          0.9166666666666666,
          0.5833333333333334,
          0.9583333333333334,
          0.7916666666666666,
          0.875,
          0.8333333333333334,
          0.75,
          0.8333333333333334,
          0.9166666666666666,
          0.8333333333333334,
          0.9583333333333334,
          0.875,
          0.875,
          0.75,
          0.7916666666666666,
          0.7916666666666666,
          0.875,
          0.8333333333333334,
          0.875,
          0.875,
          0.8333333333333334,
          0.9166666666666666,
          0.875,
          0.7916666666666666,
          0.8333333333333334,
          0.9166666666666666,
          0.9166666666666666,
          0.9166666666666666,
          0.7916666666666666,
          0.8333333333333334,
          0.8333333333333334,
          0.8333333333333334,
          0.9583333333333334,
          0.9166666666666666,
          0.9166666666666666,
          0.9166666666666666,
          0.875,
          0.7083333333333334,
          0.7083333333333334,
          0.7916666666666666,
          0.9166666666666666,
          0.9166666666666666,
          0.8333333333333334,
          0.8333333333333334,
          0.6666666666666666,
          1,
          0.7916666666666666,
          0.875,
          0.9583333333333334,
          0.875,
          0.6666666666666666,
          0.8333333333333334,
          0.7916666666666666,
          0.7916666666666666,
          0.9166666666666666,
          0.75,
          0.7916666666666666,
          0.875,
          0.75,
          0.875,
          0.9166666666666666,
          0.75,
          0.875,
          0.75,
          0.7916666666666666,
          0.75,
          0.75,
          0.6666666666666666,
          0.875,
          0.9583333333333334,
          0.9583333333333334,
          0.5,
          0.9166666666666666,
          0.9583333333333334,
          0.8333333333333334,
          0.75,
          0.9166666666666666,
          0.75,
          0.7916666666666666,
          0.9166666666666666,
          0.5,
          0.875,
          0.9583333333333334,
          0.9583333333333334,
          0.875,
          0.8333333333333334,
          0.9583333333333334,
          0.8333333333333334,
          0.75,
          0.6666666666666666,
          0.7083333333333334,
          0.75,
          0.9166666666666666,
          0.8333333333333334,
          0.5833333333333334,
          0.7083333333333334,
          0.6666666666666666,
          0.875,
          0.875,
          0.7916666666666666,
          0.875,
          0.7916666666666666,
          0.625,
          0.7916666666666666,
          0.6666666666666666,
          0.8333333333333334,
          0.875,
          0.875,
          0.7916666666666666,
          0.6666666666666666,
          0.625,
          0.9583333333333334,
          0.7083333333333334,
          0.6666666666666666,
          0.7916666666666666,
          0.7083333333333334,
          0.875,
          0.8333333333333334,
          0.8333333333333334,
          0.8333333333333334,
          0.75,
          0.9166666666666666,
          0.75,
          0.75,
          0.8333333333333334,
          0.9166666666666666,
          0.7916666666666666,
          0.7916666666666666,
          0.8333333333333334,
          0.7083333333333334,
          0.75,
          0.6666666666666666,
          0.9166666666666666,
          0.7083333333333334,
          0.7083333333333334,
          0.7916666666666666,
          0.875,
          0.7916666666666666,
          0.875,
          0.9583333333333334,
          0.8333333333333334,
          0.7083333333333334,
          0.7916666666666666,
          0.75,
          0.75,
          0.9583333333333334,
          0.6666666666666666,
          0.6666666666666666,
          0.875,
          0.75,
          0.6666666666666666,
          0.875,
          0.8333333333333334,
          0.8333333333333334,
          0.75,
          0.875,
          0.7916666666666666,
          0.8333333333333334,
          0.7083333333333334,
          0.7083333333333334,
          0.75,
          0.5833333333333334,
          0.7083333333333334,
          0.7083333333333334,
          0.875,
          0.7083333333333334,
          0.625,
          0.8333333333333334,
          0.7916666666666666,
          0.875,
          0.75,
          0.6666666666666666,
          0.875,
          0.7916666666666666,
          0.75,
          0.7916666666666666,
          0.7916666666666666,
          0.6666666666666666,
          0.8333333333333334,
          1,
          0.875,
          0.75,
          0.8333333333333334,
          0.5833333333333334,
          0.7916666666666666,
          0.7916666666666666,
          0.8333333333333334,
          0.75,
          0.7916666666666666,
          0.7083333333333334,
          0.8333333333333334,
          0.75,
          0.75,
          0.875,
          0.6666666666666666,
          0.625,
          0.5833333333333334,
          0.75,
          0.7916666666666666,
          0.7083333333333334,
          0.7083333333333334,
          0.9166666666666666,
          0.7916666666666666,
          0.7916666666666666,
          0.625,
          0.9166666666666666,
          0.9583333333333334,
          0.75,
          0.7083333333333334,
          0.875,
          0.7916666666666666,
          0.75,
          0.875,
          0.7916666666666666,
          0.9166666666666666,
          0.9166666666666666,
          0.75,
          0.75,
          0.7916666666666666,
          0.5833333333333334,
          0.8333333333333334,
          0.9166666666666666,
          0.9166666666666666,
          0.8333333333333334,
          0.75,
          0.7083333333333334,
          0.625,
          0.7916666666666666,
          0.7083333333333334,
          0.875,
          0.8333333333333334,
          0.7916666666666666,
          0.5833333333333334,
          0.8333333333333334,
          0.8333333333333334,
          0.75,
          0.5416666666666666,
          0.875,
          0.9166666666666666,
          0.8333333333333334,
          0.5416666666666666,
          0.5416666666666666,
          0.5833333333333334,
          0.8333333333333334,
          0.5416666666666666,
          0.7916666666666666,
          0.875,
          0.6666666666666666,
          0.7916666666666666,
          0.9166666666666666,
          0.7083333333333334,
          0.875,
          0.75,
          0.9166666666666666,
          0.5833333333333334,
          0.6666666666666666,
          0.9166666666666666,
          0.7916666666666666,
          0.9166666666666666,
          0.9583333333333334,
          0.7083333333333334,
          0.875,
          0.875,
          0.75,
          0.6666666666666666,
          0.875,
          0.875,
          0.7916666666666666,
          0.75,
          0.6666666666666666,
          0.75,
          0.6666666666666666,
          0.8333333333333334,
          0.7916666666666666,
          0.7916666666666666,
          0.7083333333333334,
          0.8333333333333334,
          0.75,
          0.7916666666666666,
          0.8333333333333334,
          0.8333333333333334,
          0.75,
          0.7916666666666666,
          0.9583333333333334,
          0.7916666666666666,
          0.7916666666666666,
          0.6666666666666666,
          0.9166666666666666,
          0.9583333333333334,
          0.75,
          0.7916666666666666,
          0.8333333333333334,
          0.7916666666666666,
          0.9583333333333334,
          0.7083333333333334,
          0.7916666666666666,
          0.875,
          0.8333333333333334,
          0.7083333333333334,
          0.8333333333333334,
          0.75,
          0.875,
          0.7916666666666666,
          0.7916666666666666,
          0.875,
          0.875,
          0.75,
          0.9166666666666666,
          0.875,
          0.8333333333333334,
          0.9583333333333334,
          0.75,
          0.9166666666666666,
          0.8333333333333334,
          0.8333333333333334,
          0.9583333333333334,
          0.75,
          0.625,
          0.875,
          0.8333333333333334,
          0.75,
          0.9166666666666666,
          0.875,
          0.7916666666666666,
          0.8333333333333334,
          0.8333333333333334,
          0.7916666666666666,
          0.6666666666666666,
          0.7916666666666666,
          0.7083333333333334,
          0.75,
          0.7916666666666666,
          0.75,
          0.9166666666666666,
          0.7916666666666666,
          0.9583333333333334,
          0.75,
          0.8333333333333334,
          0.7916666666666666,
          0.5,
          0.9583333333333334,
          0.875,
          0.7083333333333334,
          0.875,
          0.7916666666666666,
          0.4583333333333333,
          0.8333333333333334,
          0.7916666666666666,
          0.75,
          0.8333333333333334,
          0.75,
          0.75,
          0.8333333333333334,
          0.875,
          0.6666666666666666,
          0.9166666666666666,
          0.625,
          0.6666666666666666,
          0.9166666666666666,
          0.9166666666666666,
          0.7916666666666666,
          0.875,
          0.8333333333333334,
          0.8333333333333334,
          1,
          0.75,
          0.9583333333333334,
          0.75,
          1,
          0.9166666666666666,
          0.75,
          0.6666666666666666,
          0.9166666666666666,
          0.7916666666666666,
          0.7083333333333334,
          0.9166666666666666,
          0.75,
          0.75,
          0.875,
          0.7916666666666666,
          0.7916666666666666,
          0.9166666666666666,
          0.6666666666666666,
          0.9166666666666666,
          0.7916666666666666,
          0.7916666666666666,
          0.9583333333333334,
          0.8333333333333334,
          0.8333333333333334,
          0.875,
          0.7916666666666666,
          0.7916666666666666,
          0.9166666666666666,
          0.9166666666666666,
          0.8333333333333334,
          0.875,
          0.8333333333333334,
          0.7916666666666666,
          0.7916666666666666,
          0.9166666666666666,
          0.875,
          0.7083333333333334,
          0.9166666666666666,
          0.8333333333333334,
          0.8333333333333334,
          0.875,
          0.7916666666666666,
          0.9166666666666666,
          0.625,
          0.7916666666666666,
          0.625,
          0.7083333333333334,
          0.75,
          0.75,
          0.9166666666666666,
          0.9583333333333334,
          0.7916666666666666,
          0.7083333333333334,
          0.875,
          0.9166666666666666,
          0.9583333333333334,
          0.9166666666666666,
          0.9166666666666666,
          0.875,
          0.8333333333333334,
          0.7916666666666666,
          0.7916666666666666,
          0.7916666666666666,
          0.875,
          0.875,
          0.7916666666666666,
          0.7916666666666666,
          0.75,
          0.9166666666666666,
          0.7083333333333334,
          0.75,
          0.7916666666666666,
          0.8333333333333334,
          0.8333333333333334,
          0.9166666666666666,
          0.75,
          0.6666666666666666,
          0.6666666666666666,
          0.8333333333333334,
          1,
          0.8333333333333334,
          0.8333333333333334,
          0.8333333333333334,
          0.75,
          0.875,
          0.75,
          0.7083333333333334,
          0.9166666666666666,
          0.875,
          0.8333333333333334,
          0.9166666666666666,
          0.75,
          0.9166666666666666,
          0.9583333333333334,
          0.9583333333333334,
          0.7083333333333334,
          0.875,
          0.9583333333333334,
          0.8333333333333334,
          0.75,
          0.9166666666666666,
          0.7916666666666666,
          0.7916666666666666,
          0.875,
          0.9166666666666666,
          0.9166666666666666,
          0.9166666666666666,
          0.7916666666666666,
          0.9166666666666666,
          0.875,
          0.7916666666666666,
          0.9166666666666666,
          0.875,
          0.875,
          0.8333333333333334,
          0.875,
          0.8333333333333334,
          0.9166666666666666,
          0.875,
          0.875,
          0.7916666666666666,
          0.75,
          0.9166666666666666,
          0.9166666666666666,
          0.5833333333333334,
          0.8333333333333334,
          0.8333333333333334,
          0.7916666666666666,
          0.6666666666666666,
          0.8333333333333334,
          0.75,
          0.75,
          0.875,
          0.8333333333333334,
          0.875,
          0.9583333333333334,
          0.7083333333333334,
          0.9166666666666666,
          0.7916666666666666,
          0.7916666666666666,
          0.75,
          0.8333333333333334,
          0.8333333333333334,
          0.9166666666666666,
          0.875,
          0.5833333333333334,
          0.9583333333333334,
          0.5833333333333334,
          0.875,
          0.9166666666666666,
          0.7916666666666666,
          0.9166666666666666,
          0.7916666666666666,
          0.875,
          0.625,
          0.875,
          0.7916666666666666,
          0.8333333333333334,
          0.875,
          0.9166666666666666,
          0.8333333333333334,
          0.75,
          0.8333333333333334,
          0.875,
          0.9583333333333334,
          0.9166666666666666,
          0.875,
          0.7916666666666666,
          0.875,
          0.7083333333333334,
          0.7916666666666666,
          0.8333333333333334,
          0.6666666666666666,
          0.875,
          0.8333333333333334,
          0.75,
          0.8333333333333334,
          0.7916666666666666,
          0.8333333333333334,
          0.8333333333333334,
          0.7916666666666666,
          0.6666666666666666,
          0.8333333333333334,
          0.7916666666666666,
          0.875,
          0.875,
          0.8333333333333334,
          0.9166666666666666,
          0.75,
          0.9166666666666666,
          0.7916666666666666,
          0.9166666666666666,
          0.875,
          0.7083333333333334,
          0.75,
          0.8333333333333334,
          0.8333333333333334,
          0.6666666666666666,
          0.9583333333333334,
          1,
          0.6666666666666666,
          0.9166666666666666,
          0.7916666666666666,
          0.8333333333333334,
          0.9166666666666666,
          0.625,
          0.875,
          0.7916666666666666,
          0.75,
          0.9583333333333334,
          0.7083333333333334,
          0.9583333333333334,
          0.875,
          0.7083333333333334,
          0.9583333333333334,
          0.9583333333333334,
          0.75,
          0.7083333333333334,
          0.7916666666666666,
          0.8333333333333334,
          0.7916666666666666,
          0.9583333333333334,
          0.6666666666666666,
          0.8333333333333334,
          0.75,
          0.75,
          0.7916666666666666,
          0.7083333333333334,
          0.8333333333333334,
          0.9166666666666666,
          0.7916666666666666,
          0.7916666666666666,
          0.9166666666666666,
          0.9166666666666666,
          0.8333333333333334,
          0.9583333333333334,
          0.625,
          0.625,
          0.8333333333333334,
          0.7916666666666666,
          0.7916666666666666,
          0.9583333333333334,
          0.8333333333333334,
          0.875,
          0.75,
          0.7083333333333334,
          0.9583333333333334,
          0.9166666666666666,
          0.8333333333333334,
          0.75,
          0.5833333333333334,
          0.9166666666666666,
          0.7916666666666666,
          0.75,
          0.75,
          0.8333333333333334,
          0.7916666666666666,
          0.9583333333333334,
          0.875,
          0.75,
          0.75,
          0.8333333333333334,
          0.875,
          0.7083333333333334,
          0.8333333333333334,
          0.8333333333333334,
          0.8333333333333334,
          0.75,
          0.8333333333333334,
          0.8333333333333334,
          0.875,
          0.875,
          0.9166666666666666,
          0.875,
          0.7916666666666666,
          0.875,
          0.875,
          0.8333333333333334,
          0.875,
          0.8333333333333334,
          0.9583333333333334,
          0.625,
          0.7916666666666666,
          0.875,
          0.8333333333333334,
          0.75,
          0.7916666666666666,
          0.6666666666666666,
          0.875,
          0.7083333333333334,
          0.7916666666666666,
          0.9166666666666666,
          0.7916666666666666,
          0.6666666666666666,
          0.8333333333333334,
          0.7916666666666666,
          0.75,
          0.875,
          0.75,
          0.9166666666666666,
          0.75,
          0.875,
          0.8333333333333334,
          0.8333333333333334,
          0.875,
          0.7916666666666666,
          0.8333333333333334,
          0.875,
          0.875,
          0.6666666666666666,
          0.8333333333333334,
          0.8333333333333334,
          0.8333333333333334,
          0.5416666666666666,
          0.8333333333333334,
          0.875,
          0.875,
          0.9583333333333334,
          0.8333333333333334,
          0.9583333333333334,
          0.75,
          0.7083333333333334,
          0.7083333333333334,
          0.7916666666666666,
          0.7916666666666666,
          0.9583333333333334,
          0.7916666666666666,
          0.7916666666666666,
          0.7916666666666666,
          0.7916666666666666,
          0.875,
          0.9166666666666666,
          0.7916666666666666,
          0.8333333333333334,
          0.875,
          0.9166666666666666,
          0.7916666666666666,
          0.7916666666666666,
          0.7916666666666666,
          0.75,
          0.875,
          0.6666666666666666,
          0.75,
          0.8333333333333334,
          0.9166666666666666,
          0.5833333333333334,
          0.8333333333333334,
          0.7083333333333334,
          0.8333333333333334,
          0.75,
          0.8333333333333334,
          0.5833333333333334,
          0.875,
          0.9166666666666666,
          0.7083333333333334,
          0.875,
          0.875,
          0.75,
          0.7083333333333334,
          0.5833333333333334,
          0.75,
          0.875,
          0.7916666666666666,
          0.9583333333333334,
          0.8333333333333334,
          0.6666666666666666,
          0.8333333333333334,
          0.6666666666666666,
          1,
          0.9166666666666666,
          0.9166666666666666,
          0.9166666666666666,
          0.9583333333333334,
          0.8333333333333334,
          0.75,
          0.8333333333333334,
          0.7916666666666666,
          0.8333333333333334,
          0.875,
          0.8333333333333334,
          0.7916666666666666,
          0.6666666666666666,
          0.7083333333333334,
          0.7916666666666666,
          0.7916666666666666,
          0.7083333333333334,
          0.75,
          0.8333333333333334,
          0.75,
          0.875,
          0.8333333333333334,
          0.7916666666666666,
          0.75,
          0.875,
          0.9166666666666666,
          0.875,
          0.875,
          0.5416666666666666,
          0.8333333333333334,
          0.8333333333333334,
          0.875,
          0.875,
          0.9166666666666666,
          0.875,
          0.9166666666666666,
          0.6666666666666666,
          0.5416666666666666,
          0.875,
          0.9166666666666666,
          0.875,
          0.7916666666666666,
          0.9166666666666666,
          0.4166666666666667,
          0.875,
          0.9583333333333334,
          0.75,
          0.8333333333333334,
          0.75,
          0.9166666666666666,
          0.7083333333333334,
          0.7916666666666666,
          0.7083333333333334,
          0.875,
          0.75,
          0.875,
          0.625,
          0.625,
          0.75,
          0.9166666666666666,
          0.7083333333333334,
          0.75,
          0.9583333333333334,
          0.9166666666666666,
          0.8333333333333334,
          0.9583333333333334,
          0.8333333333333334,
          0.7916666666666666,
          0.9166666666666666,
          0.6666666666666666,
          0.9583333333333334,
          0.9166666666666666,
          0.7916666666666666,
          0.5833333333333334,
          0.8333333333333334,
          0.9166666666666666,
          0.8333333333333334,
          0.7083333333333334,
          0.8333333333333334,
          0.7916666666666666,
          0.6666666666666666,
          0.7083333333333334,
          0.625,
          0.9583333333333334,
          0.8333333333333334,
          0.9583333333333334,
          0.875,
          0.9583333333333334,
          0.9583333333333334,
          0.625,
          0.875,
          0.75,
          0.7916666666666666,
          0.8333333333333334,
          0.75,
          0.9166666666666666,
          0.8333333333333334,
          0.875,
          0.875,
          0.9166666666666666,
          0.8333333333333334,
          0.8333333333333334,
          0.875,
          0.9166666666666666,
          0.875,
          0.9166666666666666,
          0.5833333333333334,
          0.75,
          0.9583333333333334,
          0.9583333333333334,
          0.875,
          0.875,
          0.8333333333333334,
          0.75,
          0.8333333333333334,
          0.9583333333333334,
          0.5833333333333334,
          0.7916666666666666,
          0.5833333333333334,
          0.9166666666666666,
          0.875,
          0.9166666666666666,
          0.8333333333333334,
          0.7916666666666666,
          0.7083333333333334,
          0.6666666666666666,
          0.8333333333333334,
          0.9166666666666666,
          0.6666666666666666,
          0.875,
          0.7916666666666666,
          0.5833333333333334,
          0.7916666666666666,
          0.9166666666666666,
          0.875,
          0.7916666666666666,
          0.8333333333333334,
          0.9166666666666666,
          0.5833333333333334,
          0.7083333333333334,
          0.8333333333333334,
          0.7083333333333334,
          0.9166666666666666,
          0.7916666666666666,
          0.8333333333333334,
          0.8333333333333334,
          0.875,
          0.9166666666666666,
          0.8333333333333334,
          0.75,
          0.875,
          0.875,
          0.8333333333333334,
          0.875,
          0.875,
          0.75,
          0.875,
          0.9166666666666666,
          0.875,
          0.875,
          0.8333333333333334,
          0.875,
          0.8333333333333334,
          0.7916666666666666,
          0.7916666666666666,
          0.875,
          0.625,
          0.7916666666666666,
          1,
          0.8333333333333334,
          0.875,
          0.6666666666666666,
          0.8333333333333334,
          0.7916666666666666,
          0.9583333333333334,
          0.8333333333333334,
          0.7916666666666666,
          0.8333333333333334,
          0.875,
          1,
          0.9583333333333334,
          0.9166666666666666,
          1,
          0.8333333333333334,
          0.875,
          0.9583333333333334,
          0.9166666666666666,
          0.9166666666666666,
          0.9583333333333334,
          0.9583333333333334,
          0.7916666666666666,
          0.9166666666666666,
          0.5833333333333334,
          0.9583333333333334,
          0.9166666666666666,
          0.9166666666666666,
          0.6666666666666666,
          0.875,
          0.9583333333333334,
          0.9583333333333334,
          0.9166666666666666,
          0.7083333333333334,
          0.75,
          1,
          1,
          0.7916666666666666,
          0.0833333333333333,
          0.8333333333333334,
          0.7083333333333334,
          0.8333333333333334,
          0.625,
          0.9583333333333334,
          0.9166666666666666,
          0.9583333333333334,
          0.875,
          0.9166666666666666,
          0.875,
          0.9166666666666666,
          0.7916666666666666,
          0.7916666666666666,
          0.875,
          0.875,
          0.9166666666666666,
          1,
          1,
          0.7916666666666666,
          0.7083333333333334,
          0.8333333333333334,
          0.9583333333333334,
          0.7916666666666666,
          0.875,
          0.9583333333333334,
          0.8333333333333334,
          0.875,
          0.9166666666666666,
          0.6666666666666666,
          0.9583333333333334,
          0.8333333333333334,
          0.8333333333333334,
          0.8333333333333334,
          0.9166666666666666,
          0.7916666666666666,
          0.9166666666666666,
          0.8333333333333334,
          1,
          1,
          0.9166666666666666,
          0.875,
          0.9583333333333334,
          0.7083333333333334,
          0.75,
          0.9583333333333334,
          0.9583333333333334,
          0.7916666666666666,
          0.875,
          0.9583333333333334,
          0.7916666666666666,
          0.9166666666666666,
          0.875,
          0.875,
          0.875,
          0.8333333333333334,
          1,
          0.875,
          0.8333333333333334,
          1,
          0.75,
          0.8333333333333334,
          0.9166666666666666,
          0.875,
          0.7916666666666666,
          0.9166666666666666,
          1,
          0.875,
          0.7916666666666666,
          0.8333333333333334,
          1,
          0.7083333333333334,
          0.9166666666666666,
          0.7916666666666666,
          0.9583333333333334,
          0.9583333333333334,
          0.8333333333333334,
          0.9166666666666666,
          0.9166666666666666,
          1,
          0.8333333333333334,
          0.7916666666666666,
          0.9583333333333334,
          0.875,
          0.75,
          0.9166666666666666,
          0.7916666666666666,
          0.8333333333333334,
          0.75,
          0.9166666666666666,
          0.9583333333333334,
          0.9166666666666666,
          0.8333333333333334,
          0.75,
          0.7083333333333334,
          0.875,
          0.9583333333333334,
          0.9583333333333334,
          0.9166666666666666,
          0.9583333333333334,
          0.9166666666666666,
          0.875,
          0.875,
          1,
          0.9166666666666666,
          0.9166666666666666,
          0.8333333333333334,
          0.9166666666666666,
          0.6666666666666666,
          0.8333333333333334,
          1,
          0.9166666666666666,
          0.7916666666666666,
          0.875,
          0.6666666666666666,
          1,
          0.9583333333333334,
          0.9583333333333334,
          0.5833333333333334,
          0.625,
          0.9166666666666666,
          0.7916666666666666,
          0.9583333333333334,
          0.75,
          0.9583333333333334,
          0.875,
          1,
          0.8333333333333334,
          0.8333333333333334,
          0.9166666666666666,
          0.7916666666666666,
          0.9166666666666666,
          0.875,
          0.9166666666666666,
          0.7916666666666666,
          0.9583333333333334,
          0.7083333333333334,
          0.8333333333333334,
          0.7083333333333334,
          0.7916666666666666,
          0.9583333333333334,
          0.7916666666666666,
          0.9166666666666666,
          0.9166666666666666,
          0.9166666666666666,
          0.9583333333333334,
          0.875,
          0.75,
          0.875,
          0.9166666666666666,
          0.9166666666666666,
          0.7916666666666666,
          0.8333333333333334,
          0.9583333333333334,
          0.8333333333333334,
          0.9166666666666666,
          0.875,
          0.7916666666666666,
          0.875,
          0.7916666666666666,
          0.875,
          0.7916666666666666,
          0.9583333333333334,
          0.75,
          0.9166666666666666,
          0.875,
          0.875,
          0.7916666666666666,
          0.9583333333333334,
          0.9583333333333334,
          0.7083333333333334,
          0.75,
          0.8333333333333334,
          0.7083333333333334,
          1,
          0.8333333333333334,
          1,
          0.7083333333333334,
          0.75,
          0.875,
          0.9583333333333334,
          0.8333333333333334,
          0.9583333333333334,
          0.9583333333333334,
          0.9583333333333334,
          0.5833333333333334,
          0.875,
          0.875,
          0.75,
          0.75,
          0.8333333333333334,
          0.5416666666666666,
          0.9166666666666666,
          0.7916666666666666,
          0.7083333333333334,
          0.7916666666666666,
          0.875,
          0.9583333333333334,
          0.625,
          0.9166666666666666,
          0.875,
          1,
          0.7916666666666666,
          0.9583333333333334,
          0.7083333333333334,
          0.75,
          0.8333333333333334,
          0.9583333333333334,
          0.8333333333333334,
          0.9166666666666666,
          0.7083333333333334,
          0.8333333333333334,
          0.875,
          0.9583333333333334,
          0.75,
          0.8333333333333334,
          0.875,
          0.9583333333333334,
          0.875,
          0.6666666666666666,
          0.9166666666666666,
          0.9166666666666666,
          0.9166666666666666,
          0.75,
          1,
          0.8333333333333334,
          0.875,
          0.9166666666666666,
          0.7083333333333334,
          0.9166666666666666,
          1,
          0.75,
          0.5416666666666666,
          0.7916666666666666,
          0.9166666666666666,
          0.9166666666666666,
          0.875,
          0.5416666666666666,
          1,
          0.875,
          0.75,
          0.875,
          0.875,
          0.75,
          0.9166666666666666,
          0.8333333333333334,
          0.9583333333333334,
          0.875,
          0.9166666666666666,
          0.9166666666666666,
          0.9583333333333334,
          0.9583333333333334,
          1,
          0.9166666666666666,
          0.875,
          0.75,
          0.875,
          0.6666666666666666,
          0.875,
          0.7916666666666666,
          0.875,
          0.75,
          0.7083333333333334,
          1,
          0.7083333333333334,
          0.9166666666666666,
          0.875,
          0.7916666666666666,
          0.7916666666666666,
          0.7916666666666666,
          0.75,
          0.5,
          0.7916666666666666,
          0.875,
          0.875,
          0.75,
          0.7916666666666666,
          0.6666666666666666,
          0.75,
          0.7916666666666666,
          0.5,
          0.8333333333333334,
          0.875,
          0.875,
          0.75,
          0.8333333333333334,
          0.7083333333333334,
          0.6666666666666666,
          0.875,
          0.7916666666666666,
          0.7083333333333334,
          0.7916666666666666,
          0.8333333333333334,
          0.7916666666666666,
          0.875,
          0.875,
          0.875,
          0.75,
          0.875,
          0.75,
          0.6666666666666666,
          0.6666666666666666,
          0.7916666666666666,
          0.7916666666666666,
          0.8333333333333334,
          0.8333333333333334,
          0.9583333333333334,
          0.9166666666666666,
          0.7916666666666666,
          0.7916666666666666,
          0.375,
          0.6666666666666666,
          0.75,
          0.7916666666666666,
          0.4583333333333333,
          0.7916666666666666,
          0.8333333333333334,
          0.9166666666666666,
          0.875,
          0.875,
          0.7916666666666666,
          0.7916666666666666,
          0.875,
          0.8333333333333334,
          0.8333333333333334,
          0.75,
          0.75,
          0.7916666666666666,
          0.8333333333333334,
          0.7916666666666666,
          0.7916666666666666,
          0.6666666666666666,
          0.875,
          0.9166666666666666,
          0.9166666666666666,
          0.9583333333333334,
          0.6666666666666666,
          0.9583333333333334,
          0.8333333333333334,
          0.9166666666666666,
          0.7083333333333334,
          0.5,
          0.75,
          0.6666666666666666,
          0.75,
          0.75,
          0.875,
          0.875,
          0.7083333333333334,
          0.75,
          0.8333333333333334,
          0.8333333333333334,
          0.875,
          0.8333333333333334,
          0.875,
          0.875,
          0.8333333333333334,
          0.875,
          0.7916666666666666,
          0.9166666666666666,
          0.875,
          0.9166666666666666,
          0.75,
          0.7916666666666666,
          0.875,
          0.9166666666666666,
          0.9583333333333334,
          0.9166666666666666,
          0.875,
          0.9583333333333334,
          0.875,
          0.9166666666666666,
          0.7916666666666666,
          0.9166666666666666,
          0.8333333333333334,
          0.9583333333333334,
          0.75,
          0.8333333333333334,
          0.9583333333333334,
          0.9583333333333334,
          0.8333333333333334,
          0.875,
          0.875,
          0.875,
          0.75,
          0.6666666666666666,
          0.9166666666666666,
          0.9166666666666666,
          0.9583333333333334,
          0.9583333333333334,
          0.875,
          0.9166666666666666,
          0.9166666666666666,
          0.75,
          0.75,
          0.8333333333333334,
          0.9166666666666666,
          0.7916666666666666,
          0.8333333333333334,
          0.75,
          0.875,
          0.8333333333333334,
          0.6666666666666666,
          0.8333333333333334,
          0.5833333333333334,
          0.9166666666666666,
          0.875,
          0.7916666666666666,
          0.9166666666666666,
          0.875,
          0.9166666666666666,
          0.75,
          0.9166666666666666,
          0.875,
          0.875,
          0.875,
          0.7916666666666666,
          0.7083333333333334,
          0.9166666666666666,
          0.9583333333333334,
          0.8333333333333334,
          0.7083333333333334,
          0.875,
          0.9166666666666666,
          0.875,
          0.8333333333333334,
          0.875,
          0.7916666666666666,
          0.75,
          0.9166666666666666,
          0.8333333333333334,
          0.7916666666666666,
          0.8333333333333334,
          0.875,
          0.875,
          0.7083333333333334,
          0.9166666666666666,
          0.8333333333333334,
          0.9166666666666666,
          0.9166666666666666,
          0.9166666666666666,
          0.8333333333333334,
          0.7916666666666666,
          0.875,
          0.9166666666666666,
          0.7916666666666666,
          0.8333333333333334,
          0.7083333333333334,
          0.875,
          0.875,
          0.9166666666666666,
          0.5833333333333334,
          0.9166666666666666,
          0.875,
          0.9583333333333334,
          0.8333333333333334,
          0.875,
          0.7916666666666666,
          0.7916666666666666,
          0.8333333333333334,
          0.8333333333333334,
          0.8333333333333334,
          0.9166666666666666,
          0.875,
          0.8333333333333334,
          0.9583333333333334,
          0.875,
          0.875,
          0.875,
          0.8333333333333334,
          0.7916666666666666,
          0.875,
          0.7916666666666666,
          0.7083333333333334,
          0.8333333333333334,
          0.9583333333333334,
          0.7916666666666666,
          0.9166666666666666,
          0.875,
          0.875,
          0.875,
          0.875,
          0.9583333333333334,
          0.625,
          0.875,
          0.9166666666666666,
          0.9583333333333334,
          0.9166666666666666,
          0.8333333333333334,
          0.875,
          0.9166666666666666,
          0.7916666666666666,
          0.875,
          0.875,
          0.5416666666666666,
          0.875,
          0.75,
          0.875,
          0.8333333333333334,
          0.875,
          0.875,
          0.8333333333333334,
          0.875,
          0.8333333333333334,
          0.8333333333333334,
          0.875,
          0.875,
          0.8333333333333334,
          0.875,
          0.75,
          0.9166666666666666,
          0.875,
          0.9583333333333334,
          0.7916666666666666,
          0.875,
          0.7083333333333334,
          0.9583333333333334,
          0.9166666666666666,
          0.9166666666666666,
          0.8333333333333334,
          0.9166666666666666,
          0.9583333333333334,
          0.9583333333333334,
          0.9166666666666666,
          0.9166666666666666,
          0.9583333333333334,
          0.875,
          0.9166666666666666,
          0.9583333333333334,
          0.9583333333333334,
          0.875,
          0.8333333333333334,
          0.9166666666666666,
          0.875,
          0.7916666666666666,
          0.8333333333333334,
          0.7916666666666666,
          0.9166666666666666,
          0.875,
          0.7083333333333334,
          0.7083333333333334,
          0.7083333333333334,
          0.7916666666666666,
          0.7916666666666666,
          0.8333333333333334,
          0.875,
          0.6666666666666666,
          0.875,
          0.7083333333333334,
          0.875,
          0.875,
          0.7916666666666666,
          0.7916666666666666,
          0.875,
          0.8333333333333334,
          0.7916666666666666,
          0.8333333333333334,
          0.9166666666666666,
          0.7916666666666666,
          0.8333333333333334,
          0.875,
          0.875,
          0.7916666666666666,
          0.7083333333333334,
          0.75,
          0.7916666666666666,
          0.625,
          0.75,
          0.7083333333333334,
          0.875,
          1,
          0.9166666666666666,
          0.7916666666666666,
          0.7916666666666666,
          0.9166666666666666,
          0.75,
          0.8333333333333334,
          0.7083333333333334,
          0.75,
          0.625,
          0.75,
          0.875,
          0.8333333333333334,
          0.8333333333333334,
          0.875,
          0.8333333333333334,
          0.5833333333333334,
          0.9583333333333334,
          0.7916666666666666,
          0.8333333333333334,
          0.8333333333333334,
          0.9166666666666666,
          0.8333333333333334,
          0.6666666666666666,
          0.875,
          0.875,
          0.875,
          0.8333333333333334,
          0.7916666666666666,
          0.7083333333333334,
          0.875,
          0.7916666666666666,
          0.75,
          0.875,
          0.9166666666666666,
          0.8333333333333334,
          0.625,
          0.8333333333333334,
          0.7083333333333334,
          0.7083333333333334,
          0.9583333333333334,
          0.8333333333333334,
          0.75,
          0.9583333333333334,
          0.8333333333333334,
          0.75,
          0.9583333333333334,
          0.75,
          0.7083333333333334,
          0.8333333333333334,
          0.9583333333333334,
          0.75,
          0.8333333333333334,
          0.875,
          0.875,
          0.8333333333333334,
          0.6666666666666666,
          0.875,
          0.8333333333333334,
          0.8333333333333334,
          0.8333333333333334,
          0.7916666666666666,
          0.625,
          0.8333333333333334,
          0.8333333333333334,
          0.7083333333333334,
          0.7916666666666666,
          0.875,
          0.875,
          0.75,
          0.7083333333333334,
          0.75,
          0.9166666666666666,
          0.8333333333333334,
          0.6666666666666666,
          0.8333333333333334,
          0.8333333333333334,
          0.75,
          0.75,
          0.7916666666666666,
          0.7916666666666666,
          0.8333333333333334,
          0.7916666666666666,
          0.8333333333333334,
          0.9166666666666666,
          0.9166666666666666,
          0.8333333333333334,
          0.75,
          0.875,
          0.8333333333333334,
          0.8333333333333334,
          0.875,
          0.875,
          0.7916666666666666,
          0.875,
          0.8333333333333334,
          0.875,
          0.7916666666666666,
          0.7083333333333334,
          0.8333333333333334,
          0.875,
          1,
          0.7083333333333334,
          0.8333333333333334,
          0.75,
          0.875,
          0.8333333333333334,
          0.75,
          0.7083333333333334,
          0.75,
          0.6666666666666666,
          0.7916666666666666,
          0.7916666666666666,
          0.875,
          0.9583333333333334,
          0.9583333333333334,
          0.9166666666666666,
          1,
          0.8333333333333334,
          0.75,
          0.8333333333333334,
          0.7916666666666666,
          0.9166666666666666,
          0.7916666666666666,
          0.8333333333333334,
          0.7916666666666666,
          0.7083333333333334,
          0.75,
          0.9583333333333334,
          0.75,
          0.7083333333333334,
          0.7916666666666666,
          0.625,
          0.7083333333333334,
          0.7916666666666666,
          0.75,
          0.75,
          0.6666666666666666,
          0.7916666666666666,
          0.75,
          0.8333333333333334,
          0.75,
          0.6666666666666666,
          0.7083333333333334,
          0.875,
          0.7916666666666666,
          0.8333333333333334,
          0.75,
          0.9166666666666666,
          0.6666666666666666,
          0.7916666666666666,
          0.7083333333333334,
          0.75,
          0.8333333333333334,
          0.6666666666666666,
          0.9583333333333334,
          0.6666666666666666,
          0.6666666666666666,
          0.625,
          0.7916666666666666,
          0.7916666666666666,
          0.7916666666666666,
          0.7916666666666666,
          0.8333333333333334,
          0.9166666666666666,
          0.7916666666666666,
          0.7916666666666666,
          0.7916666666666666,
          0.9166666666666666,
          0.7083333333333334,
          0.8333333333333334,
          0.6666666666666666,
          0.875,
          0.9166666666666666,
          0.8333333333333334,
          0.8333333333333334,
          0.5416666666666666,
          0.75,
          0.9166666666666666,
          0.8333333333333334,
          0.8333333333333334,
          0.75,
          0.8333333333333334,
          0.9166666666666666,
          0.7916666666666666,
          0.8333333333333334,
          0.875,
          0.875,
          0.75,
          0.9166666666666666,
          0.8333333333333334,
          0.8333333333333334,
          0.8333333333333334,
          0.9583333333333334,
          0.9166666666666666,
          0.7916666666666666,
          0.625,
          0.9166666666666666,
          0.75,
          0.5416666666666666,
          0.75,
          0.7916666666666666,
          0.875,
          0.7916666666666666,
          0.625,
          0.7916666666666666,
          0.625,
          0.8333333333333334,
          0.7916666666666666,
          0.75,
          0.875,
          0.8333333333333334,
          0.8333333333333334,
          0.8333333333333334,
          0.8333333333333334,
          0.75,
          0.9166666666666666,
          0.8333333333333334,
          0.875,
          0.75,
          0.7916666666666666,
          0.875,
          0.75,
          0.7083333333333334,
          0.7916666666666666,
          0.7916666666666666,
          0.8333333333333334,
          0.7916666666666666,
          0.875,
          0.9166666666666666,
          0.75,
          0.7916666666666666,
          0.8333333333333334,
          0.7083333333333334,
          0.8333333333333334,
          0.7916666666666666,
          0.8333333333333334,
          0.75,
          0.75,
          0.7083333333333334,
          0.75,
          0.7083333333333334,
          0.75,
          0.7916666666666666,
          0.875,
          0.7916666666666666,
          0.625,
          0.75,
          0.6666666666666666,
          0.625,
          0.9166666666666666,
          0.9166666666666666,
          0.5833333333333334,
          0.9166666666666666,
          0.8333333333333334,
          0.6666666666666666,
          0.5833333333333334,
          0.7916666666666666,
          0.8333333333333334,
          0.6666666666666666,
          0.75,
          0.8333333333333334,
          0.75,
          0.875,
          0.875,
          0.7916666666666666,
          0.7916666666666666,
          0.75,
          0.6666666666666666,
          0.7916666666666666,
          0.9166666666666666,
          0.8333333333333334,
          0.875,
          0.8333333333333334,
          0.4583333333333333,
          0.75,
          0.7916666666666666,
          0.8333333333333334,
          0.875,
          0.75,
          0.75,
          0.7916666666666666,
          0.8333333333333334,
          0.7083333333333334,
          0.75,
          0.875,
          0.8333333333333334,
          0.7916666666666666,
          0.8333333333333334,
          0.8333333333333334,
          0.75,
          0.875,
          0.9583333333333334,
          0.8333333333333334,
          0.7083333333333334,
          0.7916666666666666,
          0.7083333333333334,
          0.9166666666666666,
          0.8333333333333334,
          0.7916666666666666,
          0.75,
          0.8333333333333334,
          0.8333333333333334,
          0.7916666666666666,
          0.75,
          0.75,
          0.8333333333333334,
          0.8333333333333334,
          0.7916666666666666,
          0.8333333333333334,
          0.7916666666666666,
          0.9166666666666666,
          0.5416666666666666,
          0.75,
          0.7916666666666666,
          0.6666666666666666,
          0.8333333333333334,
          0.875,
          0.75,
          0.5833333333333334,
          0.9166666666666666,
          0.8333333333333334,
          0.8333333333333334,
          0.75,
          0.75,
          0.5833333333333334,
          0.625,
          0.8333333333333334,
          0.6666666666666666,
          0.75,
          0.7916666666666666,
          0.8333333333333334,
          0.6666666666666666,
          0.7083333333333334,
          0.7916666666666666,
          0.9166666666666666,
          0.7916666666666666,
          0.625,
          0.75,
          0.8333333333333334,
          0.7916666666666666,
          0.75,
          0.8333333333333334,
          0.8333333333333334,
          0.7916666666666666,
          0.6666666666666666,
          0.6666666666666666,
          0.7916666666666666,
          0.875,
          0.7916666666666666,
          0.8333333333333334,
          0.875,
          0.5416666666666666,
          0.625,
          0.8333333333333334,
          0.8333333333333334,
          0.75,
          0.7916666666666666,
          0.75,
          0.7083333333333334,
          0.8333333333333334,
          0.625,
          0.6666666666666666,
          0.8333333333333334,
          0.625,
          0.6666666666666666,
          0.7916666666666666,
          0.8333333333333334,
          1,
          0.7916666666666666,
          0.8333333333333334,
          0.8333333333333334,
          0.875,
          0.8333333333333334,
          0.75,
          0.7083333333333334,
          0.75,
          0.7916666666666666,
          0.7083333333333334,
          0.8333333333333334,
          0.9166666666666666,
          0.7083333333333334,
          0.8333333333333334,
          0.7916666666666666,
          0.625,
          0.9166666666666666,
          0.7916666666666666,
          0.75,
          0.7916666666666666,
          0.5833333333333334,
          0.75,
          0.8333333333333334,
          0.6666666666666666,
          0.6666666666666666,
          0.6666666666666666,
          0.625,
          0.7083333333333334,
          0.7083333333333334,
          0.8333333333333334,
          0.7083333333333334,
          0.8333333333333334,
          0.8333333333333334,
          0.75,
          0.6666666666666666,
          0.7916666666666666,
          0.7083333333333334,
          0.7916666666666666,
          0.7916666666666666,
          0.7916666666666666,
          0.7916666666666666,
          0.75,
          0.7916666666666666,
          0.75,
          0.7916666666666666,
          0.8333333333333334,
          0.75,
          0.7916666666666666,
          0.8333333333333334,
          0.75,
          0.875,
          0.7916666666666666,
          0.8333333333333334,
          0.75,
          0.6666666666666666,
          0.8333333333333334,
          0.7916666666666666,
          0.7083333333333334,
          0.9166666666666666,
          0.7916666666666666,
          0.6666666666666666,
          0.9166666666666666,
          0.7083333333333334,
          0.7083333333333334,
          0.7916666666666666,
          0.7916666666666666,
          0.7916666666666666,
          0.7083333333333334,
          0.8333333333333334,
          0.7916666666666666,
          0.75,
          0.75,
          0.75,
          0.8333333333333334,
          0.8333333333333334,
          0.75,
          0.8333333333333334,
          0.8333333333333334,
          0.7916666666666666,
          0.7083333333333334,
          0.7916666666666666,
          0.625,
          0.8333333333333334,
          0.5833333333333334,
          0.7916666666666666,
          0.4583333333333333,
          0.7916666666666666,
          0.7083333333333334,
          0.75,
          0.7916666666666666,
          0.9583333333333334,
          0.8333333333333334,
          0.7916666666666666,
          0.7916666666666666,
          0.7083333333333334,
          0.875,
          0.75,
          0.9166666666666666,
          0.7916666666666666,
          0.875,
          0.7083333333333334,
          0.8333333333333334,
          0.875,
          0.7916666666666666,
          1,
          0.8333333333333334,
          0.7083333333333334,
          0.75,
          0.7916666666666666,
          0.9166666666666666,
          0.875,
          0.6666666666666666,
          0.8333333333333334,
          0.8333333333333334,
          0.75,
          0.9166666666666666,
          0.8333333333333334,
          0.7916666666666666,
          0.8333333333333334,
          0.875,
          0.75,
          0.9166666666666666,
          0.7916666666666666,
          0.75,
          0.8333333333333334,
          0.8333333333333334,
          0.75,
          0.7083333333333334,
          0.8333333333333334,
          0.75,
          0.5833333333333334,
          0.7083333333333334,
          0.875,
          0.75,
          0.6666666666666666,
          0.875,
          0.875,
          0.7916666666666666,
          0.6666666666666666,
          0.75,
          0.8333333333333334,
          0.75,
          0.875,
          0.7916666666666666,
          0.8333333333333334,
          0.7083333333333334,
          0.7916666666666666,
          0.875,
          0.75,
          0.875,
          0.5833333333333334,
          0.7083333333333334,
          0.6666666666666666,
          0.625,
          0.875,
          0.875,
          0.6666666666666666,
          0.7083333333333334,
          0.9166666666666666,
          0.7083333333333334,
          0.75,
          0.875,
          0.8333333333333334,
          0.6666666666666666,
          0.8333333333333334,
          0.875,
          0.7916666666666666,
          0.875,
          0.875,
          0.875,
          0.9166666666666666,
          0.7083333333333334,
          0.7916666666666666,
          0.7916666666666666,
          0.7083333333333334,
          0.6666666666666666,
          0.7083333333333334,
          0.75,
          0.75,
          0.8333333333333334,
          0.6666666666666666,
          0.9166666666666666,
          0.6666666666666666,
          0.7916666666666666,
          0.9583333333333334,
          0.875,
          0.7916666666666666,
          0.9166666666666666,
          0.75,
          0.8333333333333334,
          0.6666666666666666,
          0.875,
          0.75,
          0.75,
          0.9166666666666666,
          0.7083333333333334,
          0.8333333333333334,
          0.75,
          0.6666666666666666,
          0.5416666666666666,
          0.75,
          0.625,
          0.8333333333333334,
          0.5416666666666666,
          0.7916666666666666,
          0.75,
          0.625,
          0.8333333333333334,
          0.7916666666666666,
          0.7916666666666666,
          0.7916666666666666,
          0.5,
          0.7916666666666666,
          0.8333333333333334,
          0.625,
          0.875,
          0.7083333333333334,
          0.8333333333333334,
          0.75,
          0.7916666666666666,
          0.8333333333333334,
          0.7083333333333334,
          0.75,
          0.875,
          0.8333333333333334,
          0.7916666666666666,
          0.7083333333333334,
          0.7083333333333334,
          0.7916666666666666,
          0.7083333333333334,
          0.9166666666666666,
          0.75,
          0.7916666666666666,
          0.7083333333333334,
          0.8333333333333334,
          0.7916666666666666,
          0.8333333333333334,
          0.7083333333333334,
          0.9166666666666666,
          0.8333333333333334,
          0.7916666666666666,
          0.7083333333333334,
          0.7083333333333334,
          0.75,
          0.6666666666666666,
          0.875,
          0.5416666666666666,
          0.9583333333333334,
          0.5833333333333334,
          0.875,
          0.75,
          0.75,
          0.75,
          0.875,
          0.6666666666666666,
          0.7083333333333334,
          0.75,
          0.7083333333333334,
          0.625,
          0.7083333333333334,
          0.8333333333333334,
          0.7083333333333334,
          0.7083333333333334,
          0.8333333333333334,
          0.875,
          0.9166666666666666,
          0.7916666666666666,
          0.7916666666666666,
          0.8333333333333334,
          0.75,
          0.8333333333333334,
          0.7916666666666666,
          0.75,
          0.6666666666666666,
          0.7916666666666666,
          0.7916666666666666,
          0.8333333333333334,
          0.875,
          0.625,
          0.9166666666666666,
          0.6666666666666666,
          0.7916666666666666,
          0.75,
          0.75,
          0.5833333333333334,
          0.8333333333333334,
          0.6666666666666666,
          0.7916666666666666,
          0.7916666666666666,
          0.875,
          0.8333333333333334,
          0.75,
          0.7083333333333334,
          0.7916666666666666,
          0.7083333333333334,
          0.8333333333333334,
          0.9166666666666666,
          0.5833333333333334,
          0.8333333333333334,
          0.8333333333333334,
          0.75,
          0.6666666666666666,
          0.7916666666666666,
          0.875,
          0.75,
          0.7916666666666666,
          0.7916666666666666,
          0.75,
          0.9166666666666666,
          0.7916666666666666,
          0.75,
          0.75,
          0.7916666666666666,
          0.7083333333333334,
          0.7916666666666666,
          0.75,
          0.8333333333333334,
          0.7916666666666666,
          0.7083333333333334,
          0.875,
          0.7083333333333334,
          0.875,
          0.75,
          0.7083333333333334,
          0.75,
          0.9583333333333334,
          0.7916666666666666,
          0.8333333333333334,
          0.875,
          0.6666666666666666,
          0.875,
          0.9166666666666666,
          0.8333333333333334,
          0.7916666666666666,
          0.7916666666666666,
          0.75,
          0.6666666666666666,
          0.625,
          0.75,
          0.8333333333333334,
          0.875,
          0.75,
          0.8333333333333334,
          0.9166666666666666,
          0.75,
          0.7916666666666666,
          0.875,
          0.625,
          0.7916666666666666,
          0.75,
          0.8333333333333334,
          0.8333333333333334,
          0.7083333333333334,
          0.7083333333333334,
          0.6666666666666666,
          0.75,
          0.7083333333333334,
          0.6666666666666666,
          0.7083333333333334,
          0.9583333333333334,
          0.7916666666666666,
          0.75,
          0.75,
          0.75,
          0.7916666666666666,
          0.8333333333333334,
          0.8333333333333334,
          0.875,
          0.7083333333333334,
          0.875,
          0.75,
          0.7916666666666666,
          0.875,
          0.9583333333333334,
          0.8333333333333334,
          0.875,
          0.7916666666666666,
          0.875,
          0.75,
          0.7083333333333334,
          0.75,
          0.9166666666666666,
          0.875,
          0.75,
          0.7916666666666666,
          0.875,
          0.7916666666666666,
          0.6666666666666666,
          0.7916666666666666,
          0.75,
          0.75,
          0.75,
          0.7916666666666666,
          0.875,
          0.8333333333333334,
          0.7916666666666666,
          0.875,
          0.75,
          0.6666666666666666,
          0.7916666666666666,
          0.7916666666666666,
          0.7083333333333334,
          0.9583333333333334,
          0.7916666666666666,
          0.875,
          0.8333333333333334,
          0.6666666666666666,
          0.7916666666666666,
          0.7083333333333334,
          0.9166666666666666,
          0.625,
          0.8333333333333334,
          0.7916666666666666,
          0.875,
          0.6666666666666666,
          0.875,
          0.7916666666666666,
          0.8333333333333334,
          0.7083333333333334,
          0.875,
          0.75,
          0.7916666666666666,
          0.8333333333333334,
          0.7916666666666666,
          0.7916666666666666,
          0.625,
          0.625,
          0.75,
          0.75,
          0.875,
          0.75,
          0.75,
          0.7083333333333334,
          0.7083333333333334,
          0.8333333333333334,
          0.7916666666666666,
          0.6666666666666666,
          0.75,
          0.875,
          0.8333333333333334,
          0.5833333333333334,
          0.625,
          0.75,
          0.875,
          0.9166666666666666,
          0.875,
          0.6666666666666666,
          0.8333333333333334,
          0.9583333333333334,
          0.7916666666666666,
          0.75,
          0.9583333333333334,
          0.75,
          0.7916666666666666,
          0.75,
          0.875,
          0.7916666666666666,
          0.7916666666666666,
          0.7916666666666666,
          0.9583333333333334,
          0.8333333333333334,
          0.7083333333333334,
          0.8333333333333334,
          0.8333333333333334,
          0.9166666666666666,
          0.7916666666666666,
          0.9583333333333334,
          0.7916666666666666,
          0.9166666666666666,
          0.8333333333333334,
          0.75,
          0.7083333333333334,
          0.9166666666666666,
          0.875,
          0.9166666666666666,
          0.7083333333333334,
          0.7916666666666666,
          0.75,
          0.6666666666666666,
          0.7083333333333334,
          0.625,
          0.7083333333333334,
          0.8333333333333334,
          0.7916666666666666,
          0.75,
          0.875,
          0.7916666666666666,
          0.875,
          0.9583333333333334,
          0.9166666666666666,
          0.875,
          0.625,
          0.9583333333333334,
          0.875,
          0.875,
          0.9583333333333334,
          0.875,
          0.7083333333333334,
          0.8333333333333334,
          0.7916666666666666,
          0.875,
          0.875,
          0.9166666666666666,
          0.7083333333333334,
          0.8333333333333334,
          0.8333333333333334,
          0.7916666666666666,
          0.6666666666666666,
          0.9583333333333334,
          0.6666666666666666,
          0.7083333333333334,
          0.875,
          0.875,
          0.875,
          0.7916666666666666,
          0.9166666666666666,
          0.6666666666666666,
          0.8333333333333334,
          0.8333333333333334,
          0.75,
          0.875,
          1,
          0.9583333333333334,
          0.9166666666666666,
          0.9583333333333334,
          0.7916666666666666,
          0.9166666666666666,
          0.875,
          0.75,
          0.8333333333333334,
          0.8333333333333334,
          0.8333333333333334,
          0.7083333333333334,
          0.9583333333333334,
          0.875,
          0.6666666666666666,
          0.8333333333333334,
          0.875,
          0.8333333333333334,
          0.7083333333333334,
          0.7916666666666666,
          0.9166666666666666,
          0.7083333333333334,
          0.9583333333333334,
          0.9166666666666666,
          0.7083333333333334,
          0.875,
          0.7916666666666666,
          0.75,
          0.875,
          0.7916666666666666,
          0.8333333333333334,
          0.9166666666666666,
          0.9166666666666666,
          0.8333333333333334,
          0.9166666666666666,
          0.8333333333333334,
          1,
          0.6666666666666666,
          0.7916666666666666,
          0.875,
          0.875,
          0.9583333333333334,
          0.7916666666666666,
          0.75,
          0.5833333333333334,
          0.875,
          0.875,
          1,
          0.875,
          0.8333333333333334,
          0.8333333333333334,
          0.875,
          0.8333333333333334,
          0.9166666666666666,
          0.9166666666666666,
          0.875,
          0.8333333333333334,
          0.8333333333333334,
          0.9166666666666666,
          0.8333333333333334,
          0.75,
          0.7916666666666666,
          0.7916666666666666,
          0.7083333333333334,
          0.8333333333333334,
          0.875,
          0.7916666666666666,
          0.6666666666666666,
          0.7083333333333334,
          0.5416666666666666,
          0.8333333333333334,
          0.875,
          0.7916666666666666,
          0.6666666666666666,
          0.8333333333333334,
          0.75,
          0.7916666666666666,
          0.8333333333333334,
          0.9166666666666666,
          0.7916666666666666,
          0.5833333333333334,
          0.625,
          0.6666666666666666,
          0.8333333333333334,
          0.8333333333333334,
          0.8333333333333334,
          0.625,
          0.875,
          0.625,
          0.9166666666666666,
          0.7916666666666666,
          0.8333333333333334,
          0.9166666666666666,
          0.6666666666666666,
          0.9583333333333334,
          0.625,
          0.75,
          0.7083333333333334,
          0.5833333333333334,
          0.7916666666666666,
          0.75,
          0.75,
          0.5416666666666666,
          0.7916666666666666,
          0.9166666666666666,
          0.6666666666666666,
          0.7916666666666666,
          0.75,
          0.8333333333333334,
          0.625,
          0.9166666666666666,
          0.75,
          0.875,
          0.8333333333333334,
          0.875,
          0.6666666666666666,
          0.6666666666666666,
          0.9166666666666666,
          0.8333333333333334,
          0.9166666666666666,
          0.75,
          0.75,
          0.9583333333333334,
          0.5833333333333334,
          0.7083333333333334,
          0.9583333333333334,
          0.875,
          0.875,
          0.875,
          0.8333333333333334,
          0.9583333333333334,
          0.75,
          0.875,
          0.9583333333333334,
          0.875,
          0.875,
          0.7916666666666666,
          0.75,
          0.7916666666666666,
          0.75,
          0.6666666666666666,
          0.8333333333333334,
          0.7083333333333334,
          0.7083333333333334,
          0.9166666666666666,
          0.875,
          0.7083333333333334,
          0.7083333333333334,
          0.875,
          0.9166666666666666,
          0.7916666666666666,
          0.9166666666666666,
          0.9583333333333334,
          0.6666666666666666,
          0.9166666666666666,
          0.9583333333333334,
          0.7916666666666666,
          0.75,
          0.9583333333333334,
          0.9166666666666666,
          0.75,
          0.6666666666666666,
          0.875,
          0.9583333333333334,
          0.7916666666666666,
          0.75,
          0.8333333333333334,
          0.7916666666666666,
          0.9166666666666666,
          0.9166666666666666,
          0.875,
          0.75,
          0.875,
          0.8333333333333334,
          0.9166666666666666,
          0.75,
          0.6666666666666666,
          1,
          0.8333333333333334,
          0.875,
          0.75,
          0.9583333333333334,
          0.625,
          0.875,
          0.9583333333333334,
          0.5416666666666666,
          0.7916666666666666,
          0.875,
          1,
          0.9166666666666666,
          0.7083333333333334,
          0.5833333333333334,
          0.8333333333333334,
          0.75,
          0.625,
          0.9166666666666666,
          0.9166666666666666,
          0.7083333333333334,
          0.9583333333333334,
          0.9583333333333334,
          0.9166666666666666,
          0.8333333333333334,
          0.7916666666666666,
          0.5,
          0.875,
          0.9166666666666666,
          0.7916666666666666,
          0.7083333333333334,
          0.875,
          0.625,
          0.7916666666666666,
          0.8333333333333334,
          0.8333333333333334,
          0.75,
          0.6666666666666666,
          0.875,
          0.9166666666666666,
          0.875,
          0.8333333333333334,
          0.9583333333333334,
          0.7916666666666666,
          0.9166666666666666,
          0.7916666666666666,
          0.9166666666666666,
          0.75,
          0.875,
          0.6666666666666666,
          0.875,
          0.9166666666666666,
          0.7083333333333334,
          1,
          0.7916666666666666,
          0.8333333333333334,
          0.875,
          0.625,
          0.875,
          0.7083333333333334,
          0.9583333333333334,
          0.875,
          0.7916666666666666,
          1,
          0.625,
          0.75,
          0.8333333333333334,
          0.7083333333333334,
          0.875,
          0.8333333333333334,
          0.875,
          0.8333333333333334,
          0.625,
          0.7916666666666666,
          0.7083333333333334,
          0.9166666666666666,
          1,
          0.9583333333333334,
          0.7916666666666666,
          0.7083333333333334,
          0.7083333333333334,
          0.8333333333333334,
          0.7916666666666666,
          0.8333333333333334,
          0.8333333333333334,
          0.625,
          0.625,
          0.875,
          0.9583333333333334,
          0.9583333333333334,
          0.875,
          0.875,
          0.75,
          0.8333333333333334,
          0.8333333333333334,
          0.625,
          0.9166666666666666,
          0.8333333333333334,
          0.9166666666666666,
          0.5416666666666666,
          0.7916666666666666,
          0.875,
          0.7916666666666666,
          0.7916666666666666,
          0.7083333333333334,
          0.9166666666666666,
          0.7916666666666666,
          0.8333333333333334,
          0.9166666666666666,
          0.75,
          0.8333333333333334,
          0.7916666666666666,
          0.8333333333333334,
          0.8333333333333334,
          0.6666666666666666,
          0.9166666666666666,
          0.625,
          0.875,
          0.75,
          0.875,
          0.9166666666666666,
          0.875,
          0.875,
          0.75,
          0.875,
          0.9166666666666666,
          0.75,
          0.7916666666666666,
          0.9583333333333334,
          0.7916666666666666,
          0.9166666666666666,
          0.7916666666666666,
          0.875,
          0.9166666666666666,
          0.875,
          0.75,
          0.75,
          0.875,
          0.875,
          0.9583333333333334,
          0.7083333333333334,
          0.9166666666666666,
          0.875,
          0.875,
          0.75,
          0.875,
          0.9166666666666666,
          0.7916666666666666,
          0.875,
          0.8333333333333334,
          0.8333333333333334,
          0.875,
          0.7916666666666666,
          0.7083333333333334,
          0.9166666666666666,
          0.9166666666666666,
          0.7916666666666666,
          0.6666666666666666,
          0.7083333333333334,
          0.625,
          0.7916666666666666,
          0.875,
          0.75,
          0.75,
          0.7916666666666666,
          0.875,
          0.7916666666666666,
          0.75,
          0.7916666666666666,
          0.7083333333333334,
          0.7083333333333334,
          0.7916666666666666,
          0.7916666666666666,
          0.875,
          0.8333333333333334,
          0.7083333333333334,
          0.75,
          0.8333333333333334,
          1,
          0.7916666666666666,
          0.875,
          0.875,
          0.8333333333333334,
          0.75,
          0.8333333333333334,
          0.5,
          0.5416666666666666,
          0.9583333333333334,
          0.875,
          0.7083333333333334,
          0.625,
          0.8333333333333334,
          0.8333333333333334,
          0.7916666666666666,
          0.875,
          0.7916666666666666,
          0.75,
          0.7083333333333334,
          0.875,
          0.7916666666666666,
          0.8333333333333334,
          0.8333333333333334,
          0.7916666666666666,
          0.625,
          0.625,
          0.6666666666666666,
          0.7916666666666666,
          0.9166666666666666,
          0.9166666666666666,
          0.8333333333333334,
          0.9166666666666666,
          0.8333333333333334,
          0.75,
          0.6666666666666666,
          0.7916666666666666,
          0.8333333333333334,
          0.7083333333333334,
          0.8333333333333334,
          0.8333333333333334,
          0.875,
          0.875,
          0.5833333333333334,
          0.8333333333333334,
          0.75,
          0.9166666666666666,
          0.8333333333333334,
          0.5416666666666666,
          0.7083333333333334,
          0.75,
          0.8333333333333334,
          0.875,
          0.7916666666666666,
          0.9166666666666666,
          0.9583333333333334,
          0.875,
          0.9166666666666666,
          0.75,
          0.7916666666666666,
          0.5416666666666666,
          0.625,
          0.75,
          0.875,
          0.7083333333333334,
          0.75,
          0.875,
          0.75,
          0.8333333333333334,
          0.875,
          0.75,
          0.625,
          0.75,
          0.875,
          0.75,
          0.8333333333333334,
          0.9583333333333334,
          0.75,
          0.6666666666666666,
          0.7916666666666666,
          0.875,
          0.7916666666666666,
          0.75,
          0.75,
          0.7083333333333334,
          0.8333333333333334,
          0.75,
          0.9583333333333334,
          0.7083333333333334,
          0.8333333333333334,
          0.8333333333333334,
          0.9583333333333334,
          0.875,
          0.75,
          0.7083333333333334,
          0.7083333333333334,
          0.7916666666666666,
          0.9583333333333334,
          0.5833333333333334,
          0.5833333333333334,
          0.9166666666666666,
          0.8333333333333334,
          0.7083333333333334,
          0.7083333333333334,
          0.7916666666666666,
          0.8333333333333334,
          0.875,
          0.8333333333333334,
          0.875,
          0.9166666666666666,
          0.7916666666666666,
          0.75,
          0.8333333333333334,
          0.7083333333333334,
          0.7083333333333334,
          0.7916666666666666,
          0.8333333333333334,
          0.7916666666666666,
          0.875,
          0.875,
          0.8333333333333334,
          0.6666666666666666,
          0.9166666666666666,
          0.7916666666666666,
          0.7916666666666666,
          0.7916666666666666,
          0.7916666666666666,
          0.875,
          0.6666666666666666,
          0.7916666666666666,
          0.875,
          0.9166666666666666,
          0.7916666666666666,
          0.625,
          0.75,
          0.8333333333333334,
          0.8333333333333334,
          0.8333333333333334,
          0.7916666666666666,
          0.8333333333333334,
          0.75,
          0.9166666666666666,
          0.625,
          0.7916666666666666,
          0.75,
          0.875,
          0.875,
          0.8333333333333334,
          0.7083333333333334,
          0.75,
          0.6666666666666666,
          0.7083333333333334,
          0.7083333333333334,
          0.7916666666666666,
          0.7083333333333334,
          0.8333333333333334,
          0.75,
          0.7916666666666666,
          0.7916666666666666,
          0.875,
          0.9166666666666666,
          0.7083333333333334,
          0.8333333333333334,
          0.8333333333333334,
          0.8333333333333334,
          0.875,
          0.75,
          0.9583333333333334,
          0.8333333333333334,
          0.9166666666666666,
          0.9166666666666666,
          0.7916666666666666,
          1,
          0.75,
          0.8333333333333334,
          0.9166666666666666,
          0.9166666666666666,
          0.875,
          0.75,
          0.75,
          0.8333333333333334,
          0.7916666666666666,
          0.8333333333333334,
          0.7916666666666666,
          0.875,
          0.6666666666666666,
          0.9166666666666666,
          0.7916666666666666,
          0.75,
          0.75,
          0.7916666666666666,
          0.625,
          0.8333333333333334,
          0.7916666666666666,
          0.75,
          0.8333333333333334,
          0.7916666666666666,
          0.75,
          0.8333333333333334,
          0.7916666666666666,
          0.9583333333333334,
          0.7916666666666666,
          0.7083333333333334,
          0.7083333333333334,
          0.7916666666666666,
          0.8333333333333334,
          0.75,
          0.75,
          0.875,
          0.75,
          0.7916666666666666,
          0.75,
          0.875,
          0.7916666666666666,
          0.5,
          0.8333333333333334,
          0.9166666666666666,
          0.7916666666666666,
          0.7916666666666666,
          0.7083333333333334,
          0.6666666666666666,
          0.9166666666666666,
          0.875,
          0.9166666666666666,
          0.875,
          0.8333333333333334,
          0.75,
          0.7083333333333334,
          0.625,
          0.75,
          0.875,
          0.875,
          0.9583333333333334,
          0.875,
          0.8333333333333334,
          0.9166666666666666,
          0.9583333333333334,
          0.9166666666666666,
          0.9166666666666666,
          0.75,
          0.7916666666666666,
          0.9583333333333334,
          0.7083333333333334,
          0.875,
          0.8333333333333334,
          0.8333333333333334,
          0.75,
          0.7916666666666666,
          0.75,
          0.8333333333333334,
          0.75,
          0.8333333333333334,
          0.75,
          0.75,
          0.7083333333333334,
          0.7916666666666666,
          0.8333333333333334,
          0.75,
          0.7916666666666666,
          0.875,
          0.8333333333333334,
          0.5416666666666666,
          0.9166666666666666,
          0.875,
          0.875,
          0.7916666666666666,
          0.75,
          0.9583333333333334,
          0.75,
          0.875,
          0.7916666666666666,
          0.7916666666666666,
          0.7083333333333334,
          0.8333333333333334,
          0.7083333333333334,
          0.9166666666666666,
          0.75,
          0.6666666666666666,
          0.625,
          0.75,
          0.75,
          0.8333333333333334,
          0.875,
          0.75,
          0.8333333333333334,
          0.9166666666666666,
          0.7916666666666666,
          0.7916666666666666,
          0.9166666666666666,
          0.8333333333333334,
          0.7916666666666666,
          0.875,
          0.8333333333333334,
          0.9166666666666666,
          0.9166666666666666,
          0.7916666666666666,
          0.6666666666666666,
          0.75,
          0.9166666666666666,
          0.8333333333333334,
          0.8333333333333334,
          0.8333333333333334,
          0.7916666666666666,
          0.9166666666666666,
          0.7916666666666666,
          0.9166666666666666,
          0.75,
          0.9166666666666666,
          0.7916666666666666,
          0.7916666666666666,
          0.875,
          0.8333333333333334,
          0.9166666666666666,
          0.7916666666666666,
          0.9583333333333334,
          0.7916666666666666,
          0.875,
          0.875,
          0.8333333333333334,
          0.7916666666666666,
          0.8333333333333334,
          0.7916666666666666,
          0.7083333333333334,
          0.7916666666666666,
          0.7083333333333334,
          0.7083333333333334,
          0.8333333333333334,
          0.875,
          0.8333333333333334,
          0.9583333333333334,
          0.7916666666666666,
          0.7916666666666666,
          0.8333333333333334,
          0.6666666666666666,
          0.875,
          0.8333333333333334,
          0.875,
          0.75,
          0.8333333333333334,
          0.9166666666666666,
          0.7916666666666666,
          0.875,
          0.7083333333333334,
          0.875,
          0.8333333333333334,
          0.9583333333333334,
          0.875,
          0.5416666666666666,
          0.625,
          0.8333333333333334,
          0.7083333333333334,
          0.7916666666666666,
          0.8333333333333334,
          0.625,
          0.7916666666666666,
          0.875,
          0.9166666666666666,
          0.7916666666666666,
          0.9583333333333334,
          0.7916666666666666,
          0.625,
          0.9583333333333334,
          0.75,
          0.9583333333333334,
          0.9583333333333334,
          0.6666666666666666,
          0.9166666666666666,
          0.9166666666666666,
          0.6666666666666666,
          0.875,
          0.9166666666666666,
          0.9166666666666666,
          0.875,
          0.5416666666666666,
          0.7916666666666666,
          0.75,
          0.9583333333333334,
          0.875,
          0.9166666666666666,
          0.7916666666666666,
          0.9166666666666666,
          0.875,
          0.75,
          0.9166666666666666,
          0.875,
          0.7916666666666666,
          0.7916666666666666,
          0.8333333333333334,
          0.9166666666666666,
          0.8333333333333334,
          0.7916666666666666,
          0.6666666666666666,
          0.8333333333333334,
          0.9166666666666666,
          0.875,
          0.875,
          0.875,
          0.625,
          0.8333333333333334,
          0.7083333333333334,
          0.6666666666666666,
          0.9166666666666666,
          0.9166666666666666,
          0.75,
          0.9583333333333334,
          0.9166666666666666,
          0.6666666666666666,
          0.8333333333333334,
          0.9583333333333334,
          0.75,
          0.7916666666666666,
          0.7083333333333334,
          0.7916666666666666,
          0.875,
          0.7916666666666666,
          0.75,
          0.7083333333333334,
          0.5833333333333334,
          0.625,
          0.7916666666666666,
          0.75,
          0.875,
          0.75,
          0.875,
          1,
          1,
          0.8333333333333334,
          0.875,
          0.7083333333333334,
          0.875,
          0.75,
          0.875,
          0.7916666666666666,
          0.8333333333333334,
          0.875,
          0.9166666666666666,
          0.875,
          0.8333333333333334,
          0.875,
          0.9166666666666666,
          0.875,
          0.8333333333333334,
          0.875,
          0.9583333333333334,
          0.7916666666666666,
          0.6666666666666666,
          0.9166666666666666,
          0.8333333333333334,
          0.8333333333333334,
          0.875,
          0.8333333333333334,
          0.7916666666666666,
          0.7916666666666666,
          1,
          0.5833333333333334,
          0.9166666666666666,
          0.8333333333333334,
          0.875,
          0.7083333333333334,
          0.7083333333333334,
          0.5,
          0.6666666666666666,
          0.6666666666666666,
          0.9166666666666666,
          0.7916666666666666,
          0.75,
          0.9166666666666666,
          0.9166666666666666,
          0.7916666666666666,
          0.7916666666666666,
          0.9166666666666666,
          0.7916666666666666,
          0.9583333333333334,
          0.75,
          0.875,
          0.9166666666666666,
          0.875,
          0.75,
          0.7916666666666666,
          0.8333333333333334,
          0.6666666666666666,
          0.9166666666666666,
          0.75,
          0.75,
          0.9166666666666666,
          0.9166666666666666,
          0.875,
          0.7083333333333334,
          0.9166666666666666,
          0.8333333333333334,
          0.8333333333333334,
          0.625,
          0.5833333333333334,
          0.7916666666666666,
          0.75,
          0.875,
          0.9166666666666666,
          0.6666666666666666,
          0.625,
          0.8333333333333334,
          0.8333333333333334,
          0.9166666666666666,
          0.8333333333333334,
          0.9583333333333334,
          0.75,
          0.9166666666666666,
          0.8333333333333334,
          0.9166666666666666,
          0.75,
          0.7916666666666666,
          0.875,
          0.8333333333333334,
          0.875,
          0.7916666666666666,
          0.875,
          0.8333333333333334,
          0.5833333333333334,
          0.875,
          0.75,
          0.8333333333333334,
          0.7916666666666666,
          0.625,
          0.75,
          0.9166666666666666,
          0.875,
          0.8333333333333334,
          0.7916666666666666,
          0.75,
          0.8333333333333334,
          0.7916666666666666,
          0.875,
          0.8333333333333334,
          0.8333333333333334,
          0.875,
          0.7916666666666666,
          0.7083333333333334,
          0.875,
          0.875,
          0.8333333333333334,
          0.9583333333333334,
          0.8333333333333334,
          0.7083333333333334,
          0.875,
          0.7083333333333334,
          0.7916666666666666,
          0.8333333333333334,
          0.9166666666666666,
          0.875,
          0.75,
          0.875,
          0.8333333333333334,
          0.75,
          0.9166666666666666,
          0.75,
          0.75,
          0.8333333333333334,
          0.7916666666666666,
          0.75,
          0.875,
          0.7916666666666666,
          0.8333333333333334,
          0.875,
          0.9166666666666666,
          0.6666666666666666,
          0.8333333333333334,
          0.875,
          0.9166666666666666,
          0.7916666666666666,
          0.75,
          0.9583333333333334,
          0.9166666666666666,
          0.8333333333333334,
          0.9166666666666666,
          0.8333333333333334,
          0.875,
          0.8333333333333334,
          0.625,
          0.9583333333333334,
          0.5833333333333334,
          0.5416666666666666,
          0.9166666666666666,
          1,
          0.7083333333333334,
          0.7916666666666666,
          0.9583333333333334,
          0.9166666666666666,
          0.625,
          0.7916666666666666,
          0.75,
          0.9166666666666666,
          0.7083333333333334,
          0.9166666666666666,
          0.8333333333333334,
          0.7916666666666666,
          0.7916666666666666,
          0.75,
          0.875,
          0.7083333333333334,
          0.7916666666666666,
          0.9166666666666666,
          0.8333333333333334,
          0.8333333333333334,
          0.875,
          0.75,
          0.8333333333333334,
          0.875,
          0.7916666666666666,
          0.6666666666666666,
          0.4583333333333333,
          0.875,
          0.6666666666666666,
          0.625,
          0.7916666666666666,
          0.7916666666666666,
          0.875,
          0.7083333333333334,
          0.75,
          0.875,
          0.9166666666666666,
          0.5416666666666666,
          0.9583333333333334,
          0.875,
          0.9166666666666666,
          0.9166666666666666,
          0.875,
          0.7083333333333334,
          0.7916666666666666,
          0.8333333333333334,
          0.3333333333333333,
          0.7916666666666666,
          0.8333333333333334,
          0.8333333333333334,
          0.8333333333333334,
          0.75,
          0.75,
          0.875,
          0.875,
          0.8333333333333334,
          0.75,
          0.75,
          0.9583333333333334,
          0.5833333333333334,
          0.8333333333333334,
          1,
          0.9166666666666666,
          0.8333333333333334,
          0.875,
          0.8333333333333334,
          0.8333333333333334,
          0.7916666666666666,
          0.8333333333333334,
          0.6666666666666666,
          0.7916666666666666,
          0.9166666666666666,
          0.7916666666666666,
          0.875,
          0.7083333333333334,
          0.6666666666666666,
          0.9166666666666666,
          0.8333333333333334,
          0.9166666666666666,
          0.75,
          0.75,
          0.7916666666666666,
          0.75,
          0.9166666666666666,
          0.7916666666666666,
          0.9166666666666666,
          0.7083333333333334,
          0.875,
          0.8333333333333334,
          0.875,
          0.9166666666666666,
          0.75,
          0.9583333333333334,
          0.875,
          0.9583333333333334,
          0.8333333333333334,
          0.9166666666666666,
          0.5,
          0.8333333333333334,
          0.7083333333333334,
          0.9583333333333334,
          0.875,
          0.875,
          0.7916666666666666,
          0.875,
          0.9166666666666666,
          0.625,
          0.7083333333333334,
          0.8333333333333334,
          0.8333333333333334,
          0.8333333333333334,
          0.75,
          0.7916666666666666,
          0.8333333333333334,
          0.4583333333333333,
          0.7916666666666666,
          0.7916666666666666,
          1,
          0.9583333333333334,
          0.8333333333333334,
          0.8333333333333334,
          0.8333333333333334,
          0.75,
          0.875,
          0.6666666666666666,
          0.875,
          0.9583333333333334,
          0.875,
          0.9166666666666666,
          0.8333333333333334,
          0.875,
          0.625,
          0.5416666666666666,
          0.9583333333333334,
          0.7083333333333334,
          0.7083333333333334,
          0.8333333333333334,
          0.625,
          0.875,
          0.9166666666666666,
          0.875,
          0.7916666666666666,
          0.7916666666666666,
          0.75,
          0.8333333333333334,
          0.7916666666666666,
          0.7916666666666666,
          0.9166666666666666,
          0.875,
          0.8333333333333334,
          0.875,
          0.6666666666666666,
          0.9583333333333334,
          0.75,
          0.8333333333333334,
          0.8333333333333334,
          0.625,
          0.7916666666666666,
          0.6666666666666666,
          0.8333333333333334,
          0.9166666666666666,
          0.9583333333333334,
          0.9166666666666666,
          0.9166666666666666,
          0.8333333333333334,
          0.7083333333333334,
          0.8333333333333334,
          0.8333333333333334,
          0.8333333333333334,
          0.9166666666666666,
          0.7916666666666666,
          0.8333333333333334,
          0.9583333333333334,
          0.9166666666666666,
          0.875,
          0.7916666666666666,
          0.7916666666666666,
          0.9166666666666666,
          0.9166666666666666,
          0.7916666666666666,
          0.8333333333333334,
          0.8333333333333334,
          0.7916666666666666,
          0.75,
          0.9583333333333334,
          0.875,
          0.7916666666666666,
          0.625,
          1,
          0.9166666666666666,
          0.9166666666666666,
          0.7916666666666666,
          0.875,
          0.8333333333333334,
          0.7916666666666666,
          0.8333333333333334,
          0.9166666666666666,
          0.8333333333333334,
          0.7083333333333334,
          0.75,
          0.6666666666666666,
          0.8333333333333334,
          0.9166666666666666,
          0.7916666666666666,
          0.875,
          0.875,
          0.75,
          0.8333333333333334,
          0.9166666666666666,
          0.8333333333333334,
          1,
          0.9583333333333334,
          0.7916666666666666,
          0.7083333333333334,
          0.8333333333333334,
          0.7916666666666666,
          0.875,
          0.875,
          0.875,
          0.9583333333333334,
          0.9166666666666666,
          0.9166666666666666,
          0.875,
          0.9166666666666666,
          0.8333333333333334,
          0.75,
          0.75,
          0.8333333333333334,
          0.7916666666666666,
          0.875,
          0.6666666666666666,
          0.0416666666666666,
          0.9583333333333334,
          0.7916666666666666,
          0.9583333333333334,
          0.9166666666666666,
          0.875,
          0.7916666666666666,
          0.9583333333333334,
          0.7083333333333334,
          0.9166666666666666,
          0.875,
          0.9166666666666666,
          0.9583333333333334,
          0.875,
          0.8333333333333334,
          0.9583333333333334,
          0.7916666666666666,
          0.9583333333333334,
          0.9583333333333334,
          0.9166666666666666,
          0.9166666666666666,
          0.75,
          0.5416666666666666,
          0.7083333333333334,
          0.9166666666666666,
          0.9166666666666666,
          0.9166666666666666,
          0.7083333333333334,
          0.9583333333333334,
          0.75,
          0.8333333333333334,
          1,
          0.8333333333333334,
          0.875,
          0.7916666666666666,
          0.8333333333333334,
          0.875,
          0.875,
          0.6666666666666666,
          0.75,
          0.8333333333333334,
          0.625,
          0.9583333333333334,
          0.9583333333333334,
          0.7916666666666666,
          0.75,
          1,
          0.8333333333333334,
          0.9583333333333334,
          0.7916666666666666,
          0.8333333333333334,
          0.9583333333333334,
          0.9166666666666666,
          0.875,
          0.9583333333333334,
          0.875,
          0.9583333333333334,
          0.7083333333333334,
          0.875,
          0.9166666666666666,
          0.9583333333333334,
          0.9583333333333334,
          0.875,
          0.9583333333333334,
          0.9583333333333334,
          0.9583333333333334,
          0.875,
          0.8333333333333334,
          0.8333333333333334,
          0.9583333333333334,
          0.875,
          0.9583333333333334,
          0.8333333333333334,
          0.75,
          0.9166666666666666,
          0.8333333333333334,
          0.9583333333333334,
          0.7083333333333334,
          0.9166666666666666,
          0.7083333333333334,
          0.8333333333333334,
          0.9166666666666666,
          0.875,
          0.9583333333333334,
          0.7916666666666666,
          0.75,
          0.8333333333333334,
          0.7916666666666666,
          0.7916666666666666,
          0.9583333333333334,
          0.9583333333333334,
          0.875,
          0.3333333333333333,
          0.875,
          0.8333333333333334,
          0.8333333333333334,
          0.9583333333333334,
          0.875,
          0.75,
          0.9166666666666666,
          0.9166666666666666,
          0.9166666666666666,
          0.7916666666666666,
          0.6666666666666666,
          0.8333333333333334,
          0.7916666666666666,
          0.875,
          0.9166666666666666,
          0.7916666666666666,
          0.9166666666666666,
          0.8333333333333334,
          0.9166666666666666,
          0.9166666666666666,
          0.9166666666666666,
          0.8333333333333334,
          0.9166666666666666,
          0.875,
          0.9166666666666666,
          0.9166666666666666,
          0.875,
          0.9166666666666666,
          0.7916666666666666,
          0.9583333333333334,
          0.8333333333333334,
          0.875,
          0.75,
          0.75,
          0.7083333333333334,
          0.7916666666666666,
          0.9166666666666666,
          0.9583333333333334,
          0.7916666666666666,
          0.9583333333333334,
          0.75,
          0.7916666666666666,
          0.7916666666666666,
          0.625,
          1,
          0.8333333333333334,
          0.9166666666666666,
          0.6666666666666666,
          0.7916666666666666,
          0.8333333333333334,
          0.75,
          0.875,
          0.875,
          0.875,
          0.8333333333333334,
          0.875,
          0.8333333333333334,
          0.8333333333333334,
          0.7916666666666666,
          0.9583333333333334,
          0.8333333333333334,
          0.75,
          0.7916666666666666,
          0.8333333333333334,
          0.875,
          0.75,
          0.8333333333333334,
          0.625,
          0.7916666666666666,
          0.7916666666666666,
          0.9166666666666666,
          0.9166666666666666,
          0.7083333333333334,
          0.9166666666666666,
          0.7083333333333334,
          0.7916666666666666,
          0.875,
          0.75,
          1,
          0.9166666666666666,
          1,
          0.9583333333333334,
          0.5833333333333334,
          0.9583333333333334,
          0.9166666666666666,
          0.9166666666666666,
          0.9583333333333334,
          0.9583333333333334,
          0.8333333333333334,
          0.7916666666666666,
          0.5,
          0.9583333333333334,
          0.9166666666666666,
          0.9166666666666666,
          0.875,
          0.875,
          0.875,
          0.7916666666666666,
          0.9166666666666666,
          0.7083333333333334,
          0.8333333333333334,
          0.9166666666666666,
          0.7916666666666666,
          0.7916666666666666,
          0.75,
          0.9166666666666666,
          0.875,
          0.875,
          0.9166666666666666,
          0.875,
          0.875,
          0.8333333333333334,
          0.875,
          0.9166666666666666,
          0.875,
          0.8333333333333334,
          0.9583333333333334,
          0.9583333333333334,
          0.9166666666666666,
          0.9583333333333334,
          0.9166666666666666,
          0.875,
          1,
          0.8333333333333334,
          1,
          0.7916666666666666,
          0.875,
          0.7916666666666666,
          1,
          1,
          0.8333333333333334,
          0.7083333333333334,
          0.5,
          0.875,
          0.7916666666666666,
          0.8333333333333334,
          0.9166666666666666,
          0.8333333333333334,
          0.7083333333333334,
          0.9583333333333334,
          0.7916666666666666,
          0.8333333333333334,
          0.875,
          0.9166666666666666,
          1,
          1,
          0.7083333333333334,
          0.875,
          0.6666666666666666,
          0.6666666666666666,
          0.9166666666666666,
          0.875,
          0.875,
          0.875,
          0.8333333333333334,
          1,
          1,
          0.9166666666666666,
          0.9583333333333334,
          0.8333333333333334,
          0.8333333333333334,
          0.875,
          0.8333333333333334,
          0.9166666666666666,
          0.9166666666666666,
          0.875,
          0.875,
          0.9166666666666666,
          0.625,
          0.9166666666666666,
          0.875,
          0.8333333333333334,
          1,
          0.9166666666666666,
          1,
          0.8333333333333334,
          0.875,
          0.9166666666666666,
          0.9583333333333334,
          0.9166666666666666,
          0.875,
          0.9166666666666666,
          1,
          0.9166666666666666,
          0.8333333333333334,
          0.7916666666666666,
          0.9166666666666666,
          0.8333333333333334,
          0.875,
          0.875,
          0.8333333333333334,
          0.8333333333333334,
          0.75,
          0.75,
          0.9166666666666666,
          0.8333333333333334,
          0.9583333333333334,
          1,
          0.875,
          0.875,
          0.8333333333333334,
          0.875,
          0.9583333333333334,
          0.7083333333333334,
          0.9583333333333334,
          0.8333333333333334,
          0.9583333333333334,
          0.75,
          0.875,
          0.9583333333333334,
          0.9583333333333334,
          0.875,
          0.875,
          0.7916666666666666,
          0.875,
          0.7916666666666666,
          0.875,
          0.875,
          0.5833333333333334,
          0.7083333333333334,
          0.9166666666666666,
          1,
          0.8333333333333334,
          0.8333333333333334,
          0.625,
          1,
          0.9166666666666666,
          0.9583333333333334,
          0.9583333333333334,
          0.9583333333333334,
          0.875,
          0.9166666666666666,
          0.875,
          0.9166666666666666,
          0.9166666666666666,
          0.7916666666666666,
          0.875,
          0.7916666666666666,
          0.7916666666666666,
          0.875,
          0.75,
          0.8333333333333334,
          0.75,
          0.8333333333333334,
          0.875,
          0.625,
          0.7916666666666666,
          0.8333333333333334,
          0.9166666666666666,
          0.6666666666666666,
          0.8333333333333334,
          0.8333333333333334,
          0.7916666666666666,
          0.7083333333333334,
          0.75,
          0.875,
          0.6666666666666666,
          0.8333333333333334,
          0.75,
          0.875,
          0.875,
          0.8333333333333334,
          0.7916666666666666,
          0.875,
          0.875,
          0.7916666666666666,
          0.875,
          0.7083333333333334,
          0.5833333333333334,
          0.5416666666666666,
          0.8333333333333334,
          0.875,
          0.75,
          0.8333333333333334,
          0.7916666666666666,
          0.8333333333333334,
          0.75,
          0.7916666666666666,
          0.9166666666666666,
          0.9166666666666666,
          0.875,
          0.7083333333333334,
          0.5,
          0.7916666666666666,
          0.7916666666666666,
          0.9166666666666666,
          0.7916666666666666,
          0.875,
          0.8333333333333334,
          0.7916666666666666,
          0.75,
          0.9166666666666666,
          0.7916666666666666,
          0.8333333333333334,
          0.7916666666666666,
          0.9166666666666666,
          0.7916666666666666,
          0.8333333333333334,
          0.8333333333333334,
          0.875,
          0.75,
          0.875,
          0.8333333333333334,
          0.7916666666666666,
          0.875,
          0.9583333333333334,
          0.75,
          0.8333333333333334,
          0.4583333333333333,
          0.875,
          0.6666666666666666,
          0.8333333333333334,
          0.7083333333333334,
          0.875,
          0.7916666666666666,
          0.9583333333333334,
          0.9166666666666666,
          0.7916666666666666,
          0.75,
          0.8333333333333334,
          0.9583333333333334,
          0.875,
          0.9166666666666666,
          0.8333333333333334,
          0.875,
          0.875,
          0.9166666666666666,
          0.9583333333333334,
          0.875,
          0.9166666666666666,
          0.875,
          0.9166666666666666,
          0.7916666666666666,
          0.9166666666666666,
          0.75,
          0.9166666666666666,
          0.875,
          0.875,
          0.875,
          0.8333333333333334,
          0.875,
          0.8333333333333334,
          0.9166666666666666,
          0.9583333333333334,
          0.875,
          0.9166666666666666,
          0.9583333333333334,
          0.9583333333333334,
          0.875,
          0.7916666666666666,
          0.9166666666666666,
          0.8333333333333334,
          0.9166666666666666,
          0.8333333333333334,
          0.7916666666666666,
          0.9166666666666666,
          0.9166666666666666,
          0.9583333333333334,
          0.875,
          0.9583333333333334,
          0.8333333333333334,
          0.8333333333333334,
          0.8333333333333334,
          0.875,
          0.8333333333333334,
          0.9166666666666666,
          0.875,
          0.8333333333333334,
          0.7083333333333334,
          0.875,
          0.875,
          0.7916666666666666,
          0.875,
          0.75,
          0.875,
          0.875,
          0.8333333333333334,
          0.875,
          0.9583333333333334,
          0.7916666666666666,
          0.6666666666666666,
          0.875,
          0.875,
          0.875,
          0.9166666666666666,
          0.9166666666666666,
          0.9166666666666666,
          0.8333333333333334,
          0.875,
          0.875,
          0.8333333333333334,
          0.9166666666666666,
          0.8333333333333334,
          0.875,
          0.9166666666666666,
          0.7916666666666666,
          0.6666666666666666,
          0.9166666666666666,
          0.9166666666666666,
          0.875,
          0.9166666666666666,
          0.875,
          0.8333333333333334,
          0.8333333333333334,
          0.875,
          0.9583333333333334,
          0.7916666666666666,
          0.875,
          0.875,
          0.875,
          0.875,
          0.875,
          0.875,
          0.8333333333333334,
          0.9583333333333334,
          0.625,
          0.9166666666666666,
          0.7916666666666666,
          0.9166666666666666,
          0.9166666666666666,
          0.9583333333333334,
          0.875,
          0.875,
          0.9166666666666666,
          0.875,
          0.875,
          0.875,
          0.8333333333333334,
          0.9166666666666666,
          0.9583333333333334,
          0.875,
          0.875,
          0.875,
          0.875,
          0.875,
          0.875,
          0.9583333333333334,
          0.7916666666666666,
          0.8333333333333334,
          0.9166666666666666,
          0.875,
          0.9583333333333334,
          0.75,
          0.9166666666666666,
          0.8333333333333334,
          0.9583333333333334,
          0.7083333333333334,
          0.8333333333333334,
          0.9166666666666666,
          0.8333333333333334,
          0.7916666666666666,
          0.8333333333333334,
          0.9166666666666666,
          0.9583333333333334,
          0.7916666666666666,
          0.9583333333333334,
          0.6666666666666666,
          0.9583333333333334,
          0.8333333333333334,
          0.875,
          0.9166666666666666,
          0.9583333333333334,
          0.875,
          0.9583333333333334,
          0.9166666666666666,
          0.9166666666666666,
          0.8333333333333334,
          0.9583333333333334,
          0.9166666666666666,
          0.9583333333333334,
          0.9583333333333334,
          0.9583333333333334,
          0.875,
          0.75,
          0.9166666666666666,
          0.7916666666666666,
          0.9166666666666666,
          0.875,
          0.9583333333333334,
          0.5833333333333334,
          0.9583333333333334,
          0.8333333333333334,
          0.6666666666666666,
          0.9583333333333334,
          0.9583333333333334,
          0.7083333333333334,
          0.9583333333333334,
          0.9166666666666666,
          0.7916666666666666,
          0.8333333333333334,
          0.8333333333333334,
          0.875,
          0.9166666666666666,
          0.8333333333333334,
          0.625,
          0.7916666666666666,
          0.9166666666666666,
          0.7916666666666666,
          0.875,
          0.8333333333333334,
          0.9166666666666666,
          0.9583333333333334,
          0.9583333333333334,
          0.8333333333333334,
          0.9166666666666666,
          0.9166666666666666,
          0.875,
          0.9166666666666666,
          0.9166666666666666,
          0.875,
          0.875,
          0.875,
          0.7916666666666666,
          0.875,
          0.875,
          0.875,
          0.9166666666666666,
          0.5833333333333334,
          0.8333333333333334,
          0.9583333333333334,
          0.8333333333333334,
          0.7083333333333334,
          0.625,
          0.8333333333333334,
          1,
          0.875,
          0.7916666666666666,
          0.8333333333333334,
          0.8333333333333334,
          0.5416666666666666,
          0.9583333333333334,
          0.7916666666666666,
          0.875,
          0.9583333333333334,
          0.875,
          0.9166666666666666,
          0.5833333333333334,
          0.875,
          0.7916666666666666,
          0.7916666666666666,
          0.9166666666666666,
          0.75,
          0.625,
          0.75,
          0.7083333333333334,
          0.7083333333333334,
          0.9166666666666666,
          0.9166666666666666,
          0.8333333333333334,
          0.8333333333333334,
          0.75,
          0.7916666666666666,
          0.75,
          0.7916666666666666,
          0.7916666666666666,
          0.875,
          0.5833333333333334,
          0.8333333333333334,
          0.75,
          0.7916666666666666,
          0.75,
          0.875,
          0.6666666666666666,
          0.9166666666666666,
          0.75,
          0.8333333333333334,
          0.8333333333333334,
          0.875,
          0.6666666666666666,
          0.875,
          0.9166666666666666,
          0.875,
          0.7916666666666666,
          0.7916666666666666,
          0.7083333333333334,
          0.7083333333333334,
          0.6666666666666666,
          0.7083333333333334,
          0.875,
          0.8333333333333334,
          0.7083333333333334,
          0.9583333333333334,
          0.7916666666666666,
          0.8333333333333334,
          0.7916666666666666,
          0.8333333333333334,
          0.7916666666666666,
          0.9166666666666666,
          0.6666666666666666,
          0.75,
          0.875,
          0.875,
          0.7916666666666666,
          0.75,
          0.8333333333333334,
          0.7916666666666666,
          0.8333333333333334,
          0.7916666666666666,
          0.75,
          0.8333333333333334,
          0.8333333333333334,
          0.8333333333333334,
          0.7916666666666666,
          0.8333333333333334,
          0.6666666666666666,
          0.7916666666666666,
          0.875,
          0.7916666666666666,
          0.75,
          0.7083333333333334,
          0.7916666666666666,
          0.7916666666666666,
          0.8333333333333334,
          0.7916666666666666,
          0.875,
          0.625,
          0.6666666666666666,
          0.875,
          0.75,
          0.875,
          0.7083333333333334,
          0.8333333333333334,
          0.9583333333333334,
          0.75,
          0.7916666666666666,
          0.6666666666666666,
          0.75,
          0.7916666666666666,
          0.875,
          0.8333333333333334,
          0.875,
          0.7916666666666666,
          0.875,
          0.8333333333333334,
          0.9583333333333334,
          0.7083333333333334,
          0.875,
          0.7916666666666666,
          0.6666666666666666,
          0.9166666666666666,
          0.75,
          0.8333333333333334,
          0.8333333333333334,
          0.75,
          0.7916666666666666,
          0.5833333333333334,
          0.9166666666666666,
          0.8333333333333334,
          0.875,
          0.9166666666666666,
          0.7083333333333334,
          0.75,
          0.625,
          0.8333333333333334,
          0.7916666666666666,
          0.8333333333333334,
          0.75,
          0.8333333333333334,
          0.625,
          0.8333333333333334,
          0.75,
          0.7916666666666666,
          0.7083333333333334,
          0.875,
          0.7916666666666666,
          0.6666666666666666,
          0.7916666666666666,
          0.75,
          0.875,
          0.875,
          0.625,
          0.8333333333333334,
          0.8333333333333334,
          0.8333333333333334,
          0.875,
          0.8333333333333334,
          0.75,
          0.8333333333333334,
          0.9166666666666666,
          0.8333333333333334,
          0.7916666666666666,
          0.875,
          0.9166666666666666,
          0.8333333333333334,
          0.7916666666666666,
          0.8333333333333334,
          0.625,
          0.9166666666666666,
          0.7916666666666666,
          0.8333333333333334,
          0.7916666666666666,
          0.875,
          0.875,
          1,
          0.7916666666666666,
          0.7916666666666666,
          0.6666666666666666,
          0.8333333333333334,
          0.7916666666666666,
          0.9166666666666666,
          0.8333333333333334,
          0.7916666666666666,
          0.75,
          0.6666666666666666,
          0.6666666666666666,
          0.8333333333333334,
          0.875,
          0.5416666666666666,
          0.8333333333333334,
          0.625,
          0.875,
          0.75,
          0.7083333333333334,
          0.7083333333333334,
          0.7916666666666666,
          0.75,
          0.75,
          0.875,
          0.9166666666666666,
          0.9166666666666666,
          0.875,
          0.75,
          0.7916666666666666,
          0.75,
          0.7916666666666666,
          0.75,
          0.9166666666666666,
          0.8333333333333334,
          0.625,
          0.7916666666666666,
          0.875,
          0.625,
          0.875,
          0.7083333333333334,
          0.8333333333333334,
          0.4583333333333333,
          0.7916666666666666,
          0.75,
          0.9166666666666666,
          0.7083333333333334,
          0.6666666666666666,
          0.375,
          0.9166666666666666,
          0.8333333333333334,
          0.7916666666666666,
          0.625,
          0.7083333333333334,
          0.75,
          0.7083333333333334,
          0.7916666666666666,
          0.5416666666666666,
          0.6666666666666666,
          0.8333333333333334,
          0.8333333333333334,
          0.875,
          0.8333333333333334,
          0.8333333333333334,
          0.7083333333333334,
          0.8333333333333334,
          0.7083333333333334,
          0.875,
          0.75,
          0.875,
          0.75,
          0.7916666666666666,
          0.75,
          0.875,
          0.7916666666666666,
          0.8333333333333334,
          0.8333333333333334,
          0.7916666666666666,
          0.9166666666666666,
          0.9166666666666666,
          0.8333333333333334,
          0.7083333333333334,
          0.75,
          0.8333333333333334,
          0.6666666666666666,
          0.9166666666666666,
          0.6666666666666666,
          0.6666666666666666,
          0.75,
          0.875,
          0.7916666666666666,
          0.9583333333333334,
          0.8333333333333334,
          0.75,
          0.75,
          0.7916666666666666,
          0.875,
          0.7916666666666666,
          0.7916666666666666,
          0.625,
          0.625,
          0.875,
          0.7916666666666666,
          0.8333333333333334,
          0.7916666666666666,
          0.75,
          0.875,
          0.625,
          0.7916666666666666,
          0.8333333333333334,
          0.5,
          0.7916666666666666,
          0.7916666666666666,
          0.875,
          0.7916666666666666,
          0.7916666666666666,
          0.7916666666666666,
          0.8333333333333334,
          0.8333333333333334,
          0.875,
          0.7916666666666666,
          0.7083333333333334,
          0.7083333333333334,
          0.875,
          0.7083333333333334,
          0.875,
          0.75,
          0.875,
          0.875,
          0.9166666666666666,
          0.8333333333333334,
          0.5416666666666666,
          0.8333333333333334,
          0.5833333333333334,
          0.5833333333333334,
          0.7083333333333334,
          0.6666666666666666,
          0.875,
          0.5833333333333334,
          0.7083333333333334,
          0.75,
          0.625,
          0.6666666666666666,
          0.75,
          0.75,
          0.75,
          0.7916666666666666,
          0.7083333333333334,
          0.6666666666666666,
          0.75,
          0.6666666666666666,
          0.7083333333333334,
          0.7916666666666666,
          0.75,
          0.8333333333333334,
          0.7916666666666666,
          0.5833333333333334,
          0.7083333333333334,
          0.7083333333333334,
          0.625,
          0.75,
          0.625,
          0.75,
          0.8333333333333334,
          0.7916666666666666,
          0.75,
          0.8333333333333334,
          0.7916666666666666,
          0.75,
          0.625,
          0.625,
          0.875,
          0.6666666666666666,
          0.5833333333333334,
          0.625,
          0.9166666666666666,
          0.875,
          0.75,
          0.8333333333333334,
          0.875,
          0.7916666666666666,
          0.7083333333333334,
          0.7083333333333334,
          0.625,
          0.7916666666666666,
          0.7916666666666666,
          0.8333333333333334,
          0.875,
          0.75,
          0.7916666666666666,
          0.7916666666666666,
          0.7083333333333334,
          0.6666666666666666,
          0.7916666666666666,
          0.7916666666666666,
          0.7916666666666666,
          0.7916666666666666,
          0.7916666666666666,
          0.6666666666666666,
          0.75,
          0.6666666666666666,
          0.875,
          0.5833333333333334,
          0.9166666666666666,
          0.625,
          0.8333333333333334,
          0.7083333333333334,
          1,
          0.7916666666666666,
          0.8333333333333334,
          0.7916666666666666,
          0.8333333333333334,
          0.75,
          0.7916666666666666,
          0.6666666666666666,
          0.75,
          0.875,
          0.9166666666666666,
          0.625,
          0.7083333333333334,
          0.7916666666666666,
          0.8333333333333334,
          0.8333333333333334,
          0.8333333333333334,
          0.7916666666666666,
          0.7916666666666666,
          0.7083333333333334,
          0.7916666666666666,
          0.7916666666666666,
          0.7916666666666666,
          0.875,
          0.6666666666666666,
          0.5416666666666666,
          0.7916666666666666,
          0.7083333333333334,
          0.8333333333333334,
          0.9583333333333334,
          0.7916666666666666,
          0.875,
          0.7916666666666666,
          0.75,
          0.75,
          0.8333333333333334,
          0.625,
          0.9166666666666666,
          0.7083333333333334,
          0.9583333333333334,
          0.6666666666666666,
          0.75,
          0.7083333333333334,
          0.6666666666666666,
          0.7083333333333334,
          0.75,
          0.75,
          0.6666666666666666,
          0.7916666666666666,
          0.75,
          0.875,
          0.75,
          0.875,
          0.5833333333333334,
          0.6666666666666666,
          0.875,
          0.8333333333333334,
          0.7083333333333334,
          0.8333333333333334,
          0.6666666666666666,
          0.6666666666666666,
          0.7916666666666666,
          0.7916666666666666,
          0.75,
          0.6666666666666666,
          0.7916666666666666,
          0.875,
          0.7916666666666666,
          0.5833333333333334,
          0.7083333333333334,
          0.7083333333333334,
          0.6666666666666666,
          0.7916666666666666,
          0.75,
          0.75,
          0.7916666666666666,
          0.75,
          0.7916666666666666,
          0.7916666666666666,
          0.7916666666666666,
          0.625,
          0.7916666666666666,
          0.9166666666666666,
          0.7916666666666666,
          0.7083333333333334,
          0.8333333333333334,
          0.7916666666666666,
          0.7916666666666666,
          0.7083333333333334,
          0.7916666666666666,
          0.75,
          0.7916666666666666,
          0.75,
          0.8333333333333334,
          0.75,
          0.75,
          0.9166666666666666,
          0.6666666666666666,
          0.875,
          0.7916666666666666,
          0.7916666666666666,
          0.9166666666666666,
          0.8333333333333334,
          0.875,
          0.875,
          0.875,
          0.8333333333333334,
          0.625,
          0.7916666666666666,
          0.875,
          1,
          0.75,
          0.7916666666666666,
          0.7916666666666666,
          0.6666666666666666,
          0.7916666666666666,
          0.6666666666666666,
          0.875,
          0.9583333333333334,
          0.9583333333333334,
          0.7916666666666666,
          0.7916666666666666,
          0.625,
          0.75,
          0.6666666666666666,
          0.75,
          0.8333333333333334,
          0.9166666666666666,
          0.7916666666666666,
          0.875,
          0.7083333333333334,
          0.875,
          0.8333333333333334,
          0.8333333333333334,
          0.75,
          0.75,
          0.875,
          0.8333333333333334,
          0.75,
          0.8333333333333334,
          0.6666666666666666,
          0.875,
          0.9583333333333334,
          0.7916666666666666,
          0.75,
          0.7916666666666666,
          0.5,
          0.625,
          0.9583333333333334,
          0.8333333333333334,
          0.6666666666666666,
          0.625,
          0.8333333333333334,
          0.6666666666666666,
          0.7083333333333334,
          0.75,
          0.7083333333333334,
          0.7083333333333334,
          0.625,
          0.6666666666666666,
          0.7916666666666666,
          0.8333333333333334,
          0.6666666666666666,
          0.6666666666666666,
          0.625,
          0.5,
          0.7083333333333334,
          0.625,
          0.8333333333333334,
          0.7916666666666666,
          0.8333333333333334,
          0.6666666666666666,
          0.8333333333333334,
          0.7083333333333334,
          0.625,
          0.7083333333333334,
          0.8333333333333334,
          0.9166666666666666,
          0.8333333333333334,
          0.875,
          0.7083333333333334,
          0.7916666666666666,
          0.7916666666666666,
          0.5,
          0.7083333333333334,
          0.875,
          0.8333333333333334,
          0.7916666666666666,
          0.7083333333333334,
          0.8333333333333334,
          0.9583333333333334,
          0.5833333333333334,
          0.875,
          0.8333333333333334,
          0.7083333333333334,
          0.9583333333333334,
          0.7083333333333334,
          1,
          0.8333333333333334,
          0.8333333333333334,
          0.9166666666666666,
          0.625,
          0.75,
          0.7083333333333334,
          0.5,
          0.7916666666666666,
          0.8333333333333334,
          0.7083333333333334,
          0.5833333333333334,
          0.7916666666666666,
          0.7916666666666666,
          0.7916666666666666,
          0.75,
          0.8333333333333334,
          0.7083333333333334,
          0.9166666666666666,
          0.75,
          0.9166666666666666,
          0.875,
          0.75,
          0.9166666666666666,
          0.7916666666666666,
          0.9166666666666666,
          0.9166666666666666,
          0.75,
          0.7916666666666666,
          0.7083333333333334,
          0.875,
          0.7083333333333334,
          0.75,
          0.875,
          0.7916666666666666,
          0.7083333333333334,
          0.7083333333333334,
          0.875,
          0.875,
          0.7916666666666666,
          0.7916666666666666,
          0.8333333333333334,
          0.9166666666666666,
          0.9166666666666666,
          0.7083333333333334,
          0.8333333333333334,
          0.8333333333333334,
          0.75,
          0.625,
          0.9166666666666666,
          0.8333333333333334,
          0.875,
          1,
          0.8333333333333334,
          0.8333333333333334,
          0.8333333333333334,
          0.7083333333333334,
          0.7916666666666666,
          0.75,
          0.8333333333333334,
          0.875,
          0.875,
          0.625,
          0.9166666666666666,
          0.75,
          0.875,
          0.75,
          0.625,
          0.7916666666666666,
          0.875,
          0.8333333333333334,
          0.7916666666666666,
          0.75,
          0.7083333333333334,
          0.9583333333333334,
          0.7916666666666666,
          0.9166666666666666,
          0.7916666666666666,
          0.7916666666666666,
          0.8333333333333334,
          0.875,
          0.8333333333333334,
          0.6666666666666666,
          0.6666666666666666,
          0.7083333333333334,
          0.6666666666666666,
          0.7083333333333334,
          0.8333333333333334,
          0.8333333333333334,
          0.875,
          0.6666666666666666,
          0.9166666666666666,
          0.9166666666666666,
          0.8333333333333334,
          0.875,
          0.7083333333333334,
          0.7916666666666666,
          0.875,
          0.7083333333333334,
          0.6666666666666666,
          0.875,
          0.9166666666666666,
          0.9166666666666666,
          0.8333333333333334,
          0.7916666666666666,
          0.8333333333333334,
          0.8333333333333334,
          0.7916666666666666,
          1,
          0.875,
          0.7916666666666666,
          0.8333333333333334,
          0.9166666666666666,
          0.875,
          0.7083333333333334,
          0.875,
          0.875,
          0.7083333333333334,
          0.9166666666666666,
          0.5,
          0.7916666666666666,
          0.9166666666666666,
          0.9166666666666666,
          0.875,
          0.8333333333333334,
          0.75,
          0.7916666666666666,
          0.875,
          0.75,
          0.7916666666666666,
          0.875,
          0.8333333333333334,
          0.7083333333333334,
          0.7916666666666666,
          0.6666666666666666,
          0.6666666666666666,
          0.7083333333333334,
          0.7083333333333334,
          0.8333333333333334,
          0.8333333333333334,
          0.8333333333333334,
          0.8333333333333334,
          0.75,
          0.8333333333333334,
          0.875,
          0.7083333333333334,
          0.875,
          0.75,
          0.75,
          0.6666666666666666,
          0.7916666666666666,
          0.8333333333333334,
          0.8333333333333334,
          0.9166666666666666,
          0.75,
          0.7916666666666666,
          0.75,
          0.8333333333333334,
          1,
          0.9583333333333334,
          0.6666666666666666,
          0.9166666666666666,
          0.8333333333333334,
          0.75,
          0.75,
          0.6666666666666666,
          0.7916666666666666,
          0.7083333333333334,
          0.625,
          0.875,
          0.4583333333333333,
          0.75,
          0.875,
          0.75,
          0.75,
          0.75,
          0.75,
          0.9166666666666666,
          0.75,
          0.8333333333333334,
          0.9166666666666666,
          0.8333333333333334,
          0.7916666666666666,
          0.875,
          0.75,
          0.75,
          0.625,
          0.625,
          0.875,
          0.7083333333333334,
          0.8333333333333334,
          0.75,
          0.7916666666666666,
          0.875,
          0.7916666666666666,
          0.75,
          0.7083333333333334,
          0.8333333333333334,
          0.6666666666666666,
          0.8333333333333334,
          0.75,
          0.7916666666666666,
          0.8333333333333334,
          0.75,
          0.7916666666666666,
          0.8333333333333334,
          0.5833333333333334,
          0.75,
          0.75,
          0.9166666666666666,
          0.875,
          0.8333333333333334,
          0.875,
          0.75,
          0.9583333333333334,
          0.875,
          0.8333333333333334,
          0.7083333333333334,
          0.75,
          0.7916666666666666,
          0.7083333333333334,
          0.7083333333333334,
          0.7083333333333334,
          0.75,
          0.5833333333333334,
          0.8333333333333334,
          0.75,
          0.875,
          0.75,
          0.9166666666666666,
          0.7916666666666666,
          0.7916666666666666,
          0.9166666666666666,
          0.875,
          0.875,
          0.8333333333333334,
          0.8333333333333334,
          0.75,
          0.8333333333333334,
          0.75,
          0.9166666666666666,
          0.8333333333333334,
          0.75,
          0.7916666666666666,
          0.75,
          0.75,
          0.8333333333333334,
          0.7916666666666666,
          0.7916666666666666,
          0.7083333333333334,
          0.7916666666666666,
          0.8333333333333334,
          0.875,
          0.75,
          0.9583333333333334,
          0.75,
          0.7083333333333334,
          0.9166666666666666,
          0.75,
          0.6666666666666666,
          0.9583333333333334,
          0.8333333333333334,
          0.625,
          0.7083333333333334,
          0.6666666666666666,
          0.875,
          0.75,
          0.875,
          0.9583333333333334,
          0.7083333333333334,
          0.7916666666666666,
          0.8333333333333334,
          0.75,
          0.9166666666666666,
          0.7916666666666666,
          0.75,
          0.7916666666666666,
          0.7916666666666666,
          0.7916666666666666,
          0.6666666666666666,
          0.7916666666666666,
          0.7083333333333334,
          0.7916666666666666,
          0.7083333333333334,
          0.75,
          0.7916666666666666,
          0.7916666666666666,
          0.7083333333333334,
          0.7916666666666666,
          0.5833333333333334,
          0.5416666666666666,
          0.7083333333333334,
          0.75,
          0.875,
          0.75,
          0.8333333333333334,
          0.8333333333333334,
          0.8333333333333334,
          0.75,
          0.8333333333333334,
          0.5416666666666666,
          0.6666666666666666,
          0.875,
          0.8333333333333334,
          0.875,
          0.75,
          0.6666666666666666,
          0.7916666666666666,
          0.8333333333333334,
          0.7083333333333334,
          0.7083333333333334,
          0.75,
          0.6666666666666666,
          0.875,
          0.6666666666666666,
          0.875,
          0.625,
          0.7916666666666666,
          0.7083333333333334,
          0.75,
          0.8333333333333334,
          0.8333333333333334,
          0.5416666666666666,
          0.75,
          0.7083333333333334,
          0.8333333333333334,
          0.8333333333333334,
          0.5833333333333334,
          0.7916666666666666,
          0.7916666666666666,
          0.7916666666666666,
          0.7916666666666666,
          0.75,
          0.875,
          0.625,
          0.75,
          0.8333333333333334,
          0.7916666666666666,
          0.875,
          0.4166666666666667,
          0.75,
          0.75,
          0.8333333333333334,
          0.7916666666666666,
          0.7916666666666666,
          0.7083333333333334,
          0.7916666666666666,
          0.7916666666666666,
          0.75,
          0.7083333333333334,
          0.5416666666666666,
          0.75,
          0.6666666666666666,
          0.75,
          0.875,
          0.9166666666666666,
          0.7916666666666666,
          0.8333333333333334,
          0.625,
          0.8333333333333334,
          0.8333333333333334,
          0.8333333333333334,
          0.8333333333333334,
          0.6666666666666666,
          0.7916666666666666,
          0.6666666666666666,
          0.625,
          0.5833333333333334,
          0.7083333333333334,
          0.7916666666666666,
          0.7916666666666666,
          0.625,
          0.6666666666666666,
          0.8333333333333334,
          0.7916666666666666,
          0.9166666666666666,
          0.625,
          0.7083333333333334,
          0.8333333333333334,
          0.625,
          0.75,
          0.7916666666666666,
          0.75,
          0.875,
          0.6666666666666666,
          0.75,
          0.7916666666666666,
          0.875,
          0.7083333333333334,
          0.75,
          0.625,
          0.7916666666666666,
          0.625,
          0.7083333333333334,
          0.75,
          0.7916666666666666,
          0.6666666666666666,
          0.7083333333333334,
          0.8333333333333334,
          0.8333333333333334,
          0.8333333333333334,
          0.75,
          0.7083333333333334,
          0.7916666666666666,
          0.75,
          0.7083333333333334,
          0.6666666666666666,
          0.875,
          0.7916666666666666,
          0.6666666666666666,
          0.8333333333333334,
          0.875,
          0.8333333333333334,
          0.875,
          0.8333333333333334,
          0.75,
          0.625,
          0.75,
          0.7083333333333334,
          0.7916666666666666,
          0.75,
          0.8333333333333334,
          0.9166666666666666,
          0.7083333333333334,
          0.75,
          0.75,
          0.8333333333333334,
          0.7916666666666666,
          0.7083333333333334,
          0.7083333333333334,
          0.8333333333333334,
          0.8333333333333334,
          0.7916666666666666,
          0.75,
          0.7083333333333334,
          0.7916666666666666,
          0.5416666666666666,
          0.6666666666666666,
          0.7083333333333334,
          0.9166666666666666,
          0.6666666666666666,
          0.6666666666666666,
          0.75,
          0.8333333333333334,
          0.625,
          0.75,
          0.7916666666666666,
          0.75,
          0.7083333333333334,
          0.75,
          0.7916666666666666,
          0.7916666666666666,
          0.7916666666666666,
          0.8333333333333334,
          0.5416666666666666,
          0.8333333333333334,
          0.5416666666666666,
          0.7916666666666666,
          0.75,
          0.625,
          0.6666666666666666,
          0.8333333333333334,
          0.75,
          0.375,
          0.5833333333333334,
          0.7916666666666666,
          0.75,
          0.75,
          0.75,
          0.7083333333333334,
          0.75,
          0.6666666666666666,
          0.7916666666666666,
          0.875,
          0.75,
          0.875,
          0.8333333333333334,
          0.875,
          0.625,
          0.9166666666666666,
          0.8333333333333334,
          0.625,
          0.7083333333333334,
          0.8333333333333334,
          0.8333333333333334,
          0.7916666666666666,
          0.7916666666666666,
          0.75,
          0.75,
          0.875,
          0.8333333333333334,
          0.625,
          0.9166666666666666,
          0.5833333333333334,
          0.8333333333333334,
          0.875,
          0.875,
          0.5,
          0.7083333333333334,
          0.9166666666666666,
          0.6666666666666666,
          0.6666666666666666,
          0.5833333333333334,
          0.7916666666666666,
          0.875,
          0.7916666666666666,
          0.75,
          0.8333333333333334,
          0.7916666666666666,
          0.875,
          0.6666666666666666,
          0.875,
          0.8333333333333334,
          0.7916666666666666,
          0.875,
          0.8333333333333334,
          0.7916666666666666,
          0.875,
          0.875,
          0.7916666666666666,
          0.875,
          0.7916666666666666,
          0.9166666666666666,
          0.7083333333333334,
          0.7916666666666666,
          0.8333333333333334,
          0.875,
          0.7916666666666666,
          0.875,
          0.75,
          0.6666666666666666,
          0.7916666666666666,
          0.7916666666666666,
          0.75,
          0.75,
          0.8333333333333334,
          0.75,
          0.75,
          0.75,
          0.75,
          0.7916666666666666,
          0.75,
          0.8333333333333334,
          0.7916666666666666,
          0.7916666666666666,
          0.8333333333333334,
          0.375,
          0.8333333333333334,
          0.6666666666666666,
          0.5833333333333334,
          0.625,
          0.8333333333333334,
          0.875,
          0.75,
          0.75,
          0.75,
          0.9166666666666666,
          0.7083333333333334,
          0.8333333333333334,
          0.875,
          0.8333333333333334,
          0.9166666666666666,
          0.875,
          0.9166666666666666,
          0.7083333333333334,
          0.9166666666666666,
          0.7083333333333334,
          0.6666666666666666,
          0.875,
          0.8333333333333334,
          0.7083333333333334,
          0.875,
          0.625,
          0.8333333333333334,
          0.7916666666666666,
          0.875,
          0.7083333333333334,
          0.8333333333333334,
          0.9166666666666666,
          0.7083333333333334,
          0.5833333333333334,
          0.8333333333333334,
          0.7916666666666666,
          0.7916666666666666,
          1,
          0.7083333333333334,
          0.6666666666666666,
          0.75,
          0.5,
          0.5833333333333334,
          0.7916666666666666,
          0.75,
          0.5,
          0.875,
          0.8333333333333334,
          0.75,
          0.875,
          0.6666666666666666,
          0.8333333333333334,
          0.6666666666666666,
          0.5833333333333334,
          0.7916666666666666,
          0.6666666666666666,
          0.8333333333333334,
          0.875,
          0.7916666666666666,
          0.625,
          0.625,
          0.875,
          0.7916666666666666,
          0.7916666666666666,
          0.8333333333333334,
          0.9583333333333334,
          0.9166666666666666,
          0.7083333333333334,
          0.2083333333333333,
          0.6666666666666666,
          0.875,
          0.75,
          0.8333333333333334,
          0.875,
          0.6666666666666666,
          0.8333333333333334,
          0.9583333333333334,
          0.9583333333333334,
          0.8333333333333334,
          0.6666666666666666,
          0.875,
          0.9166666666666666,
          1,
          0.5833333333333334,
          0.875,
          0.8333333333333334,
          0.6666666666666666,
          0.7083333333333334,
          1,
          0.9166666666666666,
          0.75,
          0.8333333333333334,
          0.7916666666666666,
          0.6666666666666666,
          0.7916666666666666,
          0.7916666666666666,
          0.8333333333333334,
          0.7916666666666666,
          0.6666666666666666,
          0.5833333333333334,
          0.8333333333333334,
          0.7916666666666666,
          0.9166666666666666,
          0.875,
          0.875,
          0.8333333333333334,
          0.8333333333333334,
          0.6666666666666666,
          0.7083333333333334,
          0.75,
          0.9583333333333334,
          0.75,
          0.7083333333333334,
          0.6666666666666666,
          0.75,
          0.7083333333333334,
          0.875,
          0.625,
          0.75,
          0.6666666666666666,
          0.75,
          0.8333333333333334,
          0.75,
          0.75,
          0.7083333333333334,
          0.7916666666666666,
          0.6666666666666666,
          0.9166666666666666,
          0.7916666666666666,
          0.75,
          0.7083333333333334,
          0.6666666666666666,
          0.75,
          0.875,
          0.7083333333333334,
          0.6666666666666666,
          0.875,
          0.75,
          0.7083333333333334,
          0.8333333333333334,
          0.7916666666666666,
          0.8333333333333334,
          0.75,
          0.75,
          0.875,
          0.7083333333333334,
          0.9166666666666666,
          0.7083333333333334,
          0.9166666666666666,
          0.7916666666666666,
          0.875,
          0.7083333333333334,
          0.75,
          0.75,
          0.75,
          0.4166666666666667,
          0.6666666666666666,
          0.5833333333333334,
          0.75,
          0.875,
          0.7916666666666666,
          0.8333333333333334,
          0.7916666666666666,
          0.7916666666666666,
          0.7083333333333334,
          0.8333333333333334,
          0.7916666666666666,
          0.75,
          0.7083333333333334,
          0.7083333333333334,
          0.7916666666666666,
          0.6666666666666666,
          0.7916666666666666,
          0.6666666666666666,
          0.7083333333333334,
          0.7916666666666666,
          0.75,
          0.6666666666666666,
          0.8333333333333334,
          0.7916666666666666,
          0.7916666666666666,
          0.7916666666666666,
          0.9166666666666666,
          0.7916666666666666,
          0.7083333333333334,
          0.75,
          0.8333333333333334,
          0.7083333333333334,
          0.6666666666666666,
          0.8333333333333334,
          0.7083333333333334,
          0.75,
          0.7083333333333334,
          0.625,
          0.7916666666666666,
          0.75,
          0.8333333333333334,
          0.75,
          0.7916666666666666,
          0.6666666666666666,
          0.875,
          0.7916666666666666,
          0.625,
          0.875,
          0.6666666666666666,
          0.875,
          0.6666666666666666,
          0.7916666666666666,
          0.75,
          0.6666666666666666,
          0.7916666666666666,
          0.7083333333333334,
          0.75,
          0.6666666666666666,
          0.8333333333333334,
          0.7916666666666666,
          0.7083333333333334,
          0.75,
          0.7083333333333334,
          0.6666666666666666,
          0.8333333333333334,
          0.6666666666666666,
          0.75,
          0.875,
          0.5833333333333334,
          0.8333333333333334,
          0.8333333333333334,
          0.6666666666666666,
          0.6666666666666666,
          0.8333333333333334,
          0.75,
          0.7083333333333334,
          0.8333333333333334,
          0.7916666666666666,
          0.75,
          0.7916666666666666,
          0.7083333333333334,
          0.875,
          0.7916666666666666,
          0.8333333333333334,
          0.875,
          0.8333333333333334,
          0.75,
          0.875,
          0.75,
          0.7916666666666666,
          0.7916666666666666,
          0.875,
          0.7916666666666666,
          0.7916666666666666,
          0.5,
          0.7083333333333334,
          0.8333333333333334,
          0.625,
          0.75,
          0.8333333333333334,
          0.75,
          0.75,
          0.7916666666666666,
          0.9166666666666666,
          0.625,
          0.8333333333333334,
          0.75,
          0.7083333333333334,
          0.7083333333333334,
          0.75,
          0.8333333333333334,
          0.875,
          0.625,
          0.7083333333333334,
          0.8333333333333334,
          0.8333333333333334,
          0.6666666666666666,
          0.875,
          0.7083333333333334,
          0.7083333333333334,
          0.875,
          0.75,
          0.75,
          0.7083333333333334,
          0.625,
          0.8333333333333334,
          0.75,
          0.75,
          0.75,
          0.75,
          0.6666666666666666,
          0.75,
          0.6666666666666666,
          0.7916666666666666,
          0.75,
          0.7916666666666666,
          0.5,
          0.6666666666666666,
          0.7083333333333334,
          0.6666666666666666,
          0.7916666666666666,
          0.7916666666666666,
          0.75,
          0.7916666666666666,
          0.7083333333333334,
          0.5416666666666666,
          0.625,
          0.8333333333333334,
          0.8333333333333334,
          0.875,
          0.7916666666666666,
          0.7083333333333334,
          0.7916666666666666,
          0.7916666666666666,
          0.7083333333333334,
          0.75,
          0.7916666666666666,
          0.7083333333333334,
          0.5416666666666666,
          0.75,
          0.7916666666666666,
          0.2916666666666667,
          0.7083333333333334,
          0.7916666666666666,
          0.9166666666666666,
          0.75,
          0.6666666666666666,
          0.4583333333333333,
          0.75,
          0.7083333333333334,
          0.6666666666666666,
          0.8333333333333334,
          0.7083333333333334,
          0.6666666666666666,
          0.8333333333333334,
          0.8333333333333334,
          0.5833333333333334,
          0.8333333333333334,
          0.7083333333333334,
          0.75,
          0.75,
          0.8333333333333334,
          0.75,
          0.75,
          0.7083333333333334,
          0.75,
          0.7083333333333334,
          0.8333333333333334,
          0.6666666666666666,
          0.7916666666666666,
          0.7916666666666666,
          0.7083333333333334,
          0.7083333333333334,
          0.875,
          0.625,
          0.75,
          0.8333333333333334,
          0.7083333333333334,
          0.875,
          0.75,
          0.6666666666666666,
          0.6666666666666666,
          0.875,
          0.625,
          0.7083333333333334,
          0.875,
          0.75,
          0.875,
          0.7916666666666666,
          0.8333333333333334,
          0.75,
          0.875,
          0.8333333333333334,
          0.7916666666666666,
          0.75,
          0.6666666666666666,
          0.7083333333333334,
          0.7916666666666666,
          0.8333333333333334,
          0.9166666666666666,
          0.625,
          0.875,
          0.6666666666666666,
          0.6666666666666666,
          0.625,
          0.8333333333333334,
          0.7083333333333334,
          0.75,
          0.7083333333333334,
          0.8333333333333334,
          0.875,
          0.875,
          0.7083333333333334,
          0.7916666666666666,
          0.75,
          0.5833333333333334,
          0.875,
          0.8333333333333334,
          0.875,
          0.7916666666666666,
          0.8333333333333334,
          0.6666666666666666,
          0.8333333333333334,
          0.75,
          0.7916666666666666,
          0.7916666666666666,
          0.75,
          0.6666666666666666,
          0.7916666666666666,
          0.75,
          0.8333333333333334,
          0.7916666666666666,
          0.875,
          0.7083333333333334,
          0.75,
          0.7083333333333334,
          0.75,
          0.7083333333333334,
          0.8333333333333334,
          0.7083333333333334,
          0.625,
          0.5416666666666666,
          0.7916666666666666,
          0.7916666666666666,
          0.7916666666666666,
          0.7083333333333334,
          0.9166666666666666,
          0.5,
          0.6666666666666666,
          0.5416666666666666,
          0.8333333333333334,
          0.8333333333333334,
          0.7916666666666666,
          0.7916666666666666,
          0.625,
          0.7083333333333334,
          0.5833333333333334,
          0.6666666666666666,
          0.7083333333333334,
          0.7083333333333334,
          0.625,
          0.875,
          0.875,
          0.75,
          0.75,
          0.8333333333333334,
          0.875,
          0.75,
          0.9166666666666666,
          0.375,
          0.8333333333333334,
          0.8333333333333334,
          0.625,
          0.9166666666666666,
          0.75,
          0.875,
          0.6666666666666666,
          0.6666666666666666,
          0.625,
          0.75,
          0.6666666666666666,
          0.8333333333333334,
          0.875,
          0.8333333333333334,
          0.75,
          0.7916666666666666,
          0.7083333333333334,
          0.7083333333333334,
          0.9166666666666666,
          0.6666666666666666,
          0.8333333333333334,
          0.6666666666666666,
          0.7916666666666666,
          0.7916666666666666,
          0.7916666666666666,
          0.8333333333333334,
          0.5833333333333334,
          0.6666666666666666,
          0.8333333333333334,
          0.7916666666666666,
          0.6666666666666666,
          0.6666666666666666,
          0.75,
          0.8333333333333334,
          0.6666666666666666,
          0.625,
          0.8333333333333334,
          0.6666666666666666,
          0.7083333333333334,
          0.875,
          0.7916666666666666,
          0.8333333333333334,
          0.7083333333333334,
          0.8333333333333334,
          0.7083333333333334,
          0.7916666666666666,
          0.7083333333333334,
          0.5416666666666666,
          0.7916666666666666,
          0.6666666666666666,
          0.7916666666666666,
          0.5833333333333334,
          0.8333333333333334,
          0.7083333333333334,
          0.8333333333333334,
          0.8333333333333334,
          0.75,
          0.7916666666666666,
          0.7916666666666666,
          0.7083333333333334,
          0.5416666666666666,
          0.75,
          0.5833333333333334,
          0.7916666666666666,
          0.75,
          0.75,
          0.625,
          0.6666666666666666,
          0.75,
          0.8333333333333334,
          0.7083333333333334,
          0.75,
          0.7083333333333334,
          0.7916666666666666,
          0.7916666666666666,
          0.75,
          0.8333333333333334,
          0.7083333333333334,
          0.8333333333333334,
          0.9583333333333334,
          0.7916666666666666,
          0.625,
          0.7916666666666666,
          0.7916666666666666,
          0.7083333333333334,
          0.8333333333333334,
          0.8333333333333334,
          0.7916666666666666,
          0.7916666666666666,
          0.75,
          0.7916666666666666,
          0.7083333333333334,
          0.8333333333333334,
          0.6666666666666666,
          0.7916666666666666,
          0.875,
          0.7916666666666666,
          0.75,
          0.7083333333333334,
          0.875,
          0.7083333333333334,
          0.7083333333333334,
          0.7916666666666666,
          0.7916666666666666,
          0.625,
          0.5833333333333334,
          0.7083333333333334,
          0.75,
          0.8333333333333334,
          0.7083333333333334,
          0.75,
          0.625,
          0.75,
          0.7916666666666666,
          0.8333333333333334,
          0.6666666666666666,
          0.7916666666666666,
          0.625,
          0.75,
          0.7916666666666666,
          0.75,
          0.6666666666666666,
          0.8333333333333334,
          0.7916666666666666,
          0.7916666666666666,
          0.75,
          0.8333333333333334,
          0.5833333333333334,
          0.75,
          0.7083333333333334,
          0.875,
          0.875,
          0.7916666666666666,
          0.875,
          0.7916666666666666,
          0.7083333333333334,
          0.625,
          0.7916666666666666,
          0.8333333333333334,
          0.8333333333333334,
          0.6666666666666666,
          0.625,
          0.7916666666666666,
          0.6666666666666666,
          0.5833333333333334,
          0.625,
          0.8333333333333334,
          0.75,
          0.8333333333333334,
          0.7916666666666666,
          0.7083333333333334,
          0.9166666666666666,
          0.5833333333333334,
          0.7916666666666666,
          0.6666666666666666,
          0.625,
          0.75,
          0.625,
          0.6666666666666666,
          0.7916666666666666,
          0.7916666666666666,
          0.75,
          0.75,
          0.7916666666666666,
          0.625,
          0.75,
          0.7083333333333334,
          0.8333333333333334,
          0.7916666666666666,
          0.7083333333333334,
          0.875,
          0.6666666666666666,
          0.6666666666666666,
          0.75,
          0.6666666666666666,
          0.8333333333333334,
          0.7916666666666666,
          0.7916666666666666,
          0.8333333333333334,
          0.6666666666666666,
          0.8333333333333334,
          0.7916666666666666,
          0.5833333333333334,
          0.75,
          0.875,
          0.7083333333333334,
          0.5833333333333334,
          0.7916666666666666,
          0.625,
          0.5416666666666666,
          0.625,
          0.8333333333333334,
          0.75,
          0.7916666666666666,
          0.7083333333333334,
          0.8333333333333334,
          0.75,
          0.75,
          0.625,
          0.75,
          0.9166666666666666,
          0.8333333333333334,
          0.7916666666666666,
          0.8333333333333334,
          0.7083333333333334,
          0.7083333333333334,
          0.7916666666666666,
          0.75,
          0.8333333333333334,
          0.9166666666666666,
          0.7083333333333334,
          0.75,
          0.7916666666666666,
          0.7916666666666666,
          0.9166666666666666,
          0.625,
          0.7916666666666666,
          0.75,
          0.875,
          0.75,
          0.7083333333333334,
          0.8333333333333334,
          0.7916666666666666,
          0.6666666666666666,
          0.8333333333333334,
          0.6666666666666666,
          0.75,
          0.625,
          0.875,
          0.75,
          0.7083333333333334,
          0.8333333333333334,
          0.75,
          0.7916666666666666,
          0.7916666666666666,
          0.875,
          0.7083333333333334,
          0.625,
          0.6666666666666666,
          0.75,
          0.7916666666666666,
          0.875,
          0.7083333333333334,
          0.6666666666666666,
          0.7916666666666666,
          0.75,
          0.7916666666666666,
          0.5,
          0.875,
          0.9166666666666666,
          0.875,
          0.625,
          0.8333333333333334,
          0.6666666666666666,
          0.7083333333333334,
          0.9166666666666666,
          0.625,
          0.75,
          0.75,
          0.7083333333333334,
          0.7916666666666666,
          0.75,
          0.75,
          0.75,
          0.7083333333333334,
          0.75,
          0.875,
          0.8333333333333334,
          0.7916666666666666,
          0.875,
          0.5416666666666666,
          0.7083333333333334,
          0.7916666666666666,
          0.6666666666666666,
          0.6666666666666666,
          0.6666666666666666,
          0.8333333333333334,
          0.8333333333333334,
          0.7916666666666666,
          0.8333333333333334,
          0.6666666666666666,
          0.5416666666666666,
          0.7083333333333334,
          0.625,
          0.625,
          0.875,
          0.75,
          0.6666666666666666,
          0.8333333333333334,
          0.75,
          0.6666666666666666,
          0.875,
          0.8333333333333334,
          0.8333333333333334,
          0.7916666666666666,
          0.875,
          0.5833333333333334,
          0.875,
          0.8333333333333334,
          0.75,
          0.8333333333333334,
          0.75,
          0.7916666666666666,
          0.5833333333333334,
          0.7916666666666666,
          0.7083333333333334,
          0.6666666666666666,
          0.75,
          0.875,
          0.7916666666666666,
          0.7083333333333334,
          0.8333333333333334,
          0.5833333333333334,
          0.6666666666666666,
          0.75,
          0.625,
          0.75,
          0.8333333333333334,
          0.75,
          0.625,
          0.7916666666666666,
          0.875,
          0.7083333333333334,
          0.7916666666666666,
          0.8333333333333334,
          0.7916666666666666,
          0.5,
          0.7083333333333334,
          0.625,
          0.8333333333333334,
          0.7916666666666666,
          0.75,
          0.7083333333333334,
          0.875,
          0.8333333333333334,
          0.7916666666666666,
          0.7916666666666666,
          0.6666666666666666,
          0.5416666666666666,
          0.7083333333333334,
          0.7083333333333334,
          0.8333333333333334,
          0.7916666666666666,
          0.7916666666666666,
          0.75,
          0.5833333333333334,
          0.75,
          0.9166666666666666,
          0.875,
          0.7083333333333334,
          0.875,
          0.75,
          0.75,
          0.7083333333333334,
          0.8333333333333334,
          0.5833333333333334,
          0.6666666666666666,
          0.7083333333333334,
          0.8333333333333334,
          0.75,
          0.6666666666666666,
          0.5833333333333334,
          0.75,
          0.9583333333333334,
          0.75,
          0.6666666666666666,
          0.875,
          0.75,
          0.75,
          0.875,
          0.875,
          0.75,
          0.5833333333333334,
          0.6666666666666666,
          0.7916666666666666,
          0.7916666666666666,
          0.875,
          0.6666666666666666,
          0.8333333333333334,
          0.7916666666666666,
          0.75,
          0.7083333333333334,
          0.75,
          0.75,
          0.7916666666666666,
          0.6666666666666666,
          0.8333333333333334,
          0.9166666666666666,
          0.75,
          0.9583333333333334,
          0.7916666666666666,
          0.8333333333333334,
          0.9166666666666666,
          0.625,
          0.9166666666666666,
          0.7083333333333334,
          0.5833333333333334,
          0.7916666666666666,
          0.625,
          0.8333333333333334,
          0.7916666666666666,
          0.7083333333333334,
          0.875,
          0.75,
          0.875,
          0.6666666666666666,
          0.7916666666666666,
          0.625,
          0.5833333333333334,
          0.5416666666666666,
          0.75,
          0.75,
          0.4583333333333333,
          0.875,
          0.75,
          0.7916666666666666,
          0.5,
          0.75,
          0.8333333333333334,
          0.6666666666666666,
          0.875,
          0.875,
          0.875,
          0.875,
          0.7916666666666666,
          0.75,
          0.9166666666666666,
          0.8333333333333334,
          0.75,
          0.7916666666666666,
          0.625,
          0.75,
          0.75,
          0.75,
          0.7916666666666666,
          0.8333333333333334,
          0.6666666666666666,
          0.6666666666666666,
          0.7083333333333334,
          0.7083333333333334,
          0.7916666666666666,
          0.6666666666666666,
          0.7916666666666666,
          0.6666666666666666,
          0.875,
          0.625,
          0.875,
          0.4583333333333333,
          0.5833333333333334,
          0.7083333333333334,
          0.7083333333333334,
          0.7916666666666666,
          0.625,
          0.5,
          0.8333333333333334,
          0.7916666666666666,
          0.7916666666666666,
          0.75,
          0.7916666666666666,
          0.75,
          0.75,
          0.875,
          0.625,
          0.8333333333333334,
          0.8333333333333334,
          0.6666666666666666,
          0.5416666666666666,
          0.7916666666666666,
          0.9166666666666666,
          0.75,
          0.625,
          0.7916666666666666,
          0.5416666666666666,
          0.7916666666666666,
          0.8333333333333334,
          0.5416666666666666,
          0.8333333333333334,
          0.75,
          0.6666666666666666,
          0.75,
          0.75,
          0.75,
          0.625,
          0.7916666666666666,
          0.8333333333333334,
          0.5,
          0.625,
          0.6666666666666666,
          0.75,
          0.8333333333333334,
          0.875,
          0.7083333333333334,
          0.7916666666666666,
          0.8333333333333334,
          0.7083333333333334,
          0.9583333333333334,
          0.7083333333333334,
          0.8333333333333334,
          0.875,
          0.75,
          0.7916666666666666,
          0.75,
          0.875,
          0.9166666666666666,
          0.6666666666666666,
          0.5416666666666666,
          0.7083333333333334,
          0.75,
          0.7916666666666666,
          0.875,
          0.7916666666666666,
          0.75,
          0.9166666666666666,
          0.7083333333333334,
          0.75,
          0.75,
          0.8333333333333334,
          0.8333333333333334,
          0.875,
          0.9166666666666666,
          0.75,
          0.9166666666666666,
          0.9583333333333334,
          0.7083333333333334,
          0.9583333333333334,
          0.8333333333333334,
          0.75,
          0.6666666666666666,
          0.75,
          0.8333333333333334,
          0.625,
          0.7083333333333334,
          0.7083333333333334,
          0.5416666666666666,
          0.8333333333333334,
          0.9166666666666666,
          0.8333333333333334,
          0.875,
          0.8333333333333334,
          0.7916666666666666,
          0.8333333333333334,
          0.75,
          0.6666666666666666,
          0.7916666666666666,
          0.75,
          0.75,
          0.8333333333333334,
          0.7083333333333334,
          0.75,
          0.625,
          0.7083333333333334,
          0.5416666666666666,
          0.7083333333333334,
          0.8333333333333334,
          0.75,
          0.8333333333333334,
          0.75,
          0.75,
          0.4583333333333333,
          0.7916666666666666,
          0.75,
          0.7083333333333334,
          0.8333333333333334,
          0.7916666666666666,
          0.75,
          0.75,
          0.5833333333333334,
          0.8333333333333334,
          0.75,
          0.625,
          0.7916666666666666,
          0.8333333333333334,
          0.8333333333333334,
          0.875,
          0.7916666666666666,
          0.875,
          0.7083333333333334,
          0.7916666666666666,
          0.6666666666666666,
          0.6666666666666666,
          0.9166666666666666,
          0.6666666666666666,
          0.625,
          0.875,
          0.7083333333333334,
          0.875,
          0.7916666666666666,
          0.7916666666666666,
          0.75,
          0.7083333333333334,
          0.75,
          0.875,
          0.7916666666666666,
          0.7083333333333334,
          0.9583333333333334,
          0.875,
          0.8333333333333334,
          0.6666666666666666,
          0.875,
          0.9166666666666666,
          0.75,
          0.875,
          0.8333333333333334,
          0.7083333333333334,
          0.875,
          0.7083333333333334,
          0.875,
          0.625,
          0.6666666666666666,
          0.8333333333333334,
          0.7083333333333334,
          0.7083333333333334,
          0.7916666666666666,
          0.7083333333333334,
          0.7916666666666666,
          0.875,
          0.75,
          0.8333333333333334,
          0.6666666666666666,
          0.875,
          0.75,
          0.6666666666666666,
          0.875,
          0.75,
          0.875,
          0.8333333333333334,
          0.7916666666666666,
          0.7916666666666666,
          0.875,
          0.9166666666666666,
          0.6666666666666666,
          0.8333333333333334,
          0.9166666666666666,
          0.625,
          0.7083333333333334,
          0.75,
          0.7916666666666666,
          0.75,
          0.7916666666666666,
          0.75,
          0.9166666666666666,
          0.75,
          0.6666666666666666,
          0.75,
          0.75,
          0.75,
          0.6666666666666666,
          0.8333333333333334,
          0.75,
          0.7083333333333334,
          0.625,
          0.6666666666666666,
          0.75,
          0.5833333333333334,
          0.8333333333333334,
          0.6666666666666666,
          0.7916666666666666,
          0.875,
          0.875,
          0.7916666666666666,
          0.875,
          0.6666666666666666,
          0.7916666666666666,
          0.6666666666666666,
          0.75,
          0.75,
          0.6666666666666666,
          0.7916666666666666,
          0.8333333333333334,
          0.75,
          0.75,
          0.6666666666666666,
          0.8333333333333334,
          0.6666666666666666,
          0.7083333333333334,
          0.875,
          0.75,
          0.875,
          0.75,
          0.75,
          0.7083333333333334,
          0.7916666666666666,
          0.875,
          0.8333333333333334,
          0.7083333333333334,
          0.7916666666666666,
          0.75,
          0.8333333333333334,
          0.875,
          0.75,
          0.8333333333333334,
          0.875,
          0.75,
          0.5833333333333334,
          0.625,
          0.75,
          0.875,
          0.7083333333333334,
          0.7083333333333334,
          0.9166666666666666,
          0.7916666666666666,
          0.7916666666666666,
          0.8333333333333334,
          0.875,
          0.6666666666666666,
          0.9166666666666666,
          0.9166666666666666,
          0.8333333333333334,
          0.9583333333333334,
          0.875,
          0.7083333333333334,
          0.9166666666666666,
          0.8333333333333334,
          0.7916666666666666,
          0.5416666666666666,
          0.875,
          0.7083333333333334,
          0.9166666666666666,
          0.5,
          0.7916666666666666,
          0.7916666666666666,
          0.9166666666666666,
          0.6666666666666666,
          0.75,
          0.8333333333333334,
          0.9166666666666666,
          0.7083333333333334,
          0.875,
          0.9166666666666666,
          0.75,
          0.8333333333333334,
          0.75,
          0.8333333333333334,
          0.625,
          0.8333333333333334,
          0.875,
          0.9583333333333334,
          0.625,
          0.9166666666666666,
          0.7916666666666666,
          0.75,
          0.9583333333333334,
          0.7916666666666666,
          0.8333333333333334,
          0.875,
          0.7916666666666666,
          0.875,
          0.6666666666666666,
          0.9583333333333334,
          0.8333333333333334,
          0.875,
          0.8333333333333334,
          0.8333333333333334,
          0.9583333333333334,
          0.9583333333333334,
          0.8333333333333334,
          0.75,
          0.6666666666666666,
          0.9166666666666666,
          0.875,
          0.75,
          0.75,
          0.875,
          0.875,
          0.9166666666666666,
          0.75,
          0.75,
          0.9166666666666666,
          0.8333333333333334,
          0.9166666666666666,
          0.9166666666666666,
          1,
          0.75,
          0.6666666666666666,
          0.7083333333333334,
          0.75,
          0.9166666666666666,
          0.5833333333333334,
          0.875,
          0.8333333333333334,
          0.8333333333333334,
          0.875,
          0.875,
          0.875,
          0.5,
          0.8333333333333334,
          0.7916666666666666,
          0.8333333333333334,
          0.5833333333333334,
          0.8333333333333334,
          0.8333333333333334,
          0.75,
          0.8333333333333334,
          0.75,
          0.9166666666666666,
          0.75,
          0.875,
          0.8333333333333334,
          0.6666666666666666,
          0.7916666666666666,
          0.75,
          0.9166666666666666,
          0.8333333333333334,
          0.6666666666666666,
          0.9583333333333334,
          0.7083333333333334,
          0.8333333333333334,
          0.7916666666666666,
          0.8333333333333334,
          0.875,
          0.8333333333333334,
          0.7916666666666666,
          0.875,
          0.625,
          0.9166666666666666,
          0.875,
          0.8333333333333334,
          0.9166666666666666,
          0.7916666666666666,
          0.625,
          0.875,
          0.875,
          1,
          0.8333333333333334,
          0.7916666666666666,
          0.75,
          0.875,
          0.8333333333333334,
          0.7083333333333334,
          0.8333333333333334,
          0.6666666666666666,
          0.875,
          0.75,
          0.8333333333333334,
          0.8333333333333334,
          0.8333333333333334,
          0.5833333333333334,
          0.8333333333333334,
          0.875,
          0.7083333333333334,
          0.7916666666666666,
          0.875,
          0.875,
          0.7916666666666666,
          0.875,
          0.6666666666666666,
          0.7916666666666666,
          0.875,
          0.9583333333333334,
          0.7916666666666666,
          0.6666666666666666,
          0.9166666666666666,
          0.8333333333333334,
          0.8333333333333334,
          0.7916666666666666,
          0.9166666666666666,
          0.75,
          0.75,
          0.75,
          0.75,
          0.8333333333333334,
          0.7083333333333334,
          0.8333333333333334,
          0.9166666666666666,
          0.9166666666666666,
          0.75,
          0.8333333333333334,
          0.7083333333333334,
          0.9583333333333334,
          0.9166666666666666,
          0.5833333333333334,
          0.875,
          0.7916666666666666,
          0.8333333333333334,
          0.75,
          0.875,
          0.7083333333333334,
          0.7916666666666666,
          0.8333333333333334,
          0.875,
          0.6666666666666666,
          0.9166666666666666,
          0.7916666666666666,
          0.875,
          0.6666666666666666,
          0.7916666666666666,
          0.8333333333333334,
          0.9166666666666666,
          0.7916666666666666,
          0.75,
          0.7083333333333334,
          0.9166666666666666,
          0.7083333333333334,
          0.7916666666666666,
          0.7916666666666666,
          0.75,
          0.7916666666666666,
          0.7916666666666666,
          0.75,
          0.625,
          0.9166666666666666,
          0.9583333333333334,
          0.875,
          0.6666666666666666,
          0.7916666666666666,
          0.875,
          0.75,
          0.9583333333333334,
          0.875,
          0.75,
          0.8333333333333334,
          0.9166666666666666,
          0.7916666666666666,
          0.8333333333333334,
          0.875,
          0.7083333333333334,
          0.7916666666666666,
          0.875,
          0.875,
          0.75,
          0.6666666666666666,
          0.8333333333333334,
          0.9583333333333334,
          0.75,
          0.9166666666666666,
          0.8333333333333334,
          0.625,
          0.7083333333333334,
          0.75,
          0.6666666666666666,
          0.75,
          0.8333333333333334,
          0.8333333333333334,
          0.9583333333333334,
          0.7083333333333334,
          0.9166666666666666,
          0.875,
          0.8333333333333334,
          0.875,
          0.875,
          0.9166666666666666,
          0.9583333333333334,
          0.3333333333333333,
          0.8333333333333334,
          0.7916666666666666,
          0.75,
          0.9166666666666666,
          0.8333333333333334,
          0.6666666666666666,
          0.9583333333333334,
          0.875,
          0.8333333333333334,
          0.9583333333333334,
          0.8333333333333334,
          0.875,
          0.7916666666666666,
          0.7083333333333334,
          0.7916666666666666,
          0.75,
          0.8333333333333334,
          0.9166666666666666,
          0.75,
          0.75,
          0.8333333333333334,
          0.875,
          0.8333333333333334,
          0.625,
          0.7916666666666666,
          0.625,
          0.7083333333333334,
          0.9166666666666666,
          0.75,
          0.8333333333333334,
          0.75,
          0.7083333333333334,
          0.875,
          0.875,
          0.7916666666666666,
          0.9166666666666666,
          0.75,
          0.9166666666666666,
          0.7083333333333334,
          0.5833333333333334,
          0.9583333333333334,
          0.75,
          0.7916666666666666,
          0.5833333333333334,
          0.7916666666666666,
          0.6666666666666666,
          0.7083333333333334,
          0.9583333333333334,
          0.875,
          0.9583333333333334,
          0.5833333333333334,
          0.7083333333333334,
          0.8333333333333334,
          0.75,
          0.9166666666666666,
          0.875,
          0.875,
          0.9583333333333334,
          0.8333333333333334,
          0.875,
          0.7083333333333334,
          0.625,
          0.7916666666666666,
          0.875,
          0.7916666666666666,
          0.6666666666666666,
          0.7916666666666666,
          0.875,
          0.875,
          0.7916666666666666,
          0.75,
          0.875,
          0.7916666666666666,
          0.9583333333333334,
          0.8333333333333334,
          0.9166666666666666,
          0.875,
          0.875,
          0.875,
          0.875,
          0.7916666666666666,
          0.9583333333333334,
          0.875,
          0.7916666666666666,
          0.7083333333333334,
          0.9166666666666666,
          0.7083333333333334,
          0.6666666666666666,
          1,
          0.5416666666666666,
          0.7916666666666666,
          0.9583333333333334,
          0.875,
          0.875,
          0.8333333333333334,
          0.7916666666666666,
          0.6666666666666666,
          0.875,
          0.875,
          0.9166666666666666,
          0.7916666666666666,
          0.7916666666666666,
          0.9583333333333334,
          0.6666666666666666,
          0.875,
          0.75,
          0.8333333333333334,
          0.8333333333333334,
          0.9583333333333334,
          0.75,
          0.7916666666666666,
          0.7916666666666666,
          0.8333333333333334,
          0.875,
          0.9166666666666666,
          0.9166666666666666,
          0.9166666666666666,
          0.7916666666666666,
          0.875,
          0.9166666666666666,
          0.875,
          0.7083333333333334,
          0.875,
          0.875,
          0.8333333333333334,
          0.8333333333333334,
          0.9583333333333334,
          0.75,
          0.875,
          0.9166666666666666,
          0.75,
          0.8333333333333334,
          0.7916666666666666,
          0.7083333333333334,
          0.7083333333333334,
          0.7916666666666666,
          0.75,
          0.8333333333333334,
          0.7916666666666666,
          0.8333333333333334,
          0.7083333333333334,
          0.9583333333333334,
          0.875,
          0.875,
          0.75,
          0.8333333333333334,
          0.875,
          0.75,
          0.9166666666666666,
          0.8333333333333334,
          0.9166666666666666,
          0.8333333333333334,
          0.8333333333333334,
          0.9583333333333334,
          0.7083333333333334,
          0.7083333333333334,
          0.7083333333333334,
          0.7916666666666666,
          0.9583333333333334,
          0.9166666666666666,
          0.9583333333333334,
          0.9166666666666666,
          0.8333333333333334,
          0.9166666666666666,
          0.7083333333333334,
          0.7916666666666666,
          1,
          0.7916666666666666,
          0.8333333333333334,
          0.7083333333333334,
          0.8333333333333334,
          0.9583333333333334,
          0.1666666666666666,
          0.9166666666666666,
          0.8333333333333334,
          0.9583333333333334,
          0.7916666666666666,
          0.7916666666666666,
          0.7916666666666666,
          0.75,
          0.8333333333333334,
          0.6666666666666666,
          0.7083333333333334,
          0.75,
          1,
          0.75,
          0.9583333333333334,
          0.7083333333333334,
          0.8333333333333334,
          0.8333333333333334,
          0.875,
          0.875,
          0.7916666666666666,
          0.9166666666666666,
          0.7083333333333334,
          1,
          0.8333333333333334,
          0.8333333333333334,
          0.6666666666666666,
          0.8333333333333334,
          0.9166666666666666,
          0.8333333333333334,
          0.875,
          0.7083333333333334,
          0.9583333333333334,
          0.9166666666666666,
          0.8333333333333334,
          0.875,
          0.9166666666666666,
          0.9166666666666666,
          0.875,
          0.8333333333333334,
          0.9166666666666666,
          0.9166666666666666,
          0.875,
          0.7083333333333334,
          0.9166666666666666,
          0.9583333333333334,
          0.9583333333333334,
          0.9583333333333334,
          0.9583333333333334,
          0.7916666666666666,
          0.7083333333333334,
          0.8333333333333334,
          0.8333333333333334,
          0.8333333333333334,
          0.7916666666666666,
          0.7083333333333334,
          0.6666666666666666,
          0.6666666666666666,
          0.8333333333333334,
          0.7916666666666666,
          0.7916666666666666,
          0.7083333333333334,
          0.6666666666666666,
          0.8333333333333334,
          0.75,
          0.8333333333333334,
          0.8333333333333334,
          0.5416666666666666,
          0.6666666666666666,
          0.7083333333333334,
          0.75,
          0.7083333333333334,
          0.6666666666666666,
          0.8333333333333334,
          0.6666666666666666,
          0.75,
          0.75,
          0.75,
          0.8333333333333334,
          0.9583333333333334,
          0.9166666666666666,
          0.9583333333333334,
          0.9166666666666666,
          0.9166666666666666,
          0.8333333333333334,
          0.75,
          0.75,
          0.7083333333333334,
          0.8333333333333334,
          0.6666666666666666,
          0.75,
          0.8333333333333334,
          0.625,
          0.8333333333333334,
          0.5416666666666666,
          0.7083333333333334,
          0.7083333333333334,
          0.7916666666666666,
          0.6666666666666666,
          0.75,
          0.9166666666666666,
          0.7083333333333334,
          0.7916666666666666,
          0.5833333333333334,
          0.7916666666666666,
          0.625,
          0.7083333333333334,
          0.5833333333333334,
          0.7083333333333334,
          0.7916666666666666,
          0.8333333333333334,
          0.9166666666666666,
          0.8333333333333334,
          0.75,
          0.8333333333333334,
          0.8333333333333334,
          0.9166666666666666,
          0.875,
          0.8333333333333334,
          0.7916666666666666,
          0.9583333333333334,
          0.875,
          0.9166666666666666,
          0.875,
          0.7916666666666666,
          0.9583333333333334,
          0.7916666666666666,
          0.8333333333333334,
          0.875,
          0.7916666666666666,
          0.875,
          0.875,
          0.75,
          0.9166666666666666,
          0.8333333333333334,
          0.625,
          0.7916666666666666,
          0.9166666666666666,
          0.875,
          0.9166666666666666,
          0.875,
          0.8333333333333334,
          0.7916666666666666,
          0.9166666666666666,
          0.9166666666666666,
          0.875,
          0.9583333333333334,
          0.7916666666666666,
          0.8333333333333334,
          0.7916666666666666,
          0.9166666666666666,
          0.8333333333333334,
          0.5,
          0.9166666666666666,
          0.8333333333333334,
          0.9583333333333334,
          0.75,
          0.7916666666666666,
          0.9166666666666666,
          0.875,
          0.75,
          0.7916666666666666,
          0.8333333333333334,
          0.875,
          0.7916666666666666,
          0.8333333333333334,
          0.7916666666666666,
          0.75,
          0.875,
          0.7916666666666666,
          0.75,
          0.8333333333333334,
          0.9583333333333334,
          0.625,
          0.7916666666666666,
          0.7916666666666666,
          0.7083333333333334,
          0.875,
          0.8333333333333334,
          0.7916666666666666,
          0.75,
          0.9583333333333334,
          0.9166666666666666,
          0.875,
          0.7916666666666666,
          0.7916666666666666,
          0.7083333333333334,
          0.625,
          0.8333333333333334,
          0.7916666666666666,
          0.75,
          0.7083333333333334,
          0.6666666666666666,
          0.7916666666666666,
          0.8333333333333334,
          0.75,
          0.8333333333333334,
          0.6666666666666666,
          0.6666666666666666,
          0.8333333333333334,
          0.75,
          0.7083333333333334,
          0.7916666666666666,
          0.8333333333333334,
          0.625,
          0.625,
          0.75,
          0.75,
          0.6666666666666666,
          0.75,
          0.6666666666666666,
          0.75,
          0.5833333333333334,
          0.7083333333333334,
          0.8333333333333334,
          0.7916666666666666,
          0.6666666666666666,
          0.8333333333333334,
          0.75,
          0.8333333333333334,
          0.9166666666666666,
          0.7083333333333334,
          0.7083333333333334,
          0.625,
          0.7083333333333334,
          0.6666666666666666,
          0.9166666666666666,
          0.5,
          0.7916666666666666,
          0.7083333333333334,
          0.6666666666666666,
          0.8333333333333334,
          0.8333333333333334,
          0.9166666666666666,
          0.75,
          0.7083333333333334,
          0.625,
          0.625,
          0.7916666666666666,
          0.7916666666666666,
          0.875,
          0.75,
          0.75,
          0.5833333333333334,
          0.625,
          0.75,
          0.625,
          0.8333333333333334,
          0.7916666666666666,
          0.875,
          0.8333333333333334,
          0.75,
          0.7083333333333334,
          0.5833333333333334,
          0.7083333333333334,
          0.75,
          0.6666666666666666,
          0.7083333333333334,
          0.75,
          0.75,
          0.75,
          0.7083333333333334,
          0.6666666666666666,
          0.8333333333333334,
          0.75,
          0.7916666666666666,
          0.75,
          0.75,
          0.75,
          0.7916666666666666,
          0.625,
          0.625,
          0.7916666666666666,
          0.5833333333333334,
          0.75,
          0.875,
          0.7916666666666666,
          0.5416666666666666,
          0.5416666666666666,
          0.7916666666666666,
          0.75,
          0.7916666666666666,
          0.7083333333333334,
          0.75,
          0.7083333333333334,
          0.5416666666666666,
          0.7916666666666666,
          0.7916666666666666,
          0.75,
          0.6666666666666666,
          0.875,
          0.7916666666666666,
          0.75,
          0.7916666666666666,
          0.6666666666666666,
          0.75,
          0.8333333333333334,
          0.7916666666666666,
          0.8333333333333334,
          0.75,
          0.7083333333333334,
          0.75,
          0.7916666666666666,
          0.7916666666666666,
          0.6666666666666666,
          0.625,
          0.75,
          0.8333333333333334,
          0.875,
          0.75,
          0.8333333333333334,
          0.6666666666666666,
          0.8333333333333334,
          0.6666666666666666,
          0.7916666666666666,
          0.7083333333333334,
          0.75,
          0.5416666666666666,
          0.6666666666666666,
          0.6666666666666666,
          0.875,
          0.6666666666666666,
          0.625,
          0.8333333333333334,
          0.7083333333333334,
          0.6666666666666666,
          0.8333333333333334,
          0.6666666666666666,
          0.7916666666666666,
          0.7916666666666666,
          0.7083333333333334,
          0.6666666666666666,
          0.7083333333333334,
          0.8333333333333334,
          0.5,
          0.5416666666666666,
          0.7916666666666666,
          0.7083333333333334,
          0.7916666666666666,
          0.6666666666666666,
          0.7083333333333334,
          0.8333333333333334,
          0.7083333333333334,
          0.7916666666666666,
          0.9166666666666666,
          0.8333333333333334,
          0.75,
          0.75,
          0.8333333333333334,
          0.7083333333333334,
          0.8333333333333334,
          0.7083333333333334,
          0.75,
          0.625,
          0.9166666666666666,
          0.7083333333333334,
          0.75,
          0.7916666666666666,
          0.75,
          0.75,
          0.75,
          0.75,
          0.7083333333333334,
          0.8333333333333334,
          0.8333333333333334,
          0.6666666666666666,
          0.8333333333333334,
          0.7083333333333334,
          0.7083333333333334,
          0.625,
          0.75,
          0.7083333333333334,
          0.7916666666666666,
          0.7916666666666666,
          0.7083333333333334,
          0.75,
          0.7916666666666666,
          0.875,
          0.7083333333333334,
          0.75,
          0.75,
          0.5833333333333334,
          0.875,
          0.7083333333333334,
          0.75,
          0.8333333333333334,
          0.6666666666666666,
          0.8333333333333334,
          0.75,
          0.7916666666666666,
          0.5416666666666666,
          0.7916666666666666,
          0.8333333333333334,
          0.875,
          0.875,
          0.5833333333333334,
          0.8333333333333334,
          0.75,
          0.8333333333333334,
          0.7916666666666666,
          0.75,
          0.6666666666666666,
          0.5416666666666666,
          0.75,
          0.7916666666666666,
          0.9166666666666666,
          0.75,
          0.75,
          0.75,
          0.625,
          0.8333333333333334,
          0.75,
          0.6666666666666666,
          0.8333333333333334,
          0.8333333333333334,
          0.7916666666666666,
          0.7083333333333334,
          0.8333333333333334,
          0.7083333333333334,
          0.7916666666666666,
          0.7083333333333334,
          0.625,
          0.625,
          0.625,
          0.7083333333333334,
          0.6666666666666666,
          0.75,
          0.6666666666666666,
          0.625,
          0.7916666666666666,
          0.8333333333333334,
          0.5833333333333334,
          0.625,
          0.75,
          0.625,
          0.75,
          0.7916666666666666,
          0.75,
          0.7083333333333334,
          0.8333333333333334,
          0.8333333333333334,
          0.7916666666666666,
          0.9166666666666666,
          0.8333333333333334,
          0.5833333333333334,
          0.8333333333333334,
          0.75,
          0.6666666666666666,
          0.625,
          0.6666666666666666,
          0.6666666666666666,
          0.7916666666666666,
          0.7083333333333334,
          0.8333333333333334,
          0.7916666666666666,
          0.875,
          0.8333333333333334,
          0.75,
          0.75,
          0.7083333333333334,
          0.7083333333333334,
          0.7916666666666666,
          0.75,
          0.7916666666666666,
          0.5416666666666666,
          0.8333333333333334,
          0.7916666666666666,
          0.7916666666666666,
          0.7083333333333334,
          0.7083333333333334,
          0.625,
          0.75,
          0.5833333333333334,
          0.8333333333333334,
          0.8333333333333334,
          0.7083333333333334,
          0.75,
          0.6666666666666666,
          0.625,
          0.625,
          0.625,
          0.6666666666666666,
          0.75,
          0.6666666666666666,
          0.8333333333333334,
          0.6666666666666666,
          0.6666666666666666,
          0.5,
          0.75,
          0.8333333333333334,
          0.6666666666666666,
          0.6666666666666666,
          0.7916666666666666,
          0.7083333333333334,
          0.75,
          0.875,
          0.75,
          0.75,
          0.875,
          0.7083333333333334,
          0.875,
          0.7083333333333334,
          0.7083333333333334,
          0.8333333333333334,
          0.7916666666666666,
          0.8333333333333334,
          0.625,
          0.875,
          0.7916666666666666,
          0.7916666666666666,
          0.8333333333333334,
          0.8333333333333334,
          0.6666666666666666,
          0.875,
          0.9166666666666666,
          0.8333333333333334,
          0.7916666666666666,
          0.875,
          0.6666666666666666,
          0.8333333333333334,
          0.7916666666666666,
          0.7083333333333334,
          0.7083333333333334,
          0.7916666666666666,
          0.9166666666666666,
          0.7916666666666666,
          0.6666666666666666,
          0.6666666666666666,
          0.875,
          0.75,
          0.75,
          0.8333333333333334,
          0.9583333333333334,
          0.8333333333333334,
          0.7916666666666666,
          0.75,
          0.75,
          0.7083333333333334,
          0.7916666666666666,
          0.75,
          0.7083333333333334,
          0.8333333333333334,
          0.7083333333333334,
          0.7083333333333334,
          0.75,
          0.8333333333333334,
          0.875,
          0.75,
          0.75,
          0.9166666666666666,
          0.75,
          0.6666666666666666,
          0.6666666666666666,
          0.7083333333333334,
          0.875,
          0.8333333333333334,
          0.6666666666666666,
          0.7916666666666666,
          0.75,
          0.6666666666666666,
          0.625,
          0.625,
          0.9166666666666666,
          0.8333333333333334,
          0.8333333333333334,
          0.75,
          0.7916666666666666,
          0.8333333333333334,
          0.9166666666666666,
          0.6666666666666666,
          0.7083333333333334,
          0.6666666666666666,
          0.8333333333333334,
          0.7083333333333334,
          0.7916666666666666,
          0.6666666666666666,
          0.75,
          0.6666666666666666,
          0.625,
          0.7916666666666666,
          0.6666666666666666,
          0.6666666666666666,
          0.7916666666666666,
          0.9166666666666666,
          0.625,
          0.75,
          0.7916666666666666,
          0.7083333333333334,
          0.7916666666666666,
          0.7083333333333334,
          0.625,
          0.7916666666666666,
          0.7916666666666666,
          0.75,
          0.875,
          0.7083333333333334,
          0.9166666666666666,
          0.5833333333333334,
          0.7916666666666666,
          0.8333333333333334,
          0.875,
          0.7083333333333334,
          0.5416666666666666,
          0.9166666666666666,
          0.75,
          0.6666666666666666,
          0.7083333333333334,
          0.75,
          0.75,
          0.875,
          0.625,
          0.875,
          0.9166666666666666,
          0.7083333333333334,
          0.6666666666666666,
          0.9583333333333334,
          0.8333333333333334,
          0.5833333333333334,
          0.7083333333333334,
          0.7083333333333334,
          0.7083333333333334,
          0.7916666666666666,
          0.625,
          0.75,
          0.875,
          0.7916666666666666,
          0.6666666666666666,
          0.7916666666666666,
          0.8333333333333334,
          0.5833333333333334,
          0.5833333333333334,
          0.7916666666666666,
          0.7083333333333334,
          0.375,
          0.8333333333333334,
          0.7916666666666666,
          0.7916666666666666,
          0.8333333333333334,
          0.6666666666666666,
          0.7916666666666666,
          0.8333333333333334,
          0.8333333333333334,
          0.8333333333333334,
          0.75,
          0.7916666666666666,
          0.7083333333333334,
          0.7083333333333334,
          0.9583333333333334,
          0.9583333333333334,
          0.7083333333333334,
          0.5,
          0.6666666666666666,
          0.7083333333333334,
          0.7083333333333334,
          0.7916666666666666,
          0.5833333333333334,
          0.75,
          0.625,
          0.9166666666666666,
          0.5833333333333334,
          0.6666666666666666,
          0.8333333333333334,
          0.7083333333333334,
          0.7083333333333334,
          0.75,
          0.5833333333333334,
          0.625,
          0.7916666666666666,
          0.75,
          0.7083333333333334,
          0.75,
          0.75,
          0.8333333333333334,
          0.8333333333333334,
          0.7916666666666666,
          0.7083333333333334,
          0.6666666666666666,
          0.875,
          0.75,
          0.7083333333333334,
          0.625,
          0.8333333333333334,
          0.7083333333333334,
          0.9166666666666666,
          0.9166666666666666,
          0.75,
          0.625,
          0.75,
          0.7083333333333334,
          0.5416666666666666,
          0.7916666666666666,
          0.8333333333333334,
          0.7916666666666666,
          0.6666666666666666,
          0.625,
          0.75,
          0.7083333333333334,
          0.625,
          0.6666666666666666,
          0.75,
          0.75,
          0.8333333333333334,
          0.6666666666666666,
          0.8333333333333334,
          0.625,
          0.75,
          0.5,
          0.8333333333333334,
          0.4166666666666667,
          0.6666666666666666,
          0.6666666666666666,
          0.7083333333333334,
          0.7916666666666666,
          0.625,
          0.8333333333333334,
          0.7916666666666666,
          0.6666666666666666,
          0.75,
          0.875,
          0.75,
          0.7916666666666666,
          0.7083333333333334,
          0.8333333333333334,
          0.9166666666666666,
          0.7916666666666666,
          0.6666666666666666,
          0.8333333333333334,
          0.875,
          0.8333333333333334,
          0.6666666666666666,
          0.8333333333333334,
          0.7916666666666666,
          0.8333333333333334,
          0.7083333333333334,
          0.7916666666666666,
          0.7083333333333334,
          0.6666666666666666,
          0.625,
          0.75,
          0.7916666666666666,
          0.7916666666666666,
          0.75,
          0.5833333333333334,
          0.75,
          0.5416666666666666,
          0.7083333333333334,
          0.8333333333333334,
          0.75,
          0.5833333333333334,
          0.6666666666666666,
          0.8333333333333334,
          0.6666666666666666,
          0.5833333333333334,
          0.7083333333333334,
          0.8333333333333334,
          0.7916666666666666,
          0.7916666666666666,
          0.7916666666666666,
          0.7083333333333334,
          0.875,
          0.7916666666666666,
          0.8333333333333334,
          0.6666666666666666,
          0.5,
          0.7916666666666666,
          0.6666666666666666,
          0.75,
          0.7916666666666666,
          0.7083333333333334,
          0.8333333333333334,
          0.625,
          0.75,
          0.5833333333333334,
          0.875,
          0.7916666666666666,
          0.875,
          0.75,
          0.75,
          0.75,
          0.6666666666666666,
          0.7916666666666666,
          0.5,
          0.875,
          0.8333333333333334,
          0.875,
          0.75,
          0.625,
          0.6666666666666666,
          0.9583333333333334,
          0.9166666666666666,
          0.7916666666666666,
          0.75,
          0.7916666666666666,
          0.8333333333333334,
          0.7916666666666666,
          0.6666666666666666,
          0.875,
          0.7916666666666666,
          0.7083333333333334,
          0.75,
          0.6666666666666666,
          0.7916666666666666,
          0.7083333333333334,
          0.875,
          0.6666666666666666,
          0.7916666666666666,
          0.7916666666666666,
          0.6666666666666666,
          0.7916666666666666,
          0.4583333333333333,
          0.7916666666666666,
          0.75,
          0.75,
          0.7916666666666666,
          0.7916666666666666,
          0.75,
          0.6666666666666666,
          0.875,
          0.75,
          0.625,
          0.875,
          0.7916666666666666,
          0.7083333333333334,
          0.5833333333333334,
          0.625,
          0.6666666666666666,
          0.625,
          0.7083333333333334,
          0.7083333333333334,
          0.8333333333333334,
          0.75,
          0.7916666666666666,
          0.6666666666666666,
          0.7916666666666666,
          0.9583333333333334,
          0.875,
          0.75,
          0.7916666666666666,
          0.75,
          0.7916666666666666,
          0.875,
          0.875,
          0.9166666666666666,
          0.625,
          0.7083333333333334,
          0.6666666666666666,
          0.75,
          0.875,
          0.6666666666666666,
          0.6666666666666666,
          0.875,
          0.75,
          0.7916666666666666,
          0.7916666666666666,
          0.7916666666666666,
          0.875,
          0.75,
          0.6666666666666666,
          0.4583333333333333,
          0.5833333333333334,
          0.7083333333333334,
          0.9166666666666666,
          0.875,
          0.625,
          0.6666666666666666,
          0.7083333333333334,
          0.5833333333333334,
          0.75,
          0.7916666666666666,
          0.7916666666666666,
          0.7083333333333334,
          0.75,
          0.75,
          0.7083333333333334,
          0.875,
          0.7083333333333334,
          0.8333333333333334,
          0.875,
          0.625,
          0.75,
          0.8333333333333334,
          0.7916666666666666,
          0.875,
          0.75,
          0.75,
          0.875,
          0.6666666666666666,
          0.5833333333333334,
          0.875,
          0.8333333333333334,
          0.5833333333333334,
          0.8333333333333334,
          0.9583333333333334,
          0.8333333333333334,
          0.7083333333333334,
          0.75,
          0.75,
          0.6666666666666666,
          0.8333333333333334,
          0.75,
          0.8333333333333334,
          0.7083333333333334,
          0.625,
          0.625,
          0.625,
          0.7916666666666666,
          0.6666666666666666,
          0.9583333333333334,
          0.8333333333333334,
          0.625,
          0.75,
          0.6666666666666666,
          0.8333333333333334,
          0.9583333333333334,
          0.6666666666666666,
          0.5,
          0.9166666666666666,
          0.7083333333333334,
          0.7083333333333334,
          0.6666666666666666,
          0.7916666666666666,
          0.875,
          0.875,
          0.8333333333333334,
          0.7916666666666666,
          0.625,
          0.7083333333333334,
          0.75,
          0.8333333333333334,
          0.75,
          0.7083333333333334,
          0.6666666666666666,
          0.7083333333333334,
          0.75,
          0.7083333333333334,
          0.5833333333333334,
          0.7916666666666666,
          0.8333333333333334,
          0.7083333333333334,
          0.75,
          0.8333333333333334,
          0.8333333333333334,
          0.6666666666666666,
          0.9166666666666666,
          0.625,
          0.8333333333333334,
          0.6666666666666666,
          0.7083333333333334,
          0.875,
          0.8333333333333334,
          0.7083333333333334,
          0.6666666666666666,
          0.7916666666666666,
          0.75,
          0.8333333333333334,
          0.8333333333333334,
          0.6666666666666666,
          0.875,
          0.75,
          0.75,
          0.7916666666666666,
          0.6666666666666666,
          0.875,
          0.75,
          0.7083333333333334,
          0.7083333333333334,
          0.7083333333333334,
          0.6666666666666666,
          0.7916666666666666,
          0.7916666666666666,
          0.75,
          0.7916666666666666,
          0.875,
          0.7916666666666666,
          0.7083333333333334,
          0.5833333333333334,
          0.7083333333333334,
          0.5833333333333334,
          0.5,
          0.75,
          0.7916666666666666,
          0.5,
          0.75,
          0.7083333333333334,
          0.9166666666666666,
          0.5416666666666666,
          0.75,
          0.7083333333333334,
          0.875,
          0.6666666666666666,
          0.875,
          0.8333333333333334,
          0.4166666666666667,
          0.7083333333333334,
          0.875,
          0.75,
          0.8333333333333334,
          0.7916666666666666,
          0.875,
          0.75,
          0.7916666666666666,
          0.6666666666666666,
          0.7083333333333334,
          0.6666666666666666,
          0.7916666666666666,
          0.875,
          0.6666666666666666,
          0.875,
          0.8333333333333334,
          0.75,
          0.7916666666666666,
          0.5416666666666666,
          0.875,
          0.7916666666666666,
          0.8333333333333334,
          0.7083333333333334,
          0.875,
          0.7083333333333334,
          0.7916666666666666,
          0.7083333333333334,
          0.7916666666666666,
          0.8333333333333334,
          0.75,
          0.625,
          0.7916666666666666,
          0.6666666666666666,
          0.75,
          0.7916666666666666,
          0.875,
          0.8333333333333334,
          0.625,
          0.8333333333333334,
          0.8333333333333334,
          0.7083333333333334,
          0.8333333333333334,
          0.8333333333333334,
          0.875,
          0.75,
          0.7916666666666666,
          0.7916666666666666,
          0.75,
          0.625,
          0.75,
          0.7083333333333334,
          0.625,
          0.6666666666666666,
          0.875,
          0.7083333333333334,
          0.7083333333333334,
          0.875,
          0.8333333333333334,
          0.7083333333333334,
          1,
          0.7916666666666666,
          0.8333333333333334,
          0.9166666666666666,
          0.875,
          0.6666666666666666,
          0.75,
          0.8333333333333334,
          0.6666666666666666,
          0.8333333333333334,
          0.7083333333333334,
          0.8333333333333334,
          0.75,
          0.7083333333333334,
          0.7916666666666666,
          0.7916666666666666,
          0.8333333333333334,
          0.8333333333333334,
          0.875,
          0.7083333333333334,
          0.7916666666666666,
          0.8333333333333334,
          0.625,
          0.75,
          0.8333333333333334,
          0.7083333333333334,
          0.7916666666666666,
          0.7083333333333334,
          0.7083333333333334,
          0.7083333333333334,
          0.8333333333333334,
          0.875,
          0.9166666666666666,
          0.7916666666666666,
          0.7916666666666666,
          0.8333333333333334,
          0.625,
          0.75,
          0.7916666666666666,
          0.5416666666666666,
          0.75,
          0.875,
          0.7916666666666666,
          0.875,
          0.7916666666666666,
          0.7916666666666666,
          0.6666666666666666,
          0.9166666666666666,
          0.7916666666666666,
          0.7916666666666666,
          0.75,
          0.75,
          0.75,
          0.75,
          0.7916666666666666,
          0.75,
          0.75,
          0.6666666666666666,
          0.875,
          0.5833333333333334,
          0.7916666666666666,
          0.7916666666666666,
          0.8333333333333334,
          0.8333333333333334,
          0.875,
          0.75,
          0.5,
          0.9166666666666666,
          0.7916666666666666,
          0.8333333333333334,
          0.7083333333333334,
          0.875,
          0.8333333333333334,
          0.8333333333333334,
          0.9166666666666666,
          0.875,
          0.875,
          0.875,
          0.7916666666666666,
          0.8333333333333334,
          0.7083333333333334,
          0.75,
          0.6666666666666666,
          0.8333333333333334,
          0.75,
          0.75,
          0.625,
          0.7083333333333334,
          0.5,
          0.8333333333333334,
          0.9583333333333334,
          0.75,
          0.8333333333333334,
          0.7916666666666666,
          0.75,
          0.6666666666666666,
          0.875,
          0.7083333333333334,
          0.7916666666666666,
          0.7083333333333334,
          0.625,
          0.875,
          0.9583333333333334,
          0.7916666666666666,
          0.75,
          0.7916666666666666,
          0.9166666666666666,
          0.7083333333333334,
          0.8333333333333334,
          0.5,
          0.8333333333333334,
          0.6666666666666666,
          0.5833333333333334,
          0.875,
          0.875,
          0.8333333333333334,
          0.8333333333333334,
          0.5833333333333334,
          0.7083333333333334,
          0.7083333333333334,
          0.6666666666666666,
          0.625,
          0.6666666666666666,
          0.625,
          0.5833333333333334,
          0.625,
          0.9166666666666666,
          0.7916666666666666,
          0.7083333333333334,
          0.875,
          0.875,
          0.625,
          0.75,
          0.7083333333333334,
          0.75,
          0.6666666666666666,
          0.625,
          0.7083333333333334,
          0.6666666666666666,
          0.8333333333333334,
          0.8333333333333334,
          0.7916666666666666,
          0.7083333333333334,
          0.625,
          0.75,
          0.75,
          0.7083333333333334,
          0.7916666666666666,
          0.8333333333333334,
          0.8333333333333334,
          0.75,
          0.7916666666666666,
          0.8333333333333334,
          0.7916666666666666,
          0.6666666666666666,
          0.8333333333333334,
          0.875,
          0.875,
          0.8333333333333334,
          0.7916666666666666,
          0.9166666666666666,
          0.7916666666666666,
          0.7916666666666666,
          0.8333333333333334,
          0.875,
          0.75,
          0.7916666666666666,
          0.5833333333333334,
          0.7916666666666666,
          0.5833333333333334,
          0.7916666666666666,
          0.7083333333333334,
          0.875,
          0.875,
          0.7916666666666666,
          0.875,
          0.875,
          0.9166666666666666,
          0.9166666666666666,
          0.875,
          0.8333333333333334,
          0.625,
          0.8333333333333334,
          0.875,
          0.875,
          0.8333333333333334,
          0.7916666666666666,
          0.6666666666666666,
          0.5,
          0.6666666666666666,
          0.75,
          0.6666666666666666,
          0.75,
          0.6666666666666666,
          0.6666666666666666,
          0.8333333333333334,
          0.9166666666666666,
          0.75,
          0.8333333333333334,
          0.75,
          0.8333333333333334,
          0.9583333333333334,
          0.6666666666666666,
          0.8333333333333334,
          0.6666666666666666,
          0.8333333333333334,
          0.8333333333333334,
          0.9166666666666666,
          0.7916666666666666,
          0.8333333333333334,
          0.6666666666666666,
          0.875,
          0.375,
          0.75,
          0.7083333333333334,
          0.7916666666666666,
          0.75,
          0.8333333333333334,
          0.875,
          0.6666666666666666,
          0.8333333333333334,
          0.7916666666666666,
          0.7916666666666666,
          0.8333333333333334,
          0.8333333333333334,
          0.8333333333333334,
          0.875,
          0.75,
          0.7916666666666666,
          0.9166666666666666,
          0.8333333333333334,
          0.9166666666666666,
          0.1666666666666666,
          0.9583333333333334,
          0.75,
          0.8333333333333334,
          0.7083333333333334,
          0.5416666666666666,
          0.9166666666666666,
          0.625,
          0.75,
          0.875,
          0.7916666666666666,
          0.625,
          0.9166666666666666,
          0.9583333333333334,
          0.7083333333333334,
          0.875,
          0.8333333333333334,
          0.6666666666666666,
          1,
          0.8333333333333334,
          0.9166666666666666,
          0.875,
          0.7083333333333334,
          0.7916666666666666,
          0.8333333333333334,
          0.875,
          0.875,
          0.8333333333333334,
          0.75,
          0.875,
          0.875,
          1,
          0.8333333333333334,
          0.8333333333333334,
          0.875,
          0.8333333333333334,
          0.6666666666666666,
          0.8333333333333334,
          0.8333333333333334,
          0.7083333333333334,
          0.7916666666666666,
          0.8333333333333334,
          1,
          0.9583333333333334,
          0.875,
          0.9166666666666666,
          0.6666666666666666,
          0.8333333333333334,
          0.625,
          0.8333333333333334,
          0.8333333333333334,
          0.75,
          0.7916666666666666,
          0.75,
          0.9166666666666666,
          0.8333333333333334,
          0.7916666666666666,
          0.75,
          0.875,
          0.875,
          0.875,
          0.875,
          0.9583333333333334,
          0.7916666666666666,
          0.9166666666666666,
          0.7916666666666666,
          0.7083333333333334,
          0.875,
          0.75,
          0.9583333333333334,
          0.7083333333333334,
          0.8333333333333334,
          0.6666666666666666,
          0.8333333333333334,
          0.875,
          0.9166666666666666,
          0.75,
          0.7916666666666666,
          0.875,
          0.625,
          0.875,
          0.7916666666666666,
          0.875,
          0.9166666666666666,
          0.75,
          0.8333333333333334,
          0.875,
          0.75,
          0.5833333333333334,
          0.8333333333333334,
          0.7916666666666666,
          0.8333333333333334,
          0.9166666666666666,
          0.875,
          0.7916666666666666,
          0.875,
          0.7916666666666666,
          0.625,
          0.875,
          0.7083333333333334,
          0.75,
          0.875,
          0.7916666666666666,
          0.8333333333333334,
          0.6666666666666666,
          0.6666666666666666,
          0.875,
          0.9166666666666666,
          0.875,
          0.7916666666666666,
          0.875,
          0.9583333333333334,
          0.7083333333333334,
          0.875,
          0.9166666666666666,
          0.8333333333333334,
          0.7916666666666666,
          0.7916666666666666,
          0.5833333333333334,
          0.875,
          0.6666666666666666,
          0.875,
          0.75,
          0.75,
          0.7916666666666666,
          0.7083333333333334,
          0.8333333333333334,
          0.8333333333333334,
          0.75,
          0.8333333333333334,
          0.7916666666666666,
          0.625,
          0.7916666666666666,
          0.6666666666666666,
          0.9166666666666666,
          0.8333333333333334,
          0.9166666666666666,
          0.9166666666666666,
          0.9583333333333334,
          0.625,
          0.875,
          0.7083333333333334,
          0.875,
          0.8333333333333334,
          0.75,
          0.8333333333333334,
          0.875,
          0.9166666666666666,
          1,
          0.9583333333333334,
          0.8333333333333334,
          0.7083333333333334,
          0.9166666666666666,
          0.8333333333333334,
          0.9166666666666666,
          0.875,
          0.875,
          0.8333333333333334,
          0.75,
          0.9583333333333334,
          0.8333333333333334,
          0.6666666666666666,
          0.75,
          0.75,
          0.9583333333333334,
          0.7916666666666666,
          0.7083333333333334,
          0.7083333333333334,
          0.7916666666666666,
          0.875,
          0.7916666666666666,
          0.8333333333333334,
          0.7916666666666666,
          0.875,
          0.9166666666666666,
          0.7916666666666666,
          0.7916666666666666,
          0.7916666666666666,
          0.7083333333333334,
          0.875,
          0.5833333333333334,
          0.75,
          0.5833333333333334,
          0.8333333333333334,
          0.8333333333333334,
          0.9166666666666666,
          0.7916666666666666,
          0.875,
          0.7916666666666666,
          0.7916666666666666,
          0.875,
          0.7083333333333334,
          0.7083333333333334,
          0.875,
          1,
          0.75,
          0.7083333333333334,
          0.7916666666666666,
          0.875,
          0.6666666666666666,
          0.7916666666666666,
          0.875,
          0.7916666666666666,
          0.8333333333333334,
          0.8333333333333334,
          0.7916666666666666,
          1,
          0.9583333333333334,
          0.875,
          0.7083333333333334,
          0.8333333333333334,
          0.9166666666666666,
          0.7916666666666666,
          0.7083333333333334,
          0.8333333333333334,
          0.7916666666666666,
          0.9166666666666666,
          0.8333333333333334,
          0.7916666666666666,
          0.7916666666666666,
          0.875,
          0.9583333333333334,
          0.875,
          0.7083333333333334,
          0.8333333333333334,
          0.7083333333333334,
          0.75,
          0.875,
          0.8333333333333334,
          0.7916666666666666,
          0.9166666666666666,
          0.7916666666666666,
          0.9583333333333334,
          0.5416666666666666,
          0.8333333333333334,
          0.6666666666666666,
          0.9166666666666666,
          0.5,
          0.75,
          0.8333333333333334,
          0.875,
          0.8333333333333334,
          0.75,
          0.875,
          0.5,
          0.7916666666666666,
          0.75,
          0.9166666666666666,
          0.8333333333333334,
          0.8333333333333334,
          0.6666666666666666,
          0.7916666666666666,
          0.8333333333333334,
          0.5416666666666666,
          0.7916666666666666,
          0.7083333333333334,
          0.875,
          0.9166666666666666,
          0.8333333333333334,
          0.6666666666666666,
          0.9583333333333334,
          0.625,
          0.875,
          0.9583333333333334,
          0.7916666666666666,
          0.9583333333333334,
          0.625,
          0.875,
          0.9166666666666666,
          0.7083333333333334,
          0.7916666666666666,
          0.625,
          0.7083333333333334,
          0.625,
          0.7083333333333334,
          0.875,
          0.9166666666666666,
          0.8333333333333334,
          0.6666666666666666,
          0.9166666666666666,
          0.7916666666666666,
          0.8333333333333334,
          0.7916666666666666,
          0.7916666666666666,
          0.9583333333333334,
          0.625,
          0.8333333333333334,
          0.7916666666666666,
          0.8333333333333334,
          0.875,
          0.6666666666666666,
          0.8333333333333334,
          0.9583333333333334,
          0.9166666666666666,
          0.8333333333333334,
          0.7083333333333334,
          0.9166666666666666,
          0.6666666666666666,
          0.8333333333333334,
          0.625,
          0.8333333333333334,
          0.625,
          0.75,
          0.7083333333333334,
          0.625,
          0.7916666666666666,
          0.9166666666666666,
          0.7916666666666666,
          0.875,
          0.6666666666666666,
          0.8333333333333334,
          0.9583333333333334,
          0.8333333333333334,
          0.9166666666666666,
          0.7083333333333334,
          0.7083333333333334,
          0.875,
          0.875,
          0.7083333333333334,
          0.875,
          0.8333333333333334,
          0.75,
          0.7083333333333334,
          0.9583333333333334,
          0.9166666666666666,
          0.8333333333333334,
          0.7083333333333334,
          0.6666666666666666,
          0.875,
          0.875,
          0.75,
          0.8333333333333334,
          0.75,
          0.9166666666666666,
          0.9166666666666666,
          0.7916666666666666,
          0.875,
          0.5416666666666666,
          1,
          0.6666666666666666,
          0.8333333333333334,
          0.8333333333333334,
          0.75,
          0.7916666666666666,
          0.7916666666666666,
          0.9583333333333334,
          0.9166666666666666,
          0.75,
          0.625,
          0.875,
          0.7916666666666666,
          0.75,
          0.75,
          0.625,
          0.9166666666666666,
          0.875,
          0.875,
          0.7916666666666666,
          0.7916666666666666,
          0.8333333333333334,
          0.7916666666666666,
          0.7083333333333334,
          0.8333333333333334,
          0.8333333333333334,
          0.75,
          0.875,
          0.5,
          0.8333333333333334,
          0.7083333333333334,
          0.9166666666666666,
          0.75,
          0.8333333333333334,
          0.7916666666666666,
          0.9166666666666666,
          0.9583333333333334,
          0.875,
          0.8333333333333334,
          0.75,
          0.9166666666666666,
          0.6666666666666666,
          0.7916666666666666,
          0.8333333333333334,
          0.8333333333333334,
          0.6666666666666666,
          0.9166666666666666,
          0.9166666666666666,
          0.875,
          0.6666666666666666,
          0.9166666666666666,
          0.75,
          0.7916666666666666,
          0.7916666666666666,
          0.9583333333333334,
          0.625,
          0.7083333333333334,
          0.875,
          0.9583333333333334,
          0.9166666666666666,
          1,
          0.875,
          0.6666666666666666,
          0.9166666666666666,
          0.8333333333333334,
          0.75,
          0.8333333333333334,
          0.5416666666666666,
          0.875,
          0.8333333333333334,
          0.9583333333333334,
          0.875,
          0.6666666666666666,
          0.6666666666666666,
          0.875,
          0.8333333333333334,
          0.6666666666666666,
          0.7916666666666666,
          0.7916666666666666,
          0.75,
          0.7916666666666666,
          0.7916666666666666,
          0.8333333333333334,
          0.8333333333333334,
          0.9166666666666666,
          0.7083333333333334,
          0.7916666666666666,
          0.8333333333333334,
          0.875,
          0.7083333333333334,
          0.75,
          0.7083333333333334,
          0.7916666666666666,
          0.7916666666666666,
          0.875,
          0.7083333333333334,
          0.9166666666666666,
          0.8333333333333334,
          0.9166666666666666,
          0.8333333333333334,
          0.75,
          0.875,
          0.75,
          0.7916666666666666,
          0.8333333333333334,
          0.75,
          0.9166666666666666,
          0.8333333333333334,
          0.875,
          0.875,
          0.7916666666666666,
          0.7083333333333334,
          0.875,
          0.8333333333333334,
          0.7083333333333334,
          0.7916666666666666,
          0.75,
          0.9166666666666666,
          0.9166666666666666,
          0.7916666666666666,
          0.8333333333333334,
          0.9166666666666666,
          0.8333333333333334,
          0.6666666666666666,
          0.7083333333333334,
          0.6666666666666666,
          0.7083333333333334,
          0.5833333333333334,
          0.625,
          0.7916666666666666,
          0.9583333333333334,
          0.75,
          0.875,
          0.7916666666666666,
          0.7083333333333334,
          0.7083333333333334,
          0.7083333333333334,
          0.75,
          0.7916666666666666,
          0.875,
          0.6666666666666666,
          0.75,
          0.6666666666666666,
          0.5,
          0.75,
          0.8333333333333334,
          0.8333333333333334,
          0.7916666666666666,
          0.7916666666666666,
          0.8333333333333334,
          0.8333333333333334,
          0.75,
          0.9166666666666666,
          0.8333333333333334,
          0.6666666666666666,
          0.75,
          0.75,
          0.7916666666666666,
          0.9166666666666666,
          0.75,
          0.75,
          0.7083333333333334,
          0.875,
          0.7916666666666666,
          0.875,
          0.9583333333333334,
          0.7916666666666666,
          0.75,
          0.8333333333333334,
          0.875,
          0.625,
          0.2083333333333333,
          0.75,
          0.9166666666666666,
          0.875,
          0.7916666666666666,
          0.7916666666666666,
          0.75,
          0.9166666666666666,
          0.7916666666666666,
          0.7083333333333334,
          0.75,
          0.875,
          0.6666666666666666,
          0.625,
          0.875,
          0.5833333333333334,
          0.7916666666666666,
          0.7916666666666666,
          0.875,
          0.9583333333333334,
          0.7916666666666666,
          0.9166666666666666,
          0.9166666666666666,
          0.875,
          0.7083333333333334,
          0.7083333333333334,
          0.6666666666666666,
          0.7916666666666666,
          0.5416666666666666,
          0.7916666666666666,
          0.6666666666666666,
          0.9166666666666666,
          0.875,
          0.7083333333333334,
          0.9166666666666666,
          0.9166666666666666,
          0.9166666666666666,
          0.9166666666666666,
          0.875,
          0.625,
          0.6666666666666666,
          0.875,
          0.7916666666666666,
          0.7083333333333334,
          0.8333333333333334,
          0.8333333333333334,
          0.9583333333333334,
          0.875,
          0.7916666666666666,
          0.875,
          0.875,
          0.9583333333333334,
          0.8333333333333334,
          0.8333333333333334,
          0.7083333333333334,
          0.7916666666666666,
          0.7083333333333334,
          0.75,
          0.75,
          0.875,
          0.875,
          0.8333333333333334,
          0.75,
          0.625,
          0.625,
          0.8333333333333334,
          0.7916666666666666,
          0.9166666666666666,
          0.9166666666666666,
          0.7916666666666666,
          0.9583333333333334,
          0.75,
          0.75,
          0.8333333333333334,
          0.6666666666666666,
          0.7916666666666666,
          0.875,
          0.7916666666666666,
          0.9166666666666666,
          0.7083333333333334,
          0.8333333333333334,
          0.9166666666666666,
          0.9166666666666666,
          0.5833333333333334,
          0.9166666666666666,
          0.7916666666666666,
          0.9166666666666666,
          0.8333333333333334,
          0.7916666666666666,
          0.9166666666666666,
          0.9166666666666666,
          0.7083333333333334,
          0.9583333333333334,
          0.9583333333333334,
          0.7916666666666666,
          0.75,
          0.875,
          0.9166666666666666,
          0.7916666666666666,
          0.7083333333333334,
          0.75,
          0.5416666666666666,
          0.875,
          0.6666666666666666,
          0.6666666666666666,
          0.7916666666666666,
          0.875,
          0.625,
          0.8333333333333334,
          0.9166666666666666,
          0.8333333333333334,
          0.75,
          0.8333333333333334,
          0.875,
          0.8333333333333334,
          0.875
         ],
         "xaxis": "x",
         "yaxis": "y"
        }
       ],
       "layout": {
        "barmode": "relative",
        "legend": {
         "tracegroupgap": 0
        },
        "margin": {
         "t": 60
        },
        "shapes": [
         {
          "line": {
           "color": "red",
           "width": 2
          },
          "type": "line",
          "x0": 0.795625,
          "x1": 0.795625,
          "xref": "x",
          "y0": 0,
          "y1": 1,
          "yref": "y domain"
         },
         {
          "line": {
           "color": "orange",
           "width": 2
          },
          "type": "line",
          "x0": 0.75,
          "x1": 0.75,
          "xref": "x",
          "y0": 0,
          "y1": 1,
          "yref": "y domain"
         },
         {
          "line": {
           "color": "green",
           "width": 2
          },
          "type": "line",
          "x0": 0.875,
          "x1": 0.875,
          "xref": "x",
          "y0": 0,
          "y1": 1,
          "yref": "y domain"
         }
        ],
        "template": {
         "data": {
          "bar": [
           {
            "error_x": {
             "color": "#2a3f5f"
            },
            "error_y": {
             "color": "#2a3f5f"
            },
            "marker": {
             "line": {
              "color": "#E5ECF6",
              "width": 0.5
             },
             "pattern": {
              "fillmode": "overlay",
              "size": 10,
              "solidity": 0.2
             }
            },
            "type": "bar"
           }
          ],
          "barpolar": [
           {
            "marker": {
             "line": {
              "color": "#E5ECF6",
              "width": 0.5
             },
             "pattern": {
              "fillmode": "overlay",
              "size": 10,
              "solidity": 0.2
             }
            },
            "type": "barpolar"
           }
          ],
          "carpet": [
           {
            "aaxis": {
             "endlinecolor": "#2a3f5f",
             "gridcolor": "white",
             "linecolor": "white",
             "minorgridcolor": "white",
             "startlinecolor": "#2a3f5f"
            },
            "baxis": {
             "endlinecolor": "#2a3f5f",
             "gridcolor": "white",
             "linecolor": "white",
             "minorgridcolor": "white",
             "startlinecolor": "#2a3f5f"
            },
            "type": "carpet"
           }
          ],
          "choropleth": [
           {
            "colorbar": {
             "outlinewidth": 0,
             "ticks": ""
            },
            "type": "choropleth"
           }
          ],
          "contour": [
           {
            "colorbar": {
             "outlinewidth": 0,
             "ticks": ""
            },
            "colorscale": [
             [
              0,
              "#0d0887"
             ],
             [
              0.1111111111111111,
              "#46039f"
             ],
             [
              0.2222222222222222,
              "#7201a8"
             ],
             [
              0.3333333333333333,
              "#9c179e"
             ],
             [
              0.4444444444444444,
              "#bd3786"
             ],
             [
              0.5555555555555556,
              "#d8576b"
             ],
             [
              0.6666666666666666,
              "#ed7953"
             ],
             [
              0.7777777777777778,
              "#fb9f3a"
             ],
             [
              0.8888888888888888,
              "#fdca26"
             ],
             [
              1,
              "#f0f921"
             ]
            ],
            "type": "contour"
           }
          ],
          "contourcarpet": [
           {
            "colorbar": {
             "outlinewidth": 0,
             "ticks": ""
            },
            "type": "contourcarpet"
           }
          ],
          "heatmap": [
           {
            "colorbar": {
             "outlinewidth": 0,
             "ticks": ""
            },
            "colorscale": [
             [
              0,
              "#0d0887"
             ],
             [
              0.1111111111111111,
              "#46039f"
             ],
             [
              0.2222222222222222,
              "#7201a8"
             ],
             [
              0.3333333333333333,
              "#9c179e"
             ],
             [
              0.4444444444444444,
              "#bd3786"
             ],
             [
              0.5555555555555556,
              "#d8576b"
             ],
             [
              0.6666666666666666,
              "#ed7953"
             ],
             [
              0.7777777777777778,
              "#fb9f3a"
             ],
             [
              0.8888888888888888,
              "#fdca26"
             ],
             [
              1,
              "#f0f921"
             ]
            ],
            "type": "heatmap"
           }
          ],
          "heatmapgl": [
           {
            "colorbar": {
             "outlinewidth": 0,
             "ticks": ""
            },
            "colorscale": [
             [
              0,
              "#0d0887"
             ],
             [
              0.1111111111111111,
              "#46039f"
             ],
             [
              0.2222222222222222,
              "#7201a8"
             ],
             [
              0.3333333333333333,
              "#9c179e"
             ],
             [
              0.4444444444444444,
              "#bd3786"
             ],
             [
              0.5555555555555556,
              "#d8576b"
             ],
             [
              0.6666666666666666,
              "#ed7953"
             ],
             [
              0.7777777777777778,
              "#fb9f3a"
             ],
             [
              0.8888888888888888,
              "#fdca26"
             ],
             [
              1,
              "#f0f921"
             ]
            ],
            "type": "heatmapgl"
           }
          ],
          "histogram": [
           {
            "marker": {
             "pattern": {
              "fillmode": "overlay",
              "size": 10,
              "solidity": 0.2
             }
            },
            "type": "histogram"
           }
          ],
          "histogram2d": [
           {
            "colorbar": {
             "outlinewidth": 0,
             "ticks": ""
            },
            "colorscale": [
             [
              0,
              "#0d0887"
             ],
             [
              0.1111111111111111,
              "#46039f"
             ],
             [
              0.2222222222222222,
              "#7201a8"
             ],
             [
              0.3333333333333333,
              "#9c179e"
             ],
             [
              0.4444444444444444,
              "#bd3786"
             ],
             [
              0.5555555555555556,
              "#d8576b"
             ],
             [
              0.6666666666666666,
              "#ed7953"
             ],
             [
              0.7777777777777778,
              "#fb9f3a"
             ],
             [
              0.8888888888888888,
              "#fdca26"
             ],
             [
              1,
              "#f0f921"
             ]
            ],
            "type": "histogram2d"
           }
          ],
          "histogram2dcontour": [
           {
            "colorbar": {
             "outlinewidth": 0,
             "ticks": ""
            },
            "colorscale": [
             [
              0,
              "#0d0887"
             ],
             [
              0.1111111111111111,
              "#46039f"
             ],
             [
              0.2222222222222222,
              "#7201a8"
             ],
             [
              0.3333333333333333,
              "#9c179e"
             ],
             [
              0.4444444444444444,
              "#bd3786"
             ],
             [
              0.5555555555555556,
              "#d8576b"
             ],
             [
              0.6666666666666666,
              "#ed7953"
             ],
             [
              0.7777777777777778,
              "#fb9f3a"
             ],
             [
              0.8888888888888888,
              "#fdca26"
             ],
             [
              1,
              "#f0f921"
             ]
            ],
            "type": "histogram2dcontour"
           }
          ],
          "mesh3d": [
           {
            "colorbar": {
             "outlinewidth": 0,
             "ticks": ""
            },
            "type": "mesh3d"
           }
          ],
          "parcoords": [
           {
            "line": {
             "colorbar": {
              "outlinewidth": 0,
              "ticks": ""
             }
            },
            "type": "parcoords"
           }
          ],
          "pie": [
           {
            "automargin": true,
            "type": "pie"
           }
          ],
          "scatter": [
           {
            "fillpattern": {
             "fillmode": "overlay",
             "size": 10,
             "solidity": 0.2
            },
            "type": "scatter"
           }
          ],
          "scatter3d": [
           {
            "line": {
             "colorbar": {
              "outlinewidth": 0,
              "ticks": ""
             }
            },
            "marker": {
             "colorbar": {
              "outlinewidth": 0,
              "ticks": ""
             }
            },
            "type": "scatter3d"
           }
          ],
          "scattercarpet": [
           {
            "marker": {
             "colorbar": {
              "outlinewidth": 0,
              "ticks": ""
             }
            },
            "type": "scattercarpet"
           }
          ],
          "scattergeo": [
           {
            "marker": {
             "colorbar": {
              "outlinewidth": 0,
              "ticks": ""
             }
            },
            "type": "scattergeo"
           }
          ],
          "scattergl": [
           {
            "marker": {
             "colorbar": {
              "outlinewidth": 0,
              "ticks": ""
             }
            },
            "type": "scattergl"
           }
          ],
          "scattermapbox": [
           {
            "marker": {
             "colorbar": {
              "outlinewidth": 0,
              "ticks": ""
             }
            },
            "type": "scattermapbox"
           }
          ],
          "scatterpolar": [
           {
            "marker": {
             "colorbar": {
              "outlinewidth": 0,
              "ticks": ""
             }
            },
            "type": "scatterpolar"
           }
          ],
          "scatterpolargl": [
           {
            "marker": {
             "colorbar": {
              "outlinewidth": 0,
              "ticks": ""
             }
            },
            "type": "scatterpolargl"
           }
          ],
          "scatterternary": [
           {
            "marker": {
             "colorbar": {
              "outlinewidth": 0,
              "ticks": ""
             }
            },
            "type": "scatterternary"
           }
          ],
          "surface": [
           {
            "colorbar": {
             "outlinewidth": 0,
             "ticks": ""
            },
            "colorscale": [
             [
              0,
              "#0d0887"
             ],
             [
              0.1111111111111111,
              "#46039f"
             ],
             [
              0.2222222222222222,
              "#7201a8"
             ],
             [
              0.3333333333333333,
              "#9c179e"
             ],
             [
              0.4444444444444444,
              "#bd3786"
             ],
             [
              0.5555555555555556,
              "#d8576b"
             ],
             [
              0.6666666666666666,
              "#ed7953"
             ],
             [
              0.7777777777777778,
              "#fb9f3a"
             ],
             [
              0.8888888888888888,
              "#fdca26"
             ],
             [
              1,
              "#f0f921"
             ]
            ],
            "type": "surface"
           }
          ],
          "table": [
           {
            "cells": {
             "fill": {
              "color": "#EBF0F8"
             },
             "line": {
              "color": "white"
             }
            },
            "header": {
             "fill": {
              "color": "#C8D4E3"
             },
             "line": {
              "color": "white"
             }
            },
            "type": "table"
           }
          ]
         },
         "layout": {
          "annotationdefaults": {
           "arrowcolor": "#2a3f5f",
           "arrowhead": 0,
           "arrowwidth": 1
          },
          "autotypenumbers": "strict",
          "coloraxis": {
           "colorbar": {
            "outlinewidth": 0,
            "ticks": ""
           }
          },
          "colorscale": {
           "diverging": [
            [
             0,
             "#8e0152"
            ],
            [
             0.1,
             "#c51b7d"
            ],
            [
             0.2,
             "#de77ae"
            ],
            [
             0.3,
             "#f1b6da"
            ],
            [
             0.4,
             "#fde0ef"
            ],
            [
             0.5,
             "#f7f7f7"
            ],
            [
             0.6,
             "#e6f5d0"
            ],
            [
             0.7,
             "#b8e186"
            ],
            [
             0.8,
             "#7fbc41"
            ],
            [
             0.9,
             "#4d9221"
            ],
            [
             1,
             "#276419"
            ]
           ],
           "sequential": [
            [
             0,
             "#0d0887"
            ],
            [
             0.1111111111111111,
             "#46039f"
            ],
            [
             0.2222222222222222,
             "#7201a8"
            ],
            [
             0.3333333333333333,
             "#9c179e"
            ],
            [
             0.4444444444444444,
             "#bd3786"
            ],
            [
             0.5555555555555556,
             "#d8576b"
            ],
            [
             0.6666666666666666,
             "#ed7953"
            ],
            [
             0.7777777777777778,
             "#fb9f3a"
            ],
            [
             0.8888888888888888,
             "#fdca26"
            ],
            [
             1,
             "#f0f921"
            ]
           ],
           "sequentialminus": [
            [
             0,
             "#0d0887"
            ],
            [
             0.1111111111111111,
             "#46039f"
            ],
            [
             0.2222222222222222,
             "#7201a8"
            ],
            [
             0.3333333333333333,
             "#9c179e"
            ],
            [
             0.4444444444444444,
             "#bd3786"
            ],
            [
             0.5555555555555556,
             "#d8576b"
            ],
            [
             0.6666666666666666,
             "#ed7953"
            ],
            [
             0.7777777777777778,
             "#fb9f3a"
            ],
            [
             0.8888888888888888,
             "#fdca26"
            ],
            [
             1,
             "#f0f921"
            ]
           ]
          },
          "colorway": [
           "#636efa",
           "#EF553B",
           "#00cc96",
           "#ab63fa",
           "#FFA15A",
           "#19d3f3",
           "#FF6692",
           "#B6E880",
           "#FF97FF",
           "#FECB52"
          ],
          "font": {
           "color": "#2a3f5f"
          },
          "geo": {
           "bgcolor": "white",
           "lakecolor": "white",
           "landcolor": "#E5ECF6",
           "showlakes": true,
           "showland": true,
           "subunitcolor": "white"
          },
          "hoverlabel": {
           "align": "left"
          },
          "hovermode": "closest",
          "mapbox": {
           "style": "light"
          },
          "paper_bgcolor": "white",
          "plot_bgcolor": "#E5ECF6",
          "polar": {
           "angularaxis": {
            "gridcolor": "white",
            "linecolor": "white",
            "ticks": ""
           },
           "bgcolor": "#E5ECF6",
           "radialaxis": {
            "gridcolor": "white",
            "linecolor": "white",
            "ticks": ""
           }
          },
          "scene": {
           "xaxis": {
            "backgroundcolor": "#E5ECF6",
            "gridcolor": "white",
            "gridwidth": 2,
            "linecolor": "white",
            "showbackground": true,
            "ticks": "",
            "zerolinecolor": "white"
           },
           "yaxis": {
            "backgroundcolor": "#E5ECF6",
            "gridcolor": "white",
            "gridwidth": 2,
            "linecolor": "white",
            "showbackground": true,
            "ticks": "",
            "zerolinecolor": "white"
           },
           "zaxis": {
            "backgroundcolor": "#E5ECF6",
            "gridcolor": "white",
            "gridwidth": 2,
            "linecolor": "white",
            "showbackground": true,
            "ticks": "",
            "zerolinecolor": "white"
           }
          },
          "shapedefaults": {
           "line": {
            "color": "#2a3f5f"
           }
          },
          "ternary": {
           "aaxis": {
            "gridcolor": "white",
            "linecolor": "white",
            "ticks": ""
           },
           "baxis": {
            "gridcolor": "white",
            "linecolor": "white",
            "ticks": ""
           },
           "bgcolor": "#E5ECF6",
           "caxis": {
            "gridcolor": "white",
            "linecolor": "white",
            "ticks": ""
           }
          },
          "title": {
           "x": 0.05
          },
          "xaxis": {
           "automargin": true,
           "gridcolor": "white",
           "linecolor": "white",
           "ticks": "",
           "title": {
            "standoff": 15
           },
           "zerolinecolor": "white",
           "zerolinewidth": 2
          },
          "yaxis": {
           "automargin": true,
           "gridcolor": "white",
           "linecolor": "white",
           "ticks": "",
           "title": {
            "standoff": 15
           },
           "zerolinecolor": "white",
           "zerolinewidth": 2
          }
         }
        },
        "xaxis": {
         "anchor": "y",
         "domain": [
          0,
          1
         ],
         "tickmode": "array",
         "tickvals": [
          0.795625,
          0.75,
          0.875
         ],
         "title": {
          "text": "subset_acc"
         }
        },
        "yaxis": {
         "anchor": "x",
         "domain": [
          0,
          1
         ],
         "title": {
          "text": "count"
         }
        }
       }
      }
     },
     "metadata": {},
     "output_type": "display_data"
    }
   ],
   "source": [
    "meanVal = caseAccDf[\"subset_acc\"].mean()\n",
    "# medianVal = multilabelCaseDf[\"subset_acc\"].median()\n",
    "firstQuarter = np.quantile(caseAccDf[\"subset_acc\"].values, 0.25)\n",
    "thirdQuarter = np.quantile(caseAccDf[\"subset_acc\"].values, 0.75)\n",
    "\n",
    "fig = px.histogram(caseAccDf, x=\"subset_acc\")\n",
    "fig.add_vline(x=meanVal, line_width=2, line_color=\"red\")\n",
    "# fig.add_vline(x=medianVal, line_width=2, line_color=\"blue\")\n",
    "fig.add_vline(x=firstQuarter, line_width=2, line_color=\"orange\")\n",
    "fig.add_vline(x=thirdQuarter, line_width=2, line_color=\"green\")\n",
    "\n",
    "fig.update_layout(\n",
    "    xaxis = dict(\n",
    "        tickmode = 'array',\n",
    "        tickvals = [meanVal, firstQuarter, thirdQuarter],\n",
    "    )\n",
    ")"
   ]
  },
  {
   "cell_type": "code",
   "execution_count": 34,
   "metadata": {},
   "outputs": [
    {
     "data": {
      "text/plain": [
       "0.8291016667039219"
      ]
     },
     "execution_count": 34,
     "metadata": {},
     "output_type": "execute_result"
    }
   ],
   "source": [
    "corr = partEvalMetrics[\"tp\"].corr(partEvalMetrics[\"gt_pos_ratio\"])\n",
    "corr"
   ]
  },
  {
   "cell_type": "code",
   "execution_count": 35,
   "metadata": {},
   "outputs": [
    {
     "data": {
      "text/plain": [
       "-0.7837016706378674"
      ]
     },
     "execution_count": 35,
     "metadata": {},
     "output_type": "execute_result"
    }
   ],
   "source": [
    "corr = partEvalMetrics[\"tn\"].corr(partEvalMetrics[\"gt_pos_ratio\"])\n",
    "corr"
   ]
  },
  {
   "cell_type": "code",
   "execution_count": 36,
   "metadata": {},
   "outputs": [
    {
     "data": {
      "text/plain": [
       "-0.3809453023455383"
      ]
     },
     "execution_count": 36,
     "metadata": {},
     "output_type": "execute_result"
    }
   ],
   "source": [
    "corr = partEvalMetrics[\"acc\"].corr(partEvalMetrics[\"gt_pos_ratio\"])\n",
    "corr"
   ]
  },
  {
   "cell_type": "code",
   "execution_count": null,
   "metadata": {},
   "outputs": [],
   "source": []
  }
 ],
 "metadata": {
  "kernelspec": {
   "display_name": "work",
   "language": "python",
   "name": "python3"
  },
  "language_info": {
   "codemirror_mode": {
    "name": "ipython",
    "version": 3
   },
   "file_extension": ".py",
   "mimetype": "text/x-python",
   "name": "python",
   "nbconvert_exporter": "python",
   "pygments_lexer": "ipython3",
   "version": "3.10.8 (main, Nov 24 2022, 14:13:03) [GCC 11.2.0]"
  },
  "orig_nbformat": 4,
  "vscode": {
   "interpreter": {
    "hash": "0e8f33c5a67865e6aadcd232beb3e2644a1f224e780847feacdefa5e710f41d5"
   }
  }
 },
 "nbformat": 4,
 "nbformat_minor": 2
}
