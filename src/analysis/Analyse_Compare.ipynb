{
 "cells": [
  {
   "cell_type": "code",
   "execution_count": 19,
   "metadata": {},
   "outputs": [],
   "source": [
    "import pandas as pd\n",
    "import numpy as np\n",
    "import plotly.graph_objects as go\n",
    "import plotly.express as px\n",
    "\n"
   ]
  },
  {
   "cell_type": "code",
   "execution_count": 20,
   "metadata": {},
   "outputs": [],
   "source": [
    "srcExpDir = \"/home/alextay96/Desktop/all_workspace/new_workspace/DLDataPipeline/data/results/hatchback_new_labels_pos_weight\"\n",
    "# srcExpDir = \"/home/alextay96/Desktop/all_workspace/new_workspace/DLDataPipeline/data/results/saloon_10k_bce\""
   ]
  },
  {
   "cell_type": "code",
   "execution_count": 21,
   "metadata": {},
   "outputs": [],
   "source": [
    "partCsv= f\"{srcExpDir}/part_perf.csv\"\n",
    "partPerfDf = pd.read_csv(partCsv)\n",
    "caseAccCsv= f\"{srcExpDir}/acc_perf.csv\"\n",
    "caseAccDf = pd.read_csv(caseAccCsv)\n"
   ]
  },
  {
   "cell_type": "code",
   "execution_count": 22,
   "metadata": {},
   "outputs": [
    {
     "data": {
      "text/plain": [
       "['vision_bumper_rear',\n",
       " 'vision_door_front_rh',\n",
       " 'vision_door_rear_rh',\n",
       " 'vision_misc',\n",
       " 'vision_rear_compartment',\n",
       " 'vision_rear_panel',\n",
       " 'vision_rear_quarter_rh',\n",
       " 'vision_tail_lamp_rh',\n",
       " 'vision_non_external',\n",
       " 'vision_wheel',\n",
       " 'vision_door_front_lh',\n",
       " 'vision_door_rear_lh',\n",
       " 'vision_rear_quarter_lh',\n",
       " 'vision_tail_lamp_lh',\n",
       " 'vision_bonnet',\n",
       " 'vision_bumper_front',\n",
       " 'vision_engine',\n",
       " 'vision_fender_front_lh',\n",
       " 'vision_front_panel',\n",
       " 'vision_headlamp_lh',\n",
       " 'vision_windscreen_front',\n",
       " 'vision_grille',\n",
       " 'vision_headlamp_rh',\n",
       " 'vision_fender_front_rh']"
      ]
     },
     "execution_count": 22,
     "metadata": {},
     "output_type": "execute_result"
    }
   ],
   "source": [
    "allParts = [x.replace(\"gt_\", \"\") for x in partPerfDf.columns if \"Unname\" not in x and \"gt_\" in x]\n",
    "allParts"
   ]
  },
  {
   "cell_type": "code",
   "execution_count": 23,
   "metadata": {},
   "outputs": [],
   "source": [
    "partMetrics = []\n",
    "for part in allParts:\n",
    "    gtCol = partPerfDf[f\"gt_{part}\"].values\n",
    "    predCol = partPerfDf[f\"pred_{part}\"].values\n",
    "    # posGt = gtCol[gtCol == 1]\n",
    "    posGtCount = np.count_nonzero(gtCol == 1)\n",
    "    negGtCount = np.count_nonzero(gtCol == 0)\n",
    "    posPredCount =  np.count_nonzero(predCol == 1)\n",
    "    negPredCount =  np.count_nonzero(predCol == 0)\n",
    "\n",
    "    tp =  np.count_nonzero(predCol[gtCol == 1] == 1) / posGtCount\n",
    "    tn = np.count_nonzero(predCol[gtCol == 0] == 0 ) / negGtCount\n",
    "    fp =  np.count_nonzero(predCol[gtCol == 0] == 1) / negGtCount\n",
    "    fn =  np.count_nonzero(predCol[gtCol == 1] == 0) / posGtCount\n",
    "    assert 0.99 < tp + fn < 1.01\n",
    "    assert 0.99 < tn + fp < 1.01\n",
    "    precision = tp / (tp + fp)\n",
    "    recall = tp / (tp + fn)\n",
    "    acc = (tp + tn) / (tp + tn + fp + fn)\n",
    "    f1 = 2 * (precision * recall) / (precision + recall)\n",
    "    partMetrics.append(\n",
    "        {\n",
    "            \"part\" : part,\n",
    "            \"tp\": tp,\n",
    "            \"tn\": tn,\n",
    "            \"fn\": fn,\n",
    "            \"fp\": fp,\n",
    "            \"precision\": precision,\n",
    "            \"recall\": recall,\n",
    "            \"f1\" : f1,\n",
    "            \"acc\" : acc,\n",
    "            \"gt_pos_count\" : posGtCount,\n",
    "            \"gt_neg_count\" : negGtCount,\n",
    "            \"gt_pos_ratio\" : posGtCount / (posGtCount + negGtCount),\n",
    "            \"pred_pos_ratio\" : posPredCount / (posPredCount + negPredCount),\n",
    "\n",
    "\n",
    "        }\n",
    "    )\n",
    "\n",
    "partEvalMetrics = pd.json_normalize(partMetrics)\n",
    "partEvalMetrics.to_csv(f\"{srcExpDir}/part_metrics.csv\")\n",
    "    "
   ]
  },
  {
   "cell_type": "code",
   "execution_count": 24,
   "metadata": {},
   "outputs": [],
   "source": [
    "def genVisMulitlabel(multilabelPartDf, metricName):\n",
    "    fig = go.Figure()\n",
    "    fig.add_trace(go.Bar(\n",
    "        x=multilabelPartDf[\"part\"], y=multilabelPartDf[metricName],\n",
    "        text = multilabelPartDf[metricName]\n",
    "        ))\n",
    "    avgVal = multilabelPartDf[metricName].mean()\n",
    "    fig.add_hline(y=avgVal, line_width=2, line_color=\"red\")\n",
    "    fig.update_layout(\n",
    "        yaxis = dict(\n",
    "            tickmode = 'array',\n",
    "            tickvals = [np.format_float_positional(avgVal, 2), 0.3, 0.8],\n",
    "        )\n",
    "    )\n",
    "    fig.update_layout(\n",
    "            title=go.layout.Title(\n",
    "                text=f\"{metricName}\",\n",
    "                x=0.5\n",
    "            ))\n",
    "    \n",
    "    fig.show()\n",
    "   "
   ]
  },
  {
   "cell_type": "code",
   "execution_count": 25,
   "metadata": {},
   "outputs": [
    {
     "data": {
      "application/vnd.plotly.v1+json": {
       "config": {
        "plotlyServerURL": "https://plot.ly"
       },
       "data": [
        {
         "text": [
          0.6554469779225479,
          0.644674835061263,
          0.743988684582744,
          0.8621296567908477,
          0.8180677540777918,
          0.7398932112890922,
          0.6781609195402298,
          0.624509033778476,
          0.7573295655245497,
          0.595724907063197,
          0.5981688708036622,
          0.6188466947960619,
          0.473015873015873,
          0.7294921875,
          0.8846518237801989,
          0.9267573324594461,
          0.8908941755537325,
          0.739404869251578,
          0.7072434607645876,
          0.9053472649047326,
          0.6500646830530401,
          0.4142228739002933,
          0.8916800643086816,
          0.7051744885679904
         ],
         "type": "bar",
         "x": [
          "vision_bumper_rear",
          "vision_door_front_rh",
          "vision_door_rear_rh",
          "vision_misc",
          "vision_rear_compartment",
          "vision_rear_panel",
          "vision_rear_quarter_rh",
          "vision_tail_lamp_rh",
          "vision_non_external",
          "vision_wheel",
          "vision_door_front_lh",
          "vision_door_rear_lh",
          "vision_rear_quarter_lh",
          "vision_tail_lamp_lh",
          "vision_bonnet",
          "vision_bumper_front",
          "vision_engine",
          "vision_fender_front_lh",
          "vision_front_panel",
          "vision_headlamp_lh",
          "vision_windscreen_front",
          "vision_grille",
          "vision_headlamp_rh",
          "vision_fender_front_rh"
         ],
         "y": [
          0.6554469779225479,
          0.644674835061263,
          0.743988684582744,
          0.8621296567908477,
          0.8180677540777918,
          0.7398932112890922,
          0.6781609195402298,
          0.624509033778476,
          0.7573295655245497,
          0.595724907063197,
          0.5981688708036622,
          0.6188466947960619,
          0.473015873015873,
          0.7294921875,
          0.8846518237801989,
          0.9267573324594461,
          0.8908941755537325,
          0.739404869251578,
          0.7072434607645876,
          0.9053472649047326,
          0.6500646830530401,
          0.4142228739002933,
          0.8916800643086816,
          0.7051744885679904
         ]
        }
       ],
       "layout": {
        "shapes": [
         {
          "line": {
           "color": "red",
           "width": 2
          },
          "type": "line",
          "x0": 0,
          "x1": 1,
          "xref": "x domain",
          "y0": 0.7189537586787758,
          "y1": 0.7189537586787758,
          "yref": "y"
         }
        ],
        "template": {
         "data": {
          "bar": [
           {
            "error_x": {
             "color": "#2a3f5f"
            },
            "error_y": {
             "color": "#2a3f5f"
            },
            "marker": {
             "line": {
              "color": "#E5ECF6",
              "width": 0.5
             },
             "pattern": {
              "fillmode": "overlay",
              "size": 10,
              "solidity": 0.2
             }
            },
            "type": "bar"
           }
          ],
          "barpolar": [
           {
            "marker": {
             "line": {
              "color": "#E5ECF6",
              "width": 0.5
             },
             "pattern": {
              "fillmode": "overlay",
              "size": 10,
              "solidity": 0.2
             }
            },
            "type": "barpolar"
           }
          ],
          "carpet": [
           {
            "aaxis": {
             "endlinecolor": "#2a3f5f",
             "gridcolor": "white",
             "linecolor": "white",
             "minorgridcolor": "white",
             "startlinecolor": "#2a3f5f"
            },
            "baxis": {
             "endlinecolor": "#2a3f5f",
             "gridcolor": "white",
             "linecolor": "white",
             "minorgridcolor": "white",
             "startlinecolor": "#2a3f5f"
            },
            "type": "carpet"
           }
          ],
          "choropleth": [
           {
            "colorbar": {
             "outlinewidth": 0,
             "ticks": ""
            },
            "type": "choropleth"
           }
          ],
          "contour": [
           {
            "colorbar": {
             "outlinewidth": 0,
             "ticks": ""
            },
            "colorscale": [
             [
              0,
              "#0d0887"
             ],
             [
              0.1111111111111111,
              "#46039f"
             ],
             [
              0.2222222222222222,
              "#7201a8"
             ],
             [
              0.3333333333333333,
              "#9c179e"
             ],
             [
              0.4444444444444444,
              "#bd3786"
             ],
             [
              0.5555555555555556,
              "#d8576b"
             ],
             [
              0.6666666666666666,
              "#ed7953"
             ],
             [
              0.7777777777777778,
              "#fb9f3a"
             ],
             [
              0.8888888888888888,
              "#fdca26"
             ],
             [
              1,
              "#f0f921"
             ]
            ],
            "type": "contour"
           }
          ],
          "contourcarpet": [
           {
            "colorbar": {
             "outlinewidth": 0,
             "ticks": ""
            },
            "type": "contourcarpet"
           }
          ],
          "heatmap": [
           {
            "colorbar": {
             "outlinewidth": 0,
             "ticks": ""
            },
            "colorscale": [
             [
              0,
              "#0d0887"
             ],
             [
              0.1111111111111111,
              "#46039f"
             ],
             [
              0.2222222222222222,
              "#7201a8"
             ],
             [
              0.3333333333333333,
              "#9c179e"
             ],
             [
              0.4444444444444444,
              "#bd3786"
             ],
             [
              0.5555555555555556,
              "#d8576b"
             ],
             [
              0.6666666666666666,
              "#ed7953"
             ],
             [
              0.7777777777777778,
              "#fb9f3a"
             ],
             [
              0.8888888888888888,
              "#fdca26"
             ],
             [
              1,
              "#f0f921"
             ]
            ],
            "type": "heatmap"
           }
          ],
          "heatmapgl": [
           {
            "colorbar": {
             "outlinewidth": 0,
             "ticks": ""
            },
            "colorscale": [
             [
              0,
              "#0d0887"
             ],
             [
              0.1111111111111111,
              "#46039f"
             ],
             [
              0.2222222222222222,
              "#7201a8"
             ],
             [
              0.3333333333333333,
              "#9c179e"
             ],
             [
              0.4444444444444444,
              "#bd3786"
             ],
             [
              0.5555555555555556,
              "#d8576b"
             ],
             [
              0.6666666666666666,
              "#ed7953"
             ],
             [
              0.7777777777777778,
              "#fb9f3a"
             ],
             [
              0.8888888888888888,
              "#fdca26"
             ],
             [
              1,
              "#f0f921"
             ]
            ],
            "type": "heatmapgl"
           }
          ],
          "histogram": [
           {
            "marker": {
             "pattern": {
              "fillmode": "overlay",
              "size": 10,
              "solidity": 0.2
             }
            },
            "type": "histogram"
           }
          ],
          "histogram2d": [
           {
            "colorbar": {
             "outlinewidth": 0,
             "ticks": ""
            },
            "colorscale": [
             [
              0,
              "#0d0887"
             ],
             [
              0.1111111111111111,
              "#46039f"
             ],
             [
              0.2222222222222222,
              "#7201a8"
             ],
             [
              0.3333333333333333,
              "#9c179e"
             ],
             [
              0.4444444444444444,
              "#bd3786"
             ],
             [
              0.5555555555555556,
              "#d8576b"
             ],
             [
              0.6666666666666666,
              "#ed7953"
             ],
             [
              0.7777777777777778,
              "#fb9f3a"
             ],
             [
              0.8888888888888888,
              "#fdca26"
             ],
             [
              1,
              "#f0f921"
             ]
            ],
            "type": "histogram2d"
           }
          ],
          "histogram2dcontour": [
           {
            "colorbar": {
             "outlinewidth": 0,
             "ticks": ""
            },
            "colorscale": [
             [
              0,
              "#0d0887"
             ],
             [
              0.1111111111111111,
              "#46039f"
             ],
             [
              0.2222222222222222,
              "#7201a8"
             ],
             [
              0.3333333333333333,
              "#9c179e"
             ],
             [
              0.4444444444444444,
              "#bd3786"
             ],
             [
              0.5555555555555556,
              "#d8576b"
             ],
             [
              0.6666666666666666,
              "#ed7953"
             ],
             [
              0.7777777777777778,
              "#fb9f3a"
             ],
             [
              0.8888888888888888,
              "#fdca26"
             ],
             [
              1,
              "#f0f921"
             ]
            ],
            "type": "histogram2dcontour"
           }
          ],
          "mesh3d": [
           {
            "colorbar": {
             "outlinewidth": 0,
             "ticks": ""
            },
            "type": "mesh3d"
           }
          ],
          "parcoords": [
           {
            "line": {
             "colorbar": {
              "outlinewidth": 0,
              "ticks": ""
             }
            },
            "type": "parcoords"
           }
          ],
          "pie": [
           {
            "automargin": true,
            "type": "pie"
           }
          ],
          "scatter": [
           {
            "fillpattern": {
             "fillmode": "overlay",
             "size": 10,
             "solidity": 0.2
            },
            "type": "scatter"
           }
          ],
          "scatter3d": [
           {
            "line": {
             "colorbar": {
              "outlinewidth": 0,
              "ticks": ""
             }
            },
            "marker": {
             "colorbar": {
              "outlinewidth": 0,
              "ticks": ""
             }
            },
            "type": "scatter3d"
           }
          ],
          "scattercarpet": [
           {
            "marker": {
             "colorbar": {
              "outlinewidth": 0,
              "ticks": ""
             }
            },
            "type": "scattercarpet"
           }
          ],
          "scattergeo": [
           {
            "marker": {
             "colorbar": {
              "outlinewidth": 0,
              "ticks": ""
             }
            },
            "type": "scattergeo"
           }
          ],
          "scattergl": [
           {
            "marker": {
             "colorbar": {
              "outlinewidth": 0,
              "ticks": ""
             }
            },
            "type": "scattergl"
           }
          ],
          "scattermapbox": [
           {
            "marker": {
             "colorbar": {
              "outlinewidth": 0,
              "ticks": ""
             }
            },
            "type": "scattermapbox"
           }
          ],
          "scatterpolar": [
           {
            "marker": {
             "colorbar": {
              "outlinewidth": 0,
              "ticks": ""
             }
            },
            "type": "scatterpolar"
           }
          ],
          "scatterpolargl": [
           {
            "marker": {
             "colorbar": {
              "outlinewidth": 0,
              "ticks": ""
             }
            },
            "type": "scatterpolargl"
           }
          ],
          "scatterternary": [
           {
            "marker": {
             "colorbar": {
              "outlinewidth": 0,
              "ticks": ""
             }
            },
            "type": "scatterternary"
           }
          ],
          "surface": [
           {
            "colorbar": {
             "outlinewidth": 0,
             "ticks": ""
            },
            "colorscale": [
             [
              0,
              "#0d0887"
             ],
             [
              0.1111111111111111,
              "#46039f"
             ],
             [
              0.2222222222222222,
              "#7201a8"
             ],
             [
              0.3333333333333333,
              "#9c179e"
             ],
             [
              0.4444444444444444,
              "#bd3786"
             ],
             [
              0.5555555555555556,
              "#d8576b"
             ],
             [
              0.6666666666666666,
              "#ed7953"
             ],
             [
              0.7777777777777778,
              "#fb9f3a"
             ],
             [
              0.8888888888888888,
              "#fdca26"
             ],
             [
              1,
              "#f0f921"
             ]
            ],
            "type": "surface"
           }
          ],
          "table": [
           {
            "cells": {
             "fill": {
              "color": "#EBF0F8"
             },
             "line": {
              "color": "white"
             }
            },
            "header": {
             "fill": {
              "color": "#C8D4E3"
             },
             "line": {
              "color": "white"
             }
            },
            "type": "table"
           }
          ]
         },
         "layout": {
          "annotationdefaults": {
           "arrowcolor": "#2a3f5f",
           "arrowhead": 0,
           "arrowwidth": 1
          },
          "autotypenumbers": "strict",
          "coloraxis": {
           "colorbar": {
            "outlinewidth": 0,
            "ticks": ""
           }
          },
          "colorscale": {
           "diverging": [
            [
             0,
             "#8e0152"
            ],
            [
             0.1,
             "#c51b7d"
            ],
            [
             0.2,
             "#de77ae"
            ],
            [
             0.3,
             "#f1b6da"
            ],
            [
             0.4,
             "#fde0ef"
            ],
            [
             0.5,
             "#f7f7f7"
            ],
            [
             0.6,
             "#e6f5d0"
            ],
            [
             0.7,
             "#b8e186"
            ],
            [
             0.8,
             "#7fbc41"
            ],
            [
             0.9,
             "#4d9221"
            ],
            [
             1,
             "#276419"
            ]
           ],
           "sequential": [
            [
             0,
             "#0d0887"
            ],
            [
             0.1111111111111111,
             "#46039f"
            ],
            [
             0.2222222222222222,
             "#7201a8"
            ],
            [
             0.3333333333333333,
             "#9c179e"
            ],
            [
             0.4444444444444444,
             "#bd3786"
            ],
            [
             0.5555555555555556,
             "#d8576b"
            ],
            [
             0.6666666666666666,
             "#ed7953"
            ],
            [
             0.7777777777777778,
             "#fb9f3a"
            ],
            [
             0.8888888888888888,
             "#fdca26"
            ],
            [
             1,
             "#f0f921"
            ]
           ],
           "sequentialminus": [
            [
             0,
             "#0d0887"
            ],
            [
             0.1111111111111111,
             "#46039f"
            ],
            [
             0.2222222222222222,
             "#7201a8"
            ],
            [
             0.3333333333333333,
             "#9c179e"
            ],
            [
             0.4444444444444444,
             "#bd3786"
            ],
            [
             0.5555555555555556,
             "#d8576b"
            ],
            [
             0.6666666666666666,
             "#ed7953"
            ],
            [
             0.7777777777777778,
             "#fb9f3a"
            ],
            [
             0.8888888888888888,
             "#fdca26"
            ],
            [
             1,
             "#f0f921"
            ]
           ]
          },
          "colorway": [
           "#636efa",
           "#EF553B",
           "#00cc96",
           "#ab63fa",
           "#FFA15A",
           "#19d3f3",
           "#FF6692",
           "#B6E880",
           "#FF97FF",
           "#FECB52"
          ],
          "font": {
           "color": "#2a3f5f"
          },
          "geo": {
           "bgcolor": "white",
           "lakecolor": "white",
           "landcolor": "#E5ECF6",
           "showlakes": true,
           "showland": true,
           "subunitcolor": "white"
          },
          "hoverlabel": {
           "align": "left"
          },
          "hovermode": "closest",
          "mapbox": {
           "style": "light"
          },
          "paper_bgcolor": "white",
          "plot_bgcolor": "#E5ECF6",
          "polar": {
           "angularaxis": {
            "gridcolor": "white",
            "linecolor": "white",
            "ticks": ""
           },
           "bgcolor": "#E5ECF6",
           "radialaxis": {
            "gridcolor": "white",
            "linecolor": "white",
            "ticks": ""
           }
          },
          "scene": {
           "xaxis": {
            "backgroundcolor": "#E5ECF6",
            "gridcolor": "white",
            "gridwidth": 2,
            "linecolor": "white",
            "showbackground": true,
            "ticks": "",
            "zerolinecolor": "white"
           },
           "yaxis": {
            "backgroundcolor": "#E5ECF6",
            "gridcolor": "white",
            "gridwidth": 2,
            "linecolor": "white",
            "showbackground": true,
            "ticks": "",
            "zerolinecolor": "white"
           },
           "zaxis": {
            "backgroundcolor": "#E5ECF6",
            "gridcolor": "white",
            "gridwidth": 2,
            "linecolor": "white",
            "showbackground": true,
            "ticks": "",
            "zerolinecolor": "white"
           }
          },
          "shapedefaults": {
           "line": {
            "color": "#2a3f5f"
           }
          },
          "ternary": {
           "aaxis": {
            "gridcolor": "white",
            "linecolor": "white",
            "ticks": ""
           },
           "baxis": {
            "gridcolor": "white",
            "linecolor": "white",
            "ticks": ""
           },
           "bgcolor": "#E5ECF6",
           "caxis": {
            "gridcolor": "white",
            "linecolor": "white",
            "ticks": ""
           }
          },
          "title": {
           "x": 0.05
          },
          "xaxis": {
           "automargin": true,
           "gridcolor": "white",
           "linecolor": "white",
           "ticks": "",
           "title": {
            "standoff": 15
           },
           "zerolinecolor": "white",
           "zerolinewidth": 2
          },
          "yaxis": {
           "automargin": true,
           "gridcolor": "white",
           "linecolor": "white",
           "ticks": "",
           "title": {
            "standoff": 15
           },
           "zerolinecolor": "white",
           "zerolinewidth": 2
          }
         }
        },
        "title": {
         "text": "tp",
         "x": 0.5
        },
        "yaxis": {
         "tickmode": "array",
         "tickvals": [
          "0.72",
          0.3,
          0.8
         ]
        }
       }
      }
     },
     "metadata": {},
     "output_type": "display_data"
    }
   ],
   "source": [
    "genVisMulitlabel(partEvalMetrics, \"tp\")"
   ]
  },
  {
   "cell_type": "code",
   "execution_count": 26,
   "metadata": {},
   "outputs": [
    {
     "data": {
      "application/vnd.plotly.v1+json": {
       "config": {
        "plotlyServerURL": "https://plot.ly"
       },
       "data": [
        {
         "text": [
          0.8101423241674727,
          0.9309766193086475,
          0.8935758097492736,
          0.4686693976634805,
          0.9143468950749465,
          0.9044769248475083,
          0.9598010774968918,
          0.9031740575226309,
          0.7159994420421258,
          0.7796952039444195,
          0.9365642674947322,
          0.9406825277209603,
          0.9814145585957667,
          0.8879233511586453,
          0.832294911734164,
          0.5044906338208879,
          0.6855971896955504,
          0.8761243896170651,
          0.8021717423864204,
          0.6438757569837859,
          0.8656257392950083,
          0.9060781078107811,
          0.6906847133757962,
          0.8974290662048755
         ],
         "type": "bar",
         "x": [
          "vision_bumper_rear",
          "vision_door_front_rh",
          "vision_door_rear_rh",
          "vision_misc",
          "vision_rear_compartment",
          "vision_rear_panel",
          "vision_rear_quarter_rh",
          "vision_tail_lamp_rh",
          "vision_non_external",
          "vision_wheel",
          "vision_door_front_lh",
          "vision_door_rear_lh",
          "vision_rear_quarter_lh",
          "vision_tail_lamp_lh",
          "vision_bonnet",
          "vision_bumper_front",
          "vision_engine",
          "vision_fender_front_lh",
          "vision_front_panel",
          "vision_headlamp_lh",
          "vision_windscreen_front",
          "vision_grille",
          "vision_headlamp_rh",
          "vision_fender_front_rh"
         ],
         "y": [
          0.8101423241674727,
          0.9309766193086475,
          0.8935758097492736,
          0.4686693976634805,
          0.9143468950749465,
          0.9044769248475083,
          0.9598010774968918,
          0.9031740575226309,
          0.7159994420421258,
          0.7796952039444195,
          0.9365642674947322,
          0.9406825277209603,
          0.9814145585957667,
          0.8879233511586453,
          0.832294911734164,
          0.5044906338208879,
          0.6855971896955504,
          0.8761243896170651,
          0.8021717423864204,
          0.6438757569837859,
          0.8656257392950083,
          0.9060781078107811,
          0.6906847133757962,
          0.8974290662048755
         ]
        }
       ],
       "layout": {
        "shapes": [
         {
          "line": {
           "color": "red",
           "width": 2
          },
          "type": "line",
          "x0": 0,
          "x1": 1,
          "xref": "x domain",
          "y0": 0.8221589461546598,
          "y1": 0.8221589461546598,
          "yref": "y"
         }
        ],
        "template": {
         "data": {
          "bar": [
           {
            "error_x": {
             "color": "#2a3f5f"
            },
            "error_y": {
             "color": "#2a3f5f"
            },
            "marker": {
             "line": {
              "color": "#E5ECF6",
              "width": 0.5
             },
             "pattern": {
              "fillmode": "overlay",
              "size": 10,
              "solidity": 0.2
             }
            },
            "type": "bar"
           }
          ],
          "barpolar": [
           {
            "marker": {
             "line": {
              "color": "#E5ECF6",
              "width": 0.5
             },
             "pattern": {
              "fillmode": "overlay",
              "size": 10,
              "solidity": 0.2
             }
            },
            "type": "barpolar"
           }
          ],
          "carpet": [
           {
            "aaxis": {
             "endlinecolor": "#2a3f5f",
             "gridcolor": "white",
             "linecolor": "white",
             "minorgridcolor": "white",
             "startlinecolor": "#2a3f5f"
            },
            "baxis": {
             "endlinecolor": "#2a3f5f",
             "gridcolor": "white",
             "linecolor": "white",
             "minorgridcolor": "white",
             "startlinecolor": "#2a3f5f"
            },
            "type": "carpet"
           }
          ],
          "choropleth": [
           {
            "colorbar": {
             "outlinewidth": 0,
             "ticks": ""
            },
            "type": "choropleth"
           }
          ],
          "contour": [
           {
            "colorbar": {
             "outlinewidth": 0,
             "ticks": ""
            },
            "colorscale": [
             [
              0,
              "#0d0887"
             ],
             [
              0.1111111111111111,
              "#46039f"
             ],
             [
              0.2222222222222222,
              "#7201a8"
             ],
             [
              0.3333333333333333,
              "#9c179e"
             ],
             [
              0.4444444444444444,
              "#bd3786"
             ],
             [
              0.5555555555555556,
              "#d8576b"
             ],
             [
              0.6666666666666666,
              "#ed7953"
             ],
             [
              0.7777777777777778,
              "#fb9f3a"
             ],
             [
              0.8888888888888888,
              "#fdca26"
             ],
             [
              1,
              "#f0f921"
             ]
            ],
            "type": "contour"
           }
          ],
          "contourcarpet": [
           {
            "colorbar": {
             "outlinewidth": 0,
             "ticks": ""
            },
            "type": "contourcarpet"
           }
          ],
          "heatmap": [
           {
            "colorbar": {
             "outlinewidth": 0,
             "ticks": ""
            },
            "colorscale": [
             [
              0,
              "#0d0887"
             ],
             [
              0.1111111111111111,
              "#46039f"
             ],
             [
              0.2222222222222222,
              "#7201a8"
             ],
             [
              0.3333333333333333,
              "#9c179e"
             ],
             [
              0.4444444444444444,
              "#bd3786"
             ],
             [
              0.5555555555555556,
              "#d8576b"
             ],
             [
              0.6666666666666666,
              "#ed7953"
             ],
             [
              0.7777777777777778,
              "#fb9f3a"
             ],
             [
              0.8888888888888888,
              "#fdca26"
             ],
             [
              1,
              "#f0f921"
             ]
            ],
            "type": "heatmap"
           }
          ],
          "heatmapgl": [
           {
            "colorbar": {
             "outlinewidth": 0,
             "ticks": ""
            },
            "colorscale": [
             [
              0,
              "#0d0887"
             ],
             [
              0.1111111111111111,
              "#46039f"
             ],
             [
              0.2222222222222222,
              "#7201a8"
             ],
             [
              0.3333333333333333,
              "#9c179e"
             ],
             [
              0.4444444444444444,
              "#bd3786"
             ],
             [
              0.5555555555555556,
              "#d8576b"
             ],
             [
              0.6666666666666666,
              "#ed7953"
             ],
             [
              0.7777777777777778,
              "#fb9f3a"
             ],
             [
              0.8888888888888888,
              "#fdca26"
             ],
             [
              1,
              "#f0f921"
             ]
            ],
            "type": "heatmapgl"
           }
          ],
          "histogram": [
           {
            "marker": {
             "pattern": {
              "fillmode": "overlay",
              "size": 10,
              "solidity": 0.2
             }
            },
            "type": "histogram"
           }
          ],
          "histogram2d": [
           {
            "colorbar": {
             "outlinewidth": 0,
             "ticks": ""
            },
            "colorscale": [
             [
              0,
              "#0d0887"
             ],
             [
              0.1111111111111111,
              "#46039f"
             ],
             [
              0.2222222222222222,
              "#7201a8"
             ],
             [
              0.3333333333333333,
              "#9c179e"
             ],
             [
              0.4444444444444444,
              "#bd3786"
             ],
             [
              0.5555555555555556,
              "#d8576b"
             ],
             [
              0.6666666666666666,
              "#ed7953"
             ],
             [
              0.7777777777777778,
              "#fb9f3a"
             ],
             [
              0.8888888888888888,
              "#fdca26"
             ],
             [
              1,
              "#f0f921"
             ]
            ],
            "type": "histogram2d"
           }
          ],
          "histogram2dcontour": [
           {
            "colorbar": {
             "outlinewidth": 0,
             "ticks": ""
            },
            "colorscale": [
             [
              0,
              "#0d0887"
             ],
             [
              0.1111111111111111,
              "#46039f"
             ],
             [
              0.2222222222222222,
              "#7201a8"
             ],
             [
              0.3333333333333333,
              "#9c179e"
             ],
             [
              0.4444444444444444,
              "#bd3786"
             ],
             [
              0.5555555555555556,
              "#d8576b"
             ],
             [
              0.6666666666666666,
              "#ed7953"
             ],
             [
              0.7777777777777778,
              "#fb9f3a"
             ],
             [
              0.8888888888888888,
              "#fdca26"
             ],
             [
              1,
              "#f0f921"
             ]
            ],
            "type": "histogram2dcontour"
           }
          ],
          "mesh3d": [
           {
            "colorbar": {
             "outlinewidth": 0,
             "ticks": ""
            },
            "type": "mesh3d"
           }
          ],
          "parcoords": [
           {
            "line": {
             "colorbar": {
              "outlinewidth": 0,
              "ticks": ""
             }
            },
            "type": "parcoords"
           }
          ],
          "pie": [
           {
            "automargin": true,
            "type": "pie"
           }
          ],
          "scatter": [
           {
            "fillpattern": {
             "fillmode": "overlay",
             "size": 10,
             "solidity": 0.2
            },
            "type": "scatter"
           }
          ],
          "scatter3d": [
           {
            "line": {
             "colorbar": {
              "outlinewidth": 0,
              "ticks": ""
             }
            },
            "marker": {
             "colorbar": {
              "outlinewidth": 0,
              "ticks": ""
             }
            },
            "type": "scatter3d"
           }
          ],
          "scattercarpet": [
           {
            "marker": {
             "colorbar": {
              "outlinewidth": 0,
              "ticks": ""
             }
            },
            "type": "scattercarpet"
           }
          ],
          "scattergeo": [
           {
            "marker": {
             "colorbar": {
              "outlinewidth": 0,
              "ticks": ""
             }
            },
            "type": "scattergeo"
           }
          ],
          "scattergl": [
           {
            "marker": {
             "colorbar": {
              "outlinewidth": 0,
              "ticks": ""
             }
            },
            "type": "scattergl"
           }
          ],
          "scattermapbox": [
           {
            "marker": {
             "colorbar": {
              "outlinewidth": 0,
              "ticks": ""
             }
            },
            "type": "scattermapbox"
           }
          ],
          "scatterpolar": [
           {
            "marker": {
             "colorbar": {
              "outlinewidth": 0,
              "ticks": ""
             }
            },
            "type": "scatterpolar"
           }
          ],
          "scatterpolargl": [
           {
            "marker": {
             "colorbar": {
              "outlinewidth": 0,
              "ticks": ""
             }
            },
            "type": "scatterpolargl"
           }
          ],
          "scatterternary": [
           {
            "marker": {
             "colorbar": {
              "outlinewidth": 0,
              "ticks": ""
             }
            },
            "type": "scatterternary"
           }
          ],
          "surface": [
           {
            "colorbar": {
             "outlinewidth": 0,
             "ticks": ""
            },
            "colorscale": [
             [
              0,
              "#0d0887"
             ],
             [
              0.1111111111111111,
              "#46039f"
             ],
             [
              0.2222222222222222,
              "#7201a8"
             ],
             [
              0.3333333333333333,
              "#9c179e"
             ],
             [
              0.4444444444444444,
              "#bd3786"
             ],
             [
              0.5555555555555556,
              "#d8576b"
             ],
             [
              0.6666666666666666,
              "#ed7953"
             ],
             [
              0.7777777777777778,
              "#fb9f3a"
             ],
             [
              0.8888888888888888,
              "#fdca26"
             ],
             [
              1,
              "#f0f921"
             ]
            ],
            "type": "surface"
           }
          ],
          "table": [
           {
            "cells": {
             "fill": {
              "color": "#EBF0F8"
             },
             "line": {
              "color": "white"
             }
            },
            "header": {
             "fill": {
              "color": "#C8D4E3"
             },
             "line": {
              "color": "white"
             }
            },
            "type": "table"
           }
          ]
         },
         "layout": {
          "annotationdefaults": {
           "arrowcolor": "#2a3f5f",
           "arrowhead": 0,
           "arrowwidth": 1
          },
          "autotypenumbers": "strict",
          "coloraxis": {
           "colorbar": {
            "outlinewidth": 0,
            "ticks": ""
           }
          },
          "colorscale": {
           "diverging": [
            [
             0,
             "#8e0152"
            ],
            [
             0.1,
             "#c51b7d"
            ],
            [
             0.2,
             "#de77ae"
            ],
            [
             0.3,
             "#f1b6da"
            ],
            [
             0.4,
             "#fde0ef"
            ],
            [
             0.5,
             "#f7f7f7"
            ],
            [
             0.6,
             "#e6f5d0"
            ],
            [
             0.7,
             "#b8e186"
            ],
            [
             0.8,
             "#7fbc41"
            ],
            [
             0.9,
             "#4d9221"
            ],
            [
             1,
             "#276419"
            ]
           ],
           "sequential": [
            [
             0,
             "#0d0887"
            ],
            [
             0.1111111111111111,
             "#46039f"
            ],
            [
             0.2222222222222222,
             "#7201a8"
            ],
            [
             0.3333333333333333,
             "#9c179e"
            ],
            [
             0.4444444444444444,
             "#bd3786"
            ],
            [
             0.5555555555555556,
             "#d8576b"
            ],
            [
             0.6666666666666666,
             "#ed7953"
            ],
            [
             0.7777777777777778,
             "#fb9f3a"
            ],
            [
             0.8888888888888888,
             "#fdca26"
            ],
            [
             1,
             "#f0f921"
            ]
           ],
           "sequentialminus": [
            [
             0,
             "#0d0887"
            ],
            [
             0.1111111111111111,
             "#46039f"
            ],
            [
             0.2222222222222222,
             "#7201a8"
            ],
            [
             0.3333333333333333,
             "#9c179e"
            ],
            [
             0.4444444444444444,
             "#bd3786"
            ],
            [
             0.5555555555555556,
             "#d8576b"
            ],
            [
             0.6666666666666666,
             "#ed7953"
            ],
            [
             0.7777777777777778,
             "#fb9f3a"
            ],
            [
             0.8888888888888888,
             "#fdca26"
            ],
            [
             1,
             "#f0f921"
            ]
           ]
          },
          "colorway": [
           "#636efa",
           "#EF553B",
           "#00cc96",
           "#ab63fa",
           "#FFA15A",
           "#19d3f3",
           "#FF6692",
           "#B6E880",
           "#FF97FF",
           "#FECB52"
          ],
          "font": {
           "color": "#2a3f5f"
          },
          "geo": {
           "bgcolor": "white",
           "lakecolor": "white",
           "landcolor": "#E5ECF6",
           "showlakes": true,
           "showland": true,
           "subunitcolor": "white"
          },
          "hoverlabel": {
           "align": "left"
          },
          "hovermode": "closest",
          "mapbox": {
           "style": "light"
          },
          "paper_bgcolor": "white",
          "plot_bgcolor": "#E5ECF6",
          "polar": {
           "angularaxis": {
            "gridcolor": "white",
            "linecolor": "white",
            "ticks": ""
           },
           "bgcolor": "#E5ECF6",
           "radialaxis": {
            "gridcolor": "white",
            "linecolor": "white",
            "ticks": ""
           }
          },
          "scene": {
           "xaxis": {
            "backgroundcolor": "#E5ECF6",
            "gridcolor": "white",
            "gridwidth": 2,
            "linecolor": "white",
            "showbackground": true,
            "ticks": "",
            "zerolinecolor": "white"
           },
           "yaxis": {
            "backgroundcolor": "#E5ECF6",
            "gridcolor": "white",
            "gridwidth": 2,
            "linecolor": "white",
            "showbackground": true,
            "ticks": "",
            "zerolinecolor": "white"
           },
           "zaxis": {
            "backgroundcolor": "#E5ECF6",
            "gridcolor": "white",
            "gridwidth": 2,
            "linecolor": "white",
            "showbackground": true,
            "ticks": "",
            "zerolinecolor": "white"
           }
          },
          "shapedefaults": {
           "line": {
            "color": "#2a3f5f"
           }
          },
          "ternary": {
           "aaxis": {
            "gridcolor": "white",
            "linecolor": "white",
            "ticks": ""
           },
           "baxis": {
            "gridcolor": "white",
            "linecolor": "white",
            "ticks": ""
           },
           "bgcolor": "#E5ECF6",
           "caxis": {
            "gridcolor": "white",
            "linecolor": "white",
            "ticks": ""
           }
          },
          "title": {
           "x": 0.05
          },
          "xaxis": {
           "automargin": true,
           "gridcolor": "white",
           "linecolor": "white",
           "ticks": "",
           "title": {
            "standoff": 15
           },
           "zerolinecolor": "white",
           "zerolinewidth": 2
          },
          "yaxis": {
           "automargin": true,
           "gridcolor": "white",
           "linecolor": "white",
           "ticks": "",
           "title": {
            "standoff": 15
           },
           "zerolinecolor": "white",
           "zerolinewidth": 2
          }
         }
        },
        "title": {
         "text": "tn",
         "x": 0.5
        },
        "yaxis": {
         "tickmode": "array",
         "tickvals": [
          "0.82",
          0.3,
          0.8
         ]
        }
       }
      }
     },
     "metadata": {},
     "output_type": "display_data"
    }
   ],
   "source": [
    "genVisMulitlabel(partEvalMetrics, \"tn\")"
   ]
  },
  {
   "cell_type": "code",
   "execution_count": 27,
   "metadata": {},
   "outputs": [
    {
     "data": {
      "application/vnd.plotly.v1+json": {
       "config": {
        "plotlyServerURL": "https://plot.ly"
       },
       "data": [
        {
         "text": [
          0.7327946510450104,
          0.7878257271849552,
          0.8187822471660089,
          0.6653995272271641,
          0.8662073245763691,
          0.8221850680683004,
          0.8189809985185609,
          0.7638415456505535,
          0.7366645037833377,
          0.6877100555038083,
          0.7673665691491972,
          0.779764611258511,
          0.7272152158058198,
          0.8087077693293226,
          0.8584733677571815,
          0.7156239831401671,
          0.7882456826246415,
          0.8077646294343215,
          0.754707601575504,
          0.7746115109442593,
          0.7578452111740241,
          0.6601504908555372,
          0.791182388842239,
          0.8013017773864329
         ],
         "type": "bar",
         "x": [
          "vision_bumper_rear",
          "vision_door_front_rh",
          "vision_door_rear_rh",
          "vision_misc",
          "vision_rear_compartment",
          "vision_rear_panel",
          "vision_rear_quarter_rh",
          "vision_tail_lamp_rh",
          "vision_non_external",
          "vision_wheel",
          "vision_door_front_lh",
          "vision_door_rear_lh",
          "vision_rear_quarter_lh",
          "vision_tail_lamp_lh",
          "vision_bonnet",
          "vision_bumper_front",
          "vision_engine",
          "vision_fender_front_lh",
          "vision_front_panel",
          "vision_headlamp_lh",
          "vision_windscreen_front",
          "vision_grille",
          "vision_headlamp_rh",
          "vision_fender_front_rh"
         ],
         "y": [
          0.7327946510450104,
          0.7878257271849552,
          0.8187822471660089,
          0.6653995272271641,
          0.8662073245763691,
          0.8221850680683004,
          0.8189809985185609,
          0.7638415456505535,
          0.7366645037833377,
          0.6877100555038083,
          0.7673665691491972,
          0.779764611258511,
          0.7272152158058198,
          0.8087077693293226,
          0.8584733677571815,
          0.7156239831401671,
          0.7882456826246415,
          0.8077646294343215,
          0.754707601575504,
          0.7746115109442593,
          0.7578452111740241,
          0.6601504908555372,
          0.791182388842239,
          0.8013017773864329
         ]
        }
       ],
       "layout": {
        "shapes": [
         {
          "line": {
           "color": "red",
           "width": 2
          },
          "type": "line",
          "x0": 0,
          "x1": 1,
          "xref": "x domain",
          "y0": 0.7705563524167177,
          "y1": 0.7705563524167177,
          "yref": "y"
         }
        ],
        "template": {
         "data": {
          "bar": [
           {
            "error_x": {
             "color": "#2a3f5f"
            },
            "error_y": {
             "color": "#2a3f5f"
            },
            "marker": {
             "line": {
              "color": "#E5ECF6",
              "width": 0.5
             },
             "pattern": {
              "fillmode": "overlay",
              "size": 10,
              "solidity": 0.2
             }
            },
            "type": "bar"
           }
          ],
          "barpolar": [
           {
            "marker": {
             "line": {
              "color": "#E5ECF6",
              "width": 0.5
             },
             "pattern": {
              "fillmode": "overlay",
              "size": 10,
              "solidity": 0.2
             }
            },
            "type": "barpolar"
           }
          ],
          "carpet": [
           {
            "aaxis": {
             "endlinecolor": "#2a3f5f",
             "gridcolor": "white",
             "linecolor": "white",
             "minorgridcolor": "white",
             "startlinecolor": "#2a3f5f"
            },
            "baxis": {
             "endlinecolor": "#2a3f5f",
             "gridcolor": "white",
             "linecolor": "white",
             "minorgridcolor": "white",
             "startlinecolor": "#2a3f5f"
            },
            "type": "carpet"
           }
          ],
          "choropleth": [
           {
            "colorbar": {
             "outlinewidth": 0,
             "ticks": ""
            },
            "type": "choropleth"
           }
          ],
          "contour": [
           {
            "colorbar": {
             "outlinewidth": 0,
             "ticks": ""
            },
            "colorscale": [
             [
              0,
              "#0d0887"
             ],
             [
              0.1111111111111111,
              "#46039f"
             ],
             [
              0.2222222222222222,
              "#7201a8"
             ],
             [
              0.3333333333333333,
              "#9c179e"
             ],
             [
              0.4444444444444444,
              "#bd3786"
             ],
             [
              0.5555555555555556,
              "#d8576b"
             ],
             [
              0.6666666666666666,
              "#ed7953"
             ],
             [
              0.7777777777777778,
              "#fb9f3a"
             ],
             [
              0.8888888888888888,
              "#fdca26"
             ],
             [
              1,
              "#f0f921"
             ]
            ],
            "type": "contour"
           }
          ],
          "contourcarpet": [
           {
            "colorbar": {
             "outlinewidth": 0,
             "ticks": ""
            },
            "type": "contourcarpet"
           }
          ],
          "heatmap": [
           {
            "colorbar": {
             "outlinewidth": 0,
             "ticks": ""
            },
            "colorscale": [
             [
              0,
              "#0d0887"
             ],
             [
              0.1111111111111111,
              "#46039f"
             ],
             [
              0.2222222222222222,
              "#7201a8"
             ],
             [
              0.3333333333333333,
              "#9c179e"
             ],
             [
              0.4444444444444444,
              "#bd3786"
             ],
             [
              0.5555555555555556,
              "#d8576b"
             ],
             [
              0.6666666666666666,
              "#ed7953"
             ],
             [
              0.7777777777777778,
              "#fb9f3a"
             ],
             [
              0.8888888888888888,
              "#fdca26"
             ],
             [
              1,
              "#f0f921"
             ]
            ],
            "type": "heatmap"
           }
          ],
          "heatmapgl": [
           {
            "colorbar": {
             "outlinewidth": 0,
             "ticks": ""
            },
            "colorscale": [
             [
              0,
              "#0d0887"
             ],
             [
              0.1111111111111111,
              "#46039f"
             ],
             [
              0.2222222222222222,
              "#7201a8"
             ],
             [
              0.3333333333333333,
              "#9c179e"
             ],
             [
              0.4444444444444444,
              "#bd3786"
             ],
             [
              0.5555555555555556,
              "#d8576b"
             ],
             [
              0.6666666666666666,
              "#ed7953"
             ],
             [
              0.7777777777777778,
              "#fb9f3a"
             ],
             [
              0.8888888888888888,
              "#fdca26"
             ],
             [
              1,
              "#f0f921"
             ]
            ],
            "type": "heatmapgl"
           }
          ],
          "histogram": [
           {
            "marker": {
             "pattern": {
              "fillmode": "overlay",
              "size": 10,
              "solidity": 0.2
             }
            },
            "type": "histogram"
           }
          ],
          "histogram2d": [
           {
            "colorbar": {
             "outlinewidth": 0,
             "ticks": ""
            },
            "colorscale": [
             [
              0,
              "#0d0887"
             ],
             [
              0.1111111111111111,
              "#46039f"
             ],
             [
              0.2222222222222222,
              "#7201a8"
             ],
             [
              0.3333333333333333,
              "#9c179e"
             ],
             [
              0.4444444444444444,
              "#bd3786"
             ],
             [
              0.5555555555555556,
              "#d8576b"
             ],
             [
              0.6666666666666666,
              "#ed7953"
             ],
             [
              0.7777777777777778,
              "#fb9f3a"
             ],
             [
              0.8888888888888888,
              "#fdca26"
             ],
             [
              1,
              "#f0f921"
             ]
            ],
            "type": "histogram2d"
           }
          ],
          "histogram2dcontour": [
           {
            "colorbar": {
             "outlinewidth": 0,
             "ticks": ""
            },
            "colorscale": [
             [
              0,
              "#0d0887"
             ],
             [
              0.1111111111111111,
              "#46039f"
             ],
             [
              0.2222222222222222,
              "#7201a8"
             ],
             [
              0.3333333333333333,
              "#9c179e"
             ],
             [
              0.4444444444444444,
              "#bd3786"
             ],
             [
              0.5555555555555556,
              "#d8576b"
             ],
             [
              0.6666666666666666,
              "#ed7953"
             ],
             [
              0.7777777777777778,
              "#fb9f3a"
             ],
             [
              0.8888888888888888,
              "#fdca26"
             ],
             [
              1,
              "#f0f921"
             ]
            ],
            "type": "histogram2dcontour"
           }
          ],
          "mesh3d": [
           {
            "colorbar": {
             "outlinewidth": 0,
             "ticks": ""
            },
            "type": "mesh3d"
           }
          ],
          "parcoords": [
           {
            "line": {
             "colorbar": {
              "outlinewidth": 0,
              "ticks": ""
             }
            },
            "type": "parcoords"
           }
          ],
          "pie": [
           {
            "automargin": true,
            "type": "pie"
           }
          ],
          "scatter": [
           {
            "fillpattern": {
             "fillmode": "overlay",
             "size": 10,
             "solidity": 0.2
            },
            "type": "scatter"
           }
          ],
          "scatter3d": [
           {
            "line": {
             "colorbar": {
              "outlinewidth": 0,
              "ticks": ""
             }
            },
            "marker": {
             "colorbar": {
              "outlinewidth": 0,
              "ticks": ""
             }
            },
            "type": "scatter3d"
           }
          ],
          "scattercarpet": [
           {
            "marker": {
             "colorbar": {
              "outlinewidth": 0,
              "ticks": ""
             }
            },
            "type": "scattercarpet"
           }
          ],
          "scattergeo": [
           {
            "marker": {
             "colorbar": {
              "outlinewidth": 0,
              "ticks": ""
             }
            },
            "type": "scattergeo"
           }
          ],
          "scattergl": [
           {
            "marker": {
             "colorbar": {
              "outlinewidth": 0,
              "ticks": ""
             }
            },
            "type": "scattergl"
           }
          ],
          "scattermapbox": [
           {
            "marker": {
             "colorbar": {
              "outlinewidth": 0,
              "ticks": ""
             }
            },
            "type": "scattermapbox"
           }
          ],
          "scatterpolar": [
           {
            "marker": {
             "colorbar": {
              "outlinewidth": 0,
              "ticks": ""
             }
            },
            "type": "scatterpolar"
           }
          ],
          "scatterpolargl": [
           {
            "marker": {
             "colorbar": {
              "outlinewidth": 0,
              "ticks": ""
             }
            },
            "type": "scatterpolargl"
           }
          ],
          "scatterternary": [
           {
            "marker": {
             "colorbar": {
              "outlinewidth": 0,
              "ticks": ""
             }
            },
            "type": "scatterternary"
           }
          ],
          "surface": [
           {
            "colorbar": {
             "outlinewidth": 0,
             "ticks": ""
            },
            "colorscale": [
             [
              0,
              "#0d0887"
             ],
             [
              0.1111111111111111,
              "#46039f"
             ],
             [
              0.2222222222222222,
              "#7201a8"
             ],
             [
              0.3333333333333333,
              "#9c179e"
             ],
             [
              0.4444444444444444,
              "#bd3786"
             ],
             [
              0.5555555555555556,
              "#d8576b"
             ],
             [
              0.6666666666666666,
              "#ed7953"
             ],
             [
              0.7777777777777778,
              "#fb9f3a"
             ],
             [
              0.8888888888888888,
              "#fdca26"
             ],
             [
              1,
              "#f0f921"
             ]
            ],
            "type": "surface"
           }
          ],
          "table": [
           {
            "cells": {
             "fill": {
              "color": "#EBF0F8"
             },
             "line": {
              "color": "white"
             }
            },
            "header": {
             "fill": {
              "color": "#C8D4E3"
             },
             "line": {
              "color": "white"
             }
            },
            "type": "table"
           }
          ]
         },
         "layout": {
          "annotationdefaults": {
           "arrowcolor": "#2a3f5f",
           "arrowhead": 0,
           "arrowwidth": 1
          },
          "autotypenumbers": "strict",
          "coloraxis": {
           "colorbar": {
            "outlinewidth": 0,
            "ticks": ""
           }
          },
          "colorscale": {
           "diverging": [
            [
             0,
             "#8e0152"
            ],
            [
             0.1,
             "#c51b7d"
            ],
            [
             0.2,
             "#de77ae"
            ],
            [
             0.3,
             "#f1b6da"
            ],
            [
             0.4,
             "#fde0ef"
            ],
            [
             0.5,
             "#f7f7f7"
            ],
            [
             0.6,
             "#e6f5d0"
            ],
            [
             0.7,
             "#b8e186"
            ],
            [
             0.8,
             "#7fbc41"
            ],
            [
             0.9,
             "#4d9221"
            ],
            [
             1,
             "#276419"
            ]
           ],
           "sequential": [
            [
             0,
             "#0d0887"
            ],
            [
             0.1111111111111111,
             "#46039f"
            ],
            [
             0.2222222222222222,
             "#7201a8"
            ],
            [
             0.3333333333333333,
             "#9c179e"
            ],
            [
             0.4444444444444444,
             "#bd3786"
            ],
            [
             0.5555555555555556,
             "#d8576b"
            ],
            [
             0.6666666666666666,
             "#ed7953"
            ],
            [
             0.7777777777777778,
             "#fb9f3a"
            ],
            [
             0.8888888888888888,
             "#fdca26"
            ],
            [
             1,
             "#f0f921"
            ]
           ],
           "sequentialminus": [
            [
             0,
             "#0d0887"
            ],
            [
             0.1111111111111111,
             "#46039f"
            ],
            [
             0.2222222222222222,
             "#7201a8"
            ],
            [
             0.3333333333333333,
             "#9c179e"
            ],
            [
             0.4444444444444444,
             "#bd3786"
            ],
            [
             0.5555555555555556,
             "#d8576b"
            ],
            [
             0.6666666666666666,
             "#ed7953"
            ],
            [
             0.7777777777777778,
             "#fb9f3a"
            ],
            [
             0.8888888888888888,
             "#fdca26"
            ],
            [
             1,
             "#f0f921"
            ]
           ]
          },
          "colorway": [
           "#636efa",
           "#EF553B",
           "#00cc96",
           "#ab63fa",
           "#FFA15A",
           "#19d3f3",
           "#FF6692",
           "#B6E880",
           "#FF97FF",
           "#FECB52"
          ],
          "font": {
           "color": "#2a3f5f"
          },
          "geo": {
           "bgcolor": "white",
           "lakecolor": "white",
           "landcolor": "#E5ECF6",
           "showlakes": true,
           "showland": true,
           "subunitcolor": "white"
          },
          "hoverlabel": {
           "align": "left"
          },
          "hovermode": "closest",
          "mapbox": {
           "style": "light"
          },
          "paper_bgcolor": "white",
          "plot_bgcolor": "#E5ECF6",
          "polar": {
           "angularaxis": {
            "gridcolor": "white",
            "linecolor": "white",
            "ticks": ""
           },
           "bgcolor": "#E5ECF6",
           "radialaxis": {
            "gridcolor": "white",
            "linecolor": "white",
            "ticks": ""
           }
          },
          "scene": {
           "xaxis": {
            "backgroundcolor": "#E5ECF6",
            "gridcolor": "white",
            "gridwidth": 2,
            "linecolor": "white",
            "showbackground": true,
            "ticks": "",
            "zerolinecolor": "white"
           },
           "yaxis": {
            "backgroundcolor": "#E5ECF6",
            "gridcolor": "white",
            "gridwidth": 2,
            "linecolor": "white",
            "showbackground": true,
            "ticks": "",
            "zerolinecolor": "white"
           },
           "zaxis": {
            "backgroundcolor": "#E5ECF6",
            "gridcolor": "white",
            "gridwidth": 2,
            "linecolor": "white",
            "showbackground": true,
            "ticks": "",
            "zerolinecolor": "white"
           }
          },
          "shapedefaults": {
           "line": {
            "color": "#2a3f5f"
           }
          },
          "ternary": {
           "aaxis": {
            "gridcolor": "white",
            "linecolor": "white",
            "ticks": ""
           },
           "baxis": {
            "gridcolor": "white",
            "linecolor": "white",
            "ticks": ""
           },
           "bgcolor": "#E5ECF6",
           "caxis": {
            "gridcolor": "white",
            "linecolor": "white",
            "ticks": ""
           }
          },
          "title": {
           "x": 0.05
          },
          "xaxis": {
           "automargin": true,
           "gridcolor": "white",
           "linecolor": "white",
           "ticks": "",
           "title": {
            "standoff": 15
           },
           "zerolinecolor": "white",
           "zerolinewidth": 2
          },
          "yaxis": {
           "automargin": true,
           "gridcolor": "white",
           "linecolor": "white",
           "ticks": "",
           "title": {
            "standoff": 15
           },
           "zerolinecolor": "white",
           "zerolinewidth": 2
          }
         }
        },
        "title": {
         "text": "acc",
         "x": 0.5
        },
        "yaxis": {
         "tickmode": "array",
         "tickvals": [
          "0.77",
          0.3,
          0.8
         ]
        }
       }
      }
     },
     "metadata": {},
     "output_type": "display_data"
    }
   ],
   "source": [
    "genVisMulitlabel(partEvalMetrics, \"acc\")"
   ]
  },
  {
   "cell_type": "code",
   "execution_count": 28,
   "metadata": {},
   "outputs": [
    {
     "data": {
      "application/vnd.plotly.v1+json": {
       "config": {
        "plotlyServerURL": "https://plot.ly"
       },
       "data": [
        {
         "text": [
          0.7753973375289874,
          0.9032877213815571,
          0.8748558571957573,
          0.6186969819510626,
          0.9052217240846226,
          0.8856581123653122,
          0.9440406880362849,
          0.8657684076544396,
          0.7272713507911235,
          0.7300284594867082,
          0.9041183628590216,
          0.9125322817705425,
          0.9621940770720746,
          0.8668241455700785,
          0.8406385834062924,
          0.6516058720537925,
          0.7391490943781029,
          0.8565059522307511,
          0.7814225617743579,
          0.7176914097702066,
          0.8287001661834362,
          0.815167057781573,
          0.7424508876042359,
          0.8730157659141587
         ],
         "type": "bar",
         "x": [
          "vision_bumper_rear",
          "vision_door_front_rh",
          "vision_door_rear_rh",
          "vision_misc",
          "vision_rear_compartment",
          "vision_rear_panel",
          "vision_rear_quarter_rh",
          "vision_tail_lamp_rh",
          "vision_non_external",
          "vision_wheel",
          "vision_door_front_lh",
          "vision_door_rear_lh",
          "vision_rear_quarter_lh",
          "vision_tail_lamp_lh",
          "vision_bonnet",
          "vision_bumper_front",
          "vision_engine",
          "vision_fender_front_lh",
          "vision_front_panel",
          "vision_headlamp_lh",
          "vision_windscreen_front",
          "vision_grille",
          "vision_headlamp_rh",
          "vision_fender_front_rh"
         ],
         "y": [
          0.7753973375289874,
          0.9032877213815571,
          0.8748558571957573,
          0.6186969819510626,
          0.9052217240846226,
          0.8856581123653122,
          0.9440406880362849,
          0.8657684076544396,
          0.7272713507911235,
          0.7300284594867082,
          0.9041183628590216,
          0.9125322817705425,
          0.9621940770720746,
          0.8668241455700785,
          0.8406385834062924,
          0.6516058720537925,
          0.7391490943781029,
          0.8565059522307511,
          0.7814225617743579,
          0.7176914097702066,
          0.8287001661834362,
          0.815167057781573,
          0.7424508876042359,
          0.8730157659141587
         ]
        }
       ],
       "layout": {
        "shapes": [
         {
          "line": {
           "color": "red",
           "width": 2
          },
          "type": "line",
          "x0": 0,
          "x1": 1,
          "xref": "x domain",
          "y0": 0.8217601191185201,
          "y1": 0.8217601191185201,
          "yref": "y"
         }
        ],
        "template": {
         "data": {
          "bar": [
           {
            "error_x": {
             "color": "#2a3f5f"
            },
            "error_y": {
             "color": "#2a3f5f"
            },
            "marker": {
             "line": {
              "color": "#E5ECF6",
              "width": 0.5
             },
             "pattern": {
              "fillmode": "overlay",
              "size": 10,
              "solidity": 0.2
             }
            },
            "type": "bar"
           }
          ],
          "barpolar": [
           {
            "marker": {
             "line": {
              "color": "#E5ECF6",
              "width": 0.5
             },
             "pattern": {
              "fillmode": "overlay",
              "size": 10,
              "solidity": 0.2
             }
            },
            "type": "barpolar"
           }
          ],
          "carpet": [
           {
            "aaxis": {
             "endlinecolor": "#2a3f5f",
             "gridcolor": "white",
             "linecolor": "white",
             "minorgridcolor": "white",
             "startlinecolor": "#2a3f5f"
            },
            "baxis": {
             "endlinecolor": "#2a3f5f",
             "gridcolor": "white",
             "linecolor": "white",
             "minorgridcolor": "white",
             "startlinecolor": "#2a3f5f"
            },
            "type": "carpet"
           }
          ],
          "choropleth": [
           {
            "colorbar": {
             "outlinewidth": 0,
             "ticks": ""
            },
            "type": "choropleth"
           }
          ],
          "contour": [
           {
            "colorbar": {
             "outlinewidth": 0,
             "ticks": ""
            },
            "colorscale": [
             [
              0,
              "#0d0887"
             ],
             [
              0.1111111111111111,
              "#46039f"
             ],
             [
              0.2222222222222222,
              "#7201a8"
             ],
             [
              0.3333333333333333,
              "#9c179e"
             ],
             [
              0.4444444444444444,
              "#bd3786"
             ],
             [
              0.5555555555555556,
              "#d8576b"
             ],
             [
              0.6666666666666666,
              "#ed7953"
             ],
             [
              0.7777777777777778,
              "#fb9f3a"
             ],
             [
              0.8888888888888888,
              "#fdca26"
             ],
             [
              1,
              "#f0f921"
             ]
            ],
            "type": "contour"
           }
          ],
          "contourcarpet": [
           {
            "colorbar": {
             "outlinewidth": 0,
             "ticks": ""
            },
            "type": "contourcarpet"
           }
          ],
          "heatmap": [
           {
            "colorbar": {
             "outlinewidth": 0,
             "ticks": ""
            },
            "colorscale": [
             [
              0,
              "#0d0887"
             ],
             [
              0.1111111111111111,
              "#46039f"
             ],
             [
              0.2222222222222222,
              "#7201a8"
             ],
             [
              0.3333333333333333,
              "#9c179e"
             ],
             [
              0.4444444444444444,
              "#bd3786"
             ],
             [
              0.5555555555555556,
              "#d8576b"
             ],
             [
              0.6666666666666666,
              "#ed7953"
             ],
             [
              0.7777777777777778,
              "#fb9f3a"
             ],
             [
              0.8888888888888888,
              "#fdca26"
             ],
             [
              1,
              "#f0f921"
             ]
            ],
            "type": "heatmap"
           }
          ],
          "heatmapgl": [
           {
            "colorbar": {
             "outlinewidth": 0,
             "ticks": ""
            },
            "colorscale": [
             [
              0,
              "#0d0887"
             ],
             [
              0.1111111111111111,
              "#46039f"
             ],
             [
              0.2222222222222222,
              "#7201a8"
             ],
             [
              0.3333333333333333,
              "#9c179e"
             ],
             [
              0.4444444444444444,
              "#bd3786"
             ],
             [
              0.5555555555555556,
              "#d8576b"
             ],
             [
              0.6666666666666666,
              "#ed7953"
             ],
             [
              0.7777777777777778,
              "#fb9f3a"
             ],
             [
              0.8888888888888888,
              "#fdca26"
             ],
             [
              1,
              "#f0f921"
             ]
            ],
            "type": "heatmapgl"
           }
          ],
          "histogram": [
           {
            "marker": {
             "pattern": {
              "fillmode": "overlay",
              "size": 10,
              "solidity": 0.2
             }
            },
            "type": "histogram"
           }
          ],
          "histogram2d": [
           {
            "colorbar": {
             "outlinewidth": 0,
             "ticks": ""
            },
            "colorscale": [
             [
              0,
              "#0d0887"
             ],
             [
              0.1111111111111111,
              "#46039f"
             ],
             [
              0.2222222222222222,
              "#7201a8"
             ],
             [
              0.3333333333333333,
              "#9c179e"
             ],
             [
              0.4444444444444444,
              "#bd3786"
             ],
             [
              0.5555555555555556,
              "#d8576b"
             ],
             [
              0.6666666666666666,
              "#ed7953"
             ],
             [
              0.7777777777777778,
              "#fb9f3a"
             ],
             [
              0.8888888888888888,
              "#fdca26"
             ],
             [
              1,
              "#f0f921"
             ]
            ],
            "type": "histogram2d"
           }
          ],
          "histogram2dcontour": [
           {
            "colorbar": {
             "outlinewidth": 0,
             "ticks": ""
            },
            "colorscale": [
             [
              0,
              "#0d0887"
             ],
             [
              0.1111111111111111,
              "#46039f"
             ],
             [
              0.2222222222222222,
              "#7201a8"
             ],
             [
              0.3333333333333333,
              "#9c179e"
             ],
             [
              0.4444444444444444,
              "#bd3786"
             ],
             [
              0.5555555555555556,
              "#d8576b"
             ],
             [
              0.6666666666666666,
              "#ed7953"
             ],
             [
              0.7777777777777778,
              "#fb9f3a"
             ],
             [
              0.8888888888888888,
              "#fdca26"
             ],
             [
              1,
              "#f0f921"
             ]
            ],
            "type": "histogram2dcontour"
           }
          ],
          "mesh3d": [
           {
            "colorbar": {
             "outlinewidth": 0,
             "ticks": ""
            },
            "type": "mesh3d"
           }
          ],
          "parcoords": [
           {
            "line": {
             "colorbar": {
              "outlinewidth": 0,
              "ticks": ""
             }
            },
            "type": "parcoords"
           }
          ],
          "pie": [
           {
            "automargin": true,
            "type": "pie"
           }
          ],
          "scatter": [
           {
            "fillpattern": {
             "fillmode": "overlay",
             "size": 10,
             "solidity": 0.2
            },
            "type": "scatter"
           }
          ],
          "scatter3d": [
           {
            "line": {
             "colorbar": {
              "outlinewidth": 0,
              "ticks": ""
             }
            },
            "marker": {
             "colorbar": {
              "outlinewidth": 0,
              "ticks": ""
             }
            },
            "type": "scatter3d"
           }
          ],
          "scattercarpet": [
           {
            "marker": {
             "colorbar": {
              "outlinewidth": 0,
              "ticks": ""
             }
            },
            "type": "scattercarpet"
           }
          ],
          "scattergeo": [
           {
            "marker": {
             "colorbar": {
              "outlinewidth": 0,
              "ticks": ""
             }
            },
            "type": "scattergeo"
           }
          ],
          "scattergl": [
           {
            "marker": {
             "colorbar": {
              "outlinewidth": 0,
              "ticks": ""
             }
            },
            "type": "scattergl"
           }
          ],
          "scattermapbox": [
           {
            "marker": {
             "colorbar": {
              "outlinewidth": 0,
              "ticks": ""
             }
            },
            "type": "scattermapbox"
           }
          ],
          "scatterpolar": [
           {
            "marker": {
             "colorbar": {
              "outlinewidth": 0,
              "ticks": ""
             }
            },
            "type": "scatterpolar"
           }
          ],
          "scatterpolargl": [
           {
            "marker": {
             "colorbar": {
              "outlinewidth": 0,
              "ticks": ""
             }
            },
            "type": "scatterpolargl"
           }
          ],
          "scatterternary": [
           {
            "marker": {
             "colorbar": {
              "outlinewidth": 0,
              "ticks": ""
             }
            },
            "type": "scatterternary"
           }
          ],
          "surface": [
           {
            "colorbar": {
             "outlinewidth": 0,
             "ticks": ""
            },
            "colorscale": [
             [
              0,
              "#0d0887"
             ],
             [
              0.1111111111111111,
              "#46039f"
             ],
             [
              0.2222222222222222,
              "#7201a8"
             ],
             [
              0.3333333333333333,
              "#9c179e"
             ],
             [
              0.4444444444444444,
              "#bd3786"
             ],
             [
              0.5555555555555556,
              "#d8576b"
             ],
             [
              0.6666666666666666,
              "#ed7953"
             ],
             [
              0.7777777777777778,
              "#fb9f3a"
             ],
             [
              0.8888888888888888,
              "#fdca26"
             ],
             [
              1,
              "#f0f921"
             ]
            ],
            "type": "surface"
           }
          ],
          "table": [
           {
            "cells": {
             "fill": {
              "color": "#EBF0F8"
             },
             "line": {
              "color": "white"
             }
            },
            "header": {
             "fill": {
              "color": "#C8D4E3"
             },
             "line": {
              "color": "white"
             }
            },
            "type": "table"
           }
          ]
         },
         "layout": {
          "annotationdefaults": {
           "arrowcolor": "#2a3f5f",
           "arrowhead": 0,
           "arrowwidth": 1
          },
          "autotypenumbers": "strict",
          "coloraxis": {
           "colorbar": {
            "outlinewidth": 0,
            "ticks": ""
           }
          },
          "colorscale": {
           "diverging": [
            [
             0,
             "#8e0152"
            ],
            [
             0.1,
             "#c51b7d"
            ],
            [
             0.2,
             "#de77ae"
            ],
            [
             0.3,
             "#f1b6da"
            ],
            [
             0.4,
             "#fde0ef"
            ],
            [
             0.5,
             "#f7f7f7"
            ],
            [
             0.6,
             "#e6f5d0"
            ],
            [
             0.7,
             "#b8e186"
            ],
            [
             0.8,
             "#7fbc41"
            ],
            [
             0.9,
             "#4d9221"
            ],
            [
             1,
             "#276419"
            ]
           ],
           "sequential": [
            [
             0,
             "#0d0887"
            ],
            [
             0.1111111111111111,
             "#46039f"
            ],
            [
             0.2222222222222222,
             "#7201a8"
            ],
            [
             0.3333333333333333,
             "#9c179e"
            ],
            [
             0.4444444444444444,
             "#bd3786"
            ],
            [
             0.5555555555555556,
             "#d8576b"
            ],
            [
             0.6666666666666666,
             "#ed7953"
            ],
            [
             0.7777777777777778,
             "#fb9f3a"
            ],
            [
             0.8888888888888888,
             "#fdca26"
            ],
            [
             1,
             "#f0f921"
            ]
           ],
           "sequentialminus": [
            [
             0,
             "#0d0887"
            ],
            [
             0.1111111111111111,
             "#46039f"
            ],
            [
             0.2222222222222222,
             "#7201a8"
            ],
            [
             0.3333333333333333,
             "#9c179e"
            ],
            [
             0.4444444444444444,
             "#bd3786"
            ],
            [
             0.5555555555555556,
             "#d8576b"
            ],
            [
             0.6666666666666666,
             "#ed7953"
            ],
            [
             0.7777777777777778,
             "#fb9f3a"
            ],
            [
             0.8888888888888888,
             "#fdca26"
            ],
            [
             1,
             "#f0f921"
            ]
           ]
          },
          "colorway": [
           "#636efa",
           "#EF553B",
           "#00cc96",
           "#ab63fa",
           "#FFA15A",
           "#19d3f3",
           "#FF6692",
           "#B6E880",
           "#FF97FF",
           "#FECB52"
          ],
          "font": {
           "color": "#2a3f5f"
          },
          "geo": {
           "bgcolor": "white",
           "lakecolor": "white",
           "landcolor": "#E5ECF6",
           "showlakes": true,
           "showland": true,
           "subunitcolor": "white"
          },
          "hoverlabel": {
           "align": "left"
          },
          "hovermode": "closest",
          "mapbox": {
           "style": "light"
          },
          "paper_bgcolor": "white",
          "plot_bgcolor": "#E5ECF6",
          "polar": {
           "angularaxis": {
            "gridcolor": "white",
            "linecolor": "white",
            "ticks": ""
           },
           "bgcolor": "#E5ECF6",
           "radialaxis": {
            "gridcolor": "white",
            "linecolor": "white",
            "ticks": ""
           }
          },
          "scene": {
           "xaxis": {
            "backgroundcolor": "#E5ECF6",
            "gridcolor": "white",
            "gridwidth": 2,
            "linecolor": "white",
            "showbackground": true,
            "ticks": "",
            "zerolinecolor": "white"
           },
           "yaxis": {
            "backgroundcolor": "#E5ECF6",
            "gridcolor": "white",
            "gridwidth": 2,
            "linecolor": "white",
            "showbackground": true,
            "ticks": "",
            "zerolinecolor": "white"
           },
           "zaxis": {
            "backgroundcolor": "#E5ECF6",
            "gridcolor": "white",
            "gridwidth": 2,
            "linecolor": "white",
            "showbackground": true,
            "ticks": "",
            "zerolinecolor": "white"
           }
          },
          "shapedefaults": {
           "line": {
            "color": "#2a3f5f"
           }
          },
          "ternary": {
           "aaxis": {
            "gridcolor": "white",
            "linecolor": "white",
            "ticks": ""
           },
           "baxis": {
            "gridcolor": "white",
            "linecolor": "white",
            "ticks": ""
           },
           "bgcolor": "#E5ECF6",
           "caxis": {
            "gridcolor": "white",
            "linecolor": "white",
            "ticks": ""
           }
          },
          "title": {
           "x": 0.05
          },
          "xaxis": {
           "automargin": true,
           "gridcolor": "white",
           "linecolor": "white",
           "ticks": "",
           "title": {
            "standoff": 15
           },
           "zerolinecolor": "white",
           "zerolinewidth": 2
          },
          "yaxis": {
           "automargin": true,
           "gridcolor": "white",
           "linecolor": "white",
           "ticks": "",
           "title": {
            "standoff": 15
           },
           "zerolinecolor": "white",
           "zerolinewidth": 2
          }
         }
        },
        "title": {
         "text": "precision",
         "x": 0.5
        },
        "yaxis": {
         "tickmode": "array",
         "tickvals": [
          "0.82",
          0.3,
          0.8
         ]
        }
       }
      }
     },
     "metadata": {},
     "output_type": "display_data"
    }
   ],
   "source": [
    "genVisMulitlabel(partEvalMetrics, \"precision\")"
   ]
  },
  {
   "cell_type": "code",
   "execution_count": 29,
   "metadata": {},
   "outputs": [
    {
     "data": {
      "application/vnd.plotly.v1+json": {
       "config": {
        "plotlyServerURL": "https://plot.ly"
       },
       "data": [
        {
         "text": [
          0.6554469779225479,
          0.644674835061263,
          0.743988684582744,
          0.8621296567908477,
          0.8180677540777918,
          0.7398932112890922,
          0.6781609195402298,
          0.624509033778476,
          0.7573295655245497,
          0.595724907063197,
          0.5981688708036622,
          0.6188466947960619,
          0.473015873015873,
          0.7294921875,
          0.8846518237801989,
          0.9267573324594461,
          0.8908941755537325,
          0.739404869251578,
          0.7072434607645876,
          0.9053472649047326,
          0.6500646830530401,
          0.4142228739002933,
          0.8916800643086816,
          0.7051744885679904
         ],
         "type": "bar",
         "x": [
          "vision_bumper_rear",
          "vision_door_front_rh",
          "vision_door_rear_rh",
          "vision_misc",
          "vision_rear_compartment",
          "vision_rear_panel",
          "vision_rear_quarter_rh",
          "vision_tail_lamp_rh",
          "vision_non_external",
          "vision_wheel",
          "vision_door_front_lh",
          "vision_door_rear_lh",
          "vision_rear_quarter_lh",
          "vision_tail_lamp_lh",
          "vision_bonnet",
          "vision_bumper_front",
          "vision_engine",
          "vision_fender_front_lh",
          "vision_front_panel",
          "vision_headlamp_lh",
          "vision_windscreen_front",
          "vision_grille",
          "vision_headlamp_rh",
          "vision_fender_front_rh"
         ],
         "y": [
          0.6554469779225479,
          0.644674835061263,
          0.743988684582744,
          0.8621296567908477,
          0.8180677540777918,
          0.7398932112890922,
          0.6781609195402298,
          0.624509033778476,
          0.7573295655245497,
          0.595724907063197,
          0.5981688708036622,
          0.6188466947960619,
          0.473015873015873,
          0.7294921875,
          0.8846518237801989,
          0.9267573324594461,
          0.8908941755537325,
          0.739404869251578,
          0.7072434607645876,
          0.9053472649047326,
          0.6500646830530401,
          0.4142228739002933,
          0.8916800643086816,
          0.7051744885679904
         ]
        }
       ],
       "layout": {
        "shapes": [
         {
          "line": {
           "color": "red",
           "width": 2
          },
          "type": "line",
          "x0": 0,
          "x1": 1,
          "xref": "x domain",
          "y0": 0.7189537586787758,
          "y1": 0.7189537586787758,
          "yref": "y"
         }
        ],
        "template": {
         "data": {
          "bar": [
           {
            "error_x": {
             "color": "#2a3f5f"
            },
            "error_y": {
             "color": "#2a3f5f"
            },
            "marker": {
             "line": {
              "color": "#E5ECF6",
              "width": 0.5
             },
             "pattern": {
              "fillmode": "overlay",
              "size": 10,
              "solidity": 0.2
             }
            },
            "type": "bar"
           }
          ],
          "barpolar": [
           {
            "marker": {
             "line": {
              "color": "#E5ECF6",
              "width": 0.5
             },
             "pattern": {
              "fillmode": "overlay",
              "size": 10,
              "solidity": 0.2
             }
            },
            "type": "barpolar"
           }
          ],
          "carpet": [
           {
            "aaxis": {
             "endlinecolor": "#2a3f5f",
             "gridcolor": "white",
             "linecolor": "white",
             "minorgridcolor": "white",
             "startlinecolor": "#2a3f5f"
            },
            "baxis": {
             "endlinecolor": "#2a3f5f",
             "gridcolor": "white",
             "linecolor": "white",
             "minorgridcolor": "white",
             "startlinecolor": "#2a3f5f"
            },
            "type": "carpet"
           }
          ],
          "choropleth": [
           {
            "colorbar": {
             "outlinewidth": 0,
             "ticks": ""
            },
            "type": "choropleth"
           }
          ],
          "contour": [
           {
            "colorbar": {
             "outlinewidth": 0,
             "ticks": ""
            },
            "colorscale": [
             [
              0,
              "#0d0887"
             ],
             [
              0.1111111111111111,
              "#46039f"
             ],
             [
              0.2222222222222222,
              "#7201a8"
             ],
             [
              0.3333333333333333,
              "#9c179e"
             ],
             [
              0.4444444444444444,
              "#bd3786"
             ],
             [
              0.5555555555555556,
              "#d8576b"
             ],
             [
              0.6666666666666666,
              "#ed7953"
             ],
             [
              0.7777777777777778,
              "#fb9f3a"
             ],
             [
              0.8888888888888888,
              "#fdca26"
             ],
             [
              1,
              "#f0f921"
             ]
            ],
            "type": "contour"
           }
          ],
          "contourcarpet": [
           {
            "colorbar": {
             "outlinewidth": 0,
             "ticks": ""
            },
            "type": "contourcarpet"
           }
          ],
          "heatmap": [
           {
            "colorbar": {
             "outlinewidth": 0,
             "ticks": ""
            },
            "colorscale": [
             [
              0,
              "#0d0887"
             ],
             [
              0.1111111111111111,
              "#46039f"
             ],
             [
              0.2222222222222222,
              "#7201a8"
             ],
             [
              0.3333333333333333,
              "#9c179e"
             ],
             [
              0.4444444444444444,
              "#bd3786"
             ],
             [
              0.5555555555555556,
              "#d8576b"
             ],
             [
              0.6666666666666666,
              "#ed7953"
             ],
             [
              0.7777777777777778,
              "#fb9f3a"
             ],
             [
              0.8888888888888888,
              "#fdca26"
             ],
             [
              1,
              "#f0f921"
             ]
            ],
            "type": "heatmap"
           }
          ],
          "heatmapgl": [
           {
            "colorbar": {
             "outlinewidth": 0,
             "ticks": ""
            },
            "colorscale": [
             [
              0,
              "#0d0887"
             ],
             [
              0.1111111111111111,
              "#46039f"
             ],
             [
              0.2222222222222222,
              "#7201a8"
             ],
             [
              0.3333333333333333,
              "#9c179e"
             ],
             [
              0.4444444444444444,
              "#bd3786"
             ],
             [
              0.5555555555555556,
              "#d8576b"
             ],
             [
              0.6666666666666666,
              "#ed7953"
             ],
             [
              0.7777777777777778,
              "#fb9f3a"
             ],
             [
              0.8888888888888888,
              "#fdca26"
             ],
             [
              1,
              "#f0f921"
             ]
            ],
            "type": "heatmapgl"
           }
          ],
          "histogram": [
           {
            "marker": {
             "pattern": {
              "fillmode": "overlay",
              "size": 10,
              "solidity": 0.2
             }
            },
            "type": "histogram"
           }
          ],
          "histogram2d": [
           {
            "colorbar": {
             "outlinewidth": 0,
             "ticks": ""
            },
            "colorscale": [
             [
              0,
              "#0d0887"
             ],
             [
              0.1111111111111111,
              "#46039f"
             ],
             [
              0.2222222222222222,
              "#7201a8"
             ],
             [
              0.3333333333333333,
              "#9c179e"
             ],
             [
              0.4444444444444444,
              "#bd3786"
             ],
             [
              0.5555555555555556,
              "#d8576b"
             ],
             [
              0.6666666666666666,
              "#ed7953"
             ],
             [
              0.7777777777777778,
              "#fb9f3a"
             ],
             [
              0.8888888888888888,
              "#fdca26"
             ],
             [
              1,
              "#f0f921"
             ]
            ],
            "type": "histogram2d"
           }
          ],
          "histogram2dcontour": [
           {
            "colorbar": {
             "outlinewidth": 0,
             "ticks": ""
            },
            "colorscale": [
             [
              0,
              "#0d0887"
             ],
             [
              0.1111111111111111,
              "#46039f"
             ],
             [
              0.2222222222222222,
              "#7201a8"
             ],
             [
              0.3333333333333333,
              "#9c179e"
             ],
             [
              0.4444444444444444,
              "#bd3786"
             ],
             [
              0.5555555555555556,
              "#d8576b"
             ],
             [
              0.6666666666666666,
              "#ed7953"
             ],
             [
              0.7777777777777778,
              "#fb9f3a"
             ],
             [
              0.8888888888888888,
              "#fdca26"
             ],
             [
              1,
              "#f0f921"
             ]
            ],
            "type": "histogram2dcontour"
           }
          ],
          "mesh3d": [
           {
            "colorbar": {
             "outlinewidth": 0,
             "ticks": ""
            },
            "type": "mesh3d"
           }
          ],
          "parcoords": [
           {
            "line": {
             "colorbar": {
              "outlinewidth": 0,
              "ticks": ""
             }
            },
            "type": "parcoords"
           }
          ],
          "pie": [
           {
            "automargin": true,
            "type": "pie"
           }
          ],
          "scatter": [
           {
            "fillpattern": {
             "fillmode": "overlay",
             "size": 10,
             "solidity": 0.2
            },
            "type": "scatter"
           }
          ],
          "scatter3d": [
           {
            "line": {
             "colorbar": {
              "outlinewidth": 0,
              "ticks": ""
             }
            },
            "marker": {
             "colorbar": {
              "outlinewidth": 0,
              "ticks": ""
             }
            },
            "type": "scatter3d"
           }
          ],
          "scattercarpet": [
           {
            "marker": {
             "colorbar": {
              "outlinewidth": 0,
              "ticks": ""
             }
            },
            "type": "scattercarpet"
           }
          ],
          "scattergeo": [
           {
            "marker": {
             "colorbar": {
              "outlinewidth": 0,
              "ticks": ""
             }
            },
            "type": "scattergeo"
           }
          ],
          "scattergl": [
           {
            "marker": {
             "colorbar": {
              "outlinewidth": 0,
              "ticks": ""
             }
            },
            "type": "scattergl"
           }
          ],
          "scattermapbox": [
           {
            "marker": {
             "colorbar": {
              "outlinewidth": 0,
              "ticks": ""
             }
            },
            "type": "scattermapbox"
           }
          ],
          "scatterpolar": [
           {
            "marker": {
             "colorbar": {
              "outlinewidth": 0,
              "ticks": ""
             }
            },
            "type": "scatterpolar"
           }
          ],
          "scatterpolargl": [
           {
            "marker": {
             "colorbar": {
              "outlinewidth": 0,
              "ticks": ""
             }
            },
            "type": "scatterpolargl"
           }
          ],
          "scatterternary": [
           {
            "marker": {
             "colorbar": {
              "outlinewidth": 0,
              "ticks": ""
             }
            },
            "type": "scatterternary"
           }
          ],
          "surface": [
           {
            "colorbar": {
             "outlinewidth": 0,
             "ticks": ""
            },
            "colorscale": [
             [
              0,
              "#0d0887"
             ],
             [
              0.1111111111111111,
              "#46039f"
             ],
             [
              0.2222222222222222,
              "#7201a8"
             ],
             [
              0.3333333333333333,
              "#9c179e"
             ],
             [
              0.4444444444444444,
              "#bd3786"
             ],
             [
              0.5555555555555556,
              "#d8576b"
             ],
             [
              0.6666666666666666,
              "#ed7953"
             ],
             [
              0.7777777777777778,
              "#fb9f3a"
             ],
             [
              0.8888888888888888,
              "#fdca26"
             ],
             [
              1,
              "#f0f921"
             ]
            ],
            "type": "surface"
           }
          ],
          "table": [
           {
            "cells": {
             "fill": {
              "color": "#EBF0F8"
             },
             "line": {
              "color": "white"
             }
            },
            "header": {
             "fill": {
              "color": "#C8D4E3"
             },
             "line": {
              "color": "white"
             }
            },
            "type": "table"
           }
          ]
         },
         "layout": {
          "annotationdefaults": {
           "arrowcolor": "#2a3f5f",
           "arrowhead": 0,
           "arrowwidth": 1
          },
          "autotypenumbers": "strict",
          "coloraxis": {
           "colorbar": {
            "outlinewidth": 0,
            "ticks": ""
           }
          },
          "colorscale": {
           "diverging": [
            [
             0,
             "#8e0152"
            ],
            [
             0.1,
             "#c51b7d"
            ],
            [
             0.2,
             "#de77ae"
            ],
            [
             0.3,
             "#f1b6da"
            ],
            [
             0.4,
             "#fde0ef"
            ],
            [
             0.5,
             "#f7f7f7"
            ],
            [
             0.6,
             "#e6f5d0"
            ],
            [
             0.7,
             "#b8e186"
            ],
            [
             0.8,
             "#7fbc41"
            ],
            [
             0.9,
             "#4d9221"
            ],
            [
             1,
             "#276419"
            ]
           ],
           "sequential": [
            [
             0,
             "#0d0887"
            ],
            [
             0.1111111111111111,
             "#46039f"
            ],
            [
             0.2222222222222222,
             "#7201a8"
            ],
            [
             0.3333333333333333,
             "#9c179e"
            ],
            [
             0.4444444444444444,
             "#bd3786"
            ],
            [
             0.5555555555555556,
             "#d8576b"
            ],
            [
             0.6666666666666666,
             "#ed7953"
            ],
            [
             0.7777777777777778,
             "#fb9f3a"
            ],
            [
             0.8888888888888888,
             "#fdca26"
            ],
            [
             1,
             "#f0f921"
            ]
           ],
           "sequentialminus": [
            [
             0,
             "#0d0887"
            ],
            [
             0.1111111111111111,
             "#46039f"
            ],
            [
             0.2222222222222222,
             "#7201a8"
            ],
            [
             0.3333333333333333,
             "#9c179e"
            ],
            [
             0.4444444444444444,
             "#bd3786"
            ],
            [
             0.5555555555555556,
             "#d8576b"
            ],
            [
             0.6666666666666666,
             "#ed7953"
            ],
            [
             0.7777777777777778,
             "#fb9f3a"
            ],
            [
             0.8888888888888888,
             "#fdca26"
            ],
            [
             1,
             "#f0f921"
            ]
           ]
          },
          "colorway": [
           "#636efa",
           "#EF553B",
           "#00cc96",
           "#ab63fa",
           "#FFA15A",
           "#19d3f3",
           "#FF6692",
           "#B6E880",
           "#FF97FF",
           "#FECB52"
          ],
          "font": {
           "color": "#2a3f5f"
          },
          "geo": {
           "bgcolor": "white",
           "lakecolor": "white",
           "landcolor": "#E5ECF6",
           "showlakes": true,
           "showland": true,
           "subunitcolor": "white"
          },
          "hoverlabel": {
           "align": "left"
          },
          "hovermode": "closest",
          "mapbox": {
           "style": "light"
          },
          "paper_bgcolor": "white",
          "plot_bgcolor": "#E5ECF6",
          "polar": {
           "angularaxis": {
            "gridcolor": "white",
            "linecolor": "white",
            "ticks": ""
           },
           "bgcolor": "#E5ECF6",
           "radialaxis": {
            "gridcolor": "white",
            "linecolor": "white",
            "ticks": ""
           }
          },
          "scene": {
           "xaxis": {
            "backgroundcolor": "#E5ECF6",
            "gridcolor": "white",
            "gridwidth": 2,
            "linecolor": "white",
            "showbackground": true,
            "ticks": "",
            "zerolinecolor": "white"
           },
           "yaxis": {
            "backgroundcolor": "#E5ECF6",
            "gridcolor": "white",
            "gridwidth": 2,
            "linecolor": "white",
            "showbackground": true,
            "ticks": "",
            "zerolinecolor": "white"
           },
           "zaxis": {
            "backgroundcolor": "#E5ECF6",
            "gridcolor": "white",
            "gridwidth": 2,
            "linecolor": "white",
            "showbackground": true,
            "ticks": "",
            "zerolinecolor": "white"
           }
          },
          "shapedefaults": {
           "line": {
            "color": "#2a3f5f"
           }
          },
          "ternary": {
           "aaxis": {
            "gridcolor": "white",
            "linecolor": "white",
            "ticks": ""
           },
           "baxis": {
            "gridcolor": "white",
            "linecolor": "white",
            "ticks": ""
           },
           "bgcolor": "#E5ECF6",
           "caxis": {
            "gridcolor": "white",
            "linecolor": "white",
            "ticks": ""
           }
          },
          "title": {
           "x": 0.05
          },
          "xaxis": {
           "automargin": true,
           "gridcolor": "white",
           "linecolor": "white",
           "ticks": "",
           "title": {
            "standoff": 15
           },
           "zerolinecolor": "white",
           "zerolinewidth": 2
          },
          "yaxis": {
           "automargin": true,
           "gridcolor": "white",
           "linecolor": "white",
           "ticks": "",
           "title": {
            "standoff": 15
           },
           "zerolinecolor": "white",
           "zerolinewidth": 2
          }
         }
        },
        "title": {
         "text": "recall",
         "x": 0.5
        },
        "yaxis": {
         "tickmode": "array",
         "tickvals": [
          "0.72",
          0.3,
          0.8
         ]
        }
       }
      }
     },
     "metadata": {},
     "output_type": "display_data"
    }
   ],
   "source": [
    "genVisMulitlabel(partEvalMetrics, \"recall\")"
   ]
  },
  {
   "cell_type": "code",
   "execution_count": 30,
   "metadata": {},
   "outputs": [
    {
     "data": {
      "application/vnd.plotly.v1+json": {
       "config": {
        "plotlyServerURL": "https://plot.ly"
       },
       "data": [
        {
         "text": [
          0.7103943260412375,
          0.7523784866381938,
          0.8041326286704529,
          0.7204044048804653,
          0.8594408683490388,
          0.8062402156445515,
          0.789311880954823,
          0.7256101135374293,
          0.7419961688828431,
          0.656073968437986,
          0.7199894242137569,
          0.737528195319126,
          0.6342390133918172,
          0.7922507951962114,
          0.8620838009099228,
          0.7651984259044081,
          0.8079584575381304,
          0.7936592234322275,
          0.7424848670439356,
          0.8006709452086367,
          0.7285927998007068,
          0.5493144732708082,
          0.8102516563069937,
          0.7801701277674095
         ],
         "type": "bar",
         "x": [
          "vision_bumper_rear",
          "vision_door_front_rh",
          "vision_door_rear_rh",
          "vision_misc",
          "vision_rear_compartment",
          "vision_rear_panel",
          "vision_rear_quarter_rh",
          "vision_tail_lamp_rh",
          "vision_non_external",
          "vision_wheel",
          "vision_door_front_lh",
          "vision_door_rear_lh",
          "vision_rear_quarter_lh",
          "vision_tail_lamp_lh",
          "vision_bonnet",
          "vision_bumper_front",
          "vision_engine",
          "vision_fender_front_lh",
          "vision_front_panel",
          "vision_headlamp_lh",
          "vision_windscreen_front",
          "vision_grille",
          "vision_headlamp_rh",
          "vision_fender_front_rh"
         ],
         "y": [
          0.7103943260412375,
          0.7523784866381938,
          0.8041326286704529,
          0.7204044048804653,
          0.8594408683490388,
          0.8062402156445515,
          0.789311880954823,
          0.7256101135374293,
          0.7419961688828431,
          0.656073968437986,
          0.7199894242137569,
          0.737528195319126,
          0.6342390133918172,
          0.7922507951962114,
          0.8620838009099228,
          0.7651984259044081,
          0.8079584575381304,
          0.7936592234322275,
          0.7424848670439356,
          0.8006709452086367,
          0.7285927998007068,
          0.5493144732708082,
          0.8102516563069937,
          0.7801701277674095
         ]
        }
       ],
       "layout": {
        "shapes": [
         {
          "line": {
           "color": "red",
           "width": 2
          },
          "type": "line",
          "x0": 0,
          "x1": 1,
          "xref": "x domain",
          "y0": 0.7537656361392129,
          "y1": 0.7537656361392129,
          "yref": "y"
         }
        ],
        "template": {
         "data": {
          "bar": [
           {
            "error_x": {
             "color": "#2a3f5f"
            },
            "error_y": {
             "color": "#2a3f5f"
            },
            "marker": {
             "line": {
              "color": "#E5ECF6",
              "width": 0.5
             },
             "pattern": {
              "fillmode": "overlay",
              "size": 10,
              "solidity": 0.2
             }
            },
            "type": "bar"
           }
          ],
          "barpolar": [
           {
            "marker": {
             "line": {
              "color": "#E5ECF6",
              "width": 0.5
             },
             "pattern": {
              "fillmode": "overlay",
              "size": 10,
              "solidity": 0.2
             }
            },
            "type": "barpolar"
           }
          ],
          "carpet": [
           {
            "aaxis": {
             "endlinecolor": "#2a3f5f",
             "gridcolor": "white",
             "linecolor": "white",
             "minorgridcolor": "white",
             "startlinecolor": "#2a3f5f"
            },
            "baxis": {
             "endlinecolor": "#2a3f5f",
             "gridcolor": "white",
             "linecolor": "white",
             "minorgridcolor": "white",
             "startlinecolor": "#2a3f5f"
            },
            "type": "carpet"
           }
          ],
          "choropleth": [
           {
            "colorbar": {
             "outlinewidth": 0,
             "ticks": ""
            },
            "type": "choropleth"
           }
          ],
          "contour": [
           {
            "colorbar": {
             "outlinewidth": 0,
             "ticks": ""
            },
            "colorscale": [
             [
              0,
              "#0d0887"
             ],
             [
              0.1111111111111111,
              "#46039f"
             ],
             [
              0.2222222222222222,
              "#7201a8"
             ],
             [
              0.3333333333333333,
              "#9c179e"
             ],
             [
              0.4444444444444444,
              "#bd3786"
             ],
             [
              0.5555555555555556,
              "#d8576b"
             ],
             [
              0.6666666666666666,
              "#ed7953"
             ],
             [
              0.7777777777777778,
              "#fb9f3a"
             ],
             [
              0.8888888888888888,
              "#fdca26"
             ],
             [
              1,
              "#f0f921"
             ]
            ],
            "type": "contour"
           }
          ],
          "contourcarpet": [
           {
            "colorbar": {
             "outlinewidth": 0,
             "ticks": ""
            },
            "type": "contourcarpet"
           }
          ],
          "heatmap": [
           {
            "colorbar": {
             "outlinewidth": 0,
             "ticks": ""
            },
            "colorscale": [
             [
              0,
              "#0d0887"
             ],
             [
              0.1111111111111111,
              "#46039f"
             ],
             [
              0.2222222222222222,
              "#7201a8"
             ],
             [
              0.3333333333333333,
              "#9c179e"
             ],
             [
              0.4444444444444444,
              "#bd3786"
             ],
             [
              0.5555555555555556,
              "#d8576b"
             ],
             [
              0.6666666666666666,
              "#ed7953"
             ],
             [
              0.7777777777777778,
              "#fb9f3a"
             ],
             [
              0.8888888888888888,
              "#fdca26"
             ],
             [
              1,
              "#f0f921"
             ]
            ],
            "type": "heatmap"
           }
          ],
          "heatmapgl": [
           {
            "colorbar": {
             "outlinewidth": 0,
             "ticks": ""
            },
            "colorscale": [
             [
              0,
              "#0d0887"
             ],
             [
              0.1111111111111111,
              "#46039f"
             ],
             [
              0.2222222222222222,
              "#7201a8"
             ],
             [
              0.3333333333333333,
              "#9c179e"
             ],
             [
              0.4444444444444444,
              "#bd3786"
             ],
             [
              0.5555555555555556,
              "#d8576b"
             ],
             [
              0.6666666666666666,
              "#ed7953"
             ],
             [
              0.7777777777777778,
              "#fb9f3a"
             ],
             [
              0.8888888888888888,
              "#fdca26"
             ],
             [
              1,
              "#f0f921"
             ]
            ],
            "type": "heatmapgl"
           }
          ],
          "histogram": [
           {
            "marker": {
             "pattern": {
              "fillmode": "overlay",
              "size": 10,
              "solidity": 0.2
             }
            },
            "type": "histogram"
           }
          ],
          "histogram2d": [
           {
            "colorbar": {
             "outlinewidth": 0,
             "ticks": ""
            },
            "colorscale": [
             [
              0,
              "#0d0887"
             ],
             [
              0.1111111111111111,
              "#46039f"
             ],
             [
              0.2222222222222222,
              "#7201a8"
             ],
             [
              0.3333333333333333,
              "#9c179e"
             ],
             [
              0.4444444444444444,
              "#bd3786"
             ],
             [
              0.5555555555555556,
              "#d8576b"
             ],
             [
              0.6666666666666666,
              "#ed7953"
             ],
             [
              0.7777777777777778,
              "#fb9f3a"
             ],
             [
              0.8888888888888888,
              "#fdca26"
             ],
             [
              1,
              "#f0f921"
             ]
            ],
            "type": "histogram2d"
           }
          ],
          "histogram2dcontour": [
           {
            "colorbar": {
             "outlinewidth": 0,
             "ticks": ""
            },
            "colorscale": [
             [
              0,
              "#0d0887"
             ],
             [
              0.1111111111111111,
              "#46039f"
             ],
             [
              0.2222222222222222,
              "#7201a8"
             ],
             [
              0.3333333333333333,
              "#9c179e"
             ],
             [
              0.4444444444444444,
              "#bd3786"
             ],
             [
              0.5555555555555556,
              "#d8576b"
             ],
             [
              0.6666666666666666,
              "#ed7953"
             ],
             [
              0.7777777777777778,
              "#fb9f3a"
             ],
             [
              0.8888888888888888,
              "#fdca26"
             ],
             [
              1,
              "#f0f921"
             ]
            ],
            "type": "histogram2dcontour"
           }
          ],
          "mesh3d": [
           {
            "colorbar": {
             "outlinewidth": 0,
             "ticks": ""
            },
            "type": "mesh3d"
           }
          ],
          "parcoords": [
           {
            "line": {
             "colorbar": {
              "outlinewidth": 0,
              "ticks": ""
             }
            },
            "type": "parcoords"
           }
          ],
          "pie": [
           {
            "automargin": true,
            "type": "pie"
           }
          ],
          "scatter": [
           {
            "fillpattern": {
             "fillmode": "overlay",
             "size": 10,
             "solidity": 0.2
            },
            "type": "scatter"
           }
          ],
          "scatter3d": [
           {
            "line": {
             "colorbar": {
              "outlinewidth": 0,
              "ticks": ""
             }
            },
            "marker": {
             "colorbar": {
              "outlinewidth": 0,
              "ticks": ""
             }
            },
            "type": "scatter3d"
           }
          ],
          "scattercarpet": [
           {
            "marker": {
             "colorbar": {
              "outlinewidth": 0,
              "ticks": ""
             }
            },
            "type": "scattercarpet"
           }
          ],
          "scattergeo": [
           {
            "marker": {
             "colorbar": {
              "outlinewidth": 0,
              "ticks": ""
             }
            },
            "type": "scattergeo"
           }
          ],
          "scattergl": [
           {
            "marker": {
             "colorbar": {
              "outlinewidth": 0,
              "ticks": ""
             }
            },
            "type": "scattergl"
           }
          ],
          "scattermapbox": [
           {
            "marker": {
             "colorbar": {
              "outlinewidth": 0,
              "ticks": ""
             }
            },
            "type": "scattermapbox"
           }
          ],
          "scatterpolar": [
           {
            "marker": {
             "colorbar": {
              "outlinewidth": 0,
              "ticks": ""
             }
            },
            "type": "scatterpolar"
           }
          ],
          "scatterpolargl": [
           {
            "marker": {
             "colorbar": {
              "outlinewidth": 0,
              "ticks": ""
             }
            },
            "type": "scatterpolargl"
           }
          ],
          "scatterternary": [
           {
            "marker": {
             "colorbar": {
              "outlinewidth": 0,
              "ticks": ""
             }
            },
            "type": "scatterternary"
           }
          ],
          "surface": [
           {
            "colorbar": {
             "outlinewidth": 0,
             "ticks": ""
            },
            "colorscale": [
             [
              0,
              "#0d0887"
             ],
             [
              0.1111111111111111,
              "#46039f"
             ],
             [
              0.2222222222222222,
              "#7201a8"
             ],
             [
              0.3333333333333333,
              "#9c179e"
             ],
             [
              0.4444444444444444,
              "#bd3786"
             ],
             [
              0.5555555555555556,
              "#d8576b"
             ],
             [
              0.6666666666666666,
              "#ed7953"
             ],
             [
              0.7777777777777778,
              "#fb9f3a"
             ],
             [
              0.8888888888888888,
              "#fdca26"
             ],
             [
              1,
              "#f0f921"
             ]
            ],
            "type": "surface"
           }
          ],
          "table": [
           {
            "cells": {
             "fill": {
              "color": "#EBF0F8"
             },
             "line": {
              "color": "white"
             }
            },
            "header": {
             "fill": {
              "color": "#C8D4E3"
             },
             "line": {
              "color": "white"
             }
            },
            "type": "table"
           }
          ]
         },
         "layout": {
          "annotationdefaults": {
           "arrowcolor": "#2a3f5f",
           "arrowhead": 0,
           "arrowwidth": 1
          },
          "autotypenumbers": "strict",
          "coloraxis": {
           "colorbar": {
            "outlinewidth": 0,
            "ticks": ""
           }
          },
          "colorscale": {
           "diverging": [
            [
             0,
             "#8e0152"
            ],
            [
             0.1,
             "#c51b7d"
            ],
            [
             0.2,
             "#de77ae"
            ],
            [
             0.3,
             "#f1b6da"
            ],
            [
             0.4,
             "#fde0ef"
            ],
            [
             0.5,
             "#f7f7f7"
            ],
            [
             0.6,
             "#e6f5d0"
            ],
            [
             0.7,
             "#b8e186"
            ],
            [
             0.8,
             "#7fbc41"
            ],
            [
             0.9,
             "#4d9221"
            ],
            [
             1,
             "#276419"
            ]
           ],
           "sequential": [
            [
             0,
             "#0d0887"
            ],
            [
             0.1111111111111111,
             "#46039f"
            ],
            [
             0.2222222222222222,
             "#7201a8"
            ],
            [
             0.3333333333333333,
             "#9c179e"
            ],
            [
             0.4444444444444444,
             "#bd3786"
            ],
            [
             0.5555555555555556,
             "#d8576b"
            ],
            [
             0.6666666666666666,
             "#ed7953"
            ],
            [
             0.7777777777777778,
             "#fb9f3a"
            ],
            [
             0.8888888888888888,
             "#fdca26"
            ],
            [
             1,
             "#f0f921"
            ]
           ],
           "sequentialminus": [
            [
             0,
             "#0d0887"
            ],
            [
             0.1111111111111111,
             "#46039f"
            ],
            [
             0.2222222222222222,
             "#7201a8"
            ],
            [
             0.3333333333333333,
             "#9c179e"
            ],
            [
             0.4444444444444444,
             "#bd3786"
            ],
            [
             0.5555555555555556,
             "#d8576b"
            ],
            [
             0.6666666666666666,
             "#ed7953"
            ],
            [
             0.7777777777777778,
             "#fb9f3a"
            ],
            [
             0.8888888888888888,
             "#fdca26"
            ],
            [
             1,
             "#f0f921"
            ]
           ]
          },
          "colorway": [
           "#636efa",
           "#EF553B",
           "#00cc96",
           "#ab63fa",
           "#FFA15A",
           "#19d3f3",
           "#FF6692",
           "#B6E880",
           "#FF97FF",
           "#FECB52"
          ],
          "font": {
           "color": "#2a3f5f"
          },
          "geo": {
           "bgcolor": "white",
           "lakecolor": "white",
           "landcolor": "#E5ECF6",
           "showlakes": true,
           "showland": true,
           "subunitcolor": "white"
          },
          "hoverlabel": {
           "align": "left"
          },
          "hovermode": "closest",
          "mapbox": {
           "style": "light"
          },
          "paper_bgcolor": "white",
          "plot_bgcolor": "#E5ECF6",
          "polar": {
           "angularaxis": {
            "gridcolor": "white",
            "linecolor": "white",
            "ticks": ""
           },
           "bgcolor": "#E5ECF6",
           "radialaxis": {
            "gridcolor": "white",
            "linecolor": "white",
            "ticks": ""
           }
          },
          "scene": {
           "xaxis": {
            "backgroundcolor": "#E5ECF6",
            "gridcolor": "white",
            "gridwidth": 2,
            "linecolor": "white",
            "showbackground": true,
            "ticks": "",
            "zerolinecolor": "white"
           },
           "yaxis": {
            "backgroundcolor": "#E5ECF6",
            "gridcolor": "white",
            "gridwidth": 2,
            "linecolor": "white",
            "showbackground": true,
            "ticks": "",
            "zerolinecolor": "white"
           },
           "zaxis": {
            "backgroundcolor": "#E5ECF6",
            "gridcolor": "white",
            "gridwidth": 2,
            "linecolor": "white",
            "showbackground": true,
            "ticks": "",
            "zerolinecolor": "white"
           }
          },
          "shapedefaults": {
           "line": {
            "color": "#2a3f5f"
           }
          },
          "ternary": {
           "aaxis": {
            "gridcolor": "white",
            "linecolor": "white",
            "ticks": ""
           },
           "baxis": {
            "gridcolor": "white",
            "linecolor": "white",
            "ticks": ""
           },
           "bgcolor": "#E5ECF6",
           "caxis": {
            "gridcolor": "white",
            "linecolor": "white",
            "ticks": ""
           }
          },
          "title": {
           "x": 0.05
          },
          "xaxis": {
           "automargin": true,
           "gridcolor": "white",
           "linecolor": "white",
           "ticks": "",
           "title": {
            "standoff": 15
           },
           "zerolinecolor": "white",
           "zerolinewidth": 2
          },
          "yaxis": {
           "automargin": true,
           "gridcolor": "white",
           "linecolor": "white",
           "ticks": "",
           "title": {
            "standoff": 15
           },
           "zerolinecolor": "white",
           "zerolinewidth": 2
          }
         }
        },
        "title": {
         "text": "f1",
         "x": 0.5
        },
        "yaxis": {
         "tickmode": "array",
         "tickvals": [
          "0.75",
          0.3,
          0.8
         ]
        }
       }
      }
     },
     "metadata": {},
     "output_type": "display_data"
    }
   ],
   "source": [
    "genVisMulitlabel(partEvalMetrics, \"f1\")"
   ]
  },
  {
   "cell_type": "code",
   "execution_count": 31,
   "metadata": {},
   "outputs": [
    {
     "data": {
      "application/vnd.plotly.v1+json": {
       "config": {
        "plotlyServerURL": "https://plot.ly"
       },
       "data": [
        {
         "text": [
          0.2763,
          0.1061,
          0.0707,
          0.3409,
          0.1594,
          0.1311,
          0.0348,
          0.1273,
          0.2831,
          0.1076,
          0.0983,
          0.0711,
          0.0315,
          0.1024,
          0.4222,
          0.6103,
          0.4876,
          0.2218,
          0.1988,
          0.4881,
          0.1546,
          0.2728,
          0.4976,
          0.2493
         ],
         "type": "bar",
         "x": [
          "vision_bumper_rear",
          "vision_door_front_rh",
          "vision_door_rear_rh",
          "vision_misc",
          "vision_rear_compartment",
          "vision_rear_panel",
          "vision_rear_quarter_rh",
          "vision_tail_lamp_rh",
          "vision_non_external",
          "vision_wheel",
          "vision_door_front_lh",
          "vision_door_rear_lh",
          "vision_rear_quarter_lh",
          "vision_tail_lamp_lh",
          "vision_bonnet",
          "vision_bumper_front",
          "vision_engine",
          "vision_fender_front_lh",
          "vision_front_panel",
          "vision_headlamp_lh",
          "vision_windscreen_front",
          "vision_grille",
          "vision_headlamp_rh",
          "vision_fender_front_rh"
         ],
         "y": [
          0.2763,
          0.1061,
          0.0707,
          0.3409,
          0.1594,
          0.1311,
          0.0348,
          0.1273,
          0.2831,
          0.1076,
          0.0983,
          0.0711,
          0.0315,
          0.1024,
          0.4222,
          0.6103,
          0.4876,
          0.2218,
          0.1988,
          0.4881,
          0.1546,
          0.2728,
          0.4976,
          0.2493
         ]
        }
       ],
       "layout": {
        "shapes": [
         {
          "line": {
           "color": "red",
           "width": 2
          },
          "type": "line",
          "x0": 0,
          "x1": 1,
          "xref": "x domain",
          "y0": 0.23098749999999998,
          "y1": 0.23098749999999998,
          "yref": "y"
         }
        ],
        "template": {
         "data": {
          "bar": [
           {
            "error_x": {
             "color": "#2a3f5f"
            },
            "error_y": {
             "color": "#2a3f5f"
            },
            "marker": {
             "line": {
              "color": "#E5ECF6",
              "width": 0.5
             },
             "pattern": {
              "fillmode": "overlay",
              "size": 10,
              "solidity": 0.2
             }
            },
            "type": "bar"
           }
          ],
          "barpolar": [
           {
            "marker": {
             "line": {
              "color": "#E5ECF6",
              "width": 0.5
             },
             "pattern": {
              "fillmode": "overlay",
              "size": 10,
              "solidity": 0.2
             }
            },
            "type": "barpolar"
           }
          ],
          "carpet": [
           {
            "aaxis": {
             "endlinecolor": "#2a3f5f",
             "gridcolor": "white",
             "linecolor": "white",
             "minorgridcolor": "white",
             "startlinecolor": "#2a3f5f"
            },
            "baxis": {
             "endlinecolor": "#2a3f5f",
             "gridcolor": "white",
             "linecolor": "white",
             "minorgridcolor": "white",
             "startlinecolor": "#2a3f5f"
            },
            "type": "carpet"
           }
          ],
          "choropleth": [
           {
            "colorbar": {
             "outlinewidth": 0,
             "ticks": ""
            },
            "type": "choropleth"
           }
          ],
          "contour": [
           {
            "colorbar": {
             "outlinewidth": 0,
             "ticks": ""
            },
            "colorscale": [
             [
              0,
              "#0d0887"
             ],
             [
              0.1111111111111111,
              "#46039f"
             ],
             [
              0.2222222222222222,
              "#7201a8"
             ],
             [
              0.3333333333333333,
              "#9c179e"
             ],
             [
              0.4444444444444444,
              "#bd3786"
             ],
             [
              0.5555555555555556,
              "#d8576b"
             ],
             [
              0.6666666666666666,
              "#ed7953"
             ],
             [
              0.7777777777777778,
              "#fb9f3a"
             ],
             [
              0.8888888888888888,
              "#fdca26"
             ],
             [
              1,
              "#f0f921"
             ]
            ],
            "type": "contour"
           }
          ],
          "contourcarpet": [
           {
            "colorbar": {
             "outlinewidth": 0,
             "ticks": ""
            },
            "type": "contourcarpet"
           }
          ],
          "heatmap": [
           {
            "colorbar": {
             "outlinewidth": 0,
             "ticks": ""
            },
            "colorscale": [
             [
              0,
              "#0d0887"
             ],
             [
              0.1111111111111111,
              "#46039f"
             ],
             [
              0.2222222222222222,
              "#7201a8"
             ],
             [
              0.3333333333333333,
              "#9c179e"
             ],
             [
              0.4444444444444444,
              "#bd3786"
             ],
             [
              0.5555555555555556,
              "#d8576b"
             ],
             [
              0.6666666666666666,
              "#ed7953"
             ],
             [
              0.7777777777777778,
              "#fb9f3a"
             ],
             [
              0.8888888888888888,
              "#fdca26"
             ],
             [
              1,
              "#f0f921"
             ]
            ],
            "type": "heatmap"
           }
          ],
          "heatmapgl": [
           {
            "colorbar": {
             "outlinewidth": 0,
             "ticks": ""
            },
            "colorscale": [
             [
              0,
              "#0d0887"
             ],
             [
              0.1111111111111111,
              "#46039f"
             ],
             [
              0.2222222222222222,
              "#7201a8"
             ],
             [
              0.3333333333333333,
              "#9c179e"
             ],
             [
              0.4444444444444444,
              "#bd3786"
             ],
             [
              0.5555555555555556,
              "#d8576b"
             ],
             [
              0.6666666666666666,
              "#ed7953"
             ],
             [
              0.7777777777777778,
              "#fb9f3a"
             ],
             [
              0.8888888888888888,
              "#fdca26"
             ],
             [
              1,
              "#f0f921"
             ]
            ],
            "type": "heatmapgl"
           }
          ],
          "histogram": [
           {
            "marker": {
             "pattern": {
              "fillmode": "overlay",
              "size": 10,
              "solidity": 0.2
             }
            },
            "type": "histogram"
           }
          ],
          "histogram2d": [
           {
            "colorbar": {
             "outlinewidth": 0,
             "ticks": ""
            },
            "colorscale": [
             [
              0,
              "#0d0887"
             ],
             [
              0.1111111111111111,
              "#46039f"
             ],
             [
              0.2222222222222222,
              "#7201a8"
             ],
             [
              0.3333333333333333,
              "#9c179e"
             ],
             [
              0.4444444444444444,
              "#bd3786"
             ],
             [
              0.5555555555555556,
              "#d8576b"
             ],
             [
              0.6666666666666666,
              "#ed7953"
             ],
             [
              0.7777777777777778,
              "#fb9f3a"
             ],
             [
              0.8888888888888888,
              "#fdca26"
             ],
             [
              1,
              "#f0f921"
             ]
            ],
            "type": "histogram2d"
           }
          ],
          "histogram2dcontour": [
           {
            "colorbar": {
             "outlinewidth": 0,
             "ticks": ""
            },
            "colorscale": [
             [
              0,
              "#0d0887"
             ],
             [
              0.1111111111111111,
              "#46039f"
             ],
             [
              0.2222222222222222,
              "#7201a8"
             ],
             [
              0.3333333333333333,
              "#9c179e"
             ],
             [
              0.4444444444444444,
              "#bd3786"
             ],
             [
              0.5555555555555556,
              "#d8576b"
             ],
             [
              0.6666666666666666,
              "#ed7953"
             ],
             [
              0.7777777777777778,
              "#fb9f3a"
             ],
             [
              0.8888888888888888,
              "#fdca26"
             ],
             [
              1,
              "#f0f921"
             ]
            ],
            "type": "histogram2dcontour"
           }
          ],
          "mesh3d": [
           {
            "colorbar": {
             "outlinewidth": 0,
             "ticks": ""
            },
            "type": "mesh3d"
           }
          ],
          "parcoords": [
           {
            "line": {
             "colorbar": {
              "outlinewidth": 0,
              "ticks": ""
             }
            },
            "type": "parcoords"
           }
          ],
          "pie": [
           {
            "automargin": true,
            "type": "pie"
           }
          ],
          "scatter": [
           {
            "fillpattern": {
             "fillmode": "overlay",
             "size": 10,
             "solidity": 0.2
            },
            "type": "scatter"
           }
          ],
          "scatter3d": [
           {
            "line": {
             "colorbar": {
              "outlinewidth": 0,
              "ticks": ""
             }
            },
            "marker": {
             "colorbar": {
              "outlinewidth": 0,
              "ticks": ""
             }
            },
            "type": "scatter3d"
           }
          ],
          "scattercarpet": [
           {
            "marker": {
             "colorbar": {
              "outlinewidth": 0,
              "ticks": ""
             }
            },
            "type": "scattercarpet"
           }
          ],
          "scattergeo": [
           {
            "marker": {
             "colorbar": {
              "outlinewidth": 0,
              "ticks": ""
             }
            },
            "type": "scattergeo"
           }
          ],
          "scattergl": [
           {
            "marker": {
             "colorbar": {
              "outlinewidth": 0,
              "ticks": ""
             }
            },
            "type": "scattergl"
           }
          ],
          "scattermapbox": [
           {
            "marker": {
             "colorbar": {
              "outlinewidth": 0,
              "ticks": ""
             }
            },
            "type": "scattermapbox"
           }
          ],
          "scatterpolar": [
           {
            "marker": {
             "colorbar": {
              "outlinewidth": 0,
              "ticks": ""
             }
            },
            "type": "scatterpolar"
           }
          ],
          "scatterpolargl": [
           {
            "marker": {
             "colorbar": {
              "outlinewidth": 0,
              "ticks": ""
             }
            },
            "type": "scatterpolargl"
           }
          ],
          "scatterternary": [
           {
            "marker": {
             "colorbar": {
              "outlinewidth": 0,
              "ticks": ""
             }
            },
            "type": "scatterternary"
           }
          ],
          "surface": [
           {
            "colorbar": {
             "outlinewidth": 0,
             "ticks": ""
            },
            "colorscale": [
             [
              0,
              "#0d0887"
             ],
             [
              0.1111111111111111,
              "#46039f"
             ],
             [
              0.2222222222222222,
              "#7201a8"
             ],
             [
              0.3333333333333333,
              "#9c179e"
             ],
             [
              0.4444444444444444,
              "#bd3786"
             ],
             [
              0.5555555555555556,
              "#d8576b"
             ],
             [
              0.6666666666666666,
              "#ed7953"
             ],
             [
              0.7777777777777778,
              "#fb9f3a"
             ],
             [
              0.8888888888888888,
              "#fdca26"
             ],
             [
              1,
              "#f0f921"
             ]
            ],
            "type": "surface"
           }
          ],
          "table": [
           {
            "cells": {
             "fill": {
              "color": "#EBF0F8"
             },
             "line": {
              "color": "white"
             }
            },
            "header": {
             "fill": {
              "color": "#C8D4E3"
             },
             "line": {
              "color": "white"
             }
            },
            "type": "table"
           }
          ]
         },
         "layout": {
          "annotationdefaults": {
           "arrowcolor": "#2a3f5f",
           "arrowhead": 0,
           "arrowwidth": 1
          },
          "autotypenumbers": "strict",
          "coloraxis": {
           "colorbar": {
            "outlinewidth": 0,
            "ticks": ""
           }
          },
          "colorscale": {
           "diverging": [
            [
             0,
             "#8e0152"
            ],
            [
             0.1,
             "#c51b7d"
            ],
            [
             0.2,
             "#de77ae"
            ],
            [
             0.3,
             "#f1b6da"
            ],
            [
             0.4,
             "#fde0ef"
            ],
            [
             0.5,
             "#f7f7f7"
            ],
            [
             0.6,
             "#e6f5d0"
            ],
            [
             0.7,
             "#b8e186"
            ],
            [
             0.8,
             "#7fbc41"
            ],
            [
             0.9,
             "#4d9221"
            ],
            [
             1,
             "#276419"
            ]
           ],
           "sequential": [
            [
             0,
             "#0d0887"
            ],
            [
             0.1111111111111111,
             "#46039f"
            ],
            [
             0.2222222222222222,
             "#7201a8"
            ],
            [
             0.3333333333333333,
             "#9c179e"
            ],
            [
             0.4444444444444444,
             "#bd3786"
            ],
            [
             0.5555555555555556,
             "#d8576b"
            ],
            [
             0.6666666666666666,
             "#ed7953"
            ],
            [
             0.7777777777777778,
             "#fb9f3a"
            ],
            [
             0.8888888888888888,
             "#fdca26"
            ],
            [
             1,
             "#f0f921"
            ]
           ],
           "sequentialminus": [
            [
             0,
             "#0d0887"
            ],
            [
             0.1111111111111111,
             "#46039f"
            ],
            [
             0.2222222222222222,
             "#7201a8"
            ],
            [
             0.3333333333333333,
             "#9c179e"
            ],
            [
             0.4444444444444444,
             "#bd3786"
            ],
            [
             0.5555555555555556,
             "#d8576b"
            ],
            [
             0.6666666666666666,
             "#ed7953"
            ],
            [
             0.7777777777777778,
             "#fb9f3a"
            ],
            [
             0.8888888888888888,
             "#fdca26"
            ],
            [
             1,
             "#f0f921"
            ]
           ]
          },
          "colorway": [
           "#636efa",
           "#EF553B",
           "#00cc96",
           "#ab63fa",
           "#FFA15A",
           "#19d3f3",
           "#FF6692",
           "#B6E880",
           "#FF97FF",
           "#FECB52"
          ],
          "font": {
           "color": "#2a3f5f"
          },
          "geo": {
           "bgcolor": "white",
           "lakecolor": "white",
           "landcolor": "#E5ECF6",
           "showlakes": true,
           "showland": true,
           "subunitcolor": "white"
          },
          "hoverlabel": {
           "align": "left"
          },
          "hovermode": "closest",
          "mapbox": {
           "style": "light"
          },
          "paper_bgcolor": "white",
          "plot_bgcolor": "#E5ECF6",
          "polar": {
           "angularaxis": {
            "gridcolor": "white",
            "linecolor": "white",
            "ticks": ""
           },
           "bgcolor": "#E5ECF6",
           "radialaxis": {
            "gridcolor": "white",
            "linecolor": "white",
            "ticks": ""
           }
          },
          "scene": {
           "xaxis": {
            "backgroundcolor": "#E5ECF6",
            "gridcolor": "white",
            "gridwidth": 2,
            "linecolor": "white",
            "showbackground": true,
            "ticks": "",
            "zerolinecolor": "white"
           },
           "yaxis": {
            "backgroundcolor": "#E5ECF6",
            "gridcolor": "white",
            "gridwidth": 2,
            "linecolor": "white",
            "showbackground": true,
            "ticks": "",
            "zerolinecolor": "white"
           },
           "zaxis": {
            "backgroundcolor": "#E5ECF6",
            "gridcolor": "white",
            "gridwidth": 2,
            "linecolor": "white",
            "showbackground": true,
            "ticks": "",
            "zerolinecolor": "white"
           }
          },
          "shapedefaults": {
           "line": {
            "color": "#2a3f5f"
           }
          },
          "ternary": {
           "aaxis": {
            "gridcolor": "white",
            "linecolor": "white",
            "ticks": ""
           },
           "baxis": {
            "gridcolor": "white",
            "linecolor": "white",
            "ticks": ""
           },
           "bgcolor": "#E5ECF6",
           "caxis": {
            "gridcolor": "white",
            "linecolor": "white",
            "ticks": ""
           }
          },
          "title": {
           "x": 0.05
          },
          "xaxis": {
           "automargin": true,
           "gridcolor": "white",
           "linecolor": "white",
           "ticks": "",
           "title": {
            "standoff": 15
           },
           "zerolinecolor": "white",
           "zerolinewidth": 2
          },
          "yaxis": {
           "automargin": true,
           "gridcolor": "white",
           "linecolor": "white",
           "ticks": "",
           "title": {
            "standoff": 15
           },
           "zerolinecolor": "white",
           "zerolinewidth": 2
          }
         }
        },
        "title": {
         "text": "gt_pos_ratio",
         "x": 0.5
        },
        "yaxis": {
         "tickmode": "array",
         "tickvals": [
          "0.23",
          0.3,
          0.8
         ]
        }
       }
      }
     },
     "metadata": {},
     "output_type": "display_data"
    }
   ],
   "source": [
    "genVisMulitlabel(partEvalMetrics, \"gt_pos_ratio\")"
   ]
  },
  {
   "cell_type": "code",
   "execution_count": 32,
   "metadata": {},
   "outputs": [
    {
     "data": {
      "application/vnd.plotly.v1+json": {
       "config": {
        "plotlyServerURL": "https://plot.ly"
       },
       "data": [
        {
         "text": [
          0.3185,
          0.1301,
          0.1515,
          0.6441,
          0.2024,
          0.18,
          0.0624,
          0.164,
          0.418,
          0.2607,
          0.116,
          0.0991,
          0.0329,
          0.1753,
          0.4704,
          0.7587,
          0.5955,
          0.2604,
          0.2991,
          0.6242,
          0.2141,
          0.1813,
          0.5991,
          0.2528
         ],
         "type": "bar",
         "x": [
          "vision_bumper_rear",
          "vision_door_front_rh",
          "vision_door_rear_rh",
          "vision_misc",
          "vision_rear_compartment",
          "vision_rear_panel",
          "vision_rear_quarter_rh",
          "vision_tail_lamp_rh",
          "vision_non_external",
          "vision_wheel",
          "vision_door_front_lh",
          "vision_door_rear_lh",
          "vision_rear_quarter_lh",
          "vision_tail_lamp_lh",
          "vision_bonnet",
          "vision_bumper_front",
          "vision_engine",
          "vision_fender_front_lh",
          "vision_front_panel",
          "vision_headlamp_lh",
          "vision_windscreen_front",
          "vision_grille",
          "vision_headlamp_rh",
          "vision_fender_front_rh"
         ],
         "y": [
          0.3185,
          0.1301,
          0.1515,
          0.6441,
          0.2024,
          0.18,
          0.0624,
          0.164,
          0.418,
          0.2607,
          0.116,
          0.0991,
          0.0329,
          0.1753,
          0.4704,
          0.7587,
          0.5955,
          0.2604,
          0.2991,
          0.6242,
          0.2141,
          0.1813,
          0.5991,
          0.2528
         ]
        }
       ],
       "layout": {
        "shapes": [
         {
          "line": {
           "color": "red",
           "width": 2
          },
          "type": "line",
          "x0": 0,
          "x1": 1,
          "xref": "x domain",
          "y0": 0.30044166666666666,
          "y1": 0.30044166666666666,
          "yref": "y"
         }
        ],
        "template": {
         "data": {
          "bar": [
           {
            "error_x": {
             "color": "#2a3f5f"
            },
            "error_y": {
             "color": "#2a3f5f"
            },
            "marker": {
             "line": {
              "color": "#E5ECF6",
              "width": 0.5
             },
             "pattern": {
              "fillmode": "overlay",
              "size": 10,
              "solidity": 0.2
             }
            },
            "type": "bar"
           }
          ],
          "barpolar": [
           {
            "marker": {
             "line": {
              "color": "#E5ECF6",
              "width": 0.5
             },
             "pattern": {
              "fillmode": "overlay",
              "size": 10,
              "solidity": 0.2
             }
            },
            "type": "barpolar"
           }
          ],
          "carpet": [
           {
            "aaxis": {
             "endlinecolor": "#2a3f5f",
             "gridcolor": "white",
             "linecolor": "white",
             "minorgridcolor": "white",
             "startlinecolor": "#2a3f5f"
            },
            "baxis": {
             "endlinecolor": "#2a3f5f",
             "gridcolor": "white",
             "linecolor": "white",
             "minorgridcolor": "white",
             "startlinecolor": "#2a3f5f"
            },
            "type": "carpet"
           }
          ],
          "choropleth": [
           {
            "colorbar": {
             "outlinewidth": 0,
             "ticks": ""
            },
            "type": "choropleth"
           }
          ],
          "contour": [
           {
            "colorbar": {
             "outlinewidth": 0,
             "ticks": ""
            },
            "colorscale": [
             [
              0,
              "#0d0887"
             ],
             [
              0.1111111111111111,
              "#46039f"
             ],
             [
              0.2222222222222222,
              "#7201a8"
             ],
             [
              0.3333333333333333,
              "#9c179e"
             ],
             [
              0.4444444444444444,
              "#bd3786"
             ],
             [
              0.5555555555555556,
              "#d8576b"
             ],
             [
              0.6666666666666666,
              "#ed7953"
             ],
             [
              0.7777777777777778,
              "#fb9f3a"
             ],
             [
              0.8888888888888888,
              "#fdca26"
             ],
             [
              1,
              "#f0f921"
             ]
            ],
            "type": "contour"
           }
          ],
          "contourcarpet": [
           {
            "colorbar": {
             "outlinewidth": 0,
             "ticks": ""
            },
            "type": "contourcarpet"
           }
          ],
          "heatmap": [
           {
            "colorbar": {
             "outlinewidth": 0,
             "ticks": ""
            },
            "colorscale": [
             [
              0,
              "#0d0887"
             ],
             [
              0.1111111111111111,
              "#46039f"
             ],
             [
              0.2222222222222222,
              "#7201a8"
             ],
             [
              0.3333333333333333,
              "#9c179e"
             ],
             [
              0.4444444444444444,
              "#bd3786"
             ],
             [
              0.5555555555555556,
              "#d8576b"
             ],
             [
              0.6666666666666666,
              "#ed7953"
             ],
             [
              0.7777777777777778,
              "#fb9f3a"
             ],
             [
              0.8888888888888888,
              "#fdca26"
             ],
             [
              1,
              "#f0f921"
             ]
            ],
            "type": "heatmap"
           }
          ],
          "heatmapgl": [
           {
            "colorbar": {
             "outlinewidth": 0,
             "ticks": ""
            },
            "colorscale": [
             [
              0,
              "#0d0887"
             ],
             [
              0.1111111111111111,
              "#46039f"
             ],
             [
              0.2222222222222222,
              "#7201a8"
             ],
             [
              0.3333333333333333,
              "#9c179e"
             ],
             [
              0.4444444444444444,
              "#bd3786"
             ],
             [
              0.5555555555555556,
              "#d8576b"
             ],
             [
              0.6666666666666666,
              "#ed7953"
             ],
             [
              0.7777777777777778,
              "#fb9f3a"
             ],
             [
              0.8888888888888888,
              "#fdca26"
             ],
             [
              1,
              "#f0f921"
             ]
            ],
            "type": "heatmapgl"
           }
          ],
          "histogram": [
           {
            "marker": {
             "pattern": {
              "fillmode": "overlay",
              "size": 10,
              "solidity": 0.2
             }
            },
            "type": "histogram"
           }
          ],
          "histogram2d": [
           {
            "colorbar": {
             "outlinewidth": 0,
             "ticks": ""
            },
            "colorscale": [
             [
              0,
              "#0d0887"
             ],
             [
              0.1111111111111111,
              "#46039f"
             ],
             [
              0.2222222222222222,
              "#7201a8"
             ],
             [
              0.3333333333333333,
              "#9c179e"
             ],
             [
              0.4444444444444444,
              "#bd3786"
             ],
             [
              0.5555555555555556,
              "#d8576b"
             ],
             [
              0.6666666666666666,
              "#ed7953"
             ],
             [
              0.7777777777777778,
              "#fb9f3a"
             ],
             [
              0.8888888888888888,
              "#fdca26"
             ],
             [
              1,
              "#f0f921"
             ]
            ],
            "type": "histogram2d"
           }
          ],
          "histogram2dcontour": [
           {
            "colorbar": {
             "outlinewidth": 0,
             "ticks": ""
            },
            "colorscale": [
             [
              0,
              "#0d0887"
             ],
             [
              0.1111111111111111,
              "#46039f"
             ],
             [
              0.2222222222222222,
              "#7201a8"
             ],
             [
              0.3333333333333333,
              "#9c179e"
             ],
             [
              0.4444444444444444,
              "#bd3786"
             ],
             [
              0.5555555555555556,
              "#d8576b"
             ],
             [
              0.6666666666666666,
              "#ed7953"
             ],
             [
              0.7777777777777778,
              "#fb9f3a"
             ],
             [
              0.8888888888888888,
              "#fdca26"
             ],
             [
              1,
              "#f0f921"
             ]
            ],
            "type": "histogram2dcontour"
           }
          ],
          "mesh3d": [
           {
            "colorbar": {
             "outlinewidth": 0,
             "ticks": ""
            },
            "type": "mesh3d"
           }
          ],
          "parcoords": [
           {
            "line": {
             "colorbar": {
              "outlinewidth": 0,
              "ticks": ""
             }
            },
            "type": "parcoords"
           }
          ],
          "pie": [
           {
            "automargin": true,
            "type": "pie"
           }
          ],
          "scatter": [
           {
            "fillpattern": {
             "fillmode": "overlay",
             "size": 10,
             "solidity": 0.2
            },
            "type": "scatter"
           }
          ],
          "scatter3d": [
           {
            "line": {
             "colorbar": {
              "outlinewidth": 0,
              "ticks": ""
             }
            },
            "marker": {
             "colorbar": {
              "outlinewidth": 0,
              "ticks": ""
             }
            },
            "type": "scatter3d"
           }
          ],
          "scattercarpet": [
           {
            "marker": {
             "colorbar": {
              "outlinewidth": 0,
              "ticks": ""
             }
            },
            "type": "scattercarpet"
           }
          ],
          "scattergeo": [
           {
            "marker": {
             "colorbar": {
              "outlinewidth": 0,
              "ticks": ""
             }
            },
            "type": "scattergeo"
           }
          ],
          "scattergl": [
           {
            "marker": {
             "colorbar": {
              "outlinewidth": 0,
              "ticks": ""
             }
            },
            "type": "scattergl"
           }
          ],
          "scattermapbox": [
           {
            "marker": {
             "colorbar": {
              "outlinewidth": 0,
              "ticks": ""
             }
            },
            "type": "scattermapbox"
           }
          ],
          "scatterpolar": [
           {
            "marker": {
             "colorbar": {
              "outlinewidth": 0,
              "ticks": ""
             }
            },
            "type": "scatterpolar"
           }
          ],
          "scatterpolargl": [
           {
            "marker": {
             "colorbar": {
              "outlinewidth": 0,
              "ticks": ""
             }
            },
            "type": "scatterpolargl"
           }
          ],
          "scatterternary": [
           {
            "marker": {
             "colorbar": {
              "outlinewidth": 0,
              "ticks": ""
             }
            },
            "type": "scatterternary"
           }
          ],
          "surface": [
           {
            "colorbar": {
             "outlinewidth": 0,
             "ticks": ""
            },
            "colorscale": [
             [
              0,
              "#0d0887"
             ],
             [
              0.1111111111111111,
              "#46039f"
             ],
             [
              0.2222222222222222,
              "#7201a8"
             ],
             [
              0.3333333333333333,
              "#9c179e"
             ],
             [
              0.4444444444444444,
              "#bd3786"
             ],
             [
              0.5555555555555556,
              "#d8576b"
             ],
             [
              0.6666666666666666,
              "#ed7953"
             ],
             [
              0.7777777777777778,
              "#fb9f3a"
             ],
             [
              0.8888888888888888,
              "#fdca26"
             ],
             [
              1,
              "#f0f921"
             ]
            ],
            "type": "surface"
           }
          ],
          "table": [
           {
            "cells": {
             "fill": {
              "color": "#EBF0F8"
             },
             "line": {
              "color": "white"
             }
            },
            "header": {
             "fill": {
              "color": "#C8D4E3"
             },
             "line": {
              "color": "white"
             }
            },
            "type": "table"
           }
          ]
         },
         "layout": {
          "annotationdefaults": {
           "arrowcolor": "#2a3f5f",
           "arrowhead": 0,
           "arrowwidth": 1
          },
          "autotypenumbers": "strict",
          "coloraxis": {
           "colorbar": {
            "outlinewidth": 0,
            "ticks": ""
           }
          },
          "colorscale": {
           "diverging": [
            [
             0,
             "#8e0152"
            ],
            [
             0.1,
             "#c51b7d"
            ],
            [
             0.2,
             "#de77ae"
            ],
            [
             0.3,
             "#f1b6da"
            ],
            [
             0.4,
             "#fde0ef"
            ],
            [
             0.5,
             "#f7f7f7"
            ],
            [
             0.6,
             "#e6f5d0"
            ],
            [
             0.7,
             "#b8e186"
            ],
            [
             0.8,
             "#7fbc41"
            ],
            [
             0.9,
             "#4d9221"
            ],
            [
             1,
             "#276419"
            ]
           ],
           "sequential": [
            [
             0,
             "#0d0887"
            ],
            [
             0.1111111111111111,
             "#46039f"
            ],
            [
             0.2222222222222222,
             "#7201a8"
            ],
            [
             0.3333333333333333,
             "#9c179e"
            ],
            [
             0.4444444444444444,
             "#bd3786"
            ],
            [
             0.5555555555555556,
             "#d8576b"
            ],
            [
             0.6666666666666666,
             "#ed7953"
            ],
            [
             0.7777777777777778,
             "#fb9f3a"
            ],
            [
             0.8888888888888888,
             "#fdca26"
            ],
            [
             1,
             "#f0f921"
            ]
           ],
           "sequentialminus": [
            [
             0,
             "#0d0887"
            ],
            [
             0.1111111111111111,
             "#46039f"
            ],
            [
             0.2222222222222222,
             "#7201a8"
            ],
            [
             0.3333333333333333,
             "#9c179e"
            ],
            [
             0.4444444444444444,
             "#bd3786"
            ],
            [
             0.5555555555555556,
             "#d8576b"
            ],
            [
             0.6666666666666666,
             "#ed7953"
            ],
            [
             0.7777777777777778,
             "#fb9f3a"
            ],
            [
             0.8888888888888888,
             "#fdca26"
            ],
            [
             1,
             "#f0f921"
            ]
           ]
          },
          "colorway": [
           "#636efa",
           "#EF553B",
           "#00cc96",
           "#ab63fa",
           "#FFA15A",
           "#19d3f3",
           "#FF6692",
           "#B6E880",
           "#FF97FF",
           "#FECB52"
          ],
          "font": {
           "color": "#2a3f5f"
          },
          "geo": {
           "bgcolor": "white",
           "lakecolor": "white",
           "landcolor": "#E5ECF6",
           "showlakes": true,
           "showland": true,
           "subunitcolor": "white"
          },
          "hoverlabel": {
           "align": "left"
          },
          "hovermode": "closest",
          "mapbox": {
           "style": "light"
          },
          "paper_bgcolor": "white",
          "plot_bgcolor": "#E5ECF6",
          "polar": {
           "angularaxis": {
            "gridcolor": "white",
            "linecolor": "white",
            "ticks": ""
           },
           "bgcolor": "#E5ECF6",
           "radialaxis": {
            "gridcolor": "white",
            "linecolor": "white",
            "ticks": ""
           }
          },
          "scene": {
           "xaxis": {
            "backgroundcolor": "#E5ECF6",
            "gridcolor": "white",
            "gridwidth": 2,
            "linecolor": "white",
            "showbackground": true,
            "ticks": "",
            "zerolinecolor": "white"
           },
           "yaxis": {
            "backgroundcolor": "#E5ECF6",
            "gridcolor": "white",
            "gridwidth": 2,
            "linecolor": "white",
            "showbackground": true,
            "ticks": "",
            "zerolinecolor": "white"
           },
           "zaxis": {
            "backgroundcolor": "#E5ECF6",
            "gridcolor": "white",
            "gridwidth": 2,
            "linecolor": "white",
            "showbackground": true,
            "ticks": "",
            "zerolinecolor": "white"
           }
          },
          "shapedefaults": {
           "line": {
            "color": "#2a3f5f"
           }
          },
          "ternary": {
           "aaxis": {
            "gridcolor": "white",
            "linecolor": "white",
            "ticks": ""
           },
           "baxis": {
            "gridcolor": "white",
            "linecolor": "white",
            "ticks": ""
           },
           "bgcolor": "#E5ECF6",
           "caxis": {
            "gridcolor": "white",
            "linecolor": "white",
            "ticks": ""
           }
          },
          "title": {
           "x": 0.05
          },
          "xaxis": {
           "automargin": true,
           "gridcolor": "white",
           "linecolor": "white",
           "ticks": "",
           "title": {
            "standoff": 15
           },
           "zerolinecolor": "white",
           "zerolinewidth": 2
          },
          "yaxis": {
           "automargin": true,
           "gridcolor": "white",
           "linecolor": "white",
           "ticks": "",
           "title": {
            "standoff": 15
           },
           "zerolinecolor": "white",
           "zerolinewidth": 2
          }
         }
        },
        "title": {
         "text": "pred_pos_ratio",
         "x": 0.5
        },
        "yaxis": {
         "tickmode": "array",
         "tickvals": [
          "0.30",
          0.3,
          0.8
         ]
        }
       }
      }
     },
     "metadata": {},
     "output_type": "display_data"
    }
   ],
   "source": [
    "genVisMulitlabel(partEvalMetrics, \"pred_pos_ratio\")"
   ]
  },
  {
   "cell_type": "code",
   "execution_count": 33,
   "metadata": {},
   "outputs": [
    {
     "data": {
      "application/vnd.plotly.v1+json": {
       "config": {
        "plotlyServerURL": "https://plot.ly"
       },
       "data": [
        {
         "alignmentgroup": "True",
         "bingroup": "x",
         "hovertemplate": "subset_acc=%{x}<br>count=%{y}<extra></extra>",
         "legendgroup": "",
         "marker": {
          "color": "#636efa",
          "pattern": {
           "shape": ""
          }
         },
         "name": "",
         "offsetgroup": "",
         "orientation": "v",
         "showlegend": false,
         "type": "histogram",
         "x": [
          0.8333333333333334,
          0.9166666666666666,
          0.75,
          0.7916666666666666,
          0.75,
          0.7083333333333334,
          0.6666666666666666,
          0.8333333333333334,
          0.9166666666666666,
          0.875,
          0.8333333333333334,
          0.9166666666666666,
          0.9166666666666666,
          0.875,
          0.6666666666666666,
          0.7916666666666666,
          0.7083333333333334,
          0.8333333333333334,
          0.875,
          0.75,
          0.625,
          0.9166666666666666,
          0.9583333333333334,
          0.9166666666666666,
          0.875,
          0.9166666666666666,
          0.9166666666666666,
          0.75,
          0.8333333333333334,
          0.9166666666666666,
          0.9166666666666666,
          0.7916666666666666,
          0.8333333333333334,
          0.8333333333333334,
          1,
          0.9583333333333334,
          0.875,
          0.875,
          0.875,
          0.9583333333333334,
          0.9583333333333334,
          1,
          0.9166666666666666,
          0.9166666666666666,
          0.875,
          0.8333333333333334,
          0.8333333333333334,
          0.9583333333333334,
          0.6666666666666666,
          0.625,
          0.875,
          0.7916666666666666,
          0.6666666666666666,
          0.9166666666666666,
          0.8333333333333334,
          0.9166666666666666,
          0.9166666666666666,
          0.875,
          0.875,
          0.8333333333333334,
          0.8333333333333334,
          0.8333333333333334,
          0.875,
          1,
          0.7916666666666666,
          0.7916666666666666,
          0.9166666666666666,
          0.9583333333333334,
          0.8333333333333334,
          0.9166666666666666,
          0.875,
          0.5416666666666666,
          0.875,
          0.875,
          0.75,
          0.875,
          0.9166666666666666,
          0.75,
          0.875,
          0.8333333333333334,
          0.7916666666666666,
          0.8333333333333334,
          0.7916666666666666,
          0.7916666666666666,
          0.875,
          0.7916666666666666,
          0.875,
          0.8333333333333334,
          0.7916666666666666,
          0.8333333333333334,
          0.9583333333333334,
          0.8333333333333334,
          0.9166666666666666,
          0.8333333333333334,
          0.9583333333333334,
          0.9166666666666666,
          0.8333333333333334,
          0.9166666666666666,
          0.7916666666666666,
          0.7083333333333334,
          0.9583333333333334,
          0.875,
          0.875,
          0.9166666666666666,
          0.7083333333333334,
          0.9166666666666666,
          0.875,
          0.9583333333333334,
          0.75,
          0.6666666666666666,
          0.9166666666666666,
          0.9583333333333334,
          0.7916666666666666,
          0.8333333333333334,
          0.75,
          0.8333333333333334,
          0.75,
          0.8333333333333334,
          0.875,
          0.875,
          0.875,
          0.75,
          0.7916666666666666,
          0.8333333333333334,
          0.9583333333333334,
          0.9166666666666666,
          0.7083333333333334,
          0.8333333333333334,
          0.8333333333333334,
          0.8333333333333334,
          0.9166666666666666,
          0.5416666666666666,
          0.7916666666666666,
          0.7083333333333334,
          0.9583333333333334,
          0.9166666666666666,
          0.9583333333333334,
          0.7916666666666666,
          0.7916666666666666,
          0.75,
          0.75,
          0.7916666666666666,
          0.75,
          0.7083333333333334,
          0.875,
          0.8333333333333334,
          0.9166666666666666,
          0.75,
          0.875,
          0.875,
          0.7083333333333334,
          0.7916666666666666,
          0.9166666666666666,
          0.875,
          0.9166666666666666,
          0.875,
          0.875,
          0.9166666666666666,
          0.7083333333333334,
          0.9583333333333334,
          0.9166666666666666,
          0.8333333333333334,
          0.8333333333333334,
          0.8333333333333334,
          0.7083333333333334,
          0.875,
          0.6666666666666666,
          0.9166666666666666,
          0.7916666666666666,
          0.9166666666666666,
          0.75,
          0.7916666666666666,
          0.875,
          0.8333333333333334,
          0.9166666666666666,
          0.8333333333333334,
          0.7916666666666666,
          0.8333333333333334,
          0.9166666666666666,
          0.875,
          0.7916666666666666,
          0.9166666666666666,
          0.875,
          0.8333333333333334,
          0.9583333333333334,
          0.75,
          0.8333333333333334,
          0.75,
          0.9166666666666666,
          0.875,
          0.9166666666666666,
          0.9166666666666666,
          0.7916666666666666,
          0.875,
          0.9583333333333334,
          0.8333333333333334,
          0.875,
          0.9166666666666666,
          0.9583333333333334,
          0.75,
          0.75,
          0.875,
          0.9583333333333334,
          0.7083333333333334,
          0.875,
          0.8333333333333334,
          0.8333333333333334,
          0.9166666666666666,
          0.7916666666666666,
          0.8333333333333334,
          0.9166666666666666,
          0.7083333333333334,
          0.9166666666666666,
          0.8333333333333334,
          0.7083333333333334,
          0.8333333333333334,
          0.9166666666666666,
          0.9166666666666666,
          0.8333333333333334,
          0.7916666666666666,
          0.875,
          0.8333333333333334,
          0.875,
          1,
          0.7916666666666666,
          0.9583333333333334,
          0.9166666666666666,
          0.7083333333333334,
          0.7916666666666666,
          0.875,
          0.75,
          0.7916666666666666,
          1,
          0.875,
          0.7083333333333334,
          0.7916666666666666,
          0.9583333333333334,
          0.9166666666666666,
          0.875,
          0.7916666666666666,
          0.7083333333333334,
          0.875,
          0.9166666666666666,
          0.7916666666666666,
          0.875,
          0.9166666666666666,
          0.75,
          0.7916666666666666,
          0.9583333333333334,
          0.7916666666666666,
          0.875,
          0.9583333333333334,
          0.8333333333333334,
          0.875,
          0.875,
          0.75,
          0.8333333333333334,
          0.875,
          0.875,
          0.9583333333333334,
          0.9583333333333334,
          0.7916666666666666,
          0.8333333333333334,
          0.6666666666666666,
          0.875,
          0.7083333333333334,
          0.7916666666666666,
          0.75,
          0.8333333333333334,
          0.875,
          0.8333333333333334,
          0.7083333333333334,
          0.875,
          0.875,
          0.875,
          0.875,
          0.8333333333333334,
          0.8333333333333334,
          0.875,
          0.9583333333333334,
          0.7916666666666666,
          0.875,
          0.75,
          0.9583333333333334,
          0.8333333333333334,
          0.875,
          0.875,
          0.9583333333333334,
          0.8333333333333334,
          0.75,
          0.9166666666666666,
          0.9166666666666666,
          0.875,
          0.875,
          0.875,
          0.8333333333333334,
          0.7916666666666666,
          0.9166666666666666,
          0.6666666666666666,
          0.875,
          0.7916666666666666,
          0.875,
          0.875,
          0.6666666666666666,
          0.7916666666666666,
          0.9166666666666666,
          0.7083333333333334,
          0.5,
          0.875,
          0.9166666666666666,
          0.625,
          0.9166666666666666,
          0.875,
          0.7916666666666666,
          0.75,
          0.7083333333333334,
          0.7916666666666666,
          0.8333333333333334,
          0.9166666666666666,
          0.75,
          0.875,
          0.7916666666666666,
          0.7916666666666666,
          0.8333333333333334,
          0.9166666666666666,
          0.75,
          0.7916666666666666,
          0.7916666666666666,
          0.7916666666666666,
          0.7916666666666666,
          0.8333333333333334,
          0.7916666666666666,
          0.9166666666666666,
          0.875,
          0.9583333333333334,
          0.9583333333333334,
          0.9166666666666666,
          0.7083333333333334,
          0.625,
          0.8333333333333334,
          0.9166666666666666,
          0.7916666666666666,
          0.8333333333333334,
          0.7916666666666666,
          0.9166666666666666,
          0.75,
          0.9166666666666666,
          0.7083333333333334,
          0.6666666666666666,
          0.7916666666666666,
          0.8333333333333334,
          0.9166666666666666,
          0.7916666666666666,
          0.8333333333333334,
          0.9583333333333334,
          0.8333333333333334,
          0.8333333333333334,
          0.75,
          0.6666666666666666,
          0.875,
          0.7916666666666666,
          0.7083333333333334,
          0.7916666666666666,
          0.8333333333333334,
          0.875,
          0.8333333333333334,
          0.7916666666666666,
          0.875,
          0.7916666666666666,
          0.875,
          0.75,
          0.9166666666666666,
          0.8333333333333334,
          0.7083333333333334,
          0.9166666666666666,
          0.875,
          0.9166666666666666,
          0.8333333333333334,
          0.8333333333333334,
          0.8333333333333334,
          0.875,
          0.7916666666666666,
          0.9166666666666666,
          0.9166666666666666,
          0.8333333333333334,
          1,
          0.7916666666666666,
          0.7916666666666666,
          0.75,
          0.9166666666666666,
          0.875,
          0.8333333333333334,
          0.7916666666666666,
          0.9583333333333334,
          0.75,
          0.7916666666666666,
          0.7916666666666666,
          0.7916666666666666,
          0.8333333333333334,
          1,
          0.875,
          0.7916666666666666,
          0.8333333333333334,
          0.8333333333333334,
          0.9583333333333334,
          0.875,
          0.7916666666666666,
          0.8333333333333334,
          0.9166666666666666,
          0.875,
          0.875,
          0.75,
          0.9166666666666666,
          0.875,
          0.75,
          0.7916666666666666,
          0.7916666666666666,
          0.8333333333333334,
          0.8333333333333334,
          0.8333333333333334,
          0.8333333333333334,
          0.75,
          1,
          0.7916666666666666,
          0.9166666666666666,
          0.75,
          0.875,
          0.9166666666666666,
          0.875,
          0.8333333333333334,
          0.8333333333333334,
          0.9583333333333334,
          0.8333333333333334,
          0.875,
          0.8333333333333334,
          0.875,
          0.7916666666666666,
          0.6666666666666666,
          0.8333333333333334,
          0.9166666666666666,
          0.9166666666666666,
          0.875,
          0.8333333333333334,
          0.9166666666666666,
          0.8333333333333334,
          0.9583333333333334,
          0.9166666666666666,
          0.8333333333333334,
          0.875,
          0.75,
          0.7083333333333334,
          0.875,
          0.7083333333333334,
          0.75,
          0.75,
          0.8333333333333334,
          0.875,
          0.875,
          0.8333333333333334,
          0.9166666666666666,
          0.75,
          0.9166666666666666,
          0.8333333333333334,
          0.7083333333333334,
          0.7916666666666666,
          0.75,
          0.8333333333333334,
          0.8333333333333334,
          0.8333333333333334,
          0.625,
          0.8333333333333334,
          0.7916666666666666,
          0.9166666666666666,
          0.75,
          0.75,
          0.9166666666666666,
          0.9166666666666666,
          0.7916666666666666,
          0.7916666666666666,
          0.7916666666666666,
          0.75,
          0.75,
          0.875,
          0.7083333333333334,
          0.9166666666666666,
          0.9166666666666666,
          0.7916666666666666,
          0.7916666666666666,
          0.75,
          0.875,
          0.75,
          0.8333333333333334,
          0.7083333333333334,
          0.8333333333333334,
          0.6666666666666666,
          0.9166666666666666,
          0.7916666666666666,
          0.875,
          0.7916666666666666,
          0.8333333333333334,
          0.875,
          0.875,
          0.7083333333333334,
          0.9583333333333334,
          0.7083333333333334,
          0.7083333333333334,
          0.875,
          0.9166666666666666,
          0.875,
          0.6666666666666666,
          0.9166666666666666,
          0.9166666666666666,
          0.8333333333333334,
          0.7083333333333334,
          0.9583333333333334,
          0.875,
          0.875,
          0.8333333333333334,
          0.875,
          0.875,
          0.9583333333333334,
          0.875,
          0.9583333333333334,
          0.8333333333333334,
          0.8333333333333334,
          0.9583333333333334,
          0.75,
          0.875,
          0.9166666666666666,
          0.9166666666666666,
          0.9166666666666666,
          0.7916666666666666,
          0.7916666666666666,
          0.9583333333333334,
          0.875,
          0.875,
          0.8333333333333334,
          0.8333333333333334,
          0.8333333333333334,
          0.8333333333333334,
          0.8333333333333334,
          0.6666666666666666,
          0.9166666666666666,
          0.9166666666666666,
          0.7916666666666666,
          0.875,
          0.7916666666666666,
          0.8333333333333334,
          0.9166666666666666,
          0.8333333333333334,
          0.9583333333333334,
          0.7916666666666666,
          0.75,
          0.75,
          0.875,
          0.7916666666666666,
          0.9583333333333334,
          0.9583333333333334,
          0.7083333333333334,
          0.6666666666666666,
          0.875,
          0.875,
          0.9166666666666666,
          0.875,
          0.875,
          0.7916666666666666,
          0.875,
          0.875,
          0.875,
          0.6666666666666666,
          0.7916666666666666,
          0.75,
          0.9166666666666666,
          0.6666666666666666,
          0.7083333333333334,
          0.75,
          0.875,
          0.875,
          0.875,
          0.875,
          0.875,
          0.875,
          0.6666666666666666,
          0.6666666666666666,
          0.875,
          0.7083333333333334,
          0.8333333333333334,
          0.9583333333333334,
          0.9166666666666666,
          0.9166666666666666,
          0.75,
          0.875,
          0.875,
          0.8333333333333334,
          0.875,
          0.75,
          0.75,
          0.625,
          0.9166666666666666,
          0.5833333333333334,
          0.8333333333333334,
          0.9166666666666666,
          0.875,
          0.8333333333333334,
          0.7083333333333334,
          0.8333333333333334,
          0.9166666666666666,
          0.9583333333333334,
          0.8333333333333334,
          0.8333333333333334,
          1,
          1,
          0.875,
          0.875,
          0.9583333333333334,
          1,
          0.875,
          0.7916666666666666,
          0.7916666666666666,
          0.7083333333333334,
          0.8333333333333334,
          0.9583333333333334,
          0.9583333333333334,
          0.9166666666666666,
          0.9166666666666666,
          0.8333333333333334,
          0.9583333333333334,
          0.75,
          0.75,
          0.875,
          0.7083333333333334,
          0.9583333333333334,
          0.9166666666666666,
          0.625,
          0.8333333333333334,
          0.9583333333333334,
          0.8333333333333334,
          0.9166666666666666,
          0.8333333333333334,
          0.875,
          0.9166666666666666,
          0.875,
          0.9166666666666666,
          0.9583333333333334,
          0.8333333333333334,
          0.9583333333333334,
          0.9166666666666666,
          0.875,
          0.8333333333333334,
          0.7083333333333334,
          0.9583333333333334,
          0.875,
          0.875,
          0.9166666666666666,
          0.8333333333333334,
          0.7916666666666666,
          0.875,
          0.8333333333333334,
          0.6666666666666666,
          0.9166666666666666,
          0.875,
          0.875,
          0.75,
          0.5833333333333334,
          0.8333333333333334,
          0.7083333333333334,
          0.875,
          0.7916666666666666,
          0.7916666666666666,
          0.8333333333333334,
          0.875,
          0.875,
          0.875,
          1,
          0.8333333333333334,
          0.8333333333333334,
          0.6666666666666666,
          0.875,
          0.7916666666666666,
          0.75,
          0.9166666666666666,
          0.7916666666666666,
          0.7083333333333334,
          0.6666666666666666,
          0.875,
          0.7916666666666666,
          1,
          0.9583333333333334,
          0.875,
          0.875,
          0.75,
          0.7083333333333334,
          0.7083333333333334,
          0.8333333333333334,
          0.875,
          0.875,
          0.875,
          0.8333333333333334,
          0.9166666666666666,
          0.7916666666666666,
          0.9166666666666666,
          0.9166666666666666,
          0.7916666666666666,
          0.9166666666666666,
          0.8333333333333334,
          0.9166666666666666,
          0.6666666666666666,
          0.7083333333333334,
          0.9166666666666666,
          0.9166666666666666,
          1,
          0.75,
          0.8333333333333334,
          0.75,
          0.7916666666666666,
          0.9583333333333334,
          0.9166666666666666,
          0.9583333333333334,
          0.875,
          0.8333333333333334,
          0.875,
          0.9166666666666666,
          0.875,
          0.75,
          0.9583333333333334,
          0.7916666666666666,
          1,
          0.9583333333333334,
          0.8333333333333334,
          0.9166666666666666,
          0.8333333333333334,
          0.9166666666666666,
          0.6666666666666666,
          0.6666666666666666,
          0.9166666666666666,
          1,
          0.9166666666666666,
          0.625,
          0.8333333333333334,
          0.875,
          0.9583333333333334,
          0.75,
          0.875,
          0.8333333333333334,
          0.875,
          0.7916666666666666,
          0.9166666666666666,
          0.7916666666666666,
          0.7083333333333334,
          0.8333333333333334,
          0.8333333333333334,
          0.8333333333333334,
          0.6666666666666666,
          0.875,
          0.625,
          0.9166666666666666,
          0.875,
          0.9166666666666666,
          0.75,
          0.8333333333333334,
          0.875,
          0.9166666666666666,
          0.875,
          0.7916666666666666,
          0.9583333333333334,
          0.9166666666666666,
          0.875,
          0.875,
          0.9166666666666666,
          0.875,
          0.75,
          0.8333333333333334,
          0.7916666666666666,
          0.875,
          0.9166666666666666,
          0.7916666666666666,
          0.75,
          0.9583333333333334,
          0.7916666666666666,
          0.7916666666666666,
          0.9166666666666666,
          0.75,
          0.9166666666666666,
          0.8333333333333334,
          0.7916666666666666,
          0.9166666666666666,
          0.7083333333333334,
          0.9166666666666666,
          0.75,
          0.7916666666666666,
          0.875,
          0.8333333333333334,
          0.875,
          0.875,
          0.875,
          0.8333333333333334,
          0.875,
          0.7916666666666666,
          0.8333333333333334,
          0.9583333333333334,
          0.8333333333333334,
          0.7083333333333334,
          0.7916666666666666,
          0.8333333333333334,
          0.875,
          0.9583333333333334,
          0.9166666666666666,
          0.75,
          0.875,
          0.7916666666666666,
          0.8333333333333334,
          0.875,
          0.875,
          0.7916666666666666,
          0.8333333333333334,
          0.9166666666666666,
          0.75,
          0.8333333333333334,
          0.7916666666666666,
          0.7916666666666666,
          0.8333333333333334,
          0.9166666666666666,
          0.9166666666666666,
          1,
          0.875,
          0.875,
          0.8333333333333334,
          0.9583333333333334,
          0.8333333333333334,
          0.7083333333333334,
          0.8333333333333334,
          0.9166666666666666,
          0.9166666666666666,
          0.9166666666666666,
          0.9583333333333334,
          0.8333333333333334,
          0.8333333333333334,
          0.7916666666666666,
          0.9166666666666666,
          1,
          0.875,
          0.875,
          0.8333333333333334,
          0.875,
          0.875,
          0.9166666666666666,
          0.9166666666666666,
          0.7916666666666666,
          0.9583333333333334,
          0.9166666666666666,
          0.8333333333333334,
          0.8333333333333334,
          0.8333333333333334,
          0.7083333333333334,
          0.75,
          0.9166666666666666,
          0.9166666666666666,
          0.75,
          0.9166666666666666,
          0.7916666666666666,
          0.9166666666666666,
          0.7916666666666666,
          0.625,
          0.7916666666666666,
          0.8333333333333334,
          0.9166666666666666,
          0.7916666666666666,
          0.6666666666666666,
          0.9583333333333334,
          0.8333333333333334,
          0.8333333333333334,
          0.8333333333333334,
          0.7916666666666666,
          0.9166666666666666,
          0.7083333333333334,
          1,
          0.875,
          0.75,
          0.875,
          0.8333333333333334,
          0.9583333333333334,
          0.7916666666666666,
          0.75,
          0.75,
          0.875,
          0.8333333333333334,
          0.75,
          0.9166666666666666,
          0.75,
          0.875,
          0.75,
          0.75,
          0.8333333333333334,
          0.8333333333333334,
          0.7083333333333334,
          0.8333333333333334,
          0.6666666666666666,
          0.875,
          0.8333333333333334,
          0.875,
          0.9583333333333334,
          0.9166666666666666,
          0.9583333333333334,
          0.7083333333333334,
          0.6666666666666666,
          0.75,
          0.75,
          0.7083333333333334,
          0.9166666666666666,
          0.875,
          0.875,
          0.7916666666666666,
          1,
          0.9166666666666666,
          0.9583333333333334,
          0.8333333333333334,
          0.9166666666666666,
          0.9166666666666666,
          0.875,
          0.9166666666666666,
          0.9166666666666666,
          0.875,
          0.75,
          0.9166666666666666,
          0.9166666666666666,
          0.875,
          0.9166666666666666,
          0.875,
          0.9583333333333334,
          0.7916666666666666,
          1,
          0.75,
          0.7916666666666666,
          0.7916666666666666,
          0.5,
          0.8333333333333334,
          0.75,
          0.6666666666666666,
          0.875,
          0.875,
          0.9166666666666666,
          0.9166666666666666,
          0.875,
          0.7916666666666666,
          0.8333333333333334,
          0.75,
          0.875,
          0.875,
          0.5833333333333334,
          0.875,
          0.9583333333333334,
          0.8333333333333334,
          0.875,
          0.8333333333333334,
          0.9166666666666666,
          0.8333333333333334,
          0.9166666666666666,
          0.875,
          0.875,
          0.7083333333333334,
          0.875,
          0.7916666666666666,
          0.9166666666666666,
          0.7916666666666666,
          0.75,
          0.875,
          0.7916666666666666,
          0.8333333333333334,
          0.75,
          0.75,
          0.8333333333333334,
          0.7916666666666666,
          0.9583333333333334,
          0.9166666666666666,
          0.7916666666666666,
          0.75,
          0.75,
          0.625,
          0.9583333333333334,
          0.875,
          0.8333333333333334,
          0.9166666666666666,
          0.7916666666666666,
          0.8333333333333334,
          0.7916666666666666,
          0.8333333333333334,
          0.7916666666666666,
          0.9583333333333334,
          0.8333333333333334,
          0.7083333333333334,
          0.9583333333333334,
          0.8333333333333334,
          0.7083333333333334,
          0.875,
          0.75,
          0.9583333333333334,
          0.875,
          0.9166666666666666,
          0.7916666666666666,
          0.75,
          0.6666666666666666,
          0.6666666666666666,
          0.75,
          0.9166666666666666,
          0.7083333333333334,
          0.8333333333333334,
          0.9166666666666666,
          0.8333333333333334,
          0.9583333333333334,
          0.875,
          0.9583333333333334,
          0.8333333333333334,
          0.7083333333333334,
          0.8333333333333334,
          0.75,
          0.875,
          0.6666666666666666,
          0.75,
          0.9583333333333334,
          0.7916666666666666,
          0.8333333333333334,
          0.875,
          0.9583333333333334,
          0.75,
          0.875,
          0.875,
          0.9166666666666666,
          0.75,
          0.75,
          0.875,
          0.9166666666666666,
          0.7916666666666666,
          0.8333333333333334,
          0.875,
          0.8333333333333334,
          0.875,
          0.875,
          0.7916666666666666,
          0.875,
          0.9583333333333334,
          0.8333333333333334,
          0.7916666666666666,
          0.8333333333333334,
          0.875,
          0.9166666666666666,
          0.9166666666666666,
          0.875,
          0.75,
          0.9166666666666666,
          0.625,
          0.8333333333333334,
          0.875,
          0.9583333333333334,
          0.75,
          1,
          0.8333333333333334,
          0.75,
          0.75,
          0.7916666666666666,
          0.9166666666666666,
          0.8333333333333334,
          0.9583333333333334,
          0.9583333333333334,
          0.9166666666666666,
          1,
          0.875,
          0.8333333333333334,
          0.875,
          0.9166666666666666,
          0.8333333333333334,
          0.8333333333333334,
          0.9583333333333334,
          0.9166666666666666,
          0.8333333333333334,
          0.75,
          0.7916666666666666,
          0.875,
          0.9166666666666666,
          0.5833333333333334,
          0.875,
          0.875,
          0.875,
          0.9166666666666666,
          0.75,
          0.9166666666666666,
          0.9583333333333334,
          0.8333333333333334,
          0.9166666666666666,
          0.8333333333333334,
          0.875,
          0.875,
          0.7083333333333334,
          0.75,
          0.7916666666666666,
          0.75,
          0.9583333333333334,
          0.7916666666666666,
          0.9166666666666666,
          0.8333333333333334,
          0.875,
          0.8333333333333334,
          0.8333333333333334,
          0.9583333333333334,
          0.7916666666666666,
          0.6666666666666666,
          0.875,
          0.8333333333333334,
          0.7916666666666666,
          0.9166666666666666,
          0.75,
          0.7083333333333334,
          0.7916666666666666,
          0.8333333333333334,
          0.7083333333333334,
          0.9583333333333334,
          0.9583333333333334,
          0.875,
          0.875,
          1,
          0.7916666666666666,
          0.75,
          0.9166666666666666,
          1,
          0.9583333333333334,
          0.9583333333333334,
          0.8333333333333334,
          0.875,
          0.9166666666666666,
          0.8333333333333334,
          0.9166666666666666,
          0.8333333333333334,
          0.7916666666666666,
          0.8333333333333334,
          0.9166666666666666,
          0.9166666666666666,
          0.7916666666666666,
          0.875,
          0.9166666666666666,
          0.8333333333333334,
          0.7916666666666666,
          0.875,
          0.8333333333333334,
          0.7916666666666666,
          0.875,
          0.7083333333333334,
          0.7916666666666666,
          0.875,
          0.8333333333333334,
          0.9166666666666666,
          0.9583333333333334,
          0.75,
          0.875,
          0.8333333333333334,
          0.8333333333333334,
          0.875,
          0.9583333333333334,
          0.875,
          0.7916666666666666,
          0.9583333333333334,
          0.7916666666666666,
          0.875,
          0.9583333333333334,
          0.875,
          0.75,
          0.9166666666666666,
          0.9166666666666666,
          0.9166666666666666,
          0.6666666666666666,
          0.8333333333333334,
          0.9166666666666666,
          0.625,
          0.75,
          0.75,
          0.9583333333333334,
          0.75,
          0.875,
          0.8333333333333334,
          0.875,
          0.7083333333333334,
          1,
          0.8333333333333334,
          0.75,
          0.8333333333333334,
          0.8333333333333334,
          0.7916666666666666,
          0.8333333333333334,
          0.8333333333333334,
          0.875,
          0.875,
          0.7083333333333334,
          0.9166666666666666,
          0.8333333333333334,
          0.75,
          0.8333333333333334,
          0.75,
          0.9166666666666666,
          0.9583333333333334,
          0.9166666666666666,
          0.6666666666666666,
          0.75,
          0.7916666666666666,
          0.75,
          0.9583333333333334,
          0.7916666666666666,
          0.8333333333333334,
          0.8333333333333334,
          0.75,
          0.7916666666666666,
          0.875,
          0.75,
          0.7916666666666666,
          0.8333333333333334,
          0.875,
          0.9166666666666666,
          0.875,
          0.9166666666666666,
          0.8333333333333334,
          0.6666666666666666,
          0.875,
          0.8333333333333334,
          0.75,
          0.875,
          0.75,
          0.75,
          0.8333333333333334,
          0.875,
          0.8333333333333334,
          0.8333333333333334,
          0.875,
          0.8333333333333334,
          0.8333333333333334,
          0.875,
          0.7916666666666666,
          0.5833333333333334,
          0.9166666666666666,
          0.8333333333333334,
          0.8333333333333334,
          0.875,
          0.9166666666666666,
          0.875,
          0.875,
          0.8333333333333334,
          0.9583333333333334,
          0.7916666666666666,
          0.9583333333333334,
          0.9166666666666666,
          0.7083333333333334,
          0.9166666666666666,
          0.7916666666666666,
          0.8333333333333334,
          0.75,
          0.75,
          0.7916666666666666,
          0.8333333333333334,
          0.8333333333333334,
          0.6666666666666666,
          0.875,
          0.875,
          0.875,
          0.9166666666666666,
          0.9166666666666666,
          0.75,
          0.8333333333333334,
          0.875,
          1,
          0.9583333333333334,
          0.6666666666666666,
          0.8333333333333334,
          0.875,
          0.9583333333333334,
          0.7916666666666666,
          0.9583333333333334,
          0.6666666666666666,
          0.8333333333333334,
          0.875,
          0.9583333333333334,
          0.8333333333333334,
          0.875,
          0.8333333333333334,
          0.8333333333333334,
          0.875,
          0.7083333333333334,
          0.9166666666666666,
          0.7916666666666666,
          0.7916666666666666,
          0.7916666666666666,
          0.875,
          1,
          0.75,
          0.9583333333333334,
          0.5833333333333334,
          0.5416666666666666,
          0.9166666666666666,
          0.6666666666666666,
          0.8333333333333334,
          0.875,
          0.875,
          0.7916666666666666,
          0.8333333333333334,
          0.75,
          0.75,
          0.9166666666666666,
          0.8333333333333334,
          0.6666666666666666,
          0.7916666666666666,
          0.7916666666666666,
          0.9583333333333334,
          0.9583333333333334,
          0.9166666666666666,
          0.7916666666666666,
          0.625,
          0.8333333333333334,
          0.8333333333333334,
          0.8333333333333334,
          0.9166666666666666,
          0.875,
          0.9583333333333334,
          0.8333333333333334,
          0.8333333333333334,
          0.875,
          0.875,
          0.8333333333333334,
          0.875,
          0.875,
          0.75,
          0.8333333333333334,
          1,
          0.7916666666666666,
          0.875,
          0.9166666666666666,
          0.7916666666666666,
          0.8333333333333334,
          0.9583333333333334,
          0.75,
          0.75,
          0.875,
          0.7916666666666666,
          0.9166666666666666,
          0.7916666666666666,
          0.8333333333333334,
          0.7916666666666666,
          0.7916666666666666,
          0.9583333333333334,
          0.875,
          0.875,
          0.8333333333333334,
          0.8333333333333334,
          0.8333333333333334,
          0.8333333333333334,
          0.8333333333333334,
          0.7916666666666666,
          0.7916666666666666,
          0.7916666666666666,
          0.9166666666666666,
          0.8333333333333334,
          0.875,
          0.7916666666666666,
          0.9166666666666666,
          0.8333333333333334,
          0.7916666666666666,
          0.9166666666666666,
          0.875,
          0.9166666666666666,
          0.9166666666666666,
          0.9583333333333334,
          0.7916666666666666,
          0.875,
          0.75,
          0.875,
          1,
          0.8333333333333334,
          0.875,
          0.8333333333333334,
          0.7916666666666666,
          0.9583333333333334,
          0.7083333333333334,
          0.75,
          0.7083333333333334,
          0.7916666666666666,
          0.875,
          0.9166666666666666,
          0.75,
          0.875,
          0.9583333333333334,
          0.75,
          1,
          0.7916666666666666,
          0.75,
          0.9583333333333334,
          0.8333333333333334,
          0.9583333333333334,
          0.875,
          0.7916666666666666,
          0.9583333333333334,
          0.875,
          0.9583333333333334,
          0.9583333333333334,
          0.7916666666666666,
          0.7916666666666666,
          0.75,
          0.9166666666666666,
          0.9166666666666666,
          0.9166666666666666,
          0.9166666666666666,
          0.9166666666666666,
          0.875,
          0.9166666666666666,
          0.875,
          0.75,
          0.7916666666666666,
          0.8333333333333334,
          0.6666666666666666,
          0.875,
          0.875,
          0.6666666666666666,
          0.875,
          0.8333333333333334,
          0.9166666666666666,
          0.875,
          0.7916666666666666,
          0.8333333333333334,
          0.875,
          0.7916666666666666,
          0.7916666666666666,
          0.75,
          0.75,
          0.7083333333333334,
          0.9583333333333334,
          0.875,
          0.875,
          0.875,
          0.9166666666666666,
          0.9166666666666666,
          1,
          0.8333333333333334,
          0.7916666666666666,
          0.9166666666666666,
          0.875,
          0.875,
          0.7916666666666666,
          0.6666666666666666,
          0.8333333333333334,
          0.75,
          0.875,
          0.9583333333333334,
          0.7083333333333334,
          0.9166666666666666,
          0.875,
          0.8333333333333334,
          0.6666666666666666,
          0.8333333333333334,
          0.9166666666666666,
          0.8333333333333334,
          0.7083333333333334,
          0.9583333333333334,
          0.9166666666666666,
          0.8333333333333334,
          0.875,
          0.75,
          0.875,
          0.7083333333333334,
          0.8333333333333334,
          0.8333333333333334,
          0.9166666666666666,
          0.8333333333333334,
          0.8333333333333334,
          0.9166666666666666,
          0.7083333333333334,
          0.875,
          0.8333333333333334,
          0.8333333333333334,
          0.875,
          0.9166666666666666,
          0.8333333333333334,
          0.75,
          0.7916666666666666,
          0.9166666666666666,
          0.9166666666666666,
          0.8333333333333334,
          0.7916666666666666,
          0.8333333333333334,
          1,
          0.875,
          0.9166666666666666,
          0.9583333333333334,
          0.8333333333333334,
          0.875,
          0.9583333333333334,
          0.875,
          0.7083333333333334,
          0.9583333333333334,
          0.875,
          0.7916666666666666,
          0.9583333333333334,
          0.875,
          0.875,
          0.9166666666666666,
          0.9166666666666666,
          0.9166666666666666,
          0.8333333333333334,
          0.875,
          0.7916666666666666,
          0.75,
          0.8333333333333334,
          0.75,
          0.7916666666666666,
          0.9166666666666666,
          0.9166666666666666,
          0.8333333333333334,
          0.7083333333333334,
          0.875,
          0.9166666666666666,
          0.8333333333333334,
          0.875,
          0.75,
          0.6666666666666666,
          0.875,
          0.9583333333333334,
          0.7916666666666666,
          0.9166666666666666,
          0.875,
          0.9583333333333334,
          0.8333333333333334,
          0.7916666666666666,
          0.8333333333333334,
          1,
          0.7916666666666666,
          1,
          0.7083333333333334,
          0.8333333333333334,
          0.9166666666666666,
          0.7916666666666666,
          0.8333333333333334,
          0.875,
          0.875,
          1,
          0.8333333333333334,
          0.8333333333333334,
          0.875,
          0.8333333333333334,
          0.9166666666666666,
          0.8333333333333334,
          0.75,
          0.75,
          0.8333333333333334,
          0.875,
          0.8333333333333334,
          0.9166666666666666,
          0.9166666666666666,
          0.9166666666666666,
          0.875,
          0.7083333333333334,
          0.8333333333333334,
          0.7083333333333334,
          0.875,
          0.875,
          0.9583333333333334,
          0.75,
          0.9583333333333334,
          0.5833333333333334,
          0.6666666666666666,
          0.75,
          0.8333333333333334,
          0.9583333333333334,
          0.75,
          0.7083333333333334,
          0.7916666666666666,
          0.7916666666666666,
          0.8333333333333334,
          0.7916666666666666,
          0.9583333333333334,
          0.9166666666666666,
          0.9166666666666666,
          0.75,
          0.75,
          0.7916666666666666,
          0.75,
          0.7916666666666666,
          0.7916666666666666,
          0.875,
          0.9166666666666666,
          0.75,
          0.8333333333333334,
          0.9166666666666666,
          0.8333333333333334,
          0.875,
          0.9583333333333334,
          0.875,
          0.9583333333333334,
          0.875,
          0.6666666666666666,
          0.8333333333333334,
          1,
          0.8333333333333334,
          0.625,
          0.875,
          0.7916666666666666,
          0.875,
          0.875,
          0.875,
          0.8333333333333334,
          0.9166666666666666,
          0.875,
          0.9166666666666666,
          0.875,
          0.875,
          0.8333333333333334,
          0.9583333333333334,
          0.8333333333333334,
          0.875,
          0.875,
          0.9166666666666666,
          0.9166666666666666,
          0.7916666666666666,
          0.75,
          0.8333333333333334,
          0.9166666666666666,
          0.875,
          0.75,
          0.875,
          0.8333333333333334,
          0.7083333333333334,
          0.9166666666666666,
          0.8333333333333334,
          0.625,
          0.8333333333333334,
          0.875,
          0.75,
          0.9166666666666666,
          0.875,
          0.7916666666666666,
          0.75,
          0.9166666666666666,
          0.7083333333333334,
          0.9166666666666666,
          0.875,
          0.75,
          0.875,
          0.9166666666666666,
          0.875,
          0.8333333333333334,
          0.8333333333333334,
          0.9166666666666666,
          0.7916666666666666,
          0.8333333333333334,
          0.875,
          0.75,
          0.8333333333333334,
          0.8333333333333334,
          0.875,
          0.625,
          0.9166666666666666,
          0.7916666666666666,
          0.6666666666666666,
          0.8333333333333334,
          0.75,
          0.8333333333333334,
          0.7916666666666666,
          0.7916666666666666,
          0.7916666666666666,
          0.75,
          0.9583333333333334,
          0.75,
          0.875,
          0.7916666666666666,
          0.7916666666666666,
          0.9166666666666666,
          0.9583333333333334,
          0.875,
          0.8333333333333334,
          0.875,
          0.875,
          0.8333333333333334,
          0.9166666666666666,
          0.875,
          0.9166666666666666,
          0.875,
          0.7916666666666666,
          0.875,
          0.6666666666666666,
          0.875,
          0.7083333333333334,
          0.8333333333333334,
          0.9166666666666666,
          0.7916666666666666,
          0.9583333333333334,
          0.7083333333333334,
          0.9583333333333334,
          0.8333333333333334,
          0.9166666666666666,
          0.875,
          0.8333333333333334,
          0.9166666666666666,
          0.7916666666666666,
          0.9166666666666666,
          0.7916666666666666,
          0.9583333333333334,
          0.75,
          0.75,
          1,
          0.9583333333333334,
          0.9166666666666666,
          0.9166666666666666,
          0.8333333333333334,
          0.6666666666666666,
          0.75,
          0.75,
          0.9166666666666666,
          0.875,
          0.8333333333333334,
          0.9166666666666666,
          0.7916666666666666,
          0.8333333333333334,
          0.875,
          0.9583333333333334,
          0.7083333333333334,
          0.75,
          0.8333333333333334,
          1,
          0.9166666666666666,
          0.875,
          0.7083333333333334,
          0.875,
          0.7916666666666666,
          0.8333333333333334,
          0.7083333333333334,
          0.9166666666666666,
          0.7916666666666666,
          0.7916666666666666,
          0.9166666666666666,
          0.75,
          0.875,
          0.8333333333333334,
          0.7916666666666666,
          0.875,
          0.8333333333333334,
          0.9583333333333334,
          1,
          0.8333333333333334,
          0.8333333333333334,
          0.7916666666666666,
          0.875,
          0.7083333333333334,
          0.75,
          0.8333333333333334,
          0.9166666666666666,
          0.9166666666666666,
          0.75,
          0.7916666666666666,
          0.9583333333333334,
          0.7916666666666666,
          0.8333333333333334,
          0.7916666666666666,
          0.75,
          0.8333333333333334,
          0.9166666666666666,
          0.5416666666666666,
          0.7916666666666666,
          0.8333333333333334,
          0.7916666666666666,
          0.875,
          0.7916666666666666,
          0.875,
          0.75,
          0.875,
          0.8333333333333334,
          0.7916666666666666,
          0.9166666666666666,
          0.7083333333333334,
          0.8333333333333334,
          0.9166666666666666,
          0.9583333333333334,
          0.7083333333333334,
          0.9166666666666666,
          0.9583333333333334,
          0.75,
          0.9583333333333334,
          0.7916666666666666,
          0.875,
          0.8333333333333334,
          0.7083333333333334,
          0.875,
          0.7916666666666666,
          0.8333333333333334,
          0.625,
          0.75,
          0.9583333333333334,
          0.8333333333333334,
          0.9166666666666666,
          0.6666666666666666,
          0.875,
          0.8333333333333334,
          0.9166666666666666,
          0.8333333333333334,
          0.9166666666666666,
          0.875,
          0.75,
          0.875,
          0.7916666666666666,
          0.8333333333333334,
          0.8333333333333334,
          0.9166666666666666,
          0.9583333333333334,
          0.7083333333333334,
          0.8333333333333334,
          0.875,
          0.875,
          0.5833333333333334,
          0.9166666666666666,
          0.7916666666666666,
          0.7916666666666666,
          0.875,
          0.7083333333333334,
          0.7916666666666666,
          0.9583333333333334,
          0.75,
          0.9166666666666666,
          0.9166666666666666,
          0.7916666666666666,
          0.9166666666666666,
          0.875,
          0.7916666666666666,
          0.75,
          0.9583333333333334,
          0.9166666666666666,
          0.7916666666666666,
          0.9166666666666666,
          0.8333333333333334,
          0.75,
          0.9166666666666666,
          0.7083333333333334,
          0.875,
          0.7916666666666666,
          0.875,
          0.875,
          1,
          0.875,
          0.875,
          0.6666666666666666,
          0.875,
          0.7916666666666666,
          0.9166666666666666,
          0.6666666666666666,
          0.9166666666666666,
          0.7916666666666666,
          1,
          0.7916666666666666,
          0.75,
          0.875,
          0.8333333333333334,
          0.625,
          0.7083333333333334,
          0.75,
          0.7916666666666666,
          0.9583333333333334,
          0.6666666666666666,
          0.6666666666666666,
          0.7916666666666666,
          0.9166666666666666,
          0.7916666666666666,
          0.875,
          0.9583333333333334,
          0.8333333333333334,
          0.7916666666666666,
          0.875,
          0.8333333333333334,
          0.875,
          0.7916666666666666,
          0.875,
          0.9583333333333334,
          0.6666666666666666,
          0.7083333333333334,
          0.7083333333333334,
          0.875,
          0.7916666666666666,
          0.875,
          0.7916666666666666,
          0.7916666666666666,
          0.875,
          1,
          0.875,
          0.875,
          0.8333333333333334,
          0.75,
          0.9583333333333334,
          0.7916666666666666,
          0.9166666666666666,
          0.7916666666666666,
          0.625,
          0.8333333333333334,
          0.9166666666666666,
          0.75,
          0.6666666666666666,
          0.7916666666666666,
          1,
          0.875,
          0.75,
          0.9166666666666666,
          0.9166666666666666,
          0.75,
          0.7083333333333334,
          0.75,
          0.8333333333333334,
          0.8333333333333334,
          0.75,
          0.9166666666666666,
          1,
          0.7916666666666666,
          0.875,
          0.7916666666666666,
          0.7916666666666666,
          0.9583333333333334,
          0.8333333333333334,
          0.7916666666666666,
          0.9583333333333334,
          0.75,
          0.8333333333333334,
          0.9166666666666666,
          0.9583333333333334,
          0.75,
          0.7916666666666666,
          0.7916666666666666,
          0.8333333333333334,
          0.7083333333333334,
          0.875,
          0.7916666666666666,
          0.75,
          0.7916666666666666,
          0.875,
          0.9166666666666666,
          0.7916666666666666,
          0.8333333333333334,
          0.8333333333333334,
          0.7083333333333334,
          0.8333333333333334,
          0.75,
          0.9583333333333334,
          0.75,
          0.8333333333333334,
          0.9166666666666666,
          0.875,
          0.875,
          0.7916666666666666,
          0.875,
          0.875,
          0.9166666666666666,
          0.7083333333333334,
          0.8333333333333334,
          0.875,
          0.8333333333333334,
          0.9166666666666666,
          0.8333333333333334,
          0.875,
          0.75,
          0.9166666666666666,
          0.9166666666666666,
          0.8333333333333334,
          0.75,
          0.875,
          0.7916666666666666,
          0.9166666666666666,
          0.7083333333333334,
          0.9166666666666666,
          0.7083333333333334,
          0.9583333333333334,
          0.9166666666666666,
          0.875,
          0.75,
          0.8333333333333334,
          0.9166666666666666,
          0.875,
          0.7916666666666666,
          0.875,
          0.9583333333333334,
          0.9166666666666666,
          0.7916666666666666,
          0.9166666666666666,
          0.9166666666666666,
          0.875,
          0.75,
          0.8333333333333334,
          0.875,
          0.7916666666666666,
          0.7916666666666666,
          1,
          0.8333333333333334,
          0.9166666666666666,
          0.7916666666666666,
          0.7916666666666666,
          0.8333333333333334,
          0.7916666666666666,
          0.8333333333333334,
          0.7916666666666666,
          0.6666666666666666,
          0.75,
          0.7916666666666666,
          0.75,
          1,
          0.9166666666666666,
          0.75,
          0.75,
          0.8333333333333334,
          0.875,
          0.5416666666666666,
          0.9166666666666666,
          0.7083333333333334,
          0.8333333333333334,
          0.9166666666666666,
          0.875,
          0.8333333333333334,
          0.7083333333333334,
          0.8333333333333334,
          0.75,
          0.8333333333333334,
          0.875,
          0.6666666666666666,
          0.9583333333333334,
          0.7916666666666666,
          0.9166666666666666,
          0.6666666666666666,
          0.8333333333333334,
          0.875,
          0.75,
          0.7083333333333334,
          0.7083333333333334,
          1,
          0.8333333333333334,
          0.75,
          0.9166666666666666,
          0.6666666666666666,
          0.875,
          0.875,
          0.7916666666666666,
          0.9166666666666666,
          0.875,
          0.875,
          0.9583333333333334,
          0.875,
          0.625,
          0.75,
          0.7916666666666666,
          0.7916666666666666,
          0.8333333333333334,
          0.875,
          0.8333333333333334,
          0.7916666666666666,
          0.7916666666666666,
          0.8333333333333334,
          0.7083333333333334,
          0.9166666666666666,
          0.7916666666666666,
          0.9166666666666666,
          0.9583333333333334,
          0.8333333333333334,
          0.875,
          0.7916666666666666,
          0.75,
          0.875,
          0.9583333333333334,
          0.625,
          1,
          0.7916666666666666,
          0.9166666666666666,
          0.8333333333333334,
          0.9583333333333334,
          0.8333333333333334,
          0.6666666666666666,
          0.7916666666666666,
          0.75,
          0.8333333333333334,
          0.9166666666666666,
          0.875,
          0.7916666666666666,
          0.9166666666666666,
          0.9166666666666666,
          0.8333333333333334,
          0.875,
          0.875,
          0.9166666666666666,
          0.6666666666666666,
          0.9166666666666666,
          0.9583333333333334,
          0.8333333333333334,
          0.75,
          0.875,
          0.7916666666666666,
          0.7916666666666666,
          0.7916666666666666,
          0.8333333333333334,
          0.75,
          0.7916666666666666,
          0.8333333333333334,
          0.8333333333333334,
          0.75,
          0.75,
          0.8333333333333334,
          0.875,
          0.875,
          0.7916666666666666,
          0.875,
          0.75,
          0.875,
          0.9583333333333334,
          0.8333333333333334,
          0.7916666666666666,
          0.8333333333333334,
          0.75,
          0.9166666666666666,
          0.875,
          0.7083333333333334,
          0.8333333333333334,
          0.8333333333333334,
          0.7083333333333334,
          0.875,
          0.7916666666666666,
          0.5,
          0.875,
          0.875,
          0.7916666666666666,
          0.8333333333333334,
          0.75,
          0.625,
          0.7916666666666666,
          0.7916666666666666,
          0.875,
          0.375,
          0.7916666666666666,
          0.875,
          0.9166666666666666,
          0.8333333333333334,
          0.7916666666666666,
          0.8333333333333334,
          0.7083333333333334,
          0.875,
          0.875,
          0.75,
          0.7916666666666666,
          0.9166666666666666,
          0.625,
          0.7916666666666666,
          0.7916666666666666,
          0.75,
          0.75,
          0.7916666666666666,
          0.8333333333333334,
          0.9583333333333334,
          0.625,
          0.9166666666666666,
          0.8333333333333334,
          0.875,
          0.9166666666666666,
          0.7916666666666666,
          0.8333333333333334,
          0.8333333333333334,
          0.7083333333333334,
          0.8333333333333334,
          0.7916666666666666,
          0.75,
          0.7083333333333334,
          0.875,
          0.9166666666666666,
          0.7083333333333334,
          0.8333333333333334,
          0.75,
          0.8333333333333334,
          0.75,
          0.7083333333333334,
          0.8333333333333334,
          0.8333333333333334,
          0.7083333333333334,
          0.875,
          0.9166666666666666,
          0.875,
          0.9166666666666666,
          0.7083333333333334,
          0.75,
          0.7916666666666666,
          0.7083333333333334,
          0.9166666666666666,
          0.75,
          0.8333333333333334,
          0.7916666666666666,
          0.5833333333333334,
          0.75,
          0.7916666666666666,
          0.8333333333333334,
          0.625,
          0.875,
          0.9583333333333334,
          0.5833333333333334,
          0.6666666666666666,
          0.8333333333333334,
          0.8333333333333334,
          0.7083333333333334,
          0.8333333333333334,
          0.9166666666666666,
          0.9583333333333334,
          0.875,
          0.6666666666666666,
          0.8333333333333334,
          0.7083333333333334,
          0.7083333333333334,
          0.8333333333333334,
          0.9166666666666666,
          0.7916666666666666,
          0.9583333333333334,
          0.7916666666666666,
          0.625,
          0.6666666666666666,
          0.75,
          0.7916666666666666,
          0.875,
          0.7916666666666666,
          0.7083333333333334,
          0.7916666666666666,
          0.7083333333333334,
          0.7916666666666666,
          0.8333333333333334,
          0.8333333333333334,
          0.9166666666666666,
          0.9166666666666666,
          0.7916666666666666,
          0.7083333333333334,
          0.75,
          0.7916666666666666,
          0.625,
          0.7916666666666666,
          0.9166666666666666,
          0.9166666666666666,
          0.7916666666666666,
          0.6666666666666666,
          0.9166666666666666,
          0.8333333333333334,
          0.5,
          0.9583333333333334,
          0.6666666666666666,
          0.7916666666666666,
          0.8333333333333334,
          0.7916666666666666,
          0.7916666666666666,
          0.9166666666666666,
          0.75,
          0.9166666666666666,
          0.875,
          0.8333333333333334,
          0.8333333333333334,
          0.75,
          0.9166666666666666,
          0.875,
          0.7916666666666666,
          0.875,
          0.8333333333333334,
          0.5833333333333334,
          0.7083333333333334,
          0.7916666666666666,
          0.875,
          0.875,
          0.8333333333333334,
          0.7916666666666666,
          0.9583333333333334,
          0.875,
          0.875,
          0.875,
          0.875,
          0.8333333333333334,
          0.75,
          0.75,
          0.8333333333333334,
          0.75,
          0.875,
          1,
          0.875,
          0.5416666666666666,
          0.5833333333333334,
          0.875,
          0.875,
          0.8333333333333334,
          0.9583333333333334,
          0.7916666666666666,
          0.75,
          0.7083333333333334,
          0.7083333333333334,
          0.9166666666666666,
          0.9166666666666666,
          0.9166666666666666,
          0.75,
          0.7916666666666666,
          0.7916666666666666,
          0.7916666666666666,
          0.8333333333333334,
          0.8333333333333334,
          0.7916666666666666,
          0.75,
          0.875,
          0.8333333333333334,
          0.7916666666666666,
          0.8333333333333334,
          0.75,
          0.75,
          0.6666666666666666,
          0.7083333333333334,
          0.9583333333333334,
          0.75,
          0.9166666666666666,
          0.9583333333333334,
          0.875,
          0.7916666666666666,
          0.75,
          0.6666666666666666,
          0.7083333333333334,
          0.7916666666666666,
          0.8333333333333334,
          0.9166666666666666,
          0.7916666666666666,
          0.7916666666666666,
          0.9166666666666666,
          0.7916666666666666,
          0.7083333333333334,
          0.9166666666666666,
          0.7916666666666666,
          0.7916666666666666,
          0.875,
          0.875,
          0.7916666666666666,
          0.6666666666666666,
          0.9583333333333334,
          0.8333333333333334,
          0.8333333333333334,
          0.7916666666666666,
          0.7083333333333334,
          0.7916666666666666,
          0.6666666666666666,
          0.7916666666666666,
          0.8333333333333334,
          0.8333333333333334,
          0.75,
          0.7916666666666666,
          0.9166666666666666,
          0.875,
          0.7083333333333334,
          0.875,
          0.75,
          0.7083333333333334,
          0.875,
          0.875,
          0.7083333333333334,
          0.9166666666666666,
          0.8333333333333334,
          0.7916666666666666,
          0.7083333333333334,
          0.7083333333333334,
          0.8333333333333334,
          0.7916666666666666,
          0.75,
          0.8333333333333334,
          0.8333333333333334,
          0.875,
          0.8333333333333334,
          0.9166666666666666,
          0.875,
          0.7916666666666666,
          0.9583333333333334,
          0.8333333333333334,
          0.8333333333333334,
          0.875,
          0.7916666666666666,
          0.6666666666666666,
          0.7916666666666666,
          0.75,
          0.7916666666666666,
          0.8333333333333334,
          0.7083333333333334,
          1,
          0.7083333333333334,
          0.9166666666666666,
          0.875,
          0.9166666666666666,
          0.8333333333333334,
          0.8333333333333334,
          0.6666666666666666,
          0.7916666666666666,
          0.7916666666666666,
          0.7083333333333334,
          0.7916666666666666,
          1,
          0.875,
          0.75,
          0.7916666666666666,
          0.9166666666666666,
          0.9166666666666666,
          0.9166666666666666,
          0.8333333333333334,
          0.75,
          0.9166666666666666,
          0.75,
          0.875,
          0.7083333333333334,
          0.7083333333333334,
          0.875,
          0.9583333333333334,
          0.75,
          0.75,
          0.875,
          0.7916666666666666,
          0.9166666666666666,
          0.875,
          0.9166666666666666,
          0.75,
          0.875,
          0.9166666666666666,
          0.8333333333333334,
          0.7083333333333334,
          0.7083333333333334,
          0.6666666666666666,
          0.8333333333333334,
          0.5833333333333334,
          0.9166666666666666,
          0.75,
          0.75,
          0.9166666666666666,
          0.8333333333333334,
          0.8333333333333334,
          0.875,
          0.8333333333333334,
          0.9583333333333334,
          0.75,
          0.8333333333333334,
          0.9583333333333334,
          0.875,
          0.6666666666666666,
          0.75,
          0.5416666666666666,
          0.375,
          0.875,
          0.75,
          0.75,
          0.9166666666666666,
          0.8333333333333334,
          0.8333333333333334,
          0.7916666666666666,
          1,
          0.8333333333333334,
          0.7083333333333334,
          0.9166666666666666,
          0.8333333333333334,
          0.875,
          0.9166666666666666,
          0.8333333333333334,
          0.9583333333333334,
          0.7083333333333334,
          0.7916666666666666,
          0.7916666666666666,
          0.7916666666666666,
          0.7916666666666666,
          0.9166666666666666,
          0.9583333333333334,
          0.5416666666666666,
          0.8333333333333334,
          0.875,
          0.9166666666666666,
          0.7083333333333334,
          0.7916666666666666,
          0.9166666666666666,
          0.9166666666666666,
          0.6666666666666666,
          0.8333333333333334,
          0.6666666666666666,
          0.9583333333333334,
          0.875,
          0.9166666666666666,
          1,
          0.75,
          0.875,
          0.875,
          0.8333333333333334,
          0.7083333333333334,
          0.7916666666666666,
          0.75,
          0.8333333333333334,
          0.9583333333333334,
          0.8333333333333334,
          0.875,
          0.9166666666666666,
          0.875,
          0.625,
          0.7916666666666666,
          0.8333333333333334,
          0.7083333333333334,
          0.7916666666666666,
          0.6666666666666666,
          0.7916666666666666,
          0.7916666666666666,
          0.9166666666666666,
          0.7916666666666666,
          0.7916666666666666,
          0.9583333333333334,
          0.8333333333333334,
          0.9583333333333334,
          0.7916666666666666,
          0.7916666666666666,
          0.8333333333333334,
          0.7916666666666666,
          0.8333333333333334,
          0.9166666666666666,
          0.7916666666666666,
          0.6666666666666666,
          0.75,
          0.7916666666666666,
          0.75,
          0.7083333333333334,
          0.9166666666666666,
          0.75,
          0.875,
          0.8333333333333334,
          0.8333333333333334,
          0.875,
          0.8333333333333334,
          0.875,
          0.875,
          0.9166666666666666,
          0.875,
          0.875,
          0.8333333333333334,
          0.8333333333333334,
          0.8333333333333334,
          0.8333333333333334,
          0.8333333333333334,
          0.875,
          0.8333333333333334,
          0.7916666666666666,
          0.8333333333333334,
          1,
          0.875,
          0.875,
          0.625,
          0.75,
          0.8333333333333334,
          0.7916666666666666,
          0.9583333333333334,
          0.6666666666666666,
          0.9583333333333334,
          0.75,
          0.7916666666666666,
          0.9166666666666666,
          0.875,
          0.875,
          0.75,
          0.9166666666666666,
          0.7916666666666666,
          0.8333333333333334,
          0.8333333333333334,
          0.875,
          0.75,
          0.875,
          0.9166666666666666,
          0.7916666666666666,
          0.9166666666666666,
          0.8333333333333334,
          0.7916666666666666,
          0.7916666666666666,
          0.8333333333333334,
          0.8333333333333334,
          0.7083333333333334,
          0.8333333333333334,
          0.75,
          0.9583333333333334,
          0.8333333333333334,
          0.7916666666666666,
          0.75,
          0.7083333333333334,
          0.7916666666666666,
          0.9166666666666666,
          0.6666666666666666,
          0.8333333333333334,
          0.7916666666666666,
          0.9166666666666666,
          0.9166666666666666,
          0.875,
          0.8333333333333334,
          0.75,
          0.875,
          0.875,
          0.75,
          0.7916666666666666,
          0.8333333333333334,
          0.625,
          0.9166666666666666,
          0.7916666666666666,
          0.8333333333333334,
          0.875,
          0.9583333333333334,
          0.9166666666666666,
          0.7083333333333334,
          0.5833333333333334,
          0.8333333333333334,
          0.8333333333333334,
          0.875,
          0.8333333333333334,
          0.7916666666666666,
          0.9166666666666666,
          0.75,
          0.9166666666666666,
          0.875,
          0.8333333333333334,
          0.75,
          0.75,
          0.7916666666666666,
          0.6666666666666666,
          0.875,
          0.625,
          0.7916666666666666,
          0.875,
          0.9583333333333334,
          0.8333333333333334,
          0.75,
          0.7083333333333334,
          0.75,
          0.75,
          0.75,
          0.875,
          0.7083333333333334,
          0.7083333333333334,
          0.875,
          0.75,
          0.875,
          0.8333333333333334,
          0.875,
          0.7083333333333334,
          0.8333333333333334,
          0.875,
          0.9583333333333334,
          0.7083333333333334,
          0.625,
          0.875,
          0.75,
          0.7916666666666666,
          0.75,
          0.875,
          0.7916666666666666,
          0.8333333333333334,
          0.7083333333333334,
          0.75,
          0.6666666666666666,
          0.5416666666666666,
          0.9583333333333334,
          0.5833333333333334,
          0.7916666666666666,
          0.9166666666666666,
          0.875,
          0.8333333333333334,
          0.7916666666666666,
          0.8333333333333334,
          0.6666666666666666,
          0.9166666666666666,
          0.8333333333333334,
          0.7916666666666666,
          0.7083333333333334,
          0.6666666666666666,
          0.875,
          0.75,
          0.9583333333333334,
          0.7916666666666666,
          0.9166666666666666,
          0.75,
          0.8333333333333334,
          0.9166666666666666,
          0.7916666666666666,
          0.875,
          0.875,
          0.8333333333333334,
          0.8333333333333334,
          0.875,
          0.8333333333333334,
          0.6666666666666666,
          0.8333333333333334,
          0.8333333333333334,
          1,
          0.75,
          0.8333333333333334,
          0.7916666666666666,
          0.7083333333333334,
          0.875,
          0.6666666666666666,
          0.875,
          0.9166666666666666,
          0.5833333333333334,
          0.75,
          0.875,
          0.7916666666666666,
          0.875,
          0.8333333333333334,
          0.75,
          0.7916666666666666,
          0.6666666666666666,
          0.75,
          0.6666666666666666,
          0.875,
          0.75,
          0.8333333333333334,
          0.8333333333333334,
          0.75,
          0.875,
          0.75,
          0.8333333333333334,
          0.7916666666666666,
          0.75,
          0.9166666666666666,
          0.9166666666666666,
          0.75,
          0.8333333333333334,
          0.6666666666666666,
          0.75,
          0.8333333333333334,
          0.7916666666666666,
          0.8333333333333334,
          0.7916666666666666,
          0.875,
          0.875,
          0.75,
          0.8333333333333334,
          0.625,
          0.625,
          0.8333333333333334,
          0.7916666666666666,
          0.7916666666666666,
          0.8333333333333334,
          0.875,
          0.625,
          0.7916666666666666,
          0.8333333333333334,
          0.7916666666666666,
          0.875,
          0.7916666666666666,
          0.8333333333333334,
          0.75,
          0.75,
          0.75,
          0.875,
          0.7916666666666666,
          0.875,
          0.75,
          0.75,
          0.9166666666666666,
          0.9583333333333334,
          0.8333333333333334,
          0.8333333333333334,
          0.75,
          0.7916666666666666,
          0.7083333333333334,
          0.875,
          0.6666666666666666,
          0.9583333333333334,
          0.9583333333333334,
          0.7083333333333334,
          0.8333333333333334,
          0.7083333333333334,
          0.8333333333333334,
          0.9166666666666666,
          0.75,
          0.875,
          0.75,
          0.8333333333333334,
          0.8333333333333334,
          0.7916666666666666,
          0.7083333333333334,
          0.9583333333333334,
          0.6666666666666666,
          0.9583333333333334,
          0.75,
          0.8333333333333334,
          0.8333333333333334,
          0.875,
          0.8333333333333334,
          0.8333333333333334,
          0.7083333333333334,
          0.75,
          0.75,
          0.7916666666666666,
          0.9166666666666666,
          0.75,
          0.875,
          0.875,
          0.8333333333333334,
          0.75,
          0.875,
          0.75,
          0.875,
          0.7916666666666666,
          0.9166666666666666,
          0.9166666666666666,
          0.75,
          0.6666666666666666,
          0.8333333333333334,
          0.9583333333333334,
          0.7083333333333334,
          0.8333333333333334,
          0.9166666666666666,
          0.875,
          0.8333333333333334,
          0.8333333333333334,
          0.7083333333333334,
          0.8333333333333334,
          0.7083333333333334,
          0.875,
          0.875,
          0.9166666666666666,
          0.875,
          0.6666666666666666,
          0.75,
          0.9166666666666666,
          1,
          0.875,
          0.8333333333333334,
          0.7916666666666666,
          0.75,
          0.875,
          0.75,
          0.75,
          0.7083333333333334,
          0.6666666666666666,
          0.875,
          0.75,
          0.9583333333333334,
          0.6666666666666666,
          1,
          0.9583333333333334,
          0.875,
          0.8333333333333334,
          0.875,
          0.7916666666666666,
          0.7083333333333334,
          0.9583333333333334,
          0.8333333333333334,
          0.875,
          0.875,
          0.875,
          0.5833333333333334,
          0.6666666666666666,
          0.8333333333333334,
          0.8333333333333334,
          0.7916666666666666,
          0.8333333333333334,
          0.8333333333333334,
          0.7083333333333334,
          0.75,
          0.75,
          0.75,
          0.7916666666666666,
          0.7916666666666666,
          0.6666666666666666,
          0.8333333333333334,
          0.7083333333333334,
          0.875,
          0.875,
          0.7916666666666666,
          0.9166666666666666,
          0.9166666666666666,
          0.7916666666666666,
          0.5833333333333334,
          0.7916666666666666,
          0.875,
          0.9166666666666666,
          0.7916666666666666,
          0.8333333333333334,
          0.7916666666666666,
          0.75,
          0.875,
          0.7083333333333334,
          0.8333333333333334,
          0.9166666666666666,
          0.875,
          0.7916666666666666,
          0.7083333333333334,
          0.8333333333333334,
          0.7916666666666666,
          0.8333333333333334,
          0.9583333333333334,
          0.875,
          0.9166666666666666,
          0.6666666666666666,
          0.8333333333333334,
          0.8333333333333334,
          0.7083333333333334,
          0.8333333333333334,
          0.7083333333333334,
          0.75,
          0.7083333333333334,
          0.9166666666666666,
          0.7083333333333334,
          0.875,
          0.875,
          0.875,
          0.9166666666666666,
          0.7083333333333334,
          0.9166666666666666,
          0.875,
          0.7083333333333334,
          0.8333333333333334,
          0.7083333333333334,
          0.875,
          0.7083333333333334,
          0.8333333333333334,
          0.9583333333333334,
          0.875,
          0.7916666666666666,
          0.9166666666666666,
          0.8333333333333334,
          0.875,
          0.7916666666666666,
          0.9166666666666666,
          0.9166666666666666,
          0.8333333333333334,
          0.875,
          0.8333333333333334,
          0.8333333333333334,
          0.75,
          0.7083333333333334,
          0.8333333333333334,
          0.9583333333333334,
          0.9166666666666666,
          0.875,
          0.8333333333333334,
          0.625,
          0.875,
          0.875,
          0.6666666666666666,
          0.8333333333333334,
          0.9166666666666666,
          0.75,
          0.875,
          0.8333333333333334,
          0.8333333333333334,
          0.9583333333333334,
          0.9166666666666666,
          0.8333333333333334,
          0.8333333333333334,
          0.7083333333333334,
          0.8333333333333334,
          0.9166666666666666,
          0.7916666666666666,
          0.8333333333333334,
          0.7916666666666666,
          0.5833333333333334,
          0.8333333333333334,
          0.7916666666666666,
          0.75,
          0.8333333333333334,
          0.7083333333333334,
          0.8333333333333334,
          0.75,
          1,
          0.8333333333333334,
          0.875,
          0.7083333333333334,
          0.875,
          0.8333333333333334,
          0.875,
          0.875,
          0.7916666666666666,
          0.875,
          0.9166666666666666,
          0.7916666666666666,
          0.875,
          0.9166666666666666,
          0.7916666666666666,
          0.75,
          0.5833333333333334,
          0.8333333333333334,
          0.75,
          0.7083333333333334,
          0.9166666666666666,
          0.8333333333333334,
          0.875,
          0.7916666666666666,
          0.9166666666666666,
          0.75,
          0.625,
          0.875,
          0.875,
          0.7083333333333334,
          0.8333333333333334,
          0.9166666666666666,
          0.9166666666666666,
          0.9166666666666666,
          0.7916666666666666,
          0.8333333333333334,
          0.875,
          0.7916666666666666,
          0.9166666666666666,
          0.75,
          0.875,
          0.8333333333333334,
          0.7916666666666666,
          0.75,
          0.875,
          0.8333333333333334,
          0.8333333333333334,
          0.7916666666666666,
          0.75,
          0.9166666666666666,
          0.9166666666666666,
          0.9166666666666666,
          0.875,
          0.75,
          0.8333333333333334,
          0.7916666666666666,
          0.7083333333333334,
          0.9166666666666666,
          0.7916666666666666,
          0.9583333333333334,
          0.9166666666666666,
          0.875,
          0.7916666666666666,
          0.8333333333333334,
          0.7916666666666666,
          0.6666666666666666,
          0.8333333333333334,
          0.75,
          0.8333333333333334,
          0.7916666666666666,
          0.9583333333333334,
          0.7916666666666666,
          0.7083333333333334,
          0.875,
          0.8333333333333334,
          0.9166666666666666,
          0.7916666666666666,
          0.7916666666666666,
          0.875,
          0.9166666666666666,
          0.9583333333333334,
          0.7916666666666666,
          0.7916666666666666,
          0.7916666666666666,
          0.75,
          0.875,
          0.9583333333333334,
          0.7083333333333334,
          0.9166666666666666,
          0.8333333333333334,
          0.7083333333333334,
          0.6666666666666666,
          0.9166666666666666,
          0.7916666666666666,
          0.875,
          0.875,
          0.875,
          0.7916666666666666,
          0.875,
          0.875,
          0.75,
          0.7916666666666666,
          0.875,
          0.7916666666666666,
          0.6666666666666666,
          0.8333333333333334,
          1,
          0.7916666666666666,
          0.9166666666666666,
          0.7916666666666666,
          0.9166666666666666,
          0.8333333333333334,
          0.9166666666666666,
          0.875,
          0.7916666666666666,
          0.875,
          0.8333333333333334,
          0.7916666666666666,
          0.875,
          0.75,
          0.7916666666666666,
          0.9166666666666666,
          0.8333333333333334,
          0.9166666666666666,
          0.625,
          0.7083333333333334,
          0.5416666666666666,
          0.75,
          0.8333333333333334,
          0.875,
          0.8333333333333334,
          0.9166666666666666,
          0.9166666666666666,
          0.7083333333333334,
          0.875,
          0.75,
          0.7916666666666666,
          0.8333333333333334,
          0.75,
          0.75,
          0.8333333333333334,
          0.8333333333333334,
          0.8333333333333334,
          0.7916666666666666,
          0.8333333333333334,
          0.7083333333333334,
          0.875,
          0.7916666666666666,
          0.9583333333333334,
          0.8333333333333334,
          0.7083333333333334,
          0.8333333333333334,
          0.875,
          0.875,
          0.9166666666666666,
          0.7916666666666666,
          0.9166666666666666,
          0.875,
          0.875,
          0.75,
          0.9166666666666666,
          0.75,
          0.8333333333333334,
          0.875,
          0.6666666666666666,
          0.9166666666666666,
          0.7083333333333334,
          0.7916666666666666,
          0.75,
          0.875,
          0.7916666666666666,
          0.8333333333333334,
          0.875,
          0.75,
          0.9166666666666666,
          0.6666666666666666,
          0.75,
          0.7083333333333334,
          0.75,
          0.7916666666666666,
          0.9166666666666666,
          0.7916666666666666,
          0.8333333333333334,
          0.75,
          0.6666666666666666,
          0.9583333333333334,
          0.6666666666666666,
          0.75,
          0.8333333333333334,
          0.7083333333333334,
          0.5833333333333334,
          0.625,
          0.9583333333333334,
          0.7083333333333334,
          0.8333333333333334,
          0.8333333333333334,
          0.7916666666666666,
          0.8333333333333334,
          0.7916666666666666,
          0.8333333333333334,
          0.625,
          0.75,
          0.75,
          0.75,
          0.8333333333333334,
          0.75,
          0.7083333333333334,
          0.8333333333333334,
          0.8333333333333334,
          0.8333333333333334,
          0.875,
          0.7916666666666666,
          0.875,
          0.9166666666666666,
          0.7916666666666666,
          1,
          0.7916666666666666,
          0.875,
          0.8333333333333334,
          0.9166666666666666,
          0.7083333333333334,
          0.7916666666666666,
          0.75,
          0.875,
          0.875,
          0.7916666666666666,
          0.75,
          0.7916666666666666,
          0.7916666666666666,
          0.7916666666666666,
          0.75,
          0.9166666666666666,
          0.7916666666666666,
          0.8333333333333334,
          0.9583333333333334,
          0.875,
          0.9583333333333334,
          0.8333333333333334,
          0.875,
          0.75,
          0.7916666666666666,
          0.7083333333333334,
          0.7916666666666666,
          0.875,
          0.7916666666666666,
          0.875,
          0.6666666666666666,
          0.9583333333333334,
          0.5416666666666666,
          0.8333333333333334,
          0.8333333333333334,
          0.875,
          0.625,
          0.875,
          0.7916666666666666,
          0.8333333333333334,
          0.8333333333333334,
          0.9583333333333334,
          0.8333333333333334,
          0.8333333333333334,
          0.9583333333333334,
          0.875,
          0.9583333333333334,
          0.8333333333333334,
          0.875,
          0.9166666666666666,
          0.7916666666666666,
          0.8333333333333334,
          0.7916666666666666,
          0.7916666666666666,
          0.9166666666666666,
          0.8333333333333334,
          0.875,
          0.7916666666666666,
          0.875,
          0.8333333333333334,
          0.875,
          0.875,
          0.9166666666666666,
          0.9166666666666666,
          0.9166666666666666,
          0.8333333333333334,
          0.9583333333333334,
          0.875,
          0.7916666666666666,
          0.7916666666666666,
          0.875,
          0.9166666666666666,
          0.8333333333333334,
          0.8333333333333334,
          0.625,
          0.75,
          0.75,
          0.6666666666666666,
          0.8333333333333334,
          0.7083333333333334,
          0.875,
          0.8333333333333334,
          0.6666666666666666,
          0.7083333333333334,
          0.7083333333333334,
          0.9166666666666666,
          0.8333333333333334,
          0.7916666666666666,
          0.9166666666666666,
          0.7083333333333334,
          0.9583333333333334,
          0.875,
          0.7083333333333334,
          0.9166666666666666,
          0.7916666666666666,
          0.875,
          0.625,
          0.8333333333333334,
          0.9166666666666666,
          0.75,
          0.7916666666666666,
          0.875,
          0.6666666666666666,
          0.7916666666666666,
          0.5833333333333334,
          0.875,
          0.7916666666666666,
          0.7916666666666666,
          0.6666666666666666,
          0.9166666666666666,
          0.7916666666666666,
          0.75,
          0.75,
          0.75,
          0.8333333333333334,
          0.8333333333333334,
          0.6666666666666666,
          0.875,
          0.9166666666666666,
          0.8333333333333334,
          0.7916666666666666,
          0.875,
          0.8333333333333334,
          0.9166666666666666,
          0.8333333333333334,
          0.5833333333333334,
          0.7916666666666666,
          0.75,
          0.9166666666666666,
          0.7083333333333334,
          0.6666666666666666,
          0.7916666666666666,
          0.6666666666666666,
          0.7916666666666666,
          0.7916666666666666,
          0.75,
          0.7083333333333334,
          0.7083333333333334,
          0.8333333333333334,
          0.75,
          0.75,
          0.75,
          0.6666666666666666,
          0.7916666666666666,
          0.8333333333333334,
          0.8333333333333334,
          0.6666666666666666,
          0.7083333333333334,
          0.7916666666666666,
          0.875,
          0.8333333333333334,
          0.8333333333333334,
          0.75,
          0.75,
          0.8333333333333334,
          0.875,
          0.75,
          0.7083333333333334,
          0.6666666666666666,
          0.9166666666666666,
          0.875,
          0.8333333333333334,
          0.7083333333333334,
          0.75,
          0.75,
          0.875,
          0.6666666666666666,
          0.875,
          0.75,
          0.8333333333333334,
          0.875,
          0.7916666666666666,
          0.875,
          0.5,
          0.875,
          0.8333333333333334,
          0.875,
          0.8333333333333334,
          0.7083333333333334,
          0.875,
          0.8333333333333334,
          0.8333333333333334,
          0.7916666666666666,
          0.8333333333333334,
          0.75,
          0.75,
          0.7916666666666666,
          0.75,
          0.9166666666666666,
          0.7083333333333334,
          0.7083333333333334,
          0.875,
          0.8333333333333334,
          0.6666666666666666,
          0.9166666666666666,
          0.7916666666666666,
          0.7916666666666666,
          0.875,
          0.8333333333333334,
          0.875,
          0.8333333333333334,
          0.875,
          0.7083333333333334,
          0.875,
          0.8333333333333334,
          0.7916666666666666,
          0.875,
          0.75,
          0.9166666666666666,
          1,
          0.875,
          0.8333333333333334,
          0.8333333333333334,
          0.9166666666666666,
          0.9166666666666666,
          0.7916666666666666,
          0.9166666666666666,
          0.75,
          0.9166666666666666,
          0.7916666666666666,
          0.75,
          0.875,
          0.875,
          0.9583333333333334,
          0.6666666666666666,
          0.875,
          0.8333333333333334,
          0.7916666666666666,
          0.8333333333333334,
          0.75,
          0.9166666666666666,
          0.7916666666666666,
          0.7916666666666666,
          0.9583333333333334,
          0.9583333333333334,
          0.7916666666666666,
          0.9583333333333334,
          0.875,
          0.875,
          0.9583333333333334,
          0.9166666666666666,
          0.7916666666666666,
          0.625,
          0.7916666666666666,
          0.9166666666666666,
          0.7916666666666666,
          0.8333333333333334,
          0.7916666666666666,
          0.8333333333333334,
          0.9166666666666666,
          0.9166666666666666,
          0.75,
          0.75,
          0.625,
          0.875,
          0.7916666666666666,
          0.9583333333333334,
          0.7916666666666666,
          0.9583333333333334,
          0.875,
          0.7916666666666666,
          0.875,
          0.7916666666666666,
          0.7916666666666666,
          0.8333333333333334,
          0.7916666666666666,
          0.875,
          0.7916666666666666,
          0.7083333333333334,
          0.7916666666666666,
          0.7083333333333334,
          0.7916666666666666,
          0.9166666666666666,
          0.8333333333333334,
          0.75,
          0.6666666666666666,
          0.75,
          0.9583333333333334,
          0.7916666666666666,
          0.9166666666666666,
          0.6666666666666666,
          0.75,
          0.8333333333333334,
          0.8333333333333334,
          0.7083333333333334,
          0.8333333333333334,
          0.8333333333333334,
          0.7916666666666666,
          0.875,
          0.75,
          0.7916666666666666,
          0.7916666666666666,
          0.875,
          0.6666666666666666,
          0.7916666666666666,
          0.75,
          0.875,
          0.7916666666666666,
          0.875,
          0.8333333333333334,
          0.5416666666666666,
          0.7083333333333334,
          0.8333333333333334,
          0.9583333333333334,
          0.75,
          0.7083333333333334,
          0.9166666666666666,
          0.9166666666666666,
          0.7916666666666666,
          0.875,
          0.75,
          0.8333333333333334,
          0.9166666666666666,
          0.7083333333333334,
          0.7916666666666666,
          0.8333333333333334,
          0.8333333333333334,
          0.5833333333333334,
          0.75,
          0.75,
          0.8333333333333334,
          0.875,
          0.9166666666666666,
          0.9166666666666666,
          0.7916666666666666,
          0.875,
          0.875,
          0.75,
          0.8333333333333334,
          0.875,
          0.625,
          0.8333333333333334,
          0.75,
          1,
          0.7916666666666666,
          0.9583333333333334,
          0.7916666666666666,
          0.8333333333333334,
          0.75,
          0.8333333333333334,
          0.9166666666666666,
          0.8333333333333334,
          0.7916666666666666,
          0.75,
          0.7916666666666666,
          0.9166666666666666,
          0.7083333333333334,
          0.9166666666666666,
          0.875,
          0.75,
          0.8333333333333334,
          0.9166666666666666,
          0.75,
          0.8333333333333334,
          0.7916666666666666,
          0.8333333333333334,
          0.8333333333333334,
          0.875,
          0.9583333333333334,
          0.7083333333333334,
          0.6666666666666666,
          0.875,
          0.9166666666666666,
          0.625,
          0.5,
          0.6666666666666666,
          0.75,
          0.875,
          0.75,
          0.875,
          0.75,
          0.7916666666666666,
          0.8333333333333334,
          0.625,
          0.7916666666666666,
          0.5416666666666666,
          0.6666666666666666,
          0.875,
          0.875,
          0.6666666666666666,
          0.7916666666666666,
          0.8333333333333334,
          0.9166666666666666,
          0.75,
          0.75,
          0.625,
          0.75,
          0.5833333333333334,
          0.6666666666666666,
          0.7083333333333334,
          0.6666666666666666,
          0.7916666666666666,
          0.7916666666666666,
          0.7916666666666666,
          0.875,
          0.875,
          0.75,
          0.8333333333333334,
          0.7916666666666666,
          0.75,
          0.8333333333333334,
          0.7916666666666666,
          0.9166666666666666,
          0.8333333333333334,
          0.8333333333333334,
          0.875,
          0.9166666666666666,
          0.75,
          0.875,
          0.7916666666666666,
          0.8333333333333334,
          0.8333333333333334,
          0.7916666666666666,
          0.7083333333333334,
          0.9166666666666666,
          0.75,
          0.9166666666666666,
          0.9583333333333334,
          0.7916666666666666,
          0.8333333333333334,
          0.7083333333333334,
          0.9166666666666666,
          0.7083333333333334,
          1,
          0.75,
          0.7916666666666666,
          0.6666666666666666,
          0.9583333333333334,
          0.9166666666666666,
          0.7083333333333334,
          0.7916666666666666,
          0.9166666666666666,
          0.7083333333333334,
          0.875,
          0.8333333333333334,
          0.875,
          0.9166666666666666,
          0.7916666666666666,
          0.9166666666666666,
          0.9166666666666666,
          0.8333333333333334,
          0.75,
          0.75,
          0.875,
          0.7916666666666666,
          0.7916666666666666,
          0.7083333333333334,
          0.75,
          0.7083333333333334,
          0.9583333333333334,
          0.875,
          0.875,
          0.8333333333333334,
          0.875,
          0.7916666666666666,
          0.5,
          0.9166666666666666,
          0.9166666666666666,
          0.875,
          0.875,
          0.8333333333333334,
          0.8333333333333334,
          1,
          0.9166666666666666,
          0.7916666666666666,
          0.7083333333333334,
          0.9166666666666666,
          0.875,
          0.5416666666666666,
          0.9166666666666666,
          0.75,
          0.875,
          0.75,
          0.875,
          0.9166666666666666,
          0.8333333333333334,
          0.875,
          0.875,
          0.9166666666666666,
          0.875,
          0.8333333333333334,
          0.9166666666666666,
          0.625,
          0.7083333333333334,
          0.9166666666666666,
          0.75,
          0.9166666666666666,
          0.7083333333333334,
          0.9166666666666666,
          0.8333333333333334,
          0.9166666666666666,
          0.875,
          0.875,
          0.875,
          0.875,
          0.6666666666666666,
          0.9583333333333334,
          0.875,
          0.875,
          0.7916666666666666,
          0.7083333333333334,
          0.6666666666666666,
          0.9166666666666666,
          0.7916666666666666,
          0.8333333333333334,
          0.875,
          0.9166666666666666,
          0.875,
          0.9166666666666666,
          0.875,
          0.875,
          0.9166666666666666,
          0.9166666666666666,
          0.8333333333333334,
          0.75,
          0.5833333333333334,
          0.7916666666666666,
          1,
          0.7916666666666666,
          0.9166666666666666,
          0.8333333333333334,
          0.9166666666666666,
          0.9583333333333334,
          0.8333333333333334,
          0.7083333333333334,
          0.875,
          0.8333333333333334,
          0.5833333333333334,
          0.7916666666666666,
          0.9583333333333334,
          0.9166666666666666,
          0.8333333333333334,
          0.7916666666666666,
          0.6666666666666666,
          0.8333333333333334,
          0.875,
          0.9583333333333334,
          0.875,
          0.6666666666666666,
          0.875,
          0.8333333333333334,
          0.75,
          0.8333333333333334,
          0.7916666666666666,
          0.75,
          0.75,
          0.875,
          0.9583333333333334,
          0.8333333333333334,
          0.875,
          0.9166666666666666,
          0.875,
          0.8333333333333334,
          0.8333333333333334,
          0.625,
          0.8333333333333334,
          0.8333333333333334,
          0.7916666666666666,
          0.75,
          0.9583333333333334,
          0.9166666666666666,
          0.7916666666666666,
          0.9166666666666666,
          0.8333333333333334,
          0.9166666666666666,
          0.875,
          0.7916666666666666,
          0.7916666666666666,
          0.7916666666666666,
          0.7916666666666666,
          0.9166666666666666,
          0.9166666666666666,
          0.8333333333333334,
          0.75,
          0.7916666666666666,
          0.75,
          0.7916666666666666,
          0.9583333333333334,
          0.8333333333333334,
          0.9583333333333334,
          0.875,
          0.6666666666666666,
          0.7916666666666666,
          0.9166666666666666,
          0.7916666666666666,
          0.875,
          0.9166666666666666,
          0.7916666666666666,
          0.7083333333333334,
          0.8333333333333334,
          0.7083333333333334,
          0.875,
          0.9166666666666666,
          0.9166666666666666,
          0.9583333333333334,
          0.875,
          0.9166666666666666,
          0.9583333333333334,
          0.8333333333333334,
          0.75,
          0.75,
          0.75,
          0.8333333333333334,
          0.7916666666666666,
          0.7083333333333334,
          0.9583333333333334,
          0.5416666666666666,
          0.9583333333333334,
          0.8333333333333334,
          0.7916666666666666,
          0.7916666666666666,
          0.875,
          0.75,
          0.875,
          0.7916666666666666,
          0.875,
          0.7916666666666666,
          0.9166666666666666,
          0.75,
          0.9166666666666666,
          0.9166666666666666,
          0.4583333333333333,
          0.8333333333333334,
          0.7916666666666666,
          0.7916666666666666,
          0.9166666666666666,
          0.9166666666666666,
          0.9166666666666666,
          0.9583333333333334,
          0.9583333333333334,
          0.8333333333333334,
          0.875,
          0.8333333333333334,
          0.8333333333333334,
          0.8333333333333334,
          0.8333333333333334,
          0.8333333333333334,
          0.9166666666666666,
          0.875,
          0.8333333333333334,
          0.9166666666666666,
          0.875,
          0.75,
          0.9583333333333334,
          0.875,
          0.875,
          0.625,
          0.8333333333333334,
          0.9166666666666666,
          0.875,
          0.7916666666666666,
          0.9166666666666666,
          0.875,
          0.875,
          0.9583333333333334,
          0.9166666666666666,
          0.7916666666666666,
          0.8333333333333334,
          0.8333333333333334,
          0.75,
          0.8333333333333334,
          0.875,
          0.875,
          0.7083333333333334,
          0.75,
          0.7916666666666666,
          0.7083333333333334,
          0.7916666666666666,
          0.8333333333333334,
          0.875,
          0.9166666666666666,
          0.9166666666666666,
          0.875,
          0.75,
          0.9166666666666666,
          0.6666666666666666,
          0.7083333333333334,
          0.8333333333333334,
          0.6666666666666666,
          0.875,
          0.875,
          0.75,
          0.875,
          0.7916666666666666,
          0.9166666666666666,
          0.75,
          0.5416666666666666,
          0.875,
          0.9583333333333334,
          0.875,
          0.9166666666666666,
          0.875,
          0.8333333333333334,
          0.6666666666666666,
          0.875,
          0.9166666666666666,
          0.9166666666666666,
          0.7916666666666666,
          0.625,
          0.75,
          0.7083333333333334,
          0.7083333333333334,
          1,
          0.9583333333333334,
          0.7083333333333334,
          0.8333333333333334,
          0.9583333333333334,
          0.75,
          0.9583333333333334,
          0.9583333333333334,
          0.875,
          0.875,
          0.7916666666666666,
          0.875,
          0.9166666666666666,
          0.9166666666666666,
          0.7916666666666666,
          0.9166666666666666,
          0.7916666666666666,
          0.875,
          0.875,
          0.7083333333333334,
          0.8333333333333334,
          0.75,
          0.8333333333333334,
          0.7916666666666666,
          0.5416666666666666,
          0.7916666666666666,
          0.75,
          0.7083333333333334,
          0.5416666666666666,
          0.875,
          0.8333333333333334,
          0.8333333333333334,
          0.8333333333333334,
          0.8333333333333334,
          0.7916666666666666,
          0.9166666666666666,
          0.9583333333333334,
          0.75,
          0.9166666666666666,
          0.9166666666666666,
          0.875,
          0.875,
          0.9166666666666666,
          0.5833333333333334,
          0.7916666666666666,
          0.6666666666666666,
          0.875,
          0.875,
          0.875,
          0.9166666666666666,
          0.9583333333333334,
          0.875,
          0.9166666666666666,
          0.8333333333333334,
          0.8333333333333334,
          0.8333333333333334,
          0.7916666666666666,
          0.9166666666666666,
          0.875,
          0.9166666666666666,
          0.75,
          0.8333333333333334,
          0.5416666666666666,
          0.8333333333333334,
          0.7083333333333334,
          0.8333333333333334,
          0.875,
          0.7083333333333334,
          0.875,
          0.9166666666666666,
          0.8333333333333334,
          0.875,
          0.875,
          0.875,
          0.75,
          0.9166666666666666,
          0.8333333333333334,
          0.7916666666666666,
          0.6666666666666666,
          0.5833333333333334,
          0.625,
          0.875,
          0.75,
          0.7916666666666666,
          1,
          0.7916666666666666,
          0.7083333333333334,
          0.7916666666666666,
          0.9166666666666666,
          0.875,
          0.8333333333333334,
          0.8333333333333334,
          0.8333333333333334,
          0.875,
          1,
          0.7916666666666666,
          0.875,
          0.625,
          0.75,
          0.8333333333333334,
          0.8333333333333334,
          0.8333333333333334,
          0.875,
          0.8333333333333334,
          0.8333333333333334,
          0.8333333333333334,
          0.875,
          0.8333333333333334,
          0.7916666666666666,
          0.875,
          0.9166666666666666,
          0.875,
          0.875,
          0.7916666666666666,
          0.75,
          0.9583333333333334,
          0.9166666666666666,
          0.75,
          0.8333333333333334,
          0.75,
          0.875,
          0.9166666666666666,
          0.8333333333333334,
          0.7083333333333334,
          0.9583333333333334,
          0.8333333333333334,
          0.875,
          0.7916666666666666,
          0.875,
          0.875,
          0.875,
          0.7916666666666666,
          0.9166666666666666,
          0.5833333333333334,
          0.8333333333333334,
          0.7916666666666666,
          0.9166666666666666,
          0.8333333333333334,
          0.8333333333333334,
          0.5833333333333334,
          0.875,
          0.9583333333333334,
          0.9166666666666666,
          0.9166666666666666,
          0.9583333333333334,
          0.7083333333333334,
          0.8333333333333334,
          0.5833333333333334,
          0.875,
          0.7916666666666666,
          0.7083333333333334,
          0.875,
          0.9166666666666666,
          0.8333333333333334,
          0.9166666666666666,
          1,
          0.875,
          0.8333333333333334,
          0.8333333333333334,
          0.5416666666666666,
          0.75,
          0.9166666666666666,
          0.7083333333333334,
          0.9583333333333334,
          0.9583333333333334,
          0.9583333333333334,
          0.7916666666666666,
          0.875,
          0.9583333333333334,
          0.8333333333333334,
          0.625,
          0.875,
          0.9166666666666666,
          0.75,
          0.875,
          0.9166666666666666,
          0.9166666666666666,
          0.8333333333333334,
          0.7916666666666666,
          0.8333333333333334,
          0.875,
          0.7916666666666666,
          0.875,
          0.875,
          0.8333333333333334,
          0.8333333333333334,
          0.875,
          0.9583333333333334,
          0.875,
          0.8333333333333334,
          0.8333333333333334,
          0.7916666666666666,
          0.875,
          0.75,
          0.9166666666666666,
          0.875,
          0.7916666666666666,
          0.7083333333333334,
          0.9166666666666666,
          0.7916666666666666,
          0.7916666666666666,
          0.9166666666666666,
          0.625,
          0.9583333333333334,
          0.875,
          0.7083333333333334,
          0.6666666666666666,
          0.8333333333333334,
          0.9166666666666666,
          0.9583333333333334,
          0.9583333333333334,
          0.875,
          0.875,
          0.875,
          0.625,
          0.9166666666666666,
          0.75,
          0.9166666666666666,
          0.7916666666666666,
          0.75,
          0.875,
          0.8333333333333334,
          0.7916666666666666,
          0.75,
          0.875,
          0.7916666666666666,
          0.8333333333333334,
          0.875,
          0.875,
          0.875,
          0.875,
          0.9166666666666666,
          0.6666666666666666,
          0.8333333333333334,
          0.9583333333333334,
          0.875,
          0.9583333333333334,
          0.9166666666666666,
          0.6666666666666666,
          0.625,
          0.9166666666666666,
          0.9583333333333334,
          0.7916666666666666,
          0.8333333333333334,
          0.9166666666666666,
          0.8333333333333334,
          0.875,
          0.9166666666666666,
          0.8333333333333334,
          0.875,
          0.875,
          0.875,
          0.875,
          0.9166666666666666,
          0.7916666666666666,
          0.9583333333333334,
          0.875,
          0.9166666666666666,
          0.9583333333333334,
          0.9166666666666666,
          0.875,
          0.875,
          0.8333333333333334,
          0.7916666666666666,
          0.7916666666666666,
          1,
          0.7916666666666666,
          0.9583333333333334,
          0.875,
          0.7083333333333334,
          0.625,
          0.9583333333333334,
          0.7083333333333334,
          0.5416666666666666,
          0.7916666666666666,
          0.9166666666666666,
          0.7916666666666666,
          0.8333333333333334,
          0.8333333333333334,
          0.7916666666666666,
          0.875,
          1,
          0.9166666666666666,
          0.75,
          0.8333333333333334,
          0.875,
          0.9166666666666666,
          0.7916666666666666,
          0.9583333333333334,
          0.7916666666666666,
          0.875,
          0.8333333333333334,
          0.9583333333333334,
          0.875,
          0.75,
          0.9166666666666666,
          0.8333333333333334,
          0.875,
          0.9583333333333334,
          0.9166666666666666,
          0.9166666666666666,
          0.9166666666666666,
          0.7916666666666666,
          0.7083333333333334,
          0.875,
          1,
          0.8333333333333334,
          0.875,
          0.8333333333333334,
          0.8333333333333334,
          0.5833333333333334,
          0.875,
          0.8333333333333334,
          0.8333333333333334,
          0.875,
          1,
          0.875,
          0.5,
          0.75,
          0.9166666666666666,
          0.875,
          0.7916666666666666,
          0.7916666666666666,
          0.875,
          0.9166666666666666,
          0.875,
          0.9166666666666666,
          0.7916666666666666,
          0.7916666666666666,
          0.9166666666666666,
          0.875,
          0.9166666666666666,
          0.5833333333333334,
          0.5833333333333334,
          0.8333333333333334,
          0.875,
          0.8333333333333334,
          0.9166666666666666,
          0.8333333333333334,
          0.75,
          0.9166666666666666,
          0.8333333333333334,
          0.7083333333333334,
          0.7916666666666666,
          0.8333333333333334,
          0.6666666666666666,
          0.75,
          0.75,
          0.875,
          0.6666666666666666,
          0.7083333333333334,
          0.8333333333333334,
          0.9583333333333334,
          0.875,
          0.9166666666666666,
          0.875,
          0.9583333333333334,
          0.8333333333333334,
          0.875,
          0.9583333333333334,
          0.8333333333333334,
          0.7916666666666666,
          0.9583333333333334,
          0.7916666666666666,
          0.9583333333333334,
          0.8333333333333334,
          0.6666666666666666,
          0.9583333333333334,
          0.7916666666666666,
          0.875,
          0.7916666666666666,
          0.7916666666666666,
          0.7916666666666666,
          0.8333333333333334,
          0.6666666666666666,
          0.9583333333333334,
          0.75,
          0.6666666666666666,
          0.7083333333333334,
          0.8333333333333334,
          0.6666666666666666,
          0.8333333333333334,
          0.8333333333333334,
          0.9583333333333334,
          0.75,
          0.7083333333333334,
          1,
          0.9583333333333334,
          1,
          0.9583333333333334,
          0.875,
          0.625,
          1,
          0.875,
          0.6666666666666666,
          0.875,
          0.8333333333333334,
          0.875,
          0.875,
          0.9166666666666666,
          0.875,
          0.7916666666666666,
          1,
          0.875,
          0.7916666666666666,
          0.9166666666666666,
          0.8333333333333334,
          0.9166666666666666,
          1,
          0.7916666666666666,
          0.7916666666666666,
          0.7916666666666666,
          0.9166666666666666,
          0.875,
          0.875,
          1,
          0.8333333333333334,
          0.75,
          0.8333333333333334,
          0.9583333333333334,
          0.9166666666666666,
          0.9166666666666666,
          0.875,
          0.7916666666666666,
          0.875,
          1,
          0.75,
          0.9166666666666666,
          0.875,
          0.9583333333333334,
          0.6666666666666666,
          0.875,
          0.8333333333333334,
          0.9166666666666666,
          0.9583333333333334,
          0.9583333333333334,
          0.75,
          0.7916666666666666,
          0.9166666666666666,
          0.8333333333333334,
          0.875,
          0.7916666666666666,
          0.7083333333333334,
          1,
          0.9166666666666666,
          0.8333333333333334,
          0.9166666666666666,
          0.7916666666666666,
          0.9583333333333334,
          0.9166666666666666,
          0.9166666666666666,
          0.8333333333333334,
          0.8333333333333334,
          0.75,
          1,
          0.9166666666666666,
          0.9166666666666666,
          0.8333333333333334,
          0.875,
          0.9166666666666666,
          0.875,
          0.9166666666666666,
          0.75,
          0.875,
          1,
          0.75,
          0.7083333333333334,
          0.875,
          0.75,
          0.7916666666666666,
          0.875,
          0.9583333333333334,
          0.7916666666666666,
          0.8333333333333334,
          1,
          0.625,
          0.9166666666666666,
          0.8333333333333334,
          0.7916666666666666,
          0.9166666666666666,
          0.9583333333333334,
          0.7916666666666666,
          0.8333333333333334,
          0.7916666666666666,
          0.8333333333333334,
          0.8333333333333334,
          0.875,
          0.75,
          0.9583333333333334,
          0.9166666666666666,
          0.9583333333333334,
          0.875,
          0.75,
          0.75,
          0.875,
          0.7916666666666666,
          0.7083333333333334,
          0.9166666666666666,
          0.8333333333333334,
          0.7916666666666666,
          0.8333333333333334,
          0.7916666666666666,
          0.875,
          0.875,
          0.75,
          0.8333333333333334,
          0.9583333333333334,
          0.9166666666666666,
          0.7916666666666666,
          0.7916666666666666,
          0.8333333333333334,
          0.8333333333333334,
          0.7916666666666666,
          0.7916666666666666,
          0.875,
          0.6666666666666666,
          0.8333333333333334,
          0.875,
          0.9583333333333334,
          0.8333333333333334,
          0.9166666666666666,
          0.9166666666666666,
          0.9166666666666666,
          0.875,
          0.9583333333333334,
          0.9166666666666666,
          0.7916666666666666,
          0.7916666666666666,
          1,
          0.875,
          0.9583333333333334,
          0.875,
          0.8333333333333334,
          0.9166666666666666,
          0.6666666666666666,
          0.9166666666666666,
          0.7916666666666666,
          0.8333333333333334,
          0.8333333333333334,
          0.9583333333333334,
          0.9166666666666666,
          1,
          0.8333333333333334,
          0.875,
          0.8333333333333334,
          0.75,
          0.9583333333333334,
          0.8333333333333334,
          0.875,
          0.875,
          0.8333333333333334,
          0.7083333333333334,
          0.75,
          0.875,
          0.875,
          1,
          0.9583333333333334,
          0.9583333333333334,
          0.875,
          0.7916666666666666,
          0.9166666666666666,
          0.9583333333333334,
          0.7916666666666666,
          0.9583333333333334,
          0.7916666666666666,
          0.9166666666666666,
          0.875,
          0.875,
          0.7916666666666666,
          0.9583333333333334,
          0.9166666666666666,
          0.6666666666666666,
          0.75,
          0.8333333333333334,
          0.75,
          0.875,
          0.9583333333333334,
          0.9583333333333334,
          0.875,
          0.9166666666666666,
          0.7916666666666666,
          0.8333333333333334,
          0.9583333333333334,
          0.8333333333333334,
          0.875,
          0.875,
          0.7916666666666666,
          0.875,
          0.9166666666666666,
          0.9166666666666666,
          0.875,
          0.9166666666666666,
          0.8333333333333334,
          0.8333333333333334,
          0.6666666666666666,
          0.9583333333333334,
          0.9166666666666666,
          0.8333333333333334,
          0.9166666666666666,
          0.8333333333333334,
          0.9166666666666666,
          0.8333333333333334,
          0.9166666666666666,
          0.5833333333333334,
          0.7083333333333334,
          0.9583333333333334,
          0.9166666666666666,
          0.875,
          0.875,
          0.8333333333333334,
          0.9583333333333334,
          0.9166666666666666,
          0.75,
          0.875,
          0.75,
          1,
          0.9166666666666666,
          0.7083333333333334,
          0.875,
          0.875,
          0.8333333333333334,
          0.9583333333333334,
          0.6666666666666666,
          0.75,
          0.875,
          0.7916666666666666,
          0.9166666666666666,
          0.9583333333333334,
          0.7083333333333334,
          0.8333333333333334,
          0.875,
          0.8333333333333334,
          0.7083333333333334,
          0.8333333333333334,
          0.875,
          0.75,
          0.9166666666666666,
          1,
          0.7916666666666666,
          0.7916666666666666,
          0.7916666666666666,
          0.875,
          0.9166666666666666,
          0.875,
          0.9583333333333334,
          0.8333333333333334,
          0.9166666666666666,
          0.9583333333333334,
          0.8333333333333334,
          0.75,
          0.9166666666666666,
          0.9583333333333334,
          0.625,
          0.75,
          0.9166666666666666,
          0.9166666666666666,
          0.9583333333333334,
          0.9166666666666666,
          0.7916666666666666,
          0.9166666666666666,
          0.7083333333333334,
          0.9166666666666666,
          0.7083333333333334,
          0.875,
          0.875,
          0.8333333333333334,
          0.9166666666666666,
          0.9166666666666666,
          0.8333333333333334,
          0.9166666666666666,
          0.6666666666666666,
          0.8333333333333334,
          0.75,
          0.875,
          0.8333333333333334,
          0.875,
          0.9166666666666666,
          0.9166666666666666,
          1,
          0.8333333333333334,
          0.9166666666666666,
          0.9166666666666666,
          0.9166666666666666,
          0.8333333333333334,
          0.9166666666666666,
          0.875,
          0.8333333333333334,
          0.75,
          0.875,
          0.7083333333333334,
          0.8333333333333334,
          0.9166666666666666,
          0.875,
          0.7916666666666666,
          0.9166666666666666,
          0.875,
          0.625,
          0.8333333333333334,
          0.9166666666666666,
          0.75,
          0.8333333333333334,
          0.875,
          0.7916666666666666,
          0.9166666666666666,
          0.9583333333333334,
          0.875,
          0.8333333333333334,
          0.5416666666666666,
          0.8333333333333334,
          0.7916666666666666,
          1,
          0.8333333333333334,
          0.7916666666666666,
          1,
          0.9166666666666666,
          0.9583333333333334,
          0.9583333333333334,
          0.9583333333333334,
          0.8333333333333334,
          0.9166666666666666,
          1,
          0.8333333333333334,
          0.8333333333333334,
          0.9166666666666666,
          0.7916666666666666,
          0.7083333333333334,
          0.9583333333333334,
          0.75,
          0.7916666666666666,
          0.7083333333333334,
          0.9166666666666666,
          0.7916666666666666,
          0.9166666666666666,
          0.75,
          0.9583333333333334,
          0.75,
          0.8333333333333334,
          0.7916666666666666,
          0.9166666666666666,
          0.5833333333333334,
          0.9166666666666666,
          0.9583333333333334,
          0.7083333333333334,
          0.7083333333333334,
          0.5833333333333334,
          0.875,
          0.8333333333333334,
          0.8333333333333334,
          0.9583333333333334,
          0.875,
          0.9166666666666666,
          0.875,
          0.9166666666666666,
          0.9166666666666666,
          0.5416666666666666,
          0.8333333333333334,
          0.9583333333333334,
          0.9166666666666666,
          0.875,
          0.875,
          0.9166666666666666,
          0.875,
          0.6666666666666666,
          0.7916666666666666,
          1,
          0.9583333333333334,
          0.9583333333333334,
          0.75,
          0.75,
          0.9166666666666666,
          0.7083333333333334,
          0.7083333333333334,
          0.8333333333333334,
          0.875,
          0.6666666666666666,
          0.9583333333333334,
          0.6666666666666666,
          0.75,
          0.9166666666666666,
          0.875,
          0.875,
          0.7916666666666666,
          0.875,
          0.9166666666666666,
          0.9166666666666666,
          0.875,
          0.9166666666666666,
          0.9166666666666666,
          0.8333333333333334,
          0.75,
          0.7916666666666666,
          0.7916666666666666,
          0.75,
          0.8333333333333334,
          0.9583333333333334,
          0.875,
          0.9166666666666666,
          0.9166666666666666,
          0.8333333333333334,
          0.8333333333333334,
          0.7916666666666666,
          0.75,
          0.9166666666666666,
          1,
          0.9166666666666666,
          0.9166666666666666,
          0.8333333333333334,
          0.9583333333333334,
          0.7916666666666666,
          0.9166666666666666,
          0.9166666666666666,
          0.7916666666666666,
          0.9166666666666666,
          0.875,
          0.7916666666666666,
          0.9166666666666666,
          0.875,
          0.5416666666666666,
          0.9166666666666666,
          0.9583333333333334,
          0.9583333333333334,
          0.7083333333333334,
          0.9166666666666666,
          0.9166666666666666,
          0.9583333333333334,
          0.875,
          0.6666666666666666,
          0.4583333333333333,
          0.875,
          0.8333333333333334,
          0.9166666666666666,
          0.7083333333333334,
          0.75,
          0.9583333333333334,
          0.9583333333333334,
          0.875,
          1,
          0.8333333333333334,
          0.9166666666666666,
          0.875,
          0.875,
          0.9166666666666666,
          0.7916666666666666,
          0.7083333333333334,
          0.8333333333333334,
          0.6666666666666666,
          0.875,
          0.7916666666666666,
          0.875,
          0.9166666666666666,
          0.9583333333333334,
          0.8333333333333334,
          0.875,
          0.875,
          0.9583333333333334,
          0.875,
          0.875,
          0.7916666666666666,
          1,
          0.875,
          0.8333333333333334,
          0.9583333333333334,
          0.8333333333333334,
          0.8333333333333334,
          0.9166666666666666,
          0.9166666666666666,
          0.75,
          0.7916666666666666,
          0.6666666666666666,
          0.8333333333333334,
          0.875,
          0.9583333333333334,
          0.9583333333333334,
          0.5416666666666666,
          0.875,
          0.875,
          0.9583333333333334,
          0.875,
          0.7083333333333334,
          0.9583333333333334,
          0.6666666666666666,
          0.9166666666666666,
          0.5416666666666666,
          0.875,
          0.875,
          0.8333333333333334,
          0.7916666666666666,
          0.8333333333333334,
          0.9166666666666666,
          0.6666666666666666,
          0.625,
          0.7083333333333334,
          0.7916666666666666,
          0.9166666666666666,
          0.7083333333333334,
          0.5833333333333334,
          0.7916666666666666,
          0.8333333333333334,
          0.8333333333333334,
          0.7916666666666666,
          0.6666666666666666,
          0.9583333333333334,
          0.5,
          0.75,
          0.8333333333333334,
          0.75,
          0.75,
          0.875,
          0.9583333333333334,
          0.75,
          0.8333333333333334,
          0.75,
          0.9166666666666666,
          0.875,
          0.9166666666666666,
          0.875,
          0.625,
          0.7916666666666666,
          0.9583333333333334,
          0.7916666666666666,
          0.9583333333333334,
          0.875,
          0.9166666666666666,
          0.8333333333333334,
          0.6666666666666666,
          0.7916666666666666,
          0.7916666666666666,
          0.9166666666666666,
          0.875,
          0.9166666666666666,
          0.875,
          0.875,
          0.7916666666666666,
          0.8333333333333334,
          0.9166666666666666,
          0.8333333333333334,
          0.9166666666666666,
          0.9166666666666666,
          0.5,
          0.75,
          0.8333333333333334,
          0.7083333333333334,
          0.8333333333333334,
          0.75,
          0.625,
          0.7916666666666666,
          0.9166666666666666,
          0.7916666666666666,
          0.8333333333333334,
          0.7916666666666666,
          0.8333333333333334,
          0.9583333333333334,
          0.75,
          0.8333333333333334,
          0.7916666666666666,
          0.9166666666666666,
          0.7916666666666666,
          0.8333333333333334,
          0.7916666666666666,
          0.7916666666666666,
          0.8333333333333334,
          0.7083333333333334,
          0.875,
          0.625,
          0.8333333333333334,
          0.875,
          0.875,
          0.9166666666666666,
          0.7916666666666666,
          0.7083333333333334,
          0.7916666666666666,
          0.875,
          1,
          0.9583333333333334,
          0.8333333333333334,
          0.8333333333333334,
          0.9166666666666666,
          0.625,
          0.75,
          0.7916666666666666,
          0.875,
          0.8333333333333334,
          0.9583333333333334,
          0.75,
          0.8333333333333334,
          0.875,
          0.9166666666666666,
          0.875,
          0.75,
          0.875,
          0.8333333333333334,
          0.875,
          0.9166666666666666,
          0.7916666666666666,
          0.9166666666666666,
          0.7916666666666666,
          0.875,
          0.875,
          0.8333333333333334,
          0.9166666666666666,
          0.8333333333333334,
          0.8333333333333334,
          0.9166666666666666,
          0.7916666666666666,
          0.6666666666666666,
          0.7916666666666666,
          0.875,
          0.7916666666666666,
          0.9166666666666666,
          0.875,
          0.875,
          0.9166666666666666,
          0.5416666666666666,
          0.875,
          1,
          1,
          0.75,
          0.9583333333333334,
          0.875,
          0.9166666666666666,
          0.8333333333333334,
          0.9583333333333334,
          0.6666666666666666,
          0.875,
          0.7916666666666666,
          0.8333333333333334,
          0.7916666666666666,
          0.875,
          0.7916666666666666,
          0.8333333333333334,
          0.7916666666666666,
          0.875,
          0.9583333333333334,
          0.9583333333333334,
          0.7916666666666666,
          0.9583333333333334,
          0.8333333333333334,
          0.9166666666666666,
          0.7083333333333334,
          0.8333333333333334,
          0.9583333333333334,
          1,
          0.875,
          0.7916666666666666,
          0.8333333333333334,
          0.7083333333333334,
          0.9583333333333334,
          0.9166666666666666,
          0.7083333333333334,
          0.875,
          0.875,
          0.75,
          0.9166666666666666,
          0.625,
          0.9166666666666666,
          0.9166666666666666,
          0.8333333333333334,
          0.8333333333333334,
          0.7916666666666666,
          0.875,
          0.875,
          0.9583333333333334,
          0.8333333333333334,
          0.875,
          0.7916666666666666,
          0.875,
          0.8333333333333334,
          0.7916666666666666,
          0.75,
          0.9166666666666666,
          0.9166666666666666,
          0.875,
          0.9166666666666666,
          0.875,
          0.9583333333333334,
          0.9166666666666666,
          0.875,
          0.8333333333333334,
          0.9166666666666666,
          0.875,
          0.8333333333333334,
          0.8333333333333334,
          0.9166666666666666,
          0.875,
          0.75,
          0.875,
          0.875,
          0.8333333333333334,
          1,
          0.875,
          0.875,
          0.9583333333333334,
          0.9166666666666666,
          0.8333333333333334,
          0.6666666666666666,
          0.8333333333333334,
          0.875,
          0.875,
          0.9583333333333334,
          0.75,
          0.8333333333333334,
          0.8333333333333334,
          0.9583333333333334,
          0.9166666666666666,
          0.875,
          0.875,
          0.8333333333333334,
          0.875,
          0.875,
          0.9166666666666666,
          0.9583333333333334,
          0.7083333333333334,
          0.8333333333333334,
          0.7916666666666666,
          0.7083333333333334,
          0.9166666666666666,
          0.8333333333333334,
          0.6666666666666666,
          0.9166666666666666,
          0.875,
          0.9166666666666666,
          0.9166666666666666,
          0.8333333333333334,
          0.8333333333333334,
          0.9166666666666666,
          0.9583333333333334,
          0.9166666666666666,
          0.6666666666666666,
          0.8333333333333334,
          0.875,
          0.875,
          0.9583333333333334,
          0.875,
          0.75,
          1,
          0.875,
          0.8333333333333334,
          0.8333333333333334,
          0.875,
          0.9166666666666666,
          0.9583333333333334,
          0.875,
          0.7916666666666666,
          0.875,
          0.9166666666666666,
          0.875,
          0.9583333333333334,
          0.875,
          0.7916666666666666,
          0.875,
          0.7916666666666666,
          0.8333333333333334,
          0.9166666666666666,
          0.7916666666666666,
          0.875,
          0.875,
          0.7916666666666666,
          0.7916666666666666,
          0.7083333333333334,
          0.8333333333333334,
          0.875,
          0.875,
          0.75,
          0.875,
          0.9583333333333334,
          0.8333333333333334,
          0.9166666666666666,
          0.8333333333333334,
          0.9166666666666666,
          0.8333333333333334,
          0.8333333333333334,
          1,
          0.7916666666666666,
          0.8333333333333334,
          0.9166666666666666,
          0.875,
          0.875,
          0.9166666666666666,
          0.7916666666666666,
          0.9166666666666666,
          0.7916666666666666,
          0.75,
          0.9583333333333334,
          0.875,
          0.8333333333333334,
          0.9166666666666666,
          0.7083333333333334,
          0.875,
          0.6666666666666666,
          0.9583333333333334,
          0.7083333333333334,
          0.625,
          0.875,
          0.7916666666666666,
          0.9166666666666666,
          0.8333333333333334,
          0.8333333333333334,
          0.7916666666666666,
          0.75,
          0.7916666666666666,
          0.8333333333333334,
          0.9166666666666666,
          0.9166666666666666,
          0.9166666666666666,
          0.8333333333333334,
          0.9583333333333334,
          0.9166666666666666,
          0.6666666666666666,
          0.875,
          0.7916666666666666,
          0.875,
          0.9166666666666666,
          0.9166666666666666,
          0.8333333333333334,
          0.8333333333333334,
          1,
          0.6666666666666666,
          0.9166666666666666,
          0.9166666666666666,
          0.5833333333333334,
          0.7916666666666666,
          0.75,
          0.9166666666666666,
          0.7916666666666666,
          0.8333333333333334,
          0.9166666666666666,
          0.75,
          0.7083333333333334,
          0.8333333333333334,
          0.8333333333333334,
          0.9166666666666666,
          0.7916666666666666,
          0.8333333333333334,
          0.9583333333333334,
          0.7916666666666666,
          0.875,
          0.7916666666666666,
          0.8333333333333334,
          0.875,
          0.8333333333333334,
          0.7083333333333334,
          0.8333333333333334,
          0.875,
          0.875,
          0.875,
          0.7916666666666666,
          1,
          0.875,
          0.9583333333333334,
          0.9166666666666666,
          0.7916666666666666,
          0.7916666666666666,
          0.7083333333333334,
          0.75,
          0.75,
          0.9583333333333334,
          0.8333333333333334,
          0.7916666666666666,
          0.875,
          0.875,
          0.8333333333333334,
          0.875,
          0.9166666666666666,
          0.9166666666666666,
          0.9166666666666666,
          0.875,
          0.7916666666666666,
          0.875,
          0.9583333333333334,
          0.7916666666666666,
          0.5833333333333334,
          0.9166666666666666,
          0.7083333333333334,
          0.7916666666666666,
          0.9166666666666666,
          0.875,
          0.75,
          0.7083333333333334,
          0.9166666666666666,
          0.8333333333333334,
          0.9583333333333334,
          1,
          0.875,
          0.7083333333333334,
          0.75,
          0.5833333333333334,
          0.7083333333333334,
          0.8333333333333334,
          0.8333333333333334,
          0.7916666666666666,
          0.875,
          0.8333333333333334,
          0.8333333333333334,
          0.75,
          0.7916666666666666,
          0.9166666666666666,
          0.875,
          0.9166666666666666,
          0.7916666666666666,
          0.7083333333333334,
          0.875,
          0.7916666666666666,
          0.8333333333333334,
          0.75,
          0.8333333333333334,
          0.9166666666666666,
          0.875,
          0.9166666666666666,
          0.75,
          0.8333333333333334,
          0.75,
          0.5833333333333334,
          0.8333333333333334,
          0.75,
          0.875,
          0.9166666666666666,
          0.9166666666666666,
          0.875,
          0.6666666666666666,
          0.7916666666666666,
          0.9583333333333334,
          0.75,
          0.9166666666666666,
          0.8333333333333334,
          0.875,
          0.7916666666666666,
          0.9166666666666666,
          0.875,
          1,
          0.6666666666666666,
          0.8333333333333334,
          0.75,
          0.75,
          0.9583333333333334,
          0.875,
          0.7916666666666666,
          0.875,
          0.9166666666666666,
          0.875,
          0.875,
          0.75,
          0.8333333333333334,
          0.9583333333333334,
          0.875,
          0.9583333333333334,
          0.8333333333333334,
          0.875,
          0.7916666666666666,
          0.75,
          0.75,
          0.7916666666666666,
          0.8333333333333334,
          0.875,
          0.875,
          0.7083333333333334,
          0.6666666666666666,
          0.7916666666666666,
          0.8333333333333334,
          0.7083333333333334,
          0.8333333333333334,
          0.75,
          0.9583333333333334,
          0.875,
          0.7083333333333334,
          0.7916666666666666,
          0.8333333333333334,
          0.875,
          0.9166666666666666,
          0.7916666666666666,
          0.8333333333333334,
          0.8333333333333334,
          0.7083333333333334,
          0.8333333333333334,
          0.5416666666666666,
          0.875,
          0.8333333333333334,
          0.875,
          0.6666666666666666,
          0.75,
          0.7916666666666666,
          0.875,
          0.875,
          0.875,
          0.9166666666666666,
          0.875,
          0.875,
          0.7916666666666666,
          0.8333333333333334,
          0.75,
          0.7083333333333334,
          0.9166666666666666,
          0.6666666666666666,
          0.625,
          0.625,
          0.7083333333333334,
          0.75,
          0.7916666666666666,
          0.9166666666666666,
          0.75,
          0.7083333333333334,
          0.7083333333333334,
          0.8333333333333334,
          0.8333333333333334,
          0.9583333333333334,
          0.7916666666666666,
          0.875,
          1,
          0.75,
          0.75,
          0.75,
          0.7916666666666666,
          0.7916666666666666,
          0.7916666666666666,
          0.875,
          0.9583333333333334,
          0.8333333333333334,
          0.9583333333333334,
          0.9166666666666666,
          0.8333333333333334,
          0.8333333333333334,
          0.875,
          0.9166666666666666,
          0.7916666666666666,
          0.9166666666666666,
          0.875,
          0.875,
          0.9166666666666666,
          0.7083333333333334,
          0.7916666666666666,
          0.7916666666666666,
          0.75,
          0.7916666666666666,
          0.625,
          0.75,
          0.9583333333333334,
          0.9583333333333334,
          0.875,
          0.8333333333333334,
          0.5833333333333334,
          0.875,
          0.9583333333333334,
          0.875,
          0.875,
          0.75,
          0.75,
          0.9166666666666666,
          0.8333333333333334,
          0.875,
          0.9166666666666666,
          0.7083333333333334,
          0.7916666666666666,
          0.8333333333333334,
          0.8333333333333334,
          1,
          0.8333333333333334,
          0.75,
          0.7916666666666666,
          0.9166666666666666,
          0.8333333333333334,
          0.9166666666666666,
          0.9166666666666666,
          0.875,
          0.8333333333333334,
          0.9166666666666666,
          0.7083333333333334,
          0.8333333333333334,
          1,
          0.875,
          0.9166666666666666,
          0.875,
          0.8333333333333334,
          0.875,
          0.875,
          0.8333333333333334,
          0.75,
          0.8333333333333334,
          0.7916666666666666,
          0.75,
          0.7916666666666666,
          0.8333333333333334,
          0.9166666666666666,
          0.8333333333333334,
          0.7916666666666666,
          0.9166666666666666,
          0.6666666666666666,
          0.7916666666666666,
          0.75,
          0.8333333333333334,
          0.8333333333333334,
          0.7916666666666666,
          0.8333333333333334,
          0.7916666666666666,
          0.875,
          0.875,
          0.8333333333333334,
          0.7916666666666666,
          0.875,
          0.9583333333333334,
          0.9583333333333334,
          0.875,
          0.9583333333333334,
          0.9166666666666666,
          0.875,
          0.7916666666666666,
          0.8333333333333334,
          0.8333333333333334,
          0.7916666666666666,
          0.9166666666666666,
          0.8333333333333334,
          0.7083333333333334,
          0.7916666666666666,
          0.8333333333333334,
          0.8333333333333334,
          0.5833333333333334,
          0.8333333333333334,
          0.9583333333333334,
          0.75,
          0.875,
          0.9166666666666666,
          1,
          0.7083333333333334,
          0.8333333333333334,
          0.9166666666666666,
          0.7083333333333334,
          0.8333333333333334,
          0.8333333333333334,
          0.9583333333333334,
          0.8333333333333334,
          0.875,
          0.875,
          0.6666666666666666,
          0.75,
          0.9166666666666666,
          0.875,
          0.875,
          0.8333333333333334,
          0.875,
          0.75,
          0.9583333333333334,
          1,
          0.875,
          0.9166666666666666,
          0.875,
          0.8333333333333334,
          0.875,
          0.7083333333333334,
          0.875,
          0.8333333333333334,
          0.9583333333333334,
          0.9166666666666666,
          0.75,
          1,
          0.75,
          0.7916666666666666,
          0.9166666666666666,
          0.75,
          0.875,
          1,
          0.9166666666666666,
          0.8333333333333334,
          0.875,
          0.7083333333333334,
          0.9166666666666666,
          0.7083333333333334,
          0.9166666666666666,
          0.7916666666666666,
          0.7916666666666666,
          0.9166666666666666,
          0.9583333333333334,
          0.875,
          0.7916666666666666,
          0.7916666666666666,
          0.7916666666666666,
          0.7916666666666666,
          0.7916666666666666,
          0.8333333333333334,
          0.8333333333333334,
          0.875,
          0.875,
          0.875,
          0.7916666666666666,
          0.875,
          0.7916666666666666,
          0.8333333333333334,
          0.9166666666666666,
          0.9583333333333334,
          0.5416666666666666,
          0.75,
          0.9583333333333334,
          0.9166666666666666,
          0.7916666666666666,
          0.9166666666666666,
          0.7083333333333334,
          0.75,
          0.875,
          0.875,
          0.8333333333333334,
          0.8333333333333334,
          0.9583333333333334,
          0.7083333333333334,
          0.8333333333333334,
          0.7083333333333334,
          0.9166666666666666,
          0.75,
          0.8333333333333334,
          0.875,
          0.875,
          0.8333333333333334,
          0.75,
          0.9583333333333334,
          0.875,
          0.7083333333333334,
          0.6666666666666666,
          0.875,
          0.8333333333333334,
          0.8333333333333334,
          0.625,
          0.875,
          0.8333333333333334,
          0.875,
          0.5833333333333334,
          0.8333333333333334,
          0.8333333333333334,
          0.875,
          0.875,
          0.9166666666666666,
          0.75,
          0.7083333333333334,
          0.8333333333333334,
          0.875,
          0.9583333333333334,
          0.875,
          0.7916666666666666,
          0.9166666666666666,
          1,
          0.9583333333333334,
          0.875,
          0.7083333333333334,
          0.8333333333333334,
          0.9583333333333334,
          0.9583333333333334,
          0.875,
          0.75,
          0.9166666666666666,
          0.8333333333333334,
          0.9583333333333334,
          0.75,
          0.9166666666666666,
          0.875,
          0.8333333333333334,
          0.625,
          0.7083333333333334,
          0.9583333333333334,
          0.8333333333333334,
          0.9166666666666666,
          0.7916666666666666,
          0.8333333333333334,
          0.875,
          0.75,
          0.9166666666666666,
          0.8333333333333334,
          0.7083333333333334,
          0.9166666666666666,
          0.7916666666666666,
          0.7916666666666666,
          0.9166666666666666,
          0.8333333333333334,
          0.8333333333333334,
          0.9166666666666666,
          0.7916666666666666,
          1,
          0.9166666666666666,
          0.75,
          0.9166666666666666,
          0.875,
          0.875,
          0.9166666666666666,
          0.875,
          0.875,
          0.875,
          0.5416666666666666,
          0.875,
          0.6666666666666666,
          0.75,
          0.9166666666666666,
          0.8333333333333334,
          0.875,
          0.7916666666666666,
          0.75,
          0.7916666666666666,
          0.7083333333333334,
          1,
          0.875,
          0.7916666666666666,
          0.875,
          0.875,
          0.9583333333333334,
          0.9583333333333334,
          0.8333333333333334,
          0.9166666666666666,
          0.875,
          1,
          0.9166666666666666,
          0.7916666666666666,
          0.7916666666666666,
          0.9166666666666666,
          0.9166666666666666,
          0.7916666666666666,
          0.8333333333333334,
          0.8333333333333334,
          1,
          0.7916666666666666,
          0.7083333333333334,
          0.7083333333333334,
          0.75,
          0.7916666666666666,
          0.9583333333333334,
          0.9166666666666666,
          0.9166666666666666,
          0.8333333333333334,
          0.875,
          0.75,
          0.8333333333333334,
          0.9166666666666666,
          0.8333333333333334,
          0.9583333333333334,
          0.8333333333333334,
          0.7916666666666666,
          0.875,
          0.7916666666666666,
          0.9166666666666666,
          0.7083333333333334,
          0.9166666666666666,
          0.8333333333333334,
          0.8333333333333334,
          0.9166666666666666,
          0.7916666666666666,
          0.75,
          0.875,
          0.75,
          0.75,
          0.8333333333333334,
          0.75,
          0.9583333333333334,
          0.9583333333333334,
          0.9583333333333334,
          0.9166666666666666,
          0.8333333333333334,
          0.8333333333333334,
          0.7083333333333334,
          0.9166666666666666,
          0.8333333333333334,
          0.8333333333333334,
          0.8333333333333334,
          0.875,
          0.7916666666666666,
          0.7083333333333334,
          0.9583333333333334,
          0.6666666666666666,
          0.8333333333333334,
          0.9583333333333334,
          0.8333333333333334,
          0.8333333333333334,
          0.8333333333333334,
          0.875,
          0.875,
          0.9583333333333334,
          0.8333333333333334,
          0.875,
          0.8333333333333334,
          0.6666666666666666,
          0.8333333333333334,
          0.7916666666666666,
          0.9583333333333334,
          0.75,
          0.9166666666666666,
          0.8333333333333334,
          1,
          0.8333333333333334,
          0.875,
          0.875,
          0.8333333333333334,
          0.9166666666666666,
          0.875,
          0.875,
          0.8333333333333334,
          0.7916666666666666,
          0.9166666666666666,
          0.75,
          0.9166666666666666,
          0.9166666666666666,
          0.7083333333333334,
          0.8333333333333334,
          0.7083333333333334,
          0.9166666666666666,
          0.9166666666666666,
          0.8333333333333334,
          0.9166666666666666,
          0.9583333333333334,
          0.75,
          0.9166666666666666,
          0.75,
          0.7916666666666666,
          0.9166666666666666,
          0.875,
          0.9166666666666666,
          0.9166666666666666,
          0.9166666666666666,
          0.875,
          0.7916666666666666,
          0.8333333333333334,
          0.9166666666666666,
          0.875,
          0.9166666666666666,
          0.7083333333333334,
          0.75,
          0.7083333333333334,
          0.7916666666666666,
          0.8333333333333334,
          1,
          0.8333333333333334,
          0.9583333333333334,
          0.7916666666666666,
          0.8333333333333334,
          0.875,
          0.8333333333333334,
          0.9166666666666666,
          0.8333333333333334,
          0.9166666666666666,
          0.9166666666666666,
          0.75,
          0.875,
          0.7083333333333334,
          0.875,
          0.875,
          1,
          0.9583333333333334,
          0.9166666666666666,
          0.7916666666666666,
          0.875,
          0.7916666666666666,
          0.8333333333333334,
          0.75,
          0.8333333333333334,
          1,
          0.6666666666666666,
          0.9166666666666666,
          0.9166666666666666,
          0.75,
          0.7083333333333334,
          0.9583333333333334,
          0.7916666666666666,
          0.8333333333333334,
          0.7916666666666666,
          0.9166666666666666,
          0.8333333333333334,
          0.9583333333333334,
          0.7083333333333334,
          0.875,
          0.75,
          0.8333333333333334,
          0.75,
          0.8333333333333334,
          0.75,
          0.8333333333333334,
          0.9583333333333334,
          0.9166666666666666,
          0.75,
          0.8333333333333334,
          0.9166666666666666,
          0.875,
          0.875,
          0.8333333333333334,
          0.8333333333333334,
          0.875,
          0.9166666666666666,
          0.75,
          0.9583333333333334,
          0.9583333333333334,
          0.875,
          0.9166666666666666,
          0.7916666666666666,
          0.75,
          0.875,
          0.625,
          0.8333333333333334,
          0.7083333333333334,
          0.6666666666666666,
          0.8333333333333334,
          0.75,
          0.875,
          0.875,
          0.7916666666666666,
          0.875,
          0.875,
          0.9583333333333334,
          0.9583333333333334,
          0.8333333333333334,
          0.8333333333333334,
          0.75,
          0.7083333333333334,
          0.875,
          0.5416666666666666,
          0.7916666666666666,
          0.8333333333333334,
          0.75,
          0.625,
          0.9166666666666666,
          0.875,
          0.875,
          0.875,
          0.9166666666666666,
          0.9166666666666666,
          0.75,
          0.7916666666666666,
          0.875,
          0.75,
          0.75,
          0.7916666666666666,
          0.9583333333333334,
          0.75,
          0.7083333333333334,
          0.7916666666666666,
          0.7916666666666666,
          0.8333333333333334,
          0.875,
          0.6666666666666666,
          0.875,
          0.75,
          0.9583333333333334,
          0.7083333333333334,
          0.8333333333333334,
          0.7916666666666666,
          0.875,
          0.75,
          0.75,
          0.9166666666666666,
          0.9166666666666666,
          0.875,
          0.9166666666666666,
          0.8333333333333334,
          0.7916666666666666,
          0.8333333333333334,
          0.75,
          0.875,
          0.7916666666666666,
          0.9166666666666666,
          0.8333333333333334,
          0.875,
          0.6666666666666666,
          0.8333333333333334,
          0.875,
          0.8333333333333334,
          0.7916666666666666,
          0.7083333333333334,
          0.8333333333333334,
          0.9583333333333334,
          0.7916666666666666,
          0.875,
          0.7083333333333334,
          0.875,
          0.9583333333333334,
          0.8333333333333334,
          0.9166666666666666,
          0.7916666666666666,
          0.875,
          0.75,
          0.9166666666666666,
          0.8333333333333334,
          0.6666666666666666,
          0.8333333333333334,
          1,
          0.9166666666666666,
          0.875,
          0.7916666666666666,
          0.875,
          0.875,
          0.7916666666666666,
          0.875,
          0.875,
          0.75,
          0.875,
          0.875,
          0.875,
          0.7083333333333334,
          0.8333333333333334,
          0.8333333333333334,
          0.7916666666666666,
          0.875,
          0.8333333333333334,
          0.8333333333333334,
          0.9583333333333334,
          0.875,
          0.8333333333333334,
          0.625,
          0.9583333333333334,
          0.625,
          0.875,
          0.7916666666666666,
          0.875,
          0.75,
          0.875,
          0.7916666666666666,
          0.9166666666666666,
          0.75,
          0.8333333333333334,
          0.75,
          0.9166666666666666,
          0.7916666666666666,
          0.875,
          0.6666666666666666,
          0.8333333333333334,
          0.9166666666666666,
          0.875,
          0.6666666666666666,
          0.7916666666666666,
          0.9166666666666666,
          0.7916666666666666,
          0.75,
          0.75,
          0.7083333333333334,
          0.9166666666666666,
          0.7916666666666666,
          0.9583333333333334,
          0.75,
          0.75,
          0.7916666666666666,
          0.875,
          0.7916666666666666,
          0.9583333333333334,
          0.9166666666666666,
          0.875,
          0.7083333333333334,
          0.875,
          0.7916666666666666,
          0.9583333333333334,
          0.6666666666666666,
          0.8333333333333334,
          0.7083333333333334,
          0.875,
          0.7916666666666666,
          0.8333333333333334,
          0.7083333333333334,
          0.6666666666666666,
          0.875,
          0.6666666666666666,
          0.7083333333333334,
          0.7916666666666666,
          0.9166666666666666,
          0.9583333333333334,
          0.7916666666666666,
          0.7083333333333334,
          0.7083333333333334,
          0.7916666666666666,
          0.7916666666666666,
          0.875,
          0.7083333333333334,
          0.8333333333333334,
          0.7916666666666666,
          0.7083333333333334,
          0.625,
          0.7916666666666666,
          0.9166666666666666,
          0.9583333333333334,
          0.875,
          0.875,
          0.9583333333333334,
          0.9583333333333334,
          0.8333333333333334,
          0.8333333333333334,
          0.9166666666666666,
          0.7916666666666666,
          0.875,
          0.8333333333333334,
          0.875,
          0.875,
          0.8333333333333334,
          0.8333333333333334,
          0.8333333333333334,
          0.875,
          0.625,
          0.9166666666666666,
          0.8333333333333334,
          0.7916666666666666,
          0.75,
          0.8333333333333334,
          0.875,
          0.9166666666666666,
          0.875,
          0.8333333333333334,
          0.7916666666666666,
          0.75,
          0.8333333333333334,
          0.8333333333333334,
          0.7916666666666666,
          0.9166666666666666,
          0.75,
          0.8333333333333334,
          0.75,
          0.75,
          0.8333333333333334,
          0.875,
          0.7916666666666666,
          0.9166666666666666,
          0.9166666666666666,
          0.9166666666666666,
          0.75,
          0.875,
          0.7916666666666666,
          0.9583333333333334,
          0.7083333333333334,
          0.7083333333333334,
          0.9166666666666666,
          0.9166666666666666,
          0.75,
          1,
          0.875,
          0.8333333333333334,
          0.8333333333333334,
          0.875,
          0.75,
          0.875,
          0.9583333333333334,
          0.875,
          0.8333333333333334,
          0.875,
          0.9583333333333334,
          0.8333333333333334,
          0.9166666666666666,
          0.75,
          0.7916666666666666,
          1,
          0.7916666666666666,
          0.7916666666666666,
          0.7916666666666666,
          0.8333333333333334,
          0.875,
          0.9583333333333334,
          0.7083333333333334,
          0.7083333333333334,
          0.875,
          0.625,
          0.875,
          0.875,
          0.8333333333333334,
          0.75,
          0.8333333333333334,
          0.7916666666666666,
          0.9166666666666666,
          0.875,
          0.9583333333333334,
          0.8333333333333334,
          0.8333333333333334,
          0.9166666666666666,
          0.875,
          0.875,
          0.75,
          0.7916666666666666,
          0.7083333333333334,
          0.8333333333333334,
          0.875,
          0.7916666666666666,
          0.9166666666666666,
          0.9166666666666666,
          0.7916666666666666,
          0.7083333333333334,
          0.9583333333333334,
          0.7916666666666666,
          0.75,
          0.8333333333333334,
          0.9166666666666666,
          0.9583333333333334,
          0.9583333333333334,
          0.8333333333333334,
          0.625,
          0.875,
          0.6666666666666666,
          0.875,
          0.875,
          0.875,
          0.8333333333333334,
          0.8333333333333334,
          0.875,
          0.625,
          0.8333333333333334,
          0.9166666666666666,
          0.7916666666666666,
          0.8333333333333334,
          0.875,
          0.875,
          0.75,
          0.8333333333333334,
          0.8333333333333334,
          0.75,
          0.7916666666666666,
          0.8333333333333334,
          0.8333333333333334,
          0.875,
          0.875,
          0.6666666666666666,
          0.7916666666666666,
          0.75,
          0.9583333333333334,
          0.8333333333333334,
          0.9583333333333334,
          0.9583333333333334,
          0.9583333333333334,
          0.9166666666666666,
          0.8333333333333334,
          0.875,
          0.8333333333333334,
          0.9166666666666666,
          0.8333333333333334,
          0.7916666666666666,
          0.875,
          0.9166666666666666,
          0.875,
          0.7916666666666666,
          0.875,
          0.875,
          0.75,
          0.875,
          0.9166666666666666,
          0.9583333333333334,
          0.9166666666666666,
          0.9166666666666666,
          0.9166666666666666,
          0.7916666666666666,
          0.7916666666666666,
          0.7083333333333334,
          0.875,
          0.875,
          0.9166666666666666,
          0.9166666666666666,
          0.75,
          0.8333333333333334,
          0.9166666666666666,
          0.7916666666666666,
          0.9166666666666666,
          0.9583333333333334,
          0.75,
          0.9166666666666666,
          0.9166666666666666,
          0.8333333333333334,
          0.9583333333333334,
          0.75,
          0.875,
          0.8333333333333334,
          0.875,
          0.5416666666666666,
          0.9583333333333334,
          0.9166666666666666,
          0.8333333333333334,
          0.6666666666666666,
          0.7916666666666666,
          0.875,
          0.75,
          0.9166666666666666,
          0.875,
          0.9583333333333334,
          0.8333333333333334,
          0.8333333333333334,
          0.9166666666666666,
          0.7916666666666666,
          0.7916666666666666,
          0.875,
          0.9583333333333334,
          0.8333333333333334,
          0.875,
          0.9583333333333334,
          0.9583333333333334,
          0.8333333333333334,
          0.75,
          0.9166666666666666,
          0.9166666666666666,
          0.8333333333333334,
          0.7916666666666666,
          0.875,
          0.9166666666666666,
          0.9166666666666666,
          0.875,
          0.7916666666666666,
          0.7916666666666666,
          0.875,
          0.875,
          0.875,
          0.9166666666666666,
          0.9166666666666666,
          1,
          0.7916666666666666,
          0.6666666666666666,
          0.875,
          0.875,
          0.9583333333333334,
          0.7916666666666666,
          0.8333333333333334,
          0.625,
          0.9583333333333334,
          0.8333333333333334,
          0.875,
          0.9166666666666666,
          0.7916666666666666,
          0.875,
          0.875,
          0.7916666666666666,
          0.875,
          1,
          0.7916666666666666,
          0.875,
          0.9166666666666666,
          0.6666666666666666,
          0.8333333333333334,
          0.875,
          0.875,
          0.8333333333333334,
          0.9166666666666666,
          0.7916666666666666,
          0.8333333333333334,
          0.8333333333333334,
          0.625,
          0.5,
          0.875,
          0.7916666666666666,
          0.8333333333333334,
          0.75,
          0.9166666666666666,
          0.875,
          0.8333333333333334,
          0.6666666666666666,
          0.75,
          0.7916666666666666,
          0.7083333333333334,
          0.7916666666666666,
          0.7916666666666666,
          0.7916666666666666,
          0.7083333333333334,
          0.875,
          0.8333333333333334,
          0.8333333333333334,
          0.75,
          0.8333333333333334,
          0.9166666666666666,
          0.7083333333333334,
          0.8333333333333334,
          0.8333333333333334,
          0.875,
          0.875,
          0.7916666666666666,
          0.9166666666666666,
          0.875,
          0.75,
          0.75,
          0.75,
          0.9583333333333334,
          0.6666666666666666,
          0.7083333333333334,
          0.625,
          0.8333333333333334,
          0.9583333333333334,
          0.9583333333333334,
          0.7916666666666666,
          0.9166666666666666,
          0.9166666666666666,
          0.8333333333333334,
          0.9583333333333334,
          0.9166666666666666,
          0.7916666666666666,
          0.9166666666666666,
          0.875,
          0.9166666666666666,
          0.9583333333333334,
          0.875,
          0.6666666666666666,
          0.7083333333333334,
          0.7083333333333334,
          0.8333333333333334,
          0.7916666666666666,
          0.8333333333333334,
          0.875,
          0.875,
          0.8333333333333334,
          0.7916666666666666,
          0.75,
          0.7916666666666666,
          0.9166666666666666,
          0.9166666666666666,
          0.875,
          0.8333333333333334,
          0.9583333333333334,
          0.7916666666666666,
          0.9583333333333334,
          0.875,
          0.7916666666666666,
          0.875,
          0.875,
          0.7916666666666666,
          0.7916666666666666,
          0.75,
          0.7916666666666666,
          0.7916666666666666,
          0.9166666666666666,
          0.9583333333333334,
          0.9166666666666666,
          0.8333333333333334,
          0.8333333333333334,
          0.9166666666666666,
          0.8333333333333334,
          0.9166666666666666,
          0.9166666666666666,
          0.8333333333333334,
          0.8333333333333334,
          0.9166666666666666,
          0.8333333333333334,
          0.75,
          0.8333333333333334,
          0.9166666666666666,
          0.9583333333333334,
          0.875,
          0.7083333333333334,
          0.75,
          0.8333333333333334,
          0.7916666666666666,
          0.875,
          0.9166666666666666,
          0.75,
          0.8333333333333334,
          0.7916666666666666,
          0.75,
          0.9166666666666666,
          0.625,
          0.875,
          0.7916666666666666,
          0.8333333333333334,
          0.7916666666666666,
          0.9166666666666666,
          0.9166666666666666,
          0.625,
          0.875,
          0.875,
          0.75,
          0.8333333333333334,
          0.7083333333333334,
          0.9166666666666666,
          0.9166666666666666,
          0.9166666666666666,
          0.9166666666666666,
          0.8333333333333334,
          0.6666666666666666,
          0.9166666666666666,
          0.75,
          0.75,
          0.9583333333333334,
          0.75,
          0.9583333333333334,
          0.7083333333333334,
          0.8333333333333334,
          0.8333333333333334,
          0.875,
          0.8333333333333334,
          0.9583333333333334,
          0.8333333333333334,
          0.875,
          0.875,
          0.7916666666666666,
          0.8333333333333334,
          0.9166666666666666,
          0.875,
          0.9583333333333334,
          0.9583333333333334,
          0.7916666666666666,
          0.75,
          0.75,
          0.8333333333333334,
          0.875,
          0.9166666666666666,
          0.7916666666666666,
          0.875,
          0.7916666666666666,
          1,
          0.9166666666666666,
          0.75,
          0.9583333333333334,
          0.8333333333333334,
          0.875,
          0.8333333333333334,
          0.875,
          0.6666666666666666,
          0.7916666666666666,
          0.75,
          0.875,
          0.9166666666666666,
          0.7916666666666666,
          0.75,
          0.625,
          0.7083333333333334,
          0.875,
          0.9166666666666666,
          0.9583333333333334,
          0.9583333333333334,
          0.9166666666666666,
          0.875,
          0.7916666666666666,
          0.875,
          0.7083333333333334,
          0.9166666666666666,
          0.7916666666666666,
          0.75,
          0.75,
          0.7083333333333334,
          1,
          0.7916666666666666,
          0.9583333333333334,
          0.75,
          0.875,
          0.8333333333333334,
          0.9583333333333334,
          0.75,
          0.7916666666666666,
          0.9166666666666666,
          0.7916666666666666,
          0.7083333333333334,
          0.9166666666666666,
          0.7916666666666666,
          0.875,
          0.9166666666666666,
          0.875,
          0.6666666666666666,
          0.875,
          0.75,
          0.9166666666666666,
          0.8333333333333334,
          0.7083333333333334,
          0.8333333333333334,
          0.8333333333333334,
          0.7916666666666666,
          0.8333333333333334,
          0.75,
          0.875,
          0.7916666666666666,
          0.8333333333333334,
          0.8333333333333334,
          0.7083333333333334,
          0.8333333333333334,
          0.8333333333333334,
          0.8333333333333334,
          0.875,
          0.875,
          0.7916666666666666,
          0.875,
          0.7916666666666666,
          0.875,
          0.9166666666666666,
          0.7916666666666666,
          0.75,
          0.9583333333333334,
          0.8333333333333334,
          0.7916666666666666,
          0.8333333333333334,
          0.7916666666666666,
          0.875,
          0.875,
          0.9166666666666666,
          0.9583333333333334,
          0.7916666666666666,
          0.8333333333333334,
          0.8333333333333334,
          0.7916666666666666,
          0.9583333333333334,
          0.9166666666666666,
          0.9166666666666666,
          0.8333333333333334,
          0.75,
          0.6666666666666666,
          0.8333333333333334,
          0.8333333333333334,
          0.8333333333333334,
          0.7916666666666666,
          0.75,
          0.875,
          0.8333333333333334,
          0.8333333333333334,
          0.8333333333333334,
          0.9166666666666666,
          0.8333333333333334,
          0.7083333333333334,
          0.6666666666666666,
          0.875,
          0.7916666666666666,
          0.8333333333333334,
          0.875,
          0.875,
          0.8333333333333334,
          1,
          0.875,
          0.8333333333333334,
          0.875,
          0.875,
          0.9166666666666666,
          0.7083333333333334,
          0.5833333333333334,
          0.6666666666666666,
          0.9583333333333334,
          0.875,
          0.7083333333333334,
          0.875,
          0.875,
          0.75,
          0.7916666666666666,
          0.8333333333333334,
          0.875,
          0.7916666666666666,
          0.9166666666666666,
          0.7916666666666666,
          0.8333333333333334,
          0.9166666666666666,
          0.8333333333333334,
          0.875,
          0.875,
          0.7083333333333334,
          0.8333333333333334,
          0.7083333333333334,
          0.9166666666666666,
          0.8333333333333334,
          0.875,
          0.875,
          0.8333333333333334,
          0.7916666666666666,
          0.75,
          0.9166666666666666,
          0.7916666666666666,
          0.9166666666666666,
          1,
          0.875,
          0.9583333333333334,
          0.75,
          0.625,
          0.7083333333333334,
          0.875,
          0.8333333333333334,
          0.75,
          0.75,
          0.875,
          0.9166666666666666,
          0.9166666666666666,
          0.9583333333333334,
          0.75,
          0.7083333333333334,
          0.875,
          0.875,
          0.9166666666666666,
          0.8333333333333334,
          0.7916666666666666,
          0.7916666666666666,
          0.875,
          0.7916666666666666,
          0.7916666666666666,
          0.7083333333333334,
          0.9166666666666666,
          0.7083333333333334,
          0.7083333333333334,
          0.7916666666666666,
          0.875,
          0.8333333333333334,
          0.9166666666666666,
          0.7916666666666666,
          0.875,
          0.875,
          0.875,
          0.9166666666666666,
          0.8333333333333334,
          0.7916666666666666,
          0.9166666666666666,
          0.9166666666666666,
          0.9583333333333334,
          0.8333333333333334,
          0.875,
          0.8333333333333334,
          0.875,
          0.9166666666666666,
          0.9583333333333334,
          0.8333333333333334,
          0.8333333333333334,
          0.7916666666666666,
          0.8333333333333334,
          0.9583333333333334,
          0.9166666666666666,
          0.8333333333333334,
          0.6666666666666666,
          0.8333333333333334,
          0.9166666666666666,
          0.875,
          0.5,
          0.9583333333333334,
          0.875,
          0.7916666666666666,
          0.875,
          0.9166666666666666,
          0.7083333333333334,
          0.7916666666666666,
          0.7083333333333334,
          0.875,
          0.7916666666666666,
          0.875,
          0.9583333333333334,
          0.7916666666666666,
          0.9166666666666666,
          0.9583333333333334,
          0.8333333333333334,
          0.9583333333333334,
          0.7916666666666666,
          0.9583333333333334,
          0.8333333333333334,
          0.9166666666666666,
          0.9166666666666666,
          0.875,
          0.7916666666666666,
          1,
          0.8333333333333334,
          0.625,
          0.9166666666666666,
          0.8333333333333334,
          0.9583333333333334,
          0.9583333333333334,
          0.9166666666666666,
          0.8333333333333334,
          0.7916666666666666,
          0.875,
          0.7083333333333334,
          0.9166666666666666,
          0.8333333333333334,
          0.875,
          0.875,
          0.4583333333333333,
          0.9583333333333334,
          0.7083333333333334,
          0.9583333333333334,
          0.9166666666666666,
          0.8333333333333334,
          0.8333333333333334,
          0.7916666666666666,
          0.7916666666666666,
          1,
          0.875,
          0.9583333333333334,
          0.7916666666666666,
          0.7916666666666666,
          0.8333333333333334,
          0.75,
          0.7916666666666666,
          0.7916666666666666,
          0.6666666666666666,
          0.8333333333333334,
          0.8333333333333334,
          0.7083333333333334,
          0.8333333333333334,
          0.9166666666666666,
          0.875,
          0.9583333333333334,
          0.7083333333333334,
          0.8333333333333334,
          0.75,
          0.9583333333333334,
          0.875,
          0.75,
          0.6666666666666666,
          0.9583333333333334,
          0.8333333333333334,
          0.7916666666666666,
          0.8333333333333334,
          0.7916666666666666,
          0.9166666666666666,
          0.875,
          0.9166666666666666,
          0.7916666666666666,
          0.5833333333333334,
          0.9166666666666666,
          0.7916666666666666,
          0.75,
          0.875,
          0.75,
          0.75,
          0.75,
          0.9583333333333334,
          0.875,
          0.875,
          0.7916666666666666,
          0.8333333333333334,
          0.8333333333333334,
          0.9166666666666666,
          0.875,
          0.875,
          0.75,
          0.8333333333333334,
          0.8333333333333334,
          0.9583333333333334,
          0.75,
          0.8333333333333334,
          0.8333333333333334,
          0.8333333333333334,
          0.625,
          0.8333333333333334,
          0.8333333333333334,
          1,
          0.625,
          0.7916666666666666,
          0.9583333333333334,
          0.8333333333333334,
          0.7083333333333334,
          0.9166666666666666,
          0.8333333333333334,
          0.9583333333333334,
          0.8333333333333334,
          0.8333333333333334,
          0.7916666666666666,
          0.9166666666666666,
          0.6666666666666666,
          0.875,
          0.6666666666666666,
          0.8333333333333334,
          0.875,
          0.9583333333333334,
          0.875,
          0.9166666666666666,
          0.875,
          0.8333333333333334,
          0.7916666666666666,
          0.875,
          0.8333333333333334,
          0.9166666666666666,
          0.7916666666666666,
          0.9583333333333334,
          0.9166666666666666,
          0.8333333333333334,
          0.9166666666666666,
          0.8333333333333334,
          0.75,
          0.875,
          0.8333333333333334,
          0.875,
          0.9166666666666666,
          0.8333333333333334,
          0.875,
          0.875,
          0.7916666666666666,
          0.9166666666666666,
          0.7916666666666666,
          0.6666666666666666,
          0.9166666666666666,
          0.875,
          0.9166666666666666,
          0.8333333333333334,
          0.875,
          0.7916666666666666,
          0.75,
          0.75,
          0.875,
          0.9583333333333334,
          1,
          0.9583333333333334,
          0.8333333333333334,
          0.9166666666666666,
          0.9166666666666666,
          0.9166666666666666,
          0.9166666666666666,
          0.8333333333333334,
          0.8333333333333334,
          0.8333333333333334,
          0.75,
          0.7916666666666666,
          0.75,
          0.9166666666666666,
          0.75,
          0.6666666666666666,
          0.7916666666666666,
          0.8333333333333334,
          0.7083333333333334,
          0.75,
          0.7916666666666666,
          0.8333333333333334,
          0.7916666666666666,
          1,
          0.875,
          0.8333333333333334,
          0.9583333333333334,
          0.875,
          0.9166666666666666,
          0.9583333333333334,
          0.8333333333333334,
          0.7916666666666666,
          0.8333333333333334,
          0.7916666666666666,
          0.875,
          0.875,
          0.9166666666666666,
          0.875,
          0.7916666666666666,
          0.875,
          0.8333333333333334,
          0.875,
          0.875,
          0.7083333333333334,
          0.9166666666666666,
          0.875,
          0.875,
          0.9166666666666666,
          0.8333333333333334,
          0.7916666666666666,
          0.8333333333333334,
          0.75,
          0.75,
          0.875,
          0.875,
          0.8333333333333334,
          0.875,
          0.7916666666666666,
          0.7916666666666666,
          0.7916666666666666,
          0.875,
          0.875,
          0.875,
          0.875,
          0.9166666666666666,
          0.7916666666666666,
          0.5416666666666666,
          0.75,
          0.7083333333333334,
          0.7083333333333334,
          0.8333333333333334,
          0.75,
          0.7916666666666666,
          0.7916666666666666,
          0.7916666666666666,
          0.875,
          0.8333333333333334,
          0.9166666666666666,
          0.8333333333333334,
          0.7916666666666666,
          0.9166666666666666,
          0.9166666666666666,
          0.9166666666666666,
          0.7916666666666666,
          0.8333333333333334,
          0.7083333333333334,
          0.8333333333333334,
          0.7916666666666666,
          0.75,
          0.8333333333333334,
          0.875,
          0.9583333333333334,
          0.7916666666666666,
          0.7083333333333334,
          0.8333333333333334,
          0.9583333333333334,
          0.6666666666666666,
          0.875,
          0.6666666666666666,
          1,
          0.875,
          0.7916666666666666,
          0.9166666666666666,
          0.8333333333333334,
          0.875,
          0.75,
          0.7083333333333334,
          0.875,
          0.7916666666666666,
          0.75,
          0.6666666666666666,
          0.875,
          0.7916666666666666,
          0.9166666666666666,
          0.875,
          0.75,
          0.8333333333333334,
          0.75,
          0.625,
          0.9166666666666666,
          0.75,
          0.6666666666666666,
          0.8333333333333334,
          0.875,
          0.8333333333333334,
          0.75,
          0.9583333333333334,
          0.7916666666666666,
          0.75,
          0.625,
          0.8333333333333334,
          0.7916666666666666,
          0.75,
          0.875,
          0.9166666666666666,
          0.75,
          0.8333333333333334,
          0.875,
          0.9166666666666666,
          0.8333333333333334,
          0.9583333333333334,
          0.9166666666666666,
          0.9583333333333334,
          0.75,
          0.9166666666666666,
          0.9166666666666666,
          0.6666666666666666,
          0.75,
          0.875,
          0.875,
          0.7916666666666666,
          0.7916666666666666,
          0.9583333333333334,
          0.9583333333333334,
          0.7916666666666666,
          1,
          0.9166666666666666,
          0.6666666666666666,
          0.75,
          0.8333333333333334,
          0.75,
          0.6666666666666666,
          0.8333333333333334,
          0.8333333333333334,
          0.875,
          1,
          0.7916666666666666,
          0.8333333333333334,
          0.75,
          0.875,
          0.7916666666666666,
          0.7916666666666666,
          0.8333333333333334,
          0.9166666666666666,
          0.7083333333333334,
          0.8333333333333334,
          0.8333333333333334,
          0.9583333333333334,
          0.875,
          0.8333333333333334,
          0.9166666666666666,
          0.875,
          0.875,
          0.8333333333333334,
          0.8333333333333334,
          0.7916666666666666,
          0.8333333333333334,
          0.7916666666666666,
          0.9166666666666666,
          0.875,
          0.8333333333333334,
          0.875,
          0.9166666666666666,
          0.875,
          0.9166666666666666,
          0.7916666666666666,
          0.8333333333333334,
          0.875,
          0.75,
          0.9166666666666666,
          0.875,
          0.8333333333333334,
          0.875,
          0.875,
          0.875,
          0.9166666666666666,
          0.75,
          0.9166666666666666,
          0.9166666666666666,
          0.8333333333333334,
          0.8333333333333334,
          0.75,
          0.9166666666666666,
          0.8333333333333334,
          0.875,
          0.7916666666666666,
          0.8333333333333334,
          0.75,
          0.875,
          0.75,
          0.9166666666666666,
          0.875,
          0.8333333333333334,
          0.8333333333333334,
          0.9583333333333334,
          0.8333333333333334,
          0.75,
          0.7916666666666666,
          0.75,
          0.7083333333333334,
          0.7083333333333334,
          0.8333333333333334,
          0.75,
          0.9583333333333334,
          0.875,
          1,
          0.875,
          0.9166666666666666,
          0.9583333333333334,
          0.875,
          0.9166666666666666,
          0.875,
          0.7083333333333334,
          0.7916666666666666,
          0.75,
          0.6666666666666666,
          0.8333333333333334,
          0.8333333333333334,
          0.7916666666666666,
          0.9166666666666666,
          0.7916666666666666,
          0.7916666666666666,
          0.875,
          1,
          0.875,
          0.8333333333333334,
          0.7916666666666666,
          0.7083333333333334,
          0.875,
          0.9166666666666666,
          0.875,
          0.9583333333333334,
          0.8333333333333334,
          0.9583333333333334,
          0.75,
          0.75,
          0.8333333333333334,
          0.75,
          0.9583333333333334,
          0.875,
          0.9166666666666666,
          0.7916666666666666,
          0.8333333333333334,
          0.9166666666666666,
          0.875,
          0.9166666666666666,
          0.9166666666666666,
          0.9583333333333334,
          0.8333333333333334,
          0.875,
          0.8333333333333334,
          0.875,
          0.9583333333333334,
          0.875,
          0.9583333333333334,
          0.8333333333333334,
          0.9166666666666666,
          0.875,
          0.9166666666666666,
          0.7916666666666666,
          0.7083333333333334,
          0.75,
          0.875,
          0.5833333333333334,
          0.9166666666666666,
          0.875,
          0.9166666666666666,
          0.8333333333333334,
          0.75,
          0.875,
          0.7916666666666666,
          0.875,
          0.8333333333333334,
          0.9583333333333334,
          0.7916666666666666,
          0.8333333333333334,
          0.9166666666666666,
          0.9166666666666666,
          0.7916666666666666,
          0.7916666666666666,
          0.8333333333333334,
          0.875,
          0.7083333333333334,
          0.9583333333333334,
          0.8333333333333334,
          0.875,
          0.7916666666666666,
          0.6666666666666666,
          1,
          0.9166666666666666,
          0.6666666666666666,
          0.875,
          0.8333333333333334,
          0.8333333333333334,
          0.8333333333333334,
          0.8333333333333334,
          0.9166666666666666,
          0.875,
          0.875,
          0.8333333333333334,
          0.8333333333333334,
          0.9166666666666666,
          0.7916666666666666,
          0.9583333333333334,
          0.875,
          1,
          0.8333333333333334,
          0.75,
          0.875,
          0.7916666666666666,
          0.8333333333333334,
          1,
          0.8333333333333334,
          0.875,
          0.8333333333333334,
          0.7083333333333334,
          0.8333333333333334,
          0.8333333333333334,
          1,
          0.9583333333333334,
          0.5833333333333334,
          0.875,
          0.7083333333333334,
          0.9166666666666666,
          0.6666666666666666,
          0.9583333333333334,
          0.9583333333333334,
          0.875,
          0.5833333333333334,
          0.9583333333333334,
          0.75,
          0.875,
          0.7916666666666666,
          0.8333333333333334,
          0.7916666666666666,
          0.8333333333333334,
          0.9583333333333334,
          0.9166666666666666,
          1,
          0.9583333333333334,
          0.875,
          0.7916666666666666,
          0.9166666666666666,
          0.75,
          0.7916666666666666,
          0.875,
          0.875,
          0.875,
          0.7916666666666666,
          0.875,
          0.8333333333333334,
          0.8333333333333334,
          0.8333333333333334,
          0.8333333333333334,
          0.625,
          0.9166666666666666,
          0.875,
          0.9166666666666666,
          0.875,
          0.7083333333333334,
          0.8333333333333334,
          0.7916666666666666,
          0.9166666666666666,
          0.8333333333333334,
          0.75,
          0.625,
          0.9166666666666666,
          0.8333333333333334,
          0.75,
          1,
          0.9166666666666666,
          0.9583333333333334,
          0.6666666666666666,
          0.875,
          0.75,
          0.9166666666666666,
          0.75,
          0.7916666666666666,
          0.8333333333333334,
          0.9166666666666666,
          0.5833333333333334,
          0.75,
          0.9583333333333334,
          0.875,
          0.9583333333333334,
          0.8333333333333334,
          0.875,
          0.7916666666666666,
          0.8333333333333334,
          0.9583333333333334,
          0.8333333333333334,
          0.9166666666666666,
          0.875,
          0.7916666666666666,
          0.75,
          0.7083333333333334,
          0.75,
          0.7083333333333334,
          0.8333333333333334,
          0.9166666666666666,
          0.75,
          0.7916666666666666,
          0.8333333333333334,
          0.75,
          0.9166666666666666,
          0.9583333333333334,
          0.8333333333333334,
          0.7083333333333334,
          0.7083333333333334,
          0.8333333333333334,
          0.8333333333333334,
          0.8333333333333334,
          0.75,
          0.75,
          0.875,
          0.75,
          0.9166666666666666,
          0.8333333333333334,
          0.9166666666666666,
          0.75,
          0.8333333333333334,
          0.9583333333333334,
          0.875,
          0.9166666666666666,
          0.7916666666666666,
          0.875,
          0.7916666666666666,
          0.9583333333333334,
          0.875,
          0.8333333333333334,
          0.75,
          0.8333333333333334,
          0.9166666666666666,
          0.7916666666666666,
          0.875,
          0.75,
          0.8333333333333334,
          0.9583333333333334,
          0.9583333333333334,
          0.8333333333333334,
          0.8333333333333334,
          0.7083333333333334,
          0.7083333333333334,
          0.7083333333333334,
          0.875,
          0.5833333333333334,
          0.8333333333333334,
          0.6666666666666666,
          0.7916666666666666,
          0.75,
          0.75,
          0.8333333333333334,
          1,
          0.7916666666666666,
          0.8333333333333334,
          0.7916666666666666,
          0.75,
          0.7916666666666666,
          0.8333333333333334,
          0.7083333333333334,
          0.8333333333333334,
          0.9166666666666666,
          0.7083333333333334,
          0.75,
          0.875,
          0.8333333333333334,
          0.8333333333333334,
          0.8333333333333334,
          0.7916666666666666,
          0.75,
          0.8333333333333334,
          0.75,
          0.7083333333333334,
          0.9166666666666666,
          0.7916666666666666,
          0.7916666666666666,
          0.9583333333333334,
          0.7916666666666666,
          0.875,
          0.7083333333333334,
          0.8333333333333334,
          0.7916666666666666,
          0.7916666666666666,
          0.75,
          0.7916666666666666,
          0.6666666666666666,
          0.7083333333333334,
          0.875,
          0.7083333333333334,
          0.9166666666666666,
          0.9166666666666666,
          0.7083333333333334,
          0.7916666666666666,
          0.7916666666666666,
          0.9166666666666666,
          0.875,
          0.7916666666666666,
          0.6666666666666666,
          0.75,
          0.8333333333333334,
          0.6666666666666666,
          0.7916666666666666,
          0.6666666666666666,
          0.75,
          0.7083333333333334,
          0.6666666666666666,
          0.8333333333333334,
          0.8333333333333334,
          0.7916666666666666,
          0.75,
          0.875,
          0.875,
          0.8333333333333334,
          0.8333333333333334,
          0.875,
          0.7083333333333334,
          0.625,
          0.7916666666666666,
          0.9166666666666666,
          0.875,
          0.8333333333333334,
          0.75,
          0.75,
          0.625,
          0.7916666666666666,
          0.8333333333333334,
          0.75,
          0.7916666666666666,
          0.8333333333333334,
          0.9166666666666666,
          0.875,
          0.7916666666666666,
          0.7916666666666666,
          0.875,
          0.6666666666666666,
          0.7916666666666666,
          0.9166666666666666,
          0.875,
          0.875,
          0.7083333333333334,
          0.8333333333333334,
          0.875,
          0.7916666666666666,
          0.8333333333333334,
          0.7083333333333334,
          0.7083333333333334,
          0.6666666666666666,
          0.9166666666666666,
          0.8333333333333334,
          0.7083333333333334,
          0.8333333333333334,
          0.75,
          0.7083333333333334,
          0.8333333333333334,
          0.875,
          0.9583333333333334,
          0.7083333333333334,
          0.6666666666666666,
          0.7916666666666666,
          0.9166666666666666,
          0.7916666666666666,
          0.75,
          0.9166666666666666,
          0.7083333333333334,
          0.9583333333333334,
          0.75,
          0.7916666666666666,
          0.75,
          0.8333333333333334,
          0.875,
          0.7916666666666666,
          0.9583333333333334,
          0.7916666666666666,
          0.9166666666666666,
          0.75,
          0.7916666666666666,
          0.625,
          0.875,
          0.8333333333333334,
          0.9583333333333334,
          0.875,
          0.8333333333333334,
          0.75,
          0.875,
          0.7083333333333334,
          0.7083333333333334,
          0.8333333333333334,
          0.9166666666666666,
          0.8333333333333334,
          0.9583333333333334,
          0.75,
          0.7083333333333334,
          0.8333333333333334,
          0.75,
          0.875,
          0.75,
          0.7083333333333334,
          0.8333333333333334,
          0.75,
          0.8333333333333334,
          0.875,
          0.7916666666666666,
          0.9166666666666666,
          0.7916666666666666,
          0.6666666666666666,
          0.9166666666666666,
          0.8333333333333334,
          0.75,
          0.75,
          0.8333333333333334,
          0.875,
          0.7916666666666666,
          0.7083333333333334,
          0.9166666666666666,
          0.8333333333333334,
          0.7916666666666666,
          0.7916666666666666,
          0.75,
          0.8333333333333334,
          0.8333333333333334,
          0.7916666666666666,
          0.7916666666666666,
          0.8333333333333334,
          0.875,
          0.7083333333333334,
          0.7916666666666666,
          0.7083333333333334,
          0.75,
          0.7916666666666666,
          0.8333333333333334,
          0.75,
          0.9166666666666666,
          0.8333333333333334,
          0.7916666666666666,
          0.8333333333333334,
          0.8333333333333334,
          0.6666666666666666,
          0.75,
          0.875,
          0.7083333333333334,
          0.8333333333333334,
          0.6666666666666666,
          0.75,
          0.7916666666666666,
          0.875,
          0.75,
          0.9583333333333334,
          0.7916666666666666,
          0.8333333333333334,
          0.8333333333333334,
          0.8333333333333334,
          0.8333333333333334,
          0.7916666666666666,
          0.625,
          0.875,
          0.7916666666666666,
          0.75,
          0.7916666666666666,
          0.75,
          0.9583333333333334,
          0.875,
          0.8333333333333334,
          0.9166666666666666,
          0.7916666666666666,
          0.9583333333333334,
          0.9166666666666666,
          0.75,
          0.6666666666666666,
          0.9166666666666666,
          0.875,
          0.7083333333333334,
          0.75,
          0.7916666666666666,
          0.875,
          0.5416666666666666,
          0.9583333333333334,
          0.875,
          0.9166666666666666,
          0.75,
          0.75,
          0.75,
          0.7916666666666666,
          0.8333333333333334,
          0.9166666666666666,
          0.9583333333333334,
          0.9166666666666666,
          0.8333333333333334,
          0.75,
          0.7916666666666666,
          0.9166666666666666,
          0.75,
          0.7916666666666666,
          0.875,
          0.7916666666666666,
          0.875,
          0.7083333333333334,
          0.8333333333333334,
          0.75,
          0.8333333333333334,
          0.75,
          0.8333333333333334,
          0.75,
          0.875,
          0.875,
          0.7916666666666666,
          0.7916666666666666,
          0.8333333333333334,
          0.9583333333333334,
          0.7916666666666666,
          0.8333333333333334,
          0.9166666666666666,
          0.8333333333333334,
          0.9166666666666666,
          0.8333333333333334,
          0.7916666666666666,
          0.8333333333333334,
          0.9166666666666666,
          0.75,
          0.7916666666666666,
          0.9166666666666666,
          0.7916666666666666,
          0.875,
          0.7083333333333334,
          0.875,
          0.9583333333333334,
          0.875,
          0.875,
          0.9583333333333334,
          0.7083333333333334,
          0.6666666666666666,
          0.8333333333333334,
          0.7083333333333334,
          0.875,
          0.8333333333333334,
          1,
          0.875,
          0.8333333333333334,
          0.875,
          0.9166666666666666,
          0.7916666666666666,
          0.875,
          0.6666666666666666,
          0.6666666666666666,
          0.7083333333333334,
          0.875,
          0.875,
          0.875,
          0.8333333333333334,
          0.875,
          0.8333333333333334,
          0.9166666666666666,
          0.7083333333333334,
          0.9166666666666666,
          0.7916666666666666,
          0.6666666666666666,
          0.7916666666666666,
          0.7916666666666666,
          0.8333333333333334,
          0.7916666666666666,
          0.875,
          0.8333333333333334,
          0.6666666666666666,
          0.7916666666666666,
          0.6666666666666666,
          0.8333333333333334,
          0.7916666666666666,
          0.7916666666666666,
          0.7916666666666666,
          0.7916666666666666,
          0.9583333333333334,
          0.7083333333333334,
          0.875,
          0.7083333333333334,
          0.8333333333333334,
          0.75,
          0.9583333333333334,
          0.7083333333333334,
          0.8333333333333334,
          0.5833333333333334,
          0.8333333333333334,
          0.8333333333333334,
          0.8333333333333334,
          0.875,
          0.9583333333333334,
          0.7916666666666666,
          0.9583333333333334,
          0.875,
          0.875,
          0.9583333333333334,
          0.9583333333333334,
          0.7916666666666666,
          0.875,
          0.875,
          0.6666666666666666,
          0.7083333333333334,
          0.625,
          0.8333333333333334,
          0.625,
          0.75,
          0.8333333333333334,
          0.7916666666666666,
          0.7916666666666666,
          0.7083333333333334,
          0.9583333333333334,
          0.9166666666666666,
          0.9166666666666666,
          0.9583333333333334,
          0.875,
          0.875,
          0.8333333333333334,
          0.6666666666666666,
          0.9583333333333334,
          0.7916666666666666,
          0.75,
          0.75,
          0.8333333333333334,
          0.6666666666666666,
          0.875,
          0.75,
          0.9166666666666666,
          0.7083333333333334,
          0.4166666666666667,
          0.875,
          0.875,
          0.625,
          0.8333333333333334,
          0.875,
          0.7916666666666666,
          0.9166666666666666,
          0.7916666666666666,
          0.875,
          0.7916666666666666,
          0.6666666666666666,
          0.7916666666666666,
          0.9583333333333334,
          0.7916666666666666,
          0.8333333333333334,
          0.9166666666666666,
          0.9166666666666666,
          0.625,
          0.875,
          0.7916666666666666,
          0.8333333333333334,
          0.7916666666666666,
          0.75,
          0.7083333333333334,
          0.75,
          0.8333333333333334,
          0.875,
          0.75,
          0.9583333333333334,
          0.6666666666666666,
          0.6666666666666666,
          0.7916666666666666,
          0.6666666666666666,
          0.875,
          0.7916666666666666,
          0.75,
          0.875,
          0.7916666666666666,
          0.875,
          0.875,
          0.7916666666666666,
          0.7916666666666666,
          0.8333333333333334,
          0.75,
          0.8333333333333334,
          0.8333333333333334,
          0.8333333333333334,
          0.875,
          0.875,
          0.7916666666666666,
          0.875,
          0.75,
          0.8333333333333334,
          0.8333333333333334,
          0.7916666666666666,
          0.875,
          0.875,
          0.7916666666666666,
          0.7916666666666666,
          0.7916666666666666,
          0.75,
          0.875,
          0.8333333333333334,
          0.7083333333333334,
          0.9583333333333334,
          0.9166666666666666,
          0.75,
          0.7916666666666666,
          0.9166666666666666,
          0.6666666666666666,
          0.8333333333333334,
          0.8333333333333334,
          0.75,
          0.8333333333333334,
          0.7083333333333334,
          0.875,
          0.9583333333333334,
          0.7916666666666666,
          0.9166666666666666,
          0.75,
          0.9166666666666666,
          0.875,
          0.75,
          0.9166666666666666,
          0.7083333333333334,
          0.9166666666666666,
          0.9166666666666666,
          0.875,
          0.7083333333333334,
          0.9166666666666666,
          0.7916666666666666,
          0.75,
          0.75,
          0.8333333333333334,
          0.9166666666666666,
          0.9166666666666666,
          0.75,
          0.875,
          0.875,
          0.7916666666666666,
          0.8333333333333334,
          0.7083333333333334,
          0.75,
          0.75,
          0.7083333333333334,
          0.8333333333333334,
          0.875,
          0.9166666666666666,
          0.875,
          0.9166666666666666,
          0.875,
          0.7916666666666666,
          0.8333333333333334,
          0.7916666666666666,
          0.8333333333333334,
          0.75,
          0.8333333333333334,
          0.8333333333333334,
          0.875,
          0.875,
          0.7916666666666666,
          0.7916666666666666,
          0.8333333333333334,
          0.625,
          0.6666666666666666,
          0.9166666666666666,
          0.875,
          0.875,
          0.8333333333333334,
          0.7916666666666666,
          0.8333333333333334,
          0.8333333333333334,
          0.7083333333333334,
          0.8333333333333334,
          0.6666666666666666,
          0.875,
          0.7916666666666666,
          0.8333333333333334,
          0.75,
          0.9583333333333334,
          0.875,
          0.8333333333333334,
          0.5833333333333334,
          0.875,
          0.6666666666666666,
          1,
          0.9166666666666666,
          0.7916666666666666,
          0.875,
          0.7083333333333334,
          0.875,
          0.8333333333333334,
          0.875,
          0.875,
          0.7083333333333334,
          0.9166666666666666,
          0.8333333333333334,
          0.75,
          0.75,
          0.875,
          0.875,
          0.75,
          0.8333333333333334,
          0.8333333333333334,
          0.9166666666666666,
          0.75,
          0.7083333333333334,
          0.8333333333333334,
          0.8333333333333334,
          0.9166666666666666,
          0.875,
          0.7916666666666666,
          0.7916666666666666,
          0.7083333333333334,
          0.8333333333333334,
          0.8333333333333334,
          0.6666666666666666,
          0.6666666666666666,
          0.75,
          0.9166666666666666,
          0.625,
          0.7916666666666666,
          0.75,
          0.9166666666666666,
          0.6666666666666666,
          0.8333333333333334,
          0.9166666666666666,
          0.6666666666666666,
          0.4583333333333333,
          0.9583333333333334,
          0.9583333333333334,
          0.6666666666666666,
          0.9166666666666666,
          0.875,
          0.7916666666666666,
          0.8333333333333334,
          0.8333333333333334,
          0.7916666666666666,
          0.8333333333333334,
          0.875,
          0.75,
          0.6666666666666666,
          0.9166666666666666,
          0.8333333333333334,
          0.9166666666666666,
          0.75,
          0.75,
          0.6666666666666666,
          0.8333333333333334,
          0.75,
          0.8333333333333334,
          0.9166666666666666,
          0.8333333333333334,
          0.7083333333333334,
          0.7083333333333334,
          0.875,
          0.7916666666666666,
          0.6666666666666666,
          0.8333333333333334,
          0.875,
          0.6666666666666666,
          0.875,
          0.7083333333333334,
          0.875,
          0.9166666666666666,
          0.7916666666666666,
          0.8333333333333334,
          0.8333333333333334,
          0.8333333333333334,
          0.7083333333333334,
          0.8333333333333334,
          0.875,
          0.9583333333333334,
          0.9166666666666666,
          0.9166666666666666,
          0.875,
          0.7083333333333334,
          0.8333333333333334,
          0.875,
          0.7083333333333334,
          0.9166666666666666,
          0.7083333333333334,
          0.7916666666666666,
          0.75,
          0.8333333333333334,
          0.75,
          0.9166666666666666,
          0.9583333333333334,
          0.7083333333333334,
          0.7916666666666666,
          0.7916666666666666,
          0.875,
          0.8333333333333334,
          0.9583333333333334,
          0.875,
          0.9166666666666666,
          0.875,
          0.7916666666666666,
          0.8333333333333334,
          0.7916666666666666,
          0.9583333333333334,
          0.875,
          0.7916666666666666,
          0.9166666666666666,
          0.9166666666666666,
          0.75,
          1,
          0.8333333333333334,
          0.875,
          0.9166666666666666,
          1,
          0.7916666666666666,
          0.9166666666666666,
          0.875,
          0.7083333333333334,
          0.8333333333333334,
          0.8333333333333334,
          0.8333333333333334,
          0.875,
          0.7916666666666666,
          0.7083333333333334,
          0.8333333333333334,
          0.875,
          0.9166666666666666,
          0.7083333333333334,
          0.875,
          0.7916666666666666,
          0.9166666666666666,
          0.9583333333333334,
          0.8333333333333334,
          0.9583333333333334,
          0.9166666666666666,
          0.8333333333333334,
          0.875,
          0.7916666666666666,
          0.7083333333333334,
          0.8333333333333334,
          0.9583333333333334,
          0.875,
          0.875,
          0.75,
          0.8333333333333334,
          0.7916666666666666,
          0.8333333333333334,
          0.7916666666666666,
          0.75,
          0.875,
          0.75,
          0.6666666666666666,
          0.875,
          0.6666666666666666,
          0.75,
          0.875,
          0.875,
          0.7916666666666666,
          0.7083333333333334,
          0.8333333333333334,
          0.8333333333333334,
          0.8333333333333334,
          0.9166666666666666,
          0.5416666666666666,
          0.8333333333333334,
          0.75,
          1,
          0.9583333333333334,
          0.6666666666666666,
          0.75,
          0.9583333333333334,
          0.7916666666666666,
          0.7916666666666666,
          0.9583333333333334,
          0.75,
          0.9583333333333334,
          0.8333333333333334,
          0.6666666666666666,
          0.5833333333333334,
          0.75,
          0.75,
          0.8333333333333334,
          0.7916666666666666,
          0.75,
          0.875,
          0.9166666666666666,
          0.7083333333333334,
          0.7083333333333334,
          0.7916666666666666,
          0.8333333333333334,
          0.875,
          0.8333333333333334,
          0.9166666666666666,
          0.9166666666666666,
          0.8333333333333334,
          0.75,
          0.875,
          0.875,
          0.9166666666666666,
          0.9166666666666666,
          0.7916666666666666,
          0.7916666666666666,
          0.875,
          0.9166666666666666,
          0.8333333333333334,
          0.5416666666666666,
          0.875,
          0.7916666666666666,
          0.9166666666666666,
          0.7916666666666666,
          0.75,
          0.7916666666666666,
          0.75,
          0.875,
          0.75,
          0.8333333333333334,
          0.9166666666666666,
          0.875,
          0.9583333333333334,
          0.9583333333333334,
          0.875,
          0.75,
          0.8333333333333334,
          0.75,
          0.9166666666666666,
          0.875,
          0.875,
          0.8333333333333334,
          0.9166666666666666,
          0.7916666666666666,
          0.8333333333333334,
          0.9166666666666666,
          0.75,
          0.8333333333333334,
          0.7916666666666666,
          0.7083333333333334,
          0.9166666666666666,
          0.8333333333333334,
          0.6666666666666666,
          0.6666666666666666,
          0.875,
          0.875,
          0.8333333333333334,
          0.875,
          0.7083333333333334,
          0.75,
          0.7916666666666666,
          0.9583333333333334,
          0.875,
          0.75,
          0.9166666666666666,
          0.7916666666666666,
          0.875,
          0.7916666666666666,
          0.875,
          0.9166666666666666,
          0.8333333333333334,
          0.9166666666666666,
          0.9583333333333334,
          0.8333333333333334,
          0.8333333333333334,
          0.75,
          0.8333333333333334,
          0.9583333333333334,
          0.9166666666666666,
          0.8333333333333334,
          0.875,
          0.6666666666666666,
          0.9583333333333334,
          0.75,
          0.8333333333333334,
          0.875,
          0.8333333333333334,
          0.7083333333333334,
          0.9166666666666666,
          0.8333333333333334,
          0.7916666666666666,
          0.9166666666666666,
          0.7916666666666666,
          0.7083333333333334,
          0.8333333333333334,
          0.9583333333333334,
          0.8333333333333334,
          0.9166666666666666,
          0.6666666666666666,
          0.875,
          0.8333333333333334,
          0.7916666666666666,
          0.7916666666666666,
          0.9166666666666666,
          0.7083333333333334,
          0.625,
          0.8333333333333334,
          0.75,
          0.875,
          0.8333333333333334,
          0.9166666666666666,
          0.8333333333333334,
          0.75,
          0.7916666666666666,
          0.7916666666666666,
          0.8333333333333334,
          0.875,
          0.875,
          0.875,
          0.7916666666666666,
          0.8333333333333334,
          0.625,
          0.8333333333333334,
          0.8333333333333334,
          0.8333333333333334,
          0.8333333333333334,
          0.8333333333333334,
          0.75,
          0.7916666666666666,
          0.7916666666666666,
          0.9166666666666666,
          0.875,
          0.7916666666666666,
          0.75,
          0.875,
          0.7916666666666666,
          0.75,
          0.875,
          0.625,
          0.7916666666666666,
          0.7916666666666666,
          0.875,
          0.875,
          0.875,
          0.7916666666666666,
          0.8333333333333334,
          0.7916666666666666,
          0.7916666666666666,
          0.8333333333333334,
          0.8333333333333334,
          0.875,
          0.75,
          0.8333333333333334,
          0.7916666666666666,
          0.7916666666666666,
          0.7083333333333334,
          0.7916666666666666,
          0.625,
          0.875,
          0.875,
          0.7916666666666666,
          0.875,
          0.7083333333333334,
          0.9583333333333334,
          0.6666666666666666,
          0.8333333333333334,
          0.75,
          0.7083333333333334,
          0.8333333333333334,
          0.7083333333333334,
          0.9166666666666666,
          0.8333333333333334,
          0.8333333333333334,
          0.75,
          0.9166666666666666,
          0.7916666666666666,
          0.9583333333333334,
          0.875,
          0.8333333333333334,
          0.875,
          0.9166666666666666,
          0.625,
          0.6666666666666666,
          0.7083333333333334,
          0.625,
          0.875,
          0.875,
          0.8333333333333334,
          0.8333333333333334,
          0.7083333333333334,
          0.75,
          0.7916666666666666,
          0.9583333333333334,
          0.8333333333333334,
          0.875,
          0.875,
          0.75,
          0.9166666666666666,
          0.7916666666666666,
          0.75,
          0.7083333333333334,
          0.75,
          0.7916666666666666,
          0.7916666666666666,
          0.8333333333333334,
          0.875,
          0.7916666666666666,
          0.625,
          0.9166666666666666,
          0.75,
          0.8333333333333334,
          0.9166666666666666,
          0.75,
          0.7083333333333334,
          0.8333333333333334,
          0.875,
          0.8333333333333334,
          0.625,
          0.7083333333333334,
          0.7083333333333334,
          0.7916666666666666,
          0.7916666666666666,
          0.8333333333333334,
          0.8333333333333334,
          0.875,
          0.875,
          0.7916666666666666,
          0.8333333333333334,
          0.875,
          0.875,
          0.875,
          0.7916666666666666,
          0.875,
          0.875,
          0.875,
          0.7916666666666666,
          0.875,
          0.75,
          0.75,
          0.75,
          0.625,
          0.9166666666666666,
          0.8333333333333334,
          0.75,
          0.7916666666666666,
          1,
          0.7916666666666666,
          0.8333333333333334,
          0.875,
          0.8333333333333334,
          0.7916666666666666,
          0.75,
          0.8333333333333334,
          0.8333333333333334,
          0.7916666666666666,
          0.75,
          0.9583333333333334,
          0.625,
          0.9166666666666666,
          0.7916666666666666,
          0.875,
          0.7916666666666666,
          0.6666666666666666,
          0.7083333333333334,
          0.9166666666666666,
          0.6666666666666666,
          0.875,
          0.8333333333333334,
          0.6666666666666666,
          0.9583333333333334,
          0.875,
          0.9166666666666666,
          0.7083333333333334,
          0.75,
          0.7083333333333334,
          0.875,
          0.9166666666666666,
          0.7916666666666666,
          0.8333333333333334,
          1,
          0.875,
          0.7916666666666666,
          0.9166666666666666,
          0.75,
          0.5833333333333334,
          0.7916666666666666,
          0.7916666666666666,
          0.8333333333333334,
          0.7083333333333334,
          0.7916666666666666,
          0.9166666666666666,
          0.7916666666666666,
          0.625,
          0.625,
          0.6666666666666666,
          0.875,
          0.7083333333333334,
          0.9166666666666666,
          0.875,
          0.7916666666666666,
          0.875,
          0.75,
          0.8333333333333334,
          0.875,
          0.8333333333333334,
          0.875,
          0.75,
          0.625,
          0.7083333333333334,
          0.875,
          0.9583333333333334,
          0.75,
          0.7083333333333334,
          0.8333333333333334,
          0.9166666666666666,
          0.75,
          0.7083333333333334,
          0.7916666666666666,
          0.7083333333333334,
          0.7916666666666666,
          0.875,
          0.7083333333333334,
          0.8333333333333334,
          0.875,
          0.8333333333333334,
          0.9166666666666666,
          0.875,
          0.8333333333333334,
          0.7916666666666666,
          0.9166666666666666,
          0.9166666666666666,
          0.8333333333333334,
          0.875,
          0.9166666666666666,
          0.7083333333333334,
          0.7916666666666666,
          0.9166666666666666,
          0.875,
          0.8333333333333334,
          0.75,
          0.75,
          0.6666666666666666,
          0.75,
          0.875,
          0.75,
          0.7916666666666666,
          0.8333333333333334,
          0.8333333333333334,
          0.75,
          0.7916666666666666,
          0.7083333333333334,
          0.7083333333333334,
          0.875,
          0.7916666666666666,
          0.7916666666666666,
          0.7916666666666666,
          0.9166666666666666,
          0.7083333333333334,
          0.8333333333333334,
          0.75,
          0.7916666666666666,
          0.5416666666666666,
          0.9166666666666666,
          0.875,
          0.9583333333333334,
          0.875,
          0.8333333333333334,
          0.875,
          0.5833333333333334,
          1,
          0.75,
          0.875,
          0.875,
          0.8333333333333334,
          0.9583333333333334,
          0.875,
          0.9583333333333334,
          0.9583333333333334,
          0.8333333333333334,
          0.9166666666666666,
          0.7916666666666666,
          0.9166666666666666,
          0.875,
          0.875,
          0.875,
          0.9166666666666666,
          0.8333333333333334,
          0.5416666666666666,
          0.9166666666666666,
          0.7916666666666666,
          0.875,
          0.875,
          0.9166666666666666,
          0.9166666666666666,
          0.875,
          0.7083333333333334,
          0.9166666666666666,
          0.8333333333333334,
          0.8333333333333334,
          0.8333333333333334,
          0.75,
          0.9166666666666666,
          0.75,
          0.9166666666666666,
          0.875,
          0.9166666666666666,
          0.625,
          0.8333333333333334,
          0.75,
          0.9166666666666666,
          0.8333333333333334,
          0.75,
          0.6666666666666666,
          0.8333333333333334,
          0.875,
          0.7083333333333334,
          0.8333333333333334,
          0.75,
          0.875,
          0.75,
          0.8333333333333334,
          0.875,
          0.7916666666666666,
          0.7916666666666666,
          0.9166666666666666,
          0.8333333333333334,
          0.9583333333333334,
          0.7083333333333334,
          0.7916666666666666,
          0.75,
          0.5833333333333334,
          0.625,
          0.7083333333333334,
          0.625,
          0.9166666666666666,
          0.7083333333333334,
          0.7916666666666666,
          0.8333333333333334,
          0.75,
          1,
          0.7916666666666666,
          0.8333333333333334,
          0.875,
          0.8333333333333334,
          0.7083333333333334,
          0.9166666666666666,
          0.75,
          0.7916666666666666,
          0.8333333333333334,
          0.9166666666666666,
          0.7916666666666666,
          0.9166666666666666,
          0.8333333333333334,
          0.75,
          0.7916666666666666,
          0.875,
          0.8333333333333334,
          0.7916666666666666,
          0.9166666666666666,
          0.7083333333333334,
          0.8333333333333334,
          0.8333333333333334,
          0.8333333333333334,
          0.75,
          0.8333333333333334,
          0.8333333333333334,
          0.875,
          0.875,
          0.9166666666666666,
          0.5416666666666666,
          0.7916666666666666,
          0.875,
          0.7916666666666666,
          0.875,
          0.75,
          0.7916666666666666,
          0.8333333333333334,
          0.625,
          0.8333333333333334,
          0.75,
          0.7916666666666666,
          0.8333333333333334,
          0.7916666666666666,
          0.8333333333333334,
          0.5416666666666666,
          0.7083333333333334,
          0.7916666666666666,
          0.9166666666666666,
          0.7916666666666666,
          0.7083333333333334,
          0.75,
          0.9166666666666666,
          0.875,
          0.8333333333333334,
          0.7916666666666666,
          0.75,
          0.8333333333333334,
          0.875,
          0.75,
          0.9166666666666666,
          0.7916666666666666,
          0.625,
          0.8333333333333334,
          0.875,
          0.8333333333333334,
          0.7916666666666666,
          0.9166666666666666,
          0.875,
          0.7083333333333334,
          0.875,
          0.75,
          0.7083333333333334,
          0.9166666666666666,
          0.8333333333333334,
          0.625,
          0.7916666666666666,
          0.7916666666666666,
          0.75,
          0.7916666666666666,
          0.9166666666666666,
          0.7916666666666666,
          0.4166666666666667,
          0.9583333333333334,
          0.8333333333333334,
          0.5833333333333334,
          0.875,
          0.9583333333333334,
          0.8333333333333334,
          0.875,
          0.7916666666666666,
          0.875,
          0.7916666666666666,
          0.7916666666666666,
          0.9166666666666666,
          0.875,
          0.7083333333333334,
          0.9166666666666666,
          0.7916666666666666,
          0.8333333333333334,
          0.9166666666666666,
          0.9166666666666666,
          0.7916666666666666,
          0.6666666666666666,
          0.9166666666666666,
          0.9166666666666666,
          0.9583333333333334,
          0.8333333333333334,
          0.9166666666666666,
          0.7083333333333334,
          0.5833333333333334,
          0.7916666666666666,
          0.625,
          0.7916666666666666,
          0.7916666666666666,
          0.7083333333333334,
          0.8333333333333334,
          0.875,
          0.9583333333333334,
          0.9166666666666666,
          0.7083333333333334,
          0.8333333333333334,
          0.75,
          0.8333333333333334,
          0.75,
          0.8333333333333334,
          0.7916666666666666,
          0.7916666666666666,
          0.8333333333333334,
          0.7916666666666666,
          0.6666666666666666,
          0.625,
          0.875,
          0.7083333333333334,
          0.8333333333333334,
          0.875,
          0.8333333333333334,
          0.875,
          0.7083333333333334,
          0.7916666666666666,
          0.8333333333333334,
          0.8333333333333334,
          0.9166666666666666,
          0.8333333333333334,
          0.75,
          0.5416666666666666,
          0.8333333333333334,
          0.7916666666666666,
          0.8333333333333334,
          0.7916666666666666,
          0.625,
          0.9166666666666666,
          0.75,
          0.75,
          0.7916666666666666,
          0.875,
          0.9166666666666666,
          0.75,
          0.8333333333333334,
          0.875,
          0.8333333333333334,
          0.8333333333333334,
          0.6666666666666666,
          0.9166666666666666,
          0.875,
          0.75,
          0.9166666666666666,
          0.8333333333333334,
          0.6666666666666666,
          0.875,
          0.8333333333333334,
          0.75,
          0.8333333333333334,
          0.8333333333333334,
          0.875,
          0.9583333333333334,
          0.7916666666666666,
          0.875,
          0.6666666666666666,
          0.8333333333333334,
          0.8333333333333334,
          0.7916666666666666,
          0.6666666666666666,
          0.7083333333333334,
          0.6666666666666666,
          0.7916666666666666,
          0.9583333333333334,
          0.9166666666666666,
          0.8333333333333334,
          0.9166666666666666,
          0.7916666666666666,
          0.75,
          0.8333333333333334,
          0.875,
          0.875,
          0.7916666666666666,
          0.875,
          0.8333333333333334,
          0.7916666666666666,
          0.7916666666666666,
          0.9166666666666666,
          0.875,
          0.7916666666666666,
          0.7083333333333334,
          0.7083333333333334,
          0.9166666666666666,
          0.8333333333333334,
          0.8333333333333334,
          0.6666666666666666,
          0.9166666666666666,
          0.8333333333333334,
          0.9166666666666666,
          0.9166666666666666,
          0.8333333333333334,
          0.8333333333333334,
          0.875,
          0.8333333333333334,
          0.9166666666666666,
          0.7916666666666666,
          0.9583333333333334,
          0.6666666666666666,
          0.9166666666666666,
          0.8333333333333334,
          0.875,
          0.875,
          0.9166666666666666,
          0.8333333333333334,
          0.9583333333333334,
          0.9166666666666666,
          0.5416666666666666,
          0.8333333333333334,
          0.8333333333333334,
          0.875,
          0.7083333333333334,
          0.9166666666666666,
          0.7083333333333334,
          0.7916666666666666,
          0.8333333333333334,
          0.7083333333333334,
          0.875,
          0.6666666666666666,
          0.625,
          0.8333333333333334,
          0.875,
          0.8333333333333334,
          0.5,
          0.9583333333333334,
          0.4166666666666667,
          0.75,
          0.875,
          0.8333333333333334,
          0.7083333333333334,
          0.875,
          0.8333333333333334,
          0.6666666666666666,
          0.9166666666666666,
          0.7916666666666666,
          0.7083333333333334,
          0.9166666666666666,
          0.8333333333333334,
          0.7083333333333334,
          0.9166666666666666,
          0.875,
          0.625,
          0.8333333333333334,
          0.7083333333333334,
          0.75,
          0.875,
          0.9166666666666666,
          0.8333333333333334,
          0.8333333333333334,
          0.9583333333333334,
          0.875,
          0.875,
          0.9583333333333334,
          0.4583333333333333,
          0.9166666666666666,
          0.7916666666666666,
          0.9166666666666666,
          0.875,
          0.9166666666666666,
          1,
          0.875,
          0.8333333333333334,
          0.6666666666666666,
          0.625,
          0.7916666666666666,
          0.8333333333333334,
          0.875,
          0.8333333333333334,
          0.7083333333333334,
          0.8333333333333334,
          0.9166666666666666,
          0.6666666666666666,
          0.7916666666666666,
          0.9583333333333334,
          0.5833333333333334,
          0.75,
          0.7916666666666666,
          0.875,
          0.8333333333333334,
          0.9583333333333334,
          0.8333333333333334,
          0.7083333333333334,
          0.625,
          0.8333333333333334,
          0.875,
          0.9166666666666666,
          0.7083333333333334,
          0.875,
          0.875,
          0.7916666666666666,
          0.9583333333333334,
          0.875,
          0.75,
          0.75,
          0.9166666666666666,
          0.7083333333333334,
          0.8333333333333334,
          0.9166666666666666,
          0.7083333333333334,
          1,
          0.7083333333333334,
          0.9166666666666666,
          0.9583333333333334,
          0.875,
          0.8333333333333334,
          0.9166666666666666,
          0.8333333333333334,
          0.9583333333333334,
          0.6666666666666666,
          0.9166666666666666,
          1,
          0.9166666666666666,
          0.875,
          0.7916666666666666,
          0.8333333333333334,
          0.9166666666666666,
          0.9166666666666666,
          0.8333333333333334,
          0.7916666666666666,
          0.5833333333333334,
          0.875,
          0.9166666666666666,
          0.75,
          0.9166666666666666,
          0.7083333333333334,
          0.8333333333333334,
          0.6666666666666666,
          0.9166666666666666,
          0.7916666666666666,
          0.7916666666666666,
          0.8333333333333334,
          0.9583333333333334,
          0.8333333333333334,
          0.9583333333333334,
          0.7916666666666666,
          1,
          0.9583333333333334,
          0.5416666666666666,
          0.8333333333333334,
          0.8333333333333334,
          0.9166666666666666,
          0.8333333333333334,
          0.625,
          0.9583333333333334,
          0.5833333333333334,
          0.875,
          0.625,
          0.875,
          0.9166666666666666,
          0.9166666666666666,
          0.7916666666666666,
          0.875,
          0.7083333333333334,
          0.5833333333333334,
          0.8333333333333334,
          0.7916666666666666,
          0.7916666666666666,
          1,
          0.875,
          0.9166666666666666,
          0.9583333333333334,
          0.875,
          0.75,
          0.8333333333333334,
          0.7083333333333334,
          0.7916666666666666,
          0.875,
          0.7916666666666666,
          0.8333333333333334,
          0.8333333333333334,
          0.9166666666666666,
          0.7083333333333334,
          0.9166666666666666,
          0.7916666666666666,
          0.8333333333333334,
          0.7916666666666666,
          0.9583333333333334,
          0.5833333333333334,
          0.7916666666666666,
          0.7083333333333334,
          0.7083333333333334,
          0.875,
          0.9583333333333334,
          0.8333333333333334,
          0.7083333333333334,
          0.7083333333333334,
          0.75,
          0.875,
          0.75,
          0.6666666666666666,
          0.875,
          0.7916666666666666,
          0.6666666666666666,
          0.9166666666666666,
          0.8333333333333334,
          0.8333333333333334,
          0.875,
          0.9166666666666666,
          0.9583333333333334,
          0.6666666666666666,
          0.8333333333333334,
          0.875,
          0.75,
          0.9166666666666666,
          0.8333333333333334,
          0.75,
          0.875,
          0.9166666666666666,
          0.7916666666666666,
          0.8333333333333334,
          0.9583333333333334,
          0.6666666666666666,
          0.875,
          0.7916666666666666,
          0.9166666666666666,
          0.9583333333333334,
          0.625,
          0.8333333333333334,
          0.875,
          0.75,
          0.8333333333333334,
          0.7916666666666666,
          0.9166666666666666,
          0.7916666666666666,
          0.75,
          0.9166666666666666,
          0.8333333333333334,
          0.9166666666666666,
          0.875,
          0.75,
          0.7916666666666666,
          0.7916666666666666,
          0.7916666666666666,
          0.5,
          0.7083333333333334,
          0.7916666666666666,
          0.75,
          0.7916666666666666,
          0.75,
          0.6666666666666666,
          0.7916666666666666,
          0.875,
          0.6666666666666666,
          0.75,
          0.7083333333333334,
          0.7083333333333334,
          0.7916666666666666,
          0.875,
          0.7916666666666666,
          0.875,
          0.9166666666666666,
          0.9166666666666666,
          0.875,
          0.875,
          0.75,
          0.875,
          0.8333333333333334,
          0.875,
          0.75,
          0.7916666666666666,
          1,
          0.875,
          0.6666666666666666,
          0.6666666666666666,
          0.7916666666666666,
          0.875,
          0.9583333333333334,
          0.8333333333333334,
          0.8333333333333334,
          0.6666666666666666,
          0.75,
          0.7083333333333334,
          0.875,
          0.8333333333333334,
          0.75,
          0.9166666666666666,
          0.9166666666666666,
          0.9166666666666666,
          0.9166666666666666,
          0.9166666666666666,
          0.8333333333333334,
          0.9166666666666666,
          0.8333333333333334,
          0.8333333333333334,
          0.8333333333333334,
          0.9166666666666666,
          0.9166666666666666,
          0.7916666666666666,
          0.875,
          0.7916666666666666,
          0.875,
          0.875,
          0.7916666666666666,
          0.9166666666666666,
          0.6666666666666666,
          0.625,
          0.8333333333333334,
          0.9166666666666666,
          0.7083333333333334,
          0.875,
          0.875,
          0.875,
          0.625,
          0.8333333333333334,
          0.875,
          0.875,
          0.9583333333333334,
          0.9166666666666666,
          0.9583333333333334,
          0.7083333333333334,
          0.8333333333333334,
          0.9166666666666666,
          0.9583333333333334,
          0.9166666666666666,
          0.9166666666666666,
          0.8333333333333334,
          0.7083333333333334,
          0.75,
          0.4166666666666667,
          0.8333333333333334,
          0.8333333333333334,
          0.7916666666666666,
          0.7916666666666666,
          0.875,
          0.7916666666666666,
          0.8333333333333334,
          0.9583333333333334,
          0.9166666666666666,
          0.9166666666666666,
          0.875,
          0.8333333333333334,
          0.8333333333333334,
          0.75,
          0.8333333333333334,
          0.7083333333333334,
          0.8333333333333334,
          0.8333333333333334,
          0.875,
          0.7916666666666666,
          0.9583333333333334,
          0.9166666666666666,
          0.7916666666666666,
          0.8333333333333334,
          0.9166666666666666,
          0.7916666666666666,
          0.8333333333333334,
          0.9166666666666666,
          0.7916666666666666,
          0.9166666666666666,
          0.8333333333333334,
          0.9166666666666666,
          0.9583333333333334,
          0.8333333333333334,
          0.6666666666666666,
          1,
          0.9583333333333334,
          0.8333333333333334,
          0.8333333333333334,
          0.9166666666666666,
          0.9583333333333334,
          1,
          0.875,
          0.6666666666666666,
          0.7083333333333334,
          0.7916666666666666,
          0.8333333333333334,
          0.875,
          0.8333333333333334,
          0.7916666666666666,
          0.875,
          0.9166666666666666,
          0.9166666666666666,
          0.7916666666666666,
          0.7083333333333334,
          0.9583333333333334,
          0.9583333333333334,
          0.8333333333333334,
          0.875,
          0.75,
          0.7916666666666666,
          0.8333333333333334,
          0.9583333333333334,
          0.6666666666666666,
          0.8333333333333334,
          0.8333333333333334,
          0.7083333333333334,
          0.9166666666666666,
          0.75,
          0.75,
          0.9166666666666666,
          0.8333333333333334,
          0.875,
          0.7916666666666666,
          1,
          0.875,
          0.7916666666666666,
          0.9166666666666666,
          0.7916666666666666,
          0.9166666666666666,
          0.9166666666666666,
          0.9166666666666666,
          0.9166666666666666,
          0.7916666666666666,
          0.9583333333333334,
          0.9583333333333334,
          0.9583333333333334,
          0.75,
          0.6666666666666666,
          0.875,
          0.9583333333333334,
          0.875,
          0.9166666666666666,
          0.9583333333333334,
          0.9166666666666666,
          0.9583333333333334,
          0.9166666666666666,
          0.7916666666666666,
          0.875,
          0.875,
          0.8333333333333334,
          0.8333333333333334,
          0.75,
          0.8333333333333334,
          0.8333333333333334,
          0.875,
          0.875,
          0.9166666666666666,
          0.875,
          0.9166666666666666,
          0.8333333333333334,
          0.9583333333333334,
          0.7916666666666666,
          0.9583333333333334,
          0.875,
          1,
          0.6666666666666666,
          0.9583333333333334,
          0.8333333333333334,
          0.6666666666666666,
          0.8333333333333334,
          0.8333333333333334,
          0.625,
          0.6666666666666666,
          0.7916666666666666,
          0.875,
          0.875,
          0.7916666666666666,
          0.7916666666666666,
          0.875,
          0.9166666666666666,
          0.9166666666666666,
          1,
          1,
          0.9166666666666666,
          0.7916666666666666,
          0.7916666666666666,
          0.9166666666666666,
          0.875,
          0.8333333333333334,
          0.7083333333333334,
          0.7916666666666666,
          0.9166666666666666,
          0.8333333333333334,
          0.9166666666666666,
          0.875,
          0.875,
          0.625,
          1,
          0.6666666666666666,
          0.7083333333333334,
          0.9583333333333334,
          0.875,
          0.7916666666666666,
          0.625,
          0.9166666666666666,
          0.6666666666666666,
          0.7916666666666666,
          0.8333333333333334,
          0.75,
          0.8333333333333334,
          0.9166666666666666,
          0.9166666666666666,
          0.7083333333333334,
          0.5833333333333334,
          0.7083333333333334,
          0.7083333333333334,
          0.8333333333333334,
          1,
          0.8333333333333334,
          0.8333333333333334,
          0.75,
          0.875,
          0.9583333333333334,
          0.875,
          0.9583333333333334,
          0.9583333333333334,
          0.8333333333333334,
          0.7916666666666666,
          0.6666666666666666,
          0.875,
          0.8333333333333334,
          0.9166666666666666,
          0.8333333333333334,
          0.8333333333333334,
          0.7916666666666666,
          0.9166666666666666,
          0.875,
          0.7916666666666666,
          0.875,
          0.7083333333333334,
          0.9583333333333334,
          0.875,
          0.9166666666666666,
          0.9166666666666666,
          0.7916666666666666,
          0.9583333333333334,
          0.9166666666666666,
          0.75,
          0.7916666666666666,
          0.7083333333333334,
          0.9166666666666666,
          0.9166666666666666,
          0.75,
          0.7916666666666666,
          0.875,
          0.7916666666666666,
          0.9583333333333334,
          0.6666666666666666,
          0.7916666666666666,
          0.9166666666666666,
          0.8333333333333334,
          0.6666666666666666,
          0.7083333333333334,
          0.75,
          0.9583333333333334,
          0.7916666666666666,
          0.7916666666666666,
          0.7916666666666666,
          0.9583333333333334,
          0.9583333333333334,
          0.875,
          0.8333333333333334,
          0.9166666666666666,
          0.8333333333333334,
          0.8333333333333334,
          0.875,
          0.9583333333333334,
          1,
          0.8333333333333334,
          0.6666666666666666,
          0.9583333333333334,
          0.75,
          0.875,
          0.875,
          0.875,
          0.9166666666666666,
          0.875,
          0.9583333333333334,
          0.875,
          0.9166666666666666,
          1,
          0.9583333333333334,
          0.7916666666666666,
          0.6666666666666666,
          0.7916666666666666,
          0.9166666666666666,
          0.8333333333333334,
          0.8333333333333334,
          0.625,
          0.875,
          0.9166666666666666,
          0.875,
          0.9583333333333334,
          0.875,
          0.9166666666666666,
          0.75,
          0.875,
          0.7916666666666666,
          0.8333333333333334,
          0.875,
          0.9583333333333334,
          0.8333333333333334,
          0.8333333333333334,
          0.9166666666666666,
          0.7916666666666666,
          0.7083333333333334,
          0.9166666666666666,
          0.875,
          0.9583333333333334,
          0.7083333333333334,
          0.7916666666666666,
          0.9166666666666666,
          0.7083333333333334,
          1,
          0.875,
          0.5416666666666666,
          0.7916666666666666,
          0.7916666666666666,
          0.7916666666666666,
          0.7083333333333334,
          0.4583333333333333,
          0.7916666666666666,
          0.9166666666666666,
          0.9166666666666666,
          0.875,
          0.875,
          0.875,
          0.9166666666666666,
          0.6666666666666666,
          0.7916666666666666,
          0.7916666666666666,
          0.9166666666666666,
          0.875,
          0.875,
          0.9583333333333334,
          0.75,
          0.875,
          0.875,
          0.875,
          0.875,
          0.7916666666666666,
          0.7916666666666666,
          0.8333333333333334,
          0.875,
          0.7916666666666666,
          0.875,
          0.8333333333333334,
          0.7083333333333334,
          0.9583333333333334,
          0.7083333333333334,
          0.7083333333333334,
          0.875,
          0.9166666666666666,
          0.9583333333333334,
          0.9583333333333334,
          0.9166666666666666,
          0.75,
          0.7083333333333334,
          0.9166666666666666,
          0.875,
          0.9166666666666666,
          0.9166666666666666,
          0.8333333333333334,
          0.875,
          0.9583333333333334,
          1,
          1,
          0.8333333333333334,
          0.5416666666666666,
          0.8333333333333334,
          0.7083333333333334,
          0.8333333333333334,
          0.9166666666666666,
          0.875,
          0.8333333333333334,
          0.875,
          0.875,
          0.8333333333333334,
          0.8333333333333334,
          0.7916666666666666,
          0.875,
          0.7916666666666666,
          0.875,
          0.9583333333333334,
          0.8333333333333334,
          0.7916666666666666,
          0.875,
          0.9166666666666666,
          0.8333333333333334,
          0.8333333333333334,
          0.8333333333333334,
          0.9583333333333334,
          0.9583333333333334,
          0.7916666666666666,
          0.7083333333333334,
          0.8333333333333334,
          0.875,
          0.9166666666666666,
          0.6666666666666666,
          0.9583333333333334,
          0.9166666666666666,
          0.7916666666666666,
          0.7916666666666666,
          0.9583333333333334,
          1,
          0.6666666666666666,
          0.9583333333333334,
          0.75,
          0.7083333333333334,
          0.9166666666666666,
          0.7083333333333334,
          0.7916666666666666,
          0.8333333333333334,
          0.75,
          0.75,
          0.8333333333333334,
          0.9166666666666666,
          0.625,
          0.7916666666666666,
          0.9166666666666666,
          0.9583333333333334,
          0.9166666666666666,
          0.5833333333333334,
          0.9166666666666666,
          0.9166666666666666,
          0.8333333333333334,
          0.8333333333333334,
          0.8333333333333334,
          0.75,
          0.875,
          0.9583333333333334,
          0.875,
          0.7916666666666666,
          0.9166666666666666,
          0.9166666666666666,
          0.8333333333333334,
          0.875,
          0.8333333333333334,
          0.9166666666666666,
          0.8333333333333334,
          0.7916666666666666,
          0.8333333333333334,
          0.8333333333333334,
          0.7916666666666666,
          0.7916666666666666,
          0.9166666666666666,
          0.7916666666666666,
          0.9166666666666666,
          0.875,
          0.9166666666666666,
          0.7916666666666666,
          0.875,
          0.875,
          0.9166666666666666,
          0.7083333333333334,
          0.8333333333333334,
          0.75,
          0.9583333333333334,
          1,
          0.7083333333333334,
          0.7916666666666666,
          0.7916666666666666,
          0.75,
          0.9166666666666666,
          0.9166666666666666,
          0.75,
          0.875,
          1,
          0.8333333333333334,
          0.875,
          0.875,
          0.9166666666666666,
          0.75,
          0.875,
          0.7083333333333334,
          0.7083333333333334,
          0.8333333333333334,
          0.5833333333333334,
          1,
          0.7083333333333334,
          0.875,
          0.75,
          0.8333333333333334,
          0.7083333333333334,
          0.8333333333333334,
          0.9583333333333334,
          0.7916666666666666,
          0.6666666666666666,
          0.8333333333333334,
          0.7916666666666666,
          0.8333333333333334,
          0.9166666666666666,
          0.625,
          0.9166666666666666,
          0.875,
          0.875,
          0.875,
          0.9583333333333334,
          0.8333333333333334,
          0.7916666666666666,
          0.7916666666666666,
          0.8333333333333334,
          0.9166666666666666,
          0.7916666666666666,
          0.7916666666666666,
          0.8333333333333334,
          0.875,
          0.8333333333333334,
          0.9583333333333334,
          0.875,
          0.7916666666666666,
          0.7916666666666666,
          0.7916666666666666,
          0.875,
          0.7916666666666666,
          0.875,
          0.7916666666666666,
          0.875,
          0.7083333333333334,
          0.7916666666666666,
          0.875,
          0.7916666666666666,
          0.8333333333333334,
          0.7916666666666666,
          0.9583333333333334,
          0.9166666666666666,
          0.8333333333333334,
          0.8333333333333334,
          0.875,
          0.7083333333333334,
          0.8333333333333334,
          0.875,
          0.6666666666666666,
          0.75,
          0.875,
          0.9583333333333334,
          0.9166666666666666,
          0.75,
          0.875,
          0.9583333333333334,
          0.8333333333333334,
          0.8333333333333334,
          0.8333333333333334,
          0.9166666666666666,
          0.9166666666666666,
          0.75,
          0.9166666666666666,
          0.7083333333333334,
          0.7916666666666666,
          0.9166666666666666,
          0.7916666666666666,
          0.875,
          0.6666666666666666,
          0.9166666666666666,
          0.875,
          0.8333333333333334,
          0.875,
          0.8333333333333334,
          0.9166666666666666,
          0.7083333333333334,
          0.7083333333333334,
          0.9583333333333334,
          0.7916666666666666,
          0.6666666666666666,
          0.875,
          0.9166666666666666,
          0.8333333333333334,
          0.5833333333333334,
          0.9583333333333334,
          0.8333333333333334,
          0.9166666666666666,
          0.625,
          0.625,
          0.7916666666666666,
          0.875,
          0.75,
          0.9166666666666666,
          0.875,
          1,
          0.75,
          0.9166666666666666,
          0.875,
          0.7083333333333334,
          0.9583333333333334,
          0.8333333333333334,
          0.9166666666666666,
          0.7083333333333334,
          0.875,
          0.875,
          0.8333333333333334,
          0.875,
          0.9583333333333334,
          0.875,
          0.9166666666666666,
          0.8333333333333334,
          0.9166666666666666,
          0.6666666666666666,
          0.9166666666666666,
          0.9166666666666666,
          0.9166666666666666,
          0.9166666666666666,
          0.625,
          0.9166666666666666,
          0.875,
          0.8333333333333334,
          0.9166666666666666,
          0.875,
          0.875,
          0.875,
          0.7916666666666666,
          0.6666666666666666,
          0.7083333333333334,
          0.9583333333333334,
          0.9166666666666666,
          0.875,
          0.9583333333333334,
          0.8333333333333334,
          0.75,
          0.7916666666666666,
          0.7916666666666666,
          0.9166666666666666,
          0.7916666666666666,
          0.6666666666666666,
          0.9166666666666666,
          0.8333333333333334,
          0.9583333333333334,
          0.7916666666666666,
          0.875,
          0.8333333333333334,
          0.8333333333333334,
          0.8333333333333334,
          0.9166666666666666,
          0.875,
          1,
          0.8333333333333334,
          0.9166666666666666,
          0.9583333333333334,
          0.9583333333333334,
          0.7916666666666666,
          0.9166666666666666,
          0.75,
          0.8333333333333334,
          0.875,
          0.8333333333333334,
          0.75,
          0.875,
          0.9583333333333334,
          0.8333333333333334,
          0.8333333333333334,
          0.8333333333333334,
          0.875,
          0.875,
          0.9583333333333334,
          0.5833333333333334,
          0.875,
          0.9166666666666666,
          0.8333333333333334,
          0.75,
          0.875,
          0.7916666666666666,
          0.9166666666666666,
          1,
          0.9166666666666666,
          0.75,
          0.7916666666666666,
          0.9166666666666666,
          0.8333333333333334,
          0.9583333333333334,
          0.9583333333333334,
          0.5833333333333334,
          0.8333333333333334,
          0.7916666666666666,
          0.625,
          0.7916666666666666,
          0.5416666666666666,
          0.7083333333333334,
          0.9166666666666666,
          0.7916666666666666,
          0.9166666666666666,
          0.9583333333333334,
          0.875,
          0.875,
          0.8333333333333334,
          0.7916666666666666,
          0.875,
          0.9166666666666666,
          0.6666666666666666,
          0.875,
          0.8333333333333334,
          0.8333333333333334,
          0.9583333333333334,
          0.75,
          0.8333333333333334,
          0.8333333333333334,
          0.8333333333333334,
          0.7916666666666666,
          0.8333333333333334,
          0.9583333333333334,
          0.8333333333333334,
          0.875,
          0.7916666666666666,
          0.9583333333333334,
          0.6666666666666666,
          0.8333333333333334,
          0.875,
          0.9583333333333334,
          1,
          0.7916666666666666,
          0.9583333333333334,
          0.7916666666666666,
          1,
          0.75,
          0.7083333333333334,
          0.9583333333333334,
          0.875,
          0.8333333333333334,
          0.9166666666666666,
          0.7916666666666666,
          0.9166666666666666,
          0.9166666666666666,
          0.8333333333333334,
          0.875,
          0.9166666666666666,
          0.875,
          0.9583333333333334,
          0.7083333333333334,
          0.7916666666666666,
          0.8333333333333334,
          0.875,
          0.7083333333333334,
          0.5833333333333334,
          0.9583333333333334,
          0.9166666666666666,
          0.9583333333333334,
          0.9166666666666666,
          0.8333333333333334,
          0.8333333333333334,
          0.875,
          0.9583333333333334,
          0.7916666666666666,
          0.75,
          0.875,
          0.875,
          0.8333333333333334,
          0.875,
          0.8333333333333334,
          1,
          0.8333333333333334,
          0.8333333333333334,
          0.5416666666666666,
          0.875,
          0.75,
          0.875,
          0.9166666666666666,
          0.7916666666666666,
          0.9166666666666666,
          0.9583333333333334,
          0.8333333333333334,
          0.875,
          0.875,
          0.875,
          0.9166666666666666,
          0.9166666666666666,
          0.75,
          0.75,
          0.9583333333333334,
          1,
          0.9166666666666666,
          0.8333333333333334,
          0.75,
          0.5416666666666666,
          0.7916666666666666,
          0.7083333333333334,
          0.9166666666666666,
          0.7916666666666666,
          0.875,
          0.9166666666666666,
          0.625,
          0.875,
          0.7916666666666666,
          0.9583333333333334,
          0.9583333333333334,
          0.75,
          0.9166666666666666,
          0.9583333333333334,
          0.75,
          0.6666666666666666,
          0.875,
          0.7916666666666666,
          0.9166666666666666,
          0.9583333333333334,
          0.7083333333333334,
          0.9166666666666666,
          0.6666666666666666,
          0.9166666666666666,
          0.7916666666666666,
          0.8333333333333334,
          0.7083333333333334,
          0.7916666666666666,
          0.8333333333333334,
          0.875,
          0.75,
          1,
          0.75,
          0.7916666666666666,
          0.9166666666666666,
          0.9166666666666666,
          0.9166666666666666,
          1,
          0.8333333333333334,
          0.9166666666666666,
          0.875,
          0.9583333333333334,
          0.875,
          0.875,
          0.9166666666666666,
          0.75,
          0.9166666666666666,
          0.875,
          0.875,
          0.7916666666666666,
          0.875,
          0.7916666666666666,
          0.8333333333333334,
          0.8333333333333334,
          0.75,
          0.875,
          0.9583333333333334,
          0.7916666666666666,
          0.875,
          0.875,
          0.8333333333333334,
          0.7916666666666666,
          0.875,
          0.875,
          0.875,
          0.875,
          0.875,
          0.9583333333333334,
          0.875,
          0.8333333333333334,
          0.8333333333333334,
          0.9166666666666666,
          0.7916666666666666,
          0.875,
          0.875,
          0.8333333333333334,
          0.75,
          0.8333333333333334,
          1,
          0.9166666666666666,
          0.9583333333333334,
          0.8333333333333334,
          0.875,
          0.9166666666666666,
          0.75,
          0.7916666666666666,
          0.875,
          0.8333333333333334,
          0.6666666666666666,
          0.875,
          0.625,
          0.75,
          0.875,
          0.9166666666666666,
          0.9166666666666666,
          0.5833333333333334,
          0.75,
          0.7916666666666666,
          0.9166666666666666,
          1,
          0.8333333333333334,
          0.8333333333333334,
          0.8333333333333334,
          0.9166666666666666,
          0.875,
          0.875,
          0.9166666666666666,
          0.8333333333333334,
          0.7916666666666666,
          0.7916666666666666,
          0.875,
          0.7083333333333334,
          0.7083333333333334,
          0.8333333333333334,
          0.7916666666666666,
          0.4583333333333333,
          0.9166666666666666,
          0.75,
          0.875,
          0.8333333333333334,
          0.75,
          0.5,
          0.8333333333333334,
          0.9166666666666666,
          0.75,
          0.75,
          0.8333333333333334,
          0.875,
          0.9166666666666666,
          0.9166666666666666,
          0.9166666666666666,
          0.875,
          0.9583333333333334,
          0.7083333333333334,
          0.75,
          0.6666666666666666,
          0.875,
          0.6666666666666666,
          0.7916666666666666,
          0.9166666666666666,
          0.8333333333333334,
          0.875,
          0.875,
          0.8333333333333334,
          0.8333333333333334,
          0.875,
          0.9583333333333334,
          0.875,
          0.875,
          0.875,
          0.7916666666666666,
          0.9166666666666666,
          0.6666666666666666,
          0.9166666666666666,
          0.8333333333333334,
          0.875,
          0.75,
          0.8333333333333334,
          0.75,
          0.8333333333333334,
          0.5833333333333334,
          0.875,
          0.7916666666666666,
          0.875,
          0.75,
          0.875,
          0.875,
          1,
          0.8333333333333334,
          0.8333333333333334,
          0.8333333333333334,
          0.9583333333333334,
          0.7083333333333334,
          0.9166666666666666,
          0.8333333333333334,
          0.9166666666666666,
          0.8333333333333334,
          0.75,
          0.7083333333333334,
          0.7916666666666666,
          0.7083333333333334,
          0.9166666666666666,
          0.9166666666666666,
          0.75,
          0.9166666666666666,
          0.9583333333333334,
          0.875,
          0.7083333333333334,
          0.75,
          0.9166666666666666,
          0.875,
          0.9583333333333334,
          0.75,
          0.9166666666666666,
          0.9166666666666666,
          0.875,
          0.875,
          0.9166666666666666,
          0.9583333333333334,
          0.8333333333333334,
          0.875,
          0.75,
          0.75,
          0.7083333333333334,
          0.7916666666666666,
          0.875,
          0.7916666666666666,
          0.7916666666666666,
          0.7916666666666666,
          0.75,
          0.9166666666666666,
          0.75,
          0.9166666666666666,
          0.7083333333333334,
          0.875,
          0.8333333333333334,
          0.9166666666666666,
          0.875,
          0.625,
          0.7916666666666666,
          0.7916666666666666,
          0.9166666666666666,
          0.8333333333333334,
          0.875,
          0.75,
          0.5833333333333334,
          0.8333333333333334,
          0.9166666666666666,
          0.9583333333333334,
          0.8333333333333334,
          0.9583333333333334,
          0.8333333333333334,
          0.9166666666666666,
          0.8333333333333334,
          0.9166666666666666,
          0.8333333333333334,
          0.7916666666666666,
          0.8333333333333334,
          1,
          0.875,
          0.9166666666666666,
          0.75,
          1,
          0.9166666666666666,
          0.9166666666666666,
          0.9166666666666666,
          0.7083333333333334,
          0.8333333333333334,
          0.7916666666666666,
          0.875,
          0.7916666666666666,
          0.875,
          0.7916666666666666,
          0.875,
          0.875,
          0.9166666666666666,
          0.9166666666666666,
          0.8333333333333334,
          0.9166666666666666,
          0.875,
          0.625,
          0.9583333333333334,
          0.8333333333333334,
          0.7916666666666666,
          0.875,
          0.9583333333333334,
          0.8333333333333334,
          0.7083333333333334,
          0.875,
          0.7916666666666666,
          0.9583333333333334,
          0.9166666666666666,
          0.8333333333333334,
          0.9166666666666666,
          0.8333333333333334,
          0.9583333333333334,
          0.9166666666666666,
          0.7916666666666666,
          0.8333333333333334,
          0.7916666666666666,
          0.8333333333333334,
          0.6666666666666666,
          0.875,
          0.9166666666666666,
          0.8333333333333334,
          0.875,
          0.7916666666666666,
          0.875,
          0.8333333333333334,
          0.875,
          0.9166666666666666,
          0.9166666666666666,
          0.7083333333333334,
          0.875,
          0.875,
          0.75,
          0.7916666666666666,
          0.7083333333333334,
          0.7916666666666666,
          0.9166666666666666,
          0.875,
          0.875,
          0.875,
          0.8333333333333334,
          0.9166666666666666,
          0.7083333333333334,
          0.875,
          0.9166666666666666,
          0.875,
          0.9583333333333334,
          0.8333333333333334,
          0.8333333333333334,
          0.8333333333333334,
          0.875,
          0.6666666666666666,
          0.9583333333333334,
          0.9166666666666666,
          0.9583333333333334,
          0.9583333333333334,
          0.8333333333333334,
          0.8333333333333334,
          0.7916666666666666,
          0.7083333333333334,
          0.7083333333333334,
          0.9583333333333334,
          0.875,
          0.7916666666666666,
          0.9166666666666666,
          0.9583333333333334,
          0.8333333333333334,
          0.9583333333333334,
          0.7916666666666666,
          0.7916666666666666,
          0.5833333333333334,
          0.9166666666666666,
          0.9583333333333334,
          0.875,
          1,
          0.9166666666666666,
          0.75,
          0.9583333333333334,
          0.875,
          0.7916666666666666,
          0.9583333333333334,
          0.9166666666666666,
          0.8333333333333334,
          0.9166666666666666,
          0.9166666666666666,
          0.9166666666666666,
          0.9166666666666666,
          0.75,
          0.7916666666666666,
          0.625,
          0.5833333333333334,
          0.8333333333333334,
          0.6666666666666666,
          0.875,
          0.9583333333333334,
          0.875,
          0.8333333333333334,
          0.9166666666666666,
          0.7916666666666666,
          0.875,
          0.9583333333333334,
          0.9583333333333334,
          0.875,
          0.9166666666666666,
          0.7916666666666666
         ],
         "xaxis": "x",
         "yaxis": "y"
        }
       ],
       "layout": {
        "barmode": "relative",
        "legend": {
         "tracegroupgap": 0
        },
        "margin": {
         "t": 60
        },
        "shapes": [
         {
          "line": {
           "color": "red",
           "width": 2
          },
          "type": "line",
          "x0": 0.8311041666666668,
          "x1": 0.8311041666666668,
          "xref": "x",
          "y0": 0,
          "y1": 1,
          "yref": "y domain"
         },
         {
          "line": {
           "color": "orange",
           "width": 2
          },
          "type": "line",
          "x0": 0.7916666666666666,
          "x1": 0.7916666666666666,
          "xref": "x",
          "y0": 0,
          "y1": 1,
          "yref": "y domain"
         },
         {
          "line": {
           "color": "green",
           "width": 2
          },
          "type": "line",
          "x0": 0.875,
          "x1": 0.875,
          "xref": "x",
          "y0": 0,
          "y1": 1,
          "yref": "y domain"
         }
        ],
        "template": {
         "data": {
          "bar": [
           {
            "error_x": {
             "color": "#2a3f5f"
            },
            "error_y": {
             "color": "#2a3f5f"
            },
            "marker": {
             "line": {
              "color": "#E5ECF6",
              "width": 0.5
             },
             "pattern": {
              "fillmode": "overlay",
              "size": 10,
              "solidity": 0.2
             }
            },
            "type": "bar"
           }
          ],
          "barpolar": [
           {
            "marker": {
             "line": {
              "color": "#E5ECF6",
              "width": 0.5
             },
             "pattern": {
              "fillmode": "overlay",
              "size": 10,
              "solidity": 0.2
             }
            },
            "type": "barpolar"
           }
          ],
          "carpet": [
           {
            "aaxis": {
             "endlinecolor": "#2a3f5f",
             "gridcolor": "white",
             "linecolor": "white",
             "minorgridcolor": "white",
             "startlinecolor": "#2a3f5f"
            },
            "baxis": {
             "endlinecolor": "#2a3f5f",
             "gridcolor": "white",
             "linecolor": "white",
             "minorgridcolor": "white",
             "startlinecolor": "#2a3f5f"
            },
            "type": "carpet"
           }
          ],
          "choropleth": [
           {
            "colorbar": {
             "outlinewidth": 0,
             "ticks": ""
            },
            "type": "choropleth"
           }
          ],
          "contour": [
           {
            "colorbar": {
             "outlinewidth": 0,
             "ticks": ""
            },
            "colorscale": [
             [
              0,
              "#0d0887"
             ],
             [
              0.1111111111111111,
              "#46039f"
             ],
             [
              0.2222222222222222,
              "#7201a8"
             ],
             [
              0.3333333333333333,
              "#9c179e"
             ],
             [
              0.4444444444444444,
              "#bd3786"
             ],
             [
              0.5555555555555556,
              "#d8576b"
             ],
             [
              0.6666666666666666,
              "#ed7953"
             ],
             [
              0.7777777777777778,
              "#fb9f3a"
             ],
             [
              0.8888888888888888,
              "#fdca26"
             ],
             [
              1,
              "#f0f921"
             ]
            ],
            "type": "contour"
           }
          ],
          "contourcarpet": [
           {
            "colorbar": {
             "outlinewidth": 0,
             "ticks": ""
            },
            "type": "contourcarpet"
           }
          ],
          "heatmap": [
           {
            "colorbar": {
             "outlinewidth": 0,
             "ticks": ""
            },
            "colorscale": [
             [
              0,
              "#0d0887"
             ],
             [
              0.1111111111111111,
              "#46039f"
             ],
             [
              0.2222222222222222,
              "#7201a8"
             ],
             [
              0.3333333333333333,
              "#9c179e"
             ],
             [
              0.4444444444444444,
              "#bd3786"
             ],
             [
              0.5555555555555556,
              "#d8576b"
             ],
             [
              0.6666666666666666,
              "#ed7953"
             ],
             [
              0.7777777777777778,
              "#fb9f3a"
             ],
             [
              0.8888888888888888,
              "#fdca26"
             ],
             [
              1,
              "#f0f921"
             ]
            ],
            "type": "heatmap"
           }
          ],
          "heatmapgl": [
           {
            "colorbar": {
             "outlinewidth": 0,
             "ticks": ""
            },
            "colorscale": [
             [
              0,
              "#0d0887"
             ],
             [
              0.1111111111111111,
              "#46039f"
             ],
             [
              0.2222222222222222,
              "#7201a8"
             ],
             [
              0.3333333333333333,
              "#9c179e"
             ],
             [
              0.4444444444444444,
              "#bd3786"
             ],
             [
              0.5555555555555556,
              "#d8576b"
             ],
             [
              0.6666666666666666,
              "#ed7953"
             ],
             [
              0.7777777777777778,
              "#fb9f3a"
             ],
             [
              0.8888888888888888,
              "#fdca26"
             ],
             [
              1,
              "#f0f921"
             ]
            ],
            "type": "heatmapgl"
           }
          ],
          "histogram": [
           {
            "marker": {
             "pattern": {
              "fillmode": "overlay",
              "size": 10,
              "solidity": 0.2
             }
            },
            "type": "histogram"
           }
          ],
          "histogram2d": [
           {
            "colorbar": {
             "outlinewidth": 0,
             "ticks": ""
            },
            "colorscale": [
             [
              0,
              "#0d0887"
             ],
             [
              0.1111111111111111,
              "#46039f"
             ],
             [
              0.2222222222222222,
              "#7201a8"
             ],
             [
              0.3333333333333333,
              "#9c179e"
             ],
             [
              0.4444444444444444,
              "#bd3786"
             ],
             [
              0.5555555555555556,
              "#d8576b"
             ],
             [
              0.6666666666666666,
              "#ed7953"
             ],
             [
              0.7777777777777778,
              "#fb9f3a"
             ],
             [
              0.8888888888888888,
              "#fdca26"
             ],
             [
              1,
              "#f0f921"
             ]
            ],
            "type": "histogram2d"
           }
          ],
          "histogram2dcontour": [
           {
            "colorbar": {
             "outlinewidth": 0,
             "ticks": ""
            },
            "colorscale": [
             [
              0,
              "#0d0887"
             ],
             [
              0.1111111111111111,
              "#46039f"
             ],
             [
              0.2222222222222222,
              "#7201a8"
             ],
             [
              0.3333333333333333,
              "#9c179e"
             ],
             [
              0.4444444444444444,
              "#bd3786"
             ],
             [
              0.5555555555555556,
              "#d8576b"
             ],
             [
              0.6666666666666666,
              "#ed7953"
             ],
             [
              0.7777777777777778,
              "#fb9f3a"
             ],
             [
              0.8888888888888888,
              "#fdca26"
             ],
             [
              1,
              "#f0f921"
             ]
            ],
            "type": "histogram2dcontour"
           }
          ],
          "mesh3d": [
           {
            "colorbar": {
             "outlinewidth": 0,
             "ticks": ""
            },
            "type": "mesh3d"
           }
          ],
          "parcoords": [
           {
            "line": {
             "colorbar": {
              "outlinewidth": 0,
              "ticks": ""
             }
            },
            "type": "parcoords"
           }
          ],
          "pie": [
           {
            "automargin": true,
            "type": "pie"
           }
          ],
          "scatter": [
           {
            "fillpattern": {
             "fillmode": "overlay",
             "size": 10,
             "solidity": 0.2
            },
            "type": "scatter"
           }
          ],
          "scatter3d": [
           {
            "line": {
             "colorbar": {
              "outlinewidth": 0,
              "ticks": ""
             }
            },
            "marker": {
             "colorbar": {
              "outlinewidth": 0,
              "ticks": ""
             }
            },
            "type": "scatter3d"
           }
          ],
          "scattercarpet": [
           {
            "marker": {
             "colorbar": {
              "outlinewidth": 0,
              "ticks": ""
             }
            },
            "type": "scattercarpet"
           }
          ],
          "scattergeo": [
           {
            "marker": {
             "colorbar": {
              "outlinewidth": 0,
              "ticks": ""
             }
            },
            "type": "scattergeo"
           }
          ],
          "scattergl": [
           {
            "marker": {
             "colorbar": {
              "outlinewidth": 0,
              "ticks": ""
             }
            },
            "type": "scattergl"
           }
          ],
          "scattermapbox": [
           {
            "marker": {
             "colorbar": {
              "outlinewidth": 0,
              "ticks": ""
             }
            },
            "type": "scattermapbox"
           }
          ],
          "scatterpolar": [
           {
            "marker": {
             "colorbar": {
              "outlinewidth": 0,
              "ticks": ""
             }
            },
            "type": "scatterpolar"
           }
          ],
          "scatterpolargl": [
           {
            "marker": {
             "colorbar": {
              "outlinewidth": 0,
              "ticks": ""
             }
            },
            "type": "scatterpolargl"
           }
          ],
          "scatterternary": [
           {
            "marker": {
             "colorbar": {
              "outlinewidth": 0,
              "ticks": ""
             }
            },
            "type": "scatterternary"
           }
          ],
          "surface": [
           {
            "colorbar": {
             "outlinewidth": 0,
             "ticks": ""
            },
            "colorscale": [
             [
              0,
              "#0d0887"
             ],
             [
              0.1111111111111111,
              "#46039f"
             ],
             [
              0.2222222222222222,
              "#7201a8"
             ],
             [
              0.3333333333333333,
              "#9c179e"
             ],
             [
              0.4444444444444444,
              "#bd3786"
             ],
             [
              0.5555555555555556,
              "#d8576b"
             ],
             [
              0.6666666666666666,
              "#ed7953"
             ],
             [
              0.7777777777777778,
              "#fb9f3a"
             ],
             [
              0.8888888888888888,
              "#fdca26"
             ],
             [
              1,
              "#f0f921"
             ]
            ],
            "type": "surface"
           }
          ],
          "table": [
           {
            "cells": {
             "fill": {
              "color": "#EBF0F8"
             },
             "line": {
              "color": "white"
             }
            },
            "header": {
             "fill": {
              "color": "#C8D4E3"
             },
             "line": {
              "color": "white"
             }
            },
            "type": "table"
           }
          ]
         },
         "layout": {
          "annotationdefaults": {
           "arrowcolor": "#2a3f5f",
           "arrowhead": 0,
           "arrowwidth": 1
          },
          "autotypenumbers": "strict",
          "coloraxis": {
           "colorbar": {
            "outlinewidth": 0,
            "ticks": ""
           }
          },
          "colorscale": {
           "diverging": [
            [
             0,
             "#8e0152"
            ],
            [
             0.1,
             "#c51b7d"
            ],
            [
             0.2,
             "#de77ae"
            ],
            [
             0.3,
             "#f1b6da"
            ],
            [
             0.4,
             "#fde0ef"
            ],
            [
             0.5,
             "#f7f7f7"
            ],
            [
             0.6,
             "#e6f5d0"
            ],
            [
             0.7,
             "#b8e186"
            ],
            [
             0.8,
             "#7fbc41"
            ],
            [
             0.9,
             "#4d9221"
            ],
            [
             1,
             "#276419"
            ]
           ],
           "sequential": [
            [
             0,
             "#0d0887"
            ],
            [
             0.1111111111111111,
             "#46039f"
            ],
            [
             0.2222222222222222,
             "#7201a8"
            ],
            [
             0.3333333333333333,
             "#9c179e"
            ],
            [
             0.4444444444444444,
             "#bd3786"
            ],
            [
             0.5555555555555556,
             "#d8576b"
            ],
            [
             0.6666666666666666,
             "#ed7953"
            ],
            [
             0.7777777777777778,
             "#fb9f3a"
            ],
            [
             0.8888888888888888,
             "#fdca26"
            ],
            [
             1,
             "#f0f921"
            ]
           ],
           "sequentialminus": [
            [
             0,
             "#0d0887"
            ],
            [
             0.1111111111111111,
             "#46039f"
            ],
            [
             0.2222222222222222,
             "#7201a8"
            ],
            [
             0.3333333333333333,
             "#9c179e"
            ],
            [
             0.4444444444444444,
             "#bd3786"
            ],
            [
             0.5555555555555556,
             "#d8576b"
            ],
            [
             0.6666666666666666,
             "#ed7953"
            ],
            [
             0.7777777777777778,
             "#fb9f3a"
            ],
            [
             0.8888888888888888,
             "#fdca26"
            ],
            [
             1,
             "#f0f921"
            ]
           ]
          },
          "colorway": [
           "#636efa",
           "#EF553B",
           "#00cc96",
           "#ab63fa",
           "#FFA15A",
           "#19d3f3",
           "#FF6692",
           "#B6E880",
           "#FF97FF",
           "#FECB52"
          ],
          "font": {
           "color": "#2a3f5f"
          },
          "geo": {
           "bgcolor": "white",
           "lakecolor": "white",
           "landcolor": "#E5ECF6",
           "showlakes": true,
           "showland": true,
           "subunitcolor": "white"
          },
          "hoverlabel": {
           "align": "left"
          },
          "hovermode": "closest",
          "mapbox": {
           "style": "light"
          },
          "paper_bgcolor": "white",
          "plot_bgcolor": "#E5ECF6",
          "polar": {
           "angularaxis": {
            "gridcolor": "white",
            "linecolor": "white",
            "ticks": ""
           },
           "bgcolor": "#E5ECF6",
           "radialaxis": {
            "gridcolor": "white",
            "linecolor": "white",
            "ticks": ""
           }
          },
          "scene": {
           "xaxis": {
            "backgroundcolor": "#E5ECF6",
            "gridcolor": "white",
            "gridwidth": 2,
            "linecolor": "white",
            "showbackground": true,
            "ticks": "",
            "zerolinecolor": "white"
           },
           "yaxis": {
            "backgroundcolor": "#E5ECF6",
            "gridcolor": "white",
            "gridwidth": 2,
            "linecolor": "white",
            "showbackground": true,
            "ticks": "",
            "zerolinecolor": "white"
           },
           "zaxis": {
            "backgroundcolor": "#E5ECF6",
            "gridcolor": "white",
            "gridwidth": 2,
            "linecolor": "white",
            "showbackground": true,
            "ticks": "",
            "zerolinecolor": "white"
           }
          },
          "shapedefaults": {
           "line": {
            "color": "#2a3f5f"
           }
          },
          "ternary": {
           "aaxis": {
            "gridcolor": "white",
            "linecolor": "white",
            "ticks": ""
           },
           "baxis": {
            "gridcolor": "white",
            "linecolor": "white",
            "ticks": ""
           },
           "bgcolor": "#E5ECF6",
           "caxis": {
            "gridcolor": "white",
            "linecolor": "white",
            "ticks": ""
           }
          },
          "title": {
           "x": 0.05
          },
          "xaxis": {
           "automargin": true,
           "gridcolor": "white",
           "linecolor": "white",
           "ticks": "",
           "title": {
            "standoff": 15
           },
           "zerolinecolor": "white",
           "zerolinewidth": 2
          },
          "yaxis": {
           "automargin": true,
           "gridcolor": "white",
           "linecolor": "white",
           "ticks": "",
           "title": {
            "standoff": 15
           },
           "zerolinecolor": "white",
           "zerolinewidth": 2
          }
         }
        },
        "xaxis": {
         "anchor": "y",
         "domain": [
          0,
          1
         ],
         "tickmode": "array",
         "tickvals": [
          0.8311041666666668,
          0.7916666666666666,
          0.875
         ],
         "title": {
          "text": "subset_acc"
         }
        },
        "yaxis": {
         "anchor": "x",
         "domain": [
          0,
          1
         ],
         "title": {
          "text": "count"
         }
        }
       }
      }
     },
     "metadata": {},
     "output_type": "display_data"
    }
   ],
   "source": [
    "meanVal = caseAccDf[\"subset_acc\"].mean()\n",
    "# medianVal = multilabelCaseDf[\"subset_acc\"].median()\n",
    "firstQuarter = np.quantile(caseAccDf[\"subset_acc\"].values, 0.25)\n",
    "thirdQuarter = np.quantile(caseAccDf[\"subset_acc\"].values, 0.75)\n",
    "\n",
    "fig = px.histogram(caseAccDf, x=\"subset_acc\")\n",
    "fig.add_vline(x=meanVal, line_width=2, line_color=\"red\")\n",
    "# fig.add_vline(x=medianVal, line_width=2, line_color=\"blue\")\n",
    "fig.add_vline(x=firstQuarter, line_width=2, line_color=\"orange\")\n",
    "fig.add_vline(x=thirdQuarter, line_width=2, line_color=\"green\")\n",
    "\n",
    "fig.update_layout(\n",
    "    xaxis = dict(\n",
    "        tickmode = 'array',\n",
    "        tickvals = [meanVal, firstQuarter, thirdQuarter],\n",
    "    )\n",
    ")"
   ]
  },
  {
   "cell_type": "code",
   "execution_count": 34,
   "metadata": {},
   "outputs": [
    {
     "data": {
      "text/plain": [
       "0.7121747884882899"
      ]
     },
     "execution_count": 34,
     "metadata": {},
     "output_type": "execute_result"
    }
   ],
   "source": [
    "corr = partEvalMetrics[\"tp\"].corr(partEvalMetrics[\"gt_pos_ratio\"])\n",
    "corr"
   ]
  },
  {
   "cell_type": "code",
   "execution_count": 35,
   "metadata": {},
   "outputs": [
    {
     "data": {
      "text/plain": [
       "-0.8024434547755339"
      ]
     },
     "execution_count": 35,
     "metadata": {},
     "output_type": "execute_result"
    }
   ],
   "source": [
    "corr = partEvalMetrics[\"tn\"].corr(partEvalMetrics[\"gt_pos_ratio\"])\n",
    "corr"
   ]
  },
  {
   "cell_type": "code",
   "execution_count": 36,
   "metadata": {},
   "outputs": [
    {
     "data": {
      "text/plain": [
       "-0.13941129294114"
      ]
     },
     "execution_count": 36,
     "metadata": {},
     "output_type": "execute_result"
    }
   ],
   "source": [
    "corr = partEvalMetrics[\"acc\"].corr(partEvalMetrics[\"gt_pos_ratio\"])\n",
    "corr"
   ]
  },
  {
   "cell_type": "code",
   "execution_count": null,
   "metadata": {},
   "outputs": [],
   "source": []
  }
 ],
 "metadata": {
  "kernelspec": {
   "display_name": "work",
   "language": "python",
   "name": "python3"
  },
  "language_info": {
   "codemirror_mode": {
    "name": "ipython",
    "version": 3
   },
   "file_extension": ".py",
   "mimetype": "text/x-python",
   "name": "python",
   "nbconvert_exporter": "python",
   "pygments_lexer": "ipython3",
   "version": "3.10.8 (main, Nov 24 2022, 14:13:03) [GCC 11.2.0]"
  },
  "orig_nbformat": 4,
  "vscode": {
   "interpreter": {
    "hash": "0e8f33c5a67865e6aadcd232beb3e2644a1f224e780847feacdefa5e710f41d5"
   }
  }
 },
 "nbformat": 4,
 "nbformat_minor": 2
}
