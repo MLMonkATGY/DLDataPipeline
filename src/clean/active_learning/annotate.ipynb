{
 "cells": [
  {
   "cell_type": "code",
   "execution_count": 7,
   "metadata": {},
   "outputs": [],
   "source": [
    "import pandas as pd\n",
    "import pigeonXT as pixt\n",
    "\n",
    "from IPython.display import display, Image\n"
   ]
  },
  {
   "cell_type": "code",
   "execution_count": 8,
   "metadata": {},
   "outputs": [
    {
     "data": {
      "application/vnd.jupyter.widget-view+json": {
       "model_id": "9cbe99ee08624499b13dcb78fbe8781e",
       "version_major": 2,
       "version_minor": 0
      },
      "text/plain": [
       "HTML(value='0 of 2 Examples annotated, Current Position: 0 ')"
      ]
     },
     "metadata": {},
     "output_type": "display_data"
    },
    {
     "data": {
      "application/vnd.jupyter.widget-view+json": {
       "model_id": "1a86a96debd043f4b7eadfa091df0694",
       "version_major": 2,
       "version_minor": 0
      },
      "text/plain": [
       "VBox(children=(HBox(children=(Button(description='cat', style=ButtonStyle()), Button(description='dog', style=…"
      ]
     },
     "metadata": {},
     "output_type": "display_data"
    },
    {
     "data": {
      "application/vnd.jupyter.widget-view+json": {
       "model_id": "67db29e5e37f4a0485926376a07c3e2f",
       "version_major": 2,
       "version_minor": 0
      },
      "text/plain": [
       "Output()"
      ]
     },
     "metadata": {},
     "output_type": "display_data"
    },
    {
     "name": "stdout",
     "output_type": "stream",
     "text": [
      "Annotation done.\n",
      "                                             example  changed label\n",
      "0  /home/alextay96/Desktop/all_workspace/new_work...     True   cat\n",
      "1  /home/alextay96/Desktop/all_workspace/new_work...     True   dog\n"
     ]
    }
   ],
   "source": [
    "\n",
    "annotations = pixt.annotate(\n",
    "      ['/home/alextay96/Desktop/all_workspace/new_workspace/DLDataPipeline/data/al/bumper_rear/v1/dmg/10000450_437321873.JPG', \n",
    "      \n",
    "      \n",
    "      '/home/alextay96/Desktop/all_workspace/new_workspace/DLDataPipeline/data/al/bumper_rear/v1/dmg/10006232_437661491.JPG'],\n",
    "      options=['cat', 'dog', 'horse'],\n",
    "      display_fn=lambda filename: display(Image(filename)),\n",
    "      final_process_fn=lambda x : x.to_csv(\"labels.csv\")\n",
    "    )"
   ]
  }
 ],
 "metadata": {
  "kernelspec": {
   "display_name": "work",
   "language": "python",
   "name": "python3"
  },
  "language_info": {
   "codemirror_mode": {
    "name": "ipython",
    "version": 3
   },
   "file_extension": ".py",
   "mimetype": "text/x-python",
   "name": "python",
   "nbconvert_exporter": "python",
   "pygments_lexer": "ipython3",
   "version": "3.10.8"
  },
  "orig_nbformat": 4,
  "vscode": {
   "interpreter": {
    "hash": "0e8f33c5a67865e6aadcd232beb3e2644a1f224e780847feacdefa5e710f41d5"
   }
  }
 },
 "nbformat": 4,
 "nbformat_minor": 2
}
