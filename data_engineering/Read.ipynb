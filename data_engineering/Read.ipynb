{
 "cells": [
  {
   "cell_type": "code",
   "execution_count": 20,
   "metadata": {},
   "outputs": [],
   "source": [
    "import awswrangler as wr\n",
    "import pandas as pd\n",
    "from datetime import datetime\n",
    "my_filter = lambda x: x[\"StdDocDesc\"] == \"Front View\"\n",
    "\n",
    "wr.config.s3_endpoint_url = \"http://192.168.1.4:8333\"\n",
    "bucket = \"tmp_part\"\n",
    "a = wr.s3.read_parquet(f\"s3://{bucket}/\",  dataset=True)\n"
   ]
  },
  {
   "cell_type": "code",
   "execution_count": 21,
   "metadata": {},
   "outputs": [
    {
     "data": {
      "text/plain": [
       "['CaseID',\n",
       " 'CoType',\n",
       " 'iDPTID',\n",
       " 'PartNo',\n",
       " 'PartGroup',\n",
       " 'PartRefCode',\n",
       " 'CatRefCode',\n",
       " 'Description',\n",
       " 'AddDescription',\n",
       " 'Comments',\n",
       " 'DamageCond',\n",
       " 'Quantity',\n",
       " 'fFDB',\n",
       " 'siNETTDB',\n",
       " 'fVAL',\n",
       " 'siPINS']"
      ]
     },
     "execution_count": 21,
     "metadata": {},
     "output_type": "execute_result"
    }
   ],
   "source": [
    "a.columns.tolist()\n"
   ]
  },
  {
   "cell_type": "code",
   "execution_count": null,
   "metadata": {},
   "outputs": [],
   "source": []
  }
 ],
 "metadata": {
  "kernelspec": {
   "display_name": "Python 3.10.6 ('work')",
   "language": "python",
   "name": "python3"
  },
  "language_info": {
   "codemirror_mode": {
    "name": "ipython",
    "version": 3
   },
   "file_extension": ".py",
   "mimetype": "text/x-python",
   "name": "python",
   "nbconvert_exporter": "python",
   "pygments_lexer": "ipython3",
   "version": "3.10.6"
  },
  "orig_nbformat": 4,
  "vscode": {
   "interpreter": {
    "hash": "0e8f33c5a67865e6aadcd232beb3e2644a1f224e780847feacdefa5e710f41d5"
   }
  }
 },
 "nbformat": 4,
 "nbformat_minor": 2
}
